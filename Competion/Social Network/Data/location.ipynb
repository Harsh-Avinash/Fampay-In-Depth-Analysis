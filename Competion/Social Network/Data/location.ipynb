{
 "cells": [
  {
   "cell_type": "code",
   "execution_count": null,
   "metadata": {},
   "outputs": [],
   "source": [
    "import instaloader\n",
    "import pandas\n",
    "import csv\n",
    "\n",
    "username = 'HA_Scrapper'\n",
    "password = 'Disturbuteablepassword'\n",
    "\n",
    "# Initialize Instaloader\n",
    "L = instaloader.Instaloader()\n",
    "\n",
    "# Login to Instagram\n",
    "L.context.username = username\n",
    "L.context.password = password\n",
    "L.login(username, password)"
   ]
  },
  {
   "cell_type": "code",
   "execution_count": null,
   "metadata": {},
   "outputs": [],
   "source": [
    "# Load your CSV of Instagram user IDs into a list\n",
    "with open('user_ids.csv', 'r') as f:\n",
    "    reader = csv.reader(f)\n",
    "    user_ids = list(reader)"
   ]
  },
  {
   "cell_type": "code",
   "execution_count": null,
   "metadata": {},
   "outputs": [],
   "source": [
    "# Dataframes for the required data\n",
    "df_location = pandas.DataFrame(columns=['insta_id', 'post_shortcode', 'location'])\n",
    "df_profile_info = pandas.DataFrame(columns=['insta_id', 'is_private', 'follower_count'])"
   ]
  },
  {
   "cell_type": "code",
   "execution_count": null,
   "metadata": {},
   "outputs": [],
   "source": [
    "# Iterate over the Instagram user IDs\n",
    "for i, user_id in enumerate(user_ids):\n",
    "    profile = instaloader.Profile.from_id(L.context, int(user_id[0]))\n",
    "\n",
    "    # Saving profile info\n",
    "    df_profile_info = df_profile_info.append({'insta_id': user_id[0], 'is_private': profile.is_private, 'follower_count': profile.followers}, ignore_index=True)  # type: ignore\n",
    "    print(f'Processed {i+1}/{len(user_ids)} profiles. Added {user_id[0]} to profile_info DataFrame.')\n",
    "    \n",
    "    # If profile is public\n",
    "    if not profile.is_private:\n",
    "        # Get the last 5 posts\n",
    "        for post in profile.get_posts()[:5]:\n",
    "            # Check if the post has a location\n",
    "            if post.location:\n",
    "                # If location is in India\n",
    "                if 'India' in post.location.name:\n",
    "                    df_location = df_location.append({'insta_id': user_id[0], 'post_shortcode': post.shortcode, 'location': post.location.name}, ignore_index=True)  # type: ignore\n",
    "                    print(f'Added a post from {user_id[0]} with location in India to location_data DataFrame.')"
   ]
  },
  {
   "cell_type": "code",
   "execution_count": null,
   "metadata": {},
   "outputs": [],
   "source": [
    "# Save dataframes to CSV\n",
    "df_location.to_csv('location_data.csv')\n",
    "df_profile_info.to_csv('profile_info.csv')"
   ]
  }
 ],
 "metadata": {
  "language_info": {
   "name": "python"
  },
  "orig_nbformat": 4
 },
 "nbformat": 4,
 "nbformat_minor": 2
}
