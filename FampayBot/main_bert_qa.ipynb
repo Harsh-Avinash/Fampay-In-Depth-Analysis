{
 "cells": [
  {
   "cell_type": "code",
   "execution_count": 16,
   "metadata": {},
   "outputs": [],
   "source": [
    "from transformers import BertForQuestionAnswering, BertTokenizer"
   ]
  },
  {
   "cell_type": "code",
   "execution_count": 17,
   "metadata": {},
   "outputs": [],
   "source": [
    "def chatbot(text, question):\n",
    "    model_name = \"bert-large-uncased-whole-word-masking-finetuned-squad\"\n",
    "    tokenizer = BertTokenizer.from_pretrained(model_name)\n",
    "    model = BertForQuestionAnswering.from_pretrained(model_name)\n",
    "\n",
    "    input_ids = tokenizer.encode(question, text)\n",
    "    tokens = tokenizer.convert_ids_to_tokens(input_ids)\n",
    "\n",
    "    # Search the input_ids for the first instance of the `[SEP]` token.\n",
    "    sep_index = input_ids.index(tokenizer.sep_token_id)\n",
    "\n",
    "    # The number of segment A tokens includes the [SEP] token itself.\n",
    "    num_seg_a = sep_index + 1\n",
    "\n",
    "    # The remainder are segment B.\n",
    "    num_seg_b = len(input_ids) - num_seg_a\n",
    "\n",
    "    # Construct the list of 0s and 1s.\n",
    "    segment_ids = [0] * num_seg_a + [1] * num_seg_b\n",
    "\n",
    "    # Run the model.\n",
    "    outputs = model(torch.tensor([input_ids]), token_type_ids=torch.tensor([segment_ids]))\n",
    "    start_score, end_score = outputs.start_logits, outputs.end_logits\n",
    "\n",
    "    # Find the tokens with the highest `start` and `end` scores.\n",
    "    answer_start = torch.argmax(start_score)\n",
    "    answer_end = torch.argmax(end_score)\n",
    "\n",
    "    # Get the string versions of the input tokens.\n",
    "    tokens = tokenizer.convert_ids_to_tokens(input_ids)\n",
    "\n",
    "    # Join the tokens to create the answer string.\n",
    "    answer = ' '.join(tokens[answer_start:answer_end + 1])\n",
    "\n",
    "    # Remove special tokens and extra spaces.\n",
    "    answer = answer.replace('[CLS]', '').replace('[SEP]', '').replace(' ##', '').strip()\n",
    "\n",
    "    return answer"
   ]
  },
  {
   "cell_type": "code",
   "execution_count": 22,
   "metadata": {},
   "outputs": [
    {
     "name": "stdout",
     "output_type": "stream",
     "text": [
      "product b\n"
     ]
    }
   ],
   "source": [
    "# Example usage:\n",
    "text = \"\"\"Your company offers various products such as Product A, Product B, and Product C.\n",
    "Product A has a battery life of 10 hours and is waterproof.\n",
    "Product B has a battery life of 8 hours and is not waterproof.\n",
    "Product C has a battery life of 12 hours and is waterproof.\"\"\"\n",
    "\n",
    "question = \"Which product runs more than 7 hours\"\n",
    "answer = chatbot(text, question)\n",
    "print(answer)"
   ]
  },
  {
   "cell_type": "code",
   "execution_count": 23,
   "metadata": {},
   "outputs": [
    {
     "data": {
      "text/plain": [
       "2201"
      ]
     },
     "execution_count": 23,
     "metadata": {},
     "output_type": "execute_result"
    }
   ],
   "source": [
    "len(input())"
   ]
  },
  {
   "cell_type": "code",
   "execution_count": null,
   "metadata": {},
   "outputs": [],
   "source": []
  }
 ],
 "metadata": {
  "kernelspec": {
   "display_name": "base",
   "language": "python",
   "name": "python3"
  },
  "language_info": {
   "codemirror_mode": {
    "name": "ipython",
    "version": 3
   },
   "file_extension": ".py",
   "mimetype": "text/x-python",
   "name": "python",
   "nbconvert_exporter": "python",
   "pygments_lexer": "ipython3",
   "version": "3.10.9"
  },
  "orig_nbformat": 4
 },
 "nbformat": 4,
 "nbformat_minor": 2
}
