{
 "cells": [
  {
   "cell_type": "code",
   "execution_count": 60,
   "metadata": {},
   "outputs": [],
   "source": [
    "from transformers import pipeline, set_seed\n",
    "generator = pipeline('text-generation', model='gpt2')\n",
    "set_seed(42)"
   ]
  },
  {
   "cell_type": "code",
   "execution_count": 61,
   "metadata": {},
   "outputs": [],
   "source": [
    "# open the file and read it into a variable\n",
    "with open('context.txt', 'r') as file:\n",
    "    context = file.read()"
   ]
  },
  {
   "cell_type": "code",
   "execution_count": 62,
   "metadata": {},
   "outputs": [
    {
     "name": "stderr",
     "output_type": "stream",
     "text": [
      "c:\\ProgramData\\anaconda3\\lib\\site-packages\\transformers\\generation\\utils.py:1201: UserWarning: You have modified the pretrained model configuration to control generation. This is a deprecated strategy to control generation and will be removed soon, in a future version. Please use a generation configuration file (see https://huggingface.co/docs/transformers/main_classes/text_generation)\n",
      "  warnings.warn(\n",
      "Setting `pad_token_id` to `eos_token_id`:50256 for open-end generation.\n"
     ]
    },
    {
     "name": "stdout",
     "output_type": "stream",
     "text": [
      "What is fampay?\n"
     ]
    }
   ],
   "source": [
    "context = \"One account for all your spendsGet a card & UPI linked to your FamX accountPayments that are quick, easy & accepted everywhereEasily track and keep your expenses in checkKeep your bank statements clean & clutter-freeFamCardYour first and forever accountMake payments without a bank accountGet a customised UPI & card as a teenOpen for everyone ages 11+ upiUPI payments that go through in secondsScan & Pay anywhere with your customised UPI IDChoose from a range of fun QR themesRecharge, pay bills and shop online, all within the app.\\n\"\n",
    "\n",
    "question = input(\"Enter your question: \")\n",
    "print(question)\n",
    "input_text = context + question\n",
    "\n",
    "runner = generator(input_text, max_length=300, num_return_sequences=1)"
   ]
  },
  {
   "cell_type": "code",
   "execution_count": 63,
   "metadata": {},
   "outputs": [
    {
     "data": {
      "text/plain": [
       "[{'generated_text': 'One account for all your spendsGet a card & UPI linked to your FamX accountPayments that are quick, easy & accepted everywhereEasily track and keep your expenses in checkKeep your bank statements clean & clutter-freeFamCardYour first and forever accountMake payments without a bank accountGet a customised UPI & card as a teenOpen for everyone ages 11+ upiUPI payments that go through in secondsScan & Pay anywhere with your customised UPI IDChoose from a range of fun QR themesRecharge, pay bills and shop online, all within the app\\nWhat is fampay?'}]"
      ]
     },
     "execution_count": 63,
     "metadata": {},
     "output_type": "execute_result"
    }
   ],
   "source": [
    "runner"
   ]
  },
  {
   "cell_type": "code",
   "execution_count": 64,
   "metadata": {},
   "outputs": [
    {
     "data": {
      "text/plain": [
       "''"
      ]
     },
     "execution_count": 64,
     "metadata": {},
     "output_type": "execute_result"
    }
   ],
   "source": [
    "# remove the input text from the generated text\n",
    "str"
   ]
  },
  {
   "cell_type": "code",
   "execution_count": 65,
   "metadata": {},
   "outputs": [],
   "source": [
    "# len(input())"
   ]
  },
  {
   "cell_type": "code",
   "execution_count": null,
   "metadata": {},
   "outputs": [],
   "source": []
  }
 ],
 "metadata": {
  "kernelspec": {
   "display_name": "base",
   "language": "python",
   "name": "python3"
  },
  "language_info": {
   "codemirror_mode": {
    "name": "ipython",
    "version": 3
   },
   "file_extension": ".py",
   "mimetype": "text/x-python",
   "name": "python",
   "nbconvert_exporter": "python",
   "pygments_lexer": "ipython3",
   "version": "3.10.9"
  },
  "orig_nbformat": 4
 },
 "nbformat": 4,
 "nbformat_minor": 2
}
