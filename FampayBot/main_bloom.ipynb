{
 "cells": [
  {
   "cell_type": "code",
   "execution_count": 1,
   "metadata": {},
   "outputs": [
    {
     "name": "stderr",
     "output_type": "stream",
     "text": [
      "c:\\ProgramData\\anaconda3\\lib\\site-packages\\transformers\\models\\auto\\modeling_auto.py:1295: FutureWarning: The class `AutoModelWithLMHead` is deprecated and will be removed in a future version. Please use `AutoModelForCausalLM` for causal language models, `AutoModelForMaskedLM` for masked language models and `AutoModelForSeq2SeqLM` for encoder-decoder models.\n",
      "  warnings.warn(\n"
     ]
    }
   ],
   "source": [
    "# Load the bigscience/bloomz-1b1 model and tokenizer from the Hugging Face library\n",
    "from transformers import AutoModelWithLMHead, AutoTokenizer\n",
    "tokenizer = AutoTokenizer.from_pretrained(\"bigscience/bloomz-1b1\")\n",
    "model = AutoModelWithLMHead.from_pretrained(\"bigscience/bloomz-1b1\")"
   ]
  },
  {
   "cell_type": "code",
   "execution_count": 12,
   "metadata": {},
   "outputs": [],
   "source": [
    "# read context from context.txt and save it to input_text\n",
    "\n",
    "with open('context.txt', 'r') as file:\n",
    "    input_text = file.read()\n",
    "    file = input_text"
   ]
  },
  {
   "cell_type": "code",
   "execution_count": 13,
   "metadata": {},
   "outputs": [
    {
     "name": "stdout",
     "output_type": "stream",
     "text": [
      "You:  What are the features?\n",
      "Fambot:  UPI payments that are processed in seconds, with customized UPI IDs and a range of fun QR themes.</s>\n",
      "You:  Can I also buy drugs with this?\n",
      "Fambot:  no</s>\n",
      "You:  Why not?\n",
      "Fambot:  The only thing that is wrong with this is that it is a bit too much.</s>\n"
     ]
    }
   ],
   "source": [
    "for i in range(3):\n",
    "    question = input(\"Ask a question: \")\n",
    "    print(\"You: \", question)\n",
    "\n",
    "    full_text = input_text + \"\\n\" +question\n",
    "\n",
    "    input_ids = tokenizer.encode(full_text, return_tensors='pt')\n",
    "    outputs = model.generate(input_ids, max_length=1500)\n",
    "\n",
    "    # Decode the model's response and display it on the screen\n",
    "    response = tokenizer.decode(outputs[0])\n",
    "    answer = \"Fambot: \" + response.replace(full_text, '')\n",
    "    answer.replace(\"</s>\", \"\")\n",
    "\n",
    "    print(answer)\n",
    "\n",
    "    input_text = full_text + \"\\n\" + answer\n",
    "\n",
    "input_text = file"
   ]
  },
  {
   "cell_type": "code",
   "execution_count": 11,
   "metadata": {},
   "outputs": [
    {
     "data": {
      "text/plain": [
       "\"Fam, formerly known as FamPay, has launched India's first-ever doodle card for teens called FamX, which is designed to provide financial inclusion for the next generation. FamX is a spending account made for everyone, including teens, adults, and anyone aged 11 and above. The platform has over 10 million registered users and is powered by Trio, Visa, Rupay, and UPI.\\n\\nFamX account allows users to get a card and UPI linked to their account for quick and easy payments that are accepted everywhere. Users can easily track and manage their expenses, keeping their bank statements clean and clutter-free.\\n\\nFeatures of FamX include:\\n\\nUPI payments that are processed in seconds, with customized UPI IDs and a range of fun QR themes.\\nCashback, FamCoins, discounts, and offers from top brands, along with opportunities to win big through spinners and giveaways.\\nA numberless card that keeps users' information safe, offering quick and secure Tap & Pay payments, custom doodle designs, and ATM withdrawal options.\\nFamX also offers memberships tailored to users' needs, and the support team is available 24/7 for assistance. The platform has received backing from several well-known investors, including Elevation Capital, Sequoia, Venture Highway, General Catalyst, Y Combinator, Global Founders Capital, Rocketship VC, and GreenOaks.\\n\\nFam is currently hiring and invites individuals who want to shape finance for the next generation to join their team. The company offers various resources, including FAQs, a blog, and press information. Fam's services are protected by privacy policies and terms and conditions for both FamPay-IDFC and FamX-Trio. They are also active on multiple social media platforms.What is this?\\nFamBot: Fam, formerly known as FamPay, has launched India's first-ever doodle card for teens called FamX, which is designed to provide financial inclusion for the next generation. FamX is a spending account made for everyone, including teens, adults, and anyone aged 11 and above. The platform has over 10 million registered users and is powered by Trio, Visa, Rupay, and UPI.\\n\\nFamX account allows users to get a card and UPI linked to their account for quick and easy payments that are accepted everywhere. Users can easily track and manage their expenses, keeping their bank statements clean and clutter-free.\\n\\nFeatures of FamX include:\\n\\nUPI payments that are processed in seconds, with customized UPI IDs and a range of fun QR themes.\\nCashback, FamCoins, discounts, and offers from top brands, along with opportunities to win big through spinners and giveaways.\\nA numberless card that keeps users' information safe, offering quick and secure Tap & Pay payments, custom doodle designs, and ATM withdrawal options.\\nFamX also offers memberships tailored to users' needs, and the support team is available 24/7 for assistance. The platform has received backing from several well-known investors, including Elevation Capital, Sequoia, Venture Highway, General Catalyst, Y Combinator, Global Founders Capital, Rocketship VC, and GreenOaks.\\n\\nFam is currently hiring and invites individuals who want to shape finance for the next generation to join their team. The company offers various resources, including FAQs, a blog, and press information. Fam's services are protected by privacy policies and terms and conditions for both FamPay-IDFC and FamX-Trio. They are also active on multiple social media platforms.What is this? FamPay</s>What is it about?\\nFamBot: Fam, formerly known as FamPay, has launched India's first-ever doodle card for teens called FamX, which is designed to provide financial inclusion for the next generation. FamX is a spending account made for everyone, including teens, adults, and anyone aged 11 and above. The platform has over 10 million registered users and is powered by Trio, Visa, Rupay, and UPI.\\n\\nFamX account allows users to get a card and UPI linked to their account for quick and easy payments that are accepted everywhere. Users can easily track and manage their expenses, keeping their bank statements clean and clutter-free.\\n\\nFeatures of FamX include:\\n\\nUPI payments that are processed in seconds, with customized UPI IDs and a range of fun QR themes.\\nCashback, FamCoins, discounts, and offers from top brands, along with opportunities to win big through spinners and giveaways.\\nA numberless card that keeps users' information safe, offering quick and secure Tap & Pay payments, custom doodle designs, and ATM withdrawal options.\\nFamX also offers memberships tailored to users' needs, and the support team is available 24/7 for assistance. The platform has received backing from several well-known investors, including Elevation Capital, Sequoia, Venture Highway, General Catalyst, Y Combinator, Global Founders Capital, Rocketship VC, and GreenOaks.\\n\\nFam is currently hiring and invites individuals who want to shape finance for the next generation to join their team. The company offers various resources, including FAQs, a blog, and press information. Fam's services are protected by privacy policies and terms and conditions for both FamPay-IDFC and FamX-Trio. They are also active on multiple social media platforms.What is this?\\nFamBot: Fam, formerly known as FamPay, has launched India's first-ever doodle card for teens called FamX, which is designed to provide financial inclusion for the next generation. FamX is a spending account made for everyone, including teens, adults, and anyone aged 11 and above. The platform has over 10 million registered users and is powered by Trio, Visa, Rupay, and UPI.\\n\\nFamX account allows users to get a card and UPI linked to their account for quick and easy payments that are accepted everywhere. Users can easily track and manage their expenses, keeping their bank statements clean and clutter-free.\\n\\nFeatures of FamX include:\\n\\nUPI payments that are processed in seconds, with customized UPI IDs and a range of fun QR themes.\\nCashback, FamCoins, discounts, and offers from top brands, along with opportunities to win big through spinners and giveaways.\\nA numberless card that keeps users' information safe, offering quick and secure Tap & Pay payments, custom doodle designs, and ATM withdrawal options.\\nFamX also offers memberships tailored to users' needs, and the support team is available 24/7 for assistance. The platform has received backing from several well-known investors, including Elevation Capital, Sequoia, Venture Highway, General Catalyst, Y Combinator, Global Founders Capital, Rocketship VC, and GreenOaks.\\n\\nFam is currently hiring and invites individuals who want to shape finance for the next generation to join their team. The company offers various resources, including FAQs, a blog, and press information. Fam's services are protected by privacy policies and terms and conditions for both FamPay-IDFC and FamX-Trio. They are also active on multiple social media platforms.What is this? FamPay</s>What is it about? Religion</s>Can I a 4 year old use the app? No\""
      ]
     },
     "execution_count": 11,
     "metadata": {},
     "output_type": "execute_result"
    }
   ],
   "source": [
    "tokenizer.decode(outputs[0])"
   ]
  },
  {
   "cell_type": "code",
   "execution_count": null,
   "metadata": {},
   "outputs": [
    {
     "name": "stdout",
     "output_type": "stream",
     "text": [
      "FamBot: One account for all your spendsGet a card & UPI linked to your FamX account Payments that are quick, easy & accepted everywhereEasily track and keep your expenses in checkKeep your bank statements clean & clutter-freeFamCard Your first and forever accountMake payments without a bank accountGet a customised UPI & card as a teen Open for everyone ages 11+ upi UPI payments that go through in seconds Scan & Pay anywhere with your customised UPI ID Choose from a range of fun QR themesRecharge, pay bills and shop online, all within the app. What is this app?\n",
      " FamX</s>what?\n",
      "</s>How does it work?\n"
     ]
    }
   ],
   "source": [
    "response = full_text.replace(input_text, '')\n",
    "print(response)"
   ]
  },
  {
   "cell_type": "code",
   "execution_count": null,
   "metadata": {},
   "outputs": [],
   "source": []
  }
 ],
 "metadata": {
  "kernelspec": {
   "display_name": "base",
   "language": "python",
   "name": "python3"
  },
  "language_info": {
   "codemirror_mode": {
    "name": "ipython",
    "version": 3
   },
   "file_extension": ".py",
   "mimetype": "text/x-python",
   "name": "python",
   "nbconvert_exporter": "python",
   "pygments_lexer": "ipython3",
   "version": "3.10.9"
  },
  "orig_nbformat": 4
 },
 "nbformat": 4,
 "nbformat_minor": 2
}
