{
 "cells": [
  {
   "cell_type": "code",
   "execution_count": 1,
   "metadata": {},
   "outputs": [
    {
     "name": "stderr",
     "output_type": "stream",
     "text": [
      "c:\\ProgramData\\anaconda3\\lib\\site-packages\\transformers\\models\\auto\\modeling_auto.py:1295: FutureWarning: The class `AutoModelWithLMHead` is deprecated and will be removed in a future version. Please use `AutoModelForCausalLM` for causal language models, `AutoModelForMaskedLM` for masked language models and `AutoModelForSeq2SeqLM` for encoder-decoder models.\n",
      "  warnings.warn(\n"
     ]
    }
   ],
   "source": [
    "# Load the bigscience/bloomz-1b1 model and tokenizer from the Hugging Face library\n",
    "from transformers import AutoModelWithLMHead, AutoTokenizer\n",
    "\n",
    "tokenizer = AutoTokenizer.from_pretrained(\"bigscience/bloomz-1b1\")\n",
    "model = AutoModelWithLMHead.from_pretrained(\"bigscience/bloomz-1b1\")"
   ]
  },
  {
   "cell_type": "code",
   "execution_count": 6,
   "metadata": {},
   "outputs": [],
   "source": [
    "# read context from context.txt and save it to input_text\n",
    "\n",
    "with open('context.txt', 'r') as file:\n",
    "    input_text = file.read()\n",
    "    file = input_text"
   ]
  },
  {
   "cell_type": "code",
   "execution_count": 8,
   "metadata": {},
   "outputs": [
    {
     "name": "stdout",
     "output_type": "stream",
     "text": [
      "You:  What age can I make an account?\n",
      "Fambot:  11 and above</s>\n"
     ]
    }
   ],
   "source": [
    "question = input(\"Ask a question: \")\n",
    "print(\"You: \", question)\n",
    "\n",
    "full_text = input_text + \"\\n\" + question + \"\\n\" + \"Fambot: \"\n",
    "\n",
    "input_ids = tokenizer.encode(full_text, return_tensors='pt')\n",
    "outputs = model.generate(input_ids, max_length=1500)\n",
    "\n",
    "# Decode the model's response and display it on the screen\n",
    "response = tokenizer.decode(outputs[0])\n",
    "answer = \"Fambot: \" + response.replace(full_text, '')\n",
    "answer.replace(\"</s>\", \"\")\n",
    "\n",
    "print(answer)\n",
    "\n",
    "input_text = full_text + \"\\n\" + answer"
   ]
  }
 ],
 "metadata": {
  "kernelspec": {
   "display_name": "base",
   "language": "python",
   "name": "python3"
  },
  "language_info": {
   "codemirror_mode": {
    "name": "ipython",
    "version": 3
   },
   "file_extension": ".py",
   "mimetype": "text/x-python",
   "name": "python",
   "nbconvert_exporter": "python",
   "pygments_lexer": "ipython3",
   "version": "3.10.9"
  },
  "orig_nbformat": 4
 },
 "nbformat": 4,
 "nbformat_minor": 2
}
