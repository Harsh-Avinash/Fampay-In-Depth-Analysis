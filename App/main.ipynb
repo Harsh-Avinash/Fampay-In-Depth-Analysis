{
 "cells": [
  {
   "cell_type": "code",
   "execution_count": 1,
   "metadata": {},
   "outputs": [],
   "source": [
    "import csv\n",
    "import time\n",
    "from google_play_scraper import reviews\n",
    "\n",
    "app_id = 'com.fampay.in'\n",
    "lang = 'en'\n",
    "country = 'in'"
   ]
  },
  {
   "cell_type": "code",
   "execution_count": 2,
   "metadata": {},
   "outputs": [],
   "source": [
    "def count_csv(path):\n",
    "    with open(path, 'r') as f:\n",
    "        reader = csv.reader(f)\n",
    "        return sum(1 for row in reader)"
   ]
  },
  {
   "cell_type": "code",
   "execution_count": 3,
   "metadata": {},
   "outputs": [],
   "source": [
    "types = [1, 2, 3, 4, 5]"
   ]
  },
  {
   "cell_type": "code",
   "execution_count": 5,
   "metadata": {},
   "outputs": [
    {
     "name": "stdout",
     "output_type": "stream",
     "text": [
      "1 star reviews\n",
      "Going dark for 5 seconds, see you soon, 1000 reviews fetched so far\n",
      "I'm back\n",
      "Going dark for 5 seconds, see you soon, 2000 reviews fetched so far\n",
      "I'm back\n",
      "Going dark for 5 seconds, see you soon, 3000 reviews fetched so far\n"
     ]
    }
   ],
   "source": [
    "for i in types:\n",
    "    print(i,\"star reviews\")\n",
    "    def get_reviews(app_id, lang, country, token=None):\n",
    "        result, continuation_token = reviews(\n",
    "            app_id,\n",
    "            lang=lang,\n",
    "            country=country,\n",
    "            count=1000,\n",
    "            sort=2,  # Sort by most relevant\n",
    "            filter_score_with=i,  # Filter one-star reviews\n",
    "            continuation_token=token # type: ignore\n",
    "        )\n",
    "        return result, continuation_token\n",
    "\n",
    "    # Fetch one-star reviews in batches and save them to a CSV file\n",
    "\n",
    "    file_name = \"app_reviews_\"+str(i)+\".csv\"\n",
    "\n",
    "    with open(file_name, 'w', newline='', encoding='utf-8') as csvfile:\n",
    "        fieldnames = ['reviewId', 'userName', 'userImage', 'content', 'score', 'thumbsUpCount', 'reviewCreatedVersion', 'at', 'replyContent', 'repliedAt']\n",
    "        writer = csv.DictWriter(csvfile, fieldnames=fieldnames)\n",
    "\n",
    "        writer.writeheader()\n",
    "        \n",
    "        token = None\n",
    "        review_count = 0\n",
    "\n",
    "        while review_count < 100000:  # Change this to the desired number of reviews\n",
    "            reviews_batch, token = get_reviews(app_id, lang, country, token)\n",
    "            if not reviews_batch:\n",
    "                break  # Break if there are no more reviews\n",
    "\n",
    "            for review in reviews_batch:\n",
    "                writer.writerow(review)\n",
    "                review_count += 1\n",
    "\n",
    "            print(\"Going dark for 5 seconds, see you soon,\", review_count, \"reviews fetched so far\")\n",
    "            time.sleep(5)  # Sleep for 60 seconds between requests\n",
    "            print(\"I'm back\")"
   ]
  },
  {
   "cell_type": "code",
   "execution_count": null,
   "metadata": {},
   "outputs": [],
   "source": []
  }
 ],
 "metadata": {
  "kernelspec": {
   "display_name": "base",
   "language": "python",
   "name": "python3"
  },
  "language_info": {
   "codemirror_mode": {
    "name": "ipython",
    "version": 3
   },
   "file_extension": ".py",
   "mimetype": "text/x-python",
   "name": "python",
   "nbconvert_exporter": "python",
   "pygments_lexer": "ipython3",
   "version": "3.10.9"
  },
  "orig_nbformat": 4
 },
 "nbformat": 4,
 "nbformat_minor": 2
}
