{
 "cells": [
  {
   "cell_type": "code",
   "execution_count": 14,
   "metadata": {},
   "outputs": [],
   "source": [
    "# given the link https://www.google.com/search?q=%22fampay%22+filetype%3Apdf&sxsrf=APwXEdejGtH-ffFN2mqXCjZrFl4WuYxgQQ%3A1680890975788&ei=X1wwZIukL9fh4-EP06KFcA&ved=0ahUKEwjLz5Hsrpj-AhXX8DgGHVNRAQ4Q4dUDCA8&uact=5&oq=%22fampay%22+filetype%3Apdf&gs_lcp=Cgxnd3Mtd2l6LXNlcnAQAzoKCAAQRxDWBBCwA0oECEEYAFCqBVj6MWDZOWgCcAB4AoABqwuIAZI8kgEJNC0xLjAuMS41mAEAoAEByAEIwAEB&sclient=gws-wiz-serp scrape the pdf links from the search results and store them in a folder named search-scrapped-pdfs\n",
    "\n",
    "# Path: Searcher\\main.ipynb\n",
    "import requests\n",
    "from bs4 import BeautifulSoup\n",
    "import os"
   ]
  },
  {
   "cell_type": "code",
   "execution_count": 1,
   "metadata": {},
   "outputs": [],
   "source": [
    "# given the link scrape all html links from the search results and scrape the pdf links from the search results and store them in a folder named search-scrapped-pdfs\n",
    "\n",
    "def pdf_scrapper(url):\n",
    "    # make a get request to the url\n",
    "    response = requests.get(url)\n",
    "    # get the html content\n",
    "    html = response.text\n",
    "    # create a soup object\n",
    "    soup = BeautifulSoup(html, \"html.parser\")\n",
    "    # find all the links\n",
    "    links = soup.find_all('a')\n",
    "    # create a list to store all the pdf links\n",
    "    pdf_links = []\n",
    "    # iterate over the links\n",
    "    for link in links:\n",
    "        # get the href attribute\n",
    "        href = link.get('href')\n",
    "        # if the href attribute contains pdf then it is a pdf link\n",
    "        if 'pdf' in href:\n",
    "            # append the pdf link to the list\n",
    "            pdf_links.append(href)\n",
    "    # return the list\n",
    "    return pdf_links\n",
    "\n",
    "def main():\n",
    "    # create a directory to store the pdfs\n",
    "    try:\n",
    "        os.mkdir('search-scrapped-pdfs')\n",
    "    except:\n",
    "        pass\n",
    "    # get the url\n",
    "    url = input('Enter the url: ')\n",
    "    # get the pdf links\n",
    "    pdf_links = pdf_scrapper(url)\n",
    "    # iterate over the pdf links\n",
    "    for pdf_link in pdf_links:\n",
    "        # get the pdf name\n",
    "        pdf_name = pdf_link.split('/')[-1]\n",
    "        # make a get request to the pdf link\n",
    "        response = requests.get(pdf_link)\n",
    "        # open the pdf file in write binary mode\n",
    "        with open(f'search-scrapped-pdfs/{pdf_name}', 'wb') as f:\n",
    "            # write the pdf content to the file\n",
    "            f.write(response.content)"
   ]
  }
 ],
 "metadata": {
  "kernelspec": {
   "display_name": "base",
   "language": "python",
   "name": "python3"
  },
  "language_info": {
   "codemirror_mode": {
    "name": "ipython",
    "version": 3
   },
   "file_extension": ".py",
   "mimetype": "text/x-python",
   "name": "python",
   "nbconvert_exporter": "python",
   "pygments_lexer": "ipython3",
   "version": "3.10.9"
  },
  "orig_nbformat": 4
 },
 "nbformat": 4,
 "nbformat_minor": 2
}
