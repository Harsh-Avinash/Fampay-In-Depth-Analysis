{
 "cells": [
  {
   "cell_type": "code",
   "execution_count": 22,
   "metadata": {},
   "outputs": [],
   "source": [
    "from bs4 import BeautifulSoup\n",
    "from selenium import webdriver\n",
    "from selenium.webdriver.common.keys import Keys\n",
    "import time\n",
    "import re"
   ]
  },
  {
   "cell_type": "code",
   "execution_count": 23,
   "metadata": {},
   "outputs": [],
   "source": [
    "scrapped = [\"https://fampay.in/press\",\n",
    "\"https://fampay.in/blog\",\n",
    "\"https://fampay.in/\",\n",
    "\"https://fampay.in/blog/\",\n",
    "\"https://fampay.in/contact\",\n",
    "\"https://famcard.me\",\n",
    "\"https://fampay.in/parent\",\n",
    "\"https://fampay.in/terms\",\n",
    "\"https://fampay.in/about\",\n",
    "\"https://fampay.in/partner\",\n",
    "\"https://fampay.in/privacy\",\n",
    "\"https://fampay.in/faqs\",\n",
    "\"https://fampay.in/careers\",\n",
    "\"https://fampay.in/friends\"]"
   ]
  },
  {
   "cell_type": "code",
   "execution_count": 24,
   "metadata": {},
   "outputs": [
    {
     "name": "stderr",
     "output_type": "stream",
     "text": [
      "C:\\Users\\Harsh Clean\\AppData\\Local\\Temp\\ipykernel_22712\\1071000555.py:8: DeprecationWarning: executable_path has been deprecated, please pass in a Service object\n",
      "  browser = webdriver.Chrome(executable_path=driver_path)\n"
     ]
    },
    {
     "ename": "NoSuchWindowException",
     "evalue": "Message: no such window: target window already closed\nfrom unknown error: web view not found\n  (Session info: chrome=112.0.5615.50)\nStacktrace:\nBacktrace:\n\tGetHandleVerifier [0x00C4DCE3+50899]\n\t(No symbol) [0x00BDE111]\n\t(No symbol) [0x00AE5588]\n\t(No symbol) [0x00ACD333]\n\t(No symbol) [0x00B2F4DB]\n\t(No symbol) [0x00B3DB33]\n\t(No symbol) [0x00B2B6F6]\n\t(No symbol) [0x00B07708]\n\t(No symbol) [0x00B0886D]\n\tGetHandleVerifier [0x00EB3EAE+2566302]\n\tGetHandleVerifier [0x00EE92B1+2784417]\n\tGetHandleVerifier [0x00EE327C+2759788]\n\tGetHandleVerifier [0x00CE5740+672048]\n\t(No symbol) [0x00BE8872]\n\t(No symbol) [0x00BE41C8]\n\t(No symbol) [0x00BE42AB]\n\t(No symbol) [0x00BD71B7]\n\tBaseThreadInitThunk [0x771A7EA9+25]\n\tRtlInitializeExceptionChain [0x77A2CF7B+107]\n\tRtlGetAppContainerNamedObjectPath [0x77A2CEFD+237]\n",
     "output_type": "error",
     "traceback": [
      "\u001b[1;31m---------------------------------------------------------------------------\u001b[0m",
      "\u001b[1;31mNoSuchWindowException\u001b[0m                     Traceback (most recent call last)",
      "Cell \u001b[1;32mIn[24], line 13\u001b[0m\n\u001b[0;32m     10\u001b[0m browser\u001b[39m.\u001b[39mget(url)\n\u001b[0;32m     12\u001b[0m \u001b[39m# Scroll down the page to load more content\u001b[39;00m\n\u001b[1;32m---> 13\u001b[0m body \u001b[39m=\u001b[39m browser\u001b[39m.\u001b[39;49mfind_element(by\u001b[39m=\u001b[39;49mwebdriver\u001b[39m.\u001b[39;49mcommon\u001b[39m.\u001b[39;49mby\u001b[39m.\u001b[39;49mBy\u001b[39m.\u001b[39;49mTAG_NAME, value\u001b[39m=\u001b[39;49m\u001b[39m\"\u001b[39;49m\u001b[39mbody\u001b[39;49m\u001b[39m\"\u001b[39;49m)\n\u001b[0;32m     14\u001b[0m \u001b[39mfor\u001b[39;00m _ \u001b[39min\u001b[39;00m \u001b[39mrange\u001b[39m(\u001b[39m20\u001b[39m):\n\u001b[0;32m     15\u001b[0m     body\u001b[39m.\u001b[39msend_keys(Keys\u001b[39m.\u001b[39mPAGE_DOWN)\n",
      "File \u001b[1;32m~\\AppData\\Roaming\\Python\\Python310\\site-packages\\selenium\\webdriver\\remote\\webdriver.py:831\u001b[0m, in \u001b[0;36mWebDriver.find_element\u001b[1;34m(self, by, value)\u001b[0m\n\u001b[0;32m    828\u001b[0m     by \u001b[39m=\u001b[39m By\u001b[39m.\u001b[39mCSS_SELECTOR\n\u001b[0;32m    829\u001b[0m     value \u001b[39m=\u001b[39m \u001b[39mf\u001b[39m\u001b[39m'\u001b[39m\u001b[39m[name=\u001b[39m\u001b[39m\"\u001b[39m\u001b[39m{\u001b[39;00mvalue\u001b[39m}\u001b[39;00m\u001b[39m\"\u001b[39m\u001b[39m]\u001b[39m\u001b[39m'\u001b[39m\n\u001b[1;32m--> 831\u001b[0m \u001b[39mreturn\u001b[39;00m \u001b[39mself\u001b[39;49m\u001b[39m.\u001b[39;49mexecute(Command\u001b[39m.\u001b[39;49mFIND_ELEMENT, {\u001b[39m\"\u001b[39;49m\u001b[39musing\u001b[39;49m\u001b[39m\"\u001b[39;49m: by, \u001b[39m\"\u001b[39;49m\u001b[39mvalue\u001b[39;49m\u001b[39m\"\u001b[39;49m: value})[\u001b[39m\"\u001b[39m\u001b[39mvalue\u001b[39m\u001b[39m\"\u001b[39m]\n",
      "File \u001b[1;32m~\\AppData\\Roaming\\Python\\Python310\\site-packages\\selenium\\webdriver\\remote\\webdriver.py:440\u001b[0m, in \u001b[0;36mWebDriver.execute\u001b[1;34m(self, driver_command, params)\u001b[0m\n\u001b[0;32m    438\u001b[0m response \u001b[39m=\u001b[39m \u001b[39mself\u001b[39m\u001b[39m.\u001b[39mcommand_executor\u001b[39m.\u001b[39mexecute(driver_command, params)\n\u001b[0;32m    439\u001b[0m \u001b[39mif\u001b[39;00m response:\n\u001b[1;32m--> 440\u001b[0m     \u001b[39mself\u001b[39;49m\u001b[39m.\u001b[39;49merror_handler\u001b[39m.\u001b[39;49mcheck_response(response)\n\u001b[0;32m    441\u001b[0m     response[\u001b[39m\"\u001b[39m\u001b[39mvalue\u001b[39m\u001b[39m\"\u001b[39m] \u001b[39m=\u001b[39m \u001b[39mself\u001b[39m\u001b[39m.\u001b[39m_unwrap_value(response\u001b[39m.\u001b[39mget(\u001b[39m\"\u001b[39m\u001b[39mvalue\u001b[39m\u001b[39m\"\u001b[39m, \u001b[39mNone\u001b[39;00m))\n\u001b[0;32m    442\u001b[0m     \u001b[39mreturn\u001b[39;00m response\n",
      "File \u001b[1;32m~\\AppData\\Roaming\\Python\\Python310\\site-packages\\selenium\\webdriver\\remote\\errorhandler.py:245\u001b[0m, in \u001b[0;36mErrorHandler.check_response\u001b[1;34m(self, response)\u001b[0m\n\u001b[0;32m    243\u001b[0m         alert_text \u001b[39m=\u001b[39m value[\u001b[39m\"\u001b[39m\u001b[39malert\u001b[39m\u001b[39m\"\u001b[39m]\u001b[39m.\u001b[39mget(\u001b[39m\"\u001b[39m\u001b[39mtext\u001b[39m\u001b[39m\"\u001b[39m)\n\u001b[0;32m    244\u001b[0m     \u001b[39mraise\u001b[39;00m exception_class(message, screen, stacktrace, alert_text)  \u001b[39m# type: ignore[call-arg]  # mypy is not smart enough here\u001b[39;00m\n\u001b[1;32m--> 245\u001b[0m \u001b[39mraise\u001b[39;00m exception_class(message, screen, stacktrace)\n",
      "\u001b[1;31mNoSuchWindowException\u001b[0m: Message: no such window: target window already closed\nfrom unknown error: web view not found\n  (Session info: chrome=112.0.5615.50)\nStacktrace:\nBacktrace:\n\tGetHandleVerifier [0x00C4DCE3+50899]\n\t(No symbol) [0x00BDE111]\n\t(No symbol) [0x00AE5588]\n\t(No symbol) [0x00ACD333]\n\t(No symbol) [0x00B2F4DB]\n\t(No symbol) [0x00B3DB33]\n\t(No symbol) [0x00B2B6F6]\n\t(No symbol) [0x00B07708]\n\t(No symbol) [0x00B0886D]\n\tGetHandleVerifier [0x00EB3EAE+2566302]\n\tGetHandleVerifier [0x00EE92B1+2784417]\n\tGetHandleVerifier [0x00EE327C+2759788]\n\tGetHandleVerifier [0x00CE5740+672048]\n\t(No symbol) [0x00BE8872]\n\t(No symbol) [0x00BE41C8]\n\t(No symbol) [0x00BE42AB]\n\t(No symbol) [0x00BD71B7]\n\tBaseThreadInitThunk [0x771A7EA9+25]\n\tRtlInitializeExceptionChain [0x77A2CF7B+107]\n\tRtlGetAppContainerNamedObjectPath [0x77A2CEFD+237]\n"
     ]
    }
   ],
   "source": [
    "\n",
    "blog_links = []\n",
    "logger = []\n",
    "\n",
    "\n",
    "driver_path = \"C:/WebDriver/chromedriver.exe\"\n",
    "browser = webdriver.Chrome(executable_path=driver_path)\n",
    "\n",
    "for link in scrapped:\n",
    "    print(\"Scrapping: \" + link)\n",
    "    url = link\n",
    "\n",
    "    browser.get(url)\n",
    "\n",
    "    # Scroll down the page to load more content\n",
    "    body = browser.find_element(by=webdriver.common.by.By.TAG_NAME, value=\"body\")\n",
    "    for _ in range(20):\n",
    "        body.send_keys(Keys.PAGE_DOWN)\n",
    "\n",
    "    html = browser.page_source\n",
    "    soup = BeautifulSoup(html, \"lxml\")\n",
    "\n",
    "    for link in soup.findAll('a', attrs={'href': re.compile(\"^\"+link)}):\n",
    "        blog_link = link.get('href')\n",
    "        if blog_link not in blog_links and blog_link != url:\n",
    "            blog_links.append(blog_link)\n",
    "\n",
    "    for link in blog_links:\n",
    "        logger.append(link)\n",
    "\n",
    "    browser.quit()\n"
   ]
  }
 ],
 "metadata": {
  "kernelspec": {
   "display_name": "base",
   "language": "python",
   "name": "python3"
  },
  "language_info": {
   "codemirror_mode": {
    "name": "ipython",
    "version": 3
   },
   "file_extension": ".py",
   "mimetype": "text/x-python",
   "name": "python",
   "nbconvert_exporter": "python",
   "pygments_lexer": "ipython3",
   "version": "3.10.9"
  },
  "orig_nbformat": 4
 },
 "nbformat": 4,
 "nbformat_minor": 2
}
