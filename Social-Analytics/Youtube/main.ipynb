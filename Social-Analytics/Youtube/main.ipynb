{
 "cells": [
  {
   "cell_type": "code",
   "execution_count": 24,
   "metadata": {},
   "outputs": [],
   "source": [
    "import googleapiclient.discovery\n",
    "import requests\n",
    "import csv\n",
    "import pandas as pd\n",
    "import plotly.express as px\n",
    "import plotly.io as pio\n",
    "from sklearn.cluster import KMeans\n",
    "import plotly.graph_objects as go\n",
    "import pandas as pd\n",
    "from sklearn.feature_extraction.text import TfidfVectorizer"
   ]
  },
  {
   "cell_type": "code",
   "execution_count": 27,
   "metadata": {},
   "outputs": [],
   "source": [
    "# Set up the YouTube API client\n",
    "api_key = \"\"\n",
    "youtube = googleapiclient.discovery.build(\"youtube\", \"v3\", developerKey=api_key)\n",
    "\n",
    "# Specify the channel custom URL\n",
    "channel_custom_url = \"https://www.youtube.com/@yougotfam\"\n",
    "\n",
    "# Extract the channel username from the custom URL\n",
    "channel_username = channel_custom_url.split(\"/\")[-1]\n",
    "\n",
    "# Search for the channel by username\n",
    "search_response = youtube.search().list(part=\"id\", q=channel_username, type=\"channel\", maxResults=1).execute()\n",
    "channel_id = search_response[\"items\"][0][\"id\"][\"channelId\"]"
   ]
  },
  {
   "cell_type": "code",
   "execution_count": 28,
   "metadata": {},
   "outputs": [
    {
     "name": "stdout",
     "output_type": "stream",
     "text": [
      "Channel name: Fam India\n",
      "Channel description: FamX by Fam, is India’s first Spending Account made for everyone.\n",
      "\n",
      "Number of subscribers: 56300\n",
      "Total number of views: 2612678\n"
     ]
    }
   ],
   "source": [
    "# retrieve the channel's metadata\n",
    "channel = youtube.channels().list(part=\"snippet,statistics\", id=channel_id).execute()[\"items\"][0]\n",
    "print(\"Channel name:\", channel[\"snippet\"][\"title\"])\n",
    "print(\"Channel description:\", channel[\"snippet\"][\"description\"])\n",
    "print(\"Number of subscribers:\", channel[\"statistics\"][\"subscriberCount\"])\n",
    "print(\"Total number of views:\", channel[\"statistics\"][\"viewCount\"])\n"
   ]
  },
  {
   "cell_type": "code",
   "execution_count": 29,
   "metadata": {},
   "outputs": [],
   "source": [
    "# retrieve the channel's videos and their metadata\n",
    "videos = []\n",
    "next_page_token = None\n",
    "while True:\n",
    "    request = youtube.search().list(part=\"id\", channelId=channel_id, maxResults=50, pageToken=next_page_token, type=\"video\")\n",
    "    response = request.execute()\n",
    "    video_ids = [item[\"id\"][\"videoId\"] for item in response[\"items\"]]\n",
    "    video_request = youtube.videos().list(part=\"snippet,statistics\", id=\",\".join(video_ids))\n",
    "    video_response = video_request.execute()\n",
    "    videos += video_response[\"items\"]\n",
    "    next_page_token = response.get(\"nextPageToken\")\n",
    "    if not next_page_token:\n",
    "        break"
   ]
  },
  {
   "cell_type": "code",
   "execution_count": 30,
   "metadata": {},
   "outputs": [
    {
     "name": "stdout",
     "output_type": "stream",
     "text": [
      "Video title: Happy Diwali 2020 | FamPay\n",
      "Video ID: hiQ4nLVbqY4\n",
      "Video URL: https://www.youtube.com/watch?v=hiQ4nLVbqY4\n",
      "Views: 2497\n",
      "Likes: 156\n",
      "Dislikes: 2020-11-14T05:05:55Z\n",
      "Comments: N/A\n",
      "Caption:\n",
      " No caption available.\n",
      "Video title: Get Featured In Tanmay Bhat’s Next Video #shorts\n",
      "Video ID: YEK2T3YLT9M\n",
      "Video URL: https://www.youtube.com/watch?v=YEK2T3YLT9M\n",
      "Views: 14725\n",
      "Likes: 786\n",
      "Dislikes: 2021-03-11T03:20:57Z\n",
      "Comments: N/A\n",
      "Caption:\n",
      " No caption available.\n",
      "Video title: FamPay Explained To Parents | All about India's First Neobank for Teens\n",
      "Video ID: BTcwwlx5Xqk\n",
      "Video URL: https://www.youtube.com/watch?v=BTcwwlx5Xqk\n",
      "Views: 371303\n",
      "Likes: 11755\n",
      "Dislikes: 2021-01-22T12:25:56Z\n",
      "Comments: N/A\n",
      "Caption:\n",
      " No caption available.\n",
      "Video title: WE USED A METAL DETECTOR AND FOUND THIS 😳🤯\n",
      "Video ID: X9gwJqLJ6nE\n",
      "Video URL: https://www.youtube.com/watch?v=X9gwJqLJ6nE\n",
      "Views: 4272\n",
      "Likes: N/A\n",
      "Dislikes: 2022-10-20T06:43:15Z\n",
      "Comments: 14\n",
      "Caption:\n",
      " No caption available.\n",
      "Video title: How to activate your FamCard: step by step tutorial | India's first numberless card by FamPay\n",
      "Video ID: SKqJ2QFw3_I\n",
      "Video URL: https://www.youtube.com/watch?v=SKqJ2QFw3_I\n",
      "Views: 19857\n",
      "Likes: 1397\n",
      "Dislikes: 2022-06-06T07:34:37Z\n",
      "Comments: N/A\n",
      "Caption:\n",
      " No caption available.\n",
      "Video title: What’s Alina’s type? ft. FamCard\n",
      "Video ID: uXt4FZaoEE8\n",
      "Video URL: https://www.youtube.com/watch?v=uXt4FZaoEE8\n",
      "Views: 11004\n",
      "Likes: 685\n",
      "Dislikes: 2021-09-27T05:43:46Z\n",
      "Comments: 41\n",
      "Caption:\n",
      " No caption available.\n",
      "Video title: Teenpreneur by FamPay: Sakshi Agarwal\n",
      "Video ID: IslotnQiaw8\n",
      "Video URL: https://www.youtube.com/watch?v=IslotnQiaw8\n",
      "Views: 2179\n",
      "Likes: 168\n",
      "Dislikes: 2021-02-01T16:43:24Z\n",
      "Comments: N/A\n",
      "Caption:\n",
      " No caption available.\n",
      "Video title: Want to make, save and invest money, it’s time to Get Lit 😎\n",
      "Video ID: O9J_fVcjaCY\n",
      "Video URL: https://www.youtube.com/watch?v=O9J_fVcjaCY\n",
      "Views: 3434\n",
      "Likes: N/A\n",
      "Dislikes: 2022-12-25T17:25:19Z\n",
      "Comments: 15\n",
      "Caption:\n",
      " \n",
      "Video title: Why did @SamayRainaOfficial kidnap Aryan's dad? | Samay Raina | FamPay\n",
      "Video ID: JFcoJCMxcUw\n",
      "Video URL: https://www.youtube.com/watch?v=JFcoJCMxcUw\n",
      "Views: 9294\n",
      "Likes: 795\n",
      "Dislikes: 2022-10-03T07:16:27Z\n",
      "Comments: 80\n",
      "Caption:\n",
      " No caption available.\n",
      "Video title: Take it And Go feat. Mermaid Scales 🥷\n",
      "Video ID: I1-kKFtA4Mc\n",
      "Video URL: https://www.youtube.com/watch?v=I1-kKFtA4Mc\n",
      "Views: 18988\n",
      "Likes: 1279\n",
      "Dislikes: 2021-08-24T06:06:28Z\n",
      "Comments: 40\n",
      "Caption:\n",
      " \n",
      "Video title: Why doesn't Saloni want to do FamPay's Ad? | ft. @Salonayyy | Saloni Gaur\n",
      "Video ID: 9-gTSSiHaxU\n",
      "Video URL: https://www.youtube.com/watch?v=9-gTSSiHaxU\n",
      "Views: 14596\n",
      "Likes: 533\n",
      "Dislikes: 2022-09-22T12:46:12Z\n",
      "Comments: 74\n",
      "Caption:\n",
      " \n",
      "Video title: Does @GamerFleet have a new job? | ft. GamerFleet | FamPay\n",
      "Video ID: nbl4hHAJqFg\n",
      "Video URL: https://www.youtube.com/watch?v=nbl4hHAJqFg\n",
      "Views: 12417\n",
      "Likes: 658\n",
      "Dislikes: 2022-10-20T06:20:04Z\n",
      "Comments: 57\n",
      "Caption:\n",
      " No caption available.\n",
      "Video title: OTP Olympics 🏃🏻‍♀️\n",
      "Video ID: qCbShiM_RvM\n",
      "Video URL: https://www.youtube.com/watch?v=qCbShiM_RvM\n",
      "Views: 14660\n",
      "Likes: 891\n",
      "Dislikes: 2021-08-09T06:27:06Z\n",
      "Comments: 64\n",
      "Caption:\n",
      " No caption available.\n",
      "Video title: Take your FamCard With You\n",
      "Video ID: 3lYgk-7UjBY\n",
      "Video URL: https://www.youtube.com/watch?v=3lYgk-7UjBY\n",
      "Views: 11576\n",
      "Likes: 722\n",
      "Dislikes: 2021-01-03T18:05:23Z\n",
      "Comments: N/A\n",
      "Caption:\n",
      " No caption available.\n",
      "Video title: Verify to upgrade your payments now!\n",
      "Video ID: dbDISvP8gjo\n",
      "Video URL: https://www.youtube.com/watch?v=dbDISvP8gjo\n",
      "Views: 1590\n",
      "Likes: 179\n",
      "Dislikes: 2023-02-25T14:19:57Z\n",
      "Comments: N/A\n",
      "Caption:\n",
      " \n",
      "Video title: FamCard- The Only Numberless Card For Teens by FamPay\n",
      "Video ID: tqBiHY6Cvyw\n",
      "Video URL: https://www.youtube.com/watch?v=tqBiHY6Cvyw\n",
      "Views: 42599\n",
      "Likes: 2132\n",
      "Dislikes: 2020-12-03T15:56:48Z\n",
      "Comments: N/A\n",
      "Caption:\n",
      " No caption available.\n",
      "Video title: Teenpreneur by FamPay: Kian Godhwani\n",
      "Video ID: rou31v2CC2w\n",
      "Video URL: https://www.youtube.com/watch?v=rou31v2CC2w\n",
      "Views: 1581\n",
      "Likes: 104\n",
      "Dislikes: 2021-02-20T15:29:58Z\n",
      "Comments: N/A\n",
      "Caption:\n",
      " \n",
      "Video title: BREAKING NEWS FOR TEENS! ft. @Saurabh_Ghadge | FamPay | Payments app for Teens\n",
      "Video ID: S43SA7xv08c\n",
      "Video URL: https://www.youtube.com/watch?v=S43SA7xv08c\n",
      "Views: 3013\n",
      "Likes: 224\n",
      "Dislikes: 2022-10-11T11:15:29Z\n",
      "Comments: 32\n",
      "Caption:\n",
      " No caption available.\n",
      "Video title: Checkout what’s in Alina’s Bag 👀\n",
      "Video ID: Ksg8H2pnMYk\n",
      "Video URL: https://www.youtube.com/watch?v=Ksg8H2pnMYk\n",
      "Views: 16235\n",
      "Likes: 517\n",
      "Dislikes: 2021-08-02T09:09:51Z\n",
      "Comments: 32\n",
      "Caption:\n",
      " No caption available.\n",
      "Video title: Mom Chronicles ft. Kusha Kapila\n",
      "Video ID: 3KrKoSYMU7E\n",
      "Video URL: https://www.youtube.com/watch?v=3KrKoSYMU7E\n",
      "Views: 49836\n",
      "Likes: 1921\n",
      "Dislikes: 2021-08-04T12:52:04Z\n",
      "Comments: 19\n",
      "Caption:\n",
      " No caption available.\n",
      "Video title: Stop Using Your Mother’s Debit Card #Shorts #FamPay\n",
      "Video ID: P4-BrKX0wto\n",
      "Video URL: https://www.youtube.com/watch?v=P4-BrKX0wto\n",
      "Views: 8570\n",
      "Likes: 491\n",
      "Dislikes: 2021-03-19T07:12:32Z\n",
      "Comments: N/A\n",
      "Caption:\n",
      " No caption available.\n",
      "Video title: Aryan couldn't stop talking about THIS...| Aryan Katariya, Krisha Jain | FamPay India\n",
      "Video ID: ALlfJJIqPzg\n",
      "Video URL: https://www.youtube.com/watch?v=ALlfJJIqPzg\n",
      "Views: 7321\n",
      "Likes: 385\n",
      "Dislikes: 2022-11-17T11:12:56Z\n",
      "Comments: 153\n",
      "Caption:\n",
      " \n",
      "Video title: FamPay VISA Arriving Now\n",
      "Video ID: bvcxdsPemlc\n",
      "Video URL: https://www.youtube.com/watch?v=bvcxdsPemlc\n",
      "Views: 14855\n",
      "Likes: 667\n",
      "Dislikes: 2021-02-15T07:30:11Z\n",
      "Comments: N/A\n",
      "Caption:\n",
      " No caption available.\n",
      "Video title: Take FamCard with you #FamPay #FamCard #Shorts\n",
      "Video ID: pAK7WOAjFUk\n",
      "Video URL: https://www.youtube.com/watch?v=pAK7WOAjFUk\n",
      "Views: 11318\n",
      "Likes: 566\n",
      "Dislikes: 2021-03-26T03:31:39Z\n",
      "Comments: N/A\n",
      "Caption:\n",
      " No caption available.\n",
      "Video title: FamCard Me- The Only Card You'll Ever Need. #FamCardMe #FamPay\n",
      "Video ID: XhKo3SeEVRo\n",
      "Video URL: https://www.youtube.com/watch?v=XhKo3SeEVRo\n",
      "Views: 24893\n",
      "Likes: 729\n",
      "Dislikes: 2021-08-05T16:53:29Z\n",
      "Comments: 244\n",
      "Caption:\n",
      " \n",
      "Video title: When You Ask Parents For Money #Shorts\n",
      "Video ID: 8aEK4IsZ_7c\n",
      "Video URL: https://www.youtube.com/watch?v=8aEK4IsZ_7c\n",
      "Views: 9861\n",
      "Likes: 523\n",
      "Dislikes: 2021-03-11T17:00:35Z\n",
      "Comments: N/A\n",
      "Caption:\n",
      " No caption available.\n",
      "Video title: Teenpreneur by FamPay: Aarav Garg\n",
      "Video ID: UDV-Kblb-yU\n",
      "Video URL: https://www.youtube.com/watch?v=UDV-Kblb-yU\n",
      "Views: 3794\n",
      "Likes: 176\n",
      "Dislikes: 2021-06-29T11:17:59Z\n",
      "Comments: N/A\n",
      "Caption:\n",
      " \n",
      "Video title: Introducing FamCard #FamCard #FamPay #Shorts\n",
      "Video ID: OUPMJvRuYcs\n",
      "Video URL: https://www.youtube.com/watch?v=OUPMJvRuYcs\n",
      "Views: 3494\n",
      "Likes: 174\n",
      "Dislikes: 2021-03-26T03:31:22Z\n",
      "Comments: N/A\n",
      "Caption:\n",
      " No caption available.\n",
      "Video title: 2020 Internship Recap: What Interns Actually Do At FamPay | Apply Now!\n",
      "Video ID: 7ysVrMYx1zM\n",
      "Video URL: https://www.youtube.com/watch?v=7ysVrMYx1zM\n",
      "Views: 4873\n",
      "Likes: 137\n",
      "Dislikes: 2020-09-03T16:46:14Z\n",
      "Comments: 31\n",
      "Caption:\n",
      " \n",
      "Video title: I don’t care ft. FamPay 🤑\n",
      "Video ID: sOCcWsQwbtw\n",
      "Video URL: https://www.youtube.com/watch?v=sOCcWsQwbtw\n",
      "Views: 7908\n",
      "Likes: 442\n",
      "Dislikes: 2021-07-22T04:54:37Z\n",
      "Comments: N/A\n",
      "Caption:\n",
      " \n",
      "Video title: It's Debatable Finals LIVE - Day 2 FamJam 2.0\n",
      "Video ID: mAhotQFvPUQ\n",
      "Video URL: https://www.youtube.com/watch?v=mAhotQFvPUQ\n",
      "Views: 867\n",
      "Likes: 59\n",
      "Dislikes: 2020-11-30T01:12:24Z\n",
      "Comments: 5\n",
      "Caption:\n",
      " \n",
      "Video title: Checkmate by FamPay | Online Chess tournament\n",
      "Video ID: LsxYVvU8K-4\n",
      "Video URL: https://www.youtube.com/watch?v=LsxYVvU8K-4\n",
      "Views: 1347\n",
      "Likes: 60\n",
      "Dislikes: 2020-10-02T14:21:35Z\n",
      "Comments: 5\n",
      "Caption:\n",
      " No caption available.\n",
      "Video title: FamCard For Payments #shorts #FamCard #FamPay\n",
      "Video ID: zsOb7_MaXmo\n",
      "Video URL: https://www.youtube.com/watch?v=zsOb7_MaXmo\n",
      "Views: 17233\n",
      "Likes: 663\n",
      "Dislikes: 2021-04-15T06:47:38Z\n",
      "Comments: N/A\n",
      "Caption:\n",
      " No caption available.\n",
      "Video title: Hit The Streets: Friends And Funds\n",
      "Video ID: AMXCjOuBtXw\n",
      "Video URL: https://www.youtube.com/watch?v=AMXCjOuBtXw\n",
      "Views: 1676\n",
      "Likes: 44\n",
      "Dislikes: 2020-08-12T04:48:13Z\n",
      "Comments: 11\n",
      "Caption:\n",
      " No caption available.\n",
      "Video title: Introducing FamCard Me - India's First Numberless Doodle Card For Teens\n",
      "Video ID: OpCpzXg8e-Q\n",
      "Video URL: https://www.youtube.com/watch?v=OpCpzXg8e-Q\n",
      "Views: 954024\n",
      "Likes: 5790\n",
      "Dislikes: 2021-07-28T14:10:54Z\n",
      "Comments: 490\n",
      "Caption:\n",
      " No caption available.\n",
      "Video title: A teen’s ‘must have’ before leaving the house\n",
      "Video ID: 6iRo1LjUzaE\n",
      "Video URL: https://www.youtube.com/watch?v=6iRo1LjUzaE\n",
      "Views: 8828\n",
      "Likes: 388\n",
      "Dislikes: 2021-06-11T05:19:30Z\n",
      "Comments: N/A\n",
      "Caption:\n",
      " \n",
      "Video title: Spending All My Money💸 #Shorts #FamPay\n",
      "Video ID: Apd6ffIjbJI\n",
      "Video URL: https://www.youtube.com/watch?v=Apd6ffIjbJI\n",
      "Views: 11293\n",
      "Likes: 421\n",
      "Dislikes: 2021-03-03T06:14:39Z\n",
      "Comments: N/A\n",
      "Caption:\n",
      " \n",
      "Video title: Introducing FamX- a spending account for everyone\n",
      "Video ID: x1dM8kx4bxk\n",
      "Video URL: https://www.youtube.com/watch?v=x1dM8kx4bxk\n",
      "Views: 528\n",
      "Likes: 143\n",
      "Dislikes: 2023-04-25T15:41:59Z\n",
      "Comments: N/A\n",
      "Caption:\n",
      " \n",
      "Video title: Day1 Part 2 - Workshop on Finding The Lost Cause - FamJam 2.0 India's largest digi-fest for teens!\n",
      "Video ID: 1YC0Un5gzRw\n",
      "Video URL: https://www.youtube.com/watch?v=1YC0Un5gzRw\n",
      "Views: 1251\n",
      "Likes: 55\n",
      "Dislikes: 2020-11-29T03:38:39Z\n",
      "Comments: 7\n",
      "Caption:\n",
      " No caption available.\n",
      "Video title: Teachers Day Nostalgia X FamPay\n",
      "Video ID: hZpyeyVudpc\n",
      "Video URL: https://www.youtube.com/watch?v=hZpyeyVudpc\n",
      "Views: 10196\n",
      "Likes: 644\n",
      "Dislikes: 2021-09-05T04:57:53Z\n",
      "Comments: 34\n",
      "Caption:\n",
      " \n",
      "Video title: Who's More Likely To | Raksha Bandhan Special\n",
      "Video ID: QAVlTCGQe4Y\n",
      "Video URL: https://www.youtube.com/watch?v=QAVlTCGQe4Y\n",
      "Views: 1999\n",
      "Likes: 64\n",
      "Dislikes: 2020-08-03T05:02:21Z\n",
      "Comments: 9\n",
      "Caption:\n",
      " \n",
      "Video title: Life of a student in Pandemic 😷\n",
      "Video ID: 3cJZAaL94vc\n",
      "Video URL: https://www.youtube.com/watch?v=3cJZAaL94vc\n",
      "Views: 10065\n",
      "Likes: 425\n",
      "Dislikes: 2021-07-13T05:25:27Z\n",
      "Comments: N/A\n",
      "Caption:\n",
      " \n",
      "Video title: Teen.mp4 ft Rohan\n",
      "Video ID: J-eE9in_XGE\n",
      "Video URL: https://www.youtube.com/watch?v=J-eE9in_XGE\n",
      "Views: 6329\n",
      "Likes: 465\n",
      "Dislikes: 2021-10-19T08:32:27Z\n",
      "Comments: 69\n",
      "Caption:\n",
      " No caption available.\n",
      "Video title: Teenpreneur by FamPay: Varun Arora\n",
      "Video ID: 3KBdAGUNrvM\n",
      "Video URL: https://www.youtube.com/watch?v=3KBdAGUNrvM\n",
      "Views: 3927\n",
      "Likes: 187\n",
      "Dislikes: 2021-11-06T12:10:26Z\n",
      "Comments: N/A\n",
      "Caption:\n",
      " \n",
      "Video title: Truth or FamPay Ft. Teens & Moms | Mothers Day Special\n",
      "Video ID: GpiRiBs-txM\n",
      "Video URL: https://www.youtube.com/watch?v=GpiRiBs-txM\n",
      "Views: 3882\n",
      "Likes: 149\n",
      "Dislikes: 2021-05-09T11:33:07Z\n",
      "Comments: N/A\n",
      "Caption:\n",
      " No caption available.\n",
      "Video title: Actor Sushant Singh Recommends FamPay\n",
      "Video ID: s2pIuTLhBVo\n",
      "Video URL: https://www.youtube.com/watch?v=s2pIuTLhBVo\n",
      "Views: 49614\n",
      "Likes: 2028\n",
      "Dislikes: 2020-11-24T18:27:10Z\n",
      "Comments: N/A\n",
      "Caption:\n",
      " No caption available.\n",
      "Video title: Kaun Banega Coinpati by FamPay: Episode 1\n",
      "Video ID: jOgkrWLWDdY\n",
      "Video URL: https://www.youtube.com/watch?v=jOgkrWLWDdY\n",
      "Views: 2359\n",
      "Likes: 141\n",
      "Dislikes: 2021-04-24T13:43:55Z\n",
      "Comments: 0\n",
      "Caption:\n",
      " \n",
      "Video title: Pitch Please Finale LIVE - Day 2 FamJam 2.0\n",
      "Video ID: T-55gXx2eHE\n",
      "Video URL: https://www.youtube.com/watch?v=T-55gXx2eHE\n",
      "Views: 1650\n",
      "Likes: 60\n",
      "Dislikes: 2020-11-29T20:49:42Z\n",
      "Comments: 6\n",
      "Caption:\n",
      " \n",
      "Video title: Become a #Teenfluencer @FamPay\n",
      "Video ID: e8OACqLOBec\n",
      "Video URL: https://www.youtube.com/watch?v=e8OACqLOBec\n",
      "Views: 3511\n",
      "Likes: 106\n",
      "Dislikes: 2020-07-21T16:43:28Z\n",
      "Comments: 15\n",
      "Caption:\n",
      " No caption available.\n",
      "Video title: Teens Recreate Their Father's Photo\n",
      "Video ID: N1W-fEdA7Q8\n",
      "Video URL: https://www.youtube.com/watch?v=N1W-fEdA7Q8\n",
      "Views: 2986\n",
      "Likes: 128\n",
      "Dislikes: 2021-06-20T04:28:23Z\n",
      "Comments: N/A\n",
      "Caption:\n",
      " No caption available.\n",
      "Video title: Story of FamPay ft @TanmayBhatYouTube and FamPay Founders\n",
      "Video ID: F8hAJikezko\n",
      "Video URL: https://www.youtube.com/watch?v=F8hAJikezko\n",
      "Views: 10297\n",
      "Likes: 474\n",
      "Dislikes: 2021-10-23T17:11:20Z\n",
      "Comments: N/A\n",
      "Caption:\n",
      " No caption available.\n",
      "Video title: Unboxing FamCard by GenZ | India’s first numberless card by FamPay\n",
      "Video ID: Gcs-W_5fduQ\n",
      "Video URL: https://www.youtube.com/watch?v=Gcs-W_5fduQ\n",
      "Views: 26504\n",
      "Likes: 1118\n",
      "Dislikes: 2020-10-29T15:24:55Z\n",
      "Comments: N/A\n",
      "Caption:\n",
      " No caption available.\n",
      "Video title: Thank You FamPay from FamStars\n",
      "Video ID: zVhyVz5rnqs\n",
      "Video URL: https://www.youtube.com/watch?v=zVhyVz5rnqs\n",
      "Views: 7634\n",
      "Likes: 270\n",
      "Dislikes: 2021-06-19T16:36:38Z\n",
      "Comments: N/A\n",
      "Caption:\n",
      " \n",
      "Video title: Indian Teens & Fathers: How well do you know each other? | Father's Day Edition\n",
      "Video ID: ILlsSuW5QYA\n",
      "Video URL: https://www.youtube.com/watch?v=ILlsSuW5QYA\n",
      "Views: 6988\n",
      "Likes: 254\n",
      "Dislikes: 2020-06-21T07:39:30Z\n",
      "Comments: 11\n",
      "Caption:\n",
      " \n",
      "Video title: Dil se Shukriya: A Tribute By Friends of Fam | Teachers Day Special\n",
      "Video ID: 8V81ur6M5N8\n",
      "Video URL: https://www.youtube.com/watch?v=8V81ur6M5N8\n",
      "Views: 1684\n",
      "Likes: 83\n",
      "Dislikes: 2020-09-05T07:29:32Z\n",
      "Comments: N/A\n",
      "Caption:\n",
      " No caption available.\n",
      "Video title: And The Winner Of Our PS5 Giveaway is ......... ft. @TanmayBhatYouTube\n",
      "Video ID: C03LR7qML0Y\n",
      "Video URL: https://www.youtube.com/watch?v=C03LR7qML0Y\n",
      "Views: 26420\n",
      "Likes: 1358\n",
      "Dislikes: 2021-12-30T13:46:44Z\n",
      "Comments: N/A\n",
      "Caption:\n",
      " \n",
      "Video title: Goodbye 2020: A FamPay Recap\n",
      "Video ID: E9-FOeQz0Ss\n",
      "Video URL: https://www.youtube.com/watch?v=E9-FOeQz0Ss\n",
      "Views: 5144\n",
      "Likes: 309\n",
      "Dislikes: 2020-12-29T17:50:22Z\n",
      "Comments: N/A\n",
      "Caption:\n",
      " \n",
      "Video title: Introducing FamCard for teens | India’s first numberless card by FamPay\n",
      "Video ID: IW20vNCuV5E\n",
      "Video URL: https://www.youtube.com/watch?v=IW20vNCuV5E\n",
      "Views: 685672\n",
      "Likes: 18011\n",
      "Dislikes: 2020-10-12T15:13:20Z\n",
      "Comments: N/A\n",
      "Caption:\n",
      " \n",
      "Video title: Presenting FamJam 2.0 - India's Largest Digi-Fest for Teens By FamPay!\n",
      "Video ID: VkyiMlFhhFg\n",
      "Video URL: https://www.youtube.com/watch?v=VkyiMlFhhFg\n",
      "Views: 3159\n",
      "Likes: 157\n",
      "Dislikes: 2020-11-03T18:02:27Z\n",
      "Comments: N/A\n",
      "Caption:\n",
      " \n",
      "Video title: Teenpreneur by FamPay: Manasi Patil\n",
      "Video ID: uCSFQuOwwk8\n",
      "Video URL: https://www.youtube.com/watch?v=uCSFQuOwwk8\n",
      "Views: 1976\n",
      "Likes: 132\n",
      "Dislikes: 2021-09-23T16:14:20Z\n",
      "Comments: 48\n",
      "Caption:\n",
      " No caption available.\n",
      "Video title: Day1 Part 1 - FamJam 2.0 - FamPageant & Workshop on The Art of Journaling\n",
      "Video ID: OV-MPV6G6fs\n",
      "Video URL: https://www.youtube.com/watch?v=OV-MPV6G6fs\n",
      "Views: 1875\n",
      "Likes: 43\n",
      "Dislikes: 2020-11-28T09:59:16Z\n",
      "Comments: N/A\n",
      "Caption:\n",
      " No caption available.\n",
      "Video title: Closing Ceremony (Prize Distribution and Vote of Thanks) LIVE -  FamJam 2.0\n",
      "Video ID: JMEVYXF1tLY\n",
      "Video URL: https://www.youtube.com/watch?v=JMEVYXF1tLY\n",
      "Views: 6684\n",
      "Likes: 376\n",
      "Dislikes: 2020-11-29T17:13:06Z\n",
      "Comments: 8\n",
      "Caption:\n",
      " \n",
      "Video title: Kaun Banega Coinpati by FamPay: Episode 2\n",
      "Video ID: wVDjBp1AGBE\n",
      "Video URL: https://www.youtube.com/watch?v=wVDjBp1AGBE\n",
      "Views: 3057\n",
      "Likes: 169\n",
      "Dislikes: 2021-04-25T13:43:52Z\n",
      "Comments: 0\n",
      "Caption:\n",
      " \n",
      "Video title: Workshop on Writing A Comedy Sketch LIVE - Day 2 FamJam 2.0\n",
      "Video ID: Ah8UjvD0ywg\n",
      "Video URL: https://www.youtube.com/watch?v=Ah8UjvD0ywg\n",
      "Views: 695\n",
      "Likes: 32\n",
      "Dislikes: 2020-11-29T23:32:24Z\n",
      "Comments: 13\n",
      "Caption:\n",
      " No caption available.\n",
      "Video title: F for Fame and Comicsteen Finale LIVE - Day 2 FamJam 2.0\n",
      "Video ID: FcTLoUt5MIE\n",
      "Video URL: https://www.youtube.com/watch?v=FcTLoUt5MIE\n",
      "Views: 2182\n",
      "Likes: 102\n",
      "Dislikes: 2020-11-30T03:01:22Z\n",
      "Comments: 22\n",
      "Caption:\n",
      " No caption available.\n",
      "Video title: BTS ka BTS - PVR x FamPay BTS Concert\n",
      "Video ID: D-NYnRpexDI\n",
      "Video URL: https://www.youtube.com/watch?v=D-NYnRpexDI\n",
      "Views: 7499\n",
      "Likes: 402\n",
      "Dislikes: 2022-05-11T13:55:15Z\n",
      "Comments: N/A\n",
      "Caption:\n",
      " \n"
     ]
    }
   ],
   "source": [
    "with open(\"video_data.csv\", \"w\", newline='', encoding='utf-8') as csvfile:\n",
    "    fieldnames = [\"video_title\", \"video_id\", \"video_url\", \"views\", \"likes\", \"comments\", \"caption\", \"upload_date\"]\n",
    "    writer = csv.DictWriter(csvfile, fieldnames=fieldnames)\n",
    "    writer.writeheader()\n",
    "\n",
    "    # Retrieve captions and video data, and save them to the CSV file\n",
    "    for video in videos:\n",
    "        video_data = {}\n",
    "        video_data[\"video_id\"] = video[\"id\"]\n",
    "        video_data[\"video_title\"] = video[\"snippet\"][\"title\"]\n",
    "        video_data[\"video_url\"] = f\"https://www.youtube.com/watch?v={video_data['video_id']}\"\n",
    "        if \"statistics\" in video:\n",
    "            video_data[\"views\"] = video[\"statistics\"].get(\"viewCount\", \"N/A\")\n",
    "            video_data[\"likes\"] = video[\"statistics\"].get(\"likeCount\", \"N/A\")\n",
    "            # video_data[\"dislikes\"] = video[\"statistics\"].get(\"dislikeCount\", \"N/A\")\n",
    "            video_data[\"comments\"] = video[\"statistics\"].get(\"commentCount\", \"N/A\")\n",
    "            video_data[\"upload_date\"] = video[\"snippet\"][\"publishedAt\"]\n",
    "\n",
    "        else:\n",
    "            video_data[\"views\"] = \"N/A\"\n",
    "            video_data[\"likes\"] = \"N/A\"\n",
    "            # video_data[\"dislikes\"] = \"N/A\"\n",
    "            video_data[\"comments\"] = \"N/A\"\n",
    "            video_data[\"upload_date\"] = \"N/A\"\n",
    "        \n",
    "        caption_request = youtube.captions().list(part=\"id\", videoId=video_data[\"video_id\"])\n",
    "        caption_response = caption_request.execute()\n",
    "        if caption_response[\"items\"]:\n",
    "            caption_id = caption_response[\"items\"][0][\"id\"]\n",
    "            caption_download_url = f\"https://www.youtube.com/api/timedtext?v={video_data['video_id']}&lang=en&fmt=srv3\"\n",
    "            # download the caption file and save the text\n",
    "            caption_file = requests.get(caption_download_url).text\n",
    "            video_data[\"caption\"] = caption_file\n",
    "\n",
    "        else:\n",
    "            video_data[\"caption\"] = \"No caption available.\"\n",
    "        \n",
    "        # Write the data to the CSV file\n",
    "        writer.writerow(video_data)\n",
    "\n",
    "        # Print the data to the console\n",
    "        print(\"Video title:\", video_data[\"video_title\"])\n",
    "        print(\"Video ID:\", video_data[\"video_id\"])\n",
    "        print(\"Video URL:\", video_data[\"video_url\"])\n",
    "        print(\"Views:\", video_data[\"views\"])\n",
    "        print(\"Likes:\", video_data[\"likes\"])\n",
    "        print(\"Dislikes:\", video_data[\"upload_date\"])\n",
    "        print(\"Comments:\", video_data[\"comments\"])\n",
    "        print(\"Caption:\\n\", video_data[\"caption\"])"
   ]
  },
  {
   "cell_type": "code",
   "execution_count": 36,
   "metadata": {},
   "outputs": [
    {
     "data": {
      "text/html": [
       "<div>\n",
       "<style scoped>\n",
       "    .dataframe tbody tr th:only-of-type {\n",
       "        vertical-align: middle;\n",
       "    }\n",
       "\n",
       "    .dataframe tbody tr th {\n",
       "        vertical-align: top;\n",
       "    }\n",
       "\n",
       "    .dataframe thead th {\n",
       "        text-align: right;\n",
       "    }\n",
       "</style>\n",
       "<table border=\"1\" class=\"dataframe\">\n",
       "  <thead>\n",
       "    <tr style=\"text-align: right;\">\n",
       "      <th></th>\n",
       "      <th>video_title</th>\n",
       "      <th>video_id</th>\n",
       "      <th>video_url</th>\n",
       "      <th>views</th>\n",
       "      <th>likes</th>\n",
       "      <th>comments</th>\n",
       "      <th>caption</th>\n",
       "      <th>upload_date</th>\n",
       "    </tr>\n",
       "  </thead>\n",
       "  <tbody>\n",
       "    <tr>\n",
       "      <th>0</th>\n",
       "      <td>Happy Diwali 2020 | FamPay</td>\n",
       "      <td>hiQ4nLVbqY4</td>\n",
       "      <td>https://www.youtube.com/watch?v=hiQ4nLVbqY4</td>\n",
       "      <td>2497</td>\n",
       "      <td>156.0</td>\n",
       "      <td>NaN</td>\n",
       "      <td>No caption available.</td>\n",
       "      <td>2020-11-14T05:05:55Z</td>\n",
       "    </tr>\n",
       "    <tr>\n",
       "      <th>1</th>\n",
       "      <td>Get Featured In Tanmay Bhat’s Next Video #shorts</td>\n",
       "      <td>YEK2T3YLT9M</td>\n",
       "      <td>https://www.youtube.com/watch?v=YEK2T3YLT9M</td>\n",
       "      <td>14725</td>\n",
       "      <td>786.0</td>\n",
       "      <td>NaN</td>\n",
       "      <td>No caption available.</td>\n",
       "      <td>2021-03-11T03:20:57Z</td>\n",
       "    </tr>\n",
       "    <tr>\n",
       "      <th>2</th>\n",
       "      <td>FamPay Explained To Parents | All about India'...</td>\n",
       "      <td>BTcwwlx5Xqk</td>\n",
       "      <td>https://www.youtube.com/watch?v=BTcwwlx5Xqk</td>\n",
       "      <td>371303</td>\n",
       "      <td>11755.0</td>\n",
       "      <td>NaN</td>\n",
       "      <td>No caption available.</td>\n",
       "      <td>2021-01-22T12:25:56Z</td>\n",
       "    </tr>\n",
       "    <tr>\n",
       "      <th>3</th>\n",
       "      <td>WE USED A METAL DETECTOR AND FOUND THIS 😳🤯</td>\n",
       "      <td>X9gwJqLJ6nE</td>\n",
       "      <td>https://www.youtube.com/watch?v=X9gwJqLJ6nE</td>\n",
       "      <td>4272</td>\n",
       "      <td>NaN</td>\n",
       "      <td>14.0</td>\n",
       "      <td>No caption available.</td>\n",
       "      <td>2022-10-20T06:43:15Z</td>\n",
       "    </tr>\n",
       "    <tr>\n",
       "      <th>4</th>\n",
       "      <td>How to activate your FamCard: step by step tut...</td>\n",
       "      <td>SKqJ2QFw3_I</td>\n",
       "      <td>https://www.youtube.com/watch?v=SKqJ2QFw3_I</td>\n",
       "      <td>19857</td>\n",
       "      <td>1397.0</td>\n",
       "      <td>NaN</td>\n",
       "      <td>No caption available.</td>\n",
       "      <td>2022-06-06T07:34:37Z</td>\n",
       "    </tr>\n",
       "  </tbody>\n",
       "</table>\n",
       "</div>"
      ],
      "text/plain": [
       "                                         video_title     video_id  \\\n",
       "0                         Happy Diwali 2020 | FamPay  hiQ4nLVbqY4   \n",
       "1   Get Featured In Tanmay Bhat’s Next Video #shorts  YEK2T3YLT9M   \n",
       "2  FamPay Explained To Parents | All about India'...  BTcwwlx5Xqk   \n",
       "3         WE USED A METAL DETECTOR AND FOUND THIS 😳🤯  X9gwJqLJ6nE   \n",
       "4  How to activate your FamCard: step by step tut...  SKqJ2QFw3_I   \n",
       "\n",
       "                                     video_url   views    likes  comments  \\\n",
       "0  https://www.youtube.com/watch?v=hiQ4nLVbqY4    2497    156.0       NaN   \n",
       "1  https://www.youtube.com/watch?v=YEK2T3YLT9M   14725    786.0       NaN   \n",
       "2  https://www.youtube.com/watch?v=BTcwwlx5Xqk  371303  11755.0       NaN   \n",
       "3  https://www.youtube.com/watch?v=X9gwJqLJ6nE    4272      NaN      14.0   \n",
       "4  https://www.youtube.com/watch?v=SKqJ2QFw3_I   19857   1397.0       NaN   \n",
       "\n",
       "                 caption           upload_date  \n",
       "0  No caption available.  2020-11-14T05:05:55Z  \n",
       "1  No caption available.  2021-03-11T03:20:57Z  \n",
       "2  No caption available.  2021-01-22T12:25:56Z  \n",
       "3  No caption available.  2022-10-20T06:43:15Z  \n",
       "4  No caption available.  2022-06-06T07:34:37Z  "
      ]
     },
     "execution_count": 36,
     "metadata": {},
     "output_type": "execute_result"
    }
   ],
   "source": [
    "df = pd.read_csv(\"video_data.csv\")\n",
    "df.head(5)"
   ]
  },
  {
   "cell_type": "code",
   "execution_count": 41,
   "metadata": {},
   "outputs": [
    {
     "data": {
      "application/vnd.plotly.v1+json": {
       "config": {
        "plotlyServerURL": "https://plot.ly"
       },
       "data": [
        {
         "alignmentgroup": "True",
         "hovertemplate": "video_title=%{x}<br>views=%{y}<br>likes=%{marker.color}<extra></extra>",
         "legendgroup": "",
         "marker": {
          "color": [
           156,
           786,
           11755,
           null,
           1397,
           685,
           168,
           null,
           795,
           1279,
           533,
           658,
           891,
           722,
           179,
           2132,
           104,
           224,
           517,
           1921,
           491,
           385,
           667,
           566,
           729,
           523,
           176,
           174,
           137,
           442,
           59,
           60,
           663,
           44,
           5790,
           388,
           421,
           143,
           55,
           644,
           64,
           425,
           465,
           187,
           149,
           2028,
           141,
           60,
           106,
           128,
           474,
           1118,
           270,
           254,
           83,
           1358,
           309,
           18011,
           157,
           132,
           43,
           376,
           169,
           32,
           102,
           402
          ],
          "coloraxis": "coloraxis",
          "pattern": {
           "shape": ""
          }
         },
         "name": "",
         "offsetgroup": "",
         "orientation": "v",
         "showlegend": false,
         "textposition": "auto",
         "type": "bar",
         "x": [
          "Happy Diwali 2020 | FamPay",
          "Get Featured In Tanmay Bhat’s Next Video #shorts",
          "FamPay Explained To Parents | All about India's First Neobank for Teens",
          "WE USED A METAL DETECTOR AND FOUND THIS 😳🤯",
          "How to activate your FamCard: step by step tutorial | India's first numberless card by FamPay",
          "What’s Alina’s type? ft. FamCard",
          "Teenpreneur by FamPay: Sakshi Agarwal",
          "Want to make, save and invest money, it’s time to Get Lit 😎",
          "Why did @SamayRainaOfficial kidnap Aryan's dad? | Samay Raina | FamPay",
          "Take it And Go feat. Mermaid Scales 🥷",
          "Why doesn't Saloni want to do FamPay's Ad? | ft. @Salonayyy | Saloni Gaur",
          "Does @GamerFleet have a new job? | ft. GamerFleet | FamPay",
          "OTP Olympics 🏃🏻‍♀️",
          "Take your FamCard With You",
          "Verify to upgrade your payments now!",
          "FamCard- The Only Numberless Card For Teens by FamPay",
          "Teenpreneur by FamPay: Kian Godhwani",
          "BREAKING NEWS FOR TEENS! ft. @Saurabh_Ghadge | FamPay | Payments app for Teens",
          "Checkout what’s in Alina’s Bag 👀",
          "Mom Chronicles ft. Kusha Kapila",
          "Stop Using Your Mother’s Debit Card #Shorts #FamPay",
          "Aryan couldn't stop talking about THIS...| Aryan Katariya, Krisha Jain | FamPay India",
          "FamPay VISA Arriving Now",
          "Take FamCard with you #FamPay #FamCard #Shorts",
          "FamCard Me- The Only Card You'll Ever Need. #FamCardMe #FamPay",
          "When You Ask Parents For Money #Shorts",
          "Teenpreneur by FamPay: Aarav Garg",
          "Introducing FamCard #FamCard #FamPay #Shorts",
          "2020 Internship Recap: What Interns Actually Do At FamPay | Apply Now!",
          "I don’t care ft. FamPay 🤑",
          "It's Debatable Finals LIVE - Day 2 FamJam 2.0",
          "Checkmate by FamPay | Online Chess tournament",
          "FamCard For Payments #shorts #FamCard #FamPay",
          "Hit The Streets: Friends And Funds",
          "Introducing FamCard Me - India's First Numberless Doodle Card For Teens",
          "A teen’s ‘must have’ before leaving the house",
          "Spending All My Money💸 #Shorts #FamPay",
          "Introducing FamX- a spending account for everyone",
          "Day1 Part 2 - Workshop on Finding The Lost Cause - FamJam 2.0 India's largest digi-fest for teens!",
          "Teachers Day Nostalgia X FamPay",
          "Who's More Likely To | Raksha Bandhan Special",
          "Life of a student in Pandemic 😷",
          "Teen.mp4 ft Rohan",
          "Teenpreneur by FamPay: Varun Arora",
          "Truth or FamPay Ft. Teens & Moms | Mothers Day Special",
          "Actor Sushant Singh Recommends FamPay",
          "Kaun Banega Coinpati by FamPay: Episode 1",
          "Pitch Please Finale LIVE - Day 2 FamJam 2.0",
          "Become a #Teenfluencer @FamPay",
          "Teens Recreate Their Father's Photo",
          "Story of FamPay ft @TanmayBhatYouTube and FamPay Founders",
          "Unboxing FamCard by GenZ | India’s first numberless card by FamPay",
          "Thank You FamPay from FamStars",
          "Indian Teens & Fathers: How well do you know each other? | Father's Day Edition",
          "Dil se Shukriya: A Tribute By Friends of Fam | Teachers Day Special",
          "And The Winner Of Our PS5 Giveaway is ......... ft. @TanmayBhatYouTube",
          "Goodbye 2020: A FamPay Recap",
          "Introducing FamCard for teens | India’s first numberless card by FamPay",
          "Presenting FamJam 2.0 - India's Largest Digi-Fest for Teens By FamPay!",
          "Teenpreneur by FamPay: Manasi Patil",
          "Day1 Part 1 - FamJam 2.0 - FamPageant & Workshop on The Art of Journaling",
          "Closing Ceremony (Prize Distribution and Vote of Thanks) LIVE -  FamJam 2.0",
          "Kaun Banega Coinpati by FamPay: Episode 2",
          "Workshop on Writing A Comedy Sketch LIVE - Day 2 FamJam 2.0",
          "F for Fame and Comicsteen Finale LIVE - Day 2 FamJam 2.0",
          "BTS ka BTS - PVR x FamPay BTS Concert"
         ],
         "xaxis": "x",
         "y": [
          2497,
          14725,
          371303,
          4272,
          19857,
          11004,
          2179,
          3434,
          9294,
          18988,
          14596,
          12417,
          14660,
          11576,
          1590,
          42599,
          1581,
          3013,
          16235,
          49836,
          8570,
          7321,
          14855,
          11318,
          24893,
          9861,
          3794,
          3494,
          4873,
          7908,
          867,
          1347,
          17233,
          1676,
          954024,
          8828,
          11293,
          528,
          1251,
          10196,
          1999,
          10065,
          6329,
          3927,
          3882,
          49614,
          2359,
          1650,
          3511,
          2986,
          10297,
          26504,
          7634,
          6988,
          1684,
          26420,
          5144,
          685672,
          3159,
          1976,
          1875,
          6684,
          3057,
          695,
          2182,
          7499
         ],
         "yaxis": "y"
        }
       ],
       "layout": {
        "barmode": "relative",
        "coloraxis": {
         "colorbar": {
          "title": {
           "text": "likes"
          }
         },
         "colorscale": [
          [
           0,
           "#0d0887"
          ],
          [
           0.1111111111111111,
           "#46039f"
          ],
          [
           0.2222222222222222,
           "#7201a8"
          ],
          [
           0.3333333333333333,
           "#9c179e"
          ],
          [
           0.4444444444444444,
           "#bd3786"
          ],
          [
           0.5555555555555556,
           "#d8576b"
          ],
          [
           0.6666666666666666,
           "#ed7953"
          ],
          [
           0.7777777777777778,
           "#fb9f3a"
          ],
          [
           0.8888888888888888,
           "#fdca26"
          ],
          [
           1,
           "#f0f921"
          ]
         ]
        },
        "legend": {
         "tracegroupgap": 0
        },
        "margin": {
         "t": 60
        },
        "template": {
         "data": {
          "bar": [
           {
            "error_x": {
             "color": "#2a3f5f"
            },
            "error_y": {
             "color": "#2a3f5f"
            },
            "marker": {
             "line": {
              "color": "#E5ECF6",
              "width": 0.5
             },
             "pattern": {
              "fillmode": "overlay",
              "size": 10,
              "solidity": 0.2
             }
            },
            "type": "bar"
           }
          ],
          "barpolar": [
           {
            "marker": {
             "line": {
              "color": "#E5ECF6",
              "width": 0.5
             },
             "pattern": {
              "fillmode": "overlay",
              "size": 10,
              "solidity": 0.2
             }
            },
            "type": "barpolar"
           }
          ],
          "carpet": [
           {
            "aaxis": {
             "endlinecolor": "#2a3f5f",
             "gridcolor": "white",
             "linecolor": "white",
             "minorgridcolor": "white",
             "startlinecolor": "#2a3f5f"
            },
            "baxis": {
             "endlinecolor": "#2a3f5f",
             "gridcolor": "white",
             "linecolor": "white",
             "minorgridcolor": "white",
             "startlinecolor": "#2a3f5f"
            },
            "type": "carpet"
           }
          ],
          "choropleth": [
           {
            "colorbar": {
             "outlinewidth": 0,
             "ticks": ""
            },
            "type": "choropleth"
           }
          ],
          "contour": [
           {
            "colorbar": {
             "outlinewidth": 0,
             "ticks": ""
            },
            "colorscale": [
             [
              0,
              "#0d0887"
             ],
             [
              0.1111111111111111,
              "#46039f"
             ],
             [
              0.2222222222222222,
              "#7201a8"
             ],
             [
              0.3333333333333333,
              "#9c179e"
             ],
             [
              0.4444444444444444,
              "#bd3786"
             ],
             [
              0.5555555555555556,
              "#d8576b"
             ],
             [
              0.6666666666666666,
              "#ed7953"
             ],
             [
              0.7777777777777778,
              "#fb9f3a"
             ],
             [
              0.8888888888888888,
              "#fdca26"
             ],
             [
              1,
              "#f0f921"
             ]
            ],
            "type": "contour"
           }
          ],
          "contourcarpet": [
           {
            "colorbar": {
             "outlinewidth": 0,
             "ticks": ""
            },
            "type": "contourcarpet"
           }
          ],
          "heatmap": [
           {
            "colorbar": {
             "outlinewidth": 0,
             "ticks": ""
            },
            "colorscale": [
             [
              0,
              "#0d0887"
             ],
             [
              0.1111111111111111,
              "#46039f"
             ],
             [
              0.2222222222222222,
              "#7201a8"
             ],
             [
              0.3333333333333333,
              "#9c179e"
             ],
             [
              0.4444444444444444,
              "#bd3786"
             ],
             [
              0.5555555555555556,
              "#d8576b"
             ],
             [
              0.6666666666666666,
              "#ed7953"
             ],
             [
              0.7777777777777778,
              "#fb9f3a"
             ],
             [
              0.8888888888888888,
              "#fdca26"
             ],
             [
              1,
              "#f0f921"
             ]
            ],
            "type": "heatmap"
           }
          ],
          "heatmapgl": [
           {
            "colorbar": {
             "outlinewidth": 0,
             "ticks": ""
            },
            "colorscale": [
             [
              0,
              "#0d0887"
             ],
             [
              0.1111111111111111,
              "#46039f"
             ],
             [
              0.2222222222222222,
              "#7201a8"
             ],
             [
              0.3333333333333333,
              "#9c179e"
             ],
             [
              0.4444444444444444,
              "#bd3786"
             ],
             [
              0.5555555555555556,
              "#d8576b"
             ],
             [
              0.6666666666666666,
              "#ed7953"
             ],
             [
              0.7777777777777778,
              "#fb9f3a"
             ],
             [
              0.8888888888888888,
              "#fdca26"
             ],
             [
              1,
              "#f0f921"
             ]
            ],
            "type": "heatmapgl"
           }
          ],
          "histogram": [
           {
            "marker": {
             "pattern": {
              "fillmode": "overlay",
              "size": 10,
              "solidity": 0.2
             }
            },
            "type": "histogram"
           }
          ],
          "histogram2d": [
           {
            "colorbar": {
             "outlinewidth": 0,
             "ticks": ""
            },
            "colorscale": [
             [
              0,
              "#0d0887"
             ],
             [
              0.1111111111111111,
              "#46039f"
             ],
             [
              0.2222222222222222,
              "#7201a8"
             ],
             [
              0.3333333333333333,
              "#9c179e"
             ],
             [
              0.4444444444444444,
              "#bd3786"
             ],
             [
              0.5555555555555556,
              "#d8576b"
             ],
             [
              0.6666666666666666,
              "#ed7953"
             ],
             [
              0.7777777777777778,
              "#fb9f3a"
             ],
             [
              0.8888888888888888,
              "#fdca26"
             ],
             [
              1,
              "#f0f921"
             ]
            ],
            "type": "histogram2d"
           }
          ],
          "histogram2dcontour": [
           {
            "colorbar": {
             "outlinewidth": 0,
             "ticks": ""
            },
            "colorscale": [
             [
              0,
              "#0d0887"
             ],
             [
              0.1111111111111111,
              "#46039f"
             ],
             [
              0.2222222222222222,
              "#7201a8"
             ],
             [
              0.3333333333333333,
              "#9c179e"
             ],
             [
              0.4444444444444444,
              "#bd3786"
             ],
             [
              0.5555555555555556,
              "#d8576b"
             ],
             [
              0.6666666666666666,
              "#ed7953"
             ],
             [
              0.7777777777777778,
              "#fb9f3a"
             ],
             [
              0.8888888888888888,
              "#fdca26"
             ],
             [
              1,
              "#f0f921"
             ]
            ],
            "type": "histogram2dcontour"
           }
          ],
          "mesh3d": [
           {
            "colorbar": {
             "outlinewidth": 0,
             "ticks": ""
            },
            "type": "mesh3d"
           }
          ],
          "parcoords": [
           {
            "line": {
             "colorbar": {
              "outlinewidth": 0,
              "ticks": ""
             }
            },
            "type": "parcoords"
           }
          ],
          "pie": [
           {
            "automargin": true,
            "type": "pie"
           }
          ],
          "scatter": [
           {
            "fillpattern": {
             "fillmode": "overlay",
             "size": 10,
             "solidity": 0.2
            },
            "type": "scatter"
           }
          ],
          "scatter3d": [
           {
            "line": {
             "colorbar": {
              "outlinewidth": 0,
              "ticks": ""
             }
            },
            "marker": {
             "colorbar": {
              "outlinewidth": 0,
              "ticks": ""
             }
            },
            "type": "scatter3d"
           }
          ],
          "scattercarpet": [
           {
            "marker": {
             "colorbar": {
              "outlinewidth": 0,
              "ticks": ""
             }
            },
            "type": "scattercarpet"
           }
          ],
          "scattergeo": [
           {
            "marker": {
             "colorbar": {
              "outlinewidth": 0,
              "ticks": ""
             }
            },
            "type": "scattergeo"
           }
          ],
          "scattergl": [
           {
            "marker": {
             "colorbar": {
              "outlinewidth": 0,
              "ticks": ""
             }
            },
            "type": "scattergl"
           }
          ],
          "scattermapbox": [
           {
            "marker": {
             "colorbar": {
              "outlinewidth": 0,
              "ticks": ""
             }
            },
            "type": "scattermapbox"
           }
          ],
          "scatterpolar": [
           {
            "marker": {
             "colorbar": {
              "outlinewidth": 0,
              "ticks": ""
             }
            },
            "type": "scatterpolar"
           }
          ],
          "scatterpolargl": [
           {
            "marker": {
             "colorbar": {
              "outlinewidth": 0,
              "ticks": ""
             }
            },
            "type": "scatterpolargl"
           }
          ],
          "scatterternary": [
           {
            "marker": {
             "colorbar": {
              "outlinewidth": 0,
              "ticks": ""
             }
            },
            "type": "scatterternary"
           }
          ],
          "surface": [
           {
            "colorbar": {
             "outlinewidth": 0,
             "ticks": ""
            },
            "colorscale": [
             [
              0,
              "#0d0887"
             ],
             [
              0.1111111111111111,
              "#46039f"
             ],
             [
              0.2222222222222222,
              "#7201a8"
             ],
             [
              0.3333333333333333,
              "#9c179e"
             ],
             [
              0.4444444444444444,
              "#bd3786"
             ],
             [
              0.5555555555555556,
              "#d8576b"
             ],
             [
              0.6666666666666666,
              "#ed7953"
             ],
             [
              0.7777777777777778,
              "#fb9f3a"
             ],
             [
              0.8888888888888888,
              "#fdca26"
             ],
             [
              1,
              "#f0f921"
             ]
            ],
            "type": "surface"
           }
          ],
          "table": [
           {
            "cells": {
             "fill": {
              "color": "#EBF0F8"
             },
             "line": {
              "color": "white"
             }
            },
            "header": {
             "fill": {
              "color": "#C8D4E3"
             },
             "line": {
              "color": "white"
             }
            },
            "type": "table"
           }
          ]
         },
         "layout": {
          "annotationdefaults": {
           "arrowcolor": "#2a3f5f",
           "arrowhead": 0,
           "arrowwidth": 1
          },
          "autotypenumbers": "strict",
          "coloraxis": {
           "colorbar": {
            "outlinewidth": 0,
            "ticks": ""
           }
          },
          "colorscale": {
           "diverging": [
            [
             0,
             "#8e0152"
            ],
            [
             0.1,
             "#c51b7d"
            ],
            [
             0.2,
             "#de77ae"
            ],
            [
             0.3,
             "#f1b6da"
            ],
            [
             0.4,
             "#fde0ef"
            ],
            [
             0.5,
             "#f7f7f7"
            ],
            [
             0.6,
             "#e6f5d0"
            ],
            [
             0.7,
             "#b8e186"
            ],
            [
             0.8,
             "#7fbc41"
            ],
            [
             0.9,
             "#4d9221"
            ],
            [
             1,
             "#276419"
            ]
           ],
           "sequential": [
            [
             0,
             "#0d0887"
            ],
            [
             0.1111111111111111,
             "#46039f"
            ],
            [
             0.2222222222222222,
             "#7201a8"
            ],
            [
             0.3333333333333333,
             "#9c179e"
            ],
            [
             0.4444444444444444,
             "#bd3786"
            ],
            [
             0.5555555555555556,
             "#d8576b"
            ],
            [
             0.6666666666666666,
             "#ed7953"
            ],
            [
             0.7777777777777778,
             "#fb9f3a"
            ],
            [
             0.8888888888888888,
             "#fdca26"
            ],
            [
             1,
             "#f0f921"
            ]
           ],
           "sequentialminus": [
            [
             0,
             "#0d0887"
            ],
            [
             0.1111111111111111,
             "#46039f"
            ],
            [
             0.2222222222222222,
             "#7201a8"
            ],
            [
             0.3333333333333333,
             "#9c179e"
            ],
            [
             0.4444444444444444,
             "#bd3786"
            ],
            [
             0.5555555555555556,
             "#d8576b"
            ],
            [
             0.6666666666666666,
             "#ed7953"
            ],
            [
             0.7777777777777778,
             "#fb9f3a"
            ],
            [
             0.8888888888888888,
             "#fdca26"
            ],
            [
             1,
             "#f0f921"
            ]
           ]
          },
          "colorway": [
           "#636efa",
           "#EF553B",
           "#00cc96",
           "#ab63fa",
           "#FFA15A",
           "#19d3f3",
           "#FF6692",
           "#B6E880",
           "#FF97FF",
           "#FECB52"
          ],
          "font": {
           "color": "#2a3f5f"
          },
          "geo": {
           "bgcolor": "white",
           "lakecolor": "white",
           "landcolor": "#E5ECF6",
           "showlakes": true,
           "showland": true,
           "subunitcolor": "white"
          },
          "hoverlabel": {
           "align": "left"
          },
          "hovermode": "closest",
          "mapbox": {
           "style": "light"
          },
          "paper_bgcolor": "white",
          "plot_bgcolor": "#E5ECF6",
          "polar": {
           "angularaxis": {
            "gridcolor": "white",
            "linecolor": "white",
            "ticks": ""
           },
           "bgcolor": "#E5ECF6",
           "radialaxis": {
            "gridcolor": "white",
            "linecolor": "white",
            "ticks": ""
           }
          },
          "scene": {
           "xaxis": {
            "backgroundcolor": "#E5ECF6",
            "gridcolor": "white",
            "gridwidth": 2,
            "linecolor": "white",
            "showbackground": true,
            "ticks": "",
            "zerolinecolor": "white"
           },
           "yaxis": {
            "backgroundcolor": "#E5ECF6",
            "gridcolor": "white",
            "gridwidth": 2,
            "linecolor": "white",
            "showbackground": true,
            "ticks": "",
            "zerolinecolor": "white"
           },
           "zaxis": {
            "backgroundcolor": "#E5ECF6",
            "gridcolor": "white",
            "gridwidth": 2,
            "linecolor": "white",
            "showbackground": true,
            "ticks": "",
            "zerolinecolor": "white"
           }
          },
          "shapedefaults": {
           "line": {
            "color": "#2a3f5f"
           }
          },
          "ternary": {
           "aaxis": {
            "gridcolor": "white",
            "linecolor": "white",
            "ticks": ""
           },
           "baxis": {
            "gridcolor": "white",
            "linecolor": "white",
            "ticks": ""
           },
           "bgcolor": "#E5ECF6",
           "caxis": {
            "gridcolor": "white",
            "linecolor": "white",
            "ticks": ""
           }
          },
          "title": {
           "x": 0.05
          },
          "xaxis": {
           "automargin": true,
           "gridcolor": "white",
           "linecolor": "white",
           "ticks": "",
           "title": {
            "standoff": 15
           },
           "zerolinecolor": "white",
           "zerolinewidth": 2
          },
          "yaxis": {
           "automargin": true,
           "gridcolor": "white",
           "linecolor": "white",
           "ticks": "",
           "title": {
            "standoff": 15
           },
           "zerolinecolor": "white",
           "zerolinewidth": 2
          }
         }
        },
        "title": {
         "text": "Views and Likes for Each Video"
        },
        "xaxis": {
         "anchor": "y",
         "domain": [
          0,
          1
         ],
         "title": {
          "text": "Video Title"
         }
        },
        "yaxis": {
         "anchor": "x",
         "domain": [
          0,
          1
         ],
         "title": {
          "text": "Count"
         }
        }
       }
      }
     },
     "metadata": {},
     "output_type": "display_data"
    }
   ],
   "source": [
    "fig = px.bar(df, x='video_title', y='views', color='likes')\n",
    "fig.update_layout(title='Views and Likes for Each Video',\n",
    "                  xaxis_title='Video Title',\n",
    "                  yaxis_title='Count')\n",
    "pio.write_html(fig, file='../../fam-report-site/public/Social-Analytics/views_likes.html', auto_open=True)\n",
    "fig.show()"
   ]
  },
  {
   "cell_type": "code",
   "execution_count": 43,
   "metadata": {},
   "outputs": [
    {
     "name": "stderr",
     "output_type": "stream",
     "text": [
      "c:\\ProgramData\\anaconda3\\lib\\site-packages\\sklearn\\cluster\\_kmeans.py:870: FutureWarning:\n",
      "\n",
      "The default value of `n_init` will change from 10 to 'auto' in 1.4. Set the value of `n_init` explicitly to suppress the warning\n",
      "\n"
     ]
    },
    {
     "data": {
      "application/vnd.plotly.v1+json": {
       "config": {
        "plotlyServerURL": "https://plot.ly"
       },
       "data": [
        {
         "type": "bar",
         "x": [
          0,
          1,
          2,
          3,
          4
         ],
         "y": [
          393.04,
          504.125,
          72.57142857142857,
          739.1111111111111,
          2898.866666666667
         ]
        }
       ],
       "layout": {
        "template": {
         "data": {
          "bar": [
           {
            "error_x": {
             "color": "#2a3f5f"
            },
            "error_y": {
             "color": "#2a3f5f"
            },
            "marker": {
             "line": {
              "color": "#E5ECF6",
              "width": 0.5
             },
             "pattern": {
              "fillmode": "overlay",
              "size": 10,
              "solidity": 0.2
             }
            },
            "type": "bar"
           }
          ],
          "barpolar": [
           {
            "marker": {
             "line": {
              "color": "#E5ECF6",
              "width": 0.5
             },
             "pattern": {
              "fillmode": "overlay",
              "size": 10,
              "solidity": 0.2
             }
            },
            "type": "barpolar"
           }
          ],
          "carpet": [
           {
            "aaxis": {
             "endlinecolor": "#2a3f5f",
             "gridcolor": "white",
             "linecolor": "white",
             "minorgridcolor": "white",
             "startlinecolor": "#2a3f5f"
            },
            "baxis": {
             "endlinecolor": "#2a3f5f",
             "gridcolor": "white",
             "linecolor": "white",
             "minorgridcolor": "white",
             "startlinecolor": "#2a3f5f"
            },
            "type": "carpet"
           }
          ],
          "choropleth": [
           {
            "colorbar": {
             "outlinewidth": 0,
             "ticks": ""
            },
            "type": "choropleth"
           }
          ],
          "contour": [
           {
            "colorbar": {
             "outlinewidth": 0,
             "ticks": ""
            },
            "colorscale": [
             [
              0,
              "#0d0887"
             ],
             [
              0.1111111111111111,
              "#46039f"
             ],
             [
              0.2222222222222222,
              "#7201a8"
             ],
             [
              0.3333333333333333,
              "#9c179e"
             ],
             [
              0.4444444444444444,
              "#bd3786"
             ],
             [
              0.5555555555555556,
              "#d8576b"
             ],
             [
              0.6666666666666666,
              "#ed7953"
             ],
             [
              0.7777777777777778,
              "#fb9f3a"
             ],
             [
              0.8888888888888888,
              "#fdca26"
             ],
             [
              1,
              "#f0f921"
             ]
            ],
            "type": "contour"
           }
          ],
          "contourcarpet": [
           {
            "colorbar": {
             "outlinewidth": 0,
             "ticks": ""
            },
            "type": "contourcarpet"
           }
          ],
          "heatmap": [
           {
            "colorbar": {
             "outlinewidth": 0,
             "ticks": ""
            },
            "colorscale": [
             [
              0,
              "#0d0887"
             ],
             [
              0.1111111111111111,
              "#46039f"
             ],
             [
              0.2222222222222222,
              "#7201a8"
             ],
             [
              0.3333333333333333,
              "#9c179e"
             ],
             [
              0.4444444444444444,
              "#bd3786"
             ],
             [
              0.5555555555555556,
              "#d8576b"
             ],
             [
              0.6666666666666666,
              "#ed7953"
             ],
             [
              0.7777777777777778,
              "#fb9f3a"
             ],
             [
              0.8888888888888888,
              "#fdca26"
             ],
             [
              1,
              "#f0f921"
             ]
            ],
            "type": "heatmap"
           }
          ],
          "heatmapgl": [
           {
            "colorbar": {
             "outlinewidth": 0,
             "ticks": ""
            },
            "colorscale": [
             [
              0,
              "#0d0887"
             ],
             [
              0.1111111111111111,
              "#46039f"
             ],
             [
              0.2222222222222222,
              "#7201a8"
             ],
             [
              0.3333333333333333,
              "#9c179e"
             ],
             [
              0.4444444444444444,
              "#bd3786"
             ],
             [
              0.5555555555555556,
              "#d8576b"
             ],
             [
              0.6666666666666666,
              "#ed7953"
             ],
             [
              0.7777777777777778,
              "#fb9f3a"
             ],
             [
              0.8888888888888888,
              "#fdca26"
             ],
             [
              1,
              "#f0f921"
             ]
            ],
            "type": "heatmapgl"
           }
          ],
          "histogram": [
           {
            "marker": {
             "pattern": {
              "fillmode": "overlay",
              "size": 10,
              "solidity": 0.2
             }
            },
            "type": "histogram"
           }
          ],
          "histogram2d": [
           {
            "colorbar": {
             "outlinewidth": 0,
             "ticks": ""
            },
            "colorscale": [
             [
              0,
              "#0d0887"
             ],
             [
              0.1111111111111111,
              "#46039f"
             ],
             [
              0.2222222222222222,
              "#7201a8"
             ],
             [
              0.3333333333333333,
              "#9c179e"
             ],
             [
              0.4444444444444444,
              "#bd3786"
             ],
             [
              0.5555555555555556,
              "#d8576b"
             ],
             [
              0.6666666666666666,
              "#ed7953"
             ],
             [
              0.7777777777777778,
              "#fb9f3a"
             ],
             [
              0.8888888888888888,
              "#fdca26"
             ],
             [
              1,
              "#f0f921"
             ]
            ],
            "type": "histogram2d"
           }
          ],
          "histogram2dcontour": [
           {
            "colorbar": {
             "outlinewidth": 0,
             "ticks": ""
            },
            "colorscale": [
             [
              0,
              "#0d0887"
             ],
             [
              0.1111111111111111,
              "#46039f"
             ],
             [
              0.2222222222222222,
              "#7201a8"
             ],
             [
              0.3333333333333333,
              "#9c179e"
             ],
             [
              0.4444444444444444,
              "#bd3786"
             ],
             [
              0.5555555555555556,
              "#d8576b"
             ],
             [
              0.6666666666666666,
              "#ed7953"
             ],
             [
              0.7777777777777778,
              "#fb9f3a"
             ],
             [
              0.8888888888888888,
              "#fdca26"
             ],
             [
              1,
              "#f0f921"
             ]
            ],
            "type": "histogram2dcontour"
           }
          ],
          "mesh3d": [
           {
            "colorbar": {
             "outlinewidth": 0,
             "ticks": ""
            },
            "type": "mesh3d"
           }
          ],
          "parcoords": [
           {
            "line": {
             "colorbar": {
              "outlinewidth": 0,
              "ticks": ""
             }
            },
            "type": "parcoords"
           }
          ],
          "pie": [
           {
            "automargin": true,
            "type": "pie"
           }
          ],
          "scatter": [
           {
            "fillpattern": {
             "fillmode": "overlay",
             "size": 10,
             "solidity": 0.2
            },
            "type": "scatter"
           }
          ],
          "scatter3d": [
           {
            "line": {
             "colorbar": {
              "outlinewidth": 0,
              "ticks": ""
             }
            },
            "marker": {
             "colorbar": {
              "outlinewidth": 0,
              "ticks": ""
             }
            },
            "type": "scatter3d"
           }
          ],
          "scattercarpet": [
           {
            "marker": {
             "colorbar": {
              "outlinewidth": 0,
              "ticks": ""
             }
            },
            "type": "scattercarpet"
           }
          ],
          "scattergeo": [
           {
            "marker": {
             "colorbar": {
              "outlinewidth": 0,
              "ticks": ""
             }
            },
            "type": "scattergeo"
           }
          ],
          "scattergl": [
           {
            "marker": {
             "colorbar": {
              "outlinewidth": 0,
              "ticks": ""
             }
            },
            "type": "scattergl"
           }
          ],
          "scattermapbox": [
           {
            "marker": {
             "colorbar": {
              "outlinewidth": 0,
              "ticks": ""
             }
            },
            "type": "scattermapbox"
           }
          ],
          "scatterpolar": [
           {
            "marker": {
             "colorbar": {
              "outlinewidth": 0,
              "ticks": ""
             }
            },
            "type": "scatterpolar"
           }
          ],
          "scatterpolargl": [
           {
            "marker": {
             "colorbar": {
              "outlinewidth": 0,
              "ticks": ""
             }
            },
            "type": "scatterpolargl"
           }
          ],
          "scatterternary": [
           {
            "marker": {
             "colorbar": {
              "outlinewidth": 0,
              "ticks": ""
             }
            },
            "type": "scatterternary"
           }
          ],
          "surface": [
           {
            "colorbar": {
             "outlinewidth": 0,
             "ticks": ""
            },
            "colorscale": [
             [
              0,
              "#0d0887"
             ],
             [
              0.1111111111111111,
              "#46039f"
             ],
             [
              0.2222222222222222,
              "#7201a8"
             ],
             [
              0.3333333333333333,
              "#9c179e"
             ],
             [
              0.4444444444444444,
              "#bd3786"
             ],
             [
              0.5555555555555556,
              "#d8576b"
             ],
             [
              0.6666666666666666,
              "#ed7953"
             ],
             [
              0.7777777777777778,
              "#fb9f3a"
             ],
             [
              0.8888888888888888,
              "#fdca26"
             ],
             [
              1,
              "#f0f921"
             ]
            ],
            "type": "surface"
           }
          ],
          "table": [
           {
            "cells": {
             "fill": {
              "color": "#EBF0F8"
             },
             "line": {
              "color": "white"
             }
            },
            "header": {
             "fill": {
              "color": "#C8D4E3"
             },
             "line": {
              "color": "white"
             }
            },
            "type": "table"
           }
          ]
         },
         "layout": {
          "annotationdefaults": {
           "arrowcolor": "#2a3f5f",
           "arrowhead": 0,
           "arrowwidth": 1
          },
          "autotypenumbers": "strict",
          "coloraxis": {
           "colorbar": {
            "outlinewidth": 0,
            "ticks": ""
           }
          },
          "colorscale": {
           "diverging": [
            [
             0,
             "#8e0152"
            ],
            [
             0.1,
             "#c51b7d"
            ],
            [
             0.2,
             "#de77ae"
            ],
            [
             0.3,
             "#f1b6da"
            ],
            [
             0.4,
             "#fde0ef"
            ],
            [
             0.5,
             "#f7f7f7"
            ],
            [
             0.6,
             "#e6f5d0"
            ],
            [
             0.7,
             "#b8e186"
            ],
            [
             0.8,
             "#7fbc41"
            ],
            [
             0.9,
             "#4d9221"
            ],
            [
             1,
             "#276419"
            ]
           ],
           "sequential": [
            [
             0,
             "#0d0887"
            ],
            [
             0.1111111111111111,
             "#46039f"
            ],
            [
             0.2222222222222222,
             "#7201a8"
            ],
            [
             0.3333333333333333,
             "#9c179e"
            ],
            [
             0.4444444444444444,
             "#bd3786"
            ],
            [
             0.5555555555555556,
             "#d8576b"
            ],
            [
             0.6666666666666666,
             "#ed7953"
            ],
            [
             0.7777777777777778,
             "#fb9f3a"
            ],
            [
             0.8888888888888888,
             "#fdca26"
            ],
            [
             1,
             "#f0f921"
            ]
           ],
           "sequentialminus": [
            [
             0,
             "#0d0887"
            ],
            [
             0.1111111111111111,
             "#46039f"
            ],
            [
             0.2222222222222222,
             "#7201a8"
            ],
            [
             0.3333333333333333,
             "#9c179e"
            ],
            [
             0.4444444444444444,
             "#bd3786"
            ],
            [
             0.5555555555555556,
             "#d8576b"
            ],
            [
             0.6666666666666666,
             "#ed7953"
            ],
            [
             0.7777777777777778,
             "#fb9f3a"
            ],
            [
             0.8888888888888888,
             "#fdca26"
            ],
            [
             1,
             "#f0f921"
            ]
           ]
          },
          "colorway": [
           "#636efa",
           "#EF553B",
           "#00cc96",
           "#ab63fa",
           "#FFA15A",
           "#19d3f3",
           "#FF6692",
           "#B6E880",
           "#FF97FF",
           "#FECB52"
          ],
          "font": {
           "color": "#2a3f5f"
          },
          "geo": {
           "bgcolor": "white",
           "lakecolor": "white",
           "landcolor": "#E5ECF6",
           "showlakes": true,
           "showland": true,
           "subunitcolor": "white"
          },
          "hoverlabel": {
           "align": "left"
          },
          "hovermode": "closest",
          "mapbox": {
           "style": "light"
          },
          "paper_bgcolor": "white",
          "plot_bgcolor": "#E5ECF6",
          "polar": {
           "angularaxis": {
            "gridcolor": "white",
            "linecolor": "white",
            "ticks": ""
           },
           "bgcolor": "#E5ECF6",
           "radialaxis": {
            "gridcolor": "white",
            "linecolor": "white",
            "ticks": ""
           }
          },
          "scene": {
           "xaxis": {
            "backgroundcolor": "#E5ECF6",
            "gridcolor": "white",
            "gridwidth": 2,
            "linecolor": "white",
            "showbackground": true,
            "ticks": "",
            "zerolinecolor": "white"
           },
           "yaxis": {
            "backgroundcolor": "#E5ECF6",
            "gridcolor": "white",
            "gridwidth": 2,
            "linecolor": "white",
            "showbackground": true,
            "ticks": "",
            "zerolinecolor": "white"
           },
           "zaxis": {
            "backgroundcolor": "#E5ECF6",
            "gridcolor": "white",
            "gridwidth": 2,
            "linecolor": "white",
            "showbackground": true,
            "ticks": "",
            "zerolinecolor": "white"
           }
          },
          "shapedefaults": {
           "line": {
            "color": "#2a3f5f"
           }
          },
          "ternary": {
           "aaxis": {
            "gridcolor": "white",
            "linecolor": "white",
            "ticks": ""
           },
           "baxis": {
            "gridcolor": "white",
            "linecolor": "white",
            "ticks": ""
           },
           "bgcolor": "#E5ECF6",
           "caxis": {
            "gridcolor": "white",
            "linecolor": "white",
            "ticks": ""
           }
          },
          "title": {
           "x": 0.05
          },
          "xaxis": {
           "automargin": true,
           "gridcolor": "white",
           "linecolor": "white",
           "ticks": "",
           "title": {
            "standoff": 15
           },
           "zerolinecolor": "white",
           "zerolinewidth": 2
          },
          "yaxis": {
           "automargin": true,
           "gridcolor": "white",
           "linecolor": "white",
           "ticks": "",
           "title": {
            "standoff": 15
           },
           "zerolinecolor": "white",
           "zerolinewidth": 2
          }
         }
        },
        "title": {
         "text": "Average Likes by Video Cluster"
        },
        "xaxis": {
         "title": {
          "text": "Cluster"
         }
        },
        "yaxis": {
         "title": {
          "text": "Average Likes"
         }
        }
       }
      }
     },
     "metadata": {},
     "output_type": "display_data"
    }
   ],
   "source": [
    "# Prepare the data\n",
    "df['video_title'] = df['video_title'].fillna('')  # Fill NaN values with empty string\n",
    "video_titles = df['video_title']\n",
    "\n",
    "# Vectorize the video titles\n",
    "vectorizer = TfidfVectorizer()\n",
    "X = vectorizer.fit_transform(video_titles)\n",
    "\n",
    "# Apply K-means clustering\n",
    "num_clusters = 5\n",
    "kmeans = KMeans(n_clusters=num_clusters, random_state=42)\n",
    "kmeans.fit(X)\n",
    "\n",
    "# Assign cluster labels to the dataframe\n",
    "df['cluster_label'] = kmeans.labels_\n",
    "\n",
    "# Calculate the average likes for each cluster\n",
    "cluster_likes = df.groupby('cluster_label')['likes'].mean()\n",
    "\n",
    "# Plotting\n",
    "import plotly.graph_objects as go\n",
    "\n",
    "fig = go.Figure(data=go.Bar(x=cluster_likes.index, y=cluster_likes.values))\n",
    "fig.update_layout(\n",
    "    title='Average Likes by Video Cluster',\n",
    "    xaxis_title='Cluster',\n",
    "    yaxis_title='Average Likes'\n",
    ")\n",
    "pio.write_html(fig, file='../../fam-report-site/public/Social-Analytics/likes_by_cluster.html', auto_open=True)\n",
    "fig.show()\n"
   ]
  },
  {
   "cell_type": "code",
   "execution_count": 35,
   "metadata": {},
   "outputs": [
    {
     "name": "stdout",
     "output_type": "stream",
     "text": [
      "Topics in the Worst Performing Cluster (Cluster 2):\n",
      "It's Debatable Finals LIVE - Day 2 FamJam 2.0\n",
      "Day1 Part 2 - Workshop on Finding The Lost Cause - FamJam 2.0 India's largest digi-fest for teens!\n",
      "Pitch Please Finale LIVE - Day 2 FamJam 2.0\n",
      "Presenting FamJam 2.0 - India's Largest Digi-Fest for Teens By FamPay!\n",
      "Day1 Part 1 - FamJam 2.0 - FamPageant & Workshop on The Art of Journaling\n",
      "Workshop on Writing A Comedy Sketch LIVE - Day 2 FamJam 2.0\n",
      "F for Fame and Comicsteen Finale LIVE - Day 2 FamJam 2.0\n",
      "\n",
      "\n",
      "Topics in the Best Performing Cluster (Cluster 4):\n",
      "FamPay Explained To Parents | All about India's First Neobank for Teens\n",
      "How to activate your FamCard: step by step tutorial | India's first numberless card by FamPay\n",
      "What’s Alina’s type? ft. FamCard\n",
      "FamCard- The Only Numberless Card For Teens by FamPay\n",
      "BREAKING NEWS FOR TEENS! ft. @Saurabh_Ghadge | FamPay | Payments app for Teens\n",
      "Aryan couldn't stop talking about THIS...| Aryan Katariya, Krisha Jain | FamPay India\n",
      "FamCard Me- The Only Card You'll Ever Need. #FamCardMe #FamPay\n",
      "Introducing FamCard #FamCard #FamPay #Shorts\n",
      "FamCard For Payments #shorts #FamCard #FamPay\n",
      "Introducing FamCard Me - India's First Numberless Doodle Card For Teens\n",
      "Introducing FamX- a spending account for everyone\n",
      "Truth or FamPay Ft. Teens & Moms | Mothers Day Special\n",
      "Teens Recreate Their Father's Photo\n",
      "Unboxing FamCard by GenZ | India’s first numberless card by FamPay\n",
      "Introducing FamCard for teens | India’s first numberless card by FamPay\n"
     ]
    }
   ],
   "source": [
    "# Get the cluster labels for the best and worst performing clusters\n",
    "worst_cluster = cluster_likes.idxmin()\n",
    "best_cluster = cluster_likes.idxmax()\n",
    "\n",
    "# Print the topics in the worst performing cluster\n",
    "print(\"Topics in the Worst Performing Cluster (Cluster {}):\".format(worst_cluster))\n",
    "worst_cluster_topics = df[df['cluster_label'] == worst_cluster]['video_title']\n",
    "for topic in worst_cluster_topics:\n",
    "    print(topic)\n",
    "\n",
    "print(\"\\n\")\n",
    "\n",
    "# Print the topics in the best performing cluster\n",
    "print(\"Topics in the Best Performing Cluster (Cluster {}):\".format(best_cluster))\n",
    "best_cluster_topics = df[df['cluster_label'] == best_cluster]['video_title']\n",
    "for topic in best_cluster_topics:\n",
    "    print(topic)\n"
   ]
  },
  {
   "cell_type": "code",
   "execution_count": 52,
   "metadata": {},
   "outputs": [
    {
     "data": {
      "application/vnd.plotly.v1+json": {
       "config": {
        "plotlyServerURL": "https://plot.ly"
       },
       "data": [
        {
         "hovertext": [
          "Happy Diwali 2020 | FamPay",
          "Get Featured In Tanmay Bhat’s Next Video #shorts",
          "FamPay Explained To Parents | All about India's First Neobank for Teens",
          "WE USED A METAL DETECTOR AND FOUND THIS 😳🤯",
          "How to activate your FamCard: step by step tutorial | India's first numberless card by FamPay",
          "What’s Alina’s type? ft. FamCard",
          "Teenpreneur by FamPay: Sakshi Agarwal",
          "Want to make, save and invest money, it’s time to Get Lit 😎",
          "Why did @SamayRainaOfficial kidnap Aryan's dad? | Samay Raina | FamPay",
          "Take it And Go feat. Mermaid Scales 🥷",
          "Why doesn't Saloni want to do FamPay's Ad? | ft. @Salonayyy | Saloni Gaur",
          "Does @GamerFleet have a new job? | ft. GamerFleet | FamPay",
          "OTP Olympics 🏃🏻‍♀️",
          "Take your FamCard With You",
          "Verify to upgrade your payments now!",
          "FamCard- The Only Numberless Card For Teens by FamPay",
          "Teenpreneur by FamPay: Kian Godhwani",
          "BREAKING NEWS FOR TEENS! ft. @Saurabh_Ghadge | FamPay | Payments app for Teens",
          "Checkout what’s in Alina’s Bag 👀",
          "Mom Chronicles ft. Kusha Kapila",
          "Stop Using Your Mother’s Debit Card #Shorts #FamPay",
          "Aryan couldn't stop talking about THIS...| Aryan Katariya, Krisha Jain | FamPay India",
          "FamPay VISA Arriving Now",
          "Take FamCard with you #FamPay #FamCard #Shorts",
          "FamCard Me- The Only Card You'll Ever Need. #FamCardMe #FamPay",
          "When You Ask Parents For Money #Shorts",
          "Teenpreneur by FamPay: Aarav Garg",
          "Introducing FamCard #FamCard #FamPay #Shorts",
          "2020 Internship Recap: What Interns Actually Do At FamPay | Apply Now!",
          "I don’t care ft. FamPay 🤑",
          "It's Debatable Finals LIVE - Day 2 FamJam 2.0",
          "Checkmate by FamPay | Online Chess tournament",
          "FamCard For Payments #shorts #FamCard #FamPay",
          "Hit The Streets: Friends And Funds",
          "Introducing FamCard Me - India's First Numberless Doodle Card For Teens",
          "A teen’s ‘must have’ before leaving the house",
          "Spending All My Money💸 #Shorts #FamPay",
          "Introducing FamX- a spending account for everyone",
          "Day1 Part 2 - Workshop on Finding The Lost Cause - FamJam 2.0 India's largest digi-fest for teens!",
          "Teachers Day Nostalgia X FamPay",
          "Who's More Likely To | Raksha Bandhan Special",
          "Life of a student in Pandemic 😷",
          "Teen.mp4 ft Rohan",
          "Teenpreneur by FamPay: Varun Arora",
          "Truth or FamPay Ft. Teens & Moms | Mothers Day Special",
          "Actor Sushant Singh Recommends FamPay",
          "Kaun Banega Coinpati by FamPay: Episode 1",
          "Pitch Please Finale LIVE - Day 2 FamJam 2.0",
          "Become a #Teenfluencer @FamPay",
          "Teens Recreate Their Father's Photo",
          "Story of FamPay ft @TanmayBhatYouTube and FamPay Founders",
          "Unboxing FamCard by GenZ | India’s first numberless card by FamPay",
          "Thank You FamPay from FamStars",
          "Indian Teens & Fathers: How well do you know each other? | Father's Day Edition",
          "Dil se Shukriya: A Tribute By Friends of Fam | Teachers Day Special",
          "And The Winner Of Our PS5 Giveaway is ......... ft. @TanmayBhatYouTube",
          "Goodbye 2020: A FamPay Recap",
          "Introducing FamCard for teens | India’s first numberless card by FamPay",
          "Presenting FamJam 2.0 - India's Largest Digi-Fest for Teens By FamPay!",
          "Teenpreneur by FamPay: Manasi Patil",
          "Day1 Part 1 - FamJam 2.0 - FamPageant & Workshop on The Art of Journaling",
          "Closing Ceremony (Prize Distribution and Vote of Thanks) LIVE -  FamJam 2.0",
          "Kaun Banega Coinpati by FamPay: Episode 2",
          "Workshop on Writing A Comedy Sketch LIVE - Day 2 FamJam 2.0",
          "F for Fame and Comicsteen Finale LIVE - Day 2 FamJam 2.0",
          "BTS ka BTS - PVR x FamPay BTS Concert"
         ],
         "marker": {
          "color": [
           0,
           1,
           4,
           0,
           4,
           4,
           0,
           1,
           0,
           0,
           3,
           3,
           0,
           1,
           0,
           4,
           0,
           4,
           0,
           3,
           1,
           4,
           0,
           1,
           4,
           1,
           0,
           4,
           0,
           3,
           2,
           0,
           4,
           0,
           4,
           0,
           1,
           4,
           2,
           0,
           0,
           3,
           3,
           0,
           4,
           0,
           0,
           2,
           0,
           4,
           3,
           4,
           1,
           1,
           0,
           3,
           0,
           4,
           2,
           0,
           2,
           3,
           0,
           2,
           2,
           0
          ]
         },
         "mode": "markers",
         "type": "scatter",
         "x": [
          2497,
          14725,
          371303,
          4272,
          19857,
          11004,
          2179,
          3434,
          9294,
          18988,
          14596,
          12417,
          14660,
          11576,
          1590,
          42599,
          1581,
          3013,
          16235,
          49836,
          8570,
          7321,
          14855,
          11318,
          24893,
          9861,
          3794,
          3494,
          4873,
          7908,
          867,
          1347,
          17233,
          1676,
          954024,
          8828,
          11293,
          528,
          1251,
          10196,
          1999,
          10065,
          6329,
          3927,
          3882,
          49614,
          2359,
          1650,
          3511,
          2986,
          10297,
          26504,
          7634,
          6988,
          1684,
          26420,
          5144,
          685672,
          3159,
          1976,
          1875,
          6684,
          3057,
          695,
          2182,
          7499
         ],
         "y": [
          156,
          786,
          11755,
          null,
          1397,
          685,
          168,
          null,
          795,
          1279,
          533,
          658,
          891,
          722,
          179,
          2132,
          104,
          224,
          517,
          1921,
          491,
          385,
          667,
          566,
          729,
          523,
          176,
          174,
          137,
          442,
          59,
          60,
          663,
          44,
          5790,
          388,
          421,
          143,
          55,
          644,
          64,
          425,
          465,
          187,
          149,
          2028,
          141,
          60,
          106,
          128,
          474,
          1118,
          270,
          254,
          83,
          1358,
          309,
          18011,
          157,
          132,
          43,
          376,
          169,
          32,
          102,
          402
         ]
        }
       ],
       "layout": {
        "hovermode": "closest",
        "template": {
         "data": {
          "bar": [
           {
            "error_x": {
             "color": "#2a3f5f"
            },
            "error_y": {
             "color": "#2a3f5f"
            },
            "marker": {
             "line": {
              "color": "#E5ECF6",
              "width": 0.5
             },
             "pattern": {
              "fillmode": "overlay",
              "size": 10,
              "solidity": 0.2
             }
            },
            "type": "bar"
           }
          ],
          "barpolar": [
           {
            "marker": {
             "line": {
              "color": "#E5ECF6",
              "width": 0.5
             },
             "pattern": {
              "fillmode": "overlay",
              "size": 10,
              "solidity": 0.2
             }
            },
            "type": "barpolar"
           }
          ],
          "carpet": [
           {
            "aaxis": {
             "endlinecolor": "#2a3f5f",
             "gridcolor": "white",
             "linecolor": "white",
             "minorgridcolor": "white",
             "startlinecolor": "#2a3f5f"
            },
            "baxis": {
             "endlinecolor": "#2a3f5f",
             "gridcolor": "white",
             "linecolor": "white",
             "minorgridcolor": "white",
             "startlinecolor": "#2a3f5f"
            },
            "type": "carpet"
           }
          ],
          "choropleth": [
           {
            "colorbar": {
             "outlinewidth": 0,
             "ticks": ""
            },
            "type": "choropleth"
           }
          ],
          "contour": [
           {
            "colorbar": {
             "outlinewidth": 0,
             "ticks": ""
            },
            "colorscale": [
             [
              0,
              "#0d0887"
             ],
             [
              0.1111111111111111,
              "#46039f"
             ],
             [
              0.2222222222222222,
              "#7201a8"
             ],
             [
              0.3333333333333333,
              "#9c179e"
             ],
             [
              0.4444444444444444,
              "#bd3786"
             ],
             [
              0.5555555555555556,
              "#d8576b"
             ],
             [
              0.6666666666666666,
              "#ed7953"
             ],
             [
              0.7777777777777778,
              "#fb9f3a"
             ],
             [
              0.8888888888888888,
              "#fdca26"
             ],
             [
              1,
              "#f0f921"
             ]
            ],
            "type": "contour"
           }
          ],
          "contourcarpet": [
           {
            "colorbar": {
             "outlinewidth": 0,
             "ticks": ""
            },
            "type": "contourcarpet"
           }
          ],
          "heatmap": [
           {
            "colorbar": {
             "outlinewidth": 0,
             "ticks": ""
            },
            "colorscale": [
             [
              0,
              "#0d0887"
             ],
             [
              0.1111111111111111,
              "#46039f"
             ],
             [
              0.2222222222222222,
              "#7201a8"
             ],
             [
              0.3333333333333333,
              "#9c179e"
             ],
             [
              0.4444444444444444,
              "#bd3786"
             ],
             [
              0.5555555555555556,
              "#d8576b"
             ],
             [
              0.6666666666666666,
              "#ed7953"
             ],
             [
              0.7777777777777778,
              "#fb9f3a"
             ],
             [
              0.8888888888888888,
              "#fdca26"
             ],
             [
              1,
              "#f0f921"
             ]
            ],
            "type": "heatmap"
           }
          ],
          "heatmapgl": [
           {
            "colorbar": {
             "outlinewidth": 0,
             "ticks": ""
            },
            "colorscale": [
             [
              0,
              "#0d0887"
             ],
             [
              0.1111111111111111,
              "#46039f"
             ],
             [
              0.2222222222222222,
              "#7201a8"
             ],
             [
              0.3333333333333333,
              "#9c179e"
             ],
             [
              0.4444444444444444,
              "#bd3786"
             ],
             [
              0.5555555555555556,
              "#d8576b"
             ],
             [
              0.6666666666666666,
              "#ed7953"
             ],
             [
              0.7777777777777778,
              "#fb9f3a"
             ],
             [
              0.8888888888888888,
              "#fdca26"
             ],
             [
              1,
              "#f0f921"
             ]
            ],
            "type": "heatmapgl"
           }
          ],
          "histogram": [
           {
            "marker": {
             "pattern": {
              "fillmode": "overlay",
              "size": 10,
              "solidity": 0.2
             }
            },
            "type": "histogram"
           }
          ],
          "histogram2d": [
           {
            "colorbar": {
             "outlinewidth": 0,
             "ticks": ""
            },
            "colorscale": [
             [
              0,
              "#0d0887"
             ],
             [
              0.1111111111111111,
              "#46039f"
             ],
             [
              0.2222222222222222,
              "#7201a8"
             ],
             [
              0.3333333333333333,
              "#9c179e"
             ],
             [
              0.4444444444444444,
              "#bd3786"
             ],
             [
              0.5555555555555556,
              "#d8576b"
             ],
             [
              0.6666666666666666,
              "#ed7953"
             ],
             [
              0.7777777777777778,
              "#fb9f3a"
             ],
             [
              0.8888888888888888,
              "#fdca26"
             ],
             [
              1,
              "#f0f921"
             ]
            ],
            "type": "histogram2d"
           }
          ],
          "histogram2dcontour": [
           {
            "colorbar": {
             "outlinewidth": 0,
             "ticks": ""
            },
            "colorscale": [
             [
              0,
              "#0d0887"
             ],
             [
              0.1111111111111111,
              "#46039f"
             ],
             [
              0.2222222222222222,
              "#7201a8"
             ],
             [
              0.3333333333333333,
              "#9c179e"
             ],
             [
              0.4444444444444444,
              "#bd3786"
             ],
             [
              0.5555555555555556,
              "#d8576b"
             ],
             [
              0.6666666666666666,
              "#ed7953"
             ],
             [
              0.7777777777777778,
              "#fb9f3a"
             ],
             [
              0.8888888888888888,
              "#fdca26"
             ],
             [
              1,
              "#f0f921"
             ]
            ],
            "type": "histogram2dcontour"
           }
          ],
          "mesh3d": [
           {
            "colorbar": {
             "outlinewidth": 0,
             "ticks": ""
            },
            "type": "mesh3d"
           }
          ],
          "parcoords": [
           {
            "line": {
             "colorbar": {
              "outlinewidth": 0,
              "ticks": ""
             }
            },
            "type": "parcoords"
           }
          ],
          "pie": [
           {
            "automargin": true,
            "type": "pie"
           }
          ],
          "scatter": [
           {
            "fillpattern": {
             "fillmode": "overlay",
             "size": 10,
             "solidity": 0.2
            },
            "type": "scatter"
           }
          ],
          "scatter3d": [
           {
            "line": {
             "colorbar": {
              "outlinewidth": 0,
              "ticks": ""
             }
            },
            "marker": {
             "colorbar": {
              "outlinewidth": 0,
              "ticks": ""
             }
            },
            "type": "scatter3d"
           }
          ],
          "scattercarpet": [
           {
            "marker": {
             "colorbar": {
              "outlinewidth": 0,
              "ticks": ""
             }
            },
            "type": "scattercarpet"
           }
          ],
          "scattergeo": [
           {
            "marker": {
             "colorbar": {
              "outlinewidth": 0,
              "ticks": ""
             }
            },
            "type": "scattergeo"
           }
          ],
          "scattergl": [
           {
            "marker": {
             "colorbar": {
              "outlinewidth": 0,
              "ticks": ""
             }
            },
            "type": "scattergl"
           }
          ],
          "scattermapbox": [
           {
            "marker": {
             "colorbar": {
              "outlinewidth": 0,
              "ticks": ""
             }
            },
            "type": "scattermapbox"
           }
          ],
          "scatterpolar": [
           {
            "marker": {
             "colorbar": {
              "outlinewidth": 0,
              "ticks": ""
             }
            },
            "type": "scatterpolar"
           }
          ],
          "scatterpolargl": [
           {
            "marker": {
             "colorbar": {
              "outlinewidth": 0,
              "ticks": ""
             }
            },
            "type": "scatterpolargl"
           }
          ],
          "scatterternary": [
           {
            "marker": {
             "colorbar": {
              "outlinewidth": 0,
              "ticks": ""
             }
            },
            "type": "scatterternary"
           }
          ],
          "surface": [
           {
            "colorbar": {
             "outlinewidth": 0,
             "ticks": ""
            },
            "colorscale": [
             [
              0,
              "#0d0887"
             ],
             [
              0.1111111111111111,
              "#46039f"
             ],
             [
              0.2222222222222222,
              "#7201a8"
             ],
             [
              0.3333333333333333,
              "#9c179e"
             ],
             [
              0.4444444444444444,
              "#bd3786"
             ],
             [
              0.5555555555555556,
              "#d8576b"
             ],
             [
              0.6666666666666666,
              "#ed7953"
             ],
             [
              0.7777777777777778,
              "#fb9f3a"
             ],
             [
              0.8888888888888888,
              "#fdca26"
             ],
             [
              1,
              "#f0f921"
             ]
            ],
            "type": "surface"
           }
          ],
          "table": [
           {
            "cells": {
             "fill": {
              "color": "#EBF0F8"
             },
             "line": {
              "color": "white"
             }
            },
            "header": {
             "fill": {
              "color": "#C8D4E3"
             },
             "line": {
              "color": "white"
             }
            },
            "type": "table"
           }
          ]
         },
         "layout": {
          "annotationdefaults": {
           "arrowcolor": "#2a3f5f",
           "arrowhead": 0,
           "arrowwidth": 1
          },
          "autotypenumbers": "strict",
          "coloraxis": {
           "colorbar": {
            "outlinewidth": 0,
            "ticks": ""
           }
          },
          "colorscale": {
           "diverging": [
            [
             0,
             "#8e0152"
            ],
            [
             0.1,
             "#c51b7d"
            ],
            [
             0.2,
             "#de77ae"
            ],
            [
             0.3,
             "#f1b6da"
            ],
            [
             0.4,
             "#fde0ef"
            ],
            [
             0.5,
             "#f7f7f7"
            ],
            [
             0.6,
             "#e6f5d0"
            ],
            [
             0.7,
             "#b8e186"
            ],
            [
             0.8,
             "#7fbc41"
            ],
            [
             0.9,
             "#4d9221"
            ],
            [
             1,
             "#276419"
            ]
           ],
           "sequential": [
            [
             0,
             "#0d0887"
            ],
            [
             0.1111111111111111,
             "#46039f"
            ],
            [
             0.2222222222222222,
             "#7201a8"
            ],
            [
             0.3333333333333333,
             "#9c179e"
            ],
            [
             0.4444444444444444,
             "#bd3786"
            ],
            [
             0.5555555555555556,
             "#d8576b"
            ],
            [
             0.6666666666666666,
             "#ed7953"
            ],
            [
             0.7777777777777778,
             "#fb9f3a"
            ],
            [
             0.8888888888888888,
             "#fdca26"
            ],
            [
             1,
             "#f0f921"
            ]
           ],
           "sequentialminus": [
            [
             0,
             "#0d0887"
            ],
            [
             0.1111111111111111,
             "#46039f"
            ],
            [
             0.2222222222222222,
             "#7201a8"
            ],
            [
             0.3333333333333333,
             "#9c179e"
            ],
            [
             0.4444444444444444,
             "#bd3786"
            ],
            [
             0.5555555555555556,
             "#d8576b"
            ],
            [
             0.6666666666666666,
             "#ed7953"
            ],
            [
             0.7777777777777778,
             "#fb9f3a"
            ],
            [
             0.8888888888888888,
             "#fdca26"
            ],
            [
             1,
             "#f0f921"
            ]
           ]
          },
          "colorway": [
           "#636efa",
           "#EF553B",
           "#00cc96",
           "#ab63fa",
           "#FFA15A",
           "#19d3f3",
           "#FF6692",
           "#B6E880",
           "#FF97FF",
           "#FECB52"
          ],
          "font": {
           "color": "#2a3f5f"
          },
          "geo": {
           "bgcolor": "white",
           "lakecolor": "white",
           "landcolor": "#E5ECF6",
           "showlakes": true,
           "showland": true,
           "subunitcolor": "white"
          },
          "hoverlabel": {
           "align": "left"
          },
          "hovermode": "closest",
          "mapbox": {
           "style": "light"
          },
          "paper_bgcolor": "white",
          "plot_bgcolor": "#E5ECF6",
          "polar": {
           "angularaxis": {
            "gridcolor": "white",
            "linecolor": "white",
            "ticks": ""
           },
           "bgcolor": "#E5ECF6",
           "radialaxis": {
            "gridcolor": "white",
            "linecolor": "white",
            "ticks": ""
           }
          },
          "scene": {
           "xaxis": {
            "backgroundcolor": "#E5ECF6",
            "gridcolor": "white",
            "gridwidth": 2,
            "linecolor": "white",
            "showbackground": true,
            "ticks": "",
            "zerolinecolor": "white"
           },
           "yaxis": {
            "backgroundcolor": "#E5ECF6",
            "gridcolor": "white",
            "gridwidth": 2,
            "linecolor": "white",
            "showbackground": true,
            "ticks": "",
            "zerolinecolor": "white"
           },
           "zaxis": {
            "backgroundcolor": "#E5ECF6",
            "gridcolor": "white",
            "gridwidth": 2,
            "linecolor": "white",
            "showbackground": true,
            "ticks": "",
            "zerolinecolor": "white"
           }
          },
          "shapedefaults": {
           "line": {
            "color": "#2a3f5f"
           }
          },
          "ternary": {
           "aaxis": {
            "gridcolor": "white",
            "linecolor": "white",
            "ticks": ""
           },
           "baxis": {
            "gridcolor": "white",
            "linecolor": "white",
            "ticks": ""
           },
           "bgcolor": "#E5ECF6",
           "caxis": {
            "gridcolor": "white",
            "linecolor": "white",
            "ticks": ""
           }
          },
          "title": {
           "x": 0.05
          },
          "xaxis": {
           "automargin": true,
           "gridcolor": "white",
           "linecolor": "white",
           "ticks": "",
           "title": {
            "standoff": 15
           },
           "zerolinecolor": "white",
           "zerolinewidth": 2
          },
          "yaxis": {
           "automargin": true,
           "gridcolor": "white",
           "linecolor": "white",
           "ticks": "",
           "title": {
            "standoff": 15
           },
           "zerolinecolor": "white",
           "zerolinewidth": 2
          }
         }
        },
        "title": {
         "text": "Views and Likes for Each Video"
        },
        "xaxis": {
         "title": {
          "text": "Views"
         }
        },
        "yaxis": {
         "title": {
          "text": "Likes"
         }
        }
       }
      }
     },
     "metadata": {},
     "output_type": "display_data"
    }
   ],
   "source": [
    "# Add 'cluster_label' column to the dataframe\n",
    "df['cluster_label'] = kmeans.labels_\n",
    "\n",
    "# Scatter plot with color-coded clusters\n",
    "fig = go.Figure(data=go.Scatter(x=df['views'], y=df['likes'], mode='markers', marker=dict(color=df['cluster_label']), hovertext=df['video_title']))\n",
    "\n",
    "fig.update_layout(title='Views and Likes for Each Video',\n",
    "                  xaxis_title='Views',\n",
    "                  yaxis_title='Likes',\n",
    "                  hovermode='closest')\n",
    "pio.write_html(fig, file='../../fam-report-site/public/Social-Analytics/views_likes_by_cluster.html', auto_open=True)\n",
    "fig.show()\n"
   ]
  },
  {
   "cell_type": "code",
   "execution_count": null,
   "metadata": {},
   "outputs": [],
   "source": []
  }
 ],
 "metadata": {
  "kernelspec": {
   "display_name": "base",
   "language": "python",
   "name": "python3"
  },
  "language_info": {
   "codemirror_mode": {
    "name": "ipython",
    "version": 3
   },
   "file_extension": ".py",
   "mimetype": "text/x-python",
   "name": "python",
   "nbconvert_exporter": "python",
   "pygments_lexer": "ipython3",
   "version": "3.10.9"
  },
  "orig_nbformat": 4
 },
 "nbformat": 4,
 "nbformat_minor": 2
}
