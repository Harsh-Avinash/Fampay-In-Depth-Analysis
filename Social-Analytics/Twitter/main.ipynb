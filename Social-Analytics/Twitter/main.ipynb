{
 "cells": [
  {
   "attachments": {},
   "cell_type": "markdown",
   "metadata": {},
   "source": [
    "Nothing works musk depricated the api, RIP Twitter"
   ]
  },
  {
   "cell_type": "code",
   "execution_count": 15,
   "metadata": {},
   "outputs": [],
   "source": [
    "import requests\n",
    "from bs4 import BeautifulSoup\n",
    "import csv\n",
    "import time\n",
    "\n",
    "def fetch_tweets(username, num_tweets=200):\n",
    "    tweets_data = []\n",
    "    url = f'https://twitter.com/{username}'\n",
    "    headers = {'User-Agent': 'Mozilla/5.0'}\n",
    "\n",
    "    while len(tweets_data) < num_tweets:\n",
    "        response = requests.get(url, headers=headers)\n",
    "        soup = BeautifulSoup(response.text, 'html.parser')\n",
    "        tweets = soup.find_all('div', {'data-testid': 'tweet'})\n",
    "\n",
    "        if not tweets:\n",
    "            break\n",
    "\n",
    "        for tweet in tweets:\n",
    "            if len(tweets_data) >= num_tweets:\n",
    "                break\n",
    "\n",
    "            try:\n",
    "                text = tweet.find('div', {'lang': True}).get_text()\n",
    "                tweet_id = tweet['data-tweet-id']\n",
    "                created_at = tweet.find('time')['datetime']\n",
    "                tweet_data = {\n",
    "                    'tweet_id': tweet_id,\n",
    "                    'created_at': created_at,\n",
    "                    'full_text': text,\n",
    "                    'url': f'https://twitter.com/{username}/status/{tweet_id}'\n",
    "                }\n",
    "                tweets_data.append(tweet_data)\n",
    "            except:\n",
    "                continue\n",
    "\n",
    "        last_tweet = tweets[-1]\n",
    "        last_tweet_id = last_tweet['data-tweet-id']\n",
    "        url = f'https://twitter.com/{username}/max_id/{last_tweet_id}'\n",
    "\n",
    "    return tweets_data\n",
    "\n",
    "username = 'fampayindia'\n",
    "tweets_data = fetch_tweets(username)\n",
    "\n",
    "with open('fampay_twitter_data.csv', 'w', newline='', encoding='utf-8') as csvfile:\n",
    "    fieldnames = ['tweet_id', 'created_at', 'full_text', 'url']\n",
    "    writer = csv.DictWriter(csvfile, fieldnames=fieldnames)\n",
    "    writer.writeheader()\n",
    "    for tweet_data in tweets_data:\n",
    "        writer.writerow(tweet_data)\n",
    "\n",
    "print(\"FamPay Twitter data has been saved to fampay_twitter_data.csv.\")\n"
   ]
  }
 ],
 "metadata": {
  "kernelspec": {
   "display_name": "base",
   "language": "python",
   "name": "python3"
  },
  "language_info": {
   "codemirror_mode": {
    "name": "ipython",
    "version": 3
   },
   "file_extension": ".py",
   "mimetype": "text/x-python",
   "name": "python",
   "nbconvert_exporter": "python",
   "pygments_lexer": "ipython3",
   "version": "3.10.9"
  },
  "orig_nbformat": 4
 },
 "nbformat": 4,
 "nbformat_minor": 2
}
