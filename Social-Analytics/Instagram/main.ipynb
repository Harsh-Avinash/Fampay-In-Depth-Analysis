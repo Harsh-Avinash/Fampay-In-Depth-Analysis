{
 "cells": [
  {
   "cell_type": "code",
   "execution_count": 4,
   "metadata": {},
   "outputs": [],
   "source": [
    "import csv\n",
    "import instaloader"
   ]
  },
  {
   "cell_type": "code",
   "execution_count": 6,
   "metadata": {},
   "outputs": [],
   "source": [
    "# Replace 'YOUR_USERNAME' and 'YOUR_PASSWORD' with your Instagram login credentials\n",
    "username = 'HA_Scrapper'\n",
    "password = 'Disturbuteablepassword'\n",
    "\n",
    "# Initialize Instaloader\n",
    "L = instaloader.Instaloader()\n",
    "\n",
    "# Login to Instagram\n",
    "L.context.username = username\n",
    "L.context.password = password\n",
    "L.login(username, password)\n",
    "\n",
    "# Load the FamPay Instagram profile\n",
    "profile = instaloader.Profile.from_username(L.context, 'fam.india')"
   ]
  },
  {
   "cell_type": "code",
   "execution_count": 7,
   "metadata": {},
   "outputs": [
    {
     "name": "stdout",
     "output_type": "stream",
     "text": [
      "Extracting data from post: CrduTV9Jw-5\n",
      "Extracted data from post: CrduTV9Jw-5\n",
      "Extracting data from post: CrdHH2Zpn5R\n",
      "Extracted data from post: CrdHH2Zpn5R\n",
      "Extracting data from post: CrXogaGgxAL\n",
      "Extracted data from post: CrXogaGgxAL\n",
      "Extracting data from post: CrV2kOLgqq8\n",
      "Extracted data from post: CrV2kOLgqq8\n",
      "Extracting data from post: CrTd6o7prTN\n",
      "Extracted data from post: CrTd6o7prTN\n",
      "Extracting data from post: CrQ3Dx1pMTB\n",
      "Extracted data from post: CrQ3Dx1pMTB\n"
     ]
    }
   ],
   "source": [
    "# Extract the content of the posts\n",
    "posts_data = []\n",
    "count = 0\n",
    "for post in profile.get_posts():\n",
    "    print(\"Extracting data from post: \" + post.shortcode)\n",
    "    post_data = {\n",
    "        'shortcode': post.shortcode,\n",
    "        'caption': post.caption,\n",
    "        'upload_time': post.date_local,\n",
    "        'num_likes': post.likes,\n",
    "        'num_comments': post.comments,\n",
    "        'is_video': post.is_video,\n",
    "        'video_views': post.video_view_count if post.is_video else None,\n",
    "        'url': post.url\n",
    "    }\n",
    "    print(\"Extracted data from post: \" + post.shortcode)\n",
    "    count += 1\n",
    "    posts_data.append(post_data)"
   ]
  },
  {
   "cell_type": "code",
   "execution_count": 8,
   "metadata": {},
   "outputs": [
    {
     "name": "stdout",
     "output_type": "stream",
     "text": [
      "FamPay Instagram data has been saved to fampay_instagram_data.csv.\n"
     ]
    }
   ],
   "source": [
    "# Save the data to a CSV file\n",
    "with open('fampay_instagram_data_latest_all.csv', 'w', newline='', encoding='utf-8') as csvfile:\n",
    "    fieldnames = ['shortcode', 'caption', 'upload_time', 'num_likes', 'num_comments', 'is_video', 'video_views', 'url']\n",
    "    writer = csv.DictWriter(csvfile, fieldnames=fieldnames)\n",
    "    writer.writeheader()\n",
    "    for post_data in posts_data:\n",
    "        writer.writerow(post_data)\n",
    "\n",
    "print(\"FamPay Instagram data has been saved to fampay_instagram_data.csv.\")"
   ]
  }
 ],
 "metadata": {
  "kernelspec": {
   "display_name": "base",
   "language": "python",
   "name": "python3"
  },
  "language_info": {
   "codemirror_mode": {
    "name": "ipython",
    "version": 3
   },
   "file_extension": ".py",
   "mimetype": "text/x-python",
   "name": "python",
   "nbconvert_exporter": "python",
   "pygments_lexer": "ipython3",
   "version": "3.10.9"
  },
  "orig_nbformat": 4
 },
 "nbformat": 4,
 "nbformat_minor": 2
}
