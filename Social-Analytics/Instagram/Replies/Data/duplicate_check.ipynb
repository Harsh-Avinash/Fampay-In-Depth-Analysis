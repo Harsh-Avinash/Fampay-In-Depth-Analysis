{
 "cells": [
  {
   "cell_type": "code",
   "execution_count": 1,
   "metadata": {},
   "outputs": [],
   "source": [
    "import pandas as pd"
   ]
  },
  {
   "cell_type": "code",
   "execution_count": 4,
   "metadata": {},
   "outputs": [],
   "source": [
    "# Read the CSV file\n",
    "data = pd.read_csv('fampay_instagram_comments_all_new.csv')"
   ]
  },
  {
   "cell_type": "code",
   "execution_count": 5,
   "metadata": {},
   "outputs": [],
   "source": [
    "# Merge all fields into a single column\n",
    "data['merged'] = data.apply(lambda row: ' '.join(map(str, row)), axis=1)\n",
    "\n",
    "# Drop duplicate merged rows\n",
    "data.drop_duplicates(subset='merged', keep='first', inplace=True)\n",
    "\n",
    "# Drop the merged column\n",
    "data.drop('merged', axis=1, inplace=True)\n",
    "\n",
    "# Save the updated data back to the CSV file\n",
    "data.to_csv('fampay_instagram_comments_all_new.csv', index=False)"
   ]
  }
 ],
 "metadata": {
  "kernelspec": {
   "display_name": "base",
   "language": "python",
   "name": "python3"
  },
  "language_info": {
   "codemirror_mode": {
    "name": "ipython",
    "version": 3
   },
   "file_extension": ".py",
   "mimetype": "text/x-python",
   "name": "python",
   "nbconvert_exporter": "python",
   "pygments_lexer": "ipython3",
   "version": "3.10.9"
  },
  "orig_nbformat": 4
 },
 "nbformat": 4,
 "nbformat_minor": 2
}
