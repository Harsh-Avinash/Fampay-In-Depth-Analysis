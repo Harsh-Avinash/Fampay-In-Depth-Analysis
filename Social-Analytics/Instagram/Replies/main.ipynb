{
 "cells": [
  {
   "cell_type": "code",
   "execution_count": 22,
   "metadata": {},
   "outputs": [],
   "source": [
    "import instaloader\n",
    "import pandas as pd"
   ]
  },
  {
   "cell_type": "code",
   "execution_count": 23,
   "metadata": {},
   "outputs": [],
   "source": [
    "# Replace these with your Instagram username and password\n",
    "INSTAGRAM_USERNAME = 'HA_Scrapper'\n",
    "INSTAGRAM_PASSWORD = 'Disturbuteablepassword'"
   ]
  },
  {
   "cell_type": "code",
   "execution_count": 27,
   "metadata": {},
   "outputs": [],
   "source": [
    "def login_instagram(username, password):\n",
    "    loader = instaloader.Instaloader()\n",
    "    try:\n",
    "        loader.load_session_from_file(username)\n",
    "    except FileNotFoundError:\n",
    "        loader.context.log(\"Session file not found, logging in...\")\n",
    "        loader.context.log(\"Logging in as %s...\" % username)\n",
    "        loader.login(username, password)\n",
    "        loader.save_session_to_file()\n",
    "\n",
    "    return loader\n",
    "\n",
    "def get_post_comments(loader, shortcode):\n",
    "    post = instaloader.Post.from_shortcode(loader.context, shortcode)\n",
    "    comments = []\n",
    "\n",
    "    for comment in post.get_comments():\n",
    "        comments.append({\n",
    "            'username': comment.owner.username,\n",
    "            'text': comment.text\n",
    "        })\n",
    "\n",
    "    return comments"
   ]
  },
  {
   "cell_type": "code",
   "execution_count": 25,
   "metadata": {},
   "outputs": [],
   "source": [
    "df = pd.read_csv(\"../fampay_instagram_data.csv\")\n",
    "shortcodes = df['shortcode']"
   ]
  },
  {
   "cell_type": "code",
   "execution_count": 30,
   "metadata": {},
   "outputs": [
    {
     "name": "stdout",
     "output_type": "stream",
     "text": [
      "Loaded session from C:\\Users\\Harsh Clean\\AppData\\Local\\Instaloader\\session-HA_Scrapper.\n"
     ]
    },
    {
     "name": "stderr",
     "output_type": "stream",
     "text": [
      "JSON Query to graphql/query: HTTPSConnectionPool(host='www.instagram.com', port=443): Max retries exceeded with url: /graphql/query?query_hash=2b0673e0dc4580674a88d426fe00ea90&variables=%7B%22shortcode%22%3A%22CrXogaGgxAL%22%7D (Caused by NewConnectionError('<urllib3.connection.HTTPSConnection object at 0x000001D079149060>: Failed to establish a new connection: [Errno 11001] getaddrinfo failed')) [retrying; skip with ^C]\n",
      "JSON Query to graphql/query: HTTPSConnectionPool(host='www.instagram.com', port=443): Max retries exceeded with url: /graphql/query?query_hash=2b0673e0dc4580674a88d426fe00ea90&variables=%7B%22shortcode%22%3A%22CrXogaGgxAL%22%7D (Caused by NewConnectionError('<urllib3.connection.HTTPSConnection object at 0x000001D0791490F0>: Failed to establish a new connection: [Errno 11001] getaddrinfo failed')) [retrying; skip with ^C]\n"
     ]
    },
    {
     "ename": "KeyboardInterrupt",
     "evalue": "",
     "output_type": "error",
     "traceback": [
      "\u001b[1;31m---------------------------------------------------------------------------\u001b[0m",
      "\u001b[1;31mKeyboardInterrupt\u001b[0m                         Traceback (most recent call last)",
      "Cell \u001b[1;32mIn[30], line 6\u001b[0m\n\u001b[0;32m      3\u001b[0m dfr \u001b[39m=\u001b[39m pd\u001b[39m.\u001b[39mDataFrame(columns\u001b[39m=\u001b[39m[\u001b[39m'\u001b[39m\u001b[39musername\u001b[39m\u001b[39m'\u001b[39m, \u001b[39m'\u001b[39m\u001b[39mtext\u001b[39m\u001b[39m'\u001b[39m, \u001b[39m'\u001b[39m\u001b[39mshortcode\u001b[39m\u001b[39m'\u001b[39m])\n\u001b[0;32m      5\u001b[0m \u001b[39mfor\u001b[39;00m shortcode \u001b[39min\u001b[39;00m shortcodes:\n\u001b[1;32m----> 6\u001b[0m     comments \u001b[39m=\u001b[39m get_post_comments(loader, shortcode)\n\u001b[0;32m      8\u001b[0m     \u001b[39mfor\u001b[39;00m idx, comment \u001b[39min\u001b[39;00m \u001b[39menumerate\u001b[39m(comments, start\u001b[39m=\u001b[39m\u001b[39m1\u001b[39m):\n\u001b[0;32m      9\u001b[0m         \u001b[39m# print(f\"{idx}. {comment['username']}: {comment['text']}\")\u001b[39;00m\n\u001b[0;32m     11\u001b[0m         dfr \u001b[39m=\u001b[39m dfr\u001b[39m.\u001b[39mappend({\u001b[39m'\u001b[39m\u001b[39musername\u001b[39m\u001b[39m'\u001b[39m: comment[\u001b[39m'\u001b[39m\u001b[39musername\u001b[39m\u001b[39m'\u001b[39m], \u001b[39m'\u001b[39m\u001b[39mtext\u001b[39m\u001b[39m'\u001b[39m: comment[\u001b[39m'\u001b[39m\u001b[39mtext\u001b[39m\u001b[39m'\u001b[39m],\u001b[39m'\u001b[39m\u001b[39mshortcode\u001b[39m\u001b[39m'\u001b[39m: shortcode}, ignore_index\u001b[39m=\u001b[39m\u001b[39mTrue\u001b[39;00m) \u001b[39m#type: ignore\u001b[39;00m\n",
      "Cell \u001b[1;32mIn[27], line 17\u001b[0m, in \u001b[0;36mget_post_comments\u001b[1;34m(loader, shortcode)\u001b[0m\n\u001b[0;32m     14\u001b[0m post \u001b[39m=\u001b[39m instaloader\u001b[39m.\u001b[39mPost\u001b[39m.\u001b[39mfrom_shortcode(loader\u001b[39m.\u001b[39mcontext, shortcode)\n\u001b[0;32m     15\u001b[0m comments \u001b[39m=\u001b[39m []\n\u001b[1;32m---> 17\u001b[0m \u001b[39mfor\u001b[39;00m comment \u001b[39min\u001b[39;00m post\u001b[39m.\u001b[39mget_comments():\n\u001b[0;32m     18\u001b[0m     comments\u001b[39m.\u001b[39mappend({\n\u001b[0;32m     19\u001b[0m         \u001b[39m'\u001b[39m\u001b[39musername\u001b[39m\u001b[39m'\u001b[39m: comment\u001b[39m.\u001b[39mowner\u001b[39m.\u001b[39musername,\n\u001b[0;32m     20\u001b[0m         \u001b[39m'\u001b[39m\u001b[39mtext\u001b[39m\u001b[39m'\u001b[39m: comment\u001b[39m.\u001b[39mtext\n\u001b[0;32m     21\u001b[0m     })\n\u001b[0;32m     23\u001b[0m \u001b[39mreturn\u001b[39;00m comments\n",
      "File \u001b[1;32m~\\AppData\\Roaming\\Python\\Python310\\site-packages\\instaloader\\nodeiterator.py:141\u001b[0m, in \u001b[0;36mNodeIterator.__next__\u001b[1;34m(self)\u001b[0m\n\u001b[0;32m    139\u001b[0m     \u001b[39mreturn\u001b[39;00m item\n\u001b[0;32m    140\u001b[0m \u001b[39mif\u001b[39;00m \u001b[39mself\u001b[39m\u001b[39m.\u001b[39m_data[\u001b[39m'\u001b[39m\u001b[39mpage_info\u001b[39m\u001b[39m'\u001b[39m][\u001b[39m'\u001b[39m\u001b[39mhas_next_page\u001b[39m\u001b[39m'\u001b[39m]:\n\u001b[1;32m--> 141\u001b[0m     query_response \u001b[39m=\u001b[39m \u001b[39mself\u001b[39;49m\u001b[39m.\u001b[39;49m_query(\u001b[39mself\u001b[39;49m\u001b[39m.\u001b[39;49m_data[\u001b[39m'\u001b[39;49m\u001b[39mpage_info\u001b[39;49m\u001b[39m'\u001b[39;49m][\u001b[39m'\u001b[39;49m\u001b[39mend_cursor\u001b[39;49m\u001b[39m'\u001b[39;49m])\n\u001b[0;32m    142\u001b[0m     \u001b[39mif\u001b[39;00m \u001b[39mself\u001b[39m\u001b[39m.\u001b[39m_data[\u001b[39m'\u001b[39m\u001b[39medges\u001b[39m\u001b[39m'\u001b[39m] \u001b[39m!=\u001b[39m query_response[\u001b[39m'\u001b[39m\u001b[39medges\u001b[39m\u001b[39m'\u001b[39m] \u001b[39mand\u001b[39;00m \u001b[39mlen\u001b[39m(query_response[\u001b[39m'\u001b[39m\u001b[39medges\u001b[39m\u001b[39m'\u001b[39m]) \u001b[39m>\u001b[39m \u001b[39m0\u001b[39m:\n\u001b[0;32m    143\u001b[0m         page_index, data \u001b[39m=\u001b[39m \u001b[39mself\u001b[39m\u001b[39m.\u001b[39m_page_index, \u001b[39mself\u001b[39m\u001b[39m.\u001b[39m_data\n",
      "File \u001b[1;32m~\\AppData\\Roaming\\Python\\Python310\\site-packages\\instaloader\\nodeiterator.py:103\u001b[0m, in \u001b[0;36mNodeIterator._query\u001b[1;34m(self, after)\u001b[0m\n\u001b[0;32m    100\u001b[0m     pagination_variables[\u001b[39m'\u001b[39m\u001b[39mafter\u001b[39m\u001b[39m'\u001b[39m] \u001b[39m=\u001b[39m after\n\u001b[0;32m    101\u001b[0m \u001b[39mtry\u001b[39;00m:\n\u001b[0;32m    102\u001b[0m     data \u001b[39m=\u001b[39m \u001b[39mself\u001b[39m\u001b[39m.\u001b[39m_edge_extractor(\n\u001b[1;32m--> 103\u001b[0m         \u001b[39mself\u001b[39;49m\u001b[39m.\u001b[39;49m_context\u001b[39m.\u001b[39;49mgraphql_query(\n\u001b[0;32m    104\u001b[0m             \u001b[39mself\u001b[39;49m\u001b[39m.\u001b[39;49m_query_hash, {\u001b[39m*\u001b[39;49m\u001b[39m*\u001b[39;49m\u001b[39mself\u001b[39;49m\u001b[39m.\u001b[39;49m_query_variables, \u001b[39m*\u001b[39;49m\u001b[39m*\u001b[39;49mpagination_variables}, \u001b[39mself\u001b[39;49m\u001b[39m.\u001b[39;49m_query_referer\n\u001b[0;32m    105\u001b[0m         )\n\u001b[0;32m    106\u001b[0m     )\n\u001b[0;32m    107\u001b[0m     \u001b[39mself\u001b[39m\u001b[39m.\u001b[39m_best_before \u001b[39m=\u001b[39m datetime\u001b[39m.\u001b[39mnow() \u001b[39m+\u001b[39m NodeIterator\u001b[39m.\u001b[39m_shelf_life\n\u001b[0;32m    108\u001b[0m     \u001b[39mreturn\u001b[39;00m data\n",
      "File \u001b[1;32m~\\AppData\\Roaming\\Python\\Python310\\site-packages\\instaloader\\instaloadercontext.py:429\u001b[0m, in \u001b[0;36mInstaloaderContext.graphql_query\u001b[1;34m(self, query_hash, variables, referer, rhx_gis)\u001b[0m\n\u001b[0;32m    426\u001b[0m         x_instagram_gis \u001b[39m=\u001b[39m hashlib\u001b[39m.\u001b[39mmd5(values\u001b[39m.\u001b[39mencode())\u001b[39m.\u001b[39mhexdigest()\n\u001b[0;32m    427\u001b[0m         tmpsession\u001b[39m.\u001b[39mheaders[\u001b[39m'\u001b[39m\u001b[39mx-instagram-gis\u001b[39m\u001b[39m'\u001b[39m] \u001b[39m=\u001b[39m x_instagram_gis\n\u001b[1;32m--> 429\u001b[0m     resp_json \u001b[39m=\u001b[39m \u001b[39mself\u001b[39;49m\u001b[39m.\u001b[39;49mget_json(\u001b[39m'\u001b[39;49m\u001b[39mgraphql/query\u001b[39;49m\u001b[39m'\u001b[39;49m,\n\u001b[0;32m    430\u001b[0m                               params\u001b[39m=\u001b[39;49m{\u001b[39m'\u001b[39;49m\u001b[39mquery_hash\u001b[39;49m\u001b[39m'\u001b[39;49m: query_hash,\n\u001b[0;32m    431\u001b[0m                                       \u001b[39m'\u001b[39;49m\u001b[39mvariables\u001b[39;49m\u001b[39m'\u001b[39;49m: variables_json},\n\u001b[0;32m    432\u001b[0m                               session\u001b[39m=\u001b[39;49mtmpsession)\n\u001b[0;32m    433\u001b[0m \u001b[39mif\u001b[39;00m \u001b[39m'\u001b[39m\u001b[39mstatus\u001b[39m\u001b[39m'\u001b[39m \u001b[39mnot\u001b[39;00m \u001b[39min\u001b[39;00m resp_json:\n\u001b[0;32m    434\u001b[0m     \u001b[39mself\u001b[39m\u001b[39m.\u001b[39merror(\u001b[39m\"\u001b[39m\u001b[39mGraphQL response did not contain a \u001b[39m\u001b[39m\\\"\u001b[39;00m\u001b[39mstatus\u001b[39m\u001b[39m\\\"\u001b[39;00m\u001b[39m field.\u001b[39m\u001b[39m\"\u001b[39m)\n",
      "File \u001b[1;32m~\\AppData\\Roaming\\Python\\Python310\\site-packages\\instaloader\\instaloadercontext.py:318\u001b[0m, in \u001b[0;36mInstaloaderContext.get_json\u001b[1;34m(self, path, params, host, session, _attempt)\u001b[0m\n\u001b[0;32m    316\u001b[0m sess \u001b[39m=\u001b[39m session \u001b[39mif\u001b[39;00m session \u001b[39melse\u001b[39;00m \u001b[39mself\u001b[39m\u001b[39m.\u001b[39m_session\n\u001b[0;32m    317\u001b[0m \u001b[39mtry\u001b[39;00m:\n\u001b[1;32m--> 318\u001b[0m     \u001b[39mself\u001b[39;49m\u001b[39m.\u001b[39;49mdo_sleep()\n\u001b[0;32m    319\u001b[0m     \u001b[39mif\u001b[39;00m is_graphql_query:\n\u001b[0;32m    320\u001b[0m         \u001b[39mself\u001b[39m\u001b[39m.\u001b[39m_rate_controller\u001b[39m.\u001b[39mwait_before_query(params[\u001b[39m'\u001b[39m\u001b[39mquery_hash\u001b[39m\u001b[39m'\u001b[39m])\n",
      "File \u001b[1;32m~\\AppData\\Roaming\\Python\\Python310\\site-packages\\instaloader\\instaloadercontext.py:298\u001b[0m, in \u001b[0;36mInstaloaderContext.do_sleep\u001b[1;34m(self)\u001b[0m\n\u001b[0;32m    296\u001b[0m \u001b[39m\"\"\"Sleep a short time if self.sleep is set. Called before each request to instagram.com.\"\"\"\u001b[39;00m\n\u001b[0;32m    297\u001b[0m \u001b[39mif\u001b[39;00m \u001b[39mself\u001b[39m\u001b[39m.\u001b[39msleep:\n\u001b[1;32m--> 298\u001b[0m     time\u001b[39m.\u001b[39;49msleep(\u001b[39mmin\u001b[39;49m(random\u001b[39m.\u001b[39;49mexpovariate(\u001b[39m0.6\u001b[39;49m), \u001b[39m15.0\u001b[39;49m))\n",
      "\u001b[1;31mKeyboardInterrupt\u001b[0m: "
     ]
    }
   ],
   "source": [
    "loader = login_instagram(INSTAGRAM_USERNAME, INSTAGRAM_PASSWORD)\n",
    "\n",
    "dfr = pd.DataFrame(columns=['username', 'text', 'shortcode'])\n",
    "\n",
    "for shortcode in shortcodes:\n",
    "    comments = get_post_comments(loader, shortcode)\n",
    "\n",
    "    for idx, comment in enumerate(comments, start=1):\n",
    "        # print(f\"{idx}. {comment['username']}: {comment['text']}\")\n",
    "\n",
    "        dfr = dfr.append({'username': comment['username'], 'text': comment['text'],'shortcode': shortcode}, ignore_index=True) #type: ignore\n",
    "        dfr.to_csv('fampay_instagram_comments.csv', index=False)"
   ]
  }
 ],
 "metadata": {
  "kernelspec": {
   "display_name": "base",
   "language": "python",
   "name": "python3"
  },
  "language_info": {
   "codemirror_mode": {
    "name": "ipython",
    "version": 3
   },
   "file_extension": ".py",
   "mimetype": "text/x-python",
   "name": "python",
   "nbconvert_exporter": "python",
   "pygments_lexer": "ipython3",
   "version": "3.10.9"
  },
  "orig_nbformat": 4
 },
 "nbformat": 4,
 "nbformat_minor": 2
}
