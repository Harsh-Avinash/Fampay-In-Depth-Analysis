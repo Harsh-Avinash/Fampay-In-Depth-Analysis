{
 "cells": [
  {
   "cell_type": "code",
   "execution_count": 5,
   "metadata": {},
   "outputs": [],
   "source": [
    "import instaloader\n",
    "\n",
    "username = 'HA_Scrapper'\n",
    "password = 'Disturbuteablepassword'\n",
    "\n",
    "# Initialize Instaloader\n",
    "L = instaloader.Instaloader()\n",
    "\n",
    "# Login to Instagram\n",
    "L.context.username = username\n",
    "L.context.password = password\n",
    "L.login(username, password)\n",
    "\n",
    "# Load the FamPay Instagram profile\n",
    "profile = instaloader.Profile.from_username(L.context, 'fam.india')"
   ]
  },
  {
   "cell_type": "code",
   "execution_count": 9,
   "metadata": {},
   "outputs": [
    {
     "ename": "KeyboardInterrupt",
     "evalue": "",
     "output_type": "error",
     "traceback": [
      "\u001b[1;31m---------------------------------------------------------------------------\u001b[0m",
      "\u001b[1;31mKeyboardInterrupt\u001b[0m                         Traceback (most recent call last)",
      "Cell \u001b[1;32mIn[9], line 2\u001b[0m\n\u001b[0;32m      1\u001b[0m followers \u001b[39m=\u001b[39m []\n\u001b[1;32m----> 2\u001b[0m \u001b[39mfor\u001b[39;00m follower \u001b[39min\u001b[39;00m profile\u001b[39m.\u001b[39;49mget_followers():\n\u001b[0;32m      3\u001b[0m     followers\u001b[39m.\u001b[39mappend(follower\u001b[39m.\u001b[39musername)\n",
      "File \u001b[1;32m~\\AppData\\Roaming\\Python\\Python310\\site-packages\\instaloader\\structures.py:1055\u001b[0m, in \u001b[0;36mProfile.get_followers\u001b[1;34m(self)\u001b[0m\n\u001b[0;32m   1053\u001b[0m     \u001b[39mraise\u001b[39;00m LoginRequiredException(\u001b[39m\"\u001b[39m\u001b[39m--login required to get a profile\u001b[39m\u001b[39m'\u001b[39m\u001b[39ms followers.\u001b[39m\u001b[39m\"\u001b[39m)\n\u001b[0;32m   1054\u001b[0m \u001b[39mself\u001b[39m\u001b[39m.\u001b[39m_obtain_metadata()\n\u001b[1;32m-> 1055\u001b[0m \u001b[39mreturn\u001b[39;00m NodeIterator(\n\u001b[0;32m   1056\u001b[0m     \u001b[39mself\u001b[39;49m\u001b[39m.\u001b[39;49m_context,\n\u001b[0;32m   1057\u001b[0m     \u001b[39m'\u001b[39;49m\u001b[39m37479f2b8209594dde7facb0d904896a\u001b[39;49m\u001b[39m'\u001b[39;49m,\n\u001b[0;32m   1058\u001b[0m     \u001b[39mlambda\u001b[39;49;00m d: d[\u001b[39m'\u001b[39;49m\u001b[39mdata\u001b[39;49m\u001b[39m'\u001b[39;49m][\u001b[39m'\u001b[39;49m\u001b[39muser\u001b[39;49m\u001b[39m'\u001b[39;49m][\u001b[39m'\u001b[39;49m\u001b[39medge_followed_by\u001b[39;49m\u001b[39m'\u001b[39;49m],\n\u001b[0;32m   1059\u001b[0m     \u001b[39mlambda\u001b[39;49;00m n: Profile(\u001b[39mself\u001b[39;49m\u001b[39m.\u001b[39;49m_context, n),\n\u001b[0;32m   1060\u001b[0m     {\u001b[39m'\u001b[39;49m\u001b[39mid\u001b[39;49m\u001b[39m'\u001b[39;49m: \u001b[39mstr\u001b[39;49m(\u001b[39mself\u001b[39;49m\u001b[39m.\u001b[39;49muserid)},\n\u001b[0;32m   1061\u001b[0m     \u001b[39m'\u001b[39;49m\u001b[39mhttps://www.instagram.com/\u001b[39;49m\u001b[39m{0}\u001b[39;49;00m\u001b[39m/\u001b[39;49m\u001b[39m'\u001b[39;49m\u001b[39m.\u001b[39;49mformat(\u001b[39mself\u001b[39;49m\u001b[39m.\u001b[39;49musername),\n\u001b[0;32m   1062\u001b[0m )\n",
      "File \u001b[1;32m~\\AppData\\Roaming\\Python\\Python310\\site-packages\\instaloader\\nodeiterator.py:93\u001b[0m, in \u001b[0;36mNodeIterator.__init__\u001b[1;34m(self, context, query_hash, edge_extractor, node_wrapper, query_variables, query_referer, first_data, is_first)\u001b[0m\n\u001b[0;32m     91\u001b[0m     \u001b[39mself\u001b[39m\u001b[39m.\u001b[39m_best_before \u001b[39m=\u001b[39m datetime\u001b[39m.\u001b[39mnow() \u001b[39m+\u001b[39m NodeIterator\u001b[39m.\u001b[39m_shelf_life\n\u001b[0;32m     92\u001b[0m \u001b[39melse\u001b[39;00m:\n\u001b[1;32m---> 93\u001b[0m     \u001b[39mself\u001b[39m\u001b[39m.\u001b[39m_data \u001b[39m=\u001b[39m \u001b[39mself\u001b[39;49m\u001b[39m.\u001b[39;49m_query()\n\u001b[0;32m     94\u001b[0m \u001b[39mself\u001b[39m\u001b[39m.\u001b[39m_first_node: Optional[Dict] \u001b[39m=\u001b[39m \u001b[39mNone\u001b[39;00m\n\u001b[0;32m     95\u001b[0m \u001b[39mself\u001b[39m\u001b[39m.\u001b[39m_is_first \u001b[39m=\u001b[39m is_first\n",
      "File \u001b[1;32m~\\AppData\\Roaming\\Python\\Python310\\site-packages\\instaloader\\nodeiterator.py:103\u001b[0m, in \u001b[0;36mNodeIterator._query\u001b[1;34m(self, after)\u001b[0m\n\u001b[0;32m    100\u001b[0m     pagination_variables[\u001b[39m'\u001b[39m\u001b[39mafter\u001b[39m\u001b[39m'\u001b[39m] \u001b[39m=\u001b[39m after\n\u001b[0;32m    101\u001b[0m \u001b[39mtry\u001b[39;00m:\n\u001b[0;32m    102\u001b[0m     data \u001b[39m=\u001b[39m \u001b[39mself\u001b[39m\u001b[39m.\u001b[39m_edge_extractor(\n\u001b[1;32m--> 103\u001b[0m         \u001b[39mself\u001b[39;49m\u001b[39m.\u001b[39;49m_context\u001b[39m.\u001b[39;49mgraphql_query(\n\u001b[0;32m    104\u001b[0m             \u001b[39mself\u001b[39;49m\u001b[39m.\u001b[39;49m_query_hash, {\u001b[39m*\u001b[39;49m\u001b[39m*\u001b[39;49m\u001b[39mself\u001b[39;49m\u001b[39m.\u001b[39;49m_query_variables, \u001b[39m*\u001b[39;49m\u001b[39m*\u001b[39;49mpagination_variables}, \u001b[39mself\u001b[39;49m\u001b[39m.\u001b[39;49m_query_referer\n\u001b[0;32m    105\u001b[0m         )\n\u001b[0;32m    106\u001b[0m     )\n\u001b[0;32m    107\u001b[0m     \u001b[39mself\u001b[39m\u001b[39m.\u001b[39m_best_before \u001b[39m=\u001b[39m datetime\u001b[39m.\u001b[39mnow() \u001b[39m+\u001b[39m NodeIterator\u001b[39m.\u001b[39m_shelf_life\n\u001b[0;32m    108\u001b[0m     \u001b[39mreturn\u001b[39;00m data\n",
      "File \u001b[1;32m~\\AppData\\Roaming\\Python\\Python310\\site-packages\\instaloader\\instaloadercontext.py:429\u001b[0m, in \u001b[0;36mInstaloaderContext.graphql_query\u001b[1;34m(self, query_hash, variables, referer, rhx_gis)\u001b[0m\n\u001b[0;32m    426\u001b[0m         x_instagram_gis \u001b[39m=\u001b[39m hashlib\u001b[39m.\u001b[39mmd5(values\u001b[39m.\u001b[39mencode())\u001b[39m.\u001b[39mhexdigest()\n\u001b[0;32m    427\u001b[0m         tmpsession\u001b[39m.\u001b[39mheaders[\u001b[39m'\u001b[39m\u001b[39mx-instagram-gis\u001b[39m\u001b[39m'\u001b[39m] \u001b[39m=\u001b[39m x_instagram_gis\n\u001b[1;32m--> 429\u001b[0m     resp_json \u001b[39m=\u001b[39m \u001b[39mself\u001b[39;49m\u001b[39m.\u001b[39;49mget_json(\u001b[39m'\u001b[39;49m\u001b[39mgraphql/query\u001b[39;49m\u001b[39m'\u001b[39;49m,\n\u001b[0;32m    430\u001b[0m                               params\u001b[39m=\u001b[39;49m{\u001b[39m'\u001b[39;49m\u001b[39mquery_hash\u001b[39;49m\u001b[39m'\u001b[39;49m: query_hash,\n\u001b[0;32m    431\u001b[0m                                       \u001b[39m'\u001b[39;49m\u001b[39mvariables\u001b[39;49m\u001b[39m'\u001b[39;49m: variables_json},\n\u001b[0;32m    432\u001b[0m                               session\u001b[39m=\u001b[39;49mtmpsession)\n\u001b[0;32m    433\u001b[0m \u001b[39mif\u001b[39;00m \u001b[39m'\u001b[39m\u001b[39mstatus\u001b[39m\u001b[39m'\u001b[39m \u001b[39mnot\u001b[39;00m \u001b[39min\u001b[39;00m resp_json:\n\u001b[0;32m    434\u001b[0m     \u001b[39mself\u001b[39m\u001b[39m.\u001b[39merror(\u001b[39m\"\u001b[39m\u001b[39mGraphQL response did not contain a \u001b[39m\u001b[39m\\\"\u001b[39;00m\u001b[39mstatus\u001b[39m\u001b[39m\\\"\u001b[39;00m\u001b[39m field.\u001b[39m\u001b[39m\"\u001b[39m)\n",
      "File \u001b[1;32m~\\AppData\\Roaming\\Python\\Python310\\site-packages\\instaloader\\instaloadercontext.py:318\u001b[0m, in \u001b[0;36mInstaloaderContext.get_json\u001b[1;34m(self, path, params, host, session, _attempt)\u001b[0m\n\u001b[0;32m    316\u001b[0m sess \u001b[39m=\u001b[39m session \u001b[39mif\u001b[39;00m session \u001b[39melse\u001b[39;00m \u001b[39mself\u001b[39m\u001b[39m.\u001b[39m_session\n\u001b[0;32m    317\u001b[0m \u001b[39mtry\u001b[39;00m:\n\u001b[1;32m--> 318\u001b[0m     \u001b[39mself\u001b[39;49m\u001b[39m.\u001b[39;49mdo_sleep()\n\u001b[0;32m    319\u001b[0m     \u001b[39mif\u001b[39;00m is_graphql_query:\n\u001b[0;32m    320\u001b[0m         \u001b[39mself\u001b[39m\u001b[39m.\u001b[39m_rate_controller\u001b[39m.\u001b[39mwait_before_query(params[\u001b[39m'\u001b[39m\u001b[39mquery_hash\u001b[39m\u001b[39m'\u001b[39m])\n",
      "File \u001b[1;32m~\\AppData\\Roaming\\Python\\Python310\\site-packages\\instaloader\\instaloadercontext.py:298\u001b[0m, in \u001b[0;36mInstaloaderContext.do_sleep\u001b[1;34m(self)\u001b[0m\n\u001b[0;32m    296\u001b[0m \u001b[39m\u001b[39m\u001b[39m\"\"\"Sleep a short time if self.sleep is set. Called before each request to instagram.com.\"\"\"\u001b[39;00m\n\u001b[0;32m    297\u001b[0m \u001b[39mif\u001b[39;00m \u001b[39mself\u001b[39m\u001b[39m.\u001b[39msleep:\n\u001b[1;32m--> 298\u001b[0m     time\u001b[39m.\u001b[39;49msleep(\u001b[39mmin\u001b[39;49m(random\u001b[39m.\u001b[39;49mexpovariate(\u001b[39m0.6\u001b[39;49m), \u001b[39m15.0\u001b[39;49m))\n",
      "\u001b[1;31mKeyboardInterrupt\u001b[0m: "
     ]
    }
   ],
   "source": [
    "followers = []\n",
    "for follower in profile.get_followers():\n",
    "    followers.append(follower.username)"
   ]
  },
  {
   "cell_type": "code",
   "execution_count": 8,
   "metadata": {},
   "outputs": [],
   "source": [
    "# Save the followers into a file\n",
    "with open('followers.txt', 'w') as f:\n",
    "    for follower in followers:\n",
    "        f.write(follower + '\\n')"
   ]
  }
 ],
 "metadata": {
  "kernelspec": {
   "display_name": "base",
   "language": "python",
   "name": "python3"
  },
  "language_info": {
   "codemirror_mode": {
    "name": "ipython",
    "version": 3
   },
   "file_extension": ".py",
   "mimetype": "text/x-python",
   "name": "python",
   "nbconvert_exporter": "python",
   "pygments_lexer": "ipython3",
   "version": "3.10.9"
  },
  "orig_nbformat": 4
 },
 "nbformat": 4,
 "nbformat_minor": 2
}
