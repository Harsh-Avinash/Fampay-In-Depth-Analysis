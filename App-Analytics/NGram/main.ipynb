{
 "cells": [
  {
   "cell_type": "code",
   "execution_count": 34,
   "metadata": {},
   "outputs": [],
   "source": [
    "import pandas as pd\n",
    "from nltk.util import ngrams\n",
    "from collections import Counter"
   ]
  },
  {
   "cell_type": "code",
   "execution_count": 35,
   "metadata": {},
   "outputs": [],
   "source": [
    "# function to generate n-grams\n",
    "def get_ngrams(text, n):\n",
    "    n_grams = ngrams(text.split(), n)\n",
    "    # remove if there is word that repeats more than 1 time and let one copy of it remain\n",
    "    n_grams = [' '.join(grams) for grams in n_grams if Counter(grams).most_common(1)[0][1] == 1]\n",
    "    return [''.join(grams) for grams in n_grams]"
   ]
  },
  {
   "cell_type": "code",
   "execution_count": 36,
   "metadata": {},
   "outputs": [],
   "source": [
    "# read the csv file\n",
    "df = pd.read_csv(\"../../Warehouse/Reviews/app_reviews_merged.csv\")\n",
    "\n",
    "# convert content column to string\n",
    "df['content'] = df['content'].astype(str)\n",
    "\n",
    "# create an empty DataFrame to store the results\n",
    "results_df = pd.DataFrame(columns=['ngram', 'word_count', 'review_id', 'thumbs_up_count'])"
   ]
  },
  {
   "cell_type": "code",
   "execution_count": 37,
   "metadata": {},
   "outputs": [
    {
     "name": "stdout",
     "output_type": "stream",
     "text": [
      "Generating 1-grams...\n",
      "Finding the review with the most thumbs up count containing each 1-gram...\n",
      "Finding the review with the most thumbs up count containing \"app\"...\n"
     ]
    },
    {
     "name": "stderr",
     "output_type": "stream",
     "text": [
      "C:\\Users\\Harsh Clean\\AppData\\Local\\Temp\\ipykernel_14728\\1950153016.py:33: FutureWarning: The frame.append method is deprecated and will be removed from pandas in a future version. Use pandas.concat instead.\n",
      "  results_df = results_df.append({'ngram': ngram, 'word_count': word_count, 'review_id': max_review_id, 'thumbs_up_count': max_thumbs_up}, ignore_index=True) # type: ignore\n"
     ]
    },
    {
     "name": "stdout",
     "output_type": "stream",
     "text": [
      "Finding the review with the most thumbs up count containing \"is\"...\n"
     ]
    },
    {
     "name": "stderr",
     "output_type": "stream",
     "text": [
      "C:\\Users\\Harsh Clean\\AppData\\Local\\Temp\\ipykernel_14728\\1950153016.py:33: FutureWarning: The frame.append method is deprecated and will be removed from pandas in a future version. Use pandas.concat instead.\n",
      "  results_df = results_df.append({'ngram': ngram, 'word_count': word_count, 'review_id': max_review_id, 'thumbs_up_count': max_thumbs_up}, ignore_index=True) # type: ignore\n"
     ]
    },
    {
     "name": "stdout",
     "output_type": "stream",
     "text": [
      "Finding the review with the most thumbs up count containing \"I\"...\n"
     ]
    },
    {
     "name": "stderr",
     "output_type": "stream",
     "text": [
      "C:\\Users\\Harsh Clean\\AppData\\Local\\Temp\\ipykernel_14728\\1950153016.py:33: FutureWarning: The frame.append method is deprecated and will be removed from pandas in a future version. Use pandas.concat instead.\n",
      "  results_df = results_df.append({'ngram': ngram, 'word_count': word_count, 'review_id': max_review_id, 'thumbs_up_count': max_thumbs_up}, ignore_index=True) # type: ignore\n"
     ]
    },
    {
     "name": "stdout",
     "output_type": "stream",
     "text": [
      "Finding the review with the most thumbs up count containing \"to\"...\n"
     ]
    },
    {
     "name": "stderr",
     "output_type": "stream",
     "text": [
      "C:\\Users\\Harsh Clean\\AppData\\Local\\Temp\\ipykernel_14728\\1950153016.py:33: FutureWarning: The frame.append method is deprecated and will be removed from pandas in a future version. Use pandas.concat instead.\n",
      "  results_df = results_df.append({'ngram': ngram, 'word_count': word_count, 'review_id': max_review_id, 'thumbs_up_count': max_thumbs_up}, ignore_index=True) # type: ignore\n"
     ]
    },
    {
     "name": "stdout",
     "output_type": "stream",
     "text": [
      "Finding the review with the most thumbs up count containing \"and\"...\n"
     ]
    },
    {
     "name": "stderr",
     "output_type": "stream",
     "text": [
      "C:\\Users\\Harsh Clean\\AppData\\Local\\Temp\\ipykernel_14728\\1950153016.py:33: FutureWarning: The frame.append method is deprecated and will be removed from pandas in a future version. Use pandas.concat instead.\n",
      "  results_df = results_df.append({'ngram': ngram, 'word_count': word_count, 'review_id': max_review_id, 'thumbs_up_count': max_thumbs_up}, ignore_index=True) # type: ignore\n"
     ]
    },
    {
     "name": "stdout",
     "output_type": "stream",
     "text": [
      "Finding the review with the most thumbs up count containing \"for\"...\n"
     ]
    },
    {
     "name": "stderr",
     "output_type": "stream",
     "text": [
      "C:\\Users\\Harsh Clean\\AppData\\Local\\Temp\\ipykernel_14728\\1950153016.py:33: FutureWarning: The frame.append method is deprecated and will be removed from pandas in a future version. Use pandas.concat instead.\n",
      "  results_df = results_df.append({'ngram': ngram, 'word_count': word_count, 'review_id': max_review_id, 'thumbs_up_count': max_thumbs_up}, ignore_index=True) # type: ignore\n"
     ]
    },
    {
     "name": "stdout",
     "output_type": "stream",
     "text": [
      "Finding the review with the most thumbs up count containing \"the\"...\n"
     ]
    },
    {
     "name": "stderr",
     "output_type": "stream",
     "text": [
      "C:\\Users\\Harsh Clean\\AppData\\Local\\Temp\\ipykernel_14728\\1950153016.py:33: FutureWarning: The frame.append method is deprecated and will be removed from pandas in a future version. Use pandas.concat instead.\n",
      "  results_df = results_df.append({'ngram': ngram, 'word_count': word_count, 'review_id': max_review_id, 'thumbs_up_count': max_thumbs_up}, ignore_index=True) # type: ignore\n"
     ]
    },
    {
     "name": "stdout",
     "output_type": "stream",
     "text": [
      "Finding the review with the most thumbs up count containing \"this\"...\n"
     ]
    },
    {
     "name": "stderr",
     "output_type": "stream",
     "text": [
      "C:\\Users\\Harsh Clean\\AppData\\Local\\Temp\\ipykernel_14728\\1950153016.py:33: FutureWarning: The frame.append method is deprecated and will be removed from pandas in a future version. Use pandas.concat instead.\n",
      "  results_df = results_df.append({'ngram': ngram, 'word_count': word_count, 'review_id': max_review_id, 'thumbs_up_count': max_thumbs_up}, ignore_index=True) # type: ignore\n"
     ]
    },
    {
     "name": "stdout",
     "output_type": "stream",
     "text": [
      "Finding the review with the most thumbs up count containing \"my\"...\n"
     ]
    },
    {
     "name": "stderr",
     "output_type": "stream",
     "text": [
      "C:\\Users\\Harsh Clean\\AppData\\Local\\Temp\\ipykernel_14728\\1950153016.py:33: FutureWarning: The frame.append method is deprecated and will be removed from pandas in a future version. Use pandas.concat instead.\n",
      "  results_df = results_df.append({'ngram': ngram, 'word_count': word_count, 'review_id': max_review_id, 'thumbs_up_count': max_thumbs_up}, ignore_index=True) # type: ignore\n"
     ]
    },
    {
     "name": "stdout",
     "output_type": "stream",
     "text": [
      "Finding the review with the most thumbs up count containing \"not\"...\n"
     ]
    },
    {
     "name": "stderr",
     "output_type": "stream",
     "text": [
      "C:\\Users\\Harsh Clean\\AppData\\Local\\Temp\\ipykernel_14728\\1950153016.py:33: FutureWarning: The frame.append method is deprecated and will be removed from pandas in a future version. Use pandas.concat instead.\n",
      "  results_df = results_df.append({'ngram': ngram, 'word_count': word_count, 'review_id': max_review_id, 'thumbs_up_count': max_thumbs_up}, ignore_index=True) # type: ignore\n"
     ]
    },
    {
     "name": "stdout",
     "output_type": "stream",
     "text": [
      "Generating 2-grams...\n",
      "Finding the review with the most thumbs up count containing each 2-gram...\n",
      "Finding the review with the most thumbs up count containing \"this app\"...\n"
     ]
    },
    {
     "name": "stderr",
     "output_type": "stream",
     "text": [
      "C:\\Users\\Harsh Clean\\AppData\\Local\\Temp\\ipykernel_14728\\1950153016.py:33: FutureWarning: The frame.append method is deprecated and will be removed from pandas in a future version. Use pandas.concat instead.\n",
      "  results_df = results_df.append({'ngram': ngram, 'word_count': word_count, 'review_id': max_review_id, 'thumbs_up_count': max_thumbs_up}, ignore_index=True) # type: ignore\n"
     ]
    },
    {
     "name": "stdout",
     "output_type": "stream",
     "text": [
      "Finding the review with the most thumbs up count containing \"app for\"...\n"
     ]
    },
    {
     "name": "stderr",
     "output_type": "stream",
     "text": [
      "C:\\Users\\Harsh Clean\\AppData\\Local\\Temp\\ipykernel_14728\\1950153016.py:33: FutureWarning: The frame.append method is deprecated and will be removed from pandas in a future version. Use pandas.concat instead.\n",
      "  results_df = results_df.append({'ngram': ngram, 'word_count': word_count, 'review_id': max_review_id, 'thumbs_up_count': max_thumbs_up}, ignore_index=True) # type: ignore\n"
     ]
    },
    {
     "name": "stdout",
     "output_type": "stream",
     "text": [
      "Finding the review with the most thumbs up count containing \"is not\"...\n"
     ]
    },
    {
     "name": "stderr",
     "output_type": "stream",
     "text": [
      "C:\\Users\\Harsh Clean\\AppData\\Local\\Temp\\ipykernel_14728\\1950153016.py:33: FutureWarning: The frame.append method is deprecated and will be removed from pandas in a future version. Use pandas.concat instead.\n",
      "  results_df = results_df.append({'ngram': ngram, 'word_count': word_count, 'review_id': max_review_id, 'thumbs_up_count': max_thumbs_up}, ignore_index=True) # type: ignore\n"
     ]
    },
    {
     "name": "stdout",
     "output_type": "stream",
     "text": [
      "Finding the review with the most thumbs up count containing \"app is\"...\n"
     ]
    },
    {
     "name": "stderr",
     "output_type": "stream",
     "text": [
      "C:\\Users\\Harsh Clean\\AppData\\Local\\Temp\\ipykernel_14728\\1950153016.py:33: FutureWarning: The frame.append method is deprecated and will be removed from pandas in a future version. Use pandas.concat instead.\n",
      "  results_df = results_df.append({'ngram': ngram, 'word_count': word_count, 'review_id': max_review_id, 'thumbs_up_count': max_thumbs_up}, ignore_index=True) # type: ignore\n"
     ]
    },
    {
     "name": "stdout",
     "output_type": "stream",
     "text": [
      "Finding the review with the most thumbs up count containing \"nice app\"...\n"
     ]
    },
    {
     "name": "stderr",
     "output_type": "stream",
     "text": [
      "C:\\Users\\Harsh Clean\\AppData\\Local\\Temp\\ipykernel_14728\\1950153016.py:33: FutureWarning: The frame.append method is deprecated and will be removed from pandas in a future version. Use pandas.concat instead.\n",
      "  results_df = results_df.append({'ngram': ngram, 'word_count': word_count, 'review_id': max_review_id, 'thumbs_up_count': max_thumbs_up}, ignore_index=True) # type: ignore\n"
     ]
    },
    {
     "name": "stdout",
     "output_type": "stream",
     "text": [
      "Finding the review with the most thumbs up count containing \"good app\"...\n"
     ]
    },
    {
     "name": "stderr",
     "output_type": "stream",
     "text": [
      "C:\\Users\\Harsh Clean\\AppData\\Local\\Temp\\ipykernel_14728\\1950153016.py:33: FutureWarning: The frame.append method is deprecated and will be removed from pandas in a future version. Use pandas.concat instead.\n",
      "  results_df = results_df.append({'ngram': ngram, 'word_count': word_count, 'review_id': max_review_id, 'thumbs_up_count': max_thumbs_up}, ignore_index=True) # type: ignore\n"
     ]
    },
    {
     "name": "stdout",
     "output_type": "stream",
     "text": [
      "Finding the review with the most thumbs up count containing \"for teenagers\"...\n"
     ]
    },
    {
     "name": "stderr",
     "output_type": "stream",
     "text": [
      "C:\\Users\\Harsh Clean\\AppData\\Local\\Temp\\ipykernel_14728\\1950153016.py:33: FutureWarning: The frame.append method is deprecated and will be removed from pandas in a future version. Use pandas.concat instead.\n",
      "  results_df = results_df.append({'ngram': ngram, 'word_count': word_count, 'review_id': max_review_id, 'thumbs_up_count': max_thumbs_up}, ignore_index=True) # type: ignore\n"
     ]
    },
    {
     "name": "stdout",
     "output_type": "stream",
     "text": [
      "Finding the review with the most thumbs up count containing \"I am\"...\n"
     ]
    },
    {
     "name": "stderr",
     "output_type": "stream",
     "text": [
      "C:\\Users\\Harsh Clean\\AppData\\Local\\Temp\\ipykernel_14728\\1950153016.py:33: FutureWarning: The frame.append method is deprecated and will be removed from pandas in a future version. Use pandas.concat instead.\n",
      "  results_df = results_df.append({'ngram': ngram, 'word_count': word_count, 'review_id': max_review_id, 'thumbs_up_count': max_thumbs_up}, ignore_index=True) # type: ignore\n"
     ]
    },
    {
     "name": "stdout",
     "output_type": "stream",
     "text": [
      "Finding the review with the most thumbs up count containing \"is very\"...\n"
     ]
    },
    {
     "name": "stderr",
     "output_type": "stream",
     "text": [
      "C:\\Users\\Harsh Clean\\AppData\\Local\\Temp\\ipykernel_14728\\1950153016.py:33: FutureWarning: The frame.append method is deprecated and will be removed from pandas in a future version. Use pandas.concat instead.\n",
      "  results_df = results_df.append({'ngram': ngram, 'word_count': word_count, 'review_id': max_review_id, 'thumbs_up_count': max_thumbs_up}, ignore_index=True) # type: ignore\n"
     ]
    },
    {
     "name": "stdout",
     "output_type": "stream",
     "text": [
      "Finding the review with the most thumbs up count containing \"very good\"...\n"
     ]
    },
    {
     "name": "stderr",
     "output_type": "stream",
     "text": [
      "C:\\Users\\Harsh Clean\\AppData\\Local\\Temp\\ipykernel_14728\\1950153016.py:33: FutureWarning: The frame.append method is deprecated and will be removed from pandas in a future version. Use pandas.concat instead.\n",
      "  results_df = results_df.append({'ngram': ngram, 'word_count': word_count, 'review_id': max_review_id, 'thumbs_up_count': max_thumbs_up}, ignore_index=True) # type: ignore\n"
     ]
    },
    {
     "name": "stdout",
     "output_type": "stream",
     "text": [
      "Generating 3-grams...\n",
      "Finding the review with the most thumbs up count containing each 3-gram...\n",
      "Finding the review with the most thumbs up count containing \"This app is\"...\n"
     ]
    },
    {
     "name": "stderr",
     "output_type": "stream",
     "text": [
      "C:\\Users\\Harsh Clean\\AppData\\Local\\Temp\\ipykernel_14728\\1950153016.py:33: FutureWarning: The frame.append method is deprecated and will be removed from pandas in a future version. Use pandas.concat instead.\n",
      "  results_df = results_df.append({'ngram': ngram, 'word_count': word_count, 'review_id': max_review_id, 'thumbs_up_count': max_thumbs_up}, ignore_index=True) # type: ignore\n"
     ]
    },
    {
     "name": "stdout",
     "output_type": "stream",
     "text": [
      "Finding the review with the most thumbs up count containing \"app for teenagers\"...\n"
     ]
    },
    {
     "name": "stderr",
     "output_type": "stream",
     "text": [
      "C:\\Users\\Harsh Clean\\AppData\\Local\\Temp\\ipykernel_14728\\1950153016.py:33: FutureWarning: The frame.append method is deprecated and will be removed from pandas in a future version. Use pandas.concat instead.\n",
      "  results_df = results_df.append({'ngram': ngram, 'word_count': word_count, 'review_id': max_review_id, 'thumbs_up_count': max_thumbs_up}, ignore_index=True) # type: ignore\n"
     ]
    },
    {
     "name": "stdout",
     "output_type": "stream",
     "text": [
      "Finding the review with the most thumbs up count containing \"is not working\"...\n"
     ]
    },
    {
     "name": "stderr",
     "output_type": "stream",
     "text": [
      "C:\\Users\\Harsh Clean\\AppData\\Local\\Temp\\ipykernel_14728\\1950153016.py:33: FutureWarning: The frame.append method is deprecated and will be removed from pandas in a future version. Use pandas.concat instead.\n",
      "  results_df = results_df.append({'ngram': ngram, 'word_count': word_count, 'review_id': max_review_id, 'thumbs_up_count': max_thumbs_up}, ignore_index=True) # type: ignore\n"
     ]
    },
    {
     "name": "stdout",
     "output_type": "stream",
     "text": [
      "Finding the review with the most thumbs up count containing \"this app is\"...\n"
     ]
    },
    {
     "name": "stderr",
     "output_type": "stream",
     "text": [
      "C:\\Users\\Harsh Clean\\AppData\\Local\\Temp\\ipykernel_14728\\1950153016.py:33: FutureWarning: The frame.append method is deprecated and will be removed from pandas in a future version. Use pandas.concat instead.\n",
      "  results_df = results_df.append({'ngram': ngram, 'word_count': word_count, 'review_id': max_review_id, 'thumbs_up_count': max_thumbs_up}, ignore_index=True) # type: ignore\n"
     ]
    },
    {
     "name": "stdout",
     "output_type": "stream",
     "text": [
      "Finding the review with the most thumbs up count containing \"very good app\"...\n"
     ]
    },
    {
     "name": "stderr",
     "output_type": "stream",
     "text": [
      "C:\\Users\\Harsh Clean\\AppData\\Local\\Temp\\ipykernel_14728\\1950153016.py:33: FutureWarning: The frame.append method is deprecated and will be removed from pandas in a future version. Use pandas.concat instead.\n",
      "  results_df = results_df.append({'ngram': ngram, 'word_count': word_count, 'review_id': max_review_id, 'thumbs_up_count': max_thumbs_up}, ignore_index=True) # type: ignore\n"
     ]
    },
    {
     "name": "stdout",
     "output_type": "stream",
     "text": [
      "Finding the review with the most thumbs up count containing \"app is very\"...\n"
     ]
    },
    {
     "name": "stderr",
     "output_type": "stream",
     "text": [
      "C:\\Users\\Harsh Clean\\AppData\\Local\\Temp\\ipykernel_14728\\1950153016.py:33: FutureWarning: The frame.append method is deprecated and will be removed from pandas in a future version. Use pandas.concat instead.\n",
      "  results_df = results_df.append({'ngram': ngram, 'word_count': word_count, 'review_id': max_review_id, 'thumbs_up_count': max_thumbs_up}, ignore_index=True) # type: ignore\n"
     ]
    },
    {
     "name": "stdout",
     "output_type": "stream",
     "text": [
      "Finding the review with the most thumbs up count containing \"not able to\"...\n"
     ]
    },
    {
     "name": "stderr",
     "output_type": "stream",
     "text": [
      "C:\\Users\\Harsh Clean\\AppData\\Local\\Temp\\ipykernel_14728\\1950153016.py:33: FutureWarning: The frame.append method is deprecated and will be removed from pandas in a future version. Use pandas.concat instead.\n",
      "  results_df = results_df.append({'ngram': ngram, 'word_count': word_count, 'review_id': max_review_id, 'thumbs_up_count': max_thumbs_up}, ignore_index=True) # type: ignore\n"
     ]
    },
    {
     "name": "stdout",
     "output_type": "stream",
     "text": [
      "Finding the review with the most thumbs up count containing \"good app for\"...\n"
     ]
    },
    {
     "name": "stderr",
     "output_type": "stream",
     "text": [
      "C:\\Users\\Harsh Clean\\AppData\\Local\\Temp\\ipykernel_14728\\1950153016.py:33: FutureWarning: The frame.append method is deprecated and will be removed from pandas in a future version. Use pandas.concat instead.\n",
      "  results_df = results_df.append({'ngram': ngram, 'word_count': word_count, 'review_id': max_review_id, 'thumbs_up_count': max_thumbs_up}, ignore_index=True) # type: ignore\n"
     ]
    },
    {
     "name": "stdout",
     "output_type": "stream",
     "text": [
      "Finding the review with the most thumbs up count containing \"best app for\"...\n"
     ]
    },
    {
     "name": "stderr",
     "output_type": "stream",
     "text": [
      "C:\\Users\\Harsh Clean\\AppData\\Local\\Temp\\ipykernel_14728\\1950153016.py:33: FutureWarning: The frame.append method is deprecated and will be removed from pandas in a future version. Use pandas.concat instead.\n",
      "  results_df = results_df.append({'ngram': ngram, 'word_count': word_count, 'review_id': max_review_id, 'thumbs_up_count': max_thumbs_up}, ignore_index=True) # type: ignore\n"
     ]
    },
    {
     "name": "stdout",
     "output_type": "stream",
     "text": [
      "Finding the review with the most thumbs up count containing \"Best app for\"...\n"
     ]
    },
    {
     "name": "stderr",
     "output_type": "stream",
     "text": [
      "C:\\Users\\Harsh Clean\\AppData\\Local\\Temp\\ipykernel_14728\\1950153016.py:33: FutureWarning: The frame.append method is deprecated and will be removed from pandas in a future version. Use pandas.concat instead.\n",
      "  results_df = results_df.append({'ngram': ngram, 'word_count': word_count, 'review_id': max_review_id, 'thumbs_up_count': max_thumbs_up}, ignore_index=True) # type: ignore\n"
     ]
    },
    {
     "name": "stdout",
     "output_type": "stream",
     "text": [
      "Generating 4-grams...\n",
      "Finding the review with the most thumbs up count containing each 4-gram...\n",
      "Finding the review with the most thumbs up count containing \"This app is very\"...\n"
     ]
    },
    {
     "name": "stderr",
     "output_type": "stream",
     "text": [
      "C:\\Users\\Harsh Clean\\AppData\\Local\\Temp\\ipykernel_14728\\1950153016.py:33: FutureWarning: The frame.append method is deprecated and will be removed from pandas in a future version. Use pandas.concat instead.\n",
      "  results_df = results_df.append({'ngram': ngram, 'word_count': word_count, 'review_id': max_review_id, 'thumbs_up_count': max_thumbs_up}, ignore_index=True) # type: ignore\n"
     ]
    },
    {
     "name": "stdout",
     "output_type": "stream",
     "text": [
      "Finding the review with the most thumbs up count containing \"am not able to\"...\n"
     ]
    },
    {
     "name": "stderr",
     "output_type": "stream",
     "text": [
      "C:\\Users\\Harsh Clean\\AppData\\Local\\Temp\\ipykernel_14728\\1950153016.py:33: FutureWarning: The frame.append method is deprecated and will be removed from pandas in a future version. Use pandas.concat instead.\n",
      "  results_df = results_df.append({'ngram': ngram, 'word_count': word_count, 'review_id': max_review_id, 'thumbs_up_count': max_thumbs_up}, ignore_index=True) # type: ignore\n"
     ]
    },
    {
     "name": "stdout",
     "output_type": "stream",
     "text": [
      "Finding the review with the most thumbs up count containing \"I am not able\"...\n"
     ]
    },
    {
     "name": "stderr",
     "output_type": "stream",
     "text": [
      "C:\\Users\\Harsh Clean\\AppData\\Local\\Temp\\ipykernel_14728\\1950153016.py:33: FutureWarning: The frame.append method is deprecated and will be removed from pandas in a future version. Use pandas.concat instead.\n",
      "  results_df = results_df.append({'ngram': ngram, 'word_count': word_count, 'review_id': max_review_id, 'thumbs_up_count': max_thumbs_up}, ignore_index=True) # type: ignore\n"
     ]
    },
    {
     "name": "stdout",
     "output_type": "stream",
     "text": [
      "Finding the review with the most thumbs up count containing \"very good app for\"...\n"
     ]
    },
    {
     "name": "stderr",
     "output_type": "stream",
     "text": [
      "C:\\Users\\Harsh Clean\\AppData\\Local\\Temp\\ipykernel_14728\\1950153016.py:33: FutureWarning: The frame.append method is deprecated and will be removed from pandas in a future version. Use pandas.concat instead.\n",
      "  results_df = results_df.append({'ngram': ngram, 'word_count': word_count, 'review_id': max_review_id, 'thumbs_up_count': max_thumbs_up}, ignore_index=True) # type: ignore\n"
     ]
    },
    {
     "name": "stdout",
     "output_type": "stream",
     "text": [
      "Finding the review with the most thumbs up count containing \"app is very good\"...\n"
     ]
    },
    {
     "name": "stderr",
     "output_type": "stream",
     "text": [
      "C:\\Users\\Harsh Clean\\AppData\\Local\\Temp\\ipykernel_14728\\1950153016.py:33: FutureWarning: The frame.append method is deprecated and will be removed from pandas in a future version. Use pandas.concat instead.\n",
      "  results_df = results_df.append({'ngram': ngram, 'word_count': word_count, 'review_id': max_review_id, 'thumbs_up_count': max_thumbs_up}, ignore_index=True) # type: ignore\n"
     ]
    },
    {
     "name": "stdout",
     "output_type": "stream",
     "text": [
      "Finding the review with the most thumbs up count containing \"this app is very\"...\n"
     ]
    },
    {
     "name": "stderr",
     "output_type": "stream",
     "text": [
      "C:\\Users\\Harsh Clean\\AppData\\Local\\Temp\\ipykernel_14728\\1950153016.py:33: FutureWarning: The frame.append method is deprecated and will be removed from pandas in a future version. Use pandas.concat instead.\n",
      "  results_df = results_df.append({'ngram': ngram, 'word_count': word_count, 'review_id': max_review_id, 'thumbs_up_count': max_thumbs_up}, ignore_index=True) # type: ignore\n"
     ]
    },
    {
     "name": "stdout",
     "output_type": "stream",
     "text": [
      "Finding the review with the most thumbs up count containing \"I love this app\"...\n"
     ]
    },
    {
     "name": "stderr",
     "output_type": "stream",
     "text": [
      "C:\\Users\\Harsh Clean\\AppData\\Local\\Temp\\ipykernel_14728\\1950153016.py:33: FutureWarning: The frame.append method is deprecated and will be removed from pandas in a future version. Use pandas.concat instead.\n",
      "  results_df = results_df.append({'ngram': ngram, 'word_count': word_count, 'review_id': max_review_id, 'thumbs_up_count': max_thumbs_up}, ignore_index=True) # type: ignore\n"
     ]
    },
    {
     "name": "stdout",
     "output_type": "stream",
     "text": [
      "Finding the review with the most thumbs up count containing \"best app for teenagers\"...\n"
     ]
    },
    {
     "name": "stderr",
     "output_type": "stream",
     "text": [
      "C:\\Users\\Harsh Clean\\AppData\\Local\\Temp\\ipykernel_14728\\1950153016.py:33: FutureWarning: The frame.append method is deprecated and will be removed from pandas in a future version. Use pandas.concat instead.\n",
      "  results_df = results_df.append({'ngram': ngram, 'word_count': word_count, 'review_id': max_review_id, 'thumbs_up_count': max_thumbs_up}, ignore_index=True) # type: ignore\n"
     ]
    },
    {
     "name": "stdout",
     "output_type": "stream",
     "text": [
      "Finding the review with the most thumbs up count containing \"Best app for teenagers\"...\n"
     ]
    },
    {
     "name": "stderr",
     "output_type": "stream",
     "text": [
      "C:\\Users\\Harsh Clean\\AppData\\Local\\Temp\\ipykernel_14728\\1950153016.py:33: FutureWarning: The frame.append method is deprecated and will be removed from pandas in a future version. Use pandas.concat instead.\n",
      "  results_df = results_df.append({'ngram': ngram, 'word_count': word_count, 'review_id': max_review_id, 'thumbs_up_count': max_thumbs_up}, ignore_index=True) # type: ignore\n"
     ]
    },
    {
     "name": "stdout",
     "output_type": "stream",
     "text": [
      "Finding the review with the most thumbs up count containing \"good app for teenagers\"...\n"
     ]
    },
    {
     "name": "stderr",
     "output_type": "stream",
     "text": [
      "C:\\Users\\Harsh Clean\\AppData\\Local\\Temp\\ipykernel_14728\\1950153016.py:33: FutureWarning: The frame.append method is deprecated and will be removed from pandas in a future version. Use pandas.concat instead.\n",
      "  results_df = results_df.append({'ngram': ngram, 'word_count': word_count, 'review_id': max_review_id, 'thumbs_up_count': max_thumbs_up}, ignore_index=True) # type: ignore\n"
     ]
    },
    {
     "name": "stdout",
     "output_type": "stream",
     "text": [
      "Generating 5-grams...\n",
      "Finding the review with the most thumbs up count containing each 5-gram...\n",
      "Finding the review with the most thumbs up count containing \"I am not able to\"...\n"
     ]
    },
    {
     "name": "stderr",
     "output_type": "stream",
     "text": [
      "C:\\Users\\Harsh Clean\\AppData\\Local\\Temp\\ipykernel_14728\\1950153016.py:33: FutureWarning: The frame.append method is deprecated and will be removed from pandas in a future version. Use pandas.concat instead.\n",
      "  results_df = results_df.append({'ngram': ngram, 'word_count': word_count, 'review_id': max_review_id, 'thumbs_up_count': max_thumbs_up}, ignore_index=True) # type: ignore\n"
     ]
    },
    {
     "name": "stdout",
     "output_type": "stream",
     "text": [
      "Finding the review with the most thumbs up count containing \"This app is very good\"...\n"
     ]
    },
    {
     "name": "stderr",
     "output_type": "stream",
     "text": [
      "C:\\Users\\Harsh Clean\\AppData\\Local\\Temp\\ipykernel_14728\\1950153016.py:33: FutureWarning: The frame.append method is deprecated and will be removed from pandas in a future version. Use pandas.concat instead.\n",
      "  results_df = results_df.append({'ngram': ngram, 'word_count': word_count, 'review_id': max_review_id, 'thumbs_up_count': max_thumbs_up}, ignore_index=True) # type: ignore\n"
     ]
    },
    {
     "name": "stdout",
     "output_type": "stream",
     "text": [
      "Finding the review with the most thumbs up count containing \"is the best app for\"...\n"
     ]
    },
    {
     "name": "stderr",
     "output_type": "stream",
     "text": [
      "C:\\Users\\Harsh Clean\\AppData\\Local\\Temp\\ipykernel_14728\\1950153016.py:33: FutureWarning: The frame.append method is deprecated and will be removed from pandas in a future version. Use pandas.concat instead.\n",
      "  results_df = results_df.append({'ngram': ngram, 'word_count': word_count, 'review_id': max_review_id, 'thumbs_up_count': max_thumbs_up}, ignore_index=True) # type: ignore\n"
     ]
    },
    {
     "name": "stdout",
     "output_type": "stream",
     "text": [
      "Finding the review with the most thumbs up count containing \"i am not able to\"...\n"
     ]
    },
    {
     "name": "stderr",
     "output_type": "stream",
     "text": [
      "C:\\Users\\Harsh Clean\\AppData\\Local\\Temp\\ipykernel_14728\\1950153016.py:33: FutureWarning: The frame.append method is deprecated and will be removed from pandas in a future version. Use pandas.concat instead.\n",
      "  results_df = results_df.append({'ngram': ngram, 'word_count': word_count, 'review_id': max_review_id, 'thumbs_up_count': max_thumbs_up}, ignore_index=True) # type: ignore\n"
     ]
    },
    {
     "name": "stdout",
     "output_type": "stream",
     "text": [
      "Finding the review with the most thumbs up count containing \"very good app for teenagers\"...\n"
     ]
    },
    {
     "name": "stderr",
     "output_type": "stream",
     "text": [
      "C:\\Users\\Harsh Clean\\AppData\\Local\\Temp\\ipykernel_14728\\1950153016.py:33: FutureWarning: The frame.append method is deprecated and will be removed from pandas in a future version. Use pandas.concat instead.\n",
      "  results_df = results_df.append({'ngram': ngram, 'word_count': word_count, 'review_id': max_review_id, 'thumbs_up_count': max_thumbs_up}, ignore_index=True) # type: ignore\n"
     ]
    },
    {
     "name": "stdout",
     "output_type": "stream",
     "text": [
      "Finding the review with the most thumbs up count containing \"is a very good app\"...\n"
     ]
    },
    {
     "name": "stderr",
     "output_type": "stream",
     "text": [
      "C:\\Users\\Harsh Clean\\AppData\\Local\\Temp\\ipykernel_14728\\1950153016.py:33: FutureWarning: The frame.append method is deprecated and will be removed from pandas in a future version. Use pandas.concat instead.\n",
      "  results_df = results_df.append({'ngram': ngram, 'word_count': word_count, 'review_id': max_review_id, 'thumbs_up_count': max_thumbs_up}, ignore_index=True) # type: ignore\n"
     ]
    },
    {
     "name": "stdout",
     "output_type": "stream",
     "text": [
      "Finding the review with the most thumbs up count containing \"This app is good but\"...\n"
     ]
    },
    {
     "name": "stderr",
     "output_type": "stream",
     "text": [
      "C:\\Users\\Harsh Clean\\AppData\\Local\\Temp\\ipykernel_14728\\1950153016.py:33: FutureWarning: The frame.append method is deprecated and will be removed from pandas in a future version. Use pandas.concat instead.\n",
      "  results_df = results_df.append({'ngram': ngram, 'word_count': word_count, 'review_id': max_review_id, 'thumbs_up_count': max_thumbs_up}, ignore_index=True) # type: ignore\n"
     ]
    },
    {
     "name": "stdout",
     "output_type": "stream",
     "text": [
      "Finding the review with the most thumbs up count containing \"this app is very good\"...\n"
     ]
    },
    {
     "name": "stderr",
     "output_type": "stream",
     "text": [
      "C:\\Users\\Harsh Clean\\AppData\\Local\\Temp\\ipykernel_14728\\1950153016.py:33: FutureWarning: The frame.append method is deprecated and will be removed from pandas in a future version. Use pandas.concat instead.\n",
      "  results_df = results_df.append({'ngram': ngram, 'word_count': word_count, 'review_id': max_review_id, 'thumbs_up_count': max_thumbs_up}, ignore_index=True) # type: ignore\n"
     ]
    },
    {
     "name": "stdout",
     "output_type": "stream",
     "text": [
      "Finding the review with the most thumbs up count containing \"This is the best app\"...\n"
     ]
    },
    {
     "name": "stderr",
     "output_type": "stream",
     "text": [
      "C:\\Users\\Harsh Clean\\AppData\\Local\\Temp\\ipykernel_14728\\1950153016.py:33: FutureWarning: The frame.append method is deprecated and will be removed from pandas in a future version. Use pandas.concat instead.\n",
      "  results_df = results_df.append({'ngram': ngram, 'word_count': word_count, 'review_id': max_review_id, 'thumbs_up_count': max_thumbs_up}, ignore_index=True) # type: ignore\n"
     ]
    },
    {
     "name": "stdout",
     "output_type": "stream",
     "text": [
      "Finding the review with the most thumbs up count containing \"a very good app for\"...\n"
     ]
    },
    {
     "name": "stderr",
     "output_type": "stream",
     "text": [
      "C:\\Users\\Harsh Clean\\AppData\\Local\\Temp\\ipykernel_14728\\1950153016.py:33: FutureWarning: The frame.append method is deprecated and will be removed from pandas in a future version. Use pandas.concat instead.\n",
      "  results_df = results_df.append({'ngram': ngram, 'word_count': word_count, 'review_id': max_review_id, 'thumbs_up_count': max_thumbs_up}, ignore_index=True) # type: ignore\n"
     ]
    },
    {
     "name": "stdout",
     "output_type": "stream",
     "text": [
      "Generating 6-grams...\n",
      "Finding the review with the most thumbs up count containing each 6-gram...\n",
      "Finding the review with the most thumbs up count containing \"This is the best app for\"...\n"
     ]
    },
    {
     "name": "stderr",
     "output_type": "stream",
     "text": [
      "C:\\Users\\Harsh Clean\\AppData\\Local\\Temp\\ipykernel_14728\\1950153016.py:33: FutureWarning: The frame.append method is deprecated and will be removed from pandas in a future version. Use pandas.concat instead.\n",
      "  results_df = results_df.append({'ngram': ngram, 'word_count': word_count, 'review_id': max_review_id, 'thumbs_up_count': max_thumbs_up}, ignore_index=True) # type: ignore\n"
     ]
    },
    {
     "name": "stdout",
     "output_type": "stream",
     "text": [
      "Finding the review with the most thumbs up count containing \"is the best app for teenagers\"...\n"
     ]
    },
    {
     "name": "stderr",
     "output_type": "stream",
     "text": [
      "C:\\Users\\Harsh Clean\\AppData\\Local\\Temp\\ipykernel_14728\\1950153016.py:33: FutureWarning: The frame.append method is deprecated and will be removed from pandas in a future version. Use pandas.concat instead.\n",
      "  results_df = results_df.append({'ngram': ngram, 'word_count': word_count, 'review_id': max_review_id, 'thumbs_up_count': max_thumbs_up}, ignore_index=True) # type: ignore\n"
     ]
    },
    {
     "name": "stdout",
     "output_type": "stream",
     "text": [
      "Finding the review with the most thumbs up count containing \"is a very good app for\"...\n"
     ]
    },
    {
     "name": "stderr",
     "output_type": "stream",
     "text": [
      "C:\\Users\\Harsh Clean\\AppData\\Local\\Temp\\ipykernel_14728\\1950153016.py:33: FutureWarning: The frame.append method is deprecated and will be removed from pandas in a future version. Use pandas.concat instead.\n",
      "  results_df = results_df.append({'ngram': ngram, 'word_count': word_count, 'review_id': max_review_id, 'thumbs_up_count': max_thumbs_up}, ignore_index=True) # type: ignore\n"
     ]
    },
    {
     "name": "stdout",
     "output_type": "stream",
     "text": [
      "Finding the review with the most thumbs up count containing \"This is a very good app\"...\n"
     ]
    },
    {
     "name": "stderr",
     "output_type": "stream",
     "text": [
      "C:\\Users\\Harsh Clean\\AppData\\Local\\Temp\\ipykernel_14728\\1950153016.py:33: FutureWarning: The frame.append method is deprecated and will be removed from pandas in a future version. Use pandas.concat instead.\n",
      "  results_df = results_df.append({'ngram': ngram, 'word_count': word_count, 'review_id': max_review_id, 'thumbs_up_count': max_thumbs_up}, ignore_index=True) # type: ignore\n"
     ]
    },
    {
     "name": "stdout",
     "output_type": "stream",
     "text": [
      "Finding the review with the most thumbs up count containing \"I am not able to do\"...\n"
     ]
    },
    {
     "name": "stderr",
     "output_type": "stream",
     "text": [
      "C:\\Users\\Harsh Clean\\AppData\\Local\\Temp\\ipykernel_14728\\1950153016.py:33: FutureWarning: The frame.append method is deprecated and will be removed from pandas in a future version. Use pandas.concat instead.\n",
      "  results_df = results_df.append({'ngram': ngram, 'word_count': word_count, 'review_id': max_review_id, 'thumbs_up_count': max_thumbs_up}, ignore_index=True) # type: ignore\n"
     ]
    },
    {
     "name": "stdout",
     "output_type": "stream",
     "text": [
      "Finding the review with the most thumbs up count containing \"This app is very useful for\"...\n"
     ]
    },
    {
     "name": "stderr",
     "output_type": "stream",
     "text": [
      "C:\\Users\\Harsh Clean\\AppData\\Local\\Temp\\ipykernel_14728\\1950153016.py:33: FutureWarning: The frame.append method is deprecated and will be removed from pandas in a future version. Use pandas.concat instead.\n",
      "  results_df = results_df.append({'ngram': ngram, 'word_count': word_count, 'review_id': max_review_id, 'thumbs_up_count': max_thumbs_up}, ignore_index=True) # type: ignore\n"
     ]
    },
    {
     "name": "stdout",
     "output_type": "stream",
     "text": [
      "Finding the review with the most thumbs up count containing \"this is the best app for\"...\n"
     ]
    },
    {
     "name": "stderr",
     "output_type": "stream",
     "text": [
      "C:\\Users\\Harsh Clean\\AppData\\Local\\Temp\\ipykernel_14728\\1950153016.py:33: FutureWarning: The frame.append method is deprecated and will be removed from pandas in a future version. Use pandas.concat instead.\n",
      "  results_df = results_df.append({'ngram': ngram, 'word_count': word_count, 'review_id': max_review_id, 'thumbs_up_count': max_thumbs_up}, ignore_index=True) # type: ignore\n"
     ]
    },
    {
     "name": "stdout",
     "output_type": "stream",
     "text": [
      "Finding the review with the most thumbs up count containing \"This app is very good for\"...\n"
     ]
    },
    {
     "name": "stderr",
     "output_type": "stream",
     "text": [
      "C:\\Users\\Harsh Clean\\AppData\\Local\\Temp\\ipykernel_14728\\1950153016.py:33: FutureWarning: The frame.append method is deprecated and will be removed from pandas in a future version. Use pandas.concat instead.\n",
      "  results_df = results_df.append({'ngram': ngram, 'word_count': word_count, 'review_id': max_review_id, 'thumbs_up_count': max_thumbs_up}, ignore_index=True) # type: ignore\n"
     ]
    },
    {
     "name": "stdout",
     "output_type": "stream",
     "text": [
      "Finding the review with the most thumbs up count containing \"I am not able to see\"...\n"
     ]
    },
    {
     "name": "stderr",
     "output_type": "stream",
     "text": [
      "C:\\Users\\Harsh Clean\\AppData\\Local\\Temp\\ipykernel_14728\\1950153016.py:33: FutureWarning: The frame.append method is deprecated and will be removed from pandas in a future version. Use pandas.concat instead.\n",
      "  results_df = results_df.append({'ngram': ngram, 'word_count': word_count, 'review_id': max_review_id, 'thumbs_up_count': max_thumbs_up}, ignore_index=True) # type: ignore\n"
     ]
    },
    {
     "name": "stdout",
     "output_type": "stream",
     "text": [
      "Finding the review with the most thumbs up count containing \"I am not able to pay\"...\n"
     ]
    },
    {
     "name": "stderr",
     "output_type": "stream",
     "text": [
      "C:\\Users\\Harsh Clean\\AppData\\Local\\Temp\\ipykernel_14728\\1950153016.py:33: FutureWarning: The frame.append method is deprecated and will be removed from pandas in a future version. Use pandas.concat instead.\n",
      "  results_df = results_df.append({'ngram': ngram, 'word_count': word_count, 'review_id': max_review_id, 'thumbs_up_count': max_thumbs_up}, ignore_index=True) # type: ignore\n"
     ]
    },
    {
     "name": "stdout",
     "output_type": "stream",
     "text": [
      "Generating 7-grams...\n",
      "Finding the review with the most thumbs up count containing each 7-gram...\n",
      "Finding the review with the most thumbs up count containing \"I am not able to see my\"...\n"
     ]
    },
    {
     "name": "stderr",
     "output_type": "stream",
     "text": [
      "C:\\Users\\Harsh Clean\\AppData\\Local\\Temp\\ipykernel_14728\\1950153016.py:33: FutureWarning: The frame.append method is deprecated and will be removed from pandas in a future version. Use pandas.concat instead.\n",
      "  results_df = results_df.append({'ngram': ngram, 'word_count': word_count, 'review_id': max_review_id, 'thumbs_up_count': max_thumbs_up}, ignore_index=True) # type: ignore\n"
     ]
    },
    {
     "name": "stdout",
     "output_type": "stream",
     "text": [
      "Finding the review with the most thumbs up count containing \"This is a very good app for\"...\n"
     ]
    },
    {
     "name": "stderr",
     "output_type": "stream",
     "text": [
      "C:\\Users\\Harsh Clean\\AppData\\Local\\Temp\\ipykernel_14728\\1950153016.py:33: FutureWarning: The frame.append method is deprecated and will be removed from pandas in a future version. Use pandas.concat instead.\n",
      "  results_df = results_df.append({'ngram': ngram, 'word_count': word_count, 'review_id': max_review_id, 'thumbs_up_count': max_thumbs_up}, ignore_index=True) # type: ignore\n"
     ]
    },
    {
     "name": "stdout",
     "output_type": "stream",
     "text": [
      "Finding the review with the most thumbs up count containing \"This is the best app for teenagers\"...\n"
     ]
    },
    {
     "name": "stderr",
     "output_type": "stream",
     "text": [
      "C:\\Users\\Harsh Clean\\AppData\\Local\\Temp\\ipykernel_14728\\1950153016.py:33: FutureWarning: The frame.append method is deprecated and will be removed from pandas in a future version. Use pandas.concat instead.\n",
      "  results_df = results_df.append({'ngram': ngram, 'word_count': word_count, 'review_id': max_review_id, 'thumbs_up_count': max_thumbs_up}, ignore_index=True) # type: ignore\n"
     ]
    },
    {
     "name": "stdout",
     "output_type": "stream",
     "text": [
      "Finding the review with the most thumbs up count containing \"This app is very useful for teenagers\"...\n"
     ]
    },
    {
     "name": "stderr",
     "output_type": "stream",
     "text": [
      "C:\\Users\\Harsh Clean\\AppData\\Local\\Temp\\ipykernel_14728\\1950153016.py:33: FutureWarning: The frame.append method is deprecated and will be removed from pandas in a future version. Use pandas.concat instead.\n",
      "  results_df = results_df.append({'ngram': ngram, 'word_count': word_count, 'review_id': max_review_id, 'thumbs_up_count': max_thumbs_up}, ignore_index=True) # type: ignore\n"
     ]
    },
    {
     "name": "stdout",
     "output_type": "stream",
     "text": [
      "Finding the review with the most thumbs up count containing \"I have been using this app for\"...\n"
     ]
    },
    {
     "name": "stderr",
     "output_type": "stream",
     "text": [
      "C:\\Users\\Harsh Clean\\AppData\\Local\\Temp\\ipykernel_14728\\1950153016.py:33: FutureWarning: The frame.append method is deprecated and will be removed from pandas in a future version. Use pandas.concat instead.\n",
      "  results_df = results_df.append({'ngram': ngram, 'word_count': word_count, 'review_id': max_review_id, 'thumbs_up_count': max_thumbs_up}, ignore_index=True) # type: ignore\n"
     ]
    },
    {
     "name": "stdout",
     "output_type": "stream",
     "text": [
      "Finding the review with the most thumbs up count containing \"this is the best app for teenagers\"...\n"
     ]
    },
    {
     "name": "stderr",
     "output_type": "stream",
     "text": [
      "C:\\Users\\Harsh Clean\\AppData\\Local\\Temp\\ipykernel_14728\\1950153016.py:33: FutureWarning: The frame.append method is deprecated and will be removed from pandas in a future version. Use pandas.concat instead.\n",
      "  results_df = results_df.append({'ngram': ngram, 'word_count': word_count, 'review_id': max_review_id, 'thumbs_up_count': max_thumbs_up}, ignore_index=True) # type: ignore\n"
     ]
    },
    {
     "name": "stdout",
     "output_type": "stream",
     "text": [
      "Finding the review with the most thumbs up count containing \"am not able to see my card\"...\n"
     ]
    },
    {
     "name": "stderr",
     "output_type": "stream",
     "text": [
      "C:\\Users\\Harsh Clean\\AppData\\Local\\Temp\\ipykernel_14728\\1950153016.py:33: FutureWarning: The frame.append method is deprecated and will be removed from pandas in a future version. Use pandas.concat instead.\n",
      "  results_df = results_df.append({'ngram': ngram, 'word_count': word_count, 'review_id': max_review_id, 'thumbs_up_count': max_thumbs_up}, ignore_index=True) # type: ignore\n"
     ]
    },
    {
     "name": "stdout",
     "output_type": "stream",
     "text": [
      "Finding the review with the most thumbs up count containing \"is one of the best app for\"...\n"
     ]
    },
    {
     "name": "stderr",
     "output_type": "stream",
     "text": [
      "C:\\Users\\Harsh Clean\\AppData\\Local\\Temp\\ipykernel_14728\\1950153016.py:33: FutureWarning: The frame.append method is deprecated and will be removed from pandas in a future version. Use pandas.concat instead.\n",
      "  results_df = results_df.append({'ngram': ngram, 'word_count': word_count, 'review_id': max_review_id, 'thumbs_up_count': max_thumbs_up}, ignore_index=True) # type: ignore\n"
     ]
    },
    {
     "name": "stdout",
     "output_type": "stream",
     "text": [
      "Finding the review with the most thumbs up count containing \"I am not able to send money\"...\n"
     ]
    },
    {
     "name": "stderr",
     "output_type": "stream",
     "text": [
      "C:\\Users\\Harsh Clean\\AppData\\Local\\Temp\\ipykernel_14728\\1950153016.py:33: FutureWarning: The frame.append method is deprecated and will be removed from pandas in a future version. Use pandas.concat instead.\n",
      "  results_df = results_df.append({'ngram': ngram, 'word_count': word_count, 'review_id': max_review_id, 'thumbs_up_count': max_thumbs_up}, ignore_index=True) # type: ignore\n"
     ]
    },
    {
     "name": "stdout",
     "output_type": "stream",
     "text": [
      "Finding the review with the most thumbs up count containing \"for teenagers so I would highly recommend\"...\n"
     ]
    },
    {
     "name": "stderr",
     "output_type": "stream",
     "text": [
      "C:\\Users\\Harsh Clean\\AppData\\Local\\Temp\\ipykernel_14728\\1950153016.py:33: FutureWarning: The frame.append method is deprecated and will be removed from pandas in a future version. Use pandas.concat instead.\n",
      "  results_df = results_df.append({'ngram': ngram, 'word_count': word_count, 'review_id': max_review_id, 'thumbs_up_count': max_thumbs_up}, ignore_index=True) # type: ignore\n"
     ]
    },
    {
     "name": "stdout",
     "output_type": "stream",
     "text": [
      "Generating 8-grams...\n",
      "Finding the review with the most thumbs up count containing each 8-gram...\n",
      "Finding the review with the most thumbs up count containing \"are currently building the fam experience for your\"...\n"
     ]
    },
    {
     "name": "stderr",
     "output_type": "stream",
     "text": [
      "C:\\Users\\Harsh Clean\\AppData\\Local\\Temp\\ipykernel_14728\\1950153016.py:33: FutureWarning: The frame.append method is deprecated and will be removed from pandas in a future version. Use pandas.concat instead.\n",
      "  results_df = results_df.append({'ngram': ngram, 'word_count': word_count, 'review_id': max_review_id, 'thumbs_up_count': max_thumbs_up}, ignore_index=True) # type: ignore\n"
     ]
    },
    {
     "name": "stdout",
     "output_type": "stream",
     "text": [
      "Finding the review with the most thumbs up count containing \"I am not able to see my card\"...\n"
     ]
    },
    {
     "name": "stderr",
     "output_type": "stream",
     "text": [
      "C:\\Users\\Harsh Clean\\AppData\\Local\\Temp\\ipykernel_14728\\1950153016.py:33: FutureWarning: The frame.append method is deprecated and will be removed from pandas in a future version. Use pandas.concat instead.\n",
      "  results_df = results_df.append({'ngram': ngram, 'word_count': word_count, 'review_id': max_review_id, 'thumbs_up_count': max_thumbs_up}, ignore_index=True) # type: ignore\n"
     ]
    },
    {
     "name": "stdout",
     "output_type": "stream",
     "text": [
      "Finding the review with the most thumbs up count containing \"for teenagers so I would highly recommend this\"...\n"
     ]
    },
    {
     "name": "stderr",
     "output_type": "stream",
     "text": [
      "C:\\Users\\Harsh Clean\\AppData\\Local\\Temp\\ipykernel_14728\\1950153016.py:33: FutureWarning: The frame.append method is deprecated and will be removed from pandas in a future version. Use pandas.concat instead.\n",
      "  results_df = results_df.append({'ngram': ngram, 'word_count': word_count, 'review_id': max_review_id, 'thumbs_up_count': max_thumbs_up}, ignore_index=True) # type: ignore\n"
     ]
    },
    {
     "name": "stdout",
     "output_type": "stream",
     "text": [
      "Finding the review with the most thumbs up count containing \"we are currently building the fam experience for\"...\n"
     ]
    },
    {
     "name": "stderr",
     "output_type": "stream",
     "text": [
      "C:\\Users\\Harsh Clean\\AppData\\Local\\Temp\\ipykernel_14728\\1950153016.py:33: FutureWarning: The frame.append method is deprecated and will be removed from pandas in a future version. Use pandas.concat instead.\n",
      "  results_df = results_df.append({'ngram': ngram, 'word_count': word_count, 'review_id': max_review_id, 'thumbs_up_count': max_thumbs_up}, ignore_index=True) # type: ignore\n"
     ]
    },
    {
     "name": "stdout",
     "output_type": "stream",
     "text": [
      "Finding the review with the most thumbs up count containing \"debit card app which is specially made for\"...\n"
     ]
    },
    {
     "name": "stderr",
     "output_type": "stream",
     "text": [
      "C:\\Users\\Harsh Clean\\AppData\\Local\\Temp\\ipykernel_14728\\1950153016.py:33: FutureWarning: The frame.append method is deprecated and will be removed from pandas in a future version. Use pandas.concat instead.\n",
      "  results_df = results_df.append({'ngram': ngram, 'word_count': word_count, 'review_id': max_review_id, 'thumbs_up_count': max_thumbs_up}, ignore_index=True) # type: ignore\n"
     ]
    },
    {
     "name": "stdout",
     "output_type": "stream",
     "text": [
      "Finding the review with the most thumbs up count containing \"app in my phone which is specially made\"...\n"
     ]
    },
    {
     "name": "stderr",
     "output_type": "stream",
     "text": [
      "C:\\Users\\Harsh Clean\\AppData\\Local\\Temp\\ipykernel_14728\\1950153016.py:33: FutureWarning: The frame.append method is deprecated and will be removed from pandas in a future version. Use pandas.concat instead.\n",
      "  results_df = results_df.append({'ngram': ngram, 'word_count': word_count, 'review_id': max_review_id, 'thumbs_up_count': max_thumbs_up}, ignore_index=True) # type: ignore\n"
     ]
    },
    {
     "name": "stdout",
     "output_type": "stream",
     "text": [
      "Finding the review with the most thumbs up count containing \"in my phone which is specially made for\"...\n"
     ]
    },
    {
     "name": "stderr",
     "output_type": "stream",
     "text": [
      "C:\\Users\\Harsh Clean\\AppData\\Local\\Temp\\ipykernel_14728\\1950153016.py:33: FutureWarning: The frame.append method is deprecated and will be removed from pandas in a future version. Use pandas.concat instead.\n",
      "  results_df = results_df.append({'ngram': ngram, 'word_count': word_count, 'review_id': max_review_id, 'thumbs_up_count': max_thumbs_up}, ignore_index=True) # type: ignore\n"
     ]
    },
    {
     "name": "stdout",
     "output_type": "stream",
     "text": [
      "Finding the review with the most thumbs up count containing \"so I would highly recommend this app to\"...\n"
     ]
    },
    {
     "name": "stderr",
     "output_type": "stream",
     "text": [
      "C:\\Users\\Harsh Clean\\AppData\\Local\\Temp\\ipykernel_14728\\1950153016.py:33: FutureWarning: The frame.append method is deprecated and will be removed from pandas in a future version. Use pandas.concat instead.\n",
      "  results_df = results_df.append({'ngram': ngram, 'word_count': word_count, 'review_id': max_review_id, 'thumbs_up_count': max_thumbs_up}, ignore_index=True) # type: ignore\n"
     ]
    },
    {
     "name": "stdout",
     "output_type": "stream",
     "text": [
      "Finding the review with the most thumbs up count containing \"my phone which is specially made for teenagers\"...\n"
     ]
    },
    {
     "name": "stderr",
     "output_type": "stream",
     "text": [
      "C:\\Users\\Harsh Clean\\AppData\\Local\\Temp\\ipykernel_14728\\1950153016.py:33: FutureWarning: The frame.append method is deprecated and will be removed from pandas in a future version. Use pandas.concat instead.\n",
      "  results_df = results_df.append({'ngram': ngram, 'word_count': word_count, 'review_id': max_review_id, 'thumbs_up_count': max_thumbs_up}, ignore_index=True) # type: ignore\n"
     ]
    },
    {
     "name": "stdout",
     "output_type": "stream",
     "text": [
      "Finding the review with the most thumbs up count containing \"app I have ever seen in my life\"...\n"
     ]
    },
    {
     "name": "stderr",
     "output_type": "stream",
     "text": [
      "C:\\Users\\Harsh Clean\\AppData\\Local\\Temp\\ipykernel_14728\\1950153016.py:33: FutureWarning: The frame.append method is deprecated and will be removed from pandas in a future version. Use pandas.concat instead.\n",
      "  results_df = results_df.append({'ngram': ngram, 'word_count': word_count, 'review_id': max_review_id, 'thumbs_up_count': max_thumbs_up}, ignore_index=True) # type: ignore\n"
     ]
    },
    {
     "name": "stdout",
     "output_type": "stream",
     "text": [
      "Generating 9-grams...\n",
      "Finding the review with the most thumbs up count containing each 9-gram...\n",
      "Finding the review with the most thumbs up count containing \"we are currently building the fam experience for your\"...\n"
     ]
    },
    {
     "name": "stderr",
     "output_type": "stream",
     "text": [
      "C:\\Users\\Harsh Clean\\AppData\\Local\\Temp\\ipykernel_14728\\1950153016.py:33: FutureWarning: The frame.append method is deprecated and will be removed from pandas in a future version. Use pandas.concat instead.\n",
      "  results_df = results_df.append({'ngram': ngram, 'word_count': word_count, 'review_id': max_review_id, 'thumbs_up_count': max_thumbs_up}, ignore_index=True) # type: ignore\n"
     ]
    },
    {
     "name": "stdout",
     "output_type": "stream",
     "text": [
      "Finding the review with the most thumbs up count containing \"app in my phone which is specially made for\"...\n"
     ]
    },
    {
     "name": "stderr",
     "output_type": "stream",
     "text": [
      "C:\\Users\\Harsh Clean\\AppData\\Local\\Temp\\ipykernel_14728\\1950153016.py:33: FutureWarning: The frame.append method is deprecated and will be removed from pandas in a future version. Use pandas.concat instead.\n",
      "  results_df = results_df.append({'ngram': ngram, 'word_count': word_count, 'review_id': max_review_id, 'thumbs_up_count': max_thumbs_up}, ignore_index=True) # type: ignore\n"
     ]
    },
    {
     "name": "stdout",
     "output_type": "stream",
     "text": [
      "Finding the review with the most thumbs up count containing \"in my phone which is specially made for teenagers\"...\n"
     ]
    },
    {
     "name": "stderr",
     "output_type": "stream",
     "text": [
      "C:\\Users\\Harsh Clean\\AppData\\Local\\Temp\\ipykernel_14728\\1950153016.py:33: FutureWarning: The frame.append method is deprecated and will be removed from pandas in a future version. Use pandas.concat instead.\n",
      "  results_df = results_df.append({'ngram': ngram, 'word_count': word_count, 'review_id': max_review_id, 'thumbs_up_count': max_thumbs_up}, ignore_index=True) # type: ignore\n"
     ]
    },
    {
     "name": "stdout",
     "output_type": "stream",
     "text": [
      "Finding the review with the most thumbs up count containing \"is the best debit card for teenagers, lovely tool\"...\n"
     ]
    },
    {
     "name": "stderr",
     "output_type": "stream",
     "text": [
      "C:\\Users\\Harsh Clean\\AppData\\Local\\Temp\\ipykernel_14728\\1950153016.py:33: FutureWarning: The frame.append method is deprecated and will be removed from pandas in a future version. Use pandas.concat instead.\n",
      "  results_df = results_df.append({'ngram': ngram, 'word_count': word_count, 'review_id': max_review_id, 'thumbs_up_count': max_thumbs_up}, ignore_index=True) # type: ignore\n"
     ]
    },
    {
     "name": "stdout",
     "output_type": "stream",
     "text": [
      "Finding the review with the most thumbs up count containing \"are currently building the fam experience for your location\"...\n"
     ]
    },
    {
     "name": "stderr",
     "output_type": "stream",
     "text": [
      "C:\\Users\\Harsh Clean\\AppData\\Local\\Temp\\ipykernel_14728\\1950153016.py:33: FutureWarning: The frame.append method is deprecated and will be removed from pandas in a future version. Use pandas.concat instead.\n",
      "  results_df = results_df.append({'ngram': ngram, 'word_count': word_count, 'review_id': max_review_id, 'thumbs_up_count': max_thumbs_up}, ignore_index=True) # type: ignore\n"
     ]
    },
    {
     "name": "stdout",
     "output_type": "stream",
     "text": [
      "Finding the review with the most thumbs up count containing \"apps available in play store but this FamPay app\"...\n"
     ]
    },
    {
     "name": "stderr",
     "output_type": "stream",
     "text": [
      "C:\\Users\\Harsh Clean\\AppData\\Local\\Temp\\ipykernel_14728\\1950153016.py:33: FutureWarning: The frame.append method is deprecated and will be removed from pandas in a future version. Use pandas.concat instead.\n",
      "  results_df = results_df.append({'ngram': ngram, 'word_count': word_count, 'review_id': max_review_id, 'thumbs_up_count': max_thumbs_up}, ignore_index=True) # type: ignore\n"
     ]
    },
    {
     "name": "stdout",
     "output_type": "stream",
     "text": [
      "Finding the review with the most thumbs up count containing \"available in play store but this FamPay app is\"...\n"
     ]
    },
    {
     "name": "stderr",
     "output_type": "stream",
     "text": [
      "C:\\Users\\Harsh Clean\\AppData\\Local\\Temp\\ipykernel_14728\\1950153016.py:33: FutureWarning: The frame.append method is deprecated and will be removed from pandas in a future version. Use pandas.concat instead.\n",
      "  results_df = results_df.append({'ngram': ngram, 'word_count': word_count, 'review_id': max_review_id, 'thumbs_up_count': max_thumbs_up}, ignore_index=True) # type: ignore\n"
     ]
    },
    {
     "name": "stdout",
     "output_type": "stream",
     "text": [
      "Finding the review with the most thumbs up count containing \"in play store but this FamPay app is really\"...\n"
     ]
    },
    {
     "name": "stderr",
     "output_type": "stream",
     "text": [
      "C:\\Users\\Harsh Clean\\AppData\\Local\\Temp\\ipykernel_14728\\1950153016.py:33: FutureWarning: The frame.append method is deprecated and will be removed from pandas in a future version. Use pandas.concat instead.\n",
      "  results_df = results_df.append({'ngram': ngram, 'word_count': word_count, 'review_id': max_review_id, 'thumbs_up_count': max_thumbs_up}, ignore_index=True) # type: ignore\n"
     ]
    },
    {
     "name": "stdout",
     "output_type": "stream",
     "text": [
      "Finding the review with the most thumbs up count containing \"the best debit card for teenagers who do well.\"...\n"
     ]
    },
    {
     "name": "stderr",
     "output_type": "stream",
     "text": [
      "C:\\Users\\Harsh Clean\\AppData\\Local\\Temp\\ipykernel_14728\\1950153016.py:33: FutureWarning: The frame.append method is deprecated and will be removed from pandas in a future version. Use pandas.concat instead.\n",
      "  results_df = results_df.append({'ngram': ngram, 'word_count': word_count, 'review_id': max_review_id, 'thumbs_up_count': max_thumbs_up}, ignore_index=True) # type: ignore\n"
     ]
    },
    {
     "name": "stdout",
     "output_type": "stream",
     "text": [
      "Finding the review with the most thumbs up count containing \"so I would highly recommend this card to everyone.\"...\n"
     ]
    },
    {
     "name": "stderr",
     "output_type": "stream",
     "text": [
      "C:\\Users\\Harsh Clean\\AppData\\Local\\Temp\\ipykernel_14728\\1950153016.py:33: FutureWarning: The frame.append method is deprecated and will be removed from pandas in a future version. Use pandas.concat instead.\n",
      "  results_df = results_df.append({'ngram': ngram, 'word_count': word_count, 'review_id': max_review_id, 'thumbs_up_count': max_thumbs_up}, ignore_index=True) # type: ignore\n"
     ]
    }
   ],
   "source": [
    "# loop over different values of n\n",
    "for i in range(1, 10):\n",
    "    print(f'Generating {i}-grams...')\n",
    "    # generate n-grams and count their frequencies\n",
    "    ngrams_freq = Counter(get_ngrams(text, i)) # type: ignore\n",
    "\n",
    "    # sort n-grams by frequency in descending order\n",
    "    sorted_ngrams = sorted(ngrams_freq.items(), key=lambda x: x[1], reverse=True)\n",
    "\n",
    "    # keep track of the total number of words in the text\n",
    "    total_words = len(text.split())\n",
    "\n",
    "    print(f'Finding the review with the most thumbs up count containing each {i}-gram...')\n",
    "\n",
    "    # loop over the top 10 n-grams\n",
    "    for ngram, freq in sorted_ngrams[:10]:\n",
    "        # find the review with the most thumbs up count containing this n-gram\n",
    "        max_thumbs_up = 0\n",
    "        max_review_id = None\n",
    "        print(f'Finding the review with the most thumbs up count containing \"{ngram}\"...')\n",
    "        for index, row in df.iterrows():\n",
    "            # print(f'Checking review {index}...')\n",
    "            thumbs_up_count = row['thumbsUpCount']\n",
    "            review_content = row['content']\n",
    "            if thumbs_up_count > max_thumbs_up and ngram in review_content:\n",
    "                max_thumbs_up = thumbs_up_count\n",
    "                max_review_id = row['reviewId']\n",
    "\n",
    "        # compute the number of times this n-gram appears per 1000 words\n",
    "        word_count = float(freq / total_words) * 1000\n",
    "\n",
    "        # add the result to the DataFrame\n",
    "        results_df = results_df.append({'ngram': ngram, 'word_count': word_count, 'review_id': max_review_id, 'thumbs_up_count': max_thumbs_up}, ignore_index=True) # type: ignore"
   ]
  },
  {
   "cell_type": "code",
   "execution_count": 38,
   "metadata": {},
   "outputs": [],
   "source": [
    "results_df.to_csv('ngram_results.csv', index=False)"
   ]
  },
  {
   "cell_type": "code",
   "execution_count": 39,
   "metadata": {},
   "outputs": [],
   "source": [
    "df = pd.read_csv('ngram_results.csv')\n",
    "df['ngram_word_count'] = df['ngram'].apply(lambda x: len(x.split()))\n",
    "df.to_csv('ngram_results.csv', index=False)"
   ]
  },
  {
   "cell_type": "code",
   "execution_count": 42,
   "metadata": {},
   "outputs": [
    {
     "name": "stdout",
     "output_type": "stream",
     "text": [
      "Generating 1-grams...\n",
      "Finding the review with the most thumbs up count containing each 1-gram...\n",
      "Finding the review with the most thumbs up count containing \"app\"...\n"
     ]
    },
    {
     "name": "stderr",
     "output_type": "stream",
     "text": [
      "C:\\Users\\Harsh Clean\\AppData\\Local\\Temp\\ipykernel_14728\\2295723168.py:44: FutureWarning: The frame.append method is deprecated and will be removed from pandas in a future version. Use pandas.concat instead.\n",
      "  results_df = results_df.append({'ngram': ngram, 'word_count': word_count, 'review_id': max_review_id, 'thumbs_up_count': max_thumbs_up}, ignore_index=True) # type: ignore\n"
     ]
    },
    {
     "name": "stdout",
     "output_type": "stream",
     "text": [
      "Finding the review with the most thumbs up count containing \"is\"...\n"
     ]
    },
    {
     "name": "stderr",
     "output_type": "stream",
     "text": [
      "C:\\Users\\Harsh Clean\\AppData\\Local\\Temp\\ipykernel_14728\\2295723168.py:44: FutureWarning: The frame.append method is deprecated and will be removed from pandas in a future version. Use pandas.concat instead.\n",
      "  results_df = results_df.append({'ngram': ngram, 'word_count': word_count, 'review_id': max_review_id, 'thumbs_up_count': max_thumbs_up}, ignore_index=True) # type: ignore\n"
     ]
    },
    {
     "name": "stdout",
     "output_type": "stream",
     "text": [
      "Finding the review with the most thumbs up count containing \"I\"...\n"
     ]
    },
    {
     "name": "stderr",
     "output_type": "stream",
     "text": [
      "C:\\Users\\Harsh Clean\\AppData\\Local\\Temp\\ipykernel_14728\\2295723168.py:44: FutureWarning: The frame.append method is deprecated and will be removed from pandas in a future version. Use pandas.concat instead.\n",
      "  results_df = results_df.append({'ngram': ngram, 'word_count': word_count, 'review_id': max_review_id, 'thumbs_up_count': max_thumbs_up}, ignore_index=True) # type: ignore\n"
     ]
    },
    {
     "name": "stdout",
     "output_type": "stream",
     "text": [
      "Finding the review with the most thumbs up count containing \"to\"...\n"
     ]
    },
    {
     "name": "stderr",
     "output_type": "stream",
     "text": [
      "C:\\Users\\Harsh Clean\\AppData\\Local\\Temp\\ipykernel_14728\\2295723168.py:44: FutureWarning: The frame.append method is deprecated and will be removed from pandas in a future version. Use pandas.concat instead.\n",
      "  results_df = results_df.append({'ngram': ngram, 'word_count': word_count, 'review_id': max_review_id, 'thumbs_up_count': max_thumbs_up}, ignore_index=True) # type: ignore\n"
     ]
    },
    {
     "name": "stdout",
     "output_type": "stream",
     "text": [
      "Finding the review with the most thumbs up count containing \"and\"...\n"
     ]
    },
    {
     "name": "stderr",
     "output_type": "stream",
     "text": [
      "C:\\Users\\Harsh Clean\\AppData\\Local\\Temp\\ipykernel_14728\\2295723168.py:44: FutureWarning: The frame.append method is deprecated and will be removed from pandas in a future version. Use pandas.concat instead.\n",
      "  results_df = results_df.append({'ngram': ngram, 'word_count': word_count, 'review_id': max_review_id, 'thumbs_up_count': max_thumbs_up}, ignore_index=True) # type: ignore\n"
     ]
    },
    {
     "name": "stdout",
     "output_type": "stream",
     "text": [
      "Finding the review with the most thumbs up count containing \"for\"...\n"
     ]
    },
    {
     "name": "stderr",
     "output_type": "stream",
     "text": [
      "C:\\Users\\Harsh Clean\\AppData\\Local\\Temp\\ipykernel_14728\\2295723168.py:44: FutureWarning: The frame.append method is deprecated and will be removed from pandas in a future version. Use pandas.concat instead.\n",
      "  results_df = results_df.append({'ngram': ngram, 'word_count': word_count, 'review_id': max_review_id, 'thumbs_up_count': max_thumbs_up}, ignore_index=True) # type: ignore\n"
     ]
    },
    {
     "name": "stdout",
     "output_type": "stream",
     "text": [
      "Finding the review with the most thumbs up count containing \"the\"...\n"
     ]
    },
    {
     "name": "stderr",
     "output_type": "stream",
     "text": [
      "C:\\Users\\Harsh Clean\\AppData\\Local\\Temp\\ipykernel_14728\\2295723168.py:44: FutureWarning: The frame.append method is deprecated and will be removed from pandas in a future version. Use pandas.concat instead.\n",
      "  results_df = results_df.append({'ngram': ngram, 'word_count': word_count, 'review_id': max_review_id, 'thumbs_up_count': max_thumbs_up}, ignore_index=True) # type: ignore\n"
     ]
    },
    {
     "name": "stdout",
     "output_type": "stream",
     "text": [
      "Finding the review with the most thumbs up count containing \"this\"...\n"
     ]
    },
    {
     "name": "stderr",
     "output_type": "stream",
     "text": [
      "C:\\Users\\Harsh Clean\\AppData\\Local\\Temp\\ipykernel_14728\\2295723168.py:44: FutureWarning: The frame.append method is deprecated and will be removed from pandas in a future version. Use pandas.concat instead.\n",
      "  results_df = results_df.append({'ngram': ngram, 'word_count': word_count, 'review_id': max_review_id, 'thumbs_up_count': max_thumbs_up}, ignore_index=True) # type: ignore\n"
     ]
    },
    {
     "name": "stdout",
     "output_type": "stream",
     "text": [
      "Finding the review with the most thumbs up count containing \"my\"...\n"
     ]
    },
    {
     "name": "stderr",
     "output_type": "stream",
     "text": [
      "C:\\Users\\Harsh Clean\\AppData\\Local\\Temp\\ipykernel_14728\\2295723168.py:44: FutureWarning: The frame.append method is deprecated and will be removed from pandas in a future version. Use pandas.concat instead.\n",
      "  results_df = results_df.append({'ngram': ngram, 'word_count': word_count, 'review_id': max_review_id, 'thumbs_up_count': max_thumbs_up}, ignore_index=True) # type: ignore\n"
     ]
    },
    {
     "name": "stdout",
     "output_type": "stream",
     "text": [
      "Finding the review with the most thumbs up count containing \"not\"...\n"
     ]
    },
    {
     "name": "stderr",
     "output_type": "stream",
     "text": [
      "C:\\Users\\Harsh Clean\\AppData\\Local\\Temp\\ipykernel_14728\\2295723168.py:44: FutureWarning: The frame.append method is deprecated and will be removed from pandas in a future version. Use pandas.concat instead.\n",
      "  results_df = results_df.append({'ngram': ngram, 'word_count': word_count, 'review_id': max_review_id, 'thumbs_up_count': max_thumbs_up}, ignore_index=True) # type: ignore\n"
     ]
    },
    {
     "name": "stdout",
     "output_type": "stream",
     "text": [
      "Generating 2-grams...\n",
      "Finding the review with the most thumbs up count containing each 2-gram...\n",
      "Finding the review with the most thumbs up count containing \"this app\"...\n"
     ]
    },
    {
     "name": "stderr",
     "output_type": "stream",
     "text": [
      "C:\\Users\\Harsh Clean\\AppData\\Local\\Temp\\ipykernel_14728\\2295723168.py:44: FutureWarning: The frame.append method is deprecated and will be removed from pandas in a future version. Use pandas.concat instead.\n",
      "  results_df = results_df.append({'ngram': ngram, 'word_count': word_count, 'review_id': max_review_id, 'thumbs_up_count': max_thumbs_up}, ignore_index=True) # type: ignore\n"
     ]
    },
    {
     "name": "stdout",
     "output_type": "stream",
     "text": [
      "Finding the review with the most thumbs up count containing \"app for\"...\n"
     ]
    },
    {
     "name": "stderr",
     "output_type": "stream",
     "text": [
      "C:\\Users\\Harsh Clean\\AppData\\Local\\Temp\\ipykernel_14728\\2295723168.py:44: FutureWarning: The frame.append method is deprecated and will be removed from pandas in a future version. Use pandas.concat instead.\n",
      "  results_df = results_df.append({'ngram': ngram, 'word_count': word_count, 'review_id': max_review_id, 'thumbs_up_count': max_thumbs_up}, ignore_index=True) # type: ignore\n"
     ]
    },
    {
     "name": "stdout",
     "output_type": "stream",
     "text": [
      "Finding the review with the most thumbs up count containing \"is not\"...\n"
     ]
    },
    {
     "name": "stderr",
     "output_type": "stream",
     "text": [
      "C:\\Users\\Harsh Clean\\AppData\\Local\\Temp\\ipykernel_14728\\2295723168.py:44: FutureWarning: The frame.append method is deprecated and will be removed from pandas in a future version. Use pandas.concat instead.\n",
      "  results_df = results_df.append({'ngram': ngram, 'word_count': word_count, 'review_id': max_review_id, 'thumbs_up_count': max_thumbs_up}, ignore_index=True) # type: ignore\n"
     ]
    },
    {
     "name": "stdout",
     "output_type": "stream",
     "text": [
      "Finding the review with the most thumbs up count containing \"app is\"...\n"
     ]
    },
    {
     "name": "stderr",
     "output_type": "stream",
     "text": [
      "C:\\Users\\Harsh Clean\\AppData\\Local\\Temp\\ipykernel_14728\\2295723168.py:44: FutureWarning: The frame.append method is deprecated and will be removed from pandas in a future version. Use pandas.concat instead.\n",
      "  results_df = results_df.append({'ngram': ngram, 'word_count': word_count, 'review_id': max_review_id, 'thumbs_up_count': max_thumbs_up}, ignore_index=True) # type: ignore\n"
     ]
    },
    {
     "name": "stdout",
     "output_type": "stream",
     "text": [
      "Finding the review with the most thumbs up count containing \"nice app\"...\n"
     ]
    },
    {
     "name": "stderr",
     "output_type": "stream",
     "text": [
      "C:\\Users\\Harsh Clean\\AppData\\Local\\Temp\\ipykernel_14728\\2295723168.py:44: FutureWarning: The frame.append method is deprecated and will be removed from pandas in a future version. Use pandas.concat instead.\n",
      "  results_df = results_df.append({'ngram': ngram, 'word_count': word_count, 'review_id': max_review_id, 'thumbs_up_count': max_thumbs_up}, ignore_index=True) # type: ignore\n"
     ]
    },
    {
     "name": "stdout",
     "output_type": "stream",
     "text": [
      "Finding the review with the most thumbs up count containing \"good app\"...\n"
     ]
    },
    {
     "name": "stderr",
     "output_type": "stream",
     "text": [
      "C:\\Users\\Harsh Clean\\AppData\\Local\\Temp\\ipykernel_14728\\2295723168.py:44: FutureWarning: The frame.append method is deprecated and will be removed from pandas in a future version. Use pandas.concat instead.\n",
      "  results_df = results_df.append({'ngram': ngram, 'word_count': word_count, 'review_id': max_review_id, 'thumbs_up_count': max_thumbs_up}, ignore_index=True) # type: ignore\n"
     ]
    },
    {
     "name": "stdout",
     "output_type": "stream",
     "text": [
      "Finding the review with the most thumbs up count containing \"for teenagers\"...\n"
     ]
    },
    {
     "name": "stderr",
     "output_type": "stream",
     "text": [
      "C:\\Users\\Harsh Clean\\AppData\\Local\\Temp\\ipykernel_14728\\2295723168.py:44: FutureWarning: The frame.append method is deprecated and will be removed from pandas in a future version. Use pandas.concat instead.\n",
      "  results_df = results_df.append({'ngram': ngram, 'word_count': word_count, 'review_id': max_review_id, 'thumbs_up_count': max_thumbs_up}, ignore_index=True) # type: ignore\n"
     ]
    },
    {
     "name": "stdout",
     "output_type": "stream",
     "text": [
      "Finding the review with the most thumbs up count containing \"I am\"...\n"
     ]
    },
    {
     "name": "stderr",
     "output_type": "stream",
     "text": [
      "C:\\Users\\Harsh Clean\\AppData\\Local\\Temp\\ipykernel_14728\\2295723168.py:44: FutureWarning: The frame.append method is deprecated and will be removed from pandas in a future version. Use pandas.concat instead.\n",
      "  results_df = results_df.append({'ngram': ngram, 'word_count': word_count, 'review_id': max_review_id, 'thumbs_up_count': max_thumbs_up}, ignore_index=True) # type: ignore\n"
     ]
    },
    {
     "name": "stdout",
     "output_type": "stream",
     "text": [
      "Finding the review with the most thumbs up count containing \"is very\"...\n"
     ]
    },
    {
     "name": "stderr",
     "output_type": "stream",
     "text": [
      "C:\\Users\\Harsh Clean\\AppData\\Local\\Temp\\ipykernel_14728\\2295723168.py:44: FutureWarning: The frame.append method is deprecated and will be removed from pandas in a future version. Use pandas.concat instead.\n",
      "  results_df = results_df.append({'ngram': ngram, 'word_count': word_count, 'review_id': max_review_id, 'thumbs_up_count': max_thumbs_up}, ignore_index=True) # type: ignore\n"
     ]
    },
    {
     "name": "stdout",
     "output_type": "stream",
     "text": [
      "Finding the review with the most thumbs up count containing \"very good\"...\n"
     ]
    },
    {
     "name": "stderr",
     "output_type": "stream",
     "text": [
      "C:\\Users\\Harsh Clean\\AppData\\Local\\Temp\\ipykernel_14728\\2295723168.py:44: FutureWarning: The frame.append method is deprecated and will be removed from pandas in a future version. Use pandas.concat instead.\n",
      "  results_df = results_df.append({'ngram': ngram, 'word_count': word_count, 'review_id': max_review_id, 'thumbs_up_count': max_thumbs_up}, ignore_index=True) # type: ignore\n"
     ]
    },
    {
     "name": "stdout",
     "output_type": "stream",
     "text": [
      "Generating 3-grams...\n",
      "Finding the review with the most thumbs up count containing each 3-gram...\n",
      "Finding the review with the most thumbs up count containing \"This app is\"...\n"
     ]
    },
    {
     "name": "stderr",
     "output_type": "stream",
     "text": [
      "C:\\Users\\Harsh Clean\\AppData\\Local\\Temp\\ipykernel_14728\\2295723168.py:44: FutureWarning: The frame.append method is deprecated and will be removed from pandas in a future version. Use pandas.concat instead.\n",
      "  results_df = results_df.append({'ngram': ngram, 'word_count': word_count, 'review_id': max_review_id, 'thumbs_up_count': max_thumbs_up}, ignore_index=True) # type: ignore\n"
     ]
    },
    {
     "name": "stdout",
     "output_type": "stream",
     "text": [
      "Finding the review with the most thumbs up count containing \"app for teenagers\"...\n"
     ]
    },
    {
     "name": "stderr",
     "output_type": "stream",
     "text": [
      "C:\\Users\\Harsh Clean\\AppData\\Local\\Temp\\ipykernel_14728\\2295723168.py:44: FutureWarning: The frame.append method is deprecated and will be removed from pandas in a future version. Use pandas.concat instead.\n",
      "  results_df = results_df.append({'ngram': ngram, 'word_count': word_count, 'review_id': max_review_id, 'thumbs_up_count': max_thumbs_up}, ignore_index=True) # type: ignore\n"
     ]
    },
    {
     "name": "stdout",
     "output_type": "stream",
     "text": [
      "Finding the review with the most thumbs up count containing \"is not working\"...\n"
     ]
    },
    {
     "name": "stderr",
     "output_type": "stream",
     "text": [
      "C:\\Users\\Harsh Clean\\AppData\\Local\\Temp\\ipykernel_14728\\2295723168.py:44: FutureWarning: The frame.append method is deprecated and will be removed from pandas in a future version. Use pandas.concat instead.\n",
      "  results_df = results_df.append({'ngram': ngram, 'word_count': word_count, 'review_id': max_review_id, 'thumbs_up_count': max_thumbs_up}, ignore_index=True) # type: ignore\n"
     ]
    },
    {
     "name": "stdout",
     "output_type": "stream",
     "text": [
      "Finding the review with the most thumbs up count containing \"this app is\"...\n"
     ]
    },
    {
     "name": "stderr",
     "output_type": "stream",
     "text": [
      "C:\\Users\\Harsh Clean\\AppData\\Local\\Temp\\ipykernel_14728\\2295723168.py:44: FutureWarning: The frame.append method is deprecated and will be removed from pandas in a future version. Use pandas.concat instead.\n",
      "  results_df = results_df.append({'ngram': ngram, 'word_count': word_count, 'review_id': max_review_id, 'thumbs_up_count': max_thumbs_up}, ignore_index=True) # type: ignore\n"
     ]
    },
    {
     "name": "stdout",
     "output_type": "stream",
     "text": [
      "Finding the review with the most thumbs up count containing \"very good app\"...\n"
     ]
    },
    {
     "name": "stderr",
     "output_type": "stream",
     "text": [
      "C:\\Users\\Harsh Clean\\AppData\\Local\\Temp\\ipykernel_14728\\2295723168.py:44: FutureWarning: The frame.append method is deprecated and will be removed from pandas in a future version. Use pandas.concat instead.\n",
      "  results_df = results_df.append({'ngram': ngram, 'word_count': word_count, 'review_id': max_review_id, 'thumbs_up_count': max_thumbs_up}, ignore_index=True) # type: ignore\n"
     ]
    },
    {
     "name": "stdout",
     "output_type": "stream",
     "text": [
      "Finding the review with the most thumbs up count containing \"app is very\"...\n"
     ]
    },
    {
     "name": "stderr",
     "output_type": "stream",
     "text": [
      "C:\\Users\\Harsh Clean\\AppData\\Local\\Temp\\ipykernel_14728\\2295723168.py:44: FutureWarning: The frame.append method is deprecated and will be removed from pandas in a future version. Use pandas.concat instead.\n",
      "  results_df = results_df.append({'ngram': ngram, 'word_count': word_count, 'review_id': max_review_id, 'thumbs_up_count': max_thumbs_up}, ignore_index=True) # type: ignore\n"
     ]
    },
    {
     "name": "stdout",
     "output_type": "stream",
     "text": [
      "Finding the review with the most thumbs up count containing \"not able to\"...\n"
     ]
    },
    {
     "name": "stderr",
     "output_type": "stream",
     "text": [
      "C:\\Users\\Harsh Clean\\AppData\\Local\\Temp\\ipykernel_14728\\2295723168.py:44: FutureWarning: The frame.append method is deprecated and will be removed from pandas in a future version. Use pandas.concat instead.\n",
      "  results_df = results_df.append({'ngram': ngram, 'word_count': word_count, 'review_id': max_review_id, 'thumbs_up_count': max_thumbs_up}, ignore_index=True) # type: ignore\n"
     ]
    },
    {
     "name": "stdout",
     "output_type": "stream",
     "text": [
      "Finding the review with the most thumbs up count containing \"good app for\"...\n"
     ]
    },
    {
     "name": "stderr",
     "output_type": "stream",
     "text": [
      "C:\\Users\\Harsh Clean\\AppData\\Local\\Temp\\ipykernel_14728\\2295723168.py:44: FutureWarning: The frame.append method is deprecated and will be removed from pandas in a future version. Use pandas.concat instead.\n",
      "  results_df = results_df.append({'ngram': ngram, 'word_count': word_count, 'review_id': max_review_id, 'thumbs_up_count': max_thumbs_up}, ignore_index=True) # type: ignore\n"
     ]
    },
    {
     "name": "stdout",
     "output_type": "stream",
     "text": [
      "Finding the review with the most thumbs up count containing \"best app for\"...\n"
     ]
    },
    {
     "name": "stderr",
     "output_type": "stream",
     "text": [
      "C:\\Users\\Harsh Clean\\AppData\\Local\\Temp\\ipykernel_14728\\2295723168.py:44: FutureWarning: The frame.append method is deprecated and will be removed from pandas in a future version. Use pandas.concat instead.\n",
      "  results_df = results_df.append({'ngram': ngram, 'word_count': word_count, 'review_id': max_review_id, 'thumbs_up_count': max_thumbs_up}, ignore_index=True) # type: ignore\n"
     ]
    },
    {
     "name": "stdout",
     "output_type": "stream",
     "text": [
      "Finding the review with the most thumbs up count containing \"Best app for\"...\n"
     ]
    },
    {
     "name": "stderr",
     "output_type": "stream",
     "text": [
      "C:\\Users\\Harsh Clean\\AppData\\Local\\Temp\\ipykernel_14728\\2295723168.py:44: FutureWarning: The frame.append method is deprecated and will be removed from pandas in a future version. Use pandas.concat instead.\n",
      "  results_df = results_df.append({'ngram': ngram, 'word_count': word_count, 'review_id': max_review_id, 'thumbs_up_count': max_thumbs_up}, ignore_index=True) # type: ignore\n"
     ]
    },
    {
     "name": "stdout",
     "output_type": "stream",
     "text": [
      "Generating 4-grams...\n",
      "Finding the review with the most thumbs up count containing each 4-gram...\n",
      "Finding the review with the most thumbs up count containing \"This app is very\"...\n"
     ]
    },
    {
     "name": "stderr",
     "output_type": "stream",
     "text": [
      "C:\\Users\\Harsh Clean\\AppData\\Local\\Temp\\ipykernel_14728\\2295723168.py:44: FutureWarning: The frame.append method is deprecated and will be removed from pandas in a future version. Use pandas.concat instead.\n",
      "  results_df = results_df.append({'ngram': ngram, 'word_count': word_count, 'review_id': max_review_id, 'thumbs_up_count': max_thumbs_up}, ignore_index=True) # type: ignore\n"
     ]
    },
    {
     "name": "stdout",
     "output_type": "stream",
     "text": [
      "Finding the review with the most thumbs up count containing \"am not able to\"...\n"
     ]
    },
    {
     "name": "stderr",
     "output_type": "stream",
     "text": [
      "C:\\Users\\Harsh Clean\\AppData\\Local\\Temp\\ipykernel_14728\\2295723168.py:44: FutureWarning: The frame.append method is deprecated and will be removed from pandas in a future version. Use pandas.concat instead.\n",
      "  results_df = results_df.append({'ngram': ngram, 'word_count': word_count, 'review_id': max_review_id, 'thumbs_up_count': max_thumbs_up}, ignore_index=True) # type: ignore\n"
     ]
    },
    {
     "name": "stdout",
     "output_type": "stream",
     "text": [
      "Finding the review with the most thumbs up count containing \"I am not able\"...\n"
     ]
    },
    {
     "name": "stderr",
     "output_type": "stream",
     "text": [
      "C:\\Users\\Harsh Clean\\AppData\\Local\\Temp\\ipykernel_14728\\2295723168.py:44: FutureWarning: The frame.append method is deprecated and will be removed from pandas in a future version. Use pandas.concat instead.\n",
      "  results_df = results_df.append({'ngram': ngram, 'word_count': word_count, 'review_id': max_review_id, 'thumbs_up_count': max_thumbs_up}, ignore_index=True) # type: ignore\n"
     ]
    },
    {
     "name": "stdout",
     "output_type": "stream",
     "text": [
      "Finding the review with the most thumbs up count containing \"very good app for\"...\n"
     ]
    },
    {
     "name": "stderr",
     "output_type": "stream",
     "text": [
      "C:\\Users\\Harsh Clean\\AppData\\Local\\Temp\\ipykernel_14728\\2295723168.py:44: FutureWarning: The frame.append method is deprecated and will be removed from pandas in a future version. Use pandas.concat instead.\n",
      "  results_df = results_df.append({'ngram': ngram, 'word_count': word_count, 'review_id': max_review_id, 'thumbs_up_count': max_thumbs_up}, ignore_index=True) # type: ignore\n"
     ]
    },
    {
     "name": "stdout",
     "output_type": "stream",
     "text": [
      "Finding the review with the most thumbs up count containing \"app is very good\"...\n"
     ]
    },
    {
     "name": "stderr",
     "output_type": "stream",
     "text": [
      "C:\\Users\\Harsh Clean\\AppData\\Local\\Temp\\ipykernel_14728\\2295723168.py:44: FutureWarning: The frame.append method is deprecated and will be removed from pandas in a future version. Use pandas.concat instead.\n",
      "  results_df = results_df.append({'ngram': ngram, 'word_count': word_count, 'review_id': max_review_id, 'thumbs_up_count': max_thumbs_up}, ignore_index=True) # type: ignore\n"
     ]
    },
    {
     "name": "stdout",
     "output_type": "stream",
     "text": [
      "Finding the review with the most thumbs up count containing \"this app is very\"...\n"
     ]
    },
    {
     "name": "stderr",
     "output_type": "stream",
     "text": [
      "C:\\Users\\Harsh Clean\\AppData\\Local\\Temp\\ipykernel_14728\\2295723168.py:44: FutureWarning: The frame.append method is deprecated and will be removed from pandas in a future version. Use pandas.concat instead.\n",
      "  results_df = results_df.append({'ngram': ngram, 'word_count': word_count, 'review_id': max_review_id, 'thumbs_up_count': max_thumbs_up}, ignore_index=True) # type: ignore\n"
     ]
    },
    {
     "name": "stdout",
     "output_type": "stream",
     "text": [
      "Finding the review with the most thumbs up count containing \"I love this app\"...\n"
     ]
    },
    {
     "name": "stderr",
     "output_type": "stream",
     "text": [
      "C:\\Users\\Harsh Clean\\AppData\\Local\\Temp\\ipykernel_14728\\2295723168.py:44: FutureWarning: The frame.append method is deprecated and will be removed from pandas in a future version. Use pandas.concat instead.\n",
      "  results_df = results_df.append({'ngram': ngram, 'word_count': word_count, 'review_id': max_review_id, 'thumbs_up_count': max_thumbs_up}, ignore_index=True) # type: ignore\n"
     ]
    },
    {
     "name": "stdout",
     "output_type": "stream",
     "text": [
      "Finding the review with the most thumbs up count containing \"best app for teenagers\"...\n"
     ]
    },
    {
     "name": "stderr",
     "output_type": "stream",
     "text": [
      "C:\\Users\\Harsh Clean\\AppData\\Local\\Temp\\ipykernel_14728\\2295723168.py:44: FutureWarning: The frame.append method is deprecated and will be removed from pandas in a future version. Use pandas.concat instead.\n",
      "  results_df = results_df.append({'ngram': ngram, 'word_count': word_count, 'review_id': max_review_id, 'thumbs_up_count': max_thumbs_up}, ignore_index=True) # type: ignore\n"
     ]
    },
    {
     "name": "stdout",
     "output_type": "stream",
     "text": [
      "Finding the review with the most thumbs up count containing \"Best app for teenagers\"...\n"
     ]
    },
    {
     "name": "stderr",
     "output_type": "stream",
     "text": [
      "C:\\Users\\Harsh Clean\\AppData\\Local\\Temp\\ipykernel_14728\\2295723168.py:44: FutureWarning: The frame.append method is deprecated and will be removed from pandas in a future version. Use pandas.concat instead.\n",
      "  results_df = results_df.append({'ngram': ngram, 'word_count': word_count, 'review_id': max_review_id, 'thumbs_up_count': max_thumbs_up}, ignore_index=True) # type: ignore\n"
     ]
    },
    {
     "name": "stdout",
     "output_type": "stream",
     "text": [
      "Finding the review with the most thumbs up count containing \"good app for teenagers\"...\n"
     ]
    },
    {
     "name": "stderr",
     "output_type": "stream",
     "text": [
      "C:\\Users\\Harsh Clean\\AppData\\Local\\Temp\\ipykernel_14728\\2295723168.py:44: FutureWarning: The frame.append method is deprecated and will be removed from pandas in a future version. Use pandas.concat instead.\n",
      "  results_df = results_df.append({'ngram': ngram, 'word_count': word_count, 'review_id': max_review_id, 'thumbs_up_count': max_thumbs_up}, ignore_index=True) # type: ignore\n"
     ]
    },
    {
     "name": "stdout",
     "output_type": "stream",
     "text": [
      "Generating 5-grams...\n",
      "Finding the review with the most thumbs up count containing each 5-gram...\n",
      "Finding the review with the most thumbs up count containing \"I am not able to\"...\n"
     ]
    },
    {
     "name": "stderr",
     "output_type": "stream",
     "text": [
      "C:\\Users\\Harsh Clean\\AppData\\Local\\Temp\\ipykernel_14728\\2295723168.py:44: FutureWarning: The frame.append method is deprecated and will be removed from pandas in a future version. Use pandas.concat instead.\n",
      "  results_df = results_df.append({'ngram': ngram, 'word_count': word_count, 'review_id': max_review_id, 'thumbs_up_count': max_thumbs_up}, ignore_index=True) # type: ignore\n"
     ]
    },
    {
     "name": "stdout",
     "output_type": "stream",
     "text": [
      "Finding the review with the most thumbs up count containing \"This app is very good\"...\n"
     ]
    },
    {
     "name": "stderr",
     "output_type": "stream",
     "text": [
      "C:\\Users\\Harsh Clean\\AppData\\Local\\Temp\\ipykernel_14728\\2295723168.py:44: FutureWarning: The frame.append method is deprecated and will be removed from pandas in a future version. Use pandas.concat instead.\n",
      "  results_df = results_df.append({'ngram': ngram, 'word_count': word_count, 'review_id': max_review_id, 'thumbs_up_count': max_thumbs_up}, ignore_index=True) # type: ignore\n"
     ]
    },
    {
     "name": "stdout",
     "output_type": "stream",
     "text": [
      "Finding the review with the most thumbs up count containing \"is the best app for\"...\n"
     ]
    },
    {
     "name": "stderr",
     "output_type": "stream",
     "text": [
      "C:\\Users\\Harsh Clean\\AppData\\Local\\Temp\\ipykernel_14728\\2295723168.py:44: FutureWarning: The frame.append method is deprecated and will be removed from pandas in a future version. Use pandas.concat instead.\n",
      "  results_df = results_df.append({'ngram': ngram, 'word_count': word_count, 'review_id': max_review_id, 'thumbs_up_count': max_thumbs_up}, ignore_index=True) # type: ignore\n"
     ]
    },
    {
     "name": "stdout",
     "output_type": "stream",
     "text": [
      "Finding the review with the most thumbs up count containing \"i am not able to\"...\n"
     ]
    },
    {
     "name": "stderr",
     "output_type": "stream",
     "text": [
      "C:\\Users\\Harsh Clean\\AppData\\Local\\Temp\\ipykernel_14728\\2295723168.py:44: FutureWarning: The frame.append method is deprecated and will be removed from pandas in a future version. Use pandas.concat instead.\n",
      "  results_df = results_df.append({'ngram': ngram, 'word_count': word_count, 'review_id': max_review_id, 'thumbs_up_count': max_thumbs_up}, ignore_index=True) # type: ignore\n"
     ]
    },
    {
     "name": "stdout",
     "output_type": "stream",
     "text": [
      "Finding the review with the most thumbs up count containing \"very good app for teenagers\"...\n"
     ]
    },
    {
     "name": "stderr",
     "output_type": "stream",
     "text": [
      "C:\\Users\\Harsh Clean\\AppData\\Local\\Temp\\ipykernel_14728\\2295723168.py:44: FutureWarning: The frame.append method is deprecated and will be removed from pandas in a future version. Use pandas.concat instead.\n",
      "  results_df = results_df.append({'ngram': ngram, 'word_count': word_count, 'review_id': max_review_id, 'thumbs_up_count': max_thumbs_up}, ignore_index=True) # type: ignore\n"
     ]
    },
    {
     "name": "stdout",
     "output_type": "stream",
     "text": [
      "Finding the review with the most thumbs up count containing \"is a very good app\"...\n"
     ]
    },
    {
     "name": "stderr",
     "output_type": "stream",
     "text": [
      "C:\\Users\\Harsh Clean\\AppData\\Local\\Temp\\ipykernel_14728\\2295723168.py:44: FutureWarning: The frame.append method is deprecated and will be removed from pandas in a future version. Use pandas.concat instead.\n",
      "  results_df = results_df.append({'ngram': ngram, 'word_count': word_count, 'review_id': max_review_id, 'thumbs_up_count': max_thumbs_up}, ignore_index=True) # type: ignore\n"
     ]
    },
    {
     "name": "stdout",
     "output_type": "stream",
     "text": [
      "Finding the review with the most thumbs up count containing \"This app is good but\"...\n"
     ]
    },
    {
     "name": "stderr",
     "output_type": "stream",
     "text": [
      "C:\\Users\\Harsh Clean\\AppData\\Local\\Temp\\ipykernel_14728\\2295723168.py:44: FutureWarning: The frame.append method is deprecated and will be removed from pandas in a future version. Use pandas.concat instead.\n",
      "  results_df = results_df.append({'ngram': ngram, 'word_count': word_count, 'review_id': max_review_id, 'thumbs_up_count': max_thumbs_up}, ignore_index=True) # type: ignore\n"
     ]
    },
    {
     "name": "stdout",
     "output_type": "stream",
     "text": [
      "Finding the review with the most thumbs up count containing \"this app is very good\"...\n"
     ]
    },
    {
     "name": "stderr",
     "output_type": "stream",
     "text": [
      "C:\\Users\\Harsh Clean\\AppData\\Local\\Temp\\ipykernel_14728\\2295723168.py:44: FutureWarning: The frame.append method is deprecated and will be removed from pandas in a future version. Use pandas.concat instead.\n",
      "  results_df = results_df.append({'ngram': ngram, 'word_count': word_count, 'review_id': max_review_id, 'thumbs_up_count': max_thumbs_up}, ignore_index=True) # type: ignore\n"
     ]
    },
    {
     "name": "stdout",
     "output_type": "stream",
     "text": [
      "Finding the review with the most thumbs up count containing \"This is the best app\"...\n"
     ]
    },
    {
     "name": "stderr",
     "output_type": "stream",
     "text": [
      "C:\\Users\\Harsh Clean\\AppData\\Local\\Temp\\ipykernel_14728\\2295723168.py:44: FutureWarning: The frame.append method is deprecated and will be removed from pandas in a future version. Use pandas.concat instead.\n",
      "  results_df = results_df.append({'ngram': ngram, 'word_count': word_count, 'review_id': max_review_id, 'thumbs_up_count': max_thumbs_up}, ignore_index=True) # type: ignore\n"
     ]
    },
    {
     "name": "stdout",
     "output_type": "stream",
     "text": [
      "Finding the review with the most thumbs up count containing \"a very good app for\"...\n"
     ]
    },
    {
     "name": "stderr",
     "output_type": "stream",
     "text": [
      "C:\\Users\\Harsh Clean\\AppData\\Local\\Temp\\ipykernel_14728\\2295723168.py:44: FutureWarning: The frame.append method is deprecated and will be removed from pandas in a future version. Use pandas.concat instead.\n",
      "  results_df = results_df.append({'ngram': ngram, 'word_count': word_count, 'review_id': max_review_id, 'thumbs_up_count': max_thumbs_up}, ignore_index=True) # type: ignore\n"
     ]
    },
    {
     "name": "stdout",
     "output_type": "stream",
     "text": [
      "Generating 6-grams...\n",
      "Finding the review with the most thumbs up count containing each 6-gram...\n",
      "Finding the review with the most thumbs up count containing \"This is the best app for\"...\n"
     ]
    },
    {
     "name": "stderr",
     "output_type": "stream",
     "text": [
      "C:\\Users\\Harsh Clean\\AppData\\Local\\Temp\\ipykernel_14728\\2295723168.py:44: FutureWarning: The frame.append method is deprecated and will be removed from pandas in a future version. Use pandas.concat instead.\n",
      "  results_df = results_df.append({'ngram': ngram, 'word_count': word_count, 'review_id': max_review_id, 'thumbs_up_count': max_thumbs_up}, ignore_index=True) # type: ignore\n"
     ]
    },
    {
     "name": "stdout",
     "output_type": "stream",
     "text": [
      "Finding the review with the most thumbs up count containing \"is the best app for teenagers\"...\n"
     ]
    },
    {
     "name": "stderr",
     "output_type": "stream",
     "text": [
      "C:\\Users\\Harsh Clean\\AppData\\Local\\Temp\\ipykernel_14728\\2295723168.py:44: FutureWarning: The frame.append method is deprecated and will be removed from pandas in a future version. Use pandas.concat instead.\n",
      "  results_df = results_df.append({'ngram': ngram, 'word_count': word_count, 'review_id': max_review_id, 'thumbs_up_count': max_thumbs_up}, ignore_index=True) # type: ignore\n"
     ]
    },
    {
     "name": "stdout",
     "output_type": "stream",
     "text": [
      "Finding the review with the most thumbs up count containing \"is a very good app for\"...\n"
     ]
    },
    {
     "name": "stderr",
     "output_type": "stream",
     "text": [
      "C:\\Users\\Harsh Clean\\AppData\\Local\\Temp\\ipykernel_14728\\2295723168.py:44: FutureWarning: The frame.append method is deprecated and will be removed from pandas in a future version. Use pandas.concat instead.\n",
      "  results_df = results_df.append({'ngram': ngram, 'word_count': word_count, 'review_id': max_review_id, 'thumbs_up_count': max_thumbs_up}, ignore_index=True) # type: ignore\n"
     ]
    },
    {
     "name": "stdout",
     "output_type": "stream",
     "text": [
      "Finding the review with the most thumbs up count containing \"This is a very good app\"...\n"
     ]
    },
    {
     "name": "stderr",
     "output_type": "stream",
     "text": [
      "C:\\Users\\Harsh Clean\\AppData\\Local\\Temp\\ipykernel_14728\\2295723168.py:44: FutureWarning: The frame.append method is deprecated and will be removed from pandas in a future version. Use pandas.concat instead.\n",
      "  results_df = results_df.append({'ngram': ngram, 'word_count': word_count, 'review_id': max_review_id, 'thumbs_up_count': max_thumbs_up}, ignore_index=True) # type: ignore\n"
     ]
    },
    {
     "name": "stdout",
     "output_type": "stream",
     "text": [
      "Finding the review with the most thumbs up count containing \"I am not able to do\"...\n"
     ]
    },
    {
     "name": "stderr",
     "output_type": "stream",
     "text": [
      "C:\\Users\\Harsh Clean\\AppData\\Local\\Temp\\ipykernel_14728\\2295723168.py:44: FutureWarning: The frame.append method is deprecated and will be removed from pandas in a future version. Use pandas.concat instead.\n",
      "  results_df = results_df.append({'ngram': ngram, 'word_count': word_count, 'review_id': max_review_id, 'thumbs_up_count': max_thumbs_up}, ignore_index=True) # type: ignore\n"
     ]
    },
    {
     "name": "stdout",
     "output_type": "stream",
     "text": [
      "Finding the review with the most thumbs up count containing \"This app is very useful for\"...\n"
     ]
    },
    {
     "name": "stderr",
     "output_type": "stream",
     "text": [
      "C:\\Users\\Harsh Clean\\AppData\\Local\\Temp\\ipykernel_14728\\2295723168.py:44: FutureWarning: The frame.append method is deprecated and will be removed from pandas in a future version. Use pandas.concat instead.\n",
      "  results_df = results_df.append({'ngram': ngram, 'word_count': word_count, 'review_id': max_review_id, 'thumbs_up_count': max_thumbs_up}, ignore_index=True) # type: ignore\n"
     ]
    },
    {
     "name": "stdout",
     "output_type": "stream",
     "text": [
      "Finding the review with the most thumbs up count containing \"this is the best app for\"...\n"
     ]
    },
    {
     "name": "stderr",
     "output_type": "stream",
     "text": [
      "C:\\Users\\Harsh Clean\\AppData\\Local\\Temp\\ipykernel_14728\\2295723168.py:44: FutureWarning: The frame.append method is deprecated and will be removed from pandas in a future version. Use pandas.concat instead.\n",
      "  results_df = results_df.append({'ngram': ngram, 'word_count': word_count, 'review_id': max_review_id, 'thumbs_up_count': max_thumbs_up}, ignore_index=True) # type: ignore\n"
     ]
    },
    {
     "name": "stdout",
     "output_type": "stream",
     "text": [
      "Finding the review with the most thumbs up count containing \"This app is very good for\"...\n"
     ]
    },
    {
     "name": "stderr",
     "output_type": "stream",
     "text": [
      "C:\\Users\\Harsh Clean\\AppData\\Local\\Temp\\ipykernel_14728\\2295723168.py:44: FutureWarning: The frame.append method is deprecated and will be removed from pandas in a future version. Use pandas.concat instead.\n",
      "  results_df = results_df.append({'ngram': ngram, 'word_count': word_count, 'review_id': max_review_id, 'thumbs_up_count': max_thumbs_up}, ignore_index=True) # type: ignore\n"
     ]
    },
    {
     "name": "stdout",
     "output_type": "stream",
     "text": [
      "Finding the review with the most thumbs up count containing \"I am not able to see\"...\n"
     ]
    },
    {
     "name": "stderr",
     "output_type": "stream",
     "text": [
      "C:\\Users\\Harsh Clean\\AppData\\Local\\Temp\\ipykernel_14728\\2295723168.py:44: FutureWarning: The frame.append method is deprecated and will be removed from pandas in a future version. Use pandas.concat instead.\n",
      "  results_df = results_df.append({'ngram': ngram, 'word_count': word_count, 'review_id': max_review_id, 'thumbs_up_count': max_thumbs_up}, ignore_index=True) # type: ignore\n"
     ]
    },
    {
     "name": "stdout",
     "output_type": "stream",
     "text": [
      "Finding the review with the most thumbs up count containing \"I am not able to pay\"...\n"
     ]
    },
    {
     "name": "stderr",
     "output_type": "stream",
     "text": [
      "C:\\Users\\Harsh Clean\\AppData\\Local\\Temp\\ipykernel_14728\\2295723168.py:44: FutureWarning: The frame.append method is deprecated and will be removed from pandas in a future version. Use pandas.concat instead.\n",
      "  results_df = results_df.append({'ngram': ngram, 'word_count': word_count, 'review_id': max_review_id, 'thumbs_up_count': max_thumbs_up}, ignore_index=True) # type: ignore\n"
     ]
    },
    {
     "name": "stdout",
     "output_type": "stream",
     "text": [
      "Generating 7-grams...\n",
      "Finding the review with the most thumbs up count containing each 7-gram...\n",
      "Finding the review with the most thumbs up count containing \"I am not able to see my\"...\n"
     ]
    },
    {
     "name": "stderr",
     "output_type": "stream",
     "text": [
      "C:\\Users\\Harsh Clean\\AppData\\Local\\Temp\\ipykernel_14728\\2295723168.py:44: FutureWarning: The frame.append method is deprecated and will be removed from pandas in a future version. Use pandas.concat instead.\n",
      "  results_df = results_df.append({'ngram': ngram, 'word_count': word_count, 'review_id': max_review_id, 'thumbs_up_count': max_thumbs_up}, ignore_index=True) # type: ignore\n"
     ]
    },
    {
     "name": "stdout",
     "output_type": "stream",
     "text": [
      "Finding the review with the most thumbs up count containing \"This is a very good app for\"...\n"
     ]
    },
    {
     "name": "stderr",
     "output_type": "stream",
     "text": [
      "C:\\Users\\Harsh Clean\\AppData\\Local\\Temp\\ipykernel_14728\\2295723168.py:44: FutureWarning: The frame.append method is deprecated and will be removed from pandas in a future version. Use pandas.concat instead.\n",
      "  results_df = results_df.append({'ngram': ngram, 'word_count': word_count, 'review_id': max_review_id, 'thumbs_up_count': max_thumbs_up}, ignore_index=True) # type: ignore\n"
     ]
    },
    {
     "name": "stdout",
     "output_type": "stream",
     "text": [
      "Finding the review with the most thumbs up count containing \"This is the best app for teenagers\"...\n"
     ]
    },
    {
     "name": "stderr",
     "output_type": "stream",
     "text": [
      "C:\\Users\\Harsh Clean\\AppData\\Local\\Temp\\ipykernel_14728\\2295723168.py:44: FutureWarning: The frame.append method is deprecated and will be removed from pandas in a future version. Use pandas.concat instead.\n",
      "  results_df = results_df.append({'ngram': ngram, 'word_count': word_count, 'review_id': max_review_id, 'thumbs_up_count': max_thumbs_up}, ignore_index=True) # type: ignore\n"
     ]
    },
    {
     "name": "stdout",
     "output_type": "stream",
     "text": [
      "Finding the review with the most thumbs up count containing \"This app is very useful for teenagers\"...\n"
     ]
    },
    {
     "name": "stderr",
     "output_type": "stream",
     "text": [
      "C:\\Users\\Harsh Clean\\AppData\\Local\\Temp\\ipykernel_14728\\2295723168.py:44: FutureWarning: The frame.append method is deprecated and will be removed from pandas in a future version. Use pandas.concat instead.\n",
      "  results_df = results_df.append({'ngram': ngram, 'word_count': word_count, 'review_id': max_review_id, 'thumbs_up_count': max_thumbs_up}, ignore_index=True) # type: ignore\n"
     ]
    },
    {
     "name": "stdout",
     "output_type": "stream",
     "text": [
      "Finding the review with the most thumbs up count containing \"I have been using this app for\"...\n"
     ]
    },
    {
     "name": "stderr",
     "output_type": "stream",
     "text": [
      "C:\\Users\\Harsh Clean\\AppData\\Local\\Temp\\ipykernel_14728\\2295723168.py:44: FutureWarning: The frame.append method is deprecated and will be removed from pandas in a future version. Use pandas.concat instead.\n",
      "  results_df = results_df.append({'ngram': ngram, 'word_count': word_count, 'review_id': max_review_id, 'thumbs_up_count': max_thumbs_up}, ignore_index=True) # type: ignore\n"
     ]
    },
    {
     "name": "stdout",
     "output_type": "stream",
     "text": [
      "Finding the review with the most thumbs up count containing \"this is the best app for teenagers\"...\n"
     ]
    },
    {
     "name": "stderr",
     "output_type": "stream",
     "text": [
      "C:\\Users\\Harsh Clean\\AppData\\Local\\Temp\\ipykernel_14728\\2295723168.py:44: FutureWarning: The frame.append method is deprecated and will be removed from pandas in a future version. Use pandas.concat instead.\n",
      "  results_df = results_df.append({'ngram': ngram, 'word_count': word_count, 'review_id': max_review_id, 'thumbs_up_count': max_thumbs_up}, ignore_index=True) # type: ignore\n"
     ]
    },
    {
     "name": "stdout",
     "output_type": "stream",
     "text": [
      "Finding the review with the most thumbs up count containing \"am not able to see my card\"...\n"
     ]
    },
    {
     "name": "stderr",
     "output_type": "stream",
     "text": [
      "C:\\Users\\Harsh Clean\\AppData\\Local\\Temp\\ipykernel_14728\\2295723168.py:44: FutureWarning: The frame.append method is deprecated and will be removed from pandas in a future version. Use pandas.concat instead.\n",
      "  results_df = results_df.append({'ngram': ngram, 'word_count': word_count, 'review_id': max_review_id, 'thumbs_up_count': max_thumbs_up}, ignore_index=True) # type: ignore\n"
     ]
    },
    {
     "name": "stdout",
     "output_type": "stream",
     "text": [
      "Finding the review with the most thumbs up count containing \"is one of the best app for\"...\n"
     ]
    },
    {
     "name": "stderr",
     "output_type": "stream",
     "text": [
      "C:\\Users\\Harsh Clean\\AppData\\Local\\Temp\\ipykernel_14728\\2295723168.py:44: FutureWarning: The frame.append method is deprecated and will be removed from pandas in a future version. Use pandas.concat instead.\n",
      "  results_df = results_df.append({'ngram': ngram, 'word_count': word_count, 'review_id': max_review_id, 'thumbs_up_count': max_thumbs_up}, ignore_index=True) # type: ignore\n"
     ]
    },
    {
     "name": "stdout",
     "output_type": "stream",
     "text": [
      "Finding the review with the most thumbs up count containing \"I am not able to send money\"...\n"
     ]
    },
    {
     "name": "stderr",
     "output_type": "stream",
     "text": [
      "C:\\Users\\Harsh Clean\\AppData\\Local\\Temp\\ipykernel_14728\\2295723168.py:44: FutureWarning: The frame.append method is deprecated and will be removed from pandas in a future version. Use pandas.concat instead.\n",
      "  results_df = results_df.append({'ngram': ngram, 'word_count': word_count, 'review_id': max_review_id, 'thumbs_up_count': max_thumbs_up}, ignore_index=True) # type: ignore\n"
     ]
    },
    {
     "name": "stdout",
     "output_type": "stream",
     "text": [
      "Finding the review with the most thumbs up count containing \"for teenagers so I would highly recommend\"...\n"
     ]
    },
    {
     "name": "stderr",
     "output_type": "stream",
     "text": [
      "C:\\Users\\Harsh Clean\\AppData\\Local\\Temp\\ipykernel_14728\\2295723168.py:44: FutureWarning: The frame.append method is deprecated and will be removed from pandas in a future version. Use pandas.concat instead.\n",
      "  results_df = results_df.append({'ngram': ngram, 'word_count': word_count, 'review_id': max_review_id, 'thumbs_up_count': max_thumbs_up}, ignore_index=True) # type: ignore\n"
     ]
    },
    {
     "name": "stdout",
     "output_type": "stream",
     "text": [
      "Generating 8-grams...\n",
      "Finding the review with the most thumbs up count containing each 8-gram...\n",
      "Finding the review with the most thumbs up count containing \"are currently building the fam experience for your\"...\n"
     ]
    },
    {
     "name": "stderr",
     "output_type": "stream",
     "text": [
      "C:\\Users\\Harsh Clean\\AppData\\Local\\Temp\\ipykernel_14728\\2295723168.py:44: FutureWarning: The frame.append method is deprecated and will be removed from pandas in a future version. Use pandas.concat instead.\n",
      "  results_df = results_df.append({'ngram': ngram, 'word_count': word_count, 'review_id': max_review_id, 'thumbs_up_count': max_thumbs_up}, ignore_index=True) # type: ignore\n"
     ]
    },
    {
     "name": "stdout",
     "output_type": "stream",
     "text": [
      "Finding the review with the most thumbs up count containing \"I am not able to see my card\"...\n"
     ]
    },
    {
     "name": "stderr",
     "output_type": "stream",
     "text": [
      "C:\\Users\\Harsh Clean\\AppData\\Local\\Temp\\ipykernel_14728\\2295723168.py:44: FutureWarning: The frame.append method is deprecated and will be removed from pandas in a future version. Use pandas.concat instead.\n",
      "  results_df = results_df.append({'ngram': ngram, 'word_count': word_count, 'review_id': max_review_id, 'thumbs_up_count': max_thumbs_up}, ignore_index=True) # type: ignore\n"
     ]
    },
    {
     "name": "stdout",
     "output_type": "stream",
     "text": [
      "Finding the review with the most thumbs up count containing \"for teenagers so I would highly recommend this\"...\n"
     ]
    },
    {
     "name": "stderr",
     "output_type": "stream",
     "text": [
      "C:\\Users\\Harsh Clean\\AppData\\Local\\Temp\\ipykernel_14728\\2295723168.py:44: FutureWarning: The frame.append method is deprecated and will be removed from pandas in a future version. Use pandas.concat instead.\n",
      "  results_df = results_df.append({'ngram': ngram, 'word_count': word_count, 'review_id': max_review_id, 'thumbs_up_count': max_thumbs_up}, ignore_index=True) # type: ignore\n"
     ]
    },
    {
     "name": "stdout",
     "output_type": "stream",
     "text": [
      "Finding the review with the most thumbs up count containing \"we are currently building the fam experience for\"...\n"
     ]
    },
    {
     "name": "stderr",
     "output_type": "stream",
     "text": [
      "C:\\Users\\Harsh Clean\\AppData\\Local\\Temp\\ipykernel_14728\\2295723168.py:44: FutureWarning: The frame.append method is deprecated and will be removed from pandas in a future version. Use pandas.concat instead.\n",
      "  results_df = results_df.append({'ngram': ngram, 'word_count': word_count, 'review_id': max_review_id, 'thumbs_up_count': max_thumbs_up}, ignore_index=True) # type: ignore\n"
     ]
    },
    {
     "name": "stdout",
     "output_type": "stream",
     "text": [
      "Finding the review with the most thumbs up count containing \"debit card app which is specially made for\"...\n"
     ]
    },
    {
     "name": "stderr",
     "output_type": "stream",
     "text": [
      "C:\\Users\\Harsh Clean\\AppData\\Local\\Temp\\ipykernel_14728\\2295723168.py:44: FutureWarning: The frame.append method is deprecated and will be removed from pandas in a future version. Use pandas.concat instead.\n",
      "  results_df = results_df.append({'ngram': ngram, 'word_count': word_count, 'review_id': max_review_id, 'thumbs_up_count': max_thumbs_up}, ignore_index=True) # type: ignore\n"
     ]
    },
    {
     "name": "stdout",
     "output_type": "stream",
     "text": [
      "Finding the review with the most thumbs up count containing \"app in my phone which is specially made\"...\n"
     ]
    },
    {
     "name": "stderr",
     "output_type": "stream",
     "text": [
      "C:\\Users\\Harsh Clean\\AppData\\Local\\Temp\\ipykernel_14728\\2295723168.py:44: FutureWarning: The frame.append method is deprecated and will be removed from pandas in a future version. Use pandas.concat instead.\n",
      "  results_df = results_df.append({'ngram': ngram, 'word_count': word_count, 'review_id': max_review_id, 'thumbs_up_count': max_thumbs_up}, ignore_index=True) # type: ignore\n"
     ]
    },
    {
     "name": "stdout",
     "output_type": "stream",
     "text": [
      "Finding the review with the most thumbs up count containing \"in my phone which is specially made for\"...\n"
     ]
    },
    {
     "name": "stderr",
     "output_type": "stream",
     "text": [
      "C:\\Users\\Harsh Clean\\AppData\\Local\\Temp\\ipykernel_14728\\2295723168.py:44: FutureWarning: The frame.append method is deprecated and will be removed from pandas in a future version. Use pandas.concat instead.\n",
      "  results_df = results_df.append({'ngram': ngram, 'word_count': word_count, 'review_id': max_review_id, 'thumbs_up_count': max_thumbs_up}, ignore_index=True) # type: ignore\n"
     ]
    },
    {
     "name": "stdout",
     "output_type": "stream",
     "text": [
      "Finding the review with the most thumbs up count containing \"so I would highly recommend this app to\"...\n"
     ]
    },
    {
     "name": "stderr",
     "output_type": "stream",
     "text": [
      "C:\\Users\\Harsh Clean\\AppData\\Local\\Temp\\ipykernel_14728\\2295723168.py:44: FutureWarning: The frame.append method is deprecated and will be removed from pandas in a future version. Use pandas.concat instead.\n",
      "  results_df = results_df.append({'ngram': ngram, 'word_count': word_count, 'review_id': max_review_id, 'thumbs_up_count': max_thumbs_up}, ignore_index=True) # type: ignore\n"
     ]
    },
    {
     "name": "stdout",
     "output_type": "stream",
     "text": [
      "Finding the review with the most thumbs up count containing \"my phone which is specially made for teenagers\"...\n"
     ]
    },
    {
     "name": "stderr",
     "output_type": "stream",
     "text": [
      "C:\\Users\\Harsh Clean\\AppData\\Local\\Temp\\ipykernel_14728\\2295723168.py:44: FutureWarning: The frame.append method is deprecated and will be removed from pandas in a future version. Use pandas.concat instead.\n",
      "  results_df = results_df.append({'ngram': ngram, 'word_count': word_count, 'review_id': max_review_id, 'thumbs_up_count': max_thumbs_up}, ignore_index=True) # type: ignore\n"
     ]
    },
    {
     "name": "stdout",
     "output_type": "stream",
     "text": [
      "Finding the review with the most thumbs up count containing \"app I have ever seen in my life\"...\n"
     ]
    },
    {
     "name": "stderr",
     "output_type": "stream",
     "text": [
      "C:\\Users\\Harsh Clean\\AppData\\Local\\Temp\\ipykernel_14728\\2295723168.py:44: FutureWarning: The frame.append method is deprecated and will be removed from pandas in a future version. Use pandas.concat instead.\n",
      "  results_df = results_df.append({'ngram': ngram, 'word_count': word_count, 'review_id': max_review_id, 'thumbs_up_count': max_thumbs_up}, ignore_index=True) # type: ignore\n"
     ]
    },
    {
     "name": "stdout",
     "output_type": "stream",
     "text": [
      "Generating 9-grams...\n",
      "Finding the review with the most thumbs up count containing each 9-gram...\n",
      "Finding the review with the most thumbs up count containing \"we are currently building the fam experience for your\"...\n"
     ]
    },
    {
     "name": "stderr",
     "output_type": "stream",
     "text": [
      "C:\\Users\\Harsh Clean\\AppData\\Local\\Temp\\ipykernel_14728\\2295723168.py:44: FutureWarning: The frame.append method is deprecated and will be removed from pandas in a future version. Use pandas.concat instead.\n",
      "  results_df = results_df.append({'ngram': ngram, 'word_count': word_count, 'review_id': max_review_id, 'thumbs_up_count': max_thumbs_up}, ignore_index=True) # type: ignore\n"
     ]
    },
    {
     "name": "stdout",
     "output_type": "stream",
     "text": [
      "Finding the review with the most thumbs up count containing \"app in my phone which is specially made for\"...\n"
     ]
    },
    {
     "name": "stderr",
     "output_type": "stream",
     "text": [
      "C:\\Users\\Harsh Clean\\AppData\\Local\\Temp\\ipykernel_14728\\2295723168.py:44: FutureWarning: The frame.append method is deprecated and will be removed from pandas in a future version. Use pandas.concat instead.\n",
      "  results_df = results_df.append({'ngram': ngram, 'word_count': word_count, 'review_id': max_review_id, 'thumbs_up_count': max_thumbs_up}, ignore_index=True) # type: ignore\n"
     ]
    },
    {
     "name": "stdout",
     "output_type": "stream",
     "text": [
      "Finding the review with the most thumbs up count containing \"in my phone which is specially made for teenagers\"...\n"
     ]
    },
    {
     "name": "stderr",
     "output_type": "stream",
     "text": [
      "C:\\Users\\Harsh Clean\\AppData\\Local\\Temp\\ipykernel_14728\\2295723168.py:44: FutureWarning: The frame.append method is deprecated and will be removed from pandas in a future version. Use pandas.concat instead.\n",
      "  results_df = results_df.append({'ngram': ngram, 'word_count': word_count, 'review_id': max_review_id, 'thumbs_up_count': max_thumbs_up}, ignore_index=True) # type: ignore\n"
     ]
    },
    {
     "name": "stdout",
     "output_type": "stream",
     "text": [
      "Finding the review with the most thumbs up count containing \"is the best debit card for teenagers, lovely tool\"...\n"
     ]
    },
    {
     "name": "stderr",
     "output_type": "stream",
     "text": [
      "C:\\Users\\Harsh Clean\\AppData\\Local\\Temp\\ipykernel_14728\\2295723168.py:44: FutureWarning: The frame.append method is deprecated and will be removed from pandas in a future version. Use pandas.concat instead.\n",
      "  results_df = results_df.append({'ngram': ngram, 'word_count': word_count, 'review_id': max_review_id, 'thumbs_up_count': max_thumbs_up}, ignore_index=True) # type: ignore\n"
     ]
    },
    {
     "name": "stdout",
     "output_type": "stream",
     "text": [
      "Finding the review with the most thumbs up count containing \"are currently building the fam experience for your location\"...\n"
     ]
    },
    {
     "name": "stderr",
     "output_type": "stream",
     "text": [
      "C:\\Users\\Harsh Clean\\AppData\\Local\\Temp\\ipykernel_14728\\2295723168.py:44: FutureWarning: The frame.append method is deprecated and will be removed from pandas in a future version. Use pandas.concat instead.\n",
      "  results_df = results_df.append({'ngram': ngram, 'word_count': word_count, 'review_id': max_review_id, 'thumbs_up_count': max_thumbs_up}, ignore_index=True) # type: ignore\n"
     ]
    },
    {
     "name": "stdout",
     "output_type": "stream",
     "text": [
      "Finding the review with the most thumbs up count containing \"apps available in play store but this FamPay app\"...\n"
     ]
    },
    {
     "name": "stderr",
     "output_type": "stream",
     "text": [
      "C:\\Users\\Harsh Clean\\AppData\\Local\\Temp\\ipykernel_14728\\2295723168.py:44: FutureWarning: The frame.append method is deprecated and will be removed from pandas in a future version. Use pandas.concat instead.\n",
      "  results_df = results_df.append({'ngram': ngram, 'word_count': word_count, 'review_id': max_review_id, 'thumbs_up_count': max_thumbs_up}, ignore_index=True) # type: ignore\n"
     ]
    },
    {
     "name": "stdout",
     "output_type": "stream",
     "text": [
      "Finding the review with the most thumbs up count containing \"available in play store but this FamPay app is\"...\n"
     ]
    },
    {
     "name": "stderr",
     "output_type": "stream",
     "text": [
      "C:\\Users\\Harsh Clean\\AppData\\Local\\Temp\\ipykernel_14728\\2295723168.py:44: FutureWarning: The frame.append method is deprecated and will be removed from pandas in a future version. Use pandas.concat instead.\n",
      "  results_df = results_df.append({'ngram': ngram, 'word_count': word_count, 'review_id': max_review_id, 'thumbs_up_count': max_thumbs_up}, ignore_index=True) # type: ignore\n"
     ]
    },
    {
     "name": "stdout",
     "output_type": "stream",
     "text": [
      "Finding the review with the most thumbs up count containing \"in play store but this FamPay app is really\"...\n"
     ]
    },
    {
     "name": "stderr",
     "output_type": "stream",
     "text": [
      "C:\\Users\\Harsh Clean\\AppData\\Local\\Temp\\ipykernel_14728\\2295723168.py:44: FutureWarning: The frame.append method is deprecated and will be removed from pandas in a future version. Use pandas.concat instead.\n",
      "  results_df = results_df.append({'ngram': ngram, 'word_count': word_count, 'review_id': max_review_id, 'thumbs_up_count': max_thumbs_up}, ignore_index=True) # type: ignore\n"
     ]
    },
    {
     "name": "stdout",
     "output_type": "stream",
     "text": [
      "Finding the review with the most thumbs up count containing \"the best debit card for teenagers who do well.\"...\n"
     ]
    },
    {
     "name": "stderr",
     "output_type": "stream",
     "text": [
      "C:\\Users\\Harsh Clean\\AppData\\Local\\Temp\\ipykernel_14728\\2295723168.py:44: FutureWarning: The frame.append method is deprecated and will be removed from pandas in a future version. Use pandas.concat instead.\n",
      "  results_df = results_df.append({'ngram': ngram, 'word_count': word_count, 'review_id': max_review_id, 'thumbs_up_count': max_thumbs_up}, ignore_index=True) # type: ignore\n"
     ]
    },
    {
     "name": "stdout",
     "output_type": "stream",
     "text": [
      "Finding the review with the most thumbs up count containing \"so I would highly recommend this card to everyone.\"...\n"
     ]
    },
    {
     "name": "stderr",
     "output_type": "stream",
     "text": [
      "C:\\Users\\Harsh Clean\\AppData\\Local\\Temp\\ipykernel_14728\\2295723168.py:44: FutureWarning: The frame.append method is deprecated and will be removed from pandas in a future version. Use pandas.concat instead.\n",
      "  results_df = results_df.append({'ngram': ngram, 'word_count': word_count, 'review_id': max_review_id, 'thumbs_up_count': max_thumbs_up}, ignore_index=True) # type: ignore\n"
     ]
    },
    {
     "name": "stdout",
     "output_type": "stream",
     "text": [
      "Generating 10-grams...\n",
      "Finding the review with the most thumbs up count containing each 10-gram...\n",
      "Finding the review with the most thumbs up count containing \"app in my phone which is specially made for teenagers\"...\n"
     ]
    },
    {
     "name": "stderr",
     "output_type": "stream",
     "text": [
      "C:\\Users\\Harsh Clean\\AppData\\Local\\Temp\\ipykernel_14728\\2295723168.py:44: FutureWarning: The frame.append method is deprecated and will be removed from pandas in a future version. Use pandas.concat instead.\n",
      "  results_df = results_df.append({'ngram': ngram, 'word_count': word_count, 'review_id': max_review_id, 'thumbs_up_count': max_thumbs_up}, ignore_index=True) # type: ignore\n"
     ]
    },
    {
     "name": "stdout",
     "output_type": "stream",
     "text": [
      "Finding the review with the most thumbs up count containing \"we are currently building the fam experience for your location\"...\n"
     ]
    },
    {
     "name": "stderr",
     "output_type": "stream",
     "text": [
      "C:\\Users\\Harsh Clean\\AppData\\Local\\Temp\\ipykernel_14728\\2295723168.py:44: FutureWarning: The frame.append method is deprecated and will be removed from pandas in a future version. Use pandas.concat instead.\n",
      "  results_df = results_df.append({'ngram': ngram, 'word_count': word_count, 'review_id': max_review_id, 'thumbs_up_count': max_thumbs_up}, ignore_index=True) # type: ignore\n"
     ]
    },
    {
     "name": "stdout",
     "output_type": "stream",
     "text": [
      "Finding the review with the most thumbs up count containing \"apps available in play store but this FamPay app is\"...\n"
     ]
    },
    {
     "name": "stderr",
     "output_type": "stream",
     "text": [
      "C:\\Users\\Harsh Clean\\AppData\\Local\\Temp\\ipykernel_14728\\2295723168.py:44: FutureWarning: The frame.append method is deprecated and will be removed from pandas in a future version. Use pandas.concat instead.\n",
      "  results_df = results_df.append({'ngram': ngram, 'word_count': word_count, 'review_id': max_review_id, 'thumbs_up_count': max_thumbs_up}, ignore_index=True) # type: ignore\n"
     ]
    },
    {
     "name": "stdout",
     "output_type": "stream",
     "text": [
      "Finding the review with the most thumbs up count containing \"available in play store but this FamPay app is really\"...\n"
     ]
    },
    {
     "name": "stderr",
     "output_type": "stream",
     "text": [
      "C:\\Users\\Harsh Clean\\AppData\\Local\\Temp\\ipykernel_14728\\2295723168.py:44: FutureWarning: The frame.append method is deprecated and will be removed from pandas in a future version. Use pandas.concat instead.\n",
      "  results_df = results_df.append({'ngram': ngram, 'word_count': word_count, 'review_id': max_review_id, 'thumbs_up_count': max_thumbs_up}, ignore_index=True) # type: ignore\n"
     ]
    },
    {
     "name": "stdout",
     "output_type": "stream",
     "text": [
      "Finding the review with the most thumbs up count containing \"app in market which is the best debit card for\"...\n"
     ]
    },
    {
     "name": "stderr",
     "output_type": "stream",
     "text": [
      "C:\\Users\\Harsh Clean\\AppData\\Local\\Temp\\ipykernel_14728\\2295723168.py:44: FutureWarning: The frame.append method is deprecated and will be removed from pandas in a future version. Use pandas.concat instead.\n",
      "  results_df = results_df.append({'ngram': ngram, 'word_count': word_count, 'review_id': max_review_id, 'thumbs_up_count': max_thumbs_up}, ignore_index=True) # type: ignore\n"
     ]
    },
    {
     "name": "stdout",
     "output_type": "stream",
     "text": [
      "Finding the review with the most thumbs up count containing \"in market which is the best debit card for teenagers,\"...\n"
     ]
    },
    {
     "name": "stderr",
     "output_type": "stream",
     "text": [
      "C:\\Users\\Harsh Clean\\AppData\\Local\\Temp\\ipykernel_14728\\2295723168.py:44: FutureWarning: The frame.append method is deprecated and will be removed from pandas in a future version. Use pandas.concat instead.\n",
      "  results_df = results_df.append({'ngram': ngram, 'word_count': word_count, 'review_id': max_review_id, 'thumbs_up_count': max_thumbs_up}, ignore_index=True) # type: ignore\n"
     ]
    },
    {
     "name": "stdout",
     "output_type": "stream",
     "text": [
      "Finding the review with the most thumbs up count containing \"market which is the best debit card for teenagers, lovely\"...\n"
     ]
    },
    {
     "name": "stderr",
     "output_type": "stream",
     "text": [
      "C:\\Users\\Harsh Clean\\AppData\\Local\\Temp\\ipykernel_14728\\2295723168.py:44: FutureWarning: The frame.append method is deprecated and will be removed from pandas in a future version. Use pandas.concat instead.\n",
      "  results_df = results_df.append({'ngram': ngram, 'word_count': word_count, 'review_id': max_review_id, 'thumbs_up_count': max_thumbs_up}, ignore_index=True) # type: ignore\n"
     ]
    },
    {
     "name": "stdout",
     "output_type": "stream",
     "text": [
      "Finding the review with the most thumbs up count containing \"which is the best debit card for teenagers, lovely tool\"...\n"
     ]
    },
    {
     "name": "stderr",
     "output_type": "stream",
     "text": [
      "C:\\Users\\Harsh Clean\\AppData\\Local\\Temp\\ipykernel_14728\\2295723168.py:44: FutureWarning: The frame.append method is deprecated and will be removed from pandas in a future version. Use pandas.concat instead.\n",
      "  results_df = results_df.append({'ngram': ngram, 'word_count': word_count, 'review_id': max_review_id, 'thumbs_up_count': max_thumbs_up}, ignore_index=True) # type: ignore\n"
     ]
    },
    {
     "name": "stdout",
     "output_type": "stream",
     "text": [
      "Finding the review with the most thumbs up count containing \"send money to an UPI address and it gives error\"...\n"
     ]
    },
    {
     "name": "stderr",
     "output_type": "stream",
     "text": [
      "C:\\Users\\Harsh Clean\\AppData\\Local\\Temp\\ipykernel_14728\\2295723168.py:44: FutureWarning: The frame.append method is deprecated and will be removed from pandas in a future version. Use pandas.concat instead.\n",
      "  results_df = results_df.append({'ngram': ngram, 'word_count': word_count, 'review_id': max_review_id, 'thumbs_up_count': max_thumbs_up}, ignore_index=True) # type: ignore\n"
     ]
    },
    {
     "name": "stdout",
     "output_type": "stream",
     "text": [
      "Finding the review with the most thumbs up count containing \"money to an UPI address and it gives error saying\"...\n"
     ]
    },
    {
     "name": "stderr",
     "output_type": "stream",
     "text": [
      "C:\\Users\\Harsh Clean\\AppData\\Local\\Temp\\ipykernel_14728\\2295723168.py:44: FutureWarning: The frame.append method is deprecated and will be removed from pandas in a future version. Use pandas.concat instead.\n",
      "  results_df = results_df.append({'ngram': ngram, 'word_count': word_count, 'review_id': max_review_id, 'thumbs_up_count': max_thumbs_up}, ignore_index=True) # type: ignore\n"
     ]
    },
    {
     "name": "stdout",
     "output_type": "stream",
     "text": [
      "Generating 1-grams...\n",
      "Finding the review with the most thumbs up count containing each 1-gram...\n",
      "Finding the review with the most thumbs up count containing \"app\"...\n"
     ]
    },
    {
     "name": "stderr",
     "output_type": "stream",
     "text": [
      "C:\\Users\\Harsh Clean\\AppData\\Local\\Temp\\ipykernel_14728\\2295723168.py:44: FutureWarning: The frame.append method is deprecated and will be removed from pandas in a future version. Use pandas.concat instead.\n",
      "  results_df = results_df.append({'ngram': ngram, 'word_count': word_count, 'review_id': max_review_id, 'thumbs_up_count': max_thumbs_up}, ignore_index=True) # type: ignore\n"
     ]
    },
    {
     "name": "stdout",
     "output_type": "stream",
     "text": [
      "Finding the review with the most thumbs up count containing \"is\"...\n"
     ]
    },
    {
     "name": "stderr",
     "output_type": "stream",
     "text": [
      "C:\\Users\\Harsh Clean\\AppData\\Local\\Temp\\ipykernel_14728\\2295723168.py:44: FutureWarning: The frame.append method is deprecated and will be removed from pandas in a future version. Use pandas.concat instead.\n",
      "  results_df = results_df.append({'ngram': ngram, 'word_count': word_count, 'review_id': max_review_id, 'thumbs_up_count': max_thumbs_up}, ignore_index=True) # type: ignore\n"
     ]
    },
    {
     "name": "stdout",
     "output_type": "stream",
     "text": [
      "Finding the review with the most thumbs up count containing \"I\"...\n"
     ]
    },
    {
     "name": "stderr",
     "output_type": "stream",
     "text": [
      "C:\\Users\\Harsh Clean\\AppData\\Local\\Temp\\ipykernel_14728\\2295723168.py:44: FutureWarning: The frame.append method is deprecated and will be removed from pandas in a future version. Use pandas.concat instead.\n",
      "  results_df = results_df.append({'ngram': ngram, 'word_count': word_count, 'review_id': max_review_id, 'thumbs_up_count': max_thumbs_up}, ignore_index=True) # type: ignore\n"
     ]
    },
    {
     "name": "stdout",
     "output_type": "stream",
     "text": [
      "Finding the review with the most thumbs up count containing \"to\"...\n"
     ]
    },
    {
     "name": "stderr",
     "output_type": "stream",
     "text": [
      "C:\\Users\\Harsh Clean\\AppData\\Local\\Temp\\ipykernel_14728\\2295723168.py:44: FutureWarning: The frame.append method is deprecated and will be removed from pandas in a future version. Use pandas.concat instead.\n",
      "  results_df = results_df.append({'ngram': ngram, 'word_count': word_count, 'review_id': max_review_id, 'thumbs_up_count': max_thumbs_up}, ignore_index=True) # type: ignore\n"
     ]
    },
    {
     "name": "stdout",
     "output_type": "stream",
     "text": [
      "Finding the review with the most thumbs up count containing \"and\"...\n"
     ]
    },
    {
     "name": "stderr",
     "output_type": "stream",
     "text": [
      "C:\\Users\\Harsh Clean\\AppData\\Local\\Temp\\ipykernel_14728\\2295723168.py:44: FutureWarning: The frame.append method is deprecated and will be removed from pandas in a future version. Use pandas.concat instead.\n",
      "  results_df = results_df.append({'ngram': ngram, 'word_count': word_count, 'review_id': max_review_id, 'thumbs_up_count': max_thumbs_up}, ignore_index=True) # type: ignore\n"
     ]
    },
    {
     "name": "stdout",
     "output_type": "stream",
     "text": [
      "Finding the review with the most thumbs up count containing \"for\"...\n"
     ]
    },
    {
     "name": "stderr",
     "output_type": "stream",
     "text": [
      "C:\\Users\\Harsh Clean\\AppData\\Local\\Temp\\ipykernel_14728\\2295723168.py:44: FutureWarning: The frame.append method is deprecated and will be removed from pandas in a future version. Use pandas.concat instead.\n",
      "  results_df = results_df.append({'ngram': ngram, 'word_count': word_count, 'review_id': max_review_id, 'thumbs_up_count': max_thumbs_up}, ignore_index=True) # type: ignore\n"
     ]
    },
    {
     "name": "stdout",
     "output_type": "stream",
     "text": [
      "Finding the review with the most thumbs up count containing \"the\"...\n"
     ]
    },
    {
     "name": "stderr",
     "output_type": "stream",
     "text": [
      "C:\\Users\\Harsh Clean\\AppData\\Local\\Temp\\ipykernel_14728\\2295723168.py:44: FutureWarning: The frame.append method is deprecated and will be removed from pandas in a future version. Use pandas.concat instead.\n",
      "  results_df = results_df.append({'ngram': ngram, 'word_count': word_count, 'review_id': max_review_id, 'thumbs_up_count': max_thumbs_up}, ignore_index=True) # type: ignore\n"
     ]
    },
    {
     "name": "stdout",
     "output_type": "stream",
     "text": [
      "Finding the review with the most thumbs up count containing \"this\"...\n"
     ]
    },
    {
     "name": "stderr",
     "output_type": "stream",
     "text": [
      "C:\\Users\\Harsh Clean\\AppData\\Local\\Temp\\ipykernel_14728\\2295723168.py:44: FutureWarning: The frame.append method is deprecated and will be removed from pandas in a future version. Use pandas.concat instead.\n",
      "  results_df = results_df.append({'ngram': ngram, 'word_count': word_count, 'review_id': max_review_id, 'thumbs_up_count': max_thumbs_up}, ignore_index=True) # type: ignore\n"
     ]
    },
    {
     "name": "stdout",
     "output_type": "stream",
     "text": [
      "Finding the review with the most thumbs up count containing \"my\"...\n"
     ]
    },
    {
     "name": "stderr",
     "output_type": "stream",
     "text": [
      "C:\\Users\\Harsh Clean\\AppData\\Local\\Temp\\ipykernel_14728\\2295723168.py:44: FutureWarning: The frame.append method is deprecated and will be removed from pandas in a future version. Use pandas.concat instead.\n",
      "  results_df = results_df.append({'ngram': ngram, 'word_count': word_count, 'review_id': max_review_id, 'thumbs_up_count': max_thumbs_up}, ignore_index=True) # type: ignore\n"
     ]
    },
    {
     "name": "stdout",
     "output_type": "stream",
     "text": [
      "Finding the review with the most thumbs up count containing \"not\"...\n"
     ]
    },
    {
     "name": "stderr",
     "output_type": "stream",
     "text": [
      "C:\\Users\\Harsh Clean\\AppData\\Local\\Temp\\ipykernel_14728\\2295723168.py:44: FutureWarning: The frame.append method is deprecated and will be removed from pandas in a future version. Use pandas.concat instead.\n",
      "  results_df = results_df.append({'ngram': ngram, 'word_count': word_count, 'review_id': max_review_id, 'thumbs_up_count': max_thumbs_up}, ignore_index=True) # type: ignore\n"
     ]
    },
    {
     "name": "stdout",
     "output_type": "stream",
     "text": [
      "Generating 2-grams...\n",
      "Finding the review with the most thumbs up count containing each 2-gram...\n",
      "Finding the review with the most thumbs up count containing \"this app\"...\n"
     ]
    },
    {
     "name": "stderr",
     "output_type": "stream",
     "text": [
      "C:\\Users\\Harsh Clean\\AppData\\Local\\Temp\\ipykernel_14728\\2295723168.py:44: FutureWarning: The frame.append method is deprecated and will be removed from pandas in a future version. Use pandas.concat instead.\n",
      "  results_df = results_df.append({'ngram': ngram, 'word_count': word_count, 'review_id': max_review_id, 'thumbs_up_count': max_thumbs_up}, ignore_index=True) # type: ignore\n"
     ]
    },
    {
     "name": "stdout",
     "output_type": "stream",
     "text": [
      "Finding the review with the most thumbs up count containing \"app for\"...\n"
     ]
    },
    {
     "name": "stderr",
     "output_type": "stream",
     "text": [
      "C:\\Users\\Harsh Clean\\AppData\\Local\\Temp\\ipykernel_14728\\2295723168.py:44: FutureWarning: The frame.append method is deprecated and will be removed from pandas in a future version. Use pandas.concat instead.\n",
      "  results_df = results_df.append({'ngram': ngram, 'word_count': word_count, 'review_id': max_review_id, 'thumbs_up_count': max_thumbs_up}, ignore_index=True) # type: ignore\n"
     ]
    },
    {
     "name": "stdout",
     "output_type": "stream",
     "text": [
      "Finding the review with the most thumbs up count containing \"is not\"...\n"
     ]
    },
    {
     "name": "stderr",
     "output_type": "stream",
     "text": [
      "C:\\Users\\Harsh Clean\\AppData\\Local\\Temp\\ipykernel_14728\\2295723168.py:44: FutureWarning: The frame.append method is deprecated and will be removed from pandas in a future version. Use pandas.concat instead.\n",
      "  results_df = results_df.append({'ngram': ngram, 'word_count': word_count, 'review_id': max_review_id, 'thumbs_up_count': max_thumbs_up}, ignore_index=True) # type: ignore\n"
     ]
    },
    {
     "name": "stdout",
     "output_type": "stream",
     "text": [
      "Finding the review with the most thumbs up count containing \"app is\"...\n"
     ]
    },
    {
     "name": "stderr",
     "output_type": "stream",
     "text": [
      "C:\\Users\\Harsh Clean\\AppData\\Local\\Temp\\ipykernel_14728\\2295723168.py:44: FutureWarning: The frame.append method is deprecated and will be removed from pandas in a future version. Use pandas.concat instead.\n",
      "  results_df = results_df.append({'ngram': ngram, 'word_count': word_count, 'review_id': max_review_id, 'thumbs_up_count': max_thumbs_up}, ignore_index=True) # type: ignore\n"
     ]
    },
    {
     "name": "stdout",
     "output_type": "stream",
     "text": [
      "Finding the review with the most thumbs up count containing \"nice app\"...\n"
     ]
    },
    {
     "name": "stderr",
     "output_type": "stream",
     "text": [
      "C:\\Users\\Harsh Clean\\AppData\\Local\\Temp\\ipykernel_14728\\2295723168.py:44: FutureWarning: The frame.append method is deprecated and will be removed from pandas in a future version. Use pandas.concat instead.\n",
      "  results_df = results_df.append({'ngram': ngram, 'word_count': word_count, 'review_id': max_review_id, 'thumbs_up_count': max_thumbs_up}, ignore_index=True) # type: ignore\n"
     ]
    },
    {
     "name": "stdout",
     "output_type": "stream",
     "text": [
      "Finding the review with the most thumbs up count containing \"good app\"...\n"
     ]
    },
    {
     "name": "stderr",
     "output_type": "stream",
     "text": [
      "C:\\Users\\Harsh Clean\\AppData\\Local\\Temp\\ipykernel_14728\\2295723168.py:44: FutureWarning: The frame.append method is deprecated and will be removed from pandas in a future version. Use pandas.concat instead.\n",
      "  results_df = results_df.append({'ngram': ngram, 'word_count': word_count, 'review_id': max_review_id, 'thumbs_up_count': max_thumbs_up}, ignore_index=True) # type: ignore\n"
     ]
    },
    {
     "name": "stdout",
     "output_type": "stream",
     "text": [
      "Finding the review with the most thumbs up count containing \"for teenagers\"...\n"
     ]
    },
    {
     "name": "stderr",
     "output_type": "stream",
     "text": [
      "C:\\Users\\Harsh Clean\\AppData\\Local\\Temp\\ipykernel_14728\\2295723168.py:44: FutureWarning: The frame.append method is deprecated and will be removed from pandas in a future version. Use pandas.concat instead.\n",
      "  results_df = results_df.append({'ngram': ngram, 'word_count': word_count, 'review_id': max_review_id, 'thumbs_up_count': max_thumbs_up}, ignore_index=True) # type: ignore\n"
     ]
    },
    {
     "name": "stdout",
     "output_type": "stream",
     "text": [
      "Finding the review with the most thumbs up count containing \"I am\"...\n"
     ]
    },
    {
     "name": "stderr",
     "output_type": "stream",
     "text": [
      "C:\\Users\\Harsh Clean\\AppData\\Local\\Temp\\ipykernel_14728\\2295723168.py:44: FutureWarning: The frame.append method is deprecated and will be removed from pandas in a future version. Use pandas.concat instead.\n",
      "  results_df = results_df.append({'ngram': ngram, 'word_count': word_count, 'review_id': max_review_id, 'thumbs_up_count': max_thumbs_up}, ignore_index=True) # type: ignore\n"
     ]
    },
    {
     "name": "stdout",
     "output_type": "stream",
     "text": [
      "Finding the review with the most thumbs up count containing \"is very\"...\n"
     ]
    },
    {
     "name": "stderr",
     "output_type": "stream",
     "text": [
      "C:\\Users\\Harsh Clean\\AppData\\Local\\Temp\\ipykernel_14728\\2295723168.py:44: FutureWarning: The frame.append method is deprecated and will be removed from pandas in a future version. Use pandas.concat instead.\n",
      "  results_df = results_df.append({'ngram': ngram, 'word_count': word_count, 'review_id': max_review_id, 'thumbs_up_count': max_thumbs_up}, ignore_index=True) # type: ignore\n"
     ]
    },
    {
     "name": "stdout",
     "output_type": "stream",
     "text": [
      "Finding the review with the most thumbs up count containing \"very good\"...\n"
     ]
    },
    {
     "name": "stderr",
     "output_type": "stream",
     "text": [
      "C:\\Users\\Harsh Clean\\AppData\\Local\\Temp\\ipykernel_14728\\2295723168.py:44: FutureWarning: The frame.append method is deprecated and will be removed from pandas in a future version. Use pandas.concat instead.\n",
      "  results_df = results_df.append({'ngram': ngram, 'word_count': word_count, 'review_id': max_review_id, 'thumbs_up_count': max_thumbs_up}, ignore_index=True) # type: ignore\n"
     ]
    },
    {
     "name": "stdout",
     "output_type": "stream",
     "text": [
      "Generating 3-grams...\n",
      "Finding the review with the most thumbs up count containing each 3-gram...\n",
      "Finding the review with the most thumbs up count containing \"This app is\"...\n"
     ]
    },
    {
     "name": "stderr",
     "output_type": "stream",
     "text": [
      "C:\\Users\\Harsh Clean\\AppData\\Local\\Temp\\ipykernel_14728\\2295723168.py:44: FutureWarning: The frame.append method is deprecated and will be removed from pandas in a future version. Use pandas.concat instead.\n",
      "  results_df = results_df.append({'ngram': ngram, 'word_count': word_count, 'review_id': max_review_id, 'thumbs_up_count': max_thumbs_up}, ignore_index=True) # type: ignore\n"
     ]
    },
    {
     "name": "stdout",
     "output_type": "stream",
     "text": [
      "Finding the review with the most thumbs up count containing \"app for teenagers\"...\n"
     ]
    },
    {
     "name": "stderr",
     "output_type": "stream",
     "text": [
      "C:\\Users\\Harsh Clean\\AppData\\Local\\Temp\\ipykernel_14728\\2295723168.py:44: FutureWarning: The frame.append method is deprecated and will be removed from pandas in a future version. Use pandas.concat instead.\n",
      "  results_df = results_df.append({'ngram': ngram, 'word_count': word_count, 'review_id': max_review_id, 'thumbs_up_count': max_thumbs_up}, ignore_index=True) # type: ignore\n"
     ]
    },
    {
     "name": "stdout",
     "output_type": "stream",
     "text": [
      "Finding the review with the most thumbs up count containing \"is not working\"...\n"
     ]
    },
    {
     "name": "stderr",
     "output_type": "stream",
     "text": [
      "C:\\Users\\Harsh Clean\\AppData\\Local\\Temp\\ipykernel_14728\\2295723168.py:44: FutureWarning: The frame.append method is deprecated and will be removed from pandas in a future version. Use pandas.concat instead.\n",
      "  results_df = results_df.append({'ngram': ngram, 'word_count': word_count, 'review_id': max_review_id, 'thumbs_up_count': max_thumbs_up}, ignore_index=True) # type: ignore\n"
     ]
    },
    {
     "name": "stdout",
     "output_type": "stream",
     "text": [
      "Finding the review with the most thumbs up count containing \"this app is\"...\n"
     ]
    },
    {
     "name": "stderr",
     "output_type": "stream",
     "text": [
      "C:\\Users\\Harsh Clean\\AppData\\Local\\Temp\\ipykernel_14728\\2295723168.py:44: FutureWarning: The frame.append method is deprecated and will be removed from pandas in a future version. Use pandas.concat instead.\n",
      "  results_df = results_df.append({'ngram': ngram, 'word_count': word_count, 'review_id': max_review_id, 'thumbs_up_count': max_thumbs_up}, ignore_index=True) # type: ignore\n"
     ]
    },
    {
     "name": "stdout",
     "output_type": "stream",
     "text": [
      "Finding the review with the most thumbs up count containing \"very good app\"...\n"
     ]
    },
    {
     "name": "stderr",
     "output_type": "stream",
     "text": [
      "C:\\Users\\Harsh Clean\\AppData\\Local\\Temp\\ipykernel_14728\\2295723168.py:44: FutureWarning: The frame.append method is deprecated and will be removed from pandas in a future version. Use pandas.concat instead.\n",
      "  results_df = results_df.append({'ngram': ngram, 'word_count': word_count, 'review_id': max_review_id, 'thumbs_up_count': max_thumbs_up}, ignore_index=True) # type: ignore\n"
     ]
    },
    {
     "name": "stdout",
     "output_type": "stream",
     "text": [
      "Finding the review with the most thumbs up count containing \"app is very\"...\n"
     ]
    },
    {
     "name": "stderr",
     "output_type": "stream",
     "text": [
      "C:\\Users\\Harsh Clean\\AppData\\Local\\Temp\\ipykernel_14728\\2295723168.py:44: FutureWarning: The frame.append method is deprecated and will be removed from pandas in a future version. Use pandas.concat instead.\n",
      "  results_df = results_df.append({'ngram': ngram, 'word_count': word_count, 'review_id': max_review_id, 'thumbs_up_count': max_thumbs_up}, ignore_index=True) # type: ignore\n"
     ]
    },
    {
     "name": "stdout",
     "output_type": "stream",
     "text": [
      "Finding the review with the most thumbs up count containing \"not able to\"...\n"
     ]
    },
    {
     "name": "stderr",
     "output_type": "stream",
     "text": [
      "C:\\Users\\Harsh Clean\\AppData\\Local\\Temp\\ipykernel_14728\\2295723168.py:44: FutureWarning: The frame.append method is deprecated and will be removed from pandas in a future version. Use pandas.concat instead.\n",
      "  results_df = results_df.append({'ngram': ngram, 'word_count': word_count, 'review_id': max_review_id, 'thumbs_up_count': max_thumbs_up}, ignore_index=True) # type: ignore\n"
     ]
    },
    {
     "name": "stdout",
     "output_type": "stream",
     "text": [
      "Finding the review with the most thumbs up count containing \"good app for\"...\n"
     ]
    },
    {
     "name": "stderr",
     "output_type": "stream",
     "text": [
      "C:\\Users\\Harsh Clean\\AppData\\Local\\Temp\\ipykernel_14728\\2295723168.py:44: FutureWarning: The frame.append method is deprecated and will be removed from pandas in a future version. Use pandas.concat instead.\n",
      "  results_df = results_df.append({'ngram': ngram, 'word_count': word_count, 'review_id': max_review_id, 'thumbs_up_count': max_thumbs_up}, ignore_index=True) # type: ignore\n"
     ]
    },
    {
     "name": "stdout",
     "output_type": "stream",
     "text": [
      "Finding the review with the most thumbs up count containing \"best app for\"...\n"
     ]
    },
    {
     "name": "stderr",
     "output_type": "stream",
     "text": [
      "C:\\Users\\Harsh Clean\\AppData\\Local\\Temp\\ipykernel_14728\\2295723168.py:44: FutureWarning: The frame.append method is deprecated and will be removed from pandas in a future version. Use pandas.concat instead.\n",
      "  results_df = results_df.append({'ngram': ngram, 'word_count': word_count, 'review_id': max_review_id, 'thumbs_up_count': max_thumbs_up}, ignore_index=True) # type: ignore\n"
     ]
    },
    {
     "name": "stdout",
     "output_type": "stream",
     "text": [
      "Finding the review with the most thumbs up count containing \"Best app for\"...\n"
     ]
    },
    {
     "name": "stderr",
     "output_type": "stream",
     "text": [
      "C:\\Users\\Harsh Clean\\AppData\\Local\\Temp\\ipykernel_14728\\2295723168.py:44: FutureWarning: The frame.append method is deprecated and will be removed from pandas in a future version. Use pandas.concat instead.\n",
      "  results_df = results_df.append({'ngram': ngram, 'word_count': word_count, 'review_id': max_review_id, 'thumbs_up_count': max_thumbs_up}, ignore_index=True) # type: ignore\n"
     ]
    },
    {
     "name": "stdout",
     "output_type": "stream",
     "text": [
      "Generating 4-grams...\n",
      "Finding the review with the most thumbs up count containing each 4-gram...\n",
      "Finding the review with the most thumbs up count containing \"This app is very\"...\n"
     ]
    },
    {
     "name": "stderr",
     "output_type": "stream",
     "text": [
      "C:\\Users\\Harsh Clean\\AppData\\Local\\Temp\\ipykernel_14728\\2295723168.py:44: FutureWarning: The frame.append method is deprecated and will be removed from pandas in a future version. Use pandas.concat instead.\n",
      "  results_df = results_df.append({'ngram': ngram, 'word_count': word_count, 'review_id': max_review_id, 'thumbs_up_count': max_thumbs_up}, ignore_index=True) # type: ignore\n"
     ]
    },
    {
     "name": "stdout",
     "output_type": "stream",
     "text": [
      "Finding the review with the most thumbs up count containing \"am not able to\"...\n"
     ]
    },
    {
     "name": "stderr",
     "output_type": "stream",
     "text": [
      "C:\\Users\\Harsh Clean\\AppData\\Local\\Temp\\ipykernel_14728\\2295723168.py:44: FutureWarning: The frame.append method is deprecated and will be removed from pandas in a future version. Use pandas.concat instead.\n",
      "  results_df = results_df.append({'ngram': ngram, 'word_count': word_count, 'review_id': max_review_id, 'thumbs_up_count': max_thumbs_up}, ignore_index=True) # type: ignore\n"
     ]
    },
    {
     "name": "stdout",
     "output_type": "stream",
     "text": [
      "Finding the review with the most thumbs up count containing \"I am not able\"...\n"
     ]
    },
    {
     "name": "stderr",
     "output_type": "stream",
     "text": [
      "C:\\Users\\Harsh Clean\\AppData\\Local\\Temp\\ipykernel_14728\\2295723168.py:44: FutureWarning: The frame.append method is deprecated and will be removed from pandas in a future version. Use pandas.concat instead.\n",
      "  results_df = results_df.append({'ngram': ngram, 'word_count': word_count, 'review_id': max_review_id, 'thumbs_up_count': max_thumbs_up}, ignore_index=True) # type: ignore\n"
     ]
    },
    {
     "name": "stdout",
     "output_type": "stream",
     "text": [
      "Finding the review with the most thumbs up count containing \"very good app for\"...\n"
     ]
    },
    {
     "name": "stderr",
     "output_type": "stream",
     "text": [
      "C:\\Users\\Harsh Clean\\AppData\\Local\\Temp\\ipykernel_14728\\2295723168.py:44: FutureWarning: The frame.append method is deprecated and will be removed from pandas in a future version. Use pandas.concat instead.\n",
      "  results_df = results_df.append({'ngram': ngram, 'word_count': word_count, 'review_id': max_review_id, 'thumbs_up_count': max_thumbs_up}, ignore_index=True) # type: ignore\n"
     ]
    },
    {
     "name": "stdout",
     "output_type": "stream",
     "text": [
      "Finding the review with the most thumbs up count containing \"app is very good\"...\n"
     ]
    },
    {
     "name": "stderr",
     "output_type": "stream",
     "text": [
      "C:\\Users\\Harsh Clean\\AppData\\Local\\Temp\\ipykernel_14728\\2295723168.py:44: FutureWarning: The frame.append method is deprecated and will be removed from pandas in a future version. Use pandas.concat instead.\n",
      "  results_df = results_df.append({'ngram': ngram, 'word_count': word_count, 'review_id': max_review_id, 'thumbs_up_count': max_thumbs_up}, ignore_index=True) # type: ignore\n",
      "C:\\Users\\Harsh Clean\\AppData\\Local\\Temp\\ipykernel_14728\\2295723168.py:44: FutureWarning: The frame.append method is deprecated and will be removed from pandas in a future version. Use pandas.concat instead.\n",
      "  results_df = results_df.append({'ngram': ngram, 'word_count': word_count, 'review_id': max_review_id, 'thumbs_up_count': max_thumbs_up}, ignore_index=True) # type: ignore\n"
     ]
    },
    {
     "name": "stdout",
     "output_type": "stream",
     "text": [
      "Finding the review with the most thumbs up count containing \"this app is very\"...\n",
      "Finding the review with the most thumbs up count containing \"I love this app\"...\n"
     ]
    },
    {
     "name": "stderr",
     "output_type": "stream",
     "text": [
      "C:\\Users\\Harsh Clean\\AppData\\Local\\Temp\\ipykernel_14728\\2295723168.py:44: FutureWarning: The frame.append method is deprecated and will be removed from pandas in a future version. Use pandas.concat instead.\n",
      "  results_df = results_df.append({'ngram': ngram, 'word_count': word_count, 'review_id': max_review_id, 'thumbs_up_count': max_thumbs_up}, ignore_index=True) # type: ignore\n"
     ]
    },
    {
     "name": "stdout",
     "output_type": "stream",
     "text": [
      "Finding the review with the most thumbs up count containing \"best app for teenagers\"...\n"
     ]
    },
    {
     "name": "stderr",
     "output_type": "stream",
     "text": [
      "C:\\Users\\Harsh Clean\\AppData\\Local\\Temp\\ipykernel_14728\\2295723168.py:44: FutureWarning: The frame.append method is deprecated and will be removed from pandas in a future version. Use pandas.concat instead.\n",
      "  results_df = results_df.append({'ngram': ngram, 'word_count': word_count, 'review_id': max_review_id, 'thumbs_up_count': max_thumbs_up}, ignore_index=True) # type: ignore\n"
     ]
    },
    {
     "name": "stdout",
     "output_type": "stream",
     "text": [
      "Finding the review with the most thumbs up count containing \"Best app for teenagers\"...\n"
     ]
    },
    {
     "name": "stderr",
     "output_type": "stream",
     "text": [
      "C:\\Users\\Harsh Clean\\AppData\\Local\\Temp\\ipykernel_14728\\2295723168.py:44: FutureWarning: The frame.append method is deprecated and will be removed from pandas in a future version. Use pandas.concat instead.\n",
      "  results_df = results_df.append({'ngram': ngram, 'word_count': word_count, 'review_id': max_review_id, 'thumbs_up_count': max_thumbs_up}, ignore_index=True) # type: ignore\n",
      "C:\\Users\\Harsh Clean\\AppData\\Local\\Temp\\ipykernel_14728\\2295723168.py:44: FutureWarning: The frame.append method is deprecated and will be removed from pandas in a future version. Use pandas.concat instead.\n",
      "  results_df = results_df.append({'ngram': ngram, 'word_count': word_count, 'review_id': max_review_id, 'thumbs_up_count': max_thumbs_up}, ignore_index=True) # type: ignore\n"
     ]
    },
    {
     "name": "stdout",
     "output_type": "stream",
     "text": [
      "Finding the review with the most thumbs up count containing \"good app for teenagers\"...\n",
      "Generating 5-grams...\n",
      "Finding the review with the most thumbs up count containing each 5-gram...\n",
      "Finding the review with the most thumbs up count containing \"I am not able to\"...\n"
     ]
    },
    {
     "name": "stderr",
     "output_type": "stream",
     "text": [
      "C:\\Users\\Harsh Clean\\AppData\\Local\\Temp\\ipykernel_14728\\2295723168.py:44: FutureWarning: The frame.append method is deprecated and will be removed from pandas in a future version. Use pandas.concat instead.\n",
      "  results_df = results_df.append({'ngram': ngram, 'word_count': word_count, 'review_id': max_review_id, 'thumbs_up_count': max_thumbs_up}, ignore_index=True) # type: ignore\n"
     ]
    },
    {
     "name": "stdout",
     "output_type": "stream",
     "text": [
      "Finding the review with the most thumbs up count containing \"This app is very good\"...\n"
     ]
    },
    {
     "name": "stderr",
     "output_type": "stream",
     "text": [
      "C:\\Users\\Harsh Clean\\AppData\\Local\\Temp\\ipykernel_14728\\2295723168.py:44: FutureWarning: The frame.append method is deprecated and will be removed from pandas in a future version. Use pandas.concat instead.\n",
      "  results_df = results_df.append({'ngram': ngram, 'word_count': word_count, 'review_id': max_review_id, 'thumbs_up_count': max_thumbs_up}, ignore_index=True) # type: ignore\n"
     ]
    },
    {
     "name": "stdout",
     "output_type": "stream",
     "text": [
      "Finding the review with the most thumbs up count containing \"is the best app for\"...\n"
     ]
    },
    {
     "name": "stderr",
     "output_type": "stream",
     "text": [
      "C:\\Users\\Harsh Clean\\AppData\\Local\\Temp\\ipykernel_14728\\2295723168.py:44: FutureWarning: The frame.append method is deprecated and will be removed from pandas in a future version. Use pandas.concat instead.\n",
      "  results_df = results_df.append({'ngram': ngram, 'word_count': word_count, 'review_id': max_review_id, 'thumbs_up_count': max_thumbs_up}, ignore_index=True) # type: ignore\n"
     ]
    },
    {
     "name": "stdout",
     "output_type": "stream",
     "text": [
      "Finding the review with the most thumbs up count containing \"i am not able to\"...\n"
     ]
    },
    {
     "name": "stderr",
     "output_type": "stream",
     "text": [
      "C:\\Users\\Harsh Clean\\AppData\\Local\\Temp\\ipykernel_14728\\2295723168.py:44: FutureWarning: The frame.append method is deprecated and will be removed from pandas in a future version. Use pandas.concat instead.\n",
      "  results_df = results_df.append({'ngram': ngram, 'word_count': word_count, 'review_id': max_review_id, 'thumbs_up_count': max_thumbs_up}, ignore_index=True) # type: ignore\n"
     ]
    },
    {
     "name": "stdout",
     "output_type": "stream",
     "text": [
      "Finding the review with the most thumbs up count containing \"very good app for teenagers\"...\n"
     ]
    },
    {
     "name": "stderr",
     "output_type": "stream",
     "text": [
      "C:\\Users\\Harsh Clean\\AppData\\Local\\Temp\\ipykernel_14728\\2295723168.py:44: FutureWarning: The frame.append method is deprecated and will be removed from pandas in a future version. Use pandas.concat instead.\n",
      "  results_df = results_df.append({'ngram': ngram, 'word_count': word_count, 'review_id': max_review_id, 'thumbs_up_count': max_thumbs_up}, ignore_index=True) # type: ignore\n"
     ]
    },
    {
     "name": "stdout",
     "output_type": "stream",
     "text": [
      "Finding the review with the most thumbs up count containing \"is a very good app\"...\n"
     ]
    },
    {
     "name": "stderr",
     "output_type": "stream",
     "text": [
      "C:\\Users\\Harsh Clean\\AppData\\Local\\Temp\\ipykernel_14728\\2295723168.py:44: FutureWarning: The frame.append method is deprecated and will be removed from pandas in a future version. Use pandas.concat instead.\n",
      "  results_df = results_df.append({'ngram': ngram, 'word_count': word_count, 'review_id': max_review_id, 'thumbs_up_count': max_thumbs_up}, ignore_index=True) # type: ignore\n"
     ]
    },
    {
     "name": "stdout",
     "output_type": "stream",
     "text": [
      "Finding the review with the most thumbs up count containing \"This app is good but\"...\n"
     ]
    },
    {
     "name": "stderr",
     "output_type": "stream",
     "text": [
      "C:\\Users\\Harsh Clean\\AppData\\Local\\Temp\\ipykernel_14728\\2295723168.py:44: FutureWarning: The frame.append method is deprecated and will be removed from pandas in a future version. Use pandas.concat instead.\n",
      "  results_df = results_df.append({'ngram': ngram, 'word_count': word_count, 'review_id': max_review_id, 'thumbs_up_count': max_thumbs_up}, ignore_index=True) # type: ignore\n"
     ]
    },
    {
     "name": "stdout",
     "output_type": "stream",
     "text": [
      "Finding the review with the most thumbs up count containing \"this app is very good\"...\n"
     ]
    },
    {
     "name": "stderr",
     "output_type": "stream",
     "text": [
      "C:\\Users\\Harsh Clean\\AppData\\Local\\Temp\\ipykernel_14728\\2295723168.py:44: FutureWarning: The frame.append method is deprecated and will be removed from pandas in a future version. Use pandas.concat instead.\n",
      "  results_df = results_df.append({'ngram': ngram, 'word_count': word_count, 'review_id': max_review_id, 'thumbs_up_count': max_thumbs_up}, ignore_index=True) # type: ignore\n"
     ]
    },
    {
     "name": "stdout",
     "output_type": "stream",
     "text": [
      "Finding the review with the most thumbs up count containing \"This is the best app\"...\n"
     ]
    },
    {
     "name": "stderr",
     "output_type": "stream",
     "text": [
      "C:\\Users\\Harsh Clean\\AppData\\Local\\Temp\\ipykernel_14728\\2295723168.py:44: FutureWarning: The frame.append method is deprecated and will be removed from pandas in a future version. Use pandas.concat instead.\n",
      "  results_df = results_df.append({'ngram': ngram, 'word_count': word_count, 'review_id': max_review_id, 'thumbs_up_count': max_thumbs_up}, ignore_index=True) # type: ignore\n"
     ]
    },
    {
     "name": "stdout",
     "output_type": "stream",
     "text": [
      "Finding the review with the most thumbs up count containing \"a very good app for\"...\n"
     ]
    },
    {
     "name": "stderr",
     "output_type": "stream",
     "text": [
      "C:\\Users\\Harsh Clean\\AppData\\Local\\Temp\\ipykernel_14728\\2295723168.py:44: FutureWarning: The frame.append method is deprecated and will be removed from pandas in a future version. Use pandas.concat instead.\n",
      "  results_df = results_df.append({'ngram': ngram, 'word_count': word_count, 'review_id': max_review_id, 'thumbs_up_count': max_thumbs_up}, ignore_index=True) # type: ignore\n"
     ]
    },
    {
     "name": "stdout",
     "output_type": "stream",
     "text": [
      "Generating 6-grams...\n",
      "Finding the review with the most thumbs up count containing each 6-gram...\n",
      "Finding the review with the most thumbs up count containing \"This is the best app for\"...\n"
     ]
    },
    {
     "name": "stderr",
     "output_type": "stream",
     "text": [
      "C:\\Users\\Harsh Clean\\AppData\\Local\\Temp\\ipykernel_14728\\2295723168.py:44: FutureWarning: The frame.append method is deprecated and will be removed from pandas in a future version. Use pandas.concat instead.\n",
      "  results_df = results_df.append({'ngram': ngram, 'word_count': word_count, 'review_id': max_review_id, 'thumbs_up_count': max_thumbs_up}, ignore_index=True) # type: ignore\n"
     ]
    },
    {
     "name": "stdout",
     "output_type": "stream",
     "text": [
      "Finding the review with the most thumbs up count containing \"is the best app for teenagers\"...\n"
     ]
    },
    {
     "name": "stderr",
     "output_type": "stream",
     "text": [
      "C:\\Users\\Harsh Clean\\AppData\\Local\\Temp\\ipykernel_14728\\2295723168.py:44: FutureWarning: The frame.append method is deprecated and will be removed from pandas in a future version. Use pandas.concat instead.\n",
      "  results_df = results_df.append({'ngram': ngram, 'word_count': word_count, 'review_id': max_review_id, 'thumbs_up_count': max_thumbs_up}, ignore_index=True) # type: ignore\n"
     ]
    },
    {
     "name": "stdout",
     "output_type": "stream",
     "text": [
      "Finding the review with the most thumbs up count containing \"is a very good app for\"...\n"
     ]
    },
    {
     "name": "stderr",
     "output_type": "stream",
     "text": [
      "C:\\Users\\Harsh Clean\\AppData\\Local\\Temp\\ipykernel_14728\\2295723168.py:44: FutureWarning: The frame.append method is deprecated and will be removed from pandas in a future version. Use pandas.concat instead.\n",
      "  results_df = results_df.append({'ngram': ngram, 'word_count': word_count, 'review_id': max_review_id, 'thumbs_up_count': max_thumbs_up}, ignore_index=True) # type: ignore\n"
     ]
    },
    {
     "name": "stdout",
     "output_type": "stream",
     "text": [
      "Finding the review with the most thumbs up count containing \"This is a very good app\"...\n"
     ]
    },
    {
     "name": "stderr",
     "output_type": "stream",
     "text": [
      "C:\\Users\\Harsh Clean\\AppData\\Local\\Temp\\ipykernel_14728\\2295723168.py:44: FutureWarning: The frame.append method is deprecated and will be removed from pandas in a future version. Use pandas.concat instead.\n",
      "  results_df = results_df.append({'ngram': ngram, 'word_count': word_count, 'review_id': max_review_id, 'thumbs_up_count': max_thumbs_up}, ignore_index=True) # type: ignore\n"
     ]
    },
    {
     "name": "stdout",
     "output_type": "stream",
     "text": [
      "Finding the review with the most thumbs up count containing \"I am not able to do\"...\n"
     ]
    },
    {
     "name": "stderr",
     "output_type": "stream",
     "text": [
      "C:\\Users\\Harsh Clean\\AppData\\Local\\Temp\\ipykernel_14728\\2295723168.py:44: FutureWarning: The frame.append method is deprecated and will be removed from pandas in a future version. Use pandas.concat instead.\n",
      "  results_df = results_df.append({'ngram': ngram, 'word_count': word_count, 'review_id': max_review_id, 'thumbs_up_count': max_thumbs_up}, ignore_index=True) # type: ignore\n"
     ]
    },
    {
     "name": "stdout",
     "output_type": "stream",
     "text": [
      "Finding the review with the most thumbs up count containing \"This app is very useful for\"...\n"
     ]
    },
    {
     "name": "stderr",
     "output_type": "stream",
     "text": [
      "C:\\Users\\Harsh Clean\\AppData\\Local\\Temp\\ipykernel_14728\\2295723168.py:44: FutureWarning: The frame.append method is deprecated and will be removed from pandas in a future version. Use pandas.concat instead.\n",
      "  results_df = results_df.append({'ngram': ngram, 'word_count': word_count, 'review_id': max_review_id, 'thumbs_up_count': max_thumbs_up}, ignore_index=True) # type: ignore\n"
     ]
    },
    {
     "name": "stdout",
     "output_type": "stream",
     "text": [
      "Finding the review with the most thumbs up count containing \"this is the best app for\"...\n"
     ]
    },
    {
     "name": "stderr",
     "output_type": "stream",
     "text": [
      "C:\\Users\\Harsh Clean\\AppData\\Local\\Temp\\ipykernel_14728\\2295723168.py:44: FutureWarning: The frame.append method is deprecated and will be removed from pandas in a future version. Use pandas.concat instead.\n",
      "  results_df = results_df.append({'ngram': ngram, 'word_count': word_count, 'review_id': max_review_id, 'thumbs_up_count': max_thumbs_up}, ignore_index=True) # type: ignore\n"
     ]
    },
    {
     "name": "stdout",
     "output_type": "stream",
     "text": [
      "Finding the review with the most thumbs up count containing \"This app is very good for\"...\n"
     ]
    },
    {
     "name": "stderr",
     "output_type": "stream",
     "text": [
      "C:\\Users\\Harsh Clean\\AppData\\Local\\Temp\\ipykernel_14728\\2295723168.py:44: FutureWarning: The frame.append method is deprecated and will be removed from pandas in a future version. Use pandas.concat instead.\n",
      "  results_df = results_df.append({'ngram': ngram, 'word_count': word_count, 'review_id': max_review_id, 'thumbs_up_count': max_thumbs_up}, ignore_index=True) # type: ignore\n"
     ]
    },
    {
     "name": "stdout",
     "output_type": "stream",
     "text": [
      "Finding the review with the most thumbs up count containing \"I am not able to see\"...\n"
     ]
    },
    {
     "name": "stderr",
     "output_type": "stream",
     "text": [
      "C:\\Users\\Harsh Clean\\AppData\\Local\\Temp\\ipykernel_14728\\2295723168.py:44: FutureWarning: The frame.append method is deprecated and will be removed from pandas in a future version. Use pandas.concat instead.\n",
      "  results_df = results_df.append({'ngram': ngram, 'word_count': word_count, 'review_id': max_review_id, 'thumbs_up_count': max_thumbs_up}, ignore_index=True) # type: ignore\n"
     ]
    },
    {
     "name": "stdout",
     "output_type": "stream",
     "text": [
      "Finding the review with the most thumbs up count containing \"I am not able to pay\"...\n"
     ]
    },
    {
     "name": "stderr",
     "output_type": "stream",
     "text": [
      "C:\\Users\\Harsh Clean\\AppData\\Local\\Temp\\ipykernel_14728\\2295723168.py:44: FutureWarning: The frame.append method is deprecated and will be removed from pandas in a future version. Use pandas.concat instead.\n",
      "  results_df = results_df.append({'ngram': ngram, 'word_count': word_count, 'review_id': max_review_id, 'thumbs_up_count': max_thumbs_up}, ignore_index=True) # type: ignore\n"
     ]
    },
    {
     "name": "stdout",
     "output_type": "stream",
     "text": [
      "Generating 7-grams...\n",
      "Finding the review with the most thumbs up count containing each 7-gram...\n",
      "Finding the review with the most thumbs up count containing \"I am not able to see my\"...\n"
     ]
    },
    {
     "name": "stderr",
     "output_type": "stream",
     "text": [
      "C:\\Users\\Harsh Clean\\AppData\\Local\\Temp\\ipykernel_14728\\2295723168.py:44: FutureWarning: The frame.append method is deprecated and will be removed from pandas in a future version. Use pandas.concat instead.\n",
      "  results_df = results_df.append({'ngram': ngram, 'word_count': word_count, 'review_id': max_review_id, 'thumbs_up_count': max_thumbs_up}, ignore_index=True) # type: ignore\n"
     ]
    },
    {
     "name": "stdout",
     "output_type": "stream",
     "text": [
      "Finding the review with the most thumbs up count containing \"This is a very good app for\"...\n"
     ]
    },
    {
     "name": "stderr",
     "output_type": "stream",
     "text": [
      "C:\\Users\\Harsh Clean\\AppData\\Local\\Temp\\ipykernel_14728\\2295723168.py:44: FutureWarning: The frame.append method is deprecated and will be removed from pandas in a future version. Use pandas.concat instead.\n",
      "  results_df = results_df.append({'ngram': ngram, 'word_count': word_count, 'review_id': max_review_id, 'thumbs_up_count': max_thumbs_up}, ignore_index=True) # type: ignore\n"
     ]
    },
    {
     "name": "stdout",
     "output_type": "stream",
     "text": [
      "Finding the review with the most thumbs up count containing \"This is the best app for teenagers\"...\n"
     ]
    },
    {
     "name": "stderr",
     "output_type": "stream",
     "text": [
      "C:\\Users\\Harsh Clean\\AppData\\Local\\Temp\\ipykernel_14728\\2295723168.py:44: FutureWarning: The frame.append method is deprecated and will be removed from pandas in a future version. Use pandas.concat instead.\n",
      "  results_df = results_df.append({'ngram': ngram, 'word_count': word_count, 'review_id': max_review_id, 'thumbs_up_count': max_thumbs_up}, ignore_index=True) # type: ignore\n"
     ]
    },
    {
     "name": "stdout",
     "output_type": "stream",
     "text": [
      "Finding the review with the most thumbs up count containing \"This app is very useful for teenagers\"...\n"
     ]
    },
    {
     "name": "stderr",
     "output_type": "stream",
     "text": [
      "C:\\Users\\Harsh Clean\\AppData\\Local\\Temp\\ipykernel_14728\\2295723168.py:44: FutureWarning: The frame.append method is deprecated and will be removed from pandas in a future version. Use pandas.concat instead.\n",
      "  results_df = results_df.append({'ngram': ngram, 'word_count': word_count, 'review_id': max_review_id, 'thumbs_up_count': max_thumbs_up}, ignore_index=True) # type: ignore\n"
     ]
    },
    {
     "name": "stdout",
     "output_type": "stream",
     "text": [
      "Finding the review with the most thumbs up count containing \"I have been using this app for\"...\n"
     ]
    },
    {
     "name": "stderr",
     "output_type": "stream",
     "text": [
      "C:\\Users\\Harsh Clean\\AppData\\Local\\Temp\\ipykernel_14728\\2295723168.py:44: FutureWarning: The frame.append method is deprecated and will be removed from pandas in a future version. Use pandas.concat instead.\n",
      "  results_df = results_df.append({'ngram': ngram, 'word_count': word_count, 'review_id': max_review_id, 'thumbs_up_count': max_thumbs_up}, ignore_index=True) # type: ignore\n"
     ]
    },
    {
     "name": "stdout",
     "output_type": "stream",
     "text": [
      "Finding the review with the most thumbs up count containing \"this is the best app for teenagers\"...\n"
     ]
    },
    {
     "name": "stderr",
     "output_type": "stream",
     "text": [
      "C:\\Users\\Harsh Clean\\AppData\\Local\\Temp\\ipykernel_14728\\2295723168.py:44: FutureWarning: The frame.append method is deprecated and will be removed from pandas in a future version. Use pandas.concat instead.\n",
      "  results_df = results_df.append({'ngram': ngram, 'word_count': word_count, 'review_id': max_review_id, 'thumbs_up_count': max_thumbs_up}, ignore_index=True) # type: ignore\n"
     ]
    },
    {
     "name": "stdout",
     "output_type": "stream",
     "text": [
      "Finding the review with the most thumbs up count containing \"am not able to see my card\"...\n"
     ]
    },
    {
     "name": "stderr",
     "output_type": "stream",
     "text": [
      "C:\\Users\\Harsh Clean\\AppData\\Local\\Temp\\ipykernel_14728\\2295723168.py:44: FutureWarning: The frame.append method is deprecated and will be removed from pandas in a future version. Use pandas.concat instead.\n",
      "  results_df = results_df.append({'ngram': ngram, 'word_count': word_count, 'review_id': max_review_id, 'thumbs_up_count': max_thumbs_up}, ignore_index=True) # type: ignore\n"
     ]
    },
    {
     "name": "stdout",
     "output_type": "stream",
     "text": [
      "Finding the review with the most thumbs up count containing \"is one of the best app for\"...\n"
     ]
    },
    {
     "name": "stderr",
     "output_type": "stream",
     "text": [
      "C:\\Users\\Harsh Clean\\AppData\\Local\\Temp\\ipykernel_14728\\2295723168.py:44: FutureWarning: The frame.append method is deprecated and will be removed from pandas in a future version. Use pandas.concat instead.\n",
      "  results_df = results_df.append({'ngram': ngram, 'word_count': word_count, 'review_id': max_review_id, 'thumbs_up_count': max_thumbs_up}, ignore_index=True) # type: ignore\n"
     ]
    },
    {
     "name": "stdout",
     "output_type": "stream",
     "text": [
      "Finding the review with the most thumbs up count containing \"I am not able to send money\"...\n"
     ]
    },
    {
     "name": "stderr",
     "output_type": "stream",
     "text": [
      "C:\\Users\\Harsh Clean\\AppData\\Local\\Temp\\ipykernel_14728\\2295723168.py:44: FutureWarning: The frame.append method is deprecated and will be removed from pandas in a future version. Use pandas.concat instead.\n",
      "  results_df = results_df.append({'ngram': ngram, 'word_count': word_count, 'review_id': max_review_id, 'thumbs_up_count': max_thumbs_up}, ignore_index=True) # type: ignore\n"
     ]
    },
    {
     "name": "stdout",
     "output_type": "stream",
     "text": [
      "Finding the review with the most thumbs up count containing \"for teenagers so I would highly recommend\"...\n"
     ]
    },
    {
     "name": "stderr",
     "output_type": "stream",
     "text": [
      "C:\\Users\\Harsh Clean\\AppData\\Local\\Temp\\ipykernel_14728\\2295723168.py:44: FutureWarning: The frame.append method is deprecated and will be removed from pandas in a future version. Use pandas.concat instead.\n",
      "  results_df = results_df.append({'ngram': ngram, 'word_count': word_count, 'review_id': max_review_id, 'thumbs_up_count': max_thumbs_up}, ignore_index=True) # type: ignore\n"
     ]
    },
    {
     "name": "stdout",
     "output_type": "stream",
     "text": [
      "Generating 8-grams...\n",
      "Finding the review with the most thumbs up count containing each 8-gram...\n",
      "Finding the review with the most thumbs up count containing \"are currently building the fam experience for your\"...\n"
     ]
    },
    {
     "name": "stderr",
     "output_type": "stream",
     "text": [
      "C:\\Users\\Harsh Clean\\AppData\\Local\\Temp\\ipykernel_14728\\2295723168.py:44: FutureWarning: The frame.append method is deprecated and will be removed from pandas in a future version. Use pandas.concat instead.\n",
      "  results_df = results_df.append({'ngram': ngram, 'word_count': word_count, 'review_id': max_review_id, 'thumbs_up_count': max_thumbs_up}, ignore_index=True) # type: ignore\n"
     ]
    },
    {
     "name": "stdout",
     "output_type": "stream",
     "text": [
      "Finding the review with the most thumbs up count containing \"I am not able to see my card\"...\n"
     ]
    },
    {
     "name": "stderr",
     "output_type": "stream",
     "text": [
      "C:\\Users\\Harsh Clean\\AppData\\Local\\Temp\\ipykernel_14728\\2295723168.py:44: FutureWarning: The frame.append method is deprecated and will be removed from pandas in a future version. Use pandas.concat instead.\n",
      "  results_df = results_df.append({'ngram': ngram, 'word_count': word_count, 'review_id': max_review_id, 'thumbs_up_count': max_thumbs_up}, ignore_index=True) # type: ignore\n"
     ]
    },
    {
     "name": "stdout",
     "output_type": "stream",
     "text": [
      "Finding the review with the most thumbs up count containing \"for teenagers so I would highly recommend this\"...\n"
     ]
    },
    {
     "name": "stderr",
     "output_type": "stream",
     "text": [
      "C:\\Users\\Harsh Clean\\AppData\\Local\\Temp\\ipykernel_14728\\2295723168.py:44: FutureWarning: The frame.append method is deprecated and will be removed from pandas in a future version. Use pandas.concat instead.\n",
      "  results_df = results_df.append({'ngram': ngram, 'word_count': word_count, 'review_id': max_review_id, 'thumbs_up_count': max_thumbs_up}, ignore_index=True) # type: ignore\n"
     ]
    },
    {
     "name": "stdout",
     "output_type": "stream",
     "text": [
      "Finding the review with the most thumbs up count containing \"we are currently building the fam experience for\"...\n"
     ]
    },
    {
     "name": "stderr",
     "output_type": "stream",
     "text": [
      "C:\\Users\\Harsh Clean\\AppData\\Local\\Temp\\ipykernel_14728\\2295723168.py:44: FutureWarning: The frame.append method is deprecated and will be removed from pandas in a future version. Use pandas.concat instead.\n",
      "  results_df = results_df.append({'ngram': ngram, 'word_count': word_count, 'review_id': max_review_id, 'thumbs_up_count': max_thumbs_up}, ignore_index=True) # type: ignore\n"
     ]
    },
    {
     "name": "stdout",
     "output_type": "stream",
     "text": [
      "Finding the review with the most thumbs up count containing \"debit card app which is specially made for\"...\n"
     ]
    },
    {
     "name": "stderr",
     "output_type": "stream",
     "text": [
      "C:\\Users\\Harsh Clean\\AppData\\Local\\Temp\\ipykernel_14728\\2295723168.py:44: FutureWarning: The frame.append method is deprecated and will be removed from pandas in a future version. Use pandas.concat instead.\n",
      "  results_df = results_df.append({'ngram': ngram, 'word_count': word_count, 'review_id': max_review_id, 'thumbs_up_count': max_thumbs_up}, ignore_index=True) # type: ignore\n"
     ]
    },
    {
     "name": "stdout",
     "output_type": "stream",
     "text": [
      "Finding the review with the most thumbs up count containing \"app in my phone which is specially made\"...\n"
     ]
    },
    {
     "name": "stderr",
     "output_type": "stream",
     "text": [
      "C:\\Users\\Harsh Clean\\AppData\\Local\\Temp\\ipykernel_14728\\2295723168.py:44: FutureWarning: The frame.append method is deprecated and will be removed from pandas in a future version. Use pandas.concat instead.\n",
      "  results_df = results_df.append({'ngram': ngram, 'word_count': word_count, 'review_id': max_review_id, 'thumbs_up_count': max_thumbs_up}, ignore_index=True) # type: ignore\n"
     ]
    },
    {
     "name": "stdout",
     "output_type": "stream",
     "text": [
      "Finding the review with the most thumbs up count containing \"in my phone which is specially made for\"...\n"
     ]
    },
    {
     "name": "stderr",
     "output_type": "stream",
     "text": [
      "C:\\Users\\Harsh Clean\\AppData\\Local\\Temp\\ipykernel_14728\\2295723168.py:44: FutureWarning: The frame.append method is deprecated and will be removed from pandas in a future version. Use pandas.concat instead.\n",
      "  results_df = results_df.append({'ngram': ngram, 'word_count': word_count, 'review_id': max_review_id, 'thumbs_up_count': max_thumbs_up}, ignore_index=True) # type: ignore\n",
      "C:\\Users\\Harsh Clean\\AppData\\Local\\Temp\\ipykernel_14728\\2295723168.py:44: FutureWarning: The frame.append method is deprecated and will be removed from pandas in a future version. Use pandas.concat instead.\n",
      "  results_df = results_df.append({'ngram': ngram, 'word_count': word_count, 'review_id': max_review_id, 'thumbs_up_count': max_thumbs_up}, ignore_index=True) # type: ignore\n"
     ]
    },
    {
     "name": "stdout",
     "output_type": "stream",
     "text": [
      "Finding the review with the most thumbs up count containing \"so I would highly recommend this app to\"...\n",
      "Finding the review with the most thumbs up count containing \"my phone which is specially made for teenagers\"...\n"
     ]
    },
    {
     "name": "stderr",
     "output_type": "stream",
     "text": [
      "C:\\Users\\Harsh Clean\\AppData\\Local\\Temp\\ipykernel_14728\\2295723168.py:44: FutureWarning: The frame.append method is deprecated and will be removed from pandas in a future version. Use pandas.concat instead.\n",
      "  results_df = results_df.append({'ngram': ngram, 'word_count': word_count, 'review_id': max_review_id, 'thumbs_up_count': max_thumbs_up}, ignore_index=True) # type: ignore\n"
     ]
    },
    {
     "name": "stdout",
     "output_type": "stream",
     "text": [
      "Finding the review with the most thumbs up count containing \"app I have ever seen in my life\"...\n"
     ]
    },
    {
     "name": "stderr",
     "output_type": "stream",
     "text": [
      "C:\\Users\\Harsh Clean\\AppData\\Local\\Temp\\ipykernel_14728\\2295723168.py:44: FutureWarning: The frame.append method is deprecated and will be removed from pandas in a future version. Use pandas.concat instead.\n",
      "  results_df = results_df.append({'ngram': ngram, 'word_count': word_count, 'review_id': max_review_id, 'thumbs_up_count': max_thumbs_up}, ignore_index=True) # type: ignore\n"
     ]
    },
    {
     "name": "stdout",
     "output_type": "stream",
     "text": [
      "Generating 9-grams...\n",
      "Finding the review with the most thumbs up count containing each 9-gram...\n",
      "Finding the review with the most thumbs up count containing \"we are currently building the fam experience for your\"...\n"
     ]
    },
    {
     "name": "stderr",
     "output_type": "stream",
     "text": [
      "C:\\Users\\Harsh Clean\\AppData\\Local\\Temp\\ipykernel_14728\\2295723168.py:44: FutureWarning: The frame.append method is deprecated and will be removed from pandas in a future version. Use pandas.concat instead.\n",
      "  results_df = results_df.append({'ngram': ngram, 'word_count': word_count, 'review_id': max_review_id, 'thumbs_up_count': max_thumbs_up}, ignore_index=True) # type: ignore\n"
     ]
    },
    {
     "name": "stdout",
     "output_type": "stream",
     "text": [
      "Finding the review with the most thumbs up count containing \"app in my phone which is specially made for\"...\n"
     ]
    },
    {
     "name": "stderr",
     "output_type": "stream",
     "text": [
      "C:\\Users\\Harsh Clean\\AppData\\Local\\Temp\\ipykernel_14728\\2295723168.py:44: FutureWarning: The frame.append method is deprecated and will be removed from pandas in a future version. Use pandas.concat instead.\n",
      "  results_df = results_df.append({'ngram': ngram, 'word_count': word_count, 'review_id': max_review_id, 'thumbs_up_count': max_thumbs_up}, ignore_index=True) # type: ignore\n"
     ]
    },
    {
     "name": "stdout",
     "output_type": "stream",
     "text": [
      "Finding the review with the most thumbs up count containing \"in my phone which is specially made for teenagers\"...\n"
     ]
    },
    {
     "name": "stderr",
     "output_type": "stream",
     "text": [
      "C:\\Users\\Harsh Clean\\AppData\\Local\\Temp\\ipykernel_14728\\2295723168.py:44: FutureWarning: The frame.append method is deprecated and will be removed from pandas in a future version. Use pandas.concat instead.\n",
      "  results_df = results_df.append({'ngram': ngram, 'word_count': word_count, 'review_id': max_review_id, 'thumbs_up_count': max_thumbs_up}, ignore_index=True) # type: ignore\n"
     ]
    },
    {
     "name": "stdout",
     "output_type": "stream",
     "text": [
      "Finding the review with the most thumbs up count containing \"is the best debit card for teenagers, lovely tool\"...\n"
     ]
    },
    {
     "name": "stderr",
     "output_type": "stream",
     "text": [
      "C:\\Users\\Harsh Clean\\AppData\\Local\\Temp\\ipykernel_14728\\2295723168.py:44: FutureWarning: The frame.append method is deprecated and will be removed from pandas in a future version. Use pandas.concat instead.\n",
      "  results_df = results_df.append({'ngram': ngram, 'word_count': word_count, 'review_id': max_review_id, 'thumbs_up_count': max_thumbs_up}, ignore_index=True) # type: ignore\n"
     ]
    },
    {
     "name": "stdout",
     "output_type": "stream",
     "text": [
      "Finding the review with the most thumbs up count containing \"are currently building the fam experience for your location\"...\n"
     ]
    },
    {
     "name": "stderr",
     "output_type": "stream",
     "text": [
      "C:\\Users\\Harsh Clean\\AppData\\Local\\Temp\\ipykernel_14728\\2295723168.py:44: FutureWarning: The frame.append method is deprecated and will be removed from pandas in a future version. Use pandas.concat instead.\n",
      "  results_df = results_df.append({'ngram': ngram, 'word_count': word_count, 'review_id': max_review_id, 'thumbs_up_count': max_thumbs_up}, ignore_index=True) # type: ignore\n"
     ]
    },
    {
     "name": "stdout",
     "output_type": "stream",
     "text": [
      "Finding the review with the most thumbs up count containing \"apps available in play store but this FamPay app\"...\n"
     ]
    },
    {
     "name": "stderr",
     "output_type": "stream",
     "text": [
      "C:\\Users\\Harsh Clean\\AppData\\Local\\Temp\\ipykernel_14728\\2295723168.py:44: FutureWarning: The frame.append method is deprecated and will be removed from pandas in a future version. Use pandas.concat instead.\n",
      "  results_df = results_df.append({'ngram': ngram, 'word_count': word_count, 'review_id': max_review_id, 'thumbs_up_count': max_thumbs_up}, ignore_index=True) # type: ignore\n"
     ]
    },
    {
     "name": "stdout",
     "output_type": "stream",
     "text": [
      "Finding the review with the most thumbs up count containing \"available in play store but this FamPay app is\"...\n"
     ]
    },
    {
     "name": "stderr",
     "output_type": "stream",
     "text": [
      "C:\\Users\\Harsh Clean\\AppData\\Local\\Temp\\ipykernel_14728\\2295723168.py:44: FutureWarning: The frame.append method is deprecated and will be removed from pandas in a future version. Use pandas.concat instead.\n",
      "  results_df = results_df.append({'ngram': ngram, 'word_count': word_count, 'review_id': max_review_id, 'thumbs_up_count': max_thumbs_up}, ignore_index=True) # type: ignore\n"
     ]
    },
    {
     "name": "stdout",
     "output_type": "stream",
     "text": [
      "Finding the review with the most thumbs up count containing \"in play store but this FamPay app is really\"...\n"
     ]
    },
    {
     "name": "stderr",
     "output_type": "stream",
     "text": [
      "C:\\Users\\Harsh Clean\\AppData\\Local\\Temp\\ipykernel_14728\\2295723168.py:44: FutureWarning: The frame.append method is deprecated and will be removed from pandas in a future version. Use pandas.concat instead.\n",
      "  results_df = results_df.append({'ngram': ngram, 'word_count': word_count, 'review_id': max_review_id, 'thumbs_up_count': max_thumbs_up}, ignore_index=True) # type: ignore\n"
     ]
    },
    {
     "name": "stdout",
     "output_type": "stream",
     "text": [
      "Finding the review with the most thumbs up count containing \"the best debit card for teenagers who do well.\"...\n"
     ]
    },
    {
     "name": "stderr",
     "output_type": "stream",
     "text": [
      "C:\\Users\\Harsh Clean\\AppData\\Local\\Temp\\ipykernel_14728\\2295723168.py:44: FutureWarning: The frame.append method is deprecated and will be removed from pandas in a future version. Use pandas.concat instead.\n",
      "  results_df = results_df.append({'ngram': ngram, 'word_count': word_count, 'review_id': max_review_id, 'thumbs_up_count': max_thumbs_up}, ignore_index=True) # type: ignore\n"
     ]
    },
    {
     "name": "stdout",
     "output_type": "stream",
     "text": [
      "Finding the review with the most thumbs up count containing \"so I would highly recommend this card to everyone.\"...\n"
     ]
    },
    {
     "name": "stderr",
     "output_type": "stream",
     "text": [
      "C:\\Users\\Harsh Clean\\AppData\\Local\\Temp\\ipykernel_14728\\2295723168.py:44: FutureWarning: The frame.append method is deprecated and will be removed from pandas in a future version. Use pandas.concat instead.\n",
      "  results_df = results_df.append({'ngram': ngram, 'word_count': word_count, 'review_id': max_review_id, 'thumbs_up_count': max_thumbs_up}, ignore_index=True) # type: ignore\n"
     ]
    },
    {
     "name": "stdout",
     "output_type": "stream",
     "text": [
      "Generating 10-grams...\n",
      "Finding the review with the most thumbs up count containing each 10-gram...\n",
      "Finding the review with the most thumbs up count containing \"app in my phone which is specially made for teenagers\"...\n"
     ]
    },
    {
     "name": "stderr",
     "output_type": "stream",
     "text": [
      "C:\\Users\\Harsh Clean\\AppData\\Local\\Temp\\ipykernel_14728\\2295723168.py:44: FutureWarning: The frame.append method is deprecated and will be removed from pandas in a future version. Use pandas.concat instead.\n",
      "  results_df = results_df.append({'ngram': ngram, 'word_count': word_count, 'review_id': max_review_id, 'thumbs_up_count': max_thumbs_up}, ignore_index=True) # type: ignore\n"
     ]
    },
    {
     "name": "stdout",
     "output_type": "stream",
     "text": [
      "Finding the review with the most thumbs up count containing \"we are currently building the fam experience for your location\"...\n"
     ]
    },
    {
     "name": "stderr",
     "output_type": "stream",
     "text": [
      "C:\\Users\\Harsh Clean\\AppData\\Local\\Temp\\ipykernel_14728\\2295723168.py:44: FutureWarning: The frame.append method is deprecated and will be removed from pandas in a future version. Use pandas.concat instead.\n",
      "  results_df = results_df.append({'ngram': ngram, 'word_count': word_count, 'review_id': max_review_id, 'thumbs_up_count': max_thumbs_up}, ignore_index=True) # type: ignore\n"
     ]
    },
    {
     "name": "stdout",
     "output_type": "stream",
     "text": [
      "Finding the review with the most thumbs up count containing \"apps available in play store but this FamPay app is\"...\n"
     ]
    },
    {
     "name": "stderr",
     "output_type": "stream",
     "text": [
      "C:\\Users\\Harsh Clean\\AppData\\Local\\Temp\\ipykernel_14728\\2295723168.py:44: FutureWarning: The frame.append method is deprecated and will be removed from pandas in a future version. Use pandas.concat instead.\n",
      "  results_df = results_df.append({'ngram': ngram, 'word_count': word_count, 'review_id': max_review_id, 'thumbs_up_count': max_thumbs_up}, ignore_index=True) # type: ignore\n"
     ]
    },
    {
     "name": "stdout",
     "output_type": "stream",
     "text": [
      "Finding the review with the most thumbs up count containing \"available in play store but this FamPay app is really\"...\n"
     ]
    },
    {
     "name": "stderr",
     "output_type": "stream",
     "text": [
      "C:\\Users\\Harsh Clean\\AppData\\Local\\Temp\\ipykernel_14728\\2295723168.py:44: FutureWarning: The frame.append method is deprecated and will be removed from pandas in a future version. Use pandas.concat instead.\n",
      "  results_df = results_df.append({'ngram': ngram, 'word_count': word_count, 'review_id': max_review_id, 'thumbs_up_count': max_thumbs_up}, ignore_index=True) # type: ignore\n"
     ]
    },
    {
     "name": "stdout",
     "output_type": "stream",
     "text": [
      "Finding the review with the most thumbs up count containing \"app in market which is the best debit card for\"...\n"
     ]
    },
    {
     "name": "stderr",
     "output_type": "stream",
     "text": [
      "C:\\Users\\Harsh Clean\\AppData\\Local\\Temp\\ipykernel_14728\\2295723168.py:44: FutureWarning: The frame.append method is deprecated and will be removed from pandas in a future version. Use pandas.concat instead.\n",
      "  results_df = results_df.append({'ngram': ngram, 'word_count': word_count, 'review_id': max_review_id, 'thumbs_up_count': max_thumbs_up}, ignore_index=True) # type: ignore\n"
     ]
    },
    {
     "name": "stdout",
     "output_type": "stream",
     "text": [
      "Finding the review with the most thumbs up count containing \"in market which is the best debit card for teenagers,\"...\n"
     ]
    },
    {
     "name": "stderr",
     "output_type": "stream",
     "text": [
      "C:\\Users\\Harsh Clean\\AppData\\Local\\Temp\\ipykernel_14728\\2295723168.py:44: FutureWarning: The frame.append method is deprecated and will be removed from pandas in a future version. Use pandas.concat instead.\n",
      "  results_df = results_df.append({'ngram': ngram, 'word_count': word_count, 'review_id': max_review_id, 'thumbs_up_count': max_thumbs_up}, ignore_index=True) # type: ignore\n"
     ]
    },
    {
     "name": "stdout",
     "output_type": "stream",
     "text": [
      "Finding the review with the most thumbs up count containing \"market which is the best debit card for teenagers, lovely\"...\n"
     ]
    },
    {
     "name": "stderr",
     "output_type": "stream",
     "text": [
      "C:\\Users\\Harsh Clean\\AppData\\Local\\Temp\\ipykernel_14728\\2295723168.py:44: FutureWarning: The frame.append method is deprecated and will be removed from pandas in a future version. Use pandas.concat instead.\n",
      "  results_df = results_df.append({'ngram': ngram, 'word_count': word_count, 'review_id': max_review_id, 'thumbs_up_count': max_thumbs_up}, ignore_index=True) # type: ignore\n"
     ]
    },
    {
     "name": "stdout",
     "output_type": "stream",
     "text": [
      "Finding the review with the most thumbs up count containing \"which is the best debit card for teenagers, lovely tool\"...\n"
     ]
    },
    {
     "name": "stderr",
     "output_type": "stream",
     "text": [
      "C:\\Users\\Harsh Clean\\AppData\\Local\\Temp\\ipykernel_14728\\2295723168.py:44: FutureWarning: The frame.append method is deprecated and will be removed from pandas in a future version. Use pandas.concat instead.\n",
      "  results_df = results_df.append({'ngram': ngram, 'word_count': word_count, 'review_id': max_review_id, 'thumbs_up_count': max_thumbs_up}, ignore_index=True) # type: ignore\n"
     ]
    },
    {
     "name": "stdout",
     "output_type": "stream",
     "text": [
      "Finding the review with the most thumbs up count containing \"send money to an UPI address and it gives error\"...\n"
     ]
    },
    {
     "name": "stderr",
     "output_type": "stream",
     "text": [
      "C:\\Users\\Harsh Clean\\AppData\\Local\\Temp\\ipykernel_14728\\2295723168.py:44: FutureWarning: The frame.append method is deprecated and will be removed from pandas in a future version. Use pandas.concat instead.\n",
      "  results_df = results_df.append({'ngram': ngram, 'word_count': word_count, 'review_id': max_review_id, 'thumbs_up_count': max_thumbs_up}, ignore_index=True) # type: ignore\n"
     ]
    },
    {
     "name": "stdout",
     "output_type": "stream",
     "text": [
      "Finding the review with the most thumbs up count containing \"money to an UPI address and it gives error saying\"...\n"
     ]
    },
    {
     "name": "stderr",
     "output_type": "stream",
     "text": [
      "C:\\Users\\Harsh Clean\\AppData\\Local\\Temp\\ipykernel_14728\\2295723168.py:44: FutureWarning: The frame.append method is deprecated and will be removed from pandas in a future version. Use pandas.concat instead.\n",
      "  results_df = results_df.append({'ngram': ngram, 'word_count': word_count, 'review_id': max_review_id, 'thumbs_up_count': max_thumbs_up}, ignore_index=True) # type: ignore\n"
     ]
    },
    {
     "name": "stdout",
     "output_type": "stream",
     "text": [
      "Generating 1-grams...\n",
      "Finding the review with the most thumbs up count containing each 1-gram...\n",
      "Finding the review with the most thumbs up count containing \"app\"...\n"
     ]
    },
    {
     "name": "stderr",
     "output_type": "stream",
     "text": [
      "C:\\Users\\Harsh Clean\\AppData\\Local\\Temp\\ipykernel_14728\\2295723168.py:44: FutureWarning: The frame.append method is deprecated and will be removed from pandas in a future version. Use pandas.concat instead.\n",
      "  results_df = results_df.append({'ngram': ngram, 'word_count': word_count, 'review_id': max_review_id, 'thumbs_up_count': max_thumbs_up}, ignore_index=True) # type: ignore\n"
     ]
    },
    {
     "name": "stdout",
     "output_type": "stream",
     "text": [
      "Finding the review with the most thumbs up count containing \"is\"...\n"
     ]
    },
    {
     "name": "stderr",
     "output_type": "stream",
     "text": [
      "C:\\Users\\Harsh Clean\\AppData\\Local\\Temp\\ipykernel_14728\\2295723168.py:44: FutureWarning: The frame.append method is deprecated and will be removed from pandas in a future version. Use pandas.concat instead.\n",
      "  results_df = results_df.append({'ngram': ngram, 'word_count': word_count, 'review_id': max_review_id, 'thumbs_up_count': max_thumbs_up}, ignore_index=True) # type: ignore\n",
      "C:\\Users\\Harsh Clean\\AppData\\Local\\Temp\\ipykernel_14728\\2295723168.py:44: FutureWarning: The frame.append method is deprecated and will be removed from pandas in a future version. Use pandas.concat instead.\n",
      "  results_df = results_df.append({'ngram': ngram, 'word_count': word_count, 'review_id': max_review_id, 'thumbs_up_count': max_thumbs_up}, ignore_index=True) # type: ignore\n"
     ]
    },
    {
     "name": "stdout",
     "output_type": "stream",
     "text": [
      "Finding the review with the most thumbs up count containing \"I\"...\n",
      "Finding the review with the most thumbs up count containing \"to\"...\n"
     ]
    },
    {
     "name": "stderr",
     "output_type": "stream",
     "text": [
      "C:\\Users\\Harsh Clean\\AppData\\Local\\Temp\\ipykernel_14728\\2295723168.py:44: FutureWarning: The frame.append method is deprecated and will be removed from pandas in a future version. Use pandas.concat instead.\n",
      "  results_df = results_df.append({'ngram': ngram, 'word_count': word_count, 'review_id': max_review_id, 'thumbs_up_count': max_thumbs_up}, ignore_index=True) # type: ignore\n"
     ]
    },
    {
     "name": "stdout",
     "output_type": "stream",
     "text": [
      "Finding the review with the most thumbs up count containing \"and\"...\n"
     ]
    },
    {
     "name": "stderr",
     "output_type": "stream",
     "text": [
      "C:\\Users\\Harsh Clean\\AppData\\Local\\Temp\\ipykernel_14728\\2295723168.py:44: FutureWarning: The frame.append method is deprecated and will be removed from pandas in a future version. Use pandas.concat instead.\n",
      "  results_df = results_df.append({'ngram': ngram, 'word_count': word_count, 'review_id': max_review_id, 'thumbs_up_count': max_thumbs_up}, ignore_index=True) # type: ignore\n"
     ]
    },
    {
     "name": "stdout",
     "output_type": "stream",
     "text": [
      "Finding the review with the most thumbs up count containing \"for\"...\n"
     ]
    },
    {
     "name": "stderr",
     "output_type": "stream",
     "text": [
      "C:\\Users\\Harsh Clean\\AppData\\Local\\Temp\\ipykernel_14728\\2295723168.py:44: FutureWarning: The frame.append method is deprecated and will be removed from pandas in a future version. Use pandas.concat instead.\n",
      "  results_df = results_df.append({'ngram': ngram, 'word_count': word_count, 'review_id': max_review_id, 'thumbs_up_count': max_thumbs_up}, ignore_index=True) # type: ignore\n"
     ]
    },
    {
     "name": "stdout",
     "output_type": "stream",
     "text": [
      "Finding the review with the most thumbs up count containing \"the\"...\n"
     ]
    },
    {
     "name": "stderr",
     "output_type": "stream",
     "text": [
      "C:\\Users\\Harsh Clean\\AppData\\Local\\Temp\\ipykernel_14728\\2295723168.py:44: FutureWarning: The frame.append method is deprecated and will be removed from pandas in a future version. Use pandas.concat instead.\n",
      "  results_df = results_df.append({'ngram': ngram, 'word_count': word_count, 'review_id': max_review_id, 'thumbs_up_count': max_thumbs_up}, ignore_index=True) # type: ignore\n"
     ]
    },
    {
     "name": "stdout",
     "output_type": "stream",
     "text": [
      "Finding the review with the most thumbs up count containing \"this\"...\n"
     ]
    },
    {
     "name": "stderr",
     "output_type": "stream",
     "text": [
      "C:\\Users\\Harsh Clean\\AppData\\Local\\Temp\\ipykernel_14728\\2295723168.py:44: FutureWarning: The frame.append method is deprecated and will be removed from pandas in a future version. Use pandas.concat instead.\n",
      "  results_df = results_df.append({'ngram': ngram, 'word_count': word_count, 'review_id': max_review_id, 'thumbs_up_count': max_thumbs_up}, ignore_index=True) # type: ignore\n"
     ]
    },
    {
     "name": "stdout",
     "output_type": "stream",
     "text": [
      "Finding the review with the most thumbs up count containing \"my\"...\n"
     ]
    },
    {
     "name": "stderr",
     "output_type": "stream",
     "text": [
      "C:\\Users\\Harsh Clean\\AppData\\Local\\Temp\\ipykernel_14728\\2295723168.py:44: FutureWarning: The frame.append method is deprecated and will be removed from pandas in a future version. Use pandas.concat instead.\n",
      "  results_df = results_df.append({'ngram': ngram, 'word_count': word_count, 'review_id': max_review_id, 'thumbs_up_count': max_thumbs_up}, ignore_index=True) # type: ignore\n"
     ]
    },
    {
     "name": "stdout",
     "output_type": "stream",
     "text": [
      "Finding the review with the most thumbs up count containing \"not\"...\n"
     ]
    },
    {
     "name": "stderr",
     "output_type": "stream",
     "text": [
      "C:\\Users\\Harsh Clean\\AppData\\Local\\Temp\\ipykernel_14728\\2295723168.py:44: FutureWarning: The frame.append method is deprecated and will be removed from pandas in a future version. Use pandas.concat instead.\n",
      "  results_df = results_df.append({'ngram': ngram, 'word_count': word_count, 'review_id': max_review_id, 'thumbs_up_count': max_thumbs_up}, ignore_index=True) # type: ignore\n"
     ]
    },
    {
     "name": "stdout",
     "output_type": "stream",
     "text": [
      "Generating 2-grams...\n",
      "Finding the review with the most thumbs up count containing each 2-gram...\n",
      "Finding the review with the most thumbs up count containing \"this app\"...\n"
     ]
    },
    {
     "name": "stderr",
     "output_type": "stream",
     "text": [
      "C:\\Users\\Harsh Clean\\AppData\\Local\\Temp\\ipykernel_14728\\2295723168.py:44: FutureWarning: The frame.append method is deprecated and will be removed from pandas in a future version. Use pandas.concat instead.\n",
      "  results_df = results_df.append({'ngram': ngram, 'word_count': word_count, 'review_id': max_review_id, 'thumbs_up_count': max_thumbs_up}, ignore_index=True) # type: ignore\n"
     ]
    },
    {
     "name": "stdout",
     "output_type": "stream",
     "text": [
      "Finding the review with the most thumbs up count containing \"app for\"...\n"
     ]
    },
    {
     "name": "stderr",
     "output_type": "stream",
     "text": [
      "C:\\Users\\Harsh Clean\\AppData\\Local\\Temp\\ipykernel_14728\\2295723168.py:44: FutureWarning: The frame.append method is deprecated and will be removed from pandas in a future version. Use pandas.concat instead.\n",
      "  results_df = results_df.append({'ngram': ngram, 'word_count': word_count, 'review_id': max_review_id, 'thumbs_up_count': max_thumbs_up}, ignore_index=True) # type: ignore\n"
     ]
    },
    {
     "name": "stdout",
     "output_type": "stream",
     "text": [
      "Finding the review with the most thumbs up count containing \"is not\"...\n"
     ]
    },
    {
     "name": "stderr",
     "output_type": "stream",
     "text": [
      "C:\\Users\\Harsh Clean\\AppData\\Local\\Temp\\ipykernel_14728\\2295723168.py:44: FutureWarning: The frame.append method is deprecated and will be removed from pandas in a future version. Use pandas.concat instead.\n",
      "  results_df = results_df.append({'ngram': ngram, 'word_count': word_count, 'review_id': max_review_id, 'thumbs_up_count': max_thumbs_up}, ignore_index=True) # type: ignore\n"
     ]
    },
    {
     "name": "stdout",
     "output_type": "stream",
     "text": [
      "Finding the review with the most thumbs up count containing \"app is\"...\n"
     ]
    },
    {
     "name": "stderr",
     "output_type": "stream",
     "text": [
      "C:\\Users\\Harsh Clean\\AppData\\Local\\Temp\\ipykernel_14728\\2295723168.py:44: FutureWarning: The frame.append method is deprecated and will be removed from pandas in a future version. Use pandas.concat instead.\n",
      "  results_df = results_df.append({'ngram': ngram, 'word_count': word_count, 'review_id': max_review_id, 'thumbs_up_count': max_thumbs_up}, ignore_index=True) # type: ignore\n"
     ]
    },
    {
     "name": "stdout",
     "output_type": "stream",
     "text": [
      "Finding the review with the most thumbs up count containing \"nice app\"...\n"
     ]
    },
    {
     "name": "stderr",
     "output_type": "stream",
     "text": [
      "C:\\Users\\Harsh Clean\\AppData\\Local\\Temp\\ipykernel_14728\\2295723168.py:44: FutureWarning: The frame.append method is deprecated and will be removed from pandas in a future version. Use pandas.concat instead.\n",
      "  results_df = results_df.append({'ngram': ngram, 'word_count': word_count, 'review_id': max_review_id, 'thumbs_up_count': max_thumbs_up}, ignore_index=True) # type: ignore\n"
     ]
    },
    {
     "name": "stdout",
     "output_type": "stream",
     "text": [
      "Finding the review with the most thumbs up count containing \"good app\"...\n"
     ]
    },
    {
     "name": "stderr",
     "output_type": "stream",
     "text": [
      "C:\\Users\\Harsh Clean\\AppData\\Local\\Temp\\ipykernel_14728\\2295723168.py:44: FutureWarning: The frame.append method is deprecated and will be removed from pandas in a future version. Use pandas.concat instead.\n",
      "  results_df = results_df.append({'ngram': ngram, 'word_count': word_count, 'review_id': max_review_id, 'thumbs_up_count': max_thumbs_up}, ignore_index=True) # type: ignore\n"
     ]
    },
    {
     "name": "stdout",
     "output_type": "stream",
     "text": [
      "Finding the review with the most thumbs up count containing \"for teenagers\"...\n"
     ]
    },
    {
     "name": "stderr",
     "output_type": "stream",
     "text": [
      "C:\\Users\\Harsh Clean\\AppData\\Local\\Temp\\ipykernel_14728\\2295723168.py:44: FutureWarning: The frame.append method is deprecated and will be removed from pandas in a future version. Use pandas.concat instead.\n",
      "  results_df = results_df.append({'ngram': ngram, 'word_count': word_count, 'review_id': max_review_id, 'thumbs_up_count': max_thumbs_up}, ignore_index=True) # type: ignore\n"
     ]
    },
    {
     "name": "stdout",
     "output_type": "stream",
     "text": [
      "Finding the review with the most thumbs up count containing \"I am\"...\n"
     ]
    },
    {
     "name": "stderr",
     "output_type": "stream",
     "text": [
      "C:\\Users\\Harsh Clean\\AppData\\Local\\Temp\\ipykernel_14728\\2295723168.py:44: FutureWarning: The frame.append method is deprecated and will be removed from pandas in a future version. Use pandas.concat instead.\n",
      "  results_df = results_df.append({'ngram': ngram, 'word_count': word_count, 'review_id': max_review_id, 'thumbs_up_count': max_thumbs_up}, ignore_index=True) # type: ignore\n"
     ]
    },
    {
     "name": "stdout",
     "output_type": "stream",
     "text": [
      "Finding the review with the most thumbs up count containing \"is very\"...\n"
     ]
    },
    {
     "name": "stderr",
     "output_type": "stream",
     "text": [
      "C:\\Users\\Harsh Clean\\AppData\\Local\\Temp\\ipykernel_14728\\2295723168.py:44: FutureWarning: The frame.append method is deprecated and will be removed from pandas in a future version. Use pandas.concat instead.\n",
      "  results_df = results_df.append({'ngram': ngram, 'word_count': word_count, 'review_id': max_review_id, 'thumbs_up_count': max_thumbs_up}, ignore_index=True) # type: ignore\n"
     ]
    },
    {
     "name": "stdout",
     "output_type": "stream",
     "text": [
      "Finding the review with the most thumbs up count containing \"very good\"...\n"
     ]
    },
    {
     "name": "stderr",
     "output_type": "stream",
     "text": [
      "C:\\Users\\Harsh Clean\\AppData\\Local\\Temp\\ipykernel_14728\\2295723168.py:44: FutureWarning: The frame.append method is deprecated and will be removed from pandas in a future version. Use pandas.concat instead.\n",
      "  results_df = results_df.append({'ngram': ngram, 'word_count': word_count, 'review_id': max_review_id, 'thumbs_up_count': max_thumbs_up}, ignore_index=True) # type: ignore\n"
     ]
    },
    {
     "name": "stdout",
     "output_type": "stream",
     "text": [
      "Generating 3-grams...\n",
      "Finding the review with the most thumbs up count containing each 3-gram...\n",
      "Finding the review with the most thumbs up count containing \"This app is\"...\n"
     ]
    },
    {
     "name": "stderr",
     "output_type": "stream",
     "text": [
      "C:\\Users\\Harsh Clean\\AppData\\Local\\Temp\\ipykernel_14728\\2295723168.py:44: FutureWarning: The frame.append method is deprecated and will be removed from pandas in a future version. Use pandas.concat instead.\n",
      "  results_df = results_df.append({'ngram': ngram, 'word_count': word_count, 'review_id': max_review_id, 'thumbs_up_count': max_thumbs_up}, ignore_index=True) # type: ignore\n"
     ]
    },
    {
     "name": "stdout",
     "output_type": "stream",
     "text": [
      "Finding the review with the most thumbs up count containing \"app for teenagers\"...\n"
     ]
    },
    {
     "name": "stderr",
     "output_type": "stream",
     "text": [
      "C:\\Users\\Harsh Clean\\AppData\\Local\\Temp\\ipykernel_14728\\2295723168.py:44: FutureWarning: The frame.append method is deprecated and will be removed from pandas in a future version. Use pandas.concat instead.\n",
      "  results_df = results_df.append({'ngram': ngram, 'word_count': word_count, 'review_id': max_review_id, 'thumbs_up_count': max_thumbs_up}, ignore_index=True) # type: ignore\n"
     ]
    },
    {
     "name": "stdout",
     "output_type": "stream",
     "text": [
      "Finding the review with the most thumbs up count containing \"is not working\"...\n"
     ]
    },
    {
     "name": "stderr",
     "output_type": "stream",
     "text": [
      "C:\\Users\\Harsh Clean\\AppData\\Local\\Temp\\ipykernel_14728\\2295723168.py:44: FutureWarning: The frame.append method is deprecated and will be removed from pandas in a future version. Use pandas.concat instead.\n",
      "  results_df = results_df.append({'ngram': ngram, 'word_count': word_count, 'review_id': max_review_id, 'thumbs_up_count': max_thumbs_up}, ignore_index=True) # type: ignore\n"
     ]
    },
    {
     "name": "stdout",
     "output_type": "stream",
     "text": [
      "Finding the review with the most thumbs up count containing \"this app is\"...\n"
     ]
    },
    {
     "name": "stderr",
     "output_type": "stream",
     "text": [
      "C:\\Users\\Harsh Clean\\AppData\\Local\\Temp\\ipykernel_14728\\2295723168.py:44: FutureWarning: The frame.append method is deprecated and will be removed from pandas in a future version. Use pandas.concat instead.\n",
      "  results_df = results_df.append({'ngram': ngram, 'word_count': word_count, 'review_id': max_review_id, 'thumbs_up_count': max_thumbs_up}, ignore_index=True) # type: ignore\n"
     ]
    },
    {
     "name": "stdout",
     "output_type": "stream",
     "text": [
      "Finding the review with the most thumbs up count containing \"very good app\"...\n"
     ]
    },
    {
     "name": "stderr",
     "output_type": "stream",
     "text": [
      "C:\\Users\\Harsh Clean\\AppData\\Local\\Temp\\ipykernel_14728\\2295723168.py:44: FutureWarning: The frame.append method is deprecated and will be removed from pandas in a future version. Use pandas.concat instead.\n",
      "  results_df = results_df.append({'ngram': ngram, 'word_count': word_count, 'review_id': max_review_id, 'thumbs_up_count': max_thumbs_up}, ignore_index=True) # type: ignore\n"
     ]
    },
    {
     "name": "stdout",
     "output_type": "stream",
     "text": [
      "Finding the review with the most thumbs up count containing \"app is very\"...\n"
     ]
    },
    {
     "name": "stderr",
     "output_type": "stream",
     "text": [
      "C:\\Users\\Harsh Clean\\AppData\\Local\\Temp\\ipykernel_14728\\2295723168.py:44: FutureWarning: The frame.append method is deprecated and will be removed from pandas in a future version. Use pandas.concat instead.\n",
      "  results_df = results_df.append({'ngram': ngram, 'word_count': word_count, 'review_id': max_review_id, 'thumbs_up_count': max_thumbs_up}, ignore_index=True) # type: ignore\n"
     ]
    },
    {
     "name": "stdout",
     "output_type": "stream",
     "text": [
      "Finding the review with the most thumbs up count containing \"not able to\"...\n"
     ]
    },
    {
     "name": "stderr",
     "output_type": "stream",
     "text": [
      "C:\\Users\\Harsh Clean\\AppData\\Local\\Temp\\ipykernel_14728\\2295723168.py:44: FutureWarning: The frame.append method is deprecated and will be removed from pandas in a future version. Use pandas.concat instead.\n",
      "  results_df = results_df.append({'ngram': ngram, 'word_count': word_count, 'review_id': max_review_id, 'thumbs_up_count': max_thumbs_up}, ignore_index=True) # type: ignore\n"
     ]
    },
    {
     "name": "stdout",
     "output_type": "stream",
     "text": [
      "Finding the review with the most thumbs up count containing \"good app for\"...\n"
     ]
    },
    {
     "name": "stderr",
     "output_type": "stream",
     "text": [
      "C:\\Users\\Harsh Clean\\AppData\\Local\\Temp\\ipykernel_14728\\2295723168.py:44: FutureWarning: The frame.append method is deprecated and will be removed from pandas in a future version. Use pandas.concat instead.\n",
      "  results_df = results_df.append({'ngram': ngram, 'word_count': word_count, 'review_id': max_review_id, 'thumbs_up_count': max_thumbs_up}, ignore_index=True) # type: ignore\n"
     ]
    },
    {
     "name": "stdout",
     "output_type": "stream",
     "text": [
      "Finding the review with the most thumbs up count containing \"best app for\"...\n"
     ]
    },
    {
     "name": "stderr",
     "output_type": "stream",
     "text": [
      "C:\\Users\\Harsh Clean\\AppData\\Local\\Temp\\ipykernel_14728\\2295723168.py:44: FutureWarning: The frame.append method is deprecated and will be removed from pandas in a future version. Use pandas.concat instead.\n",
      "  results_df = results_df.append({'ngram': ngram, 'word_count': word_count, 'review_id': max_review_id, 'thumbs_up_count': max_thumbs_up}, ignore_index=True) # type: ignore\n"
     ]
    },
    {
     "name": "stdout",
     "output_type": "stream",
     "text": [
      "Finding the review with the most thumbs up count containing \"Best app for\"...\n"
     ]
    },
    {
     "name": "stderr",
     "output_type": "stream",
     "text": [
      "C:\\Users\\Harsh Clean\\AppData\\Local\\Temp\\ipykernel_14728\\2295723168.py:44: FutureWarning: The frame.append method is deprecated and will be removed from pandas in a future version. Use pandas.concat instead.\n",
      "  results_df = results_df.append({'ngram': ngram, 'word_count': word_count, 'review_id': max_review_id, 'thumbs_up_count': max_thumbs_up}, ignore_index=True) # type: ignore\n"
     ]
    },
    {
     "name": "stdout",
     "output_type": "stream",
     "text": [
      "Generating 4-grams...\n",
      "Finding the review with the most thumbs up count containing each 4-gram...\n",
      "Finding the review with the most thumbs up count containing \"This app is very\"...\n"
     ]
    },
    {
     "name": "stderr",
     "output_type": "stream",
     "text": [
      "C:\\Users\\Harsh Clean\\AppData\\Local\\Temp\\ipykernel_14728\\2295723168.py:44: FutureWarning: The frame.append method is deprecated and will be removed from pandas in a future version. Use pandas.concat instead.\n",
      "  results_df = results_df.append({'ngram': ngram, 'word_count': word_count, 'review_id': max_review_id, 'thumbs_up_count': max_thumbs_up}, ignore_index=True) # type: ignore\n"
     ]
    },
    {
     "name": "stdout",
     "output_type": "stream",
     "text": [
      "Finding the review with the most thumbs up count containing \"am not able to\"...\n"
     ]
    },
    {
     "name": "stderr",
     "output_type": "stream",
     "text": [
      "C:\\Users\\Harsh Clean\\AppData\\Local\\Temp\\ipykernel_14728\\2295723168.py:44: FutureWarning: The frame.append method is deprecated and will be removed from pandas in a future version. Use pandas.concat instead.\n",
      "  results_df = results_df.append({'ngram': ngram, 'word_count': word_count, 'review_id': max_review_id, 'thumbs_up_count': max_thumbs_up}, ignore_index=True) # type: ignore\n"
     ]
    },
    {
     "name": "stdout",
     "output_type": "stream",
     "text": [
      "Finding the review with the most thumbs up count containing \"I am not able\"...\n"
     ]
    },
    {
     "name": "stderr",
     "output_type": "stream",
     "text": [
      "C:\\Users\\Harsh Clean\\AppData\\Local\\Temp\\ipykernel_14728\\2295723168.py:44: FutureWarning: The frame.append method is deprecated and will be removed from pandas in a future version. Use pandas.concat instead.\n",
      "  results_df = results_df.append({'ngram': ngram, 'word_count': word_count, 'review_id': max_review_id, 'thumbs_up_count': max_thumbs_up}, ignore_index=True) # type: ignore\n"
     ]
    },
    {
     "name": "stdout",
     "output_type": "stream",
     "text": [
      "Finding the review with the most thumbs up count containing \"very good app for\"...\n"
     ]
    },
    {
     "name": "stderr",
     "output_type": "stream",
     "text": [
      "C:\\Users\\Harsh Clean\\AppData\\Local\\Temp\\ipykernel_14728\\2295723168.py:44: FutureWarning: The frame.append method is deprecated and will be removed from pandas in a future version. Use pandas.concat instead.\n",
      "  results_df = results_df.append({'ngram': ngram, 'word_count': word_count, 'review_id': max_review_id, 'thumbs_up_count': max_thumbs_up}, ignore_index=True) # type: ignore\n"
     ]
    },
    {
     "name": "stdout",
     "output_type": "stream",
     "text": [
      "Finding the review with the most thumbs up count containing \"app is very good\"...\n"
     ]
    },
    {
     "name": "stderr",
     "output_type": "stream",
     "text": [
      "C:\\Users\\Harsh Clean\\AppData\\Local\\Temp\\ipykernel_14728\\2295723168.py:44: FutureWarning: The frame.append method is deprecated and will be removed from pandas in a future version. Use pandas.concat instead.\n",
      "  results_df = results_df.append({'ngram': ngram, 'word_count': word_count, 'review_id': max_review_id, 'thumbs_up_count': max_thumbs_up}, ignore_index=True) # type: ignore\n"
     ]
    },
    {
     "name": "stdout",
     "output_type": "stream",
     "text": [
      "Finding the review with the most thumbs up count containing \"this app is very\"...\n"
     ]
    },
    {
     "name": "stderr",
     "output_type": "stream",
     "text": [
      "C:\\Users\\Harsh Clean\\AppData\\Local\\Temp\\ipykernel_14728\\2295723168.py:44: FutureWarning: The frame.append method is deprecated and will be removed from pandas in a future version. Use pandas.concat instead.\n",
      "  results_df = results_df.append({'ngram': ngram, 'word_count': word_count, 'review_id': max_review_id, 'thumbs_up_count': max_thumbs_up}, ignore_index=True) # type: ignore\n"
     ]
    },
    {
     "name": "stdout",
     "output_type": "stream",
     "text": [
      "Finding the review with the most thumbs up count containing \"I love this app\"...\n"
     ]
    },
    {
     "name": "stderr",
     "output_type": "stream",
     "text": [
      "C:\\Users\\Harsh Clean\\AppData\\Local\\Temp\\ipykernel_14728\\2295723168.py:44: FutureWarning: The frame.append method is deprecated and will be removed from pandas in a future version. Use pandas.concat instead.\n",
      "  results_df = results_df.append({'ngram': ngram, 'word_count': word_count, 'review_id': max_review_id, 'thumbs_up_count': max_thumbs_up}, ignore_index=True) # type: ignore\n"
     ]
    },
    {
     "name": "stdout",
     "output_type": "stream",
     "text": [
      "Finding the review with the most thumbs up count containing \"best app for teenagers\"...\n"
     ]
    },
    {
     "name": "stderr",
     "output_type": "stream",
     "text": [
      "C:\\Users\\Harsh Clean\\AppData\\Local\\Temp\\ipykernel_14728\\2295723168.py:44: FutureWarning: The frame.append method is deprecated and will be removed from pandas in a future version. Use pandas.concat instead.\n",
      "  results_df = results_df.append({'ngram': ngram, 'word_count': word_count, 'review_id': max_review_id, 'thumbs_up_count': max_thumbs_up}, ignore_index=True) # type: ignore\n"
     ]
    },
    {
     "name": "stdout",
     "output_type": "stream",
     "text": [
      "Finding the review with the most thumbs up count containing \"Best app for teenagers\"...\n"
     ]
    },
    {
     "name": "stderr",
     "output_type": "stream",
     "text": [
      "C:\\Users\\Harsh Clean\\AppData\\Local\\Temp\\ipykernel_14728\\2295723168.py:44: FutureWarning: The frame.append method is deprecated and will be removed from pandas in a future version. Use pandas.concat instead.\n",
      "  results_df = results_df.append({'ngram': ngram, 'word_count': word_count, 'review_id': max_review_id, 'thumbs_up_count': max_thumbs_up}, ignore_index=True) # type: ignore\n"
     ]
    },
    {
     "name": "stdout",
     "output_type": "stream",
     "text": [
      "Finding the review with the most thumbs up count containing \"good app for teenagers\"...\n"
     ]
    },
    {
     "name": "stderr",
     "output_type": "stream",
     "text": [
      "C:\\Users\\Harsh Clean\\AppData\\Local\\Temp\\ipykernel_14728\\2295723168.py:44: FutureWarning: The frame.append method is deprecated and will be removed from pandas in a future version. Use pandas.concat instead.\n",
      "  results_df = results_df.append({'ngram': ngram, 'word_count': word_count, 'review_id': max_review_id, 'thumbs_up_count': max_thumbs_up}, ignore_index=True) # type: ignore\n"
     ]
    },
    {
     "name": "stdout",
     "output_type": "stream",
     "text": [
      "Generating 5-grams...\n",
      "Finding the review with the most thumbs up count containing each 5-gram...\n",
      "Finding the review with the most thumbs up count containing \"I am not able to\"...\n"
     ]
    },
    {
     "name": "stderr",
     "output_type": "stream",
     "text": [
      "C:\\Users\\Harsh Clean\\AppData\\Local\\Temp\\ipykernel_14728\\2295723168.py:44: FutureWarning: The frame.append method is deprecated and will be removed from pandas in a future version. Use pandas.concat instead.\n",
      "  results_df = results_df.append({'ngram': ngram, 'word_count': word_count, 'review_id': max_review_id, 'thumbs_up_count': max_thumbs_up}, ignore_index=True) # type: ignore\n"
     ]
    },
    {
     "name": "stdout",
     "output_type": "stream",
     "text": [
      "Finding the review with the most thumbs up count containing \"This app is very good\"...\n"
     ]
    },
    {
     "name": "stderr",
     "output_type": "stream",
     "text": [
      "C:\\Users\\Harsh Clean\\AppData\\Local\\Temp\\ipykernel_14728\\2295723168.py:44: FutureWarning: The frame.append method is deprecated and will be removed from pandas in a future version. Use pandas.concat instead.\n",
      "  results_df = results_df.append({'ngram': ngram, 'word_count': word_count, 'review_id': max_review_id, 'thumbs_up_count': max_thumbs_up}, ignore_index=True) # type: ignore\n"
     ]
    },
    {
     "name": "stdout",
     "output_type": "stream",
     "text": [
      "Finding the review with the most thumbs up count containing \"is the best app for\"...\n"
     ]
    },
    {
     "name": "stderr",
     "output_type": "stream",
     "text": [
      "C:\\Users\\Harsh Clean\\AppData\\Local\\Temp\\ipykernel_14728\\2295723168.py:44: FutureWarning: The frame.append method is deprecated and will be removed from pandas in a future version. Use pandas.concat instead.\n",
      "  results_df = results_df.append({'ngram': ngram, 'word_count': word_count, 'review_id': max_review_id, 'thumbs_up_count': max_thumbs_up}, ignore_index=True) # type: ignore\n"
     ]
    },
    {
     "name": "stdout",
     "output_type": "stream",
     "text": [
      "Finding the review with the most thumbs up count containing \"i am not able to\"...\n"
     ]
    },
    {
     "name": "stderr",
     "output_type": "stream",
     "text": [
      "C:\\Users\\Harsh Clean\\AppData\\Local\\Temp\\ipykernel_14728\\2295723168.py:44: FutureWarning: The frame.append method is deprecated and will be removed from pandas in a future version. Use pandas.concat instead.\n",
      "  results_df = results_df.append({'ngram': ngram, 'word_count': word_count, 'review_id': max_review_id, 'thumbs_up_count': max_thumbs_up}, ignore_index=True) # type: ignore\n"
     ]
    },
    {
     "name": "stdout",
     "output_type": "stream",
     "text": [
      "Finding the review with the most thumbs up count containing \"very good app for teenagers\"...\n"
     ]
    },
    {
     "name": "stderr",
     "output_type": "stream",
     "text": [
      "C:\\Users\\Harsh Clean\\AppData\\Local\\Temp\\ipykernel_14728\\2295723168.py:44: FutureWarning: The frame.append method is deprecated and will be removed from pandas in a future version. Use pandas.concat instead.\n",
      "  results_df = results_df.append({'ngram': ngram, 'word_count': word_count, 'review_id': max_review_id, 'thumbs_up_count': max_thumbs_up}, ignore_index=True) # type: ignore\n"
     ]
    },
    {
     "name": "stdout",
     "output_type": "stream",
     "text": [
      "Finding the review with the most thumbs up count containing \"is a very good app\"...\n"
     ]
    },
    {
     "name": "stderr",
     "output_type": "stream",
     "text": [
      "C:\\Users\\Harsh Clean\\AppData\\Local\\Temp\\ipykernel_14728\\2295723168.py:44: FutureWarning: The frame.append method is deprecated and will be removed from pandas in a future version. Use pandas.concat instead.\n",
      "  results_df = results_df.append({'ngram': ngram, 'word_count': word_count, 'review_id': max_review_id, 'thumbs_up_count': max_thumbs_up}, ignore_index=True) # type: ignore\n"
     ]
    },
    {
     "name": "stdout",
     "output_type": "stream",
     "text": [
      "Finding the review with the most thumbs up count containing \"This app is good but\"...\n"
     ]
    },
    {
     "name": "stderr",
     "output_type": "stream",
     "text": [
      "C:\\Users\\Harsh Clean\\AppData\\Local\\Temp\\ipykernel_14728\\2295723168.py:44: FutureWarning: The frame.append method is deprecated and will be removed from pandas in a future version. Use pandas.concat instead.\n",
      "  results_df = results_df.append({'ngram': ngram, 'word_count': word_count, 'review_id': max_review_id, 'thumbs_up_count': max_thumbs_up}, ignore_index=True) # type: ignore\n"
     ]
    },
    {
     "name": "stdout",
     "output_type": "stream",
     "text": [
      "Finding the review with the most thumbs up count containing \"this app is very good\"...\n"
     ]
    },
    {
     "name": "stderr",
     "output_type": "stream",
     "text": [
      "C:\\Users\\Harsh Clean\\AppData\\Local\\Temp\\ipykernel_14728\\2295723168.py:44: FutureWarning: The frame.append method is deprecated and will be removed from pandas in a future version. Use pandas.concat instead.\n",
      "  results_df = results_df.append({'ngram': ngram, 'word_count': word_count, 'review_id': max_review_id, 'thumbs_up_count': max_thumbs_up}, ignore_index=True) # type: ignore\n"
     ]
    },
    {
     "name": "stdout",
     "output_type": "stream",
     "text": [
      "Finding the review with the most thumbs up count containing \"This is the best app\"...\n"
     ]
    },
    {
     "name": "stderr",
     "output_type": "stream",
     "text": [
      "C:\\Users\\Harsh Clean\\AppData\\Local\\Temp\\ipykernel_14728\\2295723168.py:44: FutureWarning: The frame.append method is deprecated and will be removed from pandas in a future version. Use pandas.concat instead.\n",
      "  results_df = results_df.append({'ngram': ngram, 'word_count': word_count, 'review_id': max_review_id, 'thumbs_up_count': max_thumbs_up}, ignore_index=True) # type: ignore\n"
     ]
    },
    {
     "name": "stdout",
     "output_type": "stream",
     "text": [
      "Finding the review with the most thumbs up count containing \"a very good app for\"...\n"
     ]
    },
    {
     "name": "stderr",
     "output_type": "stream",
     "text": [
      "C:\\Users\\Harsh Clean\\AppData\\Local\\Temp\\ipykernel_14728\\2295723168.py:44: FutureWarning: The frame.append method is deprecated and will be removed from pandas in a future version. Use pandas.concat instead.\n",
      "  results_df = results_df.append({'ngram': ngram, 'word_count': word_count, 'review_id': max_review_id, 'thumbs_up_count': max_thumbs_up}, ignore_index=True) # type: ignore\n"
     ]
    },
    {
     "name": "stdout",
     "output_type": "stream",
     "text": [
      "Generating 6-grams...\n",
      "Finding the review with the most thumbs up count containing each 6-gram...\n",
      "Finding the review with the most thumbs up count containing \"This is the best app for\"...\n"
     ]
    },
    {
     "name": "stderr",
     "output_type": "stream",
     "text": [
      "C:\\Users\\Harsh Clean\\AppData\\Local\\Temp\\ipykernel_14728\\2295723168.py:44: FutureWarning: The frame.append method is deprecated and will be removed from pandas in a future version. Use pandas.concat instead.\n",
      "  results_df = results_df.append({'ngram': ngram, 'word_count': word_count, 'review_id': max_review_id, 'thumbs_up_count': max_thumbs_up}, ignore_index=True) # type: ignore\n"
     ]
    },
    {
     "name": "stdout",
     "output_type": "stream",
     "text": [
      "Finding the review with the most thumbs up count containing \"is the best app for teenagers\"...\n"
     ]
    },
    {
     "name": "stderr",
     "output_type": "stream",
     "text": [
      "C:\\Users\\Harsh Clean\\AppData\\Local\\Temp\\ipykernel_14728\\2295723168.py:44: FutureWarning: The frame.append method is deprecated and will be removed from pandas in a future version. Use pandas.concat instead.\n",
      "  results_df = results_df.append({'ngram': ngram, 'word_count': word_count, 'review_id': max_review_id, 'thumbs_up_count': max_thumbs_up}, ignore_index=True) # type: ignore\n"
     ]
    },
    {
     "name": "stdout",
     "output_type": "stream",
     "text": [
      "Finding the review with the most thumbs up count containing \"is a very good app for\"...\n"
     ]
    },
    {
     "name": "stderr",
     "output_type": "stream",
     "text": [
      "C:\\Users\\Harsh Clean\\AppData\\Local\\Temp\\ipykernel_14728\\2295723168.py:44: FutureWarning: The frame.append method is deprecated and will be removed from pandas in a future version. Use pandas.concat instead.\n",
      "  results_df = results_df.append({'ngram': ngram, 'word_count': word_count, 'review_id': max_review_id, 'thumbs_up_count': max_thumbs_up}, ignore_index=True) # type: ignore\n"
     ]
    },
    {
     "name": "stdout",
     "output_type": "stream",
     "text": [
      "Finding the review with the most thumbs up count containing \"This is a very good app\"...\n"
     ]
    },
    {
     "name": "stderr",
     "output_type": "stream",
     "text": [
      "C:\\Users\\Harsh Clean\\AppData\\Local\\Temp\\ipykernel_14728\\2295723168.py:44: FutureWarning: The frame.append method is deprecated and will be removed from pandas in a future version. Use pandas.concat instead.\n",
      "  results_df = results_df.append({'ngram': ngram, 'word_count': word_count, 'review_id': max_review_id, 'thumbs_up_count': max_thumbs_up}, ignore_index=True) # type: ignore\n"
     ]
    },
    {
     "name": "stdout",
     "output_type": "stream",
     "text": [
      "Finding the review with the most thumbs up count containing \"I am not able to do\"...\n"
     ]
    },
    {
     "name": "stderr",
     "output_type": "stream",
     "text": [
      "C:\\Users\\Harsh Clean\\AppData\\Local\\Temp\\ipykernel_14728\\2295723168.py:44: FutureWarning: The frame.append method is deprecated and will be removed from pandas in a future version. Use pandas.concat instead.\n",
      "  results_df = results_df.append({'ngram': ngram, 'word_count': word_count, 'review_id': max_review_id, 'thumbs_up_count': max_thumbs_up}, ignore_index=True) # type: ignore\n"
     ]
    },
    {
     "name": "stdout",
     "output_type": "stream",
     "text": [
      "Finding the review with the most thumbs up count containing \"This app is very useful for\"...\n"
     ]
    },
    {
     "name": "stderr",
     "output_type": "stream",
     "text": [
      "C:\\Users\\Harsh Clean\\AppData\\Local\\Temp\\ipykernel_14728\\2295723168.py:44: FutureWarning: The frame.append method is deprecated and will be removed from pandas in a future version. Use pandas.concat instead.\n",
      "  results_df = results_df.append({'ngram': ngram, 'word_count': word_count, 'review_id': max_review_id, 'thumbs_up_count': max_thumbs_up}, ignore_index=True) # type: ignore\n"
     ]
    },
    {
     "name": "stdout",
     "output_type": "stream",
     "text": [
      "Finding the review with the most thumbs up count containing \"this is the best app for\"...\n"
     ]
    },
    {
     "name": "stderr",
     "output_type": "stream",
     "text": [
      "C:\\Users\\Harsh Clean\\AppData\\Local\\Temp\\ipykernel_14728\\2295723168.py:44: FutureWarning: The frame.append method is deprecated and will be removed from pandas in a future version. Use pandas.concat instead.\n",
      "  results_df = results_df.append({'ngram': ngram, 'word_count': word_count, 'review_id': max_review_id, 'thumbs_up_count': max_thumbs_up}, ignore_index=True) # type: ignore\n"
     ]
    },
    {
     "name": "stdout",
     "output_type": "stream",
     "text": [
      "Finding the review with the most thumbs up count containing \"This app is very good for\"...\n"
     ]
    },
    {
     "name": "stderr",
     "output_type": "stream",
     "text": [
      "C:\\Users\\Harsh Clean\\AppData\\Local\\Temp\\ipykernel_14728\\2295723168.py:44: FutureWarning: The frame.append method is deprecated and will be removed from pandas in a future version. Use pandas.concat instead.\n",
      "  results_df = results_df.append({'ngram': ngram, 'word_count': word_count, 'review_id': max_review_id, 'thumbs_up_count': max_thumbs_up}, ignore_index=True) # type: ignore\n"
     ]
    },
    {
     "name": "stdout",
     "output_type": "stream",
     "text": [
      "Finding the review with the most thumbs up count containing \"I am not able to see\"...\n"
     ]
    },
    {
     "name": "stderr",
     "output_type": "stream",
     "text": [
      "C:\\Users\\Harsh Clean\\AppData\\Local\\Temp\\ipykernel_14728\\2295723168.py:44: FutureWarning: The frame.append method is deprecated and will be removed from pandas in a future version. Use pandas.concat instead.\n",
      "  results_df = results_df.append({'ngram': ngram, 'word_count': word_count, 'review_id': max_review_id, 'thumbs_up_count': max_thumbs_up}, ignore_index=True) # type: ignore\n"
     ]
    },
    {
     "name": "stdout",
     "output_type": "stream",
     "text": [
      "Finding the review with the most thumbs up count containing \"I am not able to pay\"...\n"
     ]
    },
    {
     "name": "stderr",
     "output_type": "stream",
     "text": [
      "C:\\Users\\Harsh Clean\\AppData\\Local\\Temp\\ipykernel_14728\\2295723168.py:44: FutureWarning: The frame.append method is deprecated and will be removed from pandas in a future version. Use pandas.concat instead.\n",
      "  results_df = results_df.append({'ngram': ngram, 'word_count': word_count, 'review_id': max_review_id, 'thumbs_up_count': max_thumbs_up}, ignore_index=True) # type: ignore\n"
     ]
    },
    {
     "name": "stdout",
     "output_type": "stream",
     "text": [
      "Generating 7-grams...\n",
      "Finding the review with the most thumbs up count containing each 7-gram...\n",
      "Finding the review with the most thumbs up count containing \"I am not able to see my\"...\n"
     ]
    },
    {
     "name": "stderr",
     "output_type": "stream",
     "text": [
      "C:\\Users\\Harsh Clean\\AppData\\Local\\Temp\\ipykernel_14728\\2295723168.py:44: FutureWarning: The frame.append method is deprecated and will be removed from pandas in a future version. Use pandas.concat instead.\n",
      "  results_df = results_df.append({'ngram': ngram, 'word_count': word_count, 'review_id': max_review_id, 'thumbs_up_count': max_thumbs_up}, ignore_index=True) # type: ignore\n"
     ]
    },
    {
     "name": "stdout",
     "output_type": "stream",
     "text": [
      "Finding the review with the most thumbs up count containing \"This is a very good app for\"...\n"
     ]
    },
    {
     "name": "stderr",
     "output_type": "stream",
     "text": [
      "C:\\Users\\Harsh Clean\\AppData\\Local\\Temp\\ipykernel_14728\\2295723168.py:44: FutureWarning: The frame.append method is deprecated and will be removed from pandas in a future version. Use pandas.concat instead.\n",
      "  results_df = results_df.append({'ngram': ngram, 'word_count': word_count, 'review_id': max_review_id, 'thumbs_up_count': max_thumbs_up}, ignore_index=True) # type: ignore\n",
      "C:\\Users\\Harsh Clean\\AppData\\Local\\Temp\\ipykernel_14728\\2295723168.py:44: FutureWarning: The frame.append method is deprecated and will be removed from pandas in a future version. Use pandas.concat instead.\n",
      "  results_df = results_df.append({'ngram': ngram, 'word_count': word_count, 'review_id': max_review_id, 'thumbs_up_count': max_thumbs_up}, ignore_index=True) # type: ignore\n"
     ]
    },
    {
     "name": "stdout",
     "output_type": "stream",
     "text": [
      "Finding the review with the most thumbs up count containing \"This is the best app for teenagers\"...\n",
      "Finding the review with the most thumbs up count containing \"This app is very useful for teenagers\"...\n"
     ]
    },
    {
     "name": "stderr",
     "output_type": "stream",
     "text": [
      "C:\\Users\\Harsh Clean\\AppData\\Local\\Temp\\ipykernel_14728\\2295723168.py:44: FutureWarning: The frame.append method is deprecated and will be removed from pandas in a future version. Use pandas.concat instead.\n",
      "  results_df = results_df.append({'ngram': ngram, 'word_count': word_count, 'review_id': max_review_id, 'thumbs_up_count': max_thumbs_up}, ignore_index=True) # type: ignore\n"
     ]
    },
    {
     "name": "stdout",
     "output_type": "stream",
     "text": [
      "Finding the review with the most thumbs up count containing \"I have been using this app for\"...\n"
     ]
    },
    {
     "name": "stderr",
     "output_type": "stream",
     "text": [
      "C:\\Users\\Harsh Clean\\AppData\\Local\\Temp\\ipykernel_14728\\2295723168.py:44: FutureWarning: The frame.append method is deprecated and will be removed from pandas in a future version. Use pandas.concat instead.\n",
      "  results_df = results_df.append({'ngram': ngram, 'word_count': word_count, 'review_id': max_review_id, 'thumbs_up_count': max_thumbs_up}, ignore_index=True) # type: ignore\n"
     ]
    },
    {
     "name": "stdout",
     "output_type": "stream",
     "text": [
      "Finding the review with the most thumbs up count containing \"this is the best app for teenagers\"...\n"
     ]
    },
    {
     "name": "stderr",
     "output_type": "stream",
     "text": [
      "C:\\Users\\Harsh Clean\\AppData\\Local\\Temp\\ipykernel_14728\\2295723168.py:44: FutureWarning: The frame.append method is deprecated and will be removed from pandas in a future version. Use pandas.concat instead.\n",
      "  results_df = results_df.append({'ngram': ngram, 'word_count': word_count, 'review_id': max_review_id, 'thumbs_up_count': max_thumbs_up}, ignore_index=True) # type: ignore\n"
     ]
    },
    {
     "name": "stdout",
     "output_type": "stream",
     "text": [
      "Finding the review with the most thumbs up count containing \"am not able to see my card\"...\n"
     ]
    },
    {
     "name": "stderr",
     "output_type": "stream",
     "text": [
      "C:\\Users\\Harsh Clean\\AppData\\Local\\Temp\\ipykernel_14728\\2295723168.py:44: FutureWarning: The frame.append method is deprecated and will be removed from pandas in a future version. Use pandas.concat instead.\n",
      "  results_df = results_df.append({'ngram': ngram, 'word_count': word_count, 'review_id': max_review_id, 'thumbs_up_count': max_thumbs_up}, ignore_index=True) # type: ignore\n"
     ]
    },
    {
     "name": "stdout",
     "output_type": "stream",
     "text": [
      "Finding the review with the most thumbs up count containing \"is one of the best app for\"...\n"
     ]
    },
    {
     "name": "stderr",
     "output_type": "stream",
     "text": [
      "C:\\Users\\Harsh Clean\\AppData\\Local\\Temp\\ipykernel_14728\\2295723168.py:44: FutureWarning: The frame.append method is deprecated and will be removed from pandas in a future version. Use pandas.concat instead.\n",
      "  results_df = results_df.append({'ngram': ngram, 'word_count': word_count, 'review_id': max_review_id, 'thumbs_up_count': max_thumbs_up}, ignore_index=True) # type: ignore\n"
     ]
    },
    {
     "name": "stdout",
     "output_type": "stream",
     "text": [
      "Finding the review with the most thumbs up count containing \"I am not able to send money\"...\n"
     ]
    },
    {
     "name": "stderr",
     "output_type": "stream",
     "text": [
      "C:\\Users\\Harsh Clean\\AppData\\Local\\Temp\\ipykernel_14728\\2295723168.py:44: FutureWarning: The frame.append method is deprecated and will be removed from pandas in a future version. Use pandas.concat instead.\n",
      "  results_df = results_df.append({'ngram': ngram, 'word_count': word_count, 'review_id': max_review_id, 'thumbs_up_count': max_thumbs_up}, ignore_index=True) # type: ignore\n"
     ]
    },
    {
     "name": "stdout",
     "output_type": "stream",
     "text": [
      "Finding the review with the most thumbs up count containing \"for teenagers so I would highly recommend\"...\n"
     ]
    },
    {
     "name": "stderr",
     "output_type": "stream",
     "text": [
      "C:\\Users\\Harsh Clean\\AppData\\Local\\Temp\\ipykernel_14728\\2295723168.py:44: FutureWarning: The frame.append method is deprecated and will be removed from pandas in a future version. Use pandas.concat instead.\n",
      "  results_df = results_df.append({'ngram': ngram, 'word_count': word_count, 'review_id': max_review_id, 'thumbs_up_count': max_thumbs_up}, ignore_index=True) # type: ignore\n"
     ]
    },
    {
     "name": "stdout",
     "output_type": "stream",
     "text": [
      "Generating 8-grams...\n",
      "Finding the review with the most thumbs up count containing each 8-gram...\n",
      "Finding the review with the most thumbs up count containing \"are currently building the fam experience for your\"...\n"
     ]
    },
    {
     "name": "stderr",
     "output_type": "stream",
     "text": [
      "C:\\Users\\Harsh Clean\\AppData\\Local\\Temp\\ipykernel_14728\\2295723168.py:44: FutureWarning: The frame.append method is deprecated and will be removed from pandas in a future version. Use pandas.concat instead.\n",
      "  results_df = results_df.append({'ngram': ngram, 'word_count': word_count, 'review_id': max_review_id, 'thumbs_up_count': max_thumbs_up}, ignore_index=True) # type: ignore\n"
     ]
    },
    {
     "name": "stdout",
     "output_type": "stream",
     "text": [
      "Finding the review with the most thumbs up count containing \"I am not able to see my card\"...\n"
     ]
    },
    {
     "name": "stderr",
     "output_type": "stream",
     "text": [
      "C:\\Users\\Harsh Clean\\AppData\\Local\\Temp\\ipykernel_14728\\2295723168.py:44: FutureWarning: The frame.append method is deprecated and will be removed from pandas in a future version. Use pandas.concat instead.\n",
      "  results_df = results_df.append({'ngram': ngram, 'word_count': word_count, 'review_id': max_review_id, 'thumbs_up_count': max_thumbs_up}, ignore_index=True) # type: ignore\n"
     ]
    },
    {
     "name": "stdout",
     "output_type": "stream",
     "text": [
      "Finding the review with the most thumbs up count containing \"for teenagers so I would highly recommend this\"...\n"
     ]
    },
    {
     "name": "stderr",
     "output_type": "stream",
     "text": [
      "C:\\Users\\Harsh Clean\\AppData\\Local\\Temp\\ipykernel_14728\\2295723168.py:44: FutureWarning: The frame.append method is deprecated and will be removed from pandas in a future version. Use pandas.concat instead.\n",
      "  results_df = results_df.append({'ngram': ngram, 'word_count': word_count, 'review_id': max_review_id, 'thumbs_up_count': max_thumbs_up}, ignore_index=True) # type: ignore\n"
     ]
    },
    {
     "name": "stdout",
     "output_type": "stream",
     "text": [
      "Finding the review with the most thumbs up count containing \"we are currently building the fam experience for\"...\n"
     ]
    },
    {
     "name": "stderr",
     "output_type": "stream",
     "text": [
      "C:\\Users\\Harsh Clean\\AppData\\Local\\Temp\\ipykernel_14728\\2295723168.py:44: FutureWarning: The frame.append method is deprecated and will be removed from pandas in a future version. Use pandas.concat instead.\n",
      "  results_df = results_df.append({'ngram': ngram, 'word_count': word_count, 'review_id': max_review_id, 'thumbs_up_count': max_thumbs_up}, ignore_index=True) # type: ignore\n"
     ]
    },
    {
     "name": "stdout",
     "output_type": "stream",
     "text": [
      "Finding the review with the most thumbs up count containing \"debit card app which is specially made for\"...\n",
      "Finding the review with the most thumbs up count containing \"app in my phone which is specially made\"...\n"
     ]
    },
    {
     "name": "stderr",
     "output_type": "stream",
     "text": [
      "C:\\Users\\Harsh Clean\\AppData\\Local\\Temp\\ipykernel_14728\\2295723168.py:44: FutureWarning: The frame.append method is deprecated and will be removed from pandas in a future version. Use pandas.concat instead.\n",
      "  results_df = results_df.append({'ngram': ngram, 'word_count': word_count, 'review_id': max_review_id, 'thumbs_up_count': max_thumbs_up}, ignore_index=True) # type: ignore\n",
      "C:\\Users\\Harsh Clean\\AppData\\Local\\Temp\\ipykernel_14728\\2295723168.py:44: FutureWarning: The frame.append method is deprecated and will be removed from pandas in a future version. Use pandas.concat instead.\n",
      "  results_df = results_df.append({'ngram': ngram, 'word_count': word_count, 'review_id': max_review_id, 'thumbs_up_count': max_thumbs_up}, ignore_index=True) # type: ignore\n"
     ]
    },
    {
     "name": "stdout",
     "output_type": "stream",
     "text": [
      "Finding the review with the most thumbs up count containing \"in my phone which is specially made for\"...\n"
     ]
    },
    {
     "name": "stderr",
     "output_type": "stream",
     "text": [
      "C:\\Users\\Harsh Clean\\AppData\\Local\\Temp\\ipykernel_14728\\2295723168.py:44: FutureWarning: The frame.append method is deprecated and will be removed from pandas in a future version. Use pandas.concat instead.\n",
      "  results_df = results_df.append({'ngram': ngram, 'word_count': word_count, 'review_id': max_review_id, 'thumbs_up_count': max_thumbs_up}, ignore_index=True) # type: ignore\n",
      "C:\\Users\\Harsh Clean\\AppData\\Local\\Temp\\ipykernel_14728\\2295723168.py:44: FutureWarning: The frame.append method is deprecated and will be removed from pandas in a future version. Use pandas.concat instead.\n",
      "  results_df = results_df.append({'ngram': ngram, 'word_count': word_count, 'review_id': max_review_id, 'thumbs_up_count': max_thumbs_up}, ignore_index=True) # type: ignore\n"
     ]
    },
    {
     "name": "stdout",
     "output_type": "stream",
     "text": [
      "Finding the review with the most thumbs up count containing \"so I would highly recommend this app to\"...\n",
      "Finding the review with the most thumbs up count containing \"my phone which is specially made for teenagers\"...\n"
     ]
    },
    {
     "name": "stderr",
     "output_type": "stream",
     "text": [
      "C:\\Users\\Harsh Clean\\AppData\\Local\\Temp\\ipykernel_14728\\2295723168.py:44: FutureWarning: The frame.append method is deprecated and will be removed from pandas in a future version. Use pandas.concat instead.\n",
      "  results_df = results_df.append({'ngram': ngram, 'word_count': word_count, 'review_id': max_review_id, 'thumbs_up_count': max_thumbs_up}, ignore_index=True) # type: ignore\n"
     ]
    },
    {
     "name": "stdout",
     "output_type": "stream",
     "text": [
      "Finding the review with the most thumbs up count containing \"app I have ever seen in my life\"...\n"
     ]
    },
    {
     "name": "stderr",
     "output_type": "stream",
     "text": [
      "C:\\Users\\Harsh Clean\\AppData\\Local\\Temp\\ipykernel_14728\\2295723168.py:44: FutureWarning: The frame.append method is deprecated and will be removed from pandas in a future version. Use pandas.concat instead.\n",
      "  results_df = results_df.append({'ngram': ngram, 'word_count': word_count, 'review_id': max_review_id, 'thumbs_up_count': max_thumbs_up}, ignore_index=True) # type: ignore\n"
     ]
    },
    {
     "name": "stdout",
     "output_type": "stream",
     "text": [
      "Generating 9-grams...\n",
      "Finding the review with the most thumbs up count containing each 9-gram...\n",
      "Finding the review with the most thumbs up count containing \"we are currently building the fam experience for your\"...\n"
     ]
    },
    {
     "name": "stderr",
     "output_type": "stream",
     "text": [
      "C:\\Users\\Harsh Clean\\AppData\\Local\\Temp\\ipykernel_14728\\2295723168.py:44: FutureWarning: The frame.append method is deprecated and will be removed from pandas in a future version. Use pandas.concat instead.\n",
      "  results_df = results_df.append({'ngram': ngram, 'word_count': word_count, 'review_id': max_review_id, 'thumbs_up_count': max_thumbs_up}, ignore_index=True) # type: ignore\n"
     ]
    },
    {
     "name": "stdout",
     "output_type": "stream",
     "text": [
      "Finding the review with the most thumbs up count containing \"app in my phone which is specially made for\"...\n"
     ]
    },
    {
     "name": "stderr",
     "output_type": "stream",
     "text": [
      "C:\\Users\\Harsh Clean\\AppData\\Local\\Temp\\ipykernel_14728\\2295723168.py:44: FutureWarning: The frame.append method is deprecated and will be removed from pandas in a future version. Use pandas.concat instead.\n",
      "  results_df = results_df.append({'ngram': ngram, 'word_count': word_count, 'review_id': max_review_id, 'thumbs_up_count': max_thumbs_up}, ignore_index=True) # type: ignore\n"
     ]
    },
    {
     "name": "stdout",
     "output_type": "stream",
     "text": [
      "Finding the review with the most thumbs up count containing \"in my phone which is specially made for teenagers\"...\n"
     ]
    },
    {
     "name": "stderr",
     "output_type": "stream",
     "text": [
      "C:\\Users\\Harsh Clean\\AppData\\Local\\Temp\\ipykernel_14728\\2295723168.py:44: FutureWarning: The frame.append method is deprecated and will be removed from pandas in a future version. Use pandas.concat instead.\n",
      "  results_df = results_df.append({'ngram': ngram, 'word_count': word_count, 'review_id': max_review_id, 'thumbs_up_count': max_thumbs_up}, ignore_index=True) # type: ignore\n"
     ]
    },
    {
     "name": "stdout",
     "output_type": "stream",
     "text": [
      "Finding the review with the most thumbs up count containing \"is the best debit card for teenagers, lovely tool\"...\n"
     ]
    },
    {
     "name": "stderr",
     "output_type": "stream",
     "text": [
      "C:\\Users\\Harsh Clean\\AppData\\Local\\Temp\\ipykernel_14728\\2295723168.py:44: FutureWarning: The frame.append method is deprecated and will be removed from pandas in a future version. Use pandas.concat instead.\n",
      "  results_df = results_df.append({'ngram': ngram, 'word_count': word_count, 'review_id': max_review_id, 'thumbs_up_count': max_thumbs_up}, ignore_index=True) # type: ignore\n"
     ]
    },
    {
     "name": "stdout",
     "output_type": "stream",
     "text": [
      "Finding the review with the most thumbs up count containing \"are currently building the fam experience for your location\"...\n"
     ]
    },
    {
     "name": "stderr",
     "output_type": "stream",
     "text": [
      "C:\\Users\\Harsh Clean\\AppData\\Local\\Temp\\ipykernel_14728\\2295723168.py:44: FutureWarning: The frame.append method is deprecated and will be removed from pandas in a future version. Use pandas.concat instead.\n",
      "  results_df = results_df.append({'ngram': ngram, 'word_count': word_count, 'review_id': max_review_id, 'thumbs_up_count': max_thumbs_up}, ignore_index=True) # type: ignore\n"
     ]
    },
    {
     "name": "stdout",
     "output_type": "stream",
     "text": [
      "Finding the review with the most thumbs up count containing \"apps available in play store but this FamPay app\"...\n"
     ]
    },
    {
     "name": "stderr",
     "output_type": "stream",
     "text": [
      "C:\\Users\\Harsh Clean\\AppData\\Local\\Temp\\ipykernel_14728\\2295723168.py:44: FutureWarning: The frame.append method is deprecated and will be removed from pandas in a future version. Use pandas.concat instead.\n",
      "  results_df = results_df.append({'ngram': ngram, 'word_count': word_count, 'review_id': max_review_id, 'thumbs_up_count': max_thumbs_up}, ignore_index=True) # type: ignore\n"
     ]
    },
    {
     "name": "stdout",
     "output_type": "stream",
     "text": [
      "Finding the review with the most thumbs up count containing \"available in play store but this FamPay app is\"...\n"
     ]
    },
    {
     "name": "stderr",
     "output_type": "stream",
     "text": [
      "C:\\Users\\Harsh Clean\\AppData\\Local\\Temp\\ipykernel_14728\\2295723168.py:44: FutureWarning: The frame.append method is deprecated and will be removed from pandas in a future version. Use pandas.concat instead.\n",
      "  results_df = results_df.append({'ngram': ngram, 'word_count': word_count, 'review_id': max_review_id, 'thumbs_up_count': max_thumbs_up}, ignore_index=True) # type: ignore\n"
     ]
    },
    {
     "name": "stdout",
     "output_type": "stream",
     "text": [
      "Finding the review with the most thumbs up count containing \"in play store but this FamPay app is really\"...\n"
     ]
    },
    {
     "name": "stderr",
     "output_type": "stream",
     "text": [
      "C:\\Users\\Harsh Clean\\AppData\\Local\\Temp\\ipykernel_14728\\2295723168.py:44: FutureWarning: The frame.append method is deprecated and will be removed from pandas in a future version. Use pandas.concat instead.\n",
      "  results_df = results_df.append({'ngram': ngram, 'word_count': word_count, 'review_id': max_review_id, 'thumbs_up_count': max_thumbs_up}, ignore_index=True) # type: ignore\n"
     ]
    },
    {
     "name": "stdout",
     "output_type": "stream",
     "text": [
      "Finding the review with the most thumbs up count containing \"the best debit card for teenagers who do well.\"...\n"
     ]
    },
    {
     "name": "stderr",
     "output_type": "stream",
     "text": [
      "C:\\Users\\Harsh Clean\\AppData\\Local\\Temp\\ipykernel_14728\\2295723168.py:44: FutureWarning: The frame.append method is deprecated and will be removed from pandas in a future version. Use pandas.concat instead.\n",
      "  results_df = results_df.append({'ngram': ngram, 'word_count': word_count, 'review_id': max_review_id, 'thumbs_up_count': max_thumbs_up}, ignore_index=True) # type: ignore\n"
     ]
    },
    {
     "name": "stdout",
     "output_type": "stream",
     "text": [
      "Finding the review with the most thumbs up count containing \"so I would highly recommend this card to everyone.\"...\n"
     ]
    },
    {
     "name": "stderr",
     "output_type": "stream",
     "text": [
      "C:\\Users\\Harsh Clean\\AppData\\Local\\Temp\\ipykernel_14728\\2295723168.py:44: FutureWarning: The frame.append method is deprecated and will be removed from pandas in a future version. Use pandas.concat instead.\n",
      "  results_df = results_df.append({'ngram': ngram, 'word_count': word_count, 'review_id': max_review_id, 'thumbs_up_count': max_thumbs_up}, ignore_index=True) # type: ignore\n"
     ]
    },
    {
     "name": "stdout",
     "output_type": "stream",
     "text": [
      "Generating 10-grams...\n",
      "Finding the review with the most thumbs up count containing each 10-gram...\n",
      "Finding the review with the most thumbs up count containing \"app in my phone which is specially made for teenagers\"...\n"
     ]
    },
    {
     "name": "stderr",
     "output_type": "stream",
     "text": [
      "C:\\Users\\Harsh Clean\\AppData\\Local\\Temp\\ipykernel_14728\\2295723168.py:44: FutureWarning: The frame.append method is deprecated and will be removed from pandas in a future version. Use pandas.concat instead.\n",
      "  results_df = results_df.append({'ngram': ngram, 'word_count': word_count, 'review_id': max_review_id, 'thumbs_up_count': max_thumbs_up}, ignore_index=True) # type: ignore\n"
     ]
    },
    {
     "name": "stdout",
     "output_type": "stream",
     "text": [
      "Finding the review with the most thumbs up count containing \"we are currently building the fam experience for your location\"...\n"
     ]
    },
    {
     "name": "stderr",
     "output_type": "stream",
     "text": [
      "C:\\Users\\Harsh Clean\\AppData\\Local\\Temp\\ipykernel_14728\\2295723168.py:44: FutureWarning: The frame.append method is deprecated and will be removed from pandas in a future version. Use pandas.concat instead.\n",
      "  results_df = results_df.append({'ngram': ngram, 'word_count': word_count, 'review_id': max_review_id, 'thumbs_up_count': max_thumbs_up}, ignore_index=True) # type: ignore\n"
     ]
    },
    {
     "name": "stdout",
     "output_type": "stream",
     "text": [
      "Finding the review with the most thumbs up count containing \"apps available in play store but this FamPay app is\"...\n"
     ]
    },
    {
     "name": "stderr",
     "output_type": "stream",
     "text": [
      "C:\\Users\\Harsh Clean\\AppData\\Local\\Temp\\ipykernel_14728\\2295723168.py:44: FutureWarning: The frame.append method is deprecated and will be removed from pandas in a future version. Use pandas.concat instead.\n",
      "  results_df = results_df.append({'ngram': ngram, 'word_count': word_count, 'review_id': max_review_id, 'thumbs_up_count': max_thumbs_up}, ignore_index=True) # type: ignore\n"
     ]
    },
    {
     "name": "stdout",
     "output_type": "stream",
     "text": [
      "Finding the review with the most thumbs up count containing \"available in play store but this FamPay app is really\"...\n"
     ]
    },
    {
     "name": "stderr",
     "output_type": "stream",
     "text": [
      "C:\\Users\\Harsh Clean\\AppData\\Local\\Temp\\ipykernel_14728\\2295723168.py:44: FutureWarning: The frame.append method is deprecated and will be removed from pandas in a future version. Use pandas.concat instead.\n",
      "  results_df = results_df.append({'ngram': ngram, 'word_count': word_count, 'review_id': max_review_id, 'thumbs_up_count': max_thumbs_up}, ignore_index=True) # type: ignore\n"
     ]
    },
    {
     "name": "stdout",
     "output_type": "stream",
     "text": [
      "Finding the review with the most thumbs up count containing \"app in market which is the best debit card for\"...\n"
     ]
    },
    {
     "name": "stderr",
     "output_type": "stream",
     "text": [
      "C:\\Users\\Harsh Clean\\AppData\\Local\\Temp\\ipykernel_14728\\2295723168.py:44: FutureWarning: The frame.append method is deprecated and will be removed from pandas in a future version. Use pandas.concat instead.\n",
      "  results_df = results_df.append({'ngram': ngram, 'word_count': word_count, 'review_id': max_review_id, 'thumbs_up_count': max_thumbs_up}, ignore_index=True) # type: ignore\n"
     ]
    },
    {
     "name": "stdout",
     "output_type": "stream",
     "text": [
      "Finding the review with the most thumbs up count containing \"in market which is the best debit card for teenagers,\"...\n"
     ]
    },
    {
     "name": "stderr",
     "output_type": "stream",
     "text": [
      "C:\\Users\\Harsh Clean\\AppData\\Local\\Temp\\ipykernel_14728\\2295723168.py:44: FutureWarning: The frame.append method is deprecated and will be removed from pandas in a future version. Use pandas.concat instead.\n",
      "  results_df = results_df.append({'ngram': ngram, 'word_count': word_count, 'review_id': max_review_id, 'thumbs_up_count': max_thumbs_up}, ignore_index=True) # type: ignore\n"
     ]
    },
    {
     "name": "stdout",
     "output_type": "stream",
     "text": [
      "Finding the review with the most thumbs up count containing \"market which is the best debit card for teenagers, lovely\"...\n"
     ]
    },
    {
     "name": "stderr",
     "output_type": "stream",
     "text": [
      "C:\\Users\\Harsh Clean\\AppData\\Local\\Temp\\ipykernel_14728\\2295723168.py:44: FutureWarning: The frame.append method is deprecated and will be removed from pandas in a future version. Use pandas.concat instead.\n",
      "  results_df = results_df.append({'ngram': ngram, 'word_count': word_count, 'review_id': max_review_id, 'thumbs_up_count': max_thumbs_up}, ignore_index=True) # type: ignore\n"
     ]
    },
    {
     "name": "stdout",
     "output_type": "stream",
     "text": [
      "Finding the review with the most thumbs up count containing \"which is the best debit card for teenagers, lovely tool\"...\n"
     ]
    },
    {
     "name": "stderr",
     "output_type": "stream",
     "text": [
      "C:\\Users\\Harsh Clean\\AppData\\Local\\Temp\\ipykernel_14728\\2295723168.py:44: FutureWarning: The frame.append method is deprecated and will be removed from pandas in a future version. Use pandas.concat instead.\n",
      "  results_df = results_df.append({'ngram': ngram, 'word_count': word_count, 'review_id': max_review_id, 'thumbs_up_count': max_thumbs_up}, ignore_index=True) # type: ignore\n"
     ]
    },
    {
     "name": "stdout",
     "output_type": "stream",
     "text": [
      "Finding the review with the most thumbs up count containing \"send money to an UPI address and it gives error\"...\n"
     ]
    },
    {
     "name": "stderr",
     "output_type": "stream",
     "text": [
      "C:\\Users\\Harsh Clean\\AppData\\Local\\Temp\\ipykernel_14728\\2295723168.py:44: FutureWarning: The frame.append method is deprecated and will be removed from pandas in a future version. Use pandas.concat instead.\n",
      "  results_df = results_df.append({'ngram': ngram, 'word_count': word_count, 'review_id': max_review_id, 'thumbs_up_count': max_thumbs_up}, ignore_index=True) # type: ignore\n"
     ]
    },
    {
     "name": "stdout",
     "output_type": "stream",
     "text": [
      "Finding the review with the most thumbs up count containing \"money to an UPI address and it gives error saying\"...\n"
     ]
    },
    {
     "name": "stderr",
     "output_type": "stream",
     "text": [
      "C:\\Users\\Harsh Clean\\AppData\\Local\\Temp\\ipykernel_14728\\2295723168.py:44: FutureWarning: The frame.append method is deprecated and will be removed from pandas in a future version. Use pandas.concat instead.\n",
      "  results_df = results_df.append({'ngram': ngram, 'word_count': word_count, 'review_id': max_review_id, 'thumbs_up_count': max_thumbs_up}, ignore_index=True) # type: ignore\n"
     ]
    },
    {
     "name": "stdout",
     "output_type": "stream",
     "text": [
      "Generating 1-grams...\n",
      "Finding the review with the most thumbs up count containing each 1-gram...\n",
      "Finding the review with the most thumbs up count containing \"app\"...\n"
     ]
    },
    {
     "name": "stderr",
     "output_type": "stream",
     "text": [
      "C:\\Users\\Harsh Clean\\AppData\\Local\\Temp\\ipykernel_14728\\2295723168.py:44: FutureWarning: The frame.append method is deprecated and will be removed from pandas in a future version. Use pandas.concat instead.\n",
      "  results_df = results_df.append({'ngram': ngram, 'word_count': word_count, 'review_id': max_review_id, 'thumbs_up_count': max_thumbs_up}, ignore_index=True) # type: ignore\n"
     ]
    },
    {
     "name": "stdout",
     "output_type": "stream",
     "text": [
      "Finding the review with the most thumbs up count containing \"is\"...\n"
     ]
    },
    {
     "name": "stderr",
     "output_type": "stream",
     "text": [
      "C:\\Users\\Harsh Clean\\AppData\\Local\\Temp\\ipykernel_14728\\2295723168.py:44: FutureWarning: The frame.append method is deprecated and will be removed from pandas in a future version. Use pandas.concat instead.\n",
      "  results_df = results_df.append({'ngram': ngram, 'word_count': word_count, 'review_id': max_review_id, 'thumbs_up_count': max_thumbs_up}, ignore_index=True) # type: ignore\n"
     ]
    },
    {
     "name": "stdout",
     "output_type": "stream",
     "text": [
      "Finding the review with the most thumbs up count containing \"I\"...\n"
     ]
    },
    {
     "name": "stderr",
     "output_type": "stream",
     "text": [
      "C:\\Users\\Harsh Clean\\AppData\\Local\\Temp\\ipykernel_14728\\2295723168.py:44: FutureWarning: The frame.append method is deprecated and will be removed from pandas in a future version. Use pandas.concat instead.\n",
      "  results_df = results_df.append({'ngram': ngram, 'word_count': word_count, 'review_id': max_review_id, 'thumbs_up_count': max_thumbs_up}, ignore_index=True) # type: ignore\n"
     ]
    },
    {
     "name": "stdout",
     "output_type": "stream",
     "text": [
      "Finding the review with the most thumbs up count containing \"to\"...\n"
     ]
    },
    {
     "name": "stderr",
     "output_type": "stream",
     "text": [
      "C:\\Users\\Harsh Clean\\AppData\\Local\\Temp\\ipykernel_14728\\2295723168.py:44: FutureWarning: The frame.append method is deprecated and will be removed from pandas in a future version. Use pandas.concat instead.\n",
      "  results_df = results_df.append({'ngram': ngram, 'word_count': word_count, 'review_id': max_review_id, 'thumbs_up_count': max_thumbs_up}, ignore_index=True) # type: ignore\n"
     ]
    },
    {
     "name": "stdout",
     "output_type": "stream",
     "text": [
      "Finding the review with the most thumbs up count containing \"and\"...\n"
     ]
    },
    {
     "name": "stderr",
     "output_type": "stream",
     "text": [
      "C:\\Users\\Harsh Clean\\AppData\\Local\\Temp\\ipykernel_14728\\2295723168.py:44: FutureWarning: The frame.append method is deprecated and will be removed from pandas in a future version. Use pandas.concat instead.\n",
      "  results_df = results_df.append({'ngram': ngram, 'word_count': word_count, 'review_id': max_review_id, 'thumbs_up_count': max_thumbs_up}, ignore_index=True) # type: ignore\n"
     ]
    },
    {
     "name": "stdout",
     "output_type": "stream",
     "text": [
      "Finding the review with the most thumbs up count containing \"for\"...\n"
     ]
    },
    {
     "name": "stderr",
     "output_type": "stream",
     "text": [
      "C:\\Users\\Harsh Clean\\AppData\\Local\\Temp\\ipykernel_14728\\2295723168.py:44: FutureWarning: The frame.append method is deprecated and will be removed from pandas in a future version. Use pandas.concat instead.\n",
      "  results_df = results_df.append({'ngram': ngram, 'word_count': word_count, 'review_id': max_review_id, 'thumbs_up_count': max_thumbs_up}, ignore_index=True) # type: ignore\n"
     ]
    },
    {
     "name": "stdout",
     "output_type": "stream",
     "text": [
      "Finding the review with the most thumbs up count containing \"the\"...\n"
     ]
    },
    {
     "name": "stderr",
     "output_type": "stream",
     "text": [
      "C:\\Users\\Harsh Clean\\AppData\\Local\\Temp\\ipykernel_14728\\2295723168.py:44: FutureWarning: The frame.append method is deprecated and will be removed from pandas in a future version. Use pandas.concat instead.\n",
      "  results_df = results_df.append({'ngram': ngram, 'word_count': word_count, 'review_id': max_review_id, 'thumbs_up_count': max_thumbs_up}, ignore_index=True) # type: ignore\n"
     ]
    },
    {
     "name": "stdout",
     "output_type": "stream",
     "text": [
      "Finding the review with the most thumbs up count containing \"this\"...\n"
     ]
    },
    {
     "name": "stderr",
     "output_type": "stream",
     "text": [
      "C:\\Users\\Harsh Clean\\AppData\\Local\\Temp\\ipykernel_14728\\2295723168.py:44: FutureWarning: The frame.append method is deprecated and will be removed from pandas in a future version. Use pandas.concat instead.\n",
      "  results_df = results_df.append({'ngram': ngram, 'word_count': word_count, 'review_id': max_review_id, 'thumbs_up_count': max_thumbs_up}, ignore_index=True) # type: ignore\n"
     ]
    },
    {
     "name": "stdout",
     "output_type": "stream",
     "text": [
      "Finding the review with the most thumbs up count containing \"my\"...\n"
     ]
    },
    {
     "name": "stderr",
     "output_type": "stream",
     "text": [
      "C:\\Users\\Harsh Clean\\AppData\\Local\\Temp\\ipykernel_14728\\2295723168.py:44: FutureWarning: The frame.append method is deprecated and will be removed from pandas in a future version. Use pandas.concat instead.\n",
      "  results_df = results_df.append({'ngram': ngram, 'word_count': word_count, 'review_id': max_review_id, 'thumbs_up_count': max_thumbs_up}, ignore_index=True) # type: ignore\n"
     ]
    },
    {
     "name": "stdout",
     "output_type": "stream",
     "text": [
      "Finding the review with the most thumbs up count containing \"not\"...\n"
     ]
    },
    {
     "name": "stderr",
     "output_type": "stream",
     "text": [
      "C:\\Users\\Harsh Clean\\AppData\\Local\\Temp\\ipykernel_14728\\2295723168.py:44: FutureWarning: The frame.append method is deprecated and will be removed from pandas in a future version. Use pandas.concat instead.\n",
      "  results_df = results_df.append({'ngram': ngram, 'word_count': word_count, 'review_id': max_review_id, 'thumbs_up_count': max_thumbs_up}, ignore_index=True) # type: ignore\n"
     ]
    },
    {
     "name": "stdout",
     "output_type": "stream",
     "text": [
      "Generating 2-grams...\n",
      "Finding the review with the most thumbs up count containing each 2-gram...\n",
      "Finding the review with the most thumbs up count containing \"this app\"...\n"
     ]
    },
    {
     "name": "stderr",
     "output_type": "stream",
     "text": [
      "C:\\Users\\Harsh Clean\\AppData\\Local\\Temp\\ipykernel_14728\\2295723168.py:44: FutureWarning: The frame.append method is deprecated and will be removed from pandas in a future version. Use pandas.concat instead.\n",
      "  results_df = results_df.append({'ngram': ngram, 'word_count': word_count, 'review_id': max_review_id, 'thumbs_up_count': max_thumbs_up}, ignore_index=True) # type: ignore\n"
     ]
    },
    {
     "name": "stdout",
     "output_type": "stream",
     "text": [
      "Finding the review with the most thumbs up count containing \"app for\"...\n"
     ]
    },
    {
     "name": "stderr",
     "output_type": "stream",
     "text": [
      "C:\\Users\\Harsh Clean\\AppData\\Local\\Temp\\ipykernel_14728\\2295723168.py:44: FutureWarning: The frame.append method is deprecated and will be removed from pandas in a future version. Use pandas.concat instead.\n",
      "  results_df = results_df.append({'ngram': ngram, 'word_count': word_count, 'review_id': max_review_id, 'thumbs_up_count': max_thumbs_up}, ignore_index=True) # type: ignore\n"
     ]
    },
    {
     "name": "stdout",
     "output_type": "stream",
     "text": [
      "Finding the review with the most thumbs up count containing \"is not\"...\n"
     ]
    },
    {
     "name": "stderr",
     "output_type": "stream",
     "text": [
      "C:\\Users\\Harsh Clean\\AppData\\Local\\Temp\\ipykernel_14728\\2295723168.py:44: FutureWarning: The frame.append method is deprecated and will be removed from pandas in a future version. Use pandas.concat instead.\n",
      "  results_df = results_df.append({'ngram': ngram, 'word_count': word_count, 'review_id': max_review_id, 'thumbs_up_count': max_thumbs_up}, ignore_index=True) # type: ignore\n"
     ]
    },
    {
     "name": "stdout",
     "output_type": "stream",
     "text": [
      "Finding the review with the most thumbs up count containing \"app is\"...\n"
     ]
    },
    {
     "name": "stderr",
     "output_type": "stream",
     "text": [
      "C:\\Users\\Harsh Clean\\AppData\\Local\\Temp\\ipykernel_14728\\2295723168.py:44: FutureWarning: The frame.append method is deprecated and will be removed from pandas in a future version. Use pandas.concat instead.\n",
      "  results_df = results_df.append({'ngram': ngram, 'word_count': word_count, 'review_id': max_review_id, 'thumbs_up_count': max_thumbs_up}, ignore_index=True) # type: ignore\n"
     ]
    },
    {
     "name": "stdout",
     "output_type": "stream",
     "text": [
      "Finding the review with the most thumbs up count containing \"nice app\"...\n"
     ]
    },
    {
     "name": "stderr",
     "output_type": "stream",
     "text": [
      "C:\\Users\\Harsh Clean\\AppData\\Local\\Temp\\ipykernel_14728\\2295723168.py:44: FutureWarning: The frame.append method is deprecated and will be removed from pandas in a future version. Use pandas.concat instead.\n",
      "  results_df = results_df.append({'ngram': ngram, 'word_count': word_count, 'review_id': max_review_id, 'thumbs_up_count': max_thumbs_up}, ignore_index=True) # type: ignore\n"
     ]
    },
    {
     "name": "stdout",
     "output_type": "stream",
     "text": [
      "Finding the review with the most thumbs up count containing \"good app\"...\n"
     ]
    },
    {
     "name": "stderr",
     "output_type": "stream",
     "text": [
      "C:\\Users\\Harsh Clean\\AppData\\Local\\Temp\\ipykernel_14728\\2295723168.py:44: FutureWarning: The frame.append method is deprecated and will be removed from pandas in a future version. Use pandas.concat instead.\n",
      "  results_df = results_df.append({'ngram': ngram, 'word_count': word_count, 'review_id': max_review_id, 'thumbs_up_count': max_thumbs_up}, ignore_index=True) # type: ignore\n"
     ]
    },
    {
     "name": "stdout",
     "output_type": "stream",
     "text": [
      "Finding the review with the most thumbs up count containing \"for teenagers\"...\n"
     ]
    },
    {
     "name": "stderr",
     "output_type": "stream",
     "text": [
      "C:\\Users\\Harsh Clean\\AppData\\Local\\Temp\\ipykernel_14728\\2295723168.py:44: FutureWarning: The frame.append method is deprecated and will be removed from pandas in a future version. Use pandas.concat instead.\n",
      "  results_df = results_df.append({'ngram': ngram, 'word_count': word_count, 'review_id': max_review_id, 'thumbs_up_count': max_thumbs_up}, ignore_index=True) # type: ignore\n"
     ]
    },
    {
     "name": "stdout",
     "output_type": "stream",
     "text": [
      "Finding the review with the most thumbs up count containing \"I am\"...\n"
     ]
    },
    {
     "name": "stderr",
     "output_type": "stream",
     "text": [
      "C:\\Users\\Harsh Clean\\AppData\\Local\\Temp\\ipykernel_14728\\2295723168.py:44: FutureWarning: The frame.append method is deprecated and will be removed from pandas in a future version. Use pandas.concat instead.\n",
      "  results_df = results_df.append({'ngram': ngram, 'word_count': word_count, 'review_id': max_review_id, 'thumbs_up_count': max_thumbs_up}, ignore_index=True) # type: ignore\n"
     ]
    },
    {
     "name": "stdout",
     "output_type": "stream",
     "text": [
      "Finding the review with the most thumbs up count containing \"is very\"...\n"
     ]
    },
    {
     "name": "stderr",
     "output_type": "stream",
     "text": [
      "C:\\Users\\Harsh Clean\\AppData\\Local\\Temp\\ipykernel_14728\\2295723168.py:44: FutureWarning: The frame.append method is deprecated and will be removed from pandas in a future version. Use pandas.concat instead.\n",
      "  results_df = results_df.append({'ngram': ngram, 'word_count': word_count, 'review_id': max_review_id, 'thumbs_up_count': max_thumbs_up}, ignore_index=True) # type: ignore\n"
     ]
    },
    {
     "name": "stdout",
     "output_type": "stream",
     "text": [
      "Finding the review with the most thumbs up count containing \"very good\"...\n"
     ]
    },
    {
     "name": "stderr",
     "output_type": "stream",
     "text": [
      "C:\\Users\\Harsh Clean\\AppData\\Local\\Temp\\ipykernel_14728\\2295723168.py:44: FutureWarning: The frame.append method is deprecated and will be removed from pandas in a future version. Use pandas.concat instead.\n",
      "  results_df = results_df.append({'ngram': ngram, 'word_count': word_count, 'review_id': max_review_id, 'thumbs_up_count': max_thumbs_up}, ignore_index=True) # type: ignore\n"
     ]
    },
    {
     "name": "stdout",
     "output_type": "stream",
     "text": [
      "Generating 3-grams...\n",
      "Finding the review with the most thumbs up count containing each 3-gram...\n",
      "Finding the review with the most thumbs up count containing \"This app is\"...\n"
     ]
    },
    {
     "name": "stderr",
     "output_type": "stream",
     "text": [
      "C:\\Users\\Harsh Clean\\AppData\\Local\\Temp\\ipykernel_14728\\2295723168.py:44: FutureWarning: The frame.append method is deprecated and will be removed from pandas in a future version. Use pandas.concat instead.\n",
      "  results_df = results_df.append({'ngram': ngram, 'word_count': word_count, 'review_id': max_review_id, 'thumbs_up_count': max_thumbs_up}, ignore_index=True) # type: ignore\n"
     ]
    },
    {
     "name": "stdout",
     "output_type": "stream",
     "text": [
      "Finding the review with the most thumbs up count containing \"app for teenagers\"...\n"
     ]
    },
    {
     "name": "stderr",
     "output_type": "stream",
     "text": [
      "C:\\Users\\Harsh Clean\\AppData\\Local\\Temp\\ipykernel_14728\\2295723168.py:44: FutureWarning: The frame.append method is deprecated and will be removed from pandas in a future version. Use pandas.concat instead.\n",
      "  results_df = results_df.append({'ngram': ngram, 'word_count': word_count, 'review_id': max_review_id, 'thumbs_up_count': max_thumbs_up}, ignore_index=True) # type: ignore\n"
     ]
    },
    {
     "name": "stdout",
     "output_type": "stream",
     "text": [
      "Finding the review with the most thumbs up count containing \"is not working\"...\n"
     ]
    },
    {
     "name": "stderr",
     "output_type": "stream",
     "text": [
      "C:\\Users\\Harsh Clean\\AppData\\Local\\Temp\\ipykernel_14728\\2295723168.py:44: FutureWarning: The frame.append method is deprecated and will be removed from pandas in a future version. Use pandas.concat instead.\n",
      "  results_df = results_df.append({'ngram': ngram, 'word_count': word_count, 'review_id': max_review_id, 'thumbs_up_count': max_thumbs_up}, ignore_index=True) # type: ignore\n"
     ]
    },
    {
     "name": "stdout",
     "output_type": "stream",
     "text": [
      "Finding the review with the most thumbs up count containing \"this app is\"...\n"
     ]
    },
    {
     "name": "stderr",
     "output_type": "stream",
     "text": [
      "C:\\Users\\Harsh Clean\\AppData\\Local\\Temp\\ipykernel_14728\\2295723168.py:44: FutureWarning: The frame.append method is deprecated and will be removed from pandas in a future version. Use pandas.concat instead.\n",
      "  results_df = results_df.append({'ngram': ngram, 'word_count': word_count, 'review_id': max_review_id, 'thumbs_up_count': max_thumbs_up}, ignore_index=True) # type: ignore\n"
     ]
    },
    {
     "name": "stdout",
     "output_type": "stream",
     "text": [
      "Finding the review with the most thumbs up count containing \"very good app\"...\n"
     ]
    },
    {
     "name": "stderr",
     "output_type": "stream",
     "text": [
      "C:\\Users\\Harsh Clean\\AppData\\Local\\Temp\\ipykernel_14728\\2295723168.py:44: FutureWarning: The frame.append method is deprecated and will be removed from pandas in a future version. Use pandas.concat instead.\n",
      "  results_df = results_df.append({'ngram': ngram, 'word_count': word_count, 'review_id': max_review_id, 'thumbs_up_count': max_thumbs_up}, ignore_index=True) # type: ignore\n"
     ]
    },
    {
     "name": "stdout",
     "output_type": "stream",
     "text": [
      "Finding the review with the most thumbs up count containing \"app is very\"...\n"
     ]
    },
    {
     "name": "stderr",
     "output_type": "stream",
     "text": [
      "C:\\Users\\Harsh Clean\\AppData\\Local\\Temp\\ipykernel_14728\\2295723168.py:44: FutureWarning: The frame.append method is deprecated and will be removed from pandas in a future version. Use pandas.concat instead.\n",
      "  results_df = results_df.append({'ngram': ngram, 'word_count': word_count, 'review_id': max_review_id, 'thumbs_up_count': max_thumbs_up}, ignore_index=True) # type: ignore\n"
     ]
    },
    {
     "name": "stdout",
     "output_type": "stream",
     "text": [
      "Finding the review with the most thumbs up count containing \"not able to\"...\n"
     ]
    },
    {
     "name": "stderr",
     "output_type": "stream",
     "text": [
      "C:\\Users\\Harsh Clean\\AppData\\Local\\Temp\\ipykernel_14728\\2295723168.py:44: FutureWarning: The frame.append method is deprecated and will be removed from pandas in a future version. Use pandas.concat instead.\n",
      "  results_df = results_df.append({'ngram': ngram, 'word_count': word_count, 'review_id': max_review_id, 'thumbs_up_count': max_thumbs_up}, ignore_index=True) # type: ignore\n"
     ]
    },
    {
     "name": "stdout",
     "output_type": "stream",
     "text": [
      "Finding the review with the most thumbs up count containing \"good app for\"...\n"
     ]
    },
    {
     "name": "stderr",
     "output_type": "stream",
     "text": [
      "C:\\Users\\Harsh Clean\\AppData\\Local\\Temp\\ipykernel_14728\\2295723168.py:44: FutureWarning: The frame.append method is deprecated and will be removed from pandas in a future version. Use pandas.concat instead.\n",
      "  results_df = results_df.append({'ngram': ngram, 'word_count': word_count, 'review_id': max_review_id, 'thumbs_up_count': max_thumbs_up}, ignore_index=True) # type: ignore\n"
     ]
    },
    {
     "name": "stdout",
     "output_type": "stream",
     "text": [
      "Finding the review with the most thumbs up count containing \"best app for\"...\n"
     ]
    },
    {
     "name": "stderr",
     "output_type": "stream",
     "text": [
      "C:\\Users\\Harsh Clean\\AppData\\Local\\Temp\\ipykernel_14728\\2295723168.py:44: FutureWarning: The frame.append method is deprecated and will be removed from pandas in a future version. Use pandas.concat instead.\n",
      "  results_df = results_df.append({'ngram': ngram, 'word_count': word_count, 'review_id': max_review_id, 'thumbs_up_count': max_thumbs_up}, ignore_index=True) # type: ignore\n"
     ]
    },
    {
     "name": "stdout",
     "output_type": "stream",
     "text": [
      "Finding the review with the most thumbs up count containing \"Best app for\"...\n"
     ]
    },
    {
     "name": "stderr",
     "output_type": "stream",
     "text": [
      "C:\\Users\\Harsh Clean\\AppData\\Local\\Temp\\ipykernel_14728\\2295723168.py:44: FutureWarning: The frame.append method is deprecated and will be removed from pandas in a future version. Use pandas.concat instead.\n",
      "  results_df = results_df.append({'ngram': ngram, 'word_count': word_count, 'review_id': max_review_id, 'thumbs_up_count': max_thumbs_up}, ignore_index=True) # type: ignore\n"
     ]
    },
    {
     "name": "stdout",
     "output_type": "stream",
     "text": [
      "Generating 4-grams...\n",
      "Finding the review with the most thumbs up count containing each 4-gram...\n",
      "Finding the review with the most thumbs up count containing \"This app is very\"...\n"
     ]
    },
    {
     "name": "stderr",
     "output_type": "stream",
     "text": [
      "C:\\Users\\Harsh Clean\\AppData\\Local\\Temp\\ipykernel_14728\\2295723168.py:44: FutureWarning: The frame.append method is deprecated and will be removed from pandas in a future version. Use pandas.concat instead.\n",
      "  results_df = results_df.append({'ngram': ngram, 'word_count': word_count, 'review_id': max_review_id, 'thumbs_up_count': max_thumbs_up}, ignore_index=True) # type: ignore\n"
     ]
    },
    {
     "name": "stdout",
     "output_type": "stream",
     "text": [
      "Finding the review with the most thumbs up count containing \"am not able to\"...\n"
     ]
    },
    {
     "name": "stderr",
     "output_type": "stream",
     "text": [
      "C:\\Users\\Harsh Clean\\AppData\\Local\\Temp\\ipykernel_14728\\2295723168.py:44: FutureWarning: The frame.append method is deprecated and will be removed from pandas in a future version. Use pandas.concat instead.\n",
      "  results_df = results_df.append({'ngram': ngram, 'word_count': word_count, 'review_id': max_review_id, 'thumbs_up_count': max_thumbs_up}, ignore_index=True) # type: ignore\n"
     ]
    },
    {
     "name": "stdout",
     "output_type": "stream",
     "text": [
      "Finding the review with the most thumbs up count containing \"I am not able\"...\n"
     ]
    },
    {
     "name": "stderr",
     "output_type": "stream",
     "text": [
      "C:\\Users\\Harsh Clean\\AppData\\Local\\Temp\\ipykernel_14728\\2295723168.py:44: FutureWarning: The frame.append method is deprecated and will be removed from pandas in a future version. Use pandas.concat instead.\n",
      "  results_df = results_df.append({'ngram': ngram, 'word_count': word_count, 'review_id': max_review_id, 'thumbs_up_count': max_thumbs_up}, ignore_index=True) # type: ignore\n"
     ]
    },
    {
     "name": "stdout",
     "output_type": "stream",
     "text": [
      "Finding the review with the most thumbs up count containing \"very good app for\"...\n"
     ]
    },
    {
     "name": "stderr",
     "output_type": "stream",
     "text": [
      "C:\\Users\\Harsh Clean\\AppData\\Local\\Temp\\ipykernel_14728\\2295723168.py:44: FutureWarning: The frame.append method is deprecated and will be removed from pandas in a future version. Use pandas.concat instead.\n",
      "  results_df = results_df.append({'ngram': ngram, 'word_count': word_count, 'review_id': max_review_id, 'thumbs_up_count': max_thumbs_up}, ignore_index=True) # type: ignore\n"
     ]
    },
    {
     "name": "stdout",
     "output_type": "stream",
     "text": [
      "Finding the review with the most thumbs up count containing \"app is very good\"...\n"
     ]
    },
    {
     "name": "stderr",
     "output_type": "stream",
     "text": [
      "C:\\Users\\Harsh Clean\\AppData\\Local\\Temp\\ipykernel_14728\\2295723168.py:44: FutureWarning: The frame.append method is deprecated and will be removed from pandas in a future version. Use pandas.concat instead.\n",
      "  results_df = results_df.append({'ngram': ngram, 'word_count': word_count, 'review_id': max_review_id, 'thumbs_up_count': max_thumbs_up}, ignore_index=True) # type: ignore\n"
     ]
    },
    {
     "name": "stdout",
     "output_type": "stream",
     "text": [
      "Finding the review with the most thumbs up count containing \"this app is very\"...\n"
     ]
    },
    {
     "name": "stderr",
     "output_type": "stream",
     "text": [
      "C:\\Users\\Harsh Clean\\AppData\\Local\\Temp\\ipykernel_14728\\2295723168.py:44: FutureWarning: The frame.append method is deprecated and will be removed from pandas in a future version. Use pandas.concat instead.\n",
      "  results_df = results_df.append({'ngram': ngram, 'word_count': word_count, 'review_id': max_review_id, 'thumbs_up_count': max_thumbs_up}, ignore_index=True) # type: ignore\n"
     ]
    },
    {
     "name": "stdout",
     "output_type": "stream",
     "text": [
      "Finding the review with the most thumbs up count containing \"I love this app\"...\n"
     ]
    },
    {
     "name": "stderr",
     "output_type": "stream",
     "text": [
      "C:\\Users\\Harsh Clean\\AppData\\Local\\Temp\\ipykernel_14728\\2295723168.py:44: FutureWarning: The frame.append method is deprecated and will be removed from pandas in a future version. Use pandas.concat instead.\n",
      "  results_df = results_df.append({'ngram': ngram, 'word_count': word_count, 'review_id': max_review_id, 'thumbs_up_count': max_thumbs_up}, ignore_index=True) # type: ignore\n"
     ]
    },
    {
     "name": "stdout",
     "output_type": "stream",
     "text": [
      "Finding the review with the most thumbs up count containing \"best app for teenagers\"...\n"
     ]
    },
    {
     "name": "stderr",
     "output_type": "stream",
     "text": [
      "C:\\Users\\Harsh Clean\\AppData\\Local\\Temp\\ipykernel_14728\\2295723168.py:44: FutureWarning: The frame.append method is deprecated and will be removed from pandas in a future version. Use pandas.concat instead.\n",
      "  results_df = results_df.append({'ngram': ngram, 'word_count': word_count, 'review_id': max_review_id, 'thumbs_up_count': max_thumbs_up}, ignore_index=True) # type: ignore\n"
     ]
    },
    {
     "name": "stdout",
     "output_type": "stream",
     "text": [
      "Finding the review with the most thumbs up count containing \"Best app for teenagers\"...\n"
     ]
    },
    {
     "name": "stderr",
     "output_type": "stream",
     "text": [
      "C:\\Users\\Harsh Clean\\AppData\\Local\\Temp\\ipykernel_14728\\2295723168.py:44: FutureWarning: The frame.append method is deprecated and will be removed from pandas in a future version. Use pandas.concat instead.\n",
      "  results_df = results_df.append({'ngram': ngram, 'word_count': word_count, 'review_id': max_review_id, 'thumbs_up_count': max_thumbs_up}, ignore_index=True) # type: ignore\n"
     ]
    },
    {
     "name": "stdout",
     "output_type": "stream",
     "text": [
      "Finding the review with the most thumbs up count containing \"good app for teenagers\"...\n"
     ]
    },
    {
     "name": "stderr",
     "output_type": "stream",
     "text": [
      "C:\\Users\\Harsh Clean\\AppData\\Local\\Temp\\ipykernel_14728\\2295723168.py:44: FutureWarning: The frame.append method is deprecated and will be removed from pandas in a future version. Use pandas.concat instead.\n",
      "  results_df = results_df.append({'ngram': ngram, 'word_count': word_count, 'review_id': max_review_id, 'thumbs_up_count': max_thumbs_up}, ignore_index=True) # type: ignore\n"
     ]
    },
    {
     "name": "stdout",
     "output_type": "stream",
     "text": [
      "Generating 5-grams...\n",
      "Finding the review with the most thumbs up count containing each 5-gram...\n",
      "Finding the review with the most thumbs up count containing \"I am not able to\"...\n"
     ]
    },
    {
     "name": "stderr",
     "output_type": "stream",
     "text": [
      "C:\\Users\\Harsh Clean\\AppData\\Local\\Temp\\ipykernel_14728\\2295723168.py:44: FutureWarning: The frame.append method is deprecated and will be removed from pandas in a future version. Use pandas.concat instead.\n",
      "  results_df = results_df.append({'ngram': ngram, 'word_count': word_count, 'review_id': max_review_id, 'thumbs_up_count': max_thumbs_up}, ignore_index=True) # type: ignore\n"
     ]
    },
    {
     "name": "stdout",
     "output_type": "stream",
     "text": [
      "Finding the review with the most thumbs up count containing \"This app is very good\"...\n"
     ]
    },
    {
     "name": "stderr",
     "output_type": "stream",
     "text": [
      "C:\\Users\\Harsh Clean\\AppData\\Local\\Temp\\ipykernel_14728\\2295723168.py:44: FutureWarning: The frame.append method is deprecated and will be removed from pandas in a future version. Use pandas.concat instead.\n",
      "  results_df = results_df.append({'ngram': ngram, 'word_count': word_count, 'review_id': max_review_id, 'thumbs_up_count': max_thumbs_up}, ignore_index=True) # type: ignore\n"
     ]
    },
    {
     "name": "stdout",
     "output_type": "stream",
     "text": [
      "Finding the review with the most thumbs up count containing \"is the best app for\"...\n"
     ]
    },
    {
     "name": "stderr",
     "output_type": "stream",
     "text": [
      "C:\\Users\\Harsh Clean\\AppData\\Local\\Temp\\ipykernel_14728\\2295723168.py:44: FutureWarning: The frame.append method is deprecated and will be removed from pandas in a future version. Use pandas.concat instead.\n",
      "  results_df = results_df.append({'ngram': ngram, 'word_count': word_count, 'review_id': max_review_id, 'thumbs_up_count': max_thumbs_up}, ignore_index=True) # type: ignore\n"
     ]
    },
    {
     "name": "stdout",
     "output_type": "stream",
     "text": [
      "Finding the review with the most thumbs up count containing \"i am not able to\"...\n"
     ]
    },
    {
     "name": "stderr",
     "output_type": "stream",
     "text": [
      "C:\\Users\\Harsh Clean\\AppData\\Local\\Temp\\ipykernel_14728\\2295723168.py:44: FutureWarning: The frame.append method is deprecated and will be removed from pandas in a future version. Use pandas.concat instead.\n",
      "  results_df = results_df.append({'ngram': ngram, 'word_count': word_count, 'review_id': max_review_id, 'thumbs_up_count': max_thumbs_up}, ignore_index=True) # type: ignore\n"
     ]
    },
    {
     "name": "stdout",
     "output_type": "stream",
     "text": [
      "Finding the review with the most thumbs up count containing \"very good app for teenagers\"...\n"
     ]
    },
    {
     "name": "stderr",
     "output_type": "stream",
     "text": [
      "C:\\Users\\Harsh Clean\\AppData\\Local\\Temp\\ipykernel_14728\\2295723168.py:44: FutureWarning: The frame.append method is deprecated and will be removed from pandas in a future version. Use pandas.concat instead.\n",
      "  results_df = results_df.append({'ngram': ngram, 'word_count': word_count, 'review_id': max_review_id, 'thumbs_up_count': max_thumbs_up}, ignore_index=True) # type: ignore\n"
     ]
    },
    {
     "name": "stdout",
     "output_type": "stream",
     "text": [
      "Finding the review with the most thumbs up count containing \"is a very good app\"...\n"
     ]
    },
    {
     "name": "stderr",
     "output_type": "stream",
     "text": [
      "C:\\Users\\Harsh Clean\\AppData\\Local\\Temp\\ipykernel_14728\\2295723168.py:44: FutureWarning: The frame.append method is deprecated and will be removed from pandas in a future version. Use pandas.concat instead.\n",
      "  results_df = results_df.append({'ngram': ngram, 'word_count': word_count, 'review_id': max_review_id, 'thumbs_up_count': max_thumbs_up}, ignore_index=True) # type: ignore\n"
     ]
    },
    {
     "name": "stdout",
     "output_type": "stream",
     "text": [
      "Finding the review with the most thumbs up count containing \"This app is good but\"...\n"
     ]
    },
    {
     "name": "stderr",
     "output_type": "stream",
     "text": [
      "C:\\Users\\Harsh Clean\\AppData\\Local\\Temp\\ipykernel_14728\\2295723168.py:44: FutureWarning: The frame.append method is deprecated and will be removed from pandas in a future version. Use pandas.concat instead.\n",
      "  results_df = results_df.append({'ngram': ngram, 'word_count': word_count, 'review_id': max_review_id, 'thumbs_up_count': max_thumbs_up}, ignore_index=True) # type: ignore\n"
     ]
    },
    {
     "name": "stdout",
     "output_type": "stream",
     "text": [
      "Finding the review with the most thumbs up count containing \"this app is very good\"...\n"
     ]
    },
    {
     "name": "stderr",
     "output_type": "stream",
     "text": [
      "C:\\Users\\Harsh Clean\\AppData\\Local\\Temp\\ipykernel_14728\\2295723168.py:44: FutureWarning: The frame.append method is deprecated and will be removed from pandas in a future version. Use pandas.concat instead.\n",
      "  results_df = results_df.append({'ngram': ngram, 'word_count': word_count, 'review_id': max_review_id, 'thumbs_up_count': max_thumbs_up}, ignore_index=True) # type: ignore\n"
     ]
    },
    {
     "name": "stdout",
     "output_type": "stream",
     "text": [
      "Finding the review with the most thumbs up count containing \"This is the best app\"...\n"
     ]
    },
    {
     "name": "stderr",
     "output_type": "stream",
     "text": [
      "C:\\Users\\Harsh Clean\\AppData\\Local\\Temp\\ipykernel_14728\\2295723168.py:44: FutureWarning: The frame.append method is deprecated and will be removed from pandas in a future version. Use pandas.concat instead.\n",
      "  results_df = results_df.append({'ngram': ngram, 'word_count': word_count, 'review_id': max_review_id, 'thumbs_up_count': max_thumbs_up}, ignore_index=True) # type: ignore\n"
     ]
    },
    {
     "name": "stdout",
     "output_type": "stream",
     "text": [
      "Finding the review with the most thumbs up count containing \"a very good app for\"...\n"
     ]
    },
    {
     "name": "stderr",
     "output_type": "stream",
     "text": [
      "C:\\Users\\Harsh Clean\\AppData\\Local\\Temp\\ipykernel_14728\\2295723168.py:44: FutureWarning: The frame.append method is deprecated and will be removed from pandas in a future version. Use pandas.concat instead.\n",
      "  results_df = results_df.append({'ngram': ngram, 'word_count': word_count, 'review_id': max_review_id, 'thumbs_up_count': max_thumbs_up}, ignore_index=True) # type: ignore\n"
     ]
    },
    {
     "name": "stdout",
     "output_type": "stream",
     "text": [
      "Generating 6-grams...\n",
      "Finding the review with the most thumbs up count containing each 6-gram...\n",
      "Finding the review with the most thumbs up count containing \"This is the best app for\"...\n"
     ]
    },
    {
     "name": "stderr",
     "output_type": "stream",
     "text": [
      "C:\\Users\\Harsh Clean\\AppData\\Local\\Temp\\ipykernel_14728\\2295723168.py:44: FutureWarning: The frame.append method is deprecated and will be removed from pandas in a future version. Use pandas.concat instead.\n",
      "  results_df = results_df.append({'ngram': ngram, 'word_count': word_count, 'review_id': max_review_id, 'thumbs_up_count': max_thumbs_up}, ignore_index=True) # type: ignore\n"
     ]
    },
    {
     "name": "stdout",
     "output_type": "stream",
     "text": [
      "Finding the review with the most thumbs up count containing \"is the best app for teenagers\"...\n"
     ]
    },
    {
     "name": "stderr",
     "output_type": "stream",
     "text": [
      "C:\\Users\\Harsh Clean\\AppData\\Local\\Temp\\ipykernel_14728\\2295723168.py:44: FutureWarning: The frame.append method is deprecated and will be removed from pandas in a future version. Use pandas.concat instead.\n",
      "  results_df = results_df.append({'ngram': ngram, 'word_count': word_count, 'review_id': max_review_id, 'thumbs_up_count': max_thumbs_up}, ignore_index=True) # type: ignore\n"
     ]
    },
    {
     "name": "stdout",
     "output_type": "stream",
     "text": [
      "Finding the review with the most thumbs up count containing \"is a very good app for\"...\n"
     ]
    },
    {
     "name": "stderr",
     "output_type": "stream",
     "text": [
      "C:\\Users\\Harsh Clean\\AppData\\Local\\Temp\\ipykernel_14728\\2295723168.py:44: FutureWarning: The frame.append method is deprecated and will be removed from pandas in a future version. Use pandas.concat instead.\n",
      "  results_df = results_df.append({'ngram': ngram, 'word_count': word_count, 'review_id': max_review_id, 'thumbs_up_count': max_thumbs_up}, ignore_index=True) # type: ignore\n"
     ]
    },
    {
     "name": "stdout",
     "output_type": "stream",
     "text": [
      "Finding the review with the most thumbs up count containing \"This is a very good app\"...\n"
     ]
    },
    {
     "name": "stderr",
     "output_type": "stream",
     "text": [
      "C:\\Users\\Harsh Clean\\AppData\\Local\\Temp\\ipykernel_14728\\2295723168.py:44: FutureWarning: The frame.append method is deprecated and will be removed from pandas in a future version. Use pandas.concat instead.\n",
      "  results_df = results_df.append({'ngram': ngram, 'word_count': word_count, 'review_id': max_review_id, 'thumbs_up_count': max_thumbs_up}, ignore_index=True) # type: ignore\n"
     ]
    },
    {
     "name": "stdout",
     "output_type": "stream",
     "text": [
      "Finding the review with the most thumbs up count containing \"I am not able to do\"...\n"
     ]
    },
    {
     "name": "stderr",
     "output_type": "stream",
     "text": [
      "C:\\Users\\Harsh Clean\\AppData\\Local\\Temp\\ipykernel_14728\\2295723168.py:44: FutureWarning: The frame.append method is deprecated and will be removed from pandas in a future version. Use pandas.concat instead.\n",
      "  results_df = results_df.append({'ngram': ngram, 'word_count': word_count, 'review_id': max_review_id, 'thumbs_up_count': max_thumbs_up}, ignore_index=True) # type: ignore\n"
     ]
    },
    {
     "name": "stdout",
     "output_type": "stream",
     "text": [
      "Finding the review with the most thumbs up count containing \"This app is very useful for\"...\n"
     ]
    },
    {
     "name": "stderr",
     "output_type": "stream",
     "text": [
      "C:\\Users\\Harsh Clean\\AppData\\Local\\Temp\\ipykernel_14728\\2295723168.py:44: FutureWarning: The frame.append method is deprecated and will be removed from pandas in a future version. Use pandas.concat instead.\n",
      "  results_df = results_df.append({'ngram': ngram, 'word_count': word_count, 'review_id': max_review_id, 'thumbs_up_count': max_thumbs_up}, ignore_index=True) # type: ignore\n"
     ]
    },
    {
     "name": "stdout",
     "output_type": "stream",
     "text": [
      "Finding the review with the most thumbs up count containing \"this is the best app for\"...\n"
     ]
    },
    {
     "name": "stderr",
     "output_type": "stream",
     "text": [
      "C:\\Users\\Harsh Clean\\AppData\\Local\\Temp\\ipykernel_14728\\2295723168.py:44: FutureWarning: The frame.append method is deprecated and will be removed from pandas in a future version. Use pandas.concat instead.\n",
      "  results_df = results_df.append({'ngram': ngram, 'word_count': word_count, 'review_id': max_review_id, 'thumbs_up_count': max_thumbs_up}, ignore_index=True) # type: ignore\n"
     ]
    },
    {
     "name": "stdout",
     "output_type": "stream",
     "text": [
      "Finding the review with the most thumbs up count containing \"This app is very good for\"...\n"
     ]
    },
    {
     "name": "stderr",
     "output_type": "stream",
     "text": [
      "C:\\Users\\Harsh Clean\\AppData\\Local\\Temp\\ipykernel_14728\\2295723168.py:44: FutureWarning: The frame.append method is deprecated and will be removed from pandas in a future version. Use pandas.concat instead.\n",
      "  results_df = results_df.append({'ngram': ngram, 'word_count': word_count, 'review_id': max_review_id, 'thumbs_up_count': max_thumbs_up}, ignore_index=True) # type: ignore\n"
     ]
    },
    {
     "name": "stdout",
     "output_type": "stream",
     "text": [
      "Finding the review with the most thumbs up count containing \"I am not able to see\"...\n"
     ]
    },
    {
     "name": "stderr",
     "output_type": "stream",
     "text": [
      "C:\\Users\\Harsh Clean\\AppData\\Local\\Temp\\ipykernel_14728\\2295723168.py:44: FutureWarning: The frame.append method is deprecated and will be removed from pandas in a future version. Use pandas.concat instead.\n",
      "  results_df = results_df.append({'ngram': ngram, 'word_count': word_count, 'review_id': max_review_id, 'thumbs_up_count': max_thumbs_up}, ignore_index=True) # type: ignore\n"
     ]
    },
    {
     "name": "stdout",
     "output_type": "stream",
     "text": [
      "Finding the review with the most thumbs up count containing \"I am not able to pay\"...\n"
     ]
    },
    {
     "name": "stderr",
     "output_type": "stream",
     "text": [
      "C:\\Users\\Harsh Clean\\AppData\\Local\\Temp\\ipykernel_14728\\2295723168.py:44: FutureWarning: The frame.append method is deprecated and will be removed from pandas in a future version. Use pandas.concat instead.\n",
      "  results_df = results_df.append({'ngram': ngram, 'word_count': word_count, 'review_id': max_review_id, 'thumbs_up_count': max_thumbs_up}, ignore_index=True) # type: ignore\n"
     ]
    },
    {
     "name": "stdout",
     "output_type": "stream",
     "text": [
      "Generating 7-grams...\n",
      "Finding the review with the most thumbs up count containing each 7-gram...\n",
      "Finding the review with the most thumbs up count containing \"I am not able to see my\"...\n"
     ]
    },
    {
     "name": "stderr",
     "output_type": "stream",
     "text": [
      "C:\\Users\\Harsh Clean\\AppData\\Local\\Temp\\ipykernel_14728\\2295723168.py:44: FutureWarning: The frame.append method is deprecated and will be removed from pandas in a future version. Use pandas.concat instead.\n",
      "  results_df = results_df.append({'ngram': ngram, 'word_count': word_count, 'review_id': max_review_id, 'thumbs_up_count': max_thumbs_up}, ignore_index=True) # type: ignore\n"
     ]
    },
    {
     "name": "stdout",
     "output_type": "stream",
     "text": [
      "Finding the review with the most thumbs up count containing \"This is a very good app for\"...\n"
     ]
    },
    {
     "name": "stderr",
     "output_type": "stream",
     "text": [
      "C:\\Users\\Harsh Clean\\AppData\\Local\\Temp\\ipykernel_14728\\2295723168.py:44: FutureWarning: The frame.append method is deprecated and will be removed from pandas in a future version. Use pandas.concat instead.\n",
      "  results_df = results_df.append({'ngram': ngram, 'word_count': word_count, 'review_id': max_review_id, 'thumbs_up_count': max_thumbs_up}, ignore_index=True) # type: ignore\n"
     ]
    },
    {
     "name": "stdout",
     "output_type": "stream",
     "text": [
      "Finding the review with the most thumbs up count containing \"This is the best app for teenagers\"...\n"
     ]
    },
    {
     "name": "stderr",
     "output_type": "stream",
     "text": [
      "C:\\Users\\Harsh Clean\\AppData\\Local\\Temp\\ipykernel_14728\\2295723168.py:44: FutureWarning: The frame.append method is deprecated and will be removed from pandas in a future version. Use pandas.concat instead.\n",
      "  results_df = results_df.append({'ngram': ngram, 'word_count': word_count, 'review_id': max_review_id, 'thumbs_up_count': max_thumbs_up}, ignore_index=True) # type: ignore\n"
     ]
    },
    {
     "name": "stdout",
     "output_type": "stream",
     "text": [
      "Finding the review with the most thumbs up count containing \"This app is very useful for teenagers\"...\n"
     ]
    },
    {
     "name": "stderr",
     "output_type": "stream",
     "text": [
      "C:\\Users\\Harsh Clean\\AppData\\Local\\Temp\\ipykernel_14728\\2295723168.py:44: FutureWarning: The frame.append method is deprecated and will be removed from pandas in a future version. Use pandas.concat instead.\n",
      "  results_df = results_df.append({'ngram': ngram, 'word_count': word_count, 'review_id': max_review_id, 'thumbs_up_count': max_thumbs_up}, ignore_index=True) # type: ignore\n"
     ]
    },
    {
     "name": "stdout",
     "output_type": "stream",
     "text": [
      "Finding the review with the most thumbs up count containing \"I have been using this app for\"...\n"
     ]
    },
    {
     "name": "stderr",
     "output_type": "stream",
     "text": [
      "C:\\Users\\Harsh Clean\\AppData\\Local\\Temp\\ipykernel_14728\\2295723168.py:44: FutureWarning: The frame.append method is deprecated and will be removed from pandas in a future version. Use pandas.concat instead.\n",
      "  results_df = results_df.append({'ngram': ngram, 'word_count': word_count, 'review_id': max_review_id, 'thumbs_up_count': max_thumbs_up}, ignore_index=True) # type: ignore\n"
     ]
    },
    {
     "name": "stdout",
     "output_type": "stream",
     "text": [
      "Finding the review with the most thumbs up count containing \"this is the best app for teenagers\"...\n"
     ]
    },
    {
     "name": "stderr",
     "output_type": "stream",
     "text": [
      "C:\\Users\\Harsh Clean\\AppData\\Local\\Temp\\ipykernel_14728\\2295723168.py:44: FutureWarning: The frame.append method is deprecated and will be removed from pandas in a future version. Use pandas.concat instead.\n",
      "  results_df = results_df.append({'ngram': ngram, 'word_count': word_count, 'review_id': max_review_id, 'thumbs_up_count': max_thumbs_up}, ignore_index=True) # type: ignore\n"
     ]
    },
    {
     "name": "stdout",
     "output_type": "stream",
     "text": [
      "Finding the review with the most thumbs up count containing \"am not able to see my card\"...\n"
     ]
    },
    {
     "name": "stderr",
     "output_type": "stream",
     "text": [
      "C:\\Users\\Harsh Clean\\AppData\\Local\\Temp\\ipykernel_14728\\2295723168.py:44: FutureWarning: The frame.append method is deprecated and will be removed from pandas in a future version. Use pandas.concat instead.\n",
      "  results_df = results_df.append({'ngram': ngram, 'word_count': word_count, 'review_id': max_review_id, 'thumbs_up_count': max_thumbs_up}, ignore_index=True) # type: ignore\n"
     ]
    },
    {
     "name": "stdout",
     "output_type": "stream",
     "text": [
      "Finding the review with the most thumbs up count containing \"is one of the best app for\"...\n"
     ]
    },
    {
     "name": "stderr",
     "output_type": "stream",
     "text": [
      "C:\\Users\\Harsh Clean\\AppData\\Local\\Temp\\ipykernel_14728\\2295723168.py:44: FutureWarning: The frame.append method is deprecated and will be removed from pandas in a future version. Use pandas.concat instead.\n",
      "  results_df = results_df.append({'ngram': ngram, 'word_count': word_count, 'review_id': max_review_id, 'thumbs_up_count': max_thumbs_up}, ignore_index=True) # type: ignore\n"
     ]
    },
    {
     "name": "stdout",
     "output_type": "stream",
     "text": [
      "Finding the review with the most thumbs up count containing \"I am not able to send money\"...\n"
     ]
    },
    {
     "name": "stderr",
     "output_type": "stream",
     "text": [
      "C:\\Users\\Harsh Clean\\AppData\\Local\\Temp\\ipykernel_14728\\2295723168.py:44: FutureWarning: The frame.append method is deprecated and will be removed from pandas in a future version. Use pandas.concat instead.\n",
      "  results_df = results_df.append({'ngram': ngram, 'word_count': word_count, 'review_id': max_review_id, 'thumbs_up_count': max_thumbs_up}, ignore_index=True) # type: ignore\n"
     ]
    },
    {
     "name": "stdout",
     "output_type": "stream",
     "text": [
      "Finding the review with the most thumbs up count containing \"for teenagers so I would highly recommend\"...\n"
     ]
    },
    {
     "name": "stderr",
     "output_type": "stream",
     "text": [
      "C:\\Users\\Harsh Clean\\AppData\\Local\\Temp\\ipykernel_14728\\2295723168.py:44: FutureWarning: The frame.append method is deprecated and will be removed from pandas in a future version. Use pandas.concat instead.\n",
      "  results_df = results_df.append({'ngram': ngram, 'word_count': word_count, 'review_id': max_review_id, 'thumbs_up_count': max_thumbs_up}, ignore_index=True) # type: ignore\n"
     ]
    },
    {
     "name": "stdout",
     "output_type": "stream",
     "text": [
      "Generating 8-grams...\n",
      "Finding the review with the most thumbs up count containing each 8-gram...\n",
      "Finding the review with the most thumbs up count containing \"are currently building the fam experience for your\"...\n"
     ]
    },
    {
     "name": "stderr",
     "output_type": "stream",
     "text": [
      "C:\\Users\\Harsh Clean\\AppData\\Local\\Temp\\ipykernel_14728\\2295723168.py:44: FutureWarning: The frame.append method is deprecated and will be removed from pandas in a future version. Use pandas.concat instead.\n",
      "  results_df = results_df.append({'ngram': ngram, 'word_count': word_count, 'review_id': max_review_id, 'thumbs_up_count': max_thumbs_up}, ignore_index=True) # type: ignore\n"
     ]
    },
    {
     "name": "stdout",
     "output_type": "stream",
     "text": [
      "Finding the review with the most thumbs up count containing \"I am not able to see my card\"...\n"
     ]
    },
    {
     "name": "stderr",
     "output_type": "stream",
     "text": [
      "C:\\Users\\Harsh Clean\\AppData\\Local\\Temp\\ipykernel_14728\\2295723168.py:44: FutureWarning: The frame.append method is deprecated and will be removed from pandas in a future version. Use pandas.concat instead.\n",
      "  results_df = results_df.append({'ngram': ngram, 'word_count': word_count, 'review_id': max_review_id, 'thumbs_up_count': max_thumbs_up}, ignore_index=True) # type: ignore\n"
     ]
    },
    {
     "name": "stdout",
     "output_type": "stream",
     "text": [
      "Finding the review with the most thumbs up count containing \"for teenagers so I would highly recommend this\"...\n"
     ]
    },
    {
     "name": "stderr",
     "output_type": "stream",
     "text": [
      "C:\\Users\\Harsh Clean\\AppData\\Local\\Temp\\ipykernel_14728\\2295723168.py:44: FutureWarning: The frame.append method is deprecated and will be removed from pandas in a future version. Use pandas.concat instead.\n",
      "  results_df = results_df.append({'ngram': ngram, 'word_count': word_count, 'review_id': max_review_id, 'thumbs_up_count': max_thumbs_up}, ignore_index=True) # type: ignore\n"
     ]
    },
    {
     "name": "stdout",
     "output_type": "stream",
     "text": [
      "Finding the review with the most thumbs up count containing \"we are currently building the fam experience for\"...\n"
     ]
    },
    {
     "name": "stderr",
     "output_type": "stream",
     "text": [
      "C:\\Users\\Harsh Clean\\AppData\\Local\\Temp\\ipykernel_14728\\2295723168.py:44: FutureWarning: The frame.append method is deprecated and will be removed from pandas in a future version. Use pandas.concat instead.\n",
      "  results_df = results_df.append({'ngram': ngram, 'word_count': word_count, 'review_id': max_review_id, 'thumbs_up_count': max_thumbs_up}, ignore_index=True) # type: ignore\n"
     ]
    },
    {
     "name": "stdout",
     "output_type": "stream",
     "text": [
      "Finding the review with the most thumbs up count containing \"debit card app which is specially made for\"...\n"
     ]
    },
    {
     "name": "stderr",
     "output_type": "stream",
     "text": [
      "C:\\Users\\Harsh Clean\\AppData\\Local\\Temp\\ipykernel_14728\\2295723168.py:44: FutureWarning: The frame.append method is deprecated and will be removed from pandas in a future version. Use pandas.concat instead.\n",
      "  results_df = results_df.append({'ngram': ngram, 'word_count': word_count, 'review_id': max_review_id, 'thumbs_up_count': max_thumbs_up}, ignore_index=True) # type: ignore\n"
     ]
    },
    {
     "name": "stdout",
     "output_type": "stream",
     "text": [
      "Finding the review with the most thumbs up count containing \"app in my phone which is specially made\"...\n"
     ]
    },
    {
     "name": "stderr",
     "output_type": "stream",
     "text": [
      "C:\\Users\\Harsh Clean\\AppData\\Local\\Temp\\ipykernel_14728\\2295723168.py:44: FutureWarning: The frame.append method is deprecated and will be removed from pandas in a future version. Use pandas.concat instead.\n",
      "  results_df = results_df.append({'ngram': ngram, 'word_count': word_count, 'review_id': max_review_id, 'thumbs_up_count': max_thumbs_up}, ignore_index=True) # type: ignore\n"
     ]
    },
    {
     "name": "stdout",
     "output_type": "stream",
     "text": [
      "Finding the review with the most thumbs up count containing \"in my phone which is specially made for\"...\n"
     ]
    },
    {
     "name": "stderr",
     "output_type": "stream",
     "text": [
      "C:\\Users\\Harsh Clean\\AppData\\Local\\Temp\\ipykernel_14728\\2295723168.py:44: FutureWarning: The frame.append method is deprecated and will be removed from pandas in a future version. Use pandas.concat instead.\n",
      "  results_df = results_df.append({'ngram': ngram, 'word_count': word_count, 'review_id': max_review_id, 'thumbs_up_count': max_thumbs_up}, ignore_index=True) # type: ignore\n"
     ]
    },
    {
     "name": "stdout",
     "output_type": "stream",
     "text": [
      "Finding the review with the most thumbs up count containing \"so I would highly recommend this app to\"...\n"
     ]
    },
    {
     "name": "stderr",
     "output_type": "stream",
     "text": [
      "C:\\Users\\Harsh Clean\\AppData\\Local\\Temp\\ipykernel_14728\\2295723168.py:44: FutureWarning: The frame.append method is deprecated and will be removed from pandas in a future version. Use pandas.concat instead.\n",
      "  results_df = results_df.append({'ngram': ngram, 'word_count': word_count, 'review_id': max_review_id, 'thumbs_up_count': max_thumbs_up}, ignore_index=True) # type: ignore\n"
     ]
    },
    {
     "name": "stdout",
     "output_type": "stream",
     "text": [
      "Finding the review with the most thumbs up count containing \"my phone which is specially made for teenagers\"...\n"
     ]
    },
    {
     "name": "stderr",
     "output_type": "stream",
     "text": [
      "C:\\Users\\Harsh Clean\\AppData\\Local\\Temp\\ipykernel_14728\\2295723168.py:44: FutureWarning: The frame.append method is deprecated and will be removed from pandas in a future version. Use pandas.concat instead.\n",
      "  results_df = results_df.append({'ngram': ngram, 'word_count': word_count, 'review_id': max_review_id, 'thumbs_up_count': max_thumbs_up}, ignore_index=True) # type: ignore\n"
     ]
    },
    {
     "name": "stdout",
     "output_type": "stream",
     "text": [
      "Finding the review with the most thumbs up count containing \"app I have ever seen in my life\"...\n"
     ]
    },
    {
     "name": "stderr",
     "output_type": "stream",
     "text": [
      "C:\\Users\\Harsh Clean\\AppData\\Local\\Temp\\ipykernel_14728\\2295723168.py:44: FutureWarning: The frame.append method is deprecated and will be removed from pandas in a future version. Use pandas.concat instead.\n",
      "  results_df = results_df.append({'ngram': ngram, 'word_count': word_count, 'review_id': max_review_id, 'thumbs_up_count': max_thumbs_up}, ignore_index=True) # type: ignore\n"
     ]
    },
    {
     "name": "stdout",
     "output_type": "stream",
     "text": [
      "Generating 9-grams...\n",
      "Finding the review with the most thumbs up count containing each 9-gram...\n",
      "Finding the review with the most thumbs up count containing \"we are currently building the fam experience for your\"...\n"
     ]
    },
    {
     "name": "stderr",
     "output_type": "stream",
     "text": [
      "C:\\Users\\Harsh Clean\\AppData\\Local\\Temp\\ipykernel_14728\\2295723168.py:44: FutureWarning: The frame.append method is deprecated and will be removed from pandas in a future version. Use pandas.concat instead.\n",
      "  results_df = results_df.append({'ngram': ngram, 'word_count': word_count, 'review_id': max_review_id, 'thumbs_up_count': max_thumbs_up}, ignore_index=True) # type: ignore\n"
     ]
    },
    {
     "name": "stdout",
     "output_type": "stream",
     "text": [
      "Finding the review with the most thumbs up count containing \"app in my phone which is specially made for\"...\n"
     ]
    },
    {
     "name": "stderr",
     "output_type": "stream",
     "text": [
      "C:\\Users\\Harsh Clean\\AppData\\Local\\Temp\\ipykernel_14728\\2295723168.py:44: FutureWarning: The frame.append method is deprecated and will be removed from pandas in a future version. Use pandas.concat instead.\n",
      "  results_df = results_df.append({'ngram': ngram, 'word_count': word_count, 'review_id': max_review_id, 'thumbs_up_count': max_thumbs_up}, ignore_index=True) # type: ignore\n"
     ]
    },
    {
     "name": "stdout",
     "output_type": "stream",
     "text": [
      "Finding the review with the most thumbs up count containing \"in my phone which is specially made for teenagers\"...\n"
     ]
    },
    {
     "name": "stderr",
     "output_type": "stream",
     "text": [
      "C:\\Users\\Harsh Clean\\AppData\\Local\\Temp\\ipykernel_14728\\2295723168.py:44: FutureWarning: The frame.append method is deprecated and will be removed from pandas in a future version. Use pandas.concat instead.\n",
      "  results_df = results_df.append({'ngram': ngram, 'word_count': word_count, 'review_id': max_review_id, 'thumbs_up_count': max_thumbs_up}, ignore_index=True) # type: ignore\n"
     ]
    },
    {
     "name": "stdout",
     "output_type": "stream",
     "text": [
      "Finding the review with the most thumbs up count containing \"is the best debit card for teenagers, lovely tool\"...\n"
     ]
    },
    {
     "name": "stderr",
     "output_type": "stream",
     "text": [
      "C:\\Users\\Harsh Clean\\AppData\\Local\\Temp\\ipykernel_14728\\2295723168.py:44: FutureWarning: The frame.append method is deprecated and will be removed from pandas in a future version. Use pandas.concat instead.\n",
      "  results_df = results_df.append({'ngram': ngram, 'word_count': word_count, 'review_id': max_review_id, 'thumbs_up_count': max_thumbs_up}, ignore_index=True) # type: ignore\n"
     ]
    },
    {
     "name": "stdout",
     "output_type": "stream",
     "text": [
      "Finding the review with the most thumbs up count containing \"are currently building the fam experience for your location\"...\n"
     ]
    },
    {
     "name": "stderr",
     "output_type": "stream",
     "text": [
      "C:\\Users\\Harsh Clean\\AppData\\Local\\Temp\\ipykernel_14728\\2295723168.py:44: FutureWarning: The frame.append method is deprecated and will be removed from pandas in a future version. Use pandas.concat instead.\n",
      "  results_df = results_df.append({'ngram': ngram, 'word_count': word_count, 'review_id': max_review_id, 'thumbs_up_count': max_thumbs_up}, ignore_index=True) # type: ignore\n"
     ]
    },
    {
     "name": "stdout",
     "output_type": "stream",
     "text": [
      "Finding the review with the most thumbs up count containing \"apps available in play store but this FamPay app\"...\n"
     ]
    },
    {
     "name": "stderr",
     "output_type": "stream",
     "text": [
      "C:\\Users\\Harsh Clean\\AppData\\Local\\Temp\\ipykernel_14728\\2295723168.py:44: FutureWarning: The frame.append method is deprecated and will be removed from pandas in a future version. Use pandas.concat instead.\n",
      "  results_df = results_df.append({'ngram': ngram, 'word_count': word_count, 'review_id': max_review_id, 'thumbs_up_count': max_thumbs_up}, ignore_index=True) # type: ignore\n"
     ]
    },
    {
     "name": "stdout",
     "output_type": "stream",
     "text": [
      "Finding the review with the most thumbs up count containing \"available in play store but this FamPay app is\"...\n"
     ]
    },
    {
     "name": "stderr",
     "output_type": "stream",
     "text": [
      "C:\\Users\\Harsh Clean\\AppData\\Local\\Temp\\ipykernel_14728\\2295723168.py:44: FutureWarning: The frame.append method is deprecated and will be removed from pandas in a future version. Use pandas.concat instead.\n",
      "  results_df = results_df.append({'ngram': ngram, 'word_count': word_count, 'review_id': max_review_id, 'thumbs_up_count': max_thumbs_up}, ignore_index=True) # type: ignore\n"
     ]
    },
    {
     "name": "stdout",
     "output_type": "stream",
     "text": [
      "Finding the review with the most thumbs up count containing \"in play store but this FamPay app is really\"...\n"
     ]
    },
    {
     "name": "stderr",
     "output_type": "stream",
     "text": [
      "C:\\Users\\Harsh Clean\\AppData\\Local\\Temp\\ipykernel_14728\\2295723168.py:44: FutureWarning: The frame.append method is deprecated and will be removed from pandas in a future version. Use pandas.concat instead.\n",
      "  results_df = results_df.append({'ngram': ngram, 'word_count': word_count, 'review_id': max_review_id, 'thumbs_up_count': max_thumbs_up}, ignore_index=True) # type: ignore\n"
     ]
    },
    {
     "name": "stdout",
     "output_type": "stream",
     "text": [
      "Finding the review with the most thumbs up count containing \"the best debit card for teenagers who do well.\"...\n"
     ]
    },
    {
     "name": "stderr",
     "output_type": "stream",
     "text": [
      "C:\\Users\\Harsh Clean\\AppData\\Local\\Temp\\ipykernel_14728\\2295723168.py:44: FutureWarning: The frame.append method is deprecated and will be removed from pandas in a future version. Use pandas.concat instead.\n",
      "  results_df = results_df.append({'ngram': ngram, 'word_count': word_count, 'review_id': max_review_id, 'thumbs_up_count': max_thumbs_up}, ignore_index=True) # type: ignore\n"
     ]
    },
    {
     "name": "stdout",
     "output_type": "stream",
     "text": [
      "Finding the review with the most thumbs up count containing \"so I would highly recommend this card to everyone.\"...\n"
     ]
    },
    {
     "name": "stderr",
     "output_type": "stream",
     "text": [
      "C:\\Users\\Harsh Clean\\AppData\\Local\\Temp\\ipykernel_14728\\2295723168.py:44: FutureWarning: The frame.append method is deprecated and will be removed from pandas in a future version. Use pandas.concat instead.\n",
      "  results_df = results_df.append({'ngram': ngram, 'word_count': word_count, 'review_id': max_review_id, 'thumbs_up_count': max_thumbs_up}, ignore_index=True) # type: ignore\n"
     ]
    },
    {
     "name": "stdout",
     "output_type": "stream",
     "text": [
      "Generating 10-grams...\n",
      "Finding the review with the most thumbs up count containing each 10-gram...\n",
      "Finding the review with the most thumbs up count containing \"app in my phone which is specially made for teenagers\"...\n"
     ]
    },
    {
     "name": "stderr",
     "output_type": "stream",
     "text": [
      "C:\\Users\\Harsh Clean\\AppData\\Local\\Temp\\ipykernel_14728\\2295723168.py:44: FutureWarning: The frame.append method is deprecated and will be removed from pandas in a future version. Use pandas.concat instead.\n",
      "  results_df = results_df.append({'ngram': ngram, 'word_count': word_count, 'review_id': max_review_id, 'thumbs_up_count': max_thumbs_up}, ignore_index=True) # type: ignore\n"
     ]
    },
    {
     "name": "stdout",
     "output_type": "stream",
     "text": [
      "Finding the review with the most thumbs up count containing \"we are currently building the fam experience for your location\"...\n"
     ]
    },
    {
     "name": "stderr",
     "output_type": "stream",
     "text": [
      "C:\\Users\\Harsh Clean\\AppData\\Local\\Temp\\ipykernel_14728\\2295723168.py:44: FutureWarning: The frame.append method is deprecated and will be removed from pandas in a future version. Use pandas.concat instead.\n",
      "  results_df = results_df.append({'ngram': ngram, 'word_count': word_count, 'review_id': max_review_id, 'thumbs_up_count': max_thumbs_up}, ignore_index=True) # type: ignore\n"
     ]
    },
    {
     "name": "stdout",
     "output_type": "stream",
     "text": [
      "Finding the review with the most thumbs up count containing \"apps available in play store but this FamPay app is\"...\n"
     ]
    },
    {
     "name": "stderr",
     "output_type": "stream",
     "text": [
      "C:\\Users\\Harsh Clean\\AppData\\Local\\Temp\\ipykernel_14728\\2295723168.py:44: FutureWarning: The frame.append method is deprecated and will be removed from pandas in a future version. Use pandas.concat instead.\n",
      "  results_df = results_df.append({'ngram': ngram, 'word_count': word_count, 'review_id': max_review_id, 'thumbs_up_count': max_thumbs_up}, ignore_index=True) # type: ignore\n"
     ]
    },
    {
     "name": "stdout",
     "output_type": "stream",
     "text": [
      "Finding the review with the most thumbs up count containing \"available in play store but this FamPay app is really\"...\n"
     ]
    },
    {
     "name": "stderr",
     "output_type": "stream",
     "text": [
      "C:\\Users\\Harsh Clean\\AppData\\Local\\Temp\\ipykernel_14728\\2295723168.py:44: FutureWarning: The frame.append method is deprecated and will be removed from pandas in a future version. Use pandas.concat instead.\n",
      "  results_df = results_df.append({'ngram': ngram, 'word_count': word_count, 'review_id': max_review_id, 'thumbs_up_count': max_thumbs_up}, ignore_index=True) # type: ignore\n"
     ]
    },
    {
     "name": "stdout",
     "output_type": "stream",
     "text": [
      "Finding the review with the most thumbs up count containing \"app in market which is the best debit card for\"...\n"
     ]
    },
    {
     "name": "stderr",
     "output_type": "stream",
     "text": [
      "C:\\Users\\Harsh Clean\\AppData\\Local\\Temp\\ipykernel_14728\\2295723168.py:44: FutureWarning: The frame.append method is deprecated and will be removed from pandas in a future version. Use pandas.concat instead.\n",
      "  results_df = results_df.append({'ngram': ngram, 'word_count': word_count, 'review_id': max_review_id, 'thumbs_up_count': max_thumbs_up}, ignore_index=True) # type: ignore\n"
     ]
    },
    {
     "name": "stdout",
     "output_type": "stream",
     "text": [
      "Finding the review with the most thumbs up count containing \"in market which is the best debit card for teenagers,\"...\n"
     ]
    },
    {
     "name": "stderr",
     "output_type": "stream",
     "text": [
      "C:\\Users\\Harsh Clean\\AppData\\Local\\Temp\\ipykernel_14728\\2295723168.py:44: FutureWarning: The frame.append method is deprecated and will be removed from pandas in a future version. Use pandas.concat instead.\n",
      "  results_df = results_df.append({'ngram': ngram, 'word_count': word_count, 'review_id': max_review_id, 'thumbs_up_count': max_thumbs_up}, ignore_index=True) # type: ignore\n"
     ]
    },
    {
     "name": "stdout",
     "output_type": "stream",
     "text": [
      "Finding the review with the most thumbs up count containing \"market which is the best debit card for teenagers, lovely\"...\n"
     ]
    },
    {
     "name": "stderr",
     "output_type": "stream",
     "text": [
      "C:\\Users\\Harsh Clean\\AppData\\Local\\Temp\\ipykernel_14728\\2295723168.py:44: FutureWarning: The frame.append method is deprecated and will be removed from pandas in a future version. Use pandas.concat instead.\n",
      "  results_df = results_df.append({'ngram': ngram, 'word_count': word_count, 'review_id': max_review_id, 'thumbs_up_count': max_thumbs_up}, ignore_index=True) # type: ignore\n"
     ]
    },
    {
     "name": "stdout",
     "output_type": "stream",
     "text": [
      "Finding the review with the most thumbs up count containing \"which is the best debit card for teenagers, lovely tool\"...\n"
     ]
    },
    {
     "name": "stderr",
     "output_type": "stream",
     "text": [
      "C:\\Users\\Harsh Clean\\AppData\\Local\\Temp\\ipykernel_14728\\2295723168.py:44: FutureWarning: The frame.append method is deprecated and will be removed from pandas in a future version. Use pandas.concat instead.\n",
      "  results_df = results_df.append({'ngram': ngram, 'word_count': word_count, 'review_id': max_review_id, 'thumbs_up_count': max_thumbs_up}, ignore_index=True) # type: ignore\n"
     ]
    },
    {
     "name": "stdout",
     "output_type": "stream",
     "text": [
      "Finding the review with the most thumbs up count containing \"send money to an UPI address and it gives error\"...\n"
     ]
    },
    {
     "name": "stderr",
     "output_type": "stream",
     "text": [
      "C:\\Users\\Harsh Clean\\AppData\\Local\\Temp\\ipykernel_14728\\2295723168.py:44: FutureWarning: The frame.append method is deprecated and will be removed from pandas in a future version. Use pandas.concat instead.\n",
      "  results_df = results_df.append({'ngram': ngram, 'word_count': word_count, 'review_id': max_review_id, 'thumbs_up_count': max_thumbs_up}, ignore_index=True) # type: ignore\n"
     ]
    },
    {
     "name": "stdout",
     "output_type": "stream",
     "text": [
      "Finding the review with the most thumbs up count containing \"money to an UPI address and it gives error saying\"...\n"
     ]
    },
    {
     "name": "stderr",
     "output_type": "stream",
     "text": [
      "C:\\Users\\Harsh Clean\\AppData\\Local\\Temp\\ipykernel_14728\\2295723168.py:44: FutureWarning: The frame.append method is deprecated and will be removed from pandas in a future version. Use pandas.concat instead.\n",
      "  results_df = results_df.append({'ngram': ngram, 'word_count': word_count, 'review_id': max_review_id, 'thumbs_up_count': max_thumbs_up}, ignore_index=True) # type: ignore\n"
     ]
    },
    {
     "name": "stdout",
     "output_type": "stream",
     "text": [
      "Generating 1-grams...\n",
      "Finding the review with the most thumbs up count containing each 1-gram...\n",
      "Finding the review with the most thumbs up count containing \"app\"...\n"
     ]
    },
    {
     "name": "stderr",
     "output_type": "stream",
     "text": [
      "C:\\Users\\Harsh Clean\\AppData\\Local\\Temp\\ipykernel_14728\\2295723168.py:44: FutureWarning: The frame.append method is deprecated and will be removed from pandas in a future version. Use pandas.concat instead.\n",
      "  results_df = results_df.append({'ngram': ngram, 'word_count': word_count, 'review_id': max_review_id, 'thumbs_up_count': max_thumbs_up}, ignore_index=True) # type: ignore\n"
     ]
    },
    {
     "name": "stdout",
     "output_type": "stream",
     "text": [
      "Finding the review with the most thumbs up count containing \"is\"...\n"
     ]
    },
    {
     "name": "stderr",
     "output_type": "stream",
     "text": [
      "C:\\Users\\Harsh Clean\\AppData\\Local\\Temp\\ipykernel_14728\\2295723168.py:44: FutureWarning: The frame.append method is deprecated and will be removed from pandas in a future version. Use pandas.concat instead.\n",
      "  results_df = results_df.append({'ngram': ngram, 'word_count': word_count, 'review_id': max_review_id, 'thumbs_up_count': max_thumbs_up}, ignore_index=True) # type: ignore\n"
     ]
    },
    {
     "name": "stdout",
     "output_type": "stream",
     "text": [
      "Finding the review with the most thumbs up count containing \"I\"...\n"
     ]
    },
    {
     "name": "stderr",
     "output_type": "stream",
     "text": [
      "C:\\Users\\Harsh Clean\\AppData\\Local\\Temp\\ipykernel_14728\\2295723168.py:44: FutureWarning: The frame.append method is deprecated and will be removed from pandas in a future version. Use pandas.concat instead.\n",
      "  results_df = results_df.append({'ngram': ngram, 'word_count': word_count, 'review_id': max_review_id, 'thumbs_up_count': max_thumbs_up}, ignore_index=True) # type: ignore\n"
     ]
    },
    {
     "name": "stdout",
     "output_type": "stream",
     "text": [
      "Finding the review with the most thumbs up count containing \"to\"...\n"
     ]
    },
    {
     "name": "stderr",
     "output_type": "stream",
     "text": [
      "C:\\Users\\Harsh Clean\\AppData\\Local\\Temp\\ipykernel_14728\\2295723168.py:44: FutureWarning: The frame.append method is deprecated and will be removed from pandas in a future version. Use pandas.concat instead.\n",
      "  results_df = results_df.append({'ngram': ngram, 'word_count': word_count, 'review_id': max_review_id, 'thumbs_up_count': max_thumbs_up}, ignore_index=True) # type: ignore\n"
     ]
    },
    {
     "name": "stdout",
     "output_type": "stream",
     "text": [
      "Finding the review with the most thumbs up count containing \"and\"...\n"
     ]
    },
    {
     "name": "stderr",
     "output_type": "stream",
     "text": [
      "C:\\Users\\Harsh Clean\\AppData\\Local\\Temp\\ipykernel_14728\\2295723168.py:44: FutureWarning: The frame.append method is deprecated and will be removed from pandas in a future version. Use pandas.concat instead.\n",
      "  results_df = results_df.append({'ngram': ngram, 'word_count': word_count, 'review_id': max_review_id, 'thumbs_up_count': max_thumbs_up}, ignore_index=True) # type: ignore\n"
     ]
    },
    {
     "name": "stdout",
     "output_type": "stream",
     "text": [
      "Finding the review with the most thumbs up count containing \"for\"...\n"
     ]
    },
    {
     "name": "stderr",
     "output_type": "stream",
     "text": [
      "C:\\Users\\Harsh Clean\\AppData\\Local\\Temp\\ipykernel_14728\\2295723168.py:44: FutureWarning: The frame.append method is deprecated and will be removed from pandas in a future version. Use pandas.concat instead.\n",
      "  results_df = results_df.append({'ngram': ngram, 'word_count': word_count, 'review_id': max_review_id, 'thumbs_up_count': max_thumbs_up}, ignore_index=True) # type: ignore\n"
     ]
    },
    {
     "name": "stdout",
     "output_type": "stream",
     "text": [
      "Finding the review with the most thumbs up count containing \"the\"...\n"
     ]
    },
    {
     "name": "stderr",
     "output_type": "stream",
     "text": [
      "C:\\Users\\Harsh Clean\\AppData\\Local\\Temp\\ipykernel_14728\\2295723168.py:44: FutureWarning: The frame.append method is deprecated and will be removed from pandas in a future version. Use pandas.concat instead.\n",
      "  results_df = results_df.append({'ngram': ngram, 'word_count': word_count, 'review_id': max_review_id, 'thumbs_up_count': max_thumbs_up}, ignore_index=True) # type: ignore\n"
     ]
    },
    {
     "name": "stdout",
     "output_type": "stream",
     "text": [
      "Finding the review with the most thumbs up count containing \"this\"...\n"
     ]
    },
    {
     "name": "stderr",
     "output_type": "stream",
     "text": [
      "C:\\Users\\Harsh Clean\\AppData\\Local\\Temp\\ipykernel_14728\\2295723168.py:44: FutureWarning: The frame.append method is deprecated and will be removed from pandas in a future version. Use pandas.concat instead.\n",
      "  results_df = results_df.append({'ngram': ngram, 'word_count': word_count, 'review_id': max_review_id, 'thumbs_up_count': max_thumbs_up}, ignore_index=True) # type: ignore\n"
     ]
    },
    {
     "name": "stdout",
     "output_type": "stream",
     "text": [
      "Finding the review with the most thumbs up count containing \"my\"...\n"
     ]
    },
    {
     "name": "stderr",
     "output_type": "stream",
     "text": [
      "C:\\Users\\Harsh Clean\\AppData\\Local\\Temp\\ipykernel_14728\\2295723168.py:44: FutureWarning: The frame.append method is deprecated and will be removed from pandas in a future version. Use pandas.concat instead.\n",
      "  results_df = results_df.append({'ngram': ngram, 'word_count': word_count, 'review_id': max_review_id, 'thumbs_up_count': max_thumbs_up}, ignore_index=True) # type: ignore\n"
     ]
    },
    {
     "name": "stdout",
     "output_type": "stream",
     "text": [
      "Finding the review with the most thumbs up count containing \"not\"...\n"
     ]
    },
    {
     "name": "stderr",
     "output_type": "stream",
     "text": [
      "C:\\Users\\Harsh Clean\\AppData\\Local\\Temp\\ipykernel_14728\\2295723168.py:44: FutureWarning: The frame.append method is deprecated and will be removed from pandas in a future version. Use pandas.concat instead.\n",
      "  results_df = results_df.append({'ngram': ngram, 'word_count': word_count, 'review_id': max_review_id, 'thumbs_up_count': max_thumbs_up}, ignore_index=True) # type: ignore\n"
     ]
    },
    {
     "name": "stdout",
     "output_type": "stream",
     "text": [
      "Generating 2-grams...\n",
      "Finding the review with the most thumbs up count containing each 2-gram...\n",
      "Finding the review with the most thumbs up count containing \"this app\"...\n"
     ]
    },
    {
     "name": "stderr",
     "output_type": "stream",
     "text": [
      "C:\\Users\\Harsh Clean\\AppData\\Local\\Temp\\ipykernel_14728\\2295723168.py:44: FutureWarning: The frame.append method is deprecated and will be removed from pandas in a future version. Use pandas.concat instead.\n",
      "  results_df = results_df.append({'ngram': ngram, 'word_count': word_count, 'review_id': max_review_id, 'thumbs_up_count': max_thumbs_up}, ignore_index=True) # type: ignore\n"
     ]
    },
    {
     "name": "stdout",
     "output_type": "stream",
     "text": [
      "Finding the review with the most thumbs up count containing \"app for\"...\n"
     ]
    },
    {
     "name": "stderr",
     "output_type": "stream",
     "text": [
      "C:\\Users\\Harsh Clean\\AppData\\Local\\Temp\\ipykernel_14728\\2295723168.py:44: FutureWarning: The frame.append method is deprecated and will be removed from pandas in a future version. Use pandas.concat instead.\n",
      "  results_df = results_df.append({'ngram': ngram, 'word_count': word_count, 'review_id': max_review_id, 'thumbs_up_count': max_thumbs_up}, ignore_index=True) # type: ignore\n"
     ]
    },
    {
     "name": "stdout",
     "output_type": "stream",
     "text": [
      "Finding the review with the most thumbs up count containing \"is not\"...\n"
     ]
    },
    {
     "name": "stderr",
     "output_type": "stream",
     "text": [
      "C:\\Users\\Harsh Clean\\AppData\\Local\\Temp\\ipykernel_14728\\2295723168.py:44: FutureWarning: The frame.append method is deprecated and will be removed from pandas in a future version. Use pandas.concat instead.\n",
      "  results_df = results_df.append({'ngram': ngram, 'word_count': word_count, 'review_id': max_review_id, 'thumbs_up_count': max_thumbs_up}, ignore_index=True) # type: ignore\n"
     ]
    },
    {
     "name": "stdout",
     "output_type": "stream",
     "text": [
      "Finding the review with the most thumbs up count containing \"app is\"...\n"
     ]
    },
    {
     "name": "stderr",
     "output_type": "stream",
     "text": [
      "C:\\Users\\Harsh Clean\\AppData\\Local\\Temp\\ipykernel_14728\\2295723168.py:44: FutureWarning: The frame.append method is deprecated and will be removed from pandas in a future version. Use pandas.concat instead.\n",
      "  results_df = results_df.append({'ngram': ngram, 'word_count': word_count, 'review_id': max_review_id, 'thumbs_up_count': max_thumbs_up}, ignore_index=True) # type: ignore\n"
     ]
    },
    {
     "name": "stdout",
     "output_type": "stream",
     "text": [
      "Finding the review with the most thumbs up count containing \"nice app\"...\n"
     ]
    },
    {
     "name": "stderr",
     "output_type": "stream",
     "text": [
      "C:\\Users\\Harsh Clean\\AppData\\Local\\Temp\\ipykernel_14728\\2295723168.py:44: FutureWarning: The frame.append method is deprecated and will be removed from pandas in a future version. Use pandas.concat instead.\n",
      "  results_df = results_df.append({'ngram': ngram, 'word_count': word_count, 'review_id': max_review_id, 'thumbs_up_count': max_thumbs_up}, ignore_index=True) # type: ignore\n"
     ]
    },
    {
     "name": "stdout",
     "output_type": "stream",
     "text": [
      "Finding the review with the most thumbs up count containing \"good app\"...\n"
     ]
    },
    {
     "name": "stderr",
     "output_type": "stream",
     "text": [
      "C:\\Users\\Harsh Clean\\AppData\\Local\\Temp\\ipykernel_14728\\2295723168.py:44: FutureWarning: The frame.append method is deprecated and will be removed from pandas in a future version. Use pandas.concat instead.\n",
      "  results_df = results_df.append({'ngram': ngram, 'word_count': word_count, 'review_id': max_review_id, 'thumbs_up_count': max_thumbs_up}, ignore_index=True) # type: ignore\n"
     ]
    },
    {
     "name": "stdout",
     "output_type": "stream",
     "text": [
      "Finding the review with the most thumbs up count containing \"for teenagers\"...\n"
     ]
    },
    {
     "name": "stderr",
     "output_type": "stream",
     "text": [
      "C:\\Users\\Harsh Clean\\AppData\\Local\\Temp\\ipykernel_14728\\2295723168.py:44: FutureWarning: The frame.append method is deprecated and will be removed from pandas in a future version. Use pandas.concat instead.\n",
      "  results_df = results_df.append({'ngram': ngram, 'word_count': word_count, 'review_id': max_review_id, 'thumbs_up_count': max_thumbs_up}, ignore_index=True) # type: ignore\n"
     ]
    },
    {
     "name": "stdout",
     "output_type": "stream",
     "text": [
      "Finding the review with the most thumbs up count containing \"I am\"...\n"
     ]
    },
    {
     "name": "stderr",
     "output_type": "stream",
     "text": [
      "C:\\Users\\Harsh Clean\\AppData\\Local\\Temp\\ipykernel_14728\\2295723168.py:44: FutureWarning: The frame.append method is deprecated and will be removed from pandas in a future version. Use pandas.concat instead.\n",
      "  results_df = results_df.append({'ngram': ngram, 'word_count': word_count, 'review_id': max_review_id, 'thumbs_up_count': max_thumbs_up}, ignore_index=True) # type: ignore\n"
     ]
    },
    {
     "name": "stdout",
     "output_type": "stream",
     "text": [
      "Finding the review with the most thumbs up count containing \"is very\"...\n"
     ]
    },
    {
     "name": "stderr",
     "output_type": "stream",
     "text": [
      "C:\\Users\\Harsh Clean\\AppData\\Local\\Temp\\ipykernel_14728\\2295723168.py:44: FutureWarning: The frame.append method is deprecated and will be removed from pandas in a future version. Use pandas.concat instead.\n",
      "  results_df = results_df.append({'ngram': ngram, 'word_count': word_count, 'review_id': max_review_id, 'thumbs_up_count': max_thumbs_up}, ignore_index=True) # type: ignore\n"
     ]
    },
    {
     "name": "stdout",
     "output_type": "stream",
     "text": [
      "Finding the review with the most thumbs up count containing \"very good\"...\n"
     ]
    },
    {
     "name": "stderr",
     "output_type": "stream",
     "text": [
      "C:\\Users\\Harsh Clean\\AppData\\Local\\Temp\\ipykernel_14728\\2295723168.py:44: FutureWarning: The frame.append method is deprecated and will be removed from pandas in a future version. Use pandas.concat instead.\n",
      "  results_df = results_df.append({'ngram': ngram, 'word_count': word_count, 'review_id': max_review_id, 'thumbs_up_count': max_thumbs_up}, ignore_index=True) # type: ignore\n"
     ]
    },
    {
     "name": "stdout",
     "output_type": "stream",
     "text": [
      "Generating 3-grams...\n",
      "Finding the review with the most thumbs up count containing each 3-gram...\n",
      "Finding the review with the most thumbs up count containing \"This app is\"...\n"
     ]
    },
    {
     "name": "stderr",
     "output_type": "stream",
     "text": [
      "C:\\Users\\Harsh Clean\\AppData\\Local\\Temp\\ipykernel_14728\\2295723168.py:44: FutureWarning: The frame.append method is deprecated and will be removed from pandas in a future version. Use pandas.concat instead.\n",
      "  results_df = results_df.append({'ngram': ngram, 'word_count': word_count, 'review_id': max_review_id, 'thumbs_up_count': max_thumbs_up}, ignore_index=True) # type: ignore\n"
     ]
    },
    {
     "name": "stdout",
     "output_type": "stream",
     "text": [
      "Finding the review with the most thumbs up count containing \"app for teenagers\"...\n"
     ]
    },
    {
     "name": "stderr",
     "output_type": "stream",
     "text": [
      "C:\\Users\\Harsh Clean\\AppData\\Local\\Temp\\ipykernel_14728\\2295723168.py:44: FutureWarning: The frame.append method is deprecated and will be removed from pandas in a future version. Use pandas.concat instead.\n",
      "  results_df = results_df.append({'ngram': ngram, 'word_count': word_count, 'review_id': max_review_id, 'thumbs_up_count': max_thumbs_up}, ignore_index=True) # type: ignore\n"
     ]
    },
    {
     "name": "stdout",
     "output_type": "stream",
     "text": [
      "Finding the review with the most thumbs up count containing \"is not working\"...\n"
     ]
    },
    {
     "name": "stderr",
     "output_type": "stream",
     "text": [
      "C:\\Users\\Harsh Clean\\AppData\\Local\\Temp\\ipykernel_14728\\2295723168.py:44: FutureWarning: The frame.append method is deprecated and will be removed from pandas in a future version. Use pandas.concat instead.\n",
      "  results_df = results_df.append({'ngram': ngram, 'word_count': word_count, 'review_id': max_review_id, 'thumbs_up_count': max_thumbs_up}, ignore_index=True) # type: ignore\n"
     ]
    },
    {
     "name": "stdout",
     "output_type": "stream",
     "text": [
      "Finding the review with the most thumbs up count containing \"this app is\"...\n"
     ]
    },
    {
     "name": "stderr",
     "output_type": "stream",
     "text": [
      "C:\\Users\\Harsh Clean\\AppData\\Local\\Temp\\ipykernel_14728\\2295723168.py:44: FutureWarning: The frame.append method is deprecated and will be removed from pandas in a future version. Use pandas.concat instead.\n",
      "  results_df = results_df.append({'ngram': ngram, 'word_count': word_count, 'review_id': max_review_id, 'thumbs_up_count': max_thumbs_up}, ignore_index=True) # type: ignore\n"
     ]
    },
    {
     "name": "stdout",
     "output_type": "stream",
     "text": [
      "Finding the review with the most thumbs up count containing \"very good app\"...\n"
     ]
    },
    {
     "name": "stderr",
     "output_type": "stream",
     "text": [
      "C:\\Users\\Harsh Clean\\AppData\\Local\\Temp\\ipykernel_14728\\2295723168.py:44: FutureWarning: The frame.append method is deprecated and will be removed from pandas in a future version. Use pandas.concat instead.\n",
      "  results_df = results_df.append({'ngram': ngram, 'word_count': word_count, 'review_id': max_review_id, 'thumbs_up_count': max_thumbs_up}, ignore_index=True) # type: ignore\n"
     ]
    },
    {
     "name": "stdout",
     "output_type": "stream",
     "text": [
      "Finding the review with the most thumbs up count containing \"app is very\"...\n"
     ]
    },
    {
     "name": "stderr",
     "output_type": "stream",
     "text": [
      "C:\\Users\\Harsh Clean\\AppData\\Local\\Temp\\ipykernel_14728\\2295723168.py:44: FutureWarning: The frame.append method is deprecated and will be removed from pandas in a future version. Use pandas.concat instead.\n",
      "  results_df = results_df.append({'ngram': ngram, 'word_count': word_count, 'review_id': max_review_id, 'thumbs_up_count': max_thumbs_up}, ignore_index=True) # type: ignore\n"
     ]
    },
    {
     "name": "stdout",
     "output_type": "stream",
     "text": [
      "Finding the review with the most thumbs up count containing \"not able to\"...\n"
     ]
    },
    {
     "name": "stderr",
     "output_type": "stream",
     "text": [
      "C:\\Users\\Harsh Clean\\AppData\\Local\\Temp\\ipykernel_14728\\2295723168.py:44: FutureWarning: The frame.append method is deprecated and will be removed from pandas in a future version. Use pandas.concat instead.\n",
      "  results_df = results_df.append({'ngram': ngram, 'word_count': word_count, 'review_id': max_review_id, 'thumbs_up_count': max_thumbs_up}, ignore_index=True) # type: ignore\n"
     ]
    },
    {
     "name": "stdout",
     "output_type": "stream",
     "text": [
      "Finding the review with the most thumbs up count containing \"good app for\"...\n"
     ]
    },
    {
     "name": "stderr",
     "output_type": "stream",
     "text": [
      "C:\\Users\\Harsh Clean\\AppData\\Local\\Temp\\ipykernel_14728\\2295723168.py:44: FutureWarning: The frame.append method is deprecated and will be removed from pandas in a future version. Use pandas.concat instead.\n",
      "  results_df = results_df.append({'ngram': ngram, 'word_count': word_count, 'review_id': max_review_id, 'thumbs_up_count': max_thumbs_up}, ignore_index=True) # type: ignore\n"
     ]
    },
    {
     "name": "stdout",
     "output_type": "stream",
     "text": [
      "Finding the review with the most thumbs up count containing \"best app for\"...\n"
     ]
    },
    {
     "name": "stderr",
     "output_type": "stream",
     "text": [
      "C:\\Users\\Harsh Clean\\AppData\\Local\\Temp\\ipykernel_14728\\2295723168.py:44: FutureWarning: The frame.append method is deprecated and will be removed from pandas in a future version. Use pandas.concat instead.\n",
      "  results_df = results_df.append({'ngram': ngram, 'word_count': word_count, 'review_id': max_review_id, 'thumbs_up_count': max_thumbs_up}, ignore_index=True) # type: ignore\n"
     ]
    },
    {
     "name": "stdout",
     "output_type": "stream",
     "text": [
      "Finding the review with the most thumbs up count containing \"Best app for\"...\n"
     ]
    },
    {
     "name": "stderr",
     "output_type": "stream",
     "text": [
      "C:\\Users\\Harsh Clean\\AppData\\Local\\Temp\\ipykernel_14728\\2295723168.py:44: FutureWarning: The frame.append method is deprecated and will be removed from pandas in a future version. Use pandas.concat instead.\n",
      "  results_df = results_df.append({'ngram': ngram, 'word_count': word_count, 'review_id': max_review_id, 'thumbs_up_count': max_thumbs_up}, ignore_index=True) # type: ignore\n"
     ]
    },
    {
     "name": "stdout",
     "output_type": "stream",
     "text": [
      "Generating 4-grams...\n",
      "Finding the review with the most thumbs up count containing each 4-gram...\n",
      "Finding the review with the most thumbs up count containing \"This app is very\"...\n"
     ]
    },
    {
     "name": "stderr",
     "output_type": "stream",
     "text": [
      "C:\\Users\\Harsh Clean\\AppData\\Local\\Temp\\ipykernel_14728\\2295723168.py:44: FutureWarning: The frame.append method is deprecated and will be removed from pandas in a future version. Use pandas.concat instead.\n",
      "  results_df = results_df.append({'ngram': ngram, 'word_count': word_count, 'review_id': max_review_id, 'thumbs_up_count': max_thumbs_up}, ignore_index=True) # type: ignore\n"
     ]
    },
    {
     "name": "stdout",
     "output_type": "stream",
     "text": [
      "Finding the review with the most thumbs up count containing \"am not able to\"...\n"
     ]
    },
    {
     "name": "stderr",
     "output_type": "stream",
     "text": [
      "C:\\Users\\Harsh Clean\\AppData\\Local\\Temp\\ipykernel_14728\\2295723168.py:44: FutureWarning: The frame.append method is deprecated and will be removed from pandas in a future version. Use pandas.concat instead.\n",
      "  results_df = results_df.append({'ngram': ngram, 'word_count': word_count, 'review_id': max_review_id, 'thumbs_up_count': max_thumbs_up}, ignore_index=True) # type: ignore\n"
     ]
    },
    {
     "name": "stdout",
     "output_type": "stream",
     "text": [
      "Finding the review with the most thumbs up count containing \"I am not able\"...\n"
     ]
    },
    {
     "name": "stderr",
     "output_type": "stream",
     "text": [
      "C:\\Users\\Harsh Clean\\AppData\\Local\\Temp\\ipykernel_14728\\2295723168.py:44: FutureWarning: The frame.append method is deprecated and will be removed from pandas in a future version. Use pandas.concat instead.\n",
      "  results_df = results_df.append({'ngram': ngram, 'word_count': word_count, 'review_id': max_review_id, 'thumbs_up_count': max_thumbs_up}, ignore_index=True) # type: ignore\n"
     ]
    },
    {
     "name": "stdout",
     "output_type": "stream",
     "text": [
      "Finding the review with the most thumbs up count containing \"very good app for\"...\n"
     ]
    },
    {
     "name": "stderr",
     "output_type": "stream",
     "text": [
      "C:\\Users\\Harsh Clean\\AppData\\Local\\Temp\\ipykernel_14728\\2295723168.py:44: FutureWarning: The frame.append method is deprecated and will be removed from pandas in a future version. Use pandas.concat instead.\n",
      "  results_df = results_df.append({'ngram': ngram, 'word_count': word_count, 'review_id': max_review_id, 'thumbs_up_count': max_thumbs_up}, ignore_index=True) # type: ignore\n"
     ]
    },
    {
     "name": "stdout",
     "output_type": "stream",
     "text": [
      "Finding the review with the most thumbs up count containing \"app is very good\"...\n"
     ]
    },
    {
     "name": "stderr",
     "output_type": "stream",
     "text": [
      "C:\\Users\\Harsh Clean\\AppData\\Local\\Temp\\ipykernel_14728\\2295723168.py:44: FutureWarning: The frame.append method is deprecated and will be removed from pandas in a future version. Use pandas.concat instead.\n",
      "  results_df = results_df.append({'ngram': ngram, 'word_count': word_count, 'review_id': max_review_id, 'thumbs_up_count': max_thumbs_up}, ignore_index=True) # type: ignore\n"
     ]
    },
    {
     "name": "stdout",
     "output_type": "stream",
     "text": [
      "Finding the review with the most thumbs up count containing \"this app is very\"...\n"
     ]
    },
    {
     "name": "stderr",
     "output_type": "stream",
     "text": [
      "C:\\Users\\Harsh Clean\\AppData\\Local\\Temp\\ipykernel_14728\\2295723168.py:44: FutureWarning: The frame.append method is deprecated and will be removed from pandas in a future version. Use pandas.concat instead.\n",
      "  results_df = results_df.append({'ngram': ngram, 'word_count': word_count, 'review_id': max_review_id, 'thumbs_up_count': max_thumbs_up}, ignore_index=True) # type: ignore\n"
     ]
    },
    {
     "name": "stdout",
     "output_type": "stream",
     "text": [
      "Finding the review with the most thumbs up count containing \"I love this app\"...\n"
     ]
    },
    {
     "name": "stderr",
     "output_type": "stream",
     "text": [
      "C:\\Users\\Harsh Clean\\AppData\\Local\\Temp\\ipykernel_14728\\2295723168.py:44: FutureWarning: The frame.append method is deprecated and will be removed from pandas in a future version. Use pandas.concat instead.\n",
      "  results_df = results_df.append({'ngram': ngram, 'word_count': word_count, 'review_id': max_review_id, 'thumbs_up_count': max_thumbs_up}, ignore_index=True) # type: ignore\n"
     ]
    },
    {
     "name": "stdout",
     "output_type": "stream",
     "text": [
      "Finding the review with the most thumbs up count containing \"best app for teenagers\"...\n"
     ]
    },
    {
     "name": "stderr",
     "output_type": "stream",
     "text": [
      "C:\\Users\\Harsh Clean\\AppData\\Local\\Temp\\ipykernel_14728\\2295723168.py:44: FutureWarning: The frame.append method is deprecated and will be removed from pandas in a future version. Use pandas.concat instead.\n",
      "  results_df = results_df.append({'ngram': ngram, 'word_count': word_count, 'review_id': max_review_id, 'thumbs_up_count': max_thumbs_up}, ignore_index=True) # type: ignore\n"
     ]
    },
    {
     "name": "stdout",
     "output_type": "stream",
     "text": [
      "Finding the review with the most thumbs up count containing \"Best app for teenagers\"...\n"
     ]
    },
    {
     "name": "stderr",
     "output_type": "stream",
     "text": [
      "C:\\Users\\Harsh Clean\\AppData\\Local\\Temp\\ipykernel_14728\\2295723168.py:44: FutureWarning: The frame.append method is deprecated and will be removed from pandas in a future version. Use pandas.concat instead.\n",
      "  results_df = results_df.append({'ngram': ngram, 'word_count': word_count, 'review_id': max_review_id, 'thumbs_up_count': max_thumbs_up}, ignore_index=True) # type: ignore\n"
     ]
    },
    {
     "name": "stdout",
     "output_type": "stream",
     "text": [
      "Finding the review with the most thumbs up count containing \"good app for teenagers\"...\n"
     ]
    },
    {
     "name": "stderr",
     "output_type": "stream",
     "text": [
      "C:\\Users\\Harsh Clean\\AppData\\Local\\Temp\\ipykernel_14728\\2295723168.py:44: FutureWarning: The frame.append method is deprecated and will be removed from pandas in a future version. Use pandas.concat instead.\n",
      "  results_df = results_df.append({'ngram': ngram, 'word_count': word_count, 'review_id': max_review_id, 'thumbs_up_count': max_thumbs_up}, ignore_index=True) # type: ignore\n"
     ]
    },
    {
     "name": "stdout",
     "output_type": "stream",
     "text": [
      "Generating 5-grams...\n",
      "Finding the review with the most thumbs up count containing each 5-gram...\n",
      "Finding the review with the most thumbs up count containing \"I am not able to\"...\n"
     ]
    },
    {
     "name": "stderr",
     "output_type": "stream",
     "text": [
      "C:\\Users\\Harsh Clean\\AppData\\Local\\Temp\\ipykernel_14728\\2295723168.py:44: FutureWarning: The frame.append method is deprecated and will be removed from pandas in a future version. Use pandas.concat instead.\n",
      "  results_df = results_df.append({'ngram': ngram, 'word_count': word_count, 'review_id': max_review_id, 'thumbs_up_count': max_thumbs_up}, ignore_index=True) # type: ignore\n"
     ]
    },
    {
     "name": "stdout",
     "output_type": "stream",
     "text": [
      "Finding the review with the most thumbs up count containing \"This app is very good\"...\n"
     ]
    },
    {
     "name": "stderr",
     "output_type": "stream",
     "text": [
      "C:\\Users\\Harsh Clean\\AppData\\Local\\Temp\\ipykernel_14728\\2295723168.py:44: FutureWarning: The frame.append method is deprecated and will be removed from pandas in a future version. Use pandas.concat instead.\n",
      "  results_df = results_df.append({'ngram': ngram, 'word_count': word_count, 'review_id': max_review_id, 'thumbs_up_count': max_thumbs_up}, ignore_index=True) # type: ignore\n"
     ]
    },
    {
     "name": "stdout",
     "output_type": "stream",
     "text": [
      "Finding the review with the most thumbs up count containing \"is the best app for\"...\n"
     ]
    },
    {
     "name": "stderr",
     "output_type": "stream",
     "text": [
      "C:\\Users\\Harsh Clean\\AppData\\Local\\Temp\\ipykernel_14728\\2295723168.py:44: FutureWarning: The frame.append method is deprecated and will be removed from pandas in a future version. Use pandas.concat instead.\n",
      "  results_df = results_df.append({'ngram': ngram, 'word_count': word_count, 'review_id': max_review_id, 'thumbs_up_count': max_thumbs_up}, ignore_index=True) # type: ignore\n"
     ]
    },
    {
     "name": "stdout",
     "output_type": "stream",
     "text": [
      "Finding the review with the most thumbs up count containing \"i am not able to\"...\n"
     ]
    },
    {
     "name": "stderr",
     "output_type": "stream",
     "text": [
      "C:\\Users\\Harsh Clean\\AppData\\Local\\Temp\\ipykernel_14728\\2295723168.py:44: FutureWarning: The frame.append method is deprecated and will be removed from pandas in a future version. Use pandas.concat instead.\n",
      "  results_df = results_df.append({'ngram': ngram, 'word_count': word_count, 'review_id': max_review_id, 'thumbs_up_count': max_thumbs_up}, ignore_index=True) # type: ignore\n"
     ]
    },
    {
     "name": "stdout",
     "output_type": "stream",
     "text": [
      "Finding the review with the most thumbs up count containing \"very good app for teenagers\"...\n"
     ]
    },
    {
     "name": "stderr",
     "output_type": "stream",
     "text": [
      "C:\\Users\\Harsh Clean\\AppData\\Local\\Temp\\ipykernel_14728\\2295723168.py:44: FutureWarning: The frame.append method is deprecated and will be removed from pandas in a future version. Use pandas.concat instead.\n",
      "  results_df = results_df.append({'ngram': ngram, 'word_count': word_count, 'review_id': max_review_id, 'thumbs_up_count': max_thumbs_up}, ignore_index=True) # type: ignore\n"
     ]
    },
    {
     "name": "stdout",
     "output_type": "stream",
     "text": [
      "Finding the review with the most thumbs up count containing \"is a very good app\"...\n"
     ]
    },
    {
     "name": "stderr",
     "output_type": "stream",
     "text": [
      "C:\\Users\\Harsh Clean\\AppData\\Local\\Temp\\ipykernel_14728\\2295723168.py:44: FutureWarning: The frame.append method is deprecated and will be removed from pandas in a future version. Use pandas.concat instead.\n",
      "  results_df = results_df.append({'ngram': ngram, 'word_count': word_count, 'review_id': max_review_id, 'thumbs_up_count': max_thumbs_up}, ignore_index=True) # type: ignore\n"
     ]
    },
    {
     "name": "stdout",
     "output_type": "stream",
     "text": [
      "Finding the review with the most thumbs up count containing \"This app is good but\"...\n"
     ]
    },
    {
     "name": "stderr",
     "output_type": "stream",
     "text": [
      "C:\\Users\\Harsh Clean\\AppData\\Local\\Temp\\ipykernel_14728\\2295723168.py:44: FutureWarning: The frame.append method is deprecated and will be removed from pandas in a future version. Use pandas.concat instead.\n",
      "  results_df = results_df.append({'ngram': ngram, 'word_count': word_count, 'review_id': max_review_id, 'thumbs_up_count': max_thumbs_up}, ignore_index=True) # type: ignore\n"
     ]
    },
    {
     "name": "stdout",
     "output_type": "stream",
     "text": [
      "Finding the review with the most thumbs up count containing \"this app is very good\"...\n"
     ]
    },
    {
     "name": "stderr",
     "output_type": "stream",
     "text": [
      "C:\\Users\\Harsh Clean\\AppData\\Local\\Temp\\ipykernel_14728\\2295723168.py:44: FutureWarning: The frame.append method is deprecated and will be removed from pandas in a future version. Use pandas.concat instead.\n",
      "  results_df = results_df.append({'ngram': ngram, 'word_count': word_count, 'review_id': max_review_id, 'thumbs_up_count': max_thumbs_up}, ignore_index=True) # type: ignore\n"
     ]
    },
    {
     "name": "stdout",
     "output_type": "stream",
     "text": [
      "Finding the review with the most thumbs up count containing \"This is the best app\"...\n"
     ]
    },
    {
     "name": "stderr",
     "output_type": "stream",
     "text": [
      "C:\\Users\\Harsh Clean\\AppData\\Local\\Temp\\ipykernel_14728\\2295723168.py:44: FutureWarning: The frame.append method is deprecated and will be removed from pandas in a future version. Use pandas.concat instead.\n",
      "  results_df = results_df.append({'ngram': ngram, 'word_count': word_count, 'review_id': max_review_id, 'thumbs_up_count': max_thumbs_up}, ignore_index=True) # type: ignore\n"
     ]
    },
    {
     "name": "stdout",
     "output_type": "stream",
     "text": [
      "Finding the review with the most thumbs up count containing \"a very good app for\"...\n"
     ]
    },
    {
     "name": "stderr",
     "output_type": "stream",
     "text": [
      "C:\\Users\\Harsh Clean\\AppData\\Local\\Temp\\ipykernel_14728\\2295723168.py:44: FutureWarning: The frame.append method is deprecated and will be removed from pandas in a future version. Use pandas.concat instead.\n",
      "  results_df = results_df.append({'ngram': ngram, 'word_count': word_count, 'review_id': max_review_id, 'thumbs_up_count': max_thumbs_up}, ignore_index=True) # type: ignore\n"
     ]
    },
    {
     "name": "stdout",
     "output_type": "stream",
     "text": [
      "Generating 6-grams...\n",
      "Finding the review with the most thumbs up count containing each 6-gram...\n",
      "Finding the review with the most thumbs up count containing \"This is the best app for\"...\n"
     ]
    },
    {
     "name": "stderr",
     "output_type": "stream",
     "text": [
      "C:\\Users\\Harsh Clean\\AppData\\Local\\Temp\\ipykernel_14728\\2295723168.py:44: FutureWarning: The frame.append method is deprecated and will be removed from pandas in a future version. Use pandas.concat instead.\n",
      "  results_df = results_df.append({'ngram': ngram, 'word_count': word_count, 'review_id': max_review_id, 'thumbs_up_count': max_thumbs_up}, ignore_index=True) # type: ignore\n"
     ]
    },
    {
     "name": "stdout",
     "output_type": "stream",
     "text": [
      "Finding the review with the most thumbs up count containing \"is the best app for teenagers\"...\n"
     ]
    },
    {
     "name": "stderr",
     "output_type": "stream",
     "text": [
      "C:\\Users\\Harsh Clean\\AppData\\Local\\Temp\\ipykernel_14728\\2295723168.py:44: FutureWarning: The frame.append method is deprecated and will be removed from pandas in a future version. Use pandas.concat instead.\n",
      "  results_df = results_df.append({'ngram': ngram, 'word_count': word_count, 'review_id': max_review_id, 'thumbs_up_count': max_thumbs_up}, ignore_index=True) # type: ignore\n"
     ]
    },
    {
     "name": "stdout",
     "output_type": "stream",
     "text": [
      "Finding the review with the most thumbs up count containing \"is a very good app for\"...\n"
     ]
    },
    {
     "name": "stderr",
     "output_type": "stream",
     "text": [
      "C:\\Users\\Harsh Clean\\AppData\\Local\\Temp\\ipykernel_14728\\2295723168.py:44: FutureWarning: The frame.append method is deprecated and will be removed from pandas in a future version. Use pandas.concat instead.\n",
      "  results_df = results_df.append({'ngram': ngram, 'word_count': word_count, 'review_id': max_review_id, 'thumbs_up_count': max_thumbs_up}, ignore_index=True) # type: ignore\n"
     ]
    },
    {
     "name": "stdout",
     "output_type": "stream",
     "text": [
      "Finding the review with the most thumbs up count containing \"This is a very good app\"...\n"
     ]
    },
    {
     "name": "stderr",
     "output_type": "stream",
     "text": [
      "C:\\Users\\Harsh Clean\\AppData\\Local\\Temp\\ipykernel_14728\\2295723168.py:44: FutureWarning: The frame.append method is deprecated and will be removed from pandas in a future version. Use pandas.concat instead.\n",
      "  results_df = results_df.append({'ngram': ngram, 'word_count': word_count, 'review_id': max_review_id, 'thumbs_up_count': max_thumbs_up}, ignore_index=True) # type: ignore\n"
     ]
    },
    {
     "name": "stdout",
     "output_type": "stream",
     "text": [
      "Finding the review with the most thumbs up count containing \"I am not able to do\"...\n"
     ]
    },
    {
     "name": "stderr",
     "output_type": "stream",
     "text": [
      "C:\\Users\\Harsh Clean\\AppData\\Local\\Temp\\ipykernel_14728\\2295723168.py:44: FutureWarning: The frame.append method is deprecated and will be removed from pandas in a future version. Use pandas.concat instead.\n",
      "  results_df = results_df.append({'ngram': ngram, 'word_count': word_count, 'review_id': max_review_id, 'thumbs_up_count': max_thumbs_up}, ignore_index=True) # type: ignore\n"
     ]
    },
    {
     "name": "stdout",
     "output_type": "stream",
     "text": [
      "Finding the review with the most thumbs up count containing \"This app is very useful for\"...\n"
     ]
    },
    {
     "name": "stderr",
     "output_type": "stream",
     "text": [
      "C:\\Users\\Harsh Clean\\AppData\\Local\\Temp\\ipykernel_14728\\2295723168.py:44: FutureWarning: The frame.append method is deprecated and will be removed from pandas in a future version. Use pandas.concat instead.\n",
      "  results_df = results_df.append({'ngram': ngram, 'word_count': word_count, 'review_id': max_review_id, 'thumbs_up_count': max_thumbs_up}, ignore_index=True) # type: ignore\n"
     ]
    },
    {
     "name": "stdout",
     "output_type": "stream",
     "text": [
      "Finding the review with the most thumbs up count containing \"this is the best app for\"...\n"
     ]
    },
    {
     "name": "stderr",
     "output_type": "stream",
     "text": [
      "C:\\Users\\Harsh Clean\\AppData\\Local\\Temp\\ipykernel_14728\\2295723168.py:44: FutureWarning: The frame.append method is deprecated and will be removed from pandas in a future version. Use pandas.concat instead.\n",
      "  results_df = results_df.append({'ngram': ngram, 'word_count': word_count, 'review_id': max_review_id, 'thumbs_up_count': max_thumbs_up}, ignore_index=True) # type: ignore\n"
     ]
    },
    {
     "name": "stdout",
     "output_type": "stream",
     "text": [
      "Finding the review with the most thumbs up count containing \"This app is very good for\"...\n"
     ]
    },
    {
     "name": "stderr",
     "output_type": "stream",
     "text": [
      "C:\\Users\\Harsh Clean\\AppData\\Local\\Temp\\ipykernel_14728\\2295723168.py:44: FutureWarning: The frame.append method is deprecated and will be removed from pandas in a future version. Use pandas.concat instead.\n",
      "  results_df = results_df.append({'ngram': ngram, 'word_count': word_count, 'review_id': max_review_id, 'thumbs_up_count': max_thumbs_up}, ignore_index=True) # type: ignore\n"
     ]
    },
    {
     "name": "stdout",
     "output_type": "stream",
     "text": [
      "Finding the review with the most thumbs up count containing \"I am not able to see\"...\n"
     ]
    },
    {
     "name": "stderr",
     "output_type": "stream",
     "text": [
      "C:\\Users\\Harsh Clean\\AppData\\Local\\Temp\\ipykernel_14728\\2295723168.py:44: FutureWarning: The frame.append method is deprecated and will be removed from pandas in a future version. Use pandas.concat instead.\n",
      "  results_df = results_df.append({'ngram': ngram, 'word_count': word_count, 'review_id': max_review_id, 'thumbs_up_count': max_thumbs_up}, ignore_index=True) # type: ignore\n"
     ]
    },
    {
     "name": "stdout",
     "output_type": "stream",
     "text": [
      "Finding the review with the most thumbs up count containing \"I am not able to pay\"...\n"
     ]
    },
    {
     "name": "stderr",
     "output_type": "stream",
     "text": [
      "C:\\Users\\Harsh Clean\\AppData\\Local\\Temp\\ipykernel_14728\\2295723168.py:44: FutureWarning: The frame.append method is deprecated and will be removed from pandas in a future version. Use pandas.concat instead.\n",
      "  results_df = results_df.append({'ngram': ngram, 'word_count': word_count, 'review_id': max_review_id, 'thumbs_up_count': max_thumbs_up}, ignore_index=True) # type: ignore\n"
     ]
    },
    {
     "name": "stdout",
     "output_type": "stream",
     "text": [
      "Generating 7-grams...\n",
      "Finding the review with the most thumbs up count containing each 7-gram...\n",
      "Finding the review with the most thumbs up count containing \"I am not able to see my\"...\n"
     ]
    },
    {
     "name": "stderr",
     "output_type": "stream",
     "text": [
      "C:\\Users\\Harsh Clean\\AppData\\Local\\Temp\\ipykernel_14728\\2295723168.py:44: FutureWarning: The frame.append method is deprecated and will be removed from pandas in a future version. Use pandas.concat instead.\n",
      "  results_df = results_df.append({'ngram': ngram, 'word_count': word_count, 'review_id': max_review_id, 'thumbs_up_count': max_thumbs_up}, ignore_index=True) # type: ignore\n"
     ]
    },
    {
     "name": "stdout",
     "output_type": "stream",
     "text": [
      "Finding the review with the most thumbs up count containing \"This is a very good app for\"...\n"
     ]
    },
    {
     "name": "stderr",
     "output_type": "stream",
     "text": [
      "C:\\Users\\Harsh Clean\\AppData\\Local\\Temp\\ipykernel_14728\\2295723168.py:44: FutureWarning: The frame.append method is deprecated and will be removed from pandas in a future version. Use pandas.concat instead.\n",
      "  results_df = results_df.append({'ngram': ngram, 'word_count': word_count, 'review_id': max_review_id, 'thumbs_up_count': max_thumbs_up}, ignore_index=True) # type: ignore\n"
     ]
    },
    {
     "name": "stdout",
     "output_type": "stream",
     "text": [
      "Finding the review with the most thumbs up count containing \"This is the best app for teenagers\"...\n"
     ]
    },
    {
     "name": "stderr",
     "output_type": "stream",
     "text": [
      "C:\\Users\\Harsh Clean\\AppData\\Local\\Temp\\ipykernel_14728\\2295723168.py:44: FutureWarning: The frame.append method is deprecated and will be removed from pandas in a future version. Use pandas.concat instead.\n",
      "  results_df = results_df.append({'ngram': ngram, 'word_count': word_count, 'review_id': max_review_id, 'thumbs_up_count': max_thumbs_up}, ignore_index=True) # type: ignore\n"
     ]
    },
    {
     "name": "stdout",
     "output_type": "stream",
     "text": [
      "Finding the review with the most thumbs up count containing \"This app is very useful for teenagers\"...\n"
     ]
    },
    {
     "name": "stderr",
     "output_type": "stream",
     "text": [
      "C:\\Users\\Harsh Clean\\AppData\\Local\\Temp\\ipykernel_14728\\2295723168.py:44: FutureWarning: The frame.append method is deprecated and will be removed from pandas in a future version. Use pandas.concat instead.\n",
      "  results_df = results_df.append({'ngram': ngram, 'word_count': word_count, 'review_id': max_review_id, 'thumbs_up_count': max_thumbs_up}, ignore_index=True) # type: ignore\n"
     ]
    },
    {
     "name": "stdout",
     "output_type": "stream",
     "text": [
      "Finding the review with the most thumbs up count containing \"I have been using this app for\"...\n"
     ]
    },
    {
     "name": "stderr",
     "output_type": "stream",
     "text": [
      "C:\\Users\\Harsh Clean\\AppData\\Local\\Temp\\ipykernel_14728\\2295723168.py:44: FutureWarning: The frame.append method is deprecated and will be removed from pandas in a future version. Use pandas.concat instead.\n",
      "  results_df = results_df.append({'ngram': ngram, 'word_count': word_count, 'review_id': max_review_id, 'thumbs_up_count': max_thumbs_up}, ignore_index=True) # type: ignore\n"
     ]
    },
    {
     "name": "stdout",
     "output_type": "stream",
     "text": [
      "Finding the review with the most thumbs up count containing \"this is the best app for teenagers\"...\n"
     ]
    },
    {
     "name": "stderr",
     "output_type": "stream",
     "text": [
      "C:\\Users\\Harsh Clean\\AppData\\Local\\Temp\\ipykernel_14728\\2295723168.py:44: FutureWarning: The frame.append method is deprecated and will be removed from pandas in a future version. Use pandas.concat instead.\n",
      "  results_df = results_df.append({'ngram': ngram, 'word_count': word_count, 'review_id': max_review_id, 'thumbs_up_count': max_thumbs_up}, ignore_index=True) # type: ignore\n"
     ]
    },
    {
     "name": "stdout",
     "output_type": "stream",
     "text": [
      "Finding the review with the most thumbs up count containing \"am not able to see my card\"...\n"
     ]
    },
    {
     "name": "stderr",
     "output_type": "stream",
     "text": [
      "C:\\Users\\Harsh Clean\\AppData\\Local\\Temp\\ipykernel_14728\\2295723168.py:44: FutureWarning: The frame.append method is deprecated and will be removed from pandas in a future version. Use pandas.concat instead.\n",
      "  results_df = results_df.append({'ngram': ngram, 'word_count': word_count, 'review_id': max_review_id, 'thumbs_up_count': max_thumbs_up}, ignore_index=True) # type: ignore\n"
     ]
    },
    {
     "name": "stdout",
     "output_type": "stream",
     "text": [
      "Finding the review with the most thumbs up count containing \"is one of the best app for\"...\n"
     ]
    },
    {
     "name": "stderr",
     "output_type": "stream",
     "text": [
      "C:\\Users\\Harsh Clean\\AppData\\Local\\Temp\\ipykernel_14728\\2295723168.py:44: FutureWarning: The frame.append method is deprecated and will be removed from pandas in a future version. Use pandas.concat instead.\n",
      "  results_df = results_df.append({'ngram': ngram, 'word_count': word_count, 'review_id': max_review_id, 'thumbs_up_count': max_thumbs_up}, ignore_index=True) # type: ignore\n"
     ]
    },
    {
     "name": "stdout",
     "output_type": "stream",
     "text": [
      "Finding the review with the most thumbs up count containing \"I am not able to send money\"...\n"
     ]
    },
    {
     "name": "stderr",
     "output_type": "stream",
     "text": [
      "C:\\Users\\Harsh Clean\\AppData\\Local\\Temp\\ipykernel_14728\\2295723168.py:44: FutureWarning: The frame.append method is deprecated and will be removed from pandas in a future version. Use pandas.concat instead.\n",
      "  results_df = results_df.append({'ngram': ngram, 'word_count': word_count, 'review_id': max_review_id, 'thumbs_up_count': max_thumbs_up}, ignore_index=True) # type: ignore\n"
     ]
    },
    {
     "name": "stdout",
     "output_type": "stream",
     "text": [
      "Finding the review with the most thumbs up count containing \"for teenagers so I would highly recommend\"...\n"
     ]
    },
    {
     "name": "stderr",
     "output_type": "stream",
     "text": [
      "C:\\Users\\Harsh Clean\\AppData\\Local\\Temp\\ipykernel_14728\\2295723168.py:44: FutureWarning: The frame.append method is deprecated and will be removed from pandas in a future version. Use pandas.concat instead.\n",
      "  results_df = results_df.append({'ngram': ngram, 'word_count': word_count, 'review_id': max_review_id, 'thumbs_up_count': max_thumbs_up}, ignore_index=True) # type: ignore\n"
     ]
    },
    {
     "name": "stdout",
     "output_type": "stream",
     "text": [
      "Generating 8-grams...\n",
      "Finding the review with the most thumbs up count containing each 8-gram...\n",
      "Finding the review with the most thumbs up count containing \"are currently building the fam experience for your\"...\n"
     ]
    },
    {
     "name": "stderr",
     "output_type": "stream",
     "text": [
      "C:\\Users\\Harsh Clean\\AppData\\Local\\Temp\\ipykernel_14728\\2295723168.py:44: FutureWarning: The frame.append method is deprecated and will be removed from pandas in a future version. Use pandas.concat instead.\n",
      "  results_df = results_df.append({'ngram': ngram, 'word_count': word_count, 'review_id': max_review_id, 'thumbs_up_count': max_thumbs_up}, ignore_index=True) # type: ignore\n"
     ]
    },
    {
     "name": "stdout",
     "output_type": "stream",
     "text": [
      "Finding the review with the most thumbs up count containing \"I am not able to see my card\"...\n"
     ]
    },
    {
     "name": "stderr",
     "output_type": "stream",
     "text": [
      "C:\\Users\\Harsh Clean\\AppData\\Local\\Temp\\ipykernel_14728\\2295723168.py:44: FutureWarning: The frame.append method is deprecated and will be removed from pandas in a future version. Use pandas.concat instead.\n",
      "  results_df = results_df.append({'ngram': ngram, 'word_count': word_count, 'review_id': max_review_id, 'thumbs_up_count': max_thumbs_up}, ignore_index=True) # type: ignore\n"
     ]
    },
    {
     "name": "stdout",
     "output_type": "stream",
     "text": [
      "Finding the review with the most thumbs up count containing \"for teenagers so I would highly recommend this\"...\n"
     ]
    },
    {
     "name": "stderr",
     "output_type": "stream",
     "text": [
      "C:\\Users\\Harsh Clean\\AppData\\Local\\Temp\\ipykernel_14728\\2295723168.py:44: FutureWarning: The frame.append method is deprecated and will be removed from pandas in a future version. Use pandas.concat instead.\n",
      "  results_df = results_df.append({'ngram': ngram, 'word_count': word_count, 'review_id': max_review_id, 'thumbs_up_count': max_thumbs_up}, ignore_index=True) # type: ignore\n"
     ]
    },
    {
     "name": "stdout",
     "output_type": "stream",
     "text": [
      "Finding the review with the most thumbs up count containing \"we are currently building the fam experience for\"...\n"
     ]
    },
    {
     "name": "stderr",
     "output_type": "stream",
     "text": [
      "C:\\Users\\Harsh Clean\\AppData\\Local\\Temp\\ipykernel_14728\\2295723168.py:44: FutureWarning: The frame.append method is deprecated and will be removed from pandas in a future version. Use pandas.concat instead.\n",
      "  results_df = results_df.append({'ngram': ngram, 'word_count': word_count, 'review_id': max_review_id, 'thumbs_up_count': max_thumbs_up}, ignore_index=True) # type: ignore\n"
     ]
    },
    {
     "name": "stdout",
     "output_type": "stream",
     "text": [
      "Finding the review with the most thumbs up count containing \"debit card app which is specially made for\"...\n"
     ]
    },
    {
     "name": "stderr",
     "output_type": "stream",
     "text": [
      "C:\\Users\\Harsh Clean\\AppData\\Local\\Temp\\ipykernel_14728\\2295723168.py:44: FutureWarning: The frame.append method is deprecated and will be removed from pandas in a future version. Use pandas.concat instead.\n",
      "  results_df = results_df.append({'ngram': ngram, 'word_count': word_count, 'review_id': max_review_id, 'thumbs_up_count': max_thumbs_up}, ignore_index=True) # type: ignore\n"
     ]
    },
    {
     "name": "stdout",
     "output_type": "stream",
     "text": [
      "Finding the review with the most thumbs up count containing \"app in my phone which is specially made\"...\n"
     ]
    },
    {
     "name": "stderr",
     "output_type": "stream",
     "text": [
      "C:\\Users\\Harsh Clean\\AppData\\Local\\Temp\\ipykernel_14728\\2295723168.py:44: FutureWarning: The frame.append method is deprecated and will be removed from pandas in a future version. Use pandas.concat instead.\n",
      "  results_df = results_df.append({'ngram': ngram, 'word_count': word_count, 'review_id': max_review_id, 'thumbs_up_count': max_thumbs_up}, ignore_index=True) # type: ignore\n"
     ]
    },
    {
     "name": "stdout",
     "output_type": "stream",
     "text": [
      "Finding the review with the most thumbs up count containing \"in my phone which is specially made for\"...\n"
     ]
    },
    {
     "name": "stderr",
     "output_type": "stream",
     "text": [
      "C:\\Users\\Harsh Clean\\AppData\\Local\\Temp\\ipykernel_14728\\2295723168.py:44: FutureWarning: The frame.append method is deprecated and will be removed from pandas in a future version. Use pandas.concat instead.\n",
      "  results_df = results_df.append({'ngram': ngram, 'word_count': word_count, 'review_id': max_review_id, 'thumbs_up_count': max_thumbs_up}, ignore_index=True) # type: ignore\n"
     ]
    },
    {
     "name": "stdout",
     "output_type": "stream",
     "text": [
      "Finding the review with the most thumbs up count containing \"so I would highly recommend this app to\"...\n"
     ]
    },
    {
     "name": "stderr",
     "output_type": "stream",
     "text": [
      "C:\\Users\\Harsh Clean\\AppData\\Local\\Temp\\ipykernel_14728\\2295723168.py:44: FutureWarning: The frame.append method is deprecated and will be removed from pandas in a future version. Use pandas.concat instead.\n",
      "  results_df = results_df.append({'ngram': ngram, 'word_count': word_count, 'review_id': max_review_id, 'thumbs_up_count': max_thumbs_up}, ignore_index=True) # type: ignore\n"
     ]
    },
    {
     "name": "stdout",
     "output_type": "stream",
     "text": [
      "Finding the review with the most thumbs up count containing \"my phone which is specially made for teenagers\"...\n"
     ]
    },
    {
     "name": "stderr",
     "output_type": "stream",
     "text": [
      "C:\\Users\\Harsh Clean\\AppData\\Local\\Temp\\ipykernel_14728\\2295723168.py:44: FutureWarning: The frame.append method is deprecated and will be removed from pandas in a future version. Use pandas.concat instead.\n",
      "  results_df = results_df.append({'ngram': ngram, 'word_count': word_count, 'review_id': max_review_id, 'thumbs_up_count': max_thumbs_up}, ignore_index=True) # type: ignore\n"
     ]
    },
    {
     "name": "stdout",
     "output_type": "stream",
     "text": [
      "Finding the review with the most thumbs up count containing \"app I have ever seen in my life\"...\n"
     ]
    },
    {
     "name": "stderr",
     "output_type": "stream",
     "text": [
      "C:\\Users\\Harsh Clean\\AppData\\Local\\Temp\\ipykernel_14728\\2295723168.py:44: FutureWarning: The frame.append method is deprecated and will be removed from pandas in a future version. Use pandas.concat instead.\n",
      "  results_df = results_df.append({'ngram': ngram, 'word_count': word_count, 'review_id': max_review_id, 'thumbs_up_count': max_thumbs_up}, ignore_index=True) # type: ignore\n"
     ]
    },
    {
     "name": "stdout",
     "output_type": "stream",
     "text": [
      "Generating 9-grams...\n",
      "Finding the review with the most thumbs up count containing each 9-gram...\n",
      "Finding the review with the most thumbs up count containing \"we are currently building the fam experience for your\"...\n"
     ]
    },
    {
     "name": "stderr",
     "output_type": "stream",
     "text": [
      "C:\\Users\\Harsh Clean\\AppData\\Local\\Temp\\ipykernel_14728\\2295723168.py:44: FutureWarning: The frame.append method is deprecated and will be removed from pandas in a future version. Use pandas.concat instead.\n",
      "  results_df = results_df.append({'ngram': ngram, 'word_count': word_count, 'review_id': max_review_id, 'thumbs_up_count': max_thumbs_up}, ignore_index=True) # type: ignore\n"
     ]
    },
    {
     "name": "stdout",
     "output_type": "stream",
     "text": [
      "Finding the review with the most thumbs up count containing \"app in my phone which is specially made for\"...\n"
     ]
    },
    {
     "name": "stderr",
     "output_type": "stream",
     "text": [
      "C:\\Users\\Harsh Clean\\AppData\\Local\\Temp\\ipykernel_14728\\2295723168.py:44: FutureWarning: The frame.append method is deprecated and will be removed from pandas in a future version. Use pandas.concat instead.\n",
      "  results_df = results_df.append({'ngram': ngram, 'word_count': word_count, 'review_id': max_review_id, 'thumbs_up_count': max_thumbs_up}, ignore_index=True) # type: ignore\n"
     ]
    },
    {
     "name": "stdout",
     "output_type": "stream",
     "text": [
      "Finding the review with the most thumbs up count containing \"in my phone which is specially made for teenagers\"...\n"
     ]
    },
    {
     "name": "stderr",
     "output_type": "stream",
     "text": [
      "C:\\Users\\Harsh Clean\\AppData\\Local\\Temp\\ipykernel_14728\\2295723168.py:44: FutureWarning: The frame.append method is deprecated and will be removed from pandas in a future version. Use pandas.concat instead.\n",
      "  results_df = results_df.append({'ngram': ngram, 'word_count': word_count, 'review_id': max_review_id, 'thumbs_up_count': max_thumbs_up}, ignore_index=True) # type: ignore\n"
     ]
    },
    {
     "name": "stdout",
     "output_type": "stream",
     "text": [
      "Finding the review with the most thumbs up count containing \"is the best debit card for teenagers, lovely tool\"...\n"
     ]
    },
    {
     "name": "stderr",
     "output_type": "stream",
     "text": [
      "C:\\Users\\Harsh Clean\\AppData\\Local\\Temp\\ipykernel_14728\\2295723168.py:44: FutureWarning: The frame.append method is deprecated and will be removed from pandas in a future version. Use pandas.concat instead.\n",
      "  results_df = results_df.append({'ngram': ngram, 'word_count': word_count, 'review_id': max_review_id, 'thumbs_up_count': max_thumbs_up}, ignore_index=True) # type: ignore\n"
     ]
    },
    {
     "name": "stdout",
     "output_type": "stream",
     "text": [
      "Finding the review with the most thumbs up count containing \"are currently building the fam experience for your location\"...\n"
     ]
    },
    {
     "name": "stderr",
     "output_type": "stream",
     "text": [
      "C:\\Users\\Harsh Clean\\AppData\\Local\\Temp\\ipykernel_14728\\2295723168.py:44: FutureWarning: The frame.append method is deprecated and will be removed from pandas in a future version. Use pandas.concat instead.\n",
      "  results_df = results_df.append({'ngram': ngram, 'word_count': word_count, 'review_id': max_review_id, 'thumbs_up_count': max_thumbs_up}, ignore_index=True) # type: ignore\n"
     ]
    },
    {
     "name": "stdout",
     "output_type": "stream",
     "text": [
      "Finding the review with the most thumbs up count containing \"apps available in play store but this FamPay app\"...\n"
     ]
    },
    {
     "name": "stderr",
     "output_type": "stream",
     "text": [
      "C:\\Users\\Harsh Clean\\AppData\\Local\\Temp\\ipykernel_14728\\2295723168.py:44: FutureWarning: The frame.append method is deprecated and will be removed from pandas in a future version. Use pandas.concat instead.\n",
      "  results_df = results_df.append({'ngram': ngram, 'word_count': word_count, 'review_id': max_review_id, 'thumbs_up_count': max_thumbs_up}, ignore_index=True) # type: ignore\n"
     ]
    },
    {
     "name": "stdout",
     "output_type": "stream",
     "text": [
      "Finding the review with the most thumbs up count containing \"available in play store but this FamPay app is\"...\n"
     ]
    },
    {
     "name": "stderr",
     "output_type": "stream",
     "text": [
      "C:\\Users\\Harsh Clean\\AppData\\Local\\Temp\\ipykernel_14728\\2295723168.py:44: FutureWarning: The frame.append method is deprecated and will be removed from pandas in a future version. Use pandas.concat instead.\n",
      "  results_df = results_df.append({'ngram': ngram, 'word_count': word_count, 'review_id': max_review_id, 'thumbs_up_count': max_thumbs_up}, ignore_index=True) # type: ignore\n"
     ]
    },
    {
     "name": "stdout",
     "output_type": "stream",
     "text": [
      "Finding the review with the most thumbs up count containing \"in play store but this FamPay app is really\"...\n"
     ]
    },
    {
     "name": "stderr",
     "output_type": "stream",
     "text": [
      "C:\\Users\\Harsh Clean\\AppData\\Local\\Temp\\ipykernel_14728\\2295723168.py:44: FutureWarning: The frame.append method is deprecated and will be removed from pandas in a future version. Use pandas.concat instead.\n",
      "  results_df = results_df.append({'ngram': ngram, 'word_count': word_count, 'review_id': max_review_id, 'thumbs_up_count': max_thumbs_up}, ignore_index=True) # type: ignore\n"
     ]
    },
    {
     "name": "stdout",
     "output_type": "stream",
     "text": [
      "Finding the review with the most thumbs up count containing \"the best debit card for teenagers who do well.\"...\n"
     ]
    },
    {
     "name": "stderr",
     "output_type": "stream",
     "text": [
      "C:\\Users\\Harsh Clean\\AppData\\Local\\Temp\\ipykernel_14728\\2295723168.py:44: FutureWarning: The frame.append method is deprecated and will be removed from pandas in a future version. Use pandas.concat instead.\n",
      "  results_df = results_df.append({'ngram': ngram, 'word_count': word_count, 'review_id': max_review_id, 'thumbs_up_count': max_thumbs_up}, ignore_index=True) # type: ignore\n"
     ]
    },
    {
     "name": "stdout",
     "output_type": "stream",
     "text": [
      "Finding the review with the most thumbs up count containing \"so I would highly recommend this card to everyone.\"...\n"
     ]
    },
    {
     "name": "stderr",
     "output_type": "stream",
     "text": [
      "C:\\Users\\Harsh Clean\\AppData\\Local\\Temp\\ipykernel_14728\\2295723168.py:44: FutureWarning: The frame.append method is deprecated and will be removed from pandas in a future version. Use pandas.concat instead.\n",
      "  results_df = results_df.append({'ngram': ngram, 'word_count': word_count, 'review_id': max_review_id, 'thumbs_up_count': max_thumbs_up}, ignore_index=True) # type: ignore\n"
     ]
    },
    {
     "name": "stdout",
     "output_type": "stream",
     "text": [
      "Generating 10-grams...\n",
      "Finding the review with the most thumbs up count containing each 10-gram...\n",
      "Finding the review with the most thumbs up count containing \"app in my phone which is specially made for teenagers\"...\n"
     ]
    },
    {
     "name": "stderr",
     "output_type": "stream",
     "text": [
      "C:\\Users\\Harsh Clean\\AppData\\Local\\Temp\\ipykernel_14728\\2295723168.py:44: FutureWarning: The frame.append method is deprecated and will be removed from pandas in a future version. Use pandas.concat instead.\n",
      "  results_df = results_df.append({'ngram': ngram, 'word_count': word_count, 'review_id': max_review_id, 'thumbs_up_count': max_thumbs_up}, ignore_index=True) # type: ignore\n"
     ]
    },
    {
     "name": "stdout",
     "output_type": "stream",
     "text": [
      "Finding the review with the most thumbs up count containing \"we are currently building the fam experience for your location\"...\n"
     ]
    },
    {
     "name": "stderr",
     "output_type": "stream",
     "text": [
      "C:\\Users\\Harsh Clean\\AppData\\Local\\Temp\\ipykernel_14728\\2295723168.py:44: FutureWarning: The frame.append method is deprecated and will be removed from pandas in a future version. Use pandas.concat instead.\n",
      "  results_df = results_df.append({'ngram': ngram, 'word_count': word_count, 'review_id': max_review_id, 'thumbs_up_count': max_thumbs_up}, ignore_index=True) # type: ignore\n"
     ]
    },
    {
     "name": "stdout",
     "output_type": "stream",
     "text": [
      "Finding the review with the most thumbs up count containing \"apps available in play store but this FamPay app is\"...\n"
     ]
    },
    {
     "name": "stderr",
     "output_type": "stream",
     "text": [
      "C:\\Users\\Harsh Clean\\AppData\\Local\\Temp\\ipykernel_14728\\2295723168.py:44: FutureWarning: The frame.append method is deprecated and will be removed from pandas in a future version. Use pandas.concat instead.\n",
      "  results_df = results_df.append({'ngram': ngram, 'word_count': word_count, 'review_id': max_review_id, 'thumbs_up_count': max_thumbs_up}, ignore_index=True) # type: ignore\n"
     ]
    },
    {
     "name": "stdout",
     "output_type": "stream",
     "text": [
      "Finding the review with the most thumbs up count containing \"available in play store but this FamPay app is really\"...\n"
     ]
    },
    {
     "name": "stderr",
     "output_type": "stream",
     "text": [
      "C:\\Users\\Harsh Clean\\AppData\\Local\\Temp\\ipykernel_14728\\2295723168.py:44: FutureWarning: The frame.append method is deprecated and will be removed from pandas in a future version. Use pandas.concat instead.\n",
      "  results_df = results_df.append({'ngram': ngram, 'word_count': word_count, 'review_id': max_review_id, 'thumbs_up_count': max_thumbs_up}, ignore_index=True) # type: ignore\n"
     ]
    },
    {
     "name": "stdout",
     "output_type": "stream",
     "text": [
      "Finding the review with the most thumbs up count containing \"app in market which is the best debit card for\"...\n"
     ]
    },
    {
     "name": "stderr",
     "output_type": "stream",
     "text": [
      "C:\\Users\\Harsh Clean\\AppData\\Local\\Temp\\ipykernel_14728\\2295723168.py:44: FutureWarning: The frame.append method is deprecated and will be removed from pandas in a future version. Use pandas.concat instead.\n",
      "  results_df = results_df.append({'ngram': ngram, 'word_count': word_count, 'review_id': max_review_id, 'thumbs_up_count': max_thumbs_up}, ignore_index=True) # type: ignore\n"
     ]
    },
    {
     "name": "stdout",
     "output_type": "stream",
     "text": [
      "Finding the review with the most thumbs up count containing \"in market which is the best debit card for teenagers,\"...\n"
     ]
    },
    {
     "name": "stderr",
     "output_type": "stream",
     "text": [
      "C:\\Users\\Harsh Clean\\AppData\\Local\\Temp\\ipykernel_14728\\2295723168.py:44: FutureWarning: The frame.append method is deprecated and will be removed from pandas in a future version. Use pandas.concat instead.\n",
      "  results_df = results_df.append({'ngram': ngram, 'word_count': word_count, 'review_id': max_review_id, 'thumbs_up_count': max_thumbs_up}, ignore_index=True) # type: ignore\n"
     ]
    },
    {
     "name": "stdout",
     "output_type": "stream",
     "text": [
      "Finding the review with the most thumbs up count containing \"market which is the best debit card for teenagers, lovely\"...\n"
     ]
    },
    {
     "name": "stderr",
     "output_type": "stream",
     "text": [
      "C:\\Users\\Harsh Clean\\AppData\\Local\\Temp\\ipykernel_14728\\2295723168.py:44: FutureWarning: The frame.append method is deprecated and will be removed from pandas in a future version. Use pandas.concat instead.\n",
      "  results_df = results_df.append({'ngram': ngram, 'word_count': word_count, 'review_id': max_review_id, 'thumbs_up_count': max_thumbs_up}, ignore_index=True) # type: ignore\n"
     ]
    },
    {
     "name": "stdout",
     "output_type": "stream",
     "text": [
      "Finding the review with the most thumbs up count containing \"which is the best debit card for teenagers, lovely tool\"...\n"
     ]
    },
    {
     "name": "stderr",
     "output_type": "stream",
     "text": [
      "C:\\Users\\Harsh Clean\\AppData\\Local\\Temp\\ipykernel_14728\\2295723168.py:44: FutureWarning: The frame.append method is deprecated and will be removed from pandas in a future version. Use pandas.concat instead.\n",
      "  results_df = results_df.append({'ngram': ngram, 'word_count': word_count, 'review_id': max_review_id, 'thumbs_up_count': max_thumbs_up}, ignore_index=True) # type: ignore\n"
     ]
    },
    {
     "name": "stdout",
     "output_type": "stream",
     "text": [
      "Finding the review with the most thumbs up count containing \"send money to an UPI address and it gives error\"...\n"
     ]
    },
    {
     "name": "stderr",
     "output_type": "stream",
     "text": [
      "C:\\Users\\Harsh Clean\\AppData\\Local\\Temp\\ipykernel_14728\\2295723168.py:44: FutureWarning: The frame.append method is deprecated and will be removed from pandas in a future version. Use pandas.concat instead.\n",
      "  results_df = results_df.append({'ngram': ngram, 'word_count': word_count, 'review_id': max_review_id, 'thumbs_up_count': max_thumbs_up}, ignore_index=True) # type: ignore\n"
     ]
    },
    {
     "name": "stdout",
     "output_type": "stream",
     "text": [
      "Finding the review with the most thumbs up count containing \"money to an UPI address and it gives error saying\"...\n"
     ]
    },
    {
     "name": "stderr",
     "output_type": "stream",
     "text": [
      "C:\\Users\\Harsh Clean\\AppData\\Local\\Temp\\ipykernel_14728\\2295723168.py:44: FutureWarning: The frame.append method is deprecated and will be removed from pandas in a future version. Use pandas.concat instead.\n",
      "  results_df = results_df.append({'ngram': ngram, 'word_count': word_count, 'review_id': max_review_id, 'thumbs_up_count': max_thumbs_up}, ignore_index=True) # type: ignore\n"
     ]
    }
   ],
   "source": [
    "# loop over different values of n\n",
    "for j in range(1, 6):\n",
    "    # read the csv file\n",
    "    df = pd.read_csv(f\"../../Warehouse/Reviews/app_reviews_{j}.csv\")\n",
    "\n",
    "    # convert content column to string\n",
    "    df['content'] = df['content'].astype(str)\n",
    "\n",
    "    # create an empty DataFrame to store the results\n",
    "    results_df = pd.DataFrame(columns=['ngram', 'word_count', 'review_id', 'thumbs_up_count'])\n",
    "    \n",
    "    for i in range(1, 11):\n",
    "\n",
    "        print(f'Generating {i}-grams...')\n",
    "        # generate n-grams and count their frequencies\n",
    "        ngrams_freq = Counter(get_ngrams(text, i)) # type: ignore\n",
    "\n",
    "        # sort n-grams by frequency in descending order\n",
    "        sorted_ngrams = sorted(ngrams_freq.items(), key=lambda x: x[1], reverse=True)\n",
    "\n",
    "        # keep track of the total number of words in the text\n",
    "        total_words = len(text.split())\n",
    "\n",
    "        print(f'Finding the review with the most thumbs up count containing each {i}-gram...')\n",
    "\n",
    "        # loop over the top 10 n-grams\n",
    "        for ngram, freq in sorted_ngrams[:10]:\n",
    "            # find the review with the most thumbs up count containing this n-gram\n",
    "            max_thumbs_up = 0\n",
    "            max_review_id = None\n",
    "            print(f'Finding the review with the most thumbs up count containing \"{ngram}\"...')\n",
    "            for index, row in df.iterrows():\n",
    "                # print(f'Checking review {index}...')\n",
    "                thumbs_up_count = row['thumbsUpCount']\n",
    "                review_content = row['content']\n",
    "                if thumbs_up_count > max_thumbs_up and ngram in review_content:\n",
    "                    max_thumbs_up = thumbs_up_count\n",
    "                    max_review_id = row['reviewId']\n",
    "\n",
    "            # compute the number of times this n-gram appears per 1000 words\n",
    "            word_count = float(freq / total_words) * 1000\n",
    "\n",
    "            # add the result to the DataFrame\n",
    "            results_df = results_df.append({'ngram': ngram, 'word_count': word_count, 'review_id': max_review_id, 'thumbs_up_count': max_thumbs_up}, ignore_index=True) # type: ignore\n",
    "\n",
    "    results_df.to_csv(f'ngram_results_{j}.csv', index=False)"
   ]
  }
 ],
 "metadata": {
  "kernelspec": {
   "display_name": "base",
   "language": "python",
   "name": "python3"
  },
  "language_info": {
   "codemirror_mode": {
    "name": "ipython",
    "version": 3
   },
   "file_extension": ".py",
   "mimetype": "text/x-python",
   "name": "python",
   "nbconvert_exporter": "python",
   "pygments_lexer": "ipython3",
   "version": "3.10.9"
  },
  "orig_nbformat": 4
 },
 "nbformat": 4,
 "nbformat_minor": 2
}
