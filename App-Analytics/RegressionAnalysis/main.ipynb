{
 "cells": [
  {
   "cell_type": "code",
   "execution_count": 1,
   "metadata": {},
   "outputs": [],
   "source": [
    "import pandas as pd\n",
    "from sklearn.model_selection import train_test_split\n",
    "from sklearn.linear_model import LinearRegression\n",
    "from sklearn.metrics import r2_score, mean_squared_error, mean_absolute_error\n",
    "from sklearn.preprocessing import LabelEncoder, MinMaxScaler\n",
    "import pickle"
   ]
  },
  {
   "cell_type": "code",
   "execution_count": 3,
   "metadata": {},
   "outputs": [],
   "source": [
    "df = pd.read_csv('../../Warehouse/Reviews/app_reviews_merged.csv')"
   ]
  },
  {
   "cell_type": "code",
   "execution_count": 4,
   "metadata": {},
   "outputs": [],
   "source": [
    "# Clean the data\n",
    "df = df.dropna(subset=['score', 'thumbsUpCount', 'reviewCreatedVersion'])\n",
    "df = df.reset_index(drop=True)\n",
    "\n",
    "# Encode categorical variable 'reviewCreatedVersion'\n",
    "le = LabelEncoder()\n",
    "df['reviewCreatedVersion_encoded'] = le.fit_transform(df['reviewCreatedVersion'])\n",
    "\n",
    "# Normalize numerical variables\n",
    "scaler = MinMaxScaler()\n",
    "df[['thumbsUpCount_normalized']] = scaler.fit_transform(df[['thumbsUpCount']])\n",
    "\n",
    "# Create feature matrix X and target variable y\n",
    "X = df[['thumbsUpCount_normalized', 'reviewCreatedVersion_encoded']]\n",
    "y = df['score']"
   ]
  },
  {
   "cell_type": "code",
   "execution_count": 5,
   "metadata": {},
   "outputs": [],
   "source": [
    "# Split the data into training and testing datasets\n",
    "X_train, X_test, y_train, y_test = train_test_split(X, y, test_size=0.2, random_state=42)\n",
    "\n",
    "# Train the linear regression model\n",
    "regression_model = LinearRegression()\n",
    "regression_model.fit(X_train, y_train)\n",
    "\n",
    "# Predict the target variable using the testing dataset\n",
    "y_pred = regression_model.predict(X_test)\n",
    "\n",
    "# Evaluate the model\n",
    "r2 = r2_score(y_test, y_pred)\n",
    "mse = mean_squared_error(y_test, y_pred)\n",
    "mae = mean_absolute_error(y_test, y_pred)"
   ]
  },
  {
   "cell_type": "code",
   "execution_count": 8,
   "metadata": {},
   "outputs": [],
   "source": [
    "pickle.dump(regression_model, open('model.pkl', 'wb'))"
   ]
  },
  {
   "cell_type": "code",
   "execution_count": 6,
   "metadata": {},
   "outputs": [
    {
     "name": "stdout",
     "output_type": "stream",
     "text": [
      "R-squared:  0.0047422929139170344\n",
      "Mean Squared Error:  2.7091208058050067\n",
      "Mean Absolute Error:  1.4321246906046519\n",
      "Coefficients:  {'thumbsUpCount_normalized': -4.751381138861692, 'reviewCreatedVersion_encoded': -0.003954022270358937}\n",
      "Intercept:  4.3059838488685385\n"
     ]
    }
   ],
   "source": [
    "print(\"R-squared: \", r2)\n",
    "print(\"Mean Squared Error: \", mse)\n",
    "print(\"Mean Absolute Error: \", mae)\n",
    "\n",
    "# Analyze the coefficients and intercepts\n",
    "coef_dict = {feature: coef for feature, coef in zip(X.columns, regression_model.coef_)}\n",
    "print(\"Coefficients: \", coef_dict)\n",
    "print(\"Intercept: \", regression_model.intercept_)"
   ]
  }
 ],
 "metadata": {
  "kernelspec": {
   "display_name": "base",
   "language": "python",
   "name": "python3"
  },
  "language_info": {
   "codemirror_mode": {
    "name": "ipython",
    "version": 3
   },
   "file_extension": ".py",
   "mimetype": "text/x-python",
   "name": "python",
   "nbconvert_exporter": "python",
   "pygments_lexer": "ipython3",
   "version": "3.10.9"
  },
  "orig_nbformat": 4
 },
 "nbformat": 4,
 "nbformat_minor": 2
}
