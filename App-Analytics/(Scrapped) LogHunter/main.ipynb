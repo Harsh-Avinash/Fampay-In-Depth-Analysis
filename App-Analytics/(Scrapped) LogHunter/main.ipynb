{
 "cells": [
  {
   "cell_type": "code",
   "execution_count": 3,
   "metadata": {},
   "outputs": [],
   "source": [
    "import requests\n",
    "import datetime\n",
    "import time\n",
    "import csv\n",
    "\n",
    "# specify the app ID and URL of the Wayback Machine\n",
    "app_id = 'com.fampay.in'\n",
    "wayback_url = 'http://web.archive.org/cdx/search/cdx?url=https://play.google.com/store/apps/details%3Fid%3D{}%26hl%3Den_IN%26gl%3DUS&output=json'.format(app_id)\n",
    "\n",
    "# set the start and end dates for the interval\n",
    "start_date = datetime.date(2021, 9, 1)\n",
    "end_date = datetime.date.today()\n"
   ]
  },
  {
   "cell_type": "code",
   "execution_count": 4,
   "metadata": {},
   "outputs": [
    {
     "name": "stdout",
     "output_type": "stream",
     "text": [
      "Found archive for com.fampay.in on 2021-09-01: http://web.archive.org/web/20220425052104/https://play.google.com/store/apps/details?id=com.fampay.in&hl=en_IN&gl=US\n",
      "Found archive for com.fampay.in on 2021-10-01: http://web.archive.org/web/20220425052104/https://play.google.com/store/apps/details?id=com.fampay.in&hl=en_IN&gl=US\n",
      "Found archive for com.fampay.in on 2021-10-31: http://web.archive.org/web/20220425052104/https://play.google.com/store/apps/details?id=com.fampay.in&hl=en_IN&gl=US\n",
      "Found archive for com.fampay.in on 2021-11-30: http://web.archive.org/web/20220425052104/https://play.google.com/store/apps/details?id=com.fampay.in&hl=en_IN&gl=US\n",
      "Found archive for com.fampay.in on 2021-12-30: http://web.archive.org/web/20220425052104/https://play.google.com/store/apps/details?id=com.fampay.in&hl=en_IN&gl=US\n",
      "Found archive for com.fampay.in on 2022-01-29: http://web.archive.org/web/20220425052104/https://play.google.com/store/apps/details?id=com.fampay.in&hl=en_IN&gl=US\n",
      "Found archive for com.fampay.in on 2022-02-28: http://web.archive.org/web/20220425052104/https://play.google.com/store/apps/details?id=com.fampay.in&hl=en_IN&gl=US\n",
      "Found archive for com.fampay.in on 2022-03-30: http://web.archive.org/web/20220425052104/https://play.google.com/store/apps/details?id=com.fampay.in&hl=en_IN&gl=US\n",
      "Found archive for com.fampay.in on 2022-04-29: http://web.archive.org/web/20220425052104/https://play.google.com/store/apps/details?id=com.fampay.in&hl=en_IN&gl=US\n",
      "Found archive for com.fampay.in on 2022-05-29: http://web.archive.org/web/20220425052104/https://play.google.com/store/apps/details?id=com.fampay.in&hl=en_IN&gl=US\n",
      "Found archive for com.fampay.in on 2022-06-28: http://web.archive.org/web/20220425052104/https://play.google.com/store/apps/details?id=com.fampay.in&hl=en_IN&gl=US\n",
      "Found archive for com.fampay.in on 2022-07-28: http://web.archive.org/web/20220425052104/https://play.google.com/store/apps/details?id=com.fampay.in&hl=en_IN&gl=US\n",
      "Found archive for com.fampay.in on 2022-08-27: http://web.archive.org/web/20220425052104/https://play.google.com/store/apps/details?id=com.fampay.in&hl=en_IN&gl=US\n",
      "Found archive for com.fampay.in on 2022-09-26: http://web.archive.org/web/20220425052104/https://play.google.com/store/apps/details?id=com.fampay.in&hl=en_IN&gl=US\n",
      "Found archive for com.fampay.in on 2022-10-26: http://web.archive.org/web/20220425052104/https://play.google.com/store/apps/details?id=com.fampay.in&hl=en_IN&gl=US\n",
      "Found archive for com.fampay.in on 2022-11-25: http://web.archive.org/web/20220425052104/https://play.google.com/store/apps/details?id=com.fampay.in&hl=en_IN&gl=US\n",
      "Found archive for com.fampay.in on 2022-12-25: http://web.archive.org/web/20220425052104/https://play.google.com/store/apps/details?id=com.fampay.in&hl=en_IN&gl=US\n",
      "Found archive for com.fampay.in on 2023-01-24: http://web.archive.org/web/20220425052104/https://play.google.com/store/apps/details?id=com.fampay.in&hl=en_IN&gl=US\n",
      "Found archive for com.fampay.in on 2023-02-23: http://web.archive.org/web/20220425052104/https://play.google.com/store/apps/details?id=com.fampay.in&hl=en_IN&gl=US\n",
      "Found archive for com.fampay.in on 2023-03-25: http://web.archive.org/web/20220425052104/https://play.google.com/store/apps/details?id=com.fampay.in&hl=en_IN&gl=US\n"
     ]
    }
   ],
   "source": [
    "csv_file = open('wayback_urls.csv', 'w', newline='')\n",
    "writer = csv.writer(csv_file)\n",
    "writer.writerow(['Date', 'URL'])\n",
    "\n",
    "current_date = start_date\n",
    "while current_date < end_date:\n",
    "\n",
    "    timestamp = '{}{:02d}{:02d}000000'.format(current_date.year, current_date.month, current_date.day)\n",
    "    response = requests.get(wayback_url.format(timestamp))\n",
    "\n",
    "    results = response.json()\n",
    "\n",
    "    if len(results) > 1:\n",
    "        url = 'http://web.archive.org/web/{}/{}'.format(results[1][1], results[1][2])\n",
    "        print('Found archive for {} on {}: {}'.format(app_id, current_date, url))\n",
    "        writer.writerow([current_date, url])\n",
    "    else:\n",
    "        print('No archive found for {} on {}'.format(app_id, current_date))\n",
    "\n",
    "    time.sleep(1)\n",
    "\n",
    "    current_date += datetime.timedelta(days=30)\n",
    "\n",
    "# close the CSV file\n",
    "csv_file.close()"
   ]
  }
 ],
 "metadata": {
  "kernelspec": {
   "display_name": "base",
   "language": "python",
   "name": "python3"
  },
  "language_info": {
   "codemirror_mode": {
    "name": "ipython",
    "version": 3
   },
   "file_extension": ".py",
   "mimetype": "text/x-python",
   "name": "python",
   "nbconvert_exporter": "python",
   "pygments_lexer": "ipython3",
   "version": "3.10.9"
  },
  "orig_nbformat": 4
 },
 "nbformat": 4,
 "nbformat_minor": 2
}
