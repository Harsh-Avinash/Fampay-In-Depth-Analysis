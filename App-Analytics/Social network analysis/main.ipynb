{
 "cells": [
  {
   "cell_type": "code",
   "execution_count": 1,
   "metadata": {},
   "outputs": [],
   "source": [
    "import pandas as pd\n",
    "import networkx as nx\n",
    "import matplotlib.pyplot as plt\n",
    "\n",
    "# Load the data from the CSV file\n",
    "df = pd.read_csv('../../Warehouse/Reviews/app_reviews_merged.csv')"
   ]
  },
  {
   "cell_type": "code",
   "execution_count": 8,
   "metadata": {},
   "outputs": [
    {
     "ename": "KeyboardInterrupt",
     "evalue": "",
     "output_type": "error",
     "traceback": [
      "\u001b[1;31m---------------------------------------------------------------------------\u001b[0m",
      "\u001b[1;31mKeyboardInterrupt\u001b[0m                         Traceback (most recent call last)",
      "Cell \u001b[1;32mIn[8], line 7\u001b[0m\n\u001b[0;32m      5\u001b[0m \u001b[39mfor\u001b[39;00m i \u001b[39min\u001b[39;00m \u001b[39mrange\u001b[39m(\u001b[39mlen\u001b[39m(df)):\n\u001b[0;32m      6\u001b[0m     \u001b[39mfor\u001b[39;00m j \u001b[39min\u001b[39;00m \u001b[39mrange\u001b[39m(i\u001b[39m+\u001b[39m\u001b[39m1\u001b[39m, \u001b[39mlen\u001b[39m(df)):\n\u001b[1;32m----> 7\u001b[0m         \u001b[39mif\u001b[39;00m df\u001b[39m.\u001b[39;49mat[i, \u001b[39m'\u001b[39;49m\u001b[39mscore\u001b[39;49m\u001b[39m'\u001b[39;49m] \u001b[39m==\u001b[39m df\u001b[39m.\u001b[39mat[j, \u001b[39m'\u001b[39m\u001b[39mscore\u001b[39m\u001b[39m'\u001b[39m]:\n\u001b[0;32m      8\u001b[0m             \u001b[39mif\u001b[39;00m df\u001b[39m.\u001b[39mat[i, \u001b[39m'\u001b[39m\u001b[39mat\u001b[39m\u001b[39m'\u001b[39m]\u001b[39m.\u001b[39msplit()[\u001b[39m0\u001b[39m] \u001b[39m==\u001b[39m df\u001b[39m.\u001b[39mat[j, \u001b[39m'\u001b[39m\u001b[39mat\u001b[39m\u001b[39m'\u001b[39m]\u001b[39m.\u001b[39msplit()[\u001b[39m0\u001b[39m]:\n\u001b[0;32m      9\u001b[0m                 G\u001b[39m.\u001b[39madd_edge(df\u001b[39m.\u001b[39mat[i, \u001b[39m'\u001b[39m\u001b[39muserName\u001b[39m\u001b[39m'\u001b[39m], df\u001b[39m.\u001b[39mat[j, \u001b[39m'\u001b[39m\u001b[39muserName\u001b[39m\u001b[39m'\u001b[39m])\n",
      "File \u001b[1;32mc:\\ProgramData\\anaconda3\\lib\\site-packages\\pandas\\core\\indexing.py:2431\u001b[0m, in \u001b[0;36m_AtIndexer.__getitem__\u001b[1;34m(self, key)\u001b[0m\n\u001b[0;32m   2428\u001b[0m         \u001b[39mraise\u001b[39;00m \u001b[39mValueError\u001b[39;00m(\u001b[39m\"\u001b[39m\u001b[39mInvalid call for scalar access (getting)!\u001b[39m\u001b[39m\"\u001b[39m)\n\u001b[0;32m   2429\u001b[0m     \u001b[39mreturn\u001b[39;00m \u001b[39mself\u001b[39m\u001b[39m.\u001b[39mobj\u001b[39m.\u001b[39mloc[key]\n\u001b[1;32m-> 2431\u001b[0m \u001b[39mreturn\u001b[39;00m \u001b[39msuper\u001b[39;49m()\u001b[39m.\u001b[39;49m\u001b[39m__getitem__\u001b[39;49m(key)\n",
      "File \u001b[1;32mc:\\ProgramData\\anaconda3\\lib\\site-packages\\pandas\\core\\indexing.py:2382\u001b[0m, in \u001b[0;36m_ScalarAccessIndexer.__getitem__\u001b[1;34m(self, key)\u001b[0m\n\u001b[0;32m   2379\u001b[0m         \u001b[39mraise\u001b[39;00m \u001b[39mValueError\u001b[39;00m(\u001b[39m\"\u001b[39m\u001b[39mInvalid call for scalar access (getting)!\u001b[39m\u001b[39m\"\u001b[39m)\n\u001b[0;32m   2381\u001b[0m key \u001b[39m=\u001b[39m \u001b[39mself\u001b[39m\u001b[39m.\u001b[39m_convert_key(key)\n\u001b[1;32m-> 2382\u001b[0m \u001b[39mreturn\u001b[39;00m \u001b[39mself\u001b[39;49m\u001b[39m.\u001b[39;49mobj\u001b[39m.\u001b[39;49m_get_value(\u001b[39m*\u001b[39;49mkey, takeable\u001b[39m=\u001b[39;49m\u001b[39mself\u001b[39;49m\u001b[39m.\u001b[39;49m_takeable)\n",
      "File \u001b[1;32mc:\\ProgramData\\anaconda3\\lib\\site-packages\\pandas\\core\\frame.py:3925\u001b[0m, in \u001b[0;36mDataFrame._get_value\u001b[1;34m(self, index, col, takeable)\u001b[0m\n\u001b[0;32m   3920\u001b[0m \u001b[39mif\u001b[39;00m \u001b[39mnot\u001b[39;00m \u001b[39misinstance\u001b[39m(\u001b[39mself\u001b[39m\u001b[39m.\u001b[39mindex, MultiIndex):\n\u001b[0;32m   3921\u001b[0m     \u001b[39m# CategoricalIndex: Trying to use the engine fastpath may give incorrect\u001b[39;00m\n\u001b[0;32m   3922\u001b[0m     \u001b[39m#  results if our categories are integers that dont match our codes\u001b[39;00m\n\u001b[0;32m   3923\u001b[0m     \u001b[39m# IntervalIndex: IntervalTree has no get_loc\u001b[39;00m\n\u001b[0;32m   3924\u001b[0m     row \u001b[39m=\u001b[39m \u001b[39mself\u001b[39m\u001b[39m.\u001b[39mindex\u001b[39m.\u001b[39mget_loc(index)\n\u001b[1;32m-> 3925\u001b[0m     \u001b[39mreturn\u001b[39;00m series\u001b[39m.\u001b[39;49m_values[row]\n\u001b[0;32m   3927\u001b[0m \u001b[39m# For MultiIndex going through engine effectively restricts us to\u001b[39;00m\n\u001b[0;32m   3928\u001b[0m \u001b[39m#  same-length tuples; see test_get_set_value_no_partial_indexing\u001b[39;00m\n\u001b[0;32m   3929\u001b[0m loc \u001b[39m=\u001b[39m engine\u001b[39m.\u001b[39mget_loc(index)\n",
      "File \u001b[1;32mc:\\ProgramData\\anaconda3\\lib\\site-packages\\pandas\\core\\series.py:740\u001b[0m, in \u001b[0;36mSeries._values\u001b[1;34m(self)\u001b[0m\n\u001b[0;32m    708\u001b[0m \u001b[39m@property\u001b[39m\n\u001b[0;32m    709\u001b[0m \u001b[39mdef\u001b[39;00m \u001b[39m_values\u001b[39m(\u001b[39mself\u001b[39m):\n\u001b[0;32m    710\u001b[0m     \u001b[39m\"\"\"\u001b[39;00m\n\u001b[0;32m    711\u001b[0m \u001b[39m    Return the internal repr of this data (defined by Block.interval_values).\u001b[39;00m\n\u001b[0;32m    712\u001b[0m \u001b[39m    This are the values as stored in the Block (ndarray or ExtensionArray\u001b[39;00m\n\u001b[1;32m   (...)\u001b[0m\n\u001b[0;32m    738\u001b[0m \n\u001b[0;32m    739\u001b[0m \u001b[39m    \"\"\"\u001b[39;00m\n\u001b[1;32m--> 740\u001b[0m     \u001b[39mreturn\u001b[39;00m \u001b[39mself\u001b[39;49m\u001b[39m.\u001b[39;49m_mgr\u001b[39m.\u001b[39;49minternal_values()\n",
      "\u001b[1;31mKeyboardInterrupt\u001b[0m: "
     ]
    }
   ],
   "source": [
    "# Create a graph\n",
    "G = nx.Graph()\n",
    "\n",
    "# Add edges between users who wrote reviews on the same day and gave similar scores\n",
    "for i in range(len(df)):\n",
    "    for j in range(i+1, len(df)):\n",
    "        if df.at[i, 'score'] == df.at[j, 'score']:\n",
    "            if df.at[i, 'at'].split()[0] == df.at[j, 'at'].split()[0]:\n",
    "                G.add_edge(df.at[i, 'userName'], df.at[j, 'userName'])"
   ]
  },
  {
   "cell_type": "code",
   "execution_count": 9,
   "metadata": {},
   "outputs": [],
   "source": [
    "# Calculate the degree centrality of each node\n",
    "centrality = nx.degree_centrality(G)"
   ]
  },
  {
   "cell_type": "code",
   "execution_count": 10,
   "metadata": {},
   "outputs": [
    {
     "name": "stdout",
     "output_type": "stream",
     "text": [
      "Top 10 most central nodes:\n",
      "Ayush: 0.1330\n",
      "Sumit Kumar: 0.1164\n",
      "Shivam Kumar: 0.0987\n",
      "Adil Khan: 0.0987\n",
      "ARYAN KUMAR: 0.0973\n",
      "Aditya Singh: 0.0948\n",
      "Rohit Kumar: 0.0945\n",
      "Yash Sharma: 0.0934\n",
      "Aryan Singh: 0.0928\n",
      "Piyush Sharma: 0.0872\n"
     ]
    }
   ],
   "source": [
    "print('Top 10 most central nodes:')\n",
    "for node in sorted(centrality, key=centrality.get, reverse=True)[:10]:\n",
    "    print(f'{node}: {centrality[node]:.4f}')"
   ]
  },
  {
   "cell_type": "code",
   "execution_count": 12,
   "metadata": {},
   "outputs": [],
   "source": [
    "# Save the graph as a GEXF file\n",
    "nx.write_gexf(G, 'app_reviews_merged_graph.gexf')"
   ]
  },
  {
   "cell_type": "code",
   "execution_count": 11,
   "metadata": {},
   "outputs": [
    {
     "ename": "TypeError",
     "evalue": "'_AxesStack' object is not callable",
     "output_type": "error",
     "traceback": [
      "\u001b[1;31m---------------------------------------------------------------------------\u001b[0m",
      "\u001b[1;31mTypeError\u001b[0m                                 Traceback (most recent call last)",
      "Cell \u001b[1;32mIn[11], line 2\u001b[0m\n\u001b[0;32m      1\u001b[0m pos \u001b[39m=\u001b[39m nx\u001b[39m.\u001b[39mspring_layout(G, seed\u001b[39m=\u001b[39m\u001b[39m42\u001b[39m)\n\u001b[1;32m----> 2\u001b[0m nx\u001b[39m.\u001b[39;49mdraw(G, pos\u001b[39m=\u001b[39;49mpos, with_labels\u001b[39m=\u001b[39;49m\u001b[39mTrue\u001b[39;49;00m, node_color\u001b[39m=\u001b[39;49m\u001b[39m'\u001b[39;49m\u001b[39mlightblue\u001b[39;49m\u001b[39m'\u001b[39;49m, node_size\u001b[39m=\u001b[39;49m[centrality[n] \u001b[39m*\u001b[39;49m \u001b[39m2000\u001b[39;49m \u001b[39mfor\u001b[39;49;00m n \u001b[39min\u001b[39;49;00m G\u001b[39m.\u001b[39;49mnodes()])\n\u001b[0;32m      3\u001b[0m plt\u001b[39m.\u001b[39mshow()\n",
      "File \u001b[1;32mc:\\ProgramData\\anaconda3\\lib\\site-packages\\networkx\\drawing\\nx_pylab.py:113\u001b[0m, in \u001b[0;36mdraw\u001b[1;34m(G, pos, ax, **kwds)\u001b[0m\n\u001b[0;32m    111\u001b[0m cf\u001b[39m.\u001b[39mset_facecolor(\u001b[39m\"\u001b[39m\u001b[39mw\u001b[39m\u001b[39m\"\u001b[39m)\n\u001b[0;32m    112\u001b[0m \u001b[39mif\u001b[39;00m ax \u001b[39mis\u001b[39;00m \u001b[39mNone\u001b[39;00m:\n\u001b[1;32m--> 113\u001b[0m     \u001b[39mif\u001b[39;00m cf\u001b[39m.\u001b[39;49m_axstack() \u001b[39mis\u001b[39;00m \u001b[39mNone\u001b[39;00m:\n\u001b[0;32m    114\u001b[0m         ax \u001b[39m=\u001b[39m cf\u001b[39m.\u001b[39madd_axes((\u001b[39m0\u001b[39m, \u001b[39m0\u001b[39m, \u001b[39m1\u001b[39m, \u001b[39m1\u001b[39m))\n\u001b[0;32m    115\u001b[0m     \u001b[39melse\u001b[39;00m:\n",
      "\u001b[1;31mTypeError\u001b[0m: '_AxesStack' object is not callable"
     ]
    },
    {
     "data": {
      "text/plain": [
       "<Figure size 640x480 with 0 Axes>"
      ]
     },
     "metadata": {},
     "output_type": "display_data"
    }
   ],
   "source": [
    "pos = nx.spring_layout(G, seed=42)\n",
    "nx.draw(G, pos=pos, with_labels=True, node_color='lightblue', node_size=[centrality[n] * 2000 for n in G.nodes()])\n",
    "plt.show()\n",
    "\n",
    "# TODO"
   ]
  },
  {
   "cell_type": "code",
   "execution_count": null,
   "metadata": {},
   "outputs": [],
   "source": [
    "# save it to a file\n",
    "nx.write_gexf(G, 'app_reviews.gexf')"
   ]
  }
 ],
 "metadata": {
  "kernelspec": {
   "display_name": "base",
   "language": "python",
   "name": "python3"
  },
  "language_info": {
   "codemirror_mode": {
    "name": "ipython",
    "version": 3
   },
   "file_extension": ".py",
   "mimetype": "text/x-python",
   "name": "python",
   "nbconvert_exporter": "python",
   "pygments_lexer": "ipython3",
   "version": "3.10.9"
  },
  "orig_nbformat": 4
 },
 "nbformat": 4,
 "nbformat_minor": 2
}
