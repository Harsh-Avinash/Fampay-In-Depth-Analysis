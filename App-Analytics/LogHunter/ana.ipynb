{
 "cells": [
  {
   "attachments": {},
   "cell_type": "markdown",
   "metadata": {},
   "source": [
    "Methord Failed, Wayback only has 3 images"
   ]
  },
  {
   "cell_type": "code",
   "execution_count": 5,
   "metadata": {},
   "outputs": [],
   "source": [
    "import pandas as pd\n",
    "import requests\n",
    "from bs4 import BeautifulSoup"
   ]
  },
  {
   "cell_type": "code",
   "execution_count": 6,
   "metadata": {},
   "outputs": [],
   "source": [
    "# Load the CSV file\n",
    "df = pd.read_csv('wayback_urls.csv')\n",
    "\n",
    "# Create a new DataFrame to store the scraped data\n",
    "app_data = pd.DataFrame(columns=['Date', 'Version', 'Rating', 'Description', 'Downloads'])"
   ]
  },
  {
   "cell_type": "code",
   "execution_count": 8,
   "metadata": {},
   "outputs": [
    {
     "name": "stdout",
     "output_type": "stream",
     "text": [
      "Scraping row: 0\n",
      "Done scraping row: 0\n",
      "Scraping row: 1\n",
      "Done scraping row: 1\n",
      "Scraping row: 2\n",
      "Done scraping row: 2\n",
      "Scraping row: 3\n",
      "Done scraping row: 3\n",
      "Scraping row: 4\n",
      "Done scraping row: 4\n",
      "Scraping row: 5\n",
      "Done scraping row: 5\n",
      "Scraping row: 6\n",
      "Done scraping row: 6\n",
      "Scraping row: 7\n",
      "Done scraping row: 7\n",
      "Scraping row: 8\n",
      "Done scraping row: 8\n",
      "Scraping row: 9\n",
      "Done scraping row: 9\n",
      "Scraping row: 10\n",
      "Done scraping row: 10\n",
      "Scraping row: 11\n",
      "Done scraping row: 11\n",
      "Scraping row: 12\n",
      "Done scraping row: 12\n",
      "Scraping row: 13\n",
      "Done scraping row: 13\n",
      "Scraping row: 14\n",
      "Done scraping row: 14\n",
      "Scraping row: 15\n",
      "Done scraping row: 15\n",
      "Scraping row: 16\n",
      "Done scraping row: 16\n",
      "Scraping row: 17\n",
      "Done scraping row: 17\n",
      "Scraping row: 18\n",
      "Done scraping row: 18\n",
      "Scraping row: 19\n",
      "Done scraping row: 19\n"
     ]
    }
   ],
   "source": [
    "# Iterate over each row of the DataFrame\n",
    "for index, row in df.iterrows():\n",
    "    print(\"Scraping row: \" + str(index))\n",
    "    # Get the URL from the current row\n",
    "    url = row['URL']\n",
    "    \n",
    "    # Send a request to the URL\n",
    "    response = requests.get(url)\n",
    "    \n",
    "    # Create a BeautifulSoup object with the response content\n",
    "    soup = BeautifulSoup(response.content, 'html.parser')\n",
    "    \n",
    "    # Find the app's version, rating, description, and number of downloads\n",
    "    version = soup.find('div', {'class': 'BHMmbe'}).text\n",
    "    rating = soup.find('div', {'class': 'BHMmbe'}).text\n",
    "    description = soup.find('div', {'class': 'DWPxHb'}).text\n",
    "    downloads = soup.find('div', {'class': 'IQ1z0d'}).text\n",
    "    \n",
    "    # Add the scraped data to the app_data DataFrame\n",
    "    app_data.loc[index] = [row['Date'], version, rating, description, downloads]\n",
    "    print(\"Done scraping row: \" + str(index))"
   ]
  },
  {
   "cell_type": "code",
   "execution_count": 9,
   "metadata": {},
   "outputs": [],
   "source": [
    "# Save the scraped data to a CSV file\n",
    "app_data.to_csv('app_data.csv', index=False)"
   ]
  }
 ],
 "metadata": {
  "kernelspec": {
   "display_name": "base",
   "language": "python",
   "name": "python3"
  },
  "language_info": {
   "codemirror_mode": {
    "name": "ipython",
    "version": 3
   },
   "file_extension": ".py",
   "mimetype": "text/x-python",
   "name": "python",
   "nbconvert_exporter": "python",
   "pygments_lexer": "ipython3",
   "version": "3.10.9"
  },
  "orig_nbformat": 4
 },
 "nbformat": 4,
 "nbformat_minor": 2
}
