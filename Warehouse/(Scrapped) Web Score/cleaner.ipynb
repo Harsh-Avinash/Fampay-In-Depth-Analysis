{
 "cells": [
  {
   "cell_type": "code",
   "execution_count": 4,
   "metadata": {},
   "outputs": [],
   "source": [
    "# read deep_crawler_sel.txt remove duplicates and save to deep_crawler_sel_clean.txt\n",
    "links = []\n",
    "for line in open(\"deep_crawler_sel.txt\", \"r\"):\n",
    "    # remove the\"\\n\" at the end of the line\n",
    "    line = line[:-1]\n",
    "    links.append(line)"
   ]
  },
  {
   "cell_type": "code",
   "execution_count": 7,
   "metadata": {},
   "outputs": [],
   "source": [
    "# remove duplicates and save to deep_crawler_sel_clean.txt\n",
    "links = list(set(links))\n",
    "with open(\"deep_crawler_sel_clean.txt\", \"w\") as f:\n",
    "    for link in links:\n",
    "        f.write(link + \"\\n\")"
   ]
  }
 ],
 "metadata": {
  "kernelspec": {
   "display_name": "base",
   "language": "python",
   "name": "python3"
  },
  "language_info": {
   "codemirror_mode": {
    "name": "ipython",
    "version": 3
   },
   "file_extension": ".py",
   "mimetype": "text/x-python",
   "name": "python",
   "nbconvert_exporter": "python",
   "pygments_lexer": "ipython3",
   "version": "3.10.9"
  },
  "orig_nbformat": 4
 },
 "nbformat": 4,
 "nbformat_minor": 2
}
