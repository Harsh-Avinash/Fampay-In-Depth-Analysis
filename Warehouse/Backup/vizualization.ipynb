{
 "cells": [
  {
   "cell_type": "code",
   "execution_count": 1,
   "metadata": {},
   "outputs": [],
   "source": [
    "import pandas as pd\n",
    "import matplotlib.pyplot as plt\n",
    "import seaborn as sns\n",
    "import numpy as np\n",
    "from wordcloud import WordCloud\n",
    "import plotly.graph_objs as go"
   ]
  },
  {
   "cell_type": "code",
   "execution_count": 2,
   "metadata": {},
   "outputs": [],
   "source": [
    "df = pd.read_csv('fampay_instagram_data.csv')"
   ]
  },
  {
   "cell_type": "code",
   "execution_count": 3,
   "metadata": {},
   "outputs": [
    {
     "data": {
      "application/vnd.plotly.v1+json": {
       "config": {
        "plotlyServerURL": "https://plot.ly"
       },
       "data": [
        {
         "marker": {
          "color": "blue"
         },
         "name": "Likes",
         "type": "bar",
         "x": [
          "CrXogaGgxAL",
          "CrV2kOLgqq8",
          "CrTd6o7prTN",
          "CrQ3Dx1pMTB",
          "CrOMKLLJG5L",
          "CrI_4o2phRg",
          "CrEBhhjpJBD",
          "Cq-wlvUpCIC",
          "Cq8MICtJmz_",
          "Cq0fCzaJzPN",
          "Cqsp0vhpHgc",
          "Cqp_XT-JQfQ",
          "Cqna59Kppti",
          "CqlAroZpQqL",
          "CqiS0jvpGUa",
          "CqdFed2Jczc",
          "CqazdxKJCdu",
          "CqX_p0lDtOw",
          "CqS6lTzDOU_",
          "CqNxGb_JqNh",
          "CqIrZbnpFFX",
          "CqDdvvxpz3r",
          "CqAzQ0JJlVL",
          "Cp7zuJUJ10o",
          "Cp2txMyppm-",
          "CpxhkhTp7oc",
          "CpvCwotpVTM",
          "CppyqFOJBST",
          "CpkrfqWJ8fs",
          "CpXpF3pJGB_",
          "CpVJlKCpz9O",
          "CpNey_7AUtp",
          "CpFt5-TpBtj",
          "CpDS0smJTLQ",
          "CpA5iT1yBsB",
          "Co96kh2Ji9D",
          "Co7O_U7p8ld",
          "Co4yzWaJIOH",
          "Co2R9LKJMYf",
          "Coz1p4aJGnd",
          "CoxIFOnJSbC",
          "CounSa6ArjL",
          "Cor4tutpdIm",
          "CopN45aJzLd",
          "ComzpO3pF3R",
          "CokBi5Hpqwx",
          "Cohr_piJLj7",
          "CocVTlHJbVX",
          "CoZ_1vsJJzr",
          "CoXYn5MJStK",
          "CoU1ezXp6Vl",
          "CoSR9j8AR5Z",
          "CoPxYyxJBs4",
          "CoNJ-J5pAJj",
          "CoKfDDOJey1",
          "CoH8vdhpMWd",
          "CoFWW4Fpuy6",
          "CoCzifrJPPq",
          "CoAQ-AFS7ov",
          "Cn9rRKMS6sL",
          "Cn7CBavyPfJ",
          "Cn4mQ50SLA0",
          "CnzYTO5JA3V",
          "CnuGneCqTYM",
          "Cno-hl4qGq-",
          "Cnmd1kppUSa",
          "CnjxMaYKk6O",
          "CnhT-LKJPjT",
          "CneullupvAK",
          "CnZl3ncKG5X",
          "CnW77T0qmiQ",
          "CnV2AtSKMBr",
          "CnUdaewKEru",
          "CnRwJ8nJsrH",
          "CnPQEIOpILg",
          "CnE9GLAKryp",
          "CnCMLQzDj5w",
          "Cm_9qxDS-z7",
          "Cm9I5Qxjju7",
          "Cm4EdB-DU6p",
          "Cm3cj5EjLay",
          "Cm0lYmqKZeG",
          "Cmy8izyqKcF",
          "CmwE4bxKr0x",
          "CmrJ1lwJwKC",
          "CmonRUcpX99",
          "CmmA88-Ji9L",
          "CmjXfH5pRIS",
          "Cmis2atKvSe",
          "CmguuMFqjrB",
          "CmbgLZhpV57",
          "CmWQPXYJBx6",
          "CmTEZ1QrzgN",
          "CmOv_6LJpgY",
          "CmMYFxcp3WY",
          "CmJsYirJ3Q8",
          "CmEdxHupxOX",
          "CmCDDHyJHTH",
          "Cl_U0uvJ4H7",
          "Cl8uiY1p6Qe",
          "Cl6OfTRp49C",
          "Clv-m1wJIjO",
          "Clq5u1ppAKd",
          "CloIFV7pkFq",
          "ClluFMzJ05H",
          "Clgekzbp8RP",
          "CleBjcSJ1iu",
          "ClZDq3HS537",
          "ClWQcf7J9ac",
          "ClOecQMJ_1z",
          "ClL9yozSMXc",
          "ClIp7ZiDtyd",
          "ClEPq27SrNQ",
          "Ck_B6wohJL6",
          "Ck7ijnLJ2aO",
          "Ck4351AgWL1",
          "Ck015q0JiZA",
          "CkyHP7ErAyh",
          "CkvfSdUpmrB",
          "CkvA4X7ptWC",
          "Cks40vbpQqT",
          "CkqtxpzSwHS",
          "Ckn_jB7J0T-",
          "Ckk5_apJKiC",
          "CkivS5hg7Cg",
          "CkgEIE-JAsi",
          "CkdZm6TpNK6",
          "CkbJQZgJJyi",
          "CkTOVY6JgI0",
          "CkQm8fgJnQ-",
          "CkOFHvQJkWz",
          "CkLNmRUJZEH",
          "CkFbmpzJx8N",
          "Cj-vcpHp7-M",
          "Cj8Xq7BS2Wx",
          "Cj5dmRaJD9m",
          "Cj23j-hpdmS",
          "CjsoHQepAIq",
          "CjqCAOxpduR",
          "CjiZeNGpGss",
          "CjajnybpV1b",
          "CjYDfY1pldQ",
          "CjVfbWip-S1",
          "CjS4w-Upboy",
          "CjQSL88Jkin",
          "CjNz16ppJDX",
          "CjIeMonJuBw",
          "CjGOCv9p5uI",
          "CjAy6RxpE9w",
          "CixXQw8jyk8",
          "CiuvvJ8pJxl",
          "CisEIRVJtgA",
          "Cip7ImqpZg4",
          "CikpmagJEqi",
          "Cih2t-lpqyb",
          "Cifa8TkpuC6",
          "CicCdlspgLm",
          "CiX66kYpZMM",
          "CiU9K8oJnET",
          "CiP3Y-FJsFb",
          "CiNRRBppvgv",
          "CiKrlBHpSzz",
          "CiIiUhapn25",
          "CiHezTvgM2P",
          "CiFWJu8JHUQ",
          "CiC82YVpXm8",
          "Ch90f8MJ460",
          "Ch7QvEaJS4E",
          "Ch4vssFpolM",
          "Ch2KGRZJJSe",
          "ChzZWWfDGKY",
          "ChuclK8JhTa",
          "ChmoF1HJitJ",
          "ChkMAzXJYk9",
          "ChhhpgwhZbh",
          "ChZzTH2prjA",
          "ChXPS_ADT6O",
          "ChUm2GXqOsk",
          "ChQ_vE_jV_E",
          "ChKVTOHDmAv",
          "ChGyogbpRdg",
          "ChFKa0ejerQ",
          "ChCm_xZpqY7",
          "ChAABMJDPa2",
          "Cg7BJtTpuQo",
          "Cg1yj27pGNM",
          "CgzNjw-pKSe",
          "Cgwhi-lDmyM",
          "CgrYvR5JW5a",
          "CgmRnIXJF7y",
          "Cgj7gSMJvdb",
          "CghAOyYDS52",
          "Cgb3S5YjxFB",
          "CgUZrApDw7n",
          "CgRu2VepgYV",
          "CgPN7FbJCvi",
          "CgMp1w6pOAZ",
          "CgCSy47pA-G",
          "Cf_ifp-DJyZ",
          "Cf4cuGxhiDF",
          "Cfy2vr8pSx4",
          "CfwRHvDpH_x",
          "CfrIDJ5D4c2",
          "Cfirqfqj71T",
          "CfeFCYWJieZ",
          "CfbkuFLp2US",
          "CfUGIchpgkc",
          "CfRQcSFJ-2q",
          "CfO0bSsJKaQ",
          "CfMU8tzjaY2",
          "CfHKev5pzWN",
          "CfGkA_0psQm",
          "Ce-fEm4jbcw",
          "Ce8UQEIjnUe",
          "Ce6B_MzJimN",
          "Ce3oYdgDOoa",
          "Ce0-50JJ3kM",
          "Ce0uYc5pL-5",
          "CeyGxmrJykj",
          "Cev5lwxpQ1v",
          "CeoHpYhJ5FO",
          "Cely6BRjLAZ",
          "CeleOwRDjnf",
          "CegWEAFD2w6",
          "CeduqGLjfvP",
          "CebZqzfpTx2",
          "CeWLMEBpy6V",
          "CeTlKzxpnwR",
          "CeOWRXtJRzz",
          "CeLqD7HjIFX",
          "CeGvmYjjMhG",
          "CeEVNaJDlCZ",
          "CeEEPh1j56B",
          "CeBp8Pgj1zY",
          "CeBcJj-p_G6",
          "Cd-_8DEJXkc",
          "Cd91SvRjNBk",
          "Cd8bhkGp447",
          "Cd57pnCDT36",
          "Cd3X8FkJPgX",
          "Cd3GIl5paaJ",
          "Cd0pDY3jTVB",
          "CdyJFCZjHWr",
          "Cdvm0cBpBTt",
          "Cds7F_GJmWK",
          "CdqduympOor",
          "CdpsdKcD1hh",
          "CdnqzcyJVh7",
          "CdgGuTvpmMz",
          "Cda8V_cpCPT",
          "CdYh0BqDr6M",
          "CdVsitbJ6P5",
          "CdSZjcWDnpC",
          "CdODBQejRey",
          "CdLoJdcJUef",
          "CdI5E6SJziq",
          "CdIncyaJ2QD",
          "CdDv_qiJqR5",
          "CdBLXuJpa8K",
          "Cc-u9Xhp5sz",
          "Cc-cJxIJvwI",
          "Cc7-EpJJINx",
          "Cc7g30SJ_yt",
          "Cc7EKitJMZ3",
          "Cc5YHysD0WH",
          "Cc2tIBZpJRZ",
          "Cc0IKrPD2VN",
          "CcxTTxrDxn0",
          "CcqABsqJ15A",
          "CcpkBcypACH",
          "CckgE2EDWOT",
          "CciRe4ED_3B",
          "Ccf0_T9DMAY",
          "CcfliFJjcBL",
          "CcdCZzupgjg",
          "CcX3qxOpBUs",
          "CcVPno8pWnt",
          "CcS6rq3KhtD",
          "CcSePqRhkS0",
          "CcP4yADj9sa",
          "CcMud63j4DO",
          "CcH0GUpDL1x",
          "CcFxhRHjvQC",
          "CcDGfDoJqAF",
          "CcAgzv_pjQN",
          "Cb955jAJbnL",
          "Cb7RyTEpXDA",
          "Cb2hTarjOOT",
          "Cbujfi8Dcy1",
          "CbrwRO5DL_v",
          "CbpHnfEpIBT",
          "CbkVhEkJ0dZ",
          "CbhqsX6DvRD",
          "CbfE5BeJ6HH",
          "CbcfzcoDhjt",
          "CbZ3c2yjwV_",
          "CbXfv6tpM2V",
          "CbU4Wg1jv4X",
          "CbSUqeoDjTt",
          "CbP0W30D4DO",
          "CbNXLm9pzt_",
          "CbKWxP5paKL",
          "CbH_qhRjFU1",
          "CbFU90SJx5L",
          "CbDBGQOpBOu",
          "Ca9oBi3DcEY",
          "Ca6xWxvj9xg",
          "Ca4_I5tDa8z",
          "Ca2BgOFuzDQ",
          "Ca1tWVkjv-8",
          "Caz34lEBo5J",
          "CazIj84unk2",
          "Carm6Qep9Kp",
          "CapPg-JDW72",
          "Cam0OwgpLKm",
          "Caj_XqKDX5Y",
          "CahYnTXDv6D",
          "Cae7oOjDaPm",
          "CacCUOMpAZr",
          "CaZpP-_DJi3",
          "CaW_Hl_ONaB",
          "CaUO6w5jrT6",
          "CaRgXEcDCVb",
          "CaPTzHyjqKV",
          "CaMzdimpMfu",
          "CaMIV6PjEDl",
          "CaKNDi7jset",
          "CaHxwVNpart",
          "CaFKWUVjL_u",
          "CaCm72KJjze",
          "CZ_-CKpDCSl",
          "CZ9Yc-KJ9sN",
          "CZ9C523pmAe",
          "CZ8l2N2KF7c",
          "CZ6sFfLBPI0",
          "CZ1wNmEpA7c",
          "CZwhThYDG_4",
          "CZt80-1pPHD",
          "CZrkx9TpI8y",
          "CZot-_mj7ug",
          "CZjw3A-Jk-I",
          "CZhKJ-Fpm4G",
          "CZcGifKpipF",
          "CZZgMZAq1I_",
          "CZWv9zbJGKl",
          "CZRpjMDJ5k3",
          "CZPHCmlDw1d",
          "CZLzdbeqc-a",
          "CZKGWI4qEz7",
          "CZHcs29qZ2r",
          "CY_sfuiqY6W",
          "CY_d-pAqTvD",
          "CY342FepaXh",
          "CYywBf-p304",
          "CYtqAkxJNV_",
          "CYsuD9MK57l",
          "CYrQDVjpvYI",
          "CYogJ3uq4v1",
          "CYmGQgQJ0lv",
          "CYjRKlapRo4",
          "CYgqGDrKgym",
          "CYbrhEIpWCk",
          "CYY_mHmqNyw",
          "CYWdxYbJspa",
          "CYRUWnRpanK",
          "CYJi3zfpOmM",
          "CYI03cjpOZO",
          "CYEc3HxpSBy",
          "CYBzk7wqdFX",
          "CX3uq9Dqgdz",
          "CX0_qESKm7b",
          "CXygBTUJ5yy",
          "CXv4UiLpVAy",
          "CXqePOvJKR9",
          "CXlu2cfpMtf",
          "CXYylEgpPXN",
          "CXTWyKsprfS",
          "CXRHtt2pxWI",
          "CXLz00AJZ9d",
          "CXJLDh0pVOF",
          "CXBX64mJ0It",
          "CW-8tmpB24Y",
          "CW8Tr_yBHBg",
          "CW3YDdhh-cw",
          "CW0iNE_JSj5",
          "CWvYRq4pv5i",
          "CWtAKLzh4Bl",
          "CWqfpA1h_v_",
          "CWlPBkFvdfN",
          "CWgCGzLBp0h",
          "CWa9YeJjIS-",
          "CWVtNt5gAKz",
          "CWPkEnyJ2Eq",
          "CWLURAVD3PM",
          "CWI0gu1DtjX",
          "CWDx_FAjFXZ",
          "CWBL5o5Dehd",
          "CV732RcBJeJ",
          "CV109phpMpr",
          "CVxkxg3B7LW",
          "CVu9BHsh1jS",
          "CVrjymcp46Z",
          "CVndScvDibe",
          "CVk4Ds4D6ev",
          "CVihGkajE6T",
          "CVfoZ-3hkSZ",
          "CVdGCC6MIjz",
          "CVVfAqbjAoy",
          "CVQPadSp_eu",
          "CVNpna4jDds",
          "CVLO-nUj1nt",
          "CVF8XfaDn3D",
          "CVAvQmaDOLQ",
          "CUw7YX6heM3",
          "CUsJEdHJzN6",
          "CUfboXABOln",
          "CUe8uA3j3NK",
          "CUaPPfTjaJ0",
          "CUVFaawDBEc",
          "CUNNzpgJ08V",
          "CUIIMwGJpCS",
          "CUC3gR5p5rF",
          "CUAZm-spiLi",
          "CTuQYUBJqIL",
          "CTr6PlCJO6P",
          "CTmi1RdDHMk",
          "CThcMt7J4F9",
          "CTbUF3gpWY1",
          "CTFGXI2jBf9",
          "CTCVpVzJs1a",
          "CS9nlmFjLKh",
          "CS3U1f1Jz6C",
          "CSy-vdSjwmk",
          "CSwO0XMjhM8",
          "CSo8pnVph2I",
          "CSlOjZbpqXM",
          "CSjeiIUJZO0",
          "CSb7OLTJRSY",
          "CSZUbV-DyZr",
          "CSBZVy6Jp7e",
          "CR1OxBXjrzy",
          "CRyvAHCjnR-",
          "CRoR7u4jUqP",
          "CRjP4FyDy3J",
          "CRapRdNjAEV",
          "CRWmK50Dr4x",
          "CRIqegbDIBI",
          "CQyc6x3DgjL",
          "CQbfRgWDv_y",
          "CQVDqPRDgqP",
          "CQOgW6Xjn_4",
          "CQJL1yvjV30",
          "CP_GTDODkqm",
          "CP5_-GWqhYd",
          "CPqfJ22DmWA",
          "CPlOxoADMPQ",
          "CPYPUbRDIWc",
          "CPP55fFjD1H",
          "CPI_OCCDVhe",
          "CPD3eObD6dP",
          "CO-35dODv0u",
          "CO11KUAjHg-",
          "COvVfzXjSpX",
          "COpn0csDyz7",
          "COmx6iTDQjN",
          "COidZSDDyfo",
          "COdORycjGj0",
          "CONsFwFjVjI",
          "COLJgrjjaWQ",
          "COIQ3HEjIGA",
          "CODHTj7D1yu",
          "COAdigzDmzO",
          "CN-d8QyjqBW",
          "CN7l-ATDfA6",
          "CNxQpBUjVCw",
          "CNkhTL8jrbK",
          "CNcl8C7jGDO",
          "CNZ832vDiuO",
          "CNG_7zcDuxN",
          "CNC7Yt2jeOt",
          "CM2VATID_2d",
          "CMw8OQ7jOLN",
          "CMpHNVoDVHd",
          "CMm62xBjQ11",
          "CMcMtmcjohS",
          "CMWQXYtjEK0",
          "CMKp89Cj81A",
          "CMFRSA3jOl4",
          "CL4Qx3gje8q",
          "CL1sqN-Dmsb",
          "CLrTmAjjaG0",
          "CLmhPGjjfBN",
          "CLehIQiDxJk",
          "CLbw6AKjVwi",
          "CLWqwHdDKT-",
          "CLQncI5j2TM",
          "CLJwZkHjfZh",
          "CLEmCJvjCd-",
          "CK3unTFjOTA",
          "CK1KdV-DK2T",
          "CKwcqyyD15k",
          "CKob1PujjcL",
          "CKWngT9DyWi",
          "CKRNWucDlpc",
          "CJ_W6yVj2vL",
          "CJ6PlrljJ6i",
          "CJyPaw4j43E",
          "CJi0y9jjGaY",
          "CJY_PZvjh2r",
          "CJNRz69jlo9",
          "CJFqrWqjXJb",
          "CI3BD17DIzd",
          "CIxAovmjF1o",
          "CIVjNwfjrnH",
          "CIN1Xeejh11",
          "CHj9Hfzjb40",
          "CHQGAsSDGg4",
          "CHI4Ttkjt50",
          "CHFt7mdjDDa",
          "CGy4LyKjkIM",
          "CGwURuRj7UC",
          "CGZZR5wDeMX",
          "CGYAo6DjPD2",
          "CGWuXnojm9g",
          "CFH1YmmhXkF",
          "CE6u4CzhsCP",
          "CEv0XCRBiH_",
          "CELoEISBwre",
          "CDwByZthkHQ",
          "CDg1z5kh6_H",
          "CDavQwxBvQK",
          "CDL-e-rhfgu",
          "CC8jMHEFF2w",
          "CC0zPQihcDF",
          "CCtiNKvBkDX",
          "CClw6Xeh-Wh",
          "CCaYGFchBug",
          "CCJCPGGh3yc",
          "CB5mcUoBMay",
          "CBsO6hTh3Ve",
          "CBqY77tB7ql",
          "CBgIqPSB5PT",
          "CBCk0rOhHeH",
          "CA7smV4AAhp",
          "CAxulNtBzv1",
          "CApo3Ngg8Vd",
          "CApoCFGA3qR",
          "CApoAkrAcYp",
          "CApeQjYArc4",
          "CApeGk-Ahf1",
          "CApd5SXgxP_",
          "CAk5lWQhSzN",
          "CAk5YvGB_-s",
          "CAkz1qIB7hI",
          "CAkzyiQh_1d",
          "CAfxa8ZhQ9E",
          "CAN4ff8BQCr",
          "CAN3eZYB-wv",
          "CAN3VeshYvJ",
          "CABDR0ZhcdK",
          "CAAu5RngLN4",
          "CAAaaiDg_yw",
          "B_uyer_B5m6",
          "B_upkQZh07K",
          "B_r4J68BmIM",
          "B-10TO1BOZJ",
          "B-rwmzJhP5z",
          "B-ro1_TBK2m",
          "B-rjDOfB0nl",
          "B-M8KY2hgQ2",
          "B-MfKHuhfpU",
          "B914vsTHj_S",
          "B9bZX59hqzt",
          "B8vy5C7hxLF",
          "B8vytn8hwM-",
          "B8vwSUEBwvI",
          "B8k5zyFhHpI",
          "B8k5ZdfhYNf",
          "B8k5B5uBGPJ",
          "B8YGTBrhzv2",
          "B8YGJz_B7UC",
          "B8YGCh-h3ky",
          "B8LriuZhJaR",
          "B8Lrb59BDV7",
          "B8LrPeMByHs",
          "B7x_WtTBJ6w",
          "B7x_Rc7BhS9",
          "B7x_G2Nh-LA",
          "B7i5Ktlh7EQ",
          "B7bHsa6B_YG",
          "B7VTXFhB5kO",
          "B7VTGnyh0X3",
          "B62efgdBJW1",
          "B62eXOrhtq9",
          "B6flvethJCV",
          "B6fllz4BKU3",
          "B6fleYIhW4q",
          "B6Vq6G2BYDC",
          "B6VqnMvh1Oc",
          "B5-t5qaBozd",
          "B5-t297BfOd",
          "B5-tunIB5V3",
          "B5AfO1OBn6b",
          "B5Ae-LqhPXm",
          "B5Aeqtkh7_B",
          "B4wm_hfhdpu",
          "B4wm2Aahct9",
          "B4wmo3mBaIK",
          "B4hpbeSBBW0",
          "B4hpTyHBtyS",
          "B4hpOsVB5nR",
          "B4HjnF4hgI6",
          "B4HjQUsBGhQ",
          "B4HjEz7Bn8z",
          "B3rcZ3ABKvA",
          "B3rcTVwh4kj",
          "B3rbmIAhfpV",
          "B3HD7tbBfyT",
          "B3HD5qhhS4X",
          "B3HDvJ8hqvS",
          "B2CIiTfB0fd",
          "B2CIf62BiRX",
          "B2CIcrSBVny",
          "B1yRgeRh6j7",
          "B1yRE7_hunM",
          "B1yQvauhJwz",
          "B1MLHWEBN7V",
          "B1MLE1vBEN6",
          "B1MLBoYBSXq",
          "B0zjcHBBWFc",
          "B0zhaUFhAqs",
          "B0zg7yUh_eD",
          "B0vgVodh2s-",
          "B0vde1mBwRR",
          "B0vczFtB4jE",
          "B0ta_Xsh3fv",
          "B0tZPythHOo",
          "B0tM2aVAwD-"
         ],
         "y": [
          3847,
          5726,
          15523,
          31783,
          14304,
          18929,
          11592,
          11431,
          13209,
          19655,
          19359,
          11908,
          12764,
          39785,
          31532,
          30407,
          14839,
          11206,
          10835,
          15642,
          11307,
          18562,
          11036,
          18529,
          16193,
          15388,
          29442,
          340994,
          33008,
          21215,
          21790,
          13124,
          30047,
          20768,
          22812,
          27383,
          13570,
          29894,
          18901,
          16631,
          21110,
          15540,
          11947,
          18454,
          33526,
          25207,
          14274,
          23782,
          19016,
          27526,
          64208,
          15522,
          22573,
          20470,
          28371,
          18690,
          14705,
          12901,
          42345,
          17685,
          23681,
          22677,
          35241,
          13578,
          18720,
          13488,
          13783,
          27483,
          25326,
          22089,
          11199,
          21782,
          17172,
          17968,
          27860,
          31366,
          26361,
          15544,
          12726,
          30212,
          19009,
          12296,
          34636,
          9380,
          14630,
          25259,
          13807,
          18387,
          29535,
          11126,
          13035,
          21656,
          18775,
          11301,
          10580,
          16185,
          15115,
          15819,
          25102,
          16156,
          11607,
          34701,
          33029,
          9788,
          20151,
          16409,
          11503,
          14160,
          26659,
          10743,
          15662,
          13293,
          13139,
          24357,
          12088,
          17923,
          12084,
          30642,
          33334,
          27711,
          32602,
          14049,
          28365,
          29416,
          28230,
          18233,
          10613,
          26843,
          13843,
          15042,
          19922,
          19176,
          20751,
          8979,
          19218,
          12084,
          17508,
          15784,
          13834,
          9503,
          18973,
          16899,
          8844,
          12368,
          16670,
          15628,
          13685,
          9452,
          6161,
          10763,
          4037,
          6281,
          6196,
          9137,
          5057,
          8135,
          10472,
          5099,
          5185,
          4459,
          10162,
          3313,
          4666,
          5058,
          4574,
          6059,
          12595,
          7117,
          5020,
          3840,
          3740,
          4537,
          4614,
          4633,
          13136,
          4164,
          5733,
          15640,
          3883,
          10345,
          5626,
          3184,
          5711,
          4520,
          7254,
          11801,
          3314,
          2709,
          3792,
          3460,
          6118,
          7585,
          4829,
          4318,
          3140,
          5206,
          3197,
          12455,
          5249,
          3720,
          8820,
          3282,
          3301,
          6435,
          16572,
          5523,
          3307,
          3674,
          4920,
          4123,
          6942,
          3266,
          5130,
          4885,
          13039,
          3639,
          3826,
          3170,
          6670,
          3324,
          4919,
          4290,
          3845,
          8037,
          3642,
          3897,
          5376,
          4302,
          4219,
          7308,
          3618,
          4422,
          7748,
          4404,
          3517,
          6629,
          6859,
          5471,
          5901,
          4227,
          3050,
          2922,
          3322,
          5719,
          7858,
          6672,
          4135,
          3759,
          3171,
          3810,
          3528,
          2577,
          2937,
          3916,
          2451,
          3344,
          3503,
          2858,
          27896,
          4417,
          2911,
          2385,
          5186,
          2548,
          3385,
          4588,
          3022,
          2979,
          3475,
          2577,
          4052,
          3898,
          4835,
          1876,
          4325,
          2639,
          3480,
          2305,
          4928,
          2917,
          2322,
          3443,
          4125,
          2245,
          3122,
          3391,
          1827,
          3431,
          3984,
          3239,
          3587,
          2250,
          2798,
          2429,
          2008,
          2466,
          4525,
          4576,
          3275,
          2782,
          2910,
          4418,
          3184,
          5564,
          1911,
          2442,
          3083,
          3905,
          2157,
          6335,
          4583,
          3594,
          5257,
          4919,
          2459,
          2768,
          2520,
          6651,
          3188,
          3301,
          2702,
          4213,
          4397,
          1836,
          2630,
          1684,
          1647,
          3579,
          2674,
          1735,
          1491,
          3170,
          1494,
          1683,
          1865,
          3133,
          1646,
          1819,
          1697,
          3074,
          1796,
          1744,
          2678,
          2626,
          3442,
          2787,
          1585,
          2102,
          1252,
          1440,
          3400,
          3242,
          1662,
          1983,
          2235,
          2032,
          2050,
          4534,
          1955,
          2969,
          2259,
          2512,
          3187,
          1930,
          2173,
          1555,
          1867,
          1661,
          3305,
          2905,
          2117,
          2067,
          2515,
          1547,
          3188,
          1504,
          3897,
          2190,
          3486,
          3160,
          1156,
          2273,
          1991,
          2294,
          3127,
          2426,
          1502,
          2562,
          2745,
          1807,
          6900,
          1264,
          3938,
          3107,
          3283,
          2878,
          1796,
          3600,
          2525,
          1645,
          3279,
          3146,
          2215,
          2510,
          2122,
          4485,
          2237,
          2482,
          2593,
          3304,
          1109,
          4044,
          1178,
          8168,
          5612,
          2868,
          2020,
          3137,
          2032,
          2721,
          3523,
          2142,
          2888,
          2423,
          6182,
          3868,
          4566,
          2716,
          1858,
          4206,
          3309,
          4151,
          6206,
          2654,
          3439,
          4758,
          2517,
          2373,
          2994,
          3403,
          2857,
          2464,
          3670,
          2260,
          2728,
          2679,
          1470,
          1708,
          2033,
          1660,
          2949,
          2408,
          2526,
          2020,
          1912,
          2743,
          2166,
          3169,
          2970,
          3374,
          2880,
          2081,
          3163,
          1512,
          1368,
          2797,
          2080,
          1393,
          1016,
          1515,
          1814,
          1897,
          1621,
          2172,
          1150,
          1700,
          1497,
          2212,
          6461,
          2577,
          1601,
          1872,
          1276,
          1431,
          1827,
          1977,
          1604,
          1432,
          1823,
          3619,
          2596,
          3403,
          1222,
          3189,
          3066,
          2065,
          3016,
          4061,
          1390,
          1610,
          3043,
          2674,
          1877,
          3109,
          1548,
          2400,
          2157,
          1549,
          1877,
          1734,
          1715,
          3103,
          2956,
          1782,
          2713,
          1345,
          2331,
          1871,
          1579,
          1683,
          1261,
          1593,
          5098,
          2095,
          1141,
          658,
          1000,
          673,
          858,
          648,
          780,
          800,
          651,
          996,
          1039,
          646,
          749,
          465,
          582,
          540,
          512,
          382,
          399,
          467,
          504,
          359,
          373,
          372,
          72,
          74,
          84,
          352,
          438,
          80,
          107,
          355,
          302,
          352,
          336,
          365,
          300,
          511,
          430,
          293,
          280,
          354,
          266,
          270,
          278,
          280,
          319,
          290,
          392,
          278,
          287,
          296,
          404,
          284,
          293,
          288,
          317,
          282,
          344,
          314,
          426,
          383,
          260,
          336,
          351,
          355,
          663,
          312,
          251,
          282,
          234,
          239,
          242,
          234,
          266,
          261,
          252,
          245,
          342,
          345,
          291,
          310,
          319,
          276,
          242,
          276,
          252,
          279,
          266,
          289,
          388,
          358,
          411,
          249,
          244,
          236,
          240,
          262,
          272,
          402,
          279,
          343,
          262,
          279,
          277,
          270,
          294,
          313,
          274,
          301,
          297,
          295,
          310,
          363
         ]
        },
        {
         "marker": {
          "color": "red"
         },
         "name": "Comments",
         "type": "bar",
         "x": [
          "CrXogaGgxAL",
          "CrV2kOLgqq8",
          "CrTd6o7prTN",
          "CrQ3Dx1pMTB",
          "CrOMKLLJG5L",
          "CrI_4o2phRg",
          "CrEBhhjpJBD",
          "Cq-wlvUpCIC",
          "Cq8MICtJmz_",
          "Cq0fCzaJzPN",
          "Cqsp0vhpHgc",
          "Cqp_XT-JQfQ",
          "Cqna59Kppti",
          "CqlAroZpQqL",
          "CqiS0jvpGUa",
          "CqdFed2Jczc",
          "CqazdxKJCdu",
          "CqX_p0lDtOw",
          "CqS6lTzDOU_",
          "CqNxGb_JqNh",
          "CqIrZbnpFFX",
          "CqDdvvxpz3r",
          "CqAzQ0JJlVL",
          "Cp7zuJUJ10o",
          "Cp2txMyppm-",
          "CpxhkhTp7oc",
          "CpvCwotpVTM",
          "CppyqFOJBST",
          "CpkrfqWJ8fs",
          "CpXpF3pJGB_",
          "CpVJlKCpz9O",
          "CpNey_7AUtp",
          "CpFt5-TpBtj",
          "CpDS0smJTLQ",
          "CpA5iT1yBsB",
          "Co96kh2Ji9D",
          "Co7O_U7p8ld",
          "Co4yzWaJIOH",
          "Co2R9LKJMYf",
          "Coz1p4aJGnd",
          "CoxIFOnJSbC",
          "CounSa6ArjL",
          "Cor4tutpdIm",
          "CopN45aJzLd",
          "ComzpO3pF3R",
          "CokBi5Hpqwx",
          "Cohr_piJLj7",
          "CocVTlHJbVX",
          "CoZ_1vsJJzr",
          "CoXYn5MJStK",
          "CoU1ezXp6Vl",
          "CoSR9j8AR5Z",
          "CoPxYyxJBs4",
          "CoNJ-J5pAJj",
          "CoKfDDOJey1",
          "CoH8vdhpMWd",
          "CoFWW4Fpuy6",
          "CoCzifrJPPq",
          "CoAQ-AFS7ov",
          "Cn9rRKMS6sL",
          "Cn7CBavyPfJ",
          "Cn4mQ50SLA0",
          "CnzYTO5JA3V",
          "CnuGneCqTYM",
          "Cno-hl4qGq-",
          "Cnmd1kppUSa",
          "CnjxMaYKk6O",
          "CnhT-LKJPjT",
          "CneullupvAK",
          "CnZl3ncKG5X",
          "CnW77T0qmiQ",
          "CnV2AtSKMBr",
          "CnUdaewKEru",
          "CnRwJ8nJsrH",
          "CnPQEIOpILg",
          "CnE9GLAKryp",
          "CnCMLQzDj5w",
          "Cm_9qxDS-z7",
          "Cm9I5Qxjju7",
          "Cm4EdB-DU6p",
          "Cm3cj5EjLay",
          "Cm0lYmqKZeG",
          "Cmy8izyqKcF",
          "CmwE4bxKr0x",
          "CmrJ1lwJwKC",
          "CmonRUcpX99",
          "CmmA88-Ji9L",
          "CmjXfH5pRIS",
          "Cmis2atKvSe",
          "CmguuMFqjrB",
          "CmbgLZhpV57",
          "CmWQPXYJBx6",
          "CmTEZ1QrzgN",
          "CmOv_6LJpgY",
          "CmMYFxcp3WY",
          "CmJsYirJ3Q8",
          "CmEdxHupxOX",
          "CmCDDHyJHTH",
          "Cl_U0uvJ4H7",
          "Cl8uiY1p6Qe",
          "Cl6OfTRp49C",
          "Clv-m1wJIjO",
          "Clq5u1ppAKd",
          "CloIFV7pkFq",
          "ClluFMzJ05H",
          "Clgekzbp8RP",
          "CleBjcSJ1iu",
          "ClZDq3HS537",
          "ClWQcf7J9ac",
          "ClOecQMJ_1z",
          "ClL9yozSMXc",
          "ClIp7ZiDtyd",
          "ClEPq27SrNQ",
          "Ck_B6wohJL6",
          "Ck7ijnLJ2aO",
          "Ck4351AgWL1",
          "Ck015q0JiZA",
          "CkyHP7ErAyh",
          "CkvfSdUpmrB",
          "CkvA4X7ptWC",
          "Cks40vbpQqT",
          "CkqtxpzSwHS",
          "Ckn_jB7J0T-",
          "Ckk5_apJKiC",
          "CkivS5hg7Cg",
          "CkgEIE-JAsi",
          "CkdZm6TpNK6",
          "CkbJQZgJJyi",
          "CkTOVY6JgI0",
          "CkQm8fgJnQ-",
          "CkOFHvQJkWz",
          "CkLNmRUJZEH",
          "CkFbmpzJx8N",
          "Cj-vcpHp7-M",
          "Cj8Xq7BS2Wx",
          "Cj5dmRaJD9m",
          "Cj23j-hpdmS",
          "CjsoHQepAIq",
          "CjqCAOxpduR",
          "CjiZeNGpGss",
          "CjajnybpV1b",
          "CjYDfY1pldQ",
          "CjVfbWip-S1",
          "CjS4w-Upboy",
          "CjQSL88Jkin",
          "CjNz16ppJDX",
          "CjIeMonJuBw",
          "CjGOCv9p5uI",
          "CjAy6RxpE9w",
          "CixXQw8jyk8",
          "CiuvvJ8pJxl",
          "CisEIRVJtgA",
          "Cip7ImqpZg4",
          "CikpmagJEqi",
          "Cih2t-lpqyb",
          "Cifa8TkpuC6",
          "CicCdlspgLm",
          "CiX66kYpZMM",
          "CiU9K8oJnET",
          "CiP3Y-FJsFb",
          "CiNRRBppvgv",
          "CiKrlBHpSzz",
          "CiIiUhapn25",
          "CiHezTvgM2P",
          "CiFWJu8JHUQ",
          "CiC82YVpXm8",
          "Ch90f8MJ460",
          "Ch7QvEaJS4E",
          "Ch4vssFpolM",
          "Ch2KGRZJJSe",
          "ChzZWWfDGKY",
          "ChuclK8JhTa",
          "ChmoF1HJitJ",
          "ChkMAzXJYk9",
          "ChhhpgwhZbh",
          "ChZzTH2prjA",
          "ChXPS_ADT6O",
          "ChUm2GXqOsk",
          "ChQ_vE_jV_E",
          "ChKVTOHDmAv",
          "ChGyogbpRdg",
          "ChFKa0ejerQ",
          "ChCm_xZpqY7",
          "ChAABMJDPa2",
          "Cg7BJtTpuQo",
          "Cg1yj27pGNM",
          "CgzNjw-pKSe",
          "Cgwhi-lDmyM",
          "CgrYvR5JW5a",
          "CgmRnIXJF7y",
          "Cgj7gSMJvdb",
          "CghAOyYDS52",
          "Cgb3S5YjxFB",
          "CgUZrApDw7n",
          "CgRu2VepgYV",
          "CgPN7FbJCvi",
          "CgMp1w6pOAZ",
          "CgCSy47pA-G",
          "Cf_ifp-DJyZ",
          "Cf4cuGxhiDF",
          "Cfy2vr8pSx4",
          "CfwRHvDpH_x",
          "CfrIDJ5D4c2",
          "Cfirqfqj71T",
          "CfeFCYWJieZ",
          "CfbkuFLp2US",
          "CfUGIchpgkc",
          "CfRQcSFJ-2q",
          "CfO0bSsJKaQ",
          "CfMU8tzjaY2",
          "CfHKev5pzWN",
          "CfGkA_0psQm",
          "Ce-fEm4jbcw",
          "Ce8UQEIjnUe",
          "Ce6B_MzJimN",
          "Ce3oYdgDOoa",
          "Ce0-50JJ3kM",
          "Ce0uYc5pL-5",
          "CeyGxmrJykj",
          "Cev5lwxpQ1v",
          "CeoHpYhJ5FO",
          "Cely6BRjLAZ",
          "CeleOwRDjnf",
          "CegWEAFD2w6",
          "CeduqGLjfvP",
          "CebZqzfpTx2",
          "CeWLMEBpy6V",
          "CeTlKzxpnwR",
          "CeOWRXtJRzz",
          "CeLqD7HjIFX",
          "CeGvmYjjMhG",
          "CeEVNaJDlCZ",
          "CeEEPh1j56B",
          "CeBp8Pgj1zY",
          "CeBcJj-p_G6",
          "Cd-_8DEJXkc",
          "Cd91SvRjNBk",
          "Cd8bhkGp447",
          "Cd57pnCDT36",
          "Cd3X8FkJPgX",
          "Cd3GIl5paaJ",
          "Cd0pDY3jTVB",
          "CdyJFCZjHWr",
          "Cdvm0cBpBTt",
          "Cds7F_GJmWK",
          "CdqduympOor",
          "CdpsdKcD1hh",
          "CdnqzcyJVh7",
          "CdgGuTvpmMz",
          "Cda8V_cpCPT",
          "CdYh0BqDr6M",
          "CdVsitbJ6P5",
          "CdSZjcWDnpC",
          "CdODBQejRey",
          "CdLoJdcJUef",
          "CdI5E6SJziq",
          "CdIncyaJ2QD",
          "CdDv_qiJqR5",
          "CdBLXuJpa8K",
          "Cc-u9Xhp5sz",
          "Cc-cJxIJvwI",
          "Cc7-EpJJINx",
          "Cc7g30SJ_yt",
          "Cc7EKitJMZ3",
          "Cc5YHysD0WH",
          "Cc2tIBZpJRZ",
          "Cc0IKrPD2VN",
          "CcxTTxrDxn0",
          "CcqABsqJ15A",
          "CcpkBcypACH",
          "CckgE2EDWOT",
          "CciRe4ED_3B",
          "Ccf0_T9DMAY",
          "CcfliFJjcBL",
          "CcdCZzupgjg",
          "CcX3qxOpBUs",
          "CcVPno8pWnt",
          "CcS6rq3KhtD",
          "CcSePqRhkS0",
          "CcP4yADj9sa",
          "CcMud63j4DO",
          "CcH0GUpDL1x",
          "CcFxhRHjvQC",
          "CcDGfDoJqAF",
          "CcAgzv_pjQN",
          "Cb955jAJbnL",
          "Cb7RyTEpXDA",
          "Cb2hTarjOOT",
          "Cbujfi8Dcy1",
          "CbrwRO5DL_v",
          "CbpHnfEpIBT",
          "CbkVhEkJ0dZ",
          "CbhqsX6DvRD",
          "CbfE5BeJ6HH",
          "CbcfzcoDhjt",
          "CbZ3c2yjwV_",
          "CbXfv6tpM2V",
          "CbU4Wg1jv4X",
          "CbSUqeoDjTt",
          "CbP0W30D4DO",
          "CbNXLm9pzt_",
          "CbKWxP5paKL",
          "CbH_qhRjFU1",
          "CbFU90SJx5L",
          "CbDBGQOpBOu",
          "Ca9oBi3DcEY",
          "Ca6xWxvj9xg",
          "Ca4_I5tDa8z",
          "Ca2BgOFuzDQ",
          "Ca1tWVkjv-8",
          "Caz34lEBo5J",
          "CazIj84unk2",
          "Carm6Qep9Kp",
          "CapPg-JDW72",
          "Cam0OwgpLKm",
          "Caj_XqKDX5Y",
          "CahYnTXDv6D",
          "Cae7oOjDaPm",
          "CacCUOMpAZr",
          "CaZpP-_DJi3",
          "CaW_Hl_ONaB",
          "CaUO6w5jrT6",
          "CaRgXEcDCVb",
          "CaPTzHyjqKV",
          "CaMzdimpMfu",
          "CaMIV6PjEDl",
          "CaKNDi7jset",
          "CaHxwVNpart",
          "CaFKWUVjL_u",
          "CaCm72KJjze",
          "CZ_-CKpDCSl",
          "CZ9Yc-KJ9sN",
          "CZ9C523pmAe",
          "CZ8l2N2KF7c",
          "CZ6sFfLBPI0",
          "CZ1wNmEpA7c",
          "CZwhThYDG_4",
          "CZt80-1pPHD",
          "CZrkx9TpI8y",
          "CZot-_mj7ug",
          "CZjw3A-Jk-I",
          "CZhKJ-Fpm4G",
          "CZcGifKpipF",
          "CZZgMZAq1I_",
          "CZWv9zbJGKl",
          "CZRpjMDJ5k3",
          "CZPHCmlDw1d",
          "CZLzdbeqc-a",
          "CZKGWI4qEz7",
          "CZHcs29qZ2r",
          "CY_sfuiqY6W",
          "CY_d-pAqTvD",
          "CY342FepaXh",
          "CYywBf-p304",
          "CYtqAkxJNV_",
          "CYsuD9MK57l",
          "CYrQDVjpvYI",
          "CYogJ3uq4v1",
          "CYmGQgQJ0lv",
          "CYjRKlapRo4",
          "CYgqGDrKgym",
          "CYbrhEIpWCk",
          "CYY_mHmqNyw",
          "CYWdxYbJspa",
          "CYRUWnRpanK",
          "CYJi3zfpOmM",
          "CYI03cjpOZO",
          "CYEc3HxpSBy",
          "CYBzk7wqdFX",
          "CX3uq9Dqgdz",
          "CX0_qESKm7b",
          "CXygBTUJ5yy",
          "CXv4UiLpVAy",
          "CXqePOvJKR9",
          "CXlu2cfpMtf",
          "CXYylEgpPXN",
          "CXTWyKsprfS",
          "CXRHtt2pxWI",
          "CXLz00AJZ9d",
          "CXJLDh0pVOF",
          "CXBX64mJ0It",
          "CW-8tmpB24Y",
          "CW8Tr_yBHBg",
          "CW3YDdhh-cw",
          "CW0iNE_JSj5",
          "CWvYRq4pv5i",
          "CWtAKLzh4Bl",
          "CWqfpA1h_v_",
          "CWlPBkFvdfN",
          "CWgCGzLBp0h",
          "CWa9YeJjIS-",
          "CWVtNt5gAKz",
          "CWPkEnyJ2Eq",
          "CWLURAVD3PM",
          "CWI0gu1DtjX",
          "CWDx_FAjFXZ",
          "CWBL5o5Dehd",
          "CV732RcBJeJ",
          "CV109phpMpr",
          "CVxkxg3B7LW",
          "CVu9BHsh1jS",
          "CVrjymcp46Z",
          "CVndScvDibe",
          "CVk4Ds4D6ev",
          "CVihGkajE6T",
          "CVfoZ-3hkSZ",
          "CVdGCC6MIjz",
          "CVVfAqbjAoy",
          "CVQPadSp_eu",
          "CVNpna4jDds",
          "CVLO-nUj1nt",
          "CVF8XfaDn3D",
          "CVAvQmaDOLQ",
          "CUw7YX6heM3",
          "CUsJEdHJzN6",
          "CUfboXABOln",
          "CUe8uA3j3NK",
          "CUaPPfTjaJ0",
          "CUVFaawDBEc",
          "CUNNzpgJ08V",
          "CUIIMwGJpCS",
          "CUC3gR5p5rF",
          "CUAZm-spiLi",
          "CTuQYUBJqIL",
          "CTr6PlCJO6P",
          "CTmi1RdDHMk",
          "CThcMt7J4F9",
          "CTbUF3gpWY1",
          "CTFGXI2jBf9",
          "CTCVpVzJs1a",
          "CS9nlmFjLKh",
          "CS3U1f1Jz6C",
          "CSy-vdSjwmk",
          "CSwO0XMjhM8",
          "CSo8pnVph2I",
          "CSlOjZbpqXM",
          "CSjeiIUJZO0",
          "CSb7OLTJRSY",
          "CSZUbV-DyZr",
          "CSBZVy6Jp7e",
          "CR1OxBXjrzy",
          "CRyvAHCjnR-",
          "CRoR7u4jUqP",
          "CRjP4FyDy3J",
          "CRapRdNjAEV",
          "CRWmK50Dr4x",
          "CRIqegbDIBI",
          "CQyc6x3DgjL",
          "CQbfRgWDv_y",
          "CQVDqPRDgqP",
          "CQOgW6Xjn_4",
          "CQJL1yvjV30",
          "CP_GTDODkqm",
          "CP5_-GWqhYd",
          "CPqfJ22DmWA",
          "CPlOxoADMPQ",
          "CPYPUbRDIWc",
          "CPP55fFjD1H",
          "CPI_OCCDVhe",
          "CPD3eObD6dP",
          "CO-35dODv0u",
          "CO11KUAjHg-",
          "COvVfzXjSpX",
          "COpn0csDyz7",
          "COmx6iTDQjN",
          "COidZSDDyfo",
          "COdORycjGj0",
          "CONsFwFjVjI",
          "COLJgrjjaWQ",
          "COIQ3HEjIGA",
          "CODHTj7D1yu",
          "COAdigzDmzO",
          "CN-d8QyjqBW",
          "CN7l-ATDfA6",
          "CNxQpBUjVCw",
          "CNkhTL8jrbK",
          "CNcl8C7jGDO",
          "CNZ832vDiuO",
          "CNG_7zcDuxN",
          "CNC7Yt2jeOt",
          "CM2VATID_2d",
          "CMw8OQ7jOLN",
          "CMpHNVoDVHd",
          "CMm62xBjQ11",
          "CMcMtmcjohS",
          "CMWQXYtjEK0",
          "CMKp89Cj81A",
          "CMFRSA3jOl4",
          "CL4Qx3gje8q",
          "CL1sqN-Dmsb",
          "CLrTmAjjaG0",
          "CLmhPGjjfBN",
          "CLehIQiDxJk",
          "CLbw6AKjVwi",
          "CLWqwHdDKT-",
          "CLQncI5j2TM",
          "CLJwZkHjfZh",
          "CLEmCJvjCd-",
          "CK3unTFjOTA",
          "CK1KdV-DK2T",
          "CKwcqyyD15k",
          "CKob1PujjcL",
          "CKWngT9DyWi",
          "CKRNWucDlpc",
          "CJ_W6yVj2vL",
          "CJ6PlrljJ6i",
          "CJyPaw4j43E",
          "CJi0y9jjGaY",
          "CJY_PZvjh2r",
          "CJNRz69jlo9",
          "CJFqrWqjXJb",
          "CI3BD17DIzd",
          "CIxAovmjF1o",
          "CIVjNwfjrnH",
          "CIN1Xeejh11",
          "CHj9Hfzjb40",
          "CHQGAsSDGg4",
          "CHI4Ttkjt50",
          "CHFt7mdjDDa",
          "CGy4LyKjkIM",
          "CGwURuRj7UC",
          "CGZZR5wDeMX",
          "CGYAo6DjPD2",
          "CGWuXnojm9g",
          "CFH1YmmhXkF",
          "CE6u4CzhsCP",
          "CEv0XCRBiH_",
          "CELoEISBwre",
          "CDwByZthkHQ",
          "CDg1z5kh6_H",
          "CDavQwxBvQK",
          "CDL-e-rhfgu",
          "CC8jMHEFF2w",
          "CC0zPQihcDF",
          "CCtiNKvBkDX",
          "CClw6Xeh-Wh",
          "CCaYGFchBug",
          "CCJCPGGh3yc",
          "CB5mcUoBMay",
          "CBsO6hTh3Ve",
          "CBqY77tB7ql",
          "CBgIqPSB5PT",
          "CBCk0rOhHeH",
          "CA7smV4AAhp",
          "CAxulNtBzv1",
          "CApo3Ngg8Vd",
          "CApoCFGA3qR",
          "CApoAkrAcYp",
          "CApeQjYArc4",
          "CApeGk-Ahf1",
          "CApd5SXgxP_",
          "CAk5lWQhSzN",
          "CAk5YvGB_-s",
          "CAkz1qIB7hI",
          "CAkzyiQh_1d",
          "CAfxa8ZhQ9E",
          "CAN4ff8BQCr",
          "CAN3eZYB-wv",
          "CAN3VeshYvJ",
          "CABDR0ZhcdK",
          "CAAu5RngLN4",
          "CAAaaiDg_yw",
          "B_uyer_B5m6",
          "B_upkQZh07K",
          "B_r4J68BmIM",
          "B-10TO1BOZJ",
          "B-rwmzJhP5z",
          "B-ro1_TBK2m",
          "B-rjDOfB0nl",
          "B-M8KY2hgQ2",
          "B-MfKHuhfpU",
          "B914vsTHj_S",
          "B9bZX59hqzt",
          "B8vy5C7hxLF",
          "B8vytn8hwM-",
          "B8vwSUEBwvI",
          "B8k5zyFhHpI",
          "B8k5ZdfhYNf",
          "B8k5B5uBGPJ",
          "B8YGTBrhzv2",
          "B8YGJz_B7UC",
          "B8YGCh-h3ky",
          "B8LriuZhJaR",
          "B8Lrb59BDV7",
          "B8LrPeMByHs",
          "B7x_WtTBJ6w",
          "B7x_Rc7BhS9",
          "B7x_G2Nh-LA",
          "B7i5Ktlh7EQ",
          "B7bHsa6B_YG",
          "B7VTXFhB5kO",
          "B7VTGnyh0X3",
          "B62efgdBJW1",
          "B62eXOrhtq9",
          "B6flvethJCV",
          "B6fllz4BKU3",
          "B6fleYIhW4q",
          "B6Vq6G2BYDC",
          "B6VqnMvh1Oc",
          "B5-t5qaBozd",
          "B5-t297BfOd",
          "B5-tunIB5V3",
          "B5AfO1OBn6b",
          "B5Ae-LqhPXm",
          "B5Aeqtkh7_B",
          "B4wm_hfhdpu",
          "B4wm2Aahct9",
          "B4wmo3mBaIK",
          "B4hpbeSBBW0",
          "B4hpTyHBtyS",
          "B4hpOsVB5nR",
          "B4HjnF4hgI6",
          "B4HjQUsBGhQ",
          "B4HjEz7Bn8z",
          "B3rcZ3ABKvA",
          "B3rcTVwh4kj",
          "B3rbmIAhfpV",
          "B3HD7tbBfyT",
          "B3HD5qhhS4X",
          "B3HDvJ8hqvS",
          "B2CIiTfB0fd",
          "B2CIf62BiRX",
          "B2CIcrSBVny",
          "B1yRgeRh6j7",
          "B1yRE7_hunM",
          "B1yQvauhJwz",
          "B1MLHWEBN7V",
          "B1MLE1vBEN6",
          "B1MLBoYBSXq",
          "B0zjcHBBWFc",
          "B0zhaUFhAqs",
          "B0zg7yUh_eD",
          "B0vgVodh2s-",
          "B0vde1mBwRR",
          "B0vczFtB4jE",
          "B0ta_Xsh3fv",
          "B0tZPythHOo",
          "B0tM2aVAwD-"
         ],
         "y": [
          56,
          116,
          734,
          404,
          93,
          391,
          9474,
          186,
          201,
          426,
          395,
          316,
          243,
          1160,
          402,
          10606,
          577,
          1343,
          182,
          639,
          179,
          218,
          145,
          327,
          268,
          326,
          337,
          1229,
          537,
          427,
          563,
          996,
          2472,
          1145,
          1402,
          397,
          1707,
          405,
          283,
          161,
          6989,
          179,
          253,
          299,
          344,
          469,
          168,
          255,
          337,
          370,
          360,
          172,
          297,
          5766,
          3116,
          320,
          191,
          214,
          536,
          562,
          1512,
          187,
          1320,
          138,
          3718,
          2671,
          202,
          160,
          605,
          104,
          2308,
          128,
          306,
          167,
          453,
          13720,
          306,
          2840,
          282,
          225,
          111,
          138,
          6928,
          86,
          377,
          200,
          160,
          3818,
          2129,
          157,
          87,
          158,
          1557,
          108,
          58,
          1090,
          2496,
          1275,
          3344,
          218,
          142,
          258,
          7375,
          83,
          78,
          93,
          86,
          746,
          165,
          74,
          2580,
          403,
          131,
          521,
          92,
          347,
          103,
          1897,
          7034,
          2672,
          313,
          549,
          257,
          5406,
          2777,
          229,
          647,
          11135,
          3988,
          1783,
          228,
          681,
          324,
          142,
          5655,
          394,
          413,
          399,
          205,
          177,
          4520,
          328,
          1673,
          2819,
          239,
          222,
          21103,
          232,
          81,
          4616,
          407,
          78,
          64,
          138,
          1184,
          1716,
          4081,
          103,
          1384,
          62,
          117,
          87,
          96,
          34,
          204,
          106,
          11569,
          74,
          195,
          289,
          56,
          80,
          843,
          67,
          335,
          72,
          1619,
          9666,
          69,
          640,
          43,
          69,
          53,
          80,
          91,
          281,
          126,
          397,
          84,
          79,
          154,
          3329,
          451,
          1099,
          102,
          120,
          71,
          12545,
          95,
          68,
          7349,
          150,
          59,
          81,
          15486,
          92,
          497,
          109,
          121,
          181,
          456,
          515,
          141,
          101,
          4854,
          819,
          140,
          66,
          304,
          67,
          2578,
          696,
          398,
          159,
          154,
          69,
          2088,
          145,
          581,
          758,
          1133,
          6403,
          232,
          1470,
          48,
          147,
          211,
          124,
          137,
          198,
          103,
          100,
          691,
          126,
          1224,
          4557,
          2416,
          827,
          17966,
          102,
          65,
          329,
          87,
          2025,
          62,
          44,
          54,
          109,
          99,
          365,
          546,
          467,
          104,
          25,
          40,
          63,
          38,
          29,
          5035,
          53,
          138,
          62,
          37,
          40,
          79,
          2223,
          118,
          79,
          82,
          76,
          29,
          61,
          747,
          39,
          183,
          20,
          33,
          2467,
          45,
          26,
          35,
          25,
          45,
          285,
          33,
          61,
          52,
          114,
          51,
          141,
          194,
          222,
          65,
          1039,
          79,
          95,
          518,
          121,
          58,
          152,
          61,
          64,
          66,
          413,
          91,
          900,
          843,
          117,
          203,
          2397,
          123,
          155,
          2568,
          104,
          385,
          36,
          33,
          3790,
          40,
          29,
          17,
          117,
          29,
          54,
          42,
          2620,
          2284,
          255,
          45,
          49,
          3837,
          43,
          262,
          75,
          904,
          11491,
          392,
          28,
          38,
          59,
          1109,
          1944,
          76,
          61,
          1191,
          65,
          22,
          142,
          154,
          63,
          86,
          1185,
          47,
          286,
          88,
          63,
          3649,
          164,
          62,
          162,
          89,
          68,
          75,
          77,
          962,
          63,
          987,
          34,
          386,
          121,
          36,
          82,
          959,
          501,
          46,
          194,
          40,
          139,
          270,
          75,
          2953,
          27,
          256,
          88,
          27,
          47,
          53,
          354,
          94,
          69,
          37,
          60,
          48,
          509,
          30,
          243,
          156,
          56,
          126,
          539,
          53,
          45,
          20,
          188,
          1226,
          53,
          34,
          179,
          43,
          284,
          124,
          86,
          66,
          224,
          6866,
          152,
          221,
          125,
          90,
          133,
          208,
          242,
          137,
          174,
          236,
          322,
          86,
          288,
          255,
          334,
          324,
          156,
          459,
          131,
          151,
          110,
          70,
          99,
          111,
          53,
          59,
          67,
          496,
          89,
          161,
          132,
          133,
          196,
          145,
          591,
          215,
          80,
          143,
          47,
          42,
          259,
          585,
          255,
          61,
          146,
          361,
          36,
          37,
          113,
          53,
          73,
          82,
          135,
          691,
          247,
          63,
          77,
          29,
          7,
          40,
          52,
          18,
          49,
          53,
          93,
          86,
          75,
          20,
          86,
          63,
          44,
          138,
          399,
          58,
          50,
          119,
          101,
          50,
          122,
          57,
          95,
          69,
          157,
          73,
          69,
          48,
          182,
          119,
          110,
          401,
          43,
          57,
          111,
          37,
          274,
          25,
          24,
          83,
          59,
          15,
          14,
          60,
          11,
          14,
          12,
          26,
          23,
          24,
          49,
          164,
          7,
          13,
          6,
          20,
          7,
          4,
          3,
          3,
          1,
          5,
          1,
          3,
          2,
          0,
          0,
          0,
          0,
          2,
          0,
          0,
          3,
          1,
          0,
          2,
          1,
          0,
          4,
          2,
          0,
          8,
          7,
          0,
          0,
          1,
          0,
          0,
          0,
          4,
          0,
          1,
          1,
          8,
          1,
          3,
          0,
          0,
          0,
          1,
          0,
          2,
          1,
          0,
          3,
          0,
          0,
          0,
          0,
          1,
          0,
          0,
          0,
          0,
          0,
          1,
          9,
          6,
          15,
          4,
          1,
          3,
          1,
          0,
          0,
          0,
          3,
          0,
          0,
          0,
          0,
          2,
          51,
          9,
          0,
          0,
          0,
          0,
          0,
          0,
          2,
          0,
          1,
          0,
          0,
          0,
          2,
          0,
          0,
          0,
          0,
          0,
          0,
          4,
          0
         ]
        }
       ],
       "layout": {
        "barmode": "group",
        "template": {
         "data": {
          "bar": [
           {
            "error_x": {
             "color": "#2a3f5f"
            },
            "error_y": {
             "color": "#2a3f5f"
            },
            "marker": {
             "line": {
              "color": "#E5ECF6",
              "width": 0.5
             },
             "pattern": {
              "fillmode": "overlay",
              "size": 10,
              "solidity": 0.2
             }
            },
            "type": "bar"
           }
          ],
          "barpolar": [
           {
            "marker": {
             "line": {
              "color": "#E5ECF6",
              "width": 0.5
             },
             "pattern": {
              "fillmode": "overlay",
              "size": 10,
              "solidity": 0.2
             }
            },
            "type": "barpolar"
           }
          ],
          "carpet": [
           {
            "aaxis": {
             "endlinecolor": "#2a3f5f",
             "gridcolor": "white",
             "linecolor": "white",
             "minorgridcolor": "white",
             "startlinecolor": "#2a3f5f"
            },
            "baxis": {
             "endlinecolor": "#2a3f5f",
             "gridcolor": "white",
             "linecolor": "white",
             "minorgridcolor": "white",
             "startlinecolor": "#2a3f5f"
            },
            "type": "carpet"
           }
          ],
          "choropleth": [
           {
            "colorbar": {
             "outlinewidth": 0,
             "ticks": ""
            },
            "type": "choropleth"
           }
          ],
          "contour": [
           {
            "colorbar": {
             "outlinewidth": 0,
             "ticks": ""
            },
            "colorscale": [
             [
              0,
              "#0d0887"
             ],
             [
              0.1111111111111111,
              "#46039f"
             ],
             [
              0.2222222222222222,
              "#7201a8"
             ],
             [
              0.3333333333333333,
              "#9c179e"
             ],
             [
              0.4444444444444444,
              "#bd3786"
             ],
             [
              0.5555555555555556,
              "#d8576b"
             ],
             [
              0.6666666666666666,
              "#ed7953"
             ],
             [
              0.7777777777777778,
              "#fb9f3a"
             ],
             [
              0.8888888888888888,
              "#fdca26"
             ],
             [
              1,
              "#f0f921"
             ]
            ],
            "type": "contour"
           }
          ],
          "contourcarpet": [
           {
            "colorbar": {
             "outlinewidth": 0,
             "ticks": ""
            },
            "type": "contourcarpet"
           }
          ],
          "heatmap": [
           {
            "colorbar": {
             "outlinewidth": 0,
             "ticks": ""
            },
            "colorscale": [
             [
              0,
              "#0d0887"
             ],
             [
              0.1111111111111111,
              "#46039f"
             ],
             [
              0.2222222222222222,
              "#7201a8"
             ],
             [
              0.3333333333333333,
              "#9c179e"
             ],
             [
              0.4444444444444444,
              "#bd3786"
             ],
             [
              0.5555555555555556,
              "#d8576b"
             ],
             [
              0.6666666666666666,
              "#ed7953"
             ],
             [
              0.7777777777777778,
              "#fb9f3a"
             ],
             [
              0.8888888888888888,
              "#fdca26"
             ],
             [
              1,
              "#f0f921"
             ]
            ],
            "type": "heatmap"
           }
          ],
          "heatmapgl": [
           {
            "colorbar": {
             "outlinewidth": 0,
             "ticks": ""
            },
            "colorscale": [
             [
              0,
              "#0d0887"
             ],
             [
              0.1111111111111111,
              "#46039f"
             ],
             [
              0.2222222222222222,
              "#7201a8"
             ],
             [
              0.3333333333333333,
              "#9c179e"
             ],
             [
              0.4444444444444444,
              "#bd3786"
             ],
             [
              0.5555555555555556,
              "#d8576b"
             ],
             [
              0.6666666666666666,
              "#ed7953"
             ],
             [
              0.7777777777777778,
              "#fb9f3a"
             ],
             [
              0.8888888888888888,
              "#fdca26"
             ],
             [
              1,
              "#f0f921"
             ]
            ],
            "type": "heatmapgl"
           }
          ],
          "histogram": [
           {
            "marker": {
             "pattern": {
              "fillmode": "overlay",
              "size": 10,
              "solidity": 0.2
             }
            },
            "type": "histogram"
           }
          ],
          "histogram2d": [
           {
            "colorbar": {
             "outlinewidth": 0,
             "ticks": ""
            },
            "colorscale": [
             [
              0,
              "#0d0887"
             ],
             [
              0.1111111111111111,
              "#46039f"
             ],
             [
              0.2222222222222222,
              "#7201a8"
             ],
             [
              0.3333333333333333,
              "#9c179e"
             ],
             [
              0.4444444444444444,
              "#bd3786"
             ],
             [
              0.5555555555555556,
              "#d8576b"
             ],
             [
              0.6666666666666666,
              "#ed7953"
             ],
             [
              0.7777777777777778,
              "#fb9f3a"
             ],
             [
              0.8888888888888888,
              "#fdca26"
             ],
             [
              1,
              "#f0f921"
             ]
            ],
            "type": "histogram2d"
           }
          ],
          "histogram2dcontour": [
           {
            "colorbar": {
             "outlinewidth": 0,
             "ticks": ""
            },
            "colorscale": [
             [
              0,
              "#0d0887"
             ],
             [
              0.1111111111111111,
              "#46039f"
             ],
             [
              0.2222222222222222,
              "#7201a8"
             ],
             [
              0.3333333333333333,
              "#9c179e"
             ],
             [
              0.4444444444444444,
              "#bd3786"
             ],
             [
              0.5555555555555556,
              "#d8576b"
             ],
             [
              0.6666666666666666,
              "#ed7953"
             ],
             [
              0.7777777777777778,
              "#fb9f3a"
             ],
             [
              0.8888888888888888,
              "#fdca26"
             ],
             [
              1,
              "#f0f921"
             ]
            ],
            "type": "histogram2dcontour"
           }
          ],
          "mesh3d": [
           {
            "colorbar": {
             "outlinewidth": 0,
             "ticks": ""
            },
            "type": "mesh3d"
           }
          ],
          "parcoords": [
           {
            "line": {
             "colorbar": {
              "outlinewidth": 0,
              "ticks": ""
             }
            },
            "type": "parcoords"
           }
          ],
          "pie": [
           {
            "automargin": true,
            "type": "pie"
           }
          ],
          "scatter": [
           {
            "fillpattern": {
             "fillmode": "overlay",
             "size": 10,
             "solidity": 0.2
            },
            "type": "scatter"
           }
          ],
          "scatter3d": [
           {
            "line": {
             "colorbar": {
              "outlinewidth": 0,
              "ticks": ""
             }
            },
            "marker": {
             "colorbar": {
              "outlinewidth": 0,
              "ticks": ""
             }
            },
            "type": "scatter3d"
           }
          ],
          "scattercarpet": [
           {
            "marker": {
             "colorbar": {
              "outlinewidth": 0,
              "ticks": ""
             }
            },
            "type": "scattercarpet"
           }
          ],
          "scattergeo": [
           {
            "marker": {
             "colorbar": {
              "outlinewidth": 0,
              "ticks": ""
             }
            },
            "type": "scattergeo"
           }
          ],
          "scattergl": [
           {
            "marker": {
             "colorbar": {
              "outlinewidth": 0,
              "ticks": ""
             }
            },
            "type": "scattergl"
           }
          ],
          "scattermapbox": [
           {
            "marker": {
             "colorbar": {
              "outlinewidth": 0,
              "ticks": ""
             }
            },
            "type": "scattermapbox"
           }
          ],
          "scatterpolar": [
           {
            "marker": {
             "colorbar": {
              "outlinewidth": 0,
              "ticks": ""
             }
            },
            "type": "scatterpolar"
           }
          ],
          "scatterpolargl": [
           {
            "marker": {
             "colorbar": {
              "outlinewidth": 0,
              "ticks": ""
             }
            },
            "type": "scatterpolargl"
           }
          ],
          "scatterternary": [
           {
            "marker": {
             "colorbar": {
              "outlinewidth": 0,
              "ticks": ""
             }
            },
            "type": "scatterternary"
           }
          ],
          "surface": [
           {
            "colorbar": {
             "outlinewidth": 0,
             "ticks": ""
            },
            "colorscale": [
             [
              0,
              "#0d0887"
             ],
             [
              0.1111111111111111,
              "#46039f"
             ],
             [
              0.2222222222222222,
              "#7201a8"
             ],
             [
              0.3333333333333333,
              "#9c179e"
             ],
             [
              0.4444444444444444,
              "#bd3786"
             ],
             [
              0.5555555555555556,
              "#d8576b"
             ],
             [
              0.6666666666666666,
              "#ed7953"
             ],
             [
              0.7777777777777778,
              "#fb9f3a"
             ],
             [
              0.8888888888888888,
              "#fdca26"
             ],
             [
              1,
              "#f0f921"
             ]
            ],
            "type": "surface"
           }
          ],
          "table": [
           {
            "cells": {
             "fill": {
              "color": "#EBF0F8"
             },
             "line": {
              "color": "white"
             }
            },
            "header": {
             "fill": {
              "color": "#C8D4E3"
             },
             "line": {
              "color": "white"
             }
            },
            "type": "table"
           }
          ]
         },
         "layout": {
          "annotationdefaults": {
           "arrowcolor": "#2a3f5f",
           "arrowhead": 0,
           "arrowwidth": 1
          },
          "autotypenumbers": "strict",
          "coloraxis": {
           "colorbar": {
            "outlinewidth": 0,
            "ticks": ""
           }
          },
          "colorscale": {
           "diverging": [
            [
             0,
             "#8e0152"
            ],
            [
             0.1,
             "#c51b7d"
            ],
            [
             0.2,
             "#de77ae"
            ],
            [
             0.3,
             "#f1b6da"
            ],
            [
             0.4,
             "#fde0ef"
            ],
            [
             0.5,
             "#f7f7f7"
            ],
            [
             0.6,
             "#e6f5d0"
            ],
            [
             0.7,
             "#b8e186"
            ],
            [
             0.8,
             "#7fbc41"
            ],
            [
             0.9,
             "#4d9221"
            ],
            [
             1,
             "#276419"
            ]
           ],
           "sequential": [
            [
             0,
             "#0d0887"
            ],
            [
             0.1111111111111111,
             "#46039f"
            ],
            [
             0.2222222222222222,
             "#7201a8"
            ],
            [
             0.3333333333333333,
             "#9c179e"
            ],
            [
             0.4444444444444444,
             "#bd3786"
            ],
            [
             0.5555555555555556,
             "#d8576b"
            ],
            [
             0.6666666666666666,
             "#ed7953"
            ],
            [
             0.7777777777777778,
             "#fb9f3a"
            ],
            [
             0.8888888888888888,
             "#fdca26"
            ],
            [
             1,
             "#f0f921"
            ]
           ],
           "sequentialminus": [
            [
             0,
             "#0d0887"
            ],
            [
             0.1111111111111111,
             "#46039f"
            ],
            [
             0.2222222222222222,
             "#7201a8"
            ],
            [
             0.3333333333333333,
             "#9c179e"
            ],
            [
             0.4444444444444444,
             "#bd3786"
            ],
            [
             0.5555555555555556,
             "#d8576b"
            ],
            [
             0.6666666666666666,
             "#ed7953"
            ],
            [
             0.7777777777777778,
             "#fb9f3a"
            ],
            [
             0.8888888888888888,
             "#fdca26"
            ],
            [
             1,
             "#f0f921"
            ]
           ]
          },
          "colorway": [
           "#636efa",
           "#EF553B",
           "#00cc96",
           "#ab63fa",
           "#FFA15A",
           "#19d3f3",
           "#FF6692",
           "#B6E880",
           "#FF97FF",
           "#FECB52"
          ],
          "font": {
           "color": "#2a3f5f"
          },
          "geo": {
           "bgcolor": "white",
           "lakecolor": "white",
           "landcolor": "#E5ECF6",
           "showlakes": true,
           "showland": true,
           "subunitcolor": "white"
          },
          "hoverlabel": {
           "align": "left"
          },
          "hovermode": "closest",
          "mapbox": {
           "style": "light"
          },
          "paper_bgcolor": "white",
          "plot_bgcolor": "#E5ECF6",
          "polar": {
           "angularaxis": {
            "gridcolor": "white",
            "linecolor": "white",
            "ticks": ""
           },
           "bgcolor": "#E5ECF6",
           "radialaxis": {
            "gridcolor": "white",
            "linecolor": "white",
            "ticks": ""
           }
          },
          "scene": {
           "xaxis": {
            "backgroundcolor": "#E5ECF6",
            "gridcolor": "white",
            "gridwidth": 2,
            "linecolor": "white",
            "showbackground": true,
            "ticks": "",
            "zerolinecolor": "white"
           },
           "yaxis": {
            "backgroundcolor": "#E5ECF6",
            "gridcolor": "white",
            "gridwidth": 2,
            "linecolor": "white",
            "showbackground": true,
            "ticks": "",
            "zerolinecolor": "white"
           },
           "zaxis": {
            "backgroundcolor": "#E5ECF6",
            "gridcolor": "white",
            "gridwidth": 2,
            "linecolor": "white",
            "showbackground": true,
            "ticks": "",
            "zerolinecolor": "white"
           }
          },
          "shapedefaults": {
           "line": {
            "color": "#2a3f5f"
           }
          },
          "ternary": {
           "aaxis": {
            "gridcolor": "white",
            "linecolor": "white",
            "ticks": ""
           },
           "baxis": {
            "gridcolor": "white",
            "linecolor": "white",
            "ticks": ""
           },
           "bgcolor": "#E5ECF6",
           "caxis": {
            "gridcolor": "white",
            "linecolor": "white",
            "ticks": ""
           }
          },
          "title": {
           "x": 0.05
          },
          "xaxis": {
           "automargin": true,
           "gridcolor": "white",
           "linecolor": "white",
           "ticks": "",
           "title": {
            "standoff": 15
           },
           "zerolinecolor": "white",
           "zerolinewidth": 2
          },
          "yaxis": {
           "automargin": true,
           "gridcolor": "white",
           "linecolor": "white",
           "ticks": "",
           "title": {
            "standoff": 15
           },
           "zerolinecolor": "white",
           "zerolinewidth": 2
          }
         }
        },
        "title": {
         "text": "Number of Likes and Comments for Each Post"
        },
        "xaxis": {
         "title": {
          "text": "Shortcode"
         }
        },
        "yaxis": {
         "title": {
          "text": "Count"
         }
        }
       }
      }
     },
     "metadata": {},
     "output_type": "display_data"
    }
   ],
   "source": [
    "fig = go.Figure()\n",
    "\n",
    "fig.add_trace(go.Bar(\n",
    "    x=df['shortcode'],\n",
    "    y=df['num_likes'],\n",
    "    name='Likes',\n",
    "    marker_color='blue'\n",
    "))\n",
    "\n",
    "fig.add_trace(go.Bar(\n",
    "    x=df['shortcode'],\n",
    "    y=df['num_comments'],\n",
    "    name='Comments',\n",
    "    marker_color='red'\n",
    "))\n",
    "\n",
    "fig.update_layout(\n",
    "    title='Number of Likes and Comments for Each Post',\n",
    "    xaxis_title='Shortcode',\n",
    "    yaxis_title='Count',\n",
    "    barmode='group'\n",
    ")\n",
    "\n",
    "fig.show()"
   ]
  },
  {
   "cell_type": "code",
   "execution_count": 4,
   "metadata": {},
   "outputs": [
    {
     "data": {
      "text/html": [
       "<div>\n",
       "<style scoped>\n",
       "    .dataframe tbody tr th:only-of-type {\n",
       "        vertical-align: middle;\n",
       "    }\n",
       "\n",
       "    .dataframe tbody tr th {\n",
       "        vertical-align: top;\n",
       "    }\n",
       "\n",
       "    .dataframe thead th {\n",
       "        text-align: right;\n",
       "    }\n",
       "</style>\n",
       "<table border=\"1\" class=\"dataframe\">\n",
       "  <thead>\n",
       "    <tr style=\"text-align: right;\">\n",
       "      <th></th>\n",
       "      <th>shortcode</th>\n",
       "      <th>caption</th>\n",
       "      <th>upload_time</th>\n",
       "      <th>num_likes</th>\n",
       "      <th>num_comments</th>\n",
       "      <th>is_video</th>\n",
       "      <th>video_views</th>\n",
       "      <th>url</th>\n",
       "    </tr>\n",
       "  </thead>\n",
       "  <tbody>\n",
       "    <tr>\n",
       "      <th>27</th>\n",
       "      <td>CppyqFOJBST</td>\n",
       "      <td>remember at the end of the day: aaaall is well 🫶</td>\n",
       "      <td>2023-03-11 20:36:50+05:30</td>\n",
       "      <td>340994</td>\n",
       "      <td>1229</td>\n",
       "      <td>True</td>\n",
       "      <td>1529684.0</td>\n",
       "      <td>https://instagram.fixm4-2.fna.fbcdn.net/v/t51....</td>\n",
       "    </tr>\n",
       "    <tr>\n",
       "      <th>50</th>\n",
       "      <td>CoU1ezXp6Vl</td>\n",
       "      <td>when you like this 🥳\\nwhen you share this 🕺💃</td>\n",
       "      <td>2023-02-06 20:43:22+05:30</td>\n",
       "      <td>64208</td>\n",
       "      <td>360</td>\n",
       "      <td>False</td>\n",
       "      <td>NaN</td>\n",
       "      <td>https://instagram.fixm4-1.fna.fbcdn.net/v/t51....</td>\n",
       "    </tr>\n",
       "    <tr>\n",
       "      <th>58</th>\n",
       "      <td>CoAQ-AFS7ov</td>\n",
       "      <td>forget them, they’re hissstory 🤭</td>\n",
       "      <td>2023-01-29 20:59:31+05:30</td>\n",
       "      <td>42345</td>\n",
       "      <td>536</td>\n",
       "      <td>False</td>\n",
       "      <td>NaN</td>\n",
       "      <td>https://instagram.fixm4-1.fna.fbcdn.net/v/t51....</td>\n",
       "    </tr>\n",
       "    <tr>\n",
       "      <th>13</th>\n",
       "      <td>CqlAroZpQqL</td>\n",
       "      <td>30k likes and we reveal the next steps 🔎</td>\n",
       "      <td>2023-04-03 20:31:53+05:30</td>\n",
       "      <td>39785</td>\n",
       "      <td>1160</td>\n",
       "      <td>False</td>\n",
       "      <td>NaN</td>\n",
       "      <td>https://instagram.fixm4-3.fna.fbcdn.net/v/t51....</td>\n",
       "    </tr>\n",
       "    <tr>\n",
       "      <th>62</th>\n",
       "      <td>CnzYTO5JA3V</td>\n",
       "      <td>get us 35k likes on this post and we’ll asli m...</td>\n",
       "      <td>2023-01-24 20:53:27+05:30</td>\n",
       "      <td>35241</td>\n",
       "      <td>1320</td>\n",
       "      <td>False</td>\n",
       "      <td>NaN</td>\n",
       "      <td>https://instagram.fixm4-2.fna.fbcdn.net/v/t51....</td>\n",
       "    </tr>\n",
       "  </tbody>\n",
       "</table>\n",
       "</div>"
      ],
      "text/plain": [
       "      shortcode                                            caption  \\\n",
       "27  CppyqFOJBST   remember at the end of the day: aaaall is well 🫶   \n",
       "50  CoU1ezXp6Vl       when you like this 🥳\\nwhen you share this 🕺💃   \n",
       "58  CoAQ-AFS7ov                   forget them, they’re hissstory 🤭   \n",
       "13  CqlAroZpQqL           30k likes and we reveal the next steps 🔎   \n",
       "62  CnzYTO5JA3V  get us 35k likes on this post and we’ll asli m...   \n",
       "\n",
       "                  upload_time  num_likes  num_comments  is_video  video_views  \\\n",
       "27  2023-03-11 20:36:50+05:30     340994          1229      True    1529684.0   \n",
       "50  2023-02-06 20:43:22+05:30      64208           360     False          NaN   \n",
       "58  2023-01-29 20:59:31+05:30      42345           536     False          NaN   \n",
       "13  2023-04-03 20:31:53+05:30      39785          1160     False          NaN   \n",
       "62  2023-01-24 20:53:27+05:30      35241          1320     False          NaN   \n",
       "\n",
       "                                                  url  \n",
       "27  https://instagram.fixm4-2.fna.fbcdn.net/v/t51....  \n",
       "50  https://instagram.fixm4-1.fna.fbcdn.net/v/t51....  \n",
       "58  https://instagram.fixm4-1.fna.fbcdn.net/v/t51....  \n",
       "13  https://instagram.fixm4-3.fna.fbcdn.net/v/t51....  \n",
       "62  https://instagram.fixm4-2.fna.fbcdn.net/v/t51....  "
      ]
     },
     "execution_count": 4,
     "metadata": {},
     "output_type": "execute_result"
    }
   ],
   "source": [
    "df.sort_values(by=['num_likes'], ascending=False).head(5)"
   ]
  },
  {
   "cell_type": "code",
   "execution_count": 5,
   "metadata": {},
   "outputs": [
    {
     "data": {
      "text/html": [
       "<div>\n",
       "<style scoped>\n",
       "    .dataframe tbody tr th:only-of-type {\n",
       "        vertical-align: middle;\n",
       "    }\n",
       "\n",
       "    .dataframe tbody tr th {\n",
       "        vertical-align: top;\n",
       "    }\n",
       "\n",
       "    .dataframe thead th {\n",
       "        text-align: right;\n",
       "    }\n",
       "</style>\n",
       "<table border=\"1\" class=\"dataframe\">\n",
       "  <thead>\n",
       "    <tr style=\"text-align: right;\">\n",
       "      <th></th>\n",
       "      <th>shortcode</th>\n",
       "      <th>caption</th>\n",
       "      <th>upload_time</th>\n",
       "      <th>num_likes</th>\n",
       "      <th>num_comments</th>\n",
       "      <th>is_video</th>\n",
       "      <th>video_views</th>\n",
       "      <th>url</th>\n",
       "    </tr>\n",
       "  </thead>\n",
       "  <tbody>\n",
       "    <tr>\n",
       "      <th>146</th>\n",
       "      <td>CjIeMonJuBw</td>\n",
       "      <td>Every 20th comment wins FREE Google Play Redee...</td>\n",
       "      <td>2022-09-30 18:52:03+05:30</td>\n",
       "      <td>13685</td>\n",
       "      <td>21103</td>\n",
       "      <td>False</td>\n",
       "      <td>NaN</td>\n",
       "      <td>https://instagram.fixm4-2.fna.fbcdn.net/v/t51....</td>\n",
       "    </tr>\n",
       "    <tr>\n",
       "      <th>248</th>\n",
       "      <td>CdgGuTvpmMz</td>\n",
       "      <td>Spam the comments with a 👟 emoji and two of y’...</td>\n",
       "      <td>2022-05-13 20:01:58+05:30</td>\n",
       "      <td>3171</td>\n",
       "      <td>17966</td>\n",
       "      <td>True</td>\n",
       "      <td>20959.0</td>\n",
       "      <td>https://instagram.fixm4-3.fna.fbcdn.net/v/t51....</td>\n",
       "    </tr>\n",
       "    <tr>\n",
       "      <th>204</th>\n",
       "      <td>CfeFCYWJieZ</td>\n",
       "      <td>Free. Google. Play. Recharge. Codes.</td>\n",
       "      <td>2022-07-01 18:09:55+05:30</td>\n",
       "      <td>16572</td>\n",
       "      <td>15486</td>\n",
       "      <td>False</td>\n",
       "      <td>NaN</td>\n",
       "      <td>https://instagram.fixm4-2.fna.fbcdn.net/v/t51....</td>\n",
       "    </tr>\n",
       "    <tr>\n",
       "      <th>75</th>\n",
       "      <td>CnE9GLAKryp</td>\n",
       "      <td>drop the last 2 digits of your phone number to...</td>\n",
       "      <td>2023-01-06 20:14:04+05:30</td>\n",
       "      <td>31366</td>\n",
       "      <td>13720</td>\n",
       "      <td>True</td>\n",
       "      <td>184392.0</td>\n",
       "      <td>https://instagram.fixm4-1.fna.fbcdn.net/v/t51....</td>\n",
       "    </tr>\n",
       "    <tr>\n",
       "      <th>197</th>\n",
       "      <td>CgCSy47pA-G</td>\n",
       "      <td>Tag a friend and if they reply in 2 mins, both...</td>\n",
       "      <td>2022-07-15 19:42:48+05:30</td>\n",
       "      <td>12455</td>\n",
       "      <td>12545</td>\n",
       "      <td>False</td>\n",
       "      <td>NaN</td>\n",
       "      <td>https://instagram.fixm4-3.fna.fbcdn.net/v/t51....</td>\n",
       "    </tr>\n",
       "  </tbody>\n",
       "</table>\n",
       "</div>"
      ],
      "text/plain": [
       "       shortcode                                            caption  \\\n",
       "146  CjIeMonJuBw  Every 20th comment wins FREE Google Play Redee...   \n",
       "248  CdgGuTvpmMz  Spam the comments with a 👟 emoji and two of y’...   \n",
       "204  CfeFCYWJieZ               Free. Google. Play. Recharge. Codes.   \n",
       "75   CnE9GLAKryp  drop the last 2 digits of your phone number to...   \n",
       "197  CgCSy47pA-G  Tag a friend and if they reply in 2 mins, both...   \n",
       "\n",
       "                   upload_time  num_likes  num_comments  is_video  \\\n",
       "146  2022-09-30 18:52:03+05:30      13685         21103     False   \n",
       "248  2022-05-13 20:01:58+05:30       3171         17966      True   \n",
       "204  2022-07-01 18:09:55+05:30      16572         15486     False   \n",
       "75   2023-01-06 20:14:04+05:30      31366         13720      True   \n",
       "197  2022-07-15 19:42:48+05:30      12455         12545     False   \n",
       "\n",
       "     video_views                                                url  \n",
       "146          NaN  https://instagram.fixm4-2.fna.fbcdn.net/v/t51....  \n",
       "248      20959.0  https://instagram.fixm4-3.fna.fbcdn.net/v/t51....  \n",
       "204          NaN  https://instagram.fixm4-2.fna.fbcdn.net/v/t51....  \n",
       "75      184392.0  https://instagram.fixm4-1.fna.fbcdn.net/v/t51....  \n",
       "197          NaN  https://instagram.fixm4-3.fna.fbcdn.net/v/t51....  "
      ]
     },
     "execution_count": 5,
     "metadata": {},
     "output_type": "execute_result"
    }
   ],
   "source": [
    "df.sort_values(by=['num_comments'], ascending=False).head(5)"
   ]
  },
  {
   "cell_type": "code",
   "execution_count": 6,
   "metadata": {},
   "outputs": [
    {
     "data": {
      "application/vnd.plotly.v1+json": {
       "config": {
        "plotlyServerURL": "https://plot.ly"
       },
       "data": [
        {
         "marker": {
          "color": "blue",
          "size": 10
         },
         "mode": "markers",
         "name": "Likes vs. Comments",
         "type": "scatter",
         "x": [
          3847,
          5726,
          15523,
          31783,
          14304,
          18929,
          11592,
          11431,
          13209,
          19655,
          19359,
          11908,
          12764,
          39785,
          31532,
          30407,
          14839,
          11206,
          10835,
          15642,
          11307,
          18562,
          11036,
          18529,
          16193,
          15388,
          29442,
          340994,
          33008,
          21215,
          21790,
          13124,
          30047,
          20768,
          22812,
          27383,
          13570,
          29894,
          18901,
          16631,
          21110,
          15540,
          11947,
          18454,
          33526,
          25207,
          14274,
          23782,
          19016,
          27526,
          64208,
          15522,
          22573,
          20470,
          28371,
          18690,
          14705,
          12901,
          42345,
          17685,
          23681,
          22677,
          35241,
          13578,
          18720,
          13488,
          13783,
          27483,
          25326,
          22089,
          11199,
          21782,
          17172,
          17968,
          27860,
          31366,
          26361,
          15544,
          12726,
          30212,
          19009,
          12296,
          34636,
          9380,
          14630,
          25259,
          13807,
          18387,
          29535,
          11126,
          13035,
          21656,
          18775,
          11301,
          10580,
          16185,
          15115,
          15819,
          25102,
          16156,
          11607,
          34701,
          33029,
          9788,
          20151,
          16409,
          11503,
          14160,
          26659,
          10743,
          15662,
          13293,
          13139,
          24357,
          12088,
          17923,
          12084,
          30642,
          33334,
          27711,
          32602,
          14049,
          28365,
          29416,
          28230,
          18233,
          10613,
          26843,
          13843,
          15042,
          19922,
          19176,
          20751,
          8979,
          19218,
          12084,
          17508,
          15784,
          13834,
          9503,
          18973,
          16899,
          8844,
          12368,
          16670,
          15628,
          13685,
          9452,
          6161,
          10763,
          4037,
          6281,
          6196,
          9137,
          5057,
          8135,
          10472,
          5099,
          5185,
          4459,
          10162,
          3313,
          4666,
          5058,
          4574,
          6059,
          12595,
          7117,
          5020,
          3840,
          3740,
          4537,
          4614,
          4633,
          13136,
          4164,
          5733,
          15640,
          3883,
          10345,
          5626,
          3184,
          5711,
          4520,
          7254,
          11801,
          3314,
          2709,
          3792,
          3460,
          6118,
          7585,
          4829,
          4318,
          3140,
          5206,
          3197,
          12455,
          5249,
          3720,
          8820,
          3282,
          3301,
          6435,
          16572,
          5523,
          3307,
          3674,
          4920,
          4123,
          6942,
          3266,
          5130,
          4885,
          13039,
          3639,
          3826,
          3170,
          6670,
          3324,
          4919,
          4290,
          3845,
          8037,
          3642,
          3897,
          5376,
          4302,
          4219,
          7308,
          3618,
          4422,
          7748,
          4404,
          3517,
          6629,
          6859,
          5471,
          5901,
          4227,
          3050,
          2922,
          3322,
          5719,
          7858,
          6672,
          4135,
          3759,
          3171,
          3810,
          3528,
          2577,
          2937,
          3916,
          2451,
          3344,
          3503,
          2858,
          27896,
          4417,
          2911,
          2385,
          5186,
          2548,
          3385,
          4588,
          3022,
          2979,
          3475,
          2577,
          4052,
          3898,
          4835,
          1876,
          4325,
          2639,
          3480,
          2305,
          4928,
          2917,
          2322,
          3443,
          4125,
          2245,
          3122,
          3391,
          1827,
          3431,
          3984,
          3239,
          3587,
          2250,
          2798,
          2429,
          2008,
          2466,
          4525,
          4576,
          3275,
          2782,
          2910,
          4418,
          3184,
          5564,
          1911,
          2442,
          3083,
          3905,
          2157,
          6335,
          4583,
          3594,
          5257,
          4919,
          2459,
          2768,
          2520,
          6651,
          3188,
          3301,
          2702,
          4213,
          4397,
          1836,
          2630,
          1684,
          1647,
          3579,
          2674,
          1735,
          1491,
          3170,
          1494,
          1683,
          1865,
          3133,
          1646,
          1819,
          1697,
          3074,
          1796,
          1744,
          2678,
          2626,
          3442,
          2787,
          1585,
          2102,
          1252,
          1440,
          3400,
          3242,
          1662,
          1983,
          2235,
          2032,
          2050,
          4534,
          1955,
          2969,
          2259,
          2512,
          3187,
          1930,
          2173,
          1555,
          1867,
          1661,
          3305,
          2905,
          2117,
          2067,
          2515,
          1547,
          3188,
          1504,
          3897,
          2190,
          3486,
          3160,
          1156,
          2273,
          1991,
          2294,
          3127,
          2426,
          1502,
          2562,
          2745,
          1807,
          6900,
          1264,
          3938,
          3107,
          3283,
          2878,
          1796,
          3600,
          2525,
          1645,
          3279,
          3146,
          2215,
          2510,
          2122,
          4485,
          2237,
          2482,
          2593,
          3304,
          1109,
          4044,
          1178,
          8168,
          5612,
          2868,
          2020,
          3137,
          2032,
          2721,
          3523,
          2142,
          2888,
          2423,
          6182,
          3868,
          4566,
          2716,
          1858,
          4206,
          3309,
          4151,
          6206,
          2654,
          3439,
          4758,
          2517,
          2373,
          2994,
          3403,
          2857,
          2464,
          3670,
          2260,
          2728,
          2679,
          1470,
          1708,
          2033,
          1660,
          2949,
          2408,
          2526,
          2020,
          1912,
          2743,
          2166,
          3169,
          2970,
          3374,
          2880,
          2081,
          3163,
          1512,
          1368,
          2797,
          2080,
          1393,
          1016,
          1515,
          1814,
          1897,
          1621,
          2172,
          1150,
          1700,
          1497,
          2212,
          6461,
          2577,
          1601,
          1872,
          1276,
          1431,
          1827,
          1977,
          1604,
          1432,
          1823,
          3619,
          2596,
          3403,
          1222,
          3189,
          3066,
          2065,
          3016,
          4061,
          1390,
          1610,
          3043,
          2674,
          1877,
          3109,
          1548,
          2400,
          2157,
          1549,
          1877,
          1734,
          1715,
          3103,
          2956,
          1782,
          2713,
          1345,
          2331,
          1871,
          1579,
          1683,
          1261,
          1593,
          5098,
          2095,
          1141,
          658,
          1000,
          673,
          858,
          648,
          780,
          800,
          651,
          996,
          1039,
          646,
          749,
          465,
          582,
          540,
          512,
          382,
          399,
          467,
          504,
          359,
          373,
          372,
          72,
          74,
          84,
          352,
          438,
          80,
          107,
          355,
          302,
          352,
          336,
          365,
          300,
          511,
          430,
          293,
          280,
          354,
          266,
          270,
          278,
          280,
          319,
          290,
          392,
          278,
          287,
          296,
          404,
          284,
          293,
          288,
          317,
          282,
          344,
          314,
          426,
          383,
          260,
          336,
          351,
          355,
          663,
          312,
          251,
          282,
          234,
          239,
          242,
          234,
          266,
          261,
          252,
          245,
          342,
          345,
          291,
          310,
          319,
          276,
          242,
          276,
          252,
          279,
          266,
          289,
          388,
          358,
          411,
          249,
          244,
          236,
          240,
          262,
          272,
          402,
          279,
          343,
          262,
          279,
          277,
          270,
          294,
          313,
          274,
          301,
          297,
          295,
          310,
          363
         ],
         "y": [
          56,
          116,
          734,
          404,
          93,
          391,
          9474,
          186,
          201,
          426,
          395,
          316,
          243,
          1160,
          402,
          10606,
          577,
          1343,
          182,
          639,
          179,
          218,
          145,
          327,
          268,
          326,
          337,
          1229,
          537,
          427,
          563,
          996,
          2472,
          1145,
          1402,
          397,
          1707,
          405,
          283,
          161,
          6989,
          179,
          253,
          299,
          344,
          469,
          168,
          255,
          337,
          370,
          360,
          172,
          297,
          5766,
          3116,
          320,
          191,
          214,
          536,
          562,
          1512,
          187,
          1320,
          138,
          3718,
          2671,
          202,
          160,
          605,
          104,
          2308,
          128,
          306,
          167,
          453,
          13720,
          306,
          2840,
          282,
          225,
          111,
          138,
          6928,
          86,
          377,
          200,
          160,
          3818,
          2129,
          157,
          87,
          158,
          1557,
          108,
          58,
          1090,
          2496,
          1275,
          3344,
          218,
          142,
          258,
          7375,
          83,
          78,
          93,
          86,
          746,
          165,
          74,
          2580,
          403,
          131,
          521,
          92,
          347,
          103,
          1897,
          7034,
          2672,
          313,
          549,
          257,
          5406,
          2777,
          229,
          647,
          11135,
          3988,
          1783,
          228,
          681,
          324,
          142,
          5655,
          394,
          413,
          399,
          205,
          177,
          4520,
          328,
          1673,
          2819,
          239,
          222,
          21103,
          232,
          81,
          4616,
          407,
          78,
          64,
          138,
          1184,
          1716,
          4081,
          103,
          1384,
          62,
          117,
          87,
          96,
          34,
          204,
          106,
          11569,
          74,
          195,
          289,
          56,
          80,
          843,
          67,
          335,
          72,
          1619,
          9666,
          69,
          640,
          43,
          69,
          53,
          80,
          91,
          281,
          126,
          397,
          84,
          79,
          154,
          3329,
          451,
          1099,
          102,
          120,
          71,
          12545,
          95,
          68,
          7349,
          150,
          59,
          81,
          15486,
          92,
          497,
          109,
          121,
          181,
          456,
          515,
          141,
          101,
          4854,
          819,
          140,
          66,
          304,
          67,
          2578,
          696,
          398,
          159,
          154,
          69,
          2088,
          145,
          581,
          758,
          1133,
          6403,
          232,
          1470,
          48,
          147,
          211,
          124,
          137,
          198,
          103,
          100,
          691,
          126,
          1224,
          4557,
          2416,
          827,
          17966,
          102,
          65,
          329,
          87,
          2025,
          62,
          44,
          54,
          109,
          99,
          365,
          546,
          467,
          104,
          25,
          40,
          63,
          38,
          29,
          5035,
          53,
          138,
          62,
          37,
          40,
          79,
          2223,
          118,
          79,
          82,
          76,
          29,
          61,
          747,
          39,
          183,
          20,
          33,
          2467,
          45,
          26,
          35,
          25,
          45,
          285,
          33,
          61,
          52,
          114,
          51,
          141,
          194,
          222,
          65,
          1039,
          79,
          95,
          518,
          121,
          58,
          152,
          61,
          64,
          66,
          413,
          91,
          900,
          843,
          117,
          203,
          2397,
          123,
          155,
          2568,
          104,
          385,
          36,
          33,
          3790,
          40,
          29,
          17,
          117,
          29,
          54,
          42,
          2620,
          2284,
          255,
          45,
          49,
          3837,
          43,
          262,
          75,
          904,
          11491,
          392,
          28,
          38,
          59,
          1109,
          1944,
          76,
          61,
          1191,
          65,
          22,
          142,
          154,
          63,
          86,
          1185,
          47,
          286,
          88,
          63,
          3649,
          164,
          62,
          162,
          89,
          68,
          75,
          77,
          962,
          63,
          987,
          34,
          386,
          121,
          36,
          82,
          959,
          501,
          46,
          194,
          40,
          139,
          270,
          75,
          2953,
          27,
          256,
          88,
          27,
          47,
          53,
          354,
          94,
          69,
          37,
          60,
          48,
          509,
          30,
          243,
          156,
          56,
          126,
          539,
          53,
          45,
          20,
          188,
          1226,
          53,
          34,
          179,
          43,
          284,
          124,
          86,
          66,
          224,
          6866,
          152,
          221,
          125,
          90,
          133,
          208,
          242,
          137,
          174,
          236,
          322,
          86,
          288,
          255,
          334,
          324,
          156,
          459,
          131,
          151,
          110,
          70,
          99,
          111,
          53,
          59,
          67,
          496,
          89,
          161,
          132,
          133,
          196,
          145,
          591,
          215,
          80,
          143,
          47,
          42,
          259,
          585,
          255,
          61,
          146,
          361,
          36,
          37,
          113,
          53,
          73,
          82,
          135,
          691,
          247,
          63,
          77,
          29,
          7,
          40,
          52,
          18,
          49,
          53,
          93,
          86,
          75,
          20,
          86,
          63,
          44,
          138,
          399,
          58,
          50,
          119,
          101,
          50,
          122,
          57,
          95,
          69,
          157,
          73,
          69,
          48,
          182,
          119,
          110,
          401,
          43,
          57,
          111,
          37,
          274,
          25,
          24,
          83,
          59,
          15,
          14,
          60,
          11,
          14,
          12,
          26,
          23,
          24,
          49,
          164,
          7,
          13,
          6,
          20,
          7,
          4,
          3,
          3,
          1,
          5,
          1,
          3,
          2,
          0,
          0,
          0,
          0,
          2,
          0,
          0,
          3,
          1,
          0,
          2,
          1,
          0,
          4,
          2,
          0,
          8,
          7,
          0,
          0,
          1,
          0,
          0,
          0,
          4,
          0,
          1,
          1,
          8,
          1,
          3,
          0,
          0,
          0,
          1,
          0,
          2,
          1,
          0,
          3,
          0,
          0,
          0,
          0,
          1,
          0,
          0,
          0,
          0,
          0,
          1,
          9,
          6,
          15,
          4,
          1,
          3,
          1,
          0,
          0,
          0,
          3,
          0,
          0,
          0,
          0,
          2,
          51,
          9,
          0,
          0,
          0,
          0,
          0,
          0,
          2,
          0,
          1,
          0,
          0,
          0,
          2,
          0,
          0,
          0,
          0,
          0,
          0,
          4,
          0
         ]
        }
       ],
       "layout": {
        "template": {
         "data": {
          "bar": [
           {
            "error_x": {
             "color": "#2a3f5f"
            },
            "error_y": {
             "color": "#2a3f5f"
            },
            "marker": {
             "line": {
              "color": "#E5ECF6",
              "width": 0.5
             },
             "pattern": {
              "fillmode": "overlay",
              "size": 10,
              "solidity": 0.2
             }
            },
            "type": "bar"
           }
          ],
          "barpolar": [
           {
            "marker": {
             "line": {
              "color": "#E5ECF6",
              "width": 0.5
             },
             "pattern": {
              "fillmode": "overlay",
              "size": 10,
              "solidity": 0.2
             }
            },
            "type": "barpolar"
           }
          ],
          "carpet": [
           {
            "aaxis": {
             "endlinecolor": "#2a3f5f",
             "gridcolor": "white",
             "linecolor": "white",
             "minorgridcolor": "white",
             "startlinecolor": "#2a3f5f"
            },
            "baxis": {
             "endlinecolor": "#2a3f5f",
             "gridcolor": "white",
             "linecolor": "white",
             "minorgridcolor": "white",
             "startlinecolor": "#2a3f5f"
            },
            "type": "carpet"
           }
          ],
          "choropleth": [
           {
            "colorbar": {
             "outlinewidth": 0,
             "ticks": ""
            },
            "type": "choropleth"
           }
          ],
          "contour": [
           {
            "colorbar": {
             "outlinewidth": 0,
             "ticks": ""
            },
            "colorscale": [
             [
              0,
              "#0d0887"
             ],
             [
              0.1111111111111111,
              "#46039f"
             ],
             [
              0.2222222222222222,
              "#7201a8"
             ],
             [
              0.3333333333333333,
              "#9c179e"
             ],
             [
              0.4444444444444444,
              "#bd3786"
             ],
             [
              0.5555555555555556,
              "#d8576b"
             ],
             [
              0.6666666666666666,
              "#ed7953"
             ],
             [
              0.7777777777777778,
              "#fb9f3a"
             ],
             [
              0.8888888888888888,
              "#fdca26"
             ],
             [
              1,
              "#f0f921"
             ]
            ],
            "type": "contour"
           }
          ],
          "contourcarpet": [
           {
            "colorbar": {
             "outlinewidth": 0,
             "ticks": ""
            },
            "type": "contourcarpet"
           }
          ],
          "heatmap": [
           {
            "colorbar": {
             "outlinewidth": 0,
             "ticks": ""
            },
            "colorscale": [
             [
              0,
              "#0d0887"
             ],
             [
              0.1111111111111111,
              "#46039f"
             ],
             [
              0.2222222222222222,
              "#7201a8"
             ],
             [
              0.3333333333333333,
              "#9c179e"
             ],
             [
              0.4444444444444444,
              "#bd3786"
             ],
             [
              0.5555555555555556,
              "#d8576b"
             ],
             [
              0.6666666666666666,
              "#ed7953"
             ],
             [
              0.7777777777777778,
              "#fb9f3a"
             ],
             [
              0.8888888888888888,
              "#fdca26"
             ],
             [
              1,
              "#f0f921"
             ]
            ],
            "type": "heatmap"
           }
          ],
          "heatmapgl": [
           {
            "colorbar": {
             "outlinewidth": 0,
             "ticks": ""
            },
            "colorscale": [
             [
              0,
              "#0d0887"
             ],
             [
              0.1111111111111111,
              "#46039f"
             ],
             [
              0.2222222222222222,
              "#7201a8"
             ],
             [
              0.3333333333333333,
              "#9c179e"
             ],
             [
              0.4444444444444444,
              "#bd3786"
             ],
             [
              0.5555555555555556,
              "#d8576b"
             ],
             [
              0.6666666666666666,
              "#ed7953"
             ],
             [
              0.7777777777777778,
              "#fb9f3a"
             ],
             [
              0.8888888888888888,
              "#fdca26"
             ],
             [
              1,
              "#f0f921"
             ]
            ],
            "type": "heatmapgl"
           }
          ],
          "histogram": [
           {
            "marker": {
             "pattern": {
              "fillmode": "overlay",
              "size": 10,
              "solidity": 0.2
             }
            },
            "type": "histogram"
           }
          ],
          "histogram2d": [
           {
            "colorbar": {
             "outlinewidth": 0,
             "ticks": ""
            },
            "colorscale": [
             [
              0,
              "#0d0887"
             ],
             [
              0.1111111111111111,
              "#46039f"
             ],
             [
              0.2222222222222222,
              "#7201a8"
             ],
             [
              0.3333333333333333,
              "#9c179e"
             ],
             [
              0.4444444444444444,
              "#bd3786"
             ],
             [
              0.5555555555555556,
              "#d8576b"
             ],
             [
              0.6666666666666666,
              "#ed7953"
             ],
             [
              0.7777777777777778,
              "#fb9f3a"
             ],
             [
              0.8888888888888888,
              "#fdca26"
             ],
             [
              1,
              "#f0f921"
             ]
            ],
            "type": "histogram2d"
           }
          ],
          "histogram2dcontour": [
           {
            "colorbar": {
             "outlinewidth": 0,
             "ticks": ""
            },
            "colorscale": [
             [
              0,
              "#0d0887"
             ],
             [
              0.1111111111111111,
              "#46039f"
             ],
             [
              0.2222222222222222,
              "#7201a8"
             ],
             [
              0.3333333333333333,
              "#9c179e"
             ],
             [
              0.4444444444444444,
              "#bd3786"
             ],
             [
              0.5555555555555556,
              "#d8576b"
             ],
             [
              0.6666666666666666,
              "#ed7953"
             ],
             [
              0.7777777777777778,
              "#fb9f3a"
             ],
             [
              0.8888888888888888,
              "#fdca26"
             ],
             [
              1,
              "#f0f921"
             ]
            ],
            "type": "histogram2dcontour"
           }
          ],
          "mesh3d": [
           {
            "colorbar": {
             "outlinewidth": 0,
             "ticks": ""
            },
            "type": "mesh3d"
           }
          ],
          "parcoords": [
           {
            "line": {
             "colorbar": {
              "outlinewidth": 0,
              "ticks": ""
             }
            },
            "type": "parcoords"
           }
          ],
          "pie": [
           {
            "automargin": true,
            "type": "pie"
           }
          ],
          "scatter": [
           {
            "fillpattern": {
             "fillmode": "overlay",
             "size": 10,
             "solidity": 0.2
            },
            "type": "scatter"
           }
          ],
          "scatter3d": [
           {
            "line": {
             "colorbar": {
              "outlinewidth": 0,
              "ticks": ""
             }
            },
            "marker": {
             "colorbar": {
              "outlinewidth": 0,
              "ticks": ""
             }
            },
            "type": "scatter3d"
           }
          ],
          "scattercarpet": [
           {
            "marker": {
             "colorbar": {
              "outlinewidth": 0,
              "ticks": ""
             }
            },
            "type": "scattercarpet"
           }
          ],
          "scattergeo": [
           {
            "marker": {
             "colorbar": {
              "outlinewidth": 0,
              "ticks": ""
             }
            },
            "type": "scattergeo"
           }
          ],
          "scattergl": [
           {
            "marker": {
             "colorbar": {
              "outlinewidth": 0,
              "ticks": ""
             }
            },
            "type": "scattergl"
           }
          ],
          "scattermapbox": [
           {
            "marker": {
             "colorbar": {
              "outlinewidth": 0,
              "ticks": ""
             }
            },
            "type": "scattermapbox"
           }
          ],
          "scatterpolar": [
           {
            "marker": {
             "colorbar": {
              "outlinewidth": 0,
              "ticks": ""
             }
            },
            "type": "scatterpolar"
           }
          ],
          "scatterpolargl": [
           {
            "marker": {
             "colorbar": {
              "outlinewidth": 0,
              "ticks": ""
             }
            },
            "type": "scatterpolargl"
           }
          ],
          "scatterternary": [
           {
            "marker": {
             "colorbar": {
              "outlinewidth": 0,
              "ticks": ""
             }
            },
            "type": "scatterternary"
           }
          ],
          "surface": [
           {
            "colorbar": {
             "outlinewidth": 0,
             "ticks": ""
            },
            "colorscale": [
             [
              0,
              "#0d0887"
             ],
             [
              0.1111111111111111,
              "#46039f"
             ],
             [
              0.2222222222222222,
              "#7201a8"
             ],
             [
              0.3333333333333333,
              "#9c179e"
             ],
             [
              0.4444444444444444,
              "#bd3786"
             ],
             [
              0.5555555555555556,
              "#d8576b"
             ],
             [
              0.6666666666666666,
              "#ed7953"
             ],
             [
              0.7777777777777778,
              "#fb9f3a"
             ],
             [
              0.8888888888888888,
              "#fdca26"
             ],
             [
              1,
              "#f0f921"
             ]
            ],
            "type": "surface"
           }
          ],
          "table": [
           {
            "cells": {
             "fill": {
              "color": "#EBF0F8"
             },
             "line": {
              "color": "white"
             }
            },
            "header": {
             "fill": {
              "color": "#C8D4E3"
             },
             "line": {
              "color": "white"
             }
            },
            "type": "table"
           }
          ]
         },
         "layout": {
          "annotationdefaults": {
           "arrowcolor": "#2a3f5f",
           "arrowhead": 0,
           "arrowwidth": 1
          },
          "autotypenumbers": "strict",
          "coloraxis": {
           "colorbar": {
            "outlinewidth": 0,
            "ticks": ""
           }
          },
          "colorscale": {
           "diverging": [
            [
             0,
             "#8e0152"
            ],
            [
             0.1,
             "#c51b7d"
            ],
            [
             0.2,
             "#de77ae"
            ],
            [
             0.3,
             "#f1b6da"
            ],
            [
             0.4,
             "#fde0ef"
            ],
            [
             0.5,
             "#f7f7f7"
            ],
            [
             0.6,
             "#e6f5d0"
            ],
            [
             0.7,
             "#b8e186"
            ],
            [
             0.8,
             "#7fbc41"
            ],
            [
             0.9,
             "#4d9221"
            ],
            [
             1,
             "#276419"
            ]
           ],
           "sequential": [
            [
             0,
             "#0d0887"
            ],
            [
             0.1111111111111111,
             "#46039f"
            ],
            [
             0.2222222222222222,
             "#7201a8"
            ],
            [
             0.3333333333333333,
             "#9c179e"
            ],
            [
             0.4444444444444444,
             "#bd3786"
            ],
            [
             0.5555555555555556,
             "#d8576b"
            ],
            [
             0.6666666666666666,
             "#ed7953"
            ],
            [
             0.7777777777777778,
             "#fb9f3a"
            ],
            [
             0.8888888888888888,
             "#fdca26"
            ],
            [
             1,
             "#f0f921"
            ]
           ],
           "sequentialminus": [
            [
             0,
             "#0d0887"
            ],
            [
             0.1111111111111111,
             "#46039f"
            ],
            [
             0.2222222222222222,
             "#7201a8"
            ],
            [
             0.3333333333333333,
             "#9c179e"
            ],
            [
             0.4444444444444444,
             "#bd3786"
            ],
            [
             0.5555555555555556,
             "#d8576b"
            ],
            [
             0.6666666666666666,
             "#ed7953"
            ],
            [
             0.7777777777777778,
             "#fb9f3a"
            ],
            [
             0.8888888888888888,
             "#fdca26"
            ],
            [
             1,
             "#f0f921"
            ]
           ]
          },
          "colorway": [
           "#636efa",
           "#EF553B",
           "#00cc96",
           "#ab63fa",
           "#FFA15A",
           "#19d3f3",
           "#FF6692",
           "#B6E880",
           "#FF97FF",
           "#FECB52"
          ],
          "font": {
           "color": "#2a3f5f"
          },
          "geo": {
           "bgcolor": "white",
           "lakecolor": "white",
           "landcolor": "#E5ECF6",
           "showlakes": true,
           "showland": true,
           "subunitcolor": "white"
          },
          "hoverlabel": {
           "align": "left"
          },
          "hovermode": "closest",
          "mapbox": {
           "style": "light"
          },
          "paper_bgcolor": "white",
          "plot_bgcolor": "#E5ECF6",
          "polar": {
           "angularaxis": {
            "gridcolor": "white",
            "linecolor": "white",
            "ticks": ""
           },
           "bgcolor": "#E5ECF6",
           "radialaxis": {
            "gridcolor": "white",
            "linecolor": "white",
            "ticks": ""
           }
          },
          "scene": {
           "xaxis": {
            "backgroundcolor": "#E5ECF6",
            "gridcolor": "white",
            "gridwidth": 2,
            "linecolor": "white",
            "showbackground": true,
            "ticks": "",
            "zerolinecolor": "white"
           },
           "yaxis": {
            "backgroundcolor": "#E5ECF6",
            "gridcolor": "white",
            "gridwidth": 2,
            "linecolor": "white",
            "showbackground": true,
            "ticks": "",
            "zerolinecolor": "white"
           },
           "zaxis": {
            "backgroundcolor": "#E5ECF6",
            "gridcolor": "white",
            "gridwidth": 2,
            "linecolor": "white",
            "showbackground": true,
            "ticks": "",
            "zerolinecolor": "white"
           }
          },
          "shapedefaults": {
           "line": {
            "color": "#2a3f5f"
           }
          },
          "ternary": {
           "aaxis": {
            "gridcolor": "white",
            "linecolor": "white",
            "ticks": ""
           },
           "baxis": {
            "gridcolor": "white",
            "linecolor": "white",
            "ticks": ""
           },
           "bgcolor": "#E5ECF6",
           "caxis": {
            "gridcolor": "white",
            "linecolor": "white",
            "ticks": ""
           }
          },
          "title": {
           "x": 0.05
          },
          "xaxis": {
           "automargin": true,
           "gridcolor": "white",
           "linecolor": "white",
           "ticks": "",
           "title": {
            "standoff": 15
           },
           "zerolinecolor": "white",
           "zerolinewidth": 2
          },
          "yaxis": {
           "automargin": true,
           "gridcolor": "white",
           "linecolor": "white",
           "ticks": "",
           "title": {
            "standoff": 15
           },
           "zerolinecolor": "white",
           "zerolinewidth": 2
          }
         }
        },
        "title": {
         "text": "Likes vs. Comments for Each Post"
        },
        "xaxis": {
         "title": {
          "text": "Number of Likes"
         }
        },
        "yaxis": {
         "title": {
          "text": "Number of Comments"
         }
        }
       }
      }
     },
     "metadata": {},
     "output_type": "display_data"
    }
   ],
   "source": [
    "fig = go.Figure()\n",
    "\n",
    "fig.add_trace(go.Scatter(\n",
    "    x=df['num_likes'],\n",
    "    y=df['num_comments'],\n",
    "    mode='markers',\n",
    "    marker=dict(\n",
    "        color='blue',\n",
    "        size=10\n",
    "    ),\n",
    "    name='Likes vs. Comments'\n",
    "))\n",
    "\n",
    "fig.update_layout(\n",
    "    title='Likes vs. Comments for Each Post',\n",
    "    xaxis_title='Number of Likes',\n",
    "    yaxis_title='Number of Comments'\n",
    ")\n",
    "\n",
    "fig.show()"
   ]
  },
  {
   "cell_type": "code",
   "execution_count": 7,
   "metadata": {},
   "outputs": [
    {
     "data": {
      "application/vnd.plotly.v1+json": {
       "config": {
        "plotlyServerURL": "https://plot.ly"
       },
       "data": [
        {
         "mode": "lines",
         "name": "Likes",
         "type": "scatter",
         "x": [
          "2023-04-23 12:22:51+05:30",
          "2023-04-22 19:46:54+05:30",
          "2023-04-21 21:32:24+05:30",
          "2023-04-20 21:14:23+05:30",
          "2023-04-19 20:22:41+05:30",
          "2023-04-17 19:57:35+05:30",
          "2023-04-15 21:37:21+05:30",
          "2023-04-13 20:31:31+05:30",
          "2023-04-12 20:34:54+05:30",
          "2023-04-09 20:45:48+05:30",
          "2023-04-06 19:46:04+05:30",
          "2023-04-05 18:58:15+05:30",
          "2023-04-04 19:01:14+05:30",
          "2023-04-03 20:31:53+05:30",
          "2023-04-02 19:13:32+05:30",
          "2023-03-31 18:39:51+05:30",
          "2023-03-30 21:23:59+05:30",
          "2023-03-29 19:12:46+05:30",
          "2023-03-27 19:53:19+05:30",
          "2023-03-25 19:53:12+05:30",
          "2023-03-23 20:28:07+05:30",
          "2023-03-21 19:51:40+05:30",
          "2023-03-20 19:01:58+05:30",
          "2023-03-18 20:29:46+05:30",
          "2023-03-16 21:01:33+05:30",
          "2023-03-14 20:38:46+05:30",
          "2023-03-13 21:31:03+05:30",
          "2023-03-11 20:36:50+05:30",
          "2023-03-09 20:55:21+05:30",
          "2023-03-04 19:24:14+05:30",
          "2023-03-03 20:10:24+05:30",
          "2023-02-28 20:46:53+05:30",
          "2023-02-25 20:19:58+05:30",
          "2023-02-24 21:46:32+05:30",
          "2023-02-23 23:25:23+05:30",
          "2023-02-22 19:38:53+05:30",
          "2023-02-21 18:37:24+05:30",
          "2023-02-20 19:52:37+05:30",
          "2023-02-19 20:27:07+05:30",
          "2023-02-18 21:42:36+05:30",
          "2023-02-17 20:24:38+05:30",
          "2023-02-16 21:01:40+05:30",
          "2023-02-15 19:47:51+05:30",
          "2023-02-14 18:41:28+05:30",
          "2023-02-13 20:13:39+05:30",
          "2023-02-12 18:17:24+05:30",
          "2023-02-11 20:36:52+05:30",
          "2023-02-09 18:36:09+05:30",
          "2023-02-08 20:50:05+05:30",
          "2023-02-07 20:28:56+05:30",
          "2023-02-06 20:43:22+05:30",
          "2023-02-05 20:54:56+05:30",
          "2023-02-04 21:31:24+05:30",
          "2023-02-03 21:11:18+05:30",
          "2023-02-02 20:14:56+05:30",
          "2023-02-01 20:37:55+05:30",
          "2023-01-31 20:24:03+05:30",
          "2023-01-30 20:41:17+05:30",
          "2023-01-29 20:59:31+05:30",
          "2023-01-28 20:51:36+05:30",
          "2023-01-27 20:12:42+05:30",
          "2023-01-26 21:31:40+05:30",
          "2023-01-24 20:53:27+05:30",
          "2023-01-22 19:44:45+05:30",
          "2023-01-20 20:01:44+05:30",
          "2023-01-19 20:31:42+05:30",
          "2023-01-18 19:24:40+05:30",
          "2023-01-17 20:29:18+05:30",
          "2023-01-16 20:24:09+05:30",
          "2023-01-14 20:32:14+05:30",
          "2023-01-13 19:49:24+05:30",
          "2023-01-13 09:36:39+05:30",
          "2023-01-12 20:47:50+05:30",
          "2023-01-11 19:27:43+05:30",
          "2023-01-10 20:08:49+05:30",
          "2023-01-06 20:14:04+05:30",
          "2023-01-05 18:24:43+05:30",
          "2023-01-04 21:39:28+05:30",
          "2023-01-03 19:19:51+05:30",
          "2023-01-01 20:04:50+05:30",
          "2023-01-01 14:16:15+05:30",
          "2022-12-31 11:37:55+05:30",
          "2022-12-30 20:19:54+05:30",
          "2022-12-29 17:35:27+05:30",
          "2022-12-27 19:41:45+05:30",
          "2022-12-26 20:01:13+05:30",
          "2022-12-25 19:47:55+05:30",
          "2022-12-24 19:07:06+05:30",
          "2022-12-24 12:54:49+05:30",
          "2022-12-23 18:33:48+05:30",
          "2022-12-21 17:49:07+05:30",
          "2022-12-19 16:53:39+05:30",
          "2022-12-18 11:12:30+05:30",
          "2022-12-16 19:02:51+05:30",
          "2022-12-15 20:54:06+05:30",
          "2022-12-14 19:49:26+05:30",
          "2022-12-12 19:05:31+05:30",
          "2022-12-11 20:33:34+05:30",
          "2022-12-10 19:11:10+05:30",
          "2022-12-09 18:58:08+05:30",
          "2022-12-08 19:42:28+05:30",
          "2022-12-04 20:08:25+05:30",
          "2022-12-02 20:49:37+05:30",
          "2022-12-01 18:59:04+05:30",
          "2022-11-30 20:31:37+05:30",
          "2022-11-28 19:39:55+05:30",
          "2022-11-27 20:49:42+05:30",
          "2022-11-25 22:30:08+05:30",
          "2022-11-24 20:24:03+05:30",
          "2022-11-21 19:59:33+05:30",
          "2022-11-20 20:28:38+05:30",
          "2022-11-19 13:37:21+05:30",
          "2022-11-17 20:30:56+05:30",
          "2022-11-15 19:54:34+05:30",
          "2022-11-14 11:26:56+05:30",
          "2022-11-13 10:35:45+05:30",
          "2022-11-11 20:57:45+05:30",
          "2022-11-10 19:31:02+05:30",
          "2022-11-09 19:03:22+05:30",
          "2022-11-09 14:37:40+05:30",
          "2022-11-08 18:48:47+05:30",
          "2022-11-07 22:33:45+05:30",
          "2022-11-06 21:11:19+05:30",
          "2022-11-05 16:25:03+05:30",
          "2022-11-04 20:15:21+05:30",
          "2022-11-03 19:17:25+05:30",
          "2022-11-02 18:29:24+05:30",
          "2022-11-01 21:26:02+05:30",
          "2022-10-29 19:36:29+05:30",
          "2022-10-28 19:13:49+05:30",
          "2022-10-27 19:42:11+05:30",
          "2022-10-26 16:56:08+05:30",
          "2022-10-24 11:03:04+05:30",
          "2022-10-21 20:41:47+05:30",
          "2022-10-20 22:35:32+05:30",
          "2022-10-19 19:30:55+05:30",
          "2022-10-18 19:19:39+05:30",
          "2022-10-14 19:51:50+05:30",
          "2022-10-13 19:39:52+05:30",
          "2022-10-10 20:31:01+05:30",
          "2022-10-07 19:25:47+05:30",
          "2022-10-06 20:06:32+05:30",
          "2022-10-05 20:12:56+05:30",
          "2022-10-04 19:56:37+05:30",
          "2022-10-03 19:41:02+05:30",
          "2022-10-02 20:37:24+05:30",
          "2022-09-30 18:52:03+05:30",
          "2022-09-29 21:52:25+05:30",
          "2022-09-27 19:19:08+05:30",
          "2022-09-21 19:28:55+05:30",
          "2022-09-20 19:05:04+05:30",
          "2022-09-19 18:05:32+05:30",
          "2022-09-18 22:08:27+05:30",
          "2022-09-16 20:59:02+05:30",
          "2022-09-15 18:55:57+05:30",
          "2022-09-14 20:14:45+05:30",
          "2022-09-13 12:45:56+05:30",
          "2022-09-11 22:28:55+05:30",
          "2022-09-10 18:42:12+05:30",
          "2022-09-08 19:15:29+05:30",
          "2022-09-07 19:03:52+05:30",
          "2022-09-06 18:56:04+05:30",
          "2022-09-05 22:56:42+05:30",
          "2022-09-05 13:10:36+05:30",
          "2022-09-04 17:20:54+05:30",
          "2022-09-03 18:54:06+05:30",
          "2022-09-01 19:08:24+05:30",
          "2022-08-31 19:12:54+05:30",
          "2022-08-30 19:45:44+05:30",
          "2022-08-29 19:38:42+05:30",
          "2022-08-28 17:54:15+05:30",
          "2022-08-26 19:46:17+05:30",
          "2022-08-23 18:56:11+05:30",
          "2022-08-22 20:17:59+05:30",
          "2022-08-21 19:20:26+05:30",
          "2022-08-18 19:23:41+05:30",
          "2022-08-17 19:27:40+05:30",
          "2022-08-16 18:55:43+05:30",
          "2022-08-15 09:16:15+05:30",
          "2022-08-12 19:13:49+05:30",
          "2022-08-11 10:14:07+05:30",
          "2022-08-10 18:58:43+05:30",
          "2022-08-09 19:11:34+05:30",
          "2022-08-08 18:51:38+05:30",
          "2022-08-06 20:30:37+05:30",
          "2022-08-04 19:44:54+05:30",
          "2022-08-03 19:39:50+05:30",
          "2022-08-02 18:36:46+05:30",
          "2022-07-31 18:43:36+05:30",
          "2022-07-29 19:07:44+05:30",
          "2022-07-28 21:13:27+05:30",
          "2022-07-27 17:57:02+05:30",
          "2022-07-25 18:03:11+05:30",
          "2022-07-22 20:29:13+05:30",
          "2022-07-21 19:36:33+05:30",
          "2022-07-20 20:10:47+05:30",
          "2022-07-19 20:16:34+05:30",
          "2022-07-15 19:42:48+05:30",
          "2022-07-14 18:02:16+05:30",
          "2022-07-11 23:58:11+05:30",
          "2022-07-09 19:49:05+05:30",
          "2022-07-08 19:41:50+05:30",
          "2022-07-06 19:46:22+05:30",
          "2022-07-03 13:05:04+05:30",
          "2022-07-01 18:09:55+05:30",
          "2022-06-30 18:49:03+05:30",
          "2022-06-27 21:07:05+05:30",
          "2022-06-26 18:39:27+05:30",
          "2022-06-25 19:56:52+05:30",
          "2022-06-24 20:42:38+05:30",
          "2022-06-22 20:34:57+05:30",
          "2022-06-22 14:58:50+05:30",
          "2022-06-19 11:44:14+05:30",
          "2022-06-18 15:28:41+05:30",
          "2022-06-17 18:10:37+05:30",
          "2022-06-16 19:48:23+05:30",
          "2022-06-15 19:09:15+05:30",
          "2022-06-15 16:43:06+05:30",
          "2022-06-14 16:18:31+05:30",
          "2022-06-13 19:44:50+05:30",
          "2022-06-10 19:13:44+05:30",
          "2022-06-09 21:34:01+05:30",
          "2022-06-09 18:33:21+05:30",
          "2022-06-07 18:45:47+05:30",
          "2022-06-06 18:23:33+05:30",
          "2022-06-05 20:41:05+05:30",
          "2022-06-03 19:58:50+05:30",
          "2022-06-02 19:47:39+05:30",
          "2022-05-31 19:01:16+05:30",
          "2022-05-30 17:56:29+05:30",
          "2022-05-28 20:08:40+05:30",
          "2022-05-27 21:40:02+05:30",
          "2022-05-27 19:12:07+05:30",
          "2022-05-26 20:43:01+05:30",
          "2022-05-26 18:42:57+05:30",
          "2022-05-25 19:58:52+05:30",
          "2022-05-25 09:09:44+05:30",
          "2022-05-24 20:00:51+05:30",
          "2022-05-23 20:43:50+05:30",
          "2022-05-22 20:54:03+05:30",
          "2022-05-22 18:18:15+05:30",
          "2022-05-21 19:25:08+05:30",
          "2022-05-20 20:07:42+05:30",
          "2022-05-19 20:31:25+05:30",
          "2022-05-18 19:28:51+05:30",
          "2022-05-17 20:34:25+05:30",
          "2022-05-17 13:23:13+05:30",
          "2022-05-16 18:31:04+05:30",
          "2022-05-13 20:01:58+05:30",
          "2022-05-11 19:53:48+05:30",
          "2022-05-10 21:23:08+05:30",
          "2022-05-09 18:59:10+05:30",
          "2022-05-08 12:16:05+05:30",
          "2022-05-06 19:42:06+05:30",
          "2022-05-05 21:08:22+05:30",
          "2022-05-04 19:39:06+05:30",
          "2022-05-04 17:04:32+05:30",
          "2022-05-02 19:44:03+05:30",
          "2022-05-01 19:46:40+05:30",
          "2022-04-30 20:57:45+05:30",
          "2022-04-30 18:14:48+05:30",
          "2022-04-29 19:17:06+05:30",
          "2022-04-29 14:58:50+05:30",
          "2022-04-29 10:46:05+05:30",
          "2022-04-28 19:02:00+05:30",
          "2022-04-27 18:08:51+05:30",
          "2022-04-26 18:06:23+05:30",
          "2022-04-25 15:46:01+05:30",
          "2022-04-22 19:43:31+05:30",
          "2022-04-22 15:38:08+05:30",
          "2022-04-20 16:27:27+05:30",
          "2022-04-19 19:43:08+05:30",
          "2022-04-18 20:53:59+05:30",
          "2022-04-18 18:38:56+05:30",
          "2022-04-17 18:53:29+05:30",
          "2022-04-15 18:43:48+05:30",
          "2022-04-14 18:15:02+05:30",
          "2022-04-13 20:33:37+05:30",
          "2022-04-13 16:25:07+05:30",
          "2022-04-12 16:19:17+05:30",
          "2022-04-11 10:51:26+05:30",
          "2022-04-09 13:04:51+05:30",
          "2022-04-08 18:03:25+05:30",
          "2022-04-07 17:08:54+05:30",
          "2022-04-06 17:01:11+05:30",
          "2022-04-05 16:42:43+05:30",
          "2022-04-04 16:13:43+05:30",
          "2022-04-02 19:53:07+05:30",
          "2022-03-30 17:38:19+05:30",
          "2022-03-29 15:32:14+05:30",
          "2022-03-28 14:58:32+05:30",
          "2022-03-26 18:23:47+05:30",
          "2022-03-25 17:31:07+05:30",
          "2022-03-24 17:22:18+05:30",
          "2022-03-23 17:19:45+05:30",
          "2022-03-22 16:48:40+05:30",
          "2022-03-21 18:43:04+05:30",
          "2022-03-20 18:20:20+05:30",
          "2022-03-19 18:30:00+05:30",
          "2022-03-18 19:09:13+05:30",
          "2022-03-17 20:15:48+05:30",
          "2022-03-16 16:14:29+05:30",
          "2022-03-15 18:14:06+05:30",
          "2022-03-14 17:22:31+05:30",
          "2022-03-13 19:51:54+05:30",
          "2022-03-11 17:35:08+05:30",
          "2022-03-10 14:58:57+05:30",
          "2022-03-09 22:20:54+05:30",
          "2022-03-08 18:43:51+05:30",
          "2022-03-08 15:47:44+05:30",
          "2022-03-07 22:43:25+05:30",
          "2022-03-07 15:47:48+05:30",
          "2022-03-04 17:39:04+05:30",
          "2022-03-03 19:36:09+05:30",
          "2022-03-02 20:59:15+05:30",
          "2022-03-01 18:38:52+05:30",
          "2022-02-28 18:21:44+05:30",
          "2022-02-27 19:29:59+05:30",
          "2022-02-26 16:30:41+05:30",
          "2022-02-25 18:13:11+05:30",
          "2022-02-24 17:26:33+05:30",
          "2022-02-23 15:46:53+05:30",
          "2022-02-22 14:21:35+05:30",
          "2022-02-21 17:53:20+05:30",
          "2022-02-20 18:32:17+05:30",
          "2022-02-20 12:15:30+05:30",
          "2022-02-19 18:18:12+05:30",
          "2022-02-18 19:41:10+05:30",
          "2022-02-17 19:21:36+05:30",
          "2022-02-16 19:30:25+05:30",
          "2022-02-15 18:54:53+05:30",
          "2022-02-14 18:47:40+05:30",
          "2022-02-14 15:39:22+05:30",
          "2022-02-14 11:25:28+05:30",
          "2022-02-13 17:41:30+05:30",
          "2022-02-11 19:41:21+05:30",
          "2022-02-09 19:07:21+05:30",
          "2022-02-08 18:57:40+05:30",
          "2022-02-07 20:49:04+05:30",
          "2022-02-06 18:11:46+05:30",
          "2022-02-04 20:00:41+05:30",
          "2022-02-03 19:44:00+05:30",
          "2022-02-01 20:36:12+05:30",
          "2022-01-31 20:23:51+05:30",
          "2022-01-30 18:42:45+05:30",
          "2022-01-28 19:10:29+05:30",
          "2022-01-27 19:30:27+05:30",
          "2022-01-26 12:42:44+05:30",
          "2022-01-25 20:49:16+05:30",
          "2022-01-24 20:07:13+05:30",
          "2022-01-21 19:49:54+05:30",
          "2022-01-21 17:43:02+05:30",
          "2022-01-18 19:03:53+05:30",
          "2022-01-16 19:10:35+05:30",
          "2022-01-14 19:41:50+05:30",
          "2022-01-14 11:00:11+05:30",
          "2022-01-13 21:16:32+05:30",
          "2022-01-12 19:40:35+05:30",
          "2022-01-11 21:14:45+05:30",
          "2022-01-10 18:52:20+05:30",
          "2022-01-09 18:34:10+05:30",
          "2022-01-07 20:08:41+05:30",
          "2022-01-06 19:08:00+05:30",
          "2022-01-05 19:32:22+05:30",
          "2022-01-03 19:33:52+05:30",
          "2021-12-31 19:06:49+05:30",
          "2021-12-31 12:24:48+05:30",
          "2021-12-29 19:38:05+05:30",
          "2021-12-28 19:00:49+05:30",
          "2021-12-24 21:05:34+05:30",
          "2021-12-23 19:36:43+05:30",
          "2021-12-22 20:24:43+05:30",
          "2021-12-21 19:53:59+05:30",
          "2021-12-19 17:33:34+05:30",
          "2021-12-17 21:18:49+05:30",
          "2021-12-12 20:46:09+05:30",
          "2021-12-10 18:02:12+05:30",
          "2021-12-09 21:13:23+05:30",
          "2021-12-07 19:42:02+05:30",
          "2021-12-06 19:07:18+05:30",
          "2021-12-03 18:31:28+05:30",
          "2021-12-02 19:49:34+05:30",
          "2021-12-01 19:14:28+05:30",
          "2021-11-29 21:14:33+05:30",
          "2021-11-28 18:45:32+05:30",
          "2021-11-26 18:44:35+05:30",
          "2021-11-25 20:34:49+05:30",
          "2021-11-24 21:10:43+05:30",
          "2021-11-22 20:09:20+05:30",
          "2021-11-20 19:41:08+05:30",
          "2021-11-18 20:22:46+05:30",
          "2021-11-16 19:27:47+05:30",
          "2021-11-14 10:09:57+05:30",
          "2021-11-12 18:34:52+05:30",
          "2021-11-11 19:20:55+05:30",
          "2021-11-09 20:20:39+05:30",
          "2021-11-08 20:11:06+05:30",
          "2021-11-06 18:37:57+05:30",
          "2021-11-04 10:17:18+05:30",
          "2021-11-02 18:40:04+05:30",
          "2021-11-01 18:12:59+05:30",
          "2021-10-31 10:34:50+05:30",
          "2021-10-29 20:21:03+05:30",
          "2021-10-28 20:17:15+05:30",
          "2021-10-27 22:18:43+05:30",
          "2021-10-26 19:24:17+05:30",
          "2021-10-25 19:45:26+05:30",
          "2021-10-22 20:49:46+05:30",
          "2021-10-20 19:57:17+05:30",
          "2021-10-19 19:48:31+05:30",
          "2021-10-18 21:17:48+05:30",
          "2021-10-16 19:58:27+05:30",
          "2021-10-14 19:29:30+05:30",
          "2021-10-08 16:05:47+05:30",
          "2021-10-06 19:29:11+05:30",
          "2021-10-01 21:01:15+05:30",
          "2021-10-01 16:31:08+05:30",
          "2021-09-29 20:36:48+05:30",
          "2021-09-27 20:36:02+05:30",
          "2021-09-24 19:14:08+05:30",
          "2021-09-22 19:48:55+05:30",
          "2021-09-20 18:49:33+05:30",
          "2021-09-19 19:47:08+05:30",
          "2021-09-12 18:40:09+05:30",
          "2021-09-11 20:48:14+05:30",
          "2021-09-09 18:48:24+05:30",
          "2021-09-07 19:13:18+05:30",
          "2021-09-05 10:09:01+05:30",
          "2021-08-27 19:04:22+05:30",
          "2021-08-26 17:19:35+05:30",
          "2021-08-24 21:20:09+05:30",
          "2021-08-22 10:42:57+05:30",
          "2021-08-20 18:11:10+05:30",
          "2021-08-19 16:35:43+05:30",
          "2021-08-16 20:53:57+05:30",
          "2021-08-15 09:59:38+05:30",
          "2021-08-14 17:42:32+05:30",
          "2021-08-11 19:17:33+05:30",
          "2021-08-10 19:02:10+05:30",
          "2021-08-01 12:01:14+05:30",
          "2021-07-27 18:37:57+05:30",
          "2021-07-26 19:23:57+05:30",
          "2021-07-22 17:55:30+05:30",
          "2021-07-20 19:04:10+05:30",
          "2021-07-17 10:50:04+05:30",
          "2021-07-15 21:06:00+05:30",
          "2021-07-10 11:14:16+05:30",
          "2021-07-01 20:12:30+05:30",
          "2021-06-22 22:10:33+05:30",
          "2021-06-20 10:28:55+05:30",
          "2021-06-17 21:09:53+05:30",
          "2021-06-15 19:34:24+05:30",
          "2021-06-11 21:33:34+05:30",
          "2021-06-09 22:04:30+05:30",
          "2021-06-03 21:26:43+05:30",
          "2021-06-01 20:27:23+05:30",
          "2021-05-27 19:22:01+05:30",
          "2021-05-24 13:40:55+05:30",
          "2021-05-21 21:12:43+05:30",
          "2021-05-19 21:28:50+05:30",
          "2021-05-17 22:56:21+05:30",
          "2021-05-14 10:51:39+05:30",
          "2021-05-11 22:07:08+05:30",
          "2021-05-09 16:58:11+05:30",
          "2021-05-08 14:22:17+05:30",
          "2021-05-06 22:06:01+05:30",
          "2021-05-04 21:17:44+05:30",
          "2021-04-28 20:30:23+05:30",
          "2021-04-27 20:49:44+05:30",
          "2021-04-26 17:56:15+05:30",
          "2021-04-24 17:56:33+05:30",
          "2021-04-23 17:13:06+05:30",
          "2021-04-22 22:38:08+05:30",
          "2021-04-21 19:50:34+05:30",
          "2021-04-17 19:31:47+05:30",
          "2021-04-12 20:47:14+05:30",
          "2021-04-09 18:53:50+05:30",
          "2021-04-08 18:16:31+05:30",
          "2021-04-01 09:37:42+05:30",
          "2021-03-30 19:44:05+05:30",
          "2021-03-25 22:14:44+05:30",
          "2021-03-23 20:01:59+05:30",
          "2021-03-20 19:04:03+05:30",
          "2021-03-19 22:37:38+05:30",
          "2021-03-15 18:42:01+05:30",
          "2021-03-13 11:18:30+05:30",
          "2021-03-08 23:12:54+05:30",
          "2021-03-06 20:59:25+05:30",
          "2021-03-01 19:44:54+05:30",
          "2021-02-28 19:50:48+05:30",
          "2021-02-24 18:59:22+05:30",
          "2021-02-22 22:25:44+05:30",
          "2021-02-19 19:47:30+05:30",
          "2021-02-18 18:07:39+05:30",
          "2021-02-16 18:37:40+05:30",
          "2021-02-14 10:14:26+05:30",
          "2021-02-11 18:17:02+05:30",
          "2021-02-09 18:10:18+05:30",
          "2021-02-04 18:14:58+05:30",
          "2021-02-03 18:20:33+05:30",
          "2021-02-01 22:23:28+05:30",
          "2021-01-29 19:42:44+05:30",
          "2021-01-22 21:37:54+05:30",
          "2021-01-20 19:13:12+05:30",
          "2021-01-13 20:54:52+05:30",
          "2021-01-11 21:10:11+05:30",
          "2021-01-08 18:34:46+05:30",
          "2021-01-02 18:55:41+05:30",
          "2020-12-29 23:13:34+05:30",
          "2020-12-25 10:03:47+05:30",
          "2020-12-22 11:07:08+05:30",
          "2020-12-16 18:34:07+05:30",
          "2020-12-14 10:34:58+05:30",
          "2020-12-03 18:38:23+05:30",
          "2020-11-30 18:45:40+05:30",
          "2020-11-14 12:22:52+05:30",
          "2020-11-06 19:15:36+05:30",
          "2020-11-04 00:01:40+05:30",
          "2020-11-02 18:32:47+05:30",
          "2020-10-26 10:59:16+05:30",
          "2020-10-25 11:04:34+05:30",
          "2020-10-16 13:25:45+05:30",
          "2020-10-16 00:31:34+05:30",
          "2020-10-15 12:32:18+05:30",
          "2020-09-14 21:13:36+05:30",
          "2020-09-09 19:11:49+05:30",
          "2020-09-05 13:24:03+05:30",
          "2020-08-22 12:02:47+05:30",
          "2020-08-11 18:50:33+05:30",
          "2020-08-05 21:15:33+05:30",
          "2020-08-03 12:31:58+05:30",
          "2020-07-28 18:47:18+05:30",
          "2020-07-22 19:00:13+05:30",
          "2020-07-19 18:46:44+05:30",
          "2020-07-16 23:02:59+05:30",
          "2020-07-13 22:37:33+05:30",
          "2020-07-09 12:29:03+05:30",
          "2020-07-02 18:50:58+05:30",
          "2020-06-26 18:59:29+05:30",
          "2020-06-21 14:34:30+05:30",
          "2020-06-20 21:12:52+05:30",
          "2020-06-16 21:38:14+05:30",
          "2020-06-05 10:07:07+05:30",
          "2020-06-02 18:00:24+05:30",
          "2020-05-29 21:05:17+05:30",
          "2020-05-26 17:41:24+05:30",
          "2020-05-26 17:34:08+05:30",
          "2020-05-26 17:33:56+05:30",
          "2020-05-26 16:08:44+05:30",
          "2020-05-26 16:07:22+05:30",
          "2020-05-26 16:05:34+05:30",
          "2020-05-24 21:31:18+05:30",
          "2020-05-24 21:29:35+05:30",
          "2020-05-24 20:41:06+05:30",
          "2020-05-24 20:40:40+05:30",
          "2020-05-22 21:43:46+05:30",
          "2020-05-15 22:59:14+05:30",
          "2020-05-15 22:50:21+05:30",
          "2020-05-15 22:49:08+05:30",
          "2020-05-10 23:23:21+05:30",
          "2020-05-10 20:25:15+05:30",
          "2020-05-10 17:26:17+05:30",
          "2020-05-03 21:10:14+05:30",
          "2020-05-03 19:52:21+05:30",
          "2020-05-02 18:02:06+05:30",
          "2020-04-11 18:09:26+05:30",
          "2020-04-07 20:24:45+05:30",
          "2020-04-07 19:16:55+05:30",
          "2020-04-07 18:26:18+05:30",
          "2020-03-26 21:09:16+05:30",
          "2020-03-26 16:55:50+05:30",
          "2020-03-17 22:16:53+05:30",
          "2020-03-07 15:22:30+05:30",
          "2020-02-19 16:58:54+05:30",
          "2020-02-19 16:57:57+05:30",
          "2020-02-19 16:36:08+05:30",
          "2020-02-15 11:27:42+05:30",
          "2020-02-15 11:24:06+05:30",
          "2020-02-15 11:20:53+05:30",
          "2020-02-10 12:06:42+05:30",
          "2020-02-10 12:05:26+05:30",
          "2020-02-10 12:04:26+05:30",
          "2020-02-05 16:22:01+05:30",
          "2020-02-05 16:21:05+05:30",
          "2020-02-05 16:19:23+05:30",
          "2020-01-26 16:54:53+05:30",
          "2020-01-26 16:54:10+05:30",
          "2020-01-26 16:52:43+05:30",
          "2020-01-20 20:12:13+05:30",
          "2020-01-17 19:45:13+05:30",
          "2020-01-15 13:31:44+05:30",
          "2020-01-15 13:29:29+05:30",
          "2020-01-03 14:12:32+05:30",
          "2020-01-03 14:11:25+05:30",
          "2019-12-25 16:53:21+05:30",
          "2019-12-25 16:52:02+05:30",
          "2019-12-25 16:51:01+05:30",
          "2019-12-21 20:26:05+05:30",
          "2019-12-21 20:23:31+05:30",
          "2019-12-12 22:29:43+05:30",
          "2019-12-12 22:29:21+05:30",
          "2019-12-12 22:28:12+05:30",
          "2019-11-18 18:28:37+05:30",
          "2019-11-18 18:26:21+05:30",
          "2019-11-18 18:23:41+05:30",
          "2019-11-12 14:28:35+05:30",
          "2019-11-12 14:27:17+05:30",
          "2019-11-12 14:25:29+05:30",
          "2019-11-06 19:01:16+05:30",
          "2019-11-06 19:00:33+05:30",
          "2019-11-06 18:59:31+05:30",
          "2019-10-27 15:50:10+05:30",
          "2019-10-27 15:47:04+05:30",
          "2019-10-27 15:45:30+05:30",
          "2019-10-16 17:48:28+05:30",
          "2019-10-16 17:47:48+05:30",
          "2019-10-16 17:41:24+05:30",
          "2019-10-02 14:41:58+05:30",
          "2019-10-02 14:41:42+05:30",
          "2019-10-02 14:40:16+05:30",
          "2019-09-05 20:14:36+05:30",
          "2019-09-05 20:14:16+05:30",
          "2019-09-05 20:13:50+05:30",
          "2019-08-30 16:25:09+05:30",
          "2019-08-30 16:21:23+05:30",
          "2019-08-30 16:18:27+05:30",
          "2019-08-15 21:18:09+05:30",
          "2019-08-15 21:17:48+05:30",
          "2019-08-15 21:17:22+05:30",
          "2019-08-06 07:49:41+05:30",
          "2019-08-06 07:31:57+05:30",
          "2019-08-06 07:27:47+05:30",
          "2019-08-04 18:05:37+05:30",
          "2019-08-04 17:40:40+05:30",
          "2019-08-04 17:34:41+05:30",
          "2019-08-03 22:40:24+05:30",
          "2019-08-03 22:25:10+05:30",
          "2019-08-03 20:36:51+05:30"
         ],
         "y": [
          3847,
          5726,
          15523,
          31783,
          14304,
          18929,
          11592,
          11431,
          13209,
          19655,
          19359,
          11908,
          12764,
          39785,
          31532,
          30407,
          14839,
          11206,
          10835,
          15642,
          11307,
          18562,
          11036,
          18529,
          16193,
          15388,
          29442,
          340994,
          33008,
          21215,
          21790,
          13124,
          30047,
          20768,
          22812,
          27383,
          13570,
          29894,
          18901,
          16631,
          21110,
          15540,
          11947,
          18454,
          33526,
          25207,
          14274,
          23782,
          19016,
          27526,
          64208,
          15522,
          22573,
          20470,
          28371,
          18690,
          14705,
          12901,
          42345,
          17685,
          23681,
          22677,
          35241,
          13578,
          18720,
          13488,
          13783,
          27483,
          25326,
          22089,
          11199,
          21782,
          17172,
          17968,
          27860,
          31366,
          26361,
          15544,
          12726,
          30212,
          19009,
          12296,
          34636,
          9380,
          14630,
          25259,
          13807,
          18387,
          29535,
          11126,
          13035,
          21656,
          18775,
          11301,
          10580,
          16185,
          15115,
          15819,
          25102,
          16156,
          11607,
          34701,
          33029,
          9788,
          20151,
          16409,
          11503,
          14160,
          26659,
          10743,
          15662,
          13293,
          13139,
          24357,
          12088,
          17923,
          12084,
          30642,
          33334,
          27711,
          32602,
          14049,
          28365,
          29416,
          28230,
          18233,
          10613,
          26843,
          13843,
          15042,
          19922,
          19176,
          20751,
          8979,
          19218,
          12084,
          17508,
          15784,
          13834,
          9503,
          18973,
          16899,
          8844,
          12368,
          16670,
          15628,
          13685,
          9452,
          6161,
          10763,
          4037,
          6281,
          6196,
          9137,
          5057,
          8135,
          10472,
          5099,
          5185,
          4459,
          10162,
          3313,
          4666,
          5058,
          4574,
          6059,
          12595,
          7117,
          5020,
          3840,
          3740,
          4537,
          4614,
          4633,
          13136,
          4164,
          5733,
          15640,
          3883,
          10345,
          5626,
          3184,
          5711,
          4520,
          7254,
          11801,
          3314,
          2709,
          3792,
          3460,
          6118,
          7585,
          4829,
          4318,
          3140,
          5206,
          3197,
          12455,
          5249,
          3720,
          8820,
          3282,
          3301,
          6435,
          16572,
          5523,
          3307,
          3674,
          4920,
          4123,
          6942,
          3266,
          5130,
          4885,
          13039,
          3639,
          3826,
          3170,
          6670,
          3324,
          4919,
          4290,
          3845,
          8037,
          3642,
          3897,
          5376,
          4302,
          4219,
          7308,
          3618,
          4422,
          7748,
          4404,
          3517,
          6629,
          6859,
          5471,
          5901,
          4227,
          3050,
          2922,
          3322,
          5719,
          7858,
          6672,
          4135,
          3759,
          3171,
          3810,
          3528,
          2577,
          2937,
          3916,
          2451,
          3344,
          3503,
          2858,
          27896,
          4417,
          2911,
          2385,
          5186,
          2548,
          3385,
          4588,
          3022,
          2979,
          3475,
          2577,
          4052,
          3898,
          4835,
          1876,
          4325,
          2639,
          3480,
          2305,
          4928,
          2917,
          2322,
          3443,
          4125,
          2245,
          3122,
          3391,
          1827,
          3431,
          3984,
          3239,
          3587,
          2250,
          2798,
          2429,
          2008,
          2466,
          4525,
          4576,
          3275,
          2782,
          2910,
          4418,
          3184,
          5564,
          1911,
          2442,
          3083,
          3905,
          2157,
          6335,
          4583,
          3594,
          5257,
          4919,
          2459,
          2768,
          2520,
          6651,
          3188,
          3301,
          2702,
          4213,
          4397,
          1836,
          2630,
          1684,
          1647,
          3579,
          2674,
          1735,
          1491,
          3170,
          1494,
          1683,
          1865,
          3133,
          1646,
          1819,
          1697,
          3074,
          1796,
          1744,
          2678,
          2626,
          3442,
          2787,
          1585,
          2102,
          1252,
          1440,
          3400,
          3242,
          1662,
          1983,
          2235,
          2032,
          2050,
          4534,
          1955,
          2969,
          2259,
          2512,
          3187,
          1930,
          2173,
          1555,
          1867,
          1661,
          3305,
          2905,
          2117,
          2067,
          2515,
          1547,
          3188,
          1504,
          3897,
          2190,
          3486,
          3160,
          1156,
          2273,
          1991,
          2294,
          3127,
          2426,
          1502,
          2562,
          2745,
          1807,
          6900,
          1264,
          3938,
          3107,
          3283,
          2878,
          1796,
          3600,
          2525,
          1645,
          3279,
          3146,
          2215,
          2510,
          2122,
          4485,
          2237,
          2482,
          2593,
          3304,
          1109,
          4044,
          1178,
          8168,
          5612,
          2868,
          2020,
          3137,
          2032,
          2721,
          3523,
          2142,
          2888,
          2423,
          6182,
          3868,
          4566,
          2716,
          1858,
          4206,
          3309,
          4151,
          6206,
          2654,
          3439,
          4758,
          2517,
          2373,
          2994,
          3403,
          2857,
          2464,
          3670,
          2260,
          2728,
          2679,
          1470,
          1708,
          2033,
          1660,
          2949,
          2408,
          2526,
          2020,
          1912,
          2743,
          2166,
          3169,
          2970,
          3374,
          2880,
          2081,
          3163,
          1512,
          1368,
          2797,
          2080,
          1393,
          1016,
          1515,
          1814,
          1897,
          1621,
          2172,
          1150,
          1700,
          1497,
          2212,
          6461,
          2577,
          1601,
          1872,
          1276,
          1431,
          1827,
          1977,
          1604,
          1432,
          1823,
          3619,
          2596,
          3403,
          1222,
          3189,
          3066,
          2065,
          3016,
          4061,
          1390,
          1610,
          3043,
          2674,
          1877,
          3109,
          1548,
          2400,
          2157,
          1549,
          1877,
          1734,
          1715,
          3103,
          2956,
          1782,
          2713,
          1345,
          2331,
          1871,
          1579,
          1683,
          1261,
          1593,
          5098,
          2095,
          1141,
          658,
          1000,
          673,
          858,
          648,
          780,
          800,
          651,
          996,
          1039,
          646,
          749,
          465,
          582,
          540,
          512,
          382,
          399,
          467,
          504,
          359,
          373,
          372,
          72,
          74,
          84,
          352,
          438,
          80,
          107,
          355,
          302,
          352,
          336,
          365,
          300,
          511,
          430,
          293,
          280,
          354,
          266,
          270,
          278,
          280,
          319,
          290,
          392,
          278,
          287,
          296,
          404,
          284,
          293,
          288,
          317,
          282,
          344,
          314,
          426,
          383,
          260,
          336,
          351,
          355,
          663,
          312,
          251,
          282,
          234,
          239,
          242,
          234,
          266,
          261,
          252,
          245,
          342,
          345,
          291,
          310,
          319,
          276,
          242,
          276,
          252,
          279,
          266,
          289,
          388,
          358,
          411,
          249,
          244,
          236,
          240,
          262,
          272,
          402,
          279,
          343,
          262,
          279,
          277,
          270,
          294,
          313,
          274,
          301,
          297,
          295,
          310,
          363
         ]
        },
        {
         "mode": "lines",
         "name": "Comments",
         "type": "scatter",
         "x": [
          "2023-04-23 12:22:51+05:30",
          "2023-04-22 19:46:54+05:30",
          "2023-04-21 21:32:24+05:30",
          "2023-04-20 21:14:23+05:30",
          "2023-04-19 20:22:41+05:30",
          "2023-04-17 19:57:35+05:30",
          "2023-04-15 21:37:21+05:30",
          "2023-04-13 20:31:31+05:30",
          "2023-04-12 20:34:54+05:30",
          "2023-04-09 20:45:48+05:30",
          "2023-04-06 19:46:04+05:30",
          "2023-04-05 18:58:15+05:30",
          "2023-04-04 19:01:14+05:30",
          "2023-04-03 20:31:53+05:30",
          "2023-04-02 19:13:32+05:30",
          "2023-03-31 18:39:51+05:30",
          "2023-03-30 21:23:59+05:30",
          "2023-03-29 19:12:46+05:30",
          "2023-03-27 19:53:19+05:30",
          "2023-03-25 19:53:12+05:30",
          "2023-03-23 20:28:07+05:30",
          "2023-03-21 19:51:40+05:30",
          "2023-03-20 19:01:58+05:30",
          "2023-03-18 20:29:46+05:30",
          "2023-03-16 21:01:33+05:30",
          "2023-03-14 20:38:46+05:30",
          "2023-03-13 21:31:03+05:30",
          "2023-03-11 20:36:50+05:30",
          "2023-03-09 20:55:21+05:30",
          "2023-03-04 19:24:14+05:30",
          "2023-03-03 20:10:24+05:30",
          "2023-02-28 20:46:53+05:30",
          "2023-02-25 20:19:58+05:30",
          "2023-02-24 21:46:32+05:30",
          "2023-02-23 23:25:23+05:30",
          "2023-02-22 19:38:53+05:30",
          "2023-02-21 18:37:24+05:30",
          "2023-02-20 19:52:37+05:30",
          "2023-02-19 20:27:07+05:30",
          "2023-02-18 21:42:36+05:30",
          "2023-02-17 20:24:38+05:30",
          "2023-02-16 21:01:40+05:30",
          "2023-02-15 19:47:51+05:30",
          "2023-02-14 18:41:28+05:30",
          "2023-02-13 20:13:39+05:30",
          "2023-02-12 18:17:24+05:30",
          "2023-02-11 20:36:52+05:30",
          "2023-02-09 18:36:09+05:30",
          "2023-02-08 20:50:05+05:30",
          "2023-02-07 20:28:56+05:30",
          "2023-02-06 20:43:22+05:30",
          "2023-02-05 20:54:56+05:30",
          "2023-02-04 21:31:24+05:30",
          "2023-02-03 21:11:18+05:30",
          "2023-02-02 20:14:56+05:30",
          "2023-02-01 20:37:55+05:30",
          "2023-01-31 20:24:03+05:30",
          "2023-01-30 20:41:17+05:30",
          "2023-01-29 20:59:31+05:30",
          "2023-01-28 20:51:36+05:30",
          "2023-01-27 20:12:42+05:30",
          "2023-01-26 21:31:40+05:30",
          "2023-01-24 20:53:27+05:30",
          "2023-01-22 19:44:45+05:30",
          "2023-01-20 20:01:44+05:30",
          "2023-01-19 20:31:42+05:30",
          "2023-01-18 19:24:40+05:30",
          "2023-01-17 20:29:18+05:30",
          "2023-01-16 20:24:09+05:30",
          "2023-01-14 20:32:14+05:30",
          "2023-01-13 19:49:24+05:30",
          "2023-01-13 09:36:39+05:30",
          "2023-01-12 20:47:50+05:30",
          "2023-01-11 19:27:43+05:30",
          "2023-01-10 20:08:49+05:30",
          "2023-01-06 20:14:04+05:30",
          "2023-01-05 18:24:43+05:30",
          "2023-01-04 21:39:28+05:30",
          "2023-01-03 19:19:51+05:30",
          "2023-01-01 20:04:50+05:30",
          "2023-01-01 14:16:15+05:30",
          "2022-12-31 11:37:55+05:30",
          "2022-12-30 20:19:54+05:30",
          "2022-12-29 17:35:27+05:30",
          "2022-12-27 19:41:45+05:30",
          "2022-12-26 20:01:13+05:30",
          "2022-12-25 19:47:55+05:30",
          "2022-12-24 19:07:06+05:30",
          "2022-12-24 12:54:49+05:30",
          "2022-12-23 18:33:48+05:30",
          "2022-12-21 17:49:07+05:30",
          "2022-12-19 16:53:39+05:30",
          "2022-12-18 11:12:30+05:30",
          "2022-12-16 19:02:51+05:30",
          "2022-12-15 20:54:06+05:30",
          "2022-12-14 19:49:26+05:30",
          "2022-12-12 19:05:31+05:30",
          "2022-12-11 20:33:34+05:30",
          "2022-12-10 19:11:10+05:30",
          "2022-12-09 18:58:08+05:30",
          "2022-12-08 19:42:28+05:30",
          "2022-12-04 20:08:25+05:30",
          "2022-12-02 20:49:37+05:30",
          "2022-12-01 18:59:04+05:30",
          "2022-11-30 20:31:37+05:30",
          "2022-11-28 19:39:55+05:30",
          "2022-11-27 20:49:42+05:30",
          "2022-11-25 22:30:08+05:30",
          "2022-11-24 20:24:03+05:30",
          "2022-11-21 19:59:33+05:30",
          "2022-11-20 20:28:38+05:30",
          "2022-11-19 13:37:21+05:30",
          "2022-11-17 20:30:56+05:30",
          "2022-11-15 19:54:34+05:30",
          "2022-11-14 11:26:56+05:30",
          "2022-11-13 10:35:45+05:30",
          "2022-11-11 20:57:45+05:30",
          "2022-11-10 19:31:02+05:30",
          "2022-11-09 19:03:22+05:30",
          "2022-11-09 14:37:40+05:30",
          "2022-11-08 18:48:47+05:30",
          "2022-11-07 22:33:45+05:30",
          "2022-11-06 21:11:19+05:30",
          "2022-11-05 16:25:03+05:30",
          "2022-11-04 20:15:21+05:30",
          "2022-11-03 19:17:25+05:30",
          "2022-11-02 18:29:24+05:30",
          "2022-11-01 21:26:02+05:30",
          "2022-10-29 19:36:29+05:30",
          "2022-10-28 19:13:49+05:30",
          "2022-10-27 19:42:11+05:30",
          "2022-10-26 16:56:08+05:30",
          "2022-10-24 11:03:04+05:30",
          "2022-10-21 20:41:47+05:30",
          "2022-10-20 22:35:32+05:30",
          "2022-10-19 19:30:55+05:30",
          "2022-10-18 19:19:39+05:30",
          "2022-10-14 19:51:50+05:30",
          "2022-10-13 19:39:52+05:30",
          "2022-10-10 20:31:01+05:30",
          "2022-10-07 19:25:47+05:30",
          "2022-10-06 20:06:32+05:30",
          "2022-10-05 20:12:56+05:30",
          "2022-10-04 19:56:37+05:30",
          "2022-10-03 19:41:02+05:30",
          "2022-10-02 20:37:24+05:30",
          "2022-09-30 18:52:03+05:30",
          "2022-09-29 21:52:25+05:30",
          "2022-09-27 19:19:08+05:30",
          "2022-09-21 19:28:55+05:30",
          "2022-09-20 19:05:04+05:30",
          "2022-09-19 18:05:32+05:30",
          "2022-09-18 22:08:27+05:30",
          "2022-09-16 20:59:02+05:30",
          "2022-09-15 18:55:57+05:30",
          "2022-09-14 20:14:45+05:30",
          "2022-09-13 12:45:56+05:30",
          "2022-09-11 22:28:55+05:30",
          "2022-09-10 18:42:12+05:30",
          "2022-09-08 19:15:29+05:30",
          "2022-09-07 19:03:52+05:30",
          "2022-09-06 18:56:04+05:30",
          "2022-09-05 22:56:42+05:30",
          "2022-09-05 13:10:36+05:30",
          "2022-09-04 17:20:54+05:30",
          "2022-09-03 18:54:06+05:30",
          "2022-09-01 19:08:24+05:30",
          "2022-08-31 19:12:54+05:30",
          "2022-08-30 19:45:44+05:30",
          "2022-08-29 19:38:42+05:30",
          "2022-08-28 17:54:15+05:30",
          "2022-08-26 19:46:17+05:30",
          "2022-08-23 18:56:11+05:30",
          "2022-08-22 20:17:59+05:30",
          "2022-08-21 19:20:26+05:30",
          "2022-08-18 19:23:41+05:30",
          "2022-08-17 19:27:40+05:30",
          "2022-08-16 18:55:43+05:30",
          "2022-08-15 09:16:15+05:30",
          "2022-08-12 19:13:49+05:30",
          "2022-08-11 10:14:07+05:30",
          "2022-08-10 18:58:43+05:30",
          "2022-08-09 19:11:34+05:30",
          "2022-08-08 18:51:38+05:30",
          "2022-08-06 20:30:37+05:30",
          "2022-08-04 19:44:54+05:30",
          "2022-08-03 19:39:50+05:30",
          "2022-08-02 18:36:46+05:30",
          "2022-07-31 18:43:36+05:30",
          "2022-07-29 19:07:44+05:30",
          "2022-07-28 21:13:27+05:30",
          "2022-07-27 17:57:02+05:30",
          "2022-07-25 18:03:11+05:30",
          "2022-07-22 20:29:13+05:30",
          "2022-07-21 19:36:33+05:30",
          "2022-07-20 20:10:47+05:30",
          "2022-07-19 20:16:34+05:30",
          "2022-07-15 19:42:48+05:30",
          "2022-07-14 18:02:16+05:30",
          "2022-07-11 23:58:11+05:30",
          "2022-07-09 19:49:05+05:30",
          "2022-07-08 19:41:50+05:30",
          "2022-07-06 19:46:22+05:30",
          "2022-07-03 13:05:04+05:30",
          "2022-07-01 18:09:55+05:30",
          "2022-06-30 18:49:03+05:30",
          "2022-06-27 21:07:05+05:30",
          "2022-06-26 18:39:27+05:30",
          "2022-06-25 19:56:52+05:30",
          "2022-06-24 20:42:38+05:30",
          "2022-06-22 20:34:57+05:30",
          "2022-06-22 14:58:50+05:30",
          "2022-06-19 11:44:14+05:30",
          "2022-06-18 15:28:41+05:30",
          "2022-06-17 18:10:37+05:30",
          "2022-06-16 19:48:23+05:30",
          "2022-06-15 19:09:15+05:30",
          "2022-06-15 16:43:06+05:30",
          "2022-06-14 16:18:31+05:30",
          "2022-06-13 19:44:50+05:30",
          "2022-06-10 19:13:44+05:30",
          "2022-06-09 21:34:01+05:30",
          "2022-06-09 18:33:21+05:30",
          "2022-06-07 18:45:47+05:30",
          "2022-06-06 18:23:33+05:30",
          "2022-06-05 20:41:05+05:30",
          "2022-06-03 19:58:50+05:30",
          "2022-06-02 19:47:39+05:30",
          "2022-05-31 19:01:16+05:30",
          "2022-05-30 17:56:29+05:30",
          "2022-05-28 20:08:40+05:30",
          "2022-05-27 21:40:02+05:30",
          "2022-05-27 19:12:07+05:30",
          "2022-05-26 20:43:01+05:30",
          "2022-05-26 18:42:57+05:30",
          "2022-05-25 19:58:52+05:30",
          "2022-05-25 09:09:44+05:30",
          "2022-05-24 20:00:51+05:30",
          "2022-05-23 20:43:50+05:30",
          "2022-05-22 20:54:03+05:30",
          "2022-05-22 18:18:15+05:30",
          "2022-05-21 19:25:08+05:30",
          "2022-05-20 20:07:42+05:30",
          "2022-05-19 20:31:25+05:30",
          "2022-05-18 19:28:51+05:30",
          "2022-05-17 20:34:25+05:30",
          "2022-05-17 13:23:13+05:30",
          "2022-05-16 18:31:04+05:30",
          "2022-05-13 20:01:58+05:30",
          "2022-05-11 19:53:48+05:30",
          "2022-05-10 21:23:08+05:30",
          "2022-05-09 18:59:10+05:30",
          "2022-05-08 12:16:05+05:30",
          "2022-05-06 19:42:06+05:30",
          "2022-05-05 21:08:22+05:30",
          "2022-05-04 19:39:06+05:30",
          "2022-05-04 17:04:32+05:30",
          "2022-05-02 19:44:03+05:30",
          "2022-05-01 19:46:40+05:30",
          "2022-04-30 20:57:45+05:30",
          "2022-04-30 18:14:48+05:30",
          "2022-04-29 19:17:06+05:30",
          "2022-04-29 14:58:50+05:30",
          "2022-04-29 10:46:05+05:30",
          "2022-04-28 19:02:00+05:30",
          "2022-04-27 18:08:51+05:30",
          "2022-04-26 18:06:23+05:30",
          "2022-04-25 15:46:01+05:30",
          "2022-04-22 19:43:31+05:30",
          "2022-04-22 15:38:08+05:30",
          "2022-04-20 16:27:27+05:30",
          "2022-04-19 19:43:08+05:30",
          "2022-04-18 20:53:59+05:30",
          "2022-04-18 18:38:56+05:30",
          "2022-04-17 18:53:29+05:30",
          "2022-04-15 18:43:48+05:30",
          "2022-04-14 18:15:02+05:30",
          "2022-04-13 20:33:37+05:30",
          "2022-04-13 16:25:07+05:30",
          "2022-04-12 16:19:17+05:30",
          "2022-04-11 10:51:26+05:30",
          "2022-04-09 13:04:51+05:30",
          "2022-04-08 18:03:25+05:30",
          "2022-04-07 17:08:54+05:30",
          "2022-04-06 17:01:11+05:30",
          "2022-04-05 16:42:43+05:30",
          "2022-04-04 16:13:43+05:30",
          "2022-04-02 19:53:07+05:30",
          "2022-03-30 17:38:19+05:30",
          "2022-03-29 15:32:14+05:30",
          "2022-03-28 14:58:32+05:30",
          "2022-03-26 18:23:47+05:30",
          "2022-03-25 17:31:07+05:30",
          "2022-03-24 17:22:18+05:30",
          "2022-03-23 17:19:45+05:30",
          "2022-03-22 16:48:40+05:30",
          "2022-03-21 18:43:04+05:30",
          "2022-03-20 18:20:20+05:30",
          "2022-03-19 18:30:00+05:30",
          "2022-03-18 19:09:13+05:30",
          "2022-03-17 20:15:48+05:30",
          "2022-03-16 16:14:29+05:30",
          "2022-03-15 18:14:06+05:30",
          "2022-03-14 17:22:31+05:30",
          "2022-03-13 19:51:54+05:30",
          "2022-03-11 17:35:08+05:30",
          "2022-03-10 14:58:57+05:30",
          "2022-03-09 22:20:54+05:30",
          "2022-03-08 18:43:51+05:30",
          "2022-03-08 15:47:44+05:30",
          "2022-03-07 22:43:25+05:30",
          "2022-03-07 15:47:48+05:30",
          "2022-03-04 17:39:04+05:30",
          "2022-03-03 19:36:09+05:30",
          "2022-03-02 20:59:15+05:30",
          "2022-03-01 18:38:52+05:30",
          "2022-02-28 18:21:44+05:30",
          "2022-02-27 19:29:59+05:30",
          "2022-02-26 16:30:41+05:30",
          "2022-02-25 18:13:11+05:30",
          "2022-02-24 17:26:33+05:30",
          "2022-02-23 15:46:53+05:30",
          "2022-02-22 14:21:35+05:30",
          "2022-02-21 17:53:20+05:30",
          "2022-02-20 18:32:17+05:30",
          "2022-02-20 12:15:30+05:30",
          "2022-02-19 18:18:12+05:30",
          "2022-02-18 19:41:10+05:30",
          "2022-02-17 19:21:36+05:30",
          "2022-02-16 19:30:25+05:30",
          "2022-02-15 18:54:53+05:30",
          "2022-02-14 18:47:40+05:30",
          "2022-02-14 15:39:22+05:30",
          "2022-02-14 11:25:28+05:30",
          "2022-02-13 17:41:30+05:30",
          "2022-02-11 19:41:21+05:30",
          "2022-02-09 19:07:21+05:30",
          "2022-02-08 18:57:40+05:30",
          "2022-02-07 20:49:04+05:30",
          "2022-02-06 18:11:46+05:30",
          "2022-02-04 20:00:41+05:30",
          "2022-02-03 19:44:00+05:30",
          "2022-02-01 20:36:12+05:30",
          "2022-01-31 20:23:51+05:30",
          "2022-01-30 18:42:45+05:30",
          "2022-01-28 19:10:29+05:30",
          "2022-01-27 19:30:27+05:30",
          "2022-01-26 12:42:44+05:30",
          "2022-01-25 20:49:16+05:30",
          "2022-01-24 20:07:13+05:30",
          "2022-01-21 19:49:54+05:30",
          "2022-01-21 17:43:02+05:30",
          "2022-01-18 19:03:53+05:30",
          "2022-01-16 19:10:35+05:30",
          "2022-01-14 19:41:50+05:30",
          "2022-01-14 11:00:11+05:30",
          "2022-01-13 21:16:32+05:30",
          "2022-01-12 19:40:35+05:30",
          "2022-01-11 21:14:45+05:30",
          "2022-01-10 18:52:20+05:30",
          "2022-01-09 18:34:10+05:30",
          "2022-01-07 20:08:41+05:30",
          "2022-01-06 19:08:00+05:30",
          "2022-01-05 19:32:22+05:30",
          "2022-01-03 19:33:52+05:30",
          "2021-12-31 19:06:49+05:30",
          "2021-12-31 12:24:48+05:30",
          "2021-12-29 19:38:05+05:30",
          "2021-12-28 19:00:49+05:30",
          "2021-12-24 21:05:34+05:30",
          "2021-12-23 19:36:43+05:30",
          "2021-12-22 20:24:43+05:30",
          "2021-12-21 19:53:59+05:30",
          "2021-12-19 17:33:34+05:30",
          "2021-12-17 21:18:49+05:30",
          "2021-12-12 20:46:09+05:30",
          "2021-12-10 18:02:12+05:30",
          "2021-12-09 21:13:23+05:30",
          "2021-12-07 19:42:02+05:30",
          "2021-12-06 19:07:18+05:30",
          "2021-12-03 18:31:28+05:30",
          "2021-12-02 19:49:34+05:30",
          "2021-12-01 19:14:28+05:30",
          "2021-11-29 21:14:33+05:30",
          "2021-11-28 18:45:32+05:30",
          "2021-11-26 18:44:35+05:30",
          "2021-11-25 20:34:49+05:30",
          "2021-11-24 21:10:43+05:30",
          "2021-11-22 20:09:20+05:30",
          "2021-11-20 19:41:08+05:30",
          "2021-11-18 20:22:46+05:30",
          "2021-11-16 19:27:47+05:30",
          "2021-11-14 10:09:57+05:30",
          "2021-11-12 18:34:52+05:30",
          "2021-11-11 19:20:55+05:30",
          "2021-11-09 20:20:39+05:30",
          "2021-11-08 20:11:06+05:30",
          "2021-11-06 18:37:57+05:30",
          "2021-11-04 10:17:18+05:30",
          "2021-11-02 18:40:04+05:30",
          "2021-11-01 18:12:59+05:30",
          "2021-10-31 10:34:50+05:30",
          "2021-10-29 20:21:03+05:30",
          "2021-10-28 20:17:15+05:30",
          "2021-10-27 22:18:43+05:30",
          "2021-10-26 19:24:17+05:30",
          "2021-10-25 19:45:26+05:30",
          "2021-10-22 20:49:46+05:30",
          "2021-10-20 19:57:17+05:30",
          "2021-10-19 19:48:31+05:30",
          "2021-10-18 21:17:48+05:30",
          "2021-10-16 19:58:27+05:30",
          "2021-10-14 19:29:30+05:30",
          "2021-10-08 16:05:47+05:30",
          "2021-10-06 19:29:11+05:30",
          "2021-10-01 21:01:15+05:30",
          "2021-10-01 16:31:08+05:30",
          "2021-09-29 20:36:48+05:30",
          "2021-09-27 20:36:02+05:30",
          "2021-09-24 19:14:08+05:30",
          "2021-09-22 19:48:55+05:30",
          "2021-09-20 18:49:33+05:30",
          "2021-09-19 19:47:08+05:30",
          "2021-09-12 18:40:09+05:30",
          "2021-09-11 20:48:14+05:30",
          "2021-09-09 18:48:24+05:30",
          "2021-09-07 19:13:18+05:30",
          "2021-09-05 10:09:01+05:30",
          "2021-08-27 19:04:22+05:30",
          "2021-08-26 17:19:35+05:30",
          "2021-08-24 21:20:09+05:30",
          "2021-08-22 10:42:57+05:30",
          "2021-08-20 18:11:10+05:30",
          "2021-08-19 16:35:43+05:30",
          "2021-08-16 20:53:57+05:30",
          "2021-08-15 09:59:38+05:30",
          "2021-08-14 17:42:32+05:30",
          "2021-08-11 19:17:33+05:30",
          "2021-08-10 19:02:10+05:30",
          "2021-08-01 12:01:14+05:30",
          "2021-07-27 18:37:57+05:30",
          "2021-07-26 19:23:57+05:30",
          "2021-07-22 17:55:30+05:30",
          "2021-07-20 19:04:10+05:30",
          "2021-07-17 10:50:04+05:30",
          "2021-07-15 21:06:00+05:30",
          "2021-07-10 11:14:16+05:30",
          "2021-07-01 20:12:30+05:30",
          "2021-06-22 22:10:33+05:30",
          "2021-06-20 10:28:55+05:30",
          "2021-06-17 21:09:53+05:30",
          "2021-06-15 19:34:24+05:30",
          "2021-06-11 21:33:34+05:30",
          "2021-06-09 22:04:30+05:30",
          "2021-06-03 21:26:43+05:30",
          "2021-06-01 20:27:23+05:30",
          "2021-05-27 19:22:01+05:30",
          "2021-05-24 13:40:55+05:30",
          "2021-05-21 21:12:43+05:30",
          "2021-05-19 21:28:50+05:30",
          "2021-05-17 22:56:21+05:30",
          "2021-05-14 10:51:39+05:30",
          "2021-05-11 22:07:08+05:30",
          "2021-05-09 16:58:11+05:30",
          "2021-05-08 14:22:17+05:30",
          "2021-05-06 22:06:01+05:30",
          "2021-05-04 21:17:44+05:30",
          "2021-04-28 20:30:23+05:30",
          "2021-04-27 20:49:44+05:30",
          "2021-04-26 17:56:15+05:30",
          "2021-04-24 17:56:33+05:30",
          "2021-04-23 17:13:06+05:30",
          "2021-04-22 22:38:08+05:30",
          "2021-04-21 19:50:34+05:30",
          "2021-04-17 19:31:47+05:30",
          "2021-04-12 20:47:14+05:30",
          "2021-04-09 18:53:50+05:30",
          "2021-04-08 18:16:31+05:30",
          "2021-04-01 09:37:42+05:30",
          "2021-03-30 19:44:05+05:30",
          "2021-03-25 22:14:44+05:30",
          "2021-03-23 20:01:59+05:30",
          "2021-03-20 19:04:03+05:30",
          "2021-03-19 22:37:38+05:30",
          "2021-03-15 18:42:01+05:30",
          "2021-03-13 11:18:30+05:30",
          "2021-03-08 23:12:54+05:30",
          "2021-03-06 20:59:25+05:30",
          "2021-03-01 19:44:54+05:30",
          "2021-02-28 19:50:48+05:30",
          "2021-02-24 18:59:22+05:30",
          "2021-02-22 22:25:44+05:30",
          "2021-02-19 19:47:30+05:30",
          "2021-02-18 18:07:39+05:30",
          "2021-02-16 18:37:40+05:30",
          "2021-02-14 10:14:26+05:30",
          "2021-02-11 18:17:02+05:30",
          "2021-02-09 18:10:18+05:30",
          "2021-02-04 18:14:58+05:30",
          "2021-02-03 18:20:33+05:30",
          "2021-02-01 22:23:28+05:30",
          "2021-01-29 19:42:44+05:30",
          "2021-01-22 21:37:54+05:30",
          "2021-01-20 19:13:12+05:30",
          "2021-01-13 20:54:52+05:30",
          "2021-01-11 21:10:11+05:30",
          "2021-01-08 18:34:46+05:30",
          "2021-01-02 18:55:41+05:30",
          "2020-12-29 23:13:34+05:30",
          "2020-12-25 10:03:47+05:30",
          "2020-12-22 11:07:08+05:30",
          "2020-12-16 18:34:07+05:30",
          "2020-12-14 10:34:58+05:30",
          "2020-12-03 18:38:23+05:30",
          "2020-11-30 18:45:40+05:30",
          "2020-11-14 12:22:52+05:30",
          "2020-11-06 19:15:36+05:30",
          "2020-11-04 00:01:40+05:30",
          "2020-11-02 18:32:47+05:30",
          "2020-10-26 10:59:16+05:30",
          "2020-10-25 11:04:34+05:30",
          "2020-10-16 13:25:45+05:30",
          "2020-10-16 00:31:34+05:30",
          "2020-10-15 12:32:18+05:30",
          "2020-09-14 21:13:36+05:30",
          "2020-09-09 19:11:49+05:30",
          "2020-09-05 13:24:03+05:30",
          "2020-08-22 12:02:47+05:30",
          "2020-08-11 18:50:33+05:30",
          "2020-08-05 21:15:33+05:30",
          "2020-08-03 12:31:58+05:30",
          "2020-07-28 18:47:18+05:30",
          "2020-07-22 19:00:13+05:30",
          "2020-07-19 18:46:44+05:30",
          "2020-07-16 23:02:59+05:30",
          "2020-07-13 22:37:33+05:30",
          "2020-07-09 12:29:03+05:30",
          "2020-07-02 18:50:58+05:30",
          "2020-06-26 18:59:29+05:30",
          "2020-06-21 14:34:30+05:30",
          "2020-06-20 21:12:52+05:30",
          "2020-06-16 21:38:14+05:30",
          "2020-06-05 10:07:07+05:30",
          "2020-06-02 18:00:24+05:30",
          "2020-05-29 21:05:17+05:30",
          "2020-05-26 17:41:24+05:30",
          "2020-05-26 17:34:08+05:30",
          "2020-05-26 17:33:56+05:30",
          "2020-05-26 16:08:44+05:30",
          "2020-05-26 16:07:22+05:30",
          "2020-05-26 16:05:34+05:30",
          "2020-05-24 21:31:18+05:30",
          "2020-05-24 21:29:35+05:30",
          "2020-05-24 20:41:06+05:30",
          "2020-05-24 20:40:40+05:30",
          "2020-05-22 21:43:46+05:30",
          "2020-05-15 22:59:14+05:30",
          "2020-05-15 22:50:21+05:30",
          "2020-05-15 22:49:08+05:30",
          "2020-05-10 23:23:21+05:30",
          "2020-05-10 20:25:15+05:30",
          "2020-05-10 17:26:17+05:30",
          "2020-05-03 21:10:14+05:30",
          "2020-05-03 19:52:21+05:30",
          "2020-05-02 18:02:06+05:30",
          "2020-04-11 18:09:26+05:30",
          "2020-04-07 20:24:45+05:30",
          "2020-04-07 19:16:55+05:30",
          "2020-04-07 18:26:18+05:30",
          "2020-03-26 21:09:16+05:30",
          "2020-03-26 16:55:50+05:30",
          "2020-03-17 22:16:53+05:30",
          "2020-03-07 15:22:30+05:30",
          "2020-02-19 16:58:54+05:30",
          "2020-02-19 16:57:57+05:30",
          "2020-02-19 16:36:08+05:30",
          "2020-02-15 11:27:42+05:30",
          "2020-02-15 11:24:06+05:30",
          "2020-02-15 11:20:53+05:30",
          "2020-02-10 12:06:42+05:30",
          "2020-02-10 12:05:26+05:30",
          "2020-02-10 12:04:26+05:30",
          "2020-02-05 16:22:01+05:30",
          "2020-02-05 16:21:05+05:30",
          "2020-02-05 16:19:23+05:30",
          "2020-01-26 16:54:53+05:30",
          "2020-01-26 16:54:10+05:30",
          "2020-01-26 16:52:43+05:30",
          "2020-01-20 20:12:13+05:30",
          "2020-01-17 19:45:13+05:30",
          "2020-01-15 13:31:44+05:30",
          "2020-01-15 13:29:29+05:30",
          "2020-01-03 14:12:32+05:30",
          "2020-01-03 14:11:25+05:30",
          "2019-12-25 16:53:21+05:30",
          "2019-12-25 16:52:02+05:30",
          "2019-12-25 16:51:01+05:30",
          "2019-12-21 20:26:05+05:30",
          "2019-12-21 20:23:31+05:30",
          "2019-12-12 22:29:43+05:30",
          "2019-12-12 22:29:21+05:30",
          "2019-12-12 22:28:12+05:30",
          "2019-11-18 18:28:37+05:30",
          "2019-11-18 18:26:21+05:30",
          "2019-11-18 18:23:41+05:30",
          "2019-11-12 14:28:35+05:30",
          "2019-11-12 14:27:17+05:30",
          "2019-11-12 14:25:29+05:30",
          "2019-11-06 19:01:16+05:30",
          "2019-11-06 19:00:33+05:30",
          "2019-11-06 18:59:31+05:30",
          "2019-10-27 15:50:10+05:30",
          "2019-10-27 15:47:04+05:30",
          "2019-10-27 15:45:30+05:30",
          "2019-10-16 17:48:28+05:30",
          "2019-10-16 17:47:48+05:30",
          "2019-10-16 17:41:24+05:30",
          "2019-10-02 14:41:58+05:30",
          "2019-10-02 14:41:42+05:30",
          "2019-10-02 14:40:16+05:30",
          "2019-09-05 20:14:36+05:30",
          "2019-09-05 20:14:16+05:30",
          "2019-09-05 20:13:50+05:30",
          "2019-08-30 16:25:09+05:30",
          "2019-08-30 16:21:23+05:30",
          "2019-08-30 16:18:27+05:30",
          "2019-08-15 21:18:09+05:30",
          "2019-08-15 21:17:48+05:30",
          "2019-08-15 21:17:22+05:30",
          "2019-08-06 07:49:41+05:30",
          "2019-08-06 07:31:57+05:30",
          "2019-08-06 07:27:47+05:30",
          "2019-08-04 18:05:37+05:30",
          "2019-08-04 17:40:40+05:30",
          "2019-08-04 17:34:41+05:30",
          "2019-08-03 22:40:24+05:30",
          "2019-08-03 22:25:10+05:30",
          "2019-08-03 20:36:51+05:30"
         ],
         "y": [
          56,
          116,
          734,
          404,
          93,
          391,
          9474,
          186,
          201,
          426,
          395,
          316,
          243,
          1160,
          402,
          10606,
          577,
          1343,
          182,
          639,
          179,
          218,
          145,
          327,
          268,
          326,
          337,
          1229,
          537,
          427,
          563,
          996,
          2472,
          1145,
          1402,
          397,
          1707,
          405,
          283,
          161,
          6989,
          179,
          253,
          299,
          344,
          469,
          168,
          255,
          337,
          370,
          360,
          172,
          297,
          5766,
          3116,
          320,
          191,
          214,
          536,
          562,
          1512,
          187,
          1320,
          138,
          3718,
          2671,
          202,
          160,
          605,
          104,
          2308,
          128,
          306,
          167,
          453,
          13720,
          306,
          2840,
          282,
          225,
          111,
          138,
          6928,
          86,
          377,
          200,
          160,
          3818,
          2129,
          157,
          87,
          158,
          1557,
          108,
          58,
          1090,
          2496,
          1275,
          3344,
          218,
          142,
          258,
          7375,
          83,
          78,
          93,
          86,
          746,
          165,
          74,
          2580,
          403,
          131,
          521,
          92,
          347,
          103,
          1897,
          7034,
          2672,
          313,
          549,
          257,
          5406,
          2777,
          229,
          647,
          11135,
          3988,
          1783,
          228,
          681,
          324,
          142,
          5655,
          394,
          413,
          399,
          205,
          177,
          4520,
          328,
          1673,
          2819,
          239,
          222,
          21103,
          232,
          81,
          4616,
          407,
          78,
          64,
          138,
          1184,
          1716,
          4081,
          103,
          1384,
          62,
          117,
          87,
          96,
          34,
          204,
          106,
          11569,
          74,
          195,
          289,
          56,
          80,
          843,
          67,
          335,
          72,
          1619,
          9666,
          69,
          640,
          43,
          69,
          53,
          80,
          91,
          281,
          126,
          397,
          84,
          79,
          154,
          3329,
          451,
          1099,
          102,
          120,
          71,
          12545,
          95,
          68,
          7349,
          150,
          59,
          81,
          15486,
          92,
          497,
          109,
          121,
          181,
          456,
          515,
          141,
          101,
          4854,
          819,
          140,
          66,
          304,
          67,
          2578,
          696,
          398,
          159,
          154,
          69,
          2088,
          145,
          581,
          758,
          1133,
          6403,
          232,
          1470,
          48,
          147,
          211,
          124,
          137,
          198,
          103,
          100,
          691,
          126,
          1224,
          4557,
          2416,
          827,
          17966,
          102,
          65,
          329,
          87,
          2025,
          62,
          44,
          54,
          109,
          99,
          365,
          546,
          467,
          104,
          25,
          40,
          63,
          38,
          29,
          5035,
          53,
          138,
          62,
          37,
          40,
          79,
          2223,
          118,
          79,
          82,
          76,
          29,
          61,
          747,
          39,
          183,
          20,
          33,
          2467,
          45,
          26,
          35,
          25,
          45,
          285,
          33,
          61,
          52,
          114,
          51,
          141,
          194,
          222,
          65,
          1039,
          79,
          95,
          518,
          121,
          58,
          152,
          61,
          64,
          66,
          413,
          91,
          900,
          843,
          117,
          203,
          2397,
          123,
          155,
          2568,
          104,
          385,
          36,
          33,
          3790,
          40,
          29,
          17,
          117,
          29,
          54,
          42,
          2620,
          2284,
          255,
          45,
          49,
          3837,
          43,
          262,
          75,
          904,
          11491,
          392,
          28,
          38,
          59,
          1109,
          1944,
          76,
          61,
          1191,
          65,
          22,
          142,
          154,
          63,
          86,
          1185,
          47,
          286,
          88,
          63,
          3649,
          164,
          62,
          162,
          89,
          68,
          75,
          77,
          962,
          63,
          987,
          34,
          386,
          121,
          36,
          82,
          959,
          501,
          46,
          194,
          40,
          139,
          270,
          75,
          2953,
          27,
          256,
          88,
          27,
          47,
          53,
          354,
          94,
          69,
          37,
          60,
          48,
          509,
          30,
          243,
          156,
          56,
          126,
          539,
          53,
          45,
          20,
          188,
          1226,
          53,
          34,
          179,
          43,
          284,
          124,
          86,
          66,
          224,
          6866,
          152,
          221,
          125,
          90,
          133,
          208,
          242,
          137,
          174,
          236,
          322,
          86,
          288,
          255,
          334,
          324,
          156,
          459,
          131,
          151,
          110,
          70,
          99,
          111,
          53,
          59,
          67,
          496,
          89,
          161,
          132,
          133,
          196,
          145,
          591,
          215,
          80,
          143,
          47,
          42,
          259,
          585,
          255,
          61,
          146,
          361,
          36,
          37,
          113,
          53,
          73,
          82,
          135,
          691,
          247,
          63,
          77,
          29,
          7,
          40,
          52,
          18,
          49,
          53,
          93,
          86,
          75,
          20,
          86,
          63,
          44,
          138,
          399,
          58,
          50,
          119,
          101,
          50,
          122,
          57,
          95,
          69,
          157,
          73,
          69,
          48,
          182,
          119,
          110,
          401,
          43,
          57,
          111,
          37,
          274,
          25,
          24,
          83,
          59,
          15,
          14,
          60,
          11,
          14,
          12,
          26,
          23,
          24,
          49,
          164,
          7,
          13,
          6,
          20,
          7,
          4,
          3,
          3,
          1,
          5,
          1,
          3,
          2,
          0,
          0,
          0,
          0,
          2,
          0,
          0,
          3,
          1,
          0,
          2,
          1,
          0,
          4,
          2,
          0,
          8,
          7,
          0,
          0,
          1,
          0,
          0,
          0,
          4,
          0,
          1,
          1,
          8,
          1,
          3,
          0,
          0,
          0,
          1,
          0,
          2,
          1,
          0,
          3,
          0,
          0,
          0,
          0,
          1,
          0,
          0,
          0,
          0,
          0,
          1,
          9,
          6,
          15,
          4,
          1,
          3,
          1,
          0,
          0,
          0,
          3,
          0,
          0,
          0,
          0,
          2,
          51,
          9,
          0,
          0,
          0,
          0,
          0,
          0,
          2,
          0,
          1,
          0,
          0,
          0,
          2,
          0,
          0,
          0,
          0,
          0,
          0,
          4,
          0
         ]
        }
       ],
       "layout": {
        "template": {
         "data": {
          "bar": [
           {
            "error_x": {
             "color": "#2a3f5f"
            },
            "error_y": {
             "color": "#2a3f5f"
            },
            "marker": {
             "line": {
              "color": "#E5ECF6",
              "width": 0.5
             },
             "pattern": {
              "fillmode": "overlay",
              "size": 10,
              "solidity": 0.2
             }
            },
            "type": "bar"
           }
          ],
          "barpolar": [
           {
            "marker": {
             "line": {
              "color": "#E5ECF6",
              "width": 0.5
             },
             "pattern": {
              "fillmode": "overlay",
              "size": 10,
              "solidity": 0.2
             }
            },
            "type": "barpolar"
           }
          ],
          "carpet": [
           {
            "aaxis": {
             "endlinecolor": "#2a3f5f",
             "gridcolor": "white",
             "linecolor": "white",
             "minorgridcolor": "white",
             "startlinecolor": "#2a3f5f"
            },
            "baxis": {
             "endlinecolor": "#2a3f5f",
             "gridcolor": "white",
             "linecolor": "white",
             "minorgridcolor": "white",
             "startlinecolor": "#2a3f5f"
            },
            "type": "carpet"
           }
          ],
          "choropleth": [
           {
            "colorbar": {
             "outlinewidth": 0,
             "ticks": ""
            },
            "type": "choropleth"
           }
          ],
          "contour": [
           {
            "colorbar": {
             "outlinewidth": 0,
             "ticks": ""
            },
            "colorscale": [
             [
              0,
              "#0d0887"
             ],
             [
              0.1111111111111111,
              "#46039f"
             ],
             [
              0.2222222222222222,
              "#7201a8"
             ],
             [
              0.3333333333333333,
              "#9c179e"
             ],
             [
              0.4444444444444444,
              "#bd3786"
             ],
             [
              0.5555555555555556,
              "#d8576b"
             ],
             [
              0.6666666666666666,
              "#ed7953"
             ],
             [
              0.7777777777777778,
              "#fb9f3a"
             ],
             [
              0.8888888888888888,
              "#fdca26"
             ],
             [
              1,
              "#f0f921"
             ]
            ],
            "type": "contour"
           }
          ],
          "contourcarpet": [
           {
            "colorbar": {
             "outlinewidth": 0,
             "ticks": ""
            },
            "type": "contourcarpet"
           }
          ],
          "heatmap": [
           {
            "colorbar": {
             "outlinewidth": 0,
             "ticks": ""
            },
            "colorscale": [
             [
              0,
              "#0d0887"
             ],
             [
              0.1111111111111111,
              "#46039f"
             ],
             [
              0.2222222222222222,
              "#7201a8"
             ],
             [
              0.3333333333333333,
              "#9c179e"
             ],
             [
              0.4444444444444444,
              "#bd3786"
             ],
             [
              0.5555555555555556,
              "#d8576b"
             ],
             [
              0.6666666666666666,
              "#ed7953"
             ],
             [
              0.7777777777777778,
              "#fb9f3a"
             ],
             [
              0.8888888888888888,
              "#fdca26"
             ],
             [
              1,
              "#f0f921"
             ]
            ],
            "type": "heatmap"
           }
          ],
          "heatmapgl": [
           {
            "colorbar": {
             "outlinewidth": 0,
             "ticks": ""
            },
            "colorscale": [
             [
              0,
              "#0d0887"
             ],
             [
              0.1111111111111111,
              "#46039f"
             ],
             [
              0.2222222222222222,
              "#7201a8"
             ],
             [
              0.3333333333333333,
              "#9c179e"
             ],
             [
              0.4444444444444444,
              "#bd3786"
             ],
             [
              0.5555555555555556,
              "#d8576b"
             ],
             [
              0.6666666666666666,
              "#ed7953"
             ],
             [
              0.7777777777777778,
              "#fb9f3a"
             ],
             [
              0.8888888888888888,
              "#fdca26"
             ],
             [
              1,
              "#f0f921"
             ]
            ],
            "type": "heatmapgl"
           }
          ],
          "histogram": [
           {
            "marker": {
             "pattern": {
              "fillmode": "overlay",
              "size": 10,
              "solidity": 0.2
             }
            },
            "type": "histogram"
           }
          ],
          "histogram2d": [
           {
            "colorbar": {
             "outlinewidth": 0,
             "ticks": ""
            },
            "colorscale": [
             [
              0,
              "#0d0887"
             ],
             [
              0.1111111111111111,
              "#46039f"
             ],
             [
              0.2222222222222222,
              "#7201a8"
             ],
             [
              0.3333333333333333,
              "#9c179e"
             ],
             [
              0.4444444444444444,
              "#bd3786"
             ],
             [
              0.5555555555555556,
              "#d8576b"
             ],
             [
              0.6666666666666666,
              "#ed7953"
             ],
             [
              0.7777777777777778,
              "#fb9f3a"
             ],
             [
              0.8888888888888888,
              "#fdca26"
             ],
             [
              1,
              "#f0f921"
             ]
            ],
            "type": "histogram2d"
           }
          ],
          "histogram2dcontour": [
           {
            "colorbar": {
             "outlinewidth": 0,
             "ticks": ""
            },
            "colorscale": [
             [
              0,
              "#0d0887"
             ],
             [
              0.1111111111111111,
              "#46039f"
             ],
             [
              0.2222222222222222,
              "#7201a8"
             ],
             [
              0.3333333333333333,
              "#9c179e"
             ],
             [
              0.4444444444444444,
              "#bd3786"
             ],
             [
              0.5555555555555556,
              "#d8576b"
             ],
             [
              0.6666666666666666,
              "#ed7953"
             ],
             [
              0.7777777777777778,
              "#fb9f3a"
             ],
             [
              0.8888888888888888,
              "#fdca26"
             ],
             [
              1,
              "#f0f921"
             ]
            ],
            "type": "histogram2dcontour"
           }
          ],
          "mesh3d": [
           {
            "colorbar": {
             "outlinewidth": 0,
             "ticks": ""
            },
            "type": "mesh3d"
           }
          ],
          "parcoords": [
           {
            "line": {
             "colorbar": {
              "outlinewidth": 0,
              "ticks": ""
             }
            },
            "type": "parcoords"
           }
          ],
          "pie": [
           {
            "automargin": true,
            "type": "pie"
           }
          ],
          "scatter": [
           {
            "fillpattern": {
             "fillmode": "overlay",
             "size": 10,
             "solidity": 0.2
            },
            "type": "scatter"
           }
          ],
          "scatter3d": [
           {
            "line": {
             "colorbar": {
              "outlinewidth": 0,
              "ticks": ""
             }
            },
            "marker": {
             "colorbar": {
              "outlinewidth": 0,
              "ticks": ""
             }
            },
            "type": "scatter3d"
           }
          ],
          "scattercarpet": [
           {
            "marker": {
             "colorbar": {
              "outlinewidth": 0,
              "ticks": ""
             }
            },
            "type": "scattercarpet"
           }
          ],
          "scattergeo": [
           {
            "marker": {
             "colorbar": {
              "outlinewidth": 0,
              "ticks": ""
             }
            },
            "type": "scattergeo"
           }
          ],
          "scattergl": [
           {
            "marker": {
             "colorbar": {
              "outlinewidth": 0,
              "ticks": ""
             }
            },
            "type": "scattergl"
           }
          ],
          "scattermapbox": [
           {
            "marker": {
             "colorbar": {
              "outlinewidth": 0,
              "ticks": ""
             }
            },
            "type": "scattermapbox"
           }
          ],
          "scatterpolar": [
           {
            "marker": {
             "colorbar": {
              "outlinewidth": 0,
              "ticks": ""
             }
            },
            "type": "scatterpolar"
           }
          ],
          "scatterpolargl": [
           {
            "marker": {
             "colorbar": {
              "outlinewidth": 0,
              "ticks": ""
             }
            },
            "type": "scatterpolargl"
           }
          ],
          "scatterternary": [
           {
            "marker": {
             "colorbar": {
              "outlinewidth": 0,
              "ticks": ""
             }
            },
            "type": "scatterternary"
           }
          ],
          "surface": [
           {
            "colorbar": {
             "outlinewidth": 0,
             "ticks": ""
            },
            "colorscale": [
             [
              0,
              "#0d0887"
             ],
             [
              0.1111111111111111,
              "#46039f"
             ],
             [
              0.2222222222222222,
              "#7201a8"
             ],
             [
              0.3333333333333333,
              "#9c179e"
             ],
             [
              0.4444444444444444,
              "#bd3786"
             ],
             [
              0.5555555555555556,
              "#d8576b"
             ],
             [
              0.6666666666666666,
              "#ed7953"
             ],
             [
              0.7777777777777778,
              "#fb9f3a"
             ],
             [
              0.8888888888888888,
              "#fdca26"
             ],
             [
              1,
              "#f0f921"
             ]
            ],
            "type": "surface"
           }
          ],
          "table": [
           {
            "cells": {
             "fill": {
              "color": "#EBF0F8"
             },
             "line": {
              "color": "white"
             }
            },
            "header": {
             "fill": {
              "color": "#C8D4E3"
             },
             "line": {
              "color": "white"
             }
            },
            "type": "table"
           }
          ]
         },
         "layout": {
          "annotationdefaults": {
           "arrowcolor": "#2a3f5f",
           "arrowhead": 0,
           "arrowwidth": 1
          },
          "autotypenumbers": "strict",
          "coloraxis": {
           "colorbar": {
            "outlinewidth": 0,
            "ticks": ""
           }
          },
          "colorscale": {
           "diverging": [
            [
             0,
             "#8e0152"
            ],
            [
             0.1,
             "#c51b7d"
            ],
            [
             0.2,
             "#de77ae"
            ],
            [
             0.3,
             "#f1b6da"
            ],
            [
             0.4,
             "#fde0ef"
            ],
            [
             0.5,
             "#f7f7f7"
            ],
            [
             0.6,
             "#e6f5d0"
            ],
            [
             0.7,
             "#b8e186"
            ],
            [
             0.8,
             "#7fbc41"
            ],
            [
             0.9,
             "#4d9221"
            ],
            [
             1,
             "#276419"
            ]
           ],
           "sequential": [
            [
             0,
             "#0d0887"
            ],
            [
             0.1111111111111111,
             "#46039f"
            ],
            [
             0.2222222222222222,
             "#7201a8"
            ],
            [
             0.3333333333333333,
             "#9c179e"
            ],
            [
             0.4444444444444444,
             "#bd3786"
            ],
            [
             0.5555555555555556,
             "#d8576b"
            ],
            [
             0.6666666666666666,
             "#ed7953"
            ],
            [
             0.7777777777777778,
             "#fb9f3a"
            ],
            [
             0.8888888888888888,
             "#fdca26"
            ],
            [
             1,
             "#f0f921"
            ]
           ],
           "sequentialminus": [
            [
             0,
             "#0d0887"
            ],
            [
             0.1111111111111111,
             "#46039f"
            ],
            [
             0.2222222222222222,
             "#7201a8"
            ],
            [
             0.3333333333333333,
             "#9c179e"
            ],
            [
             0.4444444444444444,
             "#bd3786"
            ],
            [
             0.5555555555555556,
             "#d8576b"
            ],
            [
             0.6666666666666666,
             "#ed7953"
            ],
            [
             0.7777777777777778,
             "#fb9f3a"
            ],
            [
             0.8888888888888888,
             "#fdca26"
            ],
            [
             1,
             "#f0f921"
            ]
           ]
          },
          "colorway": [
           "#636efa",
           "#EF553B",
           "#00cc96",
           "#ab63fa",
           "#FFA15A",
           "#19d3f3",
           "#FF6692",
           "#B6E880",
           "#FF97FF",
           "#FECB52"
          ],
          "font": {
           "color": "#2a3f5f"
          },
          "geo": {
           "bgcolor": "white",
           "lakecolor": "white",
           "landcolor": "#E5ECF6",
           "showlakes": true,
           "showland": true,
           "subunitcolor": "white"
          },
          "hoverlabel": {
           "align": "left"
          },
          "hovermode": "closest",
          "mapbox": {
           "style": "light"
          },
          "paper_bgcolor": "white",
          "plot_bgcolor": "#E5ECF6",
          "polar": {
           "angularaxis": {
            "gridcolor": "white",
            "linecolor": "white",
            "ticks": ""
           },
           "bgcolor": "#E5ECF6",
           "radialaxis": {
            "gridcolor": "white",
            "linecolor": "white",
            "ticks": ""
           }
          },
          "scene": {
           "xaxis": {
            "backgroundcolor": "#E5ECF6",
            "gridcolor": "white",
            "gridwidth": 2,
            "linecolor": "white",
            "showbackground": true,
            "ticks": "",
            "zerolinecolor": "white"
           },
           "yaxis": {
            "backgroundcolor": "#E5ECF6",
            "gridcolor": "white",
            "gridwidth": 2,
            "linecolor": "white",
            "showbackground": true,
            "ticks": "",
            "zerolinecolor": "white"
           },
           "zaxis": {
            "backgroundcolor": "#E5ECF6",
            "gridcolor": "white",
            "gridwidth": 2,
            "linecolor": "white",
            "showbackground": true,
            "ticks": "",
            "zerolinecolor": "white"
           }
          },
          "shapedefaults": {
           "line": {
            "color": "#2a3f5f"
           }
          },
          "ternary": {
           "aaxis": {
            "gridcolor": "white",
            "linecolor": "white",
            "ticks": ""
           },
           "baxis": {
            "gridcolor": "white",
            "linecolor": "white",
            "ticks": ""
           },
           "bgcolor": "#E5ECF6",
           "caxis": {
            "gridcolor": "white",
            "linecolor": "white",
            "ticks": ""
           }
          },
          "title": {
           "x": 0.05
          },
          "xaxis": {
           "automargin": true,
           "gridcolor": "white",
           "linecolor": "white",
           "ticks": "",
           "title": {
            "standoff": 15
           },
           "zerolinecolor": "white",
           "zerolinewidth": 2
          },
          "yaxis": {
           "automargin": true,
           "gridcolor": "white",
           "linecolor": "white",
           "ticks": "",
           "title": {
            "standoff": 15
           },
           "zerolinecolor": "white",
           "zerolinewidth": 2
          }
         }
        },
        "title": {
         "text": "Number of Interactions Over Time"
        },
        "xaxis": {
         "title": {
          "text": "Upload Time"
         }
        },
        "yaxis": {
         "title": {
          "text": "Number of Interactions"
         }
        }
       }
      }
     },
     "metadata": {},
     "output_type": "display_data"
    }
   ],
   "source": [
    "fig = go.Figure()\n",
    "\n",
    "fig.add_trace(go.Scatter(\n",
    "    x=df['upload_time'],\n",
    "    y=df['num_likes'],\n",
    "    mode='lines',\n",
    "    name='Likes'\n",
    "))\n",
    "\n",
    "fig.add_trace(go.Scatter(\n",
    "    x=df['upload_time'],\n",
    "    y=df['num_comments'],\n",
    "    mode='lines',\n",
    "    name='Comments'\n",
    "))\n",
    "\n",
    "fig.update_layout(\n",
    "    title='Number of Interactions Over Time',\n",
    "    xaxis_title='Upload Time',\n",
    "    yaxis_title='Number of Interactions'\n",
    ")\n",
    "\n",
    "fig.show()"
   ]
  },
  {
   "cell_type": "code",
   "execution_count": 8,
   "metadata": {},
   "outputs": [
    {
     "data": {
      "application/vnd.plotly.v1+json": {
       "config": {
        "plotlyServerURL": "https://plot.ly"
       },
       "data": [
        {
         "marker": {
          "color": "blue",
          "opacity": 0.5
         },
         "name": "Likes",
         "type": "histogram",
         "x": [
          3847,
          5726,
          15523,
          31783,
          14304,
          18929,
          11592,
          11431,
          13209,
          19655,
          19359,
          11908,
          12764,
          39785,
          31532,
          30407,
          14839,
          11206,
          10835,
          15642,
          11307,
          18562,
          11036,
          18529,
          16193,
          15388,
          29442,
          340994,
          33008,
          21215,
          21790,
          13124,
          30047,
          20768,
          22812,
          27383,
          13570,
          29894,
          18901,
          16631,
          21110,
          15540,
          11947,
          18454,
          33526,
          25207,
          14274,
          23782,
          19016,
          27526,
          64208,
          15522,
          22573,
          20470,
          28371,
          18690,
          14705,
          12901,
          42345,
          17685,
          23681,
          22677,
          35241,
          13578,
          18720,
          13488,
          13783,
          27483,
          25326,
          22089,
          11199,
          21782,
          17172,
          17968,
          27860,
          31366,
          26361,
          15544,
          12726,
          30212,
          19009,
          12296,
          34636,
          9380,
          14630,
          25259,
          13807,
          18387,
          29535,
          11126,
          13035,
          21656,
          18775,
          11301,
          10580,
          16185,
          15115,
          15819,
          25102,
          16156,
          11607,
          34701,
          33029,
          9788,
          20151,
          16409,
          11503,
          14160,
          26659,
          10743,
          15662,
          13293,
          13139,
          24357,
          12088,
          17923,
          12084,
          30642,
          33334,
          27711,
          32602,
          14049,
          28365,
          29416,
          28230,
          18233,
          10613,
          26843,
          13843,
          15042,
          19922,
          19176,
          20751,
          8979,
          19218,
          12084,
          17508,
          15784,
          13834,
          9503,
          18973,
          16899,
          8844,
          12368,
          16670,
          15628,
          13685,
          9452,
          6161,
          10763,
          4037,
          6281,
          6196,
          9137,
          5057,
          8135,
          10472,
          5099,
          5185,
          4459,
          10162,
          3313,
          4666,
          5058,
          4574,
          6059,
          12595,
          7117,
          5020,
          3840,
          3740,
          4537,
          4614,
          4633,
          13136,
          4164,
          5733,
          15640,
          3883,
          10345,
          5626,
          3184,
          5711,
          4520,
          7254,
          11801,
          3314,
          2709,
          3792,
          3460,
          6118,
          7585,
          4829,
          4318,
          3140,
          5206,
          3197,
          12455,
          5249,
          3720,
          8820,
          3282,
          3301,
          6435,
          16572,
          5523,
          3307,
          3674,
          4920,
          4123,
          6942,
          3266,
          5130,
          4885,
          13039,
          3639,
          3826,
          3170,
          6670,
          3324,
          4919,
          4290,
          3845,
          8037,
          3642,
          3897,
          5376,
          4302,
          4219,
          7308,
          3618,
          4422,
          7748,
          4404,
          3517,
          6629,
          6859,
          5471,
          5901,
          4227,
          3050,
          2922,
          3322,
          5719,
          7858,
          6672,
          4135,
          3759,
          3171,
          3810,
          3528,
          2577,
          2937,
          3916,
          2451,
          3344,
          3503,
          2858,
          27896,
          4417,
          2911,
          2385,
          5186,
          2548,
          3385,
          4588,
          3022,
          2979,
          3475,
          2577,
          4052,
          3898,
          4835,
          1876,
          4325,
          2639,
          3480,
          2305,
          4928,
          2917,
          2322,
          3443,
          4125,
          2245,
          3122,
          3391,
          1827,
          3431,
          3984,
          3239,
          3587,
          2250,
          2798,
          2429,
          2008,
          2466,
          4525,
          4576,
          3275,
          2782,
          2910,
          4418,
          3184,
          5564,
          1911,
          2442,
          3083,
          3905,
          2157,
          6335,
          4583,
          3594,
          5257,
          4919,
          2459,
          2768,
          2520,
          6651,
          3188,
          3301,
          2702,
          4213,
          4397,
          1836,
          2630,
          1684,
          1647,
          3579,
          2674,
          1735,
          1491,
          3170,
          1494,
          1683,
          1865,
          3133,
          1646,
          1819,
          1697,
          3074,
          1796,
          1744,
          2678,
          2626,
          3442,
          2787,
          1585,
          2102,
          1252,
          1440,
          3400,
          3242,
          1662,
          1983,
          2235,
          2032,
          2050,
          4534,
          1955,
          2969,
          2259,
          2512,
          3187,
          1930,
          2173,
          1555,
          1867,
          1661,
          3305,
          2905,
          2117,
          2067,
          2515,
          1547,
          3188,
          1504,
          3897,
          2190,
          3486,
          3160,
          1156,
          2273,
          1991,
          2294,
          3127,
          2426,
          1502,
          2562,
          2745,
          1807,
          6900,
          1264,
          3938,
          3107,
          3283,
          2878,
          1796,
          3600,
          2525,
          1645,
          3279,
          3146,
          2215,
          2510,
          2122,
          4485,
          2237,
          2482,
          2593,
          3304,
          1109,
          4044,
          1178,
          8168,
          5612,
          2868,
          2020,
          3137,
          2032,
          2721,
          3523,
          2142,
          2888,
          2423,
          6182,
          3868,
          4566,
          2716,
          1858,
          4206,
          3309,
          4151,
          6206,
          2654,
          3439,
          4758,
          2517,
          2373,
          2994,
          3403,
          2857,
          2464,
          3670,
          2260,
          2728,
          2679,
          1470,
          1708,
          2033,
          1660,
          2949,
          2408,
          2526,
          2020,
          1912,
          2743,
          2166,
          3169,
          2970,
          3374,
          2880,
          2081,
          3163,
          1512,
          1368,
          2797,
          2080,
          1393,
          1016,
          1515,
          1814,
          1897,
          1621,
          2172,
          1150,
          1700,
          1497,
          2212,
          6461,
          2577,
          1601,
          1872,
          1276,
          1431,
          1827,
          1977,
          1604,
          1432,
          1823,
          3619,
          2596,
          3403,
          1222,
          3189,
          3066,
          2065,
          3016,
          4061,
          1390,
          1610,
          3043,
          2674,
          1877,
          3109,
          1548,
          2400,
          2157,
          1549,
          1877,
          1734,
          1715,
          3103,
          2956,
          1782,
          2713,
          1345,
          2331,
          1871,
          1579,
          1683,
          1261,
          1593,
          5098,
          2095,
          1141,
          658,
          1000,
          673,
          858,
          648,
          780,
          800,
          651,
          996,
          1039,
          646,
          749,
          465,
          582,
          540,
          512,
          382,
          399,
          467,
          504,
          359,
          373,
          372,
          72,
          74,
          84,
          352,
          438,
          80,
          107,
          355,
          302,
          352,
          336,
          365,
          300,
          511,
          430,
          293,
          280,
          354,
          266,
          270,
          278,
          280,
          319,
          290,
          392,
          278,
          287,
          296,
          404,
          284,
          293,
          288,
          317,
          282,
          344,
          314,
          426,
          383,
          260,
          336,
          351,
          355,
          663,
          312,
          251,
          282,
          234,
          239,
          242,
          234,
          266,
          261,
          252,
          245,
          342,
          345,
          291,
          310,
          319,
          276,
          242,
          276,
          252,
          279,
          266,
          289,
          388,
          358,
          411,
          249,
          244,
          236,
          240,
          262,
          272,
          402,
          279,
          343,
          262,
          279,
          277,
          270,
          294,
          313,
          274,
          301,
          297,
          295,
          310,
          363
         ],
         "xbins": {
          "end": 340994,
          "size": 17046,
          "start": 72
         }
        },
        {
         "marker": {
          "color": "red",
          "opacity": 0.5
         },
         "name": "Comments",
         "type": "histogram",
         "x": [
          56,
          116,
          734,
          404,
          93,
          391,
          9474,
          186,
          201,
          426,
          395,
          316,
          243,
          1160,
          402,
          10606,
          577,
          1343,
          182,
          639,
          179,
          218,
          145,
          327,
          268,
          326,
          337,
          1229,
          537,
          427,
          563,
          996,
          2472,
          1145,
          1402,
          397,
          1707,
          405,
          283,
          161,
          6989,
          179,
          253,
          299,
          344,
          469,
          168,
          255,
          337,
          370,
          360,
          172,
          297,
          5766,
          3116,
          320,
          191,
          214,
          536,
          562,
          1512,
          187,
          1320,
          138,
          3718,
          2671,
          202,
          160,
          605,
          104,
          2308,
          128,
          306,
          167,
          453,
          13720,
          306,
          2840,
          282,
          225,
          111,
          138,
          6928,
          86,
          377,
          200,
          160,
          3818,
          2129,
          157,
          87,
          158,
          1557,
          108,
          58,
          1090,
          2496,
          1275,
          3344,
          218,
          142,
          258,
          7375,
          83,
          78,
          93,
          86,
          746,
          165,
          74,
          2580,
          403,
          131,
          521,
          92,
          347,
          103,
          1897,
          7034,
          2672,
          313,
          549,
          257,
          5406,
          2777,
          229,
          647,
          11135,
          3988,
          1783,
          228,
          681,
          324,
          142,
          5655,
          394,
          413,
          399,
          205,
          177,
          4520,
          328,
          1673,
          2819,
          239,
          222,
          21103,
          232,
          81,
          4616,
          407,
          78,
          64,
          138,
          1184,
          1716,
          4081,
          103,
          1384,
          62,
          117,
          87,
          96,
          34,
          204,
          106,
          11569,
          74,
          195,
          289,
          56,
          80,
          843,
          67,
          335,
          72,
          1619,
          9666,
          69,
          640,
          43,
          69,
          53,
          80,
          91,
          281,
          126,
          397,
          84,
          79,
          154,
          3329,
          451,
          1099,
          102,
          120,
          71,
          12545,
          95,
          68,
          7349,
          150,
          59,
          81,
          15486,
          92,
          497,
          109,
          121,
          181,
          456,
          515,
          141,
          101,
          4854,
          819,
          140,
          66,
          304,
          67,
          2578,
          696,
          398,
          159,
          154,
          69,
          2088,
          145,
          581,
          758,
          1133,
          6403,
          232,
          1470,
          48,
          147,
          211,
          124,
          137,
          198,
          103,
          100,
          691,
          126,
          1224,
          4557,
          2416,
          827,
          17966,
          102,
          65,
          329,
          87,
          2025,
          62,
          44,
          54,
          109,
          99,
          365,
          546,
          467,
          104,
          25,
          40,
          63,
          38,
          29,
          5035,
          53,
          138,
          62,
          37,
          40,
          79,
          2223,
          118,
          79,
          82,
          76,
          29,
          61,
          747,
          39,
          183,
          20,
          33,
          2467,
          45,
          26,
          35,
          25,
          45,
          285,
          33,
          61,
          52,
          114,
          51,
          141,
          194,
          222,
          65,
          1039,
          79,
          95,
          518,
          121,
          58,
          152,
          61,
          64,
          66,
          413,
          91,
          900,
          843,
          117,
          203,
          2397,
          123,
          155,
          2568,
          104,
          385,
          36,
          33,
          3790,
          40,
          29,
          17,
          117,
          29,
          54,
          42,
          2620,
          2284,
          255,
          45,
          49,
          3837,
          43,
          262,
          75,
          904,
          11491,
          392,
          28,
          38,
          59,
          1109,
          1944,
          76,
          61,
          1191,
          65,
          22,
          142,
          154,
          63,
          86,
          1185,
          47,
          286,
          88,
          63,
          3649,
          164,
          62,
          162,
          89,
          68,
          75,
          77,
          962,
          63,
          987,
          34,
          386,
          121,
          36,
          82,
          959,
          501,
          46,
          194,
          40,
          139,
          270,
          75,
          2953,
          27,
          256,
          88,
          27,
          47,
          53,
          354,
          94,
          69,
          37,
          60,
          48,
          509,
          30,
          243,
          156,
          56,
          126,
          539,
          53,
          45,
          20,
          188,
          1226,
          53,
          34,
          179,
          43,
          284,
          124,
          86,
          66,
          224,
          6866,
          152,
          221,
          125,
          90,
          133,
          208,
          242,
          137,
          174,
          236,
          322,
          86,
          288,
          255,
          334,
          324,
          156,
          459,
          131,
          151,
          110,
          70,
          99,
          111,
          53,
          59,
          67,
          496,
          89,
          161,
          132,
          133,
          196,
          145,
          591,
          215,
          80,
          143,
          47,
          42,
          259,
          585,
          255,
          61,
          146,
          361,
          36,
          37,
          113,
          53,
          73,
          82,
          135,
          691,
          247,
          63,
          77,
          29,
          7,
          40,
          52,
          18,
          49,
          53,
          93,
          86,
          75,
          20,
          86,
          63,
          44,
          138,
          399,
          58,
          50,
          119,
          101,
          50,
          122,
          57,
          95,
          69,
          157,
          73,
          69,
          48,
          182,
          119,
          110,
          401,
          43,
          57,
          111,
          37,
          274,
          25,
          24,
          83,
          59,
          15,
          14,
          60,
          11,
          14,
          12,
          26,
          23,
          24,
          49,
          164,
          7,
          13,
          6,
          20,
          7,
          4,
          3,
          3,
          1,
          5,
          1,
          3,
          2,
          0,
          0,
          0,
          0,
          2,
          0,
          0,
          3,
          1,
          0,
          2,
          1,
          0,
          4,
          2,
          0,
          8,
          7,
          0,
          0,
          1,
          0,
          0,
          0,
          4,
          0,
          1,
          1,
          8,
          1,
          3,
          0,
          0,
          0,
          1,
          0,
          2,
          1,
          0,
          3,
          0,
          0,
          0,
          0,
          1,
          0,
          0,
          0,
          0,
          0,
          1,
          9,
          6,
          15,
          4,
          1,
          3,
          1,
          0,
          0,
          0,
          3,
          0,
          0,
          0,
          0,
          2,
          51,
          9,
          0,
          0,
          0,
          0,
          0,
          0,
          2,
          0,
          1,
          0,
          0,
          0,
          2,
          0,
          0,
          0,
          0,
          0,
          0,
          4,
          0
         ],
         "xbins": {
          "end": 21103,
          "size": 1055,
          "start": 0
         }
        }
       ],
       "layout": {
        "template": {
         "data": {
          "bar": [
           {
            "error_x": {
             "color": "#2a3f5f"
            },
            "error_y": {
             "color": "#2a3f5f"
            },
            "marker": {
             "line": {
              "color": "#E5ECF6",
              "width": 0.5
             },
             "pattern": {
              "fillmode": "overlay",
              "size": 10,
              "solidity": 0.2
             }
            },
            "type": "bar"
           }
          ],
          "barpolar": [
           {
            "marker": {
             "line": {
              "color": "#E5ECF6",
              "width": 0.5
             },
             "pattern": {
              "fillmode": "overlay",
              "size": 10,
              "solidity": 0.2
             }
            },
            "type": "barpolar"
           }
          ],
          "carpet": [
           {
            "aaxis": {
             "endlinecolor": "#2a3f5f",
             "gridcolor": "white",
             "linecolor": "white",
             "minorgridcolor": "white",
             "startlinecolor": "#2a3f5f"
            },
            "baxis": {
             "endlinecolor": "#2a3f5f",
             "gridcolor": "white",
             "linecolor": "white",
             "minorgridcolor": "white",
             "startlinecolor": "#2a3f5f"
            },
            "type": "carpet"
           }
          ],
          "choropleth": [
           {
            "colorbar": {
             "outlinewidth": 0,
             "ticks": ""
            },
            "type": "choropleth"
           }
          ],
          "contour": [
           {
            "colorbar": {
             "outlinewidth": 0,
             "ticks": ""
            },
            "colorscale": [
             [
              0,
              "#0d0887"
             ],
             [
              0.1111111111111111,
              "#46039f"
             ],
             [
              0.2222222222222222,
              "#7201a8"
             ],
             [
              0.3333333333333333,
              "#9c179e"
             ],
             [
              0.4444444444444444,
              "#bd3786"
             ],
             [
              0.5555555555555556,
              "#d8576b"
             ],
             [
              0.6666666666666666,
              "#ed7953"
             ],
             [
              0.7777777777777778,
              "#fb9f3a"
             ],
             [
              0.8888888888888888,
              "#fdca26"
             ],
             [
              1,
              "#f0f921"
             ]
            ],
            "type": "contour"
           }
          ],
          "contourcarpet": [
           {
            "colorbar": {
             "outlinewidth": 0,
             "ticks": ""
            },
            "type": "contourcarpet"
           }
          ],
          "heatmap": [
           {
            "colorbar": {
             "outlinewidth": 0,
             "ticks": ""
            },
            "colorscale": [
             [
              0,
              "#0d0887"
             ],
             [
              0.1111111111111111,
              "#46039f"
             ],
             [
              0.2222222222222222,
              "#7201a8"
             ],
             [
              0.3333333333333333,
              "#9c179e"
             ],
             [
              0.4444444444444444,
              "#bd3786"
             ],
             [
              0.5555555555555556,
              "#d8576b"
             ],
             [
              0.6666666666666666,
              "#ed7953"
             ],
             [
              0.7777777777777778,
              "#fb9f3a"
             ],
             [
              0.8888888888888888,
              "#fdca26"
             ],
             [
              1,
              "#f0f921"
             ]
            ],
            "type": "heatmap"
           }
          ],
          "heatmapgl": [
           {
            "colorbar": {
             "outlinewidth": 0,
             "ticks": ""
            },
            "colorscale": [
             [
              0,
              "#0d0887"
             ],
             [
              0.1111111111111111,
              "#46039f"
             ],
             [
              0.2222222222222222,
              "#7201a8"
             ],
             [
              0.3333333333333333,
              "#9c179e"
             ],
             [
              0.4444444444444444,
              "#bd3786"
             ],
             [
              0.5555555555555556,
              "#d8576b"
             ],
             [
              0.6666666666666666,
              "#ed7953"
             ],
             [
              0.7777777777777778,
              "#fb9f3a"
             ],
             [
              0.8888888888888888,
              "#fdca26"
             ],
             [
              1,
              "#f0f921"
             ]
            ],
            "type": "heatmapgl"
           }
          ],
          "histogram": [
           {
            "marker": {
             "pattern": {
              "fillmode": "overlay",
              "size": 10,
              "solidity": 0.2
             }
            },
            "type": "histogram"
           }
          ],
          "histogram2d": [
           {
            "colorbar": {
             "outlinewidth": 0,
             "ticks": ""
            },
            "colorscale": [
             [
              0,
              "#0d0887"
             ],
             [
              0.1111111111111111,
              "#46039f"
             ],
             [
              0.2222222222222222,
              "#7201a8"
             ],
             [
              0.3333333333333333,
              "#9c179e"
             ],
             [
              0.4444444444444444,
              "#bd3786"
             ],
             [
              0.5555555555555556,
              "#d8576b"
             ],
             [
              0.6666666666666666,
              "#ed7953"
             ],
             [
              0.7777777777777778,
              "#fb9f3a"
             ],
             [
              0.8888888888888888,
              "#fdca26"
             ],
             [
              1,
              "#f0f921"
             ]
            ],
            "type": "histogram2d"
           }
          ],
          "histogram2dcontour": [
           {
            "colorbar": {
             "outlinewidth": 0,
             "ticks": ""
            },
            "colorscale": [
             [
              0,
              "#0d0887"
             ],
             [
              0.1111111111111111,
              "#46039f"
             ],
             [
              0.2222222222222222,
              "#7201a8"
             ],
             [
              0.3333333333333333,
              "#9c179e"
             ],
             [
              0.4444444444444444,
              "#bd3786"
             ],
             [
              0.5555555555555556,
              "#d8576b"
             ],
             [
              0.6666666666666666,
              "#ed7953"
             ],
             [
              0.7777777777777778,
              "#fb9f3a"
             ],
             [
              0.8888888888888888,
              "#fdca26"
             ],
             [
              1,
              "#f0f921"
             ]
            ],
            "type": "histogram2dcontour"
           }
          ],
          "mesh3d": [
           {
            "colorbar": {
             "outlinewidth": 0,
             "ticks": ""
            },
            "type": "mesh3d"
           }
          ],
          "parcoords": [
           {
            "line": {
             "colorbar": {
              "outlinewidth": 0,
              "ticks": ""
             }
            },
            "type": "parcoords"
           }
          ],
          "pie": [
           {
            "automargin": true,
            "type": "pie"
           }
          ],
          "scatter": [
           {
            "fillpattern": {
             "fillmode": "overlay",
             "size": 10,
             "solidity": 0.2
            },
            "type": "scatter"
           }
          ],
          "scatter3d": [
           {
            "line": {
             "colorbar": {
              "outlinewidth": 0,
              "ticks": ""
             }
            },
            "marker": {
             "colorbar": {
              "outlinewidth": 0,
              "ticks": ""
             }
            },
            "type": "scatter3d"
           }
          ],
          "scattercarpet": [
           {
            "marker": {
             "colorbar": {
              "outlinewidth": 0,
              "ticks": ""
             }
            },
            "type": "scattercarpet"
           }
          ],
          "scattergeo": [
           {
            "marker": {
             "colorbar": {
              "outlinewidth": 0,
              "ticks": ""
             }
            },
            "type": "scattergeo"
           }
          ],
          "scattergl": [
           {
            "marker": {
             "colorbar": {
              "outlinewidth": 0,
              "ticks": ""
             }
            },
            "type": "scattergl"
           }
          ],
          "scattermapbox": [
           {
            "marker": {
             "colorbar": {
              "outlinewidth": 0,
              "ticks": ""
             }
            },
            "type": "scattermapbox"
           }
          ],
          "scatterpolar": [
           {
            "marker": {
             "colorbar": {
              "outlinewidth": 0,
              "ticks": ""
             }
            },
            "type": "scatterpolar"
           }
          ],
          "scatterpolargl": [
           {
            "marker": {
             "colorbar": {
              "outlinewidth": 0,
              "ticks": ""
             }
            },
            "type": "scatterpolargl"
           }
          ],
          "scatterternary": [
           {
            "marker": {
             "colorbar": {
              "outlinewidth": 0,
              "ticks": ""
             }
            },
            "type": "scatterternary"
           }
          ],
          "surface": [
           {
            "colorbar": {
             "outlinewidth": 0,
             "ticks": ""
            },
            "colorscale": [
             [
              0,
              "#0d0887"
             ],
             [
              0.1111111111111111,
              "#46039f"
             ],
             [
              0.2222222222222222,
              "#7201a8"
             ],
             [
              0.3333333333333333,
              "#9c179e"
             ],
             [
              0.4444444444444444,
              "#bd3786"
             ],
             [
              0.5555555555555556,
              "#d8576b"
             ],
             [
              0.6666666666666666,
              "#ed7953"
             ],
             [
              0.7777777777777778,
              "#fb9f3a"
             ],
             [
              0.8888888888888888,
              "#fdca26"
             ],
             [
              1,
              "#f0f921"
             ]
            ],
            "type": "surface"
           }
          ],
          "table": [
           {
            "cells": {
             "fill": {
              "color": "#EBF0F8"
             },
             "line": {
              "color": "white"
             }
            },
            "header": {
             "fill": {
              "color": "#C8D4E3"
             },
             "line": {
              "color": "white"
             }
            },
            "type": "table"
           }
          ]
         },
         "layout": {
          "annotationdefaults": {
           "arrowcolor": "#2a3f5f",
           "arrowhead": 0,
           "arrowwidth": 1
          },
          "autotypenumbers": "strict",
          "coloraxis": {
           "colorbar": {
            "outlinewidth": 0,
            "ticks": ""
           }
          },
          "colorscale": {
           "diverging": [
            [
             0,
             "#8e0152"
            ],
            [
             0.1,
             "#c51b7d"
            ],
            [
             0.2,
             "#de77ae"
            ],
            [
             0.3,
             "#f1b6da"
            ],
            [
             0.4,
             "#fde0ef"
            ],
            [
             0.5,
             "#f7f7f7"
            ],
            [
             0.6,
             "#e6f5d0"
            ],
            [
             0.7,
             "#b8e186"
            ],
            [
             0.8,
             "#7fbc41"
            ],
            [
             0.9,
             "#4d9221"
            ],
            [
             1,
             "#276419"
            ]
           ],
           "sequential": [
            [
             0,
             "#0d0887"
            ],
            [
             0.1111111111111111,
             "#46039f"
            ],
            [
             0.2222222222222222,
             "#7201a8"
            ],
            [
             0.3333333333333333,
             "#9c179e"
            ],
            [
             0.4444444444444444,
             "#bd3786"
            ],
            [
             0.5555555555555556,
             "#d8576b"
            ],
            [
             0.6666666666666666,
             "#ed7953"
            ],
            [
             0.7777777777777778,
             "#fb9f3a"
            ],
            [
             0.8888888888888888,
             "#fdca26"
            ],
            [
             1,
             "#f0f921"
            ]
           ],
           "sequentialminus": [
            [
             0,
             "#0d0887"
            ],
            [
             0.1111111111111111,
             "#46039f"
            ],
            [
             0.2222222222222222,
             "#7201a8"
            ],
            [
             0.3333333333333333,
             "#9c179e"
            ],
            [
             0.4444444444444444,
             "#bd3786"
            ],
            [
             0.5555555555555556,
             "#d8576b"
            ],
            [
             0.6666666666666666,
             "#ed7953"
            ],
            [
             0.7777777777777778,
             "#fb9f3a"
            ],
            [
             0.8888888888888888,
             "#fdca26"
            ],
            [
             1,
             "#f0f921"
            ]
           ]
          },
          "colorway": [
           "#636efa",
           "#EF553B",
           "#00cc96",
           "#ab63fa",
           "#FFA15A",
           "#19d3f3",
           "#FF6692",
           "#B6E880",
           "#FF97FF",
           "#FECB52"
          ],
          "font": {
           "color": "#2a3f5f"
          },
          "geo": {
           "bgcolor": "white",
           "lakecolor": "white",
           "landcolor": "#E5ECF6",
           "showlakes": true,
           "showland": true,
           "subunitcolor": "white"
          },
          "hoverlabel": {
           "align": "left"
          },
          "hovermode": "closest",
          "mapbox": {
           "style": "light"
          },
          "paper_bgcolor": "white",
          "plot_bgcolor": "#E5ECF6",
          "polar": {
           "angularaxis": {
            "gridcolor": "white",
            "linecolor": "white",
            "ticks": ""
           },
           "bgcolor": "#E5ECF6",
           "radialaxis": {
            "gridcolor": "white",
            "linecolor": "white",
            "ticks": ""
           }
          },
          "scene": {
           "xaxis": {
            "backgroundcolor": "#E5ECF6",
            "gridcolor": "white",
            "gridwidth": 2,
            "linecolor": "white",
            "showbackground": true,
            "ticks": "",
            "zerolinecolor": "white"
           },
           "yaxis": {
            "backgroundcolor": "#E5ECF6",
            "gridcolor": "white",
            "gridwidth": 2,
            "linecolor": "white",
            "showbackground": true,
            "ticks": "",
            "zerolinecolor": "white"
           },
           "zaxis": {
            "backgroundcolor": "#E5ECF6",
            "gridcolor": "white",
            "gridwidth": 2,
            "linecolor": "white",
            "showbackground": true,
            "ticks": "",
            "zerolinecolor": "white"
           }
          },
          "shapedefaults": {
           "line": {
            "color": "#2a3f5f"
           }
          },
          "ternary": {
           "aaxis": {
            "gridcolor": "white",
            "linecolor": "white",
            "ticks": ""
           },
           "baxis": {
            "gridcolor": "white",
            "linecolor": "white",
            "ticks": ""
           },
           "bgcolor": "#E5ECF6",
           "caxis": {
            "gridcolor": "white",
            "linecolor": "white",
            "ticks": ""
           }
          },
          "title": {
           "x": 0.05
          },
          "xaxis": {
           "automargin": true,
           "gridcolor": "white",
           "linecolor": "white",
           "ticks": "",
           "title": {
            "standoff": 15
           },
           "zerolinecolor": "white",
           "zerolinewidth": 2
          },
          "yaxis": {
           "automargin": true,
           "gridcolor": "white",
           "linecolor": "white",
           "ticks": "",
           "title": {
            "standoff": 15
           },
           "zerolinecolor": "white",
           "zerolinewidth": 2
          }
         }
        },
        "title": {
         "text": "Frequency Distribution of Number of Interactions"
        },
        "xaxis": {
         "title": {
          "text": "Number of Interactions"
         }
        },
        "yaxis": {
         "title": {
          "text": "Frequency"
         }
        }
       }
      }
     },
     "metadata": {},
     "output_type": "display_data"
    }
   ],
   "source": [
    "fig = go.Figure()\n",
    "\n",
    "fig.add_trace(go.Histogram(\n",
    "    x=df['num_likes'],\n",
    "    name='Likes',\n",
    "    marker=dict(\n",
    "        color='blue',\n",
    "        opacity=0.5\n",
    "    ),\n",
    "    xbins=dict(\n",
    "        start=min(df['num_likes']),\n",
    "        end=max(df['num_likes']),\n",
    "        size=int((max(df['num_likes'])-min(df['num_likes']))/20)\n",
    "    ),\n",
    "))\n",
    "\n",
    "fig.add_trace(go.Histogram(\n",
    "    x=df['num_comments'],\n",
    "    name='Comments',\n",
    "    marker=dict(\n",
    "        color='red',\n",
    "        opacity=0.5\n",
    "    ),\n",
    "    xbins=dict(\n",
    "        start=min(df['num_comments']),\n",
    "        end=max(df['num_comments']),\n",
    "        size=int((max(df['num_comments'])-min(df['num_comments']))/20)\n",
    "    ),\n",
    "))\n",
    "\n",
    "fig.update_layout(\n",
    "    title='Frequency Distribution of Number of Interactions',\n",
    "    xaxis_title='Number of Interactions',\n",
    "    yaxis_title='Frequency'\n",
    ")\n",
    "\n",
    "fig.show()"
   ]
  },
  {
   "cell_type": "code",
   "execution_count": 11,
   "metadata": {},
   "outputs": [
    {
     "data": {
      "application/vnd.plotly.v1+json": {
       "config": {
        "plotlyServerURL": "https://plot.ly"
       },
       "data": [
        {
         "colorscale": [
          [
           0,
           "rgb(247,251,255)"
          ],
          [
           0.125,
           "rgb(222,235,247)"
          ],
          [
           0.25,
           "rgb(198,219,239)"
          ],
          [
           0.375,
           "rgb(158,202,225)"
          ],
          [
           0.5,
           "rgb(107,174,214)"
          ],
          [
           0.625,
           "rgb(66,146,198)"
          ],
          [
           0.75,
           "rgb(33,113,181)"
          ],
          [
           0.875,
           "rgb(8,81,156)"
          ],
          [
           1,
           "rgb(8,48,107)"
          ]
         ],
         "type": "heatmap",
         "x": [
          0,
          1,
          2,
          3,
          4,
          5,
          6
         ],
         "y": [
          0,
          7,
          9,
          10,
          11,
          12,
          13,
          14,
          15,
          16,
          17,
          18,
          19,
          20,
          21,
          22,
          23
         ],
         "z": [
          [
           null,
           null,
           1871,
           null,
           5098,
           null,
           null
          ],
          [
           null,
           292.3333333333333,
           null,
           null,
           null,
           null,
           null
          ],
          [
           3883,
           null,
           6859,
           6461,
           21782,
           null,
           4758
          ],
          [
           2320.3333333333335,
           null,
           null,
           4075.5,
           1690.5,
           2728,
           5085.571428571428
          ],
          [
           11507.333333333334,
           1715,
           null,
           null,
           2032,
           2787.3333333333335,
           8388.666666666666
          ],
          [
           416.75,
           10472,
           2102,
           1422,
           1867,
           10517.666666666666,
           2967.75
          ],
          [
           4113.5,
           4135,
           487.5,
           null,
           1593,
           5912,
           6435
          ],
          [
           3587,
           1325.5,
           6341.2,
           3083,
           1906.3333333333333,
           1368,
           9774.5
          ],
          [
           2689,
           4787,
           4213,
           null,
           2577,
           2638.5,
           278
          ],
          [
           11741.5,
           2239.1428571428573,
           2743.1428571428573,
           1486.5,
           2242.4,
           16302,
           622.75
          ],
          [
           4055.75,
           368,
           3821.5555555555557,
           4105.333333333333,
           3127.2,
           2165.5,
           1833.5714285714287
          ],
          [
           2799.2631578947367,
           5791.454545454545,
           4731.75,
           6407.75,
           7769.294117647059,
           2711,
           4489.214285714285
          ],
          [
           9469.375,
           6809.884615384615,
           6984.371428571429,
           7758.666666666667,
           5683.758620689655,
           9163.214285714286,
           10663.09090909091
          ],
          [
           12826.473684210527,
           11139.529411764706,
           8493.733333333334,
           10424.05,
           14036.894736842105,
           33384.57142857143,
           14378.9375
          ],
          [
           6615.5,
           6349.5,
           5532,
           7567.833333333333,
           6531.333333333333,
           12827,
           7396.25
          ],
          [
           4752.857142857143,
           1828.6666666666667,
           2682.3333333333335,
           3713.5714285714284,
           3316.2,
           302.5,
           5647.5
          ],
          [
           2662,
           1877,
           null,
           11925.5,
           null,
           null,
           365
          ]
         ]
        }
       ],
       "layout": {
        "template": {
         "data": {
          "bar": [
           {
            "error_x": {
             "color": "#2a3f5f"
            },
            "error_y": {
             "color": "#2a3f5f"
            },
            "marker": {
             "line": {
              "color": "#E5ECF6",
              "width": 0.5
             },
             "pattern": {
              "fillmode": "overlay",
              "size": 10,
              "solidity": 0.2
             }
            },
            "type": "bar"
           }
          ],
          "barpolar": [
           {
            "marker": {
             "line": {
              "color": "#E5ECF6",
              "width": 0.5
             },
             "pattern": {
              "fillmode": "overlay",
              "size": 10,
              "solidity": 0.2
             }
            },
            "type": "barpolar"
           }
          ],
          "carpet": [
           {
            "aaxis": {
             "endlinecolor": "#2a3f5f",
             "gridcolor": "white",
             "linecolor": "white",
             "minorgridcolor": "white",
             "startlinecolor": "#2a3f5f"
            },
            "baxis": {
             "endlinecolor": "#2a3f5f",
             "gridcolor": "white",
             "linecolor": "white",
             "minorgridcolor": "white",
             "startlinecolor": "#2a3f5f"
            },
            "type": "carpet"
           }
          ],
          "choropleth": [
           {
            "colorbar": {
             "outlinewidth": 0,
             "ticks": ""
            },
            "type": "choropleth"
           }
          ],
          "contour": [
           {
            "colorbar": {
             "outlinewidth": 0,
             "ticks": ""
            },
            "colorscale": [
             [
              0,
              "#0d0887"
             ],
             [
              0.1111111111111111,
              "#46039f"
             ],
             [
              0.2222222222222222,
              "#7201a8"
             ],
             [
              0.3333333333333333,
              "#9c179e"
             ],
             [
              0.4444444444444444,
              "#bd3786"
             ],
             [
              0.5555555555555556,
              "#d8576b"
             ],
             [
              0.6666666666666666,
              "#ed7953"
             ],
             [
              0.7777777777777778,
              "#fb9f3a"
             ],
             [
              0.8888888888888888,
              "#fdca26"
             ],
             [
              1,
              "#f0f921"
             ]
            ],
            "type": "contour"
           }
          ],
          "contourcarpet": [
           {
            "colorbar": {
             "outlinewidth": 0,
             "ticks": ""
            },
            "type": "contourcarpet"
           }
          ],
          "heatmap": [
           {
            "colorbar": {
             "outlinewidth": 0,
             "ticks": ""
            },
            "colorscale": [
             [
              0,
              "#0d0887"
             ],
             [
              0.1111111111111111,
              "#46039f"
             ],
             [
              0.2222222222222222,
              "#7201a8"
             ],
             [
              0.3333333333333333,
              "#9c179e"
             ],
             [
              0.4444444444444444,
              "#bd3786"
             ],
             [
              0.5555555555555556,
              "#d8576b"
             ],
             [
              0.6666666666666666,
              "#ed7953"
             ],
             [
              0.7777777777777778,
              "#fb9f3a"
             ],
             [
              0.8888888888888888,
              "#fdca26"
             ],
             [
              1,
              "#f0f921"
             ]
            ],
            "type": "heatmap"
           }
          ],
          "heatmapgl": [
           {
            "colorbar": {
             "outlinewidth": 0,
             "ticks": ""
            },
            "colorscale": [
             [
              0,
              "#0d0887"
             ],
             [
              0.1111111111111111,
              "#46039f"
             ],
             [
              0.2222222222222222,
              "#7201a8"
             ],
             [
              0.3333333333333333,
              "#9c179e"
             ],
             [
              0.4444444444444444,
              "#bd3786"
             ],
             [
              0.5555555555555556,
              "#d8576b"
             ],
             [
              0.6666666666666666,
              "#ed7953"
             ],
             [
              0.7777777777777778,
              "#fb9f3a"
             ],
             [
              0.8888888888888888,
              "#fdca26"
             ],
             [
              1,
              "#f0f921"
             ]
            ],
            "type": "heatmapgl"
           }
          ],
          "histogram": [
           {
            "marker": {
             "pattern": {
              "fillmode": "overlay",
              "size": 10,
              "solidity": 0.2
             }
            },
            "type": "histogram"
           }
          ],
          "histogram2d": [
           {
            "colorbar": {
             "outlinewidth": 0,
             "ticks": ""
            },
            "colorscale": [
             [
              0,
              "#0d0887"
             ],
             [
              0.1111111111111111,
              "#46039f"
             ],
             [
              0.2222222222222222,
              "#7201a8"
             ],
             [
              0.3333333333333333,
              "#9c179e"
             ],
             [
              0.4444444444444444,
              "#bd3786"
             ],
             [
              0.5555555555555556,
              "#d8576b"
             ],
             [
              0.6666666666666666,
              "#ed7953"
             ],
             [
              0.7777777777777778,
              "#fb9f3a"
             ],
             [
              0.8888888888888888,
              "#fdca26"
             ],
             [
              1,
              "#f0f921"
             ]
            ],
            "type": "histogram2d"
           }
          ],
          "histogram2dcontour": [
           {
            "colorbar": {
             "outlinewidth": 0,
             "ticks": ""
            },
            "colorscale": [
             [
              0,
              "#0d0887"
             ],
             [
              0.1111111111111111,
              "#46039f"
             ],
             [
              0.2222222222222222,
              "#7201a8"
             ],
             [
              0.3333333333333333,
              "#9c179e"
             ],
             [
              0.4444444444444444,
              "#bd3786"
             ],
             [
              0.5555555555555556,
              "#d8576b"
             ],
             [
              0.6666666666666666,
              "#ed7953"
             ],
             [
              0.7777777777777778,
              "#fb9f3a"
             ],
             [
              0.8888888888888888,
              "#fdca26"
             ],
             [
              1,
              "#f0f921"
             ]
            ],
            "type": "histogram2dcontour"
           }
          ],
          "mesh3d": [
           {
            "colorbar": {
             "outlinewidth": 0,
             "ticks": ""
            },
            "type": "mesh3d"
           }
          ],
          "parcoords": [
           {
            "line": {
             "colorbar": {
              "outlinewidth": 0,
              "ticks": ""
             }
            },
            "type": "parcoords"
           }
          ],
          "pie": [
           {
            "automargin": true,
            "type": "pie"
           }
          ],
          "scatter": [
           {
            "fillpattern": {
             "fillmode": "overlay",
             "size": 10,
             "solidity": 0.2
            },
            "type": "scatter"
           }
          ],
          "scatter3d": [
           {
            "line": {
             "colorbar": {
              "outlinewidth": 0,
              "ticks": ""
             }
            },
            "marker": {
             "colorbar": {
              "outlinewidth": 0,
              "ticks": ""
             }
            },
            "type": "scatter3d"
           }
          ],
          "scattercarpet": [
           {
            "marker": {
             "colorbar": {
              "outlinewidth": 0,
              "ticks": ""
             }
            },
            "type": "scattercarpet"
           }
          ],
          "scattergeo": [
           {
            "marker": {
             "colorbar": {
              "outlinewidth": 0,
              "ticks": ""
             }
            },
            "type": "scattergeo"
           }
          ],
          "scattergl": [
           {
            "marker": {
             "colorbar": {
              "outlinewidth": 0,
              "ticks": ""
             }
            },
            "type": "scattergl"
           }
          ],
          "scattermapbox": [
           {
            "marker": {
             "colorbar": {
              "outlinewidth": 0,
              "ticks": ""
             }
            },
            "type": "scattermapbox"
           }
          ],
          "scatterpolar": [
           {
            "marker": {
             "colorbar": {
              "outlinewidth": 0,
              "ticks": ""
             }
            },
            "type": "scatterpolar"
           }
          ],
          "scatterpolargl": [
           {
            "marker": {
             "colorbar": {
              "outlinewidth": 0,
              "ticks": ""
             }
            },
            "type": "scatterpolargl"
           }
          ],
          "scatterternary": [
           {
            "marker": {
             "colorbar": {
              "outlinewidth": 0,
              "ticks": ""
             }
            },
            "type": "scatterternary"
           }
          ],
          "surface": [
           {
            "colorbar": {
             "outlinewidth": 0,
             "ticks": ""
            },
            "colorscale": [
             [
              0,
              "#0d0887"
             ],
             [
              0.1111111111111111,
              "#46039f"
             ],
             [
              0.2222222222222222,
              "#7201a8"
             ],
             [
              0.3333333333333333,
              "#9c179e"
             ],
             [
              0.4444444444444444,
              "#bd3786"
             ],
             [
              0.5555555555555556,
              "#d8576b"
             ],
             [
              0.6666666666666666,
              "#ed7953"
             ],
             [
              0.7777777777777778,
              "#fb9f3a"
             ],
             [
              0.8888888888888888,
              "#fdca26"
             ],
             [
              1,
              "#f0f921"
             ]
            ],
            "type": "surface"
           }
          ],
          "table": [
           {
            "cells": {
             "fill": {
              "color": "#EBF0F8"
             },
             "line": {
              "color": "white"
             }
            },
            "header": {
             "fill": {
              "color": "#C8D4E3"
             },
             "line": {
              "color": "white"
             }
            },
            "type": "table"
           }
          ]
         },
         "layout": {
          "annotationdefaults": {
           "arrowcolor": "#2a3f5f",
           "arrowhead": 0,
           "arrowwidth": 1
          },
          "autotypenumbers": "strict",
          "coloraxis": {
           "colorbar": {
            "outlinewidth": 0,
            "ticks": ""
           }
          },
          "colorscale": {
           "diverging": [
            [
             0,
             "#8e0152"
            ],
            [
             0.1,
             "#c51b7d"
            ],
            [
             0.2,
             "#de77ae"
            ],
            [
             0.3,
             "#f1b6da"
            ],
            [
             0.4,
             "#fde0ef"
            ],
            [
             0.5,
             "#f7f7f7"
            ],
            [
             0.6,
             "#e6f5d0"
            ],
            [
             0.7,
             "#b8e186"
            ],
            [
             0.8,
             "#7fbc41"
            ],
            [
             0.9,
             "#4d9221"
            ],
            [
             1,
             "#276419"
            ]
           ],
           "sequential": [
            [
             0,
             "#0d0887"
            ],
            [
             0.1111111111111111,
             "#46039f"
            ],
            [
             0.2222222222222222,
             "#7201a8"
            ],
            [
             0.3333333333333333,
             "#9c179e"
            ],
            [
             0.4444444444444444,
             "#bd3786"
            ],
            [
             0.5555555555555556,
             "#d8576b"
            ],
            [
             0.6666666666666666,
             "#ed7953"
            ],
            [
             0.7777777777777778,
             "#fb9f3a"
            ],
            [
             0.8888888888888888,
             "#fdca26"
            ],
            [
             1,
             "#f0f921"
            ]
           ],
           "sequentialminus": [
            [
             0,
             "#0d0887"
            ],
            [
             0.1111111111111111,
             "#46039f"
            ],
            [
             0.2222222222222222,
             "#7201a8"
            ],
            [
             0.3333333333333333,
             "#9c179e"
            ],
            [
             0.4444444444444444,
             "#bd3786"
            ],
            [
             0.5555555555555556,
             "#d8576b"
            ],
            [
             0.6666666666666666,
             "#ed7953"
            ],
            [
             0.7777777777777778,
             "#fb9f3a"
            ],
            [
             0.8888888888888888,
             "#fdca26"
            ],
            [
             1,
             "#f0f921"
            ]
           ]
          },
          "colorway": [
           "#636efa",
           "#EF553B",
           "#00cc96",
           "#ab63fa",
           "#FFA15A",
           "#19d3f3",
           "#FF6692",
           "#B6E880",
           "#FF97FF",
           "#FECB52"
          ],
          "font": {
           "color": "#2a3f5f"
          },
          "geo": {
           "bgcolor": "white",
           "lakecolor": "white",
           "landcolor": "#E5ECF6",
           "showlakes": true,
           "showland": true,
           "subunitcolor": "white"
          },
          "hoverlabel": {
           "align": "left"
          },
          "hovermode": "closest",
          "mapbox": {
           "style": "light"
          },
          "paper_bgcolor": "white",
          "plot_bgcolor": "#E5ECF6",
          "polar": {
           "angularaxis": {
            "gridcolor": "white",
            "linecolor": "white",
            "ticks": ""
           },
           "bgcolor": "#E5ECF6",
           "radialaxis": {
            "gridcolor": "white",
            "linecolor": "white",
            "ticks": ""
           }
          },
          "scene": {
           "xaxis": {
            "backgroundcolor": "#E5ECF6",
            "gridcolor": "white",
            "gridwidth": 2,
            "linecolor": "white",
            "showbackground": true,
            "ticks": "",
            "zerolinecolor": "white"
           },
           "yaxis": {
            "backgroundcolor": "#E5ECF6",
            "gridcolor": "white",
            "gridwidth": 2,
            "linecolor": "white",
            "showbackground": true,
            "ticks": "",
            "zerolinecolor": "white"
           },
           "zaxis": {
            "backgroundcolor": "#E5ECF6",
            "gridcolor": "white",
            "gridwidth": 2,
            "linecolor": "white",
            "showbackground": true,
            "ticks": "",
            "zerolinecolor": "white"
           }
          },
          "shapedefaults": {
           "line": {
            "color": "#2a3f5f"
           }
          },
          "ternary": {
           "aaxis": {
            "gridcolor": "white",
            "linecolor": "white",
            "ticks": ""
           },
           "baxis": {
            "gridcolor": "white",
            "linecolor": "white",
            "ticks": ""
           },
           "bgcolor": "#E5ECF6",
           "caxis": {
            "gridcolor": "white",
            "linecolor": "white",
            "ticks": ""
           }
          },
          "title": {
           "x": 0.05
          },
          "xaxis": {
           "automargin": true,
           "gridcolor": "white",
           "linecolor": "white",
           "ticks": "",
           "title": {
            "standoff": 15
           },
           "zerolinecolor": "white",
           "zerolinewidth": 2
          },
          "yaxis": {
           "automargin": true,
           "gridcolor": "white",
           "linecolor": "white",
           "ticks": "",
           "title": {
            "standoff": 15
           },
           "zerolinecolor": "white",
           "zerolinewidth": 2
          }
         }
        },
        "title": {
         "text": "Average Number of Likes by Hour of Day and Day of Week"
        },
        "xaxis": {
         "title": {
          "text": "Day of Week"
         }
        },
        "yaxis": {
         "title": {
          "text": "Hour of Day"
         }
        }
       }
      }
     },
     "metadata": {},
     "output_type": "display_data"
    }
   ],
   "source": [
    "df['upload_time'] = pd.to_datetime(df['upload_time'])\n",
    "df['hour'] = df['upload_time'].dt.hour\n",
    "df['day_of_week'] = df['upload_time'].dt.dayofweek\n",
    "\n",
    "heatmap_data = df.pivot_table(index='hour', columns='day_of_week', values='num_likes', aggfunc=np.mean)\n",
    "\n",
    "fig = go.Figure()\n",
    "\n",
    "fig.add_trace(go.Heatmap(\n",
    "    z=heatmap_data.values,\n",
    "    x=heatmap_data.columns,\n",
    "    y=heatmap_data.index,\n",
    "    colorscale='Blues'\n",
    "))\n",
    "\n",
    "fig.update_layout(\n",
    "    title='Average Number of Likes by Hour of Day and Day of Week',\n",
    "    xaxis_title='Day of Week',\n",
    "    yaxis_title='Hour of Day'\n",
    ")\n",
    "\n",
    "fig.show()"
   ]
  },
  {
   "cell_type": "code",
   "execution_count": 15,
   "metadata": {},
   "outputs": [
    {
     "data": {
      "image/png": "[encoded data removed]",
      "text/plain": [
       "<Figure size 800x800 with 1 Axes>"
      ]
     },
     "metadata": {},
     "output_type": "display_data"
    }
   ],
   "source": [
    "text = ' '.join(df['caption'].fillna('').tolist())\n",
    "wordcloud = WordCloud(background_color='white').generate(text)\n",
    "\n",
    "plt.figure(figsize=(8,8))\n",
    "plt.imshow(wordcloud, interpolation='bilinear')\n",
    "plt.axis('off')\n",
    "plt.show()"
   ]
  },
  {
   "cell_type": "code",
   "execution_count": 13,
   "metadata": {},
   "outputs": [
    {
     "data": {
      "application/vnd.plotly.v1+json": {
       "config": {
        "plotlyServerURL": "https://plot.ly"
       },
       "data": [
        {
         "name": "Likes",
         "type": "bar",
         "x": [
          "False",
          "True"
         ],
         "y": [
          3040756,
          1563385
         ]
        },
        {
         "name": "Comments",
         "type": "bar",
         "x": [
          "False",
          "True"
         ],
         "y": [
          315502,
          132419
         ]
        }
       ],
       "layout": {
        "barmode": "stack",
        "template": {
         "data": {
          "bar": [
           {
            "error_x": {
             "color": "#2a3f5f"
            },
            "error_y": {
             "color": "#2a3f5f"
            },
            "marker": {
             "line": {
              "color": "#E5ECF6",
              "width": 0.5
             },
             "pattern": {
              "fillmode": "overlay",
              "size": 10,
              "solidity": 0.2
             }
            },
            "type": "bar"
           }
          ],
          "barpolar": [
           {
            "marker": {
             "line": {
              "color": "#E5ECF6",
              "width": 0.5
             },
             "pattern": {
              "fillmode": "overlay",
              "size": 10,
              "solidity": 0.2
             }
            },
            "type": "barpolar"
           }
          ],
          "carpet": [
           {
            "aaxis": {
             "endlinecolor": "#2a3f5f",
             "gridcolor": "white",
             "linecolor": "white",
             "minorgridcolor": "white",
             "startlinecolor": "#2a3f5f"
            },
            "baxis": {
             "endlinecolor": "#2a3f5f",
             "gridcolor": "white",
             "linecolor": "white",
             "minorgridcolor": "white",
             "startlinecolor": "#2a3f5f"
            },
            "type": "carpet"
           }
          ],
          "choropleth": [
           {
            "colorbar": {
             "outlinewidth": 0,
             "ticks": ""
            },
            "type": "choropleth"
           }
          ],
          "contour": [
           {
            "colorbar": {
             "outlinewidth": 0,
             "ticks": ""
            },
            "colorscale": [
             [
              0,
              "#0d0887"
             ],
             [
              0.1111111111111111,
              "#46039f"
             ],
             [
              0.2222222222222222,
              "#7201a8"
             ],
             [
              0.3333333333333333,
              "#9c179e"
             ],
             [
              0.4444444444444444,
              "#bd3786"
             ],
             [
              0.5555555555555556,
              "#d8576b"
             ],
             [
              0.6666666666666666,
              "#ed7953"
             ],
             [
              0.7777777777777778,
              "#fb9f3a"
             ],
             [
              0.8888888888888888,
              "#fdca26"
             ],
             [
              1,
              "#f0f921"
             ]
            ],
            "type": "contour"
           }
          ],
          "contourcarpet": [
           {
            "colorbar": {
             "outlinewidth": 0,
             "ticks": ""
            },
            "type": "contourcarpet"
           }
          ],
          "heatmap": [
           {
            "colorbar": {
             "outlinewidth": 0,
             "ticks": ""
            },
            "colorscale": [
             [
              0,
              "#0d0887"
             ],
             [
              0.1111111111111111,
              "#46039f"
             ],
             [
              0.2222222222222222,
              "#7201a8"
             ],
             [
              0.3333333333333333,
              "#9c179e"
             ],
             [
              0.4444444444444444,
              "#bd3786"
             ],
             [
              0.5555555555555556,
              "#d8576b"
             ],
             [
              0.6666666666666666,
              "#ed7953"
             ],
             [
              0.7777777777777778,
              "#fb9f3a"
             ],
             [
              0.8888888888888888,
              "#fdca26"
             ],
             [
              1,
              "#f0f921"
             ]
            ],
            "type": "heatmap"
           }
          ],
          "heatmapgl": [
           {
            "colorbar": {
             "outlinewidth": 0,
             "ticks": ""
            },
            "colorscale": [
             [
              0,
              "#0d0887"
             ],
             [
              0.1111111111111111,
              "#46039f"
             ],
             [
              0.2222222222222222,
              "#7201a8"
             ],
             [
              0.3333333333333333,
              "#9c179e"
             ],
             [
              0.4444444444444444,
              "#bd3786"
             ],
             [
              0.5555555555555556,
              "#d8576b"
             ],
             [
              0.6666666666666666,
              "#ed7953"
             ],
             [
              0.7777777777777778,
              "#fb9f3a"
             ],
             [
              0.8888888888888888,
              "#fdca26"
             ],
             [
              1,
              "#f0f921"
             ]
            ],
            "type": "heatmapgl"
           }
          ],
          "histogram": [
           {
            "marker": {
             "pattern": {
              "fillmode": "overlay",
              "size": 10,
              "solidity": 0.2
             }
            },
            "type": "histogram"
           }
          ],
          "histogram2d": [
           {
            "colorbar": {
             "outlinewidth": 0,
             "ticks": ""
            },
            "colorscale": [
             [
              0,
              "#0d0887"
             ],
             [
              0.1111111111111111,
              "#46039f"
             ],
             [
              0.2222222222222222,
              "#7201a8"
             ],
             [
              0.3333333333333333,
              "#9c179e"
             ],
             [
              0.4444444444444444,
              "#bd3786"
             ],
             [
              0.5555555555555556,
              "#d8576b"
             ],
             [
              0.6666666666666666,
              "#ed7953"
             ],
             [
              0.7777777777777778,
              "#fb9f3a"
             ],
             [
              0.8888888888888888,
              "#fdca26"
             ],
             [
              1,
              "#f0f921"
             ]
            ],
            "type": "histogram2d"
           }
          ],
          "histogram2dcontour": [
           {
            "colorbar": {
             "outlinewidth": 0,
             "ticks": ""
            },
            "colorscale": [
             [
              0,
              "#0d0887"
             ],
             [
              0.1111111111111111,
              "#46039f"
             ],
             [
              0.2222222222222222,
              "#7201a8"
             ],
             [
              0.3333333333333333,
              "#9c179e"
             ],
             [
              0.4444444444444444,
              "#bd3786"
             ],
             [
              0.5555555555555556,
              "#d8576b"
             ],
             [
              0.6666666666666666,
              "#ed7953"
             ],
             [
              0.7777777777777778,
              "#fb9f3a"
             ],
             [
              0.8888888888888888,
              "#fdca26"
             ],
             [
              1,
              "#f0f921"
             ]
            ],
            "type": "histogram2dcontour"
           }
          ],
          "mesh3d": [
           {
            "colorbar": {
             "outlinewidth": 0,
             "ticks": ""
            },
            "type": "mesh3d"
           }
          ],
          "parcoords": [
           {
            "line": {
             "colorbar": {
              "outlinewidth": 0,
              "ticks": ""
             }
            },
            "type": "parcoords"
           }
          ],
          "pie": [
           {
            "automargin": true,
            "type": "pie"
           }
          ],
          "scatter": [
           {
            "fillpattern": {
             "fillmode": "overlay",
             "size": 10,
             "solidity": 0.2
            },
            "type": "scatter"
           }
          ],
          "scatter3d": [
           {
            "line": {
             "colorbar": {
              "outlinewidth": 0,
              "ticks": ""
             }
            },
            "marker": {
             "colorbar": {
              "outlinewidth": 0,
              "ticks": ""
             }
            },
            "type": "scatter3d"
           }
          ],
          "scattercarpet": [
           {
            "marker": {
             "colorbar": {
              "outlinewidth": 0,
              "ticks": ""
             }
            },
            "type": "scattercarpet"
           }
          ],
          "scattergeo": [
           {
            "marker": {
             "colorbar": {
              "outlinewidth": 0,
              "ticks": ""
             }
            },
            "type": "scattergeo"
           }
          ],
          "scattergl": [
           {
            "marker": {
             "colorbar": {
              "outlinewidth": 0,
              "ticks": ""
             }
            },
            "type": "scattergl"
           }
          ],
          "scattermapbox": [
           {
            "marker": {
             "colorbar": {
              "outlinewidth": 0,
              "ticks": ""
             }
            },
            "type": "scattermapbox"
           }
          ],
          "scatterpolar": [
           {
            "marker": {
             "colorbar": {
              "outlinewidth": 0,
              "ticks": ""
             }
            },
            "type": "scatterpolar"
           }
          ],
          "scatterpolargl": [
           {
            "marker": {
             "colorbar": {
              "outlinewidth": 0,
              "ticks": ""
             }
            },
            "type": "scatterpolargl"
           }
          ],
          "scatterternary": [
           {
            "marker": {
             "colorbar": {
              "outlinewidth": 0,
              "ticks": ""
             }
            },
            "type": "scatterternary"
           }
          ],
          "surface": [
           {
            "colorbar": {
             "outlinewidth": 0,
             "ticks": ""
            },
            "colorscale": [
             [
              0,
              "#0d0887"
             ],
             [
              0.1111111111111111,
              "#46039f"
             ],
             [
              0.2222222222222222,
              "#7201a8"
             ],
             [
              0.3333333333333333,
              "#9c179e"
             ],
             [
              0.4444444444444444,
              "#bd3786"
             ],
             [
              0.5555555555555556,
              "#d8576b"
             ],
             [
              0.6666666666666666,
              "#ed7953"
             ],
             [
              0.7777777777777778,
              "#fb9f3a"
             ],
             [
              0.8888888888888888,
              "#fdca26"
             ],
             [
              1,
              "#f0f921"
             ]
            ],
            "type": "surface"
           }
          ],
          "table": [
           {
            "cells": {
             "fill": {
              "color": "#EBF0F8"
             },
             "line": {
              "color": "white"
             }
            },
            "header": {
             "fill": {
              "color": "#C8D4E3"
             },
             "line": {
              "color": "white"
             }
            },
            "type": "table"
           }
          ]
         },
         "layout": {
          "annotationdefaults": {
           "arrowcolor": "#2a3f5f",
           "arrowhead": 0,
           "arrowwidth": 1
          },
          "autotypenumbers": "strict",
          "coloraxis": {
           "colorbar": {
            "outlinewidth": 0,
            "ticks": ""
           }
          },
          "colorscale": {
           "diverging": [
            [
             0,
             "#8e0152"
            ],
            [
             0.1,
             "#c51b7d"
            ],
            [
             0.2,
             "#de77ae"
            ],
            [
             0.3,
             "#f1b6da"
            ],
            [
             0.4,
             "#fde0ef"
            ],
            [
             0.5,
             "#f7f7f7"
            ],
            [
             0.6,
             "#e6f5d0"
            ],
            [
             0.7,
             "#b8e186"
            ],
            [
             0.8,
             "#7fbc41"
            ],
            [
             0.9,
             "#4d9221"
            ],
            [
             1,
             "#276419"
            ]
           ],
           "sequential": [
            [
             0,
             "#0d0887"
            ],
            [
             0.1111111111111111,
             "#46039f"
            ],
            [
             0.2222222222222222,
             "#7201a8"
            ],
            [
             0.3333333333333333,
             "#9c179e"
            ],
            [
             0.4444444444444444,
             "#bd3786"
            ],
            [
             0.5555555555555556,
             "#d8576b"
            ],
            [
             0.6666666666666666,
             "#ed7953"
            ],
            [
             0.7777777777777778,
             "#fb9f3a"
            ],
            [
             0.8888888888888888,
             "#fdca26"
            ],
            [
             1,
             "#f0f921"
            ]
           ],
           "sequentialminus": [
            [
             0,
             "#0d0887"
            ],
            [
             0.1111111111111111,
             "#46039f"
            ],
            [
             0.2222222222222222,
             "#7201a8"
            ],
            [
             0.3333333333333333,
             "#9c179e"
            ],
            [
             0.4444444444444444,
             "#bd3786"
            ],
            [
             0.5555555555555556,
             "#d8576b"
            ],
            [
             0.6666666666666666,
             "#ed7953"
            ],
            [
             0.7777777777777778,
             "#fb9f3a"
            ],
            [
             0.8888888888888888,
             "#fdca26"
            ],
            [
             1,
             "#f0f921"
            ]
           ]
          },
          "colorway": [
           "#636efa",
           "#EF553B",
           "#00cc96",
           "#ab63fa",
           "#FFA15A",
           "#19d3f3",
           "#FF6692",
           "#B6E880",
           "#FF97FF",
           "#FECB52"
          ],
          "font": {
           "color": "#2a3f5f"
          },
          "geo": {
           "bgcolor": "white",
           "lakecolor": "white",
           "landcolor": "#E5ECF6",
           "showlakes": true,
           "showland": true,
           "subunitcolor": "white"
          },
          "hoverlabel": {
           "align": "left"
          },
          "hovermode": "closest",
          "mapbox": {
           "style": "light"
          },
          "paper_bgcolor": "white",
          "plot_bgcolor": "#E5ECF6",
          "polar": {
           "angularaxis": {
            "gridcolor": "white",
            "linecolor": "white",
            "ticks": ""
           },
           "bgcolor": "#E5ECF6",
           "radialaxis": {
            "gridcolor": "white",
            "linecolor": "white",
            "ticks": ""
           }
          },
          "scene": {
           "xaxis": {
            "backgroundcolor": "#E5ECF6",
            "gridcolor": "white",
            "gridwidth": 2,
            "linecolor": "white",
            "showbackground": true,
            "ticks": "",
            "zerolinecolor": "white"
           },
           "yaxis": {
            "backgroundcolor": "#E5ECF6",
            "gridcolor": "white",
            "gridwidth": 2,
            "linecolor": "white",
            "showbackground": true,
            "ticks": "",
            "zerolinecolor": "white"
           },
           "zaxis": {
            "backgroundcolor": "#E5ECF6",
            "gridcolor": "white",
            "gridwidth": 2,
            "linecolor": "white",
            "showbackground": true,
            "ticks": "",
            "zerolinecolor": "white"
           }
          },
          "shapedefaults": {
           "line": {
            "color": "#2a3f5f"
           }
          },
          "ternary": {
           "aaxis": {
            "gridcolor": "white",
            "linecolor": "white",
            "ticks": ""
           },
           "baxis": {
            "gridcolor": "white",
            "linecolor": "white",
            "ticks": ""
           },
           "bgcolor": "#E5ECF6",
           "caxis": {
            "gridcolor": "white",
            "linecolor": "white",
            "ticks": ""
           }
          },
          "title": {
           "x": 0.05
          },
          "xaxis": {
           "automargin": true,
           "gridcolor": "white",
           "linecolor": "white",
           "ticks": "",
           "title": {
            "standoff": 15
           },
           "zerolinecolor": "white",
           "zerolinewidth": 2
          },
          "yaxis": {
           "automargin": true,
           "gridcolor": "white",
           "linecolor": "white",
           "ticks": "",
           "title": {
            "standoff": 15
           },
           "zerolinecolor": "white",
           "zerolinewidth": 2
          }
         }
        },
        "title": {
         "text": "Number of Interactions by Video vs. Non-Video Posts"
        },
        "xaxis": {
         "title": {
          "text": "Is Video?"
         }
        },
        "yaxis": {
         "title": {
          "text": "Number of Interactions"
         }
        }
       }
      }
     },
     "metadata": {},
     "output_type": "display_data"
    }
   ],
   "source": [
    "interaction_counts = df.groupby('is_video').agg({'num_likes': 'sum', 'num_comments': 'sum'})\n",
    "\n",
    "fig = go.Figure()\n",
    "\n",
    "fig.add_trace(go.Bar(\n",
    "    x=interaction_counts.index.astype(str),\n",
    "    y=interaction_counts['num_likes'],\n",
    "    name='Likes'\n",
    "))\n",
    "\n",
    "fig.add_trace(go.Bar(\n",
    "    x=interaction_counts.index.astype(str),\n",
    "    y=interaction_counts['num_comments'],\n",
    "    name='Comments'\n",
    "))\n",
    "\n",
    "fig.update_layout(\n",
    "    title='Number of Interactions by Video vs. Non-Video Posts',\n",
    "    xaxis_title='Is Video?',\n",
    "    yaxis_title='Number of Interactions',\n",
    "    barmode='stack'\n",
    ")\n",
    "\n",
    "fig.show()"
   ]
  },
  {
   "cell_type": "code",
   "execution_count": 14,
   "metadata": {},
   "outputs": [
    {
     "name": "stderr",
     "output_type": "stream",
     "text": [
      "C:\\Users\\Harsh Clean\\AppData\\Local\\Temp\\ipykernel_20684\\3874424280.py:1: FutureWarning:\n",
      "\n",
      "The default value of numeric_only in DataFrameGroupBy.mean is deprecated. In a future version, numeric_only will default to False. Either specify numeric_only or select only columns which should be valid for the function.\n",
      "\n"
     ]
    },
    {
     "data": {
      "application/vnd.plotly.v1+json": {
       "config": {
        "plotlyServerURL": "https://plot.ly"
       },
       "data": [
        {
         "mode": "lines",
         "name": "Non-Video Likes",
         "type": "scatter",
         "x": [
          "2019-08-03T00:00:00+05:30",
          "2019-08-04T00:00:00+05:30",
          "2019-08-06T00:00:00+05:30",
          "2019-08-15T00:00:00+05:30",
          "2019-08-30T00:00:00+05:30",
          "2019-09-05T00:00:00+05:30",
          "2019-10-02T00:00:00+05:30",
          "2019-10-16T00:00:00+05:30",
          "2019-10-27T00:00:00+05:30",
          "2019-11-06T00:00:00+05:30",
          "2019-11-12T00:00:00+05:30",
          "2019-11-18T00:00:00+05:30",
          "2019-12-12T00:00:00+05:30",
          "2019-12-21T00:00:00+05:30",
          "2019-12-25T00:00:00+05:30",
          "2020-01-03T00:00:00+05:30",
          "2020-01-15T00:00:00+05:30",
          "2020-01-17T00:00:00+05:30",
          "2020-01-20T00:00:00+05:30",
          "2020-01-26T00:00:00+05:30",
          "2020-02-05T00:00:00+05:30",
          "2020-02-10T00:00:00+05:30",
          "2020-02-15T00:00:00+05:30",
          "2020-02-19T00:00:00+05:30",
          "2020-03-07T00:00:00+05:30",
          "2020-03-17T00:00:00+05:30",
          "2020-03-26T00:00:00+05:30",
          "2020-04-07T00:00:00+05:30",
          "2020-04-11T00:00:00+05:30",
          "2020-05-02T00:00:00+05:30",
          "2020-05-03T00:00:00+05:30",
          "2020-05-10T00:00:00+05:30",
          "2020-05-15T00:00:00+05:30",
          "2020-05-22T00:00:00+05:30",
          "2020-05-24T00:00:00+05:30",
          "2020-05-26T00:00:00+05:30",
          "2020-05-29T00:00:00+05:30",
          "2020-06-02T00:00:00+05:30",
          "2020-06-05T00:00:00+05:30",
          "2020-06-16T00:00:00+05:30",
          "2020-06-20T00:00:00+05:30",
          "2020-06-26T00:00:00+05:30",
          "2020-07-02T00:00:00+05:30",
          "2020-07-09T00:00:00+05:30",
          "2020-07-13T00:00:00+05:30",
          "2020-07-16T00:00:00+05:30",
          "2020-07-22T00:00:00+05:30",
          "2020-07-28T00:00:00+05:30",
          "2020-08-05T00:00:00+05:30",
          "2020-08-22T00:00:00+05:30",
          "2020-09-14T00:00:00+05:30",
          "2020-10-15T00:00:00+05:30",
          "2020-10-16T00:00:00+05:30",
          "2020-10-25T00:00:00+05:30",
          "2020-11-02T00:00:00+05:30",
          "2020-11-06T00:00:00+05:30",
          "2020-12-03T00:00:00+05:30",
          "2020-12-14T00:00:00+05:30",
          "2020-12-16T00:00:00+05:30",
          "2020-12-22T00:00:00+05:30",
          "2020-12-25T00:00:00+05:30",
          "2021-01-08T00:00:00+05:30",
          "2021-01-11T00:00:00+05:30",
          "2021-01-20T00:00:00+05:30",
          "2021-01-22T00:00:00+05:30",
          "2021-02-01T00:00:00+05:30",
          "2021-02-03T00:00:00+05:30",
          "2021-02-04T00:00:00+05:30",
          "2021-02-16T00:00:00+05:30",
          "2021-02-18T00:00:00+05:30",
          "2021-02-19T00:00:00+05:30",
          "2021-02-24T00:00:00+05:30",
          "2021-02-28T00:00:00+05:30",
          "2021-03-01T00:00:00+05:30",
          "2021-03-06T00:00:00+05:30",
          "2021-03-13T00:00:00+05:30",
          "2021-03-15T00:00:00+05:30",
          "2021-03-19T00:00:00+05:30",
          "2021-03-20T00:00:00+05:30",
          "2021-03-23T00:00:00+05:30",
          "2021-03-25T00:00:00+05:30",
          "2021-04-01T00:00:00+05:30",
          "2021-04-08T00:00:00+05:30",
          "2021-04-09T00:00:00+05:30",
          "2021-04-12T00:00:00+05:30",
          "2021-04-17T00:00:00+05:30",
          "2021-04-21T00:00:00+05:30",
          "2021-04-22T00:00:00+05:30",
          "2021-04-23T00:00:00+05:30",
          "2021-04-24T00:00:00+05:30",
          "2021-04-26T00:00:00+05:30",
          "2021-04-27T00:00:00+05:30",
          "2021-04-28T00:00:00+05:30",
          "2021-05-04T00:00:00+05:30",
          "2021-05-06T00:00:00+05:30",
          "2021-05-08T00:00:00+05:30",
          "2021-05-11T00:00:00+05:30",
          "2021-05-17T00:00:00+05:30",
          "2021-05-19T00:00:00+05:30",
          "2021-05-21T00:00:00+05:30",
          "2021-05-24T00:00:00+05:30",
          "2021-05-27T00:00:00+05:30",
          "2021-06-01T00:00:00+05:30",
          "2021-06-03T00:00:00+05:30",
          "2021-06-11T00:00:00+05:30",
          "2021-06-15T00:00:00+05:30",
          "2021-06-17T00:00:00+05:30",
          "2021-06-22T00:00:00+05:30",
          "2021-07-01T00:00:00+05:30",
          "2021-07-10T00:00:00+05:30",
          "2021-07-15T00:00:00+05:30",
          "2021-07-17T00:00:00+05:30",
          "2021-07-22T00:00:00+05:30",
          "2021-07-27T00:00:00+05:30",
          "2021-08-01T00:00:00+05:30",
          "2021-08-11T00:00:00+05:30",
          "2021-08-15T00:00:00+05:30",
          "2021-08-24T00:00:00+05:30",
          "2021-08-26T00:00:00+05:30",
          "2021-09-07T00:00:00+05:30",
          "2021-09-11T00:00:00+05:30",
          "2021-09-12T00:00:00+05:30",
          "2021-09-19T00:00:00+05:30",
          "2021-09-22T00:00:00+05:30",
          "2021-09-24T00:00:00+05:30",
          "2021-09-29T00:00:00+05:30",
          "2021-10-01T00:00:00+05:30",
          "2021-10-06T00:00:00+05:30",
          "2021-10-08T00:00:00+05:30",
          "2021-10-16T00:00:00+05:30",
          "2021-10-19T00:00:00+05:30",
          "2021-10-20T00:00:00+05:30",
          "2021-10-22T00:00:00+05:30",
          "2021-10-25T00:00:00+05:30",
          "2021-10-26T00:00:00+05:30",
          "2021-10-28T00:00:00+05:30",
          "2021-10-29T00:00:00+05:30",
          "2021-10-31T00:00:00+05:30",
          "2021-11-01T00:00:00+05:30",
          "2021-11-04T00:00:00+05:30",
          "2021-11-06T00:00:00+05:30",
          "2021-11-09T00:00:00+05:30",
          "2021-11-12T00:00:00+05:30",
          "2021-11-14T00:00:00+05:30",
          "2021-11-18T00:00:00+05:30",
          "2021-11-22T00:00:00+05:30",
          "2021-11-24T00:00:00+05:30",
          "2021-11-28T00:00:00+05:30",
          "2021-11-29T00:00:00+05:30",
          "2021-12-02T00:00:00+05:30",
          "2021-12-06T00:00:00+05:30",
          "2021-12-07T00:00:00+05:30",
          "2021-12-10T00:00:00+05:30",
          "2021-12-17T00:00:00+05:30",
          "2021-12-21T00:00:00+05:30",
          "2021-12-29T00:00:00+05:30",
          "2021-12-31T00:00:00+05:30",
          "2022-01-03T00:00:00+05:30",
          "2022-01-05T00:00:00+05:30",
          "2022-01-07T00:00:00+05:30",
          "2022-01-10T00:00:00+05:30",
          "2022-01-11T00:00:00+05:30",
          "2022-01-13T00:00:00+05:30",
          "2022-01-14T00:00:00+05:30",
          "2022-01-16T00:00:00+05:30",
          "2022-01-18T00:00:00+05:30",
          "2022-01-21T00:00:00+05:30",
          "2022-01-27T00:00:00+05:30",
          "2022-01-28T00:00:00+05:30",
          "2022-01-30T00:00:00+05:30",
          "2022-02-01T00:00:00+05:30",
          "2022-02-03T00:00:00+05:30",
          "2022-02-04T00:00:00+05:30",
          "2022-02-06T00:00:00+05:30",
          "2022-02-07T00:00:00+05:30",
          "2022-02-08T00:00:00+05:30",
          "2022-02-11T00:00:00+05:30",
          "2022-02-13T00:00:00+05:30",
          "2022-02-14T00:00:00+05:30",
          "2022-02-16T00:00:00+05:30",
          "2022-02-18T00:00:00+05:30",
          "2022-02-19T00:00:00+05:30",
          "2022-02-20T00:00:00+05:30",
          "2022-02-21T00:00:00+05:30",
          "2022-02-22T00:00:00+05:30",
          "2022-02-23T00:00:00+05:30",
          "2022-02-24T00:00:00+05:30",
          "2022-02-25T00:00:00+05:30",
          "2022-02-26T00:00:00+05:30",
          "2022-02-27T00:00:00+05:30",
          "2022-02-28T00:00:00+05:30",
          "2022-03-01T00:00:00+05:30",
          "2022-03-02T00:00:00+05:30",
          "2022-03-03T00:00:00+05:30",
          "2022-03-04T00:00:00+05:30",
          "2022-03-07T00:00:00+05:30",
          "2022-03-08T00:00:00+05:30",
          "2022-03-09T00:00:00+05:30",
          "2022-03-10T00:00:00+05:30",
          "2022-03-11T00:00:00+05:30",
          "2022-03-14T00:00:00+05:30",
          "2022-03-15T00:00:00+05:30",
          "2022-03-16T00:00:00+05:30",
          "2022-03-17T00:00:00+05:30",
          "2022-03-18T00:00:00+05:30",
          "2022-03-19T00:00:00+05:30",
          "2022-03-20T00:00:00+05:30",
          "2022-03-21T00:00:00+05:30",
          "2022-03-22T00:00:00+05:30",
          "2022-03-23T00:00:00+05:30",
          "2022-03-24T00:00:00+05:30",
          "2022-03-25T00:00:00+05:30",
          "2022-03-26T00:00:00+05:30",
          "2022-03-28T00:00:00+05:30",
          "2022-03-29T00:00:00+05:30",
          "2022-03-30T00:00:00+05:30",
          "2022-04-02T00:00:00+05:30",
          "2022-04-04T00:00:00+05:30",
          "2022-04-05T00:00:00+05:30",
          "2022-04-06T00:00:00+05:30",
          "2022-04-07T00:00:00+05:30",
          "2022-04-08T00:00:00+05:30",
          "2022-04-11T00:00:00+05:30",
          "2022-04-12T00:00:00+05:30",
          "2022-04-13T00:00:00+05:30",
          "2022-04-14T00:00:00+05:30",
          "2022-04-17T00:00:00+05:30",
          "2022-04-18T00:00:00+05:30",
          "2022-04-20T00:00:00+05:30",
          "2022-04-22T00:00:00+05:30",
          "2022-04-25T00:00:00+05:30",
          "2022-04-26T00:00:00+05:30",
          "2022-04-28T00:00:00+05:30",
          "2022-04-29T00:00:00+05:30",
          "2022-04-30T00:00:00+05:30",
          "2022-05-04T00:00:00+05:30",
          "2022-05-05T00:00:00+05:30",
          "2022-05-09T00:00:00+05:30",
          "2022-05-10T00:00:00+05:30",
          "2022-05-17T00:00:00+05:30",
          "2022-05-18T00:00:00+05:30",
          "2022-05-21T00:00:00+05:30",
          "2022-05-23T00:00:00+05:30",
          "2022-05-24T00:00:00+05:30",
          "2022-05-26T00:00:00+05:30",
          "2022-05-28T00:00:00+05:30",
          "2022-05-30T00:00:00+05:30",
          "2022-05-31T00:00:00+05:30",
          "2022-06-02T00:00:00+05:30",
          "2022-06-05T00:00:00+05:30",
          "2022-06-07T00:00:00+05:30",
          "2022-06-09T00:00:00+05:30",
          "2022-06-10T00:00:00+05:30",
          "2022-06-13T00:00:00+05:30",
          "2022-06-14T00:00:00+05:30",
          "2022-06-15T00:00:00+05:30",
          "2022-06-16T00:00:00+05:30",
          "2022-06-17T00:00:00+05:30",
          "2022-06-18T00:00:00+05:30",
          "2022-06-22T00:00:00+05:30",
          "2022-06-24T00:00:00+05:30",
          "2022-06-26T00:00:00+05:30",
          "2022-06-27T00:00:00+05:30",
          "2022-06-30T00:00:00+05:30",
          "2022-07-01T00:00:00+05:30",
          "2022-07-06T00:00:00+05:30",
          "2022-07-08T00:00:00+05:30",
          "2022-07-09T00:00:00+05:30",
          "2022-07-14T00:00:00+05:30",
          "2022-07-15T00:00:00+05:30",
          "2022-07-19T00:00:00+05:30",
          "2022-07-21T00:00:00+05:30",
          "2022-07-22T00:00:00+05:30",
          "2022-07-27T00:00:00+05:30",
          "2022-07-28T00:00:00+05:30",
          "2022-07-31T00:00:00+05:30",
          "2022-08-02T00:00:00+05:30",
          "2022-08-03T00:00:00+05:30",
          "2022-08-08T00:00:00+05:30",
          "2022-08-10T00:00:00+05:30",
          "2022-08-15T00:00:00+05:30",
          "2022-08-16T00:00:00+05:30",
          "2022-08-17T00:00:00+05:30",
          "2022-08-21T00:00:00+05:30",
          "2022-08-26T00:00:00+05:30",
          "2022-08-28T00:00:00+05:30",
          "2022-08-29T00:00:00+05:30",
          "2022-08-30T00:00:00+05:30",
          "2022-08-31T00:00:00+05:30",
          "2022-09-05T00:00:00+05:30",
          "2022-09-06T00:00:00+05:30",
          "2022-09-07T00:00:00+05:30",
          "2022-09-08T00:00:00+05:30",
          "2022-09-10T00:00:00+05:30",
          "2022-09-14T00:00:00+05:30",
          "2022-09-15T00:00:00+05:30",
          "2022-09-16T00:00:00+05:30",
          "2022-09-18T00:00:00+05:30",
          "2022-09-19T00:00:00+05:30",
          "2022-09-20T00:00:00+05:30",
          "2022-09-21T00:00:00+05:30",
          "2022-09-27T00:00:00+05:30",
          "2022-09-29T00:00:00+05:30",
          "2022-09-30T00:00:00+05:30",
          "2022-10-02T00:00:00+05:30",
          "2022-10-03T00:00:00+05:30",
          "2022-10-04T00:00:00+05:30",
          "2022-10-05T00:00:00+05:30",
          "2022-10-06T00:00:00+05:30",
          "2022-10-07T00:00:00+05:30",
          "2022-10-10T00:00:00+05:30",
          "2022-10-13T00:00:00+05:30",
          "2022-10-20T00:00:00+05:30",
          "2022-10-21T00:00:00+05:30",
          "2022-10-24T00:00:00+05:30",
          "2022-10-26T00:00:00+05:30",
          "2022-10-28T00:00:00+05:30",
          "2022-10-29T00:00:00+05:30",
          "2022-11-01T00:00:00+05:30",
          "2022-11-03T00:00:00+05:30",
          "2022-11-05T00:00:00+05:30",
          "2022-11-06T00:00:00+05:30",
          "2022-11-07T00:00:00+05:30",
          "2022-11-08T00:00:00+05:30",
          "2022-11-09T00:00:00+05:30",
          "2022-11-10T00:00:00+05:30",
          "2022-11-15T00:00:00+05:30",
          "2022-11-17T00:00:00+05:30",
          "2022-11-19T00:00:00+05:30",
          "2022-11-20T00:00:00+05:30",
          "2022-11-24T00:00:00+05:30",
          "2022-11-25T00:00:00+05:30",
          "2022-11-28T00:00:00+05:30",
          "2022-11-30T00:00:00+05:30",
          "2022-12-02T00:00:00+05:30",
          "2022-12-04T00:00:00+05:30",
          "2022-12-09T00:00:00+05:30",
          "2022-12-10T00:00:00+05:30",
          "2022-12-11T00:00:00+05:30",
          "2022-12-12T00:00:00+05:30",
          "2022-12-14T00:00:00+05:30",
          "2022-12-18T00:00:00+05:30",
          "2022-12-19T00:00:00+05:30",
          "2022-12-21T00:00:00+05:30",
          "2022-12-24T00:00:00+05:30",
          "2022-12-25T00:00:00+05:30",
          "2022-12-26T00:00:00+05:30",
          "2022-12-27T00:00:00+05:30",
          "2023-01-01T00:00:00+05:30",
          "2023-01-03T00:00:00+05:30",
          "2023-01-04T00:00:00+05:30",
          "2023-01-05T00:00:00+05:30",
          "2023-01-10T00:00:00+05:30",
          "2023-01-11T00:00:00+05:30",
          "2023-01-16T00:00:00+05:30",
          "2023-01-17T00:00:00+05:30",
          "2023-01-19T00:00:00+05:30",
          "2023-01-24T00:00:00+05:30",
          "2023-01-26T00:00:00+05:30",
          "2023-01-27T00:00:00+05:30",
          "2023-01-28T00:00:00+05:30",
          "2023-01-29T00:00:00+05:30",
          "2023-02-02T00:00:00+05:30",
          "2023-02-04T00:00:00+05:30",
          "2023-02-06T00:00:00+05:30",
          "2023-02-07T00:00:00+05:30",
          "2023-02-08T00:00:00+05:30",
          "2023-02-09T00:00:00+05:30",
          "2023-02-12T00:00:00+05:30",
          "2023-02-13T00:00:00+05:30",
          "2023-02-14T00:00:00+05:30",
          "2023-02-17T00:00:00+05:30",
          "2023-02-19T00:00:00+05:30",
          "2023-02-20T00:00:00+05:30",
          "2023-02-21T00:00:00+05:30",
          "2023-02-23T00:00:00+05:30",
          "2023-02-25T00:00:00+05:30",
          "2023-03-03T00:00:00+05:30",
          "2023-03-04T00:00:00+05:30",
          "2023-03-09T00:00:00+05:30",
          "2023-03-13T00:00:00+05:30",
          "2023-03-14T00:00:00+05:30",
          "2023-03-16T00:00:00+05:30",
          "2023-03-18T00:00:00+05:30",
          "2023-03-20T00:00:00+05:30",
          "2023-03-21T00:00:00+05:30",
          "2023-03-25T00:00:00+05:30",
          "2023-03-29T00:00:00+05:30",
          "2023-03-30T00:00:00+05:30",
          "2023-03-31T00:00:00+05:30",
          "2023-04-03T00:00:00+05:30",
          "2023-04-06T00:00:00+05:30",
          "2023-04-09T00:00:00+05:30",
          "2023-04-13T00:00:00+05:30",
          "2023-04-17T00:00:00+05:30",
          "2023-04-20T00:00:00+05:30",
          "2023-04-21T00:00:00+05:30"
         ],
         "y": [
          322.6666666666667,
          290.6666666666667,
          292.3333333333333,
          272.6666666666667,
          341.3333333333333,
          258,
          243,
          399.5,
          278,
          247,
          301.6666666666667,
          326,
          252.66666666666666,
          250,
          238.33333333333334,
          266.5,
          487.5,
          355,
          351,
          326.3333333333333,
          361.3333333333333,
          295.6666666666667,
          327,
          287,
          392,
          290,
          299.5,
          271.3333333333333,
          354,
          280,
          361.5,
          392,
          330,
          355,
          244.25,
          222.33333333333334,
          504,
          467,
          399,
          382,
          512,
          582,
          465,
          749,
          646,
          1039,
          651,
          800,
          648,
          673,
          1141,
          2095,
          1593,
          1261,
          1579,
          2331,
          1782,
          2956,
          3103,
          1715,
          1734,
          2157,
          2400,
          3109,
          1877,
          3043,
          1610,
          1390,
          3066,
          3189,
          1222,
          2596,
          3619,
          1823,
          1432,
          1977,
          1827,
          1431,
          1276,
          1872,
          1601,
          6461,
          2212,
          1497,
          1700,
          1150,
          2172,
          1621,
          1897,
          1814,
          1515,
          1016,
          1393,
          2080,
          2797,
          1368,
          3163,
          2880,
          3374,
          2970,
          3169,
          2166,
          2743,
          1912,
          2526,
          2408,
          2949,
          2033,
          1708,
          1470,
          2679,
          2728,
          3670,
          2857,
          3403,
          2373,
          4758,
          3309,
          4206,
          4566,
          6182,
          2423,
          2888,
          3523,
          2721,
          3137,
          2444,
          5612,
          8168,
          4044,
          3304,
          2593,
          2482,
          2237,
          4485,
          2510,
          2215,
          3146,
          3279,
          2525,
          3600,
          2878,
          3107,
          3938,
          6900,
          2745,
          2562,
          3127,
          2294,
          2273,
          3160,
          3486,
          3897,
          3188,
          2515,
          1661,
          1711,
          2173,
          1930,
          2512,
          2969,
          1955,
          2050,
          2235,
          1983,
          1662,
          3321,
          1585,
          2787,
          3442,
          2678,
          1744,
          1796,
          3074,
          1697,
          1819,
          3133,
          1865,
          2115.6666666666665,
          1735,
          3579,
          1647,
          2157,
          1836,
          4397,
          4213,
          2702,
          3301,
          3188,
          6651,
          2520,
          2768,
          2459,
          4919,
          5257,
          3594,
          4246,
          3905,
          3083,
          2442,
          5564,
          3184,
          4418,
          2910,
          2782,
          3275,
          4576,
          4525,
          2466,
          2008,
          2429,
          2798,
          2250,
          3587,
          3239,
          3984,
          3431,
          1827,
          3391,
          3122,
          2245,
          4125,
          2322,
          2917,
          3616.5,
          3480,
          4325,
          3355.5,
          4052,
          2577,
          2979,
          3022,
          3385,
          2548,
          4417,
          3503,
          2451,
          2577,
          3528,
          4135,
          7858,
          2922,
          5901,
          5471,
          4404,
          3618,
          7308,
          4219,
          4302,
          3897,
          8037,
          4067.5,
          4919,
          3324,
          6670,
          3170,
          3639,
          13039,
          4885,
          5104,
          4123,
          3674,
          3307,
          5523,
          16572,
          3301,
          3282,
          8820,
          5249,
          12455,
          3197,
          3140,
          4318,
          7585,
          6118,
          3792,
          2709,
          3314,
          4520,
          3184,
          3883,
          15640,
          5733,
          13136,
          4537,
          3740,
          3840,
          5020,
          7117,
          4666,
          3313,
          10162,
          4459,
          5185,
          8135,
          5057,
          9137,
          6196,
          6281,
          4037,
          10763,
          6161,
          9452,
          13685,
          15628,
          16670,
          12368,
          8844,
          16899,
          18973,
          9503,
          13834,
          19218,
          8979,
          20751,
          19176,
          15042,
          13843,
          26843,
          18233,
          29416,
          28365,
          14049,
          32602,
          30522.5,
          30642,
          24357,
          13139,
          13293,
          15662,
          26659,
          14160,
          16409,
          20151,
          33029,
          34701,
          16156,
          25102,
          15819,
          15115,
          16185,
          18775,
          21656,
          13035,
          18387,
          13807,
          25259,
          14630,
          24610.5,
          12726,
          15544,
          26361,
          27860,
          17968,
          25326,
          27483,
          13488,
          35241,
          22677,
          23681,
          17685,
          42345,
          28371,
          22573,
          64208,
          27526,
          19016,
          23782,
          25207,
          33526,
          18454,
          21110,
          18901,
          29894,
          13570,
          22812,
          30047,
          21790,
          21215,
          33008,
          29442,
          15388,
          16193,
          18529,
          11036,
          18562,
          15642,
          11206,
          14839,
          30407,
          39785,
          19359,
          19655,
          11431,
          18929,
          31783,
          15523
         ]
        },
        {
         "mode": "lines",
         "name": "Non-Video Comments",
         "type": "scatter",
         "x": [
          "2019-08-03T00:00:00+05:30",
          "2019-08-04T00:00:00+05:30",
          "2019-08-06T00:00:00+05:30",
          "2019-08-15T00:00:00+05:30",
          "2019-08-30T00:00:00+05:30",
          "2019-09-05T00:00:00+05:30",
          "2019-10-02T00:00:00+05:30",
          "2019-10-16T00:00:00+05:30",
          "2019-10-27T00:00:00+05:30",
          "2019-11-06T00:00:00+05:30",
          "2019-11-12T00:00:00+05:30",
          "2019-11-18T00:00:00+05:30",
          "2019-12-12T00:00:00+05:30",
          "2019-12-21T00:00:00+05:30",
          "2019-12-25T00:00:00+05:30",
          "2020-01-03T00:00:00+05:30",
          "2020-01-15T00:00:00+05:30",
          "2020-01-17T00:00:00+05:30",
          "2020-01-20T00:00:00+05:30",
          "2020-01-26T00:00:00+05:30",
          "2020-02-05T00:00:00+05:30",
          "2020-02-10T00:00:00+05:30",
          "2020-02-15T00:00:00+05:30",
          "2020-02-19T00:00:00+05:30",
          "2020-03-07T00:00:00+05:30",
          "2020-03-17T00:00:00+05:30",
          "2020-03-26T00:00:00+05:30",
          "2020-04-07T00:00:00+05:30",
          "2020-04-11T00:00:00+05:30",
          "2020-05-02T00:00:00+05:30",
          "2020-05-03T00:00:00+05:30",
          "2020-05-10T00:00:00+05:30",
          "2020-05-15T00:00:00+05:30",
          "2020-05-22T00:00:00+05:30",
          "2020-05-24T00:00:00+05:30",
          "2020-05-26T00:00:00+05:30",
          "2020-05-29T00:00:00+05:30",
          "2020-06-02T00:00:00+05:30",
          "2020-06-05T00:00:00+05:30",
          "2020-06-16T00:00:00+05:30",
          "2020-06-20T00:00:00+05:30",
          "2020-06-26T00:00:00+05:30",
          "2020-07-02T00:00:00+05:30",
          "2020-07-09T00:00:00+05:30",
          "2020-07-13T00:00:00+05:30",
          "2020-07-16T00:00:00+05:30",
          "2020-07-22T00:00:00+05:30",
          "2020-07-28T00:00:00+05:30",
          "2020-08-05T00:00:00+05:30",
          "2020-08-22T00:00:00+05:30",
          "2020-09-14T00:00:00+05:30",
          "2020-10-15T00:00:00+05:30",
          "2020-10-16T00:00:00+05:30",
          "2020-10-25T00:00:00+05:30",
          "2020-11-02T00:00:00+05:30",
          "2020-11-06T00:00:00+05:30",
          "2020-12-03T00:00:00+05:30",
          "2020-12-14T00:00:00+05:30",
          "2020-12-16T00:00:00+05:30",
          "2020-12-22T00:00:00+05:30",
          "2020-12-25T00:00:00+05:30",
          "2021-01-08T00:00:00+05:30",
          "2021-01-11T00:00:00+05:30",
          "2021-01-20T00:00:00+05:30",
          "2021-01-22T00:00:00+05:30",
          "2021-02-01T00:00:00+05:30",
          "2021-02-03T00:00:00+05:30",
          "2021-02-04T00:00:00+05:30",
          "2021-02-16T00:00:00+05:30",
          "2021-02-18T00:00:00+05:30",
          "2021-02-19T00:00:00+05:30",
          "2021-02-24T00:00:00+05:30",
          "2021-02-28T00:00:00+05:30",
          "2021-03-01T00:00:00+05:30",
          "2021-03-06T00:00:00+05:30",
          "2021-03-13T00:00:00+05:30",
          "2021-03-15T00:00:00+05:30",
          "2021-03-19T00:00:00+05:30",
          "2021-03-20T00:00:00+05:30",
          "2021-03-23T00:00:00+05:30",
          "2021-03-25T00:00:00+05:30",
          "2021-04-01T00:00:00+05:30",
          "2021-04-08T00:00:00+05:30",
          "2021-04-09T00:00:00+05:30",
          "2021-04-12T00:00:00+05:30",
          "2021-04-17T00:00:00+05:30",
          "2021-04-21T00:00:00+05:30",
          "2021-04-22T00:00:00+05:30",
          "2021-04-23T00:00:00+05:30",
          "2021-04-24T00:00:00+05:30",
          "2021-04-26T00:00:00+05:30",
          "2021-04-27T00:00:00+05:30",
          "2021-04-28T00:00:00+05:30",
          "2021-05-04T00:00:00+05:30",
          "2021-05-06T00:00:00+05:30",
          "2021-05-08T00:00:00+05:30",
          "2021-05-11T00:00:00+05:30",
          "2021-05-17T00:00:00+05:30",
          "2021-05-19T00:00:00+05:30",
          "2021-05-21T00:00:00+05:30",
          "2021-05-24T00:00:00+05:30",
          "2021-05-27T00:00:00+05:30",
          "2021-06-01T00:00:00+05:30",
          "2021-06-03T00:00:00+05:30",
          "2021-06-11T00:00:00+05:30",
          "2021-06-15T00:00:00+05:30",
          "2021-06-17T00:00:00+05:30",
          "2021-06-22T00:00:00+05:30",
          "2021-07-01T00:00:00+05:30",
          "2021-07-10T00:00:00+05:30",
          "2021-07-15T00:00:00+05:30",
          "2021-07-17T00:00:00+05:30",
          "2021-07-22T00:00:00+05:30",
          "2021-07-27T00:00:00+05:30",
          "2021-08-01T00:00:00+05:30",
          "2021-08-11T00:00:00+05:30",
          "2021-08-15T00:00:00+05:30",
          "2021-08-24T00:00:00+05:30",
          "2021-08-26T00:00:00+05:30",
          "2021-09-07T00:00:00+05:30",
          "2021-09-11T00:00:00+05:30",
          "2021-09-12T00:00:00+05:30",
          "2021-09-19T00:00:00+05:30",
          "2021-09-22T00:00:00+05:30",
          "2021-09-24T00:00:00+05:30",
          "2021-09-29T00:00:00+05:30",
          "2021-10-01T00:00:00+05:30",
          "2021-10-06T00:00:00+05:30",
          "2021-10-08T00:00:00+05:30",
          "2021-10-16T00:00:00+05:30",
          "2021-10-19T00:00:00+05:30",
          "2021-10-20T00:00:00+05:30",
          "2021-10-22T00:00:00+05:30",
          "2021-10-25T00:00:00+05:30",
          "2021-10-26T00:00:00+05:30",
          "2021-10-28T00:00:00+05:30",
          "2021-10-29T00:00:00+05:30",
          "2021-10-31T00:00:00+05:30",
          "2021-11-01T00:00:00+05:30",
          "2021-11-04T00:00:00+05:30",
          "2021-11-06T00:00:00+05:30",
          "2021-11-09T00:00:00+05:30",
          "2021-11-12T00:00:00+05:30",
          "2021-11-14T00:00:00+05:30",
          "2021-11-18T00:00:00+05:30",
          "2021-11-22T00:00:00+05:30",
          "2021-11-24T00:00:00+05:30",
          "2021-11-28T00:00:00+05:30",
          "2021-11-29T00:00:00+05:30",
          "2021-12-02T00:00:00+05:30",
          "2021-12-06T00:00:00+05:30",
          "2021-12-07T00:00:00+05:30",
          "2021-12-10T00:00:00+05:30",
          "2021-12-17T00:00:00+05:30",
          "2021-12-21T00:00:00+05:30",
          "2021-12-29T00:00:00+05:30",
          "2021-12-31T00:00:00+05:30",
          "2022-01-03T00:00:00+05:30",
          "2022-01-05T00:00:00+05:30",
          "2022-01-07T00:00:00+05:30",
          "2022-01-10T00:00:00+05:30",
          "2022-01-11T00:00:00+05:30",
          "2022-01-13T00:00:00+05:30",
          "2022-01-14T00:00:00+05:30",
          "2022-01-16T00:00:00+05:30",
          "2022-01-18T00:00:00+05:30",
          "2022-01-21T00:00:00+05:30",
          "2022-01-27T00:00:00+05:30",
          "2022-01-28T00:00:00+05:30",
          "2022-01-30T00:00:00+05:30",
          "2022-02-01T00:00:00+05:30",
          "2022-02-03T00:00:00+05:30",
          "2022-02-04T00:00:00+05:30",
          "2022-02-06T00:00:00+05:30",
          "2022-02-07T00:00:00+05:30",
          "2022-02-08T00:00:00+05:30",
          "2022-02-11T00:00:00+05:30",
          "2022-02-13T00:00:00+05:30",
          "2022-02-14T00:00:00+05:30",
          "2022-02-16T00:00:00+05:30",
          "2022-02-18T00:00:00+05:30",
          "2022-02-19T00:00:00+05:30",
          "2022-02-20T00:00:00+05:30",
          "2022-02-21T00:00:00+05:30",
          "2022-02-22T00:00:00+05:30",
          "2022-02-23T00:00:00+05:30",
          "2022-02-24T00:00:00+05:30",
          "2022-02-25T00:00:00+05:30",
          "2022-02-26T00:00:00+05:30",
          "2022-02-27T00:00:00+05:30",
          "2022-02-28T00:00:00+05:30",
          "2022-03-01T00:00:00+05:30",
          "2022-03-02T00:00:00+05:30",
          "2022-03-03T00:00:00+05:30",
          "2022-03-04T00:00:00+05:30",
          "2022-03-07T00:00:00+05:30",
          "2022-03-08T00:00:00+05:30",
          "2022-03-09T00:00:00+05:30",
          "2022-03-10T00:00:00+05:30",
          "2022-03-11T00:00:00+05:30",
          "2022-03-14T00:00:00+05:30",
          "2022-03-15T00:00:00+05:30",
          "2022-03-16T00:00:00+05:30",
          "2022-03-17T00:00:00+05:30",
          "2022-03-18T00:00:00+05:30",
          "2022-03-19T00:00:00+05:30",
          "2022-03-20T00:00:00+05:30",
          "2022-03-21T00:00:00+05:30",
          "2022-03-22T00:00:00+05:30",
          "2022-03-23T00:00:00+05:30",
          "2022-03-24T00:00:00+05:30",
          "2022-03-25T00:00:00+05:30",
          "2022-03-26T00:00:00+05:30",
          "2022-03-28T00:00:00+05:30",
          "2022-03-29T00:00:00+05:30",
          "2022-03-30T00:00:00+05:30",
          "2022-04-02T00:00:00+05:30",
          "2022-04-04T00:00:00+05:30",
          "2022-04-05T00:00:00+05:30",
          "2022-04-06T00:00:00+05:30",
          "2022-04-07T00:00:00+05:30",
          "2022-04-08T00:00:00+05:30",
          "2022-04-11T00:00:00+05:30",
          "2022-04-12T00:00:00+05:30",
          "2022-04-13T00:00:00+05:30",
          "2022-04-14T00:00:00+05:30",
          "2022-04-17T00:00:00+05:30",
          "2022-04-18T00:00:00+05:30",
          "2022-04-20T00:00:00+05:30",
          "2022-04-22T00:00:00+05:30",
          "2022-04-25T00:00:00+05:30",
          "2022-04-26T00:00:00+05:30",
          "2022-04-28T00:00:00+05:30",
          "2022-04-29T00:00:00+05:30",
          "2022-04-30T00:00:00+05:30",
          "2022-05-04T00:00:00+05:30",
          "2022-05-05T00:00:00+05:30",
          "2022-05-09T00:00:00+05:30",
          "2022-05-10T00:00:00+05:30",
          "2022-05-17T00:00:00+05:30",
          "2022-05-18T00:00:00+05:30",
          "2022-05-21T00:00:00+05:30",
          "2022-05-23T00:00:00+05:30",
          "2022-05-24T00:00:00+05:30",
          "2022-05-26T00:00:00+05:30",
          "2022-05-28T00:00:00+05:30",
          "2022-05-30T00:00:00+05:30",
          "2022-05-31T00:00:00+05:30",
          "2022-06-02T00:00:00+05:30",
          "2022-06-05T00:00:00+05:30",
          "2022-06-07T00:00:00+05:30",
          "2022-06-09T00:00:00+05:30",
          "2022-06-10T00:00:00+05:30",
          "2022-06-13T00:00:00+05:30",
          "2022-06-14T00:00:00+05:30",
          "2022-06-15T00:00:00+05:30",
          "2022-06-16T00:00:00+05:30",
          "2022-06-17T00:00:00+05:30",
          "2022-06-18T00:00:00+05:30",
          "2022-06-22T00:00:00+05:30",
          "2022-06-24T00:00:00+05:30",
          "2022-06-26T00:00:00+05:30",
          "2022-06-27T00:00:00+05:30",
          "2022-06-30T00:00:00+05:30",
          "2022-07-01T00:00:00+05:30",
          "2022-07-06T00:00:00+05:30",
          "2022-07-08T00:00:00+05:30",
          "2022-07-09T00:00:00+05:30",
          "2022-07-14T00:00:00+05:30",
          "2022-07-15T00:00:00+05:30",
          "2022-07-19T00:00:00+05:30",
          "2022-07-21T00:00:00+05:30",
          "2022-07-22T00:00:00+05:30",
          "2022-07-27T00:00:00+05:30",
          "2022-07-28T00:00:00+05:30",
          "2022-07-31T00:00:00+05:30",
          "2022-08-02T00:00:00+05:30",
          "2022-08-03T00:00:00+05:30",
          "2022-08-08T00:00:00+05:30",
          "2022-08-10T00:00:00+05:30",
          "2022-08-15T00:00:00+05:30",
          "2022-08-16T00:00:00+05:30",
          "2022-08-17T00:00:00+05:30",
          "2022-08-21T00:00:00+05:30",
          "2022-08-26T00:00:00+05:30",
          "2022-08-28T00:00:00+05:30",
          "2022-08-29T00:00:00+05:30",
          "2022-08-30T00:00:00+05:30",
          "2022-08-31T00:00:00+05:30",
          "2022-09-05T00:00:00+05:30",
          "2022-09-06T00:00:00+05:30",
          "2022-09-07T00:00:00+05:30",
          "2022-09-08T00:00:00+05:30",
          "2022-09-10T00:00:00+05:30",
          "2022-09-14T00:00:00+05:30",
          "2022-09-15T00:00:00+05:30",
          "2022-09-16T00:00:00+05:30",
          "2022-09-18T00:00:00+05:30",
          "2022-09-19T00:00:00+05:30",
          "2022-09-20T00:00:00+05:30",
          "2022-09-21T00:00:00+05:30",
          "2022-09-27T00:00:00+05:30",
          "2022-09-29T00:00:00+05:30",
          "2022-09-30T00:00:00+05:30",
          "2022-10-02T00:00:00+05:30",
          "2022-10-03T00:00:00+05:30",
          "2022-10-04T00:00:00+05:30",
          "2022-10-05T00:00:00+05:30",
          "2022-10-06T00:00:00+05:30",
          "2022-10-07T00:00:00+05:30",
          "2022-10-10T00:00:00+05:30",
          "2022-10-13T00:00:00+05:30",
          "2022-10-20T00:00:00+05:30",
          "2022-10-21T00:00:00+05:30",
          "2022-10-24T00:00:00+05:30",
          "2022-10-26T00:00:00+05:30",
          "2022-10-28T00:00:00+05:30",
          "2022-10-29T00:00:00+05:30",
          "2022-11-01T00:00:00+05:30",
          "2022-11-03T00:00:00+05:30",
          "2022-11-05T00:00:00+05:30",
          "2022-11-06T00:00:00+05:30",
          "2022-11-07T00:00:00+05:30",
          "2022-11-08T00:00:00+05:30",
          "2022-11-09T00:00:00+05:30",
          "2022-11-10T00:00:00+05:30",
          "2022-11-15T00:00:00+05:30",
          "2022-11-17T00:00:00+05:30",
          "2022-11-19T00:00:00+05:30",
          "2022-11-20T00:00:00+05:30",
          "2022-11-24T00:00:00+05:30",
          "2022-11-25T00:00:00+05:30",
          "2022-11-28T00:00:00+05:30",
          "2022-11-30T00:00:00+05:30",
          "2022-12-02T00:00:00+05:30",
          "2022-12-04T00:00:00+05:30",
          "2022-12-09T00:00:00+05:30",
          "2022-12-10T00:00:00+05:30",
          "2022-12-11T00:00:00+05:30",
          "2022-12-12T00:00:00+05:30",
          "2022-12-14T00:00:00+05:30",
          "2022-12-18T00:00:00+05:30",
          "2022-12-19T00:00:00+05:30",
          "2022-12-21T00:00:00+05:30",
          "2022-12-24T00:00:00+05:30",
          "2022-12-25T00:00:00+05:30",
          "2022-12-26T00:00:00+05:30",
          "2022-12-27T00:00:00+05:30",
          "2023-01-01T00:00:00+05:30",
          "2023-01-03T00:00:00+05:30",
          "2023-01-04T00:00:00+05:30",
          "2023-01-05T00:00:00+05:30",
          "2023-01-10T00:00:00+05:30",
          "2023-01-11T00:00:00+05:30",
          "2023-01-16T00:00:00+05:30",
          "2023-01-17T00:00:00+05:30",
          "2023-01-19T00:00:00+05:30",
          "2023-01-24T00:00:00+05:30",
          "2023-01-26T00:00:00+05:30",
          "2023-01-27T00:00:00+05:30",
          "2023-01-28T00:00:00+05:30",
          "2023-01-29T00:00:00+05:30",
          "2023-02-02T00:00:00+05:30",
          "2023-02-04T00:00:00+05:30",
          "2023-02-06T00:00:00+05:30",
          "2023-02-07T00:00:00+05:30",
          "2023-02-08T00:00:00+05:30",
          "2023-02-09T00:00:00+05:30",
          "2023-02-12T00:00:00+05:30",
          "2023-02-13T00:00:00+05:30",
          "2023-02-14T00:00:00+05:30",
          "2023-02-17T00:00:00+05:30",
          "2023-02-19T00:00:00+05:30",
          "2023-02-20T00:00:00+05:30",
          "2023-02-21T00:00:00+05:30",
          "2023-02-23T00:00:00+05:30",
          "2023-02-25T00:00:00+05:30",
          "2023-03-03T00:00:00+05:30",
          "2023-03-04T00:00:00+05:30",
          "2023-03-09T00:00:00+05:30",
          "2023-03-13T00:00:00+05:30",
          "2023-03-14T00:00:00+05:30",
          "2023-03-16T00:00:00+05:30",
          "2023-03-18T00:00:00+05:30",
          "2023-03-20T00:00:00+05:30",
          "2023-03-21T00:00:00+05:30",
          "2023-03-25T00:00:00+05:30",
          "2023-03-29T00:00:00+05:30",
          "2023-03-30T00:00:00+05:30",
          "2023-03-31T00:00:00+05:30",
          "2023-04-03T00:00:00+05:30",
          "2023-04-06T00:00:00+05:30",
          "2023-04-09T00:00:00+05:30",
          "2023-04-13T00:00:00+05:30",
          "2023-04-17T00:00:00+05:30",
          "2023-04-20T00:00:00+05:30",
          "2023-04-21T00:00:00+05:30"
         ],
         "y": [
          1.3333333333333333,
          0,
          0.6666666666666666,
          0,
          1,
          0,
          0,
          5.5,
          0,
          0,
          0.3333333333333333,
          2.6666666666666665,
          10,
          0.5,
          0,
          0.5,
          0,
          0,
          0,
          1.3333333333333333,
          1,
          0,
          4,
          0.5,
          4,
          0,
          0,
          0.3333333333333333,
          7,
          8,
          1,
          1.6666666666666667,
          1,
          3,
          0.5,
          1,
          5,
          1,
          3,
          3,
          4,
          20,
          6,
          13,
          7,
          164,
          24,
          23,
          12,
          11,
          15,
          59,
          24,
          25,
          37,
          57,
          110,
          119,
          182,
          48,
          69,
          69,
          95,
          122,
          50,
          119,
          50,
          58,
          63,
          86,
          20,
          86,
          93,
          53,
          49,
          52,
          40,
          7,
          29,
          77,
          63,
          691,
          135,
          82,
          73,
          53,
          113,
          37,
          36,
          361,
          146,
          61,
          255,
          585,
          259,
          42,
          143,
          215,
          591,
          145,
          196,
          133,
          132,
          161,
          496,
          67,
          59,
          111,
          99,
          70,
          110,
          151,
          459,
          324,
          334,
          288,
          322,
          208,
          133,
          221,
          6866,
          224,
          66,
          124,
          284,
          179,
          43.5,
          1226,
          188,
          45,
          539,
          126,
          56,
          156,
          243,
          509,
          48,
          60,
          37,
          94,
          354,
          47,
          88,
          256,
          2953,
          270,
          139,
          46,
          501,
          82,
          121,
          386,
          987,
          962,
          75,
          164,
          1856,
          88,
          286,
          1185,
          63,
          154,
          22,
          1191,
          61,
          76,
          1526.5,
          392,
          11491,
          904,
          262,
          43,
          3837,
          49,
          45,
          255,
          2620,
          42,
          66.66666666666667,
          29,
          3790,
          33,
          210.5,
          104,
          2568,
          155,
          123,
          2397,
          203,
          117,
          843,
          900,
          91,
          413,
          66,
          64,
          105,
          121,
          518,
          95,
          1039,
          65,
          222,
          194,
          141,
          51,
          114,
          52,
          61,
          33,
          285,
          45,
          25,
          35,
          26,
          45,
          2467,
          33,
          20,
          183,
          39,
          747,
          29,
          76,
          80.5,
          118,
          79,
          38.5,
          138,
          53,
          29,
          38,
          40,
          25,
          365,
          54,
          62,
          329,
          65,
          2416,
          1224,
          100,
          137,
          124,
          1470,
          1133,
          758,
          581,
          145,
          69,
          159,
          547,
          2578,
          67,
          304,
          66,
          819,
          4854,
          101,
          485.5,
          181,
          109,
          497,
          92,
          15486,
          59,
          150,
          7349,
          95,
          12545,
          71,
          102,
          1099,
          3329,
          154,
          84,
          397,
          126,
          80,
          69,
          69,
          9666,
          1619,
          335,
          80,
          56,
          289,
          195,
          74,
          96,
          87,
          117,
          62,
          1384,
          1716,
          1184,
          138,
          64,
          78,
          407,
          4616,
          81,
          232,
          21103,
          222,
          239,
          2819,
          1673,
          328,
          4520,
          177,
          205,
          5655,
          142,
          324,
          681,
          1783,
          3988,
          11135,
          229,
          5406,
          257,
          549,
          313,
          4853,
          1897,
          521,
          131,
          403,
          2580,
          165,
          746,
          93,
          78,
          7375,
          258,
          218,
          3344,
          1275,
          2496,
          1090,
          1557,
          158,
          87,
          3818,
          160,
          200,
          377,
          168,
          282,
          2840,
          306,
          453,
          167,
          605,
          160,
          2671,
          1320,
          187,
          1512,
          562,
          536,
          3116,
          297,
          360,
          370,
          337,
          255,
          469,
          344,
          299,
          6989,
          283,
          405,
          1707,
          1402,
          2472,
          563,
          427,
          537,
          337,
          326,
          268,
          327,
          145,
          218,
          639,
          1343,
          577,
          10606,
          1160,
          395,
          426,
          186,
          391,
          404,
          734
         ]
        },
        {
         "mode": "lines",
         "name": "Video Likes",
         "type": "scatter",
         "x": [
          "2019-10-16T00:00:00+05:30",
          "2019-11-06T00:00:00+05:30",
          "2020-02-19T00:00:00+05:30",
          "2020-06-21T00:00:00+05:30",
          "2020-07-19T00:00:00+05:30",
          "2020-08-03T00:00:00+05:30",
          "2020-08-11T00:00:00+05:30",
          "2020-09-05T00:00:00+05:30",
          "2020-09-09T00:00:00+05:30",
          "2020-10-16T00:00:00+05:30",
          "2020-10-26T00:00:00+05:30",
          "2020-11-04T00:00:00+05:30",
          "2020-11-14T00:00:00+05:30",
          "2020-11-30T00:00:00+05:30",
          "2020-12-29T00:00:00+05:30",
          "2021-01-02T00:00:00+05:30",
          "2021-01-13T00:00:00+05:30",
          "2021-01-29T00:00:00+05:30",
          "2021-02-09T00:00:00+05:30",
          "2021-02-11T00:00:00+05:30",
          "2021-02-14T00:00:00+05:30",
          "2021-02-22T00:00:00+05:30",
          "2021-03-08T00:00:00+05:30",
          "2021-03-30T00:00:00+05:30",
          "2021-05-09T00:00:00+05:30",
          "2021-05-14T00:00:00+05:30",
          "2021-06-09T00:00:00+05:30",
          "2021-06-20T00:00:00+05:30",
          "2021-07-20T00:00:00+05:30",
          "2021-07-26T00:00:00+05:30",
          "2021-08-10T00:00:00+05:30",
          "2021-08-14T00:00:00+05:30",
          "2021-08-16T00:00:00+05:30",
          "2021-08-19T00:00:00+05:30",
          "2021-08-20T00:00:00+05:30",
          "2021-08-22T00:00:00+05:30",
          "2021-08-27T00:00:00+05:30",
          "2021-09-05T00:00:00+05:30",
          "2021-09-09T00:00:00+05:30",
          "2021-09-20T00:00:00+05:30",
          "2021-09-27T00:00:00+05:30",
          "2021-10-14T00:00:00+05:30",
          "2021-10-18T00:00:00+05:30",
          "2021-10-27T00:00:00+05:30",
          "2021-11-02T00:00:00+05:30",
          "2021-11-08T00:00:00+05:30",
          "2021-11-11T00:00:00+05:30",
          "2021-11-16T00:00:00+05:30",
          "2021-11-20T00:00:00+05:30",
          "2021-11-25T00:00:00+05:30",
          "2021-11-26T00:00:00+05:30",
          "2021-12-01T00:00:00+05:30",
          "2021-12-03T00:00:00+05:30",
          "2021-12-09T00:00:00+05:30",
          "2021-12-12T00:00:00+05:30",
          "2021-12-19T00:00:00+05:30",
          "2021-12-22T00:00:00+05:30",
          "2021-12-23T00:00:00+05:30",
          "2021-12-24T00:00:00+05:30",
          "2021-12-28T00:00:00+05:30",
          "2022-01-06T00:00:00+05:30",
          "2022-01-09T00:00:00+05:30",
          "2022-01-12T00:00:00+05:30",
          "2022-01-14T00:00:00+05:30",
          "2022-01-24T00:00:00+05:30",
          "2022-01-25T00:00:00+05:30",
          "2022-01-26T00:00:00+05:30",
          "2022-01-31T00:00:00+05:30",
          "2022-02-09T00:00:00+05:30",
          "2022-02-15T00:00:00+05:30",
          "2022-02-17T00:00:00+05:30",
          "2022-03-07T00:00:00+05:30",
          "2022-03-13T00:00:00+05:30",
          "2022-04-09T00:00:00+05:30",
          "2022-04-15T00:00:00+05:30",
          "2022-04-19T00:00:00+05:30",
          "2022-04-22T00:00:00+05:30",
          "2022-04-27T00:00:00+05:30",
          "2022-04-29T00:00:00+05:30",
          "2022-04-30T00:00:00+05:30",
          "2022-05-01T00:00:00+05:30",
          "2022-05-02T00:00:00+05:30",
          "2022-05-04T00:00:00+05:30",
          "2022-05-06T00:00:00+05:30",
          "2022-05-08T00:00:00+05:30",
          "2022-05-11T00:00:00+05:30",
          "2022-05-13T00:00:00+05:30",
          "2022-05-16T00:00:00+05:30",
          "2022-05-17T00:00:00+05:30",
          "2022-05-19T00:00:00+05:30",
          "2022-05-20T00:00:00+05:30",
          "2022-05-22T00:00:00+05:30",
          "2022-05-25T00:00:00+05:30",
          "2022-05-26T00:00:00+05:30",
          "2022-05-27T00:00:00+05:30",
          "2022-06-03T00:00:00+05:30",
          "2022-06-06T00:00:00+05:30",
          "2022-06-15T00:00:00+05:30",
          "2022-06-19T00:00:00+05:30",
          "2022-06-25T00:00:00+05:30",
          "2022-07-03T00:00:00+05:30",
          "2022-07-11T00:00:00+05:30",
          "2022-07-20T00:00:00+05:30",
          "2022-07-25T00:00:00+05:30",
          "2022-07-29T00:00:00+05:30",
          "2022-08-04T00:00:00+05:30",
          "2022-08-06T00:00:00+05:30",
          "2022-08-09T00:00:00+05:30",
          "2022-08-11T00:00:00+05:30",
          "2022-08-12T00:00:00+05:30",
          "2022-08-18T00:00:00+05:30",
          "2022-08-22T00:00:00+05:30",
          "2022-08-23T00:00:00+05:30",
          "2022-09-01T00:00:00+05:30",
          "2022-09-03T00:00:00+05:30",
          "2022-09-04T00:00:00+05:30",
          "2022-09-05T00:00:00+05:30",
          "2022-09-11T00:00:00+05:30",
          "2022-09-13T00:00:00+05:30",
          "2022-10-14T00:00:00+05:30",
          "2022-10-18T00:00:00+05:30",
          "2022-10-19T00:00:00+05:30",
          "2022-10-27T00:00:00+05:30",
          "2022-11-02T00:00:00+05:30",
          "2022-11-04T00:00:00+05:30",
          "2022-11-11T00:00:00+05:30",
          "2022-11-13T00:00:00+05:30",
          "2022-11-14T00:00:00+05:30",
          "2022-11-21T00:00:00+05:30",
          "2022-11-27T00:00:00+05:30",
          "2022-12-01T00:00:00+05:30",
          "2022-12-08T00:00:00+05:30",
          "2022-12-15T00:00:00+05:30",
          "2022-12-16T00:00:00+05:30",
          "2022-12-23T00:00:00+05:30",
          "2022-12-24T00:00:00+05:30",
          "2022-12-29T00:00:00+05:30",
          "2022-12-30T00:00:00+05:30",
          "2022-12-31T00:00:00+05:30",
          "2023-01-06T00:00:00+05:30",
          "2023-01-12T00:00:00+05:30",
          "2023-01-13T00:00:00+05:30",
          "2023-01-14T00:00:00+05:30",
          "2023-01-18T00:00:00+05:30",
          "2023-01-20T00:00:00+05:30",
          "2023-01-22T00:00:00+05:30",
          "2023-01-30T00:00:00+05:30",
          "2023-01-31T00:00:00+05:30",
          "2023-02-01T00:00:00+05:30",
          "2023-02-03T00:00:00+05:30",
          "2023-02-05T00:00:00+05:30",
          "2023-02-11T00:00:00+05:30",
          "2023-02-15T00:00:00+05:30",
          "2023-02-16T00:00:00+05:30",
          "2023-02-18T00:00:00+05:30",
          "2023-02-22T00:00:00+05:30",
          "2023-02-24T00:00:00+05:30",
          "2023-02-28T00:00:00+05:30",
          "2023-03-11T00:00:00+05:30",
          "2023-03-23T00:00:00+05:30",
          "2023-03-27T00:00:00+05:30",
          "2023-04-02T00:00:00+05:30",
          "2023-04-04T00:00:00+05:30",
          "2023-04-05T00:00:00+05:30",
          "2023-04-12T00:00:00+05:30",
          "2023-04-15T00:00:00+05:30",
          "2023-04-19T00:00:00+05:30",
          "2023-04-22T00:00:00+05:30",
          "2023-04-23T00:00:00+05:30"
         ],
         "y": [
          358,
          276,
          287,
          540,
          996,
          780,
          858,
          1000,
          658,
          5098,
          1683,
          1871,
          1345,
          2713,
          1877,
          1549,
          1548,
          2674,
          4061,
          3016,
          2065,
          3403,
          1604,
          2577,
          1512,
          2081,
          2020,
          1660,
          2260,
          2464,
          2994,
          2517,
          3439,
          2654,
          6206,
          4151,
          1858,
          2716,
          3868,
          2142,
          2032,
          1178,
          1109,
          2122,
          1645,
          1796,
          3283,
          1264,
          1807,
          1502,
          2426,
          1991,
          1156,
          2190,
          1504,
          1547,
          2067,
          2117,
          2905,
          3305,
          3187,
          2259,
          4534,
          2032,
          1440,
          1252,
          2102,
          2626,
          1646,
          1491,
          2674,
          4583,
          1911,
          3443,
          2639,
          3898,
          3475,
          4588,
          3785.5,
          2911,
          27896,
          2858,
          3344,
          3916,
          2937,
          3810,
          3171,
          3759,
          6672,
          5719,
          3322,
          3638.5,
          6744,
          3517,
          6085,
          5376,
          3642,
          3826,
          5130,
          4920,
          6435,
          3720,
          5206,
          4829,
          3460,
          11801,
          7254,
          5711,
          5626,
          10345,
          4164,
          4633,
          4614,
          12595,
          6059,
          4574,
          5058,
          5099,
          10472,
          15784,
          17508,
          12084,
          19922,
          10613,
          28230,
          12084,
          17923,
          12088,
          10743,
          11503,
          9788,
          11607,
          10580,
          11301,
          11126,
          29535,
          9380,
          34636,
          12296,
          31366,
          17172,
          16490.5,
          22089,
          13783,
          18720,
          13578,
          12901,
          14705,
          18690,
          20470,
          15522,
          14274,
          11947,
          15540,
          16631,
          27383,
          20768,
          13124,
          340994,
          11307,
          10835,
          31532,
          12764,
          11908,
          13209,
          11592,
          14304,
          5726,
          3847
         ]
        },
        {
         "mode": "lines",
         "name": "Video Comments",
         "type": "scatter",
         "x": [
          "2019-10-16T00:00:00+05:30",
          "2019-11-06T00:00:00+05:30",
          "2020-02-19T00:00:00+05:30",
          "2020-06-21T00:00:00+05:30",
          "2020-07-19T00:00:00+05:30",
          "2020-08-03T00:00:00+05:30",
          "2020-08-11T00:00:00+05:30",
          "2020-09-05T00:00:00+05:30",
          "2020-09-09T00:00:00+05:30",
          "2020-10-16T00:00:00+05:30",
          "2020-10-26T00:00:00+05:30",
          "2020-11-04T00:00:00+05:30",
          "2020-11-14T00:00:00+05:30",
          "2020-11-30T00:00:00+05:30",
          "2020-12-29T00:00:00+05:30",
          "2021-01-02T00:00:00+05:30",
          "2021-01-13T00:00:00+05:30",
          "2021-01-29T00:00:00+05:30",
          "2021-02-09T00:00:00+05:30",
          "2021-02-11T00:00:00+05:30",
          "2021-02-14T00:00:00+05:30",
          "2021-02-22T00:00:00+05:30",
          "2021-03-08T00:00:00+05:30",
          "2021-03-30T00:00:00+05:30",
          "2021-05-09T00:00:00+05:30",
          "2021-05-14T00:00:00+05:30",
          "2021-06-09T00:00:00+05:30",
          "2021-06-20T00:00:00+05:30",
          "2021-07-20T00:00:00+05:30",
          "2021-07-26T00:00:00+05:30",
          "2021-08-10T00:00:00+05:30",
          "2021-08-14T00:00:00+05:30",
          "2021-08-16T00:00:00+05:30",
          "2021-08-19T00:00:00+05:30",
          "2021-08-20T00:00:00+05:30",
          "2021-08-22T00:00:00+05:30",
          "2021-08-27T00:00:00+05:30",
          "2021-09-05T00:00:00+05:30",
          "2021-09-09T00:00:00+05:30",
          "2021-09-20T00:00:00+05:30",
          "2021-09-27T00:00:00+05:30",
          "2021-10-14T00:00:00+05:30",
          "2021-10-18T00:00:00+05:30",
          "2021-10-27T00:00:00+05:30",
          "2021-11-02T00:00:00+05:30",
          "2021-11-08T00:00:00+05:30",
          "2021-11-11T00:00:00+05:30",
          "2021-11-16T00:00:00+05:30",
          "2021-11-20T00:00:00+05:30",
          "2021-11-25T00:00:00+05:30",
          "2021-11-26T00:00:00+05:30",
          "2021-12-01T00:00:00+05:30",
          "2021-12-03T00:00:00+05:30",
          "2021-12-09T00:00:00+05:30",
          "2021-12-12T00:00:00+05:30",
          "2021-12-19T00:00:00+05:30",
          "2021-12-22T00:00:00+05:30",
          "2021-12-23T00:00:00+05:30",
          "2021-12-24T00:00:00+05:30",
          "2021-12-28T00:00:00+05:30",
          "2022-01-06T00:00:00+05:30",
          "2022-01-09T00:00:00+05:30",
          "2022-01-12T00:00:00+05:30",
          "2022-01-14T00:00:00+05:30",
          "2022-01-24T00:00:00+05:30",
          "2022-01-25T00:00:00+05:30",
          "2022-01-26T00:00:00+05:30",
          "2022-01-31T00:00:00+05:30",
          "2022-02-09T00:00:00+05:30",
          "2022-02-15T00:00:00+05:30",
          "2022-02-17T00:00:00+05:30",
          "2022-03-07T00:00:00+05:30",
          "2022-03-13T00:00:00+05:30",
          "2022-04-09T00:00:00+05:30",
          "2022-04-15T00:00:00+05:30",
          "2022-04-19T00:00:00+05:30",
          "2022-04-22T00:00:00+05:30",
          "2022-04-27T00:00:00+05:30",
          "2022-04-29T00:00:00+05:30",
          "2022-04-30T00:00:00+05:30",
          "2022-05-01T00:00:00+05:30",
          "2022-05-02T00:00:00+05:30",
          "2022-05-04T00:00:00+05:30",
          "2022-05-06T00:00:00+05:30",
          "2022-05-08T00:00:00+05:30",
          "2022-05-11T00:00:00+05:30",
          "2022-05-13T00:00:00+05:30",
          "2022-05-16T00:00:00+05:30",
          "2022-05-17T00:00:00+05:30",
          "2022-05-19T00:00:00+05:30",
          "2022-05-20T00:00:00+05:30",
          "2022-05-22T00:00:00+05:30",
          "2022-05-25T00:00:00+05:30",
          "2022-05-26T00:00:00+05:30",
          "2022-05-27T00:00:00+05:30",
          "2022-06-03T00:00:00+05:30",
          "2022-06-06T00:00:00+05:30",
          "2022-06-15T00:00:00+05:30",
          "2022-06-19T00:00:00+05:30",
          "2022-06-25T00:00:00+05:30",
          "2022-07-03T00:00:00+05:30",
          "2022-07-11T00:00:00+05:30",
          "2022-07-20T00:00:00+05:30",
          "2022-07-25T00:00:00+05:30",
          "2022-07-29T00:00:00+05:30",
          "2022-08-04T00:00:00+05:30",
          "2022-08-06T00:00:00+05:30",
          "2022-08-09T00:00:00+05:30",
          "2022-08-11T00:00:00+05:30",
          "2022-08-12T00:00:00+05:30",
          "2022-08-18T00:00:00+05:30",
          "2022-08-22T00:00:00+05:30",
          "2022-08-23T00:00:00+05:30",
          "2022-09-01T00:00:00+05:30",
          "2022-09-03T00:00:00+05:30",
          "2022-09-04T00:00:00+05:30",
          "2022-09-05T00:00:00+05:30",
          "2022-09-11T00:00:00+05:30",
          "2022-09-13T00:00:00+05:30",
          "2022-10-14T00:00:00+05:30",
          "2022-10-18T00:00:00+05:30",
          "2022-10-19T00:00:00+05:30",
          "2022-10-27T00:00:00+05:30",
          "2022-11-02T00:00:00+05:30",
          "2022-11-04T00:00:00+05:30",
          "2022-11-11T00:00:00+05:30",
          "2022-11-13T00:00:00+05:30",
          "2022-11-14T00:00:00+05:30",
          "2022-11-21T00:00:00+05:30",
          "2022-11-27T00:00:00+05:30",
          "2022-12-01T00:00:00+05:30",
          "2022-12-08T00:00:00+05:30",
          "2022-12-15T00:00:00+05:30",
          "2022-12-16T00:00:00+05:30",
          "2022-12-23T00:00:00+05:30",
          "2022-12-24T00:00:00+05:30",
          "2022-12-29T00:00:00+05:30",
          "2022-12-30T00:00:00+05:30",
          "2022-12-31T00:00:00+05:30",
          "2023-01-06T00:00:00+05:30",
          "2023-01-12T00:00:00+05:30",
          "2023-01-13T00:00:00+05:30",
          "2023-01-14T00:00:00+05:30",
          "2023-01-18T00:00:00+05:30",
          "2023-01-20T00:00:00+05:30",
          "2023-01-22T00:00:00+05:30",
          "2023-01-30T00:00:00+05:30",
          "2023-01-31T00:00:00+05:30",
          "2023-02-01T00:00:00+05:30",
          "2023-02-03T00:00:00+05:30",
          "2023-02-05T00:00:00+05:30",
          "2023-02-11T00:00:00+05:30",
          "2023-02-15T00:00:00+05:30",
          "2023-02-16T00:00:00+05:30",
          "2023-02-18T00:00:00+05:30",
          "2023-02-22T00:00:00+05:30",
          "2023-02-24T00:00:00+05:30",
          "2023-02-28T00:00:00+05:30",
          "2023-03-11T00:00:00+05:30",
          "2023-03-23T00:00:00+05:30",
          "2023-03-27T00:00:00+05:30",
          "2023-04-02T00:00:00+05:30",
          "2023-04-04T00:00:00+05:30",
          "2023-04-05T00:00:00+05:30",
          "2023-04-12T00:00:00+05:30",
          "2023-04-15T00:00:00+05:30",
          "2023-04-19T00:00:00+05:30",
          "2023-04-22T00:00:00+05:30",
          "2023-04-23T00:00:00+05:30"
         ],
         "y": [
          51,
          3,
          1,
          7,
          49,
          26,
          14,
          60,
          14,
          83,
          274,
          111,
          43,
          401,
          73,
          157,
          57,
          101,
          399,
          138,
          44,
          75,
          18,
          247,
          47,
          80,
          89,
          53,
          131,
          156,
          255,
          86,
          236,
          174,
          137,
          242,
          90,
          125,
          152,
          86,
          43,
          20,
          53,
          30,
          69,
          53,
          27,
          27,
          75,
          40,
          194,
          959,
          36,
          34,
          63,
          77,
          68,
          89,
          162,
          62,
          47,
          86,
          142,
          65,
          59,
          38,
          28,
          75,
          2284,
          17,
          40,
          61,
          79,
          61,
          2223,
          62,
          5035,
          63,
          285.5,
          546,
          99,
          109,
          44,
          2025,
          87,
          102,
          17966,
          827,
          4557,
          126,
          691,
          150.5,
          179,
          48,
          3317.5,
          2088,
          154,
          140,
          141,
          121,
          81,
          68,
          120,
          451,
          79,
          281,
          91,
          53,
          43,
          640,
          72,
          67,
          843,
          11569,
          106,
          204,
          34,
          103,
          4081,
          399,
          413,
          394,
          228,
          647,
          2777,
          103,
          347,
          92,
          74,
          86,
          83,
          142,
          58,
          108,
          157,
          2129,
          86,
          6928,
          138,
          13720,
          306,
          1218,
          104,
          202,
          3718,
          138,
          214,
          191,
          320,
          5766,
          172,
          168,
          253,
          179,
          161,
          397,
          1145,
          996,
          1229,
          179,
          182,
          402,
          243,
          316,
          201,
          9474,
          93,
          116,
          56
         ]
        }
       ],
       "layout": {
        "template": {
         "data": {
          "bar": [
           {
            "error_x": {
             "color": "#2a3f5f"
            },
            "error_y": {
             "color": "#2a3f5f"
            },
            "marker": {
             "line": {
              "color": "#E5ECF6",
              "width": 0.5
             },
             "pattern": {
              "fillmode": "overlay",
              "size": 10,
              "solidity": 0.2
             }
            },
            "type": "bar"
           }
          ],
          "barpolar": [
           {
            "marker": {
             "line": {
              "color": "#E5ECF6",
              "width": 0.5
             },
             "pattern": {
              "fillmode": "overlay",
              "size": 10,
              "solidity": 0.2
             }
            },
            "type": "barpolar"
           }
          ],
          "carpet": [
           {
            "aaxis": {
             "endlinecolor": "#2a3f5f",
             "gridcolor": "white",
             "linecolor": "white",
             "minorgridcolor": "white",
             "startlinecolor": "#2a3f5f"
            },
            "baxis": {
             "endlinecolor": "#2a3f5f",
             "gridcolor": "white",
             "linecolor": "white",
             "minorgridcolor": "white",
             "startlinecolor": "#2a3f5f"
            },
            "type": "carpet"
           }
          ],
          "choropleth": [
           {
            "colorbar": {
             "outlinewidth": 0,
             "ticks": ""
            },
            "type": "choropleth"
           }
          ],
          "contour": [
           {
            "colorbar": {
             "outlinewidth": 0,
             "ticks": ""
            },
            "colorscale": [
             [
              0,
              "#0d0887"
             ],
             [
              0.1111111111111111,
              "#46039f"
             ],
             [
              0.2222222222222222,
              "#7201a8"
             ],
             [
              0.3333333333333333,
              "#9c179e"
             ],
             [
              0.4444444444444444,
              "#bd3786"
             ],
             [
              0.5555555555555556,
              "#d8576b"
             ],
             [
              0.6666666666666666,
              "#ed7953"
             ],
             [
              0.7777777777777778,
              "#fb9f3a"
             ],
             [
              0.8888888888888888,
              "#fdca26"
             ],
             [
              1,
              "#f0f921"
             ]
            ],
            "type": "contour"
           }
          ],
          "contourcarpet": [
           {
            "colorbar": {
             "outlinewidth": 0,
             "ticks": ""
            },
            "type": "contourcarpet"
           }
          ],
          "heatmap": [
           {
            "colorbar": {
             "outlinewidth": 0,
             "ticks": ""
            },
            "colorscale": [
             [
              0,
              "#0d0887"
             ],
             [
              0.1111111111111111,
              "#46039f"
             ],
             [
              0.2222222222222222,
              "#7201a8"
             ],
             [
              0.3333333333333333,
              "#9c179e"
             ],
             [
              0.4444444444444444,
              "#bd3786"
             ],
             [
              0.5555555555555556,
              "#d8576b"
             ],
             [
              0.6666666666666666,
              "#ed7953"
             ],
             [
              0.7777777777777778,
              "#fb9f3a"
             ],
             [
              0.8888888888888888,
              "#fdca26"
             ],
             [
              1,
              "#f0f921"
             ]
            ],
            "type": "heatmap"
           }
          ],
          "heatmapgl": [
           {
            "colorbar": {
             "outlinewidth": 0,
             "ticks": ""
            },
            "colorscale": [
             [
              0,
              "#0d0887"
             ],
             [
              0.1111111111111111,
              "#46039f"
             ],
             [
              0.2222222222222222,
              "#7201a8"
             ],
             [
              0.3333333333333333,
              "#9c179e"
             ],
             [
              0.4444444444444444,
              "#bd3786"
             ],
             [
              0.5555555555555556,
              "#d8576b"
             ],
             [
              0.6666666666666666,
              "#ed7953"
             ],
             [
              0.7777777777777778,
              "#fb9f3a"
             ],
             [
              0.8888888888888888,
              "#fdca26"
             ],
             [
              1,
              "#f0f921"
             ]
            ],
            "type": "heatmapgl"
           }
          ],
          "histogram": [
           {
            "marker": {
             "pattern": {
              "fillmode": "overlay",
              "size": 10,
              "solidity": 0.2
             }
            },
            "type": "histogram"
           }
          ],
          "histogram2d": [
           {
            "colorbar": {
             "outlinewidth": 0,
             "ticks": ""
            },
            "colorscale": [
             [
              0,
              "#0d0887"
             ],
             [
              0.1111111111111111,
              "#46039f"
             ],
             [
              0.2222222222222222,
              "#7201a8"
             ],
             [
              0.3333333333333333,
              "#9c179e"
             ],
             [
              0.4444444444444444,
              "#bd3786"
             ],
             [
              0.5555555555555556,
              "#d8576b"
             ],
             [
              0.6666666666666666,
              "#ed7953"
             ],
             [
              0.7777777777777778,
              "#fb9f3a"
             ],
             [
              0.8888888888888888,
              "#fdca26"
             ],
             [
              1,
              "#f0f921"
             ]
            ],
            "type": "histogram2d"
           }
          ],
          "histogram2dcontour": [
           {
            "colorbar": {
             "outlinewidth": 0,
             "ticks": ""
            },
            "colorscale": [
             [
              0,
              "#0d0887"
             ],
             [
              0.1111111111111111,
              "#46039f"
             ],
             [
              0.2222222222222222,
              "#7201a8"
             ],
             [
              0.3333333333333333,
              "#9c179e"
             ],
             [
              0.4444444444444444,
              "#bd3786"
             ],
             [
              0.5555555555555556,
              "#d8576b"
             ],
             [
              0.6666666666666666,
              "#ed7953"
             ],
             [
              0.7777777777777778,
              "#fb9f3a"
             ],
             [
              0.8888888888888888,
              "#fdca26"
             ],
             [
              1,
              "#f0f921"
             ]
            ],
            "type": "histogram2dcontour"
           }
          ],
          "mesh3d": [
           {
            "colorbar": {
             "outlinewidth": 0,
             "ticks": ""
            },
            "type": "mesh3d"
           }
          ],
          "parcoords": [
           {
            "line": {
             "colorbar": {
              "outlinewidth": 0,
              "ticks": ""
             }
            },
            "type": "parcoords"
           }
          ],
          "pie": [
           {
            "automargin": true,
            "type": "pie"
           }
          ],
          "scatter": [
           {
            "fillpattern": {
             "fillmode": "overlay",
             "size": 10,
             "solidity": 0.2
            },
            "type": "scatter"
           }
          ],
          "scatter3d": [
           {
            "line": {
             "colorbar": {
              "outlinewidth": 0,
              "ticks": ""
             }
            },
            "marker": {
             "colorbar": {
              "outlinewidth": 0,
              "ticks": ""
             }
            },
            "type": "scatter3d"
           }
          ],
          "scattercarpet": [
           {
            "marker": {
             "colorbar": {
              "outlinewidth": 0,
              "ticks": ""
             }
            },
            "type": "scattercarpet"
           }
          ],
          "scattergeo": [
           {
            "marker": {
             "colorbar": {
              "outlinewidth": 0,
              "ticks": ""
             }
            },
            "type": "scattergeo"
           }
          ],
          "scattergl": [
           {
            "marker": {
             "colorbar": {
              "outlinewidth": 0,
              "ticks": ""
             }
            },
            "type": "scattergl"
           }
          ],
          "scattermapbox": [
           {
            "marker": {
             "colorbar": {
              "outlinewidth": 0,
              "ticks": ""
             }
            },
            "type": "scattermapbox"
           }
          ],
          "scatterpolar": [
           {
            "marker": {
             "colorbar": {
              "outlinewidth": 0,
              "ticks": ""
             }
            },
            "type": "scatterpolar"
           }
          ],
          "scatterpolargl": [
           {
            "marker": {
             "colorbar": {
              "outlinewidth": 0,
              "ticks": ""
             }
            },
            "type": "scatterpolargl"
           }
          ],
          "scatterternary": [
           {
            "marker": {
             "colorbar": {
              "outlinewidth": 0,
              "ticks": ""
             }
            },
            "type": "scatterternary"
           }
          ],
          "surface": [
           {
            "colorbar": {
             "outlinewidth": 0,
             "ticks": ""
            },
            "colorscale": [
             [
              0,
              "#0d0887"
             ],
             [
              0.1111111111111111,
              "#46039f"
             ],
             [
              0.2222222222222222,
              "#7201a8"
             ],
             [
              0.3333333333333333,
              "#9c179e"
             ],
             [
              0.4444444444444444,
              "#bd3786"
             ],
             [
              0.5555555555555556,
              "#d8576b"
             ],
             [
              0.6666666666666666,
              "#ed7953"
             ],
             [
              0.7777777777777778,
              "#fb9f3a"
             ],
             [
              0.8888888888888888,
              "#fdca26"
             ],
             [
              1,
              "#f0f921"
             ]
            ],
            "type": "surface"
           }
          ],
          "table": [
           {
            "cells": {
             "fill": {
              "color": "#EBF0F8"
             },
             "line": {
              "color": "white"
             }
            },
            "header": {
             "fill": {
              "color": "#C8D4E3"
             },
             "line": {
              "color": "white"
             }
            },
            "type": "table"
           }
          ]
         },
         "layout": {
          "annotationdefaults": {
           "arrowcolor": "#2a3f5f",
           "arrowhead": 0,
           "arrowwidth": 1
          },
          "autotypenumbers": "strict",
          "coloraxis": {
           "colorbar": {
            "outlinewidth": 0,
            "ticks": ""
           }
          },
          "colorscale": {
           "diverging": [
            [
             0,
             "#8e0152"
            ],
            [
             0.1,
             "#c51b7d"
            ],
            [
             0.2,
             "#de77ae"
            ],
            [
             0.3,
             "#f1b6da"
            ],
            [
             0.4,
             "#fde0ef"
            ],
            [
             0.5,
             "#f7f7f7"
            ],
            [
             0.6,
             "#e6f5d0"
            ],
            [
             0.7,
             "#b8e186"
            ],
            [
             0.8,
             "#7fbc41"
            ],
            [
             0.9,
             "#4d9221"
            ],
            [
             1,
             "#276419"
            ]
           ],
           "sequential": [
            [
             0,
             "#0d0887"
            ],
            [
             0.1111111111111111,
             "#46039f"
            ],
            [
             0.2222222222222222,
             "#7201a8"
            ],
            [
             0.3333333333333333,
             "#9c179e"
            ],
            [
             0.4444444444444444,
             "#bd3786"
            ],
            [
             0.5555555555555556,
             "#d8576b"
            ],
            [
             0.6666666666666666,
             "#ed7953"
            ],
            [
             0.7777777777777778,
             "#fb9f3a"
            ],
            [
             0.8888888888888888,
             "#fdca26"
            ],
            [
             1,
             "#f0f921"
            ]
           ],
           "sequentialminus": [
            [
             0,
             "#0d0887"
            ],
            [
             0.1111111111111111,
             "#46039f"
            ],
            [
             0.2222222222222222,
             "#7201a8"
            ],
            [
             0.3333333333333333,
             "#9c179e"
            ],
            [
             0.4444444444444444,
             "#bd3786"
            ],
            [
             0.5555555555555556,
             "#d8576b"
            ],
            [
             0.6666666666666666,
             "#ed7953"
            ],
            [
             0.7777777777777778,
             "#fb9f3a"
            ],
            [
             0.8888888888888888,
             "#fdca26"
            ],
            [
             1,
             "#f0f921"
            ]
           ]
          },
          "colorway": [
           "#636efa",
           "#EF553B",
           "#00cc96",
           "#ab63fa",
           "#FFA15A",
           "#19d3f3",
           "#FF6692",
           "#B6E880",
           "#FF97FF",
           "#FECB52"
          ],
          "font": {
           "color": "#2a3f5f"
          },
          "geo": {
           "bgcolor": "white",
           "lakecolor": "white",
           "landcolor": "#E5ECF6",
           "showlakes": true,
           "showland": true,
           "subunitcolor": "white"
          },
          "hoverlabel": {
           "align": "left"
          },
          "hovermode": "closest",
          "mapbox": {
           "style": "light"
          },
          "paper_bgcolor": "white",
          "plot_bgcolor": "#E5ECF6",
          "polar": {
           "angularaxis": {
            "gridcolor": "white",
            "linecolor": "white",
            "ticks": ""
           },
           "bgcolor": "#E5ECF6",
           "radialaxis": {
            "gridcolor": "white",
            "linecolor": "white",
            "ticks": ""
           }
          },
          "scene": {
           "xaxis": {
            "backgroundcolor": "#E5ECF6",
            "gridcolor": "white",
            "gridwidth": 2,
            "linecolor": "white",
            "showbackground": true,
            "ticks": "",
            "zerolinecolor": "white"
           },
           "yaxis": {
            "backgroundcolor": "#E5ECF6",
            "gridcolor": "white",
            "gridwidth": 2,
            "linecolor": "white",
            "showbackground": true,
            "ticks": "",
            "zerolinecolor": "white"
           },
           "zaxis": {
            "backgroundcolor": "#E5ECF6",
            "gridcolor": "white",
            "gridwidth": 2,
            "linecolor": "white",
            "showbackground": true,
            "ticks": "",
            "zerolinecolor": "white"
           }
          },
          "shapedefaults": {
           "line": {
            "color": "#2a3f5f"
           }
          },
          "ternary": {
           "aaxis": {
            "gridcolor": "white",
            "linecolor": "white",
            "ticks": ""
           },
           "baxis": {
            "gridcolor": "white",
            "linecolor": "white",
            "ticks": ""
           },
           "bgcolor": "#E5ECF6",
           "caxis": {
            "gridcolor": "white",
            "linecolor": "white",
            "ticks": ""
           }
          },
          "title": {
           "x": 0.05
          },
          "xaxis": {
           "automargin": true,
           "gridcolor": "white",
           "linecolor": "white",
           "ticks": "",
           "title": {
            "standoff": 15
           },
           "zerolinecolor": "white",
           "zerolinewidth": 2
          },
          "yaxis": {
           "automargin": true,
           "gridcolor": "white",
           "linecolor": "white",
           "ticks": "",
           "title": {
            "standoff": 15
           },
           "zerolinecolor": "white",
           "zerolinewidth": 2
          }
         }
        },
        "title": {
         "text": "Average Number of Interactions by Video vs. Non-Video Posts Over Time"
        },
        "xaxis": {
         "title": {
          "text": "Upload Time"
         }
        },
        "yaxis": {
         "title": {
          "text": "Average Number of Interactions"
         }
        }
       }
      }
     },
     "metadata": {},
     "output_type": "display_data"
    }
   ],
   "source": [
    "interaction_means = df.groupby(['is_video', pd.Grouper(key='upload_time', freq='D')]).mean()[['num_likes', 'num_comments']]\n",
    "interaction_means = interaction_means.reset_index()\n",
    "interaction_means['is_video'] = interaction_means['is_video'].apply(lambda x: 'Video' if x else 'Non-Video')\n",
    "\n",
    "fig = go.Figure()\n",
    "\n",
    "for post_type in interaction_means['is_video'].unique():\n",
    "    fig.add_trace(go.Scatter(\n",
    "        x=interaction_means.loc[interaction_means['is_video']==post_type, 'upload_time'],\n",
    "        y=interaction_means.loc[interaction_means['is_video']==post_type, 'num_likes'],\n",
    "        mode='lines',\n",
    "        name=f'{post_type} Likes'\n",
    "    ))\n",
    "\n",
    "    fig.add_trace(go.Scatter(\n",
    "        x=interaction_means.loc[interaction_means['is_video']==post_type, 'upload_time'],\n",
    "        y=interaction_means.loc[interaction_means['is_video']==post_type, 'num_comments'],\n",
    "        mode='lines',\n",
    "        name=f'{post_type} Comments'\n",
    "    ))\n",
    "\n",
    "fig.update_layout(\n",
    "    title='Average Number of Interactions by Video vs. Non-Video Posts Over Time',\n",
    "    xaxis_title='Upload Time',\n",
    "    yaxis_title='Average Number of Interactions'\n",
    ")\n",
    "\n",
    "fig.show()"
   ]
  }
 ],
 "metadata": {
  "kernelspec": {
   "display_name": "base",
   "language": "python",
   "name": "python3"
  },
  "language_info": {
   "codemirror_mode": {
    "name": "ipython",
    "version": 3
   },
   "file_extension": ".py",
   "mimetype": "text/x-python",
   "name": "python",
   "nbconvert_exporter": "python",
   "pygments_lexer": "ipython3",
   "version": "3.10.9"
  },
  "orig_nbformat": 4
 },
 "nbformat": 4,
 "nbformat_minor": 2
}
