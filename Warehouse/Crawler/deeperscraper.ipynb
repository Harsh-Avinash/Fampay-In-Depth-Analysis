{
 "cells": [
  {
   "cell_type": "code",
   "execution_count": 40,
   "metadata": {},
   "outputs": [],
   "source": [
    "from bs4 import BeautifulSoup\n",
    "from urllib.request import Request, urlopen\n",
    "import re"
   ]
  },
  {
   "cell_type": "code",
   "execution_count": 46,
   "metadata": {},
   "outputs": [],
   "source": [
    "scrapped = [\"https://fampay.in/press\",\n",
    "\"https://fampay.in/blog\",\n",
    "\"https://fampay.in/\",\n",
    "\"https://fampay.in/blog/\",\n",
    "\"https://fampay.in/contact\",\n",
    "\"https://famcard.me\",\n",
    "\"https://fampay.in/parent\",\n",
    "\"https://fampay.in/terms\",\n",
    "\"https://fampay.in/about\",\n",
    "\"https://fampay.in/partner\",\n",
    "\"https://fampay.in/privacy\",\n",
    "\"https://fampay.in/faqs\",\n",
    "\"https://fampay.in/careers\",\n",
    "\"https://fampay.in/friends\"]"
   ]
  },
  {
   "cell_type": "code",
   "execution_count": 47,
   "metadata": {},
   "outputs": [
    {
     "name": "stdout",
     "output_type": "stream",
     "text": [
      "Scraped https://fampay.in/press\n",
      "Scraped https://fampay.in/blog\n",
      "Scraped https://fampay.in/\n",
      "Scraped https://fampay.in/blog/\n",
      "Scraped https://fampay.in/contact\n",
      "Scraped https://famcard.me\n",
      "Scraped https://fampay.in/parent\n",
      "Scraped https://fampay.in/terms\n",
      "Scraped https://fampay.in/about\n",
      "Scraped https://fampay.in/partner\n",
      "Scraped https://fampay.in/privacy\n",
      "Error 404: Not Found at https://fampay.in/faqs\n",
      "Scraped https://fampay.in/careers\n",
      "Scraped https://fampay.in/friends\n"
     ]
    }
   ],
   "source": [
    "links = []\n",
    "for link in scrapped:\n",
    "    try:\n",
    "        req = Request(link)\n",
    "        html_page = urlopen(req)\n",
    "        print(f\"Scraped {link}\")\n",
    "    except HTTPError as e:\n",
    "        print(f\"Error {e.code}: {e.reason} at {link}\")\n",
    "        continue\n",
    "\n",
    "    soup = BeautifulSoup(html_page, \"lxml\")\n",
    "    for link in soup.findAll('a', attrs={'href': re.compile(\"^https://\")}):\n",
    "        links.append(link.get('href'))"
   ]
  },
  {
   "cell_type": "code",
   "execution_count": 49,
   "metadata": {},
   "outputs": [],
   "source": [
    "# Remove duplicates in list\n",
    "links = list(dict.fromkeys(links))"
   ]
  },
  {
   "cell_type": "code",
   "execution_count": 52,
   "metadata": {},
   "outputs": [
    {
     "data": {
      "text/plain": [
       "['https://famcard.me/',\n",
       " 'https://www.forbes.com/profile/fampay/?list=30under30-asia-finance-vc&sh=7c71d801111e',\n",
       " 'https://economictimes.indiatimes.com/startups/fampay-lands-4-7m-from-y-combinator-sequoia-venture-highway-others/articleshow/74596414.cms',\n",
       " 'https://economictimes.indiatimes.com/small-biz/startups/newsbuzz/fampay-launches-numberless-card-targeted-at-teenagers/articleshow/76999298.cms',\n",
       " 'https://yourstory.com/2020/08/fintech-startup-fampay-iit-roorkee-alumni',\n",
       " 'https://www.cnbctv18.com/business/digital-payments-exploding-in-india-tech-savvy-teens-still-stuck-paying-with-cash-survey-by-fampay-7140041.htm',\n",
       " 'https://inc42.com/features/30-startups-to-watch-the-startups-that-caught-our-eye-in-2020/',\n",
       " 'https://www.edexlive.com/news/2020/nov/04/fampay-indias-first-neobank-for-teenagersis-set-to-launch-the-biggest-digi-fest-famjam-15616.html',\n",
       " 'https://triotech-website.s3.ap-south-1.amazonaws.com/public/FamPay+TT+Privacy+Policy.pdf',\n",
       " 'https://triotech-website.s3.ap-south-1.amazonaws.com/public/FamPay+TT+-+Terms+of+Use.pdf',\n",
       " 'https://www.facebook.com/fampay.in/',\n",
       " 'https://medium.com/fampay',\n",
       " 'https://www.instagram.com/fampay.in/',\n",
       " 'https://www.linkedin.com/company/fampay/',\n",
       " 'https://twitter.com/fampayindia',\n",
       " 'https://discord.gg/fampay',\n",
       " 'https://www.snapchat.com/add/fampay.in',\n",
       " 'https://www.youtube.com/channel/UC58iir7F5tai0Hx28nyGPtA',\n",
       " 'https://fampay.in',\n",
       " 'https://fampay.in/blog/',\n",
       " 'https://fampay.in/blog/tag/teens/',\n",
       " 'https://fampay.in/blog/tag/parents/',\n",
       " 'https://fampay.in/blog/tag/news/',\n",
       " 'https://fampay.in/blog/tag/famsays/',\n",
       " 'https://fampay.in/blog/newsletter',\n",
       " 'https://fampay.in/blog/author/fampay/',\n",
       " 'https://fampay.in/blog/tag/tech/',\n",
       " 'https://fampay.in/blog/tag/community/',\n",
       " 'https://fampay.in/blog/tag/lifestyle/',\n",
       " 'https://www.facebook.com/fampay.in',\n",
       " 'https://play.google.com/store/apps/details?id=com.fampay.in&hl=en_IN&gl=US',\n",
       " 'https://www.elevationcapital.com/',\n",
       " 'https://www.sequoiacap.com/india/',\n",
       " 'https://www.generalcatalyst.com/',\n",
       " 'https://www.ycombinator.com/',\n",
       " 'https://www.globalfounderscapital.com//',\n",
       " 'https://www.rocketship.vc/',\n",
       " 'https://fampay.in/',\n",
       " 'https://fampay.in/privacy',\n",
       " 'https://fampay.in/faqs',\n",
       " 'https://www.idfcfirstbank.com/support/grievance-redressal',\n",
       " 'https://linkedin.com/in/kushtaneja',\n",
       " 'https://linkedin.com/in/sambhavanandjain',\n",
       " 'https://linkedin.com/in/harjot-singh-oberai-b6b055140',\n",
       " 'https://linkedin.com/in/aayushgupta02',\n",
       " 'https://linkedin.com/in/csoni111',\n",
       " 'https://linkedin.com/in/anchit96',\n",
       " 'https://linkedin.com/in/saipremtelkar',\n",
       " 'https://linkedin.com/in/saransh-0407',\n",
       " 'https://linkedin.com/in/hrishikesh-kogje-85aa5591',\n",
       " 'https://linkedin.com/in/pratik-gajjar',\n",
       " 'https://linkedin.com/in/ritwickbhaduri',\n",
       " 'https://linkedin.com/in/kddiyakaveramma',\n",
       " 'https://linkedin.com/in/chitra-yadav-849263178',\n",
       " 'https://linkedin.com/in/vishnu-ramachandran-500336113',\n",
       " 'https://linkedin.com/in/shifakareem',\n",
       " 'https://linkedin.com/in/tiaradsouza',\n",
       " 'https://linkedin.com/in/charvi-saraf-13a034133',\n",
       " 'https://linkedin.com/in/sajaljajoo',\n",
       " 'https://linkedin.com/in/cipher098',\n",
       " 'https://linkedin.com/in/janani-sathviga-a39028119',\n",
       " 'https://linkedin.com/in/tanya-kumbhat-74b29697',\n",
       " 'https://linkedin.com/in/',\n",
       " 'https://linkedin.com/in/abhaysharma10',\n",
       " 'https://linkedin.com/in/adityakapnadak',\n",
       " 'https://linkedin.com/in/akhilxnair',\n",
       " 'https://linkedin.com/in/aapram',\n",
       " 'https://linkedin.com/in/shagun-khemka',\n",
       " 'https://linkedin.com/in/siddharth-sunder-87b6a31a8',\n",
       " 'https://linkedin.com/in/melronmartis',\n",
       " 'https://linkedin.com/in/ananya-reddy-kunduru',\n",
       " 'https://linkedin.com/in/anand-krishnan-a-01a45912b',\n",
       " 'https://linkedin.com/in/vaibhavi-t-a27b8496',\n",
       " 'https://linkedin.com/in/sanjeet-vikram-singh-309488b3',\n",
       " 'https://linkedin.com/in/ridima-bhargava-7457bb74',\n",
       " 'https://linkedin.com/in/garvitagulhati',\n",
       " 'https://linkedin.com/in/jain-aishwarya',\n",
       " 'https://linkedin.com/in/vishal-jain-b89a7512',\n",
       " 'https://linkedin.com/in/brijeshbharadwaj',\n",
       " 'https://linkedin.com/in/anshu-baranwal-471800138',\n",
       " 'https://linkedin.com/in/yashjainkothari',\n",
       " 'https://linkedin.com/in/sudogaurav',\n",
       " 'https://linkedin.com/in/komal-bhadani-b11282162',\n",
       " 'https://linkedin.com/in/mohi7solanki',\n",
       " 'https://linkedin.com/in/nimitt-juneja-0aab68141',\n",
       " 'https://linkedin.com/in/sameeran-bandishti',\n",
       " 'https://linkedin.com/in/shikhart98',\n",
       " 'https://linkedin.com/in/soumik-a-4942b9a3',\n",
       " 'https://linkedin.com/in/sumit-badsara',\n",
       " 'https://linkedin.com/in/vishal-sharma-551a78220',\n",
       " 'https://linkedin.com/in/priyanka-shiva-100253167',\n",
       " 'https://linkedin.com/in/arohi-kaushal',\n",
       " 'https://linkedin.com/in/devarsh-a-thaker-334a586a',\n",
       " 'https://linkedin.com/in/archit-agrawal-935aa5120',\n",
       " 'https://linkedin.com/in/agniva',\n",
       " 'https://linkedin.com/in/moksha-malyavantham-8b892376',\n",
       " 'https://linkedin.com/in/linkprasanjeet',\n",
       " 'https://linkedin.com/in/sakshi-agarwal-',\n",
       " 'https://linkedin.com/in/sabarish-n-b04445bb',\n",
       " 'https://linkedin.com/in/karanmehtaiitb',\n",
       " 'https://linkedin.com/in/peeyush-agrawal-b4945814',\n",
       " 'https://linkedin.com/in/shobhitgupta10',\n",
       " 'https://linkedin.com/in/sanat-desai-66a92015a',\n",
       " 'https://fampay.in/terms',\n",
       " 'https://www.instagram.com/lifeatfam/',\n",
       " 'https://www.instagram.com/designatfampay/',\n",
       " 'https://fampay.in/blog/club-teens-one-stop-online-community/',\n",
       " 'https://fampay.in/blog/when-building-for-genzs-build-it-on-discord/']"
      ]
     },
     "execution_count": 52,
     "metadata": {},
     "output_type": "execute_result"
    }
   ],
   "source": [
    "links"
   ]
  },
  {
   "cell_type": "code",
   "execution_count": null,
   "metadata": {},
   "outputs": [],
   "source": []
  }
 ],
 "metadata": {
  "kernelspec": {
   "display_name": "base",
   "language": "python",
   "name": "python3"
  },
  "language_info": {
   "codemirror_mode": {
    "name": "ipython",
    "version": 3
   },
   "file_extension": ".py",
   "mimetype": "text/x-python",
   "name": "python",
   "nbconvert_exporter": "python",
   "pygments_lexer": "ipython3",
   "version": "3.10.9"
  },
  "orig_nbformat": 4
 },
 "nbformat": 4,
 "nbformat_minor": 2
}
