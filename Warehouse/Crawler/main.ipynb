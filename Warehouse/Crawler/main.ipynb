{
 "cells": [
  {
   "cell_type": "code",
   "execution_count": 13,
   "metadata": {},
   "outputs": [],
   "source": [
    "from bs4 import BeautifulSoup\n",
    "from urllib.request import Request, urlopen\n",
    "import re"
   ]
  },
  {
   "cell_type": "code",
   "execution_count": 14,
   "metadata": {},
   "outputs": [],
   "source": [
    "req = Request(\"https://fampay.in/\")\n",
    "html_page = urlopen(req)\n",
    "\n",
    "soup = BeautifulSoup(html_page, \"lxml\")\n",
    "\n",
    "links = []\n",
    "for link in soup.findAll('a'):\n",
    "    links.append(link.get('href'))"
   ]
  },
  {
   "cell_type": "code",
   "execution_count": 15,
   "metadata": {},
   "outputs": [
    {
     "data": {
      "text/plain": [
       "['https://famcard.me/',\n",
       " '/',\n",
       " 'https://famcard.me/',\n",
       " '/',\n",
       " '/about',\n",
       " '/parent',\n",
       " '/blog',\n",
       " 'https://play.google.com/store/apps/details?id=com.fampay.in&hl=en_IN&gl=US',\n",
       " 'https://play.google.com/store/apps/details?id=com.fampay.in&hl=en_IN&gl=US',\n",
       " 'https://www.elevationcapital.com/',\n",
       " 'https://www.sequoiacap.com/india/',\n",
       " 'http://venturehighway.vc/',\n",
       " 'https://www.generalcatalyst.com/',\n",
       " 'https://www.ycombinator.com/',\n",
       " 'https://www.globalfounderscapital.com//',\n",
       " 'https://www.rocketship.vc/',\n",
       " 'http://www.greenoakscap.com/',\n",
       " '/parent',\n",
       " '/about',\n",
       " '/careers',\n",
       " '/partner',\n",
       " '/friends',\n",
       " '/faqs',\n",
       " '/blog/',\n",
       " '/press',\n",
       " '/privacy',\n",
       " '/terms',\n",
       " '/contact',\n",
       " 'https://triotech-website.s3.ap-south-1.amazonaws.com/public/FamPay+TT+Privacy+Policy.pdf',\n",
       " 'https://triotech-website.s3.ap-south-1.amazonaws.com/public/FamPay+TT+-+Terms+of+Use.pdf',\n",
       " 'https://www.facebook.com/fampay.in/',\n",
       " 'https://medium.com/fampay',\n",
       " 'https://www.instagram.com/fampay.in/',\n",
       " 'https://www.linkedin.com/company/fampay/',\n",
       " 'https://twitter.com/fampayindia',\n",
       " 'https://discord.gg/fampay',\n",
       " 'https://www.snapchat.com/add/fampay.in',\n",
       " 'https://www.youtube.com/channel/UC58iir7F5tai0Hx28nyGPtA']"
      ]
     },
     "execution_count": 15,
     "metadata": {},
     "output_type": "execute_result"
    }
   ],
   "source": [
    "links"
   ]
  },
  {
   "cell_type": "code",
   "execution_count": 16,
   "metadata": {},
   "outputs": [
    {
     "data": {
      "text/plain": [
       "['https://fampay.in//press',\n",
       " 'https://www.sequoiacap.com/india/',\n",
       " 'https://fampay.in//blog',\n",
       " 'https://fampay.in//',\n",
       " 'https://fampay.in//blog/',\n",
       " 'https://fampay.in//contact',\n",
       " 'https://www.linkedin.com/company/fampay/',\n",
       " 'https://www.snapchat.com/add/fampay.in',\n",
       " 'http://www.greenoakscap.com/',\n",
       " 'https://famcard.me/',\n",
       " 'https://triotech-website.s3.ap-south-1.amazonaws.com/public/FamPay+TT+-+Terms+of+Use.pdf',\n",
       " 'https://www.facebook.com/fampay.in/',\n",
       " 'https://www.youtube.com/channel/UC58iir7F5tai0Hx28nyGPtA',\n",
       " 'https://www.generalcatalyst.com/',\n",
       " 'https://fampay.in//parent',\n",
       " 'https://fampay.in//terms',\n",
       " 'https://www.instagram.com/fampay.in/',\n",
       " 'https://www.globalfounderscapital.com//',\n",
       " 'http://venturehighway.vc/',\n",
       " 'https://medium.com/fampay',\n",
       " 'https://fampay.in//about',\n",
       " 'https://www.rocketship.vc/',\n",
       " 'https://fampay.in//partner',\n",
       " 'https://triotech-website.s3.ap-south-1.amazonaws.com/public/FamPay+TT+Privacy+Policy.pdf',\n",
       " 'https://fampay.in//privacy',\n",
       " 'https://discord.gg/fampay',\n",
       " 'https://twitter.com/fampayindia',\n",
       " 'https://www.ycombinator.com/',\n",
       " 'https://fampay.in//faqs',\n",
       " 'https://www.elevationcapital.com/',\n",
       " 'https://fampay.in//careers',\n",
       " 'https://fampay.in//friends',\n",
       " 'https://play.google.com/store/apps/details?id=com.fampay.in&hl=en_IN&gl=US']"
      ]
     },
     "execution_count": 16,
     "metadata": {},
     "output_type": "execute_result"
    }
   ],
   "source": [
    "links = [x for x in links if x is not None]\n",
    "\n",
    "for i, link in enumerate(links):\n",
    "    if link.startswith('/'):\n",
    "        links[i] = 'https://fampay.in/' + link\n",
    "\n",
    "for i, link in enumerate(links):\n",
    "    if not link.startswith('http'):\n",
    "        # remove the index\n",
    "        del links[i]\n",
    "\n",
    "links = list(set(links))\n",
    "links"
   ]
  },
  {
   "cell_type": "code",
   "execution_count": 19,
   "metadata": {},
   "outputs": [],
   "source": [
    "# save all the links to a file called links.txt\n",
    "\n",
    "with open('links.txt', 'w') as f:\n",
    "    for link in links:\n",
    "        f.write(link)\n",
    "        # add a new line\n",
    "        f.write('\\n')"
   ]
  },
  {
   "cell_type": "code",
   "execution_count": null,
   "metadata": {},
   "outputs": [],
   "source": []
  }
 ],
 "metadata": {
  "kernelspec": {
   "display_name": "base",
   "language": "python",
   "name": "python3"
  },
  "language_info": {
   "codemirror_mode": {
    "name": "ipython",
    "version": 3
   },
   "file_extension": ".py",
   "mimetype": "text/x-python",
   "name": "python",
   "nbconvert_exporter": "python",
   "pygments_lexer": "ipython3",
   "version": "3.10.9"
  },
  "orig_nbformat": 4
 },
 "nbformat": 4,
 "nbformat_minor": 2
}
