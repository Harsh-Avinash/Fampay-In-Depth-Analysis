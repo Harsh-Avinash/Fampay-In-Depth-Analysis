{
 "cells": [
  {
   "cell_type": "code",
   "execution_count": 32,
   "metadata": {},
   "outputs": [],
   "source": [
    "import pandas as pd\n",
    "import requests\n",
    "from bs4 import BeautifulSoup\n",
    "import os\n",
    "import re\n",
    "\n",
    "df = pd.read_csv('../../Information/AppVersions/apkmirror_fam.csv')"
   ]
  },
  {
   "cell_type": "code",
   "execution_count": 33,
   "metadata": {},
   "outputs": [],
   "source": [
    "def get_second_link(url):\n",
    "    headers = {\n",
    "        'User-Agent': 'Mozilla/5.0 (Windows NT 10.0; Win64; x64) AppleWebKit/537.36 (KHTML, like Gecko) Chrome/95.0.4638.69 Safari/537.36',\n",
    "        'Accept': 'text/html,application/xhtml+xml,application/xml;q=0.9,image/avif,image/webp,image/apng,*/*;q=0.8,application/signed-exchange;v=b3;q=0.9',\n",
    "        'Accept-Language': 'en-US,en;q=0.9',\n",
    "    }\n",
    "    \n",
    "    try:\n",
    "        response = requests.get(url, headers=headers)\n",
    "        response.raise_for_status()\n",
    "        soup = BeautifulSoup(response.text, 'html.parser')\n",
    "\n",
    "        # Find the download link in the HTML\n",
    "        download_link = soup.find('a', {'class': 'downloadButton'})\n",
    "\n",
    "        if download_link:\n",
    "            href = download_link['href']\n",
    "            base_url = 'https://www.apkmirror.com'\n",
    "            full_link = f'{base_url}{href}'\n",
    "            return full_link\n",
    "        else:\n",
    "            return None\n",
    "    except (requests.exceptions.RequestException, ValueError) as e:\n",
    "        print(f'Error occurred while getting second link: {e}')\n",
    "        return None\n",
    "\n",
    "def download_file(url, file_name):\n",
    "    try:\n",
    "        response = requests.get(url, stream=True)\n",
    "        response.raise_for_status()\n",
    "        with open(file_name, 'wb') as f:\n",
    "            for chunk in response.iter_content(chunk_size=8192):\n",
    "                if chunk:\n",
    "                    f.write(chunk)\n",
    "        print(f'{file_name} downloaded successfully.\\n')\n",
    "    except (requests.exceptions.RequestException, ValueError) as e:\n",
    "        print(f'Error occurred while downloading {file_name}: {e}')"
   ]
  },
  {
   "cell_type": "code",
   "execution_count": 36,
   "metadata": {},
   "outputs": [
    {
     "data": {
      "text/plain": [
       "['https://www.apkmirror.com/apk/fampay/fampay-prepaid-card-payments-for-teenagers/3-1-7-release/fampay-teen-upi-payment-app-3-1-7-android-apk-download/',\n",
       " 'https://www.apkmirror.com/apk/fampay/fampay-prepaid-card-payments-for-teenagers/3-2-1-release/fampay-teen-upi-payment-app-3-2-1-android-apk-download/',\n",
       " 'https://www.apkmirror.com/apk/fampay/fampay-prepaid-card-payments-for-teenagers/3-1-6-release/fampay-teen-upi-payment-app-3-1-6-android-apk-download/',\n",
       " 'https://www.apkmirror.com/apk/fampay/fampay-prepaid-card-payments-for-teenagers/3-1-1-release/fampay-teen-upi-payment-app-3-1-1-android-apk-download/',\n",
       " 'https://www.apkmirror.com/apk/fampay/fampay-prepaid-card-payments-for-teenagers/3-0-2-release/fampay-teen-upi-payment-app-3-0-2-android-apk-download/',\n",
       " 'https://www.apkmirror.com/apk/fampay/fampay-prepaid-card-payments-for-teenagers/3-0-1-release/fampay-teen-upi-payment-app-3-0-1-android-apk-download/',\n",
       " 'https://www.apkmirror.com/apk/fampay/fampay-prepaid-card-payments-for-teenagers/2-9-9-release/fampay-teen-upi-payment-app-2-9-9-android-apk-download/',\n",
       " 'https://www.apkmirror.com/apk/fampay/fampay-prepaid-card-payments-for-teenagers/2-9-8-release/fampay-teen-upi-payment-app-2-9-8-android-apk-download/',\n",
       " 'https://www.apkmirror.com/apk/fampay/fampay-prepaid-card-payments-for-teenagers/2-9-7-release/fampay-teen-upi-payment-app-2-9-7-android-apk-download/',\n",
       " 'https://www.apkmirror.com/apk/fampay/fampay-prepaid-card-payments-for-teenagers/2-9-6-release/fampay-teen-upi-payment-app-2-9-6-android-apk-download/',\n",
       " 'https://www.apkmirror.com/apk/fampay/fampay-prepaid-card-payments-for-teenagers/2-9-3-release/fampay-teen-upi-payment-app-2-9-3-android-apk-download/',\n",
       " 'https://www.apkmirror.com/apk/fampay/fampay-prepaid-card-payments-for-teenagers/2-9-2-release/fampay-teen-upi-payment-app-2-9-2-android-apk-download/',\n",
       " 'https://www.apkmirror.com/apk/fampay/fampay-prepaid-card-payments-for-teenagers/2-9-1-release/fampay-teen-upi-payment-app-2-9-1-android-apk-download/',\n",
       " 'https://www.apkmirror.com/apk/fampay/fampay-prepaid-card-payments-for-teenagers/2-9-0-release/fampay-teen-upi-payment-app-2-9-0-android-apk-download/',\n",
       " 'https://www.apkmirror.com/apk/fampay/fampay-prepaid-card-payments-for-teenagers/2-8-9-release/fampay-teen-upi-payment-app-2-8-9-android-apk-download/',\n",
       " 'https://www.apkmirror.com/apk/fampay/fampay-prepaid-card-payments-for-teenagers/2-8-7-release/fampay-teen-upi-payment-app-2-8-7-android-apk-download/',\n",
       " 'https://www.apkmirror.com/apk/fampay/fampay-prepaid-card-payments-for-teenagers/2-8-5-release/fampay-teen-upi-payment-app-2-8-5-android-apk-download/',\n",
       " 'https://www.apkmirror.com/apk/fampay/fampay-prepaid-card-payments-for-teenagers/2-8-4-release/fampay-teen-upi-payment-app-2-8-4-android-apk-download/',\n",
       " 'https://www.apkmirror.com/apk/fampay/fampay-prepaid-card-payments-for-teenagers/2-8-3-release/fampay-teen-upi-payment-app-2-8-3-android-apk-download/',\n",
       " 'https://www.apkmirror.com/apk/fampay/fampay-prepaid-card-payments-for-teenagers/2-8-1-release/fampay-teen-upi-payment-app-2-8-1-android-apk-download/',\n",
       " 'https://www.apkmirror.com/apk/fampay/fampay-prepaid-card-payments-for-teenagers/2-2-7-release/fampay-teen-upi-payment-app-2-2-7-android-apk-download/',\n",
       " 'https://www.apkmirror.com/apk/fampay/fampay-prepaid-card-payments-for-teenagers/2-2-3-release/fampay-teen-upi-payment-app-2-2-3-android-apk-download/',\n",
       " 'https://www.apkmirror.com/apk/fampay/fampay-prepaid-card-payments-for-teenagers/2-1-7-release/fampay-teen-upi-payment-app-2-1-7-android-apk-download/',\n",
       " 'https://www.apkmirror.com/apk/fampay/fampay-prepaid-card-payments-for-teenagers/2-1-6-release/fampay-teen-upi-payment-app-2-1-6-android-apk-download/',\n",
       " 'https://www.apkmirror.com/apk/fampay/fampay-prepaid-card-payments-for-teenagers/2-1-4-release/fampay-teen-upi-payment-app-2-1-4-android-apk-download/',\n",
       " 'https://www.apkmirror.com/apk/fampay/fampay-prepaid-card-payments-for-teenagers/2-1-2-release/fampay-teen-upi-payment-app-2-1-2-android-apk-download/',\n",
       " 'https://www.apkmirror.com/apk/fampay/fampay-prepaid-card-payments-for-teenagers/2-0-8-release/fampay-teen-upi-payment-app-2-0-8-android-apk-download/',\n",
       " 'https://www.apkmirror.com/apk/fampay/fampay-prepaid-card-payments-for-teenagers/2-0-7-release/fampay-teen-upi-payment-app-2-0-7-android-apk-download/',\n",
       " 'https://www.apkmirror.com/apk/fampay/fampay-prepaid-card-payments-for-teenagers/2-0-6-release/fampay-teen-upi-payment-app-2-0-6-android-apk-download/',\n",
       " 'https://www.apkmirror.com/apk/fampay/fampay-prepaid-card-payments-for-teenagers/2-0-4-release/fampay-teen-upi-payment-app-2-0-4-android-apk-download/',\n",
       " 'https://www.apkmirror.com/apk/fampay/fampay-prepaid-card-payments-for-teenagers/2-0-3-release/fampay-teen-upi-payment-app-2-0-3-android-apk-download/',\n",
       " 'https://www.apkmirror.com/apk/fampay/fampay-prepaid-card-payments-for-teenagers/2-0-2-release/fampay-teen-upi-payment-app-2-0-2-android-apk-download/',\n",
       " 'https://www.apkmirror.com/apk/fampay/fampay-prepaid-card-payments-for-teenagers/2-0-0-release/fampay-teen-upi-payment-app-2-0-0-android-apk-download/',\n",
       " 'https://www.apkmirror.com/apk/fampay/fampay-prepaid-card-payments-for-teenagers/1-9-9-release/fampay-teen-upi-payment-app-1-9-9-android-apk-download/',\n",
       " 'https://www.apkmirror.com/apk/fampay/fampay-prepaid-card-payments-for-teenagers/1-9-7-release/fampay-teen-upi-payment-app-1-9-7-android-apk-download/',\n",
       " 'https://www.apkmirror.com/apk/fampay/fampay-prepaid-card-payments-for-teenagers/1-9-4-release/fampay-teen-upi-payment-app-1-9-4-android-apk-download/',\n",
       " 'https://www.apkmirror.com/apk/fampay/fampay-prepaid-card-payments-for-teenagers/1-9-0-release/fampay-teen-upi-payment-app-1-9-0-android-apk-download/',\n",
       " 'https://www.apkmirror.com/apk/fampay/fampay-prepaid-card-payments-for-teenagers/1-8-9-release/fampay-teen-upi-payment-app-1-8-9-android-apk-download/',\n",
       " 'https://www.apkmirror.com/apk/fampay/fampay-prepaid-card-payments-for-teenagers/1-8-8-release/fampay-teen-upi-payment-app-1-8-8-android-apk-download/',\n",
       " 'https://www.apkmirror.com/apk/fampay/fampay-prepaid-card-payments-for-teenagers/1-8-7-release/fampay-teen-upi-payment-app-1-8-7-android-apk-download/',\n",
       " 'https://www.apkmirror.com/apk/fampay/fampay-prepaid-card-payments-for-teenagers/1-8-6-release/fampay-teen-upi-payment-app-1-8-6-android-apk-download/',\n",
       " 'https://www.apkmirror.com/apk/fampay/fampay-prepaid-card-payments-for-teenagers/1-8-5-release/fampay-teen-upi-payment-app-1-8-5-android-apk-download/',\n",
       " 'https://www.apkmirror.com/apk/fampay/fampay-prepaid-card-payments-for-teenagers/1-8-3-release/fampay-teen-upi-payment-app-1-8-3-android-apk-download/',\n",
       " 'https://www.apkmirror.com/apk/fampay/fampay-prepaid-card-payments-for-teenagers/1-8-1-release/fampay-teen-upi-payment-app-1-8-1-android-apk-download/',\n",
       " 'https://www.apkmirror.com/apk/fampay/fampay-prepaid-card-payments-for-teenagers/1-7-8-release/fampay-teen-upi-payment-app-1-7-8-android-apk-download/',\n",
       " 'https://www.apkmirror.com/apk/fampay/fampay-prepaid-card-payments-for-teenagers/1-7-7-release/fampay-teen-upi-payment-app-1-7-7-android-apk-download/',\n",
       " 'https://www.apkmirror.com/apk/fampay/fampay-prepaid-card-payments-for-teenagers/1-7-5-release/fampay-teen-upi-payment-app-1-7-5-android-apk-download/',\n",
       " 'https://www.apkmirror.com/apk/fampay/fampay-prepaid-card-payments-for-teenagers/1-7-4-release/fampay-teen-upi-payment-app-1-7-4-android-apk-download/',\n",
       " 'https://www.apkmirror.com/apk/fampay/fampay-prepaid-card-payments-for-teenagers/1-7-3-release/fampay-teen-upi-payment-app-1-7-3-android-apk-download/',\n",
       " 'https://www.apkmirror.com/apk/fampay/fampay-prepaid-card-payments-for-teenagers/1-7-2-release/fampay-teen-upi-payment-app-1-7-2-android-apk-download/',\n",
       " 'https://www.apkmirror.com/apk/fampay/fampay-prepaid-card-payments-for-teenagers/1-7-1-release/fampay-teen-upi-payment-app-1-7-1-android-apk-download/',\n",
       " 'https://www.apkmirror.com/apk/fampay/fampay-prepaid-card-payments-for-teenagers/1-6-9-release/fampay-teen-upi-payment-app-1-6-9-android-apk-download/',\n",
       " 'https://www.apkmirror.com/apk/fampay/fampay-prepaid-card-payments-for-teenagers/1-6-8-release/fampay-teen-upi-payment-app-1-6-8-android-apk-download/',\n",
       " 'https://www.apkmirror.com/apk/fampay/fampay-prepaid-card-payments-for-teenagers/1-6-7-release/fampay-teen-upi-payment-app-1-6-7-android-apk-download/',\n",
       " 'https://www.apkmirror.com/apk/fampay/fampay-prepaid-card-payments-for-teenagers/1-6-6-release/fampay-teen-upi-payment-app-1-6-6-android-apk-download/',\n",
       " 'https://www.apkmirror.com/apk/fampay/fampay-prepaid-card-payments-for-teenagers/1-6-2-release/fampay-teen-upi-payment-app-1-6-2-android-apk-download/',\n",
       " 'https://www.apkmirror.com/apk/fampay/fampay-prepaid-card-payments-for-teenagers/1-6-1-release/fampay-teen-upi-payment-app-1-6-1-android-apk-download/',\n",
       " 'https://www.apkmirror.com/apk/fampay/fampay-prepaid-card-payments-for-teenagers/1-5-9-release/fampay-teen-upi-payment-app-1-5-9-android-apk-download/',\n",
       " 'https://www.apkmirror.com/apk/fampay/fampay-prepaid-card-payments-for-teenagers/1-5-8-release/fampay-teen-upi-payment-app-1-5-8-android-apk-download/',\n",
       " 'https://www.apkmirror.com/apk/fampay/fampay-prepaid-card-payments-for-teenagers/1-5-6-release/fampay-teen-upi-payment-app-1-5-6-android-apk-download/']"
      ]
     },
     "execution_count": 36,
     "metadata": {},
     "output_type": "execute_result"
    }
   ],
   "source": [
    "# List of \"give\" URLs\n",
    "urls = df[\"APK Link\"].tolist()\n",
    "urls"
   ]
  },
  {
   "cell_type": "code",
   "execution_count": 40,
   "metadata": {},
   "outputs": [
    {
     "name": "stdout",
     "output_type": "stream",
     "text": [
      "URL: https://www.apkmirror.com/apk/fampay/fampay-prepaid-card-payments-for-teenagers/3-1-7-release/fampay-teen-upi-payment-app-3-1-7-android-apk-download/\n",
      "Error occurred while getting second link: 404 Client Error: Not Found for url: https://www.apkmirror.com/apk/fampay/fampay-prepaid-card-payments-for-teenagers/3-1-7-release/fampay-teen-upi-payment-app-3-1-7-android-apk-download/\n",
      "No second link found for https://www.apkmirror.com/apk/fampay/fampay-prepaid-card-payments-for-teenagers/3-1-7-release/fampay-teen-upi-payment-app-3-1-7-android-apk-download/\n",
      "\n",
      "URL: https://www.apkmirror.com/apk/fampay/fampay-prepaid-card-payments-for-teenagers/3-2-1-release/fampay-teen-upi-payment-app-3-2-1-android-apk-download/\n"
     ]
    },
    {
     "name": "stderr",
     "output_type": "stream",
     "text": [
      "C:\\Users\\Harsh Clean\\AppData\\Local\\Temp\\ipykernel_3080\\2198700679.py:18: FutureWarning: The frame.append method is deprecated and will be removed from pandas in a future version. Use pandas.concat instead.\n",
      "  downloaded_df = downloaded_df.append({'APK Link': url, 'APK Path': None, 'Download Status': 'failure'}, ignore_index=True)\n"
     ]
    },
    {
     "name": "stdout",
     "output_type": "stream",
     "text": [
      "Second link for https://www.apkmirror.com/apk/fampay/fampay-prepaid-card-payments-for-teenagers/3-2-1-release/fampay-teen-upi-payment-app-3-2-1-android-apk-download/:\n",
      "https://www.apkmirror.com/apk/fampay/fampay-prepaid-card-payments-for-teenagers/fampay-prepaid-card-payments-for-teenagers-3-2-1-release/fampay-teen-upi-payment-app-3-2-1-android-apk-download/download/?key=313bc935571508b51608b5ef936ed28db74d3902&forcebaseapk=true\n",
      "\n",
      "Downloading ?key=313bc935571508b51608b5ef936ed28db74d3902&forcebaseapk=true.apk...\n",
      "Error occurred while downloading c:\\Users\\Harsh Clean\\Desktop\\Dev Drive\\Fampay-In-Depth-Analysis\\Warehouse\\apks\\?key=313bc935571508b51608b5ef936ed28db74d3902&forcebaseapk=true.apk: 403 Client Error: Forbidden for url: https://www.apkmirror.com/apk/fampay/fampay-prepaid-card-payments-for-teenagers/fampay-prepaid-card-payments-for-teenagers-3-2-1-release/fampay-teen-upi-payment-app-3-2-1-android-apk-download/download/?key=313bc935571508b51608b5ef936ed28db74d3902&forcebaseapk=true\n",
      "URL: https://www.apkmirror.com/apk/fampay/fampay-prepaid-card-payments-for-teenagers/3-1-6-release/fampay-teen-upi-payment-app-3-1-6-android-apk-download/\n"
     ]
    },
    {
     "name": "stderr",
     "output_type": "stream",
     "text": [
      "C:\\Users\\Harsh Clean\\AppData\\Local\\Temp\\ipykernel_3080\\2198700679.py:15: FutureWarning: The frame.append method is deprecated and will be removed from pandas in a future version. Use pandas.concat instead.\n",
      "  downloaded_df = downloaded_df.append({'APK Link': url, 'APK Path': file_path, 'Download Status': download_status}, ignore_index=True)\n"
     ]
    },
    {
     "name": "stdout",
     "output_type": "stream",
     "text": [
      "Error occurred while getting second link: 404 Client Error: Not Found for url: https://www.apkmirror.com/apk/fampay/fampay-prepaid-card-payments-for-teenagers/3-1-6-release/fampay-teen-upi-payment-app-3-1-6-android-apk-download/\n",
      "No second link found for https://www.apkmirror.com/apk/fampay/fampay-prepaid-card-payments-for-teenagers/3-1-6-release/fampay-teen-upi-payment-app-3-1-6-android-apk-download/\n",
      "\n",
      "URL: https://www.apkmirror.com/apk/fampay/fampay-prepaid-card-payments-for-teenagers/3-1-1-release/fampay-teen-upi-payment-app-3-1-1-android-apk-download/\n"
     ]
    },
    {
     "name": "stderr",
     "output_type": "stream",
     "text": [
      "C:\\Users\\Harsh Clean\\AppData\\Local\\Temp\\ipykernel_3080\\2198700679.py:18: FutureWarning: The frame.append method is deprecated and will be removed from pandas in a future version. Use pandas.concat instead.\n",
      "  downloaded_df = downloaded_df.append({'APK Link': url, 'APK Path': None, 'Download Status': 'failure'}, ignore_index=True)\n"
     ]
    },
    {
     "name": "stdout",
     "output_type": "stream",
     "text": [
      "Second link for https://www.apkmirror.com/apk/fampay/fampay-prepaid-card-payments-for-teenagers/3-1-1-release/fampay-teen-upi-payment-app-3-1-1-android-apk-download/:\n",
      "https://www.apkmirror.com/apk/fampay/fampay-prepaid-card-payments-for-teenagers/fampay-prepaid-card-payments-for-teenagers-3-1-1-release/fampay-teen-upi-payment-app-3-1-1-android-apk-download/download/?key=7208d4ccd6a76ba30ae2b9b468e76a0a5ce4ed42\n",
      "\n",
      "Downloading ?key=7208d4ccd6a76ba30ae2b9b468e76a0a5ce4ed42.apk...\n",
      "Error occurred while downloading c:\\Users\\Harsh Clean\\Desktop\\Dev Drive\\Fampay-In-Depth-Analysis\\Warehouse\\apks\\?key=7208d4ccd6a76ba30ae2b9b468e76a0a5ce4ed42.apk: 403 Client Error: Forbidden for url: https://www.apkmirror.com/apk/fampay/fampay-prepaid-card-payments-for-teenagers/fampay-prepaid-card-payments-for-teenagers-3-1-1-release/fampay-teen-upi-payment-app-3-1-1-android-apk-download/download/?key=7208d4ccd6a76ba30ae2b9b468e76a0a5ce4ed42\n",
      "URL: https://www.apkmirror.com/apk/fampay/fampay-prepaid-card-payments-for-teenagers/3-0-2-release/fampay-teen-upi-payment-app-3-0-2-android-apk-download/\n"
     ]
    },
    {
     "name": "stderr",
     "output_type": "stream",
     "text": [
      "C:\\Users\\Harsh Clean\\AppData\\Local\\Temp\\ipykernel_3080\\2198700679.py:15: FutureWarning: The frame.append method is deprecated and will be removed from pandas in a future version. Use pandas.concat instead.\n",
      "  downloaded_df = downloaded_df.append({'APK Link': url, 'APK Path': file_path, 'Download Status': download_status}, ignore_index=True)\n"
     ]
    },
    {
     "name": "stdout",
     "output_type": "stream",
     "text": [
      "Second link for https://www.apkmirror.com/apk/fampay/fampay-prepaid-card-payments-for-teenagers/3-0-2-release/fampay-teen-upi-payment-app-3-0-2-android-apk-download/:\n",
      "https://www.apkmirror.com/apk/fampay/fampay-prepaid-card-payments-for-teenagers/fampay-prepaid-card-payments-for-teenagers-3-0-2-release/fampay-teen-upi-payment-app-3-0-2-android-apk-download/download/?key=224d1c1c8cbfd042495cb9f8631cbb28cae39039\n",
      "\n",
      "Downloading ?key=224d1c1c8cbfd042495cb9f8631cbb28cae39039.apk...\n",
      "Error occurred while downloading c:\\Users\\Harsh Clean\\Desktop\\Dev Drive\\Fampay-In-Depth-Analysis\\Warehouse\\apks\\?key=224d1c1c8cbfd042495cb9f8631cbb28cae39039.apk: 403 Client Error: Forbidden for url: https://www.apkmirror.com/apk/fampay/fampay-prepaid-card-payments-for-teenagers/fampay-prepaid-card-payments-for-teenagers-3-0-2-release/fampay-teen-upi-payment-app-3-0-2-android-apk-download/download/?key=224d1c1c8cbfd042495cb9f8631cbb28cae39039\n",
      "URL: https://www.apkmirror.com/apk/fampay/fampay-prepaid-card-payments-for-teenagers/3-0-1-release/fampay-teen-upi-payment-app-3-0-1-android-apk-download/\n"
     ]
    },
    {
     "name": "stderr",
     "output_type": "stream",
     "text": [
      "C:\\Users\\Harsh Clean\\AppData\\Local\\Temp\\ipykernel_3080\\2198700679.py:15: FutureWarning: The frame.append method is deprecated and will be removed from pandas in a future version. Use pandas.concat instead.\n",
      "  downloaded_df = downloaded_df.append({'APK Link': url, 'APK Path': file_path, 'Download Status': download_status}, ignore_index=True)\n"
     ]
    },
    {
     "name": "stdout",
     "output_type": "stream",
     "text": [
      "Second link for https://www.apkmirror.com/apk/fampay/fampay-prepaid-card-payments-for-teenagers/3-0-1-release/fampay-teen-upi-payment-app-3-0-1-android-apk-download/:\n",
      "https://www.apkmirror.com/apk/fampay/fampay-prepaid-card-payments-for-teenagers/fampay-prepaid-card-payments-for-teenagers-3-0-1-release/fampay-teen-upi-payment-app-3-0-1-android-apk-download/download/?key=db5905bf28cff69c20e077b810f7e9ef4dd60947&forcebaseapk=true\n",
      "\n",
      "Downloading ?key=db5905bf28cff69c20e077b810f7e9ef4dd60947&forcebaseapk=true.apk...\n",
      "Error occurred while downloading c:\\Users\\Harsh Clean\\Desktop\\Dev Drive\\Fampay-In-Depth-Analysis\\Warehouse\\apks\\?key=db5905bf28cff69c20e077b810f7e9ef4dd60947&forcebaseapk=true.apk: 403 Client Error: Forbidden for url: https://www.apkmirror.com/apk/fampay/fampay-prepaid-card-payments-for-teenagers/fampay-prepaid-card-payments-for-teenagers-3-0-1-release/fampay-teen-upi-payment-app-3-0-1-android-apk-download/download/?key=db5905bf28cff69c20e077b810f7e9ef4dd60947&forcebaseapk=true\n",
      "URL: https://www.apkmirror.com/apk/fampay/fampay-prepaid-card-payments-for-teenagers/2-9-9-release/fampay-teen-upi-payment-app-2-9-9-android-apk-download/\n"
     ]
    },
    {
     "name": "stderr",
     "output_type": "stream",
     "text": [
      "C:\\Users\\Harsh Clean\\AppData\\Local\\Temp\\ipykernel_3080\\2198700679.py:15: FutureWarning: The frame.append method is deprecated and will be removed from pandas in a future version. Use pandas.concat instead.\n",
      "  downloaded_df = downloaded_df.append({'APK Link': url, 'APK Path': file_path, 'Download Status': download_status}, ignore_index=True)\n"
     ]
    },
    {
     "name": "stdout",
     "output_type": "stream",
     "text": [
      "Second link for https://www.apkmirror.com/apk/fampay/fampay-prepaid-card-payments-for-teenagers/2-9-9-release/fampay-teen-upi-payment-app-2-9-9-android-apk-download/:\n",
      "https://www.apkmirror.com/apk/fampay/fampay-prepaid-card-payments-for-teenagers/fampay-prepaid-card-payments-for-teenagers-2-9-9-release/fampay-teen-upi-payment-app-2-9-9-android-apk-download/download/?key=577ced3963daeb288aece6719b07d61fc26f18ad\n",
      "\n",
      "Downloading ?key=577ced3963daeb288aece6719b07d61fc26f18ad.apk...\n",
      "Error occurred while downloading c:\\Users\\Harsh Clean\\Desktop\\Dev Drive\\Fampay-In-Depth-Analysis\\Warehouse\\apks\\?key=577ced3963daeb288aece6719b07d61fc26f18ad.apk: 403 Client Error: Forbidden for url: https://www.apkmirror.com/apk/fampay/fampay-prepaid-card-payments-for-teenagers/fampay-prepaid-card-payments-for-teenagers-2-9-9-release/fampay-teen-upi-payment-app-2-9-9-android-apk-download/download/?key=577ced3963daeb288aece6719b07d61fc26f18ad\n",
      "URL: https://www.apkmirror.com/apk/fampay/fampay-prepaid-card-payments-for-teenagers/2-9-8-release/fampay-teen-upi-payment-app-2-9-8-android-apk-download/\n"
     ]
    },
    {
     "name": "stderr",
     "output_type": "stream",
     "text": [
      "C:\\Users\\Harsh Clean\\AppData\\Local\\Temp\\ipykernel_3080\\2198700679.py:15: FutureWarning: The frame.append method is deprecated and will be removed from pandas in a future version. Use pandas.concat instead.\n",
      "  downloaded_df = downloaded_df.append({'APK Link': url, 'APK Path': file_path, 'Download Status': download_status}, ignore_index=True)\n"
     ]
    },
    {
     "name": "stdout",
     "output_type": "stream",
     "text": [
      "Second link for https://www.apkmirror.com/apk/fampay/fampay-prepaid-card-payments-for-teenagers/2-9-8-release/fampay-teen-upi-payment-app-2-9-8-android-apk-download/:\n",
      "https://www.apkmirror.com/apk/fampay/fampay-prepaid-card-payments-for-teenagers/fampay-prepaid-card-payments-for-teenagers-2-9-8-release/fampay-teen-upi-payment-app-2-9-8-android-apk-download/download/?key=00d5acdea84e3e2205e3a1d635b749ccc2a8be05&forcebaseapk=true\n",
      "\n",
      "Downloading ?key=00d5acdea84e3e2205e3a1d635b749ccc2a8be05&forcebaseapk=true.apk...\n",
      "Error occurred while downloading c:\\Users\\Harsh Clean\\Desktop\\Dev Drive\\Fampay-In-Depth-Analysis\\Warehouse\\apks\\?key=00d5acdea84e3e2205e3a1d635b749ccc2a8be05&forcebaseapk=true.apk: 403 Client Error: Forbidden for url: https://www.apkmirror.com/apk/fampay/fampay-prepaid-card-payments-for-teenagers/fampay-prepaid-card-payments-for-teenagers-2-9-8-release/fampay-teen-upi-payment-app-2-9-8-android-apk-download/download/?key=00d5acdea84e3e2205e3a1d635b749ccc2a8be05&forcebaseapk=true\n",
      "URL: https://www.apkmirror.com/apk/fampay/fampay-prepaid-card-payments-for-teenagers/2-9-7-release/fampay-teen-upi-payment-app-2-9-7-android-apk-download/\n"
     ]
    },
    {
     "name": "stderr",
     "output_type": "stream",
     "text": [
      "C:\\Users\\Harsh Clean\\AppData\\Local\\Temp\\ipykernel_3080\\2198700679.py:15: FutureWarning: The frame.append method is deprecated and will be removed from pandas in a future version. Use pandas.concat instead.\n",
      "  downloaded_df = downloaded_df.append({'APK Link': url, 'APK Path': file_path, 'Download Status': download_status}, ignore_index=True)\n"
     ]
    },
    {
     "name": "stdout",
     "output_type": "stream",
     "text": [
      "Second link for https://www.apkmirror.com/apk/fampay/fampay-prepaid-card-payments-for-teenagers/2-9-7-release/fampay-teen-upi-payment-app-2-9-7-android-apk-download/:\n",
      "https://www.apkmirror.com/apk/fampay/fampay-prepaid-card-payments-for-teenagers/fampay-prepaid-card-payments-for-teenagers-2-9-7-release/fampay-teen-upi-payment-app-2-9-7-android-apk-download/download/?key=4ebd3135752c02a51931af57a4bb26775b8f5258&forcebaseapk=true\n",
      "\n",
      "Downloading ?key=4ebd3135752c02a51931af57a4bb26775b8f5258&forcebaseapk=true.apk...\n",
      "Error occurred while downloading c:\\Users\\Harsh Clean\\Desktop\\Dev Drive\\Fampay-In-Depth-Analysis\\Warehouse\\apks\\?key=4ebd3135752c02a51931af57a4bb26775b8f5258&forcebaseapk=true.apk: 403 Client Error: Forbidden for url: https://www.apkmirror.com/apk/fampay/fampay-prepaid-card-payments-for-teenagers/fampay-prepaid-card-payments-for-teenagers-2-9-7-release/fampay-teen-upi-payment-app-2-9-7-android-apk-download/download/?key=4ebd3135752c02a51931af57a4bb26775b8f5258&forcebaseapk=true\n",
      "URL: https://www.apkmirror.com/apk/fampay/fampay-prepaid-card-payments-for-teenagers/2-9-6-release/fampay-teen-upi-payment-app-2-9-6-android-apk-download/\n"
     ]
    },
    {
     "name": "stderr",
     "output_type": "stream",
     "text": [
      "C:\\Users\\Harsh Clean\\AppData\\Local\\Temp\\ipykernel_3080\\2198700679.py:15: FutureWarning: The frame.append method is deprecated and will be removed from pandas in a future version. Use pandas.concat instead.\n",
      "  downloaded_df = downloaded_df.append({'APK Link': url, 'APK Path': file_path, 'Download Status': download_status}, ignore_index=True)\n"
     ]
    },
    {
     "name": "stdout",
     "output_type": "stream",
     "text": [
      "Second link for https://www.apkmirror.com/apk/fampay/fampay-prepaid-card-payments-for-teenagers/2-9-6-release/fampay-teen-upi-payment-app-2-9-6-android-apk-download/:\n",
      "https://www.apkmirror.com/apk/fampay/fampay-prepaid-card-payments-for-teenagers/fampay-prepaid-card-payments-for-teenagers-2-9-6-release/fampay-teen-upi-payment-app-2-9-6-android-apk-download/download/?key=bdc9d270777f967eba42cea12285167f36fcb293&forcebaseapk=true\n",
      "\n",
      "Downloading ?key=bdc9d270777f967eba42cea12285167f36fcb293&forcebaseapk=true.apk...\n",
      "Error occurred while downloading c:\\Users\\Harsh Clean\\Desktop\\Dev Drive\\Fampay-In-Depth-Analysis\\Warehouse\\apks\\?key=bdc9d270777f967eba42cea12285167f36fcb293&forcebaseapk=true.apk: 403 Client Error: Forbidden for url: https://www.apkmirror.com/apk/fampay/fampay-prepaid-card-payments-for-teenagers/fampay-prepaid-card-payments-for-teenagers-2-9-6-release/fampay-teen-upi-payment-app-2-9-6-android-apk-download/download/?key=bdc9d270777f967eba42cea12285167f36fcb293&forcebaseapk=true\n",
      "URL: https://www.apkmirror.com/apk/fampay/fampay-prepaid-card-payments-for-teenagers/2-9-3-release/fampay-teen-upi-payment-app-2-9-3-android-apk-download/\n"
     ]
    },
    {
     "name": "stderr",
     "output_type": "stream",
     "text": [
      "C:\\Users\\Harsh Clean\\AppData\\Local\\Temp\\ipykernel_3080\\2198700679.py:15: FutureWarning: The frame.append method is deprecated and will be removed from pandas in a future version. Use pandas.concat instead.\n",
      "  downloaded_df = downloaded_df.append({'APK Link': url, 'APK Path': file_path, 'Download Status': download_status}, ignore_index=True)\n"
     ]
    },
    {
     "name": "stdout",
     "output_type": "stream",
     "text": [
      "Second link for https://www.apkmirror.com/apk/fampay/fampay-prepaid-card-payments-for-teenagers/2-9-3-release/fampay-teen-upi-payment-app-2-9-3-android-apk-download/:\n",
      "https://www.apkmirror.com/apk/fampay/fampay-prepaid-card-payments-for-teenagers/fampay-prepaid-card-payments-for-teenagers-2-9-3-release/fampay-teen-upi-payment-app-2-9-3-android-apk-download/download/?key=483a85fdd5b558d62bcd76893ede3e0e05131c34\n",
      "\n",
      "Downloading ?key=483a85fdd5b558d62bcd76893ede3e0e05131c34.apk...\n",
      "Error occurred while downloading c:\\Users\\Harsh Clean\\Desktop\\Dev Drive\\Fampay-In-Depth-Analysis\\Warehouse\\apks\\?key=483a85fdd5b558d62bcd76893ede3e0e05131c34.apk: 403 Client Error: Forbidden for url: https://www.apkmirror.com/apk/fampay/fampay-prepaid-card-payments-for-teenagers/fampay-prepaid-card-payments-for-teenagers-2-9-3-release/fampay-teen-upi-payment-app-2-9-3-android-apk-download/download/?key=483a85fdd5b558d62bcd76893ede3e0e05131c34\n",
      "URL: https://www.apkmirror.com/apk/fampay/fampay-prepaid-card-payments-for-teenagers/2-9-2-release/fampay-teen-upi-payment-app-2-9-2-android-apk-download/\n"
     ]
    },
    {
     "name": "stderr",
     "output_type": "stream",
     "text": [
      "C:\\Users\\Harsh Clean\\AppData\\Local\\Temp\\ipykernel_3080\\2198700679.py:15: FutureWarning: The frame.append method is deprecated and will be removed from pandas in a future version. Use pandas.concat instead.\n",
      "  downloaded_df = downloaded_df.append({'APK Link': url, 'APK Path': file_path, 'Download Status': download_status}, ignore_index=True)\n"
     ]
    },
    {
     "name": "stdout",
     "output_type": "stream",
     "text": [
      "Second link for https://www.apkmirror.com/apk/fampay/fampay-prepaid-card-payments-for-teenagers/2-9-2-release/fampay-teen-upi-payment-app-2-9-2-android-apk-download/:\n",
      "https://www.apkmirror.com/apk/fampay/fampay-prepaid-card-payments-for-teenagers/fampay-prepaid-card-payments-for-teenagers-2-9-2-release/fampay-teen-upi-payment-app-2-9-2-android-apk-download/download/?key=e77dd64ec7c386f84f2a5825168ad2833d620887\n",
      "\n",
      "Downloading ?key=e77dd64ec7c386f84f2a5825168ad2833d620887.apk...\n",
      "Error occurred while downloading c:\\Users\\Harsh Clean\\Desktop\\Dev Drive\\Fampay-In-Depth-Analysis\\Warehouse\\apks\\?key=e77dd64ec7c386f84f2a5825168ad2833d620887.apk: 403 Client Error: Forbidden for url: https://www.apkmirror.com/apk/fampay/fampay-prepaid-card-payments-for-teenagers/fampay-prepaid-card-payments-for-teenagers-2-9-2-release/fampay-teen-upi-payment-app-2-9-2-android-apk-download/download/?key=e77dd64ec7c386f84f2a5825168ad2833d620887\n",
      "URL: https://www.apkmirror.com/apk/fampay/fampay-prepaid-card-payments-for-teenagers/2-9-1-release/fampay-teen-upi-payment-app-2-9-1-android-apk-download/\n"
     ]
    },
    {
     "name": "stderr",
     "output_type": "stream",
     "text": [
      "C:\\Users\\Harsh Clean\\AppData\\Local\\Temp\\ipykernel_3080\\2198700679.py:15: FutureWarning: The frame.append method is deprecated and will be removed from pandas in a future version. Use pandas.concat instead.\n",
      "  downloaded_df = downloaded_df.append({'APK Link': url, 'APK Path': file_path, 'Download Status': download_status}, ignore_index=True)\n"
     ]
    },
    {
     "name": "stdout",
     "output_type": "stream",
     "text": [
      "Second link for https://www.apkmirror.com/apk/fampay/fampay-prepaid-card-payments-for-teenagers/2-9-1-release/fampay-teen-upi-payment-app-2-9-1-android-apk-download/:\n",
      "https://www.apkmirror.com/apk/fampay/fampay-prepaid-card-payments-for-teenagers/fampay-prepaid-card-payments-for-teenagers-2-9-1-release/fampay-teen-upi-payment-app-2-9-1-android-apk-download/download/?key=dbed56ffeed55658f806ab9ddbf5c8c1e4063257\n",
      "\n",
      "Downloading ?key=dbed56ffeed55658f806ab9ddbf5c8c1e4063257.apk...\n",
      "Error occurred while downloading c:\\Users\\Harsh Clean\\Desktop\\Dev Drive\\Fampay-In-Depth-Analysis\\Warehouse\\apks\\?key=dbed56ffeed55658f806ab9ddbf5c8c1e4063257.apk: 403 Client Error: Forbidden for url: https://www.apkmirror.com/apk/fampay/fampay-prepaid-card-payments-for-teenagers/fampay-prepaid-card-payments-for-teenagers-2-9-1-release/fampay-teen-upi-payment-app-2-9-1-android-apk-download/download/?key=dbed56ffeed55658f806ab9ddbf5c8c1e4063257\n",
      "URL: https://www.apkmirror.com/apk/fampay/fampay-prepaid-card-payments-for-teenagers/2-9-0-release/fampay-teen-upi-payment-app-2-9-0-android-apk-download/\n"
     ]
    },
    {
     "name": "stderr",
     "output_type": "stream",
     "text": [
      "C:\\Users\\Harsh Clean\\AppData\\Local\\Temp\\ipykernel_3080\\2198700679.py:15: FutureWarning: The frame.append method is deprecated and will be removed from pandas in a future version. Use pandas.concat instead.\n",
      "  downloaded_df = downloaded_df.append({'APK Link': url, 'APK Path': file_path, 'Download Status': download_status}, ignore_index=True)\n"
     ]
    },
    {
     "name": "stdout",
     "output_type": "stream",
     "text": [
      "Second link for https://www.apkmirror.com/apk/fampay/fampay-prepaid-card-payments-for-teenagers/2-9-0-release/fampay-teen-upi-payment-app-2-9-0-android-apk-download/:\n",
      "https://www.apkmirror.com/apk/fampay/fampay-prepaid-card-payments-for-teenagers/fampay-prepaid-card-payments-for-teenagers-2-9-0-release/fampay-teen-upi-payment-app-2-9-0-android-apk-download/download/?key=e608dec1123eb668d9cee19274d2c8f236b5f5a8&forcebaseapk=true\n",
      "\n",
      "Downloading ?key=e608dec1123eb668d9cee19274d2c8f236b5f5a8&forcebaseapk=true.apk...\n",
      "Error occurred while downloading c:\\Users\\Harsh Clean\\Desktop\\Dev Drive\\Fampay-In-Depth-Analysis\\Warehouse\\apks\\?key=e608dec1123eb668d9cee19274d2c8f236b5f5a8&forcebaseapk=true.apk: 403 Client Error: Forbidden for url: https://www.apkmirror.com/apk/fampay/fampay-prepaid-card-payments-for-teenagers/fampay-prepaid-card-payments-for-teenagers-2-9-0-release/fampay-teen-upi-payment-app-2-9-0-android-apk-download/download/?key=e608dec1123eb668d9cee19274d2c8f236b5f5a8&forcebaseapk=true\n",
      "URL: https://www.apkmirror.com/apk/fampay/fampay-prepaid-card-payments-for-teenagers/2-8-9-release/fampay-teen-upi-payment-app-2-8-9-android-apk-download/\n"
     ]
    },
    {
     "name": "stderr",
     "output_type": "stream",
     "text": [
      "C:\\Users\\Harsh Clean\\AppData\\Local\\Temp\\ipykernel_3080\\2198700679.py:15: FutureWarning: The frame.append method is deprecated and will be removed from pandas in a future version. Use pandas.concat instead.\n",
      "  downloaded_df = downloaded_df.append({'APK Link': url, 'APK Path': file_path, 'Download Status': download_status}, ignore_index=True)\n"
     ]
    },
    {
     "name": "stdout",
     "output_type": "stream",
     "text": [
      "Second link for https://www.apkmirror.com/apk/fampay/fampay-prepaid-card-payments-for-teenagers/2-8-9-release/fampay-teen-upi-payment-app-2-8-9-android-apk-download/:\n",
      "https://www.apkmirror.com/apk/fampay/fampay-prepaid-card-payments-for-teenagers/fampay-prepaid-card-payments-for-teenagers-2-8-9-release/fampay-teen-upi-payment-app-2-8-9-android-apk-download/download/?key=1d7e91e1bb83ad9d7acd7f11674ac947108f334f&forcebaseapk=true\n",
      "\n",
      "Downloading ?key=1d7e91e1bb83ad9d7acd7f11674ac947108f334f&forcebaseapk=true.apk...\n",
      "Error occurred while downloading c:\\Users\\Harsh Clean\\Desktop\\Dev Drive\\Fampay-In-Depth-Analysis\\Warehouse\\apks\\?key=1d7e91e1bb83ad9d7acd7f11674ac947108f334f&forcebaseapk=true.apk: 403 Client Error: Forbidden for url: https://www.apkmirror.com/apk/fampay/fampay-prepaid-card-payments-for-teenagers/fampay-prepaid-card-payments-for-teenagers-2-8-9-release/fampay-teen-upi-payment-app-2-8-9-android-apk-download/download/?key=1d7e91e1bb83ad9d7acd7f11674ac947108f334f&forcebaseapk=true\n",
      "URL: https://www.apkmirror.com/apk/fampay/fampay-prepaid-card-payments-for-teenagers/2-8-7-release/fampay-teen-upi-payment-app-2-8-7-android-apk-download/\n"
     ]
    },
    {
     "name": "stderr",
     "output_type": "stream",
     "text": [
      "C:\\Users\\Harsh Clean\\AppData\\Local\\Temp\\ipykernel_3080\\2198700679.py:15: FutureWarning: The frame.append method is deprecated and will be removed from pandas in a future version. Use pandas.concat instead.\n",
      "  downloaded_df = downloaded_df.append({'APK Link': url, 'APK Path': file_path, 'Download Status': download_status}, ignore_index=True)\n"
     ]
    },
    {
     "name": "stdout",
     "output_type": "stream",
     "text": [
      "Second link for https://www.apkmirror.com/apk/fampay/fampay-prepaid-card-payments-for-teenagers/2-8-7-release/fampay-teen-upi-payment-app-2-8-7-android-apk-download/:\n",
      "https://www.apkmirror.com/apk/fampay/fampay-prepaid-card-payments-for-teenagers/fampay-prepaid-card-payments-for-teenagers-2-8-7-release/fampay-teen-upi-payment-app-2-8-7-android-apk-download/download/?key=f661e896828becfdd55ce3b34162f9f547d0f1b7&forcebaseapk=true\n",
      "\n",
      "Downloading ?key=f661e896828becfdd55ce3b34162f9f547d0f1b7&forcebaseapk=true.apk...\n",
      "Error occurred while downloading c:\\Users\\Harsh Clean\\Desktop\\Dev Drive\\Fampay-In-Depth-Analysis\\Warehouse\\apks\\?key=f661e896828becfdd55ce3b34162f9f547d0f1b7&forcebaseapk=true.apk: 403 Client Error: Forbidden for url: https://www.apkmirror.com/apk/fampay/fampay-prepaid-card-payments-for-teenagers/fampay-prepaid-card-payments-for-teenagers-2-8-7-release/fampay-teen-upi-payment-app-2-8-7-android-apk-download/download/?key=f661e896828becfdd55ce3b34162f9f547d0f1b7&forcebaseapk=true\n",
      "URL: https://www.apkmirror.com/apk/fampay/fampay-prepaid-card-payments-for-teenagers/2-8-5-release/fampay-teen-upi-payment-app-2-8-5-android-apk-download/\n"
     ]
    },
    {
     "name": "stderr",
     "output_type": "stream",
     "text": [
      "C:\\Users\\Harsh Clean\\AppData\\Local\\Temp\\ipykernel_3080\\2198700679.py:15: FutureWarning: The frame.append method is deprecated and will be removed from pandas in a future version. Use pandas.concat instead.\n",
      "  downloaded_df = downloaded_df.append({'APK Link': url, 'APK Path': file_path, 'Download Status': download_status}, ignore_index=True)\n"
     ]
    },
    {
     "name": "stdout",
     "output_type": "stream",
     "text": [
      "Second link for https://www.apkmirror.com/apk/fampay/fampay-prepaid-card-payments-for-teenagers/2-8-5-release/fampay-teen-upi-payment-app-2-8-5-android-apk-download/:\n",
      "https://www.apkmirror.com/apk/fampay/fampay-prepaid-card-payments-for-teenagers/fampay-prepaid-card-payments-for-teenagers-2-8-5-release/fampay-teen-upi-payment-app-2-8-5-android-apk-download/download/?key=6d65f4cbc26e95241eb7bbf2d52cce205b860314&forcebaseapk=true\n",
      "\n",
      "Downloading ?key=6d65f4cbc26e95241eb7bbf2d52cce205b860314&forcebaseapk=true.apk...\n",
      "Error occurred while downloading c:\\Users\\Harsh Clean\\Desktop\\Dev Drive\\Fampay-In-Depth-Analysis\\Warehouse\\apks\\?key=6d65f4cbc26e95241eb7bbf2d52cce205b860314&forcebaseapk=true.apk: 403 Client Error: Forbidden for url: https://www.apkmirror.com/apk/fampay/fampay-prepaid-card-payments-for-teenagers/fampay-prepaid-card-payments-for-teenagers-2-8-5-release/fampay-teen-upi-payment-app-2-8-5-android-apk-download/download/?key=6d65f4cbc26e95241eb7bbf2d52cce205b860314&forcebaseapk=true\n",
      "URL: https://www.apkmirror.com/apk/fampay/fampay-prepaid-card-payments-for-teenagers/2-8-4-release/fampay-teen-upi-payment-app-2-8-4-android-apk-download/\n"
     ]
    },
    {
     "name": "stderr",
     "output_type": "stream",
     "text": [
      "C:\\Users\\Harsh Clean\\AppData\\Local\\Temp\\ipykernel_3080\\2198700679.py:15: FutureWarning: The frame.append method is deprecated and will be removed from pandas in a future version. Use pandas.concat instead.\n",
      "  downloaded_df = downloaded_df.append({'APK Link': url, 'APK Path': file_path, 'Download Status': download_status}, ignore_index=True)\n"
     ]
    },
    {
     "name": "stdout",
     "output_type": "stream",
     "text": [
      "Second link for https://www.apkmirror.com/apk/fampay/fampay-prepaid-card-payments-for-teenagers/2-8-4-release/fampay-teen-upi-payment-app-2-8-4-android-apk-download/:\n",
      "https://www.apkmirror.com/apk/fampay/fampay-prepaid-card-payments-for-teenagers/fampay-prepaid-card-payments-for-teenagers-2-8-4-release/fampay-teen-upi-payment-app-2-8-4-android-apk-download/download/?key=0172cdc7b20abe8277f7dbe7f05cc546b19a2246&forcebaseapk=true\n",
      "\n",
      "Downloading ?key=0172cdc7b20abe8277f7dbe7f05cc546b19a2246&forcebaseapk=true.apk...\n",
      "Error occurred while downloading c:\\Users\\Harsh Clean\\Desktop\\Dev Drive\\Fampay-In-Depth-Analysis\\Warehouse\\apks\\?key=0172cdc7b20abe8277f7dbe7f05cc546b19a2246&forcebaseapk=true.apk: 403 Client Error: Forbidden for url: https://www.apkmirror.com/apk/fampay/fampay-prepaid-card-payments-for-teenagers/fampay-prepaid-card-payments-for-teenagers-2-8-4-release/fampay-teen-upi-payment-app-2-8-4-android-apk-download/download/?key=0172cdc7b20abe8277f7dbe7f05cc546b19a2246&forcebaseapk=true\n",
      "URL: https://www.apkmirror.com/apk/fampay/fampay-prepaid-card-payments-for-teenagers/2-8-3-release/fampay-teen-upi-payment-app-2-8-3-android-apk-download/\n"
     ]
    },
    {
     "name": "stderr",
     "output_type": "stream",
     "text": [
      "C:\\Users\\Harsh Clean\\AppData\\Local\\Temp\\ipykernel_3080\\2198700679.py:15: FutureWarning: The frame.append method is deprecated and will be removed from pandas in a future version. Use pandas.concat instead.\n",
      "  downloaded_df = downloaded_df.append({'APK Link': url, 'APK Path': file_path, 'Download Status': download_status}, ignore_index=True)\n"
     ]
    },
    {
     "name": "stdout",
     "output_type": "stream",
     "text": [
      "Second link for https://www.apkmirror.com/apk/fampay/fampay-prepaid-card-payments-for-teenagers/2-8-3-release/fampay-teen-upi-payment-app-2-8-3-android-apk-download/:\n",
      "https://www.apkmirror.com/apk/fampay/fampay-prepaid-card-payments-for-teenagers/fampay-prepaid-card-payments-for-teenagers-2-8-3-release/fampay-teen-upi-payment-app-2-8-3-android-apk-download/download/?key=60a7ae80012fbca4cfec7d2d21957c1fe14841cb\n",
      "\n",
      "Downloading ?key=60a7ae80012fbca4cfec7d2d21957c1fe14841cb.apk...\n",
      "Error occurred while downloading c:\\Users\\Harsh Clean\\Desktop\\Dev Drive\\Fampay-In-Depth-Analysis\\Warehouse\\apks\\?key=60a7ae80012fbca4cfec7d2d21957c1fe14841cb.apk: 403 Client Error: Forbidden for url: https://www.apkmirror.com/apk/fampay/fampay-prepaid-card-payments-for-teenagers/fampay-prepaid-card-payments-for-teenagers-2-8-3-release/fampay-teen-upi-payment-app-2-8-3-android-apk-download/download/?key=60a7ae80012fbca4cfec7d2d21957c1fe14841cb\n",
      "URL: https://www.apkmirror.com/apk/fampay/fampay-prepaid-card-payments-for-teenagers/2-8-1-release/fampay-teen-upi-payment-app-2-8-1-android-apk-download/\n"
     ]
    },
    {
     "name": "stderr",
     "output_type": "stream",
     "text": [
      "C:\\Users\\Harsh Clean\\AppData\\Local\\Temp\\ipykernel_3080\\2198700679.py:15: FutureWarning: The frame.append method is deprecated and will be removed from pandas in a future version. Use pandas.concat instead.\n",
      "  downloaded_df = downloaded_df.append({'APK Link': url, 'APK Path': file_path, 'Download Status': download_status}, ignore_index=True)\n"
     ]
    },
    {
     "name": "stdout",
     "output_type": "stream",
     "text": [
      "Second link for https://www.apkmirror.com/apk/fampay/fampay-prepaid-card-payments-for-teenagers/2-8-1-release/fampay-teen-upi-payment-app-2-8-1-android-apk-download/:\n",
      "https://www.apkmirror.com/apk/fampay/fampay-prepaid-card-payments-for-teenagers/fampay-prepaid-card-payments-for-teenagers-2-8-1-release/fampay-teen-upi-payment-app-2-8-1-android-apk-download/download/?key=134151a1c12bf0302e46474553b5d6c82988271e\n",
      "\n",
      "Downloading ?key=134151a1c12bf0302e46474553b5d6c82988271e.apk...\n",
      "Error occurred while downloading c:\\Users\\Harsh Clean\\Desktop\\Dev Drive\\Fampay-In-Depth-Analysis\\Warehouse\\apks\\?key=134151a1c12bf0302e46474553b5d6c82988271e.apk: 403 Client Error: Forbidden for url: https://www.apkmirror.com/apk/fampay/fampay-prepaid-card-payments-for-teenagers/fampay-prepaid-card-payments-for-teenagers-2-8-1-release/fampay-teen-upi-payment-app-2-8-1-android-apk-download/download/?key=134151a1c12bf0302e46474553b5d6c82988271e\n",
      "URL: https://www.apkmirror.com/apk/fampay/fampay-prepaid-card-payments-for-teenagers/2-2-7-release/fampay-teen-upi-payment-app-2-2-7-android-apk-download/\n"
     ]
    },
    {
     "name": "stderr",
     "output_type": "stream",
     "text": [
      "C:\\Users\\Harsh Clean\\AppData\\Local\\Temp\\ipykernel_3080\\2198700679.py:15: FutureWarning: The frame.append method is deprecated and will be removed from pandas in a future version. Use pandas.concat instead.\n",
      "  downloaded_df = downloaded_df.append({'APK Link': url, 'APK Path': file_path, 'Download Status': download_status}, ignore_index=True)\n"
     ]
    },
    {
     "name": "stdout",
     "output_type": "stream",
     "text": [
      "Second link for https://www.apkmirror.com/apk/fampay/fampay-prepaid-card-payments-for-teenagers/2-2-7-release/fampay-teen-upi-payment-app-2-2-7-android-apk-download/:\n",
      "https://www.apkmirror.com/apk/fampay/fampay-prepaid-card-payments-for-teenagers/fampay-prepaid-card-payments-for-teenagers-2-2-7-release/fampay-teen-upi-payment-app-2-2-7-android-apk-download/download/?key=e4ceef509fe62fd0000526829bb2d05519a3834d&forcebaseapk=true\n",
      "\n",
      "Downloading ?key=e4ceef509fe62fd0000526829bb2d05519a3834d&forcebaseapk=true.apk...\n",
      "Error occurred while downloading c:\\Users\\Harsh Clean\\Desktop\\Dev Drive\\Fampay-In-Depth-Analysis\\Warehouse\\apks\\?key=e4ceef509fe62fd0000526829bb2d05519a3834d&forcebaseapk=true.apk: 403 Client Error: Forbidden for url: https://www.apkmirror.com/apk/fampay/fampay-prepaid-card-payments-for-teenagers/fampay-prepaid-card-payments-for-teenagers-2-2-7-release/fampay-teen-upi-payment-app-2-2-7-android-apk-download/download/?key=e4ceef509fe62fd0000526829bb2d05519a3834d&forcebaseapk=true\n",
      "URL: https://www.apkmirror.com/apk/fampay/fampay-prepaid-card-payments-for-teenagers/2-2-3-release/fampay-teen-upi-payment-app-2-2-3-android-apk-download/\n"
     ]
    },
    {
     "name": "stderr",
     "output_type": "stream",
     "text": [
      "C:\\Users\\Harsh Clean\\AppData\\Local\\Temp\\ipykernel_3080\\2198700679.py:15: FutureWarning: The frame.append method is deprecated and will be removed from pandas in a future version. Use pandas.concat instead.\n",
      "  downloaded_df = downloaded_df.append({'APK Link': url, 'APK Path': file_path, 'Download Status': download_status}, ignore_index=True)\n"
     ]
    },
    {
     "name": "stdout",
     "output_type": "stream",
     "text": [
      "Second link for https://www.apkmirror.com/apk/fampay/fampay-prepaid-card-payments-for-teenagers/2-2-3-release/fampay-teen-upi-payment-app-2-2-3-android-apk-download/:\n",
      "https://www.apkmirror.com/apk/fampay/fampay-prepaid-card-payments-for-teenagers/fampay-prepaid-card-payments-for-teenagers-2-2-3-release/fampay-teen-upi-payment-app-2-2-3-android-apk-download/download/?key=87b7d0a21908a1c938f5e46f40842b5d93d4245a&forcebaseapk=true\n",
      "\n",
      "Downloading ?key=87b7d0a21908a1c938f5e46f40842b5d93d4245a&forcebaseapk=true.apk...\n",
      "Error occurred while downloading c:\\Users\\Harsh Clean\\Desktop\\Dev Drive\\Fampay-In-Depth-Analysis\\Warehouse\\apks\\?key=87b7d0a21908a1c938f5e46f40842b5d93d4245a&forcebaseapk=true.apk: 403 Client Error: Forbidden for url: https://www.apkmirror.com/apk/fampay/fampay-prepaid-card-payments-for-teenagers/fampay-prepaid-card-payments-for-teenagers-2-2-3-release/fampay-teen-upi-payment-app-2-2-3-android-apk-download/download/?key=87b7d0a21908a1c938f5e46f40842b5d93d4245a&forcebaseapk=true\n",
      "URL: https://www.apkmirror.com/apk/fampay/fampay-prepaid-card-payments-for-teenagers/2-1-7-release/fampay-teen-upi-payment-app-2-1-7-android-apk-download/\n"
     ]
    },
    {
     "name": "stderr",
     "output_type": "stream",
     "text": [
      "C:\\Users\\Harsh Clean\\AppData\\Local\\Temp\\ipykernel_3080\\2198700679.py:15: FutureWarning: The frame.append method is deprecated and will be removed from pandas in a future version. Use pandas.concat instead.\n",
      "  downloaded_df = downloaded_df.append({'APK Link': url, 'APK Path': file_path, 'Download Status': download_status}, ignore_index=True)\n"
     ]
    },
    {
     "name": "stdout",
     "output_type": "stream",
     "text": [
      "Second link for https://www.apkmirror.com/apk/fampay/fampay-prepaid-card-payments-for-teenagers/2-1-7-release/fampay-teen-upi-payment-app-2-1-7-android-apk-download/:\n",
      "https://www.apkmirror.com/apk/fampay/fampay-prepaid-card-payments-for-teenagers/fampay-prepaid-card-payments-for-teenagers-2-1-7-release/fampay-teen-upi-payment-app-2-1-7-android-apk-download/download/?key=8501bedce845e6d3c85ff50f9ab2a47401445a66&forcebaseapk=true\n",
      "\n",
      "Downloading ?key=8501bedce845e6d3c85ff50f9ab2a47401445a66&forcebaseapk=true.apk...\n",
      "Error occurred while downloading c:\\Users\\Harsh Clean\\Desktop\\Dev Drive\\Fampay-In-Depth-Analysis\\Warehouse\\apks\\?key=8501bedce845e6d3c85ff50f9ab2a47401445a66&forcebaseapk=true.apk: 403 Client Error: Forbidden for url: https://www.apkmirror.com/apk/fampay/fampay-prepaid-card-payments-for-teenagers/fampay-prepaid-card-payments-for-teenagers-2-1-7-release/fampay-teen-upi-payment-app-2-1-7-android-apk-download/download/?key=8501bedce845e6d3c85ff50f9ab2a47401445a66&forcebaseapk=true\n",
      "URL: https://www.apkmirror.com/apk/fampay/fampay-prepaid-card-payments-for-teenagers/2-1-6-release/fampay-teen-upi-payment-app-2-1-6-android-apk-download/\n"
     ]
    },
    {
     "name": "stderr",
     "output_type": "stream",
     "text": [
      "C:\\Users\\Harsh Clean\\AppData\\Local\\Temp\\ipykernel_3080\\2198700679.py:15: FutureWarning: The frame.append method is deprecated and will be removed from pandas in a future version. Use pandas.concat instead.\n",
      "  downloaded_df = downloaded_df.append({'APK Link': url, 'APK Path': file_path, 'Download Status': download_status}, ignore_index=True)\n"
     ]
    },
    {
     "name": "stdout",
     "output_type": "stream",
     "text": [
      "Second link for https://www.apkmirror.com/apk/fampay/fampay-prepaid-card-payments-for-teenagers/2-1-6-release/fampay-teen-upi-payment-app-2-1-6-android-apk-download/:\n",
      "https://www.apkmirror.com/apk/fampay/fampay-prepaid-card-payments-for-teenagers/fampay-prepaid-card-payments-for-teenagers-2-1-6-release/fampay-teen-upi-payment-app-2-1-6-android-apk-download/download/?key=59adedae2828d4e8aed042044654493af678b744&forcebaseapk=true\n",
      "\n",
      "Downloading ?key=59adedae2828d4e8aed042044654493af678b744&forcebaseapk=true.apk...\n",
      "Error occurred while downloading c:\\Users\\Harsh Clean\\Desktop\\Dev Drive\\Fampay-In-Depth-Analysis\\Warehouse\\apks\\?key=59adedae2828d4e8aed042044654493af678b744&forcebaseapk=true.apk: 403 Client Error: Forbidden for url: https://www.apkmirror.com/apk/fampay/fampay-prepaid-card-payments-for-teenagers/fampay-prepaid-card-payments-for-teenagers-2-1-6-release/fampay-teen-upi-payment-app-2-1-6-android-apk-download/download/?key=59adedae2828d4e8aed042044654493af678b744&forcebaseapk=true\n",
      "URL: https://www.apkmirror.com/apk/fampay/fampay-prepaid-card-payments-for-teenagers/2-1-4-release/fampay-teen-upi-payment-app-2-1-4-android-apk-download/\n"
     ]
    },
    {
     "name": "stderr",
     "output_type": "stream",
     "text": [
      "C:\\Users\\Harsh Clean\\AppData\\Local\\Temp\\ipykernel_3080\\2198700679.py:15: FutureWarning: The frame.append method is deprecated and will be removed from pandas in a future version. Use pandas.concat instead.\n",
      "  downloaded_df = downloaded_df.append({'APK Link': url, 'APK Path': file_path, 'Download Status': download_status}, ignore_index=True)\n"
     ]
    },
    {
     "name": "stdout",
     "output_type": "stream",
     "text": [
      "Error occurred while getting second link: 404 Client Error: Not Found for url: https://www.apkmirror.com/apk/fampay/fampay-prepaid-card-payments-for-teenagers/2-1-4-release/fampay-teen-upi-payment-app-2-1-4-android-apk-download/\n",
      "No second link found for https://www.apkmirror.com/apk/fampay/fampay-prepaid-card-payments-for-teenagers/2-1-4-release/fampay-teen-upi-payment-app-2-1-4-android-apk-download/\n",
      "\n",
      "URL: https://www.apkmirror.com/apk/fampay/fampay-prepaid-card-payments-for-teenagers/2-1-2-release/fampay-teen-upi-payment-app-2-1-2-android-apk-download/\n"
     ]
    },
    {
     "name": "stderr",
     "output_type": "stream",
     "text": [
      "C:\\Users\\Harsh Clean\\AppData\\Local\\Temp\\ipykernel_3080\\2198700679.py:18: FutureWarning: The frame.append method is deprecated and will be removed from pandas in a future version. Use pandas.concat instead.\n",
      "  downloaded_df = downloaded_df.append({'APK Link': url, 'APK Path': None, 'Download Status': 'failure'}, ignore_index=True)\n"
     ]
    },
    {
     "name": "stdout",
     "output_type": "stream",
     "text": [
      "Error occurred while getting second link: 404 Client Error: Not Found for url: https://www.apkmirror.com/apk/fampay/fampay-prepaid-card-payments-for-teenagers/2-1-2-release/fampay-teen-upi-payment-app-2-1-2-android-apk-download/\n",
      "No second link found for https://www.apkmirror.com/apk/fampay/fampay-prepaid-card-payments-for-teenagers/2-1-2-release/fampay-teen-upi-payment-app-2-1-2-android-apk-download/\n",
      "\n",
      "URL: https://www.apkmirror.com/apk/fampay/fampay-prepaid-card-payments-for-teenagers/2-0-8-release/fampay-teen-upi-payment-app-2-0-8-android-apk-download/\n"
     ]
    },
    {
     "name": "stderr",
     "output_type": "stream",
     "text": [
      "C:\\Users\\Harsh Clean\\AppData\\Local\\Temp\\ipykernel_3080\\2198700679.py:18: FutureWarning: The frame.append method is deprecated and will be removed from pandas in a future version. Use pandas.concat instead.\n",
      "  downloaded_df = downloaded_df.append({'APK Link': url, 'APK Path': None, 'Download Status': 'failure'}, ignore_index=True)\n"
     ]
    },
    {
     "name": "stdout",
     "output_type": "stream",
     "text": [
      "Error occurred while getting second link: 404 Client Error: Not Found for url: https://www.apkmirror.com/apk/fampay/fampay-prepaid-card-payments-for-teenagers/2-0-8-release/fampay-teen-upi-payment-app-2-0-8-android-apk-download/\n",
      "No second link found for https://www.apkmirror.com/apk/fampay/fampay-prepaid-card-payments-for-teenagers/2-0-8-release/fampay-teen-upi-payment-app-2-0-8-android-apk-download/\n",
      "\n",
      "URL: https://www.apkmirror.com/apk/fampay/fampay-prepaid-card-payments-for-teenagers/2-0-7-release/fampay-teen-upi-payment-app-2-0-7-android-apk-download/\n"
     ]
    },
    {
     "name": "stderr",
     "output_type": "stream",
     "text": [
      "C:\\Users\\Harsh Clean\\AppData\\Local\\Temp\\ipykernel_3080\\2198700679.py:18: FutureWarning: The frame.append method is deprecated and will be removed from pandas in a future version. Use pandas.concat instead.\n",
      "  downloaded_df = downloaded_df.append({'APK Link': url, 'APK Path': None, 'Download Status': 'failure'}, ignore_index=True)\n"
     ]
    },
    {
     "name": "stdout",
     "output_type": "stream",
     "text": [
      "Error occurred while getting second link: 404 Client Error: Not Found for url: https://www.apkmirror.com/apk/fampay/fampay-prepaid-card-payments-for-teenagers/2-0-7-release/fampay-teen-upi-payment-app-2-0-7-android-apk-download/\n",
      "No second link found for https://www.apkmirror.com/apk/fampay/fampay-prepaid-card-payments-for-teenagers/2-0-7-release/fampay-teen-upi-payment-app-2-0-7-android-apk-download/\n",
      "\n",
      "URL: https://www.apkmirror.com/apk/fampay/fampay-prepaid-card-payments-for-teenagers/2-0-6-release/fampay-teen-upi-payment-app-2-0-6-android-apk-download/\n"
     ]
    },
    {
     "name": "stderr",
     "output_type": "stream",
     "text": [
      "C:\\Users\\Harsh Clean\\AppData\\Local\\Temp\\ipykernel_3080\\2198700679.py:18: FutureWarning: The frame.append method is deprecated and will be removed from pandas in a future version. Use pandas.concat instead.\n",
      "  downloaded_df = downloaded_df.append({'APK Link': url, 'APK Path': None, 'Download Status': 'failure'}, ignore_index=True)\n"
     ]
    },
    {
     "name": "stdout",
     "output_type": "stream",
     "text": [
      "Error occurred while getting second link: 404 Client Error: Not Found for url: https://www.apkmirror.com/apk/fampay/fampay-prepaid-card-payments-for-teenagers/2-0-6-release/fampay-teen-upi-payment-app-2-0-6-android-apk-download/\n",
      "No second link found for https://www.apkmirror.com/apk/fampay/fampay-prepaid-card-payments-for-teenagers/2-0-6-release/fampay-teen-upi-payment-app-2-0-6-android-apk-download/\n",
      "\n",
      "URL: https://www.apkmirror.com/apk/fampay/fampay-prepaid-card-payments-for-teenagers/2-0-4-release/fampay-teen-upi-payment-app-2-0-4-android-apk-download/\n"
     ]
    },
    {
     "name": "stderr",
     "output_type": "stream",
     "text": [
      "C:\\Users\\Harsh Clean\\AppData\\Local\\Temp\\ipykernel_3080\\2198700679.py:18: FutureWarning: The frame.append method is deprecated and will be removed from pandas in a future version. Use pandas.concat instead.\n",
      "  downloaded_df = downloaded_df.append({'APK Link': url, 'APK Path': None, 'Download Status': 'failure'}, ignore_index=True)\n"
     ]
    },
    {
     "name": "stdout",
     "output_type": "stream",
     "text": [
      "Error occurred while getting second link: 404 Client Error: Not Found for url: https://www.apkmirror.com/apk/fampay/fampay-prepaid-card-payments-for-teenagers/2-0-4-release/fampay-teen-upi-payment-app-2-0-4-android-apk-download/\n",
      "No second link found for https://www.apkmirror.com/apk/fampay/fampay-prepaid-card-payments-for-teenagers/2-0-4-release/fampay-teen-upi-payment-app-2-0-4-android-apk-download/\n",
      "\n",
      "URL: https://www.apkmirror.com/apk/fampay/fampay-prepaid-card-payments-for-teenagers/2-0-3-release/fampay-teen-upi-payment-app-2-0-3-android-apk-download/\n"
     ]
    },
    {
     "name": "stderr",
     "output_type": "stream",
     "text": [
      "C:\\Users\\Harsh Clean\\AppData\\Local\\Temp\\ipykernel_3080\\2198700679.py:18: FutureWarning: The frame.append method is deprecated and will be removed from pandas in a future version. Use pandas.concat instead.\n",
      "  downloaded_df = downloaded_df.append({'APK Link': url, 'APK Path': None, 'Download Status': 'failure'}, ignore_index=True)\n"
     ]
    },
    {
     "name": "stdout",
     "output_type": "stream",
     "text": [
      "Error occurred while getting second link: 404 Client Error: Not Found for url: https://www.apkmirror.com/apk/fampay/fampay-prepaid-card-payments-for-teenagers/2-0-3-release/fampay-teen-upi-payment-app-2-0-3-android-apk-download/\n",
      "No second link found for https://www.apkmirror.com/apk/fampay/fampay-prepaid-card-payments-for-teenagers/2-0-3-release/fampay-teen-upi-payment-app-2-0-3-android-apk-download/\n",
      "\n",
      "URL: https://www.apkmirror.com/apk/fampay/fampay-prepaid-card-payments-for-teenagers/2-0-2-release/fampay-teen-upi-payment-app-2-0-2-android-apk-download/\n"
     ]
    },
    {
     "name": "stderr",
     "output_type": "stream",
     "text": [
      "C:\\Users\\Harsh Clean\\AppData\\Local\\Temp\\ipykernel_3080\\2198700679.py:18: FutureWarning: The frame.append method is deprecated and will be removed from pandas in a future version. Use pandas.concat instead.\n",
      "  downloaded_df = downloaded_df.append({'APK Link': url, 'APK Path': None, 'Download Status': 'failure'}, ignore_index=True)\n"
     ]
    },
    {
     "name": "stdout",
     "output_type": "stream",
     "text": [
      "Error occurred while getting second link: 404 Client Error: Not Found for url: https://www.apkmirror.com/apk/fampay/fampay-prepaid-card-payments-for-teenagers/2-0-2-release/fampay-teen-upi-payment-app-2-0-2-android-apk-download/\n",
      "No second link found for https://www.apkmirror.com/apk/fampay/fampay-prepaid-card-payments-for-teenagers/2-0-2-release/fampay-teen-upi-payment-app-2-0-2-android-apk-download/\n",
      "\n",
      "URL: https://www.apkmirror.com/apk/fampay/fampay-prepaid-card-payments-for-teenagers/2-0-0-release/fampay-teen-upi-payment-app-2-0-0-android-apk-download/\n"
     ]
    },
    {
     "name": "stderr",
     "output_type": "stream",
     "text": [
      "C:\\Users\\Harsh Clean\\AppData\\Local\\Temp\\ipykernel_3080\\2198700679.py:18: FutureWarning: The frame.append method is deprecated and will be removed from pandas in a future version. Use pandas.concat instead.\n",
      "  downloaded_df = downloaded_df.append({'APK Link': url, 'APK Path': None, 'Download Status': 'failure'}, ignore_index=True)\n"
     ]
    },
    {
     "name": "stdout",
     "output_type": "stream",
     "text": [
      "Error occurred while getting second link: 404 Client Error: Not Found for url: https://www.apkmirror.com/apk/fampay/fampay-prepaid-card-payments-for-teenagers/2-0-0-release/fampay-teen-upi-payment-app-2-0-0-android-apk-download/\n",
      "No second link found for https://www.apkmirror.com/apk/fampay/fampay-prepaid-card-payments-for-teenagers/2-0-0-release/fampay-teen-upi-payment-app-2-0-0-android-apk-download/\n",
      "\n",
      "URL: https://www.apkmirror.com/apk/fampay/fampay-prepaid-card-payments-for-teenagers/1-9-9-release/fampay-teen-upi-payment-app-1-9-9-android-apk-download/\n"
     ]
    },
    {
     "name": "stderr",
     "output_type": "stream",
     "text": [
      "C:\\Users\\Harsh Clean\\AppData\\Local\\Temp\\ipykernel_3080\\2198700679.py:18: FutureWarning: The frame.append method is deprecated and will be removed from pandas in a future version. Use pandas.concat instead.\n",
      "  downloaded_df = downloaded_df.append({'APK Link': url, 'APK Path': None, 'Download Status': 'failure'}, ignore_index=True)\n"
     ]
    },
    {
     "name": "stdout",
     "output_type": "stream",
     "text": [
      "Error occurred while getting second link: 404 Client Error: Not Found for url: https://www.apkmirror.com/apk/fampay/fampay-prepaid-card-payments-for-teenagers/1-9-9-release/fampay-teen-upi-payment-app-1-9-9-android-apk-download/\n",
      "No second link found for https://www.apkmirror.com/apk/fampay/fampay-prepaid-card-payments-for-teenagers/1-9-9-release/fampay-teen-upi-payment-app-1-9-9-android-apk-download/\n",
      "\n",
      "URL: https://www.apkmirror.com/apk/fampay/fampay-prepaid-card-payments-for-teenagers/1-9-7-release/fampay-teen-upi-payment-app-1-9-7-android-apk-download/\n"
     ]
    },
    {
     "name": "stderr",
     "output_type": "stream",
     "text": [
      "C:\\Users\\Harsh Clean\\AppData\\Local\\Temp\\ipykernel_3080\\2198700679.py:18: FutureWarning: The frame.append method is deprecated and will be removed from pandas in a future version. Use pandas.concat instead.\n",
      "  downloaded_df = downloaded_df.append({'APK Link': url, 'APK Path': None, 'Download Status': 'failure'}, ignore_index=True)\n"
     ]
    },
    {
     "name": "stdout",
     "output_type": "stream",
     "text": [
      "Error occurred while getting second link: 404 Client Error: Not Found for url: https://www.apkmirror.com/apk/fampay/fampay-prepaid-card-payments-for-teenagers/1-9-7-release/fampay-teen-upi-payment-app-1-9-7-android-apk-download/\n",
      "No second link found for https://www.apkmirror.com/apk/fampay/fampay-prepaid-card-payments-for-teenagers/1-9-7-release/fampay-teen-upi-payment-app-1-9-7-android-apk-download/\n",
      "\n",
      "URL: https://www.apkmirror.com/apk/fampay/fampay-prepaid-card-payments-for-teenagers/1-9-4-release/fampay-teen-upi-payment-app-1-9-4-android-apk-download/\n"
     ]
    },
    {
     "name": "stderr",
     "output_type": "stream",
     "text": [
      "C:\\Users\\Harsh Clean\\AppData\\Local\\Temp\\ipykernel_3080\\2198700679.py:18: FutureWarning: The frame.append method is deprecated and will be removed from pandas in a future version. Use pandas.concat instead.\n",
      "  downloaded_df = downloaded_df.append({'APK Link': url, 'APK Path': None, 'Download Status': 'failure'}, ignore_index=True)\n"
     ]
    },
    {
     "name": "stdout",
     "output_type": "stream",
     "text": [
      "Error occurred while getting second link: 404 Client Error: Not Found for url: https://www.apkmirror.com/apk/fampay/fampay-prepaid-card-payments-for-teenagers/1-9-4-release/fampay-teen-upi-payment-app-1-9-4-android-apk-download/\n",
      "No second link found for https://www.apkmirror.com/apk/fampay/fampay-prepaid-card-payments-for-teenagers/1-9-4-release/fampay-teen-upi-payment-app-1-9-4-android-apk-download/\n",
      "\n",
      "URL: https://www.apkmirror.com/apk/fampay/fampay-prepaid-card-payments-for-teenagers/1-9-0-release/fampay-teen-upi-payment-app-1-9-0-android-apk-download/\n"
     ]
    },
    {
     "name": "stderr",
     "output_type": "stream",
     "text": [
      "C:\\Users\\Harsh Clean\\AppData\\Local\\Temp\\ipykernel_3080\\2198700679.py:18: FutureWarning: The frame.append method is deprecated and will be removed from pandas in a future version. Use pandas.concat instead.\n",
      "  downloaded_df = downloaded_df.append({'APK Link': url, 'APK Path': None, 'Download Status': 'failure'}, ignore_index=True)\n"
     ]
    },
    {
     "name": "stdout",
     "output_type": "stream",
     "text": [
      "Error occurred while getting second link: 404 Client Error: Not Found for url: https://www.apkmirror.com/apk/fampay/fampay-prepaid-card-payments-for-teenagers/1-9-0-release/fampay-teen-upi-payment-app-1-9-0-android-apk-download/\n",
      "No second link found for https://www.apkmirror.com/apk/fampay/fampay-prepaid-card-payments-for-teenagers/1-9-0-release/fampay-teen-upi-payment-app-1-9-0-android-apk-download/\n",
      "\n",
      "URL: https://www.apkmirror.com/apk/fampay/fampay-prepaid-card-payments-for-teenagers/1-8-9-release/fampay-teen-upi-payment-app-1-8-9-android-apk-download/\n"
     ]
    },
    {
     "name": "stderr",
     "output_type": "stream",
     "text": [
      "C:\\Users\\Harsh Clean\\AppData\\Local\\Temp\\ipykernel_3080\\2198700679.py:18: FutureWarning: The frame.append method is deprecated and will be removed from pandas in a future version. Use pandas.concat instead.\n",
      "  downloaded_df = downloaded_df.append({'APK Link': url, 'APK Path': None, 'Download Status': 'failure'}, ignore_index=True)\n"
     ]
    },
    {
     "name": "stdout",
     "output_type": "stream",
     "text": [
      "Error occurred while getting second link: 404 Client Error: Not Found for url: https://www.apkmirror.com/apk/fampay/fampay-prepaid-card-payments-for-teenagers/1-8-9-release/fampay-teen-upi-payment-app-1-8-9-android-apk-download/\n",
      "No second link found for https://www.apkmirror.com/apk/fampay/fampay-prepaid-card-payments-for-teenagers/1-8-9-release/fampay-teen-upi-payment-app-1-8-9-android-apk-download/\n",
      "\n",
      "URL: https://www.apkmirror.com/apk/fampay/fampay-prepaid-card-payments-for-teenagers/1-8-8-release/fampay-teen-upi-payment-app-1-8-8-android-apk-download/\n"
     ]
    },
    {
     "name": "stderr",
     "output_type": "stream",
     "text": [
      "C:\\Users\\Harsh Clean\\AppData\\Local\\Temp\\ipykernel_3080\\2198700679.py:18: FutureWarning: The frame.append method is deprecated and will be removed from pandas in a future version. Use pandas.concat instead.\n",
      "  downloaded_df = downloaded_df.append({'APK Link': url, 'APK Path': None, 'Download Status': 'failure'}, ignore_index=True)\n"
     ]
    },
    {
     "name": "stdout",
     "output_type": "stream",
     "text": [
      "Error occurred while getting second link: 404 Client Error: Not Found for url: https://www.apkmirror.com/apk/fampay/fampay-prepaid-card-payments-for-teenagers/1-8-8-release/fampay-teen-upi-payment-app-1-8-8-android-apk-download/\n",
      "No second link found for https://www.apkmirror.com/apk/fampay/fampay-prepaid-card-payments-for-teenagers/1-8-8-release/fampay-teen-upi-payment-app-1-8-8-android-apk-download/\n",
      "\n",
      "URL: https://www.apkmirror.com/apk/fampay/fampay-prepaid-card-payments-for-teenagers/1-8-7-release/fampay-teen-upi-payment-app-1-8-7-android-apk-download/\n"
     ]
    },
    {
     "name": "stderr",
     "output_type": "stream",
     "text": [
      "C:\\Users\\Harsh Clean\\AppData\\Local\\Temp\\ipykernel_3080\\2198700679.py:18: FutureWarning: The frame.append method is deprecated and will be removed from pandas in a future version. Use pandas.concat instead.\n",
      "  downloaded_df = downloaded_df.append({'APK Link': url, 'APK Path': None, 'Download Status': 'failure'}, ignore_index=True)\n"
     ]
    },
    {
     "name": "stdout",
     "output_type": "stream",
     "text": [
      "Error occurred while getting second link: 404 Client Error: Not Found for url: https://www.apkmirror.com/apk/fampay/fampay-prepaid-card-payments-for-teenagers/1-8-7-release/fampay-teen-upi-payment-app-1-8-7-android-apk-download/\n",
      "No second link found for https://www.apkmirror.com/apk/fampay/fampay-prepaid-card-payments-for-teenagers/1-8-7-release/fampay-teen-upi-payment-app-1-8-7-android-apk-download/\n",
      "\n",
      "URL: https://www.apkmirror.com/apk/fampay/fampay-prepaid-card-payments-for-teenagers/1-8-6-release/fampay-teen-upi-payment-app-1-8-6-android-apk-download/\n"
     ]
    },
    {
     "name": "stderr",
     "output_type": "stream",
     "text": [
      "C:\\Users\\Harsh Clean\\AppData\\Local\\Temp\\ipykernel_3080\\2198700679.py:18: FutureWarning: The frame.append method is deprecated and will be removed from pandas in a future version. Use pandas.concat instead.\n",
      "  downloaded_df = downloaded_df.append({'APK Link': url, 'APK Path': None, 'Download Status': 'failure'}, ignore_index=True)\n"
     ]
    },
    {
     "name": "stdout",
     "output_type": "stream",
     "text": [
      "Error occurred while getting second link: 404 Client Error: Not Found for url: https://www.apkmirror.com/apk/fampay/fampay-prepaid-card-payments-for-teenagers/1-8-6-release/fampay-teen-upi-payment-app-1-8-6-android-apk-download/\n",
      "No second link found for https://www.apkmirror.com/apk/fampay/fampay-prepaid-card-payments-for-teenagers/1-8-6-release/fampay-teen-upi-payment-app-1-8-6-android-apk-download/\n",
      "\n",
      "URL: https://www.apkmirror.com/apk/fampay/fampay-prepaid-card-payments-for-teenagers/1-8-5-release/fampay-teen-upi-payment-app-1-8-5-android-apk-download/\n"
     ]
    },
    {
     "name": "stderr",
     "output_type": "stream",
     "text": [
      "C:\\Users\\Harsh Clean\\AppData\\Local\\Temp\\ipykernel_3080\\2198700679.py:18: FutureWarning: The frame.append method is deprecated and will be removed from pandas in a future version. Use pandas.concat instead.\n",
      "  downloaded_df = downloaded_df.append({'APK Link': url, 'APK Path': None, 'Download Status': 'failure'}, ignore_index=True)\n"
     ]
    },
    {
     "name": "stdout",
     "output_type": "stream",
     "text": [
      "Error occurred while getting second link: 404 Client Error: Not Found for url: https://www.apkmirror.com/apk/fampay/fampay-prepaid-card-payments-for-teenagers/1-8-5-release/fampay-teen-upi-payment-app-1-8-5-android-apk-download/\n",
      "No second link found for https://www.apkmirror.com/apk/fampay/fampay-prepaid-card-payments-for-teenagers/1-8-5-release/fampay-teen-upi-payment-app-1-8-5-android-apk-download/\n",
      "\n",
      "URL: https://www.apkmirror.com/apk/fampay/fampay-prepaid-card-payments-for-teenagers/1-8-3-release/fampay-teen-upi-payment-app-1-8-3-android-apk-download/\n"
     ]
    },
    {
     "name": "stderr",
     "output_type": "stream",
     "text": [
      "C:\\Users\\Harsh Clean\\AppData\\Local\\Temp\\ipykernel_3080\\2198700679.py:18: FutureWarning: The frame.append method is deprecated and will be removed from pandas in a future version. Use pandas.concat instead.\n",
      "  downloaded_df = downloaded_df.append({'APK Link': url, 'APK Path': None, 'Download Status': 'failure'}, ignore_index=True)\n"
     ]
    },
    {
     "name": "stdout",
     "output_type": "stream",
     "text": [
      "Error occurred while getting second link: 404 Client Error: Not Found for url: https://www.apkmirror.com/apk/fampay/fampay-prepaid-card-payments-for-teenagers/1-8-3-release/fampay-teen-upi-payment-app-1-8-3-android-apk-download/\n",
      "No second link found for https://www.apkmirror.com/apk/fampay/fampay-prepaid-card-payments-for-teenagers/1-8-3-release/fampay-teen-upi-payment-app-1-8-3-android-apk-download/\n",
      "\n",
      "URL: https://www.apkmirror.com/apk/fampay/fampay-prepaid-card-payments-for-teenagers/1-8-1-release/fampay-teen-upi-payment-app-1-8-1-android-apk-download/\n"
     ]
    },
    {
     "name": "stderr",
     "output_type": "stream",
     "text": [
      "C:\\Users\\Harsh Clean\\AppData\\Local\\Temp\\ipykernel_3080\\2198700679.py:18: FutureWarning: The frame.append method is deprecated and will be removed from pandas in a future version. Use pandas.concat instead.\n",
      "  downloaded_df = downloaded_df.append({'APK Link': url, 'APK Path': None, 'Download Status': 'failure'}, ignore_index=True)\n"
     ]
    },
    {
     "name": "stdout",
     "output_type": "stream",
     "text": [
      "Error occurred while getting second link: 404 Client Error: Not Found for url: https://www.apkmirror.com/apk/fampay/fampay-prepaid-card-payments-for-teenagers/1-8-1-release/fampay-teen-upi-payment-app-1-8-1-android-apk-download/\n",
      "No second link found for https://www.apkmirror.com/apk/fampay/fampay-prepaid-card-payments-for-teenagers/1-8-1-release/fampay-teen-upi-payment-app-1-8-1-android-apk-download/\n",
      "\n",
      "URL: https://www.apkmirror.com/apk/fampay/fampay-prepaid-card-payments-for-teenagers/1-7-8-release/fampay-teen-upi-payment-app-1-7-8-android-apk-download/\n"
     ]
    },
    {
     "name": "stderr",
     "output_type": "stream",
     "text": [
      "C:\\Users\\Harsh Clean\\AppData\\Local\\Temp\\ipykernel_3080\\2198700679.py:18: FutureWarning: The frame.append method is deprecated and will be removed from pandas in a future version. Use pandas.concat instead.\n",
      "  downloaded_df = downloaded_df.append({'APK Link': url, 'APK Path': None, 'Download Status': 'failure'}, ignore_index=True)\n"
     ]
    },
    {
     "name": "stdout",
     "output_type": "stream",
     "text": [
      "Error occurred while getting second link: 404 Client Error: Not Found for url: https://www.apkmirror.com/apk/fampay/fampay-prepaid-card-payments-for-teenagers/1-7-8-release/fampay-teen-upi-payment-app-1-7-8-android-apk-download/\n",
      "No second link found for https://www.apkmirror.com/apk/fampay/fampay-prepaid-card-payments-for-teenagers/1-7-8-release/fampay-teen-upi-payment-app-1-7-8-android-apk-download/\n",
      "\n",
      "URL: https://www.apkmirror.com/apk/fampay/fampay-prepaid-card-payments-for-teenagers/1-7-7-release/fampay-teen-upi-payment-app-1-7-7-android-apk-download/\n"
     ]
    },
    {
     "name": "stderr",
     "output_type": "stream",
     "text": [
      "C:\\Users\\Harsh Clean\\AppData\\Local\\Temp\\ipykernel_3080\\2198700679.py:18: FutureWarning: The frame.append method is deprecated and will be removed from pandas in a future version. Use pandas.concat instead.\n",
      "  downloaded_df = downloaded_df.append({'APK Link': url, 'APK Path': None, 'Download Status': 'failure'}, ignore_index=True)\n"
     ]
    },
    {
     "name": "stdout",
     "output_type": "stream",
     "text": [
      "Error occurred while getting second link: 404 Client Error: Not Found for url: https://www.apkmirror.com/apk/fampay/fampay-prepaid-card-payments-for-teenagers/1-7-7-release/fampay-teen-upi-payment-app-1-7-7-android-apk-download/\n",
      "No second link found for https://www.apkmirror.com/apk/fampay/fampay-prepaid-card-payments-for-teenagers/1-7-7-release/fampay-teen-upi-payment-app-1-7-7-android-apk-download/\n",
      "\n",
      "URL: https://www.apkmirror.com/apk/fampay/fampay-prepaid-card-payments-for-teenagers/1-7-5-release/fampay-teen-upi-payment-app-1-7-5-android-apk-download/\n"
     ]
    },
    {
     "name": "stderr",
     "output_type": "stream",
     "text": [
      "C:\\Users\\Harsh Clean\\AppData\\Local\\Temp\\ipykernel_3080\\2198700679.py:18: FutureWarning: The frame.append method is deprecated and will be removed from pandas in a future version. Use pandas.concat instead.\n",
      "  downloaded_df = downloaded_df.append({'APK Link': url, 'APK Path': None, 'Download Status': 'failure'}, ignore_index=True)\n"
     ]
    },
    {
     "name": "stdout",
     "output_type": "stream",
     "text": [
      "Error occurred while getting second link: 404 Client Error: Not Found for url: https://www.apkmirror.com/apk/fampay/fampay-prepaid-card-payments-for-teenagers/1-7-5-release/fampay-teen-upi-payment-app-1-7-5-android-apk-download/\n",
      "No second link found for https://www.apkmirror.com/apk/fampay/fampay-prepaid-card-payments-for-teenagers/1-7-5-release/fampay-teen-upi-payment-app-1-7-5-android-apk-download/\n",
      "\n",
      "URL: https://www.apkmirror.com/apk/fampay/fampay-prepaid-card-payments-for-teenagers/1-7-4-release/fampay-teen-upi-payment-app-1-7-4-android-apk-download/\n"
     ]
    },
    {
     "name": "stderr",
     "output_type": "stream",
     "text": [
      "C:\\Users\\Harsh Clean\\AppData\\Local\\Temp\\ipykernel_3080\\2198700679.py:18: FutureWarning: The frame.append method is deprecated and will be removed from pandas in a future version. Use pandas.concat instead.\n",
      "  downloaded_df = downloaded_df.append({'APK Link': url, 'APK Path': None, 'Download Status': 'failure'}, ignore_index=True)\n"
     ]
    },
    {
     "name": "stdout",
     "output_type": "stream",
     "text": [
      "Error occurred while getting second link: 404 Client Error: Not Found for url: https://www.apkmirror.com/apk/fampay/fampay-prepaid-card-payments-for-teenagers/1-7-4-release/fampay-teen-upi-payment-app-1-7-4-android-apk-download/\n",
      "No second link found for https://www.apkmirror.com/apk/fampay/fampay-prepaid-card-payments-for-teenagers/1-7-4-release/fampay-teen-upi-payment-app-1-7-4-android-apk-download/\n",
      "\n",
      "URL: https://www.apkmirror.com/apk/fampay/fampay-prepaid-card-payments-for-teenagers/1-7-3-release/fampay-teen-upi-payment-app-1-7-3-android-apk-download/\n"
     ]
    },
    {
     "name": "stderr",
     "output_type": "stream",
     "text": [
      "C:\\Users\\Harsh Clean\\AppData\\Local\\Temp\\ipykernel_3080\\2198700679.py:18: FutureWarning: The frame.append method is deprecated and will be removed from pandas in a future version. Use pandas.concat instead.\n",
      "  downloaded_df = downloaded_df.append({'APK Link': url, 'APK Path': None, 'Download Status': 'failure'}, ignore_index=True)\n"
     ]
    },
    {
     "name": "stdout",
     "output_type": "stream",
     "text": [
      "Error occurred while getting second link: 404 Client Error: Not Found for url: https://www.apkmirror.com/apk/fampay/fampay-prepaid-card-payments-for-teenagers/1-7-3-release/fampay-teen-upi-payment-app-1-7-3-android-apk-download/\n",
      "No second link found for https://www.apkmirror.com/apk/fampay/fampay-prepaid-card-payments-for-teenagers/1-7-3-release/fampay-teen-upi-payment-app-1-7-3-android-apk-download/\n",
      "\n",
      "URL: https://www.apkmirror.com/apk/fampay/fampay-prepaid-card-payments-for-teenagers/1-7-2-release/fampay-teen-upi-payment-app-1-7-2-android-apk-download/\n"
     ]
    },
    {
     "name": "stderr",
     "output_type": "stream",
     "text": [
      "C:\\Users\\Harsh Clean\\AppData\\Local\\Temp\\ipykernel_3080\\2198700679.py:18: FutureWarning: The frame.append method is deprecated and will be removed from pandas in a future version. Use pandas.concat instead.\n",
      "  downloaded_df = downloaded_df.append({'APK Link': url, 'APK Path': None, 'Download Status': 'failure'}, ignore_index=True)\n"
     ]
    },
    {
     "name": "stdout",
     "output_type": "stream",
     "text": [
      "Error occurred while getting second link: 404 Client Error: Not Found for url: https://www.apkmirror.com/apk/fampay/fampay-prepaid-card-payments-for-teenagers/1-7-2-release/fampay-teen-upi-payment-app-1-7-2-android-apk-download/\n",
      "No second link found for https://www.apkmirror.com/apk/fampay/fampay-prepaid-card-payments-for-teenagers/1-7-2-release/fampay-teen-upi-payment-app-1-7-2-android-apk-download/\n",
      "\n",
      "URL: https://www.apkmirror.com/apk/fampay/fampay-prepaid-card-payments-for-teenagers/1-7-1-release/fampay-teen-upi-payment-app-1-7-1-android-apk-download/\n"
     ]
    },
    {
     "name": "stderr",
     "output_type": "stream",
     "text": [
      "C:\\Users\\Harsh Clean\\AppData\\Local\\Temp\\ipykernel_3080\\2198700679.py:18: FutureWarning: The frame.append method is deprecated and will be removed from pandas in a future version. Use pandas.concat instead.\n",
      "  downloaded_df = downloaded_df.append({'APK Link': url, 'APK Path': None, 'Download Status': 'failure'}, ignore_index=True)\n"
     ]
    },
    {
     "name": "stdout",
     "output_type": "stream",
     "text": [
      "Error occurred while getting second link: 404 Client Error: Not Found for url: https://www.apkmirror.com/apk/fampay/fampay-prepaid-card-payments-for-teenagers/1-7-1-release/fampay-teen-upi-payment-app-1-7-1-android-apk-download/\n",
      "No second link found for https://www.apkmirror.com/apk/fampay/fampay-prepaid-card-payments-for-teenagers/1-7-1-release/fampay-teen-upi-payment-app-1-7-1-android-apk-download/\n",
      "\n",
      "URL: https://www.apkmirror.com/apk/fampay/fampay-prepaid-card-payments-for-teenagers/1-6-9-release/fampay-teen-upi-payment-app-1-6-9-android-apk-download/\n"
     ]
    },
    {
     "name": "stderr",
     "output_type": "stream",
     "text": [
      "C:\\Users\\Harsh Clean\\AppData\\Local\\Temp\\ipykernel_3080\\2198700679.py:18: FutureWarning: The frame.append method is deprecated and will be removed from pandas in a future version. Use pandas.concat instead.\n",
      "  downloaded_df = downloaded_df.append({'APK Link': url, 'APK Path': None, 'Download Status': 'failure'}, ignore_index=True)\n"
     ]
    },
    {
     "name": "stdout",
     "output_type": "stream",
     "text": [
      "Error occurred while getting second link: 404 Client Error: Not Found for url: https://www.apkmirror.com/apk/fampay/fampay-prepaid-card-payments-for-teenagers/1-6-9-release/fampay-teen-upi-payment-app-1-6-9-android-apk-download/\n",
      "No second link found for https://www.apkmirror.com/apk/fampay/fampay-prepaid-card-payments-for-teenagers/1-6-9-release/fampay-teen-upi-payment-app-1-6-9-android-apk-download/\n",
      "\n",
      "URL: https://www.apkmirror.com/apk/fampay/fampay-prepaid-card-payments-for-teenagers/1-6-8-release/fampay-teen-upi-payment-app-1-6-8-android-apk-download/\n"
     ]
    },
    {
     "name": "stderr",
     "output_type": "stream",
     "text": [
      "C:\\Users\\Harsh Clean\\AppData\\Local\\Temp\\ipykernel_3080\\2198700679.py:18: FutureWarning: The frame.append method is deprecated and will be removed from pandas in a future version. Use pandas.concat instead.\n",
      "  downloaded_df = downloaded_df.append({'APK Link': url, 'APK Path': None, 'Download Status': 'failure'}, ignore_index=True)\n"
     ]
    },
    {
     "name": "stdout",
     "output_type": "stream",
     "text": [
      "Error occurred while getting second link: 404 Client Error: Not Found for url: https://www.apkmirror.com/apk/fampay/fampay-prepaid-card-payments-for-teenagers/1-6-8-release/fampay-teen-upi-payment-app-1-6-8-android-apk-download/\n",
      "No second link found for https://www.apkmirror.com/apk/fampay/fampay-prepaid-card-payments-for-teenagers/1-6-8-release/fampay-teen-upi-payment-app-1-6-8-android-apk-download/\n",
      "\n",
      "URL: https://www.apkmirror.com/apk/fampay/fampay-prepaid-card-payments-for-teenagers/1-6-7-release/fampay-teen-upi-payment-app-1-6-7-android-apk-download/\n"
     ]
    },
    {
     "name": "stderr",
     "output_type": "stream",
     "text": [
      "C:\\Users\\Harsh Clean\\AppData\\Local\\Temp\\ipykernel_3080\\2198700679.py:18: FutureWarning: The frame.append method is deprecated and will be removed from pandas in a future version. Use pandas.concat instead.\n",
      "  downloaded_df = downloaded_df.append({'APK Link': url, 'APK Path': None, 'Download Status': 'failure'}, ignore_index=True)\n"
     ]
    },
    {
     "name": "stdout",
     "output_type": "stream",
     "text": [
      "Error occurred while getting second link: 404 Client Error: Not Found for url: https://www.apkmirror.com/apk/fampay/fampay-prepaid-card-payments-for-teenagers/1-6-7-release/fampay-teen-upi-payment-app-1-6-7-android-apk-download/\n",
      "No second link found for https://www.apkmirror.com/apk/fampay/fampay-prepaid-card-payments-for-teenagers/1-6-7-release/fampay-teen-upi-payment-app-1-6-7-android-apk-download/\n",
      "\n",
      "URL: https://www.apkmirror.com/apk/fampay/fampay-prepaid-card-payments-for-teenagers/1-6-6-release/fampay-teen-upi-payment-app-1-6-6-android-apk-download/\n"
     ]
    },
    {
     "name": "stderr",
     "output_type": "stream",
     "text": [
      "C:\\Users\\Harsh Clean\\AppData\\Local\\Temp\\ipykernel_3080\\2198700679.py:18: FutureWarning: The frame.append method is deprecated and will be removed from pandas in a future version. Use pandas.concat instead.\n",
      "  downloaded_df = downloaded_df.append({'APK Link': url, 'APK Path': None, 'Download Status': 'failure'}, ignore_index=True)\n"
     ]
    },
    {
     "name": "stdout",
     "output_type": "stream",
     "text": [
      "Error occurred while getting second link: 404 Client Error: Not Found for url: https://www.apkmirror.com/apk/fampay/fampay-prepaid-card-payments-for-teenagers/1-6-6-release/fampay-teen-upi-payment-app-1-6-6-android-apk-download/\n",
      "No second link found for https://www.apkmirror.com/apk/fampay/fampay-prepaid-card-payments-for-teenagers/1-6-6-release/fampay-teen-upi-payment-app-1-6-6-android-apk-download/\n",
      "\n",
      "URL: https://www.apkmirror.com/apk/fampay/fampay-prepaid-card-payments-for-teenagers/1-6-2-release/fampay-teen-upi-payment-app-1-6-2-android-apk-download/\n"
     ]
    },
    {
     "name": "stderr",
     "output_type": "stream",
     "text": [
      "C:\\Users\\Harsh Clean\\AppData\\Local\\Temp\\ipykernel_3080\\2198700679.py:18: FutureWarning: The frame.append method is deprecated and will be removed from pandas in a future version. Use pandas.concat instead.\n",
      "  downloaded_df = downloaded_df.append({'APK Link': url, 'APK Path': None, 'Download Status': 'failure'}, ignore_index=True)\n"
     ]
    },
    {
     "name": "stdout",
     "output_type": "stream",
     "text": [
      "Error occurred while getting second link: 404 Client Error: Not Found for url: https://www.apkmirror.com/apk/fampay/fampay-prepaid-card-payments-for-teenagers/1-6-2-release/fampay-teen-upi-payment-app-1-6-2-android-apk-download/\n",
      "No second link found for https://www.apkmirror.com/apk/fampay/fampay-prepaid-card-payments-for-teenagers/1-6-2-release/fampay-teen-upi-payment-app-1-6-2-android-apk-download/\n",
      "\n",
      "URL: https://www.apkmirror.com/apk/fampay/fampay-prepaid-card-payments-for-teenagers/1-6-1-release/fampay-teen-upi-payment-app-1-6-1-android-apk-download/\n"
     ]
    },
    {
     "name": "stderr",
     "output_type": "stream",
     "text": [
      "C:\\Users\\Harsh Clean\\AppData\\Local\\Temp\\ipykernel_3080\\2198700679.py:18: FutureWarning: The frame.append method is deprecated and will be removed from pandas in a future version. Use pandas.concat instead.\n",
      "  downloaded_df = downloaded_df.append({'APK Link': url, 'APK Path': None, 'Download Status': 'failure'}, ignore_index=True)\n"
     ]
    },
    {
     "name": "stdout",
     "output_type": "stream",
     "text": [
      "Error occurred while getting second link: 404 Client Error: Not Found for url: https://www.apkmirror.com/apk/fampay/fampay-prepaid-card-payments-for-teenagers/1-6-1-release/fampay-teen-upi-payment-app-1-6-1-android-apk-download/\n",
      "No second link found for https://www.apkmirror.com/apk/fampay/fampay-prepaid-card-payments-for-teenagers/1-6-1-release/fampay-teen-upi-payment-app-1-6-1-android-apk-download/\n",
      "\n",
      "URL: https://www.apkmirror.com/apk/fampay/fampay-prepaid-card-payments-for-teenagers/1-5-9-release/fampay-teen-upi-payment-app-1-5-9-android-apk-download/\n"
     ]
    },
    {
     "name": "stderr",
     "output_type": "stream",
     "text": [
      "C:\\Users\\Harsh Clean\\AppData\\Local\\Temp\\ipykernel_3080\\2198700679.py:18: FutureWarning: The frame.append method is deprecated and will be removed from pandas in a future version. Use pandas.concat instead.\n",
      "  downloaded_df = downloaded_df.append({'APK Link': url, 'APK Path': None, 'Download Status': 'failure'}, ignore_index=True)\n"
     ]
    },
    {
     "name": "stdout",
     "output_type": "stream",
     "text": [
      "Error occurred while getting second link: 404 Client Error: Not Found for url: https://www.apkmirror.com/apk/fampay/fampay-prepaid-card-payments-for-teenagers/1-5-9-release/fampay-teen-upi-payment-app-1-5-9-android-apk-download/\n",
      "No second link found for https://www.apkmirror.com/apk/fampay/fampay-prepaid-card-payments-for-teenagers/1-5-9-release/fampay-teen-upi-payment-app-1-5-9-android-apk-download/\n",
      "\n",
      "URL: https://www.apkmirror.com/apk/fampay/fampay-prepaid-card-payments-for-teenagers/1-5-8-release/fampay-teen-upi-payment-app-1-5-8-android-apk-download/\n"
     ]
    },
    {
     "name": "stderr",
     "output_type": "stream",
     "text": [
      "C:\\Users\\Harsh Clean\\AppData\\Local\\Temp\\ipykernel_3080\\2198700679.py:18: FutureWarning: The frame.append method is deprecated and will be removed from pandas in a future version. Use pandas.concat instead.\n",
      "  downloaded_df = downloaded_df.append({'APK Link': url, 'APK Path': None, 'Download Status': 'failure'}, ignore_index=True)\n"
     ]
    },
    {
     "name": "stdout",
     "output_type": "stream",
     "text": [
      "Error occurred while getting second link: 404 Client Error: Not Found for url: https://www.apkmirror.com/apk/fampay/fampay-prepaid-card-payments-for-teenagers/1-5-8-release/fampay-teen-upi-payment-app-1-5-8-android-apk-download/\n",
      "No second link found for https://www.apkmirror.com/apk/fampay/fampay-prepaid-card-payments-for-teenagers/1-5-8-release/fampay-teen-upi-payment-app-1-5-8-android-apk-download/\n",
      "\n",
      "URL: https://www.apkmirror.com/apk/fampay/fampay-prepaid-card-payments-for-teenagers/1-5-6-release/fampay-teen-upi-payment-app-1-5-6-android-apk-download/\n"
     ]
    },
    {
     "name": "stderr",
     "output_type": "stream",
     "text": [
      "C:\\Users\\Harsh Clean\\AppData\\Local\\Temp\\ipykernel_3080\\2198700679.py:18: FutureWarning: The frame.append method is deprecated and will be removed from pandas in a future version. Use pandas.concat instead.\n",
      "  downloaded_df = downloaded_df.append({'APK Link': url, 'APK Path': None, 'Download Status': 'failure'}, ignore_index=True)\n"
     ]
    },
    {
     "name": "stdout",
     "output_type": "stream",
     "text": [
      "Error occurred while getting second link: 404 Client Error: Not Found for url: https://www.apkmirror.com/apk/fampay/fampay-prepaid-card-payments-for-teenagers/1-5-6-release/fampay-teen-upi-payment-app-1-5-6-android-apk-download/\n",
      "No second link found for https://www.apkmirror.com/apk/fampay/fampay-prepaid-card-payments-for-teenagers/1-5-6-release/fampay-teen-upi-payment-app-1-5-6-android-apk-download/\n",
      "\n"
     ]
    },
    {
     "name": "stderr",
     "output_type": "stream",
     "text": [
      "C:\\Users\\Harsh Clean\\AppData\\Local\\Temp\\ipykernel_3080\\2198700679.py:18: FutureWarning: The frame.append method is deprecated and will be removed from pandas in a future version. Use pandas.concat instead.\n",
      "  downloaded_df = downloaded_df.append({'APK Link': url, 'APK Path': None, 'Download Status': 'failure'}, ignore_index=True)\n"
     ]
    }
   ],
   "source": [
    "downloaded_df = pd.DataFrame(columns=['APK Link', 'APK Path', 'Download Status'])\n",
    "\n",
    "for url in urls:\n",
    "\n",
    "    print(f'URL: {url}')\n",
    "\n",
    "    if url:\n",
    "        second_link = get_second_link(url)\n",
    "        if second_link:\n",
    "            print(f'Second link for {url}:\\n{second_link}\\n')\n",
    "            file_name = f'{os.path.basename(second_link)}.apk'\n",
    "            file_path = os.path.join(os.getcwd(), file_name)\n",
    "            print(f'Downloading {file_name}...')\n",
    "            download_status = download_file(second_link, file_path)\n",
    "            downloaded_df = downloaded_df.append({'APK Link': url, 'APK Path': file_path, 'Download Status': download_status}, ignore_index=True)\n",
    "        else:\n",
    "            print(f'No second link found for {url}\\n')\n",
    "            downloaded_df = downloaded_df.append({'APK Link': url, 'APK Path': None, 'Download Status': 'failure'}, ignore_index=True)\n",
    "    else:\n",
    "        print(f'Failed to construct \"get\" URL for {url}\\n')\n",
    "        downloaded_df = downloaded_df.append({'APK Link': url, 'APK Path': None, 'Download Status': 'failure'}, ignore_index=True)\n",
    "\n",
    "# Save the downloaded APK file paths and download status to a CSV file\n",
    "downloaded_df.to_csv('downloaded_apks.csv', index=False)"
   ]
  }
 ],
 "metadata": {
  "kernelspec": {
   "display_name": "base",
   "language": "python",
   "name": "python3"
  },
  "language_info": {
   "codemirror_mode": {
    "name": "ipython",
    "version": 3
   },
   "file_extension": ".py",
   "mimetype": "text/x-python",
   "name": "python",
   "nbconvert_exporter": "python",
   "pygments_lexer": "ipython3",
   "version": "3.10.9"
  },
  "orig_nbformat": 4
 },
 "nbformat": 4,
 "nbformat_minor": 2
}
