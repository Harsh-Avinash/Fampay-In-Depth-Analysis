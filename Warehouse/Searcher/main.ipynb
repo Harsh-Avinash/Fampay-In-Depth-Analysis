{
 "cells": [
  {
   "cell_type": "code",
   "execution_count": null,
   "metadata": {},
   "outputs": [],
   "source": [
    "from googlesearch import search\n",
    "\n",
    "query = 'fampay filetype:pdf'\n",
    "pdf_links = []"
   ]
  },
  {
   "cell_type": "code",
   "execution_count": 17,
   "metadata": {},
   "outputs": [
    {
     "name": "stdout",
     "output_type": "stream",
     "text": [
      "https://www.idfcfirstbank.com/content/dam/IDFCFirstBank/PDF/FAQs-Fampay.pdf\n",
      "https://www.idfcfirstbank.com/content/dam/IDFCFirstBank/PDF/FamPay-tnc.pdf\n",
      "https://cdn.fampay.in/prod/Terms+and+conditions/GRIPtnc.pdf\n",
      "https://triotech-website.s3.ap-south-1.amazonaws.com/public/FamPay+TT+-+Terms+of+Use.pdf\n",
      "https://triotech-website.s3.ap-south-1.amazonaws.com/public/FamPay+TT+Privacy+Policy.pdf\n",
      "https://www.bankofbaroda.in/-/media/project/bob/countrywebsites/india/pdfs/993_1_fintalk_01-08-2021.pdf\n",
      "https://cdn.twimbit.com/uploads/2022/07/26173739/India-new-hub-of-neobank-2.0-V2.pdf\n",
      "https://blog.zeta.tech/hubfs/Banking/Business%20Today%20-%20Zeta(Best%20Fintech).pdf\n",
      "https://icmai.in/upload/BI/DND_3007_21.pdf\n",
      "https://nces.ed.gov/pubs99/1999159.pdf\n",
      "https://calcuttabusinessschool.org.in/assets/pdf/UDYOGPATRA-Issue-No-29.pdf\n",
      "https://aitikgupta.com/Aitik_Gupta_SWE_Resume.pdf\n",
      "https://www.bits-pilani.ac.in/Uploads/University_Upload/Placement/Employer-and-Internship-list-GER-20-April-2022.pdf\n",
      "https://www.indembassybern.gov.in/docs/1587040163IBW%2016.03.2020.pdf\n",
      "https://www.msit.in/media/2022/06/22/placements-2021-22.pdf\n",
      "https://unstop.com/api/competition/get-attachment/606f324a6dba4_Octaves_21_-_Event_Brochure__1_.pdf\n",
      "https://ir.iitr.ac.in/pdf/IITR_Brochure_2023.pdf\n",
      "https://www.mirandahouse.ac.in/placementcell/files/Self%20attested%20list%20of%20students.pdf\n",
      "https://www.tnpscthervupettagam.com/assets/home/media/general/doc/July_24_-_English1.pdf\n",
      "https://byjusexamprep.com/liveData/f/2020/8/weekly_oneliners_22nd_to_31st_july_eng_42.pdf\n",
      "https://brixxs.com/wp-content/uploads/2023/01/FamPay-API-koppeling.pdf\n",
      "https://iea.blob.core.windows.net/assets/imports/events/339/Session_3_Vincent.pdf\n",
      "https://pbindustries.gov.in/startup/assets/docs/21_July_2022.pdf\n",
      "https://www.svc.ac.in/SVC_MAIN/SeminarsWebinars/Diamond%20Jubilee%20Celebration%20(2).pdf\n",
      "https://rbsa.in/wp-content/uploads/reports/Newsletters/RBSA_India_Deals_Spanshot_March2020.pdf\n",
      "https://www.pnbhousing.com/wp-content/uploads/2015/07/Appointment-of-Mr-Gauri-Shankar.pdf\n",
      "https://www.anz.com/Documents/AU/corporate/global-transaction-hth-file-formats.pdf\n",
      "https://www.jmflresearch.com/JMnew/JMCRM/analystreports/pdf/%5BJMFL%5D%20India%20Internet_Digital%20Payments_SectorUpdate_16Sep2020.pdf\n",
      "https://pdf.bankexamstoday.com/raman_files/Banking-and-Financial-Awareness-Digest-July-2021.pdf\n",
      "https://aspirecircle.org/wp-content/uploads/2022/01/Tracxn-Feed-Report-FinTech-India-29-Jul-2021-FIN.pdf\n",
      "https://nucleusadvisors.in/blog_pdf/643-file21636535916.pdf\n",
      "https://repository.ung.ac.id/get/karyailmiah/8260/The-Analysis-of-Marketing-Strategy-to-Improve-the-Competitive-Positioningof-the-Craft-Industry-in-Gorontalo.pdf\n",
      "https://www.ripleys.com/wp-content/uploads/formidable/14/amazon-free-gift-card-2023-31049790.pdf\n",
      "https://cdn.codingal.com/pdfs/fampay-promo/rising-coding-star-curriculum.pdf\n",
      "https://pmschool.io:4000/pdfs/entry-file-1627232659532.pdf\n",
      "https://admi.mu.ac.in/media/placement-reports/List%20of%20Corporate%20Recruiters%202020%20-%2021.pdf\n",
      "https://www.unicef.org/media/134571/file/India-Humanitarian-SitRep-Dec-2022.pdf\n",
      "https://nmcollege.in/wp-content/uploads/2021/08/college-magazine_final.pdf\n",
      "https://study91.co.in/Home/DownloadBlogPdf?fileName=Weekly%2020_to_25_July_Current_Affairs_in_Hindi_Study91-25-7--20-45-50.pdf\n",
      "https://ibbi.gov.in/uploads/auction_notice_liquidation/182bc6e9639a9259da3e8453706353d4.pdf\n",
      "https://www.purbamedinipurpolice.gov.in/wp-content/uploads/EGRA-97.pdf\n",
      "https://gtu.ge/Agro-Lib/1%20(1).pdf\n",
      "https://paymentscouncil.in/pdf/PCI_FCC_Annual_Report_2021_22.pdf\n",
      "https://hr.mcmaster.ca/app/uploads/2022/08/2022-08-17-HR-Network-Presentation-.pdf\n",
      "https://www.gunder.com/content/uploads/pdf/jonathan-pentzien.pdf\n",
      "https://www.smartkeeda.com/pdf/July_GA_Quiz_30.pdf\n",
      "https://www.bankersadda.com/wp-content/uploads/2020/09/12135837/SA-Quiz-PDF-12-Sept-Copy.pdf\n",
      "https://images.moneycontrol.com/static-mcnews/2023/04/One-97-Communications-20-04-2023-moti.pdf\n",
      "https://rithikjain.in/static/media/resume.f184a744.pdf\n",
      "http://mani-group.com/wp-content/uploads/2021/07/Forbes-India-30th-July-2021_Online.pdf\n",
      "https://tpcell.iiitkota.ac.in/docs/placement-report-2022.pdf\n",
      "https://www.ipindia.gov.in/writereaddata/Portal/IPOJournal/1_4898_1/NOTICE_RELATED_TO_OPPOSITION-NOTICE.pdf\n",
      "https://www.lpu.in/student_services/downloads/lovely-world/october2022-issue.pdf\n",
      "https://www.pws.edu.in/images/images2020nov/PWS-Newsletter%20_September-Edition.pdf\n",
      "https://induslaw.com/app/webroot/publications/pdf/alerts-2021/Fintech-Newsletter-April-to-June-2021.pdf\n",
      "https://www.careersuccessjammu.com/login/images/190874751619-20%20july%202020-converted.pdf\n",
      "https://www.startupindia.gov.in/content/dam/invest-india/Templates/public/Recognized%20Startups%20List_31072020.pdf\n",
      "https://placement.iiita.ac.in/Placement_Brochure_2022-23.pdf\n",
      "https://cdn.pratikd.in/resume-may-21.pdf\n",
      "https://www.gla.ac.in/pdf/admission-booklet-2021.pdf\n",
      "https://enterprise.press/wp-content/uploads/2021/11/VentureSouq-launches-the-MENA-regions-first-FinTech-Fund.pdf\n",
      "https://www.iemias.com/wp-content/uploads/2021/06/8.-One-Liner-CA-AUGUST-2020.pdf\n",
      "https://auditor.loanwiser.in/bank_statement/amol51630483783.pdf\n",
      "https://www.jsalaw.com/wp-content/uploads/2021/08/JSA-Newsletter-FinTech-Eleventh-Edition-2021-002.pdf\n",
      "https://www.time4education.com/GKmodules/2020/07_July_2020_Current_Affairs.pdf\n",
      "https://globalfintechfest.com/assets/gff-report-2022.pdf\n",
      "https://bmsit.ac.in/public/assets/pdf/newsletters/June-2022.pdf\n",
      "https://ambitiousbaba.com/wp-content/uploads/2020/11/Banking-and-Financial-Awareness-Class-2-PDF-for-RBI-Assistant-Mains.pdf\n",
      "https://www.fintechcouncil.in/pdf/The%20Winds%20of%20Change-%20Edition%20II.pdf\n",
      "https://vanik.org/uploads/1664-news%20development%2021%20JULY%20-23%20JULY%20%202020.pdf\n",
      "https://ece.mait.ac.in/images/pdf/Placement_2018-2022.pdf\n",
      "https://melbourneinstitute.unimelb.edu.au/__data/assets/pdf_file/0005/2245928/manualmitts5.pdf\n",
      "https://www.orfonline.org/wp-content/uploads/2022/01/ORF_SpecialReport_178_DigitalBanks.pdf\n",
      "https://www.fintechfutures.com/files/2021/07/Banking-Technology-Jul-Aug-2021.pdf\n",
      "https://darkeoh-auditor.ddti.net/media/11620/unclaimed-money-as-of-7-1-22.pdf\n",
      "https://www.ijirmf.com/wp-content/uploads/IJIRMF202303003-min.pdf\n",
      "https://www.greenhonchos.com/wp-content/uploads/2022/04/Tech50-Report-2022.pdf\n",
      "https://vidhilegalpolicy.in/wp-content/uploads/2022/04/The-Law-Needs-to-Account-for-Her_Reforms-to-make-finance-inclusive.pdf\n",
      "https://www.redalyc.org/pdf/3943/394334972003.pdf\n",
      "https://knowvation.in/wp-content/uploads/2021/01/apps_2020_2021.pdf\n",
      "https://narula.dev/assets/LoRNamanNarula.pdf\n",
      "https://amlegals.com/wp-content/uploads/2022/05/Quarterly-Repository-April-2022.pdf\n",
      "https://www.iimcal.ac.in/sites/all/files/pdfs/9_th_anniversary_issue_september_2021_.pdf\n",
      "https://www.symlaw.ac.in/assets/pdf/Symbiosis%20Law%20School-Pune-%202023-%20E-Brochure.pdf\n",
      "https://iimamritsar.ac.in/uploads/IIM%20Amritsar_Junior_Profiles%20Brochure%20Final%20__230921.pdf\n",
      "https://images.assettype.com/bloombergquint/2021-10/493b78de-2f92-497e-a86d-6379864c0238/Systematix_India_FinTech___Neo_Banks.pdf\n",
      "https://yourstory.com/cs/uploads/Tech50Report2021Dec-1640243176064.pdf\n",
      "http://quiz.mahendraguru.com/mahendraguru/content/WP-20-25JULY-ENG.pdf\n",
      "https://www.placementhansraj.com/internshipcell/files/The%20Internship%20Cell%20-%20Annual%20Report.pdf\n",
      "https://www.ifheindia.org/IFHE_Annual%20Report_2020-21.pdf\n",
      "https://acuproconsulting.com/docs/newsletters/2021/06)%20June%202021/Startup's%20The%20Buzz%20-%2021%20June%202021.pdf\n",
      "https://www.seiburailway.jp/railways/ad/signage/station/pdf/SEIBU_mediaguide2023_book_27-28.pdf\n",
      "https://www.hansrajcollege.ac.in/uploads/studentscorner/internship/The%20Internship%20Cell%20-%20Annual%20Report%20(1).pdf\n",
      "https://www.chennaischoolofbanking.com/csbnirvagam/monthly_uploads/CURRENT%20AFFAIRS%20(JULY-2020).pdf\n",
      "https://www.mbauniverse.com/sites/default/files/SIIB_Brochure_2022.pdf\n",
      "https://sos.idaho.gov/elect/finance/2012/2011Annual/Candidate/20_Palmer.pdf\n",
      "https://tsec.edu/wp-content/uploads/2021/NAAC/3.2.2.B.pdf\n",
      "https://www.govinfo.gov/content/pkg/GPO-CRECB-1894-pt6-v26/pdf/GPO-CRECB-1894-pt6-v26-10.pdf\n",
      "https://www.coa.gov.ph/download/4321/south-cotabato/54982/banga-executive-summary-2014-2.pdf\n",
      "https://www.tutorialspoint.com/current_affairs_july_2020/current_affairs_july_2020_pdf_version.pdf\n",
      "https://www.ark.ac.uk/nilt/2015/main15.pdf\n",
      "https://www2.deloitte.com/content/dam/Deloitte/th/Documents/international-specialist-services/th-iss-jsg-fa-deloitte-thailand-jsg-webinar-28052020.pdf\n",
      "https://aspireplacement.files.wordpress.com/2020/08/aspire-final-report-2019-20.pdf\n",
      "https://www.bseindia.com/xml-data/corpfiling/AttachHis/c7a18e1b-ca8f-4275-abe7-a0fe046dda57.pdf\n",
      "https://www2.erie.gov/clarence/sites/www2.erie.gov.clarence/files/uploads/ZBA%206-8-2021%20support%20docs%20No.%205%20last%20half-05282021145805.pdf\n",
      "https://assessmentonline.naac.gov.in/storage/app/hei/SSR/103790/3.1.3_1619962684_5615.pdf\n",
      "https://www.grantthornton.in/globalassets/1.-member-firms/india/assets/pdfs/annual-deal-list-2021.pdf\n",
      "https://ijalr.in/wp-content/uploads/2022/09/Article-36.pdf\n",
      "https://noida.cambridgeschool.edu.in/wp-content/uploads/sites/4/2020/09/MONTHLY-REPORT-JULY-2020.pdf\n",
      "https://pingconnect.in/headersData.pdf\n",
      "https://bbpsrohini.balbharati.org/wp-content/uploads/118-SMC-WEBSITE.pdf\n",
      "http://aspe.hhs.gov/sites/default/files/private/pdf/74841/ATEAdevI.pdf\n",
      "https://docs.oracle.com/cd/E74288_01/docs/RN_GAIO_311releasenotesv1.1.pdf\n",
      "https://wisdomras.files.wordpress.com/2020/07/23-july-2020-daily-current-affairs.pdf\n",
      "https://cdn.toprankers.net/docs/200-one-liner-current-affair-july-2020-025303d9ef1cc.pdf\n",
      "https://townofcenter.colorado.gov/sites/townofcenter/files/documents/09-08-20%20-%20TOC%20Board%20Meeting%20Agenda-3.pdf\n",
      "https://www.cvs.edu.in/uploads/pdf/1657188412_Annual_Report_2019-20.pdf\n"
     ]
    }
   ],
   "source": [
    "for url in search(query, stop=2000):\n",
    "    if url.endswith('.pdf'):\n",
    "        pdf_links.append(url)\n",
    "        # keep appending to the file pdf_links.csv\n",
    "        with open('pdf_links.csv', 'a') as f:\n",
    "            f.write(url + '\\n')\n",
    "\n",
    "        print(url)"
   ]
  },
  {
   "cell_type": "code",
   "execution_count": 18,
   "metadata": {},
   "outputs": [
    {
     "data": {
      "text/plain": [
       "117"
      ]
     },
     "execution_count": 18,
     "metadata": {},
     "output_type": "execute_result"
    }
   ],
   "source": [
    "len(pdf_links)"
   ]
  }
 ],
 "metadata": {
  "kernelspec": {
   "display_name": "base",
   "language": "python",
   "name": "python3"
  },
  "language_info": {
   "codemirror_mode": {
    "name": "ipython",
    "version": 3
   },
   "file_extension": ".py",
   "mimetype": "text/x-python",
   "name": "python",
   "nbconvert_exporter": "python",
   "pygments_lexer": "ipython3",
   "version": "3.10.9"
  },
  "orig_nbformat": 4
 },
 "nbformat": 4,
 "nbformat_minor": 2
}
