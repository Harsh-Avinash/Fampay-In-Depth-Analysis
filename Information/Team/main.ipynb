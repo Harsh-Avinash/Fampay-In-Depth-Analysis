{
 "cells": [
  {
   "cell_type": "code",
   "execution_count": 22,
   "metadata": {},
   "outputs": [],
   "source": [
    "from bs4 import BeautifulSoup\n",
    "import csv"
   ]
  },
  {
   "cell_type": "code",
   "execution_count": 23,
   "metadata": {},
   "outputs": [],
   "source": [
    "# Load the HTML file\n",
    "with open('index.html') as html_file:\n",
    "    soup = BeautifulSoup(html_file, 'html.parser')\n",
    "\n",
    "# Extract the data from the HTML and store it in a list of dictionaries\n",
    "famstars = []"
   ]
  },
  {
   "cell_type": "code",
   "execution_count": 24,
   "metadata": {},
   "outputs": [],
   "source": [
    "for div in soup.find_all('div', {'class': 'FamstarsContainer_famstar_card__JDx0T'}):\n",
    "    a_tag = div.find_parent('a')\n",
    "    name = div.find('p', {'class': 'FamstarsContainer_famstar_name__BCsEs'}).text.strip()\n",
    "    link = a_tag['href']\n",
    "    role = div.find('p', {'class': 'FamstarsContainer_famstar_role__PDlaS'}).text.strip()\n",
    "    status = div.find('div', {'class': 'FamstarsContainer_famstar_status__KhyOK'}).text.strip()\n",
    "    famstar = {\n",
    "        'Name': name,\n",
    "        'LinkedIn Profile': link,\n",
    "        'Role': role,\n",
    "        'Status': status\n",
    "    }\n",
    "    famstars.append(famstar)"
   ]
  },
  {
   "cell_type": "code",
   "execution_count": 25,
   "metadata": {},
   "outputs": [],
   "source": [
    "# Save the data to a CSV file\n",
    "with open('famstars.csv', mode='w', newline='') as csv_file:\n",
    "    fieldnames = ['Name', 'LinkedIn Profile', 'Role', 'Status']\n",
    "    writer = csv.DictWriter(csv_file, fieldnames=fieldnames)\n",
    "    writer.writeheader()\n",
    "    for famstar in famstars:\n",
    "        writer.writerow(famstar)\n"
   ]
  }
 ],
 "metadata": {
  "kernelspec": {
   "display_name": "base",
   "language": "python",
   "name": "python3"
  },
  "language_info": {
   "codemirror_mode": {
    "name": "ipython",
    "version": 3
   },
   "file_extension": ".py",
   "mimetype": "text/x-python",
   "name": "python",
   "nbconvert_exporter": "python",
   "pygments_lexer": "ipython3",
   "version": "3.10.9"
  },
  "orig_nbformat": 4
 },
 "nbformat": 4,
 "nbformat_minor": 2
}
