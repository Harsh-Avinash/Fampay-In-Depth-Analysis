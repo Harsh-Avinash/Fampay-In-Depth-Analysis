{
 "cells": [
  {
   "cell_type": "code",
   "execution_count": 1,
   "metadata": {},
   "outputs": [],
   "source": [
    "import os\n",
    "import requests\n",
    "import csv "
   ]
  },
  {
   "cell_type": "code",
   "execution_count": 2,
   "metadata": {},
   "outputs": [],
   "source": [
    "def download_pdf_file(url: str) -> bool:\n",
    "    \"\"\"Download PDF from given URL to local directory.\n",
    "\n",
    "    :param url: The url of the PDF file to be downloaded\n",
    "    :return: True if PDF file was successfully downloaded, otherwise False.\n",
    "    \"\"\"\n",
    "\n",
    "    # Request URL and get response object\n",
    "    response = requests.get(url, stream=True)\n",
    "\n",
    "    # isolate PDF filename from URL\n",
    "    pdf_file_name = os.path.basename(url)\n",
    "    if response.status_code == 200:\n",
    "        # Save in current working directory\n",
    "        filepath = os.path.join(os.getcwd(), pdf_file_name)\n",
    "        with open(filepath, 'wb') as pdf_object:\n",
    "            pdf_object.write(response.content)\n",
    "            print(f'{pdf_file_name} was successfully saved!')\n",
    "            return True\n",
    "    else:\n",
    "        print(f'Uh oh! Could not download {pdf_file_name},')\n",
    "        print(f'HTTP response status code: {response.status_code}')\n",
    "        return False"
   ]
  },
  {
   "cell_type": "code",
   "execution_count": 3,
   "metadata": {},
   "outputs": [
    {
     "name": "stdout",
     "output_type": "stream",
     "text": [
      "FAQs-Fampay.pdf was successfully saved!\n"
     ]
    }
   ],
   "source": [
    "# open the CSV file containing the URLs of the PDF files using the csv module\n",
    "with open('../pdf_links.csv', 'r') as csv_file:\n",
    "    # read the CSV file into a list of lists\n",
    "    csv_reader = csv.reader(csv_file)\n",
    "    # loop through the list of lists\n",
    "    for row in csv_reader:\n",
    "        # isolate the URL from the list\n",
    "        url = row[0]\n",
    "        # download the PDF file\n",
    "        try:\n",
    "            download_pdf_file(url)\n",
    "        except Exception as e:\n",
    "            print(f'Could not download {url} due to {e}')"
   ]
  }
 ],
 "metadata": {
  "kernelspec": {
   "display_name": "base",
   "language": "python",
   "name": "python3"
  },
  "language_info": {
   "codemirror_mode": {
    "name": "ipython",
    "version": 3
   },
   "file_extension": ".py",
   "mimetype": "text/x-python",
   "name": "python",
   "nbconvert_exporter": "python",
   "pygments_lexer": "ipython3",
   "version": "3.10.9"
  },
  "orig_nbformat": 4
 },
 "nbformat": 4,
 "nbformat_minor": 2
}
