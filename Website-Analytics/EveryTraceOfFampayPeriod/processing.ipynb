{
 "cells": [
  {
   "cell_type": "code",
   "execution_count": 3,
   "metadata": {},
   "outputs": [],
   "source": [
    "import pandas as pd"
   ]
  },
  {
   "cell_type": "code",
   "execution_count": 3,
   "metadata": {},
   "outputs": [],
   "source": [
    "# Read the crawled links CSV file\n",
    "df = pd.read_csv(\"famapp_crawled_links.csv\")\n",
    "\n",
    "# Merge \"From\" and \"To\" columns into a new column called \"Merged\"\n",
    "df['Merged'] = df['From'] + ' ' + df['To']\n",
    "\n",
    "# Concatenate all the links into a single column\n",
    "merged_links = df['Merged'].str.cat(sep=' ')\n",
    "\n",
    "# Split the merged links by space and convert it into a Series\n",
    "links_series = pd.Series(merged_links.split())\n",
    "\n",
    "# Remove duplicates from the Series\n",
    "unique_links = links_series.drop_duplicates()\n",
    "\n",
    "# Save the unique links to a new CSV file\n",
    "unique_links.to_csv(\"famapp_unique_links.csv\", index=False)"
   ]
  },
  {
   "cell_type": "code",
   "execution_count": 16,
   "metadata": {},
   "outputs": [],
   "source": [
    "# Read the CSV file without a header\n",
    "df = pd.read_csv(\"famapp_unique_links.csv\", header=None)\n",
    "\n",
    "# Filter the links containing 'https://fam'\n",
    "filtered_links = df[df[0].str.startswith('https://fam')]\n",
    "\n",
    "# Save the filtered links to a new CSV file\n",
    "filtered_links.to_csv(\"filtered_links.csv\", index=False, header=False)"
   ]
  },
  {
   "cell_type": "code",
   "execution_count": null,
   "metadata": {},
   "outputs": [],
   "source": []
  }
 ],
 "metadata": {
  "kernelspec": {
   "display_name": "base",
   "language": "python",
   "name": "python3"
  },
  "language_info": {
   "codemirror_mode": {
    "name": "ipython",
    "version": 3
   },
   "file_extension": ".py",
   "mimetype": "text/x-python",
   "name": "python",
   "nbconvert_exporter": "python",
   "pygments_lexer": "ipython3",
   "version": "3.10.9"
  },
  "orig_nbformat": 4
 },
 "nbformat": 4,
 "nbformat_minor": 2
}
