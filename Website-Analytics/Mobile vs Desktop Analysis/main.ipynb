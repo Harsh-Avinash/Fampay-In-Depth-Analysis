{
 "cells": [
  {
   "cell_type": "code",
   "execution_count": 9,
   "metadata": {},
   "outputs": [],
   "source": [
    "import pandas as pd\n",
    "from bs4 import BeautifulSoup\n",
    "import requests\n",
    "from fake_useragent import UserAgent\n",
    "import time\n",
    "import plotly.graph_objects as go\n",
    "import plotly.express as px\n",
    "from Levenshtein import distance"
   ]
  },
  {
   "cell_type": "code",
   "execution_count": 22,
   "metadata": {},
   "outputs": [],
   "source": [
    "headers_desktop = {'User-Agent': 'Mozilla/5.0 (Windows NT 10.0;Win64) AppleWebkit/537.36 (KHTML, like Gecko) Chrome/89.0.4389.82 Safari/537.36'}\n",
    "headers_mobile = {'User-Agent': 'Mozilla/5.0 (iPhone; CPU iPhone OS 13_2 like Mac OS X) AppleWebKit/605.1.15 (KHTML, like Gecko) Version/13.0.3 Mobile/15E148 Safari/604.1'}"
   ]
  },
  {
   "cell_type": "code",
   "execution_count": 23,
   "metadata": {},
   "outputs": [
    {
     "data": {
      "text/html": [
       "<div>\n",
       "<style scoped>\n",
       "    .dataframe tbody tr th:only-of-type {\n",
       "        vertical-align: middle;\n",
       "    }\n",
       "\n",
       "    .dataframe tbody tr th {\n",
       "        vertical-align: top;\n",
       "    }\n",
       "\n",
       "    .dataframe thead th {\n",
       "        text-align: right;\n",
       "    }\n",
       "</style>\n",
       "<table border=\"1\" class=\"dataframe\">\n",
       "  <thead>\n",
       "    <tr style=\"text-align: right;\">\n",
       "      <th></th>\n",
       "      <th>Link</th>\n",
       "    </tr>\n",
       "  </thead>\n",
       "  <tbody>\n",
       "    <tr>\n",
       "      <th>0</th>\n",
       "      <td>https://famapp.in/</td>\n",
       "    </tr>\n",
       "    <tr>\n",
       "      <th>1</th>\n",
       "      <td>https://famcard.me/</td>\n",
       "    </tr>\n",
       "    <tr>\n",
       "      <th>2</th>\n",
       "      <td>https://fampay.in/</td>\n",
       "    </tr>\n",
       "    <tr>\n",
       "      <th>3</th>\n",
       "      <td>https://fampay.in/about</td>\n",
       "    </tr>\n",
       "    <tr>\n",
       "      <th>4</th>\n",
       "      <td>https://fampay.in/blog</td>\n",
       "    </tr>\n",
       "    <tr>\n",
       "      <th>...</th>\n",
       "      <td>...</td>\n",
       "    </tr>\n",
       "    <tr>\n",
       "      <th>518</th>\n",
       "      <td>https://famapp.in/privacy</td>\n",
       "    </tr>\n",
       "    <tr>\n",
       "      <th>519</th>\n",
       "      <td>https://famapp.in/terms</td>\n",
       "    </tr>\n",
       "    <tr>\n",
       "      <th>520</th>\n",
       "      <td>https://famapp.in/contact</td>\n",
       "    </tr>\n",
       "    <tr>\n",
       "      <th>521</th>\n",
       "      <td>https://www.instagram.com/fam.india/</td>\n",
       "    </tr>\n",
       "    <tr>\n",
       "      <th>522</th>\n",
       "      <td>https://www.linkedin.com/company/famindia/</td>\n",
       "    </tr>\n",
       "  </tbody>\n",
       "</table>\n",
       "<p>523 rows × 1 columns</p>\n",
       "</div>"
      ],
      "text/plain": [
       "                                           Link\n",
       "0                            https://famapp.in/\n",
       "1                           https://famcard.me/\n",
       "2                            https://fampay.in/\n",
       "3                       https://fampay.in/about\n",
       "4                        https://fampay.in/blog\n",
       "..                                          ...\n",
       "518                   https://famapp.in/privacy\n",
       "519                     https://famapp.in/terms\n",
       "520                   https://famapp.in/contact\n",
       "521        https://www.instagram.com/fam.india/\n",
       "522  https://www.linkedin.com/company/famindia/\n",
       "\n",
       "[523 rows x 1 columns]"
      ]
     },
     "execution_count": 23,
     "metadata": {},
     "output_type": "execute_result"
    }
   ],
   "source": [
    "# Read csv file\n",
    "df = pd.read_csv('../EveryTraceOfFampayPeriod/famapp_unique_links.csv')\n",
    "df"
   ]
  },
  {
   "cell_type": "code",
   "execution_count": 24,
   "metadata": {},
   "outputs": [],
   "source": [
    "def get_metrics(url, headers):\n",
    "    try:\n",
    "        print(f'Checking site: {url}')\n",
    "        start_time = time.time()\n",
    "\n",
    "        # Send a request\n",
    "        response = requests.get(url, headers=headers)\n",
    "\n",
    "        elapsed_time = time.time() - start_time\n",
    "\n",
    "        # Parse the HTML of the page\n",
    "        soup = BeautifulSoup(response.text, 'html.parser')\n",
    "\n",
    "        # Find the title and description tags\n",
    "        title_tag = soup.find('title')\n",
    "        description_tag = soup.find('meta', {'name':'description'})\n",
    "\n",
    "        # Find the viewport tag\n",
    "        viewport_tag = soup.find('meta', {'name':'viewport'})\n",
    "\n",
    "        print(f'Finished checking site: {url}, time: {elapsed_time}')\n",
    "\n",
    "        # Return a dictionary with all metrics\n",
    "        return {\n",
    "            'url': url,\n",
    "            'response_time': elapsed_time,\n",
    "            'http_status': response.status_code,\n",
    "            'title': title_tag.text if title_tag else None,\n",
    "            'description': description_tag['content'] if description_tag else None, # type: ignore\n",
    "            'is_mobile_friendly': viewport_tag is not None,\n",
    "        }\n",
    "\n",
    "    except Exception as e:\n",
    "        print(f'Error checking site: {url}, error: {str(e)}')\n",
    "        return None"
   ]
  },
  {
   "cell_type": "code",
   "execution_count": 25,
   "metadata": {},
   "outputs": [],
   "source": [
    "# Define a function to check if a site is mobile friendly\n",
    "def get_all_metrics(url):\n",
    "    desktop_metrics = get_metrics(url, headers_desktop)\n",
    "    mobile_metrics = get_metrics(url, headers_mobile)\n",
    "\n",
    "    if desktop_metrics is None or mobile_metrics is None:\n",
    "        return None\n",
    "\n",
    "    # Combine the metrics from both versions\n",
    "    combined_metrics = {\n",
    "        'url': url,\n",
    "        'desktop_response_time': desktop_metrics['response_time'],\n",
    "        'mobile_response_time': mobile_metrics['response_time'],\n",
    "        'desktop_http_status': desktop_metrics['http_status'],\n",
    "        'mobile_http_status': mobile_metrics['http_status'],\n",
    "        'desktop_title': desktop_metrics['title'],\n",
    "        'mobile_title': mobile_metrics['title'],\n",
    "        'desktop_description': desktop_metrics['description'],\n",
    "        'mobile_description': mobile_metrics['description'],\n",
    "        'is_mobile_friendly': desktop_metrics['is_mobile_friendly'] and mobile_metrics['is_mobile_friendly'],\n",
    "    }\n",
    "\n",
    "    print(f'Finished checking site: {url}')\n",
    "\n",
    "    return combined_metrics"
   ]
  },
  {
   "cell_type": "code",
   "execution_count": 26,
   "metadata": {},
   "outputs": [
    {
     "name": "stdout",
     "output_type": "stream",
     "text": [
      "Checking site: https://famapp.in/\n",
      "Finished checking site: https://famapp.in/, time: 0.22333002090454102\n",
      "Checking site: https://famapp.in/\n",
      "Finished checking site: https://famapp.in/, time: 0.12727069854736328\n",
      "Finished checking site: https://famapp.in/\n",
      "Checking site: https://famcard.me/\n",
      "Finished checking site: https://famcard.me/, time: 0.2695047855377197\n",
      "Checking site: https://famcard.me/\n",
      "Finished checking site: https://famcard.me/, time: 0.2392745018005371\n",
      "Finished checking site: https://famcard.me/\n",
      "Checking site: https://fampay.in/\n",
      "Finished checking site: https://fampay.in/, time: 0.2522594928741455\n",
      "Checking site: https://fampay.in/\n",
      "Finished checking site: https://fampay.in/, time: 0.24708819389343262\n",
      "Finished checking site: https://fampay.in/\n",
      "Checking site: https://fampay.in/about\n",
      "Finished checking site: https://fampay.in/about, time: 0.2553226947784424\n",
      "Checking site: https://fampay.in/about\n",
      "Finished checking site: https://fampay.in/about, time: 0.2816956043243408\n",
      "Finished checking site: https://fampay.in/about\n",
      "Checking site: https://fampay.in/blog\n",
      "Finished checking site: https://fampay.in/blog, time: 0.5922276973724365\n",
      "Checking site: https://fampay.in/blog\n",
      "Finished checking site: https://fampay.in/blog, time: 0.44016170501708984\n",
      "Finished checking site: https://fampay.in/blog\n",
      "Checking site: https://fampay.in/blog/tag/teens/\n",
      "Finished checking site: https://fampay.in/blog/tag/teens/, time: 0.5321812629699707\n",
      "Checking site: https://fampay.in/blog/tag/teens/\n",
      "Finished checking site: https://fampay.in/blog/tag/teens/, time: 0.3392946720123291\n",
      "Finished checking site: https://fampay.in/blog/tag/teens/\n",
      "Checking site: https://fampay.in/blog/decor-ideas-that-would-transform-your-room-at-home-or-hostel/\n",
      "Finished checking site: https://fampay.in/blog/decor-ideas-that-would-transform-your-room-at-home-or-hostel/, time: 0.3171122074127197\n",
      "Checking site: https://fampay.in/blog/decor-ideas-that-would-transform-your-room-at-home-or-hostel/\n",
      "Finished checking site: https://fampay.in/blog/decor-ideas-that-would-transform-your-room-at-home-or-hostel/, time: 0.3142263889312744\n",
      "Finished checking site: https://fampay.in/blog/decor-ideas-that-would-transform-your-room-at-home-or-hostel/\n",
      "Checking site: https://fampay.in/blog/social-commerce-making-money-just-through-social-media/\n",
      "Finished checking site: https://fampay.in/blog/social-commerce-making-money-just-through-social-media/, time: 0.3022489547729492\n",
      "Checking site: https://fampay.in/blog/social-commerce-making-money-just-through-social-media/\n",
      "Finished checking site: https://fampay.in/blog/social-commerce-making-money-just-through-social-media/, time: 0.27733659744262695\n",
      "Finished checking site: https://fampay.in/blog/social-commerce-making-money-just-through-social-media/\n",
      "Checking site: https://fampay.in/blog/perks-of-using-the-famcard-me/\n",
      "Finished checking site: https://fampay.in/blog/perks-of-using-the-famcard-me/, time: 0.3086202144622803\n",
      "Checking site: https://fampay.in/blog/perks-of-using-the-famcard-me/\n",
      "Finished checking site: https://fampay.in/blog/perks-of-using-the-famcard-me/, time: 0.2997865676879883\n",
      "Finished checking site: https://fampay.in/blog/perks-of-using-the-famcard-me/\n",
      "Checking site: https://fampay.in/blog/13-boredom-busters-for-teens/\n",
      "Finished checking site: https://fampay.in/blog/13-boredom-busters-for-teens/, time: 0.3137350082397461\n",
      "Checking site: https://fampay.in/blog/13-boredom-busters-for-teens/\n",
      "Finished checking site: https://fampay.in/blog/13-boredom-busters-for-teens/, time: 0.3371427059173584\n",
      "Finished checking site: https://fampay.in/blog/13-boredom-busters-for-teens/\n",
      "Checking site: https://fampay.in/blog/how-can-teens-open-shops-on-instagram/\n",
      "Finished checking site: https://fampay.in/blog/how-can-teens-open-shops-on-instagram/, time: 0.2953472137451172\n",
      "Checking site: https://fampay.in/blog/how-can-teens-open-shops-on-instagram/\n",
      "Finished checking site: https://fampay.in/blog/how-can-teens-open-shops-on-instagram/, time: 0.33059072494506836\n",
      "Finished checking site: https://fampay.in/blog/how-can-teens-open-shops-on-instagram/\n",
      "Checking site: https://fampay.in/blog/author/arohi/\n",
      "Finished checking site: https://fampay.in/blog/author/arohi/, time: 0.2571251392364502\n",
      "Checking site: https://fampay.in/blog/author/arohi/\n",
      "Finished checking site: https://fampay.in/blog/author/arohi/, time: 0.28548407554626465\n",
      "Finished checking site: https://fampay.in/blog/author/arohi/\n",
      "Checking site: https://fampay.in/blog/tag/teens/page/2/\n",
      "Finished checking site: https://fampay.in/blog/tag/teens/page/2/, time: 0.3296213150024414\n",
      "Checking site: https://fampay.in/blog/tag/teens/page/2/\n",
      "Finished checking site: https://fampay.in/blog/tag/teens/page/2/, time: 0.3197958469390869\n",
      "Finished checking site: https://fampay.in/blog/tag/teens/page/2/\n",
      "Checking site: https://fampay.in/blog/tag/parents/\n",
      "Finished checking site: https://fampay.in/blog/tag/parents/, time: 0.3411407470703125\n",
      "Checking site: https://fampay.in/blog/tag/parents/\n",
      "Finished checking site: https://fampay.in/blog/tag/parents/, time: 0.2808239459991455\n",
      "Finished checking site: https://fampay.in/blog/tag/parents/\n",
      "Checking site: https://fampay.in/blog/healthy-wealth-how-can-parents-have-a-healthy-discussion-about-money-with-their-children/\n",
      "Finished checking site: https://fampay.in/blog/healthy-wealth-how-can-parents-have-a-healthy-discussion-about-money-with-their-children/, time: 0.2931249141693115\n",
      "Checking site: https://fampay.in/blog/healthy-wealth-how-can-parents-have-a-healthy-discussion-about-money-with-their-children/\n",
      "Finished checking site: https://fampay.in/blog/healthy-wealth-how-can-parents-have-a-healthy-discussion-about-money-with-their-children/, time: 0.2722938060760498\n",
      "Finished checking site: https://fampay.in/blog/healthy-wealth-how-can-parents-have-a-healthy-discussion-about-money-with-their-children/\n",
      "Checking site: https://fampay.in/blog/being-a-digital-parent-tips-to-mentor-everything-digital-that-your-teen-uses/\n",
      "Finished checking site: https://fampay.in/blog/being-a-digital-parent-tips-to-mentor-everything-digital-that-your-teen-uses/, time: 0.3106391429901123\n",
      "Checking site: https://fampay.in/blog/being-a-digital-parent-tips-to-mentor-everything-digital-that-your-teen-uses/\n",
      "Finished checking site: https://fampay.in/blog/being-a-digital-parent-tips-to-mentor-everything-digital-that-your-teen-uses/, time: 0.3542654514312744\n",
      "Finished checking site: https://fampay.in/blog/being-a-digital-parent-tips-to-mentor-everything-digital-that-your-teen-uses/\n",
      "Checking site: https://fampay.in/blog/top-5-tips-to-communicate-better-with-your-teenager/\n",
      "Finished checking site: https://fampay.in/blog/top-5-tips-to-communicate-better-with-your-teenager/, time: 0.31786632537841797\n",
      "Checking site: https://fampay.in/blog/top-5-tips-to-communicate-better-with-your-teenager/\n",
      "Finished checking site: https://fampay.in/blog/top-5-tips-to-communicate-better-with-your-teenager/, time: 0.2915985584259033\n",
      "Finished checking site: https://fampay.in/blog/top-5-tips-to-communicate-better-with-your-teenager/\n",
      "Checking site: https://fampay.in/blog/a-to-z-of-teenage-finance-financial-terms-every-parent-should-teach-their-teens/\n",
      "Finished checking site: https://fampay.in/blog/a-to-z-of-teenage-finance-financial-terms-every-parent-should-teach-their-teens/, time: 0.28757548332214355\n",
      "Checking site: https://fampay.in/blog/a-to-z-of-teenage-finance-financial-terms-every-parent-should-teach-their-teens/\n",
      "Finished checking site: https://fampay.in/blog/a-to-z-of-teenage-finance-financial-terms-every-parent-should-teach-their-teens/, time: 0.2764303684234619\n",
      "Finished checking site: https://fampay.in/blog/a-to-z-of-teenage-finance-financial-terms-every-parent-should-teach-their-teens/\n",
      "Checking site: https://fampay.in/blog/cyber-bullying-what-can-you-do-as-a-parent/\n",
      "Finished checking site: https://fampay.in/blog/cyber-bullying-what-can-you-do-as-a-parent/, time: 0.3042478561401367\n",
      "Checking site: https://fampay.in/blog/cyber-bullying-what-can-you-do-as-a-parent/\n",
      "Finished checking site: https://fampay.in/blog/cyber-bullying-what-can-you-do-as-a-parent/, time: 0.38943004608154297\n",
      "Finished checking site: https://fampay.in/blog/cyber-bullying-what-can-you-do-as-a-parent/\n",
      "Checking site: https://fampay.in/blog/4-ways-to-help-your-teen-learn-to-become-financially-responsible/\n",
      "Finished checking site: https://fampay.in/blog/4-ways-to-help-your-teen-learn-to-become-financially-responsible/, time: 0.2914237976074219\n",
      "Checking site: https://fampay.in/blog/4-ways-to-help-your-teen-learn-to-become-financially-responsible/\n",
      "Finished checking site: https://fampay.in/blog/4-ways-to-help-your-teen-learn-to-become-financially-responsible/, time: 0.27126502990722656\n",
      "Finished checking site: https://fampay.in/blog/4-ways-to-help-your-teen-learn-to-become-financially-responsible/\n",
      "Checking site: https://fampay.in/blog/evolution-of-parenting-parent-of-a-millennial-vs-parent-of-a-genz-kid/\n",
      "Finished checking site: https://fampay.in/blog/evolution-of-parenting-parent-of-a-millennial-vs-parent-of-a-genz-kid/, time: 0.2841806411743164\n",
      "Checking site: https://fampay.in/blog/evolution-of-parenting-parent-of-a-millennial-vs-parent-of-a-genz-kid/\n",
      "Finished checking site: https://fampay.in/blog/evolution-of-parenting-parent-of-a-millennial-vs-parent-of-a-genz-kid/, time: 0.25022172927856445\n",
      "Finished checking site: https://fampay.in/blog/evolution-of-parenting-parent-of-a-millennial-vs-parent-of-a-genz-kid/\n",
      "Checking site: https://fampay.in/blog/pocket-money-for-teenagers-why-it-matters/\n",
      "Finished checking site: https://fampay.in/blog/pocket-money-for-teenagers-why-it-matters/, time: 0.30001306533813477\n",
      "Checking site: https://fampay.in/blog/pocket-money-for-teenagers-why-it-matters/\n",
      "Finished checking site: https://fampay.in/blog/pocket-money-for-teenagers-why-it-matters/, time: 0.32640671730041504\n",
      "Finished checking site: https://fampay.in/blog/pocket-money-for-teenagers-why-it-matters/\n",
      "Checking site: https://fampay.in/blog/things-you-must-know-as-a-teens-parent/\n",
      "Finished checking site: https://fampay.in/blog/things-you-must-know-as-a-teens-parent/, time: 0.2954075336456299\n",
      "Checking site: https://fampay.in/blog/things-you-must-know-as-a-teens-parent/\n",
      "Finished checking site: https://fampay.in/blog/things-you-must-know-as-a-teens-parent/, time: 0.2950863838195801\n",
      "Finished checking site: https://fampay.in/blog/things-you-must-know-as-a-teens-parent/\n",
      "Checking site: https://fampay.in/blog/impact-of-social-distancing-on-teen-mental-health/\n",
      "Finished checking site: https://fampay.in/blog/impact-of-social-distancing-on-teen-mental-health/, time: 0.2930305004119873\n",
      "Checking site: https://fampay.in/blog/impact-of-social-distancing-on-teen-mental-health/\n",
      "Finished checking site: https://fampay.in/blog/impact-of-social-distancing-on-teen-mental-health/, time: 0.2664370536804199\n",
      "Finished checking site: https://fampay.in/blog/impact-of-social-distancing-on-teen-mental-health/\n",
      "Checking site: https://fampay.in/blog/tag/parents/page/2/\n",
      "Finished checking site: https://fampay.in/blog/tag/parents/page/2/, time: 0.24286961555480957\n",
      "Checking site: https://fampay.in/blog/tag/parents/page/2/\n",
      "Finished checking site: https://fampay.in/blog/tag/parents/page/2/, time: 0.27019453048706055\n",
      "Finished checking site: https://fampay.in/blog/tag/parents/page/2/\n",
      "Checking site: https://fampay.in/blog/tag/news/\n",
      "Finished checking site: https://fampay.in/blog/tag/news/, time: 0.30600666999816895\n",
      "Checking site: https://fampay.in/blog/tag/news/\n",
      "Finished checking site: https://fampay.in/blog/tag/news/, time: 0.2840397357940674\n",
      "Finished checking site: https://fampay.in/blog/tag/news/\n",
      "Checking site: https://fampay.in/blog/teen-focused-fintech-startup-fampay-raises-38m-in-series-a/\n",
      "Finished checking site: https://fampay.in/blog/teen-focused-fintech-startup-fampay-raises-38m-in-series-a/, time: 0.2840433120727539\n",
      "Checking site: https://fampay.in/blog/teen-focused-fintech-startup-fampay-raises-38m-in-series-a/\n",
      "Finished checking site: https://fampay.in/blog/teen-focused-fintech-startup-fampay-raises-38m-in-series-a/, time: 0.27400970458984375\n",
      "Finished checking site: https://fampay.in/blog/teen-focused-fintech-startup-fampay-raises-38m-in-series-a/\n",
      "Checking site: https://fampay.in/blog/fampay-is-set-to-launch-indias-first-and-biggest-digi-fest-for-teens/\n",
      "Finished checking site: https://fampay.in/blog/fampay-is-set-to-launch-indias-first-and-biggest-digi-fest-for-teens/, time: 0.5103108882904053\n",
      "Checking site: https://fampay.in/blog/fampay-is-set-to-launch-indias-first-and-biggest-digi-fest-for-teens/\n",
      "Finished checking site: https://fampay.in/blog/fampay-is-set-to-launch-indias-first-and-biggest-digi-fest-for-teens/, time: 0.2787177562713623\n",
      "Finished checking site: https://fampay.in/blog/fampay-is-set-to-launch-indias-first-and-biggest-digi-fest-for-teens/\n",
      "Checking site: https://fampay.in/blog/zetas-fusion-to-power-fampays-cashless-payments-for-gen-z/\n",
      "Finished checking site: https://fampay.in/blog/zetas-fusion-to-power-fampays-cashless-payments-for-gen-z/, time: 0.26725006103515625\n",
      "Checking site: https://fampay.in/blog/zetas-fusion-to-power-fampays-cashless-payments-for-gen-z/\n",
      "Finished checking site: https://fampay.in/blog/zetas-fusion-to-power-fampays-cashless-payments-for-gen-z/, time: 0.2988433837890625\n",
      "Finished checking site: https://fampay.in/blog/zetas-fusion-to-power-fampays-cashless-payments-for-gen-z/\n",
      "Checking site: https://fampay.in/blog/digital-payments-exploding-in-india-yet-the-tech-savvy-teens-still-stuck-paying-with-cash-survey-by-fampay-indias-first-neobank-for-teenagers/\n",
      "Finished checking site: https://fampay.in/blog/digital-payments-exploding-in-india-yet-the-tech-savvy-teens-still-stuck-paying-with-cash-survey-by-fampay-indias-first-neobank-for-teenagers/, time: 0.2878110408782959\n",
      "Checking site: https://fampay.in/blog/digital-payments-exploding-in-india-yet-the-tech-savvy-teens-still-stuck-paying-with-cash-survey-by-fampay-indias-first-neobank-for-teenagers/\n",
      "Finished checking site: https://fampay.in/blog/digital-payments-exploding-in-india-yet-the-tech-savvy-teens-still-stuck-paying-with-cash-survey-by-fampay-indias-first-neobank-for-teenagers/, time: 0.3171651363372803\n",
      "Finished checking site: https://fampay.in/blog/digital-payments-exploding-in-india-yet-the-tech-savvy-teens-still-stuck-paying-with-cash-survey-by-fampay-indias-first-neobank-for-teenagers/\n",
      "Checking site: https://fampay.in/blog/this-fintech-startup-by-iit-roorkee-alum-is-giving-teenagers-financial-freedom-responsibly-yourstory/\n",
      "Finished checking site: https://fampay.in/blog/this-fintech-startup-by-iit-roorkee-alum-is-giving-teenagers-financial-freedom-responsibly-yourstory/, time: 0.32330894470214844\n",
      "Checking site: https://fampay.in/blog/this-fintech-startup-by-iit-roorkee-alum-is-giving-teenagers-financial-freedom-responsibly-yourstory/\n",
      "Finished checking site: https://fampay.in/blog/this-fintech-startup-by-iit-roorkee-alum-is-giving-teenagers-financial-freedom-responsibly-yourstory/, time: 0.3298060894012451\n",
      "Finished checking site: https://fampay.in/blog/this-fintech-startup-by-iit-roorkee-alum-is-giving-teenagers-financial-freedom-responsibly-yourstory/\n",
      "Checking site: https://fampay.in/blog/fampay-announces-launch-of-indias-first-numberless-card/\n",
      "Finished checking site: https://fampay.in/blog/fampay-announces-launch-of-indias-first-numberless-card/, time: 0.28160858154296875\n",
      "Checking site: https://fampay.in/blog/fampay-announces-launch-of-indias-first-numberless-card/\n",
      "Finished checking site: https://fampay.in/blog/fampay-announces-launch-of-indias-first-numberless-card/, time: 0.27939438819885254\n",
      "Finished checking site: https://fampay.in/blog/fampay-announces-launch-of-indias-first-numberless-card/\n",
      "Checking site: https://fampay.in/blog/fampay-raises-4-7m-from-y-combinator-sequoia-venture-highway-others/\n",
      "Finished checking site: https://fampay.in/blog/fampay-raises-4-7m-from-y-combinator-sequoia-venture-highway-others/, time: 0.261812686920166\n",
      "Checking site: https://fampay.in/blog/fampay-raises-4-7m-from-y-combinator-sequoia-venture-highway-others/\n",
      "Finished checking site: https://fampay.in/blog/fampay-raises-4-7m-from-y-combinator-sequoia-venture-highway-others/, time: 0.3425114154815674\n",
      "Finished checking site: https://fampay.in/blog/fampay-raises-4-7m-from-y-combinator-sequoia-venture-highway-others/\n",
      "Checking site: https://fampay.in/blog/tag/famsays/\n",
      "Finished checking site: https://fampay.in/blog/tag/famsays/, time: 0.3108644485473633\n",
      "Checking site: https://fampay.in/blog/tag/famsays/\n",
      "Finished checking site: https://fampay.in/blog/tag/famsays/, time: 0.32653021812438965\n",
      "Finished checking site: https://fampay.in/blog/tag/famsays/\n",
      "Checking site: https://fampay.in/blog/a-practical-guide-to-app-store-optimization/\n",
      "Finished checking site: https://fampay.in/blog/a-practical-guide-to-app-store-optimization/, time: 0.3490726947784424\n",
      "Checking site: https://fampay.in/blog/a-practical-guide-to-app-store-optimization/\n",
      "Finished checking site: https://fampay.in/blog/a-practical-guide-to-app-store-optimization/, time: 0.28212547302246094\n",
      "Finished checking site: https://fampay.in/blog/a-practical-guide-to-app-store-optimization/\n",
      "Checking site: https://fampay.in/blog/author/garvita/\n",
      "Finished checking site: https://fampay.in/blog/author/garvita/, time: 0.26297450065612793\n",
      "Checking site: https://fampay.in/blog/author/garvita/\n",
      "Finished checking site: https://fampay.in/blog/author/garvita/, time: 0.2815399169921875\n",
      "Finished checking site: https://fampay.in/blog/author/garvita/\n",
      "Checking site: https://fampay.in/blog/365-days-of-internship-at-fampay/\n",
      "Finished checking site: https://fampay.in/blog/365-days-of-internship-at-fampay/, time: 0.27253198623657227\n",
      "Checking site: https://fampay.in/blog/365-days-of-internship-at-fampay/\n",
      "Finished checking site: https://fampay.in/blog/365-days-of-internship-at-fampay/, time: 0.32945919036865234\n",
      "Finished checking site: https://fampay.in/blog/365-days-of-internship-at-fampay/\n",
      "Checking site: https://fampay.in/blog/how-instagram-reel-can-really-grow-your-brand/\n",
      "Finished checking site: https://fampay.in/blog/how-instagram-reel-can-really-grow-your-brand/, time: 0.2700812816619873\n",
      "Checking site: https://fampay.in/blog/how-instagram-reel-can-really-grow-your-brand/\n",
      "Finished checking site: https://fampay.in/blog/how-instagram-reel-can-really-grow-your-brand/, time: 0.3047473430633545\n",
      "Finished checking site: https://fampay.in/blog/how-instagram-reel-can-really-grow-your-brand/\n",
      "Checking site: https://fampay.in/blog/author/suhani/\n",
      "Finished checking site: https://fampay.in/blog/author/suhani/, time: 0.27234363555908203\n",
      "Checking site: https://fampay.in/blog/author/suhani/\n",
      "Finished checking site: https://fampay.in/blog/author/suhani/, time: 0.2456822395324707\n",
      "Finished checking site: https://fampay.in/blog/author/suhani/\n",
      "Checking site: https://fampay.in/blog/config-variables-changing-system-behaviour-live-in-production/\n",
      "Finished checking site: https://fampay.in/blog/config-variables-changing-system-behaviour-live-in-production/, time: 0.3166787624359131\n",
      "Checking site: https://fampay.in/blog/config-variables-changing-system-behaviour-live-in-production/\n",
      "Finished checking site: https://fampay.in/blog/config-variables-changing-system-behaviour-live-in-production/, time: 0.2759373188018799\n",
      "Finished checking site: https://fampay.in/blog/config-variables-changing-system-behaviour-live-in-production/\n",
      "Checking site: https://fampay.in/blog/author/sameeran/\n",
      "Finished checking site: https://fampay.in/blog/author/sameeran/, time: 0.2751193046569824\n",
      "Checking site: https://fampay.in/blog/author/sameeran/\n",
      "Finished checking site: https://fampay.in/blog/author/sameeran/, time: 0.2913517951965332\n",
      "Finished checking site: https://fampay.in/blog/author/sameeran/\n",
      "Checking site: https://fampay.in/blog/a-marketers-guide-to-moment-marketing/\n",
      "Finished checking site: https://fampay.in/blog/a-marketers-guide-to-moment-marketing/, time: 0.27146482467651367\n",
      "Checking site: https://fampay.in/blog/a-marketers-guide-to-moment-marketing/\n",
      "Finished checking site: https://fampay.in/blog/a-marketers-guide-to-moment-marketing/, time: 0.284832239151001\n",
      "Finished checking site: https://fampay.in/blog/a-marketers-guide-to-moment-marketing/\n",
      "Checking site: https://fampay.in/blog/author/priyanka/\n",
      "Finished checking site: https://fampay.in/blog/author/priyanka/, time: 0.2628743648529053\n",
      "Checking site: https://fampay.in/blog/author/priyanka/\n",
      "Finished checking site: https://fampay.in/blog/author/priyanka/, time: 0.23533868789672852\n",
      "Finished checking site: https://fampay.in/blog/author/priyanka/\n",
      "Checking site: https://fampay.in/blog/the-story-behind-fampays-tech-stack/\n",
      "Finished checking site: https://fampay.in/blog/the-story-behind-fampays-tech-stack/, time: 0.2727842330932617\n",
      "Checking site: https://fampay.in/blog/the-story-behind-fampays-tech-stack/\n",
      "Finished checking site: https://fampay.in/blog/the-story-behind-fampays-tech-stack/, time: 0.27141380310058594\n",
      "Finished checking site: https://fampay.in/blog/the-story-behind-fampays-tech-stack/\n",
      "Checking site: https://fampay.in/blog/famstars-we-stress-less-and-accomplish-more/\n",
      "Finished checking site: https://fampay.in/blog/famstars-we-stress-less-and-accomplish-more/, time: 0.41989588737487793\n",
      "Checking site: https://fampay.in/blog/famstars-we-stress-less-and-accomplish-more/\n",
      "Finished checking site: https://fampay.in/blog/famstars-we-stress-less-and-accomplish-more/, time: 0.27388715744018555\n",
      "Finished checking site: https://fampay.in/blog/famstars-we-stress-less-and-accomplish-more/\n",
      "Checking site: https://fampay.in/blog/author/saipremtelkar/\n",
      "Finished checking site: https://fampay.in/blog/author/saipremtelkar/, time: 0.2368907928466797\n",
      "Checking site: https://fampay.in/blog/author/saipremtelkar/\n",
      "Finished checking site: https://fampay.in/blog/author/saipremtelkar/, time: 0.2593526840209961\n",
      "Finished checking site: https://fampay.in/blog/author/saipremtelkar/\n",
      "Checking site: https://fampay.in/blog/tag/famsays/page/2/\n",
      "Finished checking site: https://fampay.in/blog/tag/famsays/page/2/, time: 0.31705427169799805\n",
      "Checking site: https://fampay.in/blog/tag/famsays/page/2/\n",
      "Finished checking site: https://fampay.in/blog/tag/famsays/page/2/, time: 0.27342772483825684\n",
      "Finished checking site: https://fampay.in/blog/tag/famsays/page/2/\n",
      "Checking site: https://fampay.in/blog/tag/community/\n",
      "Finished checking site: https://fampay.in/blog/tag/community/, time: 0.3356027603149414\n",
      "Checking site: https://fampay.in/blog/tag/community/\n",
      "Finished checking site: https://fampay.in/blog/tag/community/, time: 0.28612422943115234\n",
      "Finished checking site: https://fampay.in/blog/tag/community/\n",
      "Checking site: https://fampay.in/blog/genz-commits-to-fight-covid-19/\n",
      "Finished checking site: https://fampay.in/blog/genz-commits-to-fight-covid-19/, time: 0.25347065925598145\n",
      "Checking site: https://fampay.in/blog/genz-commits-to-fight-covid-19/\n",
      "Finished checking site: https://fampay.in/blog/genz-commits-to-fight-covid-19/, time: 0.2732119560241699\n",
      "Finished checking site: https://fampay.in/blog/genz-commits-to-fight-covid-19/\n",
      "Checking site: https://fampay.in/blog/life-of-an-intern-is-love/\n",
      "Finished checking site: https://fampay.in/blog/life-of-an-intern-is-love/, time: 0.27567386627197266\n",
      "Checking site: https://fampay.in/blog/life-of-an-intern-is-love/\n",
      "Finished checking site: https://fampay.in/blog/life-of-an-intern-is-love/, time: 0.2594783306121826\n",
      "Finished checking site: https://fampay.in/blog/life-of-an-intern-is-love/\n",
      "Checking site: https://fampay.in/blog/author/ayushi/\n",
      "Finished checking site: https://fampay.in/blog/author/ayushi/, time: 0.25160861015319824\n",
      "Checking site: https://fampay.in/blog/author/ayushi/\n",
      "Finished checking site: https://fampay.in/blog/author/ayushi/, time: 0.25295090675354004\n",
      "Finished checking site: https://fampay.in/blog/author/ayushi/\n",
      "Checking site: https://fampay.in/blog/tag/culture/\n",
      "Finished checking site: https://fampay.in/blog/tag/culture/, time: 0.2981579303741455\n",
      "Checking site: https://fampay.in/blog/tag/culture/\n",
      "Finished checking site: https://fampay.in/blog/tag/culture/, time: 0.30467915534973145\n",
      "Finished checking site: https://fampay.in/blog/tag/culture/\n",
      "Checking site: https://fampay.in/blog/12-queer-led-small-businesses-you-need-to-support-this-pride-month/\n",
      "Finished checking site: https://fampay.in/blog/12-queer-led-small-businesses-you-need-to-support-this-pride-month/, time: 0.3364980220794678\n",
      "Checking site: https://fampay.in/blog/12-queer-led-small-businesses-you-need-to-support-this-pride-month/\n",
      "Finished checking site: https://fampay.in/blog/12-queer-led-small-businesses-you-need-to-support-this-pride-month/, time: 0.2848482131958008\n",
      "Finished checking site: https://fampay.in/blog/12-queer-led-small-businesses-you-need-to-support-this-pride-month/\n",
      "Checking site: https://fampay.in/blog/3-financial-lessons-from-nature-itself/\n",
      "Finished checking site: https://fampay.in/blog/3-financial-lessons-from-nature-itself/, time: 0.30085039138793945\n",
      "Checking site: https://fampay.in/blog/3-financial-lessons-from-nature-itself/\n",
      "Finished checking site: https://fampay.in/blog/3-financial-lessons-from-nature-itself/, time: 0.25745582580566406\n",
      "Finished checking site: https://fampay.in/blog/3-financial-lessons-from-nature-itself/\n",
      "Checking site: https://fampay.in/blog/living-life-genz-style/\n",
      "Finished checking site: https://fampay.in/blog/living-life-genz-style/, time: 0.2985560894012451\n",
      "Checking site: https://fampay.in/blog/living-life-genz-style/\n",
      "Finished checking site: https://fampay.in/blog/living-life-genz-style/, time: 0.3032712936401367\n",
      "Finished checking site: https://fampay.in/blog/living-life-genz-style/\n",
      "Checking site: https://fampay.in/blog/remote-working-divided-by-distance-united-by-mission/\n",
      "Finished checking site: https://fampay.in/blog/remote-working-divided-by-distance-united-by-mission/, time: 0.2972733974456787\n",
      "Checking site: https://fampay.in/blog/remote-working-divided-by-distance-united-by-mission/\n",
      "Finished checking site: https://fampay.in/blog/remote-working-divided-by-distance-united-by-mission/, time: 0.27677083015441895\n",
      "Finished checking site: https://fampay.in/blog/remote-working-divided-by-distance-united-by-mission/\n",
      "Checking site: https://fampay.in/blog/tag/growth/\n",
      "Finished checking site: https://fampay.in/blog/tag/growth/, time: 0.295137882232666\n",
      "Checking site: https://fampay.in/blog/tag/growth/\n",
      "Finished checking site: https://fampay.in/blog/tag/growth/, time: 0.2863950729370117\n",
      "Finished checking site: https://fampay.in/blog/tag/growth/\n",
      "Checking site: https://fampay.in/blog/getting-your-generations-right-millennials-v-s-genz/\n",
      "Finished checking site: https://fampay.in/blog/getting-your-generations-right-millennials-v-s-genz/, time: 0.3726310729980469\n",
      "Checking site: https://fampay.in/blog/getting-your-generations-right-millennials-v-s-genz/\n",
      "Finished checking site: https://fampay.in/blog/getting-your-generations-right-millennials-v-s-genz/, time: 0.32799553871154785\n",
      "Finished checking site: https://fampay.in/blog/getting-your-generations-right-millennials-v-s-genz/\n",
      "Checking site: https://fampay.in/blog/author/sajal/\n",
      "Finished checking site: https://fampay.in/blog/author/sajal/, time: 0.2553229331970215\n",
      "Checking site: https://fampay.in/blog/author/sajal/\n",
      "Finished checking site: https://fampay.in/blog/author/sajal/, time: 0.24386310577392578\n",
      "Finished checking site: https://fampay.in/blog/author/sajal/\n",
      "Checking site: https://fampay.in/blog/when-building-for-genzs-build-it-on-discord/\n",
      "Finished checking site: https://fampay.in/blog/when-building-for-genzs-build-it-on-discord/, time: 0.2677791118621826\n",
      "Checking site: https://fampay.in/blog/when-building-for-genzs-build-it-on-discord/\n",
      "Finished checking site: https://fampay.in/blog/when-building-for-genzs-build-it-on-discord/, time: 0.27355360984802246\n",
      "Finished checking site: https://fampay.in/blog/when-building-for-genzs-build-it-on-discord/\n",
      "Checking site: https://fampay.in/blog/author/aditi/\n",
      "Finished checking site: https://fampay.in/blog/author/aditi/, time: 0.23397040367126465\n",
      "Checking site: https://fampay.in/blog/author/aditi/\n",
      "Finished checking site: https://fampay.in/blog/author/aditi/, time: 0.2326970100402832\n",
      "Finished checking site: https://fampay.in/blog/author/aditi/\n",
      "Checking site: https://fampay.in/blog/club-teens-one-stop-online-community/\n",
      "Finished checking site: https://fampay.in/blog/club-teens-one-stop-online-community/, time: 0.33820199966430664\n",
      "Checking site: https://fampay.in/blog/club-teens-one-stop-online-community/\n",
      "Finished checking site: https://fampay.in/blog/club-teens-one-stop-online-community/, time: 0.2756061553955078\n",
      "Finished checking site: https://fampay.in/blog/club-teens-one-stop-online-community/\n",
      "Checking site: https://fampay.in/blog/author/kaavyya/\n",
      "Finished checking site: https://fampay.in/blog/author/kaavyya/, time: 0.25512075424194336\n",
      "Checking site: https://fampay.in/blog/author/kaavyya/\n",
      "Finished checking site: https://fampay.in/blog/author/kaavyya/, time: 0.2633676528930664\n",
      "Finished checking site: https://fampay.in/blog/author/kaavyya/\n",
      "Checking site: https://fampay.in/blog/effectively-harnessing-motion-design-for-genzs/\n",
      "Finished checking site: https://fampay.in/blog/effectively-harnessing-motion-design-for-genzs/, time: 0.28760814666748047\n",
      "Checking site: https://fampay.in/blog/effectively-harnessing-motion-design-for-genzs/\n",
      "Finished checking site: https://fampay.in/blog/effectively-harnessing-motion-design-for-genzs/, time: 0.29245734214782715\n",
      "Finished checking site: https://fampay.in/blog/effectively-harnessing-motion-design-for-genzs/\n",
      "Checking site: https://fampay.in/blog/author/hrishikesh/\n",
      "Finished checking site: https://fampay.in/blog/author/hrishikesh/, time: 0.3037865161895752\n",
      "Checking site: https://fampay.in/blog/author/hrishikesh/\n",
      "Finished checking site: https://fampay.in/blog/author/hrishikesh/, time: 0.2530207633972168\n",
      "Finished checking site: https://fampay.in/blog/author/hrishikesh/\n",
      "Checking site: https://fampay.in/blog/writing-content-for-a-content-saturated-generation/\n",
      "Finished checking site: https://fampay.in/blog/writing-content-for-a-content-saturated-generation/, time: 0.3052501678466797\n",
      "Checking site: https://fampay.in/blog/writing-content-for-a-content-saturated-generation/\n",
      "Finished checking site: https://fampay.in/blog/writing-content-for-a-content-saturated-generation/, time: 0.2716217041015625\n",
      "Finished checking site: https://fampay.in/blog/writing-content-for-a-content-saturated-generation/\n",
      "Checking site: https://fampay.in/blog/author/diya/\n",
      "Finished checking site: https://fampay.in/blog/author/diya/, time: 0.2557847499847412\n",
      "Checking site: https://fampay.in/blog/author/diya/\n",
      "Finished checking site: https://fampay.in/blog/author/diya/, time: 0.2661776542663574\n",
      "Finished checking site: https://fampay.in/blog/author/diya/\n",
      "Checking site: https://fampay.in/blog/how-to-grow-your-instagram-followers-a-quick-guide-for-all-genz-brands/\n",
      "Finished checking site: https://fampay.in/blog/how-to-grow-your-instagram-followers-a-quick-guide-for-all-genz-brands/, time: 0.2723686695098877\n",
      "Checking site: https://fampay.in/blog/how-to-grow-your-instagram-followers-a-quick-guide-for-all-genz-brands/\n",
      "Finished checking site: https://fampay.in/blog/how-to-grow-your-instagram-followers-a-quick-guide-for-all-genz-brands/, time: 0.2856457233428955\n",
      "Finished checking site: https://fampay.in/blog/how-to-grow-your-instagram-followers-a-quick-guide-for-all-genz-brands/\n",
      "Checking site: https://fampay.in/blog/author/tanya/\n",
      "Finished checking site: https://fampay.in/blog/author/tanya/, time: 0.2898702621459961\n",
      "Checking site: https://fampay.in/blog/author/tanya/\n",
      "Finished checking site: https://fampay.in/blog/author/tanya/, time: 0.2644784450531006\n",
      "Finished checking site: https://fampay.in/blog/author/tanya/\n",
      "Checking site: https://fampay.in/blog/researching-the-unresearched-genzs/\n",
      "Finished checking site: https://fampay.in/blog/researching-the-unresearched-genzs/, time: 0.29055166244506836\n",
      "Checking site: https://fampay.in/blog/researching-the-unresearched-genzs/\n",
      "Finished checking site: https://fampay.in/blog/researching-the-unresearched-genzs/, time: 0.265484094619751\n",
      "Finished checking site: https://fampay.in/blog/researching-the-unresearched-genzs/\n",
      "Checking site: https://fampay.in/blog/author/charvi/\n",
      "Finished checking site: https://fampay.in/blog/author/charvi/, time: 0.23139286041259766\n",
      "Checking site: https://fampay.in/blog/author/charvi/\n",
      "Finished checking site: https://fampay.in/blog/author/charvi/, time: 0.2566416263580322\n",
      "Finished checking site: https://fampay.in/blog/author/charvi/\n",
      "Checking site: https://fampay.in/blog/tag/growth/page/2/\n",
      "Finished checking site: https://fampay.in/blog/tag/growth/page/2/, time: 0.35753440856933594\n",
      "Checking site: https://fampay.in/blog/tag/growth/page/2/\n",
      "Finished checking site: https://fampay.in/blog/tag/growth/page/2/, time: 0.24575233459472656\n",
      "Finished checking site: https://fampay.in/blog/tag/growth/page/2/\n",
      "Checking site: https://fampay.in/blog/tag/lifestyle/\n",
      "Finished checking site: https://fampay.in/blog/tag/lifestyle/, time: 0.3244812488555908\n",
      "Checking site: https://fampay.in/blog/tag/lifestyle/\n",
      "Finished checking site: https://fampay.in/blog/tag/lifestyle/, time: 0.3091411590576172\n",
      "Finished checking site: https://fampay.in/blog/tag/lifestyle/\n",
      "Checking site: https://fampay.in/blog/the-most-beautiful-college-campuses-in-india/\n",
      "Finished checking site: https://fampay.in/blog/the-most-beautiful-college-campuses-in-india/, time: 0.2803225517272949\n",
      "Checking site: https://fampay.in/blog/the-most-beautiful-college-campuses-in-india/\n",
      "Finished checking site: https://fampay.in/blog/the-most-beautiful-college-campuses-in-india/, time: 0.24645495414733887\n",
      "Finished checking site: https://fampay.in/blog/the-most-beautiful-college-campuses-in-india/\n",
      "Checking site: https://fampay.in/blog/every-little-thing-counts-ways-in-which-you-can-contribute-to-society-as-a-teenager/\n",
      "Finished checking site: https://fampay.in/blog/every-little-thing-counts-ways-in-which-you-can-contribute-to-society-as-a-teenager/, time: 0.25867581367492676\n",
      "Checking site: https://fampay.in/blog/every-little-thing-counts-ways-in-which-you-can-contribute-to-society-as-a-teenager/\n",
      "Finished checking site: https://fampay.in/blog/every-little-thing-counts-ways-in-which-you-can-contribute-to-society-as-a-teenager/, time: 0.2636125087738037\n",
      "Finished checking site: https://fampay.in/blog/every-little-thing-counts-ways-in-which-you-can-contribute-to-society-as-a-teenager/\n",
      "Checking site: https://fampay.in/blog/tag/lifestyle/page/2/\n",
      "Finished checking site: https://fampay.in/blog/tag/lifestyle/page/2/, time: 0.29311180114746094\n",
      "Checking site: https://fampay.in/blog/tag/lifestyle/page/2/\n",
      "Finished checking site: https://fampay.in/blog/tag/lifestyle/page/2/, time: 0.31033968925476074\n",
      "Finished checking site: https://fampay.in/blog/tag/lifestyle/page/2/\n",
      "Checking site: https://fampay.in/blog/tag/pr-news/\n",
      "Finished checking site: https://fampay.in/blog/tag/pr-news/, time: 0.2708921432495117\n",
      "Checking site: https://fampay.in/blog/tag/pr-news/\n",
      "Finished checking site: https://fampay.in/blog/tag/pr-news/, time: 0.26977062225341797\n",
      "Finished checking site: https://fampay.in/blog/tag/pr-news/\n",
      "Checking site: https://fampay.in/blog/fampay-amongst-linkedins-top-startups-list-2021/\n",
      "Finished checking site: https://fampay.in/blog/fampay-amongst-linkedins-top-startups-list-2021/, time: 0.3019278049468994\n",
      "Checking site: https://fampay.in/blog/fampay-amongst-linkedins-top-startups-list-2021/\n",
      "Finished checking site: https://fampay.in/blog/fampay-amongst-linkedins-top-startups-list-2021/, time: 0.2687356472015381\n",
      "Finished checking site: https://fampay.in/blog/fampay-amongst-linkedins-top-startups-list-2021/\n",
      "Checking site: https://fampay.in/blog/fampay-partners-with-visa-to-launch-indias-first-doodle-card-for-genz/\n",
      "Finished checking site: https://fampay.in/blog/fampay-partners-with-visa-to-launch-indias-first-doodle-card-for-genz/, time: 0.25334930419921875\n",
      "Checking site: https://fampay.in/blog/fampay-partners-with-visa-to-launch-indias-first-doodle-card-for-genz/\n",
      "Finished checking site: https://fampay.in/blog/fampay-partners-with-visa-to-launch-indias-first-doodle-card-for-genz/, time: 0.2724342346191406\n",
      "Finished checking site: https://fampay.in/blog/fampay-partners-with-visa-to-launch-indias-first-doodle-card-for-genz/\n",
      "Checking site: https://fampay.in/blog/tag/product/\n",
      "Finished checking site: https://fampay.in/blog/tag/product/, time: 0.4170811176300049\n",
      "Checking site: https://fampay.in/blog/tag/product/\n",
      "Finished checking site: https://fampay.in/blog/tag/product/, time: 0.32761621475219727\n",
      "Finished checking site: https://fampay.in/blog/tag/product/\n",
      "Checking site: https://fampay.in/blog/guide-for-seeking-support-from-fampay-important-dos-and-donts/\n",
      "Finished checking site: https://fampay.in/blog/guide-for-seeking-support-from-fampay-important-dos-and-donts/, time: 0.26789283752441406\n",
      "Checking site: https://fampay.in/blog/guide-for-seeking-support-from-fampay-important-dos-and-donts/\n",
      "Finished checking site: https://fampay.in/blog/guide-for-seeking-support-from-fampay-important-dos-and-donts/, time: 0.33829569816589355\n",
      "Finished checking site: https://fampay.in/blog/guide-for-seeking-support-from-fampay-important-dos-and-donts/\n",
      "Checking site: https://fampay.in/blog/7-clever-saving-hacks-for-teenagers-this-will-save-you-a-fortune/\n",
      "Finished checking site: https://fampay.in/blog/7-clever-saving-hacks-for-teenagers-this-will-save-you-a-fortune/, time: 0.31743526458740234\n",
      "Checking site: https://fampay.in/blog/7-clever-saving-hacks-for-teenagers-this-will-save-you-a-fortune/\n",
      "Finished checking site: https://fampay.in/blog/7-clever-saving-hacks-for-teenagers-this-will-save-you-a-fortune/, time: 0.27667880058288574\n",
      "Finished checking site: https://fampay.in/blog/7-clever-saving-hacks-for-teenagers-this-will-save-you-a-fortune/\n",
      "Checking site: https://fampay.in/blog/what-are-the-perks-of-using-fampay/\n",
      "Finished checking site: https://fampay.in/blog/what-are-the-perks-of-using-fampay/, time: 0.3013803958892822\n",
      "Checking site: https://fampay.in/blog/what-are-the-perks-of-using-fampay/\n",
      "Finished checking site: https://fampay.in/blog/what-are-the-perks-of-using-fampay/, time: 0.29073643684387207\n",
      "Finished checking site: https://fampay.in/blog/what-are-the-perks-of-using-fampay/\n",
      "Checking site: https://fampay.in/blog/author/ritwick/\n",
      "Finished checking site: https://fampay.in/blog/author/ritwick/, time: 0.27247023582458496\n",
      "Checking site: https://fampay.in/blog/author/ritwick/\n",
      "Finished checking site: https://fampay.in/blog/author/ritwick/, time: 0.27066802978515625\n",
      "Finished checking site: https://fampay.in/blog/author/ritwick/\n",
      "Checking site: https://fampay.in/blog/curious-about-famcard-heres-everything-to-know/\n",
      "Finished checking site: https://fampay.in/blog/curious-about-famcard-heres-everything-to-know/, time: 0.2562284469604492\n",
      "Checking site: https://fampay.in/blog/curious-about-famcard-heres-everything-to-know/\n",
      "Finished checking site: https://fampay.in/blog/curious-about-famcard-heres-everything-to-know/, time: 0.29009032249450684\n",
      "Finished checking site: https://fampay.in/blog/curious-about-famcard-heres-everything-to-know/\n",
      "Checking site: https://fampay.in/blog/author/shifa/\n",
      "Finished checking site: https://fampay.in/blog/author/shifa/, time: 0.24666404724121094\n",
      "Checking site: https://fampay.in/blog/author/shifa/\n",
      "Finished checking site: https://fampay.in/blog/author/shifa/, time: 0.26114678382873535\n",
      "Finished checking site: https://fampay.in/blog/author/shifa/\n",
      "Checking site: https://fampay.in/blog/what-makes-fampay-secure/\n",
      "Finished checking site: https://fampay.in/blog/what-makes-fampay-secure/, time: 0.2745857238769531\n",
      "Checking site: https://fampay.in/blog/what-makes-fampay-secure/\n",
      "Finished checking site: https://fampay.in/blog/what-makes-fampay-secure/, time: 0.27614736557006836\n",
      "Finished checking site: https://fampay.in/blog/what-makes-fampay-secure/\n",
      "Checking site: https://fampay.in/blog/fampays-guide-to-digital-payments-for-teens-important-dos-and-donts/\n",
      "Finished checking site: https://fampay.in/blog/fampays-guide-to-digital-payments-for-teens-important-dos-and-donts/, time: 0.2800571918487549\n",
      "Checking site: https://fampay.in/blog/fampays-guide-to-digital-payments-for-teens-important-dos-and-donts/\n",
      "Finished checking site: https://fampay.in/blog/fampays-guide-to-digital-payments-for-teens-important-dos-and-donts/, time: 0.2600975036621094\n",
      "Finished checking site: https://fampay.in/blog/fampays-guide-to-digital-payments-for-teens-important-dos-and-donts/\n",
      "Checking site: https://fampay.in/blog/why-do-online-payments-get-stuck-and-what-can-you-do/\n",
      "Finished checking site: https://fampay.in/blog/why-do-online-payments-get-stuck-and-what-can-you-do/, time: 0.25994038581848145\n",
      "Checking site: https://fampay.in/blog/why-do-online-payments-get-stuck-and-what-can-you-do/\n",
      "Finished checking site: https://fampay.in/blog/why-do-online-payments-get-stuck-and-what-can-you-do/, time: 0.31414294242858887\n",
      "Finished checking site: https://fampay.in/blog/why-do-online-payments-get-stuck-and-what-can-you-do/\n",
      "Checking site: https://fampay.in/blog/author/tiara/\n",
      "Finished checking site: https://fampay.in/blog/author/tiara/, time: 0.2862260341644287\n",
      "Checking site: https://fampay.in/blog/author/tiara/\n",
      "Finished checking site: https://fampay.in/blog/author/tiara/, time: 0.24183225631713867\n",
      "Finished checking site: https://fampay.in/blog/author/tiara/\n",
      "Checking site: https://fampay.in/blog/how-to-order-a-famcard-in-less-than-5-minutes/\n",
      "Finished checking site: https://fampay.in/blog/how-to-order-a-famcard-in-less-than-5-minutes/, time: 0.27419495582580566\n",
      "Checking site: https://fampay.in/blog/how-to-order-a-famcard-in-less-than-5-minutes/\n",
      "Finished checking site: https://fampay.in/blog/how-to-order-a-famcard-in-less-than-5-minutes/, time: 0.29953622817993164\n",
      "Finished checking site: https://fampay.in/blog/how-to-order-a-famcard-in-less-than-5-minutes/\n",
      "Checking site: https://fampay.in/blog/tag/product/page/2/\n",
      "Finished checking site: https://fampay.in/blog/tag/product/page/2/, time: 0.25002002716064453\n",
      "Checking site: https://fampay.in/blog/tag/product/page/2/\n",
      "Finished checking site: https://fampay.in/blog/tag/product/page/2/, time: 0.31241583824157715\n",
      "Finished checking site: https://fampay.in/blog/tag/product/page/2/\n",
      "Checking site: https://fampay.in/blog/tag/tech/\n",
      "Finished checking site: https://fampay.in/blog/tag/tech/, time: 0.34606099128723145\n",
      "Checking site: https://fampay.in/blog/tag/tech/\n",
      "Finished checking site: https://fampay.in/blog/tag/tech/, time: 0.3195202350616455\n",
      "Finished checking site: https://fampay.in/blog/tag/tech/\n",
      "Checking site: https://fampay.in/blog/how-a-pressing-problem-can-lead-to-technological-innovation/\n",
      "Finished checking site: https://fampay.in/blog/how-a-pressing-problem-can-lead-to-technological-innovation/, time: 0.2886784076690674\n",
      "Checking site: https://fampay.in/blog/how-a-pressing-problem-can-lead-to-technological-innovation/\n",
      "Finished checking site: https://fampay.in/blog/how-a-pressing-problem-can-lead-to-technological-innovation/, time: 0.24965524673461914\n",
      "Finished checking site: https://fampay.in/blog/how-a-pressing-problem-can-lead-to-technological-innovation/\n",
      "Checking site: https://fampay.in/blog/author/shiv/\n",
      "Finished checking site: https://fampay.in/blog/author/shiv/, time: 0.2599830627441406\n",
      "Checking site: https://fampay.in/blog/author/shiv/\n",
      "Finished checking site: https://fampay.in/blog/author/shiv/, time: 0.24822616577148438\n",
      "Finished checking site: https://fampay.in/blog/author/shiv/\n",
      "Checking site: https://fampay.in/blog/tag/teenpreneurs/\n",
      "Finished checking site: https://fampay.in/blog/tag/teenpreneurs/, time: 0.2993156909942627\n",
      "Checking site: https://fampay.in/blog/tag/teenpreneurs/\n",
      "Finished checking site: https://fampay.in/blog/tag/teenpreneurs/, time: 0.32747364044189453\n",
      "Finished checking site: https://fampay.in/blog/tag/teenpreneurs/\n",
      "Checking site: https://fampay.in/blog/how-i-blurred-age-barriers-with-technology/\n",
      "Finished checking site: https://fampay.in/blog/how-i-blurred-age-barriers-with-technology/, time: 0.2784144878387451\n",
      "Checking site: https://fampay.in/blog/how-i-blurred-age-barriers-with-technology/\n",
      "Finished checking site: https://fampay.in/blog/how-i-blurred-age-barriers-with-technology/, time: 0.267423152923584\n",
      "Finished checking site: https://fampay.in/blog/how-i-blurred-age-barriers-with-technology/\n",
      "Checking site: https://fampay.in/blog/author/aadithyan/\n",
      "Finished checking site: https://fampay.in/blog/author/aadithyan/, time: 0.24145960807800293\n",
      "Checking site: https://fampay.in/blog/author/aadithyan/\n",
      "Finished checking site: https://fampay.in/blog/author/aadithyan/, time: 0.2821476459503174\n",
      "Finished checking site: https://fampay.in/blog/author/aadithyan/\n",
      "Checking site: https://fampay.in/blog/how-to-clean-up-your-android-apps-dependencies-the-ultimate-guide-2/\n",
      "Finished checking site: https://fampay.in/blog/how-to-clean-up-your-android-apps-dependencies-the-ultimate-guide-2/, time: 0.29807376861572266\n",
      "Checking site: https://fampay.in/blog/how-to-clean-up-your-android-apps-dependencies-the-ultimate-guide-2/\n",
      "Finished checking site: https://fampay.in/blog/how-to-clean-up-your-android-apps-dependencies-the-ultimate-guide-2/, time: 0.31545138359069824\n",
      "Finished checking site: https://fampay.in/blog/how-to-clean-up-your-android-apps-dependencies-the-ultimate-guide-2/\n",
      "Checking site: https://wa.me/?text=How%20to%20Clean%20Up%20Your%20Android%20App's%20Dependencies%3A%20The%20Ultimate%20Guide%20https://fampay.in/blog/how-to-clean-up-your-android-apps-dependencies-the-ultimate-guide-2/\n",
      "Finished checking site: https://wa.me/?text=How%20to%20Clean%20Up%20Your%20Android%20App's%20Dependencies%3A%20The%20Ultimate%20Guide%20https://fampay.in/blog/how-to-clean-up-your-android-apps-dependencies-the-ultimate-guide-2/, time: 0.9969286918640137\n",
      "Checking site: https://wa.me/?text=How%20to%20Clean%20Up%20Your%20Android%20App's%20Dependencies%3A%20The%20Ultimate%20Guide%20https://fampay.in/blog/how-to-clean-up-your-android-apps-dependencies-the-ultimate-guide-2/\n",
      "Finished checking site: https://wa.me/?text=How%20to%20Clean%20Up%20Your%20Android%20App's%20Dependencies%3A%20The%20Ultimate%20Guide%20https://fampay.in/blog/how-to-clean-up-your-android-apps-dependencies-the-ultimate-guide-2/, time: 0.9721739292144775\n",
      "Finished checking site: https://wa.me/?text=How%20to%20Clean%20Up%20Your%20Android%20App's%20Dependencies%3A%20The%20Ultimate%20Guide%20https://fampay.in/blog/how-to-clean-up-your-android-apps-dependencies-the-ultimate-guide-2/\n",
      "Checking site: https://www.facebook.com/sharer/sharer.php?u=https://fampay.in/blog/how-to-clean-up-your-android-apps-dependencies-the-ultimate-guide-2/\n",
      "Finished checking site: https://www.facebook.com/sharer/sharer.php?u=https://fampay.in/blog/how-to-clean-up-your-android-apps-dependencies-the-ultimate-guide-2/, time: 0.431044340133667\n",
      "Checking site: https://www.facebook.com/sharer/sharer.php?u=https://fampay.in/blog/how-to-clean-up-your-android-apps-dependencies-the-ultimate-guide-2/\n",
      "Finished checking site: https://www.facebook.com/sharer/sharer.php?u=https://fampay.in/blog/how-to-clean-up-your-android-apps-dependencies-the-ultimate-guide-2/, time: 1.033060073852539\n",
      "Finished checking site: https://www.facebook.com/sharer/sharer.php?u=https://fampay.in/blog/how-to-clean-up-your-android-apps-dependencies-the-ultimate-guide-2/\n",
      "Checking site: https://twitter.com/intent/tweet?text=How%20to%20Clean%20Up%20Your%20Android%20App's%20Dependencies%3A%20The%20Ultimate%20Guide&url=https://fampay.in/blog/how-to-clean-up-your-android-apps-dependencies-the-ultimate-guide-2/\n",
      "Finished checking site: https://twitter.com/intent/tweet?text=How%20to%20Clean%20Up%20Your%20Android%20App's%20Dependencies%3A%20The%20Ultimate%20Guide&url=https://fampay.in/blog/how-to-clean-up-your-android-apps-dependencies-the-ultimate-guide-2/, time: 1.063523292541504\n",
      "Checking site: https://twitter.com/intent/tweet?text=How%20to%20Clean%20Up%20Your%20Android%20App's%20Dependencies%3A%20The%20Ultimate%20Guide&url=https://fampay.in/blog/how-to-clean-up-your-android-apps-dependencies-the-ultimate-guide-2/\n",
      "Finished checking site: https://twitter.com/intent/tweet?text=How%20to%20Clean%20Up%20Your%20Android%20App's%20Dependencies%3A%20The%20Ultimate%20Guide&url=https://fampay.in/blog/how-to-clean-up-your-android-apps-dependencies-the-ultimate-guide-2/, time: 1.1974120140075684\n",
      "Finished checking site: https://twitter.com/intent/tweet?text=How%20to%20Clean%20Up%20Your%20Android%20App's%20Dependencies%3A%20The%20Ultimate%20Guide&url=https://fampay.in/blog/how-to-clean-up-your-android-apps-dependencies-the-ultimate-guide-2/\n",
      "Checking site: https://facebook.com/fampay.in/\n",
      "Finished checking site: https://facebook.com/fampay.in/, time: 0.6645181179046631\n",
      "Checking site: https://facebook.com/fampay.in/\n",
      "Finished checking site: https://facebook.com/fampay.in/, time: 0.7088384628295898\n",
      "Finished checking site: https://facebook.com/fampay.in/\n",
      "Checking site: https://fampay.in/blog/author/fampay/\n",
      "Finished checking site: https://fampay.in/blog/author/fampay/, time: 0.35720300674438477\n",
      "Checking site: https://fampay.in/blog/author/fampay/\n",
      "Finished checking site: https://fampay.in/blog/author/fampay/, time: 0.35948896408081055\n",
      "Finished checking site: https://fampay.in/blog/author/fampay/\n",
      "Checking site: https://fampay.in/blog/author/fampay/page/2/\n",
      "Finished checking site: https://fampay.in/blog/author/fampay/page/2/, time: 0.2913515567779541\n",
      "Checking site: https://fampay.in/blog/author/fampay/page/2/\n",
      "Finished checking site: https://fampay.in/blog/author/fampay/page/2/, time: 0.29073381423950195\n",
      "Finished checking site: https://fampay.in/blog/author/fampay/page/2/\n",
      "Checking site: https://fampay.in/blog/discover-fampays-engagement-service-missions-3/\n",
      "Finished checking site: https://fampay.in/blog/discover-fampays-engagement-service-missions-3/, time: 0.3703315258026123\n",
      "Checking site: https://fampay.in/blog/discover-fampays-engagement-service-missions-3/\n",
      "Finished checking site: https://fampay.in/blog/discover-fampays-engagement-service-missions-3/, time: 0.27820801734924316\n",
      "Finished checking site: https://fampay.in/blog/discover-fampays-engagement-service-missions-3/\n",
      "Checking site: https://wa.me/?text=Discover%20FamPay's%20Engagement%20Service%3A%20Missions%20https://fampay.in/blog/discover-fampays-engagement-service-missions-3/\n",
      "Finished checking site: https://wa.me/?text=Discover%20FamPay's%20Engagement%20Service%3A%20Missions%20https://fampay.in/blog/discover-fampays-engagement-service-missions-3/, time: 0.6838207244873047\n",
      "Checking site: https://wa.me/?text=Discover%20FamPay's%20Engagement%20Service%3A%20Missions%20https://fampay.in/blog/discover-fampays-engagement-service-missions-3/\n",
      "Finished checking site: https://wa.me/?text=Discover%20FamPay's%20Engagement%20Service%3A%20Missions%20https://fampay.in/blog/discover-fampays-engagement-service-missions-3/, time: 0.6591970920562744\n",
      "Finished checking site: https://wa.me/?text=Discover%20FamPay's%20Engagement%20Service%3A%20Missions%20https://fampay.in/blog/discover-fampays-engagement-service-missions-3/\n",
      "Checking site: https://www.facebook.com/sharer/sharer.php?u=https://fampay.in/blog/discover-fampays-engagement-service-missions-3/\n",
      "Finished checking site: https://www.facebook.com/sharer/sharer.php?u=https://fampay.in/blog/discover-fampays-engagement-service-missions-3/, time: 0.33867812156677246\n",
      "Checking site: https://www.facebook.com/sharer/sharer.php?u=https://fampay.in/blog/discover-fampays-engagement-service-missions-3/\n",
      "Finished checking site: https://www.facebook.com/sharer/sharer.php?u=https://fampay.in/blog/discover-fampays-engagement-service-missions-3/, time: 1.0861830711364746\n",
      "Finished checking site: https://www.facebook.com/sharer/sharer.php?u=https://fampay.in/blog/discover-fampays-engagement-service-missions-3/\n",
      "Checking site: https://twitter.com/intent/tweet?text=Discover%20FamPay's%20Engagement%20Service%3A%20Missions&url=https://fampay.in/blog/discover-fampays-engagement-service-missions-3/\n",
      "Finished checking site: https://twitter.com/intent/tweet?text=Discover%20FamPay's%20Engagement%20Service%3A%20Missions&url=https://fampay.in/blog/discover-fampays-engagement-service-missions-3/, time: 1.009598970413208\n",
      "Checking site: https://twitter.com/intent/tweet?text=Discover%20FamPay's%20Engagement%20Service%3A%20Missions&url=https://fampay.in/blog/discover-fampays-engagement-service-missions-3/\n",
      "Finished checking site: https://twitter.com/intent/tweet?text=Discover%20FamPay's%20Engagement%20Service%3A%20Missions&url=https://fampay.in/blog/discover-fampays-engagement-service-missions-3/, time: 1.2150559425354004\n",
      "Finished checking site: https://twitter.com/intent/tweet?text=Discover%20FamPay's%20Engagement%20Service%3A%20Missions&url=https://fampay.in/blog/discover-fampays-engagement-service-missions-3/\n",
      "Checking site: https://fampay.in/blog/implementing-an-in-memory-queue/\n",
      "Finished checking site: https://fampay.in/blog/implementing-an-in-memory-queue/, time: 0.3709585666656494\n",
      "Checking site: https://fampay.in/blog/implementing-an-in-memory-queue/\n",
      "Finished checking site: https://fampay.in/blog/implementing-an-in-memory-queue/, time: 0.289231538772583\n",
      "Finished checking site: https://fampay.in/blog/implementing-an-in-memory-queue/\n",
      "Checking site: https://wa.me/?text=Implementing%20an%20In-memory%20Queue%20%F0%9F%A7%91%E2%80%8D%F0%9F%92%BB%20https://fampay.in/blog/implementing-an-in-memory-queue/\n",
      "Finished checking site: https://wa.me/?text=Implementing%20an%20In-memory%20Queue%20%F0%9F%A7%91%E2%80%8D%F0%9F%92%BB%20https://fampay.in/blog/implementing-an-in-memory-queue/, time: 1.0948359966278076\n",
      "Checking site: https://wa.me/?text=Implementing%20an%20In-memory%20Queue%20%F0%9F%A7%91%E2%80%8D%F0%9F%92%BB%20https://fampay.in/blog/implementing-an-in-memory-queue/\n",
      "Finished checking site: https://wa.me/?text=Implementing%20an%20In-memory%20Queue%20%F0%9F%A7%91%E2%80%8D%F0%9F%92%BB%20https://fampay.in/blog/implementing-an-in-memory-queue/, time: 0.7167017459869385\n",
      "Finished checking site: https://wa.me/?text=Implementing%20an%20In-memory%20Queue%20%F0%9F%A7%91%E2%80%8D%F0%9F%92%BB%20https://fampay.in/blog/implementing-an-in-memory-queue/\n",
      "Checking site: https://www.facebook.com/sharer/sharer.php?u=https://fampay.in/blog/implementing-an-in-memory-queue/\n",
      "Finished checking site: https://www.facebook.com/sharer/sharer.php?u=https://fampay.in/blog/implementing-an-in-memory-queue/, time: 0.3336937427520752\n",
      "Checking site: https://www.facebook.com/sharer/sharer.php?u=https://fampay.in/blog/implementing-an-in-memory-queue/\n",
      "Finished checking site: https://www.facebook.com/sharer/sharer.php?u=https://fampay.in/blog/implementing-an-in-memory-queue/, time: 1.032703161239624\n",
      "Finished checking site: https://www.facebook.com/sharer/sharer.php?u=https://fampay.in/blog/implementing-an-in-memory-queue/\n",
      "Checking site: https://twitter.com/intent/tweet?text=Implementing%20an%20In-memory%20Queue%20%F0%9F%A7%91%E2%80%8D%F0%9F%92%BB&url=https://fampay.in/blog/implementing-an-in-memory-queue/\n",
      "Finished checking site: https://twitter.com/intent/tweet?text=Implementing%20an%20In-memory%20Queue%20%F0%9F%A7%91%E2%80%8D%F0%9F%92%BB&url=https://fampay.in/blog/implementing-an-in-memory-queue/, time: 1.0575387477874756\n",
      "Checking site: https://twitter.com/intent/tweet?text=Implementing%20an%20In-memory%20Queue%20%F0%9F%A7%91%E2%80%8D%F0%9F%92%BB&url=https://fampay.in/blog/implementing-an-in-memory-queue/\n",
      "Finished checking site: https://twitter.com/intent/tweet?text=Implementing%20an%20In-memory%20Queue%20%F0%9F%A7%91%E2%80%8D%F0%9F%92%BB&url=https://fampay.in/blog/implementing-an-in-memory-queue/, time: 1.1889426708221436\n",
      "Finished checking site: https://twitter.com/intent/tweet?text=Implementing%20an%20In-memory%20Queue%20%F0%9F%A7%91%E2%80%8D%F0%9F%92%BB&url=https://fampay.in/blog/implementing-an-in-memory-queue/\n",
      "Checking site: https://fampay.in/blog/covid-19-vaccination-as-a-teen-a-guide/\n",
      "Finished checking site: https://fampay.in/blog/covid-19-vaccination-as-a-teen-a-guide/, time: 0.31110215187072754\n",
      "Checking site: https://fampay.in/blog/covid-19-vaccination-as-a-teen-a-guide/\n",
      "Finished checking site: https://fampay.in/blog/covid-19-vaccination-as-a-teen-a-guide/, time: 0.42422056198120117\n",
      "Finished checking site: https://fampay.in/blog/covid-19-vaccination-as-a-teen-a-guide/\n",
      "Checking site: https://wa.me/?text=Covid-19%20Vaccination%20for%20teens%2C%20a%20step-by-step%20guide%F0%9F%92%89%20https://fampay.in/blog/covid-19-vaccination-as-a-teen-a-guide/\n",
      "Finished checking site: https://wa.me/?text=Covid-19%20Vaccination%20for%20teens%2C%20a%20step-by-step%20guide%F0%9F%92%89%20https://fampay.in/blog/covid-19-vaccination-as-a-teen-a-guide/, time: 0.6405758857727051\n",
      "Checking site: https://wa.me/?text=Covid-19%20Vaccination%20for%20teens%2C%20a%20step-by-step%20guide%F0%9F%92%89%20https://fampay.in/blog/covid-19-vaccination-as-a-teen-a-guide/\n",
      "Finished checking site: https://wa.me/?text=Covid-19%20Vaccination%20for%20teens%2C%20a%20step-by-step%20guide%F0%9F%92%89%20https://fampay.in/blog/covid-19-vaccination-as-a-teen-a-guide/, time: 0.6675000190734863\n",
      "Finished checking site: https://wa.me/?text=Covid-19%20Vaccination%20for%20teens%2C%20a%20step-by-step%20guide%F0%9F%92%89%20https://fampay.in/blog/covid-19-vaccination-as-a-teen-a-guide/\n",
      "Checking site: https://www.facebook.com/sharer/sharer.php?u=https://fampay.in/blog/covid-19-vaccination-as-a-teen-a-guide/\n",
      "Finished checking site: https://www.facebook.com/sharer/sharer.php?u=https://fampay.in/blog/covid-19-vaccination-as-a-teen-a-guide/, time: 0.5826544761657715\n",
      "Checking site: https://www.facebook.com/sharer/sharer.php?u=https://fampay.in/blog/covid-19-vaccination-as-a-teen-a-guide/\n",
      "Finished checking site: https://www.facebook.com/sharer/sharer.php?u=https://fampay.in/blog/covid-19-vaccination-as-a-teen-a-guide/, time: 0.993295431137085\n",
      "Finished checking site: https://www.facebook.com/sharer/sharer.php?u=https://fampay.in/blog/covid-19-vaccination-as-a-teen-a-guide/\n",
      "Checking site: https://twitter.com/intent/tweet?text=Covid-19%20Vaccination%20for%20teens%2C%20a%20step-by-step%20guide%F0%9F%92%89&url=https://fampay.in/blog/covid-19-vaccination-as-a-teen-a-guide/\n",
      "Finished checking site: https://twitter.com/intent/tweet?text=Covid-19%20Vaccination%20for%20teens%2C%20a%20step-by-step%20guide%F0%9F%92%89&url=https://fampay.in/blog/covid-19-vaccination-as-a-teen-a-guide/, time: 1.1973111629486084\n",
      "Checking site: https://twitter.com/intent/tweet?text=Covid-19%20Vaccination%20for%20teens%2C%20a%20step-by-step%20guide%F0%9F%92%89&url=https://fampay.in/blog/covid-19-vaccination-as-a-teen-a-guide/\n",
      "Finished checking site: https://twitter.com/intent/tweet?text=Covid-19%20Vaccination%20for%20teens%2C%20a%20step-by-step%20guide%F0%9F%92%89&url=https://fampay.in/blog/covid-19-vaccination-as-a-teen-a-guide/, time: 1.2217819690704346\n",
      "Finished checking site: https://twitter.com/intent/tweet?text=Covid-19%20Vaccination%20for%20teens%2C%20a%20step-by-step%20guide%F0%9F%92%89&url=https://fampay.in/blog/covid-19-vaccination-as-a-teen-a-guide/\n",
      "Checking site: https://fampay.in/blog/why-vaccination-a-guide-to-vaccination-for-teens-in-india/\n",
      "Finished checking site: https://fampay.in/blog/why-vaccination-a-guide-to-vaccination-for-teens-in-india/, time: 0.2932586669921875\n",
      "Checking site: https://fampay.in/blog/why-vaccination-a-guide-to-vaccination-for-teens-in-india/\n",
      "Finished checking site: https://fampay.in/blog/why-vaccination-a-guide-to-vaccination-for-teens-in-india/, time: 0.34798765182495117\n",
      "Finished checking site: https://fampay.in/blog/why-vaccination-a-guide-to-vaccination-for-teens-in-india/\n",
      "Checking site: https://wa.me/?text=Why%20Vaccination%3F%F0%9F%92%89%20-%20A%20guide%20to%20vaccination%20for%20teens%20in%20India%20https://fampay.in/blog/why-vaccination-a-guide-to-vaccination-for-teens-in-india/\n",
      "Finished checking site: https://wa.me/?text=Why%20Vaccination%3F%F0%9F%92%89%20-%20A%20guide%20to%20vaccination%20for%20teens%20in%20India%20https://fampay.in/blog/why-vaccination-a-guide-to-vaccination-for-teens-in-india/, time: 0.8711683750152588\n",
      "Checking site: https://wa.me/?text=Why%20Vaccination%3F%F0%9F%92%89%20-%20A%20guide%20to%20vaccination%20for%20teens%20in%20India%20https://fampay.in/blog/why-vaccination-a-guide-to-vaccination-for-teens-in-india/\n",
      "Finished checking site: https://wa.me/?text=Why%20Vaccination%3F%F0%9F%92%89%20-%20A%20guide%20to%20vaccination%20for%20teens%20in%20India%20https://fampay.in/blog/why-vaccination-a-guide-to-vaccination-for-teens-in-india/, time: 0.937633752822876\n",
      "Finished checking site: https://wa.me/?text=Why%20Vaccination%3F%F0%9F%92%89%20-%20A%20guide%20to%20vaccination%20for%20teens%20in%20India%20https://fampay.in/blog/why-vaccination-a-guide-to-vaccination-for-teens-in-india/\n",
      "Checking site: https://www.facebook.com/sharer/sharer.php?u=https://fampay.in/blog/why-vaccination-a-guide-to-vaccination-for-teens-in-india/\n",
      "Finished checking site: https://www.facebook.com/sharer/sharer.php?u=https://fampay.in/blog/why-vaccination-a-guide-to-vaccination-for-teens-in-india/, time: 0.3423590660095215\n",
      "Checking site: https://www.facebook.com/sharer/sharer.php?u=https://fampay.in/blog/why-vaccination-a-guide-to-vaccination-for-teens-in-india/\n",
      "Finished checking site: https://www.facebook.com/sharer/sharer.php?u=https://fampay.in/blog/why-vaccination-a-guide-to-vaccination-for-teens-in-india/, time: 1.035468339920044\n",
      "Finished checking site: https://www.facebook.com/sharer/sharer.php?u=https://fampay.in/blog/why-vaccination-a-guide-to-vaccination-for-teens-in-india/\n",
      "Checking site: https://twitter.com/intent/tweet?text=Why%20Vaccination%3F%F0%9F%92%89%20-%20A%20guide%20to%20vaccination%20for%20teens%20in%20India&url=https://fampay.in/blog/why-vaccination-a-guide-to-vaccination-for-teens-in-india/\n",
      "Finished checking site: https://twitter.com/intent/tweet?text=Why%20Vaccination%3F%F0%9F%92%89%20-%20A%20guide%20to%20vaccination%20for%20teens%20in%20India&url=https://fampay.in/blog/why-vaccination-a-guide-to-vaccination-for-teens-in-india/, time: 1.228999137878418\n",
      "Checking site: https://twitter.com/intent/tweet?text=Why%20Vaccination%3F%F0%9F%92%89%20-%20A%20guide%20to%20vaccination%20for%20teens%20in%20India&url=https://fampay.in/blog/why-vaccination-a-guide-to-vaccination-for-teens-in-india/\n",
      "Finished checking site: https://twitter.com/intent/tweet?text=Why%20Vaccination%3F%F0%9F%92%89%20-%20A%20guide%20to%20vaccination%20for%20teens%20in%20India&url=https://fampay.in/blog/why-vaccination-a-guide-to-vaccination-for-teens-in-india/, time: 1.1771836280822754\n",
      "Finished checking site: https://twitter.com/intent/tweet?text=Why%20Vaccination%3F%F0%9F%92%89%20-%20A%20guide%20to%20vaccination%20for%20teens%20in%20India&url=https://fampay.in/blog/why-vaccination-a-guide-to-vaccination-for-teens-in-india/\n",
      "Checking site: https://fampay.in/blog/study-habits-that-are-simple-and-highly-effective/\n",
      "Finished checking site: https://fampay.in/blog/study-habits-that-are-simple-and-highly-effective/, time: 0.35176849365234375\n",
      "Checking site: https://fampay.in/blog/study-habits-that-are-simple-and-highly-effective/\n",
      "Finished checking site: https://fampay.in/blog/study-habits-that-are-simple-and-highly-effective/, time: 0.2861747741699219\n",
      "Finished checking site: https://fampay.in/blog/study-habits-that-are-simple-and-highly-effective/\n",
      "Checking site: https://wa.me/?text=Study%20habits%20that%20are%20simple%20and%20highly%20effective%20%F0%9F%93%9A%20https://fampay.in/blog/study-habits-that-are-simple-and-highly-effective/\n",
      "Finished checking site: https://wa.me/?text=Study%20habits%20that%20are%20simple%20and%20highly%20effective%20%F0%9F%93%9A%20https://fampay.in/blog/study-habits-that-are-simple-and-highly-effective/, time: 0.6592953205108643\n",
      "Checking site: https://wa.me/?text=Study%20habits%20that%20are%20simple%20and%20highly%20effective%20%F0%9F%93%9A%20https://fampay.in/blog/study-habits-that-are-simple-and-highly-effective/\n",
      "Finished checking site: https://wa.me/?text=Study%20habits%20that%20are%20simple%20and%20highly%20effective%20%F0%9F%93%9A%20https://fampay.in/blog/study-habits-that-are-simple-and-highly-effective/, time: 0.7055070400238037\n",
      "Finished checking site: https://wa.me/?text=Study%20habits%20that%20are%20simple%20and%20highly%20effective%20%F0%9F%93%9A%20https://fampay.in/blog/study-habits-that-are-simple-and-highly-effective/\n",
      "Checking site: https://www.facebook.com/sharer/sharer.php?u=https://fampay.in/blog/study-habits-that-are-simple-and-highly-effective/\n",
      "Finished checking site: https://www.facebook.com/sharer/sharer.php?u=https://fampay.in/blog/study-habits-that-are-simple-and-highly-effective/, time: 0.3195819854736328\n",
      "Checking site: https://www.facebook.com/sharer/sharer.php?u=https://fampay.in/blog/study-habits-that-are-simple-and-highly-effective/\n",
      "Finished checking site: https://www.facebook.com/sharer/sharer.php?u=https://fampay.in/blog/study-habits-that-are-simple-and-highly-effective/, time: 0.9753057956695557\n",
      "Finished checking site: https://www.facebook.com/sharer/sharer.php?u=https://fampay.in/blog/study-habits-that-are-simple-and-highly-effective/\n",
      "Checking site: https://twitter.com/intent/tweet?text=Study%20habits%20that%20are%20simple%20and%20highly%20effective%20%F0%9F%93%9A&url=https://fampay.in/blog/study-habits-that-are-simple-and-highly-effective/\n",
      "Finished checking site: https://twitter.com/intent/tweet?text=Study%20habits%20that%20are%20simple%20and%20highly%20effective%20%F0%9F%93%9A&url=https://fampay.in/blog/study-habits-that-are-simple-and-highly-effective/, time: 1.0668320655822754\n",
      "Checking site: https://twitter.com/intent/tweet?text=Study%20habits%20that%20are%20simple%20and%20highly%20effective%20%F0%9F%93%9A&url=https://fampay.in/blog/study-habits-that-are-simple-and-highly-effective/\n",
      "Finished checking site: https://twitter.com/intent/tweet?text=Study%20habits%20that%20are%20simple%20and%20highly%20effective%20%F0%9F%93%9A&url=https://fampay.in/blog/study-habits-that-are-simple-and-highly-effective/, time: 1.0363059043884277\n",
      "Finished checking site: https://twitter.com/intent/tweet?text=Study%20habits%20that%20are%20simple%20and%20highly%20effective%20%F0%9F%93%9A&url=https://fampay.in/blog/study-habits-that-are-simple-and-highly-effective/\n",
      "Checking site: https://fampay.in/blog/how-to-save-those-extra-bucks-while-shopping/\n",
      "Finished checking site: https://fampay.in/blog/how-to-save-those-extra-bucks-while-shopping/, time: 0.33145785331726074\n",
      "Checking site: https://fampay.in/blog/how-to-save-those-extra-bucks-while-shopping/\n",
      "Finished checking site: https://fampay.in/blog/how-to-save-those-extra-bucks-while-shopping/, time: 0.3221156597137451\n",
      "Finished checking site: https://fampay.in/blog/how-to-save-those-extra-bucks-while-shopping/\n",
      "Checking site: https://wa.me/?text=How%20to%20save%20those%20extra%20bucks%20while%20shopping%20%F0%9F%8F%AC%20https://fampay.in/blog/how-to-save-those-extra-bucks-while-shopping/\n",
      "Finished checking site: https://wa.me/?text=How%20to%20save%20those%20extra%20bucks%20while%20shopping%20%F0%9F%8F%AC%20https://fampay.in/blog/how-to-save-those-extra-bucks-while-shopping/, time: 0.6305379867553711\n",
      "Checking site: https://wa.me/?text=How%20to%20save%20those%20extra%20bucks%20while%20shopping%20%F0%9F%8F%AC%20https://fampay.in/blog/how-to-save-those-extra-bucks-while-shopping/\n",
      "Finished checking site: https://wa.me/?text=How%20to%20save%20those%20extra%20bucks%20while%20shopping%20%F0%9F%8F%AC%20https://fampay.in/blog/how-to-save-those-extra-bucks-while-shopping/, time: 0.7063097953796387\n",
      "Finished checking site: https://wa.me/?text=How%20to%20save%20those%20extra%20bucks%20while%20shopping%20%F0%9F%8F%AC%20https://fampay.in/blog/how-to-save-those-extra-bucks-while-shopping/\n",
      "Checking site: https://www.facebook.com/sharer/sharer.php?u=https://fampay.in/blog/how-to-save-those-extra-bucks-while-shopping/\n",
      "Finished checking site: https://www.facebook.com/sharer/sharer.php?u=https://fampay.in/blog/how-to-save-those-extra-bucks-while-shopping/, time: 0.4715259075164795\n",
      "Checking site: https://www.facebook.com/sharer/sharer.php?u=https://fampay.in/blog/how-to-save-those-extra-bucks-while-shopping/\n",
      "Finished checking site: https://www.facebook.com/sharer/sharer.php?u=https://fampay.in/blog/how-to-save-those-extra-bucks-while-shopping/, time: 0.9508936405181885\n",
      "Finished checking site: https://www.facebook.com/sharer/sharer.php?u=https://fampay.in/blog/how-to-save-those-extra-bucks-while-shopping/\n",
      "Checking site: https://twitter.com/intent/tweet?text=How%20to%20save%20those%20extra%20bucks%20while%20shopping%20%F0%9F%8F%AC&url=https://fampay.in/blog/how-to-save-those-extra-bucks-while-shopping/\n",
      "Finished checking site: https://twitter.com/intent/tweet?text=How%20to%20save%20those%20extra%20bucks%20while%20shopping%20%F0%9F%8F%AC&url=https://fampay.in/blog/how-to-save-those-extra-bucks-while-shopping/, time: 1.1551837921142578\n",
      "Checking site: https://twitter.com/intent/tweet?text=How%20to%20save%20those%20extra%20bucks%20while%20shopping%20%F0%9F%8F%AC&url=https://fampay.in/blog/how-to-save-those-extra-bucks-while-shopping/\n",
      "Finished checking site: https://twitter.com/intent/tweet?text=How%20to%20save%20those%20extra%20bucks%20while%20shopping%20%F0%9F%8F%AC&url=https://fampay.in/blog/how-to-save-those-extra-bucks-while-shopping/, time: 1.2117478847503662\n",
      "Finished checking site: https://twitter.com/intent/tweet?text=How%20to%20save%20those%20extra%20bucks%20while%20shopping%20%F0%9F%8F%AC&url=https://fampay.in/blog/how-to-save-those-extra-bucks-while-shopping/\n",
      "Checking site: https://fampay.in/blog/teen-fashion-trends-that-we-love/\n",
      "Finished checking site: https://fampay.in/blog/teen-fashion-trends-that-we-love/, time: 0.33689451217651367\n",
      "Checking site: https://fampay.in/blog/teen-fashion-trends-that-we-love/\n",
      "Finished checking site: https://fampay.in/blog/teen-fashion-trends-that-we-love/, time: 0.3516709804534912\n",
      "Finished checking site: https://fampay.in/blog/teen-fashion-trends-that-we-love/\n",
      "Checking site: https://wa.me/?text=Teen%20fashion%20trends%20that%20you%20really%20don't%20want%20to%20miss%F0%9F%91%95%F0%9F%98%8D%20https://fampay.in/blog/teen-fashion-trends-that-we-love/\n",
      "Finished checking site: https://wa.me/?text=Teen%20fashion%20trends%20that%20you%20really%20don't%20want%20to%20miss%F0%9F%91%95%F0%9F%98%8D%20https://fampay.in/blog/teen-fashion-trends-that-we-love/, time: 1.3879666328430176\n",
      "Checking site: https://wa.me/?text=Teen%20fashion%20trends%20that%20you%20really%20don't%20want%20to%20miss%F0%9F%91%95%F0%9F%98%8D%20https://fampay.in/blog/teen-fashion-trends-that-we-love/\n",
      "Finished checking site: https://wa.me/?text=Teen%20fashion%20trends%20that%20you%20really%20don't%20want%20to%20miss%F0%9F%91%95%F0%9F%98%8D%20https://fampay.in/blog/teen-fashion-trends-that-we-love/, time: 0.967740535736084\n",
      "Finished checking site: https://wa.me/?text=Teen%20fashion%20trends%20that%20you%20really%20don't%20want%20to%20miss%F0%9F%91%95%F0%9F%98%8D%20https://fampay.in/blog/teen-fashion-trends-that-we-love/\n",
      "Checking site: https://www.facebook.com/sharer/sharer.php?u=https://fampay.in/blog/teen-fashion-trends-that-we-love/\n",
      "Finished checking site: https://www.facebook.com/sharer/sharer.php?u=https://fampay.in/blog/teen-fashion-trends-that-we-love/, time: 0.5887017250061035\n",
      "Checking site: https://www.facebook.com/sharer/sharer.php?u=https://fampay.in/blog/teen-fashion-trends-that-we-love/\n",
      "Finished checking site: https://www.facebook.com/sharer/sharer.php?u=https://fampay.in/blog/teen-fashion-trends-that-we-love/, time: 1.0749835968017578\n",
      "Finished checking site: https://www.facebook.com/sharer/sharer.php?u=https://fampay.in/blog/teen-fashion-trends-that-we-love/\n",
      "Checking site: https://twitter.com/intent/tweet?text=Teen%20fashion%20trends%20that%20you%20really%20don't%20want%20to%20miss%F0%9F%91%95%F0%9F%98%8D&url=https://fampay.in/blog/teen-fashion-trends-that-we-love/\n",
      "Finished checking site: https://twitter.com/intent/tweet?text=Teen%20fashion%20trends%20that%20you%20really%20don't%20want%20to%20miss%F0%9F%91%95%F0%9F%98%8D&url=https://fampay.in/blog/teen-fashion-trends-that-we-love/, time: 1.0264415740966797\n",
      "Checking site: https://twitter.com/intent/tweet?text=Teen%20fashion%20trends%20that%20you%20really%20don't%20want%20to%20miss%F0%9F%91%95%F0%9F%98%8D&url=https://fampay.in/blog/teen-fashion-trends-that-we-love/\n",
      "Finished checking site: https://twitter.com/intent/tweet?text=Teen%20fashion%20trends%20that%20you%20really%20don't%20want%20to%20miss%F0%9F%91%95%F0%9F%98%8D&url=https://fampay.in/blog/teen-fashion-trends-that-we-love/, time: 1.0780317783355713\n",
      "Finished checking site: https://twitter.com/intent/tweet?text=Teen%20fashion%20trends%20that%20you%20really%20don't%20want%20to%20miss%F0%9F%91%95%F0%9F%98%8D&url=https://fampay.in/blog/teen-fashion-trends-that-we-love/\n",
      "Checking site: https://fampay.in/blog/how-to-build-your-resume-and-portfolio-right-from-school/\n",
      "Finished checking site: https://fampay.in/blog/how-to-build-your-resume-and-portfolio-right-from-school/, time: 0.33409762382507324\n",
      "Checking site: https://fampay.in/blog/how-to-build-your-resume-and-portfolio-right-from-school/\n",
      "Finished checking site: https://fampay.in/blog/how-to-build-your-resume-and-portfolio-right-from-school/, time: 0.29483914375305176\n",
      "Finished checking site: https://fampay.in/blog/how-to-build-your-resume-and-portfolio-right-from-school/\n",
      "Checking site: https://wa.me/?text=How%20to%20build%20your%20resume%20right%20from%20school%20%F0%9F%9A%80%20https://fampay.in/blog/how-to-build-your-resume-and-portfolio-right-from-school/\n",
      "Finished checking site: https://wa.me/?text=How%20to%20build%20your%20resume%20right%20from%20school%20%F0%9F%9A%80%20https://fampay.in/blog/how-to-build-your-resume-and-portfolio-right-from-school/, time: 0.709191083908081\n",
      "Checking site: https://wa.me/?text=How%20to%20build%20your%20resume%20right%20from%20school%20%F0%9F%9A%80%20https://fampay.in/blog/how-to-build-your-resume-and-portfolio-right-from-school/\n",
      "Finished checking site: https://wa.me/?text=How%20to%20build%20your%20resume%20right%20from%20school%20%F0%9F%9A%80%20https://fampay.in/blog/how-to-build-your-resume-and-portfolio-right-from-school/, time: 0.8754475116729736\n",
      "Finished checking site: https://wa.me/?text=How%20to%20build%20your%20resume%20right%20from%20school%20%F0%9F%9A%80%20https://fampay.in/blog/how-to-build-your-resume-and-portfolio-right-from-school/\n",
      "Checking site: https://www.facebook.com/sharer/sharer.php?u=https://fampay.in/blog/how-to-build-your-resume-and-portfolio-right-from-school/\n",
      "Finished checking site: https://www.facebook.com/sharer/sharer.php?u=https://fampay.in/blog/how-to-build-your-resume-and-portfolio-right-from-school/, time: 0.6902816295623779\n",
      "Checking site: https://www.facebook.com/sharer/sharer.php?u=https://fampay.in/blog/how-to-build-your-resume-and-portfolio-right-from-school/\n",
      "Finished checking site: https://www.facebook.com/sharer/sharer.php?u=https://fampay.in/blog/how-to-build-your-resume-and-portfolio-right-from-school/, time: 1.154449224472046\n",
      "Finished checking site: https://www.facebook.com/sharer/sharer.php?u=https://fampay.in/blog/how-to-build-your-resume-and-portfolio-right-from-school/\n",
      "Checking site: https://twitter.com/intent/tweet?text=How%20to%20build%20your%20resume%20right%20from%20school%20%F0%9F%9A%80&url=https://fampay.in/blog/how-to-build-your-resume-and-portfolio-right-from-school/\n",
      "Finished checking site: https://twitter.com/intent/tweet?text=How%20to%20build%20your%20resume%20right%20from%20school%20%F0%9F%9A%80&url=https://fampay.in/blog/how-to-build-your-resume-and-portfolio-right-from-school/, time: 1.0497426986694336\n",
      "Checking site: https://twitter.com/intent/tweet?text=How%20to%20build%20your%20resume%20right%20from%20school%20%F0%9F%9A%80&url=https://fampay.in/blog/how-to-build-your-resume-and-portfolio-right-from-school/\n",
      "Finished checking site: https://twitter.com/intent/tweet?text=How%20to%20build%20your%20resume%20right%20from%20school%20%F0%9F%9A%80&url=https://fampay.in/blog/how-to-build-your-resume-and-portfolio-right-from-school/, time: 1.0369455814361572\n",
      "Finished checking site: https://twitter.com/intent/tweet?text=How%20to%20build%20your%20resume%20right%20from%20school%20%F0%9F%9A%80&url=https://fampay.in/blog/how-to-build-your-resume-and-portfolio-right-from-school/\n",
      "Checking site: https://fampay.in/blog/productivity-hacks-for-teens-this-will-change-your-life/\n",
      "Finished checking site: https://fampay.in/blog/productivity-hacks-for-teens-this-will-change-your-life/, time: 0.3296680450439453\n",
      "Checking site: https://fampay.in/blog/productivity-hacks-for-teens-this-will-change-your-life/\n",
      "Finished checking site: https://fampay.in/blog/productivity-hacks-for-teens-this-will-change-your-life/, time: 0.3360130786895752\n",
      "Finished checking site: https://fampay.in/blog/productivity-hacks-for-teens-this-will-change-your-life/\n",
      "Checking site: https://wa.me/?text=Productivity%20hacks%20for%20teens%20-%20Easy%20habits%20to%20upgrade%20your%20life%F0%9F%8E%AF%20https://fampay.in/blog/productivity-hacks-for-teens-this-will-change-your-life/\n",
      "Finished checking site: https://wa.me/?text=Productivity%20hacks%20for%20teens%20-%20Easy%20habits%20to%20upgrade%20your%20life%F0%9F%8E%AF%20https://fampay.in/blog/productivity-hacks-for-teens-this-will-change-your-life/, time: 0.9989278316497803\n",
      "Checking site: https://wa.me/?text=Productivity%20hacks%20for%20teens%20-%20Easy%20habits%20to%20upgrade%20your%20life%F0%9F%8E%AF%20https://fampay.in/blog/productivity-hacks-for-teens-this-will-change-your-life/\n",
      "Finished checking site: https://wa.me/?text=Productivity%20hacks%20for%20teens%20-%20Easy%20habits%20to%20upgrade%20your%20life%F0%9F%8E%AF%20https://fampay.in/blog/productivity-hacks-for-teens-this-will-change-your-life/, time: 0.7435979843139648\n",
      "Finished checking site: https://wa.me/?text=Productivity%20hacks%20for%20teens%20-%20Easy%20habits%20to%20upgrade%20your%20life%F0%9F%8E%AF%20https://fampay.in/blog/productivity-hacks-for-teens-this-will-change-your-life/\n",
      "Checking site: https://www.facebook.com/sharer/sharer.php?u=https://fampay.in/blog/productivity-hacks-for-teens-this-will-change-your-life/\n",
      "Finished checking site: https://www.facebook.com/sharer/sharer.php?u=https://fampay.in/blog/productivity-hacks-for-teens-this-will-change-your-life/, time: 0.41805315017700195\n",
      "Checking site: https://www.facebook.com/sharer/sharer.php?u=https://fampay.in/blog/productivity-hacks-for-teens-this-will-change-your-life/\n",
      "Finished checking site: https://www.facebook.com/sharer/sharer.php?u=https://fampay.in/blog/productivity-hacks-for-teens-this-will-change-your-life/, time: 0.9542198181152344\n",
      "Finished checking site: https://www.facebook.com/sharer/sharer.php?u=https://fampay.in/blog/productivity-hacks-for-teens-this-will-change-your-life/\n",
      "Checking site: https://twitter.com/intent/tweet?text=Productivity%20hacks%20for%20teens%20-%20Easy%20habits%20to%20upgrade%20your%20life%F0%9F%8E%AF&url=https://fampay.in/blog/productivity-hacks-for-teens-this-will-change-your-life/\n",
      "Finished checking site: https://twitter.com/intent/tweet?text=Productivity%20hacks%20for%20teens%20-%20Easy%20habits%20to%20upgrade%20your%20life%F0%9F%8E%AF&url=https://fampay.in/blog/productivity-hacks-for-teens-this-will-change-your-life/, time: 1.1467885971069336\n",
      "Checking site: https://twitter.com/intent/tweet?text=Productivity%20hacks%20for%20teens%20-%20Easy%20habits%20to%20upgrade%20your%20life%F0%9F%8E%AF&url=https://fampay.in/blog/productivity-hacks-for-teens-this-will-change-your-life/\n",
      "Finished checking site: https://twitter.com/intent/tweet?text=Productivity%20hacks%20for%20teens%20-%20Easy%20habits%20to%20upgrade%20your%20life%F0%9F%8E%AF&url=https://fampay.in/blog/productivity-hacks-for-teens-this-will-change-your-life/, time: 1.234886646270752\n",
      "Finished checking site: https://twitter.com/intent/tweet?text=Productivity%20hacks%20for%20teens%20-%20Easy%20habits%20to%20upgrade%20your%20life%F0%9F%8E%AF&url=https://fampay.in/blog/productivity-hacks-for-teens-this-will-change-your-life/\n",
      "Checking site: https://fampay.in/blog/page/2/\n",
      "Finished checking site: https://fampay.in/blog/page/2/, time: 0.43282032012939453\n",
      "Checking site: https://fampay.in/blog/page/2/\n",
      "Finished checking site: https://fampay.in/blog/page/2/, time: 0.5116467475891113\n",
      "Finished checking site: https://fampay.in/blog/page/2/\n",
      "Checking site: https://fampay.in/blog/page/3/\n",
      "Finished checking site: https://fampay.in/blog/page/3/, time: 0.32915377616882324\n",
      "Checking site: https://fampay.in/blog/page/3/\n",
      "Finished checking site: https://fampay.in/blog/page/3/, time: 0.3383510112762451\n",
      "Finished checking site: https://fampay.in/blog/page/3/\n",
      "Checking site: https://www.instagram.com/fampay.in/\n",
      "Finished checking site: https://www.instagram.com/fampay.in/, time: 0.7159960269927979\n",
      "Checking site: https://www.instagram.com/fampay.in/\n",
      "Finished checking site: https://www.instagram.com/fampay.in/, time: 1.1475372314453125\n",
      "Finished checking site: https://www.instagram.com/fampay.in/\n",
      "Checking site: https://www.linkedin.com/company/fampay/\n",
      "Finished checking site: https://www.linkedin.com/company/fampay/, time: 0.7313330173492432\n",
      "Checking site: https://www.linkedin.com/company/fampay/\n",
      "Finished checking site: https://www.linkedin.com/company/fampay/, time: 0.5859053134918213\n",
      "Finished checking site: https://www.linkedin.com/company/fampay/\n",
      "Checking site: https://fampay.in/careers\n",
      "Finished checking site: https://fampay.in/careers, time: 0.26272106170654297\n",
      "Checking site: https://fampay.in/careers\n",
      "Finished checking site: https://fampay.in/careers, time: 0.2129831314086914\n",
      "Finished checking site: https://fampay.in/careers\n",
      "Checking site: https://www.instagram.com/lifeatfam/\n",
      "Finished checking site: https://www.instagram.com/lifeatfam/, time: 0.7513730525970459\n",
      "Checking site: https://www.instagram.com/lifeatfam/\n",
      "Finished checking site: https://www.instagram.com/lifeatfam/, time: 1.2050321102142334\n",
      "Finished checking site: https://www.instagram.com/lifeatfam/\n",
      "Checking site: https://www.instagram.com/designatfampay/\n",
      "Finished checking site: https://www.instagram.com/designatfampay/, time: 0.9242753982543945\n",
      "Checking site: https://www.instagram.com/designatfampay/\n",
      "Finished checking site: https://www.instagram.com/designatfampay/, time: 0.9484803676605225\n",
      "Finished checking site: https://www.instagram.com/designatfampay/\n",
      "Checking site: https://fampay.in/partner\n",
      "Finished checking site: https://fampay.in/partner, time: 0.19385695457458496\n",
      "Checking site: https://fampay.in/partner\n",
      "Finished checking site: https://fampay.in/partner, time: 0.2592008113861084\n",
      "Finished checking site: https://fampay.in/partner\n",
      "Checking site: https://fampay.in/faqs\n",
      "Finished checking site: https://fampay.in/faqs, time: 0.33023834228515625\n",
      "Checking site: https://fampay.in/faqs\n",
      "Finished checking site: https://fampay.in/faqs, time: 0.27104878425598145\n",
      "Finished checking site: https://fampay.in/faqs\n",
      "Checking site: https://fampay.in/blog/\n",
      "Finished checking site: https://fampay.in/blog/, time: 0.3247222900390625\n",
      "Checking site: https://fampay.in/blog/\n",
      "Finished checking site: https://fampay.in/blog/, time: 0.38249731063842773\n",
      "Finished checking site: https://fampay.in/blog/\n",
      "Checking site: https://fampay.in/press\n",
      "Finished checking site: https://fampay.in/press, time: 0.22365522384643555\n",
      "Checking site: https://fampay.in/press\n",
      "Finished checking site: https://fampay.in/press, time: 0.2651634216308594\n",
      "Finished checking site: https://fampay.in/press\n",
      "Checking site: https://fampay.in/privacy\n",
      "Finished checking site: https://fampay.in/privacy, time: 0.18803834915161133\n",
      "Checking site: https://fampay.in/privacy\n",
      "Finished checking site: https://fampay.in/privacy, time: 0.2702515125274658\n",
      "Finished checking site: https://fampay.in/privacy\n",
      "Checking site: https://fampay.in/terms\n",
      "Finished checking site: https://fampay.in/terms, time: 0.3673877716064453\n",
      "Checking site: https://fampay.in/terms\n",
      "Finished checking site: https://fampay.in/terms, time: 0.2677011489868164\n",
      "Finished checking site: https://fampay.in/terms\n",
      "Checking site: https://fampay.in/contact\n",
      "Finished checking site: https://fampay.in/contact, time: 0.19268369674682617\n",
      "Checking site: https://fampay.in/contact\n",
      "Finished checking site: https://fampay.in/contact, time: 0.20277976989746094\n",
      "Finished checking site: https://fampay.in/contact\n",
      "Checking site: https://famapp.in/about\n",
      "Finished checking site: https://famapp.in/about, time: 0.0605313777923584\n",
      "Checking site: https://famapp.in/about\n",
      "Finished checking site: https://famapp.in/about, time: 0.05602455139160156\n",
      "Finished checking site: https://famapp.in/about\n",
      "Checking site: https://famapp.in/blog\n",
      "Finished checking site: https://famapp.in/blog, time: 0.20616793632507324\n",
      "Checking site: https://famapp.in/blog\n",
      "Finished checking site: https://famapp.in/blog, time: 0.3689711093902588\n",
      "Finished checking site: https://famapp.in/blog\n",
      "Checking site: https://famapp.in/blog/tag/community/\n",
      "Finished checking site: https://famapp.in/blog/tag/community/, time: 0.1490182876586914\n",
      "Checking site: https://famapp.in/blog/tag/community/\n",
      "Finished checking site: https://famapp.in/blog/tag/community/, time: 0.13994407653808594\n",
      "Finished checking site: https://famapp.in/blog/tag/community/\n",
      "Checking site: https://famapp.in/blog/13-boredom-busters-for-teens/\n",
      "Finished checking site: https://famapp.in/blog/13-boredom-busters-for-teens/, time: 0.16109800338745117\n",
      "Checking site: https://famapp.in/blog/13-boredom-busters-for-teens/\n",
      "Finished checking site: https://famapp.in/blog/13-boredom-busters-for-teens/, time: 0.1400609016418457\n",
      "Finished checking site: https://famapp.in/blog/13-boredom-busters-for-teens/\n",
      "Checking site: https://wa.me/?text=13%20Things%20to%20do%20when%20you're%20bored%20-%20Boredom%20busters%20for%20teens%20%F0%9F%A4%B3%20https://fampay.in/blog/13-boredom-busters-for-teens/\n",
      "Finished checking site: https://wa.me/?text=13%20Things%20to%20do%20when%20you're%20bored%20-%20Boredom%20busters%20for%20teens%20%F0%9F%A4%B3%20https://fampay.in/blog/13-boredom-busters-for-teens/, time: 0.7489089965820312\n",
      "Checking site: https://wa.me/?text=13%20Things%20to%20do%20when%20you're%20bored%20-%20Boredom%20busters%20for%20teens%20%F0%9F%A4%B3%20https://fampay.in/blog/13-boredom-busters-for-teens/\n",
      "Finished checking site: https://wa.me/?text=13%20Things%20to%20do%20when%20you're%20bored%20-%20Boredom%20busters%20for%20teens%20%F0%9F%A4%B3%20https://fampay.in/blog/13-boredom-busters-for-teens/, time: 0.8726346492767334\n",
      "Finished checking site: https://wa.me/?text=13%20Things%20to%20do%20when%20you're%20bored%20-%20Boredom%20busters%20for%20teens%20%F0%9F%A4%B3%20https://fampay.in/blog/13-boredom-busters-for-teens/\n",
      "Checking site: https://www.facebook.com/sharer/sharer.php?u=https://fampay.in/blog/13-boredom-busters-for-teens/\n",
      "Finished checking site: https://www.facebook.com/sharer/sharer.php?u=https://fampay.in/blog/13-boredom-busters-for-teens/, time: 0.60843825340271\n",
      "Checking site: https://www.facebook.com/sharer/sharer.php?u=https://fampay.in/blog/13-boredom-busters-for-teens/\n",
      "Finished checking site: https://www.facebook.com/sharer/sharer.php?u=https://fampay.in/blog/13-boredom-busters-for-teens/, time: 0.997868537902832\n",
      "Finished checking site: https://www.facebook.com/sharer/sharer.php?u=https://fampay.in/blog/13-boredom-busters-for-teens/\n",
      "Checking site: https://twitter.com/intent/tweet?text=13%20Things%20to%20do%20when%20you're%20bored%20-%20Boredom%20busters%20for%20teens%20%F0%9F%A4%B3&url=https://fampay.in/blog/13-boredom-busters-for-teens/\n",
      "Finished checking site: https://twitter.com/intent/tweet?text=13%20Things%20to%20do%20when%20you're%20bored%20-%20Boredom%20busters%20for%20teens%20%F0%9F%A4%B3&url=https://fampay.in/blog/13-boredom-busters-for-teens/, time: 1.2694942951202393\n",
      "Checking site: https://twitter.com/intent/tweet?text=13%20Things%20to%20do%20when%20you're%20bored%20-%20Boredom%20busters%20for%20teens%20%F0%9F%A4%B3&url=https://fampay.in/blog/13-boredom-busters-for-teens/\n",
      "Finished checking site: https://twitter.com/intent/tweet?text=13%20Things%20to%20do%20when%20you're%20bored%20-%20Boredom%20busters%20for%20teens%20%F0%9F%A4%B3&url=https://fampay.in/blog/13-boredom-busters-for-teens/, time: 1.0768373012542725\n",
      "Finished checking site: https://twitter.com/intent/tweet?text=13%20Things%20to%20do%20when%20you're%20bored%20-%20Boredom%20busters%20for%20teens%20%F0%9F%A4%B3&url=https://fampay.in/blog/13-boredom-busters-for-teens/\n",
      "Checking site: https://famapp.in/blog/social-commerce-making-money-just-through-social-media/\n",
      "Finished checking site: https://famapp.in/blog/social-commerce-making-money-just-through-social-media/, time: 0.1987159252166748\n",
      "Checking site: https://famapp.in/blog/social-commerce-making-money-just-through-social-media/\n",
      "Finished checking site: https://famapp.in/blog/social-commerce-making-money-just-through-social-media/, time: 0.19425106048583984\n",
      "Finished checking site: https://famapp.in/blog/social-commerce-making-money-just-through-social-media/\n",
      "Checking site: https://wa.me/?text=Social%20Commerce%20-%20Making%20Money%20just%20through%20Social%20Media!%20%F0%9F%92%B8%20https://fampay.in/blog/social-commerce-making-money-just-through-social-media/\n",
      "Finished checking site: https://wa.me/?text=Social%20Commerce%20-%20Making%20Money%20just%20through%20Social%20Media!%20%F0%9F%92%B8%20https://fampay.in/blog/social-commerce-making-money-just-through-social-media/, time: 0.8028514385223389\n",
      "Checking site: https://wa.me/?text=Social%20Commerce%20-%20Making%20Money%20just%20through%20Social%20Media!%20%F0%9F%92%B8%20https://fampay.in/blog/social-commerce-making-money-just-through-social-media/\n",
      "Finished checking site: https://wa.me/?text=Social%20Commerce%20-%20Making%20Money%20just%20through%20Social%20Media!%20%F0%9F%92%B8%20https://fampay.in/blog/social-commerce-making-money-just-through-social-media/, time: 0.9824001789093018\n",
      "Finished checking site: https://wa.me/?text=Social%20Commerce%20-%20Making%20Money%20just%20through%20Social%20Media!%20%F0%9F%92%B8%20https://fampay.in/blog/social-commerce-making-money-just-through-social-media/\n",
      "Checking site: https://www.facebook.com/sharer/sharer.php?u=https://fampay.in/blog/social-commerce-making-money-just-through-social-media/\n",
      "Finished checking site: https://www.facebook.com/sharer/sharer.php?u=https://fampay.in/blog/social-commerce-making-money-just-through-social-media/, time: 0.5898013114929199\n",
      "Checking site: https://www.facebook.com/sharer/sharer.php?u=https://fampay.in/blog/social-commerce-making-money-just-through-social-media/\n",
      "Finished checking site: https://www.facebook.com/sharer/sharer.php?u=https://fampay.in/blog/social-commerce-making-money-just-through-social-media/, time: 0.9992899894714355\n",
      "Finished checking site: https://www.facebook.com/sharer/sharer.php?u=https://fampay.in/blog/social-commerce-making-money-just-through-social-media/\n",
      "Checking site: https://twitter.com/intent/tweet?text=Social%20Commerce%20-%20Making%20Money%20just%20through%20Social%20Media!%20%F0%9F%92%B8&url=https://fampay.in/blog/social-commerce-making-money-just-through-social-media/\n",
      "Finished checking site: https://twitter.com/intent/tweet?text=Social%20Commerce%20-%20Making%20Money%20just%20through%20Social%20Media!%20%F0%9F%92%B8&url=https://fampay.in/blog/social-commerce-making-money-just-through-social-media/, time: 1.191119909286499\n",
      "Checking site: https://twitter.com/intent/tweet?text=Social%20Commerce%20-%20Making%20Money%20just%20through%20Social%20Media!%20%F0%9F%92%B8&url=https://fampay.in/blog/social-commerce-making-money-just-through-social-media/\n",
      "Finished checking site: https://twitter.com/intent/tweet?text=Social%20Commerce%20-%20Making%20Money%20just%20through%20Social%20Media!%20%F0%9F%92%B8&url=https://fampay.in/blog/social-commerce-making-money-just-through-social-media/, time: 1.061683177947998\n",
      "Finished checking site: https://twitter.com/intent/tweet?text=Social%20Commerce%20-%20Making%20Money%20just%20through%20Social%20Media!%20%F0%9F%92%B8&url=https://fampay.in/blog/social-commerce-making-money-just-through-social-media/\n",
      "Checking site: https://famapp.in/blog/how-can-teens-open-shops-on-instagram/\n",
      "Finished checking site: https://famapp.in/blog/how-can-teens-open-shops-on-instagram/, time: 0.2800278663635254\n",
      "Checking site: https://famapp.in/blog/how-can-teens-open-shops-on-instagram/\n",
      "Finished checking site: https://famapp.in/blog/how-can-teens-open-shops-on-instagram/, time: 0.19367671012878418\n",
      "Finished checking site: https://famapp.in/blog/how-can-teens-open-shops-on-instagram/\n",
      "Checking site: https://wa.me/?text=It's%20time%20for%20teens%20to%20open%20shop%20on%20Instagram!%20%F0%9F%9B%8D%EF%B8%8F%20https://fampay.in/blog/how-can-teens-open-shops-on-instagram/\n",
      "Finished checking site: https://wa.me/?text=It's%20time%20for%20teens%20to%20open%20shop%20on%20Instagram!%20%F0%9F%9B%8D%EF%B8%8F%20https://fampay.in/blog/how-can-teens-open-shops-on-instagram/, time: 0.7124333381652832\n",
      "Checking site: https://wa.me/?text=It's%20time%20for%20teens%20to%20open%20shop%20on%20Instagram!%20%F0%9F%9B%8D%EF%B8%8F%20https://fampay.in/blog/how-can-teens-open-shops-on-instagram/\n",
      "Finished checking site: https://wa.me/?text=It's%20time%20for%20teens%20to%20open%20shop%20on%20Instagram!%20%F0%9F%9B%8D%EF%B8%8F%20https://fampay.in/blog/how-can-teens-open-shops-on-instagram/, time: 0.702427864074707\n",
      "Finished checking site: https://wa.me/?text=It's%20time%20for%20teens%20to%20open%20shop%20on%20Instagram!%20%F0%9F%9B%8D%EF%B8%8F%20https://fampay.in/blog/how-can-teens-open-shops-on-instagram/\n",
      "Checking site: https://www.facebook.com/sharer/sharer.php?u=https://fampay.in/blog/how-can-teens-open-shops-on-instagram/\n",
      "Finished checking site: https://www.facebook.com/sharer/sharer.php?u=https://fampay.in/blog/how-can-teens-open-shops-on-instagram/, time: 0.4681396484375\n",
      "Checking site: https://www.facebook.com/sharer/sharer.php?u=https://fampay.in/blog/how-can-teens-open-shops-on-instagram/\n",
      "Finished checking site: https://www.facebook.com/sharer/sharer.php?u=https://fampay.in/blog/how-can-teens-open-shops-on-instagram/, time: 1.2014784812927246\n",
      "Finished checking site: https://www.facebook.com/sharer/sharer.php?u=https://fampay.in/blog/how-can-teens-open-shops-on-instagram/\n",
      "Checking site: https://twitter.com/intent/tweet?text=It's%20time%20for%20teens%20to%20open%20shop%20on%20Instagram!%20%F0%9F%9B%8D%EF%B8%8F&url=https://fampay.in/blog/how-can-teens-open-shops-on-instagram/\n",
      "Finished checking site: https://twitter.com/intent/tweet?text=It's%20time%20for%20teens%20to%20open%20shop%20on%20Instagram!%20%F0%9F%9B%8D%EF%B8%8F&url=https://fampay.in/blog/how-can-teens-open-shops-on-instagram/, time: 1.0307180881500244\n",
      "Checking site: https://twitter.com/intent/tweet?text=It's%20time%20for%20teens%20to%20open%20shop%20on%20Instagram!%20%F0%9F%9B%8D%EF%B8%8F&url=https://fampay.in/blog/how-can-teens-open-shops-on-instagram/\n",
      "Finished checking site: https://twitter.com/intent/tweet?text=It's%20time%20for%20teens%20to%20open%20shop%20on%20Instagram!%20%F0%9F%9B%8D%EF%B8%8F&url=https://fampay.in/blog/how-can-teens-open-shops-on-instagram/, time: 1.06722092628479\n",
      "Finished checking site: https://twitter.com/intent/tweet?text=It's%20time%20for%20teens%20to%20open%20shop%20on%20Instagram!%20%F0%9F%9B%8D%EF%B8%8F&url=https://fampay.in/blog/how-can-teens-open-shops-on-instagram/\n",
      "Checking site: https://famapp.in/blog/genz-commits-to-fight-covid-19/\n",
      "Finished checking site: https://famapp.in/blog/genz-commits-to-fight-covid-19/, time: 0.2137603759765625\n",
      "Checking site: https://famapp.in/blog/genz-commits-to-fight-covid-19/\n",
      "Finished checking site: https://famapp.in/blog/genz-commits-to-fight-covid-19/, time: 0.1409454345703125\n",
      "Finished checking site: https://famapp.in/blog/genz-commits-to-fight-covid-19/\n",
      "Checking site: https://wa.me/?text=GenZs%20commit%20to%20fight%20Covid-19%20%F0%9F%8E%AF%20https://fampay.in/blog/genz-commits-to-fight-covid-19/\n",
      "Finished checking site: https://wa.me/?text=GenZs%20commit%20to%20fight%20Covid-19%20%F0%9F%8E%AF%20https://fampay.in/blog/genz-commits-to-fight-covid-19/, time: 0.9878463745117188\n",
      "Checking site: https://wa.me/?text=GenZs%20commit%20to%20fight%20Covid-19%20%F0%9F%8E%AF%20https://fampay.in/blog/genz-commits-to-fight-covid-19/\n",
      "Finished checking site: https://wa.me/?text=GenZs%20commit%20to%20fight%20Covid-19%20%F0%9F%8E%AF%20https://fampay.in/blog/genz-commits-to-fight-covid-19/, time: 0.9174156188964844\n",
      "Finished checking site: https://wa.me/?text=GenZs%20commit%20to%20fight%20Covid-19%20%F0%9F%8E%AF%20https://fampay.in/blog/genz-commits-to-fight-covid-19/\n",
      "Checking site: https://www.facebook.com/sharer/sharer.php?u=https://fampay.in/blog/genz-commits-to-fight-covid-19/\n",
      "Finished checking site: https://www.facebook.com/sharer/sharer.php?u=https://fampay.in/blog/genz-commits-to-fight-covid-19/, time: 0.5812644958496094\n",
      "Checking site: https://www.facebook.com/sharer/sharer.php?u=https://fampay.in/blog/genz-commits-to-fight-covid-19/\n",
      "Finished checking site: https://www.facebook.com/sharer/sharer.php?u=https://fampay.in/blog/genz-commits-to-fight-covid-19/, time: 0.9265286922454834\n",
      "Finished checking site: https://www.facebook.com/sharer/sharer.php?u=https://fampay.in/blog/genz-commits-to-fight-covid-19/\n",
      "Checking site: https://twitter.com/intent/tweet?text=GenZs%20commit%20to%20fight%20Covid-19%20%F0%9F%8E%AF&url=https://fampay.in/blog/genz-commits-to-fight-covid-19/\n",
      "Finished checking site: https://twitter.com/intent/tweet?text=GenZs%20commit%20to%20fight%20Covid-19%20%F0%9F%8E%AF&url=https://fampay.in/blog/genz-commits-to-fight-covid-19/, time: 1.1828653812408447\n",
      "Checking site: https://twitter.com/intent/tweet?text=GenZs%20commit%20to%20fight%20Covid-19%20%F0%9F%8E%AF&url=https://fampay.in/blog/genz-commits-to-fight-covid-19/\n",
      "Finished checking site: https://twitter.com/intent/tweet?text=GenZs%20commit%20to%20fight%20Covid-19%20%F0%9F%8E%AF&url=https://fampay.in/blog/genz-commits-to-fight-covid-19/, time: 1.2597169876098633\n",
      "Finished checking site: https://twitter.com/intent/tweet?text=GenZs%20commit%20to%20fight%20Covid-19%20%F0%9F%8E%AF&url=https://fampay.in/blog/genz-commits-to-fight-covid-19/\n",
      "Checking site: https://famapp.in/blog/life-of-an-intern-is-love/\n",
      "Finished checking site: https://famapp.in/blog/life-of-an-intern-is-love/, time: 0.20596075057983398\n",
      "Checking site: https://famapp.in/blog/life-of-an-intern-is-love/\n",
      "Finished checking site: https://famapp.in/blog/life-of-an-intern-is-love/, time: 0.17529058456420898\n",
      "Finished checking site: https://famapp.in/blog/life-of-an-intern-is-love/\n",
      "Checking site: https://wa.me/?text=Life%20of%20an%20Intern%20is%20Love%20%F0%9F%98%8D%20https://fampay.in/blog/life-of-an-intern-is-love/\n",
      "Finished checking site: https://wa.me/?text=Life%20of%20an%20Intern%20is%20Love%20%F0%9F%98%8D%20https://fampay.in/blog/life-of-an-intern-is-love/, time: 0.9742066860198975\n",
      "Checking site: https://wa.me/?text=Life%20of%20an%20Intern%20is%20Love%20%F0%9F%98%8D%20https://fampay.in/blog/life-of-an-intern-is-love/\n",
      "Finished checking site: https://wa.me/?text=Life%20of%20an%20Intern%20is%20Love%20%F0%9F%98%8D%20https://fampay.in/blog/life-of-an-intern-is-love/, time: 0.6461422443389893\n",
      "Finished checking site: https://wa.me/?text=Life%20of%20an%20Intern%20is%20Love%20%F0%9F%98%8D%20https://fampay.in/blog/life-of-an-intern-is-love/\n",
      "Checking site: https://www.facebook.com/sharer/sharer.php?u=https://fampay.in/blog/life-of-an-intern-is-love/\n",
      "Finished checking site: https://www.facebook.com/sharer/sharer.php?u=https://fampay.in/blog/life-of-an-intern-is-love/, time: 0.594174861907959\n",
      "Checking site: https://www.facebook.com/sharer/sharer.php?u=https://fampay.in/blog/life-of-an-intern-is-love/\n",
      "Finished checking site: https://www.facebook.com/sharer/sharer.php?u=https://fampay.in/blog/life-of-an-intern-is-love/, time: 0.9558010101318359\n",
      "Finished checking site: https://www.facebook.com/sharer/sharer.php?u=https://fampay.in/blog/life-of-an-intern-is-love/\n",
      "Checking site: https://twitter.com/intent/tweet?text=Life%20of%20an%20Intern%20is%20Love%20%F0%9F%98%8D&url=https://fampay.in/blog/life-of-an-intern-is-love/\n",
      "Finished checking site: https://twitter.com/intent/tweet?text=Life%20of%20an%20Intern%20is%20Love%20%F0%9F%98%8D&url=https://fampay.in/blog/life-of-an-intern-is-love/, time: 1.0607337951660156\n",
      "Checking site: https://twitter.com/intent/tweet?text=Life%20of%20an%20Intern%20is%20Love%20%F0%9F%98%8D&url=https://fampay.in/blog/life-of-an-intern-is-love/\n",
      "Finished checking site: https://twitter.com/intent/tweet?text=Life%20of%20an%20Intern%20is%20Love%20%F0%9F%98%8D&url=https://fampay.in/blog/life-of-an-intern-is-love/, time: 1.0817534923553467\n",
      "Finished checking site: https://twitter.com/intent/tweet?text=Life%20of%20an%20Intern%20is%20Love%20%F0%9F%98%8D&url=https://fampay.in/blog/life-of-an-intern-is-love/\n",
      "Checking site: https://famapp.in/blog/tag/culture/\n",
      "Finished checking site: https://famapp.in/blog/tag/culture/, time: 0.21245288848876953\n",
      "Checking site: https://famapp.in/blog/tag/culture/\n",
      "Finished checking site: https://famapp.in/blog/tag/culture/, time: 0.20810341835021973\n",
      "Finished checking site: https://famapp.in/blog/tag/culture/\n",
      "Checking site: https://famapp.in/blog/12-queer-led-small-businesses-you-need-to-support-this-pride-month/\n",
      "Finished checking site: https://famapp.in/blog/12-queer-led-small-businesses-you-need-to-support-this-pride-month/, time: 0.38225841522216797\n",
      "Checking site: https://famapp.in/blog/12-queer-led-small-businesses-you-need-to-support-this-pride-month/\n",
      "Finished checking site: https://famapp.in/blog/12-queer-led-small-businesses-you-need-to-support-this-pride-month/, time: 0.1453707218170166\n",
      "Finished checking site: https://famapp.in/blog/12-queer-led-small-businesses-you-need-to-support-this-pride-month/\n",
      "Checking site: https://wa.me/?text=12%20Queer-led%20Small%20Businesses%20You%20Need%20To%20Support%20This%20Pride%20Month%F0%9F%8C%88%20https://fampay.in/blog/12-queer-led-small-businesses-you-need-to-support-this-pride-month/\n",
      "Finished checking site: https://wa.me/?text=12%20Queer-led%20Small%20Businesses%20You%20Need%20To%20Support%20This%20Pride%20Month%F0%9F%8C%88%20https://fampay.in/blog/12-queer-led-small-businesses-you-need-to-support-this-pride-month/, time: 1.26253080368042\n",
      "Checking site: https://wa.me/?text=12%20Queer-led%20Small%20Businesses%20You%20Need%20To%20Support%20This%20Pride%20Month%F0%9F%8C%88%20https://fampay.in/blog/12-queer-led-small-businesses-you-need-to-support-this-pride-month/\n",
      "Finished checking site: https://wa.me/?text=12%20Queer-led%20Small%20Businesses%20You%20Need%20To%20Support%20This%20Pride%20Month%F0%9F%8C%88%20https://fampay.in/blog/12-queer-led-small-businesses-you-need-to-support-this-pride-month/, time: 1.1382839679718018\n",
      "Finished checking site: https://wa.me/?text=12%20Queer-led%20Small%20Businesses%20You%20Need%20To%20Support%20This%20Pride%20Month%F0%9F%8C%88%20https://fampay.in/blog/12-queer-led-small-businesses-you-need-to-support-this-pride-month/\n",
      "Checking site: https://www.facebook.com/sharer/sharer.php?u=https://fampay.in/blog/12-queer-led-small-businesses-you-need-to-support-this-pride-month/\n",
      "Finished checking site: https://www.facebook.com/sharer/sharer.php?u=https://fampay.in/blog/12-queer-led-small-businesses-you-need-to-support-this-pride-month/, time: 0.31100893020629883\n",
      "Checking site: https://www.facebook.com/sharer/sharer.php?u=https://fampay.in/blog/12-queer-led-small-businesses-you-need-to-support-this-pride-month/\n",
      "Finished checking site: https://www.facebook.com/sharer/sharer.php?u=https://fampay.in/blog/12-queer-led-small-businesses-you-need-to-support-this-pride-month/, time: 0.9775254726409912\n",
      "Finished checking site: https://www.facebook.com/sharer/sharer.php?u=https://fampay.in/blog/12-queer-led-small-businesses-you-need-to-support-this-pride-month/\n",
      "Checking site: https://twitter.com/intent/tweet?text=12%20Queer-led%20Small%20Businesses%20You%20Need%20To%20Support%20This%20Pride%20Month%F0%9F%8C%88&url=https://fampay.in/blog/12-queer-led-small-businesses-you-need-to-support-this-pride-month/\n",
      "Finished checking site: https://twitter.com/intent/tweet?text=12%20Queer-led%20Small%20Businesses%20You%20Need%20To%20Support%20This%20Pride%20Month%F0%9F%8C%88&url=https://fampay.in/blog/12-queer-led-small-businesses-you-need-to-support-this-pride-month/, time: 1.0547871589660645\n",
      "Checking site: https://twitter.com/intent/tweet?text=12%20Queer-led%20Small%20Businesses%20You%20Need%20To%20Support%20This%20Pride%20Month%F0%9F%8C%88&url=https://fampay.in/blog/12-queer-led-small-businesses-you-need-to-support-this-pride-month/\n",
      "Finished checking site: https://twitter.com/intent/tweet?text=12%20Queer-led%20Small%20Businesses%20You%20Need%20To%20Support%20This%20Pride%20Month%F0%9F%8C%88&url=https://fampay.in/blog/12-queer-led-small-businesses-you-need-to-support-this-pride-month/, time: 1.2350621223449707\n",
      "Finished checking site: https://twitter.com/intent/tweet?text=12%20Queer-led%20Small%20Businesses%20You%20Need%20To%20Support%20This%20Pride%20Month%F0%9F%8C%88&url=https://fampay.in/blog/12-queer-led-small-businesses-you-need-to-support-this-pride-month/\n",
      "Checking site: https://famapp.in/blog/famstars-we-stress-less-and-accomplish-more/\n",
      "Finished checking site: https://famapp.in/blog/famstars-we-stress-less-and-accomplish-more/, time: 0.2107710838317871\n",
      "Checking site: https://famapp.in/blog/famstars-we-stress-less-and-accomplish-more/\n",
      "Finished checking site: https://famapp.in/blog/famstars-we-stress-less-and-accomplish-more/, time: 0.240447998046875\n",
      "Finished checking site: https://famapp.in/blog/famstars-we-stress-less-and-accomplish-more/\n",
      "Checking site: https://wa.me/?text=We%20stress%20less%20and%20accomplish%20more%3A%20A%20guide%20on%20how%20we%20get%20things%20done%20at%20FamPay!%20%F0%9F%99%8C%20https://fampay.in/blog/famstars-we-stress-less-and-accomplish-more/\n",
      "Finished checking site: https://wa.me/?text=We%20stress%20less%20and%20accomplish%20more%3A%20A%20guide%20on%20how%20we%20get%20things%20done%20at%20FamPay!%20%F0%9F%99%8C%20https://fampay.in/blog/famstars-we-stress-less-and-accomplish-more/, time: 0.9988899230957031\n",
      "Checking site: https://wa.me/?text=We%20stress%20less%20and%20accomplish%20more%3A%20A%20guide%20on%20how%20we%20get%20things%20done%20at%20FamPay!%20%F0%9F%99%8C%20https://fampay.in/blog/famstars-we-stress-less-and-accomplish-more/\n",
      "Finished checking site: https://wa.me/?text=We%20stress%20less%20and%20accomplish%20more%3A%20A%20guide%20on%20how%20we%20get%20things%20done%20at%20FamPay!%20%F0%9F%99%8C%20https://fampay.in/blog/famstars-we-stress-less-and-accomplish-more/, time: 0.748084306716919\n",
      "Finished checking site: https://wa.me/?text=We%20stress%20less%20and%20accomplish%20more%3A%20A%20guide%20on%20how%20we%20get%20things%20done%20at%20FamPay!%20%F0%9F%99%8C%20https://fampay.in/blog/famstars-we-stress-less-and-accomplish-more/\n",
      "Checking site: https://www.facebook.com/sharer/sharer.php?u=https://fampay.in/blog/famstars-we-stress-less-and-accomplish-more/\n",
      "Finished checking site: https://www.facebook.com/sharer/sharer.php?u=https://fampay.in/blog/famstars-we-stress-less-and-accomplish-more/, time: 0.3744635581970215\n",
      "Checking site: https://www.facebook.com/sharer/sharer.php?u=https://fampay.in/blog/famstars-we-stress-less-and-accomplish-more/\n",
      "Finished checking site: https://www.facebook.com/sharer/sharer.php?u=https://fampay.in/blog/famstars-we-stress-less-and-accomplish-more/, time: 0.9187242984771729\n",
      "Finished checking site: https://www.facebook.com/sharer/sharer.php?u=https://fampay.in/blog/famstars-we-stress-less-and-accomplish-more/\n",
      "Checking site: https://twitter.com/intent/tweet?text=We%20stress%20less%20and%20accomplish%20more%3A%20A%20guide%20on%20how%20we%20get%20things%20done%20at%20FamPay!%20%F0%9F%99%8C&url=https://fampay.in/blog/famstars-we-stress-less-and-accomplish-more/\n",
      "Finished checking site: https://twitter.com/intent/tweet?text=We%20stress%20less%20and%20accomplish%20more%3A%20A%20guide%20on%20how%20we%20get%20things%20done%20at%20FamPay!%20%F0%9F%99%8C&url=https://fampay.in/blog/famstars-we-stress-less-and-accomplish-more/, time: 1.202465534210205\n",
      "Checking site: https://twitter.com/intent/tweet?text=We%20stress%20less%20and%20accomplish%20more%3A%20A%20guide%20on%20how%20we%20get%20things%20done%20at%20FamPay!%20%F0%9F%99%8C&url=https://fampay.in/blog/famstars-we-stress-less-and-accomplish-more/\n",
      "Finished checking site: https://twitter.com/intent/tweet?text=We%20stress%20less%20and%20accomplish%20more%3A%20A%20guide%20on%20how%20we%20get%20things%20done%20at%20FamPay!%20%F0%9F%99%8C&url=https://fampay.in/blog/famstars-we-stress-less-and-accomplish-more/, time: 1.29362154006958\n",
      "Finished checking site: https://twitter.com/intent/tweet?text=We%20stress%20less%20and%20accomplish%20more%3A%20A%20guide%20on%20how%20we%20get%20things%20done%20at%20FamPay!%20%F0%9F%99%8C&url=https://fampay.in/blog/famstars-we-stress-less-and-accomplish-more/\n",
      "Checking site: https://famapp.in/blog/3-financial-lessons-from-nature-itself/\n",
      "Finished checking site: https://famapp.in/blog/3-financial-lessons-from-nature-itself/, time: 0.2622561454772949\n",
      "Checking site: https://famapp.in/blog/3-financial-lessons-from-nature-itself/\n",
      "Finished checking site: https://famapp.in/blog/3-financial-lessons-from-nature-itself/, time: 0.21312689781188965\n",
      "Finished checking site: https://famapp.in/blog/3-financial-lessons-from-nature-itself/\n",
      "Checking site: https://wa.me/?text=3%20Financial%20Lessons%20from%20Nature%3A%20An%20Earth%20Day%20special%20%F0%9F%8C%8D%20https://fampay.in/blog/3-financial-lessons-from-nature-itself/\n",
      "Finished checking site: https://wa.me/?text=3%20Financial%20Lessons%20from%20Nature%3A%20An%20Earth%20Day%20special%20%F0%9F%8C%8D%20https://fampay.in/blog/3-financial-lessons-from-nature-itself/, time: 0.6847131252288818\n",
      "Checking site: https://wa.me/?text=3%20Financial%20Lessons%20from%20Nature%3A%20An%20Earth%20Day%20special%20%F0%9F%8C%8D%20https://fampay.in/blog/3-financial-lessons-from-nature-itself/\n",
      "Finished checking site: https://wa.me/?text=3%20Financial%20Lessons%20from%20Nature%3A%20An%20Earth%20Day%20special%20%F0%9F%8C%8D%20https://fampay.in/blog/3-financial-lessons-from-nature-itself/, time: 1.0113563537597656\n",
      "Finished checking site: https://wa.me/?text=3%20Financial%20Lessons%20from%20Nature%3A%20An%20Earth%20Day%20special%20%F0%9F%8C%8D%20https://fampay.in/blog/3-financial-lessons-from-nature-itself/\n",
      "Checking site: https://www.facebook.com/sharer/sharer.php?u=https://fampay.in/blog/3-financial-lessons-from-nature-itself/\n",
      "Finished checking site: https://www.facebook.com/sharer/sharer.php?u=https://fampay.in/blog/3-financial-lessons-from-nature-itself/, time: 0.351015567779541\n",
      "Checking site: https://www.facebook.com/sharer/sharer.php?u=https://fampay.in/blog/3-financial-lessons-from-nature-itself/\n",
      "Finished checking site: https://www.facebook.com/sharer/sharer.php?u=https://fampay.in/blog/3-financial-lessons-from-nature-itself/, time: 0.9405460357666016\n",
      "Finished checking site: https://www.facebook.com/sharer/sharer.php?u=https://fampay.in/blog/3-financial-lessons-from-nature-itself/\n",
      "Checking site: https://twitter.com/intent/tweet?text=3%20Financial%20Lessons%20from%20Nature%3A%20An%20Earth%20Day%20special%20%F0%9F%8C%8D&url=https://fampay.in/blog/3-financial-lessons-from-nature-itself/\n",
      "Finished checking site: https://twitter.com/intent/tweet?text=3%20Financial%20Lessons%20from%20Nature%3A%20An%20Earth%20Day%20special%20%F0%9F%8C%8D&url=https://fampay.in/blog/3-financial-lessons-from-nature-itself/, time: 1.2083704471588135\n",
      "Checking site: https://twitter.com/intent/tweet?text=3%20Financial%20Lessons%20from%20Nature%3A%20An%20Earth%20Day%20special%20%F0%9F%8C%8D&url=https://fampay.in/blog/3-financial-lessons-from-nature-itself/\n",
      "Finished checking site: https://twitter.com/intent/tweet?text=3%20Financial%20Lessons%20from%20Nature%3A%20An%20Earth%20Day%20special%20%F0%9F%8C%8D&url=https://fampay.in/blog/3-financial-lessons-from-nature-itself/, time: 1.173335313796997\n",
      "Finished checking site: https://twitter.com/intent/tweet?text=3%20Financial%20Lessons%20from%20Nature%3A%20An%20Earth%20Day%20special%20%F0%9F%8C%8D&url=https://fampay.in/blog/3-financial-lessons-from-nature-itself/\n",
      "Checking site: https://famapp.in/blog/living-life-genz-style/\n",
      "Finished checking site: https://famapp.in/blog/living-life-genz-style/, time: 0.27869510650634766\n",
      "Checking site: https://famapp.in/blog/living-life-genz-style/\n",
      "Finished checking site: https://famapp.in/blog/living-life-genz-style/, time: 0.15123224258422852\n",
      "Finished checking site: https://famapp.in/blog/living-life-genz-style/\n",
      "Checking site: https://wa.me/?text=Living%20Life%2C%20GenZ%20Style%20%F0%9F%98%8E%20https://fampay.in/blog/living-life-genz-style/\n",
      "Finished checking site: https://wa.me/?text=Living%20Life%2C%20GenZ%20Style%20%F0%9F%98%8E%20https://fampay.in/blog/living-life-genz-style/, time: 0.9435272216796875\n",
      "Checking site: https://wa.me/?text=Living%20Life%2C%20GenZ%20Style%20%F0%9F%98%8E%20https://fampay.in/blog/living-life-genz-style/\n",
      "Finished checking site: https://wa.me/?text=Living%20Life%2C%20GenZ%20Style%20%F0%9F%98%8E%20https://fampay.in/blog/living-life-genz-style/, time: 0.9517092704772949\n",
      "Finished checking site: https://wa.me/?text=Living%20Life%2C%20GenZ%20Style%20%F0%9F%98%8E%20https://fampay.in/blog/living-life-genz-style/\n",
      "Checking site: https://www.facebook.com/sharer/sharer.php?u=https://fampay.in/blog/living-life-genz-style/\n",
      "Finished checking site: https://www.facebook.com/sharer/sharer.php?u=https://fampay.in/blog/living-life-genz-style/, time: 0.6049103736877441\n",
      "Checking site: https://www.facebook.com/sharer/sharer.php?u=https://fampay.in/blog/living-life-genz-style/\n",
      "Finished checking site: https://www.facebook.com/sharer/sharer.php?u=https://fampay.in/blog/living-life-genz-style/, time: 1.5092880725860596\n",
      "Finished checking site: https://www.facebook.com/sharer/sharer.php?u=https://fampay.in/blog/living-life-genz-style/\n",
      "Checking site: https://twitter.com/intent/tweet?text=Living%20Life%2C%20GenZ%20Style%20%F0%9F%98%8E&url=https://fampay.in/blog/living-life-genz-style/\n",
      "Finished checking site: https://twitter.com/intent/tweet?text=Living%20Life%2C%20GenZ%20Style%20%F0%9F%98%8E&url=https://fampay.in/blog/living-life-genz-style/, time: 1.1796834468841553\n",
      "Checking site: https://twitter.com/intent/tweet?text=Living%20Life%2C%20GenZ%20Style%20%F0%9F%98%8E&url=https://fampay.in/blog/living-life-genz-style/\n",
      "Finished checking site: https://twitter.com/intent/tweet?text=Living%20Life%2C%20GenZ%20Style%20%F0%9F%98%8E&url=https://fampay.in/blog/living-life-genz-style/, time: 1.206756591796875\n",
      "Finished checking site: https://twitter.com/intent/tweet?text=Living%20Life%2C%20GenZ%20Style%20%F0%9F%98%8E&url=https://fampay.in/blog/living-life-genz-style/\n",
      "Checking site: https://famapp.in/blog/remote-working-divided-by-distance-united-by-mission/\n",
      "Finished checking site: https://famapp.in/blog/remote-working-divided-by-distance-united-by-mission/, time: 0.2363133430480957\n",
      "Checking site: https://famapp.in/blog/remote-working-divided-by-distance-united-by-mission/\n",
      "Finished checking site: https://famapp.in/blog/remote-working-divided-by-distance-united-by-mission/, time: 0.18167781829833984\n",
      "Finished checking site: https://famapp.in/blog/remote-working-divided-by-distance-united-by-mission/\n",
      "Checking site: https://wa.me/?text=Remote%20Working%20%3A%20Divided%20by%20Distance%2C%20United%20by%20Mission%20https://fampay.in/blog/remote-working-divided-by-distance-united-by-mission/\n",
      "Finished checking site: https://wa.me/?text=Remote%20Working%20%3A%20Divided%20by%20Distance%2C%20United%20by%20Mission%20https://fampay.in/blog/remote-working-divided-by-distance-united-by-mission/, time: 0.8964149951934814\n",
      "Checking site: https://wa.me/?text=Remote%20Working%20%3A%20Divided%20by%20Distance%2C%20United%20by%20Mission%20https://fampay.in/blog/remote-working-divided-by-distance-united-by-mission/\n",
      "Finished checking site: https://wa.me/?text=Remote%20Working%20%3A%20Divided%20by%20Distance%2C%20United%20by%20Mission%20https://fampay.in/blog/remote-working-divided-by-distance-united-by-mission/, time: 0.750934362411499\n",
      "Finished checking site: https://wa.me/?text=Remote%20Working%20%3A%20Divided%20by%20Distance%2C%20United%20by%20Mission%20https://fampay.in/blog/remote-working-divided-by-distance-united-by-mission/\n",
      "Checking site: https://www.facebook.com/sharer/sharer.php?u=https://fampay.in/blog/remote-working-divided-by-distance-united-by-mission/\n",
      "Finished checking site: https://www.facebook.com/sharer/sharer.php?u=https://fampay.in/blog/remote-working-divided-by-distance-united-by-mission/, time: 1.0546107292175293\n",
      "Checking site: https://www.facebook.com/sharer/sharer.php?u=https://fampay.in/blog/remote-working-divided-by-distance-united-by-mission/\n",
      "Finished checking site: https://www.facebook.com/sharer/sharer.php?u=https://fampay.in/blog/remote-working-divided-by-distance-united-by-mission/, time: 1.266711950302124\n",
      "Finished checking site: https://www.facebook.com/sharer/sharer.php?u=https://fampay.in/blog/remote-working-divided-by-distance-united-by-mission/\n",
      "Checking site: https://twitter.com/intent/tweet?text=Remote%20Working%20%3A%20Divided%20by%20Distance%2C%20United%20by%20Mission&url=https://fampay.in/blog/remote-working-divided-by-distance-united-by-mission/\n",
      "Finished checking site: https://twitter.com/intent/tweet?text=Remote%20Working%20%3A%20Divided%20by%20Distance%2C%20United%20by%20Mission&url=https://fampay.in/blog/remote-working-divided-by-distance-united-by-mission/, time: 1.0555040836334229\n",
      "Checking site: https://twitter.com/intent/tweet?text=Remote%20Working%20%3A%20Divided%20by%20Distance%2C%20United%20by%20Mission&url=https://fampay.in/blog/remote-working-divided-by-distance-united-by-mission/\n",
      "Finished checking site: https://twitter.com/intent/tweet?text=Remote%20Working%20%3A%20Divided%20by%20Distance%2C%20United%20by%20Mission&url=https://fampay.in/blog/remote-working-divided-by-distance-united-by-mission/, time: 1.215001106262207\n",
      "Finished checking site: https://twitter.com/intent/tweet?text=Remote%20Working%20%3A%20Divided%20by%20Distance%2C%20United%20by%20Mission&url=https://fampay.in/blog/remote-working-divided-by-distance-united-by-mission/\n",
      "Checking site: https://famapp.in/blog/tag/famsays/\n",
      "Finished checking site: https://famapp.in/blog/tag/famsays/, time: 0.45279812812805176\n",
      "Checking site: https://famapp.in/blog/tag/famsays/\n",
      "Finished checking site: https://famapp.in/blog/tag/famsays/, time: 0.23063158988952637\n",
      "Finished checking site: https://famapp.in/blog/tag/famsays/\n",
      "Checking site: https://famapp.in/blog/a-practical-guide-to-app-store-optimization/\n",
      "Finished checking site: https://famapp.in/blog/a-practical-guide-to-app-store-optimization/, time: 0.1510934829711914\n",
      "Checking site: https://famapp.in/blog/a-practical-guide-to-app-store-optimization/\n",
      "Finished checking site: https://famapp.in/blog/a-practical-guide-to-app-store-optimization/, time: 0.18137717247009277\n",
      "Finished checking site: https://famapp.in/blog/a-practical-guide-to-app-store-optimization/\n",
      "Checking site: https://wa.me/?text=A%20practical%20guide%20to%20App%20Store%20Optimization%20(ASO)%20%F0%9F%93%B1%20https://fampay.in/blog/a-practical-guide-to-app-store-optimization/\n",
      "Finished checking site: https://wa.me/?text=A%20practical%20guide%20to%20App%20Store%20Optimization%20(ASO)%20%F0%9F%93%B1%20https://fampay.in/blog/a-practical-guide-to-app-store-optimization/, time: 0.702460765838623\n",
      "Checking site: https://wa.me/?text=A%20practical%20guide%20to%20App%20Store%20Optimization%20(ASO)%20%F0%9F%93%B1%20https://fampay.in/blog/a-practical-guide-to-app-store-optimization/\n",
      "Finished checking site: https://wa.me/?text=A%20practical%20guide%20to%20App%20Store%20Optimization%20(ASO)%20%F0%9F%93%B1%20https://fampay.in/blog/a-practical-guide-to-app-store-optimization/, time: 1.073261022567749\n",
      "Finished checking site: https://wa.me/?text=A%20practical%20guide%20to%20App%20Store%20Optimization%20(ASO)%20%F0%9F%93%B1%20https://fampay.in/blog/a-practical-guide-to-app-store-optimization/\n",
      "Checking site: https://www.facebook.com/sharer/sharer.php?u=https://fampay.in/blog/a-practical-guide-to-app-store-optimization/\n",
      "Finished checking site: https://www.facebook.com/sharer/sharer.php?u=https://fampay.in/blog/a-practical-guide-to-app-store-optimization/, time: 0.8444569110870361\n",
      "Checking site: https://www.facebook.com/sharer/sharer.php?u=https://fampay.in/blog/a-practical-guide-to-app-store-optimization/\n",
      "Finished checking site: https://www.facebook.com/sharer/sharer.php?u=https://fampay.in/blog/a-practical-guide-to-app-store-optimization/, time: 0.9068934917449951\n",
      "Finished checking site: https://www.facebook.com/sharer/sharer.php?u=https://fampay.in/blog/a-practical-guide-to-app-store-optimization/\n",
      "Checking site: https://twitter.com/intent/tweet?text=A%20practical%20guide%20to%20App%20Store%20Optimization%20(ASO)%20%F0%9F%93%B1&url=https://fampay.in/blog/a-practical-guide-to-app-store-optimization/\n",
      "Finished checking site: https://twitter.com/intent/tweet?text=A%20practical%20guide%20to%20App%20Store%20Optimization%20(ASO)%20%F0%9F%93%B1&url=https://fampay.in/blog/a-practical-guide-to-app-store-optimization/, time: 1.0393285751342773\n",
      "Checking site: https://twitter.com/intent/tweet?text=A%20practical%20guide%20to%20App%20Store%20Optimization%20(ASO)%20%F0%9F%93%B1&url=https://fampay.in/blog/a-practical-guide-to-app-store-optimization/\n",
      "Finished checking site: https://twitter.com/intent/tweet?text=A%20practical%20guide%20to%20App%20Store%20Optimization%20(ASO)%20%F0%9F%93%B1&url=https://fampay.in/blog/a-practical-guide-to-app-store-optimization/, time: 1.0409438610076904\n",
      "Finished checking site: https://twitter.com/intent/tweet?text=A%20practical%20guide%20to%20App%20Store%20Optimization%20(ASO)%20%F0%9F%93%B1&url=https://fampay.in/blog/a-practical-guide-to-app-store-optimization/\n",
      "Checking site: https://famapp.in/blog/365-days-of-internship-at-fampay/\n",
      "Finished checking site: https://famapp.in/blog/365-days-of-internship-at-fampay/, time: 0.17973899841308594\n",
      "Checking site: https://famapp.in/blog/365-days-of-internship-at-fampay/\n",
      "Finished checking site: https://famapp.in/blog/365-days-of-internship-at-fampay/, time: 0.20298051834106445\n",
      "Finished checking site: https://famapp.in/blog/365-days-of-internship-at-fampay/\n",
      "Checking site: https://wa.me/?text=My%20365%20Days%20of%20Internship%20at%20FamPay%20%F0%9F%9A%80%20https://fampay.in/blog/365-days-of-internship-at-fampay/\n",
      "Finished checking site: https://wa.me/?text=My%20365%20Days%20of%20Internship%20at%20FamPay%20%F0%9F%9A%80%20https://fampay.in/blog/365-days-of-internship-at-fampay/, time: 0.7094194889068604\n",
      "Checking site: https://wa.me/?text=My%20365%20Days%20of%20Internship%20at%20FamPay%20%F0%9F%9A%80%20https://fampay.in/blog/365-days-of-internship-at-fampay/\n",
      "Finished checking site: https://wa.me/?text=My%20365%20Days%20of%20Internship%20at%20FamPay%20%F0%9F%9A%80%20https://fampay.in/blog/365-days-of-internship-at-fampay/, time: 0.7039604187011719\n",
      "Finished checking site: https://wa.me/?text=My%20365%20Days%20of%20Internship%20at%20FamPay%20%F0%9F%9A%80%20https://fampay.in/blog/365-days-of-internship-at-fampay/\n",
      "Checking site: https://www.facebook.com/sharer/sharer.php?u=https://fampay.in/blog/365-days-of-internship-at-fampay/\n",
      "Finished checking site: https://www.facebook.com/sharer/sharer.php?u=https://fampay.in/blog/365-days-of-internship-at-fampay/, time: 0.7973184585571289\n",
      "Checking site: https://www.facebook.com/sharer/sharer.php?u=https://fampay.in/blog/365-days-of-internship-at-fampay/\n",
      "Finished checking site: https://www.facebook.com/sharer/sharer.php?u=https://fampay.in/blog/365-days-of-internship-at-fampay/, time: 1.4313485622406006\n",
      "Finished checking site: https://www.facebook.com/sharer/sharer.php?u=https://fampay.in/blog/365-days-of-internship-at-fampay/\n",
      "Checking site: https://twitter.com/intent/tweet?text=My%20365%20Days%20of%20Internship%20at%20FamPay%20%F0%9F%9A%80&url=https://fampay.in/blog/365-days-of-internship-at-fampay/\n",
      "Finished checking site: https://twitter.com/intent/tweet?text=My%20365%20Days%20of%20Internship%20at%20FamPay%20%F0%9F%9A%80&url=https://fampay.in/blog/365-days-of-internship-at-fampay/, time: 1.0085813999176025\n",
      "Checking site: https://twitter.com/intent/tweet?text=My%20365%20Days%20of%20Internship%20at%20FamPay%20%F0%9F%9A%80&url=https://fampay.in/blog/365-days-of-internship-at-fampay/\n",
      "Finished checking site: https://twitter.com/intent/tweet?text=My%20365%20Days%20of%20Internship%20at%20FamPay%20%F0%9F%9A%80&url=https://fampay.in/blog/365-days-of-internship-at-fampay/, time: 1.0540030002593994\n",
      "Finished checking site: https://twitter.com/intent/tweet?text=My%20365%20Days%20of%20Internship%20at%20FamPay%20%F0%9F%9A%80&url=https://fampay.in/blog/365-days-of-internship-at-fampay/\n",
      "Checking site: https://famapp.in/blog/how-instagram-reel-can-really-grow-your-brand/\n",
      "Finished checking site: https://famapp.in/blog/how-instagram-reel-can-really-grow-your-brand/, time: 0.19887900352478027\n",
      "Checking site: https://famapp.in/blog/how-instagram-reel-can-really-grow-your-brand/\n",
      "Finished checking site: https://famapp.in/blog/how-instagram-reel-can-really-grow-your-brand/, time: 0.193223237991333\n",
      "Finished checking site: https://famapp.in/blog/how-instagram-reel-can-really-grow-your-brand/\n",
      "Checking site: https://wa.me/?text=How%20Instagram%20Reel%20can%20really%20grow%20your%20brand%20%F0%9F%A4%B3%20https://fampay.in/blog/how-instagram-reel-can-really-grow-your-brand/\n",
      "Finished checking site: https://wa.me/?text=How%20Instagram%20Reel%20can%20really%20grow%20your%20brand%20%F0%9F%A4%B3%20https://fampay.in/blog/how-instagram-reel-can-really-grow-your-brand/, time: 1.4298923015594482\n",
      "Checking site: https://wa.me/?text=How%20Instagram%20Reel%20can%20really%20grow%20your%20brand%20%F0%9F%A4%B3%20https://fampay.in/blog/how-instagram-reel-can-really-grow-your-brand/\n",
      "Finished checking site: https://wa.me/?text=How%20Instagram%20Reel%20can%20really%20grow%20your%20brand%20%F0%9F%A4%B3%20https://fampay.in/blog/how-instagram-reel-can-really-grow-your-brand/, time: 0.8701612949371338\n",
      "Finished checking site: https://wa.me/?text=How%20Instagram%20Reel%20can%20really%20grow%20your%20brand%20%F0%9F%A4%B3%20https://fampay.in/blog/how-instagram-reel-can-really-grow-your-brand/\n",
      "Checking site: https://www.facebook.com/sharer/sharer.php?u=https://fampay.in/blog/how-instagram-reel-can-really-grow-your-brand/\n",
      "Finished checking site: https://www.facebook.com/sharer/sharer.php?u=https://fampay.in/blog/how-instagram-reel-can-really-grow-your-brand/, time: 0.351468563079834\n",
      "Checking site: https://www.facebook.com/sharer/sharer.php?u=https://fampay.in/blog/how-instagram-reel-can-really-grow-your-brand/\n",
      "Finished checking site: https://www.facebook.com/sharer/sharer.php?u=https://fampay.in/blog/how-instagram-reel-can-really-grow-your-brand/, time: 0.9768984317779541\n",
      "Finished checking site: https://www.facebook.com/sharer/sharer.php?u=https://fampay.in/blog/how-instagram-reel-can-really-grow-your-brand/\n",
      "Checking site: https://twitter.com/intent/tweet?text=How%20Instagram%20Reel%20can%20really%20grow%20your%20brand%20%F0%9F%A4%B3&url=https://fampay.in/blog/how-instagram-reel-can-really-grow-your-brand/\n",
      "Finished checking site: https://twitter.com/intent/tweet?text=How%20Instagram%20Reel%20can%20really%20grow%20your%20brand%20%F0%9F%A4%B3&url=https://fampay.in/blog/how-instagram-reel-can-really-grow-your-brand/, time: 1.036384105682373\n",
      "Checking site: https://twitter.com/intent/tweet?text=How%20Instagram%20Reel%20can%20really%20grow%20your%20brand%20%F0%9F%A4%B3&url=https://fampay.in/blog/how-instagram-reel-can-really-grow-your-brand/\n",
      "Finished checking site: https://twitter.com/intent/tweet?text=How%20Instagram%20Reel%20can%20really%20grow%20your%20brand%20%F0%9F%A4%B3&url=https://fampay.in/blog/how-instagram-reel-can-really-grow-your-brand/, time: 1.1730892658233643\n",
      "Finished checking site: https://twitter.com/intent/tweet?text=How%20Instagram%20Reel%20can%20really%20grow%20your%20brand%20%F0%9F%A4%B3&url=https://fampay.in/blog/how-instagram-reel-can-really-grow-your-brand/\n",
      "Checking site: https://famapp.in/blog/config-variables-changing-system-behaviour-live-in-production/\n",
      "Finished checking site: https://famapp.in/blog/config-variables-changing-system-behaviour-live-in-production/, time: 0.23191547393798828\n",
      "Checking site: https://famapp.in/blog/config-variables-changing-system-behaviour-live-in-production/\n",
      "Finished checking site: https://famapp.in/blog/config-variables-changing-system-behaviour-live-in-production/, time: 0.23002004623413086\n",
      "Finished checking site: https://famapp.in/blog/config-variables-changing-system-behaviour-live-in-production/\n",
      "Checking site: https://wa.me/?text=Config%20Variables%3A%20Changing%20System%20Behaviour%20Live%20In%20Production%20%F0%9F%91%A8%E2%80%8D%F0%9F%92%BB%20https://fampay.in/blog/config-variables-changing-system-behaviour-live-in-production/\n",
      "Finished checking site: https://wa.me/?text=Config%20Variables%3A%20Changing%20System%20Behaviour%20Live%20In%20Production%20%F0%9F%91%A8%E2%80%8D%F0%9F%92%BB%20https://fampay.in/blog/config-variables-changing-system-behaviour-live-in-production/, time: 1.4336779117584229\n",
      "Checking site: https://wa.me/?text=Config%20Variables%3A%20Changing%20System%20Behaviour%20Live%20In%20Production%20%F0%9F%91%A8%E2%80%8D%F0%9F%92%BB%20https://fampay.in/blog/config-variables-changing-system-behaviour-live-in-production/\n",
      "Finished checking site: https://wa.me/?text=Config%20Variables%3A%20Changing%20System%20Behaviour%20Live%20In%20Production%20%F0%9F%91%A8%E2%80%8D%F0%9F%92%BB%20https://fampay.in/blog/config-variables-changing-system-behaviour-live-in-production/, time: 0.7144982814788818\n",
      "Finished checking site: https://wa.me/?text=Config%20Variables%3A%20Changing%20System%20Behaviour%20Live%20In%20Production%20%F0%9F%91%A8%E2%80%8D%F0%9F%92%BB%20https://fampay.in/blog/config-variables-changing-system-behaviour-live-in-production/\n",
      "Checking site: https://www.facebook.com/sharer/sharer.php?u=https://fampay.in/blog/config-variables-changing-system-behaviour-live-in-production/\n",
      "Finished checking site: https://www.facebook.com/sharer/sharer.php?u=https://fampay.in/blog/config-variables-changing-system-behaviour-live-in-production/, time: 0.6345434188842773\n",
      "Checking site: https://www.facebook.com/sharer/sharer.php?u=https://fampay.in/blog/config-variables-changing-system-behaviour-live-in-production/\n",
      "Finished checking site: https://www.facebook.com/sharer/sharer.php?u=https://fampay.in/blog/config-variables-changing-system-behaviour-live-in-production/, time: 0.9138219356536865\n",
      "Finished checking site: https://www.facebook.com/sharer/sharer.php?u=https://fampay.in/blog/config-variables-changing-system-behaviour-live-in-production/\n",
      "Checking site: https://twitter.com/intent/tweet?text=Config%20Variables%3A%20Changing%20System%20Behaviour%20Live%20In%20Production%20%F0%9F%91%A8%E2%80%8D%F0%9F%92%BB&url=https://fampay.in/blog/config-variables-changing-system-behaviour-live-in-production/\n",
      "Finished checking site: https://twitter.com/intent/tweet?text=Config%20Variables%3A%20Changing%20System%20Behaviour%20Live%20In%20Production%20%F0%9F%91%A8%E2%80%8D%F0%9F%92%BB&url=https://fampay.in/blog/config-variables-changing-system-behaviour-live-in-production/, time: 1.34303617477417\n",
      "Checking site: https://twitter.com/intent/tweet?text=Config%20Variables%3A%20Changing%20System%20Behaviour%20Live%20In%20Production%20%F0%9F%91%A8%E2%80%8D%F0%9F%92%BB&url=https://fampay.in/blog/config-variables-changing-system-behaviour-live-in-production/\n",
      "Finished checking site: https://twitter.com/intent/tweet?text=Config%20Variables%3A%20Changing%20System%20Behaviour%20Live%20In%20Production%20%F0%9F%91%A8%E2%80%8D%F0%9F%92%BB&url=https://fampay.in/blog/config-variables-changing-system-behaviour-live-in-production/, time: 1.14570951461792\n",
      "Finished checking site: https://twitter.com/intent/tweet?text=Config%20Variables%3A%20Changing%20System%20Behaviour%20Live%20In%20Production%20%F0%9F%91%A8%E2%80%8D%F0%9F%92%BB&url=https://fampay.in/blog/config-variables-changing-system-behaviour-live-in-production/\n",
      "Checking site: https://famapp.in/blog/a-marketers-guide-to-moment-marketing/\n",
      "Finished checking site: https://famapp.in/blog/a-marketers-guide-to-moment-marketing/, time: 0.18501996994018555\n",
      "Checking site: https://famapp.in/blog/a-marketers-guide-to-moment-marketing/\n",
      "Finished checking site: https://famapp.in/blog/a-marketers-guide-to-moment-marketing/, time: 0.20646977424621582\n",
      "Finished checking site: https://famapp.in/blog/a-marketers-guide-to-moment-marketing/\n",
      "Checking site: https://wa.me/?text=A%20marketers%20guide%20to%20moment%20marketing%20%E2%8F%B0%20https://fampay.in/blog/a-marketers-guide-to-moment-marketing/\n",
      "Finished checking site: https://wa.me/?text=A%20marketers%20guide%20to%20moment%20marketing%20%E2%8F%B0%20https://fampay.in/blog/a-marketers-guide-to-moment-marketing/, time: 1.074561357498169\n",
      "Checking site: https://wa.me/?text=A%20marketers%20guide%20to%20moment%20marketing%20%E2%8F%B0%20https://fampay.in/blog/a-marketers-guide-to-moment-marketing/\n",
      "Finished checking site: https://wa.me/?text=A%20marketers%20guide%20to%20moment%20marketing%20%E2%8F%B0%20https://fampay.in/blog/a-marketers-guide-to-moment-marketing/, time: 0.9858522415161133\n",
      "Finished checking site: https://wa.me/?text=A%20marketers%20guide%20to%20moment%20marketing%20%E2%8F%B0%20https://fampay.in/blog/a-marketers-guide-to-moment-marketing/\n",
      "Checking site: https://www.facebook.com/sharer/sharer.php?u=https://fampay.in/blog/a-marketers-guide-to-moment-marketing/\n",
      "Finished checking site: https://www.facebook.com/sharer/sharer.php?u=https://fampay.in/blog/a-marketers-guide-to-moment-marketing/, time: 0.3671853542327881\n",
      "Checking site: https://www.facebook.com/sharer/sharer.php?u=https://fampay.in/blog/a-marketers-guide-to-moment-marketing/\n",
      "Finished checking site: https://www.facebook.com/sharer/sharer.php?u=https://fampay.in/blog/a-marketers-guide-to-moment-marketing/, time: 0.9424123764038086\n",
      "Finished checking site: https://www.facebook.com/sharer/sharer.php?u=https://fampay.in/blog/a-marketers-guide-to-moment-marketing/\n",
      "Checking site: https://twitter.com/intent/tweet?text=A%20marketers%20guide%20to%20moment%20marketing%20%E2%8F%B0&url=https://fampay.in/blog/a-marketers-guide-to-moment-marketing/\n",
      "Finished checking site: https://twitter.com/intent/tweet?text=A%20marketers%20guide%20to%20moment%20marketing%20%E2%8F%B0&url=https://fampay.in/blog/a-marketers-guide-to-moment-marketing/, time: 1.0192527770996094\n",
      "Checking site: https://twitter.com/intent/tweet?text=A%20marketers%20guide%20to%20moment%20marketing%20%E2%8F%B0&url=https://fampay.in/blog/a-marketers-guide-to-moment-marketing/\n",
      "Finished checking site: https://twitter.com/intent/tweet?text=A%20marketers%20guide%20to%20moment%20marketing%20%E2%8F%B0&url=https://fampay.in/blog/a-marketers-guide-to-moment-marketing/, time: 1.007110595703125\n",
      "Finished checking site: https://twitter.com/intent/tweet?text=A%20marketers%20guide%20to%20moment%20marketing%20%E2%8F%B0&url=https://fampay.in/blog/a-marketers-guide-to-moment-marketing/\n",
      "Checking site: https://www.linkedin.com/company/fampay/mycompany/\n",
      "Finished checking site: https://www.linkedin.com/company/fampay/mycompany/, time: 0.5273993015289307\n",
      "Checking site: https://www.linkedin.com/company/fampay/mycompany/\n",
      "Finished checking site: https://www.linkedin.com/company/fampay/mycompany/, time: 0.5099852085113525\n",
      "Finished checking site: https://www.linkedin.com/company/fampay/mycompany/\n",
      "Checking site: https://famapp.in/blog/the-story-behind-fampays-tech-stack/\n",
      "Finished checking site: https://famapp.in/blog/the-story-behind-fampays-tech-stack/, time: 0.23151874542236328\n",
      "Checking site: https://famapp.in/blog/the-story-behind-fampays-tech-stack/\n",
      "Finished checking site: https://famapp.in/blog/the-story-behind-fampays-tech-stack/, time: 0.3007473945617676\n",
      "Finished checking site: https://famapp.in/blog/the-story-behind-fampays-tech-stack/\n",
      "Checking site: https://wa.me/?text=The%20Story%20Behind%20FamPay's%20Tech%20Stack%F0%9F%9A%80%20https://fampay.in/blog/the-story-behind-fampays-tech-stack/\n",
      "Finished checking site: https://wa.me/?text=The%20Story%20Behind%20FamPay's%20Tech%20Stack%F0%9F%9A%80%20https://fampay.in/blog/the-story-behind-fampays-tech-stack/, time: 0.9888420104980469\n",
      "Checking site: https://wa.me/?text=The%20Story%20Behind%20FamPay's%20Tech%20Stack%F0%9F%9A%80%20https://fampay.in/blog/the-story-behind-fampays-tech-stack/\n",
      "Finished checking site: https://wa.me/?text=The%20Story%20Behind%20FamPay's%20Tech%20Stack%F0%9F%9A%80%20https://fampay.in/blog/the-story-behind-fampays-tech-stack/, time: 0.9080369472503662\n",
      "Finished checking site: https://wa.me/?text=The%20Story%20Behind%20FamPay's%20Tech%20Stack%F0%9F%9A%80%20https://fampay.in/blog/the-story-behind-fampays-tech-stack/\n",
      "Checking site: https://www.facebook.com/sharer/sharer.php?u=https://fampay.in/blog/the-story-behind-fampays-tech-stack/\n",
      "Finished checking site: https://www.facebook.com/sharer/sharer.php?u=https://fampay.in/blog/the-story-behind-fampays-tech-stack/, time: 0.37691473960876465\n",
      "Checking site: https://www.facebook.com/sharer/sharer.php?u=https://fampay.in/blog/the-story-behind-fampays-tech-stack/\n",
      "Finished checking site: https://www.facebook.com/sharer/sharer.php?u=https://fampay.in/blog/the-story-behind-fampays-tech-stack/, time: 0.9427554607391357\n",
      "Finished checking site: https://www.facebook.com/sharer/sharer.php?u=https://fampay.in/blog/the-story-behind-fampays-tech-stack/\n",
      "Checking site: https://twitter.com/intent/tweet?text=The%20Story%20Behind%20FamPay's%20Tech%20Stack%F0%9F%9A%80&url=https://fampay.in/blog/the-story-behind-fampays-tech-stack/\n",
      "Finished checking site: https://twitter.com/intent/tweet?text=The%20Story%20Behind%20FamPay's%20Tech%20Stack%F0%9F%9A%80&url=https://fampay.in/blog/the-story-behind-fampays-tech-stack/, time: 1.1857953071594238\n",
      "Checking site: https://twitter.com/intent/tweet?text=The%20Story%20Behind%20FamPay's%20Tech%20Stack%F0%9F%9A%80&url=https://fampay.in/blog/the-story-behind-fampays-tech-stack/\n",
      "Finished checking site: https://twitter.com/intent/tweet?text=The%20Story%20Behind%20FamPay's%20Tech%20Stack%F0%9F%9A%80&url=https://fampay.in/blog/the-story-behind-fampays-tech-stack/, time: 1.0584716796875\n",
      "Finished checking site: https://twitter.com/intent/tweet?text=The%20Story%20Behind%20FamPay's%20Tech%20Stack%F0%9F%9A%80&url=https://fampay.in/blog/the-story-behind-fampays-tech-stack/\n",
      "Checking site: https://famapp.in/blog/tag/famsays/page/2/\n",
      "Finished checking site: https://famapp.in/blog/tag/famsays/page/2/, time: 0.24798274040222168\n",
      "Checking site: https://famapp.in/blog/tag/famsays/page/2/\n",
      "Finished checking site: https://famapp.in/blog/tag/famsays/page/2/, time: 0.1912069320678711\n",
      "Finished checking site: https://famapp.in/blog/tag/famsays/page/2/\n",
      "Checking site: https://famapp.in/blog/getting-your-generations-right-millennials-v-s-genz/\n",
      "Finished checking site: https://famapp.in/blog/getting-your-generations-right-millennials-v-s-genz/, time: 0.1787567138671875\n",
      "Checking site: https://famapp.in/blog/getting-your-generations-right-millennials-v-s-genz/\n",
      "Finished checking site: https://famapp.in/blog/getting-your-generations-right-millennials-v-s-genz/, time: 0.22504138946533203\n",
      "Finished checking site: https://famapp.in/blog/getting-your-generations-right-millennials-v-s-genz/\n",
      "Checking site: https://wa.me/?text=Getting%20your%20Generations%20Right%2C%20Millennials%20V%2FS%20GenZ!%20%F0%9F%A4%BC%E2%80%8D%E2%99%82%EF%B8%8F%20https://fampay.in/blog/getting-your-generations-right-millennials-v-s-genz/\n",
      "Finished checking site: https://wa.me/?text=Getting%20your%20Generations%20Right%2C%20Millennials%20V%2FS%20GenZ!%20%F0%9F%A4%BC%E2%80%8D%E2%99%82%EF%B8%8F%20https://fampay.in/blog/getting-your-generations-right-millennials-v-s-genz/, time: 0.9994144439697266\n",
      "Checking site: https://wa.me/?text=Getting%20your%20Generations%20Right%2C%20Millennials%20V%2FS%20GenZ!%20%F0%9F%A4%BC%E2%80%8D%E2%99%82%EF%B8%8F%20https://fampay.in/blog/getting-your-generations-right-millennials-v-s-genz/\n",
      "Finished checking site: https://wa.me/?text=Getting%20your%20Generations%20Right%2C%20Millennials%20V%2FS%20GenZ!%20%F0%9F%A4%BC%E2%80%8D%E2%99%82%EF%B8%8F%20https://fampay.in/blog/getting-your-generations-right-millennials-v-s-genz/, time: 0.8964474201202393\n",
      "Finished checking site: https://wa.me/?text=Getting%20your%20Generations%20Right%2C%20Millennials%20V%2FS%20GenZ!%20%F0%9F%A4%BC%E2%80%8D%E2%99%82%EF%B8%8F%20https://fampay.in/blog/getting-your-generations-right-millennials-v-s-genz/\n",
      "Checking site: https://www.facebook.com/sharer/sharer.php?u=https://fampay.in/blog/getting-your-generations-right-millennials-v-s-genz/\n",
      "Finished checking site: https://www.facebook.com/sharer/sharer.php?u=https://fampay.in/blog/getting-your-generations-right-millennials-v-s-genz/, time: 0.5323469638824463\n",
      "Checking site: https://www.facebook.com/sharer/sharer.php?u=https://fampay.in/blog/getting-your-generations-right-millennials-v-s-genz/\n",
      "Finished checking site: https://www.facebook.com/sharer/sharer.php?u=https://fampay.in/blog/getting-your-generations-right-millennials-v-s-genz/, time: 1.079773187637329\n",
      "Finished checking site: https://www.facebook.com/sharer/sharer.php?u=https://fampay.in/blog/getting-your-generations-right-millennials-v-s-genz/\n",
      "Checking site: https://twitter.com/intent/tweet?text=Getting%20your%20Generations%20Right%2C%20Millennials%20V%2FS%20GenZ!%20%F0%9F%A4%BC%E2%80%8D%E2%99%82%EF%B8%8F&url=https://fampay.in/blog/getting-your-generations-right-millennials-v-s-genz/\n",
      "Finished checking site: https://twitter.com/intent/tweet?text=Getting%20your%20Generations%20Right%2C%20Millennials%20V%2FS%20GenZ!%20%F0%9F%A4%BC%E2%80%8D%E2%99%82%EF%B8%8F&url=https://fampay.in/blog/getting-your-generations-right-millennials-v-s-genz/, time: 1.1027729511260986\n",
      "Checking site: https://twitter.com/intent/tweet?text=Getting%20your%20Generations%20Right%2C%20Millennials%20V%2FS%20GenZ!%20%F0%9F%A4%BC%E2%80%8D%E2%99%82%EF%B8%8F&url=https://fampay.in/blog/getting-your-generations-right-millennials-v-s-genz/\n",
      "Finished checking site: https://twitter.com/intent/tweet?text=Getting%20your%20Generations%20Right%2C%20Millennials%20V%2FS%20GenZ!%20%F0%9F%A4%BC%E2%80%8D%E2%99%82%EF%B8%8F&url=https://fampay.in/blog/getting-your-generations-right-millennials-v-s-genz/, time: 1.2669517993927002\n",
      "Finished checking site: https://twitter.com/intent/tweet?text=Getting%20your%20Generations%20Right%2C%20Millennials%20V%2FS%20GenZ!%20%F0%9F%A4%BC%E2%80%8D%E2%99%82%EF%B8%8F&url=https://fampay.in/blog/getting-your-generations-right-millennials-v-s-genz/\n",
      "Checking site: https://famapp.in/blog/when-building-for-genzs-build-it-on-discord/\n",
      "Finished checking site: https://famapp.in/blog/when-building-for-genzs-build-it-on-discord/, time: 0.23334479331970215\n",
      "Checking site: https://famapp.in/blog/when-building-for-genzs-build-it-on-discord/\n",
      "Finished checking site: https://famapp.in/blog/when-building-for-genzs-build-it-on-discord/, time: 0.27556896209716797\n",
      "Finished checking site: https://famapp.in/blog/when-building-for-genzs-build-it-on-discord/\n",
      "Checking site: https://wa.me/?text=When%20building%20for%20GenZs%2C%20build%20it%20on%20Discord%20%F0%9F%91%BE%20https://fampay.in/blog/when-building-for-genzs-build-it-on-discord/\n",
      "Finished checking site: https://wa.me/?text=When%20building%20for%20GenZs%2C%20build%20it%20on%20Discord%20%F0%9F%91%BE%20https://fampay.in/blog/when-building-for-genzs-build-it-on-discord/, time: 0.8468418121337891\n",
      "Checking site: https://wa.me/?text=When%20building%20for%20GenZs%2C%20build%20it%20on%20Discord%20%F0%9F%91%BE%20https://fampay.in/blog/when-building-for-genzs-build-it-on-discord/\n",
      "Finished checking site: https://wa.me/?text=When%20building%20for%20GenZs%2C%20build%20it%20on%20Discord%20%F0%9F%91%BE%20https://fampay.in/blog/when-building-for-genzs-build-it-on-discord/, time: 1.0479638576507568\n",
      "Finished checking site: https://wa.me/?text=When%20building%20for%20GenZs%2C%20build%20it%20on%20Discord%20%F0%9F%91%BE%20https://fampay.in/blog/when-building-for-genzs-build-it-on-discord/\n",
      "Checking site: https://www.facebook.com/sharer/sharer.php?u=https://fampay.in/blog/when-building-for-genzs-build-it-on-discord/\n",
      "Finished checking site: https://www.facebook.com/sharer/sharer.php?u=https://fampay.in/blog/when-building-for-genzs-build-it-on-discord/, time: 0.460864782333374\n",
      "Checking site: https://www.facebook.com/sharer/sharer.php?u=https://fampay.in/blog/when-building-for-genzs-build-it-on-discord/\n",
      "Finished checking site: https://www.facebook.com/sharer/sharer.php?u=https://fampay.in/blog/when-building-for-genzs-build-it-on-discord/, time: 0.9183290004730225\n",
      "Finished checking site: https://www.facebook.com/sharer/sharer.php?u=https://fampay.in/blog/when-building-for-genzs-build-it-on-discord/\n",
      "Checking site: https://twitter.com/intent/tweet?text=When%20building%20for%20GenZs%2C%20build%20it%20on%20Discord%20%F0%9F%91%BE&url=https://fampay.in/blog/when-building-for-genzs-build-it-on-discord/\n",
      "Finished checking site: https://twitter.com/intent/tweet?text=When%20building%20for%20GenZs%2C%20build%20it%20on%20Discord%20%F0%9F%91%BE&url=https://fampay.in/blog/when-building-for-genzs-build-it-on-discord/, time: 1.0689032077789307\n",
      "Checking site: https://twitter.com/intent/tweet?text=When%20building%20for%20GenZs%2C%20build%20it%20on%20Discord%20%F0%9F%91%BE&url=https://fampay.in/blog/when-building-for-genzs-build-it-on-discord/\n",
      "Finished checking site: https://twitter.com/intent/tweet?text=When%20building%20for%20GenZs%2C%20build%20it%20on%20Discord%20%F0%9F%91%BE&url=https://fampay.in/blog/when-building-for-genzs-build-it-on-discord/, time: 1.0332694053649902\n",
      "Finished checking site: https://twitter.com/intent/tweet?text=When%20building%20for%20GenZs%2C%20build%20it%20on%20Discord%20%F0%9F%91%BE&url=https://fampay.in/blog/when-building-for-genzs-build-it-on-discord/\n",
      "Checking site: https://famapp.in/blog/club-teens-one-stop-online-community/\n",
      "Finished checking site: https://famapp.in/blog/club-teens-one-stop-online-community/, time: 0.17713689804077148\n",
      "Checking site: https://famapp.in/blog/club-teens-one-stop-online-community/\n",
      "Finished checking site: https://famapp.in/blog/club-teens-one-stop-online-community/, time: 0.17640376091003418\n",
      "Finished checking site: https://famapp.in/blog/club-teens-one-stop-online-community/\n",
      "Checking site: https://wa.me/?text=Club%3A%20FamPay's%20in-app%20exclusive%20community!%20%F0%9F%A4%A9%20https://fampay.in/blog/club-teens-one-stop-online-community/\n",
      "Finished checking site: https://wa.me/?text=Club%3A%20FamPay's%20in-app%20exclusive%20community!%20%F0%9F%A4%A9%20https://fampay.in/blog/club-teens-one-stop-online-community/, time: 0.7328381538391113\n",
      "Checking site: https://wa.me/?text=Club%3A%20FamPay's%20in-app%20exclusive%20community!%20%F0%9F%A4%A9%20https://fampay.in/blog/club-teens-one-stop-online-community/\n",
      "Finished checking site: https://wa.me/?text=Club%3A%20FamPay's%20in-app%20exclusive%20community!%20%F0%9F%A4%A9%20https://fampay.in/blog/club-teens-one-stop-online-community/, time: 0.9254050254821777\n",
      "Finished checking site: https://wa.me/?text=Club%3A%20FamPay's%20in-app%20exclusive%20community!%20%F0%9F%A4%A9%20https://fampay.in/blog/club-teens-one-stop-online-community/\n",
      "Checking site: https://www.facebook.com/sharer/sharer.php?u=https://fampay.in/blog/club-teens-one-stop-online-community/\n",
      "Finished checking site: https://www.facebook.com/sharer/sharer.php?u=https://fampay.in/blog/club-teens-one-stop-online-community/, time: 0.6762335300445557\n",
      "Checking site: https://www.facebook.com/sharer/sharer.php?u=https://fampay.in/blog/club-teens-one-stop-online-community/\n",
      "Finished checking site: https://www.facebook.com/sharer/sharer.php?u=https://fampay.in/blog/club-teens-one-stop-online-community/, time: 0.9729602336883545\n",
      "Finished checking site: https://www.facebook.com/sharer/sharer.php?u=https://fampay.in/blog/club-teens-one-stop-online-community/\n",
      "Checking site: https://twitter.com/intent/tweet?text=Club%3A%20FamPay's%20in-app%20exclusive%20community!%20%F0%9F%A4%A9&url=https://fampay.in/blog/club-teens-one-stop-online-community/\n",
      "Finished checking site: https://twitter.com/intent/tweet?text=Club%3A%20FamPay's%20in-app%20exclusive%20community!%20%F0%9F%A4%A9&url=https://fampay.in/blog/club-teens-one-stop-online-community/, time: 1.011470079421997\n",
      "Checking site: https://twitter.com/intent/tweet?text=Club%3A%20FamPay's%20in-app%20exclusive%20community!%20%F0%9F%A4%A9&url=https://fampay.in/blog/club-teens-one-stop-online-community/\n",
      "Finished checking site: https://twitter.com/intent/tweet?text=Club%3A%20FamPay's%20in-app%20exclusive%20community!%20%F0%9F%A4%A9&url=https://fampay.in/blog/club-teens-one-stop-online-community/, time: 1.0280938148498535\n",
      "Finished checking site: https://twitter.com/intent/tweet?text=Club%3A%20FamPay's%20in-app%20exclusive%20community!%20%F0%9F%A4%A9&url=https://fampay.in/blog/club-teens-one-stop-online-community/\n",
      "Checking site: https://famapp.in/blog/effectively-harnessing-motion-design-for-genzs/\n",
      "Finished checking site: https://famapp.in/blog/effectively-harnessing-motion-design-for-genzs/, time: 0.3081822395324707\n",
      "Checking site: https://famapp.in/blog/effectively-harnessing-motion-design-for-genzs/\n",
      "Finished checking site: https://famapp.in/blog/effectively-harnessing-motion-design-for-genzs/, time: 0.22588801383972168\n",
      "Finished checking site: https://famapp.in/blog/effectively-harnessing-motion-design-for-genzs/\n",
      "Checking site: https://wa.me/?text=Effectively%20harnessing%20Motion%20Design%20for%20GenZs%20https://fampay.in/blog/effectively-harnessing-motion-design-for-genzs/\n",
      "Finished checking site: https://wa.me/?text=Effectively%20harnessing%20Motion%20Design%20for%20GenZs%20https://fampay.in/blog/effectively-harnessing-motion-design-for-genzs/, time: 0.9237947463989258\n",
      "Checking site: https://wa.me/?text=Effectively%20harnessing%20Motion%20Design%20for%20GenZs%20https://fampay.in/blog/effectively-harnessing-motion-design-for-genzs/\n",
      "Finished checking site: https://wa.me/?text=Effectively%20harnessing%20Motion%20Design%20for%20GenZs%20https://fampay.in/blog/effectively-harnessing-motion-design-for-genzs/, time: 0.8872411251068115\n",
      "Finished checking site: https://wa.me/?text=Effectively%20harnessing%20Motion%20Design%20for%20GenZs%20https://fampay.in/blog/effectively-harnessing-motion-design-for-genzs/\n",
      "Checking site: https://www.facebook.com/sharer/sharer.php?u=https://fampay.in/blog/effectively-harnessing-motion-design-for-genzs/\n",
      "Finished checking site: https://www.facebook.com/sharer/sharer.php?u=https://fampay.in/blog/effectively-harnessing-motion-design-for-genzs/, time: 0.5470449924468994\n",
      "Checking site: https://www.facebook.com/sharer/sharer.php?u=https://fampay.in/blog/effectively-harnessing-motion-design-for-genzs/\n",
      "Finished checking site: https://www.facebook.com/sharer/sharer.php?u=https://fampay.in/blog/effectively-harnessing-motion-design-for-genzs/, time: 1.177652359008789\n",
      "Finished checking site: https://www.facebook.com/sharer/sharer.php?u=https://fampay.in/blog/effectively-harnessing-motion-design-for-genzs/\n",
      "Checking site: https://twitter.com/intent/tweet?text=Effectively%20harnessing%20Motion%20Design%20for%20GenZs&url=https://fampay.in/blog/effectively-harnessing-motion-design-for-genzs/\n",
      "Finished checking site: https://twitter.com/intent/tweet?text=Effectively%20harnessing%20Motion%20Design%20for%20GenZs&url=https://fampay.in/blog/effectively-harnessing-motion-design-for-genzs/, time: 1.0679576396942139\n",
      "Checking site: https://twitter.com/intent/tweet?text=Effectively%20harnessing%20Motion%20Design%20for%20GenZs&url=https://fampay.in/blog/effectively-harnessing-motion-design-for-genzs/\n",
      "Finished checking site: https://twitter.com/intent/tweet?text=Effectively%20harnessing%20Motion%20Design%20for%20GenZs&url=https://fampay.in/blog/effectively-harnessing-motion-design-for-genzs/, time: 1.2343504428863525\n",
      "Finished checking site: https://twitter.com/intent/tweet?text=Effectively%20harnessing%20Motion%20Design%20for%20GenZs&url=https://fampay.in/blog/effectively-harnessing-motion-design-for-genzs/\n",
      "Checking site: https://famapp.in/blog/what-are-the-perks-of-using-fampay/\n",
      "Finished checking site: https://famapp.in/blog/what-are-the-perks-of-using-fampay/, time: 0.3124115467071533\n",
      "Checking site: https://famapp.in/blog/what-are-the-perks-of-using-fampay/\n",
      "Finished checking site: https://famapp.in/blog/what-are-the-perks-of-using-fampay/, time: 0.2430112361907959\n",
      "Finished checking site: https://famapp.in/blog/what-are-the-perks-of-using-fampay/\n",
      "Checking site: https://wa.me/?text=What%20are%20the%20perks%20of%20using%20FamPay%3F%20%F0%9F%98%8D%20https://fampay.in/blog/what-are-the-perks-of-using-fampay/\n",
      "Finished checking site: https://wa.me/?text=What%20are%20the%20perks%20of%20using%20FamPay%3F%20%F0%9F%98%8D%20https://fampay.in/blog/what-are-the-perks-of-using-fampay/, time: 0.9252629280090332\n",
      "Checking site: https://wa.me/?text=What%20are%20the%20perks%20of%20using%20FamPay%3F%20%F0%9F%98%8D%20https://fampay.in/blog/what-are-the-perks-of-using-fampay/\n",
      "Finished checking site: https://wa.me/?text=What%20are%20the%20perks%20of%20using%20FamPay%3F%20%F0%9F%98%8D%20https://fampay.in/blog/what-are-the-perks-of-using-fampay/, time: 0.8713512420654297\n",
      "Finished checking site: https://wa.me/?text=What%20are%20the%20perks%20of%20using%20FamPay%3F%20%F0%9F%98%8D%20https://fampay.in/blog/what-are-the-perks-of-using-fampay/\n",
      "Checking site: https://www.facebook.com/sharer/sharer.php?u=https://fampay.in/blog/what-are-the-perks-of-using-fampay/\n",
      "Finished checking site: https://www.facebook.com/sharer/sharer.php?u=https://fampay.in/blog/what-are-the-perks-of-using-fampay/, time: 0.5958089828491211\n",
      "Checking site: https://www.facebook.com/sharer/sharer.php?u=https://fampay.in/blog/what-are-the-perks-of-using-fampay/\n",
      "Finished checking site: https://www.facebook.com/sharer/sharer.php?u=https://fampay.in/blog/what-are-the-perks-of-using-fampay/, time: 1.1772832870483398\n",
      "Finished checking site: https://www.facebook.com/sharer/sharer.php?u=https://fampay.in/blog/what-are-the-perks-of-using-fampay/\n",
      "Checking site: https://twitter.com/intent/tweet?text=What%20are%20the%20perks%20of%20using%20FamPay%3F%20%F0%9F%98%8D&url=https://fampay.in/blog/what-are-the-perks-of-using-fampay/\n",
      "Finished checking site: https://twitter.com/intent/tweet?text=What%20are%20the%20perks%20of%20using%20FamPay%3F%20%F0%9F%98%8D&url=https://fampay.in/blog/what-are-the-perks-of-using-fampay/, time: 1.197385311126709\n",
      "Checking site: https://twitter.com/intent/tweet?text=What%20are%20the%20perks%20of%20using%20FamPay%3F%20%F0%9F%98%8D&url=https://fampay.in/blog/what-are-the-perks-of-using-fampay/\n",
      "Finished checking site: https://twitter.com/intent/tweet?text=What%20are%20the%20perks%20of%20using%20FamPay%3F%20%F0%9F%98%8D&url=https://fampay.in/blog/what-are-the-perks-of-using-fampay/, time: 1.2030284404754639\n",
      "Finished checking site: https://twitter.com/intent/tweet?text=What%20are%20the%20perks%20of%20using%20FamPay%3F%20%F0%9F%98%8D&url=https://fampay.in/blog/what-are-the-perks-of-using-fampay/\n",
      "Checking site: https://fampay.in/blog/savings-for-teens-its-never-too-early-to-start/\n",
      "Finished checking site: https://fampay.in/blog/savings-for-teens-its-never-too-early-to-start/, time: 0.4795494079589844\n",
      "Checking site: https://fampay.in/blog/savings-for-teens-its-never-too-early-to-start/\n",
      "Finished checking site: https://fampay.in/blog/savings-for-teens-its-never-too-early-to-start/, time: 0.42727231979370117\n",
      "Finished checking site: https://fampay.in/blog/savings-for-teens-its-never-too-early-to-start/\n",
      "Checking site: https://fampay.in/blog/building-indias-first-genz-teen-exclusive-community/\n",
      "Finished checking site: https://fampay.in/blog/building-indias-first-genz-teen-exclusive-community/, time: 0.5345699787139893\n",
      "Checking site: https://fampay.in/blog/building-indias-first-genz-teen-exclusive-community/\n",
      "Finished checking site: https://fampay.in/blog/building-indias-first-genz-teen-exclusive-community/, time: 0.3882255554199219\n",
      "Finished checking site: https://fampay.in/blog/building-indias-first-genz-teen-exclusive-community/\n",
      "Checking site: https://famapp.in/blog/curious-about-famcard-heres-everything-to-know/\n",
      "Finished checking site: https://famapp.in/blog/curious-about-famcard-heres-everything-to-know/, time: 0.23012113571166992\n",
      "Checking site: https://famapp.in/blog/curious-about-famcard-heres-everything-to-know/\n",
      "Finished checking site: https://famapp.in/blog/curious-about-famcard-heres-everything-to-know/, time: 0.15082192420959473\n",
      "Finished checking site: https://famapp.in/blog/curious-about-famcard-heres-everything-to-know/\n",
      "Checking site: https://wa.me/?text=Curious%20about%20FamCard%3F%F0%9F%92%B3%20Here%E2%80%99s%20everything%20to%20know%3A%20FAQs%20by%20teens%20on%20FamCard%20https://fampay.in/blog/curious-about-famcard-heres-everything-to-know/\n",
      "Finished checking site: https://wa.me/?text=Curious%20about%20FamCard%3F%F0%9F%92%B3%20Here%E2%80%99s%20everything%20to%20know%3A%20FAQs%20by%20teens%20on%20FamCard%20https://fampay.in/blog/curious-about-famcard-heres-everything-to-know/, time: 0.9584028720855713\n",
      "Checking site: https://wa.me/?text=Curious%20about%20FamCard%3F%F0%9F%92%B3%20Here%E2%80%99s%20everything%20to%20know%3A%20FAQs%20by%20teens%20on%20FamCard%20https://fampay.in/blog/curious-about-famcard-heres-everything-to-know/\n",
      "Finished checking site: https://wa.me/?text=Curious%20about%20FamCard%3F%F0%9F%92%B3%20Here%E2%80%99s%20everything%20to%20know%3A%20FAQs%20by%20teens%20on%20FamCard%20https://fampay.in/blog/curious-about-famcard-heres-everything-to-know/, time: 0.6852097511291504\n",
      "Finished checking site: https://wa.me/?text=Curious%20about%20FamCard%3F%F0%9F%92%B3%20Here%E2%80%99s%20everything%20to%20know%3A%20FAQs%20by%20teens%20on%20FamCard%20https://fampay.in/blog/curious-about-famcard-heres-everything-to-know/\n",
      "Checking site: https://www.facebook.com/sharer/sharer.php?u=https://fampay.in/blog/curious-about-famcard-heres-everything-to-know/\n",
      "Finished checking site: https://www.facebook.com/sharer/sharer.php?u=https://fampay.in/blog/curious-about-famcard-heres-everything-to-know/, time: 0.7389538288116455\n",
      "Checking site: https://www.facebook.com/sharer/sharer.php?u=https://fampay.in/blog/curious-about-famcard-heres-everything-to-know/\n",
      "Finished checking site: https://www.facebook.com/sharer/sharer.php?u=https://fampay.in/blog/curious-about-famcard-heres-everything-to-know/, time: 0.9870009422302246\n",
      "Finished checking site: https://www.facebook.com/sharer/sharer.php?u=https://fampay.in/blog/curious-about-famcard-heres-everything-to-know/\n",
      "Checking site: https://twitter.com/intent/tweet?text=Curious%20about%20FamCard%3F%F0%9F%92%B3%20Here%E2%80%99s%20everything%20to%20know%3A%20FAQs%20by%20teens%20on%20FamCard&url=https://fampay.in/blog/curious-about-famcard-heres-everything-to-know/\n",
      "Finished checking site: https://twitter.com/intent/tweet?text=Curious%20about%20FamCard%3F%F0%9F%92%B3%20Here%E2%80%99s%20everything%20to%20know%3A%20FAQs%20by%20teens%20on%20FamCard&url=https://fampay.in/blog/curious-about-famcard-heres-everything-to-know/, time: 1.2069592475891113\n",
      "Checking site: https://twitter.com/intent/tweet?text=Curious%20about%20FamCard%3F%F0%9F%92%B3%20Here%E2%80%99s%20everything%20to%20know%3A%20FAQs%20by%20teens%20on%20FamCard&url=https://fampay.in/blog/curious-about-famcard-heres-everything-to-know/\n",
      "Finished checking site: https://twitter.com/intent/tweet?text=Curious%20about%20FamCard%3F%F0%9F%92%B3%20Here%E2%80%99s%20everything%20to%20know%3A%20FAQs%20by%20teens%20on%20FamCard&url=https://fampay.in/blog/curious-about-famcard-heres-everything-to-know/, time: 1.1784796714782715\n",
      "Finished checking site: https://twitter.com/intent/tweet?text=Curious%20about%20FamCard%3F%F0%9F%92%B3%20Here%E2%80%99s%20everything%20to%20know%3A%20FAQs%20by%20teens%20on%20FamCard&url=https://fampay.in/blog/curious-about-famcard-heres-everything-to-know/\n",
      "Checking site: https://fampay.in/blog/famcard-your-first-debit-card/\n",
      "Finished checking site: https://fampay.in/blog/famcard-your-first-debit-card/, time: 0.31736254692077637\n",
      "Checking site: https://fampay.in/blog/famcard-your-first-debit-card/\n",
      "Finished checking site: https://fampay.in/blog/famcard-your-first-debit-card/, time: 0.32614922523498535\n",
      "Finished checking site: https://fampay.in/blog/famcard-your-first-debit-card/\n",
      "Checking site: https://fampay.in/blog/everything-you-need-to-know-about-our-numberless-card/\n",
      "Finished checking site: https://fampay.in/blog/everything-you-need-to-know-about-our-numberless-card/, time: 0.3823704719543457\n",
      "Checking site: https://fampay.in/blog/everything-you-need-to-know-about-our-numberless-card/\n",
      "Finished checking site: https://fampay.in/blog/everything-you-need-to-know-about-our-numberless-card/, time: 0.37099432945251465\n",
      "Finished checking site: https://fampay.in/blog/everything-you-need-to-know-about-our-numberless-card/\n",
      "Checking site: https://famapp.in/blog/writing-content-for-a-content-saturated-generation/\n",
      "Finished checking site: https://famapp.in/blog/writing-content-for-a-content-saturated-generation/, time: 0.15330171585083008\n",
      "Checking site: https://famapp.in/blog/writing-content-for-a-content-saturated-generation/\n",
      "Finished checking site: https://famapp.in/blog/writing-content-for-a-content-saturated-generation/, time: 0.20953679084777832\n",
      "Finished checking site: https://famapp.in/blog/writing-content-for-a-content-saturated-generation/\n",
      "Checking site: https://wa.me/?text=Writing%20content%20for%20a%20content-saturated%20generation%20%E2%9C%8D%20https://fampay.in/blog/writing-content-for-a-content-saturated-generation/\n",
      "Finished checking site: https://wa.me/?text=Writing%20content%20for%20a%20content-saturated%20generation%20%E2%9C%8D%20https://fampay.in/blog/writing-content-for-a-content-saturated-generation/, time: 0.9346194267272949\n",
      "Checking site: https://wa.me/?text=Writing%20content%20for%20a%20content-saturated%20generation%20%E2%9C%8D%20https://fampay.in/blog/writing-content-for-a-content-saturated-generation/\n",
      "Finished checking site: https://wa.me/?text=Writing%20content%20for%20a%20content-saturated%20generation%20%E2%9C%8D%20https://fampay.in/blog/writing-content-for-a-content-saturated-generation/, time: 0.6909298896789551\n",
      "Finished checking site: https://wa.me/?text=Writing%20content%20for%20a%20content-saturated%20generation%20%E2%9C%8D%20https://fampay.in/blog/writing-content-for-a-content-saturated-generation/\n",
      "Checking site: https://www.facebook.com/sharer/sharer.php?u=https://fampay.in/blog/writing-content-for-a-content-saturated-generation/\n",
      "Finished checking site: https://www.facebook.com/sharer/sharer.php?u=https://fampay.in/blog/writing-content-for-a-content-saturated-generation/, time: 0.3299727439880371\n",
      "Checking site: https://www.facebook.com/sharer/sharer.php?u=https://fampay.in/blog/writing-content-for-a-content-saturated-generation/\n",
      "Finished checking site: https://www.facebook.com/sharer/sharer.php?u=https://fampay.in/blog/writing-content-for-a-content-saturated-generation/, time: 0.909081220626831\n",
      "Finished checking site: https://www.facebook.com/sharer/sharer.php?u=https://fampay.in/blog/writing-content-for-a-content-saturated-generation/\n",
      "Checking site: https://twitter.com/intent/tweet?text=Writing%20content%20for%20a%20content-saturated%20generation%20%E2%9C%8D&url=https://fampay.in/blog/writing-content-for-a-content-saturated-generation/\n",
      "Finished checking site: https://twitter.com/intent/tweet?text=Writing%20content%20for%20a%20content-saturated%20generation%20%E2%9C%8D&url=https://fampay.in/blog/writing-content-for-a-content-saturated-generation/, time: 1.1778364181518555\n",
      "Checking site: https://twitter.com/intent/tweet?text=Writing%20content%20for%20a%20content-saturated%20generation%20%E2%9C%8D&url=https://fampay.in/blog/writing-content-for-a-content-saturated-generation/\n",
      "Finished checking site: https://twitter.com/intent/tweet?text=Writing%20content%20for%20a%20content-saturated%20generation%20%E2%9C%8D&url=https://fampay.in/blog/writing-content-for-a-content-saturated-generation/, time: 1.0487868785858154\n",
      "Finished checking site: https://twitter.com/intent/tweet?text=Writing%20content%20for%20a%20content-saturated%20generation%20%E2%9C%8D&url=https://fampay.in/blog/writing-content-for-a-content-saturated-generation/\n",
      "Checking site: https://famapp.in/blog/how-to-grow-your-instagram-followers-a-quick-guide-for-all-genz-brands/\n",
      "Finished checking site: https://famapp.in/blog/how-to-grow-your-instagram-followers-a-quick-guide-for-all-genz-brands/, time: 0.25301051139831543\n",
      "Checking site: https://famapp.in/blog/how-to-grow-your-instagram-followers-a-quick-guide-for-all-genz-brands/\n",
      "Finished checking site: https://famapp.in/blog/how-to-grow-your-instagram-followers-a-quick-guide-for-all-genz-brands/, time: 0.2607393264770508\n",
      "Finished checking site: https://famapp.in/blog/how-to-grow-your-instagram-followers-a-quick-guide-for-all-genz-brands/\n",
      "Checking site: https://wa.me/?text=How%20to%20grow%20your%20Instagram%20followers%3F%F0%9F%A4%B3%20-%20A%20quick%20guide%20for%20all%20GenZ%20brands!%20https://fampay.in/blog/how-to-grow-your-instagram-followers-a-quick-guide-for-all-genz-brands/\n",
      "Finished checking site: https://wa.me/?text=How%20to%20grow%20your%20Instagram%20followers%3F%F0%9F%A4%B3%20-%20A%20quick%20guide%20for%20all%20GenZ%20brands!%20https://fampay.in/blog/how-to-grow-your-instagram-followers-a-quick-guide-for-all-genz-brands/, time: 0.8746154308319092\n",
      "Checking site: https://wa.me/?text=How%20to%20grow%20your%20Instagram%20followers%3F%F0%9F%A4%B3%20-%20A%20quick%20guide%20for%20all%20GenZ%20brands!%20https://fampay.in/blog/how-to-grow-your-instagram-followers-a-quick-guide-for-all-genz-brands/\n",
      "Finished checking site: https://wa.me/?text=How%20to%20grow%20your%20Instagram%20followers%3F%F0%9F%A4%B3%20-%20A%20quick%20guide%20for%20all%20GenZ%20brands!%20https://fampay.in/blog/how-to-grow-your-instagram-followers-a-quick-guide-for-all-genz-brands/, time: 0.677642822265625\n",
      "Finished checking site: https://wa.me/?text=How%20to%20grow%20your%20Instagram%20followers%3F%F0%9F%A4%B3%20-%20A%20quick%20guide%20for%20all%20GenZ%20brands!%20https://fampay.in/blog/how-to-grow-your-instagram-followers-a-quick-guide-for-all-genz-brands/\n",
      "Checking site: https://www.facebook.com/sharer/sharer.php?u=https://fampay.in/blog/how-to-grow-your-instagram-followers-a-quick-guide-for-all-genz-brands/\n",
      "Finished checking site: https://www.facebook.com/sharer/sharer.php?u=https://fampay.in/blog/how-to-grow-your-instagram-followers-a-quick-guide-for-all-genz-brands/, time: 0.6013474464416504\n",
      "Checking site: https://www.facebook.com/sharer/sharer.php?u=https://fampay.in/blog/how-to-grow-your-instagram-followers-a-quick-guide-for-all-genz-brands/\n",
      "Finished checking site: https://www.facebook.com/sharer/sharer.php?u=https://fampay.in/blog/how-to-grow-your-instagram-followers-a-quick-guide-for-all-genz-brands/, time: 1.0738317966461182\n",
      "Finished checking site: https://www.facebook.com/sharer/sharer.php?u=https://fampay.in/blog/how-to-grow-your-instagram-followers-a-quick-guide-for-all-genz-brands/\n",
      "Checking site: https://twitter.com/intent/tweet?text=How%20to%20grow%20your%20Instagram%20followers%3F%F0%9F%A4%B3%20-%20A%20quick%20guide%20for%20all%20GenZ%20brands!&url=https://fampay.in/blog/how-to-grow-your-instagram-followers-a-quick-guide-for-all-genz-brands/\n",
      "Finished checking site: https://twitter.com/intent/tweet?text=How%20to%20grow%20your%20Instagram%20followers%3F%F0%9F%A4%B3%20-%20A%20quick%20guide%20for%20all%20GenZ%20brands!&url=https://fampay.in/blog/how-to-grow-your-instagram-followers-a-quick-guide-for-all-genz-brands/, time: 1.05055832862854\n",
      "Checking site: https://twitter.com/intent/tweet?text=How%20to%20grow%20your%20Instagram%20followers%3F%F0%9F%A4%B3%20-%20A%20quick%20guide%20for%20all%20GenZ%20brands!&url=https://fampay.in/blog/how-to-grow-your-instagram-followers-a-quick-guide-for-all-genz-brands/\n",
      "Finished checking site: https://twitter.com/intent/tweet?text=How%20to%20grow%20your%20Instagram%20followers%3F%F0%9F%A4%B3%20-%20A%20quick%20guide%20for%20all%20GenZ%20brands!&url=https://fampay.in/blog/how-to-grow-your-instagram-followers-a-quick-guide-for-all-genz-brands/, time: 1.246347427368164\n",
      "Finished checking site: https://twitter.com/intent/tweet?text=How%20to%20grow%20your%20Instagram%20followers%3F%F0%9F%A4%B3%20-%20A%20quick%20guide%20for%20all%20GenZ%20brands!&url=https://fampay.in/blog/how-to-grow-your-instagram-followers-a-quick-guide-for-all-genz-brands/\n",
      "Checking site: https://www.instagram.com/explore/tags/getfampaid/\n",
      "Finished checking site: https://www.instagram.com/explore/tags/getfampaid/, time: 0.9320173263549805\n",
      "Checking site: https://www.instagram.com/explore/tags/getfampaid/\n",
      "Finished checking site: https://www.instagram.com/explore/tags/getfampaid/, time: 1.7583880424499512\n",
      "Finished checking site: https://www.instagram.com/explore/tags/getfampaid/\n",
      "Checking site: https://famapp.in/blog/why-do-online-payments-get-stuck-and-what-can-you-do/\n",
      "Finished checking site: https://famapp.in/blog/why-do-online-payments-get-stuck-and-what-can-you-do/, time: 0.4553239345550537\n",
      "Checking site: https://famapp.in/blog/why-do-online-payments-get-stuck-and-what-can-you-do/\n",
      "Finished checking site: https://famapp.in/blog/why-do-online-payments-get-stuck-and-what-can-you-do/, time: 0.2596721649169922\n",
      "Finished checking site: https://famapp.in/blog/why-do-online-payments-get-stuck-and-what-can-you-do/\n",
      "Checking site: https://wa.me/?text=Why%20do%20online%20payments%20get%20stuck%20and%20what%20can%20you%20do%3F%20%F0%9F%A4%94%20https://fampay.in/blog/why-do-online-payments-get-stuck-and-what-can-you-do/\n",
      "Finished checking site: https://wa.me/?text=Why%20do%20online%20payments%20get%20stuck%20and%20what%20can%20you%20do%3F%20%F0%9F%A4%94%20https://fampay.in/blog/why-do-online-payments-get-stuck-and-what-can-you-do/, time: 0.8994688987731934\n",
      "Checking site: https://wa.me/?text=Why%20do%20online%20payments%20get%20stuck%20and%20what%20can%20you%20do%3F%20%F0%9F%A4%94%20https://fampay.in/blog/why-do-online-payments-get-stuck-and-what-can-you-do/\n",
      "Finished checking site: https://wa.me/?text=Why%20do%20online%20payments%20get%20stuck%20and%20what%20can%20you%20do%3F%20%F0%9F%A4%94%20https://fampay.in/blog/why-do-online-payments-get-stuck-and-what-can-you-do/, time: 1.4267969131469727\n",
      "Finished checking site: https://wa.me/?text=Why%20do%20online%20payments%20get%20stuck%20and%20what%20can%20you%20do%3F%20%F0%9F%A4%94%20https://fampay.in/blog/why-do-online-payments-get-stuck-and-what-can-you-do/\n",
      "Checking site: https://www.facebook.com/sharer/sharer.php?u=https://fampay.in/blog/why-do-online-payments-get-stuck-and-what-can-you-do/\n",
      "Finished checking site: https://www.facebook.com/sharer/sharer.php?u=https://fampay.in/blog/why-do-online-payments-get-stuck-and-what-can-you-do/, time: 0.6512131690979004\n",
      "Checking site: https://www.facebook.com/sharer/sharer.php?u=https://fampay.in/blog/why-do-online-payments-get-stuck-and-what-can-you-do/\n",
      "Finished checking site: https://www.facebook.com/sharer/sharer.php?u=https://fampay.in/blog/why-do-online-payments-get-stuck-and-what-can-you-do/, time: 0.9617953300476074\n",
      "Finished checking site: https://www.facebook.com/sharer/sharer.php?u=https://fampay.in/blog/why-do-online-payments-get-stuck-and-what-can-you-do/\n",
      "Checking site: https://twitter.com/intent/tweet?text=Why%20do%20online%20payments%20get%20stuck%20and%20what%20can%20you%20do%3F%20%F0%9F%A4%94&url=https://fampay.in/blog/why-do-online-payments-get-stuck-and-what-can-you-do/\n",
      "Finished checking site: https://twitter.com/intent/tweet?text=Why%20do%20online%20payments%20get%20stuck%20and%20what%20can%20you%20do%3F%20%F0%9F%A4%94&url=https://fampay.in/blog/why-do-online-payments-get-stuck-and-what-can-you-do/, time: 1.1091456413269043\n",
      "Checking site: https://twitter.com/intent/tweet?text=Why%20do%20online%20payments%20get%20stuck%20and%20what%20can%20you%20do%3F%20%F0%9F%A4%94&url=https://fampay.in/blog/why-do-online-payments-get-stuck-and-what-can-you-do/\n",
      "Finished checking site: https://twitter.com/intent/tweet?text=Why%20do%20online%20payments%20get%20stuck%20and%20what%20can%20you%20do%3F%20%F0%9F%A4%94&url=https://fampay.in/blog/why-do-online-payments-get-stuck-and-what-can-you-do/, time: 1.1699700355529785\n",
      "Finished checking site: https://twitter.com/intent/tweet?text=Why%20do%20online%20payments%20get%20stuck%20and%20what%20can%20you%20do%3F%20%F0%9F%A4%94&url=https://fampay.in/blog/why-do-online-payments-get-stuck-and-what-can-you-do/\n",
      "Checking site: https://famapp.in/blog/tag/famsays/page/3/\n",
      "Finished checking site: https://famapp.in/blog/tag/famsays/page/3/, time: 0.40692567825317383\n",
      "Checking site: https://famapp.in/blog/tag/famsays/page/3/\n",
      "Finished checking site: https://famapp.in/blog/tag/famsays/page/3/, time: 0.2766299247741699\n",
      "Finished checking site: https://famapp.in/blog/tag/famsays/page/3/\n",
      "Checking site: https://famapp.in/blog/researching-the-unresearched-genzs/\n",
      "Finished checking site: https://famapp.in/blog/researching-the-unresearched-genzs/, time: 0.2340095043182373\n",
      "Checking site: https://famapp.in/blog/researching-the-unresearched-genzs/\n",
      "Finished checking site: https://famapp.in/blog/researching-the-unresearched-genzs/, time: 0.23629093170166016\n",
      "Finished checking site: https://famapp.in/blog/researching-the-unresearched-genzs/\n",
      "Checking site: https://famapp.in/blog/building-indias-first-genz-teen-exclusive-community/\n",
      "Finished checking site: https://famapp.in/blog/building-indias-first-genz-teen-exclusive-community/, time: 0.2725188732147217\n",
      "Checking site: https://famapp.in/blog/building-indias-first-genz-teen-exclusive-community/\n",
      "Finished checking site: https://famapp.in/blog/building-indias-first-genz-teen-exclusive-community/, time: 0.20302867889404297\n",
      "Finished checking site: https://famapp.in/blog/building-indias-first-genz-teen-exclusive-community/\n",
      "Checking site: https://famapp.in/blog/journey-to-the-centre-of-100k-downloads/\n",
      "Finished checking site: https://famapp.in/blog/journey-to-the-centre-of-100k-downloads/, time: 0.19362258911132812\n",
      "Checking site: https://famapp.in/blog/journey-to-the-centre-of-100k-downloads/\n",
      "Finished checking site: https://famapp.in/blog/journey-to-the-centre-of-100k-downloads/, time: 0.16314435005187988\n",
      "Finished checking site: https://famapp.in/blog/journey-to-the-centre-of-100k-downloads/\n",
      "Checking site: https://famapp.in/blog/tag/growth/\n",
      "Finished checking site: https://famapp.in/blog/tag/growth/, time: 0.2057044506072998\n",
      "Checking site: https://famapp.in/blog/tag/growth/\n",
      "Finished checking site: https://famapp.in/blog/tag/growth/, time: 0.281771183013916\n",
      "Finished checking site: https://famapp.in/blog/tag/growth/\n",
      "Checking site: https://famapp.in/blog/tag/growth/page/2/\n",
      "Finished checking site: https://famapp.in/blog/tag/growth/page/2/, time: 0.14431309700012207\n",
      "Checking site: https://famapp.in/blog/tag/growth/page/2/\n",
      "Finished checking site: https://famapp.in/blog/tag/growth/page/2/, time: 0.15256881713867188\n",
      "Finished checking site: https://famapp.in/blog/tag/growth/page/2/\n",
      "Checking site: https://famapp.in/blog/tag/lifestyle/\n",
      "Finished checking site: https://famapp.in/blog/tag/lifestyle/, time: 0.2211909294128418\n",
      "Checking site: https://famapp.in/blog/tag/lifestyle/\n",
      "Finished checking site: https://famapp.in/blog/tag/lifestyle/, time: 0.19300365447998047\n",
      "Finished checking site: https://famapp.in/blog/tag/lifestyle/\n",
      "Checking site: https://famapp.in/blog/decor-ideas-that-would-transform-your-room-at-home-or-hostel/\n",
      "Finished checking site: https://famapp.in/blog/decor-ideas-that-would-transform-your-room-at-home-or-hostel/, time: 0.1641232967376709\n",
      "Checking site: https://famapp.in/blog/decor-ideas-that-would-transform-your-room-at-home-or-hostel/\n",
      "Finished checking site: https://famapp.in/blog/decor-ideas-that-would-transform-your-room-at-home-or-hostel/, time: 0.15412569046020508\n",
      "Finished checking site: https://famapp.in/blog/decor-ideas-that-would-transform-your-room-at-home-or-hostel/\n",
      "Checking site: https://wa.me/?text=D%C3%A9cor%20ideas%20that%20would%20transform%20your%20room%20at%20home%20or%20hostel%F0%9F%8E%A8%20https://fampay.in/blog/decor-ideas-that-would-transform-your-room-at-home-or-hostel/\n",
      "Finished checking site: https://wa.me/?text=D%C3%A9cor%20ideas%20that%20would%20transform%20your%20room%20at%20home%20or%20hostel%F0%9F%8E%A8%20https://fampay.in/blog/decor-ideas-that-would-transform-your-room-at-home-or-hostel/, time: 0.7377185821533203\n",
      "Checking site: https://wa.me/?text=D%C3%A9cor%20ideas%20that%20would%20transform%20your%20room%20at%20home%20or%20hostel%F0%9F%8E%A8%20https://fampay.in/blog/decor-ideas-that-would-transform-your-room-at-home-or-hostel/\n",
      "Finished checking site: https://wa.me/?text=D%C3%A9cor%20ideas%20that%20would%20transform%20your%20room%20at%20home%20or%20hostel%F0%9F%8E%A8%20https://fampay.in/blog/decor-ideas-that-would-transform-your-room-at-home-or-hostel/, time: 0.7460706233978271\n",
      "Finished checking site: https://wa.me/?text=D%C3%A9cor%20ideas%20that%20would%20transform%20your%20room%20at%20home%20or%20hostel%F0%9F%8E%A8%20https://fampay.in/blog/decor-ideas-that-would-transform-your-room-at-home-or-hostel/\n",
      "Checking site: https://www.facebook.com/sharer/sharer.php?u=https://fampay.in/blog/decor-ideas-that-would-transform-your-room-at-home-or-hostel/\n",
      "Finished checking site: https://www.facebook.com/sharer/sharer.php?u=https://fampay.in/blog/decor-ideas-that-would-transform-your-room-at-home-or-hostel/, time: 0.351362943649292\n",
      "Checking site: https://www.facebook.com/sharer/sharer.php?u=https://fampay.in/blog/decor-ideas-that-would-transform-your-room-at-home-or-hostel/\n",
      "Finished checking site: https://www.facebook.com/sharer/sharer.php?u=https://fampay.in/blog/decor-ideas-that-would-transform-your-room-at-home-or-hostel/, time: 0.942176342010498\n",
      "Finished checking site: https://www.facebook.com/sharer/sharer.php?u=https://fampay.in/blog/decor-ideas-that-would-transform-your-room-at-home-or-hostel/\n",
      "Checking site: https://twitter.com/intent/tweet?text=D%C3%A9cor%20ideas%20that%20would%20transform%20your%20room%20at%20home%20or%20hostel%F0%9F%8E%A8&url=https://fampay.in/blog/decor-ideas-that-would-transform-your-room-at-home-or-hostel/\n",
      "Finished checking site: https://twitter.com/intent/tweet?text=D%C3%A9cor%20ideas%20that%20would%20transform%20your%20room%20at%20home%20or%20hostel%F0%9F%8E%A8&url=https://fampay.in/blog/decor-ideas-that-would-transform-your-room-at-home-or-hostel/, time: 1.0410535335540771\n",
      "Checking site: https://twitter.com/intent/tweet?text=D%C3%A9cor%20ideas%20that%20would%20transform%20your%20room%20at%20home%20or%20hostel%F0%9F%8E%A8&url=https://fampay.in/blog/decor-ideas-that-would-transform-your-room-at-home-or-hostel/\n",
      "Finished checking site: https://twitter.com/intent/tweet?text=D%C3%A9cor%20ideas%20that%20would%20transform%20your%20room%20at%20home%20or%20hostel%F0%9F%8E%A8&url=https://fampay.in/blog/decor-ideas-that-would-transform-your-room-at-home-or-hostel/, time: 1.043260097503662\n",
      "Finished checking site: https://twitter.com/intent/tweet?text=D%C3%A9cor%20ideas%20that%20would%20transform%20your%20room%20at%20home%20or%20hostel%F0%9F%8E%A8&url=https://fampay.in/blog/decor-ideas-that-would-transform-your-room-at-home-or-hostel/\n",
      "Checking site: https://famapp.in/blog/the-most-beautiful-college-campuses-in-india/\n",
      "Finished checking site: https://famapp.in/blog/the-most-beautiful-college-campuses-in-india/, time: 0.26349329948425293\n",
      "Checking site: https://famapp.in/blog/the-most-beautiful-college-campuses-in-india/\n",
      "Finished checking site: https://famapp.in/blog/the-most-beautiful-college-campuses-in-india/, time: 0.21886587142944336\n",
      "Finished checking site: https://famapp.in/blog/the-most-beautiful-college-campuses-in-india/\n",
      "Checking site: https://wa.me/?text=The%20most%20beautiful%20college%20campuses%20in%20India%20%F0%9F%8E%93%20https://fampay.in/blog/the-most-beautiful-college-campuses-in-india/\n",
      "Finished checking site: https://wa.me/?text=The%20most%20beautiful%20college%20campuses%20in%20India%20%F0%9F%8E%93%20https://fampay.in/blog/the-most-beautiful-college-campuses-in-india/, time: 1.0095725059509277\n",
      "Checking site: https://wa.me/?text=The%20most%20beautiful%20college%20campuses%20in%20India%20%F0%9F%8E%93%20https://fampay.in/blog/the-most-beautiful-college-campuses-in-india/\n",
      "Finished checking site: https://wa.me/?text=The%20most%20beautiful%20college%20campuses%20in%20India%20%F0%9F%8E%93%20https://fampay.in/blog/the-most-beautiful-college-campuses-in-india/, time: 0.9909799098968506\n",
      "Finished checking site: https://wa.me/?text=The%20most%20beautiful%20college%20campuses%20in%20India%20%F0%9F%8E%93%20https://fampay.in/blog/the-most-beautiful-college-campuses-in-india/\n",
      "Checking site: https://www.facebook.com/sharer/sharer.php?u=https://fampay.in/blog/the-most-beautiful-college-campuses-in-india/\n",
      "Finished checking site: https://www.facebook.com/sharer/sharer.php?u=https://fampay.in/blog/the-most-beautiful-college-campuses-in-india/, time: 0.35064053535461426\n",
      "Checking site: https://www.facebook.com/sharer/sharer.php?u=https://fampay.in/blog/the-most-beautiful-college-campuses-in-india/\n",
      "Finished checking site: https://www.facebook.com/sharer/sharer.php?u=https://fampay.in/blog/the-most-beautiful-college-campuses-in-india/, time: 0.9869849681854248\n",
      "Finished checking site: https://www.facebook.com/sharer/sharer.php?u=https://fampay.in/blog/the-most-beautiful-college-campuses-in-india/\n",
      "Checking site: https://twitter.com/intent/tweet?text=The%20most%20beautiful%20college%20campuses%20in%20India%20%F0%9F%8E%93&url=https://fampay.in/blog/the-most-beautiful-college-campuses-in-india/\n",
      "Finished checking site: https://twitter.com/intent/tweet?text=The%20most%20beautiful%20college%20campuses%20in%20India%20%F0%9F%8E%93&url=https://fampay.in/blog/the-most-beautiful-college-campuses-in-india/, time: 1.2045283317565918\n",
      "Checking site: https://twitter.com/intent/tweet?text=The%20most%20beautiful%20college%20campuses%20in%20India%20%F0%9F%8E%93&url=https://fampay.in/blog/the-most-beautiful-college-campuses-in-india/\n",
      "Finished checking site: https://twitter.com/intent/tweet?text=The%20most%20beautiful%20college%20campuses%20in%20India%20%F0%9F%8E%93&url=https://fampay.in/blog/the-most-beautiful-college-campuses-in-india/, time: 1.1152513027191162\n",
      "Finished checking site: https://twitter.com/intent/tweet?text=The%20most%20beautiful%20college%20campuses%20in%20India%20%F0%9F%8E%93&url=https://fampay.in/blog/the-most-beautiful-college-campuses-in-india/\n",
      "Checking site: https://famapp.in/blog/every-little-thing-counts-ways-in-which-you-can-contribute-to-society-as-a-teenager/\n",
      "Finished checking site: https://famapp.in/blog/every-little-thing-counts-ways-in-which-you-can-contribute-to-society-as-a-teenager/, time: 0.2509016990661621\n",
      "Checking site: https://famapp.in/blog/every-little-thing-counts-ways-in-which-you-can-contribute-to-society-as-a-teenager/\n",
      "Finished checking site: https://famapp.in/blog/every-little-thing-counts-ways-in-which-you-can-contribute-to-society-as-a-teenager/, time: 0.39951133728027344\n",
      "Finished checking site: https://famapp.in/blog/every-little-thing-counts-ways-in-which-you-can-contribute-to-society-as-a-teenager/\n",
      "Checking site: https://wa.me/?text=Every%20Little%20Thing%20Counts-%20Ways%20in%20Which%20You%20Can%20Contribute%20to%20Society%20as%20a%20Teenager%F0%9F%92%AA%F0%9F%8F%BD%F0%9F%A7%91%E2%80%8D%F0%9F%8E%93%20https://fampay.in/blog/every-little-thing-counts-ways-in-which-you-can-contribute-to-society-as-a-teenager/\n",
      "Finished checking site: https://wa.me/?text=Every%20Little%20Thing%20Counts-%20Ways%20in%20Which%20You%20Can%20Contribute%20to%20Society%20as%20a%20Teenager%F0%9F%92%AA%F0%9F%8F%BD%F0%9F%A7%91%E2%80%8D%F0%9F%8E%93%20https://fampay.in/blog/every-little-thing-counts-ways-in-which-you-can-contribute-to-society-as-a-teenager/, time: 1.1700892448425293\n",
      "Checking site: https://wa.me/?text=Every%20Little%20Thing%20Counts-%20Ways%20in%20Which%20You%20Can%20Contribute%20to%20Society%20as%20a%20Teenager%F0%9F%92%AA%F0%9F%8F%BD%F0%9F%A7%91%E2%80%8D%F0%9F%8E%93%20https://fampay.in/blog/every-little-thing-counts-ways-in-which-you-can-contribute-to-society-as-a-teenager/\n",
      "Finished checking site: https://wa.me/?text=Every%20Little%20Thing%20Counts-%20Ways%20in%20Which%20You%20Can%20Contribute%20to%20Society%20as%20a%20Teenager%F0%9F%92%AA%F0%9F%8F%BD%F0%9F%A7%91%E2%80%8D%F0%9F%8E%93%20https://fampay.in/blog/every-little-thing-counts-ways-in-which-you-can-contribute-to-society-as-a-teenager/, time: 1.1741251945495605\n",
      "Finished checking site: https://wa.me/?text=Every%20Little%20Thing%20Counts-%20Ways%20in%20Which%20You%20Can%20Contribute%20to%20Society%20as%20a%20Teenager%F0%9F%92%AA%F0%9F%8F%BD%F0%9F%A7%91%E2%80%8D%F0%9F%8E%93%20https://fampay.in/blog/every-little-thing-counts-ways-in-which-you-can-contribute-to-society-as-a-teenager/\n",
      "Checking site: https://www.facebook.com/sharer/sharer.php?u=https://fampay.in/blog/every-little-thing-counts-ways-in-which-you-can-contribute-to-society-as-a-teenager/\n",
      "Finished checking site: https://www.facebook.com/sharer/sharer.php?u=https://fampay.in/blog/every-little-thing-counts-ways-in-which-you-can-contribute-to-society-as-a-teenager/, time: 0.5864920616149902\n",
      "Checking site: https://www.facebook.com/sharer/sharer.php?u=https://fampay.in/blog/every-little-thing-counts-ways-in-which-you-can-contribute-to-society-as-a-teenager/\n",
      "Finished checking site: https://www.facebook.com/sharer/sharer.php?u=https://fampay.in/blog/every-little-thing-counts-ways-in-which-you-can-contribute-to-society-as-a-teenager/, time: 0.9212334156036377\n",
      "Finished checking site: https://www.facebook.com/sharer/sharer.php?u=https://fampay.in/blog/every-little-thing-counts-ways-in-which-you-can-contribute-to-society-as-a-teenager/\n",
      "Checking site: https://twitter.com/intent/tweet?text=Every%20Little%20Thing%20Counts-%20Ways%20in%20Which%20You%20Can%20Contribute%20to%20Society%20as%20a%20Teenager%F0%9F%92%AA%F0%9F%8F%BD%F0%9F%A7%91%E2%80%8D%F0%9F%8E%93&url=https://fampay.in/blog/every-little-thing-counts-ways-in-which-you-can-contribute-to-society-as-a-teenager/\n",
      "Finished checking site: https://twitter.com/intent/tweet?text=Every%20Little%20Thing%20Counts-%20Ways%20in%20Which%20You%20Can%20Contribute%20to%20Society%20as%20a%20Teenager%F0%9F%92%AA%F0%9F%8F%BD%F0%9F%A7%91%E2%80%8D%F0%9F%8E%93&url=https://fampay.in/blog/every-little-thing-counts-ways-in-which-you-can-contribute-to-society-as-a-teenager/, time: 1.073836326599121\n",
      "Checking site: https://twitter.com/intent/tweet?text=Every%20Little%20Thing%20Counts-%20Ways%20in%20Which%20You%20Can%20Contribute%20to%20Society%20as%20a%20Teenager%F0%9F%92%AA%F0%9F%8F%BD%F0%9F%A7%91%E2%80%8D%F0%9F%8E%93&url=https://fampay.in/blog/every-little-thing-counts-ways-in-which-you-can-contribute-to-society-as-a-teenager/\n",
      "Finished checking site: https://twitter.com/intent/tweet?text=Every%20Little%20Thing%20Counts-%20Ways%20in%20Which%20You%20Can%20Contribute%20to%20Society%20as%20a%20Teenager%F0%9F%92%AA%F0%9F%8F%BD%F0%9F%A7%91%E2%80%8D%F0%9F%8E%93&url=https://fampay.in/blog/every-little-thing-counts-ways-in-which-you-can-contribute-to-society-as-a-teenager/, time: 1.2300424575805664\n",
      "Finished checking site: https://twitter.com/intent/tweet?text=Every%20Little%20Thing%20Counts-%20Ways%20in%20Which%20You%20Can%20Contribute%20to%20Society%20as%20a%20Teenager%F0%9F%92%AA%F0%9F%8F%BD%F0%9F%A7%91%E2%80%8D%F0%9F%8E%93&url=https://fampay.in/blog/every-little-thing-counts-ways-in-which-you-can-contribute-to-society-as-a-teenager/\n",
      "Checking site: https://famapp.in/blog/tag/lifestyle/page/2/\n",
      "Finished checking site: https://famapp.in/blog/tag/lifestyle/page/2/, time: 0.27939391136169434\n",
      "Checking site: https://famapp.in/blog/tag/lifestyle/page/2/\n",
      "Finished checking site: https://famapp.in/blog/tag/lifestyle/page/2/, time: 0.22707629203796387\n",
      "Finished checking site: https://famapp.in/blog/tag/lifestyle/page/2/\n",
      "Checking site: https://famapp.in/blog/baddie-on-a-budget-budgeting-tricks-for-teens/\n",
      "Finished checking site: https://famapp.in/blog/baddie-on-a-budget-budgeting-tricks-for-teens/, time: 0.18532419204711914\n",
      "Checking site: https://famapp.in/blog/baddie-on-a-budget-budgeting-tricks-for-teens/\n",
      "Finished checking site: https://famapp.in/blog/baddie-on-a-budget-budgeting-tricks-for-teens/, time: 0.36019444465637207\n",
      "Finished checking site: https://famapp.in/blog/baddie-on-a-budget-budgeting-tricks-for-teens/\n",
      "Checking site: https://wa.me/?text=Baddie%20on%20a%20Budget%3A%20Budgeting%20Tricks%20for%20Teens%20%F0%9F%98%8E%F0%9F%92%85%F0%9F%92%B0%20https://fampay.in/blog/baddie-on-a-budget-budgeting-tricks-for-teens/\n",
      "Finished checking site: https://wa.me/?text=Baddie%20on%20a%20Budget%3A%20Budgeting%20Tricks%20for%20Teens%20%F0%9F%98%8E%F0%9F%92%85%F0%9F%92%B0%20https://fampay.in/blog/baddie-on-a-budget-budgeting-tricks-for-teens/, time: 1.1588144302368164\n",
      "Checking site: https://wa.me/?text=Baddie%20on%20a%20Budget%3A%20Budgeting%20Tricks%20for%20Teens%20%F0%9F%98%8E%F0%9F%92%85%F0%9F%92%B0%20https://fampay.in/blog/baddie-on-a-budget-budgeting-tricks-for-teens/\n",
      "Finished checking site: https://wa.me/?text=Baddie%20on%20a%20Budget%3A%20Budgeting%20Tricks%20for%20Teens%20%F0%9F%98%8E%F0%9F%92%85%F0%9F%92%B0%20https://fampay.in/blog/baddie-on-a-budget-budgeting-tricks-for-teens/, time: 1.5580999851226807\n",
      "Finished checking site: https://wa.me/?text=Baddie%20on%20a%20Budget%3A%20Budgeting%20Tricks%20for%20Teens%20%F0%9F%98%8E%F0%9F%92%85%F0%9F%92%B0%20https://fampay.in/blog/baddie-on-a-budget-budgeting-tricks-for-teens/\n",
      "Checking site: https://www.facebook.com/sharer/sharer.php?u=https://fampay.in/blog/baddie-on-a-budget-budgeting-tricks-for-teens/\n",
      "Finished checking site: https://www.facebook.com/sharer/sharer.php?u=https://fampay.in/blog/baddie-on-a-budget-budgeting-tricks-for-teens/, time: 0.36046266555786133\n",
      "Checking site: https://www.facebook.com/sharer/sharer.php?u=https://fampay.in/blog/baddie-on-a-budget-budgeting-tricks-for-teens/\n",
      "Finished checking site: https://www.facebook.com/sharer/sharer.php?u=https://fampay.in/blog/baddie-on-a-budget-budgeting-tricks-for-teens/, time: 1.0179905891418457\n",
      "Finished checking site: https://www.facebook.com/sharer/sharer.php?u=https://fampay.in/blog/baddie-on-a-budget-budgeting-tricks-for-teens/\n",
      "Checking site: https://twitter.com/intent/tweet?text=Baddie%20on%20a%20Budget%3A%20Budgeting%20Tricks%20for%20Teens%20%F0%9F%98%8E%F0%9F%92%85%F0%9F%92%B0&url=https://fampay.in/blog/baddie-on-a-budget-budgeting-tricks-for-teens/\n",
      "Finished checking site: https://twitter.com/intent/tweet?text=Baddie%20on%20a%20Budget%3A%20Budgeting%20Tricks%20for%20Teens%20%F0%9F%98%8E%F0%9F%92%85%F0%9F%92%B0&url=https://fampay.in/blog/baddie-on-a-budget-budgeting-tricks-for-teens/, time: 1.0299186706542969\n",
      "Checking site: https://twitter.com/intent/tweet?text=Baddie%20on%20a%20Budget%3A%20Budgeting%20Tricks%20for%20Teens%20%F0%9F%98%8E%F0%9F%92%85%F0%9F%92%B0&url=https://fampay.in/blog/baddie-on-a-budget-budgeting-tricks-for-teens/\n",
      "Finished checking site: https://twitter.com/intent/tweet?text=Baddie%20on%20a%20Budget%3A%20Budgeting%20Tricks%20for%20Teens%20%F0%9F%98%8E%F0%9F%92%85%F0%9F%92%B0&url=https://fampay.in/blog/baddie-on-a-budget-budgeting-tricks-for-teens/, time: 1.1602506637573242\n",
      "Finished checking site: https://twitter.com/intent/tweet?text=Baddie%20on%20a%20Budget%3A%20Budgeting%20Tricks%20for%20Teens%20%F0%9F%98%8E%F0%9F%92%85%F0%9F%92%B0&url=https://fampay.in/blog/baddie-on-a-budget-budgeting-tricks-for-teens/\n",
      "Checking site: https://famapp.in/blog/5-habits-of-highly-successful-teens/\n",
      "Finished checking site: https://famapp.in/blog/5-habits-of-highly-successful-teens/, time: 0.19944190979003906\n",
      "Checking site: https://famapp.in/blog/5-habits-of-highly-successful-teens/\n",
      "Finished checking site: https://famapp.in/blog/5-habits-of-highly-successful-teens/, time: 0.19528698921203613\n",
      "Finished checking site: https://famapp.in/blog/5-habits-of-highly-successful-teens/\n",
      "Checking site: https://wa.me/?text=5%20Habits%20of%20Highly%20Successful%20Teens%20%F0%9F%9A%80%20https://fampay.in/blog/5-habits-of-highly-successful-teens/\n",
      "Finished checking site: https://wa.me/?text=5%20Habits%20of%20Highly%20Successful%20Teens%20%F0%9F%9A%80%20https://fampay.in/blog/5-habits-of-highly-successful-teens/, time: 0.6552062034606934\n",
      "Checking site: https://wa.me/?text=5%20Habits%20of%20Highly%20Successful%20Teens%20%F0%9F%9A%80%20https://fampay.in/blog/5-habits-of-highly-successful-teens/\n",
      "Finished checking site: https://wa.me/?text=5%20Habits%20of%20Highly%20Successful%20Teens%20%F0%9F%9A%80%20https://fampay.in/blog/5-habits-of-highly-successful-teens/, time: 0.9339265823364258\n",
      "Finished checking site: https://wa.me/?text=5%20Habits%20of%20Highly%20Successful%20Teens%20%F0%9F%9A%80%20https://fampay.in/blog/5-habits-of-highly-successful-teens/\n",
      "Checking site: https://www.facebook.com/sharer/sharer.php?u=https://fampay.in/blog/5-habits-of-highly-successful-teens/\n",
      "Finished checking site: https://www.facebook.com/sharer/sharer.php?u=https://fampay.in/blog/5-habits-of-highly-successful-teens/, time: 0.8255560398101807\n",
      "Checking site: https://www.facebook.com/sharer/sharer.php?u=https://fampay.in/blog/5-habits-of-highly-successful-teens/\n",
      "Finished checking site: https://www.facebook.com/sharer/sharer.php?u=https://fampay.in/blog/5-habits-of-highly-successful-teens/, time: 0.9765596389770508\n",
      "Finished checking site: https://www.facebook.com/sharer/sharer.php?u=https://fampay.in/blog/5-habits-of-highly-successful-teens/\n",
      "Checking site: https://twitter.com/intent/tweet?text=5%20Habits%20of%20Highly%20Successful%20Teens%20%F0%9F%9A%80&url=https://fampay.in/blog/5-habits-of-highly-successful-teens/\n",
      "Finished checking site: https://twitter.com/intent/tweet?text=5%20Habits%20of%20Highly%20Successful%20Teens%20%F0%9F%9A%80&url=https://fampay.in/blog/5-habits-of-highly-successful-teens/, time: 1.1640241146087646\n",
      "Checking site: https://twitter.com/intent/tweet?text=5%20Habits%20of%20Highly%20Successful%20Teens%20%F0%9F%9A%80&url=https://fampay.in/blog/5-habits-of-highly-successful-teens/\n",
      "Finished checking site: https://twitter.com/intent/tweet?text=5%20Habits%20of%20Highly%20Successful%20Teens%20%F0%9F%9A%80&url=https://fampay.in/blog/5-habits-of-highly-successful-teens/, time: 1.074603796005249\n",
      "Finished checking site: https://twitter.com/intent/tweet?text=5%20Habits%20of%20Highly%20Successful%20Teens%20%F0%9F%9A%80&url=https://fampay.in/blog/5-habits-of-highly-successful-teens/\n",
      "Checking site: https://famapp.in/blog/mental-health-matters-5-things-to-remember-while-in-quarantine/\n",
      "Finished checking site: https://famapp.in/blog/mental-health-matters-5-things-to-remember-while-in-quarantine/, time: 0.23031377792358398\n",
      "Checking site: https://famapp.in/blog/mental-health-matters-5-things-to-remember-while-in-quarantine/\n",
      "Finished checking site: https://famapp.in/blog/mental-health-matters-5-things-to-remember-while-in-quarantine/, time: 0.23420214653015137\n",
      "Finished checking site: https://famapp.in/blog/mental-health-matters-5-things-to-remember-while-in-quarantine/\n",
      "Checking site: https://wa.me/?text=Mental%20Health%20Matters%3A%205%20Things%20to%20Remember%20While%20in%20Quarantine%20https://fampay.in/blog/mental-health-matters-5-things-to-remember-while-in-quarantine/\n",
      "Finished checking site: https://wa.me/?text=Mental%20Health%20Matters%3A%205%20Things%20to%20Remember%20While%20in%20Quarantine%20https://fampay.in/blog/mental-health-matters-5-things-to-remember-while-in-quarantine/, time: 1.1686725616455078\n",
      "Checking site: https://wa.me/?text=Mental%20Health%20Matters%3A%205%20Things%20to%20Remember%20While%20in%20Quarantine%20https://fampay.in/blog/mental-health-matters-5-things-to-remember-while-in-quarantine/\n",
      "Finished checking site: https://wa.me/?text=Mental%20Health%20Matters%3A%205%20Things%20to%20Remember%20While%20in%20Quarantine%20https://fampay.in/blog/mental-health-matters-5-things-to-remember-while-in-quarantine/, time: 1.0791771411895752\n",
      "Finished checking site: https://wa.me/?text=Mental%20Health%20Matters%3A%205%20Things%20to%20Remember%20While%20in%20Quarantine%20https://fampay.in/blog/mental-health-matters-5-things-to-remember-while-in-quarantine/\n",
      "Checking site: https://www.facebook.com/sharer/sharer.php?u=https://fampay.in/blog/mental-health-matters-5-things-to-remember-while-in-quarantine/\n",
      "Finished checking site: https://www.facebook.com/sharer/sharer.php?u=https://fampay.in/blog/mental-health-matters-5-things-to-remember-while-in-quarantine/, time: 0.33022141456604004\n",
      "Checking site: https://www.facebook.com/sharer/sharer.php?u=https://fampay.in/blog/mental-health-matters-5-things-to-remember-while-in-quarantine/\n",
      "Finished checking site: https://www.facebook.com/sharer/sharer.php?u=https://fampay.in/blog/mental-health-matters-5-things-to-remember-while-in-quarantine/, time: 0.9378015995025635\n",
      "Finished checking site: https://www.facebook.com/sharer/sharer.php?u=https://fampay.in/blog/mental-health-matters-5-things-to-remember-while-in-quarantine/\n",
      "Checking site: https://twitter.com/intent/tweet?text=Mental%20Health%20Matters%3A%205%20Things%20to%20Remember%20While%20in%20Quarantine&url=https://fampay.in/blog/mental-health-matters-5-things-to-remember-while-in-quarantine/\n",
      "Finished checking site: https://twitter.com/intent/tweet?text=Mental%20Health%20Matters%3A%205%20Things%20to%20Remember%20While%20in%20Quarantine&url=https://fampay.in/blog/mental-health-matters-5-things-to-remember-while-in-quarantine/, time: 1.0783627033233643\n",
      "Checking site: https://twitter.com/intent/tweet?text=Mental%20Health%20Matters%3A%205%20Things%20to%20Remember%20While%20in%20Quarantine&url=https://fampay.in/blog/mental-health-matters-5-things-to-remember-while-in-quarantine/\n",
      "Finished checking site: https://twitter.com/intent/tweet?text=Mental%20Health%20Matters%3A%205%20Things%20to%20Remember%20While%20in%20Quarantine&url=https://fampay.in/blog/mental-health-matters-5-things-to-remember-while-in-quarantine/, time: 1.0683331489562988\n",
      "Finished checking site: https://twitter.com/intent/tweet?text=Mental%20Health%20Matters%3A%205%20Things%20to%20Remember%20While%20in%20Quarantine&url=https://fampay.in/blog/mental-health-matters-5-things-to-remember-while-in-quarantine/\n",
      "Checking site: https://famapp.in/blog/top-5-platforms-for-students-to-learn-new-things/\n",
      "Finished checking site: https://famapp.in/blog/top-5-platforms-for-students-to-learn-new-things/, time: 0.22555851936340332\n",
      "Checking site: https://famapp.in/blog/top-5-platforms-for-students-to-learn-new-things/\n",
      "Finished checking site: https://famapp.in/blog/top-5-platforms-for-students-to-learn-new-things/, time: 0.22454071044921875\n",
      "Finished checking site: https://famapp.in/blog/top-5-platforms-for-students-to-learn-new-things/\n",
      "Checking site: https://wa.me/?text=Top%205%20Platforms%20for%20Students%20to%20Learn%20New%20Things%20%F0%9F%93%9A%F0%9F%93%96%F0%9F%93%95%20https://fampay.in/blog/top-5-platforms-for-students-to-learn-new-things/\n",
      "Finished checking site: https://wa.me/?text=Top%205%20Platforms%20for%20Students%20to%20Learn%20New%20Things%20%F0%9F%93%9A%F0%9F%93%96%F0%9F%93%95%20https://fampay.in/blog/top-5-platforms-for-students-to-learn-new-things/, time: 1.4364733695983887\n",
      "Checking site: https://wa.me/?text=Top%205%20Platforms%20for%20Students%20to%20Learn%20New%20Things%20%F0%9F%93%9A%F0%9F%93%96%F0%9F%93%95%20https://fampay.in/blog/top-5-platforms-for-students-to-learn-new-things/\n",
      "Finished checking site: https://wa.me/?text=Top%205%20Platforms%20for%20Students%20to%20Learn%20New%20Things%20%F0%9F%93%9A%F0%9F%93%96%F0%9F%93%95%20https://fampay.in/blog/top-5-platforms-for-students-to-learn-new-things/, time: 1.6276273727416992\n",
      "Finished checking site: https://wa.me/?text=Top%205%20Platforms%20for%20Students%20to%20Learn%20New%20Things%20%F0%9F%93%9A%F0%9F%93%96%F0%9F%93%95%20https://fampay.in/blog/top-5-platforms-for-students-to-learn-new-things/\n",
      "Checking site: https://www.facebook.com/sharer/sharer.php?u=https://fampay.in/blog/top-5-platforms-for-students-to-learn-new-things/\n",
      "Finished checking site: https://www.facebook.com/sharer/sharer.php?u=https://fampay.in/blog/top-5-platforms-for-students-to-learn-new-things/, time: 0.3789100646972656\n",
      "Checking site: https://www.facebook.com/sharer/sharer.php?u=https://fampay.in/blog/top-5-platforms-for-students-to-learn-new-things/\n",
      "Finished checking site: https://www.facebook.com/sharer/sharer.php?u=https://fampay.in/blog/top-5-platforms-for-students-to-learn-new-things/, time: 1.4171180725097656\n",
      "Finished checking site: https://www.facebook.com/sharer/sharer.php?u=https://fampay.in/blog/top-5-platforms-for-students-to-learn-new-things/\n",
      "Checking site: https://twitter.com/intent/tweet?text=Top%205%20Platforms%20for%20Students%20to%20Learn%20New%20Things%20%F0%9F%93%9A%F0%9F%93%96%F0%9F%93%95&url=https://fampay.in/blog/top-5-platforms-for-students-to-learn-new-things/\n",
      "Finished checking site: https://twitter.com/intent/tweet?text=Top%205%20Platforms%20for%20Students%20to%20Learn%20New%20Things%20%F0%9F%93%9A%F0%9F%93%96%F0%9F%93%95&url=https://fampay.in/blog/top-5-platforms-for-students-to-learn-new-things/, time: 1.1666128635406494\n",
      "Checking site: https://twitter.com/intent/tweet?text=Top%205%20Platforms%20for%20Students%20to%20Learn%20New%20Things%20%F0%9F%93%9A%F0%9F%93%96%F0%9F%93%95&url=https://fampay.in/blog/top-5-platforms-for-students-to-learn-new-things/\n",
      "Finished checking site: https://twitter.com/intent/tweet?text=Top%205%20Platforms%20for%20Students%20to%20Learn%20New%20Things%20%F0%9F%93%9A%F0%9F%93%96%F0%9F%93%95&url=https://fampay.in/blog/top-5-platforms-for-students-to-learn-new-things/, time: 1.2158844470977783\n",
      "Finished checking site: https://twitter.com/intent/tweet?text=Top%205%20Platforms%20for%20Students%20to%20Learn%20New%20Things%20%F0%9F%93%9A%F0%9F%93%96%F0%9F%93%95&url=https://fampay.in/blog/top-5-platforms-for-students-to-learn-new-things/\n",
      "Checking site: https://famapp.in/blog/from-teenage-to-teen-entrepreneurs-make-your-story-inspiring/\n",
      "Finished checking site: https://famapp.in/blog/from-teenage-to-teen-entrepreneurs-make-your-story-inspiring/, time: 0.2501962184906006\n",
      "Checking site: https://famapp.in/blog/from-teenage-to-teen-entrepreneurs-make-your-story-inspiring/\n",
      "Finished checking site: https://famapp.in/blog/from-teenage-to-teen-entrepreneurs-make-your-story-inspiring/, time: 0.15955305099487305\n",
      "Finished checking site: https://famapp.in/blog/from-teenage-to-teen-entrepreneurs-make-your-story-inspiring/\n",
      "Checking site: https://wa.me/?text=From%20Teenage%20to%20Teen%20Entrepreneurs%20-%20Make%20your%20Story%20Inspiring%20%F0%9F%96%A5%EF%B8%8F%F0%9F%91%A9%E2%80%8D%F0%9F%92%BC%F0%9F%91%A8%E2%80%8D%F0%9F%92%BC%20https://fampay.in/blog/from-teenage-to-teen-entrepreneurs-make-your-story-inspiring/\n",
      "Finished checking site: https://wa.me/?text=From%20Teenage%20to%20Teen%20Entrepreneurs%20-%20Make%20your%20Story%20Inspiring%20%F0%9F%96%A5%EF%B8%8F%F0%9F%91%A9%E2%80%8D%F0%9F%92%BC%F0%9F%91%A8%E2%80%8D%F0%9F%92%BC%20https://fampay.in/blog/from-teenage-to-teen-entrepreneurs-make-your-story-inspiring/, time: 0.9682474136352539\n",
      "Checking site: https://wa.me/?text=From%20Teenage%20to%20Teen%20Entrepreneurs%20-%20Make%20your%20Story%20Inspiring%20%F0%9F%96%A5%EF%B8%8F%F0%9F%91%A9%E2%80%8D%F0%9F%92%BC%F0%9F%91%A8%E2%80%8D%F0%9F%92%BC%20https://fampay.in/blog/from-teenage-to-teen-entrepreneurs-make-your-story-inspiring/\n",
      "Finished checking site: https://wa.me/?text=From%20Teenage%20to%20Teen%20Entrepreneurs%20-%20Make%20your%20Story%20Inspiring%20%F0%9F%96%A5%EF%B8%8F%F0%9F%91%A9%E2%80%8D%F0%9F%92%BC%F0%9F%91%A8%E2%80%8D%F0%9F%92%BC%20https://fampay.in/blog/from-teenage-to-teen-entrepreneurs-make-your-story-inspiring/, time: 1.436173677444458\n",
      "Finished checking site: https://wa.me/?text=From%20Teenage%20to%20Teen%20Entrepreneurs%20-%20Make%20your%20Story%20Inspiring%20%F0%9F%96%A5%EF%B8%8F%F0%9F%91%A9%E2%80%8D%F0%9F%92%BC%F0%9F%91%A8%E2%80%8D%F0%9F%92%BC%20https://fampay.in/blog/from-teenage-to-teen-entrepreneurs-make-your-story-inspiring/\n",
      "Checking site: https://www.facebook.com/sharer/sharer.php?u=https://fampay.in/blog/from-teenage-to-teen-entrepreneurs-make-your-story-inspiring/\n",
      "Finished checking site: https://www.facebook.com/sharer/sharer.php?u=https://fampay.in/blog/from-teenage-to-teen-entrepreneurs-make-your-story-inspiring/, time: 0.8209211826324463\n",
      "Checking site: https://www.facebook.com/sharer/sharer.php?u=https://fampay.in/blog/from-teenage-to-teen-entrepreneurs-make-your-story-inspiring/\n",
      "Finished checking site: https://www.facebook.com/sharer/sharer.php?u=https://fampay.in/blog/from-teenage-to-teen-entrepreneurs-make-your-story-inspiring/, time: 0.9684796333312988\n",
      "Finished checking site: https://www.facebook.com/sharer/sharer.php?u=https://fampay.in/blog/from-teenage-to-teen-entrepreneurs-make-your-story-inspiring/\n",
      "Checking site: https://twitter.com/intent/tweet?text=From%20Teenage%20to%20Teen%20Entrepreneurs%20-%20Make%20your%20Story%20Inspiring%20%F0%9F%96%A5%EF%B8%8F%F0%9F%91%A9%E2%80%8D%F0%9F%92%BC%F0%9F%91%A8%E2%80%8D%F0%9F%92%BC&url=https://fampay.in/blog/from-teenage-to-teen-entrepreneurs-make-your-story-inspiring/\n",
      "Finished checking site: https://twitter.com/intent/tweet?text=From%20Teenage%20to%20Teen%20Entrepreneurs%20-%20Make%20your%20Story%20Inspiring%20%F0%9F%96%A5%EF%B8%8F%F0%9F%91%A9%E2%80%8D%F0%9F%92%BC%F0%9F%91%A8%E2%80%8D%F0%9F%92%BC&url=https://fampay.in/blog/from-teenage-to-teen-entrepreneurs-make-your-story-inspiring/, time: 1.0791521072387695\n",
      "Checking site: https://twitter.com/intent/tweet?text=From%20Teenage%20to%20Teen%20Entrepreneurs%20-%20Make%20your%20Story%20Inspiring%20%F0%9F%96%A5%EF%B8%8F%F0%9F%91%A9%E2%80%8D%F0%9F%92%BC%F0%9F%91%A8%E2%80%8D%F0%9F%92%BC&url=https://fampay.in/blog/from-teenage-to-teen-entrepreneurs-make-your-story-inspiring/\n",
      "Finished checking site: https://twitter.com/intent/tweet?text=From%20Teenage%20to%20Teen%20Entrepreneurs%20-%20Make%20your%20Story%20Inspiring%20%F0%9F%96%A5%EF%B8%8F%F0%9F%91%A9%E2%80%8D%F0%9F%92%BC%F0%9F%91%A8%E2%80%8D%F0%9F%92%BC&url=https://fampay.in/blog/from-teenage-to-teen-entrepreneurs-make-your-story-inspiring/, time: 1.0826668739318848\n",
      "Finished checking site: https://twitter.com/intent/tweet?text=From%20Teenage%20to%20Teen%20Entrepreneurs%20-%20Make%20your%20Story%20Inspiring%20%F0%9F%96%A5%EF%B8%8F%F0%9F%91%A9%E2%80%8D%F0%9F%92%BC%F0%9F%91%A8%E2%80%8D%F0%9F%92%BC&url=https://fampay.in/blog/from-teenage-to-teen-entrepreneurs-make-your-story-inspiring/\n",
      "Checking site: https://famapp.in/blog/top-4-head-turning-fashion-tips-and-trends-for-the-sassy-gen-z/\n",
      "Finished checking site: https://famapp.in/blog/top-4-head-turning-fashion-tips-and-trends-for-the-sassy-gen-z/, time: 0.22254514694213867\n",
      "Checking site: https://famapp.in/blog/top-4-head-turning-fashion-tips-and-trends-for-the-sassy-gen-z/\n",
      "Finished checking site: https://famapp.in/blog/top-4-head-turning-fashion-tips-and-trends-for-the-sassy-gen-z/, time: 0.24773144721984863\n",
      "Finished checking site: https://famapp.in/blog/top-4-head-turning-fashion-tips-and-trends-for-the-sassy-gen-z/\n",
      "Checking site: https://wa.me/?text=Top%204%20Head-Turning%20Fashion%20Tips%20and%20Trends%20For%20The%20Sassy%20Gen%20Z%20%F0%9F%A4%B3%F0%9F%A4%A9%F0%9F%91%B8%F0%9F%A4%B4%20https://fampay.in/blog/top-4-head-turning-fashion-tips-and-trends-for-the-sassy-gen-z/\n",
      "Finished checking site: https://wa.me/?text=Top%204%20Head-Turning%20Fashion%20Tips%20and%20Trends%20For%20The%20Sassy%20Gen%20Z%20%F0%9F%A4%B3%F0%9F%A4%A9%F0%9F%91%B8%F0%9F%A4%B4%20https://fampay.in/blog/top-4-head-turning-fashion-tips-and-trends-for-the-sassy-gen-z/, time: 0.9662089347839355\n",
      "Checking site: https://wa.me/?text=Top%204%20Head-Turning%20Fashion%20Tips%20and%20Trends%20For%20The%20Sassy%20Gen%20Z%20%F0%9F%A4%B3%F0%9F%A4%A9%F0%9F%91%B8%F0%9F%A4%B4%20https://fampay.in/blog/top-4-head-turning-fashion-tips-and-trends-for-the-sassy-gen-z/\n",
      "Finished checking site: https://wa.me/?text=Top%204%20Head-Turning%20Fashion%20Tips%20and%20Trends%20For%20The%20Sassy%20Gen%20Z%20%F0%9F%A4%B3%F0%9F%A4%A9%F0%9F%91%B8%F0%9F%A4%B4%20https://fampay.in/blog/top-4-head-turning-fashion-tips-and-trends-for-the-sassy-gen-z/, time: 0.9981536865234375\n",
      "Finished checking site: https://wa.me/?text=Top%204%20Head-Turning%20Fashion%20Tips%20and%20Trends%20For%20The%20Sassy%20Gen%20Z%20%F0%9F%A4%B3%F0%9F%A4%A9%F0%9F%91%B8%F0%9F%A4%B4%20https://fampay.in/blog/top-4-head-turning-fashion-tips-and-trends-for-the-sassy-gen-z/\n",
      "Checking site: https://www.facebook.com/sharer/sharer.php?u=https://fampay.in/blog/top-4-head-turning-fashion-tips-and-trends-for-the-sassy-gen-z/\n",
      "Finished checking site: https://www.facebook.com/sharer/sharer.php?u=https://fampay.in/blog/top-4-head-turning-fashion-tips-and-trends-for-the-sassy-gen-z/, time: 0.5056502819061279\n",
      "Checking site: https://www.facebook.com/sharer/sharer.php?u=https://fampay.in/blog/top-4-head-turning-fashion-tips-and-trends-for-the-sassy-gen-z/\n",
      "Finished checking site: https://www.facebook.com/sharer/sharer.php?u=https://fampay.in/blog/top-4-head-turning-fashion-tips-and-trends-for-the-sassy-gen-z/, time: 0.9989900588989258\n",
      "Finished checking site: https://www.facebook.com/sharer/sharer.php?u=https://fampay.in/blog/top-4-head-turning-fashion-tips-and-trends-for-the-sassy-gen-z/\n",
      "Checking site: https://twitter.com/intent/tweet?text=Top%204%20Head-Turning%20Fashion%20Tips%20and%20Trends%20For%20The%20Sassy%20Gen%20Z%20%F0%9F%A4%B3%F0%9F%A4%A9%F0%9F%91%B8%F0%9F%A4%B4&url=https://fampay.in/blog/top-4-head-turning-fashion-tips-and-trends-for-the-sassy-gen-z/\n",
      "Finished checking site: https://twitter.com/intent/tweet?text=Top%204%20Head-Turning%20Fashion%20Tips%20and%20Trends%20For%20The%20Sassy%20Gen%20Z%20%F0%9F%A4%B3%F0%9F%A4%A9%F0%9F%91%B8%F0%9F%A4%B4&url=https://fampay.in/blog/top-4-head-turning-fashion-tips-and-trends-for-the-sassy-gen-z/, time: 1.174377679824829\n",
      "Checking site: https://twitter.com/intent/tweet?text=Top%204%20Head-Turning%20Fashion%20Tips%20and%20Trends%20For%20The%20Sassy%20Gen%20Z%20%F0%9F%A4%B3%F0%9F%A4%A9%F0%9F%91%B8%F0%9F%A4%B4&url=https://fampay.in/blog/top-4-head-turning-fashion-tips-and-trends-for-the-sassy-gen-z/\n",
      "Finished checking site: https://twitter.com/intent/tweet?text=Top%204%20Head-Turning%20Fashion%20Tips%20and%20Trends%20For%20The%20Sassy%20Gen%20Z%20%F0%9F%A4%B3%F0%9F%A4%A9%F0%9F%91%B8%F0%9F%A4%B4&url=https://fampay.in/blog/top-4-head-turning-fashion-tips-and-trends-for-the-sassy-gen-z/, time: 1.0695042610168457\n",
      "Finished checking site: https://twitter.com/intent/tweet?text=Top%204%20Head-Turning%20Fashion%20Tips%20and%20Trends%20For%20The%20Sassy%20Gen%20Z%20%F0%9F%A4%B3%F0%9F%A4%A9%F0%9F%91%B8%F0%9F%A4%B4&url=https://fampay.in/blog/top-4-head-turning-fashion-tips-and-trends-for-the-sassy-gen-z/\n",
      "Checking site: https://get.fampay.in/\n",
      "Finished checking site: https://get.fampay.in/, time: 0.9927928447723389\n",
      "Checking site: https://get.fampay.in/\n",
      "Finished checking site: https://get.fampay.in/, time: 0.7210297584533691\n",
      "Finished checking site: https://get.fampay.in/\n",
      "Checking site: https://famapp.in/blog/gen-z-gaming-how-to-make-real-money-by-playing-video-games/\n",
      "Finished checking site: https://famapp.in/blog/gen-z-gaming-how-to-make-real-money-by-playing-video-games/, time: 0.15781593322753906\n",
      "Checking site: https://famapp.in/blog/gen-z-gaming-how-to-make-real-money-by-playing-video-games/\n",
      "Finished checking site: https://famapp.in/blog/gen-z-gaming-how-to-make-real-money-by-playing-video-games/, time: 0.14225387573242188\n",
      "Finished checking site: https://famapp.in/blog/gen-z-gaming-how-to-make-real-money-by-playing-video-games/\n",
      "Checking site: https://wa.me/?text=Gen%20Z%20%26%20Gaming%3A%20How%20To%20Make%20Real%20Money%20By%20Playing%20Video%20Games%3F%20%F0%9F%8E%AE%20https://fampay.in/blog/gen-z-gaming-how-to-make-real-money-by-playing-video-games/\n",
      "Finished checking site: https://wa.me/?text=Gen%20Z%20%26%20Gaming%3A%20How%20To%20Make%20Real%20Money%20By%20Playing%20Video%20Games%3F%20%F0%9F%8E%AE%20https://fampay.in/blog/gen-z-gaming-how-to-make-real-money-by-playing-video-games/, time: 1.2603600025177002\n",
      "Checking site: https://wa.me/?text=Gen%20Z%20%26%20Gaming%3A%20How%20To%20Make%20Real%20Money%20By%20Playing%20Video%20Games%3F%20%F0%9F%8E%AE%20https://fampay.in/blog/gen-z-gaming-how-to-make-real-money-by-playing-video-games/\n",
      "Finished checking site: https://wa.me/?text=Gen%20Z%20%26%20Gaming%3A%20How%20To%20Make%20Real%20Money%20By%20Playing%20Video%20Games%3F%20%F0%9F%8E%AE%20https://fampay.in/blog/gen-z-gaming-how-to-make-real-money-by-playing-video-games/, time: 0.9979496002197266\n",
      "Finished checking site: https://wa.me/?text=Gen%20Z%20%26%20Gaming%3A%20How%20To%20Make%20Real%20Money%20By%20Playing%20Video%20Games%3F%20%F0%9F%8E%AE%20https://fampay.in/blog/gen-z-gaming-how-to-make-real-money-by-playing-video-games/\n",
      "Checking site: https://www.facebook.com/sharer/sharer.php?u=https://fampay.in/blog/gen-z-gaming-how-to-make-real-money-by-playing-video-games/\n",
      "Finished checking site: https://www.facebook.com/sharer/sharer.php?u=https://fampay.in/blog/gen-z-gaming-how-to-make-real-money-by-playing-video-games/, time: 0.37493276596069336\n",
      "Checking site: https://www.facebook.com/sharer/sharer.php?u=https://fampay.in/blog/gen-z-gaming-how-to-make-real-money-by-playing-video-games/\n",
      "Finished checking site: https://www.facebook.com/sharer/sharer.php?u=https://fampay.in/blog/gen-z-gaming-how-to-make-real-money-by-playing-video-games/, time: 0.9714303016662598\n",
      "Finished checking site: https://www.facebook.com/sharer/sharer.php?u=https://fampay.in/blog/gen-z-gaming-how-to-make-real-money-by-playing-video-games/\n",
      "Checking site: https://twitter.com/intent/tweet?text=Gen%20Z%20%26%20Gaming%3A%20How%20To%20Make%20Real%20Money%20By%20Playing%20Video%20Games%3F%20%F0%9F%8E%AE&url=https://fampay.in/blog/gen-z-gaming-how-to-make-real-money-by-playing-video-games/\n",
      "Finished checking site: https://twitter.com/intent/tweet?text=Gen%20Z%20%26%20Gaming%3A%20How%20To%20Make%20Real%20Money%20By%20Playing%20Video%20Games%3F%20%F0%9F%8E%AE&url=https://fampay.in/blog/gen-z-gaming-how-to-make-real-money-by-playing-video-games/, time: 1.1531248092651367\n",
      "Checking site: https://twitter.com/intent/tweet?text=Gen%20Z%20%26%20Gaming%3A%20How%20To%20Make%20Real%20Money%20By%20Playing%20Video%20Games%3F%20%F0%9F%8E%AE&url=https://fampay.in/blog/gen-z-gaming-how-to-make-real-money-by-playing-video-games/\n",
      "Finished checking site: https://twitter.com/intent/tweet?text=Gen%20Z%20%26%20Gaming%3A%20How%20To%20Make%20Real%20Money%20By%20Playing%20Video%20Games%3F%20%F0%9F%8E%AE&url=https://fampay.in/blog/gen-z-gaming-how-to-make-real-money-by-playing-video-games/, time: 1.1647586822509766\n",
      "Finished checking site: https://twitter.com/intent/tweet?text=Gen%20Z%20%26%20Gaming%3A%20How%20To%20Make%20Real%20Money%20By%20Playing%20Video%20Games%3F%20%F0%9F%8E%AE&url=https://fampay.in/blog/gen-z-gaming-how-to-make-real-money-by-playing-video-games/\n",
      "Checking site: https://famapp.in/blog/teen-bucket-list-10-things-you-must-to-do-in-your-teens/\n",
      "Finished checking site: https://famapp.in/blog/teen-bucket-list-10-things-you-must-to-do-in-your-teens/, time: 0.28019142150878906\n",
      "Checking site: https://famapp.in/blog/teen-bucket-list-10-things-you-must-to-do-in-your-teens/\n",
      "Finished checking site: https://famapp.in/blog/teen-bucket-list-10-things-you-must-to-do-in-your-teens/, time: 0.36041927337646484\n",
      "Finished checking site: https://famapp.in/blog/teen-bucket-list-10-things-you-must-to-do-in-your-teens/\n",
      "Checking site: https://wa.me/?text=Teen%20bucket%20list%F0%9F%98%83%20-%2010%20things%20you%20must%20to%20do%20in%20your%20teens!%20https://fampay.in/blog/teen-bucket-list-10-things-you-must-to-do-in-your-teens/\n",
      "Finished checking site: https://wa.me/?text=Teen%20bucket%20list%F0%9F%98%83%20-%2010%20things%20you%20must%20to%20do%20in%20your%20teens!%20https://fampay.in/blog/teen-bucket-list-10-things-you-must-to-do-in-your-teens/, time: 1.245330810546875\n",
      "Checking site: https://wa.me/?text=Teen%20bucket%20list%F0%9F%98%83%20-%2010%20things%20you%20must%20to%20do%20in%20your%20teens!%20https://fampay.in/blog/teen-bucket-list-10-things-you-must-to-do-in-your-teens/\n",
      "Finished checking site: https://wa.me/?text=Teen%20bucket%20list%F0%9F%98%83%20-%2010%20things%20you%20must%20to%20do%20in%20your%20teens!%20https://fampay.in/blog/teen-bucket-list-10-things-you-must-to-do-in-your-teens/, time: 0.6970019340515137\n",
      "Finished checking site: https://wa.me/?text=Teen%20bucket%20list%F0%9F%98%83%20-%2010%20things%20you%20must%20to%20do%20in%20your%20teens!%20https://fampay.in/blog/teen-bucket-list-10-things-you-must-to-do-in-your-teens/\n",
      "Checking site: https://www.facebook.com/sharer/sharer.php?u=https://fampay.in/blog/teen-bucket-list-10-things-you-must-to-do-in-your-teens/\n",
      "Finished checking site: https://www.facebook.com/sharer/sharer.php?u=https://fampay.in/blog/teen-bucket-list-10-things-you-must-to-do-in-your-teens/, time: 0.47853851318359375\n",
      "Checking site: https://www.facebook.com/sharer/sharer.php?u=https://fampay.in/blog/teen-bucket-list-10-things-you-must-to-do-in-your-teens/\n",
      "Finished checking site: https://www.facebook.com/sharer/sharer.php?u=https://fampay.in/blog/teen-bucket-list-10-things-you-must-to-do-in-your-teens/, time: 0.9590804576873779\n",
      "Finished checking site: https://www.facebook.com/sharer/sharer.php?u=https://fampay.in/blog/teen-bucket-list-10-things-you-must-to-do-in-your-teens/\n",
      "Checking site: https://twitter.com/intent/tweet?text=Teen%20bucket%20list%F0%9F%98%83%20-%2010%20things%20you%20must%20to%20do%20in%20your%20teens!&url=https://fampay.in/blog/teen-bucket-list-10-things-you-must-to-do-in-your-teens/\n",
      "Finished checking site: https://twitter.com/intent/tweet?text=Teen%20bucket%20list%F0%9F%98%83%20-%2010%20things%20you%20must%20to%20do%20in%20your%20teens!&url=https://fampay.in/blog/teen-bucket-list-10-things-you-must-to-do-in-your-teens/, time: 1.0549232959747314\n",
      "Checking site: https://twitter.com/intent/tweet?text=Teen%20bucket%20list%F0%9F%98%83%20-%2010%20things%20you%20must%20to%20do%20in%20your%20teens!&url=https://fampay.in/blog/teen-bucket-list-10-things-you-must-to-do-in-your-teens/\n",
      "Finished checking site: https://twitter.com/intent/tweet?text=Teen%20bucket%20list%F0%9F%98%83%20-%2010%20things%20you%20must%20to%20do%20in%20your%20teens!&url=https://fampay.in/blog/teen-bucket-list-10-things-you-must-to-do-in-your-teens/, time: 1.1492743492126465\n",
      "Finished checking site: https://twitter.com/intent/tweet?text=Teen%20bucket%20list%F0%9F%98%83%20-%2010%20things%20you%20must%20to%20do%20in%20your%20teens!&url=https://fampay.in/blog/teen-bucket-list-10-things-you-must-to-do-in-your-teens/\n",
      "Checking site: https://fampay.in/blog/jumpstart-your-career-5-unconventional-career-choices-for-genzs/\n",
      "Finished checking site: https://fampay.in/blog/jumpstart-your-career-5-unconventional-career-choices-for-genzs/, time: 0.40998363494873047\n",
      "Checking site: https://fampay.in/blog/jumpstart-your-career-5-unconventional-career-choices-for-genzs/\n",
      "Finished checking site: https://fampay.in/blog/jumpstart-your-career-5-unconventional-career-choices-for-genzs/, time: 0.410045862197876\n",
      "Finished checking site: https://fampay.in/blog/jumpstart-your-career-5-unconventional-career-choices-for-genzs/\n",
      "Checking site: https://famapp.in/blog/looking-for-financial-independence-as-a-youngster-5-ways-to-earn-while-youre-young/\n",
      "Finished checking site: https://famapp.in/blog/looking-for-financial-independence-as-a-youngster-5-ways-to-earn-while-youre-young/, time: 0.13646435737609863\n",
      "Checking site: https://famapp.in/blog/looking-for-financial-independence-as-a-youngster-5-ways-to-earn-while-youre-young/\n",
      "Finished checking site: https://famapp.in/blog/looking-for-financial-independence-as-a-youngster-5-ways-to-earn-while-youre-young/, time: 0.2593107223510742\n",
      "Finished checking site: https://famapp.in/blog/looking-for-financial-independence-as-a-youngster-5-ways-to-earn-while-youre-young/\n",
      "Checking site: https://wa.me/?text=Looking%20for%20Financial%20Independence%20as%20a%20Youngster%3F%205%20Ways%20to%20Earn%20While%20you%E2%80%99re%20Young%F0%9F%A4%91%20https://fampay.in/blog/looking-for-financial-independence-as-a-youngster-5-ways-to-earn-while-youre-young/\n",
      "Finished checking site: https://wa.me/?text=Looking%20for%20Financial%20Independence%20as%20a%20Youngster%3F%205%20Ways%20to%20Earn%20While%20you%E2%80%99re%20Young%F0%9F%A4%91%20https://fampay.in/blog/looking-for-financial-independence-as-a-youngster-5-ways-to-earn-while-youre-young/, time: 1.4280445575714111\n",
      "Checking site: https://wa.me/?text=Looking%20for%20Financial%20Independence%20as%20a%20Youngster%3F%205%20Ways%20to%20Earn%20While%20you%E2%80%99re%20Young%F0%9F%A4%91%20https://fampay.in/blog/looking-for-financial-independence-as-a-youngster-5-ways-to-earn-while-youre-young/\n",
      "Finished checking site: https://wa.me/?text=Looking%20for%20Financial%20Independence%20as%20a%20Youngster%3F%205%20Ways%20to%20Earn%20While%20you%E2%80%99re%20Young%F0%9F%A4%91%20https://fampay.in/blog/looking-for-financial-independence-as-a-youngster-5-ways-to-earn-while-youre-young/, time: 0.6861076354980469\n",
      "Finished checking site: https://wa.me/?text=Looking%20for%20Financial%20Independence%20as%20a%20Youngster%3F%205%20Ways%20to%20Earn%20While%20you%E2%80%99re%20Young%F0%9F%A4%91%20https://fampay.in/blog/looking-for-financial-independence-as-a-youngster-5-ways-to-earn-while-youre-young/\n",
      "Checking site: https://www.facebook.com/sharer/sharer.php?u=https://fampay.in/blog/looking-for-financial-independence-as-a-youngster-5-ways-to-earn-while-youre-young/\n",
      "Finished checking site: https://www.facebook.com/sharer/sharer.php?u=https://fampay.in/blog/looking-for-financial-independence-as-a-youngster-5-ways-to-earn-while-youre-young/, time: 0.35959792137145996\n",
      "Checking site: https://www.facebook.com/sharer/sharer.php?u=https://fampay.in/blog/looking-for-financial-independence-as-a-youngster-5-ways-to-earn-while-youre-young/\n",
      "Finished checking site: https://www.facebook.com/sharer/sharer.php?u=https://fampay.in/blog/looking-for-financial-independence-as-a-youngster-5-ways-to-earn-while-youre-young/, time: 0.9636476039886475\n",
      "Finished checking site: https://www.facebook.com/sharer/sharer.php?u=https://fampay.in/blog/looking-for-financial-independence-as-a-youngster-5-ways-to-earn-while-youre-young/\n",
      "Checking site: https://twitter.com/intent/tweet?text=Looking%20for%20Financial%20Independence%20as%20a%20Youngster%3F%205%20Ways%20to%20Earn%20While%20you%E2%80%99re%20Young%F0%9F%A4%91&url=https://fampay.in/blog/looking-for-financial-independence-as-a-youngster-5-ways-to-earn-while-youre-young/\n",
      "Finished checking site: https://twitter.com/intent/tweet?text=Looking%20for%20Financial%20Independence%20as%20a%20Youngster%3F%205%20Ways%20to%20Earn%20While%20you%E2%80%99re%20Young%F0%9F%A4%91&url=https://fampay.in/blog/looking-for-financial-independence-as-a-youngster-5-ways-to-earn-while-youre-young/, time: 1.1899676322937012\n",
      "Checking site: https://twitter.com/intent/tweet?text=Looking%20for%20Financial%20Independence%20as%20a%20Youngster%3F%205%20Ways%20to%20Earn%20While%20you%E2%80%99re%20Young%F0%9F%A4%91&url=https://fampay.in/blog/looking-for-financial-independence-as-a-youngster-5-ways-to-earn-while-youre-young/\n",
      "Finished checking site: https://twitter.com/intent/tweet?text=Looking%20for%20Financial%20Independence%20as%20a%20Youngster%3F%205%20Ways%20to%20Earn%20While%20you%E2%80%99re%20Young%F0%9F%A4%91&url=https://fampay.in/blog/looking-for-financial-independence-as-a-youngster-5-ways-to-earn-while-youre-young/, time: 1.1702229976654053\n",
      "Finished checking site: https://twitter.com/intent/tweet?text=Looking%20for%20Financial%20Independence%20as%20a%20Youngster%3F%205%20Ways%20to%20Earn%20While%20you%E2%80%99re%20Young%F0%9F%A4%91&url=https://fampay.in/blog/looking-for-financial-independence-as-a-youngster-5-ways-to-earn-while-youre-young/\n",
      "Checking site: https://famapp.in/blog/want-to-become-a-teenage-influencer-start-here/\n",
      "Finished checking site: https://famapp.in/blog/want-to-become-a-teenage-influencer-start-here/, time: 0.21117925643920898\n",
      "Checking site: https://famapp.in/blog/want-to-become-a-teenage-influencer-start-here/\n",
      "Finished checking site: https://famapp.in/blog/want-to-become-a-teenage-influencer-start-here/, time: 0.25972938537597656\n",
      "Finished checking site: https://famapp.in/blog/want-to-become-a-teenage-influencer-start-here/\n",
      "Checking site: https://wa.me/?text=Quick%20Guide%20to%20be%20a%20Teenfluencer%20%F0%9F%91%B8%F0%9F%A4%B4%20https://fampay.in/blog/want-to-become-a-teenage-influencer-start-here/\n",
      "Finished checking site: https://wa.me/?text=Quick%20Guide%20to%20be%20a%20Teenfluencer%20%F0%9F%91%B8%F0%9F%A4%B4%20https://fampay.in/blog/want-to-become-a-teenage-influencer-start-here/, time: 1.7081644535064697\n",
      "Checking site: https://wa.me/?text=Quick%20Guide%20to%20be%20a%20Teenfluencer%20%F0%9F%91%B8%F0%9F%A4%B4%20https://fampay.in/blog/want-to-become-a-teenage-influencer-start-here/\n",
      "Finished checking site: https://wa.me/?text=Quick%20Guide%20to%20be%20a%20Teenfluencer%20%F0%9F%91%B8%F0%9F%A4%B4%20https://fampay.in/blog/want-to-become-a-teenage-influencer-start-here/, time: 1.0893094539642334\n",
      "Finished checking site: https://wa.me/?text=Quick%20Guide%20to%20be%20a%20Teenfluencer%20%F0%9F%91%B8%F0%9F%A4%B4%20https://fampay.in/blog/want-to-become-a-teenage-influencer-start-here/\n",
      "Checking site: https://www.facebook.com/sharer/sharer.php?u=https://fampay.in/blog/want-to-become-a-teenage-influencer-start-here/\n",
      "Finished checking site: https://www.facebook.com/sharer/sharer.php?u=https://fampay.in/blog/want-to-become-a-teenage-influencer-start-here/, time: 0.5834329128265381\n",
      "Checking site: https://www.facebook.com/sharer/sharer.php?u=https://fampay.in/blog/want-to-become-a-teenage-influencer-start-here/\n",
      "Finished checking site: https://www.facebook.com/sharer/sharer.php?u=https://fampay.in/blog/want-to-become-a-teenage-influencer-start-here/, time: 0.9308385848999023\n",
      "Finished checking site: https://www.facebook.com/sharer/sharer.php?u=https://fampay.in/blog/want-to-become-a-teenage-influencer-start-here/\n",
      "Checking site: https://twitter.com/intent/tweet?text=Quick%20Guide%20to%20be%20a%20Teenfluencer%20%F0%9F%91%B8%F0%9F%A4%B4&url=https://fampay.in/blog/want-to-become-a-teenage-influencer-start-here/\n",
      "Finished checking site: https://twitter.com/intent/tweet?text=Quick%20Guide%20to%20be%20a%20Teenfluencer%20%F0%9F%91%B8%F0%9F%A4%B4&url=https://fampay.in/blog/want-to-become-a-teenage-influencer-start-here/, time: 1.07771635055542\n",
      "Checking site: https://twitter.com/intent/tweet?text=Quick%20Guide%20to%20be%20a%20Teenfluencer%20%F0%9F%91%B8%F0%9F%A4%B4&url=https://fampay.in/blog/want-to-become-a-teenage-influencer-start-here/\n",
      "Finished checking site: https://twitter.com/intent/tweet?text=Quick%20Guide%20to%20be%20a%20Teenfluencer%20%F0%9F%91%B8%F0%9F%A4%B4&url=https://fampay.in/blog/want-to-become-a-teenage-influencer-start-here/, time: 1.0966212749481201\n",
      "Finished checking site: https://twitter.com/intent/tweet?text=Quick%20Guide%20to%20be%20a%20Teenfluencer%20%F0%9F%91%B8%F0%9F%A4%B4&url=https://fampay.in/blog/want-to-become-a-teenage-influencer-start-here/\n",
      "Checking site: https://famapp.in/blog/tag/lifestyle/page/3/\n",
      "Finished checking site: https://famapp.in/blog/tag/lifestyle/page/3/, time: 0.23905062675476074\n",
      "Checking site: https://famapp.in/blog/tag/lifestyle/page/3/\n",
      "Finished checking site: https://famapp.in/blog/tag/lifestyle/page/3/, time: 0.210493803024292\n",
      "Finished checking site: https://famapp.in/blog/tag/lifestyle/page/3/\n",
      "Checking site: https://famapp.in/blog/jumpstart-your-career-5-unconventional-career-choices-for-genzs/\n",
      "Finished checking site: https://famapp.in/blog/jumpstart-your-career-5-unconventional-career-choices-for-genzs/, time: 0.22669100761413574\n",
      "Checking site: https://famapp.in/blog/jumpstart-your-career-5-unconventional-career-choices-for-genzs/\n",
      "Finished checking site: https://famapp.in/blog/jumpstart-your-career-5-unconventional-career-choices-for-genzs/, time: 0.17149972915649414\n",
      "Finished checking site: https://famapp.in/blog/jumpstart-your-career-5-unconventional-career-choices-for-genzs/\n",
      "Checking site: https://famapp.in/blog/how-to-go-from-awkward-to-awesome-in-your-teens/\n",
      "Finished checking site: https://famapp.in/blog/how-to-go-from-awkward-to-awesome-in-your-teens/, time: 0.2504141330718994\n",
      "Checking site: https://famapp.in/blog/how-to-go-from-awkward-to-awesome-in-your-teens/\n",
      "Finished checking site: https://famapp.in/blog/how-to-go-from-awkward-to-awesome-in-your-teens/, time: 0.15033936500549316\n",
      "Finished checking site: https://famapp.in/blog/how-to-go-from-awkward-to-awesome-in-your-teens/\n",
      "Checking site: https://famapp.in/blog/7-cool-insta-dads-of-bollywood/\n",
      "Finished checking site: https://famapp.in/blog/7-cool-insta-dads-of-bollywood/, time: 0.21919727325439453\n",
      "Checking site: https://famapp.in/blog/7-cool-insta-dads-of-bollywood/\n",
      "Finished checking site: https://famapp.in/blog/7-cool-insta-dads-of-bollywood/, time: 0.15943503379821777\n",
      "Finished checking site: https://famapp.in/blog/7-cool-insta-dads-of-bollywood/\n",
      "Checking site: https://famapp.in/blog/tag/news/\n",
      "Finished checking site: https://famapp.in/blog/tag/news/, time: 0.15810728073120117\n",
      "Checking site: https://famapp.in/blog/tag/news/\n",
      "Finished checking site: https://famapp.in/blog/tag/news/, time: 0.16396450996398926\n",
      "Finished checking site: https://famapp.in/blog/tag/news/\n",
      "Checking site: https://famapp.in/blog/teen-focused-fintech-startup-fampay-raises-38m-in-series-a/\n",
      "Finished checking site: https://famapp.in/blog/teen-focused-fintech-startup-fampay-raises-38m-in-series-a/, time: 0.20763158798217773\n",
      "Checking site: https://famapp.in/blog/teen-focused-fintech-startup-fampay-raises-38m-in-series-a/\n",
      "Finished checking site: https://famapp.in/blog/teen-focused-fintech-startup-fampay-raises-38m-in-series-a/, time: 0.13079547882080078\n",
      "Finished checking site: https://famapp.in/blog/teen-focused-fintech-startup-fampay-raises-38m-in-series-a/\n",
      "Checking site: https://wa.me/?text=Teen%20focused%20fintech%20startup%20FamPay%20raises%20%2438M%20in%20Series%20A%20https://fampay.in/blog/teen-focused-fintech-startup-fampay-raises-38m-in-series-a/\n",
      "Finished checking site: https://wa.me/?text=Teen%20focused%20fintech%20startup%20FamPay%20raises%20%2438M%20in%20Series%20A%20https://fampay.in/blog/teen-focused-fintech-startup-fampay-raises-38m-in-series-a/, time: 0.9398491382598877\n",
      "Checking site: https://wa.me/?text=Teen%20focused%20fintech%20startup%20FamPay%20raises%20%2438M%20in%20Series%20A%20https://fampay.in/blog/teen-focused-fintech-startup-fampay-raises-38m-in-series-a/\n",
      "Finished checking site: https://wa.me/?text=Teen%20focused%20fintech%20startup%20FamPay%20raises%20%2438M%20in%20Series%20A%20https://fampay.in/blog/teen-focused-fintech-startup-fampay-raises-38m-in-series-a/, time: 0.6939325332641602\n",
      "Finished checking site: https://wa.me/?text=Teen%20focused%20fintech%20startup%20FamPay%20raises%20%2438M%20in%20Series%20A%20https://fampay.in/blog/teen-focused-fintech-startup-fampay-raises-38m-in-series-a/\n",
      "Checking site: https://www.facebook.com/sharer/sharer.php?u=https://fampay.in/blog/teen-focused-fintech-startup-fampay-raises-38m-in-series-a/\n",
      "Finished checking site: https://www.facebook.com/sharer/sharer.php?u=https://fampay.in/blog/teen-focused-fintech-startup-fampay-raises-38m-in-series-a/, time: 0.3498344421386719\n",
      "Checking site: https://www.facebook.com/sharer/sharer.php?u=https://fampay.in/blog/teen-focused-fintech-startup-fampay-raises-38m-in-series-a/\n",
      "Finished checking site: https://www.facebook.com/sharer/sharer.php?u=https://fampay.in/blog/teen-focused-fintech-startup-fampay-raises-38m-in-series-a/, time: 0.9495079517364502\n",
      "Finished checking site: https://www.facebook.com/sharer/sharer.php?u=https://fampay.in/blog/teen-focused-fintech-startup-fampay-raises-38m-in-series-a/\n",
      "Checking site: https://twitter.com/intent/tweet?text=Teen%20focused%20fintech%20startup%20FamPay%20raises%20%2438M%20in%20Series%20A&url=https://fampay.in/blog/teen-focused-fintech-startup-fampay-raises-38m-in-series-a/\n",
      "Finished checking site: https://twitter.com/intent/tweet?text=Teen%20focused%20fintech%20startup%20FamPay%20raises%20%2438M%20in%20Series%20A&url=https://fampay.in/blog/teen-focused-fintech-startup-fampay-raises-38m-in-series-a/, time: 1.2199382781982422\n",
      "Checking site: https://twitter.com/intent/tweet?text=Teen%20focused%20fintech%20startup%20FamPay%20raises%20%2438M%20in%20Series%20A&url=https://fampay.in/blog/teen-focused-fintech-startup-fampay-raises-38m-in-series-a/\n",
      "Finished checking site: https://twitter.com/intent/tweet?text=Teen%20focused%20fintech%20startup%20FamPay%20raises%20%2438M%20in%20Series%20A&url=https://fampay.in/blog/teen-focused-fintech-startup-fampay-raises-38m-in-series-a/, time: 1.0223417282104492\n",
      "Finished checking site: https://twitter.com/intent/tweet?text=Teen%20focused%20fintech%20startup%20FamPay%20raises%20%2438M%20in%20Series%20A&url=https://fampay.in/blog/teen-focused-fintech-startup-fampay-raises-38m-in-series-a/\n",
      "Checking site: https://famapp.in/blog/fampay-is-set-to-launch-indias-first-and-biggest-digi-fest-for-teens/\n",
      "Finished checking site: https://famapp.in/blog/fampay-is-set-to-launch-indias-first-and-biggest-digi-fest-for-teens/, time: 0.180527925491333\n",
      "Checking site: https://famapp.in/blog/fampay-is-set-to-launch-indias-first-and-biggest-digi-fest-for-teens/\n",
      "Finished checking site: https://famapp.in/blog/fampay-is-set-to-launch-indias-first-and-biggest-digi-fest-for-teens/, time: 0.20204806327819824\n",
      "Finished checking site: https://famapp.in/blog/fampay-is-set-to-launch-indias-first-and-biggest-digi-fest-for-teens/\n",
      "Checking site: https://wa.me/?text=FamPay%20is%20set%20to%20launch%20India%E2%80%99s%20first%20and%20biggest%20Digi-Fest%20for%20Teens%20https://fampay.in/blog/fampay-is-set-to-launch-indias-first-and-biggest-digi-fest-for-teens/\n",
      "Finished checking site: https://wa.me/?text=FamPay%20is%20set%20to%20launch%20India%E2%80%99s%20first%20and%20biggest%20Digi-Fest%20for%20Teens%20https://fampay.in/blog/fampay-is-set-to-launch-indias-first-and-biggest-digi-fest-for-teens/, time: 1.0889205932617188\n",
      "Checking site: https://wa.me/?text=FamPay%20is%20set%20to%20launch%20India%E2%80%99s%20first%20and%20biggest%20Digi-Fest%20for%20Teens%20https://fampay.in/blog/fampay-is-set-to-launch-indias-first-and-biggest-digi-fest-for-teens/\n",
      "Finished checking site: https://wa.me/?text=FamPay%20is%20set%20to%20launch%20India%E2%80%99s%20first%20and%20biggest%20Digi-Fest%20for%20Teens%20https://fampay.in/blog/fampay-is-set-to-launch-indias-first-and-biggest-digi-fest-for-teens/, time: 1.0712084770202637\n",
      "Finished checking site: https://wa.me/?text=FamPay%20is%20set%20to%20launch%20India%E2%80%99s%20first%20and%20biggest%20Digi-Fest%20for%20Teens%20https://fampay.in/blog/fampay-is-set-to-launch-indias-first-and-biggest-digi-fest-for-teens/\n",
      "Checking site: https://www.facebook.com/sharer/sharer.php?u=https://fampay.in/blog/fampay-is-set-to-launch-indias-first-and-biggest-digi-fest-for-teens/\n",
      "Finished checking site: https://www.facebook.com/sharer/sharer.php?u=https://fampay.in/blog/fampay-is-set-to-launch-indias-first-and-biggest-digi-fest-for-teens/, time: 0.38034486770629883\n",
      "Checking site: https://www.facebook.com/sharer/sharer.php?u=https://fampay.in/blog/fampay-is-set-to-launch-indias-first-and-biggest-digi-fest-for-teens/\n",
      "Finished checking site: https://www.facebook.com/sharer/sharer.php?u=https://fampay.in/blog/fampay-is-set-to-launch-indias-first-and-biggest-digi-fest-for-teens/, time: 0.9001858234405518\n",
      "Finished checking site: https://www.facebook.com/sharer/sharer.php?u=https://fampay.in/blog/fampay-is-set-to-launch-indias-first-and-biggest-digi-fest-for-teens/\n",
      "Checking site: https://twitter.com/intent/tweet?text=FamPay%20is%20set%20to%20launch%20India%E2%80%99s%20first%20and%20biggest%20Digi-Fest%20for%20Teens&url=https://fampay.in/blog/fampay-is-set-to-launch-indias-first-and-biggest-digi-fest-for-teens/\n",
      "Finished checking site: https://twitter.com/intent/tweet?text=FamPay%20is%20set%20to%20launch%20India%E2%80%99s%20first%20and%20biggest%20Digi-Fest%20for%20Teens&url=https://fampay.in/blog/fampay-is-set-to-launch-indias-first-and-biggest-digi-fest-for-teens/, time: 1.164034128189087\n",
      "Checking site: https://twitter.com/intent/tweet?text=FamPay%20is%20set%20to%20launch%20India%E2%80%99s%20first%20and%20biggest%20Digi-Fest%20for%20Teens&url=https://fampay.in/blog/fampay-is-set-to-launch-indias-first-and-biggest-digi-fest-for-teens/\n",
      "Finished checking site: https://twitter.com/intent/tweet?text=FamPay%20is%20set%20to%20launch%20India%E2%80%99s%20first%20and%20biggest%20Digi-Fest%20for%20Teens&url=https://fampay.in/blog/fampay-is-set-to-launch-indias-first-and-biggest-digi-fest-for-teens/, time: 1.1408119201660156\n",
      "Finished checking site: https://twitter.com/intent/tweet?text=FamPay%20is%20set%20to%20launch%20India%E2%80%99s%20first%20and%20biggest%20Digi-Fest%20for%20Teens&url=https://fampay.in/blog/fampay-is-set-to-launch-indias-first-and-biggest-digi-fest-for-teens/\n",
      "Checking site: https://www.aninews.in/news/business/fampay-is-set-to-launch-indias-first-and-biggest-digi-fest-for-teens20201104123744/\n",
      "Finished checking site: https://www.aninews.in/news/business/fampay-is-set-to-launch-indias-first-and-biggest-digi-fest-for-teens20201104123744/, time: 0.1912524700164795\n",
      "Checking site: https://www.aninews.in/news/business/fampay-is-set-to-launch-indias-first-and-biggest-digi-fest-for-teens20201104123744/\n",
      "Finished checking site: https://www.aninews.in/news/business/fampay-is-set-to-launch-indias-first-and-biggest-digi-fest-for-teens20201104123744/, time: 0.15128636360168457\n",
      "Finished checking site: https://www.aninews.in/news/business/fampay-is-set-to-launch-indias-first-and-biggest-digi-fest-for-teens20201104123744/\n",
      "Checking site: https://www.aninews.in/topic/fampay/\n",
      "Finished checking site: https://www.aninews.in/topic/fampay/, time: 0.13802337646484375\n",
      "Checking site: https://www.aninews.in/topic/fampay/\n",
      "Finished checking site: https://www.aninews.in/topic/fampay/, time: 0.13112759590148926\n",
      "Finished checking site: https://www.aninews.in/topic/fampay/\n",
      "Checking site: https://famapp.in/blog/zetas-fusion-to-power-fampays-cashless-payments-for-gen-z/\n",
      "Finished checking site: https://famapp.in/blog/zetas-fusion-to-power-fampays-cashless-payments-for-gen-z/, time: 0.22092652320861816\n",
      "Checking site: https://famapp.in/blog/zetas-fusion-to-power-fampays-cashless-payments-for-gen-z/\n",
      "Finished checking site: https://famapp.in/blog/zetas-fusion-to-power-fampays-cashless-payments-for-gen-z/, time: 0.14455223083496094\n",
      "Finished checking site: https://famapp.in/blog/zetas-fusion-to-power-fampays-cashless-payments-for-gen-z/\n",
      "Checking site: https://wa.me/?text=Zeta%E2%80%99s%20Fusion%20To%20Power%20FamPay%E2%80%99s%20Cashless%20Payments%20For%20Gen%20Z%20https://fampay.in/blog/zetas-fusion-to-power-fampays-cashless-payments-for-gen-z/\n",
      "Finished checking site: https://wa.me/?text=Zeta%E2%80%99s%20Fusion%20To%20Power%20FamPay%E2%80%99s%20Cashless%20Payments%20For%20Gen%20Z%20https://fampay.in/blog/zetas-fusion-to-power-fampays-cashless-payments-for-gen-z/, time: 0.6833629608154297\n",
      "Checking site: https://wa.me/?text=Zeta%E2%80%99s%20Fusion%20To%20Power%20FamPay%E2%80%99s%20Cashless%20Payments%20For%20Gen%20Z%20https://fampay.in/blog/zetas-fusion-to-power-fampays-cashless-payments-for-gen-z/\n",
      "Finished checking site: https://wa.me/?text=Zeta%E2%80%99s%20Fusion%20To%20Power%20FamPay%E2%80%99s%20Cashless%20Payments%20For%20Gen%20Z%20https://fampay.in/blog/zetas-fusion-to-power-fampays-cashless-payments-for-gen-z/, time: 1.0499844551086426\n",
      "Finished checking site: https://wa.me/?text=Zeta%E2%80%99s%20Fusion%20To%20Power%20FamPay%E2%80%99s%20Cashless%20Payments%20For%20Gen%20Z%20https://fampay.in/blog/zetas-fusion-to-power-fampays-cashless-payments-for-gen-z/\n",
      "Checking site: https://www.facebook.com/sharer/sharer.php?u=https://fampay.in/blog/zetas-fusion-to-power-fampays-cashless-payments-for-gen-z/\n",
      "Finished checking site: https://www.facebook.com/sharer/sharer.php?u=https://fampay.in/blog/zetas-fusion-to-power-fampays-cashless-payments-for-gen-z/, time: 0.6305902004241943\n",
      "Checking site: https://www.facebook.com/sharer/sharer.php?u=https://fampay.in/blog/zetas-fusion-to-power-fampays-cashless-payments-for-gen-z/\n",
      "Finished checking site: https://www.facebook.com/sharer/sharer.php?u=https://fampay.in/blog/zetas-fusion-to-power-fampays-cashless-payments-for-gen-z/, time: 0.9989891052246094\n",
      "Finished checking site: https://www.facebook.com/sharer/sharer.php?u=https://fampay.in/blog/zetas-fusion-to-power-fampays-cashless-payments-for-gen-z/\n",
      "Checking site: https://twitter.com/intent/tweet?text=Zeta%E2%80%99s%20Fusion%20To%20Power%20FamPay%E2%80%99s%20Cashless%20Payments%20For%20Gen%20Z&url=https://fampay.in/blog/zetas-fusion-to-power-fampays-cashless-payments-for-gen-z/\n",
      "Finished checking site: https://twitter.com/intent/tweet?text=Zeta%E2%80%99s%20Fusion%20To%20Power%20FamPay%E2%80%99s%20Cashless%20Payments%20For%20Gen%20Z&url=https://fampay.in/blog/zetas-fusion-to-power-fampays-cashless-payments-for-gen-z/, time: 1.0668995380401611\n",
      "Checking site: https://twitter.com/intent/tweet?text=Zeta%E2%80%99s%20Fusion%20To%20Power%20FamPay%E2%80%99s%20Cashless%20Payments%20For%20Gen%20Z&url=https://fampay.in/blog/zetas-fusion-to-power-fampays-cashless-payments-for-gen-z/\n",
      "Finished checking site: https://twitter.com/intent/tweet?text=Zeta%E2%80%99s%20Fusion%20To%20Power%20FamPay%E2%80%99s%20Cashless%20Payments%20For%20Gen%20Z&url=https://fampay.in/blog/zetas-fusion-to-power-fampays-cashless-payments-for-gen-z/, time: 1.0520951747894287\n",
      "Finished checking site: https://twitter.com/intent/tweet?text=Zeta%E2%80%99s%20Fusion%20To%20Power%20FamPay%E2%80%99s%20Cashless%20Payments%20For%20Gen%20Z&url=https://fampay.in/blog/zetas-fusion-to-power-fampays-cashless-payments-for-gen-z/\n",
      "Checking site: https://famapp.in/blog/digital-payments-exploding-in-india-yet-the-tech-savvy-teens-still-stuck-paying-with-cash-survey-by-fampay-indias-first-neobank-for-teenagers/\n",
      "Finished checking site: https://famapp.in/blog/digital-payments-exploding-in-india-yet-the-tech-savvy-teens-still-stuck-paying-with-cash-survey-by-fampay-indias-first-neobank-for-teenagers/, time: 0.19710946083068848\n",
      "Checking site: https://famapp.in/blog/digital-payments-exploding-in-india-yet-the-tech-savvy-teens-still-stuck-paying-with-cash-survey-by-fampay-indias-first-neobank-for-teenagers/\n",
      "Finished checking site: https://famapp.in/blog/digital-payments-exploding-in-india-yet-the-tech-savvy-teens-still-stuck-paying-with-cash-survey-by-fampay-indias-first-neobank-for-teenagers/, time: 0.24441790580749512\n",
      "Finished checking site: https://famapp.in/blog/digital-payments-exploding-in-india-yet-the-tech-savvy-teens-still-stuck-paying-with-cash-survey-by-fampay-indias-first-neobank-for-teenagers/\n",
      "Checking site: https://wa.me/?text=Digital%20Payments%20Exploding%20in%20India%2C%20Yet%20the%20Tech-Savvy%20Teens%20Still%20Stuck%20Paying%20with%20Cash%20https://fampay.in/blog/digital-payments-exploding-in-india-yet-the-tech-savvy-teens-still-stuck-paying-with-cash-survey-by-fampay-indias-first-neobank-for-teenagers/\n",
      "Finished checking site: https://wa.me/?text=Digital%20Payments%20Exploding%20in%20India%2C%20Yet%20the%20Tech-Savvy%20Teens%20Still%20Stuck%20Paying%20with%20Cash%20https://fampay.in/blog/digital-payments-exploding-in-india-yet-the-tech-savvy-teens-still-stuck-paying-with-cash-survey-by-fampay-indias-first-neobank-for-teenagers/, time: 0.9480655193328857\n",
      "Checking site: https://wa.me/?text=Digital%20Payments%20Exploding%20in%20India%2C%20Yet%20the%20Tech-Savvy%20Teens%20Still%20Stuck%20Paying%20with%20Cash%20https://fampay.in/blog/digital-payments-exploding-in-india-yet-the-tech-savvy-teens-still-stuck-paying-with-cash-survey-by-fampay-indias-first-neobank-for-teenagers/\n",
      "Finished checking site: https://wa.me/?text=Digital%20Payments%20Exploding%20in%20India%2C%20Yet%20the%20Tech-Savvy%20Teens%20Still%20Stuck%20Paying%20with%20Cash%20https://fampay.in/blog/digital-payments-exploding-in-india-yet-the-tech-savvy-teens-still-stuck-paying-with-cash-survey-by-fampay-indias-first-neobank-for-teenagers/, time: 1.2151179313659668\n",
      "Finished checking site: https://wa.me/?text=Digital%20Payments%20Exploding%20in%20India%2C%20Yet%20the%20Tech-Savvy%20Teens%20Still%20Stuck%20Paying%20with%20Cash%20https://fampay.in/blog/digital-payments-exploding-in-india-yet-the-tech-savvy-teens-still-stuck-paying-with-cash-survey-by-fampay-indias-first-neobank-for-teenagers/\n",
      "Checking site: https://www.facebook.com/sharer/sharer.php?u=https://fampay.in/blog/digital-payments-exploding-in-india-yet-the-tech-savvy-teens-still-stuck-paying-with-cash-survey-by-fampay-indias-first-neobank-for-teenagers/\n",
      "Finished checking site: https://www.facebook.com/sharer/sharer.php?u=https://fampay.in/blog/digital-payments-exploding-in-india-yet-the-tech-savvy-teens-still-stuck-paying-with-cash-survey-by-fampay-indias-first-neobank-for-teenagers/, time: 0.34903931617736816\n",
      "Checking site: https://www.facebook.com/sharer/sharer.php?u=https://fampay.in/blog/digital-payments-exploding-in-india-yet-the-tech-savvy-teens-still-stuck-paying-with-cash-survey-by-fampay-indias-first-neobank-for-teenagers/\n",
      "Finished checking site: https://www.facebook.com/sharer/sharer.php?u=https://fampay.in/blog/digital-payments-exploding-in-india-yet-the-tech-savvy-teens-still-stuck-paying-with-cash-survey-by-fampay-indias-first-neobank-for-teenagers/, time: 0.8987917900085449\n",
      "Finished checking site: https://www.facebook.com/sharer/sharer.php?u=https://fampay.in/blog/digital-payments-exploding-in-india-yet-the-tech-savvy-teens-still-stuck-paying-with-cash-survey-by-fampay-indias-first-neobank-for-teenagers/\n",
      "Checking site: https://twitter.com/intent/tweet?text=Digital%20Payments%20Exploding%20in%20India%2C%20Yet%20the%20Tech-Savvy%20Teens%20Still%20Stuck%20Paying%20with%20Cash&url=https://fampay.in/blog/digital-payments-exploding-in-india-yet-the-tech-savvy-teens-still-stuck-paying-with-cash-survey-by-fampay-indias-first-neobank-for-teenagers/\n",
      "Finished checking site: https://twitter.com/intent/tweet?text=Digital%20Payments%20Exploding%20in%20India%2C%20Yet%20the%20Tech-Savvy%20Teens%20Still%20Stuck%20Paying%20with%20Cash&url=https://fampay.in/blog/digital-payments-exploding-in-india-yet-the-tech-savvy-teens-still-stuck-paying-with-cash-survey-by-fampay-indias-first-neobank-for-teenagers/, time: 1.2820770740509033\n",
      "Checking site: https://twitter.com/intent/tweet?text=Digital%20Payments%20Exploding%20in%20India%2C%20Yet%20the%20Tech-Savvy%20Teens%20Still%20Stuck%20Paying%20with%20Cash&url=https://fampay.in/blog/digital-payments-exploding-in-india-yet-the-tech-savvy-teens-still-stuck-paying-with-cash-survey-by-fampay-indias-first-neobank-for-teenagers/\n",
      "Finished checking site: https://twitter.com/intent/tweet?text=Digital%20Payments%20Exploding%20in%20India%2C%20Yet%20the%20Tech-Savvy%20Teens%20Still%20Stuck%20Paying%20with%20Cash&url=https://fampay.in/blog/digital-payments-exploding-in-india-yet-the-tech-savvy-teens-still-stuck-paying-with-cash-survey-by-fampay-indias-first-neobank-for-teenagers/, time: 1.0268778800964355\n",
      "Finished checking site: https://twitter.com/intent/tweet?text=Digital%20Payments%20Exploding%20in%20India%2C%20Yet%20the%20Tech-Savvy%20Teens%20Still%20Stuck%20Paying%20with%20Cash&url=https://fampay.in/blog/digital-payments-exploding-in-india-yet-the-tech-savvy-teens-still-stuck-paying-with-cash-survey-by-fampay-indias-first-neobank-for-teenagers/\n",
      "Checking site: https://famapp.in/blog/this-fintech-startup-by-iit-roorkee-alum-is-giving-teenagers-financial-freedom-responsibly-yourstory/\n",
      "Finished checking site: https://famapp.in/blog/this-fintech-startup-by-iit-roorkee-alum-is-giving-teenagers-financial-freedom-responsibly-yourstory/, time: 0.20786690711975098\n",
      "Checking site: https://famapp.in/blog/this-fintech-startup-by-iit-roorkee-alum-is-giving-teenagers-financial-freedom-responsibly-yourstory/\n",
      "Finished checking site: https://famapp.in/blog/this-fintech-startup-by-iit-roorkee-alum-is-giving-teenagers-financial-freedom-responsibly-yourstory/, time: 0.258500337600708\n",
      "Finished checking site: https://famapp.in/blog/this-fintech-startup-by-iit-roorkee-alum-is-giving-teenagers-financial-freedom-responsibly-yourstory/\n",
      "Checking site: https://wa.me/?text=This%20fintech%20startup%20by%20IIT%20Roorkee%20alum%20is%20giving%20teenagers%20financial%20freedom%20responsibly%3A%20YourStory%20https://fampay.in/blog/this-fintech-startup-by-iit-roorkee-alum-is-giving-teenagers-financial-freedom-responsibly-yourstory/\n",
      "Finished checking site: https://wa.me/?text=This%20fintech%20startup%20by%20IIT%20Roorkee%20alum%20is%20giving%20teenagers%20financial%20freedom%20responsibly%3A%20YourStory%20https://fampay.in/blog/this-fintech-startup-by-iit-roorkee-alum-is-giving-teenagers-financial-freedom-responsibly-yourstory/, time: 0.7793717384338379\n",
      "Checking site: https://wa.me/?text=This%20fintech%20startup%20by%20IIT%20Roorkee%20alum%20is%20giving%20teenagers%20financial%20freedom%20responsibly%3A%20YourStory%20https://fampay.in/blog/this-fintech-startup-by-iit-roorkee-alum-is-giving-teenagers-financial-freedom-responsibly-yourstory/\n",
      "Finished checking site: https://wa.me/?text=This%20fintech%20startup%20by%20IIT%20Roorkee%20alum%20is%20giving%20teenagers%20financial%20freedom%20responsibly%3A%20YourStory%20https://fampay.in/blog/this-fintech-startup-by-iit-roorkee-alum-is-giving-teenagers-financial-freedom-responsibly-yourstory/, time: 0.9152786731719971\n",
      "Finished checking site: https://wa.me/?text=This%20fintech%20startup%20by%20IIT%20Roorkee%20alum%20is%20giving%20teenagers%20financial%20freedom%20responsibly%3A%20YourStory%20https://fampay.in/blog/this-fintech-startup-by-iit-roorkee-alum-is-giving-teenagers-financial-freedom-responsibly-yourstory/\n",
      "Checking site: https://www.facebook.com/sharer/sharer.php?u=https://fampay.in/blog/this-fintech-startup-by-iit-roorkee-alum-is-giving-teenagers-financial-freedom-responsibly-yourstory/\n",
      "Finished checking site: https://www.facebook.com/sharer/sharer.php?u=https://fampay.in/blog/this-fintech-startup-by-iit-roorkee-alum-is-giving-teenagers-financial-freedom-responsibly-yourstory/, time: 0.5793383121490479\n",
      "Checking site: https://www.facebook.com/sharer/sharer.php?u=https://fampay.in/blog/this-fintech-startup-by-iit-roorkee-alum-is-giving-teenagers-financial-freedom-responsibly-yourstory/\n",
      "Finished checking site: https://www.facebook.com/sharer/sharer.php?u=https://fampay.in/blog/this-fintech-startup-by-iit-roorkee-alum-is-giving-teenagers-financial-freedom-responsibly-yourstory/, time: 0.9621391296386719\n",
      "Finished checking site: https://www.facebook.com/sharer/sharer.php?u=https://fampay.in/blog/this-fintech-startup-by-iit-roorkee-alum-is-giving-teenagers-financial-freedom-responsibly-yourstory/\n",
      "Checking site: https://twitter.com/intent/tweet?text=This%20fintech%20startup%20by%20IIT%20Roorkee%20alum%20is%20giving%20teenagers%20financial%20freedom%20responsibly%3A%20YourStory&url=https://fampay.in/blog/this-fintech-startup-by-iit-roorkee-alum-is-giving-teenagers-financial-freedom-responsibly-yourstory/\n",
      "Finished checking site: https://twitter.com/intent/tweet?text=This%20fintech%20startup%20by%20IIT%20Roorkee%20alum%20is%20giving%20teenagers%20financial%20freedom%20responsibly%3A%20YourStory&url=https://fampay.in/blog/this-fintech-startup-by-iit-roorkee-alum-is-giving-teenagers-financial-freedom-responsibly-yourstory/, time: 1.0019495487213135\n",
      "Checking site: https://twitter.com/intent/tweet?text=This%20fintech%20startup%20by%20IIT%20Roorkee%20alum%20is%20giving%20teenagers%20financial%20freedom%20responsibly%3A%20YourStory&url=https://fampay.in/blog/this-fintech-startup-by-iit-roorkee-alum-is-giving-teenagers-financial-freedom-responsibly-yourstory/\n",
      "Finished checking site: https://twitter.com/intent/tweet?text=This%20fintech%20startup%20by%20IIT%20Roorkee%20alum%20is%20giving%20teenagers%20financial%20freedom%20responsibly%3A%20YourStory&url=https://fampay.in/blog/this-fintech-startup-by-iit-roorkee-alum-is-giving-teenagers-financial-freedom-responsibly-yourstory/, time: 1.1901392936706543\n",
      "Finished checking site: https://twitter.com/intent/tweet?text=This%20fintech%20startup%20by%20IIT%20Roorkee%20alum%20is%20giving%20teenagers%20financial%20freedom%20responsibly%3A%20YourStory&url=https://fampay.in/blog/this-fintech-startup-by-iit-roorkee-alum-is-giving-teenagers-financial-freedom-responsibly-yourstory/\n",
      "Checking site: https://famapp.in/blog/fampay-announces-launch-of-indias-first-numberless-card/\n",
      "Finished checking site: https://famapp.in/blog/fampay-announces-launch-of-indias-first-numberless-card/, time: 0.2983520030975342\n",
      "Checking site: https://famapp.in/blog/fampay-announces-launch-of-indias-first-numberless-card/\n",
      "Finished checking site: https://famapp.in/blog/fampay-announces-launch-of-indias-first-numberless-card/, time: 0.22647666931152344\n",
      "Finished checking site: https://famapp.in/blog/fampay-announces-launch-of-indias-first-numberless-card/\n",
      "Checking site: https://wa.me/?text=FamPay%20Announces%20Launch%20of%20India%E2%80%99s%20First%20Numberless%20Card%20https://fampay.in/blog/fampay-announces-launch-of-indias-first-numberless-card/\n",
      "Finished checking site: https://wa.me/?text=FamPay%20Announces%20Launch%20of%20India%E2%80%99s%20First%20Numberless%20Card%20https://fampay.in/blog/fampay-announces-launch-of-indias-first-numberless-card/, time: 1.0622379779815674\n",
      "Checking site: https://wa.me/?text=FamPay%20Announces%20Launch%20of%20India%E2%80%99s%20First%20Numberless%20Card%20https://fampay.in/blog/fampay-announces-launch-of-indias-first-numberless-card/\n",
      "Finished checking site: https://wa.me/?text=FamPay%20Announces%20Launch%20of%20India%E2%80%99s%20First%20Numberless%20Card%20https://fampay.in/blog/fampay-announces-launch-of-indias-first-numberless-card/, time: 0.7447390556335449\n",
      "Finished checking site: https://wa.me/?text=FamPay%20Announces%20Launch%20of%20India%E2%80%99s%20First%20Numberless%20Card%20https://fampay.in/blog/fampay-announces-launch-of-indias-first-numberless-card/\n",
      "Checking site: https://www.facebook.com/sharer/sharer.php?u=https://fampay.in/blog/fampay-announces-launch-of-indias-first-numberless-card/\n",
      "Finished checking site: https://www.facebook.com/sharer/sharer.php?u=https://fampay.in/blog/fampay-announces-launch-of-indias-first-numberless-card/, time: 0.549267053604126\n",
      "Checking site: https://www.facebook.com/sharer/sharer.php?u=https://fampay.in/blog/fampay-announces-launch-of-indias-first-numberless-card/\n",
      "Finished checking site: https://www.facebook.com/sharer/sharer.php?u=https://fampay.in/blog/fampay-announces-launch-of-indias-first-numberless-card/, time: 0.9530048370361328\n",
      "Finished checking site: https://www.facebook.com/sharer/sharer.php?u=https://fampay.in/blog/fampay-announces-launch-of-indias-first-numberless-card/\n",
      "Checking site: https://twitter.com/intent/tweet?text=FamPay%20Announces%20Launch%20of%20India%E2%80%99s%20First%20Numberless%20Card&url=https://fampay.in/blog/fampay-announces-launch-of-indias-first-numberless-card/\n",
      "Finished checking site: https://twitter.com/intent/tweet?text=FamPay%20Announces%20Launch%20of%20India%E2%80%99s%20First%20Numberless%20Card&url=https://fampay.in/blog/fampay-announces-launch-of-indias-first-numberless-card/, time: 1.1127846240997314\n",
      "Checking site: https://twitter.com/intent/tweet?text=FamPay%20Announces%20Launch%20of%20India%E2%80%99s%20First%20Numberless%20Card&url=https://fampay.in/blog/fampay-announces-launch-of-indias-first-numberless-card/\n",
      "Finished checking site: https://twitter.com/intent/tweet?text=FamPay%20Announces%20Launch%20of%20India%E2%80%99s%20First%20Numberless%20Card&url=https://fampay.in/blog/fampay-announces-launch-of-indias-first-numberless-card/, time: 1.031883955001831\n",
      "Finished checking site: https://twitter.com/intent/tweet?text=FamPay%20Announces%20Launch%20of%20India%E2%80%99s%20First%20Numberless%20Card&url=https://fampay.in/blog/fampay-announces-launch-of-indias-first-numberless-card/\n",
      "Checking site: http://www.fampay.in/\n",
      "Finished checking site: http://www.fampay.in/, time: 0.562129020690918\n",
      "Checking site: http://www.fampay.in/\n",
      "Finished checking site: http://www.fampay.in/, time: 0.6627678871154785\n",
      "Finished checking site: http://www.fampay.in/\n",
      "Checking site: http://www.fampay.in/about\n",
      "Finished checking site: http://www.fampay.in/about, time: 0.47901129722595215\n",
      "Checking site: http://www.fampay.in/about\n",
      "Finished checking site: http://www.fampay.in/about, time: 0.400022029876709\n",
      "Finished checking site: http://www.fampay.in/about\n",
      "Checking site: http://www.fampay.in/blog\n",
      "Finished checking site: http://www.fampay.in/blog, time: 0.7540271282196045\n",
      "Checking site: http://www.fampay.in/blog\n",
      "Finished checking site: http://www.fampay.in/blog, time: 0.7419312000274658\n",
      "Finished checking site: http://www.fampay.in/blog\n",
      "Checking site: http://www.fampay.in/careers\n",
      "Finished checking site: http://www.fampay.in/careers, time: 0.4916558265686035\n",
      "Checking site: http://www.fampay.in/careers\n",
      "Finished checking site: http://www.fampay.in/careers, time: 0.5009996891021729\n",
      "Finished checking site: http://www.fampay.in/careers\n",
      "Checking site: http://www.fampay.in/partner\n",
      "Finished checking site: http://www.fampay.in/partner, time: 0.4215266704559326\n",
      "Checking site: http://www.fampay.in/partner\n",
      "Finished checking site: http://www.fampay.in/partner, time: 0.3884289264678955\n",
      "Finished checking site: http://www.fampay.in/partner\n",
      "Checking site: http://www.fampay.in/faqs\n",
      "Finished checking site: http://www.fampay.in/faqs, time: 0.46502137184143066\n",
      "Checking site: http://www.fampay.in/faqs\n",
      "Finished checking site: http://www.fampay.in/faqs, time: 0.4530365467071533\n",
      "Finished checking site: http://www.fampay.in/faqs\n",
      "Checking site: http://www.fampay.in/blog/\n",
      "Finished checking site: http://www.fampay.in/blog/, time: 0.6849117279052734\n",
      "Checking site: http://www.fampay.in/blog/\n",
      "Finished checking site: http://www.fampay.in/blog/, time: 0.647507905960083\n",
      "Finished checking site: http://www.fampay.in/blog/\n",
      "Checking site: http://www.fampay.in/press\n",
      "Finished checking site: http://www.fampay.in/press, time: 0.4281735420227051\n",
      "Checking site: http://www.fampay.in/press\n",
      "Finished checking site: http://www.fampay.in/press, time: 0.432985782623291\n",
      "Finished checking site: http://www.fampay.in/press\n",
      "Checking site: http://www.fampay.in/privacy\n",
      "Finished checking site: http://www.fampay.in/privacy, time: 0.40279507637023926\n",
      "Checking site: http://www.fampay.in/privacy\n",
      "Finished checking site: http://www.fampay.in/privacy, time: 0.3821258544921875\n",
      "Finished checking site: http://www.fampay.in/privacy\n",
      "Checking site: http://www.fampay.in/terms\n",
      "Finished checking site: http://www.fampay.in/terms, time: 0.45783424377441406\n",
      "Checking site: http://www.fampay.in/terms\n",
      "Finished checking site: http://www.fampay.in/terms, time: 0.4731733798980713\n",
      "Finished checking site: http://www.fampay.in/terms\n",
      "Checking site: http://www.fampay.in/contact\n",
      "Finished checking site: http://www.fampay.in/contact, time: 0.5719931125640869\n",
      "Checking site: http://www.fampay.in/contact\n",
      "Finished checking site: http://www.fampay.in/contact, time: 0.4308125972747803\n",
      "Finished checking site: http://www.fampay.in/contact\n",
      "Checking site: https://famapp.in/blog/fampay-raises-4-7m-from-y-combinator-sequoia-venture-highway-others/\n",
      "Finished checking site: https://famapp.in/blog/fampay-raises-4-7m-from-y-combinator-sequoia-venture-highway-others/, time: 0.21322107315063477\n",
      "Checking site: https://famapp.in/blog/fampay-raises-4-7m-from-y-combinator-sequoia-venture-highway-others/\n",
      "Finished checking site: https://famapp.in/blog/fampay-raises-4-7m-from-y-combinator-sequoia-venture-highway-others/, time: 0.19601798057556152\n",
      "Finished checking site: https://famapp.in/blog/fampay-raises-4-7m-from-y-combinator-sequoia-venture-highway-others/\n",
      "Checking site: https://wa.me/?text=FamPay%20raises%20%244.7M%20from%20Y%20Combinator%2C%20Sequoia%2C%20Venture%20Highway%20%26%20others%20https://fampay.in/blog/fampay-raises-4-7m-from-y-combinator-sequoia-venture-highway-others/\n",
      "Finished checking site: https://wa.me/?text=FamPay%20raises%20%244.7M%20from%20Y%20Combinator%2C%20Sequoia%2C%20Venture%20Highway%20%26%20others%20https://fampay.in/blog/fampay-raises-4-7m-from-y-combinator-sequoia-venture-highway-others/, time: 0.889542818069458\n",
      "Checking site: https://wa.me/?text=FamPay%20raises%20%244.7M%20from%20Y%20Combinator%2C%20Sequoia%2C%20Venture%20Highway%20%26%20others%20https://fampay.in/blog/fampay-raises-4-7m-from-y-combinator-sequoia-venture-highway-others/\n",
      "Finished checking site: https://wa.me/?text=FamPay%20raises%20%244.7M%20from%20Y%20Combinator%2C%20Sequoia%2C%20Venture%20Highway%20%26%20others%20https://fampay.in/blog/fampay-raises-4-7m-from-y-combinator-sequoia-venture-highway-others/, time: 0.9233036041259766\n",
      "Finished checking site: https://wa.me/?text=FamPay%20raises%20%244.7M%20from%20Y%20Combinator%2C%20Sequoia%2C%20Venture%20Highway%20%26%20others%20https://fampay.in/blog/fampay-raises-4-7m-from-y-combinator-sequoia-venture-highway-others/\n",
      "Checking site: https://www.facebook.com/sharer/sharer.php?u=https://fampay.in/blog/fampay-raises-4-7m-from-y-combinator-sequoia-venture-highway-others/\n",
      "Finished checking site: https://www.facebook.com/sharer/sharer.php?u=https://fampay.in/blog/fampay-raises-4-7m-from-y-combinator-sequoia-venture-highway-others/, time: 0.5729594230651855\n",
      "Checking site: https://www.facebook.com/sharer/sharer.php?u=https://fampay.in/blog/fampay-raises-4-7m-from-y-combinator-sequoia-venture-highway-others/\n",
      "Finished checking site: https://www.facebook.com/sharer/sharer.php?u=https://fampay.in/blog/fampay-raises-4-7m-from-y-combinator-sequoia-venture-highway-others/, time: 1.2013328075408936\n",
      "Finished checking site: https://www.facebook.com/sharer/sharer.php?u=https://fampay.in/blog/fampay-raises-4-7m-from-y-combinator-sequoia-venture-highway-others/\n",
      "Checking site: https://twitter.com/intent/tweet?text=FamPay%20raises%20%244.7M%20from%20Y%20Combinator%2C%20Sequoia%2C%20Venture%20Highway%20%26%20others&url=https://fampay.in/blog/fampay-raises-4-7m-from-y-combinator-sequoia-venture-highway-others/\n",
      "Finished checking site: https://twitter.com/intent/tweet?text=FamPay%20raises%20%244.7M%20from%20Y%20Combinator%2C%20Sequoia%2C%20Venture%20Highway%20%26%20others&url=https://fampay.in/blog/fampay-raises-4-7m-from-y-combinator-sequoia-venture-highway-others/, time: 1.137451171875\n",
      "Checking site: https://twitter.com/intent/tweet?text=FamPay%20raises%20%244.7M%20from%20Y%20Combinator%2C%20Sequoia%2C%20Venture%20Highway%20%26%20others&url=https://fampay.in/blog/fampay-raises-4-7m-from-y-combinator-sequoia-venture-highway-others/\n",
      "Finished checking site: https://twitter.com/intent/tweet?text=FamPay%20raises%20%244.7M%20from%20Y%20Combinator%2C%20Sequoia%2C%20Venture%20Highway%20%26%20others&url=https://fampay.in/blog/fampay-raises-4-7m-from-y-combinator-sequoia-venture-highway-others/, time: 1.2496914863586426\n",
      "Finished checking site: https://twitter.com/intent/tweet?text=FamPay%20raises%20%244.7M%20from%20Y%20Combinator%2C%20Sequoia%2C%20Venture%20Highway%20%26%20others&url=https://fampay.in/blog/fampay-raises-4-7m-from-y-combinator-sequoia-venture-highway-others/\n",
      "Checking site: https://famapp.in/blog/tag/parents/\n",
      "Finished checking site: https://famapp.in/blog/tag/parents/, time: 0.25496459007263184\n",
      "Checking site: https://famapp.in/blog/tag/parents/\n",
      "Finished checking site: https://famapp.in/blog/tag/parents/, time: 0.26805543899536133\n",
      "Finished checking site: https://famapp.in/blog/tag/parents/\n",
      "Checking site: https://famapp.in/blog/healthy-wealth-how-can-parents-have-a-healthy-discussion-about-money-with-their-children/\n",
      "Finished checking site: https://famapp.in/blog/healthy-wealth-how-can-parents-have-a-healthy-discussion-about-money-with-their-children/, time: 0.181840181350708\n",
      "Checking site: https://famapp.in/blog/healthy-wealth-how-can-parents-have-a-healthy-discussion-about-money-with-their-children/\n",
      "Finished checking site: https://famapp.in/blog/healthy-wealth-how-can-parents-have-a-healthy-discussion-about-money-with-their-children/, time: 0.15308880805969238\n",
      "Finished checking site: https://famapp.in/blog/healthy-wealth-how-can-parents-have-a-healthy-discussion-about-money-with-their-children/\n",
      "Checking site: https://wa.me/?text=Healthy%20Wealth-%20How%20can%20parents%20have%20a%20healthy%20discussion%20about%20money%20with%20their%20children%3F%20https://fampay.in/blog/healthy-wealth-how-can-parents-have-a-healthy-discussion-about-money-with-their-children/\n",
      "Finished checking site: https://wa.me/?text=Healthy%20Wealth-%20How%20can%20parents%20have%20a%20healthy%20discussion%20about%20money%20with%20their%20children%3F%20https://fampay.in/blog/healthy-wealth-how-can-parents-have-a-healthy-discussion-about-money-with-their-children/, time: 0.9269301891326904\n",
      "Checking site: https://wa.me/?text=Healthy%20Wealth-%20How%20can%20parents%20have%20a%20healthy%20discussion%20about%20money%20with%20their%20children%3F%20https://fampay.in/blog/healthy-wealth-how-can-parents-have-a-healthy-discussion-about-money-with-their-children/\n",
      "Finished checking site: https://wa.me/?text=Healthy%20Wealth-%20How%20can%20parents%20have%20a%20healthy%20discussion%20about%20money%20with%20their%20children%3F%20https://fampay.in/blog/healthy-wealth-how-can-parents-have-a-healthy-discussion-about-money-with-their-children/, time: 0.9687247276306152\n",
      "Finished checking site: https://wa.me/?text=Healthy%20Wealth-%20How%20can%20parents%20have%20a%20healthy%20discussion%20about%20money%20with%20their%20children%3F%20https://fampay.in/blog/healthy-wealth-how-can-parents-have-a-healthy-discussion-about-money-with-their-children/\n",
      "Checking site: https://www.facebook.com/sharer/sharer.php?u=https://fampay.in/blog/healthy-wealth-how-can-parents-have-a-healthy-discussion-about-money-with-their-children/\n",
      "Finished checking site: https://www.facebook.com/sharer/sharer.php?u=https://fampay.in/blog/healthy-wealth-how-can-parents-have-a-healthy-discussion-about-money-with-their-children/, time: 0.3312840461730957\n",
      "Checking site: https://www.facebook.com/sharer/sharer.php?u=https://fampay.in/blog/healthy-wealth-how-can-parents-have-a-healthy-discussion-about-money-with-their-children/\n",
      "Finished checking site: https://www.facebook.com/sharer/sharer.php?u=https://fampay.in/blog/healthy-wealth-how-can-parents-have-a-healthy-discussion-about-money-with-their-children/, time: 1.217193603515625\n",
      "Finished checking site: https://www.facebook.com/sharer/sharer.php?u=https://fampay.in/blog/healthy-wealth-how-can-parents-have-a-healthy-discussion-about-money-with-their-children/\n",
      "Checking site: https://twitter.com/intent/tweet?text=Healthy%20Wealth-%20How%20can%20parents%20have%20a%20healthy%20discussion%20about%20money%20with%20their%20children%3F&url=https://fampay.in/blog/healthy-wealth-how-can-parents-have-a-healthy-discussion-about-money-with-their-children/\n",
      "Finished checking site: https://twitter.com/intent/tweet?text=Healthy%20Wealth-%20How%20can%20parents%20have%20a%20healthy%20discussion%20about%20money%20with%20their%20children%3F&url=https://fampay.in/blog/healthy-wealth-how-can-parents-have-a-healthy-discussion-about-money-with-their-children/, time: 1.0666310787200928\n",
      "Checking site: https://twitter.com/intent/tweet?text=Healthy%20Wealth-%20How%20can%20parents%20have%20a%20healthy%20discussion%20about%20money%20with%20their%20children%3F&url=https://fampay.in/blog/healthy-wealth-how-can-parents-have-a-healthy-discussion-about-money-with-their-children/\n",
      "Finished checking site: https://twitter.com/intent/tweet?text=Healthy%20Wealth-%20How%20can%20parents%20have%20a%20healthy%20discussion%20about%20money%20with%20their%20children%3F&url=https://fampay.in/blog/healthy-wealth-how-can-parents-have-a-healthy-discussion-about-money-with-their-children/, time: 1.1910011768341064\n",
      "Finished checking site: https://twitter.com/intent/tweet?text=Healthy%20Wealth-%20How%20can%20parents%20have%20a%20healthy%20discussion%20about%20money%20with%20their%20children%3F&url=https://fampay.in/blog/healthy-wealth-how-can-parents-have-a-healthy-discussion-about-money-with-their-children/\n",
      "Checking site: https://famapp.in/blog/being-a-digital-parent-tips-to-mentor-everything-digital-that-your-teen-uses/\n",
      "Finished checking site: https://famapp.in/blog/being-a-digital-parent-tips-to-mentor-everything-digital-that-your-teen-uses/, time: 0.22485995292663574\n",
      "Checking site: https://famapp.in/blog/being-a-digital-parent-tips-to-mentor-everything-digital-that-your-teen-uses/\n",
      "Finished checking site: https://famapp.in/blog/being-a-digital-parent-tips-to-mentor-everything-digital-that-your-teen-uses/, time: 0.2551279067993164\n",
      "Finished checking site: https://famapp.in/blog/being-a-digital-parent-tips-to-mentor-everything-digital-that-your-teen-uses/\n",
      "Checking site: https://wa.me/?text=Being%20a%20Digital%20Parent%20-%20Tips%20to%20Mentor%20Everything%20Digital%20that%20your%20Teen%20Uses%20https://fampay.in/blog/being-a-digital-parent-tips-to-mentor-everything-digital-that-your-teen-uses/\n",
      "Finished checking site: https://wa.me/?text=Being%20a%20Digital%20Parent%20-%20Tips%20to%20Mentor%20Everything%20Digital%20that%20your%20Teen%20Uses%20https://fampay.in/blog/being-a-digital-parent-tips-to-mentor-everything-digital-that-your-teen-uses/, time: 0.9724950790405273\n",
      "Checking site: https://wa.me/?text=Being%20a%20Digital%20Parent%20-%20Tips%20to%20Mentor%20Everything%20Digital%20that%20your%20Teen%20Uses%20https://fampay.in/blog/being-a-digital-parent-tips-to-mentor-everything-digital-that-your-teen-uses/\n",
      "Finished checking site: https://wa.me/?text=Being%20a%20Digital%20Parent%20-%20Tips%20to%20Mentor%20Everything%20Digital%20that%20your%20Teen%20Uses%20https://fampay.in/blog/being-a-digital-parent-tips-to-mentor-everything-digital-that-your-teen-uses/, time: 0.9975805282592773\n",
      "Finished checking site: https://wa.me/?text=Being%20a%20Digital%20Parent%20-%20Tips%20to%20Mentor%20Everything%20Digital%20that%20your%20Teen%20Uses%20https://fampay.in/blog/being-a-digital-parent-tips-to-mentor-everything-digital-that-your-teen-uses/\n",
      "Checking site: https://www.facebook.com/sharer/sharer.php?u=https://fampay.in/blog/being-a-digital-parent-tips-to-mentor-everything-digital-that-your-teen-uses/\n",
      "Finished checking site: https://www.facebook.com/sharer/sharer.php?u=https://fampay.in/blog/being-a-digital-parent-tips-to-mentor-everything-digital-that-your-teen-uses/, time: 0.6077849864959717\n",
      "Checking site: https://www.facebook.com/sharer/sharer.php?u=https://fampay.in/blog/being-a-digital-parent-tips-to-mentor-everything-digital-that-your-teen-uses/\n",
      "Finished checking site: https://www.facebook.com/sharer/sharer.php?u=https://fampay.in/blog/being-a-digital-parent-tips-to-mentor-everything-digital-that-your-teen-uses/, time: 1.0263466835021973\n",
      "Finished checking site: https://www.facebook.com/sharer/sharer.php?u=https://fampay.in/blog/being-a-digital-parent-tips-to-mentor-everything-digital-that-your-teen-uses/\n",
      "Checking site: https://twitter.com/intent/tweet?text=Being%20a%20Digital%20Parent%20-%20Tips%20to%20Mentor%20Everything%20Digital%20that%20your%20Teen%20Uses&url=https://fampay.in/blog/being-a-digital-parent-tips-to-mentor-everything-digital-that-your-teen-uses/\n",
      "Finished checking site: https://twitter.com/intent/tweet?text=Being%20a%20Digital%20Parent%20-%20Tips%20to%20Mentor%20Everything%20Digital%20that%20your%20Teen%20Uses&url=https://fampay.in/blog/being-a-digital-parent-tips-to-mentor-everything-digital-that-your-teen-uses/, time: 1.0829780101776123\n",
      "Checking site: https://twitter.com/intent/tweet?text=Being%20a%20Digital%20Parent%20-%20Tips%20to%20Mentor%20Everything%20Digital%20that%20your%20Teen%20Uses&url=https://fampay.in/blog/being-a-digital-parent-tips-to-mentor-everything-digital-that-your-teen-uses/\n",
      "Finished checking site: https://twitter.com/intent/tweet?text=Being%20a%20Digital%20Parent%20-%20Tips%20to%20Mentor%20Everything%20Digital%20that%20your%20Teen%20Uses&url=https://fampay.in/blog/being-a-digital-parent-tips-to-mentor-everything-digital-that-your-teen-uses/, time: 1.2085304260253906\n",
      "Finished checking site: https://twitter.com/intent/tweet?text=Being%20a%20Digital%20Parent%20-%20Tips%20to%20Mentor%20Everything%20Digital%20that%20your%20Teen%20Uses&url=https://fampay.in/blog/being-a-digital-parent-tips-to-mentor-everything-digital-that-your-teen-uses/\n",
      "Checking site: https://famapp.in/blog/top-5-tips-to-communicate-better-with-your-teenager/\n",
      "Finished checking site: https://famapp.in/blog/top-5-tips-to-communicate-better-with-your-teenager/, time: 0.2787652015686035\n",
      "Checking site: https://famapp.in/blog/top-5-tips-to-communicate-better-with-your-teenager/\n",
      "Finished checking site: https://famapp.in/blog/top-5-tips-to-communicate-better-with-your-teenager/, time: 0.23264288902282715\n",
      "Finished checking site: https://famapp.in/blog/top-5-tips-to-communicate-better-with-your-teenager/\n",
      "Checking site: https://wa.me/?text=Top%205%20Tips%20to%20Communicate%20Better%20with%20your%20Teenager%20https://fampay.in/blog/top-5-tips-to-communicate-better-with-your-teenager/\n",
      "Finished checking site: https://wa.me/?text=Top%205%20Tips%20to%20Communicate%20Better%20with%20your%20Teenager%20https://fampay.in/blog/top-5-tips-to-communicate-better-with-your-teenager/, time: 0.8982150554656982\n",
      "Checking site: https://wa.me/?text=Top%205%20Tips%20to%20Communicate%20Better%20with%20your%20Teenager%20https://fampay.in/blog/top-5-tips-to-communicate-better-with-your-teenager/\n",
      "Finished checking site: https://wa.me/?text=Top%205%20Tips%20to%20Communicate%20Better%20with%20your%20Teenager%20https://fampay.in/blog/top-5-tips-to-communicate-better-with-your-teenager/, time: 0.8918306827545166\n",
      "Finished checking site: https://wa.me/?text=Top%205%20Tips%20to%20Communicate%20Better%20with%20your%20Teenager%20https://fampay.in/blog/top-5-tips-to-communicate-better-with-your-teenager/\n",
      "Checking site: https://www.facebook.com/sharer/sharer.php?u=https://fampay.in/blog/top-5-tips-to-communicate-better-with-your-teenager/\n",
      "Finished checking site: https://www.facebook.com/sharer/sharer.php?u=https://fampay.in/blog/top-5-tips-to-communicate-better-with-your-teenager/, time: 1.113844394683838\n",
      "Checking site: https://www.facebook.com/sharer/sharer.php?u=https://fampay.in/blog/top-5-tips-to-communicate-better-with-your-teenager/\n",
      "Finished checking site: https://www.facebook.com/sharer/sharer.php?u=https://fampay.in/blog/top-5-tips-to-communicate-better-with-your-teenager/, time: 1.0908012390136719\n",
      "Finished checking site: https://www.facebook.com/sharer/sharer.php?u=https://fampay.in/blog/top-5-tips-to-communicate-better-with-your-teenager/\n",
      "Checking site: https://twitter.com/intent/tweet?text=Top%205%20Tips%20to%20Communicate%20Better%20with%20your%20Teenager&url=https://fampay.in/blog/top-5-tips-to-communicate-better-with-your-teenager/\n",
      "Finished checking site: https://twitter.com/intent/tweet?text=Top%205%20Tips%20to%20Communicate%20Better%20with%20your%20Teenager&url=https://fampay.in/blog/top-5-tips-to-communicate-better-with-your-teenager/, time: 1.1671807765960693\n",
      "Checking site: https://twitter.com/intent/tweet?text=Top%205%20Tips%20to%20Communicate%20Better%20with%20your%20Teenager&url=https://fampay.in/blog/top-5-tips-to-communicate-better-with-your-teenager/\n",
      "Finished checking site: https://twitter.com/intent/tweet?text=Top%205%20Tips%20to%20Communicate%20Better%20with%20your%20Teenager&url=https://fampay.in/blog/top-5-tips-to-communicate-better-with-your-teenager/, time: 1.0240757465362549\n",
      "Finished checking site: https://twitter.com/intent/tweet?text=Top%205%20Tips%20to%20Communicate%20Better%20with%20your%20Teenager&url=https://fampay.in/blog/top-5-tips-to-communicate-better-with-your-teenager/\n",
      "Checking site: https://famapp.in/blog/a-to-z-of-teenage-finance-financial-terms-every-parent-should-teach-their-teens/\n",
      "Finished checking site: https://famapp.in/blog/a-to-z-of-teenage-finance-financial-terms-every-parent-should-teach-their-teens/, time: 0.2715170383453369\n",
      "Checking site: https://famapp.in/blog/a-to-z-of-teenage-finance-financial-terms-every-parent-should-teach-their-teens/\n",
      "Finished checking site: https://famapp.in/blog/a-to-z-of-teenage-finance-financial-terms-every-parent-should-teach-their-teens/, time: 0.24111008644104004\n",
      "Finished checking site: https://famapp.in/blog/a-to-z-of-teenage-finance-financial-terms-every-parent-should-teach-their-teens/\n",
      "Checking site: https://wa.me/?text=A%20to%20Z%20of%20teenage%20finance-%20financial%20terms%20every%20parent%20should%20teach%20their%20teens%20https://fampay.in/blog/a-to-z-of-teenage-finance-financial-terms-every-parent-should-teach-their-teens/\n",
      "Finished checking site: https://wa.me/?text=A%20to%20Z%20of%20teenage%20finance-%20financial%20terms%20every%20parent%20should%20teach%20their%20teens%20https://fampay.in/blog/a-to-z-of-teenage-finance-financial-terms-every-parent-should-teach-their-teens/, time: 0.7704160213470459\n",
      "Checking site: https://wa.me/?text=A%20to%20Z%20of%20teenage%20finance-%20financial%20terms%20every%20parent%20should%20teach%20their%20teens%20https://fampay.in/blog/a-to-z-of-teenage-finance-financial-terms-every-parent-should-teach-their-teens/\n",
      "Finished checking site: https://wa.me/?text=A%20to%20Z%20of%20teenage%20finance-%20financial%20terms%20every%20parent%20should%20teach%20their%20teens%20https://fampay.in/blog/a-to-z-of-teenage-finance-financial-terms-every-parent-should-teach-their-teens/, time: 1.0291359424591064\n",
      "Finished checking site: https://wa.me/?text=A%20to%20Z%20of%20teenage%20finance-%20financial%20terms%20every%20parent%20should%20teach%20their%20teens%20https://fampay.in/blog/a-to-z-of-teenage-finance-financial-terms-every-parent-should-teach-their-teens/\n",
      "Checking site: https://www.facebook.com/sharer/sharer.php?u=https://fampay.in/blog/a-to-z-of-teenage-finance-financial-terms-every-parent-should-teach-their-teens/\n",
      "Finished checking site: https://www.facebook.com/sharer/sharer.php?u=https://fampay.in/blog/a-to-z-of-teenage-finance-financial-terms-every-parent-should-teach-their-teens/, time: 0.5641429424285889\n",
      "Checking site: https://www.facebook.com/sharer/sharer.php?u=https://fampay.in/blog/a-to-z-of-teenage-finance-financial-terms-every-parent-should-teach-their-teens/\n",
      "Finished checking site: https://www.facebook.com/sharer/sharer.php?u=https://fampay.in/blog/a-to-z-of-teenage-finance-financial-terms-every-parent-should-teach-their-teens/, time: 0.9001855850219727\n",
      "Finished checking site: https://www.facebook.com/sharer/sharer.php?u=https://fampay.in/blog/a-to-z-of-teenage-finance-financial-terms-every-parent-should-teach-their-teens/\n",
      "Checking site: https://twitter.com/intent/tweet?text=A%20to%20Z%20of%20teenage%20finance-%20financial%20terms%20every%20parent%20should%20teach%20their%20teens&url=https://fampay.in/blog/a-to-z-of-teenage-finance-financial-terms-every-parent-should-teach-their-teens/\n",
      "Finished checking site: https://twitter.com/intent/tweet?text=A%20to%20Z%20of%20teenage%20finance-%20financial%20terms%20every%20parent%20should%20teach%20their%20teens&url=https://fampay.in/blog/a-to-z-of-teenage-finance-financial-terms-every-parent-should-teach-their-teens/, time: 1.0902280807495117\n",
      "Checking site: https://twitter.com/intent/tweet?text=A%20to%20Z%20of%20teenage%20finance-%20financial%20terms%20every%20parent%20should%20teach%20their%20teens&url=https://fampay.in/blog/a-to-z-of-teenage-finance-financial-terms-every-parent-should-teach-their-teens/\n",
      "Finished checking site: https://twitter.com/intent/tweet?text=A%20to%20Z%20of%20teenage%20finance-%20financial%20terms%20every%20parent%20should%20teach%20their%20teens&url=https://fampay.in/blog/a-to-z-of-teenage-finance-financial-terms-every-parent-should-teach-their-teens/, time: 1.2167894840240479\n",
      "Finished checking site: https://twitter.com/intent/tweet?text=A%20to%20Z%20of%20teenage%20finance-%20financial%20terms%20every%20parent%20should%20teach%20their%20teens&url=https://fampay.in/blog/a-to-z-of-teenage-finance-financial-terms-every-parent-should-teach-their-teens/\n",
      "Checking site: https://famapp.in/blog/cyber-bullying-what-can-you-do-as-a-parent/\n",
      "Finished checking site: https://famapp.in/blog/cyber-bullying-what-can-you-do-as-a-parent/, time: 0.25610852241516113\n",
      "Checking site: https://famapp.in/blog/cyber-bullying-what-can-you-do-as-a-parent/\n",
      "Finished checking site: https://famapp.in/blog/cyber-bullying-what-can-you-do-as-a-parent/, time: 0.4335756301879883\n",
      "Finished checking site: https://famapp.in/blog/cyber-bullying-what-can-you-do-as-a-parent/\n",
      "Checking site: https://wa.me/?text=Cyberbullying%3A%20What%20can%20you%20do%20as%20a%20Parent%3F%20https://fampay.in/blog/cyber-bullying-what-can-you-do-as-a-parent/\n",
      "Finished checking site: https://wa.me/?text=Cyberbullying%3A%20What%20can%20you%20do%20as%20a%20Parent%3F%20https://fampay.in/blog/cyber-bullying-what-can-you-do-as-a-parent/, time: 0.9291071891784668\n",
      "Checking site: https://wa.me/?text=Cyberbullying%3A%20What%20can%20you%20do%20as%20a%20Parent%3F%20https://fampay.in/blog/cyber-bullying-what-can-you-do-as-a-parent/\n",
      "Finished checking site: https://wa.me/?text=Cyberbullying%3A%20What%20can%20you%20do%20as%20a%20Parent%3F%20https://fampay.in/blog/cyber-bullying-what-can-you-do-as-a-parent/, time: 1.557124137878418\n",
      "Finished checking site: https://wa.me/?text=Cyberbullying%3A%20What%20can%20you%20do%20as%20a%20Parent%3F%20https://fampay.in/blog/cyber-bullying-what-can-you-do-as-a-parent/\n",
      "Checking site: https://www.facebook.com/sharer/sharer.php?u=https://fampay.in/blog/cyber-bullying-what-can-you-do-as-a-parent/\n",
      "Finished checking site: https://www.facebook.com/sharer/sharer.php?u=https://fampay.in/blog/cyber-bullying-what-can-you-do-as-a-parent/, time: 0.586780309677124\n",
      "Checking site: https://www.facebook.com/sharer/sharer.php?u=https://fampay.in/blog/cyber-bullying-what-can-you-do-as-a-parent/\n",
      "Finished checking site: https://www.facebook.com/sharer/sharer.php?u=https://fampay.in/blog/cyber-bullying-what-can-you-do-as-a-parent/, time: 0.9550580978393555\n",
      "Finished checking site: https://www.facebook.com/sharer/sharer.php?u=https://fampay.in/blog/cyber-bullying-what-can-you-do-as-a-parent/\n",
      "Checking site: https://twitter.com/intent/tweet?text=Cyberbullying%3A%20What%20can%20you%20do%20as%20a%20Parent%3F&url=https://fampay.in/blog/cyber-bullying-what-can-you-do-as-a-parent/\n",
      "Finished checking site: https://twitter.com/intent/tweet?text=Cyberbullying%3A%20What%20can%20you%20do%20as%20a%20Parent%3F&url=https://fampay.in/blog/cyber-bullying-what-can-you-do-as-a-parent/, time: 1.200953483581543\n",
      "Checking site: https://twitter.com/intent/tweet?text=Cyberbullying%3A%20What%20can%20you%20do%20as%20a%20Parent%3F&url=https://fampay.in/blog/cyber-bullying-what-can-you-do-as-a-parent/\n",
      "Finished checking site: https://twitter.com/intent/tweet?text=Cyberbullying%3A%20What%20can%20you%20do%20as%20a%20Parent%3F&url=https://fampay.in/blog/cyber-bullying-what-can-you-do-as-a-parent/, time: 1.0931293964385986\n",
      "Finished checking site: https://twitter.com/intent/tweet?text=Cyberbullying%3A%20What%20can%20you%20do%20as%20a%20Parent%3F&url=https://fampay.in/blog/cyber-bullying-what-can-you-do-as-a-parent/\n",
      "Checking site: https://famapp.in/blog/4-ways-to-help-your-teen-learn-to-become-financially-responsible/\n",
      "Finished checking site: https://famapp.in/blog/4-ways-to-help-your-teen-learn-to-become-financially-responsible/, time: 0.23018264770507812\n",
      "Checking site: https://famapp.in/blog/4-ways-to-help-your-teen-learn-to-become-financially-responsible/\n",
      "Finished checking site: https://famapp.in/blog/4-ways-to-help-your-teen-learn-to-become-financially-responsible/, time: 0.2745068073272705\n",
      "Finished checking site: https://famapp.in/blog/4-ways-to-help-your-teen-learn-to-become-financially-responsible/\n",
      "Checking site: https://wa.me/?text=4%20Ways%20to%20Help%20Your%20Teen%20Learn%20to%20become%20Financially%20Responsible%20https://fampay.in/blog/4-ways-to-help-your-teen-learn-to-become-financially-responsible/\n",
      "Finished checking site: https://wa.me/?text=4%20Ways%20to%20Help%20Your%20Teen%20Learn%20to%20become%20Financially%20Responsible%20https://fampay.in/blog/4-ways-to-help-your-teen-learn-to-become-financially-responsible/, time: 0.7247204780578613\n",
      "Checking site: https://wa.me/?text=4%20Ways%20to%20Help%20Your%20Teen%20Learn%20to%20become%20Financially%20Responsible%20https://fampay.in/blog/4-ways-to-help-your-teen-learn-to-become-financially-responsible/\n",
      "Finished checking site: https://wa.me/?text=4%20Ways%20to%20Help%20Your%20Teen%20Learn%20to%20become%20Financially%20Responsible%20https://fampay.in/blog/4-ways-to-help-your-teen-learn-to-become-financially-responsible/, time: 0.9083070755004883\n",
      "Finished checking site: https://wa.me/?text=4%20Ways%20to%20Help%20Your%20Teen%20Learn%20to%20become%20Financially%20Responsible%20https://fampay.in/blog/4-ways-to-help-your-teen-learn-to-become-financially-responsible/\n",
      "Checking site: https://www.facebook.com/sharer/sharer.php?u=https://fampay.in/blog/4-ways-to-help-your-teen-learn-to-become-financially-responsible/\n",
      "Finished checking site: https://www.facebook.com/sharer/sharer.php?u=https://fampay.in/blog/4-ways-to-help-your-teen-learn-to-become-financially-responsible/, time: 0.41028881072998047\n",
      "Checking site: https://www.facebook.com/sharer/sharer.php?u=https://fampay.in/blog/4-ways-to-help-your-teen-learn-to-become-financially-responsible/\n",
      "Finished checking site: https://www.facebook.com/sharer/sharer.php?u=https://fampay.in/blog/4-ways-to-help-your-teen-learn-to-become-financially-responsible/, time: 1.4107766151428223\n",
      "Finished checking site: https://www.facebook.com/sharer/sharer.php?u=https://fampay.in/blog/4-ways-to-help-your-teen-learn-to-become-financially-responsible/\n",
      "Checking site: https://twitter.com/intent/tweet?text=4%20Ways%20to%20Help%20Your%20Teen%20Learn%20to%20become%20Financially%20Responsible&url=https://fampay.in/blog/4-ways-to-help-your-teen-learn-to-become-financially-responsible/\n",
      "Finished checking site: https://twitter.com/intent/tweet?text=4%20Ways%20to%20Help%20Your%20Teen%20Learn%20to%20become%20Financially%20Responsible&url=https://fampay.in/blog/4-ways-to-help-your-teen-learn-to-become-financially-responsible/, time: 1.1826982498168945\n",
      "Checking site: https://twitter.com/intent/tweet?text=4%20Ways%20to%20Help%20Your%20Teen%20Learn%20to%20become%20Financially%20Responsible&url=https://fampay.in/blog/4-ways-to-help-your-teen-learn-to-become-financially-responsible/\n",
      "Finished checking site: https://twitter.com/intent/tweet?text=4%20Ways%20to%20Help%20Your%20Teen%20Learn%20to%20become%20Financially%20Responsible&url=https://fampay.in/blog/4-ways-to-help-your-teen-learn-to-become-financially-responsible/, time: 1.2280592918395996\n",
      "Finished checking site: https://twitter.com/intent/tweet?text=4%20Ways%20to%20Help%20Your%20Teen%20Learn%20to%20become%20Financially%20Responsible&url=https://fampay.in/blog/4-ways-to-help-your-teen-learn-to-become-financially-responsible/\n",
      "Checking site: https://famapp.in/blog/evolution-of-parenting-parent-of-a-millennial-vs-parent-of-a-genz-kid/\n",
      "Finished checking site: https://famapp.in/blog/evolution-of-parenting-parent-of-a-millennial-vs-parent-of-a-genz-kid/, time: 0.24837374687194824\n",
      "Checking site: https://famapp.in/blog/evolution-of-parenting-parent-of-a-millennial-vs-parent-of-a-genz-kid/\n",
      "Finished checking site: https://famapp.in/blog/evolution-of-parenting-parent-of-a-millennial-vs-parent-of-a-genz-kid/, time: 0.3798553943634033\n",
      "Finished checking site: https://famapp.in/blog/evolution-of-parenting-parent-of-a-millennial-vs-parent-of-a-genz-kid/\n",
      "Checking site: https://wa.me/?text=Evolution%20of%20Parenting%20-%20Parent%20of%20a%20Millennial%20vs%20Parent%20of%20a%20GenZ%20kid%20https://fampay.in/blog/evolution-of-parenting-parent-of-a-millennial-vs-parent-of-a-genz-kid/\n",
      "Finished checking site: https://wa.me/?text=Evolution%20of%20Parenting%20-%20Parent%20of%20a%20Millennial%20vs%20Parent%20of%20a%20GenZ%20kid%20https://fampay.in/blog/evolution-of-parenting-parent-of-a-millennial-vs-parent-of-a-genz-kid/, time: 0.9157979488372803\n",
      "Checking site: https://wa.me/?text=Evolution%20of%20Parenting%20-%20Parent%20of%20a%20Millennial%20vs%20Parent%20of%20a%20GenZ%20kid%20https://fampay.in/blog/evolution-of-parenting-parent-of-a-millennial-vs-parent-of-a-genz-kid/\n",
      "Finished checking site: https://wa.me/?text=Evolution%20of%20Parenting%20-%20Parent%20of%20a%20Millennial%20vs%20Parent%20of%20a%20GenZ%20kid%20https://fampay.in/blog/evolution-of-parenting-parent-of-a-millennial-vs-parent-of-a-genz-kid/, time: 0.6985986232757568\n",
      "Finished checking site: https://wa.me/?text=Evolution%20of%20Parenting%20-%20Parent%20of%20a%20Millennial%20vs%20Parent%20of%20a%20GenZ%20kid%20https://fampay.in/blog/evolution-of-parenting-parent-of-a-millennial-vs-parent-of-a-genz-kid/\n",
      "Checking site: https://www.facebook.com/sharer/sharer.php?u=https://fampay.in/blog/evolution-of-parenting-parent-of-a-millennial-vs-parent-of-a-genz-kid/\n",
      "Finished checking site: https://www.facebook.com/sharer/sharer.php?u=https://fampay.in/blog/evolution-of-parenting-parent-of-a-millennial-vs-parent-of-a-genz-kid/, time: 0.5098426342010498\n",
      "Checking site: https://www.facebook.com/sharer/sharer.php?u=https://fampay.in/blog/evolution-of-parenting-parent-of-a-millennial-vs-parent-of-a-genz-kid/\n",
      "Finished checking site: https://www.facebook.com/sharer/sharer.php?u=https://fampay.in/blog/evolution-of-parenting-parent-of-a-millennial-vs-parent-of-a-genz-kid/, time: 1.206526756286621\n",
      "Finished checking site: https://www.facebook.com/sharer/sharer.php?u=https://fampay.in/blog/evolution-of-parenting-parent-of-a-millennial-vs-parent-of-a-genz-kid/\n",
      "Checking site: https://twitter.com/intent/tweet?text=Evolution%20of%20Parenting%20-%20Parent%20of%20a%20Millennial%20vs%20Parent%20of%20a%20GenZ%20kid&url=https://fampay.in/blog/evolution-of-parenting-parent-of-a-millennial-vs-parent-of-a-genz-kid/\n",
      "Finished checking site: https://twitter.com/intent/tweet?text=Evolution%20of%20Parenting%20-%20Parent%20of%20a%20Millennial%20vs%20Parent%20of%20a%20GenZ%20kid&url=https://fampay.in/blog/evolution-of-parenting-parent-of-a-millennial-vs-parent-of-a-genz-kid/, time: 1.0297012329101562\n",
      "Checking site: https://twitter.com/intent/tweet?text=Evolution%20of%20Parenting%20-%20Parent%20of%20a%20Millennial%20vs%20Parent%20of%20a%20GenZ%20kid&url=https://fampay.in/blog/evolution-of-parenting-parent-of-a-millennial-vs-parent-of-a-genz-kid/\n",
      "Finished checking site: https://twitter.com/intent/tweet?text=Evolution%20of%20Parenting%20-%20Parent%20of%20a%20Millennial%20vs%20Parent%20of%20a%20GenZ%20kid&url=https://fampay.in/blog/evolution-of-parenting-parent-of-a-millennial-vs-parent-of-a-genz-kid/, time: 1.0561871528625488\n",
      "Finished checking site: https://twitter.com/intent/tweet?text=Evolution%20of%20Parenting%20-%20Parent%20of%20a%20Millennial%20vs%20Parent%20of%20a%20GenZ%20kid&url=https://fampay.in/blog/evolution-of-parenting-parent-of-a-millennial-vs-parent-of-a-genz-kid/\n",
      "Checking site: https://famapp.in/blog/pocket-money-for-teenagers-why-it-matters/\n",
      "Finished checking site: https://famapp.in/blog/pocket-money-for-teenagers-why-it-matters/, time: 0.4099736213684082\n",
      "Checking site: https://famapp.in/blog/pocket-money-for-teenagers-why-it-matters/\n",
      "Finished checking site: https://famapp.in/blog/pocket-money-for-teenagers-why-it-matters/, time: 0.19778060913085938\n",
      "Finished checking site: https://famapp.in/blog/pocket-money-for-teenagers-why-it-matters/\n",
      "Checking site: https://wa.me/?text=Pocket%20Money%20for%20Teenagers%3A%20Why%20it%20Matters%20https://fampay.in/blog/pocket-money-for-teenagers-why-it-matters/\n",
      "Finished checking site: https://wa.me/?text=Pocket%20Money%20for%20Teenagers%3A%20Why%20it%20Matters%20https://fampay.in/blog/pocket-money-for-teenagers-why-it-matters/, time: 0.7257981300354004\n",
      "Checking site: https://wa.me/?text=Pocket%20Money%20for%20Teenagers%3A%20Why%20it%20Matters%20https://fampay.in/blog/pocket-money-for-teenagers-why-it-matters/\n",
      "Finished checking site: https://wa.me/?text=Pocket%20Money%20for%20Teenagers%3A%20Why%20it%20Matters%20https://fampay.in/blog/pocket-money-for-teenagers-why-it-matters/, time: 1.0244100093841553\n",
      "Finished checking site: https://wa.me/?text=Pocket%20Money%20for%20Teenagers%3A%20Why%20it%20Matters%20https://fampay.in/blog/pocket-money-for-teenagers-why-it-matters/\n",
      "Checking site: https://www.facebook.com/sharer/sharer.php?u=https://fampay.in/blog/pocket-money-for-teenagers-why-it-matters/\n",
      "Finished checking site: https://www.facebook.com/sharer/sharer.php?u=https://fampay.in/blog/pocket-money-for-teenagers-why-it-matters/, time: 0.5151779651641846\n",
      "Checking site: https://www.facebook.com/sharer/sharer.php?u=https://fampay.in/blog/pocket-money-for-teenagers-why-it-matters/\n",
      "Finished checking site: https://www.facebook.com/sharer/sharer.php?u=https://fampay.in/blog/pocket-money-for-teenagers-why-it-matters/, time: 1.0214853286743164\n",
      "Finished checking site: https://www.facebook.com/sharer/sharer.php?u=https://fampay.in/blog/pocket-money-for-teenagers-why-it-matters/\n",
      "Checking site: https://twitter.com/intent/tweet?text=Pocket%20Money%20for%20Teenagers%3A%20Why%20it%20Matters&url=https://fampay.in/blog/pocket-money-for-teenagers-why-it-matters/\n",
      "Finished checking site: https://twitter.com/intent/tweet?text=Pocket%20Money%20for%20Teenagers%3A%20Why%20it%20Matters&url=https://fampay.in/blog/pocket-money-for-teenagers-why-it-matters/, time: 1.2085473537445068\n",
      "Checking site: https://twitter.com/intent/tweet?text=Pocket%20Money%20for%20Teenagers%3A%20Why%20it%20Matters&url=https://fampay.in/blog/pocket-money-for-teenagers-why-it-matters/\n",
      "Finished checking site: https://twitter.com/intent/tweet?text=Pocket%20Money%20for%20Teenagers%3A%20Why%20it%20Matters&url=https://fampay.in/blog/pocket-money-for-teenagers-why-it-matters/, time: 1.0202453136444092\n",
      "Finished checking site: https://twitter.com/intent/tweet?text=Pocket%20Money%20for%20Teenagers%3A%20Why%20it%20Matters&url=https://fampay.in/blog/pocket-money-for-teenagers-why-it-matters/\n",
      "Checking site: https://famapp.in/blog/things-you-must-know-as-a-teens-parent/\n",
      "Finished checking site: https://famapp.in/blog/things-you-must-know-as-a-teens-parent/, time: 0.3812227249145508\n",
      "Checking site: https://famapp.in/blog/things-you-must-know-as-a-teens-parent/\n",
      "Finished checking site: https://famapp.in/blog/things-you-must-know-as-a-teens-parent/, time: 0.40050792694091797\n",
      "Finished checking site: https://famapp.in/blog/things-you-must-know-as-a-teens-parent/\n",
      "Checking site: https://wa.me/?text=Things%20You%20Must%20Know%20as%20a%20Parent%20of%20a%20GenZ%20Teen%20https://fampay.in/blog/things-you-must-know-as-a-teens-parent/\n",
      "Finished checking site: https://wa.me/?text=Things%20You%20Must%20Know%20as%20a%20Parent%20of%20a%20GenZ%20Teen%20https://fampay.in/blog/things-you-must-know-as-a-teens-parent/, time: 1.001108169555664\n",
      "Checking site: https://wa.me/?text=Things%20You%20Must%20Know%20as%20a%20Parent%20of%20a%20GenZ%20Teen%20https://fampay.in/blog/things-you-must-know-as-a-teens-parent/\n",
      "Finished checking site: https://wa.me/?text=Things%20You%20Must%20Know%20as%20a%20Parent%20of%20a%20GenZ%20Teen%20https://fampay.in/blog/things-you-must-know-as-a-teens-parent/, time: 0.9744641780853271\n",
      "Finished checking site: https://wa.me/?text=Things%20You%20Must%20Know%20as%20a%20Parent%20of%20a%20GenZ%20Teen%20https://fampay.in/blog/things-you-must-know-as-a-teens-parent/\n",
      "Checking site: https://www.facebook.com/sharer/sharer.php?u=https://fampay.in/blog/things-you-must-know-as-a-teens-parent/\n",
      "Finished checking site: https://www.facebook.com/sharer/sharer.php?u=https://fampay.in/blog/things-you-must-know-as-a-teens-parent/, time: 0.4113485813140869\n",
      "Checking site: https://www.facebook.com/sharer/sharer.php?u=https://fampay.in/blog/things-you-must-know-as-a-teens-parent/\n",
      "Finished checking site: https://www.facebook.com/sharer/sharer.php?u=https://fampay.in/blog/things-you-must-know-as-a-teens-parent/, time: 0.9928774833679199\n",
      "Finished checking site: https://www.facebook.com/sharer/sharer.php?u=https://fampay.in/blog/things-you-must-know-as-a-teens-parent/\n",
      "Checking site: https://twitter.com/intent/tweet?text=Things%20You%20Must%20Know%20as%20a%20Parent%20of%20a%20GenZ%20Teen&url=https://fampay.in/blog/things-you-must-know-as-a-teens-parent/\n",
      "Finished checking site: https://twitter.com/intent/tweet?text=Things%20You%20Must%20Know%20as%20a%20Parent%20of%20a%20GenZ%20Teen&url=https://fampay.in/blog/things-you-must-know-as-a-teens-parent/, time: 0.9980373382568359\n",
      "Checking site: https://twitter.com/intent/tweet?text=Things%20You%20Must%20Know%20as%20a%20Parent%20of%20a%20GenZ%20Teen&url=https://fampay.in/blog/things-you-must-know-as-a-teens-parent/\n",
      "Finished checking site: https://twitter.com/intent/tweet?text=Things%20You%20Must%20Know%20as%20a%20Parent%20of%20a%20GenZ%20Teen&url=https://fampay.in/blog/things-you-must-know-as-a-teens-parent/, time: 1.0976126194000244\n",
      "Finished checking site: https://twitter.com/intent/tweet?text=Things%20You%20Must%20Know%20as%20a%20Parent%20of%20a%20GenZ%20Teen&url=https://fampay.in/blog/things-you-must-know-as-a-teens-parent/\n",
      "Checking site: https://famapp.in/blog/impact-of-social-distancing-on-teen-mental-health/\n",
      "Finished checking site: https://famapp.in/blog/impact-of-social-distancing-on-teen-mental-health/, time: 0.24796247482299805\n",
      "Checking site: https://famapp.in/blog/impact-of-social-distancing-on-teen-mental-health/\n",
      "Finished checking site: https://famapp.in/blog/impact-of-social-distancing-on-teen-mental-health/, time: 0.21091771125793457\n",
      "Finished checking site: https://famapp.in/blog/impact-of-social-distancing-on-teen-mental-health/\n",
      "Checking site: https://wa.me/?text=Impact%20of%20Social%20Distancing%20on%20Teen%20Mental%20Health%20https://fampay.in/blog/impact-of-social-distancing-on-teen-mental-health/\n",
      "Finished checking site: https://wa.me/?text=Impact%20of%20Social%20Distancing%20on%20Teen%20Mental%20Health%20https://fampay.in/blog/impact-of-social-distancing-on-teen-mental-health/, time: 1.4498391151428223\n",
      "Checking site: https://wa.me/?text=Impact%20of%20Social%20Distancing%20on%20Teen%20Mental%20Health%20https://fampay.in/blog/impact-of-social-distancing-on-teen-mental-health/\n",
      "Finished checking site: https://wa.me/?text=Impact%20of%20Social%20Distancing%20on%20Teen%20Mental%20Health%20https://fampay.in/blog/impact-of-social-distancing-on-teen-mental-health/, time: 0.9296276569366455\n",
      "Finished checking site: https://wa.me/?text=Impact%20of%20Social%20Distancing%20on%20Teen%20Mental%20Health%20https://fampay.in/blog/impact-of-social-distancing-on-teen-mental-health/\n",
      "Checking site: https://www.facebook.com/sharer/sharer.php?u=https://fampay.in/blog/impact-of-social-distancing-on-teen-mental-health/\n",
      "Finished checking site: https://www.facebook.com/sharer/sharer.php?u=https://fampay.in/blog/impact-of-social-distancing-on-teen-mental-health/, time: 0.8144400119781494\n",
      "Checking site: https://www.facebook.com/sharer/sharer.php?u=https://fampay.in/blog/impact-of-social-distancing-on-teen-mental-health/\n",
      "Finished checking site: https://www.facebook.com/sharer/sharer.php?u=https://fampay.in/blog/impact-of-social-distancing-on-teen-mental-health/, time: 0.9800982475280762\n",
      "Finished checking site: https://www.facebook.com/sharer/sharer.php?u=https://fampay.in/blog/impact-of-social-distancing-on-teen-mental-health/\n",
      "Checking site: https://twitter.com/intent/tweet?text=Impact%20of%20Social%20Distancing%20on%20Teen%20Mental%20Health&url=https://fampay.in/blog/impact-of-social-distancing-on-teen-mental-health/\n",
      "Finished checking site: https://twitter.com/intent/tweet?text=Impact%20of%20Social%20Distancing%20on%20Teen%20Mental%20Health&url=https://fampay.in/blog/impact-of-social-distancing-on-teen-mental-health/, time: 1.188720941543579\n",
      "Checking site: https://twitter.com/intent/tweet?text=Impact%20of%20Social%20Distancing%20on%20Teen%20Mental%20Health&url=https://fampay.in/blog/impact-of-social-distancing-on-teen-mental-health/\n",
      "Finished checking site: https://twitter.com/intent/tweet?text=Impact%20of%20Social%20Distancing%20on%20Teen%20Mental%20Health&url=https://fampay.in/blog/impact-of-social-distancing-on-teen-mental-health/, time: 1.0690395832061768\n",
      "Finished checking site: https://twitter.com/intent/tweet?text=Impact%20of%20Social%20Distancing%20on%20Teen%20Mental%20Health&url=https://fampay.in/blog/impact-of-social-distancing-on-teen-mental-health/\n",
      "Checking site: https://famapp.in/blog/tag/parents/page/2/\n",
      "Finished checking site: https://famapp.in/blog/tag/parents/page/2/, time: 0.1711101531982422\n",
      "Checking site: https://famapp.in/blog/tag/parents/page/2/\n",
      "Finished checking site: https://famapp.in/blog/tag/parents/page/2/, time: 0.17843031883239746\n",
      "Finished checking site: https://famapp.in/blog/tag/parents/page/2/\n",
      "Checking site: https://famapp.in/blog/bridging-generation-gap-understanding-your-genz-teenager-better/\n",
      "Finished checking site: https://famapp.in/blog/bridging-generation-gap-understanding-your-genz-teenager-better/, time: 0.27219724655151367\n",
      "Checking site: https://famapp.in/blog/bridging-generation-gap-understanding-your-genz-teenager-better/\n",
      "Finished checking site: https://famapp.in/blog/bridging-generation-gap-understanding-your-genz-teenager-better/, time: 0.18684720993041992\n",
      "Finished checking site: https://famapp.in/blog/bridging-generation-gap-understanding-your-genz-teenager-better/\n",
      "Checking site: https://wa.me/?text=Bridging%20Generation%20Gap%3A%20Understanding%20Your%20GenZ%20Teenager%20Better%20https://fampay.in/blog/bridging-generation-gap-understanding-your-genz-teenager-better/\n",
      "Finished checking site: https://wa.me/?text=Bridging%20Generation%20Gap%3A%20Understanding%20Your%20GenZ%20Teenager%20Better%20https://fampay.in/blog/bridging-generation-gap-understanding-your-genz-teenager-better/, time: 0.8794593811035156\n",
      "Checking site: https://wa.me/?text=Bridging%20Generation%20Gap%3A%20Understanding%20Your%20GenZ%20Teenager%20Better%20https://fampay.in/blog/bridging-generation-gap-understanding-your-genz-teenager-better/\n",
      "Finished checking site: https://wa.me/?text=Bridging%20Generation%20Gap%3A%20Understanding%20Your%20GenZ%20Teenager%20Better%20https://fampay.in/blog/bridging-generation-gap-understanding-your-genz-teenager-better/, time: 1.419745922088623\n",
      "Finished checking site: https://wa.me/?text=Bridging%20Generation%20Gap%3A%20Understanding%20Your%20GenZ%20Teenager%20Better%20https://fampay.in/blog/bridging-generation-gap-understanding-your-genz-teenager-better/\n",
      "Checking site: https://www.facebook.com/sharer/sharer.php?u=https://fampay.in/blog/bridging-generation-gap-understanding-your-genz-teenager-better/\n",
      "Finished checking site: https://www.facebook.com/sharer/sharer.php?u=https://fampay.in/blog/bridging-generation-gap-understanding-your-genz-teenager-better/, time: 0.49011993408203125\n",
      "Checking site: https://www.facebook.com/sharer/sharer.php?u=https://fampay.in/blog/bridging-generation-gap-understanding-your-genz-teenager-better/\n",
      "Finished checking site: https://www.facebook.com/sharer/sharer.php?u=https://fampay.in/blog/bridging-generation-gap-understanding-your-genz-teenager-better/, time: 0.9211246967315674\n",
      "Finished checking site: https://www.facebook.com/sharer/sharer.php?u=https://fampay.in/blog/bridging-generation-gap-understanding-your-genz-teenager-better/\n",
      "Checking site: https://twitter.com/intent/tweet?text=Bridging%20Generation%20Gap%3A%20Understanding%20Your%20GenZ%20Teenager%20Better&url=https://fampay.in/blog/bridging-generation-gap-understanding-your-genz-teenager-better/\n",
      "Finished checking site: https://twitter.com/intent/tweet?text=Bridging%20Generation%20Gap%3A%20Understanding%20Your%20GenZ%20Teenager%20Better&url=https://fampay.in/blog/bridging-generation-gap-understanding-your-genz-teenager-better/, time: 1.0642387866973877\n",
      "Checking site: https://twitter.com/intent/tweet?text=Bridging%20Generation%20Gap%3A%20Understanding%20Your%20GenZ%20Teenager%20Better&url=https://fampay.in/blog/bridging-generation-gap-understanding-your-genz-teenager-better/\n",
      "Finished checking site: https://twitter.com/intent/tweet?text=Bridging%20Generation%20Gap%3A%20Understanding%20Your%20GenZ%20Teenager%20Better&url=https://fampay.in/blog/bridging-generation-gap-understanding-your-genz-teenager-better/, time: 1.0124127864837646\n",
      "Finished checking site: https://twitter.com/intent/tweet?text=Bridging%20Generation%20Gap%3A%20Understanding%20Your%20GenZ%20Teenager%20Better&url=https://fampay.in/blog/bridging-generation-gap-understanding-your-genz-teenager-better/\n",
      "Checking site: https://famapp.in/blog/tag/pr-news/\n",
      "Finished checking site: https://famapp.in/blog/tag/pr-news/, time: 0.2617373466491699\n",
      "Checking site: https://famapp.in/blog/tag/pr-news/\n",
      "Finished checking site: https://famapp.in/blog/tag/pr-news/, time: 0.2200031280517578\n",
      "Finished checking site: https://famapp.in/blog/tag/pr-news/\n",
      "Checking site: https://famapp.in/blog/fampay-amongst-linkedins-top-startups-list-2021/\n",
      "Finished checking site: https://famapp.in/blog/fampay-amongst-linkedins-top-startups-list-2021/, time: 0.2009742259979248\n",
      "Checking site: https://famapp.in/blog/fampay-amongst-linkedins-top-startups-list-2021/\n",
      "Finished checking site: https://famapp.in/blog/fampay-amongst-linkedins-top-startups-list-2021/, time: 0.14407873153686523\n",
      "Finished checking site: https://famapp.in/blog/fampay-amongst-linkedins-top-startups-list-2021/\n",
      "Checking site: https://wa.me/?text=FamPay%20amongst%20LinkedIn%E2%80%99s%20Top%20Startups%20List%202021%20https://fampay.in/blog/fampay-amongst-linkedins-top-startups-list-2021/\n",
      "Finished checking site: https://wa.me/?text=FamPay%20amongst%20LinkedIn%E2%80%99s%20Top%20Startups%20List%202021%20https://fampay.in/blog/fampay-amongst-linkedins-top-startups-list-2021/, time: 0.7027432918548584\n",
      "Checking site: https://wa.me/?text=FamPay%20amongst%20LinkedIn%E2%80%99s%20Top%20Startups%20List%202021%20https://fampay.in/blog/fampay-amongst-linkedins-top-startups-list-2021/\n",
      "Finished checking site: https://wa.me/?text=FamPay%20amongst%20LinkedIn%E2%80%99s%20Top%20Startups%20List%202021%20https://fampay.in/blog/fampay-amongst-linkedins-top-startups-list-2021/, time: 1.1829473972320557\n",
      "Finished checking site: https://wa.me/?text=FamPay%20amongst%20LinkedIn%E2%80%99s%20Top%20Startups%20List%202021%20https://fampay.in/blog/fampay-amongst-linkedins-top-startups-list-2021/\n",
      "Checking site: https://www.facebook.com/sharer/sharer.php?u=https://fampay.in/blog/fampay-amongst-linkedins-top-startups-list-2021/\n",
      "Finished checking site: https://www.facebook.com/sharer/sharer.php?u=https://fampay.in/blog/fampay-amongst-linkedins-top-startups-list-2021/, time: 0.37934160232543945\n",
      "Checking site: https://www.facebook.com/sharer/sharer.php?u=https://fampay.in/blog/fampay-amongst-linkedins-top-startups-list-2021/\n",
      "Finished checking site: https://www.facebook.com/sharer/sharer.php?u=https://fampay.in/blog/fampay-amongst-linkedins-top-startups-list-2021/, time: 0.878157377243042\n",
      "Finished checking site: https://www.facebook.com/sharer/sharer.php?u=https://fampay.in/blog/fampay-amongst-linkedins-top-startups-list-2021/\n",
      "Checking site: https://twitter.com/intent/tweet?text=FamPay%20amongst%20LinkedIn%E2%80%99s%20Top%20Startups%20List%202021&url=https://fampay.in/blog/fampay-amongst-linkedins-top-startups-list-2021/\n",
      "Finished checking site: https://twitter.com/intent/tweet?text=FamPay%20amongst%20LinkedIn%E2%80%99s%20Top%20Startups%20List%202021&url=https://fampay.in/blog/fampay-amongst-linkedins-top-startups-list-2021/, time: 1.1886444091796875\n",
      "Checking site: https://twitter.com/intent/tweet?text=FamPay%20amongst%20LinkedIn%E2%80%99s%20Top%20Startups%20List%202021&url=https://fampay.in/blog/fampay-amongst-linkedins-top-startups-list-2021/\n",
      "Finished checking site: https://twitter.com/intent/tweet?text=FamPay%20amongst%20LinkedIn%E2%80%99s%20Top%20Startups%20List%202021&url=https://fampay.in/blog/fampay-amongst-linkedins-top-startups-list-2021/, time: 1.1951172351837158\n",
      "Finished checking site: https://twitter.com/intent/tweet?text=FamPay%20amongst%20LinkedIn%E2%80%99s%20Top%20Startups%20List%202021&url=https://fampay.in/blog/fampay-amongst-linkedins-top-startups-list-2021/\n",
      "Checking site: https://famapp.in/blog/fampay-partners-with-visa-to-launch-indias-first-doodle-card-for-genz/\n",
      "Finished checking site: https://famapp.in/blog/fampay-partners-with-visa-to-launch-indias-first-doodle-card-for-genz/, time: 0.22333312034606934\n",
      "Checking site: https://famapp.in/blog/fampay-partners-with-visa-to-launch-indias-first-doodle-card-for-genz/\n",
      "Finished checking site: https://famapp.in/blog/fampay-partners-with-visa-to-launch-indias-first-doodle-card-for-genz/, time: 0.2177567481994629\n",
      "Finished checking site: https://famapp.in/blog/fampay-partners-with-visa-to-launch-indias-first-doodle-card-for-genz/\n",
      "Checking site: https://wa.me/?text=FamPay%20partners%20with%20Visa%20to%20launch%20India%E2%80%99s%20first%20Doodle%20Card%20for%20GenZ%20https://fampay.in/blog/fampay-partners-with-visa-to-launch-indias-first-doodle-card-for-genz/\n",
      "Finished checking site: https://wa.me/?text=FamPay%20partners%20with%20Visa%20to%20launch%20India%E2%80%99s%20first%20Doodle%20Card%20for%20GenZ%20https://fampay.in/blog/fampay-partners-with-visa-to-launch-indias-first-doodle-card-for-genz/, time: 0.7036459445953369\n",
      "Checking site: https://wa.me/?text=FamPay%20partners%20with%20Visa%20to%20launch%20India%E2%80%99s%20first%20Doodle%20Card%20for%20GenZ%20https://fampay.in/blog/fampay-partners-with-visa-to-launch-indias-first-doodle-card-for-genz/\n",
      "Finished checking site: https://wa.me/?text=FamPay%20partners%20with%20Visa%20to%20launch%20India%E2%80%99s%20first%20Doodle%20Card%20for%20GenZ%20https://fampay.in/blog/fampay-partners-with-visa-to-launch-indias-first-doodle-card-for-genz/, time: 0.9624817371368408\n",
      "Finished checking site: https://wa.me/?text=FamPay%20partners%20with%20Visa%20to%20launch%20India%E2%80%99s%20first%20Doodle%20Card%20for%20GenZ%20https://fampay.in/blog/fampay-partners-with-visa-to-launch-indias-first-doodle-card-for-genz/\n",
      "Checking site: https://www.facebook.com/sharer/sharer.php?u=https://fampay.in/blog/fampay-partners-with-visa-to-launch-indias-first-doodle-card-for-genz/\n",
      "Finished checking site: https://www.facebook.com/sharer/sharer.php?u=https://fampay.in/blog/fampay-partners-with-visa-to-launch-indias-first-doodle-card-for-genz/, time: 0.5548410415649414\n",
      "Checking site: https://www.facebook.com/sharer/sharer.php?u=https://fampay.in/blog/fampay-partners-with-visa-to-launch-indias-first-doodle-card-for-genz/\n",
      "Finished checking site: https://www.facebook.com/sharer/sharer.php?u=https://fampay.in/blog/fampay-partners-with-visa-to-launch-indias-first-doodle-card-for-genz/, time: 1.1019785404205322\n",
      "Finished checking site: https://www.facebook.com/sharer/sharer.php?u=https://fampay.in/blog/fampay-partners-with-visa-to-launch-indias-first-doodle-card-for-genz/\n",
      "Checking site: https://twitter.com/intent/tweet?text=FamPay%20partners%20with%20Visa%20to%20launch%20India%E2%80%99s%20first%20Doodle%20Card%20for%20GenZ&url=https://fampay.in/blog/fampay-partners-with-visa-to-launch-indias-first-doodle-card-for-genz/\n",
      "Finished checking site: https://twitter.com/intent/tweet?text=FamPay%20partners%20with%20Visa%20to%20launch%20India%E2%80%99s%20first%20Doodle%20Card%20for%20GenZ&url=https://fampay.in/blog/fampay-partners-with-visa-to-launch-indias-first-doodle-card-for-genz/, time: 1.1714534759521484\n",
      "Checking site: https://twitter.com/intent/tweet?text=FamPay%20partners%20with%20Visa%20to%20launch%20India%E2%80%99s%20first%20Doodle%20Card%20for%20GenZ&url=https://fampay.in/blog/fampay-partners-with-visa-to-launch-indias-first-doodle-card-for-genz/\n",
      "Finished checking site: https://twitter.com/intent/tweet?text=FamPay%20partners%20with%20Visa%20to%20launch%20India%E2%80%99s%20first%20Doodle%20Card%20for%20GenZ&url=https://fampay.in/blog/fampay-partners-with-visa-to-launch-indias-first-doodle-card-for-genz/, time: 1.053964614868164\n",
      "Finished checking site: https://twitter.com/intent/tweet?text=FamPay%20partners%20with%20Visa%20to%20launch%20India%E2%80%99s%20first%20Doodle%20Card%20for%20GenZ&url=https://fampay.in/blog/fampay-partners-with-visa-to-launch-indias-first-doodle-card-for-genz/\n",
      "Checking site: https://famapp.in/blog/tag/product/\n",
      "Finished checking site: https://famapp.in/blog/tag/product/, time: 0.2519676685333252\n",
      "Checking site: https://famapp.in/blog/tag/product/\n",
      "Finished checking site: https://famapp.in/blog/tag/product/, time: 0.21015191078186035\n",
      "Finished checking site: https://famapp.in/blog/tag/product/\n",
      "Checking site: https://famapp.in/blog/perks-of-using-the-famcard-me/\n",
      "Finished checking site: https://famapp.in/blog/perks-of-using-the-famcard-me/, time: 0.18761539459228516\n",
      "Checking site: https://famapp.in/blog/perks-of-using-the-famcard-me/\n",
      "Finished checking site: https://famapp.in/blog/perks-of-using-the-famcard-me/, time: 0.1972198486328125\n",
      "Finished checking site: https://famapp.in/blog/perks-of-using-the-famcard-me/\n",
      "Checking site: https://wa.me/?text=Perks%20of%20using%20the%20FamCard%20Me%20-%204X%20Rewards%2C%20Doodles%20and%20so%20much%20more!%20%F0%9F%92%96%20https://fampay.in/blog/perks-of-using-the-famcard-me/\n",
      "Finished checking site: https://wa.me/?text=Perks%20of%20using%20the%20FamCard%20Me%20-%204X%20Rewards%2C%20Doodles%20and%20so%20much%20more!%20%F0%9F%92%96%20https://fampay.in/blog/perks-of-using-the-famcard-me/, time: 1.1963787078857422\n",
      "Checking site: https://wa.me/?text=Perks%20of%20using%20the%20FamCard%20Me%20-%204X%20Rewards%2C%20Doodles%20and%20so%20much%20more!%20%F0%9F%92%96%20https://fampay.in/blog/perks-of-using-the-famcard-me/\n",
      "Finished checking site: https://wa.me/?text=Perks%20of%20using%20the%20FamCard%20Me%20-%204X%20Rewards%2C%20Doodles%20and%20so%20much%20more!%20%F0%9F%92%96%20https://fampay.in/blog/perks-of-using-the-famcard-me/, time: 0.7758331298828125\n",
      "Finished checking site: https://wa.me/?text=Perks%20of%20using%20the%20FamCard%20Me%20-%204X%20Rewards%2C%20Doodles%20and%20so%20much%20more!%20%F0%9F%92%96%20https://fampay.in/blog/perks-of-using-the-famcard-me/\n",
      "Checking site: https://www.facebook.com/sharer/sharer.php?u=https://fampay.in/blog/perks-of-using-the-famcard-me/\n",
      "Finished checking site: https://www.facebook.com/sharer/sharer.php?u=https://fampay.in/blog/perks-of-using-the-famcard-me/, time: 0.31871795654296875\n",
      "Checking site: https://www.facebook.com/sharer/sharer.php?u=https://fampay.in/blog/perks-of-using-the-famcard-me/\n",
      "Finished checking site: https://www.facebook.com/sharer/sharer.php?u=https://fampay.in/blog/perks-of-using-the-famcard-me/, time: 0.9040355682373047\n",
      "Finished checking site: https://www.facebook.com/sharer/sharer.php?u=https://fampay.in/blog/perks-of-using-the-famcard-me/\n",
      "Checking site: https://twitter.com/intent/tweet?text=Perks%20of%20using%20the%20FamCard%20Me%20-%204X%20Rewards%2C%20Doodles%20and%20so%20much%20more!%20%F0%9F%92%96&url=https://fampay.in/blog/perks-of-using-the-famcard-me/\n",
      "Finished checking site: https://twitter.com/intent/tweet?text=Perks%20of%20using%20the%20FamCard%20Me%20-%204X%20Rewards%2C%20Doodles%20and%20so%20much%20more!%20%F0%9F%92%96&url=https://fampay.in/blog/perks-of-using-the-famcard-me/, time: 1.0255897045135498\n",
      "Checking site: https://twitter.com/intent/tweet?text=Perks%20of%20using%20the%20FamCard%20Me%20-%204X%20Rewards%2C%20Doodles%20and%20so%20much%20more!%20%F0%9F%92%96&url=https://fampay.in/blog/perks-of-using-the-famcard-me/\n",
      "Finished checking site: https://twitter.com/intent/tweet?text=Perks%20of%20using%20the%20FamCard%20Me%20-%204X%20Rewards%2C%20Doodles%20and%20so%20much%20more!%20%F0%9F%92%96&url=https://fampay.in/blog/perks-of-using-the-famcard-me/, time: 1.179764986038208\n",
      "Finished checking site: https://twitter.com/intent/tweet?text=Perks%20of%20using%20the%20FamCard%20Me%20-%204X%20Rewards%2C%20Doodles%20and%20so%20much%20more!%20%F0%9F%92%96&url=https://fampay.in/blog/perks-of-using-the-famcard-me/\n",
      "Checking site: https://famapp.in/blog/guide-for-seeking-support-from-fampay-important-dos-and-donts/\n",
      "Finished checking site: https://famapp.in/blog/guide-for-seeking-support-from-fampay-important-dos-and-donts/, time: 0.2426612377166748\n",
      "Checking site: https://famapp.in/blog/guide-for-seeking-support-from-fampay-important-dos-and-donts/\n",
      "Finished checking site: https://famapp.in/blog/guide-for-seeking-support-from-fampay-important-dos-and-donts/, time: 0.2467668056488037\n",
      "Finished checking site: https://famapp.in/blog/guide-for-seeking-support-from-fampay-important-dos-and-donts/\n",
      "Checking site: https://wa.me/?text=Guide%20for%20seeking%20support%20from%20FamPay%3A%20Important%20Dos%20%E2%9C%85%20and%20Don'ts%20%E2%9B%94%20https://fampay.in/blog/guide-for-seeking-support-from-fampay-important-dos-and-donts/\n",
      "Finished checking site: https://wa.me/?text=Guide%20for%20seeking%20support%20from%20FamPay%3A%20Important%20Dos%20%E2%9C%85%20and%20Don'ts%20%E2%9B%94%20https://fampay.in/blog/guide-for-seeking-support-from-fampay-important-dos-and-donts/, time: 1.2184152603149414\n",
      "Checking site: https://wa.me/?text=Guide%20for%20seeking%20support%20from%20FamPay%3A%20Important%20Dos%20%E2%9C%85%20and%20Don'ts%20%E2%9B%94%20https://fampay.in/blog/guide-for-seeking-support-from-fampay-important-dos-and-donts/\n",
      "Finished checking site: https://wa.me/?text=Guide%20for%20seeking%20support%20from%20FamPay%3A%20Important%20Dos%20%E2%9C%85%20and%20Don'ts%20%E2%9B%94%20https://fampay.in/blog/guide-for-seeking-support-from-fampay-important-dos-and-donts/, time: 1.0009617805480957\n",
      "Finished checking site: https://wa.me/?text=Guide%20for%20seeking%20support%20from%20FamPay%3A%20Important%20Dos%20%E2%9C%85%20and%20Don'ts%20%E2%9B%94%20https://fampay.in/blog/guide-for-seeking-support-from-fampay-important-dos-and-donts/\n",
      "Checking site: https://www.facebook.com/sharer/sharer.php?u=https://fampay.in/blog/guide-for-seeking-support-from-fampay-important-dos-and-donts/\n",
      "Finished checking site: https://www.facebook.com/sharer/sharer.php?u=https://fampay.in/blog/guide-for-seeking-support-from-fampay-important-dos-and-donts/, time: 0.5420651435852051\n",
      "Checking site: https://www.facebook.com/sharer/sharer.php?u=https://fampay.in/blog/guide-for-seeking-support-from-fampay-important-dos-and-donts/\n",
      "Finished checking site: https://www.facebook.com/sharer/sharer.php?u=https://fampay.in/blog/guide-for-seeking-support-from-fampay-important-dos-and-donts/, time: 0.9392740726470947\n",
      "Finished checking site: https://www.facebook.com/sharer/sharer.php?u=https://fampay.in/blog/guide-for-seeking-support-from-fampay-important-dos-and-donts/\n",
      "Checking site: https://twitter.com/intent/tweet?text=Guide%20for%20seeking%20support%20from%20FamPay%3A%20Important%20Dos%20%E2%9C%85%20and%20Don'ts%20%E2%9B%94&url=https://fampay.in/blog/guide-for-seeking-support-from-fampay-important-dos-and-donts/\n",
      "Finished checking site: https://twitter.com/intent/tweet?text=Guide%20for%20seeking%20support%20from%20FamPay%3A%20Important%20Dos%20%E2%9C%85%20and%20Don'ts%20%E2%9B%94&url=https://fampay.in/blog/guide-for-seeking-support-from-fampay-important-dos-and-donts/, time: 1.1998543739318848\n",
      "Checking site: https://twitter.com/intent/tweet?text=Guide%20for%20seeking%20support%20from%20FamPay%3A%20Important%20Dos%20%E2%9C%85%20and%20Don'ts%20%E2%9B%94&url=https://fampay.in/blog/guide-for-seeking-support-from-fampay-important-dos-and-donts/\n",
      "Finished checking site: https://twitter.com/intent/tweet?text=Guide%20for%20seeking%20support%20from%20FamPay%3A%20Important%20Dos%20%E2%9C%85%20and%20Don'ts%20%E2%9B%94&url=https://fampay.in/blog/guide-for-seeking-support-from-fampay-important-dos-and-donts/, time: 1.1857821941375732\n",
      "Finished checking site: https://twitter.com/intent/tweet?text=Guide%20for%20seeking%20support%20from%20FamPay%3A%20Important%20Dos%20%E2%9C%85%20and%20Don'ts%20%E2%9B%94&url=https://fampay.in/blog/guide-for-seeking-support-from-fampay-important-dos-and-donts/\n",
      "Checking site: https://famapp.in/blog/7-clever-saving-hacks-for-teenagers-this-will-save-you-a-fortune/\n",
      "Finished checking site: https://famapp.in/blog/7-clever-saving-hacks-for-teenagers-this-will-save-you-a-fortune/, time: 0.14428377151489258\n",
      "Checking site: https://famapp.in/blog/7-clever-saving-hacks-for-teenagers-this-will-save-you-a-fortune/\n",
      "Finished checking site: https://famapp.in/blog/7-clever-saving-hacks-for-teenagers-this-will-save-you-a-fortune/, time: 0.16667914390563965\n",
      "Finished checking site: https://famapp.in/blog/7-clever-saving-hacks-for-teenagers-this-will-save-you-a-fortune/\n",
      "Checking site: https://wa.me/?text=9%20Clever%20Saving%20Hacks%20for%20Teenagers%20-%20This%20will%20save%20you%20a%20fortune!%20%F0%9F%92%B8%20https://fampay.in/blog/7-clever-saving-hacks-for-teenagers-this-will-save-you-a-fortune/\n",
      "Finished checking site: https://wa.me/?text=9%20Clever%20Saving%20Hacks%20for%20Teenagers%20-%20This%20will%20save%20you%20a%20fortune!%20%F0%9F%92%B8%20https://fampay.in/blog/7-clever-saving-hacks-for-teenagers-this-will-save-you-a-fortune/, time: 0.9566237926483154\n",
      "Checking site: https://wa.me/?text=9%20Clever%20Saving%20Hacks%20for%20Teenagers%20-%20This%20will%20save%20you%20a%20fortune!%20%F0%9F%92%B8%20https://fampay.in/blog/7-clever-saving-hacks-for-teenagers-this-will-save-you-a-fortune/\n",
      "Finished checking site: https://wa.me/?text=9%20Clever%20Saving%20Hacks%20for%20Teenagers%20-%20This%20will%20save%20you%20a%20fortune!%20%F0%9F%92%B8%20https://fampay.in/blog/7-clever-saving-hacks-for-teenagers-this-will-save-you-a-fortune/, time: 1.408745527267456\n",
      "Finished checking site: https://wa.me/?text=9%20Clever%20Saving%20Hacks%20for%20Teenagers%20-%20This%20will%20save%20you%20a%20fortune!%20%F0%9F%92%B8%20https://fampay.in/blog/7-clever-saving-hacks-for-teenagers-this-will-save-you-a-fortune/\n",
      "Checking site: https://www.facebook.com/sharer/sharer.php?u=https://fampay.in/blog/7-clever-saving-hacks-for-teenagers-this-will-save-you-a-fortune/\n",
      "Finished checking site: https://www.facebook.com/sharer/sharer.php?u=https://fampay.in/blog/7-clever-saving-hacks-for-teenagers-this-will-save-you-a-fortune/, time: 0.5689239501953125\n",
      "Checking site: https://www.facebook.com/sharer/sharer.php?u=https://fampay.in/blog/7-clever-saving-hacks-for-teenagers-this-will-save-you-a-fortune/\n",
      "Finished checking site: https://www.facebook.com/sharer/sharer.php?u=https://fampay.in/blog/7-clever-saving-hacks-for-teenagers-this-will-save-you-a-fortune/, time: 0.936424732208252\n",
      "Finished checking site: https://www.facebook.com/sharer/sharer.php?u=https://fampay.in/blog/7-clever-saving-hacks-for-teenagers-this-will-save-you-a-fortune/\n",
      "Checking site: https://twitter.com/intent/tweet?text=9%20Clever%20Saving%20Hacks%20for%20Teenagers%20-%20This%20will%20save%20you%20a%20fortune!%20%F0%9F%92%B8&url=https://fampay.in/blog/7-clever-saving-hacks-for-teenagers-this-will-save-you-a-fortune/\n",
      "Finished checking site: https://twitter.com/intent/tweet?text=9%20Clever%20Saving%20Hacks%20for%20Teenagers%20-%20This%20will%20save%20you%20a%20fortune!%20%F0%9F%92%B8&url=https://fampay.in/blog/7-clever-saving-hacks-for-teenagers-this-will-save-you-a-fortune/, time: 1.1843030452728271\n",
      "Checking site: https://twitter.com/intent/tweet?text=9%20Clever%20Saving%20Hacks%20for%20Teenagers%20-%20This%20will%20save%20you%20a%20fortune!%20%F0%9F%92%B8&url=https://fampay.in/blog/7-clever-saving-hacks-for-teenagers-this-will-save-you-a-fortune/\n",
      "Finished checking site: https://twitter.com/intent/tweet?text=9%20Clever%20Saving%20Hacks%20for%20Teenagers%20-%20This%20will%20save%20you%20a%20fortune!%20%F0%9F%92%B8&url=https://fampay.in/blog/7-clever-saving-hacks-for-teenagers-this-will-save-you-a-fortune/, time: 1.0876119136810303\n",
      "Finished checking site: https://twitter.com/intent/tweet?text=9%20Clever%20Saving%20Hacks%20for%20Teenagers%20-%20This%20will%20save%20you%20a%20fortune!%20%F0%9F%92%B8&url=https://fampay.in/blog/7-clever-saving-hacks-for-teenagers-this-will-save-you-a-fortune/\n",
      "Checking site: https://fampay.in/blog/baddie-on-a-budget-budgeting-tricks-for-teens/\n",
      "Finished checking site: https://fampay.in/blog/baddie-on-a-budget-budgeting-tricks-for-teens/, time: 0.40726637840270996\n",
      "Checking site: https://fampay.in/blog/baddie-on-a-budget-budgeting-tricks-for-teens/\n",
      "Finished checking site: https://fampay.in/blog/baddie-on-a-budget-budgeting-tricks-for-teens/, time: 0.3600292205810547\n",
      "Finished checking site: https://fampay.in/blog/baddie-on-a-budget-budgeting-tricks-for-teens/\n",
      "Checking site: https://famapp.in/blog/what-makes-fampay-secure/\n",
      "Finished checking site: https://famapp.in/blog/what-makes-fampay-secure/, time: 0.19495010375976562\n",
      "Checking site: https://famapp.in/blog/what-makes-fampay-secure/\n",
      "Finished checking site: https://famapp.in/blog/what-makes-fampay-secure/, time: 0.23597311973571777\n",
      "Finished checking site: https://famapp.in/blog/what-makes-fampay-secure/\n",
      "Checking site: https://wa.me/?text=What%20makes%20FamPay%20secure%3F%20%F0%9F%94%90%20https://fampay.in/blog/what-makes-fampay-secure/\n",
      "Finished checking site: https://wa.me/?text=What%20makes%20FamPay%20secure%3F%20%F0%9F%94%90%20https://fampay.in/blog/what-makes-fampay-secure/, time: 1.7697484493255615\n",
      "Checking site: https://wa.me/?text=What%20makes%20FamPay%20secure%3F%20%F0%9F%94%90%20https://fampay.in/blog/what-makes-fampay-secure/\n",
      "Finished checking site: https://wa.me/?text=What%20makes%20FamPay%20secure%3F%20%F0%9F%94%90%20https://fampay.in/blog/what-makes-fampay-secure/, time: 0.8490309715270996\n",
      "Finished checking site: https://wa.me/?text=What%20makes%20FamPay%20secure%3F%20%F0%9F%94%90%20https://fampay.in/blog/what-makes-fampay-secure/\n",
      "Checking site: https://www.facebook.com/sharer/sharer.php?u=https://fampay.in/blog/what-makes-fampay-secure/\n",
      "Finished checking site: https://www.facebook.com/sharer/sharer.php?u=https://fampay.in/blog/what-makes-fampay-secure/, time: 0.5599758625030518\n",
      "Checking site: https://www.facebook.com/sharer/sharer.php?u=https://fampay.in/blog/what-makes-fampay-secure/\n",
      "Finished checking site: https://www.facebook.com/sharer/sharer.php?u=https://fampay.in/blog/what-makes-fampay-secure/, time: 1.1383347511291504\n",
      "Finished checking site: https://www.facebook.com/sharer/sharer.php?u=https://fampay.in/blog/what-makes-fampay-secure/\n",
      "Checking site: https://twitter.com/intent/tweet?text=What%20makes%20FamPay%20secure%3F%20%F0%9F%94%90&url=https://fampay.in/blog/what-makes-fampay-secure/\n",
      "Finished checking site: https://twitter.com/intent/tweet?text=What%20makes%20FamPay%20secure%3F%20%F0%9F%94%90&url=https://fampay.in/blog/what-makes-fampay-secure/, time: 1.0571050643920898\n",
      "Checking site: https://twitter.com/intent/tweet?text=What%20makes%20FamPay%20secure%3F%20%F0%9F%94%90&url=https://fampay.in/blog/what-makes-fampay-secure/\n",
      "Finished checking site: https://twitter.com/intent/tweet?text=What%20makes%20FamPay%20secure%3F%20%F0%9F%94%90&url=https://fampay.in/blog/what-makes-fampay-secure/, time: 1.1330077648162842\n",
      "Finished checking site: https://twitter.com/intent/tweet?text=What%20makes%20FamPay%20secure%3F%20%F0%9F%94%90&url=https://fampay.in/blog/what-makes-fampay-secure/\n",
      "Checking site: https://famapp.in/blog/fampays-guide-to-digital-payments-for-teens-important-dos-and-donts/\n",
      "Finished checking site: https://famapp.in/blog/fampays-guide-to-digital-payments-for-teens-important-dos-and-donts/, time: 0.2301032543182373\n",
      "Checking site: https://famapp.in/blog/fampays-guide-to-digital-payments-for-teens-important-dos-and-donts/\n",
      "Finished checking site: https://famapp.in/blog/fampays-guide-to-digital-payments-for-teens-important-dos-and-donts/, time: 0.21544432640075684\n",
      "Finished checking site: https://famapp.in/blog/fampays-guide-to-digital-payments-for-teens-important-dos-and-donts/\n",
      "Checking site: https://wa.me/?text=FamPay%E2%80%99s%20guide%20to%20digital%20payments%20for%20teens%3A%20Important%20Dos%20%E2%9C%85%20and%20Don'ts%20%E2%9B%94%20https://fampay.in/blog/fampays-guide-to-digital-payments-for-teens-important-dos-and-donts/\n",
      "Finished checking site: https://wa.me/?text=FamPay%E2%80%99s%20guide%20to%20digital%20payments%20for%20teens%3A%20Important%20Dos%20%E2%9C%85%20and%20Don'ts%20%E2%9B%94%20https://fampay.in/blog/fampays-guide-to-digital-payments-for-teens-important-dos-and-donts/, time: 1.4771840572357178\n",
      "Checking site: https://wa.me/?text=FamPay%E2%80%99s%20guide%20to%20digital%20payments%20for%20teens%3A%20Important%20Dos%20%E2%9C%85%20and%20Don'ts%20%E2%9B%94%20https://fampay.in/blog/fampays-guide-to-digital-payments-for-teens-important-dos-and-donts/\n",
      "Finished checking site: https://wa.me/?text=FamPay%E2%80%99s%20guide%20to%20digital%20payments%20for%20teens%3A%20Important%20Dos%20%E2%9C%85%20and%20Don'ts%20%E2%9B%94%20https://fampay.in/blog/fampays-guide-to-digital-payments-for-teens-important-dos-and-donts/, time: 1.0338847637176514\n",
      "Finished checking site: https://wa.me/?text=FamPay%E2%80%99s%20guide%20to%20digital%20payments%20for%20teens%3A%20Important%20Dos%20%E2%9C%85%20and%20Don'ts%20%E2%9B%94%20https://fampay.in/blog/fampays-guide-to-digital-payments-for-teens-important-dos-and-donts/\n",
      "Checking site: https://www.facebook.com/sharer/sharer.php?u=https://fampay.in/blog/fampays-guide-to-digital-payments-for-teens-important-dos-and-donts/\n",
      "Finished checking site: https://www.facebook.com/sharer/sharer.php?u=https://fampay.in/blog/fampays-guide-to-digital-payments-for-teens-important-dos-and-donts/, time: 0.5327596664428711\n",
      "Checking site: https://www.facebook.com/sharer/sharer.php?u=https://fampay.in/blog/fampays-guide-to-digital-payments-for-teens-important-dos-and-donts/\n",
      "Finished checking site: https://www.facebook.com/sharer/sharer.php?u=https://fampay.in/blog/fampays-guide-to-digital-payments-for-teens-important-dos-and-donts/, time: 0.8858742713928223\n",
      "Finished checking site: https://www.facebook.com/sharer/sharer.php?u=https://fampay.in/blog/fampays-guide-to-digital-payments-for-teens-important-dos-and-donts/\n",
      "Checking site: https://twitter.com/intent/tweet?text=FamPay%E2%80%99s%20guide%20to%20digital%20payments%20for%20teens%3A%20Important%20Dos%20%E2%9C%85%20and%20Don'ts%20%E2%9B%94&url=https://fampay.in/blog/fampays-guide-to-digital-payments-for-teens-important-dos-and-donts/\n",
      "Finished checking site: https://twitter.com/intent/tweet?text=FamPay%E2%80%99s%20guide%20to%20digital%20payments%20for%20teens%3A%20Important%20Dos%20%E2%9C%85%20and%20Don'ts%20%E2%9B%94&url=https://fampay.in/blog/fampays-guide-to-digital-payments-for-teens-important-dos-and-donts/, time: 1.2130582332611084\n",
      "Checking site: https://twitter.com/intent/tweet?text=FamPay%E2%80%99s%20guide%20to%20digital%20payments%20for%20teens%3A%20Important%20Dos%20%E2%9C%85%20and%20Don'ts%20%E2%9B%94&url=https://fampay.in/blog/fampays-guide-to-digital-payments-for-teens-important-dos-and-donts/\n",
      "Finished checking site: https://twitter.com/intent/tweet?text=FamPay%E2%80%99s%20guide%20to%20digital%20payments%20for%20teens%3A%20Important%20Dos%20%E2%9C%85%20and%20Don'ts%20%E2%9B%94&url=https://fampay.in/blog/fampays-guide-to-digital-payments-for-teens-important-dos-and-donts/, time: 1.0800647735595703\n",
      "Finished checking site: https://twitter.com/intent/tweet?text=FamPay%E2%80%99s%20guide%20to%20digital%20payments%20for%20teens%3A%20Important%20Dos%20%E2%9C%85%20and%20Don'ts%20%E2%9B%94&url=https://fampay.in/blog/fampays-guide-to-digital-payments-for-teens-important-dos-and-donts/\n",
      "Checking site: https://famapp.in/blog/how-to-order-a-famcard-in-less-than-5-minutes/\n",
      "Finished checking site: https://famapp.in/blog/how-to-order-a-famcard-in-less-than-5-minutes/, time: 0.22099089622497559\n",
      "Checking site: https://famapp.in/blog/how-to-order-a-famcard-in-less-than-5-minutes/\n",
      "Finished checking site: https://famapp.in/blog/how-to-order-a-famcard-in-less-than-5-minutes/, time: 0.18379878997802734\n",
      "Finished checking site: https://famapp.in/blog/how-to-order-a-famcard-in-less-than-5-minutes/\n",
      "Checking site: https://wa.me/?text=How%20to%20order%20a%20FamCard%20in%20less%20than%205%20minutes%3F%20%F0%9F%92%B3%20https://fampay.in/blog/how-to-order-a-famcard-in-less-than-5-minutes/\n",
      "Finished checking site: https://wa.me/?text=How%20to%20order%20a%20FamCard%20in%20less%20than%205%20minutes%3F%20%F0%9F%92%B3%20https://fampay.in/blog/how-to-order-a-famcard-in-less-than-5-minutes/, time: 0.7311787605285645\n",
      "Checking site: https://wa.me/?text=How%20to%20order%20a%20FamCard%20in%20less%20than%205%20minutes%3F%20%F0%9F%92%B3%20https://fampay.in/blog/how-to-order-a-famcard-in-less-than-5-minutes/\n",
      "Finished checking site: https://wa.me/?text=How%20to%20order%20a%20FamCard%20in%20less%20than%205%20minutes%3F%20%F0%9F%92%B3%20https://fampay.in/blog/how-to-order-a-famcard-in-less-than-5-minutes/, time: 0.6957197189331055\n",
      "Finished checking site: https://wa.me/?text=How%20to%20order%20a%20FamCard%20in%20less%20than%205%20minutes%3F%20%F0%9F%92%B3%20https://fampay.in/blog/how-to-order-a-famcard-in-less-than-5-minutes/\n",
      "Checking site: https://www.facebook.com/sharer/sharer.php?u=https://fampay.in/blog/how-to-order-a-famcard-in-less-than-5-minutes/\n",
      "Finished checking site: https://www.facebook.com/sharer/sharer.php?u=https://fampay.in/blog/how-to-order-a-famcard-in-less-than-5-minutes/, time: 0.36778974533081055\n",
      "Checking site: https://www.facebook.com/sharer/sharer.php?u=https://fampay.in/blog/how-to-order-a-famcard-in-less-than-5-minutes/\n",
      "Finished checking site: https://www.facebook.com/sharer/sharer.php?u=https://fampay.in/blog/how-to-order-a-famcard-in-less-than-5-minutes/, time: 0.937732458114624\n",
      "Finished checking site: https://www.facebook.com/sharer/sharer.php?u=https://fampay.in/blog/how-to-order-a-famcard-in-less-than-5-minutes/\n",
      "Checking site: https://twitter.com/intent/tweet?text=How%20to%20order%20a%20FamCard%20in%20less%20than%205%20minutes%3F%20%F0%9F%92%B3&url=https://fampay.in/blog/how-to-order-a-famcard-in-less-than-5-minutes/\n",
      "Finished checking site: https://twitter.com/intent/tweet?text=How%20to%20order%20a%20FamCard%20in%20less%20than%205%20minutes%3F%20%F0%9F%92%B3&url=https://fampay.in/blog/how-to-order-a-famcard-in-less-than-5-minutes/, time: 1.2982933521270752\n",
      "Checking site: https://twitter.com/intent/tweet?text=How%20to%20order%20a%20FamCard%20in%20less%20than%205%20minutes%3F%20%F0%9F%92%B3&url=https://fampay.in/blog/how-to-order-a-famcard-in-less-than-5-minutes/\n",
      "Finished checking site: https://twitter.com/intent/tweet?text=How%20to%20order%20a%20FamCard%20in%20less%20than%205%20minutes%3F%20%F0%9F%92%B3&url=https://fampay.in/blog/how-to-order-a-famcard-in-less-than-5-minutes/, time: 1.1827001571655273\n",
      "Finished checking site: https://twitter.com/intent/tweet?text=How%20to%20order%20a%20FamCard%20in%20less%20than%205%20minutes%3F%20%F0%9F%92%B3&url=https://fampay.in/blog/how-to-order-a-famcard-in-less-than-5-minutes/\n",
      "Checking site: https://fampay.in/blog/one-stop-solution-for-all-your-kyc-concerns/\n",
      "Finished checking site: https://fampay.in/blog/one-stop-solution-for-all-your-kyc-concerns/, time: 0.3742711544036865\n",
      "Checking site: https://fampay.in/blog/one-stop-solution-for-all-your-kyc-concerns/\n",
      "Finished checking site: https://fampay.in/blog/one-stop-solution-for-all-your-kyc-concerns/, time: 0.3760509490966797\n",
      "Finished checking site: https://fampay.in/blog/one-stop-solution-for-all-your-kyc-concerns/\n",
      "Checking site: https://wa.me/?text=One-stop%20solution%20for%20all%20your%20KYC%20concerns%20https://fampay.in/blog/one-stop-solution-for-all-your-kyc-concerns/\n",
      "Finished checking site: https://wa.me/?text=One-stop%20solution%20for%20all%20your%20KYC%20concerns%20https://fampay.in/blog/one-stop-solution-for-all-your-kyc-concerns/, time: 0.9866325855255127\n",
      "Checking site: https://wa.me/?text=One-stop%20solution%20for%20all%20your%20KYC%20concerns%20https://fampay.in/blog/one-stop-solution-for-all-your-kyc-concerns/\n",
      "Finished checking site: https://wa.me/?text=One-stop%20solution%20for%20all%20your%20KYC%20concerns%20https://fampay.in/blog/one-stop-solution-for-all-your-kyc-concerns/, time: 0.9699752330780029\n",
      "Finished checking site: https://wa.me/?text=One-stop%20solution%20for%20all%20your%20KYC%20concerns%20https://fampay.in/blog/one-stop-solution-for-all-your-kyc-concerns/\n",
      "Checking site: https://www.facebook.com/sharer/sharer.php?u=https://fampay.in/blog/one-stop-solution-for-all-your-kyc-concerns/\n",
      "Finished checking site: https://www.facebook.com/sharer/sharer.php?u=https://fampay.in/blog/one-stop-solution-for-all-your-kyc-concerns/, time: 0.5907752513885498\n",
      "Checking site: https://www.facebook.com/sharer/sharer.php?u=https://fampay.in/blog/one-stop-solution-for-all-your-kyc-concerns/\n",
      "Finished checking site: https://www.facebook.com/sharer/sharer.php?u=https://fampay.in/blog/one-stop-solution-for-all-your-kyc-concerns/, time: 1.0028433799743652\n",
      "Finished checking site: https://www.facebook.com/sharer/sharer.php?u=https://fampay.in/blog/one-stop-solution-for-all-your-kyc-concerns/\n",
      "Checking site: https://twitter.com/intent/tweet?text=One-stop%20solution%20for%20all%20your%20KYC%20concerns&url=https://fampay.in/blog/one-stop-solution-for-all-your-kyc-concerns/\n",
      "Finished checking site: https://twitter.com/intent/tweet?text=One-stop%20solution%20for%20all%20your%20KYC%20concerns&url=https://fampay.in/blog/one-stop-solution-for-all-your-kyc-concerns/, time: 1.0105619430541992\n",
      "Checking site: https://twitter.com/intent/tweet?text=One-stop%20solution%20for%20all%20your%20KYC%20concerns&url=https://fampay.in/blog/one-stop-solution-for-all-your-kyc-concerns/\n",
      "Finished checking site: https://twitter.com/intent/tweet?text=One-stop%20solution%20for%20all%20your%20KYC%20concerns&url=https://fampay.in/blog/one-stop-solution-for-all-your-kyc-concerns/, time: 1.1884922981262207\n",
      "Finished checking site: https://twitter.com/intent/tweet?text=One-stop%20solution%20for%20all%20your%20KYC%20concerns&url=https://fampay.in/blog/one-stop-solution-for-all-your-kyc-concerns/\n",
      "Checking site: https://fampay.in/blog/fampay-the-solution-to-your-cash-problems/\n",
      "Finished checking site: https://fampay.in/blog/fampay-the-solution-to-your-cash-problems/, time: 0.43077874183654785\n",
      "Checking site: https://fampay.in/blog/fampay-the-solution-to-your-cash-problems/\n",
      "Finished checking site: https://fampay.in/blog/fampay-the-solution-to-your-cash-problems/, time: 0.37637877464294434\n",
      "Finished checking site: https://fampay.in/blog/fampay-the-solution-to-your-cash-problems/\n",
      "Checking site: https://famapp.in/blog/tag/product/page/2/\n",
      "Finished checking site: https://famapp.in/blog/tag/product/page/2/, time: 0.22281122207641602\n",
      "Checking site: https://famapp.in/blog/tag/product/page/2/\n",
      "Finished checking site: https://famapp.in/blog/tag/product/page/2/, time: 0.1823573112487793\n",
      "Finished checking site: https://famapp.in/blog/tag/product/page/2/\n",
      "Checking site: https://famapp.in/blog/one-stop-solution-for-all-your-kyc-concerns/\n",
      "Finished checking site: https://famapp.in/blog/one-stop-solution-for-all-your-kyc-concerns/, time: 0.13989591598510742\n",
      "Checking site: https://famapp.in/blog/one-stop-solution-for-all-your-kyc-concerns/\n",
      "Finished checking site: https://famapp.in/blog/one-stop-solution-for-all-your-kyc-concerns/, time: 0.21068692207336426\n",
      "Finished checking site: https://famapp.in/blog/one-stop-solution-for-all-your-kyc-concerns/\n",
      "Checking site: https://famapp.in/blog/everything-you-need-to-know-about-our-numberless-card/\n",
      "Finished checking site: https://famapp.in/blog/everything-you-need-to-know-about-our-numberless-card/, time: 0.20272278785705566\n",
      "Checking site: https://famapp.in/blog/everything-you-need-to-know-about-our-numberless-card/\n",
      "Finished checking site: https://famapp.in/blog/everything-you-need-to-know-about-our-numberless-card/, time: 0.1442716121673584\n",
      "Finished checking site: https://famapp.in/blog/everything-you-need-to-know-about-our-numberless-card/\n",
      "Checking site: https://wa.me/?text=Everything%20you%20need%20to%20know%20about%20our%20Numberless%20Card!%20%F0%9F%92%B3%20https://fampay.in/blog/everything-you-need-to-know-about-our-numberless-card/\n",
      "Finished checking site: https://wa.me/?text=Everything%20you%20need%20to%20know%20about%20our%20Numberless%20Card!%20%F0%9F%92%B3%20https://fampay.in/blog/everything-you-need-to-know-about-our-numberless-card/, time: 0.9117984771728516\n",
      "Checking site: https://wa.me/?text=Everything%20you%20need%20to%20know%20about%20our%20Numberless%20Card!%20%F0%9F%92%B3%20https://fampay.in/blog/everything-you-need-to-know-about-our-numberless-card/\n",
      "Finished checking site: https://wa.me/?text=Everything%20you%20need%20to%20know%20about%20our%20Numberless%20Card!%20%F0%9F%92%B3%20https://fampay.in/blog/everything-you-need-to-know-about-our-numberless-card/, time: 0.9791193008422852\n",
      "Finished checking site: https://wa.me/?text=Everything%20you%20need%20to%20know%20about%20our%20Numberless%20Card!%20%F0%9F%92%B3%20https://fampay.in/blog/everything-you-need-to-know-about-our-numberless-card/\n",
      "Checking site: https://www.facebook.com/sharer/sharer.php?u=https://fampay.in/blog/everything-you-need-to-know-about-our-numberless-card/\n",
      "Finished checking site: https://www.facebook.com/sharer/sharer.php?u=https://fampay.in/blog/everything-you-need-to-know-about-our-numberless-card/, time: 0.3396718502044678\n",
      "Checking site: https://www.facebook.com/sharer/sharer.php?u=https://fampay.in/blog/everything-you-need-to-know-about-our-numberless-card/\n",
      "Finished checking site: https://www.facebook.com/sharer/sharer.php?u=https://fampay.in/blog/everything-you-need-to-know-about-our-numberless-card/, time: 0.9916939735412598\n",
      "Finished checking site: https://www.facebook.com/sharer/sharer.php?u=https://fampay.in/blog/everything-you-need-to-know-about-our-numberless-card/\n",
      "Checking site: https://twitter.com/intent/tweet?text=Everything%20you%20need%20to%20know%20about%20our%20Numberless%20Card!%20%F0%9F%92%B3&url=https://fampay.in/blog/everything-you-need-to-know-about-our-numberless-card/\n",
      "Finished checking site: https://twitter.com/intent/tweet?text=Everything%20you%20need%20to%20know%20about%20our%20Numberless%20Card!%20%F0%9F%92%B3&url=https://fampay.in/blog/everything-you-need-to-know-about-our-numberless-card/, time: 1.1638355255126953\n",
      "Checking site: https://twitter.com/intent/tweet?text=Everything%20you%20need%20to%20know%20about%20our%20Numberless%20Card!%20%F0%9F%92%B3&url=https://fampay.in/blog/everything-you-need-to-know-about-our-numberless-card/\n",
      "Finished checking site: https://twitter.com/intent/tweet?text=Everything%20you%20need%20to%20know%20about%20our%20Numberless%20Card!%20%F0%9F%92%B3&url=https://fampay.in/blog/everything-you-need-to-know-about-our-numberless-card/, time: 1.0540978908538818\n",
      "Finished checking site: https://twitter.com/intent/tweet?text=Everything%20you%20need%20to%20know%20about%20our%20Numberless%20Card!%20%F0%9F%92%B3&url=https://fampay.in/blog/everything-you-need-to-know-about-our-numberless-card/\n",
      "Checking site: https://famapp.in/blog/famcard-your-first-prepaid-card/\n",
      "Finished checking site: https://famapp.in/blog/famcard-your-first-prepaid-card/, time: 0.2035963535308838\n",
      "Checking site: https://famapp.in/blog/famcard-your-first-prepaid-card/\n",
      "Finished checking site: https://famapp.in/blog/famcard-your-first-prepaid-card/, time: 0.2601938247680664\n",
      "Finished checking site: https://famapp.in/blog/famcard-your-first-prepaid-card/\n",
      "Checking site: https://wa.me/?text=FamCard%20-%20your%20first%20prepaid%20card!%20%F0%9F%92%B3%F0%9F%A4%A9%F0%9F%A5%B3%20https://fampay.in/blog/famcard-your-first-prepaid-card/\n",
      "Finished checking site: https://wa.me/?text=FamCard%20-%20your%20first%20prepaid%20card!%20%F0%9F%92%B3%F0%9F%A4%A9%F0%9F%A5%B3%20https://fampay.in/blog/famcard-your-first-prepaid-card/, time: 1.0325798988342285\n",
      "Checking site: https://wa.me/?text=FamCard%20-%20your%20first%20prepaid%20card!%20%F0%9F%92%B3%F0%9F%A4%A9%F0%9F%A5%B3%20https://fampay.in/blog/famcard-your-first-prepaid-card/\n",
      "Finished checking site: https://wa.me/?text=FamCard%20-%20your%20first%20prepaid%20card!%20%F0%9F%92%B3%F0%9F%A4%A9%F0%9F%A5%B3%20https://fampay.in/blog/famcard-your-first-prepaid-card/, time: 0.6836378574371338\n",
      "Finished checking site: https://wa.me/?text=FamCard%20-%20your%20first%20prepaid%20card!%20%F0%9F%92%B3%F0%9F%A4%A9%F0%9F%A5%B3%20https://fampay.in/blog/famcard-your-first-prepaid-card/\n",
      "Checking site: https://www.facebook.com/sharer/sharer.php?u=https://fampay.in/blog/famcard-your-first-prepaid-card/\n",
      "Finished checking site: https://www.facebook.com/sharer/sharer.php?u=https://fampay.in/blog/famcard-your-first-prepaid-card/, time: 0.5540504455566406\n",
      "Checking site: https://www.facebook.com/sharer/sharer.php?u=https://fampay.in/blog/famcard-your-first-prepaid-card/\n",
      "Finished checking site: https://www.facebook.com/sharer/sharer.php?u=https://fampay.in/blog/famcard-your-first-prepaid-card/, time: 0.8960845470428467\n",
      "Finished checking site: https://www.facebook.com/sharer/sharer.php?u=https://fampay.in/blog/famcard-your-first-prepaid-card/\n",
      "Checking site: https://twitter.com/intent/tweet?text=FamCard%20-%20your%20first%20prepaid%20card!%20%F0%9F%92%B3%F0%9F%A4%A9%F0%9F%A5%B3&url=https://fampay.in/blog/famcard-your-first-prepaid-card/\n",
      "Finished checking site: https://twitter.com/intent/tweet?text=FamCard%20-%20your%20first%20prepaid%20card!%20%F0%9F%92%B3%F0%9F%A4%A9%F0%9F%A5%B3&url=https://fampay.in/blog/famcard-your-first-prepaid-card/, time: 1.0501148700714111\n",
      "Checking site: https://twitter.com/intent/tweet?text=FamCard%20-%20your%20first%20prepaid%20card!%20%F0%9F%92%B3%F0%9F%A4%A9%F0%9F%A5%B3&url=https://fampay.in/blog/famcard-your-first-prepaid-card/\n",
      "Finished checking site: https://twitter.com/intent/tweet?text=FamCard%20-%20your%20first%20prepaid%20card!%20%F0%9F%92%B3%F0%9F%A4%A9%F0%9F%A5%B3&url=https://fampay.in/blog/famcard-your-first-prepaid-card/, time: 1.2529237270355225\n",
      "Finished checking site: https://twitter.com/intent/tweet?text=FamCard%20-%20your%20first%20prepaid%20card!%20%F0%9F%92%B3%F0%9F%A4%A9%F0%9F%A5%B3&url=https://fampay.in/blog/famcard-your-first-prepaid-card/\n",
      "Checking site: https://famapp.in/blog/savings-for-teens-its-never-too-early-to-start/\n",
      "Finished checking site: https://famapp.in/blog/savings-for-teens-its-never-too-early-to-start/, time: 0.22558331489562988\n",
      "Checking site: https://famapp.in/blog/savings-for-teens-its-never-too-early-to-start/\n",
      "Finished checking site: https://famapp.in/blog/savings-for-teens-its-never-too-early-to-start/, time: 0.15958118438720703\n",
      "Finished checking site: https://famapp.in/blog/savings-for-teens-its-never-too-early-to-start/\n",
      "Checking site: https://wa.me/?text=Savings%20for%20teens%20%F0%9F%92%B0%F0%9F%98%8E-%20Its%20never%20too%20early%20to%20start!%20https://fampay.in/blog/savings-for-teens-its-never-too-early-to-start/\n",
      "Finished checking site: https://wa.me/?text=Savings%20for%20teens%20%F0%9F%92%B0%F0%9F%98%8E-%20Its%20never%20too%20early%20to%20start!%20https://fampay.in/blog/savings-for-teens-its-never-too-early-to-start/, time: 0.948206901550293\n",
      "Checking site: https://wa.me/?text=Savings%20for%20teens%20%F0%9F%92%B0%F0%9F%98%8E-%20Its%20never%20too%20early%20to%20start!%20https://fampay.in/blog/savings-for-teens-its-never-too-early-to-start/\n",
      "Finished checking site: https://wa.me/?text=Savings%20for%20teens%20%F0%9F%92%B0%F0%9F%98%8E-%20Its%20never%20too%20early%20to%20start!%20https://fampay.in/blog/savings-for-teens-its-never-too-early-to-start/, time: 0.7080235481262207\n",
      "Finished checking site: https://wa.me/?text=Savings%20for%20teens%20%F0%9F%92%B0%F0%9F%98%8E-%20Its%20never%20too%20early%20to%20start!%20https://fampay.in/blog/savings-for-teens-its-never-too-early-to-start/\n",
      "Checking site: https://www.facebook.com/sharer/sharer.php?u=https://fampay.in/blog/savings-for-teens-its-never-too-early-to-start/\n",
      "Finished checking site: https://www.facebook.com/sharer/sharer.php?u=https://fampay.in/blog/savings-for-teens-its-never-too-early-to-start/, time: 0.3326737880706787\n",
      "Checking site: https://www.facebook.com/sharer/sharer.php?u=https://fampay.in/blog/savings-for-teens-its-never-too-early-to-start/\n",
      "Finished checking site: https://www.facebook.com/sharer/sharer.php?u=https://fampay.in/blog/savings-for-teens-its-never-too-early-to-start/, time: 1.0116641521453857\n",
      "Finished checking site: https://www.facebook.com/sharer/sharer.php?u=https://fampay.in/blog/savings-for-teens-its-never-too-early-to-start/\n",
      "Checking site: https://twitter.com/intent/tweet?text=Savings%20for%20teens%20%F0%9F%92%B0%F0%9F%98%8E-%20Its%20never%20too%20early%20to%20start!&url=https://fampay.in/blog/savings-for-teens-its-never-too-early-to-start/\n",
      "Finished checking site: https://twitter.com/intent/tweet?text=Savings%20for%20teens%20%F0%9F%92%B0%F0%9F%98%8E-%20Its%20never%20too%20early%20to%20start!&url=https://fampay.in/blog/savings-for-teens-its-never-too-early-to-start/, time: 1.0859923362731934\n",
      "Checking site: https://twitter.com/intent/tweet?text=Savings%20for%20teens%20%F0%9F%92%B0%F0%9F%98%8E-%20Its%20never%20too%20early%20to%20start!&url=https://fampay.in/blog/savings-for-teens-its-never-too-early-to-start/\n",
      "Finished checking site: https://twitter.com/intent/tweet?text=Savings%20for%20teens%20%F0%9F%92%B0%F0%9F%98%8E-%20Its%20never%20too%20early%20to%20start!&url=https://fampay.in/blog/savings-for-teens-its-never-too-early-to-start/, time: 1.191852331161499\n",
      "Finished checking site: https://twitter.com/intent/tweet?text=Savings%20for%20teens%20%F0%9F%92%B0%F0%9F%98%8E-%20Its%20never%20too%20early%20to%20start!&url=https://fampay.in/blog/savings-for-teens-its-never-too-early-to-start/\n",
      "Checking site: https://famapp.in/blog/fampay-the-solution-to-your-cash-problems/\n",
      "Finished checking site: https://famapp.in/blog/fampay-the-solution-to-your-cash-problems/, time: 0.2912271022796631\n",
      "Checking site: https://famapp.in/blog/fampay-the-solution-to-your-cash-problems/\n",
      "Finished checking site: https://famapp.in/blog/fampay-the-solution-to-your-cash-problems/, time: 0.312345027923584\n",
      "Finished checking site: https://famapp.in/blog/fampay-the-solution-to-your-cash-problems/\n",
      "Checking site: https://wa.me/?text=FamPay-%20the%20solution%20to%20your%20cash%20problems!%20%F0%9F%98%8E%20https://fampay.in/blog/fampay-the-solution-to-your-cash-problems/\n",
      "Finished checking site: https://wa.me/?text=FamPay-%20the%20solution%20to%20your%20cash%20problems!%20%F0%9F%98%8E%20https://fampay.in/blog/fampay-the-solution-to-your-cash-problems/, time: 0.7350878715515137\n",
      "Checking site: https://wa.me/?text=FamPay-%20the%20solution%20to%20your%20cash%20problems!%20%F0%9F%98%8E%20https://fampay.in/blog/fampay-the-solution-to-your-cash-problems/\n",
      "Finished checking site: https://wa.me/?text=FamPay-%20the%20solution%20to%20your%20cash%20problems!%20%F0%9F%98%8E%20https://fampay.in/blog/fampay-the-solution-to-your-cash-problems/, time: 0.7186393737792969\n",
      "Finished checking site: https://wa.me/?text=FamPay-%20the%20solution%20to%20your%20cash%20problems!%20%F0%9F%98%8E%20https://fampay.in/blog/fampay-the-solution-to-your-cash-problems/\n",
      "Checking site: https://www.facebook.com/sharer/sharer.php?u=https://fampay.in/blog/fampay-the-solution-to-your-cash-problems/\n",
      "Finished checking site: https://www.facebook.com/sharer/sharer.php?u=https://fampay.in/blog/fampay-the-solution-to-your-cash-problems/, time: 0.5654654502868652\n",
      "Checking site: https://www.facebook.com/sharer/sharer.php?u=https://fampay.in/blog/fampay-the-solution-to-your-cash-problems/\n",
      "Finished checking site: https://www.facebook.com/sharer/sharer.php?u=https://fampay.in/blog/fampay-the-solution-to-your-cash-problems/, time: 0.9176969528198242\n",
      "Finished checking site: https://www.facebook.com/sharer/sharer.php?u=https://fampay.in/blog/fampay-the-solution-to-your-cash-problems/\n",
      "Checking site: https://twitter.com/intent/tweet?text=FamPay-%20the%20solution%20to%20your%20cash%20problems!%20%F0%9F%98%8E&url=https://fampay.in/blog/fampay-the-solution-to-your-cash-problems/\n",
      "Finished checking site: https://twitter.com/intent/tweet?text=FamPay-%20the%20solution%20to%20your%20cash%20problems!%20%F0%9F%98%8E&url=https://fampay.in/blog/fampay-the-solution-to-your-cash-problems/, time: 1.2364575862884521\n",
      "Checking site: https://twitter.com/intent/tweet?text=FamPay-%20the%20solution%20to%20your%20cash%20problems!%20%F0%9F%98%8E&url=https://fampay.in/blog/fampay-the-solution-to-your-cash-problems/\n",
      "Finished checking site: https://twitter.com/intent/tweet?text=FamPay-%20the%20solution%20to%20your%20cash%20problems!%20%F0%9F%98%8E&url=https://fampay.in/blog/fampay-the-solution-to-your-cash-problems/, time: 1.1906628608703613\n",
      "Finished checking site: https://twitter.com/intent/tweet?text=FamPay-%20the%20solution%20to%20your%20cash%20problems!%20%F0%9F%98%8E&url=https://fampay.in/blog/fampay-the-solution-to-your-cash-problems/\n",
      "Checking site: https://famapp.in/blog/tag/tech/\n",
      "Finished checking site: https://famapp.in/blog/tag/tech/, time: 0.3193700313568115\n",
      "Checking site: https://famapp.in/blog/tag/tech/\n",
      "Finished checking site: https://famapp.in/blog/tag/tech/, time: 0.26862049102783203\n",
      "Finished checking site: https://famapp.in/blog/tag/tech/\n",
      "Checking site: https://famapp.in/blog/how-a-pressing-problem-can-lead-to-technological-innovation/\n",
      "Finished checking site: https://famapp.in/blog/how-a-pressing-problem-can-lead-to-technological-innovation/, time: 0.14957046508789062\n",
      "Checking site: https://famapp.in/blog/how-a-pressing-problem-can-lead-to-technological-innovation/\n",
      "Finished checking site: https://famapp.in/blog/how-a-pressing-problem-can-lead-to-technological-innovation/, time: 0.2798929214477539\n",
      "Finished checking site: https://famapp.in/blog/how-a-pressing-problem-can-lead-to-technological-innovation/\n",
      "Checking site: https://wa.me/?text=How%20a%20Pressing%20Problem%20can%20lead%20to%20Technological%20Innovation%20https://fampay.in/blog/how-a-pressing-problem-can-lead-to-technological-innovation/\n",
      "Finished checking site: https://wa.me/?text=How%20a%20Pressing%20Problem%20can%20lead%20to%20Technological%20Innovation%20https://fampay.in/blog/how-a-pressing-problem-can-lead-to-technological-innovation/, time: 1.1053533554077148\n",
      "Checking site: https://wa.me/?text=How%20a%20Pressing%20Problem%20can%20lead%20to%20Technological%20Innovation%20https://fampay.in/blog/how-a-pressing-problem-can-lead-to-technological-innovation/\n",
      "Finished checking site: https://wa.me/?text=How%20a%20Pressing%20Problem%20can%20lead%20to%20Technological%20Innovation%20https://fampay.in/blog/how-a-pressing-problem-can-lead-to-technological-innovation/, time: 0.8664274215698242\n",
      "Finished checking site: https://wa.me/?text=How%20a%20Pressing%20Problem%20can%20lead%20to%20Technological%20Innovation%20https://fampay.in/blog/how-a-pressing-problem-can-lead-to-technological-innovation/\n",
      "Checking site: https://www.facebook.com/sharer/sharer.php?u=https://fampay.in/blog/how-a-pressing-problem-can-lead-to-technological-innovation/\n",
      "Finished checking site: https://www.facebook.com/sharer/sharer.php?u=https://fampay.in/blog/how-a-pressing-problem-can-lead-to-technological-innovation/, time: 0.5920696258544922\n",
      "Checking site: https://www.facebook.com/sharer/sharer.php?u=https://fampay.in/blog/how-a-pressing-problem-can-lead-to-technological-innovation/\n",
      "Finished checking site: https://www.facebook.com/sharer/sharer.php?u=https://fampay.in/blog/how-a-pressing-problem-can-lead-to-technological-innovation/, time: 0.9701623916625977\n",
      "Finished checking site: https://www.facebook.com/sharer/sharer.php?u=https://fampay.in/blog/how-a-pressing-problem-can-lead-to-technological-innovation/\n",
      "Checking site: https://twitter.com/intent/tweet?text=How%20a%20Pressing%20Problem%20can%20lead%20to%20Technological%20Innovation&url=https://fampay.in/blog/how-a-pressing-problem-can-lead-to-technological-innovation/\n",
      "Finished checking site: https://twitter.com/intent/tweet?text=How%20a%20Pressing%20Problem%20can%20lead%20to%20Technological%20Innovation&url=https://fampay.in/blog/how-a-pressing-problem-can-lead-to-technological-innovation/, time: 1.0998997688293457\n",
      "Checking site: https://twitter.com/intent/tweet?text=How%20a%20Pressing%20Problem%20can%20lead%20to%20Technological%20Innovation&url=https://fampay.in/blog/how-a-pressing-problem-can-lead-to-technological-innovation/\n",
      "Finished checking site: https://twitter.com/intent/tweet?text=How%20a%20Pressing%20Problem%20can%20lead%20to%20Technological%20Innovation&url=https://fampay.in/blog/how-a-pressing-problem-can-lead-to-technological-innovation/, time: 1.193511962890625\n",
      "Finished checking site: https://twitter.com/intent/tweet?text=How%20a%20Pressing%20Problem%20can%20lead%20to%20Technological%20Innovation&url=https://fampay.in/blog/how-a-pressing-problem-can-lead-to-technological-innovation/\n",
      "Checking site: http://friends.fampay.in/\n",
      "Finished checking site: http://friends.fampay.in/, time: 1.4728870391845703\n",
      "Checking site: http://friends.fampay.in/\n",
      "Finished checking site: http://friends.fampay.in/, time: 1.4547290802001953\n",
      "Finished checking site: http://friends.fampay.in/\n",
      "Checking site: http://friends.fampay.in/about\n",
      "Finished checking site: http://friends.fampay.in/about, time: 1.3889095783233643\n",
      "Checking site: http://friends.fampay.in/about\n",
      "Finished checking site: http://friends.fampay.in/about, time: 1.3902742862701416\n",
      "Finished checking site: http://friends.fampay.in/about\n",
      "Checking site: http://friends.fampay.in/blog\n",
      "Finished checking site: http://friends.fampay.in/blog, time: 1.311852216720581\n",
      "Checking site: http://friends.fampay.in/blog\n",
      "Finished checking site: http://friends.fampay.in/blog, time: 1.3488001823425293\n",
      "Finished checking site: http://friends.fampay.in/blog\n",
      "Checking site: http://friends.fampay.in/careers\n",
      "Finished checking site: http://friends.fampay.in/careers, time: 1.3964571952819824\n",
      "Checking site: http://friends.fampay.in/careers\n",
      "Finished checking site: http://friends.fampay.in/careers, time: 1.3660085201263428\n",
      "Finished checking site: http://friends.fampay.in/careers\n",
      "Checking site: http://friends.fampay.in/partner\n",
      "Finished checking site: http://friends.fampay.in/partner, time: 1.4114456176757812\n",
      "Checking site: http://friends.fampay.in/partner\n",
      "Finished checking site: http://friends.fampay.in/partner, time: 1.4300894737243652\n",
      "Finished checking site: http://friends.fampay.in/partner\n",
      "Checking site: http://friends.fampay.in/faqs\n",
      "Finished checking site: http://friends.fampay.in/faqs, time: 1.3596103191375732\n",
      "Checking site: http://friends.fampay.in/faqs\n",
      "Finished checking site: http://friends.fampay.in/faqs, time: 1.3832614421844482\n",
      "Finished checking site: http://friends.fampay.in/faqs\n",
      "Checking site: http://friends.fampay.in/blog/\n",
      "Finished checking site: http://friends.fampay.in/blog/, time: 1.3682620525360107\n",
      "Checking site: http://friends.fampay.in/blog/\n",
      "Finished checking site: http://friends.fampay.in/blog/, time: 1.3392410278320312\n",
      "Finished checking site: http://friends.fampay.in/blog/\n",
      "Checking site: http://friends.fampay.in/press\n",
      "Finished checking site: http://friends.fampay.in/press, time: 1.410965919494629\n",
      "Checking site: http://friends.fampay.in/press\n",
      "Finished checking site: http://friends.fampay.in/press, time: 1.4165494441986084\n",
      "Finished checking site: http://friends.fampay.in/press\n",
      "Checking site: http://friends.fampay.in/privacy\n",
      "Finished checking site: http://friends.fampay.in/privacy, time: 1.4188194274902344\n",
      "Checking site: http://friends.fampay.in/privacy\n",
      "Finished checking site: http://friends.fampay.in/privacy, time: 1.3883516788482666\n",
      "Finished checking site: http://friends.fampay.in/privacy\n",
      "Checking site: http://friends.fampay.in/terms\n",
      "Finished checking site: http://friends.fampay.in/terms, time: 1.3057620525360107\n",
      "Checking site: http://friends.fampay.in/terms\n",
      "Finished checking site: http://friends.fampay.in/terms, time: 1.408416509628296\n",
      "Finished checking site: http://friends.fampay.in/terms\n",
      "Checking site: http://friends.fampay.in/contact\n",
      "Finished checking site: http://friends.fampay.in/contact, time: 1.4052150249481201\n",
      "Checking site: http://friends.fampay.in/contact\n",
      "Finished checking site: http://friends.fampay.in/contact, time: 1.3924992084503174\n",
      "Finished checking site: http://friends.fampay.in/contact\n",
      "Checking site: https://famapp.in/blog/how-i-blurred-age-barriers-with-technology/\n",
      "Finished checking site: https://famapp.in/blog/how-i-blurred-age-barriers-with-technology/, time: 0.28526854515075684\n",
      "Checking site: https://famapp.in/blog/how-i-blurred-age-barriers-with-technology/\n",
      "Finished checking site: https://famapp.in/blog/how-i-blurred-age-barriers-with-technology/, time: 0.21897363662719727\n",
      "Finished checking site: https://famapp.in/blog/how-i-blurred-age-barriers-with-technology/\n",
      "Checking site: https://wa.me/?text=How%20I%20Blurred%20Age%20Barriers%20with%20Technology%20https://fampay.in/blog/how-i-blurred-age-barriers-with-technology/\n",
      "Finished checking site: https://wa.me/?text=How%20I%20Blurred%20Age%20Barriers%20with%20Technology%20https://fampay.in/blog/how-i-blurred-age-barriers-with-technology/, time: 0.7286579608917236\n",
      "Checking site: https://wa.me/?text=How%20I%20Blurred%20Age%20Barriers%20with%20Technology%20https://fampay.in/blog/how-i-blurred-age-barriers-with-technology/\n",
      "Finished checking site: https://wa.me/?text=How%20I%20Blurred%20Age%20Barriers%20with%20Technology%20https://fampay.in/blog/how-i-blurred-age-barriers-with-technology/, time: 0.9042952060699463\n",
      "Finished checking site: https://wa.me/?text=How%20I%20Blurred%20Age%20Barriers%20with%20Technology%20https://fampay.in/blog/how-i-blurred-age-barriers-with-technology/\n",
      "Checking site: https://www.facebook.com/sharer/sharer.php?u=https://fampay.in/blog/how-i-blurred-age-barriers-with-technology/\n",
      "Finished checking site: https://www.facebook.com/sharer/sharer.php?u=https://fampay.in/blog/how-i-blurred-age-barriers-with-technology/, time: 0.3591628074645996\n",
      "Checking site: https://www.facebook.com/sharer/sharer.php?u=https://fampay.in/blog/how-i-blurred-age-barriers-with-technology/\n",
      "Finished checking site: https://www.facebook.com/sharer/sharer.php?u=https://fampay.in/blog/how-i-blurred-age-barriers-with-technology/, time: 0.9255352020263672\n",
      "Finished checking site: https://www.facebook.com/sharer/sharer.php?u=https://fampay.in/blog/how-i-blurred-age-barriers-with-technology/\n",
      "Checking site: https://twitter.com/intent/tweet?text=How%20I%20Blurred%20Age%20Barriers%20with%20Technology&url=https://fampay.in/blog/how-i-blurred-age-barriers-with-technology/\n",
      "Finished checking site: https://twitter.com/intent/tweet?text=How%20I%20Blurred%20Age%20Barriers%20with%20Technology&url=https://fampay.in/blog/how-i-blurred-age-barriers-with-technology/, time: 1.1878466606140137\n",
      "Checking site: https://twitter.com/intent/tweet?text=How%20I%20Blurred%20Age%20Barriers%20with%20Technology&url=https://fampay.in/blog/how-i-blurred-age-barriers-with-technology/\n",
      "Finished checking site: https://twitter.com/intent/tweet?text=How%20I%20Blurred%20Age%20Barriers%20with%20Technology&url=https://fampay.in/blog/how-i-blurred-age-barriers-with-technology/, time: 1.1626391410827637\n",
      "Finished checking site: https://twitter.com/intent/tweet?text=How%20I%20Blurred%20Age%20Barriers%20with%20Technology&url=https://fampay.in/blog/how-i-blurred-age-barriers-with-technology/\n",
      "Checking site: https://famapp.in/blog/how-to-clean-up-your-android-apps-dependencies-the-ultimate-guide-2/\n",
      "Finished checking site: https://famapp.in/blog/how-to-clean-up-your-android-apps-dependencies-the-ultimate-guide-2/, time: 0.3163292407989502\n",
      "Checking site: https://famapp.in/blog/how-to-clean-up-your-android-apps-dependencies-the-ultimate-guide-2/\n",
      "Finished checking site: https://famapp.in/blog/how-to-clean-up-your-android-apps-dependencies-the-ultimate-guide-2/, time: 0.4109055995941162\n",
      "Finished checking site: https://famapp.in/blog/how-to-clean-up-your-android-apps-dependencies-the-ultimate-guide-2/\n",
      "Checking site: https://famapp.in/blog/discover-fampays-engagement-service-missions-3/\n",
      "Finished checking site: https://famapp.in/blog/discover-fampays-engagement-service-missions-3/, time: 0.22953343391418457\n",
      "Checking site: https://famapp.in/blog/discover-fampays-engagement-service-missions-3/\n",
      "Finished checking site: https://famapp.in/blog/discover-fampays-engagement-service-missions-3/, time: 0.2161731719970703\n",
      "Finished checking site: https://famapp.in/blog/discover-fampays-engagement-service-missions-3/\n",
      "Checking site: https://famapp.in/blog/implementing-an-in-memory-queue/\n",
      "Finished checking site: https://famapp.in/blog/implementing-an-in-memory-queue/, time: 0.2577545642852783\n",
      "Checking site: https://famapp.in/blog/implementing-an-in-memory-queue/\n",
      "Finished checking site: https://famapp.in/blog/implementing-an-in-memory-queue/, time: 0.17089152336120605\n",
      "Finished checking site: https://famapp.in/blog/implementing-an-in-memory-queue/\n",
      "Checking site: https://famapp.in/blog/covid-19-vaccination-as-a-teen-a-guide/\n",
      "Finished checking site: https://famapp.in/blog/covid-19-vaccination-as-a-teen-a-guide/, time: 0.16469168663024902\n",
      "Checking site: https://famapp.in/blog/covid-19-vaccination-as-a-teen-a-guide/\n",
      "Finished checking site: https://famapp.in/blog/covid-19-vaccination-as-a-teen-a-guide/, time: 0.16704225540161133\n",
      "Finished checking site: https://famapp.in/blog/covid-19-vaccination-as-a-teen-a-guide/\n",
      "Checking site: https://famapp.in/blog/why-vaccination-a-guide-to-vaccination-for-teens-in-india/\n",
      "Finished checking site: https://famapp.in/blog/why-vaccination-a-guide-to-vaccination-for-teens-in-india/, time: 0.18251919746398926\n",
      "Checking site: https://famapp.in/blog/why-vaccination-a-guide-to-vaccination-for-teens-in-india/\n",
      "Finished checking site: https://famapp.in/blog/why-vaccination-a-guide-to-vaccination-for-teens-in-india/, time: 0.16088509559631348\n",
      "Finished checking site: https://famapp.in/blog/why-vaccination-a-guide-to-vaccination-for-teens-in-india/\n",
      "Checking site: https://famapp.in/blog/study-habits-that-are-simple-and-highly-effective/\n",
      "Finished checking site: https://famapp.in/blog/study-habits-that-are-simple-and-highly-effective/, time: 0.17084097862243652\n",
      "Checking site: https://famapp.in/blog/study-habits-that-are-simple-and-highly-effective/\n",
      "Finished checking site: https://famapp.in/blog/study-habits-that-are-simple-and-highly-effective/, time: 0.17261075973510742\n",
      "Finished checking site: https://famapp.in/blog/study-habits-that-are-simple-and-highly-effective/\n",
      "Checking site: https://famapp.in/blog/how-to-save-those-extra-bucks-while-shopping/\n",
      "Finished checking site: https://famapp.in/blog/how-to-save-those-extra-bucks-while-shopping/, time: 0.17931342124938965\n",
      "Checking site: https://famapp.in/blog/how-to-save-those-extra-bucks-while-shopping/\n",
      "Finished checking site: https://famapp.in/blog/how-to-save-those-extra-bucks-while-shopping/, time: 0.15178513526916504\n",
      "Finished checking site: https://famapp.in/blog/how-to-save-those-extra-bucks-while-shopping/\n",
      "Checking site: https://famapp.in/blog/teen-fashion-trends-that-we-love/\n",
      "Finished checking site: https://famapp.in/blog/teen-fashion-trends-that-we-love/, time: 0.1455533504486084\n",
      "Checking site: https://famapp.in/blog/teen-fashion-trends-that-we-love/\n",
      "Finished checking site: https://famapp.in/blog/teen-fashion-trends-that-we-love/, time: 0.16868329048156738\n",
      "Finished checking site: https://famapp.in/blog/teen-fashion-trends-that-we-love/\n",
      "Checking site: https://famapp.in/blog/how-to-build-your-resume-and-portfolio-right-from-school/\n",
      "Finished checking site: https://famapp.in/blog/how-to-build-your-resume-and-portfolio-right-from-school/, time: 0.1537456512451172\n",
      "Checking site: https://famapp.in/blog/how-to-build-your-resume-and-portfolio-right-from-school/\n",
      "Finished checking site: https://famapp.in/blog/how-to-build-your-resume-and-portfolio-right-from-school/, time: 0.17457127571105957\n",
      "Finished checking site: https://famapp.in/blog/how-to-build-your-resume-and-portfolio-right-from-school/\n",
      "Checking site: https://famapp.in/blog/productivity-hacks-for-teens-this-will-change-your-life/\n",
      "Finished checking site: https://famapp.in/blog/productivity-hacks-for-teens-this-will-change-your-life/, time: 0.17284131050109863\n",
      "Checking site: https://famapp.in/blog/productivity-hacks-for-teens-this-will-change-your-life/\n",
      "Finished checking site: https://famapp.in/blog/productivity-hacks-for-teens-this-will-change-your-life/, time: 0.17095589637756348\n",
      "Finished checking site: https://famapp.in/blog/productivity-hacks-for-teens-this-will-change-your-life/\n",
      "Checking site: https://famapp.in/blog/page/2/\n",
      "Finished checking site: https://famapp.in/blog/page/2/, time: 0.2508361339569092\n",
      "Checking site: https://famapp.in/blog/page/2/\n",
      "Finished checking site: https://famapp.in/blog/page/2/, time: 0.20719099044799805\n",
      "Finished checking site: https://famapp.in/blog/page/2/\n",
      "Checking site: https://famapp.in/blog/page/3/\n",
      "Finished checking site: https://famapp.in/blog/page/3/, time: 0.2036283016204834\n",
      "Checking site: https://famapp.in/blog/page/3/\n",
      "Finished checking site: https://famapp.in/blog/page/3/, time: 0.20312166213989258\n",
      "Finished checking site: https://famapp.in/blog/page/3/\n",
      "Checking site: https://famapp.in/blog/page/4/\n",
      "Finished checking site: https://famapp.in/blog/page/4/, time: 0.1957261562347412\n",
      "Checking site: https://famapp.in/blog/page/4/\n",
      "Finished checking site: https://famapp.in/blog/page/4/, time: 0.20296263694763184\n",
      "Finished checking site: https://famapp.in/blog/page/4/\n",
      "Checking site: https://famapp.in/blog/page/5/\n",
      "Finished checking site: https://famapp.in/blog/page/5/, time: 0.19280242919921875\n",
      "Checking site: https://famapp.in/blog/page/5/\n",
      "Finished checking site: https://famapp.in/blog/page/5/, time: 0.17748403549194336\n",
      "Finished checking site: https://famapp.in/blog/page/5/\n",
      "Checking site: https://famapp.in/careers\n",
      "Finished checking site: https://famapp.in/careers, time: 0.06993770599365234\n",
      "Checking site: https://famapp.in/careers\n",
      "Finished checking site: https://famapp.in/careers, time: 0.058574676513671875\n",
      "Finished checking site: https://famapp.in/careers\n",
      "Checking site: https://famapp.in/partner\n",
      "Finished checking site: https://famapp.in/partner, time: 0.06278491020202637\n",
      "Checking site: https://famapp.in/partner\n",
      "Finished checking site: https://famapp.in/partner, time: 0.0748746395111084\n",
      "Finished checking site: https://famapp.in/partner\n",
      "Checking site: https://famapp.in/faqs\n",
      "Finished checking site: https://famapp.in/faqs, time: 0.1389787197113037\n",
      "Checking site: https://famapp.in/faqs\n",
      "Finished checking site: https://famapp.in/faqs, time: 0.12284708023071289\n",
      "Finished checking site: https://famapp.in/faqs\n",
      "Checking site: https://famapp.in/blog/\n",
      "Finished checking site: https://famapp.in/blog/, time: 0.16985654830932617\n",
      "Checking site: https://famapp.in/blog/\n",
      "Finished checking site: https://famapp.in/blog/, time: 0.18854069709777832\n",
      "Finished checking site: https://famapp.in/blog/\n",
      "Checking site: https://famapp.in/press\n",
      "Finished checking site: https://famapp.in/press, time: 0.0604548454284668\n",
      "Checking site: https://famapp.in/press\n",
      "Finished checking site: https://famapp.in/press, time: 0.061449289321899414\n",
      "Finished checking site: https://famapp.in/press\n",
      "Checking site: https://famapp.in/privacy\n",
      "Finished checking site: https://famapp.in/privacy, time: 0.08371686935424805\n",
      "Checking site: https://famapp.in/privacy\n",
      "Finished checking site: https://famapp.in/privacy, time: 0.061389923095703125\n",
      "Finished checking site: https://famapp.in/privacy\n",
      "Checking site: https://famapp.in/terms\n",
      "Finished checking site: https://famapp.in/terms, time: 0.06733894348144531\n",
      "Checking site: https://famapp.in/terms\n",
      "Finished checking site: https://famapp.in/terms, time: 0.08977031707763672\n",
      "Finished checking site: https://famapp.in/terms\n",
      "Checking site: https://famapp.in/contact\n",
      "Finished checking site: https://famapp.in/contact, time: 0.06298995018005371\n",
      "Checking site: https://famapp.in/contact\n",
      "Finished checking site: https://famapp.in/contact, time: 0.06840157508850098\n",
      "Finished checking site: https://famapp.in/contact\n",
      "Checking site: https://www.instagram.com/fam.india/\n",
      "Finished checking site: https://www.instagram.com/fam.india/, time: 0.6950011253356934\n",
      "Checking site: https://www.instagram.com/fam.india/\n",
      "Finished checking site: https://www.instagram.com/fam.india/, time: 0.789330244064331\n",
      "Finished checking site: https://www.instagram.com/fam.india/\n",
      "Checking site: https://www.linkedin.com/company/famindia/\n",
      "Finished checking site: https://www.linkedin.com/company/famindia/, time: 0.4984171390533447\n",
      "Checking site: https://www.linkedin.com/company/famindia/\n",
      "Finished checking site: https://www.linkedin.com/company/famindia/, time: 0.9516167640686035\n",
      "Finished checking site: https://www.linkedin.com/company/famindia/\n"
     ]
    }
   ],
   "source": [
    "# Apply function to each url\n",
    "df_metrics = pd.DataFrame([get_all_metrics(url) for url in df['Link'].dropna()])\n",
    "df_metrics.to_csv('website_metrics.csv', index=False)"
   ]
  },
  {
   "cell_type": "code",
   "execution_count": 2,
   "metadata": {},
   "outputs": [],
   "source": [
    "df_metrics = pd.read_csv('website_metrics.csv')"
   ]
  },
  {
   "cell_type": "code",
   "execution_count": 3,
   "metadata": {},
   "outputs": [
    {
     "data": {
      "application/vnd.plotly.v1+json": {
       "config": {
        "plotlyServerURL": "https://plot.ly"
       },
       "data": [
        {
         "name": "Desktop",
         "type": "box",
         "y": [
          0.223330020904541,
          0.2695047855377197,
          0.2522594928741455,
          0.2553226947784424,
          0.5922276973724365,
          0.5321812629699707,
          0.3171122074127197,
          0.3022489547729492,
          0.3086202144622803,
          0.3137350082397461,
          0.2953472137451172,
          0.2571251392364502,
          0.3296213150024414,
          0.3411407470703125,
          0.2931249141693115,
          0.3106391429901123,
          0.3178663253784179,
          0.2875754833221435,
          0.3042478561401367,
          0.2914237976074219,
          0.2841806411743164,
          0.3000130653381347,
          0.2954075336456299,
          0.2930305004119873,
          0.2428696155548095,
          0.3060066699981689,
          0.2840433120727539,
          0.5103108882904053,
          0.2672500610351562,
          0.2878110408782959,
          0.3233089447021484,
          0.2816085815429687,
          0.261812686920166,
          0.3108644485473633,
          0.3490726947784424,
          0.2629745006561279,
          0.2725319862365722,
          0.2700812816619873,
          0.272343635559082,
          0.3166787624359131,
          0.2751193046569824,
          0.2714648246765136,
          0.2628743648529053,
          0.2727842330932617,
          0.4198958873748779,
          0.2368907928466797,
          0.317054271697998,
          0.3356027603149414,
          0.2534706592559814,
          0.2756738662719726,
          0.2516086101531982,
          0.2981579303741455,
          0.3364980220794678,
          0.3008503913879394,
          0.2985560894012451,
          0.2972733974456787,
          0.295137882232666,
          0.3726310729980469,
          0.2553229331970215,
          0.2677791118621826,
          0.2339704036712646,
          0.3382019996643066,
          0.2551207542419433,
          0.2876081466674804,
          0.3037865161895752,
          0.3052501678466797,
          0.2557847499847412,
          0.2723686695098877,
          0.2898702621459961,
          0.2905516624450683,
          0.2313928604125976,
          0.3575344085693359,
          0.3244812488555908,
          0.2803225517272949,
          0.2586758136749267,
          0.2931118011474609,
          0.2708921432495117,
          0.3019278049468994,
          0.2533493041992187,
          0.4170811176300049,
          0.267892837524414,
          0.3174352645874023,
          0.3013803958892822,
          0.2724702358245849,
          0.2562284469604492,
          0.2466640472412109,
          0.2745857238769531,
          0.2800571918487549,
          0.2599403858184814,
          0.2862260341644287,
          0.2741949558258056,
          0.2500200271606445,
          0.3460609912872314,
          0.2886784076690674,
          0.2599830627441406,
          0.2993156909942627,
          0.2784144878387451,
          0.2414596080780029,
          0.2980737686157226,
          0.9969286918640136,
          0.431044340133667,
          1.063523292541504,
          0.6645181179046631,
          0.3572030067443847,
          0.2913515567779541,
          0.3703315258026123,
          0.6838207244873047,
          0.3386781215667724,
          1.009598970413208,
          0.3709585666656494,
          1.0948359966278076,
          0.3336937427520752,
          1.0575387477874756,
          0.3111021518707275,
          0.6405758857727051,
          0.5826544761657715,
          1.1973111629486084,
          0.2932586669921875,
          0.8711683750152588,
          0.3423590660095215,
          1.228999137878418,
          0.3517684936523437,
          0.6592953205108643,
          0.3195819854736328,
          1.0668320655822754,
          0.3314578533172607,
          0.6305379867553711,
          0.4715259075164795,
          1.1551837921142578,
          0.3368945121765136,
          1.3879666328430176,
          0.5887017250061035,
          1.0264415740966797,
          0.3340976238250732,
          0.709191083908081,
          0.6902816295623779,
          1.0497426986694336,
          0.3296680450439453,
          0.9989278316497804,
          0.4180531501770019,
          1.1467885971069336,
          0.4328203201293945,
          0.3291537761688232,
          0.7159960269927979,
          0.7313330173492432,
          0.2627210617065429,
          0.7513730525970459,
          0.9242753982543944,
          0.1938569545745849,
          0.3302383422851562,
          0.3247222900390625,
          0.2236552238464355,
          0.1880383491516113,
          0.3673877716064453,
          0.1926836967468261,
          0.0605313777923584,
          0.2061679363250732,
          0.1490182876586914,
          0.1610980033874511,
          0.7489089965820312,
          0.60843825340271,
          1.2694942951202393,
          0.1987159252166748,
          0.8028514385223389,
          0.5898013114929199,
          1.191119909286499,
          0.2800278663635254,
          0.7124333381652832,
          0.4681396484375,
          1.0307180881500244,
          0.2137603759765625,
          0.9878463745117188,
          0.5812644958496094,
          1.1828653812408447,
          0.2059607505798339,
          0.9742066860198976,
          0.594174861907959,
          1.0607337951660156,
          0.2124528884887695,
          0.3822584152221679,
          1.26253080368042,
          0.3110089302062988,
          1.0547871589660645,
          0.2107710838317871,
          0.9988899230957032,
          0.3744635581970215,
          1.202465534210205,
          0.2622561454772949,
          0.6847131252288818,
          0.351015567779541,
          1.2083704471588137,
          0.2786951065063476,
          0.9435272216796876,
          0.6049103736877441,
          1.1796834468841553,
          0.2363133430480957,
          0.8964149951934814,
          1.0546107292175293,
          1.0555040836334229,
          0.4527981281280517,
          0.1510934829711914,
          0.702460765838623,
          0.8444569110870361,
          1.0393285751342771,
          0.1797389984130859,
          0.7094194889068604,
          0.7973184585571289,
          1.0085813999176023,
          0.1988790035247802,
          1.4298923015594482,
          0.351468563079834,
          1.036384105682373,
          0.2319154739379882,
          1.4336779117584229,
          0.6345434188842773,
          1.34303617477417,
          0.1850199699401855,
          1.074561357498169,
          0.3671853542327881,
          1.0192527770996094,
          0.5273993015289307,
          0.2315187454223632,
          0.9888420104980468,
          0.3769147396087646,
          1.1857953071594238,
          0.2479827404022216,
          0.1787567138671875,
          0.9994144439697266,
          0.5323469638824463,
          1.1027729511260986,
          0.2333447933197021,
          0.8468418121337891,
          0.460864782333374,
          1.0689032077789309,
          0.1771368980407714,
          0.7328381538391113,
          0.6762335300445557,
          1.011470079421997,
          0.3081822395324707,
          0.9237947463989258,
          0.5470449924468994,
          1.067957639694214,
          0.3124115467071533,
          0.9252629280090332,
          0.5958089828491211,
          1.197385311126709,
          0.4795494079589844,
          0.5345699787139893,
          0.2301211357116699,
          0.9584028720855712,
          0.7389538288116455,
          1.206959247589111,
          0.3173625469207763,
          0.3823704719543457,
          0.15330171585083,
          0.9346194267272948,
          0.3299727439880371,
          1.1778364181518557,
          0.2530105113983154,
          0.8746154308319092,
          0.6013474464416504,
          1.05055832862854,
          0.9320173263549804,
          0.4553239345550537,
          0.8994688987731934,
          0.6512131690979004,
          1.1091456413269043,
          0.4069256782531738,
          0.2340095043182373,
          0.2725188732147217,
          0.1936225891113281,
          0.2057044506072998,
          0.144313097000122,
          0.2211909294128418,
          0.1641232967376709,
          0.7377185821533203,
          0.351362943649292,
          1.0410535335540771,
          0.2634932994842529,
          1.0095725059509275,
          0.3506405353546142,
          1.2045283317565918,
          0.2509016990661621,
          1.1700892448425293,
          0.5864920616149902,
          1.073836326599121,
          0.2793939113616943,
          0.1853241920471191,
          1.1588144302368164,
          0.3604626655578613,
          1.0299186706542969,
          0.199441909790039,
          0.6552062034606934,
          0.8255560398101807,
          1.1640241146087646,
          0.2303137779235839,
          1.1686725616455078,
          0.33022141456604,
          1.0783627033233645,
          0.2255585193634033,
          1.436473369598389,
          0.3789100646972656,
          1.1666128635406494,
          0.2501962184906006,
          0.968247413635254,
          0.8209211826324463,
          1.0791521072387695,
          0.2225451469421386,
          0.9662089347839355,
          0.5056502819061279,
          1.174377679824829,
          0.9927928447723388,
          0.157815933227539,
          1.2603600025177002,
          0.3749327659606933,
          1.1531248092651367,
          0.280191421508789,
          1.245330810546875,
          0.4785385131835937,
          1.0549232959747314,
          0.4099836349487304,
          0.1364643573760986,
          1.4280445575714111,
          0.3595979213714599,
          1.1899676322937012,
          0.2111792564392089,
          1.7081644535064695,
          0.5834329128265381,
          1.07771635055542,
          0.2390506267547607,
          0.2266910076141357,
          0.2504141330718994,
          0.2191972732543945,
          0.1581072807312011,
          0.2076315879821777,
          0.9398491382598876,
          0.3498344421386719,
          1.2199382781982422,
          0.180527925491333,
          1.0889205932617188,
          0.3803448677062988,
          1.164034128189087,
          0.1912524700164795,
          0.1380233764648437,
          0.2209265232086181,
          0.6833629608154297,
          0.6305902004241943,
          1.0668995380401611,
          0.1971094608306884,
          0.9480655193328856,
          0.3490393161773681,
          1.282077074050903,
          0.2078669071197509,
          0.7793717384338379,
          0.5793383121490479,
          1.0019495487213137,
          0.2983520030975342,
          1.0622379779815674,
          0.549267053604126,
          1.1127846240997314,
          0.562129020690918,
          0.4790112972259521,
          0.7540271282196045,
          0.4916558265686035,
          0.4215266704559326,
          0.4650213718414306,
          0.6849117279052734,
          0.4281735420227051,
          0.4027950763702392,
          0.457834243774414,
          0.5719931125640869,
          0.2132210731506347,
          0.889542818069458,
          0.5729594230651855,
          1.137451171875,
          0.2549645900726318,
          0.181840181350708,
          0.9269301891326904,
          0.3312840461730957,
          1.0666310787200928,
          0.2248599529266357,
          0.9724950790405272,
          0.6077849864959717,
          1.0829780101776123,
          0.2787652015686035,
          0.8982150554656982,
          1.113844394683838,
          1.1671807765960691,
          0.2715170383453369,
          0.7704160213470459,
          0.5641429424285889,
          1.0902280807495115,
          0.2561085224151611,
          0.9291071891784668,
          0.586780309677124,
          1.200953483581543,
          0.2301826477050781,
          0.7247204780578613,
          0.4102888107299804,
          1.1826982498168943,
          0.2483737468719482,
          0.9157979488372804,
          0.5098426342010498,
          1.0297012329101562,
          0.4099736213684082,
          0.7257981300354004,
          0.5151779651641846,
          1.2085473537445068,
          0.3812227249145508,
          1.001108169555664,
          0.4113485813140869,
          0.998037338256836,
          0.247962474822998,
          1.4498391151428225,
          0.8144400119781494,
          1.188720941543579,
          0.1711101531982422,
          0.2721972465515136,
          0.8794593811035156,
          0.4901199340820312,
          1.0642387866973877,
          0.2617373466491699,
          0.2009742259979248,
          0.7027432918548584,
          0.3793416023254394,
          1.1886444091796875,
          0.2233331203460693,
          0.7036459445953369,
          0.5548410415649414,
          1.1714534759521484,
          0.2519676685333252,
          0.1876153945922851,
          1.1963787078857422,
          0.3187179565429687,
          1.0255897045135498,
          0.2426612377166748,
          1.2184152603149414,
          0.5420651435852051,
          1.1998543739318848,
          0.1442837715148925,
          0.9566237926483154,
          0.5689239501953125,
          1.1843030452728271,
          0.4072663784027099,
          0.1949501037597656,
          1.7697484493255615,
          0.5599758625030518,
          1.0571050643920898,
          0.2301032543182373,
          1.4771840572357178,
          0.5327596664428711,
          1.2130582332611084,
          0.2209908962249755,
          0.7311787605285645,
          0.3677897453308105,
          1.2982933521270752,
          0.3742711544036865,
          0.9866325855255128,
          0.5907752513885498,
          1.0105619430541992,
          0.4307787418365478,
          0.222811222076416,
          0.1398959159851074,
          0.2027227878570556,
          0.9117984771728516,
          0.3396718502044678,
          1.163835525512695,
          0.2035963535308838,
          1.0325798988342283,
          0.5540504455566406,
          1.0501148700714111,
          0.2255833148956298,
          0.948206901550293,
          0.3326737880706787,
          1.0859923362731934,
          0.2912271022796631,
          0.7350878715515137,
          0.5654654502868652,
          1.236457586288452,
          0.3193700313568115,
          0.1495704650878906,
          1.1053533554077148,
          0.5920696258544922,
          1.0998997688293457,
          1.4728870391845703,
          1.3889095783233645,
          1.311852216720581,
          1.3964571952819824,
          1.4114456176757812,
          1.3596103191375732,
          1.3682620525360107,
          1.410965919494629,
          1.4188194274902344,
          1.3057620525360107,
          1.40521502494812,
          0.2852685451507568,
          0.7286579608917236,
          0.3591628074645996,
          1.1878466606140137,
          0.3163292407989502,
          0.2295334339141845,
          0.2577545642852783,
          0.164691686630249,
          0.1825191974639892,
          0.1708409786224365,
          0.1793134212493896,
          0.1455533504486084,
          0.1537456512451172,
          0.1728413105010986,
          0.2508361339569092,
          0.2036283016204834,
          0.1957261562347412,
          0.1928024291992187,
          0.0699377059936523,
          0.0627849102020263,
          0.1389787197113037,
          0.1698565483093261,
          0.0604548454284668,
          0.083716869354248,
          0.0673389434814453,
          0.0629899501800537,
          0.6950011253356934,
          0.4984171390533447
         ]
        },
        {
         "name": "Mobile",
         "type": "box",
         "y": [
          0.1272706985473632,
          0.2392745018005371,
          0.2470881938934326,
          0.2816956043243408,
          0.4401617050170898,
          0.3392946720123291,
          0.3142263889312744,
          0.2773365974426269,
          0.2997865676879883,
          0.3371427059173584,
          0.3305907249450683,
          0.2854840755462646,
          0.3197958469390869,
          0.2808239459991455,
          0.2722938060760498,
          0.3542654514312744,
          0.2915985584259033,
          0.2764303684234619,
          0.3894300460815429,
          0.2712650299072265,
          0.2502217292785644,
          0.326406717300415,
          0.2950863838195801,
          0.2664370536804199,
          0.2701945304870605,
          0.2840397357940674,
          0.2740097045898437,
          0.2787177562713623,
          0.2988433837890625,
          0.3171651363372803,
          0.3298060894012451,
          0.2793943881988525,
          0.3425114154815674,
          0.3265302181243896,
          0.2821254730224609,
          0.2815399169921875,
          0.3294591903686523,
          0.3047473430633545,
          0.2456822395324707,
          0.2759373188018799,
          0.2913517951965332,
          0.284832239151001,
          0.2353386878967285,
          0.2714138031005859,
          0.2738871574401855,
          0.2593526840209961,
          0.2734277248382568,
          0.2861242294311523,
          0.2732119560241699,
          0.2594783306121826,
          0.25295090675354,
          0.3046791553497314,
          0.2848482131958008,
          0.257455825805664,
          0.3032712936401367,
          0.2767708301544189,
          0.2863950729370117,
          0.3279955387115478,
          0.2438631057739257,
          0.2735536098480224,
          0.2326970100402832,
          0.2756061553955078,
          0.2633676528930664,
          0.2924573421478271,
          0.2530207633972168,
          0.2716217041015625,
          0.2661776542663574,
          0.2856457233428955,
          0.2644784450531006,
          0.265484094619751,
          0.2566416263580322,
          0.2457523345947265,
          0.3091411590576172,
          0.2464549541473388,
          0.2636125087738037,
          0.3103396892547607,
          0.2697706222534179,
          0.2687356472015381,
          0.2724342346191406,
          0.3276162147521972,
          0.3382956981658935,
          0.2766788005828857,
          0.290736436843872,
          0.2706680297851562,
          0.2900903224945068,
          0.2611467838287353,
          0.2761473655700683,
          0.2600975036621094,
          0.3141429424285888,
          0.2418322563171386,
          0.2995362281799316,
          0.3124158382415771,
          0.3195202350616455,
          0.2496552467346191,
          0.2482261657714843,
          0.3274736404418945,
          0.267423152923584,
          0.2821476459503174,
          0.3154513835906982,
          0.9721739292144777,
          1.033060073852539,
          1.1974120140075684,
          0.7088384628295898,
          0.3594889640808105,
          0.2907338142395019,
          0.2782080173492431,
          0.6591970920562744,
          1.0861830711364746,
          1.2150559425354004,
          0.289231538772583,
          0.7167017459869385,
          1.032703161239624,
          1.1889426708221436,
          0.4242205619812011,
          0.6675000190734863,
          0.993295431137085,
          1.2217819690704346,
          0.3479876518249511,
          0.937633752822876,
          1.035468339920044,
          1.1771836280822754,
          0.2861747741699219,
          0.7055070400238037,
          0.9753057956695556,
          1.0363059043884275,
          0.3221156597137451,
          0.7063097953796387,
          0.9508936405181884,
          1.2117478847503662,
          0.3516709804534912,
          0.967740535736084,
          1.0749835968017578,
          1.0780317783355713,
          0.2948391437530517,
          0.8754475116729736,
          1.154449224472046,
          1.0369455814361572,
          0.3360130786895752,
          0.7435979843139648,
          0.9542198181152344,
          1.234886646270752,
          0.5116467475891113,
          0.3383510112762451,
          1.1475372314453125,
          0.5859053134918213,
          0.2129831314086914,
          1.2050321102142334,
          0.9484803676605223,
          0.2592008113861084,
          0.2710487842559814,
          0.3824973106384277,
          0.2651634216308594,
          0.2702515125274658,
          0.2677011489868164,
          0.2027797698974609,
          0.0560245513916015,
          0.3689711093902588,
          0.1399440765380859,
          0.1400609016418457,
          0.8726346492767334,
          0.997868537902832,
          1.0768373012542725,
          0.1942510604858398,
          0.9824001789093018,
          0.9992899894714355,
          1.061683177947998,
          0.1936767101287841,
          0.702427864074707,
          1.2014784812927246,
          1.06722092628479,
          0.1409454345703125,
          0.9174156188964844,
          0.9265286922454834,
          1.2597169876098633,
          0.1752905845642089,
          0.6461422443389893,
          0.955801010131836,
          1.081753492355347,
          0.2081034183502197,
          0.1453707218170166,
          1.1382839679718018,
          0.9775254726409912,
          1.2350621223449707,
          0.240447998046875,
          0.748084306716919,
          0.9187242984771729,
          1.29362154006958,
          0.2131268978118896,
          1.0113563537597656,
          0.9405460357666016,
          1.173335313796997,
          0.1512322425842285,
          0.9517092704772948,
          1.5092880725860596,
          1.206756591796875,
          0.1816778182983398,
          0.750934362411499,
          1.266711950302124,
          1.215001106262207,
          0.2306315898895263,
          0.1813771724700927,
          1.073261022567749,
          0.9068934917449952,
          1.0409438610076904,
          0.2029805183410644,
          0.7039604187011719,
          1.4313485622406006,
          1.0540030002593994,
          0.193223237991333,
          0.8701612949371338,
          0.976898431777954,
          1.1730892658233645,
          0.2300200462341308,
          0.7144982814788818,
          0.9138219356536864,
          1.14570951461792,
          0.2064697742462158,
          0.9858522415161132,
          0.9424123764038086,
          1.007110595703125,
          0.5099852085113525,
          0.3007473945617676,
          0.9080369472503662,
          0.9427554607391356,
          1.0584716796875,
          0.1912069320678711,
          0.225041389465332,
          0.8964474201202393,
          1.079773187637329,
          1.2669517993927002,
          0.2755689620971679,
          1.0479638576507568,
          0.9183290004730223,
          1.0332694053649902,
          0.1764037609100341,
          0.9254050254821776,
          0.9729602336883544,
          1.0280938148498535,
          0.2258880138397216,
          0.8872411251068115,
          1.177652359008789,
          1.2343504428863523,
          0.2430112361907959,
          0.8713512420654297,
          1.1772832870483398,
          1.203028440475464,
          0.4272723197937011,
          0.3882255554199219,
          0.1508219242095947,
          0.6852097511291504,
          0.9870009422302246,
          1.1784796714782717,
          0.3261492252349853,
          0.3709943294525146,
          0.2095367908477783,
          0.6909298896789551,
          0.909081220626831,
          1.0487868785858154,
          0.2607393264770508,
          0.677642822265625,
          1.0738317966461182,
          1.246347427368164,
          1.7583880424499512,
          0.2596721649169922,
          1.4267969131469729,
          0.9617953300476074,
          1.1699700355529783,
          0.2766299247741699,
          0.2362909317016601,
          0.2030286788940429,
          0.1631443500518798,
          0.281771183013916,
          0.1525688171386718,
          0.1930036544799804,
          0.154125690460205,
          0.7460706233978271,
          0.942176342010498,
          1.043260097503662,
          0.2188658714294433,
          0.9909799098968506,
          0.9869849681854248,
          1.1152513027191162,
          0.3995113372802734,
          1.1741251945495603,
          0.9212334156036376,
          1.2300424575805664,
          0.2270762920379638,
          0.360194444656372,
          1.5580999851226809,
          1.0179905891418457,
          1.1602506637573242,
          0.1952869892120361,
          0.9339265823364258,
          0.9765596389770508,
          1.074603796005249,
          0.2342021465301513,
          1.0791771411895752,
          0.9378015995025636,
          1.0683331489562988,
          0.2245407104492187,
          1.6276273727416992,
          1.4171180725097656,
          1.2158844470977783,
          0.159553050994873,
          1.436173677444458,
          0.9684796333312988,
          1.0826668739318848,
          0.2477314472198486,
          0.9981536865234376,
          0.9989900588989258,
          1.0695042610168457,
          0.7210297584533691,
          0.1422538757324218,
          0.9979496002197266,
          0.9714303016662598,
          1.1647586822509766,
          0.3604192733764648,
          0.6970019340515137,
          0.959080457687378,
          1.1492743492126465,
          0.410045862197876,
          0.2593107223510742,
          0.6861076354980469,
          0.9636476039886476,
          1.1702229976654053,
          0.2597293853759765,
          1.0893094539642334,
          0.9308385848999025,
          1.09662127494812,
          0.210493803024292,
          0.1714997291564941,
          0.1503393650054931,
          0.1594350337982177,
          0.1639645099639892,
          0.1307954788208007,
          0.6939325332641602,
          0.9495079517364502,
          1.0223417282104492,
          0.2020480632781982,
          1.0712084770202637,
          0.9001858234405518,
          1.1408119201660156,
          0.1512863636016845,
          0.1311275959014892,
          0.1445522308349609,
          1.0499844551086426,
          0.9989891052246094,
          1.0520951747894287,
          0.2444179058074951,
          1.2151179313659668,
          0.8987917900085449,
          1.0268778800964355,
          0.258500337600708,
          0.9152786731719972,
          0.962139129638672,
          1.1901392936706543,
          0.2264766693115234,
          0.7447390556335449,
          0.9530048370361328,
          1.031883955001831,
          0.6627678871154785,
          0.400022029876709,
          0.7419312000274658,
          0.5009996891021729,
          0.3884289264678955,
          0.4530365467071533,
          0.647507905960083,
          0.432985782623291,
          0.3821258544921875,
          0.4731733798980713,
          0.4308125972747803,
          0.1960179805755615,
          0.9233036041259766,
          1.2013328075408936,
          1.2496914863586426,
          0.2680554389953613,
          0.1530888080596923,
          0.9687247276306152,
          1.217193603515625,
          1.1910011768341064,
          0.2551279067993164,
          0.9975805282592772,
          1.0263466835021973,
          1.2085304260253906,
          0.2326428890228271,
          0.8918306827545166,
          1.090801239013672,
          1.0240757465362549,
          0.24111008644104,
          1.0291359424591064,
          0.9001855850219727,
          1.216789484024048,
          0.4335756301879883,
          1.557124137878418,
          0.9550580978393556,
          1.0931293964385986,
          0.2745068073272705,
          0.9083070755004884,
          1.4107766151428225,
          1.2280592918395996,
          0.3798553943634033,
          0.6985986232757568,
          1.206526756286621,
          1.0561871528625488,
          0.1977806091308593,
          1.0244100093841553,
          1.0214853286743164,
          1.0202453136444092,
          0.4005079269409179,
          0.9744641780853271,
          0.99287748336792,
          1.0976126194000244,
          0.2109177112579345,
          0.9296276569366456,
          0.9800982475280762,
          1.0690395832061768,
          0.1784303188323974,
          0.1868472099304199,
          1.419745922088623,
          0.9211246967315674,
          1.0124127864837646,
          0.2200031280517578,
          0.1440787315368652,
          1.1829473972320557,
          0.878157377243042,
          1.1951172351837158,
          0.2177567481994629,
          0.9624817371368408,
          1.1019785404205322,
          1.053964614868164,
          0.2101519107818603,
          0.1972198486328125,
          0.7758331298828125,
          0.9040355682373048,
          1.179764986038208,
          0.2467668056488037,
          1.0009617805480957,
          0.9392740726470948,
          1.1857821941375732,
          0.1666791439056396,
          1.408745527267456,
          0.936424732208252,
          1.0876119136810305,
          0.3600292205810547,
          0.2359731197357177,
          0.8490309715270996,
          1.1383347511291504,
          1.1330077648162842,
          0.2154443264007568,
          1.0338847637176514,
          0.8858742713928223,
          1.0800647735595703,
          0.1837987899780273,
          0.6957197189331055,
          0.937732458114624,
          1.1827001571655271,
          0.3760509490966797,
          0.9699752330780028,
          1.0028433799743652,
          1.1884922981262207,
          0.3763787746429443,
          0.1823573112487793,
          0.2106869220733642,
          0.1442716121673584,
          0.9791193008422852,
          0.9916939735412598,
          1.0540978908538818,
          0.2601938247680664,
          0.6836378574371338,
          0.8960845470428467,
          1.2529237270355225,
          0.159581184387207,
          0.7080235481262207,
          1.0116641521453855,
          1.191852331161499,
          0.312345027923584,
          0.7186393737792969,
          0.9176969528198242,
          1.190662860870361,
          0.268620491027832,
          0.2798929214477539,
          0.8664274215698242,
          0.9701623916625975,
          1.193511962890625,
          1.454729080200195,
          1.3902742862701416,
          1.3488001823425293,
          1.3660085201263428,
          1.4300894737243652,
          1.3832614421844482,
          1.3392410278320312,
          1.4165494441986084,
          1.3883516788482666,
          1.408416509628296,
          1.3924992084503174,
          0.2189736366271972,
          0.9042952060699464,
          0.9255352020263672,
          1.1626391410827637,
          0.4109055995941162,
          0.2161731719970703,
          0.170891523361206,
          0.1670422554016113,
          0.1608850955963134,
          0.1726107597351074,
          0.151785135269165,
          0.1686832904815673,
          0.1745712757110595,
          0.1709558963775634,
          0.207190990447998,
          0.2031216621398925,
          0.2029626369476318,
          0.1774840354919433,
          0.0585746765136718,
          0.0748746395111084,
          0.1228470802307128,
          0.1885406970977783,
          0.0614492893218994,
          0.0613899230957031,
          0.0897703170776367,
          0.0684015750885009,
          0.789330244064331,
          0.9516167640686036
         ]
        }
       ],
       "layout": {
        "template": {
         "data": {
          "bar": [
           {
            "error_x": {
             "color": "#2a3f5f"
            },
            "error_y": {
             "color": "#2a3f5f"
            },
            "marker": {
             "line": {
              "color": "#E5ECF6",
              "width": 0.5
             },
             "pattern": {
              "fillmode": "overlay",
              "size": 10,
              "solidity": 0.2
             }
            },
            "type": "bar"
           }
          ],
          "barpolar": [
           {
            "marker": {
             "line": {
              "color": "#E5ECF6",
              "width": 0.5
             },
             "pattern": {
              "fillmode": "overlay",
              "size": 10,
              "solidity": 0.2
             }
            },
            "type": "barpolar"
           }
          ],
          "carpet": [
           {
            "aaxis": {
             "endlinecolor": "#2a3f5f",
             "gridcolor": "white",
             "linecolor": "white",
             "minorgridcolor": "white",
             "startlinecolor": "#2a3f5f"
            },
            "baxis": {
             "endlinecolor": "#2a3f5f",
             "gridcolor": "white",
             "linecolor": "white",
             "minorgridcolor": "white",
             "startlinecolor": "#2a3f5f"
            },
            "type": "carpet"
           }
          ],
          "choropleth": [
           {
            "colorbar": {
             "outlinewidth": 0,
             "ticks": ""
            },
            "type": "choropleth"
           }
          ],
          "contour": [
           {
            "colorbar": {
             "outlinewidth": 0,
             "ticks": ""
            },
            "colorscale": [
             [
              0,
              "#0d0887"
             ],
             [
              0.1111111111111111,
              "#46039f"
             ],
             [
              0.2222222222222222,
              "#7201a8"
             ],
             [
              0.3333333333333333,
              "#9c179e"
             ],
             [
              0.4444444444444444,
              "#bd3786"
             ],
             [
              0.5555555555555556,
              "#d8576b"
             ],
             [
              0.6666666666666666,
              "#ed7953"
             ],
             [
              0.7777777777777778,
              "#fb9f3a"
             ],
             [
              0.8888888888888888,
              "#fdca26"
             ],
             [
              1,
              "#f0f921"
             ]
            ],
            "type": "contour"
           }
          ],
          "contourcarpet": [
           {
            "colorbar": {
             "outlinewidth": 0,
             "ticks": ""
            },
            "type": "contourcarpet"
           }
          ],
          "heatmap": [
           {
            "colorbar": {
             "outlinewidth": 0,
             "ticks": ""
            },
            "colorscale": [
             [
              0,
              "#0d0887"
             ],
             [
              0.1111111111111111,
              "#46039f"
             ],
             [
              0.2222222222222222,
              "#7201a8"
             ],
             [
              0.3333333333333333,
              "#9c179e"
             ],
             [
              0.4444444444444444,
              "#bd3786"
             ],
             [
              0.5555555555555556,
              "#d8576b"
             ],
             [
              0.6666666666666666,
              "#ed7953"
             ],
             [
              0.7777777777777778,
              "#fb9f3a"
             ],
             [
              0.8888888888888888,
              "#fdca26"
             ],
             [
              1,
              "#f0f921"
             ]
            ],
            "type": "heatmap"
           }
          ],
          "heatmapgl": [
           {
            "colorbar": {
             "outlinewidth": 0,
             "ticks": ""
            },
            "colorscale": [
             [
              0,
              "#0d0887"
             ],
             [
              0.1111111111111111,
              "#46039f"
             ],
             [
              0.2222222222222222,
              "#7201a8"
             ],
             [
              0.3333333333333333,
              "#9c179e"
             ],
             [
              0.4444444444444444,
              "#bd3786"
             ],
             [
              0.5555555555555556,
              "#d8576b"
             ],
             [
              0.6666666666666666,
              "#ed7953"
             ],
             [
              0.7777777777777778,
              "#fb9f3a"
             ],
             [
              0.8888888888888888,
              "#fdca26"
             ],
             [
              1,
              "#f0f921"
             ]
            ],
            "type": "heatmapgl"
           }
          ],
          "histogram": [
           {
            "marker": {
             "pattern": {
              "fillmode": "overlay",
              "size": 10,
              "solidity": 0.2
             }
            },
            "type": "histogram"
           }
          ],
          "histogram2d": [
           {
            "colorbar": {
             "outlinewidth": 0,
             "ticks": ""
            },
            "colorscale": [
             [
              0,
              "#0d0887"
             ],
             [
              0.1111111111111111,
              "#46039f"
             ],
             [
              0.2222222222222222,
              "#7201a8"
             ],
             [
              0.3333333333333333,
              "#9c179e"
             ],
             [
              0.4444444444444444,
              "#bd3786"
             ],
             [
              0.5555555555555556,
              "#d8576b"
             ],
             [
              0.6666666666666666,
              "#ed7953"
             ],
             [
              0.7777777777777778,
              "#fb9f3a"
             ],
             [
              0.8888888888888888,
              "#fdca26"
             ],
             [
              1,
              "#f0f921"
             ]
            ],
            "type": "histogram2d"
           }
          ],
          "histogram2dcontour": [
           {
            "colorbar": {
             "outlinewidth": 0,
             "ticks": ""
            },
            "colorscale": [
             [
              0,
              "#0d0887"
             ],
             [
              0.1111111111111111,
              "#46039f"
             ],
             [
              0.2222222222222222,
              "#7201a8"
             ],
             [
              0.3333333333333333,
              "#9c179e"
             ],
             [
              0.4444444444444444,
              "#bd3786"
             ],
             [
              0.5555555555555556,
              "#d8576b"
             ],
             [
              0.6666666666666666,
              "#ed7953"
             ],
             [
              0.7777777777777778,
              "#fb9f3a"
             ],
             [
              0.8888888888888888,
              "#fdca26"
             ],
             [
              1,
              "#f0f921"
             ]
            ],
            "type": "histogram2dcontour"
           }
          ],
          "mesh3d": [
           {
            "colorbar": {
             "outlinewidth": 0,
             "ticks": ""
            },
            "type": "mesh3d"
           }
          ],
          "parcoords": [
           {
            "line": {
             "colorbar": {
              "outlinewidth": 0,
              "ticks": ""
             }
            },
            "type": "parcoords"
           }
          ],
          "pie": [
           {
            "automargin": true,
            "type": "pie"
           }
          ],
          "scatter": [
           {
            "fillpattern": {
             "fillmode": "overlay",
             "size": 10,
             "solidity": 0.2
            },
            "type": "scatter"
           }
          ],
          "scatter3d": [
           {
            "line": {
             "colorbar": {
              "outlinewidth": 0,
              "ticks": ""
             }
            },
            "marker": {
             "colorbar": {
              "outlinewidth": 0,
              "ticks": ""
             }
            },
            "type": "scatter3d"
           }
          ],
          "scattercarpet": [
           {
            "marker": {
             "colorbar": {
              "outlinewidth": 0,
              "ticks": ""
             }
            },
            "type": "scattercarpet"
           }
          ],
          "scattergeo": [
           {
            "marker": {
             "colorbar": {
              "outlinewidth": 0,
              "ticks": ""
             }
            },
            "type": "scattergeo"
           }
          ],
          "scattergl": [
           {
            "marker": {
             "colorbar": {
              "outlinewidth": 0,
              "ticks": ""
             }
            },
            "type": "scattergl"
           }
          ],
          "scattermapbox": [
           {
            "marker": {
             "colorbar": {
              "outlinewidth": 0,
              "ticks": ""
             }
            },
            "type": "scattermapbox"
           }
          ],
          "scatterpolar": [
           {
            "marker": {
             "colorbar": {
              "outlinewidth": 0,
              "ticks": ""
             }
            },
            "type": "scatterpolar"
           }
          ],
          "scatterpolargl": [
           {
            "marker": {
             "colorbar": {
              "outlinewidth": 0,
              "ticks": ""
             }
            },
            "type": "scatterpolargl"
           }
          ],
          "scatterternary": [
           {
            "marker": {
             "colorbar": {
              "outlinewidth": 0,
              "ticks": ""
             }
            },
            "type": "scatterternary"
           }
          ],
          "surface": [
           {
            "colorbar": {
             "outlinewidth": 0,
             "ticks": ""
            },
            "colorscale": [
             [
              0,
              "#0d0887"
             ],
             [
              0.1111111111111111,
              "#46039f"
             ],
             [
              0.2222222222222222,
              "#7201a8"
             ],
             [
              0.3333333333333333,
              "#9c179e"
             ],
             [
              0.4444444444444444,
              "#bd3786"
             ],
             [
              0.5555555555555556,
              "#d8576b"
             ],
             [
              0.6666666666666666,
              "#ed7953"
             ],
             [
              0.7777777777777778,
              "#fb9f3a"
             ],
             [
              0.8888888888888888,
              "#fdca26"
             ],
             [
              1,
              "#f0f921"
             ]
            ],
            "type": "surface"
           }
          ],
          "table": [
           {
            "cells": {
             "fill": {
              "color": "#EBF0F8"
             },
             "line": {
              "color": "white"
             }
            },
            "header": {
             "fill": {
              "color": "#C8D4E3"
             },
             "line": {
              "color": "white"
             }
            },
            "type": "table"
           }
          ]
         },
         "layout": {
          "annotationdefaults": {
           "arrowcolor": "#2a3f5f",
           "arrowhead": 0,
           "arrowwidth": 1
          },
          "autotypenumbers": "strict",
          "coloraxis": {
           "colorbar": {
            "outlinewidth": 0,
            "ticks": ""
           }
          },
          "colorscale": {
           "diverging": [
            [
             0,
             "#8e0152"
            ],
            [
             0.1,
             "#c51b7d"
            ],
            [
             0.2,
             "#de77ae"
            ],
            [
             0.3,
             "#f1b6da"
            ],
            [
             0.4,
             "#fde0ef"
            ],
            [
             0.5,
             "#f7f7f7"
            ],
            [
             0.6,
             "#e6f5d0"
            ],
            [
             0.7,
             "#b8e186"
            ],
            [
             0.8,
             "#7fbc41"
            ],
            [
             0.9,
             "#4d9221"
            ],
            [
             1,
             "#276419"
            ]
           ],
           "sequential": [
            [
             0,
             "#0d0887"
            ],
            [
             0.1111111111111111,
             "#46039f"
            ],
            [
             0.2222222222222222,
             "#7201a8"
            ],
            [
             0.3333333333333333,
             "#9c179e"
            ],
            [
             0.4444444444444444,
             "#bd3786"
            ],
            [
             0.5555555555555556,
             "#d8576b"
            ],
            [
             0.6666666666666666,
             "#ed7953"
            ],
            [
             0.7777777777777778,
             "#fb9f3a"
            ],
            [
             0.8888888888888888,
             "#fdca26"
            ],
            [
             1,
             "#f0f921"
            ]
           ],
           "sequentialminus": [
            [
             0,
             "#0d0887"
            ],
            [
             0.1111111111111111,
             "#46039f"
            ],
            [
             0.2222222222222222,
             "#7201a8"
            ],
            [
             0.3333333333333333,
             "#9c179e"
            ],
            [
             0.4444444444444444,
             "#bd3786"
            ],
            [
             0.5555555555555556,
             "#d8576b"
            ],
            [
             0.6666666666666666,
             "#ed7953"
            ],
            [
             0.7777777777777778,
             "#fb9f3a"
            ],
            [
             0.8888888888888888,
             "#fdca26"
            ],
            [
             1,
             "#f0f921"
            ]
           ]
          },
          "colorway": [
           "#636efa",
           "#EF553B",
           "#00cc96",
           "#ab63fa",
           "#FFA15A",
           "#19d3f3",
           "#FF6692",
           "#B6E880",
           "#FF97FF",
           "#FECB52"
          ],
          "font": {
           "color": "#2a3f5f"
          },
          "geo": {
           "bgcolor": "white",
           "lakecolor": "white",
           "landcolor": "#E5ECF6",
           "showlakes": true,
           "showland": true,
           "subunitcolor": "white"
          },
          "hoverlabel": {
           "align": "left"
          },
          "hovermode": "closest",
          "mapbox": {
           "style": "light"
          },
          "paper_bgcolor": "white",
          "plot_bgcolor": "#E5ECF6",
          "polar": {
           "angularaxis": {
            "gridcolor": "white",
            "linecolor": "white",
            "ticks": ""
           },
           "bgcolor": "#E5ECF6",
           "radialaxis": {
            "gridcolor": "white",
            "linecolor": "white",
            "ticks": ""
           }
          },
          "scene": {
           "xaxis": {
            "backgroundcolor": "#E5ECF6",
            "gridcolor": "white",
            "gridwidth": 2,
            "linecolor": "white",
            "showbackground": true,
            "ticks": "",
            "zerolinecolor": "white"
           },
           "yaxis": {
            "backgroundcolor": "#E5ECF6",
            "gridcolor": "white",
            "gridwidth": 2,
            "linecolor": "white",
            "showbackground": true,
            "ticks": "",
            "zerolinecolor": "white"
           },
           "zaxis": {
            "backgroundcolor": "#E5ECF6",
            "gridcolor": "white",
            "gridwidth": 2,
            "linecolor": "white",
            "showbackground": true,
            "ticks": "",
            "zerolinecolor": "white"
           }
          },
          "shapedefaults": {
           "line": {
            "color": "#2a3f5f"
           }
          },
          "ternary": {
           "aaxis": {
            "gridcolor": "white",
            "linecolor": "white",
            "ticks": ""
           },
           "baxis": {
            "gridcolor": "white",
            "linecolor": "white",
            "ticks": ""
           },
           "bgcolor": "#E5ECF6",
           "caxis": {
            "gridcolor": "white",
            "linecolor": "white",
            "ticks": ""
           }
          },
          "title": {
           "x": 0.05
          },
          "xaxis": {
           "automargin": true,
           "gridcolor": "white",
           "linecolor": "white",
           "ticks": "",
           "title": {
            "standoff": 15
           },
           "zerolinecolor": "white",
           "zerolinewidth": 2
          },
          "yaxis": {
           "automargin": true,
           "gridcolor": "white",
           "linecolor": "white",
           "ticks": "",
           "title": {
            "standoff": 15
           },
           "zerolinecolor": "white",
           "zerolinewidth": 2
          }
         }
        },
        "title": {
         "text": "Response Time (Desktop vs Mobile)"
        },
        "xaxis": {
         "title": {
          "text": "Platform"
         }
        },
        "yaxis": {
         "title": {
          "text": "Time (s)"
         }
        }
       }
      }
     },
     "metadata": {},
     "output_type": "display_data"
    }
   ],
   "source": [
    "fig1 = go.Figure()\n",
    "fig1.add_trace(go.Box(y=df_metrics['desktop_response_time'], name='Desktop'))\n",
    "fig1.add_trace(go.Box(y=df_metrics['mobile_response_time'], name='Mobile'))\n",
    "fig1.update_layout(title='Response Time (Desktop vs Mobile)', xaxis_title='Platform', yaxis_title='Time (s)')\n",
    "fig1.write_html(\"../../fam-report-site/public/Web-Analytics/response_time.html\")\n",
    "fig1.show()"
   ]
  },
  {
   "cell_type": "code",
   "execution_count": 14,
   "metadata": {},
   "outputs": [
    {
     "data": {
      "application/vnd.plotly.v1+json": {
       "config": {
        "plotlyServerURL": "https://plot.ly"
       },
       "data": [
        {
         "box": {
          "visible": true
         },
         "line": {
          "color": "blue"
         },
         "name": "Desktop",
         "type": "violin",
         "y": [
          200,
          200,
          200,
          200,
          200,
          200,
          200,
          200,
          200,
          200,
          200,
          200,
          200,
          200,
          200,
          200,
          200,
          200,
          200,
          200,
          200,
          200,
          200,
          200,
          200,
          200,
          200,
          200,
          200,
          200,
          200,
          200,
          200,
          200,
          200,
          200,
          200,
          200,
          200,
          200,
          200,
          200,
          200,
          200,
          200,
          200,
          200,
          200,
          200,
          200,
          200,
          200,
          200,
          200,
          200,
          200,
          200,
          200,
          200,
          200,
          200,
          200,
          200,
          200,
          200,
          200,
          200,
          200,
          200,
          200,
          200,
          200,
          200,
          200,
          200,
          200,
          200,
          200,
          200,
          200,
          200,
          200,
          200,
          200,
          200,
          200,
          200,
          200,
          200,
          200,
          200,
          200,
          200,
          200,
          200,
          200,
          200,
          200,
          200,
          200,
          200,
          200,
          200,
          200,
          200,
          200,
          200,
          200,
          200,
          200,
          200,
          200,
          200,
          200,
          200,
          200,
          200,
          200,
          200,
          200,
          200,
          200,
          200,
          200,
          200,
          200,
          200,
          200,
          200,
          200,
          200,
          200,
          200,
          200,
          200,
          200,
          200,
          200,
          200,
          200,
          200,
          200,
          200,
          200,
          999,
          200,
          200,
          200,
          200,
          200,
          200,
          200,
          200,
          200,
          200,
          200,
          200,
          200,
          200,
          200,
          200,
          200,
          200,
          200,
          200,
          200,
          200,
          200,
          200,
          200,
          200,
          200,
          200,
          200,
          200,
          200,
          200,
          200,
          200,
          200,
          200,
          200,
          200,
          200,
          200,
          200,
          200,
          200,
          200,
          200,
          200,
          200,
          200,
          200,
          200,
          200,
          200,
          200,
          200,
          200,
          200,
          200,
          200,
          200,
          200,
          200,
          200,
          200,
          200,
          200,
          200,
          200,
          200,
          200,
          200,
          200,
          200,
          200,
          200,
          200,
          999,
          200,
          200,
          200,
          200,
          200,
          200,
          200,
          200,
          200,
          200,
          200,
          200,
          200,
          200,
          200,
          200,
          200,
          200,
          200,
          200,
          200,
          200,
          200,
          200,
          200,
          200,
          200,
          200,
          200,
          200,
          200,
          404,
          200,
          200,
          200,
          200,
          200,
          200,
          200,
          200,
          200,
          200,
          200,
          200,
          200,
          200,
          200,
          200,
          200,
          200,
          200,
          200,
          200,
          200,
          200,
          200,
          200,
          200,
          200,
          200,
          200,
          200,
          200,
          200,
          200,
          200,
          200,
          200,
          200,
          200,
          200,
          200,
          200,
          200,
          200,
          200,
          200,
          200,
          200,
          200,
          200,
          200,
          200,
          200,
          200,
          200,
          200,
          200,
          200,
          200,
          200,
          200,
          200,
          200,
          200,
          200,
          200,
          200,
          200,
          200,
          200,
          200,
          200,
          200,
          200,
          200,
          200,
          200,
          200,
          200,
          200,
          200,
          200,
          200,
          200,
          200,
          200,
          200,
          200,
          200,
          200,
          200,
          200,
          200,
          200,
          200,
          200,
          200,
          200,
          200,
          200,
          200,
          200,
          200,
          200,
          200,
          200,
          200,
          200,
          200,
          200,
          200,
          200,
          200,
          200,
          200,
          200,
          200,
          200,
          200,
          200,
          200,
          200,
          200,
          200,
          200,
          200,
          200,
          200,
          200,
          200,
          200,
          200,
          200,
          200,
          200,
          200,
          200,
          200,
          200,
          200,
          200,
          200,
          200,
          200,
          200,
          200,
          200,
          200,
          200,
          200,
          200,
          200,
          200,
          200,
          200,
          200,
          200,
          200,
          200,
          200,
          200,
          200,
          200,
          200,
          200,
          200,
          200,
          200,
          200,
          200,
          200,
          200,
          200,
          200,
          200,
          200,
          200,
          200,
          200,
          200,
          200,
          200,
          200,
          200,
          200,
          200,
          200,
          200,
          200,
          200,
          200,
          200,
          200,
          200,
          200,
          200,
          200,
          200,
          200,
          200,
          200,
          200,
          200,
          200,
          200,
          200,
          200,
          200,
          200,
          200,
          200,
          200,
          200,
          200,
          200,
          200,
          200,
          200,
          200,
          200,
          200,
          200,
          200,
          200,
          200,
          200,
          200,
          200,
          200,
          200,
          200,
          200,
          200,
          200,
          200,
          200,
          200,
          200,
          200,
          200,
          200,
          200,
          200,
          200,
          200,
          200,
          200,
          200,
          200,
          200,
          200,
          200,
          200,
          200,
          200,
          200,
          200,
          200,
          200,
          200,
          200,
          200,
          200,
          200,
          200,
          200,
          200,
          200,
          200,
          200,
          429
         ]
        },
        {
         "box": {
          "visible": true
         },
         "line": {
          "color": "orange"
         },
         "name": "Mobile",
         "type": "violin",
         "y": [
          200,
          200,
          200,
          200,
          200,
          200,
          200,
          200,
          200,
          200,
          200,
          200,
          200,
          200,
          200,
          200,
          200,
          200,
          200,
          200,
          200,
          200,
          200,
          200,
          200,
          200,
          200,
          200,
          200,
          200,
          200,
          200,
          200,
          200,
          200,
          200,
          200,
          200,
          200,
          200,
          200,
          200,
          200,
          200,
          200,
          200,
          200,
          200,
          200,
          200,
          200,
          200,
          200,
          200,
          200,
          200,
          200,
          200,
          200,
          200,
          200,
          200,
          200,
          200,
          200,
          200,
          200,
          200,
          200,
          200,
          200,
          200,
          200,
          200,
          200,
          200,
          200,
          200,
          200,
          200,
          200,
          200,
          200,
          200,
          200,
          200,
          200,
          200,
          200,
          200,
          200,
          200,
          200,
          200,
          200,
          200,
          200,
          200,
          200,
          200,
          200,
          200,
          200,
          200,
          200,
          200,
          200,
          200,
          200,
          200,
          200,
          200,
          200,
          200,
          200,
          200,
          200,
          200,
          200,
          200,
          200,
          200,
          200,
          200,
          200,
          200,
          200,
          200,
          200,
          200,
          200,
          200,
          200,
          200,
          200,
          200,
          200,
          200,
          200,
          200,
          200,
          200,
          200,
          200,
          999,
          200,
          200,
          200,
          200,
          200,
          200,
          200,
          200,
          200,
          200,
          200,
          200,
          200,
          200,
          200,
          200,
          200,
          200,
          200,
          200,
          200,
          200,
          200,
          200,
          200,
          200,
          200,
          200,
          200,
          200,
          200,
          200,
          200,
          200,
          200,
          200,
          200,
          200,
          200,
          200,
          200,
          200,
          200,
          200,
          200,
          200,
          200,
          200,
          200,
          200,
          200,
          200,
          200,
          200,
          200,
          200,
          200,
          200,
          200,
          200,
          200,
          200,
          200,
          200,
          200,
          200,
          200,
          200,
          200,
          200,
          200,
          200,
          200,
          200,
          200,
          999,
          200,
          200,
          200,
          200,
          200,
          200,
          200,
          200,
          200,
          200,
          200,
          200,
          200,
          200,
          200,
          200,
          200,
          200,
          200,
          200,
          200,
          200,
          200,
          200,
          200,
          200,
          200,
          200,
          200,
          200,
          200,
          404,
          200,
          200,
          200,
          200,
          200,
          200,
          200,
          200,
          200,
          200,
          200,
          200,
          200,
          200,
          200,
          200,
          200,
          200,
          200,
          200,
          200,
          200,
          200,
          200,
          200,
          200,
          200,
          200,
          200,
          200,
          200,
          200,
          200,
          200,
          200,
          200,
          200,
          200,
          200,
          200,
          200,
          200,
          200,
          200,
          200,
          200,
          200,
          200,
          200,
          200,
          200,
          200,
          200,
          200,
          200,
          200,
          200,
          200,
          200,
          200,
          200,
          200,
          200,
          200,
          200,
          200,
          200,
          200,
          200,
          200,
          200,
          200,
          200,
          200,
          200,
          200,
          200,
          200,
          200,
          200,
          200,
          200,
          200,
          200,
          200,
          200,
          200,
          200,
          200,
          200,
          200,
          200,
          200,
          200,
          200,
          200,
          200,
          200,
          200,
          200,
          200,
          200,
          200,
          200,
          200,
          200,
          200,
          200,
          200,
          200,
          200,
          200,
          200,
          200,
          200,
          200,
          200,
          200,
          200,
          200,
          200,
          200,
          200,
          200,
          200,
          200,
          200,
          200,
          200,
          200,
          200,
          200,
          200,
          200,
          200,
          200,
          200,
          200,
          200,
          200,
          200,
          200,
          200,
          200,
          200,
          200,
          200,
          200,
          200,
          200,
          200,
          200,
          200,
          200,
          200,
          200,
          200,
          200,
          200,
          200,
          200,
          200,
          200,
          200,
          200,
          200,
          200,
          200,
          200,
          200,
          200,
          200,
          200,
          200,
          200,
          200,
          200,
          200,
          200,
          200,
          200,
          200,
          200,
          200,
          200,
          200,
          200,
          200,
          200,
          200,
          200,
          200,
          200,
          200,
          200,
          200,
          200,
          200,
          200,
          200,
          200,
          200,
          200,
          200,
          200,
          200,
          200,
          200,
          200,
          200,
          200,
          200,
          200,
          200,
          200,
          200,
          200,
          200,
          200,
          200,
          200,
          200,
          200,
          200,
          200,
          200,
          200,
          200,
          200,
          200,
          200,
          200,
          200,
          200,
          200,
          200,
          200,
          200,
          200,
          200,
          200,
          200,
          200,
          200,
          200,
          200,
          200,
          200,
          200,
          200,
          200,
          200,
          200,
          200,
          200,
          200,
          200,
          200,
          200,
          200,
          200,
          200,
          200,
          200,
          200,
          200,
          200,
          200,
          200,
          999
         ]
        }
       ],
       "layout": {
        "template": {
         "data": {
          "bar": [
           {
            "error_x": {
             "color": "#2a3f5f"
            },
            "error_y": {
             "color": "#2a3f5f"
            },
            "marker": {
             "line": {
              "color": "#E5ECF6",
              "width": 0.5
             },
             "pattern": {
              "fillmode": "overlay",
              "size": 10,
              "solidity": 0.2
             }
            },
            "type": "bar"
           }
          ],
          "barpolar": [
           {
            "marker": {
             "line": {
              "color": "#E5ECF6",
              "width": 0.5
             },
             "pattern": {
              "fillmode": "overlay",
              "size": 10,
              "solidity": 0.2
             }
            },
            "type": "barpolar"
           }
          ],
          "carpet": [
           {
            "aaxis": {
             "endlinecolor": "#2a3f5f",
             "gridcolor": "white",
             "linecolor": "white",
             "minorgridcolor": "white",
             "startlinecolor": "#2a3f5f"
            },
            "baxis": {
             "endlinecolor": "#2a3f5f",
             "gridcolor": "white",
             "linecolor": "white",
             "minorgridcolor": "white",
             "startlinecolor": "#2a3f5f"
            },
            "type": "carpet"
           }
          ],
          "choropleth": [
           {
            "colorbar": {
             "outlinewidth": 0,
             "ticks": ""
            },
            "type": "choropleth"
           }
          ],
          "contour": [
           {
            "colorbar": {
             "outlinewidth": 0,
             "ticks": ""
            },
            "colorscale": [
             [
              0,
              "#0d0887"
             ],
             [
              0.1111111111111111,
              "#46039f"
             ],
             [
              0.2222222222222222,
              "#7201a8"
             ],
             [
              0.3333333333333333,
              "#9c179e"
             ],
             [
              0.4444444444444444,
              "#bd3786"
             ],
             [
              0.5555555555555556,
              "#d8576b"
             ],
             [
              0.6666666666666666,
              "#ed7953"
             ],
             [
              0.7777777777777778,
              "#fb9f3a"
             ],
             [
              0.8888888888888888,
              "#fdca26"
             ],
             [
              1,
              "#f0f921"
             ]
            ],
            "type": "contour"
           }
          ],
          "contourcarpet": [
           {
            "colorbar": {
             "outlinewidth": 0,
             "ticks": ""
            },
            "type": "contourcarpet"
           }
          ],
          "heatmap": [
           {
            "colorbar": {
             "outlinewidth": 0,
             "ticks": ""
            },
            "colorscale": [
             [
              0,
              "#0d0887"
             ],
             [
              0.1111111111111111,
              "#46039f"
             ],
             [
              0.2222222222222222,
              "#7201a8"
             ],
             [
              0.3333333333333333,
              "#9c179e"
             ],
             [
              0.4444444444444444,
              "#bd3786"
             ],
             [
              0.5555555555555556,
              "#d8576b"
             ],
             [
              0.6666666666666666,
              "#ed7953"
             ],
             [
              0.7777777777777778,
              "#fb9f3a"
             ],
             [
              0.8888888888888888,
              "#fdca26"
             ],
             [
              1,
              "#f0f921"
             ]
            ],
            "type": "heatmap"
           }
          ],
          "heatmapgl": [
           {
            "colorbar": {
             "outlinewidth": 0,
             "ticks": ""
            },
            "colorscale": [
             [
              0,
              "#0d0887"
             ],
             [
              0.1111111111111111,
              "#46039f"
             ],
             [
              0.2222222222222222,
              "#7201a8"
             ],
             [
              0.3333333333333333,
              "#9c179e"
             ],
             [
              0.4444444444444444,
              "#bd3786"
             ],
             [
              0.5555555555555556,
              "#d8576b"
             ],
             [
              0.6666666666666666,
              "#ed7953"
             ],
             [
              0.7777777777777778,
              "#fb9f3a"
             ],
             [
              0.8888888888888888,
              "#fdca26"
             ],
             [
              1,
              "#f0f921"
             ]
            ],
            "type": "heatmapgl"
           }
          ],
          "histogram": [
           {
            "marker": {
             "pattern": {
              "fillmode": "overlay",
              "size": 10,
              "solidity": 0.2
             }
            },
            "type": "histogram"
           }
          ],
          "histogram2d": [
           {
            "colorbar": {
             "outlinewidth": 0,
             "ticks": ""
            },
            "colorscale": [
             [
              0,
              "#0d0887"
             ],
             [
              0.1111111111111111,
              "#46039f"
             ],
             [
              0.2222222222222222,
              "#7201a8"
             ],
             [
              0.3333333333333333,
              "#9c179e"
             ],
             [
              0.4444444444444444,
              "#bd3786"
             ],
             [
              0.5555555555555556,
              "#d8576b"
             ],
             [
              0.6666666666666666,
              "#ed7953"
             ],
             [
              0.7777777777777778,
              "#fb9f3a"
             ],
             [
              0.8888888888888888,
              "#fdca26"
             ],
             [
              1,
              "#f0f921"
             ]
            ],
            "type": "histogram2d"
           }
          ],
          "histogram2dcontour": [
           {
            "colorbar": {
             "outlinewidth": 0,
             "ticks": ""
            },
            "colorscale": [
             [
              0,
              "#0d0887"
             ],
             [
              0.1111111111111111,
              "#46039f"
             ],
             [
              0.2222222222222222,
              "#7201a8"
             ],
             [
              0.3333333333333333,
              "#9c179e"
             ],
             [
              0.4444444444444444,
              "#bd3786"
             ],
             [
              0.5555555555555556,
              "#d8576b"
             ],
             [
              0.6666666666666666,
              "#ed7953"
             ],
             [
              0.7777777777777778,
              "#fb9f3a"
             ],
             [
              0.8888888888888888,
              "#fdca26"
             ],
             [
              1,
              "#f0f921"
             ]
            ],
            "type": "histogram2dcontour"
           }
          ],
          "mesh3d": [
           {
            "colorbar": {
             "outlinewidth": 0,
             "ticks": ""
            },
            "type": "mesh3d"
           }
          ],
          "parcoords": [
           {
            "line": {
             "colorbar": {
              "outlinewidth": 0,
              "ticks": ""
             }
            },
            "type": "parcoords"
           }
          ],
          "pie": [
           {
            "automargin": true,
            "type": "pie"
           }
          ],
          "scatter": [
           {
            "fillpattern": {
             "fillmode": "overlay",
             "size": 10,
             "solidity": 0.2
            },
            "type": "scatter"
           }
          ],
          "scatter3d": [
           {
            "line": {
             "colorbar": {
              "outlinewidth": 0,
              "ticks": ""
             }
            },
            "marker": {
             "colorbar": {
              "outlinewidth": 0,
              "ticks": ""
             }
            },
            "type": "scatter3d"
           }
          ],
          "scattercarpet": [
           {
            "marker": {
             "colorbar": {
              "outlinewidth": 0,
              "ticks": ""
             }
            },
            "type": "scattercarpet"
           }
          ],
          "scattergeo": [
           {
            "marker": {
             "colorbar": {
              "outlinewidth": 0,
              "ticks": ""
             }
            },
            "type": "scattergeo"
           }
          ],
          "scattergl": [
           {
            "marker": {
             "colorbar": {
              "outlinewidth": 0,
              "ticks": ""
             }
            },
            "type": "scattergl"
           }
          ],
          "scattermapbox": [
           {
            "marker": {
             "colorbar": {
              "outlinewidth": 0,
              "ticks": ""
             }
            },
            "type": "scattermapbox"
           }
          ],
          "scatterpolar": [
           {
            "marker": {
             "colorbar": {
              "outlinewidth": 0,
              "ticks": ""
             }
            },
            "type": "scatterpolar"
           }
          ],
          "scatterpolargl": [
           {
            "marker": {
             "colorbar": {
              "outlinewidth": 0,
              "ticks": ""
             }
            },
            "type": "scatterpolargl"
           }
          ],
          "scatterternary": [
           {
            "marker": {
             "colorbar": {
              "outlinewidth": 0,
              "ticks": ""
             }
            },
            "type": "scatterternary"
           }
          ],
          "surface": [
           {
            "colorbar": {
             "outlinewidth": 0,
             "ticks": ""
            },
            "colorscale": [
             [
              0,
              "#0d0887"
             ],
             [
              0.1111111111111111,
              "#46039f"
             ],
             [
              0.2222222222222222,
              "#7201a8"
             ],
             [
              0.3333333333333333,
              "#9c179e"
             ],
             [
              0.4444444444444444,
              "#bd3786"
             ],
             [
              0.5555555555555556,
              "#d8576b"
             ],
             [
              0.6666666666666666,
              "#ed7953"
             ],
             [
              0.7777777777777778,
              "#fb9f3a"
             ],
             [
              0.8888888888888888,
              "#fdca26"
             ],
             [
              1,
              "#f0f921"
             ]
            ],
            "type": "surface"
           }
          ],
          "table": [
           {
            "cells": {
             "fill": {
              "color": "#EBF0F8"
             },
             "line": {
              "color": "white"
             }
            },
            "header": {
             "fill": {
              "color": "#C8D4E3"
             },
             "line": {
              "color": "white"
             }
            },
            "type": "table"
           }
          ]
         },
         "layout": {
          "annotationdefaults": {
           "arrowcolor": "#2a3f5f",
           "arrowhead": 0,
           "arrowwidth": 1
          },
          "autotypenumbers": "strict",
          "coloraxis": {
           "colorbar": {
            "outlinewidth": 0,
            "ticks": ""
           }
          },
          "colorscale": {
           "diverging": [
            [
             0,
             "#8e0152"
            ],
            [
             0.1,
             "#c51b7d"
            ],
            [
             0.2,
             "#de77ae"
            ],
            [
             0.3,
             "#f1b6da"
            ],
            [
             0.4,
             "#fde0ef"
            ],
            [
             0.5,
             "#f7f7f7"
            ],
            [
             0.6,
             "#e6f5d0"
            ],
            [
             0.7,
             "#b8e186"
            ],
            [
             0.8,
             "#7fbc41"
            ],
            [
             0.9,
             "#4d9221"
            ],
            [
             1,
             "#276419"
            ]
           ],
           "sequential": [
            [
             0,
             "#0d0887"
            ],
            [
             0.1111111111111111,
             "#46039f"
            ],
            [
             0.2222222222222222,
             "#7201a8"
            ],
            [
             0.3333333333333333,
             "#9c179e"
            ],
            [
             0.4444444444444444,
             "#bd3786"
            ],
            [
             0.5555555555555556,
             "#d8576b"
            ],
            [
             0.6666666666666666,
             "#ed7953"
            ],
            [
             0.7777777777777778,
             "#fb9f3a"
            ],
            [
             0.8888888888888888,
             "#fdca26"
            ],
            [
             1,
             "#f0f921"
            ]
           ],
           "sequentialminus": [
            [
             0,
             "#0d0887"
            ],
            [
             0.1111111111111111,
             "#46039f"
            ],
            [
             0.2222222222222222,
             "#7201a8"
            ],
            [
             0.3333333333333333,
             "#9c179e"
            ],
            [
             0.4444444444444444,
             "#bd3786"
            ],
            [
             0.5555555555555556,
             "#d8576b"
            ],
            [
             0.6666666666666666,
             "#ed7953"
            ],
            [
             0.7777777777777778,
             "#fb9f3a"
            ],
            [
             0.8888888888888888,
             "#fdca26"
            ],
            [
             1,
             "#f0f921"
            ]
           ]
          },
          "colorway": [
           "#636efa",
           "#EF553B",
           "#00cc96",
           "#ab63fa",
           "#FFA15A",
           "#19d3f3",
           "#FF6692",
           "#B6E880",
           "#FF97FF",
           "#FECB52"
          ],
          "font": {
           "color": "#2a3f5f"
          },
          "geo": {
           "bgcolor": "white",
           "lakecolor": "white",
           "landcolor": "#E5ECF6",
           "showlakes": true,
           "showland": true,
           "subunitcolor": "white"
          },
          "hoverlabel": {
           "align": "left"
          },
          "hovermode": "closest",
          "mapbox": {
           "style": "light"
          },
          "paper_bgcolor": "white",
          "plot_bgcolor": "#E5ECF6",
          "polar": {
           "angularaxis": {
            "gridcolor": "white",
            "linecolor": "white",
            "ticks": ""
           },
           "bgcolor": "#E5ECF6",
           "radialaxis": {
            "gridcolor": "white",
            "linecolor": "white",
            "ticks": ""
           }
          },
          "scene": {
           "xaxis": {
            "backgroundcolor": "#E5ECF6",
            "gridcolor": "white",
            "gridwidth": 2,
            "linecolor": "white",
            "showbackground": true,
            "ticks": "",
            "zerolinecolor": "white"
           },
           "yaxis": {
            "backgroundcolor": "#E5ECF6",
            "gridcolor": "white",
            "gridwidth": 2,
            "linecolor": "white",
            "showbackground": true,
            "ticks": "",
            "zerolinecolor": "white"
           },
           "zaxis": {
            "backgroundcolor": "#E5ECF6",
            "gridcolor": "white",
            "gridwidth": 2,
            "linecolor": "white",
            "showbackground": true,
            "ticks": "",
            "zerolinecolor": "white"
           }
          },
          "shapedefaults": {
           "line": {
            "color": "#2a3f5f"
           }
          },
          "ternary": {
           "aaxis": {
            "gridcolor": "white",
            "linecolor": "white",
            "ticks": ""
           },
           "baxis": {
            "gridcolor": "white",
            "linecolor": "white",
            "ticks": ""
           },
           "bgcolor": "#E5ECF6",
           "caxis": {
            "gridcolor": "white",
            "linecolor": "white",
            "ticks": ""
           }
          },
          "title": {
           "x": 0.05
          },
          "xaxis": {
           "automargin": true,
           "gridcolor": "white",
           "linecolor": "white",
           "ticks": "",
           "title": {
            "standoff": 15
           },
           "zerolinecolor": "white",
           "zerolinewidth": 2
          },
          "yaxis": {
           "automargin": true,
           "gridcolor": "white",
           "linecolor": "white",
           "ticks": "",
           "title": {
            "standoff": 15
           },
           "zerolinecolor": "white",
           "zerolinewidth": 2
          }
         }
        },
        "title": {
         "text": "HTTP Status (Desktop vs Mobile)"
        },
        "xaxis": {
         "title": {
          "text": "Platform"
         }
        },
        "yaxis": {
         "title": {
          "text": "HTTP Status Code"
         }
        }
       }
      }
     },
     "metadata": {},
     "output_type": "display_data"
    }
   ],
   "source": [
    "fig2 = go.Figure()\n",
    "fig2.add_trace(go.Violin(y=df_metrics['desktop_http_status'], box_visible=True, line_color='blue', name='Desktop'))\n",
    "fig2.add_trace(go.Violin(y=df_metrics['mobile_http_status'], box_visible=True, line_color='orange', name='Mobile'))\n",
    "fig2.update_layout(title='HTTP Status (Desktop vs Mobile)', xaxis_title='Platform', yaxis_title='HTTP Status Code')\n",
    "fig2.write_image(\"../../fam-report-site/public/Web-Analytics/http_status.png\")\n",
    "fig2.show()"
   ]
  },
  {
   "cell_type": "code",
   "execution_count": 23,
   "metadata": {},
   "outputs": [
    {
     "data": {
      "application/vnd.plotly.v1+json": {
       "config": {
        "plotlyServerURL": "https://plot.ly"
       },
       "data": [
        {
         "alignmentgroup": "True",
         "customdata": [
          [
           "https://famapp.in/"
          ],
          [
           "https://famcard.me/"
          ],
          [
           "https://fampay.in/"
          ]
         ],
         "hovertemplate": "variable=desktop<br>HTTP Status Code=%{x}<br>Count=%{y}<br>url=%{customdata[0]}<extra></extra>",
         "legendgroup": "desktop",
         "marker": {
          "color": "#636efa",
          "pattern": {
           "shape": ""
          }
         },
         "name": "desktop",
         "offsetgroup": "desktop",
         "orientation": "v",
         "showlegend": true,
         "textposition": "auto",
         "type": "bar",
         "x": [
          999,
          404,
          429
         ],
         "xaxis": "x",
         "y": [
          2,
          1,
          1
         ],
         "yaxis": "y"
        },
        {
         "alignmentgroup": "True",
         "customdata": [
          [
           "https://famapp.in/"
          ],
          [
           "https://famcard.me/"
          ],
          [
           "https://fampay.in/"
          ]
         ],
         "hovertemplate": "variable=mobile<br>HTTP Status Code=%{x}<br>Count=%{y}<br>url=%{customdata[0]}<extra></extra>",
         "legendgroup": "mobile",
         "marker": {
          "color": "#EF553B",
          "pattern": {
           "shape": ""
          }
         },
         "name": "mobile",
         "offsetgroup": "mobile",
         "orientation": "v",
         "showlegend": true,
         "textposition": "auto",
         "type": "bar",
         "x": [
          999,
          404,
          429
         ],
         "xaxis": "x",
         "y": [
          3,
          1,
          0
         ],
         "yaxis": "y"
        }
       ],
       "layout": {
        "barmode": "stack",
        "legend": {
         "title": {
          "text": "variable"
         },
         "tracegroupgap": 0
        },
        "template": {
         "data": {
          "bar": [
           {
            "error_x": {
             "color": "#2a3f5f"
            },
            "error_y": {
             "color": "#2a3f5f"
            },
            "marker": {
             "line": {
              "color": "#E5ECF6",
              "width": 0.5
             },
             "pattern": {
              "fillmode": "overlay",
              "size": 10,
              "solidity": 0.2
             }
            },
            "type": "bar"
           }
          ],
          "barpolar": [
           {
            "marker": {
             "line": {
              "color": "#E5ECF6",
              "width": 0.5
             },
             "pattern": {
              "fillmode": "overlay",
              "size": 10,
              "solidity": 0.2
             }
            },
            "type": "barpolar"
           }
          ],
          "carpet": [
           {
            "aaxis": {
             "endlinecolor": "#2a3f5f",
             "gridcolor": "white",
             "linecolor": "white",
             "minorgridcolor": "white",
             "startlinecolor": "#2a3f5f"
            },
            "baxis": {
             "endlinecolor": "#2a3f5f",
             "gridcolor": "white",
             "linecolor": "white",
             "minorgridcolor": "white",
             "startlinecolor": "#2a3f5f"
            },
            "type": "carpet"
           }
          ],
          "choropleth": [
           {
            "colorbar": {
             "outlinewidth": 0,
             "ticks": ""
            },
            "type": "choropleth"
           }
          ],
          "contour": [
           {
            "colorbar": {
             "outlinewidth": 0,
             "ticks": ""
            },
            "colorscale": [
             [
              0,
              "#0d0887"
             ],
             [
              0.1111111111111111,
              "#46039f"
             ],
             [
              0.2222222222222222,
              "#7201a8"
             ],
             [
              0.3333333333333333,
              "#9c179e"
             ],
             [
              0.4444444444444444,
              "#bd3786"
             ],
             [
              0.5555555555555556,
              "#d8576b"
             ],
             [
              0.6666666666666666,
              "#ed7953"
             ],
             [
              0.7777777777777778,
              "#fb9f3a"
             ],
             [
              0.8888888888888888,
              "#fdca26"
             ],
             [
              1,
              "#f0f921"
             ]
            ],
            "type": "contour"
           }
          ],
          "contourcarpet": [
           {
            "colorbar": {
             "outlinewidth": 0,
             "ticks": ""
            },
            "type": "contourcarpet"
           }
          ],
          "heatmap": [
           {
            "colorbar": {
             "outlinewidth": 0,
             "ticks": ""
            },
            "colorscale": [
             [
              0,
              "#0d0887"
             ],
             [
              0.1111111111111111,
              "#46039f"
             ],
             [
              0.2222222222222222,
              "#7201a8"
             ],
             [
              0.3333333333333333,
              "#9c179e"
             ],
             [
              0.4444444444444444,
              "#bd3786"
             ],
             [
              0.5555555555555556,
              "#d8576b"
             ],
             [
              0.6666666666666666,
              "#ed7953"
             ],
             [
              0.7777777777777778,
              "#fb9f3a"
             ],
             [
              0.8888888888888888,
              "#fdca26"
             ],
             [
              1,
              "#f0f921"
             ]
            ],
            "type": "heatmap"
           }
          ],
          "heatmapgl": [
           {
            "colorbar": {
             "outlinewidth": 0,
             "ticks": ""
            },
            "colorscale": [
             [
              0,
              "#0d0887"
             ],
             [
              0.1111111111111111,
              "#46039f"
             ],
             [
              0.2222222222222222,
              "#7201a8"
             ],
             [
              0.3333333333333333,
              "#9c179e"
             ],
             [
              0.4444444444444444,
              "#bd3786"
             ],
             [
              0.5555555555555556,
              "#d8576b"
             ],
             [
              0.6666666666666666,
              "#ed7953"
             ],
             [
              0.7777777777777778,
              "#fb9f3a"
             ],
             [
              0.8888888888888888,
              "#fdca26"
             ],
             [
              1,
              "#f0f921"
             ]
            ],
            "type": "heatmapgl"
           }
          ],
          "histogram": [
           {
            "marker": {
             "pattern": {
              "fillmode": "overlay",
              "size": 10,
              "solidity": 0.2
             }
            },
            "type": "histogram"
           }
          ],
          "histogram2d": [
           {
            "colorbar": {
             "outlinewidth": 0,
             "ticks": ""
            },
            "colorscale": [
             [
              0,
              "#0d0887"
             ],
             [
              0.1111111111111111,
              "#46039f"
             ],
             [
              0.2222222222222222,
              "#7201a8"
             ],
             [
              0.3333333333333333,
              "#9c179e"
             ],
             [
              0.4444444444444444,
              "#bd3786"
             ],
             [
              0.5555555555555556,
              "#d8576b"
             ],
             [
              0.6666666666666666,
              "#ed7953"
             ],
             [
              0.7777777777777778,
              "#fb9f3a"
             ],
             [
              0.8888888888888888,
              "#fdca26"
             ],
             [
              1,
              "#f0f921"
             ]
            ],
            "type": "histogram2d"
           }
          ],
          "histogram2dcontour": [
           {
            "colorbar": {
             "outlinewidth": 0,
             "ticks": ""
            },
            "colorscale": [
             [
              0,
              "#0d0887"
             ],
             [
              0.1111111111111111,
              "#46039f"
             ],
             [
              0.2222222222222222,
              "#7201a8"
             ],
             [
              0.3333333333333333,
              "#9c179e"
             ],
             [
              0.4444444444444444,
              "#bd3786"
             ],
             [
              0.5555555555555556,
              "#d8576b"
             ],
             [
              0.6666666666666666,
              "#ed7953"
             ],
             [
              0.7777777777777778,
              "#fb9f3a"
             ],
             [
              0.8888888888888888,
              "#fdca26"
             ],
             [
              1,
              "#f0f921"
             ]
            ],
            "type": "histogram2dcontour"
           }
          ],
          "mesh3d": [
           {
            "colorbar": {
             "outlinewidth": 0,
             "ticks": ""
            },
            "type": "mesh3d"
           }
          ],
          "parcoords": [
           {
            "line": {
             "colorbar": {
              "outlinewidth": 0,
              "ticks": ""
             }
            },
            "type": "parcoords"
           }
          ],
          "pie": [
           {
            "automargin": true,
            "type": "pie"
           }
          ],
          "scatter": [
           {
            "fillpattern": {
             "fillmode": "overlay",
             "size": 10,
             "solidity": 0.2
            },
            "type": "scatter"
           }
          ],
          "scatter3d": [
           {
            "line": {
             "colorbar": {
              "outlinewidth": 0,
              "ticks": ""
             }
            },
            "marker": {
             "colorbar": {
              "outlinewidth": 0,
              "ticks": ""
             }
            },
            "type": "scatter3d"
           }
          ],
          "scattercarpet": [
           {
            "marker": {
             "colorbar": {
              "outlinewidth": 0,
              "ticks": ""
             }
            },
            "type": "scattercarpet"
           }
          ],
          "scattergeo": [
           {
            "marker": {
             "colorbar": {
              "outlinewidth": 0,
              "ticks": ""
             }
            },
            "type": "scattergeo"
           }
          ],
          "scattergl": [
           {
            "marker": {
             "colorbar": {
              "outlinewidth": 0,
              "ticks": ""
             }
            },
            "type": "scattergl"
           }
          ],
          "scattermapbox": [
           {
            "marker": {
             "colorbar": {
              "outlinewidth": 0,
              "ticks": ""
             }
            },
            "type": "scattermapbox"
           }
          ],
          "scatterpolar": [
           {
            "marker": {
             "colorbar": {
              "outlinewidth": 0,
              "ticks": ""
             }
            },
            "type": "scatterpolar"
           }
          ],
          "scatterpolargl": [
           {
            "marker": {
             "colorbar": {
              "outlinewidth": 0,
              "ticks": ""
             }
            },
            "type": "scatterpolargl"
           }
          ],
          "scatterternary": [
           {
            "marker": {
             "colorbar": {
              "outlinewidth": 0,
              "ticks": ""
             }
            },
            "type": "scatterternary"
           }
          ],
          "surface": [
           {
            "colorbar": {
             "outlinewidth": 0,
             "ticks": ""
            },
            "colorscale": [
             [
              0,
              "#0d0887"
             ],
             [
              0.1111111111111111,
              "#46039f"
             ],
             [
              0.2222222222222222,
              "#7201a8"
             ],
             [
              0.3333333333333333,
              "#9c179e"
             ],
             [
              0.4444444444444444,
              "#bd3786"
             ],
             [
              0.5555555555555556,
              "#d8576b"
             ],
             [
              0.6666666666666666,
              "#ed7953"
             ],
             [
              0.7777777777777778,
              "#fb9f3a"
             ],
             [
              0.8888888888888888,
              "#fdca26"
             ],
             [
              1,
              "#f0f921"
             ]
            ],
            "type": "surface"
           }
          ],
          "table": [
           {
            "cells": {
             "fill": {
              "color": "#EBF0F8"
             },
             "line": {
              "color": "white"
             }
            },
            "header": {
             "fill": {
              "color": "#C8D4E3"
             },
             "line": {
              "color": "white"
             }
            },
            "type": "table"
           }
          ]
         },
         "layout": {
          "annotationdefaults": {
           "arrowcolor": "#2a3f5f",
           "arrowhead": 0,
           "arrowwidth": 1
          },
          "autotypenumbers": "strict",
          "coloraxis": {
           "colorbar": {
            "outlinewidth": 0,
            "ticks": ""
           }
          },
          "colorscale": {
           "diverging": [
            [
             0,
             "#8e0152"
            ],
            [
             0.1,
             "#c51b7d"
            ],
            [
             0.2,
             "#de77ae"
            ],
            [
             0.3,
             "#f1b6da"
            ],
            [
             0.4,
             "#fde0ef"
            ],
            [
             0.5,
             "#f7f7f7"
            ],
            [
             0.6,
             "#e6f5d0"
            ],
            [
             0.7,
             "#b8e186"
            ],
            [
             0.8,
             "#7fbc41"
            ],
            [
             0.9,
             "#4d9221"
            ],
            [
             1,
             "#276419"
            ]
           ],
           "sequential": [
            [
             0,
             "#0d0887"
            ],
            [
             0.1111111111111111,
             "#46039f"
            ],
            [
             0.2222222222222222,
             "#7201a8"
            ],
            [
             0.3333333333333333,
             "#9c179e"
            ],
            [
             0.4444444444444444,
             "#bd3786"
            ],
            [
             0.5555555555555556,
             "#d8576b"
            ],
            [
             0.6666666666666666,
             "#ed7953"
            ],
            [
             0.7777777777777778,
             "#fb9f3a"
            ],
            [
             0.8888888888888888,
             "#fdca26"
            ],
            [
             1,
             "#f0f921"
            ]
           ],
           "sequentialminus": [
            [
             0,
             "#0d0887"
            ],
            [
             0.1111111111111111,
             "#46039f"
            ],
            [
             0.2222222222222222,
             "#7201a8"
            ],
            [
             0.3333333333333333,
             "#9c179e"
            ],
            [
             0.4444444444444444,
             "#bd3786"
            ],
            [
             0.5555555555555556,
             "#d8576b"
            ],
            [
             0.6666666666666666,
             "#ed7953"
            ],
            [
             0.7777777777777778,
             "#fb9f3a"
            ],
            [
             0.8888888888888888,
             "#fdca26"
            ],
            [
             1,
             "#f0f921"
            ]
           ]
          },
          "colorway": [
           "#636efa",
           "#EF553B",
           "#00cc96",
           "#ab63fa",
           "#FFA15A",
           "#19d3f3",
           "#FF6692",
           "#B6E880",
           "#FF97FF",
           "#FECB52"
          ],
          "font": {
           "color": "#2a3f5f"
          },
          "geo": {
           "bgcolor": "white",
           "lakecolor": "white",
           "landcolor": "#E5ECF6",
           "showlakes": true,
           "showland": true,
           "subunitcolor": "white"
          },
          "hoverlabel": {
           "align": "left"
          },
          "hovermode": "closest",
          "mapbox": {
           "style": "light"
          },
          "paper_bgcolor": "white",
          "plot_bgcolor": "#E5ECF6",
          "polar": {
           "angularaxis": {
            "gridcolor": "white",
            "linecolor": "white",
            "ticks": ""
           },
           "bgcolor": "#E5ECF6",
           "radialaxis": {
            "gridcolor": "white",
            "linecolor": "white",
            "ticks": ""
           }
          },
          "scene": {
           "xaxis": {
            "backgroundcolor": "#E5ECF6",
            "gridcolor": "white",
            "gridwidth": 2,
            "linecolor": "white",
            "showbackground": true,
            "ticks": "",
            "zerolinecolor": "white"
           },
           "yaxis": {
            "backgroundcolor": "#E5ECF6",
            "gridcolor": "white",
            "gridwidth": 2,
            "linecolor": "white",
            "showbackground": true,
            "ticks": "",
            "zerolinecolor": "white"
           },
           "zaxis": {
            "backgroundcolor": "#E5ECF6",
            "gridcolor": "white",
            "gridwidth": 2,
            "linecolor": "white",
            "showbackground": true,
            "ticks": "",
            "zerolinecolor": "white"
           }
          },
          "shapedefaults": {
           "line": {
            "color": "#2a3f5f"
           }
          },
          "ternary": {
           "aaxis": {
            "gridcolor": "white",
            "linecolor": "white",
            "ticks": ""
           },
           "baxis": {
            "gridcolor": "white",
            "linecolor": "white",
            "ticks": ""
           },
           "bgcolor": "#E5ECF6",
           "caxis": {
            "gridcolor": "white",
            "linecolor": "white",
            "ticks": ""
           }
          },
          "title": {
           "x": 0.05
          },
          "xaxis": {
           "automargin": true,
           "gridcolor": "white",
           "linecolor": "white",
           "ticks": "",
           "title": {
            "standoff": 15
           },
           "zerolinecolor": "white",
           "zerolinewidth": 2
          },
          "yaxis": {
           "automargin": true,
           "gridcolor": "white",
           "linecolor": "white",
           "ticks": "",
           "title": {
            "standoff": 15
           },
           "zerolinecolor": "white",
           "zerolinewidth": 2
          }
         }
        },
        "title": {
         "text": "HTTP Status (Desktop vs Mobile)"
        },
        "xaxis": {
         "anchor": "y",
         "domain": [
          0,
          1
         ],
         "title": {
          "text": "HTTP Status Code"
         }
        },
        "yaxis": {
         "anchor": "x",
         "domain": [
          0,
          1
         ],
         "title": {
          "text": "Count"
         }
        }
       }
      }
     },
     "metadata": {},
     "output_type": "display_data"
    }
   ],
   "source": [
    "# Filter out success and redirection status codes\n",
    "filtered_desktop_status = df_metrics[df_metrics['desktop_http_status'].apply(lambda x: x>=400)]['desktop_http_status']\n",
    "filtered_mobile_status = df_metrics[df_metrics['mobile_http_status'].apply(lambda x: x>=400)]['mobile_http_status']\n",
    "\n",
    "# Count the occurrences of each status code\n",
    "desktop_status_counts = filtered_desktop_status.value_counts().reset_index()\n",
    "mobile_status_counts = filtered_mobile_status.value_counts().reset_index()\n",
    "\n",
    "# Merge both counts\n",
    "merged_counts = pd.merge(desktop_status_counts, mobile_status_counts, how='outer', on='index').fillna(0)\n",
    "merged_counts.columns = ['http_status', 'desktop', 'mobile']\n",
    "\n",
    "# Add URL to the data frame\n",
    "merged_counts['url'] = df_metrics['url']\n",
    "\n",
    "# Create a stacked bar chart with hover data\n",
    "fig2 = px.bar(merged_counts, x=\"http_status\", y=[\"desktop\", \"mobile\"], \n",
    "               title='HTTP Status (Desktop vs Mobile)', \n",
    "               labels={'http_status':'HTTP Status Code', 'value':'Count'}, \n",
    "               hover_data={'url':True},\n",
    "               barmode='stack')\n",
    "\n",
    "fig2.write_html(\"../../fam-report-site/public/Web-Analytics/http_status.html\")\n",
    "fig2.show()\n"
   ]
  },
  {
   "cell_type": "code",
   "execution_count": 20,
   "metadata": {},
   "outputs": [
    {
     "data": {
      "application/vnd.plotly.v1+json": {
       "config": {
        "plotlyServerURL": "https://plot.ly"
       },
       "data": [
        {
         "hovertemplate": "Desktop Response Time=%{x}<br>Mobile Response Time=%{y}<extra></extra>",
         "legendgroup": "",
         "marker": {
          "color": "#636efa",
          "symbol": "circle"
         },
         "mode": "markers",
         "name": "",
         "orientation": "v",
         "showlegend": false,
         "type": "scatter",
         "x": [
          0.223330020904541,
          0.2695047855377197,
          0.2522594928741455,
          0.2553226947784424,
          0.5922276973724365,
          0.5321812629699707,
          0.3171122074127197,
          0.3022489547729492,
          0.3086202144622803,
          0.3137350082397461,
          0.2953472137451172,
          0.2571251392364502,
          0.3296213150024414,
          0.3411407470703125,
          0.2931249141693115,
          0.3106391429901123,
          0.3178663253784179,
          0.2875754833221435,
          0.3042478561401367,
          0.2914237976074219,
          0.2841806411743164,
          0.3000130653381347,
          0.2954075336456299,
          0.2930305004119873,
          0.2428696155548095,
          0.3060066699981689,
          0.2840433120727539,
          0.5103108882904053,
          0.2672500610351562,
          0.2878110408782959,
          0.3233089447021484,
          0.2816085815429687,
          0.261812686920166,
          0.3108644485473633,
          0.3490726947784424,
          0.2629745006561279,
          0.2725319862365722,
          0.2700812816619873,
          0.272343635559082,
          0.3166787624359131,
          0.2751193046569824,
          0.2714648246765136,
          0.2628743648529053,
          0.2727842330932617,
          0.4198958873748779,
          0.2368907928466797,
          0.317054271697998,
          0.3356027603149414,
          0.2534706592559814,
          0.2756738662719726,
          0.2516086101531982,
          0.2981579303741455,
          0.3364980220794678,
          0.3008503913879394,
          0.2985560894012451,
          0.2972733974456787,
          0.295137882232666,
          0.3726310729980469,
          0.2553229331970215,
          0.2677791118621826,
          0.2339704036712646,
          0.3382019996643066,
          0.2551207542419433,
          0.2876081466674804,
          0.3037865161895752,
          0.3052501678466797,
          0.2557847499847412,
          0.2723686695098877,
          0.2898702621459961,
          0.2905516624450683,
          0.2313928604125976,
          0.3575344085693359,
          0.3244812488555908,
          0.2803225517272949,
          0.2586758136749267,
          0.2931118011474609,
          0.2708921432495117,
          0.3019278049468994,
          0.2533493041992187,
          0.4170811176300049,
          0.267892837524414,
          0.3174352645874023,
          0.3013803958892822,
          0.2724702358245849,
          0.2562284469604492,
          0.2466640472412109,
          0.2745857238769531,
          0.2800571918487549,
          0.2599403858184814,
          0.2862260341644287,
          0.2741949558258056,
          0.2500200271606445,
          0.3460609912872314,
          0.2886784076690674,
          0.2599830627441406,
          0.2993156909942627,
          0.2784144878387451,
          0.2414596080780029,
          0.2980737686157226,
          0.9969286918640136,
          0.431044340133667,
          1.063523292541504,
          0.6645181179046631,
          0.3572030067443847,
          0.2913515567779541,
          0.3703315258026123,
          0.6838207244873047,
          0.3386781215667724,
          1.009598970413208,
          0.3709585666656494,
          1.0948359966278076,
          0.3336937427520752,
          1.0575387477874756,
          0.3111021518707275,
          0.6405758857727051,
          0.5826544761657715,
          1.1973111629486084,
          0.2932586669921875,
          0.8711683750152588,
          0.3423590660095215,
          1.228999137878418,
          0.3517684936523437,
          0.6592953205108643,
          0.3195819854736328,
          1.0668320655822754,
          0.3314578533172607,
          0.6305379867553711,
          0.4715259075164795,
          1.1551837921142578,
          0.3368945121765136,
          1.3879666328430176,
          0.5887017250061035,
          1.0264415740966797,
          0.3340976238250732,
          0.709191083908081,
          0.6902816295623779,
          1.0497426986694336,
          0.3296680450439453,
          0.9989278316497804,
          0.4180531501770019,
          1.1467885971069336,
          0.4328203201293945,
          0.3291537761688232,
          0.7159960269927979,
          0.7313330173492432,
          0.2627210617065429,
          0.7513730525970459,
          0.9242753982543944,
          0.1938569545745849,
          0.3302383422851562,
          0.3247222900390625,
          0.2236552238464355,
          0.1880383491516113,
          0.3673877716064453,
          0.1926836967468261,
          0.0605313777923584,
          0.2061679363250732,
          0.1490182876586914,
          0.1610980033874511,
          0.7489089965820312,
          0.60843825340271,
          1.2694942951202393,
          0.1987159252166748,
          0.8028514385223389,
          0.5898013114929199,
          1.191119909286499,
          0.2800278663635254,
          0.7124333381652832,
          0.4681396484375,
          1.0307180881500244,
          0.2137603759765625,
          0.9878463745117188,
          0.5812644958496094,
          1.1828653812408447,
          0.2059607505798339,
          0.9742066860198976,
          0.594174861907959,
          1.0607337951660156,
          0.2124528884887695,
          0.3822584152221679,
          1.26253080368042,
          0.3110089302062988,
          1.0547871589660645,
          0.2107710838317871,
          0.9988899230957032,
          0.3744635581970215,
          1.202465534210205,
          0.2622561454772949,
          0.6847131252288818,
          0.351015567779541,
          1.2083704471588137,
          0.2786951065063476,
          0.9435272216796876,
          0.6049103736877441,
          1.1796834468841553,
          0.2363133430480957,
          0.8964149951934814,
          1.0546107292175293,
          1.0555040836334229,
          0.4527981281280517,
          0.1510934829711914,
          0.702460765838623,
          0.8444569110870361,
          1.0393285751342771,
          0.1797389984130859,
          0.7094194889068604,
          0.7973184585571289,
          1.0085813999176023,
          0.1988790035247802,
          1.4298923015594482,
          0.351468563079834,
          1.036384105682373,
          0.2319154739379882,
          1.4336779117584229,
          0.6345434188842773,
          1.34303617477417,
          0.1850199699401855,
          1.074561357498169,
          0.3671853542327881,
          1.0192527770996094,
          0.5273993015289307,
          0.2315187454223632,
          0.9888420104980468,
          0.3769147396087646,
          1.1857953071594238,
          0.2479827404022216,
          0.1787567138671875,
          0.9994144439697266,
          0.5323469638824463,
          1.1027729511260986,
          0.2333447933197021,
          0.8468418121337891,
          0.460864782333374,
          1.0689032077789309,
          0.1771368980407714,
          0.7328381538391113,
          0.6762335300445557,
          1.011470079421997,
          0.3081822395324707,
          0.9237947463989258,
          0.5470449924468994,
          1.067957639694214,
          0.3124115467071533,
          0.9252629280090332,
          0.5958089828491211,
          1.197385311126709,
          0.4795494079589844,
          0.5345699787139893,
          0.2301211357116699,
          0.9584028720855712,
          0.7389538288116455,
          1.206959247589111,
          0.3173625469207763,
          0.3823704719543457,
          0.15330171585083,
          0.9346194267272948,
          0.3299727439880371,
          1.1778364181518557,
          0.2530105113983154,
          0.8746154308319092,
          0.6013474464416504,
          1.05055832862854,
          0.9320173263549804,
          0.4553239345550537,
          0.8994688987731934,
          0.6512131690979004,
          1.1091456413269043,
          0.4069256782531738,
          0.2340095043182373,
          0.2725188732147217,
          0.1936225891113281,
          0.2057044506072998,
          0.144313097000122,
          0.2211909294128418,
          0.1641232967376709,
          0.7377185821533203,
          0.351362943649292,
          1.0410535335540771,
          0.2634932994842529,
          1.0095725059509275,
          0.3506405353546142,
          1.2045283317565918,
          0.2509016990661621,
          1.1700892448425293,
          0.5864920616149902,
          1.073836326599121,
          0.2793939113616943,
          0.1853241920471191,
          1.1588144302368164,
          0.3604626655578613,
          1.0299186706542969,
          0.199441909790039,
          0.6552062034606934,
          0.8255560398101807,
          1.1640241146087646,
          0.2303137779235839,
          1.1686725616455078,
          0.33022141456604,
          1.0783627033233645,
          0.2255585193634033,
          1.436473369598389,
          0.3789100646972656,
          1.1666128635406494,
          0.2501962184906006,
          0.968247413635254,
          0.8209211826324463,
          1.0791521072387695,
          0.2225451469421386,
          0.9662089347839355,
          0.5056502819061279,
          1.174377679824829,
          0.9927928447723388,
          0.157815933227539,
          1.2603600025177002,
          0.3749327659606933,
          1.1531248092651367,
          0.280191421508789,
          1.245330810546875,
          0.4785385131835937,
          1.0549232959747314,
          0.4099836349487304,
          0.1364643573760986,
          1.4280445575714111,
          0.3595979213714599,
          1.1899676322937012,
          0.2111792564392089,
          1.7081644535064695,
          0.5834329128265381,
          1.07771635055542,
          0.2390506267547607,
          0.2266910076141357,
          0.2504141330718994,
          0.2191972732543945,
          0.1581072807312011,
          0.2076315879821777,
          0.9398491382598876,
          0.3498344421386719,
          1.2199382781982422,
          0.180527925491333,
          1.0889205932617188,
          0.3803448677062988,
          1.164034128189087,
          0.1912524700164795,
          0.1380233764648437,
          0.2209265232086181,
          0.6833629608154297,
          0.6305902004241943,
          1.0668995380401611,
          0.1971094608306884,
          0.9480655193328856,
          0.3490393161773681,
          1.282077074050903,
          0.2078669071197509,
          0.7793717384338379,
          0.5793383121490479,
          1.0019495487213137,
          0.2983520030975342,
          1.0622379779815674,
          0.549267053604126,
          1.1127846240997314,
          0.562129020690918,
          0.4790112972259521,
          0.7540271282196045,
          0.4916558265686035,
          0.4215266704559326,
          0.4650213718414306,
          0.6849117279052734,
          0.4281735420227051,
          0.4027950763702392,
          0.457834243774414,
          0.5719931125640869,
          0.2132210731506347,
          0.889542818069458,
          0.5729594230651855,
          1.137451171875,
          0.2549645900726318,
          0.181840181350708,
          0.9269301891326904,
          0.3312840461730957,
          1.0666310787200928,
          0.2248599529266357,
          0.9724950790405272,
          0.6077849864959717,
          1.0829780101776123,
          0.2787652015686035,
          0.8982150554656982,
          1.113844394683838,
          1.1671807765960691,
          0.2715170383453369,
          0.7704160213470459,
          0.5641429424285889,
          1.0902280807495115,
          0.2561085224151611,
          0.9291071891784668,
          0.586780309677124,
          1.200953483581543,
          0.2301826477050781,
          0.7247204780578613,
          0.4102888107299804,
          1.1826982498168943,
          0.2483737468719482,
          0.9157979488372804,
          0.5098426342010498,
          1.0297012329101562,
          0.4099736213684082,
          0.7257981300354004,
          0.5151779651641846,
          1.2085473537445068,
          0.3812227249145508,
          1.001108169555664,
          0.4113485813140869,
          0.998037338256836,
          0.247962474822998,
          1.4498391151428225,
          0.8144400119781494,
          1.188720941543579,
          0.1711101531982422,
          0.2721972465515136,
          0.8794593811035156,
          0.4901199340820312,
          1.0642387866973877,
          0.2617373466491699,
          0.2009742259979248,
          0.7027432918548584,
          0.3793416023254394,
          1.1886444091796875,
          0.2233331203460693,
          0.7036459445953369,
          0.5548410415649414,
          1.1714534759521484,
          0.2519676685333252,
          0.1876153945922851,
          1.1963787078857422,
          0.3187179565429687,
          1.0255897045135498,
          0.2426612377166748,
          1.2184152603149414,
          0.5420651435852051,
          1.1998543739318848,
          0.1442837715148925,
          0.9566237926483154,
          0.5689239501953125,
          1.1843030452728271,
          0.4072663784027099,
          0.1949501037597656,
          1.7697484493255615,
          0.5599758625030518,
          1.0571050643920898,
          0.2301032543182373,
          1.4771840572357178,
          0.5327596664428711,
          1.2130582332611084,
          0.2209908962249755,
          0.7311787605285645,
          0.3677897453308105,
          1.2982933521270752,
          0.3742711544036865,
          0.9866325855255128,
          0.5907752513885498,
          1.0105619430541992,
          0.4307787418365478,
          0.222811222076416,
          0.1398959159851074,
          0.2027227878570556,
          0.9117984771728516,
          0.3396718502044678,
          1.163835525512695,
          0.2035963535308838,
          1.0325798988342283,
          0.5540504455566406,
          1.0501148700714111,
          0.2255833148956298,
          0.948206901550293,
          0.3326737880706787,
          1.0859923362731934,
          0.2912271022796631,
          0.7350878715515137,
          0.5654654502868652,
          1.236457586288452,
          0.3193700313568115,
          0.1495704650878906,
          1.1053533554077148,
          0.5920696258544922,
          1.0998997688293457,
          1.4728870391845703,
          1.3889095783233645,
          1.311852216720581,
          1.3964571952819824,
          1.4114456176757812,
          1.3596103191375732,
          1.3682620525360107,
          1.410965919494629,
          1.4188194274902344,
          1.3057620525360107,
          1.40521502494812,
          0.2852685451507568,
          0.7286579608917236,
          0.3591628074645996,
          1.1878466606140137,
          0.3163292407989502,
          0.2295334339141845,
          0.2577545642852783,
          0.164691686630249,
          0.1825191974639892,
          0.1708409786224365,
          0.1793134212493896,
          0.1455533504486084,
          0.1537456512451172,
          0.1728413105010986,
          0.2508361339569092,
          0.2036283016204834,
          0.1957261562347412,
          0.1928024291992187,
          0.0699377059936523,
          0.0627849102020263,
          0.1389787197113037,
          0.1698565483093261,
          0.0604548454284668,
          0.083716869354248,
          0.0673389434814453,
          0.0629899501800537,
          0.6950011253356934,
          0.4984171390533447
         ],
         "xaxis": "x",
         "y": [
          0.1272706985473632,
          0.2392745018005371,
          0.2470881938934326,
          0.2816956043243408,
          0.4401617050170898,
          0.3392946720123291,
          0.3142263889312744,
          0.2773365974426269,
          0.2997865676879883,
          0.3371427059173584,
          0.3305907249450683,
          0.2854840755462646,
          0.3197958469390869,
          0.2808239459991455,
          0.2722938060760498,
          0.3542654514312744,
          0.2915985584259033,
          0.2764303684234619,
          0.3894300460815429,
          0.2712650299072265,
          0.2502217292785644,
          0.326406717300415,
          0.2950863838195801,
          0.2664370536804199,
          0.2701945304870605,
          0.2840397357940674,
          0.2740097045898437,
          0.2787177562713623,
          0.2988433837890625,
          0.3171651363372803,
          0.3298060894012451,
          0.2793943881988525,
          0.3425114154815674,
          0.3265302181243896,
          0.2821254730224609,
          0.2815399169921875,
          0.3294591903686523,
          0.3047473430633545,
          0.2456822395324707,
          0.2759373188018799,
          0.2913517951965332,
          0.284832239151001,
          0.2353386878967285,
          0.2714138031005859,
          0.2738871574401855,
          0.2593526840209961,
          0.2734277248382568,
          0.2861242294311523,
          0.2732119560241699,
          0.2594783306121826,
          0.25295090675354,
          0.3046791553497314,
          0.2848482131958008,
          0.257455825805664,
          0.3032712936401367,
          0.2767708301544189,
          0.2863950729370117,
          0.3279955387115478,
          0.2438631057739257,
          0.2735536098480224,
          0.2326970100402832,
          0.2756061553955078,
          0.2633676528930664,
          0.2924573421478271,
          0.2530207633972168,
          0.2716217041015625,
          0.2661776542663574,
          0.2856457233428955,
          0.2644784450531006,
          0.265484094619751,
          0.2566416263580322,
          0.2457523345947265,
          0.3091411590576172,
          0.2464549541473388,
          0.2636125087738037,
          0.3103396892547607,
          0.2697706222534179,
          0.2687356472015381,
          0.2724342346191406,
          0.3276162147521972,
          0.3382956981658935,
          0.2766788005828857,
          0.290736436843872,
          0.2706680297851562,
          0.2900903224945068,
          0.2611467838287353,
          0.2761473655700683,
          0.2600975036621094,
          0.3141429424285888,
          0.2418322563171386,
          0.2995362281799316,
          0.3124158382415771,
          0.3195202350616455,
          0.2496552467346191,
          0.2482261657714843,
          0.3274736404418945,
          0.267423152923584,
          0.2821476459503174,
          0.3154513835906982,
          0.9721739292144777,
          1.033060073852539,
          1.1974120140075684,
          0.7088384628295898,
          0.3594889640808105,
          0.2907338142395019,
          0.2782080173492431,
          0.6591970920562744,
          1.0861830711364746,
          1.2150559425354004,
          0.289231538772583,
          0.7167017459869385,
          1.032703161239624,
          1.1889426708221436,
          0.4242205619812011,
          0.6675000190734863,
          0.993295431137085,
          1.2217819690704346,
          0.3479876518249511,
          0.937633752822876,
          1.035468339920044,
          1.1771836280822754,
          0.2861747741699219,
          0.7055070400238037,
          0.9753057956695556,
          1.0363059043884275,
          0.3221156597137451,
          0.7063097953796387,
          0.9508936405181884,
          1.2117478847503662,
          0.3516709804534912,
          0.967740535736084,
          1.0749835968017578,
          1.0780317783355713,
          0.2948391437530517,
          0.8754475116729736,
          1.154449224472046,
          1.0369455814361572,
          0.3360130786895752,
          0.7435979843139648,
          0.9542198181152344,
          1.234886646270752,
          0.5116467475891113,
          0.3383510112762451,
          1.1475372314453125,
          0.5859053134918213,
          0.2129831314086914,
          1.2050321102142334,
          0.9484803676605223,
          0.2592008113861084,
          0.2710487842559814,
          0.3824973106384277,
          0.2651634216308594,
          0.2702515125274658,
          0.2677011489868164,
          0.2027797698974609,
          0.0560245513916015,
          0.3689711093902588,
          0.1399440765380859,
          0.1400609016418457,
          0.8726346492767334,
          0.997868537902832,
          1.0768373012542725,
          0.1942510604858398,
          0.9824001789093018,
          0.9992899894714355,
          1.061683177947998,
          0.1936767101287841,
          0.702427864074707,
          1.2014784812927246,
          1.06722092628479,
          0.1409454345703125,
          0.9174156188964844,
          0.9265286922454834,
          1.2597169876098633,
          0.1752905845642089,
          0.6461422443389893,
          0.955801010131836,
          1.081753492355347,
          0.2081034183502197,
          0.1453707218170166,
          1.1382839679718018,
          0.9775254726409912,
          1.2350621223449707,
          0.240447998046875,
          0.748084306716919,
          0.9187242984771729,
          1.29362154006958,
          0.2131268978118896,
          1.0113563537597656,
          0.9405460357666016,
          1.173335313796997,
          0.1512322425842285,
          0.9517092704772948,
          1.5092880725860596,
          1.206756591796875,
          0.1816778182983398,
          0.750934362411499,
          1.266711950302124,
          1.215001106262207,
          0.2306315898895263,
          0.1813771724700927,
          1.073261022567749,
          0.9068934917449952,
          1.0409438610076904,
          0.2029805183410644,
          0.7039604187011719,
          1.4313485622406006,
          1.0540030002593994,
          0.193223237991333,
          0.8701612949371338,
          0.976898431777954,
          1.1730892658233645,
          0.2300200462341308,
          0.7144982814788818,
          0.9138219356536864,
          1.14570951461792,
          0.2064697742462158,
          0.9858522415161132,
          0.9424123764038086,
          1.007110595703125,
          0.5099852085113525,
          0.3007473945617676,
          0.9080369472503662,
          0.9427554607391356,
          1.0584716796875,
          0.1912069320678711,
          0.225041389465332,
          0.8964474201202393,
          1.079773187637329,
          1.2669517993927002,
          0.2755689620971679,
          1.0479638576507568,
          0.9183290004730223,
          1.0332694053649902,
          0.1764037609100341,
          0.9254050254821776,
          0.9729602336883544,
          1.0280938148498535,
          0.2258880138397216,
          0.8872411251068115,
          1.177652359008789,
          1.2343504428863523,
          0.2430112361907959,
          0.8713512420654297,
          1.1772832870483398,
          1.203028440475464,
          0.4272723197937011,
          0.3882255554199219,
          0.1508219242095947,
          0.6852097511291504,
          0.9870009422302246,
          1.1784796714782717,
          0.3261492252349853,
          0.3709943294525146,
          0.2095367908477783,
          0.6909298896789551,
          0.909081220626831,
          1.0487868785858154,
          0.2607393264770508,
          0.677642822265625,
          1.0738317966461182,
          1.246347427368164,
          1.7583880424499512,
          0.2596721649169922,
          1.4267969131469729,
          0.9617953300476074,
          1.1699700355529783,
          0.2766299247741699,
          0.2362909317016601,
          0.2030286788940429,
          0.1631443500518798,
          0.281771183013916,
          0.1525688171386718,
          0.1930036544799804,
          0.154125690460205,
          0.7460706233978271,
          0.942176342010498,
          1.043260097503662,
          0.2188658714294433,
          0.9909799098968506,
          0.9869849681854248,
          1.1152513027191162,
          0.3995113372802734,
          1.1741251945495603,
          0.9212334156036376,
          1.2300424575805664,
          0.2270762920379638,
          0.360194444656372,
          1.5580999851226809,
          1.0179905891418457,
          1.1602506637573242,
          0.1952869892120361,
          0.9339265823364258,
          0.9765596389770508,
          1.074603796005249,
          0.2342021465301513,
          1.0791771411895752,
          0.9378015995025636,
          1.0683331489562988,
          0.2245407104492187,
          1.6276273727416992,
          1.4171180725097656,
          1.2158844470977783,
          0.159553050994873,
          1.436173677444458,
          0.9684796333312988,
          1.0826668739318848,
          0.2477314472198486,
          0.9981536865234376,
          0.9989900588989258,
          1.0695042610168457,
          0.7210297584533691,
          0.1422538757324218,
          0.9979496002197266,
          0.9714303016662598,
          1.1647586822509766,
          0.3604192733764648,
          0.6970019340515137,
          0.959080457687378,
          1.1492743492126465,
          0.410045862197876,
          0.2593107223510742,
          0.6861076354980469,
          0.9636476039886476,
          1.1702229976654053,
          0.2597293853759765,
          1.0893094539642334,
          0.9308385848999025,
          1.09662127494812,
          0.210493803024292,
          0.1714997291564941,
          0.1503393650054931,
          0.1594350337982177,
          0.1639645099639892,
          0.1307954788208007,
          0.6939325332641602,
          0.9495079517364502,
          1.0223417282104492,
          0.2020480632781982,
          1.0712084770202637,
          0.9001858234405518,
          1.1408119201660156,
          0.1512863636016845,
          0.1311275959014892,
          0.1445522308349609,
          1.0499844551086426,
          0.9989891052246094,
          1.0520951747894287,
          0.2444179058074951,
          1.2151179313659668,
          0.8987917900085449,
          1.0268778800964355,
          0.258500337600708,
          0.9152786731719972,
          0.962139129638672,
          1.1901392936706543,
          0.2264766693115234,
          0.7447390556335449,
          0.9530048370361328,
          1.031883955001831,
          0.6627678871154785,
          0.400022029876709,
          0.7419312000274658,
          0.5009996891021729,
          0.3884289264678955,
          0.4530365467071533,
          0.647507905960083,
          0.432985782623291,
          0.3821258544921875,
          0.4731733798980713,
          0.4308125972747803,
          0.1960179805755615,
          0.9233036041259766,
          1.2013328075408936,
          1.2496914863586426,
          0.2680554389953613,
          0.1530888080596923,
          0.9687247276306152,
          1.217193603515625,
          1.1910011768341064,
          0.2551279067993164,
          0.9975805282592772,
          1.0263466835021973,
          1.2085304260253906,
          0.2326428890228271,
          0.8918306827545166,
          1.090801239013672,
          1.0240757465362549,
          0.24111008644104,
          1.0291359424591064,
          0.9001855850219727,
          1.216789484024048,
          0.4335756301879883,
          1.557124137878418,
          0.9550580978393556,
          1.0931293964385986,
          0.2745068073272705,
          0.9083070755004884,
          1.4107766151428225,
          1.2280592918395996,
          0.3798553943634033,
          0.6985986232757568,
          1.206526756286621,
          1.0561871528625488,
          0.1977806091308593,
          1.0244100093841553,
          1.0214853286743164,
          1.0202453136444092,
          0.4005079269409179,
          0.9744641780853271,
          0.99287748336792,
          1.0976126194000244,
          0.2109177112579345,
          0.9296276569366456,
          0.9800982475280762,
          1.0690395832061768,
          0.1784303188323974,
          0.1868472099304199,
          1.419745922088623,
          0.9211246967315674,
          1.0124127864837646,
          0.2200031280517578,
          0.1440787315368652,
          1.1829473972320557,
          0.878157377243042,
          1.1951172351837158,
          0.2177567481994629,
          0.9624817371368408,
          1.1019785404205322,
          1.053964614868164,
          0.2101519107818603,
          0.1972198486328125,
          0.7758331298828125,
          0.9040355682373048,
          1.179764986038208,
          0.2467668056488037,
          1.0009617805480957,
          0.9392740726470948,
          1.1857821941375732,
          0.1666791439056396,
          1.408745527267456,
          0.936424732208252,
          1.0876119136810305,
          0.3600292205810547,
          0.2359731197357177,
          0.8490309715270996,
          1.1383347511291504,
          1.1330077648162842,
          0.2154443264007568,
          1.0338847637176514,
          0.8858742713928223,
          1.0800647735595703,
          0.1837987899780273,
          0.6957197189331055,
          0.937732458114624,
          1.1827001571655271,
          0.3760509490966797,
          0.9699752330780028,
          1.0028433799743652,
          1.1884922981262207,
          0.3763787746429443,
          0.1823573112487793,
          0.2106869220733642,
          0.1442716121673584,
          0.9791193008422852,
          0.9916939735412598,
          1.0540978908538818,
          0.2601938247680664,
          0.6836378574371338,
          0.8960845470428467,
          1.2529237270355225,
          0.159581184387207,
          0.7080235481262207,
          1.0116641521453855,
          1.191852331161499,
          0.312345027923584,
          0.7186393737792969,
          0.9176969528198242,
          1.190662860870361,
          0.268620491027832,
          0.2798929214477539,
          0.8664274215698242,
          0.9701623916625975,
          1.193511962890625,
          1.454729080200195,
          1.3902742862701416,
          1.3488001823425293,
          1.3660085201263428,
          1.4300894737243652,
          1.3832614421844482,
          1.3392410278320312,
          1.4165494441986084,
          1.3883516788482666,
          1.408416509628296,
          1.3924992084503174,
          0.2189736366271972,
          0.9042952060699464,
          0.9255352020263672,
          1.1626391410827637,
          0.4109055995941162,
          0.2161731719970703,
          0.170891523361206,
          0.1670422554016113,
          0.1608850955963134,
          0.1726107597351074,
          0.151785135269165,
          0.1686832904815673,
          0.1745712757110595,
          0.1709558963775634,
          0.207190990447998,
          0.2031216621398925,
          0.2029626369476318,
          0.1774840354919433,
          0.0585746765136718,
          0.0748746395111084,
          0.1228470802307128,
          0.1885406970977783,
          0.0614492893218994,
          0.0613899230957031,
          0.0897703170776367,
          0.0684015750885009,
          0.789330244064331,
          0.9516167640686036
         ],
         "yaxis": "y"
        }
       ],
       "layout": {
        "legend": {
         "tracegroupgap": 0
        },
        "template": {
         "data": {
          "bar": [
           {
            "error_x": {
             "color": "#2a3f5f"
            },
            "error_y": {
             "color": "#2a3f5f"
            },
            "marker": {
             "line": {
              "color": "#E5ECF6",
              "width": 0.5
             },
             "pattern": {
              "fillmode": "overlay",
              "size": 10,
              "solidity": 0.2
             }
            },
            "type": "bar"
           }
          ],
          "barpolar": [
           {
            "marker": {
             "line": {
              "color": "#E5ECF6",
              "width": 0.5
             },
             "pattern": {
              "fillmode": "overlay",
              "size": 10,
              "solidity": 0.2
             }
            },
            "type": "barpolar"
           }
          ],
          "carpet": [
           {
            "aaxis": {
             "endlinecolor": "#2a3f5f",
             "gridcolor": "white",
             "linecolor": "white",
             "minorgridcolor": "white",
             "startlinecolor": "#2a3f5f"
            },
            "baxis": {
             "endlinecolor": "#2a3f5f",
             "gridcolor": "white",
             "linecolor": "white",
             "minorgridcolor": "white",
             "startlinecolor": "#2a3f5f"
            },
            "type": "carpet"
           }
          ],
          "choropleth": [
           {
            "colorbar": {
             "outlinewidth": 0,
             "ticks": ""
            },
            "type": "choropleth"
           }
          ],
          "contour": [
           {
            "colorbar": {
             "outlinewidth": 0,
             "ticks": ""
            },
            "colorscale": [
             [
              0,
              "#0d0887"
             ],
             [
              0.1111111111111111,
              "#46039f"
             ],
             [
              0.2222222222222222,
              "#7201a8"
             ],
             [
              0.3333333333333333,
              "#9c179e"
             ],
             [
              0.4444444444444444,
              "#bd3786"
             ],
             [
              0.5555555555555556,
              "#d8576b"
             ],
             [
              0.6666666666666666,
              "#ed7953"
             ],
             [
              0.7777777777777778,
              "#fb9f3a"
             ],
             [
              0.8888888888888888,
              "#fdca26"
             ],
             [
              1,
              "#f0f921"
             ]
            ],
            "type": "contour"
           }
          ],
          "contourcarpet": [
           {
            "colorbar": {
             "outlinewidth": 0,
             "ticks": ""
            },
            "type": "contourcarpet"
           }
          ],
          "heatmap": [
           {
            "colorbar": {
             "outlinewidth": 0,
             "ticks": ""
            },
            "colorscale": [
             [
              0,
              "#0d0887"
             ],
             [
              0.1111111111111111,
              "#46039f"
             ],
             [
              0.2222222222222222,
              "#7201a8"
             ],
             [
              0.3333333333333333,
              "#9c179e"
             ],
             [
              0.4444444444444444,
              "#bd3786"
             ],
             [
              0.5555555555555556,
              "#d8576b"
             ],
             [
              0.6666666666666666,
              "#ed7953"
             ],
             [
              0.7777777777777778,
              "#fb9f3a"
             ],
             [
              0.8888888888888888,
              "#fdca26"
             ],
             [
              1,
              "#f0f921"
             ]
            ],
            "type": "heatmap"
           }
          ],
          "heatmapgl": [
           {
            "colorbar": {
             "outlinewidth": 0,
             "ticks": ""
            },
            "colorscale": [
             [
              0,
              "#0d0887"
             ],
             [
              0.1111111111111111,
              "#46039f"
             ],
             [
              0.2222222222222222,
              "#7201a8"
             ],
             [
              0.3333333333333333,
              "#9c179e"
             ],
             [
              0.4444444444444444,
              "#bd3786"
             ],
             [
              0.5555555555555556,
              "#d8576b"
             ],
             [
              0.6666666666666666,
              "#ed7953"
             ],
             [
              0.7777777777777778,
              "#fb9f3a"
             ],
             [
              0.8888888888888888,
              "#fdca26"
             ],
             [
              1,
              "#f0f921"
             ]
            ],
            "type": "heatmapgl"
           }
          ],
          "histogram": [
           {
            "marker": {
             "pattern": {
              "fillmode": "overlay",
              "size": 10,
              "solidity": 0.2
             }
            },
            "type": "histogram"
           }
          ],
          "histogram2d": [
           {
            "colorbar": {
             "outlinewidth": 0,
             "ticks": ""
            },
            "colorscale": [
             [
              0,
              "#0d0887"
             ],
             [
              0.1111111111111111,
              "#46039f"
             ],
             [
              0.2222222222222222,
              "#7201a8"
             ],
             [
              0.3333333333333333,
              "#9c179e"
             ],
             [
              0.4444444444444444,
              "#bd3786"
             ],
             [
              0.5555555555555556,
              "#d8576b"
             ],
             [
              0.6666666666666666,
              "#ed7953"
             ],
             [
              0.7777777777777778,
              "#fb9f3a"
             ],
             [
              0.8888888888888888,
              "#fdca26"
             ],
             [
              1,
              "#f0f921"
             ]
            ],
            "type": "histogram2d"
           }
          ],
          "histogram2dcontour": [
           {
            "colorbar": {
             "outlinewidth": 0,
             "ticks": ""
            },
            "colorscale": [
             [
              0,
              "#0d0887"
             ],
             [
              0.1111111111111111,
              "#46039f"
             ],
             [
              0.2222222222222222,
              "#7201a8"
             ],
             [
              0.3333333333333333,
              "#9c179e"
             ],
             [
              0.4444444444444444,
              "#bd3786"
             ],
             [
              0.5555555555555556,
              "#d8576b"
             ],
             [
              0.6666666666666666,
              "#ed7953"
             ],
             [
              0.7777777777777778,
              "#fb9f3a"
             ],
             [
              0.8888888888888888,
              "#fdca26"
             ],
             [
              1,
              "#f0f921"
             ]
            ],
            "type": "histogram2dcontour"
           }
          ],
          "mesh3d": [
           {
            "colorbar": {
             "outlinewidth": 0,
             "ticks": ""
            },
            "type": "mesh3d"
           }
          ],
          "parcoords": [
           {
            "line": {
             "colorbar": {
              "outlinewidth": 0,
              "ticks": ""
             }
            },
            "type": "parcoords"
           }
          ],
          "pie": [
           {
            "automargin": true,
            "type": "pie"
           }
          ],
          "scatter": [
           {
            "fillpattern": {
             "fillmode": "overlay",
             "size": 10,
             "solidity": 0.2
            },
            "type": "scatter"
           }
          ],
          "scatter3d": [
           {
            "line": {
             "colorbar": {
              "outlinewidth": 0,
              "ticks": ""
             }
            },
            "marker": {
             "colorbar": {
              "outlinewidth": 0,
              "ticks": ""
             }
            },
            "type": "scatter3d"
           }
          ],
          "scattercarpet": [
           {
            "marker": {
             "colorbar": {
              "outlinewidth": 0,
              "ticks": ""
             }
            },
            "type": "scattercarpet"
           }
          ],
          "scattergeo": [
           {
            "marker": {
             "colorbar": {
              "outlinewidth": 0,
              "ticks": ""
             }
            },
            "type": "scattergeo"
           }
          ],
          "scattergl": [
           {
            "marker": {
             "colorbar": {
              "outlinewidth": 0,
              "ticks": ""
             }
            },
            "type": "scattergl"
           }
          ],
          "scattermapbox": [
           {
            "marker": {
             "colorbar": {
              "outlinewidth": 0,
              "ticks": ""
             }
            },
            "type": "scattermapbox"
           }
          ],
          "scatterpolar": [
           {
            "marker": {
             "colorbar": {
              "outlinewidth": 0,
              "ticks": ""
             }
            },
            "type": "scatterpolar"
           }
          ],
          "scatterpolargl": [
           {
            "marker": {
             "colorbar": {
              "outlinewidth": 0,
              "ticks": ""
             }
            },
            "type": "scatterpolargl"
           }
          ],
          "scatterternary": [
           {
            "marker": {
             "colorbar": {
              "outlinewidth": 0,
              "ticks": ""
             }
            },
            "type": "scatterternary"
           }
          ],
          "surface": [
           {
            "colorbar": {
             "outlinewidth": 0,
             "ticks": ""
            },
            "colorscale": [
             [
              0,
              "#0d0887"
             ],
             [
              0.1111111111111111,
              "#46039f"
             ],
             [
              0.2222222222222222,
              "#7201a8"
             ],
             [
              0.3333333333333333,
              "#9c179e"
             ],
             [
              0.4444444444444444,
              "#bd3786"
             ],
             [
              0.5555555555555556,
              "#d8576b"
             ],
             [
              0.6666666666666666,
              "#ed7953"
             ],
             [
              0.7777777777777778,
              "#fb9f3a"
             ],
             [
              0.8888888888888888,
              "#fdca26"
             ],
             [
              1,
              "#f0f921"
             ]
            ],
            "type": "surface"
           }
          ],
          "table": [
           {
            "cells": {
             "fill": {
              "color": "#EBF0F8"
             },
             "line": {
              "color": "white"
             }
            },
            "header": {
             "fill": {
              "color": "#C8D4E3"
             },
             "line": {
              "color": "white"
             }
            },
            "type": "table"
           }
          ]
         },
         "layout": {
          "annotationdefaults": {
           "arrowcolor": "#2a3f5f",
           "arrowhead": 0,
           "arrowwidth": 1
          },
          "autotypenumbers": "strict",
          "coloraxis": {
           "colorbar": {
            "outlinewidth": 0,
            "ticks": ""
           }
          },
          "colorscale": {
           "diverging": [
            [
             0,
             "#8e0152"
            ],
            [
             0.1,
             "#c51b7d"
            ],
            [
             0.2,
             "#de77ae"
            ],
            [
             0.3,
             "#f1b6da"
            ],
            [
             0.4,
             "#fde0ef"
            ],
            [
             0.5,
             "#f7f7f7"
            ],
            [
             0.6,
             "#e6f5d0"
            ],
            [
             0.7,
             "#b8e186"
            ],
            [
             0.8,
             "#7fbc41"
            ],
            [
             0.9,
             "#4d9221"
            ],
            [
             1,
             "#276419"
            ]
           ],
           "sequential": [
            [
             0,
             "#0d0887"
            ],
            [
             0.1111111111111111,
             "#46039f"
            ],
            [
             0.2222222222222222,
             "#7201a8"
            ],
            [
             0.3333333333333333,
             "#9c179e"
            ],
            [
             0.4444444444444444,
             "#bd3786"
            ],
            [
             0.5555555555555556,
             "#d8576b"
            ],
            [
             0.6666666666666666,
             "#ed7953"
            ],
            [
             0.7777777777777778,
             "#fb9f3a"
            ],
            [
             0.8888888888888888,
             "#fdca26"
            ],
            [
             1,
             "#f0f921"
            ]
           ],
           "sequentialminus": [
            [
             0,
             "#0d0887"
            ],
            [
             0.1111111111111111,
             "#46039f"
            ],
            [
             0.2222222222222222,
             "#7201a8"
            ],
            [
             0.3333333333333333,
             "#9c179e"
            ],
            [
             0.4444444444444444,
             "#bd3786"
            ],
            [
             0.5555555555555556,
             "#d8576b"
            ],
            [
             0.6666666666666666,
             "#ed7953"
            ],
            [
             0.7777777777777778,
             "#fb9f3a"
            ],
            [
             0.8888888888888888,
             "#fdca26"
            ],
            [
             1,
             "#f0f921"
            ]
           ]
          },
          "colorway": [
           "#636efa",
           "#EF553B",
           "#00cc96",
           "#ab63fa",
           "#FFA15A",
           "#19d3f3",
           "#FF6692",
           "#B6E880",
           "#FF97FF",
           "#FECB52"
          ],
          "font": {
           "color": "#2a3f5f"
          },
          "geo": {
           "bgcolor": "white",
           "lakecolor": "white",
           "landcolor": "#E5ECF6",
           "showlakes": true,
           "showland": true,
           "subunitcolor": "white"
          },
          "hoverlabel": {
           "align": "left"
          },
          "hovermode": "closest",
          "mapbox": {
           "style": "light"
          },
          "paper_bgcolor": "white",
          "plot_bgcolor": "#E5ECF6",
          "polar": {
           "angularaxis": {
            "gridcolor": "white",
            "linecolor": "white",
            "ticks": ""
           },
           "bgcolor": "#E5ECF6",
           "radialaxis": {
            "gridcolor": "white",
            "linecolor": "white",
            "ticks": ""
           }
          },
          "scene": {
           "xaxis": {
            "backgroundcolor": "#E5ECF6",
            "gridcolor": "white",
            "gridwidth": 2,
            "linecolor": "white",
            "showbackground": true,
            "ticks": "",
            "zerolinecolor": "white"
           },
           "yaxis": {
            "backgroundcolor": "#E5ECF6",
            "gridcolor": "white",
            "gridwidth": 2,
            "linecolor": "white",
            "showbackground": true,
            "ticks": "",
            "zerolinecolor": "white"
           },
           "zaxis": {
            "backgroundcolor": "#E5ECF6",
            "gridcolor": "white",
            "gridwidth": 2,
            "linecolor": "white",
            "showbackground": true,
            "ticks": "",
            "zerolinecolor": "white"
           }
          },
          "shapedefaults": {
           "line": {
            "color": "#2a3f5f"
           }
          },
          "ternary": {
           "aaxis": {
            "gridcolor": "white",
            "linecolor": "white",
            "ticks": ""
           },
           "baxis": {
            "gridcolor": "white",
            "linecolor": "white",
            "ticks": ""
           },
           "bgcolor": "#E5ECF6",
           "caxis": {
            "gridcolor": "white",
            "linecolor": "white",
            "ticks": ""
           }
          },
          "title": {
           "x": 0.05
          },
          "xaxis": {
           "automargin": true,
           "gridcolor": "white",
           "linecolor": "white",
           "ticks": "",
           "title": {
            "standoff": 15
           },
           "zerolinecolor": "white",
           "zerolinewidth": 2
          },
          "yaxis": {
           "automargin": true,
           "gridcolor": "white",
           "linecolor": "white",
           "ticks": "",
           "title": {
            "standoff": 15
           },
           "zerolinecolor": "white",
           "zerolinewidth": 2
          }
         }
        },
        "title": {
         "text": "Response Time (Desktop vs Mobile)"
        },
        "xaxis": {
         "anchor": "y",
         "domain": [
          0,
          1
         ],
         "title": {
          "text": "Desktop Response Time"
         }
        },
        "yaxis": {
         "anchor": "x",
         "domain": [
          0,
          1
         ],
         "title": {
          "text": "Mobile Response Time"
         }
        }
       }
      }
     },
     "metadata": {},
     "output_type": "display_data"
    }
   ],
   "source": [
    "fig1 = px.scatter(df_metrics, x=\"desktop_response_time\", y=\"mobile_response_time\", \n",
    "                  title='Response Time (Desktop vs Mobile)', labels={'desktop_response_time':'Desktop Response Time',\n",
    "                                                                      'mobile_response_time':'Mobile Response Time'})\n",
    "fig1.write_html(\"../../fam-report-site/public/Web-Analytics/response_time.html\")\n",
    "fig1.show()"
   ]
  },
  {
   "cell_type": "code",
   "execution_count": 21,
   "metadata": {},
   "outputs": [
    {
     "data": {
      "application/vnd.plotly.v1+json": {
       "config": {
        "plotlyServerURL": "https://plot.ly"
       },
       "data": [
        {
         "domain": {
          "x": [
           0,
           1
          ],
          "y": [
           0,
           1
          ]
         },
         "hole": 0.3,
         "hovertemplate": "is_mobile_friendly=%{label}<extra></extra>",
         "labels": [
          true,
          true,
          true,
          true,
          true,
          true,
          true,
          true,
          true,
          true,
          true,
          true,
          true,
          true,
          true,
          true,
          true,
          true,
          true,
          true,
          true,
          true,
          true,
          true,
          true,
          true,
          true,
          true,
          true,
          true,
          true,
          true,
          true,
          true,
          true,
          true,
          true,
          true,
          true,
          true,
          true,
          true,
          true,
          true,
          true,
          true,
          true,
          true,
          true,
          true,
          true,
          true,
          true,
          true,
          true,
          true,
          true,
          true,
          true,
          true,
          true,
          true,
          true,
          true,
          true,
          true,
          true,
          true,
          true,
          true,
          true,
          true,
          true,
          true,
          true,
          true,
          true,
          true,
          true,
          true,
          true,
          true,
          true,
          true,
          true,
          true,
          true,
          true,
          true,
          true,
          true,
          true,
          true,
          true,
          true,
          true,
          true,
          true,
          true,
          true,
          false,
          true,
          false,
          true,
          true,
          true,
          true,
          false,
          true,
          true,
          true,
          false,
          true,
          true,
          true,
          false,
          true,
          true,
          true,
          false,
          true,
          true,
          true,
          false,
          true,
          true,
          true,
          false,
          true,
          true,
          true,
          false,
          true,
          true,
          true,
          false,
          true,
          true,
          true,
          false,
          true,
          true,
          true,
          true,
          false,
          true,
          true,
          true,
          true,
          true,
          true,
          true,
          true,
          true,
          true,
          true,
          true,
          true,
          true,
          true,
          false,
          true,
          true,
          true,
          false,
          true,
          true,
          true,
          false,
          true,
          true,
          true,
          false,
          true,
          true,
          true,
          false,
          true,
          true,
          true,
          true,
          false,
          true,
          true,
          true,
          false,
          true,
          true,
          true,
          false,
          true,
          true,
          true,
          false,
          true,
          true,
          true,
          false,
          true,
          true,
          true,
          true,
          false,
          true,
          true,
          true,
          false,
          true,
          true,
          true,
          false,
          true,
          true,
          true,
          false,
          true,
          true,
          true,
          false,
          true,
          false,
          true,
          true,
          false,
          true,
          true,
          true,
          true,
          false,
          true,
          true,
          true,
          false,
          true,
          true,
          true,
          false,
          true,
          true,
          true,
          false,
          true,
          true,
          true,
          false,
          true,
          true,
          true,
          true,
          true,
          false,
          true,
          true,
          true,
          true,
          true,
          false,
          true,
          true,
          true,
          false,
          true,
          true,
          true,
          true,
          false,
          true,
          true,
          true,
          true,
          true,
          true,
          true,
          true,
          true,
          true,
          false,
          true,
          true,
          true,
          false,
          true,
          true,
          true,
          false,
          true,
          true,
          true,
          true,
          false,
          true,
          true,
          true,
          false,
          true,
          true,
          true,
          false,
          true,
          true,
          true,
          false,
          true,
          true,
          true,
          false,
          true,
          true,
          true,
          false,
          true,
          true,
          true,
          true,
          false,
          true,
          true,
          true,
          false,
          true,
          true,
          true,
          true,
          false,
          true,
          true,
          true,
          false,
          true,
          true,
          true,
          true,
          true,
          true,
          true,
          true,
          false,
          true,
          true,
          true,
          false,
          true,
          true,
          true,
          true,
          true,
          false,
          true,
          true,
          true,
          false,
          true,
          true,
          true,
          false,
          true,
          true,
          true,
          false,
          true,
          true,
          true,
          true,
          true,
          true,
          true,
          true,
          true,
          true,
          true,
          true,
          true,
          true,
          false,
          true,
          true,
          true,
          true,
          false,
          true,
          true,
          true,
          false,
          true,
          true,
          true,
          false,
          true,
          true,
          true,
          false,
          true,
          true,
          true,
          false,
          true,
          true,
          true,
          false,
          true,
          true,
          true,
          false,
          true,
          true,
          true,
          false,
          true,
          true,
          true,
          false,
          true,
          true,
          true,
          false,
          true,
          true,
          true,
          true,
          false,
          true,
          true,
          true,
          true,
          false,
          true,
          true,
          true,
          false,
          true,
          true,
          true,
          true,
          false,
          true,
          true,
          true,
          false,
          true,
          true,
          true,
          false,
          true,
          true,
          true,
          true,
          false,
          true,
          true,
          true,
          false,
          true,
          true,
          true,
          false,
          true,
          true,
          true,
          false,
          true,
          true,
          true,
          true,
          true,
          true,
          false,
          true,
          true,
          true,
          false,
          true,
          true,
          true,
          false,
          true,
          true,
          true,
          false,
          true,
          true,
          true,
          true,
          false,
          true,
          true,
          true,
          true,
          true,
          true,
          true,
          true,
          true,
          true,
          true,
          true,
          true,
          true,
          false,
          true,
          true,
          true,
          true,
          true,
          true,
          true,
          true,
          true,
          true,
          true,
          true,
          true,
          true,
          true,
          true,
          true,
          true,
          true,
          true,
          true,
          true,
          true,
          true,
          false
         ],
         "legendgroup": "",
         "name": "",
         "showlegend": true,
         "type": "pie"
        }
       ],
       "layout": {
        "legend": {
         "tracegroupgap": 0
        },
        "template": {
         "data": {
          "bar": [
           {
            "error_x": {
             "color": "#2a3f5f"
            },
            "error_y": {
             "color": "#2a3f5f"
            },
            "marker": {
             "line": {
              "color": "#E5ECF6",
              "width": 0.5
             },
             "pattern": {
              "fillmode": "overlay",
              "size": 10,
              "solidity": 0.2
             }
            },
            "type": "bar"
           }
          ],
          "barpolar": [
           {
            "marker": {
             "line": {
              "color": "#E5ECF6",
              "width": 0.5
             },
             "pattern": {
              "fillmode": "overlay",
              "size": 10,
              "solidity": 0.2
             }
            },
            "type": "barpolar"
           }
          ],
          "carpet": [
           {
            "aaxis": {
             "endlinecolor": "#2a3f5f",
             "gridcolor": "white",
             "linecolor": "white",
             "minorgridcolor": "white",
             "startlinecolor": "#2a3f5f"
            },
            "baxis": {
             "endlinecolor": "#2a3f5f",
             "gridcolor": "white",
             "linecolor": "white",
             "minorgridcolor": "white",
             "startlinecolor": "#2a3f5f"
            },
            "type": "carpet"
           }
          ],
          "choropleth": [
           {
            "colorbar": {
             "outlinewidth": 0,
             "ticks": ""
            },
            "type": "choropleth"
           }
          ],
          "contour": [
           {
            "colorbar": {
             "outlinewidth": 0,
             "ticks": ""
            },
            "colorscale": [
             [
              0,
              "#0d0887"
             ],
             [
              0.1111111111111111,
              "#46039f"
             ],
             [
              0.2222222222222222,
              "#7201a8"
             ],
             [
              0.3333333333333333,
              "#9c179e"
             ],
             [
              0.4444444444444444,
              "#bd3786"
             ],
             [
              0.5555555555555556,
              "#d8576b"
             ],
             [
              0.6666666666666666,
              "#ed7953"
             ],
             [
              0.7777777777777778,
              "#fb9f3a"
             ],
             [
              0.8888888888888888,
              "#fdca26"
             ],
             [
              1,
              "#f0f921"
             ]
            ],
            "type": "contour"
           }
          ],
          "contourcarpet": [
           {
            "colorbar": {
             "outlinewidth": 0,
             "ticks": ""
            },
            "type": "contourcarpet"
           }
          ],
          "heatmap": [
           {
            "colorbar": {
             "outlinewidth": 0,
             "ticks": ""
            },
            "colorscale": [
             [
              0,
              "#0d0887"
             ],
             [
              0.1111111111111111,
              "#46039f"
             ],
             [
              0.2222222222222222,
              "#7201a8"
             ],
             [
              0.3333333333333333,
              "#9c179e"
             ],
             [
              0.4444444444444444,
              "#bd3786"
             ],
             [
              0.5555555555555556,
              "#d8576b"
             ],
             [
              0.6666666666666666,
              "#ed7953"
             ],
             [
              0.7777777777777778,
              "#fb9f3a"
             ],
             [
              0.8888888888888888,
              "#fdca26"
             ],
             [
              1,
              "#f0f921"
             ]
            ],
            "type": "heatmap"
           }
          ],
          "heatmapgl": [
           {
            "colorbar": {
             "outlinewidth": 0,
             "ticks": ""
            },
            "colorscale": [
             [
              0,
              "#0d0887"
             ],
             [
              0.1111111111111111,
              "#46039f"
             ],
             [
              0.2222222222222222,
              "#7201a8"
             ],
             [
              0.3333333333333333,
              "#9c179e"
             ],
             [
              0.4444444444444444,
              "#bd3786"
             ],
             [
              0.5555555555555556,
              "#d8576b"
             ],
             [
              0.6666666666666666,
              "#ed7953"
             ],
             [
              0.7777777777777778,
              "#fb9f3a"
             ],
             [
              0.8888888888888888,
              "#fdca26"
             ],
             [
              1,
              "#f0f921"
             ]
            ],
            "type": "heatmapgl"
           }
          ],
          "histogram": [
           {
            "marker": {
             "pattern": {
              "fillmode": "overlay",
              "size": 10,
              "solidity": 0.2
             }
            },
            "type": "histogram"
           }
          ],
          "histogram2d": [
           {
            "colorbar": {
             "outlinewidth": 0,
             "ticks": ""
            },
            "colorscale": [
             [
              0,
              "#0d0887"
             ],
             [
              0.1111111111111111,
              "#46039f"
             ],
             [
              0.2222222222222222,
              "#7201a8"
             ],
             [
              0.3333333333333333,
              "#9c179e"
             ],
             [
              0.4444444444444444,
              "#bd3786"
             ],
             [
              0.5555555555555556,
              "#d8576b"
             ],
             [
              0.6666666666666666,
              "#ed7953"
             ],
             [
              0.7777777777777778,
              "#fb9f3a"
             ],
             [
              0.8888888888888888,
              "#fdca26"
             ],
             [
              1,
              "#f0f921"
             ]
            ],
            "type": "histogram2d"
           }
          ],
          "histogram2dcontour": [
           {
            "colorbar": {
             "outlinewidth": 0,
             "ticks": ""
            },
            "colorscale": [
             [
              0,
              "#0d0887"
             ],
             [
              0.1111111111111111,
              "#46039f"
             ],
             [
              0.2222222222222222,
              "#7201a8"
             ],
             [
              0.3333333333333333,
              "#9c179e"
             ],
             [
              0.4444444444444444,
              "#bd3786"
             ],
             [
              0.5555555555555556,
              "#d8576b"
             ],
             [
              0.6666666666666666,
              "#ed7953"
             ],
             [
              0.7777777777777778,
              "#fb9f3a"
             ],
             [
              0.8888888888888888,
              "#fdca26"
             ],
             [
              1,
              "#f0f921"
             ]
            ],
            "type": "histogram2dcontour"
           }
          ],
          "mesh3d": [
           {
            "colorbar": {
             "outlinewidth": 0,
             "ticks": ""
            },
            "type": "mesh3d"
           }
          ],
          "parcoords": [
           {
            "line": {
             "colorbar": {
              "outlinewidth": 0,
              "ticks": ""
             }
            },
            "type": "parcoords"
           }
          ],
          "pie": [
           {
            "automargin": true,
            "type": "pie"
           }
          ],
          "scatter": [
           {
            "fillpattern": {
             "fillmode": "overlay",
             "size": 10,
             "solidity": 0.2
            },
            "type": "scatter"
           }
          ],
          "scatter3d": [
           {
            "line": {
             "colorbar": {
              "outlinewidth": 0,
              "ticks": ""
             }
            },
            "marker": {
             "colorbar": {
              "outlinewidth": 0,
              "ticks": ""
             }
            },
            "type": "scatter3d"
           }
          ],
          "scattercarpet": [
           {
            "marker": {
             "colorbar": {
              "outlinewidth": 0,
              "ticks": ""
             }
            },
            "type": "scattercarpet"
           }
          ],
          "scattergeo": [
           {
            "marker": {
             "colorbar": {
              "outlinewidth": 0,
              "ticks": ""
             }
            },
            "type": "scattergeo"
           }
          ],
          "scattergl": [
           {
            "marker": {
             "colorbar": {
              "outlinewidth": 0,
              "ticks": ""
             }
            },
            "type": "scattergl"
           }
          ],
          "scattermapbox": [
           {
            "marker": {
             "colorbar": {
              "outlinewidth": 0,
              "ticks": ""
             }
            },
            "type": "scattermapbox"
           }
          ],
          "scatterpolar": [
           {
            "marker": {
             "colorbar": {
              "outlinewidth": 0,
              "ticks": ""
             }
            },
            "type": "scatterpolar"
           }
          ],
          "scatterpolargl": [
           {
            "marker": {
             "colorbar": {
              "outlinewidth": 0,
              "ticks": ""
             }
            },
            "type": "scatterpolargl"
           }
          ],
          "scatterternary": [
           {
            "marker": {
             "colorbar": {
              "outlinewidth": 0,
              "ticks": ""
             }
            },
            "type": "scatterternary"
           }
          ],
          "surface": [
           {
            "colorbar": {
             "outlinewidth": 0,
             "ticks": ""
            },
            "colorscale": [
             [
              0,
              "#0d0887"
             ],
             [
              0.1111111111111111,
              "#46039f"
             ],
             [
              0.2222222222222222,
              "#7201a8"
             ],
             [
              0.3333333333333333,
              "#9c179e"
             ],
             [
              0.4444444444444444,
              "#bd3786"
             ],
             [
              0.5555555555555556,
              "#d8576b"
             ],
             [
              0.6666666666666666,
              "#ed7953"
             ],
             [
              0.7777777777777778,
              "#fb9f3a"
             ],
             [
              0.8888888888888888,
              "#fdca26"
             ],
             [
              1,
              "#f0f921"
             ]
            ],
            "type": "surface"
           }
          ],
          "table": [
           {
            "cells": {
             "fill": {
              "color": "#EBF0F8"
             },
             "line": {
              "color": "white"
             }
            },
            "header": {
             "fill": {
              "color": "#C8D4E3"
             },
             "line": {
              "color": "white"
             }
            },
            "type": "table"
           }
          ]
         },
         "layout": {
          "annotationdefaults": {
           "arrowcolor": "#2a3f5f",
           "arrowhead": 0,
           "arrowwidth": 1
          },
          "autotypenumbers": "strict",
          "coloraxis": {
           "colorbar": {
            "outlinewidth": 0,
            "ticks": ""
           }
          },
          "colorscale": {
           "diverging": [
            [
             0,
             "#8e0152"
            ],
            [
             0.1,
             "#c51b7d"
            ],
            [
             0.2,
             "#de77ae"
            ],
            [
             0.3,
             "#f1b6da"
            ],
            [
             0.4,
             "#fde0ef"
            ],
            [
             0.5,
             "#f7f7f7"
            ],
            [
             0.6,
             "#e6f5d0"
            ],
            [
             0.7,
             "#b8e186"
            ],
            [
             0.8,
             "#7fbc41"
            ],
            [
             0.9,
             "#4d9221"
            ],
            [
             1,
             "#276419"
            ]
           ],
           "sequential": [
            [
             0,
             "#0d0887"
            ],
            [
             0.1111111111111111,
             "#46039f"
            ],
            [
             0.2222222222222222,
             "#7201a8"
            ],
            [
             0.3333333333333333,
             "#9c179e"
            ],
            [
             0.4444444444444444,
             "#bd3786"
            ],
            [
             0.5555555555555556,
             "#d8576b"
            ],
            [
             0.6666666666666666,
             "#ed7953"
            ],
            [
             0.7777777777777778,
             "#fb9f3a"
            ],
            [
             0.8888888888888888,
             "#fdca26"
            ],
            [
             1,
             "#f0f921"
            ]
           ],
           "sequentialminus": [
            [
             0,
             "#0d0887"
            ],
            [
             0.1111111111111111,
             "#46039f"
            ],
            [
             0.2222222222222222,
             "#7201a8"
            ],
            [
             0.3333333333333333,
             "#9c179e"
            ],
            [
             0.4444444444444444,
             "#bd3786"
            ],
            [
             0.5555555555555556,
             "#d8576b"
            ],
            [
             0.6666666666666666,
             "#ed7953"
            ],
            [
             0.7777777777777778,
             "#fb9f3a"
            ],
            [
             0.8888888888888888,
             "#fdca26"
            ],
            [
             1,
             "#f0f921"
            ]
           ]
          },
          "colorway": [
           "#636efa",
           "#EF553B",
           "#00cc96",
           "#ab63fa",
           "#FFA15A",
           "#19d3f3",
           "#FF6692",
           "#B6E880",
           "#FF97FF",
           "#FECB52"
          ],
          "font": {
           "color": "#2a3f5f"
          },
          "geo": {
           "bgcolor": "white",
           "lakecolor": "white",
           "landcolor": "#E5ECF6",
           "showlakes": true,
           "showland": true,
           "subunitcolor": "white"
          },
          "hoverlabel": {
           "align": "left"
          },
          "hovermode": "closest",
          "mapbox": {
           "style": "light"
          },
          "paper_bgcolor": "white",
          "plot_bgcolor": "#E5ECF6",
          "polar": {
           "angularaxis": {
            "gridcolor": "white",
            "linecolor": "white",
            "ticks": ""
           },
           "bgcolor": "#E5ECF6",
           "radialaxis": {
            "gridcolor": "white",
            "linecolor": "white",
            "ticks": ""
           }
          },
          "scene": {
           "xaxis": {
            "backgroundcolor": "#E5ECF6",
            "gridcolor": "white",
            "gridwidth": 2,
            "linecolor": "white",
            "showbackground": true,
            "ticks": "",
            "zerolinecolor": "white"
           },
           "yaxis": {
            "backgroundcolor": "#E5ECF6",
            "gridcolor": "white",
            "gridwidth": 2,
            "linecolor": "white",
            "showbackground": true,
            "ticks": "",
            "zerolinecolor": "white"
           },
           "zaxis": {
            "backgroundcolor": "#E5ECF6",
            "gridcolor": "white",
            "gridwidth": 2,
            "linecolor": "white",
            "showbackground": true,
            "ticks": "",
            "zerolinecolor": "white"
           }
          },
          "shapedefaults": {
           "line": {
            "color": "#2a3f5f"
           }
          },
          "ternary": {
           "aaxis": {
            "gridcolor": "white",
            "linecolor": "white",
            "ticks": ""
           },
           "baxis": {
            "gridcolor": "white",
            "linecolor": "white",
            "ticks": ""
           },
           "bgcolor": "#E5ECF6",
           "caxis": {
            "gridcolor": "white",
            "linecolor": "white",
            "ticks": ""
           }
          },
          "title": {
           "x": 0.05
          },
          "xaxis": {
           "automargin": true,
           "gridcolor": "white",
           "linecolor": "white",
           "ticks": "",
           "title": {
            "standoff": 15
           },
           "zerolinecolor": "white",
           "zerolinewidth": 2
          },
          "yaxis": {
           "automargin": true,
           "gridcolor": "white",
           "linecolor": "white",
           "ticks": "",
           "title": {
            "standoff": 15
           },
           "zerolinecolor": "white",
           "zerolinewidth": 2
          }
         }
        },
        "title": {
         "text": "Mobile-friendly Websites Distribution"
        }
       }
      }
     },
     "metadata": {},
     "output_type": "display_data"
    }
   ],
   "source": [
    "# Plot 3: Donut Chart for Distribution of Mobile-friendly websites\n",
    "fig3 = px.pie(df_metrics, names='is_mobile_friendly', title='Mobile-friendly Websites Distribution', hole=0.3)\n",
    "fig3.write_html(\"../../fam-report-site/public/Web-Analytics/mobile_friendly.html\")\n",
    "fig3.show()"
   ]
  },
  {
   "cell_type": "code",
   "execution_count": 10,
   "metadata": {},
   "outputs": [],
   "source": [
    "# Define a function to calculate Levenshtein distance ratio\n",
    "def similarity_ratio(s1, s2):\n",
    "    if isinstance(s1, str) and isinstance(s2, str):\n",
    "        max_len = max(len(s1), len(s2))\n",
    "        return (max_len - distance(s1, s2)) / max_len\n",
    "    else:\n",
    "        return 0\n",
    "\n",
    "# Compute similarity between desktop and mobile versions\n",
    "df_metrics['title_similarity'] = df_metrics.apply(lambda x: similarity_ratio(x['desktop_title'], x['mobile_title']), axis=1)\n",
    "df_metrics['description_similarity'] = df_metrics.apply(lambda x: similarity_ratio(x['desktop_description'], x['mobile_description']), axis=1)"
   ]
  },
  {
   "cell_type": "code",
   "execution_count": 11,
   "metadata": {},
   "outputs": [
    {
     "data": {
      "application/vnd.plotly.v1+json": {
       "config": {
        "plotlyServerURL": "https://plot.ly"
       },
       "data": [
        {
         "alignmentgroup": "True",
         "bingroup": "x",
         "hovertemplate": "title_similarity=%{x}<br>count=%{y}<extra></extra>",
         "legendgroup": "",
         "marker": {
          "color": "#636efa",
          "pattern": {
           "shape": ""
          }
         },
         "name": "",
         "nbinsx": 50,
         "offsetgroup": "",
         "orientation": "v",
         "showlegend": false,
         "type": "histogram",
         "x": [
          1,
          1,
          1,
          1,
          1,
          1,
          1,
          1,
          1,
          1,
          1,
          1,
          1,
          1,
          1,
          1,
          1,
          1,
          1,
          1,
          1,
          1,
          1,
          1,
          1,
          1,
          1,
          1,
          1,
          1,
          1,
          1,
          1,
          1,
          1,
          1,
          1,
          1,
          1,
          1,
          1,
          1,
          1,
          1,
          1,
          1,
          1,
          1,
          1,
          1,
          1,
          1,
          1,
          1,
          1,
          1,
          1,
          1,
          1,
          1,
          1,
          1,
          1,
          1,
          1,
          1,
          1,
          1,
          1,
          1,
          1,
          1,
          1,
          1,
          1,
          1,
          1,
          1,
          1,
          1,
          1,
          1,
          1,
          1,
          1,
          1,
          1,
          1,
          1,
          1,
          1,
          1,
          1,
          1,
          1,
          1,
          1,
          1,
          1,
          1,
          0.22857142857142856,
          0,
          0,
          1,
          1,
          1,
          1,
          0.22857142857142856,
          0,
          1,
          1,
          0.22857142857142856,
          0,
          1,
          1,
          0.22857142857142856,
          0,
          1,
          1,
          0.22857142857142856,
          0,
          1,
          1,
          0.22857142857142856,
          0,
          1,
          1,
          0.22857142857142856,
          0,
          1,
          1,
          0.22857142857142856,
          0,
          1,
          1,
          0.22857142857142856,
          0,
          1,
          1,
          0.22857142857142856,
          0,
          1,
          1,
          0.34615384615384615,
          0,
          1,
          0.25,
          1,
          1,
          1,
          1,
          1,
          1,
          1,
          1,
          1,
          1,
          1,
          1,
          1,
          0.22857142857142856,
          0,
          1,
          1,
          0.22857142857142856,
          0,
          1,
          1,
          0.22857142857142856,
          0,
          1,
          1,
          0.22857142857142856,
          0,
          1,
          1,
          0.22857142857142856,
          0,
          1,
          1,
          1,
          0.22857142857142856,
          0,
          1,
          1,
          0.22857142857142856,
          0,
          1,
          1,
          0.22857142857142856,
          0,
          1,
          1,
          0.22857142857142856,
          0,
          1,
          1,
          0.22857142857142856,
          0,
          1,
          1,
          1,
          0.22857142857142856,
          0,
          1,
          1,
          0.22857142857142856,
          0,
          1,
          1,
          0.22857142857142856,
          0,
          1,
          1,
          0.22857142857142856,
          0,
          1,
          1,
          0.22857142857142856,
          0,
          0,
          1,
          1,
          0.22857142857142856,
          0,
          1,
          1,
          1,
          0.22857142857142856,
          0,
          1,
          1,
          0.22857142857142856,
          0,
          1,
          1,
          0.22857142857142856,
          0,
          1,
          1,
          0.22857142857142856,
          0,
          1,
          1,
          0.22857142857142856,
          0,
          1,
          1,
          1,
          1,
          0.22857142857142856,
          0,
          1,
          1,
          1,
          1,
          0.22857142857142856,
          0,
          1,
          1,
          0.22857142857142856,
          0,
          0.17307692307692307,
          1,
          1,
          0.22857142857142856,
          0,
          1,
          1,
          1,
          1,
          1,
          1,
          1,
          1,
          1,
          0.22857142857142856,
          0,
          1,
          1,
          0.22857142857142856,
          0,
          1,
          1,
          0.22857142857142856,
          0,
          1,
          1,
          1,
          0.22857142857142856,
          0,
          1,
          1,
          0.22857142857142856,
          0,
          1,
          1,
          0.22857142857142856,
          0,
          1,
          1,
          0.22857142857142856,
          0,
          1,
          1,
          0.22857142857142856,
          0,
          1,
          1,
          0.22857142857142856,
          0,
          0,
          1,
          1,
          0.22857142857142856,
          0,
          1,
          1,
          0.22857142857142856,
          0,
          1,
          1,
          1,
          0.22857142857142856,
          0,
          1,
          1,
          0.22857142857142856,
          0,
          1,
          1,
          1,
          1,
          1,
          1,
          1,
          0.22857142857142856,
          0,
          1,
          1,
          0.22857142857142856,
          0,
          1,
          1,
          1,
          1,
          0.22857142857142856,
          0,
          1,
          1,
          0.22857142857142856,
          0,
          1,
          1,
          0.22857142857142856,
          0,
          1,
          1,
          0.22857142857142856,
          0,
          1,
          1,
          1,
          1,
          1,
          1,
          1,
          1,
          1,
          1,
          1,
          1,
          1,
          0.22857142857142856,
          0,
          1,
          1,
          1,
          0.22857142857142856,
          0,
          1,
          1,
          0.22857142857142856,
          0,
          1,
          1,
          0.22857142857142856,
          0,
          1,
          1,
          0.22857142857142856,
          0,
          1,
          1,
          0.22857142857142856,
          0,
          1,
          1,
          0.22857142857142856,
          0,
          1,
          1,
          0.22857142857142856,
          0,
          1,
          1,
          0.22857142857142856,
          0,
          1,
          1,
          0.22857142857142856,
          0,
          1,
          1,
          0.22857142857142856,
          0,
          1,
          1,
          1,
          0.22857142857142856,
          0,
          1,
          1,
          1,
          0.22857142857142856,
          0,
          1,
          1,
          0.22857142857142856,
          0,
          1,
          1,
          1,
          0.22857142857142856,
          0,
          1,
          1,
          0.22857142857142856,
          0,
          1,
          1,
          0.22857142857142856,
          0,
          1,
          1,
          1,
          0.22857142857142856,
          0,
          1,
          1,
          0.22857142857142856,
          0,
          1,
          1,
          0.22857142857142856,
          0,
          1,
          1,
          0.22857142857142856,
          0,
          1,
          1,
          1,
          1,
          1,
          0.22857142857142856,
          0,
          1,
          1,
          0.22857142857142856,
          0,
          1,
          1,
          0.22857142857142856,
          0,
          1,
          1,
          0.22857142857142856,
          0,
          1,
          1,
          1,
          0.22857142857142856,
          0,
          1,
          1,
          1,
          1,
          1,
          1,
          1,
          1,
          1,
          1,
          1,
          1,
          1,
          0.22857142857142856,
          0,
          1,
          1,
          1,
          1,
          1,
          1,
          1,
          1,
          1,
          1,
          1,
          1,
          1,
          1,
          1,
          1,
          1,
          1,
          1,
          1,
          1,
          1,
          0.1836734693877551,
          0
         ],
         "xaxis": "x",
         "yaxis": "y"
        }
       ],
       "layout": {
        "barmode": "relative",
        "legend": {
         "tracegroupgap": 0
        },
        "template": {
         "data": {
          "bar": [
           {
            "error_x": {
             "color": "#2a3f5f"
            },
            "error_y": {
             "color": "#2a3f5f"
            },
            "marker": {
             "line": {
              "color": "#E5ECF6",
              "width": 0.5
             },
             "pattern": {
              "fillmode": "overlay",
              "size": 10,
              "solidity": 0.2
             }
            },
            "type": "bar"
           }
          ],
          "barpolar": [
           {
            "marker": {
             "line": {
              "color": "#E5ECF6",
              "width": 0.5
             },
             "pattern": {
              "fillmode": "overlay",
              "size": 10,
              "solidity": 0.2
             }
            },
            "type": "barpolar"
           }
          ],
          "carpet": [
           {
            "aaxis": {
             "endlinecolor": "#2a3f5f",
             "gridcolor": "white",
             "linecolor": "white",
             "minorgridcolor": "white",
             "startlinecolor": "#2a3f5f"
            },
            "baxis": {
             "endlinecolor": "#2a3f5f",
             "gridcolor": "white",
             "linecolor": "white",
             "minorgridcolor": "white",
             "startlinecolor": "#2a3f5f"
            },
            "type": "carpet"
           }
          ],
          "choropleth": [
           {
            "colorbar": {
             "outlinewidth": 0,
             "ticks": ""
            },
            "type": "choropleth"
           }
          ],
          "contour": [
           {
            "colorbar": {
             "outlinewidth": 0,
             "ticks": ""
            },
            "colorscale": [
             [
              0,
              "#0d0887"
             ],
             [
              0.1111111111111111,
              "#46039f"
             ],
             [
              0.2222222222222222,
              "#7201a8"
             ],
             [
              0.3333333333333333,
              "#9c179e"
             ],
             [
              0.4444444444444444,
              "#bd3786"
             ],
             [
              0.5555555555555556,
              "#d8576b"
             ],
             [
              0.6666666666666666,
              "#ed7953"
             ],
             [
              0.7777777777777778,
              "#fb9f3a"
             ],
             [
              0.8888888888888888,
              "#fdca26"
             ],
             [
              1,
              "#f0f921"
             ]
            ],
            "type": "contour"
           }
          ],
          "contourcarpet": [
           {
            "colorbar": {
             "outlinewidth": 0,
             "ticks": ""
            },
            "type": "contourcarpet"
           }
          ],
          "heatmap": [
           {
            "colorbar": {
             "outlinewidth": 0,
             "ticks": ""
            },
            "colorscale": [
             [
              0,
              "#0d0887"
             ],
             [
              0.1111111111111111,
              "#46039f"
             ],
             [
              0.2222222222222222,
              "#7201a8"
             ],
             [
              0.3333333333333333,
              "#9c179e"
             ],
             [
              0.4444444444444444,
              "#bd3786"
             ],
             [
              0.5555555555555556,
              "#d8576b"
             ],
             [
              0.6666666666666666,
              "#ed7953"
             ],
             [
              0.7777777777777778,
              "#fb9f3a"
             ],
             [
              0.8888888888888888,
              "#fdca26"
             ],
             [
              1,
              "#f0f921"
             ]
            ],
            "type": "heatmap"
           }
          ],
          "heatmapgl": [
           {
            "colorbar": {
             "outlinewidth": 0,
             "ticks": ""
            },
            "colorscale": [
             [
              0,
              "#0d0887"
             ],
             [
              0.1111111111111111,
              "#46039f"
             ],
             [
              0.2222222222222222,
              "#7201a8"
             ],
             [
              0.3333333333333333,
              "#9c179e"
             ],
             [
              0.4444444444444444,
              "#bd3786"
             ],
             [
              0.5555555555555556,
              "#d8576b"
             ],
             [
              0.6666666666666666,
              "#ed7953"
             ],
             [
              0.7777777777777778,
              "#fb9f3a"
             ],
             [
              0.8888888888888888,
              "#fdca26"
             ],
             [
              1,
              "#f0f921"
             ]
            ],
            "type": "heatmapgl"
           }
          ],
          "histogram": [
           {
            "marker": {
             "pattern": {
              "fillmode": "overlay",
              "size": 10,
              "solidity": 0.2
             }
            },
            "type": "histogram"
           }
          ],
          "histogram2d": [
           {
            "colorbar": {
             "outlinewidth": 0,
             "ticks": ""
            },
            "colorscale": [
             [
              0,
              "#0d0887"
             ],
             [
              0.1111111111111111,
              "#46039f"
             ],
             [
              0.2222222222222222,
              "#7201a8"
             ],
             [
              0.3333333333333333,
              "#9c179e"
             ],
             [
              0.4444444444444444,
              "#bd3786"
             ],
             [
              0.5555555555555556,
              "#d8576b"
             ],
             [
              0.6666666666666666,
              "#ed7953"
             ],
             [
              0.7777777777777778,
              "#fb9f3a"
             ],
             [
              0.8888888888888888,
              "#fdca26"
             ],
             [
              1,
              "#f0f921"
             ]
            ],
            "type": "histogram2d"
           }
          ],
          "histogram2dcontour": [
           {
            "colorbar": {
             "outlinewidth": 0,
             "ticks": ""
            },
            "colorscale": [
             [
              0,
              "#0d0887"
             ],
             [
              0.1111111111111111,
              "#46039f"
             ],
             [
              0.2222222222222222,
              "#7201a8"
             ],
             [
              0.3333333333333333,
              "#9c179e"
             ],
             [
              0.4444444444444444,
              "#bd3786"
             ],
             [
              0.5555555555555556,
              "#d8576b"
             ],
             [
              0.6666666666666666,
              "#ed7953"
             ],
             [
              0.7777777777777778,
              "#fb9f3a"
             ],
             [
              0.8888888888888888,
              "#fdca26"
             ],
             [
              1,
              "#f0f921"
             ]
            ],
            "type": "histogram2dcontour"
           }
          ],
          "mesh3d": [
           {
            "colorbar": {
             "outlinewidth": 0,
             "ticks": ""
            },
            "type": "mesh3d"
           }
          ],
          "parcoords": [
           {
            "line": {
             "colorbar": {
              "outlinewidth": 0,
              "ticks": ""
             }
            },
            "type": "parcoords"
           }
          ],
          "pie": [
           {
            "automargin": true,
            "type": "pie"
           }
          ],
          "scatter": [
           {
            "fillpattern": {
             "fillmode": "overlay",
             "size": 10,
             "solidity": 0.2
            },
            "type": "scatter"
           }
          ],
          "scatter3d": [
           {
            "line": {
             "colorbar": {
              "outlinewidth": 0,
              "ticks": ""
             }
            },
            "marker": {
             "colorbar": {
              "outlinewidth": 0,
              "ticks": ""
             }
            },
            "type": "scatter3d"
           }
          ],
          "scattercarpet": [
           {
            "marker": {
             "colorbar": {
              "outlinewidth": 0,
              "ticks": ""
             }
            },
            "type": "scattercarpet"
           }
          ],
          "scattergeo": [
           {
            "marker": {
             "colorbar": {
              "outlinewidth": 0,
              "ticks": ""
             }
            },
            "type": "scattergeo"
           }
          ],
          "scattergl": [
           {
            "marker": {
             "colorbar": {
              "outlinewidth": 0,
              "ticks": ""
             }
            },
            "type": "scattergl"
           }
          ],
          "scattermapbox": [
           {
            "marker": {
             "colorbar": {
              "outlinewidth": 0,
              "ticks": ""
             }
            },
            "type": "scattermapbox"
           }
          ],
          "scatterpolar": [
           {
            "marker": {
             "colorbar": {
              "outlinewidth": 0,
              "ticks": ""
             }
            },
            "type": "scatterpolar"
           }
          ],
          "scatterpolargl": [
           {
            "marker": {
             "colorbar": {
              "outlinewidth": 0,
              "ticks": ""
             }
            },
            "type": "scatterpolargl"
           }
          ],
          "scatterternary": [
           {
            "marker": {
             "colorbar": {
              "outlinewidth": 0,
              "ticks": ""
             }
            },
            "type": "scatterternary"
           }
          ],
          "surface": [
           {
            "colorbar": {
             "outlinewidth": 0,
             "ticks": ""
            },
            "colorscale": [
             [
              0,
              "#0d0887"
             ],
             [
              0.1111111111111111,
              "#46039f"
             ],
             [
              0.2222222222222222,
              "#7201a8"
             ],
             [
              0.3333333333333333,
              "#9c179e"
             ],
             [
              0.4444444444444444,
              "#bd3786"
             ],
             [
              0.5555555555555556,
              "#d8576b"
             ],
             [
              0.6666666666666666,
              "#ed7953"
             ],
             [
              0.7777777777777778,
              "#fb9f3a"
             ],
             [
              0.8888888888888888,
              "#fdca26"
             ],
             [
              1,
              "#f0f921"
             ]
            ],
            "type": "surface"
           }
          ],
          "table": [
           {
            "cells": {
             "fill": {
              "color": "#EBF0F8"
             },
             "line": {
              "color": "white"
             }
            },
            "header": {
             "fill": {
              "color": "#C8D4E3"
             },
             "line": {
              "color": "white"
             }
            },
            "type": "table"
           }
          ]
         },
         "layout": {
          "annotationdefaults": {
           "arrowcolor": "#2a3f5f",
           "arrowhead": 0,
           "arrowwidth": 1
          },
          "autotypenumbers": "strict",
          "coloraxis": {
           "colorbar": {
            "outlinewidth": 0,
            "ticks": ""
           }
          },
          "colorscale": {
           "diverging": [
            [
             0,
             "#8e0152"
            ],
            [
             0.1,
             "#c51b7d"
            ],
            [
             0.2,
             "#de77ae"
            ],
            [
             0.3,
             "#f1b6da"
            ],
            [
             0.4,
             "#fde0ef"
            ],
            [
             0.5,
             "#f7f7f7"
            ],
            [
             0.6,
             "#e6f5d0"
            ],
            [
             0.7,
             "#b8e186"
            ],
            [
             0.8,
             "#7fbc41"
            ],
            [
             0.9,
             "#4d9221"
            ],
            [
             1,
             "#276419"
            ]
           ],
           "sequential": [
            [
             0,
             "#0d0887"
            ],
            [
             0.1111111111111111,
             "#46039f"
            ],
            [
             0.2222222222222222,
             "#7201a8"
            ],
            [
             0.3333333333333333,
             "#9c179e"
            ],
            [
             0.4444444444444444,
             "#bd3786"
            ],
            [
             0.5555555555555556,
             "#d8576b"
            ],
            [
             0.6666666666666666,
             "#ed7953"
            ],
            [
             0.7777777777777778,
             "#fb9f3a"
            ],
            [
             0.8888888888888888,
             "#fdca26"
            ],
            [
             1,
             "#f0f921"
            ]
           ],
           "sequentialminus": [
            [
             0,
             "#0d0887"
            ],
            [
             0.1111111111111111,
             "#46039f"
            ],
            [
             0.2222222222222222,
             "#7201a8"
            ],
            [
             0.3333333333333333,
             "#9c179e"
            ],
            [
             0.4444444444444444,
             "#bd3786"
            ],
            [
             0.5555555555555556,
             "#d8576b"
            ],
            [
             0.6666666666666666,
             "#ed7953"
            ],
            [
             0.7777777777777778,
             "#fb9f3a"
            ],
            [
             0.8888888888888888,
             "#fdca26"
            ],
            [
             1,
             "#f0f921"
            ]
           ]
          },
          "colorway": [
           "#636efa",
           "#EF553B",
           "#00cc96",
           "#ab63fa",
           "#FFA15A",
           "#19d3f3",
           "#FF6692",
           "#B6E880",
           "#FF97FF",
           "#FECB52"
          ],
          "font": {
           "color": "#2a3f5f"
          },
          "geo": {
           "bgcolor": "white",
           "lakecolor": "white",
           "landcolor": "#E5ECF6",
           "showlakes": true,
           "showland": true,
           "subunitcolor": "white"
          },
          "hoverlabel": {
           "align": "left"
          },
          "hovermode": "closest",
          "mapbox": {
           "style": "light"
          },
          "paper_bgcolor": "white",
          "plot_bgcolor": "#E5ECF6",
          "polar": {
           "angularaxis": {
            "gridcolor": "white",
            "linecolor": "white",
            "ticks": ""
           },
           "bgcolor": "#E5ECF6",
           "radialaxis": {
            "gridcolor": "white",
            "linecolor": "white",
            "ticks": ""
           }
          },
          "scene": {
           "xaxis": {
            "backgroundcolor": "#E5ECF6",
            "gridcolor": "white",
            "gridwidth": 2,
            "linecolor": "white",
            "showbackground": true,
            "ticks": "",
            "zerolinecolor": "white"
           },
           "yaxis": {
            "backgroundcolor": "#E5ECF6",
            "gridcolor": "white",
            "gridwidth": 2,
            "linecolor": "white",
            "showbackground": true,
            "ticks": "",
            "zerolinecolor": "white"
           },
           "zaxis": {
            "backgroundcolor": "#E5ECF6",
            "gridcolor": "white",
            "gridwidth": 2,
            "linecolor": "white",
            "showbackground": true,
            "ticks": "",
            "zerolinecolor": "white"
           }
          },
          "shapedefaults": {
           "line": {
            "color": "#2a3f5f"
           }
          },
          "ternary": {
           "aaxis": {
            "gridcolor": "white",
            "linecolor": "white",
            "ticks": ""
           },
           "baxis": {
            "gridcolor": "white",
            "linecolor": "white",
            "ticks": ""
           },
           "bgcolor": "#E5ECF6",
           "caxis": {
            "gridcolor": "white",
            "linecolor": "white",
            "ticks": ""
           }
          },
          "title": {
           "x": 0.05
          },
          "xaxis": {
           "automargin": true,
           "gridcolor": "white",
           "linecolor": "white",
           "ticks": "",
           "title": {
            "standoff": 15
           },
           "zerolinecolor": "white",
           "zerolinewidth": 2
          },
          "yaxis": {
           "automargin": true,
           "gridcolor": "white",
           "linecolor": "white",
           "ticks": "",
           "title": {
            "standoff": 15
           },
           "zerolinecolor": "white",
           "zerolinewidth": 2
          }
         }
        },
        "title": {
         "text": "Title Tag Similarity (Desktop vs Mobile)"
        },
        "xaxis": {
         "anchor": "y",
         "domain": [
          0,
          1
         ],
         "title": {
          "text": "Similarity Ratio"
         }
        },
        "yaxis": {
         "anchor": "x",
         "domain": [
          0,
          1
         ],
         "title": {
          "text": "Count"
         }
        }
       }
      }
     },
     "metadata": {},
     "output_type": "display_data"
    }
   ],
   "source": [
    "# Plot 4: Title Similarity\n",
    "fig4 = px.histogram(df_metrics, x='title_similarity', nbins=50, title='Title Tag Similarity (Desktop vs Mobile)')\n",
    "fig4.update_xaxes(title_text='Similarity Ratio')\n",
    "fig4.update_yaxes(title_text='Count')\n",
    "fig4.write_html(\"../../fam-report-site/public/Web-Analytics/title_similarity.html\")\n",
    "fig4.show()"
   ]
  },
  {
   "cell_type": "code",
   "execution_count": 28,
   "metadata": {},
   "outputs": [],
   "source": [
    "# Ensure the response times are numeric\n",
    "df_metrics['desktop_response_time'] = pd.to_numeric(df_metrics['desktop_response_time'], errors='coerce')\n",
    "df_metrics['mobile_response_time'] = pd.to_numeric(df_metrics['mobile_response_time'], errors='coerce')\n",
    "\n",
    "# Then compute the difference\n",
    "df_metrics['response_time_difference'] = abs(df_metrics['desktop_response_time'] - df_metrics['mobile_response_time'])"
   ]
  },
  {
   "cell_type": "code",
   "execution_count": 31,
   "metadata": {},
   "outputs": [
    {
     "data": {
      "text/html": [
       "<div>\n",
       "<style scoped>\n",
       "    .dataframe tbody tr th:only-of-type {\n",
       "        vertical-align: middle;\n",
       "    }\n",
       "\n",
       "    .dataframe tbody tr th {\n",
       "        vertical-align: top;\n",
       "    }\n",
       "\n",
       "    .dataframe thead th {\n",
       "        text-align: right;\n",
       "    }\n",
       "</style>\n",
       "<table border=\"1\" class=\"dataframe\">\n",
       "  <thead>\n",
       "    <tr style=\"text-align: right;\">\n",
       "      <th></th>\n",
       "      <th>url</th>\n",
       "      <th>desktop_response_time</th>\n",
       "      <th>mobile_response_time</th>\n",
       "      <th>desktop_http_status</th>\n",
       "      <th>mobile_http_status</th>\n",
       "      <th>desktop_title</th>\n",
       "      <th>mobile_title</th>\n",
       "      <th>desktop_description</th>\n",
       "      <th>mobile_description</th>\n",
       "      <th>is_mobile_friendly</th>\n",
       "      <th>title_similarity</th>\n",
       "      <th>description_similarity</th>\n",
       "      <th>response_time_difference</th>\n",
       "    </tr>\n",
       "  </thead>\n",
       "  <tbody>\n",
       "    <tr>\n",
       "      <th>522</th>\n",
       "      <td>https://www.linkedin.com/company/famindia/</td>\n",
       "      <td>0.498417</td>\n",
       "      <td>0.951617</td>\n",
       "      <td>429</td>\n",
       "      <td>999</td>\n",
       "      <td>NaN</td>\n",
       "      <td>NaN</td>\n",
       "      <td>NaN</td>\n",
       "      <td>NaN</td>\n",
       "      <td>False</td>\n",
       "      <td>0.0</td>\n",
       "      <td>0.0</td>\n",
       "      <td>0.4532</td>\n",
       "    </tr>\n",
       "  </tbody>\n",
       "</table>\n",
       "</div>"
      ],
      "text/plain": [
       "                                            url  desktop_response_time  \\\n",
       "522  https://www.linkedin.com/company/famindia/               0.498417   \n",
       "\n",
       "     mobile_response_time  desktop_http_status  mobile_http_status  \\\n",
       "522              0.951617                  429                 999   \n",
       "\n",
       "    desktop_title mobile_title desktop_description mobile_description  \\\n",
       "522           NaN          NaN                 NaN                NaN   \n",
       "\n",
       "     is_mobile_friendly  title_similarity  description_similarity  \\\n",
       "522               False               0.0                     0.0   \n",
       "\n",
       "     response_time_difference  \n",
       "522                    0.4532  "
      ]
     },
     "execution_count": 31,
     "metadata": {},
     "output_type": "execute_result"
    }
   ],
   "source": [
    "# Observation 1: Variation in HTTP Status Codes\n",
    "status_diff_df = df_metrics[df_metrics['desktop_http_status'] != df_metrics['mobile_http_status']]\n",
    "status_diff_df"
   ]
  },
  {
   "cell_type": "code",
   "execution_count": 34,
   "metadata": {},
   "outputs": [
    {
     "name": "stdout",
     "output_type": "stream",
     "text": [
      "Websites with different title for desktop and mobile:\n",
      "                                                   url  desktop_response_time  \\\n",
      "100  https://www.facebook.com/sharer/sharer.php?u=h...               0.431044   \n",
      "101  https://twitter.com/intent/tweet?text=How%20to...               1.063523   \n",
      "102                    https://facebook.com/fampay.in/               0.664518   \n",
      "107  https://www.facebook.com/sharer/sharer.php?u=h...               0.338678   \n",
      "108  https://twitter.com/intent/tweet?text=Discover...               1.009599   \n",
      "..                                                 ...                    ...   \n",
      "483  https://twitter.com/intent/tweet?text=How%20a%...               1.099900   \n",
      "497  https://www.facebook.com/sharer/sharer.php?u=h...               0.359163   \n",
      "498  https://twitter.com/intent/tweet?text=How%20I%...               1.187847   \n",
      "521               https://www.instagram.com/fam.india/               0.695001   \n",
      "522         https://www.linkedin.com/company/famindia/               0.498417   \n",
      "\n",
      "     mobile_response_time  desktop_http_status  mobile_http_status  \\\n",
      "100              1.033060                  200                 200   \n",
      "101              1.197412                  200                 200   \n",
      "102              0.708838                  200                 200   \n",
      "107              1.086183                  200                 200   \n",
      "108              1.215056                  200                 200   \n",
      "..                    ...                  ...                 ...   \n",
      "483              1.193512                  200                 200   \n",
      "497              0.925535                  200                 200   \n",
      "498              1.162639                  200                 200   \n",
      "521              0.789330                  200                 200   \n",
      "522              0.951617                  429                 999   \n",
      "\n",
      "    desktop_title                                       mobile_title  \\\n",
      "100      Facebook                Facebook में लॉग इन करें | Facebook   \n",
      "101           NaN                                                NaN   \n",
      "102      Facebook                                  सामग्री नहीं मिली   \n",
      "107      Facebook                Facebook में लॉग इन करें | Facebook   \n",
      "108           NaN                                                NaN   \n",
      "..            ...                                                ...   \n",
      "483           NaN                                                NaN   \n",
      "497      Facebook                Facebook में लॉग इन करें | Facebook   \n",
      "498           NaN                                                NaN   \n",
      "521     Instagram  FamApp (@fam.india) • Instagram photos and videos   \n",
      "522           NaN                                                NaN   \n",
      "\n",
      "    desktop_description                                 mobile_description  \\\n",
      "100                 NaN  अपने दोस्तों, परिवार और परिचित लोगों से शेयर क...   \n",
      "101                 NaN                                                NaN   \n",
      "102                 NaN                                                NaN   \n",
      "107                 NaN  अपने दोस्तों, परिवार और परिचित लोगों से शेयर क...   \n",
      "108                 NaN                                                NaN   \n",
      "..                  ...                                                ...   \n",
      "483                 NaN                                                NaN   \n",
      "497                 NaN  अपने दोस्तों, परिवार और परिचित लोगों से शेयर क...   \n",
      "498                 NaN                                                NaN   \n",
      "521                 NaN  498K Followers, 0 Following, 708 Posts - See I...   \n",
      "522                 NaN                                                NaN   \n",
      "\n",
      "     is_mobile_friendly  title_similarity  description_similarity  \\\n",
      "100               False          0.228571                     0.0   \n",
      "101                True          0.000000                     0.0   \n",
      "102               False          0.000000                     0.0   \n",
      "107               False          0.228571                     0.0   \n",
      "108                True          0.000000                     0.0   \n",
      "..                  ...               ...                     ...   \n",
      "483                True          0.000000                     0.0   \n",
      "497               False          0.228571                     0.0   \n",
      "498                True          0.000000                     0.0   \n",
      "521                True          0.183673                     0.0   \n",
      "522               False          0.000000                     0.0   \n",
      "\n",
      "     response_time_difference  \n",
      "100                  0.602016  \n",
      "101                  0.133889  \n",
      "102                  0.044320  \n",
      "107                  0.747505  \n",
      "108                  0.205457  \n",
      "..                        ...  \n",
      "483                  0.093612  \n",
      "497                  0.566372  \n",
      "498                  0.025208  \n",
      "521                  0.094329  \n",
      "522                  0.453200  \n",
      "\n",
      "[171 rows x 13 columns]\n",
      "Websites with different description for desktop and mobile:\n",
      "                                            url  desktop_response_time  \\\n",
      "11         https://fampay.in/blog/author/arohi/               0.257125   \n",
      "12     https://fampay.in/blog/tag/teens/page/2/               0.329621   \n",
      "24   https://fampay.in/blog/tag/parents/page/2/               0.242870   \n",
      "35       https://fampay.in/blog/author/garvita/               0.262975   \n",
      "38        https://fampay.in/blog/author/suhani/               0.272344   \n",
      "..                                          ...                    ...   \n",
      "510              https://famapp.in/blog/page/3/               0.203628   \n",
      "511              https://famapp.in/blog/page/4/               0.195726   \n",
      "512              https://famapp.in/blog/page/5/               0.192802   \n",
      "521        https://www.instagram.com/fam.india/               0.695001   \n",
      "522  https://www.linkedin.com/company/famindia/               0.498417   \n",
      "\n",
      "     mobile_response_time  desktop_http_status  mobile_http_status  \\\n",
      "11               0.285484                  200                 200   \n",
      "12               0.319796                  200                 200   \n",
      "24               0.270195                  200                 200   \n",
      "35               0.281540                  200                 200   \n",
      "38               0.245682                  200                 200   \n",
      "..                    ...                  ...                 ...   \n",
      "510              0.203122                  200                 200   \n",
      "511              0.202963                  200                 200   \n",
      "512              0.177484                  200                 200   \n",
      "521              0.789330                  200                 200   \n",
      "522              0.951617                  429                 999   \n",
      "\n",
      "                          desktop_title  \\\n",
      "11     Arohi Kaushal - UnRead by FamPay   \n",
      "12                       FamPay | Teens   \n",
      "24                     FamPay | Parents   \n",
      "35   Garvita Gulhati - UnRead by FamPay   \n",
      "38   Suhani Malhotra - UnRead by FamPay   \n",
      "..                                  ...   \n",
      "510           UnRead by FamPay (Page 3)   \n",
      "511           UnRead by FamPay (Page 4)   \n",
      "512           UnRead by FamPay (Page 5)   \n",
      "521                           Instagram   \n",
      "522                                 NaN   \n",
      "\n",
      "                                          mobile_title desktop_description  \\\n",
      "11                    Arohi Kaushal - UnRead by FamPay                 NaN   \n",
      "12                                      FamPay | Teens                 NaN   \n",
      "24                                    FamPay | Parents                 NaN   \n",
      "35                  Garvita Gulhati - UnRead by FamPay                 NaN   \n",
      "38                  Suhani Malhotra - UnRead by FamPay                 NaN   \n",
      "..                                                 ...                 ...   \n",
      "510                          UnRead by FamPay (Page 3)                 NaN   \n",
      "511                          UnRead by FamPay (Page 4)                 NaN   \n",
      "512                          UnRead by FamPay (Page 5)                 NaN   \n",
      "521  FamApp (@fam.india) • Instagram photos and videos                 NaN   \n",
      "522                                                NaN                 NaN   \n",
      "\n",
      "                                    mobile_description  is_mobile_friendly  \\\n",
      "11                                                 NaN                True   \n",
      "12                                                 NaN                True   \n",
      "24                                                 NaN                True   \n",
      "35                                                 NaN                True   \n",
      "38                                                 NaN                True   \n",
      "..                                                 ...                 ...   \n",
      "510                                                NaN                True   \n",
      "511                                                NaN                True   \n",
      "512                                                NaN                True   \n",
      "521  498K Followers, 0 Following, 708 Posts - See I...                True   \n",
      "522                                                NaN               False   \n",
      "\n",
      "     title_similarity  description_similarity  response_time_difference  \n",
      "11           1.000000                     0.0                  0.028359  \n",
      "12           1.000000                     0.0                  0.009825  \n",
      "24           1.000000                     0.0                  0.027325  \n",
      "35           1.000000                     0.0                  0.018565  \n",
      "38           1.000000                     0.0                  0.026661  \n",
      "..                ...                     ...                       ...  \n",
      "510          1.000000                     0.0                  0.000507  \n",
      "511          1.000000                     0.0                  0.007236  \n",
      "512          1.000000                     0.0                  0.015318  \n",
      "521          0.183673                     0.0                  0.094329  \n",
      "522          0.000000                     0.0                  0.453200  \n",
      "\n",
      "[217 rows x 13 columns]\n"
     ]
    }
   ],
   "source": [
    "# Observation 2: Title and Description Similarity\n",
    "title_diff_df = df_metrics[df_metrics['desktop_title'] != df_metrics['mobile_title']]\n",
    "description_diff_df = df_metrics[df_metrics['desktop_description'] != df_metrics['mobile_description']]\n",
    "print(f'Websites with different title for desktop and mobile:\\n{title_diff_df}')\n",
    "print(f'Websites with different description for desktop and mobile:\\n{description_diff_df}')\n",
    "title_diff_df.to_csv('title_difference.csv', index=False)\n",
    "description_diff_df.to_csv('description_difference.csv', index=False)"
   ]
  },
  {
   "cell_type": "code",
   "execution_count": 37,
   "metadata": {},
   "outputs": [
    {
     "name": "stdout",
     "output_type": "stream",
     "text": [
      "Websites that are not mobile-friendly:\n",
      "                                                   url  desktop_response_time  \\\n",
      "100  https://www.facebook.com/sharer/sharer.php?u=h...               0.431044   \n",
      "102                    https://facebook.com/fampay.in/               0.664518   \n",
      "107  https://www.facebook.com/sharer/sharer.php?u=h...               0.338678   \n",
      "111  https://www.facebook.com/sharer/sharer.php?u=h...               0.333694   \n",
      "115  https://www.facebook.com/sharer/sharer.php?u=h...               0.582654   \n",
      "..                                                 ...                    ...   \n",
      "473  https://www.facebook.com/sharer/sharer.php?u=h...               0.332674   \n",
      "477  https://www.facebook.com/sharer/sharer.php?u=h...               0.565465   \n",
      "482  https://www.facebook.com/sharer/sharer.php?u=h...               0.592070   \n",
      "497  https://www.facebook.com/sharer/sharer.php?u=h...               0.359163   \n",
      "522         https://www.linkedin.com/company/famindia/               0.498417   \n",
      "\n",
      "     mobile_response_time  desktop_http_status  mobile_http_status  \\\n",
      "100              1.033060                  200                 200   \n",
      "102              0.708838                  200                 200   \n",
      "107              1.086183                  200                 200   \n",
      "111              1.032703                  200                 200   \n",
      "115              0.993295                  200                 200   \n",
      "..                    ...                  ...                 ...   \n",
      "473              1.011664                  200                 200   \n",
      "477              0.917697                  200                 200   \n",
      "482              0.970162                  200                 200   \n",
      "497              0.925535                  200                 200   \n",
      "522              0.951617                  429                 999   \n",
      "\n",
      "    desktop_title                         mobile_title desktop_description  \\\n",
      "100      Facebook  Facebook में लॉग इन करें | Facebook                 NaN   \n",
      "102      Facebook                    सामग्री नहीं मिली                 NaN   \n",
      "107      Facebook  Facebook में लॉग इन करें | Facebook                 NaN   \n",
      "111      Facebook  Facebook में लॉग इन करें | Facebook                 NaN   \n",
      "115      Facebook  Facebook में लॉग इन करें | Facebook                 NaN   \n",
      "..            ...                                  ...                 ...   \n",
      "473      Facebook  Facebook में लॉग इन करें | Facebook                 NaN   \n",
      "477      Facebook  Facebook में लॉग इन करें | Facebook                 NaN   \n",
      "482      Facebook  Facebook में लॉग इन करें | Facebook                 NaN   \n",
      "497      Facebook  Facebook में लॉग इन करें | Facebook                 NaN   \n",
      "522           NaN                                  NaN                 NaN   \n",
      "\n",
      "                                    mobile_description  is_mobile_friendly  \\\n",
      "100  अपने दोस्तों, परिवार और परिचित लोगों से शेयर क...               False   \n",
      "102                                                NaN               False   \n",
      "107  अपने दोस्तों, परिवार और परिचित लोगों से शेयर क...               False   \n",
      "111  अपने दोस्तों, परिवार और परिचित लोगों से शेयर क...               False   \n",
      "115  अपने दोस्तों, परिवार और परिचित लोगों से शेयर क...               False   \n",
      "..                                                 ...                 ...   \n",
      "473  अपने दोस्तों, परिवार और परिचित लोगों से शेयर क...               False   \n",
      "477  अपने दोस्तों, परिवार और परिचित लोगों से शेयर क...               False   \n",
      "482  अपने दोस्तों, परिवार और परिचित लोगों से शेयर क...               False   \n",
      "497  अपने दोस्तों, परिवार और परिचित लोगों से शेयर क...               False   \n",
      "522                                                NaN               False   \n",
      "\n",
      "     title_similarity  description_similarity  response_time_difference  \n",
      "100          0.228571                     0.0                  0.602016  \n",
      "102          0.000000                     0.0                  0.044320  \n",
      "107          0.228571                     0.0                  0.747505  \n",
      "111          0.228571                     0.0                  0.699009  \n",
      "115          0.228571                     0.0                  0.410641  \n",
      "..                ...                     ...                       ...  \n",
      "473          0.228571                     0.0                  0.678990  \n",
      "477          0.228571                     0.0                  0.352232  \n",
      "482          0.228571                     0.0                  0.378093  \n",
      "497          0.228571                     0.0                  0.566372  \n",
      "522          0.000000                     0.0                  0.453200  \n",
      "\n",
      "[85 rows x 13 columns]\n"
     ]
    }
   ],
   "source": [
    "# Observation 3: Mobile-Friendly Websites\n",
    "non_mobile_friendly_df = df_metrics[df_metrics['is_mobile_friendly'] == False]\n",
    "print(f'Websites that are not mobile-friendly:\\n{non_mobile_friendly_df}')\n",
    "non_mobile_friendly_df.to_csv('non_mobile_friendly_websites.csv', index=False)"
   ]
  },
  {
   "cell_type": "code",
   "execution_count": 36,
   "metadata": {},
   "outputs": [
    {
     "name": "stdout",
     "output_type": "stream",
     "text": [
      "Websites with error status codes:\n",
      "                                                   url  desktop_response_time  \\\n",
      "144           https://www.linkedin.com/company/fampay/               0.731333   \n",
      "220  https://www.linkedin.com/company/fampay/mycomp...               0.527399   \n",
      "252  https://fampay.in/blog/famcard-your-first-debi...               0.317363   \n",
      "522         https://www.linkedin.com/company/famindia/               0.498417   \n",
      "\n",
      "     mobile_response_time  desktop_http_status  mobile_http_status  \\\n",
      "144              0.585905                  999                 999   \n",
      "220              0.509985                  999                 999   \n",
      "252              0.326149                  404                 404   \n",
      "522              0.951617                  429                 999   \n",
      "\n",
      "        desktop_title      mobile_title desktop_description  \\\n",
      "144               NaN               NaN                 NaN   \n",
      "220               NaN               NaN                 NaN   \n",
      "252  UnRead by FamPay  UnRead by FamPay                 NaN   \n",
      "522               NaN               NaN                 NaN   \n",
      "\n",
      "    mobile_description  is_mobile_friendly  title_similarity  \\\n",
      "144                NaN               False               0.0   \n",
      "220                NaN               False               0.0   \n",
      "252                NaN                True               1.0   \n",
      "522                NaN               False               0.0   \n",
      "\n",
      "     description_similarity  response_time_difference  \n",
      "144                     0.0                  0.145428  \n",
      "220                     0.0                  0.017414  \n",
      "252                     0.0                  0.008787  \n",
      "522                     0.0                  0.453200  \n"
     ]
    }
   ],
   "source": [
    "# Observation 4: Error Status Codes\n",
    "error_status_df = df_metrics[(df_metrics['desktop_http_status'] >= 400) | (df_metrics['mobile_http_status'] >= 400)]\n",
    "print(f'Websites with error status codes:\\n{error_status_df}')"
   ]
  }
 ],
 "metadata": {
  "kernelspec": {
   "display_name": "base",
   "language": "python",
   "name": "python3"
  },
  "language_info": {
   "codemirror_mode": {
    "name": "ipython",
    "version": 3
   },
   "file_extension": ".py",
   "mimetype": "text/x-python",
   "name": "python",
   "nbconvert_exporter": "python",
   "pygments_lexer": "ipython3",
   "version": "3.10.9"
  },
  "orig_nbformat": 4
 },
 "nbformat": 4,
 "nbformat_minor": 2
}
