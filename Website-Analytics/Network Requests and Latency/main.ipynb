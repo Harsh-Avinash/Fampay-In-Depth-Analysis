{
 "cells": [
  {
   "cell_type": "code",
   "execution_count": 30,
   "metadata": {},
   "outputs": [],
   "source": [
    "import pandas as pd\n",
    "import requests\n",
    "import time\n",
    "from bs4 import BeautifulSoup\n",
    "import pandas as pd\n",
    "import plotly.express as px\n",
    "import plotly.io as pio\n",
    "import plotly.graph_objects as go\n",
    "from plotly.subplots import make_subplots"
   ]
  },
  {
   "cell_type": "code",
   "execution_count": 31,
   "metadata": {},
   "outputs": [],
   "source": [
    "# Read the CSV file into a DataFrame\n",
    "df = pd.read_csv('../EveryTraceOfFampayPeriod/famapp_unique_links.csv')\n",
    "\n",
    "# Create a new DataFrame to store the results\n",
    "results = pd.DataFrame(columns=['Link', 'Connect Time', 'Wait Time', 'Total Time', 'Resource Count'])\n",
    "\n",
    "# Create a session object\n",
    "s = requests.Session()"
   ]
  },
  {
   "cell_type": "code",
   "execution_count": 32,
   "metadata": {},
   "outputs": [
    {
     "name": "stderr",
     "output_type": "stream",
     "text": [
      "C:\\Users\\Harsh Clean\\AppData\\Local\\Temp\\ipykernel_25688\\1645067342.py:26: FutureWarning:\n",
      "\n",
      "The frame.append method is deprecated and will be removed from pandas in a future version. Use pandas.concat instead.\n",
      "\n",
      "C:\\Users\\Harsh Clean\\AppData\\Local\\Temp\\ipykernel_25688\\1645067342.py:26: FutureWarning:\n",
      "\n",
      "The frame.append method is deprecated and will be removed from pandas in a future version. Use pandas.concat instead.\n",
      "\n",
      "C:\\Users\\Harsh Clean\\AppData\\Local\\Temp\\ipykernel_25688\\1645067342.py:26: FutureWarning:\n",
      "\n",
      "The frame.append method is deprecated and will be removed from pandas in a future version. Use pandas.concat instead.\n",
      "\n",
      "C:\\Users\\Harsh Clean\\AppData\\Local\\Temp\\ipykernel_25688\\1645067342.py:26: FutureWarning:\n",
      "\n",
      "The frame.append method is deprecated and will be removed from pandas in a future version. Use pandas.concat instead.\n",
      "\n",
      "C:\\Users\\Harsh Clean\\AppData\\Local\\Temp\\ipykernel_25688\\1645067342.py:26: FutureWarning:\n",
      "\n",
      "The frame.append method is deprecated and will be removed from pandas in a future version. Use pandas.concat instead.\n",
      "\n",
      "C:\\Users\\Harsh Clean\\AppData\\Local\\Temp\\ipykernel_25688\\1645067342.py:26: FutureWarning:\n",
      "\n",
      "The frame.append method is deprecated and will be removed from pandas in a future version. Use pandas.concat instead.\n",
      "\n",
      "C:\\Users\\Harsh Clean\\AppData\\Local\\Temp\\ipykernel_25688\\1645067342.py:26: FutureWarning:\n",
      "\n",
      "The frame.append method is deprecated and will be removed from pandas in a future version. Use pandas.concat instead.\n",
      "\n",
      "C:\\Users\\Harsh Clean\\AppData\\Local\\Temp\\ipykernel_25688\\1645067342.py:26: FutureWarning:\n",
      "\n",
      "The frame.append method is deprecated and will be removed from pandas in a future version. Use pandas.concat instead.\n",
      "\n",
      "C:\\Users\\Harsh Clean\\AppData\\Local\\Temp\\ipykernel_25688\\1645067342.py:26: FutureWarning:\n",
      "\n",
      "The frame.append method is deprecated and will be removed from pandas in a future version. Use pandas.concat instead.\n",
      "\n",
      "C:\\Users\\Harsh Clean\\AppData\\Local\\Temp\\ipykernel_25688\\1645067342.py:26: FutureWarning:\n",
      "\n",
      "The frame.append method is deprecated and will be removed from pandas in a future version. Use pandas.concat instead.\n",
      "\n",
      "C:\\Users\\Harsh Clean\\AppData\\Local\\Temp\\ipykernel_25688\\1645067342.py:26: FutureWarning:\n",
      "\n",
      "The frame.append method is deprecated and will be removed from pandas in a future version. Use pandas.concat instead.\n",
      "\n",
      "C:\\Users\\Harsh Clean\\AppData\\Local\\Temp\\ipykernel_25688\\1645067342.py:26: FutureWarning:\n",
      "\n",
      "The frame.append method is deprecated and will be removed from pandas in a future version. Use pandas.concat instead.\n",
      "\n",
      "C:\\Users\\Harsh Clean\\AppData\\Local\\Temp\\ipykernel_25688\\1645067342.py:26: FutureWarning:\n",
      "\n",
      "The frame.append method is deprecated and will be removed from pandas in a future version. Use pandas.concat instead.\n",
      "\n",
      "C:\\Users\\Harsh Clean\\AppData\\Local\\Temp\\ipykernel_25688\\1645067342.py:26: FutureWarning:\n",
      "\n",
      "The frame.append method is deprecated and will be removed from pandas in a future version. Use pandas.concat instead.\n",
      "\n",
      "C:\\Users\\Harsh Clean\\AppData\\Local\\Temp\\ipykernel_25688\\1645067342.py:26: FutureWarning:\n",
      "\n",
      "The frame.append method is deprecated and will be removed from pandas in a future version. Use pandas.concat instead.\n",
      "\n",
      "C:\\Users\\Harsh Clean\\AppData\\Local\\Temp\\ipykernel_25688\\1645067342.py:26: FutureWarning:\n",
      "\n",
      "The frame.append method is deprecated and will be removed from pandas in a future version. Use pandas.concat instead.\n",
      "\n",
      "C:\\Users\\Harsh Clean\\AppData\\Local\\Temp\\ipykernel_25688\\1645067342.py:26: FutureWarning:\n",
      "\n",
      "The frame.append method is deprecated and will be removed from pandas in a future version. Use pandas.concat instead.\n",
      "\n",
      "C:\\Users\\Harsh Clean\\AppData\\Local\\Temp\\ipykernel_25688\\1645067342.py:26: FutureWarning:\n",
      "\n",
      "The frame.append method is deprecated and will be removed from pandas in a future version. Use pandas.concat instead.\n",
      "\n",
      "C:\\Users\\Harsh Clean\\AppData\\Local\\Temp\\ipykernel_25688\\1645067342.py:26: FutureWarning:\n",
      "\n",
      "The frame.append method is deprecated and will be removed from pandas in a future version. Use pandas.concat instead.\n",
      "\n",
      "C:\\Users\\Harsh Clean\\AppData\\Local\\Temp\\ipykernel_25688\\1645067342.py:26: FutureWarning:\n",
      "\n",
      "The frame.append method is deprecated and will be removed from pandas in a future version. Use pandas.concat instead.\n",
      "\n",
      "C:\\Users\\Harsh Clean\\AppData\\Local\\Temp\\ipykernel_25688\\1645067342.py:26: FutureWarning:\n",
      "\n",
      "The frame.append method is deprecated and will be removed from pandas in a future version. Use pandas.concat instead.\n",
      "\n",
      "C:\\Users\\Harsh Clean\\AppData\\Local\\Temp\\ipykernel_25688\\1645067342.py:26: FutureWarning:\n",
      "\n",
      "The frame.append method is deprecated and will be removed from pandas in a future version. Use pandas.concat instead.\n",
      "\n",
      "C:\\Users\\Harsh Clean\\AppData\\Local\\Temp\\ipykernel_25688\\1645067342.py:26: FutureWarning:\n",
      "\n",
      "The frame.append method is deprecated and will be removed from pandas in a future version. Use pandas.concat instead.\n",
      "\n",
      "C:\\Users\\Harsh Clean\\AppData\\Local\\Temp\\ipykernel_25688\\1645067342.py:26: FutureWarning:\n",
      "\n",
      "The frame.append method is deprecated and will be removed from pandas in a future version. Use pandas.concat instead.\n",
      "\n",
      "C:\\Users\\Harsh Clean\\AppData\\Local\\Temp\\ipykernel_25688\\1645067342.py:26: FutureWarning:\n",
      "\n",
      "The frame.append method is deprecated and will be removed from pandas in a future version. Use pandas.concat instead.\n",
      "\n",
      "C:\\Users\\Harsh Clean\\AppData\\Local\\Temp\\ipykernel_25688\\1645067342.py:26: FutureWarning:\n",
      "\n",
      "The frame.append method is deprecated and will be removed from pandas in a future version. Use pandas.concat instead.\n",
      "\n",
      "C:\\Users\\Harsh Clean\\AppData\\Local\\Temp\\ipykernel_25688\\1645067342.py:26: FutureWarning:\n",
      "\n",
      "The frame.append method is deprecated and will be removed from pandas in a future version. Use pandas.concat instead.\n",
      "\n",
      "C:\\Users\\Harsh Clean\\AppData\\Local\\Temp\\ipykernel_25688\\1645067342.py:26: FutureWarning:\n",
      "\n",
      "The frame.append method is deprecated and will be removed from pandas in a future version. Use pandas.concat instead.\n",
      "\n",
      "C:\\Users\\Harsh Clean\\AppData\\Local\\Temp\\ipykernel_25688\\1645067342.py:26: FutureWarning:\n",
      "\n",
      "The frame.append method is deprecated and will be removed from pandas in a future version. Use pandas.concat instead.\n",
      "\n",
      "C:\\Users\\Harsh Clean\\AppData\\Local\\Temp\\ipykernel_25688\\1645067342.py:26: FutureWarning:\n",
      "\n",
      "The frame.append method is deprecated and will be removed from pandas in a future version. Use pandas.concat instead.\n",
      "\n",
      "C:\\Users\\Harsh Clean\\AppData\\Local\\Temp\\ipykernel_25688\\1645067342.py:26: FutureWarning:\n",
      "\n",
      "The frame.append method is deprecated and will be removed from pandas in a future version. Use pandas.concat instead.\n",
      "\n",
      "C:\\Users\\Harsh Clean\\AppData\\Local\\Temp\\ipykernel_25688\\1645067342.py:26: FutureWarning:\n",
      "\n",
      "The frame.append method is deprecated and will be removed from pandas in a future version. Use pandas.concat instead.\n",
      "\n",
      "C:\\Users\\Harsh Clean\\AppData\\Local\\Temp\\ipykernel_25688\\1645067342.py:26: FutureWarning:\n",
      "\n",
      "The frame.append method is deprecated and will be removed from pandas in a future version. Use pandas.concat instead.\n",
      "\n",
      "C:\\Users\\Harsh Clean\\AppData\\Local\\Temp\\ipykernel_25688\\1645067342.py:26: FutureWarning:\n",
      "\n",
      "The frame.append method is deprecated and will be removed from pandas in a future version. Use pandas.concat instead.\n",
      "\n",
      "C:\\Users\\Harsh Clean\\AppData\\Local\\Temp\\ipykernel_25688\\1645067342.py:26: FutureWarning:\n",
      "\n",
      "The frame.append method is deprecated and will be removed from pandas in a future version. Use pandas.concat instead.\n",
      "\n",
      "C:\\Users\\Harsh Clean\\AppData\\Local\\Temp\\ipykernel_25688\\1645067342.py:26: FutureWarning:\n",
      "\n",
      "The frame.append method is deprecated and will be removed from pandas in a future version. Use pandas.concat instead.\n",
      "\n",
      "C:\\Users\\Harsh Clean\\AppData\\Local\\Temp\\ipykernel_25688\\1645067342.py:26: FutureWarning:\n",
      "\n",
      "The frame.append method is deprecated and will be removed from pandas in a future version. Use pandas.concat instead.\n",
      "\n",
      "C:\\Users\\Harsh Clean\\AppData\\Local\\Temp\\ipykernel_25688\\1645067342.py:26: FutureWarning:\n",
      "\n",
      "The frame.append method is deprecated and will be removed from pandas in a future version. Use pandas.concat instead.\n",
      "\n",
      "C:\\Users\\Harsh Clean\\AppData\\Local\\Temp\\ipykernel_25688\\1645067342.py:26: FutureWarning:\n",
      "\n",
      "The frame.append method is deprecated and will be removed from pandas in a future version. Use pandas.concat instead.\n",
      "\n",
      "C:\\Users\\Harsh Clean\\AppData\\Local\\Temp\\ipykernel_25688\\1645067342.py:26: FutureWarning:\n",
      "\n",
      "The frame.append method is deprecated and will be removed from pandas in a future version. Use pandas.concat instead.\n",
      "\n",
      "C:\\Users\\Harsh Clean\\AppData\\Local\\Temp\\ipykernel_25688\\1645067342.py:26: FutureWarning:\n",
      "\n",
      "The frame.append method is deprecated and will be removed from pandas in a future version. Use pandas.concat instead.\n",
      "\n",
      "C:\\Users\\Harsh Clean\\AppData\\Local\\Temp\\ipykernel_25688\\1645067342.py:26: FutureWarning:\n",
      "\n",
      "The frame.append method is deprecated and will be removed from pandas in a future version. Use pandas.concat instead.\n",
      "\n",
      "C:\\Users\\Harsh Clean\\AppData\\Local\\Temp\\ipykernel_25688\\1645067342.py:26: FutureWarning:\n",
      "\n",
      "The frame.append method is deprecated and will be removed from pandas in a future version. Use pandas.concat instead.\n",
      "\n",
      "C:\\Users\\Harsh Clean\\AppData\\Local\\Temp\\ipykernel_25688\\1645067342.py:26: FutureWarning:\n",
      "\n",
      "The frame.append method is deprecated and will be removed from pandas in a future version. Use pandas.concat instead.\n",
      "\n",
      "C:\\Users\\Harsh Clean\\AppData\\Local\\Temp\\ipykernel_25688\\1645067342.py:26: FutureWarning:\n",
      "\n",
      "The frame.append method is deprecated and will be removed from pandas in a future version. Use pandas.concat instead.\n",
      "\n",
      "C:\\Users\\Harsh Clean\\AppData\\Local\\Temp\\ipykernel_25688\\1645067342.py:26: FutureWarning:\n",
      "\n",
      "The frame.append method is deprecated and will be removed from pandas in a future version. Use pandas.concat instead.\n",
      "\n",
      "C:\\Users\\Harsh Clean\\AppData\\Local\\Temp\\ipykernel_25688\\1645067342.py:26: FutureWarning:\n",
      "\n",
      "The frame.append method is deprecated and will be removed from pandas in a future version. Use pandas.concat instead.\n",
      "\n",
      "C:\\Users\\Harsh Clean\\AppData\\Local\\Temp\\ipykernel_25688\\1645067342.py:26: FutureWarning:\n",
      "\n",
      "The frame.append method is deprecated and will be removed from pandas in a future version. Use pandas.concat instead.\n",
      "\n",
      "C:\\Users\\Harsh Clean\\AppData\\Local\\Temp\\ipykernel_25688\\1645067342.py:26: FutureWarning:\n",
      "\n",
      "The frame.append method is deprecated and will be removed from pandas in a future version. Use pandas.concat instead.\n",
      "\n",
      "C:\\Users\\Harsh Clean\\AppData\\Local\\Temp\\ipykernel_25688\\1645067342.py:26: FutureWarning:\n",
      "\n",
      "The frame.append method is deprecated and will be removed from pandas in a future version. Use pandas.concat instead.\n",
      "\n",
      "C:\\Users\\Harsh Clean\\AppData\\Local\\Temp\\ipykernel_25688\\1645067342.py:26: FutureWarning:\n",
      "\n",
      "The frame.append method is deprecated and will be removed from pandas in a future version. Use pandas.concat instead.\n",
      "\n",
      "C:\\Users\\Harsh Clean\\AppData\\Local\\Temp\\ipykernel_25688\\1645067342.py:26: FutureWarning:\n",
      "\n",
      "The frame.append method is deprecated and will be removed from pandas in a future version. Use pandas.concat instead.\n",
      "\n",
      "C:\\Users\\Harsh Clean\\AppData\\Local\\Temp\\ipykernel_25688\\1645067342.py:26: FutureWarning:\n",
      "\n",
      "The frame.append method is deprecated and will be removed from pandas in a future version. Use pandas.concat instead.\n",
      "\n",
      "C:\\Users\\Harsh Clean\\AppData\\Local\\Temp\\ipykernel_25688\\1645067342.py:26: FutureWarning:\n",
      "\n",
      "The frame.append method is deprecated and will be removed from pandas in a future version. Use pandas.concat instead.\n",
      "\n",
      "C:\\Users\\Harsh Clean\\AppData\\Local\\Temp\\ipykernel_25688\\1645067342.py:26: FutureWarning:\n",
      "\n",
      "The frame.append method is deprecated and will be removed from pandas in a future version. Use pandas.concat instead.\n",
      "\n",
      "C:\\Users\\Harsh Clean\\AppData\\Local\\Temp\\ipykernel_25688\\1645067342.py:26: FutureWarning:\n",
      "\n",
      "The frame.append method is deprecated and will be removed from pandas in a future version. Use pandas.concat instead.\n",
      "\n",
      "C:\\Users\\Harsh Clean\\AppData\\Local\\Temp\\ipykernel_25688\\1645067342.py:26: FutureWarning:\n",
      "\n",
      "The frame.append method is deprecated and will be removed from pandas in a future version. Use pandas.concat instead.\n",
      "\n",
      "C:\\Users\\Harsh Clean\\AppData\\Local\\Temp\\ipykernel_25688\\1645067342.py:26: FutureWarning:\n",
      "\n",
      "The frame.append method is deprecated and will be removed from pandas in a future version. Use pandas.concat instead.\n",
      "\n",
      "C:\\Users\\Harsh Clean\\AppData\\Local\\Temp\\ipykernel_25688\\1645067342.py:26: FutureWarning:\n",
      "\n",
      "The frame.append method is deprecated and will be removed from pandas in a future version. Use pandas.concat instead.\n",
      "\n",
      "C:\\Users\\Harsh Clean\\AppData\\Local\\Temp\\ipykernel_25688\\1645067342.py:26: FutureWarning:\n",
      "\n",
      "The frame.append method is deprecated and will be removed from pandas in a future version. Use pandas.concat instead.\n",
      "\n",
      "C:\\Users\\Harsh Clean\\AppData\\Local\\Temp\\ipykernel_25688\\1645067342.py:26: FutureWarning:\n",
      "\n",
      "The frame.append method is deprecated and will be removed from pandas in a future version. Use pandas.concat instead.\n",
      "\n",
      "C:\\Users\\Harsh Clean\\AppData\\Local\\Temp\\ipykernel_25688\\1645067342.py:26: FutureWarning:\n",
      "\n",
      "The frame.append method is deprecated and will be removed from pandas in a future version. Use pandas.concat instead.\n",
      "\n",
      "C:\\Users\\Harsh Clean\\AppData\\Local\\Temp\\ipykernel_25688\\1645067342.py:26: FutureWarning:\n",
      "\n",
      "The frame.append method is deprecated and will be removed from pandas in a future version. Use pandas.concat instead.\n",
      "\n",
      "C:\\Users\\Harsh Clean\\AppData\\Local\\Temp\\ipykernel_25688\\1645067342.py:26: FutureWarning:\n",
      "\n",
      "The frame.append method is deprecated and will be removed from pandas in a future version. Use pandas.concat instead.\n",
      "\n",
      "C:\\Users\\Harsh Clean\\AppData\\Local\\Temp\\ipykernel_25688\\1645067342.py:26: FutureWarning:\n",
      "\n",
      "The frame.append method is deprecated and will be removed from pandas in a future version. Use pandas.concat instead.\n",
      "\n",
      "C:\\Users\\Harsh Clean\\AppData\\Local\\Temp\\ipykernel_25688\\1645067342.py:26: FutureWarning:\n",
      "\n",
      "The frame.append method is deprecated and will be removed from pandas in a future version. Use pandas.concat instead.\n",
      "\n",
      "C:\\Users\\Harsh Clean\\AppData\\Local\\Temp\\ipykernel_25688\\1645067342.py:26: FutureWarning:\n",
      "\n",
      "The frame.append method is deprecated and will be removed from pandas in a future version. Use pandas.concat instead.\n",
      "\n",
      "C:\\Users\\Harsh Clean\\AppData\\Local\\Temp\\ipykernel_25688\\1645067342.py:26: FutureWarning:\n",
      "\n",
      "The frame.append method is deprecated and will be removed from pandas in a future version. Use pandas.concat instead.\n",
      "\n",
      "C:\\Users\\Harsh Clean\\AppData\\Local\\Temp\\ipykernel_25688\\1645067342.py:26: FutureWarning:\n",
      "\n",
      "The frame.append method is deprecated and will be removed from pandas in a future version. Use pandas.concat instead.\n",
      "\n",
      "C:\\Users\\Harsh Clean\\AppData\\Local\\Temp\\ipykernel_25688\\1645067342.py:26: FutureWarning:\n",
      "\n",
      "The frame.append method is deprecated and will be removed from pandas in a future version. Use pandas.concat instead.\n",
      "\n",
      "C:\\Users\\Harsh Clean\\AppData\\Local\\Temp\\ipykernel_25688\\1645067342.py:26: FutureWarning:\n",
      "\n",
      "The frame.append method is deprecated and will be removed from pandas in a future version. Use pandas.concat instead.\n",
      "\n",
      "C:\\Users\\Harsh Clean\\AppData\\Local\\Temp\\ipykernel_25688\\1645067342.py:26: FutureWarning:\n",
      "\n",
      "The frame.append method is deprecated and will be removed from pandas in a future version. Use pandas.concat instead.\n",
      "\n",
      "C:\\Users\\Harsh Clean\\AppData\\Local\\Temp\\ipykernel_25688\\1645067342.py:26: FutureWarning:\n",
      "\n",
      "The frame.append method is deprecated and will be removed from pandas in a future version. Use pandas.concat instead.\n",
      "\n",
      "C:\\Users\\Harsh Clean\\AppData\\Local\\Temp\\ipykernel_25688\\1645067342.py:26: FutureWarning:\n",
      "\n",
      "The frame.append method is deprecated and will be removed from pandas in a future version. Use pandas.concat instead.\n",
      "\n",
      "C:\\Users\\Harsh Clean\\AppData\\Local\\Temp\\ipykernel_25688\\1645067342.py:26: FutureWarning:\n",
      "\n",
      "The frame.append method is deprecated and will be removed from pandas in a future version. Use pandas.concat instead.\n",
      "\n",
      "C:\\Users\\Harsh Clean\\AppData\\Local\\Temp\\ipykernel_25688\\1645067342.py:26: FutureWarning:\n",
      "\n",
      "The frame.append method is deprecated and will be removed from pandas in a future version. Use pandas.concat instead.\n",
      "\n",
      "C:\\Users\\Harsh Clean\\AppData\\Local\\Temp\\ipykernel_25688\\1645067342.py:26: FutureWarning:\n",
      "\n",
      "The frame.append method is deprecated and will be removed from pandas in a future version. Use pandas.concat instead.\n",
      "\n",
      "C:\\Users\\Harsh Clean\\AppData\\Local\\Temp\\ipykernel_25688\\1645067342.py:26: FutureWarning:\n",
      "\n",
      "The frame.append method is deprecated and will be removed from pandas in a future version. Use pandas.concat instead.\n",
      "\n",
      "C:\\Users\\Harsh Clean\\AppData\\Local\\Temp\\ipykernel_25688\\1645067342.py:26: FutureWarning:\n",
      "\n",
      "The frame.append method is deprecated and will be removed from pandas in a future version. Use pandas.concat instead.\n",
      "\n",
      "C:\\Users\\Harsh Clean\\AppData\\Local\\Temp\\ipykernel_25688\\1645067342.py:26: FutureWarning:\n",
      "\n",
      "The frame.append method is deprecated and will be removed from pandas in a future version. Use pandas.concat instead.\n",
      "\n",
      "C:\\Users\\Harsh Clean\\AppData\\Local\\Temp\\ipykernel_25688\\1645067342.py:26: FutureWarning:\n",
      "\n",
      "The frame.append method is deprecated and will be removed from pandas in a future version. Use pandas.concat instead.\n",
      "\n",
      "C:\\Users\\Harsh Clean\\AppData\\Local\\Temp\\ipykernel_25688\\1645067342.py:26: FutureWarning:\n",
      "\n",
      "The frame.append method is deprecated and will be removed from pandas in a future version. Use pandas.concat instead.\n",
      "\n",
      "C:\\Users\\Harsh Clean\\AppData\\Local\\Temp\\ipykernel_25688\\1645067342.py:26: FutureWarning:\n",
      "\n",
      "The frame.append method is deprecated and will be removed from pandas in a future version. Use pandas.concat instead.\n",
      "\n",
      "C:\\Users\\Harsh Clean\\AppData\\Local\\Temp\\ipykernel_25688\\1645067342.py:26: FutureWarning:\n",
      "\n",
      "The frame.append method is deprecated and will be removed from pandas in a future version. Use pandas.concat instead.\n",
      "\n",
      "C:\\Users\\Harsh Clean\\AppData\\Local\\Temp\\ipykernel_25688\\1645067342.py:26: FutureWarning:\n",
      "\n",
      "The frame.append method is deprecated and will be removed from pandas in a future version. Use pandas.concat instead.\n",
      "\n",
      "C:\\Users\\Harsh Clean\\AppData\\Local\\Temp\\ipykernel_25688\\1645067342.py:26: FutureWarning:\n",
      "\n",
      "The frame.append method is deprecated and will be removed from pandas in a future version. Use pandas.concat instead.\n",
      "\n",
      "C:\\Users\\Harsh Clean\\AppData\\Local\\Temp\\ipykernel_25688\\1645067342.py:26: FutureWarning:\n",
      "\n",
      "The frame.append method is deprecated and will be removed from pandas in a future version. Use pandas.concat instead.\n",
      "\n",
      "C:\\Users\\Harsh Clean\\AppData\\Local\\Temp\\ipykernel_25688\\1645067342.py:26: FutureWarning:\n",
      "\n",
      "The frame.append method is deprecated and will be removed from pandas in a future version. Use pandas.concat instead.\n",
      "\n",
      "C:\\Users\\Harsh Clean\\AppData\\Local\\Temp\\ipykernel_25688\\1645067342.py:26: FutureWarning:\n",
      "\n",
      "The frame.append method is deprecated and will be removed from pandas in a future version. Use pandas.concat instead.\n",
      "\n",
      "C:\\Users\\Harsh Clean\\AppData\\Local\\Temp\\ipykernel_25688\\1645067342.py:26: FutureWarning:\n",
      "\n",
      "The frame.append method is deprecated and will be removed from pandas in a future version. Use pandas.concat instead.\n",
      "\n",
      "C:\\Users\\Harsh Clean\\AppData\\Local\\Temp\\ipykernel_25688\\1645067342.py:26: FutureWarning:\n",
      "\n",
      "The frame.append method is deprecated and will be removed from pandas in a future version. Use pandas.concat instead.\n",
      "\n",
      "C:\\Users\\Harsh Clean\\AppData\\Local\\Temp\\ipykernel_25688\\1645067342.py:26: FutureWarning:\n",
      "\n",
      "The frame.append method is deprecated and will be removed from pandas in a future version. Use pandas.concat instead.\n",
      "\n",
      "C:\\Users\\Harsh Clean\\AppData\\Local\\Temp\\ipykernel_25688\\1645067342.py:26: FutureWarning:\n",
      "\n",
      "The frame.append method is deprecated and will be removed from pandas in a future version. Use pandas.concat instead.\n",
      "\n",
      "C:\\Users\\Harsh Clean\\AppData\\Local\\Temp\\ipykernel_25688\\1645067342.py:26: FutureWarning:\n",
      "\n",
      "The frame.append method is deprecated and will be removed from pandas in a future version. Use pandas.concat instead.\n",
      "\n",
      "C:\\Users\\Harsh Clean\\AppData\\Local\\Temp\\ipykernel_25688\\1645067342.py:26: FutureWarning:\n",
      "\n",
      "The frame.append method is deprecated and will be removed from pandas in a future version. Use pandas.concat instead.\n",
      "\n",
      "C:\\Users\\Harsh Clean\\AppData\\Local\\Temp\\ipykernel_25688\\1645067342.py:26: FutureWarning:\n",
      "\n",
      "The frame.append method is deprecated and will be removed from pandas in a future version. Use pandas.concat instead.\n",
      "\n",
      "C:\\Users\\Harsh Clean\\AppData\\Local\\Temp\\ipykernel_25688\\1645067342.py:26: FutureWarning:\n",
      "\n",
      "The frame.append method is deprecated and will be removed from pandas in a future version. Use pandas.concat instead.\n",
      "\n",
      "C:\\Users\\Harsh Clean\\AppData\\Local\\Temp\\ipykernel_25688\\1645067342.py:26: FutureWarning:\n",
      "\n",
      "The frame.append method is deprecated and will be removed from pandas in a future version. Use pandas.concat instead.\n",
      "\n",
      "C:\\Users\\Harsh Clean\\AppData\\Local\\Temp\\ipykernel_25688\\1645067342.py:26: FutureWarning:\n",
      "\n",
      "The frame.append method is deprecated and will be removed from pandas in a future version. Use pandas.concat instead.\n",
      "\n",
      "C:\\Users\\Harsh Clean\\AppData\\Local\\Temp\\ipykernel_25688\\1645067342.py:26: FutureWarning:\n",
      "\n",
      "The frame.append method is deprecated and will be removed from pandas in a future version. Use pandas.concat instead.\n",
      "\n",
      "C:\\Users\\Harsh Clean\\AppData\\Local\\Temp\\ipykernel_25688\\1645067342.py:26: FutureWarning:\n",
      "\n",
      "The frame.append method is deprecated and will be removed from pandas in a future version. Use pandas.concat instead.\n",
      "\n",
      "C:\\Users\\Harsh Clean\\AppData\\Local\\Temp\\ipykernel_25688\\1645067342.py:26: FutureWarning:\n",
      "\n",
      "The frame.append method is deprecated and will be removed from pandas in a future version. Use pandas.concat instead.\n",
      "\n",
      "C:\\Users\\Harsh Clean\\AppData\\Local\\Temp\\ipykernel_25688\\1645067342.py:26: FutureWarning:\n",
      "\n",
      "The frame.append method is deprecated and will be removed from pandas in a future version. Use pandas.concat instead.\n",
      "\n",
      "C:\\Users\\Harsh Clean\\AppData\\Local\\Temp\\ipykernel_25688\\1645067342.py:26: FutureWarning:\n",
      "\n",
      "The frame.append method is deprecated and will be removed from pandas in a future version. Use pandas.concat instead.\n",
      "\n",
      "C:\\Users\\Harsh Clean\\AppData\\Local\\Temp\\ipykernel_25688\\1645067342.py:26: FutureWarning:\n",
      "\n",
      "The frame.append method is deprecated and will be removed from pandas in a future version. Use pandas.concat instead.\n",
      "\n",
      "C:\\Users\\Harsh Clean\\AppData\\Local\\Temp\\ipykernel_25688\\1645067342.py:26: FutureWarning:\n",
      "\n",
      "The frame.append method is deprecated and will be removed from pandas in a future version. Use pandas.concat instead.\n",
      "\n",
      "C:\\Users\\Harsh Clean\\AppData\\Local\\Temp\\ipykernel_25688\\1645067342.py:26: FutureWarning:\n",
      "\n",
      "The frame.append method is deprecated and will be removed from pandas in a future version. Use pandas.concat instead.\n",
      "\n",
      "C:\\Users\\Harsh Clean\\AppData\\Local\\Temp\\ipykernel_25688\\1645067342.py:26: FutureWarning:\n",
      "\n",
      "The frame.append method is deprecated and will be removed from pandas in a future version. Use pandas.concat instead.\n",
      "\n",
      "C:\\Users\\Harsh Clean\\AppData\\Local\\Temp\\ipykernel_25688\\1645067342.py:26: FutureWarning:\n",
      "\n",
      "The frame.append method is deprecated and will be removed from pandas in a future version. Use pandas.concat instead.\n",
      "\n",
      "C:\\Users\\Harsh Clean\\AppData\\Local\\Temp\\ipykernel_25688\\1645067342.py:26: FutureWarning:\n",
      "\n",
      "The frame.append method is deprecated and will be removed from pandas in a future version. Use pandas.concat instead.\n",
      "\n",
      "C:\\Users\\Harsh Clean\\AppData\\Local\\Temp\\ipykernel_25688\\1645067342.py:26: FutureWarning:\n",
      "\n",
      "The frame.append method is deprecated and will be removed from pandas in a future version. Use pandas.concat instead.\n",
      "\n",
      "C:\\Users\\Harsh Clean\\AppData\\Local\\Temp\\ipykernel_25688\\1645067342.py:26: FutureWarning:\n",
      "\n",
      "The frame.append method is deprecated and will be removed from pandas in a future version. Use pandas.concat instead.\n",
      "\n",
      "C:\\Users\\Harsh Clean\\AppData\\Local\\Temp\\ipykernel_25688\\1645067342.py:26: FutureWarning:\n",
      "\n",
      "The frame.append method is deprecated and will be removed from pandas in a future version. Use pandas.concat instead.\n",
      "\n",
      "C:\\Users\\Harsh Clean\\AppData\\Local\\Temp\\ipykernel_25688\\1645067342.py:26: FutureWarning:\n",
      "\n",
      "The frame.append method is deprecated and will be removed from pandas in a future version. Use pandas.concat instead.\n",
      "\n",
      "C:\\Users\\Harsh Clean\\AppData\\Local\\Temp\\ipykernel_25688\\1645067342.py:26: FutureWarning:\n",
      "\n",
      "The frame.append method is deprecated and will be removed from pandas in a future version. Use pandas.concat instead.\n",
      "\n",
      "C:\\Users\\Harsh Clean\\AppData\\Local\\Temp\\ipykernel_25688\\1645067342.py:26: FutureWarning:\n",
      "\n",
      "The frame.append method is deprecated and will be removed from pandas in a future version. Use pandas.concat instead.\n",
      "\n",
      "C:\\Users\\Harsh Clean\\AppData\\Local\\Temp\\ipykernel_25688\\1645067342.py:26: FutureWarning:\n",
      "\n",
      "The frame.append method is deprecated and will be removed from pandas in a future version. Use pandas.concat instead.\n",
      "\n",
      "C:\\Users\\Harsh Clean\\AppData\\Local\\Temp\\ipykernel_25688\\1645067342.py:26: FutureWarning:\n",
      "\n",
      "The frame.append method is deprecated and will be removed from pandas in a future version. Use pandas.concat instead.\n",
      "\n",
      "C:\\Users\\Harsh Clean\\AppData\\Local\\Temp\\ipykernel_25688\\1645067342.py:26: FutureWarning:\n",
      "\n",
      "The frame.append method is deprecated and will be removed from pandas in a future version. Use pandas.concat instead.\n",
      "\n",
      "C:\\Users\\Harsh Clean\\AppData\\Local\\Temp\\ipykernel_25688\\1645067342.py:26: FutureWarning:\n",
      "\n",
      "The frame.append method is deprecated and will be removed from pandas in a future version. Use pandas.concat instead.\n",
      "\n",
      "C:\\Users\\Harsh Clean\\AppData\\Local\\Temp\\ipykernel_25688\\1645067342.py:26: FutureWarning:\n",
      "\n",
      "The frame.append method is deprecated and will be removed from pandas in a future version. Use pandas.concat instead.\n",
      "\n",
      "C:\\Users\\Harsh Clean\\AppData\\Local\\Temp\\ipykernel_25688\\1645067342.py:26: FutureWarning:\n",
      "\n",
      "The frame.append method is deprecated and will be removed from pandas in a future version. Use pandas.concat instead.\n",
      "\n",
      "C:\\Users\\Harsh Clean\\AppData\\Local\\Temp\\ipykernel_25688\\1645067342.py:26: FutureWarning:\n",
      "\n",
      "The frame.append method is deprecated and will be removed from pandas in a future version. Use pandas.concat instead.\n",
      "\n",
      "C:\\Users\\Harsh Clean\\AppData\\Local\\Temp\\ipykernel_25688\\1645067342.py:26: FutureWarning:\n",
      "\n",
      "The frame.append method is deprecated and will be removed from pandas in a future version. Use pandas.concat instead.\n",
      "\n",
      "C:\\Users\\Harsh Clean\\AppData\\Local\\Temp\\ipykernel_25688\\1645067342.py:26: FutureWarning:\n",
      "\n",
      "The frame.append method is deprecated and will be removed from pandas in a future version. Use pandas.concat instead.\n",
      "\n",
      "C:\\Users\\Harsh Clean\\AppData\\Local\\Temp\\ipykernel_25688\\1645067342.py:26: FutureWarning:\n",
      "\n",
      "The frame.append method is deprecated and will be removed from pandas in a future version. Use pandas.concat instead.\n",
      "\n",
      "C:\\Users\\Harsh Clean\\AppData\\Local\\Temp\\ipykernel_25688\\1645067342.py:26: FutureWarning:\n",
      "\n",
      "The frame.append method is deprecated and will be removed from pandas in a future version. Use pandas.concat instead.\n",
      "\n",
      "C:\\Users\\Harsh Clean\\AppData\\Local\\Temp\\ipykernel_25688\\1645067342.py:26: FutureWarning:\n",
      "\n",
      "The frame.append method is deprecated and will be removed from pandas in a future version. Use pandas.concat instead.\n",
      "\n",
      "C:\\Users\\Harsh Clean\\AppData\\Local\\Temp\\ipykernel_25688\\1645067342.py:26: FutureWarning:\n",
      "\n",
      "The frame.append method is deprecated and will be removed from pandas in a future version. Use pandas.concat instead.\n",
      "\n",
      "C:\\Users\\Harsh Clean\\AppData\\Local\\Temp\\ipykernel_25688\\1645067342.py:26: FutureWarning:\n",
      "\n",
      "The frame.append method is deprecated and will be removed from pandas in a future version. Use pandas.concat instead.\n",
      "\n",
      "C:\\Users\\Harsh Clean\\AppData\\Local\\Temp\\ipykernel_25688\\1645067342.py:26: FutureWarning:\n",
      "\n",
      "The frame.append method is deprecated and will be removed from pandas in a future version. Use pandas.concat instead.\n",
      "\n",
      "C:\\Users\\Harsh Clean\\AppData\\Local\\Temp\\ipykernel_25688\\1645067342.py:26: FutureWarning:\n",
      "\n",
      "The frame.append method is deprecated and will be removed from pandas in a future version. Use pandas.concat instead.\n",
      "\n",
      "C:\\Users\\Harsh Clean\\AppData\\Local\\Temp\\ipykernel_25688\\1645067342.py:26: FutureWarning:\n",
      "\n",
      "The frame.append method is deprecated and will be removed from pandas in a future version. Use pandas.concat instead.\n",
      "\n",
      "C:\\Users\\Harsh Clean\\AppData\\Local\\Temp\\ipykernel_25688\\1645067342.py:26: FutureWarning:\n",
      "\n",
      "The frame.append method is deprecated and will be removed from pandas in a future version. Use pandas.concat instead.\n",
      "\n",
      "C:\\Users\\Harsh Clean\\AppData\\Local\\Temp\\ipykernel_25688\\1645067342.py:26: FutureWarning:\n",
      "\n",
      "The frame.append method is deprecated and will be removed from pandas in a future version. Use pandas.concat instead.\n",
      "\n",
      "C:\\Users\\Harsh Clean\\AppData\\Local\\Temp\\ipykernel_25688\\1645067342.py:26: FutureWarning:\n",
      "\n",
      "The frame.append method is deprecated and will be removed from pandas in a future version. Use pandas.concat instead.\n",
      "\n",
      "C:\\Users\\Harsh Clean\\AppData\\Local\\Temp\\ipykernel_25688\\1645067342.py:26: FutureWarning:\n",
      "\n",
      "The frame.append method is deprecated and will be removed from pandas in a future version. Use pandas.concat instead.\n",
      "\n",
      "C:\\Users\\Harsh Clean\\AppData\\Local\\Temp\\ipykernel_25688\\1645067342.py:26: FutureWarning:\n",
      "\n",
      "The frame.append method is deprecated and will be removed from pandas in a future version. Use pandas.concat instead.\n",
      "\n",
      "C:\\Users\\Harsh Clean\\AppData\\Local\\Temp\\ipykernel_25688\\1645067342.py:26: FutureWarning:\n",
      "\n",
      "The frame.append method is deprecated and will be removed from pandas in a future version. Use pandas.concat instead.\n",
      "\n",
      "C:\\Users\\Harsh Clean\\AppData\\Local\\Temp\\ipykernel_25688\\1645067342.py:26: FutureWarning:\n",
      "\n",
      "The frame.append method is deprecated and will be removed from pandas in a future version. Use pandas.concat instead.\n",
      "\n",
      "C:\\Users\\Harsh Clean\\AppData\\Local\\Temp\\ipykernel_25688\\1645067342.py:26: FutureWarning:\n",
      "\n",
      "The frame.append method is deprecated and will be removed from pandas in a future version. Use pandas.concat instead.\n",
      "\n",
      "C:\\Users\\Harsh Clean\\AppData\\Local\\Temp\\ipykernel_25688\\1645067342.py:26: FutureWarning:\n",
      "\n",
      "The frame.append method is deprecated and will be removed from pandas in a future version. Use pandas.concat instead.\n",
      "\n",
      "C:\\Users\\Harsh Clean\\AppData\\Local\\Temp\\ipykernel_25688\\1645067342.py:26: FutureWarning:\n",
      "\n",
      "The frame.append method is deprecated and will be removed from pandas in a future version. Use pandas.concat instead.\n",
      "\n",
      "C:\\Users\\Harsh Clean\\AppData\\Local\\Temp\\ipykernel_25688\\1645067342.py:26: FutureWarning:\n",
      "\n",
      "The frame.append method is deprecated and will be removed from pandas in a future version. Use pandas.concat instead.\n",
      "\n",
      "C:\\Users\\Harsh Clean\\AppData\\Local\\Temp\\ipykernel_25688\\1645067342.py:26: FutureWarning:\n",
      "\n",
      "The frame.append method is deprecated and will be removed from pandas in a future version. Use pandas.concat instead.\n",
      "\n",
      "C:\\Users\\Harsh Clean\\AppData\\Local\\Temp\\ipykernel_25688\\1645067342.py:26: FutureWarning:\n",
      "\n",
      "The frame.append method is deprecated and will be removed from pandas in a future version. Use pandas.concat instead.\n",
      "\n",
      "C:\\Users\\Harsh Clean\\AppData\\Local\\Temp\\ipykernel_25688\\1645067342.py:26: FutureWarning:\n",
      "\n",
      "The frame.append method is deprecated and will be removed from pandas in a future version. Use pandas.concat instead.\n",
      "\n",
      "C:\\Users\\Harsh Clean\\AppData\\Local\\Temp\\ipykernel_25688\\1645067342.py:26: FutureWarning:\n",
      "\n",
      "The frame.append method is deprecated and will be removed from pandas in a future version. Use pandas.concat instead.\n",
      "\n",
      "C:\\Users\\Harsh Clean\\AppData\\Local\\Temp\\ipykernel_25688\\1645067342.py:26: FutureWarning:\n",
      "\n",
      "The frame.append method is deprecated and will be removed from pandas in a future version. Use pandas.concat instead.\n",
      "\n",
      "C:\\Users\\Harsh Clean\\AppData\\Local\\Temp\\ipykernel_25688\\1645067342.py:26: FutureWarning:\n",
      "\n",
      "The frame.append method is deprecated and will be removed from pandas in a future version. Use pandas.concat instead.\n",
      "\n",
      "C:\\Users\\Harsh Clean\\AppData\\Local\\Temp\\ipykernel_25688\\1645067342.py:26: FutureWarning:\n",
      "\n",
      "The frame.append method is deprecated and will be removed from pandas in a future version. Use pandas.concat instead.\n",
      "\n",
      "C:\\Users\\Harsh Clean\\AppData\\Local\\Temp\\ipykernel_25688\\1645067342.py:26: FutureWarning:\n",
      "\n",
      "The frame.append method is deprecated and will be removed from pandas in a future version. Use pandas.concat instead.\n",
      "\n",
      "C:\\Users\\Harsh Clean\\AppData\\Local\\Temp\\ipykernel_25688\\1645067342.py:26: FutureWarning:\n",
      "\n",
      "The frame.append method is deprecated and will be removed from pandas in a future version. Use pandas.concat instead.\n",
      "\n",
      "C:\\Users\\Harsh Clean\\AppData\\Local\\Temp\\ipykernel_25688\\1645067342.py:26: FutureWarning:\n",
      "\n",
      "The frame.append method is deprecated and will be removed from pandas in a future version. Use pandas.concat instead.\n",
      "\n",
      "C:\\Users\\Harsh Clean\\AppData\\Local\\Temp\\ipykernel_25688\\1645067342.py:26: FutureWarning:\n",
      "\n",
      "The frame.append method is deprecated and will be removed from pandas in a future version. Use pandas.concat instead.\n",
      "\n",
      "C:\\Users\\Harsh Clean\\AppData\\Local\\Temp\\ipykernel_25688\\1645067342.py:26: FutureWarning:\n",
      "\n",
      "The frame.append method is deprecated and will be removed from pandas in a future version. Use pandas.concat instead.\n",
      "\n",
      "C:\\Users\\Harsh Clean\\AppData\\Local\\Temp\\ipykernel_25688\\1645067342.py:26: FutureWarning:\n",
      "\n",
      "The frame.append method is deprecated and will be removed from pandas in a future version. Use pandas.concat instead.\n",
      "\n",
      "C:\\Users\\Harsh Clean\\AppData\\Local\\Temp\\ipykernel_25688\\1645067342.py:26: FutureWarning:\n",
      "\n",
      "The frame.append method is deprecated and will be removed from pandas in a future version. Use pandas.concat instead.\n",
      "\n",
      "C:\\Users\\Harsh Clean\\AppData\\Local\\Temp\\ipykernel_25688\\1645067342.py:26: FutureWarning:\n",
      "\n",
      "The frame.append method is deprecated and will be removed from pandas in a future version. Use pandas.concat instead.\n",
      "\n",
      "C:\\Users\\Harsh Clean\\AppData\\Local\\Temp\\ipykernel_25688\\1645067342.py:26: FutureWarning:\n",
      "\n",
      "The frame.append method is deprecated and will be removed from pandas in a future version. Use pandas.concat instead.\n",
      "\n",
      "C:\\Users\\Harsh Clean\\AppData\\Local\\Temp\\ipykernel_25688\\1645067342.py:26: FutureWarning:\n",
      "\n",
      "The frame.append method is deprecated and will be removed from pandas in a future version. Use pandas.concat instead.\n",
      "\n",
      "C:\\Users\\Harsh Clean\\AppData\\Local\\Temp\\ipykernel_25688\\1645067342.py:26: FutureWarning:\n",
      "\n",
      "The frame.append method is deprecated and will be removed from pandas in a future version. Use pandas.concat instead.\n",
      "\n",
      "C:\\Users\\Harsh Clean\\AppData\\Local\\Temp\\ipykernel_25688\\1645067342.py:26: FutureWarning:\n",
      "\n",
      "The frame.append method is deprecated and will be removed from pandas in a future version. Use pandas.concat instead.\n",
      "\n",
      "C:\\Users\\Harsh Clean\\AppData\\Local\\Temp\\ipykernel_25688\\1645067342.py:26: FutureWarning:\n",
      "\n",
      "The frame.append method is deprecated and will be removed from pandas in a future version. Use pandas.concat instead.\n",
      "\n",
      "C:\\Users\\Harsh Clean\\AppData\\Local\\Temp\\ipykernel_25688\\1645067342.py:26: FutureWarning:\n",
      "\n",
      "The frame.append method is deprecated and will be removed from pandas in a future version. Use pandas.concat instead.\n",
      "\n",
      "C:\\Users\\Harsh Clean\\AppData\\Local\\Temp\\ipykernel_25688\\1645067342.py:26: FutureWarning:\n",
      "\n",
      "The frame.append method is deprecated and will be removed from pandas in a future version. Use pandas.concat instead.\n",
      "\n",
      "C:\\Users\\Harsh Clean\\AppData\\Local\\Temp\\ipykernel_25688\\1645067342.py:26: FutureWarning:\n",
      "\n",
      "The frame.append method is deprecated and will be removed from pandas in a future version. Use pandas.concat instead.\n",
      "\n",
      "C:\\Users\\Harsh Clean\\AppData\\Local\\Temp\\ipykernel_25688\\1645067342.py:26: FutureWarning:\n",
      "\n",
      "The frame.append method is deprecated and will be removed from pandas in a future version. Use pandas.concat instead.\n",
      "\n",
      "C:\\Users\\Harsh Clean\\AppData\\Local\\Temp\\ipykernel_25688\\1645067342.py:26: FutureWarning:\n",
      "\n",
      "The frame.append method is deprecated and will be removed from pandas in a future version. Use pandas.concat instead.\n",
      "\n",
      "C:\\Users\\Harsh Clean\\AppData\\Local\\Temp\\ipykernel_25688\\1645067342.py:26: FutureWarning:\n",
      "\n",
      "The frame.append method is deprecated and will be removed from pandas in a future version. Use pandas.concat instead.\n",
      "\n",
      "C:\\Users\\Harsh Clean\\AppData\\Local\\Temp\\ipykernel_25688\\1645067342.py:26: FutureWarning:\n",
      "\n",
      "The frame.append method is deprecated and will be removed from pandas in a future version. Use pandas.concat instead.\n",
      "\n",
      "C:\\Users\\Harsh Clean\\AppData\\Local\\Temp\\ipykernel_25688\\1645067342.py:26: FutureWarning:\n",
      "\n",
      "The frame.append method is deprecated and will be removed from pandas in a future version. Use pandas.concat instead.\n",
      "\n",
      "C:\\Users\\Harsh Clean\\AppData\\Local\\Temp\\ipykernel_25688\\1645067342.py:26: FutureWarning:\n",
      "\n",
      "The frame.append method is deprecated and will be removed from pandas in a future version. Use pandas.concat instead.\n",
      "\n",
      "C:\\Users\\Harsh Clean\\AppData\\Local\\Temp\\ipykernel_25688\\1645067342.py:26: FutureWarning:\n",
      "\n",
      "The frame.append method is deprecated and will be removed from pandas in a future version. Use pandas.concat instead.\n",
      "\n",
      "C:\\Users\\Harsh Clean\\AppData\\Local\\Temp\\ipykernel_25688\\1645067342.py:26: FutureWarning:\n",
      "\n",
      "The frame.append method is deprecated and will be removed from pandas in a future version. Use pandas.concat instead.\n",
      "\n",
      "C:\\Users\\Harsh Clean\\AppData\\Local\\Temp\\ipykernel_25688\\1645067342.py:26: FutureWarning:\n",
      "\n",
      "The frame.append method is deprecated and will be removed from pandas in a future version. Use pandas.concat instead.\n",
      "\n",
      "C:\\Users\\Harsh Clean\\AppData\\Local\\Temp\\ipykernel_25688\\1645067342.py:26: FutureWarning:\n",
      "\n",
      "The frame.append method is deprecated and will be removed from pandas in a future version. Use pandas.concat instead.\n",
      "\n",
      "C:\\Users\\Harsh Clean\\AppData\\Local\\Temp\\ipykernel_25688\\1645067342.py:26: FutureWarning:\n",
      "\n",
      "The frame.append method is deprecated and will be removed from pandas in a future version. Use pandas.concat instead.\n",
      "\n",
      "C:\\Users\\Harsh Clean\\AppData\\Local\\Temp\\ipykernel_25688\\1645067342.py:26: FutureWarning:\n",
      "\n",
      "The frame.append method is deprecated and will be removed from pandas in a future version. Use pandas.concat instead.\n",
      "\n",
      "C:\\Users\\Harsh Clean\\AppData\\Local\\Temp\\ipykernel_25688\\1645067342.py:26: FutureWarning:\n",
      "\n",
      "The frame.append method is deprecated and will be removed from pandas in a future version. Use pandas.concat instead.\n",
      "\n",
      "C:\\Users\\Harsh Clean\\AppData\\Local\\Temp\\ipykernel_25688\\1645067342.py:26: FutureWarning:\n",
      "\n",
      "The frame.append method is deprecated and will be removed from pandas in a future version. Use pandas.concat instead.\n",
      "\n",
      "C:\\Users\\Harsh Clean\\AppData\\Local\\Temp\\ipykernel_25688\\1645067342.py:26: FutureWarning:\n",
      "\n",
      "The frame.append method is deprecated and will be removed from pandas in a future version. Use pandas.concat instead.\n",
      "\n",
      "C:\\Users\\Harsh Clean\\AppData\\Local\\Temp\\ipykernel_25688\\1645067342.py:26: FutureWarning:\n",
      "\n",
      "The frame.append method is deprecated and will be removed from pandas in a future version. Use pandas.concat instead.\n",
      "\n",
      "C:\\Users\\Harsh Clean\\AppData\\Local\\Temp\\ipykernel_25688\\1645067342.py:26: FutureWarning:\n",
      "\n",
      "The frame.append method is deprecated and will be removed from pandas in a future version. Use pandas.concat instead.\n",
      "\n",
      "C:\\Users\\Harsh Clean\\AppData\\Local\\Temp\\ipykernel_25688\\1645067342.py:26: FutureWarning:\n",
      "\n",
      "The frame.append method is deprecated and will be removed from pandas in a future version. Use pandas.concat instead.\n",
      "\n",
      "C:\\Users\\Harsh Clean\\AppData\\Local\\Temp\\ipykernel_25688\\1645067342.py:26: FutureWarning:\n",
      "\n",
      "The frame.append method is deprecated and will be removed from pandas in a future version. Use pandas.concat instead.\n",
      "\n",
      "C:\\Users\\Harsh Clean\\AppData\\Local\\Temp\\ipykernel_25688\\1645067342.py:26: FutureWarning:\n",
      "\n",
      "The frame.append method is deprecated and will be removed from pandas in a future version. Use pandas.concat instead.\n",
      "\n",
      "C:\\Users\\Harsh Clean\\AppData\\Local\\Temp\\ipykernel_25688\\1645067342.py:26: FutureWarning:\n",
      "\n",
      "The frame.append method is deprecated and will be removed from pandas in a future version. Use pandas.concat instead.\n",
      "\n",
      "C:\\Users\\Harsh Clean\\AppData\\Local\\Temp\\ipykernel_25688\\1645067342.py:26: FutureWarning:\n",
      "\n",
      "The frame.append method is deprecated and will be removed from pandas in a future version. Use pandas.concat instead.\n",
      "\n",
      "C:\\Users\\Harsh Clean\\AppData\\Local\\Temp\\ipykernel_25688\\1645067342.py:26: FutureWarning:\n",
      "\n",
      "The frame.append method is deprecated and will be removed from pandas in a future version. Use pandas.concat instead.\n",
      "\n",
      "C:\\Users\\Harsh Clean\\AppData\\Local\\Temp\\ipykernel_25688\\1645067342.py:26: FutureWarning:\n",
      "\n",
      "The frame.append method is deprecated and will be removed from pandas in a future version. Use pandas.concat instead.\n",
      "\n",
      "C:\\Users\\Harsh Clean\\AppData\\Local\\Temp\\ipykernel_25688\\1645067342.py:26: FutureWarning:\n",
      "\n",
      "The frame.append method is deprecated and will be removed from pandas in a future version. Use pandas.concat instead.\n",
      "\n",
      "C:\\Users\\Harsh Clean\\AppData\\Local\\Temp\\ipykernel_25688\\1645067342.py:26: FutureWarning:\n",
      "\n",
      "The frame.append method is deprecated and will be removed from pandas in a future version. Use pandas.concat instead.\n",
      "\n",
      "C:\\Users\\Harsh Clean\\AppData\\Local\\Temp\\ipykernel_25688\\1645067342.py:26: FutureWarning:\n",
      "\n",
      "The frame.append method is deprecated and will be removed from pandas in a future version. Use pandas.concat instead.\n",
      "\n",
      "C:\\Users\\Harsh Clean\\AppData\\Local\\Temp\\ipykernel_25688\\1645067342.py:26: FutureWarning:\n",
      "\n",
      "The frame.append method is deprecated and will be removed from pandas in a future version. Use pandas.concat instead.\n",
      "\n",
      "C:\\Users\\Harsh Clean\\AppData\\Local\\Temp\\ipykernel_25688\\1645067342.py:26: FutureWarning:\n",
      "\n",
      "The frame.append method is deprecated and will be removed from pandas in a future version. Use pandas.concat instead.\n",
      "\n",
      "C:\\Users\\Harsh Clean\\AppData\\Local\\Temp\\ipykernel_25688\\1645067342.py:26: FutureWarning:\n",
      "\n",
      "The frame.append method is deprecated and will be removed from pandas in a future version. Use pandas.concat instead.\n",
      "\n",
      "C:\\Users\\Harsh Clean\\AppData\\Local\\Temp\\ipykernel_25688\\1645067342.py:26: FutureWarning:\n",
      "\n",
      "The frame.append method is deprecated and will be removed from pandas in a future version. Use pandas.concat instead.\n",
      "\n",
      "C:\\Users\\Harsh Clean\\AppData\\Local\\Temp\\ipykernel_25688\\1645067342.py:26: FutureWarning:\n",
      "\n",
      "The frame.append method is deprecated and will be removed from pandas in a future version. Use pandas.concat instead.\n",
      "\n",
      "C:\\Users\\Harsh Clean\\AppData\\Local\\Temp\\ipykernel_25688\\1645067342.py:26: FutureWarning:\n",
      "\n",
      "The frame.append method is deprecated and will be removed from pandas in a future version. Use pandas.concat instead.\n",
      "\n",
      "C:\\Users\\Harsh Clean\\AppData\\Local\\Temp\\ipykernel_25688\\1645067342.py:26: FutureWarning:\n",
      "\n",
      "The frame.append method is deprecated and will be removed from pandas in a future version. Use pandas.concat instead.\n",
      "\n",
      "C:\\Users\\Harsh Clean\\AppData\\Local\\Temp\\ipykernel_25688\\1645067342.py:26: FutureWarning:\n",
      "\n",
      "The frame.append method is deprecated and will be removed from pandas in a future version. Use pandas.concat instead.\n",
      "\n",
      "C:\\Users\\Harsh Clean\\AppData\\Local\\Temp\\ipykernel_25688\\1645067342.py:26: FutureWarning:\n",
      "\n",
      "The frame.append method is deprecated and will be removed from pandas in a future version. Use pandas.concat instead.\n",
      "\n",
      "C:\\Users\\Harsh Clean\\AppData\\Local\\Temp\\ipykernel_25688\\1645067342.py:26: FutureWarning:\n",
      "\n",
      "The frame.append method is deprecated and will be removed from pandas in a future version. Use pandas.concat instead.\n",
      "\n",
      "C:\\Users\\Harsh Clean\\AppData\\Local\\Temp\\ipykernel_25688\\1645067342.py:26: FutureWarning:\n",
      "\n",
      "The frame.append method is deprecated and will be removed from pandas in a future version. Use pandas.concat instead.\n",
      "\n",
      "C:\\Users\\Harsh Clean\\AppData\\Local\\Temp\\ipykernel_25688\\1645067342.py:26: FutureWarning:\n",
      "\n",
      "The frame.append method is deprecated and will be removed from pandas in a future version. Use pandas.concat instead.\n",
      "\n",
      "C:\\Users\\Harsh Clean\\AppData\\Local\\Temp\\ipykernel_25688\\1645067342.py:26: FutureWarning:\n",
      "\n",
      "The frame.append method is deprecated and will be removed from pandas in a future version. Use pandas.concat instead.\n",
      "\n",
      "C:\\Users\\Harsh Clean\\AppData\\Local\\Temp\\ipykernel_25688\\1645067342.py:26: FutureWarning:\n",
      "\n",
      "The frame.append method is deprecated and will be removed from pandas in a future version. Use pandas.concat instead.\n",
      "\n",
      "C:\\Users\\Harsh Clean\\AppData\\Local\\Temp\\ipykernel_25688\\1645067342.py:26: FutureWarning:\n",
      "\n",
      "The frame.append method is deprecated and will be removed from pandas in a future version. Use pandas.concat instead.\n",
      "\n",
      "C:\\Users\\Harsh Clean\\AppData\\Local\\Temp\\ipykernel_25688\\1645067342.py:26: FutureWarning:\n",
      "\n",
      "The frame.append method is deprecated and will be removed from pandas in a future version. Use pandas.concat instead.\n",
      "\n",
      "C:\\Users\\Harsh Clean\\AppData\\Local\\Temp\\ipykernel_25688\\1645067342.py:26: FutureWarning:\n",
      "\n",
      "The frame.append method is deprecated and will be removed from pandas in a future version. Use pandas.concat instead.\n",
      "\n",
      "C:\\Users\\Harsh Clean\\AppData\\Local\\Temp\\ipykernel_25688\\1645067342.py:26: FutureWarning:\n",
      "\n",
      "The frame.append method is deprecated and will be removed from pandas in a future version. Use pandas.concat instead.\n",
      "\n",
      "C:\\Users\\Harsh Clean\\AppData\\Local\\Temp\\ipykernel_25688\\1645067342.py:26: FutureWarning:\n",
      "\n",
      "The frame.append method is deprecated and will be removed from pandas in a future version. Use pandas.concat instead.\n",
      "\n",
      "C:\\Users\\Harsh Clean\\AppData\\Local\\Temp\\ipykernel_25688\\1645067342.py:26: FutureWarning:\n",
      "\n",
      "The frame.append method is deprecated and will be removed from pandas in a future version. Use pandas.concat instead.\n",
      "\n",
      "C:\\Users\\Harsh Clean\\AppData\\Local\\Temp\\ipykernel_25688\\1645067342.py:26: FutureWarning:\n",
      "\n",
      "The frame.append method is deprecated and will be removed from pandas in a future version. Use pandas.concat instead.\n",
      "\n",
      "C:\\Users\\Harsh Clean\\AppData\\Local\\Temp\\ipykernel_25688\\1645067342.py:26: FutureWarning:\n",
      "\n",
      "The frame.append method is deprecated and will be removed from pandas in a future version. Use pandas.concat instead.\n",
      "\n",
      "C:\\Users\\Harsh Clean\\AppData\\Local\\Temp\\ipykernel_25688\\1645067342.py:26: FutureWarning:\n",
      "\n",
      "The frame.append method is deprecated and will be removed from pandas in a future version. Use pandas.concat instead.\n",
      "\n",
      "C:\\Users\\Harsh Clean\\AppData\\Local\\Temp\\ipykernel_25688\\1645067342.py:26: FutureWarning:\n",
      "\n",
      "The frame.append method is deprecated and will be removed from pandas in a future version. Use pandas.concat instead.\n",
      "\n",
      "C:\\Users\\Harsh Clean\\AppData\\Local\\Temp\\ipykernel_25688\\1645067342.py:26: FutureWarning:\n",
      "\n",
      "The frame.append method is deprecated and will be removed from pandas in a future version. Use pandas.concat instead.\n",
      "\n",
      "C:\\Users\\Harsh Clean\\AppData\\Local\\Temp\\ipykernel_25688\\1645067342.py:26: FutureWarning:\n",
      "\n",
      "The frame.append method is deprecated and will be removed from pandas in a future version. Use pandas.concat instead.\n",
      "\n",
      "C:\\Users\\Harsh Clean\\AppData\\Local\\Temp\\ipykernel_25688\\1645067342.py:26: FutureWarning:\n",
      "\n",
      "The frame.append method is deprecated and will be removed from pandas in a future version. Use pandas.concat instead.\n",
      "\n",
      "C:\\Users\\Harsh Clean\\AppData\\Local\\Temp\\ipykernel_25688\\1645067342.py:26: FutureWarning:\n",
      "\n",
      "The frame.append method is deprecated and will be removed from pandas in a future version. Use pandas.concat instead.\n",
      "\n",
      "C:\\Users\\Harsh Clean\\AppData\\Local\\Temp\\ipykernel_25688\\1645067342.py:26: FutureWarning:\n",
      "\n",
      "The frame.append method is deprecated and will be removed from pandas in a future version. Use pandas.concat instead.\n",
      "\n",
      "C:\\Users\\Harsh Clean\\AppData\\Local\\Temp\\ipykernel_25688\\1645067342.py:26: FutureWarning:\n",
      "\n",
      "The frame.append method is deprecated and will be removed from pandas in a future version. Use pandas.concat instead.\n",
      "\n",
      "C:\\Users\\Harsh Clean\\AppData\\Local\\Temp\\ipykernel_25688\\1645067342.py:26: FutureWarning:\n",
      "\n",
      "The frame.append method is deprecated and will be removed from pandas in a future version. Use pandas.concat instead.\n",
      "\n",
      "C:\\Users\\Harsh Clean\\AppData\\Local\\Temp\\ipykernel_25688\\1645067342.py:26: FutureWarning:\n",
      "\n",
      "The frame.append method is deprecated and will be removed from pandas in a future version. Use pandas.concat instead.\n",
      "\n",
      "C:\\Users\\Harsh Clean\\AppData\\Local\\Temp\\ipykernel_25688\\1645067342.py:26: FutureWarning:\n",
      "\n",
      "The frame.append method is deprecated and will be removed from pandas in a future version. Use pandas.concat instead.\n",
      "\n",
      "C:\\Users\\Harsh Clean\\AppData\\Local\\Temp\\ipykernel_25688\\1645067342.py:26: FutureWarning:\n",
      "\n",
      "The frame.append method is deprecated and will be removed from pandas in a future version. Use pandas.concat instead.\n",
      "\n",
      "C:\\Users\\Harsh Clean\\AppData\\Local\\Temp\\ipykernel_25688\\1645067342.py:26: FutureWarning:\n",
      "\n",
      "The frame.append method is deprecated and will be removed from pandas in a future version. Use pandas.concat instead.\n",
      "\n",
      "C:\\Users\\Harsh Clean\\AppData\\Local\\Temp\\ipykernel_25688\\1645067342.py:26: FutureWarning:\n",
      "\n",
      "The frame.append method is deprecated and will be removed from pandas in a future version. Use pandas.concat instead.\n",
      "\n",
      "C:\\Users\\Harsh Clean\\AppData\\Local\\Temp\\ipykernel_25688\\1645067342.py:26: FutureWarning:\n",
      "\n",
      "The frame.append method is deprecated and will be removed from pandas in a future version. Use pandas.concat instead.\n",
      "\n",
      "C:\\Users\\Harsh Clean\\AppData\\Local\\Temp\\ipykernel_25688\\1645067342.py:26: FutureWarning:\n",
      "\n",
      "The frame.append method is deprecated and will be removed from pandas in a future version. Use pandas.concat instead.\n",
      "\n",
      "C:\\Users\\Harsh Clean\\AppData\\Local\\Temp\\ipykernel_25688\\1645067342.py:26: FutureWarning:\n",
      "\n",
      "The frame.append method is deprecated and will be removed from pandas in a future version. Use pandas.concat instead.\n",
      "\n",
      "C:\\Users\\Harsh Clean\\AppData\\Local\\Temp\\ipykernel_25688\\1645067342.py:26: FutureWarning:\n",
      "\n",
      "The frame.append method is deprecated and will be removed from pandas in a future version. Use pandas.concat instead.\n",
      "\n",
      "C:\\Users\\Harsh Clean\\AppData\\Local\\Temp\\ipykernel_25688\\1645067342.py:26: FutureWarning:\n",
      "\n",
      "The frame.append method is deprecated and will be removed from pandas in a future version. Use pandas.concat instead.\n",
      "\n",
      "C:\\Users\\Harsh Clean\\AppData\\Local\\Temp\\ipykernel_25688\\1645067342.py:26: FutureWarning:\n",
      "\n",
      "The frame.append method is deprecated and will be removed from pandas in a future version. Use pandas.concat instead.\n",
      "\n",
      "C:\\Users\\Harsh Clean\\AppData\\Local\\Temp\\ipykernel_25688\\1645067342.py:26: FutureWarning:\n",
      "\n",
      "The frame.append method is deprecated and will be removed from pandas in a future version. Use pandas.concat instead.\n",
      "\n",
      "C:\\Users\\Harsh Clean\\AppData\\Local\\Temp\\ipykernel_25688\\1645067342.py:26: FutureWarning:\n",
      "\n",
      "The frame.append method is deprecated and will be removed from pandas in a future version. Use pandas.concat instead.\n",
      "\n",
      "C:\\Users\\Harsh Clean\\AppData\\Local\\Temp\\ipykernel_25688\\1645067342.py:26: FutureWarning:\n",
      "\n",
      "The frame.append method is deprecated and will be removed from pandas in a future version. Use pandas.concat instead.\n",
      "\n",
      "C:\\Users\\Harsh Clean\\AppData\\Local\\Temp\\ipykernel_25688\\1645067342.py:26: FutureWarning:\n",
      "\n",
      "The frame.append method is deprecated and will be removed from pandas in a future version. Use pandas.concat instead.\n",
      "\n",
      "C:\\Users\\Harsh Clean\\AppData\\Local\\Temp\\ipykernel_25688\\1645067342.py:26: FutureWarning:\n",
      "\n",
      "The frame.append method is deprecated and will be removed from pandas in a future version. Use pandas.concat instead.\n",
      "\n",
      "C:\\Users\\Harsh Clean\\AppData\\Local\\Temp\\ipykernel_25688\\1645067342.py:26: FutureWarning:\n",
      "\n",
      "The frame.append method is deprecated and will be removed from pandas in a future version. Use pandas.concat instead.\n",
      "\n",
      "C:\\Users\\Harsh Clean\\AppData\\Local\\Temp\\ipykernel_25688\\1645067342.py:26: FutureWarning:\n",
      "\n",
      "The frame.append method is deprecated and will be removed from pandas in a future version. Use pandas.concat instead.\n",
      "\n",
      "C:\\Users\\Harsh Clean\\AppData\\Local\\Temp\\ipykernel_25688\\1645067342.py:26: FutureWarning:\n",
      "\n",
      "The frame.append method is deprecated and will be removed from pandas in a future version. Use pandas.concat instead.\n",
      "\n",
      "C:\\Users\\Harsh Clean\\AppData\\Local\\Temp\\ipykernel_25688\\1645067342.py:26: FutureWarning:\n",
      "\n",
      "The frame.append method is deprecated and will be removed from pandas in a future version. Use pandas.concat instead.\n",
      "\n",
      "C:\\Users\\Harsh Clean\\AppData\\Local\\Temp\\ipykernel_25688\\1645067342.py:26: FutureWarning:\n",
      "\n",
      "The frame.append method is deprecated and will be removed from pandas in a future version. Use pandas.concat instead.\n",
      "\n",
      "C:\\Users\\Harsh Clean\\AppData\\Local\\Temp\\ipykernel_25688\\1645067342.py:26: FutureWarning:\n",
      "\n",
      "The frame.append method is deprecated and will be removed from pandas in a future version. Use pandas.concat instead.\n",
      "\n",
      "C:\\Users\\Harsh Clean\\AppData\\Local\\Temp\\ipykernel_25688\\1645067342.py:26: FutureWarning:\n",
      "\n",
      "The frame.append method is deprecated and will be removed from pandas in a future version. Use pandas.concat instead.\n",
      "\n",
      "C:\\Users\\Harsh Clean\\AppData\\Local\\Temp\\ipykernel_25688\\1645067342.py:26: FutureWarning:\n",
      "\n",
      "The frame.append method is deprecated and will be removed from pandas in a future version. Use pandas.concat instead.\n",
      "\n",
      "C:\\Users\\Harsh Clean\\AppData\\Local\\Temp\\ipykernel_25688\\1645067342.py:26: FutureWarning:\n",
      "\n",
      "The frame.append method is deprecated and will be removed from pandas in a future version. Use pandas.concat instead.\n",
      "\n",
      "C:\\Users\\Harsh Clean\\AppData\\Local\\Temp\\ipykernel_25688\\1645067342.py:26: FutureWarning:\n",
      "\n",
      "The frame.append method is deprecated and will be removed from pandas in a future version. Use pandas.concat instead.\n",
      "\n",
      "C:\\Users\\Harsh Clean\\AppData\\Local\\Temp\\ipykernel_25688\\1645067342.py:26: FutureWarning:\n",
      "\n",
      "The frame.append method is deprecated and will be removed from pandas in a future version. Use pandas.concat instead.\n",
      "\n",
      "C:\\Users\\Harsh Clean\\AppData\\Local\\Temp\\ipykernel_25688\\1645067342.py:26: FutureWarning:\n",
      "\n",
      "The frame.append method is deprecated and will be removed from pandas in a future version. Use pandas.concat instead.\n",
      "\n",
      "C:\\Users\\Harsh Clean\\AppData\\Local\\Temp\\ipykernel_25688\\1645067342.py:26: FutureWarning:\n",
      "\n",
      "The frame.append method is deprecated and will be removed from pandas in a future version. Use pandas.concat instead.\n",
      "\n",
      "C:\\Users\\Harsh Clean\\AppData\\Local\\Temp\\ipykernel_25688\\1645067342.py:26: FutureWarning:\n",
      "\n",
      "The frame.append method is deprecated and will be removed from pandas in a future version. Use pandas.concat instead.\n",
      "\n",
      "C:\\Users\\Harsh Clean\\AppData\\Local\\Temp\\ipykernel_25688\\1645067342.py:26: FutureWarning:\n",
      "\n",
      "The frame.append method is deprecated and will be removed from pandas in a future version. Use pandas.concat instead.\n",
      "\n",
      "C:\\Users\\Harsh Clean\\AppData\\Local\\Temp\\ipykernel_25688\\1645067342.py:26: FutureWarning:\n",
      "\n",
      "The frame.append method is deprecated and will be removed from pandas in a future version. Use pandas.concat instead.\n",
      "\n",
      "C:\\Users\\Harsh Clean\\AppData\\Local\\Temp\\ipykernel_25688\\1645067342.py:26: FutureWarning:\n",
      "\n",
      "The frame.append method is deprecated and will be removed from pandas in a future version. Use pandas.concat instead.\n",
      "\n",
      "C:\\Users\\Harsh Clean\\AppData\\Local\\Temp\\ipykernel_25688\\1645067342.py:26: FutureWarning:\n",
      "\n",
      "The frame.append method is deprecated and will be removed from pandas in a future version. Use pandas.concat instead.\n",
      "\n",
      "C:\\Users\\Harsh Clean\\AppData\\Local\\Temp\\ipykernel_25688\\1645067342.py:26: FutureWarning:\n",
      "\n",
      "The frame.append method is deprecated and will be removed from pandas in a future version. Use pandas.concat instead.\n",
      "\n",
      "C:\\Users\\Harsh Clean\\AppData\\Local\\Temp\\ipykernel_25688\\1645067342.py:26: FutureWarning:\n",
      "\n",
      "The frame.append method is deprecated and will be removed from pandas in a future version. Use pandas.concat instead.\n",
      "\n",
      "C:\\Users\\Harsh Clean\\AppData\\Local\\Temp\\ipykernel_25688\\1645067342.py:26: FutureWarning:\n",
      "\n",
      "The frame.append method is deprecated and will be removed from pandas in a future version. Use pandas.concat instead.\n",
      "\n",
      "C:\\Users\\Harsh Clean\\AppData\\Local\\Temp\\ipykernel_25688\\1645067342.py:26: FutureWarning:\n",
      "\n",
      "The frame.append method is deprecated and will be removed from pandas in a future version. Use pandas.concat instead.\n",
      "\n",
      "C:\\Users\\Harsh Clean\\AppData\\Local\\Temp\\ipykernel_25688\\1645067342.py:26: FutureWarning:\n",
      "\n",
      "The frame.append method is deprecated and will be removed from pandas in a future version. Use pandas.concat instead.\n",
      "\n",
      "C:\\Users\\Harsh Clean\\AppData\\Local\\Temp\\ipykernel_25688\\1645067342.py:26: FutureWarning:\n",
      "\n",
      "The frame.append method is deprecated and will be removed from pandas in a future version. Use pandas.concat instead.\n",
      "\n",
      "C:\\Users\\Harsh Clean\\AppData\\Local\\Temp\\ipykernel_25688\\1645067342.py:26: FutureWarning:\n",
      "\n",
      "The frame.append method is deprecated and will be removed from pandas in a future version. Use pandas.concat instead.\n",
      "\n",
      "C:\\Users\\Harsh Clean\\AppData\\Local\\Temp\\ipykernel_25688\\1645067342.py:26: FutureWarning:\n",
      "\n",
      "The frame.append method is deprecated and will be removed from pandas in a future version. Use pandas.concat instead.\n",
      "\n",
      "C:\\Users\\Harsh Clean\\AppData\\Local\\Temp\\ipykernel_25688\\1645067342.py:26: FutureWarning:\n",
      "\n",
      "The frame.append method is deprecated and will be removed from pandas in a future version. Use pandas.concat instead.\n",
      "\n",
      "C:\\Users\\Harsh Clean\\AppData\\Local\\Temp\\ipykernel_25688\\1645067342.py:26: FutureWarning:\n",
      "\n",
      "The frame.append method is deprecated and will be removed from pandas in a future version. Use pandas.concat instead.\n",
      "\n",
      "C:\\Users\\Harsh Clean\\AppData\\Local\\Temp\\ipykernel_25688\\1645067342.py:26: FutureWarning:\n",
      "\n",
      "The frame.append method is deprecated and will be removed from pandas in a future version. Use pandas.concat instead.\n",
      "\n",
      "C:\\Users\\Harsh Clean\\AppData\\Local\\Temp\\ipykernel_25688\\1645067342.py:26: FutureWarning:\n",
      "\n",
      "The frame.append method is deprecated and will be removed from pandas in a future version. Use pandas.concat instead.\n",
      "\n",
      "C:\\Users\\Harsh Clean\\AppData\\Local\\Temp\\ipykernel_25688\\1645067342.py:26: FutureWarning:\n",
      "\n",
      "The frame.append method is deprecated and will be removed from pandas in a future version. Use pandas.concat instead.\n",
      "\n",
      "C:\\Users\\Harsh Clean\\AppData\\Local\\Temp\\ipykernel_25688\\1645067342.py:26: FutureWarning:\n",
      "\n",
      "The frame.append method is deprecated and will be removed from pandas in a future version. Use pandas.concat instead.\n",
      "\n",
      "C:\\Users\\Harsh Clean\\AppData\\Local\\Temp\\ipykernel_25688\\1645067342.py:26: FutureWarning:\n",
      "\n",
      "The frame.append method is deprecated and will be removed from pandas in a future version. Use pandas.concat instead.\n",
      "\n",
      "C:\\Users\\Harsh Clean\\AppData\\Local\\Temp\\ipykernel_25688\\1645067342.py:26: FutureWarning:\n",
      "\n",
      "The frame.append method is deprecated and will be removed from pandas in a future version. Use pandas.concat instead.\n",
      "\n",
      "C:\\Users\\Harsh Clean\\AppData\\Local\\Temp\\ipykernel_25688\\1645067342.py:26: FutureWarning:\n",
      "\n",
      "The frame.append method is deprecated and will be removed from pandas in a future version. Use pandas.concat instead.\n",
      "\n",
      "C:\\Users\\Harsh Clean\\AppData\\Local\\Temp\\ipykernel_25688\\1645067342.py:26: FutureWarning:\n",
      "\n",
      "The frame.append method is deprecated and will be removed from pandas in a future version. Use pandas.concat instead.\n",
      "\n",
      "C:\\Users\\Harsh Clean\\AppData\\Local\\Temp\\ipykernel_25688\\1645067342.py:26: FutureWarning:\n",
      "\n",
      "The frame.append method is deprecated and will be removed from pandas in a future version. Use pandas.concat instead.\n",
      "\n",
      "C:\\Users\\Harsh Clean\\AppData\\Local\\Temp\\ipykernel_25688\\1645067342.py:26: FutureWarning:\n",
      "\n",
      "The frame.append method is deprecated and will be removed from pandas in a future version. Use pandas.concat instead.\n",
      "\n",
      "C:\\Users\\Harsh Clean\\AppData\\Local\\Temp\\ipykernel_25688\\1645067342.py:26: FutureWarning:\n",
      "\n",
      "The frame.append method is deprecated and will be removed from pandas in a future version. Use pandas.concat instead.\n",
      "\n",
      "C:\\Users\\Harsh Clean\\AppData\\Local\\Temp\\ipykernel_25688\\1645067342.py:26: FutureWarning:\n",
      "\n",
      "The frame.append method is deprecated and will be removed from pandas in a future version. Use pandas.concat instead.\n",
      "\n",
      "C:\\Users\\Harsh Clean\\AppData\\Local\\Temp\\ipykernel_25688\\1645067342.py:26: FutureWarning:\n",
      "\n",
      "The frame.append method is deprecated and will be removed from pandas in a future version. Use pandas.concat instead.\n",
      "\n",
      "C:\\Users\\Harsh Clean\\AppData\\Local\\Temp\\ipykernel_25688\\1645067342.py:26: FutureWarning:\n",
      "\n",
      "The frame.append method is deprecated and will be removed from pandas in a future version. Use pandas.concat instead.\n",
      "\n",
      "C:\\Users\\Harsh Clean\\AppData\\Local\\Temp\\ipykernel_25688\\1645067342.py:26: FutureWarning:\n",
      "\n",
      "The frame.append method is deprecated and will be removed from pandas in a future version. Use pandas.concat instead.\n",
      "\n",
      "C:\\Users\\Harsh Clean\\AppData\\Local\\Temp\\ipykernel_25688\\1645067342.py:26: FutureWarning:\n",
      "\n",
      "The frame.append method is deprecated and will be removed from pandas in a future version. Use pandas.concat instead.\n",
      "\n",
      "C:\\Users\\Harsh Clean\\AppData\\Local\\Temp\\ipykernel_25688\\1645067342.py:26: FutureWarning:\n",
      "\n",
      "The frame.append method is deprecated and will be removed from pandas in a future version. Use pandas.concat instead.\n",
      "\n",
      "C:\\Users\\Harsh Clean\\AppData\\Local\\Temp\\ipykernel_25688\\1645067342.py:26: FutureWarning:\n",
      "\n",
      "The frame.append method is deprecated and will be removed from pandas in a future version. Use pandas.concat instead.\n",
      "\n",
      "C:\\Users\\Harsh Clean\\AppData\\Local\\Temp\\ipykernel_25688\\1645067342.py:26: FutureWarning:\n",
      "\n",
      "The frame.append method is deprecated and will be removed from pandas in a future version. Use pandas.concat instead.\n",
      "\n",
      "C:\\Users\\Harsh Clean\\AppData\\Local\\Temp\\ipykernel_25688\\1645067342.py:26: FutureWarning:\n",
      "\n",
      "The frame.append method is deprecated and will be removed from pandas in a future version. Use pandas.concat instead.\n",
      "\n",
      "C:\\Users\\Harsh Clean\\AppData\\Local\\Temp\\ipykernel_25688\\1645067342.py:26: FutureWarning:\n",
      "\n",
      "The frame.append method is deprecated and will be removed from pandas in a future version. Use pandas.concat instead.\n",
      "\n",
      "C:\\Users\\Harsh Clean\\AppData\\Local\\Temp\\ipykernel_25688\\1645067342.py:26: FutureWarning:\n",
      "\n",
      "The frame.append method is deprecated and will be removed from pandas in a future version. Use pandas.concat instead.\n",
      "\n",
      "C:\\Users\\Harsh Clean\\AppData\\Local\\Temp\\ipykernel_25688\\1645067342.py:26: FutureWarning:\n",
      "\n",
      "The frame.append method is deprecated and will be removed from pandas in a future version. Use pandas.concat instead.\n",
      "\n",
      "C:\\Users\\Harsh Clean\\AppData\\Local\\Temp\\ipykernel_25688\\1645067342.py:26: FutureWarning:\n",
      "\n",
      "The frame.append method is deprecated and will be removed from pandas in a future version. Use pandas.concat instead.\n",
      "\n",
      "C:\\Users\\Harsh Clean\\AppData\\Local\\Temp\\ipykernel_25688\\1645067342.py:26: FutureWarning:\n",
      "\n",
      "The frame.append method is deprecated and will be removed from pandas in a future version. Use pandas.concat instead.\n",
      "\n",
      "C:\\Users\\Harsh Clean\\AppData\\Local\\Temp\\ipykernel_25688\\1645067342.py:26: FutureWarning:\n",
      "\n",
      "The frame.append method is deprecated and will be removed from pandas in a future version. Use pandas.concat instead.\n",
      "\n",
      "C:\\Users\\Harsh Clean\\AppData\\Local\\Temp\\ipykernel_25688\\1645067342.py:26: FutureWarning:\n",
      "\n",
      "The frame.append method is deprecated and will be removed from pandas in a future version. Use pandas.concat instead.\n",
      "\n",
      "C:\\Users\\Harsh Clean\\AppData\\Local\\Temp\\ipykernel_25688\\1645067342.py:26: FutureWarning:\n",
      "\n",
      "The frame.append method is deprecated and will be removed from pandas in a future version. Use pandas.concat instead.\n",
      "\n",
      "C:\\Users\\Harsh Clean\\AppData\\Local\\Temp\\ipykernel_25688\\1645067342.py:26: FutureWarning:\n",
      "\n",
      "The frame.append method is deprecated and will be removed from pandas in a future version. Use pandas.concat instead.\n",
      "\n",
      "C:\\Users\\Harsh Clean\\AppData\\Local\\Temp\\ipykernel_25688\\1645067342.py:26: FutureWarning:\n",
      "\n",
      "The frame.append method is deprecated and will be removed from pandas in a future version. Use pandas.concat instead.\n",
      "\n",
      "C:\\Users\\Harsh Clean\\AppData\\Local\\Temp\\ipykernel_25688\\1645067342.py:26: FutureWarning:\n",
      "\n",
      "The frame.append method is deprecated and will be removed from pandas in a future version. Use pandas.concat instead.\n",
      "\n",
      "C:\\Users\\Harsh Clean\\AppData\\Local\\Temp\\ipykernel_25688\\1645067342.py:26: FutureWarning:\n",
      "\n",
      "The frame.append method is deprecated and will be removed from pandas in a future version. Use pandas.concat instead.\n",
      "\n",
      "C:\\Users\\Harsh Clean\\AppData\\Local\\Temp\\ipykernel_25688\\1645067342.py:26: FutureWarning:\n",
      "\n",
      "The frame.append method is deprecated and will be removed from pandas in a future version. Use pandas.concat instead.\n",
      "\n",
      "C:\\Users\\Harsh Clean\\AppData\\Local\\Temp\\ipykernel_25688\\1645067342.py:26: FutureWarning:\n",
      "\n",
      "The frame.append method is deprecated and will be removed from pandas in a future version. Use pandas.concat instead.\n",
      "\n",
      "C:\\Users\\Harsh Clean\\AppData\\Local\\Temp\\ipykernel_25688\\1645067342.py:26: FutureWarning:\n",
      "\n",
      "The frame.append method is deprecated and will be removed from pandas in a future version. Use pandas.concat instead.\n",
      "\n",
      "C:\\Users\\Harsh Clean\\AppData\\Local\\Temp\\ipykernel_25688\\1645067342.py:26: FutureWarning:\n",
      "\n",
      "The frame.append method is deprecated and will be removed from pandas in a future version. Use pandas.concat instead.\n",
      "\n",
      "C:\\Users\\Harsh Clean\\AppData\\Local\\Temp\\ipykernel_25688\\1645067342.py:26: FutureWarning:\n",
      "\n",
      "The frame.append method is deprecated and will be removed from pandas in a future version. Use pandas.concat instead.\n",
      "\n",
      "C:\\Users\\Harsh Clean\\AppData\\Local\\Temp\\ipykernel_25688\\1645067342.py:26: FutureWarning:\n",
      "\n",
      "The frame.append method is deprecated and will be removed from pandas in a future version. Use pandas.concat instead.\n",
      "\n",
      "C:\\Users\\Harsh Clean\\AppData\\Local\\Temp\\ipykernel_25688\\1645067342.py:26: FutureWarning:\n",
      "\n",
      "The frame.append method is deprecated and will be removed from pandas in a future version. Use pandas.concat instead.\n",
      "\n",
      "C:\\Users\\Harsh Clean\\AppData\\Local\\Temp\\ipykernel_25688\\1645067342.py:26: FutureWarning:\n",
      "\n",
      "The frame.append method is deprecated and will be removed from pandas in a future version. Use pandas.concat instead.\n",
      "\n",
      "C:\\Users\\Harsh Clean\\AppData\\Local\\Temp\\ipykernel_25688\\1645067342.py:26: FutureWarning:\n",
      "\n",
      "The frame.append method is deprecated and will be removed from pandas in a future version. Use pandas.concat instead.\n",
      "\n",
      "C:\\Users\\Harsh Clean\\AppData\\Local\\Temp\\ipykernel_25688\\1645067342.py:26: FutureWarning:\n",
      "\n",
      "The frame.append method is deprecated and will be removed from pandas in a future version. Use pandas.concat instead.\n",
      "\n",
      "C:\\Users\\Harsh Clean\\AppData\\Local\\Temp\\ipykernel_25688\\1645067342.py:26: FutureWarning:\n",
      "\n",
      "The frame.append method is deprecated and will be removed from pandas in a future version. Use pandas.concat instead.\n",
      "\n",
      "C:\\Users\\Harsh Clean\\AppData\\Local\\Temp\\ipykernel_25688\\1645067342.py:26: FutureWarning:\n",
      "\n",
      "The frame.append method is deprecated and will be removed from pandas in a future version. Use pandas.concat instead.\n",
      "\n",
      "C:\\Users\\Harsh Clean\\AppData\\Local\\Temp\\ipykernel_25688\\1645067342.py:26: FutureWarning:\n",
      "\n",
      "The frame.append method is deprecated and will be removed from pandas in a future version. Use pandas.concat instead.\n",
      "\n",
      "C:\\Users\\Harsh Clean\\AppData\\Local\\Temp\\ipykernel_25688\\1645067342.py:26: FutureWarning:\n",
      "\n",
      "The frame.append method is deprecated and will be removed from pandas in a future version. Use pandas.concat instead.\n",
      "\n",
      "C:\\Users\\Harsh Clean\\AppData\\Local\\Temp\\ipykernel_25688\\1645067342.py:26: FutureWarning:\n",
      "\n",
      "The frame.append method is deprecated and will be removed from pandas in a future version. Use pandas.concat instead.\n",
      "\n",
      "C:\\Users\\Harsh Clean\\AppData\\Local\\Temp\\ipykernel_25688\\1645067342.py:26: FutureWarning:\n",
      "\n",
      "The frame.append method is deprecated and will be removed from pandas in a future version. Use pandas.concat instead.\n",
      "\n",
      "C:\\Users\\Harsh Clean\\AppData\\Local\\Temp\\ipykernel_25688\\1645067342.py:26: FutureWarning:\n",
      "\n",
      "The frame.append method is deprecated and will be removed from pandas in a future version. Use pandas.concat instead.\n",
      "\n",
      "C:\\Users\\Harsh Clean\\AppData\\Local\\Temp\\ipykernel_25688\\1645067342.py:26: FutureWarning:\n",
      "\n",
      "The frame.append method is deprecated and will be removed from pandas in a future version. Use pandas.concat instead.\n",
      "\n",
      "C:\\Users\\Harsh Clean\\AppData\\Local\\Temp\\ipykernel_25688\\1645067342.py:26: FutureWarning:\n",
      "\n",
      "The frame.append method is deprecated and will be removed from pandas in a future version. Use pandas.concat instead.\n",
      "\n",
      "C:\\Users\\Harsh Clean\\AppData\\Local\\Temp\\ipykernel_25688\\1645067342.py:26: FutureWarning:\n",
      "\n",
      "The frame.append method is deprecated and will be removed from pandas in a future version. Use pandas.concat instead.\n",
      "\n",
      "C:\\Users\\Harsh Clean\\AppData\\Local\\Temp\\ipykernel_25688\\1645067342.py:26: FutureWarning:\n",
      "\n",
      "The frame.append method is deprecated and will be removed from pandas in a future version. Use pandas.concat instead.\n",
      "\n",
      "C:\\Users\\Harsh Clean\\AppData\\Local\\Temp\\ipykernel_25688\\1645067342.py:26: FutureWarning:\n",
      "\n",
      "The frame.append method is deprecated and will be removed from pandas in a future version. Use pandas.concat instead.\n",
      "\n",
      "C:\\Users\\Harsh Clean\\AppData\\Local\\Temp\\ipykernel_25688\\1645067342.py:26: FutureWarning:\n",
      "\n",
      "The frame.append method is deprecated and will be removed from pandas in a future version. Use pandas.concat instead.\n",
      "\n",
      "C:\\Users\\Harsh Clean\\AppData\\Local\\Temp\\ipykernel_25688\\1645067342.py:26: FutureWarning:\n",
      "\n",
      "The frame.append method is deprecated and will be removed from pandas in a future version. Use pandas.concat instead.\n",
      "\n",
      "C:\\Users\\Harsh Clean\\AppData\\Local\\Temp\\ipykernel_25688\\1645067342.py:26: FutureWarning:\n",
      "\n",
      "The frame.append method is deprecated and will be removed from pandas in a future version. Use pandas.concat instead.\n",
      "\n",
      "C:\\Users\\Harsh Clean\\AppData\\Local\\Temp\\ipykernel_25688\\1645067342.py:26: FutureWarning:\n",
      "\n",
      "The frame.append method is deprecated and will be removed from pandas in a future version. Use pandas.concat instead.\n",
      "\n",
      "C:\\Users\\Harsh Clean\\AppData\\Local\\Temp\\ipykernel_25688\\1645067342.py:26: FutureWarning:\n",
      "\n",
      "The frame.append method is deprecated and will be removed from pandas in a future version. Use pandas.concat instead.\n",
      "\n",
      "C:\\Users\\Harsh Clean\\AppData\\Local\\Temp\\ipykernel_25688\\1645067342.py:26: FutureWarning:\n",
      "\n",
      "The frame.append method is deprecated and will be removed from pandas in a future version. Use pandas.concat instead.\n",
      "\n",
      "C:\\Users\\Harsh Clean\\AppData\\Local\\Temp\\ipykernel_25688\\1645067342.py:26: FutureWarning:\n",
      "\n",
      "The frame.append method is deprecated and will be removed from pandas in a future version. Use pandas.concat instead.\n",
      "\n",
      "C:\\Users\\Harsh Clean\\AppData\\Local\\Temp\\ipykernel_25688\\1645067342.py:26: FutureWarning:\n",
      "\n",
      "The frame.append method is deprecated and will be removed from pandas in a future version. Use pandas.concat instead.\n",
      "\n",
      "C:\\Users\\Harsh Clean\\AppData\\Local\\Temp\\ipykernel_25688\\1645067342.py:26: FutureWarning:\n",
      "\n",
      "The frame.append method is deprecated and will be removed from pandas in a future version. Use pandas.concat instead.\n",
      "\n",
      "C:\\Users\\Harsh Clean\\AppData\\Local\\Temp\\ipykernel_25688\\1645067342.py:26: FutureWarning:\n",
      "\n",
      "The frame.append method is deprecated and will be removed from pandas in a future version. Use pandas.concat instead.\n",
      "\n",
      "C:\\Users\\Harsh Clean\\AppData\\Local\\Temp\\ipykernel_25688\\1645067342.py:26: FutureWarning:\n",
      "\n",
      "The frame.append method is deprecated and will be removed from pandas in a future version. Use pandas.concat instead.\n",
      "\n",
      "C:\\Users\\Harsh Clean\\AppData\\Local\\Temp\\ipykernel_25688\\1645067342.py:26: FutureWarning:\n",
      "\n",
      "The frame.append method is deprecated and will be removed from pandas in a future version. Use pandas.concat instead.\n",
      "\n",
      "C:\\Users\\Harsh Clean\\AppData\\Local\\Temp\\ipykernel_25688\\1645067342.py:26: FutureWarning:\n",
      "\n",
      "The frame.append method is deprecated and will be removed from pandas in a future version. Use pandas.concat instead.\n",
      "\n",
      "C:\\Users\\Harsh Clean\\AppData\\Local\\Temp\\ipykernel_25688\\1645067342.py:26: FutureWarning:\n",
      "\n",
      "The frame.append method is deprecated and will be removed from pandas in a future version. Use pandas.concat instead.\n",
      "\n",
      "C:\\Users\\Harsh Clean\\AppData\\Local\\Temp\\ipykernel_25688\\1645067342.py:26: FutureWarning:\n",
      "\n",
      "The frame.append method is deprecated and will be removed from pandas in a future version. Use pandas.concat instead.\n",
      "\n",
      "C:\\Users\\Harsh Clean\\AppData\\Local\\Temp\\ipykernel_25688\\1645067342.py:26: FutureWarning:\n",
      "\n",
      "The frame.append method is deprecated and will be removed from pandas in a future version. Use pandas.concat instead.\n",
      "\n",
      "C:\\Users\\Harsh Clean\\AppData\\Local\\Temp\\ipykernel_25688\\1645067342.py:26: FutureWarning:\n",
      "\n",
      "The frame.append method is deprecated and will be removed from pandas in a future version. Use pandas.concat instead.\n",
      "\n",
      "C:\\Users\\Harsh Clean\\AppData\\Local\\Temp\\ipykernel_25688\\1645067342.py:26: FutureWarning:\n",
      "\n",
      "The frame.append method is deprecated and will be removed from pandas in a future version. Use pandas.concat instead.\n",
      "\n",
      "C:\\Users\\Harsh Clean\\AppData\\Local\\Temp\\ipykernel_25688\\1645067342.py:26: FutureWarning:\n",
      "\n",
      "The frame.append method is deprecated and will be removed from pandas in a future version. Use pandas.concat instead.\n",
      "\n",
      "C:\\Users\\Harsh Clean\\AppData\\Local\\Temp\\ipykernel_25688\\1645067342.py:26: FutureWarning:\n",
      "\n",
      "The frame.append method is deprecated and will be removed from pandas in a future version. Use pandas.concat instead.\n",
      "\n",
      "C:\\Users\\Harsh Clean\\AppData\\Local\\Temp\\ipykernel_25688\\1645067342.py:26: FutureWarning:\n",
      "\n",
      "The frame.append method is deprecated and will be removed from pandas in a future version. Use pandas.concat instead.\n",
      "\n",
      "C:\\Users\\Harsh Clean\\AppData\\Local\\Temp\\ipykernel_25688\\1645067342.py:26: FutureWarning:\n",
      "\n",
      "The frame.append method is deprecated and will be removed from pandas in a future version. Use pandas.concat instead.\n",
      "\n",
      "C:\\Users\\Harsh Clean\\AppData\\Local\\Temp\\ipykernel_25688\\1645067342.py:26: FutureWarning:\n",
      "\n",
      "The frame.append method is deprecated and will be removed from pandas in a future version. Use pandas.concat instead.\n",
      "\n",
      "C:\\Users\\Harsh Clean\\AppData\\Local\\Temp\\ipykernel_25688\\1645067342.py:26: FutureWarning:\n",
      "\n",
      "The frame.append method is deprecated and will be removed from pandas in a future version. Use pandas.concat instead.\n",
      "\n",
      "C:\\Users\\Harsh Clean\\AppData\\Local\\Temp\\ipykernel_25688\\1645067342.py:26: FutureWarning:\n",
      "\n",
      "The frame.append method is deprecated and will be removed from pandas in a future version. Use pandas.concat instead.\n",
      "\n",
      "C:\\Users\\Harsh Clean\\AppData\\Local\\Temp\\ipykernel_25688\\1645067342.py:26: FutureWarning:\n",
      "\n",
      "The frame.append method is deprecated and will be removed from pandas in a future version. Use pandas.concat instead.\n",
      "\n",
      "C:\\Users\\Harsh Clean\\AppData\\Local\\Temp\\ipykernel_25688\\1645067342.py:26: FutureWarning:\n",
      "\n",
      "The frame.append method is deprecated and will be removed from pandas in a future version. Use pandas.concat instead.\n",
      "\n",
      "C:\\Users\\Harsh Clean\\AppData\\Local\\Temp\\ipykernel_25688\\1645067342.py:26: FutureWarning:\n",
      "\n",
      "The frame.append method is deprecated and will be removed from pandas in a future version. Use pandas.concat instead.\n",
      "\n",
      "C:\\Users\\Harsh Clean\\AppData\\Local\\Temp\\ipykernel_25688\\1645067342.py:26: FutureWarning:\n",
      "\n",
      "The frame.append method is deprecated and will be removed from pandas in a future version. Use pandas.concat instead.\n",
      "\n",
      "C:\\Users\\Harsh Clean\\AppData\\Local\\Temp\\ipykernel_25688\\1645067342.py:26: FutureWarning:\n",
      "\n",
      "The frame.append method is deprecated and will be removed from pandas in a future version. Use pandas.concat instead.\n",
      "\n",
      "C:\\Users\\Harsh Clean\\AppData\\Local\\Temp\\ipykernel_25688\\1645067342.py:26: FutureWarning:\n",
      "\n",
      "The frame.append method is deprecated and will be removed from pandas in a future version. Use pandas.concat instead.\n",
      "\n",
      "C:\\Users\\Harsh Clean\\AppData\\Local\\Temp\\ipykernel_25688\\1645067342.py:26: FutureWarning:\n",
      "\n",
      "The frame.append method is deprecated and will be removed from pandas in a future version. Use pandas.concat instead.\n",
      "\n",
      "C:\\Users\\Harsh Clean\\AppData\\Local\\Temp\\ipykernel_25688\\1645067342.py:26: FutureWarning:\n",
      "\n",
      "The frame.append method is deprecated and will be removed from pandas in a future version. Use pandas.concat instead.\n",
      "\n",
      "C:\\Users\\Harsh Clean\\AppData\\Local\\Temp\\ipykernel_25688\\1645067342.py:26: FutureWarning:\n",
      "\n",
      "The frame.append method is deprecated and will be removed from pandas in a future version. Use pandas.concat instead.\n",
      "\n",
      "C:\\Users\\Harsh Clean\\AppData\\Local\\Temp\\ipykernel_25688\\1645067342.py:26: FutureWarning:\n",
      "\n",
      "The frame.append method is deprecated and will be removed from pandas in a future version. Use pandas.concat instead.\n",
      "\n",
      "C:\\Users\\Harsh Clean\\AppData\\Local\\Temp\\ipykernel_25688\\1645067342.py:26: FutureWarning:\n",
      "\n",
      "The frame.append method is deprecated and will be removed from pandas in a future version. Use pandas.concat instead.\n",
      "\n",
      "C:\\Users\\Harsh Clean\\AppData\\Local\\Temp\\ipykernel_25688\\1645067342.py:26: FutureWarning:\n",
      "\n",
      "The frame.append method is deprecated and will be removed from pandas in a future version. Use pandas.concat instead.\n",
      "\n",
      "C:\\Users\\Harsh Clean\\AppData\\Local\\Temp\\ipykernel_25688\\1645067342.py:26: FutureWarning:\n",
      "\n",
      "The frame.append method is deprecated and will be removed from pandas in a future version. Use pandas.concat instead.\n",
      "\n",
      "C:\\Users\\Harsh Clean\\AppData\\Local\\Temp\\ipykernel_25688\\1645067342.py:26: FutureWarning:\n",
      "\n",
      "The frame.append method is deprecated and will be removed from pandas in a future version. Use pandas.concat instead.\n",
      "\n",
      "C:\\Users\\Harsh Clean\\AppData\\Local\\Temp\\ipykernel_25688\\1645067342.py:26: FutureWarning:\n",
      "\n",
      "The frame.append method is deprecated and will be removed from pandas in a future version. Use pandas.concat instead.\n",
      "\n",
      "C:\\Users\\Harsh Clean\\AppData\\Local\\Temp\\ipykernel_25688\\1645067342.py:26: FutureWarning:\n",
      "\n",
      "The frame.append method is deprecated and will be removed from pandas in a future version. Use pandas.concat instead.\n",
      "\n",
      "C:\\Users\\Harsh Clean\\AppData\\Local\\Temp\\ipykernel_25688\\1645067342.py:26: FutureWarning:\n",
      "\n",
      "The frame.append method is deprecated and will be removed from pandas in a future version. Use pandas.concat instead.\n",
      "\n",
      "C:\\Users\\Harsh Clean\\AppData\\Local\\Temp\\ipykernel_25688\\1645067342.py:26: FutureWarning:\n",
      "\n",
      "The frame.append method is deprecated and will be removed from pandas in a future version. Use pandas.concat instead.\n",
      "\n",
      "C:\\Users\\Harsh Clean\\AppData\\Local\\Temp\\ipykernel_25688\\1645067342.py:26: FutureWarning:\n",
      "\n",
      "The frame.append method is deprecated and will be removed from pandas in a future version. Use pandas.concat instead.\n",
      "\n",
      "C:\\Users\\Harsh Clean\\AppData\\Local\\Temp\\ipykernel_25688\\1645067342.py:26: FutureWarning:\n",
      "\n",
      "The frame.append method is deprecated and will be removed from pandas in a future version. Use pandas.concat instead.\n",
      "\n",
      "C:\\Users\\Harsh Clean\\AppData\\Local\\Temp\\ipykernel_25688\\1645067342.py:26: FutureWarning:\n",
      "\n",
      "The frame.append method is deprecated and will be removed from pandas in a future version. Use pandas.concat instead.\n",
      "\n",
      "C:\\Users\\Harsh Clean\\AppData\\Local\\Temp\\ipykernel_25688\\1645067342.py:26: FutureWarning:\n",
      "\n",
      "The frame.append method is deprecated and will be removed from pandas in a future version. Use pandas.concat instead.\n",
      "\n",
      "C:\\Users\\Harsh Clean\\AppData\\Local\\Temp\\ipykernel_25688\\1645067342.py:26: FutureWarning:\n",
      "\n",
      "The frame.append method is deprecated and will be removed from pandas in a future version. Use pandas.concat instead.\n",
      "\n",
      "C:\\Users\\Harsh Clean\\AppData\\Local\\Temp\\ipykernel_25688\\1645067342.py:26: FutureWarning:\n",
      "\n",
      "The frame.append method is deprecated and will be removed from pandas in a future version. Use pandas.concat instead.\n",
      "\n",
      "C:\\Users\\Harsh Clean\\AppData\\Local\\Temp\\ipykernel_25688\\1645067342.py:26: FutureWarning:\n",
      "\n",
      "The frame.append method is deprecated and will be removed from pandas in a future version. Use pandas.concat instead.\n",
      "\n",
      "C:\\Users\\Harsh Clean\\AppData\\Local\\Temp\\ipykernel_25688\\1645067342.py:26: FutureWarning:\n",
      "\n",
      "The frame.append method is deprecated and will be removed from pandas in a future version. Use pandas.concat instead.\n",
      "\n",
      "C:\\Users\\Harsh Clean\\AppData\\Local\\Temp\\ipykernel_25688\\1645067342.py:26: FutureWarning:\n",
      "\n",
      "The frame.append method is deprecated and will be removed from pandas in a future version. Use pandas.concat instead.\n",
      "\n",
      "C:\\Users\\Harsh Clean\\AppData\\Local\\Temp\\ipykernel_25688\\1645067342.py:26: FutureWarning:\n",
      "\n",
      "The frame.append method is deprecated and will be removed from pandas in a future version. Use pandas.concat instead.\n",
      "\n",
      "C:\\Users\\Harsh Clean\\AppData\\Local\\Temp\\ipykernel_25688\\1645067342.py:26: FutureWarning:\n",
      "\n",
      "The frame.append method is deprecated and will be removed from pandas in a future version. Use pandas.concat instead.\n",
      "\n",
      "C:\\Users\\Harsh Clean\\AppData\\Local\\Temp\\ipykernel_25688\\1645067342.py:26: FutureWarning:\n",
      "\n",
      "The frame.append method is deprecated and will be removed from pandas in a future version. Use pandas.concat instead.\n",
      "\n",
      "C:\\Users\\Harsh Clean\\AppData\\Local\\Temp\\ipykernel_25688\\1645067342.py:26: FutureWarning:\n",
      "\n",
      "The frame.append method is deprecated and will be removed from pandas in a future version. Use pandas.concat instead.\n",
      "\n",
      "C:\\Users\\Harsh Clean\\AppData\\Local\\Temp\\ipykernel_25688\\1645067342.py:26: FutureWarning:\n",
      "\n",
      "The frame.append method is deprecated and will be removed from pandas in a future version. Use pandas.concat instead.\n",
      "\n",
      "C:\\Users\\Harsh Clean\\AppData\\Local\\Temp\\ipykernel_25688\\1645067342.py:26: FutureWarning:\n",
      "\n",
      "The frame.append method is deprecated and will be removed from pandas in a future version. Use pandas.concat instead.\n",
      "\n",
      "C:\\Users\\Harsh Clean\\AppData\\Local\\Temp\\ipykernel_25688\\1645067342.py:26: FutureWarning:\n",
      "\n",
      "The frame.append method is deprecated and will be removed from pandas in a future version. Use pandas.concat instead.\n",
      "\n",
      "C:\\Users\\Harsh Clean\\AppData\\Local\\Temp\\ipykernel_25688\\1645067342.py:26: FutureWarning:\n",
      "\n",
      "The frame.append method is deprecated and will be removed from pandas in a future version. Use pandas.concat instead.\n",
      "\n",
      "C:\\Users\\Harsh Clean\\AppData\\Local\\Temp\\ipykernel_25688\\1645067342.py:26: FutureWarning:\n",
      "\n",
      "The frame.append method is deprecated and will be removed from pandas in a future version. Use pandas.concat instead.\n",
      "\n",
      "C:\\Users\\Harsh Clean\\AppData\\Local\\Temp\\ipykernel_25688\\1645067342.py:26: FutureWarning:\n",
      "\n",
      "The frame.append method is deprecated and will be removed from pandas in a future version. Use pandas.concat instead.\n",
      "\n",
      "C:\\Users\\Harsh Clean\\AppData\\Local\\Temp\\ipykernel_25688\\1645067342.py:26: FutureWarning:\n",
      "\n",
      "The frame.append method is deprecated and will be removed from pandas in a future version. Use pandas.concat instead.\n",
      "\n",
      "C:\\Users\\Harsh Clean\\AppData\\Local\\Temp\\ipykernel_25688\\1645067342.py:26: FutureWarning:\n",
      "\n",
      "The frame.append method is deprecated and will be removed from pandas in a future version. Use pandas.concat instead.\n",
      "\n",
      "C:\\Users\\Harsh Clean\\AppData\\Local\\Temp\\ipykernel_25688\\1645067342.py:26: FutureWarning:\n",
      "\n",
      "The frame.append method is deprecated and will be removed from pandas in a future version. Use pandas.concat instead.\n",
      "\n",
      "C:\\Users\\Harsh Clean\\AppData\\Local\\Temp\\ipykernel_25688\\1645067342.py:26: FutureWarning:\n",
      "\n",
      "The frame.append method is deprecated and will be removed from pandas in a future version. Use pandas.concat instead.\n",
      "\n",
      "C:\\Users\\Harsh Clean\\AppData\\Local\\Temp\\ipykernel_25688\\1645067342.py:26: FutureWarning:\n",
      "\n",
      "The frame.append method is deprecated and will be removed from pandas in a future version. Use pandas.concat instead.\n",
      "\n",
      "C:\\Users\\Harsh Clean\\AppData\\Local\\Temp\\ipykernel_25688\\1645067342.py:26: FutureWarning:\n",
      "\n",
      "The frame.append method is deprecated and will be removed from pandas in a future version. Use pandas.concat instead.\n",
      "\n",
      "C:\\Users\\Harsh Clean\\AppData\\Local\\Temp\\ipykernel_25688\\1645067342.py:26: FutureWarning:\n",
      "\n",
      "The frame.append method is deprecated and will be removed from pandas in a future version. Use pandas.concat instead.\n",
      "\n",
      "C:\\Users\\Harsh Clean\\AppData\\Local\\Temp\\ipykernel_25688\\1645067342.py:26: FutureWarning:\n",
      "\n",
      "The frame.append method is deprecated and will be removed from pandas in a future version. Use pandas.concat instead.\n",
      "\n",
      "C:\\Users\\Harsh Clean\\AppData\\Local\\Temp\\ipykernel_25688\\1645067342.py:26: FutureWarning:\n",
      "\n",
      "The frame.append method is deprecated and will be removed from pandas in a future version. Use pandas.concat instead.\n",
      "\n",
      "C:\\Users\\Harsh Clean\\AppData\\Local\\Temp\\ipykernel_25688\\1645067342.py:26: FutureWarning:\n",
      "\n",
      "The frame.append method is deprecated and will be removed from pandas in a future version. Use pandas.concat instead.\n",
      "\n",
      "C:\\Users\\Harsh Clean\\AppData\\Local\\Temp\\ipykernel_25688\\1645067342.py:26: FutureWarning:\n",
      "\n",
      "The frame.append method is deprecated and will be removed from pandas in a future version. Use pandas.concat instead.\n",
      "\n",
      "C:\\Users\\Harsh Clean\\AppData\\Local\\Temp\\ipykernel_25688\\1645067342.py:26: FutureWarning:\n",
      "\n",
      "The frame.append method is deprecated and will be removed from pandas in a future version. Use pandas.concat instead.\n",
      "\n",
      "C:\\Users\\Harsh Clean\\AppData\\Local\\Temp\\ipykernel_25688\\1645067342.py:26: FutureWarning:\n",
      "\n",
      "The frame.append method is deprecated and will be removed from pandas in a future version. Use pandas.concat instead.\n",
      "\n",
      "C:\\Users\\Harsh Clean\\AppData\\Local\\Temp\\ipykernel_25688\\1645067342.py:26: FutureWarning:\n",
      "\n",
      "The frame.append method is deprecated and will be removed from pandas in a future version. Use pandas.concat instead.\n",
      "\n",
      "C:\\Users\\Harsh Clean\\AppData\\Local\\Temp\\ipykernel_25688\\1645067342.py:26: FutureWarning:\n",
      "\n",
      "The frame.append method is deprecated and will be removed from pandas in a future version. Use pandas.concat instead.\n",
      "\n",
      "C:\\Users\\Harsh Clean\\AppData\\Local\\Temp\\ipykernel_25688\\1645067342.py:26: FutureWarning:\n",
      "\n",
      "The frame.append method is deprecated and will be removed from pandas in a future version. Use pandas.concat instead.\n",
      "\n",
      "C:\\Users\\Harsh Clean\\AppData\\Local\\Temp\\ipykernel_25688\\1645067342.py:26: FutureWarning:\n",
      "\n",
      "The frame.append method is deprecated and will be removed from pandas in a future version. Use pandas.concat instead.\n",
      "\n",
      "C:\\Users\\Harsh Clean\\AppData\\Local\\Temp\\ipykernel_25688\\1645067342.py:26: FutureWarning:\n",
      "\n",
      "The frame.append method is deprecated and will be removed from pandas in a future version. Use pandas.concat instead.\n",
      "\n",
      "C:\\Users\\Harsh Clean\\AppData\\Local\\Temp\\ipykernel_25688\\1645067342.py:26: FutureWarning:\n",
      "\n",
      "The frame.append method is deprecated and will be removed from pandas in a future version. Use pandas.concat instead.\n",
      "\n",
      "C:\\Users\\Harsh Clean\\AppData\\Local\\Temp\\ipykernel_25688\\1645067342.py:26: FutureWarning:\n",
      "\n",
      "The frame.append method is deprecated and will be removed from pandas in a future version. Use pandas.concat instead.\n",
      "\n",
      "C:\\Users\\Harsh Clean\\AppData\\Local\\Temp\\ipykernel_25688\\1645067342.py:26: FutureWarning:\n",
      "\n",
      "The frame.append method is deprecated and will be removed from pandas in a future version. Use pandas.concat instead.\n",
      "\n",
      "C:\\Users\\Harsh Clean\\AppData\\Local\\Temp\\ipykernel_25688\\1645067342.py:26: FutureWarning:\n",
      "\n",
      "The frame.append method is deprecated and will be removed from pandas in a future version. Use pandas.concat instead.\n",
      "\n",
      "C:\\Users\\Harsh Clean\\AppData\\Local\\Temp\\ipykernel_25688\\1645067342.py:26: FutureWarning:\n",
      "\n",
      "The frame.append method is deprecated and will be removed from pandas in a future version. Use pandas.concat instead.\n",
      "\n",
      "C:\\Users\\Harsh Clean\\AppData\\Local\\Temp\\ipykernel_25688\\1645067342.py:26: FutureWarning:\n",
      "\n",
      "The frame.append method is deprecated and will be removed from pandas in a future version. Use pandas.concat instead.\n",
      "\n",
      "C:\\Users\\Harsh Clean\\AppData\\Local\\Temp\\ipykernel_25688\\1645067342.py:26: FutureWarning:\n",
      "\n",
      "The frame.append method is deprecated and will be removed from pandas in a future version. Use pandas.concat instead.\n",
      "\n",
      "C:\\Users\\Harsh Clean\\AppData\\Local\\Temp\\ipykernel_25688\\1645067342.py:26: FutureWarning:\n",
      "\n",
      "The frame.append method is deprecated and will be removed from pandas in a future version. Use pandas.concat instead.\n",
      "\n",
      "C:\\Users\\Harsh Clean\\AppData\\Local\\Temp\\ipykernel_25688\\1645067342.py:26: FutureWarning:\n",
      "\n",
      "The frame.append method is deprecated and will be removed from pandas in a future version. Use pandas.concat instead.\n",
      "\n",
      "C:\\Users\\Harsh Clean\\AppData\\Local\\Temp\\ipykernel_25688\\1645067342.py:26: FutureWarning:\n",
      "\n",
      "The frame.append method is deprecated and will be removed from pandas in a future version. Use pandas.concat instead.\n",
      "\n",
      "C:\\Users\\Harsh Clean\\AppData\\Local\\Temp\\ipykernel_25688\\1645067342.py:26: FutureWarning:\n",
      "\n",
      "The frame.append method is deprecated and will be removed from pandas in a future version. Use pandas.concat instead.\n",
      "\n",
      "C:\\Users\\Harsh Clean\\AppData\\Local\\Temp\\ipykernel_25688\\1645067342.py:26: FutureWarning:\n",
      "\n",
      "The frame.append method is deprecated and will be removed from pandas in a future version. Use pandas.concat instead.\n",
      "\n",
      "C:\\Users\\Harsh Clean\\AppData\\Local\\Temp\\ipykernel_25688\\1645067342.py:26: FutureWarning:\n",
      "\n",
      "The frame.append method is deprecated and will be removed from pandas in a future version. Use pandas.concat instead.\n",
      "\n",
      "C:\\Users\\Harsh Clean\\AppData\\Local\\Temp\\ipykernel_25688\\1645067342.py:26: FutureWarning:\n",
      "\n",
      "The frame.append method is deprecated and will be removed from pandas in a future version. Use pandas.concat instead.\n",
      "\n",
      "C:\\Users\\Harsh Clean\\AppData\\Local\\Temp\\ipykernel_25688\\1645067342.py:26: FutureWarning:\n",
      "\n",
      "The frame.append method is deprecated and will be removed from pandas in a future version. Use pandas.concat instead.\n",
      "\n",
      "C:\\Users\\Harsh Clean\\AppData\\Local\\Temp\\ipykernel_25688\\1645067342.py:26: FutureWarning:\n",
      "\n",
      "The frame.append method is deprecated and will be removed from pandas in a future version. Use pandas.concat instead.\n",
      "\n",
      "C:\\Users\\Harsh Clean\\AppData\\Local\\Temp\\ipykernel_25688\\1645067342.py:26: FutureWarning:\n",
      "\n",
      "The frame.append method is deprecated and will be removed from pandas in a future version. Use pandas.concat instead.\n",
      "\n",
      "C:\\Users\\Harsh Clean\\AppData\\Local\\Temp\\ipykernel_25688\\1645067342.py:26: FutureWarning:\n",
      "\n",
      "The frame.append method is deprecated and will be removed from pandas in a future version. Use pandas.concat instead.\n",
      "\n",
      "C:\\Users\\Harsh Clean\\AppData\\Local\\Temp\\ipykernel_25688\\1645067342.py:26: FutureWarning:\n",
      "\n",
      "The frame.append method is deprecated and will be removed from pandas in a future version. Use pandas.concat instead.\n",
      "\n",
      "C:\\Users\\Harsh Clean\\AppData\\Local\\Temp\\ipykernel_25688\\1645067342.py:26: FutureWarning:\n",
      "\n",
      "The frame.append method is deprecated and will be removed from pandas in a future version. Use pandas.concat instead.\n",
      "\n",
      "C:\\Users\\Harsh Clean\\AppData\\Local\\Temp\\ipykernel_25688\\1645067342.py:26: FutureWarning:\n",
      "\n",
      "The frame.append method is deprecated and will be removed from pandas in a future version. Use pandas.concat instead.\n",
      "\n",
      "C:\\Users\\Harsh Clean\\AppData\\Local\\Temp\\ipykernel_25688\\1645067342.py:26: FutureWarning:\n",
      "\n",
      "The frame.append method is deprecated and will be removed from pandas in a future version. Use pandas.concat instead.\n",
      "\n",
      "C:\\Users\\Harsh Clean\\AppData\\Local\\Temp\\ipykernel_25688\\1645067342.py:26: FutureWarning:\n",
      "\n",
      "The frame.append method is deprecated and will be removed from pandas in a future version. Use pandas.concat instead.\n",
      "\n",
      "C:\\Users\\Harsh Clean\\AppData\\Local\\Temp\\ipykernel_25688\\1645067342.py:26: FutureWarning:\n",
      "\n",
      "The frame.append method is deprecated and will be removed from pandas in a future version. Use pandas.concat instead.\n",
      "\n",
      "C:\\Users\\Harsh Clean\\AppData\\Local\\Temp\\ipykernel_25688\\1645067342.py:26: FutureWarning:\n",
      "\n",
      "The frame.append method is deprecated and will be removed from pandas in a future version. Use pandas.concat instead.\n",
      "\n",
      "C:\\Users\\Harsh Clean\\AppData\\Local\\Temp\\ipykernel_25688\\1645067342.py:26: FutureWarning:\n",
      "\n",
      "The frame.append method is deprecated and will be removed from pandas in a future version. Use pandas.concat instead.\n",
      "\n",
      "C:\\Users\\Harsh Clean\\AppData\\Local\\Temp\\ipykernel_25688\\1645067342.py:26: FutureWarning:\n",
      "\n",
      "The frame.append method is deprecated and will be removed from pandas in a future version. Use pandas.concat instead.\n",
      "\n",
      "C:\\Users\\Harsh Clean\\AppData\\Local\\Temp\\ipykernel_25688\\1645067342.py:26: FutureWarning:\n",
      "\n",
      "The frame.append method is deprecated and will be removed from pandas in a future version. Use pandas.concat instead.\n",
      "\n",
      "C:\\Users\\Harsh Clean\\AppData\\Local\\Temp\\ipykernel_25688\\1645067342.py:26: FutureWarning:\n",
      "\n",
      "The frame.append method is deprecated and will be removed from pandas in a future version. Use pandas.concat instead.\n",
      "\n",
      "C:\\Users\\Harsh Clean\\AppData\\Local\\Temp\\ipykernel_25688\\1645067342.py:26: FutureWarning:\n",
      "\n",
      "The frame.append method is deprecated and will be removed from pandas in a future version. Use pandas.concat instead.\n",
      "\n",
      "C:\\Users\\Harsh Clean\\AppData\\Local\\Temp\\ipykernel_25688\\1645067342.py:26: FutureWarning:\n",
      "\n",
      "The frame.append method is deprecated and will be removed from pandas in a future version. Use pandas.concat instead.\n",
      "\n",
      "C:\\Users\\Harsh Clean\\AppData\\Local\\Temp\\ipykernel_25688\\1645067342.py:26: FutureWarning:\n",
      "\n",
      "The frame.append method is deprecated and will be removed from pandas in a future version. Use pandas.concat instead.\n",
      "\n",
      "C:\\Users\\Harsh Clean\\AppData\\Local\\Temp\\ipykernel_25688\\1645067342.py:26: FutureWarning:\n",
      "\n",
      "The frame.append method is deprecated and will be removed from pandas in a future version. Use pandas.concat instead.\n",
      "\n",
      "C:\\Users\\Harsh Clean\\AppData\\Local\\Temp\\ipykernel_25688\\1645067342.py:26: FutureWarning:\n",
      "\n",
      "The frame.append method is deprecated and will be removed from pandas in a future version. Use pandas.concat instead.\n",
      "\n",
      "C:\\Users\\Harsh Clean\\AppData\\Local\\Temp\\ipykernel_25688\\1645067342.py:26: FutureWarning:\n",
      "\n",
      "The frame.append method is deprecated and will be removed from pandas in a future version. Use pandas.concat instead.\n",
      "\n",
      "C:\\Users\\Harsh Clean\\AppData\\Local\\Temp\\ipykernel_25688\\1645067342.py:26: FutureWarning:\n",
      "\n",
      "The frame.append method is deprecated and will be removed from pandas in a future version. Use pandas.concat instead.\n",
      "\n",
      "C:\\Users\\Harsh Clean\\AppData\\Local\\Temp\\ipykernel_25688\\1645067342.py:26: FutureWarning:\n",
      "\n",
      "The frame.append method is deprecated and will be removed from pandas in a future version. Use pandas.concat instead.\n",
      "\n",
      "C:\\Users\\Harsh Clean\\AppData\\Local\\Temp\\ipykernel_25688\\1645067342.py:26: FutureWarning:\n",
      "\n",
      "The frame.append method is deprecated and will be removed from pandas in a future version. Use pandas.concat instead.\n",
      "\n",
      "C:\\Users\\Harsh Clean\\AppData\\Local\\Temp\\ipykernel_25688\\1645067342.py:26: FutureWarning:\n",
      "\n",
      "The frame.append method is deprecated and will be removed from pandas in a future version. Use pandas.concat instead.\n",
      "\n",
      "C:\\Users\\Harsh Clean\\AppData\\Local\\Temp\\ipykernel_25688\\1645067342.py:26: FutureWarning:\n",
      "\n",
      "The frame.append method is deprecated and will be removed from pandas in a future version. Use pandas.concat instead.\n",
      "\n",
      "C:\\Users\\Harsh Clean\\AppData\\Local\\Temp\\ipykernel_25688\\1645067342.py:26: FutureWarning:\n",
      "\n",
      "The frame.append method is deprecated and will be removed from pandas in a future version. Use pandas.concat instead.\n",
      "\n",
      "C:\\Users\\Harsh Clean\\AppData\\Local\\Temp\\ipykernel_25688\\1645067342.py:26: FutureWarning:\n",
      "\n",
      "The frame.append method is deprecated and will be removed from pandas in a future version. Use pandas.concat instead.\n",
      "\n",
      "C:\\Users\\Harsh Clean\\AppData\\Local\\Temp\\ipykernel_25688\\1645067342.py:26: FutureWarning:\n",
      "\n",
      "The frame.append method is deprecated and will be removed from pandas in a future version. Use pandas.concat instead.\n",
      "\n",
      "C:\\Users\\Harsh Clean\\AppData\\Local\\Temp\\ipykernel_25688\\1645067342.py:26: FutureWarning:\n",
      "\n",
      "The frame.append method is deprecated and will be removed from pandas in a future version. Use pandas.concat instead.\n",
      "\n",
      "C:\\Users\\Harsh Clean\\AppData\\Local\\Temp\\ipykernel_25688\\1645067342.py:26: FutureWarning:\n",
      "\n",
      "The frame.append method is deprecated and will be removed from pandas in a future version. Use pandas.concat instead.\n",
      "\n",
      "C:\\Users\\Harsh Clean\\AppData\\Local\\Temp\\ipykernel_25688\\1645067342.py:26: FutureWarning:\n",
      "\n",
      "The frame.append method is deprecated and will be removed from pandas in a future version. Use pandas.concat instead.\n",
      "\n",
      "C:\\Users\\Harsh Clean\\AppData\\Local\\Temp\\ipykernel_25688\\1645067342.py:26: FutureWarning:\n",
      "\n",
      "The frame.append method is deprecated and will be removed from pandas in a future version. Use pandas.concat instead.\n",
      "\n",
      "C:\\Users\\Harsh Clean\\AppData\\Local\\Temp\\ipykernel_25688\\1645067342.py:26: FutureWarning:\n",
      "\n",
      "The frame.append method is deprecated and will be removed from pandas in a future version. Use pandas.concat instead.\n",
      "\n",
      "C:\\Users\\Harsh Clean\\AppData\\Local\\Temp\\ipykernel_25688\\1645067342.py:26: FutureWarning:\n",
      "\n",
      "The frame.append method is deprecated and will be removed from pandas in a future version. Use pandas.concat instead.\n",
      "\n",
      "C:\\Users\\Harsh Clean\\AppData\\Local\\Temp\\ipykernel_25688\\1645067342.py:26: FutureWarning:\n",
      "\n",
      "The frame.append method is deprecated and will be removed from pandas in a future version. Use pandas.concat instead.\n",
      "\n",
      "C:\\Users\\Harsh Clean\\AppData\\Local\\Temp\\ipykernel_25688\\1645067342.py:26: FutureWarning:\n",
      "\n",
      "The frame.append method is deprecated and will be removed from pandas in a future version. Use pandas.concat instead.\n",
      "\n",
      "C:\\Users\\Harsh Clean\\AppData\\Local\\Temp\\ipykernel_25688\\1645067342.py:26: FutureWarning:\n",
      "\n",
      "The frame.append method is deprecated and will be removed from pandas in a future version. Use pandas.concat instead.\n",
      "\n",
      "C:\\Users\\Harsh Clean\\AppData\\Local\\Temp\\ipykernel_25688\\1645067342.py:26: FutureWarning:\n",
      "\n",
      "The frame.append method is deprecated and will be removed from pandas in a future version. Use pandas.concat instead.\n",
      "\n",
      "C:\\Users\\Harsh Clean\\AppData\\Local\\Temp\\ipykernel_25688\\1645067342.py:26: FutureWarning:\n",
      "\n",
      "The frame.append method is deprecated and will be removed from pandas in a future version. Use pandas.concat instead.\n",
      "\n",
      "C:\\Users\\Harsh Clean\\AppData\\Local\\Temp\\ipykernel_25688\\1645067342.py:26: FutureWarning:\n",
      "\n",
      "The frame.append method is deprecated and will be removed from pandas in a future version. Use pandas.concat instead.\n",
      "\n",
      "C:\\Users\\Harsh Clean\\AppData\\Local\\Temp\\ipykernel_25688\\1645067342.py:26: FutureWarning:\n",
      "\n",
      "The frame.append method is deprecated and will be removed from pandas in a future version. Use pandas.concat instead.\n",
      "\n",
      "C:\\Users\\Harsh Clean\\AppData\\Local\\Temp\\ipykernel_25688\\1645067342.py:26: FutureWarning:\n",
      "\n",
      "The frame.append method is deprecated and will be removed from pandas in a future version. Use pandas.concat instead.\n",
      "\n",
      "C:\\Users\\Harsh Clean\\AppData\\Local\\Temp\\ipykernel_25688\\1645067342.py:26: FutureWarning:\n",
      "\n",
      "The frame.append method is deprecated and will be removed from pandas in a future version. Use pandas.concat instead.\n",
      "\n",
      "C:\\Users\\Harsh Clean\\AppData\\Local\\Temp\\ipykernel_25688\\1645067342.py:26: FutureWarning:\n",
      "\n",
      "The frame.append method is deprecated and will be removed from pandas in a future version. Use pandas.concat instead.\n",
      "\n",
      "C:\\Users\\Harsh Clean\\AppData\\Local\\Temp\\ipykernel_25688\\1645067342.py:26: FutureWarning:\n",
      "\n",
      "The frame.append method is deprecated and will be removed from pandas in a future version. Use pandas.concat instead.\n",
      "\n",
      "C:\\Users\\Harsh Clean\\AppData\\Local\\Temp\\ipykernel_25688\\1645067342.py:26: FutureWarning:\n",
      "\n",
      "The frame.append method is deprecated and will be removed from pandas in a future version. Use pandas.concat instead.\n",
      "\n",
      "C:\\Users\\Harsh Clean\\AppData\\Local\\Temp\\ipykernel_25688\\1645067342.py:26: FutureWarning:\n",
      "\n",
      "The frame.append method is deprecated and will be removed from pandas in a future version. Use pandas.concat instead.\n",
      "\n",
      "C:\\Users\\Harsh Clean\\AppData\\Local\\Temp\\ipykernel_25688\\1645067342.py:26: FutureWarning:\n",
      "\n",
      "The frame.append method is deprecated and will be removed from pandas in a future version. Use pandas.concat instead.\n",
      "\n",
      "C:\\Users\\Harsh Clean\\AppData\\Local\\Temp\\ipykernel_25688\\1645067342.py:26: FutureWarning:\n",
      "\n",
      "The frame.append method is deprecated and will be removed from pandas in a future version. Use pandas.concat instead.\n",
      "\n",
      "C:\\Users\\Harsh Clean\\AppData\\Local\\Temp\\ipykernel_25688\\1645067342.py:26: FutureWarning:\n",
      "\n",
      "The frame.append method is deprecated and will be removed from pandas in a future version. Use pandas.concat instead.\n",
      "\n",
      "C:\\Users\\Harsh Clean\\AppData\\Local\\Temp\\ipykernel_25688\\1645067342.py:26: FutureWarning:\n",
      "\n",
      "The frame.append method is deprecated and will be removed from pandas in a future version. Use pandas.concat instead.\n",
      "\n",
      "C:\\Users\\Harsh Clean\\AppData\\Local\\Temp\\ipykernel_25688\\1645067342.py:26: FutureWarning:\n",
      "\n",
      "The frame.append method is deprecated and will be removed from pandas in a future version. Use pandas.concat instead.\n",
      "\n",
      "C:\\Users\\Harsh Clean\\AppData\\Local\\Temp\\ipykernel_25688\\1645067342.py:26: FutureWarning:\n",
      "\n",
      "The frame.append method is deprecated and will be removed from pandas in a future version. Use pandas.concat instead.\n",
      "\n",
      "C:\\Users\\Harsh Clean\\AppData\\Local\\Temp\\ipykernel_25688\\1645067342.py:26: FutureWarning:\n",
      "\n",
      "The frame.append method is deprecated and will be removed from pandas in a future version. Use pandas.concat instead.\n",
      "\n",
      "C:\\Users\\Harsh Clean\\AppData\\Local\\Temp\\ipykernel_25688\\1645067342.py:26: FutureWarning:\n",
      "\n",
      "The frame.append method is deprecated and will be removed from pandas in a future version. Use pandas.concat instead.\n",
      "\n",
      "C:\\Users\\Harsh Clean\\AppData\\Local\\Temp\\ipykernel_25688\\1645067342.py:26: FutureWarning:\n",
      "\n",
      "The frame.append method is deprecated and will be removed from pandas in a future version. Use pandas.concat instead.\n",
      "\n",
      "C:\\Users\\Harsh Clean\\AppData\\Local\\Temp\\ipykernel_25688\\1645067342.py:26: FutureWarning:\n",
      "\n",
      "The frame.append method is deprecated and will be removed from pandas in a future version. Use pandas.concat instead.\n",
      "\n",
      "C:\\Users\\Harsh Clean\\AppData\\Local\\Temp\\ipykernel_25688\\1645067342.py:26: FutureWarning:\n",
      "\n",
      "The frame.append method is deprecated and will be removed from pandas in a future version. Use pandas.concat instead.\n",
      "\n",
      "C:\\Users\\Harsh Clean\\AppData\\Local\\Temp\\ipykernel_25688\\1645067342.py:26: FutureWarning:\n",
      "\n",
      "The frame.append method is deprecated and will be removed from pandas in a future version. Use pandas.concat instead.\n",
      "\n",
      "C:\\Users\\Harsh Clean\\AppData\\Local\\Temp\\ipykernel_25688\\1645067342.py:26: FutureWarning:\n",
      "\n",
      "The frame.append method is deprecated and will be removed from pandas in a future version. Use pandas.concat instead.\n",
      "\n",
      "C:\\Users\\Harsh Clean\\AppData\\Local\\Temp\\ipykernel_25688\\1645067342.py:26: FutureWarning:\n",
      "\n",
      "The frame.append method is deprecated and will be removed from pandas in a future version. Use pandas.concat instead.\n",
      "\n",
      "C:\\Users\\Harsh Clean\\AppData\\Local\\Temp\\ipykernel_25688\\1645067342.py:26: FutureWarning:\n",
      "\n",
      "The frame.append method is deprecated and will be removed from pandas in a future version. Use pandas.concat instead.\n",
      "\n",
      "C:\\Users\\Harsh Clean\\AppData\\Local\\Temp\\ipykernel_25688\\1645067342.py:26: FutureWarning:\n",
      "\n",
      "The frame.append method is deprecated and will be removed from pandas in a future version. Use pandas.concat instead.\n",
      "\n",
      "C:\\Users\\Harsh Clean\\AppData\\Local\\Temp\\ipykernel_25688\\1645067342.py:26: FutureWarning:\n",
      "\n",
      "The frame.append method is deprecated and will be removed from pandas in a future version. Use pandas.concat instead.\n",
      "\n",
      "C:\\Users\\Harsh Clean\\AppData\\Local\\Temp\\ipykernel_25688\\1645067342.py:26: FutureWarning:\n",
      "\n",
      "The frame.append method is deprecated and will be removed from pandas in a future version. Use pandas.concat instead.\n",
      "\n",
      "C:\\Users\\Harsh Clean\\AppData\\Local\\Temp\\ipykernel_25688\\1645067342.py:26: FutureWarning:\n",
      "\n",
      "The frame.append method is deprecated and will be removed from pandas in a future version. Use pandas.concat instead.\n",
      "\n",
      "C:\\Users\\Harsh Clean\\AppData\\Local\\Temp\\ipykernel_25688\\1645067342.py:26: FutureWarning:\n",
      "\n",
      "The frame.append method is deprecated and will be removed from pandas in a future version. Use pandas.concat instead.\n",
      "\n",
      "C:\\Users\\Harsh Clean\\AppData\\Local\\Temp\\ipykernel_25688\\1645067342.py:26: FutureWarning:\n",
      "\n",
      "The frame.append method is deprecated and will be removed from pandas in a future version. Use pandas.concat instead.\n",
      "\n",
      "C:\\Users\\Harsh Clean\\AppData\\Local\\Temp\\ipykernel_25688\\1645067342.py:26: FutureWarning:\n",
      "\n",
      "The frame.append method is deprecated and will be removed from pandas in a future version. Use pandas.concat instead.\n",
      "\n",
      "C:\\Users\\Harsh Clean\\AppData\\Local\\Temp\\ipykernel_25688\\1645067342.py:26: FutureWarning:\n",
      "\n",
      "The frame.append method is deprecated and will be removed from pandas in a future version. Use pandas.concat instead.\n",
      "\n",
      "C:\\Users\\Harsh Clean\\AppData\\Local\\Temp\\ipykernel_25688\\1645067342.py:26: FutureWarning:\n",
      "\n",
      "The frame.append method is deprecated and will be removed from pandas in a future version. Use pandas.concat instead.\n",
      "\n",
      "C:\\Users\\Harsh Clean\\AppData\\Local\\Temp\\ipykernel_25688\\1645067342.py:26: FutureWarning:\n",
      "\n",
      "The frame.append method is deprecated and will be removed from pandas in a future version. Use pandas.concat instead.\n",
      "\n",
      "C:\\Users\\Harsh Clean\\AppData\\Local\\Temp\\ipykernel_25688\\1645067342.py:26: FutureWarning:\n",
      "\n",
      "The frame.append method is deprecated and will be removed from pandas in a future version. Use pandas.concat instead.\n",
      "\n",
      "C:\\Users\\Harsh Clean\\AppData\\Local\\Temp\\ipykernel_25688\\1645067342.py:26: FutureWarning:\n",
      "\n",
      "The frame.append method is deprecated and will be removed from pandas in a future version. Use pandas.concat instead.\n",
      "\n",
      "C:\\Users\\Harsh Clean\\AppData\\Local\\Temp\\ipykernel_25688\\1645067342.py:26: FutureWarning:\n",
      "\n",
      "The frame.append method is deprecated and will be removed from pandas in a future version. Use pandas.concat instead.\n",
      "\n",
      "C:\\Users\\Harsh Clean\\AppData\\Local\\Temp\\ipykernel_25688\\1645067342.py:26: FutureWarning:\n",
      "\n",
      "The frame.append method is deprecated and will be removed from pandas in a future version. Use pandas.concat instead.\n",
      "\n",
      "C:\\Users\\Harsh Clean\\AppData\\Local\\Temp\\ipykernel_25688\\1645067342.py:26: FutureWarning:\n",
      "\n",
      "The frame.append method is deprecated and will be removed from pandas in a future version. Use pandas.concat instead.\n",
      "\n",
      "C:\\Users\\Harsh Clean\\AppData\\Local\\Temp\\ipykernel_25688\\1645067342.py:26: FutureWarning:\n",
      "\n",
      "The frame.append method is deprecated and will be removed from pandas in a future version. Use pandas.concat instead.\n",
      "\n",
      "C:\\Users\\Harsh Clean\\AppData\\Local\\Temp\\ipykernel_25688\\1645067342.py:26: FutureWarning:\n",
      "\n",
      "The frame.append method is deprecated and will be removed from pandas in a future version. Use pandas.concat instead.\n",
      "\n",
      "C:\\Users\\Harsh Clean\\AppData\\Local\\Temp\\ipykernel_25688\\1645067342.py:26: FutureWarning:\n",
      "\n",
      "The frame.append method is deprecated and will be removed from pandas in a future version. Use pandas.concat instead.\n",
      "\n",
      "C:\\Users\\Harsh Clean\\AppData\\Local\\Temp\\ipykernel_25688\\1645067342.py:26: FutureWarning:\n",
      "\n",
      "The frame.append method is deprecated and will be removed from pandas in a future version. Use pandas.concat instead.\n",
      "\n",
      "C:\\Users\\Harsh Clean\\AppData\\Local\\Temp\\ipykernel_25688\\1645067342.py:26: FutureWarning:\n",
      "\n",
      "The frame.append method is deprecated and will be removed from pandas in a future version. Use pandas.concat instead.\n",
      "\n",
      "C:\\Users\\Harsh Clean\\AppData\\Local\\Temp\\ipykernel_25688\\1645067342.py:26: FutureWarning:\n",
      "\n",
      "The frame.append method is deprecated and will be removed from pandas in a future version. Use pandas.concat instead.\n",
      "\n",
      "C:\\Users\\Harsh Clean\\AppData\\Local\\Temp\\ipykernel_25688\\1645067342.py:26: FutureWarning:\n",
      "\n",
      "The frame.append method is deprecated and will be removed from pandas in a future version. Use pandas.concat instead.\n",
      "\n",
      "C:\\Users\\Harsh Clean\\AppData\\Local\\Temp\\ipykernel_25688\\1645067342.py:26: FutureWarning:\n",
      "\n",
      "The frame.append method is deprecated and will be removed from pandas in a future version. Use pandas.concat instead.\n",
      "\n",
      "C:\\Users\\Harsh Clean\\AppData\\Local\\Temp\\ipykernel_25688\\1645067342.py:26: FutureWarning:\n",
      "\n",
      "The frame.append method is deprecated and will be removed from pandas in a future version. Use pandas.concat instead.\n",
      "\n",
      "C:\\Users\\Harsh Clean\\AppData\\Local\\Temp\\ipykernel_25688\\1645067342.py:26: FutureWarning:\n",
      "\n",
      "The frame.append method is deprecated and will be removed from pandas in a future version. Use pandas.concat instead.\n",
      "\n",
      "C:\\Users\\Harsh Clean\\AppData\\Local\\Temp\\ipykernel_25688\\1645067342.py:26: FutureWarning:\n",
      "\n",
      "The frame.append method is deprecated and will be removed from pandas in a future version. Use pandas.concat instead.\n",
      "\n",
      "C:\\Users\\Harsh Clean\\AppData\\Local\\Temp\\ipykernel_25688\\1645067342.py:26: FutureWarning:\n",
      "\n",
      "The frame.append method is deprecated and will be removed from pandas in a future version. Use pandas.concat instead.\n",
      "\n",
      "C:\\Users\\Harsh Clean\\AppData\\Local\\Temp\\ipykernel_25688\\1645067342.py:26: FutureWarning:\n",
      "\n",
      "The frame.append method is deprecated and will be removed from pandas in a future version. Use pandas.concat instead.\n",
      "\n",
      "C:\\Users\\Harsh Clean\\AppData\\Local\\Temp\\ipykernel_25688\\1645067342.py:26: FutureWarning:\n",
      "\n",
      "The frame.append method is deprecated and will be removed from pandas in a future version. Use pandas.concat instead.\n",
      "\n",
      "C:\\Users\\Harsh Clean\\AppData\\Local\\Temp\\ipykernel_25688\\1645067342.py:26: FutureWarning:\n",
      "\n",
      "The frame.append method is deprecated and will be removed from pandas in a future version. Use pandas.concat instead.\n",
      "\n",
      "C:\\Users\\Harsh Clean\\AppData\\Local\\Temp\\ipykernel_25688\\1645067342.py:26: FutureWarning:\n",
      "\n",
      "The frame.append method is deprecated and will be removed from pandas in a future version. Use pandas.concat instead.\n",
      "\n",
      "C:\\Users\\Harsh Clean\\AppData\\Local\\Temp\\ipykernel_25688\\1645067342.py:26: FutureWarning:\n",
      "\n",
      "The frame.append method is deprecated and will be removed from pandas in a future version. Use pandas.concat instead.\n",
      "\n",
      "C:\\Users\\Harsh Clean\\AppData\\Local\\Temp\\ipykernel_25688\\1645067342.py:26: FutureWarning:\n",
      "\n",
      "The frame.append method is deprecated and will be removed from pandas in a future version. Use pandas.concat instead.\n",
      "\n",
      "C:\\Users\\Harsh Clean\\AppData\\Local\\Temp\\ipykernel_25688\\1645067342.py:26: FutureWarning:\n",
      "\n",
      "The frame.append method is deprecated and will be removed from pandas in a future version. Use pandas.concat instead.\n",
      "\n",
      "C:\\Users\\Harsh Clean\\AppData\\Local\\Temp\\ipykernel_25688\\1645067342.py:26: FutureWarning:\n",
      "\n",
      "The frame.append method is deprecated and will be removed from pandas in a future version. Use pandas.concat instead.\n",
      "\n",
      "C:\\Users\\Harsh Clean\\AppData\\Local\\Temp\\ipykernel_25688\\1645067342.py:26: FutureWarning:\n",
      "\n",
      "The frame.append method is deprecated and will be removed from pandas in a future version. Use pandas.concat instead.\n",
      "\n",
      "C:\\Users\\Harsh Clean\\AppData\\Local\\Temp\\ipykernel_25688\\1645067342.py:26: FutureWarning:\n",
      "\n",
      "The frame.append method is deprecated and will be removed from pandas in a future version. Use pandas.concat instead.\n",
      "\n",
      "C:\\Users\\Harsh Clean\\AppData\\Local\\Temp\\ipykernel_25688\\1645067342.py:26: FutureWarning:\n",
      "\n",
      "The frame.append method is deprecated and will be removed from pandas in a future version. Use pandas.concat instead.\n",
      "\n",
      "C:\\Users\\Harsh Clean\\AppData\\Local\\Temp\\ipykernel_25688\\1645067342.py:26: FutureWarning:\n",
      "\n",
      "The frame.append method is deprecated and will be removed from pandas in a future version. Use pandas.concat instead.\n",
      "\n",
      "C:\\Users\\Harsh Clean\\AppData\\Local\\Temp\\ipykernel_25688\\1645067342.py:26: FutureWarning:\n",
      "\n",
      "The frame.append method is deprecated and will be removed from pandas in a future version. Use pandas.concat instead.\n",
      "\n",
      "C:\\Users\\Harsh Clean\\AppData\\Local\\Temp\\ipykernel_25688\\1645067342.py:26: FutureWarning:\n",
      "\n",
      "The frame.append method is deprecated and will be removed from pandas in a future version. Use pandas.concat instead.\n",
      "\n",
      "C:\\Users\\Harsh Clean\\AppData\\Local\\Temp\\ipykernel_25688\\1645067342.py:26: FutureWarning:\n",
      "\n",
      "The frame.append method is deprecated and will be removed from pandas in a future version. Use pandas.concat instead.\n",
      "\n",
      "C:\\Users\\Harsh Clean\\AppData\\Local\\Temp\\ipykernel_25688\\1645067342.py:26: FutureWarning:\n",
      "\n",
      "The frame.append method is deprecated and will be removed from pandas in a future version. Use pandas.concat instead.\n",
      "\n"
     ]
    }
   ],
   "source": [
    "# Iterate over the links in the DataFrame\n",
    "for link in df['Link']:\n",
    "    try:\n",
    "        # Record the start time\n",
    "        start_time = time.time()\n",
    "\n",
    "        # Make a HEAD request to the link to measure connect time\n",
    "        response = s.head(link)\n",
    "        \n",
    "        # Record the connect time\n",
    "        connect_time = time.time() - start_time\n",
    "\n",
    "        # Make a GET request to the link to measure wait time and count resources\n",
    "        start_time = time.time()\n",
    "        response = s.get(link)\n",
    "\n",
    "        # Record the wait time and total time\n",
    "        wait_time = time.time() - start_time\n",
    "        total_time = connect_time + wait_time\n",
    "\n",
    "        # Parse the HTML and count the number of resources\n",
    "        soup = BeautifulSoup(response.text, 'html.parser')\n",
    "        resource_count = len(soup.find_all(['link', 'script', 'img']))\n",
    "\n",
    "        # Add the link and times to the results DataFrame\n",
    "        results = results.append({'Link': link, 'Connect Time': connect_time, 'Wait Time': wait_time, 'Total Time': total_time, 'Resource Count': resource_count}, ignore_index=True) # type: ignore\n",
    "\n",
    "        results.to_csv('response_times.csv', index=False)\n",
    "\n",
    "    except requests.exceptions.RequestException as e:\n",
    "        print(f\"Error: Unable to get {link}. Reason: {e}\")"
   ]
  },
  {
   "cell_type": "code",
   "execution_count": 33,
   "metadata": {},
   "outputs": [
    {
     "data": {
      "text/html": [
       "<div>\n",
       "<style scoped>\n",
       "    .dataframe tbody tr th:only-of-type {\n",
       "        vertical-align: middle;\n",
       "    }\n",
       "\n",
       "    .dataframe tbody tr th {\n",
       "        vertical-align: top;\n",
       "    }\n",
       "\n",
       "    .dataframe thead th {\n",
       "        text-align: right;\n",
       "    }\n",
       "</style>\n",
       "<table border=\"1\" class=\"dataframe\">\n",
       "  <thead>\n",
       "    <tr style=\"text-align: right;\">\n",
       "      <th></th>\n",
       "      <th>Link</th>\n",
       "      <th>Connect Time</th>\n",
       "      <th>Wait Time</th>\n",
       "      <th>Total Time</th>\n",
       "      <th>Resource Count</th>\n",
       "    </tr>\n",
       "  </thead>\n",
       "  <tbody>\n",
       "    <tr>\n",
       "      <th>0</th>\n",
       "      <td>https://famapp.in/</td>\n",
       "      <td>0.156436</td>\n",
       "      <td>0.082100</td>\n",
       "      <td>0.238536</td>\n",
       "      <td>76</td>\n",
       "    </tr>\n",
       "    <tr>\n",
       "      <th>1</th>\n",
       "      <td>https://famcard.me/</td>\n",
       "      <td>0.141661</td>\n",
       "      <td>0.060641</td>\n",
       "      <td>0.202302</td>\n",
       "      <td>76</td>\n",
       "    </tr>\n",
       "    <tr>\n",
       "      <th>2</th>\n",
       "      <td>https://fampay.in/</td>\n",
       "      <td>0.141551</td>\n",
       "      <td>0.108824</td>\n",
       "      <td>0.250376</td>\n",
       "      <td>76</td>\n",
       "    </tr>\n",
       "    <tr>\n",
       "      <th>3</th>\n",
       "      <td>https://fampay.in/about</td>\n",
       "      <td>0.033663</td>\n",
       "      <td>0.096842</td>\n",
       "      <td>0.130505</td>\n",
       "      <td>161</td>\n",
       "    </tr>\n",
       "    <tr>\n",
       "      <th>4</th>\n",
       "      <td>https://fampay.in/blog</td>\n",
       "      <td>0.031414</td>\n",
       "      <td>0.421628</td>\n",
       "      <td>0.453043</td>\n",
       "      <td>24</td>\n",
       "    </tr>\n",
       "  </tbody>\n",
       "</table>\n",
       "</div>"
      ],
      "text/plain": [
       "                      Link  Connect Time  Wait Time  Total Time  \\\n",
       "0       https://famapp.in/      0.156436   0.082100    0.238536   \n",
       "1      https://famcard.me/      0.141661   0.060641    0.202302   \n",
       "2       https://fampay.in/      0.141551   0.108824    0.250376   \n",
       "3  https://fampay.in/about      0.033663   0.096842    0.130505   \n",
       "4   https://fampay.in/blog      0.031414   0.421628    0.453043   \n",
       "\n",
       "   Resource Count  \n",
       "0              76  \n",
       "1              76  \n",
       "2              76  \n",
       "3             161  \n",
       "4              24  "
      ]
     },
     "execution_count": 33,
     "metadata": {},
     "output_type": "execute_result"
    }
   ],
   "source": [
    "# Read the CSV file into a DataFrame\n",
    "df = pd.read_csv('response_times.csv')\n",
    "backup = df.copy()\n",
    "backup.head()"
   ]
  },
  {
   "cell_type": "code",
   "execution_count": 34,
   "metadata": {},
   "outputs": [
    {
     "data": {
      "application/vnd.plotly.v1+json": {
       "config": {
        "plotlyServerURL": "https://plot.ly"
       },
       "data": [
        {
         "type": "bar",
         "x": [
          "https://www.instagram.com/explore/tags/getfampaid/",
          "https://www.instagram.com/fam.india/",
          "https://twitter.com/intent/tweet?text=How%20to%20Clean%20Up%20Your%20Android%20App's%20Dependencies%3A%20The%20Ultimate%20Guide&url=https://fampay.in/blog/how-to-clean-up-your-android-apps-dependencies-the-ultimate-guide-2/",
          "https://www.instagram.com/fampay.in/",
          "https://www.instagram.com/lifeatfam/",
          "https://www.facebook.com/sharer/sharer.php?u=https://fampay.in/blog/how-to-clean-up-your-android-apps-dependencies-the-ultimate-guide-2/",
          "http://friends.fampay.in/",
          "http://friends.fampay.in/blog/",
          "http://friends.fampay.in/faqs",
          "http://friends.fampay.in/press",
          "http://friends.fampay.in/contact",
          "http://friends.fampay.in/blog",
          "http://friends.fampay.in/about",
          "http://friends.fampay.in/terms",
          "https://www.instagram.com/designatfampay/",
          "http://friends.fampay.in/privacy",
          "http://friends.fampay.in/careers",
          "http://friends.fampay.in/partner",
          "https://famapp.in/blog/4-ways-to-help-your-teen-learn-to-become-financially-responsible/",
          "https://wa.me/?text=How%20to%20Clean%20Up%20Your%20Android%20App's%20Dependencies%3A%20The%20Ultimate%20Guide%20https://fampay.in/blog/how-to-clean-up-your-android-apps-dependencies-the-ultimate-guide-2/",
          "https://twitter.com/intent/tweet?text=One-stop%20solution%20for%20all%20your%20KYC%20concerns&url=https://fampay.in/blog/one-stop-solution-for-all-your-kyc-concerns/",
          "https://twitter.com/intent/tweet?text=Top%204%20Head-Turning%20Fashion%20Tips%20and%20Trends%20For%20The%20Sassy%20Gen%20Z%20%F0%9F%A4%B3%F0%9F%A4%A9%F0%9F%91%B8%F0%9F%A4%B4&url=https://fampay.in/blog/top-4-head-turning-fashion-tips-and-trends-for-the-sassy-gen-z/",
          "https://famapp.in/blog/tag/tech/",
          "https://twitter.com/intent/tweet?text=9%20Clever%20Saving%20Hacks%20for%20Teenagers%20-%20This%20will%20save%20you%20a%20fortune!%20%F0%9F%92%B8&url=https://fampay.in/blog/7-clever-saving-hacks-for-teenagers-this-will-save-you-a-fortune/",
          "https://facebook.com/fampay.in/",
          "https://get.fampay.in/",
          "https://www.facebook.com/sharer/sharer.php?u=https://fampay.in/blog/one-stop-solution-for-all-your-kyc-concerns/",
          "https://famapp.in/blog/tag/lifestyle/page/3/",
          "https://www.linkedin.com/company/fampay/",
          "https://twitter.com/intent/tweet?text=The%20Story%20Behind%20FamPay's%20Tech%20Stack%F0%9F%9A%80&url=https://fampay.in/blog/the-story-behind-fampays-tech-stack/"
         ],
         "y": [
          1.9361557960510252,
          0.690014123916626,
          0.5660977363586426,
          0.5351362228393555,
          0.5325589179992676,
          0.4918475151062011,
          0.4864468574523926,
          0.4667363166809082,
          0.4600832462310791,
          0.4569900035858154,
          0.4552319049835205,
          0.4487113952636719,
          0.4446821212768554,
          0.4386687278747558,
          0.4383139610290527,
          0.4380998611450195,
          0.4380559921264648,
          0.4370372295379638,
          0.4354925155639648,
          0.4298689365386963,
          0.4006645679473877,
          0.3955445289611816,
          0.3782742023468017,
          0.3765349388122558,
          0.368950605392456,
          0.3432855606079101,
          0.3417561054229736,
          0.3356108665466308,
          0.326207160949707,
          0.3242337703704834
         ]
        }
       ],
       "layout": {
        "template": {
         "data": {
          "bar": [
           {
            "error_x": {
             "color": "#2a3f5f"
            },
            "error_y": {
             "color": "#2a3f5f"
            },
            "marker": {
             "line": {
              "color": "#E5ECF6",
              "width": 0.5
             },
             "pattern": {
              "fillmode": "overlay",
              "size": 10,
              "solidity": 0.2
             }
            },
            "type": "bar"
           }
          ],
          "barpolar": [
           {
            "marker": {
             "line": {
              "color": "#E5ECF6",
              "width": 0.5
             },
             "pattern": {
              "fillmode": "overlay",
              "size": 10,
              "solidity": 0.2
             }
            },
            "type": "barpolar"
           }
          ],
          "carpet": [
           {
            "aaxis": {
             "endlinecolor": "#2a3f5f",
             "gridcolor": "white",
             "linecolor": "white",
             "minorgridcolor": "white",
             "startlinecolor": "#2a3f5f"
            },
            "baxis": {
             "endlinecolor": "#2a3f5f",
             "gridcolor": "white",
             "linecolor": "white",
             "minorgridcolor": "white",
             "startlinecolor": "#2a3f5f"
            },
            "type": "carpet"
           }
          ],
          "choropleth": [
           {
            "colorbar": {
             "outlinewidth": 0,
             "ticks": ""
            },
            "type": "choropleth"
           }
          ],
          "contour": [
           {
            "colorbar": {
             "outlinewidth": 0,
             "ticks": ""
            },
            "colorscale": [
             [
              0,
              "#0d0887"
             ],
             [
              0.1111111111111111,
              "#46039f"
             ],
             [
              0.2222222222222222,
              "#7201a8"
             ],
             [
              0.3333333333333333,
              "#9c179e"
             ],
             [
              0.4444444444444444,
              "#bd3786"
             ],
             [
              0.5555555555555556,
              "#d8576b"
             ],
             [
              0.6666666666666666,
              "#ed7953"
             ],
             [
              0.7777777777777778,
              "#fb9f3a"
             ],
             [
              0.8888888888888888,
              "#fdca26"
             ],
             [
              1,
              "#f0f921"
             ]
            ],
            "type": "contour"
           }
          ],
          "contourcarpet": [
           {
            "colorbar": {
             "outlinewidth": 0,
             "ticks": ""
            },
            "type": "contourcarpet"
           }
          ],
          "heatmap": [
           {
            "colorbar": {
             "outlinewidth": 0,
             "ticks": ""
            },
            "colorscale": [
             [
              0,
              "#0d0887"
             ],
             [
              0.1111111111111111,
              "#46039f"
             ],
             [
              0.2222222222222222,
              "#7201a8"
             ],
             [
              0.3333333333333333,
              "#9c179e"
             ],
             [
              0.4444444444444444,
              "#bd3786"
             ],
             [
              0.5555555555555556,
              "#d8576b"
             ],
             [
              0.6666666666666666,
              "#ed7953"
             ],
             [
              0.7777777777777778,
              "#fb9f3a"
             ],
             [
              0.8888888888888888,
              "#fdca26"
             ],
             [
              1,
              "#f0f921"
             ]
            ],
            "type": "heatmap"
           }
          ],
          "heatmapgl": [
           {
            "colorbar": {
             "outlinewidth": 0,
             "ticks": ""
            },
            "colorscale": [
             [
              0,
              "#0d0887"
             ],
             [
              0.1111111111111111,
              "#46039f"
             ],
             [
              0.2222222222222222,
              "#7201a8"
             ],
             [
              0.3333333333333333,
              "#9c179e"
             ],
             [
              0.4444444444444444,
              "#bd3786"
             ],
             [
              0.5555555555555556,
              "#d8576b"
             ],
             [
              0.6666666666666666,
              "#ed7953"
             ],
             [
              0.7777777777777778,
              "#fb9f3a"
             ],
             [
              0.8888888888888888,
              "#fdca26"
             ],
             [
              1,
              "#f0f921"
             ]
            ],
            "type": "heatmapgl"
           }
          ],
          "histogram": [
           {
            "marker": {
             "pattern": {
              "fillmode": "overlay",
              "size": 10,
              "solidity": 0.2
             }
            },
            "type": "histogram"
           }
          ],
          "histogram2d": [
           {
            "colorbar": {
             "outlinewidth": 0,
             "ticks": ""
            },
            "colorscale": [
             [
              0,
              "#0d0887"
             ],
             [
              0.1111111111111111,
              "#46039f"
             ],
             [
              0.2222222222222222,
              "#7201a8"
             ],
             [
              0.3333333333333333,
              "#9c179e"
             ],
             [
              0.4444444444444444,
              "#bd3786"
             ],
             [
              0.5555555555555556,
              "#d8576b"
             ],
             [
              0.6666666666666666,
              "#ed7953"
             ],
             [
              0.7777777777777778,
              "#fb9f3a"
             ],
             [
              0.8888888888888888,
              "#fdca26"
             ],
             [
              1,
              "#f0f921"
             ]
            ],
            "type": "histogram2d"
           }
          ],
          "histogram2dcontour": [
           {
            "colorbar": {
             "outlinewidth": 0,
             "ticks": ""
            },
            "colorscale": [
             [
              0,
              "#0d0887"
             ],
             [
              0.1111111111111111,
              "#46039f"
             ],
             [
              0.2222222222222222,
              "#7201a8"
             ],
             [
              0.3333333333333333,
              "#9c179e"
             ],
             [
              0.4444444444444444,
              "#bd3786"
             ],
             [
              0.5555555555555556,
              "#d8576b"
             ],
             [
              0.6666666666666666,
              "#ed7953"
             ],
             [
              0.7777777777777778,
              "#fb9f3a"
             ],
             [
              0.8888888888888888,
              "#fdca26"
             ],
             [
              1,
              "#f0f921"
             ]
            ],
            "type": "histogram2dcontour"
           }
          ],
          "mesh3d": [
           {
            "colorbar": {
             "outlinewidth": 0,
             "ticks": ""
            },
            "type": "mesh3d"
           }
          ],
          "parcoords": [
           {
            "line": {
             "colorbar": {
              "outlinewidth": 0,
              "ticks": ""
             }
            },
            "type": "parcoords"
           }
          ],
          "pie": [
           {
            "automargin": true,
            "type": "pie"
           }
          ],
          "scatter": [
           {
            "fillpattern": {
             "fillmode": "overlay",
             "size": 10,
             "solidity": 0.2
            },
            "type": "scatter"
           }
          ],
          "scatter3d": [
           {
            "line": {
             "colorbar": {
              "outlinewidth": 0,
              "ticks": ""
             }
            },
            "marker": {
             "colorbar": {
              "outlinewidth": 0,
              "ticks": ""
             }
            },
            "type": "scatter3d"
           }
          ],
          "scattercarpet": [
           {
            "marker": {
             "colorbar": {
              "outlinewidth": 0,
              "ticks": ""
             }
            },
            "type": "scattercarpet"
           }
          ],
          "scattergeo": [
           {
            "marker": {
             "colorbar": {
              "outlinewidth": 0,
              "ticks": ""
             }
            },
            "type": "scattergeo"
           }
          ],
          "scattergl": [
           {
            "marker": {
             "colorbar": {
              "outlinewidth": 0,
              "ticks": ""
             }
            },
            "type": "scattergl"
           }
          ],
          "scattermapbox": [
           {
            "marker": {
             "colorbar": {
              "outlinewidth": 0,
              "ticks": ""
             }
            },
            "type": "scattermapbox"
           }
          ],
          "scatterpolar": [
           {
            "marker": {
             "colorbar": {
              "outlinewidth": 0,
              "ticks": ""
             }
            },
            "type": "scatterpolar"
           }
          ],
          "scatterpolargl": [
           {
            "marker": {
             "colorbar": {
              "outlinewidth": 0,
              "ticks": ""
             }
            },
            "type": "scatterpolargl"
           }
          ],
          "scatterternary": [
           {
            "marker": {
             "colorbar": {
              "outlinewidth": 0,
              "ticks": ""
             }
            },
            "type": "scatterternary"
           }
          ],
          "surface": [
           {
            "colorbar": {
             "outlinewidth": 0,
             "ticks": ""
            },
            "colorscale": [
             [
              0,
              "#0d0887"
             ],
             [
              0.1111111111111111,
              "#46039f"
             ],
             [
              0.2222222222222222,
              "#7201a8"
             ],
             [
              0.3333333333333333,
              "#9c179e"
             ],
             [
              0.4444444444444444,
              "#bd3786"
             ],
             [
              0.5555555555555556,
              "#d8576b"
             ],
             [
              0.6666666666666666,
              "#ed7953"
             ],
             [
              0.7777777777777778,
              "#fb9f3a"
             ],
             [
              0.8888888888888888,
              "#fdca26"
             ],
             [
              1,
              "#f0f921"
             ]
            ],
            "type": "surface"
           }
          ],
          "table": [
           {
            "cells": {
             "fill": {
              "color": "#EBF0F8"
             },
             "line": {
              "color": "white"
             }
            },
            "header": {
             "fill": {
              "color": "#C8D4E3"
             },
             "line": {
              "color": "white"
             }
            },
            "type": "table"
           }
          ]
         },
         "layout": {
          "annotationdefaults": {
           "arrowcolor": "#2a3f5f",
           "arrowhead": 0,
           "arrowwidth": 1
          },
          "autotypenumbers": "strict",
          "coloraxis": {
           "colorbar": {
            "outlinewidth": 0,
            "ticks": ""
           }
          },
          "colorscale": {
           "diverging": [
            [
             0,
             "#8e0152"
            ],
            [
             0.1,
             "#c51b7d"
            ],
            [
             0.2,
             "#de77ae"
            ],
            [
             0.3,
             "#f1b6da"
            ],
            [
             0.4,
             "#fde0ef"
            ],
            [
             0.5,
             "#f7f7f7"
            ],
            [
             0.6,
             "#e6f5d0"
            ],
            [
             0.7,
             "#b8e186"
            ],
            [
             0.8,
             "#7fbc41"
            ],
            [
             0.9,
             "#4d9221"
            ],
            [
             1,
             "#276419"
            ]
           ],
           "sequential": [
            [
             0,
             "#0d0887"
            ],
            [
             0.1111111111111111,
             "#46039f"
            ],
            [
             0.2222222222222222,
             "#7201a8"
            ],
            [
             0.3333333333333333,
             "#9c179e"
            ],
            [
             0.4444444444444444,
             "#bd3786"
            ],
            [
             0.5555555555555556,
             "#d8576b"
            ],
            [
             0.6666666666666666,
             "#ed7953"
            ],
            [
             0.7777777777777778,
             "#fb9f3a"
            ],
            [
             0.8888888888888888,
             "#fdca26"
            ],
            [
             1,
             "#f0f921"
            ]
           ],
           "sequentialminus": [
            [
             0,
             "#0d0887"
            ],
            [
             0.1111111111111111,
             "#46039f"
            ],
            [
             0.2222222222222222,
             "#7201a8"
            ],
            [
             0.3333333333333333,
             "#9c179e"
            ],
            [
             0.4444444444444444,
             "#bd3786"
            ],
            [
             0.5555555555555556,
             "#d8576b"
            ],
            [
             0.6666666666666666,
             "#ed7953"
            ],
            [
             0.7777777777777778,
             "#fb9f3a"
            ],
            [
             0.8888888888888888,
             "#fdca26"
            ],
            [
             1,
             "#f0f921"
            ]
           ]
          },
          "colorway": [
           "#636efa",
           "#EF553B",
           "#00cc96",
           "#ab63fa",
           "#FFA15A",
           "#19d3f3",
           "#FF6692",
           "#B6E880",
           "#FF97FF",
           "#FECB52"
          ],
          "font": {
           "color": "#2a3f5f"
          },
          "geo": {
           "bgcolor": "white",
           "lakecolor": "white",
           "landcolor": "#E5ECF6",
           "showlakes": true,
           "showland": true,
           "subunitcolor": "white"
          },
          "hoverlabel": {
           "align": "left"
          },
          "hovermode": "closest",
          "mapbox": {
           "style": "light"
          },
          "paper_bgcolor": "white",
          "plot_bgcolor": "#E5ECF6",
          "polar": {
           "angularaxis": {
            "gridcolor": "white",
            "linecolor": "white",
            "ticks": ""
           },
           "bgcolor": "#E5ECF6",
           "radialaxis": {
            "gridcolor": "white",
            "linecolor": "white",
            "ticks": ""
           }
          },
          "scene": {
           "xaxis": {
            "backgroundcolor": "#E5ECF6",
            "gridcolor": "white",
            "gridwidth": 2,
            "linecolor": "white",
            "showbackground": true,
            "ticks": "",
            "zerolinecolor": "white"
           },
           "yaxis": {
            "backgroundcolor": "#E5ECF6",
            "gridcolor": "white",
            "gridwidth": 2,
            "linecolor": "white",
            "showbackground": true,
            "ticks": "",
            "zerolinecolor": "white"
           },
           "zaxis": {
            "backgroundcolor": "#E5ECF6",
            "gridcolor": "white",
            "gridwidth": 2,
            "linecolor": "white",
            "showbackground": true,
            "ticks": "",
            "zerolinecolor": "white"
           }
          },
          "shapedefaults": {
           "line": {
            "color": "#2a3f5f"
           }
          },
          "ternary": {
           "aaxis": {
            "gridcolor": "white",
            "linecolor": "white",
            "ticks": ""
           },
           "baxis": {
            "gridcolor": "white",
            "linecolor": "white",
            "ticks": ""
           },
           "bgcolor": "#E5ECF6",
           "caxis": {
            "gridcolor": "white",
            "linecolor": "white",
            "ticks": ""
           }
          },
          "title": {
           "x": 0.05
          },
          "xaxis": {
           "automargin": true,
           "gridcolor": "white",
           "linecolor": "white",
           "ticks": "",
           "title": {
            "standoff": 15
           },
           "zerolinecolor": "white",
           "zerolinewidth": 2
          },
          "yaxis": {
           "automargin": true,
           "gridcolor": "white",
           "linecolor": "white",
           "ticks": "",
           "title": {
            "standoff": 15
           },
           "zerolinecolor": "white",
           "zerolinewidth": 2
          }
         }
        },
        "title": {
         "text": "Connect Times"
        }
       }
      }
     },
     "metadata": {},
     "output_type": "display_data"
    }
   ],
   "source": [
    "df = df.sort_values(by=['Connect Time'], ascending=False).head(30)\n",
    "\n",
    "fig1 = go.Figure(data=[go.Bar(x=df['Link'], y=df['Connect Time'])])\n",
    "fig1.update_layout(title_text='Connect Times')\n",
    "fig1.write_html(\"../../fam-report-site/public/Web-Analytics/connect_times.html\")\n",
    "fig1.show()"
   ]
  },
  {
   "cell_type": "code",
   "execution_count": 35,
   "metadata": {},
   "outputs": [
    {
     "data": {
      "application/vnd.plotly.v1+json": {
       "config": {
        "plotlyServerURL": "https://plot.ly"
       },
       "data": [
        {
         "type": "bar",
         "x": [
          "https://www.instagram.com/explore/tags/getfampaid/",
          "http://friends.fampay.in/press",
          "https://twitter.com/intent/tweet?text=One-stop%20solution%20for%20all%20your%20KYC%20concerns&url=https://fampay.in/blog/one-stop-solution-for-all-your-kyc-concerns/",
          "https://wa.me/?text=Why%20Vaccination%3F%F0%9F%92%89%20-%20A%20guide%20to%20vaccination%20for%20teens%20in%20India%20https://fampay.in/blog/why-vaccination-a-guide-to-vaccination-for-teens-in-india/",
          "http://friends.fampay.in/about",
          "http://friends.fampay.in/careers",
          "http://friends.fampay.in/",
          "http://friends.fampay.in/blog/",
          "http://friends.fampay.in/blog",
          "http://friends.fampay.in/privacy",
          "http://friends.fampay.in/partner",
          "http://friends.fampay.in/terms",
          "http://friends.fampay.in/contact",
          "http://friends.fampay.in/faqs",
          "https://www.facebook.com/sharer/sharer.php?u=https://fampay.in/blog/how-to-clean-up-your-android-apps-dependencies-the-ultimate-guide-2/",
          "https://wa.me/?text=Cyberbullying%3A%20What%20can%20you%20do%20as%20a%20Parent%3F%20https://fampay.in/blog/cyber-bullying-what-can-you-do-as-a-parent/",
          "https://www.facebook.com/sharer/sharer.php?u=https://fampay.in/blog/how-to-grow-your-instagram-followers-a-quick-guide-for-all-genz-brands/",
          "https://www.facebook.com/sharer/sharer.php?u=https://fampay.in/blog/life-of-an-intern-is-love/",
          "https://wa.me/?text=Remote%20Working%20%3A%20Divided%20by%20Distance%2C%20United%20by%20Mission%20https://fampay.in/blog/remote-working-divided-by-distance-united-by-mission/",
          "https://www.instagram.com/fampay.in/",
          "https://www.facebook.com/sharer/sharer.php?u=https://fampay.in/blog/365-days-of-internship-at-fampay/",
          "https://www.facebook.com/sharer/sharer.php?u=https://fampay.in/blog/top-4-head-turning-fashion-tips-and-trends-for-the-sassy-gen-z/",
          "https://www.instagram.com/lifeatfam/",
          "https://www.instagram.com/fam.india/",
          "https://www.facebook.com/sharer/sharer.php?u=https://fampay.in/blog/writing-content-for-a-content-saturated-generation/",
          "https://www.facebook.com/sharer/sharer.php?u=https://fampay.in/blog/study-habits-that-are-simple-and-highly-effective/",
          "https://wa.me/?text=Study%20habits%20that%20are%20simple%20and%20highly%20effective%20%F0%9F%93%9A%20https://fampay.in/blog/study-habits-that-are-simple-and-highly-effective/",
          "https://wa.me/?text=How%20a%20Pressing%20Problem%20can%20lead%20to%20Technological%20Innovation%20https://fampay.in/blog/how-a-pressing-problem-can-lead-to-technological-innovation/",
          "https://wa.me/?text=Zeta%E2%80%99s%20Fusion%20To%20Power%20FamPay%E2%80%99s%20Cashless%20Payments%20For%20Gen%20Z%20https://fampay.in/blog/zetas-fusion-to-power-fampays-cashless-payments-for-gen-z/",
          "https://wa.me/?text=Covid-19%20Vaccination%20for%20teens%2C%20a%20step-by-step%20guide%F0%9F%92%89%20https://fampay.in/blog/covid-19-vaccination-as-a-teen-a-guide/"
         ],
         "y": [
          1.9596359729766848,
          1.4198405742645264,
          1.4003100395202637,
          1.3661916255950928,
          1.338798999786377,
          1.2990033626556396,
          1.2906136512756348,
          1.278977394104004,
          1.269251585006714,
          1.2530381679534912,
          1.231053113937378,
          1.226402997970581,
          1.2239058017730713,
          1.2211430072784424,
          1.1799037456512451,
          1.134016752243042,
          1.074862003326416,
          1.0669522285461426,
          1.0612225532531738,
          1.0502123832702637,
          0.996720552444458,
          0.954120397567749,
          0.9493136405944824,
          0.9377756118774414,
          0.9319090843200684,
          0.927769899368286,
          0.9076037406921388,
          0.9001331329345703,
          0.8877196311950684,
          0.8856830596923828
         ]
        }
       ],
       "layout": {
        "template": {
         "data": {
          "bar": [
           {
            "error_x": {
             "color": "#2a3f5f"
            },
            "error_y": {
             "color": "#2a3f5f"
            },
            "marker": {
             "line": {
              "color": "#E5ECF6",
              "width": 0.5
             },
             "pattern": {
              "fillmode": "overlay",
              "size": 10,
              "solidity": 0.2
             }
            },
            "type": "bar"
           }
          ],
          "barpolar": [
           {
            "marker": {
             "line": {
              "color": "#E5ECF6",
              "width": 0.5
             },
             "pattern": {
              "fillmode": "overlay",
              "size": 10,
              "solidity": 0.2
             }
            },
            "type": "barpolar"
           }
          ],
          "carpet": [
           {
            "aaxis": {
             "endlinecolor": "#2a3f5f",
             "gridcolor": "white",
             "linecolor": "white",
             "minorgridcolor": "white",
             "startlinecolor": "#2a3f5f"
            },
            "baxis": {
             "endlinecolor": "#2a3f5f",
             "gridcolor": "white",
             "linecolor": "white",
             "minorgridcolor": "white",
             "startlinecolor": "#2a3f5f"
            },
            "type": "carpet"
           }
          ],
          "choropleth": [
           {
            "colorbar": {
             "outlinewidth": 0,
             "ticks": ""
            },
            "type": "choropleth"
           }
          ],
          "contour": [
           {
            "colorbar": {
             "outlinewidth": 0,
             "ticks": ""
            },
            "colorscale": [
             [
              0,
              "#0d0887"
             ],
             [
              0.1111111111111111,
              "#46039f"
             ],
             [
              0.2222222222222222,
              "#7201a8"
             ],
             [
              0.3333333333333333,
              "#9c179e"
             ],
             [
              0.4444444444444444,
              "#bd3786"
             ],
             [
              0.5555555555555556,
              "#d8576b"
             ],
             [
              0.6666666666666666,
              "#ed7953"
             ],
             [
              0.7777777777777778,
              "#fb9f3a"
             ],
             [
              0.8888888888888888,
              "#fdca26"
             ],
             [
              1,
              "#f0f921"
             ]
            ],
            "type": "contour"
           }
          ],
          "contourcarpet": [
           {
            "colorbar": {
             "outlinewidth": 0,
             "ticks": ""
            },
            "type": "contourcarpet"
           }
          ],
          "heatmap": [
           {
            "colorbar": {
             "outlinewidth": 0,
             "ticks": ""
            },
            "colorscale": [
             [
              0,
              "#0d0887"
             ],
             [
              0.1111111111111111,
              "#46039f"
             ],
             [
              0.2222222222222222,
              "#7201a8"
             ],
             [
              0.3333333333333333,
              "#9c179e"
             ],
             [
              0.4444444444444444,
              "#bd3786"
             ],
             [
              0.5555555555555556,
              "#d8576b"
             ],
             [
              0.6666666666666666,
              "#ed7953"
             ],
             [
              0.7777777777777778,
              "#fb9f3a"
             ],
             [
              0.8888888888888888,
              "#fdca26"
             ],
             [
              1,
              "#f0f921"
             ]
            ],
            "type": "heatmap"
           }
          ],
          "heatmapgl": [
           {
            "colorbar": {
             "outlinewidth": 0,
             "ticks": ""
            },
            "colorscale": [
             [
              0,
              "#0d0887"
             ],
             [
              0.1111111111111111,
              "#46039f"
             ],
             [
              0.2222222222222222,
              "#7201a8"
             ],
             [
              0.3333333333333333,
              "#9c179e"
             ],
             [
              0.4444444444444444,
              "#bd3786"
             ],
             [
              0.5555555555555556,
              "#d8576b"
             ],
             [
              0.6666666666666666,
              "#ed7953"
             ],
             [
              0.7777777777777778,
              "#fb9f3a"
             ],
             [
              0.8888888888888888,
              "#fdca26"
             ],
             [
              1,
              "#f0f921"
             ]
            ],
            "type": "heatmapgl"
           }
          ],
          "histogram": [
           {
            "marker": {
             "pattern": {
              "fillmode": "overlay",
              "size": 10,
              "solidity": 0.2
             }
            },
            "type": "histogram"
           }
          ],
          "histogram2d": [
           {
            "colorbar": {
             "outlinewidth": 0,
             "ticks": ""
            },
            "colorscale": [
             [
              0,
              "#0d0887"
             ],
             [
              0.1111111111111111,
              "#46039f"
             ],
             [
              0.2222222222222222,
              "#7201a8"
             ],
             [
              0.3333333333333333,
              "#9c179e"
             ],
             [
              0.4444444444444444,
              "#bd3786"
             ],
             [
              0.5555555555555556,
              "#d8576b"
             ],
             [
              0.6666666666666666,
              "#ed7953"
             ],
             [
              0.7777777777777778,
              "#fb9f3a"
             ],
             [
              0.8888888888888888,
              "#fdca26"
             ],
             [
              1,
              "#f0f921"
             ]
            ],
            "type": "histogram2d"
           }
          ],
          "histogram2dcontour": [
           {
            "colorbar": {
             "outlinewidth": 0,
             "ticks": ""
            },
            "colorscale": [
             [
              0,
              "#0d0887"
             ],
             [
              0.1111111111111111,
              "#46039f"
             ],
             [
              0.2222222222222222,
              "#7201a8"
             ],
             [
              0.3333333333333333,
              "#9c179e"
             ],
             [
              0.4444444444444444,
              "#bd3786"
             ],
             [
              0.5555555555555556,
              "#d8576b"
             ],
             [
              0.6666666666666666,
              "#ed7953"
             ],
             [
              0.7777777777777778,
              "#fb9f3a"
             ],
             [
              0.8888888888888888,
              "#fdca26"
             ],
             [
              1,
              "#f0f921"
             ]
            ],
            "type": "histogram2dcontour"
           }
          ],
          "mesh3d": [
           {
            "colorbar": {
             "outlinewidth": 0,
             "ticks": ""
            },
            "type": "mesh3d"
           }
          ],
          "parcoords": [
           {
            "line": {
             "colorbar": {
              "outlinewidth": 0,
              "ticks": ""
             }
            },
            "type": "parcoords"
           }
          ],
          "pie": [
           {
            "automargin": true,
            "type": "pie"
           }
          ],
          "scatter": [
           {
            "fillpattern": {
             "fillmode": "overlay",
             "size": 10,
             "solidity": 0.2
            },
            "type": "scatter"
           }
          ],
          "scatter3d": [
           {
            "line": {
             "colorbar": {
              "outlinewidth": 0,
              "ticks": ""
             }
            },
            "marker": {
             "colorbar": {
              "outlinewidth": 0,
              "ticks": ""
             }
            },
            "type": "scatter3d"
           }
          ],
          "scattercarpet": [
           {
            "marker": {
             "colorbar": {
              "outlinewidth": 0,
              "ticks": ""
             }
            },
            "type": "scattercarpet"
           }
          ],
          "scattergeo": [
           {
            "marker": {
             "colorbar": {
              "outlinewidth": 0,
              "ticks": ""
             }
            },
            "type": "scattergeo"
           }
          ],
          "scattergl": [
           {
            "marker": {
             "colorbar": {
              "outlinewidth": 0,
              "ticks": ""
             }
            },
            "type": "scattergl"
           }
          ],
          "scattermapbox": [
           {
            "marker": {
             "colorbar": {
              "outlinewidth": 0,
              "ticks": ""
             }
            },
            "type": "scattermapbox"
           }
          ],
          "scatterpolar": [
           {
            "marker": {
             "colorbar": {
              "outlinewidth": 0,
              "ticks": ""
             }
            },
            "type": "scatterpolar"
           }
          ],
          "scatterpolargl": [
           {
            "marker": {
             "colorbar": {
              "outlinewidth": 0,
              "ticks": ""
             }
            },
            "type": "scatterpolargl"
           }
          ],
          "scatterternary": [
           {
            "marker": {
             "colorbar": {
              "outlinewidth": 0,
              "ticks": ""
             }
            },
            "type": "scatterternary"
           }
          ],
          "surface": [
           {
            "colorbar": {
             "outlinewidth": 0,
             "ticks": ""
            },
            "colorscale": [
             [
              0,
              "#0d0887"
             ],
             [
              0.1111111111111111,
              "#46039f"
             ],
             [
              0.2222222222222222,
              "#7201a8"
             ],
             [
              0.3333333333333333,
              "#9c179e"
             ],
             [
              0.4444444444444444,
              "#bd3786"
             ],
             [
              0.5555555555555556,
              "#d8576b"
             ],
             [
              0.6666666666666666,
              "#ed7953"
             ],
             [
              0.7777777777777778,
              "#fb9f3a"
             ],
             [
              0.8888888888888888,
              "#fdca26"
             ],
             [
              1,
              "#f0f921"
             ]
            ],
            "type": "surface"
           }
          ],
          "table": [
           {
            "cells": {
             "fill": {
              "color": "#EBF0F8"
             },
             "line": {
              "color": "white"
             }
            },
            "header": {
             "fill": {
              "color": "#C8D4E3"
             },
             "line": {
              "color": "white"
             }
            },
            "type": "table"
           }
          ]
         },
         "layout": {
          "annotationdefaults": {
           "arrowcolor": "#2a3f5f",
           "arrowhead": 0,
           "arrowwidth": 1
          },
          "autotypenumbers": "strict",
          "coloraxis": {
           "colorbar": {
            "outlinewidth": 0,
            "ticks": ""
           }
          },
          "colorscale": {
           "diverging": [
            [
             0,
             "#8e0152"
            ],
            [
             0.1,
             "#c51b7d"
            ],
            [
             0.2,
             "#de77ae"
            ],
            [
             0.3,
             "#f1b6da"
            ],
            [
             0.4,
             "#fde0ef"
            ],
            [
             0.5,
             "#f7f7f7"
            ],
            [
             0.6,
             "#e6f5d0"
            ],
            [
             0.7,
             "#b8e186"
            ],
            [
             0.8,
             "#7fbc41"
            ],
            [
             0.9,
             "#4d9221"
            ],
            [
             1,
             "#276419"
            ]
           ],
           "sequential": [
            [
             0,
             "#0d0887"
            ],
            [
             0.1111111111111111,
             "#46039f"
            ],
            [
             0.2222222222222222,
             "#7201a8"
            ],
            [
             0.3333333333333333,
             "#9c179e"
            ],
            [
             0.4444444444444444,
             "#bd3786"
            ],
            [
             0.5555555555555556,
             "#d8576b"
            ],
            [
             0.6666666666666666,
             "#ed7953"
            ],
            [
             0.7777777777777778,
             "#fb9f3a"
            ],
            [
             0.8888888888888888,
             "#fdca26"
            ],
            [
             1,
             "#f0f921"
            ]
           ],
           "sequentialminus": [
            [
             0,
             "#0d0887"
            ],
            [
             0.1111111111111111,
             "#46039f"
            ],
            [
             0.2222222222222222,
             "#7201a8"
            ],
            [
             0.3333333333333333,
             "#9c179e"
            ],
            [
             0.4444444444444444,
             "#bd3786"
            ],
            [
             0.5555555555555556,
             "#d8576b"
            ],
            [
             0.6666666666666666,
             "#ed7953"
            ],
            [
             0.7777777777777778,
             "#fb9f3a"
            ],
            [
             0.8888888888888888,
             "#fdca26"
            ],
            [
             1,
             "#f0f921"
            ]
           ]
          },
          "colorway": [
           "#636efa",
           "#EF553B",
           "#00cc96",
           "#ab63fa",
           "#FFA15A",
           "#19d3f3",
           "#FF6692",
           "#B6E880",
           "#FF97FF",
           "#FECB52"
          ],
          "font": {
           "color": "#2a3f5f"
          },
          "geo": {
           "bgcolor": "white",
           "lakecolor": "white",
           "landcolor": "#E5ECF6",
           "showlakes": true,
           "showland": true,
           "subunitcolor": "white"
          },
          "hoverlabel": {
           "align": "left"
          },
          "hovermode": "closest",
          "mapbox": {
           "style": "light"
          },
          "paper_bgcolor": "white",
          "plot_bgcolor": "#E5ECF6",
          "polar": {
           "angularaxis": {
            "gridcolor": "white",
            "linecolor": "white",
            "ticks": ""
           },
           "bgcolor": "#E5ECF6",
           "radialaxis": {
            "gridcolor": "white",
            "linecolor": "white",
            "ticks": ""
           }
          },
          "scene": {
           "xaxis": {
            "backgroundcolor": "#E5ECF6",
            "gridcolor": "white",
            "gridwidth": 2,
            "linecolor": "white",
            "showbackground": true,
            "ticks": "",
            "zerolinecolor": "white"
           },
           "yaxis": {
            "backgroundcolor": "#E5ECF6",
            "gridcolor": "white",
            "gridwidth": 2,
            "linecolor": "white",
            "showbackground": true,
            "ticks": "",
            "zerolinecolor": "white"
           },
           "zaxis": {
            "backgroundcolor": "#E5ECF6",
            "gridcolor": "white",
            "gridwidth": 2,
            "linecolor": "white",
            "showbackground": true,
            "ticks": "",
            "zerolinecolor": "white"
           }
          },
          "shapedefaults": {
           "line": {
            "color": "#2a3f5f"
           }
          },
          "ternary": {
           "aaxis": {
            "gridcolor": "white",
            "linecolor": "white",
            "ticks": ""
           },
           "baxis": {
            "gridcolor": "white",
            "linecolor": "white",
            "ticks": ""
           },
           "bgcolor": "#E5ECF6",
           "caxis": {
            "gridcolor": "white",
            "linecolor": "white",
            "ticks": ""
           }
          },
          "title": {
           "x": 0.05
          },
          "xaxis": {
           "automargin": true,
           "gridcolor": "white",
           "linecolor": "white",
           "ticks": "",
           "title": {
            "standoff": 15
           },
           "zerolinecolor": "white",
           "zerolinewidth": 2
          },
          "yaxis": {
           "automargin": true,
           "gridcolor": "white",
           "linecolor": "white",
           "ticks": "",
           "title": {
            "standoff": 15
           },
           "zerolinecolor": "white",
           "zerolinewidth": 2
          }
         }
        },
        "title": {
         "text": "Wait Times"
        }
       }
      }
     },
     "metadata": {},
     "output_type": "display_data"
    }
   ],
   "source": [
    "# take top 30 wait times\n",
    "df = backup.sort_values(by=['Wait Time'], ascending=False).head(30)\n",
    "\n",
    "fig2 = go.Figure(data=[go.Bar(x=df['Link'], y=df['Wait Time'])])\n",
    "fig2.update_layout(title_text='Wait Times')\n",
    "fig2.write_html(\"../../fam-report-site/public/Web-Analytics/wait_times.html\")\n",
    "fig2.show()"
   ]
  },
  {
   "cell_type": "code",
   "execution_count": 36,
   "metadata": {},
   "outputs": [
    {
     "data": {
      "application/vnd.plotly.v1+json": {
       "config": {
        "plotlyServerURL": "https://plot.ly"
       },
       "data": [
        {
         "type": "bar",
         "x": [
          "https://www.instagram.com/explore/tags/getfampaid/",
          "http://friends.fampay.in/press",
          "https://twitter.com/intent/tweet?text=One-stop%20solution%20for%20all%20your%20KYC%20concerns&url=https://fampay.in/blog/one-stop-solution-for-all-your-kyc-concerns/",
          "http://friends.fampay.in/about",
          "http://friends.fampay.in/",
          "http://friends.fampay.in/blog/",
          "http://friends.fampay.in/careers",
          "http://friends.fampay.in/blog",
          "http://friends.fampay.in/privacy",
          "http://friends.fampay.in/faqs",
          "http://friends.fampay.in/contact",
          "https://www.facebook.com/sharer/sharer.php?u=https://fampay.in/blog/how-to-clean-up-your-android-apps-dependencies-the-ultimate-guide-2/",
          "http://friends.fampay.in/partner",
          "http://friends.fampay.in/terms",
          "https://www.instagram.com/fam.india/",
          "https://wa.me/?text=Why%20Vaccination%3F%F0%9F%92%89%20-%20A%20guide%20to%20vaccination%20for%20teens%20in%20India%20https://fampay.in/blog/why-vaccination-a-guide-to-vaccination-for-teens-in-india/",
          "https://www.instagram.com/fampay.in/",
          "https://www.instagram.com/lifeatfam/",
          "https://wa.me/?text=Cyberbullying%3A%20What%20can%20you%20do%20as%20a%20Parent%3F%20https://fampay.in/blog/cyber-bullying-what-can-you-do-as-a-parent/",
          "https://www.facebook.com/sharer/sharer.php?u=https://fampay.in/blog/how-to-grow-your-instagram-followers-a-quick-guide-for-all-genz-brands/",
          "https://wa.me/?text=Remote%20Working%20%3A%20Divided%20by%20Distance%2C%20United%20by%20Mission%20https://fampay.in/blog/remote-working-divided-by-distance-united-by-mission/",
          "https://www.facebook.com/sharer/sharer.php?u=https://fampay.in/blog/life-of-an-intern-is-love/",
          "https://www.facebook.com/sharer/sharer.php?u=https://fampay.in/blog/365-days-of-internship-at-fampay/",
          "https://wa.me/?text=How%20to%20Clean%20Up%20Your%20Android%20App's%20Dependencies%3A%20The%20Ultimate%20Guide%20https://fampay.in/blog/how-to-clean-up-your-android-apps-dependencies-the-ultimate-guide-2/",
          "https://www.facebook.com/sharer/sharer.php?u=https://fampay.in/blog/writing-content-for-a-content-saturated-generation/",
          "https://twitter.com/intent/tweet?text=How%20to%20Clean%20Up%20Your%20Android%20App's%20Dependencies%3A%20The%20Ultimate%20Guide&url=https://fampay.in/blog/how-to-clean-up-your-android-apps-dependencies-the-ultimate-guide-2/",
          "https://www.facebook.com/sharer/sharer.php?u=https://fampay.in/blog/top-4-head-turning-fashion-tips-and-trends-for-the-sassy-gen-z/",
          "https://wa.me/?text=How%20a%20Pressing%20Problem%20can%20lead%20to%20Technological%20Innovation%20https://fampay.in/blog/how-a-pressing-problem-can-lead-to-technological-innovation/",
          "https://www.facebook.com/sharer/sharer.php?u=https://fampay.in/blog/study-habits-that-are-simple-and-highly-effective/",
          "https://www.instagram.com/designatfampay/"
         ],
         "y": [
          3.89579176902771,
          1.8768305778503416,
          1.8009746074676514,
          1.7834811210632324,
          1.7770605087280271,
          1.745713710784912,
          1.7370593547821045,
          1.7179629802703855,
          1.6911380290985107,
          1.6812262535095217,
          1.6791377067565918,
          1.6717512607574463,
          1.6680903434753418,
          1.665071725845337,
          1.6277897357940674,
          1.6225359439849854,
          1.5853486061096191,
          1.48187255859375,
          1.396801471710205,
          1.3650641441345217,
          1.3508706092834473,
          1.322305679321289,
          1.2627344131469729,
          1.259327411651611,
          1.2313740253448486,
          1.2010512351989746,
          1.198896408081055,
          1.192124605178833,
          1.17972731590271,
          1.1737966537475586
         ]
        }
       ],
       "layout": {
        "template": {
         "data": {
          "bar": [
           {
            "error_x": {
             "color": "#2a3f5f"
            },
            "error_y": {
             "color": "#2a3f5f"
            },
            "marker": {
             "line": {
              "color": "#E5ECF6",
              "width": 0.5
             },
             "pattern": {
              "fillmode": "overlay",
              "size": 10,
              "solidity": 0.2
             }
            },
            "type": "bar"
           }
          ],
          "barpolar": [
           {
            "marker": {
             "line": {
              "color": "#E5ECF6",
              "width": 0.5
             },
             "pattern": {
              "fillmode": "overlay",
              "size": 10,
              "solidity": 0.2
             }
            },
            "type": "barpolar"
           }
          ],
          "carpet": [
           {
            "aaxis": {
             "endlinecolor": "#2a3f5f",
             "gridcolor": "white",
             "linecolor": "white",
             "minorgridcolor": "white",
             "startlinecolor": "#2a3f5f"
            },
            "baxis": {
             "endlinecolor": "#2a3f5f",
             "gridcolor": "white",
             "linecolor": "white",
             "minorgridcolor": "white",
             "startlinecolor": "#2a3f5f"
            },
            "type": "carpet"
           }
          ],
          "choropleth": [
           {
            "colorbar": {
             "outlinewidth": 0,
             "ticks": ""
            },
            "type": "choropleth"
           }
          ],
          "contour": [
           {
            "colorbar": {
             "outlinewidth": 0,
             "ticks": ""
            },
            "colorscale": [
             [
              0,
              "#0d0887"
             ],
             [
              0.1111111111111111,
              "#46039f"
             ],
             [
              0.2222222222222222,
              "#7201a8"
             ],
             [
              0.3333333333333333,
              "#9c179e"
             ],
             [
              0.4444444444444444,
              "#bd3786"
             ],
             [
              0.5555555555555556,
              "#d8576b"
             ],
             [
              0.6666666666666666,
              "#ed7953"
             ],
             [
              0.7777777777777778,
              "#fb9f3a"
             ],
             [
              0.8888888888888888,
              "#fdca26"
             ],
             [
              1,
              "#f0f921"
             ]
            ],
            "type": "contour"
           }
          ],
          "contourcarpet": [
           {
            "colorbar": {
             "outlinewidth": 0,
             "ticks": ""
            },
            "type": "contourcarpet"
           }
          ],
          "heatmap": [
           {
            "colorbar": {
             "outlinewidth": 0,
             "ticks": ""
            },
            "colorscale": [
             [
              0,
              "#0d0887"
             ],
             [
              0.1111111111111111,
              "#46039f"
             ],
             [
              0.2222222222222222,
              "#7201a8"
             ],
             [
              0.3333333333333333,
              "#9c179e"
             ],
             [
              0.4444444444444444,
              "#bd3786"
             ],
             [
              0.5555555555555556,
              "#d8576b"
             ],
             [
              0.6666666666666666,
              "#ed7953"
             ],
             [
              0.7777777777777778,
              "#fb9f3a"
             ],
             [
              0.8888888888888888,
              "#fdca26"
             ],
             [
              1,
              "#f0f921"
             ]
            ],
            "type": "heatmap"
           }
          ],
          "heatmapgl": [
           {
            "colorbar": {
             "outlinewidth": 0,
             "ticks": ""
            },
            "colorscale": [
             [
              0,
              "#0d0887"
             ],
             [
              0.1111111111111111,
              "#46039f"
             ],
             [
              0.2222222222222222,
              "#7201a8"
             ],
             [
              0.3333333333333333,
              "#9c179e"
             ],
             [
              0.4444444444444444,
              "#bd3786"
             ],
             [
              0.5555555555555556,
              "#d8576b"
             ],
             [
              0.6666666666666666,
              "#ed7953"
             ],
             [
              0.7777777777777778,
              "#fb9f3a"
             ],
             [
              0.8888888888888888,
              "#fdca26"
             ],
             [
              1,
              "#f0f921"
             ]
            ],
            "type": "heatmapgl"
           }
          ],
          "histogram": [
           {
            "marker": {
             "pattern": {
              "fillmode": "overlay",
              "size": 10,
              "solidity": 0.2
             }
            },
            "type": "histogram"
           }
          ],
          "histogram2d": [
           {
            "colorbar": {
             "outlinewidth": 0,
             "ticks": ""
            },
            "colorscale": [
             [
              0,
              "#0d0887"
             ],
             [
              0.1111111111111111,
              "#46039f"
             ],
             [
              0.2222222222222222,
              "#7201a8"
             ],
             [
              0.3333333333333333,
              "#9c179e"
             ],
             [
              0.4444444444444444,
              "#bd3786"
             ],
             [
              0.5555555555555556,
              "#d8576b"
             ],
             [
              0.6666666666666666,
              "#ed7953"
             ],
             [
              0.7777777777777778,
              "#fb9f3a"
             ],
             [
              0.8888888888888888,
              "#fdca26"
             ],
             [
              1,
              "#f0f921"
             ]
            ],
            "type": "histogram2d"
           }
          ],
          "histogram2dcontour": [
           {
            "colorbar": {
             "outlinewidth": 0,
             "ticks": ""
            },
            "colorscale": [
             [
              0,
              "#0d0887"
             ],
             [
              0.1111111111111111,
              "#46039f"
             ],
             [
              0.2222222222222222,
              "#7201a8"
             ],
             [
              0.3333333333333333,
              "#9c179e"
             ],
             [
              0.4444444444444444,
              "#bd3786"
             ],
             [
              0.5555555555555556,
              "#d8576b"
             ],
             [
              0.6666666666666666,
              "#ed7953"
             ],
             [
              0.7777777777777778,
              "#fb9f3a"
             ],
             [
              0.8888888888888888,
              "#fdca26"
             ],
             [
              1,
              "#f0f921"
             ]
            ],
            "type": "histogram2dcontour"
           }
          ],
          "mesh3d": [
           {
            "colorbar": {
             "outlinewidth": 0,
             "ticks": ""
            },
            "type": "mesh3d"
           }
          ],
          "parcoords": [
           {
            "line": {
             "colorbar": {
              "outlinewidth": 0,
              "ticks": ""
             }
            },
            "type": "parcoords"
           }
          ],
          "pie": [
           {
            "automargin": true,
            "type": "pie"
           }
          ],
          "scatter": [
           {
            "fillpattern": {
             "fillmode": "overlay",
             "size": 10,
             "solidity": 0.2
            },
            "type": "scatter"
           }
          ],
          "scatter3d": [
           {
            "line": {
             "colorbar": {
              "outlinewidth": 0,
              "ticks": ""
             }
            },
            "marker": {
             "colorbar": {
              "outlinewidth": 0,
              "ticks": ""
             }
            },
            "type": "scatter3d"
           }
          ],
          "scattercarpet": [
           {
            "marker": {
             "colorbar": {
              "outlinewidth": 0,
              "ticks": ""
             }
            },
            "type": "scattercarpet"
           }
          ],
          "scattergeo": [
           {
            "marker": {
             "colorbar": {
              "outlinewidth": 0,
              "ticks": ""
             }
            },
            "type": "scattergeo"
           }
          ],
          "scattergl": [
           {
            "marker": {
             "colorbar": {
              "outlinewidth": 0,
              "ticks": ""
             }
            },
            "type": "scattergl"
           }
          ],
          "scattermapbox": [
           {
            "marker": {
             "colorbar": {
              "outlinewidth": 0,
              "ticks": ""
             }
            },
            "type": "scattermapbox"
           }
          ],
          "scatterpolar": [
           {
            "marker": {
             "colorbar": {
              "outlinewidth": 0,
              "ticks": ""
             }
            },
            "type": "scatterpolar"
           }
          ],
          "scatterpolargl": [
           {
            "marker": {
             "colorbar": {
              "outlinewidth": 0,
              "ticks": ""
             }
            },
            "type": "scatterpolargl"
           }
          ],
          "scatterternary": [
           {
            "marker": {
             "colorbar": {
              "outlinewidth": 0,
              "ticks": ""
             }
            },
            "type": "scatterternary"
           }
          ],
          "surface": [
           {
            "colorbar": {
             "outlinewidth": 0,
             "ticks": ""
            },
            "colorscale": [
             [
              0,
              "#0d0887"
             ],
             [
              0.1111111111111111,
              "#46039f"
             ],
             [
              0.2222222222222222,
              "#7201a8"
             ],
             [
              0.3333333333333333,
              "#9c179e"
             ],
             [
              0.4444444444444444,
              "#bd3786"
             ],
             [
              0.5555555555555556,
              "#d8576b"
             ],
             [
              0.6666666666666666,
              "#ed7953"
             ],
             [
              0.7777777777777778,
              "#fb9f3a"
             ],
             [
              0.8888888888888888,
              "#fdca26"
             ],
             [
              1,
              "#f0f921"
             ]
            ],
            "type": "surface"
           }
          ],
          "table": [
           {
            "cells": {
             "fill": {
              "color": "#EBF0F8"
             },
             "line": {
              "color": "white"
             }
            },
            "header": {
             "fill": {
              "color": "#C8D4E3"
             },
             "line": {
              "color": "white"
             }
            },
            "type": "table"
           }
          ]
         },
         "layout": {
          "annotationdefaults": {
           "arrowcolor": "#2a3f5f",
           "arrowhead": 0,
           "arrowwidth": 1
          },
          "autotypenumbers": "strict",
          "coloraxis": {
           "colorbar": {
            "outlinewidth": 0,
            "ticks": ""
           }
          },
          "colorscale": {
           "diverging": [
            [
             0,
             "#8e0152"
            ],
            [
             0.1,
             "#c51b7d"
            ],
            [
             0.2,
             "#de77ae"
            ],
            [
             0.3,
             "#f1b6da"
            ],
            [
             0.4,
             "#fde0ef"
            ],
            [
             0.5,
             "#f7f7f7"
            ],
            [
             0.6,
             "#e6f5d0"
            ],
            [
             0.7,
             "#b8e186"
            ],
            [
             0.8,
             "#7fbc41"
            ],
            [
             0.9,
             "#4d9221"
            ],
            [
             1,
             "#276419"
            ]
           ],
           "sequential": [
            [
             0,
             "#0d0887"
            ],
            [
             0.1111111111111111,
             "#46039f"
            ],
            [
             0.2222222222222222,
             "#7201a8"
            ],
            [
             0.3333333333333333,
             "#9c179e"
            ],
            [
             0.4444444444444444,
             "#bd3786"
            ],
            [
             0.5555555555555556,
             "#d8576b"
            ],
            [
             0.6666666666666666,
             "#ed7953"
            ],
            [
             0.7777777777777778,
             "#fb9f3a"
            ],
            [
             0.8888888888888888,
             "#fdca26"
            ],
            [
             1,
             "#f0f921"
            ]
           ],
           "sequentialminus": [
            [
             0,
             "#0d0887"
            ],
            [
             0.1111111111111111,
             "#46039f"
            ],
            [
             0.2222222222222222,
             "#7201a8"
            ],
            [
             0.3333333333333333,
             "#9c179e"
            ],
            [
             0.4444444444444444,
             "#bd3786"
            ],
            [
             0.5555555555555556,
             "#d8576b"
            ],
            [
             0.6666666666666666,
             "#ed7953"
            ],
            [
             0.7777777777777778,
             "#fb9f3a"
            ],
            [
             0.8888888888888888,
             "#fdca26"
            ],
            [
             1,
             "#f0f921"
            ]
           ]
          },
          "colorway": [
           "#636efa",
           "#EF553B",
           "#00cc96",
           "#ab63fa",
           "#FFA15A",
           "#19d3f3",
           "#FF6692",
           "#B6E880",
           "#FF97FF",
           "#FECB52"
          ],
          "font": {
           "color": "#2a3f5f"
          },
          "geo": {
           "bgcolor": "white",
           "lakecolor": "white",
           "landcolor": "#E5ECF6",
           "showlakes": true,
           "showland": true,
           "subunitcolor": "white"
          },
          "hoverlabel": {
           "align": "left"
          },
          "hovermode": "closest",
          "mapbox": {
           "style": "light"
          },
          "paper_bgcolor": "white",
          "plot_bgcolor": "#E5ECF6",
          "polar": {
           "angularaxis": {
            "gridcolor": "white",
            "linecolor": "white",
            "ticks": ""
           },
           "bgcolor": "#E5ECF6",
           "radialaxis": {
            "gridcolor": "white",
            "linecolor": "white",
            "ticks": ""
           }
          },
          "scene": {
           "xaxis": {
            "backgroundcolor": "#E5ECF6",
            "gridcolor": "white",
            "gridwidth": 2,
            "linecolor": "white",
            "showbackground": true,
            "ticks": "",
            "zerolinecolor": "white"
           },
           "yaxis": {
            "backgroundcolor": "#E5ECF6",
            "gridcolor": "white",
            "gridwidth": 2,
            "linecolor": "white",
            "showbackground": true,
            "ticks": "",
            "zerolinecolor": "white"
           },
           "zaxis": {
            "backgroundcolor": "#E5ECF6",
            "gridcolor": "white",
            "gridwidth": 2,
            "linecolor": "white",
            "showbackground": true,
            "ticks": "",
            "zerolinecolor": "white"
           }
          },
          "shapedefaults": {
           "line": {
            "color": "#2a3f5f"
           }
          },
          "ternary": {
           "aaxis": {
            "gridcolor": "white",
            "linecolor": "white",
            "ticks": ""
           },
           "baxis": {
            "gridcolor": "white",
            "linecolor": "white",
            "ticks": ""
           },
           "bgcolor": "#E5ECF6",
           "caxis": {
            "gridcolor": "white",
            "linecolor": "white",
            "ticks": ""
           }
          },
          "title": {
           "x": 0.05
          },
          "xaxis": {
           "automargin": true,
           "gridcolor": "white",
           "linecolor": "white",
           "ticks": "",
           "title": {
            "standoff": 15
           },
           "zerolinecolor": "white",
           "zerolinewidth": 2
          },
          "yaxis": {
           "automargin": true,
           "gridcolor": "white",
           "linecolor": "white",
           "ticks": "",
           "title": {
            "standoff": 15
           },
           "zerolinecolor": "white",
           "zerolinewidth": 2
          }
         }
        },
        "title": {
         "text": "Total Times"
        }
       }
      }
     },
     "metadata": {},
     "output_type": "display_data"
    }
   ],
   "source": [
    "df = backup.sort_values(by=['Total Time'], ascending=False).head(30)\n",
    "\n",
    "fig3 = go.Figure(data=[go.Bar(x=df['Link'], y=df['Total Time'])])\n",
    "fig3.update_layout(title_text='Total Times')\n",
    "fig3.write_html(\"../../fam-report-site/public/Web-Analytics/total_times.html\")\n",
    "fig3.show()"
   ]
  },
  {
   "cell_type": "code",
   "execution_count": 37,
   "metadata": {},
   "outputs": [
    {
     "data": {
      "application/vnd.plotly.v1+json": {
       "config": {
        "plotlyServerURL": "https://plot.ly"
       },
       "data": [
        {
         "type": "bar",
         "x": [
          "https://www.instagram.com/fam.india/",
          "https://www.instagram.com/lifeatfam/",
          "https://www.instagram.com/fampay.in/",
          "https://fampay.in/about",
          "https://famapp.in/about",
          "http://www.fampay.in/about",
          "https://www.instagram.com/explore/tags/getfampaid/",
          "https://www.instagram.com/designatfampay/",
          "https://famapp.in/",
          "https://fampay.in/",
          "https://famcard.me/",
          "http://www.fampay.in/",
          "https://fampay.in/partner",
          "http://www.fampay.in/partner",
          "https://famapp.in/partner",
          "http://www.fampay.in/careers",
          "https://famapp.in/careers",
          "https://fampay.in/careers",
          "http://www.fampay.in/press",
          "https://famapp.in/blog/every-little-thing-counts-ways-in-which-you-can-contribute-to-society-as-a-teenager/",
          "https://fampay.in/blog/every-little-thing-counts-ways-in-which-you-can-contribute-to-society-as-a-teenager/",
          "https://famapp.in/press",
          "https://fampay.in/press",
          "https://fampay.in/blog/7-clever-saving-hacks-for-teenagers-this-will-save-you-a-fortune/",
          "https://famapp.in/blog/7-clever-saving-hacks-for-teenagers-this-will-save-you-a-fortune/",
          "https://famapp.in/blog/7-cool-insta-dads-of-bollywood/",
          "https://famapp.in/blog/gen-z-gaming-how-to-make-real-money-by-playing-video-games/",
          "https://famapp.in/blog/12-queer-led-small-businesses-you-need-to-support-this-pride-month/",
          "https://fampay.in/blog/12-queer-led-small-businesses-you-need-to-support-this-pride-month/",
          "https://famapp.in/blog/teen-bucket-list-10-things-you-must-to-do-in-your-teens/"
         ],
         "y": [
          167,
          167,
          167,
          161,
          161,
          161,
          160,
          80,
          76,
          76,
          76,
          76,
          58,
          58,
          58,
          46,
          46,
          46,
          42,
          42,
          42,
          42,
          42,
          40,
          40,
          39,
          38,
          37,
          37,
          37
         ]
        }
       ],
       "layout": {
        "template": {
         "data": {
          "bar": [
           {
            "error_x": {
             "color": "#2a3f5f"
            },
            "error_y": {
             "color": "#2a3f5f"
            },
            "marker": {
             "line": {
              "color": "#E5ECF6",
              "width": 0.5
             },
             "pattern": {
              "fillmode": "overlay",
              "size": 10,
              "solidity": 0.2
             }
            },
            "type": "bar"
           }
          ],
          "barpolar": [
           {
            "marker": {
             "line": {
              "color": "#E5ECF6",
              "width": 0.5
             },
             "pattern": {
              "fillmode": "overlay",
              "size": 10,
              "solidity": 0.2
             }
            },
            "type": "barpolar"
           }
          ],
          "carpet": [
           {
            "aaxis": {
             "endlinecolor": "#2a3f5f",
             "gridcolor": "white",
             "linecolor": "white",
             "minorgridcolor": "white",
             "startlinecolor": "#2a3f5f"
            },
            "baxis": {
             "endlinecolor": "#2a3f5f",
             "gridcolor": "white",
             "linecolor": "white",
             "minorgridcolor": "white",
             "startlinecolor": "#2a3f5f"
            },
            "type": "carpet"
           }
          ],
          "choropleth": [
           {
            "colorbar": {
             "outlinewidth": 0,
             "ticks": ""
            },
            "type": "choropleth"
           }
          ],
          "contour": [
           {
            "colorbar": {
             "outlinewidth": 0,
             "ticks": ""
            },
            "colorscale": [
             [
              0,
              "#0d0887"
             ],
             [
              0.1111111111111111,
              "#46039f"
             ],
             [
              0.2222222222222222,
              "#7201a8"
             ],
             [
              0.3333333333333333,
              "#9c179e"
             ],
             [
              0.4444444444444444,
              "#bd3786"
             ],
             [
              0.5555555555555556,
              "#d8576b"
             ],
             [
              0.6666666666666666,
              "#ed7953"
             ],
             [
              0.7777777777777778,
              "#fb9f3a"
             ],
             [
              0.8888888888888888,
              "#fdca26"
             ],
             [
              1,
              "#f0f921"
             ]
            ],
            "type": "contour"
           }
          ],
          "contourcarpet": [
           {
            "colorbar": {
             "outlinewidth": 0,
             "ticks": ""
            },
            "type": "contourcarpet"
           }
          ],
          "heatmap": [
           {
            "colorbar": {
             "outlinewidth": 0,
             "ticks": ""
            },
            "colorscale": [
             [
              0,
              "#0d0887"
             ],
             [
              0.1111111111111111,
              "#46039f"
             ],
             [
              0.2222222222222222,
              "#7201a8"
             ],
             [
              0.3333333333333333,
              "#9c179e"
             ],
             [
              0.4444444444444444,
              "#bd3786"
             ],
             [
              0.5555555555555556,
              "#d8576b"
             ],
             [
              0.6666666666666666,
              "#ed7953"
             ],
             [
              0.7777777777777778,
              "#fb9f3a"
             ],
             [
              0.8888888888888888,
              "#fdca26"
             ],
             [
              1,
              "#f0f921"
             ]
            ],
            "type": "heatmap"
           }
          ],
          "heatmapgl": [
           {
            "colorbar": {
             "outlinewidth": 0,
             "ticks": ""
            },
            "colorscale": [
             [
              0,
              "#0d0887"
             ],
             [
              0.1111111111111111,
              "#46039f"
             ],
             [
              0.2222222222222222,
              "#7201a8"
             ],
             [
              0.3333333333333333,
              "#9c179e"
             ],
             [
              0.4444444444444444,
              "#bd3786"
             ],
             [
              0.5555555555555556,
              "#d8576b"
             ],
             [
              0.6666666666666666,
              "#ed7953"
             ],
             [
              0.7777777777777778,
              "#fb9f3a"
             ],
             [
              0.8888888888888888,
              "#fdca26"
             ],
             [
              1,
              "#f0f921"
             ]
            ],
            "type": "heatmapgl"
           }
          ],
          "histogram": [
           {
            "marker": {
             "pattern": {
              "fillmode": "overlay",
              "size": 10,
              "solidity": 0.2
             }
            },
            "type": "histogram"
           }
          ],
          "histogram2d": [
           {
            "colorbar": {
             "outlinewidth": 0,
             "ticks": ""
            },
            "colorscale": [
             [
              0,
              "#0d0887"
             ],
             [
              0.1111111111111111,
              "#46039f"
             ],
             [
              0.2222222222222222,
              "#7201a8"
             ],
             [
              0.3333333333333333,
              "#9c179e"
             ],
             [
              0.4444444444444444,
              "#bd3786"
             ],
             [
              0.5555555555555556,
              "#d8576b"
             ],
             [
              0.6666666666666666,
              "#ed7953"
             ],
             [
              0.7777777777777778,
              "#fb9f3a"
             ],
             [
              0.8888888888888888,
              "#fdca26"
             ],
             [
              1,
              "#f0f921"
             ]
            ],
            "type": "histogram2d"
           }
          ],
          "histogram2dcontour": [
           {
            "colorbar": {
             "outlinewidth": 0,
             "ticks": ""
            },
            "colorscale": [
             [
              0,
              "#0d0887"
             ],
             [
              0.1111111111111111,
              "#46039f"
             ],
             [
              0.2222222222222222,
              "#7201a8"
             ],
             [
              0.3333333333333333,
              "#9c179e"
             ],
             [
              0.4444444444444444,
              "#bd3786"
             ],
             [
              0.5555555555555556,
              "#d8576b"
             ],
             [
              0.6666666666666666,
              "#ed7953"
             ],
             [
              0.7777777777777778,
              "#fb9f3a"
             ],
             [
              0.8888888888888888,
              "#fdca26"
             ],
             [
              1,
              "#f0f921"
             ]
            ],
            "type": "histogram2dcontour"
           }
          ],
          "mesh3d": [
           {
            "colorbar": {
             "outlinewidth": 0,
             "ticks": ""
            },
            "type": "mesh3d"
           }
          ],
          "parcoords": [
           {
            "line": {
             "colorbar": {
              "outlinewidth": 0,
              "ticks": ""
             }
            },
            "type": "parcoords"
           }
          ],
          "pie": [
           {
            "automargin": true,
            "type": "pie"
           }
          ],
          "scatter": [
           {
            "fillpattern": {
             "fillmode": "overlay",
             "size": 10,
             "solidity": 0.2
            },
            "type": "scatter"
           }
          ],
          "scatter3d": [
           {
            "line": {
             "colorbar": {
              "outlinewidth": 0,
              "ticks": ""
             }
            },
            "marker": {
             "colorbar": {
              "outlinewidth": 0,
              "ticks": ""
             }
            },
            "type": "scatter3d"
           }
          ],
          "scattercarpet": [
           {
            "marker": {
             "colorbar": {
              "outlinewidth": 0,
              "ticks": ""
             }
            },
            "type": "scattercarpet"
           }
          ],
          "scattergeo": [
           {
            "marker": {
             "colorbar": {
              "outlinewidth": 0,
              "ticks": ""
             }
            },
            "type": "scattergeo"
           }
          ],
          "scattergl": [
           {
            "marker": {
             "colorbar": {
              "outlinewidth": 0,
              "ticks": ""
             }
            },
            "type": "scattergl"
           }
          ],
          "scattermapbox": [
           {
            "marker": {
             "colorbar": {
              "outlinewidth": 0,
              "ticks": ""
             }
            },
            "type": "scattermapbox"
           }
          ],
          "scatterpolar": [
           {
            "marker": {
             "colorbar": {
              "outlinewidth": 0,
              "ticks": ""
             }
            },
            "type": "scatterpolar"
           }
          ],
          "scatterpolargl": [
           {
            "marker": {
             "colorbar": {
              "outlinewidth": 0,
              "ticks": ""
             }
            },
            "type": "scatterpolargl"
           }
          ],
          "scatterternary": [
           {
            "marker": {
             "colorbar": {
              "outlinewidth": 0,
              "ticks": ""
             }
            },
            "type": "scatterternary"
           }
          ],
          "surface": [
           {
            "colorbar": {
             "outlinewidth": 0,
             "ticks": ""
            },
            "colorscale": [
             [
              0,
              "#0d0887"
             ],
             [
              0.1111111111111111,
              "#46039f"
             ],
             [
              0.2222222222222222,
              "#7201a8"
             ],
             [
              0.3333333333333333,
              "#9c179e"
             ],
             [
              0.4444444444444444,
              "#bd3786"
             ],
             [
              0.5555555555555556,
              "#d8576b"
             ],
             [
              0.6666666666666666,
              "#ed7953"
             ],
             [
              0.7777777777777778,
              "#fb9f3a"
             ],
             [
              0.8888888888888888,
              "#fdca26"
             ],
             [
              1,
              "#f0f921"
             ]
            ],
            "type": "surface"
           }
          ],
          "table": [
           {
            "cells": {
             "fill": {
              "color": "#EBF0F8"
             },
             "line": {
              "color": "white"
             }
            },
            "header": {
             "fill": {
              "color": "#C8D4E3"
             },
             "line": {
              "color": "white"
             }
            },
            "type": "table"
           }
          ]
         },
         "layout": {
          "annotationdefaults": {
           "arrowcolor": "#2a3f5f",
           "arrowhead": 0,
           "arrowwidth": 1
          },
          "autotypenumbers": "strict",
          "coloraxis": {
           "colorbar": {
            "outlinewidth": 0,
            "ticks": ""
           }
          },
          "colorscale": {
           "diverging": [
            [
             0,
             "#8e0152"
            ],
            [
             0.1,
             "#c51b7d"
            ],
            [
             0.2,
             "#de77ae"
            ],
            [
             0.3,
             "#f1b6da"
            ],
            [
             0.4,
             "#fde0ef"
            ],
            [
             0.5,
             "#f7f7f7"
            ],
            [
             0.6,
             "#e6f5d0"
            ],
            [
             0.7,
             "#b8e186"
            ],
            [
             0.8,
             "#7fbc41"
            ],
            [
             0.9,
             "#4d9221"
            ],
            [
             1,
             "#276419"
            ]
           ],
           "sequential": [
            [
             0,
             "#0d0887"
            ],
            [
             0.1111111111111111,
             "#46039f"
            ],
            [
             0.2222222222222222,
             "#7201a8"
            ],
            [
             0.3333333333333333,
             "#9c179e"
            ],
            [
             0.4444444444444444,
             "#bd3786"
            ],
            [
             0.5555555555555556,
             "#d8576b"
            ],
            [
             0.6666666666666666,
             "#ed7953"
            ],
            [
             0.7777777777777778,
             "#fb9f3a"
            ],
            [
             0.8888888888888888,
             "#fdca26"
            ],
            [
             1,
             "#f0f921"
            ]
           ],
           "sequentialminus": [
            [
             0,
             "#0d0887"
            ],
            [
             0.1111111111111111,
             "#46039f"
            ],
            [
             0.2222222222222222,
             "#7201a8"
            ],
            [
             0.3333333333333333,
             "#9c179e"
            ],
            [
             0.4444444444444444,
             "#bd3786"
            ],
            [
             0.5555555555555556,
             "#d8576b"
            ],
            [
             0.6666666666666666,
             "#ed7953"
            ],
            [
             0.7777777777777778,
             "#fb9f3a"
            ],
            [
             0.8888888888888888,
             "#fdca26"
            ],
            [
             1,
             "#f0f921"
            ]
           ]
          },
          "colorway": [
           "#636efa",
           "#EF553B",
           "#00cc96",
           "#ab63fa",
           "#FFA15A",
           "#19d3f3",
           "#FF6692",
           "#B6E880",
           "#FF97FF",
           "#FECB52"
          ],
          "font": {
           "color": "#2a3f5f"
          },
          "geo": {
           "bgcolor": "white",
           "lakecolor": "white",
           "landcolor": "#E5ECF6",
           "showlakes": true,
           "showland": true,
           "subunitcolor": "white"
          },
          "hoverlabel": {
           "align": "left"
          },
          "hovermode": "closest",
          "mapbox": {
           "style": "light"
          },
          "paper_bgcolor": "white",
          "plot_bgcolor": "#E5ECF6",
          "polar": {
           "angularaxis": {
            "gridcolor": "white",
            "linecolor": "white",
            "ticks": ""
           },
           "bgcolor": "#E5ECF6",
           "radialaxis": {
            "gridcolor": "white",
            "linecolor": "white",
            "ticks": ""
           }
          },
          "scene": {
           "xaxis": {
            "backgroundcolor": "#E5ECF6",
            "gridcolor": "white",
            "gridwidth": 2,
            "linecolor": "white",
            "showbackground": true,
            "ticks": "",
            "zerolinecolor": "white"
           },
           "yaxis": {
            "backgroundcolor": "#E5ECF6",
            "gridcolor": "white",
            "gridwidth": 2,
            "linecolor": "white",
            "showbackground": true,
            "ticks": "",
            "zerolinecolor": "white"
           },
           "zaxis": {
            "backgroundcolor": "#E5ECF6",
            "gridcolor": "white",
            "gridwidth": 2,
            "linecolor": "white",
            "showbackground": true,
            "ticks": "",
            "zerolinecolor": "white"
           }
          },
          "shapedefaults": {
           "line": {
            "color": "#2a3f5f"
           }
          },
          "ternary": {
           "aaxis": {
            "gridcolor": "white",
            "linecolor": "white",
            "ticks": ""
           },
           "baxis": {
            "gridcolor": "white",
            "linecolor": "white",
            "ticks": ""
           },
           "bgcolor": "#E5ECF6",
           "caxis": {
            "gridcolor": "white",
            "linecolor": "white",
            "ticks": ""
           }
          },
          "title": {
           "x": 0.05
          },
          "xaxis": {
           "automargin": true,
           "gridcolor": "white",
           "linecolor": "white",
           "ticks": "",
           "title": {
            "standoff": 15
           },
           "zerolinecolor": "white",
           "zerolinewidth": 2
          },
          "yaxis": {
           "automargin": true,
           "gridcolor": "white",
           "linecolor": "white",
           "ticks": "",
           "title": {
            "standoff": 15
           },
           "zerolinecolor": "white",
           "zerolinewidth": 2
          }
         }
        },
        "title": {
         "text": "Resource Counts"
        }
       }
      }
     },
     "metadata": {},
     "output_type": "display_data"
    }
   ],
   "source": [
    "df = backup.sort_values(by=['Resource Count'], ascending=False).head(30)\n",
    "\n",
    "fig4 = go.Figure(data=[go.Bar(x=df['Link'], y=df['Resource Count'])])\n",
    "fig4.update_layout(title_text='Resource Counts')\n",
    "fig4.write_html(\"../../fam-report-site/public/Web-Analytics/resource_counts.html\")\n",
    "fig4.show()"
   ]
  },
  {
   "cell_type": "code",
   "execution_count": 38,
   "metadata": {},
   "outputs": [
    {
     "data": {
      "application/vnd.plotly.v1+json": {
       "config": {
        "plotlyServerURL": "https://plot.ly"
       },
       "data": [
        {
         "mode": "markers",
         "type": "scatter",
         "x": [
          0.2385363578796386,
          0.2023022174835205,
          0.250375747680664,
          0.130505084991455,
          0.4530427455902099,
          0.2732746601104736,
          0.2618818283081054,
          0.386103868484497,
          0.2380118370056152,
          0.1875967979431152,
          0.201207160949707,
          0.1778957843780517,
          0.2617452144622803,
          0.2230100631713867,
          0.1897287368774414,
          0.2041966915130615,
          0.1935594081878662,
          0.1820058822631836,
          0.1939642429351806,
          0.1891391277313232,
          0.1592011451721191,
          0.1805717945098877,
          0.1937410831451416,
          0.190833568572998,
          0.1409783363342285,
          0.2092885971069336,
          0.1808648109436035,
          0.1654164791107177,
          0.1977930068969726,
          0.1968371868133545,
          0.1838436126708984,
          0.1644709110260009,
          0.2998418807983398,
          0.2293770313262939,
          0.3499684333801269,
          0.177131175994873,
          0.2725844383239746,
          0.3123307228088379,
          0.2855162620544433,
          0.1877250671386718,
          0.1495766639709472,
          0.1729590892791748,
          0.1435072422027588,
          0.1700303554534912,
          0.1746950149536132,
          0.1415269374847412,
          0.2128863334655761,
          0.1681523323059082,
          0.1642484664916992,
          0.1951315402984619,
          0.181166410446167,
          0.2397944927215576,
          0.2331886291503906,
          0.1756041049957275,
          0.1751728057861328,
          0.1725354194641113,
          0.2282443046569824,
          0.1771812438964843,
          0.1649327278137207,
          0.1835412979125976,
          0.1571049690246582,
          0.1773130893707275,
          0.1581065654754638,
          0.1977667808532714,
          0.1486797332763672,
          0.1702313423156738,
          0.1410002708435058,
          0.1866192817687988,
          0.1573426723480224,
          0.1602082252502441,
          0.1500306129455566,
          0.2220783233642578,
          0.221531867980957,
          0.2088625431060791,
          0.2231626510620117,
          0.222872257232666,
          0.1879065036773681,
          0.2136144638061523,
          0.1706719398498535,
          0.2032690048217773,
          0.1753101348876953,
          0.1720879077911377,
          0.1813306808471679,
          0.1503345966339111,
          0.1737465858459472,
          0.159900426864624,
          0.1728034019470214,
          0.2399976253509521,
          0.1886541843414306,
          0.1459505558013916,
          0.1781532764434814,
          0.1984140872955322,
          0.2220251560211181,
          0.1654555797576904,
          0.1536829471588134,
          0.2227094173431396,
          0.1535010337829589,
          0.1461045742034912,
          0.1646924018859863,
          1.259327411651611,
          1.6717512607574463,
          1.2010512351989746,
          0.9888763427734376,
          0.2779734134674072,
          0.2654521465301513,
          0.1710245609283447,
          0.8676018714904785,
          1.0787348747253418,
          0.9393198490142822,
          0.3249082565307617,
          1.0983152389526367,
          1.0771629810333252,
          0.9266064167022704,
          0.2205219268798828,
          1.143986463546753,
          1.077181339263916,
          0.9495534896850586,
          0.2508647441864013,
          1.6225359439849854,
          1.0550084114074707,
          0.9326574802398682,
          0.1946659088134765,
          1.16475510597229,
          1.17972731590271,
          0.9698138236999512,
          0.390190839767456,
          0.919703722000122,
          1.0603814125061035,
          0.9229128360748292,
          0.2429203987121582,
          0.90325927734375,
          1.078033447265625,
          0.9425570964813232,
          0.24196457862854,
          0.9018275737762452,
          1.097778081893921,
          0.9153165817260742,
          0.2521274089813232,
          0.9134986400604248,
          1.058708429336548,
          0.9142961502075196,
          0.2018067836761474,
          0.2641265392303467,
          1.5853486061096191,
          0.5575764179229736,
          0.1012666225433349,
          1.48187255859375,
          1.1737966537475586,
          0.1284046173095703,
          0.3164761066436767,
          0.2245409488677978,
          0.1295320987701416,
          0.142188549041748,
          0.1417169570922851,
          0.1486411094665527,
          0.0934858322143554,
          0.3030707836151123,
          0.2275044918060302,
          0.3000352382659912,
          0.8594071865081787,
          1.0419213771820068,
          0.8981571197509766,
          0.2970967292785644,
          0.8866763114929199,
          1.052123785018921,
          0.9940032958984376,
          0.3043451309204101,
          0.8834946155548096,
          1.0660953521728516,
          0.938617467880249,
          0.3577382564544678,
          0.8901772499084473,
          1.0778145790100098,
          0.9667813777923584,
          0.5411925315856934,
          0.9514153003692628,
          1.322305679321289,
          0.9333219528198242,
          0.3511104583740234,
          0.3619744777679443,
          0.9539291858673096,
          1.0529255867004397,
          0.9400503635406494,
          0.3071818351745605,
          1.0201072692871094,
          1.077888250350952,
          0.9302537441253662,
          0.3207008838653564,
          0.973325490951538,
          1.0635240077972412,
          0.914809226989746,
          0.4368095397949219,
          0.9451854228973388,
          1.0614213943481443,
          0.9350957870483398,
          0.2786002159118652,
          1.3508706092834473,
          1.0670344829559326,
          0.9164106845855712,
          0.4065966606140136,
          0.3072013854980469,
          0.9408278465270996,
          1.1134364604949951,
          0.9163274765014648,
          0.2356858253479004,
          0.949848175048828,
          1.2627344131469729,
          0.9728074073791504,
          0.3400347232818603,
          0.9327163696289062,
          1.1478567123413086,
          0.9410247802734376,
          0.4366178512573242,
          0.9348270893096924,
          1.0384159088134766,
          0.9358189105987548,
          0.3990628719329834,
          0.9188778400421144,
          1.109921932220459,
          0.926250457763672,
          0.5736920833587646,
          0.3873376846313476,
          0.896561861038208,
          1.0577497482299805,
          0.9368295669555664,
          0.4295623302459717,
          0.296865701675415,
          0.921586275100708,
          1.0443875789642334,
          0.9054083824157716,
          0.3544201850891113,
          0.9417130947113036,
          1.106938123703003,
          0.931023359298706,
          0.2567944526672363,
          0.903792142868042,
          1.0300517082214355,
          0.9380831718444824,
          0.3545708656311035,
          0.9047222137451172,
          1.0373601913452148,
          0.9768173694610596,
          0.5505998134613037,
          1.12542724609375,
          1.083773851394653,
          0.9040818214416504,
          0.3178625106811523,
          0.2577502727508545,
          0.4281702041625976,
          0.8949728012084961,
          1.0917177200317385,
          0.9306294918060304,
          0.1983046531677246,
          0.3286571502685547,
          0.3189358711242676,
          0.89540696144104,
          1.2313740253448486,
          0.9355504512786864,
          0.5210418701171875,
          0.8839294910430908,
          1.3650641441345217,
          1.1450369358062744,
          3.89579176902771,
          0.400447130203247,
          1.145930528640747,
          1.095740556716919,
          0.943756103515625,
          0.3427968025207519,
          0.2668526172637939,
          0.3238346576690674,
          0.2797706127166748,
          0.3422248363494873,
          0.5068447589874268,
          0.3682854175567627,
          0.2763814926147461,
          0.8754453659057617,
          1.0689995288848877,
          0.9807209968566896,
          0.2989294528961181,
          0.8740255832672119,
          1.074864149093628,
          0.9587039947509766,
          0.300119400024414,
          0.9016807079315186,
          1.093285083770752,
          0.968719720840454,
          0.3748643398284912,
          0.5123255252838135,
          0.8608813285827637,
          1.0630552768707275,
          0.943364143371582,
          0.3018529415130615,
          0.848698616027832,
          1.0657434463500977,
          0.9514870643615724,
          0.3321959972381592,
          0.8879578113555908,
          1.028928279876709,
          0.9368021488189696,
          0.314629316329956,
          0.8528764247894287,
          1.0197362899780271,
          0.9390425682067872,
          0.3712887763977051,
          0.9081215858459472,
          1.017120599746704,
          0.9388010501861572,
          0.3258366584777832,
          0.9237432479858398,
          1.198896408081055,
          1.066029071807861,
          1.0967447757720947,
          0.3028523921966553,
          0.8440506458282471,
          1.0331790447235107,
          0.9597673416137696,
          0.383310317993164,
          0.9179298877716064,
          1.024592399597168,
          0.9770114421844482,
          0.223768949508667,
          0.2499082088470459,
          0.9643945693969728,
          1.0024187564849854,
          0.9656178951263428,
          0.2652168273925781,
          0.8536913394927979,
          1.05163836479187,
          0.9371495246887208,
          0.4615914821624756,
          0.2980031967163086,
          0.2820262908935547,
          0.23396897315979,
          0.2070691585540771,
          0.2145991325378418,
          0.9614286422729492,
          1.0372390747070312,
          0.9589242935180664,
          0.2871100902557373,
          0.9401121139526368,
          1.022951364517212,
          0.9251408576965332,
          0.1901688575744629,
          0.0784697532653808,
          0.2996931076049804,
          1.1658461093902588,
          1.0246312618255615,
          0.942701816558838,
          0.3265292644500732,
          0.8834671974182129,
          1.0467727184295654,
          0.9384264945983888,
          0.2889187335968017,
          0.8873424530029297,
          1.0418846607208252,
          0.9197287559509276,
          0.3283455371856689,
          0.9209098815917968,
          1.1365201473236084,
          0.9002890586853027,
          0.363915205001831,
          0.1896281242370605,
          0.3174471855163574,
          0.1747655868530273,
          0.1874012947082519,
          0.2016193866729736,
          0.2708263397216797,
          0.138991117477417,
          0.1435096263885498,
          0.1455559730529785,
          0.1424908638000488,
          0.2139089107513427,
          0.9627468585968018,
          1.085737228393555,
          0.9755170345306396,
          0.2701108455657959,
          0.2099206447601318,
          0.9109835624694824,
          1.0515661239624023,
          0.9532680511474608,
          0.2949090003967285,
          0.923630714416504,
          1.0355987548828125,
          0.9694085121154784,
          0.2871606349945068,
          1.070185661315918,
          1.0938632488250732,
          0.9536705017089844,
          0.3172390460968017,
          0.9237124919891356,
          1.0260841846466064,
          0.9301395416259766,
          0.2785134315490722,
          1.396801471710205,
          1.0339694023132324,
          0.8963024616241455,
          0.5965616703033447,
          0.9052734375,
          1.0554966926574707,
          0.9326896667480468,
          0.5090770721435547,
          0.9139633178710938,
          1.042910099029541,
          0.959275245666504,
          0.2734646797180176,
          0.95886492729187,
          1.0531063079833984,
          0.9205546379089355,
          0.3073909282684326,
          0.915353775024414,
          1.0467774868011477,
          0.9591174125671388,
          0.3243699073791504,
          0.9108784198760986,
          1.0563483238220217,
          0.9436752796173096,
          0.2170681953430175,
          0.288081407546997,
          0.8939962387084961,
          1.1150219440460205,
          0.912097692489624,
          0.345527172088623,
          0.4009785652160644,
          1.0431389808654783,
          1.071408748626709,
          0.9384996891021729,
          0.3470611572265625,
          1.023629903793335,
          1.0495445728302002,
          0.977797508239746,
          0.4435803890228271,
          0.270148754119873,
          0.9435904026031494,
          1.0434105396270752,
          0.9197747707366944,
          0.4395451545715332,
          0.9747042655944824,
          1.023268461227417,
          0.979261875152588,
          0.2970626354217529,
          0.9684514999389648,
          1.0561108589172363,
          0.9835159778594972,
          0.2146666049957275,
          0.350348949432373,
          0.9621422290802002,
          1.0439400672912598,
          1.062800407409668,
          0.281421422958374,
          0.905789852142334,
          1.0299153327941897,
          0.9403822422027588,
          0.2921323776245117,
          0.9496965408325196,
          1.1387004852294922,
          0.9439578056335448,
          0.252241849899292,
          0.9163165092468262,
          1.153548240661621,
          1.8009746074676514,
          0.2629623413085937,
          0.3496606349945068,
          0.3136918544769287,
          0.2711143493652344,
          1.133265256881714,
          1.0739295482635498,
          0.9326176643371582,
          0.3112387657165527,
          0.9534001350402832,
          1.0694947242736816,
          0.9562625885009766,
          0.4434607028961181,
          0.9512042999267578,
          1.0711767673492432,
          0.9626584053039552,
          0.3262734413146972,
          0.898043155670166,
          1.0497217178344729,
          0.9649856090545654,
          0.8331520557403564,
          0.2871491909027099,
          1.192124605178833,
          1.059276819229126,
          0.9632110595703124,
          1.7770605087280271,
          1.7834811210632324,
          1.7179629802703855,
          1.7370593547821045,
          1.6680903434753418,
          1.6812262535095217,
          1.745713710784912,
          1.8768305778503416,
          1.6911380290985107,
          1.665071725845337,
          1.6791377067565918,
          0.5257928371429443,
          0.9463226795196532,
          1.0515189170837402,
          0.9538793563842772,
          0.412947416305542,
          0.3881881237030029,
          0.318244457244873,
          0.2423980236053466,
          0.2560250759124756,
          0.2522754669189453,
          0.2558584213256836,
          0.2184419631958007,
          0.2409560680389404,
          0.2133224010467529,
          0.2687597274780273,
          0.3205776214599609,
          0.2629203796386719,
          0.2975578308105469,
          0.0566444396972656,
          0.0594048500061035,
          0.1686007976531982,
          0.2782044410705566,
          0.0554084777832031,
          0.0580101013183593,
          0.0612237453460693,
          0.0545578002929687,
          1.6277897357940674,
          0.5871102809906006
         ],
         "y": [
          76,
          76,
          76,
          161,
          24,
          23,
          29,
          29,
          29,
          29,
          25,
          22,
          23,
          23,
          30,
          28,
          29,
          25,
          25,
          26,
          25,
          25,
          25,
          25,
          22,
          22,
          28,
          25,
          25,
          28,
          27,
          27,
          25,
          23,
          28,
          22,
          27,
          29,
          22,
          27,
          22,
          34,
          22,
          27,
          26,
          22,
          23,
          22,
          28,
          36,
          22,
          22,
          37,
          31,
          33,
          27,
          23,
          33,
          22,
          29,
          22,
          30,
          22,
          36,
          22,
          36,
          22,
          33,
          22,
          30,
          22,
          22,
          23,
          33,
          42,
          23,
          22,
          25,
          27,
          23,
          29,
          40,
          35,
          22,
          30,
          22,
          29,
          26,
          26,
          22,
          33,
          22,
          22,
          29,
          22,
          22,
          28,
          22,
          32,
          28,
          33,
          33,
          34,
          23,
          23,
          29,
          28,
          33,
          33,
          28,
          28,
          33,
          33,
          28,
          28,
          33,
          33,
          32,
          28,
          33,
          33,
          32,
          28,
          33,
          33,
          25,
          28,
          33,
          33,
          29,
          28,
          33,
          33,
          29,
          28,
          33,
          33,
          30,
          28,
          33,
          33,
          24,
          24,
          167,
          1,
          46,
          167,
          80,
          58,
          35,
          24,
          42,
          31,
          31,
          34,
          161,
          24,
          22,
          29,
          28,
          33,
          33,
          29,
          28,
          33,
          33,
          25,
          28,
          33,
          33,
          28,
          28,
          33,
          33,
          36,
          28,
          33,
          33,
          22,
          37,
          28,
          33,
          33,
          26,
          28,
          33,
          33,
          31,
          28,
          33,
          33,
          33,
          28,
          33,
          33,
          27,
          28,
          33,
          33,
          23,
          28,
          28,
          33,
          33,
          27,
          28,
          33,
          33,
          29,
          28,
          33,
          33,
          27,
          28,
          33,
          33,
          34,
          28,
          33,
          33,
          1,
          27,
          28,
          33,
          33,
          23,
          33,
          28,
          33,
          33,
          29,
          28,
          33,
          33,
          30,
          28,
          33,
          33,
          36,
          28,
          33,
          33,
          35,
          28,
          33,
          33,
          29,
          33,
          30,
          28,
          33,
          33,
          19,
          30,
          36,
          28,
          33,
          33,
          33,
          28,
          33,
          33,
          160,
          26,
          28,
          33,
          33,
          22,
          30,
          33,
          30,
          23,
          22,
          23,
          29,
          28,
          33,
          33,
          33,
          28,
          33,
          33,
          42,
          28,
          33,
          33,
          23,
          29,
          28,
          33,
          33,
          31,
          28,
          33,
          33,
          31,
          28,
          33,
          33,
          30,
          28,
          33,
          33,
          32,
          28,
          33,
          33,
          29,
          28,
          33,
          33,
          15,
          38,
          28,
          33,
          33,
          37,
          28,
          33,
          33,
          30,
          30,
          28,
          33,
          33,
          35,
          28,
          33,
          33,
          22,
          30,
          31,
          39,
          22,
          28,
          28,
          33,
          33,
          25,
          28,
          33,
          33,
          0,
          0,
          25,
          28,
          33,
          33,
          28,
          28,
          33,
          33,
          27,
          28,
          33,
          33,
          27,
          28,
          33,
          33,
          76,
          161,
          24,
          46,
          58,
          35,
          24,
          42,
          31,
          31,
          34,
          25,
          28,
          33,
          33,
          23,
          30,
          28,
          33,
          33,
          28,
          28,
          33,
          33,
          29,
          28,
          33,
          33,
          25,
          28,
          33,
          33,
          25,
          28,
          33,
          33,
          26,
          28,
          33,
          33,
          25,
          28,
          33,
          33,
          25,
          28,
          33,
          33,
          25,
          28,
          33,
          33,
          25,
          28,
          33,
          33,
          22,
          25,
          28,
          33,
          33,
          22,
          25,
          28,
          33,
          33,
          27,
          28,
          33,
          33,
          23,
          29,
          28,
          33,
          33,
          29,
          28,
          33,
          33,
          40,
          28,
          33,
          33,
          29,
          29,
          28,
          33,
          33,
          26,
          28,
          33,
          33,
          33,
          28,
          33,
          33,
          28,
          28,
          33,
          33,
          32,
          22,
          28,
          30,
          28,
          33,
          33,
          35,
          28,
          33,
          33,
          29,
          28,
          33,
          33,
          32,
          28,
          33,
          33,
          22,
          29,
          28,
          33,
          33,
          37,
          37,
          37,
          37,
          37,
          37,
          37,
          37,
          37,
          37,
          37,
          28,
          28,
          33,
          33,
          32,
          29,
          28,
          28,
          32,
          32,
          25,
          29,
          29,
          30,
          24,
          24,
          24,
          24,
          46,
          58,
          35,
          24,
          42,
          31,
          31,
          34,
          167,
          1
         ]
        }
       ],
       "layout": {
        "template": {
         "data": {
          "bar": [
           {
            "error_x": {
             "color": "#2a3f5f"
            },
            "error_y": {
             "color": "#2a3f5f"
            },
            "marker": {
             "line": {
              "color": "#E5ECF6",
              "width": 0.5
             },
             "pattern": {
              "fillmode": "overlay",
              "size": 10,
              "solidity": 0.2
             }
            },
            "type": "bar"
           }
          ],
          "barpolar": [
           {
            "marker": {
             "line": {
              "color": "#E5ECF6",
              "width": 0.5
             },
             "pattern": {
              "fillmode": "overlay",
              "size": 10,
              "solidity": 0.2
             }
            },
            "type": "barpolar"
           }
          ],
          "carpet": [
           {
            "aaxis": {
             "endlinecolor": "#2a3f5f",
             "gridcolor": "white",
             "linecolor": "white",
             "minorgridcolor": "white",
             "startlinecolor": "#2a3f5f"
            },
            "baxis": {
             "endlinecolor": "#2a3f5f",
             "gridcolor": "white",
             "linecolor": "white",
             "minorgridcolor": "white",
             "startlinecolor": "#2a3f5f"
            },
            "type": "carpet"
           }
          ],
          "choropleth": [
           {
            "colorbar": {
             "outlinewidth": 0,
             "ticks": ""
            },
            "type": "choropleth"
           }
          ],
          "contour": [
           {
            "colorbar": {
             "outlinewidth": 0,
             "ticks": ""
            },
            "colorscale": [
             [
              0,
              "#0d0887"
             ],
             [
              0.1111111111111111,
              "#46039f"
             ],
             [
              0.2222222222222222,
              "#7201a8"
             ],
             [
              0.3333333333333333,
              "#9c179e"
             ],
             [
              0.4444444444444444,
              "#bd3786"
             ],
             [
              0.5555555555555556,
              "#d8576b"
             ],
             [
              0.6666666666666666,
              "#ed7953"
             ],
             [
              0.7777777777777778,
              "#fb9f3a"
             ],
             [
              0.8888888888888888,
              "#fdca26"
             ],
             [
              1,
              "#f0f921"
             ]
            ],
            "type": "contour"
           }
          ],
          "contourcarpet": [
           {
            "colorbar": {
             "outlinewidth": 0,
             "ticks": ""
            },
            "type": "contourcarpet"
           }
          ],
          "heatmap": [
           {
            "colorbar": {
             "outlinewidth": 0,
             "ticks": ""
            },
            "colorscale": [
             [
              0,
              "#0d0887"
             ],
             [
              0.1111111111111111,
              "#46039f"
             ],
             [
              0.2222222222222222,
              "#7201a8"
             ],
             [
              0.3333333333333333,
              "#9c179e"
             ],
             [
              0.4444444444444444,
              "#bd3786"
             ],
             [
              0.5555555555555556,
              "#d8576b"
             ],
             [
              0.6666666666666666,
              "#ed7953"
             ],
             [
              0.7777777777777778,
              "#fb9f3a"
             ],
             [
              0.8888888888888888,
              "#fdca26"
             ],
             [
              1,
              "#f0f921"
             ]
            ],
            "type": "heatmap"
           }
          ],
          "heatmapgl": [
           {
            "colorbar": {
             "outlinewidth": 0,
             "ticks": ""
            },
            "colorscale": [
             [
              0,
              "#0d0887"
             ],
             [
              0.1111111111111111,
              "#46039f"
             ],
             [
              0.2222222222222222,
              "#7201a8"
             ],
             [
              0.3333333333333333,
              "#9c179e"
             ],
             [
              0.4444444444444444,
              "#bd3786"
             ],
             [
              0.5555555555555556,
              "#d8576b"
             ],
             [
              0.6666666666666666,
              "#ed7953"
             ],
             [
              0.7777777777777778,
              "#fb9f3a"
             ],
             [
              0.8888888888888888,
              "#fdca26"
             ],
             [
              1,
              "#f0f921"
             ]
            ],
            "type": "heatmapgl"
           }
          ],
          "histogram": [
           {
            "marker": {
             "pattern": {
              "fillmode": "overlay",
              "size": 10,
              "solidity": 0.2
             }
            },
            "type": "histogram"
           }
          ],
          "histogram2d": [
           {
            "colorbar": {
             "outlinewidth": 0,
             "ticks": ""
            },
            "colorscale": [
             [
              0,
              "#0d0887"
             ],
             [
              0.1111111111111111,
              "#46039f"
             ],
             [
              0.2222222222222222,
              "#7201a8"
             ],
             [
              0.3333333333333333,
              "#9c179e"
             ],
             [
              0.4444444444444444,
              "#bd3786"
             ],
             [
              0.5555555555555556,
              "#d8576b"
             ],
             [
              0.6666666666666666,
              "#ed7953"
             ],
             [
              0.7777777777777778,
              "#fb9f3a"
             ],
             [
              0.8888888888888888,
              "#fdca26"
             ],
             [
              1,
              "#f0f921"
             ]
            ],
            "type": "histogram2d"
           }
          ],
          "histogram2dcontour": [
           {
            "colorbar": {
             "outlinewidth": 0,
             "ticks": ""
            },
            "colorscale": [
             [
              0,
              "#0d0887"
             ],
             [
              0.1111111111111111,
              "#46039f"
             ],
             [
              0.2222222222222222,
              "#7201a8"
             ],
             [
              0.3333333333333333,
              "#9c179e"
             ],
             [
              0.4444444444444444,
              "#bd3786"
             ],
             [
              0.5555555555555556,
              "#d8576b"
             ],
             [
              0.6666666666666666,
              "#ed7953"
             ],
             [
              0.7777777777777778,
              "#fb9f3a"
             ],
             [
              0.8888888888888888,
              "#fdca26"
             ],
             [
              1,
              "#f0f921"
             ]
            ],
            "type": "histogram2dcontour"
           }
          ],
          "mesh3d": [
           {
            "colorbar": {
             "outlinewidth": 0,
             "ticks": ""
            },
            "type": "mesh3d"
           }
          ],
          "parcoords": [
           {
            "line": {
             "colorbar": {
              "outlinewidth": 0,
              "ticks": ""
             }
            },
            "type": "parcoords"
           }
          ],
          "pie": [
           {
            "automargin": true,
            "type": "pie"
           }
          ],
          "scatter": [
           {
            "fillpattern": {
             "fillmode": "overlay",
             "size": 10,
             "solidity": 0.2
            },
            "type": "scatter"
           }
          ],
          "scatter3d": [
           {
            "line": {
             "colorbar": {
              "outlinewidth": 0,
              "ticks": ""
             }
            },
            "marker": {
             "colorbar": {
              "outlinewidth": 0,
              "ticks": ""
             }
            },
            "type": "scatter3d"
           }
          ],
          "scattercarpet": [
           {
            "marker": {
             "colorbar": {
              "outlinewidth": 0,
              "ticks": ""
             }
            },
            "type": "scattercarpet"
           }
          ],
          "scattergeo": [
           {
            "marker": {
             "colorbar": {
              "outlinewidth": 0,
              "ticks": ""
             }
            },
            "type": "scattergeo"
           }
          ],
          "scattergl": [
           {
            "marker": {
             "colorbar": {
              "outlinewidth": 0,
              "ticks": ""
             }
            },
            "type": "scattergl"
           }
          ],
          "scattermapbox": [
           {
            "marker": {
             "colorbar": {
              "outlinewidth": 0,
              "ticks": ""
             }
            },
            "type": "scattermapbox"
           }
          ],
          "scatterpolar": [
           {
            "marker": {
             "colorbar": {
              "outlinewidth": 0,
              "ticks": ""
             }
            },
            "type": "scatterpolar"
           }
          ],
          "scatterpolargl": [
           {
            "marker": {
             "colorbar": {
              "outlinewidth": 0,
              "ticks": ""
             }
            },
            "type": "scatterpolargl"
           }
          ],
          "scatterternary": [
           {
            "marker": {
             "colorbar": {
              "outlinewidth": 0,
              "ticks": ""
             }
            },
            "type": "scatterternary"
           }
          ],
          "surface": [
           {
            "colorbar": {
             "outlinewidth": 0,
             "ticks": ""
            },
            "colorscale": [
             [
              0,
              "#0d0887"
             ],
             [
              0.1111111111111111,
              "#46039f"
             ],
             [
              0.2222222222222222,
              "#7201a8"
             ],
             [
              0.3333333333333333,
              "#9c179e"
             ],
             [
              0.4444444444444444,
              "#bd3786"
             ],
             [
              0.5555555555555556,
              "#d8576b"
             ],
             [
              0.6666666666666666,
              "#ed7953"
             ],
             [
              0.7777777777777778,
              "#fb9f3a"
             ],
             [
              0.8888888888888888,
              "#fdca26"
             ],
             [
              1,
              "#f0f921"
             ]
            ],
            "type": "surface"
           }
          ],
          "table": [
           {
            "cells": {
             "fill": {
              "color": "#EBF0F8"
             },
             "line": {
              "color": "white"
             }
            },
            "header": {
             "fill": {
              "color": "#C8D4E3"
             },
             "line": {
              "color": "white"
             }
            },
            "type": "table"
           }
          ]
         },
         "layout": {
          "annotationdefaults": {
           "arrowcolor": "#2a3f5f",
           "arrowhead": 0,
           "arrowwidth": 1
          },
          "autotypenumbers": "strict",
          "coloraxis": {
           "colorbar": {
            "outlinewidth": 0,
            "ticks": ""
           }
          },
          "colorscale": {
           "diverging": [
            [
             0,
             "#8e0152"
            ],
            [
             0.1,
             "#c51b7d"
            ],
            [
             0.2,
             "#de77ae"
            ],
            [
             0.3,
             "#f1b6da"
            ],
            [
             0.4,
             "#fde0ef"
            ],
            [
             0.5,
             "#f7f7f7"
            ],
            [
             0.6,
             "#e6f5d0"
            ],
            [
             0.7,
             "#b8e186"
            ],
            [
             0.8,
             "#7fbc41"
            ],
            [
             0.9,
             "#4d9221"
            ],
            [
             1,
             "#276419"
            ]
           ],
           "sequential": [
            [
             0,
             "#0d0887"
            ],
            [
             0.1111111111111111,
             "#46039f"
            ],
            [
             0.2222222222222222,
             "#7201a8"
            ],
            [
             0.3333333333333333,
             "#9c179e"
            ],
            [
             0.4444444444444444,
             "#bd3786"
            ],
            [
             0.5555555555555556,
             "#d8576b"
            ],
            [
             0.6666666666666666,
             "#ed7953"
            ],
            [
             0.7777777777777778,
             "#fb9f3a"
            ],
            [
             0.8888888888888888,
             "#fdca26"
            ],
            [
             1,
             "#f0f921"
            ]
           ],
           "sequentialminus": [
            [
             0,
             "#0d0887"
            ],
            [
             0.1111111111111111,
             "#46039f"
            ],
            [
             0.2222222222222222,
             "#7201a8"
            ],
            [
             0.3333333333333333,
             "#9c179e"
            ],
            [
             0.4444444444444444,
             "#bd3786"
            ],
            [
             0.5555555555555556,
             "#d8576b"
            ],
            [
             0.6666666666666666,
             "#ed7953"
            ],
            [
             0.7777777777777778,
             "#fb9f3a"
            ],
            [
             0.8888888888888888,
             "#fdca26"
            ],
            [
             1,
             "#f0f921"
            ]
           ]
          },
          "colorway": [
           "#636efa",
           "#EF553B",
           "#00cc96",
           "#ab63fa",
           "#FFA15A",
           "#19d3f3",
           "#FF6692",
           "#B6E880",
           "#FF97FF",
           "#FECB52"
          ],
          "font": {
           "color": "#2a3f5f"
          },
          "geo": {
           "bgcolor": "white",
           "lakecolor": "white",
           "landcolor": "#E5ECF6",
           "showlakes": true,
           "showland": true,
           "subunitcolor": "white"
          },
          "hoverlabel": {
           "align": "left"
          },
          "hovermode": "closest",
          "mapbox": {
           "style": "light"
          },
          "paper_bgcolor": "white",
          "plot_bgcolor": "#E5ECF6",
          "polar": {
           "angularaxis": {
            "gridcolor": "white",
            "linecolor": "white",
            "ticks": ""
           },
           "bgcolor": "#E5ECF6",
           "radialaxis": {
            "gridcolor": "white",
            "linecolor": "white",
            "ticks": ""
           }
          },
          "scene": {
           "xaxis": {
            "backgroundcolor": "#E5ECF6",
            "gridcolor": "white",
            "gridwidth": 2,
            "linecolor": "white",
            "showbackground": true,
            "ticks": "",
            "zerolinecolor": "white"
           },
           "yaxis": {
            "backgroundcolor": "#E5ECF6",
            "gridcolor": "white",
            "gridwidth": 2,
            "linecolor": "white",
            "showbackground": true,
            "ticks": "",
            "zerolinecolor": "white"
           },
           "zaxis": {
            "backgroundcolor": "#E5ECF6",
            "gridcolor": "white",
            "gridwidth": 2,
            "linecolor": "white",
            "showbackground": true,
            "ticks": "",
            "zerolinecolor": "white"
           }
          },
          "shapedefaults": {
           "line": {
            "color": "#2a3f5f"
           }
          },
          "ternary": {
           "aaxis": {
            "gridcolor": "white",
            "linecolor": "white",
            "ticks": ""
           },
           "baxis": {
            "gridcolor": "white",
            "linecolor": "white",
            "ticks": ""
           },
           "bgcolor": "#E5ECF6",
           "caxis": {
            "gridcolor": "white",
            "linecolor": "white",
            "ticks": ""
           }
          },
          "title": {
           "x": 0.05
          },
          "xaxis": {
           "automargin": true,
           "gridcolor": "white",
           "linecolor": "white",
           "ticks": "",
           "title": {
            "standoff": 15
           },
           "zerolinecolor": "white",
           "zerolinewidth": 2
          },
          "yaxis": {
           "automargin": true,
           "gridcolor": "white",
           "linecolor": "white",
           "ticks": "",
           "title": {
            "standoff": 15
           },
           "zerolinecolor": "white",
           "zerolinewidth": 2
          }
         }
        },
        "title": {
         "text": "Total Time vs. Resource Count"
        },
        "xaxis": {
         "title": {
          "text": "Total Time"
         }
        },
        "yaxis": {
         "title": {
          "text": "Resource Count"
         }
        }
       }
      }
     },
     "metadata": {},
     "output_type": "display_data"
    }
   ],
   "source": [
    "fig5 = go.Figure(data=[go.Scatter(x=backup['Total Time'], y=backup['Resource Count'], mode='markers')])\n",
    "fig5.update_layout(title_text='Total Time vs. Resource Count', xaxis_title='Total Time', yaxis_title='Resource Count')\n",
    "fig5.write_html(\"../../fam-report-site/public/Web-Analytics/total_vs_resource.html\")\n",
    "fig5.show()"
   ]
  },
  {
   "cell_type": "code",
   "execution_count": 39,
   "metadata": {},
   "outputs": [
    {
     "data": {
      "application/vnd.plotly.v1+json": {
       "config": {
        "plotlyServerURL": "https://plot.ly"
       },
       "data": [
        {
         "name": "Connect Time",
         "opacity": 0.6,
         "type": "bar",
         "x": [
          "https://www.instagram.com/explore/tags/getfampaid/",
          "http://friends.fampay.in/press",
          "https://twitter.com/intent/tweet?text=One-stop%20solution%20for%20all%20your%20KYC%20concerns&url=https://fampay.in/blog/one-stop-solution-for-all-your-kyc-concerns/",
          "http://friends.fampay.in/about",
          "http://friends.fampay.in/",
          "http://friends.fampay.in/blog/",
          "http://friends.fampay.in/careers",
          "http://friends.fampay.in/blog",
          "http://friends.fampay.in/privacy",
          "http://friends.fampay.in/faqs",
          "http://friends.fampay.in/contact",
          "https://www.facebook.com/sharer/sharer.php?u=https://fampay.in/blog/how-to-clean-up-your-android-apps-dependencies-the-ultimate-guide-2/",
          "http://friends.fampay.in/partner",
          "http://friends.fampay.in/terms",
          "https://www.instagram.com/fam.india/",
          "https://wa.me/?text=Why%20Vaccination%3F%F0%9F%92%89%20-%20A%20guide%20to%20vaccination%20for%20teens%20in%20India%20https://fampay.in/blog/why-vaccination-a-guide-to-vaccination-for-teens-in-india/",
          "https://www.instagram.com/fampay.in/",
          "https://www.instagram.com/lifeatfam/",
          "https://wa.me/?text=Cyberbullying%3A%20What%20can%20you%20do%20as%20a%20Parent%3F%20https://fampay.in/blog/cyber-bullying-what-can-you-do-as-a-parent/",
          "https://www.facebook.com/sharer/sharer.php?u=https://fampay.in/blog/how-to-grow-your-instagram-followers-a-quick-guide-for-all-genz-brands/",
          "https://wa.me/?text=Remote%20Working%20%3A%20Divided%20by%20Distance%2C%20United%20by%20Mission%20https://fampay.in/blog/remote-working-divided-by-distance-united-by-mission/",
          "https://www.facebook.com/sharer/sharer.php?u=https://fampay.in/blog/life-of-an-intern-is-love/",
          "https://www.facebook.com/sharer/sharer.php?u=https://fampay.in/blog/365-days-of-internship-at-fampay/",
          "https://wa.me/?text=How%20to%20Clean%20Up%20Your%20Android%20App's%20Dependencies%3A%20The%20Ultimate%20Guide%20https://fampay.in/blog/how-to-clean-up-your-android-apps-dependencies-the-ultimate-guide-2/",
          "https://www.facebook.com/sharer/sharer.php?u=https://fampay.in/blog/writing-content-for-a-content-saturated-generation/",
          "https://twitter.com/intent/tweet?text=How%20to%20Clean%20Up%20Your%20Android%20App's%20Dependencies%3A%20The%20Ultimate%20Guide&url=https://fampay.in/blog/how-to-clean-up-your-android-apps-dependencies-the-ultimate-guide-2/",
          "https://www.facebook.com/sharer/sharer.php?u=https://fampay.in/blog/top-4-head-turning-fashion-tips-and-trends-for-the-sassy-gen-z/",
          "https://wa.me/?text=How%20a%20Pressing%20Problem%20can%20lead%20to%20Technological%20Innovation%20https://fampay.in/blog/how-a-pressing-problem-can-lead-to-technological-innovation/",
          "https://www.facebook.com/sharer/sharer.php?u=https://fampay.in/blog/study-habits-that-are-simple-and-highly-effective/",
          "https://www.instagram.com/designatfampay/"
         ],
         "y": [
          1.9361557960510252,
          0.4569900035858154,
          0.4006645679473877,
          0.4446821212768554,
          0.4864468574523926,
          0.4667363166809082,
          0.4380559921264648,
          0.4487113952636719,
          0.4380998611450195,
          0.4600832462310791,
          0.4552319049835205,
          0.4918475151062011,
          0.4370372295379638,
          0.4386687278747558,
          0.690014123916626,
          0.2563443183898926,
          0.5351362228393555,
          0.5325589179992676,
          0.2627847194671631,
          0.2902021408081054,
          0.2896480560302734,
          0.2553534507751465,
          0.2660138607025146,
          0.4298689365386963,
          0.2994649410247803,
          0.5660977363586426,
          0.2447760105133056,
          0.2919914722442627,
          0.2519574165344238,
          0.4383139610290527
         ]
        },
        {
         "name": "Wait Time",
         "opacity": 0.6,
         "type": "bar",
         "x": [
          "https://www.instagram.com/explore/tags/getfampaid/",
          "http://friends.fampay.in/press",
          "https://twitter.com/intent/tweet?text=One-stop%20solution%20for%20all%20your%20KYC%20concerns&url=https://fampay.in/blog/one-stop-solution-for-all-your-kyc-concerns/",
          "http://friends.fampay.in/about",
          "http://friends.fampay.in/",
          "http://friends.fampay.in/blog/",
          "http://friends.fampay.in/careers",
          "http://friends.fampay.in/blog",
          "http://friends.fampay.in/privacy",
          "http://friends.fampay.in/faqs",
          "http://friends.fampay.in/contact",
          "https://www.facebook.com/sharer/sharer.php?u=https://fampay.in/blog/how-to-clean-up-your-android-apps-dependencies-the-ultimate-guide-2/",
          "http://friends.fampay.in/partner",
          "http://friends.fampay.in/terms",
          "https://www.instagram.com/fam.india/",
          "https://wa.me/?text=Why%20Vaccination%3F%F0%9F%92%89%20-%20A%20guide%20to%20vaccination%20for%20teens%20in%20India%20https://fampay.in/blog/why-vaccination-a-guide-to-vaccination-for-teens-in-india/",
          "https://www.instagram.com/fampay.in/",
          "https://www.instagram.com/lifeatfam/",
          "https://wa.me/?text=Cyberbullying%3A%20What%20can%20you%20do%20as%20a%20Parent%3F%20https://fampay.in/blog/cyber-bullying-what-can-you-do-as-a-parent/",
          "https://www.facebook.com/sharer/sharer.php?u=https://fampay.in/blog/how-to-grow-your-instagram-followers-a-quick-guide-for-all-genz-brands/",
          "https://wa.me/?text=Remote%20Working%20%3A%20Divided%20by%20Distance%2C%20United%20by%20Mission%20https://fampay.in/blog/remote-working-divided-by-distance-united-by-mission/",
          "https://www.facebook.com/sharer/sharer.php?u=https://fampay.in/blog/life-of-an-intern-is-love/",
          "https://www.facebook.com/sharer/sharer.php?u=https://fampay.in/blog/365-days-of-internship-at-fampay/",
          "https://wa.me/?text=How%20to%20Clean%20Up%20Your%20Android%20App's%20Dependencies%3A%20The%20Ultimate%20Guide%20https://fampay.in/blog/how-to-clean-up-your-android-apps-dependencies-the-ultimate-guide-2/",
          "https://www.facebook.com/sharer/sharer.php?u=https://fampay.in/blog/writing-content-for-a-content-saturated-generation/",
          "https://twitter.com/intent/tweet?text=How%20to%20Clean%20Up%20Your%20Android%20App's%20Dependencies%3A%20The%20Ultimate%20Guide&url=https://fampay.in/blog/how-to-clean-up-your-android-apps-dependencies-the-ultimate-guide-2/",
          "https://www.facebook.com/sharer/sharer.php?u=https://fampay.in/blog/top-4-head-turning-fashion-tips-and-trends-for-the-sassy-gen-z/",
          "https://wa.me/?text=How%20a%20Pressing%20Problem%20can%20lead%20to%20Technological%20Innovation%20https://fampay.in/blog/how-a-pressing-problem-can-lead-to-technological-innovation/",
          "https://www.facebook.com/sharer/sharer.php?u=https://fampay.in/blog/study-habits-that-are-simple-and-highly-effective/",
          "https://www.instagram.com/designatfampay/"
         ],
         "y": [
          1.9596359729766848,
          1.4198405742645264,
          1.4003100395202637,
          1.338798999786377,
          1.2906136512756348,
          1.278977394104004,
          1.2990033626556396,
          1.269251585006714,
          1.2530381679534912,
          1.2211430072784424,
          1.2239058017730713,
          1.1799037456512451,
          1.231053113937378,
          1.226402997970581,
          0.9377756118774414,
          1.3661916255950928,
          1.0502123832702637,
          0.9493136405944824,
          1.134016752243042,
          1.074862003326416,
          1.0612225532531738,
          1.0669522285461426,
          0.996720552444458,
          0.829458475112915,
          0.9319090843200684,
          0.634953498840332,
          0.954120397567749,
          0.9001331329345703,
          0.927769899368286,
          0.7354826927185059
         ]
        },
        {
         "name": "Total Time",
         "opacity": 0.6,
         "type": "bar",
         "x": [
          "https://www.instagram.com/explore/tags/getfampaid/",
          "http://friends.fampay.in/press",
          "https://twitter.com/intent/tweet?text=One-stop%20solution%20for%20all%20your%20KYC%20concerns&url=https://fampay.in/blog/one-stop-solution-for-all-your-kyc-concerns/",
          "http://friends.fampay.in/about",
          "http://friends.fampay.in/",
          "http://friends.fampay.in/blog/",
          "http://friends.fampay.in/careers",
          "http://friends.fampay.in/blog",
          "http://friends.fampay.in/privacy",
          "http://friends.fampay.in/faqs",
          "http://friends.fampay.in/contact",
          "https://www.facebook.com/sharer/sharer.php?u=https://fampay.in/blog/how-to-clean-up-your-android-apps-dependencies-the-ultimate-guide-2/",
          "http://friends.fampay.in/partner",
          "http://friends.fampay.in/terms",
          "https://www.instagram.com/fam.india/",
          "https://wa.me/?text=Why%20Vaccination%3F%F0%9F%92%89%20-%20A%20guide%20to%20vaccination%20for%20teens%20in%20India%20https://fampay.in/blog/why-vaccination-a-guide-to-vaccination-for-teens-in-india/",
          "https://www.instagram.com/fampay.in/",
          "https://www.instagram.com/lifeatfam/",
          "https://wa.me/?text=Cyberbullying%3A%20What%20can%20you%20do%20as%20a%20Parent%3F%20https://fampay.in/blog/cyber-bullying-what-can-you-do-as-a-parent/",
          "https://www.facebook.com/sharer/sharer.php?u=https://fampay.in/blog/how-to-grow-your-instagram-followers-a-quick-guide-for-all-genz-brands/",
          "https://wa.me/?text=Remote%20Working%20%3A%20Divided%20by%20Distance%2C%20United%20by%20Mission%20https://fampay.in/blog/remote-working-divided-by-distance-united-by-mission/",
          "https://www.facebook.com/sharer/sharer.php?u=https://fampay.in/blog/life-of-an-intern-is-love/",
          "https://www.facebook.com/sharer/sharer.php?u=https://fampay.in/blog/365-days-of-internship-at-fampay/",
          "https://wa.me/?text=How%20to%20Clean%20Up%20Your%20Android%20App's%20Dependencies%3A%20The%20Ultimate%20Guide%20https://fampay.in/blog/how-to-clean-up-your-android-apps-dependencies-the-ultimate-guide-2/",
          "https://www.facebook.com/sharer/sharer.php?u=https://fampay.in/blog/writing-content-for-a-content-saturated-generation/",
          "https://twitter.com/intent/tweet?text=How%20to%20Clean%20Up%20Your%20Android%20App's%20Dependencies%3A%20The%20Ultimate%20Guide&url=https://fampay.in/blog/how-to-clean-up-your-android-apps-dependencies-the-ultimate-guide-2/",
          "https://www.facebook.com/sharer/sharer.php?u=https://fampay.in/blog/top-4-head-turning-fashion-tips-and-trends-for-the-sassy-gen-z/",
          "https://wa.me/?text=How%20a%20Pressing%20Problem%20can%20lead%20to%20Technological%20Innovation%20https://fampay.in/blog/how-a-pressing-problem-can-lead-to-technological-innovation/",
          "https://www.facebook.com/sharer/sharer.php?u=https://fampay.in/blog/study-habits-that-are-simple-and-highly-effective/",
          "https://www.instagram.com/designatfampay/"
         ],
         "y": [
          3.89579176902771,
          1.8768305778503416,
          1.8009746074676514,
          1.7834811210632324,
          1.7770605087280271,
          1.745713710784912,
          1.7370593547821045,
          1.7179629802703855,
          1.6911380290985107,
          1.6812262535095217,
          1.6791377067565918,
          1.6717512607574463,
          1.6680903434753418,
          1.665071725845337,
          1.6277897357940674,
          1.6225359439849854,
          1.5853486061096191,
          1.48187255859375,
          1.396801471710205,
          1.3650641441345217,
          1.3508706092834473,
          1.322305679321289,
          1.2627344131469729,
          1.259327411651611,
          1.2313740253448486,
          1.2010512351989746,
          1.198896408081055,
          1.192124605178833,
          1.17972731590271,
          1.1737966537475586
         ]
        },
        {
         "name": "Resource Count",
         "opacity": 0.6,
         "type": "bar",
         "x": [
          "https://www.instagram.com/explore/tags/getfampaid/",
          "http://friends.fampay.in/press",
          "https://twitter.com/intent/tweet?text=One-stop%20solution%20for%20all%20your%20KYC%20concerns&url=https://fampay.in/blog/one-stop-solution-for-all-your-kyc-concerns/",
          "http://friends.fampay.in/about",
          "http://friends.fampay.in/",
          "http://friends.fampay.in/blog/",
          "http://friends.fampay.in/careers",
          "http://friends.fampay.in/blog",
          "http://friends.fampay.in/privacy",
          "http://friends.fampay.in/faqs",
          "http://friends.fampay.in/contact",
          "https://www.facebook.com/sharer/sharer.php?u=https://fampay.in/blog/how-to-clean-up-your-android-apps-dependencies-the-ultimate-guide-2/",
          "http://friends.fampay.in/partner",
          "http://friends.fampay.in/terms",
          "https://www.instagram.com/fam.india/",
          "https://wa.me/?text=Why%20Vaccination%3F%F0%9F%92%89%20-%20A%20guide%20to%20vaccination%20for%20teens%20in%20India%20https://fampay.in/blog/why-vaccination-a-guide-to-vaccination-for-teens-in-india/",
          "https://www.instagram.com/fampay.in/",
          "https://www.instagram.com/lifeatfam/",
          "https://wa.me/?text=Cyberbullying%3A%20What%20can%20you%20do%20as%20a%20Parent%3F%20https://fampay.in/blog/cyber-bullying-what-can-you-do-as-a-parent/",
          "https://www.facebook.com/sharer/sharer.php?u=https://fampay.in/blog/how-to-grow-your-instagram-followers-a-quick-guide-for-all-genz-brands/",
          "https://wa.me/?text=Remote%20Working%20%3A%20Divided%20by%20Distance%2C%20United%20by%20Mission%20https://fampay.in/blog/remote-working-divided-by-distance-united-by-mission/",
          "https://www.facebook.com/sharer/sharer.php?u=https://fampay.in/blog/life-of-an-intern-is-love/",
          "https://www.facebook.com/sharer/sharer.php?u=https://fampay.in/blog/365-days-of-internship-at-fampay/",
          "https://wa.me/?text=How%20to%20Clean%20Up%20Your%20Android%20App's%20Dependencies%3A%20The%20Ultimate%20Guide%20https://fampay.in/blog/how-to-clean-up-your-android-apps-dependencies-the-ultimate-guide-2/",
          "https://www.facebook.com/sharer/sharer.php?u=https://fampay.in/blog/writing-content-for-a-content-saturated-generation/",
          "https://twitter.com/intent/tweet?text=How%20to%20Clean%20Up%20Your%20Android%20App's%20Dependencies%3A%20The%20Ultimate%20Guide&url=https://fampay.in/blog/how-to-clean-up-your-android-apps-dependencies-the-ultimate-guide-2/",
          "https://www.facebook.com/sharer/sharer.php?u=https://fampay.in/blog/top-4-head-turning-fashion-tips-and-trends-for-the-sassy-gen-z/",
          "https://wa.me/?text=How%20a%20Pressing%20Problem%20can%20lead%20to%20Technological%20Innovation%20https://fampay.in/blog/how-a-pressing-problem-can-lead-to-technological-innovation/",
          "https://www.facebook.com/sharer/sharer.php?u=https://fampay.in/blog/study-habits-that-are-simple-and-highly-effective/",
          "https://www.instagram.com/designatfampay/"
         ],
         "y": [
          160,
          37,
          33,
          37,
          37,
          37,
          37,
          37,
          37,
          37,
          37,
          33,
          37,
          37,
          167,
          28,
          167,
          167,
          28,
          33,
          28,
          33,
          33,
          28,
          33,
          33,
          33,
          28,
          33,
          80
         ]
        }
       ],
       "layout": {
        "barmode": "overlay",
        "template": {
         "data": {
          "bar": [
           {
            "error_x": {
             "color": "#2a3f5f"
            },
            "error_y": {
             "color": "#2a3f5f"
            },
            "marker": {
             "line": {
              "color": "#E5ECF6",
              "width": 0.5
             },
             "pattern": {
              "fillmode": "overlay",
              "size": 10,
              "solidity": 0.2
             }
            },
            "type": "bar"
           }
          ],
          "barpolar": [
           {
            "marker": {
             "line": {
              "color": "#E5ECF6",
              "width": 0.5
             },
             "pattern": {
              "fillmode": "overlay",
              "size": 10,
              "solidity": 0.2
             }
            },
            "type": "barpolar"
           }
          ],
          "carpet": [
           {
            "aaxis": {
             "endlinecolor": "#2a3f5f",
             "gridcolor": "white",
             "linecolor": "white",
             "minorgridcolor": "white",
             "startlinecolor": "#2a3f5f"
            },
            "baxis": {
             "endlinecolor": "#2a3f5f",
             "gridcolor": "white",
             "linecolor": "white",
             "minorgridcolor": "white",
             "startlinecolor": "#2a3f5f"
            },
            "type": "carpet"
           }
          ],
          "choropleth": [
           {
            "colorbar": {
             "outlinewidth": 0,
             "ticks": ""
            },
            "type": "choropleth"
           }
          ],
          "contour": [
           {
            "colorbar": {
             "outlinewidth": 0,
             "ticks": ""
            },
            "colorscale": [
             [
              0,
              "#0d0887"
             ],
             [
              0.1111111111111111,
              "#46039f"
             ],
             [
              0.2222222222222222,
              "#7201a8"
             ],
             [
              0.3333333333333333,
              "#9c179e"
             ],
             [
              0.4444444444444444,
              "#bd3786"
             ],
             [
              0.5555555555555556,
              "#d8576b"
             ],
             [
              0.6666666666666666,
              "#ed7953"
             ],
             [
              0.7777777777777778,
              "#fb9f3a"
             ],
             [
              0.8888888888888888,
              "#fdca26"
             ],
             [
              1,
              "#f0f921"
             ]
            ],
            "type": "contour"
           }
          ],
          "contourcarpet": [
           {
            "colorbar": {
             "outlinewidth": 0,
             "ticks": ""
            },
            "type": "contourcarpet"
           }
          ],
          "heatmap": [
           {
            "colorbar": {
             "outlinewidth": 0,
             "ticks": ""
            },
            "colorscale": [
             [
              0,
              "#0d0887"
             ],
             [
              0.1111111111111111,
              "#46039f"
             ],
             [
              0.2222222222222222,
              "#7201a8"
             ],
             [
              0.3333333333333333,
              "#9c179e"
             ],
             [
              0.4444444444444444,
              "#bd3786"
             ],
             [
              0.5555555555555556,
              "#d8576b"
             ],
             [
              0.6666666666666666,
              "#ed7953"
             ],
             [
              0.7777777777777778,
              "#fb9f3a"
             ],
             [
              0.8888888888888888,
              "#fdca26"
             ],
             [
              1,
              "#f0f921"
             ]
            ],
            "type": "heatmap"
           }
          ],
          "heatmapgl": [
           {
            "colorbar": {
             "outlinewidth": 0,
             "ticks": ""
            },
            "colorscale": [
             [
              0,
              "#0d0887"
             ],
             [
              0.1111111111111111,
              "#46039f"
             ],
             [
              0.2222222222222222,
              "#7201a8"
             ],
             [
              0.3333333333333333,
              "#9c179e"
             ],
             [
              0.4444444444444444,
              "#bd3786"
             ],
             [
              0.5555555555555556,
              "#d8576b"
             ],
             [
              0.6666666666666666,
              "#ed7953"
             ],
             [
              0.7777777777777778,
              "#fb9f3a"
             ],
             [
              0.8888888888888888,
              "#fdca26"
             ],
             [
              1,
              "#f0f921"
             ]
            ],
            "type": "heatmapgl"
           }
          ],
          "histogram": [
           {
            "marker": {
             "pattern": {
              "fillmode": "overlay",
              "size": 10,
              "solidity": 0.2
             }
            },
            "type": "histogram"
           }
          ],
          "histogram2d": [
           {
            "colorbar": {
             "outlinewidth": 0,
             "ticks": ""
            },
            "colorscale": [
             [
              0,
              "#0d0887"
             ],
             [
              0.1111111111111111,
              "#46039f"
             ],
             [
              0.2222222222222222,
              "#7201a8"
             ],
             [
              0.3333333333333333,
              "#9c179e"
             ],
             [
              0.4444444444444444,
              "#bd3786"
             ],
             [
              0.5555555555555556,
              "#d8576b"
             ],
             [
              0.6666666666666666,
              "#ed7953"
             ],
             [
              0.7777777777777778,
              "#fb9f3a"
             ],
             [
              0.8888888888888888,
              "#fdca26"
             ],
             [
              1,
              "#f0f921"
             ]
            ],
            "type": "histogram2d"
           }
          ],
          "histogram2dcontour": [
           {
            "colorbar": {
             "outlinewidth": 0,
             "ticks": ""
            },
            "colorscale": [
             [
              0,
              "#0d0887"
             ],
             [
              0.1111111111111111,
              "#46039f"
             ],
             [
              0.2222222222222222,
              "#7201a8"
             ],
             [
              0.3333333333333333,
              "#9c179e"
             ],
             [
              0.4444444444444444,
              "#bd3786"
             ],
             [
              0.5555555555555556,
              "#d8576b"
             ],
             [
              0.6666666666666666,
              "#ed7953"
             ],
             [
              0.7777777777777778,
              "#fb9f3a"
             ],
             [
              0.8888888888888888,
              "#fdca26"
             ],
             [
              1,
              "#f0f921"
             ]
            ],
            "type": "histogram2dcontour"
           }
          ],
          "mesh3d": [
           {
            "colorbar": {
             "outlinewidth": 0,
             "ticks": ""
            },
            "type": "mesh3d"
           }
          ],
          "parcoords": [
           {
            "line": {
             "colorbar": {
              "outlinewidth": 0,
              "ticks": ""
             }
            },
            "type": "parcoords"
           }
          ],
          "pie": [
           {
            "automargin": true,
            "type": "pie"
           }
          ],
          "scatter": [
           {
            "fillpattern": {
             "fillmode": "overlay",
             "size": 10,
             "solidity": 0.2
            },
            "type": "scatter"
           }
          ],
          "scatter3d": [
           {
            "line": {
             "colorbar": {
              "outlinewidth": 0,
              "ticks": ""
             }
            },
            "marker": {
             "colorbar": {
              "outlinewidth": 0,
              "ticks": ""
             }
            },
            "type": "scatter3d"
           }
          ],
          "scattercarpet": [
           {
            "marker": {
             "colorbar": {
              "outlinewidth": 0,
              "ticks": ""
             }
            },
            "type": "scattercarpet"
           }
          ],
          "scattergeo": [
           {
            "marker": {
             "colorbar": {
              "outlinewidth": 0,
              "ticks": ""
             }
            },
            "type": "scattergeo"
           }
          ],
          "scattergl": [
           {
            "marker": {
             "colorbar": {
              "outlinewidth": 0,
              "ticks": ""
             }
            },
            "type": "scattergl"
           }
          ],
          "scattermapbox": [
           {
            "marker": {
             "colorbar": {
              "outlinewidth": 0,
              "ticks": ""
             }
            },
            "type": "scattermapbox"
           }
          ],
          "scatterpolar": [
           {
            "marker": {
             "colorbar": {
              "outlinewidth": 0,
              "ticks": ""
             }
            },
            "type": "scatterpolar"
           }
          ],
          "scatterpolargl": [
           {
            "marker": {
             "colorbar": {
              "outlinewidth": 0,
              "ticks": ""
             }
            },
            "type": "scatterpolargl"
           }
          ],
          "scatterternary": [
           {
            "marker": {
             "colorbar": {
              "outlinewidth": 0,
              "ticks": ""
             }
            },
            "type": "scatterternary"
           }
          ],
          "surface": [
           {
            "colorbar": {
             "outlinewidth": 0,
             "ticks": ""
            },
            "colorscale": [
             [
              0,
              "#0d0887"
             ],
             [
              0.1111111111111111,
              "#46039f"
             ],
             [
              0.2222222222222222,
              "#7201a8"
             ],
             [
              0.3333333333333333,
              "#9c179e"
             ],
             [
              0.4444444444444444,
              "#bd3786"
             ],
             [
              0.5555555555555556,
              "#d8576b"
             ],
             [
              0.6666666666666666,
              "#ed7953"
             ],
             [
              0.7777777777777778,
              "#fb9f3a"
             ],
             [
              0.8888888888888888,
              "#fdca26"
             ],
             [
              1,
              "#f0f921"
             ]
            ],
            "type": "surface"
           }
          ],
          "table": [
           {
            "cells": {
             "fill": {
              "color": "#EBF0F8"
             },
             "line": {
              "color": "white"
             }
            },
            "header": {
             "fill": {
              "color": "#C8D4E3"
             },
             "line": {
              "color": "white"
             }
            },
            "type": "table"
           }
          ]
         },
         "layout": {
          "annotationdefaults": {
           "arrowcolor": "#2a3f5f",
           "arrowhead": 0,
           "arrowwidth": 1
          },
          "autotypenumbers": "strict",
          "coloraxis": {
           "colorbar": {
            "outlinewidth": 0,
            "ticks": ""
           }
          },
          "colorscale": {
           "diverging": [
            [
             0,
             "#8e0152"
            ],
            [
             0.1,
             "#c51b7d"
            ],
            [
             0.2,
             "#de77ae"
            ],
            [
             0.3,
             "#f1b6da"
            ],
            [
             0.4,
             "#fde0ef"
            ],
            [
             0.5,
             "#f7f7f7"
            ],
            [
             0.6,
             "#e6f5d0"
            ],
            [
             0.7,
             "#b8e186"
            ],
            [
             0.8,
             "#7fbc41"
            ],
            [
             0.9,
             "#4d9221"
            ],
            [
             1,
             "#276419"
            ]
           ],
           "sequential": [
            [
             0,
             "#0d0887"
            ],
            [
             0.1111111111111111,
             "#46039f"
            ],
            [
             0.2222222222222222,
             "#7201a8"
            ],
            [
             0.3333333333333333,
             "#9c179e"
            ],
            [
             0.4444444444444444,
             "#bd3786"
            ],
            [
             0.5555555555555556,
             "#d8576b"
            ],
            [
             0.6666666666666666,
             "#ed7953"
            ],
            [
             0.7777777777777778,
             "#fb9f3a"
            ],
            [
             0.8888888888888888,
             "#fdca26"
            ],
            [
             1,
             "#f0f921"
            ]
           ],
           "sequentialminus": [
            [
             0,
             "#0d0887"
            ],
            [
             0.1111111111111111,
             "#46039f"
            ],
            [
             0.2222222222222222,
             "#7201a8"
            ],
            [
             0.3333333333333333,
             "#9c179e"
            ],
            [
             0.4444444444444444,
             "#bd3786"
            ],
            [
             0.5555555555555556,
             "#d8576b"
            ],
            [
             0.6666666666666666,
             "#ed7953"
            ],
            [
             0.7777777777777778,
             "#fb9f3a"
            ],
            [
             0.8888888888888888,
             "#fdca26"
            ],
            [
             1,
             "#f0f921"
            ]
           ]
          },
          "colorway": [
           "#636efa",
           "#EF553B",
           "#00cc96",
           "#ab63fa",
           "#FFA15A",
           "#19d3f3",
           "#FF6692",
           "#B6E880",
           "#FF97FF",
           "#FECB52"
          ],
          "font": {
           "color": "#2a3f5f"
          },
          "geo": {
           "bgcolor": "white",
           "lakecolor": "white",
           "landcolor": "#E5ECF6",
           "showlakes": true,
           "showland": true,
           "subunitcolor": "white"
          },
          "hoverlabel": {
           "align": "left"
          },
          "hovermode": "closest",
          "mapbox": {
           "style": "light"
          },
          "paper_bgcolor": "white",
          "plot_bgcolor": "#E5ECF6",
          "polar": {
           "angularaxis": {
            "gridcolor": "white",
            "linecolor": "white",
            "ticks": ""
           },
           "bgcolor": "#E5ECF6",
           "radialaxis": {
            "gridcolor": "white",
            "linecolor": "white",
            "ticks": ""
           }
          },
          "scene": {
           "xaxis": {
            "backgroundcolor": "#E5ECF6",
            "gridcolor": "white",
            "gridwidth": 2,
            "linecolor": "white",
            "showbackground": true,
            "ticks": "",
            "zerolinecolor": "white"
           },
           "yaxis": {
            "backgroundcolor": "#E5ECF6",
            "gridcolor": "white",
            "gridwidth": 2,
            "linecolor": "white",
            "showbackground": true,
            "ticks": "",
            "zerolinecolor": "white"
           },
           "zaxis": {
            "backgroundcolor": "#E5ECF6",
            "gridcolor": "white",
            "gridwidth": 2,
            "linecolor": "white",
            "showbackground": true,
            "ticks": "",
            "zerolinecolor": "white"
           }
          },
          "shapedefaults": {
           "line": {
            "color": "#2a3f5f"
           }
          },
          "ternary": {
           "aaxis": {
            "gridcolor": "white",
            "linecolor": "white",
            "ticks": ""
           },
           "baxis": {
            "gridcolor": "white",
            "linecolor": "white",
            "ticks": ""
           },
           "bgcolor": "#E5ECF6",
           "caxis": {
            "gridcolor": "white",
            "linecolor": "white",
            "ticks": ""
           }
          },
          "title": {
           "x": 0.05
          },
          "xaxis": {
           "automargin": true,
           "gridcolor": "white",
           "linecolor": "white",
           "ticks": "",
           "title": {
            "standoff": 15
           },
           "zerolinecolor": "white",
           "zerolinewidth": 2
          },
          "yaxis": {
           "automargin": true,
           "gridcolor": "white",
           "linecolor": "white",
           "ticks": "",
           "title": {
            "standoff": 15
           },
           "zerolinecolor": "white",
           "zerolinewidth": 2
          }
         }
        },
        "title": {
         "text": "Overlapping Times & Resource Counts"
        }
       }
      }
     },
     "metadata": {},
     "output_type": "display_data"
    }
   ],
   "source": [
    "fig = go.Figure()\n",
    "\n",
    "df = backup.sort_values(by=['Total Time'], ascending=False).head(30)\n",
    "\n",
    "# Connect Times\n",
    "fig.add_trace(go.Bar(\n",
    "    x=df['Link'], \n",
    "    y=df['Connect Time'], \n",
    "    name='Connect Time',\n",
    "    opacity=0.6\n",
    "))\n",
    "\n",
    "# Wait Times\n",
    "fig.add_trace(go.Bar(\n",
    "    x=df['Link'], \n",
    "    y=df['Wait Time'], \n",
    "    name='Wait Time',\n",
    "    opacity=0.6\n",
    "))\n",
    "\n",
    "# Total Times\n",
    "fig.add_trace(go.Bar(\n",
    "    x=df['Link'], \n",
    "    y=df['Total Time'], \n",
    "    name='Total Time',\n",
    "    opacity=0.6\n",
    "))\n",
    "\n",
    "# Resource Counts\n",
    "fig.add_trace(go.Bar(\n",
    "    x=df['Link'], \n",
    "    y=df['Resource Count'], \n",
    "    name='Resource Count',\n",
    "    opacity=0.6\n",
    "))\n",
    "\n",
    "fig.update_layout(\n",
    "    title_text='Overlapping Times & Resource Counts',\n",
    "    barmode='overlay'\n",
    ")\n",
    "\n",
    "fig.write_html(\"../../fam-report-site/public/Web-Analytics/overlapped_graph.html\")\n",
    "fig.show()"
   ]
  },
  {
   "cell_type": "code",
   "execution_count": 40,
   "metadata": {},
   "outputs": [
    {
     "name": "stderr",
     "output_type": "stream",
     "text": [
      "c:\\ProgramData\\anaconda3\\lib\\site-packages\\plotly\\express\\_core.py:279: FutureWarning:\n",
      "\n",
      "iteritems is deprecated and will be removed in a future version. Use .items instead.\n",
      "\n"
     ]
    },
    {
     "data": {
      "application/vnd.plotly.v1+json": {
       "config": {
        "plotlyServerURL": "https://plot.ly"
       },
       "data": [
        {
         "dimensions": [
          {
           "axis": {
            "matches": true
           },
           "label": "Connect Time",
           "values": [
            0.1564359664916992,
            0.1416611671447754,
            0.1415512561798095,
            0.033663272857666,
            0.0314142704010009,
            0.0321047306060791,
            0.0331954956054687,
            0.0330655574798584,
            0.0310778617858886,
            0.0313949584960937,
            0.0301992893218994,
            0.029679536819458,
            0.0300443172454834,
            0.0309507846832275,
            0.0317597389221191,
            0.031630516052246,
            0.0354962348937988,
            0.0311164855957031,
            0.0370380878448486,
            0.0305945873260498,
            0.0300724506378173,
            0.0306043624877929,
            0.0385816097259521,
            0.0346739292144775,
            0.0294151306152343,
            0.0296103954315185,
            0.0301203727722167,
            0.0300638675689697,
            0.0334663391113281,
            0.0289282798767089,
            0.0295829772949218,
            0.029771089553833,
            0.1226215362548828,
            0.0305819511413574,
            0.1431770324707031,
            0.0293338298797607,
            0.0285305976867675,
            0.1489911079406738,
            0.0311324596405029,
            0.0316288471221923,
            0.0305774211883544,
            0.0339052677154541,
            0.0307176113128662,
            0.0315859317779541,
            0.0310959815979003,
            0.0304994583129882,
            0.0295839309692382,
            0.0321152210235595,
            0.0298943519592285,
            0.0300683975219726,
            0.0302352905273437,
            0.0346210002899169,
            0.0320861339569091,
            0.0305655002593994,
            0.0315983295440673,
            0.0315988063812255,
            0.0316522121429443,
            0.0315909385681152,
            0.0326638221740722,
            0.0310523509979248,
            0.0335934162139892,
            0.0302364826202392,
            0.0344753265380859,
            0.0295712947845459,
            0.0311267375946044,
            0.0298359394073486,
            0.0286128520965576,
            0.0290806293487548,
            0.0295736789703369,
            0.0299992561340332,
            0.0309982299804687,
            0.0304987430572509,
            0.0281634330749511,
            0.0290474891662597,
            0.0311770439147949,
            0.0294404029846191,
            0.0302553176879882,
            0.0307905673980712,
            0.0310158729553222,
            0.0300502777099609,
            0.0296075344085693,
            0.0306670665740966,
            0.0301511287689209,
            0.0295660495758056,
            0.0295987129211425,
            0.0295867919921875,
            0.0290486812591552,
            0.06217622756958,
            0.0310800075531005,
            0.0309574604034423,
            0.0298738479614257,
            0.0361793041229248,
            0.0305836200714111,
            0.0292165279388427,
            0.0305192470550537,
            0.0400834083557128,
            0.0285255908966064,
            0.0300638675689697,
            0.0288417339324951,
            0.4298689365386963,
            0.4918475151062011,
            0.5660977363586426,
            0.368950605392456,
            0.0311367511749267,
            0.0294933319091796,
            0.035102367401123,
            0.2566487789154053,
            0.2523996829986572,
            0.3074779510498047,
            0.0325798988342285,
            0.2725038528442383,
            0.261545181274414,
            0.2893509864807129,
            0.0320641994476318,
            0.2583034038543701,
            0.2528407573699951,
            0.3114972114562988,
            0.0311479568481445,
            0.2563443183898926,
            0.2558495998382568,
            0.291522741317749,
            0.0320138931274414,
            0.2571513652801513,
            0.2519574165344238,
            0.3028898239135742,
            0.0297868251800537,
            0.2681164741516113,
            0.2616965770721435,
            0.2907662391662597,
            0.030637502670288,
            0.3064093589782715,
            0.2578823566436767,
            0.3065483570098877,
            0.0296912193298339,
            0.2570147514343261,
            0.2610859870910644,
            0.2987642288208008,
            0.0299751758575439,
            0.2788166999816894,
            0.2569639682769775,
            0.308906078338623,
            0.0304594039916992,
            0.0326199531555175,
            0.5351362228393555,
            0.326207160949707,
            0.0326340198516845,
            0.5325589179992676,
            0.4383139610290527,
            0.0331296920776367,
            0.0313637256622314,
            0.0300743579864501,
            0.0343897342681884,
            0.0340635776519775,
            0.0311019420623779,
            0.0315089225769043,
            0.0634310245513916,
            0.0366115570068359,
            0.1075267791748046,
            0.1177222728729248,
            0.2603509426116943,
            0.2574260234832763,
            0.2894320487976074,
            0.1215021610260009,
            0.2836675643920898,
            0.2594680786132812,
            0.3196578025817871,
            0.1750266551971435,
            0.2750709056854248,
            0.2590446472167969,
            0.3033761978149414,
            0.1845362186431884,
            0.2740871906280517,
            0.2593839168548584,
            0.3020081520080566,
            0.2122082710266113,
            0.2724628448486328,
            0.2553534507751465,
            0.2959413528442383,
            0.1821382045745849,
            0.203963041305542,
            0.2789714336395263,
            0.2538344860076904,
            0.300715684890747,
            0.1516761779785156,
            0.274247407913208,
            0.2711479663848877,
            0.288163423538208,
            0.1558575630187988,
            0.2749495506286621,
            0.2745101451873779,
            0.3079416751861572,
            0.250746488571167,
            0.2743315696716308,
            0.2703235149383545,
            0.2981336116790771,
            0.1054573059082031,
            0.2896480560302734,
            0.2759380340576172,
            0.3002762794494629,
            0.171539306640625,
            0.1441013813018798,
            0.2827870845794678,
            0.261066198348999,
            0.3074109554290771,
            0.1256380081176757,
            0.2698659896850586,
            0.2660138607025146,
            0.3005459308624267,
            0.170267105102539,
            0.2808096408843994,
            0.2747249603271484,
            0.3032460212707519,
            0.1816997528076172,
            0.2809586524963379,
            0.256843090057373,
            0.2983691692352295,
            0.1129231452941894,
            0.2644205093383789,
            0.253514289855957,
            0.291980504989624,
            0.2852280139923095,
            0.153357982635498,
            0.2552158832550049,
            0.2605371475219726,
            0.3242337703704834,
            0.2396965026855468,
            0.1388444900512695,
            0.2710223197937011,
            0.2632737159729004,
            0.2971289157867431,
            0.2164311408996582,
            0.2845048904418945,
            0.2533628940582275,
            0.297806978225708,
            0.1409101486206054,
            0.2562756538391113,
            0.2541418075561523,
            0.3002123832702636,
            0.1489593982696533,
            0.2516717910766601,
            0.2549507617950439,
            0.3075268268585205,
            0.2036504745483398,
            0.2647261619567871,
            0.2694487571716308,
            0.2991783618927002,
            0.12599778175354,
            0.0672271251678466,
            0.2547602653503418,
            0.2747697830200195,
            0.2554559707641601,
            0.2892165184020996,
            0.0285899639129638,
            0.0373156070709228,
            0.1196191310882568,
            0.2670364379882812,
            0.2994649410247803,
            0.3030297756195068,
            0.2299802303314209,
            0.2572247982025146,
            0.2902021408081054,
            0.3033938407897949,
            1.9361557960510252,
            0.2007195949554443,
            0.2906725406646728,
            0.2886765003204345,
            0.2987480163574219,
            0.1805238723754882,
            0.1076819896697998,
            0.1469864845275879,
            0.1480498313903808,
            0.1736643314361572,
            0.0938389301300048,
            0.1788914203643798,
            0.1693942546844482,
            0.2688684463500976,
            0.258216381072998,
            0.3130176067352295,
            0.1736907958984375,
            0.2656869888305664,
            0.2613973617553711,
            0.3221044540405273,
            0.1421740055084228,
            0.2616562843322754,
            0.2866742610931396,
            0.2913727760314941,
            0.1660702228546142,
            0.1983003616333007,
            0.2640762329101562,
            0.2708439826965332,
            0.3063089847564697,
            0.1698763370513916,
            0.2646229267120361,
            0.2823777198791504,
            0.3082265853881836,
            0.164114236831665,
            0.259437084197998,
            0.2428593635559082,
            0.3011558055877685,
            0.156665563583374,
            0.2627434730529785,
            0.2535429000854492,
            0.3019883632659912,
            0.1876931190490722,
            0.2707281112670898,
            0.239133596420288,
            0.3000490665435791,
            0.1533329486846923,
            0.2775571346282959,
            0.2447760105133056,
            0.3955445289611816,
            0.3432855606079101,
            0.148430585861206,
            0.262169599533081,
            0.2538731098175049,
            0.2987709045410156,
            0.1998782157897949,
            0.2819364070892334,
            0.2456331253051757,
            0.3120594024658203,
            0.0295441150665283,
            0.1415472030639648,
            0.270291805267334,
            0.2376136779785156,
            0.2930886745452881,
            0.1118609905242919,
            0.2735588550567627,
            0.2557315826416015,
            0.2968719005584717,
            0.3356108665466308,
            0.1532888412475586,
            0.1452972888946533,
            0.1129508018493652,
            0.1007018089294433,
            0.0958597660064697,
            0.2748630046844482,
            0.2482416629791259,
            0.2893435955047607,
            0.1393334865570068,
            0.2686841487884521,
            0.2475719451904297,
            0.287895917892456,
            0.1571137905120849,
            0.0481371879577636,
            0.147118330001831,
            0.2781264781951904,
            0.2490217685699463,
            0.2998294830322265,
            0.1548261642456054,
            0.2704946994781494,
            0.2557675838470459,
            0.3006007671356201,
            0.1489858627319336,
            0.2776737213134765,
            0.2517786026000976,
            0.3114519119262695,
            0.1765639781951904,
            0.2840578556060791,
            0.2749710083007812,
            0.2970099449157715,
            0.0848369598388671,
            0.0265557765960693,
            0.0258281230926513,
            0.0270266532897949,
            0.0259828567504882,
            0.0255346298217773,
            0.0321438312530517,
            0.0250489711761474,
            0.0255706310272216,
            0.0263447761535644,
            0.0260193347930908,
            0.1189091205596923,
            0.2976136207580566,
            0.2573332786560058,
            0.3099863529205322,
            0.1408374309539795,
            0.1013433933258056,
            0.2744936943054199,
            0.2569625377655029,
            0.3155391216278076,
            0.1486749649047851,
            0.2777848243713379,
            0.2593190670013428,
            0.3015353679656982,
            0.1708884239196777,
            0.2830915451049804,
            0.2525091171264648,
            0.2976040840148926,
            0.1886138916015625,
            0.2816774845123291,
            0.2450501918792724,
            0.2962992191314697,
            0.161837100982666,
            0.2627847194671631,
            0.2589411735534668,
            0.2920088768005371,
            0.4354925155639648,
            0.2734014987945556,
            0.2541677951812744,
            0.2996947765350342,
            0.2124073505401611,
            0.2800166606903076,
            0.2665739059448242,
            0.3124825954437256,
            0.1105530261993408,
            0.2793419361114502,
            0.2667746543884277,
            0.2886676788330078,
            0.1611156463623047,
            0.3090400695800781,
            0.260664701461792,
            0.2985680103302002,
            0.1598577499389648,
            0.2965128421783447,
            0.2568597793579101,
            0.3032944202423095,
            0.1338515281677246,
            0.1495826244354248,
            0.2839717864990234,
            0.260136604309082,
            0.3082404136657715,
            0.1700797080993652,
            0.163675308227539,
            0.2860991954803467,
            0.2706990242004394,
            0.3040280342102051,
            0.1770720481872558,
            0.2935211658477783,
            0.2538354396820068,
            0.3157215118408203,
            0.227823257446289,
            0.1042983531951904,
            0.2855746746063232,
            0.25445556640625,
            0.3048603534698486,
            0.1633915901184082,
            0.2812795639038086,
            0.2579622268676758,
            0.3097939491271972,
            0.1540641784667968,
            0.2844967842102051,
            0.260303258895874,
            0.3765349388122558,
            0.0288958549499511,
            0.1737995147705078,
            0.2886674404144287,
            0.2599499225616455,
            0.3098764419555664,
            0.1399464607238769,
            0.2806429862976074,
            0.260265588760376,
            0.3044140338897705,
            0.1349096298217773,
            0.2784216403961181,
            0.2550194263458252,
            0.3030848503112793,
            0.0286250114440917,
            0.2850124835968017,
            0.3417561054229736,
            0.4006645679473877,
            0.0364120006561279,
            0.1761305332183838,
            0.1614971160888672,
            0.150871992111206,
            0.2792398929595947,
            0.2484979629516601,
            0.2940294742584228,
            0.1631655693054199,
            0.2857930660247803,
            0.267378568649292,
            0.2904808521270752,
            0.1736717224121093,
            0.2803676128387451,
            0.2477657794952392,
            0.2925076484680176,
            0.1473419666290283,
            0.2809233665466308,
            0.2468428611755371,
            0.3003098964691162,
            0.3782742023468017,
            0.1483981609344482,
            0.2919914722442627,
            0.2579145431518554,
            0.2961223125457763,
            0.4864468574523926,
            0.4446821212768554,
            0.4487113952636719,
            0.4380559921264648,
            0.4370372295379638,
            0.4600832462310791,
            0.4667363166809082,
            0.4569900035858154,
            0.4380998611450195,
            0.4386687278747558,
            0.4552319049835205,
            0.1683781147003173,
            0.286870002746582,
            0.245983600616455,
            0.3161132335662842,
            0.2137355804443359,
            0.2005143165588379,
            0.1486544609069824,
            0.1305503845214843,
            0.1444871425628662,
            0.1472604274749755,
            0.1549539566040039,
            0.1161766052246093,
            0.122063398361206,
            0.1114332675933837,
            0.1377019882202148,
            0.1640892028808593,
            0.1331212520599365,
            0.1347632408142089,
            0.0285532474517822,
            0.0308148860931396,
            0.0802011489868164,
            0.1402435302734375,
            0.0256915092468261,
            0.0275337696075439,
            0.0270524024963378,
            0.0265364646911621,
            0.690014123916626,
            0.2858164310455322
           ]
          },
          {
           "axis": {
            "matches": true
           },
           "label": "Wait Time",
           "values": [
            0.0821003913879394,
            0.0606410503387451,
            0.1088244915008544,
            0.096841812133789,
            0.421628475189209,
            0.2411699295043945,
            0.2286863327026367,
            0.3530383110046386,
            0.2069339752197265,
            0.1562018394470214,
            0.1710078716278076,
            0.1482162475585937,
            0.2317008972167968,
            0.1920592784881591,
            0.1579689979553222,
            0.1725661754608154,
            0.1580631732940673,
            0.1508893966674804,
            0.156926155090332,
            0.1585445404052734,
            0.1291286945343017,
            0.1499674320220947,
            0.1551594734191894,
            0.1561596393585205,
            0.1115632057189941,
            0.179678201675415,
            0.1507444381713867,
            0.135352611541748,
            0.1643266677856445,
            0.1679089069366455,
            0.1542606353759765,
            0.1346998214721679,
            0.177220344543457,
            0.1987950801849365,
            0.2067914009094238,
            0.1477973461151123,
            0.244053840637207,
            0.163339614868164,
            0.2543838024139404,
            0.1560962200164795,
            0.1189992427825927,
            0.1390538215637207,
            0.1127896308898925,
            0.1384444236755371,
            0.1435990333557129,
            0.1110274791717529,
            0.1833024024963379,
            0.1360371112823486,
            0.1343541145324707,
            0.1650631427764892,
            0.1509311199188232,
            0.2051734924316406,
            0.2011024951934814,
            0.1450386047363281,
            0.1435744762420654,
            0.1409366130828857,
            0.196592092514038,
            0.1455903053283691,
            0.1322689056396484,
            0.1524889469146728,
            0.1235115528106689,
            0.1470766067504882,
            0.1236312389373779,
            0.1681954860687255,
            0.1175529956817627,
            0.1403954029083252,
            0.1123874187469482,
            0.1575386524200439,
            0.1277689933776855,
            0.1302089691162109,
            0.1190323829650878,
            0.1915795803070068,
            0.1933684349060058,
            0.1798150539398193,
            0.1919856071472168,
            0.1934318542480468,
            0.1576511859893798,
            0.182823896408081,
            0.1396560668945312,
            0.1732187271118164,
            0.1457026004791259,
            0.141420841217041,
            0.151179552078247,
            0.1207685470581054,
            0.1441478729248047,
            0.1303136348724365,
            0.1437547206878662,
            0.177821397781372,
            0.15757417678833,
            0.1149930953979492,
            0.1482794284820556,
            0.1622347831726074,
            0.191441535949707,
            0.1362390518188476,
            0.1231637001037597,
            0.1826260089874267,
            0.1249754428863525,
            0.1160407066345214,
            0.1358506679534912,
            0.829458475112915,
            1.1799037456512451,
            0.634953498840332,
            0.6199257373809814,
            0.2468366622924804,
            0.2359588146209716,
            0.1359221935272216,
            0.6109530925750732,
            0.8263351917266846,
            0.6318418979644775,
            0.2923283576965332,
            0.8258113861083984,
            0.8156177997589111,
            0.6372554302215576,
            0.1884577274322509,
            0.8856830596923828,
            0.8243405818939209,
            0.6380562782287598,
            0.2197167873382568,
            1.3661916255950928,
            0.7991588115692139,
            0.6411347389221191,
            0.1626520156860351,
            0.9076037406921388,
            0.927769899368286,
            0.666923999786377,
            0.3604040145874023,
            0.6515872478485107,
            0.79868483543396,
            0.6321465969085693,
            0.2122828960418701,
            0.5968499183654785,
            0.8201510906219482,
            0.6360087394714355,
            0.212273359298706,
            0.644812822341919,
            0.8366920948028564,
            0.6165523529052734,
            0.2221522331237793,
            0.6346819400787354,
            0.8017444610595703,
            0.6053900718688965,
            0.1713473796844482,
            0.2315065860748291,
            1.0502123832702637,
            0.2313692569732666,
            0.0686326026916503,
            0.9493136405944824,
            0.7354826927185059,
            0.0952749252319336,
            0.2851123809814453,
            0.1944665908813476,
            0.0951423645019531,
            0.1081249713897705,
            0.1106150150299072,
            0.1171321868896484,
            0.0300548076629638,
            0.2664592266082763,
            0.1199777126312255,
            0.1823129653930664,
            0.5990562438964844,
            0.7844953536987305,
            0.6087250709533691,
            0.1755945682525634,
            0.6030087471008301,
            0.7926557064056396,
            0.6743454933166504,
            0.1293184757232666,
            0.6084237098693848,
            0.8070507049560547,
            0.6352412700653076,
            0.1732020378112793,
            0.6160900592803955,
            0.8184306621551514,
            0.6647732257843018,
            0.328984260559082,
            0.6789524555206299,
            1.0669522285461426,
            0.6373805999755859,
            0.1689722537994384,
            0.1580114364624023,
            0.6749577522277832,
            0.799091100692749,
            0.6393346786499023,
            0.1555056571960449,
            0.7458598613739014,
            0.8067402839660645,
            0.6420903205871582,
            0.1648433208465576,
            0.698375940322876,
            0.7890138626098633,
            0.6068675518035889,
            0.1860630512237548,
            0.670853853225708,
            0.79109787940979,
            0.6369621753692627,
            0.1731429100036621,
            1.0612225532531738,
            0.7910964488983154,
            0.6161344051361084,
            0.2350573539733886,
            0.163100004196167,
            0.6580407619476318,
            0.8523702621459961,
            0.6089165210723877,
            0.1100478172302246,
            0.6799821853637695,
            0.996720552444458,
            0.6722614765167236,
            0.1697676181793213,
            0.6519067287445068,
            0.8731317520141602,
            0.6377787590026855,
            0.254918098449707,
            0.6538684368133545,
            0.7815728187561035,
            0.6374497413635254,
            0.2861397266387939,
            0.6544573307037354,
            0.856407642364502,
            0.6342699527740479,
            0.2884640693664551,
            0.2339797019958496,
            0.6413459777832031,
            0.7972126007080078,
            0.612595796585083,
            0.1898658275604248,
            0.1580212116241455,
            0.6505639553070068,
            0.781113862991333,
            0.6082794666290283,
            0.1379890441894531,
            0.6572082042694092,
            0.8535752296447754,
            0.633216381072998,
            0.1158843040466308,
            0.6475164890289307,
            0.7759099006652832,
            0.6378707885742188,
            0.2056114673614502,
            0.653050422668457,
            0.7824094295501709,
            0.6692905426025391,
            0.3469493389129638,
            0.8607010841369629,
            0.8143250942230225,
            0.6049034595489502,
            0.1918647289276123,
            0.1905231475830078,
            0.1734099388122558,
            0.6202030181884766,
            0.8362617492675781,
            0.6414129734039307,
            0.1697146892547607,
            0.2913415431976318,
            0.1993167400360107,
            0.6283705234527588,
            0.9319090843200684,
            0.6325206756591797,
            0.2910616397857666,
            0.6267046928405762,
            1.074862003326416,
            0.8416430950164795,
            1.9596359729766848,
            0.1997275352478027,
            0.8552579879760742,
            0.8070640563964844,
            0.6450080871582031,
            0.1622729301452636,
            0.1591706275939941,
            0.1768481731414795,
            0.1317207813262939,
            0.16856050491333,
            0.4130058288574219,
            0.1893939971923828,
            0.1069872379302978,
            0.6065769195556641,
            0.8107831478118896,
            0.66770339012146,
            0.1252386569976806,
            0.6083385944366455,
            0.8134667873382568,
            0.6365995407104492,
            0.1579453945159912,
            0.6400244235992432,
            0.8066108226776123,
            0.67734694480896,
            0.2087941169738769,
            0.3140251636505127,
            0.5968050956726074,
            0.7922112941741943,
            0.6370551586151123,
            0.1319766044616699,
            0.5840756893157959,
            0.7833657264709473,
            0.6432604789733887,
            0.1680817604064941,
            0.6285207271575928,
            0.7860689163208008,
            0.6356463432312012,
            0.157963752746582,
            0.5901329517364502,
            0.7661933898925781,
            0.6370542049407959,
            0.1835956573486328,
            0.6373934745788574,
            0.777987003326416,
            0.6387519836425781,
            0.1725037097930908,
            0.646186113357544,
            0.954120397567749,
            0.6704845428466797,
            0.7534592151641846,
            0.1544218063354492,
            0.581881046295166,
            0.7793059349060059,
            0.6609964370727539,
            0.1834321022033691,
            0.635993480682373,
            0.7789592742919922,
            0.6649520397186279,
            0.1942248344421386,
            0.108361005783081,
            0.6941027641296387,
            0.7648050785064697,
            0.6725292205810547,
            0.1533558368682861,
            0.5801324844360352,
            0.7959067821502686,
            0.640277624130249,
            0.1259806156158447,
            0.14471435546875,
            0.1367290019989013,
            0.1210181713104248,
            0.1063673496246337,
            0.118739366531372,
            0.686565637588501,
            0.7889974117279053,
            0.6695806980133057,
            0.1477766036987304,
            0.6714279651641846,
            0.7753794193267822,
            0.6372449398040771,
            0.0330550670623779,
            0.0303325653076171,
            0.1525747776031494,
            0.8877196311950684,
            0.7756094932556152,
            0.6428723335266113,
            0.1717031002044677,
            0.6129724979400635,
            0.7910051345825195,
            0.6378257274627686,
            0.1399328708648681,
            0.6096687316894531,
            0.7901060581207275,
            0.6082768440246582,
            0.1517815589904785,
            0.6368520259857178,
            0.8615491390228271,
            0.6032791137695312,
            0.2790782451629638,
            0.1630723476409912,
            0.291619062423706,
            0.1477389335632324,
            0.1614184379577636,
            0.1760847568511963,
            0.2386825084686279,
            0.1139421463012695,
            0.1179389953613281,
            0.119211196899414,
            0.116471529006958,
            0.0949997901916503,
            0.6651332378387451,
            0.8284039497375488,
            0.6655306816101074,
            0.1292734146118164,
            0.1085772514343261,
            0.6364898681640625,
            0.7946035861968994,
            0.6377289295196533,
            0.1462340354919433,
            0.645845890045166,
            0.7762796878814697,
            0.6678731441497803,
            0.1162722110748291,
            0.7870941162109375,
            0.8413541316986084,
            0.6560664176940918,
            0.1286251544952392,
            0.6420350074768066,
            0.781033992767334,
            0.6338403224945068,
            0.1166763305664062,
            1.134016752243042,
            0.7750282287597656,
            0.6042935848236084,
            0.1610691547393798,
            0.6318719387054443,
            0.8013288974761963,
            0.6329948902130127,
            0.2966697216033935,
            0.6339466571807861,
            0.7763361930847168,
            0.6467926502227783,
            0.1629116535186767,
            0.6795229911804199,
            0.7863316535949707,
            0.6318869590759277,
            0.1462752819061279,
            0.6063137054443359,
            0.7861127853393555,
            0.6605494022369385,
            0.1645121574401855,
            0.6143655776977539,
            0.7994885444641113,
            0.640380859375,
            0.0832166671752929,
            0.1384987831115722,
            0.6100244522094727,
            0.8548853397369385,
            0.6038572788238525,
            0.1754474639892578,
            0.2373032569885254,
            0.7570397853851318,
            0.8007097244262695,
            0.6344716548919678,
            0.1699891090393066,
            0.7301087379455566,
            0.7957091331481934,
            0.6620759963989258,
            0.215757131576538,
            0.1658504009246826,
            0.6580157279968262,
            0.7889549732208252,
            0.6149144172668457,
            0.276153564453125,
            0.6934247016906738,
            0.7653062343597412,
            0.6694679260253906,
            0.142998456954956,
            0.6839547157287598,
            0.7958076000213623,
            0.6069810390472412,
            0.1857707500457763,
            0.1765494346618652,
            0.6734747886657715,
            0.7839901447296143,
            0.7529239654541016,
            0.141474962234497,
            0.6251468658447266,
            0.7696497440338135,
            0.6359682083129883,
            0.1572227478027343,
            0.6712749004364014,
            0.883681058883667,
            0.6408729553222656,
            0.2236168384552002,
            0.6313040256500244,
            0.8117921352386475,
            1.4003100395202637,
            0.2265503406524658,
            0.173530101776123,
            0.1521947383880615,
            0.1202423572540283,
            0.8540253639221191,
            0.8254315853118896,
            0.6385881900787354,
            0.1480731964111328,
            0.6676070690155029,
            0.8021161556243896,
            0.6657817363739014,
            0.2697889804840088,
            0.6708366870880127,
            0.8234109878540039,
            0.6701507568359375,
            0.1789314746856689,
            0.6171197891235352,
            0.8028788566589355,
            0.6646757125854492,
            0.4548778533935547,
            0.1387510299682617,
            0.9001331329345703,
            0.8013622760772705,
            0.6670887470245361,
            1.2906136512756348,
            1.338798999786377,
            1.269251585006714,
            1.2990033626556396,
            1.231053113937378,
            1.2211430072784424,
            1.278977394104004,
            1.4198405742645264,
            1.2530381679534912,
            1.226402997970581,
            1.2239058017730713,
            0.3574147224426269,
            0.6594526767730713,
            0.8055353164672852,
            0.6377661228179932,
            0.199211835861206,
            0.187673807144165,
            0.1695899963378906,
            0.1118476390838623,
            0.1115379333496093,
            0.1050150394439697,
            0.1009044647216796,
            0.1022653579711914,
            0.1188926696777343,
            0.1018891334533691,
            0.1310577392578125,
            0.1564884185791015,
            0.1297991275787353,
            0.1627945899963379,
            0.0280911922454834,
            0.0285899639129638,
            0.0883996486663818,
            0.1379609107971191,
            0.0297169685363769,
            0.0304763317108154,
            0.0341713428497314,
            0.0280213356018066,
            0.9377756118774414,
            0.3012938499450683
           ]
          },
          {
           "axis": {
            "matches": true
           },
           "label": "Total Time",
           "values": [
            0.2385363578796386,
            0.2023022174835205,
            0.250375747680664,
            0.130505084991455,
            0.4530427455902099,
            0.2732746601104736,
            0.2618818283081054,
            0.386103868484497,
            0.2380118370056152,
            0.1875967979431152,
            0.201207160949707,
            0.1778957843780517,
            0.2617452144622803,
            0.2230100631713867,
            0.1897287368774414,
            0.2041966915130615,
            0.1935594081878662,
            0.1820058822631836,
            0.1939642429351806,
            0.1891391277313232,
            0.1592011451721191,
            0.1805717945098877,
            0.1937410831451416,
            0.190833568572998,
            0.1409783363342285,
            0.2092885971069336,
            0.1808648109436035,
            0.1654164791107177,
            0.1977930068969726,
            0.1968371868133545,
            0.1838436126708984,
            0.1644709110260009,
            0.2998418807983398,
            0.2293770313262939,
            0.3499684333801269,
            0.177131175994873,
            0.2725844383239746,
            0.3123307228088379,
            0.2855162620544433,
            0.1877250671386718,
            0.1495766639709472,
            0.1729590892791748,
            0.1435072422027588,
            0.1700303554534912,
            0.1746950149536132,
            0.1415269374847412,
            0.2128863334655761,
            0.1681523323059082,
            0.1642484664916992,
            0.1951315402984619,
            0.181166410446167,
            0.2397944927215576,
            0.2331886291503906,
            0.1756041049957275,
            0.1751728057861328,
            0.1725354194641113,
            0.2282443046569824,
            0.1771812438964843,
            0.1649327278137207,
            0.1835412979125976,
            0.1571049690246582,
            0.1773130893707275,
            0.1581065654754638,
            0.1977667808532714,
            0.1486797332763672,
            0.1702313423156738,
            0.1410002708435058,
            0.1866192817687988,
            0.1573426723480224,
            0.1602082252502441,
            0.1500306129455566,
            0.2220783233642578,
            0.221531867980957,
            0.2088625431060791,
            0.2231626510620117,
            0.222872257232666,
            0.1879065036773681,
            0.2136144638061523,
            0.1706719398498535,
            0.2032690048217773,
            0.1753101348876953,
            0.1720879077911377,
            0.1813306808471679,
            0.1503345966339111,
            0.1737465858459472,
            0.159900426864624,
            0.1728034019470214,
            0.2399976253509521,
            0.1886541843414306,
            0.1459505558013916,
            0.1781532764434814,
            0.1984140872955322,
            0.2220251560211181,
            0.1654555797576904,
            0.1536829471588134,
            0.2227094173431396,
            0.1535010337829589,
            0.1461045742034912,
            0.1646924018859863,
            1.259327411651611,
            1.6717512607574463,
            1.2010512351989746,
            0.9888763427734376,
            0.2779734134674072,
            0.2654521465301513,
            0.1710245609283447,
            0.8676018714904785,
            1.0787348747253418,
            0.9393198490142822,
            0.3249082565307617,
            1.0983152389526367,
            1.0771629810333252,
            0.9266064167022704,
            0.2205219268798828,
            1.143986463546753,
            1.077181339263916,
            0.9495534896850586,
            0.2508647441864013,
            1.6225359439849854,
            1.0550084114074707,
            0.9326574802398682,
            0.1946659088134765,
            1.16475510597229,
            1.17972731590271,
            0.9698138236999512,
            0.390190839767456,
            0.919703722000122,
            1.0603814125061035,
            0.9229128360748292,
            0.2429203987121582,
            0.90325927734375,
            1.078033447265625,
            0.9425570964813232,
            0.24196457862854,
            0.9018275737762452,
            1.097778081893921,
            0.9153165817260742,
            0.2521274089813232,
            0.9134986400604248,
            1.058708429336548,
            0.9142961502075196,
            0.2018067836761474,
            0.2641265392303467,
            1.5853486061096191,
            0.5575764179229736,
            0.1012666225433349,
            1.48187255859375,
            1.1737966537475586,
            0.1284046173095703,
            0.3164761066436767,
            0.2245409488677978,
            0.1295320987701416,
            0.142188549041748,
            0.1417169570922851,
            0.1486411094665527,
            0.0934858322143554,
            0.3030707836151123,
            0.2275044918060302,
            0.3000352382659912,
            0.8594071865081787,
            1.0419213771820068,
            0.8981571197509766,
            0.2970967292785644,
            0.8866763114929199,
            1.052123785018921,
            0.9940032958984376,
            0.3043451309204101,
            0.8834946155548096,
            1.0660953521728516,
            0.938617467880249,
            0.3577382564544678,
            0.8901772499084473,
            1.0778145790100098,
            0.9667813777923584,
            0.5411925315856934,
            0.9514153003692628,
            1.322305679321289,
            0.9333219528198242,
            0.3511104583740234,
            0.3619744777679443,
            0.9539291858673096,
            1.0529255867004397,
            0.9400503635406494,
            0.3071818351745605,
            1.0201072692871094,
            1.077888250350952,
            0.9302537441253662,
            0.3207008838653564,
            0.973325490951538,
            1.0635240077972412,
            0.914809226989746,
            0.4368095397949219,
            0.9451854228973388,
            1.0614213943481443,
            0.9350957870483398,
            0.2786002159118652,
            1.3508706092834473,
            1.0670344829559326,
            0.9164106845855712,
            0.4065966606140136,
            0.3072013854980469,
            0.9408278465270996,
            1.1134364604949951,
            0.9163274765014648,
            0.2356858253479004,
            0.949848175048828,
            1.2627344131469729,
            0.9728074073791504,
            0.3400347232818603,
            0.9327163696289062,
            1.1478567123413086,
            0.9410247802734376,
            0.4366178512573242,
            0.9348270893096924,
            1.0384159088134766,
            0.9358189105987548,
            0.3990628719329834,
            0.9188778400421144,
            1.109921932220459,
            0.926250457763672,
            0.5736920833587646,
            0.3873376846313476,
            0.896561861038208,
            1.0577497482299805,
            0.9368295669555664,
            0.4295623302459717,
            0.296865701675415,
            0.921586275100708,
            1.0443875789642334,
            0.9054083824157716,
            0.3544201850891113,
            0.9417130947113036,
            1.106938123703003,
            0.931023359298706,
            0.2567944526672363,
            0.903792142868042,
            1.0300517082214355,
            0.9380831718444824,
            0.3545708656311035,
            0.9047222137451172,
            1.0373601913452148,
            0.9768173694610596,
            0.5505998134613037,
            1.12542724609375,
            1.083773851394653,
            0.9040818214416504,
            0.3178625106811523,
            0.2577502727508545,
            0.4281702041625976,
            0.8949728012084961,
            1.0917177200317385,
            0.9306294918060304,
            0.1983046531677246,
            0.3286571502685547,
            0.3189358711242676,
            0.89540696144104,
            1.2313740253448486,
            0.9355504512786864,
            0.5210418701171875,
            0.8839294910430908,
            1.3650641441345217,
            1.1450369358062744,
            3.89579176902771,
            0.400447130203247,
            1.145930528640747,
            1.095740556716919,
            0.943756103515625,
            0.3427968025207519,
            0.2668526172637939,
            0.3238346576690674,
            0.2797706127166748,
            0.3422248363494873,
            0.5068447589874268,
            0.3682854175567627,
            0.2763814926147461,
            0.8754453659057617,
            1.0689995288848877,
            0.9807209968566896,
            0.2989294528961181,
            0.8740255832672119,
            1.074864149093628,
            0.9587039947509766,
            0.300119400024414,
            0.9016807079315186,
            1.093285083770752,
            0.968719720840454,
            0.3748643398284912,
            0.5123255252838135,
            0.8608813285827637,
            1.0630552768707275,
            0.943364143371582,
            0.3018529415130615,
            0.848698616027832,
            1.0657434463500977,
            0.9514870643615724,
            0.3321959972381592,
            0.8879578113555908,
            1.028928279876709,
            0.9368021488189696,
            0.314629316329956,
            0.8528764247894287,
            1.0197362899780271,
            0.9390425682067872,
            0.3712887763977051,
            0.9081215858459472,
            1.017120599746704,
            0.9388010501861572,
            0.3258366584777832,
            0.9237432479858398,
            1.198896408081055,
            1.066029071807861,
            1.0967447757720947,
            0.3028523921966553,
            0.8440506458282471,
            1.0331790447235107,
            0.9597673416137696,
            0.383310317993164,
            0.9179298877716064,
            1.024592399597168,
            0.9770114421844482,
            0.223768949508667,
            0.2499082088470459,
            0.9643945693969728,
            1.0024187564849854,
            0.9656178951263428,
            0.2652168273925781,
            0.8536913394927979,
            1.05163836479187,
            0.9371495246887208,
            0.4615914821624756,
            0.2980031967163086,
            0.2820262908935547,
            0.23396897315979,
            0.2070691585540771,
            0.2145991325378418,
            0.9614286422729492,
            1.0372390747070312,
            0.9589242935180664,
            0.2871100902557373,
            0.9401121139526368,
            1.022951364517212,
            0.9251408576965332,
            0.1901688575744629,
            0.0784697532653808,
            0.2996931076049804,
            1.1658461093902588,
            1.0246312618255615,
            0.942701816558838,
            0.3265292644500732,
            0.8834671974182129,
            1.0467727184295654,
            0.9384264945983888,
            0.2889187335968017,
            0.8873424530029297,
            1.0418846607208252,
            0.9197287559509276,
            0.3283455371856689,
            0.9209098815917968,
            1.1365201473236084,
            0.9002890586853027,
            0.363915205001831,
            0.1896281242370605,
            0.3174471855163574,
            0.1747655868530273,
            0.1874012947082519,
            0.2016193866729736,
            0.2708263397216797,
            0.138991117477417,
            0.1435096263885498,
            0.1455559730529785,
            0.1424908638000488,
            0.2139089107513427,
            0.9627468585968018,
            1.085737228393555,
            0.9755170345306396,
            0.2701108455657959,
            0.2099206447601318,
            0.9109835624694824,
            1.0515661239624023,
            0.9532680511474608,
            0.2949090003967285,
            0.923630714416504,
            1.0355987548828125,
            0.9694085121154784,
            0.2871606349945068,
            1.070185661315918,
            1.0938632488250732,
            0.9536705017089844,
            0.3172390460968017,
            0.9237124919891356,
            1.0260841846466064,
            0.9301395416259766,
            0.2785134315490722,
            1.396801471710205,
            1.0339694023132324,
            0.8963024616241455,
            0.5965616703033447,
            0.9052734375,
            1.0554966926574707,
            0.9326896667480468,
            0.5090770721435547,
            0.9139633178710938,
            1.042910099029541,
            0.959275245666504,
            0.2734646797180176,
            0.95886492729187,
            1.0531063079833984,
            0.9205546379089355,
            0.3073909282684326,
            0.915353775024414,
            1.0467774868011477,
            0.9591174125671388,
            0.3243699073791504,
            0.9108784198760986,
            1.0563483238220217,
            0.9436752796173096,
            0.2170681953430175,
            0.288081407546997,
            0.8939962387084961,
            1.1150219440460205,
            0.912097692489624,
            0.345527172088623,
            0.4009785652160644,
            1.0431389808654783,
            1.071408748626709,
            0.9384996891021729,
            0.3470611572265625,
            1.023629903793335,
            1.0495445728302002,
            0.977797508239746,
            0.4435803890228271,
            0.270148754119873,
            0.9435904026031494,
            1.0434105396270752,
            0.9197747707366944,
            0.4395451545715332,
            0.9747042655944824,
            1.023268461227417,
            0.979261875152588,
            0.2970626354217529,
            0.9684514999389648,
            1.0561108589172363,
            0.9835159778594972,
            0.2146666049957275,
            0.350348949432373,
            0.9621422290802002,
            1.0439400672912598,
            1.062800407409668,
            0.281421422958374,
            0.905789852142334,
            1.0299153327941897,
            0.9403822422027588,
            0.2921323776245117,
            0.9496965408325196,
            1.1387004852294922,
            0.9439578056335448,
            0.252241849899292,
            0.9163165092468262,
            1.153548240661621,
            1.8009746074676514,
            0.2629623413085937,
            0.3496606349945068,
            0.3136918544769287,
            0.2711143493652344,
            1.133265256881714,
            1.0739295482635498,
            0.9326176643371582,
            0.3112387657165527,
            0.9534001350402832,
            1.0694947242736816,
            0.9562625885009766,
            0.4434607028961181,
            0.9512042999267578,
            1.0711767673492432,
            0.9626584053039552,
            0.3262734413146972,
            0.898043155670166,
            1.0497217178344729,
            0.9649856090545654,
            0.8331520557403564,
            0.2871491909027099,
            1.192124605178833,
            1.059276819229126,
            0.9632110595703124,
            1.7770605087280271,
            1.7834811210632324,
            1.7179629802703855,
            1.7370593547821045,
            1.6680903434753418,
            1.6812262535095217,
            1.745713710784912,
            1.8768305778503416,
            1.6911380290985107,
            1.665071725845337,
            1.6791377067565918,
            0.5257928371429443,
            0.9463226795196532,
            1.0515189170837402,
            0.9538793563842772,
            0.412947416305542,
            0.3881881237030029,
            0.318244457244873,
            0.2423980236053466,
            0.2560250759124756,
            0.2522754669189453,
            0.2558584213256836,
            0.2184419631958007,
            0.2409560680389404,
            0.2133224010467529,
            0.2687597274780273,
            0.3205776214599609,
            0.2629203796386719,
            0.2975578308105469,
            0.0566444396972656,
            0.0594048500061035,
            0.1686007976531982,
            0.2782044410705566,
            0.0554084777832031,
            0.0580101013183593,
            0.0612237453460693,
            0.0545578002929687,
            1.6277897357940674,
            0.5871102809906006
           ]
          },
          {
           "axis": {
            "matches": true
           },
           "label": "Resource Count",
           "values": [
            76,
            76,
            76,
            161,
            24,
            23,
            29,
            29,
            29,
            29,
            25,
            22,
            23,
            23,
            30,
            28,
            29,
            25,
            25,
            26,
            25,
            25,
            25,
            25,
            22,
            22,
            28,
            25,
            25,
            28,
            27,
            27,
            25,
            23,
            28,
            22,
            27,
            29,
            22,
            27,
            22,
            34,
            22,
            27,
            26,
            22,
            23,
            22,
            28,
            36,
            22,
            22,
            37,
            31,
            33,
            27,
            23,
            33,
            22,
            29,
            22,
            30,
            22,
            36,
            22,
            36,
            22,
            33,
            22,
            30,
            22,
            22,
            23,
            33,
            42,
            23,
            22,
            25,
            27,
            23,
            29,
            40,
            35,
            22,
            30,
            22,
            29,
            26,
            26,
            22,
            33,
            22,
            22,
            29,
            22,
            22,
            28,
            22,
            32,
            28,
            33,
            33,
            34,
            23,
            23,
            29,
            28,
            33,
            33,
            28,
            28,
            33,
            33,
            28,
            28,
            33,
            33,
            32,
            28,
            33,
            33,
            32,
            28,
            33,
            33,
            25,
            28,
            33,
            33,
            29,
            28,
            33,
            33,
            29,
            28,
            33,
            33,
            30,
            28,
            33,
            33,
            24,
            24,
            167,
            1,
            46,
            167,
            80,
            58,
            35,
            24,
            42,
            31,
            31,
            34,
            161,
            24,
            22,
            29,
            28,
            33,
            33,
            29,
            28,
            33,
            33,
            25,
            28,
            33,
            33,
            28,
            28,
            33,
            33,
            36,
            28,
            33,
            33,
            22,
            37,
            28,
            33,
            33,
            26,
            28,
            33,
            33,
            31,
            28,
            33,
            33,
            33,
            28,
            33,
            33,
            27,
            28,
            33,
            33,
            23,
            28,
            28,
            33,
            33,
            27,
            28,
            33,
            33,
            29,
            28,
            33,
            33,
            27,
            28,
            33,
            33,
            34,
            28,
            33,
            33,
            1,
            27,
            28,
            33,
            33,
            23,
            33,
            28,
            33,
            33,
            29,
            28,
            33,
            33,
            30,
            28,
            33,
            33,
            36,
            28,
            33,
            33,
            35,
            28,
            33,
            33,
            29,
            33,
            30,
            28,
            33,
            33,
            19,
            30,
            36,
            28,
            33,
            33,
            33,
            28,
            33,
            33,
            160,
            26,
            28,
            33,
            33,
            22,
            30,
            33,
            30,
            23,
            22,
            23,
            29,
            28,
            33,
            33,
            33,
            28,
            33,
            33,
            42,
            28,
            33,
            33,
            23,
            29,
            28,
            33,
            33,
            31,
            28,
            33,
            33,
            31,
            28,
            33,
            33,
            30,
            28,
            33,
            33,
            32,
            28,
            33,
            33,
            29,
            28,
            33,
            33,
            15,
            38,
            28,
            33,
            33,
            37,
            28,
            33,
            33,
            30,
            30,
            28,
            33,
            33,
            35,
            28,
            33,
            33,
            22,
            30,
            31,
            39,
            22,
            28,
            28,
            33,
            33,
            25,
            28,
            33,
            33,
            0,
            0,
            25,
            28,
            33,
            33,
            28,
            28,
            33,
            33,
            27,
            28,
            33,
            33,
            27,
            28,
            33,
            33,
            76,
            161,
            24,
            46,
            58,
            35,
            24,
            42,
            31,
            31,
            34,
            25,
            28,
            33,
            33,
            23,
            30,
            28,
            33,
            33,
            28,
            28,
            33,
            33,
            29,
            28,
            33,
            33,
            25,
            28,
            33,
            33,
            25,
            28,
            33,
            33,
            26,
            28,
            33,
            33,
            25,
            28,
            33,
            33,
            25,
            28,
            33,
            33,
            25,
            28,
            33,
            33,
            25,
            28,
            33,
            33,
            22,
            25,
            28,
            33,
            33,
            22,
            25,
            28,
            33,
            33,
            27,
            28,
            33,
            33,
            23,
            29,
            28,
            33,
            33,
            29,
            28,
            33,
            33,
            40,
            28,
            33,
            33,
            29,
            29,
            28,
            33,
            33,
            26,
            28,
            33,
            33,
            33,
            28,
            33,
            33,
            28,
            28,
            33,
            33,
            32,
            22,
            28,
            30,
            28,
            33,
            33,
            35,
            28,
            33,
            33,
            29,
            28,
            33,
            33,
            32,
            28,
            33,
            33,
            22,
            29,
            28,
            33,
            33,
            37,
            37,
            37,
            37,
            37,
            37,
            37,
            37,
            37,
            37,
            37,
            28,
            28,
            33,
            33,
            32,
            29,
            28,
            28,
            32,
            32,
            25,
            29,
            29,
            30,
            24,
            24,
            24,
            24,
            46,
            58,
            35,
            24,
            42,
            31,
            31,
            34,
            167,
            1
           ]
          }
         ],
         "hovertemplate": "%{xaxis.title.text}=%{x}<br>%{yaxis.title.text}=%{y}<extra></extra>",
         "legendgroup": "",
         "marker": {
          "color": "#636efa",
          "symbol": "circle"
         },
         "name": "",
         "showlegend": false,
         "type": "splom"
        }
       ],
       "layout": {
        "dragmode": "select",
        "legend": {
         "tracegroupgap": 0
        },
        "margin": {
         "t": 60
        },
        "template": {
         "data": {
          "bar": [
           {
            "error_x": {
             "color": "#2a3f5f"
            },
            "error_y": {
             "color": "#2a3f5f"
            },
            "marker": {
             "line": {
              "color": "#E5ECF6",
              "width": 0.5
             },
             "pattern": {
              "fillmode": "overlay",
              "size": 10,
              "solidity": 0.2
             }
            },
            "type": "bar"
           }
          ],
          "barpolar": [
           {
            "marker": {
             "line": {
              "color": "#E5ECF6",
              "width": 0.5
             },
             "pattern": {
              "fillmode": "overlay",
              "size": 10,
              "solidity": 0.2
             }
            },
            "type": "barpolar"
           }
          ],
          "carpet": [
           {
            "aaxis": {
             "endlinecolor": "#2a3f5f",
             "gridcolor": "white",
             "linecolor": "white",
             "minorgridcolor": "white",
             "startlinecolor": "#2a3f5f"
            },
            "baxis": {
             "endlinecolor": "#2a3f5f",
             "gridcolor": "white",
             "linecolor": "white",
             "minorgridcolor": "white",
             "startlinecolor": "#2a3f5f"
            },
            "type": "carpet"
           }
          ],
          "choropleth": [
           {
            "colorbar": {
             "outlinewidth": 0,
             "ticks": ""
            },
            "type": "choropleth"
           }
          ],
          "contour": [
           {
            "colorbar": {
             "outlinewidth": 0,
             "ticks": ""
            },
            "colorscale": [
             [
              0,
              "#0d0887"
             ],
             [
              0.1111111111111111,
              "#46039f"
             ],
             [
              0.2222222222222222,
              "#7201a8"
             ],
             [
              0.3333333333333333,
              "#9c179e"
             ],
             [
              0.4444444444444444,
              "#bd3786"
             ],
             [
              0.5555555555555556,
              "#d8576b"
             ],
             [
              0.6666666666666666,
              "#ed7953"
             ],
             [
              0.7777777777777778,
              "#fb9f3a"
             ],
             [
              0.8888888888888888,
              "#fdca26"
             ],
             [
              1,
              "#f0f921"
             ]
            ],
            "type": "contour"
           }
          ],
          "contourcarpet": [
           {
            "colorbar": {
             "outlinewidth": 0,
             "ticks": ""
            },
            "type": "contourcarpet"
           }
          ],
          "heatmap": [
           {
            "colorbar": {
             "outlinewidth": 0,
             "ticks": ""
            },
            "colorscale": [
             [
              0,
              "#0d0887"
             ],
             [
              0.1111111111111111,
              "#46039f"
             ],
             [
              0.2222222222222222,
              "#7201a8"
             ],
             [
              0.3333333333333333,
              "#9c179e"
             ],
             [
              0.4444444444444444,
              "#bd3786"
             ],
             [
              0.5555555555555556,
              "#d8576b"
             ],
             [
              0.6666666666666666,
              "#ed7953"
             ],
             [
              0.7777777777777778,
              "#fb9f3a"
             ],
             [
              0.8888888888888888,
              "#fdca26"
             ],
             [
              1,
              "#f0f921"
             ]
            ],
            "type": "heatmap"
           }
          ],
          "heatmapgl": [
           {
            "colorbar": {
             "outlinewidth": 0,
             "ticks": ""
            },
            "colorscale": [
             [
              0,
              "#0d0887"
             ],
             [
              0.1111111111111111,
              "#46039f"
             ],
             [
              0.2222222222222222,
              "#7201a8"
             ],
             [
              0.3333333333333333,
              "#9c179e"
             ],
             [
              0.4444444444444444,
              "#bd3786"
             ],
             [
              0.5555555555555556,
              "#d8576b"
             ],
             [
              0.6666666666666666,
              "#ed7953"
             ],
             [
              0.7777777777777778,
              "#fb9f3a"
             ],
             [
              0.8888888888888888,
              "#fdca26"
             ],
             [
              1,
              "#f0f921"
             ]
            ],
            "type": "heatmapgl"
           }
          ],
          "histogram": [
           {
            "marker": {
             "pattern": {
              "fillmode": "overlay",
              "size": 10,
              "solidity": 0.2
             }
            },
            "type": "histogram"
           }
          ],
          "histogram2d": [
           {
            "colorbar": {
             "outlinewidth": 0,
             "ticks": ""
            },
            "colorscale": [
             [
              0,
              "#0d0887"
             ],
             [
              0.1111111111111111,
              "#46039f"
             ],
             [
              0.2222222222222222,
              "#7201a8"
             ],
             [
              0.3333333333333333,
              "#9c179e"
             ],
             [
              0.4444444444444444,
              "#bd3786"
             ],
             [
              0.5555555555555556,
              "#d8576b"
             ],
             [
              0.6666666666666666,
              "#ed7953"
             ],
             [
              0.7777777777777778,
              "#fb9f3a"
             ],
             [
              0.8888888888888888,
              "#fdca26"
             ],
             [
              1,
              "#f0f921"
             ]
            ],
            "type": "histogram2d"
           }
          ],
          "histogram2dcontour": [
           {
            "colorbar": {
             "outlinewidth": 0,
             "ticks": ""
            },
            "colorscale": [
             [
              0,
              "#0d0887"
             ],
             [
              0.1111111111111111,
              "#46039f"
             ],
             [
              0.2222222222222222,
              "#7201a8"
             ],
             [
              0.3333333333333333,
              "#9c179e"
             ],
             [
              0.4444444444444444,
              "#bd3786"
             ],
             [
              0.5555555555555556,
              "#d8576b"
             ],
             [
              0.6666666666666666,
              "#ed7953"
             ],
             [
              0.7777777777777778,
              "#fb9f3a"
             ],
             [
              0.8888888888888888,
              "#fdca26"
             ],
             [
              1,
              "#f0f921"
             ]
            ],
            "type": "histogram2dcontour"
           }
          ],
          "mesh3d": [
           {
            "colorbar": {
             "outlinewidth": 0,
             "ticks": ""
            },
            "type": "mesh3d"
           }
          ],
          "parcoords": [
           {
            "line": {
             "colorbar": {
              "outlinewidth": 0,
              "ticks": ""
             }
            },
            "type": "parcoords"
           }
          ],
          "pie": [
           {
            "automargin": true,
            "type": "pie"
           }
          ],
          "scatter": [
           {
            "fillpattern": {
             "fillmode": "overlay",
             "size": 10,
             "solidity": 0.2
            },
            "type": "scatter"
           }
          ],
          "scatter3d": [
           {
            "line": {
             "colorbar": {
              "outlinewidth": 0,
              "ticks": ""
             }
            },
            "marker": {
             "colorbar": {
              "outlinewidth": 0,
              "ticks": ""
             }
            },
            "type": "scatter3d"
           }
          ],
          "scattercarpet": [
           {
            "marker": {
             "colorbar": {
              "outlinewidth": 0,
              "ticks": ""
             }
            },
            "type": "scattercarpet"
           }
          ],
          "scattergeo": [
           {
            "marker": {
             "colorbar": {
              "outlinewidth": 0,
              "ticks": ""
             }
            },
            "type": "scattergeo"
           }
          ],
          "scattergl": [
           {
            "marker": {
             "colorbar": {
              "outlinewidth": 0,
              "ticks": ""
             }
            },
            "type": "scattergl"
           }
          ],
          "scattermapbox": [
           {
            "marker": {
             "colorbar": {
              "outlinewidth": 0,
              "ticks": ""
             }
            },
            "type": "scattermapbox"
           }
          ],
          "scatterpolar": [
           {
            "marker": {
             "colorbar": {
              "outlinewidth": 0,
              "ticks": ""
             }
            },
            "type": "scatterpolar"
           }
          ],
          "scatterpolargl": [
           {
            "marker": {
             "colorbar": {
              "outlinewidth": 0,
              "ticks": ""
             }
            },
            "type": "scatterpolargl"
           }
          ],
          "scatterternary": [
           {
            "marker": {
             "colorbar": {
              "outlinewidth": 0,
              "ticks": ""
             }
            },
            "type": "scatterternary"
           }
          ],
          "surface": [
           {
            "colorbar": {
             "outlinewidth": 0,
             "ticks": ""
            },
            "colorscale": [
             [
              0,
              "#0d0887"
             ],
             [
              0.1111111111111111,
              "#46039f"
             ],
             [
              0.2222222222222222,
              "#7201a8"
             ],
             [
              0.3333333333333333,
              "#9c179e"
             ],
             [
              0.4444444444444444,
              "#bd3786"
             ],
             [
              0.5555555555555556,
              "#d8576b"
             ],
             [
              0.6666666666666666,
              "#ed7953"
             ],
             [
              0.7777777777777778,
              "#fb9f3a"
             ],
             [
              0.8888888888888888,
              "#fdca26"
             ],
             [
              1,
              "#f0f921"
             ]
            ],
            "type": "surface"
           }
          ],
          "table": [
           {
            "cells": {
             "fill": {
              "color": "#EBF0F8"
             },
             "line": {
              "color": "white"
             }
            },
            "header": {
             "fill": {
              "color": "#C8D4E3"
             },
             "line": {
              "color": "white"
             }
            },
            "type": "table"
           }
          ]
         },
         "layout": {
          "annotationdefaults": {
           "arrowcolor": "#2a3f5f",
           "arrowhead": 0,
           "arrowwidth": 1
          },
          "autotypenumbers": "strict",
          "coloraxis": {
           "colorbar": {
            "outlinewidth": 0,
            "ticks": ""
           }
          },
          "colorscale": {
           "diverging": [
            [
             0,
             "#8e0152"
            ],
            [
             0.1,
             "#c51b7d"
            ],
            [
             0.2,
             "#de77ae"
            ],
            [
             0.3,
             "#f1b6da"
            ],
            [
             0.4,
             "#fde0ef"
            ],
            [
             0.5,
             "#f7f7f7"
            ],
            [
             0.6,
             "#e6f5d0"
            ],
            [
             0.7,
             "#b8e186"
            ],
            [
             0.8,
             "#7fbc41"
            ],
            [
             0.9,
             "#4d9221"
            ],
            [
             1,
             "#276419"
            ]
           ],
           "sequential": [
            [
             0,
             "#0d0887"
            ],
            [
             0.1111111111111111,
             "#46039f"
            ],
            [
             0.2222222222222222,
             "#7201a8"
            ],
            [
             0.3333333333333333,
             "#9c179e"
            ],
            [
             0.4444444444444444,
             "#bd3786"
            ],
            [
             0.5555555555555556,
             "#d8576b"
            ],
            [
             0.6666666666666666,
             "#ed7953"
            ],
            [
             0.7777777777777778,
             "#fb9f3a"
            ],
            [
             0.8888888888888888,
             "#fdca26"
            ],
            [
             1,
             "#f0f921"
            ]
           ],
           "sequentialminus": [
            [
             0,
             "#0d0887"
            ],
            [
             0.1111111111111111,
             "#46039f"
            ],
            [
             0.2222222222222222,
             "#7201a8"
            ],
            [
             0.3333333333333333,
             "#9c179e"
            ],
            [
             0.4444444444444444,
             "#bd3786"
            ],
            [
             0.5555555555555556,
             "#d8576b"
            ],
            [
             0.6666666666666666,
             "#ed7953"
            ],
            [
             0.7777777777777778,
             "#fb9f3a"
            ],
            [
             0.8888888888888888,
             "#fdca26"
            ],
            [
             1,
             "#f0f921"
            ]
           ]
          },
          "colorway": [
           "#636efa",
           "#EF553B",
           "#00cc96",
           "#ab63fa",
           "#FFA15A",
           "#19d3f3",
           "#FF6692",
           "#B6E880",
           "#FF97FF",
           "#FECB52"
          ],
          "font": {
           "color": "#2a3f5f"
          },
          "geo": {
           "bgcolor": "white",
           "lakecolor": "white",
           "landcolor": "#E5ECF6",
           "showlakes": true,
           "showland": true,
           "subunitcolor": "white"
          },
          "hoverlabel": {
           "align": "left"
          },
          "hovermode": "closest",
          "mapbox": {
           "style": "light"
          },
          "paper_bgcolor": "white",
          "plot_bgcolor": "#E5ECF6",
          "polar": {
           "angularaxis": {
            "gridcolor": "white",
            "linecolor": "white",
            "ticks": ""
           },
           "bgcolor": "#E5ECF6",
           "radialaxis": {
            "gridcolor": "white",
            "linecolor": "white",
            "ticks": ""
           }
          },
          "scene": {
           "xaxis": {
            "backgroundcolor": "#E5ECF6",
            "gridcolor": "white",
            "gridwidth": 2,
            "linecolor": "white",
            "showbackground": true,
            "ticks": "",
            "zerolinecolor": "white"
           },
           "yaxis": {
            "backgroundcolor": "#E5ECF6",
            "gridcolor": "white",
            "gridwidth": 2,
            "linecolor": "white",
            "showbackground": true,
            "ticks": "",
            "zerolinecolor": "white"
           },
           "zaxis": {
            "backgroundcolor": "#E5ECF6",
            "gridcolor": "white",
            "gridwidth": 2,
            "linecolor": "white",
            "showbackground": true,
            "ticks": "",
            "zerolinecolor": "white"
           }
          },
          "shapedefaults": {
           "line": {
            "color": "#2a3f5f"
           }
          },
          "ternary": {
           "aaxis": {
            "gridcolor": "white",
            "linecolor": "white",
            "ticks": ""
           },
           "baxis": {
            "gridcolor": "white",
            "linecolor": "white",
            "ticks": ""
           },
           "bgcolor": "#E5ECF6",
           "caxis": {
            "gridcolor": "white",
            "linecolor": "white",
            "ticks": ""
           }
          },
          "title": {
           "x": 0.05
          },
          "xaxis": {
           "automargin": true,
           "gridcolor": "white",
           "linecolor": "white",
           "ticks": "",
           "title": {
            "standoff": 15
           },
           "zerolinecolor": "white",
           "zerolinewidth": 2
          },
          "yaxis": {
           "automargin": true,
           "gridcolor": "white",
           "linecolor": "white",
           "ticks": "",
           "title": {
            "standoff": 15
           },
           "zerolinecolor": "white",
           "zerolinewidth": 2
          }
         }
        }
       }
      }
     },
     "metadata": {},
     "output_type": "display_data"
    }
   ],
   "source": [
    "# make a pairplot of the data\n",
    "fig = px.scatter_matrix(backup, dimensions=['Connect Time', 'Wait Time', 'Total Time', 'Resource Count'])\n",
    "fig.write_html(\"../../fam-report-site/public/Web-Analytics/pairplot.html\")\n",
    "fig.show()"
   ]
  },
  {
   "cell_type": "code",
   "execution_count": 41,
   "metadata": {},
   "outputs": [
    {
     "name": "stdout",
     "output_type": "stream",
     "text": [
      "       Connect Time  Wait Time  Total Time  Resource Count\n",
      "count     30.000000  30.000000   30.000000       30.000000\n",
      "mean       0.456665   1.138099    1.594764       52.833333\n",
      "std        0.300809   0.252807    0.491391       45.752771\n",
      "min        0.244776   0.634953    1.173797       28.000000\n",
      "25%        0.290649   0.950515    1.277627       33.000000\n",
      "50%        0.438207   1.156960    1.625163       37.000000\n",
      "75%        0.465073   1.276546    1.711257       37.000000\n",
      "max        1.936156   1.959636    3.895792      167.000000\n"
     ]
    }
   ],
   "source": [
    "stats = df.describe()\n",
    "print(stats)"
   ]
  }
 ],
 "metadata": {
  "kernelspec": {
   "display_name": "base",
   "language": "python",
   "name": "python3"
  },
  "language_info": {
   "codemirror_mode": {
    "name": "ipython",
    "version": 3
   },
   "file_extension": ".py",
   "mimetype": "text/x-python",
   "name": "python",
   "nbconvert_exporter": "python",
   "pygments_lexer": "ipython3",
   "version": "3.10.9"
  },
  "orig_nbformat": 4
 },
 "nbformat": 4,
 "nbformat_minor": 2
}
