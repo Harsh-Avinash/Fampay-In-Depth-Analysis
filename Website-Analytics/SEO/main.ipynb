{
 "cells": [
  {
   "cell_type": "code",
   "execution_count": 1,
   "metadata": {},
   "outputs": [],
   "source": [
    "import requests\n",
    "from bs4 import BeautifulSoup\n",
    "import csv\n",
    "import pandas as pd\n",
    "import numpy as np\n",
    "import plotly.express as px"
   ]
  },
  {
   "cell_type": "code",
   "execution_count": 14,
   "metadata": {},
   "outputs": [],
   "source": [
    "def get_seo_score(url):\n",
    "    # Send a GET request to the URL\n",
    "    response = requests.get(url)\n",
    "\n",
    "    # Parse the HTML content of the page using BeautifulSoup\n",
    "    soup = BeautifulSoup(response.content, \"html.parser\")\n",
    "\n",
    "    # Get the title tag and extract the text content\n",
    "    title_tag = soup.find(\"title\")\n",
    "    title_text = title_tag.text if title_tag else \"\"\n",
    "\n",
    "    # Get the meta description tag and extract the content\n",
    "    meta_description_tag = soup.find(\"meta\", attrs={\"name\": \"description\"})\n",
    "    meta_description = meta_description_tag[\"content\"] if meta_description_tag else \"\" #type: ignore\n",
    "\n",
    "    # Calculate the SEO score based on the length of the title and meta description\n",
    "    seo_score = len(title_text) + len(meta_description)\n",
    "\n",
    "    return seo_score"
   ]
  },
  {
   "cell_type": "code",
   "execution_count": 15,
   "metadata": {},
   "outputs": [],
   "source": [
    "# read the URLs from a csv file\n",
    "urls = []\n",
    "with open(\"../../Warehouse/Links/fam_links.csv\", \"r\") as f:\n",
    "    reader = csv.reader(f)\n",
    "    for row in reader:\n",
    "        urls.append(row[0])"
   ]
  },
  {
   "cell_type": "code",
   "execution_count": 16,
   "metadata": {},
   "outputs": [],
   "source": [
    "df = pd.DataFrame(columns=[\"URL\", \"SEO Score\"])"
   ]
  },
  {
   "cell_type": "code",
   "execution_count": 17,
   "metadata": {},
   "outputs": [
    {
     "name": "stderr",
     "output_type": "stream",
     "text": [
      "C:\\Users\\Harsh Clean\\AppData\\Local\\Temp\\ipykernel_19596\\4121438589.py:3: FutureWarning: The frame.append method is deprecated and will be removed from pandas in a future version. Use pandas.concat instead.\n",
      "  df = df.append({\"URL\": url, \"SEO Score\": seo_score}, ignore_index=True) #type: ignore\n",
      "C:\\Users\\Harsh Clean\\AppData\\Local\\Temp\\ipykernel_19596\\4121438589.py:3: FutureWarning: The frame.append method is deprecated and will be removed from pandas in a future version. Use pandas.concat instead.\n",
      "  df = df.append({\"URL\": url, \"SEO Score\": seo_score}, ignore_index=True) #type: ignore\n",
      "C:\\Users\\Harsh Clean\\AppData\\Local\\Temp\\ipykernel_19596\\4121438589.py:3: FutureWarning: The frame.append method is deprecated and will be removed from pandas in a future version. Use pandas.concat instead.\n",
      "  df = df.append({\"URL\": url, \"SEO Score\": seo_score}, ignore_index=True) #type: ignore\n",
      "C:\\Users\\Harsh Clean\\AppData\\Local\\Temp\\ipykernel_19596\\4121438589.py:3: FutureWarning: The frame.append method is deprecated and will be removed from pandas in a future version. Use pandas.concat instead.\n",
      "  df = df.append({\"URL\": url, \"SEO Score\": seo_score}, ignore_index=True) #type: ignore\n",
      "C:\\Users\\Harsh Clean\\AppData\\Local\\Temp\\ipykernel_19596\\4121438589.py:3: FutureWarning: The frame.append method is deprecated and will be removed from pandas in a future version. Use pandas.concat instead.\n",
      "  df = df.append({\"URL\": url, \"SEO Score\": seo_score}, ignore_index=True) #type: ignore\n",
      "C:\\Users\\Harsh Clean\\AppData\\Local\\Temp\\ipykernel_19596\\4121438589.py:3: FutureWarning: The frame.append method is deprecated and will be removed from pandas in a future version. Use pandas.concat instead.\n",
      "  df = df.append({\"URL\": url, \"SEO Score\": seo_score}, ignore_index=True) #type: ignore\n",
      "C:\\Users\\Harsh Clean\\AppData\\Local\\Temp\\ipykernel_19596\\4121438589.py:3: FutureWarning: The frame.append method is deprecated and will be removed from pandas in a future version. Use pandas.concat instead.\n",
      "  df = df.append({\"URL\": url, \"SEO Score\": seo_score}, ignore_index=True) #type: ignore\n",
      "C:\\Users\\Harsh Clean\\AppData\\Local\\Temp\\ipykernel_19596\\4121438589.py:3: FutureWarning: The frame.append method is deprecated and will be removed from pandas in a future version. Use pandas.concat instead.\n",
      "  df = df.append({\"URL\": url, \"SEO Score\": seo_score}, ignore_index=True) #type: ignore\n",
      "C:\\Users\\Harsh Clean\\AppData\\Local\\Temp\\ipykernel_19596\\4121438589.py:3: FutureWarning: The frame.append method is deprecated and will be removed from pandas in a future version. Use pandas.concat instead.\n",
      "  df = df.append({\"URL\": url, \"SEO Score\": seo_score}, ignore_index=True) #type: ignore\n",
      "C:\\Users\\Harsh Clean\\AppData\\Local\\Temp\\ipykernel_19596\\4121438589.py:3: FutureWarning: The frame.append method is deprecated and will be removed from pandas in a future version. Use pandas.concat instead.\n",
      "  df = df.append({\"URL\": url, \"SEO Score\": seo_score}, ignore_index=True) #type: ignore\n",
      "C:\\Users\\Harsh Clean\\AppData\\Local\\Temp\\ipykernel_19596\\4121438589.py:3: FutureWarning: The frame.append method is deprecated and will be removed from pandas in a future version. Use pandas.concat instead.\n",
      "  df = df.append({\"URL\": url, \"SEO Score\": seo_score}, ignore_index=True) #type: ignore\n",
      "C:\\Users\\Harsh Clean\\AppData\\Local\\Temp\\ipykernel_19596\\4121438589.py:3: FutureWarning: The frame.append method is deprecated and will be removed from pandas in a future version. Use pandas.concat instead.\n",
      "  df = df.append({\"URL\": url, \"SEO Score\": seo_score}, ignore_index=True) #type: ignore\n",
      "C:\\Users\\Harsh Clean\\AppData\\Local\\Temp\\ipykernel_19596\\4121438589.py:3: FutureWarning: The frame.append method is deprecated and will be removed from pandas in a future version. Use pandas.concat instead.\n",
      "  df = df.append({\"URL\": url, \"SEO Score\": seo_score}, ignore_index=True) #type: ignore\n",
      "C:\\Users\\Harsh Clean\\AppData\\Local\\Temp\\ipykernel_19596\\4121438589.py:3: FutureWarning: The frame.append method is deprecated and will be removed from pandas in a future version. Use pandas.concat instead.\n",
      "  df = df.append({\"URL\": url, \"SEO Score\": seo_score}, ignore_index=True) #type: ignore\n",
      "C:\\Users\\Harsh Clean\\AppData\\Local\\Temp\\ipykernel_19596\\4121438589.py:3: FutureWarning: The frame.append method is deprecated and will be removed from pandas in a future version. Use pandas.concat instead.\n",
      "  df = df.append({\"URL\": url, \"SEO Score\": seo_score}, ignore_index=True) #type: ignore\n",
      "C:\\Users\\Harsh Clean\\AppData\\Local\\Temp\\ipykernel_19596\\4121438589.py:3: FutureWarning: The frame.append method is deprecated and will be removed from pandas in a future version. Use pandas.concat instead.\n",
      "  df = df.append({\"URL\": url, \"SEO Score\": seo_score}, ignore_index=True) #type: ignore\n",
      "C:\\Users\\Harsh Clean\\AppData\\Local\\Temp\\ipykernel_19596\\4121438589.py:3: FutureWarning: The frame.append method is deprecated and will be removed from pandas in a future version. Use pandas.concat instead.\n",
      "  df = df.append({\"URL\": url, \"SEO Score\": seo_score}, ignore_index=True) #type: ignore\n",
      "C:\\Users\\Harsh Clean\\AppData\\Local\\Temp\\ipykernel_19596\\4121438589.py:3: FutureWarning: The frame.append method is deprecated and will be removed from pandas in a future version. Use pandas.concat instead.\n",
      "  df = df.append({\"URL\": url, \"SEO Score\": seo_score}, ignore_index=True) #type: ignore\n",
      "C:\\Users\\Harsh Clean\\AppData\\Local\\Temp\\ipykernel_19596\\4121438589.py:3: FutureWarning: The frame.append method is deprecated and will be removed from pandas in a future version. Use pandas.concat instead.\n",
      "  df = df.append({\"URL\": url, \"SEO Score\": seo_score}, ignore_index=True) #type: ignore\n",
      "C:\\Users\\Harsh Clean\\AppData\\Local\\Temp\\ipykernel_19596\\4121438589.py:3: FutureWarning: The frame.append method is deprecated and will be removed from pandas in a future version. Use pandas.concat instead.\n",
      "  df = df.append({\"URL\": url, \"SEO Score\": seo_score}, ignore_index=True) #type: ignore\n",
      "C:\\Users\\Harsh Clean\\AppData\\Local\\Temp\\ipykernel_19596\\4121438589.py:3: FutureWarning: The frame.append method is deprecated and will be removed from pandas in a future version. Use pandas.concat instead.\n",
      "  df = df.append({\"URL\": url, \"SEO Score\": seo_score}, ignore_index=True) #type: ignore\n",
      "C:\\Users\\Harsh Clean\\AppData\\Local\\Temp\\ipykernel_19596\\4121438589.py:3: FutureWarning: The frame.append method is deprecated and will be removed from pandas in a future version. Use pandas.concat instead.\n",
      "  df = df.append({\"URL\": url, \"SEO Score\": seo_score}, ignore_index=True) #type: ignore\n",
      "C:\\Users\\Harsh Clean\\AppData\\Local\\Temp\\ipykernel_19596\\4121438589.py:3: FutureWarning: The frame.append method is deprecated and will be removed from pandas in a future version. Use pandas.concat instead.\n",
      "  df = df.append({\"URL\": url, \"SEO Score\": seo_score}, ignore_index=True) #type: ignore\n",
      "C:\\Users\\Harsh Clean\\AppData\\Local\\Temp\\ipykernel_19596\\4121438589.py:3: FutureWarning: The frame.append method is deprecated and will be removed from pandas in a future version. Use pandas.concat instead.\n",
      "  df = df.append({\"URL\": url, \"SEO Score\": seo_score}, ignore_index=True) #type: ignore\n",
      "C:\\Users\\Harsh Clean\\AppData\\Local\\Temp\\ipykernel_19596\\4121438589.py:3: FutureWarning: The frame.append method is deprecated and will be removed from pandas in a future version. Use pandas.concat instead.\n",
      "  df = df.append({\"URL\": url, \"SEO Score\": seo_score}, ignore_index=True) #type: ignore\n",
      "C:\\Users\\Harsh Clean\\AppData\\Local\\Temp\\ipykernel_19596\\4121438589.py:3: FutureWarning: The frame.append method is deprecated and will be removed from pandas in a future version. Use pandas.concat instead.\n",
      "  df = df.append({\"URL\": url, \"SEO Score\": seo_score}, ignore_index=True) #type: ignore\n",
      "C:\\Users\\Harsh Clean\\AppData\\Local\\Temp\\ipykernel_19596\\4121438589.py:3: FutureWarning: The frame.append method is deprecated and will be removed from pandas in a future version. Use pandas.concat instead.\n",
      "  df = df.append({\"URL\": url, \"SEO Score\": seo_score}, ignore_index=True) #type: ignore\n",
      "C:\\Users\\Harsh Clean\\AppData\\Local\\Temp\\ipykernel_19596\\4121438589.py:3: FutureWarning: The frame.append method is deprecated and will be removed from pandas in a future version. Use pandas.concat instead.\n",
      "  df = df.append({\"URL\": url, \"SEO Score\": seo_score}, ignore_index=True) #type: ignore\n",
      "C:\\Users\\Harsh Clean\\AppData\\Local\\Temp\\ipykernel_19596\\4121438589.py:3: FutureWarning: The frame.append method is deprecated and will be removed from pandas in a future version. Use pandas.concat instead.\n",
      "  df = df.append({\"URL\": url, \"SEO Score\": seo_score}, ignore_index=True) #type: ignore\n",
      "C:\\Users\\Harsh Clean\\AppData\\Local\\Temp\\ipykernel_19596\\4121438589.py:3: FutureWarning: The frame.append method is deprecated and will be removed from pandas in a future version. Use pandas.concat instead.\n",
      "  df = df.append({\"URL\": url, \"SEO Score\": seo_score}, ignore_index=True) #type: ignore\n",
      "C:\\Users\\Harsh Clean\\AppData\\Local\\Temp\\ipykernel_19596\\4121438589.py:3: FutureWarning: The frame.append method is deprecated and will be removed from pandas in a future version. Use pandas.concat instead.\n",
      "  df = df.append({\"URL\": url, \"SEO Score\": seo_score}, ignore_index=True) #type: ignore\n",
      "C:\\Users\\Harsh Clean\\AppData\\Local\\Temp\\ipykernel_19596\\4121438589.py:3: FutureWarning: The frame.append method is deprecated and will be removed from pandas in a future version. Use pandas.concat instead.\n",
      "  df = df.append({\"URL\": url, \"SEO Score\": seo_score}, ignore_index=True) #type: ignore\n",
      "C:\\Users\\Harsh Clean\\AppData\\Local\\Temp\\ipykernel_19596\\4121438589.py:3: FutureWarning: The frame.append method is deprecated and will be removed from pandas in a future version. Use pandas.concat instead.\n",
      "  df = df.append({\"URL\": url, \"SEO Score\": seo_score}, ignore_index=True) #type: ignore\n",
      "C:\\Users\\Harsh Clean\\AppData\\Local\\Temp\\ipykernel_19596\\4121438589.py:3: FutureWarning: The frame.append method is deprecated and will be removed from pandas in a future version. Use pandas.concat instead.\n",
      "  df = df.append({\"URL\": url, \"SEO Score\": seo_score}, ignore_index=True) #type: ignore\n",
      "C:\\Users\\Harsh Clean\\AppData\\Local\\Temp\\ipykernel_19596\\4121438589.py:3: FutureWarning: The frame.append method is deprecated and will be removed from pandas in a future version. Use pandas.concat instead.\n",
      "  df = df.append({\"URL\": url, \"SEO Score\": seo_score}, ignore_index=True) #type: ignore\n",
      "C:\\Users\\Harsh Clean\\AppData\\Local\\Temp\\ipykernel_19596\\4121438589.py:3: FutureWarning: The frame.append method is deprecated and will be removed from pandas in a future version. Use pandas.concat instead.\n",
      "  df = df.append({\"URL\": url, \"SEO Score\": seo_score}, ignore_index=True) #type: ignore\n",
      "C:\\Users\\Harsh Clean\\AppData\\Local\\Temp\\ipykernel_19596\\4121438589.py:3: FutureWarning: The frame.append method is deprecated and will be removed from pandas in a future version. Use pandas.concat instead.\n",
      "  df = df.append({\"URL\": url, \"SEO Score\": seo_score}, ignore_index=True) #type: ignore\n",
      "C:\\Users\\Harsh Clean\\AppData\\Local\\Temp\\ipykernel_19596\\4121438589.py:3: FutureWarning: The frame.append method is deprecated and will be removed from pandas in a future version. Use pandas.concat instead.\n",
      "  df = df.append({\"URL\": url, \"SEO Score\": seo_score}, ignore_index=True) #type: ignore\n",
      "C:\\Users\\Harsh Clean\\AppData\\Local\\Temp\\ipykernel_19596\\4121438589.py:3: FutureWarning: The frame.append method is deprecated and will be removed from pandas in a future version. Use pandas.concat instead.\n",
      "  df = df.append({\"URL\": url, \"SEO Score\": seo_score}, ignore_index=True) #type: ignore\n",
      "C:\\Users\\Harsh Clean\\AppData\\Local\\Temp\\ipykernel_19596\\4121438589.py:3: FutureWarning: The frame.append method is deprecated and will be removed from pandas in a future version. Use pandas.concat instead.\n",
      "  df = df.append({\"URL\": url, \"SEO Score\": seo_score}, ignore_index=True) #type: ignore\n",
      "C:\\Users\\Harsh Clean\\AppData\\Local\\Temp\\ipykernel_19596\\4121438589.py:3: FutureWarning: The frame.append method is deprecated and will be removed from pandas in a future version. Use pandas.concat instead.\n",
      "  df = df.append({\"URL\": url, \"SEO Score\": seo_score}, ignore_index=True) #type: ignore\n",
      "C:\\Users\\Harsh Clean\\AppData\\Local\\Temp\\ipykernel_19596\\4121438589.py:3: FutureWarning: The frame.append method is deprecated and will be removed from pandas in a future version. Use pandas.concat instead.\n",
      "  df = df.append({\"URL\": url, \"SEO Score\": seo_score}, ignore_index=True) #type: ignore\n",
      "C:\\Users\\Harsh Clean\\AppData\\Local\\Temp\\ipykernel_19596\\4121438589.py:3: FutureWarning: The frame.append method is deprecated and will be removed from pandas in a future version. Use pandas.concat instead.\n",
      "  df = df.append({\"URL\": url, \"SEO Score\": seo_score}, ignore_index=True) #type: ignore\n",
      "C:\\Users\\Harsh Clean\\AppData\\Local\\Temp\\ipykernel_19596\\4121438589.py:3: FutureWarning: The frame.append method is deprecated and will be removed from pandas in a future version. Use pandas.concat instead.\n",
      "  df = df.append({\"URL\": url, \"SEO Score\": seo_score}, ignore_index=True) #type: ignore\n",
      "C:\\Users\\Harsh Clean\\AppData\\Local\\Temp\\ipykernel_19596\\4121438589.py:3: FutureWarning: The frame.append method is deprecated and will be removed from pandas in a future version. Use pandas.concat instead.\n",
      "  df = df.append({\"URL\": url, \"SEO Score\": seo_score}, ignore_index=True) #type: ignore\n",
      "C:\\Users\\Harsh Clean\\AppData\\Local\\Temp\\ipykernel_19596\\4121438589.py:3: FutureWarning: The frame.append method is deprecated and will be removed from pandas in a future version. Use pandas.concat instead.\n",
      "  df = df.append({\"URL\": url, \"SEO Score\": seo_score}, ignore_index=True) #type: ignore\n",
      "C:\\Users\\Harsh Clean\\AppData\\Local\\Temp\\ipykernel_19596\\4121438589.py:3: FutureWarning: The frame.append method is deprecated and will be removed from pandas in a future version. Use pandas.concat instead.\n",
      "  df = df.append({\"URL\": url, \"SEO Score\": seo_score}, ignore_index=True) #type: ignore\n",
      "C:\\Users\\Harsh Clean\\AppData\\Local\\Temp\\ipykernel_19596\\4121438589.py:3: FutureWarning: The frame.append method is deprecated and will be removed from pandas in a future version. Use pandas.concat instead.\n",
      "  df = df.append({\"URL\": url, \"SEO Score\": seo_score}, ignore_index=True) #type: ignore\n",
      "C:\\Users\\Harsh Clean\\AppData\\Local\\Temp\\ipykernel_19596\\4121438589.py:3: FutureWarning: The frame.append method is deprecated and will be removed from pandas in a future version. Use pandas.concat instead.\n",
      "  df = df.append({\"URL\": url, \"SEO Score\": seo_score}, ignore_index=True) #type: ignore\n",
      "C:\\Users\\Harsh Clean\\AppData\\Local\\Temp\\ipykernel_19596\\4121438589.py:3: FutureWarning: The frame.append method is deprecated and will be removed from pandas in a future version. Use pandas.concat instead.\n",
      "  df = df.append({\"URL\": url, \"SEO Score\": seo_score}, ignore_index=True) #type: ignore\n",
      "C:\\Users\\Harsh Clean\\AppData\\Local\\Temp\\ipykernel_19596\\4121438589.py:3: FutureWarning: The frame.append method is deprecated and will be removed from pandas in a future version. Use pandas.concat instead.\n",
      "  df = df.append({\"URL\": url, \"SEO Score\": seo_score}, ignore_index=True) #type: ignore\n",
      "C:\\Users\\Harsh Clean\\AppData\\Local\\Temp\\ipykernel_19596\\4121438589.py:3: FutureWarning: The frame.append method is deprecated and will be removed from pandas in a future version. Use pandas.concat instead.\n",
      "  df = df.append({\"URL\": url, \"SEO Score\": seo_score}, ignore_index=True) #type: ignore\n",
      "C:\\Users\\Harsh Clean\\AppData\\Local\\Temp\\ipykernel_19596\\4121438589.py:3: FutureWarning: The frame.append method is deprecated and will be removed from pandas in a future version. Use pandas.concat instead.\n",
      "  df = df.append({\"URL\": url, \"SEO Score\": seo_score}, ignore_index=True) #type: ignore\n",
      "C:\\Users\\Harsh Clean\\AppData\\Local\\Temp\\ipykernel_19596\\4121438589.py:3: FutureWarning: The frame.append method is deprecated and will be removed from pandas in a future version. Use pandas.concat instead.\n",
      "  df = df.append({\"URL\": url, \"SEO Score\": seo_score}, ignore_index=True) #type: ignore\n",
      "C:\\Users\\Harsh Clean\\AppData\\Local\\Temp\\ipykernel_19596\\4121438589.py:3: FutureWarning: The frame.append method is deprecated and will be removed from pandas in a future version. Use pandas.concat instead.\n",
      "  df = df.append({\"URL\": url, \"SEO Score\": seo_score}, ignore_index=True) #type: ignore\n",
      "C:\\Users\\Harsh Clean\\AppData\\Local\\Temp\\ipykernel_19596\\4121438589.py:3: FutureWarning: The frame.append method is deprecated and will be removed from pandas in a future version. Use pandas.concat instead.\n",
      "  df = df.append({\"URL\": url, \"SEO Score\": seo_score}, ignore_index=True) #type: ignore\n",
      "C:\\Users\\Harsh Clean\\AppData\\Local\\Temp\\ipykernel_19596\\4121438589.py:3: FutureWarning: The frame.append method is deprecated and will be removed from pandas in a future version. Use pandas.concat instead.\n",
      "  df = df.append({\"URL\": url, \"SEO Score\": seo_score}, ignore_index=True) #type: ignore\n",
      "C:\\Users\\Harsh Clean\\AppData\\Local\\Temp\\ipykernel_19596\\4121438589.py:3: FutureWarning: The frame.append method is deprecated and will be removed from pandas in a future version. Use pandas.concat instead.\n",
      "  df = df.append({\"URL\": url, \"SEO Score\": seo_score}, ignore_index=True) #type: ignore\n",
      "C:\\Users\\Harsh Clean\\AppData\\Local\\Temp\\ipykernel_19596\\4121438589.py:3: FutureWarning: The frame.append method is deprecated and will be removed from pandas in a future version. Use pandas.concat instead.\n",
      "  df = df.append({\"URL\": url, \"SEO Score\": seo_score}, ignore_index=True) #type: ignore\n",
      "C:\\Users\\Harsh Clean\\AppData\\Local\\Temp\\ipykernel_19596\\4121438589.py:3: FutureWarning: The frame.append method is deprecated and will be removed from pandas in a future version. Use pandas.concat instead.\n",
      "  df = df.append({\"URL\": url, \"SEO Score\": seo_score}, ignore_index=True) #type: ignore\n",
      "C:\\Users\\Harsh Clean\\AppData\\Local\\Temp\\ipykernel_19596\\4121438589.py:3: FutureWarning: The frame.append method is deprecated and will be removed from pandas in a future version. Use pandas.concat instead.\n",
      "  df = df.append({\"URL\": url, \"SEO Score\": seo_score}, ignore_index=True) #type: ignore\n",
      "C:\\Users\\Harsh Clean\\AppData\\Local\\Temp\\ipykernel_19596\\4121438589.py:3: FutureWarning: The frame.append method is deprecated and will be removed from pandas in a future version. Use pandas.concat instead.\n",
      "  df = df.append({\"URL\": url, \"SEO Score\": seo_score}, ignore_index=True) #type: ignore\n",
      "C:\\Users\\Harsh Clean\\AppData\\Local\\Temp\\ipykernel_19596\\4121438589.py:3: FutureWarning: The frame.append method is deprecated and will be removed from pandas in a future version. Use pandas.concat instead.\n",
      "  df = df.append({\"URL\": url, \"SEO Score\": seo_score}, ignore_index=True) #type: ignore\n",
      "C:\\Users\\Harsh Clean\\AppData\\Local\\Temp\\ipykernel_19596\\4121438589.py:3: FutureWarning: The frame.append method is deprecated and will be removed from pandas in a future version. Use pandas.concat instead.\n",
      "  df = df.append({\"URL\": url, \"SEO Score\": seo_score}, ignore_index=True) #type: ignore\n",
      "C:\\Users\\Harsh Clean\\AppData\\Local\\Temp\\ipykernel_19596\\4121438589.py:3: FutureWarning: The frame.append method is deprecated and will be removed from pandas in a future version. Use pandas.concat instead.\n",
      "  df = df.append({\"URL\": url, \"SEO Score\": seo_score}, ignore_index=True) #type: ignore\n",
      "C:\\Users\\Harsh Clean\\AppData\\Local\\Temp\\ipykernel_19596\\4121438589.py:3: FutureWarning: The frame.append method is deprecated and will be removed from pandas in a future version. Use pandas.concat instead.\n",
      "  df = df.append({\"URL\": url, \"SEO Score\": seo_score}, ignore_index=True) #type: ignore\n",
      "C:\\Users\\Harsh Clean\\AppData\\Local\\Temp\\ipykernel_19596\\4121438589.py:3: FutureWarning: The frame.append method is deprecated and will be removed from pandas in a future version. Use pandas.concat instead.\n",
      "  df = df.append({\"URL\": url, \"SEO Score\": seo_score}, ignore_index=True) #type: ignore\n",
      "C:\\Users\\Harsh Clean\\AppData\\Local\\Temp\\ipykernel_19596\\4121438589.py:3: FutureWarning: The frame.append method is deprecated and will be removed from pandas in a future version. Use pandas.concat instead.\n",
      "  df = df.append({\"URL\": url, \"SEO Score\": seo_score}, ignore_index=True) #type: ignore\n",
      "C:\\Users\\Harsh Clean\\AppData\\Local\\Temp\\ipykernel_19596\\4121438589.py:3: FutureWarning: The frame.append method is deprecated and will be removed from pandas in a future version. Use pandas.concat instead.\n",
      "  df = df.append({\"URL\": url, \"SEO Score\": seo_score}, ignore_index=True) #type: ignore\n",
      "C:\\Users\\Harsh Clean\\AppData\\Local\\Temp\\ipykernel_19596\\4121438589.py:3: FutureWarning: The frame.append method is deprecated and will be removed from pandas in a future version. Use pandas.concat instead.\n",
      "  df = df.append({\"URL\": url, \"SEO Score\": seo_score}, ignore_index=True) #type: ignore\n",
      "C:\\Users\\Harsh Clean\\AppData\\Local\\Temp\\ipykernel_19596\\4121438589.py:3: FutureWarning: The frame.append method is deprecated and will be removed from pandas in a future version. Use pandas.concat instead.\n",
      "  df = df.append({\"URL\": url, \"SEO Score\": seo_score}, ignore_index=True) #type: ignore\n",
      "C:\\Users\\Harsh Clean\\AppData\\Local\\Temp\\ipykernel_19596\\4121438589.py:3: FutureWarning: The frame.append method is deprecated and will be removed from pandas in a future version. Use pandas.concat instead.\n",
      "  df = df.append({\"URL\": url, \"SEO Score\": seo_score}, ignore_index=True) #type: ignore\n",
      "C:\\Users\\Harsh Clean\\AppData\\Local\\Temp\\ipykernel_19596\\4121438589.py:3: FutureWarning: The frame.append method is deprecated and will be removed from pandas in a future version. Use pandas.concat instead.\n",
      "  df = df.append({\"URL\": url, \"SEO Score\": seo_score}, ignore_index=True) #type: ignore\n",
      "C:\\Users\\Harsh Clean\\AppData\\Local\\Temp\\ipykernel_19596\\4121438589.py:3: FutureWarning: The frame.append method is deprecated and will be removed from pandas in a future version. Use pandas.concat instead.\n",
      "  df = df.append({\"URL\": url, \"SEO Score\": seo_score}, ignore_index=True) #type: ignore\n",
      "C:\\Users\\Harsh Clean\\AppData\\Local\\Temp\\ipykernel_19596\\4121438589.py:3: FutureWarning: The frame.append method is deprecated and will be removed from pandas in a future version. Use pandas.concat instead.\n",
      "  df = df.append({\"URL\": url, \"SEO Score\": seo_score}, ignore_index=True) #type: ignore\n",
      "C:\\Users\\Harsh Clean\\AppData\\Local\\Temp\\ipykernel_19596\\4121438589.py:3: FutureWarning: The frame.append method is deprecated and will be removed from pandas in a future version. Use pandas.concat instead.\n",
      "  df = df.append({\"URL\": url, \"SEO Score\": seo_score}, ignore_index=True) #type: ignore\n",
      "C:\\Users\\Harsh Clean\\AppData\\Local\\Temp\\ipykernel_19596\\4121438589.py:3: FutureWarning: The frame.append method is deprecated and will be removed from pandas in a future version. Use pandas.concat instead.\n",
      "  df = df.append({\"URL\": url, \"SEO Score\": seo_score}, ignore_index=True) #type: ignore\n",
      "C:\\Users\\Harsh Clean\\AppData\\Local\\Temp\\ipykernel_19596\\4121438589.py:3: FutureWarning: The frame.append method is deprecated and will be removed from pandas in a future version. Use pandas.concat instead.\n",
      "  df = df.append({\"URL\": url, \"SEO Score\": seo_score}, ignore_index=True) #type: ignore\n",
      "C:\\Users\\Harsh Clean\\AppData\\Local\\Temp\\ipykernel_19596\\4121438589.py:3: FutureWarning: The frame.append method is deprecated and will be removed from pandas in a future version. Use pandas.concat instead.\n",
      "  df = df.append({\"URL\": url, \"SEO Score\": seo_score}, ignore_index=True) #type: ignore\n",
      "C:\\Users\\Harsh Clean\\AppData\\Local\\Temp\\ipykernel_19596\\4121438589.py:3: FutureWarning: The frame.append method is deprecated and will be removed from pandas in a future version. Use pandas.concat instead.\n",
      "  df = df.append({\"URL\": url, \"SEO Score\": seo_score}, ignore_index=True) #type: ignore\n",
      "C:\\Users\\Harsh Clean\\AppData\\Local\\Temp\\ipykernel_19596\\4121438589.py:3: FutureWarning: The frame.append method is deprecated and will be removed from pandas in a future version. Use pandas.concat instead.\n",
      "  df = df.append({\"URL\": url, \"SEO Score\": seo_score}, ignore_index=True) #type: ignore\n",
      "C:\\Users\\Harsh Clean\\AppData\\Local\\Temp\\ipykernel_19596\\4121438589.py:3: FutureWarning: The frame.append method is deprecated and will be removed from pandas in a future version. Use pandas.concat instead.\n",
      "  df = df.append({\"URL\": url, \"SEO Score\": seo_score}, ignore_index=True) #type: ignore\n",
      "C:\\Users\\Harsh Clean\\AppData\\Local\\Temp\\ipykernel_19596\\4121438589.py:3: FutureWarning: The frame.append method is deprecated and will be removed from pandas in a future version. Use pandas.concat instead.\n",
      "  df = df.append({\"URL\": url, \"SEO Score\": seo_score}, ignore_index=True) #type: ignore\n",
      "C:\\Users\\Harsh Clean\\AppData\\Local\\Temp\\ipykernel_19596\\4121438589.py:3: FutureWarning: The frame.append method is deprecated and will be removed from pandas in a future version. Use pandas.concat instead.\n",
      "  df = df.append({\"URL\": url, \"SEO Score\": seo_score}, ignore_index=True) #type: ignore\n",
      "C:\\Users\\Harsh Clean\\AppData\\Local\\Temp\\ipykernel_19596\\4121438589.py:3: FutureWarning: The frame.append method is deprecated and will be removed from pandas in a future version. Use pandas.concat instead.\n",
      "  df = df.append({\"URL\": url, \"SEO Score\": seo_score}, ignore_index=True) #type: ignore\n",
      "C:\\Users\\Harsh Clean\\AppData\\Local\\Temp\\ipykernel_19596\\4121438589.py:3: FutureWarning: The frame.append method is deprecated and will be removed from pandas in a future version. Use pandas.concat instead.\n",
      "  df = df.append({\"URL\": url, \"SEO Score\": seo_score}, ignore_index=True) #type: ignore\n",
      "C:\\Users\\Harsh Clean\\AppData\\Local\\Temp\\ipykernel_19596\\4121438589.py:3: FutureWarning: The frame.append method is deprecated and will be removed from pandas in a future version. Use pandas.concat instead.\n",
      "  df = df.append({\"URL\": url, \"SEO Score\": seo_score}, ignore_index=True) #type: ignore\n",
      "C:\\Users\\Harsh Clean\\AppData\\Local\\Temp\\ipykernel_19596\\4121438589.py:3: FutureWarning: The frame.append method is deprecated and will be removed from pandas in a future version. Use pandas.concat instead.\n",
      "  df = df.append({\"URL\": url, \"SEO Score\": seo_score}, ignore_index=True) #type: ignore\n",
      "C:\\Users\\Harsh Clean\\AppData\\Local\\Temp\\ipykernel_19596\\4121438589.py:3: FutureWarning: The frame.append method is deprecated and will be removed from pandas in a future version. Use pandas.concat instead.\n",
      "  df = df.append({\"URL\": url, \"SEO Score\": seo_score}, ignore_index=True) #type: ignore\n",
      "C:\\Users\\Harsh Clean\\AppData\\Local\\Temp\\ipykernel_19596\\4121438589.py:3: FutureWarning: The frame.append method is deprecated and will be removed from pandas in a future version. Use pandas.concat instead.\n",
      "  df = df.append({\"URL\": url, \"SEO Score\": seo_score}, ignore_index=True) #type: ignore\n",
      "C:\\Users\\Harsh Clean\\AppData\\Local\\Temp\\ipykernel_19596\\4121438589.py:3: FutureWarning: The frame.append method is deprecated and will be removed from pandas in a future version. Use pandas.concat instead.\n",
      "  df = df.append({\"URL\": url, \"SEO Score\": seo_score}, ignore_index=True) #type: ignore\n",
      "C:\\Users\\Harsh Clean\\AppData\\Local\\Temp\\ipykernel_19596\\4121438589.py:3: FutureWarning: The frame.append method is deprecated and will be removed from pandas in a future version. Use pandas.concat instead.\n",
      "  df = df.append({\"URL\": url, \"SEO Score\": seo_score}, ignore_index=True) #type: ignore\n",
      "C:\\Users\\Harsh Clean\\AppData\\Local\\Temp\\ipykernel_19596\\4121438589.py:3: FutureWarning: The frame.append method is deprecated and will be removed from pandas in a future version. Use pandas.concat instead.\n",
      "  df = df.append({\"URL\": url, \"SEO Score\": seo_score}, ignore_index=True) #type: ignore\n",
      "C:\\Users\\Harsh Clean\\AppData\\Local\\Temp\\ipykernel_19596\\4121438589.py:3: FutureWarning: The frame.append method is deprecated and will be removed from pandas in a future version. Use pandas.concat instead.\n",
      "  df = df.append({\"URL\": url, \"SEO Score\": seo_score}, ignore_index=True) #type: ignore\n",
      "C:\\Users\\Harsh Clean\\AppData\\Local\\Temp\\ipykernel_19596\\4121438589.py:3: FutureWarning: The frame.append method is deprecated and will be removed from pandas in a future version. Use pandas.concat instead.\n",
      "  df = df.append({\"URL\": url, \"SEO Score\": seo_score}, ignore_index=True) #type: ignore\n",
      "C:\\Users\\Harsh Clean\\AppData\\Local\\Temp\\ipykernel_19596\\4121438589.py:3: FutureWarning: The frame.append method is deprecated and will be removed from pandas in a future version. Use pandas.concat instead.\n",
      "  df = df.append({\"URL\": url, \"SEO Score\": seo_score}, ignore_index=True) #type: ignore\n",
      "C:\\Users\\Harsh Clean\\AppData\\Local\\Temp\\ipykernel_19596\\4121438589.py:3: FutureWarning: The frame.append method is deprecated and will be removed from pandas in a future version. Use pandas.concat instead.\n",
      "  df = df.append({\"URL\": url, \"SEO Score\": seo_score}, ignore_index=True) #type: ignore\n",
      "C:\\Users\\Harsh Clean\\AppData\\Local\\Temp\\ipykernel_19596\\4121438589.py:3: FutureWarning: The frame.append method is deprecated and will be removed from pandas in a future version. Use pandas.concat instead.\n",
      "  df = df.append({\"URL\": url, \"SEO Score\": seo_score}, ignore_index=True) #type: ignore\n",
      "C:\\Users\\Harsh Clean\\AppData\\Local\\Temp\\ipykernel_19596\\4121438589.py:3: FutureWarning: The frame.append method is deprecated and will be removed from pandas in a future version. Use pandas.concat instead.\n",
      "  df = df.append({\"URL\": url, \"SEO Score\": seo_score}, ignore_index=True) #type: ignore\n",
      "C:\\Users\\Harsh Clean\\AppData\\Local\\Temp\\ipykernel_19596\\4121438589.py:3: FutureWarning: The frame.append method is deprecated and will be removed from pandas in a future version. Use pandas.concat instead.\n",
      "  df = df.append({\"URL\": url, \"SEO Score\": seo_score}, ignore_index=True) #type: ignore\n",
      "C:\\Users\\Harsh Clean\\AppData\\Local\\Temp\\ipykernel_19596\\4121438589.py:3: FutureWarning: The frame.append method is deprecated and will be removed from pandas in a future version. Use pandas.concat instead.\n",
      "  df = df.append({\"URL\": url, \"SEO Score\": seo_score}, ignore_index=True) #type: ignore\n",
      "C:\\Users\\Harsh Clean\\AppData\\Local\\Temp\\ipykernel_19596\\4121438589.py:3: FutureWarning: The frame.append method is deprecated and will be removed from pandas in a future version. Use pandas.concat instead.\n",
      "  df = df.append({\"URL\": url, \"SEO Score\": seo_score}, ignore_index=True) #type: ignore\n",
      "C:\\Users\\Harsh Clean\\AppData\\Local\\Temp\\ipykernel_19596\\4121438589.py:3: FutureWarning: The frame.append method is deprecated and will be removed from pandas in a future version. Use pandas.concat instead.\n",
      "  df = df.append({\"URL\": url, \"SEO Score\": seo_score}, ignore_index=True) #type: ignore\n",
      "C:\\Users\\Harsh Clean\\AppData\\Local\\Temp\\ipykernel_19596\\4121438589.py:3: FutureWarning: The frame.append method is deprecated and will be removed from pandas in a future version. Use pandas.concat instead.\n",
      "  df = df.append({\"URL\": url, \"SEO Score\": seo_score}, ignore_index=True) #type: ignore\n",
      "C:\\Users\\Harsh Clean\\AppData\\Local\\Temp\\ipykernel_19596\\4121438589.py:3: FutureWarning: The frame.append method is deprecated and will be removed from pandas in a future version. Use pandas.concat instead.\n",
      "  df = df.append({\"URL\": url, \"SEO Score\": seo_score}, ignore_index=True) #type: ignore\n",
      "C:\\Users\\Harsh Clean\\AppData\\Local\\Temp\\ipykernel_19596\\4121438589.py:3: FutureWarning: The frame.append method is deprecated and will be removed from pandas in a future version. Use pandas.concat instead.\n",
      "  df = df.append({\"URL\": url, \"SEO Score\": seo_score}, ignore_index=True) #type: ignore\n",
      "C:\\Users\\Harsh Clean\\AppData\\Local\\Temp\\ipykernel_19596\\4121438589.py:3: FutureWarning: The frame.append method is deprecated and will be removed from pandas in a future version. Use pandas.concat instead.\n",
      "  df = df.append({\"URL\": url, \"SEO Score\": seo_score}, ignore_index=True) #type: ignore\n",
      "C:\\Users\\Harsh Clean\\AppData\\Local\\Temp\\ipykernel_19596\\4121438589.py:3: FutureWarning: The frame.append method is deprecated and will be removed from pandas in a future version. Use pandas.concat instead.\n",
      "  df = df.append({\"URL\": url, \"SEO Score\": seo_score}, ignore_index=True) #type: ignore\n",
      "C:\\Users\\Harsh Clean\\AppData\\Local\\Temp\\ipykernel_19596\\4121438589.py:3: FutureWarning: The frame.append method is deprecated and will be removed from pandas in a future version. Use pandas.concat instead.\n",
      "  df = df.append({\"URL\": url, \"SEO Score\": seo_score}, ignore_index=True) #type: ignore\n",
      "C:\\Users\\Harsh Clean\\AppData\\Local\\Temp\\ipykernel_19596\\4121438589.py:3: FutureWarning: The frame.append method is deprecated and will be removed from pandas in a future version. Use pandas.concat instead.\n",
      "  df = df.append({\"URL\": url, \"SEO Score\": seo_score}, ignore_index=True) #type: ignore\n",
      "C:\\Users\\Harsh Clean\\AppData\\Local\\Temp\\ipykernel_19596\\4121438589.py:3: FutureWarning: The frame.append method is deprecated and will be removed from pandas in a future version. Use pandas.concat instead.\n",
      "  df = df.append({\"URL\": url, \"SEO Score\": seo_score}, ignore_index=True) #type: ignore\n",
      "C:\\Users\\Harsh Clean\\AppData\\Local\\Temp\\ipykernel_19596\\4121438589.py:3: FutureWarning: The frame.append method is deprecated and will be removed from pandas in a future version. Use pandas.concat instead.\n",
      "  df = df.append({\"URL\": url, \"SEO Score\": seo_score}, ignore_index=True) #type: ignore\n",
      "C:\\Users\\Harsh Clean\\AppData\\Local\\Temp\\ipykernel_19596\\4121438589.py:3: FutureWarning: The frame.append method is deprecated and will be removed from pandas in a future version. Use pandas.concat instead.\n",
      "  df = df.append({\"URL\": url, \"SEO Score\": seo_score}, ignore_index=True) #type: ignore\n",
      "C:\\Users\\Harsh Clean\\AppData\\Local\\Temp\\ipykernel_19596\\4121438589.py:3: FutureWarning: The frame.append method is deprecated and will be removed from pandas in a future version. Use pandas.concat instead.\n",
      "  df = df.append({\"URL\": url, \"SEO Score\": seo_score}, ignore_index=True) #type: ignore\n",
      "C:\\Users\\Harsh Clean\\AppData\\Local\\Temp\\ipykernel_19596\\4121438589.py:3: FutureWarning: The frame.append method is deprecated and will be removed from pandas in a future version. Use pandas.concat instead.\n",
      "  df = df.append({\"URL\": url, \"SEO Score\": seo_score}, ignore_index=True) #type: ignore\n",
      "C:\\Users\\Harsh Clean\\AppData\\Local\\Temp\\ipykernel_19596\\4121438589.py:3: FutureWarning: The frame.append method is deprecated and will be removed from pandas in a future version. Use pandas.concat instead.\n",
      "  df = df.append({\"URL\": url, \"SEO Score\": seo_score}, ignore_index=True) #type: ignore\n",
      "C:\\Users\\Harsh Clean\\AppData\\Local\\Temp\\ipykernel_19596\\4121438589.py:3: FutureWarning: The frame.append method is deprecated and will be removed from pandas in a future version. Use pandas.concat instead.\n",
      "  df = df.append({\"URL\": url, \"SEO Score\": seo_score}, ignore_index=True) #type: ignore\n",
      "C:\\Users\\Harsh Clean\\AppData\\Local\\Temp\\ipykernel_19596\\4121438589.py:3: FutureWarning: The frame.append method is deprecated and will be removed from pandas in a future version. Use pandas.concat instead.\n",
      "  df = df.append({\"URL\": url, \"SEO Score\": seo_score}, ignore_index=True) #type: ignore\n",
      "C:\\Users\\Harsh Clean\\AppData\\Local\\Temp\\ipykernel_19596\\4121438589.py:3: FutureWarning: The frame.append method is deprecated and will be removed from pandas in a future version. Use pandas.concat instead.\n",
      "  df = df.append({\"URL\": url, \"SEO Score\": seo_score}, ignore_index=True) #type: ignore\n",
      "C:\\Users\\Harsh Clean\\AppData\\Local\\Temp\\ipykernel_19596\\4121438589.py:3: FutureWarning: The frame.append method is deprecated and will be removed from pandas in a future version. Use pandas.concat instead.\n",
      "  df = df.append({\"URL\": url, \"SEO Score\": seo_score}, ignore_index=True) #type: ignore\n",
      "C:\\Users\\Harsh Clean\\AppData\\Local\\Temp\\ipykernel_19596\\4121438589.py:3: FutureWarning: The frame.append method is deprecated and will be removed from pandas in a future version. Use pandas.concat instead.\n",
      "  df = df.append({\"URL\": url, \"SEO Score\": seo_score}, ignore_index=True) #type: ignore\n",
      "C:\\Users\\Harsh Clean\\AppData\\Local\\Temp\\ipykernel_19596\\4121438589.py:3: FutureWarning: The frame.append method is deprecated and will be removed from pandas in a future version. Use pandas.concat instead.\n",
      "  df = df.append({\"URL\": url, \"SEO Score\": seo_score}, ignore_index=True) #type: ignore\n",
      "C:\\Users\\Harsh Clean\\AppData\\Local\\Temp\\ipykernel_19596\\4121438589.py:3: FutureWarning: The frame.append method is deprecated and will be removed from pandas in a future version. Use pandas.concat instead.\n",
      "  df = df.append({\"URL\": url, \"SEO Score\": seo_score}, ignore_index=True) #type: ignore\n",
      "C:\\Users\\Harsh Clean\\AppData\\Local\\Temp\\ipykernel_19596\\4121438589.py:3: FutureWarning: The frame.append method is deprecated and will be removed from pandas in a future version. Use pandas.concat instead.\n",
      "  df = df.append({\"URL\": url, \"SEO Score\": seo_score}, ignore_index=True) #type: ignore\n",
      "C:\\Users\\Harsh Clean\\AppData\\Local\\Temp\\ipykernel_19596\\4121438589.py:3: FutureWarning: The frame.append method is deprecated and will be removed from pandas in a future version. Use pandas.concat instead.\n",
      "  df = df.append({\"URL\": url, \"SEO Score\": seo_score}, ignore_index=True) #type: ignore\n",
      "C:\\Users\\Harsh Clean\\AppData\\Local\\Temp\\ipykernel_19596\\4121438589.py:3: FutureWarning: The frame.append method is deprecated and will be removed from pandas in a future version. Use pandas.concat instead.\n",
      "  df = df.append({\"URL\": url, \"SEO Score\": seo_score}, ignore_index=True) #type: ignore\n",
      "C:\\Users\\Harsh Clean\\AppData\\Local\\Temp\\ipykernel_19596\\4121438589.py:3: FutureWarning: The frame.append method is deprecated and will be removed from pandas in a future version. Use pandas.concat instead.\n",
      "  df = df.append({\"URL\": url, \"SEO Score\": seo_score}, ignore_index=True) #type: ignore\n",
      "C:\\Users\\Harsh Clean\\AppData\\Local\\Temp\\ipykernel_19596\\4121438589.py:3: FutureWarning: The frame.append method is deprecated and will be removed from pandas in a future version. Use pandas.concat instead.\n",
      "  df = df.append({\"URL\": url, \"SEO Score\": seo_score}, ignore_index=True) #type: ignore\n",
      "C:\\Users\\Harsh Clean\\AppData\\Local\\Temp\\ipykernel_19596\\4121438589.py:3: FutureWarning: The frame.append method is deprecated and will be removed from pandas in a future version. Use pandas.concat instead.\n",
      "  df = df.append({\"URL\": url, \"SEO Score\": seo_score}, ignore_index=True) #type: ignore\n",
      "C:\\Users\\Harsh Clean\\AppData\\Local\\Temp\\ipykernel_19596\\4121438589.py:3: FutureWarning: The frame.append method is deprecated and will be removed from pandas in a future version. Use pandas.concat instead.\n",
      "  df = df.append({\"URL\": url, \"SEO Score\": seo_score}, ignore_index=True) #type: ignore\n",
      "C:\\Users\\Harsh Clean\\AppData\\Local\\Temp\\ipykernel_19596\\4121438589.py:3: FutureWarning: The frame.append method is deprecated and will be removed from pandas in a future version. Use pandas.concat instead.\n",
      "  df = df.append({\"URL\": url, \"SEO Score\": seo_score}, ignore_index=True) #type: ignore\n",
      "C:\\Users\\Harsh Clean\\AppData\\Local\\Temp\\ipykernel_19596\\4121438589.py:3: FutureWarning: The frame.append method is deprecated and will be removed from pandas in a future version. Use pandas.concat instead.\n",
      "  df = df.append({\"URL\": url, \"SEO Score\": seo_score}, ignore_index=True) #type: ignore\n",
      "C:\\Users\\Harsh Clean\\AppData\\Local\\Temp\\ipykernel_19596\\4121438589.py:3: FutureWarning: The frame.append method is deprecated and will be removed from pandas in a future version. Use pandas.concat instead.\n",
      "  df = df.append({\"URL\": url, \"SEO Score\": seo_score}, ignore_index=True) #type: ignore\n",
      "C:\\Users\\Harsh Clean\\AppData\\Local\\Temp\\ipykernel_19596\\4121438589.py:3: FutureWarning: The frame.append method is deprecated and will be removed from pandas in a future version. Use pandas.concat instead.\n",
      "  df = df.append({\"URL\": url, \"SEO Score\": seo_score}, ignore_index=True) #type: ignore\n",
      "C:\\Users\\Harsh Clean\\AppData\\Local\\Temp\\ipykernel_19596\\4121438589.py:3: FutureWarning: The frame.append method is deprecated and will be removed from pandas in a future version. Use pandas.concat instead.\n",
      "  df = df.append({\"URL\": url, \"SEO Score\": seo_score}, ignore_index=True) #type: ignore\n",
      "C:\\Users\\Harsh Clean\\AppData\\Local\\Temp\\ipykernel_19596\\4121438589.py:3: FutureWarning: The frame.append method is deprecated and will be removed from pandas in a future version. Use pandas.concat instead.\n",
      "  df = df.append({\"URL\": url, \"SEO Score\": seo_score}, ignore_index=True) #type: ignore\n",
      "C:\\Users\\Harsh Clean\\AppData\\Local\\Temp\\ipykernel_19596\\4121438589.py:3: FutureWarning: The frame.append method is deprecated and will be removed from pandas in a future version. Use pandas.concat instead.\n",
      "  df = df.append({\"URL\": url, \"SEO Score\": seo_score}, ignore_index=True) #type: ignore\n",
      "C:\\Users\\Harsh Clean\\AppData\\Local\\Temp\\ipykernel_19596\\4121438589.py:3: FutureWarning: The frame.append method is deprecated and will be removed from pandas in a future version. Use pandas.concat instead.\n",
      "  df = df.append({\"URL\": url, \"SEO Score\": seo_score}, ignore_index=True) #type: ignore\n",
      "C:\\Users\\Harsh Clean\\AppData\\Local\\Temp\\ipykernel_19596\\4121438589.py:3: FutureWarning: The frame.append method is deprecated and will be removed from pandas in a future version. Use pandas.concat instead.\n",
      "  df = df.append({\"URL\": url, \"SEO Score\": seo_score}, ignore_index=True) #type: ignore\n",
      "C:\\Users\\Harsh Clean\\AppData\\Local\\Temp\\ipykernel_19596\\4121438589.py:3: FutureWarning: The frame.append method is deprecated and will be removed from pandas in a future version. Use pandas.concat instead.\n",
      "  df = df.append({\"URL\": url, \"SEO Score\": seo_score}, ignore_index=True) #type: ignore\n",
      "C:\\Users\\Harsh Clean\\AppData\\Local\\Temp\\ipykernel_19596\\4121438589.py:3: FutureWarning: The frame.append method is deprecated and will be removed from pandas in a future version. Use pandas.concat instead.\n",
      "  df = df.append({\"URL\": url, \"SEO Score\": seo_score}, ignore_index=True) #type: ignore\n",
      "C:\\Users\\Harsh Clean\\AppData\\Local\\Temp\\ipykernel_19596\\4121438589.py:3: FutureWarning: The frame.append method is deprecated and will be removed from pandas in a future version. Use pandas.concat instead.\n",
      "  df = df.append({\"URL\": url, \"SEO Score\": seo_score}, ignore_index=True) #type: ignore\n",
      "C:\\Users\\Harsh Clean\\AppData\\Local\\Temp\\ipykernel_19596\\4121438589.py:3: FutureWarning: The frame.append method is deprecated and will be removed from pandas in a future version. Use pandas.concat instead.\n",
      "  df = df.append({\"URL\": url, \"SEO Score\": seo_score}, ignore_index=True) #type: ignore\n",
      "C:\\Users\\Harsh Clean\\AppData\\Local\\Temp\\ipykernel_19596\\4121438589.py:3: FutureWarning: The frame.append method is deprecated and will be removed from pandas in a future version. Use pandas.concat instead.\n",
      "  df = df.append({\"URL\": url, \"SEO Score\": seo_score}, ignore_index=True) #type: ignore\n",
      "C:\\Users\\Harsh Clean\\AppData\\Local\\Temp\\ipykernel_19596\\4121438589.py:3: FutureWarning: The frame.append method is deprecated and will be removed from pandas in a future version. Use pandas.concat instead.\n",
      "  df = df.append({\"URL\": url, \"SEO Score\": seo_score}, ignore_index=True) #type: ignore\n",
      "C:\\Users\\Harsh Clean\\AppData\\Local\\Temp\\ipykernel_19596\\4121438589.py:3: FutureWarning: The frame.append method is deprecated and will be removed from pandas in a future version. Use pandas.concat instead.\n",
      "  df = df.append({\"URL\": url, \"SEO Score\": seo_score}, ignore_index=True) #type: ignore\n",
      "C:\\Users\\Harsh Clean\\AppData\\Local\\Temp\\ipykernel_19596\\4121438589.py:3: FutureWarning: The frame.append method is deprecated and will be removed from pandas in a future version. Use pandas.concat instead.\n",
      "  df = df.append({\"URL\": url, \"SEO Score\": seo_score}, ignore_index=True) #type: ignore\n",
      "C:\\Users\\Harsh Clean\\AppData\\Local\\Temp\\ipykernel_19596\\4121438589.py:3: FutureWarning: The frame.append method is deprecated and will be removed from pandas in a future version. Use pandas.concat instead.\n",
      "  df = df.append({\"URL\": url, \"SEO Score\": seo_score}, ignore_index=True) #type: ignore\n",
      "C:\\Users\\Harsh Clean\\AppData\\Local\\Temp\\ipykernel_19596\\4121438589.py:3: FutureWarning: The frame.append method is deprecated and will be removed from pandas in a future version. Use pandas.concat instead.\n",
      "  df = df.append({\"URL\": url, \"SEO Score\": seo_score}, ignore_index=True) #type: ignore\n",
      "C:\\Users\\Harsh Clean\\AppData\\Local\\Temp\\ipykernel_19596\\4121438589.py:3: FutureWarning: The frame.append method is deprecated and will be removed from pandas in a future version. Use pandas.concat instead.\n",
      "  df = df.append({\"URL\": url, \"SEO Score\": seo_score}, ignore_index=True) #type: ignore\n",
      "C:\\Users\\Harsh Clean\\AppData\\Local\\Temp\\ipykernel_19596\\4121438589.py:3: FutureWarning: The frame.append method is deprecated and will be removed from pandas in a future version. Use pandas.concat instead.\n",
      "  df = df.append({\"URL\": url, \"SEO Score\": seo_score}, ignore_index=True) #type: ignore\n",
      "C:\\Users\\Harsh Clean\\AppData\\Local\\Temp\\ipykernel_19596\\4121438589.py:3: FutureWarning: The frame.append method is deprecated and will be removed from pandas in a future version. Use pandas.concat instead.\n",
      "  df = df.append({\"URL\": url, \"SEO Score\": seo_score}, ignore_index=True) #type: ignore\n",
      "C:\\Users\\Harsh Clean\\AppData\\Local\\Temp\\ipykernel_19596\\4121438589.py:3: FutureWarning: The frame.append method is deprecated and will be removed from pandas in a future version. Use pandas.concat instead.\n",
      "  df = df.append({\"URL\": url, \"SEO Score\": seo_score}, ignore_index=True) #type: ignore\n",
      "C:\\Users\\Harsh Clean\\AppData\\Local\\Temp\\ipykernel_19596\\4121438589.py:3: FutureWarning: The frame.append method is deprecated and will be removed from pandas in a future version. Use pandas.concat instead.\n",
      "  df = df.append({\"URL\": url, \"SEO Score\": seo_score}, ignore_index=True) #type: ignore\n",
      "C:\\Users\\Harsh Clean\\AppData\\Local\\Temp\\ipykernel_19596\\4121438589.py:3: FutureWarning: The frame.append method is deprecated and will be removed from pandas in a future version. Use pandas.concat instead.\n",
      "  df = df.append({\"URL\": url, \"SEO Score\": seo_score}, ignore_index=True) #type: ignore\n",
      "C:\\Users\\Harsh Clean\\AppData\\Local\\Temp\\ipykernel_19596\\4121438589.py:3: FutureWarning: The frame.append method is deprecated and will be removed from pandas in a future version. Use pandas.concat instead.\n",
      "  df = df.append({\"URL\": url, \"SEO Score\": seo_score}, ignore_index=True) #type: ignore\n",
      "C:\\Users\\Harsh Clean\\AppData\\Local\\Temp\\ipykernel_19596\\4121438589.py:3: FutureWarning: The frame.append method is deprecated and will be removed from pandas in a future version. Use pandas.concat instead.\n",
      "  df = df.append({\"URL\": url, \"SEO Score\": seo_score}, ignore_index=True) #type: ignore\n",
      "C:\\Users\\Harsh Clean\\AppData\\Local\\Temp\\ipykernel_19596\\4121438589.py:3: FutureWarning: The frame.append method is deprecated and will be removed from pandas in a future version. Use pandas.concat instead.\n",
      "  df = df.append({\"URL\": url, \"SEO Score\": seo_score}, ignore_index=True) #type: ignore\n",
      "C:\\Users\\Harsh Clean\\AppData\\Local\\Temp\\ipykernel_19596\\4121438589.py:3: FutureWarning: The frame.append method is deprecated and will be removed from pandas in a future version. Use pandas.concat instead.\n",
      "  df = df.append({\"URL\": url, \"SEO Score\": seo_score}, ignore_index=True) #type: ignore\n",
      "C:\\Users\\Harsh Clean\\AppData\\Local\\Temp\\ipykernel_19596\\4121438589.py:3: FutureWarning: The frame.append method is deprecated and will be removed from pandas in a future version. Use pandas.concat instead.\n",
      "  df = df.append({\"URL\": url, \"SEO Score\": seo_score}, ignore_index=True) #type: ignore\n",
      "C:\\Users\\Harsh Clean\\AppData\\Local\\Temp\\ipykernel_19596\\4121438589.py:3: FutureWarning: The frame.append method is deprecated and will be removed from pandas in a future version. Use pandas.concat instead.\n",
      "  df = df.append({\"URL\": url, \"SEO Score\": seo_score}, ignore_index=True) #type: ignore\n",
      "C:\\Users\\Harsh Clean\\AppData\\Local\\Temp\\ipykernel_19596\\4121438589.py:3: FutureWarning: The frame.append method is deprecated and will be removed from pandas in a future version. Use pandas.concat instead.\n",
      "  df = df.append({\"URL\": url, \"SEO Score\": seo_score}, ignore_index=True) #type: ignore\n",
      "C:\\Users\\Harsh Clean\\AppData\\Local\\Temp\\ipykernel_19596\\4121438589.py:3: FutureWarning: The frame.append method is deprecated and will be removed from pandas in a future version. Use pandas.concat instead.\n",
      "  df = df.append({\"URL\": url, \"SEO Score\": seo_score}, ignore_index=True) #type: ignore\n",
      "C:\\Users\\Harsh Clean\\AppData\\Local\\Temp\\ipykernel_19596\\4121438589.py:3: FutureWarning: The frame.append method is deprecated and will be removed from pandas in a future version. Use pandas.concat instead.\n",
      "  df = df.append({\"URL\": url, \"SEO Score\": seo_score}, ignore_index=True) #type: ignore\n",
      "C:\\Users\\Harsh Clean\\AppData\\Local\\Temp\\ipykernel_19596\\4121438589.py:3: FutureWarning: The frame.append method is deprecated and will be removed from pandas in a future version. Use pandas.concat instead.\n",
      "  df = df.append({\"URL\": url, \"SEO Score\": seo_score}, ignore_index=True) #type: ignore\n",
      "C:\\Users\\Harsh Clean\\AppData\\Local\\Temp\\ipykernel_19596\\4121438589.py:3: FutureWarning: The frame.append method is deprecated and will be removed from pandas in a future version. Use pandas.concat instead.\n",
      "  df = df.append({\"URL\": url, \"SEO Score\": seo_score}, ignore_index=True) #type: ignore\n"
     ]
    }
   ],
   "source": [
    "for url in urls:\n",
    "    seo_score = get_seo_score(url)\n",
    "    df = df.append({\"URL\": url, \"SEO Score\": seo_score}, ignore_index=True) #type: ignore"
   ]
  },
  {
   "cell_type": "code",
   "execution_count": 3,
   "metadata": {},
   "outputs": [
    {
     "ename": "NameError",
     "evalue": "name 'df' is not defined",
     "output_type": "error",
     "traceback": [
      "\u001b[1;31m---------------------------------------------------------------------------\u001b[0m",
      "\u001b[1;31mNameError\u001b[0m                                 Traceback (most recent call last)",
      "Cell \u001b[1;32mIn[3], line 1\u001b[0m\n\u001b[1;32m----> 1\u001b[0m df\u001b[39m.\u001b[39mto_csv(\u001b[39m\"\u001b[39m\u001b[39mfam_seo.csv\u001b[39m\u001b[39m\"\u001b[39m, index\u001b[39m=\u001b[39m\u001b[39mFalse\u001b[39;00m)\n",
      "\u001b[1;31mNameError\u001b[0m: name 'df' is not defined"
     ]
    }
   ],
   "source": [
    "df.to_csv(\"fam_seo.csv\", index=False)"
   ]
  },
  {
   "cell_type": "code",
   "execution_count": 8,
   "metadata": {},
   "outputs": [],
   "source": [
    "df = pd.read_csv(\"fam_seo.csv\")"
   ]
  },
  {
   "cell_type": "code",
   "execution_count": 9,
   "metadata": {},
   "outputs": [
    {
     "data": {
      "application/vnd.plotly.v1+json": {
       "config": {
        "plotlyServerURL": "https://plot.ly"
       },
       "data": [
        {
         "alignmentgroup": "True",
         "bingroup": "x",
         "hovertemplate": "SEO Score=%{x}<br>count=%{y}<extra></extra>",
         "legendgroup": "",
         "marker": {
          "color": "#636efa",
          "pattern": {
           "shape": ""
          }
         },
         "name": "",
         "offsetgroup": "",
         "orientation": "v",
         "showlegend": false,
         "type": "histogram",
         "x": [
          202,
          202,
          202,
          188,
          155,
          61,
          293,
          126,
          34,
          71,
          63,
          156,
          36,
          49,
          145,
          31,
          32,
          14,
          55,
          194,
          34,
          51,
          67,
          202,
          275,
          142,
          215,
          349,
          34,
          150,
          16,
          259,
          31,
          114,
          248,
          148,
          174,
          32,
          14,
          182,
          221,
          225,
          218,
          255,
          221,
          145,
          199,
          14,
          142,
          324,
          336,
          198,
          80,
          196,
          309,
          290,
          212,
          312,
          204,
          16,
          294,
          121,
          288,
          265,
          236,
          476,
          330,
          227,
          106,
          37,
          327,
          34,
          66,
          37,
          39,
          33,
          191,
          82,
          34,
          35,
          186,
          24,
          145,
          35,
          173,
          138,
          33,
          150,
          24,
          35,
          25,
          144,
          196,
          236,
          274,
          189,
          191,
          67,
          154,
          34,
          116,
          46,
          37,
          428,
          272,
          37,
          241,
          204,
          205,
          78,
          48,
          70,
          124,
          35,
          174,
          202,
          331,
          103,
          194,
          31,
          299,
          305,
          34,
          165,
          31,
          158,
          33,
          162,
          32,
          260,
          170,
          130,
          30,
          136,
          31,
          186,
          29,
          178,
          35,
          67,
          30,
          39,
          39,
          39,
          46,
          35,
          53,
          308,
          51,
          46,
          56,
          44,
          64,
          25,
          25,
          25,
          25,
          202,
          202,
          202,
          189,
          188,
          202,
          202,
          202,
          202
         ],
         "xaxis": "x",
         "yaxis": "y"
        }
       ],
       "layout": {
        "barmode": "relative",
        "legend": {
         "tracegroupgap": 0
        },
        "margin": {
         "t": 60
        },
        "template": {
         "data": {
          "bar": [
           {
            "error_x": {
             "color": "#2a3f5f"
            },
            "error_y": {
             "color": "#2a3f5f"
            },
            "marker": {
             "line": {
              "color": "#E5ECF6",
              "width": 0.5
             },
             "pattern": {
              "fillmode": "overlay",
              "size": 10,
              "solidity": 0.2
             }
            },
            "type": "bar"
           }
          ],
          "barpolar": [
           {
            "marker": {
             "line": {
              "color": "#E5ECF6",
              "width": 0.5
             },
             "pattern": {
              "fillmode": "overlay",
              "size": 10,
              "solidity": 0.2
             }
            },
            "type": "barpolar"
           }
          ],
          "carpet": [
           {
            "aaxis": {
             "endlinecolor": "#2a3f5f",
             "gridcolor": "white",
             "linecolor": "white",
             "minorgridcolor": "white",
             "startlinecolor": "#2a3f5f"
            },
            "baxis": {
             "endlinecolor": "#2a3f5f",
             "gridcolor": "white",
             "linecolor": "white",
             "minorgridcolor": "white",
             "startlinecolor": "#2a3f5f"
            },
            "type": "carpet"
           }
          ],
          "choropleth": [
           {
            "colorbar": {
             "outlinewidth": 0,
             "ticks": ""
            },
            "type": "choropleth"
           }
          ],
          "contour": [
           {
            "colorbar": {
             "outlinewidth": 0,
             "ticks": ""
            },
            "colorscale": [
             [
              0,
              "#0d0887"
             ],
             [
              0.1111111111111111,
              "#46039f"
             ],
             [
              0.2222222222222222,
              "#7201a8"
             ],
             [
              0.3333333333333333,
              "#9c179e"
             ],
             [
              0.4444444444444444,
              "#bd3786"
             ],
             [
              0.5555555555555556,
              "#d8576b"
             ],
             [
              0.6666666666666666,
              "#ed7953"
             ],
             [
              0.7777777777777778,
              "#fb9f3a"
             ],
             [
              0.8888888888888888,
              "#fdca26"
             ],
             [
              1,
              "#f0f921"
             ]
            ],
            "type": "contour"
           }
          ],
          "contourcarpet": [
           {
            "colorbar": {
             "outlinewidth": 0,
             "ticks": ""
            },
            "type": "contourcarpet"
           }
          ],
          "heatmap": [
           {
            "colorbar": {
             "outlinewidth": 0,
             "ticks": ""
            },
            "colorscale": [
             [
              0,
              "#0d0887"
             ],
             [
              0.1111111111111111,
              "#46039f"
             ],
             [
              0.2222222222222222,
              "#7201a8"
             ],
             [
              0.3333333333333333,
              "#9c179e"
             ],
             [
              0.4444444444444444,
              "#bd3786"
             ],
             [
              0.5555555555555556,
              "#d8576b"
             ],
             [
              0.6666666666666666,
              "#ed7953"
             ],
             [
              0.7777777777777778,
              "#fb9f3a"
             ],
             [
              0.8888888888888888,
              "#fdca26"
             ],
             [
              1,
              "#f0f921"
             ]
            ],
            "type": "heatmap"
           }
          ],
          "heatmapgl": [
           {
            "colorbar": {
             "outlinewidth": 0,
             "ticks": ""
            },
            "colorscale": [
             [
              0,
              "#0d0887"
             ],
             [
              0.1111111111111111,
              "#46039f"
             ],
             [
              0.2222222222222222,
              "#7201a8"
             ],
             [
              0.3333333333333333,
              "#9c179e"
             ],
             [
              0.4444444444444444,
              "#bd3786"
             ],
             [
              0.5555555555555556,
              "#d8576b"
             ],
             [
              0.6666666666666666,
              "#ed7953"
             ],
             [
              0.7777777777777778,
              "#fb9f3a"
             ],
             [
              0.8888888888888888,
              "#fdca26"
             ],
             [
              1,
              "#f0f921"
             ]
            ],
            "type": "heatmapgl"
           }
          ],
          "histogram": [
           {
            "marker": {
             "pattern": {
              "fillmode": "overlay",
              "size": 10,
              "solidity": 0.2
             }
            },
            "type": "histogram"
           }
          ],
          "histogram2d": [
           {
            "colorbar": {
             "outlinewidth": 0,
             "ticks": ""
            },
            "colorscale": [
             [
              0,
              "#0d0887"
             ],
             [
              0.1111111111111111,
              "#46039f"
             ],
             [
              0.2222222222222222,
              "#7201a8"
             ],
             [
              0.3333333333333333,
              "#9c179e"
             ],
             [
              0.4444444444444444,
              "#bd3786"
             ],
             [
              0.5555555555555556,
              "#d8576b"
             ],
             [
              0.6666666666666666,
              "#ed7953"
             ],
             [
              0.7777777777777778,
              "#fb9f3a"
             ],
             [
              0.8888888888888888,
              "#fdca26"
             ],
             [
              1,
              "#f0f921"
             ]
            ],
            "type": "histogram2d"
           }
          ],
          "histogram2dcontour": [
           {
            "colorbar": {
             "outlinewidth": 0,
             "ticks": ""
            },
            "colorscale": [
             [
              0,
              "#0d0887"
             ],
             [
              0.1111111111111111,
              "#46039f"
             ],
             [
              0.2222222222222222,
              "#7201a8"
             ],
             [
              0.3333333333333333,
              "#9c179e"
             ],
             [
              0.4444444444444444,
              "#bd3786"
             ],
             [
              0.5555555555555556,
              "#d8576b"
             ],
             [
              0.6666666666666666,
              "#ed7953"
             ],
             [
              0.7777777777777778,
              "#fb9f3a"
             ],
             [
              0.8888888888888888,
              "#fdca26"
             ],
             [
              1,
              "#f0f921"
             ]
            ],
            "type": "histogram2dcontour"
           }
          ],
          "mesh3d": [
           {
            "colorbar": {
             "outlinewidth": 0,
             "ticks": ""
            },
            "type": "mesh3d"
           }
          ],
          "parcoords": [
           {
            "line": {
             "colorbar": {
              "outlinewidth": 0,
              "ticks": ""
             }
            },
            "type": "parcoords"
           }
          ],
          "pie": [
           {
            "automargin": true,
            "type": "pie"
           }
          ],
          "scatter": [
           {
            "fillpattern": {
             "fillmode": "overlay",
             "size": 10,
             "solidity": 0.2
            },
            "type": "scatter"
           }
          ],
          "scatter3d": [
           {
            "line": {
             "colorbar": {
              "outlinewidth": 0,
              "ticks": ""
             }
            },
            "marker": {
             "colorbar": {
              "outlinewidth": 0,
              "ticks": ""
             }
            },
            "type": "scatter3d"
           }
          ],
          "scattercarpet": [
           {
            "marker": {
             "colorbar": {
              "outlinewidth": 0,
              "ticks": ""
             }
            },
            "type": "scattercarpet"
           }
          ],
          "scattergeo": [
           {
            "marker": {
             "colorbar": {
              "outlinewidth": 0,
              "ticks": ""
             }
            },
            "type": "scattergeo"
           }
          ],
          "scattergl": [
           {
            "marker": {
             "colorbar": {
              "outlinewidth": 0,
              "ticks": ""
             }
            },
            "type": "scattergl"
           }
          ],
          "scattermapbox": [
           {
            "marker": {
             "colorbar": {
              "outlinewidth": 0,
              "ticks": ""
             }
            },
            "type": "scattermapbox"
           }
          ],
          "scatterpolar": [
           {
            "marker": {
             "colorbar": {
              "outlinewidth": 0,
              "ticks": ""
             }
            },
            "type": "scatterpolar"
           }
          ],
          "scatterpolargl": [
           {
            "marker": {
             "colorbar": {
              "outlinewidth": 0,
              "ticks": ""
             }
            },
            "type": "scatterpolargl"
           }
          ],
          "scatterternary": [
           {
            "marker": {
             "colorbar": {
              "outlinewidth": 0,
              "ticks": ""
             }
            },
            "type": "scatterternary"
           }
          ],
          "surface": [
           {
            "colorbar": {
             "outlinewidth": 0,
             "ticks": ""
            },
            "colorscale": [
             [
              0,
              "#0d0887"
             ],
             [
              0.1111111111111111,
              "#46039f"
             ],
             [
              0.2222222222222222,
              "#7201a8"
             ],
             [
              0.3333333333333333,
              "#9c179e"
             ],
             [
              0.4444444444444444,
              "#bd3786"
             ],
             [
              0.5555555555555556,
              "#d8576b"
             ],
             [
              0.6666666666666666,
              "#ed7953"
             ],
             [
              0.7777777777777778,
              "#fb9f3a"
             ],
             [
              0.8888888888888888,
              "#fdca26"
             ],
             [
              1,
              "#f0f921"
             ]
            ],
            "type": "surface"
           }
          ],
          "table": [
           {
            "cells": {
             "fill": {
              "color": "#EBF0F8"
             },
             "line": {
              "color": "white"
             }
            },
            "header": {
             "fill": {
              "color": "#C8D4E3"
             },
             "line": {
              "color": "white"
             }
            },
            "type": "table"
           }
          ]
         },
         "layout": {
          "annotationdefaults": {
           "arrowcolor": "#2a3f5f",
           "arrowhead": 0,
           "arrowwidth": 1
          },
          "autotypenumbers": "strict",
          "coloraxis": {
           "colorbar": {
            "outlinewidth": 0,
            "ticks": ""
           }
          },
          "colorscale": {
           "diverging": [
            [
             0,
             "#8e0152"
            ],
            [
             0.1,
             "#c51b7d"
            ],
            [
             0.2,
             "#de77ae"
            ],
            [
             0.3,
             "#f1b6da"
            ],
            [
             0.4,
             "#fde0ef"
            ],
            [
             0.5,
             "#f7f7f7"
            ],
            [
             0.6,
             "#e6f5d0"
            ],
            [
             0.7,
             "#b8e186"
            ],
            [
             0.8,
             "#7fbc41"
            ],
            [
             0.9,
             "#4d9221"
            ],
            [
             1,
             "#276419"
            ]
           ],
           "sequential": [
            [
             0,
             "#0d0887"
            ],
            [
             0.1111111111111111,
             "#46039f"
            ],
            [
             0.2222222222222222,
             "#7201a8"
            ],
            [
             0.3333333333333333,
             "#9c179e"
            ],
            [
             0.4444444444444444,
             "#bd3786"
            ],
            [
             0.5555555555555556,
             "#d8576b"
            ],
            [
             0.6666666666666666,
             "#ed7953"
            ],
            [
             0.7777777777777778,
             "#fb9f3a"
            ],
            [
             0.8888888888888888,
             "#fdca26"
            ],
            [
             1,
             "#f0f921"
            ]
           ],
           "sequentialminus": [
            [
             0,
             "#0d0887"
            ],
            [
             0.1111111111111111,
             "#46039f"
            ],
            [
             0.2222222222222222,
             "#7201a8"
            ],
            [
             0.3333333333333333,
             "#9c179e"
            ],
            [
             0.4444444444444444,
             "#bd3786"
            ],
            [
             0.5555555555555556,
             "#d8576b"
            ],
            [
             0.6666666666666666,
             "#ed7953"
            ],
            [
             0.7777777777777778,
             "#fb9f3a"
            ],
            [
             0.8888888888888888,
             "#fdca26"
            ],
            [
             1,
             "#f0f921"
            ]
           ]
          },
          "colorway": [
           "#636efa",
           "#EF553B",
           "#00cc96",
           "#ab63fa",
           "#FFA15A",
           "#19d3f3",
           "#FF6692",
           "#B6E880",
           "#FF97FF",
           "#FECB52"
          ],
          "font": {
           "color": "#2a3f5f"
          },
          "geo": {
           "bgcolor": "white",
           "lakecolor": "white",
           "landcolor": "#E5ECF6",
           "showlakes": true,
           "showland": true,
           "subunitcolor": "white"
          },
          "hoverlabel": {
           "align": "left"
          },
          "hovermode": "closest",
          "mapbox": {
           "style": "light"
          },
          "paper_bgcolor": "white",
          "plot_bgcolor": "#E5ECF6",
          "polar": {
           "angularaxis": {
            "gridcolor": "white",
            "linecolor": "white",
            "ticks": ""
           },
           "bgcolor": "#E5ECF6",
           "radialaxis": {
            "gridcolor": "white",
            "linecolor": "white",
            "ticks": ""
           }
          },
          "scene": {
           "xaxis": {
            "backgroundcolor": "#E5ECF6",
            "gridcolor": "white",
            "gridwidth": 2,
            "linecolor": "white",
            "showbackground": true,
            "ticks": "",
            "zerolinecolor": "white"
           },
           "yaxis": {
            "backgroundcolor": "#E5ECF6",
            "gridcolor": "white",
            "gridwidth": 2,
            "linecolor": "white",
            "showbackground": true,
            "ticks": "",
            "zerolinecolor": "white"
           },
           "zaxis": {
            "backgroundcolor": "#E5ECF6",
            "gridcolor": "white",
            "gridwidth": 2,
            "linecolor": "white",
            "showbackground": true,
            "ticks": "",
            "zerolinecolor": "white"
           }
          },
          "shapedefaults": {
           "line": {
            "color": "#2a3f5f"
           }
          },
          "ternary": {
           "aaxis": {
            "gridcolor": "white",
            "linecolor": "white",
            "ticks": ""
           },
           "baxis": {
            "gridcolor": "white",
            "linecolor": "white",
            "ticks": ""
           },
           "bgcolor": "#E5ECF6",
           "caxis": {
            "gridcolor": "white",
            "linecolor": "white",
            "ticks": ""
           }
          },
          "title": {
           "x": 0.05
          },
          "xaxis": {
           "automargin": true,
           "gridcolor": "white",
           "linecolor": "white",
           "ticks": "",
           "title": {
            "standoff": 15
           },
           "zerolinecolor": "white",
           "zerolinewidth": 2
          },
          "yaxis": {
           "automargin": true,
           "gridcolor": "white",
           "linecolor": "white",
           "ticks": "",
           "title": {
            "standoff": 15
           },
           "zerolinecolor": "white",
           "zerolinewidth": 2
          }
         }
        },
        "xaxis": {
         "anchor": "y",
         "domain": [
          0,
          1
         ],
         "title": {
          "text": "SEO Score"
         }
        },
        "yaxis": {
         "anchor": "x",
         "domain": [
          0,
          1
         ],
         "title": {
          "text": "count"
         }
        }
       }
      }
     },
     "metadata": {},
     "output_type": "display_data"
    }
   ],
   "source": [
    "# 1. Histogram of SEO scores\n",
    "fig1 = px.histogram(df, x=\"SEO Score\")\n",
    "fig1.write_html(\"../../fam-report-site/public/Web-Analytics/seo_histogram.html\")\n",
    "fig1.show()"
   ]
  },
  {
   "cell_type": "code",
   "execution_count": 10,
   "metadata": {},
   "outputs": [
    {
     "data": {
      "application/vnd.plotly.v1+json": {
       "config": {
        "plotlyServerURL": "https://plot.ly"
       },
       "data": [
        {
         "alignmentgroup": "True",
         "hovertemplate": "URL=%{x}<br>SEO Score=%{y}<extra></extra>",
         "legendgroup": "",
         "marker": {
          "color": "#636efa",
          "pattern": {
           "shape": ""
          }
         },
         "name": "",
         "offsetgroup": "",
         "orientation": "v",
         "showlegend": false,
         "textposition": "auto",
         "type": "bar",
         "x": [
          "https://fampay.in/blog/digital-payments-exploding-in-india-yet-the-tech-savvy-teens-still-stuck-paying-with-cash-survey-by-fampay-indias-first-neobank-for-teenagers/",
          "https://fampay.in/blog/looking-for-financial-independence-as-a-youngster-5-ways-to-earn-while-youre-young/",
          "https://fampay.in/blog/building-indias-first-genz-teen-exclusive-community/",
          "https://fampay.in/blog/being-a-digital-parent-tips-to-mentor-everything-digital-that-your-teen-uses/",
          "https://fampay.in/blog/fampay-the-solution-to-your-cash-problems/",
          "https://fampay.in/blog/this-fintech-startup-by-iit-roorkee-alum-is-giving-teenagers-financial-freedom-responsibly-yourstory/",
          "https://fampay.in/blog/how-instagram-reel-can-really-grow-your-brand/",
          "https://fampay.in/blog/healthy-wealth-how-can-parents-have-a-healthy-discussion-about-money-with-their-children/",
          "https://fampay.in/blog/things-you-must-know-as-a-teens-parent/",
          "https://fampay.in/blog/4-ways-to-help-your-teen-learn-to-become-financially-responsible/"
         ],
         "xaxis": "x",
         "y": [
          476,
          428,
          349,
          336,
          331,
          330,
          327,
          324,
          312,
          309
         ],
         "yaxis": "y"
        }
       ],
       "layout": {
        "barmode": "relative",
        "legend": {
         "tracegroupgap": 0
        },
        "template": {
         "data": {
          "bar": [
           {
            "error_x": {
             "color": "#2a3f5f"
            },
            "error_y": {
             "color": "#2a3f5f"
            },
            "marker": {
             "line": {
              "color": "#E5ECF6",
              "width": 0.5
             },
             "pattern": {
              "fillmode": "overlay",
              "size": 10,
              "solidity": 0.2
             }
            },
            "type": "bar"
           }
          ],
          "barpolar": [
           {
            "marker": {
             "line": {
              "color": "#E5ECF6",
              "width": 0.5
             },
             "pattern": {
              "fillmode": "overlay",
              "size": 10,
              "solidity": 0.2
             }
            },
            "type": "barpolar"
           }
          ],
          "carpet": [
           {
            "aaxis": {
             "endlinecolor": "#2a3f5f",
             "gridcolor": "white",
             "linecolor": "white",
             "minorgridcolor": "white",
             "startlinecolor": "#2a3f5f"
            },
            "baxis": {
             "endlinecolor": "#2a3f5f",
             "gridcolor": "white",
             "linecolor": "white",
             "minorgridcolor": "white",
             "startlinecolor": "#2a3f5f"
            },
            "type": "carpet"
           }
          ],
          "choropleth": [
           {
            "colorbar": {
             "outlinewidth": 0,
             "ticks": ""
            },
            "type": "choropleth"
           }
          ],
          "contour": [
           {
            "colorbar": {
             "outlinewidth": 0,
             "ticks": ""
            },
            "colorscale": [
             [
              0,
              "#0d0887"
             ],
             [
              0.1111111111111111,
              "#46039f"
             ],
             [
              0.2222222222222222,
              "#7201a8"
             ],
             [
              0.3333333333333333,
              "#9c179e"
             ],
             [
              0.4444444444444444,
              "#bd3786"
             ],
             [
              0.5555555555555556,
              "#d8576b"
             ],
             [
              0.6666666666666666,
              "#ed7953"
             ],
             [
              0.7777777777777778,
              "#fb9f3a"
             ],
             [
              0.8888888888888888,
              "#fdca26"
             ],
             [
              1,
              "#f0f921"
             ]
            ],
            "type": "contour"
           }
          ],
          "contourcarpet": [
           {
            "colorbar": {
             "outlinewidth": 0,
             "ticks": ""
            },
            "type": "contourcarpet"
           }
          ],
          "heatmap": [
           {
            "colorbar": {
             "outlinewidth": 0,
             "ticks": ""
            },
            "colorscale": [
             [
              0,
              "#0d0887"
             ],
             [
              0.1111111111111111,
              "#46039f"
             ],
             [
              0.2222222222222222,
              "#7201a8"
             ],
             [
              0.3333333333333333,
              "#9c179e"
             ],
             [
              0.4444444444444444,
              "#bd3786"
             ],
             [
              0.5555555555555556,
              "#d8576b"
             ],
             [
              0.6666666666666666,
              "#ed7953"
             ],
             [
              0.7777777777777778,
              "#fb9f3a"
             ],
             [
              0.8888888888888888,
              "#fdca26"
             ],
             [
              1,
              "#f0f921"
             ]
            ],
            "type": "heatmap"
           }
          ],
          "heatmapgl": [
           {
            "colorbar": {
             "outlinewidth": 0,
             "ticks": ""
            },
            "colorscale": [
             [
              0,
              "#0d0887"
             ],
             [
              0.1111111111111111,
              "#46039f"
             ],
             [
              0.2222222222222222,
              "#7201a8"
             ],
             [
              0.3333333333333333,
              "#9c179e"
             ],
             [
              0.4444444444444444,
              "#bd3786"
             ],
             [
              0.5555555555555556,
              "#d8576b"
             ],
             [
              0.6666666666666666,
              "#ed7953"
             ],
             [
              0.7777777777777778,
              "#fb9f3a"
             ],
             [
              0.8888888888888888,
              "#fdca26"
             ],
             [
              1,
              "#f0f921"
             ]
            ],
            "type": "heatmapgl"
           }
          ],
          "histogram": [
           {
            "marker": {
             "pattern": {
              "fillmode": "overlay",
              "size": 10,
              "solidity": 0.2
             }
            },
            "type": "histogram"
           }
          ],
          "histogram2d": [
           {
            "colorbar": {
             "outlinewidth": 0,
             "ticks": ""
            },
            "colorscale": [
             [
              0,
              "#0d0887"
             ],
             [
              0.1111111111111111,
              "#46039f"
             ],
             [
              0.2222222222222222,
              "#7201a8"
             ],
             [
              0.3333333333333333,
              "#9c179e"
             ],
             [
              0.4444444444444444,
              "#bd3786"
             ],
             [
              0.5555555555555556,
              "#d8576b"
             ],
             [
              0.6666666666666666,
              "#ed7953"
             ],
             [
              0.7777777777777778,
              "#fb9f3a"
             ],
             [
              0.8888888888888888,
              "#fdca26"
             ],
             [
              1,
              "#f0f921"
             ]
            ],
            "type": "histogram2d"
           }
          ],
          "histogram2dcontour": [
           {
            "colorbar": {
             "outlinewidth": 0,
             "ticks": ""
            },
            "colorscale": [
             [
              0,
              "#0d0887"
             ],
             [
              0.1111111111111111,
              "#46039f"
             ],
             [
              0.2222222222222222,
              "#7201a8"
             ],
             [
              0.3333333333333333,
              "#9c179e"
             ],
             [
              0.4444444444444444,
              "#bd3786"
             ],
             [
              0.5555555555555556,
              "#d8576b"
             ],
             [
              0.6666666666666666,
              "#ed7953"
             ],
             [
              0.7777777777777778,
              "#fb9f3a"
             ],
             [
              0.8888888888888888,
              "#fdca26"
             ],
             [
              1,
              "#f0f921"
             ]
            ],
            "type": "histogram2dcontour"
           }
          ],
          "mesh3d": [
           {
            "colorbar": {
             "outlinewidth": 0,
             "ticks": ""
            },
            "type": "mesh3d"
           }
          ],
          "parcoords": [
           {
            "line": {
             "colorbar": {
              "outlinewidth": 0,
              "ticks": ""
             }
            },
            "type": "parcoords"
           }
          ],
          "pie": [
           {
            "automargin": true,
            "type": "pie"
           }
          ],
          "scatter": [
           {
            "fillpattern": {
             "fillmode": "overlay",
             "size": 10,
             "solidity": 0.2
            },
            "type": "scatter"
           }
          ],
          "scatter3d": [
           {
            "line": {
             "colorbar": {
              "outlinewidth": 0,
              "ticks": ""
             }
            },
            "marker": {
             "colorbar": {
              "outlinewidth": 0,
              "ticks": ""
             }
            },
            "type": "scatter3d"
           }
          ],
          "scattercarpet": [
           {
            "marker": {
             "colorbar": {
              "outlinewidth": 0,
              "ticks": ""
             }
            },
            "type": "scattercarpet"
           }
          ],
          "scattergeo": [
           {
            "marker": {
             "colorbar": {
              "outlinewidth": 0,
              "ticks": ""
             }
            },
            "type": "scattergeo"
           }
          ],
          "scattergl": [
           {
            "marker": {
             "colorbar": {
              "outlinewidth": 0,
              "ticks": ""
             }
            },
            "type": "scattergl"
           }
          ],
          "scattermapbox": [
           {
            "marker": {
             "colorbar": {
              "outlinewidth": 0,
              "ticks": ""
             }
            },
            "type": "scattermapbox"
           }
          ],
          "scatterpolar": [
           {
            "marker": {
             "colorbar": {
              "outlinewidth": 0,
              "ticks": ""
             }
            },
            "type": "scatterpolar"
           }
          ],
          "scatterpolargl": [
           {
            "marker": {
             "colorbar": {
              "outlinewidth": 0,
              "ticks": ""
             }
            },
            "type": "scatterpolargl"
           }
          ],
          "scatterternary": [
           {
            "marker": {
             "colorbar": {
              "outlinewidth": 0,
              "ticks": ""
             }
            },
            "type": "scatterternary"
           }
          ],
          "surface": [
           {
            "colorbar": {
             "outlinewidth": 0,
             "ticks": ""
            },
            "colorscale": [
             [
              0,
              "#0d0887"
             ],
             [
              0.1111111111111111,
              "#46039f"
             ],
             [
              0.2222222222222222,
              "#7201a8"
             ],
             [
              0.3333333333333333,
              "#9c179e"
             ],
             [
              0.4444444444444444,
              "#bd3786"
             ],
             [
              0.5555555555555556,
              "#d8576b"
             ],
             [
              0.6666666666666666,
              "#ed7953"
             ],
             [
              0.7777777777777778,
              "#fb9f3a"
             ],
             [
              0.8888888888888888,
              "#fdca26"
             ],
             [
              1,
              "#f0f921"
             ]
            ],
            "type": "surface"
           }
          ],
          "table": [
           {
            "cells": {
             "fill": {
              "color": "#EBF0F8"
             },
             "line": {
              "color": "white"
             }
            },
            "header": {
             "fill": {
              "color": "#C8D4E3"
             },
             "line": {
              "color": "white"
             }
            },
            "type": "table"
           }
          ]
         },
         "layout": {
          "annotationdefaults": {
           "arrowcolor": "#2a3f5f",
           "arrowhead": 0,
           "arrowwidth": 1
          },
          "autotypenumbers": "strict",
          "coloraxis": {
           "colorbar": {
            "outlinewidth": 0,
            "ticks": ""
           }
          },
          "colorscale": {
           "diverging": [
            [
             0,
             "#8e0152"
            ],
            [
             0.1,
             "#c51b7d"
            ],
            [
             0.2,
             "#de77ae"
            ],
            [
             0.3,
             "#f1b6da"
            ],
            [
             0.4,
             "#fde0ef"
            ],
            [
             0.5,
             "#f7f7f7"
            ],
            [
             0.6,
             "#e6f5d0"
            ],
            [
             0.7,
             "#b8e186"
            ],
            [
             0.8,
             "#7fbc41"
            ],
            [
             0.9,
             "#4d9221"
            ],
            [
             1,
             "#276419"
            ]
           ],
           "sequential": [
            [
             0,
             "#0d0887"
            ],
            [
             0.1111111111111111,
             "#46039f"
            ],
            [
             0.2222222222222222,
             "#7201a8"
            ],
            [
             0.3333333333333333,
             "#9c179e"
            ],
            [
             0.4444444444444444,
             "#bd3786"
            ],
            [
             0.5555555555555556,
             "#d8576b"
            ],
            [
             0.6666666666666666,
             "#ed7953"
            ],
            [
             0.7777777777777778,
             "#fb9f3a"
            ],
            [
             0.8888888888888888,
             "#fdca26"
            ],
            [
             1,
             "#f0f921"
            ]
           ],
           "sequentialminus": [
            [
             0,
             "#0d0887"
            ],
            [
             0.1111111111111111,
             "#46039f"
            ],
            [
             0.2222222222222222,
             "#7201a8"
            ],
            [
             0.3333333333333333,
             "#9c179e"
            ],
            [
             0.4444444444444444,
             "#bd3786"
            ],
            [
             0.5555555555555556,
             "#d8576b"
            ],
            [
             0.6666666666666666,
             "#ed7953"
            ],
            [
             0.7777777777777778,
             "#fb9f3a"
            ],
            [
             0.8888888888888888,
             "#fdca26"
            ],
            [
             1,
             "#f0f921"
            ]
           ]
          },
          "colorway": [
           "#636efa",
           "#EF553B",
           "#00cc96",
           "#ab63fa",
           "#FFA15A",
           "#19d3f3",
           "#FF6692",
           "#B6E880",
           "#FF97FF",
           "#FECB52"
          ],
          "font": {
           "color": "#2a3f5f"
          },
          "geo": {
           "bgcolor": "white",
           "lakecolor": "white",
           "landcolor": "#E5ECF6",
           "showlakes": true,
           "showland": true,
           "subunitcolor": "white"
          },
          "hoverlabel": {
           "align": "left"
          },
          "hovermode": "closest",
          "mapbox": {
           "style": "light"
          },
          "paper_bgcolor": "white",
          "plot_bgcolor": "#E5ECF6",
          "polar": {
           "angularaxis": {
            "gridcolor": "white",
            "linecolor": "white",
            "ticks": ""
           },
           "bgcolor": "#E5ECF6",
           "radialaxis": {
            "gridcolor": "white",
            "linecolor": "white",
            "ticks": ""
           }
          },
          "scene": {
           "xaxis": {
            "backgroundcolor": "#E5ECF6",
            "gridcolor": "white",
            "gridwidth": 2,
            "linecolor": "white",
            "showbackground": true,
            "ticks": "",
            "zerolinecolor": "white"
           },
           "yaxis": {
            "backgroundcolor": "#E5ECF6",
            "gridcolor": "white",
            "gridwidth": 2,
            "linecolor": "white",
            "showbackground": true,
            "ticks": "",
            "zerolinecolor": "white"
           },
           "zaxis": {
            "backgroundcolor": "#E5ECF6",
            "gridcolor": "white",
            "gridwidth": 2,
            "linecolor": "white",
            "showbackground": true,
            "ticks": "",
            "zerolinecolor": "white"
           }
          },
          "shapedefaults": {
           "line": {
            "color": "#2a3f5f"
           }
          },
          "ternary": {
           "aaxis": {
            "gridcolor": "white",
            "linecolor": "white",
            "ticks": ""
           },
           "baxis": {
            "gridcolor": "white",
            "linecolor": "white",
            "ticks": ""
           },
           "bgcolor": "#E5ECF6",
           "caxis": {
            "gridcolor": "white",
            "linecolor": "white",
            "ticks": ""
           }
          },
          "title": {
           "x": 0.05
          },
          "xaxis": {
           "automargin": true,
           "gridcolor": "white",
           "linecolor": "white",
           "ticks": "",
           "title": {
            "standoff": 15
           },
           "zerolinecolor": "white",
           "zerolinewidth": 2
          },
          "yaxis": {
           "automargin": true,
           "gridcolor": "white",
           "linecolor": "white",
           "ticks": "",
           "title": {
            "standoff": 15
           },
           "zerolinecolor": "white",
           "zerolinewidth": 2
          }
         }
        },
        "title": {
         "text": "Top 10 URLs with Highest SEO Score"
        },
        "xaxis": {
         "anchor": "y",
         "domain": [
          0,
          1
         ],
         "title": {
          "text": "URL"
         }
        },
        "yaxis": {
         "anchor": "x",
         "domain": [
          0,
          1
         ],
         "title": {
          "text": "SEO Score"
         }
        }
       }
      }
     },
     "metadata": {},
     "output_type": "display_data"
    }
   ],
   "source": [
    "# 2. Top 10 URLs with the highest SEO scores\n",
    "top10_df = df.sort_values(\"SEO Score\", ascending=False).head(10)\n",
    "fig2 = px.bar(top10_df, x=\"URL\", y=\"SEO Score\", title=\"Top 10 URLs with Highest SEO Score\")\n",
    "fig2.write_html(\"../../fam-report-site/public/Web-Analytics/top10_seo_scores.html\")\n",
    "fig2.show()"
   ]
  },
  {
   "cell_type": "code",
   "execution_count": 11,
   "metadata": {},
   "outputs": [
    {
     "data": {
      "application/vnd.plotly.v1+json": {
       "config": {
        "plotlyServerURL": "https://plot.ly"
       },
       "data": [
        {
         "alignmentgroup": "True",
         "hovertemplate": "URL=%{x}<br>SEO Score=%{y}<extra></extra>",
         "legendgroup": "",
         "marker": {
          "color": "#636efa",
          "pattern": {
           "shape": ""
          }
         },
         "name": "",
         "offsetgroup": "",
         "orientation": "v",
         "showlegend": false,
         "textposition": "auto",
         "type": "bar",
         "x": [
          "https://fampay.in/blog/tag/teens/page/4/",
          "https://fampay.in/blog/tag/teens/page/2/",
          "https://fampay.in/blog/tag/teens/page/3/",
          "https://fampay.in/blog/tag/parents/page/2/",
          "https://fampay.in/blog/famcard-your-first-debit-card/",
          "https://fampay.in/blog/author/sajal/",
          "https://fampay.in/blog/author/tanya/",
          "https://fampay.in/blog/page/5/",
          "https://fampay.in/blog/page/2/",
          "https://fampay.in/blog/page/3/"
         ],
         "xaxis": "x",
         "y": [
          14,
          14,
          14,
          16,
          16,
          24,
          24,
          25,
          25,
          25
         ],
         "yaxis": "y"
        }
       ],
       "layout": {
        "barmode": "relative",
        "legend": {
         "tracegroupgap": 0
        },
        "template": {
         "data": {
          "bar": [
           {
            "error_x": {
             "color": "#2a3f5f"
            },
            "error_y": {
             "color": "#2a3f5f"
            },
            "marker": {
             "line": {
              "color": "#E5ECF6",
              "width": 0.5
             },
             "pattern": {
              "fillmode": "overlay",
              "size": 10,
              "solidity": 0.2
             }
            },
            "type": "bar"
           }
          ],
          "barpolar": [
           {
            "marker": {
             "line": {
              "color": "#E5ECF6",
              "width": 0.5
             },
             "pattern": {
              "fillmode": "overlay",
              "size": 10,
              "solidity": 0.2
             }
            },
            "type": "barpolar"
           }
          ],
          "carpet": [
           {
            "aaxis": {
             "endlinecolor": "#2a3f5f",
             "gridcolor": "white",
             "linecolor": "white",
             "minorgridcolor": "white",
             "startlinecolor": "#2a3f5f"
            },
            "baxis": {
             "endlinecolor": "#2a3f5f",
             "gridcolor": "white",
             "linecolor": "white",
             "minorgridcolor": "white",
             "startlinecolor": "#2a3f5f"
            },
            "type": "carpet"
           }
          ],
          "choropleth": [
           {
            "colorbar": {
             "outlinewidth": 0,
             "ticks": ""
            },
            "type": "choropleth"
           }
          ],
          "contour": [
           {
            "colorbar": {
             "outlinewidth": 0,
             "ticks": ""
            },
            "colorscale": [
             [
              0,
              "#0d0887"
             ],
             [
              0.1111111111111111,
              "#46039f"
             ],
             [
              0.2222222222222222,
              "#7201a8"
             ],
             [
              0.3333333333333333,
              "#9c179e"
             ],
             [
              0.4444444444444444,
              "#bd3786"
             ],
             [
              0.5555555555555556,
              "#d8576b"
             ],
             [
              0.6666666666666666,
              "#ed7953"
             ],
             [
              0.7777777777777778,
              "#fb9f3a"
             ],
             [
              0.8888888888888888,
              "#fdca26"
             ],
             [
              1,
              "#f0f921"
             ]
            ],
            "type": "contour"
           }
          ],
          "contourcarpet": [
           {
            "colorbar": {
             "outlinewidth": 0,
             "ticks": ""
            },
            "type": "contourcarpet"
           }
          ],
          "heatmap": [
           {
            "colorbar": {
             "outlinewidth": 0,
             "ticks": ""
            },
            "colorscale": [
             [
              0,
              "#0d0887"
             ],
             [
              0.1111111111111111,
              "#46039f"
             ],
             [
              0.2222222222222222,
              "#7201a8"
             ],
             [
              0.3333333333333333,
              "#9c179e"
             ],
             [
              0.4444444444444444,
              "#bd3786"
             ],
             [
              0.5555555555555556,
              "#d8576b"
             ],
             [
              0.6666666666666666,
              "#ed7953"
             ],
             [
              0.7777777777777778,
              "#fb9f3a"
             ],
             [
              0.8888888888888888,
              "#fdca26"
             ],
             [
              1,
              "#f0f921"
             ]
            ],
            "type": "heatmap"
           }
          ],
          "heatmapgl": [
           {
            "colorbar": {
             "outlinewidth": 0,
             "ticks": ""
            },
            "colorscale": [
             [
              0,
              "#0d0887"
             ],
             [
              0.1111111111111111,
              "#46039f"
             ],
             [
              0.2222222222222222,
              "#7201a8"
             ],
             [
              0.3333333333333333,
              "#9c179e"
             ],
             [
              0.4444444444444444,
              "#bd3786"
             ],
             [
              0.5555555555555556,
              "#d8576b"
             ],
             [
              0.6666666666666666,
              "#ed7953"
             ],
             [
              0.7777777777777778,
              "#fb9f3a"
             ],
             [
              0.8888888888888888,
              "#fdca26"
             ],
             [
              1,
              "#f0f921"
             ]
            ],
            "type": "heatmapgl"
           }
          ],
          "histogram": [
           {
            "marker": {
             "pattern": {
              "fillmode": "overlay",
              "size": 10,
              "solidity": 0.2
             }
            },
            "type": "histogram"
           }
          ],
          "histogram2d": [
           {
            "colorbar": {
             "outlinewidth": 0,
             "ticks": ""
            },
            "colorscale": [
             [
              0,
              "#0d0887"
             ],
             [
              0.1111111111111111,
              "#46039f"
             ],
             [
              0.2222222222222222,
              "#7201a8"
             ],
             [
              0.3333333333333333,
              "#9c179e"
             ],
             [
              0.4444444444444444,
              "#bd3786"
             ],
             [
              0.5555555555555556,
              "#d8576b"
             ],
             [
              0.6666666666666666,
              "#ed7953"
             ],
             [
              0.7777777777777778,
              "#fb9f3a"
             ],
             [
              0.8888888888888888,
              "#fdca26"
             ],
             [
              1,
              "#f0f921"
             ]
            ],
            "type": "histogram2d"
           }
          ],
          "histogram2dcontour": [
           {
            "colorbar": {
             "outlinewidth": 0,
             "ticks": ""
            },
            "colorscale": [
             [
              0,
              "#0d0887"
             ],
             [
              0.1111111111111111,
              "#46039f"
             ],
             [
              0.2222222222222222,
              "#7201a8"
             ],
             [
              0.3333333333333333,
              "#9c179e"
             ],
             [
              0.4444444444444444,
              "#bd3786"
             ],
             [
              0.5555555555555556,
              "#d8576b"
             ],
             [
              0.6666666666666666,
              "#ed7953"
             ],
             [
              0.7777777777777778,
              "#fb9f3a"
             ],
             [
              0.8888888888888888,
              "#fdca26"
             ],
             [
              1,
              "#f0f921"
             ]
            ],
            "type": "histogram2dcontour"
           }
          ],
          "mesh3d": [
           {
            "colorbar": {
             "outlinewidth": 0,
             "ticks": ""
            },
            "type": "mesh3d"
           }
          ],
          "parcoords": [
           {
            "line": {
             "colorbar": {
              "outlinewidth": 0,
              "ticks": ""
             }
            },
            "type": "parcoords"
           }
          ],
          "pie": [
           {
            "automargin": true,
            "type": "pie"
           }
          ],
          "scatter": [
           {
            "fillpattern": {
             "fillmode": "overlay",
             "size": 10,
             "solidity": 0.2
            },
            "type": "scatter"
           }
          ],
          "scatter3d": [
           {
            "line": {
             "colorbar": {
              "outlinewidth": 0,
              "ticks": ""
             }
            },
            "marker": {
             "colorbar": {
              "outlinewidth": 0,
              "ticks": ""
             }
            },
            "type": "scatter3d"
           }
          ],
          "scattercarpet": [
           {
            "marker": {
             "colorbar": {
              "outlinewidth": 0,
              "ticks": ""
             }
            },
            "type": "scattercarpet"
           }
          ],
          "scattergeo": [
           {
            "marker": {
             "colorbar": {
              "outlinewidth": 0,
              "ticks": ""
             }
            },
            "type": "scattergeo"
           }
          ],
          "scattergl": [
           {
            "marker": {
             "colorbar": {
              "outlinewidth": 0,
              "ticks": ""
             }
            },
            "type": "scattergl"
           }
          ],
          "scattermapbox": [
           {
            "marker": {
             "colorbar": {
              "outlinewidth": 0,
              "ticks": ""
             }
            },
            "type": "scattermapbox"
           }
          ],
          "scatterpolar": [
           {
            "marker": {
             "colorbar": {
              "outlinewidth": 0,
              "ticks": ""
             }
            },
            "type": "scatterpolar"
           }
          ],
          "scatterpolargl": [
           {
            "marker": {
             "colorbar": {
              "outlinewidth": 0,
              "ticks": ""
             }
            },
            "type": "scatterpolargl"
           }
          ],
          "scatterternary": [
           {
            "marker": {
             "colorbar": {
              "outlinewidth": 0,
              "ticks": ""
             }
            },
            "type": "scatterternary"
           }
          ],
          "surface": [
           {
            "colorbar": {
             "outlinewidth": 0,
             "ticks": ""
            },
            "colorscale": [
             [
              0,
              "#0d0887"
             ],
             [
              0.1111111111111111,
              "#46039f"
             ],
             [
              0.2222222222222222,
              "#7201a8"
             ],
             [
              0.3333333333333333,
              "#9c179e"
             ],
             [
              0.4444444444444444,
              "#bd3786"
             ],
             [
              0.5555555555555556,
              "#d8576b"
             ],
             [
              0.6666666666666666,
              "#ed7953"
             ],
             [
              0.7777777777777778,
              "#fb9f3a"
             ],
             [
              0.8888888888888888,
              "#fdca26"
             ],
             [
              1,
              "#f0f921"
             ]
            ],
            "type": "surface"
           }
          ],
          "table": [
           {
            "cells": {
             "fill": {
              "color": "#EBF0F8"
             },
             "line": {
              "color": "white"
             }
            },
            "header": {
             "fill": {
              "color": "#C8D4E3"
             },
             "line": {
              "color": "white"
             }
            },
            "type": "table"
           }
          ]
         },
         "layout": {
          "annotationdefaults": {
           "arrowcolor": "#2a3f5f",
           "arrowhead": 0,
           "arrowwidth": 1
          },
          "autotypenumbers": "strict",
          "coloraxis": {
           "colorbar": {
            "outlinewidth": 0,
            "ticks": ""
           }
          },
          "colorscale": {
           "diverging": [
            [
             0,
             "#8e0152"
            ],
            [
             0.1,
             "#c51b7d"
            ],
            [
             0.2,
             "#de77ae"
            ],
            [
             0.3,
             "#f1b6da"
            ],
            [
             0.4,
             "#fde0ef"
            ],
            [
             0.5,
             "#f7f7f7"
            ],
            [
             0.6,
             "#e6f5d0"
            ],
            [
             0.7,
             "#b8e186"
            ],
            [
             0.8,
             "#7fbc41"
            ],
            [
             0.9,
             "#4d9221"
            ],
            [
             1,
             "#276419"
            ]
           ],
           "sequential": [
            [
             0,
             "#0d0887"
            ],
            [
             0.1111111111111111,
             "#46039f"
            ],
            [
             0.2222222222222222,
             "#7201a8"
            ],
            [
             0.3333333333333333,
             "#9c179e"
            ],
            [
             0.4444444444444444,
             "#bd3786"
            ],
            [
             0.5555555555555556,
             "#d8576b"
            ],
            [
             0.6666666666666666,
             "#ed7953"
            ],
            [
             0.7777777777777778,
             "#fb9f3a"
            ],
            [
             0.8888888888888888,
             "#fdca26"
            ],
            [
             1,
             "#f0f921"
            ]
           ],
           "sequentialminus": [
            [
             0,
             "#0d0887"
            ],
            [
             0.1111111111111111,
             "#46039f"
            ],
            [
             0.2222222222222222,
             "#7201a8"
            ],
            [
             0.3333333333333333,
             "#9c179e"
            ],
            [
             0.4444444444444444,
             "#bd3786"
            ],
            [
             0.5555555555555556,
             "#d8576b"
            ],
            [
             0.6666666666666666,
             "#ed7953"
            ],
            [
             0.7777777777777778,
             "#fb9f3a"
            ],
            [
             0.8888888888888888,
             "#fdca26"
            ],
            [
             1,
             "#f0f921"
            ]
           ]
          },
          "colorway": [
           "#636efa",
           "#EF553B",
           "#00cc96",
           "#ab63fa",
           "#FFA15A",
           "#19d3f3",
           "#FF6692",
           "#B6E880",
           "#FF97FF",
           "#FECB52"
          ],
          "font": {
           "color": "#2a3f5f"
          },
          "geo": {
           "bgcolor": "white",
           "lakecolor": "white",
           "landcolor": "#E5ECF6",
           "showlakes": true,
           "showland": true,
           "subunitcolor": "white"
          },
          "hoverlabel": {
           "align": "left"
          },
          "hovermode": "closest",
          "mapbox": {
           "style": "light"
          },
          "paper_bgcolor": "white",
          "plot_bgcolor": "#E5ECF6",
          "polar": {
           "angularaxis": {
            "gridcolor": "white",
            "linecolor": "white",
            "ticks": ""
           },
           "bgcolor": "#E5ECF6",
           "radialaxis": {
            "gridcolor": "white",
            "linecolor": "white",
            "ticks": ""
           }
          },
          "scene": {
           "xaxis": {
            "backgroundcolor": "#E5ECF6",
            "gridcolor": "white",
            "gridwidth": 2,
            "linecolor": "white",
            "showbackground": true,
            "ticks": "",
            "zerolinecolor": "white"
           },
           "yaxis": {
            "backgroundcolor": "#E5ECF6",
            "gridcolor": "white",
            "gridwidth": 2,
            "linecolor": "white",
            "showbackground": true,
            "ticks": "",
            "zerolinecolor": "white"
           },
           "zaxis": {
            "backgroundcolor": "#E5ECF6",
            "gridcolor": "white",
            "gridwidth": 2,
            "linecolor": "white",
            "showbackground": true,
            "ticks": "",
            "zerolinecolor": "white"
           }
          },
          "shapedefaults": {
           "line": {
            "color": "#2a3f5f"
           }
          },
          "ternary": {
           "aaxis": {
            "gridcolor": "white",
            "linecolor": "white",
            "ticks": ""
           },
           "baxis": {
            "gridcolor": "white",
            "linecolor": "white",
            "ticks": ""
           },
           "bgcolor": "#E5ECF6",
           "caxis": {
            "gridcolor": "white",
            "linecolor": "white",
            "ticks": ""
           }
          },
          "title": {
           "x": 0.05
          },
          "xaxis": {
           "automargin": true,
           "gridcolor": "white",
           "linecolor": "white",
           "ticks": "",
           "title": {
            "standoff": 15
           },
           "zerolinecolor": "white",
           "zerolinewidth": 2
          },
          "yaxis": {
           "automargin": true,
           "gridcolor": "white",
           "linecolor": "white",
           "ticks": "",
           "title": {
            "standoff": 15
           },
           "zerolinecolor": "white",
           "zerolinewidth": 2
          }
         }
        },
        "title": {
         "text": "Top 10 URLs with Lowest SEO Score"
        },
        "xaxis": {
         "anchor": "y",
         "domain": [
          0,
          1
         ],
         "title": {
          "text": "URL"
         }
        },
        "yaxis": {
         "anchor": "x",
         "domain": [
          0,
          1
         ],
         "title": {
          "text": "SEO Score"
         }
        }
       }
      }
     },
     "metadata": {},
     "output_type": "display_data"
    }
   ],
   "source": [
    "# 3. Top 10 URLs with the lowest SEO scores\n",
    "bottom10_df = df.sort_values(\"SEO Score\").head(10)\n",
    "fig3 = px.bar(bottom10_df, x=\"URL\", y=\"SEO Score\", title=\"Top 10 URLs with Lowest SEO Score\")\n",
    "fig3.write_html(\"../../fam-report-site/public/Web-Analytics/bottom10_seo_scores.html\")\n",
    "fig3.show()"
   ]
  }
 ],
 "metadata": {
  "kernelspec": {
   "display_name": "base",
   "language": "python",
   "name": "python3"
  },
  "language_info": {
   "codemirror_mode": {
    "name": "ipython",
    "version": 3
   },
   "file_extension": ".py",
   "mimetype": "text/x-python",
   "name": "python",
   "nbconvert_exporter": "python",
   "pygments_lexer": "ipython3",
   "version": "3.10.9"
  },
  "orig_nbformat": 4
 },
 "nbformat": 4,
 "nbformat_minor": 2
}
