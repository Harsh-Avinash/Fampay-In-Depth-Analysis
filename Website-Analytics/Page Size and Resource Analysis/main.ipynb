{
 "cells": [
  {
   "cell_type": "code",
   "execution_count": 1,
   "metadata": {},
   "outputs": [],
   "source": [
    "import requests\n",
    "from bs4 import BeautifulSoup\n",
    "import pandas as pd\n",
    "import plotly.express as px\n",
    "import ast"
   ]
  },
  {
   "cell_type": "code",
   "execution_count": 2,
   "metadata": {},
   "outputs": [],
   "source": [
    "def get_page_size(url):\n",
    "    response = requests.get(url)\n",
    "    page_size = len(response.content) / 1024  # Convert bytes to kilobytes\n",
    "    return page_size"
   ]
  },
  {
   "cell_type": "code",
   "execution_count": 3,
   "metadata": {},
   "outputs": [],
   "source": [
    "def get_resource_size(base_url, resource_url):\n",
    "    if resource_url.startswith('http'):\n",
    "        absolute_url = resource_url\n",
    "    else:\n",
    "        absolute_url = f'{base_url}/{resource_url}'  # Handle relative URLs\n",
    "    \n",
    "    response = requests.head(absolute_url)\n",
    "    resource_size = int(response.headers.get('content-length', 0)) / 1024  # Convert bytes to kilobytes\n",
    "    return resource_size"
   ]
  },
  {
   "cell_type": "code",
   "execution_count": 4,
   "metadata": {},
   "outputs": [],
   "source": [
    "def analyze_resources(url):\n",
    "    response = requests.get(url)\n",
    "    soup = BeautifulSoup(response.content, 'html.parser')\n",
    "    \n",
    "    resource_sizes = []\n",
    "    \n",
    "    # Analyze images\n",
    "    images = soup.find_all('img')\n",
    "    for img in images:\n",
    "        img_url = img.get('src')\n",
    "        img_size = get_resource_size(url, img_url)\n",
    "        resource_sizes.append((img_url, img_size))\n",
    "    \n",
    "    # Analyze scripts\n",
    "    scripts = soup.find_all('script')\n",
    "    for script in scripts:\n",
    "        script_url = script.get('src')\n",
    "        if script_url:\n",
    "            script_size = get_resource_size(url, script_url)\n",
    "            resource_sizes.append((script_url, script_size))\n",
    "    \n",
    "    # Analyze stylesheets\n",
    "    stylesheets = soup.find_all('link', rel='stylesheet')\n",
    "    for stylesheet in stylesheets:\n",
    "        stylesheet_url = stylesheet.get('href')\n",
    "        if stylesheet_url:\n",
    "            stylesheet_size = get_resource_size(url, stylesheet_url)\n",
    "            resource_sizes.append((stylesheet_url, stylesheet_size))\n",
    "    \n",
    "    return resource_sizes"
   ]
  },
  {
   "cell_type": "code",
   "execution_count": 5,
   "metadata": {},
   "outputs": [],
   "source": [
    "# Read the CSV file into a DataFrame\n",
    "input_csv = '../EveryTraceOfFampayPeriod/filtered_links.csv'\n",
    "output_csv = 'resources.csv'\n",
    "\n",
    "# read and save input csv to a df\n",
    "df = pd.read_csv(input_csv)\n",
    "\n",
    "\n",
    "# Create new columns for page size and resource sizes\n",
    "df['Page Size (KB)'] = None\n",
    "df['Resource Sizes'] = None"
   ]
  },
  {
   "cell_type": "code",
   "execution_count": 6,
   "metadata": {},
   "outputs": [
    {
     "name": "stdout",
     "output_type": "stream",
     "text": [
      "Analyzing 1 of 246: https://famapp.in/\n",
      "Page size: 32.552734375 KB\n",
      "Resource sizes: [('/assets/images/icons/common/partyCapIcon.svg', 0.0), ('/assets/images/icons/common/partyFaceIcon.svg', 0.0), ('/assets/images/icons/common/singleGreyArrowIcon.svg', 0.0), ('/assets/images/icons/common/headerWhiteLogoIcon.svg', 0.0), ('/assets/images/images/pages/index/FamXBanner.png', 0.0), ('/assets/images/images/pages/index/FamXBanner.png', 0.0), ('/assets/images/images/pages/index/userTrustImage.png', 0.0), ('/assets/images/images/pages/index/TrioLogo.png', 0.0), ('/assets/images/images/pages/index/VisaLogo.png', 0.0), ('/assets/images/images/pages/index/RupayLogo.png', 0.0), ('/assets/images/images/pages/index/UPILogo.png', 0.0), ('/assets/images/images/pages/index/userTrustImage.png', 0.0), ('/assets/images/images/pages/index/TrioLogo.png', 0.0), ('/assets/images/images/pages/index/VisaLogo.png', 0.0), ('/assets/images/images/pages/index/RupayLogo.png', 0.0), ('/assets/images/images/pages/index/UPILogo.png', 0.0), ('/assets/images/images/pages/index/SpendingAccountImage.jpg', 0.0), ('/assets/images/images/pages/index/FamXTeens.png', 0.0), ('/assets/images/images/pages/index/scanPayUpi.png', 0.0), ('/assets/images/images/pages/index/personalizedThemes.png', 0.0), ('/assets/images/images/pages/index/recharge.png', 0.0), ('/assets/images/images/pages/index/upiImage.png', 0.0), ('/assets/images/images/pages/index/rewardIcon.png', 0.0), ('/assets/images/images/pages/index/giveaway.png', 0.0), ('/assets/images/images/pages/index/challenges.png', 0.0), ('/assets/images/images/pages/index/burnFamcoinPhoneImage.png', 0.0), ('/assets/images/images/pages/index/famcoinRewards.png', 0.0), ('/assets/images/images/pages/index/rewardIcon.png', 0.0), ('/assets/images/images/pages/index/giveaway.png', 0.0), ('/assets/images/images/pages/index/challenges.png', 0.0), ('/assets/images/images/pages/index/burnFamcoinPhoneImage.png', 0.0), ('/assets/images/images/pages/index/FamXCard.png', 0.0), ('/assets/images/images/pages/index/FamXCardTitle.png', 0.0), ('/assets/images/images/pages/index/Classic.png', 0.0), ('/assets/images/images/pages/index/Plus.png', 0.0), ('/assets/images/images/pages/index/Ultra.png', 0.0), ('/assets/images/images/pages/index/supportChatGif.gif', 0.0), ('/assets/images/images/pages/index/elevationImage.png', 0.0), ('/assets/images/images/pages/index/sequoiaImage.png', 0.0), ('/assets/images/images/pages/index/vhImage.png', 0.0), ('/assets/images/images/pages/index/gcImage.png', 0.0), ('/assets/images/images/pages/index/ycImage.png', 0.0), ('/assets/images/images/pages/index/gfcImage.png', 0.0), ('/assets/images/images/pages/index/rocketshipImage.png', 0.0), ('/assets/images/images/pages/index/greenoaksImage.png', 0.0), ('/assets/images/images/pages/index/hiringImage.png', 0.0), ('/assets/images/images/pages/index/qrcode.png', 0.0), ('/assets/images/icons/common/headerWhiteLogoIcon.svg', 0.0), ('/assets/images/icons/common/facebookGreyIcon.svg', 0.0), ('/assets/images/icons/common/mediumGreyIcon.svg', 0.0), ('/assets/images/icons/common/instagramGreyIcon.svg', 0.0), ('/assets/images/icons/common/linkedinGreyIcon.svg', 0.0), ('/assets/images/icons/common/twitterGreyIcon.svg', 0.0), ('/assets/images/icons/common/discordGreyIcon.svg', 0.0), ('/assets/images/icons/common/snapchatGreyIcon.svg', 0.0), ('/assets/images/icons/common/youtubeGreyIcon.svg', 0.0), ('/_next/static/chunks/polyfills-5cd94c89d3acac5f.js', 0.0), ('/_next/static/chunks/webpack-e2315b53e504a6de.js', 0.0), ('/_next/static/chunks/framework-79bce4a3a540b080.js', 0.0), ('/_next/static/chunks/main-02d79fe8c2a509ed.js', 0.0), ('/_next/static/chunks/pages/_app-5aa48e6daaf3fe0d.js', 0.0), ('/_next/static/chunks/2905-8aaa955321746aca.js', 0.0), ('/_next/static/chunks/5518-21e58bc44adfaa2d.js', 0.0), ('/_next/static/chunks/7454-c90862ff3e03df1e.js', 0.0), ('/_next/static/chunks/4590-75312c952da4fb21.js', 0.0), ('/_next/static/chunks/pages/index-afcb2cf026d17c85.js', 0.0), ('/_next/static/OnBp0dXLpVOYqcPmAsImr/_buildManifest.js', 0.0), ('/_next/static/OnBp0dXLpVOYqcPmAsImr/_ssgManifest.js', 0.0), ('/_next/static/OnBp0dXLpVOYqcPmAsImr/_middlewareManifest.js', 0.0), ('/_next/static/css/6238d6cccf041c98.css', 0.0), ('/_next/static/css/a3ccf72303662f65.css', 0.0)]\n",
      "Analyzing 2 of 246: https://famcard.me/\n",
      "Page size: 32.552734375 KB\n",
      "Resource sizes: [('/assets/images/icons/common/partyCapIcon.svg', 0.130859375), ('/assets/images/icons/common/partyFaceIcon.svg', 0.130859375), ('/assets/images/icons/common/singleGreyArrowIcon.svg', 0.130859375), ('/assets/images/icons/common/headerWhiteLogoIcon.svg', 0.130859375), ('/assets/images/images/pages/index/FamXBanner.png', 0.130859375), ('/assets/images/images/pages/index/FamXBanner.png', 0.130859375), ('/assets/images/images/pages/index/userTrustImage.png', 0.130859375), ('/assets/images/images/pages/index/TrioLogo.png', 0.130859375), ('/assets/images/images/pages/index/VisaLogo.png', 0.130859375), ('/assets/images/images/pages/index/RupayLogo.png', 0.130859375), ('/assets/images/images/pages/index/UPILogo.png', 0.130859375), ('/assets/images/images/pages/index/userTrustImage.png', 0.130859375), ('/assets/images/images/pages/index/TrioLogo.png', 0.130859375), ('/assets/images/images/pages/index/VisaLogo.png', 0.130859375), ('/assets/images/images/pages/index/RupayLogo.png', 0.130859375), ('/assets/images/images/pages/index/UPILogo.png', 0.130859375), ('/assets/images/images/pages/index/SpendingAccountImage.jpg', 0.130859375), ('/assets/images/images/pages/index/FamXTeens.png', 0.130859375), ('/assets/images/images/pages/index/scanPayUpi.png', 0.130859375), ('/assets/images/images/pages/index/personalizedThemes.png', 0.130859375), ('/assets/images/images/pages/index/recharge.png', 0.130859375), ('/assets/images/images/pages/index/upiImage.png', 0.130859375), ('/assets/images/images/pages/index/rewardIcon.png', 0.130859375), ('/assets/images/images/pages/index/giveaway.png', 0.130859375), ('/assets/images/images/pages/index/challenges.png', 0.130859375), ('/assets/images/images/pages/index/burnFamcoinPhoneImage.png', 0.130859375), ('/assets/images/images/pages/index/famcoinRewards.png', 0.130859375), ('/assets/images/images/pages/index/rewardIcon.png', 0.130859375), ('/assets/images/images/pages/index/giveaway.png', 0.130859375), ('/assets/images/images/pages/index/challenges.png', 0.130859375), ('/assets/images/images/pages/index/burnFamcoinPhoneImage.png', 0.130859375), ('/assets/images/images/pages/index/FamXCard.png', 0.130859375), ('/assets/images/images/pages/index/FamXCardTitle.png', 0.130859375), ('/assets/images/images/pages/index/Classic.png', 0.130859375), ('/assets/images/images/pages/index/Plus.png', 0.130859375), ('/assets/images/images/pages/index/Ultra.png', 0.130859375), ('/assets/images/images/pages/index/supportChatGif.gif', 0.130859375), ('/assets/images/images/pages/index/elevationImage.png', 0.130859375), ('/assets/images/images/pages/index/sequoiaImage.png', 0.130859375), ('/assets/images/images/pages/index/vhImage.png', 0.130859375), ('/assets/images/images/pages/index/gcImage.png', 0.130859375), ('/assets/images/images/pages/index/ycImage.png', 0.130859375), ('/assets/images/images/pages/index/gfcImage.png', 0.130859375), ('/assets/images/images/pages/index/rocketshipImage.png', 0.130859375), ('/assets/images/images/pages/index/greenoaksImage.png', 0.130859375), ('/assets/images/images/pages/index/hiringImage.png', 0.130859375), ('/assets/images/images/pages/index/qrcode.png', 0.130859375), ('/assets/images/icons/common/headerWhiteLogoIcon.svg', 0.130859375), ('/assets/images/icons/common/facebookGreyIcon.svg', 0.130859375), ('/assets/images/icons/common/mediumGreyIcon.svg', 0.130859375), ('/assets/images/icons/common/instagramGreyIcon.svg', 0.130859375), ('/assets/images/icons/common/linkedinGreyIcon.svg', 0.130859375), ('/assets/images/icons/common/twitterGreyIcon.svg', 0.130859375), ('/assets/images/icons/common/discordGreyIcon.svg', 0.130859375), ('/assets/images/icons/common/snapchatGreyIcon.svg', 0.130859375), ('/assets/images/icons/common/youtubeGreyIcon.svg', 0.130859375), ('/_next/static/chunks/polyfills-5cd94c89d3acac5f.js', 0.130859375), ('/_next/static/chunks/webpack-e2315b53e504a6de.js', 0.130859375), ('/_next/static/chunks/framework-79bce4a3a540b080.js', 0.130859375), ('/_next/static/chunks/main-02d79fe8c2a509ed.js', 0.130859375), ('/_next/static/chunks/pages/_app-5aa48e6daaf3fe0d.js', 0.130859375), ('/_next/static/chunks/2905-8aaa955321746aca.js', 0.130859375), ('/_next/static/chunks/5518-21e58bc44adfaa2d.js', 0.130859375), ('/_next/static/chunks/7454-c90862ff3e03df1e.js', 0.130859375), ('/_next/static/chunks/4590-75312c952da4fb21.js', 0.130859375), ('/_next/static/chunks/pages/index-afcb2cf026d17c85.js', 0.130859375), ('/_next/static/OnBp0dXLpVOYqcPmAsImr/_buildManifest.js', 0.130859375), ('/_next/static/OnBp0dXLpVOYqcPmAsImr/_ssgManifest.js', 0.130859375), ('/_next/static/OnBp0dXLpVOYqcPmAsImr/_middlewareManifest.js', 0.130859375), ('/_next/static/css/6238d6cccf041c98.css', 0.130859375), ('/_next/static/css/a3ccf72303662f65.css', 0.130859375)]\n",
      "Analyzing 3 of 246: https://fampay.in/\n",
      "Page size: 32.552734375 KB\n",
      "Resource sizes: [('/assets/images/icons/common/partyCapIcon.svg', 0.130859375), ('/assets/images/icons/common/partyFaceIcon.svg', 0.130859375), ('/assets/images/icons/common/singleGreyArrowIcon.svg', 0.130859375), ('/assets/images/icons/common/headerWhiteLogoIcon.svg', 0.130859375), ('/assets/images/images/pages/index/FamXBanner.png', 0.130859375), ('/assets/images/images/pages/index/FamXBanner.png', 0.130859375), ('/assets/images/images/pages/index/userTrustImage.png', 0.130859375), ('/assets/images/images/pages/index/TrioLogo.png', 0.130859375), ('/assets/images/images/pages/index/VisaLogo.png', 0.130859375), ('/assets/images/images/pages/index/RupayLogo.png', 0.130859375), ('/assets/images/images/pages/index/UPILogo.png', 0.130859375), ('/assets/images/images/pages/index/userTrustImage.png', 0.130859375), ('/assets/images/images/pages/index/TrioLogo.png', 0.130859375), ('/assets/images/images/pages/index/VisaLogo.png', 0.130859375), ('/assets/images/images/pages/index/RupayLogo.png', 0.130859375), ('/assets/images/images/pages/index/UPILogo.png', 0.130859375), ('/assets/images/images/pages/index/SpendingAccountImage.jpg', 0.130859375), ('/assets/images/images/pages/index/FamXTeens.png', 0.130859375), ('/assets/images/images/pages/index/scanPayUpi.png', 0.130859375), ('/assets/images/images/pages/index/personalizedThemes.png', 0.130859375), ('/assets/images/images/pages/index/recharge.png', 0.130859375), ('/assets/images/images/pages/index/upiImage.png', 0.130859375), ('/assets/images/images/pages/index/rewardIcon.png', 0.130859375), ('/assets/images/images/pages/index/giveaway.png', 0.130859375), ('/assets/images/images/pages/index/challenges.png', 0.130859375), ('/assets/images/images/pages/index/burnFamcoinPhoneImage.png', 0.130859375), ('/assets/images/images/pages/index/famcoinRewards.png', 0.130859375), ('/assets/images/images/pages/index/rewardIcon.png', 0.130859375), ('/assets/images/images/pages/index/giveaway.png', 0.130859375), ('/assets/images/images/pages/index/challenges.png', 0.130859375), ('/assets/images/images/pages/index/burnFamcoinPhoneImage.png', 0.130859375), ('/assets/images/images/pages/index/FamXCard.png', 0.130859375), ('/assets/images/images/pages/index/FamXCardTitle.png', 0.130859375), ('/assets/images/images/pages/index/Classic.png', 0.130859375), ('/assets/images/images/pages/index/Plus.png', 0.130859375), ('/assets/images/images/pages/index/Ultra.png', 0.130859375), ('/assets/images/images/pages/index/supportChatGif.gif', 0.130859375), ('/assets/images/images/pages/index/elevationImage.png', 0.130859375), ('/assets/images/images/pages/index/sequoiaImage.png', 0.130859375), ('/assets/images/images/pages/index/vhImage.png', 0.130859375), ('/assets/images/images/pages/index/gcImage.png', 0.130859375), ('/assets/images/images/pages/index/ycImage.png', 0.130859375), ('/assets/images/images/pages/index/gfcImage.png', 0.130859375), ('/assets/images/images/pages/index/rocketshipImage.png', 0.130859375), ('/assets/images/images/pages/index/greenoaksImage.png', 0.130859375), ('/assets/images/images/pages/index/hiringImage.png', 0.130859375), ('/assets/images/images/pages/index/qrcode.png', 0.130859375), ('/assets/images/icons/common/headerWhiteLogoIcon.svg', 0.130859375), ('/assets/images/icons/common/facebookGreyIcon.svg', 0.130859375), ('/assets/images/icons/common/mediumGreyIcon.svg', 0.130859375), ('/assets/images/icons/common/instagramGreyIcon.svg', 0.130859375), ('/assets/images/icons/common/linkedinGreyIcon.svg', 0.130859375), ('/assets/images/icons/common/twitterGreyIcon.svg', 0.130859375), ('/assets/images/icons/common/discordGreyIcon.svg', 0.130859375), ('/assets/images/icons/common/snapchatGreyIcon.svg', 0.130859375), ('/assets/images/icons/common/youtubeGreyIcon.svg', 0.130859375), ('/_next/static/chunks/polyfills-5cd94c89d3acac5f.js', 0.130859375), ('/_next/static/chunks/webpack-e2315b53e504a6de.js', 0.130859375), ('/_next/static/chunks/framework-79bce4a3a540b080.js', 0.130859375), ('/_next/static/chunks/main-02d79fe8c2a509ed.js', 0.130859375), ('/_next/static/chunks/pages/_app-5aa48e6daaf3fe0d.js', 0.130859375), ('/_next/static/chunks/2905-8aaa955321746aca.js', 0.130859375), ('/_next/static/chunks/5518-21e58bc44adfaa2d.js', 0.130859375), ('/_next/static/chunks/7454-c90862ff3e03df1e.js', 0.130859375), ('/_next/static/chunks/4590-75312c952da4fb21.js', 0.130859375), ('/_next/static/chunks/pages/index-afcb2cf026d17c85.js', 0.130859375), ('/_next/static/OnBp0dXLpVOYqcPmAsImr/_buildManifest.js', 0.130859375), ('/_next/static/OnBp0dXLpVOYqcPmAsImr/_ssgManifest.js', 0.130859375), ('/_next/static/OnBp0dXLpVOYqcPmAsImr/_middlewareManifest.js', 0.130859375), ('/_next/static/css/6238d6cccf041c98.css', 0.130859375), ('/_next/static/css/a3ccf72303662f65.css', 0.130859375)]\n",
      "Analyzing 4 of 246: https://fampay.in/about\n",
      "Page size: 81.1337890625 KB\n",
      "Resource sizes: [('/assets/images/icons/common/partyCapIcon.svg', 0.130859375), ('/assets/images/icons/common/partyFaceIcon.svg', 0.130859375), ('/assets/images/icons/common/singleGreyArrowIcon.svg', 0.130859375), ('/assets/images/icons/common/headerWhiteLogoIcon.svg', 0.130859375), ('/assets/images/images/pages/about/missionImage.jpg', 0.130859375), ('/assets/images/images/pages/about/storyImage.jpg', 0.130859375), ('https://cdn.famapp.co.in/prod/website/famstars/kt.png', 42.6298828125), ('https://cdn.famapp.co.in/prod/website/famstars/sambhav.png', 74.1875), ('https://cdn.famapp.co.in/prod/website/famstars/harjot.png', 51.4326171875), ('https://cdn.famapp.co.in/prod/website/famstars/aayush.png', 45.95703125), ('https://cdn.famapp.co.in/prod/website/famstars/chirag.png', 52.166015625), ('https://cdn.famapp.co.in/prod/website/famstars/anchit.png', 54.0478515625), ('https://cdn.famapp.co.in/prod/website/famstars/prem.png', 83.2861328125), ('https://cdn.famapp.co.in/prod/website/famstars/saransh.png', 45.501953125), ('https://cdn.famapp.co.in/prod/website/famstars/Hrishi.png', 57.89453125), ('https://cdn.famapp.co.in/prod/website/famstars/pratikG.png', 69.029296875), ('https://cdn.famapp.co.in/prod/website/famstars/ritwick.png', 106.1552734375), ('https://cdn.famapp.co.in/prod/website/famstars/diya.png', 129.701171875), ('https://cdn.famapp.co.in/prod/website/famstars/chitra.png', 112.1630859375), ('https://cdn.famapp.co.in/prod/website/famstars/vishnu.png', 143.0869140625), ('https://cdn.famapp.co.in/prod/website/famstars/shifa.png', 493.1455078125), ('https://cdn.famapp.co.in/prod/website/famstars/tiara.png', 99.5986328125), ('https://cdn.famapp.co.in/prod/website/famstars/Charvi.png', 100.0693359375), ('https://cdn.famapp.co.in/prod/website/famstars/sajal.png', 45.025390625), ('https://cdn.famapp.co.in/prod/website/famstars/saurabhG.png', 22.1083984375), ('https://cdn.famapp.co.in/prod/website/famstars/janani.png', 136.478515625), ('https://cdn.famapp.co.in/prod/website/famstars/tanya.png', 123.55078125), ('https://cdn.famapp.co.in/prod/website/famstars/jitendra.png', 61.4140625), ('https://cdn.famapp.co.in/prod/website/famstars/abhay.png', 73.1044921875), ('https://cdn.famapp.co.in/prod/website/famstars/Aditya.png', 126.791015625), ('https://cdn.famapp.co.in/prod/website/famstars/Akhil.png', 71.1884765625), ('https://cdn.famapp.co.in/prod/website/famstars/Aapram.png', 76.271484375), ('https://cdn.famapp.co.in/prod/website/famstars/shagun.png', 63.2119140625), ('/assets/images/images/famstars/sid.png', 0.130859375), ('/assets/images/images/famstars/melron.png', 0.130859375), ('/assets/images/images/famstars/ananya.png', 0.130859375), ('/assets/images/images/famstars/anand.png', 0.130859375), ('/assets/images/images/famstars/vaibhavi.png', 0.130859375), ('/assets/images/images/famstars/sanjeet.png', 0.130859375), ('/assets/images/images/famstars/ridima.png', 0.130859375), ('/assets/images/images/famstars/garvita.png', 0.130859375), ('/assets/images/images/famstars/aishwarya.png', 0.130859375), ('/assets/images/images/famstars/vishalJain.png', 0.130859375), ('/assets/images/images/famstars/brijesh.png', 0.130859375), ('/assets/images/images/famstars/anshu.png', 0.130859375), ('/assets/images/images/famstars/yashJain.png', 0.130859375), ('/assets/images/images/famstars/gaurav.png', 0.130859375), ('/assets/images/images/famstars/komal.png', 0.130859375), ('/assets/images/images/famstars/mohit.png', 0.130859375), ('/assets/images/images/famstars/nimitt.png', 0.130859375), ('/assets/images/images/famstars/sameeran.png', 0.130859375), ('/assets/images/images/famstars/shikhar.png', 0.130859375), ('/assets/images/images/famstars/soumik.png', 0.130859375), ('/assets/images/images/famstars/sumit.png', 0.130859375), ('/assets/images/images/famstars/vishal.png', 0.130859375), ('/assets/images/images/famstars/priyanka.png', 0.130859375), ('/assets/images/images/famstars/arohi.png', 0.130859375), ('/assets/images/images/famstars/devarsh.png', 0.130859375), ('/assets/images/images/famstars/archit.png', 0.130859375), ('/assets/images/images/famstars/agniva.png', 0.130859375), ('/assets/images/images/famstars/moksha.png', 0.130859375), ('/assets/images/images/famstars/prasanjeet.png', 0.130859375), ('/assets/images/images/famstars/sakshi.png', 0.130859375), ('/assets/images/images/famstars/sabarish.png', 0.130859375), ('/assets/images/images/famstars/karan.png', 0.130859375), ('/assets/images/images/famstars/peeyush.png', 0.130859375), ('/assets/images/images/famstars/shobhit.png', 0.130859375), ('/assets/images/images/famstars/sanat.png', 0.130859375), ('/assets/images/icons/common/singleGreyArrowIcon.svg', 0.130859375), ('https://cdn.famapp.co.in/prod/website/famstars/kt.png', 42.6298828125), ('https://cdn.famapp.co.in/prod/website/famstars/sambhav.png', 74.1875), ('https://cdn.famapp.co.in/prod/website/famstars/harjot.png', 51.4326171875), ('https://cdn.famapp.co.in/prod/website/famstars/aayush.png', 45.95703125), ('https://cdn.famapp.co.in/prod/website/famstars/chirag.png', 52.166015625), ('https://cdn.famapp.co.in/prod/website/famstars/anchit.png', 54.0478515625), ('https://cdn.famapp.co.in/prod/website/famstars/prem.png', 83.2861328125), ('https://cdn.famapp.co.in/prod/website/famstars/saransh.png', 45.501953125), ('https://cdn.famapp.co.in/prod/website/famstars/Hrishi.png', 57.89453125), ('https://cdn.famapp.co.in/prod/website/famstars/pratikG.png', 69.029296875), ('https://cdn.famapp.co.in/prod/website/famstars/ritwick.png', 106.1552734375), ('https://cdn.famapp.co.in/prod/website/famstars/diya.png', 129.701171875), ('https://cdn.famapp.co.in/prod/website/famstars/chitra.png', 112.1630859375), ('https://cdn.famapp.co.in/prod/website/famstars/vishnu.png', 143.0869140625), ('https://cdn.famapp.co.in/prod/website/famstars/shifa.png', 493.1455078125), ('https://cdn.famapp.co.in/prod/website/famstars/tiara.png', 99.5986328125), ('https://cdn.famapp.co.in/prod/website/famstars/Charvi.png', 100.0693359375), ('https://cdn.famapp.co.in/prod/website/famstars/sajal.png', 45.025390625), ('https://cdn.famapp.co.in/prod/website/famstars/saurabhG.png', 22.1083984375), ('https://cdn.famapp.co.in/prod/website/famstars/janani.png', 136.478515625), ('https://cdn.famapp.co.in/prod/website/famstars/tanya.png', 123.55078125), ('https://cdn.famapp.co.in/prod/website/famstars/jitendra.png', 61.4140625), ('https://cdn.famapp.co.in/prod/website/famstars/abhay.png', 73.1044921875), ('https://cdn.famapp.co.in/prod/website/famstars/Aditya.png', 126.791015625), ('https://cdn.famapp.co.in/prod/website/famstars/Akhil.png', 71.1884765625), ('https://cdn.famapp.co.in/prod/website/famstars/Aapram.png', 76.271484375), ('https://cdn.famapp.co.in/prod/website/famstars/shagun.png', 63.2119140625), ('/assets/images/images/famstars/sid.png', 0.130859375), ('/assets/images/images/famstars/melron.png', 0.130859375), ('/assets/images/images/famstars/ananya.png', 0.130859375), ('/assets/images/images/famstars/anand.png', 0.130859375), ('/assets/images/images/famstars/vaibhavi.png', 0.130859375), ('/assets/images/images/famstars/sanjeet.png', 0.130859375), ('/assets/images/images/famstars/ridima.png', 0.130859375), ('/assets/images/images/famstars/garvita.png', 0.130859375), ('/assets/images/images/famstars/aishwarya.png', 0.130859375), ('/assets/images/images/famstars/vishalJain.png', 0.130859375), ('/assets/images/images/famstars/brijesh.png', 0.130859375), ('/assets/images/images/famstars/anshu.png', 0.130859375), ('/assets/images/images/famstars/yashJain.png', 0.130859375), ('/assets/images/images/famstars/gaurav.png', 0.130859375), ('/assets/images/images/famstars/komal.png', 0.130859375), ('/assets/images/images/famstars/mohit.png', 0.130859375), ('/assets/images/images/famstars/nimitt.png', 0.130859375), ('/assets/images/images/famstars/sameeran.png', 0.130859375), ('/assets/images/images/famstars/shikhar.png', 0.130859375), ('/assets/images/images/famstars/soumik.png', 0.130859375), ('/assets/images/images/famstars/sumit.png', 0.130859375), ('/assets/images/images/famstars/vishal.png', 0.130859375), ('/assets/images/images/famstars/priyanka.png', 0.130859375), ('/assets/images/images/famstars/arohi.png', 0.130859375), ('/assets/images/images/famstars/devarsh.png', 0.130859375), ('/assets/images/images/famstars/archit.png', 0.130859375), ('/assets/images/images/famstars/agniva.png', 0.130859375), ('/assets/images/images/famstars/moksha.png', 0.130859375), ('/assets/images/images/famstars/prasanjeet.png', 0.130859375), ('/assets/images/images/famstars/sakshi.png', 0.130859375), ('/assets/images/images/famstars/sabarish.png', 0.130859375), ('/assets/images/images/famstars/karan.png', 0.130859375), ('/assets/images/images/famstars/peeyush.png', 0.130859375), ('/assets/images/images/famstars/shobhit.png', 0.130859375), ('/assets/images/images/famstars/sanat.png', 0.130859375), ('/assets/images/icons/common/singleGreyArrowIcon.svg', 0.130859375), ('/assets/images/icons/common/headerGreyLogoIcon.svg', 0.130859375), ('/assets/images/icons/common/facebookGreyIcon.svg', 0.130859375), ('/assets/images/icons/common/mediumGreyIcon.svg', 0.130859375), ('/assets/images/icons/common/instagramGreyIcon.svg', 0.130859375), ('/assets/images/icons/common/linkedinGreyIcon.svg', 0.130859375), ('/assets/images/icons/common/twitterGreyIcon.svg', 0.130859375), ('/assets/images/icons/common/discordGreyIcon.svg', 0.130859375), ('/assets/images/icons/common/snapchatGreyIcon.svg', 0.130859375), ('/assets/images/icons/common/youtubeGreyIcon.svg', 0.130859375), ('/_next/static/chunks/polyfills-5cd94c89d3acac5f.js', 0.130859375), ('/_next/static/chunks/webpack-e2315b53e504a6de.js', 0.130859375), ('/_next/static/chunks/framework-79bce4a3a540b080.js', 0.130859375), ('/_next/static/chunks/main-02d79fe8c2a509ed.js', 0.130859375), ('/_next/static/chunks/pages/_app-5aa48e6daaf3fe0d.js', 0.130859375), ('/_next/static/chunks/2905-8aaa955321746aca.js', 0.130859375), ('/_next/static/chunks/1472-e24409dd291e3c18.js', 0.130859375), ('/_next/static/chunks/7454-c90862ff3e03df1e.js', 0.130859375), ('/_next/static/chunks/4590-75312c952da4fb21.js', 0.130859375), ('/_next/static/chunks/pages/about-b955a1c3293f2ffc.js', 0.130859375), ('/_next/static/OnBp0dXLpVOYqcPmAsImr/_buildManifest.js', 0.130859375), ('/_next/static/OnBp0dXLpVOYqcPmAsImr/_ssgManifest.js', 0.130859375), ('/_next/static/OnBp0dXLpVOYqcPmAsImr/_middlewareManifest.js', 0.130859375), ('/_next/static/css/6238d6cccf041c98.css', 0.130859375), ('/_next/static/css/483015020b48b4d6.css', 0.130859375)]\n",
      "Analyzing 5 of 246: https://fampay.in/blog\n",
      "Page size: 36.6396484375 KB\n",
      "Resource sizes: [('https://fampay.in/blog/content/images/2020/11/logofilewhite-11-2.png', 0.130859375), ('https://fampay.in/blog/content/images/2020/11/logofilewhite-11-2.png', 0.130859375), ('https://cdn.jsdelivr.net/ghost/portal@~2.30/umd/portal.min.js', 170.8154296875), ('https://cdn.jsdelivr.net/ghost/sodo-search@~1.1/umd/sodo-search.min.js', 95.5751953125), ('/blog/public/cards.min.js?v=22080dfa02', 0.130859375), ('/blog/public/member-attribution.min.js?v=22080dfa02', 0.130859375), ('https://www.googletagmanager.com/gtag/js?id=UA-147725948-3', 0.0), ('https://polyfill.io/v3/polyfill.min.js?features=IntersectionObserver%2CPromise%2CArray.prototype.includes%2CString.prototype.endsWith%2CString.prototype.startsWith%2CObject.assign%2CNodeList.prototype.forEach', 14.1123046875), ('/blog/assets/js/vendor/content-api.min.js?v=22080dfa02', 0.130859375), ('/blog/assets/js/manifest.js?v=22080dfa02', 0.130859375), ('/blog/assets/js/vendor.js?v=22080dfa02', 0.130859375), ('/blog/assets/js/app.js?v=22080dfa02', 0.130859375), ('/blog/assets/js/home.js?v=22080dfa02', 0.130859375), ('/blog/assets/css/app.css?v=22080dfa02', 0.130859375), ('/blog/public/cards.min.css?v=22080dfa02', 0.130859375)]\n",
      "Analyzing 6 of 246: https://fampay.in/blog/tag/teens/\n",
      "Page size: 37.0634765625 KB\n",
      "Resource sizes: [('https://fampay.in/blog/content/images/2020/11/logofilewhite-11-2.png', 0.130859375), ('https://fampay.in/blog/content/images/2020/11/logofilewhite-11-2.png', 0.130859375), ('https://cdn.jsdelivr.net/ghost/portal@~2.30/umd/portal.min.js', 170.8154296875), ('https://cdn.jsdelivr.net/ghost/sodo-search@~1.1/umd/sodo-search.min.js', 95.5751953125), ('/blog/public/cards.min.js?v=22080dfa02', 0.130859375), ('/blog/public/member-attribution.min.js?v=22080dfa02', 0.130859375), ('https://www.googletagmanager.com/gtag/js?id=UA-147725948-3', 0.0), ('https://polyfill.io/v3/polyfill.min.js?features=IntersectionObserver%2CPromise%2CArray.prototype.includes%2CString.prototype.endsWith%2CString.prototype.startsWith%2CObject.assign%2CNodeList.prototype.forEach', 14.1123046875), ('/blog/assets/js/vendor/content-api.min.js?v=22080dfa02', 0.130859375), ('/blog/assets/js/manifest.js?v=22080dfa02', 0.130859375), ('/blog/assets/js/vendor.js?v=22080dfa02', 0.130859375), ('/blog/assets/js/app.js?v=22080dfa02', 0.130859375), ('/blog/assets/css/app.css?v=22080dfa02', 0.130859375), ('/blog/public/cards.min.css?v=22080dfa02', 0.130859375)]\n",
      "Analyzing 7 of 246: https://fampay.in/blog/decor-ideas-that-would-transform-your-room-at-home-or-hostel/\n",
      "Page size: 40.7919921875 KB\n",
      "Resource sizes: [('https://fampay.in/blog/content/images/2020/11/logofilewhite-11-2.png', 0.130859375), ('https://fampay.in/blog/content/images/2020/11/logofilewhite-11-2.png', 0.130859375), ('https://fampay.in/blog/content/images/2021/09/image-20.png', 0.130859375), ('https://fampay.in/blog/content/images/2021/09/image-21.png', 0.130859375), ('https://fampay.in/blog/content/images/2021/09/image-22.png', 0.130859375), ('https://fampay.in/blog/content/images/2021/09/image-23.png', 0.130859375), ('/blog/assets/images/success.png?v=22080dfa02', 0.130859375), ('https://cdn.jsdelivr.net/ghost/portal@~2.30/umd/portal.min.js', 170.8154296875), ('https://cdn.jsdelivr.net/ghost/sodo-search@~1.1/umd/sodo-search.min.js', 95.5751953125), ('/blog/public/cards.min.js?v=22080dfa02', 0.130859375), ('/blog/public/member-attribution.min.js?v=22080dfa02', 0.130859375), ('https://www.googletagmanager.com/gtag/js?id=UA-147725948-3', 0.0), ('https://polyfill.io/v3/polyfill.min.js?features=IntersectionObserver%2CPromise%2CArray.prototype.includes%2CString.prototype.endsWith%2CString.prototype.startsWith%2CObject.assign%2CNodeList.prototype.forEach', 14.1123046875), ('/blog/assets/js/vendor/content-api.min.js?v=22080dfa02', 0.130859375), ('/blog/assets/js/manifest.js?v=22080dfa02', 0.130859375), ('/blog/assets/js/vendor.js?v=22080dfa02', 0.130859375), ('/blog/assets/js/app.js?v=22080dfa02', 0.130859375), ('/blog/assets/js/post.js?v=22080dfa02', 0.130859375), ('/blog/assets/css/app.css?v=22080dfa02', 0.130859375), ('/blog/public/cards.min.css?v=22080dfa02', 0.130859375)]\n",
      "Analyzing 8 of 246: https://fampay.in/blog/social-commerce-making-money-just-through-social-media/\n",
      "Page size: 41.623046875 KB\n",
      "Resource sizes: [('https://fampay.in/blog/content/images/2020/11/logofilewhite-11-2.png', 0.130859375), ('https://fampay.in/blog/content/images/2020/11/logofilewhite-11-2.png', 0.130859375), ('https://fampay.in/blog/content/images/2021/09/image-7.png', 0.130859375), ('https://lh3.googleusercontent.com/1196RxHQNgdU9nnillmAdjGwxAbD0ICRGwPTYuhCbUkuQw6VTmB-biOmhGle3QiMQ441_Ate8WTrdszbc6aFEAx-3QSU0BGZkZBq2abQopPAhY53v-T35SZOt19od_Y0m8joIjI6=s0', 459.0654296875), ('https://fampay.in/blog/content/images/2021/09/image-1.png', 0.130859375), ('https://fampay.in/blog/content/images/2021/09/Frame-3.png', 0.130859375), ('/blog/assets/images/success.png?v=22080dfa02', 0.130859375), ('https://cdn.jsdelivr.net/ghost/portal@~2.30/umd/portal.min.js', 170.8154296875), ('https://cdn.jsdelivr.net/ghost/sodo-search@~1.1/umd/sodo-search.min.js', 95.5751953125), ('/blog/public/cards.min.js?v=22080dfa02', 0.130859375), ('/blog/public/member-attribution.min.js?v=22080dfa02', 0.130859375), ('https://www.googletagmanager.com/gtag/js?id=UA-147725948-3', 0.0), ('https://polyfill.io/v3/polyfill.min.js?features=IntersectionObserver%2CPromise%2CArray.prototype.includes%2CString.prototype.endsWith%2CString.prototype.startsWith%2CObject.assign%2CNodeList.prototype.forEach', 14.1123046875), ('/blog/assets/js/vendor/content-api.min.js?v=22080dfa02', 0.130859375), ('/blog/assets/js/manifest.js?v=22080dfa02', 0.130859375), ('/blog/assets/js/vendor.js?v=22080dfa02', 0.130859375), ('/blog/assets/js/app.js?v=22080dfa02', 0.130859375), ('/blog/assets/js/post.js?v=22080dfa02', 0.130859375), ('/blog/assets/css/app.css?v=22080dfa02', 0.130859375), ('/blog/public/cards.min.css?v=22080dfa02', 0.130859375)]\n",
      "Analyzing 9 of 246: https://fampay.in/blog/perks-of-using-the-famcard-me/\n",
      "Page size: 39.755859375 KB\n",
      "Resource sizes: [('https://fampay.in/blog/content/images/2020/11/logofilewhite-11-2.png', 0.130859375), ('https://fampay.in/blog/content/images/2020/11/logofilewhite-11-2.png', 0.130859375), ('https://fampay.in/blog/content/images/2021/08/9334CB1C-358A-4563-84ED-11A11466F3B6.jpeg', 0.130859375), ('https://fampay.in/blog/content/images/2021/08/AA9F33FC-1ACB-49EB-A087-2269C23D7EFB.jpeg', 0.130859375), ('https://fampay.in/blog/content/images/2021/08/4970929F-5733-4C95-A5DB-1DB85970C901.jpeg', 0.130859375), ('https://fampay.in/blog/content/images/2021/08/C1F98D9F-C1ED-4916-93B0-DF9782589FD1.jpeg', 0.130859375), ('/blog/assets/images/success.png?v=22080dfa02', 0.130859375), ('https://cdn.jsdelivr.net/ghost/portal@~2.30/umd/portal.min.js', 170.8154296875), ('https://cdn.jsdelivr.net/ghost/sodo-search@~1.1/umd/sodo-search.min.js', 95.5751953125), ('/blog/public/cards.min.js?v=22080dfa02', 0.130859375), ('/blog/public/member-attribution.min.js?v=22080dfa02', 0.130859375), ('https://www.googletagmanager.com/gtag/js?id=UA-147725948-3', 0.0), ('https://polyfill.io/v3/polyfill.min.js?features=IntersectionObserver%2CPromise%2CArray.prototype.includes%2CString.prototype.endsWith%2CString.prototype.startsWith%2CObject.assign%2CNodeList.prototype.forEach', 14.1123046875), ('/blog/assets/js/vendor/content-api.min.js?v=22080dfa02', 0.130859375), ('/blog/assets/js/manifest.js?v=22080dfa02', 0.130859375), ('/blog/assets/js/vendor.js?v=22080dfa02', 0.130859375), ('/blog/assets/js/app.js?v=22080dfa02', 0.130859375), ('/blog/assets/js/post.js?v=22080dfa02', 0.130859375), ('/blog/assets/css/app.css?v=22080dfa02', 0.130859375), ('/blog/public/cards.min.css?v=22080dfa02', 0.130859375)]\n",
      "Analyzing 10 of 246: https://fampay.in/blog/13-boredom-busters-for-teens/\n",
      "Page size: 43.65234375 KB\n",
      "Resource sizes: [('https://fampay.in/blog/content/images/2020/11/logofilewhite-11-2.png', 0.130859375), ('https://fampay.in/blog/content/images/2020/11/logofilewhite-11-2.png', 0.130859375), ('https://fampay.in/blog/content/images/2021/08/image-3.png', 0.130859375), ('https://fampay.in/blog/content/images/2021/08/image-1.png', 0.130859375), ('https://fampay.in/blog/content/images/2021/08/image-6.png', 0.130859375), ('https://fampay.in/blog/content/images/2021/08/image-4.png', 0.130859375), ('/blog/assets/images/success.png?v=22080dfa02', 0.130859375), ('https://cdn.jsdelivr.net/ghost/portal@~2.30/umd/portal.min.js', 170.8154296875), ('https://cdn.jsdelivr.net/ghost/sodo-search@~1.1/umd/sodo-search.min.js', 95.5751953125), ('/blog/public/cards.min.js?v=22080dfa02', 0.130859375), ('/blog/public/member-attribution.min.js?v=22080dfa02', 0.130859375), ('https://www.googletagmanager.com/gtag/js?id=UA-147725948-3', 0.0), ('https://polyfill.io/v3/polyfill.min.js?features=IntersectionObserver%2CPromise%2CArray.prototype.includes%2CString.prototype.endsWith%2CString.prototype.startsWith%2CObject.assign%2CNodeList.prototype.forEach', 14.1123046875), ('/blog/assets/js/vendor/content-api.min.js?v=22080dfa02', 0.130859375), ('/blog/assets/js/manifest.js?v=22080dfa02', 0.130859375), ('/blog/assets/js/vendor.js?v=22080dfa02', 0.130859375), ('/blog/assets/js/app.js?v=22080dfa02', 0.130859375), ('/blog/assets/js/post.js?v=22080dfa02', 0.130859375), ('/blog/assets/css/app.css?v=22080dfa02', 0.130859375), ('/blog/public/cards.min.css?v=22080dfa02', 0.130859375)]\n",
      "Analyzing 11 of 246: https://fampay.in/blog/how-can-teens-open-shops-on-instagram/\n",
      "Page size: 44.4677734375 KB\n",
      "Resource sizes: [('https://fampay.in/blog/content/images/2020/11/logofilewhite-11-2.png', 0.130859375), ('https://fampay.in/blog/content/images/2020/11/logofilewhite-11-2.png', 0.130859375), ('/blog/assets/images/success.png?v=22080dfa02', 0.130859375), ('https://cdn.jsdelivr.net/ghost/portal@~2.30/umd/portal.min.js', 170.8154296875), ('https://cdn.jsdelivr.net/ghost/sodo-search@~1.1/umd/sodo-search.min.js', 95.5751953125), ('/blog/public/cards.min.js?v=22080dfa02', 0.130859375), ('/blog/public/member-attribution.min.js?v=22080dfa02', 0.130859375), ('https://www.googletagmanager.com/gtag/js?id=UA-147725948-3', 0.0), ('https://polyfill.io/v3/polyfill.min.js?features=IntersectionObserver%2CPromise%2CArray.prototype.includes%2CString.prototype.endsWith%2CString.prototype.startsWith%2CObject.assign%2CNodeList.prototype.forEach', 14.1123046875), ('/blog/assets/js/vendor/content-api.min.js?v=22080dfa02', 0.130859375), ('/blog/assets/js/manifest.js?v=22080dfa02', 0.130859375), ('/blog/assets/js/vendor.js?v=22080dfa02', 0.130859375), ('/blog/assets/js/app.js?v=22080dfa02', 0.130859375), ('/blog/assets/js/post.js?v=22080dfa02', 0.130859375), ('/blog/assets/css/app.css?v=22080dfa02', 0.130859375), ('/blog/public/cards.min.css?v=22080dfa02', 0.130859375)]\n",
      "Analyzing 12 of 246: https://fampay.in/blog/author/arohi/\n",
      "Page size: 23.5244140625 KB\n",
      "Resource sizes: [('https://fampay.in/blog/content/images/2020/11/logofilewhite-11-2.png', 0.130859375), ('https://fampay.in/blog/content/images/2020/11/logofilewhite-11-2.png', 0.130859375), ('https://cdn.jsdelivr.net/ghost/portal@~2.30/umd/portal.min.js', 170.8154296875), ('https://cdn.jsdelivr.net/ghost/sodo-search@~1.1/umd/sodo-search.min.js', 95.5751953125), ('/blog/public/cards.min.js?v=22080dfa02', 0.130859375), ('/blog/public/member-attribution.min.js?v=22080dfa02', 0.130859375), ('https://www.googletagmanager.com/gtag/js?id=UA-147725948-3', 0.0), ('https://polyfill.io/v3/polyfill.min.js?features=IntersectionObserver%2CPromise%2CArray.prototype.includes%2CString.prototype.endsWith%2CString.prototype.startsWith%2CObject.assign%2CNodeList.prototype.forEach', 14.1123046875), ('/blog/assets/js/vendor/content-api.min.js?v=22080dfa02', 0.130859375), ('/blog/assets/js/manifest.js?v=22080dfa02', 0.130859375), ('/blog/assets/js/vendor.js?v=22080dfa02', 0.130859375), ('/blog/assets/js/app.js?v=22080dfa02', 0.130859375), ('/blog/assets/css/app.css?v=22080dfa02', 0.130859375), ('/blog/public/cards.min.css?v=22080dfa02', 0.130859375)]\n",
      "Analyzing 13 of 246: https://fampay.in/blog/tag/teens/page/2/\n",
      "Page size: 34.7841796875 KB\n",
      "Resource sizes: [('https://fampay.in/blog/content/images/2020/11/logofilewhite-11-2.png', 0.130859375), ('https://fampay.in/blog/content/images/2020/11/logofilewhite-11-2.png', 0.130859375), ('https://cdn.jsdelivr.net/ghost/portal@~2.30/umd/portal.min.js', 170.8154296875), ('https://cdn.jsdelivr.net/ghost/sodo-search@~1.1/umd/sodo-search.min.js', 95.5751953125), ('/blog/public/cards.min.js?v=22080dfa02', 0.130859375), ('/blog/public/member-attribution.min.js?v=22080dfa02', 0.130859375), ('https://www.googletagmanager.com/gtag/js?id=UA-147725948-3', 0.0), ('https://polyfill.io/v3/polyfill.min.js?features=IntersectionObserver%2CPromise%2CArray.prototype.includes%2CString.prototype.endsWith%2CString.prototype.startsWith%2CObject.assign%2CNodeList.prototype.forEach', 14.1123046875), ('/blog/assets/js/vendor/content-api.min.js?v=22080dfa02', 0.130859375), ('/blog/assets/js/manifest.js?v=22080dfa02', 0.130859375), ('/blog/assets/js/vendor.js?v=22080dfa02', 0.130859375), ('/blog/assets/js/app.js?v=22080dfa02', 0.130859375), ('/blog/assets/css/app.css?v=22080dfa02', 0.130859375), ('/blog/public/cards.min.css?v=22080dfa02', 0.130859375)]\n",
      "Analyzing 14 of 246: https://fampay.in/blog/tag/parents/\n",
      "Page size: 36.8388671875 KB\n",
      "Resource sizes: [('https://fampay.in/blog/content/images/2020/11/logofilewhite-11-2.png', 0.130859375), ('https://fampay.in/blog/content/images/2020/11/logofilewhite-11-2.png', 0.130859375), ('https://cdn.jsdelivr.net/ghost/portal@~2.30/umd/portal.min.js', 170.8154296875), ('https://cdn.jsdelivr.net/ghost/sodo-search@~1.1/umd/sodo-search.min.js', 95.5751953125), ('/blog/public/cards.min.js?v=22080dfa02', 0.130859375), ('/blog/public/member-attribution.min.js?v=22080dfa02', 0.130859375), ('https://www.googletagmanager.com/gtag/js?id=UA-147725948-3', 0.0), ('https://polyfill.io/v3/polyfill.min.js?features=IntersectionObserver%2CPromise%2CArray.prototype.includes%2CString.prototype.endsWith%2CString.prototype.startsWith%2CObject.assign%2CNodeList.prototype.forEach', 14.1123046875), ('/blog/assets/js/vendor/content-api.min.js?v=22080dfa02', 0.130859375), ('/blog/assets/js/manifest.js?v=22080dfa02', 0.130859375), ('/blog/assets/js/vendor.js?v=22080dfa02', 0.130859375), ('/blog/assets/js/app.js?v=22080dfa02', 0.130859375), ('/blog/assets/css/app.css?v=22080dfa02', 0.130859375), ('/blog/public/cards.min.css?v=22080dfa02', 0.130859375)]\n",
      "Analyzing 15 of 246: https://fampay.in/blog/healthy-wealth-how-can-parents-have-a-healthy-discussion-about-money-with-their-children/\n",
      "Page size: 43.2724609375 KB\n",
      "Resource sizes: [('https://fampay.in/blog/content/images/2020/11/logofilewhite-11-2.png', 0.130859375), ('https://fampay.in/blog/content/images/2020/11/logofilewhite-11-2.png', 0.130859375), ('https://fampay.in/blog/content/images/2020/09/kelly-sikkema-xoU52jUVUXA-unsplash.jpg', 0.130859375), ('https://fampay.in/blog/content/images/2020/09/northfolk-Ok76F6yW2iA-unsplash.jpg', 0.130859375), ('https://fampay.in/blog/content/images/2020/09/DSC01983-2.JPG', 0.130859375), ('https://fampay.in/blog/content/images/2020/09/sharon-mccutcheon--8a5eJ1-mmQ-unsplash.jpg', 0.130859375), ('https://fampay.in/blog/content/images/2020/09/lina-trochez-ktPKyUs3Qjs-unsplash.jpg', 0.130859375), ('/blog/assets/images/success.png?v=22080dfa02', 0.130859375), ('https://cdn.jsdelivr.net/ghost/portal@~2.30/umd/portal.min.js', 170.8154296875), ('https://cdn.jsdelivr.net/ghost/sodo-search@~1.1/umd/sodo-search.min.js', 95.5751953125), ('/blog/public/cards.min.js?v=22080dfa02', 0.130859375), ('/blog/public/member-attribution.min.js?v=22080dfa02', 0.130859375), ('https://www.googletagmanager.com/gtag/js?id=UA-147725948-3', 0.0), ('https://polyfill.io/v3/polyfill.min.js?features=IntersectionObserver%2CPromise%2CArray.prototype.includes%2CString.prototype.endsWith%2CString.prototype.startsWith%2CObject.assign%2CNodeList.prototype.forEach', 14.1123046875), ('/blog/assets/js/vendor/content-api.min.js?v=22080dfa02', 0.130859375), ('/blog/assets/js/manifest.js?v=22080dfa02', 0.130859375), ('/blog/assets/js/vendor.js?v=22080dfa02', 0.130859375), ('/blog/assets/js/app.js?v=22080dfa02', 0.130859375), ('/blog/assets/js/post.js?v=22080dfa02', 0.130859375), ('/blog/assets/css/app.css?v=22080dfa02', 0.130859375), ('/blog/public/cards.min.css?v=22080dfa02', 0.130859375)]\n",
      "Analyzing 16 of 246: https://fampay.in/blog/being-a-digital-parent-tips-to-mentor-everything-digital-that-your-teen-uses/\n",
      "Page size: 42.822265625 KB\n",
      "Resource sizes: [('https://fampay.in/blog/content/images/2020/11/logofilewhite-11-2.png', 0.130859375), ('https://fampay.in/blog/content/images/2020/11/logofilewhite-11-2.png', 0.130859375), ('https://lh6.googleusercontent.com/aefP4uKObTmnattGuvbLBIr4JRFdmD_zOfOnXVnELAwIn6imHx31_S4Yvsx8n8q5hOK7jWPV2ninhObYVL2DXc82VZ-ZV5FCZa0d4JH8CO75qu5wQTqHwoYzFioXEA', 0.0), ('https://fampay.in/blog/content/images/2020/09/annie-spratt-xKJUnFwfz3s-unsplash.jpg', 0.130859375), ('https://fampay.in/blog/content/images/2020/09/benjamin-manley-QkflfhJn1KA-unsplash-1.jpg', 0.130859375), ('/blog/assets/images/success.png?v=22080dfa02', 0.130859375), ('https://cdn.jsdelivr.net/ghost/portal@~2.30/umd/portal.min.js', 170.8154296875), ('https://cdn.jsdelivr.net/ghost/sodo-search@~1.1/umd/sodo-search.min.js', 95.5751953125), ('/blog/public/cards.min.js?v=22080dfa02', 0.130859375), ('/blog/public/member-attribution.min.js?v=22080dfa02', 0.130859375), ('https://www.googletagmanager.com/gtag/js?id=UA-147725948-3', 0.0), ('https://polyfill.io/v3/polyfill.min.js?features=IntersectionObserver%2CPromise%2CArray.prototype.includes%2CString.prototype.endsWith%2CString.prototype.startsWith%2CObject.assign%2CNodeList.prototype.forEach', 14.1123046875), ('/blog/assets/js/vendor/content-api.min.js?v=22080dfa02', 0.130859375), ('/blog/assets/js/manifest.js?v=22080dfa02', 0.130859375), ('/blog/assets/js/vendor.js?v=22080dfa02', 0.130859375), ('/blog/assets/js/app.js?v=22080dfa02', 0.130859375), ('/blog/assets/js/post.js?v=22080dfa02', 0.130859375), ('/blog/assets/css/app.css?v=22080dfa02', 0.130859375), ('/blog/public/cards.min.css?v=22080dfa02', 0.130859375)]\n",
      "Analyzing 17 of 246: https://fampay.in/blog/top-5-tips-to-communicate-better-with-your-teenager/\n",
      "Page size: 43.705078125 KB\n",
      "Resource sizes: [('https://fampay.in/blog/content/images/2020/11/logofilewhite-11-2.png', 0.130859375), ('https://fampay.in/blog/content/images/2020/11/logofilewhite-11-2.png', 0.130859375), ('https://lh3.googleusercontent.com/lKi3uSU743qARVTgvDYdW6uVtG3HxjzyFzB-fA_NmrKAJDrAqJp0B072jtjvrZdXiSngpIois-0osZhPk4Ri-UyrT0qT19v28ho2U886C9sNJvFfmSWvI8CqXrjQIA', 0.0), ('https://lh3.googleusercontent.com/MtdEqJzfC2yWX7Rd4Fw8VPOEN6r4IhsxS6m6W8dxG8oajybcoDj5VV0TakznWoU6XVlwxfj2_kwMr0XQSuIhAHKk5hb6JFLBDG3ztDbMWeFnqBu1VXuCK0wKukCUjg', 0.0), ('https://lh6.googleusercontent.com/lYjMtly_U6ZrKaLEyyQCLpUBBegnf6603IDspzHrwVgAqjXX3DCJkm0pEOHo1pk_WgdbLvuhVj-wxHk0LLpYYxqOmPnvZH4DMsx2Rw1hlCrxJFr9vfMHcno2WcCI5g', 0.0), ('https://lh4.googleusercontent.com/c2Jjnq1rYf_Ef_Uar9HgThCtAacbm-WmaJleSNTCTJY-tgXffGnOcKJlhD--9ssHZAfQeDUlQZzPFpe3JGaCAmr2o2s13Hi0uy6heK4CHpkWpnvBehuVTgHMbZPwQmVtJ6s3Qa8', 0.0), ('/blog/assets/images/success.png?v=22080dfa02', 0.130859375), ('https://cdn.jsdelivr.net/ghost/portal@~2.30/umd/portal.min.js', 170.8154296875), ('https://cdn.jsdelivr.net/ghost/sodo-search@~1.1/umd/sodo-search.min.js', 95.5751953125), ('/blog/public/cards.min.js?v=22080dfa02', 0.130859375), ('/blog/public/member-attribution.min.js?v=22080dfa02', 0.130859375), ('https://www.googletagmanager.com/gtag/js?id=UA-147725948-3', 0.0), ('https://polyfill.io/v3/polyfill.min.js?features=IntersectionObserver%2CPromise%2CArray.prototype.includes%2CString.prototype.endsWith%2CString.prototype.startsWith%2CObject.assign%2CNodeList.prototype.forEach', 14.1123046875), ('/blog/assets/js/vendor/content-api.min.js?v=22080dfa02', 0.130859375), ('/blog/assets/js/manifest.js?v=22080dfa02', 0.130859375), ('/blog/assets/js/vendor.js?v=22080dfa02', 0.130859375), ('/blog/assets/js/app.js?v=22080dfa02', 0.130859375), ('/blog/assets/js/post.js?v=22080dfa02', 0.130859375), ('/blog/assets/css/app.css?v=22080dfa02', 0.130859375), ('/blog/public/cards.min.css?v=22080dfa02', 0.130859375)]\n",
      "Analyzing 18 of 246: https://fampay.in/blog/a-to-z-of-teenage-finance-financial-terms-every-parent-should-teach-their-teens/\n",
      "Page size: 41.19921875 KB\n",
      "Resource sizes: [('https://fampay.in/blog/content/images/2020/11/logofilewhite-11-2.png', 0.130859375), ('https://fampay.in/blog/content/images/2020/11/logofilewhite-11-2.png', 0.130859375), ('/blog/assets/images/success.png?v=22080dfa02', 0.130859375), ('https://cdn.jsdelivr.net/ghost/portal@~2.30/umd/portal.min.js', 170.8154296875), ('https://cdn.jsdelivr.net/ghost/sodo-search@~1.1/umd/sodo-search.min.js', 95.5751953125), ('/blog/public/cards.min.js?v=22080dfa02', 0.130859375), ('/blog/public/member-attribution.min.js?v=22080dfa02', 0.130859375), ('https://www.googletagmanager.com/gtag/js?id=UA-147725948-3', 0.0), ('https://polyfill.io/v3/polyfill.min.js?features=IntersectionObserver%2CPromise%2CArray.prototype.includes%2CString.prototype.endsWith%2CString.prototype.startsWith%2CObject.assign%2CNodeList.prototype.forEach', 14.1123046875), ('/blog/assets/js/vendor/content-api.min.js?v=22080dfa02', 0.130859375), ('/blog/assets/js/manifest.js?v=22080dfa02', 0.130859375), ('/blog/assets/js/vendor.js?v=22080dfa02', 0.130859375), ('/blog/assets/js/app.js?v=22080dfa02', 0.130859375), ('/blog/assets/js/post.js?v=22080dfa02', 0.130859375), ('/blog/assets/css/app.css?v=22080dfa02', 0.130859375), ('/blog/public/cards.min.css?v=22080dfa02', 0.130859375)]\n",
      "Analyzing 19 of 246: https://fampay.in/blog/cyber-bullying-what-can-you-do-as-a-parent/\n",
      "Page size: 45.087890625 KB\n",
      "Resource sizes: [('https://fampay.in/blog/content/images/2020/11/logofilewhite-11-2.png', 0.130859375), ('https://fampay.in/blog/content/images/2020/11/logofilewhite-11-2.png', 0.130859375), ('/blog/assets/images/success.png?v=22080dfa02', 0.130859375), ('https://cdn.jsdelivr.net/ghost/portal@~2.30/umd/portal.min.js', 170.8154296875), ('https://cdn.jsdelivr.net/ghost/sodo-search@~1.1/umd/sodo-search.min.js', 95.5751953125), ('/blog/public/cards.min.js?v=22080dfa02', 0.130859375), ('/blog/public/member-attribution.min.js?v=22080dfa02', 0.130859375), ('https://www.googletagmanager.com/gtag/js?id=UA-147725948-3', 0.0), ('https://polyfill.io/v3/polyfill.min.js?features=IntersectionObserver%2CPromise%2CArray.prototype.includes%2CString.prototype.endsWith%2CString.prototype.startsWith%2CObject.assign%2CNodeList.prototype.forEach', 14.1123046875), ('/blog/assets/js/vendor/content-api.min.js?v=22080dfa02', 0.130859375), ('/blog/assets/js/manifest.js?v=22080dfa02', 0.130859375), ('/blog/assets/js/vendor.js?v=22080dfa02', 0.130859375), ('/blog/assets/js/app.js?v=22080dfa02', 0.130859375), ('/blog/assets/js/post.js?v=22080dfa02', 0.130859375), ('/blog/assets/css/app.css?v=22080dfa02', 0.130859375), ('/blog/public/cards.min.css?v=22080dfa02', 0.130859375)]\n",
      "Analyzing 20 of 246: https://fampay.in/blog/4-ways-to-help-your-teen-learn-to-become-financially-responsible/\n",
      "Page size: 42.861328125 KB\n",
      "Resource sizes: [('https://fampay.in/blog/content/images/2020/11/logofilewhite-11-2.png', 0.130859375), ('https://fampay.in/blog/content/images/2020/11/logofilewhite-11-2.png', 0.130859375), ('https://fampay.in/blog/content/images/2020/07/responsible-teens.jpg', 0.130859375), ('/blog/assets/images/success.png?v=22080dfa02', 0.130859375), ('https://cdn.jsdelivr.net/ghost/portal@~2.30/umd/portal.min.js', 170.8154296875), ('https://cdn.jsdelivr.net/ghost/sodo-search@~1.1/umd/sodo-search.min.js', 95.5751953125), ('/blog/public/cards.min.js?v=22080dfa02', 0.130859375), ('/blog/public/member-attribution.min.js?v=22080dfa02', 0.130859375), ('https://www.googletagmanager.com/gtag/js?id=UA-147725948-3', 0.0), ('https://polyfill.io/v3/polyfill.min.js?features=IntersectionObserver%2CPromise%2CArray.prototype.includes%2CString.prototype.endsWith%2CString.prototype.startsWith%2CObject.assign%2CNodeList.prototype.forEach', 14.1123046875), ('/blog/assets/js/vendor/content-api.min.js?v=22080dfa02', 0.130859375), ('/blog/assets/js/manifest.js?v=22080dfa02', 0.130859375), ('/blog/assets/js/vendor.js?v=22080dfa02', 0.130859375), ('/blog/assets/js/app.js?v=22080dfa02', 0.130859375), ('/blog/assets/js/post.js?v=22080dfa02', 0.130859375), ('/blog/assets/css/app.css?v=22080dfa02', 0.130859375), ('/blog/public/cards.min.css?v=22080dfa02', 0.130859375)]\n",
      "Analyzing 21 of 246: https://fampay.in/blog/evolution-of-parenting-parent-of-a-millennial-vs-parent-of-a-genz-kid/\n",
      "Page size: 43.8046875 KB\n",
      "Resource sizes: [('https://fampay.in/blog/content/images/2020/11/logofilewhite-11-2.png', 0.130859375), ('https://fampay.in/blog/content/images/2020/11/logofilewhite-11-2.png', 0.130859375), ('/blog/assets/images/success.png?v=22080dfa02', 0.130859375), ('https://cdn.jsdelivr.net/ghost/portal@~2.30/umd/portal.min.js', 170.8154296875), ('https://cdn.jsdelivr.net/ghost/sodo-search@~1.1/umd/sodo-search.min.js', 95.5751953125), ('/blog/public/cards.min.js?v=22080dfa02', 0.130859375), ('/blog/public/member-attribution.min.js?v=22080dfa02', 0.130859375), ('https://www.googletagmanager.com/gtag/js?id=UA-147725948-3', 0.0), ('https://polyfill.io/v3/polyfill.min.js?features=IntersectionObserver%2CPromise%2CArray.prototype.includes%2CString.prototype.endsWith%2CString.prototype.startsWith%2CObject.assign%2CNodeList.prototype.forEach', 14.1123046875), ('/blog/assets/js/vendor/content-api.min.js?v=22080dfa02', 0.130859375), ('/blog/assets/js/manifest.js?v=22080dfa02', 0.130859375), ('/blog/assets/js/vendor.js?v=22080dfa02', 0.130859375), ('/blog/assets/js/app.js?v=22080dfa02', 0.130859375), ('/blog/assets/js/post.js?v=22080dfa02', 0.130859375), ('/blog/assets/css/app.css?v=22080dfa02', 0.130859375), ('/blog/public/cards.min.css?v=22080dfa02', 0.130859375)]\n",
      "Analyzing 22 of 246: https://fampay.in/blog/pocket-money-for-teenagers-why-it-matters/\n",
      "Page size: 42.1337890625 KB\n",
      "Resource sizes: [('https://fampay.in/blog/content/images/2020/11/logofilewhite-11-2.png', 0.130859375), ('https://fampay.in/blog/content/images/2020/11/logofilewhite-11-2.png', 0.130859375), ('/blog/assets/images/success.png?v=22080dfa02', 0.130859375), ('https://cdn.jsdelivr.net/ghost/portal@~2.30/umd/portal.min.js', 170.8154296875), ('https://cdn.jsdelivr.net/ghost/sodo-search@~1.1/umd/sodo-search.min.js', 95.5751953125), ('/blog/public/cards.min.js?v=22080dfa02', 0.130859375), ('/blog/public/member-attribution.min.js?v=22080dfa02', 0.130859375), ('https://www.googletagmanager.com/gtag/js?id=UA-147725948-3', 0.0), ('https://polyfill.io/v3/polyfill.min.js?features=IntersectionObserver%2CPromise%2CArray.prototype.includes%2CString.prototype.endsWith%2CString.prototype.startsWith%2CObject.assign%2CNodeList.prototype.forEach', 14.1123046875), ('/blog/assets/js/vendor/content-api.min.js?v=22080dfa02', 0.130859375), ('/blog/assets/js/manifest.js?v=22080dfa02', 0.130859375), ('/blog/assets/js/vendor.js?v=22080dfa02', 0.130859375), ('/blog/assets/js/app.js?v=22080dfa02', 0.130859375), ('/blog/assets/js/post.js?v=22080dfa02', 0.130859375), ('/blog/assets/css/app.css?v=22080dfa02', 0.130859375), ('/blog/public/cards.min.css?v=22080dfa02', 0.130859375)]\n",
      "Analyzing 23 of 246: https://fampay.in/blog/things-you-must-know-as-a-teens-parent/\n",
      "Page size: 41.5458984375 KB\n",
      "Resource sizes: [('https://fampay.in/blog/content/images/2020/11/logofilewhite-11-2.png', 0.130859375), ('https://fampay.in/blog/content/images/2020/11/logofilewhite-11-2.png', 0.130859375), ('/blog/assets/images/success.png?v=22080dfa02', 0.130859375), ('https://cdn.jsdelivr.net/ghost/portal@~2.30/umd/portal.min.js', 170.8154296875), ('https://cdn.jsdelivr.net/ghost/sodo-search@~1.1/umd/sodo-search.min.js', 95.5751953125), ('/blog/public/cards.min.js?v=22080dfa02', 0.130859375), ('/blog/public/member-attribution.min.js?v=22080dfa02', 0.130859375), ('https://www.googletagmanager.com/gtag/js?id=UA-147725948-3', 0.0), ('https://polyfill.io/v3/polyfill.min.js?features=IntersectionObserver%2CPromise%2CArray.prototype.includes%2CString.prototype.endsWith%2CString.prototype.startsWith%2CObject.assign%2CNodeList.prototype.forEach', 14.1123046875), ('/blog/assets/js/vendor/content-api.min.js?v=22080dfa02', 0.130859375), ('/blog/assets/js/manifest.js?v=22080dfa02', 0.130859375), ('/blog/assets/js/vendor.js?v=22080dfa02', 0.130859375), ('/blog/assets/js/app.js?v=22080dfa02', 0.130859375), ('/blog/assets/js/post.js?v=22080dfa02', 0.130859375), ('/blog/assets/css/app.css?v=22080dfa02', 0.130859375), ('/blog/public/cards.min.css?v=22080dfa02', 0.130859375)]\n",
      "Analyzing 24 of 246: https://fampay.in/blog/impact-of-social-distancing-on-teen-mental-health/\n",
      "Page size: 42.724609375 KB\n",
      "Resource sizes: [('https://fampay.in/blog/content/images/2020/11/logofilewhite-11-2.png', 0.130859375), ('https://fampay.in/blog/content/images/2020/11/logofilewhite-11-2.png', 0.130859375), ('/blog/assets/images/success.png?v=22080dfa02', 0.130859375), ('https://cdn.jsdelivr.net/ghost/portal@~2.30/umd/portal.min.js', 170.8154296875), ('https://cdn.jsdelivr.net/ghost/sodo-search@~1.1/umd/sodo-search.min.js', 95.5751953125), ('/blog/public/cards.min.js?v=22080dfa02', 0.130859375), ('/blog/public/member-attribution.min.js?v=22080dfa02', 0.130859375), ('https://www.googletagmanager.com/gtag/js?id=UA-147725948-3', 0.0), ('https://polyfill.io/v3/polyfill.min.js?features=IntersectionObserver%2CPromise%2CArray.prototype.includes%2CString.prototype.endsWith%2CString.prototype.startsWith%2CObject.assign%2CNodeList.prototype.forEach', 14.1123046875), ('/blog/assets/js/vendor/content-api.min.js?v=22080dfa02', 0.130859375), ('/blog/assets/js/manifest.js?v=22080dfa02', 0.130859375), ('/blog/assets/js/vendor.js?v=22080dfa02', 0.130859375), ('/blog/assets/js/app.js?v=22080dfa02', 0.130859375), ('/blog/assets/js/post.js?v=22080dfa02', 0.130859375), ('/blog/assets/css/app.css?v=22080dfa02', 0.130859375), ('/blog/public/cards.min.css?v=22080dfa02', 0.130859375)]\n",
      "Analyzing 25 of 246: https://fampay.in/blog/tag/parents/page/2/\n",
      "Page size: 22.916015625 KB\n",
      "Resource sizes: [('https://fampay.in/blog/content/images/2020/11/logofilewhite-11-2.png', 0.130859375), ('https://fampay.in/blog/content/images/2020/11/logofilewhite-11-2.png', 0.130859375), ('https://cdn.jsdelivr.net/ghost/portal@~2.30/umd/portal.min.js', 170.8154296875), ('https://cdn.jsdelivr.net/ghost/sodo-search@~1.1/umd/sodo-search.min.js', 95.5751953125), ('/blog/public/cards.min.js?v=22080dfa02', 0.130859375), ('/blog/public/member-attribution.min.js?v=22080dfa02', 0.130859375), ('https://www.googletagmanager.com/gtag/js?id=UA-147725948-3', 0.0), ('https://polyfill.io/v3/polyfill.min.js?features=IntersectionObserver%2CPromise%2CArray.prototype.includes%2CString.prototype.endsWith%2CString.prototype.startsWith%2CObject.assign%2CNodeList.prototype.forEach', 14.1123046875), ('/blog/assets/js/vendor/content-api.min.js?v=22080dfa02', 0.130859375), ('/blog/assets/js/manifest.js?v=22080dfa02', 0.130859375), ('/blog/assets/js/vendor.js?v=22080dfa02', 0.130859375), ('/blog/assets/js/app.js?v=22080dfa02', 0.130859375), ('/blog/assets/css/app.css?v=22080dfa02', 0.130859375), ('/blog/public/cards.min.css?v=22080dfa02', 0.130859375)]\n",
      "Analyzing 26 of 246: https://fampay.in/blog/tag/news/\n",
      "Page size: 33.3154296875 KB\n",
      "Resource sizes: [('https://fampay.in/blog/content/images/2020/11/logofilewhite-11-2.png', 0.130859375), ('https://fampay.in/blog/content/images/2020/11/logofilewhite-11-2.png', 0.130859375), ('https://cdn.jsdelivr.net/ghost/portal@~2.30/umd/portal.min.js', 170.8154296875), ('https://cdn.jsdelivr.net/ghost/sodo-search@~1.1/umd/sodo-search.min.js', 95.5751953125), ('/blog/public/cards.min.js?v=22080dfa02', 0.130859375), ('/blog/public/member-attribution.min.js?v=22080dfa02', 0.130859375), ('https://www.googletagmanager.com/gtag/js?id=UA-147725948-3', 0.0), ('https://polyfill.io/v3/polyfill.min.js?features=IntersectionObserver%2CPromise%2CArray.prototype.includes%2CString.prototype.endsWith%2CString.prototype.startsWith%2CObject.assign%2CNodeList.prototype.forEach', 14.1123046875), ('/blog/assets/js/vendor/content-api.min.js?v=22080dfa02', 0.130859375), ('/blog/assets/js/manifest.js?v=22080dfa02', 0.130859375), ('/blog/assets/js/vendor.js?v=22080dfa02', 0.130859375), ('/blog/assets/js/app.js?v=22080dfa02', 0.130859375), ('/blog/assets/css/app.css?v=22080dfa02', 0.130859375), ('/blog/public/cards.min.css?v=22080dfa02', 0.130859375)]\n",
      "Analyzing 27 of 246: https://fampay.in/blog/teen-focused-fintech-startup-fampay-raises-38m-in-series-a/\n",
      "Page size: 44.33203125 KB\n",
      "Resource sizes: [('https://fampay.in/blog/content/images/2020/11/logofilewhite-11-2.png', 0.130859375), ('https://fampay.in/blog/content/images/2020/11/logofilewhite-11-2.png', 0.130859375), ('https://fampay.in/blog/content/images/2021/06/IMG_0371-5--1--2.jpg', 0.130859375), ('https://fampay.in/blog/content/images/2021/06/Group-2824--2--1.jpg', 0.130859375), ('https://fampay.in/blog/content/images/2021/06/DSC02575_edited-copy--1---1---1-.jpg', 0.130859375), ('/blog/assets/images/success.png?v=22080dfa02', 0.130859375), ('https://cdn.jsdelivr.net/ghost/portal@~2.30/umd/portal.min.js', 170.8154296875), ('https://cdn.jsdelivr.net/ghost/sodo-search@~1.1/umd/sodo-search.min.js', 95.5751953125), ('/blog/public/cards.min.js?v=22080dfa02', 0.130859375), ('/blog/public/member-attribution.min.js?v=22080dfa02', 0.130859375), ('https://www.googletagmanager.com/gtag/js?id=UA-147725948-3', 0.0), ('https://polyfill.io/v3/polyfill.min.js?features=IntersectionObserver%2CPromise%2CArray.prototype.includes%2CString.prototype.endsWith%2CString.prototype.startsWith%2CObject.assign%2CNodeList.prototype.forEach', 14.1123046875), ('/blog/assets/js/vendor/content-api.min.js?v=22080dfa02', 0.130859375), ('/blog/assets/js/manifest.js?v=22080dfa02', 0.130859375), ('/blog/assets/js/vendor.js?v=22080dfa02', 0.130859375), ('/blog/assets/js/app.js?v=22080dfa02', 0.130859375), ('/blog/assets/js/post.js?v=22080dfa02', 0.130859375), ('/blog/assets/css/app.css?v=22080dfa02', 0.130859375), ('/blog/public/cards.min.css?v=22080dfa02', 0.130859375)]\n",
      "Analyzing 28 of 246: https://fampay.in/blog/fampay-is-set-to-launch-indias-first-and-biggest-digi-fest-for-teens/\n",
      "Page size: 40.9990234375 KB\n",
      "Resource sizes: [('https://fampay.in/blog/content/images/2020/11/logofilewhite-11-2.png', 0.130859375), ('https://fampay.in/blog/content/images/2020/11/logofilewhite-11-2.png', 0.130859375), ('/blog/assets/images/success.png?v=22080dfa02', 0.130859375), ('https://cdn.jsdelivr.net/ghost/portal@~2.30/umd/portal.min.js', 170.8154296875), ('https://cdn.jsdelivr.net/ghost/sodo-search@~1.1/umd/sodo-search.min.js', 95.5751953125), ('/blog/public/cards.min.js?v=22080dfa02', 0.130859375), ('/blog/public/member-attribution.min.js?v=22080dfa02', 0.130859375), ('https://www.googletagmanager.com/gtag/js?id=UA-147725948-3', 0.0), ('https://polyfill.io/v3/polyfill.min.js?features=IntersectionObserver%2CPromise%2CArray.prototype.includes%2CString.prototype.endsWith%2CString.prototype.startsWith%2CObject.assign%2CNodeList.prototype.forEach', 14.1123046875), ('/blog/assets/js/vendor/content-api.min.js?v=22080dfa02', 0.130859375), ('/blog/assets/js/manifest.js?v=22080dfa02', 0.130859375), ('/blog/assets/js/vendor.js?v=22080dfa02', 0.130859375), ('/blog/assets/js/app.js?v=22080dfa02', 0.130859375), ('/blog/assets/js/post.js?v=22080dfa02', 0.130859375), ('/blog/assets/css/app.css?v=22080dfa02', 0.130859375), ('/blog/public/cards.min.css?v=22080dfa02', 0.130859375)]\n",
      "Analyzing 29 of 246: https://fampay.in/blog/zetas-fusion-to-power-fampays-cashless-payments-for-gen-z/\n",
      "Page size: 38.7138671875 KB\n",
      "Resource sizes: [('https://fampay.in/blog/content/images/2020/11/logofilewhite-11-2.png', 0.130859375), ('https://fampay.in/blog/content/images/2020/11/logofilewhite-11-2.png', 0.130859375), ('/blog/assets/images/success.png?v=22080dfa02', 0.130859375), ('https://cdn.jsdelivr.net/ghost/portal@~2.30/umd/portal.min.js', 170.8154296875), ('https://cdn.jsdelivr.net/ghost/sodo-search@~1.1/umd/sodo-search.min.js', 95.5751953125), ('/blog/public/cards.min.js?v=22080dfa02', 0.130859375), ('/blog/public/member-attribution.min.js?v=22080dfa02', 0.130859375), ('https://www.googletagmanager.com/gtag/js?id=UA-147725948-3', 0.0), ('https://polyfill.io/v3/polyfill.min.js?features=IntersectionObserver%2CPromise%2CArray.prototype.includes%2CString.prototype.endsWith%2CString.prototype.startsWith%2CObject.assign%2CNodeList.prototype.forEach', 14.1123046875), ('/blog/assets/js/vendor/content-api.min.js?v=22080dfa02', 0.130859375), ('/blog/assets/js/manifest.js?v=22080dfa02', 0.130859375), ('/blog/assets/js/vendor.js?v=22080dfa02', 0.130859375), ('/blog/assets/js/app.js?v=22080dfa02', 0.130859375), ('/blog/assets/js/post.js?v=22080dfa02', 0.130859375), ('/blog/assets/css/app.css?v=22080dfa02', 0.130859375), ('/blog/public/cards.min.css?v=22080dfa02', 0.130859375)]\n",
      "Analyzing 30 of 246: https://fampay.in/blog/digital-payments-exploding-in-india-yet-the-tech-savvy-teens-still-stuck-paying-with-cash-survey-by-fampay-indias-first-neobank-for-teenagers/\n",
      "Page size: 45.3173828125 KB\n",
      "Resource sizes: [('https://fampay.in/blog/content/images/2020/11/logofilewhite-11-2.png', 0.130859375), ('https://fampay.in/blog/content/images/2020/11/logofilewhite-11-2.png', 0.130859375), ('https://fampay.in/blog/content/images/2020/10/PRInfographicSection1.png', 0.130859375), ('https://fampay.in/blog/content/images/2020/10/PRInfographicSection2.png', 0.130859375), ('https://fampay.in/blog/content/images/2020/10/PRInfographicSection3.png', 0.130859375), ('/blog/assets/images/success.png?v=22080dfa02', 0.130859375), ('https://cdn.jsdelivr.net/ghost/portal@~2.30/umd/portal.min.js', 170.8154296875), ('https://cdn.jsdelivr.net/ghost/sodo-search@~1.1/umd/sodo-search.min.js', 95.5751953125), ('/blog/public/cards.min.js?v=22080dfa02', 0.130859375), ('/blog/public/member-attribution.min.js?v=22080dfa02', 0.130859375), ('https://www.googletagmanager.com/gtag/js?id=UA-147725948-3', 0.0), ('https://polyfill.io/v3/polyfill.min.js?features=IntersectionObserver%2CPromise%2CArray.prototype.includes%2CString.prototype.endsWith%2CString.prototype.startsWith%2CObject.assign%2CNodeList.prototype.forEach', 14.1123046875), ('/blog/assets/js/vendor/content-api.min.js?v=22080dfa02', 0.130859375), ('/blog/assets/js/manifest.js?v=22080dfa02', 0.130859375), ('/blog/assets/js/vendor.js?v=22080dfa02', 0.130859375), ('/blog/assets/js/app.js?v=22080dfa02', 0.130859375), ('/blog/assets/js/post.js?v=22080dfa02', 0.130859375), ('/blog/assets/css/app.css?v=22080dfa02', 0.130859375), ('/blog/public/cards.min.css?v=22080dfa02', 0.130859375)]\n",
      "Analyzing 31 of 246: https://fampay.in/blog/this-fintech-startup-by-iit-roorkee-alum-is-giving-teenagers-financial-freedom-responsibly-yourstory/\n",
      "Page size: 44.62890625 KB\n",
      "Resource sizes: [('https://fampay.in/blog/content/images/2020/11/logofilewhite-11-2.png', 0.130859375), ('https://fampay.in/blog/content/images/2020/11/logofilewhite-11-2.png', 0.130859375), ('https://fampay.in/blog/content/images/2021/03/Copy-of-FamPay-Founders---Kush--Left--and-Sambhav--Right--2.jpg', 0.130859375), ('https://fampay.in/blog/content/images/2021/03/Copy-of-FamPay---FlashPIN-2.png', 0.130859375), ('/blog/assets/images/success.png?v=22080dfa02', 0.130859375), ('https://cdn.jsdelivr.net/ghost/portal@~2.30/umd/portal.min.js', 170.8154296875), ('https://cdn.jsdelivr.net/ghost/sodo-search@~1.1/umd/sodo-search.min.js', 95.5751953125), ('/blog/public/cards.min.js?v=22080dfa02', 0.130859375), ('/blog/public/member-attribution.min.js?v=22080dfa02', 0.130859375), ('https://www.googletagmanager.com/gtag/js?id=UA-147725948-3', 0.0), ('https://polyfill.io/v3/polyfill.min.js?features=IntersectionObserver%2CPromise%2CArray.prototype.includes%2CString.prototype.endsWith%2CString.prototype.startsWith%2CObject.assign%2CNodeList.prototype.forEach', 14.1123046875), ('/blog/assets/js/vendor/content-api.min.js?v=22080dfa02', 0.130859375), ('/blog/assets/js/manifest.js?v=22080dfa02', 0.130859375), ('/blog/assets/js/vendor.js?v=22080dfa02', 0.130859375), ('/blog/assets/js/app.js?v=22080dfa02', 0.130859375), ('/blog/assets/js/post.js?v=22080dfa02', 0.130859375), ('/blog/assets/css/app.css?v=22080dfa02', 0.130859375), ('/blog/public/cards.min.css?v=22080dfa02', 0.130859375)]\n",
      "Analyzing 32 of 246: https://fampay.in/blog/fampay-announces-launch-of-indias-first-numberless-card/\n",
      "Page size: 40.529296875 KB\n",
      "Resource sizes: [('https://fampay.in/blog/content/images/2020/11/logofilewhite-11-2.png', 0.130859375), ('https://fampay.in/blog/content/images/2020/11/logofilewhite-11-2.png', 0.130859375), ('https://fampay.in/blog/content/images/2020/07/FamPay-Founders---Kush--Left--and-Sambhav--Right--2.jpg', 0.130859375), ('https://fampay.in/blog/content/images/2020/07/FamPay---FlashPIN.png', 0.130859375), ('/blog/assets/images/success.png?v=22080dfa02', 0.130859375), ('https://cdn.jsdelivr.net/ghost/portal@~2.30/umd/portal.min.js', 170.8154296875), ('https://cdn.jsdelivr.net/ghost/sodo-search@~1.1/umd/sodo-search.min.js', 95.5751953125), ('/blog/public/cards.min.js?v=22080dfa02', 0.130859375), ('/blog/public/member-attribution.min.js?v=22080dfa02', 0.130859375), ('https://www.googletagmanager.com/gtag/js?id=UA-147725948-3', 0.0), ('https://polyfill.io/v3/polyfill.min.js?features=IntersectionObserver%2CPromise%2CArray.prototype.includes%2CString.prototype.endsWith%2CString.prototype.startsWith%2CObject.assign%2CNodeList.prototype.forEach', 14.1123046875), ('/blog/assets/js/vendor/content-api.min.js?v=22080dfa02', 0.130859375), ('/blog/assets/js/manifest.js?v=22080dfa02', 0.130859375), ('/blog/assets/js/vendor.js?v=22080dfa02', 0.130859375), ('/blog/assets/js/app.js?v=22080dfa02', 0.130859375), ('/blog/assets/js/post.js?v=22080dfa02', 0.130859375), ('/blog/assets/css/app.css?v=22080dfa02', 0.130859375), ('/blog/public/cards.min.css?v=22080dfa02', 0.130859375)]\n",
      "Analyzing 33 of 246: https://fampay.in/blog/fampay-raises-4-7m-from-y-combinator-sequoia-venture-highway-others/\n",
      "Page size: 40.5927734375 KB\n",
      "Resource sizes: [('https://fampay.in/blog/content/images/2020/11/logofilewhite-11-2.png', 0.130859375), ('https://fampay.in/blog/content/images/2020/11/logofilewhite-11-2.png', 0.130859375), ('/blog/assets/images/success.png?v=22080dfa02', 0.130859375), ('https://cdn.jsdelivr.net/ghost/portal@~2.30/umd/portal.min.js', 170.8154296875), ('https://cdn.jsdelivr.net/ghost/sodo-search@~1.1/umd/sodo-search.min.js', 95.5751953125), ('/blog/public/cards.min.js?v=22080dfa02', 0.130859375), ('/blog/public/member-attribution.min.js?v=22080dfa02', 0.130859375), ('https://www.googletagmanager.com/gtag/js?id=UA-147725948-3', 0.0), ('https://polyfill.io/v3/polyfill.min.js?features=IntersectionObserver%2CPromise%2CArray.prototype.includes%2CString.prototype.endsWith%2CString.prototype.startsWith%2CObject.assign%2CNodeList.prototype.forEach', 14.1123046875), ('/blog/assets/js/vendor/content-api.min.js?v=22080dfa02', 0.130859375), ('/blog/assets/js/manifest.js?v=22080dfa02', 0.130859375), ('/blog/assets/js/vendor.js?v=22080dfa02', 0.130859375), ('/blog/assets/js/app.js?v=22080dfa02', 0.130859375), ('/blog/assets/js/post.js?v=22080dfa02', 0.130859375), ('/blog/assets/css/app.css?v=22080dfa02', 0.130859375), ('/blog/public/cards.min.css?v=22080dfa02', 0.130859375)]\n",
      "Analyzing 34 of 246: https://fampay.in/blog/tag/famsays/\n",
      "Page size: 37.5068359375 KB\n",
      "Resource sizes: [('https://fampay.in/blog/content/images/2020/11/logofilewhite-11-2.png', 0.130859375), ('https://fampay.in/blog/content/images/2020/11/logofilewhite-11-2.png', 0.130859375), ('https://cdn.jsdelivr.net/ghost/portal@~2.30/umd/portal.min.js', 170.8154296875), ('https://cdn.jsdelivr.net/ghost/sodo-search@~1.1/umd/sodo-search.min.js', 95.5751953125), ('/blog/public/cards.min.js?v=22080dfa02', 0.130859375), ('/blog/public/member-attribution.min.js?v=22080dfa02', 0.130859375), ('https://www.googletagmanager.com/gtag/js?id=UA-147725948-3', 0.0), ('https://polyfill.io/v3/polyfill.min.js?features=IntersectionObserver%2CPromise%2CArray.prototype.includes%2CString.prototype.endsWith%2CString.prototype.startsWith%2CObject.assign%2CNodeList.prototype.forEach', 14.1123046875), ('/blog/assets/js/vendor/content-api.min.js?v=22080dfa02', 0.130859375), ('/blog/assets/js/manifest.js?v=22080dfa02', 0.130859375), ('/blog/assets/js/vendor.js?v=22080dfa02', 0.130859375), ('/blog/assets/js/app.js?v=22080dfa02', 0.130859375), ('/blog/assets/css/app.css?v=22080dfa02', 0.130859375), ('/blog/public/cards.min.css?v=22080dfa02', 0.130859375)]\n",
      "Analyzing 35 of 246: https://fampay.in/blog/a-practical-guide-to-app-store-optimization/\n",
      "Page size: 40.75390625 KB\n",
      "Resource sizes: [('https://fampay.in/blog/content/images/2020/11/logofilewhite-11-2.png', 0.130859375), ('https://fampay.in/blog/content/images/2020/11/logofilewhite-11-2.png', 0.130859375), ('https://fampay.in/blog/content/images/2021/09/ASO.png', 0.130859375), ('https://fampay.in/blog/content/images/2021/09/image-9.png', 0.130859375), ('https://fampay.in/blog/content/images/2021/09/image-10.png', 0.130859375), ('/blog/assets/images/success.png?v=22080dfa02', 0.130859375), ('https://cdn.jsdelivr.net/ghost/portal@~2.30/umd/portal.min.js', 170.8154296875), ('https://cdn.jsdelivr.net/ghost/sodo-search@~1.1/umd/sodo-search.min.js', 95.5751953125), ('/blog/public/cards.min.js?v=22080dfa02', 0.130859375), ('/blog/public/member-attribution.min.js?v=22080dfa02', 0.130859375), ('https://www.googletagmanager.com/gtag/js?id=UA-147725948-3', 0.0), ('https://polyfill.io/v3/polyfill.min.js?features=IntersectionObserver%2CPromise%2CArray.prototype.includes%2CString.prototype.endsWith%2CString.prototype.startsWith%2CObject.assign%2CNodeList.prototype.forEach', 14.1123046875), ('/blog/assets/js/vendor/content-api.min.js?v=22080dfa02', 0.130859375), ('/blog/assets/js/manifest.js?v=22080dfa02', 0.130859375), ('/blog/assets/js/vendor.js?v=22080dfa02', 0.130859375), ('/blog/assets/js/app.js?v=22080dfa02', 0.130859375), ('/blog/assets/js/post.js?v=22080dfa02', 0.130859375), ('/blog/assets/css/app.css?v=22080dfa02', 0.130859375), ('/blog/public/cards.min.css?v=22080dfa02', 0.130859375)]\n",
      "Analyzing 36 of 246: https://fampay.in/blog/author/garvita/\n",
      "Page size: 24.7421875 KB\n",
      "Resource sizes: [('https://fampay.in/blog/content/images/2020/11/logofilewhite-11-2.png', 0.130859375), ('https://fampay.in/blog/content/images/2020/11/logofilewhite-11-2.png', 0.130859375), ('https://cdn.jsdelivr.net/ghost/portal@~2.30/umd/portal.min.js', 170.8154296875), ('https://cdn.jsdelivr.net/ghost/sodo-search@~1.1/umd/sodo-search.min.js', 95.5751953125), ('/blog/public/cards.min.js?v=22080dfa02', 0.130859375), ('/blog/public/member-attribution.min.js?v=22080dfa02', 0.130859375), ('https://www.googletagmanager.com/gtag/js?id=UA-147725948-3', 0.0), ('https://polyfill.io/v3/polyfill.min.js?features=IntersectionObserver%2CPromise%2CArray.prototype.includes%2CString.prototype.endsWith%2CString.prototype.startsWith%2CObject.assign%2CNodeList.prototype.forEach', 14.1123046875), ('/blog/assets/js/vendor/content-api.min.js?v=22080dfa02', 0.130859375), ('/blog/assets/js/manifest.js?v=22080dfa02', 0.130859375), ('/blog/assets/js/vendor.js?v=22080dfa02', 0.130859375), ('/blog/assets/js/app.js?v=22080dfa02', 0.130859375), ('/blog/assets/css/app.css?v=22080dfa02', 0.130859375), ('/blog/public/cards.min.css?v=22080dfa02', 0.130859375)]\n",
      "Analyzing 37 of 246: https://fampay.in/blog/365-days-of-internship-at-fampay/\n",
      "Page size: 42.2734375 KB\n",
      "Resource sizes: [('https://fampay.in/blog/content/images/2020/11/logofilewhite-11-2.png', 0.130859375), ('https://fampay.in/blog/content/images/2020/11/logofilewhite-11-2.png', 0.130859375), ('https://fampay.in/blog/content/images/2021/09/WhatsApp-Image-2021-09-09-at-12.08.03.jpeg', 0.130859375), ('https://fampay.in/blog/content/images/2021/09/WhatsApp-Image-2021-09-09-at-12.08.02.jpeg', 0.130859375), ('/blog/assets/images/success.png?v=22080dfa02', 0.130859375), ('https://cdn.jsdelivr.net/ghost/portal@~2.30/umd/portal.min.js', 170.8154296875), ('https://cdn.jsdelivr.net/ghost/sodo-search@~1.1/umd/sodo-search.min.js', 95.5751953125), ('/blog/public/cards.min.js?v=22080dfa02', 0.130859375), ('/blog/public/member-attribution.min.js?v=22080dfa02', 0.130859375), ('https://www.googletagmanager.com/gtag/js?id=UA-147725948-3', 0.0), ('https://polyfill.io/v3/polyfill.min.js?features=IntersectionObserver%2CPromise%2CArray.prototype.includes%2CString.prototype.endsWith%2CString.prototype.startsWith%2CObject.assign%2CNodeList.prototype.forEach', 14.1123046875), ('/blog/assets/js/vendor/content-api.min.js?v=22080dfa02', 0.130859375), ('/blog/assets/js/manifest.js?v=22080dfa02', 0.130859375), ('/blog/assets/js/vendor.js?v=22080dfa02', 0.130859375), ('/blog/assets/js/app.js?v=22080dfa02', 0.130859375), ('/blog/assets/js/post.js?v=22080dfa02', 0.130859375), ('/blog/assets/css/app.css?v=22080dfa02', 0.130859375), ('/blog/public/cards.min.css?v=22080dfa02', 0.130859375)]\n",
      "Analyzing 38 of 246: https://fampay.in/blog/how-instagram-reel-can-really-grow-your-brand/\n",
      "Page size: 40.0205078125 KB\n",
      "Resource sizes: [('https://fampay.in/blog/content/images/2020/11/logofilewhite-11-2.png', 0.130859375), ('https://fampay.in/blog/content/images/2020/11/logofilewhite-11-2.png', 0.130859375), ('https://fampay.in/blog/content/images/2021/08/image-9.png', 0.130859375), ('https://fampay.in/blog/content/images/2021/08/image-14.png', 0.130859375), ('https://fampay.in/blog/content/images/2021/08/image-13.png', 0.130859375), ('https://fampay.in/blog/content/images/2021/08/image-12.png', 0.130859375), ('/blog/assets/images/success.png?v=22080dfa02', 0.130859375), ('https://cdn.jsdelivr.net/ghost/portal@~2.30/umd/portal.min.js', 170.8154296875), ('https://cdn.jsdelivr.net/ghost/sodo-search@~1.1/umd/sodo-search.min.js', 95.5751953125), ('/blog/public/cards.min.js?v=22080dfa02', 0.130859375), ('/blog/public/member-attribution.min.js?v=22080dfa02', 0.130859375), ('https://www.googletagmanager.com/gtag/js?id=UA-147725948-3', 0.0), ('https://polyfill.io/v3/polyfill.min.js?features=IntersectionObserver%2CPromise%2CArray.prototype.includes%2CString.prototype.endsWith%2CString.prototype.startsWith%2CObject.assign%2CNodeList.prototype.forEach', 14.1123046875), ('/blog/assets/js/vendor/content-api.min.js?v=22080dfa02', 0.130859375), ('/blog/assets/js/manifest.js?v=22080dfa02', 0.130859375), ('/blog/assets/js/vendor.js?v=22080dfa02', 0.130859375), ('/blog/assets/js/app.js?v=22080dfa02', 0.130859375), ('/blog/assets/js/post.js?v=22080dfa02', 0.130859375), ('/blog/assets/css/app.css?v=22080dfa02', 0.130859375), ('/blog/public/cards.min.css?v=22080dfa02', 0.130859375)]\n",
      "Analyzing 39 of 246: https://fampay.in/blog/author/suhani/\n",
      "Page size: 23.462890625 KB\n",
      "Resource sizes: [('https://fampay.in/blog/content/images/2020/11/logofilewhite-11-2.png', 0.130859375), ('https://fampay.in/blog/content/images/2020/11/logofilewhite-11-2.png', 0.130859375), ('https://cdn.jsdelivr.net/ghost/portal@~2.30/umd/portal.min.js', 170.8154296875), ('https://cdn.jsdelivr.net/ghost/sodo-search@~1.1/umd/sodo-search.min.js', 95.5751953125), ('/blog/public/cards.min.js?v=22080dfa02', 0.130859375), ('/blog/public/member-attribution.min.js?v=22080dfa02', 0.130859375), ('https://www.googletagmanager.com/gtag/js?id=UA-147725948-3', 0.0), ('https://polyfill.io/v3/polyfill.min.js?features=IntersectionObserver%2CPromise%2CArray.prototype.includes%2CString.prototype.endsWith%2CString.prototype.startsWith%2CObject.assign%2CNodeList.prototype.forEach', 14.1123046875), ('/blog/assets/js/vendor/content-api.min.js?v=22080dfa02', 0.130859375), ('/blog/assets/js/manifest.js?v=22080dfa02', 0.130859375), ('/blog/assets/js/vendor.js?v=22080dfa02', 0.130859375), ('/blog/assets/js/app.js?v=22080dfa02', 0.130859375), ('/blog/assets/css/app.css?v=22080dfa02', 0.130859375), ('/blog/public/cards.min.css?v=22080dfa02', 0.130859375)]\n",
      "Analyzing 40 of 246: https://fampay.in/blog/config-variables-changing-system-behaviour-live-in-production/\n",
      "Page size: 44.630859375 KB\n",
      "Resource sizes: [('https://fampay.in/blog/content/images/2020/11/logofilewhite-11-2.png', 0.130859375), ('https://fampay.in/blog/content/images/2020/11/logofilewhite-11-2.png', 0.130859375), ('https://fampay.in/blog/content/images/2021/07/image-1.png', 0.130859375), ('https://fampay.in/blog/content/images/2021/07/image-2.png', 0.130859375), ('/blog/assets/images/success.png?v=22080dfa02', 0.130859375), ('https://cdn.jsdelivr.net/ghost/portal@~2.30/umd/portal.min.js', 170.8154296875), ('https://cdn.jsdelivr.net/ghost/sodo-search@~1.1/umd/sodo-search.min.js', 95.5751953125), ('/blog/public/cards.min.js?v=22080dfa02', 0.130859375), ('/blog/public/member-attribution.min.js?v=22080dfa02', 0.130859375), ('https://www.googletagmanager.com/gtag/js?id=UA-147725948-3', 0.0), ('https://polyfill.io/v3/polyfill.min.js?features=IntersectionObserver%2CPromise%2CArray.prototype.includes%2CString.prototype.endsWith%2CString.prototype.startsWith%2CObject.assign%2CNodeList.prototype.forEach', 14.1123046875), ('/blog/assets/js/vendor/content-api.min.js?v=22080dfa02', 0.130859375), ('/blog/assets/js/manifest.js?v=22080dfa02', 0.130859375), ('/blog/assets/js/vendor.js?v=22080dfa02', 0.130859375), ('/blog/assets/js/app.js?v=22080dfa02', 0.130859375), ('/blog/assets/js/post.js?v=22080dfa02', 0.130859375), ('/blog/assets/css/app.css?v=22080dfa02', 0.130859375), ('/blog/public/cards.min.css?v=22080dfa02', 0.130859375)]\n",
      "Analyzing 41 of 246: https://fampay.in/blog/author/sameeran/\n",
      "Page size: 23.5654296875 KB\n",
      "Resource sizes: [('https://fampay.in/blog/content/images/2020/11/logofilewhite-11-2.png', 0.130859375), ('https://fampay.in/blog/content/images/2020/11/logofilewhite-11-2.png', 0.130859375), ('https://cdn.jsdelivr.net/ghost/portal@~2.30/umd/portal.min.js', 170.8154296875), ('https://cdn.jsdelivr.net/ghost/sodo-search@~1.1/umd/sodo-search.min.js', 95.5751953125), ('/blog/public/cards.min.js?v=22080dfa02', 0.130859375), ('/blog/public/member-attribution.min.js?v=22080dfa02', 0.130859375), ('https://www.googletagmanager.com/gtag/js?id=UA-147725948-3', 0.0), ('https://polyfill.io/v3/polyfill.min.js?features=IntersectionObserver%2CPromise%2CArray.prototype.includes%2CString.prototype.endsWith%2CString.prototype.startsWith%2CObject.assign%2CNodeList.prototype.forEach', 14.1123046875), ('/blog/assets/js/vendor/content-api.min.js?v=22080dfa02', 0.130859375), ('/blog/assets/js/manifest.js?v=22080dfa02', 0.130859375), ('/blog/assets/js/vendor.js?v=22080dfa02', 0.130859375), ('/blog/assets/js/app.js?v=22080dfa02', 0.130859375), ('/blog/assets/css/app.css?v=22080dfa02', 0.130859375), ('/blog/public/cards.min.css?v=22080dfa02', 0.130859375)]\n",
      "Analyzing 42 of 246: https://fampay.in/blog/a-marketers-guide-to-moment-marketing/\n",
      "Page size: 44.609375 KB\n",
      "Resource sizes: [('https://fampay.in/blog/content/images/2020/11/logofilewhite-11-2.png', 0.130859375), ('https://fampay.in/blog/content/images/2020/11/logofilewhite-11-2.png', 0.130859375), ('https://fampay.in/blog/content/images/2021/06/Untitled.png', 0.130859375), ('https://fampay.in/blog/content/images/2021/06/image.png', 0.130859375), ('https://fampay.in/blog/content/images/2021/06/image-1.png', 0.130859375), ('https://fampay.in/blog/content/images/2021/06/image-7.png', 0.130859375), ('https://fampay.in/blog/content/images/2021/06/image-3.png', 0.130859375), ('https://fampay.in/blog/content/images/2021/06/image-5.png', 0.130859375), ('https://fampay.in/blog/content/images/2021/06/image-4.png', 0.130859375), ('https://fampay.in/blog/content/images/2021/06/image-6.png', 0.130859375), ('https://fampay.in/blog/content/images/2021/06/Untitled-design.jpg', 0.130859375), ('/blog/assets/images/success.png?v=22080dfa02', 0.130859375), ('https://cdn.jsdelivr.net/ghost/portal@~2.30/umd/portal.min.js', 170.8154296875), ('https://cdn.jsdelivr.net/ghost/sodo-search@~1.1/umd/sodo-search.min.js', 95.5751953125), ('/blog/public/cards.min.js?v=22080dfa02', 0.130859375), ('/blog/public/member-attribution.min.js?v=22080dfa02', 0.130859375), ('https://www.googletagmanager.com/gtag/js?id=UA-147725948-3', 0.0), ('https://polyfill.io/v3/polyfill.min.js?features=IntersectionObserver%2CPromise%2CArray.prototype.includes%2CString.prototype.endsWith%2CString.prototype.startsWith%2CObject.assign%2CNodeList.prototype.forEach', 14.1123046875), ('/blog/assets/js/vendor/content-api.min.js?v=22080dfa02', 0.130859375), ('/blog/assets/js/manifest.js?v=22080dfa02', 0.130859375), ('/blog/assets/js/vendor.js?v=22080dfa02', 0.130859375), ('/blog/assets/js/app.js?v=22080dfa02', 0.130859375), ('/blog/assets/js/post.js?v=22080dfa02', 0.130859375), ('/blog/assets/css/app.css?v=22080dfa02', 0.130859375), ('/blog/public/cards.min.css?v=22080dfa02', 0.130859375)]\n",
      "Analyzing 43 of 246: https://fampay.in/blog/author/priyanka/\n",
      "Page size: 23.43359375 KB\n",
      "Resource sizes: [('https://fampay.in/blog/content/images/2020/11/logofilewhite-11-2.png', 0.130859375), ('https://fampay.in/blog/content/images/2020/11/logofilewhite-11-2.png', 0.130859375), ('https://cdn.jsdelivr.net/ghost/portal@~2.30/umd/portal.min.js', 170.8154296875), ('https://cdn.jsdelivr.net/ghost/sodo-search@~1.1/umd/sodo-search.min.js', 95.5751953125), ('/blog/public/cards.min.js?v=22080dfa02', 0.130859375), ('/blog/public/member-attribution.min.js?v=22080dfa02', 0.130859375), ('https://www.googletagmanager.com/gtag/js?id=UA-147725948-3', 0.0), ('https://polyfill.io/v3/polyfill.min.js?features=IntersectionObserver%2CPromise%2CArray.prototype.includes%2CString.prototype.endsWith%2CString.prototype.startsWith%2CObject.assign%2CNodeList.prototype.forEach', 14.1123046875), ('/blog/assets/js/vendor/content-api.min.js?v=22080dfa02', 0.130859375), ('/blog/assets/js/manifest.js?v=22080dfa02', 0.130859375), ('/blog/assets/js/vendor.js?v=22080dfa02', 0.130859375), ('/blog/assets/js/app.js?v=22080dfa02', 0.130859375), ('/blog/assets/css/app.css?v=22080dfa02', 0.130859375), ('/blog/public/cards.min.css?v=22080dfa02', 0.130859375)]\n",
      "Analyzing 44 of 246: https://fampay.in/blog/the-story-behind-fampays-tech-stack/\n",
      "Page size: 56.376953125 KB\n",
      "Resource sizes: [('https://fampay.in/blog/content/images/2020/11/logofilewhite-11-2.png', 0.130859375), ('https://fampay.in/blog/content/images/2020/11/logofilewhite-11-2.png', 0.130859375), ('https://fampay.in/blog/content/images/2021/06/Image-from-iOS--4-.png', 0.130859375), ('https://fampay.in/blog/content/images/2021/06/Image-from-iOS--10-.png', 0.130859375), ('/blog/assets/images/success.png?v=22080dfa02', 0.130859375), ('https://cdn.jsdelivr.net/ghost/portal@~2.30/umd/portal.min.js', 170.8154296875), ('https://cdn.jsdelivr.net/ghost/sodo-search@~1.1/umd/sodo-search.min.js', 95.5751953125), ('/blog/public/cards.min.js?v=22080dfa02', 0.130859375), ('/blog/public/member-attribution.min.js?v=22080dfa02', 0.130859375), ('https://www.googletagmanager.com/gtag/js?id=UA-147725948-3', 0.0), ('https://polyfill.io/v3/polyfill.min.js?features=IntersectionObserver%2CPromise%2CArray.prototype.includes%2CString.prototype.endsWith%2CString.prototype.startsWith%2CObject.assign%2CNodeList.prototype.forEach', 14.1123046875), ('/blog/assets/js/vendor/content-api.min.js?v=22080dfa02', 0.130859375), ('/blog/assets/js/manifest.js?v=22080dfa02', 0.130859375), ('/blog/assets/js/vendor.js?v=22080dfa02', 0.130859375), ('/blog/assets/js/app.js?v=22080dfa02', 0.130859375), ('/blog/assets/js/post.js?v=22080dfa02', 0.130859375), ('/blog/assets/css/app.css?v=22080dfa02', 0.130859375), ('/blog/public/cards.min.css?v=22080dfa02', 0.130859375)]\n",
      "Analyzing 45 of 246: https://fampay.in/blog/famstars-we-stress-less-and-accomplish-more/\n",
      "Page size: 41.857421875 KB\n",
      "Resource sizes: [('https://fampay.in/blog/content/images/2020/11/logofilewhite-11-2.png', 0.130859375), ('https://fampay.in/blog/content/images/2020/11/logofilewhite-11-2.png', 0.130859375), ('https://fampay.in/blog/content/images/2021/04/image-16.png', 0.130859375), ('/blog/assets/images/success.png?v=22080dfa02', 0.130859375), ('https://cdn.jsdelivr.net/ghost/portal@~2.30/umd/portal.min.js', 170.8154296875), ('https://cdn.jsdelivr.net/ghost/sodo-search@~1.1/umd/sodo-search.min.js', 95.5751953125), ('/blog/public/cards.min.js?v=22080dfa02', 0.130859375), ('/blog/public/member-attribution.min.js?v=22080dfa02', 0.130859375), ('https://www.googletagmanager.com/gtag/js?id=UA-147725948-3', 0.0), ('https://polyfill.io/v3/polyfill.min.js?features=IntersectionObserver%2CPromise%2CArray.prototype.includes%2CString.prototype.endsWith%2CString.prototype.startsWith%2CObject.assign%2CNodeList.prototype.forEach', 14.1123046875), ('/blog/assets/js/vendor/content-api.min.js?v=22080dfa02', 0.130859375), ('/blog/assets/js/manifest.js?v=22080dfa02', 0.130859375), ('/blog/assets/js/vendor.js?v=22080dfa02', 0.130859375), ('/blog/assets/js/app.js?v=22080dfa02', 0.130859375), ('/blog/assets/js/post.js?v=22080dfa02', 0.130859375), ('/blog/assets/css/app.css?v=22080dfa02', 0.130859375), ('/blog/public/cards.min.css?v=22080dfa02', 0.130859375)]\n",
      "Analyzing 46 of 246: https://fampay.in/blog/author/saipremtelkar/\n",
      "Page size: 23.5869140625 KB\n",
      "Resource sizes: [('https://fampay.in/blog/content/images/2020/11/logofilewhite-11-2.png', 0.130859375), ('https://fampay.in/blog/content/images/2020/11/logofilewhite-11-2.png', 0.130859375), ('https://cdn.jsdelivr.net/ghost/portal@~2.30/umd/portal.min.js', 170.8154296875), ('https://cdn.jsdelivr.net/ghost/sodo-search@~1.1/umd/sodo-search.min.js', 95.5751953125), ('/blog/public/cards.min.js?v=22080dfa02', 0.130859375), ('/blog/public/member-attribution.min.js?v=22080dfa02', 0.130859375), ('https://www.googletagmanager.com/gtag/js?id=UA-147725948-3', 0.0), ('https://polyfill.io/v3/polyfill.min.js?features=IntersectionObserver%2CPromise%2CArray.prototype.includes%2CString.prototype.endsWith%2CString.prototype.startsWith%2CObject.assign%2CNodeList.prototype.forEach', 14.1123046875), ('/blog/assets/js/vendor/content-api.min.js?v=22080dfa02', 0.130859375), ('/blog/assets/js/manifest.js?v=22080dfa02', 0.130859375), ('/blog/assets/js/vendor.js?v=22080dfa02', 0.130859375), ('/blog/assets/js/app.js?v=22080dfa02', 0.130859375), ('/blog/assets/css/app.css?v=22080dfa02', 0.130859375), ('/blog/public/cards.min.css?v=22080dfa02', 0.130859375)]\n",
      "Analyzing 47 of 246: https://fampay.in/blog/tag/famsays/page/2/\n",
      "Page size: 35.306640625 KB\n",
      "Resource sizes: [('https://fampay.in/blog/content/images/2020/11/logofilewhite-11-2.png', 0.130859375), ('https://fampay.in/blog/content/images/2020/11/logofilewhite-11-2.png', 0.130859375), ('https://cdn.jsdelivr.net/ghost/portal@~2.30/umd/portal.min.js', 170.8154296875), ('https://cdn.jsdelivr.net/ghost/sodo-search@~1.1/umd/sodo-search.min.js', 95.5751953125), ('/blog/public/cards.min.js?v=22080dfa02', 0.130859375), ('/blog/public/member-attribution.min.js?v=22080dfa02', 0.130859375), ('https://www.googletagmanager.com/gtag/js?id=UA-147725948-3', 0.0), ('https://polyfill.io/v3/polyfill.min.js?features=IntersectionObserver%2CPromise%2CArray.prototype.includes%2CString.prototype.endsWith%2CString.prototype.startsWith%2CObject.assign%2CNodeList.prototype.forEach', 14.1123046875), ('/blog/assets/js/vendor/content-api.min.js?v=22080dfa02', 0.130859375), ('/blog/assets/js/manifest.js?v=22080dfa02', 0.130859375), ('/blog/assets/js/vendor.js?v=22080dfa02', 0.130859375), ('/blog/assets/js/app.js?v=22080dfa02', 0.130859375), ('/blog/assets/css/app.css?v=22080dfa02', 0.130859375), ('/blog/public/cards.min.css?v=22080dfa02', 0.130859375)]\n",
      "Analyzing 48 of 246: https://fampay.in/blog/tag/community/\n",
      "Page size: 30.162109375 KB\n",
      "Resource sizes: [('https://fampay.in/blog/content/images/2020/11/logofilewhite-11-2.png', 0.130859375), ('https://fampay.in/blog/content/images/2020/11/logofilewhite-11-2.png', 0.130859375), ('https://cdn.jsdelivr.net/ghost/portal@~2.30/umd/portal.min.js', 170.8154296875), ('https://cdn.jsdelivr.net/ghost/sodo-search@~1.1/umd/sodo-search.min.js', 95.5751953125), ('/blog/public/cards.min.js?v=22080dfa02', 0.130859375), ('/blog/public/member-attribution.min.js?v=22080dfa02', 0.130859375), ('https://www.googletagmanager.com/gtag/js?id=UA-147725948-3', 0.0), ('https://polyfill.io/v3/polyfill.min.js?features=IntersectionObserver%2CPromise%2CArray.prototype.includes%2CString.prototype.endsWith%2CString.prototype.startsWith%2CObject.assign%2CNodeList.prototype.forEach', 14.1123046875), ('/blog/assets/js/vendor/content-api.min.js?v=22080dfa02', 0.130859375), ('/blog/assets/js/manifest.js?v=22080dfa02', 0.130859375), ('/blog/assets/js/vendor.js?v=22080dfa02', 0.130859375), ('/blog/assets/js/app.js?v=22080dfa02', 0.130859375), ('/blog/assets/css/app.css?v=22080dfa02', 0.130859375), ('/blog/public/cards.min.css?v=22080dfa02', 0.130859375)]\n",
      "Analyzing 49 of 246: https://fampay.in/blog/genz-commits-to-fight-covid-19/\n",
      "Page size: 45.3759765625 KB\n",
      "Resource sizes: [('https://fampay.in/blog/content/images/2020/11/logofilewhite-11-2.png', 0.130859375), ('https://fampay.in/blog/content/images/2020/11/logofilewhite-11-2.png', 0.130859375), ('https://fampay.in/blog/content/images/2021/06/Screenshot_20210615-152859__02.jpg', 0.130859375), ('https://fampay.in/blog/content/images/2021/06/Screenshot_20210615-152859__01.jpg', 0.130859375), ('https://fampay.in/blog/content/images/2021/06/Screenshot_20210615-153722__01__01.jpg', 0.130859375), ('/blog/assets/images/success.png?v=22080dfa02', 0.130859375), ('https://cdn.jsdelivr.net/ghost/portal@~2.30/umd/portal.min.js', 170.8154296875), ('https://cdn.jsdelivr.net/ghost/sodo-search@~1.1/umd/sodo-search.min.js', 95.5751953125), ('/blog/public/cards.min.js?v=22080dfa02', 0.130859375), ('/blog/public/member-attribution.min.js?v=22080dfa02', 0.130859375), ('https://www.googletagmanager.com/gtag/js?id=UA-147725948-3', 0.0), ('https://polyfill.io/v3/polyfill.min.js?features=IntersectionObserver%2CPromise%2CArray.prototype.includes%2CString.prototype.endsWith%2CString.prototype.startsWith%2CObject.assign%2CNodeList.prototype.forEach', 14.1123046875), ('/blog/assets/js/vendor/content-api.min.js?v=22080dfa02', 0.130859375), ('/blog/assets/js/manifest.js?v=22080dfa02', 0.130859375), ('/blog/assets/js/vendor.js?v=22080dfa02', 0.130859375), ('/blog/assets/js/app.js?v=22080dfa02', 0.130859375), ('/blog/assets/js/post.js?v=22080dfa02', 0.130859375), ('/blog/assets/css/app.css?v=22080dfa02', 0.130859375), ('/blog/public/cards.min.css?v=22080dfa02', 0.130859375)]\n",
      "Analyzing 50 of 246: https://fampay.in/blog/life-of-an-intern-is-love/\n",
      "Page size: 49.4111328125 KB\n",
      "Resource sizes: [('https://fampay.in/blog/content/images/2020/11/logofilewhite-11-2.png', 0.130859375), ('https://fampay.in/blog/content/images/2020/11/logofilewhite-11-2.png', 0.130859375), ('https://fampay.in/blog/content/images/2020/10/Ayushi.jpg', 0.130859375), ('https://fampay.in/blog/content/images/2020/10/interns-to-anchit-1.png', 0.130859375), ('https://fampay.in/blog/content/images/2020/10/Shunyam.jpg', 0.130859375), ('https://fampay.in/blog/content/images/2020/10/Simran.jpg', 0.130859375), ('https://fampay.in/blog/content/images/2020/10/Harshitha.jpg', 0.130859375), ('https://fampay.in/blog/content/images/2020/10/Ashu.jpg', 0.130859375), ('https://fampay.in/blog/content/images/2020/10/Aditee.jpg', 0.130859375), ('https://fampay.in/blog/content/images/2020/10/Shivam.jpg', 0.130859375), ('https://fampay.in/blog/content/images/2020/10/Ananya.jpg', 0.130859375), ('https://fampay.in/blog/content/images/2021/02/sameeran.PNG', 0.130859375), ('https://fampay.in/blog/content/images/2021/01/image-1.png', 0.130859375), ('/blog/assets/images/success.png?v=22080dfa02', 0.130859375), ('https://cdn.jsdelivr.net/ghost/portal@~2.30/umd/portal.min.js', 170.8154296875), ('https://cdn.jsdelivr.net/ghost/sodo-search@~1.1/umd/sodo-search.min.js', 95.5751953125), ('/blog/public/cards.min.js?v=22080dfa02', 0.130859375), ('/blog/public/member-attribution.min.js?v=22080dfa02', 0.130859375), ('https://www.googletagmanager.com/gtag/js?id=UA-147725948-3', 0.0), ('https://polyfill.io/v3/polyfill.min.js?features=IntersectionObserver%2CPromise%2CArray.prototype.includes%2CString.prototype.endsWith%2CString.prototype.startsWith%2CObject.assign%2CNodeList.prototype.forEach', 14.1123046875), ('/blog/assets/js/vendor/content-api.min.js?v=22080dfa02', 0.130859375), ('/blog/assets/js/manifest.js?v=22080dfa02', 0.130859375), ('/blog/assets/js/vendor.js?v=22080dfa02', 0.130859375), ('/blog/assets/js/app.js?v=22080dfa02', 0.130859375), ('/blog/assets/js/post.js?v=22080dfa02', 0.130859375), ('/blog/assets/css/app.css?v=22080dfa02', 0.130859375), ('/blog/public/cards.min.css?v=22080dfa02', 0.130859375)]\n",
      "Analyzing 51 of 246: https://fampay.in/blog/author/ayushi/\n",
      "Page size: 23.4169921875 KB\n",
      "Resource sizes: [('https://fampay.in/blog/content/images/2020/11/logofilewhite-11-2.png', 0.130859375), ('https://fampay.in/blog/content/images/2020/11/logofilewhite-11-2.png', 0.130859375), ('https://cdn.jsdelivr.net/ghost/portal@~2.30/umd/portal.min.js', 170.8154296875), ('https://cdn.jsdelivr.net/ghost/sodo-search@~1.1/umd/sodo-search.min.js', 95.5751953125), ('/blog/public/cards.min.js?v=22080dfa02', 0.130859375), ('/blog/public/member-attribution.min.js?v=22080dfa02', 0.130859375), ('https://www.googletagmanager.com/gtag/js?id=UA-147725948-3', 0.0), ('https://polyfill.io/v3/polyfill.min.js?features=IntersectionObserver%2CPromise%2CArray.prototype.includes%2CString.prototype.endsWith%2CString.prototype.startsWith%2CObject.assign%2CNodeList.prototype.forEach', 14.1123046875), ('/blog/assets/js/vendor/content-api.min.js?v=22080dfa02', 0.130859375), ('/blog/assets/js/manifest.js?v=22080dfa02', 0.130859375), ('/blog/assets/js/vendor.js?v=22080dfa02', 0.130859375), ('/blog/assets/js/app.js?v=22080dfa02', 0.130859375), ('/blog/assets/css/app.css?v=22080dfa02', 0.130859375), ('/blog/public/cards.min.css?v=22080dfa02', 0.130859375)]\n",
      "Analyzing 52 of 246: https://fampay.in/blog/tag/culture/\n",
      "Page size: 32.498046875 KB\n",
      "Resource sizes: [('https://fampay.in/blog/content/images/2020/11/logofilewhite-11-2.png', 0.130859375), ('https://fampay.in/blog/content/images/2020/11/logofilewhite-11-2.png', 0.130859375), ('https://cdn.jsdelivr.net/ghost/portal@~2.30/umd/portal.min.js', 170.8154296875), ('https://cdn.jsdelivr.net/ghost/sodo-search@~1.1/umd/sodo-search.min.js', 95.5751953125), ('/blog/public/cards.min.js?v=22080dfa02', 0.130859375), ('/blog/public/member-attribution.min.js?v=22080dfa02', 0.130859375), ('https://www.googletagmanager.com/gtag/js?id=UA-147725948-3', 0.0), ('https://polyfill.io/v3/polyfill.min.js?features=IntersectionObserver%2CPromise%2CArray.prototype.includes%2CString.prototype.endsWith%2CString.prototype.startsWith%2CObject.assign%2CNodeList.prototype.forEach', 14.1123046875), ('/blog/assets/js/vendor/content-api.min.js?v=22080dfa02', 0.130859375), ('/blog/assets/js/manifest.js?v=22080dfa02', 0.130859375), ('/blog/assets/js/vendor.js?v=22080dfa02', 0.130859375), ('/blog/assets/js/app.js?v=22080dfa02', 0.130859375), ('/blog/assets/css/app.css?v=22080dfa02', 0.130859375), ('/blog/public/cards.min.css?v=22080dfa02', 0.130859375)]\n",
      "Analyzing 53 of 246: https://fampay.in/blog/12-queer-led-small-businesses-you-need-to-support-this-pride-month/\n",
      "Page size: 47.44921875 KB\n",
      "Resource sizes: [('https://fampay.in/blog/content/images/2020/11/logofilewhite-11-2.png', 0.130859375), ('https://fampay.in/blog/content/images/2020/11/logofilewhite-11-2.png', 0.130859375), ('https://fampay.in/blog/content/images/2021/06/IMG-3577.jpg', 0.130859375), ('https://fampay.in/blog/content/images/2021/06/IMG-3578.jpg', 0.130859375), ('https://fampay.in/blog/content/images/2021/06/IMG-3579.jpg', 0.130859375), ('https://fampay.in/blog/content/images/2021/06/IMG-3581.jpg', 0.130859375), ('https://fampay.in/blog/content/images/2021/06/IMG-3582.jpg', 0.130859375), ('https://fampay.in/blog/content/images/2021/06/IMG-3583.jpg', 0.130859375), ('https://fampay.in/blog/content/images/2021/06/IMG-3584.jpg', 0.130859375), ('https://fampay.in/blog/content/images/2021/06/IMG-3585.jpg', 0.130859375), ('https://fampay.in/blog/content/images/2021/06/IMG-3586.jpg', 0.130859375), ('https://fampay.in/blog/content/images/2021/06/IMG-3590.jpg', 0.130859375), ('https://fampay.in/blog/content/images/2021/06/IMG-3588.jpg', 0.130859375), ('https://fampay.in/blog/content/images/2021/06/IMG-3589.jpg', 0.130859375), ('/blog/assets/images/success.png?v=22080dfa02', 0.130859375), ('https://cdn.jsdelivr.net/ghost/portal@~2.30/umd/portal.min.js', 170.8154296875), ('https://cdn.jsdelivr.net/ghost/sodo-search@~1.1/umd/sodo-search.min.js', 95.5751953125), ('/blog/public/cards.min.js?v=22080dfa02', 0.130859375), ('/blog/public/member-attribution.min.js?v=22080dfa02', 0.130859375), ('https://www.googletagmanager.com/gtag/js?id=UA-147725948-3', 0.0), ('https://polyfill.io/v3/polyfill.min.js?features=IntersectionObserver%2CPromise%2CArray.prototype.includes%2CString.prototype.endsWith%2CString.prototype.startsWith%2CObject.assign%2CNodeList.prototype.forEach', 14.1123046875), ('/blog/assets/js/vendor/content-api.min.js?v=22080dfa02', 0.130859375), ('/blog/assets/js/manifest.js?v=22080dfa02', 0.130859375), ('/blog/assets/js/vendor.js?v=22080dfa02', 0.130859375), ('/blog/assets/js/app.js?v=22080dfa02', 0.130859375), ('/blog/assets/js/post.js?v=22080dfa02', 0.130859375), ('/blog/assets/css/app.css?v=22080dfa02', 0.130859375), ('/blog/public/cards.min.css?v=22080dfa02', 0.130859375)]\n",
      "Analyzing 54 of 246: https://fampay.in/blog/3-financial-lessons-from-nature-itself/\n",
      "Page size: 44.9775390625 KB\n",
      "Resource sizes: [('https://fampay.in/blog/content/images/2020/11/logofilewhite-11-2.png', 0.130859375), ('https://fampay.in/blog/content/images/2020/11/logofilewhite-11-2.png', 0.130859375), ('https://fampay.in/blog/content/images/2021/04/nature-coexisting.jpeg', 0.130859375), ('https://fampay.in/blog/content/images/2021/04/image-14.png', 0.130859375), ('https://fampay.in/blog/content/images/2021/04/Tree-ecosystem22.jpg', 0.130859375), ('https://fampay.in/blog/content/images/2021/04/Bees-storing-food.jpg', 0.130859375), ('https://fampay.in/blog/favicon.png', 0.130859375), ('https://fampay.in/blog/content/images/2020/12/ray-sangga-kusuma-7uSrOyY1U0I-unsplash1.jpg', 0.130859375), ('/blog/assets/images/success.png?v=22080dfa02', 0.130859375), ('https://cdn.jsdelivr.net/ghost/portal@~2.30/umd/portal.min.js', 170.8154296875), ('https://cdn.jsdelivr.net/ghost/sodo-search@~1.1/umd/sodo-search.min.js', 95.5751953125), ('/blog/public/cards.min.js?v=22080dfa02', 0.130859375), ('/blog/public/member-attribution.min.js?v=22080dfa02', 0.130859375), ('https://www.googletagmanager.com/gtag/js?id=UA-147725948-3', 0.0), ('https://polyfill.io/v3/polyfill.min.js?features=IntersectionObserver%2CPromise%2CArray.prototype.includes%2CString.prototype.endsWith%2CString.prototype.startsWith%2CObject.assign%2CNodeList.prototype.forEach', 14.1123046875), ('/blog/assets/js/vendor/content-api.min.js?v=22080dfa02', 0.130859375), ('/blog/assets/js/manifest.js?v=22080dfa02', 0.130859375), ('/blog/assets/js/vendor.js?v=22080dfa02', 0.130859375), ('/blog/assets/js/app.js?v=22080dfa02', 0.130859375), ('/blog/assets/js/post.js?v=22080dfa02', 0.130859375), ('/blog/assets/css/app.css?v=22080dfa02', 0.130859375), ('/blog/public/cards.min.css?v=22080dfa02', 0.130859375)]\n",
      "Analyzing 55 of 246: https://fampay.in/blog/living-life-genz-style/\n",
      "Page size: 40.5654296875 KB\n",
      "Resource sizes: [('https://fampay.in/blog/content/images/2020/11/logofilewhite-11-2.png', 0.130859375), ('https://fampay.in/blog/content/images/2020/11/logofilewhite-11-2.png', 0.130859375), ('https://fampay.in/blog/content/images/2020/10/king.gif', 0.130859375), ('https://fampay.in/blog/content/images/2020/10/finally-final.png', 0.130859375), ('https://fampay.in/blog/content/images/2020/10/tenor.gif', 0.130859375), ('https://fampay.in/blog/content/images/2020/10/giphy-2.gif', 0.130859375), ('https://fampay.in/blog/content/images/2020/10/giphy-3.gif', 0.130859375), ('https://fampay.in/blog/content/images/2020/10/DSC01983-2.jpg', 0.130859375), ('https://fampay.in/blog/content/images/2020/10/DSC02327-2.jpg', 0.130859375), ('https://fampay.in/blog/content/images/2020/10/tenor-1.gif', 0.130859375), ('/blog/assets/images/success.png?v=22080dfa02', 0.130859375), ('https://cdn.jsdelivr.net/ghost/portal@~2.30/umd/portal.min.js', 170.8154296875), ('https://cdn.jsdelivr.net/ghost/sodo-search@~1.1/umd/sodo-search.min.js', 95.5751953125), ('/blog/public/cards.min.js?v=22080dfa02', 0.130859375), ('/blog/public/member-attribution.min.js?v=22080dfa02', 0.130859375), ('https://www.googletagmanager.com/gtag/js?id=UA-147725948-3', 0.0), ('https://polyfill.io/v3/polyfill.min.js?features=IntersectionObserver%2CPromise%2CArray.prototype.includes%2CString.prototype.endsWith%2CString.prototype.startsWith%2CObject.assign%2CNodeList.prototype.forEach', 14.1123046875), ('/blog/assets/js/vendor/content-api.min.js?v=22080dfa02', 0.130859375), ('/blog/assets/js/manifest.js?v=22080dfa02', 0.130859375), ('/blog/assets/js/vendor.js?v=22080dfa02', 0.130859375), ('/blog/assets/js/app.js?v=22080dfa02', 0.130859375), ('/blog/assets/js/post.js?v=22080dfa02', 0.130859375), ('/blog/assets/css/app.css?v=22080dfa02', 0.130859375), ('/blog/public/cards.min.css?v=22080dfa02', 0.130859375)]\n",
      "Analyzing 56 of 246: https://fampay.in/blog/remote-working-divided-by-distance-united-by-mission/\n",
      "Page size: 42.27734375 KB\n",
      "Resource sizes: [('https://fampay.in/blog/content/images/2020/11/logofilewhite-11-2.png', 0.130859375), ('https://fampay.in/blog/content/images/2020/11/logofilewhite-11-2.png', 0.130859375), ('https://fampay.in/blog/content/images/2020/09/NEW-IMAGE.png', 0.130859375), ('https://fampay.in/blog/content/images/2020/08/REMOTE-LOGO.png', 0.130859375), ('/blog/assets/images/success.png?v=22080dfa02', 0.130859375), ('https://cdn.jsdelivr.net/ghost/portal@~2.30/umd/portal.min.js', 170.8154296875), ('https://cdn.jsdelivr.net/ghost/sodo-search@~1.1/umd/sodo-search.min.js', 95.5751953125), ('/blog/public/cards.min.js?v=22080dfa02', 0.130859375), ('/blog/public/member-attribution.min.js?v=22080dfa02', 0.130859375), ('https://www.googletagmanager.com/gtag/js?id=UA-147725948-3', 0.0), ('https://polyfill.io/v3/polyfill.min.js?features=IntersectionObserver%2CPromise%2CArray.prototype.includes%2CString.prototype.endsWith%2CString.prototype.startsWith%2CObject.assign%2CNodeList.prototype.forEach', 14.1123046875), ('/blog/assets/js/vendor/content-api.min.js?v=22080dfa02', 0.130859375), ('/blog/assets/js/manifest.js?v=22080dfa02', 0.130859375), ('/blog/assets/js/vendor.js?v=22080dfa02', 0.130859375), ('/blog/assets/js/app.js?v=22080dfa02', 0.130859375), ('/blog/assets/js/post.js?v=22080dfa02', 0.130859375), ('/blog/assets/css/app.css?v=22080dfa02', 0.130859375), ('/blog/public/cards.min.css?v=22080dfa02', 0.130859375)]\n",
      "Analyzing 57 of 246: https://fampay.in/blog/tag/growth/\n",
      "Page size: 36.1044921875 KB\n",
      "Resource sizes: [('https://fampay.in/blog/content/images/2020/11/logofilewhite-11-2.png', 0.130859375), ('https://fampay.in/blog/content/images/2020/11/logofilewhite-11-2.png', 0.130859375), ('https://cdn.jsdelivr.net/ghost/portal@~2.30/umd/portal.min.js', 170.8154296875), ('https://cdn.jsdelivr.net/ghost/sodo-search@~1.1/umd/sodo-search.min.js', 95.5751953125), ('/blog/public/cards.min.js?v=22080dfa02', 0.130859375), ('/blog/public/member-attribution.min.js?v=22080dfa02', 0.130859375), ('https://www.googletagmanager.com/gtag/js?id=UA-147725948-3', 0.0), ('https://polyfill.io/v3/polyfill.min.js?features=IntersectionObserver%2CPromise%2CArray.prototype.includes%2CString.prototype.endsWith%2CString.prototype.startsWith%2CObject.assign%2CNodeList.prototype.forEach', 14.1123046875), ('/blog/assets/js/vendor/content-api.min.js?v=22080dfa02', 0.130859375), ('/blog/assets/js/manifest.js?v=22080dfa02', 0.130859375), ('/blog/assets/js/vendor.js?v=22080dfa02', 0.130859375), ('/blog/assets/js/app.js?v=22080dfa02', 0.130859375), ('/blog/assets/css/app.css?v=22080dfa02', 0.130859375), ('/blog/public/cards.min.css?v=22080dfa02', 0.130859375)]\n",
      "Analyzing 58 of 246: https://fampay.in/blog/getting-your-generations-right-millennials-v-s-genz/\n",
      "Page size: 43.10546875 KB\n",
      "Resource sizes: [('https://fampay.in/blog/content/images/2020/11/logofilewhite-11-2.png', 0.130859375), ('https://fampay.in/blog/content/images/2020/11/logofilewhite-11-2.png', 0.130859375), ('https://fampay.in/blog/content/images/2021/04/image.png', 0.130859375), ('https://fampay.in/blog/content/images/2021/04/image-9.png', 0.130859375), ('https://fampay.in/blog/content/images/2021/04/image-3.png', 0.130859375), ('https://fampay.in/blog/content/images/2021/04/image-4.png', 0.130859375), ('https://fampay.in/blog/content/images/2021/04/image-5.png', 0.130859375), ('https://fampay.in/blog/content/images/2021/04/image-1.png', 0.130859375), ('https://fampay.in/blog/content/images/2021/04/image-8.png', 0.130859375), ('https://fampay.in/blog/content/images/2021/04/image-7.png', 0.130859375), ('/blog/assets/images/success.png?v=22080dfa02', 0.130859375), ('https://cdn.jsdelivr.net/ghost/portal@~2.30/umd/portal.min.js', 170.8154296875), ('https://cdn.jsdelivr.net/ghost/sodo-search@~1.1/umd/sodo-search.min.js', 95.5751953125), ('/blog/public/cards.min.js?v=22080dfa02', 0.130859375), ('/blog/public/member-attribution.min.js?v=22080dfa02', 0.130859375), ('https://www.googletagmanager.com/gtag/js?id=UA-147725948-3', 0.0), ('https://polyfill.io/v3/polyfill.min.js?features=IntersectionObserver%2CPromise%2CArray.prototype.includes%2CString.prototype.endsWith%2CString.prototype.startsWith%2CObject.assign%2CNodeList.prototype.forEach', 14.1123046875), ('/blog/assets/js/vendor/content-api.min.js?v=22080dfa02', 0.130859375), ('/blog/assets/js/manifest.js?v=22080dfa02', 0.130859375), ('/blog/assets/js/vendor.js?v=22080dfa02', 0.130859375), ('/blog/assets/js/app.js?v=22080dfa02', 0.130859375), ('/blog/assets/js/post.js?v=22080dfa02', 0.130859375), ('/blog/assets/css/app.css?v=22080dfa02', 0.130859375), ('/blog/public/cards.min.css?v=22080dfa02', 0.130859375)]\n",
      "Analyzing 59 of 246: https://fampay.in/blog/author/sajal/\n",
      "Page size: 23.5302734375 KB\n",
      "Resource sizes: [('https://fampay.in/blog/content/images/2020/11/logofilewhite-11-2.png', 0.130859375), ('https://fampay.in/blog/content/images/2020/11/logofilewhite-11-2.png', 0.130859375), ('https://cdn.jsdelivr.net/ghost/portal@~2.30/umd/portal.min.js', 170.8154296875), ('https://cdn.jsdelivr.net/ghost/sodo-search@~1.1/umd/sodo-search.min.js', 95.5751953125), ('/blog/public/cards.min.js?v=22080dfa02', 0.130859375), ('/blog/public/member-attribution.min.js?v=22080dfa02', 0.130859375), ('https://www.googletagmanager.com/gtag/js?id=UA-147725948-3', 0.0), ('https://polyfill.io/v3/polyfill.min.js?features=IntersectionObserver%2CPromise%2CArray.prototype.includes%2CString.prototype.endsWith%2CString.prototype.startsWith%2CObject.assign%2CNodeList.prototype.forEach', 14.1123046875), ('/blog/assets/js/vendor/content-api.min.js?v=22080dfa02', 0.130859375), ('/blog/assets/js/manifest.js?v=22080dfa02', 0.130859375), ('/blog/assets/js/vendor.js?v=22080dfa02', 0.130859375), ('/blog/assets/js/app.js?v=22080dfa02', 0.130859375), ('/blog/assets/css/app.css?v=22080dfa02', 0.130859375), ('/blog/public/cards.min.css?v=22080dfa02', 0.130859375)]\n",
      "Analyzing 60 of 246: https://fampay.in/blog/when-building-for-genzs-build-it-on-discord/\n",
      "Page size: 42.5419921875 KB\n",
      "Resource sizes: [('https://fampay.in/blog/content/images/2020/11/logofilewhite-11-2.png', 0.130859375), ('https://fampay.in/blog/content/images/2020/11/logofilewhite-11-2.png', 0.130859375), ('https://fampay.in/blog/content/images/2021/03/image.png', 0.130859375), ('https://fampay.in/blog/content/images/2021/03/2021-03-23--3-.png', 0.130859375), ('https://fampay.in/blog/content/images/2021/03/2021-03-23--5--2.png', 0.130859375), ('https://fampay.in/blog/content/images/2021/03/2021-03-23--4-.png', 0.130859375), ('/blog/assets/images/success.png?v=22080dfa02', 0.130859375), ('https://cdn.jsdelivr.net/ghost/portal@~2.30/umd/portal.min.js', 170.8154296875), ('https://cdn.jsdelivr.net/ghost/sodo-search@~1.1/umd/sodo-search.min.js', 95.5751953125), ('/blog/public/cards.min.js?v=22080dfa02', 0.130859375), ('/blog/public/member-attribution.min.js?v=22080dfa02', 0.130859375), ('https://www.googletagmanager.com/gtag/js?id=UA-147725948-3', 0.0), ('https://polyfill.io/v3/polyfill.min.js?features=IntersectionObserver%2CPromise%2CArray.prototype.includes%2CString.prototype.endsWith%2CString.prototype.startsWith%2CObject.assign%2CNodeList.prototype.forEach', 14.1123046875), ('/blog/assets/js/vendor/content-api.min.js?v=22080dfa02', 0.130859375), ('/blog/assets/js/manifest.js?v=22080dfa02', 0.130859375), ('/blog/assets/js/vendor.js?v=22080dfa02', 0.130859375), ('/blog/assets/js/app.js?v=22080dfa02', 0.130859375), ('/blog/assets/js/post.js?v=22080dfa02', 0.130859375), ('/blog/assets/css/app.css?v=22080dfa02', 0.130859375), ('/blog/public/cards.min.css?v=22080dfa02', 0.130859375)]\n",
      "Analyzing 61 of 246: https://fampay.in/blog/author/aditi/\n",
      "Page size: 23.8271484375 KB\n",
      "Resource sizes: [('https://fampay.in/blog/content/images/2020/11/logofilewhite-11-2.png', 0.130859375), ('https://fampay.in/blog/content/images/2020/11/logofilewhite-11-2.png', 0.130859375), ('https://cdn.jsdelivr.net/ghost/portal@~2.30/umd/portal.min.js', 170.8154296875), ('https://cdn.jsdelivr.net/ghost/sodo-search@~1.1/umd/sodo-search.min.js', 95.5751953125), ('/blog/public/cards.min.js?v=22080dfa02', 0.130859375), ('/blog/public/member-attribution.min.js?v=22080dfa02', 0.130859375), ('https://www.googletagmanager.com/gtag/js?id=UA-147725948-3', 0.0), ('https://polyfill.io/v3/polyfill.min.js?features=IntersectionObserver%2CPromise%2CArray.prototype.includes%2CString.prototype.endsWith%2CString.prototype.startsWith%2CObject.assign%2CNodeList.prototype.forEach', 14.1123046875), ('/blog/assets/js/vendor/content-api.min.js?v=22080dfa02', 0.130859375), ('/blog/assets/js/manifest.js?v=22080dfa02', 0.130859375), ('/blog/assets/js/vendor.js?v=22080dfa02', 0.130859375), ('/blog/assets/js/app.js?v=22080dfa02', 0.130859375), ('/blog/assets/css/app.css?v=22080dfa02', 0.130859375), ('/blog/public/cards.min.css?v=22080dfa02', 0.130859375)]\n",
      "Analyzing 62 of 246: https://fampay.in/blog/club-teens-one-stop-online-community/\n",
      "Page size: 41.884765625 KB\n",
      "Resource sizes: [('https://fampay.in/blog/content/images/2020/11/logofilewhite-11-2.png', 0.130859375), ('https://fampay.in/blog/content/images/2020/11/logofilewhite-11-2.png', 0.130859375), ('https://fampay.in/blog/content/images/2021/02/image-1.png', 0.130859375), ('https://fampay.in/blog/content/images/2021/02/image-3.png', 0.130859375), ('https://fampay.in/blog/content/images/2021/02/image-2.png', 0.130859375), ('https://fampay.in/blog/content/images/2021/02/image-4.png', 0.130859375), ('https://fampay.in/blog/content/images/2021/02/image.png', 0.130859375), ('/blog/assets/images/success.png?v=22080dfa02', 0.130859375), ('https://cdn.jsdelivr.net/ghost/portal@~2.30/umd/portal.min.js', 170.8154296875), ('https://cdn.jsdelivr.net/ghost/sodo-search@~1.1/umd/sodo-search.min.js', 95.5751953125), ('/blog/public/cards.min.js?v=22080dfa02', 0.130859375), ('/blog/public/member-attribution.min.js?v=22080dfa02', 0.130859375), ('https://www.googletagmanager.com/gtag/js?id=UA-147725948-3', 0.0), ('https://polyfill.io/v3/polyfill.min.js?features=IntersectionObserver%2CPromise%2CArray.prototype.includes%2CString.prototype.endsWith%2CString.prototype.startsWith%2CObject.assign%2CNodeList.prototype.forEach', 14.1123046875), ('/blog/assets/js/vendor/content-api.min.js?v=22080dfa02', 0.130859375), ('/blog/assets/js/manifest.js?v=22080dfa02', 0.130859375), ('/blog/assets/js/vendor.js?v=22080dfa02', 0.130859375), ('/blog/assets/js/app.js?v=22080dfa02', 0.130859375), ('/blog/assets/js/post.js?v=22080dfa02', 0.130859375), ('/blog/assets/css/app.css?v=22080dfa02', 0.130859375), ('/blog/public/cards.min.css?v=22080dfa02', 0.130859375)]\n",
      "Analyzing 63 of 246: https://fampay.in/blog/author/kaavyya/\n",
      "Page size: 23.5166015625 KB\n",
      "Resource sizes: [('https://fampay.in/blog/content/images/2020/11/logofilewhite-11-2.png', 0.130859375), ('https://fampay.in/blog/content/images/2020/11/logofilewhite-11-2.png', 0.130859375), ('https://cdn.jsdelivr.net/ghost/portal@~2.30/umd/portal.min.js', 170.8154296875), ('https://cdn.jsdelivr.net/ghost/sodo-search@~1.1/umd/sodo-search.min.js', 95.5751953125), ('/blog/public/cards.min.js?v=22080dfa02', 0.130859375), ('/blog/public/member-attribution.min.js?v=22080dfa02', 0.130859375), ('https://www.googletagmanager.com/gtag/js?id=UA-147725948-3', 0.0), ('https://polyfill.io/v3/polyfill.min.js?features=IntersectionObserver%2CPromise%2CArray.prototype.includes%2CString.prototype.endsWith%2CString.prototype.startsWith%2CObject.assign%2CNodeList.prototype.forEach', 14.1123046875), ('/blog/assets/js/vendor/content-api.min.js?v=22080dfa02', 0.130859375), ('/blog/assets/js/manifest.js?v=22080dfa02', 0.130859375), ('/blog/assets/js/vendor.js?v=22080dfa02', 0.130859375), ('/blog/assets/js/app.js?v=22080dfa02', 0.130859375), ('/blog/assets/css/app.css?v=22080dfa02', 0.130859375), ('/blog/public/cards.min.css?v=22080dfa02', 0.130859375)]\n",
      "Analyzing 64 of 246: https://fampay.in/blog/effectively-harnessing-motion-design-for-genzs/\n",
      "Page size: 45.0908203125 KB\n",
      "Resource sizes: [('https://fampay.in/blog/content/images/2020/11/logofilewhite-11-2.png', 0.130859375), ('https://fampay.in/blog/content/images/2020/11/logofilewhite-11-2.png', 0.130859375), ('https://fampay.in/blog/content/images/2021/02/GIF-10.gif', 0.130859375), ('https://fampay.in/blog/content/images/2021/02/1-1.jpg', 0.130859375), ('https://fampay.in/blog/content/images/2021/02/2.jpg', 0.130859375), ('https://fampay.in/blog/content/images/2021/02/GIF-1.gif', 0.130859375), ('https://fampay.in/blog/content/images/2021/02/GIF-2.gif', 0.130859375), ('https://fampay.in/blog/content/images/2021/02/GIF-6.gif', 0.130859375), ('https://fampay.in/blog/content/images/2021/02/GIF-4.gif', 0.130859375), ('https://fampay.in/blog/content/images/2021/02/GIF-7-B.gif', 0.130859375), ('https://fampay.in/blog/content/images/2021/02/GIF-5-B.gif', 0.130859375), ('https://fampay.in/blog/content/images/2021/02/GIF-8.gif', 0.130859375), ('https://fampay.in/blog/content/images/2021/02/GIF-9.gif', 0.130859375), ('/blog/assets/images/success.png?v=22080dfa02', 0.130859375), ('https://cdn.jsdelivr.net/ghost/portal@~2.30/umd/portal.min.js', 170.8154296875), ('https://cdn.jsdelivr.net/ghost/sodo-search@~1.1/umd/sodo-search.min.js', 95.5751953125), ('/blog/public/cards.min.js?v=22080dfa02', 0.130859375), ('/blog/public/member-attribution.min.js?v=22080dfa02', 0.130859375), ('https://www.googletagmanager.com/gtag/js?id=UA-147725948-3', 0.0), ('https://polyfill.io/v3/polyfill.min.js?features=IntersectionObserver%2CPromise%2CArray.prototype.includes%2CString.prototype.endsWith%2CString.prototype.startsWith%2CObject.assign%2CNodeList.prototype.forEach', 14.1123046875), ('/blog/assets/js/vendor/content-api.min.js?v=22080dfa02', 0.130859375), ('/blog/assets/js/manifest.js?v=22080dfa02', 0.130859375), ('/blog/assets/js/vendor.js?v=22080dfa02', 0.130859375), ('/blog/assets/js/app.js?v=22080dfa02', 0.130859375), ('/blog/assets/js/post.js?v=22080dfa02', 0.130859375), ('/blog/assets/css/app.css?v=22080dfa02', 0.130859375), ('/blog/public/cards.min.css?v=22080dfa02', 0.130859375)]\n",
      "Analyzing 65 of 246: https://fampay.in/blog/author/hrishikesh/\n",
      "Page size: 23.4638671875 KB\n",
      "Resource sizes: [('https://fampay.in/blog/content/images/2020/11/logofilewhite-11-2.png', 0.130859375), ('https://fampay.in/blog/content/images/2020/11/logofilewhite-11-2.png', 0.130859375), ('https://cdn.jsdelivr.net/ghost/portal@~2.30/umd/portal.min.js', 170.8154296875), ('https://cdn.jsdelivr.net/ghost/sodo-search@~1.1/umd/sodo-search.min.js', 95.5751953125), ('/blog/public/cards.min.js?v=22080dfa02', 0.130859375), ('/blog/public/member-attribution.min.js?v=22080dfa02', 0.130859375), ('https://www.googletagmanager.com/gtag/js?id=UA-147725948-3', 0.0), ('https://polyfill.io/v3/polyfill.min.js?features=IntersectionObserver%2CPromise%2CArray.prototype.includes%2CString.prototype.endsWith%2CString.prototype.startsWith%2CObject.assign%2CNodeList.prototype.forEach', 14.1123046875), ('/blog/assets/js/vendor/content-api.min.js?v=22080dfa02', 0.130859375), ('/blog/assets/js/manifest.js?v=22080dfa02', 0.130859375), ('/blog/assets/js/vendor.js?v=22080dfa02', 0.130859375), ('/blog/assets/js/app.js?v=22080dfa02', 0.130859375), ('/blog/assets/css/app.css?v=22080dfa02', 0.130859375), ('/blog/public/cards.min.css?v=22080dfa02', 0.130859375)]\n",
      "Analyzing 66 of 246: https://fampay.in/blog/writing-content-for-a-content-saturated-generation/\n",
      "Page size: 48.61328125 KB\n",
      "Resource sizes: [('https://fampay.in/blog/content/images/2020/11/logofilewhite-11-2.png', 0.130859375), ('https://fampay.in/blog/content/images/2020/11/logofilewhite-11-2.png', 0.130859375), ('https://fampay.in/blog/content/images/2021/01/content.gif', 0.130859375), ('https://fampay.in/blog/content/images/2021/01/Untitled.png', 0.130859375), ('https://fampay.in/blog/content/images/2021/01/Untitled--1-.png', 0.130859375), ('https://fampay.in/blog/content/images/2021/01/Untitled--2-.png', 0.130859375), ('https://fampay.in/blog/content/images/2021/01/Untitled--3-.png', 0.130859375), ('https://fampay.in/blog/content/images/2021/01/Untitled--4-.png', 0.130859375), ('https://fampay.in/blog/content/images/2021/01/WhatsApp-Image-2021-01-14-at-11.54.50-AM--1-.jpeg', 0.130859375), ('https://fampay.in/blog/content/images/2021/01/WhatsApp-Image-2021-01-14-at-11.54.50-AM-1.jpeg', 0.130859375), ('https://fampay.in/blog/content/images/2021/01/Untitled--5-.png', 0.130859375), ('https://fampay.in/blog/content/images/2021/01/Untitled--6-.png', 0.130859375), ('https://fampay.in/blog/content/images/2021/01/Untitled--7-.png', 0.130859375), ('/blog/assets/images/success.png?v=22080dfa02', 0.130859375), ('https://cdn.jsdelivr.net/ghost/portal@~2.30/umd/portal.min.js', 170.8154296875), ('https://cdn.jsdelivr.net/ghost/sodo-search@~1.1/umd/sodo-search.min.js', 95.5751953125), ('/blog/public/cards.min.js?v=22080dfa02', 0.130859375), ('/blog/public/member-attribution.min.js?v=22080dfa02', 0.130859375), ('https://www.googletagmanager.com/gtag/js?id=UA-147725948-3', 0.0), ('https://polyfill.io/v3/polyfill.min.js?features=IntersectionObserver%2CPromise%2CArray.prototype.includes%2CString.prototype.endsWith%2CString.prototype.startsWith%2CObject.assign%2CNodeList.prototype.forEach', 14.1123046875), ('/blog/assets/js/vendor/content-api.min.js?v=22080dfa02', 0.130859375), ('/blog/assets/js/manifest.js?v=22080dfa02', 0.130859375), ('/blog/assets/js/vendor.js?v=22080dfa02', 0.130859375), ('/blog/assets/js/app.js?v=22080dfa02', 0.130859375), ('/blog/assets/js/post.js?v=22080dfa02', 0.130859375), ('/blog/assets/css/app.css?v=22080dfa02', 0.130859375), ('/blog/public/cards.min.css?v=22080dfa02', 0.130859375)]\n",
      "Analyzing 67 of 246: https://fampay.in/blog/author/diya/\n",
      "Page size: 23.43359375 KB\n",
      "Resource sizes: [('https://fampay.in/blog/content/images/2020/11/logofilewhite-11-2.png', 0.130859375), ('https://fampay.in/blog/content/images/2020/11/logofilewhite-11-2.png', 0.130859375), ('https://cdn.jsdelivr.net/ghost/portal@~2.30/umd/portal.min.js', 170.8154296875), ('https://cdn.jsdelivr.net/ghost/sodo-search@~1.1/umd/sodo-search.min.js', 95.5751953125), ('/blog/public/cards.min.js?v=22080dfa02', 0.130859375), ('/blog/public/member-attribution.min.js?v=22080dfa02', 0.130859375), ('https://www.googletagmanager.com/gtag/js?id=UA-147725948-3', 0.0), ('https://polyfill.io/v3/polyfill.min.js?features=IntersectionObserver%2CPromise%2CArray.prototype.includes%2CString.prototype.endsWith%2CString.prototype.startsWith%2CObject.assign%2CNodeList.prototype.forEach', 14.1123046875), ('/blog/assets/js/vendor/content-api.min.js?v=22080dfa02', 0.130859375), ('/blog/assets/js/manifest.js?v=22080dfa02', 0.130859375), ('/blog/assets/js/vendor.js?v=22080dfa02', 0.130859375), ('/blog/assets/js/app.js?v=22080dfa02', 0.130859375), ('/blog/assets/css/app.css?v=22080dfa02', 0.130859375), ('/blog/public/cards.min.css?v=22080dfa02', 0.130859375)]\n",
      "Analyzing 68 of 246: https://fampay.in/blog/how-to-grow-your-instagram-followers-a-quick-guide-for-all-genz-brands/\n",
      "Page size: 47.2783203125 KB\n",
      "Resource sizes: [('https://fampay.in/blog/content/images/2020/11/logofilewhite-11-2.png', 0.130859375), ('https://fampay.in/blog/content/images/2020/11/logofilewhite-11-2.png', 0.130859375), ('https://fampay.in/blog/content/images/2020/12/image-5.png', 0.130859375), ('https://fampay.in/blog/content/images/2020/12/image-6.png', 0.130859375), ('https://fampay.in/blog/content/images/2020/12/image-12.png', 0.130859375), ('https://fampay.in/blog/content/images/2020/12/image-7.png', 0.130859375), ('https://fampay.in/blog/content/images/2020/12/image-8.png', 0.130859375), ('https://fampay.in/blog/content/images/2020/12/image-9.png', 0.130859375), ('https://fampay.in/blog/content/images/2020/12/image-10.png', 0.130859375), ('https://fampay.in/blog/content/images/2020/12/image-11.png', 0.130859375), ('/blog/assets/images/success.png?v=22080dfa02', 0.130859375), ('https://cdn.jsdelivr.net/ghost/portal@~2.30/umd/portal.min.js', 170.8154296875), ('https://cdn.jsdelivr.net/ghost/sodo-search@~1.1/umd/sodo-search.min.js', 95.5751953125), ('/blog/public/cards.min.js?v=22080dfa02', 0.130859375), ('/blog/public/member-attribution.min.js?v=22080dfa02', 0.130859375), ('https://www.googletagmanager.com/gtag/js?id=UA-147725948-3', 0.0), ('https://polyfill.io/v3/polyfill.min.js?features=IntersectionObserver%2CPromise%2CArray.prototype.includes%2CString.prototype.endsWith%2CString.prototype.startsWith%2CObject.assign%2CNodeList.prototype.forEach', 14.1123046875), ('/blog/assets/js/vendor/content-api.min.js?v=22080dfa02', 0.130859375), ('/blog/assets/js/manifest.js?v=22080dfa02', 0.130859375), ('/blog/assets/js/vendor.js?v=22080dfa02', 0.130859375), ('/blog/assets/js/app.js?v=22080dfa02', 0.130859375), ('/blog/assets/js/post.js?v=22080dfa02', 0.130859375), ('/blog/assets/css/app.css?v=22080dfa02', 0.130859375), ('/blog/public/cards.min.css?v=22080dfa02', 0.130859375)]\n",
      "Analyzing 69 of 246: https://fampay.in/blog/author/tanya/\n",
      "Page size: 23.4765625 KB\n",
      "Resource sizes: [('https://fampay.in/blog/content/images/2020/11/logofilewhite-11-2.png', 0.130859375), ('https://fampay.in/blog/content/images/2020/11/logofilewhite-11-2.png', 0.130859375), ('https://cdn.jsdelivr.net/ghost/portal@~2.30/umd/portal.min.js', 170.8154296875), ('https://cdn.jsdelivr.net/ghost/sodo-search@~1.1/umd/sodo-search.min.js', 95.5751953125), ('/blog/public/cards.min.js?v=22080dfa02', 0.130859375), ('/blog/public/member-attribution.min.js?v=22080dfa02', 0.130859375), ('https://www.googletagmanager.com/gtag/js?id=UA-147725948-3', 0.0), ('https://polyfill.io/v3/polyfill.min.js?features=IntersectionObserver%2CPromise%2CArray.prototype.includes%2CString.prototype.endsWith%2CString.prototype.startsWith%2CObject.assign%2CNodeList.prototype.forEach', 14.1123046875), ('/blog/assets/js/vendor/content-api.min.js?v=22080dfa02', 0.130859375), ('/blog/assets/js/manifest.js?v=22080dfa02', 0.130859375), ('/blog/assets/js/vendor.js?v=22080dfa02', 0.130859375), ('/blog/assets/js/app.js?v=22080dfa02', 0.130859375), ('/blog/assets/css/app.css?v=22080dfa02', 0.130859375), ('/blog/public/cards.min.css?v=22080dfa02', 0.130859375)]\n",
      "Analyzing 70 of 246: https://fampay.in/blog/researching-the-unresearched-genzs/\n",
      "Page size: 43.04296875 KB\n",
      "Resource sizes: [('https://fampay.in/blog/content/images/2020/11/logofilewhite-11-2.png', 0.130859375), ('https://fampay.in/blog/content/images/2020/11/logofilewhite-11-2.png', 0.130859375), ('https://fampay.in/blog/content/images/2020/12/image-2.png', 0.130859375), ('https://lh4.googleusercontent.com/RxBAgouZzfs8glGP6BgBTPXhsYoAKXqDRU6Cc5gOmk41v7goDfLfuZSKZPc6E6vgmBWxG5WzipSH5Mrk7lS9erKd1_5TGs2XgCcZKQdUOVXv5zqKvlgjg5bhDyCFSN_KITQQH2G3', 0.0), ('https://fampay.in/blog/content/images/2020/12/image.png', 0.130859375), ('https://fampay.in/blog/content/images/2020/12/image-3.png', 0.130859375), ('https://fampay.in/blog/content/images/2020/12/image-4.png', 0.130859375), ('/blog/assets/images/success.png?v=22080dfa02', 0.130859375), ('https://cdn.jsdelivr.net/ghost/portal@~2.30/umd/portal.min.js', 170.8154296875), ('https://cdn.jsdelivr.net/ghost/sodo-search@~1.1/umd/sodo-search.min.js', 95.5751953125), ('/blog/public/cards.min.js?v=22080dfa02', 0.130859375), ('/blog/public/member-attribution.min.js?v=22080dfa02', 0.130859375), ('https://www.googletagmanager.com/gtag/js?id=UA-147725948-3', 0.0), ('https://polyfill.io/v3/polyfill.min.js?features=IntersectionObserver%2CPromise%2CArray.prototype.includes%2CString.prototype.endsWith%2CString.prototype.startsWith%2CObject.assign%2CNodeList.prototype.forEach', 14.1123046875), ('/blog/assets/js/vendor/content-api.min.js?v=22080dfa02', 0.130859375), ('/blog/assets/js/manifest.js?v=22080dfa02', 0.130859375), ('/blog/assets/js/vendor.js?v=22080dfa02', 0.130859375), ('/blog/assets/js/app.js?v=22080dfa02', 0.130859375), ('/blog/assets/js/post.js?v=22080dfa02', 0.130859375), ('/blog/assets/css/app.css?v=22080dfa02', 0.130859375), ('/blog/public/cards.min.css?v=22080dfa02', 0.130859375)]\n",
      "Analyzing 71 of 246: https://fampay.in/blog/author/charvi/\n",
      "Page size: 23.3759765625 KB\n",
      "Resource sizes: [('https://fampay.in/blog/content/images/2020/11/logofilewhite-11-2.png', 0.130859375), ('https://fampay.in/blog/content/images/2020/11/logofilewhite-11-2.png', 0.130859375), ('https://cdn.jsdelivr.net/ghost/portal@~2.30/umd/portal.min.js', 170.8154296875), ('https://cdn.jsdelivr.net/ghost/sodo-search@~1.1/umd/sodo-search.min.js', 95.5751953125), ('/blog/public/cards.min.js?v=22080dfa02', 0.130859375), ('/blog/public/member-attribution.min.js?v=22080dfa02', 0.130859375), ('https://www.googletagmanager.com/gtag/js?id=UA-147725948-3', 0.0), ('https://polyfill.io/v3/polyfill.min.js?features=IntersectionObserver%2CPromise%2CArray.prototype.includes%2CString.prototype.endsWith%2CString.prototype.startsWith%2CObject.assign%2CNodeList.prototype.forEach', 14.1123046875), ('/blog/assets/js/vendor/content-api.min.js?v=22080dfa02', 0.130859375), ('/blog/assets/js/manifest.js?v=22080dfa02', 0.130859375), ('/blog/assets/js/vendor.js?v=22080dfa02', 0.130859375), ('/blog/assets/js/app.js?v=22080dfa02', 0.130859375), ('/blog/assets/css/app.css?v=22080dfa02', 0.130859375), ('/blog/public/cards.min.css?v=22080dfa02', 0.130859375)]\n",
      "Analyzing 72 of 246: https://fampay.in/blog/tag/growth/page/2/\n",
      "Page size: 24.853515625 KB\n",
      "Resource sizes: [('https://fampay.in/blog/content/images/2020/11/logofilewhite-11-2.png', 0.130859375), ('https://fampay.in/blog/content/images/2020/11/logofilewhite-11-2.png', 0.130859375), ('https://cdn.jsdelivr.net/ghost/portal@~2.30/umd/portal.min.js', 170.8154296875), ('https://cdn.jsdelivr.net/ghost/sodo-search@~1.1/umd/sodo-search.min.js', 95.5751953125), ('/blog/public/cards.min.js?v=22080dfa02', 0.130859375), ('/blog/public/member-attribution.min.js?v=22080dfa02', 0.130859375), ('https://www.googletagmanager.com/gtag/js?id=UA-147725948-3', 0.0), ('https://polyfill.io/v3/polyfill.min.js?features=IntersectionObserver%2CPromise%2CArray.prototype.includes%2CString.prototype.endsWith%2CString.prototype.startsWith%2CObject.assign%2CNodeList.prototype.forEach', 14.1123046875), ('/blog/assets/js/vendor/content-api.min.js?v=22080dfa02', 0.130859375), ('/blog/assets/js/manifest.js?v=22080dfa02', 0.130859375), ('/blog/assets/js/vendor.js?v=22080dfa02', 0.130859375), ('/blog/assets/js/app.js?v=22080dfa02', 0.130859375), ('/blog/assets/css/app.css?v=22080dfa02', 0.130859375), ('/blog/public/cards.min.css?v=22080dfa02', 0.130859375)]\n",
      "Analyzing 73 of 246: https://fampay.in/blog/tag/lifestyle/\n",
      "Page size: 36.31640625 KB\n",
      "Resource sizes: [('https://fampay.in/blog/content/images/2020/11/logofilewhite-11-2.png', 0.130859375), ('https://fampay.in/blog/content/images/2020/11/logofilewhite-11-2.png', 0.130859375), ('https://cdn.jsdelivr.net/ghost/portal@~2.30/umd/portal.min.js', 170.8154296875), ('https://cdn.jsdelivr.net/ghost/sodo-search@~1.1/umd/sodo-search.min.js', 95.5751953125), ('/blog/public/cards.min.js?v=22080dfa02', 0.130859375), ('/blog/public/member-attribution.min.js?v=22080dfa02', 0.130859375), ('https://www.googletagmanager.com/gtag/js?id=UA-147725948-3', 0.0), ('https://polyfill.io/v3/polyfill.min.js?features=IntersectionObserver%2CPromise%2CArray.prototype.includes%2CString.prototype.endsWith%2CString.prototype.startsWith%2CObject.assign%2CNodeList.prototype.forEach', 14.1123046875), ('/blog/assets/js/vendor/content-api.min.js?v=22080dfa02', 0.130859375), ('/blog/assets/js/manifest.js?v=22080dfa02', 0.130859375), ('/blog/assets/js/vendor.js?v=22080dfa02', 0.130859375), ('/blog/assets/js/app.js?v=22080dfa02', 0.130859375), ('/blog/assets/css/app.css?v=22080dfa02', 0.130859375), ('/blog/public/cards.min.css?v=22080dfa02', 0.130859375)]\n",
      "Analyzing 74 of 246: https://fampay.in/blog/the-most-beautiful-college-campuses-in-india/\n",
      "Page size: 41.4248046875 KB\n",
      "Resource sizes: [('https://fampay.in/blog/content/images/2020/11/logofilewhite-11-2.png', 0.130859375), ('https://fampay.in/blog/content/images/2020/11/logofilewhite-11-2.png', 0.130859375), ('https://fampay.in/blog/content/images/2021/09/image-14.png', 0.130859375), ('https://fampay.in/blog/content/images/2021/09/Untitled--1-.png', 0.130859375), ('https://fampay.in/blog/content/images/2021/09/Untitled--2-.png', 0.130859375), ('https://fampay.in/blog/content/images/2021/09/image-15.png', 0.130859375), ('https://fampay.in/blog/content/images/2021/09/image-16.png', 0.130859375), ('https://fampay.in/blog/content/images/2021/09/image-19.png', 0.130859375), ('https://fampay.in/blog/content/images/2021/09/image-17.png', 0.130859375), ('https://fampay.in/blog/content/images/2021/09/image-18.png', 0.130859375), ('/blog/assets/images/success.png?v=22080dfa02', 0.130859375), ('https://cdn.jsdelivr.net/ghost/portal@~2.30/umd/portal.min.js', 170.8154296875), ('https://cdn.jsdelivr.net/ghost/sodo-search@~1.1/umd/sodo-search.min.js', 95.5751953125), ('/blog/public/cards.min.js?v=22080dfa02', 0.130859375), ('/blog/public/member-attribution.min.js?v=22080dfa02', 0.130859375), ('https://www.googletagmanager.com/gtag/js?id=UA-147725948-3', 0.0), ('https://polyfill.io/v3/polyfill.min.js?features=IntersectionObserver%2CPromise%2CArray.prototype.includes%2CString.prototype.endsWith%2CString.prototype.startsWith%2CObject.assign%2CNodeList.prototype.forEach', 14.1123046875), ('/blog/assets/js/vendor/content-api.min.js?v=22080dfa02', 0.130859375), ('/blog/assets/js/manifest.js?v=22080dfa02', 0.130859375), ('/blog/assets/js/vendor.js?v=22080dfa02', 0.130859375), ('/blog/assets/js/app.js?v=22080dfa02', 0.130859375), ('/blog/assets/js/post.js?v=22080dfa02', 0.130859375), ('/blog/assets/css/app.css?v=22080dfa02', 0.130859375), ('/blog/public/cards.min.css?v=22080dfa02', 0.130859375)]\n",
      "Analyzing 75 of 246: https://fampay.in/blog/every-little-thing-counts-ways-in-which-you-can-contribute-to-society-as-a-teenager/\n",
      "Page size: 51.251953125 KB\n",
      "Resource sizes: [('https://fampay.in/blog/content/images/2020/11/logofilewhite-11-2.png', 0.130859375), ('https://fampay.in/blog/content/images/2020/11/logofilewhite-11-2.png', 0.130859375), ('https://lh3.googleusercontent.com/Az971UxWV_0MqS-FqzYz8-hbRhAYQSUmNAXbPNNGizBS6OloYb2Wo1qemWFRiELjYTxDvcrT7amvB0IbAd58B-k1KRlj6ZA7LapKTcmdzwUtWFja0mZ6CN9dUlxMrNzRupzhHKw', 53.2119140625), ('https://lh4.googleusercontent.com/dRtMm9xbHyXCjulPDrwm6xxbPUOEsaz7P-1LBSAMlOUgUsVn2gywA1l5hPfaAhJUhNnCU58nkVbOjh1JwVNLzlsMhva-4KO9jST0eECFKEJaRDcZiGJAebldJBNAr2fZkDpJ0kk', 145.353515625), ('https://lh6.googleusercontent.com/HBMv9UxJATlLsse67JWLFcg81aVgmjUA_u5ANkMhUumvXcvwechuX9tQGcMSVb0xz2lqR4DHLJWGQpTCUbFLU9J9ugz0mXHV64cLuM109J4N4Br2r55b_MqMrcb716OO5ZFgjjY', 11.087890625), ('https://static-exp3.licdn.com/scds/common/u/images/logos/favicons/v1/favicon.ico', 0.0517578125), ('https://static-exp3.licdn.com/sc/h/c45fy346jw096z9pbphyyhdz7', 34.0400390625), ('https://lh4.googleusercontent.com/Tqn1LhWRewDR_t7ff7C3KAtORmEHhQBtxXQF2QkDhg5Ru4HItSBhVGV1VFj3-NQzRE0pC5O4nlMpMto-COYbBMl073ZZZE1yxFyLESVKrEouGxx3jhEi-45XJNu11ACg8_ro9Vg', 13.9853515625), ('https://lh5.googleusercontent.com/Tm_cpPrp68ckI7WtGNdOcSXoOmZ0ognKL9W28OPJFZ5p_eLZUTMRgkDxiWiuHnU9QDl4PYr43uvQwTmrrdBqqQvPR4u1oJ1-B94AAI68O505S-8VOfm9nh-jX76vhaPj9An410w', 10.568359375), ('https://lh5.googleusercontent.com/2-UbfF7-nGxEjXIYuLKBz7EBuHiv3FcwofFwhR74ZFuphmnuP2pkkKuD7_HoPimehHXwyd2BVA03R-XKiZExn1k2DKHr6GVU4JfltlTl0LQE_JuLe7-U5SAALXR5vwtiTrsYU44', 37.7275390625), ('https://lh5.googleusercontent.com/XvlS8tnmr_Z7NwOtNk0pCay41DiMJmB9d8-pcsWYZxKCAaeUpBH7Xgvx1Ytl5dXHi1ISJV3flSOvM4lhtPHV0VaILA52X59vQGu8JiW4IwRySP5fv9UoZnZqMGHjZJbHPWjn4S4', 142.8857421875), ('https://lh5.googleusercontent.com/oZiw_uWXuO9N2DmeuBF08tk1Y64zZzkI-0-P68F7hlhX8zQ53HUCOlqZ1_9xlcjGJqHxG0f-9Ya6rR5R6vYDki8ibUQ69RNIYLAj_CvmfI_XD-PtEIquL2fzeW5yD1dsftnFHLc', 13.248046875), ('https://lh4.googleusercontent.com/GErvDtOQpMwAhhFJI8pATha1KZri4qIIUe8re-uwiJUfMvzIA8cQ1OyMoh-DEFHh-XF8wR0iL2LZli7Zbxy4zkY5MSjLB9rzJ16BL4J1W5KE0y6BsYxyiW7bSU9XNbYEVrLYccI', 3.732421875), ('https://lh6.googleusercontent.com/x-tp4h53OY4-ZZmp8khfO7CvwEu5xU1ZvD_609NOgBKmiMQrf9E325jEcirlNlxEUPVOxICqrFeUAI6kU1Sh9I3nEEMN_C5ZwO88QBEgLEewqmFDREeAAIr1w-tEypDFwxMCHQE', 10.87109375), ('https://lh5.googleusercontent.com/ikFqZGOeAMxXdRTotYqw_pOBaLJSqDtMmhNKyrpiP2RW__QFB_kUDQPxpFPUlD18WIF4mcNUb-PJ7BmMSUmePc9NjTcXG1IsJxbtU7dMpPpFv5EDGVMVZ38H9GodsGrqJgd0sY0', 4.509765625), ('https://lh6.googleusercontent.com/5QreX6El7Md1jOLr5Z_irGRCWmNJ_R8buOVT1sdP_xY6NnUmtKzY68astAjV2aX-l67M_Yr_S40jmL2MjsVbmmmmJWrVHz1MVvAfC6QkofvJmSd3kWwNL5DGdbChK0Ew-hB3YzQ', 23.3076171875), ('https://lh5.googleusercontent.com/AlmGZgrp1Bo_LpPO3afx1y7ohSlZzO5mKPTkopl11ZGV5XSNYYXPr6MOsVIks0t_0aAp_T7FNRWr2KtKxnYeG6TgF1uhOCRGGKZWcZ3qd3BXC9F24MlBV4PnzyfBu6NLkUw_vp4', 0.0), ('https://lh4.googleusercontent.com/uAaC-lrbZObK0v4lnf79ndS3TkMDqLIjQJG1iupnct1VKJoLPWXoJ1QQICVFRYyOdoew726mbJqkf4JAcJoAih3qlBo3g6cCSnZzGI6XAGrGVfEqEmF5EWgXlWKMeTJYtbKFt-A', 16.7255859375), ('https://lh4.googleusercontent.com/h6JvnuwUb1eAYTwtktPCLHJOUudM2WDstMtj8CUQAIk0DFjStIKsxArCxQUtYNEj-8iHN2d7g-oL5Jj7Nyw05ZHq4WL4HFJR_3dp6KS2e83p0DYl2N4Ldqo5Bbo5tZQfZl2gzG8', 10.4541015625), ('/blog/assets/images/success.png?v=22080dfa02', 0.130859375), ('https://cdn.jsdelivr.net/ghost/portal@~2.30/umd/portal.min.js', 170.8154296875), ('https://cdn.jsdelivr.net/ghost/sodo-search@~1.1/umd/sodo-search.min.js', 95.5751953125), ('/blog/public/cards.min.js?v=22080dfa02', 0.130859375), ('/blog/public/member-attribution.min.js?v=22080dfa02', 0.130859375), ('https://www.googletagmanager.com/gtag/js?id=UA-147725948-3', 0.0), ('https://polyfill.io/v3/polyfill.min.js?features=IntersectionObserver%2CPromise%2CArray.prototype.includes%2CString.prototype.endsWith%2CString.prototype.startsWith%2CObject.assign%2CNodeList.prototype.forEach', 14.1123046875), ('/blog/assets/js/vendor/content-api.min.js?v=22080dfa02', 0.130859375), ('/blog/assets/js/manifest.js?v=22080dfa02', 0.130859375), ('/blog/assets/js/vendor.js?v=22080dfa02', 0.130859375), ('/blog/assets/js/app.js?v=22080dfa02', 0.130859375), ('/blog/assets/js/post.js?v=22080dfa02', 0.130859375), ('/blog/assets/css/app.css?v=22080dfa02', 0.130859375), ('/blog/public/cards.min.css?v=22080dfa02', 0.130859375)]\n",
      "Analyzing 76 of 246: https://fampay.in/blog/tag/lifestyle/page/2/\n",
      "Page size: 34.529296875 KB\n",
      "Resource sizes: [('https://fampay.in/blog/content/images/2020/11/logofilewhite-11-2.png', 0.130859375), ('https://fampay.in/blog/content/images/2020/11/logofilewhite-11-2.png', 0.130859375), ('https://cdn.jsdelivr.net/ghost/portal@~2.30/umd/portal.min.js', 170.8154296875), ('https://cdn.jsdelivr.net/ghost/sodo-search@~1.1/umd/sodo-search.min.js', 95.5751953125), ('/blog/public/cards.min.js?v=22080dfa02', 0.130859375), ('/blog/public/member-attribution.min.js?v=22080dfa02', 0.130859375), ('https://www.googletagmanager.com/gtag/js?id=UA-147725948-3', 0.0), ('https://polyfill.io/v3/polyfill.min.js?features=IntersectionObserver%2CPromise%2CArray.prototype.includes%2CString.prototype.endsWith%2CString.prototype.startsWith%2CObject.assign%2CNodeList.prototype.forEach', 14.1123046875), ('/blog/assets/js/vendor/content-api.min.js?v=22080dfa02', 0.130859375), ('/blog/assets/js/manifest.js?v=22080dfa02', 0.130859375), ('/blog/assets/js/vendor.js?v=22080dfa02', 0.130859375), ('/blog/assets/js/app.js?v=22080dfa02', 0.130859375), ('/blog/assets/css/app.css?v=22080dfa02', 0.130859375), ('/blog/public/cards.min.css?v=22080dfa02', 0.130859375)]\n",
      "Analyzing 77 of 246: https://fampay.in/blog/tag/pr-news/\n",
      "Page size: 33.4541015625 KB\n",
      "Resource sizes: [('https://fampay.in/blog/content/images/2020/11/logofilewhite-11-2.png', 0.130859375), ('https://fampay.in/blog/content/images/2020/11/logofilewhite-11-2.png', 0.130859375), ('https://cdn.jsdelivr.net/ghost/portal@~2.30/umd/portal.min.js', 170.8154296875), ('https://cdn.jsdelivr.net/ghost/sodo-search@~1.1/umd/sodo-search.min.js', 95.5751953125), ('/blog/public/cards.min.js?v=22080dfa02', 0.130859375), ('/blog/public/member-attribution.min.js?v=22080dfa02', 0.130859375), ('https://www.googletagmanager.com/gtag/js?id=UA-147725948-3', 0.0), ('https://polyfill.io/v3/polyfill.min.js?features=IntersectionObserver%2CPromise%2CArray.prototype.includes%2CString.prototype.endsWith%2CString.prototype.startsWith%2CObject.assign%2CNodeList.prototype.forEach', 14.1123046875), ('/blog/assets/js/vendor/content-api.min.js?v=22080dfa02', 0.130859375), ('/blog/assets/js/manifest.js?v=22080dfa02', 0.130859375), ('/blog/assets/js/vendor.js?v=22080dfa02', 0.130859375), ('/blog/assets/js/app.js?v=22080dfa02', 0.130859375), ('/blog/assets/css/app.css?v=22080dfa02', 0.130859375), ('/blog/public/cards.min.css?v=22080dfa02', 0.130859375)]\n",
      "Analyzing 78 of 246: https://fampay.in/blog/fampay-amongst-linkedins-top-startups-list-2021/\n",
      "Page size: 40.12109375 KB\n",
      "Resource sizes: [('https://fampay.in/blog/content/images/2020/11/logofilewhite-11-2.png', 0.130859375), ('https://fampay.in/blog/content/images/2020/11/logofilewhite-11-2.png', 0.130859375), ('/blog/assets/images/success.png?v=22080dfa02', 0.130859375), ('https://cdn.jsdelivr.net/ghost/portal@~2.30/umd/portal.min.js', 170.8154296875), ('https://cdn.jsdelivr.net/ghost/sodo-search@~1.1/umd/sodo-search.min.js', 95.5751953125), ('/blog/public/cards.min.js?v=22080dfa02', 0.130859375), ('/blog/public/member-attribution.min.js?v=22080dfa02', 0.130859375), ('https://www.googletagmanager.com/gtag/js?id=UA-147725948-3', 0.0), ('https://polyfill.io/v3/polyfill.min.js?features=IntersectionObserver%2CPromise%2CArray.prototype.includes%2CString.prototype.endsWith%2CString.prototype.startsWith%2CObject.assign%2CNodeList.prototype.forEach', 14.1123046875), ('/blog/assets/js/vendor/content-api.min.js?v=22080dfa02', 0.130859375), ('/blog/assets/js/manifest.js?v=22080dfa02', 0.130859375), ('/blog/assets/js/vendor.js?v=22080dfa02', 0.130859375), ('/blog/assets/js/app.js?v=22080dfa02', 0.130859375), ('/blog/assets/js/post.js?v=22080dfa02', 0.130859375), ('/blog/assets/css/app.css?v=22080dfa02', 0.130859375), ('/blog/public/cards.min.css?v=22080dfa02', 0.130859375)]\n",
      "Analyzing 79 of 246: https://fampay.in/blog/fampay-partners-with-visa-to-launch-indias-first-doodle-card-for-genz/\n",
      "Page size: 44.2236328125 KB\n",
      "Resource sizes: [('https://fampay.in/blog/content/images/2020/11/logofilewhite-11-2.png', 0.130859375), ('https://fampay.in/blog/content/images/2020/11/logofilewhite-11-2.png', 0.130859375), ('https://fampay.in/blog/content/images/2021/07/FamPay_FamCard-ME-launch-video-thumbnail_doodles_1920x1080_1-1.jpg', 0.130859375), ('https://fampay.in/blog/content/images/2021/07/WhatsApp-Image-2021-07-28-at-22.47.58.jpeg', 0.130859375), ('/blog/assets/images/success.png?v=22080dfa02', 0.130859375), ('https://cdn.jsdelivr.net/ghost/portal@~2.30/umd/portal.min.js', 170.8154296875), ('https://cdn.jsdelivr.net/ghost/sodo-search@~1.1/umd/sodo-search.min.js', 95.5751953125), ('/blog/public/cards.min.js?v=22080dfa02', 0.130859375), ('/blog/public/member-attribution.min.js?v=22080dfa02', 0.130859375), ('https://www.googletagmanager.com/gtag/js?id=UA-147725948-3', 0.0), ('https://polyfill.io/v3/polyfill.min.js?features=IntersectionObserver%2CPromise%2CArray.prototype.includes%2CString.prototype.endsWith%2CString.prototype.startsWith%2CObject.assign%2CNodeList.prototype.forEach', 14.1123046875), ('/blog/assets/js/vendor/content-api.min.js?v=22080dfa02', 0.130859375), ('/blog/assets/js/manifest.js?v=22080dfa02', 0.130859375), ('/blog/assets/js/vendor.js?v=22080dfa02', 0.130859375), ('/blog/assets/js/app.js?v=22080dfa02', 0.130859375), ('/blog/assets/js/post.js?v=22080dfa02', 0.130859375), ('/blog/assets/css/app.css?v=22080dfa02', 0.130859375), ('/blog/public/cards.min.css?v=22080dfa02', 0.130859375)]\n",
      "Analyzing 80 of 246: https://fampay.in/blog/tag/product/\n",
      "Page size: 35.9521484375 KB\n",
      "Resource sizes: [('https://fampay.in/blog/content/images/2020/11/logofilewhite-11-2.png', 0.130859375), ('https://fampay.in/blog/content/images/2020/11/logofilewhite-11-2.png', 0.130859375), ('https://cdn.jsdelivr.net/ghost/portal@~2.30/umd/portal.min.js', 170.8154296875), ('https://cdn.jsdelivr.net/ghost/sodo-search@~1.1/umd/sodo-search.min.js', 95.5751953125), ('/blog/public/cards.min.js?v=22080dfa02', 0.130859375), ('/blog/public/member-attribution.min.js?v=22080dfa02', 0.130859375), ('https://www.googletagmanager.com/gtag/js?id=UA-147725948-3', 0.0), ('https://polyfill.io/v3/polyfill.min.js?features=IntersectionObserver%2CPromise%2CArray.prototype.includes%2CString.prototype.endsWith%2CString.prototype.startsWith%2CObject.assign%2CNodeList.prototype.forEach', 14.1123046875), ('/blog/assets/js/vendor/content-api.min.js?v=22080dfa02', 0.130859375), ('/blog/assets/js/manifest.js?v=22080dfa02', 0.130859375), ('/blog/assets/js/vendor.js?v=22080dfa02', 0.130859375), ('/blog/assets/js/app.js?v=22080dfa02', 0.130859375), ('/blog/assets/css/app.css?v=22080dfa02', 0.130859375), ('/blog/public/cards.min.css?v=22080dfa02', 0.130859375)]\n",
      "Analyzing 81 of 246: https://fampay.in/blog/guide-for-seeking-support-from-fampay-important-dos-and-donts/\n",
      "Page size: 43.708984375 KB\n",
      "Resource sizes: [('https://fampay.in/blog/content/images/2020/11/logofilewhite-11-2.png', 0.130859375), ('https://fampay.in/blog/content/images/2020/11/logofilewhite-11-2.png', 0.130859375), ('https://fampay.in/blog/content/images/2021/05/DO-s-and-Don-ts--2-.png', 0.130859375), ('https://fampay.in/blog/content/images/2021/04/dont1.gif', 0.130859375), ('https://fampay.in/blog/content/images/2021/04/cool.gif', 0.130859375), ('https://fampay.in/blog/content/images/2021/04/hi51.gif', 0.130859375), ('/blog/assets/images/success.png?v=22080dfa02', 0.130859375), ('https://cdn.jsdelivr.net/ghost/portal@~2.30/umd/portal.min.js', 170.8154296875), ('https://cdn.jsdelivr.net/ghost/sodo-search@~1.1/umd/sodo-search.min.js', 95.5751953125), ('/blog/public/cards.min.js?v=22080dfa02', 0.130859375), ('/blog/public/member-attribution.min.js?v=22080dfa02', 0.130859375), ('https://www.googletagmanager.com/gtag/js?id=UA-147725948-3', 0.0), ('https://polyfill.io/v3/polyfill.min.js?features=IntersectionObserver%2CPromise%2CArray.prototype.includes%2CString.prototype.endsWith%2CString.prototype.startsWith%2CObject.assign%2CNodeList.prototype.forEach', 14.1123046875), ('/blog/assets/js/vendor/content-api.min.js?v=22080dfa02', 0.130859375), ('/blog/assets/js/manifest.js?v=22080dfa02', 0.130859375), ('/blog/assets/js/vendor.js?v=22080dfa02', 0.130859375), ('/blog/assets/js/app.js?v=22080dfa02', 0.130859375), ('/blog/assets/js/post.js?v=22080dfa02', 0.130859375), ('/blog/assets/css/app.css?v=22080dfa02', 0.130859375), ('/blog/public/cards.min.css?v=22080dfa02', 0.130859375)]\n",
      "Analyzing 82 of 246: https://fampay.in/blog/7-clever-saving-hacks-for-teenagers-this-will-save-you-a-fortune/\n",
      "Page size: 45.39453125 KB\n",
      "Resource sizes: [('https://fampay.in/blog/content/images/2020/11/logofilewhite-11-2.png', 0.130859375), ('https://fampay.in/blog/content/images/2020/11/logofilewhite-11-2.png', 0.130859375), ('https://fampay.in/blog/content/images/2021/02/Untitled--1-.jpg', 0.130859375), ('https://fampay.in/blog/content/images/2021/02/Untitled--2---1-.jpg', 0.130859375), ('https://fampay.in/blog/content/images/2021/02/Untitled--3-.jpg', 0.130859375), ('https://fampay.in/blog/favicon.png', 0.130859375), ('https://fampay.in/blog/content/images/2020/11/pexels-photo-5366490.png-2.jpg', 0.130859375), ('https://fampay.in/blog/content/images/2021/02/790ad0ae-77ab-4054-a5b7-2591bdad1683--1-.jpg', 0.130859375), ('https://fampay.in/blog/content/images/2021/02/Untitled--5--1.jpg', 0.130859375), ('https://fampay.in/blog/content/images/2021/02/Untitled--6-.png', 0.130859375), ('https://static-exp1.licdn.com/sc/h/al2o9zrvru7aqj8e1x2rzsrca', 1.412109375), ('https://static-exp1.licdn.com/sc/h/c45fy346jw096z9pbphyyhdz7', 34.0400390625), ('https://static-exp1.licdn.com/sc/h/al2o9zrvru7aqj8e1x2rzsrca', 1.412109375), ('https://media-exp1.licdn.com/dms/image/C4E05AQFnRG5LadGp5A/feedshare-thumbnail_720_1280/0/1611842592896?e=1614182400&v=beta&t=M1Nm7aDiwMinNfKEgCFi6rLJPD0cO6PrM1Ev6on5GcU', 0.375), ('https://static-exp1.licdn.com/sc/h/al2o9zrvru7aqj8e1x2rzsrca', 1.412109375), ('https://media-exp1.licdn.com/dms/image/C5605AQHRr5CNUr5Ugw/feedshare-thumbnail_720_1280/0/1613834028097?e=1614182400&v=beta&t=RZ9W23hvEBo352XoDRt9WTrQRPz1lOkgYHLyLIKAdaQ', 0.375), ('https://fampay.in/blog/content/images/2021/02/Untitled--7-.jpg', 0.130859375), ('/blog/assets/images/success.png?v=22080dfa02', 0.130859375), ('https://cdn.jsdelivr.net/ghost/portal@~2.30/umd/portal.min.js', 170.8154296875), ('https://cdn.jsdelivr.net/ghost/sodo-search@~1.1/umd/sodo-search.min.js', 95.5751953125), ('/blog/public/cards.min.js?v=22080dfa02', 0.130859375), ('/blog/public/member-attribution.min.js?v=22080dfa02', 0.130859375), ('https://www.googletagmanager.com/gtag/js?id=UA-147725948-3', 0.0), ('https://polyfill.io/v3/polyfill.min.js?features=IntersectionObserver%2CPromise%2CArray.prototype.includes%2CString.prototype.endsWith%2CString.prototype.startsWith%2CObject.assign%2CNodeList.prototype.forEach', 14.1123046875), ('/blog/assets/js/vendor/content-api.min.js?v=22080dfa02', 0.130859375), ('/blog/assets/js/manifest.js?v=22080dfa02', 0.130859375), ('/blog/assets/js/vendor.js?v=22080dfa02', 0.130859375), ('/blog/assets/js/app.js?v=22080dfa02', 0.130859375), ('/blog/assets/js/post.js?v=22080dfa02', 0.130859375), ('/blog/assets/css/app.css?v=22080dfa02', 0.130859375), ('/blog/public/cards.min.css?v=22080dfa02', 0.130859375)]\n",
      "Analyzing 83 of 246: https://fampay.in/blog/what-are-the-perks-of-using-fampay/\n",
      "Page size: 44.3310546875 KB\n",
      "Resource sizes: [('https://fampay.in/blog/content/images/2020/11/logofilewhite-11-2.png', 0.130859375), ('https://fampay.in/blog/content/images/2020/11/logofilewhite-11-2.png', 0.130859375), ('https://fampay.in/blog/favicon.png', 0.130859375), ('https://fampay.in/blog/content/images/2020/12/Flash-PIN.jpg', 0.130859375), ('https://fampay.in/blog/favicon.png', 0.130859375), ('https://fampay.in/blog/content/images/2020/06/savings-.jpg', 0.130859375), ('https://fampay.in/blog/favicon.png', 0.130859375), ('https://fampay.in/blog/content/images/2020/12/DO-s-and-Don-ts--2--2.png', 0.130859375), ('https://fampay.in/blog/favicon.png', 0.130859375), ('https://fampay.in/blog/content/images/2021/02/Kaavya--blog-1.png', 0.130859375), ('https://fampay.in/blog/favicon.png', 0.130859375), ('https://fampay.in/blog/content/images/2020/12/Shifa--blog1.png', 0.130859375), ('/blog/assets/images/success.png?v=22080dfa02', 0.130859375), ('https://cdn.jsdelivr.net/ghost/portal@~2.30/umd/portal.min.js', 170.8154296875), ('https://cdn.jsdelivr.net/ghost/sodo-search@~1.1/umd/sodo-search.min.js', 95.5751953125), ('/blog/public/cards.min.js?v=22080dfa02', 0.130859375), ('/blog/public/member-attribution.min.js?v=22080dfa02', 0.130859375), ('https://www.googletagmanager.com/gtag/js?id=UA-147725948-3', 0.0), ('https://polyfill.io/v3/polyfill.min.js?features=IntersectionObserver%2CPromise%2CArray.prototype.includes%2CString.prototype.endsWith%2CString.prototype.startsWith%2CObject.assign%2CNodeList.prototype.forEach', 14.1123046875), ('/blog/assets/js/vendor/content-api.min.js?v=22080dfa02', 0.130859375), ('/blog/assets/js/manifest.js?v=22080dfa02', 0.130859375), ('/blog/assets/js/vendor.js?v=22080dfa02', 0.130859375), ('/blog/assets/js/app.js?v=22080dfa02', 0.130859375), ('/blog/assets/js/post.js?v=22080dfa02', 0.130859375), ('/blog/assets/css/app.css?v=22080dfa02', 0.130859375), ('/blog/public/cards.min.css?v=22080dfa02', 0.130859375)]\n",
      "Analyzing 84 of 246: https://fampay.in/blog/author/ritwick/\n",
      "Page size: 23.4169921875 KB\n",
      "Resource sizes: [('https://fampay.in/blog/content/images/2020/11/logofilewhite-11-2.png', 0.130859375), ('https://fampay.in/blog/content/images/2020/11/logofilewhite-11-2.png', 0.130859375), ('https://cdn.jsdelivr.net/ghost/portal@~2.30/umd/portal.min.js', 170.8154296875), ('https://cdn.jsdelivr.net/ghost/sodo-search@~1.1/umd/sodo-search.min.js', 95.5751953125), ('/blog/public/cards.min.js?v=22080dfa02', 0.130859375), ('/blog/public/member-attribution.min.js?v=22080dfa02', 0.130859375), ('https://www.googletagmanager.com/gtag/js?id=UA-147725948-3', 0.0), ('https://polyfill.io/v3/polyfill.min.js?features=IntersectionObserver%2CPromise%2CArray.prototype.includes%2CString.prototype.endsWith%2CString.prototype.startsWith%2CObject.assign%2CNodeList.prototype.forEach', 14.1123046875), ('/blog/assets/js/vendor/content-api.min.js?v=22080dfa02', 0.130859375), ('/blog/assets/js/manifest.js?v=22080dfa02', 0.130859375), ('/blog/assets/js/vendor.js?v=22080dfa02', 0.130859375), ('/blog/assets/js/app.js?v=22080dfa02', 0.130859375), ('/blog/assets/css/app.css?v=22080dfa02', 0.130859375), ('/blog/public/cards.min.css?v=22080dfa02', 0.130859375)]\n",
      "Analyzing 85 of 246: https://fampay.in/blog/curious-about-famcard-heres-everything-to-know/\n",
      "Page size: 42.482421875 KB\n",
      "Resource sizes: [('https://fampay.in/blog/content/images/2020/11/logofilewhite-11-2.png', 0.130859375), ('https://fampay.in/blog/content/images/2020/11/logofilewhite-11-2.png', 0.130859375), ('https://fampay.in/blog/content/images/2021/01/image-7.png', 0.130859375), ('https://fampay.in/blog/content/images/2021/01/image-8.png', 0.130859375), ('https://fampay.in/blog/content/images/2020/12/image-13.png', 0.130859375), ('https://fampay.in/blog/content/images/2021/01/image.png', 0.130859375), ('https://fampay.in/blog/content/images/2020/12/image-14.png', 0.130859375), ('/blog/assets/images/success.png?v=22080dfa02', 0.130859375), ('https://cdn.jsdelivr.net/ghost/portal@~2.30/umd/portal.min.js', 170.8154296875), ('https://cdn.jsdelivr.net/ghost/sodo-search@~1.1/umd/sodo-search.min.js', 95.5751953125), ('/blog/public/cards.min.js?v=22080dfa02', 0.130859375), ('/blog/public/member-attribution.min.js?v=22080dfa02', 0.130859375), ('https://www.googletagmanager.com/gtag/js?id=UA-147725948-3', 0.0), ('https://polyfill.io/v3/polyfill.min.js?features=IntersectionObserver%2CPromise%2CArray.prototype.includes%2CString.prototype.endsWith%2CString.prototype.startsWith%2CObject.assign%2CNodeList.prototype.forEach', 14.1123046875), ('/blog/assets/js/vendor/content-api.min.js?v=22080dfa02', 0.130859375), ('/blog/assets/js/manifest.js?v=22080dfa02', 0.130859375), ('/blog/assets/js/vendor.js?v=22080dfa02', 0.130859375), ('/blog/assets/js/app.js?v=22080dfa02', 0.130859375), ('/blog/assets/js/post.js?v=22080dfa02', 0.130859375), ('/blog/assets/css/app.css?v=22080dfa02', 0.130859375), ('/blog/public/cards.min.css?v=22080dfa02', 0.130859375)]\n",
      "Analyzing 86 of 246: https://fampay.in/blog/author/shifa/\n",
      "Page size: 23.48046875 KB\n",
      "Resource sizes: [('https://fampay.in/blog/content/images/2020/11/logofilewhite-11-2.png', 0.130859375), ('https://fampay.in/blog/content/images/2020/11/logofilewhite-11-2.png', 0.130859375), ('https://cdn.jsdelivr.net/ghost/portal@~2.30/umd/portal.min.js', 170.8154296875), ('https://cdn.jsdelivr.net/ghost/sodo-search@~1.1/umd/sodo-search.min.js', 95.5751953125), ('/blog/public/cards.min.js?v=22080dfa02', 0.130859375), ('/blog/public/member-attribution.min.js?v=22080dfa02', 0.130859375), ('https://www.googletagmanager.com/gtag/js?id=UA-147725948-3', 0.0), ('https://polyfill.io/v3/polyfill.min.js?features=IntersectionObserver%2CPromise%2CArray.prototype.includes%2CString.prototype.endsWith%2CString.prototype.startsWith%2CObject.assign%2CNodeList.prototype.forEach', 14.1123046875), ('/blog/assets/js/vendor/content-api.min.js?v=22080dfa02', 0.130859375), ('/blog/assets/js/manifest.js?v=22080dfa02', 0.130859375), ('/blog/assets/js/vendor.js?v=22080dfa02', 0.130859375), ('/blog/assets/js/app.js?v=22080dfa02', 0.130859375), ('/blog/assets/css/app.css?v=22080dfa02', 0.130859375), ('/blog/public/cards.min.css?v=22080dfa02', 0.130859375)]\n",
      "Analyzing 87 of 246: https://fampay.in/blog/what-makes-fampay-secure/\n",
      "Page size: 41.2138671875 KB\n",
      "Resource sizes: [('https://fampay.in/blog/content/images/2020/11/logofilewhite-11-2.png', 0.130859375), ('https://fampay.in/blog/content/images/2020/11/logofilewhite-11-2.png', 0.130859375), ('https://fampay.in/blog/content/images/2020/12/partner2.gif', 0.130859375), ('https://fampay.in/blog/content/images/2020/12/wowww2.gif', 0.130859375), ('https://fampay.in/blog/favicon.png', 0.130859375), ('https://fampay.in/blog/content/images/2020/12/Tiara--Blog-3.png', 0.130859375), ('/blog/assets/images/success.png?v=22080dfa02', 0.130859375), ('https://cdn.jsdelivr.net/ghost/portal@~2.30/umd/portal.min.js', 170.8154296875), ('https://cdn.jsdelivr.net/ghost/sodo-search@~1.1/umd/sodo-search.min.js', 95.5751953125), ('/blog/public/cards.min.js?v=22080dfa02', 0.130859375), ('/blog/public/member-attribution.min.js?v=22080dfa02', 0.130859375), ('https://www.googletagmanager.com/gtag/js?id=UA-147725948-3', 0.0), ('https://polyfill.io/v3/polyfill.min.js?features=IntersectionObserver%2CPromise%2CArray.prototype.includes%2CString.prototype.endsWith%2CString.prototype.startsWith%2CObject.assign%2CNodeList.prototype.forEach', 14.1123046875), ('/blog/assets/js/vendor/content-api.min.js?v=22080dfa02', 0.130859375), ('/blog/assets/js/manifest.js?v=22080dfa02', 0.130859375), ('/blog/assets/js/vendor.js?v=22080dfa02', 0.130859375), ('/blog/assets/js/app.js?v=22080dfa02', 0.130859375), ('/blog/assets/js/post.js?v=22080dfa02', 0.130859375), ('/blog/assets/css/app.css?v=22080dfa02', 0.130859375), ('/blog/public/cards.min.css?v=22080dfa02', 0.130859375)]\n",
      "Analyzing 88 of 246: https://fampay.in/blog/fampays-guide-to-digital-payments-for-teens-important-dos-and-donts/\n",
      "Page size: 42.9814453125 KB\n",
      "Resource sizes: [('https://fampay.in/blog/content/images/2020/11/logofilewhite-11-2.png', 0.130859375), ('https://fampay.in/blog/content/images/2020/11/logofilewhite-11-2.png', 0.130859375), ('https://fampay.in/blog/content/images/2020/12/DO-s-and-Don-ts--2-.png', 0.130859375), ('/blog/assets/images/success.png?v=22080dfa02', 0.130859375), ('https://cdn.jsdelivr.net/ghost/portal@~2.30/umd/portal.min.js', 170.8154296875), ('https://cdn.jsdelivr.net/ghost/sodo-search@~1.1/umd/sodo-search.min.js', 95.5751953125), ('/blog/public/cards.min.js?v=22080dfa02', 0.130859375), ('/blog/public/member-attribution.min.js?v=22080dfa02', 0.130859375), ('https://www.googletagmanager.com/gtag/js?id=UA-147725948-3', 0.0), ('https://polyfill.io/v3/polyfill.min.js?features=IntersectionObserver%2CPromise%2CArray.prototype.includes%2CString.prototype.endsWith%2CString.prototype.startsWith%2CObject.assign%2CNodeList.prototype.forEach', 14.1123046875), ('/blog/assets/js/vendor/content-api.min.js?v=22080dfa02', 0.130859375), ('/blog/assets/js/manifest.js?v=22080dfa02', 0.130859375), ('/blog/assets/js/vendor.js?v=22080dfa02', 0.130859375), ('/blog/assets/js/app.js?v=22080dfa02', 0.130859375), ('/blog/assets/js/post.js?v=22080dfa02', 0.130859375), ('/blog/assets/css/app.css?v=22080dfa02', 0.130859375), ('/blog/public/cards.min.css?v=22080dfa02', 0.130859375)]\n",
      "Analyzing 89 of 246: https://fampay.in/blog/why-do-online-payments-get-stuck-and-what-can-you-do/\n",
      "Page size: 40.4560546875 KB\n",
      "Resource sizes: [('https://fampay.in/blog/content/images/2020/11/logofilewhite-11-2.png', 0.130859375), ('https://fampay.in/blog/content/images/2020/11/logofilewhite-11-2.png', 0.130859375), ('https://fampay.in/blog/content/images/2020/12/payment-processing-with-bank-1.PNG', 0.130859375), ('/blog/assets/images/success.png?v=22080dfa02', 0.130859375), ('https://cdn.jsdelivr.net/ghost/portal@~2.30/umd/portal.min.js', 170.8154296875), ('https://cdn.jsdelivr.net/ghost/sodo-search@~1.1/umd/sodo-search.min.js', 95.5751953125), ('/blog/public/cards.min.js?v=22080dfa02', 0.130859375), ('/blog/public/member-attribution.min.js?v=22080dfa02', 0.130859375), ('https://www.googletagmanager.com/gtag/js?id=UA-147725948-3', 0.0), ('https://polyfill.io/v3/polyfill.min.js?features=IntersectionObserver%2CPromise%2CArray.prototype.includes%2CString.prototype.endsWith%2CString.prototype.startsWith%2CObject.assign%2CNodeList.prototype.forEach', 14.1123046875), ('/blog/assets/js/vendor/content-api.min.js?v=22080dfa02', 0.130859375), ('/blog/assets/js/manifest.js?v=22080dfa02', 0.130859375), ('/blog/assets/js/vendor.js?v=22080dfa02', 0.130859375), ('/blog/assets/js/app.js?v=22080dfa02', 0.130859375), ('/blog/assets/js/post.js?v=22080dfa02', 0.130859375), ('/blog/assets/css/app.css?v=22080dfa02', 0.130859375), ('/blog/public/cards.min.css?v=22080dfa02', 0.130859375)]\n",
      "Analyzing 90 of 246: https://fampay.in/blog/author/tiara/\n",
      "Page size: 23.4853515625 KB\n",
      "Resource sizes: [('https://fampay.in/blog/content/images/2020/11/logofilewhite-11-2.png', 0.130859375), ('https://fampay.in/blog/content/images/2020/11/logofilewhite-11-2.png', 0.130859375), ('https://cdn.jsdelivr.net/ghost/portal@~2.30/umd/portal.min.js', 170.8154296875), ('https://cdn.jsdelivr.net/ghost/sodo-search@~1.1/umd/sodo-search.min.js', 95.5751953125), ('/blog/public/cards.min.js?v=22080dfa02', 0.130859375), ('/blog/public/member-attribution.min.js?v=22080dfa02', 0.130859375), ('https://www.googletagmanager.com/gtag/js?id=UA-147725948-3', 0.0), ('https://polyfill.io/v3/polyfill.min.js?features=IntersectionObserver%2CPromise%2CArray.prototype.includes%2CString.prototype.endsWith%2CString.prototype.startsWith%2CObject.assign%2CNodeList.prototype.forEach', 14.1123046875), ('/blog/assets/js/vendor/content-api.min.js?v=22080dfa02', 0.130859375), ('/blog/assets/js/manifest.js?v=22080dfa02', 0.130859375), ('/blog/assets/js/vendor.js?v=22080dfa02', 0.130859375), ('/blog/assets/js/app.js?v=22080dfa02', 0.130859375), ('/blog/assets/css/app.css?v=22080dfa02', 0.130859375), ('/blog/public/cards.min.css?v=22080dfa02', 0.130859375)]\n",
      "Analyzing 91 of 246: https://fampay.in/blog/how-to-order-a-famcard-in-less-than-5-minutes/\n",
      "Page size: 41.404296875 KB\n",
      "Resource sizes: [('https://fampay.in/blog/content/images/2020/11/logofilewhite-11-2.png', 0.130859375), ('https://fampay.in/blog/content/images/2020/11/logofilewhite-11-2.png', 0.130859375), ('https://fampay.in/blog/content/images/2020/08/Untitled-1.png', 0.130859375), ('https://fampay.in/blog/content/images/2020/08/image-2.png', 0.130859375), ('https://fampay.in/blog/content/images/2020/08/new--1-.png', 0.130859375), ('https://fampay.in/blog/content/images/2020/08/Untitled--3-.png', 0.130859375), ('https://fampay.in/blog/content/images/2020/08/image-1.png', 0.130859375), ('https://fampay.in/blog/content/images/2020/08/Untitled--5--2.png', 0.130859375), ('https://fampay.in/blog/content/images/2020/08/Untitled--6-.png', 0.130859375), ('https://fampay.in/blog/content/images/2020/08/image-2.png', 0.130859375), ('/blog/assets/images/success.png?v=22080dfa02', 0.130859375), ('https://cdn.jsdelivr.net/ghost/portal@~2.30/umd/portal.min.js', 170.8154296875), ('https://cdn.jsdelivr.net/ghost/sodo-search@~1.1/umd/sodo-search.min.js', 95.5751953125), ('/blog/public/cards.min.js?v=22080dfa02', 0.130859375), ('/blog/public/member-attribution.min.js?v=22080dfa02', 0.130859375), ('https://www.googletagmanager.com/gtag/js?id=UA-147725948-3', 0.0), ('https://polyfill.io/v3/polyfill.min.js?features=IntersectionObserver%2CPromise%2CArray.prototype.includes%2CString.prototype.endsWith%2CString.prototype.startsWith%2CObject.assign%2CNodeList.prototype.forEach', 14.1123046875), ('/blog/assets/js/vendor/content-api.min.js?v=22080dfa02', 0.130859375), ('/blog/assets/js/manifest.js?v=22080dfa02', 0.130859375), ('/blog/assets/js/vendor.js?v=22080dfa02', 0.130859375), ('/blog/assets/js/app.js?v=22080dfa02', 0.130859375), ('/blog/assets/js/post.js?v=22080dfa02', 0.130859375), ('/blog/assets/css/app.css?v=22080dfa02', 0.130859375), ('/blog/public/cards.min.css?v=22080dfa02', 0.130859375)]\n",
      "Analyzing 92 of 246: https://fampay.in/blog/tag/product/page/2/\n",
      "Page size: 27.3720703125 KB\n",
      "Resource sizes: [('https://fampay.in/blog/content/images/2020/11/logofilewhite-11-2.png', 0.130859375), ('https://fampay.in/blog/content/images/2020/11/logofilewhite-11-2.png', 0.130859375), ('https://cdn.jsdelivr.net/ghost/portal@~2.30/umd/portal.min.js', 170.8154296875), ('https://cdn.jsdelivr.net/ghost/sodo-search@~1.1/umd/sodo-search.min.js', 95.5751953125), ('/blog/public/cards.min.js?v=22080dfa02', 0.130859375), ('/blog/public/member-attribution.min.js?v=22080dfa02', 0.130859375), ('https://www.googletagmanager.com/gtag/js?id=UA-147725948-3', 0.0), ('https://polyfill.io/v3/polyfill.min.js?features=IntersectionObserver%2CPromise%2CArray.prototype.includes%2CString.prototype.endsWith%2CString.prototype.startsWith%2CObject.assign%2CNodeList.prototype.forEach', 14.1123046875), ('/blog/assets/js/vendor/content-api.min.js?v=22080dfa02', 0.130859375), ('/blog/assets/js/manifest.js?v=22080dfa02', 0.130859375), ('/blog/assets/js/vendor.js?v=22080dfa02', 0.130859375), ('/blog/assets/js/app.js?v=22080dfa02', 0.130859375), ('/blog/assets/css/app.css?v=22080dfa02', 0.130859375), ('/blog/public/cards.min.css?v=22080dfa02', 0.130859375)]\n",
      "Analyzing 93 of 246: https://fampay.in/blog/tag/tech/\n",
      "Page size: 32.951171875 KB\n",
      "Resource sizes: [('https://fampay.in/blog/content/images/2020/11/logofilewhite-11-2.png', 0.130859375), ('https://fampay.in/blog/content/images/2020/11/logofilewhite-11-2.png', 0.130859375), ('https://cdn.jsdelivr.net/ghost/portal@~2.30/umd/portal.min.js', 170.8154296875), ('https://cdn.jsdelivr.net/ghost/sodo-search@~1.1/umd/sodo-search.min.js', 95.5751953125), ('/blog/public/cards.min.js?v=22080dfa02', 0.130859375), ('/blog/public/member-attribution.min.js?v=22080dfa02', 0.130859375), ('https://www.googletagmanager.com/gtag/js?id=UA-147725948-3', 0.0), ('https://polyfill.io/v3/polyfill.min.js?features=IntersectionObserver%2CPromise%2CArray.prototype.includes%2CString.prototype.endsWith%2CString.prototype.startsWith%2CObject.assign%2CNodeList.prototype.forEach', 14.1123046875), ('/blog/assets/js/vendor/content-api.min.js?v=22080dfa02', 0.130859375), ('/blog/assets/js/manifest.js?v=22080dfa02', 0.130859375), ('/blog/assets/js/vendor.js?v=22080dfa02', 0.130859375), ('/blog/assets/js/app.js?v=22080dfa02', 0.130859375), ('/blog/assets/css/app.css?v=22080dfa02', 0.130859375), ('/blog/public/cards.min.css?v=22080dfa02', 0.130859375)]\n",
      "Analyzing 94 of 246: https://fampay.in/blog/how-a-pressing-problem-can-lead-to-technological-innovation/\n",
      "Page size: 41.3701171875 KB\n",
      "Resource sizes: [('https://fampay.in/blog/content/images/2020/11/logofilewhite-11-2.png', 0.130859375), ('https://fampay.in/blog/content/images/2020/11/logofilewhite-11-2.png', 0.130859375), ('https://fampay.in/blog/content/images/2020/06/1_ErIBvOwUHQWIviTxFnYp_w.jpeg', 0.130859375), ('https://fampay.in/blog/content/images/2020/06/1_L6K_Os6IGgSDZMdHTbU2rg.jpeg', 0.130859375), ('https://fampay.in/blog/content/images/2020/06/1_BoNiE-EUrq_YK44Fz-5NJQ.jpeg', 0.130859375), ('https://fampay.in/blog/content/images/2020/06/1_JN-Q_97duhlmTatayXTiXQ.jpeg', 0.130859375), ('/blog/assets/images/success.png?v=22080dfa02', 0.130859375), ('https://cdn.jsdelivr.net/ghost/portal@~2.30/umd/portal.min.js', 170.8154296875), ('https://cdn.jsdelivr.net/ghost/sodo-search@~1.1/umd/sodo-search.min.js', 95.5751953125), ('/blog/public/cards.min.js?v=22080dfa02', 0.130859375), ('/blog/public/member-attribution.min.js?v=22080dfa02', 0.130859375), ('https://www.googletagmanager.com/gtag/js?id=UA-147725948-3', 0.0), ('https://polyfill.io/v3/polyfill.min.js?features=IntersectionObserver%2CPromise%2CArray.prototype.includes%2CString.prototype.endsWith%2CString.prototype.startsWith%2CObject.assign%2CNodeList.prototype.forEach', 14.1123046875), ('/blog/assets/js/vendor/content-api.min.js?v=22080dfa02', 0.130859375), ('/blog/assets/js/manifest.js?v=22080dfa02', 0.130859375), ('/blog/assets/js/vendor.js?v=22080dfa02', 0.130859375), ('/blog/assets/js/app.js?v=22080dfa02', 0.130859375), ('/blog/assets/js/post.js?v=22080dfa02', 0.130859375), ('/blog/assets/css/app.css?v=22080dfa02', 0.130859375), ('/blog/public/cards.min.css?v=22080dfa02', 0.130859375)]\n",
      "Analyzing 95 of 246: https://fampay.in/blog/author/shiv/\n",
      "Page size: 23.5234375 KB\n",
      "Resource sizes: [('https://fampay.in/blog/content/images/2020/11/logofilewhite-11-2.png', 0.130859375), ('https://fampay.in/blog/content/images/2020/11/logofilewhite-11-2.png', 0.130859375), ('https://cdn.jsdelivr.net/ghost/portal@~2.30/umd/portal.min.js', 170.8154296875), ('https://cdn.jsdelivr.net/ghost/sodo-search@~1.1/umd/sodo-search.min.js', 95.5751953125), ('/blog/public/cards.min.js?v=22080dfa02', 0.130859375), ('/blog/public/member-attribution.min.js?v=22080dfa02', 0.130859375), ('https://www.googletagmanager.com/gtag/js?id=UA-147725948-3', 0.0), ('https://polyfill.io/v3/polyfill.min.js?features=IntersectionObserver%2CPromise%2CArray.prototype.includes%2CString.prototype.endsWith%2CString.prototype.startsWith%2CObject.assign%2CNodeList.prototype.forEach', 14.1123046875), ('/blog/assets/js/vendor/content-api.min.js?v=22080dfa02', 0.130859375), ('/blog/assets/js/manifest.js?v=22080dfa02', 0.130859375), ('/blog/assets/js/vendor.js?v=22080dfa02', 0.130859375), ('/blog/assets/js/app.js?v=22080dfa02', 0.130859375), ('/blog/assets/css/app.css?v=22080dfa02', 0.130859375), ('/blog/public/cards.min.css?v=22080dfa02', 0.130859375)]\n",
      "Analyzing 96 of 246: https://fampay.in/blog/tag/teenpreneurs/\n",
      "Page size: 37.3115234375 KB\n",
      "Resource sizes: [('https://fampay.in/blog/content/images/2020/11/logofilewhite-11-2.png', 0.130859375), ('https://fampay.in/blog/content/images/2020/11/logofilewhite-11-2.png', 0.130859375), ('https://cdn.jsdelivr.net/ghost/portal@~2.30/umd/portal.min.js', 170.8154296875), ('https://cdn.jsdelivr.net/ghost/sodo-search@~1.1/umd/sodo-search.min.js', 95.5751953125), ('/blog/public/cards.min.js?v=22080dfa02', 0.130859375), ('/blog/public/member-attribution.min.js?v=22080dfa02', 0.130859375), ('https://www.googletagmanager.com/gtag/js?id=UA-147725948-3', 0.0), ('https://polyfill.io/v3/polyfill.min.js?features=IntersectionObserver%2CPromise%2CArray.prototype.includes%2CString.prototype.endsWith%2CString.prototype.startsWith%2CObject.assign%2CNodeList.prototype.forEach', 14.1123046875), ('/blog/assets/js/vendor/content-api.min.js?v=22080dfa02', 0.130859375), ('/blog/assets/js/manifest.js?v=22080dfa02', 0.130859375), ('/blog/assets/js/vendor.js?v=22080dfa02', 0.130859375), ('/blog/assets/js/app.js?v=22080dfa02', 0.130859375), ('/blog/assets/css/app.css?v=22080dfa02', 0.130859375), ('/blog/public/cards.min.css?v=22080dfa02', 0.130859375)]\n",
      "Analyzing 97 of 246: https://fampay.in/blog/how-i-blurred-age-barriers-with-technology/\n",
      "Page size: 40.439453125 KB\n",
      "Resource sizes: [('https://fampay.in/blog/content/images/2020/11/logofilewhite-11-2.png', 0.130859375), ('https://fampay.in/blog/content/images/2020/11/logofilewhite-11-2.png', 0.130859375), ('https://fampay.in/blog/content/images/2020/06/0_ze4MeWZfK5-3mQyl.jpeg', 0.130859375), ('https://fampay.in/blog/content/images/2020/06/0_fJFL5cuJYHD24Y-y.jpeg', 0.130859375), ('https://fampay.in/blog/content/images/2020/06/0_sbvZLoKzsIhKvigT.jpeg', 0.130859375), ('/blog/assets/images/success.png?v=22080dfa02', 0.130859375), ('https://cdn.jsdelivr.net/ghost/portal@~2.30/umd/portal.min.js', 170.8154296875), ('https://cdn.jsdelivr.net/ghost/sodo-search@~1.1/umd/sodo-search.min.js', 95.5751953125), ('/blog/public/cards.min.js?v=22080dfa02', 0.130859375), ('/blog/public/member-attribution.min.js?v=22080dfa02', 0.130859375), ('https://www.googletagmanager.com/gtag/js?id=UA-147725948-3', 0.0), ('https://polyfill.io/v3/polyfill.min.js?features=IntersectionObserver%2CPromise%2CArray.prototype.includes%2CString.prototype.endsWith%2CString.prototype.startsWith%2CObject.assign%2CNodeList.prototype.forEach', 14.1123046875), ('/blog/assets/js/vendor/content-api.min.js?v=22080dfa02', 0.130859375), ('/blog/assets/js/manifest.js?v=22080dfa02', 0.130859375), ('/blog/assets/js/vendor.js?v=22080dfa02', 0.130859375), ('/blog/assets/js/app.js?v=22080dfa02', 0.130859375), ('/blog/assets/js/post.js?v=22080dfa02', 0.130859375), ('/blog/assets/css/app.css?v=22080dfa02', 0.130859375), ('/blog/public/cards.min.css?v=22080dfa02', 0.130859375)]\n",
      "Analyzing 98 of 246: https://fampay.in/blog/author/aadithyan/\n",
      "Page size: 23.5439453125 KB\n",
      "Resource sizes: [('https://fampay.in/blog/content/images/2020/11/logofilewhite-11-2.png', 0.130859375), ('https://fampay.in/blog/content/images/2020/11/logofilewhite-11-2.png', 0.130859375), ('https://cdn.jsdelivr.net/ghost/portal@~2.30/umd/portal.min.js', 170.8154296875), ('https://cdn.jsdelivr.net/ghost/sodo-search@~1.1/umd/sodo-search.min.js', 95.5751953125), ('/blog/public/cards.min.js?v=22080dfa02', 0.130859375), ('/blog/public/member-attribution.min.js?v=22080dfa02', 0.130859375), ('https://www.googletagmanager.com/gtag/js?id=UA-147725948-3', 0.0), ('https://polyfill.io/v3/polyfill.min.js?features=IntersectionObserver%2CPromise%2CArray.prototype.includes%2CString.prototype.endsWith%2CString.prototype.startsWith%2CObject.assign%2CNodeList.prototype.forEach', 14.1123046875), ('/blog/assets/js/vendor/content-api.min.js?v=22080dfa02', 0.130859375), ('/blog/assets/js/manifest.js?v=22080dfa02', 0.130859375), ('/blog/assets/js/vendor.js?v=22080dfa02', 0.130859375), ('/blog/assets/js/app.js?v=22080dfa02', 0.130859375), ('/blog/assets/css/app.css?v=22080dfa02', 0.130859375), ('/blog/public/cards.min.css?v=22080dfa02', 0.130859375)]\n",
      "Analyzing 99 of 246: https://fampay.in/blog/how-to-clean-up-your-android-apps-dependencies-the-ultimate-guide-2/\n",
      "Page size: 53.275390625 KB\n",
      "Resource sizes: [('https://fampay.in/blog/content/images/2020/11/logofilewhite-11-2.png', 0.130859375), ('https://fampay.in/blog/content/images/2020/11/logofilewhite-11-2.png', 0.130859375), ('https://fampay.in/blog/content/images/2023/03/image.png', 0.130859375), ('https://media.giphy.com/media/OkzCcGn5fY29e7bvpS/giphy.gif', 3602.8544921875), ('https://media.giphy.com/media/PnggNmuamz7kbgfUTL/giphy.gif', 2123.232421875), ('https://media.giphy.com/media/mMDA2ZvTdzJPk6RAlP/giphy.gif', 1749.7841796875), ('https://cdn-images-1.medium.com/max/1600/1*ivqtkW5FXIGYLERe1CYl8w.png', 0.0), ('https://cdn-images-1.medium.com/max/1600/1*VeBwKIh6vDHW-N0GaLrxow.png', 0.0), ('https://cdn-images-1.medium.com/max/1600/1*KhvurcmxU7yMLQavCZm4xw.png', 0.0), ('/blog/assets/images/success.png?v=22080dfa02', 0.130859375), ('https://cdn.jsdelivr.net/ghost/portal@~2.30/umd/portal.min.js', 170.8154296875), ('https://cdn.jsdelivr.net/ghost/sodo-search@~1.1/umd/sodo-search.min.js', 95.5751953125), ('/blog/public/cards.min.js?v=22080dfa02', 0.130859375), ('/blog/public/member-attribution.min.js?v=22080dfa02', 0.130859375), ('https://www.googletagmanager.com/gtag/js?id=UA-147725948-3', 0.0), ('https://polyfill.io/v3/polyfill.min.js?features=IntersectionObserver%2CPromise%2CArray.prototype.includes%2CString.prototype.endsWith%2CString.prototype.startsWith%2CObject.assign%2CNodeList.prototype.forEach', 14.1123046875), ('/blog/assets/js/vendor/content-api.min.js?v=22080dfa02', 0.130859375), ('/blog/assets/js/manifest.js?v=22080dfa02', 0.130859375), ('/blog/assets/js/vendor.js?v=22080dfa02', 0.130859375), ('/blog/assets/js/app.js?v=22080dfa02', 0.130859375), ('/blog/assets/js/post.js?v=22080dfa02', 0.130859375), ('/blog/assets/css/app.css?v=22080dfa02', 0.130859375), ('/blog/public/cards.min.css?v=22080dfa02', 0.130859375)]\n",
      "Analyzing 100 of 246: https://fampay.in/blog/author/fampay/\n",
      "Page size: 36.1181640625 KB\n",
      "Resource sizes: [('https://fampay.in/blog/content/images/2020/11/logofilewhite-11-2.png', 0.130859375), ('https://fampay.in/blog/content/images/2020/11/logofilewhite-11-2.png', 0.130859375), ('https://cdn.jsdelivr.net/ghost/portal@~2.30/umd/portal.min.js', 170.8154296875), ('https://cdn.jsdelivr.net/ghost/sodo-search@~1.1/umd/sodo-search.min.js', 95.5751953125), ('/blog/public/cards.min.js?v=22080dfa02', 0.130859375), ('/blog/public/member-attribution.min.js?v=22080dfa02', 0.130859375), ('https://www.googletagmanager.com/gtag/js?id=UA-147725948-3', 0.0), ('https://polyfill.io/v3/polyfill.min.js?features=IntersectionObserver%2CPromise%2CArray.prototype.includes%2CString.prototype.endsWith%2CString.prototype.startsWith%2CObject.assign%2CNodeList.prototype.forEach', 14.1123046875), ('/blog/assets/js/vendor/content-api.min.js?v=22080dfa02', 0.130859375), ('/blog/assets/js/manifest.js?v=22080dfa02', 0.130859375), ('/blog/assets/js/vendor.js?v=22080dfa02', 0.130859375), ('/blog/assets/js/app.js?v=22080dfa02', 0.130859375), ('/blog/assets/css/app.css?v=22080dfa02', 0.130859375), ('/blog/public/cards.min.css?v=22080dfa02', 0.130859375)]\n",
      "Analyzing 101 of 246: https://fampay.in/blog/author/fampay/page/2/\n",
      "Page size: 35.046875 KB\n",
      "Resource sizes: [('https://fampay.in/blog/content/images/2020/11/logofilewhite-11-2.png', 0.130859375), ('https://fampay.in/blog/content/images/2020/11/logofilewhite-11-2.png', 0.130859375), ('https://cdn.jsdelivr.net/ghost/portal@~2.30/umd/portal.min.js', 170.8154296875), ('https://cdn.jsdelivr.net/ghost/sodo-search@~1.1/umd/sodo-search.min.js', 95.5751953125), ('/blog/public/cards.min.js?v=22080dfa02', 0.130859375), ('/blog/public/member-attribution.min.js?v=22080dfa02', 0.130859375), ('https://www.googletagmanager.com/gtag/js?id=UA-147725948-3', 0.0), ('https://polyfill.io/v3/polyfill.min.js?features=IntersectionObserver%2CPromise%2CArray.prototype.includes%2CString.prototype.endsWith%2CString.prototype.startsWith%2CObject.assign%2CNodeList.prototype.forEach', 14.1123046875), ('/blog/assets/js/vendor/content-api.min.js?v=22080dfa02', 0.130859375), ('/blog/assets/js/manifest.js?v=22080dfa02', 0.130859375), ('/blog/assets/js/vendor.js?v=22080dfa02', 0.130859375), ('/blog/assets/js/app.js?v=22080dfa02', 0.130859375), ('/blog/assets/css/app.css?v=22080dfa02', 0.130859375), ('/blog/public/cards.min.css?v=22080dfa02', 0.130859375)]\n",
      "Analyzing 102 of 246: https://fampay.in/blog/discover-fampays-engagement-service-missions-3/\n",
      "Page size: 45.0615234375 KB\n",
      "Resource sizes: [('https://fampay.in/blog/content/images/2020/11/logofilewhite-11-2.png', 0.130859375), ('https://fampay.in/blog/content/images/2020/11/logofilewhite-11-2.png', 0.130859375), ('https://cdn-images-1.medium.com/max/1600/1*IF2BJcwp7VgrlMgK1TEaGw.png', 0.0), ('https://cdn-images-1.medium.com/max/1600/1*HWGQo6SxVar42uyJYNq8DA.png', 0.0), ('https://cdn-images-1.medium.com/max/1600/0*LACp9O5RmL6O2Qsa.png', 0.0), ('https://cdn-images-1.medium.com/max/1600/0*UG6fCQayvxpZJixr.gif', 0.0), ('/blog/assets/images/success.png?v=22080dfa02', 0.130859375), ('https://cdn.jsdelivr.net/ghost/portal@~2.30/umd/portal.min.js', 170.8154296875), ('https://cdn.jsdelivr.net/ghost/sodo-search@~1.1/umd/sodo-search.min.js', 95.5751953125), ('/blog/public/cards.min.js?v=22080dfa02', 0.130859375), ('/blog/public/member-attribution.min.js?v=22080dfa02', 0.130859375), ('https://www.googletagmanager.com/gtag/js?id=UA-147725948-3', 0.0), ('https://polyfill.io/v3/polyfill.min.js?features=IntersectionObserver%2CPromise%2CArray.prototype.includes%2CString.prototype.endsWith%2CString.prototype.startsWith%2CObject.assign%2CNodeList.prototype.forEach', 14.1123046875), ('/blog/assets/js/vendor/content-api.min.js?v=22080dfa02', 0.130859375), ('/blog/assets/js/manifest.js?v=22080dfa02', 0.130859375), ('/blog/assets/js/vendor.js?v=22080dfa02', 0.130859375), ('/blog/assets/js/app.js?v=22080dfa02', 0.130859375), ('/blog/assets/js/post.js?v=22080dfa02', 0.130859375), ('/blog/assets/css/app.css?v=22080dfa02', 0.130859375), ('/blog/public/cards.min.css?v=22080dfa02', 0.130859375)]\n",
      "Analyzing 103 of 246: https://fampay.in/blog/implementing-an-in-memory-queue/\n",
      "Page size: 46.341796875 KB\n",
      "Resource sizes: [('https://fampay.in/blog/content/images/2020/11/logofilewhite-11-2.png', 0.130859375), ('https://fampay.in/blog/content/images/2020/11/logofilewhite-11-2.png', 0.130859375), ('https://fampay.in/blog/content/images/2022/11/image.png', 0.130859375), ('https://fampay.in/blog/content/images/2022/11/image-1.png', 0.130859375), ('https://media.giphy.com/media/RkKMFRHh71RvhCYUx6/giphy.gif', 2538.177734375), ('/blog/assets/images/success.png?v=22080dfa02', 0.130859375), ('https://cdn.jsdelivr.net/ghost/portal@~2.30/umd/portal.min.js', 170.8154296875), ('https://cdn.jsdelivr.net/ghost/sodo-search@~1.1/umd/sodo-search.min.js', 95.5751953125), ('/blog/public/cards.min.js?v=22080dfa02', 0.130859375), ('/blog/public/member-attribution.min.js?v=22080dfa02', 0.130859375), ('https://www.googletagmanager.com/gtag/js?id=UA-147725948-3', 0.0), ('https://polyfill.io/v3/polyfill.min.js?features=IntersectionObserver%2CPromise%2CArray.prototype.includes%2CString.prototype.endsWith%2CString.prototype.startsWith%2CObject.assign%2CNodeList.prototype.forEach', 14.1123046875), ('/blog/assets/js/vendor/content-api.min.js?v=22080dfa02', 0.130859375), ('/blog/assets/js/manifest.js?v=22080dfa02', 0.130859375), ('/blog/assets/js/vendor.js?v=22080dfa02', 0.130859375), ('/blog/assets/js/app.js?v=22080dfa02', 0.130859375), ('/blog/assets/js/post.js?v=22080dfa02', 0.130859375), ('/blog/assets/css/app.css?v=22080dfa02', 0.130859375), ('/blog/public/cards.min.css?v=22080dfa02', 0.130859375)]\n",
      "Analyzing 104 of 246: https://fampay.in/blog/covid-19-vaccination-as-a-teen-a-guide/\n",
      "Page size: 39.7978515625 KB\n",
      "Resource sizes: [('https://fampay.in/blog/content/images/2020/11/logofilewhite-11-2.png', 0.130859375), ('https://fampay.in/blog/content/images/2020/11/logofilewhite-11-2.png', 0.130859375), ('https://c.tenor.com/J6A4cKTmeF8AAAAM/ariana-grande-me.gif', 311.0361328125), ('https://c.tenor.com/2QYBi_6YjwAAAAAC/batman-thank-you.gif', 290.19140625), ('https://media2.giphy.com/media/3eXl1A3FAWhEWijohy/giphy.gif', 1563.724609375), ('/blog/assets/images/success.png?v=22080dfa02', 0.130859375), ('https://cdn.jsdelivr.net/ghost/portal@~2.30/umd/portal.min.js', 170.8154296875), ('https://cdn.jsdelivr.net/ghost/sodo-search@~1.1/umd/sodo-search.min.js', 95.5751953125), ('/blog/public/cards.min.js?v=22080dfa02', 0.130859375), ('/blog/public/member-attribution.min.js?v=22080dfa02', 0.130859375), ('https://www.googletagmanager.com/gtag/js?id=UA-147725948-3', 0.0), ('https://polyfill.io/v3/polyfill.min.js?features=IntersectionObserver%2CPromise%2CArray.prototype.includes%2CString.prototype.endsWith%2CString.prototype.startsWith%2CObject.assign%2CNodeList.prototype.forEach', 14.1123046875), ('/blog/assets/js/vendor/content-api.min.js?v=22080dfa02', 0.130859375), ('/blog/assets/js/manifest.js?v=22080dfa02', 0.130859375), ('/blog/assets/js/vendor.js?v=22080dfa02', 0.130859375), ('/blog/assets/js/app.js?v=22080dfa02', 0.130859375), ('/blog/assets/js/post.js?v=22080dfa02', 0.130859375), ('/blog/assets/css/app.css?v=22080dfa02', 0.130859375), ('/blog/public/cards.min.css?v=22080dfa02', 0.130859375)]\n",
      "Analyzing 105 of 246: https://fampay.in/blog/why-vaccination-a-guide-to-vaccination-for-teens-in-india/\n",
      "Page size: 43.0458984375 KB\n",
      "Resource sizes: [('https://fampay.in/blog/content/images/2020/11/logofilewhite-11-2.png', 0.130859375), ('https://fampay.in/blog/content/images/2020/11/logofilewhite-11-2.png', 0.130859375), ('https://fampay.in/blog/content/images/2022/02/image-5.png', 0.130859375), ('https://fampay.in/blog/content/images/2022/02/image-9.png', 0.130859375), ('https://fampay.in/blog/content/images/2022/02/image-8.png', 0.130859375), ('https://fampay.in/blog/content/images/2022/02/image-10.png', 0.130859375), ('https://fampay.in/blog/content/images/2022/02/image-14.png', 0.130859375), ('https://fampay.in/blog/content/images/2022/02/image-13.png', 0.130859375), ('https://fampay.in/blog/content/images/2022/02/image-16.png', 0.130859375), ('/blog/assets/images/success.png?v=22080dfa02', 0.130859375), ('https://cdn.jsdelivr.net/ghost/portal@~2.30/umd/portal.min.js', 170.8154296875), ('https://cdn.jsdelivr.net/ghost/sodo-search@~1.1/umd/sodo-search.min.js', 95.5751953125), ('/blog/public/cards.min.js?v=22080dfa02', 0.130859375), ('/blog/public/member-attribution.min.js?v=22080dfa02', 0.130859375), ('https://www.googletagmanager.com/gtag/js?id=UA-147725948-3', 0.0), ('https://polyfill.io/v3/polyfill.min.js?features=IntersectionObserver%2CPromise%2CArray.prototype.includes%2CString.prototype.endsWith%2CString.prototype.startsWith%2CObject.assign%2CNodeList.prototype.forEach', 14.1123046875), ('/blog/assets/js/vendor/content-api.min.js?v=22080dfa02', 0.130859375), ('/blog/assets/js/manifest.js?v=22080dfa02', 0.130859375), ('/blog/assets/js/vendor.js?v=22080dfa02', 0.130859375), ('/blog/assets/js/app.js?v=22080dfa02', 0.130859375), ('/blog/assets/js/post.js?v=22080dfa02', 0.130859375), ('/blog/assets/css/app.css?v=22080dfa02', 0.130859375), ('/blog/public/cards.min.css?v=22080dfa02', 0.130859375)]\n",
      "Analyzing 106 of 246: https://fampay.in/blog/study-habits-that-are-simple-and-highly-effective/\n",
      "Page size: 40.28515625 KB\n",
      "Resource sizes: [('https://fampay.in/blog/content/images/2020/11/logofilewhite-11-2.png', 0.130859375), ('https://fampay.in/blog/content/images/2020/11/logofilewhite-11-2.png', 0.130859375), ('https://fampay.in/blog/content/images/2021/11/image.png', 0.130859375), ('https://fampay.in/blog/content/images/2021/11/image-1.png', 0.130859375), ('https://fampay.in/blog/content/images/2021/11/image-2.png', 0.130859375), ('https://fampay.in/blog/content/images/2021/11/image-4.png', 0.130859375), ('https://fampay.in/blog/content/images/2021/11/image-5.png', 0.130859375), ('https://fampay.in/blog/content/images/2021/11/image-8.png', 0.130859375), ('https://fampay.in/blog/content/images/2021/11/image-7.png', 0.130859375), ('/blog/assets/images/success.png?v=22080dfa02', 0.130859375), ('https://cdn.jsdelivr.net/ghost/portal@~2.30/umd/portal.min.js', 170.8154296875), ('https://cdn.jsdelivr.net/ghost/sodo-search@~1.1/umd/sodo-search.min.js', 95.5751953125), ('/blog/public/cards.min.js?v=22080dfa02', 0.130859375), ('/blog/public/member-attribution.min.js?v=22080dfa02', 0.130859375), ('https://www.googletagmanager.com/gtag/js?id=UA-147725948-3', 0.0), ('https://polyfill.io/v3/polyfill.min.js?features=IntersectionObserver%2CPromise%2CArray.prototype.includes%2CString.prototype.endsWith%2CString.prototype.startsWith%2CObject.assign%2CNodeList.prototype.forEach', 14.1123046875), ('/blog/assets/js/vendor/content-api.min.js?v=22080dfa02', 0.130859375), ('/blog/assets/js/manifest.js?v=22080dfa02', 0.130859375), ('/blog/assets/js/vendor.js?v=22080dfa02', 0.130859375), ('/blog/assets/js/app.js?v=22080dfa02', 0.130859375), ('/blog/assets/js/post.js?v=22080dfa02', 0.130859375), ('/blog/assets/css/app.css?v=22080dfa02', 0.130859375), ('/blog/public/cards.min.css?v=22080dfa02', 0.130859375)]\n",
      "Analyzing 107 of 246: https://fampay.in/blog/how-to-save-those-extra-bucks-while-shopping/\n",
      "Page size: 39.1357421875 KB\n",
      "Resource sizes: [('https://fampay.in/blog/content/images/2020/11/logofilewhite-11-2.png', 0.130859375), ('https://fampay.in/blog/content/images/2020/11/logofilewhite-11-2.png', 0.130859375), ('/blog/assets/images/success.png?v=22080dfa02', 0.130859375), ('https://cdn.jsdelivr.net/ghost/portal@~2.30/umd/portal.min.js', 170.8154296875), ('https://cdn.jsdelivr.net/ghost/sodo-search@~1.1/umd/sodo-search.min.js', 95.5751953125), ('/blog/public/cards.min.js?v=22080dfa02', 0.130859375), ('/blog/public/member-attribution.min.js?v=22080dfa02', 0.130859375), ('https://www.googletagmanager.com/gtag/js?id=UA-147725948-3', 0.0), ('https://polyfill.io/v3/polyfill.min.js?features=IntersectionObserver%2CPromise%2CArray.prototype.includes%2CString.prototype.endsWith%2CString.prototype.startsWith%2CObject.assign%2CNodeList.prototype.forEach', 14.1123046875), ('/blog/assets/js/vendor/content-api.min.js?v=22080dfa02', 0.130859375), ('/blog/assets/js/manifest.js?v=22080dfa02', 0.130859375), ('/blog/assets/js/vendor.js?v=22080dfa02', 0.130859375), ('/blog/assets/js/app.js?v=22080dfa02', 0.130859375), ('/blog/assets/js/post.js?v=22080dfa02', 0.130859375), ('/blog/assets/css/app.css?v=22080dfa02', 0.130859375), ('/blog/public/cards.min.css?v=22080dfa02', 0.130859375)]\n",
      "Analyzing 108 of 246: https://fampay.in/blog/teen-fashion-trends-that-we-love/\n",
      "Page size: 39.8876953125 KB\n",
      "Resource sizes: [('https://fampay.in/blog/content/images/2020/11/logofilewhite-11-2.png', 0.130859375), ('https://fampay.in/blog/content/images/2020/11/logofilewhite-11-2.png', 0.130859375), ('https://fampay.in/blog/content/images/2021/10/image-13.png', 0.130859375), ('https://fampay.in/blog/content/images/2021/10/image-14.png', 0.130859375), ('https://fampay.in/blog/content/images/2021/10/image-15.png', 0.130859375), ('https://fampay.in/blog/content/images/2021/10/image-16.png', 0.130859375), ('/blog/assets/images/success.png?v=22080dfa02', 0.130859375), ('https://cdn.jsdelivr.net/ghost/portal@~2.30/umd/portal.min.js', 170.8154296875), ('https://cdn.jsdelivr.net/ghost/sodo-search@~1.1/umd/sodo-search.min.js', 95.5751953125), ('/blog/public/cards.min.js?v=22080dfa02', 0.130859375), ('/blog/public/member-attribution.min.js?v=22080dfa02', 0.130859375), ('https://www.googletagmanager.com/gtag/js?id=UA-147725948-3', 0.0), ('https://polyfill.io/v3/polyfill.min.js?features=IntersectionObserver%2CPromise%2CArray.prototype.includes%2CString.prototype.endsWith%2CString.prototype.startsWith%2CObject.assign%2CNodeList.prototype.forEach', 14.1123046875), ('/blog/assets/js/vendor/content-api.min.js?v=22080dfa02', 0.130859375), ('/blog/assets/js/manifest.js?v=22080dfa02', 0.130859375), ('/blog/assets/js/vendor.js?v=22080dfa02', 0.130859375), ('/blog/assets/js/app.js?v=22080dfa02', 0.130859375), ('/blog/assets/js/post.js?v=22080dfa02', 0.130859375), ('/blog/assets/css/app.css?v=22080dfa02', 0.130859375), ('/blog/public/cards.min.css?v=22080dfa02', 0.130859375)]\n",
      "Analyzing 109 of 246: https://fampay.in/blog/how-to-build-your-resume-and-portfolio-right-from-school/\n",
      "Page size: 42.8212890625 KB\n",
      "Resource sizes: [('https://fampay.in/blog/content/images/2020/11/logofilewhite-11-2.png', 0.130859375), ('https://fampay.in/blog/content/images/2020/11/logofilewhite-11-2.png', 0.130859375), ('https://fampay.in/blog/content/images/2021/10/image-8.png', 0.130859375), ('https://fampay.in/blog/content/images/2021/10/image-11.png', 0.130859375), ('https://fampay.in/blog/content/images/2021/10/image-10.png', 0.130859375), ('https://fampay.in/blog/content/images/2021/10/image-12.png', 0.130859375), ('/blog/assets/images/success.png?v=22080dfa02', 0.130859375), ('https://cdn.jsdelivr.net/ghost/portal@~2.30/umd/portal.min.js', 170.8154296875), ('https://cdn.jsdelivr.net/ghost/sodo-search@~1.1/umd/sodo-search.min.js', 95.5751953125), ('/blog/public/cards.min.js?v=22080dfa02', 0.130859375), ('/blog/public/member-attribution.min.js?v=22080dfa02', 0.130859375), ('https://www.googletagmanager.com/gtag/js?id=UA-147725948-3', 0.0), ('https://polyfill.io/v3/polyfill.min.js?features=IntersectionObserver%2CPromise%2CArray.prototype.includes%2CString.prototype.endsWith%2CString.prototype.startsWith%2CObject.assign%2CNodeList.prototype.forEach', 14.1123046875), ('/blog/assets/js/vendor/content-api.min.js?v=22080dfa02', 0.130859375), ('/blog/assets/js/manifest.js?v=22080dfa02', 0.130859375), ('/blog/assets/js/vendor.js?v=22080dfa02', 0.130859375), ('/blog/assets/js/app.js?v=22080dfa02', 0.130859375), ('/blog/assets/js/post.js?v=22080dfa02', 0.130859375), ('/blog/assets/css/app.css?v=22080dfa02', 0.130859375), ('/blog/public/cards.min.css?v=22080dfa02', 0.130859375)]\n",
      "Analyzing 110 of 246: https://fampay.in/blog/productivity-hacks-for-teens-this-will-change-your-life/\n",
      "Page size: 39.5654296875 KB\n",
      "Resource sizes: [('https://fampay.in/blog/content/images/2020/11/logofilewhite-11-2.png', 0.130859375), ('https://fampay.in/blog/content/images/2020/11/logofilewhite-11-2.png', 0.130859375), ('https://fampay.in/blog/content/images/2021/10/image.png', 0.130859375), ('https://fampay.in/blog/content/images/2021/10/image-2.png', 0.130859375), ('https://fampay.in/blog/content/images/2021/10/image-4.png', 0.130859375), ('https://fampay.in/blog/content/images/2021/10/image-6.png', 0.130859375), ('https://fampay.in/blog/content/images/2021/10/image-7.png', 0.130859375), ('/blog/assets/images/success.png?v=22080dfa02', 0.130859375), ('https://cdn.jsdelivr.net/ghost/portal@~2.30/umd/portal.min.js', 170.8154296875), ('https://cdn.jsdelivr.net/ghost/sodo-search@~1.1/umd/sodo-search.min.js', 95.5751953125), ('/blog/public/cards.min.js?v=22080dfa02', 0.130859375), ('/blog/public/member-attribution.min.js?v=22080dfa02', 0.130859375), ('https://www.googletagmanager.com/gtag/js?id=UA-147725948-3', 0.0), ('https://polyfill.io/v3/polyfill.min.js?features=IntersectionObserver%2CPromise%2CArray.prototype.includes%2CString.prototype.endsWith%2CString.prototype.startsWith%2CObject.assign%2CNodeList.prototype.forEach', 14.1123046875), ('/blog/assets/js/vendor/content-api.min.js?v=22080dfa02', 0.130859375), ('/blog/assets/js/manifest.js?v=22080dfa02', 0.130859375), ('/blog/assets/js/vendor.js?v=22080dfa02', 0.130859375), ('/blog/assets/js/app.js?v=22080dfa02', 0.130859375), ('/blog/assets/js/post.js?v=22080dfa02', 0.130859375), ('/blog/assets/css/app.css?v=22080dfa02', 0.130859375), ('/blog/public/cards.min.css?v=22080dfa02', 0.130859375)]\n",
      "Analyzing 111 of 246: https://fampay.in/blog/page/2/\n",
      "Page size: 34.6982421875 KB\n",
      "Resource sizes: [('https://fampay.in/blog/content/images/2020/11/logofilewhite-11-2.png', 0.130859375), ('https://fampay.in/blog/content/images/2020/11/logofilewhite-11-2.png', 0.130859375), ('https://cdn.jsdelivr.net/ghost/portal@~2.30/umd/portal.min.js', 170.8154296875), ('https://cdn.jsdelivr.net/ghost/sodo-search@~1.1/umd/sodo-search.min.js', 95.5751953125), ('/blog/public/cards.min.js?v=22080dfa02', 0.130859375), ('/blog/public/member-attribution.min.js?v=22080dfa02', 0.130859375), ('https://www.googletagmanager.com/gtag/js?id=UA-147725948-3', 0.0), ('https://polyfill.io/v3/polyfill.min.js?features=IntersectionObserver%2CPromise%2CArray.prototype.includes%2CString.prototype.endsWith%2CString.prototype.startsWith%2CObject.assign%2CNodeList.prototype.forEach', 14.1123046875), ('/blog/assets/js/vendor/content-api.min.js?v=22080dfa02', 0.130859375), ('/blog/assets/js/manifest.js?v=22080dfa02', 0.130859375), ('/blog/assets/js/vendor.js?v=22080dfa02', 0.130859375), ('/blog/assets/js/app.js?v=22080dfa02', 0.130859375), ('/blog/assets/js/home.js?v=22080dfa02', 0.130859375), ('/blog/assets/css/app.css?v=22080dfa02', 0.130859375), ('/blog/public/cards.min.css?v=22080dfa02', 0.130859375)]\n",
      "Analyzing 112 of 246: https://fampay.in/blog/page/3/\n",
      "Page size: 34.6455078125 KB\n",
      "Resource sizes: [('https://fampay.in/blog/content/images/2020/11/logofilewhite-11-2.png', 0.130859375), ('https://fampay.in/blog/content/images/2020/11/logofilewhite-11-2.png', 0.130859375), ('https://cdn.jsdelivr.net/ghost/portal@~2.30/umd/portal.min.js', 170.8154296875), ('https://cdn.jsdelivr.net/ghost/sodo-search@~1.1/umd/sodo-search.min.js', 95.5751953125), ('/blog/public/cards.min.js?v=22080dfa02', 0.130859375), ('/blog/public/member-attribution.min.js?v=22080dfa02', 0.130859375), ('https://www.googletagmanager.com/gtag/js?id=UA-147725948-3', 0.0), ('https://polyfill.io/v3/polyfill.min.js?features=IntersectionObserver%2CPromise%2CArray.prototype.includes%2CString.prototype.endsWith%2CString.prototype.startsWith%2CObject.assign%2CNodeList.prototype.forEach', 14.1123046875), ('/blog/assets/js/vendor/content-api.min.js?v=22080dfa02', 0.130859375), ('/blog/assets/js/manifest.js?v=22080dfa02', 0.130859375), ('/blog/assets/js/vendor.js?v=22080dfa02', 0.130859375), ('/blog/assets/js/app.js?v=22080dfa02', 0.130859375), ('/blog/assets/js/home.js?v=22080dfa02', 0.130859375), ('/blog/assets/css/app.css?v=22080dfa02', 0.130859375), ('/blog/public/cards.min.css?v=22080dfa02', 0.130859375)]\n",
      "Analyzing 113 of 246: https://fampay.in/careers\n",
      "Page size: 22.8056640625 KB\n",
      "Resource sizes: [('/assets/images/icons/common/partyCapIcon.svg', 0.130859375), ('/assets/images/icons/common/partyFaceIcon.svg', 0.130859375), ('/assets/images/icons/common/singleGreyArrowIcon.svg', 0.130859375), ('/assets/images/icons/common/headerWhiteLogoIcon.svg', 0.130859375), ('/assets/images/images/pages/careers/famWork1Image.png', 0.130859375), ('/assets/images/images/pages/careers/famWork2Image.png', 0.130859375), ('/assets/images/images/pages/careers/famWork3Image.png', 0.130859375), ('/assets/images/images/pages/careers/famWork4Image.png', 0.130859375), ('/assets/images/icons/common/instagramColorIcon.svg', 0.130859375), ('/assets/images/icons/common/instagramColorIcon.svg', 0.130859375), ('/assets/images/icons/common/instagramColorIcon.svg', 0.130859375), ('/assets/images/icons/common/twitterColorIcon.svg', 0.130859375), ('/assets/images/icons/common/linkedinColorIcon.png', 0.130859375), ('/assets/images/images/pages/careers/famPerk2Image.jpg', 0.130859375), ('/assets/images/images/pages/careers/famPerk3Image.jpg', 0.130859375), ('/assets/images/images/pages/careers/famPerk4Image.jpg', 0.130859375), ('/assets/images/images/pages/careers/famPerk5Image.jpg', 0.130859375), ('/assets/images/images/pages/careers/famPerk5Image.jpg', 0.130859375), ('/assets/images/icons/common/headerWhiteLogoIcon.svg', 0.130859375), ('/assets/images/icons/common/facebookGreyIcon.svg', 0.130859375), ('/assets/images/icons/common/mediumGreyIcon.svg', 0.130859375), ('/assets/images/icons/common/instagramGreyIcon.svg', 0.130859375), ('/assets/images/icons/common/linkedinGreyIcon.svg', 0.130859375), ('/assets/images/icons/common/twitterGreyIcon.svg', 0.130859375), ('/assets/images/icons/common/discordGreyIcon.svg', 0.130859375), ('/assets/images/icons/common/snapchatGreyIcon.svg', 0.130859375), ('/assets/images/icons/common/youtubeGreyIcon.svg', 0.130859375), ('/_next/static/chunks/polyfills-5cd94c89d3acac5f.js', 0.130859375), ('/_next/static/chunks/webpack-e2315b53e504a6de.js', 0.130859375), ('/_next/static/chunks/framework-79bce4a3a540b080.js', 0.130859375), ('/_next/static/chunks/main-02d79fe8c2a509ed.js', 0.130859375), ('/_next/static/chunks/pages/_app-5aa48e6daaf3fe0d.js', 0.130859375), ('/_next/static/chunks/2905-8aaa955321746aca.js', 0.130859375), ('/_next/static/chunks/7454-c90862ff3e03df1e.js', 0.130859375), ('/_next/static/chunks/4590-75312c952da4fb21.js', 0.130859375), ('/_next/static/chunks/pages/careers-bf95817061a277ba.js', 0.130859375), ('/_next/static/OnBp0dXLpVOYqcPmAsImr/_buildManifest.js', 0.130859375), ('/_next/static/OnBp0dXLpVOYqcPmAsImr/_ssgManifest.js', 0.130859375), ('/_next/static/OnBp0dXLpVOYqcPmAsImr/_middlewareManifest.js', 0.130859375), ('/_next/static/css/6238d6cccf041c98.css', 0.130859375), ('/_next/static/css/c87208f7ca39f50f.css', 0.130859375)]\n",
      "Analyzing 114 of 246: https://fampay.in/partner\n",
      "Page size: 25.775390625 KB\n",
      "Resource sizes: [('/assets/images/icons/common/partyCapIcon.svg', 0.130859375), ('/assets/images/icons/common/partyFaceIcon.svg', 0.130859375), ('/assets/images/icons/common/singleGreyArrowIcon.svg', 0.130859375), ('/assets/images/icons/common/headerWhiteLogoIcon.svg', 0.130859375), ('/assets/images/images/pages/partners/partnersMob.png', 0.130859375), ('/assets/images/images/pages/partners/partners.png', 0.130859375), ('/assets/images/images/pages/partners/hype1.png', 0.130859375), ('/assets/images/images/pages/partners/hype2.png', 0.130859375), ('/assets/images/images/pages/partners/hype3.png', 0.130859375), ('/assets/images/images/pages/partners/hype1.png', 0.130859375), ('/assets/images/images/pages/partners/hype2.png', 0.130859375), ('/assets/images/images/pages/partners/hype3.png', 0.130859375), ('/assets/images/images/pages/partners/igLogo.png', 0.130859375), ('/assets/images/images/pages/partners/discordLogo.png', 0.130859375), ('/assets/images/images/pages/partners/tfLogo.png', 0.130859375), ('/assets/images/images/pages/partners/unacadPoster.jpeg', 0.130859375), ('/assets/images/images/pages/partners/unacadLogo.png', 0.130859375), ('/assets/images/images/pages/partners/unacadLogo.png', 0.130859375), ('/assets/images/images/pages/partners/leafPoster.jpeg', 0.130859375), ('/assets/images/images/pages/partners/leafLogo.png', 0.130859375), ('/assets/images/images/pages/partners/leafLogo.png', 0.130859375), ('/assets/images/images/pages/partners/frrowPoster.jpeg', 0.130859375), ('/assets/images/images/pages/partners/frrowLogo.png', 0.130859375), ('/assets/images/images/pages/partners/frrowLogo.png', 0.130859375), ('/assets/images/icons/common/headerWhiteLogoIcon.svg', 0.130859375), ('/assets/images/icons/common/facebookGreyIcon.svg', 0.130859375), ('/assets/images/icons/common/mediumGreyIcon.svg', 0.130859375), ('/assets/images/icons/common/instagramGreyIcon.svg', 0.130859375), ('/assets/images/icons/common/linkedinGreyIcon.svg', 0.130859375), ('/assets/images/icons/common/twitterGreyIcon.svg', 0.130859375), ('/assets/images/icons/common/discordGreyIcon.svg', 0.130859375), ('/assets/images/icons/common/snapchatGreyIcon.svg', 0.130859375), ('/assets/images/icons/common/youtubeGreyIcon.svg', 0.130859375), ('/_next/static/chunks/polyfills-5cd94c89d3acac5f.js', 0.130859375), ('/_next/static/chunks/webpack-e2315b53e504a6de.js', 0.130859375), ('/_next/static/chunks/framework-79bce4a3a540b080.js', 0.130859375), ('/_next/static/chunks/main-02d79fe8c2a509ed.js', 0.130859375), ('/_next/static/chunks/pages/_app-5aa48e6daaf3fe0d.js', 0.130859375), ('/_next/static/chunks/2905-8aaa955321746aca.js', 0.130859375), ('/_next/static/chunks/8764-dbd95fd81c44c3e6.js', 0.130859375), ('/_next/static/chunks/3184-799664908708a83b.js', 0.130859375), ('/_next/static/chunks/9669-ea1b006ae648290c.js', 0.130859375), ('/_next/static/chunks/5518-21e58bc44adfaa2d.js', 0.130859375), ('/_next/static/chunks/7536-96dddaa1a4310d02.js', 0.130859375), ('/_next/static/chunks/7454-c90862ff3e03df1e.js', 0.130859375), ('/_next/static/chunks/4590-75312c952da4fb21.js', 0.130859375), ('/_next/static/chunks/9476-4d017c5288619f7c.js', 0.130859375), ('/_next/static/chunks/pages/partner-2c4ad2810308a8fb.js', 0.130859375), ('/_next/static/OnBp0dXLpVOYqcPmAsImr/_buildManifest.js', 0.130859375), ('/_next/static/OnBp0dXLpVOYqcPmAsImr/_ssgManifest.js', 0.130859375), ('/_next/static/OnBp0dXLpVOYqcPmAsImr/_middlewareManifest.js', 0.130859375), ('/_next/static/css/6238d6cccf041c98.css', 0.130859375), ('/_next/static/css/483fe8d988f292c8.css', 0.130859375)]\n",
      "Analyzing 115 of 246: https://fampay.in/faqs\n",
      "Page size: 19.181640625 KB\n",
      "Resource sizes: [('/assets/images/icons/common/partyCapIcon.svg', 0.130859375), ('/assets/images/icons/common/partyFaceIcon.svg', 0.130859375), ('/assets/images/icons/common/singleGreyArrowIcon.svg', 0.130859375), ('/assets/images/icons/common/headerGreyLogoIcon.svg', 0.130859375), ('/assets/images/icons/common/headerGreyLogoIcon.svg', 0.130859375), ('/assets/images/icons/common/facebookGreyIcon.svg', 0.130859375), ('/assets/images/icons/common/mediumGreyIcon.svg', 0.130859375), ('/assets/images/icons/common/instagramGreyIcon.svg', 0.130859375), ('/assets/images/icons/common/linkedinGreyIcon.svg', 0.130859375), ('/assets/images/icons/common/twitterGreyIcon.svg', 0.130859375), ('/assets/images/icons/common/discordGreyIcon.svg', 0.130859375), ('/assets/images/icons/common/snapchatGreyIcon.svg', 0.130859375), ('/assets/images/icons/common/youtubeGreyIcon.svg', 0.130859375), ('/_next/static/chunks/polyfills-5cd94c89d3acac5f.js', 0.130859375), ('/_next/static/chunks/webpack-e2315b53e504a6de.js', 0.130859375), ('/_next/static/chunks/framework-79bce4a3a540b080.js', 0.130859375), ('/_next/static/chunks/main-02d79fe8c2a509ed.js', 0.130859375), ('/_next/static/chunks/pages/_app-5aa48e6daaf3fe0d.js', 0.130859375), ('/_next/static/chunks/2905-8aaa955321746aca.js', 0.130859375), ('/_next/static/chunks/8764-dbd95fd81c44c3e6.js', 0.130859375), ('/_next/static/chunks/3184-799664908708a83b.js', 0.130859375), ('/_next/static/chunks/5518-21e58bc44adfaa2d.js', 0.130859375), ('/_next/static/chunks/7454-c90862ff3e03df1e.js', 0.130859375), ('/_next/static/chunks/9476-4d017c5288619f7c.js', 0.130859375), ('/_next/static/chunks/pages/faqs-860c0b29a929fb8a.js', 0.130859375), ('/_next/static/OnBp0dXLpVOYqcPmAsImr/_buildManifest.js', 0.130859375), ('/_next/static/OnBp0dXLpVOYqcPmAsImr/_ssgManifest.js', 0.130859375), ('/_next/static/OnBp0dXLpVOYqcPmAsImr/_middlewareManifest.js', 0.130859375), ('/_next/static/css/6238d6cccf041c98.css', 0.130859375), ('/_next/static/css/506b8fb45dc38163.css', 0.130859375)]\n",
      "Analyzing 116 of 246: https://fampay.in/blog/\n",
      "Page size: 36.6396484375 KB\n",
      "Resource sizes: [('https://fampay.in/blog/content/images/2020/11/logofilewhite-11-2.png', 0.130859375), ('https://fampay.in/blog/content/images/2020/11/logofilewhite-11-2.png', 0.130859375), ('https://cdn.jsdelivr.net/ghost/portal@~2.30/umd/portal.min.js', 170.8154296875), ('https://cdn.jsdelivr.net/ghost/sodo-search@~1.1/umd/sodo-search.min.js', 95.5751953125), ('/blog/public/cards.min.js?v=22080dfa02', 0.130859375), ('/blog/public/member-attribution.min.js?v=22080dfa02', 0.130859375), ('https://www.googletagmanager.com/gtag/js?id=UA-147725948-3', 0.0), ('https://polyfill.io/v3/polyfill.min.js?features=IntersectionObserver%2CPromise%2CArray.prototype.includes%2CString.prototype.endsWith%2CString.prototype.startsWith%2CObject.assign%2CNodeList.prototype.forEach', 14.1123046875), ('/blog/assets/js/vendor/content-api.min.js?v=22080dfa02', 0.130859375), ('/blog/assets/js/manifest.js?v=22080dfa02', 0.130859375), ('/blog/assets/js/vendor.js?v=22080dfa02', 0.130859375), ('/blog/assets/js/app.js?v=22080dfa02', 0.130859375), ('/blog/assets/js/home.js?v=22080dfa02', 0.130859375), ('/blog/assets/css/app.css?v=22080dfa02', 0.130859375), ('/blog/public/cards.min.css?v=22080dfa02', 0.130859375)]\n",
      "Analyzing 117 of 246: https://fampay.in/press\n",
      "Page size: 21.89453125 KB\n",
      "Resource sizes: [('/assets/images/icons/common/partyCapIcon.svg', 0.130859375), ('/assets/images/icons/common/partyFaceIcon.svg', 0.130859375), ('/assets/images/icons/common/singleGreyArrowIcon.svg', 0.130859375), ('/assets/images/icons/common/headerWhiteLogoIcon.svg', 0.130859375), ('/assets/images/images/pages/press/forbesLogoImage.jpg', 0.130859375), ('/assets/images/images/pages/press/yourstoryLogoImage.jpg', 0.130859375), ('/assets/images/images/pages/press/etLogoImage.jpg', 0.130859375), ('/assets/images/images/pages/press/yourstoryLogoImage.jpg', 0.130859375), ('/assets/images/images/pages/press/cnbcLogoImage.jpg', 0.130859375), ('/assets/images/images/pages/press/inc42LogoImage.jpg', 0.130859375), ('/assets/images/images/pages/press/ieLogoImage.jpg', 0.130859375), ('/assets/images/icons/common/singleGreyArrowIcon.svg', 0.130859375), ('/assets/images/icons/common/singleGreyArrowIcon.svg', 0.130859375), ('/assets/images/icons/common/headerGreyLogoIcon.svg', 0.130859375), ('/assets/images/icons/common/facebookGreyIcon.svg', 0.130859375), ('/assets/images/icons/common/mediumGreyIcon.svg', 0.130859375), ('/assets/images/icons/common/instagramGreyIcon.svg', 0.130859375), ('/assets/images/icons/common/linkedinGreyIcon.svg', 0.130859375), ('/assets/images/icons/common/twitterGreyIcon.svg', 0.130859375), ('/assets/images/icons/common/discordGreyIcon.svg', 0.130859375), ('/assets/images/icons/common/snapchatGreyIcon.svg', 0.130859375), ('/assets/images/icons/common/youtubeGreyIcon.svg', 0.130859375), ('/_next/static/chunks/polyfills-5cd94c89d3acac5f.js', 0.130859375), ('/_next/static/chunks/webpack-e2315b53e504a6de.js', 0.130859375), ('/_next/static/chunks/framework-79bce4a3a540b080.js', 0.130859375), ('/_next/static/chunks/main-02d79fe8c2a509ed.js', 0.130859375), ('/_next/static/chunks/pages/_app-5aa48e6daaf3fe0d.js', 0.130859375), ('/_next/static/chunks/2905-8aaa955321746aca.js', 0.130859375), ('/_next/static/chunks/5518-21e58bc44adfaa2d.js', 0.130859375), ('/_next/static/chunks/7454-c90862ff3e03df1e.js', 0.130859375), ('/_next/static/chunks/4590-75312c952da4fb21.js', 0.130859375), ('/_next/static/chunks/pages/press-91c3167f8b71b922.js', 0.130859375), ('/_next/static/OnBp0dXLpVOYqcPmAsImr/_buildManifest.js', 0.130859375), ('/_next/static/OnBp0dXLpVOYqcPmAsImr/_ssgManifest.js', 0.130859375), ('/_next/static/OnBp0dXLpVOYqcPmAsImr/_middlewareManifest.js', 0.130859375), ('/_next/static/css/6238d6cccf041c98.css', 0.130859375), ('/_next/static/css/4404c8a0c2cfe667.css', 0.130859375)]\n",
      "Analyzing 118 of 246: https://fampay.in/privacy\n",
      "Page size: 33.0693359375 KB\n",
      "Resource sizes: [('/assets/images/icons/common/partyCapIcon.svg', 0.130859375), ('/assets/images/icons/common/partyFaceIcon.svg', 0.130859375), ('/assets/images/icons/common/singleGreyArrowIcon.svg', 0.130859375), ('/assets/images/icons/common/headerGreyLogoIcon.svg', 0.130859375), ('/assets/images/icons/common/headerGreyLogoIcon.svg', 0.130859375), ('/assets/images/icons/common/facebookGreyIcon.svg', 0.130859375), ('/assets/images/icons/common/mediumGreyIcon.svg', 0.130859375), ('/assets/images/icons/common/instagramGreyIcon.svg', 0.130859375), ('/assets/images/icons/common/linkedinGreyIcon.svg', 0.130859375), ('/assets/images/icons/common/twitterGreyIcon.svg', 0.130859375), ('/assets/images/icons/common/discordGreyIcon.svg', 0.130859375), ('/assets/images/icons/common/snapchatGreyIcon.svg', 0.130859375), ('/assets/images/icons/common/youtubeGreyIcon.svg', 0.130859375), ('/_next/static/chunks/polyfills-5cd94c89d3acac5f.js', 0.130859375), ('/_next/static/chunks/webpack-e2315b53e504a6de.js', 0.130859375), ('/_next/static/chunks/framework-79bce4a3a540b080.js', 0.130859375), ('/_next/static/chunks/main-02d79fe8c2a509ed.js', 0.130859375), ('/_next/static/chunks/pages/_app-5aa48e6daaf3fe0d.js', 0.130859375), ('/_next/static/chunks/2905-8aaa955321746aca.js', 0.130859375), ('/_next/static/chunks/7454-c90862ff3e03df1e.js', 0.130859375), ('/_next/static/chunks/pages/privacy-96cc3690295b6f0d.js', 0.130859375), ('/_next/static/OnBp0dXLpVOYqcPmAsImr/_buildManifest.js', 0.130859375), ('/_next/static/OnBp0dXLpVOYqcPmAsImr/_ssgManifest.js', 0.130859375), ('/_next/static/OnBp0dXLpVOYqcPmAsImr/_middlewareManifest.js', 0.130859375), ('/_next/static/css/6238d6cccf041c98.css', 0.130859375), ('/_next/static/css/30cb866e646997e9.css', 0.130859375)]\n",
      "Analyzing 119 of 246: https://fampay.in/terms\n",
      "Page size: 54.8271484375 KB\n",
      "Resource sizes: [('/assets/images/icons/common/partyCapIcon.svg', 0.130859375), ('/assets/images/icons/common/partyFaceIcon.svg', 0.130859375), ('/assets/images/icons/common/singleGreyArrowIcon.svg', 0.130859375), ('/assets/images/icons/common/headerGreyLogoIcon.svg', 0.130859375), ('/assets/images/icons/common/headerGreyLogoIcon.svg', 0.130859375), ('/assets/images/icons/common/facebookGreyIcon.svg', 0.130859375), ('/assets/images/icons/common/mediumGreyIcon.svg', 0.130859375), ('/assets/images/icons/common/instagramGreyIcon.svg', 0.130859375), ('/assets/images/icons/common/linkedinGreyIcon.svg', 0.130859375), ('/assets/images/icons/common/twitterGreyIcon.svg', 0.130859375), ('/assets/images/icons/common/discordGreyIcon.svg', 0.130859375), ('/assets/images/icons/common/snapchatGreyIcon.svg', 0.130859375), ('/assets/images/icons/common/youtubeGreyIcon.svg', 0.130859375), ('/_next/static/chunks/polyfills-5cd94c89d3acac5f.js', 0.130859375), ('/_next/static/chunks/webpack-e2315b53e504a6de.js', 0.130859375), ('/_next/static/chunks/framework-79bce4a3a540b080.js', 0.130859375), ('/_next/static/chunks/main-02d79fe8c2a509ed.js', 0.130859375), ('/_next/static/chunks/pages/_app-5aa48e6daaf3fe0d.js', 0.130859375), ('/_next/static/chunks/2905-8aaa955321746aca.js', 0.130859375), ('/_next/static/chunks/7454-c90862ff3e03df1e.js', 0.130859375), ('/_next/static/chunks/pages/terms-87d410dfeca1b114.js', 0.130859375), ('/_next/static/OnBp0dXLpVOYqcPmAsImr/_buildManifest.js', 0.130859375), ('/_next/static/OnBp0dXLpVOYqcPmAsImr/_ssgManifest.js', 0.130859375), ('/_next/static/OnBp0dXLpVOYqcPmAsImr/_middlewareManifest.js', 0.130859375), ('/_next/static/css/6238d6cccf041c98.css', 0.130859375), ('/_next/static/css/84e4611a737e9413.css', 0.130859375)]\n",
      "Analyzing 120 of 246: https://fampay.in/contact\n",
      "Page size: 14.6416015625 KB\n",
      "Resource sizes: [('/assets/images/icons/common/partyCapIcon.svg', 0.130859375), ('/assets/images/icons/common/partyFaceIcon.svg', 0.130859375), ('/assets/images/icons/common/singleGreyArrowIcon.svg', 0.130859375), ('/assets/images/icons/common/headerGreyLogoIcon.svg', 0.130859375), ('/assets/images/icons/common/headerGreyLogoIcon.svg', 0.130859375), ('/assets/images/icons/common/facebookGreyIcon.svg', 0.130859375), ('/assets/images/icons/common/mediumGreyIcon.svg', 0.130859375), ('/assets/images/icons/common/instagramGreyIcon.svg', 0.130859375), ('/assets/images/icons/common/linkedinGreyIcon.svg', 0.130859375), ('/assets/images/icons/common/twitterGreyIcon.svg', 0.130859375), ('/assets/images/icons/common/discordGreyIcon.svg', 0.130859375), ('/assets/images/icons/common/snapchatGreyIcon.svg', 0.130859375), ('/assets/images/icons/common/youtubeGreyIcon.svg', 0.130859375), ('/_next/static/chunks/polyfills-5cd94c89d3acac5f.js', 0.130859375), ('/_next/static/chunks/webpack-e2315b53e504a6de.js', 0.130859375), ('/_next/static/chunks/framework-79bce4a3a540b080.js', 0.130859375), ('/_next/static/chunks/main-02d79fe8c2a509ed.js', 0.130859375), ('/_next/static/chunks/pages/_app-5aa48e6daaf3fe0d.js', 0.130859375), ('/_next/static/chunks/2905-8aaa955321746aca.js', 0.130859375), ('/_next/static/chunks/8764-dbd95fd81c44c3e6.js', 0.130859375), ('/_next/static/chunks/9669-ea1b006ae648290c.js', 0.130859375), ('/_next/static/chunks/4853-cbbfd48281119e55.js', 0.130859375), ('/_next/static/chunks/7454-c90862ff3e03df1e.js', 0.130859375), ('/_next/static/chunks/pages/contact-f5c33c3dbb2ad22a.js', 0.130859375), ('/_next/static/OnBp0dXLpVOYqcPmAsImr/_buildManifest.js', 0.130859375), ('/_next/static/OnBp0dXLpVOYqcPmAsImr/_ssgManifest.js', 0.130859375), ('/_next/static/OnBp0dXLpVOYqcPmAsImr/_middlewareManifest.js', 0.130859375), ('/_next/static/css/6238d6cccf041c98.css', 0.130859375), ('/_next/static/css/e409167f9e607d38.css', 0.130859375)]\n",
      "Analyzing 121 of 246: https://famapp.in/about\n",
      "Page size: 81.1337890625 KB\n",
      "Resource sizes: [('/assets/images/icons/common/partyCapIcon.svg', 0.0), ('/assets/images/icons/common/partyFaceIcon.svg', 0.0), ('/assets/images/icons/common/singleGreyArrowIcon.svg', 0.0), ('/assets/images/icons/common/headerWhiteLogoIcon.svg', 0.0), ('/assets/images/images/pages/about/missionImage.jpg', 0.0), ('/assets/images/images/pages/about/storyImage.jpg', 0.0), ('https://cdn.famapp.co.in/prod/website/famstars/kt.png', 42.6298828125), ('https://cdn.famapp.co.in/prod/website/famstars/sambhav.png', 74.1875), ('https://cdn.famapp.co.in/prod/website/famstars/harjot.png', 51.4326171875), ('https://cdn.famapp.co.in/prod/website/famstars/aayush.png', 45.95703125), ('https://cdn.famapp.co.in/prod/website/famstars/chirag.png', 52.166015625), ('https://cdn.famapp.co.in/prod/website/famstars/anchit.png', 54.0478515625), ('https://cdn.famapp.co.in/prod/website/famstars/prem.png', 83.2861328125), ('https://cdn.famapp.co.in/prod/website/famstars/saransh.png', 45.501953125), ('https://cdn.famapp.co.in/prod/website/famstars/Hrishi.png', 57.89453125), ('https://cdn.famapp.co.in/prod/website/famstars/pratikG.png', 69.029296875), ('https://cdn.famapp.co.in/prod/website/famstars/ritwick.png', 106.1552734375), ('https://cdn.famapp.co.in/prod/website/famstars/diya.png', 129.701171875), ('https://cdn.famapp.co.in/prod/website/famstars/chitra.png', 112.1630859375), ('https://cdn.famapp.co.in/prod/website/famstars/vishnu.png', 143.0869140625), ('https://cdn.famapp.co.in/prod/website/famstars/shifa.png', 493.1455078125), ('https://cdn.famapp.co.in/prod/website/famstars/tiara.png', 99.5986328125), ('https://cdn.famapp.co.in/prod/website/famstars/Charvi.png', 100.0693359375), ('https://cdn.famapp.co.in/prod/website/famstars/sajal.png', 45.025390625), ('https://cdn.famapp.co.in/prod/website/famstars/saurabhG.png', 22.1083984375), ('https://cdn.famapp.co.in/prod/website/famstars/janani.png', 136.478515625), ('https://cdn.famapp.co.in/prod/website/famstars/tanya.png', 123.55078125), ('https://cdn.famapp.co.in/prod/website/famstars/jitendra.png', 61.4140625), ('https://cdn.famapp.co.in/prod/website/famstars/abhay.png', 73.1044921875), ('https://cdn.famapp.co.in/prod/website/famstars/Aditya.png', 126.791015625), ('https://cdn.famapp.co.in/prod/website/famstars/Akhil.png', 71.1884765625), ('https://cdn.famapp.co.in/prod/website/famstars/Aapram.png', 76.271484375), ('https://cdn.famapp.co.in/prod/website/famstars/shagun.png', 63.2119140625), ('/assets/images/images/famstars/sid.png', 0.0), ('/assets/images/images/famstars/melron.png', 0.0), ('/assets/images/images/famstars/ananya.png', 0.0), ('/assets/images/images/famstars/anand.png', 0.0), ('/assets/images/images/famstars/vaibhavi.png', 0.0), ('/assets/images/images/famstars/sanjeet.png', 0.0), ('/assets/images/images/famstars/ridima.png', 0.0), ('/assets/images/images/famstars/garvita.png', 0.0), ('/assets/images/images/famstars/aishwarya.png', 0.0), ('/assets/images/images/famstars/vishalJain.png', 0.0), ('/assets/images/images/famstars/brijesh.png', 0.0), ('/assets/images/images/famstars/anshu.png', 0.0), ('/assets/images/images/famstars/yashJain.png', 0.0), ('/assets/images/images/famstars/gaurav.png', 0.0), ('/assets/images/images/famstars/komal.png', 0.0), ('/assets/images/images/famstars/mohit.png', 0.0), ('/assets/images/images/famstars/nimitt.png', 0.0), ('/assets/images/images/famstars/sameeran.png', 0.0), ('/assets/images/images/famstars/shikhar.png', 0.0), ('/assets/images/images/famstars/soumik.png', 0.0), ('/assets/images/images/famstars/sumit.png', 0.0), ('/assets/images/images/famstars/vishal.png', 0.0), ('/assets/images/images/famstars/priyanka.png', 0.0), ('/assets/images/images/famstars/arohi.png', 0.0), ('/assets/images/images/famstars/devarsh.png', 0.0), ('/assets/images/images/famstars/archit.png', 0.0), ('/assets/images/images/famstars/agniva.png', 0.0), ('/assets/images/images/famstars/moksha.png', 0.0), ('/assets/images/images/famstars/prasanjeet.png', 0.0), ('/assets/images/images/famstars/sakshi.png', 0.0), ('/assets/images/images/famstars/sabarish.png', 0.0), ('/assets/images/images/famstars/karan.png', 0.0), ('/assets/images/images/famstars/peeyush.png', 0.0), ('/assets/images/images/famstars/shobhit.png', 0.0), ('/assets/images/images/famstars/sanat.png', 0.0), ('/assets/images/icons/common/singleGreyArrowIcon.svg', 0.0), ('https://cdn.famapp.co.in/prod/website/famstars/kt.png', 42.6298828125), ('https://cdn.famapp.co.in/prod/website/famstars/sambhav.png', 74.1875), ('https://cdn.famapp.co.in/prod/website/famstars/harjot.png', 51.4326171875), ('https://cdn.famapp.co.in/prod/website/famstars/aayush.png', 45.95703125), ('https://cdn.famapp.co.in/prod/website/famstars/chirag.png', 52.166015625), ('https://cdn.famapp.co.in/prod/website/famstars/anchit.png', 54.0478515625), ('https://cdn.famapp.co.in/prod/website/famstars/prem.png', 83.2861328125), ('https://cdn.famapp.co.in/prod/website/famstars/saransh.png', 45.501953125), ('https://cdn.famapp.co.in/prod/website/famstars/Hrishi.png', 57.89453125), ('https://cdn.famapp.co.in/prod/website/famstars/pratikG.png', 69.029296875), ('https://cdn.famapp.co.in/prod/website/famstars/ritwick.png', 106.1552734375), ('https://cdn.famapp.co.in/prod/website/famstars/diya.png', 129.701171875), ('https://cdn.famapp.co.in/prod/website/famstars/chitra.png', 112.1630859375), ('https://cdn.famapp.co.in/prod/website/famstars/vishnu.png', 143.0869140625), ('https://cdn.famapp.co.in/prod/website/famstars/shifa.png', 493.1455078125), ('https://cdn.famapp.co.in/prod/website/famstars/tiara.png', 99.5986328125), ('https://cdn.famapp.co.in/prod/website/famstars/Charvi.png', 100.0693359375), ('https://cdn.famapp.co.in/prod/website/famstars/sajal.png', 45.025390625), ('https://cdn.famapp.co.in/prod/website/famstars/saurabhG.png', 22.1083984375), ('https://cdn.famapp.co.in/prod/website/famstars/janani.png', 136.478515625), ('https://cdn.famapp.co.in/prod/website/famstars/tanya.png', 123.55078125), ('https://cdn.famapp.co.in/prod/website/famstars/jitendra.png', 61.4140625), ('https://cdn.famapp.co.in/prod/website/famstars/abhay.png', 73.1044921875), ('https://cdn.famapp.co.in/prod/website/famstars/Aditya.png', 126.791015625), ('https://cdn.famapp.co.in/prod/website/famstars/Akhil.png', 71.1884765625), ('https://cdn.famapp.co.in/prod/website/famstars/Aapram.png', 76.271484375), ('https://cdn.famapp.co.in/prod/website/famstars/shagun.png', 63.2119140625), ('/assets/images/images/famstars/sid.png', 0.0), ('/assets/images/images/famstars/melron.png', 0.0), ('/assets/images/images/famstars/ananya.png', 0.0), ('/assets/images/images/famstars/anand.png', 0.0), ('/assets/images/images/famstars/vaibhavi.png', 0.0), ('/assets/images/images/famstars/sanjeet.png', 0.0), ('/assets/images/images/famstars/ridima.png', 0.0), ('/assets/images/images/famstars/garvita.png', 0.0), ('/assets/images/images/famstars/aishwarya.png', 0.0), ('/assets/images/images/famstars/vishalJain.png', 0.0), ('/assets/images/images/famstars/brijesh.png', 0.0), ('/assets/images/images/famstars/anshu.png', 0.0), ('/assets/images/images/famstars/yashJain.png', 0.0), ('/assets/images/images/famstars/gaurav.png', 0.0), ('/assets/images/images/famstars/komal.png', 0.0), ('/assets/images/images/famstars/mohit.png', 0.0), ('/assets/images/images/famstars/nimitt.png', 0.0), ('/assets/images/images/famstars/sameeran.png', 0.0), ('/assets/images/images/famstars/shikhar.png', 0.0), ('/assets/images/images/famstars/soumik.png', 0.0), ('/assets/images/images/famstars/sumit.png', 0.0), ('/assets/images/images/famstars/vishal.png', 0.0), ('/assets/images/images/famstars/priyanka.png', 0.0), ('/assets/images/images/famstars/arohi.png', 0.0), ('/assets/images/images/famstars/devarsh.png', 0.0), ('/assets/images/images/famstars/archit.png', 0.0), ('/assets/images/images/famstars/agniva.png', 0.0), ('/assets/images/images/famstars/moksha.png', 0.0), ('/assets/images/images/famstars/prasanjeet.png', 0.0), ('/assets/images/images/famstars/sakshi.png', 0.0), ('/assets/images/images/famstars/sabarish.png', 0.0), ('/assets/images/images/famstars/karan.png', 0.0), ('/assets/images/images/famstars/peeyush.png', 0.0), ('/assets/images/images/famstars/shobhit.png', 0.0), ('/assets/images/images/famstars/sanat.png', 0.0), ('/assets/images/icons/common/singleGreyArrowIcon.svg', 0.0), ('/assets/images/icons/common/headerGreyLogoIcon.svg', 0.0), ('/assets/images/icons/common/facebookGreyIcon.svg', 0.0), ('/assets/images/icons/common/mediumGreyIcon.svg', 0.0), ('/assets/images/icons/common/instagramGreyIcon.svg', 0.0), ('/assets/images/icons/common/linkedinGreyIcon.svg', 0.0), ('/assets/images/icons/common/twitterGreyIcon.svg', 0.0), ('/assets/images/icons/common/discordGreyIcon.svg', 0.0), ('/assets/images/icons/common/snapchatGreyIcon.svg', 0.0), ('/assets/images/icons/common/youtubeGreyIcon.svg', 0.0), ('/_next/static/chunks/polyfills-5cd94c89d3acac5f.js', 0.0), ('/_next/static/chunks/webpack-e2315b53e504a6de.js', 0.0), ('/_next/static/chunks/framework-79bce4a3a540b080.js', 0.0), ('/_next/static/chunks/main-02d79fe8c2a509ed.js', 0.0), ('/_next/static/chunks/pages/_app-5aa48e6daaf3fe0d.js', 0.0), ('/_next/static/chunks/2905-8aaa955321746aca.js', 0.0), ('/_next/static/chunks/1472-e24409dd291e3c18.js', 0.0), ('/_next/static/chunks/7454-c90862ff3e03df1e.js', 0.0), ('/_next/static/chunks/4590-75312c952da4fb21.js', 0.0), ('/_next/static/chunks/pages/about-b955a1c3293f2ffc.js', 0.0), ('/_next/static/OnBp0dXLpVOYqcPmAsImr/_buildManifest.js', 0.0), ('/_next/static/OnBp0dXLpVOYqcPmAsImr/_ssgManifest.js', 0.0), ('/_next/static/OnBp0dXLpVOYqcPmAsImr/_middlewareManifest.js', 0.0), ('/_next/static/css/6238d6cccf041c98.css', 0.0), ('/_next/static/css/483015020b48b4d6.css', 0.0)]\n",
      "Analyzing 122 of 246: https://famapp.in/blog\n",
      "Page size: 36.6396484375 KB\n",
      "Resource sizes: [('https://fampay.in/blog/content/images/2020/11/logofilewhite-11-2.png', 0.130859375), ('https://fampay.in/blog/content/images/2020/11/logofilewhite-11-2.png', 0.130859375), ('https://cdn.jsdelivr.net/ghost/portal@~2.30/umd/portal.min.js', 170.8154296875), ('https://cdn.jsdelivr.net/ghost/sodo-search@~1.1/umd/sodo-search.min.js', 95.5751953125), ('/blog/public/cards.min.js?v=22080dfa02', 0.0), ('/blog/public/member-attribution.min.js?v=22080dfa02', 0.0), ('https://www.googletagmanager.com/gtag/js?id=UA-147725948-3', 0.0), ('https://polyfill.io/v3/polyfill.min.js?features=IntersectionObserver%2CPromise%2CArray.prototype.includes%2CString.prototype.endsWith%2CString.prototype.startsWith%2CObject.assign%2CNodeList.prototype.forEach', 14.1123046875), ('/blog/assets/js/vendor/content-api.min.js?v=22080dfa02', 0.0), ('/blog/assets/js/manifest.js?v=22080dfa02', 0.0), ('/blog/assets/js/vendor.js?v=22080dfa02', 0.0), ('/blog/assets/js/app.js?v=22080dfa02', 0.0), ('/blog/assets/js/home.js?v=22080dfa02', 0.0), ('/blog/assets/css/app.css?v=22080dfa02', 0.0), ('/blog/public/cards.min.css?v=22080dfa02', 0.0)]\n",
      "Analyzing 123 of 246: https://famapp.in/blog/tag/community/\n",
      "Page size: 30.162109375 KB\n",
      "Resource sizes: [('https://fampay.in/blog/content/images/2020/11/logofilewhite-11-2.png', 0.130859375), ('https://fampay.in/blog/content/images/2020/11/logofilewhite-11-2.png', 0.130859375), ('https://cdn.jsdelivr.net/ghost/portal@~2.30/umd/portal.min.js', 170.8154296875), ('https://cdn.jsdelivr.net/ghost/sodo-search@~1.1/umd/sodo-search.min.js', 95.5751953125), ('/blog/public/cards.min.js?v=22080dfa02', 0.0), ('/blog/public/member-attribution.min.js?v=22080dfa02', 0.0), ('https://www.googletagmanager.com/gtag/js?id=UA-147725948-3', 0.0), ('https://polyfill.io/v3/polyfill.min.js?features=IntersectionObserver%2CPromise%2CArray.prototype.includes%2CString.prototype.endsWith%2CString.prototype.startsWith%2CObject.assign%2CNodeList.prototype.forEach', 14.1123046875), ('/blog/assets/js/vendor/content-api.min.js?v=22080dfa02', 0.0), ('/blog/assets/js/manifest.js?v=22080dfa02', 0.0), ('/blog/assets/js/vendor.js?v=22080dfa02', 0.0), ('/blog/assets/js/app.js?v=22080dfa02', 0.0), ('/blog/assets/css/app.css?v=22080dfa02', 0.0), ('/blog/public/cards.min.css?v=22080dfa02', 0.0)]\n",
      "Analyzing 124 of 246: https://famapp.in/blog/13-boredom-busters-for-teens/\n",
      "Page size: 43.65234375 KB\n",
      "Resource sizes: [('https://fampay.in/blog/content/images/2020/11/logofilewhite-11-2.png', 0.130859375), ('https://fampay.in/blog/content/images/2020/11/logofilewhite-11-2.png', 0.130859375), ('https://fampay.in/blog/content/images/2021/08/image-3.png', 0.130859375), ('https://fampay.in/blog/content/images/2021/08/image-1.png', 0.130859375), ('https://fampay.in/blog/content/images/2021/08/image-6.png', 0.130859375), ('https://fampay.in/blog/content/images/2021/08/image-4.png', 0.130859375), ('/blog/assets/images/success.png?v=22080dfa02', 0.0), ('https://cdn.jsdelivr.net/ghost/portal@~2.30/umd/portal.min.js', 170.8154296875), ('https://cdn.jsdelivr.net/ghost/sodo-search@~1.1/umd/sodo-search.min.js', 95.5751953125), ('/blog/public/cards.min.js?v=22080dfa02', 0.0), ('/blog/public/member-attribution.min.js?v=22080dfa02', 0.0), ('https://www.googletagmanager.com/gtag/js?id=UA-147725948-3', 0.0), ('https://polyfill.io/v3/polyfill.min.js?features=IntersectionObserver%2CPromise%2CArray.prototype.includes%2CString.prototype.endsWith%2CString.prototype.startsWith%2CObject.assign%2CNodeList.prototype.forEach', 14.1123046875), ('/blog/assets/js/vendor/content-api.min.js?v=22080dfa02', 0.0), ('/blog/assets/js/manifest.js?v=22080dfa02', 0.0), ('/blog/assets/js/vendor.js?v=22080dfa02', 0.0), ('/blog/assets/js/app.js?v=22080dfa02', 0.0), ('/blog/assets/js/post.js?v=22080dfa02', 0.0), ('/blog/assets/css/app.css?v=22080dfa02', 0.0), ('/blog/public/cards.min.css?v=22080dfa02', 0.0)]\n",
      "Analyzing 125 of 246: https://famapp.in/blog/social-commerce-making-money-just-through-social-media/\n",
      "Page size: 41.623046875 KB\n",
      "Resource sizes: [('https://fampay.in/blog/content/images/2020/11/logofilewhite-11-2.png', 0.130859375), ('https://fampay.in/blog/content/images/2020/11/logofilewhite-11-2.png', 0.130859375), ('https://fampay.in/blog/content/images/2021/09/image-7.png', 0.130859375), ('https://lh3.googleusercontent.com/1196RxHQNgdU9nnillmAdjGwxAbD0ICRGwPTYuhCbUkuQw6VTmB-biOmhGle3QiMQ441_Ate8WTrdszbc6aFEAx-3QSU0BGZkZBq2abQopPAhY53v-T35SZOt19od_Y0m8joIjI6=s0', 459.0654296875), ('https://fampay.in/blog/content/images/2021/09/image-1.png', 0.130859375), ('https://fampay.in/blog/content/images/2021/09/Frame-3.png', 0.130859375), ('/blog/assets/images/success.png?v=22080dfa02', 0.0), ('https://cdn.jsdelivr.net/ghost/portal@~2.30/umd/portal.min.js', 170.8154296875), ('https://cdn.jsdelivr.net/ghost/sodo-search@~1.1/umd/sodo-search.min.js', 95.5751953125), ('/blog/public/cards.min.js?v=22080dfa02', 0.0), ('/blog/public/member-attribution.min.js?v=22080dfa02', 0.0), ('https://www.googletagmanager.com/gtag/js?id=UA-147725948-3', 0.0), ('https://polyfill.io/v3/polyfill.min.js?features=IntersectionObserver%2CPromise%2CArray.prototype.includes%2CString.prototype.endsWith%2CString.prototype.startsWith%2CObject.assign%2CNodeList.prototype.forEach', 14.1123046875), ('/blog/assets/js/vendor/content-api.min.js?v=22080dfa02', 0.0), ('/blog/assets/js/manifest.js?v=22080dfa02', 0.0), ('/blog/assets/js/vendor.js?v=22080dfa02', 0.0), ('/blog/assets/js/app.js?v=22080dfa02', 0.0), ('/blog/assets/js/post.js?v=22080dfa02', 0.0), ('/blog/assets/css/app.css?v=22080dfa02', 0.0), ('/blog/public/cards.min.css?v=22080dfa02', 0.0)]\n",
      "Analyzing 126 of 246: https://famapp.in/blog/how-can-teens-open-shops-on-instagram/\n",
      "Page size: 44.4677734375 KB\n",
      "Resource sizes: [('https://fampay.in/blog/content/images/2020/11/logofilewhite-11-2.png', 0.130859375), ('https://fampay.in/blog/content/images/2020/11/logofilewhite-11-2.png', 0.130859375), ('/blog/assets/images/success.png?v=22080dfa02', 0.0), ('https://cdn.jsdelivr.net/ghost/portal@~2.30/umd/portal.min.js', 170.8154296875), ('https://cdn.jsdelivr.net/ghost/sodo-search@~1.1/umd/sodo-search.min.js', 95.5751953125), ('/blog/public/cards.min.js?v=22080dfa02', 0.0), ('/blog/public/member-attribution.min.js?v=22080dfa02', 0.0), ('https://www.googletagmanager.com/gtag/js?id=UA-147725948-3', 0.0), ('https://polyfill.io/v3/polyfill.min.js?features=IntersectionObserver%2CPromise%2CArray.prototype.includes%2CString.prototype.endsWith%2CString.prototype.startsWith%2CObject.assign%2CNodeList.prototype.forEach', 14.1123046875), ('/blog/assets/js/vendor/content-api.min.js?v=22080dfa02', 0.0), ('/blog/assets/js/manifest.js?v=22080dfa02', 0.0), ('/blog/assets/js/vendor.js?v=22080dfa02', 0.0), ('/blog/assets/js/app.js?v=22080dfa02', 0.0), ('/blog/assets/js/post.js?v=22080dfa02', 0.0), ('/blog/assets/css/app.css?v=22080dfa02', 0.0), ('/blog/public/cards.min.css?v=22080dfa02', 0.0)]\n",
      "Analyzing 127 of 246: https://famapp.in/blog/genz-commits-to-fight-covid-19/\n",
      "Page size: 45.3759765625 KB\n",
      "Resource sizes: [('https://fampay.in/blog/content/images/2020/11/logofilewhite-11-2.png', 0.130859375), ('https://fampay.in/blog/content/images/2020/11/logofilewhite-11-2.png', 0.130859375), ('https://fampay.in/blog/content/images/2021/06/Screenshot_20210615-152859__02.jpg', 0.130859375), ('https://fampay.in/blog/content/images/2021/06/Screenshot_20210615-152859__01.jpg', 0.130859375), ('https://fampay.in/blog/content/images/2021/06/Screenshot_20210615-153722__01__01.jpg', 0.130859375), ('/blog/assets/images/success.png?v=22080dfa02', 0.0), ('https://cdn.jsdelivr.net/ghost/portal@~2.30/umd/portal.min.js', 170.8154296875), ('https://cdn.jsdelivr.net/ghost/sodo-search@~1.1/umd/sodo-search.min.js', 95.5751953125), ('/blog/public/cards.min.js?v=22080dfa02', 0.0), ('/blog/public/member-attribution.min.js?v=22080dfa02', 0.0), ('https://www.googletagmanager.com/gtag/js?id=UA-147725948-3', 0.0), ('https://polyfill.io/v3/polyfill.min.js?features=IntersectionObserver%2CPromise%2CArray.prototype.includes%2CString.prototype.endsWith%2CString.prototype.startsWith%2CObject.assign%2CNodeList.prototype.forEach', 14.1123046875), ('/blog/assets/js/vendor/content-api.min.js?v=22080dfa02', 0.0), ('/blog/assets/js/manifest.js?v=22080dfa02', 0.0), ('/blog/assets/js/vendor.js?v=22080dfa02', 0.0), ('/blog/assets/js/app.js?v=22080dfa02', 0.0), ('/blog/assets/js/post.js?v=22080dfa02', 0.0), ('/blog/assets/css/app.css?v=22080dfa02', 0.0), ('/blog/public/cards.min.css?v=22080dfa02', 0.0)]\n",
      "Analyzing 128 of 246: https://famapp.in/blog/life-of-an-intern-is-love/\n",
      "Page size: 49.4111328125 KB\n",
      "Resource sizes: [('https://fampay.in/blog/content/images/2020/11/logofilewhite-11-2.png', 0.130859375), ('https://fampay.in/blog/content/images/2020/11/logofilewhite-11-2.png', 0.130859375), ('https://fampay.in/blog/content/images/2020/10/Ayushi.jpg', 0.130859375), ('https://fampay.in/blog/content/images/2020/10/interns-to-anchit-1.png', 0.130859375), ('https://fampay.in/blog/content/images/2020/10/Shunyam.jpg', 0.130859375), ('https://fampay.in/blog/content/images/2020/10/Simran.jpg', 0.130859375), ('https://fampay.in/blog/content/images/2020/10/Harshitha.jpg', 0.130859375), ('https://fampay.in/blog/content/images/2020/10/Ashu.jpg', 0.130859375), ('https://fampay.in/blog/content/images/2020/10/Aditee.jpg', 0.130859375), ('https://fampay.in/blog/content/images/2020/10/Shivam.jpg', 0.130859375), ('https://fampay.in/blog/content/images/2020/10/Ananya.jpg', 0.130859375), ('https://fampay.in/blog/content/images/2021/02/sameeran.PNG', 0.130859375), ('https://fampay.in/blog/content/images/2021/01/image-1.png', 0.130859375), ('/blog/assets/images/success.png?v=22080dfa02', 0.0), ('https://cdn.jsdelivr.net/ghost/portal@~2.30/umd/portal.min.js', 170.8154296875), ('https://cdn.jsdelivr.net/ghost/sodo-search@~1.1/umd/sodo-search.min.js', 95.5751953125), ('/blog/public/cards.min.js?v=22080dfa02', 0.0), ('/blog/public/member-attribution.min.js?v=22080dfa02', 0.0), ('https://www.googletagmanager.com/gtag/js?id=UA-147725948-3', 0.0), ('https://polyfill.io/v3/polyfill.min.js?features=IntersectionObserver%2CPromise%2CArray.prototype.includes%2CString.prototype.endsWith%2CString.prototype.startsWith%2CObject.assign%2CNodeList.prototype.forEach', 14.1123046875), ('/blog/assets/js/vendor/content-api.min.js?v=22080dfa02', 0.0), ('/blog/assets/js/manifest.js?v=22080dfa02', 0.0), ('/blog/assets/js/vendor.js?v=22080dfa02', 0.0), ('/blog/assets/js/app.js?v=22080dfa02', 0.0), ('/blog/assets/js/post.js?v=22080dfa02', 0.0), ('/blog/assets/css/app.css?v=22080dfa02', 0.0), ('/blog/public/cards.min.css?v=22080dfa02', 0.0)]\n",
      "Analyzing 129 of 246: https://famapp.in/blog/tag/culture/\n",
      "Page size: 32.498046875 KB\n",
      "Resource sizes: [('https://fampay.in/blog/content/images/2020/11/logofilewhite-11-2.png', 0.130859375), ('https://fampay.in/blog/content/images/2020/11/logofilewhite-11-2.png', 0.130859375), ('https://cdn.jsdelivr.net/ghost/portal@~2.30/umd/portal.min.js', 170.8154296875), ('https://cdn.jsdelivr.net/ghost/sodo-search@~1.1/umd/sodo-search.min.js', 95.5751953125), ('/blog/public/cards.min.js?v=22080dfa02', 0.0), ('/blog/public/member-attribution.min.js?v=22080dfa02', 0.0), ('https://www.googletagmanager.com/gtag/js?id=UA-147725948-3', 0.0), ('https://polyfill.io/v3/polyfill.min.js?features=IntersectionObserver%2CPromise%2CArray.prototype.includes%2CString.prototype.endsWith%2CString.prototype.startsWith%2CObject.assign%2CNodeList.prototype.forEach', 14.1123046875), ('/blog/assets/js/vendor/content-api.min.js?v=22080dfa02', 0.0), ('/blog/assets/js/manifest.js?v=22080dfa02', 0.0), ('/blog/assets/js/vendor.js?v=22080dfa02', 0.0), ('/blog/assets/js/app.js?v=22080dfa02', 0.0), ('/blog/assets/css/app.css?v=22080dfa02', 0.0), ('/blog/public/cards.min.css?v=22080dfa02', 0.0)]\n",
      "Analyzing 130 of 246: https://famapp.in/blog/12-queer-led-small-businesses-you-need-to-support-this-pride-month/\n",
      "Page size: 47.44921875 KB\n",
      "Resource sizes: [('https://fampay.in/blog/content/images/2020/11/logofilewhite-11-2.png', 0.130859375), ('https://fampay.in/blog/content/images/2020/11/logofilewhite-11-2.png', 0.130859375), ('https://fampay.in/blog/content/images/2021/06/IMG-3577.jpg', 0.130859375), ('https://fampay.in/blog/content/images/2021/06/IMG-3578.jpg', 0.130859375), ('https://fampay.in/blog/content/images/2021/06/IMG-3579.jpg', 0.130859375), ('https://fampay.in/blog/content/images/2021/06/IMG-3581.jpg', 0.130859375), ('https://fampay.in/blog/content/images/2021/06/IMG-3582.jpg', 0.130859375), ('https://fampay.in/blog/content/images/2021/06/IMG-3583.jpg', 0.130859375), ('https://fampay.in/blog/content/images/2021/06/IMG-3584.jpg', 0.130859375), ('https://fampay.in/blog/content/images/2021/06/IMG-3585.jpg', 0.130859375), ('https://fampay.in/blog/content/images/2021/06/IMG-3586.jpg', 0.130859375), ('https://fampay.in/blog/content/images/2021/06/IMG-3590.jpg', 0.130859375), ('https://fampay.in/blog/content/images/2021/06/IMG-3588.jpg', 0.130859375), ('https://fampay.in/blog/content/images/2021/06/IMG-3589.jpg', 0.130859375), ('/blog/assets/images/success.png?v=22080dfa02', 0.0), ('https://cdn.jsdelivr.net/ghost/portal@~2.30/umd/portal.min.js', 170.8154296875), ('https://cdn.jsdelivr.net/ghost/sodo-search@~1.1/umd/sodo-search.min.js', 95.5751953125), ('/blog/public/cards.min.js?v=22080dfa02', 0.0), ('/blog/public/member-attribution.min.js?v=22080dfa02', 0.0), ('https://www.googletagmanager.com/gtag/js?id=UA-147725948-3', 0.0), ('https://polyfill.io/v3/polyfill.min.js?features=IntersectionObserver%2CPromise%2CArray.prototype.includes%2CString.prototype.endsWith%2CString.prototype.startsWith%2CObject.assign%2CNodeList.prototype.forEach', 14.1123046875), ('/blog/assets/js/vendor/content-api.min.js?v=22080dfa02', 0.0), ('/blog/assets/js/manifest.js?v=22080dfa02', 0.0), ('/blog/assets/js/vendor.js?v=22080dfa02', 0.0), ('/blog/assets/js/app.js?v=22080dfa02', 0.0), ('/blog/assets/js/post.js?v=22080dfa02', 0.0), ('/blog/assets/css/app.css?v=22080dfa02', 0.0), ('/blog/public/cards.min.css?v=22080dfa02', 0.0)]\n",
      "Analyzing 131 of 246: https://famapp.in/blog/famstars-we-stress-less-and-accomplish-more/\n",
      "Page size: 41.857421875 KB\n",
      "Resource sizes: [('https://fampay.in/blog/content/images/2020/11/logofilewhite-11-2.png', 0.130859375), ('https://fampay.in/blog/content/images/2020/11/logofilewhite-11-2.png', 0.130859375), ('https://fampay.in/blog/content/images/2021/04/image-16.png', 0.130859375), ('/blog/assets/images/success.png?v=22080dfa02', 0.0), ('https://cdn.jsdelivr.net/ghost/portal@~2.30/umd/portal.min.js', 170.8154296875), ('https://cdn.jsdelivr.net/ghost/sodo-search@~1.1/umd/sodo-search.min.js', 95.5751953125), ('/blog/public/cards.min.js?v=22080dfa02', 0.0), ('/blog/public/member-attribution.min.js?v=22080dfa02', 0.0), ('https://www.googletagmanager.com/gtag/js?id=UA-147725948-3', 0.0), ('https://polyfill.io/v3/polyfill.min.js?features=IntersectionObserver%2CPromise%2CArray.prototype.includes%2CString.prototype.endsWith%2CString.prototype.startsWith%2CObject.assign%2CNodeList.prototype.forEach', 14.1123046875), ('/blog/assets/js/vendor/content-api.min.js?v=22080dfa02', 0.0), ('/blog/assets/js/manifest.js?v=22080dfa02', 0.0), ('/blog/assets/js/vendor.js?v=22080dfa02', 0.0), ('/blog/assets/js/app.js?v=22080dfa02', 0.0), ('/blog/assets/js/post.js?v=22080dfa02', 0.0), ('/blog/assets/css/app.css?v=22080dfa02', 0.0), ('/blog/public/cards.min.css?v=22080dfa02', 0.0)]\n",
      "Analyzing 132 of 246: https://famapp.in/blog/3-financial-lessons-from-nature-itself/\n",
      "Page size: 44.9775390625 KB\n",
      "Resource sizes: [('https://fampay.in/blog/content/images/2020/11/logofilewhite-11-2.png', 0.130859375), ('https://fampay.in/blog/content/images/2020/11/logofilewhite-11-2.png', 0.130859375), ('https://fampay.in/blog/content/images/2021/04/nature-coexisting.jpeg', 0.130859375), ('https://fampay.in/blog/content/images/2021/04/image-14.png', 0.130859375), ('https://fampay.in/blog/content/images/2021/04/Tree-ecosystem22.jpg', 0.130859375), ('https://fampay.in/blog/content/images/2021/04/Bees-storing-food.jpg', 0.130859375), ('https://fampay.in/blog/favicon.png', 0.130859375), ('https://fampay.in/blog/content/images/2020/12/ray-sangga-kusuma-7uSrOyY1U0I-unsplash1.jpg', 0.130859375), ('/blog/assets/images/success.png?v=22080dfa02', 0.0), ('https://cdn.jsdelivr.net/ghost/portal@~2.30/umd/portal.min.js', 170.8154296875), ('https://cdn.jsdelivr.net/ghost/sodo-search@~1.1/umd/sodo-search.min.js', 95.5751953125), ('/blog/public/cards.min.js?v=22080dfa02', 0.0), ('/blog/public/member-attribution.min.js?v=22080dfa02', 0.0), ('https://www.googletagmanager.com/gtag/js?id=UA-147725948-3', 0.0), ('https://polyfill.io/v3/polyfill.min.js?features=IntersectionObserver%2CPromise%2CArray.prototype.includes%2CString.prototype.endsWith%2CString.prototype.startsWith%2CObject.assign%2CNodeList.prototype.forEach', 14.1123046875), ('/blog/assets/js/vendor/content-api.min.js?v=22080dfa02', 0.0), ('/blog/assets/js/manifest.js?v=22080dfa02', 0.0), ('/blog/assets/js/vendor.js?v=22080dfa02', 0.0), ('/blog/assets/js/app.js?v=22080dfa02', 0.0), ('/blog/assets/js/post.js?v=22080dfa02', 0.0), ('/blog/assets/css/app.css?v=22080dfa02', 0.0), ('/blog/public/cards.min.css?v=22080dfa02', 0.0)]\n",
      "Analyzing 133 of 246: https://famapp.in/blog/living-life-genz-style/\n",
      "Page size: 40.5654296875 KB\n",
      "Resource sizes: [('https://fampay.in/blog/content/images/2020/11/logofilewhite-11-2.png', 0.130859375), ('https://fampay.in/blog/content/images/2020/11/logofilewhite-11-2.png', 0.130859375), ('https://fampay.in/blog/content/images/2020/10/king.gif', 0.130859375), ('https://fampay.in/blog/content/images/2020/10/finally-final.png', 0.130859375), ('https://fampay.in/blog/content/images/2020/10/tenor.gif', 0.130859375), ('https://fampay.in/blog/content/images/2020/10/giphy-2.gif', 0.130859375), ('https://fampay.in/blog/content/images/2020/10/giphy-3.gif', 0.130859375), ('https://fampay.in/blog/content/images/2020/10/DSC01983-2.jpg', 0.130859375), ('https://fampay.in/blog/content/images/2020/10/DSC02327-2.jpg', 0.130859375), ('https://fampay.in/blog/content/images/2020/10/tenor-1.gif', 0.130859375), ('/blog/assets/images/success.png?v=22080dfa02', 0.0), ('https://cdn.jsdelivr.net/ghost/portal@~2.30/umd/portal.min.js', 170.8154296875), ('https://cdn.jsdelivr.net/ghost/sodo-search@~1.1/umd/sodo-search.min.js', 95.5751953125), ('/blog/public/cards.min.js?v=22080dfa02', 0.0), ('/blog/public/member-attribution.min.js?v=22080dfa02', 0.0), ('https://www.googletagmanager.com/gtag/js?id=UA-147725948-3', 0.0), ('https://polyfill.io/v3/polyfill.min.js?features=IntersectionObserver%2CPromise%2CArray.prototype.includes%2CString.prototype.endsWith%2CString.prototype.startsWith%2CObject.assign%2CNodeList.prototype.forEach', 14.1123046875), ('/blog/assets/js/vendor/content-api.min.js?v=22080dfa02', 0.0), ('/blog/assets/js/manifest.js?v=22080dfa02', 0.0), ('/blog/assets/js/vendor.js?v=22080dfa02', 0.0), ('/blog/assets/js/app.js?v=22080dfa02', 0.0), ('/blog/assets/js/post.js?v=22080dfa02', 0.0), ('/blog/assets/css/app.css?v=22080dfa02', 0.0), ('/blog/public/cards.min.css?v=22080dfa02', 0.0)]\n",
      "Analyzing 134 of 246: https://famapp.in/blog/remote-working-divided-by-distance-united-by-mission/\n",
      "Page size: 42.27734375 KB\n",
      "Resource sizes: [('https://fampay.in/blog/content/images/2020/11/logofilewhite-11-2.png', 0.130859375), ('https://fampay.in/blog/content/images/2020/11/logofilewhite-11-2.png', 0.130859375), ('https://fampay.in/blog/content/images/2020/09/NEW-IMAGE.png', 0.130859375), ('https://fampay.in/blog/content/images/2020/08/REMOTE-LOGO.png', 0.130859375), ('/blog/assets/images/success.png?v=22080dfa02', 0.0), ('https://cdn.jsdelivr.net/ghost/portal@~2.30/umd/portal.min.js', 170.8154296875), ('https://cdn.jsdelivr.net/ghost/sodo-search@~1.1/umd/sodo-search.min.js', 95.5751953125), ('/blog/public/cards.min.js?v=22080dfa02', 0.0), ('/blog/public/member-attribution.min.js?v=22080dfa02', 0.0), ('https://www.googletagmanager.com/gtag/js?id=UA-147725948-3', 0.0), ('https://polyfill.io/v3/polyfill.min.js?features=IntersectionObserver%2CPromise%2CArray.prototype.includes%2CString.prototype.endsWith%2CString.prototype.startsWith%2CObject.assign%2CNodeList.prototype.forEach', 14.1123046875), ('/blog/assets/js/vendor/content-api.min.js?v=22080dfa02', 0.0), ('/blog/assets/js/manifest.js?v=22080dfa02', 0.0), ('/blog/assets/js/vendor.js?v=22080dfa02', 0.0), ('/blog/assets/js/app.js?v=22080dfa02', 0.0), ('/blog/assets/js/post.js?v=22080dfa02', 0.0), ('/blog/assets/css/app.css?v=22080dfa02', 0.0), ('/blog/public/cards.min.css?v=22080dfa02', 0.0)]\n",
      "Analyzing 135 of 246: https://famapp.in/blog/tag/famsays/\n",
      "Page size: 37.5068359375 KB\n",
      "Resource sizes: [('https://fampay.in/blog/content/images/2020/11/logofilewhite-11-2.png', 0.130859375), ('https://fampay.in/blog/content/images/2020/11/logofilewhite-11-2.png', 0.130859375), ('https://cdn.jsdelivr.net/ghost/portal@~2.30/umd/portal.min.js', 170.8154296875), ('https://cdn.jsdelivr.net/ghost/sodo-search@~1.1/umd/sodo-search.min.js', 95.5751953125), ('/blog/public/cards.min.js?v=22080dfa02', 0.0), ('/blog/public/member-attribution.min.js?v=22080dfa02', 0.0), ('https://www.googletagmanager.com/gtag/js?id=UA-147725948-3', 0.0), ('https://polyfill.io/v3/polyfill.min.js?features=IntersectionObserver%2CPromise%2CArray.prototype.includes%2CString.prototype.endsWith%2CString.prototype.startsWith%2CObject.assign%2CNodeList.prototype.forEach', 14.1123046875), ('/blog/assets/js/vendor/content-api.min.js?v=22080dfa02', 0.0), ('/blog/assets/js/manifest.js?v=22080dfa02', 0.0), ('/blog/assets/js/vendor.js?v=22080dfa02', 0.0), ('/blog/assets/js/app.js?v=22080dfa02', 0.0), ('/blog/assets/css/app.css?v=22080dfa02', 0.0), ('/blog/public/cards.min.css?v=22080dfa02', 0.0)]\n",
      "Analyzing 136 of 246: https://famapp.in/blog/a-practical-guide-to-app-store-optimization/\n",
      "Page size: 40.75390625 KB\n",
      "Resource sizes: [('https://fampay.in/blog/content/images/2020/11/logofilewhite-11-2.png', 0.130859375), ('https://fampay.in/blog/content/images/2020/11/logofilewhite-11-2.png', 0.130859375), ('https://fampay.in/blog/content/images/2021/09/ASO.png', 0.130859375), ('https://fampay.in/blog/content/images/2021/09/image-9.png', 0.130859375), ('https://fampay.in/blog/content/images/2021/09/image-10.png', 0.130859375), ('/blog/assets/images/success.png?v=22080dfa02', 0.0), ('https://cdn.jsdelivr.net/ghost/portal@~2.30/umd/portal.min.js', 170.8154296875), ('https://cdn.jsdelivr.net/ghost/sodo-search@~1.1/umd/sodo-search.min.js', 95.5751953125), ('/blog/public/cards.min.js?v=22080dfa02', 0.0), ('/blog/public/member-attribution.min.js?v=22080dfa02', 0.0), ('https://www.googletagmanager.com/gtag/js?id=UA-147725948-3', 0.0), ('https://polyfill.io/v3/polyfill.min.js?features=IntersectionObserver%2CPromise%2CArray.prototype.includes%2CString.prototype.endsWith%2CString.prototype.startsWith%2CObject.assign%2CNodeList.prototype.forEach', 14.1123046875), ('/blog/assets/js/vendor/content-api.min.js?v=22080dfa02', 0.0), ('/blog/assets/js/manifest.js?v=22080dfa02', 0.0), ('/blog/assets/js/vendor.js?v=22080dfa02', 0.0), ('/blog/assets/js/app.js?v=22080dfa02', 0.0), ('/blog/assets/js/post.js?v=22080dfa02', 0.0), ('/blog/assets/css/app.css?v=22080dfa02', 0.0), ('/blog/public/cards.min.css?v=22080dfa02', 0.0)]\n",
      "Analyzing 137 of 246: https://famapp.in/blog/365-days-of-internship-at-fampay/\n",
      "Page size: 42.2734375 KB\n",
      "Resource sizes: [('https://fampay.in/blog/content/images/2020/11/logofilewhite-11-2.png', 0.130859375), ('https://fampay.in/blog/content/images/2020/11/logofilewhite-11-2.png', 0.130859375), ('https://fampay.in/blog/content/images/2021/09/WhatsApp-Image-2021-09-09-at-12.08.03.jpeg', 0.130859375), ('https://fampay.in/blog/content/images/2021/09/WhatsApp-Image-2021-09-09-at-12.08.02.jpeg', 0.130859375), ('/blog/assets/images/success.png?v=22080dfa02', 0.0), ('https://cdn.jsdelivr.net/ghost/portal@~2.30/umd/portal.min.js', 170.8154296875), ('https://cdn.jsdelivr.net/ghost/sodo-search@~1.1/umd/sodo-search.min.js', 95.5751953125), ('/blog/public/cards.min.js?v=22080dfa02', 0.0), ('/blog/public/member-attribution.min.js?v=22080dfa02', 0.0), ('https://www.googletagmanager.com/gtag/js?id=UA-147725948-3', 0.0), ('https://polyfill.io/v3/polyfill.min.js?features=IntersectionObserver%2CPromise%2CArray.prototype.includes%2CString.prototype.endsWith%2CString.prototype.startsWith%2CObject.assign%2CNodeList.prototype.forEach', 14.1123046875), ('/blog/assets/js/vendor/content-api.min.js?v=22080dfa02', 0.0), ('/blog/assets/js/manifest.js?v=22080dfa02', 0.0), ('/blog/assets/js/vendor.js?v=22080dfa02', 0.0), ('/blog/assets/js/app.js?v=22080dfa02', 0.0), ('/blog/assets/js/post.js?v=22080dfa02', 0.0), ('/blog/assets/css/app.css?v=22080dfa02', 0.0), ('/blog/public/cards.min.css?v=22080dfa02', 0.0)]\n",
      "Analyzing 138 of 246: https://famapp.in/blog/how-instagram-reel-can-really-grow-your-brand/\n",
      "Page size: 40.0205078125 KB\n",
      "Resource sizes: [('https://fampay.in/blog/content/images/2020/11/logofilewhite-11-2.png', 0.130859375), ('https://fampay.in/blog/content/images/2020/11/logofilewhite-11-2.png', 0.130859375), ('https://fampay.in/blog/content/images/2021/08/image-9.png', 0.130859375), ('https://fampay.in/blog/content/images/2021/08/image-14.png', 0.130859375), ('https://fampay.in/blog/content/images/2021/08/image-13.png', 0.130859375), ('https://fampay.in/blog/content/images/2021/08/image-12.png', 0.130859375), ('/blog/assets/images/success.png?v=22080dfa02', 0.0), ('https://cdn.jsdelivr.net/ghost/portal@~2.30/umd/portal.min.js', 170.8154296875), ('https://cdn.jsdelivr.net/ghost/sodo-search@~1.1/umd/sodo-search.min.js', 95.5751953125), ('/blog/public/cards.min.js?v=22080dfa02', 0.0), ('/blog/public/member-attribution.min.js?v=22080dfa02', 0.0), ('https://www.googletagmanager.com/gtag/js?id=UA-147725948-3', 0.0), ('https://polyfill.io/v3/polyfill.min.js?features=IntersectionObserver%2CPromise%2CArray.prototype.includes%2CString.prototype.endsWith%2CString.prototype.startsWith%2CObject.assign%2CNodeList.prototype.forEach', 14.1123046875), ('/blog/assets/js/vendor/content-api.min.js?v=22080dfa02', 0.0), ('/blog/assets/js/manifest.js?v=22080dfa02', 0.0), ('/blog/assets/js/vendor.js?v=22080dfa02', 0.0), ('/blog/assets/js/app.js?v=22080dfa02', 0.0), ('/blog/assets/js/post.js?v=22080dfa02', 0.0), ('/blog/assets/css/app.css?v=22080dfa02', 0.0), ('/blog/public/cards.min.css?v=22080dfa02', 0.0)]\n",
      "Analyzing 139 of 246: https://famapp.in/blog/config-variables-changing-system-behaviour-live-in-production/\n",
      "Page size: 44.630859375 KB\n",
      "Resource sizes: [('https://fampay.in/blog/content/images/2020/11/logofilewhite-11-2.png', 0.130859375), ('https://fampay.in/blog/content/images/2020/11/logofilewhite-11-2.png', 0.130859375), ('https://fampay.in/blog/content/images/2021/07/image-1.png', 0.130859375), ('https://fampay.in/blog/content/images/2021/07/image-2.png', 0.130859375), ('/blog/assets/images/success.png?v=22080dfa02', 0.0), ('https://cdn.jsdelivr.net/ghost/portal@~2.30/umd/portal.min.js', 170.8154296875), ('https://cdn.jsdelivr.net/ghost/sodo-search@~1.1/umd/sodo-search.min.js', 95.5751953125), ('/blog/public/cards.min.js?v=22080dfa02', 0.0), ('/blog/public/member-attribution.min.js?v=22080dfa02', 0.0), ('https://www.googletagmanager.com/gtag/js?id=UA-147725948-3', 0.0), ('https://polyfill.io/v3/polyfill.min.js?features=IntersectionObserver%2CPromise%2CArray.prototype.includes%2CString.prototype.endsWith%2CString.prototype.startsWith%2CObject.assign%2CNodeList.prototype.forEach', 14.1123046875), ('/blog/assets/js/vendor/content-api.min.js?v=22080dfa02', 0.0), ('/blog/assets/js/manifest.js?v=22080dfa02', 0.0), ('/blog/assets/js/vendor.js?v=22080dfa02', 0.0), ('/blog/assets/js/app.js?v=22080dfa02', 0.0), ('/blog/assets/js/post.js?v=22080dfa02', 0.0), ('/blog/assets/css/app.css?v=22080dfa02', 0.0), ('/blog/public/cards.min.css?v=22080dfa02', 0.0)]\n",
      "Analyzing 140 of 246: https://famapp.in/blog/a-marketers-guide-to-moment-marketing/\n",
      "Page size: 44.609375 KB\n",
      "Resource sizes: [('https://fampay.in/blog/content/images/2020/11/logofilewhite-11-2.png', 0.130859375), ('https://fampay.in/blog/content/images/2020/11/logofilewhite-11-2.png', 0.130859375), ('https://fampay.in/blog/content/images/2021/06/Untitled.png', 0.130859375), ('https://fampay.in/blog/content/images/2021/06/image.png', 0.130859375), ('https://fampay.in/blog/content/images/2021/06/image-1.png', 0.130859375), ('https://fampay.in/blog/content/images/2021/06/image-7.png', 0.130859375), ('https://fampay.in/blog/content/images/2021/06/image-3.png', 0.130859375), ('https://fampay.in/blog/content/images/2021/06/image-5.png', 0.130859375), ('https://fampay.in/blog/content/images/2021/06/image-4.png', 0.130859375), ('https://fampay.in/blog/content/images/2021/06/image-6.png', 0.130859375), ('https://fampay.in/blog/content/images/2021/06/Untitled-design.jpg', 0.130859375), ('/blog/assets/images/success.png?v=22080dfa02', 0.0), ('https://cdn.jsdelivr.net/ghost/portal@~2.30/umd/portal.min.js', 170.8154296875), ('https://cdn.jsdelivr.net/ghost/sodo-search@~1.1/umd/sodo-search.min.js', 95.5751953125), ('/blog/public/cards.min.js?v=22080dfa02', 0.0), ('/blog/public/member-attribution.min.js?v=22080dfa02', 0.0), ('https://www.googletagmanager.com/gtag/js?id=UA-147725948-3', 0.0), ('https://polyfill.io/v3/polyfill.min.js?features=IntersectionObserver%2CPromise%2CArray.prototype.includes%2CString.prototype.endsWith%2CString.prototype.startsWith%2CObject.assign%2CNodeList.prototype.forEach', 14.1123046875), ('/blog/assets/js/vendor/content-api.min.js?v=22080dfa02', 0.0), ('/blog/assets/js/manifest.js?v=22080dfa02', 0.0), ('/blog/assets/js/vendor.js?v=22080dfa02', 0.0), ('/blog/assets/js/app.js?v=22080dfa02', 0.0), ('/blog/assets/js/post.js?v=22080dfa02', 0.0), ('/blog/assets/css/app.css?v=22080dfa02', 0.0), ('/blog/public/cards.min.css?v=22080dfa02', 0.0)]\n",
      "Analyzing 141 of 246: https://famapp.in/blog/the-story-behind-fampays-tech-stack/\n",
      "Page size: 56.376953125 KB\n",
      "Resource sizes: [('https://fampay.in/blog/content/images/2020/11/logofilewhite-11-2.png', 0.130859375), ('https://fampay.in/blog/content/images/2020/11/logofilewhite-11-2.png', 0.130859375), ('https://fampay.in/blog/content/images/2021/06/Image-from-iOS--4-.png', 0.130859375), ('https://fampay.in/blog/content/images/2021/06/Image-from-iOS--10-.png', 0.130859375), ('/blog/assets/images/success.png?v=22080dfa02', 0.0), ('https://cdn.jsdelivr.net/ghost/portal@~2.30/umd/portal.min.js', 170.8154296875), ('https://cdn.jsdelivr.net/ghost/sodo-search@~1.1/umd/sodo-search.min.js', 95.5751953125), ('/blog/public/cards.min.js?v=22080dfa02', 0.0), ('/blog/public/member-attribution.min.js?v=22080dfa02', 0.0), ('https://www.googletagmanager.com/gtag/js?id=UA-147725948-3', 0.0), ('https://polyfill.io/v3/polyfill.min.js?features=IntersectionObserver%2CPromise%2CArray.prototype.includes%2CString.prototype.endsWith%2CString.prototype.startsWith%2CObject.assign%2CNodeList.prototype.forEach', 14.1123046875), ('/blog/assets/js/vendor/content-api.min.js?v=22080dfa02', 0.0), ('/blog/assets/js/manifest.js?v=22080dfa02', 0.0), ('/blog/assets/js/vendor.js?v=22080dfa02', 0.0), ('/blog/assets/js/app.js?v=22080dfa02', 0.0), ('/blog/assets/js/post.js?v=22080dfa02', 0.0), ('/blog/assets/css/app.css?v=22080dfa02', 0.0), ('/blog/public/cards.min.css?v=22080dfa02', 0.0)]\n",
      "Analyzing 142 of 246: https://famapp.in/blog/tag/famsays/page/2/\n",
      "Page size: 35.306640625 KB\n",
      "Resource sizes: [('https://fampay.in/blog/content/images/2020/11/logofilewhite-11-2.png', 0.130859375), ('https://fampay.in/blog/content/images/2020/11/logofilewhite-11-2.png', 0.130859375), ('https://cdn.jsdelivr.net/ghost/portal@~2.30/umd/portal.min.js', 170.8154296875), ('https://cdn.jsdelivr.net/ghost/sodo-search@~1.1/umd/sodo-search.min.js', 95.5751953125), ('/blog/public/cards.min.js?v=22080dfa02', 0.0), ('/blog/public/member-attribution.min.js?v=22080dfa02', 0.0), ('https://www.googletagmanager.com/gtag/js?id=UA-147725948-3', 0.0), ('https://polyfill.io/v3/polyfill.min.js?features=IntersectionObserver%2CPromise%2CArray.prototype.includes%2CString.prototype.endsWith%2CString.prototype.startsWith%2CObject.assign%2CNodeList.prototype.forEach', 14.1123046875), ('/blog/assets/js/vendor/content-api.min.js?v=22080dfa02', 0.0), ('/blog/assets/js/manifest.js?v=22080dfa02', 0.0), ('/blog/assets/js/vendor.js?v=22080dfa02', 0.0), ('/blog/assets/js/app.js?v=22080dfa02', 0.0), ('/blog/assets/css/app.css?v=22080dfa02', 0.0), ('/blog/public/cards.min.css?v=22080dfa02', 0.0)]\n",
      "Analyzing 143 of 246: https://famapp.in/blog/getting-your-generations-right-millennials-v-s-genz/\n",
      "Page size: 43.10546875 KB\n",
      "Resource sizes: [('https://fampay.in/blog/content/images/2020/11/logofilewhite-11-2.png', 0.130859375), ('https://fampay.in/blog/content/images/2020/11/logofilewhite-11-2.png', 0.130859375), ('https://fampay.in/blog/content/images/2021/04/image.png', 0.130859375), ('https://fampay.in/blog/content/images/2021/04/image-9.png', 0.130859375), ('https://fampay.in/blog/content/images/2021/04/image-3.png', 0.130859375), ('https://fampay.in/blog/content/images/2021/04/image-4.png', 0.130859375), ('https://fampay.in/blog/content/images/2021/04/image-5.png', 0.130859375), ('https://fampay.in/blog/content/images/2021/04/image-1.png', 0.130859375), ('https://fampay.in/blog/content/images/2021/04/image-8.png', 0.130859375), ('https://fampay.in/blog/content/images/2021/04/image-7.png', 0.130859375), ('/blog/assets/images/success.png?v=22080dfa02', 0.0), ('https://cdn.jsdelivr.net/ghost/portal@~2.30/umd/portal.min.js', 170.8154296875), ('https://cdn.jsdelivr.net/ghost/sodo-search@~1.1/umd/sodo-search.min.js', 95.5751953125), ('/blog/public/cards.min.js?v=22080dfa02', 0.0), ('/blog/public/member-attribution.min.js?v=22080dfa02', 0.0), ('https://www.googletagmanager.com/gtag/js?id=UA-147725948-3', 0.0), ('https://polyfill.io/v3/polyfill.min.js?features=IntersectionObserver%2CPromise%2CArray.prototype.includes%2CString.prototype.endsWith%2CString.prototype.startsWith%2CObject.assign%2CNodeList.prototype.forEach', 14.1123046875), ('/blog/assets/js/vendor/content-api.min.js?v=22080dfa02', 0.0), ('/blog/assets/js/manifest.js?v=22080dfa02', 0.0), ('/blog/assets/js/vendor.js?v=22080dfa02', 0.0), ('/blog/assets/js/app.js?v=22080dfa02', 0.0), ('/blog/assets/js/post.js?v=22080dfa02', 0.0), ('/blog/assets/css/app.css?v=22080dfa02', 0.0), ('/blog/public/cards.min.css?v=22080dfa02', 0.0)]\n",
      "Analyzing 144 of 246: https://famapp.in/blog/when-building-for-genzs-build-it-on-discord/\n",
      "Page size: 42.5419921875 KB\n",
      "Resource sizes: [('https://fampay.in/blog/content/images/2020/11/logofilewhite-11-2.png', 0.130859375), ('https://fampay.in/blog/content/images/2020/11/logofilewhite-11-2.png', 0.130859375), ('https://fampay.in/blog/content/images/2021/03/image.png', 0.130859375), ('https://fampay.in/blog/content/images/2021/03/2021-03-23--3-.png', 0.130859375), ('https://fampay.in/blog/content/images/2021/03/2021-03-23--5--2.png', 0.130859375), ('https://fampay.in/blog/content/images/2021/03/2021-03-23--4-.png', 0.130859375), ('/blog/assets/images/success.png?v=22080dfa02', 0.0), ('https://cdn.jsdelivr.net/ghost/portal@~2.30/umd/portal.min.js', 170.8154296875), ('https://cdn.jsdelivr.net/ghost/sodo-search@~1.1/umd/sodo-search.min.js', 95.5751953125), ('/blog/public/cards.min.js?v=22080dfa02', 0.0), ('/blog/public/member-attribution.min.js?v=22080dfa02', 0.0), ('https://www.googletagmanager.com/gtag/js?id=UA-147725948-3', 0.0), ('https://polyfill.io/v3/polyfill.min.js?features=IntersectionObserver%2CPromise%2CArray.prototype.includes%2CString.prototype.endsWith%2CString.prototype.startsWith%2CObject.assign%2CNodeList.prototype.forEach', 14.1123046875), ('/blog/assets/js/vendor/content-api.min.js?v=22080dfa02', 0.0), ('/blog/assets/js/manifest.js?v=22080dfa02', 0.0), ('/blog/assets/js/vendor.js?v=22080dfa02', 0.0), ('/blog/assets/js/app.js?v=22080dfa02', 0.0), ('/blog/assets/js/post.js?v=22080dfa02', 0.0), ('/blog/assets/css/app.css?v=22080dfa02', 0.0), ('/blog/public/cards.min.css?v=22080dfa02', 0.0)]\n",
      "Analyzing 145 of 246: https://famapp.in/blog/club-teens-one-stop-online-community/\n",
      "Page size: 41.884765625 KB\n",
      "Resource sizes: [('https://fampay.in/blog/content/images/2020/11/logofilewhite-11-2.png', 0.130859375), ('https://fampay.in/blog/content/images/2020/11/logofilewhite-11-2.png', 0.130859375), ('https://fampay.in/blog/content/images/2021/02/image-1.png', 0.130859375), ('https://fampay.in/blog/content/images/2021/02/image-3.png', 0.130859375), ('https://fampay.in/blog/content/images/2021/02/image-2.png', 0.130859375), ('https://fampay.in/blog/content/images/2021/02/image-4.png', 0.130859375), ('https://fampay.in/blog/content/images/2021/02/image.png', 0.130859375), ('/blog/assets/images/success.png?v=22080dfa02', 0.0), ('https://cdn.jsdelivr.net/ghost/portal@~2.30/umd/portal.min.js', 170.8154296875), ('https://cdn.jsdelivr.net/ghost/sodo-search@~1.1/umd/sodo-search.min.js', 95.5751953125), ('/blog/public/cards.min.js?v=22080dfa02', 0.0), ('/blog/public/member-attribution.min.js?v=22080dfa02', 0.0), ('https://www.googletagmanager.com/gtag/js?id=UA-147725948-3', 0.0), ('https://polyfill.io/v3/polyfill.min.js?features=IntersectionObserver%2CPromise%2CArray.prototype.includes%2CString.prototype.endsWith%2CString.prototype.startsWith%2CObject.assign%2CNodeList.prototype.forEach', 14.1123046875), ('/blog/assets/js/vendor/content-api.min.js?v=22080dfa02', 0.0), ('/blog/assets/js/manifest.js?v=22080dfa02', 0.0), ('/blog/assets/js/vendor.js?v=22080dfa02', 0.0), ('/blog/assets/js/app.js?v=22080dfa02', 0.0), ('/blog/assets/js/post.js?v=22080dfa02', 0.0), ('/blog/assets/css/app.css?v=22080dfa02', 0.0), ('/blog/public/cards.min.css?v=22080dfa02', 0.0)]\n",
      "Analyzing 146 of 246: https://famapp.in/blog/effectively-harnessing-motion-design-for-genzs/\n",
      "Page size: 45.0908203125 KB\n",
      "Resource sizes: [('https://fampay.in/blog/content/images/2020/11/logofilewhite-11-2.png', 0.130859375), ('https://fampay.in/blog/content/images/2020/11/logofilewhite-11-2.png', 0.130859375), ('https://fampay.in/blog/content/images/2021/02/GIF-10.gif', 0.130859375), ('https://fampay.in/blog/content/images/2021/02/1-1.jpg', 0.130859375), ('https://fampay.in/blog/content/images/2021/02/2.jpg', 0.130859375), ('https://fampay.in/blog/content/images/2021/02/GIF-1.gif', 0.130859375), ('https://fampay.in/blog/content/images/2021/02/GIF-2.gif', 0.130859375), ('https://fampay.in/blog/content/images/2021/02/GIF-6.gif', 0.130859375), ('https://fampay.in/blog/content/images/2021/02/GIF-4.gif', 0.130859375), ('https://fampay.in/blog/content/images/2021/02/GIF-7-B.gif', 0.130859375), ('https://fampay.in/blog/content/images/2021/02/GIF-5-B.gif', 0.130859375), ('https://fampay.in/blog/content/images/2021/02/GIF-8.gif', 0.130859375), ('https://fampay.in/blog/content/images/2021/02/GIF-9.gif', 0.130859375), ('/blog/assets/images/success.png?v=22080dfa02', 0.0), ('https://cdn.jsdelivr.net/ghost/portal@~2.30/umd/portal.min.js', 170.8154296875), ('https://cdn.jsdelivr.net/ghost/sodo-search@~1.1/umd/sodo-search.min.js', 95.5751953125), ('/blog/public/cards.min.js?v=22080dfa02', 0.0), ('/blog/public/member-attribution.min.js?v=22080dfa02', 0.0), ('https://www.googletagmanager.com/gtag/js?id=UA-147725948-3', 0.0), ('https://polyfill.io/v3/polyfill.min.js?features=IntersectionObserver%2CPromise%2CArray.prototype.includes%2CString.prototype.endsWith%2CString.prototype.startsWith%2CObject.assign%2CNodeList.prototype.forEach', 14.1123046875), ('/blog/assets/js/vendor/content-api.min.js?v=22080dfa02', 0.0), ('/blog/assets/js/manifest.js?v=22080dfa02', 0.0), ('/blog/assets/js/vendor.js?v=22080dfa02', 0.0), ('/blog/assets/js/app.js?v=22080dfa02', 0.0), ('/blog/assets/js/post.js?v=22080dfa02', 0.0), ('/blog/assets/css/app.css?v=22080dfa02', 0.0), ('/blog/public/cards.min.css?v=22080dfa02', 0.0)]\n",
      "Analyzing 147 of 246: https://famapp.in/blog/what-are-the-perks-of-using-fampay/\n",
      "Page size: 44.3310546875 KB\n",
      "Resource sizes: [('https://fampay.in/blog/content/images/2020/11/logofilewhite-11-2.png', 0.130859375), ('https://fampay.in/blog/content/images/2020/11/logofilewhite-11-2.png', 0.130859375), ('https://fampay.in/blog/favicon.png', 0.130859375), ('https://fampay.in/blog/content/images/2020/12/Flash-PIN.jpg', 0.130859375), ('https://fampay.in/blog/favicon.png', 0.130859375), ('https://fampay.in/blog/content/images/2020/06/savings-.jpg', 0.130859375), ('https://fampay.in/blog/favicon.png', 0.130859375), ('https://fampay.in/blog/content/images/2020/12/DO-s-and-Don-ts--2--2.png', 0.130859375), ('https://fampay.in/blog/favicon.png', 0.130859375), ('https://fampay.in/blog/content/images/2021/02/Kaavya--blog-1.png', 0.130859375), ('https://fampay.in/blog/favicon.png', 0.130859375), ('https://fampay.in/blog/content/images/2020/12/Shifa--blog1.png', 0.130859375), ('/blog/assets/images/success.png?v=22080dfa02', 0.0), ('https://cdn.jsdelivr.net/ghost/portal@~2.30/umd/portal.min.js', 170.8154296875), ('https://cdn.jsdelivr.net/ghost/sodo-search@~1.1/umd/sodo-search.min.js', 95.5751953125), ('/blog/public/cards.min.js?v=22080dfa02', 0.0), ('/blog/public/member-attribution.min.js?v=22080dfa02', 0.0), ('https://www.googletagmanager.com/gtag/js?id=UA-147725948-3', 0.0), ('https://polyfill.io/v3/polyfill.min.js?features=IntersectionObserver%2CPromise%2CArray.prototype.includes%2CString.prototype.endsWith%2CString.prototype.startsWith%2CObject.assign%2CNodeList.prototype.forEach', 14.1123046875), ('/blog/assets/js/vendor/content-api.min.js?v=22080dfa02', 0.0), ('/blog/assets/js/manifest.js?v=22080dfa02', 0.0), ('/blog/assets/js/vendor.js?v=22080dfa02', 0.0), ('/blog/assets/js/app.js?v=22080dfa02', 0.0), ('/blog/assets/js/post.js?v=22080dfa02', 0.0), ('/blog/assets/css/app.css?v=22080dfa02', 0.0), ('/blog/public/cards.min.css?v=22080dfa02', 0.0)]\n",
      "Analyzing 148 of 246: https://fampay.in/blog/savings-for-teens-its-never-too-early-to-start/\n",
      "Page size: 54.9326171875 KB\n",
      "Resource sizes: [('https://fampay.in/blog/content/images/2020/11/logofilewhite-11-2.png', 0.130859375), ('https://fampay.in/blog/content/images/2020/11/logofilewhite-11-2.png', 0.130859375), ('https://fampay.in/blog/content/images/2020/06/image.png', 0.130859375), ('https://fampay.in/blog/content/images/2020/06/Animated-GIF-downsized.gif', 0.130859375), ('/blog/assets/images/success.png?v=22080dfa02', 0.130859375), ('https://cdn.jsdelivr.net/ghost/portal@~2.30/umd/portal.min.js', 170.8154296875), ('https://cdn.jsdelivr.net/ghost/sodo-search@~1.1/umd/sodo-search.min.js', 95.5751953125), ('/blog/public/cards.min.js?v=22080dfa02', 0.130859375), ('/blog/public/member-attribution.min.js?v=22080dfa02', 0.130859375), ('https://www.googletagmanager.com/gtag/js?id=UA-147725948-3', 0.0), ('//www.instagram.com/embed.js', 0.130859375), ('//www.instagram.com/embed.js', 0.130859375), ('https://polyfill.io/v3/polyfill.min.js?features=IntersectionObserver%2CPromise%2CArray.prototype.includes%2CString.prototype.endsWith%2CString.prototype.startsWith%2CObject.assign%2CNodeList.prototype.forEach', 14.1123046875), ('/blog/assets/js/vendor/content-api.min.js?v=22080dfa02', 0.130859375), ('/blog/assets/js/manifest.js?v=22080dfa02', 0.130859375), ('/blog/assets/js/vendor.js?v=22080dfa02', 0.130859375), ('/blog/assets/js/app.js?v=22080dfa02', 0.130859375), ('/blog/assets/js/post.js?v=22080dfa02', 0.130859375), ('/blog/assets/css/app.css?v=22080dfa02', 0.130859375), ('/blog/public/cards.min.css?v=22080dfa02', 0.130859375)]\n",
      "Analyzing 149 of 246: https://fampay.in/blog/building-indias-first-genz-teen-exclusive-community/\n",
      "Page size: 46.37890625 KB\n",
      "Resource sizes: [('https://fampay.in/blog/content/images/2020/11/logofilewhite-11-2.png', 0.130859375), ('https://fampay.in/blog/content/images/2020/11/logofilewhite-11-2.png', 0.130859375), ('https://lh5.googleusercontent.com/F5vA6alvKazmPqPYbvO7RGvOMqPC5lbyDfPcgfF-pg4waTr9oMUI3nN5Y0wUa6C-Fm8TFBnkNqI395YcnO8Yafo61FROWPLZ2JHv2vk7MxvA4VVwX3tDvhzccx6wHndwLbkUz5eR', 0.0), ('https://lh4.googleusercontent.com/aUW-PdSqXpMlhPi8n2j3FMGI6FwMYChKVuceDpfmBJLc0m3nKYajFkXiDHNnUmh9_KCqXuL0UXYwgpPZjxIKR1aBAmi2OUR7Yy4YuznWWgEnhY3ASZ3NZMCuDiYiSOwrFuLmnHyb', 0.0), ('https://lh3.googleusercontent.com/AMQw24X1GX6Qk889TM7RPBII_On9ZYkb659nR4FtpkIOyRPTekvOfUyT-WQKBF6T4KzfU0NfdtUjL08nOvSZNU9T6zmLhWMd2Hmbknflpum6j4EPnU6h_fwicmXTdpkG7BuyXT5w', 0.0), ('https://fampay.in/blog/content/images/2020/09/FamCard-Gif.gif', 0.130859375), ('https://lh6.googleusercontent.com/o7mjfMHsRuw69AAXWdXlR4KX1KX-3uLXcUn9YAA3ZzjltwzBvkGvj6qZFiXidkaHOyNai8p-Z6SQvwnI0JAqAGOiEKcJAudaNoKQqLf5qpbpLejP0F81PTeHLbYB5wO6cv6R8z3R', 0.0), ('https://lh4.googleusercontent.com/eoyhn3yta1IJ4rdVqMMrqUC-65JnpzYgWVezxpWvTkSv_SFiLBryjY9mkDhL1KWqxiC6_MX_GU4doD-ggQD5nSqZgP-twK1BGpTfRt-JNgauJznCgHMIZ25sl1tXX448mpR0pKFW', 0.0), ('https://lh4.googleusercontent.com/fgCqcoOXjburr79l71Ri6z_YQd3CflId3bwPwNXt5Yz3iaFk18nA2zWvZGsYHyl0LkCNDR14ygEndqiYC9fDkvaJSps4sInEsSZWqjNh266jG55AjGggNo5RK0NI5-6f4r9fvFTB', 0.0), ('https://lh6.googleusercontent.com/9Bgc0izm3oHYGIhGAC_Wr9o--9YskLTwPToUzXFXpp9ik1WXXskehOrx6O8m39KVgzAMQ3NwOJSh0BxXQgB4nAGcQWm7yjG66E7jTzmRlhdVdi5QQy2R9eVLyBvL8-KTyijPK1XG', 0.0), ('/blog/assets/images/success.png?v=22080dfa02', 0.130859375), ('https://cdn.jsdelivr.net/ghost/portal@~2.30/umd/portal.min.js', 170.8154296875), ('https://cdn.jsdelivr.net/ghost/sodo-search@~1.1/umd/sodo-search.min.js', 95.5751953125), ('/blog/public/cards.min.js?v=22080dfa02', 0.130859375), ('/blog/public/member-attribution.min.js?v=22080dfa02', 0.130859375), ('https://www.googletagmanager.com/gtag/js?id=UA-147725948-3', 0.0), ('https://polyfill.io/v3/polyfill.min.js?features=IntersectionObserver%2CPromise%2CArray.prototype.includes%2CString.prototype.endsWith%2CString.prototype.startsWith%2CObject.assign%2CNodeList.prototype.forEach', 14.1123046875), ('/blog/assets/js/vendor/content-api.min.js?v=22080dfa02', 0.130859375), ('/blog/assets/js/manifest.js?v=22080dfa02', 0.130859375), ('/blog/assets/js/vendor.js?v=22080dfa02', 0.130859375), ('/blog/assets/js/app.js?v=22080dfa02', 0.130859375), ('/blog/assets/js/post.js?v=22080dfa02', 0.130859375), ('/blog/assets/css/app.css?v=22080dfa02', 0.130859375), ('/blog/public/cards.min.css?v=22080dfa02', 0.130859375)]\n",
      "Analyzing 150 of 246: https://famapp.in/blog/curious-about-famcard-heres-everything-to-know/\n",
      "Page size: 42.482421875 KB\n",
      "Resource sizes: [('https://fampay.in/blog/content/images/2020/11/logofilewhite-11-2.png', 0.130859375), ('https://fampay.in/blog/content/images/2020/11/logofilewhite-11-2.png', 0.130859375), ('https://fampay.in/blog/content/images/2021/01/image-7.png', 0.130859375), ('https://fampay.in/blog/content/images/2021/01/image-8.png', 0.130859375), ('https://fampay.in/blog/content/images/2020/12/image-13.png', 0.130859375), ('https://fampay.in/blog/content/images/2021/01/image.png', 0.130859375), ('https://fampay.in/blog/content/images/2020/12/image-14.png', 0.130859375), ('/blog/assets/images/success.png?v=22080dfa02', 0.0), ('https://cdn.jsdelivr.net/ghost/portal@~2.30/umd/portal.min.js', 170.8154296875), ('https://cdn.jsdelivr.net/ghost/sodo-search@~1.1/umd/sodo-search.min.js', 95.5751953125), ('/blog/public/cards.min.js?v=22080dfa02', 0.0), ('/blog/public/member-attribution.min.js?v=22080dfa02', 0.0), ('https://www.googletagmanager.com/gtag/js?id=UA-147725948-3', 0.0), ('https://polyfill.io/v3/polyfill.min.js?features=IntersectionObserver%2CPromise%2CArray.prototype.includes%2CString.prototype.endsWith%2CString.prototype.startsWith%2CObject.assign%2CNodeList.prototype.forEach', 14.1123046875), ('/blog/assets/js/vendor/content-api.min.js?v=22080dfa02', 0.0), ('/blog/assets/js/manifest.js?v=22080dfa02', 0.0), ('/blog/assets/js/vendor.js?v=22080dfa02', 0.0), ('/blog/assets/js/app.js?v=22080dfa02', 0.0), ('/blog/assets/js/post.js?v=22080dfa02', 0.0), ('/blog/assets/css/app.css?v=22080dfa02', 0.0), ('/blog/public/cards.min.css?v=22080dfa02', 0.0)]\n",
      "Analyzing 151 of 246: https://fampay.in/blog/famcard-your-first-debit-card/\n",
      "Page size: 20.0771484375 KB\n",
      "Resource sizes: [('https://fampay.in/blog/content/images/2020/11/logofilewhite-11-2.png', 0.130859375), ('https://fampay.in/blog/content/images/2020/11/logofilewhite-11-2.png', 0.130859375), ('https://cdn.jsdelivr.net/ghost/portal@~2.30/umd/portal.min.js', 170.8154296875), ('https://cdn.jsdelivr.net/ghost/sodo-search@~1.1/umd/sodo-search.min.js', 95.5751953125), ('/blog/public/cards.min.js?v=22080dfa02', 0.130859375), ('/blog/public/member-attribution.min.js?v=22080dfa02', 0.130859375), ('https://www.googletagmanager.com/gtag/js?id=UA-147725948-3', 0.0), ('https://polyfill.io/v3/polyfill.min.js?features=IntersectionObserver%2CPromise%2CArray.prototype.includes%2CString.prototype.endsWith%2CString.prototype.startsWith%2CObject.assign%2CNodeList.prototype.forEach', 14.1123046875), ('/blog/assets/js/vendor/content-api.min.js?v=22080dfa02', 0.130859375), ('/blog/assets/js/manifest.js?v=22080dfa02', 0.130859375), ('/blog/assets/js/vendor.js?v=22080dfa02', 0.130859375), ('/blog/assets/js/app.js?v=22080dfa02', 0.130859375), ('/blog/assets/css/app.css?v=22080dfa02', 0.130859375), ('/blog/public/cards.min.css?v=22080dfa02', 0.130859375)]\n",
      "Analyzing 152 of 246: https://fampay.in/blog/everything-you-need-to-know-about-our-numberless-card/\n",
      "Page size: 45.775390625 KB\n",
      "Resource sizes: [('https://fampay.in/blog/content/images/2020/11/logofilewhite-11-2.png', 0.130859375), ('https://fampay.in/blog/content/images/2020/11/logofilewhite-11-2.png', 0.130859375), ('https://fampay.in/blog/content/images/2020/07/CardInstagramPR--1-.png', 0.130859375), ('https://fampay.in/blog/content/images/2020/07/security.gif', 0.130859375), ('https://fampay.in/blog/content/images/2020/07/contactless.gif', 0.130859375), ('https://fampay.in/blog/content/images/2020/07/nofrills.gif', 0.130859375), ('/blog/assets/images/success.png?v=22080dfa02', 0.130859375), ('https://cdn.jsdelivr.net/ghost/portal@~2.30/umd/portal.min.js', 170.8154296875), ('https://cdn.jsdelivr.net/ghost/sodo-search@~1.1/umd/sodo-search.min.js', 95.5751953125), ('/blog/public/cards.min.js?v=22080dfa02', 0.130859375), ('/blog/public/member-attribution.min.js?v=22080dfa02', 0.130859375), ('https://www.googletagmanager.com/gtag/js?id=UA-147725948-3', 0.0), ('https://platform.twitter.com/widgets.js', 91.0537109375), ('https://polyfill.io/v3/polyfill.min.js?features=IntersectionObserver%2CPromise%2CArray.prototype.includes%2CString.prototype.endsWith%2CString.prototype.startsWith%2CObject.assign%2CNodeList.prototype.forEach', 14.1123046875), ('/blog/assets/js/vendor/content-api.min.js?v=22080dfa02', 0.130859375), ('/blog/assets/js/manifest.js?v=22080dfa02', 0.130859375), ('/blog/assets/js/vendor.js?v=22080dfa02', 0.130859375), ('/blog/assets/js/app.js?v=22080dfa02', 0.130859375), ('/blog/assets/js/post.js?v=22080dfa02', 0.130859375), ('/blog/assets/css/app.css?v=22080dfa02', 0.130859375), ('/blog/public/cards.min.css?v=22080dfa02', 0.130859375)]\n",
      "Analyzing 153 of 246: https://famapp.in/blog/writing-content-for-a-content-saturated-generation/\n",
      "Page size: 48.61328125 KB\n",
      "Resource sizes: [('https://fampay.in/blog/content/images/2020/11/logofilewhite-11-2.png', 0.130859375), ('https://fampay.in/blog/content/images/2020/11/logofilewhite-11-2.png', 0.130859375), ('https://fampay.in/blog/content/images/2021/01/content.gif', 0.130859375), ('https://fampay.in/blog/content/images/2021/01/Untitled.png', 0.130859375), ('https://fampay.in/blog/content/images/2021/01/Untitled--1-.png', 0.130859375), ('https://fampay.in/blog/content/images/2021/01/Untitled--2-.png', 0.130859375), ('https://fampay.in/blog/content/images/2021/01/Untitled--3-.png', 0.130859375), ('https://fampay.in/blog/content/images/2021/01/Untitled--4-.png', 0.130859375), ('https://fampay.in/blog/content/images/2021/01/WhatsApp-Image-2021-01-14-at-11.54.50-AM--1-.jpeg', 0.130859375), ('https://fampay.in/blog/content/images/2021/01/WhatsApp-Image-2021-01-14-at-11.54.50-AM-1.jpeg', 0.130859375), ('https://fampay.in/blog/content/images/2021/01/Untitled--5-.png', 0.130859375), ('https://fampay.in/blog/content/images/2021/01/Untitled--6-.png', 0.130859375), ('https://fampay.in/blog/content/images/2021/01/Untitled--7-.png', 0.130859375), ('/blog/assets/images/success.png?v=22080dfa02', 0.0), ('https://cdn.jsdelivr.net/ghost/portal@~2.30/umd/portal.min.js', 170.8154296875), ('https://cdn.jsdelivr.net/ghost/sodo-search@~1.1/umd/sodo-search.min.js', 95.5751953125), ('/blog/public/cards.min.js?v=22080dfa02', 0.0), ('/blog/public/member-attribution.min.js?v=22080dfa02', 0.0), ('https://www.googletagmanager.com/gtag/js?id=UA-147725948-3', 0.0), ('https://polyfill.io/v3/polyfill.min.js?features=IntersectionObserver%2CPromise%2CArray.prototype.includes%2CString.prototype.endsWith%2CString.prototype.startsWith%2CObject.assign%2CNodeList.prototype.forEach', 14.1123046875), ('/blog/assets/js/vendor/content-api.min.js?v=22080dfa02', 0.0), ('/blog/assets/js/manifest.js?v=22080dfa02', 0.0), ('/blog/assets/js/vendor.js?v=22080dfa02', 0.0), ('/blog/assets/js/app.js?v=22080dfa02', 0.0), ('/blog/assets/js/post.js?v=22080dfa02', 0.0), ('/blog/assets/css/app.css?v=22080dfa02', 0.0), ('/blog/public/cards.min.css?v=22080dfa02', 0.0)]\n",
      "Analyzing 154 of 246: https://famapp.in/blog/how-to-grow-your-instagram-followers-a-quick-guide-for-all-genz-brands/\n",
      "Page size: 47.2783203125 KB\n",
      "Resource sizes: [('https://fampay.in/blog/content/images/2020/11/logofilewhite-11-2.png', 0.130859375), ('https://fampay.in/blog/content/images/2020/11/logofilewhite-11-2.png', 0.130859375), ('https://fampay.in/blog/content/images/2020/12/image-5.png', 0.130859375), ('https://fampay.in/blog/content/images/2020/12/image-6.png', 0.130859375), ('https://fampay.in/blog/content/images/2020/12/image-12.png', 0.130859375), ('https://fampay.in/blog/content/images/2020/12/image-7.png', 0.130859375), ('https://fampay.in/blog/content/images/2020/12/image-8.png', 0.130859375), ('https://fampay.in/blog/content/images/2020/12/image-9.png', 0.130859375), ('https://fampay.in/blog/content/images/2020/12/image-10.png', 0.130859375), ('https://fampay.in/blog/content/images/2020/12/image-11.png', 0.130859375), ('/blog/assets/images/success.png?v=22080dfa02', 0.0), ('https://cdn.jsdelivr.net/ghost/portal@~2.30/umd/portal.min.js', 170.8154296875), ('https://cdn.jsdelivr.net/ghost/sodo-search@~1.1/umd/sodo-search.min.js', 95.5751953125), ('/blog/public/cards.min.js?v=22080dfa02', 0.0), ('/blog/public/member-attribution.min.js?v=22080dfa02', 0.0), ('https://www.googletagmanager.com/gtag/js?id=UA-147725948-3', 0.0), ('https://polyfill.io/v3/polyfill.min.js?features=IntersectionObserver%2CPromise%2CArray.prototype.includes%2CString.prototype.endsWith%2CString.prototype.startsWith%2CObject.assign%2CNodeList.prototype.forEach', 14.1123046875), ('/blog/assets/js/vendor/content-api.min.js?v=22080dfa02', 0.0), ('/blog/assets/js/manifest.js?v=22080dfa02', 0.0), ('/blog/assets/js/vendor.js?v=22080dfa02', 0.0), ('/blog/assets/js/app.js?v=22080dfa02', 0.0), ('/blog/assets/js/post.js?v=22080dfa02', 0.0), ('/blog/assets/css/app.css?v=22080dfa02', 0.0), ('/blog/public/cards.min.css?v=22080dfa02', 0.0)]\n",
      "Analyzing 155 of 246: https://famapp.in/blog/why-do-online-payments-get-stuck-and-what-can-you-do/\n",
      "Page size: 40.4560546875 KB\n",
      "Resource sizes: [('https://fampay.in/blog/content/images/2020/11/logofilewhite-11-2.png', 0.130859375), ('https://fampay.in/blog/content/images/2020/11/logofilewhite-11-2.png', 0.130859375), ('https://fampay.in/blog/content/images/2020/12/payment-processing-with-bank-1.PNG', 0.130859375), ('/blog/assets/images/success.png?v=22080dfa02', 0.0), ('https://cdn.jsdelivr.net/ghost/portal@~2.30/umd/portal.min.js', 170.8154296875), ('https://cdn.jsdelivr.net/ghost/sodo-search@~1.1/umd/sodo-search.min.js', 95.5751953125), ('/blog/public/cards.min.js?v=22080dfa02', 0.0), ('/blog/public/member-attribution.min.js?v=22080dfa02', 0.0), ('https://www.googletagmanager.com/gtag/js?id=UA-147725948-3', 0.0), ('https://polyfill.io/v3/polyfill.min.js?features=IntersectionObserver%2CPromise%2CArray.prototype.includes%2CString.prototype.endsWith%2CString.prototype.startsWith%2CObject.assign%2CNodeList.prototype.forEach', 14.1123046875), ('/blog/assets/js/vendor/content-api.min.js?v=22080dfa02', 0.0), ('/blog/assets/js/manifest.js?v=22080dfa02', 0.0), ('/blog/assets/js/vendor.js?v=22080dfa02', 0.0), ('/blog/assets/js/app.js?v=22080dfa02', 0.0), ('/blog/assets/js/post.js?v=22080dfa02', 0.0), ('/blog/assets/css/app.css?v=22080dfa02', 0.0), ('/blog/public/cards.min.css?v=22080dfa02', 0.0)]\n",
      "Analyzing 156 of 246: https://famapp.in/blog/tag/famsays/page/3/\n",
      "Page size: 29.7353515625 KB\n",
      "Resource sizes: [('https://fampay.in/blog/content/images/2020/11/logofilewhite-11-2.png', 0.130859375), ('https://fampay.in/blog/content/images/2020/11/logofilewhite-11-2.png', 0.130859375), ('https://cdn.jsdelivr.net/ghost/portal@~2.30/umd/portal.min.js', 170.8154296875), ('https://cdn.jsdelivr.net/ghost/sodo-search@~1.1/umd/sodo-search.min.js', 95.5751953125), ('/blog/public/cards.min.js?v=22080dfa02', 0.0), ('/blog/public/member-attribution.min.js?v=22080dfa02', 0.0), ('https://www.googletagmanager.com/gtag/js?id=UA-147725948-3', 0.0), ('https://polyfill.io/v3/polyfill.min.js?features=IntersectionObserver%2CPromise%2CArray.prototype.includes%2CString.prototype.endsWith%2CString.prototype.startsWith%2CObject.assign%2CNodeList.prototype.forEach', 14.1123046875), ('/blog/assets/js/vendor/content-api.min.js?v=22080dfa02', 0.0), ('/blog/assets/js/manifest.js?v=22080dfa02', 0.0), ('/blog/assets/js/vendor.js?v=22080dfa02', 0.0), ('/blog/assets/js/app.js?v=22080dfa02', 0.0), ('/blog/assets/css/app.css?v=22080dfa02', 0.0), ('/blog/public/cards.min.css?v=22080dfa02', 0.0)]\n",
      "Analyzing 157 of 246: https://famapp.in/blog/researching-the-unresearched-genzs/\n",
      "Page size: 43.04296875 KB\n",
      "Resource sizes: [('https://fampay.in/blog/content/images/2020/11/logofilewhite-11-2.png', 0.130859375), ('https://fampay.in/blog/content/images/2020/11/logofilewhite-11-2.png', 0.130859375), ('https://fampay.in/blog/content/images/2020/12/image-2.png', 0.130859375), ('https://lh4.googleusercontent.com/RxBAgouZzfs8glGP6BgBTPXhsYoAKXqDRU6Cc5gOmk41v7goDfLfuZSKZPc6E6vgmBWxG5WzipSH5Mrk7lS9erKd1_5TGs2XgCcZKQdUOVXv5zqKvlgjg5bhDyCFSN_KITQQH2G3', 0.0), ('https://fampay.in/blog/content/images/2020/12/image.png', 0.130859375), ('https://fampay.in/blog/content/images/2020/12/image-3.png', 0.130859375), ('https://fampay.in/blog/content/images/2020/12/image-4.png', 0.130859375), ('/blog/assets/images/success.png?v=22080dfa02', 0.0), ('https://cdn.jsdelivr.net/ghost/portal@~2.30/umd/portal.min.js', 170.8154296875), ('https://cdn.jsdelivr.net/ghost/sodo-search@~1.1/umd/sodo-search.min.js', 95.5751953125), ('/blog/public/cards.min.js?v=22080dfa02', 0.0), ('/blog/public/member-attribution.min.js?v=22080dfa02', 0.0), ('https://www.googletagmanager.com/gtag/js?id=UA-147725948-3', 0.0), ('https://polyfill.io/v3/polyfill.min.js?features=IntersectionObserver%2CPromise%2CArray.prototype.includes%2CString.prototype.endsWith%2CString.prototype.startsWith%2CObject.assign%2CNodeList.prototype.forEach', 14.1123046875), ('/blog/assets/js/vendor/content-api.min.js?v=22080dfa02', 0.0), ('/blog/assets/js/manifest.js?v=22080dfa02', 0.0), ('/blog/assets/js/vendor.js?v=22080dfa02', 0.0), ('/blog/assets/js/app.js?v=22080dfa02', 0.0), ('/blog/assets/js/post.js?v=22080dfa02', 0.0), ('/blog/assets/css/app.css?v=22080dfa02', 0.0), ('/blog/public/cards.min.css?v=22080dfa02', 0.0)]\n",
      "Analyzing 158 of 246: https://famapp.in/blog/building-indias-first-genz-teen-exclusive-community/\n",
      "Page size: 46.37890625 KB\n",
      "Resource sizes: [('https://fampay.in/blog/content/images/2020/11/logofilewhite-11-2.png', 0.130859375), ('https://fampay.in/blog/content/images/2020/11/logofilewhite-11-2.png', 0.130859375), ('https://lh5.googleusercontent.com/F5vA6alvKazmPqPYbvO7RGvOMqPC5lbyDfPcgfF-pg4waTr9oMUI3nN5Y0wUa6C-Fm8TFBnkNqI395YcnO8Yafo61FROWPLZ2JHv2vk7MxvA4VVwX3tDvhzccx6wHndwLbkUz5eR', 0.0), ('https://lh4.googleusercontent.com/aUW-PdSqXpMlhPi8n2j3FMGI6FwMYChKVuceDpfmBJLc0m3nKYajFkXiDHNnUmh9_KCqXuL0UXYwgpPZjxIKR1aBAmi2OUR7Yy4YuznWWgEnhY3ASZ3NZMCuDiYiSOwrFuLmnHyb', 0.0), ('https://lh3.googleusercontent.com/AMQw24X1GX6Qk889TM7RPBII_On9ZYkb659nR4FtpkIOyRPTekvOfUyT-WQKBF6T4KzfU0NfdtUjL08nOvSZNU9T6zmLhWMd2Hmbknflpum6j4EPnU6h_fwicmXTdpkG7BuyXT5w', 0.0), ('https://fampay.in/blog/content/images/2020/09/FamCard-Gif.gif', 0.130859375), ('https://lh6.googleusercontent.com/o7mjfMHsRuw69AAXWdXlR4KX1KX-3uLXcUn9YAA3ZzjltwzBvkGvj6qZFiXidkaHOyNai8p-Z6SQvwnI0JAqAGOiEKcJAudaNoKQqLf5qpbpLejP0F81PTeHLbYB5wO6cv6R8z3R', 0.0), ('https://lh4.googleusercontent.com/eoyhn3yta1IJ4rdVqMMrqUC-65JnpzYgWVezxpWvTkSv_SFiLBryjY9mkDhL1KWqxiC6_MX_GU4doD-ggQD5nSqZgP-twK1BGpTfRt-JNgauJznCgHMIZ25sl1tXX448mpR0pKFW', 0.0), ('https://lh4.googleusercontent.com/fgCqcoOXjburr79l71Ri6z_YQd3CflId3bwPwNXt5Yz3iaFk18nA2zWvZGsYHyl0LkCNDR14ygEndqiYC9fDkvaJSps4sInEsSZWqjNh266jG55AjGggNo5RK0NI5-6f4r9fvFTB', 0.0), ('https://lh6.googleusercontent.com/9Bgc0izm3oHYGIhGAC_Wr9o--9YskLTwPToUzXFXpp9ik1WXXskehOrx6O8m39KVgzAMQ3NwOJSh0BxXQgB4nAGcQWm7yjG66E7jTzmRlhdVdi5QQy2R9eVLyBvL8-KTyijPK1XG', 0.0), ('/blog/assets/images/success.png?v=22080dfa02', 0.0), ('https://cdn.jsdelivr.net/ghost/portal@~2.30/umd/portal.min.js', 170.8154296875), ('https://cdn.jsdelivr.net/ghost/sodo-search@~1.1/umd/sodo-search.min.js', 95.5751953125), ('/blog/public/cards.min.js?v=22080dfa02', 0.0), ('/blog/public/member-attribution.min.js?v=22080dfa02', 0.0), ('https://www.googletagmanager.com/gtag/js?id=UA-147725948-3', 0.0), ('https://polyfill.io/v3/polyfill.min.js?features=IntersectionObserver%2CPromise%2CArray.prototype.includes%2CString.prototype.endsWith%2CString.prototype.startsWith%2CObject.assign%2CNodeList.prototype.forEach', 14.1123046875), ('/blog/assets/js/vendor/content-api.min.js?v=22080dfa02', 0.0), ('/blog/assets/js/manifest.js?v=22080dfa02', 0.0), ('/blog/assets/js/vendor.js?v=22080dfa02', 0.0), ('/blog/assets/js/app.js?v=22080dfa02', 0.0), ('/blog/assets/js/post.js?v=22080dfa02', 0.0), ('/blog/assets/css/app.css?v=22080dfa02', 0.0), ('/blog/public/cards.min.css?v=22080dfa02', 0.0)]\n",
      "Analyzing 159 of 246: https://famapp.in/blog/journey-to-the-centre-of-100k-downloads/\n",
      "Page size: 70.6064453125 KB\n",
      "Resource sizes: [('https://fampay.in/blog/content/images/2020/11/logofilewhite-11-2.png', 0.130859375), ('https://fampay.in/blog/content/images/2020/11/logofilewhite-11-2.png', 0.130859375), ('https://fampay.in/blog/content/images/2020/10/2--1--1.png', 0.130859375), ('/blog/assets/images/success.png?v=22080dfa02', 0.0), ('https://cdn.jsdelivr.net/ghost/portal@~2.30/umd/portal.min.js', 170.8154296875), ('https://cdn.jsdelivr.net/ghost/sodo-search@~1.1/umd/sodo-search.min.js', 95.5751953125), ('/blog/public/cards.min.js?v=22080dfa02', 0.0), ('/blog/public/member-attribution.min.js?v=22080dfa02', 0.0), ('https://www.googletagmanager.com/gtag/js?id=UA-147725948-3', 0.0), ('//www.instagram.com/embed.js', 0.0), ('//www.instagram.com/embed.js', 0.0), ('//www.instagram.com/embed.js', 0.0), ('//www.instagram.com/embed.js', 0.0), ('https://polyfill.io/v3/polyfill.min.js?features=IntersectionObserver%2CPromise%2CArray.prototype.includes%2CString.prototype.endsWith%2CString.prototype.startsWith%2CObject.assign%2CNodeList.prototype.forEach', 14.1123046875), ('/blog/assets/js/vendor/content-api.min.js?v=22080dfa02', 0.0), ('/blog/assets/js/manifest.js?v=22080dfa02', 0.0), ('/blog/assets/js/vendor.js?v=22080dfa02', 0.0), ('/blog/assets/js/app.js?v=22080dfa02', 0.0), ('/blog/assets/js/post.js?v=22080dfa02', 0.0), ('/blog/assets/css/app.css?v=22080dfa02', 0.0), ('/blog/public/cards.min.css?v=22080dfa02', 0.0)]\n",
      "Analyzing 160 of 246: https://famapp.in/blog/tag/growth/\n",
      "Page size: 36.1044921875 KB\n",
      "Resource sizes: [('https://fampay.in/blog/content/images/2020/11/logofilewhite-11-2.png', 0.130859375), ('https://fampay.in/blog/content/images/2020/11/logofilewhite-11-2.png', 0.130859375), ('https://cdn.jsdelivr.net/ghost/portal@~2.30/umd/portal.min.js', 170.8154296875), ('https://cdn.jsdelivr.net/ghost/sodo-search@~1.1/umd/sodo-search.min.js', 95.5751953125), ('/blog/public/cards.min.js?v=22080dfa02', 0.0), ('/blog/public/member-attribution.min.js?v=22080dfa02', 0.0), ('https://www.googletagmanager.com/gtag/js?id=UA-147725948-3', 0.0), ('https://polyfill.io/v3/polyfill.min.js?features=IntersectionObserver%2CPromise%2CArray.prototype.includes%2CString.prototype.endsWith%2CString.prototype.startsWith%2CObject.assign%2CNodeList.prototype.forEach', 14.1123046875), ('/blog/assets/js/vendor/content-api.min.js?v=22080dfa02', 0.0), ('/blog/assets/js/manifest.js?v=22080dfa02', 0.0), ('/blog/assets/js/vendor.js?v=22080dfa02', 0.0), ('/blog/assets/js/app.js?v=22080dfa02', 0.0), ('/blog/assets/css/app.css?v=22080dfa02', 0.0), ('/blog/public/cards.min.css?v=22080dfa02', 0.0)]\n",
      "Analyzing 161 of 246: https://famapp.in/blog/tag/growth/page/2/\n",
      "Page size: 24.853515625 KB\n",
      "Resource sizes: [('https://fampay.in/blog/content/images/2020/11/logofilewhite-11-2.png', 0.130859375), ('https://fampay.in/blog/content/images/2020/11/logofilewhite-11-2.png', 0.130859375), ('https://cdn.jsdelivr.net/ghost/portal@~2.30/umd/portal.min.js', 170.8154296875), ('https://cdn.jsdelivr.net/ghost/sodo-search@~1.1/umd/sodo-search.min.js', 95.5751953125), ('/blog/public/cards.min.js?v=22080dfa02', 0.0), ('/blog/public/member-attribution.min.js?v=22080dfa02', 0.0), ('https://www.googletagmanager.com/gtag/js?id=UA-147725948-3', 0.0), ('https://polyfill.io/v3/polyfill.min.js?features=IntersectionObserver%2CPromise%2CArray.prototype.includes%2CString.prototype.endsWith%2CString.prototype.startsWith%2CObject.assign%2CNodeList.prototype.forEach', 14.1123046875), ('/blog/assets/js/vendor/content-api.min.js?v=22080dfa02', 0.0), ('/blog/assets/js/manifest.js?v=22080dfa02', 0.0), ('/blog/assets/js/vendor.js?v=22080dfa02', 0.0), ('/blog/assets/js/app.js?v=22080dfa02', 0.0), ('/blog/assets/css/app.css?v=22080dfa02', 0.0), ('/blog/public/cards.min.css?v=22080dfa02', 0.0)]\n",
      "Analyzing 162 of 246: https://famapp.in/blog/tag/lifestyle/\n",
      "Page size: 36.31640625 KB\n",
      "Resource sizes: [('https://fampay.in/blog/content/images/2020/11/logofilewhite-11-2.png', 0.130859375), ('https://fampay.in/blog/content/images/2020/11/logofilewhite-11-2.png', 0.130859375), ('https://cdn.jsdelivr.net/ghost/portal@~2.30/umd/portal.min.js', 170.8154296875), ('https://cdn.jsdelivr.net/ghost/sodo-search@~1.1/umd/sodo-search.min.js', 95.5751953125), ('/blog/public/cards.min.js?v=22080dfa02', 0.0), ('/blog/public/member-attribution.min.js?v=22080dfa02', 0.0), ('https://www.googletagmanager.com/gtag/js?id=UA-147725948-3', 0.0), ('https://polyfill.io/v3/polyfill.min.js?features=IntersectionObserver%2CPromise%2CArray.prototype.includes%2CString.prototype.endsWith%2CString.prototype.startsWith%2CObject.assign%2CNodeList.prototype.forEach', 14.1123046875), ('/blog/assets/js/vendor/content-api.min.js?v=22080dfa02', 0.0), ('/blog/assets/js/manifest.js?v=22080dfa02', 0.0), ('/blog/assets/js/vendor.js?v=22080dfa02', 0.0), ('/blog/assets/js/app.js?v=22080dfa02', 0.0), ('/blog/assets/css/app.css?v=22080dfa02', 0.0), ('/blog/public/cards.min.css?v=22080dfa02', 0.0)]\n",
      "Analyzing 163 of 246: https://famapp.in/blog/decor-ideas-that-would-transform-your-room-at-home-or-hostel/\n",
      "Page size: 40.7919921875 KB\n",
      "Resource sizes: [('https://fampay.in/blog/content/images/2020/11/logofilewhite-11-2.png', 0.130859375), ('https://fampay.in/blog/content/images/2020/11/logofilewhite-11-2.png', 0.130859375), ('https://fampay.in/blog/content/images/2021/09/image-20.png', 0.130859375), ('https://fampay.in/blog/content/images/2021/09/image-21.png', 0.130859375), ('https://fampay.in/blog/content/images/2021/09/image-22.png', 0.130859375), ('https://fampay.in/blog/content/images/2021/09/image-23.png', 0.130859375), ('/blog/assets/images/success.png?v=22080dfa02', 0.0), ('https://cdn.jsdelivr.net/ghost/portal@~2.30/umd/portal.min.js', 170.8154296875), ('https://cdn.jsdelivr.net/ghost/sodo-search@~1.1/umd/sodo-search.min.js', 95.5751953125), ('/blog/public/cards.min.js?v=22080dfa02', 0.0), ('/blog/public/member-attribution.min.js?v=22080dfa02', 0.0), ('https://www.googletagmanager.com/gtag/js?id=UA-147725948-3', 0.0), ('https://polyfill.io/v3/polyfill.min.js?features=IntersectionObserver%2CPromise%2CArray.prototype.includes%2CString.prototype.endsWith%2CString.prototype.startsWith%2CObject.assign%2CNodeList.prototype.forEach', 14.1123046875), ('/blog/assets/js/vendor/content-api.min.js?v=22080dfa02', 0.0), ('/blog/assets/js/manifest.js?v=22080dfa02', 0.0), ('/blog/assets/js/vendor.js?v=22080dfa02', 0.0), ('/blog/assets/js/app.js?v=22080dfa02', 0.0), ('/blog/assets/js/post.js?v=22080dfa02', 0.0), ('/blog/assets/css/app.css?v=22080dfa02', 0.0), ('/blog/public/cards.min.css?v=22080dfa02', 0.0)]\n",
      "Analyzing 164 of 246: https://famapp.in/blog/the-most-beautiful-college-campuses-in-india/\n",
      "Page size: 41.4248046875 KB\n",
      "Resource sizes: [('https://fampay.in/blog/content/images/2020/11/logofilewhite-11-2.png', 0.130859375), ('https://fampay.in/blog/content/images/2020/11/logofilewhite-11-2.png', 0.130859375), ('https://fampay.in/blog/content/images/2021/09/image-14.png', 0.130859375), ('https://fampay.in/blog/content/images/2021/09/Untitled--1-.png', 0.130859375), ('https://fampay.in/blog/content/images/2021/09/Untitled--2-.png', 0.130859375), ('https://fampay.in/blog/content/images/2021/09/image-15.png', 0.130859375), ('https://fampay.in/blog/content/images/2021/09/image-16.png', 0.130859375), ('https://fampay.in/blog/content/images/2021/09/image-19.png', 0.130859375), ('https://fampay.in/blog/content/images/2021/09/image-17.png', 0.130859375), ('https://fampay.in/blog/content/images/2021/09/image-18.png', 0.130859375), ('/blog/assets/images/success.png?v=22080dfa02', 0.0), ('https://cdn.jsdelivr.net/ghost/portal@~2.30/umd/portal.min.js', 170.8154296875), ('https://cdn.jsdelivr.net/ghost/sodo-search@~1.1/umd/sodo-search.min.js', 95.5751953125), ('/blog/public/cards.min.js?v=22080dfa02', 0.0), ('/blog/public/member-attribution.min.js?v=22080dfa02', 0.0), ('https://www.googletagmanager.com/gtag/js?id=UA-147725948-3', 0.0), ('https://polyfill.io/v3/polyfill.min.js?features=IntersectionObserver%2CPromise%2CArray.prototype.includes%2CString.prototype.endsWith%2CString.prototype.startsWith%2CObject.assign%2CNodeList.prototype.forEach', 14.1123046875), ('/blog/assets/js/vendor/content-api.min.js?v=22080dfa02', 0.0), ('/blog/assets/js/manifest.js?v=22080dfa02', 0.0), ('/blog/assets/js/vendor.js?v=22080dfa02', 0.0), ('/blog/assets/js/app.js?v=22080dfa02', 0.0), ('/blog/assets/js/post.js?v=22080dfa02', 0.0), ('/blog/assets/css/app.css?v=22080dfa02', 0.0), ('/blog/public/cards.min.css?v=22080dfa02', 0.0)]\n",
      "Analyzing 165 of 246: https://famapp.in/blog/every-little-thing-counts-ways-in-which-you-can-contribute-to-society-as-a-teenager/\n",
      "Page size: 51.251953125 KB\n",
      "Resource sizes: [('https://fampay.in/blog/content/images/2020/11/logofilewhite-11-2.png', 0.130859375), ('https://fampay.in/blog/content/images/2020/11/logofilewhite-11-2.png', 0.130859375), ('https://lh3.googleusercontent.com/Az971UxWV_0MqS-FqzYz8-hbRhAYQSUmNAXbPNNGizBS6OloYb2Wo1qemWFRiELjYTxDvcrT7amvB0IbAd58B-k1KRlj6ZA7LapKTcmdzwUtWFja0mZ6CN9dUlxMrNzRupzhHKw', 53.2119140625), ('https://lh4.googleusercontent.com/dRtMm9xbHyXCjulPDrwm6xxbPUOEsaz7P-1LBSAMlOUgUsVn2gywA1l5hPfaAhJUhNnCU58nkVbOjh1JwVNLzlsMhva-4KO9jST0eECFKEJaRDcZiGJAebldJBNAr2fZkDpJ0kk', 145.353515625), ('https://lh6.googleusercontent.com/HBMv9UxJATlLsse67JWLFcg81aVgmjUA_u5ANkMhUumvXcvwechuX9tQGcMSVb0xz2lqR4DHLJWGQpTCUbFLU9J9ugz0mXHV64cLuM109J4N4Br2r55b_MqMrcb716OO5ZFgjjY', 11.087890625), ('https://static-exp3.licdn.com/scds/common/u/images/logos/favicons/v1/favicon.ico', 0.0517578125), ('https://static-exp3.licdn.com/sc/h/c45fy346jw096z9pbphyyhdz7', 0.0), ('https://lh4.googleusercontent.com/Tqn1LhWRewDR_t7ff7C3KAtORmEHhQBtxXQF2QkDhg5Ru4HItSBhVGV1VFj3-NQzRE0pC5O4nlMpMto-COYbBMl073ZZZE1yxFyLESVKrEouGxx3jhEi-45XJNu11ACg8_ro9Vg', 13.9853515625), ('https://lh5.googleusercontent.com/Tm_cpPrp68ckI7WtGNdOcSXoOmZ0ognKL9W28OPJFZ5p_eLZUTMRgkDxiWiuHnU9QDl4PYr43uvQwTmrrdBqqQvPR4u1oJ1-B94AAI68O505S-8VOfm9nh-jX76vhaPj9An410w', 10.568359375), ('https://lh5.googleusercontent.com/2-UbfF7-nGxEjXIYuLKBz7EBuHiv3FcwofFwhR74ZFuphmnuP2pkkKuD7_HoPimehHXwyd2BVA03R-XKiZExn1k2DKHr6GVU4JfltlTl0LQE_JuLe7-U5SAALXR5vwtiTrsYU44', 37.7275390625), ('https://lh5.googleusercontent.com/XvlS8tnmr_Z7NwOtNk0pCay41DiMJmB9d8-pcsWYZxKCAaeUpBH7Xgvx1Ytl5dXHi1ISJV3flSOvM4lhtPHV0VaILA52X59vQGu8JiW4IwRySP5fv9UoZnZqMGHjZJbHPWjn4S4', 142.8857421875), ('https://lh5.googleusercontent.com/oZiw_uWXuO9N2DmeuBF08tk1Y64zZzkI-0-P68F7hlhX8zQ53HUCOlqZ1_9xlcjGJqHxG0f-9Ya6rR5R6vYDki8ibUQ69RNIYLAj_CvmfI_XD-PtEIquL2fzeW5yD1dsftnFHLc', 13.248046875), ('https://lh4.googleusercontent.com/GErvDtOQpMwAhhFJI8pATha1KZri4qIIUe8re-uwiJUfMvzIA8cQ1OyMoh-DEFHh-XF8wR0iL2LZli7Zbxy4zkY5MSjLB9rzJ16BL4J1W5KE0y6BsYxyiW7bSU9XNbYEVrLYccI', 3.732421875), ('https://lh6.googleusercontent.com/x-tp4h53OY4-ZZmp8khfO7CvwEu5xU1ZvD_609NOgBKmiMQrf9E325jEcirlNlxEUPVOxICqrFeUAI6kU1Sh9I3nEEMN_C5ZwO88QBEgLEewqmFDREeAAIr1w-tEypDFwxMCHQE', 10.87109375), ('https://lh5.googleusercontent.com/ikFqZGOeAMxXdRTotYqw_pOBaLJSqDtMmhNKyrpiP2RW__QFB_kUDQPxpFPUlD18WIF4mcNUb-PJ7BmMSUmePc9NjTcXG1IsJxbtU7dMpPpFv5EDGVMVZ38H9GodsGrqJgd0sY0', 4.509765625), ('https://lh6.googleusercontent.com/5QreX6El7Md1jOLr5Z_irGRCWmNJ_R8buOVT1sdP_xY6NnUmtKzY68astAjV2aX-l67M_Yr_S40jmL2MjsVbmmmmJWrVHz1MVvAfC6QkofvJmSd3kWwNL5DGdbChK0Ew-hB3YzQ', 23.3076171875), ('https://lh5.googleusercontent.com/AlmGZgrp1Bo_LpPO3afx1y7ohSlZzO5mKPTkopl11ZGV5XSNYYXPr6MOsVIks0t_0aAp_T7FNRWr2KtKxnYeG6TgF1uhOCRGGKZWcZ3qd3BXC9F24MlBV4PnzyfBu6NLkUw_vp4', 0.0), ('https://lh4.googleusercontent.com/uAaC-lrbZObK0v4lnf79ndS3TkMDqLIjQJG1iupnct1VKJoLPWXoJ1QQICVFRYyOdoew726mbJqkf4JAcJoAih3qlBo3g6cCSnZzGI6XAGrGVfEqEmF5EWgXlWKMeTJYtbKFt-A', 16.7255859375), ('https://lh4.googleusercontent.com/h6JvnuwUb1eAYTwtktPCLHJOUudM2WDstMtj8CUQAIk0DFjStIKsxArCxQUtYNEj-8iHN2d7g-oL5Jj7Nyw05ZHq4WL4HFJR_3dp6KS2e83p0DYl2N4Ldqo5Bbo5tZQfZl2gzG8', 10.4541015625), ('/blog/assets/images/success.png?v=22080dfa02', 0.0), ('https://cdn.jsdelivr.net/ghost/portal@~2.30/umd/portal.min.js', 170.8154296875), ('https://cdn.jsdelivr.net/ghost/sodo-search@~1.1/umd/sodo-search.min.js', 95.5751953125), ('/blog/public/cards.min.js?v=22080dfa02', 0.0), ('/blog/public/member-attribution.min.js?v=22080dfa02', 0.0), ('https://www.googletagmanager.com/gtag/js?id=UA-147725948-3', 0.0), ('https://polyfill.io/v3/polyfill.min.js?features=IntersectionObserver%2CPromise%2CArray.prototype.includes%2CString.prototype.endsWith%2CString.prototype.startsWith%2CObject.assign%2CNodeList.prototype.forEach', 14.1123046875), ('/blog/assets/js/vendor/content-api.min.js?v=22080dfa02', 0.0), ('/blog/assets/js/manifest.js?v=22080dfa02', 0.0), ('/blog/assets/js/vendor.js?v=22080dfa02', 0.0), ('/blog/assets/js/app.js?v=22080dfa02', 0.0), ('/blog/assets/js/post.js?v=22080dfa02', 0.0), ('/blog/assets/css/app.css?v=22080dfa02', 0.0), ('/blog/public/cards.min.css?v=22080dfa02', 0.0)]\n",
      "Analyzing 166 of 246: https://famapp.in/blog/tag/lifestyle/page/2/\n",
      "Page size: 34.529296875 KB\n",
      "Resource sizes: [('https://fampay.in/blog/content/images/2020/11/logofilewhite-11-2.png', 0.130859375), ('https://fampay.in/blog/content/images/2020/11/logofilewhite-11-2.png', 0.130859375), ('https://cdn.jsdelivr.net/ghost/portal@~2.30/umd/portal.min.js', 170.8154296875), ('https://cdn.jsdelivr.net/ghost/sodo-search@~1.1/umd/sodo-search.min.js', 95.5751953125), ('/blog/public/cards.min.js?v=22080dfa02', 0.0), ('/blog/public/member-attribution.min.js?v=22080dfa02', 0.0), ('https://www.googletagmanager.com/gtag/js?id=UA-147725948-3', 0.0), ('https://polyfill.io/v3/polyfill.min.js?features=IntersectionObserver%2CPromise%2CArray.prototype.includes%2CString.prototype.endsWith%2CString.prototype.startsWith%2CObject.assign%2CNodeList.prototype.forEach', 14.1123046875), ('/blog/assets/js/vendor/content-api.min.js?v=22080dfa02', 0.0), ('/blog/assets/js/manifest.js?v=22080dfa02', 0.0), ('/blog/assets/js/vendor.js?v=22080dfa02', 0.0), ('/blog/assets/js/app.js?v=22080dfa02', 0.0), ('/blog/assets/css/app.css?v=22080dfa02', 0.0), ('/blog/public/cards.min.css?v=22080dfa02', 0.0)]\n",
      "Analyzing 167 of 246: https://famapp.in/blog/baddie-on-a-budget-budgeting-tricks-for-teens/\n",
      "Page size: 41.9375 KB\n",
      "Resource sizes: [('https://fampay.in/blog/content/images/2020/11/logofilewhite-11-2.png', 0.130859375), ('https://fampay.in/blog/content/images/2020/11/logofilewhite-11-2.png', 0.130859375), ('https://fampay.in/blog/content/images/2020/10/tenor-13.gif', 0.130859375), ('https://fampay.in/blog/content/images/2020/10/giphy-9.gif', 0.130859375), ('https://fampay.in/blog/content/images/2020/10/giphy-8.gif', 0.130859375), ('https://fampay.in/blog/content/images/2020/10/tenor-12.gif', 0.130859375), ('/blog/assets/images/success.png?v=22080dfa02', 0.0), ('https://cdn.jsdelivr.net/ghost/portal@~2.30/umd/portal.min.js', 170.8154296875), ('https://cdn.jsdelivr.net/ghost/sodo-search@~1.1/umd/sodo-search.min.js', 95.5751953125), ('/blog/public/cards.min.js?v=22080dfa02', 0.0), ('/blog/public/member-attribution.min.js?v=22080dfa02', 0.0), ('https://www.googletagmanager.com/gtag/js?id=UA-147725948-3', 0.0), ('https://polyfill.io/v3/polyfill.min.js?features=IntersectionObserver%2CPromise%2CArray.prototype.includes%2CString.prototype.endsWith%2CString.prototype.startsWith%2CObject.assign%2CNodeList.prototype.forEach', 14.1123046875), ('/blog/assets/js/vendor/content-api.min.js?v=22080dfa02', 0.0), ('/blog/assets/js/manifest.js?v=22080dfa02', 0.0), ('/blog/assets/js/vendor.js?v=22080dfa02', 0.0), ('/blog/assets/js/app.js?v=22080dfa02', 0.0), ('/blog/assets/js/post.js?v=22080dfa02', 0.0), ('/blog/assets/css/app.css?v=22080dfa02', 0.0), ('/blog/public/cards.min.css?v=22080dfa02', 0.0)]\n",
      "Analyzing 168 of 246: https://famapp.in/blog/5-habits-of-highly-successful-teens/\n",
      "Page size: 40.8818359375 KB\n",
      "Resource sizes: [('https://fampay.in/blog/content/images/2020/11/logofilewhite-11-2.png', 0.130859375), ('https://fampay.in/blog/content/images/2020/11/logofilewhite-11-2.png', 0.130859375), ('https://fampay.in/blog/content/images/2020/10/giphy-4.gif', 0.130859375), ('https://fampay.in/blog/content/images/2020/10/giphy-5.gif', 0.130859375), ('https://fampay.in/blog/content/images/2020/10/giphy-6.gif', 0.130859375), ('https://fampay.in/blog/content/images/2020/10/giphy-2-1.gif', 0.130859375), ('https://fampay.in/blog/content/images/2020/10/giphy-7.gif', 0.130859375), ('https://fampay.in/blog/content/images/2020/10/giphy-3-1.gif', 0.130859375), ('/blog/assets/images/success.png?v=22080dfa02', 0.0), ('https://cdn.jsdelivr.net/ghost/portal@~2.30/umd/portal.min.js', 170.8154296875), ('https://cdn.jsdelivr.net/ghost/sodo-search@~1.1/umd/sodo-search.min.js', 95.5751953125), ('/blog/public/cards.min.js?v=22080dfa02', 0.0), ('/blog/public/member-attribution.min.js?v=22080dfa02', 0.0), ('https://www.googletagmanager.com/gtag/js?id=UA-147725948-3', 0.0), ('https://polyfill.io/v3/polyfill.min.js?features=IntersectionObserver%2CPromise%2CArray.prototype.includes%2CString.prototype.endsWith%2CString.prototype.startsWith%2CObject.assign%2CNodeList.prototype.forEach', 14.1123046875), ('/blog/assets/js/vendor/content-api.min.js?v=22080dfa02', 0.0), ('/blog/assets/js/manifest.js?v=22080dfa02', 0.0), ('/blog/assets/js/vendor.js?v=22080dfa02', 0.0), ('/blog/assets/js/app.js?v=22080dfa02', 0.0), ('/blog/assets/js/post.js?v=22080dfa02', 0.0), ('/blog/assets/css/app.css?v=22080dfa02', 0.0), ('/blog/public/cards.min.css?v=22080dfa02', 0.0)]\n",
      "Analyzing 169 of 246: https://famapp.in/blog/mental-health-matters-5-things-to-remember-while-in-quarantine/\n",
      "Page size: 42.697265625 KB\n",
      "Resource sizes: [('https://fampay.in/blog/content/images/2020/11/logofilewhite-11-2.png', 0.130859375), ('https://fampay.in/blog/content/images/2020/11/logofilewhite-11-2.png', 0.130859375), ('https://fampay.in/blog/content/images/2020/10/giphy-1.gif', 0.130859375), ('https://fampay.in/blog/content/images/2020/10/giphy.gif', 0.130859375), ('https://fampay.in/blog/content/images/2020/10/IMG_3707_2_20_1_50.jpg', 0.130859375), ('https://fampay.in/blog/content/images/2020/10/tenor-3.gif', 0.130859375), ('https://fampay.in/blog/content/images/2020/10/tumblr_lm6vvcpwaW1qazdhko1_500.gif', 0.130859375), ('https://fampay.in/blog/content/images/2020/10/jJ8NnQ4.gif', 0.130859375), ('/blog/assets/images/success.png?v=22080dfa02', 0.0), ('https://cdn.jsdelivr.net/ghost/portal@~2.30/umd/portal.min.js', 170.8154296875), ('https://cdn.jsdelivr.net/ghost/sodo-search@~1.1/umd/sodo-search.min.js', 95.5751953125), ('/blog/public/cards.min.js?v=22080dfa02', 0.0), ('/blog/public/member-attribution.min.js?v=22080dfa02', 0.0), ('https://www.googletagmanager.com/gtag/js?id=UA-147725948-3', 0.0), ('https://polyfill.io/v3/polyfill.min.js?features=IntersectionObserver%2CPromise%2CArray.prototype.includes%2CString.prototype.endsWith%2CString.prototype.startsWith%2CObject.assign%2CNodeList.prototype.forEach', 14.1123046875), ('/blog/assets/js/vendor/content-api.min.js?v=22080dfa02', 0.0), ('/blog/assets/js/manifest.js?v=22080dfa02', 0.0), ('/blog/assets/js/vendor.js?v=22080dfa02', 0.0), ('/blog/assets/js/app.js?v=22080dfa02', 0.0), ('/blog/assets/js/post.js?v=22080dfa02', 0.0), ('/blog/assets/css/app.css?v=22080dfa02', 0.0), ('/blog/public/cards.min.css?v=22080dfa02', 0.0)]\n",
      "Analyzing 170 of 246: https://famapp.in/blog/top-5-platforms-for-students-to-learn-new-things/\n",
      "Page size: 43.5234375 KB\n",
      "Resource sizes: [('https://fampay.in/blog/content/images/2020/11/logofilewhite-11-2.png', 0.130859375), ('https://fampay.in/blog/content/images/2020/11/logofilewhite-11-2.png', 0.130859375), ('https://lh5.googleusercontent.com/aYqNOXImMrMzdQNFFIv6pdex-z8JadLBJGUml4qzW7LIDJx68WRQKsvs6g7GZYHSecyMDpM7g5Ez0mYn_8FBZBQSsfQAfo6x2U5Xaln5we2ZqIhLciOTgqcuuMsyFlygn7mBOzk', 0.0), ('https://lh6.googleusercontent.com/tK2fJ4jqNkag5JC3tn1cSUosM6QjWhVQxLCQ5-Fpljz46raDfI5B7v95rMicsE9Ryl_CP-3BOLO433ioNkp27ukGyFU_R-IPF--DNhbgVcWbJHygSgXV3hbZsoLc0yXY2sFMDrk', 0.0), ('https://lh5.googleusercontent.com/lxM6DG-FD6IcjIJTvliJrfrqcax7Bh52KUTq5UiKFLZXDMob4SsPqqIZY9HYA_uaLN8M8Cn6kobegv-sNNT51rjn7TWCwq7S48usn385wP744cw0oKZ7sAFgVUeknoGPIQ7d0ZM', 0.0), ('https://lh3.googleusercontent.com/fiewE_k1TPXsOUPqhDs6_Tx54h0MC6nW6uCam6OyzALF2CmCG0qw4GL_YPq_1lvxrkkvx60T9yK-En3sC7dSUP0sPeqDlh6wAfSkZAgkY6Tg7STRLlwrxg1M-M3y8WuOYNF8Z98', 0.0), ('https://lh6.googleusercontent.com/TnXJGmOugfg6AnBNH-bDFAlvSrNBpy15p0u_VwaTDfqnArrhIs6YJ3fPeKncSLXkzOIrhxprGsifh3U7EuuSSr2LqCUZBen1VzDgPFtYHDab9M3FAsFA3nghqkRln3msihOuaTo', 0.0), ('/blog/assets/images/success.png?v=22080dfa02', 0.0), ('https://cdn.jsdelivr.net/ghost/portal@~2.30/umd/portal.min.js', 170.8154296875), ('https://cdn.jsdelivr.net/ghost/sodo-search@~1.1/umd/sodo-search.min.js', 95.5751953125), ('/blog/public/cards.min.js?v=22080dfa02', 0.0), ('/blog/public/member-attribution.min.js?v=22080dfa02', 0.0), ('https://www.googletagmanager.com/gtag/js?id=UA-147725948-3', 0.0), ('https://polyfill.io/v3/polyfill.min.js?features=IntersectionObserver%2CPromise%2CArray.prototype.includes%2CString.prototype.endsWith%2CString.prototype.startsWith%2CObject.assign%2CNodeList.prototype.forEach', 14.1123046875), ('/blog/assets/js/vendor/content-api.min.js?v=22080dfa02', 0.0), ('/blog/assets/js/manifest.js?v=22080dfa02', 0.0), ('/blog/assets/js/vendor.js?v=22080dfa02', 0.0), ('/blog/assets/js/app.js?v=22080dfa02', 0.0), ('/blog/assets/js/post.js?v=22080dfa02', 0.0), ('/blog/assets/css/app.css?v=22080dfa02', 0.0), ('/blog/public/cards.min.css?v=22080dfa02', 0.0)]\n",
      "Analyzing 171 of 246: https://famapp.in/blog/from-teenage-to-teen-entrepreneurs-make-your-story-inspiring/\n",
      "Page size: 46.23046875 KB\n",
      "Resource sizes: [('https://fampay.in/blog/content/images/2020/11/logofilewhite-11-2.png', 0.130859375), ('https://fampay.in/blog/content/images/2020/11/logofilewhite-11-2.png', 0.130859375), ('https://fampay.in/blog/content/images/2020/09/idea-1.jpg', 0.130859375), ('https://lh3.googleusercontent.com/kESbEFs2Was7GL9GJ8rv8KaiGbN4sbQXG8qSQasbK8rZTLI2-i4dK2y3fCbBDBbhtb_PirZjkk2hujj6OFHvZ1zk2As_fO7SpWZ0L0BsE4aGZaLvXF18jE7ubPkO1jee05nVUd0', 0.0), ('https://fampay.in/blog/content/images/2020/09/motivated.jpg', 0.130859375), ('https://lh5.googleusercontent.com/AtdOJsqJMMVFBiANyAemK3HpdRDqDlv5PgK7CBh7OC7d5jmtTqHaHiEgwVbG9sZaq1tEliv5coh95CX_4YS6WSpA78tP3_XuDJZBJb5rExzIZWjCtIHDDGB5l48HrA', 0.0), ('https://fampay.in/blog/content/images/2020/09/research.jpg', 0.130859375), ('https://fampay.in/blog/content/images/2020/09/audience.jpg', 0.130859375), ('https://fampay.in/blog/content/images/2020/09/cost.jpg', 0.130859375), ('/blog/assets/images/success.png?v=22080dfa02', 0.0), ('https://cdn.jsdelivr.net/ghost/portal@~2.30/umd/portal.min.js', 170.8154296875), ('https://cdn.jsdelivr.net/ghost/sodo-search@~1.1/umd/sodo-search.min.js', 95.5751953125), ('/blog/public/cards.min.js?v=22080dfa02', 0.0), ('/blog/public/member-attribution.min.js?v=22080dfa02', 0.0), ('https://www.googletagmanager.com/gtag/js?id=UA-147725948-3', 0.0), ('https://polyfill.io/v3/polyfill.min.js?features=IntersectionObserver%2CPromise%2CArray.prototype.includes%2CString.prototype.endsWith%2CString.prototype.startsWith%2CObject.assign%2CNodeList.prototype.forEach', 14.1123046875), ('/blog/assets/js/vendor/content-api.min.js?v=22080dfa02', 0.0), ('/blog/assets/js/manifest.js?v=22080dfa02', 0.0), ('/blog/assets/js/vendor.js?v=22080dfa02', 0.0), ('/blog/assets/js/app.js?v=22080dfa02', 0.0), ('/blog/assets/js/post.js?v=22080dfa02', 0.0), ('/blog/assets/css/app.css?v=22080dfa02', 0.0), ('/blog/public/cards.min.css?v=22080dfa02', 0.0)]\n",
      "Analyzing 172 of 246: https://famapp.in/blog/top-4-head-turning-fashion-tips-and-trends-for-the-sassy-gen-z/\n",
      "Page size: 44.05078125 KB\n",
      "Resource sizes: [('https://fampay.in/blog/content/images/2020/11/logofilewhite-11-2.png', 0.130859375), ('https://fampay.in/blog/content/images/2020/11/logofilewhite-11-2.png', 0.130859375), ('https://fampay.in/blog/content/images/2020/06/image-24.png', 0.130859375), ('https://fampay.in/blog/content/images/2020/08/Fashion-Blog.jpeg', 0.130859375), ('https://fampay.in/blog/content/images/2020/08/image-11.png', 0.130859375), ('https://fampay.in/blog/content/images/2020/06/image-27.png', 0.130859375), ('/blog/assets/images/success.png?v=22080dfa02', 0.0), ('https://cdn.jsdelivr.net/ghost/portal@~2.30/umd/portal.min.js', 170.8154296875), ('https://cdn.jsdelivr.net/ghost/sodo-search@~1.1/umd/sodo-search.min.js', 95.5751953125), ('/blog/public/cards.min.js?v=22080dfa02', 0.0), ('/blog/public/member-attribution.min.js?v=22080dfa02', 0.0), ('https://www.googletagmanager.com/gtag/js?id=UA-147725948-3', 0.0), ('https://polyfill.io/v3/polyfill.min.js?features=IntersectionObserver%2CPromise%2CArray.prototype.includes%2CString.prototype.endsWith%2CString.prototype.startsWith%2CObject.assign%2CNodeList.prototype.forEach', 14.1123046875), ('/blog/assets/js/vendor/content-api.min.js?v=22080dfa02', 0.0), ('/blog/assets/js/manifest.js?v=22080dfa02', 0.0), ('/blog/assets/js/vendor.js?v=22080dfa02', 0.0), ('/blog/assets/js/app.js?v=22080dfa02', 0.0), ('/blog/assets/js/post.js?v=22080dfa02', 0.0), ('/blog/assets/css/app.css?v=22080dfa02', 0.0), ('/blog/public/cards.min.css?v=22080dfa02', 0.0)]\n",
      "Analyzing 173 of 246: https://famapp.in/blog/gen-z-gaming-how-to-make-real-money-by-playing-video-games/\n",
      "Page size: 44.462890625 KB\n",
      "Resource sizes: [('https://fampay.in/blog/content/images/2020/11/logofilewhite-11-2.png', 0.130859375), ('https://fampay.in/blog/content/images/2020/11/logofilewhite-11-2.png', 0.130859375), ('https://fampay.in/blog/content/images/2020/06/gaing1.gif', 0.130859375), ('https://fampay.in/blog/content/images/2020/06/gaming-2.gif', 0.130859375), ('https://fampay.in/blog/content/images/2020/06/gaming-3.gif', 0.130859375), ('https://fampay.in/blog/content/images/2020/06/gaming4.gif', 0.130859375), ('https://fampay.in/blog/content/images/2020/06/gaming5-1.gif', 0.130859375), ('https://fampay.in/blog/content/images/2020/06/gaming6.gif', 0.130859375), ('https://fampay.in/blog/content/images/2020/06/gaming9.gif', 0.130859375), ('https://fampay.in/blog/content/images/2020/06/gaming10.gif', 0.130859375), ('https://fampay.in/blog/content/images/2020/06/gaming11.gif', 0.130859375), ('https://fampay.in/blog/content/images/2020/06/gaming12.gif', 0.130859375), ('https://fampay.in/blog/content/images/2020/06/gaming13.gif', 0.130859375), ('https://fampay.in/blog/content/images/2020/06/gaming-7.gif', 0.130859375), ('https://fampay.in/blog/content/images/2020/06/gaming-8.gif', 0.130859375), ('/blog/assets/images/success.png?v=22080dfa02', 0.0), ('https://cdn.jsdelivr.net/ghost/portal@~2.30/umd/portal.min.js', 170.8154296875), ('https://cdn.jsdelivr.net/ghost/sodo-search@~1.1/umd/sodo-search.min.js', 95.5751953125), ('/blog/public/cards.min.js?v=22080dfa02', 0.0), ('/blog/public/member-attribution.min.js?v=22080dfa02', 0.0), ('https://www.googletagmanager.com/gtag/js?id=UA-147725948-3', 0.0), ('https://polyfill.io/v3/polyfill.min.js?features=IntersectionObserver%2CPromise%2CArray.prototype.includes%2CString.prototype.endsWith%2CString.prototype.startsWith%2CObject.assign%2CNodeList.prototype.forEach', 14.1123046875), ('/blog/assets/js/vendor/content-api.min.js?v=22080dfa02', 0.0), ('/blog/assets/js/manifest.js?v=22080dfa02', 0.0), ('/blog/assets/js/vendor.js?v=22080dfa02', 0.0), ('/blog/assets/js/app.js?v=22080dfa02', 0.0), ('/blog/assets/js/post.js?v=22080dfa02', 0.0), ('/blog/assets/css/app.css?v=22080dfa02', 0.0), ('/blog/public/cards.min.css?v=22080dfa02', 0.0)]\n",
      "Analyzing 174 of 246: https://famapp.in/blog/teen-bucket-list-10-things-you-must-to-do-in-your-teens/\n",
      "Page size: 46.2607421875 KB\n",
      "Resource sizes: [('https://fampay.in/blog/content/images/2020/11/logofilewhite-11-2.png', 0.130859375), ('https://fampay.in/blog/content/images/2020/11/logofilewhite-11-2.png', 0.130859375), ('https://fampay.in/blog/content/images/2020/07/memories.jpg', 0.130859375), ('https://fampay.in/blog/content/images/2020/07/housecleaning.gif', 0.130859375), ('https://fampay.in/blog/content/images/2020/07/scrapbook.jpg', 0.130859375), ('https://fampay.in/blog/content/images/2020/07/gorgeous-mindset-vision-board-example.png', 0.130859375), ('https://fampay.in/blog/content/images/2020/07/photoshoot.jpg', 0.130859375), ('https://fampay.in/blog/content/images/2020/07/future-self.jpg', 0.130859375), ('https://fampay.in/blog/content/images/2020/07/exercise.png', 0.130859375), ('https://fampay.in/blog/content/images/2020/07/social.png', 0.130859375), ('https://fampay.in/blog/content/images/2020/07/volunteer.jpg', 0.130859375), ('https://fampay.in/blog/content/images/2020/07/saving.png', 0.130859375), ('https://fampay.in/blog/content/images/2020/07/cookinh.jpg', 0.130859375), ('https://fampay.in/blog/content/images/2020/07/famcard.png', 0.130859375), ('/blog/assets/images/success.png?v=22080dfa02', 0.0), ('https://cdn.jsdelivr.net/ghost/portal@~2.30/umd/portal.min.js', 170.8154296875), ('https://cdn.jsdelivr.net/ghost/sodo-search@~1.1/umd/sodo-search.min.js', 95.5751953125), ('/blog/public/cards.min.js?v=22080dfa02', 0.0), ('/blog/public/member-attribution.min.js?v=22080dfa02', 0.0), ('https://www.googletagmanager.com/gtag/js?id=UA-147725948-3', 0.0), ('https://polyfill.io/v3/polyfill.min.js?features=IntersectionObserver%2CPromise%2CArray.prototype.includes%2CString.prototype.endsWith%2CString.prototype.startsWith%2CObject.assign%2CNodeList.prototype.forEach', 14.1123046875), ('/blog/assets/js/vendor/content-api.min.js?v=22080dfa02', 0.0), ('/blog/assets/js/manifest.js?v=22080dfa02', 0.0), ('/blog/assets/js/vendor.js?v=22080dfa02', 0.0), ('/blog/assets/js/app.js?v=22080dfa02', 0.0), ('/blog/assets/js/post.js?v=22080dfa02', 0.0), ('/blog/assets/css/app.css?v=22080dfa02', 0.0), ('/blog/public/cards.min.css?v=22080dfa02', 0.0)]\n",
      "Analyzing 175 of 246: https://fampay.in/blog/jumpstart-your-career-5-unconventional-career-choices-for-genzs/\n",
      "Page size: 43.3564453125 KB\n",
      "Resource sizes: [('https://fampay.in/blog/content/images/2020/11/logofilewhite-11-2.png', 0.130859375), ('https://fampay.in/blog/content/images/2020/11/logofilewhite-11-2.png', 0.130859375), ('https://fampay.in/blog/content/images/2020/06/game-designer.gif', 0.130859375), ('https://fampay.in/blog/content/images/2020/06/social-content-creator.gif', 0.130859375), ('https://fampay.in/blog/content/images/2020/06/image-consultant.gif', 0.130859375), ('https://fampay.in/blog/content/images/2020/06/nutrition-blogger.gif', 0.130859375), ('https://fampay.in/blog/content/images/2020/06/baker.gif', 0.130859375), ('/blog/assets/images/success.png?v=22080dfa02', 0.130859375), ('https://cdn.jsdelivr.net/ghost/portal@~2.30/umd/portal.min.js', 170.8154296875), ('https://cdn.jsdelivr.net/ghost/sodo-search@~1.1/umd/sodo-search.min.js', 95.5751953125), ('/blog/public/cards.min.js?v=22080dfa02', 0.130859375), ('/blog/public/member-attribution.min.js?v=22080dfa02', 0.130859375), ('https://www.googletagmanager.com/gtag/js?id=UA-147725948-3', 0.0), ('https://polyfill.io/v3/polyfill.min.js?features=IntersectionObserver%2CPromise%2CArray.prototype.includes%2CString.prototype.endsWith%2CString.prototype.startsWith%2CObject.assign%2CNodeList.prototype.forEach', 14.1123046875), ('/blog/assets/js/vendor/content-api.min.js?v=22080dfa02', 0.130859375), ('/blog/assets/js/manifest.js?v=22080dfa02', 0.130859375), ('/blog/assets/js/vendor.js?v=22080dfa02', 0.130859375), ('/blog/assets/js/app.js?v=22080dfa02', 0.130859375), ('/blog/assets/js/post.js?v=22080dfa02', 0.130859375), ('/blog/assets/css/app.css?v=22080dfa02', 0.130859375), ('/blog/public/cards.min.css?v=22080dfa02', 0.130859375)]\n",
      "Analyzing 176 of 246: https://famapp.in/blog/looking-for-financial-independence-as-a-youngster-5-ways-to-earn-while-youre-young/\n",
      "Page size: 43.6865234375 KB\n",
      "Resource sizes: [('https://fampay.in/blog/content/images/2020/11/logofilewhite-11-2.png', 0.130859375), ('https://fampay.in/blog/content/images/2020/11/logofilewhite-11-2.png', 0.130859375), ('https://fampay.in/blog/content/images/2020/06/freelance-consultant.gif', 0.130859375), ('https://fampay.in/blog/content/images/2020/06/VA.gif', 0.130859375), ('https://fampay.in/blog/content/images/2020/06/craft-creator.gif', 0.130859375), ('https://fampay.in/blog/content/images/2020/06/contentcreator.gif', 0.130859375), ('https://fampay.in/blog/content/images/2020/06/affiliate-marketing.gif', 0.130859375), ('/blog/assets/images/success.png?v=22080dfa02', 0.0), ('https://cdn.jsdelivr.net/ghost/portal@~2.30/umd/portal.min.js', 170.8154296875), ('https://cdn.jsdelivr.net/ghost/sodo-search@~1.1/umd/sodo-search.min.js', 95.5751953125), ('/blog/public/cards.min.js?v=22080dfa02', 0.0), ('/blog/public/member-attribution.min.js?v=22080dfa02', 0.0), ('https://www.googletagmanager.com/gtag/js?id=UA-147725948-3', 0.0), ('https://polyfill.io/v3/polyfill.min.js?features=IntersectionObserver%2CPromise%2CArray.prototype.includes%2CString.prototype.endsWith%2CString.prototype.startsWith%2CObject.assign%2CNodeList.prototype.forEach', 14.1123046875), ('/blog/assets/js/vendor/content-api.min.js?v=22080dfa02', 0.0), ('/blog/assets/js/manifest.js?v=22080dfa02', 0.0), ('/blog/assets/js/vendor.js?v=22080dfa02', 0.0), ('/blog/assets/js/app.js?v=22080dfa02', 0.0), ('/blog/assets/js/post.js?v=22080dfa02', 0.0), ('/blog/assets/css/app.css?v=22080dfa02', 0.0), ('/blog/public/cards.min.css?v=22080dfa02', 0.0)]\n",
      "Analyzing 177 of 246: https://famapp.in/blog/want-to-become-a-teenage-influencer-start-here/\n",
      "Page size: 46.359375 KB\n",
      "Resource sizes: [('https://fampay.in/blog/content/images/2020/11/logofilewhite-11-2.png', 0.130859375), ('https://fampay.in/blog/content/images/2020/11/logofilewhite-11-2.png', 0.130859375), ('https://fampay.in/blog/content/images/2020/06/image-15.png', 0.130859375), ('https://fampay.in/blog/content/images/2020/06/image-16.png', 0.130859375), ('https://fampay.in/blog/content/images/2020/06/image-17.png', 0.130859375), ('https://fampay.in/blog/content/images/2020/06/image-19.png', 0.130859375), ('https://fampay.in/blog/content/images/2020/06/image-18.png', 0.130859375), ('https://fampay.in/blog/content/images/2020/06/image-20.png', 0.130859375), ('file:///C:/Users/vardh/AppData/Local/Temp/msohtmlclip1/01/clip_image008.gif', 0.0), ('https://fampay.in/blog/content/images/2020/06/image-21.png', 0.130859375), ('https://fampay.in/blog/content/images/2020/06/image-22.png', 0.130859375), ('https://fampay.in/blog/content/images/2020/06/image-23.png', 0.130859375), ('/blog/assets/images/success.png?v=22080dfa02', 0.0), ('https://cdn.jsdelivr.net/ghost/portal@~2.30/umd/portal.min.js', 170.8154296875), ('https://cdn.jsdelivr.net/ghost/sodo-search@~1.1/umd/sodo-search.min.js', 95.5751953125), ('/blog/public/cards.min.js?v=22080dfa02', 0.0), ('/blog/public/member-attribution.min.js?v=22080dfa02', 0.0), ('https://www.googletagmanager.com/gtag/js?id=UA-147725948-3', 0.0), ('https://polyfill.io/v3/polyfill.min.js?features=IntersectionObserver%2CPromise%2CArray.prototype.includes%2CString.prototype.endsWith%2CString.prototype.startsWith%2CObject.assign%2CNodeList.prototype.forEach', 14.1123046875), ('/blog/assets/js/vendor/content-api.min.js?v=22080dfa02', 0.0), ('/blog/assets/js/manifest.js?v=22080dfa02', 0.0), ('/blog/assets/js/vendor.js?v=22080dfa02', 0.0), ('/blog/assets/js/app.js?v=22080dfa02', 0.0), ('/blog/assets/js/post.js?v=22080dfa02', 0.0), ('/blog/assets/css/app.css?v=22080dfa02', 0.0), ('/blog/public/cards.min.css?v=22080dfa02', 0.0)]\n",
      "Analyzing 178 of 246: https://famapp.in/blog/tag/lifestyle/page/3/\n",
      "Page size: 24.96875 KB\n",
      "Resource sizes: [('https://fampay.in/blog/content/images/2020/11/logofilewhite-11-2.png', 0.130859375), ('https://fampay.in/blog/content/images/2020/11/logofilewhite-11-2.png', 0.130859375), ('https://cdn.jsdelivr.net/ghost/portal@~2.30/umd/portal.min.js', 170.8154296875), ('https://cdn.jsdelivr.net/ghost/sodo-search@~1.1/umd/sodo-search.min.js', 95.5751953125), ('/blog/public/cards.min.js?v=22080dfa02', 0.0), ('/blog/public/member-attribution.min.js?v=22080dfa02', 0.0), ('https://www.googletagmanager.com/gtag/js?id=UA-147725948-3', 0.0), ('https://polyfill.io/v3/polyfill.min.js?features=IntersectionObserver%2CPromise%2CArray.prototype.includes%2CString.prototype.endsWith%2CString.prototype.startsWith%2CObject.assign%2CNodeList.prototype.forEach', 14.1123046875), ('/blog/assets/js/vendor/content-api.min.js?v=22080dfa02', 0.0), ('/blog/assets/js/manifest.js?v=22080dfa02', 0.0), ('/blog/assets/js/vendor.js?v=22080dfa02', 0.0), ('/blog/assets/js/app.js?v=22080dfa02', 0.0), ('/blog/assets/css/app.css?v=22080dfa02', 0.0), ('/blog/public/cards.min.css?v=22080dfa02', 0.0)]\n",
      "Analyzing 179 of 246: https://famapp.in/blog/jumpstart-your-career-5-unconventional-career-choices-for-genzs/\n",
      "Page size: 43.3564453125 KB\n",
      "Resource sizes: [('https://fampay.in/blog/content/images/2020/11/logofilewhite-11-2.png', 0.130859375), ('https://fampay.in/blog/content/images/2020/11/logofilewhite-11-2.png', 0.130859375), ('https://fampay.in/blog/content/images/2020/06/game-designer.gif', 0.130859375), ('https://fampay.in/blog/content/images/2020/06/social-content-creator.gif', 0.130859375), ('https://fampay.in/blog/content/images/2020/06/image-consultant.gif', 0.130859375), ('https://fampay.in/blog/content/images/2020/06/nutrition-blogger.gif', 0.130859375), ('https://fampay.in/blog/content/images/2020/06/baker.gif', 0.130859375), ('/blog/assets/images/success.png?v=22080dfa02', 0.0), ('https://cdn.jsdelivr.net/ghost/portal@~2.30/umd/portal.min.js', 170.8154296875), ('https://cdn.jsdelivr.net/ghost/sodo-search@~1.1/umd/sodo-search.min.js', 95.5751953125), ('/blog/public/cards.min.js?v=22080dfa02', 0.0), ('/blog/public/member-attribution.min.js?v=22080dfa02', 0.0), ('https://www.googletagmanager.com/gtag/js?id=UA-147725948-3', 0.0), ('https://polyfill.io/v3/polyfill.min.js?features=IntersectionObserver%2CPromise%2CArray.prototype.includes%2CString.prototype.endsWith%2CString.prototype.startsWith%2CObject.assign%2CNodeList.prototype.forEach', 14.1123046875), ('/blog/assets/js/vendor/content-api.min.js?v=22080dfa02', 0.0), ('/blog/assets/js/manifest.js?v=22080dfa02', 0.0), ('/blog/assets/js/vendor.js?v=22080dfa02', 0.0), ('/blog/assets/js/app.js?v=22080dfa02', 0.0), ('/blog/assets/js/post.js?v=22080dfa02', 0.0), ('/blog/assets/css/app.css?v=22080dfa02', 0.0), ('/blog/public/cards.min.css?v=22080dfa02', 0.0)]\n",
      "Analyzing 180 of 246: https://famapp.in/blog/how-to-go-from-awkward-to-awesome-in-your-teens/\n",
      "Page size: 42.9931640625 KB\n",
      "Resource sizes: [('https://fampay.in/blog/content/images/2020/11/logofilewhite-11-2.png', 0.130859375), ('https://fampay.in/blog/content/images/2020/11/logofilewhite-11-2.png', 0.130859375), ('https://fampay.in/blog/content/images/2020/06/teen1.gif', 0.130859375), ('https://fampay.in/blog/content/images/2020/06/healthy.gif', 0.130859375), ('https://fampay.in/blog/content/images/2020/06/mood.gif', 0.130859375), ('https://fampay.in/blog/content/images/2020/06/crush-1.gif', 0.130859375), ('https://fampay.in/blog/content/images/2020/06/cool.gif', 0.130859375), ('https://fampay.in/blog/content/images/2020/06/psychiatrist.gif', 0.130859375), ('/blog/assets/images/success.png?v=22080dfa02', 0.0), ('https://cdn.jsdelivr.net/ghost/portal@~2.30/umd/portal.min.js', 170.8154296875), ('https://cdn.jsdelivr.net/ghost/sodo-search@~1.1/umd/sodo-search.min.js', 95.5751953125), ('/blog/public/cards.min.js?v=22080dfa02', 0.0), ('/blog/public/member-attribution.min.js?v=22080dfa02', 0.0), ('https://www.googletagmanager.com/gtag/js?id=UA-147725948-3', 0.0), ('https://polyfill.io/v3/polyfill.min.js?features=IntersectionObserver%2CPromise%2CArray.prototype.includes%2CString.prototype.endsWith%2CString.prototype.startsWith%2CObject.assign%2CNodeList.prototype.forEach', 14.1123046875), ('/blog/assets/js/vendor/content-api.min.js?v=22080dfa02', 0.0), ('/blog/assets/js/manifest.js?v=22080dfa02', 0.0), ('/blog/assets/js/vendor.js?v=22080dfa02', 0.0), ('/blog/assets/js/app.js?v=22080dfa02', 0.0), ('/blog/assets/js/post.js?v=22080dfa02', 0.0), ('/blog/assets/css/app.css?v=22080dfa02', 0.0), ('/blog/public/cards.min.css?v=22080dfa02', 0.0)]\n",
      "Analyzing 181 of 246: https://famapp.in/blog/7-cool-insta-dads-of-bollywood/\n",
      "Page size: 138.8984375 KB\n",
      "Resource sizes: [('https://fampay.in/blog/content/images/2020/11/logofilewhite-11-2.png', 0.130859375), ('https://fampay.in/blog/content/images/2020/11/logofilewhite-11-2.png', 0.130859375), ('/blog/assets/images/success.png?v=22080dfa02', 0.0), ('https://cdn.jsdelivr.net/ghost/portal@~2.30/umd/portal.min.js', 170.8154296875), ('https://cdn.jsdelivr.net/ghost/sodo-search@~1.1/umd/sodo-search.min.js', 95.5751953125), ('/blog/public/cards.min.js?v=22080dfa02', 0.0), ('/blog/public/member-attribution.min.js?v=22080dfa02', 0.0), ('https://www.googletagmanager.com/gtag/js?id=UA-147725948-3', 0.0), ('//www.instagram.com/embed.js', 0.0), ('//www.instagram.com/embed.js', 0.0), ('//www.instagram.com/embed.js', 0.0), ('//www.instagram.com/embed.js', 0.0), ('//www.instagram.com/embed.js', 0.0), ('//www.instagram.com/embed.js', 0.0), ('//www.instagram.com/embed.js', 0.0), ('//www.instagram.com/embed.js', 0.0), ('//www.instagram.com/embed.js', 0.0), ('//www.instagram.com/embed.js', 0.0), ('//www.instagram.com/embed.js', 0.0), ('//www.instagram.com/embed.js', 0.0), ('//www.instagram.com/embed.js', 0.0), ('//www.instagram.com/embed.js', 0.0), ('https://polyfill.io/v3/polyfill.min.js?features=IntersectionObserver%2CPromise%2CArray.prototype.includes%2CString.prototype.endsWith%2CString.prototype.startsWith%2CObject.assign%2CNodeList.prototype.forEach', 14.1123046875), ('/blog/assets/js/vendor/content-api.min.js?v=22080dfa02', 0.0), ('/blog/assets/js/manifest.js?v=22080dfa02', 0.0), ('/blog/assets/js/vendor.js?v=22080dfa02', 0.0), ('/blog/assets/js/app.js?v=22080dfa02', 0.0), ('/blog/assets/js/post.js?v=22080dfa02', 0.0), ('/blog/assets/css/app.css?v=22080dfa02', 0.0), ('/blog/public/cards.min.css?v=22080dfa02', 0.0)]\n",
      "Analyzing 182 of 246: https://famapp.in/blog/tag/news/\n",
      "Page size: 33.3154296875 KB\n",
      "Resource sizes: [('https://fampay.in/blog/content/images/2020/11/logofilewhite-11-2.png', 0.130859375), ('https://fampay.in/blog/content/images/2020/11/logofilewhite-11-2.png', 0.130859375), ('https://cdn.jsdelivr.net/ghost/portal@~2.30/umd/portal.min.js', 170.8154296875), ('https://cdn.jsdelivr.net/ghost/sodo-search@~1.1/umd/sodo-search.min.js', 95.5751953125), ('/blog/public/cards.min.js?v=22080dfa02', 0.0), ('/blog/public/member-attribution.min.js?v=22080dfa02', 0.0), ('https://www.googletagmanager.com/gtag/js?id=UA-147725948-3', 0.0), ('https://polyfill.io/v3/polyfill.min.js?features=IntersectionObserver%2CPromise%2CArray.prototype.includes%2CString.prototype.endsWith%2CString.prototype.startsWith%2CObject.assign%2CNodeList.prototype.forEach', 14.1123046875), ('/blog/assets/js/vendor/content-api.min.js?v=22080dfa02', 0.0), ('/blog/assets/js/manifest.js?v=22080dfa02', 0.0), ('/blog/assets/js/vendor.js?v=22080dfa02', 0.0), ('/blog/assets/js/app.js?v=22080dfa02', 0.0), ('/blog/assets/css/app.css?v=22080dfa02', 0.0), ('/blog/public/cards.min.css?v=22080dfa02', 0.0)]\n",
      "Analyzing 183 of 246: https://famapp.in/blog/teen-focused-fintech-startup-fampay-raises-38m-in-series-a/\n",
      "Page size: 44.33203125 KB\n",
      "Resource sizes: [('https://fampay.in/blog/content/images/2020/11/logofilewhite-11-2.png', 0.130859375), ('https://fampay.in/blog/content/images/2020/11/logofilewhite-11-2.png', 0.130859375), ('https://fampay.in/blog/content/images/2021/06/IMG_0371-5--1--2.jpg', 0.130859375), ('https://fampay.in/blog/content/images/2021/06/Group-2824--2--1.jpg', 0.130859375), ('https://fampay.in/blog/content/images/2021/06/DSC02575_edited-copy--1---1---1-.jpg', 0.130859375), ('/blog/assets/images/success.png?v=22080dfa02', 0.0), ('https://cdn.jsdelivr.net/ghost/portal@~2.30/umd/portal.min.js', 170.8154296875), ('https://cdn.jsdelivr.net/ghost/sodo-search@~1.1/umd/sodo-search.min.js', 95.5751953125), ('/blog/public/cards.min.js?v=22080dfa02', 0.0), ('/blog/public/member-attribution.min.js?v=22080dfa02', 0.0), ('https://www.googletagmanager.com/gtag/js?id=UA-147725948-3', 0.0), ('https://polyfill.io/v3/polyfill.min.js?features=IntersectionObserver%2CPromise%2CArray.prototype.includes%2CString.prototype.endsWith%2CString.prototype.startsWith%2CObject.assign%2CNodeList.prototype.forEach', 14.1123046875), ('/blog/assets/js/vendor/content-api.min.js?v=22080dfa02', 0.0), ('/blog/assets/js/manifest.js?v=22080dfa02', 0.0), ('/blog/assets/js/vendor.js?v=22080dfa02', 0.0), ('/blog/assets/js/app.js?v=22080dfa02', 0.0), ('/blog/assets/js/post.js?v=22080dfa02', 0.0), ('/blog/assets/css/app.css?v=22080dfa02', 0.0), ('/blog/public/cards.min.css?v=22080dfa02', 0.0)]\n",
      "Analyzing 184 of 246: https://famapp.in/blog/fampay-is-set-to-launch-indias-first-and-biggest-digi-fest-for-teens/\n",
      "Page size: 40.9990234375 KB\n",
      "Resource sizes: [('https://fampay.in/blog/content/images/2020/11/logofilewhite-11-2.png', 0.130859375), ('https://fampay.in/blog/content/images/2020/11/logofilewhite-11-2.png', 0.130859375), ('/blog/assets/images/success.png?v=22080dfa02', 0.0), ('https://cdn.jsdelivr.net/ghost/portal@~2.30/umd/portal.min.js', 170.8154296875), ('https://cdn.jsdelivr.net/ghost/sodo-search@~1.1/umd/sodo-search.min.js', 95.5751953125), ('/blog/public/cards.min.js?v=22080dfa02', 0.0), ('/blog/public/member-attribution.min.js?v=22080dfa02', 0.0), ('https://www.googletagmanager.com/gtag/js?id=UA-147725948-3', 0.0), ('https://polyfill.io/v3/polyfill.min.js?features=IntersectionObserver%2CPromise%2CArray.prototype.includes%2CString.prototype.endsWith%2CString.prototype.startsWith%2CObject.assign%2CNodeList.prototype.forEach', 14.1123046875), ('/blog/assets/js/vendor/content-api.min.js?v=22080dfa02', 0.0), ('/blog/assets/js/manifest.js?v=22080dfa02', 0.0), ('/blog/assets/js/vendor.js?v=22080dfa02', 0.0), ('/blog/assets/js/app.js?v=22080dfa02', 0.0), ('/blog/assets/js/post.js?v=22080dfa02', 0.0), ('/blog/assets/css/app.css?v=22080dfa02', 0.0), ('/blog/public/cards.min.css?v=22080dfa02', 0.0)]\n",
      "Analyzing 185 of 246: https://famapp.in/blog/zetas-fusion-to-power-fampays-cashless-payments-for-gen-z/\n",
      "Page size: 38.7138671875 KB\n",
      "Resource sizes: [('https://fampay.in/blog/content/images/2020/11/logofilewhite-11-2.png', 0.130859375), ('https://fampay.in/blog/content/images/2020/11/logofilewhite-11-2.png', 0.130859375), ('/blog/assets/images/success.png?v=22080dfa02', 0.0), ('https://cdn.jsdelivr.net/ghost/portal@~2.30/umd/portal.min.js', 170.8154296875), ('https://cdn.jsdelivr.net/ghost/sodo-search@~1.1/umd/sodo-search.min.js', 95.5751953125), ('/blog/public/cards.min.js?v=22080dfa02', 0.0), ('/blog/public/member-attribution.min.js?v=22080dfa02', 0.0), ('https://www.googletagmanager.com/gtag/js?id=UA-147725948-3', 0.0), ('https://polyfill.io/v3/polyfill.min.js?features=IntersectionObserver%2CPromise%2CArray.prototype.includes%2CString.prototype.endsWith%2CString.prototype.startsWith%2CObject.assign%2CNodeList.prototype.forEach', 14.1123046875), ('/blog/assets/js/vendor/content-api.min.js?v=22080dfa02', 0.0), ('/blog/assets/js/manifest.js?v=22080dfa02', 0.0), ('/blog/assets/js/vendor.js?v=22080dfa02', 0.0), ('/blog/assets/js/app.js?v=22080dfa02', 0.0), ('/blog/assets/js/post.js?v=22080dfa02', 0.0), ('/blog/assets/css/app.css?v=22080dfa02', 0.0), ('/blog/public/cards.min.css?v=22080dfa02', 0.0)]\n",
      "Analyzing 186 of 246: https://famapp.in/blog/digital-payments-exploding-in-india-yet-the-tech-savvy-teens-still-stuck-paying-with-cash-survey-by-fampay-indias-first-neobank-for-teenagers/\n",
      "Page size: 45.3173828125 KB\n",
      "Resource sizes: [('https://fampay.in/blog/content/images/2020/11/logofilewhite-11-2.png', 0.130859375), ('https://fampay.in/blog/content/images/2020/11/logofilewhite-11-2.png', 0.130859375), ('https://fampay.in/blog/content/images/2020/10/PRInfographicSection1.png', 0.130859375), ('https://fampay.in/blog/content/images/2020/10/PRInfographicSection2.png', 0.130859375), ('https://fampay.in/blog/content/images/2020/10/PRInfographicSection3.png', 0.130859375), ('/blog/assets/images/success.png?v=22080dfa02', 0.0), ('https://cdn.jsdelivr.net/ghost/portal@~2.30/umd/portal.min.js', 170.8154296875), ('https://cdn.jsdelivr.net/ghost/sodo-search@~1.1/umd/sodo-search.min.js', 95.5751953125), ('/blog/public/cards.min.js?v=22080dfa02', 0.0), ('/blog/public/member-attribution.min.js?v=22080dfa02', 0.0), ('https://www.googletagmanager.com/gtag/js?id=UA-147725948-3', 0.0), ('https://polyfill.io/v3/polyfill.min.js?features=IntersectionObserver%2CPromise%2CArray.prototype.includes%2CString.prototype.endsWith%2CString.prototype.startsWith%2CObject.assign%2CNodeList.prototype.forEach', 14.1123046875), ('/blog/assets/js/vendor/content-api.min.js?v=22080dfa02', 0.0), ('/blog/assets/js/manifest.js?v=22080dfa02', 0.0), ('/blog/assets/js/vendor.js?v=22080dfa02', 0.0), ('/blog/assets/js/app.js?v=22080dfa02', 0.0), ('/blog/assets/js/post.js?v=22080dfa02', 0.0), ('/blog/assets/css/app.css?v=22080dfa02', 0.0), ('/blog/public/cards.min.css?v=22080dfa02', 0.0)]\n",
      "Analyzing 187 of 246: https://famapp.in/blog/this-fintech-startup-by-iit-roorkee-alum-is-giving-teenagers-financial-freedom-responsibly-yourstory/\n",
      "Page size: 44.62890625 KB\n",
      "Resource sizes: [('https://fampay.in/blog/content/images/2020/11/logofilewhite-11-2.png', 0.130859375), ('https://fampay.in/blog/content/images/2020/11/logofilewhite-11-2.png', 0.130859375), ('https://fampay.in/blog/content/images/2021/03/Copy-of-FamPay-Founders---Kush--Left--and-Sambhav--Right--2.jpg', 0.130859375), ('https://fampay.in/blog/content/images/2021/03/Copy-of-FamPay---FlashPIN-2.png', 0.130859375), ('/blog/assets/images/success.png?v=22080dfa02', 0.0), ('https://cdn.jsdelivr.net/ghost/portal@~2.30/umd/portal.min.js', 170.8154296875), ('https://cdn.jsdelivr.net/ghost/sodo-search@~1.1/umd/sodo-search.min.js', 95.5751953125), ('/blog/public/cards.min.js?v=22080dfa02', 0.0), ('/blog/public/member-attribution.min.js?v=22080dfa02', 0.0), ('https://www.googletagmanager.com/gtag/js?id=UA-147725948-3', 0.0), ('https://polyfill.io/v3/polyfill.min.js?features=IntersectionObserver%2CPromise%2CArray.prototype.includes%2CString.prototype.endsWith%2CString.prototype.startsWith%2CObject.assign%2CNodeList.prototype.forEach', 14.1123046875), ('/blog/assets/js/vendor/content-api.min.js?v=22080dfa02', 0.0), ('/blog/assets/js/manifest.js?v=22080dfa02', 0.0), ('/blog/assets/js/vendor.js?v=22080dfa02', 0.0), ('/blog/assets/js/app.js?v=22080dfa02', 0.0), ('/blog/assets/js/post.js?v=22080dfa02', 0.0), ('/blog/assets/css/app.css?v=22080dfa02', 0.0), ('/blog/public/cards.min.css?v=22080dfa02', 0.0)]\n",
      "Analyzing 188 of 246: https://famapp.in/blog/fampay-announces-launch-of-indias-first-numberless-card/\n",
      "Page size: 40.529296875 KB\n",
      "Resource sizes: [('https://fampay.in/blog/content/images/2020/11/logofilewhite-11-2.png', 0.130859375), ('https://fampay.in/blog/content/images/2020/11/logofilewhite-11-2.png', 0.130859375), ('https://fampay.in/blog/content/images/2020/07/FamPay-Founders---Kush--Left--and-Sambhav--Right--2.jpg', 0.130859375), ('https://fampay.in/blog/content/images/2020/07/FamPay---FlashPIN.png', 0.130859375), ('/blog/assets/images/success.png?v=22080dfa02', 0.0), ('https://cdn.jsdelivr.net/ghost/portal@~2.30/umd/portal.min.js', 170.8154296875), ('https://cdn.jsdelivr.net/ghost/sodo-search@~1.1/umd/sodo-search.min.js', 95.5751953125), ('/blog/public/cards.min.js?v=22080dfa02', 0.0), ('/blog/public/member-attribution.min.js?v=22080dfa02', 0.0), ('https://www.googletagmanager.com/gtag/js?id=UA-147725948-3', 0.0), ('https://polyfill.io/v3/polyfill.min.js?features=IntersectionObserver%2CPromise%2CArray.prototype.includes%2CString.prototype.endsWith%2CString.prototype.startsWith%2CObject.assign%2CNodeList.prototype.forEach', 14.1123046875), ('/blog/assets/js/vendor/content-api.min.js?v=22080dfa02', 0.0), ('/blog/assets/js/manifest.js?v=22080dfa02', 0.0), ('/blog/assets/js/vendor.js?v=22080dfa02', 0.0), ('/blog/assets/js/app.js?v=22080dfa02', 0.0), ('/blog/assets/js/post.js?v=22080dfa02', 0.0), ('/blog/assets/css/app.css?v=22080dfa02', 0.0), ('/blog/public/cards.min.css?v=22080dfa02', 0.0)]\n",
      "Analyzing 189 of 246: https://famapp.in/blog/fampay-raises-4-7m-from-y-combinator-sequoia-venture-highway-others/\n",
      "Page size: 40.5927734375 KB\n",
      "Resource sizes: [('https://fampay.in/blog/content/images/2020/11/logofilewhite-11-2.png', 0.130859375), ('https://fampay.in/blog/content/images/2020/11/logofilewhite-11-2.png', 0.130859375), ('/blog/assets/images/success.png?v=22080dfa02', 0.0), ('https://cdn.jsdelivr.net/ghost/portal@~2.30/umd/portal.min.js', 170.8154296875), ('https://cdn.jsdelivr.net/ghost/sodo-search@~1.1/umd/sodo-search.min.js', 95.5751953125), ('/blog/public/cards.min.js?v=22080dfa02', 0.0), ('/blog/public/member-attribution.min.js?v=22080dfa02', 0.0), ('https://www.googletagmanager.com/gtag/js?id=UA-147725948-3', 0.0), ('https://polyfill.io/v3/polyfill.min.js?features=IntersectionObserver%2CPromise%2CArray.prototype.includes%2CString.prototype.endsWith%2CString.prototype.startsWith%2CObject.assign%2CNodeList.prototype.forEach', 14.1123046875), ('/blog/assets/js/vendor/content-api.min.js?v=22080dfa02', 0.0), ('/blog/assets/js/manifest.js?v=22080dfa02', 0.0), ('/blog/assets/js/vendor.js?v=22080dfa02', 0.0), ('/blog/assets/js/app.js?v=22080dfa02', 0.0), ('/blog/assets/js/post.js?v=22080dfa02', 0.0), ('/blog/assets/css/app.css?v=22080dfa02', 0.0), ('/blog/public/cards.min.css?v=22080dfa02', 0.0)]\n",
      "Analyzing 190 of 246: https://famapp.in/blog/tag/parents/\n",
      "Page size: 36.8388671875 KB\n",
      "Resource sizes: [('https://fampay.in/blog/content/images/2020/11/logofilewhite-11-2.png', 0.130859375), ('https://fampay.in/blog/content/images/2020/11/logofilewhite-11-2.png', 0.130859375), ('https://cdn.jsdelivr.net/ghost/portal@~2.30/umd/portal.min.js', 170.8154296875), ('https://cdn.jsdelivr.net/ghost/sodo-search@~1.1/umd/sodo-search.min.js', 95.5751953125), ('/blog/public/cards.min.js?v=22080dfa02', 0.0), ('/blog/public/member-attribution.min.js?v=22080dfa02', 0.0), ('https://www.googletagmanager.com/gtag/js?id=UA-147725948-3', 0.0), ('https://polyfill.io/v3/polyfill.min.js?features=IntersectionObserver%2CPromise%2CArray.prototype.includes%2CString.prototype.endsWith%2CString.prototype.startsWith%2CObject.assign%2CNodeList.prototype.forEach', 14.1123046875), ('/blog/assets/js/vendor/content-api.min.js?v=22080dfa02', 0.0), ('/blog/assets/js/manifest.js?v=22080dfa02', 0.0), ('/blog/assets/js/vendor.js?v=22080dfa02', 0.0), ('/blog/assets/js/app.js?v=22080dfa02', 0.0), ('/blog/assets/css/app.css?v=22080dfa02', 0.0), ('/blog/public/cards.min.css?v=22080dfa02', 0.0)]\n",
      "Analyzing 191 of 246: https://famapp.in/blog/healthy-wealth-how-can-parents-have-a-healthy-discussion-about-money-with-their-children/\n",
      "Page size: 43.2724609375 KB\n",
      "Resource sizes: [('https://fampay.in/blog/content/images/2020/11/logofilewhite-11-2.png', 0.130859375), ('https://fampay.in/blog/content/images/2020/11/logofilewhite-11-2.png', 0.130859375), ('https://fampay.in/blog/content/images/2020/09/kelly-sikkema-xoU52jUVUXA-unsplash.jpg', 0.130859375), ('https://fampay.in/blog/content/images/2020/09/northfolk-Ok76F6yW2iA-unsplash.jpg', 0.130859375), ('https://fampay.in/blog/content/images/2020/09/DSC01983-2.JPG', 0.130859375), ('https://fampay.in/blog/content/images/2020/09/sharon-mccutcheon--8a5eJ1-mmQ-unsplash.jpg', 0.130859375), ('https://fampay.in/blog/content/images/2020/09/lina-trochez-ktPKyUs3Qjs-unsplash.jpg', 0.130859375), ('/blog/assets/images/success.png?v=22080dfa02', 0.0), ('https://cdn.jsdelivr.net/ghost/portal@~2.30/umd/portal.min.js', 170.8154296875), ('https://cdn.jsdelivr.net/ghost/sodo-search@~1.1/umd/sodo-search.min.js', 95.5751953125), ('/blog/public/cards.min.js?v=22080dfa02', 0.0), ('/blog/public/member-attribution.min.js?v=22080dfa02', 0.0), ('https://www.googletagmanager.com/gtag/js?id=UA-147725948-3', 0.0), ('https://polyfill.io/v3/polyfill.min.js?features=IntersectionObserver%2CPromise%2CArray.prototype.includes%2CString.prototype.endsWith%2CString.prototype.startsWith%2CObject.assign%2CNodeList.prototype.forEach', 14.1123046875), ('/blog/assets/js/vendor/content-api.min.js?v=22080dfa02', 0.0), ('/blog/assets/js/manifest.js?v=22080dfa02', 0.0), ('/blog/assets/js/vendor.js?v=22080dfa02', 0.0), ('/blog/assets/js/app.js?v=22080dfa02', 0.0), ('/blog/assets/js/post.js?v=22080dfa02', 0.0), ('/blog/assets/css/app.css?v=22080dfa02', 0.0), ('/blog/public/cards.min.css?v=22080dfa02', 0.0)]\n",
      "Analyzing 192 of 246: https://famapp.in/blog/being-a-digital-parent-tips-to-mentor-everything-digital-that-your-teen-uses/\n",
      "Page size: 42.822265625 KB\n",
      "Resource sizes: [('https://fampay.in/blog/content/images/2020/11/logofilewhite-11-2.png', 0.130859375), ('https://fampay.in/blog/content/images/2020/11/logofilewhite-11-2.png', 0.130859375), ('https://lh6.googleusercontent.com/aefP4uKObTmnattGuvbLBIr4JRFdmD_zOfOnXVnELAwIn6imHx31_S4Yvsx8n8q5hOK7jWPV2ninhObYVL2DXc82VZ-ZV5FCZa0d4JH8CO75qu5wQTqHwoYzFioXEA', 0.0), ('https://fampay.in/blog/content/images/2020/09/annie-spratt-xKJUnFwfz3s-unsplash.jpg', 0.130859375), ('https://fampay.in/blog/content/images/2020/09/benjamin-manley-QkflfhJn1KA-unsplash-1.jpg', 0.130859375), ('/blog/assets/images/success.png?v=22080dfa02', 0.0), ('https://cdn.jsdelivr.net/ghost/portal@~2.30/umd/portal.min.js', 170.8154296875), ('https://cdn.jsdelivr.net/ghost/sodo-search@~1.1/umd/sodo-search.min.js', 95.5751953125), ('/blog/public/cards.min.js?v=22080dfa02', 0.0), ('/blog/public/member-attribution.min.js?v=22080dfa02', 0.0), ('https://www.googletagmanager.com/gtag/js?id=UA-147725948-3', 0.0), ('https://polyfill.io/v3/polyfill.min.js?features=IntersectionObserver%2CPromise%2CArray.prototype.includes%2CString.prototype.endsWith%2CString.prototype.startsWith%2CObject.assign%2CNodeList.prototype.forEach', 14.1123046875), ('/blog/assets/js/vendor/content-api.min.js?v=22080dfa02', 0.0), ('/blog/assets/js/manifest.js?v=22080dfa02', 0.0), ('/blog/assets/js/vendor.js?v=22080dfa02', 0.0), ('/blog/assets/js/app.js?v=22080dfa02', 0.0), ('/blog/assets/js/post.js?v=22080dfa02', 0.0), ('/blog/assets/css/app.css?v=22080dfa02', 0.0), ('/blog/public/cards.min.css?v=22080dfa02', 0.0)]\n",
      "Analyzing 193 of 246: https://famapp.in/blog/top-5-tips-to-communicate-better-with-your-teenager/\n",
      "Page size: 43.705078125 KB\n",
      "Resource sizes: [('https://fampay.in/blog/content/images/2020/11/logofilewhite-11-2.png', 0.130859375), ('https://fampay.in/blog/content/images/2020/11/logofilewhite-11-2.png', 0.130859375), ('https://lh3.googleusercontent.com/lKi3uSU743qARVTgvDYdW6uVtG3HxjzyFzB-fA_NmrKAJDrAqJp0B072jtjvrZdXiSngpIois-0osZhPk4Ri-UyrT0qT19v28ho2U886C9sNJvFfmSWvI8CqXrjQIA', 0.0), ('https://lh3.googleusercontent.com/MtdEqJzfC2yWX7Rd4Fw8VPOEN6r4IhsxS6m6W8dxG8oajybcoDj5VV0TakznWoU6XVlwxfj2_kwMr0XQSuIhAHKk5hb6JFLBDG3ztDbMWeFnqBu1VXuCK0wKukCUjg', 0.0), ('https://lh6.googleusercontent.com/lYjMtly_U6ZrKaLEyyQCLpUBBegnf6603IDspzHrwVgAqjXX3DCJkm0pEOHo1pk_WgdbLvuhVj-wxHk0LLpYYxqOmPnvZH4DMsx2Rw1hlCrxJFr9vfMHcno2WcCI5g', 0.0), ('https://lh4.googleusercontent.com/c2Jjnq1rYf_Ef_Uar9HgThCtAacbm-WmaJleSNTCTJY-tgXffGnOcKJlhD--9ssHZAfQeDUlQZzPFpe3JGaCAmr2o2s13Hi0uy6heK4CHpkWpnvBehuVTgHMbZPwQmVtJ6s3Qa8', 0.0), ('/blog/assets/images/success.png?v=22080dfa02', 0.0), ('https://cdn.jsdelivr.net/ghost/portal@~2.30/umd/portal.min.js', 170.8154296875), ('https://cdn.jsdelivr.net/ghost/sodo-search@~1.1/umd/sodo-search.min.js', 95.5751953125), ('/blog/public/cards.min.js?v=22080dfa02', 0.0), ('/blog/public/member-attribution.min.js?v=22080dfa02', 0.0), ('https://www.googletagmanager.com/gtag/js?id=UA-147725948-3', 0.0), ('https://polyfill.io/v3/polyfill.min.js?features=IntersectionObserver%2CPromise%2CArray.prototype.includes%2CString.prototype.endsWith%2CString.prototype.startsWith%2CObject.assign%2CNodeList.prototype.forEach', 14.1123046875), ('/blog/assets/js/vendor/content-api.min.js?v=22080dfa02', 0.0), ('/blog/assets/js/manifest.js?v=22080dfa02', 0.0), ('/blog/assets/js/vendor.js?v=22080dfa02', 0.0), ('/blog/assets/js/app.js?v=22080dfa02', 0.0), ('/blog/assets/js/post.js?v=22080dfa02', 0.0), ('/blog/assets/css/app.css?v=22080dfa02', 0.0), ('/blog/public/cards.min.css?v=22080dfa02', 0.0)]\n",
      "Analyzing 194 of 246: https://famapp.in/blog/a-to-z-of-teenage-finance-financial-terms-every-parent-should-teach-their-teens/\n",
      "Page size: 41.19921875 KB\n",
      "Resource sizes: [('https://fampay.in/blog/content/images/2020/11/logofilewhite-11-2.png', 0.130859375), ('https://fampay.in/blog/content/images/2020/11/logofilewhite-11-2.png', 0.130859375), ('/blog/assets/images/success.png?v=22080dfa02', 0.0), ('https://cdn.jsdelivr.net/ghost/portal@~2.30/umd/portal.min.js', 170.8154296875), ('https://cdn.jsdelivr.net/ghost/sodo-search@~1.1/umd/sodo-search.min.js', 95.5751953125), ('/blog/public/cards.min.js?v=22080dfa02', 0.0), ('/blog/public/member-attribution.min.js?v=22080dfa02', 0.0), ('https://www.googletagmanager.com/gtag/js?id=UA-147725948-3', 0.0), ('https://polyfill.io/v3/polyfill.min.js?features=IntersectionObserver%2CPromise%2CArray.prototype.includes%2CString.prototype.endsWith%2CString.prototype.startsWith%2CObject.assign%2CNodeList.prototype.forEach', 14.1123046875), ('/blog/assets/js/vendor/content-api.min.js?v=22080dfa02', 0.0), ('/blog/assets/js/manifest.js?v=22080dfa02', 0.0), ('/blog/assets/js/vendor.js?v=22080dfa02', 0.0), ('/blog/assets/js/app.js?v=22080dfa02', 0.0), ('/blog/assets/js/post.js?v=22080dfa02', 0.0), ('/blog/assets/css/app.css?v=22080dfa02', 0.0), ('/blog/public/cards.min.css?v=22080dfa02', 0.0)]\n",
      "Analyzing 195 of 246: https://famapp.in/blog/cyber-bullying-what-can-you-do-as-a-parent/\n",
      "Page size: 45.087890625 KB\n",
      "Resource sizes: [('https://fampay.in/blog/content/images/2020/11/logofilewhite-11-2.png', 0.130859375), ('https://fampay.in/blog/content/images/2020/11/logofilewhite-11-2.png', 0.130859375), ('/blog/assets/images/success.png?v=22080dfa02', 0.0), ('https://cdn.jsdelivr.net/ghost/portal@~2.30/umd/portal.min.js', 170.8154296875), ('https://cdn.jsdelivr.net/ghost/sodo-search@~1.1/umd/sodo-search.min.js', 95.5751953125), ('/blog/public/cards.min.js?v=22080dfa02', 0.0), ('/blog/public/member-attribution.min.js?v=22080dfa02', 0.0), ('https://www.googletagmanager.com/gtag/js?id=UA-147725948-3', 0.0), ('https://polyfill.io/v3/polyfill.min.js?features=IntersectionObserver%2CPromise%2CArray.prototype.includes%2CString.prototype.endsWith%2CString.prototype.startsWith%2CObject.assign%2CNodeList.prototype.forEach', 14.1123046875), ('/blog/assets/js/vendor/content-api.min.js?v=22080dfa02', 0.0), ('/blog/assets/js/manifest.js?v=22080dfa02', 0.0), ('/blog/assets/js/vendor.js?v=22080dfa02', 0.0), ('/blog/assets/js/app.js?v=22080dfa02', 0.0), ('/blog/assets/js/post.js?v=22080dfa02', 0.0), ('/blog/assets/css/app.css?v=22080dfa02', 0.0), ('/blog/public/cards.min.css?v=22080dfa02', 0.0)]\n",
      "Analyzing 196 of 246: https://famapp.in/blog/4-ways-to-help-your-teen-learn-to-become-financially-responsible/\n",
      "Page size: 42.861328125 KB\n",
      "Resource sizes: [('https://fampay.in/blog/content/images/2020/11/logofilewhite-11-2.png', 0.130859375), ('https://fampay.in/blog/content/images/2020/11/logofilewhite-11-2.png', 0.130859375), ('https://fampay.in/blog/content/images/2020/07/responsible-teens.jpg', 0.130859375), ('/blog/assets/images/success.png?v=22080dfa02', 0.0), ('https://cdn.jsdelivr.net/ghost/portal@~2.30/umd/portal.min.js', 170.8154296875), ('https://cdn.jsdelivr.net/ghost/sodo-search@~1.1/umd/sodo-search.min.js', 95.5751953125), ('/blog/public/cards.min.js?v=22080dfa02', 0.0), ('/blog/public/member-attribution.min.js?v=22080dfa02', 0.0), ('https://www.googletagmanager.com/gtag/js?id=UA-147725948-3', 0.0), ('https://polyfill.io/v3/polyfill.min.js?features=IntersectionObserver%2CPromise%2CArray.prototype.includes%2CString.prototype.endsWith%2CString.prototype.startsWith%2CObject.assign%2CNodeList.prototype.forEach', 14.1123046875), ('/blog/assets/js/vendor/content-api.min.js?v=22080dfa02', 0.0), ('/blog/assets/js/manifest.js?v=22080dfa02', 0.0), ('/blog/assets/js/vendor.js?v=22080dfa02', 0.0), ('/blog/assets/js/app.js?v=22080dfa02', 0.0), ('/blog/assets/js/post.js?v=22080dfa02', 0.0), ('/blog/assets/css/app.css?v=22080dfa02', 0.0), ('/blog/public/cards.min.css?v=22080dfa02', 0.0)]\n",
      "Analyzing 197 of 246: https://famapp.in/blog/evolution-of-parenting-parent-of-a-millennial-vs-parent-of-a-genz-kid/\n",
      "Page size: 43.8046875 KB\n",
      "Resource sizes: [('https://fampay.in/blog/content/images/2020/11/logofilewhite-11-2.png', 0.130859375), ('https://fampay.in/blog/content/images/2020/11/logofilewhite-11-2.png', 0.130859375), ('/blog/assets/images/success.png?v=22080dfa02', 0.0), ('https://cdn.jsdelivr.net/ghost/portal@~2.30/umd/portal.min.js', 170.8154296875), ('https://cdn.jsdelivr.net/ghost/sodo-search@~1.1/umd/sodo-search.min.js', 95.5751953125), ('/blog/public/cards.min.js?v=22080dfa02', 0.0), ('/blog/public/member-attribution.min.js?v=22080dfa02', 0.0), ('https://www.googletagmanager.com/gtag/js?id=UA-147725948-3', 0.0), ('https://polyfill.io/v3/polyfill.min.js?features=IntersectionObserver%2CPromise%2CArray.prototype.includes%2CString.prototype.endsWith%2CString.prototype.startsWith%2CObject.assign%2CNodeList.prototype.forEach', 14.1123046875), ('/blog/assets/js/vendor/content-api.min.js?v=22080dfa02', 0.0), ('/blog/assets/js/manifest.js?v=22080dfa02', 0.0), ('/blog/assets/js/vendor.js?v=22080dfa02', 0.0), ('/blog/assets/js/app.js?v=22080dfa02', 0.0), ('/blog/assets/js/post.js?v=22080dfa02', 0.0), ('/blog/assets/css/app.css?v=22080dfa02', 0.0), ('/blog/public/cards.min.css?v=22080dfa02', 0.0)]\n",
      "Analyzing 198 of 246: https://famapp.in/blog/pocket-money-for-teenagers-why-it-matters/\n",
      "Page size: 42.1337890625 KB\n",
      "Resource sizes: [('https://fampay.in/blog/content/images/2020/11/logofilewhite-11-2.png', 0.130859375), ('https://fampay.in/blog/content/images/2020/11/logofilewhite-11-2.png', 0.130859375), ('/blog/assets/images/success.png?v=22080dfa02', 0.0), ('https://cdn.jsdelivr.net/ghost/portal@~2.30/umd/portal.min.js', 170.8154296875), ('https://cdn.jsdelivr.net/ghost/sodo-search@~1.1/umd/sodo-search.min.js', 95.5751953125), ('/blog/public/cards.min.js?v=22080dfa02', 0.0), ('/blog/public/member-attribution.min.js?v=22080dfa02', 0.0), ('https://www.googletagmanager.com/gtag/js?id=UA-147725948-3', 0.0), ('https://polyfill.io/v3/polyfill.min.js?features=IntersectionObserver%2CPromise%2CArray.prototype.includes%2CString.prototype.endsWith%2CString.prototype.startsWith%2CObject.assign%2CNodeList.prototype.forEach', 14.1123046875), ('/blog/assets/js/vendor/content-api.min.js?v=22080dfa02', 0.0), ('/blog/assets/js/manifest.js?v=22080dfa02', 0.0), ('/blog/assets/js/vendor.js?v=22080dfa02', 0.0), ('/blog/assets/js/app.js?v=22080dfa02', 0.0), ('/blog/assets/js/post.js?v=22080dfa02', 0.0), ('/blog/assets/css/app.css?v=22080dfa02', 0.0), ('/blog/public/cards.min.css?v=22080dfa02', 0.0)]\n",
      "Analyzing 199 of 246: https://famapp.in/blog/things-you-must-know-as-a-teens-parent/\n",
      "Page size: 41.5458984375 KB\n",
      "Resource sizes: [('https://fampay.in/blog/content/images/2020/11/logofilewhite-11-2.png', 0.130859375), ('https://fampay.in/blog/content/images/2020/11/logofilewhite-11-2.png', 0.130859375), ('/blog/assets/images/success.png?v=22080dfa02', 0.0), ('https://cdn.jsdelivr.net/ghost/portal@~2.30/umd/portal.min.js', 170.8154296875), ('https://cdn.jsdelivr.net/ghost/sodo-search@~1.1/umd/sodo-search.min.js', 95.5751953125), ('/blog/public/cards.min.js?v=22080dfa02', 0.0), ('/blog/public/member-attribution.min.js?v=22080dfa02', 0.0), ('https://www.googletagmanager.com/gtag/js?id=UA-147725948-3', 0.0), ('https://polyfill.io/v3/polyfill.min.js?features=IntersectionObserver%2CPromise%2CArray.prototype.includes%2CString.prototype.endsWith%2CString.prototype.startsWith%2CObject.assign%2CNodeList.prototype.forEach', 14.1123046875), ('/blog/assets/js/vendor/content-api.min.js?v=22080dfa02', 0.0), ('/blog/assets/js/manifest.js?v=22080dfa02', 0.0), ('/blog/assets/js/vendor.js?v=22080dfa02', 0.0), ('/blog/assets/js/app.js?v=22080dfa02', 0.0), ('/blog/assets/js/post.js?v=22080dfa02', 0.0), ('/blog/assets/css/app.css?v=22080dfa02', 0.0), ('/blog/public/cards.min.css?v=22080dfa02', 0.0)]\n",
      "Analyzing 200 of 246: https://famapp.in/blog/impact-of-social-distancing-on-teen-mental-health/\n",
      "Page size: 42.724609375 KB\n",
      "Resource sizes: [('https://fampay.in/blog/content/images/2020/11/logofilewhite-11-2.png', 0.130859375), ('https://fampay.in/blog/content/images/2020/11/logofilewhite-11-2.png', 0.130859375), ('/blog/assets/images/success.png?v=22080dfa02', 0.0), ('https://cdn.jsdelivr.net/ghost/portal@~2.30/umd/portal.min.js', 170.8154296875), ('https://cdn.jsdelivr.net/ghost/sodo-search@~1.1/umd/sodo-search.min.js', 95.5751953125), ('/blog/public/cards.min.js?v=22080dfa02', 0.0), ('/blog/public/member-attribution.min.js?v=22080dfa02', 0.0), ('https://www.googletagmanager.com/gtag/js?id=UA-147725948-3', 0.0), ('https://polyfill.io/v3/polyfill.min.js?features=IntersectionObserver%2CPromise%2CArray.prototype.includes%2CString.prototype.endsWith%2CString.prototype.startsWith%2CObject.assign%2CNodeList.prototype.forEach', 14.1123046875), ('/blog/assets/js/vendor/content-api.min.js?v=22080dfa02', 0.0), ('/blog/assets/js/manifest.js?v=22080dfa02', 0.0), ('/blog/assets/js/vendor.js?v=22080dfa02', 0.0), ('/blog/assets/js/app.js?v=22080dfa02', 0.0), ('/blog/assets/js/post.js?v=22080dfa02', 0.0), ('/blog/assets/css/app.css?v=22080dfa02', 0.0), ('/blog/public/cards.min.css?v=22080dfa02', 0.0)]\n",
      "Analyzing 201 of 246: https://famapp.in/blog/tag/parents/page/2/\n",
      "Page size: 22.916015625 KB\n",
      "Resource sizes: [('https://fampay.in/blog/content/images/2020/11/logofilewhite-11-2.png', 0.130859375), ('https://fampay.in/blog/content/images/2020/11/logofilewhite-11-2.png', 0.130859375), ('https://cdn.jsdelivr.net/ghost/portal@~2.30/umd/portal.min.js', 170.8154296875), ('https://cdn.jsdelivr.net/ghost/sodo-search@~1.1/umd/sodo-search.min.js', 95.5751953125), ('/blog/public/cards.min.js?v=22080dfa02', 0.0), ('/blog/public/member-attribution.min.js?v=22080dfa02', 0.0), ('https://www.googletagmanager.com/gtag/js?id=UA-147725948-3', 0.0), ('https://polyfill.io/v3/polyfill.min.js?features=IntersectionObserver%2CPromise%2CArray.prototype.includes%2CString.prototype.endsWith%2CString.prototype.startsWith%2CObject.assign%2CNodeList.prototype.forEach', 14.1123046875), ('/blog/assets/js/vendor/content-api.min.js?v=22080dfa02', 0.0), ('/blog/assets/js/manifest.js?v=22080dfa02', 0.0), ('/blog/assets/js/vendor.js?v=22080dfa02', 0.0), ('/blog/assets/js/app.js?v=22080dfa02', 0.0), ('/blog/assets/css/app.css?v=22080dfa02', 0.0), ('/blog/public/cards.min.css?v=22080dfa02', 0.0)]\n",
      "Analyzing 202 of 246: https://famapp.in/blog/bridging-generation-gap-understanding-your-genz-teenager-better/\n",
      "Page size: 43.5390625 KB\n",
      "Resource sizes: [('https://fampay.in/blog/content/images/2020/11/logofilewhite-11-2.png', 0.130859375), ('https://fampay.in/blog/content/images/2020/11/logofilewhite-11-2.png', 0.130859375), ('/blog/assets/images/success.png?v=22080dfa02', 0.0), ('https://cdn.jsdelivr.net/ghost/portal@~2.30/umd/portal.min.js', 170.8154296875), ('https://cdn.jsdelivr.net/ghost/sodo-search@~1.1/umd/sodo-search.min.js', 95.5751953125), ('/blog/public/cards.min.js?v=22080dfa02', 0.0), ('/blog/public/member-attribution.min.js?v=22080dfa02', 0.0), ('https://www.googletagmanager.com/gtag/js?id=UA-147725948-3', 0.0), ('https://polyfill.io/v3/polyfill.min.js?features=IntersectionObserver%2CPromise%2CArray.prototype.includes%2CString.prototype.endsWith%2CString.prototype.startsWith%2CObject.assign%2CNodeList.prototype.forEach', 14.1123046875), ('/blog/assets/js/vendor/content-api.min.js?v=22080dfa02', 0.0), ('/blog/assets/js/manifest.js?v=22080dfa02', 0.0), ('/blog/assets/js/vendor.js?v=22080dfa02', 0.0), ('/blog/assets/js/app.js?v=22080dfa02', 0.0), ('/blog/assets/js/post.js?v=22080dfa02', 0.0), ('/blog/assets/css/app.css?v=22080dfa02', 0.0), ('/blog/public/cards.min.css?v=22080dfa02', 0.0)]\n",
      "Analyzing 203 of 246: https://famapp.in/blog/tag/pr-news/\n",
      "Page size: 33.4541015625 KB\n",
      "Resource sizes: [('https://fampay.in/blog/content/images/2020/11/logofilewhite-11-2.png', 0.130859375), ('https://fampay.in/blog/content/images/2020/11/logofilewhite-11-2.png', 0.130859375), ('https://cdn.jsdelivr.net/ghost/portal@~2.30/umd/portal.min.js', 170.8154296875), ('https://cdn.jsdelivr.net/ghost/sodo-search@~1.1/umd/sodo-search.min.js', 95.5751953125), ('/blog/public/cards.min.js?v=22080dfa02', 0.0), ('/blog/public/member-attribution.min.js?v=22080dfa02', 0.0), ('https://www.googletagmanager.com/gtag/js?id=UA-147725948-3', 0.0), ('https://polyfill.io/v3/polyfill.min.js?features=IntersectionObserver%2CPromise%2CArray.prototype.includes%2CString.prototype.endsWith%2CString.prototype.startsWith%2CObject.assign%2CNodeList.prototype.forEach', 14.1123046875), ('/blog/assets/js/vendor/content-api.min.js?v=22080dfa02', 0.0), ('/blog/assets/js/manifest.js?v=22080dfa02', 0.0), ('/blog/assets/js/vendor.js?v=22080dfa02', 0.0), ('/blog/assets/js/app.js?v=22080dfa02', 0.0), ('/blog/assets/css/app.css?v=22080dfa02', 0.0), ('/blog/public/cards.min.css?v=22080dfa02', 0.0)]\n",
      "Analyzing 204 of 246: https://famapp.in/blog/fampay-amongst-linkedins-top-startups-list-2021/\n",
      "Page size: 40.12109375 KB\n",
      "Resource sizes: [('https://fampay.in/blog/content/images/2020/11/logofilewhite-11-2.png', 0.130859375), ('https://fampay.in/blog/content/images/2020/11/logofilewhite-11-2.png', 0.130859375), ('/blog/assets/images/success.png?v=22080dfa02', 0.0), ('https://cdn.jsdelivr.net/ghost/portal@~2.30/umd/portal.min.js', 170.8154296875), ('https://cdn.jsdelivr.net/ghost/sodo-search@~1.1/umd/sodo-search.min.js', 95.5751953125), ('/blog/public/cards.min.js?v=22080dfa02', 0.0), ('/blog/public/member-attribution.min.js?v=22080dfa02', 0.0), ('https://www.googletagmanager.com/gtag/js?id=UA-147725948-3', 0.0), ('https://polyfill.io/v3/polyfill.min.js?features=IntersectionObserver%2CPromise%2CArray.prototype.includes%2CString.prototype.endsWith%2CString.prototype.startsWith%2CObject.assign%2CNodeList.prototype.forEach', 14.1123046875), ('/blog/assets/js/vendor/content-api.min.js?v=22080dfa02', 0.0), ('/blog/assets/js/manifest.js?v=22080dfa02', 0.0), ('/blog/assets/js/vendor.js?v=22080dfa02', 0.0), ('/blog/assets/js/app.js?v=22080dfa02', 0.0), ('/blog/assets/js/post.js?v=22080dfa02', 0.0), ('/blog/assets/css/app.css?v=22080dfa02', 0.0), ('/blog/public/cards.min.css?v=22080dfa02', 0.0)]\n",
      "Analyzing 205 of 246: https://famapp.in/blog/fampay-partners-with-visa-to-launch-indias-first-doodle-card-for-genz/\n",
      "Page size: 44.2236328125 KB\n",
      "Resource sizes: [('https://fampay.in/blog/content/images/2020/11/logofilewhite-11-2.png', 0.130859375), ('https://fampay.in/blog/content/images/2020/11/logofilewhite-11-2.png', 0.130859375), ('https://fampay.in/blog/content/images/2021/07/FamPay_FamCard-ME-launch-video-thumbnail_doodles_1920x1080_1-1.jpg', 0.130859375), ('https://fampay.in/blog/content/images/2021/07/WhatsApp-Image-2021-07-28-at-22.47.58.jpeg', 0.130859375), ('/blog/assets/images/success.png?v=22080dfa02', 0.0), ('https://cdn.jsdelivr.net/ghost/portal@~2.30/umd/portal.min.js', 170.8154296875), ('https://cdn.jsdelivr.net/ghost/sodo-search@~1.1/umd/sodo-search.min.js', 95.5751953125), ('/blog/public/cards.min.js?v=22080dfa02', 0.0), ('/blog/public/member-attribution.min.js?v=22080dfa02', 0.0), ('https://www.googletagmanager.com/gtag/js?id=UA-147725948-3', 0.0), ('https://polyfill.io/v3/polyfill.min.js?features=IntersectionObserver%2CPromise%2CArray.prototype.includes%2CString.prototype.endsWith%2CString.prototype.startsWith%2CObject.assign%2CNodeList.prototype.forEach', 14.1123046875), ('/blog/assets/js/vendor/content-api.min.js?v=22080dfa02', 0.0), ('/blog/assets/js/manifest.js?v=22080dfa02', 0.0), ('/blog/assets/js/vendor.js?v=22080dfa02', 0.0), ('/blog/assets/js/app.js?v=22080dfa02', 0.0), ('/blog/assets/js/post.js?v=22080dfa02', 0.0), ('/blog/assets/css/app.css?v=22080dfa02', 0.0), ('/blog/public/cards.min.css?v=22080dfa02', 0.0)]\n",
      "Analyzing 206 of 246: https://famapp.in/blog/tag/product/\n",
      "Page size: 35.9521484375 KB\n",
      "Resource sizes: [('https://fampay.in/blog/content/images/2020/11/logofilewhite-11-2.png', 0.130859375), ('https://fampay.in/blog/content/images/2020/11/logofilewhite-11-2.png', 0.130859375), ('https://cdn.jsdelivr.net/ghost/portal@~2.30/umd/portal.min.js', 170.8154296875), ('https://cdn.jsdelivr.net/ghost/sodo-search@~1.1/umd/sodo-search.min.js', 95.5751953125), ('/blog/public/cards.min.js?v=22080dfa02', 0.0), ('/blog/public/member-attribution.min.js?v=22080dfa02', 0.0), ('https://www.googletagmanager.com/gtag/js?id=UA-147725948-3', 0.0), ('https://polyfill.io/v3/polyfill.min.js?features=IntersectionObserver%2CPromise%2CArray.prototype.includes%2CString.prototype.endsWith%2CString.prototype.startsWith%2CObject.assign%2CNodeList.prototype.forEach', 14.1123046875), ('/blog/assets/js/vendor/content-api.min.js?v=22080dfa02', 0.0), ('/blog/assets/js/manifest.js?v=22080dfa02', 0.0), ('/blog/assets/js/vendor.js?v=22080dfa02', 0.0), ('/blog/assets/js/app.js?v=22080dfa02', 0.0), ('/blog/assets/css/app.css?v=22080dfa02', 0.0), ('/blog/public/cards.min.css?v=22080dfa02', 0.0)]\n",
      "Analyzing 207 of 246: https://famapp.in/blog/perks-of-using-the-famcard-me/\n",
      "Page size: 39.755859375 KB\n",
      "Resource sizes: [('https://fampay.in/blog/content/images/2020/11/logofilewhite-11-2.png', 0.130859375), ('https://fampay.in/blog/content/images/2020/11/logofilewhite-11-2.png', 0.130859375), ('https://fampay.in/blog/content/images/2021/08/9334CB1C-358A-4563-84ED-11A11466F3B6.jpeg', 0.130859375), ('https://fampay.in/blog/content/images/2021/08/AA9F33FC-1ACB-49EB-A087-2269C23D7EFB.jpeg', 0.130859375), ('https://fampay.in/blog/content/images/2021/08/4970929F-5733-4C95-A5DB-1DB85970C901.jpeg', 0.130859375), ('https://fampay.in/blog/content/images/2021/08/C1F98D9F-C1ED-4916-93B0-DF9782589FD1.jpeg', 0.130859375), ('/blog/assets/images/success.png?v=22080dfa02', 0.0), ('https://cdn.jsdelivr.net/ghost/portal@~2.30/umd/portal.min.js', 170.8154296875), ('https://cdn.jsdelivr.net/ghost/sodo-search@~1.1/umd/sodo-search.min.js', 95.5751953125), ('/blog/public/cards.min.js?v=22080dfa02', 0.0), ('/blog/public/member-attribution.min.js?v=22080dfa02', 0.0), ('https://www.googletagmanager.com/gtag/js?id=UA-147725948-3', 0.0), ('https://polyfill.io/v3/polyfill.min.js?features=IntersectionObserver%2CPromise%2CArray.prototype.includes%2CString.prototype.endsWith%2CString.prototype.startsWith%2CObject.assign%2CNodeList.prototype.forEach', 14.1123046875), ('/blog/assets/js/vendor/content-api.min.js?v=22080dfa02', 0.0), ('/blog/assets/js/manifest.js?v=22080dfa02', 0.0), ('/blog/assets/js/vendor.js?v=22080dfa02', 0.0), ('/blog/assets/js/app.js?v=22080dfa02', 0.0), ('/blog/assets/js/post.js?v=22080dfa02', 0.0), ('/blog/assets/css/app.css?v=22080dfa02', 0.0), ('/blog/public/cards.min.css?v=22080dfa02', 0.0)]\n",
      "Analyzing 208 of 246: https://famapp.in/blog/guide-for-seeking-support-from-fampay-important-dos-and-donts/\n",
      "Page size: 43.708984375 KB\n",
      "Resource sizes: [('https://fampay.in/blog/content/images/2020/11/logofilewhite-11-2.png', 0.130859375), ('https://fampay.in/blog/content/images/2020/11/logofilewhite-11-2.png', 0.130859375), ('https://fampay.in/blog/content/images/2021/05/DO-s-and-Don-ts--2-.png', 0.130859375), ('https://fampay.in/blog/content/images/2021/04/dont1.gif', 0.130859375), ('https://fampay.in/blog/content/images/2021/04/cool.gif', 0.130859375), ('https://fampay.in/blog/content/images/2021/04/hi51.gif', 0.130859375), ('/blog/assets/images/success.png?v=22080dfa02', 0.0), ('https://cdn.jsdelivr.net/ghost/portal@~2.30/umd/portal.min.js', 170.8154296875), ('https://cdn.jsdelivr.net/ghost/sodo-search@~1.1/umd/sodo-search.min.js', 95.5751953125), ('/blog/public/cards.min.js?v=22080dfa02', 0.0), ('/blog/public/member-attribution.min.js?v=22080dfa02', 0.0), ('https://www.googletagmanager.com/gtag/js?id=UA-147725948-3', 0.0), ('https://polyfill.io/v3/polyfill.min.js?features=IntersectionObserver%2CPromise%2CArray.prototype.includes%2CString.prototype.endsWith%2CString.prototype.startsWith%2CObject.assign%2CNodeList.prototype.forEach', 14.1123046875), ('/blog/assets/js/vendor/content-api.min.js?v=22080dfa02', 0.0), ('/blog/assets/js/manifest.js?v=22080dfa02', 0.0), ('/blog/assets/js/vendor.js?v=22080dfa02', 0.0), ('/blog/assets/js/app.js?v=22080dfa02', 0.0), ('/blog/assets/js/post.js?v=22080dfa02', 0.0), ('/blog/assets/css/app.css?v=22080dfa02', 0.0), ('/blog/public/cards.min.css?v=22080dfa02', 0.0)]\n",
      "Analyzing 209 of 246: https://famapp.in/blog/7-clever-saving-hacks-for-teenagers-this-will-save-you-a-fortune/\n",
      "Page size: 45.39453125 KB\n",
      "Resource sizes: [('https://fampay.in/blog/content/images/2020/11/logofilewhite-11-2.png', 0.130859375), ('https://fampay.in/blog/content/images/2020/11/logofilewhite-11-2.png', 0.130859375), ('https://fampay.in/blog/content/images/2021/02/Untitled--1-.jpg', 0.130859375), ('https://fampay.in/blog/content/images/2021/02/Untitled--2---1-.jpg', 0.130859375), ('https://fampay.in/blog/content/images/2021/02/Untitled--3-.jpg', 0.130859375), ('https://fampay.in/blog/favicon.png', 0.130859375), ('https://fampay.in/blog/content/images/2020/11/pexels-photo-5366490.png-2.jpg', 0.130859375), ('https://fampay.in/blog/content/images/2021/02/790ad0ae-77ab-4054-a5b7-2591bdad1683--1-.jpg', 0.130859375), ('https://fampay.in/blog/content/images/2021/02/Untitled--5--1.jpg', 0.130859375), ('https://fampay.in/blog/content/images/2021/02/Untitled--6-.png', 0.130859375), ('https://static-exp1.licdn.com/sc/h/al2o9zrvru7aqj8e1x2rzsrca', 0.01953125), ('https://static-exp1.licdn.com/sc/h/c45fy346jw096z9pbphyyhdz7', 34.0400390625), ('https://static-exp1.licdn.com/sc/h/al2o9zrvru7aqj8e1x2rzsrca', 0.01953125), ('https://media-exp1.licdn.com/dms/image/C4E05AQFnRG5LadGp5A/feedshare-thumbnail_720_1280/0/1611842592896?e=1614182400&v=beta&t=M1Nm7aDiwMinNfKEgCFi6rLJPD0cO6PrM1Ev6on5GcU', 0.375), ('https://static-exp1.licdn.com/sc/h/al2o9zrvru7aqj8e1x2rzsrca', 0.01953125), ('https://media-exp1.licdn.com/dms/image/C5605AQHRr5CNUr5Ugw/feedshare-thumbnail_720_1280/0/1613834028097?e=1614182400&v=beta&t=RZ9W23hvEBo352XoDRt9WTrQRPz1lOkgYHLyLIKAdaQ', 0.375), ('https://fampay.in/blog/content/images/2021/02/Untitled--7-.jpg', 0.130859375), ('/blog/assets/images/success.png?v=22080dfa02', 0.0), ('https://cdn.jsdelivr.net/ghost/portal@~2.30/umd/portal.min.js', 170.8154296875), ('https://cdn.jsdelivr.net/ghost/sodo-search@~1.1/umd/sodo-search.min.js', 95.5751953125), ('/blog/public/cards.min.js?v=22080dfa02', 0.0), ('/blog/public/member-attribution.min.js?v=22080dfa02', 0.0), ('https://www.googletagmanager.com/gtag/js?id=UA-147725948-3', 0.0), ('https://polyfill.io/v3/polyfill.min.js?features=IntersectionObserver%2CPromise%2CArray.prototype.includes%2CString.prototype.endsWith%2CString.prototype.startsWith%2CObject.assign%2CNodeList.prototype.forEach', 14.1123046875), ('/blog/assets/js/vendor/content-api.min.js?v=22080dfa02', 0.0), ('/blog/assets/js/manifest.js?v=22080dfa02', 0.0), ('/blog/assets/js/vendor.js?v=22080dfa02', 0.0), ('/blog/assets/js/app.js?v=22080dfa02', 0.0), ('/blog/assets/js/post.js?v=22080dfa02', 0.0), ('/blog/assets/css/app.css?v=22080dfa02', 0.0), ('/blog/public/cards.min.css?v=22080dfa02', 0.0)]\n",
      "Analyzing 210 of 246: https://fampay.in/blog/baddie-on-a-budget-budgeting-tricks-for-teens/\n",
      "Page size: 41.9375 KB\n",
      "Resource sizes: [('https://fampay.in/blog/content/images/2020/11/logofilewhite-11-2.png', 0.130859375), ('https://fampay.in/blog/content/images/2020/11/logofilewhite-11-2.png', 0.130859375), ('https://fampay.in/blog/content/images/2020/10/tenor-13.gif', 0.130859375), ('https://fampay.in/blog/content/images/2020/10/giphy-9.gif', 0.130859375), ('https://fampay.in/blog/content/images/2020/10/giphy-8.gif', 0.130859375), ('https://fampay.in/blog/content/images/2020/10/tenor-12.gif', 0.130859375), ('/blog/assets/images/success.png?v=22080dfa02', 0.130859375), ('https://cdn.jsdelivr.net/ghost/portal@~2.30/umd/portal.min.js', 170.8154296875), ('https://cdn.jsdelivr.net/ghost/sodo-search@~1.1/umd/sodo-search.min.js', 95.5751953125), ('/blog/public/cards.min.js?v=22080dfa02', 0.130859375), ('/blog/public/member-attribution.min.js?v=22080dfa02', 0.130859375), ('https://www.googletagmanager.com/gtag/js?id=UA-147725948-3', 0.0), ('https://polyfill.io/v3/polyfill.min.js?features=IntersectionObserver%2CPromise%2CArray.prototype.includes%2CString.prototype.endsWith%2CString.prototype.startsWith%2CObject.assign%2CNodeList.prototype.forEach', 14.1123046875), ('/blog/assets/js/vendor/content-api.min.js?v=22080dfa02', 0.130859375), ('/blog/assets/js/manifest.js?v=22080dfa02', 0.130859375), ('/blog/assets/js/vendor.js?v=22080dfa02', 0.130859375), ('/blog/assets/js/app.js?v=22080dfa02', 0.130859375), ('/blog/assets/js/post.js?v=22080dfa02', 0.130859375), ('/blog/assets/css/app.css?v=22080dfa02', 0.130859375), ('/blog/public/cards.min.css?v=22080dfa02', 0.130859375)]\n",
      "Analyzing 211 of 246: https://famapp.in/blog/what-makes-fampay-secure/\n",
      "Page size: 41.2138671875 KB\n",
      "Resource sizes: [('https://fampay.in/blog/content/images/2020/11/logofilewhite-11-2.png', 0.130859375), ('https://fampay.in/blog/content/images/2020/11/logofilewhite-11-2.png', 0.130859375), ('https://fampay.in/blog/content/images/2020/12/partner2.gif', 0.130859375), ('https://fampay.in/blog/content/images/2020/12/wowww2.gif', 0.130859375), ('https://fampay.in/blog/favicon.png', 0.130859375), ('https://fampay.in/blog/content/images/2020/12/Tiara--Blog-3.png', 0.130859375), ('/blog/assets/images/success.png?v=22080dfa02', 0.0), ('https://cdn.jsdelivr.net/ghost/portal@~2.30/umd/portal.min.js', 170.8154296875), ('https://cdn.jsdelivr.net/ghost/sodo-search@~1.1/umd/sodo-search.min.js', 95.5751953125), ('/blog/public/cards.min.js?v=22080dfa02', 0.0), ('/blog/public/member-attribution.min.js?v=22080dfa02', 0.0), ('https://www.googletagmanager.com/gtag/js?id=UA-147725948-3', 0.0), ('https://polyfill.io/v3/polyfill.min.js?features=IntersectionObserver%2CPromise%2CArray.prototype.includes%2CString.prototype.endsWith%2CString.prototype.startsWith%2CObject.assign%2CNodeList.prototype.forEach', 14.1123046875), ('/blog/assets/js/vendor/content-api.min.js?v=22080dfa02', 0.0), ('/blog/assets/js/manifest.js?v=22080dfa02', 0.0), ('/blog/assets/js/vendor.js?v=22080dfa02', 0.0), ('/blog/assets/js/app.js?v=22080dfa02', 0.0), ('/blog/assets/js/post.js?v=22080dfa02', 0.0), ('/blog/assets/css/app.css?v=22080dfa02', 0.0), ('/blog/public/cards.min.css?v=22080dfa02', 0.0)]\n",
      "Analyzing 212 of 246: https://famapp.in/blog/fampays-guide-to-digital-payments-for-teens-important-dos-and-donts/\n",
      "Page size: 42.9814453125 KB\n",
      "Resource sizes: [('https://fampay.in/blog/content/images/2020/11/logofilewhite-11-2.png', 0.130859375), ('https://fampay.in/blog/content/images/2020/11/logofilewhite-11-2.png', 0.130859375), ('https://fampay.in/blog/content/images/2020/12/DO-s-and-Don-ts--2-.png', 0.130859375), ('/blog/assets/images/success.png?v=22080dfa02', 0.0), ('https://cdn.jsdelivr.net/ghost/portal@~2.30/umd/portal.min.js', 170.8154296875), ('https://cdn.jsdelivr.net/ghost/sodo-search@~1.1/umd/sodo-search.min.js', 95.5751953125), ('/blog/public/cards.min.js?v=22080dfa02', 0.0), ('/blog/public/member-attribution.min.js?v=22080dfa02', 0.0), ('https://www.googletagmanager.com/gtag/js?id=UA-147725948-3', 0.0), ('https://polyfill.io/v3/polyfill.min.js?features=IntersectionObserver%2CPromise%2CArray.prototype.includes%2CString.prototype.endsWith%2CString.prototype.startsWith%2CObject.assign%2CNodeList.prototype.forEach', 14.1123046875), ('/blog/assets/js/vendor/content-api.min.js?v=22080dfa02', 0.0), ('/blog/assets/js/manifest.js?v=22080dfa02', 0.0), ('/blog/assets/js/vendor.js?v=22080dfa02', 0.0), ('/blog/assets/js/app.js?v=22080dfa02', 0.0), ('/blog/assets/js/post.js?v=22080dfa02', 0.0), ('/blog/assets/css/app.css?v=22080dfa02', 0.0), ('/blog/public/cards.min.css?v=22080dfa02', 0.0)]\n",
      "Analyzing 213 of 246: https://famapp.in/blog/how-to-order-a-famcard-in-less-than-5-minutes/\n",
      "Page size: 41.404296875 KB\n",
      "Resource sizes: [('https://fampay.in/blog/content/images/2020/11/logofilewhite-11-2.png', 0.130859375), ('https://fampay.in/blog/content/images/2020/11/logofilewhite-11-2.png', 0.130859375), ('https://fampay.in/blog/content/images/2020/08/Untitled-1.png', 0.130859375), ('https://fampay.in/blog/content/images/2020/08/image-2.png', 0.130859375), ('https://fampay.in/blog/content/images/2020/08/new--1-.png', 0.130859375), ('https://fampay.in/blog/content/images/2020/08/Untitled--3-.png', 0.130859375), ('https://fampay.in/blog/content/images/2020/08/image-1.png', 0.130859375), ('https://fampay.in/blog/content/images/2020/08/Untitled--5--2.png', 0.130859375), ('https://fampay.in/blog/content/images/2020/08/Untitled--6-.png', 0.130859375), ('https://fampay.in/blog/content/images/2020/08/image-2.png', 0.130859375), ('/blog/assets/images/success.png?v=22080dfa02', 0.0), ('https://cdn.jsdelivr.net/ghost/portal@~2.30/umd/portal.min.js', 170.8154296875), ('https://cdn.jsdelivr.net/ghost/sodo-search@~1.1/umd/sodo-search.min.js', 95.5751953125), ('/blog/public/cards.min.js?v=22080dfa02', 0.0), ('/blog/public/member-attribution.min.js?v=22080dfa02', 0.0), ('https://www.googletagmanager.com/gtag/js?id=UA-147725948-3', 0.0), ('https://polyfill.io/v3/polyfill.min.js?features=IntersectionObserver%2CPromise%2CArray.prototype.includes%2CString.prototype.endsWith%2CString.prototype.startsWith%2CObject.assign%2CNodeList.prototype.forEach', 14.1123046875), ('/blog/assets/js/vendor/content-api.min.js?v=22080dfa02', 0.0), ('/blog/assets/js/manifest.js?v=22080dfa02', 0.0), ('/blog/assets/js/vendor.js?v=22080dfa02', 0.0), ('/blog/assets/js/app.js?v=22080dfa02', 0.0), ('/blog/assets/js/post.js?v=22080dfa02', 0.0), ('/blog/assets/css/app.css?v=22080dfa02', 0.0), ('/blog/public/cards.min.css?v=22080dfa02', 0.0)]\n",
      "Analyzing 214 of 246: https://fampay.in/blog/one-stop-solution-for-all-your-kyc-concerns/\n",
      "Page size: 40.6416015625 KB\n",
      "Resource sizes: [('https://fampay.in/blog/content/images/2020/11/logofilewhite-11-2.png', 0.130859375), ('https://fampay.in/blog/content/images/2020/11/logofilewhite-11-2.png', 0.130859375), ('https://fampay.in/blog/content/images/2020/08/PicsArt_08-10-02.58.14__01-2.jpg', 0.130859375), ('https://fampay.in/blog/content/images/2020/08/PicsArt_08-10-03.13.07--1-.jpg', 0.130859375), ('https://fampay.in/blog/content/images/2020/08/PicsArt_08-10-03.48.13.jpg', 0.130859375), ('/blog/assets/images/success.png?v=22080dfa02', 0.130859375), ('https://cdn.jsdelivr.net/ghost/portal@~2.30/umd/portal.min.js', 170.8154296875), ('https://cdn.jsdelivr.net/ghost/sodo-search@~1.1/umd/sodo-search.min.js', 95.5751953125), ('/blog/public/cards.min.js?v=22080dfa02', 0.130859375), ('/blog/public/member-attribution.min.js?v=22080dfa02', 0.130859375), ('https://www.googletagmanager.com/gtag/js?id=UA-147725948-3', 0.0), ('https://polyfill.io/v3/polyfill.min.js?features=IntersectionObserver%2CPromise%2CArray.prototype.includes%2CString.prototype.endsWith%2CString.prototype.startsWith%2CObject.assign%2CNodeList.prototype.forEach', 14.1123046875), ('/blog/assets/js/vendor/content-api.min.js?v=22080dfa02', 0.130859375), ('/blog/assets/js/manifest.js?v=22080dfa02', 0.130859375), ('/blog/assets/js/vendor.js?v=22080dfa02', 0.130859375), ('/blog/assets/js/app.js?v=22080dfa02', 0.130859375), ('/blog/assets/js/post.js?v=22080dfa02', 0.130859375), ('/blog/assets/css/app.css?v=22080dfa02', 0.130859375), ('/blog/public/cards.min.css?v=22080dfa02', 0.130859375)]\n",
      "Analyzing 215 of 246: https://fampay.in/blog/fampay-the-solution-to-your-cash-problems/\n",
      "Page size: 76.845703125 KB\n",
      "Resource sizes: [('https://fampay.in/blog/content/images/2020/11/logofilewhite-11-2.png', 0.130859375), ('https://fampay.in/blog/content/images/2020/11/logofilewhite-11-2.png', 0.130859375), ('https://fampay.in/blog/content/images/2020/09/image-6.png', 0.130859375), ('https://fampay.in/blog/content/images/2020/06/image-14.png', 0.130859375), ('/blog/assets/images/success.png?v=22080dfa02', 0.130859375), ('https://cdn.jsdelivr.net/ghost/portal@~2.30/umd/portal.min.js', 170.8154296875), ('https://cdn.jsdelivr.net/ghost/sodo-search@~1.1/umd/sodo-search.min.js', 95.5751953125), ('/blog/public/cards.min.js?v=22080dfa02', 0.130859375), ('/blog/public/member-attribution.min.js?v=22080dfa02', 0.130859375), ('https://www.googletagmanager.com/gtag/js?id=UA-147725948-3', 0.0), ('//www.instagram.com/embed.js', 0.130859375), ('//www.instagram.com/embed.js', 0.130859375), ('//www.instagram.com/embed.js', 0.130859375), ('//www.instagram.com/embed.js', 0.130859375), ('//www.instagram.com/embed.js', 0.130859375), ('https://polyfill.io/v3/polyfill.min.js?features=IntersectionObserver%2CPromise%2CArray.prototype.includes%2CString.prototype.endsWith%2CString.prototype.startsWith%2CObject.assign%2CNodeList.prototype.forEach', 14.1123046875), ('/blog/assets/js/vendor/content-api.min.js?v=22080dfa02', 0.130859375), ('/blog/assets/js/manifest.js?v=22080dfa02', 0.130859375), ('/blog/assets/js/vendor.js?v=22080dfa02', 0.130859375), ('/blog/assets/js/app.js?v=22080dfa02', 0.130859375), ('/blog/assets/js/post.js?v=22080dfa02', 0.130859375), ('/blog/assets/css/app.css?v=22080dfa02', 0.130859375), ('/blog/public/cards.min.css?v=22080dfa02', 0.130859375)]\n",
      "Analyzing 216 of 246: https://famapp.in/blog/tag/product/page/2/\n",
      "Page size: 27.3720703125 KB\n",
      "Resource sizes: [('https://fampay.in/blog/content/images/2020/11/logofilewhite-11-2.png', 0.130859375), ('https://fampay.in/blog/content/images/2020/11/logofilewhite-11-2.png', 0.130859375), ('https://cdn.jsdelivr.net/ghost/portal@~2.30/umd/portal.min.js', 170.8154296875), ('https://cdn.jsdelivr.net/ghost/sodo-search@~1.1/umd/sodo-search.min.js', 95.5751953125), ('/blog/public/cards.min.js?v=22080dfa02', 0.0), ('/blog/public/member-attribution.min.js?v=22080dfa02', 0.0), ('https://www.googletagmanager.com/gtag/js?id=UA-147725948-3', 0.0), ('https://polyfill.io/v3/polyfill.min.js?features=IntersectionObserver%2CPromise%2CArray.prototype.includes%2CString.prototype.endsWith%2CString.prototype.startsWith%2CObject.assign%2CNodeList.prototype.forEach', 14.1123046875), ('/blog/assets/js/vendor/content-api.min.js?v=22080dfa02', 0.0), ('/blog/assets/js/manifest.js?v=22080dfa02', 0.0), ('/blog/assets/js/vendor.js?v=22080dfa02', 0.0), ('/blog/assets/js/app.js?v=22080dfa02', 0.0), ('/blog/assets/css/app.css?v=22080dfa02', 0.0), ('/blog/public/cards.min.css?v=22080dfa02', 0.0)]\n",
      "Analyzing 217 of 246: https://famapp.in/blog/one-stop-solution-for-all-your-kyc-concerns/\n",
      "Page size: 40.6416015625 KB\n",
      "Resource sizes: [('https://fampay.in/blog/content/images/2020/11/logofilewhite-11-2.png', 0.130859375), ('https://fampay.in/blog/content/images/2020/11/logofilewhite-11-2.png', 0.130859375), ('https://fampay.in/blog/content/images/2020/08/PicsArt_08-10-02.58.14__01-2.jpg', 0.130859375), ('https://fampay.in/blog/content/images/2020/08/PicsArt_08-10-03.13.07--1-.jpg', 0.130859375), ('https://fampay.in/blog/content/images/2020/08/PicsArt_08-10-03.48.13.jpg', 0.130859375), ('/blog/assets/images/success.png?v=22080dfa02', 0.0), ('https://cdn.jsdelivr.net/ghost/portal@~2.30/umd/portal.min.js', 170.8154296875), ('https://cdn.jsdelivr.net/ghost/sodo-search@~1.1/umd/sodo-search.min.js', 95.5751953125), ('/blog/public/cards.min.js?v=22080dfa02', 0.0), ('/blog/public/member-attribution.min.js?v=22080dfa02', 0.0), ('https://www.googletagmanager.com/gtag/js?id=UA-147725948-3', 0.0), ('https://polyfill.io/v3/polyfill.min.js?features=IntersectionObserver%2CPromise%2CArray.prototype.includes%2CString.prototype.endsWith%2CString.prototype.startsWith%2CObject.assign%2CNodeList.prototype.forEach', 14.1123046875), ('/blog/assets/js/vendor/content-api.min.js?v=22080dfa02', 0.0), ('/blog/assets/js/manifest.js?v=22080dfa02', 0.0), ('/blog/assets/js/vendor.js?v=22080dfa02', 0.0), ('/blog/assets/js/app.js?v=22080dfa02', 0.0), ('/blog/assets/js/post.js?v=22080dfa02', 0.0), ('/blog/assets/css/app.css?v=22080dfa02', 0.0), ('/blog/public/cards.min.css?v=22080dfa02', 0.0)]\n",
      "Analyzing 218 of 246: https://famapp.in/blog/everything-you-need-to-know-about-our-numberless-card/\n",
      "Page size: 45.775390625 KB\n",
      "Resource sizes: [('https://fampay.in/blog/content/images/2020/11/logofilewhite-11-2.png', 0.130859375), ('https://fampay.in/blog/content/images/2020/11/logofilewhite-11-2.png', 0.130859375), ('https://fampay.in/blog/content/images/2020/07/CardInstagramPR--1-.png', 0.130859375), ('https://fampay.in/blog/content/images/2020/07/security.gif', 0.130859375), ('https://fampay.in/blog/content/images/2020/07/contactless.gif', 0.130859375), ('https://fampay.in/blog/content/images/2020/07/nofrills.gif', 0.130859375), ('/blog/assets/images/success.png?v=22080dfa02', 0.0), ('https://cdn.jsdelivr.net/ghost/portal@~2.30/umd/portal.min.js', 170.8154296875), ('https://cdn.jsdelivr.net/ghost/sodo-search@~1.1/umd/sodo-search.min.js', 95.5751953125), ('/blog/public/cards.min.js?v=22080dfa02', 0.0), ('/blog/public/member-attribution.min.js?v=22080dfa02', 0.0), ('https://www.googletagmanager.com/gtag/js?id=UA-147725948-3', 0.0), ('https://platform.twitter.com/widgets.js', 91.0537109375), ('https://polyfill.io/v3/polyfill.min.js?features=IntersectionObserver%2CPromise%2CArray.prototype.includes%2CString.prototype.endsWith%2CString.prototype.startsWith%2CObject.assign%2CNodeList.prototype.forEach', 14.1123046875), ('/blog/assets/js/vendor/content-api.min.js?v=22080dfa02', 0.0), ('/blog/assets/js/manifest.js?v=22080dfa02', 0.0), ('/blog/assets/js/vendor.js?v=22080dfa02', 0.0), ('/blog/assets/js/app.js?v=22080dfa02', 0.0), ('/blog/assets/js/post.js?v=22080dfa02', 0.0), ('/blog/assets/css/app.css?v=22080dfa02', 0.0), ('/blog/public/cards.min.css?v=22080dfa02', 0.0)]\n",
      "Analyzing 219 of 246: https://famapp.in/blog/famcard-your-first-prepaid-card/\n",
      "Page size: 40.01953125 KB\n",
      "Resource sizes: [('https://fampay.in/blog/content/images/2020/11/logofilewhite-11-2.png', 0.130859375), ('https://fampay.in/blog/content/images/2020/11/logofilewhite-11-2.png', 0.130859375), ('https://fampay.in/blog/content/images/2020/06/famcard-tinder.png', 0.130859375), ('https://fampay.in/blog/content/images/2020/06/swipe-right-gif.gif', 0.130859375), ('https://fampay.in/blog/content/images/2020/06/match-gif.gif', 0.130859375), ('https://fampay.in/blog/content/images/2020/06/service.gif', 0.130859375), ('https://fampay.in/blog/content/images/2020/06/tattoo.gif', 0.130859375), ('https://fampay.in/blog/content/images/2020/06/secret.gif', 0.130859375), ('https://fampay.in/blog/content/images/2020/06/icecream.gif', 0.130859375), ('https://fampay.in/blog/content/images/2020/06/shopping.gif', 0.130859375), ('https://fampay.in/blog/content/images/2020/06/giphy.gif', 0.130859375), ('https://fampay.in/blog/content/images/2020/06/doorstep.gif', 0.130859375), ('/blog/assets/images/success.png?v=22080dfa02', 0.0), ('https://cdn.jsdelivr.net/ghost/portal@~2.30/umd/portal.min.js', 170.8154296875), ('https://cdn.jsdelivr.net/ghost/sodo-search@~1.1/umd/sodo-search.min.js', 95.5751953125), ('/blog/public/cards.min.js?v=22080dfa02', 0.0), ('/blog/public/member-attribution.min.js?v=22080dfa02', 0.0), ('https://www.googletagmanager.com/gtag/js?id=UA-147725948-3', 0.0), ('https://polyfill.io/v3/polyfill.min.js?features=IntersectionObserver%2CPromise%2CArray.prototype.includes%2CString.prototype.endsWith%2CString.prototype.startsWith%2CObject.assign%2CNodeList.prototype.forEach', 14.1123046875), ('/blog/assets/js/vendor/content-api.min.js?v=22080dfa02', 0.0), ('/blog/assets/js/manifest.js?v=22080dfa02', 0.0), ('/blog/assets/js/vendor.js?v=22080dfa02', 0.0), ('/blog/assets/js/app.js?v=22080dfa02', 0.0), ('/blog/assets/js/post.js?v=22080dfa02', 0.0), ('/blog/assets/css/app.css?v=22080dfa02', 0.0), ('/blog/public/cards.min.css?v=22080dfa02', 0.0)]\n",
      "Analyzing 220 of 246: https://famapp.in/blog/savings-for-teens-its-never-too-early-to-start/\n",
      "Page size: 54.9326171875 KB\n",
      "Resource sizes: [('https://fampay.in/blog/content/images/2020/11/logofilewhite-11-2.png', 0.130859375), ('https://fampay.in/blog/content/images/2020/11/logofilewhite-11-2.png', 0.130859375), ('https://fampay.in/blog/content/images/2020/06/image.png', 0.130859375), ('https://fampay.in/blog/content/images/2020/06/Animated-GIF-downsized.gif', 0.130859375), ('/blog/assets/images/success.png?v=22080dfa02', 0.0), ('https://cdn.jsdelivr.net/ghost/portal@~2.30/umd/portal.min.js', 170.8154296875), ('https://cdn.jsdelivr.net/ghost/sodo-search@~1.1/umd/sodo-search.min.js', 95.5751953125), ('/blog/public/cards.min.js?v=22080dfa02', 0.0), ('/blog/public/member-attribution.min.js?v=22080dfa02', 0.0), ('https://www.googletagmanager.com/gtag/js?id=UA-147725948-3', 0.0), ('//www.instagram.com/embed.js', 0.0), ('//www.instagram.com/embed.js', 0.0), ('https://polyfill.io/v3/polyfill.min.js?features=IntersectionObserver%2CPromise%2CArray.prototype.includes%2CString.prototype.endsWith%2CString.prototype.startsWith%2CObject.assign%2CNodeList.prototype.forEach', 14.1123046875), ('/blog/assets/js/vendor/content-api.min.js?v=22080dfa02', 0.0), ('/blog/assets/js/manifest.js?v=22080dfa02', 0.0), ('/blog/assets/js/vendor.js?v=22080dfa02', 0.0), ('/blog/assets/js/app.js?v=22080dfa02', 0.0), ('/blog/assets/js/post.js?v=22080dfa02', 0.0), ('/blog/assets/css/app.css?v=22080dfa02', 0.0), ('/blog/public/cards.min.css?v=22080dfa02', 0.0)]\n",
      "Analyzing 221 of 246: https://famapp.in/blog/fampay-the-solution-to-your-cash-problems/\n",
      "Page size: 76.845703125 KB\n",
      "Resource sizes: [('https://fampay.in/blog/content/images/2020/11/logofilewhite-11-2.png', 0.130859375), ('https://fampay.in/blog/content/images/2020/11/logofilewhite-11-2.png', 0.130859375), ('https://fampay.in/blog/content/images/2020/09/image-6.png', 0.130859375), ('https://fampay.in/blog/content/images/2020/06/image-14.png', 0.130859375), ('/blog/assets/images/success.png?v=22080dfa02', 0.0), ('https://cdn.jsdelivr.net/ghost/portal@~2.30/umd/portal.min.js', 170.8154296875), ('https://cdn.jsdelivr.net/ghost/sodo-search@~1.1/umd/sodo-search.min.js', 95.5751953125), ('/blog/public/cards.min.js?v=22080dfa02', 0.0), ('/blog/public/member-attribution.min.js?v=22080dfa02', 0.0), ('https://www.googletagmanager.com/gtag/js?id=UA-147725948-3', 0.0), ('//www.instagram.com/embed.js', 0.0), ('//www.instagram.com/embed.js', 0.0), ('//www.instagram.com/embed.js', 0.0), ('//www.instagram.com/embed.js', 0.0), ('//www.instagram.com/embed.js', 0.0), ('https://polyfill.io/v3/polyfill.min.js?features=IntersectionObserver%2CPromise%2CArray.prototype.includes%2CString.prototype.endsWith%2CString.prototype.startsWith%2CObject.assign%2CNodeList.prototype.forEach', 14.1123046875), ('/blog/assets/js/vendor/content-api.min.js?v=22080dfa02', 0.0), ('/blog/assets/js/manifest.js?v=22080dfa02', 0.0), ('/blog/assets/js/vendor.js?v=22080dfa02', 0.0), ('/blog/assets/js/app.js?v=22080dfa02', 0.0), ('/blog/assets/js/post.js?v=22080dfa02', 0.0), ('/blog/assets/css/app.css?v=22080dfa02', 0.0), ('/blog/public/cards.min.css?v=22080dfa02', 0.0)]\n",
      "Analyzing 222 of 246: https://famapp.in/blog/tag/tech/\n",
      "Page size: 32.951171875 KB\n",
      "Resource sizes: [('https://fampay.in/blog/content/images/2020/11/logofilewhite-11-2.png', 0.130859375), ('https://fampay.in/blog/content/images/2020/11/logofilewhite-11-2.png', 0.130859375), ('https://cdn.jsdelivr.net/ghost/portal@~2.30/umd/portal.min.js', 170.8154296875), ('https://cdn.jsdelivr.net/ghost/sodo-search@~1.1/umd/sodo-search.min.js', 95.5751953125), ('/blog/public/cards.min.js?v=22080dfa02', 0.0), ('/blog/public/member-attribution.min.js?v=22080dfa02', 0.0), ('https://www.googletagmanager.com/gtag/js?id=UA-147725948-3', 0.0), ('https://polyfill.io/v3/polyfill.min.js?features=IntersectionObserver%2CPromise%2CArray.prototype.includes%2CString.prototype.endsWith%2CString.prototype.startsWith%2CObject.assign%2CNodeList.prototype.forEach', 14.1123046875), ('/blog/assets/js/vendor/content-api.min.js?v=22080dfa02', 0.0), ('/blog/assets/js/manifest.js?v=22080dfa02', 0.0), ('/blog/assets/js/vendor.js?v=22080dfa02', 0.0), ('/blog/assets/js/app.js?v=22080dfa02', 0.0), ('/blog/assets/css/app.css?v=22080dfa02', 0.0), ('/blog/public/cards.min.css?v=22080dfa02', 0.0)]\n",
      "Analyzing 223 of 246: https://famapp.in/blog/how-a-pressing-problem-can-lead-to-technological-innovation/\n",
      "Page size: 41.3701171875 KB\n",
      "Resource sizes: [('https://fampay.in/blog/content/images/2020/11/logofilewhite-11-2.png', 0.130859375), ('https://fampay.in/blog/content/images/2020/11/logofilewhite-11-2.png', 0.130859375), ('https://fampay.in/blog/content/images/2020/06/1_ErIBvOwUHQWIviTxFnYp_w.jpeg', 0.130859375), ('https://fampay.in/blog/content/images/2020/06/1_L6K_Os6IGgSDZMdHTbU2rg.jpeg', 0.130859375), ('https://fampay.in/blog/content/images/2020/06/1_BoNiE-EUrq_YK44Fz-5NJQ.jpeg', 0.130859375), ('https://fampay.in/blog/content/images/2020/06/1_JN-Q_97duhlmTatayXTiXQ.jpeg', 0.130859375), ('/blog/assets/images/success.png?v=22080dfa02', 0.0), ('https://cdn.jsdelivr.net/ghost/portal@~2.30/umd/portal.min.js', 170.8154296875), ('https://cdn.jsdelivr.net/ghost/sodo-search@~1.1/umd/sodo-search.min.js', 95.5751953125), ('/blog/public/cards.min.js?v=22080dfa02', 0.0), ('/blog/public/member-attribution.min.js?v=22080dfa02', 0.0), ('https://www.googletagmanager.com/gtag/js?id=UA-147725948-3', 0.0), ('https://polyfill.io/v3/polyfill.min.js?features=IntersectionObserver%2CPromise%2CArray.prototype.includes%2CString.prototype.endsWith%2CString.prototype.startsWith%2CObject.assign%2CNodeList.prototype.forEach', 14.1123046875), ('/blog/assets/js/vendor/content-api.min.js?v=22080dfa02', 0.0), ('/blog/assets/js/manifest.js?v=22080dfa02', 0.0), ('/blog/assets/js/vendor.js?v=22080dfa02', 0.0), ('/blog/assets/js/app.js?v=22080dfa02', 0.0), ('/blog/assets/js/post.js?v=22080dfa02', 0.0), ('/blog/assets/css/app.css?v=22080dfa02', 0.0), ('/blog/public/cards.min.css?v=22080dfa02', 0.0)]\n",
      "Analyzing 224 of 246: https://famapp.in/blog/how-i-blurred-age-barriers-with-technology/\n",
      "Page size: 40.439453125 KB\n",
      "Resource sizes: [('https://fampay.in/blog/content/images/2020/11/logofilewhite-11-2.png', 0.130859375), ('https://fampay.in/blog/content/images/2020/11/logofilewhite-11-2.png', 0.130859375), ('https://fampay.in/blog/content/images/2020/06/0_ze4MeWZfK5-3mQyl.jpeg', 0.130859375), ('https://fampay.in/blog/content/images/2020/06/0_fJFL5cuJYHD24Y-y.jpeg', 0.130859375), ('https://fampay.in/blog/content/images/2020/06/0_sbvZLoKzsIhKvigT.jpeg', 0.130859375), ('/blog/assets/images/success.png?v=22080dfa02', 0.0), ('https://cdn.jsdelivr.net/ghost/portal@~2.30/umd/portal.min.js', 170.8154296875), ('https://cdn.jsdelivr.net/ghost/sodo-search@~1.1/umd/sodo-search.min.js', 95.5751953125), ('/blog/public/cards.min.js?v=22080dfa02', 0.0), ('/blog/public/member-attribution.min.js?v=22080dfa02', 0.0), ('https://www.googletagmanager.com/gtag/js?id=UA-147725948-3', 0.0), ('https://polyfill.io/v3/polyfill.min.js?features=IntersectionObserver%2CPromise%2CArray.prototype.includes%2CString.prototype.endsWith%2CString.prototype.startsWith%2CObject.assign%2CNodeList.prototype.forEach', 14.1123046875), ('/blog/assets/js/vendor/content-api.min.js?v=22080dfa02', 0.0), ('/blog/assets/js/manifest.js?v=22080dfa02', 0.0), ('/blog/assets/js/vendor.js?v=22080dfa02', 0.0), ('/blog/assets/js/app.js?v=22080dfa02', 0.0), ('/blog/assets/js/post.js?v=22080dfa02', 0.0), ('/blog/assets/css/app.css?v=22080dfa02', 0.0), ('/blog/public/cards.min.css?v=22080dfa02', 0.0)]\n",
      "Analyzing 225 of 246: https://famapp.in/blog/how-to-clean-up-your-android-apps-dependencies-the-ultimate-guide-2/\n",
      "Page size: 53.275390625 KB\n",
      "Resource sizes: [('https://fampay.in/blog/content/images/2020/11/logofilewhite-11-2.png', 0.130859375), ('https://fampay.in/blog/content/images/2020/11/logofilewhite-11-2.png', 0.130859375), ('https://fampay.in/blog/content/images/2023/03/image.png', 0.130859375), ('https://media.giphy.com/media/OkzCcGn5fY29e7bvpS/giphy.gif', 3602.8544921875), ('https://media.giphy.com/media/PnggNmuamz7kbgfUTL/giphy.gif', 2123.232421875), ('https://media.giphy.com/media/mMDA2ZvTdzJPk6RAlP/giphy.gif', 1749.7841796875), ('https://cdn-images-1.medium.com/max/1600/1*ivqtkW5FXIGYLERe1CYl8w.png', 0.0), ('https://cdn-images-1.medium.com/max/1600/1*VeBwKIh6vDHW-N0GaLrxow.png', 0.0), ('https://cdn-images-1.medium.com/max/1600/1*KhvurcmxU7yMLQavCZm4xw.png', 0.0), ('/blog/assets/images/success.png?v=22080dfa02', 0.0), ('https://cdn.jsdelivr.net/ghost/portal@~2.30/umd/portal.min.js', 170.8154296875), ('https://cdn.jsdelivr.net/ghost/sodo-search@~1.1/umd/sodo-search.min.js', 95.5751953125), ('/blog/public/cards.min.js?v=22080dfa02', 0.0), ('/blog/public/member-attribution.min.js?v=22080dfa02', 0.0), ('https://www.googletagmanager.com/gtag/js?id=UA-147725948-3', 0.0), ('https://polyfill.io/v3/polyfill.min.js?features=IntersectionObserver%2CPromise%2CArray.prototype.includes%2CString.prototype.endsWith%2CString.prototype.startsWith%2CObject.assign%2CNodeList.prototype.forEach', 14.1123046875), ('/blog/assets/js/vendor/content-api.min.js?v=22080dfa02', 0.0), ('/blog/assets/js/manifest.js?v=22080dfa02', 0.0), ('/blog/assets/js/vendor.js?v=22080dfa02', 0.0), ('/blog/assets/js/app.js?v=22080dfa02', 0.0), ('/blog/assets/js/post.js?v=22080dfa02', 0.0), ('/blog/assets/css/app.css?v=22080dfa02', 0.0), ('/blog/public/cards.min.css?v=22080dfa02', 0.0)]\n",
      "Analyzing 226 of 246: https://famapp.in/blog/discover-fampays-engagement-service-missions-3/\n",
      "Page size: 45.0615234375 KB\n",
      "Resource sizes: [('https://fampay.in/blog/content/images/2020/11/logofilewhite-11-2.png', 0.130859375), ('https://fampay.in/blog/content/images/2020/11/logofilewhite-11-2.png', 0.130859375), ('https://cdn-images-1.medium.com/max/1600/1*IF2BJcwp7VgrlMgK1TEaGw.png', 0.0), ('https://cdn-images-1.medium.com/max/1600/1*HWGQo6SxVar42uyJYNq8DA.png', 0.0), ('https://cdn-images-1.medium.com/max/1600/0*LACp9O5RmL6O2Qsa.png', 0.0), ('https://cdn-images-1.medium.com/max/1600/0*UG6fCQayvxpZJixr.gif', 0.0), ('/blog/assets/images/success.png?v=22080dfa02', 0.0), ('https://cdn.jsdelivr.net/ghost/portal@~2.30/umd/portal.min.js', 170.8154296875), ('https://cdn.jsdelivr.net/ghost/sodo-search@~1.1/umd/sodo-search.min.js', 95.5751953125), ('/blog/public/cards.min.js?v=22080dfa02', 0.0), ('/blog/public/member-attribution.min.js?v=22080dfa02', 0.0), ('https://www.googletagmanager.com/gtag/js?id=UA-147725948-3', 0.0), ('https://polyfill.io/v3/polyfill.min.js?features=IntersectionObserver%2CPromise%2CArray.prototype.includes%2CString.prototype.endsWith%2CString.prototype.startsWith%2CObject.assign%2CNodeList.prototype.forEach', 14.1123046875), ('/blog/assets/js/vendor/content-api.min.js?v=22080dfa02', 0.0), ('/blog/assets/js/manifest.js?v=22080dfa02', 0.0), ('/blog/assets/js/vendor.js?v=22080dfa02', 0.0), ('/blog/assets/js/app.js?v=22080dfa02', 0.0), ('/blog/assets/js/post.js?v=22080dfa02', 0.0), ('/blog/assets/css/app.css?v=22080dfa02', 0.0), ('/blog/public/cards.min.css?v=22080dfa02', 0.0)]\n",
      "Analyzing 227 of 246: https://famapp.in/blog/implementing-an-in-memory-queue/\n",
      "Page size: 46.341796875 KB\n",
      "Resource sizes: [('https://fampay.in/blog/content/images/2020/11/logofilewhite-11-2.png', 0.130859375), ('https://fampay.in/blog/content/images/2020/11/logofilewhite-11-2.png', 0.130859375), ('https://fampay.in/blog/content/images/2022/11/image.png', 0.130859375), ('https://fampay.in/blog/content/images/2022/11/image-1.png', 0.130859375), ('https://media.giphy.com/media/RkKMFRHh71RvhCYUx6/giphy.gif', 2538.177734375), ('/blog/assets/images/success.png?v=22080dfa02', 0.0), ('https://cdn.jsdelivr.net/ghost/portal@~2.30/umd/portal.min.js', 170.8154296875), ('https://cdn.jsdelivr.net/ghost/sodo-search@~1.1/umd/sodo-search.min.js', 95.5751953125), ('/blog/public/cards.min.js?v=22080dfa02', 0.0), ('/blog/public/member-attribution.min.js?v=22080dfa02', 0.0), ('https://www.googletagmanager.com/gtag/js?id=UA-147725948-3', 0.0), ('https://polyfill.io/v3/polyfill.min.js?features=IntersectionObserver%2CPromise%2CArray.prototype.includes%2CString.prototype.endsWith%2CString.prototype.startsWith%2CObject.assign%2CNodeList.prototype.forEach', 14.1123046875), ('/blog/assets/js/vendor/content-api.min.js?v=22080dfa02', 0.0), ('/blog/assets/js/manifest.js?v=22080dfa02', 0.0), ('/blog/assets/js/vendor.js?v=22080dfa02', 0.0), ('/blog/assets/js/app.js?v=22080dfa02', 0.0), ('/blog/assets/js/post.js?v=22080dfa02', 0.0), ('/blog/assets/css/app.css?v=22080dfa02', 0.0), ('/blog/public/cards.min.css?v=22080dfa02', 0.0)]\n",
      "Analyzing 228 of 246: https://famapp.in/blog/covid-19-vaccination-as-a-teen-a-guide/\n",
      "Page size: 39.7978515625 KB\n",
      "Resource sizes: [('https://fampay.in/blog/content/images/2020/11/logofilewhite-11-2.png', 0.130859375), ('https://fampay.in/blog/content/images/2020/11/logofilewhite-11-2.png', 0.130859375), ('https://c.tenor.com/J6A4cKTmeF8AAAAM/ariana-grande-me.gif', 311.0361328125), ('https://c.tenor.com/2QYBi_6YjwAAAAAC/batman-thank-you.gif', 290.19140625), ('https://media2.giphy.com/media/3eXl1A3FAWhEWijohy/giphy.gif', 1563.724609375), ('/blog/assets/images/success.png?v=22080dfa02', 0.0), ('https://cdn.jsdelivr.net/ghost/portal@~2.30/umd/portal.min.js', 170.8154296875), ('https://cdn.jsdelivr.net/ghost/sodo-search@~1.1/umd/sodo-search.min.js', 95.5751953125), ('/blog/public/cards.min.js?v=22080dfa02', 0.0), ('/blog/public/member-attribution.min.js?v=22080dfa02', 0.0), ('https://www.googletagmanager.com/gtag/js?id=UA-147725948-3', 0.0), ('https://polyfill.io/v3/polyfill.min.js?features=IntersectionObserver%2CPromise%2CArray.prototype.includes%2CString.prototype.endsWith%2CString.prototype.startsWith%2CObject.assign%2CNodeList.prototype.forEach', 14.1123046875), ('/blog/assets/js/vendor/content-api.min.js?v=22080dfa02', 0.0), ('/blog/assets/js/manifest.js?v=22080dfa02', 0.0), ('/blog/assets/js/vendor.js?v=22080dfa02', 0.0), ('/blog/assets/js/app.js?v=22080dfa02', 0.0), ('/blog/assets/js/post.js?v=22080dfa02', 0.0), ('/blog/assets/css/app.css?v=22080dfa02', 0.0), ('/blog/public/cards.min.css?v=22080dfa02', 0.0)]\n",
      "Analyzing 229 of 246: https://famapp.in/blog/why-vaccination-a-guide-to-vaccination-for-teens-in-india/\n",
      "Page size: 43.0458984375 KB\n",
      "Resource sizes: [('https://fampay.in/blog/content/images/2020/11/logofilewhite-11-2.png', 0.130859375), ('https://fampay.in/blog/content/images/2020/11/logofilewhite-11-2.png', 0.130859375), ('https://fampay.in/blog/content/images/2022/02/image-5.png', 0.130859375), ('https://fampay.in/blog/content/images/2022/02/image-9.png', 0.130859375), ('https://fampay.in/blog/content/images/2022/02/image-8.png', 0.130859375), ('https://fampay.in/blog/content/images/2022/02/image-10.png', 0.130859375), ('https://fampay.in/blog/content/images/2022/02/image-14.png', 0.130859375), ('https://fampay.in/blog/content/images/2022/02/image-13.png', 0.130859375), ('https://fampay.in/blog/content/images/2022/02/image-16.png', 0.130859375), ('/blog/assets/images/success.png?v=22080dfa02', 0.0), ('https://cdn.jsdelivr.net/ghost/portal@~2.30/umd/portal.min.js', 170.8154296875), ('https://cdn.jsdelivr.net/ghost/sodo-search@~1.1/umd/sodo-search.min.js', 95.5751953125), ('/blog/public/cards.min.js?v=22080dfa02', 0.0), ('/blog/public/member-attribution.min.js?v=22080dfa02', 0.0), ('https://www.googletagmanager.com/gtag/js?id=UA-147725948-3', 0.0), ('https://polyfill.io/v3/polyfill.min.js?features=IntersectionObserver%2CPromise%2CArray.prototype.includes%2CString.prototype.endsWith%2CString.prototype.startsWith%2CObject.assign%2CNodeList.prototype.forEach', 14.1123046875), ('/blog/assets/js/vendor/content-api.min.js?v=22080dfa02', 0.0), ('/blog/assets/js/manifest.js?v=22080dfa02', 0.0), ('/blog/assets/js/vendor.js?v=22080dfa02', 0.0), ('/blog/assets/js/app.js?v=22080dfa02', 0.0), ('/blog/assets/js/post.js?v=22080dfa02', 0.0), ('/blog/assets/css/app.css?v=22080dfa02', 0.0), ('/blog/public/cards.min.css?v=22080dfa02', 0.0)]\n",
      "Analyzing 230 of 246: https://famapp.in/blog/study-habits-that-are-simple-and-highly-effective/\n",
      "Page size: 40.28515625 KB\n",
      "Resource sizes: [('https://fampay.in/blog/content/images/2020/11/logofilewhite-11-2.png', 0.130859375), ('https://fampay.in/blog/content/images/2020/11/logofilewhite-11-2.png', 0.130859375), ('https://fampay.in/blog/content/images/2021/11/image.png', 0.130859375), ('https://fampay.in/blog/content/images/2021/11/image-1.png', 0.130859375), ('https://fampay.in/blog/content/images/2021/11/image-2.png', 0.130859375), ('https://fampay.in/blog/content/images/2021/11/image-4.png', 0.130859375), ('https://fampay.in/blog/content/images/2021/11/image-5.png', 0.130859375), ('https://fampay.in/blog/content/images/2021/11/image-8.png', 0.130859375), ('https://fampay.in/blog/content/images/2021/11/image-7.png', 0.130859375), ('/blog/assets/images/success.png?v=22080dfa02', 0.0), ('https://cdn.jsdelivr.net/ghost/portal@~2.30/umd/portal.min.js', 170.8154296875), ('https://cdn.jsdelivr.net/ghost/sodo-search@~1.1/umd/sodo-search.min.js', 95.5751953125), ('/blog/public/cards.min.js?v=22080dfa02', 0.0), ('/blog/public/member-attribution.min.js?v=22080dfa02', 0.0), ('https://www.googletagmanager.com/gtag/js?id=UA-147725948-3', 0.0), ('https://polyfill.io/v3/polyfill.min.js?features=IntersectionObserver%2CPromise%2CArray.prototype.includes%2CString.prototype.endsWith%2CString.prototype.startsWith%2CObject.assign%2CNodeList.prototype.forEach', 14.1123046875), ('/blog/assets/js/vendor/content-api.min.js?v=22080dfa02', 0.0), ('/blog/assets/js/manifest.js?v=22080dfa02', 0.0), ('/blog/assets/js/vendor.js?v=22080dfa02', 0.0), ('/blog/assets/js/app.js?v=22080dfa02', 0.0), ('/blog/assets/js/post.js?v=22080dfa02', 0.0), ('/blog/assets/css/app.css?v=22080dfa02', 0.0), ('/blog/public/cards.min.css?v=22080dfa02', 0.0)]\n",
      "Analyzing 231 of 246: https://famapp.in/blog/how-to-save-those-extra-bucks-while-shopping/\n",
      "Page size: 39.1357421875 KB\n",
      "Resource sizes: [('https://fampay.in/blog/content/images/2020/11/logofilewhite-11-2.png', 0.130859375), ('https://fampay.in/blog/content/images/2020/11/logofilewhite-11-2.png', 0.130859375), ('/blog/assets/images/success.png?v=22080dfa02', 0.0), ('https://cdn.jsdelivr.net/ghost/portal@~2.30/umd/portal.min.js', 170.8154296875), ('https://cdn.jsdelivr.net/ghost/sodo-search@~1.1/umd/sodo-search.min.js', 95.5751953125), ('/blog/public/cards.min.js?v=22080dfa02', 0.0), ('/blog/public/member-attribution.min.js?v=22080dfa02', 0.0), ('https://www.googletagmanager.com/gtag/js?id=UA-147725948-3', 0.0), ('https://polyfill.io/v3/polyfill.min.js?features=IntersectionObserver%2CPromise%2CArray.prototype.includes%2CString.prototype.endsWith%2CString.prototype.startsWith%2CObject.assign%2CNodeList.prototype.forEach', 14.1123046875), ('/blog/assets/js/vendor/content-api.min.js?v=22080dfa02', 0.0), ('/blog/assets/js/manifest.js?v=22080dfa02', 0.0), ('/blog/assets/js/vendor.js?v=22080dfa02', 0.0), ('/blog/assets/js/app.js?v=22080dfa02', 0.0), ('/blog/assets/js/post.js?v=22080dfa02', 0.0), ('/blog/assets/css/app.css?v=22080dfa02', 0.0), ('/blog/public/cards.min.css?v=22080dfa02', 0.0)]\n",
      "Analyzing 232 of 246: https://famapp.in/blog/teen-fashion-trends-that-we-love/\n",
      "Page size: 39.8876953125 KB\n",
      "Resource sizes: [('https://fampay.in/blog/content/images/2020/11/logofilewhite-11-2.png', 0.130859375), ('https://fampay.in/blog/content/images/2020/11/logofilewhite-11-2.png', 0.130859375), ('https://fampay.in/blog/content/images/2021/10/image-13.png', 0.130859375), ('https://fampay.in/blog/content/images/2021/10/image-14.png', 0.130859375), ('https://fampay.in/blog/content/images/2021/10/image-15.png', 0.130859375), ('https://fampay.in/blog/content/images/2021/10/image-16.png', 0.130859375), ('/blog/assets/images/success.png?v=22080dfa02', 0.0), ('https://cdn.jsdelivr.net/ghost/portal@~2.30/umd/portal.min.js', 170.8154296875), ('https://cdn.jsdelivr.net/ghost/sodo-search@~1.1/umd/sodo-search.min.js', 95.5751953125), ('/blog/public/cards.min.js?v=22080dfa02', 0.0), ('/blog/public/member-attribution.min.js?v=22080dfa02', 0.0), ('https://www.googletagmanager.com/gtag/js?id=UA-147725948-3', 0.0), ('https://polyfill.io/v3/polyfill.min.js?features=IntersectionObserver%2CPromise%2CArray.prototype.includes%2CString.prototype.endsWith%2CString.prototype.startsWith%2CObject.assign%2CNodeList.prototype.forEach', 14.1123046875), ('/blog/assets/js/vendor/content-api.min.js?v=22080dfa02', 0.0), ('/blog/assets/js/manifest.js?v=22080dfa02', 0.0), ('/blog/assets/js/vendor.js?v=22080dfa02', 0.0), ('/blog/assets/js/app.js?v=22080dfa02', 0.0), ('/blog/assets/js/post.js?v=22080dfa02', 0.0), ('/blog/assets/css/app.css?v=22080dfa02', 0.0), ('/blog/public/cards.min.css?v=22080dfa02', 0.0)]\n",
      "Analyzing 233 of 246: https://famapp.in/blog/how-to-build-your-resume-and-portfolio-right-from-school/\n",
      "Page size: 42.8212890625 KB\n",
      "Resource sizes: [('https://fampay.in/blog/content/images/2020/11/logofilewhite-11-2.png', 0.130859375), ('https://fampay.in/blog/content/images/2020/11/logofilewhite-11-2.png', 0.130859375), ('https://fampay.in/blog/content/images/2021/10/image-8.png', 0.130859375), ('https://fampay.in/blog/content/images/2021/10/image-11.png', 0.130859375), ('https://fampay.in/blog/content/images/2021/10/image-10.png', 0.130859375), ('https://fampay.in/blog/content/images/2021/10/image-12.png', 0.130859375), ('/blog/assets/images/success.png?v=22080dfa02', 0.0), ('https://cdn.jsdelivr.net/ghost/portal@~2.30/umd/portal.min.js', 170.8154296875), ('https://cdn.jsdelivr.net/ghost/sodo-search@~1.1/umd/sodo-search.min.js', 95.5751953125), ('/blog/public/cards.min.js?v=22080dfa02', 0.0), ('/blog/public/member-attribution.min.js?v=22080dfa02', 0.0), ('https://www.googletagmanager.com/gtag/js?id=UA-147725948-3', 0.0), ('https://polyfill.io/v3/polyfill.min.js?features=IntersectionObserver%2CPromise%2CArray.prototype.includes%2CString.prototype.endsWith%2CString.prototype.startsWith%2CObject.assign%2CNodeList.prototype.forEach', 14.1123046875), ('/blog/assets/js/vendor/content-api.min.js?v=22080dfa02', 0.0), ('/blog/assets/js/manifest.js?v=22080dfa02', 0.0), ('/blog/assets/js/vendor.js?v=22080dfa02', 0.0), ('/blog/assets/js/app.js?v=22080dfa02', 0.0), ('/blog/assets/js/post.js?v=22080dfa02', 0.0), ('/blog/assets/css/app.css?v=22080dfa02', 0.0), ('/blog/public/cards.min.css?v=22080dfa02', 0.0)]\n",
      "Analyzing 234 of 246: https://famapp.in/blog/productivity-hacks-for-teens-this-will-change-your-life/\n",
      "Page size: 39.5654296875 KB\n",
      "Resource sizes: [('https://fampay.in/blog/content/images/2020/11/logofilewhite-11-2.png', 0.130859375), ('https://fampay.in/blog/content/images/2020/11/logofilewhite-11-2.png', 0.130859375), ('https://fampay.in/blog/content/images/2021/10/image.png', 0.130859375), ('https://fampay.in/blog/content/images/2021/10/image-2.png', 0.130859375), ('https://fampay.in/blog/content/images/2021/10/image-4.png', 0.130859375), ('https://fampay.in/blog/content/images/2021/10/image-6.png', 0.130859375), ('https://fampay.in/blog/content/images/2021/10/image-7.png', 0.130859375), ('/blog/assets/images/success.png?v=22080dfa02', 0.0), ('https://cdn.jsdelivr.net/ghost/portal@~2.30/umd/portal.min.js', 170.8154296875), ('https://cdn.jsdelivr.net/ghost/sodo-search@~1.1/umd/sodo-search.min.js', 95.5751953125), ('/blog/public/cards.min.js?v=22080dfa02', 0.0), ('/blog/public/member-attribution.min.js?v=22080dfa02', 0.0), ('https://www.googletagmanager.com/gtag/js?id=UA-147725948-3', 0.0), ('https://polyfill.io/v3/polyfill.min.js?features=IntersectionObserver%2CPromise%2CArray.prototype.includes%2CString.prototype.endsWith%2CString.prototype.startsWith%2CObject.assign%2CNodeList.prototype.forEach', 14.1123046875), ('/blog/assets/js/vendor/content-api.min.js?v=22080dfa02', 0.0), ('/blog/assets/js/manifest.js?v=22080dfa02', 0.0), ('/blog/assets/js/vendor.js?v=22080dfa02', 0.0), ('/blog/assets/js/app.js?v=22080dfa02', 0.0), ('/blog/assets/js/post.js?v=22080dfa02', 0.0), ('/blog/assets/css/app.css?v=22080dfa02', 0.0), ('/blog/public/cards.min.css?v=22080dfa02', 0.0)]\n",
      "Analyzing 235 of 246: https://famapp.in/blog/page/2/\n",
      "Page size: 34.6982421875 KB\n",
      "Resource sizes: [('https://fampay.in/blog/content/images/2020/11/logofilewhite-11-2.png', 0.130859375), ('https://fampay.in/blog/content/images/2020/11/logofilewhite-11-2.png', 0.130859375), ('https://cdn.jsdelivr.net/ghost/portal@~2.30/umd/portal.min.js', 170.8154296875), ('https://cdn.jsdelivr.net/ghost/sodo-search@~1.1/umd/sodo-search.min.js', 95.5751953125), ('/blog/public/cards.min.js?v=22080dfa02', 0.0), ('/blog/public/member-attribution.min.js?v=22080dfa02', 0.0), ('https://www.googletagmanager.com/gtag/js?id=UA-147725948-3', 0.0), ('https://polyfill.io/v3/polyfill.min.js?features=IntersectionObserver%2CPromise%2CArray.prototype.includes%2CString.prototype.endsWith%2CString.prototype.startsWith%2CObject.assign%2CNodeList.prototype.forEach', 14.1123046875), ('/blog/assets/js/vendor/content-api.min.js?v=22080dfa02', 0.0), ('/blog/assets/js/manifest.js?v=22080dfa02', 0.0), ('/blog/assets/js/vendor.js?v=22080dfa02', 0.0), ('/blog/assets/js/app.js?v=22080dfa02', 0.0), ('/blog/assets/js/home.js?v=22080dfa02', 0.0), ('/blog/assets/css/app.css?v=22080dfa02', 0.0), ('/blog/public/cards.min.css?v=22080dfa02', 0.0)]\n",
      "Analyzing 236 of 246: https://famapp.in/blog/page/3/\n",
      "Page size: 34.6455078125 KB\n",
      "Resource sizes: [('https://fampay.in/blog/content/images/2020/11/logofilewhite-11-2.png', 0.130859375), ('https://fampay.in/blog/content/images/2020/11/logofilewhite-11-2.png', 0.130859375), ('https://cdn.jsdelivr.net/ghost/portal@~2.30/umd/portal.min.js', 170.8154296875), ('https://cdn.jsdelivr.net/ghost/sodo-search@~1.1/umd/sodo-search.min.js', 95.5751953125), ('/blog/public/cards.min.js?v=22080dfa02', 0.0), ('/blog/public/member-attribution.min.js?v=22080dfa02', 0.0), ('https://www.googletagmanager.com/gtag/js?id=UA-147725948-3', 0.0), ('https://polyfill.io/v3/polyfill.min.js?features=IntersectionObserver%2CPromise%2CArray.prototype.includes%2CString.prototype.endsWith%2CString.prototype.startsWith%2CObject.assign%2CNodeList.prototype.forEach', 14.1123046875), ('/blog/assets/js/vendor/content-api.min.js?v=22080dfa02', 0.0), ('/blog/assets/js/manifest.js?v=22080dfa02', 0.0), ('/blog/assets/js/vendor.js?v=22080dfa02', 0.0), ('/blog/assets/js/app.js?v=22080dfa02', 0.0), ('/blog/assets/js/home.js?v=22080dfa02', 0.0), ('/blog/assets/css/app.css?v=22080dfa02', 0.0), ('/blog/public/cards.min.css?v=22080dfa02', 0.0)]\n",
      "Analyzing 237 of 246: https://famapp.in/blog/page/4/\n",
      "Page size: 34.587890625 KB\n",
      "Resource sizes: [('https://fampay.in/blog/content/images/2020/11/logofilewhite-11-2.png', 0.130859375), ('https://fampay.in/blog/content/images/2020/11/logofilewhite-11-2.png', 0.130859375), ('https://cdn.jsdelivr.net/ghost/portal@~2.30/umd/portal.min.js', 170.8154296875), ('https://cdn.jsdelivr.net/ghost/sodo-search@~1.1/umd/sodo-search.min.js', 95.5751953125), ('/blog/public/cards.min.js?v=22080dfa02', 0.0), ('/blog/public/member-attribution.min.js?v=22080dfa02', 0.0), ('https://www.googletagmanager.com/gtag/js?id=UA-147725948-3', 0.0), ('https://polyfill.io/v3/polyfill.min.js?features=IntersectionObserver%2CPromise%2CArray.prototype.includes%2CString.prototype.endsWith%2CString.prototype.startsWith%2CObject.assign%2CNodeList.prototype.forEach', 14.1123046875), ('/blog/assets/js/vendor/content-api.min.js?v=22080dfa02', 0.0), ('/blog/assets/js/manifest.js?v=22080dfa02', 0.0), ('/blog/assets/js/vendor.js?v=22080dfa02', 0.0), ('/blog/assets/js/app.js?v=22080dfa02', 0.0), ('/blog/assets/js/home.js?v=22080dfa02', 0.0), ('/blog/assets/css/app.css?v=22080dfa02', 0.0), ('/blog/public/cards.min.css?v=22080dfa02', 0.0)]\n",
      "Analyzing 238 of 246: https://famapp.in/blog/page/5/\n",
      "Page size: 34.775390625 KB\n",
      "Resource sizes: [('https://fampay.in/blog/content/images/2020/11/logofilewhite-11-2.png', 0.130859375), ('https://fampay.in/blog/content/images/2020/11/logofilewhite-11-2.png', 0.130859375), ('https://cdn.jsdelivr.net/ghost/portal@~2.30/umd/portal.min.js', 170.8154296875), ('https://cdn.jsdelivr.net/ghost/sodo-search@~1.1/umd/sodo-search.min.js', 95.5751953125), ('/blog/public/cards.min.js?v=22080dfa02', 0.0), ('/blog/public/member-attribution.min.js?v=22080dfa02', 0.0), ('https://www.googletagmanager.com/gtag/js?id=UA-147725948-3', 0.0), ('https://polyfill.io/v3/polyfill.min.js?features=IntersectionObserver%2CPromise%2CArray.prototype.includes%2CString.prototype.endsWith%2CString.prototype.startsWith%2CObject.assign%2CNodeList.prototype.forEach', 14.1123046875), ('/blog/assets/js/vendor/content-api.min.js?v=22080dfa02', 0.0), ('/blog/assets/js/manifest.js?v=22080dfa02', 0.0), ('/blog/assets/js/vendor.js?v=22080dfa02', 0.0), ('/blog/assets/js/app.js?v=22080dfa02', 0.0), ('/blog/assets/js/home.js?v=22080dfa02', 0.0), ('/blog/assets/css/app.css?v=22080dfa02', 0.0), ('/blog/public/cards.min.css?v=22080dfa02', 0.0)]\n",
      "Analyzing 239 of 246: https://famapp.in/careers\n",
      "Page size: 22.8056640625 KB\n",
      "Resource sizes: [('/assets/images/icons/common/partyCapIcon.svg', 0.0), ('/assets/images/icons/common/partyFaceIcon.svg', 0.0), ('/assets/images/icons/common/singleGreyArrowIcon.svg', 0.0), ('/assets/images/icons/common/headerWhiteLogoIcon.svg', 0.0), ('/assets/images/images/pages/careers/famWork1Image.png', 0.0), ('/assets/images/images/pages/careers/famWork2Image.png', 0.0), ('/assets/images/images/pages/careers/famWork3Image.png', 0.0), ('/assets/images/images/pages/careers/famWork4Image.png', 0.0), ('/assets/images/icons/common/instagramColorIcon.svg', 0.0), ('/assets/images/icons/common/instagramColorIcon.svg', 0.0), ('/assets/images/icons/common/instagramColorIcon.svg', 0.0), ('/assets/images/icons/common/twitterColorIcon.svg', 0.0), ('/assets/images/icons/common/linkedinColorIcon.png', 0.0), ('/assets/images/images/pages/careers/famPerk2Image.jpg', 0.0), ('/assets/images/images/pages/careers/famPerk3Image.jpg', 0.0), ('/assets/images/images/pages/careers/famPerk4Image.jpg', 0.0), ('/assets/images/images/pages/careers/famPerk5Image.jpg', 0.0), ('/assets/images/images/pages/careers/famPerk5Image.jpg', 0.0), ('/assets/images/icons/common/headerWhiteLogoIcon.svg', 0.0), ('/assets/images/icons/common/facebookGreyIcon.svg', 0.0), ('/assets/images/icons/common/mediumGreyIcon.svg', 0.0), ('/assets/images/icons/common/instagramGreyIcon.svg', 0.0), ('/assets/images/icons/common/linkedinGreyIcon.svg', 0.0), ('/assets/images/icons/common/twitterGreyIcon.svg', 0.0), ('/assets/images/icons/common/discordGreyIcon.svg', 0.0), ('/assets/images/icons/common/snapchatGreyIcon.svg', 0.0), ('/assets/images/icons/common/youtubeGreyIcon.svg', 0.0), ('/_next/static/chunks/polyfills-5cd94c89d3acac5f.js', 0.0), ('/_next/static/chunks/webpack-e2315b53e504a6de.js', 0.0), ('/_next/static/chunks/framework-79bce4a3a540b080.js', 0.0), ('/_next/static/chunks/main-02d79fe8c2a509ed.js', 0.0), ('/_next/static/chunks/pages/_app-5aa48e6daaf3fe0d.js', 0.0), ('/_next/static/chunks/2905-8aaa955321746aca.js', 0.0), ('/_next/static/chunks/7454-c90862ff3e03df1e.js', 0.0), ('/_next/static/chunks/4590-75312c952da4fb21.js', 0.0), ('/_next/static/chunks/pages/careers-bf95817061a277ba.js', 0.0), ('/_next/static/OnBp0dXLpVOYqcPmAsImr/_buildManifest.js', 0.0), ('/_next/static/OnBp0dXLpVOYqcPmAsImr/_ssgManifest.js', 0.0), ('/_next/static/OnBp0dXLpVOYqcPmAsImr/_middlewareManifest.js', 0.0), ('/_next/static/css/6238d6cccf041c98.css', 0.0), ('/_next/static/css/c87208f7ca39f50f.css', 0.0)]\n",
      "Analyzing 240 of 246: https://famapp.in/partner\n",
      "Page size: 25.775390625 KB\n",
      "Resource sizes: [('/assets/images/icons/common/partyCapIcon.svg', 0.0), ('/assets/images/icons/common/partyFaceIcon.svg', 0.0), ('/assets/images/icons/common/singleGreyArrowIcon.svg', 0.0), ('/assets/images/icons/common/headerWhiteLogoIcon.svg', 0.0), ('/assets/images/images/pages/partners/partnersMob.png', 0.0), ('/assets/images/images/pages/partners/partners.png', 0.0), ('/assets/images/images/pages/partners/hype1.png', 0.0), ('/assets/images/images/pages/partners/hype2.png', 0.0), ('/assets/images/images/pages/partners/hype3.png', 0.0), ('/assets/images/images/pages/partners/hype1.png', 0.0), ('/assets/images/images/pages/partners/hype2.png', 0.0), ('/assets/images/images/pages/partners/hype3.png', 0.0), ('/assets/images/images/pages/partners/igLogo.png', 0.0), ('/assets/images/images/pages/partners/discordLogo.png', 0.0), ('/assets/images/images/pages/partners/tfLogo.png', 0.0), ('/assets/images/images/pages/partners/unacadPoster.jpeg', 0.0), ('/assets/images/images/pages/partners/unacadLogo.png', 0.0), ('/assets/images/images/pages/partners/unacadLogo.png', 0.0), ('/assets/images/images/pages/partners/leafPoster.jpeg', 0.0), ('/assets/images/images/pages/partners/leafLogo.png', 0.0), ('/assets/images/images/pages/partners/leafLogo.png', 0.0), ('/assets/images/images/pages/partners/frrowPoster.jpeg', 0.0), ('/assets/images/images/pages/partners/frrowLogo.png', 0.0), ('/assets/images/images/pages/partners/frrowLogo.png', 0.0), ('/assets/images/icons/common/headerWhiteLogoIcon.svg', 0.0), ('/assets/images/icons/common/facebookGreyIcon.svg', 0.0), ('/assets/images/icons/common/mediumGreyIcon.svg', 0.0), ('/assets/images/icons/common/instagramGreyIcon.svg', 0.0), ('/assets/images/icons/common/linkedinGreyIcon.svg', 0.0), ('/assets/images/icons/common/twitterGreyIcon.svg', 0.0), ('/assets/images/icons/common/discordGreyIcon.svg', 0.0), ('/assets/images/icons/common/snapchatGreyIcon.svg', 0.0), ('/assets/images/icons/common/youtubeGreyIcon.svg', 0.0), ('/_next/static/chunks/polyfills-5cd94c89d3acac5f.js', 0.0), ('/_next/static/chunks/webpack-e2315b53e504a6de.js', 0.0), ('/_next/static/chunks/framework-79bce4a3a540b080.js', 0.0), ('/_next/static/chunks/main-02d79fe8c2a509ed.js', 0.0), ('/_next/static/chunks/pages/_app-5aa48e6daaf3fe0d.js', 0.0), ('/_next/static/chunks/2905-8aaa955321746aca.js', 0.0), ('/_next/static/chunks/8764-dbd95fd81c44c3e6.js', 0.0), ('/_next/static/chunks/3184-799664908708a83b.js', 0.0), ('/_next/static/chunks/9669-ea1b006ae648290c.js', 0.0), ('/_next/static/chunks/5518-21e58bc44adfaa2d.js', 0.0), ('/_next/static/chunks/7536-96dddaa1a4310d02.js', 0.0), ('/_next/static/chunks/7454-c90862ff3e03df1e.js', 0.0), ('/_next/static/chunks/4590-75312c952da4fb21.js', 0.0), ('/_next/static/chunks/9476-4d017c5288619f7c.js', 0.0), ('/_next/static/chunks/pages/partner-2c4ad2810308a8fb.js', 0.0), ('/_next/static/OnBp0dXLpVOYqcPmAsImr/_buildManifest.js', 0.0), ('/_next/static/OnBp0dXLpVOYqcPmAsImr/_ssgManifest.js', 0.0), ('/_next/static/OnBp0dXLpVOYqcPmAsImr/_middlewareManifest.js', 0.0), ('/_next/static/css/6238d6cccf041c98.css', 0.0), ('/_next/static/css/483fe8d988f292c8.css', 0.0)]\n",
      "Analyzing 241 of 246: https://famapp.in/faqs\n",
      "Page size: 19.181640625 KB\n",
      "Resource sizes: [('/assets/images/icons/common/partyCapIcon.svg', 0.0), ('/assets/images/icons/common/partyFaceIcon.svg', 0.0), ('/assets/images/icons/common/singleGreyArrowIcon.svg', 0.0), ('/assets/images/icons/common/headerGreyLogoIcon.svg', 0.0), ('/assets/images/icons/common/headerGreyLogoIcon.svg', 0.0), ('/assets/images/icons/common/facebookGreyIcon.svg', 0.0), ('/assets/images/icons/common/mediumGreyIcon.svg', 0.0), ('/assets/images/icons/common/instagramGreyIcon.svg', 0.0), ('/assets/images/icons/common/linkedinGreyIcon.svg', 0.0), ('/assets/images/icons/common/twitterGreyIcon.svg', 0.0), ('/assets/images/icons/common/discordGreyIcon.svg', 0.0), ('/assets/images/icons/common/snapchatGreyIcon.svg', 0.0), ('/assets/images/icons/common/youtubeGreyIcon.svg', 0.0), ('/_next/static/chunks/polyfills-5cd94c89d3acac5f.js', 0.0), ('/_next/static/chunks/webpack-e2315b53e504a6de.js', 0.0), ('/_next/static/chunks/framework-79bce4a3a540b080.js', 0.0), ('/_next/static/chunks/main-02d79fe8c2a509ed.js', 0.0), ('/_next/static/chunks/pages/_app-5aa48e6daaf3fe0d.js', 0.0), ('/_next/static/chunks/2905-8aaa955321746aca.js', 0.0), ('/_next/static/chunks/8764-dbd95fd81c44c3e6.js', 0.0), ('/_next/static/chunks/3184-799664908708a83b.js', 0.0), ('/_next/static/chunks/5518-21e58bc44adfaa2d.js', 0.0), ('/_next/static/chunks/7454-c90862ff3e03df1e.js', 0.0), ('/_next/static/chunks/9476-4d017c5288619f7c.js', 0.0), ('/_next/static/chunks/pages/faqs-860c0b29a929fb8a.js', 0.0), ('/_next/static/OnBp0dXLpVOYqcPmAsImr/_buildManifest.js', 0.0), ('/_next/static/OnBp0dXLpVOYqcPmAsImr/_ssgManifest.js', 0.0), ('/_next/static/OnBp0dXLpVOYqcPmAsImr/_middlewareManifest.js', 0.0), ('/_next/static/css/6238d6cccf041c98.css', 0.0), ('/_next/static/css/506b8fb45dc38163.css', 0.0)]\n",
      "Analyzing 242 of 246: https://famapp.in/blog/\n",
      "Page size: 36.6396484375 KB\n",
      "Resource sizes: [('https://fampay.in/blog/content/images/2020/11/logofilewhite-11-2.png', 0.130859375), ('https://fampay.in/blog/content/images/2020/11/logofilewhite-11-2.png', 0.130859375), ('https://cdn.jsdelivr.net/ghost/portal@~2.30/umd/portal.min.js', 170.8154296875), ('https://cdn.jsdelivr.net/ghost/sodo-search@~1.1/umd/sodo-search.min.js', 95.5751953125), ('/blog/public/cards.min.js?v=22080dfa02', 0.0), ('/blog/public/member-attribution.min.js?v=22080dfa02', 0.0), ('https://www.googletagmanager.com/gtag/js?id=UA-147725948-3', 0.0), ('https://polyfill.io/v3/polyfill.min.js?features=IntersectionObserver%2CPromise%2CArray.prototype.includes%2CString.prototype.endsWith%2CString.prototype.startsWith%2CObject.assign%2CNodeList.prototype.forEach', 14.1123046875), ('/blog/assets/js/vendor/content-api.min.js?v=22080dfa02', 0.0), ('/blog/assets/js/manifest.js?v=22080dfa02', 0.0), ('/blog/assets/js/vendor.js?v=22080dfa02', 0.0), ('/blog/assets/js/app.js?v=22080dfa02', 0.0), ('/blog/assets/js/home.js?v=22080dfa02', 0.0), ('/blog/assets/css/app.css?v=22080dfa02', 0.0), ('/blog/public/cards.min.css?v=22080dfa02', 0.0)]\n",
      "Analyzing 243 of 246: https://famapp.in/press\n",
      "Page size: 21.89453125 KB\n",
      "Resource sizes: [('/assets/images/icons/common/partyCapIcon.svg', 0.0), ('/assets/images/icons/common/partyFaceIcon.svg', 0.0), ('/assets/images/icons/common/singleGreyArrowIcon.svg', 0.0), ('/assets/images/icons/common/headerWhiteLogoIcon.svg', 0.0), ('/assets/images/images/pages/press/forbesLogoImage.jpg', 0.0), ('/assets/images/images/pages/press/yourstoryLogoImage.jpg', 0.0), ('/assets/images/images/pages/press/etLogoImage.jpg', 0.0), ('/assets/images/images/pages/press/yourstoryLogoImage.jpg', 0.0), ('/assets/images/images/pages/press/cnbcLogoImage.jpg', 0.0), ('/assets/images/images/pages/press/inc42LogoImage.jpg', 0.0), ('/assets/images/images/pages/press/ieLogoImage.jpg', 0.0), ('/assets/images/icons/common/singleGreyArrowIcon.svg', 0.0), ('/assets/images/icons/common/singleGreyArrowIcon.svg', 0.0), ('/assets/images/icons/common/headerGreyLogoIcon.svg', 0.0), ('/assets/images/icons/common/facebookGreyIcon.svg', 0.0), ('/assets/images/icons/common/mediumGreyIcon.svg', 0.0), ('/assets/images/icons/common/instagramGreyIcon.svg', 0.0), ('/assets/images/icons/common/linkedinGreyIcon.svg', 0.0), ('/assets/images/icons/common/twitterGreyIcon.svg', 0.0), ('/assets/images/icons/common/discordGreyIcon.svg', 0.0), ('/assets/images/icons/common/snapchatGreyIcon.svg', 0.0), ('/assets/images/icons/common/youtubeGreyIcon.svg', 0.0), ('/_next/static/chunks/polyfills-5cd94c89d3acac5f.js', 0.0), ('/_next/static/chunks/webpack-e2315b53e504a6de.js', 0.0), ('/_next/static/chunks/framework-79bce4a3a540b080.js', 0.0), ('/_next/static/chunks/main-02d79fe8c2a509ed.js', 0.0), ('/_next/static/chunks/pages/_app-5aa48e6daaf3fe0d.js', 0.0), ('/_next/static/chunks/2905-8aaa955321746aca.js', 0.0), ('/_next/static/chunks/5518-21e58bc44adfaa2d.js', 0.0), ('/_next/static/chunks/7454-c90862ff3e03df1e.js', 0.0), ('/_next/static/chunks/4590-75312c952da4fb21.js', 0.0), ('/_next/static/chunks/pages/press-91c3167f8b71b922.js', 0.0), ('/_next/static/OnBp0dXLpVOYqcPmAsImr/_buildManifest.js', 0.0), ('/_next/static/OnBp0dXLpVOYqcPmAsImr/_ssgManifest.js', 0.0), ('/_next/static/OnBp0dXLpVOYqcPmAsImr/_middlewareManifest.js', 0.0), ('/_next/static/css/6238d6cccf041c98.css', 0.0), ('/_next/static/css/4404c8a0c2cfe667.css', 0.0)]\n",
      "Analyzing 244 of 246: https://famapp.in/privacy\n",
      "Page size: 33.0693359375 KB\n",
      "Resource sizes: [('/assets/images/icons/common/partyCapIcon.svg', 0.0), ('/assets/images/icons/common/partyFaceIcon.svg', 0.0), ('/assets/images/icons/common/singleGreyArrowIcon.svg', 0.0), ('/assets/images/icons/common/headerGreyLogoIcon.svg', 0.0), ('/assets/images/icons/common/headerGreyLogoIcon.svg', 0.0), ('/assets/images/icons/common/facebookGreyIcon.svg', 0.0), ('/assets/images/icons/common/mediumGreyIcon.svg', 0.0), ('/assets/images/icons/common/instagramGreyIcon.svg', 0.0), ('/assets/images/icons/common/linkedinGreyIcon.svg', 0.0), ('/assets/images/icons/common/twitterGreyIcon.svg', 0.0), ('/assets/images/icons/common/discordGreyIcon.svg', 0.0), ('/assets/images/icons/common/snapchatGreyIcon.svg', 0.0), ('/assets/images/icons/common/youtubeGreyIcon.svg', 0.0), ('/_next/static/chunks/polyfills-5cd94c89d3acac5f.js', 0.0), ('/_next/static/chunks/webpack-e2315b53e504a6de.js', 0.0), ('/_next/static/chunks/framework-79bce4a3a540b080.js', 0.0), ('/_next/static/chunks/main-02d79fe8c2a509ed.js', 0.0), ('/_next/static/chunks/pages/_app-5aa48e6daaf3fe0d.js', 0.0), ('/_next/static/chunks/2905-8aaa955321746aca.js', 0.0), ('/_next/static/chunks/7454-c90862ff3e03df1e.js', 0.0), ('/_next/static/chunks/pages/privacy-96cc3690295b6f0d.js', 0.0), ('/_next/static/OnBp0dXLpVOYqcPmAsImr/_buildManifest.js', 0.0), ('/_next/static/OnBp0dXLpVOYqcPmAsImr/_ssgManifest.js', 0.0), ('/_next/static/OnBp0dXLpVOYqcPmAsImr/_middlewareManifest.js', 0.0), ('/_next/static/css/6238d6cccf041c98.css', 0.0), ('/_next/static/css/30cb866e646997e9.css', 0.0)]\n",
      "Analyzing 245 of 246: https://famapp.in/terms\n",
      "Page size: 54.8271484375 KB\n",
      "Resource sizes: [('/assets/images/icons/common/partyCapIcon.svg', 0.0), ('/assets/images/icons/common/partyFaceIcon.svg', 0.0), ('/assets/images/icons/common/singleGreyArrowIcon.svg', 0.0), ('/assets/images/icons/common/headerGreyLogoIcon.svg', 0.0), ('/assets/images/icons/common/headerGreyLogoIcon.svg', 0.0), ('/assets/images/icons/common/facebookGreyIcon.svg', 0.0), ('/assets/images/icons/common/mediumGreyIcon.svg', 0.0), ('/assets/images/icons/common/instagramGreyIcon.svg', 0.0), ('/assets/images/icons/common/linkedinGreyIcon.svg', 0.0), ('/assets/images/icons/common/twitterGreyIcon.svg', 0.0), ('/assets/images/icons/common/discordGreyIcon.svg', 0.0), ('/assets/images/icons/common/snapchatGreyIcon.svg', 0.0), ('/assets/images/icons/common/youtubeGreyIcon.svg', 0.0), ('/_next/static/chunks/polyfills-5cd94c89d3acac5f.js', 0.0), ('/_next/static/chunks/webpack-e2315b53e504a6de.js', 0.0), ('/_next/static/chunks/framework-79bce4a3a540b080.js', 0.0), ('/_next/static/chunks/main-02d79fe8c2a509ed.js', 0.0), ('/_next/static/chunks/pages/_app-5aa48e6daaf3fe0d.js', 0.0), ('/_next/static/chunks/2905-8aaa955321746aca.js', 0.0), ('/_next/static/chunks/7454-c90862ff3e03df1e.js', 0.0), ('/_next/static/chunks/pages/terms-87d410dfeca1b114.js', 0.0), ('/_next/static/OnBp0dXLpVOYqcPmAsImr/_buildManifest.js', 0.0), ('/_next/static/OnBp0dXLpVOYqcPmAsImr/_ssgManifest.js', 0.0), ('/_next/static/OnBp0dXLpVOYqcPmAsImr/_middlewareManifest.js', 0.0), ('/_next/static/css/6238d6cccf041c98.css', 0.0), ('/_next/static/css/84e4611a737e9413.css', 0.0)]\n",
      "Analyzing 246 of 246: https://famapp.in/contact\n",
      "Page size: 14.6416015625 KB\n",
      "Resource sizes: [('/assets/images/icons/common/partyCapIcon.svg', 0.0), ('/assets/images/icons/common/partyFaceIcon.svg', 0.0), ('/assets/images/icons/common/singleGreyArrowIcon.svg', 0.0), ('/assets/images/icons/common/headerGreyLogoIcon.svg', 0.0), ('/assets/images/icons/common/headerGreyLogoIcon.svg', 0.0), ('/assets/images/icons/common/facebookGreyIcon.svg', 0.0), ('/assets/images/icons/common/mediumGreyIcon.svg', 0.0), ('/assets/images/icons/common/instagramGreyIcon.svg', 0.0), ('/assets/images/icons/common/linkedinGreyIcon.svg', 0.0), ('/assets/images/icons/common/twitterGreyIcon.svg', 0.0), ('/assets/images/icons/common/discordGreyIcon.svg', 0.0), ('/assets/images/icons/common/snapchatGreyIcon.svg', 0.0), ('/assets/images/icons/common/youtubeGreyIcon.svg', 0.0), ('/_next/static/chunks/polyfills-5cd94c89d3acac5f.js', 0.0), ('/_next/static/chunks/webpack-e2315b53e504a6de.js', 0.0), ('/_next/static/chunks/framework-79bce4a3a540b080.js', 0.0), ('/_next/static/chunks/main-02d79fe8c2a509ed.js', 0.0), ('/_next/static/chunks/pages/_app-5aa48e6daaf3fe0d.js', 0.0), ('/_next/static/chunks/2905-8aaa955321746aca.js', 0.0), ('/_next/static/chunks/8764-dbd95fd81c44c3e6.js', 0.0), ('/_next/static/chunks/9669-ea1b006ae648290c.js', 0.0), ('/_next/static/chunks/4853-cbbfd48281119e55.js', 0.0), ('/_next/static/chunks/7454-c90862ff3e03df1e.js', 0.0), ('/_next/static/chunks/pages/contact-f5c33c3dbb2ad22a.js', 0.0), ('/_next/static/OnBp0dXLpVOYqcPmAsImr/_buildManifest.js', 0.0), ('/_next/static/OnBp0dXLpVOYqcPmAsImr/_ssgManifest.js', 0.0), ('/_next/static/OnBp0dXLpVOYqcPmAsImr/_middlewareManifest.js', 0.0), ('/_next/static/css/6238d6cccf041c98.css', 0.0), ('/_next/static/css/e409167f9e607d38.css', 0.0)]\n",
      "Analysis results saved to 'resources.csv'.\n"
     ]
    }
   ],
   "source": [
    "# Analyze each link in the DataFrame\n",
    "for index, row in df.iterrows():\n",
    "\n",
    "    print(f\"Analyzing {index + 1} of {len(df)}: {row['Link']}\") # type: ignore\n",
    "\n",
    "    link = row['Link']\n",
    "    page_size = get_page_size(link)\n",
    "    resource_sizes = analyze_resources(link)\n",
    "    \n",
    "    # Update the DataFrame with the results\n",
    "    df.at[index, 'Page Size (KB)'] = page_size\n",
    "    df.at[index, 'Resource Sizes'] = resource_sizes\n",
    "\n",
    "    print(f\"Page size: {page_size} KB\")\n",
    "    print(f\"Resource sizes: {resource_sizes}\")\n",
    "\n",
    "    # Save the DataFrame to a new CSV file\n",
    "    df.to_csv(output_csv, index=False)\n",
    "\n",
    "print(f\"Analysis results saved to '{output_csv}'.\")"
   ]
  },
  {
   "cell_type": "code",
   "execution_count": 7,
   "metadata": {},
   "outputs": [],
   "source": [
    "# Load the data\n",
    "df = pd.read_csv('resources.csv')\n",
    "\n",
    "# Convert the 'Resource Sizes' column from string to a list of tuples\n",
    "df['Resource Sizes'] = df['Resource Sizes'].apply(ast.literal_eval)\n",
    "\n",
    "# Compute the total resource size and number of resources for each page\n",
    "df['Total Resource Size (KB)'] = df['Resource Sizes'].apply(lambda x: sum(size for url, size in x))\n",
    "df['Resource Count'] = df['Resource Sizes'].apply(len)"
   ]
  },
  {
   "cell_type": "code",
   "execution_count": 8,
   "metadata": {},
   "outputs": [
    {
     "data": {
      "application/vnd.plotly.v1+json": {
       "config": {
        "plotlyServerURL": "https://plot.ly"
       },
       "data": [
        {
         "alignmentgroup": "True",
         "bingroup": "x",
         "hovertemplate": "Page Size (KB)=%{x}<br>count=%{y}<extra></extra>",
         "legendgroup": "",
         "marker": {
          "color": "#636efa",
          "pattern": {
           "shape": ""
          }
         },
         "name": "",
         "offsetgroup": "",
         "orientation": "v",
         "showlegend": false,
         "type": "histogram",
         "x": [
          32.552734375,
          32.552734375,
          32.552734375,
          81.1337890625,
          36.6396484375,
          37.0634765625,
          40.7919921875,
          41.623046875,
          39.755859375,
          43.65234375,
          44.4677734375,
          23.5244140625,
          34.7841796875,
          36.8388671875,
          43.2724609375,
          42.822265625,
          43.705078125,
          41.19921875,
          45.087890625,
          42.861328125,
          43.8046875,
          42.1337890625,
          41.5458984375,
          42.724609375,
          22.916015625,
          33.3154296875,
          44.33203125,
          40.9990234375,
          38.7138671875,
          45.3173828125,
          44.62890625,
          40.529296875,
          40.5927734375,
          37.5068359375,
          40.75390625,
          24.7421875,
          42.2734375,
          40.0205078125,
          23.462890625,
          44.630859375,
          23.5654296875,
          44.609375,
          23.43359375,
          56.376953125,
          41.857421875,
          23.5869140625,
          35.306640625,
          30.162109375,
          45.3759765625,
          49.4111328125,
          23.4169921875,
          32.498046875,
          47.44921875,
          44.9775390625,
          40.5654296875,
          42.27734375,
          36.1044921875,
          43.10546875,
          23.5302734375,
          42.5419921875,
          23.8271484375,
          41.884765625,
          23.5166015625,
          45.0908203125,
          23.4638671875,
          48.61328125,
          23.43359375,
          47.2783203125,
          23.4765625,
          43.04296875,
          23.3759765625,
          24.853515625,
          36.31640625,
          41.4248046875,
          51.251953125,
          34.529296875,
          33.4541015625,
          40.12109375,
          44.2236328125,
          35.9521484375,
          43.708984375,
          45.39453125,
          44.3310546875,
          23.4169921875,
          42.482421875,
          23.48046875,
          41.2138671875,
          42.9814453125,
          40.4560546875,
          23.4853515625,
          41.404296875,
          27.3720703125,
          32.951171875,
          41.3701171875,
          23.5234375,
          37.3115234375,
          40.439453125,
          23.5439453125,
          53.275390625,
          36.1181640625,
          35.046875,
          45.0615234375,
          46.341796875,
          39.7978515625,
          43.0458984375,
          40.28515625,
          39.1357421875,
          39.8876953125,
          42.8212890625,
          39.5654296875,
          34.6982421875,
          34.6455078125,
          22.8056640625,
          25.775390625,
          19.181640625,
          36.6396484375,
          21.89453125,
          33.0693359375,
          54.8271484375,
          14.6416015625,
          81.1337890625,
          36.6396484375,
          30.162109375,
          43.65234375,
          41.623046875,
          44.4677734375,
          45.3759765625,
          49.4111328125,
          32.498046875,
          47.44921875,
          41.857421875,
          44.9775390625,
          40.5654296875,
          42.27734375,
          37.5068359375,
          40.75390625,
          42.2734375,
          40.0205078125,
          44.630859375,
          44.609375,
          56.376953125,
          35.306640625,
          43.10546875,
          42.5419921875,
          41.884765625,
          45.0908203125,
          44.3310546875,
          54.9326171875,
          46.37890625,
          42.482421875,
          20.0771484375,
          45.775390625,
          48.61328125,
          47.2783203125,
          40.4560546875,
          29.7353515625,
          43.04296875,
          46.37890625,
          70.6064453125,
          36.1044921875,
          24.853515625,
          36.31640625,
          40.7919921875,
          41.4248046875,
          51.251953125,
          34.529296875,
          41.9375,
          40.8818359375,
          42.697265625,
          43.5234375,
          46.23046875,
          44.05078125,
          44.462890625,
          46.2607421875,
          43.3564453125,
          43.6865234375,
          46.359375,
          24.96875,
          43.3564453125,
          42.9931640625,
          138.8984375,
          33.3154296875,
          44.33203125,
          40.9990234375,
          38.7138671875,
          45.3173828125,
          44.62890625,
          40.529296875,
          40.5927734375,
          36.8388671875,
          43.2724609375,
          42.822265625,
          43.705078125,
          41.19921875,
          45.087890625,
          42.861328125,
          43.8046875,
          42.1337890625,
          41.5458984375,
          42.724609375,
          22.916015625,
          43.5390625,
          33.4541015625,
          40.12109375,
          44.2236328125,
          35.9521484375,
          39.755859375,
          43.708984375,
          45.39453125,
          41.9375,
          41.2138671875,
          42.9814453125,
          41.404296875,
          40.6416015625,
          76.845703125,
          27.3720703125,
          40.6416015625,
          45.775390625,
          40.01953125,
          54.9326171875,
          76.845703125,
          32.951171875,
          41.3701171875,
          40.439453125,
          53.275390625,
          45.0615234375,
          46.341796875,
          39.7978515625,
          43.0458984375,
          40.28515625,
          39.1357421875,
          39.8876953125,
          42.8212890625,
          39.5654296875,
          34.6982421875,
          34.6455078125,
          34.587890625,
          34.775390625,
          22.8056640625,
          25.775390625,
          19.181640625,
          36.6396484375,
          21.89453125,
          33.0693359375,
          54.8271484375,
          14.6416015625
         ],
         "xaxis": "x",
         "yaxis": "y"
        }
       ],
       "layout": {
        "barmode": "relative",
        "legend": {
         "tracegroupgap": 0
        },
        "margin": {
         "t": 60
        },
        "template": {
         "data": {
          "bar": [
           {
            "error_x": {
             "color": "#2a3f5f"
            },
            "error_y": {
             "color": "#2a3f5f"
            },
            "marker": {
             "line": {
              "color": "#E5ECF6",
              "width": 0.5
             },
             "pattern": {
              "fillmode": "overlay",
              "size": 10,
              "solidity": 0.2
             }
            },
            "type": "bar"
           }
          ],
          "barpolar": [
           {
            "marker": {
             "line": {
              "color": "#E5ECF6",
              "width": 0.5
             },
             "pattern": {
              "fillmode": "overlay",
              "size": 10,
              "solidity": 0.2
             }
            },
            "type": "barpolar"
           }
          ],
          "carpet": [
           {
            "aaxis": {
             "endlinecolor": "#2a3f5f",
             "gridcolor": "white",
             "linecolor": "white",
             "minorgridcolor": "white",
             "startlinecolor": "#2a3f5f"
            },
            "baxis": {
             "endlinecolor": "#2a3f5f",
             "gridcolor": "white",
             "linecolor": "white",
             "minorgridcolor": "white",
             "startlinecolor": "#2a3f5f"
            },
            "type": "carpet"
           }
          ],
          "choropleth": [
           {
            "colorbar": {
             "outlinewidth": 0,
             "ticks": ""
            },
            "type": "choropleth"
           }
          ],
          "contour": [
           {
            "colorbar": {
             "outlinewidth": 0,
             "ticks": ""
            },
            "colorscale": [
             [
              0,
              "#0d0887"
             ],
             [
              0.1111111111111111,
              "#46039f"
             ],
             [
              0.2222222222222222,
              "#7201a8"
             ],
             [
              0.3333333333333333,
              "#9c179e"
             ],
             [
              0.4444444444444444,
              "#bd3786"
             ],
             [
              0.5555555555555556,
              "#d8576b"
             ],
             [
              0.6666666666666666,
              "#ed7953"
             ],
             [
              0.7777777777777778,
              "#fb9f3a"
             ],
             [
              0.8888888888888888,
              "#fdca26"
             ],
             [
              1,
              "#f0f921"
             ]
            ],
            "type": "contour"
           }
          ],
          "contourcarpet": [
           {
            "colorbar": {
             "outlinewidth": 0,
             "ticks": ""
            },
            "type": "contourcarpet"
           }
          ],
          "heatmap": [
           {
            "colorbar": {
             "outlinewidth": 0,
             "ticks": ""
            },
            "colorscale": [
             [
              0,
              "#0d0887"
             ],
             [
              0.1111111111111111,
              "#46039f"
             ],
             [
              0.2222222222222222,
              "#7201a8"
             ],
             [
              0.3333333333333333,
              "#9c179e"
             ],
             [
              0.4444444444444444,
              "#bd3786"
             ],
             [
              0.5555555555555556,
              "#d8576b"
             ],
             [
              0.6666666666666666,
              "#ed7953"
             ],
             [
              0.7777777777777778,
              "#fb9f3a"
             ],
             [
              0.8888888888888888,
              "#fdca26"
             ],
             [
              1,
              "#f0f921"
             ]
            ],
            "type": "heatmap"
           }
          ],
          "heatmapgl": [
           {
            "colorbar": {
             "outlinewidth": 0,
             "ticks": ""
            },
            "colorscale": [
             [
              0,
              "#0d0887"
             ],
             [
              0.1111111111111111,
              "#46039f"
             ],
             [
              0.2222222222222222,
              "#7201a8"
             ],
             [
              0.3333333333333333,
              "#9c179e"
             ],
             [
              0.4444444444444444,
              "#bd3786"
             ],
             [
              0.5555555555555556,
              "#d8576b"
             ],
             [
              0.6666666666666666,
              "#ed7953"
             ],
             [
              0.7777777777777778,
              "#fb9f3a"
             ],
             [
              0.8888888888888888,
              "#fdca26"
             ],
             [
              1,
              "#f0f921"
             ]
            ],
            "type": "heatmapgl"
           }
          ],
          "histogram": [
           {
            "marker": {
             "pattern": {
              "fillmode": "overlay",
              "size": 10,
              "solidity": 0.2
             }
            },
            "type": "histogram"
           }
          ],
          "histogram2d": [
           {
            "colorbar": {
             "outlinewidth": 0,
             "ticks": ""
            },
            "colorscale": [
             [
              0,
              "#0d0887"
             ],
             [
              0.1111111111111111,
              "#46039f"
             ],
             [
              0.2222222222222222,
              "#7201a8"
             ],
             [
              0.3333333333333333,
              "#9c179e"
             ],
             [
              0.4444444444444444,
              "#bd3786"
             ],
             [
              0.5555555555555556,
              "#d8576b"
             ],
             [
              0.6666666666666666,
              "#ed7953"
             ],
             [
              0.7777777777777778,
              "#fb9f3a"
             ],
             [
              0.8888888888888888,
              "#fdca26"
             ],
             [
              1,
              "#f0f921"
             ]
            ],
            "type": "histogram2d"
           }
          ],
          "histogram2dcontour": [
           {
            "colorbar": {
             "outlinewidth": 0,
             "ticks": ""
            },
            "colorscale": [
             [
              0,
              "#0d0887"
             ],
             [
              0.1111111111111111,
              "#46039f"
             ],
             [
              0.2222222222222222,
              "#7201a8"
             ],
             [
              0.3333333333333333,
              "#9c179e"
             ],
             [
              0.4444444444444444,
              "#bd3786"
             ],
             [
              0.5555555555555556,
              "#d8576b"
             ],
             [
              0.6666666666666666,
              "#ed7953"
             ],
             [
              0.7777777777777778,
              "#fb9f3a"
             ],
             [
              0.8888888888888888,
              "#fdca26"
             ],
             [
              1,
              "#f0f921"
             ]
            ],
            "type": "histogram2dcontour"
           }
          ],
          "mesh3d": [
           {
            "colorbar": {
             "outlinewidth": 0,
             "ticks": ""
            },
            "type": "mesh3d"
           }
          ],
          "parcoords": [
           {
            "line": {
             "colorbar": {
              "outlinewidth": 0,
              "ticks": ""
             }
            },
            "type": "parcoords"
           }
          ],
          "pie": [
           {
            "automargin": true,
            "type": "pie"
           }
          ],
          "scatter": [
           {
            "fillpattern": {
             "fillmode": "overlay",
             "size": 10,
             "solidity": 0.2
            },
            "type": "scatter"
           }
          ],
          "scatter3d": [
           {
            "line": {
             "colorbar": {
              "outlinewidth": 0,
              "ticks": ""
             }
            },
            "marker": {
             "colorbar": {
              "outlinewidth": 0,
              "ticks": ""
             }
            },
            "type": "scatter3d"
           }
          ],
          "scattercarpet": [
           {
            "marker": {
             "colorbar": {
              "outlinewidth": 0,
              "ticks": ""
             }
            },
            "type": "scattercarpet"
           }
          ],
          "scattergeo": [
           {
            "marker": {
             "colorbar": {
              "outlinewidth": 0,
              "ticks": ""
             }
            },
            "type": "scattergeo"
           }
          ],
          "scattergl": [
           {
            "marker": {
             "colorbar": {
              "outlinewidth": 0,
              "ticks": ""
             }
            },
            "type": "scattergl"
           }
          ],
          "scattermapbox": [
           {
            "marker": {
             "colorbar": {
              "outlinewidth": 0,
              "ticks": ""
             }
            },
            "type": "scattermapbox"
           }
          ],
          "scatterpolar": [
           {
            "marker": {
             "colorbar": {
              "outlinewidth": 0,
              "ticks": ""
             }
            },
            "type": "scatterpolar"
           }
          ],
          "scatterpolargl": [
           {
            "marker": {
             "colorbar": {
              "outlinewidth": 0,
              "ticks": ""
             }
            },
            "type": "scatterpolargl"
           }
          ],
          "scatterternary": [
           {
            "marker": {
             "colorbar": {
              "outlinewidth": 0,
              "ticks": ""
             }
            },
            "type": "scatterternary"
           }
          ],
          "surface": [
           {
            "colorbar": {
             "outlinewidth": 0,
             "ticks": ""
            },
            "colorscale": [
             [
              0,
              "#0d0887"
             ],
             [
              0.1111111111111111,
              "#46039f"
             ],
             [
              0.2222222222222222,
              "#7201a8"
             ],
             [
              0.3333333333333333,
              "#9c179e"
             ],
             [
              0.4444444444444444,
              "#bd3786"
             ],
             [
              0.5555555555555556,
              "#d8576b"
             ],
             [
              0.6666666666666666,
              "#ed7953"
             ],
             [
              0.7777777777777778,
              "#fb9f3a"
             ],
             [
              0.8888888888888888,
              "#fdca26"
             ],
             [
              1,
              "#f0f921"
             ]
            ],
            "type": "surface"
           }
          ],
          "table": [
           {
            "cells": {
             "fill": {
              "color": "#EBF0F8"
             },
             "line": {
              "color": "white"
             }
            },
            "header": {
             "fill": {
              "color": "#C8D4E3"
             },
             "line": {
              "color": "white"
             }
            },
            "type": "table"
           }
          ]
         },
         "layout": {
          "annotationdefaults": {
           "arrowcolor": "#2a3f5f",
           "arrowhead": 0,
           "arrowwidth": 1
          },
          "autotypenumbers": "strict",
          "coloraxis": {
           "colorbar": {
            "outlinewidth": 0,
            "ticks": ""
           }
          },
          "colorscale": {
           "diverging": [
            [
             0,
             "#8e0152"
            ],
            [
             0.1,
             "#c51b7d"
            ],
            [
             0.2,
             "#de77ae"
            ],
            [
             0.3,
             "#f1b6da"
            ],
            [
             0.4,
             "#fde0ef"
            ],
            [
             0.5,
             "#f7f7f7"
            ],
            [
             0.6,
             "#e6f5d0"
            ],
            [
             0.7,
             "#b8e186"
            ],
            [
             0.8,
             "#7fbc41"
            ],
            [
             0.9,
             "#4d9221"
            ],
            [
             1,
             "#276419"
            ]
           ],
           "sequential": [
            [
             0,
             "#0d0887"
            ],
            [
             0.1111111111111111,
             "#46039f"
            ],
            [
             0.2222222222222222,
             "#7201a8"
            ],
            [
             0.3333333333333333,
             "#9c179e"
            ],
            [
             0.4444444444444444,
             "#bd3786"
            ],
            [
             0.5555555555555556,
             "#d8576b"
            ],
            [
             0.6666666666666666,
             "#ed7953"
            ],
            [
             0.7777777777777778,
             "#fb9f3a"
            ],
            [
             0.8888888888888888,
             "#fdca26"
            ],
            [
             1,
             "#f0f921"
            ]
           ],
           "sequentialminus": [
            [
             0,
             "#0d0887"
            ],
            [
             0.1111111111111111,
             "#46039f"
            ],
            [
             0.2222222222222222,
             "#7201a8"
            ],
            [
             0.3333333333333333,
             "#9c179e"
            ],
            [
             0.4444444444444444,
             "#bd3786"
            ],
            [
             0.5555555555555556,
             "#d8576b"
            ],
            [
             0.6666666666666666,
             "#ed7953"
            ],
            [
             0.7777777777777778,
             "#fb9f3a"
            ],
            [
             0.8888888888888888,
             "#fdca26"
            ],
            [
             1,
             "#f0f921"
            ]
           ]
          },
          "colorway": [
           "#636efa",
           "#EF553B",
           "#00cc96",
           "#ab63fa",
           "#FFA15A",
           "#19d3f3",
           "#FF6692",
           "#B6E880",
           "#FF97FF",
           "#FECB52"
          ],
          "font": {
           "color": "#2a3f5f"
          },
          "geo": {
           "bgcolor": "white",
           "lakecolor": "white",
           "landcolor": "#E5ECF6",
           "showlakes": true,
           "showland": true,
           "subunitcolor": "white"
          },
          "hoverlabel": {
           "align": "left"
          },
          "hovermode": "closest",
          "mapbox": {
           "style": "light"
          },
          "paper_bgcolor": "white",
          "plot_bgcolor": "#E5ECF6",
          "polar": {
           "angularaxis": {
            "gridcolor": "white",
            "linecolor": "white",
            "ticks": ""
           },
           "bgcolor": "#E5ECF6",
           "radialaxis": {
            "gridcolor": "white",
            "linecolor": "white",
            "ticks": ""
           }
          },
          "scene": {
           "xaxis": {
            "backgroundcolor": "#E5ECF6",
            "gridcolor": "white",
            "gridwidth": 2,
            "linecolor": "white",
            "showbackground": true,
            "ticks": "",
            "zerolinecolor": "white"
           },
           "yaxis": {
            "backgroundcolor": "#E5ECF6",
            "gridcolor": "white",
            "gridwidth": 2,
            "linecolor": "white",
            "showbackground": true,
            "ticks": "",
            "zerolinecolor": "white"
           },
           "zaxis": {
            "backgroundcolor": "#E5ECF6",
            "gridcolor": "white",
            "gridwidth": 2,
            "linecolor": "white",
            "showbackground": true,
            "ticks": "",
            "zerolinecolor": "white"
           }
          },
          "shapedefaults": {
           "line": {
            "color": "#2a3f5f"
           }
          },
          "ternary": {
           "aaxis": {
            "gridcolor": "white",
            "linecolor": "white",
            "ticks": ""
           },
           "baxis": {
            "gridcolor": "white",
            "linecolor": "white",
            "ticks": ""
           },
           "bgcolor": "#E5ECF6",
           "caxis": {
            "gridcolor": "white",
            "linecolor": "white",
            "ticks": ""
           }
          },
          "title": {
           "x": 0.05
          },
          "xaxis": {
           "automargin": true,
           "gridcolor": "white",
           "linecolor": "white",
           "ticks": "",
           "title": {
            "standoff": 15
           },
           "zerolinecolor": "white",
           "zerolinewidth": 2
          },
          "yaxis": {
           "automargin": true,
           "gridcolor": "white",
           "linecolor": "white",
           "ticks": "",
           "title": {
            "standoff": 15
           },
           "zerolinecolor": "white",
           "zerolinewidth": 2
          }
         }
        },
        "title": {
         "text": "Page Sizes"
        },
        "xaxis": {
         "anchor": "y",
         "domain": [
          0,
          1
         ],
         "title": {
          "text": "Page Size (KB)"
         }
        },
        "yaxis": {
         "anchor": "x",
         "domain": [
          0,
          1
         ],
         "title": {
          "text": "Count"
         }
        }
       }
      }
     },
     "metadata": {},
     "output_type": "display_data"
    }
   ],
   "source": [
    "fig = px.histogram(df, x='Page Size (KB)')\n",
    "fig.update_layout(title='Page Sizes', xaxis_title='Page Size (KB)', yaxis_title='Count')\n",
    "fig.show()\n",
    "fig.write_html('../../fam-report-site/public/Web-Analytics/page_sizes.html')"
   ]
  },
  {
   "cell_type": "code",
   "execution_count": 9,
   "metadata": {},
   "outputs": [
    {
     "data": {
      "application/vnd.plotly.v1+json": {
       "config": {
        "plotlyServerURL": "https://plot.ly"
       },
       "data": [
        {
         "alignmentgroup": "True",
         "bingroup": "x",
         "hovertemplate": "Total Resource Size (KB)=%{x}<br>count=%{y}<extra></extra>",
         "legendgroup": "",
         "marker": {
          "color": "#636efa",
          "pattern": {
           "shape": ""
          }
         },
         "name": "",
         "offsetgroup": "",
         "orientation": "v",
         "showlegend": false,
         "type": "histogram",
         "x": [
          0,
          9.291015625,
          9.291015625,
          5131.7421875,
          281.9423828125,
          281.8115234375,
          282.5966796875,
          741.53125,
          282.5966796875,
          282.5966796875,
          282.0732421875,
          281.8115234375,
          281.8115234375,
          281.8115234375,
          282.7275390625,
          282.3349609375,
          282.0732421875,
          282.0732421875,
          282.0732421875,
          282.2041015625,
          282.0732421875,
          282.0732421875,
          282.0732421875,
          282.0732421875,
          281.8115234375,
          281.8115234375,
          282.4658203125,
          282.0732421875,
          282.0732421875,
          282.4658203125,
          282.3349609375,
          282.3349609375,
          282.0732421875,
          281.8115234375,
          282.4658203125,
          281.8115234375,
          282.3349609375,
          282.5966796875,
          281.8115234375,
          282.3349609375,
          281.8115234375,
          283.2509765625,
          281.8115234375,
          282.3349609375,
          282.2041015625,
          281.8115234375,
          281.8115234375,
          281.8115234375,
          282.4658203125,
          283.5126953125,
          281.8115234375,
          281.8115234375,
          283.6435546875,
          282.8583984375,
          283.1201171875,
          282.3349609375,
          281.8115234375,
          283.1201171875,
          281.8115234375,
          282.5966796875,
          281.8115234375,
          282.7275390625,
          281.8115234375,
          283.5126953125,
          281.8115234375,
          283.5126953125,
          281.8115234375,
          283.1201171875,
          281.8115234375,
          282.5966796875,
          281.8115234375,
          281.8115234375,
          281.8115234375,
          283.1201171875,
          813.833984375,
          281.8115234375,
          281.8115234375,
          282.0732421875,
          282.3349609375,
          281.8115234375,
          282.5966796875,
          322.27734375,
          283.3818359375,
          281.8115234375,
          282.7275390625,
          281.8115234375,
          282.5966796875,
          282.2041015625,
          282.2041015625,
          281.8115234375,
          283.1201171875,
          281.8115234375,
          281.8115234375,
          282.5966796875,
          281.8115234375,
          281.8115234375,
          282.4658203125,
          281.8115234375,
          7758.0751953125,
          281.8115234375,
          281.8115234375,
          282.0732421875,
          2820.5126953125,
          2447.025390625,
          282.9892578125,
          282.9892578125,
          282.0732421875,
          282.5966796875,
          282.5966796875,
          282.7275390625,
          281.9423828125,
          281.9423828125,
          5.365234375,
          6.935546875,
          3.92578125,
          281.9423828125,
          4.841796875,
          3.40234375,
          3.40234375,
          3.794921875,
          5118.39453125,
          280.7646484375,
          280.7646484375,
          281.2880859375,
          740.22265625,
          280.7646484375,
          281.1572265625,
          282.2041015625,
          280.7646484375,
          282.3349609375,
          280.8955078125,
          281.5498046875,
          281.8115234375,
          281.0263671875,
          280.7646484375,
          281.1572265625,
          281.0263671875,
          281.2880859375,
          281.0263671875,
          281.9423828125,
          281.0263671875,
          280.7646484375,
          281.8115234375,
          281.2880859375,
          281.4189453125,
          282.2041015625,
          282.0732421875,
          282.5966796875,
          282.2041015625,
          281.4189453125,
          281.8115234375,
          373.650390625,
          282.2041015625,
          281.8115234375,
          280.8955078125,
          280.7646484375,
          281.2880859375,
          280.8955078125,
          280.8955078125,
          280.7646484375,
          280.7646484375,
          280.7646484375,
          281.2880859375,
          281.8115234375,
          778.4853515625,
          280.7646484375,
          281.2880859375,
          281.5498046875,
          281.5498046875,
          280.7646484375,
          281.4189453125,
          281.2880859375,
          282.4658203125,
          282.3349609375,
          282.7275390625,
          281.4189453125,
          281.9423828125,
          280.7646484375,
          281.4189453125,
          281.5498046875,
          280.7646484375,
          280.7646484375,
          281.1572265625,
          280.7646484375,
          280.7646484375,
          281.1572265625,
          281.0263671875,
          281.0263671875,
          280.7646484375,
          280.7646484375,
          281.4189453125,
          281.0263671875,
          280.7646484375,
          280.7646484375,
          280.7646484375,
          280.8955078125,
          280.7646484375,
          280.7646484375,
          280.7646484375,
          280.7646484375,
          280.7646484375,
          280.7646484375,
          280.7646484375,
          280.7646484375,
          281.0263671875,
          280.7646484375,
          281.2880859375,
          281.2880859375,
          316.791015625,
          282.5966796875,
          281.2880859375,
          280.8955078125,
          281.8115234375,
          282.4658203125,
          282.9892578125,
          280.7646484375,
          281.1572265625,
          372.341796875,
          282.0732421875,
          281.0263671875,
          281.0263671875,
          280.7646484375,
          281.2880859375,
          281.1572265625,
          7756.7666015625,
          280.7646484375,
          2819.2041015625,
          2445.716796875,
          281.6806640625,
          281.6806640625,
          280.7646484375,
          281.2880859375,
          281.2880859375,
          281.4189453125,
          280.7646484375,
          280.7646484375,
          280.7646484375,
          280.7646484375,
          0,
          0,
          0,
          280.7646484375,
          0,
          0,
          0,
          0
         ],
         "xaxis": "x",
         "yaxis": "y"
        }
       ],
       "layout": {
        "barmode": "relative",
        "legend": {
         "tracegroupgap": 0
        },
        "margin": {
         "t": 60
        },
        "template": {
         "data": {
          "bar": [
           {
            "error_x": {
             "color": "#2a3f5f"
            },
            "error_y": {
             "color": "#2a3f5f"
            },
            "marker": {
             "line": {
              "color": "#E5ECF6",
              "width": 0.5
             },
             "pattern": {
              "fillmode": "overlay",
              "size": 10,
              "solidity": 0.2
             }
            },
            "type": "bar"
           }
          ],
          "barpolar": [
           {
            "marker": {
             "line": {
              "color": "#E5ECF6",
              "width": 0.5
             },
             "pattern": {
              "fillmode": "overlay",
              "size": 10,
              "solidity": 0.2
             }
            },
            "type": "barpolar"
           }
          ],
          "carpet": [
           {
            "aaxis": {
             "endlinecolor": "#2a3f5f",
             "gridcolor": "white",
             "linecolor": "white",
             "minorgridcolor": "white",
             "startlinecolor": "#2a3f5f"
            },
            "baxis": {
             "endlinecolor": "#2a3f5f",
             "gridcolor": "white",
             "linecolor": "white",
             "minorgridcolor": "white",
             "startlinecolor": "#2a3f5f"
            },
            "type": "carpet"
           }
          ],
          "choropleth": [
           {
            "colorbar": {
             "outlinewidth": 0,
             "ticks": ""
            },
            "type": "choropleth"
           }
          ],
          "contour": [
           {
            "colorbar": {
             "outlinewidth": 0,
             "ticks": ""
            },
            "colorscale": [
             [
              0,
              "#0d0887"
             ],
             [
              0.1111111111111111,
              "#46039f"
             ],
             [
              0.2222222222222222,
              "#7201a8"
             ],
             [
              0.3333333333333333,
              "#9c179e"
             ],
             [
              0.4444444444444444,
              "#bd3786"
             ],
             [
              0.5555555555555556,
              "#d8576b"
             ],
             [
              0.6666666666666666,
              "#ed7953"
             ],
             [
              0.7777777777777778,
              "#fb9f3a"
             ],
             [
              0.8888888888888888,
              "#fdca26"
             ],
             [
              1,
              "#f0f921"
             ]
            ],
            "type": "contour"
           }
          ],
          "contourcarpet": [
           {
            "colorbar": {
             "outlinewidth": 0,
             "ticks": ""
            },
            "type": "contourcarpet"
           }
          ],
          "heatmap": [
           {
            "colorbar": {
             "outlinewidth": 0,
             "ticks": ""
            },
            "colorscale": [
             [
              0,
              "#0d0887"
             ],
             [
              0.1111111111111111,
              "#46039f"
             ],
             [
              0.2222222222222222,
              "#7201a8"
             ],
             [
              0.3333333333333333,
              "#9c179e"
             ],
             [
              0.4444444444444444,
              "#bd3786"
             ],
             [
              0.5555555555555556,
              "#d8576b"
             ],
             [
              0.6666666666666666,
              "#ed7953"
             ],
             [
              0.7777777777777778,
              "#fb9f3a"
             ],
             [
              0.8888888888888888,
              "#fdca26"
             ],
             [
              1,
              "#f0f921"
             ]
            ],
            "type": "heatmap"
           }
          ],
          "heatmapgl": [
           {
            "colorbar": {
             "outlinewidth": 0,
             "ticks": ""
            },
            "colorscale": [
             [
              0,
              "#0d0887"
             ],
             [
              0.1111111111111111,
              "#46039f"
             ],
             [
              0.2222222222222222,
              "#7201a8"
             ],
             [
              0.3333333333333333,
              "#9c179e"
             ],
             [
              0.4444444444444444,
              "#bd3786"
             ],
             [
              0.5555555555555556,
              "#d8576b"
             ],
             [
              0.6666666666666666,
              "#ed7953"
             ],
             [
              0.7777777777777778,
              "#fb9f3a"
             ],
             [
              0.8888888888888888,
              "#fdca26"
             ],
             [
              1,
              "#f0f921"
             ]
            ],
            "type": "heatmapgl"
           }
          ],
          "histogram": [
           {
            "marker": {
             "pattern": {
              "fillmode": "overlay",
              "size": 10,
              "solidity": 0.2
             }
            },
            "type": "histogram"
           }
          ],
          "histogram2d": [
           {
            "colorbar": {
             "outlinewidth": 0,
             "ticks": ""
            },
            "colorscale": [
             [
              0,
              "#0d0887"
             ],
             [
              0.1111111111111111,
              "#46039f"
             ],
             [
              0.2222222222222222,
              "#7201a8"
             ],
             [
              0.3333333333333333,
              "#9c179e"
             ],
             [
              0.4444444444444444,
              "#bd3786"
             ],
             [
              0.5555555555555556,
              "#d8576b"
             ],
             [
              0.6666666666666666,
              "#ed7953"
             ],
             [
              0.7777777777777778,
              "#fb9f3a"
             ],
             [
              0.8888888888888888,
              "#fdca26"
             ],
             [
              1,
              "#f0f921"
             ]
            ],
            "type": "histogram2d"
           }
          ],
          "histogram2dcontour": [
           {
            "colorbar": {
             "outlinewidth": 0,
             "ticks": ""
            },
            "colorscale": [
             [
              0,
              "#0d0887"
             ],
             [
              0.1111111111111111,
              "#46039f"
             ],
             [
              0.2222222222222222,
              "#7201a8"
             ],
             [
              0.3333333333333333,
              "#9c179e"
             ],
             [
              0.4444444444444444,
              "#bd3786"
             ],
             [
              0.5555555555555556,
              "#d8576b"
             ],
             [
              0.6666666666666666,
              "#ed7953"
             ],
             [
              0.7777777777777778,
              "#fb9f3a"
             ],
             [
              0.8888888888888888,
              "#fdca26"
             ],
             [
              1,
              "#f0f921"
             ]
            ],
            "type": "histogram2dcontour"
           }
          ],
          "mesh3d": [
           {
            "colorbar": {
             "outlinewidth": 0,
             "ticks": ""
            },
            "type": "mesh3d"
           }
          ],
          "parcoords": [
           {
            "line": {
             "colorbar": {
              "outlinewidth": 0,
              "ticks": ""
             }
            },
            "type": "parcoords"
           }
          ],
          "pie": [
           {
            "automargin": true,
            "type": "pie"
           }
          ],
          "scatter": [
           {
            "fillpattern": {
             "fillmode": "overlay",
             "size": 10,
             "solidity": 0.2
            },
            "type": "scatter"
           }
          ],
          "scatter3d": [
           {
            "line": {
             "colorbar": {
              "outlinewidth": 0,
              "ticks": ""
             }
            },
            "marker": {
             "colorbar": {
              "outlinewidth": 0,
              "ticks": ""
             }
            },
            "type": "scatter3d"
           }
          ],
          "scattercarpet": [
           {
            "marker": {
             "colorbar": {
              "outlinewidth": 0,
              "ticks": ""
             }
            },
            "type": "scattercarpet"
           }
          ],
          "scattergeo": [
           {
            "marker": {
             "colorbar": {
              "outlinewidth": 0,
              "ticks": ""
             }
            },
            "type": "scattergeo"
           }
          ],
          "scattergl": [
           {
            "marker": {
             "colorbar": {
              "outlinewidth": 0,
              "ticks": ""
             }
            },
            "type": "scattergl"
           }
          ],
          "scattermapbox": [
           {
            "marker": {
             "colorbar": {
              "outlinewidth": 0,
              "ticks": ""
             }
            },
            "type": "scattermapbox"
           }
          ],
          "scatterpolar": [
           {
            "marker": {
             "colorbar": {
              "outlinewidth": 0,
              "ticks": ""
             }
            },
            "type": "scatterpolar"
           }
          ],
          "scatterpolargl": [
           {
            "marker": {
             "colorbar": {
              "outlinewidth": 0,
              "ticks": ""
             }
            },
            "type": "scatterpolargl"
           }
          ],
          "scatterternary": [
           {
            "marker": {
             "colorbar": {
              "outlinewidth": 0,
              "ticks": ""
             }
            },
            "type": "scatterternary"
           }
          ],
          "surface": [
           {
            "colorbar": {
             "outlinewidth": 0,
             "ticks": ""
            },
            "colorscale": [
             [
              0,
              "#0d0887"
             ],
             [
              0.1111111111111111,
              "#46039f"
             ],
             [
              0.2222222222222222,
              "#7201a8"
             ],
             [
              0.3333333333333333,
              "#9c179e"
             ],
             [
              0.4444444444444444,
              "#bd3786"
             ],
             [
              0.5555555555555556,
              "#d8576b"
             ],
             [
              0.6666666666666666,
              "#ed7953"
             ],
             [
              0.7777777777777778,
              "#fb9f3a"
             ],
             [
              0.8888888888888888,
              "#fdca26"
             ],
             [
              1,
              "#f0f921"
             ]
            ],
            "type": "surface"
           }
          ],
          "table": [
           {
            "cells": {
             "fill": {
              "color": "#EBF0F8"
             },
             "line": {
              "color": "white"
             }
            },
            "header": {
             "fill": {
              "color": "#C8D4E3"
             },
             "line": {
              "color": "white"
             }
            },
            "type": "table"
           }
          ]
         },
         "layout": {
          "annotationdefaults": {
           "arrowcolor": "#2a3f5f",
           "arrowhead": 0,
           "arrowwidth": 1
          },
          "autotypenumbers": "strict",
          "coloraxis": {
           "colorbar": {
            "outlinewidth": 0,
            "ticks": ""
           }
          },
          "colorscale": {
           "diverging": [
            [
             0,
             "#8e0152"
            ],
            [
             0.1,
             "#c51b7d"
            ],
            [
             0.2,
             "#de77ae"
            ],
            [
             0.3,
             "#f1b6da"
            ],
            [
             0.4,
             "#fde0ef"
            ],
            [
             0.5,
             "#f7f7f7"
            ],
            [
             0.6,
             "#e6f5d0"
            ],
            [
             0.7,
             "#b8e186"
            ],
            [
             0.8,
             "#7fbc41"
            ],
            [
             0.9,
             "#4d9221"
            ],
            [
             1,
             "#276419"
            ]
           ],
           "sequential": [
            [
             0,
             "#0d0887"
            ],
            [
             0.1111111111111111,
             "#46039f"
            ],
            [
             0.2222222222222222,
             "#7201a8"
            ],
            [
             0.3333333333333333,
             "#9c179e"
            ],
            [
             0.4444444444444444,
             "#bd3786"
            ],
            [
             0.5555555555555556,
             "#d8576b"
            ],
            [
             0.6666666666666666,
             "#ed7953"
            ],
            [
             0.7777777777777778,
             "#fb9f3a"
            ],
            [
             0.8888888888888888,
             "#fdca26"
            ],
            [
             1,
             "#f0f921"
            ]
           ],
           "sequentialminus": [
            [
             0,
             "#0d0887"
            ],
            [
             0.1111111111111111,
             "#46039f"
            ],
            [
             0.2222222222222222,
             "#7201a8"
            ],
            [
             0.3333333333333333,
             "#9c179e"
            ],
            [
             0.4444444444444444,
             "#bd3786"
            ],
            [
             0.5555555555555556,
             "#d8576b"
            ],
            [
             0.6666666666666666,
             "#ed7953"
            ],
            [
             0.7777777777777778,
             "#fb9f3a"
            ],
            [
             0.8888888888888888,
             "#fdca26"
            ],
            [
             1,
             "#f0f921"
            ]
           ]
          },
          "colorway": [
           "#636efa",
           "#EF553B",
           "#00cc96",
           "#ab63fa",
           "#FFA15A",
           "#19d3f3",
           "#FF6692",
           "#B6E880",
           "#FF97FF",
           "#FECB52"
          ],
          "font": {
           "color": "#2a3f5f"
          },
          "geo": {
           "bgcolor": "white",
           "lakecolor": "white",
           "landcolor": "#E5ECF6",
           "showlakes": true,
           "showland": true,
           "subunitcolor": "white"
          },
          "hoverlabel": {
           "align": "left"
          },
          "hovermode": "closest",
          "mapbox": {
           "style": "light"
          },
          "paper_bgcolor": "white",
          "plot_bgcolor": "#E5ECF6",
          "polar": {
           "angularaxis": {
            "gridcolor": "white",
            "linecolor": "white",
            "ticks": ""
           },
           "bgcolor": "#E5ECF6",
           "radialaxis": {
            "gridcolor": "white",
            "linecolor": "white",
            "ticks": ""
           }
          },
          "scene": {
           "xaxis": {
            "backgroundcolor": "#E5ECF6",
            "gridcolor": "white",
            "gridwidth": 2,
            "linecolor": "white",
            "showbackground": true,
            "ticks": "",
            "zerolinecolor": "white"
           },
           "yaxis": {
            "backgroundcolor": "#E5ECF6",
            "gridcolor": "white",
            "gridwidth": 2,
            "linecolor": "white",
            "showbackground": true,
            "ticks": "",
            "zerolinecolor": "white"
           },
           "zaxis": {
            "backgroundcolor": "#E5ECF6",
            "gridcolor": "white",
            "gridwidth": 2,
            "linecolor": "white",
            "showbackground": true,
            "ticks": "",
            "zerolinecolor": "white"
           }
          },
          "shapedefaults": {
           "line": {
            "color": "#2a3f5f"
           }
          },
          "ternary": {
           "aaxis": {
            "gridcolor": "white",
            "linecolor": "white",
            "ticks": ""
           },
           "baxis": {
            "gridcolor": "white",
            "linecolor": "white",
            "ticks": ""
           },
           "bgcolor": "#E5ECF6",
           "caxis": {
            "gridcolor": "white",
            "linecolor": "white",
            "ticks": ""
           }
          },
          "title": {
           "x": 0.05
          },
          "xaxis": {
           "automargin": true,
           "gridcolor": "white",
           "linecolor": "white",
           "ticks": "",
           "title": {
            "standoff": 15
           },
           "zerolinecolor": "white",
           "zerolinewidth": 2
          },
          "yaxis": {
           "automargin": true,
           "gridcolor": "white",
           "linecolor": "white",
           "ticks": "",
           "title": {
            "standoff": 15
           },
           "zerolinecolor": "white",
           "zerolinewidth": 2
          }
         }
        },
        "title": {
         "text": "Total Resource Sizes"
        },
        "xaxis": {
         "anchor": "y",
         "domain": [
          0,
          1
         ],
         "title": {
          "text": "Total Resource Size (KB)"
         }
        },
        "yaxis": {
         "anchor": "x",
         "domain": [
          0,
          1
         ],
         "title": {
          "text": "Count"
         }
        }
       }
      }
     },
     "metadata": {},
     "output_type": "display_data"
    }
   ],
   "source": [
    "fig = px.histogram(df, x='Total Resource Size (KB)')\n",
    "fig.update_layout(title='Total Resource Sizes', xaxis_title='Total Resource Size (KB)', yaxis_title='Count')\n",
    "fig.show()\n",
    "fig.write_html('../../fam-report-site/public/Web-Analytics/total_resource_sizes.html')"
   ]
  },
  {
   "cell_type": "code",
   "execution_count": 10,
   "metadata": {},
   "outputs": [
    {
     "data": {
      "application/vnd.plotly.v1+json": {
       "config": {
        "plotlyServerURL": "https://plot.ly"
       },
       "data": [
        {
         "alignmentgroup": "True",
         "bingroup": "x",
         "hovertemplate": "Resource Count=%{x}<br>count=%{y}<extra></extra>",
         "legendgroup": "",
         "marker": {
          "color": "#636efa",
          "pattern": {
           "shape": ""
          }
         },
         "name": "",
         "offsetgroup": "",
         "orientation": "v",
         "showlegend": false,
         "type": "histogram",
         "x": [
          71,
          71,
          71,
          156,
          15,
          14,
          20,
          20,
          20,
          20,
          16,
          14,
          14,
          14,
          21,
          19,
          20,
          16,
          16,
          17,
          16,
          16,
          16,
          16,
          14,
          14,
          19,
          16,
          16,
          19,
          18,
          18,
          16,
          14,
          19,
          14,
          18,
          20,
          14,
          18,
          14,
          25,
          14,
          18,
          17,
          14,
          14,
          14,
          19,
          27,
          14,
          14,
          28,
          22,
          24,
          18,
          14,
          24,
          14,
          20,
          14,
          21,
          14,
          27,
          14,
          27,
          14,
          24,
          14,
          21,
          14,
          14,
          14,
          24,
          33,
          14,
          14,
          16,
          18,
          14,
          20,
          31,
          26,
          14,
          21,
          14,
          20,
          17,
          17,
          14,
          24,
          14,
          14,
          20,
          14,
          14,
          19,
          14,
          23,
          14,
          14,
          20,
          19,
          19,
          23,
          23,
          16,
          20,
          20,
          21,
          15,
          15,
          41,
          53,
          30,
          15,
          37,
          26,
          26,
          29,
          156,
          15,
          14,
          20,
          20,
          16,
          19,
          27,
          14,
          28,
          17,
          22,
          24,
          18,
          14,
          19,
          18,
          20,
          18,
          25,
          18,
          14,
          24,
          20,
          21,
          27,
          26,
          20,
          24,
          21,
          14,
          21,
          27,
          24,
          17,
          14,
          21,
          24,
          21,
          14,
          14,
          14,
          20,
          24,
          33,
          14,
          20,
          22,
          22,
          21,
          23,
          20,
          29,
          28,
          21,
          21,
          26,
          14,
          21,
          22,
          30,
          14,
          19,
          16,
          16,
          19,
          18,
          18,
          16,
          14,
          21,
          19,
          20,
          16,
          16,
          17,
          16,
          16,
          16,
          16,
          14,
          16,
          14,
          16,
          18,
          14,
          20,
          20,
          31,
          20,
          20,
          17,
          24,
          19,
          23,
          14,
          19,
          21,
          26,
          20,
          23,
          14,
          20,
          19,
          23,
          20,
          19,
          19,
          23,
          23,
          16,
          20,
          20,
          21,
          15,
          15,
          15,
          15,
          41,
          53,
          30,
          15,
          37,
          26,
          26,
          29
         ],
         "xaxis": "x",
         "yaxis": "y"
        }
       ],
       "layout": {
        "barmode": "relative",
        "legend": {
         "tracegroupgap": 0
        },
        "margin": {
         "t": 60
        },
        "template": {
         "data": {
          "bar": [
           {
            "error_x": {
             "color": "#2a3f5f"
            },
            "error_y": {
             "color": "#2a3f5f"
            },
            "marker": {
             "line": {
              "color": "#E5ECF6",
              "width": 0.5
             },
             "pattern": {
              "fillmode": "overlay",
              "size": 10,
              "solidity": 0.2
             }
            },
            "type": "bar"
           }
          ],
          "barpolar": [
           {
            "marker": {
             "line": {
              "color": "#E5ECF6",
              "width": 0.5
             },
             "pattern": {
              "fillmode": "overlay",
              "size": 10,
              "solidity": 0.2
             }
            },
            "type": "barpolar"
           }
          ],
          "carpet": [
           {
            "aaxis": {
             "endlinecolor": "#2a3f5f",
             "gridcolor": "white",
             "linecolor": "white",
             "minorgridcolor": "white",
             "startlinecolor": "#2a3f5f"
            },
            "baxis": {
             "endlinecolor": "#2a3f5f",
             "gridcolor": "white",
             "linecolor": "white",
             "minorgridcolor": "white",
             "startlinecolor": "#2a3f5f"
            },
            "type": "carpet"
           }
          ],
          "choropleth": [
           {
            "colorbar": {
             "outlinewidth": 0,
             "ticks": ""
            },
            "type": "choropleth"
           }
          ],
          "contour": [
           {
            "colorbar": {
             "outlinewidth": 0,
             "ticks": ""
            },
            "colorscale": [
             [
              0,
              "#0d0887"
             ],
             [
              0.1111111111111111,
              "#46039f"
             ],
             [
              0.2222222222222222,
              "#7201a8"
             ],
             [
              0.3333333333333333,
              "#9c179e"
             ],
             [
              0.4444444444444444,
              "#bd3786"
             ],
             [
              0.5555555555555556,
              "#d8576b"
             ],
             [
              0.6666666666666666,
              "#ed7953"
             ],
             [
              0.7777777777777778,
              "#fb9f3a"
             ],
             [
              0.8888888888888888,
              "#fdca26"
             ],
             [
              1,
              "#f0f921"
             ]
            ],
            "type": "contour"
           }
          ],
          "contourcarpet": [
           {
            "colorbar": {
             "outlinewidth": 0,
             "ticks": ""
            },
            "type": "contourcarpet"
           }
          ],
          "heatmap": [
           {
            "colorbar": {
             "outlinewidth": 0,
             "ticks": ""
            },
            "colorscale": [
             [
              0,
              "#0d0887"
             ],
             [
              0.1111111111111111,
              "#46039f"
             ],
             [
              0.2222222222222222,
              "#7201a8"
             ],
             [
              0.3333333333333333,
              "#9c179e"
             ],
             [
              0.4444444444444444,
              "#bd3786"
             ],
             [
              0.5555555555555556,
              "#d8576b"
             ],
             [
              0.6666666666666666,
              "#ed7953"
             ],
             [
              0.7777777777777778,
              "#fb9f3a"
             ],
             [
              0.8888888888888888,
              "#fdca26"
             ],
             [
              1,
              "#f0f921"
             ]
            ],
            "type": "heatmap"
           }
          ],
          "heatmapgl": [
           {
            "colorbar": {
             "outlinewidth": 0,
             "ticks": ""
            },
            "colorscale": [
             [
              0,
              "#0d0887"
             ],
             [
              0.1111111111111111,
              "#46039f"
             ],
             [
              0.2222222222222222,
              "#7201a8"
             ],
             [
              0.3333333333333333,
              "#9c179e"
             ],
             [
              0.4444444444444444,
              "#bd3786"
             ],
             [
              0.5555555555555556,
              "#d8576b"
             ],
             [
              0.6666666666666666,
              "#ed7953"
             ],
             [
              0.7777777777777778,
              "#fb9f3a"
             ],
             [
              0.8888888888888888,
              "#fdca26"
             ],
             [
              1,
              "#f0f921"
             ]
            ],
            "type": "heatmapgl"
           }
          ],
          "histogram": [
           {
            "marker": {
             "pattern": {
              "fillmode": "overlay",
              "size": 10,
              "solidity": 0.2
             }
            },
            "type": "histogram"
           }
          ],
          "histogram2d": [
           {
            "colorbar": {
             "outlinewidth": 0,
             "ticks": ""
            },
            "colorscale": [
             [
              0,
              "#0d0887"
             ],
             [
              0.1111111111111111,
              "#46039f"
             ],
             [
              0.2222222222222222,
              "#7201a8"
             ],
             [
              0.3333333333333333,
              "#9c179e"
             ],
             [
              0.4444444444444444,
              "#bd3786"
             ],
             [
              0.5555555555555556,
              "#d8576b"
             ],
             [
              0.6666666666666666,
              "#ed7953"
             ],
             [
              0.7777777777777778,
              "#fb9f3a"
             ],
             [
              0.8888888888888888,
              "#fdca26"
             ],
             [
              1,
              "#f0f921"
             ]
            ],
            "type": "histogram2d"
           }
          ],
          "histogram2dcontour": [
           {
            "colorbar": {
             "outlinewidth": 0,
             "ticks": ""
            },
            "colorscale": [
             [
              0,
              "#0d0887"
             ],
             [
              0.1111111111111111,
              "#46039f"
             ],
             [
              0.2222222222222222,
              "#7201a8"
             ],
             [
              0.3333333333333333,
              "#9c179e"
             ],
             [
              0.4444444444444444,
              "#bd3786"
             ],
             [
              0.5555555555555556,
              "#d8576b"
             ],
             [
              0.6666666666666666,
              "#ed7953"
             ],
             [
              0.7777777777777778,
              "#fb9f3a"
             ],
             [
              0.8888888888888888,
              "#fdca26"
             ],
             [
              1,
              "#f0f921"
             ]
            ],
            "type": "histogram2dcontour"
           }
          ],
          "mesh3d": [
           {
            "colorbar": {
             "outlinewidth": 0,
             "ticks": ""
            },
            "type": "mesh3d"
           }
          ],
          "parcoords": [
           {
            "line": {
             "colorbar": {
              "outlinewidth": 0,
              "ticks": ""
             }
            },
            "type": "parcoords"
           }
          ],
          "pie": [
           {
            "automargin": true,
            "type": "pie"
           }
          ],
          "scatter": [
           {
            "fillpattern": {
             "fillmode": "overlay",
             "size": 10,
             "solidity": 0.2
            },
            "type": "scatter"
           }
          ],
          "scatter3d": [
           {
            "line": {
             "colorbar": {
              "outlinewidth": 0,
              "ticks": ""
             }
            },
            "marker": {
             "colorbar": {
              "outlinewidth": 0,
              "ticks": ""
             }
            },
            "type": "scatter3d"
           }
          ],
          "scattercarpet": [
           {
            "marker": {
             "colorbar": {
              "outlinewidth": 0,
              "ticks": ""
             }
            },
            "type": "scattercarpet"
           }
          ],
          "scattergeo": [
           {
            "marker": {
             "colorbar": {
              "outlinewidth": 0,
              "ticks": ""
             }
            },
            "type": "scattergeo"
           }
          ],
          "scattergl": [
           {
            "marker": {
             "colorbar": {
              "outlinewidth": 0,
              "ticks": ""
             }
            },
            "type": "scattergl"
           }
          ],
          "scattermapbox": [
           {
            "marker": {
             "colorbar": {
              "outlinewidth": 0,
              "ticks": ""
             }
            },
            "type": "scattermapbox"
           }
          ],
          "scatterpolar": [
           {
            "marker": {
             "colorbar": {
              "outlinewidth": 0,
              "ticks": ""
             }
            },
            "type": "scatterpolar"
           }
          ],
          "scatterpolargl": [
           {
            "marker": {
             "colorbar": {
              "outlinewidth": 0,
              "ticks": ""
             }
            },
            "type": "scatterpolargl"
           }
          ],
          "scatterternary": [
           {
            "marker": {
             "colorbar": {
              "outlinewidth": 0,
              "ticks": ""
             }
            },
            "type": "scatterternary"
           }
          ],
          "surface": [
           {
            "colorbar": {
             "outlinewidth": 0,
             "ticks": ""
            },
            "colorscale": [
             [
              0,
              "#0d0887"
             ],
             [
              0.1111111111111111,
              "#46039f"
             ],
             [
              0.2222222222222222,
              "#7201a8"
             ],
             [
              0.3333333333333333,
              "#9c179e"
             ],
             [
              0.4444444444444444,
              "#bd3786"
             ],
             [
              0.5555555555555556,
              "#d8576b"
             ],
             [
              0.6666666666666666,
              "#ed7953"
             ],
             [
              0.7777777777777778,
              "#fb9f3a"
             ],
             [
              0.8888888888888888,
              "#fdca26"
             ],
             [
              1,
              "#f0f921"
             ]
            ],
            "type": "surface"
           }
          ],
          "table": [
           {
            "cells": {
             "fill": {
              "color": "#EBF0F8"
             },
             "line": {
              "color": "white"
             }
            },
            "header": {
             "fill": {
              "color": "#C8D4E3"
             },
             "line": {
              "color": "white"
             }
            },
            "type": "table"
           }
          ]
         },
         "layout": {
          "annotationdefaults": {
           "arrowcolor": "#2a3f5f",
           "arrowhead": 0,
           "arrowwidth": 1
          },
          "autotypenumbers": "strict",
          "coloraxis": {
           "colorbar": {
            "outlinewidth": 0,
            "ticks": ""
           }
          },
          "colorscale": {
           "diverging": [
            [
             0,
             "#8e0152"
            ],
            [
             0.1,
             "#c51b7d"
            ],
            [
             0.2,
             "#de77ae"
            ],
            [
             0.3,
             "#f1b6da"
            ],
            [
             0.4,
             "#fde0ef"
            ],
            [
             0.5,
             "#f7f7f7"
            ],
            [
             0.6,
             "#e6f5d0"
            ],
            [
             0.7,
             "#b8e186"
            ],
            [
             0.8,
             "#7fbc41"
            ],
            [
             0.9,
             "#4d9221"
            ],
            [
             1,
             "#276419"
            ]
           ],
           "sequential": [
            [
             0,
             "#0d0887"
            ],
            [
             0.1111111111111111,
             "#46039f"
            ],
            [
             0.2222222222222222,
             "#7201a8"
            ],
            [
             0.3333333333333333,
             "#9c179e"
            ],
            [
             0.4444444444444444,
             "#bd3786"
            ],
            [
             0.5555555555555556,
             "#d8576b"
            ],
            [
             0.6666666666666666,
             "#ed7953"
            ],
            [
             0.7777777777777778,
             "#fb9f3a"
            ],
            [
             0.8888888888888888,
             "#fdca26"
            ],
            [
             1,
             "#f0f921"
            ]
           ],
           "sequentialminus": [
            [
             0,
             "#0d0887"
            ],
            [
             0.1111111111111111,
             "#46039f"
            ],
            [
             0.2222222222222222,
             "#7201a8"
            ],
            [
             0.3333333333333333,
             "#9c179e"
            ],
            [
             0.4444444444444444,
             "#bd3786"
            ],
            [
             0.5555555555555556,
             "#d8576b"
            ],
            [
             0.6666666666666666,
             "#ed7953"
            ],
            [
             0.7777777777777778,
             "#fb9f3a"
            ],
            [
             0.8888888888888888,
             "#fdca26"
            ],
            [
             1,
             "#f0f921"
            ]
           ]
          },
          "colorway": [
           "#636efa",
           "#EF553B",
           "#00cc96",
           "#ab63fa",
           "#FFA15A",
           "#19d3f3",
           "#FF6692",
           "#B6E880",
           "#FF97FF",
           "#FECB52"
          ],
          "font": {
           "color": "#2a3f5f"
          },
          "geo": {
           "bgcolor": "white",
           "lakecolor": "white",
           "landcolor": "#E5ECF6",
           "showlakes": true,
           "showland": true,
           "subunitcolor": "white"
          },
          "hoverlabel": {
           "align": "left"
          },
          "hovermode": "closest",
          "mapbox": {
           "style": "light"
          },
          "paper_bgcolor": "white",
          "plot_bgcolor": "#E5ECF6",
          "polar": {
           "angularaxis": {
            "gridcolor": "white",
            "linecolor": "white",
            "ticks": ""
           },
           "bgcolor": "#E5ECF6",
           "radialaxis": {
            "gridcolor": "white",
            "linecolor": "white",
            "ticks": ""
           }
          },
          "scene": {
           "xaxis": {
            "backgroundcolor": "#E5ECF6",
            "gridcolor": "white",
            "gridwidth": 2,
            "linecolor": "white",
            "showbackground": true,
            "ticks": "",
            "zerolinecolor": "white"
           },
           "yaxis": {
            "backgroundcolor": "#E5ECF6",
            "gridcolor": "white",
            "gridwidth": 2,
            "linecolor": "white",
            "showbackground": true,
            "ticks": "",
            "zerolinecolor": "white"
           },
           "zaxis": {
            "backgroundcolor": "#E5ECF6",
            "gridcolor": "white",
            "gridwidth": 2,
            "linecolor": "white",
            "showbackground": true,
            "ticks": "",
            "zerolinecolor": "white"
           }
          },
          "shapedefaults": {
           "line": {
            "color": "#2a3f5f"
           }
          },
          "ternary": {
           "aaxis": {
            "gridcolor": "white",
            "linecolor": "white",
            "ticks": ""
           },
           "baxis": {
            "gridcolor": "white",
            "linecolor": "white",
            "ticks": ""
           },
           "bgcolor": "#E5ECF6",
           "caxis": {
            "gridcolor": "white",
            "linecolor": "white",
            "ticks": ""
           }
          },
          "title": {
           "x": 0.05
          },
          "xaxis": {
           "automargin": true,
           "gridcolor": "white",
           "linecolor": "white",
           "ticks": "",
           "title": {
            "standoff": 15
           },
           "zerolinecolor": "white",
           "zerolinewidth": 2
          },
          "yaxis": {
           "automargin": true,
           "gridcolor": "white",
           "linecolor": "white",
           "ticks": "",
           "title": {
            "standoff": 15
           },
           "zerolinecolor": "white",
           "zerolinewidth": 2
          }
         }
        },
        "title": {
         "text": "Resource Count per Page"
        },
        "xaxis": {
         "anchor": "y",
         "domain": [
          0,
          1
         ],
         "title": {
          "text": "Resource Count"
         }
        },
        "yaxis": {
         "anchor": "x",
         "domain": [
          0,
          1
         ],
         "title": {
          "text": "count"
         }
        }
       }
      }
     },
     "metadata": {},
     "output_type": "display_data"
    }
   ],
   "source": [
    "fig = px.histogram(df, x='Resource Count')\n",
    "fig.update_layout(title_text='Resource Count per Page')\n",
    "fig.show()\n",
    "fig.write_html('../../fam-report-site/public/Web-Analytics/resource_counts.html')"
   ]
  },
  {
   "cell_type": "code",
   "execution_count": 11,
   "metadata": {},
   "outputs": [
    {
     "data": {
      "application/vnd.plotly.v1+json": {
       "config": {
        "plotlyServerURL": "https://plot.ly"
       },
       "data": [
        {
         "alignmentgroup": "True",
         "hovertemplate": "Link=%{x}<br>Page Size (KB)=%{y}<extra></extra>",
         "legendgroup": "",
         "marker": {
          "color": "#636efa",
          "pattern": {
           "shape": ""
          }
         },
         "name": "",
         "offsetgroup": "",
         "orientation": "v",
         "showlegend": false,
         "textposition": "auto",
         "type": "bar",
         "x": [
          "https://famapp.in/blog/7-cool-insta-dads-of-bollywood/",
          "https://fampay.in/about",
          "https://famapp.in/about",
          "https://fampay.in/blog/fampay-the-solution-to-your-cash-problems/",
          "https://famapp.in/blog/fampay-the-solution-to-your-cash-problems/",
          "https://famapp.in/blog/journey-to-the-centre-of-100k-downloads/",
          "https://fampay.in/blog/the-story-behind-fampays-tech-stack/",
          "https://famapp.in/blog/the-story-behind-fampays-tech-stack/",
          "https://fampay.in/blog/savings-for-teens-its-never-too-early-to-start/",
          "https://famapp.in/blog/savings-for-teens-its-never-too-early-to-start/",
          "https://fampay.in/terms",
          "https://famapp.in/terms",
          "https://fampay.in/blog/how-to-clean-up-your-android-apps-dependencies-the-ultimate-guide-2/",
          "https://famapp.in/blog/how-to-clean-up-your-android-apps-dependencies-the-ultimate-guide-2/",
          "https://fampay.in/blog/every-little-thing-counts-ways-in-which-you-can-contribute-to-society-as-a-teenager/",
          "https://famapp.in/blog/every-little-thing-counts-ways-in-which-you-can-contribute-to-society-as-a-teenager/",
          "https://fampay.in/blog/life-of-an-intern-is-love/",
          "https://famapp.in/blog/life-of-an-intern-is-love/",
          "https://fampay.in/blog/writing-content-for-a-content-saturated-generation/",
          "https://famapp.in/blog/writing-content-for-a-content-saturated-generation/",
          "https://fampay.in/blog/12-queer-led-small-businesses-you-need-to-support-this-pride-month/",
          "https://famapp.in/blog/12-queer-led-small-businesses-you-need-to-support-this-pride-month/",
          "https://fampay.in/blog/how-to-grow-your-instagram-followers-a-quick-guide-for-all-genz-brands/",
          "https://famapp.in/blog/how-to-grow-your-instagram-followers-a-quick-guide-for-all-genz-brands/",
          "https://fampay.in/blog/building-indias-first-genz-teen-exclusive-community/",
          "https://famapp.in/blog/building-indias-first-genz-teen-exclusive-community/",
          "https://famapp.in/blog/want-to-become-a-teenage-influencer-start-here/",
          "https://fampay.in/blog/implementing-an-in-memory-queue/",
          "https://famapp.in/blog/implementing-an-in-memory-queue/",
          "https://famapp.in/blog/teen-bucket-list-10-things-you-must-to-do-in-your-teens/"
         ],
         "xaxis": "x",
         "y": [
          138.8984375,
          81.1337890625,
          81.1337890625,
          76.845703125,
          76.845703125,
          70.6064453125,
          56.376953125,
          56.376953125,
          54.9326171875,
          54.9326171875,
          54.8271484375,
          54.8271484375,
          53.275390625,
          53.275390625,
          51.251953125,
          51.251953125,
          49.4111328125,
          49.4111328125,
          48.61328125,
          48.61328125,
          47.44921875,
          47.44921875,
          47.2783203125,
          47.2783203125,
          46.37890625,
          46.37890625,
          46.359375,
          46.341796875,
          46.341796875,
          46.2607421875
         ],
         "yaxis": "y"
        }
       ],
       "layout": {
        "barmode": "relative",
        "legend": {
         "tracegroupgap": 0
        },
        "margin": {
         "t": 60
        },
        "showlegend": false,
        "template": {
         "data": {
          "bar": [
           {
            "error_x": {
             "color": "#2a3f5f"
            },
            "error_y": {
             "color": "#2a3f5f"
            },
            "marker": {
             "line": {
              "color": "#E5ECF6",
              "width": 0.5
             },
             "pattern": {
              "fillmode": "overlay",
              "size": 10,
              "solidity": 0.2
             }
            },
            "type": "bar"
           }
          ],
          "barpolar": [
           {
            "marker": {
             "line": {
              "color": "#E5ECF6",
              "width": 0.5
             },
             "pattern": {
              "fillmode": "overlay",
              "size": 10,
              "solidity": 0.2
             }
            },
            "type": "barpolar"
           }
          ],
          "carpet": [
           {
            "aaxis": {
             "endlinecolor": "#2a3f5f",
             "gridcolor": "white",
             "linecolor": "white",
             "minorgridcolor": "white",
             "startlinecolor": "#2a3f5f"
            },
            "baxis": {
             "endlinecolor": "#2a3f5f",
             "gridcolor": "white",
             "linecolor": "white",
             "minorgridcolor": "white",
             "startlinecolor": "#2a3f5f"
            },
            "type": "carpet"
           }
          ],
          "choropleth": [
           {
            "colorbar": {
             "outlinewidth": 0,
             "ticks": ""
            },
            "type": "choropleth"
           }
          ],
          "contour": [
           {
            "colorbar": {
             "outlinewidth": 0,
             "ticks": ""
            },
            "colorscale": [
             [
              0,
              "#0d0887"
             ],
             [
              0.1111111111111111,
              "#46039f"
             ],
             [
              0.2222222222222222,
              "#7201a8"
             ],
             [
              0.3333333333333333,
              "#9c179e"
             ],
             [
              0.4444444444444444,
              "#bd3786"
             ],
             [
              0.5555555555555556,
              "#d8576b"
             ],
             [
              0.6666666666666666,
              "#ed7953"
             ],
             [
              0.7777777777777778,
              "#fb9f3a"
             ],
             [
              0.8888888888888888,
              "#fdca26"
             ],
             [
              1,
              "#f0f921"
             ]
            ],
            "type": "contour"
           }
          ],
          "contourcarpet": [
           {
            "colorbar": {
             "outlinewidth": 0,
             "ticks": ""
            },
            "type": "contourcarpet"
           }
          ],
          "heatmap": [
           {
            "colorbar": {
             "outlinewidth": 0,
             "ticks": ""
            },
            "colorscale": [
             [
              0,
              "#0d0887"
             ],
             [
              0.1111111111111111,
              "#46039f"
             ],
             [
              0.2222222222222222,
              "#7201a8"
             ],
             [
              0.3333333333333333,
              "#9c179e"
             ],
             [
              0.4444444444444444,
              "#bd3786"
             ],
             [
              0.5555555555555556,
              "#d8576b"
             ],
             [
              0.6666666666666666,
              "#ed7953"
             ],
             [
              0.7777777777777778,
              "#fb9f3a"
             ],
             [
              0.8888888888888888,
              "#fdca26"
             ],
             [
              1,
              "#f0f921"
             ]
            ],
            "type": "heatmap"
           }
          ],
          "heatmapgl": [
           {
            "colorbar": {
             "outlinewidth": 0,
             "ticks": ""
            },
            "colorscale": [
             [
              0,
              "#0d0887"
             ],
             [
              0.1111111111111111,
              "#46039f"
             ],
             [
              0.2222222222222222,
              "#7201a8"
             ],
             [
              0.3333333333333333,
              "#9c179e"
             ],
             [
              0.4444444444444444,
              "#bd3786"
             ],
             [
              0.5555555555555556,
              "#d8576b"
             ],
             [
              0.6666666666666666,
              "#ed7953"
             ],
             [
              0.7777777777777778,
              "#fb9f3a"
             ],
             [
              0.8888888888888888,
              "#fdca26"
             ],
             [
              1,
              "#f0f921"
             ]
            ],
            "type": "heatmapgl"
           }
          ],
          "histogram": [
           {
            "marker": {
             "pattern": {
              "fillmode": "overlay",
              "size": 10,
              "solidity": 0.2
             }
            },
            "type": "histogram"
           }
          ],
          "histogram2d": [
           {
            "colorbar": {
             "outlinewidth": 0,
             "ticks": ""
            },
            "colorscale": [
             [
              0,
              "#0d0887"
             ],
             [
              0.1111111111111111,
              "#46039f"
             ],
             [
              0.2222222222222222,
              "#7201a8"
             ],
             [
              0.3333333333333333,
              "#9c179e"
             ],
             [
              0.4444444444444444,
              "#bd3786"
             ],
             [
              0.5555555555555556,
              "#d8576b"
             ],
             [
              0.6666666666666666,
              "#ed7953"
             ],
             [
              0.7777777777777778,
              "#fb9f3a"
             ],
             [
              0.8888888888888888,
              "#fdca26"
             ],
             [
              1,
              "#f0f921"
             ]
            ],
            "type": "histogram2d"
           }
          ],
          "histogram2dcontour": [
           {
            "colorbar": {
             "outlinewidth": 0,
             "ticks": ""
            },
            "colorscale": [
             [
              0,
              "#0d0887"
             ],
             [
              0.1111111111111111,
              "#46039f"
             ],
             [
              0.2222222222222222,
              "#7201a8"
             ],
             [
              0.3333333333333333,
              "#9c179e"
             ],
             [
              0.4444444444444444,
              "#bd3786"
             ],
             [
              0.5555555555555556,
              "#d8576b"
             ],
             [
              0.6666666666666666,
              "#ed7953"
             ],
             [
              0.7777777777777778,
              "#fb9f3a"
             ],
             [
              0.8888888888888888,
              "#fdca26"
             ],
             [
              1,
              "#f0f921"
             ]
            ],
            "type": "histogram2dcontour"
           }
          ],
          "mesh3d": [
           {
            "colorbar": {
             "outlinewidth": 0,
             "ticks": ""
            },
            "type": "mesh3d"
           }
          ],
          "parcoords": [
           {
            "line": {
             "colorbar": {
              "outlinewidth": 0,
              "ticks": ""
             }
            },
            "type": "parcoords"
           }
          ],
          "pie": [
           {
            "automargin": true,
            "type": "pie"
           }
          ],
          "scatter": [
           {
            "fillpattern": {
             "fillmode": "overlay",
             "size": 10,
             "solidity": 0.2
            },
            "type": "scatter"
           }
          ],
          "scatter3d": [
           {
            "line": {
             "colorbar": {
              "outlinewidth": 0,
              "ticks": ""
             }
            },
            "marker": {
             "colorbar": {
              "outlinewidth": 0,
              "ticks": ""
             }
            },
            "type": "scatter3d"
           }
          ],
          "scattercarpet": [
           {
            "marker": {
             "colorbar": {
              "outlinewidth": 0,
              "ticks": ""
             }
            },
            "type": "scattercarpet"
           }
          ],
          "scattergeo": [
           {
            "marker": {
             "colorbar": {
              "outlinewidth": 0,
              "ticks": ""
             }
            },
            "type": "scattergeo"
           }
          ],
          "scattergl": [
           {
            "marker": {
             "colorbar": {
              "outlinewidth": 0,
              "ticks": ""
             }
            },
            "type": "scattergl"
           }
          ],
          "scattermapbox": [
           {
            "marker": {
             "colorbar": {
              "outlinewidth": 0,
              "ticks": ""
             }
            },
            "type": "scattermapbox"
           }
          ],
          "scatterpolar": [
           {
            "marker": {
             "colorbar": {
              "outlinewidth": 0,
              "ticks": ""
             }
            },
            "type": "scatterpolar"
           }
          ],
          "scatterpolargl": [
           {
            "marker": {
             "colorbar": {
              "outlinewidth": 0,
              "ticks": ""
             }
            },
            "type": "scatterpolargl"
           }
          ],
          "scatterternary": [
           {
            "marker": {
             "colorbar": {
              "outlinewidth": 0,
              "ticks": ""
             }
            },
            "type": "scatterternary"
           }
          ],
          "surface": [
           {
            "colorbar": {
             "outlinewidth": 0,
             "ticks": ""
            },
            "colorscale": [
             [
              0,
              "#0d0887"
             ],
             [
              0.1111111111111111,
              "#46039f"
             ],
             [
              0.2222222222222222,
              "#7201a8"
             ],
             [
              0.3333333333333333,
              "#9c179e"
             ],
             [
              0.4444444444444444,
              "#bd3786"
             ],
             [
              0.5555555555555556,
              "#d8576b"
             ],
             [
              0.6666666666666666,
              "#ed7953"
             ],
             [
              0.7777777777777778,
              "#fb9f3a"
             ],
             [
              0.8888888888888888,
              "#fdca26"
             ],
             [
              1,
              "#f0f921"
             ]
            ],
            "type": "surface"
           }
          ],
          "table": [
           {
            "cells": {
             "fill": {
              "color": "#EBF0F8"
             },
             "line": {
              "color": "white"
             }
            },
            "header": {
             "fill": {
              "color": "#C8D4E3"
             },
             "line": {
              "color": "white"
             }
            },
            "type": "table"
           }
          ]
         },
         "layout": {
          "annotationdefaults": {
           "arrowcolor": "#2a3f5f",
           "arrowhead": 0,
           "arrowwidth": 1
          },
          "autotypenumbers": "strict",
          "coloraxis": {
           "colorbar": {
            "outlinewidth": 0,
            "ticks": ""
           }
          },
          "colorscale": {
           "diverging": [
            [
             0,
             "#8e0152"
            ],
            [
             0.1,
             "#c51b7d"
            ],
            [
             0.2,
             "#de77ae"
            ],
            [
             0.3,
             "#f1b6da"
            ],
            [
             0.4,
             "#fde0ef"
            ],
            [
             0.5,
             "#f7f7f7"
            ],
            [
             0.6,
             "#e6f5d0"
            ],
            [
             0.7,
             "#b8e186"
            ],
            [
             0.8,
             "#7fbc41"
            ],
            [
             0.9,
             "#4d9221"
            ],
            [
             1,
             "#276419"
            ]
           ],
           "sequential": [
            [
             0,
             "#0d0887"
            ],
            [
             0.1111111111111111,
             "#46039f"
            ],
            [
             0.2222222222222222,
             "#7201a8"
            ],
            [
             0.3333333333333333,
             "#9c179e"
            ],
            [
             0.4444444444444444,
             "#bd3786"
            ],
            [
             0.5555555555555556,
             "#d8576b"
            ],
            [
             0.6666666666666666,
             "#ed7953"
            ],
            [
             0.7777777777777778,
             "#fb9f3a"
            ],
            [
             0.8888888888888888,
             "#fdca26"
            ],
            [
             1,
             "#f0f921"
            ]
           ],
           "sequentialminus": [
            [
             0,
             "#0d0887"
            ],
            [
             0.1111111111111111,
             "#46039f"
            ],
            [
             0.2222222222222222,
             "#7201a8"
            ],
            [
             0.3333333333333333,
             "#9c179e"
            ],
            [
             0.4444444444444444,
             "#bd3786"
            ],
            [
             0.5555555555555556,
             "#d8576b"
            ],
            [
             0.6666666666666666,
             "#ed7953"
            ],
            [
             0.7777777777777778,
             "#fb9f3a"
            ],
            [
             0.8888888888888888,
             "#fdca26"
            ],
            [
             1,
             "#f0f921"
            ]
           ]
          },
          "colorway": [
           "#636efa",
           "#EF553B",
           "#00cc96",
           "#ab63fa",
           "#FFA15A",
           "#19d3f3",
           "#FF6692",
           "#B6E880",
           "#FF97FF",
           "#FECB52"
          ],
          "font": {
           "color": "#2a3f5f"
          },
          "geo": {
           "bgcolor": "white",
           "lakecolor": "white",
           "landcolor": "#E5ECF6",
           "showlakes": true,
           "showland": true,
           "subunitcolor": "white"
          },
          "hoverlabel": {
           "align": "left"
          },
          "hovermode": "closest",
          "mapbox": {
           "style": "light"
          },
          "paper_bgcolor": "white",
          "plot_bgcolor": "#E5ECF6",
          "polar": {
           "angularaxis": {
            "gridcolor": "white",
            "linecolor": "white",
            "ticks": ""
           },
           "bgcolor": "#E5ECF6",
           "radialaxis": {
            "gridcolor": "white",
            "linecolor": "white",
            "ticks": ""
           }
          },
          "scene": {
           "xaxis": {
            "backgroundcolor": "#E5ECF6",
            "gridcolor": "white",
            "gridwidth": 2,
            "linecolor": "white",
            "showbackground": true,
            "ticks": "",
            "zerolinecolor": "white"
           },
           "yaxis": {
            "backgroundcolor": "#E5ECF6",
            "gridcolor": "white",
            "gridwidth": 2,
            "linecolor": "white",
            "showbackground": true,
            "ticks": "",
            "zerolinecolor": "white"
           },
           "zaxis": {
            "backgroundcolor": "#E5ECF6",
            "gridcolor": "white",
            "gridwidth": 2,
            "linecolor": "white",
            "showbackground": true,
            "ticks": "",
            "zerolinecolor": "white"
           }
          },
          "shapedefaults": {
           "line": {
            "color": "#2a3f5f"
           }
          },
          "ternary": {
           "aaxis": {
            "gridcolor": "white",
            "linecolor": "white",
            "ticks": ""
           },
           "baxis": {
            "gridcolor": "white",
            "linecolor": "white",
            "ticks": ""
           },
           "bgcolor": "#E5ECF6",
           "caxis": {
            "gridcolor": "white",
            "linecolor": "white",
            "ticks": ""
           }
          },
          "title": {
           "x": 0.05
          },
          "xaxis": {
           "automargin": true,
           "gridcolor": "white",
           "linecolor": "white",
           "ticks": "",
           "title": {
            "standoff": 15
           },
           "zerolinecolor": "white",
           "zerolinewidth": 2
          },
          "yaxis": {
           "automargin": true,
           "gridcolor": "white",
           "linecolor": "white",
           "ticks": "",
           "title": {
            "standoff": 15
           },
           "zerolinecolor": "white",
           "zerolinewidth": 2
          }
         }
        },
        "title": {
         "text": "Top 30 URLs by Page Size"
        },
        "xaxis": {
         "anchor": "y",
         "domain": [
          0,
          1
         ],
         "title": {
          "text": "Link"
         }
        },
        "yaxis": {
         "anchor": "x",
         "domain": [
          0,
          1
         ],
         "title": {
          "text": "Page Size (KB)"
         }
        }
       }
      }
     },
     "metadata": {},
     "output_type": "display_data"
    }
   ],
   "source": [
    "top_pages = df.nlargest(30, 'Page Size (KB)')\n",
    "fig = px.bar(top_pages, x='Link', y='Page Size (KB)')\n",
    "fig.update_layout(title_text='Top 30 URLs by Page Size')\n",
    "fig.update_layout(showlegend=False)\n",
    "fig.show()\n",
    "fig.write_html('../../fam-report-site/public/Web-Analytics/top_pages.html')"
   ]
  },
  {
   "cell_type": "code",
   "execution_count": 13,
   "metadata": {},
   "outputs": [
    {
     "data": {
      "application/vnd.plotly.v1+json": {
       "config": {
        "plotlyServerURL": "https://plot.ly"
       },
       "data": [
        {
         "alignmentgroup": "True",
         "hovertemplate": "=%{x}<br>Resource Size (KB)=%{y}<extra></extra>",
         "legendgroup": "",
         "marker": {
          "color": "#636efa",
          "pattern": {
           "shape": ""
          }
         },
         "name": "",
         "offsetgroup": "",
         "orientation": "v",
         "showlegend": false,
         "textposition": "auto",
         "type": "bar",
         "x": [
          "https://fampay.in/blog/how-to-clean-up-your-android-apps-dependencies-the-ultimate-guide-2/",
          "https://famapp.in/blog/how-to-clean-up-your-android-apps-dependencies-the-ultimate-guide-2/",
          "https://fampay.in/about",
          "https://famapp.in/about",
          "https://fampay.in/blog/implementing-an-in-memory-queue/",
          "https://famapp.in/blog/implementing-an-in-memory-queue/",
          "https://fampay.in/blog/covid-19-vaccination-as-a-teen-a-guide/",
          "https://famapp.in/blog/covid-19-vaccination-as-a-teen-a-guide/",
          "https://fampay.in/blog/every-little-thing-counts-ways-in-which-you-can-contribute-to-society-as-a-teenager/",
          "https://famapp.in/blog/every-little-thing-counts-ways-in-which-you-can-contribute-to-society-as-a-teenager/",
          "https://fampay.in/blog/social-commerce-making-money-just-through-social-media/",
          "https://famapp.in/blog/social-commerce-making-money-just-through-social-media/",
          "https://fampay.in/blog/everything-you-need-to-know-about-our-numberless-card/",
          "https://famapp.in/blog/everything-you-need-to-know-about-our-numberless-card/",
          "https://fampay.in/blog/7-clever-saving-hacks-for-teenagers-this-will-save-you-a-fortune/",
          "https://famapp.in/blog/7-clever-saving-hacks-for-teenagers-this-will-save-you-a-fortune/",
          "https://fampay.in/blog/12-queer-led-small-businesses-you-need-to-support-this-pride-month/",
          "https://fampay.in/blog/life-of-an-intern-is-love/",
          "https://fampay.in/blog/effectively-harnessing-motion-design-for-genzs/",
          "https://fampay.in/blog/writing-content-for-a-content-saturated-generation/",
          "https://fampay.in/blog/what-are-the-perks-of-using-fampay/",
          "https://fampay.in/blog/a-marketers-guide-to-moment-marketing/",
          "https://fampay.in/blog/living-life-genz-style/",
          "https://fampay.in/blog/getting-your-generations-right-millennials-v-s-genz/",
          "https://fampay.in/blog/how-to-grow-your-instagram-followers-a-quick-guide-for-all-genz-brands/",
          "https://fampay.in/blog/the-most-beautiful-college-campuses-in-india/",
          "https://fampay.in/blog/how-to-order-a-famcard-in-less-than-5-minutes/",
          "https://fampay.in/blog/why-vaccination-a-guide-to-vaccination-for-teens-in-india/",
          "https://fampay.in/blog/study-habits-that-are-simple-and-highly-effective/",
          "https://fampay.in/blog/fampay-the-solution-to-your-cash-problems/"
         ],
         "xaxis": "x",
         "y": [
          7758.0751953125,
          7756.7666015625,
          5131.7421875,
          5118.39453125,
          2820.5126953125,
          2819.2041015625,
          2447.025390625,
          2445.716796875,
          813.833984375,
          778.4853515625,
          741.53125,
          740.22265625,
          373.650390625,
          372.341796875,
          322.27734375,
          316.791015625,
          283.6435546875,
          283.5126953125,
          283.5126953125,
          283.5126953125,
          283.3818359375,
          283.2509765625,
          283.1201171875,
          283.1201171875,
          283.1201171875,
          283.1201171875,
          283.1201171875,
          282.9892578125,
          282.9892578125,
          282.9892578125
         ],
         "yaxis": "y"
        }
       ],
       "layout": {
        "barmode": "relative",
        "legend": {
         "tracegroupgap": 0
        },
        "margin": {
         "t": 60
        },
        "showlegend": false,
        "template": {
         "data": {
          "bar": [
           {
            "error_x": {
             "color": "#2a3f5f"
            },
            "error_y": {
             "color": "#2a3f5f"
            },
            "marker": {
             "line": {
              "color": "#E5ECF6",
              "width": 0.5
             },
             "pattern": {
              "fillmode": "overlay",
              "size": 10,
              "solidity": 0.2
             }
            },
            "type": "bar"
           }
          ],
          "barpolar": [
           {
            "marker": {
             "line": {
              "color": "#E5ECF6",
              "width": 0.5
             },
             "pattern": {
              "fillmode": "overlay",
              "size": 10,
              "solidity": 0.2
             }
            },
            "type": "barpolar"
           }
          ],
          "carpet": [
           {
            "aaxis": {
             "endlinecolor": "#2a3f5f",
             "gridcolor": "white",
             "linecolor": "white",
             "minorgridcolor": "white",
             "startlinecolor": "#2a3f5f"
            },
            "baxis": {
             "endlinecolor": "#2a3f5f",
             "gridcolor": "white",
             "linecolor": "white",
             "minorgridcolor": "white",
             "startlinecolor": "#2a3f5f"
            },
            "type": "carpet"
           }
          ],
          "choropleth": [
           {
            "colorbar": {
             "outlinewidth": 0,
             "ticks": ""
            },
            "type": "choropleth"
           }
          ],
          "contour": [
           {
            "colorbar": {
             "outlinewidth": 0,
             "ticks": ""
            },
            "colorscale": [
             [
              0,
              "#0d0887"
             ],
             [
              0.1111111111111111,
              "#46039f"
             ],
             [
              0.2222222222222222,
              "#7201a8"
             ],
             [
              0.3333333333333333,
              "#9c179e"
             ],
             [
              0.4444444444444444,
              "#bd3786"
             ],
             [
              0.5555555555555556,
              "#d8576b"
             ],
             [
              0.6666666666666666,
              "#ed7953"
             ],
             [
              0.7777777777777778,
              "#fb9f3a"
             ],
             [
              0.8888888888888888,
              "#fdca26"
             ],
             [
              1,
              "#f0f921"
             ]
            ],
            "type": "contour"
           }
          ],
          "contourcarpet": [
           {
            "colorbar": {
             "outlinewidth": 0,
             "ticks": ""
            },
            "type": "contourcarpet"
           }
          ],
          "heatmap": [
           {
            "colorbar": {
             "outlinewidth": 0,
             "ticks": ""
            },
            "colorscale": [
             [
              0,
              "#0d0887"
             ],
             [
              0.1111111111111111,
              "#46039f"
             ],
             [
              0.2222222222222222,
              "#7201a8"
             ],
             [
              0.3333333333333333,
              "#9c179e"
             ],
             [
              0.4444444444444444,
              "#bd3786"
             ],
             [
              0.5555555555555556,
              "#d8576b"
             ],
             [
              0.6666666666666666,
              "#ed7953"
             ],
             [
              0.7777777777777778,
              "#fb9f3a"
             ],
             [
              0.8888888888888888,
              "#fdca26"
             ],
             [
              1,
              "#f0f921"
             ]
            ],
            "type": "heatmap"
           }
          ],
          "heatmapgl": [
           {
            "colorbar": {
             "outlinewidth": 0,
             "ticks": ""
            },
            "colorscale": [
             [
              0,
              "#0d0887"
             ],
             [
              0.1111111111111111,
              "#46039f"
             ],
             [
              0.2222222222222222,
              "#7201a8"
             ],
             [
              0.3333333333333333,
              "#9c179e"
             ],
             [
              0.4444444444444444,
              "#bd3786"
             ],
             [
              0.5555555555555556,
              "#d8576b"
             ],
             [
              0.6666666666666666,
              "#ed7953"
             ],
             [
              0.7777777777777778,
              "#fb9f3a"
             ],
             [
              0.8888888888888888,
              "#fdca26"
             ],
             [
              1,
              "#f0f921"
             ]
            ],
            "type": "heatmapgl"
           }
          ],
          "histogram": [
           {
            "marker": {
             "pattern": {
              "fillmode": "overlay",
              "size": 10,
              "solidity": 0.2
             }
            },
            "type": "histogram"
           }
          ],
          "histogram2d": [
           {
            "colorbar": {
             "outlinewidth": 0,
             "ticks": ""
            },
            "colorscale": [
             [
              0,
              "#0d0887"
             ],
             [
              0.1111111111111111,
              "#46039f"
             ],
             [
              0.2222222222222222,
              "#7201a8"
             ],
             [
              0.3333333333333333,
              "#9c179e"
             ],
             [
              0.4444444444444444,
              "#bd3786"
             ],
             [
              0.5555555555555556,
              "#d8576b"
             ],
             [
              0.6666666666666666,
              "#ed7953"
             ],
             [
              0.7777777777777778,
              "#fb9f3a"
             ],
             [
              0.8888888888888888,
              "#fdca26"
             ],
             [
              1,
              "#f0f921"
             ]
            ],
            "type": "histogram2d"
           }
          ],
          "histogram2dcontour": [
           {
            "colorbar": {
             "outlinewidth": 0,
             "ticks": ""
            },
            "colorscale": [
             [
              0,
              "#0d0887"
             ],
             [
              0.1111111111111111,
              "#46039f"
             ],
             [
              0.2222222222222222,
              "#7201a8"
             ],
             [
              0.3333333333333333,
              "#9c179e"
             ],
             [
              0.4444444444444444,
              "#bd3786"
             ],
             [
              0.5555555555555556,
              "#d8576b"
             ],
             [
              0.6666666666666666,
              "#ed7953"
             ],
             [
              0.7777777777777778,
              "#fb9f3a"
             ],
             [
              0.8888888888888888,
              "#fdca26"
             ],
             [
              1,
              "#f0f921"
             ]
            ],
            "type": "histogram2dcontour"
           }
          ],
          "mesh3d": [
           {
            "colorbar": {
             "outlinewidth": 0,
             "ticks": ""
            },
            "type": "mesh3d"
           }
          ],
          "parcoords": [
           {
            "line": {
             "colorbar": {
              "outlinewidth": 0,
              "ticks": ""
             }
            },
            "type": "parcoords"
           }
          ],
          "pie": [
           {
            "automargin": true,
            "type": "pie"
           }
          ],
          "scatter": [
           {
            "fillpattern": {
             "fillmode": "overlay",
             "size": 10,
             "solidity": 0.2
            },
            "type": "scatter"
           }
          ],
          "scatter3d": [
           {
            "line": {
             "colorbar": {
              "outlinewidth": 0,
              "ticks": ""
             }
            },
            "marker": {
             "colorbar": {
              "outlinewidth": 0,
              "ticks": ""
             }
            },
            "type": "scatter3d"
           }
          ],
          "scattercarpet": [
           {
            "marker": {
             "colorbar": {
              "outlinewidth": 0,
              "ticks": ""
             }
            },
            "type": "scattercarpet"
           }
          ],
          "scattergeo": [
           {
            "marker": {
             "colorbar": {
              "outlinewidth": 0,
              "ticks": ""
             }
            },
            "type": "scattergeo"
           }
          ],
          "scattergl": [
           {
            "marker": {
             "colorbar": {
              "outlinewidth": 0,
              "ticks": ""
             }
            },
            "type": "scattergl"
           }
          ],
          "scattermapbox": [
           {
            "marker": {
             "colorbar": {
              "outlinewidth": 0,
              "ticks": ""
             }
            },
            "type": "scattermapbox"
           }
          ],
          "scatterpolar": [
           {
            "marker": {
             "colorbar": {
              "outlinewidth": 0,
              "ticks": ""
             }
            },
            "type": "scatterpolar"
           }
          ],
          "scatterpolargl": [
           {
            "marker": {
             "colorbar": {
              "outlinewidth": 0,
              "ticks": ""
             }
            },
            "type": "scatterpolargl"
           }
          ],
          "scatterternary": [
           {
            "marker": {
             "colorbar": {
              "outlinewidth": 0,
              "ticks": ""
             }
            },
            "type": "scatterternary"
           }
          ],
          "surface": [
           {
            "colorbar": {
             "outlinewidth": 0,
             "ticks": ""
            },
            "colorscale": [
             [
              0,
              "#0d0887"
             ],
             [
              0.1111111111111111,
              "#46039f"
             ],
             [
              0.2222222222222222,
              "#7201a8"
             ],
             [
              0.3333333333333333,
              "#9c179e"
             ],
             [
              0.4444444444444444,
              "#bd3786"
             ],
             [
              0.5555555555555556,
              "#d8576b"
             ],
             [
              0.6666666666666666,
              "#ed7953"
             ],
             [
              0.7777777777777778,
              "#fb9f3a"
             ],
             [
              0.8888888888888888,
              "#fdca26"
             ],
             [
              1,
              "#f0f921"
             ]
            ],
            "type": "surface"
           }
          ],
          "table": [
           {
            "cells": {
             "fill": {
              "color": "#EBF0F8"
             },
             "line": {
              "color": "white"
             }
            },
            "header": {
             "fill": {
              "color": "#C8D4E3"
             },
             "line": {
              "color": "white"
             }
            },
            "type": "table"
           }
          ]
         },
         "layout": {
          "annotationdefaults": {
           "arrowcolor": "#2a3f5f",
           "arrowhead": 0,
           "arrowwidth": 1
          },
          "autotypenumbers": "strict",
          "coloraxis": {
           "colorbar": {
            "outlinewidth": 0,
            "ticks": ""
           }
          },
          "colorscale": {
           "diverging": [
            [
             0,
             "#8e0152"
            ],
            [
             0.1,
             "#c51b7d"
            ],
            [
             0.2,
             "#de77ae"
            ],
            [
             0.3,
             "#f1b6da"
            ],
            [
             0.4,
             "#fde0ef"
            ],
            [
             0.5,
             "#f7f7f7"
            ],
            [
             0.6,
             "#e6f5d0"
            ],
            [
             0.7,
             "#b8e186"
            ],
            [
             0.8,
             "#7fbc41"
            ],
            [
             0.9,
             "#4d9221"
            ],
            [
             1,
             "#276419"
            ]
           ],
           "sequential": [
            [
             0,
             "#0d0887"
            ],
            [
             0.1111111111111111,
             "#46039f"
            ],
            [
             0.2222222222222222,
             "#7201a8"
            ],
            [
             0.3333333333333333,
             "#9c179e"
            ],
            [
             0.4444444444444444,
             "#bd3786"
            ],
            [
             0.5555555555555556,
             "#d8576b"
            ],
            [
             0.6666666666666666,
             "#ed7953"
            ],
            [
             0.7777777777777778,
             "#fb9f3a"
            ],
            [
             0.8888888888888888,
             "#fdca26"
            ],
            [
             1,
             "#f0f921"
            ]
           ],
           "sequentialminus": [
            [
             0,
             "#0d0887"
            ],
            [
             0.1111111111111111,
             "#46039f"
            ],
            [
             0.2222222222222222,
             "#7201a8"
            ],
            [
             0.3333333333333333,
             "#9c179e"
            ],
            [
             0.4444444444444444,
             "#bd3786"
            ],
            [
             0.5555555555555556,
             "#d8576b"
            ],
            [
             0.6666666666666666,
             "#ed7953"
            ],
            [
             0.7777777777777778,
             "#fb9f3a"
            ],
            [
             0.8888888888888888,
             "#fdca26"
            ],
            [
             1,
             "#f0f921"
            ]
           ]
          },
          "colorway": [
           "#636efa",
           "#EF553B",
           "#00cc96",
           "#ab63fa",
           "#FFA15A",
           "#19d3f3",
           "#FF6692",
           "#B6E880",
           "#FF97FF",
           "#FECB52"
          ],
          "font": {
           "color": "#2a3f5f"
          },
          "geo": {
           "bgcolor": "white",
           "lakecolor": "white",
           "landcolor": "#E5ECF6",
           "showlakes": true,
           "showland": true,
           "subunitcolor": "white"
          },
          "hoverlabel": {
           "align": "left"
          },
          "hovermode": "closest",
          "mapbox": {
           "style": "light"
          },
          "paper_bgcolor": "white",
          "plot_bgcolor": "#E5ECF6",
          "polar": {
           "angularaxis": {
            "gridcolor": "white",
            "linecolor": "white",
            "ticks": ""
           },
           "bgcolor": "#E5ECF6",
           "radialaxis": {
            "gridcolor": "white",
            "linecolor": "white",
            "ticks": ""
           }
          },
          "scene": {
           "xaxis": {
            "backgroundcolor": "#E5ECF6",
            "gridcolor": "white",
            "gridwidth": 2,
            "linecolor": "white",
            "showbackground": true,
            "ticks": "",
            "zerolinecolor": "white"
           },
           "yaxis": {
            "backgroundcolor": "#E5ECF6",
            "gridcolor": "white",
            "gridwidth": 2,
            "linecolor": "white",
            "showbackground": true,
            "ticks": "",
            "zerolinecolor": "white"
           },
           "zaxis": {
            "backgroundcolor": "#E5ECF6",
            "gridcolor": "white",
            "gridwidth": 2,
            "linecolor": "white",
            "showbackground": true,
            "ticks": "",
            "zerolinecolor": "white"
           }
          },
          "shapedefaults": {
           "line": {
            "color": "#2a3f5f"
           }
          },
          "ternary": {
           "aaxis": {
            "gridcolor": "white",
            "linecolor": "white",
            "ticks": ""
           },
           "baxis": {
            "gridcolor": "white",
            "linecolor": "white",
            "ticks": ""
           },
           "bgcolor": "#E5ECF6",
           "caxis": {
            "gridcolor": "white",
            "linecolor": "white",
            "ticks": ""
           }
          },
          "title": {
           "x": 0.05
          },
          "xaxis": {
           "automargin": true,
           "gridcolor": "white",
           "linecolor": "white",
           "ticks": "",
           "title": {
            "standoff": 15
           },
           "zerolinecolor": "white",
           "zerolinewidth": 2
          },
          "yaxis": {
           "automargin": true,
           "gridcolor": "white",
           "linecolor": "white",
           "ticks": "",
           "title": {
            "standoff": 15
           },
           "zerolinecolor": "white",
           "zerolinewidth": 2
          }
         }
        },
        "title": {
         "text": "Top 30 URLs by Total Resource Size"
        },
        "xaxis": {
         "anchor": "y",
         "domain": [
          0,
          1
         ],
         "title": {
          "text": ""
         }
        },
        "yaxis": {
         "anchor": "x",
         "domain": [
          0,
          1
         ],
         "title": {
          "text": "Resource Size (KB)"
         }
        }
       }
      }
     },
     "metadata": {},
     "output_type": "display_data"
    }
   ],
   "source": [
    "top_resources = df.nlargest(30, 'Total Resource Size (KB)')\n",
    "fig = px.bar(top_resources, x='Link', y='Total Resource Size (KB)', labels={'Link': '', 'Total Resource Size (KB)': 'Resource Size (KB)'})\n",
    "fig.update_traces(textposition='auto')\n",
    "fig.update_layout(showlegend=False)\n",
    "fig.update_layout(title_text='Top 30 URLs by Total Resource Size')\n",
    "fig.show()\n",
    "fig.write_html('../../fam-report-site/public/Web-Analytics/top_resources_bar.html')"
   ]
  },
  {
   "cell_type": "code",
   "execution_count": 14,
   "metadata": {},
   "outputs": [
    {
     "name": "stdout",
     "output_type": "stream",
     "text": [
      "       Page Size (KB)  Total Resource Size (KB)  Resource Count\n",
      "count      246.000000                246.000000      246.000000\n",
      "mean        39.956821                409.822964       21.365854\n",
      "std         11.655578                855.234966       14.719011\n",
      "min         14.641602                  0.000000       14.000000\n",
      "25%         34.849854                280.895508       15.000000\n",
      "50%         41.213867                281.811523       19.000000\n",
      "75%         44.180420                282.334961       22.000000\n",
      "max        138.898438               7758.075195      156.000000\n"
     ]
    }
   ],
   "source": [
    "stats = df.describe()\n",
    "print(stats)"
   ]
  }
 ],
 "metadata": {
  "kernelspec": {
   "display_name": "base",
   "language": "python",
   "name": "python3"
  },
  "language_info": {
   "codemirror_mode": {
    "name": "ipython",
    "version": 3
   },
   "file_extension": ".py",
   "mimetype": "text/x-python",
   "name": "python",
   "nbconvert_exporter": "python",
   "pygments_lexer": "ipython3",
   "version": "3.10.9"
  },
  "orig_nbformat": 4
 },
 "nbformat": 4,
 "nbformat_minor": 2
}
