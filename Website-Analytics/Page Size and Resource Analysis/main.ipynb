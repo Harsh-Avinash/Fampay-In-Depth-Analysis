{
 "cells": [
  {
   "cell_type": "code",
   "execution_count": 1,
   "metadata": {},
   "outputs": [],
   "source": [
    "import requests\n",
    "from bs4 import BeautifulSoup\n",
    "import pandas as pd\n",
    "import plotly.express as px\n",
    "import ast"
   ]
  },
  {
   "cell_type": "code",
   "execution_count": 24,
   "metadata": {},
   "outputs": [],
   "source": [
    "def get_page_size(url):\n",
    "    response = requests.get(url)\n",
    "    page_size = len(response.content) / 1024  # Convert bytes to kilobytes\n",
    "    return page_size"
   ]
  },
  {
   "cell_type": "code",
   "execution_count": 25,
   "metadata": {},
   "outputs": [],
   "source": [
    "def get_resource_size(base_url, resource_url):\n",
    "    if resource_url.startswith('http'):\n",
    "        absolute_url = resource_url\n",
    "    else:\n",
    "        absolute_url = f'{base_url}/{resource_url}'  # Handle relative URLs\n",
    "    \n",
    "    response = requests.head(absolute_url)\n",
    "    resource_size = int(response.headers.get('content-length', 0)) / 1024  # Convert bytes to kilobytes\n",
    "    return resource_size"
   ]
  },
  {
   "cell_type": "code",
   "execution_count": 26,
   "metadata": {},
   "outputs": [],
   "source": [
    "def analyze_resources(url):\n",
    "    response = requests.get(url)\n",
    "    soup = BeautifulSoup(response.content, 'html.parser')\n",
    "    \n",
    "    resource_sizes = []\n",
    "    \n",
    "    # Analyze images\n",
    "    images = soup.find_all('img')\n",
    "    for img in images:\n",
    "        img_url = img.get('src')\n",
    "        img_size = get_resource_size(url, img_url)\n",
    "        resource_sizes.append((img_url, img_size))\n",
    "    \n",
    "    # Analyze scripts\n",
    "    scripts = soup.find_all('script')\n",
    "    for script in scripts:\n",
    "        script_url = script.get('src')\n",
    "        if script_url:\n",
    "            script_size = get_resource_size(url, script_url)\n",
    "            resource_sizes.append((script_url, script_size))\n",
    "    \n",
    "    # Analyze stylesheets\n",
    "    stylesheets = soup.find_all('link', rel='stylesheet')\n",
    "    for stylesheet in stylesheets:\n",
    "        stylesheet_url = stylesheet.get('href')\n",
    "        if stylesheet_url:\n",
    "            stylesheet_size = get_resource_size(url, stylesheet_url)\n",
    "            resource_sizes.append((stylesheet_url, stylesheet_size))\n",
    "    \n",
    "    return resource_sizes"
   ]
  },
  {
   "cell_type": "code",
   "execution_count": 32,
   "metadata": {},
   "outputs": [],
   "source": [
    "# Read the CSV file into a DataFrame\n",
    "input_csv = '../EveryTraceOfFampayPeriod/famapp_unique_links.csv'\n",
    "output_csv = 'resources.csv'\n",
    "\n",
    "# read and save input csv to a df\n",
    "df = pd.read_csv(input_csv)\n",
    "\n",
    "\n",
    "# Create new columns for page size and resource sizes\n",
    "df['Page Size (KB)'] = None\n",
    "df['Resource Sizes'] = None"
   ]
  },
  {
   "cell_type": "code",
   "execution_count": 36,
   "metadata": {},
   "outputs": [
    {
     "name": "stdout",
     "output_type": "stream",
     "text": [
      "Analyzing 1 of 523: https://famapp.in/\n",
      "Page size: 32.552734375 KB\n",
      "Resource sizes: [('/assets/images/icons/common/partyCapIcon.svg', 0.0), ('/assets/images/icons/common/partyFaceIcon.svg', 0.0), ('/assets/images/icons/common/singleGreyArrowIcon.svg', 0.0), ('/assets/images/icons/common/headerWhiteLogoIcon.svg', 0.0), ('/assets/images/images/pages/index/FamXBanner.png', 0.0), ('/assets/images/images/pages/index/FamXBanner.png', 0.0), ('/assets/images/images/pages/index/userTrustImage.png', 0.0), ('/assets/images/images/pages/index/TrioLogo.png', 0.0), ('/assets/images/images/pages/index/VisaLogo.png', 0.0), ('/assets/images/images/pages/index/RupayLogo.png', 0.0), ('/assets/images/images/pages/index/UPILogo.png', 0.0), ('/assets/images/images/pages/index/userTrustImage.png', 0.0), ('/assets/images/images/pages/index/TrioLogo.png', 0.0), ('/assets/images/images/pages/index/VisaLogo.png', 0.0), ('/assets/images/images/pages/index/RupayLogo.png', 0.0), ('/assets/images/images/pages/index/UPILogo.png', 0.0), ('/assets/images/images/pages/index/SpendingAccountImage.jpg', 0.0), ('/assets/images/images/pages/index/FamXTeens.png', 0.0), ('/assets/images/images/pages/index/scanPayUpi.png', 0.0), ('/assets/images/images/pages/index/personalizedThemes.png', 0.0), ('/assets/images/images/pages/index/recharge.png', 0.0), ('/assets/images/images/pages/index/upiImage.png', 0.0), ('/assets/images/images/pages/index/rewardIcon.png', 0.0), ('/assets/images/images/pages/index/giveaway.png', 0.0), ('/assets/images/images/pages/index/challenges.png', 0.0), ('/assets/images/images/pages/index/burnFamcoinPhoneImage.png', 0.0), ('/assets/images/images/pages/index/famcoinRewards.png', 0.0), ('/assets/images/images/pages/index/rewardIcon.png', 0.0), ('/assets/images/images/pages/index/giveaway.png', 0.0), ('/assets/images/images/pages/index/challenges.png', 0.0), ('/assets/images/images/pages/index/burnFamcoinPhoneImage.png', 0.0), ('/assets/images/images/pages/index/FamXCard.png', 0.0), ('/assets/images/images/pages/index/FamXCardTitle.png', 0.0), ('/assets/images/images/pages/index/Classic.png', 0.0), ('/assets/images/images/pages/index/Plus.png', 0.0), ('/assets/images/images/pages/index/Ultra.png', 0.0), ('/assets/images/images/pages/index/supportChatGif.gif', 0.0), ('/assets/images/images/pages/index/elevationImage.png', 0.0), ('/assets/images/images/pages/index/sequoiaImage.png', 0.0), ('/assets/images/images/pages/index/vhImage.png', 0.0), ('/assets/images/images/pages/index/gcImage.png', 0.0), ('/assets/images/images/pages/index/ycImage.png', 0.0), ('/assets/images/images/pages/index/gfcImage.png', 0.0), ('/assets/images/images/pages/index/rocketshipImage.png', 0.0), ('/assets/images/images/pages/index/greenoaksImage.png', 0.0), ('/assets/images/images/pages/index/hiringImage.png', 0.0), ('/assets/images/images/pages/index/qrcode.png', 0.0), ('/assets/images/icons/common/headerWhiteLogoIcon.svg', 0.0), ('/assets/images/icons/common/facebookGreyIcon.svg', 0.0), ('/assets/images/icons/common/mediumGreyIcon.svg', 0.0), ('/assets/images/icons/common/instagramGreyIcon.svg', 0.0), ('/assets/images/icons/common/linkedinGreyIcon.svg', 0.0), ('/assets/images/icons/common/twitterGreyIcon.svg', 0.0), ('/assets/images/icons/common/discordGreyIcon.svg', 0.0), ('/assets/images/icons/common/snapchatGreyIcon.svg', 0.0), ('/assets/images/icons/common/youtubeGreyIcon.svg', 0.0), ('/_next/static/chunks/polyfills-5cd94c89d3acac5f.js', 0.0), ('/_next/static/chunks/webpack-e2315b53e504a6de.js', 0.0), ('/_next/static/chunks/framework-79bce4a3a540b080.js', 0.0), ('/_next/static/chunks/main-02d79fe8c2a509ed.js', 0.0), ('/_next/static/chunks/pages/_app-5aa48e6daaf3fe0d.js', 0.0), ('/_next/static/chunks/2905-8aaa955321746aca.js', 0.0), ('/_next/static/chunks/5518-21e58bc44adfaa2d.js', 0.0), ('/_next/static/chunks/7454-c90862ff3e03df1e.js', 0.0), ('/_next/static/chunks/4590-75312c952da4fb21.js', 0.0), ('/_next/static/chunks/pages/index-afcb2cf026d17c85.js', 0.0), ('/_next/static/OnBp0dXLpVOYqcPmAsImr/_buildManifest.js', 0.0), ('/_next/static/OnBp0dXLpVOYqcPmAsImr/_ssgManifest.js', 0.0), ('/_next/static/OnBp0dXLpVOYqcPmAsImr/_middlewareManifest.js', 0.0), ('/_next/static/css/6238d6cccf041c98.css', 0.0), ('/_next/static/css/a3ccf72303662f65.css', 0.0)]\n",
      "Analyzing 2 of 523: https://famcard.me/\n",
      "Page size: 32.552734375 KB\n",
      "Resource sizes: [('/assets/images/icons/common/partyCapIcon.svg', 0.130859375), ('/assets/images/icons/common/partyFaceIcon.svg', 0.130859375), ('/assets/images/icons/common/singleGreyArrowIcon.svg', 0.130859375), ('/assets/images/icons/common/headerWhiteLogoIcon.svg', 0.130859375), ('/assets/images/images/pages/index/FamXBanner.png', 0.130859375), ('/assets/images/images/pages/index/FamXBanner.png', 0.130859375), ('/assets/images/images/pages/index/userTrustImage.png', 0.130859375), ('/assets/images/images/pages/index/TrioLogo.png', 0.130859375), ('/assets/images/images/pages/index/VisaLogo.png', 0.130859375), ('/assets/images/images/pages/index/RupayLogo.png', 0.130859375), ('/assets/images/images/pages/index/UPILogo.png', 0.130859375), ('/assets/images/images/pages/index/userTrustImage.png', 0.130859375), ('/assets/images/images/pages/index/TrioLogo.png', 0.130859375), ('/assets/images/images/pages/index/VisaLogo.png', 0.130859375), ('/assets/images/images/pages/index/RupayLogo.png', 0.130859375), ('/assets/images/images/pages/index/UPILogo.png', 0.130859375), ('/assets/images/images/pages/index/SpendingAccountImage.jpg', 0.130859375), ('/assets/images/images/pages/index/FamXTeens.png', 0.130859375), ('/assets/images/images/pages/index/scanPayUpi.png', 0.130859375), ('/assets/images/images/pages/index/personalizedThemes.png', 0.130859375), ('/assets/images/images/pages/index/recharge.png', 0.130859375), ('/assets/images/images/pages/index/upiImage.png', 0.130859375), ('/assets/images/images/pages/index/rewardIcon.png', 0.130859375), ('/assets/images/images/pages/index/giveaway.png', 0.130859375), ('/assets/images/images/pages/index/challenges.png', 0.130859375), ('/assets/images/images/pages/index/burnFamcoinPhoneImage.png', 0.130859375), ('/assets/images/images/pages/index/famcoinRewards.png', 0.130859375), ('/assets/images/images/pages/index/rewardIcon.png', 0.130859375), ('/assets/images/images/pages/index/giveaway.png', 0.130859375), ('/assets/images/images/pages/index/challenges.png', 0.130859375), ('/assets/images/images/pages/index/burnFamcoinPhoneImage.png', 0.130859375), ('/assets/images/images/pages/index/FamXCard.png', 0.130859375), ('/assets/images/images/pages/index/FamXCardTitle.png', 0.130859375), ('/assets/images/images/pages/index/Classic.png', 0.130859375), ('/assets/images/images/pages/index/Plus.png', 0.130859375), ('/assets/images/images/pages/index/Ultra.png', 0.130859375), ('/assets/images/images/pages/index/supportChatGif.gif', 0.130859375), ('/assets/images/images/pages/index/elevationImage.png', 0.130859375), ('/assets/images/images/pages/index/sequoiaImage.png', 0.130859375), ('/assets/images/images/pages/index/vhImage.png', 0.130859375), ('/assets/images/images/pages/index/gcImage.png', 0.130859375), ('/assets/images/images/pages/index/ycImage.png', 0.130859375), ('/assets/images/images/pages/index/gfcImage.png', 0.130859375), ('/assets/images/images/pages/index/rocketshipImage.png', 0.130859375), ('/assets/images/images/pages/index/greenoaksImage.png', 0.130859375), ('/assets/images/images/pages/index/hiringImage.png', 0.130859375), ('/assets/images/images/pages/index/qrcode.png', 0.130859375), ('/assets/images/icons/common/headerWhiteLogoIcon.svg', 0.130859375), ('/assets/images/icons/common/facebookGreyIcon.svg', 0.130859375), ('/assets/images/icons/common/mediumGreyIcon.svg', 0.130859375), ('/assets/images/icons/common/instagramGreyIcon.svg', 0.130859375), ('/assets/images/icons/common/linkedinGreyIcon.svg', 0.130859375), ('/assets/images/icons/common/twitterGreyIcon.svg', 0.130859375), ('/assets/images/icons/common/discordGreyIcon.svg', 0.130859375), ('/assets/images/icons/common/snapchatGreyIcon.svg', 0.130859375), ('/assets/images/icons/common/youtubeGreyIcon.svg', 0.130859375), ('/_next/static/chunks/polyfills-5cd94c89d3acac5f.js', 0.130859375), ('/_next/static/chunks/webpack-e2315b53e504a6de.js', 0.130859375), ('/_next/static/chunks/framework-79bce4a3a540b080.js', 0.130859375), ('/_next/static/chunks/main-02d79fe8c2a509ed.js', 0.130859375), ('/_next/static/chunks/pages/_app-5aa48e6daaf3fe0d.js', 0.130859375), ('/_next/static/chunks/2905-8aaa955321746aca.js', 0.130859375), ('/_next/static/chunks/5518-21e58bc44adfaa2d.js', 0.130859375), ('/_next/static/chunks/7454-c90862ff3e03df1e.js', 0.130859375), ('/_next/static/chunks/4590-75312c952da4fb21.js', 0.130859375), ('/_next/static/chunks/pages/index-afcb2cf026d17c85.js', 0.130859375), ('/_next/static/OnBp0dXLpVOYqcPmAsImr/_buildManifest.js', 0.130859375), ('/_next/static/OnBp0dXLpVOYqcPmAsImr/_ssgManifest.js', 0.130859375), ('/_next/static/OnBp0dXLpVOYqcPmAsImr/_middlewareManifest.js', 0.130859375), ('/_next/static/css/6238d6cccf041c98.css', 0.130859375), ('/_next/static/css/a3ccf72303662f65.css', 0.130859375)]\n",
      "Analyzing 3 of 523: https://fampay.in/\n",
      "Page size: 32.552734375 KB\n",
      "Resource sizes: [('/assets/images/icons/common/partyCapIcon.svg', 0.130859375), ('/assets/images/icons/common/partyFaceIcon.svg', 0.130859375), ('/assets/images/icons/common/singleGreyArrowIcon.svg', 0.130859375), ('/assets/images/icons/common/headerWhiteLogoIcon.svg', 0.130859375), ('/assets/images/images/pages/index/FamXBanner.png', 0.130859375), ('/assets/images/images/pages/index/FamXBanner.png', 0.130859375), ('/assets/images/images/pages/index/userTrustImage.png', 0.130859375), ('/assets/images/images/pages/index/TrioLogo.png', 0.130859375), ('/assets/images/images/pages/index/VisaLogo.png', 0.130859375), ('/assets/images/images/pages/index/RupayLogo.png', 0.130859375), ('/assets/images/images/pages/index/UPILogo.png', 0.130859375), ('/assets/images/images/pages/index/userTrustImage.png', 0.130859375), ('/assets/images/images/pages/index/TrioLogo.png', 0.130859375), ('/assets/images/images/pages/index/VisaLogo.png', 0.130859375), ('/assets/images/images/pages/index/RupayLogo.png', 0.130859375), ('/assets/images/images/pages/index/UPILogo.png', 0.130859375), ('/assets/images/images/pages/index/SpendingAccountImage.jpg', 0.130859375), ('/assets/images/images/pages/index/FamXTeens.png', 0.130859375), ('/assets/images/images/pages/index/scanPayUpi.png', 0.130859375), ('/assets/images/images/pages/index/personalizedThemes.png', 0.130859375), ('/assets/images/images/pages/index/recharge.png', 0.130859375), ('/assets/images/images/pages/index/upiImage.png', 0.130859375), ('/assets/images/images/pages/index/rewardIcon.png', 0.130859375), ('/assets/images/images/pages/index/giveaway.png', 0.130859375), ('/assets/images/images/pages/index/challenges.png', 0.130859375), ('/assets/images/images/pages/index/burnFamcoinPhoneImage.png', 0.130859375), ('/assets/images/images/pages/index/famcoinRewards.png', 0.130859375), ('/assets/images/images/pages/index/rewardIcon.png', 0.130859375), ('/assets/images/images/pages/index/giveaway.png', 0.130859375), ('/assets/images/images/pages/index/challenges.png', 0.130859375), ('/assets/images/images/pages/index/burnFamcoinPhoneImage.png', 0.130859375), ('/assets/images/images/pages/index/FamXCard.png', 0.130859375), ('/assets/images/images/pages/index/FamXCardTitle.png', 0.130859375), ('/assets/images/images/pages/index/Classic.png', 0.130859375), ('/assets/images/images/pages/index/Plus.png', 0.130859375), ('/assets/images/images/pages/index/Ultra.png', 0.130859375), ('/assets/images/images/pages/index/supportChatGif.gif', 0.130859375), ('/assets/images/images/pages/index/elevationImage.png', 0.130859375), ('/assets/images/images/pages/index/sequoiaImage.png', 0.130859375), ('/assets/images/images/pages/index/vhImage.png', 0.130859375), ('/assets/images/images/pages/index/gcImage.png', 0.130859375), ('/assets/images/images/pages/index/ycImage.png', 0.130859375), ('/assets/images/images/pages/index/gfcImage.png', 0.130859375), ('/assets/images/images/pages/index/rocketshipImage.png', 0.130859375), ('/assets/images/images/pages/index/greenoaksImage.png', 0.130859375), ('/assets/images/images/pages/index/hiringImage.png', 0.130859375), ('/assets/images/images/pages/index/qrcode.png', 0.130859375), ('/assets/images/icons/common/headerWhiteLogoIcon.svg', 0.130859375), ('/assets/images/icons/common/facebookGreyIcon.svg', 0.130859375), ('/assets/images/icons/common/mediumGreyIcon.svg', 0.130859375), ('/assets/images/icons/common/instagramGreyIcon.svg', 0.130859375), ('/assets/images/icons/common/linkedinGreyIcon.svg', 0.130859375), ('/assets/images/icons/common/twitterGreyIcon.svg', 0.130859375), ('/assets/images/icons/common/discordGreyIcon.svg', 0.130859375), ('/assets/images/icons/common/snapchatGreyIcon.svg', 0.130859375), ('/assets/images/icons/common/youtubeGreyIcon.svg', 0.130859375), ('/_next/static/chunks/polyfills-5cd94c89d3acac5f.js', 0.130859375), ('/_next/static/chunks/webpack-e2315b53e504a6de.js', 0.130859375), ('/_next/static/chunks/framework-79bce4a3a540b080.js', 0.130859375), ('/_next/static/chunks/main-02d79fe8c2a509ed.js', 0.130859375), ('/_next/static/chunks/pages/_app-5aa48e6daaf3fe0d.js', 0.130859375), ('/_next/static/chunks/2905-8aaa955321746aca.js', 0.130859375), ('/_next/static/chunks/5518-21e58bc44adfaa2d.js', 0.130859375), ('/_next/static/chunks/7454-c90862ff3e03df1e.js', 0.130859375), ('/_next/static/chunks/4590-75312c952da4fb21.js', 0.130859375), ('/_next/static/chunks/pages/index-afcb2cf026d17c85.js', 0.130859375), ('/_next/static/OnBp0dXLpVOYqcPmAsImr/_buildManifest.js', 0.130859375), ('/_next/static/OnBp0dXLpVOYqcPmAsImr/_ssgManifest.js', 0.130859375), ('/_next/static/OnBp0dXLpVOYqcPmAsImr/_middlewareManifest.js', 0.130859375), ('/_next/static/css/6238d6cccf041c98.css', 0.130859375), ('/_next/static/css/a3ccf72303662f65.css', 0.130859375)]\n",
      "Analyzing 4 of 523: https://fampay.in/about\n",
      "Page size: 81.1337890625 KB\n",
      "Resource sizes: [('/assets/images/icons/common/partyCapIcon.svg', 0.130859375), ('/assets/images/icons/common/partyFaceIcon.svg', 0.130859375), ('/assets/images/icons/common/singleGreyArrowIcon.svg', 0.130859375), ('/assets/images/icons/common/headerWhiteLogoIcon.svg', 0.130859375), ('/assets/images/images/pages/about/missionImage.jpg', 0.130859375), ('/assets/images/images/pages/about/storyImage.jpg', 0.130859375), ('https://cdn.famapp.co.in/prod/website/famstars/kt.png', 42.6298828125), ('https://cdn.famapp.co.in/prod/website/famstars/sambhav.png', 74.1875), ('https://cdn.famapp.co.in/prod/website/famstars/harjot.png', 51.4326171875), ('https://cdn.famapp.co.in/prod/website/famstars/aayush.png', 45.95703125), ('https://cdn.famapp.co.in/prod/website/famstars/chirag.png', 52.166015625), ('https://cdn.famapp.co.in/prod/website/famstars/anchit.png', 54.0478515625), ('https://cdn.famapp.co.in/prod/website/famstars/prem.png', 83.2861328125), ('https://cdn.famapp.co.in/prod/website/famstars/saransh.png', 45.501953125), ('https://cdn.famapp.co.in/prod/website/famstars/Hrishi.png', 57.89453125), ('https://cdn.famapp.co.in/prod/website/famstars/pratikG.png', 69.029296875), ('https://cdn.famapp.co.in/prod/website/famstars/ritwick.png', 106.1552734375), ('https://cdn.famapp.co.in/prod/website/famstars/diya.png', 129.701171875), ('https://cdn.famapp.co.in/prod/website/famstars/chitra.png', 112.1630859375), ('https://cdn.famapp.co.in/prod/website/famstars/vishnu.png', 143.0869140625), ('https://cdn.famapp.co.in/prod/website/famstars/shifa.png', 493.1455078125), ('https://cdn.famapp.co.in/prod/website/famstars/tiara.png', 99.5986328125), ('https://cdn.famapp.co.in/prod/website/famstars/Charvi.png', 100.0693359375), ('https://cdn.famapp.co.in/prod/website/famstars/sajal.png', 45.025390625), ('https://cdn.famapp.co.in/prod/website/famstars/saurabhG.png', 22.1083984375), ('https://cdn.famapp.co.in/prod/website/famstars/janani.png', 136.478515625), ('https://cdn.famapp.co.in/prod/website/famstars/tanya.png', 123.55078125), ('https://cdn.famapp.co.in/prod/website/famstars/jitendra.png', 61.4140625), ('https://cdn.famapp.co.in/prod/website/famstars/abhay.png', 73.1044921875), ('https://cdn.famapp.co.in/prod/website/famstars/Aditya.png', 126.791015625), ('https://cdn.famapp.co.in/prod/website/famstars/Akhil.png', 71.1884765625), ('https://cdn.famapp.co.in/prod/website/famstars/Aapram.png', 76.271484375), ('https://cdn.famapp.co.in/prod/website/famstars/shagun.png', 63.2119140625), ('/assets/images/images/famstars/sid.png', 0.130859375), ('/assets/images/images/famstars/melron.png', 0.130859375), ('/assets/images/images/famstars/ananya.png', 0.130859375), ('/assets/images/images/famstars/anand.png', 0.130859375), ('/assets/images/images/famstars/vaibhavi.png', 0.130859375), ('/assets/images/images/famstars/sanjeet.png', 0.130859375), ('/assets/images/images/famstars/ridima.png', 0.130859375), ('/assets/images/images/famstars/garvita.png', 0.130859375), ('/assets/images/images/famstars/aishwarya.png', 0.130859375), ('/assets/images/images/famstars/vishalJain.png', 0.130859375), ('/assets/images/images/famstars/brijesh.png', 0.130859375), ('/assets/images/images/famstars/anshu.png', 0.130859375), ('/assets/images/images/famstars/yashJain.png', 0.130859375), ('/assets/images/images/famstars/gaurav.png', 0.130859375), ('/assets/images/images/famstars/komal.png', 0.130859375), ('/assets/images/images/famstars/mohit.png', 0.130859375), ('/assets/images/images/famstars/nimitt.png', 0.130859375), ('/assets/images/images/famstars/sameeran.png', 0.130859375), ('/assets/images/images/famstars/shikhar.png', 0.130859375), ('/assets/images/images/famstars/soumik.png', 0.130859375), ('/assets/images/images/famstars/sumit.png', 0.130859375), ('/assets/images/images/famstars/vishal.png', 0.130859375), ('/assets/images/images/famstars/priyanka.png', 0.130859375), ('/assets/images/images/famstars/arohi.png', 0.130859375), ('/assets/images/images/famstars/devarsh.png', 0.130859375), ('/assets/images/images/famstars/archit.png', 0.130859375), ('/assets/images/images/famstars/agniva.png', 0.130859375), ('/assets/images/images/famstars/moksha.png', 0.130859375), ('/assets/images/images/famstars/prasanjeet.png', 0.130859375), ('/assets/images/images/famstars/sakshi.png', 0.130859375), ('/assets/images/images/famstars/sabarish.png', 0.130859375), ('/assets/images/images/famstars/karan.png', 0.130859375), ('/assets/images/images/famstars/peeyush.png', 0.130859375), ('/assets/images/images/famstars/shobhit.png', 0.130859375), ('/assets/images/images/famstars/sanat.png', 0.130859375), ('/assets/images/icons/common/singleGreyArrowIcon.svg', 0.130859375), ('https://cdn.famapp.co.in/prod/website/famstars/kt.png', 42.6298828125), ('https://cdn.famapp.co.in/prod/website/famstars/sambhav.png', 74.1875), ('https://cdn.famapp.co.in/prod/website/famstars/harjot.png', 51.4326171875), ('https://cdn.famapp.co.in/prod/website/famstars/aayush.png', 45.95703125), ('https://cdn.famapp.co.in/prod/website/famstars/chirag.png', 52.166015625), ('https://cdn.famapp.co.in/prod/website/famstars/anchit.png', 54.0478515625), ('https://cdn.famapp.co.in/prod/website/famstars/prem.png', 83.2861328125), ('https://cdn.famapp.co.in/prod/website/famstars/saransh.png', 45.501953125), ('https://cdn.famapp.co.in/prod/website/famstars/Hrishi.png', 57.89453125), ('https://cdn.famapp.co.in/prod/website/famstars/pratikG.png', 69.029296875), ('https://cdn.famapp.co.in/prod/website/famstars/ritwick.png', 106.1552734375), ('https://cdn.famapp.co.in/prod/website/famstars/diya.png', 129.701171875), ('https://cdn.famapp.co.in/prod/website/famstars/chitra.png', 112.1630859375), ('https://cdn.famapp.co.in/prod/website/famstars/vishnu.png', 143.0869140625), ('https://cdn.famapp.co.in/prod/website/famstars/shifa.png', 493.1455078125), ('https://cdn.famapp.co.in/prod/website/famstars/tiara.png', 99.5986328125), ('https://cdn.famapp.co.in/prod/website/famstars/Charvi.png', 100.0693359375), ('https://cdn.famapp.co.in/prod/website/famstars/sajal.png', 45.025390625), ('https://cdn.famapp.co.in/prod/website/famstars/saurabhG.png', 22.1083984375), ('https://cdn.famapp.co.in/prod/website/famstars/janani.png', 136.478515625), ('https://cdn.famapp.co.in/prod/website/famstars/tanya.png', 123.55078125), ('https://cdn.famapp.co.in/prod/website/famstars/jitendra.png', 61.4140625), ('https://cdn.famapp.co.in/prod/website/famstars/abhay.png', 73.1044921875), ('https://cdn.famapp.co.in/prod/website/famstars/Aditya.png', 126.791015625), ('https://cdn.famapp.co.in/prod/website/famstars/Akhil.png', 71.1884765625), ('https://cdn.famapp.co.in/prod/website/famstars/Aapram.png', 76.271484375), ('https://cdn.famapp.co.in/prod/website/famstars/shagun.png', 63.2119140625), ('/assets/images/images/famstars/sid.png', 0.130859375), ('/assets/images/images/famstars/melron.png', 0.130859375), ('/assets/images/images/famstars/ananya.png', 0.130859375), ('/assets/images/images/famstars/anand.png', 0.130859375), ('/assets/images/images/famstars/vaibhavi.png', 0.130859375), ('/assets/images/images/famstars/sanjeet.png', 0.130859375), ('/assets/images/images/famstars/ridima.png', 0.130859375), ('/assets/images/images/famstars/garvita.png', 0.130859375), ('/assets/images/images/famstars/aishwarya.png', 0.130859375), ('/assets/images/images/famstars/vishalJain.png', 0.130859375), ('/assets/images/images/famstars/brijesh.png', 0.130859375), ('/assets/images/images/famstars/anshu.png', 0.130859375), ('/assets/images/images/famstars/yashJain.png', 0.130859375), ('/assets/images/images/famstars/gaurav.png', 0.130859375), ('/assets/images/images/famstars/komal.png', 0.130859375), ('/assets/images/images/famstars/mohit.png', 0.130859375), ('/assets/images/images/famstars/nimitt.png', 0.130859375), ('/assets/images/images/famstars/sameeran.png', 0.130859375), ('/assets/images/images/famstars/shikhar.png', 0.130859375), ('/assets/images/images/famstars/soumik.png', 0.130859375), ('/assets/images/images/famstars/sumit.png', 0.130859375), ('/assets/images/images/famstars/vishal.png', 0.130859375), ('/assets/images/images/famstars/priyanka.png', 0.130859375), ('/assets/images/images/famstars/arohi.png', 0.130859375), ('/assets/images/images/famstars/devarsh.png', 0.130859375), ('/assets/images/images/famstars/archit.png', 0.130859375), ('/assets/images/images/famstars/agniva.png', 0.130859375), ('/assets/images/images/famstars/moksha.png', 0.130859375), ('/assets/images/images/famstars/prasanjeet.png', 0.130859375), ('/assets/images/images/famstars/sakshi.png', 0.130859375), ('/assets/images/images/famstars/sabarish.png', 0.130859375), ('/assets/images/images/famstars/karan.png', 0.130859375), ('/assets/images/images/famstars/peeyush.png', 0.130859375), ('/assets/images/images/famstars/shobhit.png', 0.130859375), ('/assets/images/images/famstars/sanat.png', 0.130859375), ('/assets/images/icons/common/singleGreyArrowIcon.svg', 0.130859375), ('/assets/images/icons/common/headerGreyLogoIcon.svg', 0.130859375), ('/assets/images/icons/common/facebookGreyIcon.svg', 0.130859375), ('/assets/images/icons/common/mediumGreyIcon.svg', 0.130859375), ('/assets/images/icons/common/instagramGreyIcon.svg', 0.130859375), ('/assets/images/icons/common/linkedinGreyIcon.svg', 0.130859375), ('/assets/images/icons/common/twitterGreyIcon.svg', 0.130859375), ('/assets/images/icons/common/discordGreyIcon.svg', 0.130859375), ('/assets/images/icons/common/snapchatGreyIcon.svg', 0.130859375), ('/assets/images/icons/common/youtubeGreyIcon.svg', 0.130859375), ('/_next/static/chunks/polyfills-5cd94c89d3acac5f.js', 0.130859375), ('/_next/static/chunks/webpack-e2315b53e504a6de.js', 0.130859375), ('/_next/static/chunks/framework-79bce4a3a540b080.js', 0.130859375), ('/_next/static/chunks/main-02d79fe8c2a509ed.js', 0.130859375), ('/_next/static/chunks/pages/_app-5aa48e6daaf3fe0d.js', 0.130859375), ('/_next/static/chunks/2905-8aaa955321746aca.js', 0.130859375), ('/_next/static/chunks/1472-e24409dd291e3c18.js', 0.130859375), ('/_next/static/chunks/7454-c90862ff3e03df1e.js', 0.130859375), ('/_next/static/chunks/4590-75312c952da4fb21.js', 0.130859375), ('/_next/static/chunks/pages/about-b955a1c3293f2ffc.js', 0.130859375), ('/_next/static/OnBp0dXLpVOYqcPmAsImr/_buildManifest.js', 0.130859375), ('/_next/static/OnBp0dXLpVOYqcPmAsImr/_ssgManifest.js', 0.130859375), ('/_next/static/OnBp0dXLpVOYqcPmAsImr/_middlewareManifest.js', 0.130859375), ('/_next/static/css/6238d6cccf041c98.css', 0.130859375), ('/_next/static/css/483015020b48b4d6.css', 0.130859375)]\n",
      "Analyzing 5 of 523: https://fampay.in/blog\n",
      "Page size: 36.6396484375 KB\n",
      "Resource sizes: [('https://fampay.in/blog/content/images/2020/11/logofilewhite-11-2.png', 0.130859375), ('https://fampay.in/blog/content/images/2020/11/logofilewhite-11-2.png', 0.130859375), ('https://cdn.jsdelivr.net/ghost/portal@~2.30/umd/portal.min.js', 170.8154296875), ('https://cdn.jsdelivr.net/ghost/sodo-search@~1.1/umd/sodo-search.min.js', 95.5751953125), ('/blog/public/cards.min.js?v=22080dfa02', 0.130859375), ('/blog/public/member-attribution.min.js?v=22080dfa02', 0.130859375), ('https://www.googletagmanager.com/gtag/js?id=UA-147725948-3', 0.0), ('https://polyfill.io/v3/polyfill.min.js?features=IntersectionObserver%2CPromise%2CArray.prototype.includes%2CString.prototype.endsWith%2CString.prototype.startsWith%2CObject.assign%2CNodeList.prototype.forEach', 14.1123046875), ('/blog/assets/js/vendor/content-api.min.js?v=22080dfa02', 0.130859375), ('/blog/assets/js/manifest.js?v=22080dfa02', 0.130859375), ('/blog/assets/js/vendor.js?v=22080dfa02', 0.130859375), ('/blog/assets/js/app.js?v=22080dfa02', 0.130859375), ('/blog/assets/js/home.js?v=22080dfa02', 0.130859375), ('/blog/assets/css/app.css?v=22080dfa02', 0.130859375), ('/blog/public/cards.min.css?v=22080dfa02', 0.130859375)]\n",
      "Analyzing 6 of 523: https://fampay.in/blog/tag/teens/\n",
      "Page size: 37.0634765625 KB\n",
      "Resource sizes: [('https://fampay.in/blog/content/images/2020/11/logofilewhite-11-2.png', 0.130859375), ('https://fampay.in/blog/content/images/2020/11/logofilewhite-11-2.png', 0.130859375), ('https://cdn.jsdelivr.net/ghost/portal@~2.30/umd/portal.min.js', 170.8154296875), ('https://cdn.jsdelivr.net/ghost/sodo-search@~1.1/umd/sodo-search.min.js', 95.5751953125), ('/blog/public/cards.min.js?v=22080dfa02', 0.130859375), ('/blog/public/member-attribution.min.js?v=22080dfa02', 0.130859375), ('https://www.googletagmanager.com/gtag/js?id=UA-147725948-3', 0.0), ('https://polyfill.io/v3/polyfill.min.js?features=IntersectionObserver%2CPromise%2CArray.prototype.includes%2CString.prototype.endsWith%2CString.prototype.startsWith%2CObject.assign%2CNodeList.prototype.forEach', 14.1123046875), ('/blog/assets/js/vendor/content-api.min.js?v=22080dfa02', 0.130859375), ('/blog/assets/js/manifest.js?v=22080dfa02', 0.130859375), ('/blog/assets/js/vendor.js?v=22080dfa02', 0.130859375), ('/blog/assets/js/app.js?v=22080dfa02', 0.130859375), ('/blog/assets/css/app.css?v=22080dfa02', 0.130859375), ('/blog/public/cards.min.css?v=22080dfa02', 0.130859375)]\n",
      "Analyzing 7 of 523: https://fampay.in/blog/decor-ideas-that-would-transform-your-room-at-home-or-hostel/\n",
      "Page size: 40.7919921875 KB\n",
      "Resource sizes: [('https://fampay.in/blog/content/images/2020/11/logofilewhite-11-2.png', 0.130859375), ('https://fampay.in/blog/content/images/2020/11/logofilewhite-11-2.png', 0.130859375), ('https://fampay.in/blog/content/images/2021/09/image-20.png', 0.130859375), ('https://fampay.in/blog/content/images/2021/09/image-21.png', 0.130859375), ('https://fampay.in/blog/content/images/2021/09/image-22.png', 0.130859375), ('https://fampay.in/blog/content/images/2021/09/image-23.png', 0.130859375), ('/blog/assets/images/success.png?v=22080dfa02', 0.130859375), ('https://cdn.jsdelivr.net/ghost/portal@~2.30/umd/portal.min.js', 170.8154296875), ('https://cdn.jsdelivr.net/ghost/sodo-search@~1.1/umd/sodo-search.min.js', 95.5751953125), ('/blog/public/cards.min.js?v=22080dfa02', 0.130859375), ('/blog/public/member-attribution.min.js?v=22080dfa02', 0.130859375), ('https://www.googletagmanager.com/gtag/js?id=UA-147725948-3', 0.0), ('https://polyfill.io/v3/polyfill.min.js?features=IntersectionObserver%2CPromise%2CArray.prototype.includes%2CString.prototype.endsWith%2CString.prototype.startsWith%2CObject.assign%2CNodeList.prototype.forEach', 14.1123046875), ('/blog/assets/js/vendor/content-api.min.js?v=22080dfa02', 0.130859375), ('/blog/assets/js/manifest.js?v=22080dfa02', 0.130859375), ('/blog/assets/js/vendor.js?v=22080dfa02', 0.130859375), ('/blog/assets/js/app.js?v=22080dfa02', 0.130859375), ('/blog/assets/js/post.js?v=22080dfa02', 0.130859375), ('/blog/assets/css/app.css?v=22080dfa02', 0.130859375), ('/blog/public/cards.min.css?v=22080dfa02', 0.130859375)]\n",
      "Analyzing 8 of 523: https://fampay.in/blog/social-commerce-making-money-just-through-social-media/\n",
      "Page size: 41.623046875 KB\n",
      "Resource sizes: [('https://fampay.in/blog/content/images/2020/11/logofilewhite-11-2.png', 0.130859375), ('https://fampay.in/blog/content/images/2020/11/logofilewhite-11-2.png', 0.130859375), ('https://fampay.in/blog/content/images/2021/09/image-7.png', 0.130859375), ('https://lh3.googleusercontent.com/1196RxHQNgdU9nnillmAdjGwxAbD0ICRGwPTYuhCbUkuQw6VTmB-biOmhGle3QiMQ441_Ate8WTrdszbc6aFEAx-3QSU0BGZkZBq2abQopPAhY53v-T35SZOt19od_Y0m8joIjI6=s0', 459.0654296875), ('https://fampay.in/blog/content/images/2021/09/image-1.png', 0.130859375), ('https://fampay.in/blog/content/images/2021/09/Frame-3.png', 0.130859375), ('/blog/assets/images/success.png?v=22080dfa02', 0.130859375), ('https://cdn.jsdelivr.net/ghost/portal@~2.30/umd/portal.min.js', 170.8154296875), ('https://cdn.jsdelivr.net/ghost/sodo-search@~1.1/umd/sodo-search.min.js', 95.5751953125), ('/blog/public/cards.min.js?v=22080dfa02', 0.130859375), ('/blog/public/member-attribution.min.js?v=22080dfa02', 0.130859375), ('https://www.googletagmanager.com/gtag/js?id=UA-147725948-3', 0.0), ('https://polyfill.io/v3/polyfill.min.js?features=IntersectionObserver%2CPromise%2CArray.prototype.includes%2CString.prototype.endsWith%2CString.prototype.startsWith%2CObject.assign%2CNodeList.prototype.forEach', 14.1123046875), ('/blog/assets/js/vendor/content-api.min.js?v=22080dfa02', 0.130859375), ('/blog/assets/js/manifest.js?v=22080dfa02', 0.130859375), ('/blog/assets/js/vendor.js?v=22080dfa02', 0.130859375), ('/blog/assets/js/app.js?v=22080dfa02', 0.130859375), ('/blog/assets/js/post.js?v=22080dfa02', 0.130859375), ('/blog/assets/css/app.css?v=22080dfa02', 0.130859375), ('/blog/public/cards.min.css?v=22080dfa02', 0.130859375)]\n",
      "Analyzing 9 of 523: https://fampay.in/blog/perks-of-using-the-famcard-me/\n",
      "Page size: 39.755859375 KB\n",
      "Resource sizes: [('https://fampay.in/blog/content/images/2020/11/logofilewhite-11-2.png', 0.130859375), ('https://fampay.in/blog/content/images/2020/11/logofilewhite-11-2.png', 0.130859375), ('https://fampay.in/blog/content/images/2021/08/9334CB1C-358A-4563-84ED-11A11466F3B6.jpeg', 0.130859375), ('https://fampay.in/blog/content/images/2021/08/AA9F33FC-1ACB-49EB-A087-2269C23D7EFB.jpeg', 0.130859375), ('https://fampay.in/blog/content/images/2021/08/4970929F-5733-4C95-A5DB-1DB85970C901.jpeg', 0.130859375), ('https://fampay.in/blog/content/images/2021/08/C1F98D9F-C1ED-4916-93B0-DF9782589FD1.jpeg', 0.130859375), ('/blog/assets/images/success.png?v=22080dfa02', 0.130859375), ('https://cdn.jsdelivr.net/ghost/portal@~2.30/umd/portal.min.js', 170.8154296875), ('https://cdn.jsdelivr.net/ghost/sodo-search@~1.1/umd/sodo-search.min.js', 95.5751953125), ('/blog/public/cards.min.js?v=22080dfa02', 0.130859375), ('/blog/public/member-attribution.min.js?v=22080dfa02', 0.130859375), ('https://www.googletagmanager.com/gtag/js?id=UA-147725948-3', 0.0), ('https://polyfill.io/v3/polyfill.min.js?features=IntersectionObserver%2CPromise%2CArray.prototype.includes%2CString.prototype.endsWith%2CString.prototype.startsWith%2CObject.assign%2CNodeList.prototype.forEach', 14.1123046875), ('/blog/assets/js/vendor/content-api.min.js?v=22080dfa02', 0.130859375), ('/blog/assets/js/manifest.js?v=22080dfa02', 0.130859375), ('/blog/assets/js/vendor.js?v=22080dfa02', 0.130859375), ('/blog/assets/js/app.js?v=22080dfa02', 0.130859375), ('/blog/assets/js/post.js?v=22080dfa02', 0.130859375), ('/blog/assets/css/app.css?v=22080dfa02', 0.130859375), ('/blog/public/cards.min.css?v=22080dfa02', 0.130859375)]\n",
      "Analyzing 10 of 523: https://fampay.in/blog/13-boredom-busters-for-teens/\n",
      "Page size: 43.65234375 KB\n",
      "Resource sizes: [('https://fampay.in/blog/content/images/2020/11/logofilewhite-11-2.png', 0.130859375), ('https://fampay.in/blog/content/images/2020/11/logofilewhite-11-2.png', 0.130859375), ('https://fampay.in/blog/content/images/2021/08/image-3.png', 0.130859375), ('https://fampay.in/blog/content/images/2021/08/image-1.png', 0.130859375), ('https://fampay.in/blog/content/images/2021/08/image-6.png', 0.130859375), ('https://fampay.in/blog/content/images/2021/08/image-4.png', 0.130859375), ('/blog/assets/images/success.png?v=22080dfa02', 0.130859375), ('https://cdn.jsdelivr.net/ghost/portal@~2.30/umd/portal.min.js', 170.8154296875), ('https://cdn.jsdelivr.net/ghost/sodo-search@~1.1/umd/sodo-search.min.js', 95.5751953125), ('/blog/public/cards.min.js?v=22080dfa02', 0.130859375), ('/blog/public/member-attribution.min.js?v=22080dfa02', 0.130859375), ('https://www.googletagmanager.com/gtag/js?id=UA-147725948-3', 0.0), ('https://polyfill.io/v3/polyfill.min.js?features=IntersectionObserver%2CPromise%2CArray.prototype.includes%2CString.prototype.endsWith%2CString.prototype.startsWith%2CObject.assign%2CNodeList.prototype.forEach', 14.1123046875), ('/blog/assets/js/vendor/content-api.min.js?v=22080dfa02', 0.130859375), ('/blog/assets/js/manifest.js?v=22080dfa02', 0.130859375), ('/blog/assets/js/vendor.js?v=22080dfa02', 0.130859375), ('/blog/assets/js/app.js?v=22080dfa02', 0.130859375), ('/blog/assets/js/post.js?v=22080dfa02', 0.130859375), ('/blog/assets/css/app.css?v=22080dfa02', 0.130859375), ('/blog/public/cards.min.css?v=22080dfa02', 0.130859375)]\n",
      "Analyzing 11 of 523: https://fampay.in/blog/how-can-teens-open-shops-on-instagram/\n",
      "Page size: 44.4677734375 KB\n",
      "Resource sizes: [('https://fampay.in/blog/content/images/2020/11/logofilewhite-11-2.png', 0.130859375), ('https://fampay.in/blog/content/images/2020/11/logofilewhite-11-2.png', 0.130859375), ('/blog/assets/images/success.png?v=22080dfa02', 0.130859375), ('https://cdn.jsdelivr.net/ghost/portal@~2.30/umd/portal.min.js', 170.8154296875), ('https://cdn.jsdelivr.net/ghost/sodo-search@~1.1/umd/sodo-search.min.js', 95.5751953125), ('/blog/public/cards.min.js?v=22080dfa02', 0.130859375), ('/blog/public/member-attribution.min.js?v=22080dfa02', 0.130859375), ('https://www.googletagmanager.com/gtag/js?id=UA-147725948-3', 0.0), ('https://polyfill.io/v3/polyfill.min.js?features=IntersectionObserver%2CPromise%2CArray.prototype.includes%2CString.prototype.endsWith%2CString.prototype.startsWith%2CObject.assign%2CNodeList.prototype.forEach', 14.1123046875), ('/blog/assets/js/vendor/content-api.min.js?v=22080dfa02', 0.130859375), ('/blog/assets/js/manifest.js?v=22080dfa02', 0.130859375), ('/blog/assets/js/vendor.js?v=22080dfa02', 0.130859375), ('/blog/assets/js/app.js?v=22080dfa02', 0.130859375), ('/blog/assets/js/post.js?v=22080dfa02', 0.130859375), ('/blog/assets/css/app.css?v=22080dfa02', 0.130859375), ('/blog/public/cards.min.css?v=22080dfa02', 0.130859375)]\n",
      "Analyzing 12 of 523: https://fampay.in/blog/author/arohi/\n",
      "Page size: 23.5244140625 KB\n",
      "Resource sizes: [('https://fampay.in/blog/content/images/2020/11/logofilewhite-11-2.png', 0.130859375), ('https://fampay.in/blog/content/images/2020/11/logofilewhite-11-2.png', 0.130859375), ('https://cdn.jsdelivr.net/ghost/portal@~2.30/umd/portal.min.js', 170.8154296875), ('https://cdn.jsdelivr.net/ghost/sodo-search@~1.1/umd/sodo-search.min.js', 95.5751953125), ('/blog/public/cards.min.js?v=22080dfa02', 0.130859375), ('/blog/public/member-attribution.min.js?v=22080dfa02', 0.130859375), ('https://www.googletagmanager.com/gtag/js?id=UA-147725948-3', 0.0), ('https://polyfill.io/v3/polyfill.min.js?features=IntersectionObserver%2CPromise%2CArray.prototype.includes%2CString.prototype.endsWith%2CString.prototype.startsWith%2CObject.assign%2CNodeList.prototype.forEach', 14.1123046875), ('/blog/assets/js/vendor/content-api.min.js?v=22080dfa02', 0.130859375), ('/blog/assets/js/manifest.js?v=22080dfa02', 0.130859375), ('/blog/assets/js/vendor.js?v=22080dfa02', 0.130859375), ('/blog/assets/js/app.js?v=22080dfa02', 0.130859375), ('/blog/assets/css/app.css?v=22080dfa02', 0.130859375), ('/blog/public/cards.min.css?v=22080dfa02', 0.130859375)]\n",
      "Analyzing 13 of 523: https://fampay.in/blog/tag/teens/page/2/\n",
      "Page size: 34.7841796875 KB\n",
      "Resource sizes: [('https://fampay.in/blog/content/images/2020/11/logofilewhite-11-2.png', 0.130859375), ('https://fampay.in/blog/content/images/2020/11/logofilewhite-11-2.png', 0.130859375), ('https://cdn.jsdelivr.net/ghost/portal@~2.30/umd/portal.min.js', 170.8154296875), ('https://cdn.jsdelivr.net/ghost/sodo-search@~1.1/umd/sodo-search.min.js', 95.5751953125), ('/blog/public/cards.min.js?v=22080dfa02', 0.130859375), ('/blog/public/member-attribution.min.js?v=22080dfa02', 0.130859375), ('https://www.googletagmanager.com/gtag/js?id=UA-147725948-3', 0.0), ('https://polyfill.io/v3/polyfill.min.js?features=IntersectionObserver%2CPromise%2CArray.prototype.includes%2CString.prototype.endsWith%2CString.prototype.startsWith%2CObject.assign%2CNodeList.prototype.forEach', 14.1123046875), ('/blog/assets/js/vendor/content-api.min.js?v=22080dfa02', 0.130859375), ('/blog/assets/js/manifest.js?v=22080dfa02', 0.130859375), ('/blog/assets/js/vendor.js?v=22080dfa02', 0.130859375), ('/blog/assets/js/app.js?v=22080dfa02', 0.130859375), ('/blog/assets/css/app.css?v=22080dfa02', 0.130859375), ('/blog/public/cards.min.css?v=22080dfa02', 0.130859375)]\n",
      "Analyzing 14 of 523: https://fampay.in/blog/tag/parents/\n",
      "Page size: 36.8388671875 KB\n",
      "Resource sizes: [('https://fampay.in/blog/content/images/2020/11/logofilewhite-11-2.png', 0.130859375), ('https://fampay.in/blog/content/images/2020/11/logofilewhite-11-2.png', 0.130859375), ('https://cdn.jsdelivr.net/ghost/portal@~2.30/umd/portal.min.js', 170.8154296875), ('https://cdn.jsdelivr.net/ghost/sodo-search@~1.1/umd/sodo-search.min.js', 95.5751953125), ('/blog/public/cards.min.js?v=22080dfa02', 0.130859375), ('/blog/public/member-attribution.min.js?v=22080dfa02', 0.130859375), ('https://www.googletagmanager.com/gtag/js?id=UA-147725948-3', 0.0), ('https://polyfill.io/v3/polyfill.min.js?features=IntersectionObserver%2CPromise%2CArray.prototype.includes%2CString.prototype.endsWith%2CString.prototype.startsWith%2CObject.assign%2CNodeList.prototype.forEach', 14.1123046875), ('/blog/assets/js/vendor/content-api.min.js?v=22080dfa02', 0.130859375), ('/blog/assets/js/manifest.js?v=22080dfa02', 0.130859375), ('/blog/assets/js/vendor.js?v=22080dfa02', 0.130859375), ('/blog/assets/js/app.js?v=22080dfa02', 0.130859375), ('/blog/assets/css/app.css?v=22080dfa02', 0.130859375), ('/blog/public/cards.min.css?v=22080dfa02', 0.130859375)]\n",
      "Analyzing 15 of 523: https://fampay.in/blog/healthy-wealth-how-can-parents-have-a-healthy-discussion-about-money-with-their-children/\n",
      "Page size: 43.2724609375 KB\n",
      "Resource sizes: [('https://fampay.in/blog/content/images/2020/11/logofilewhite-11-2.png', 0.130859375), ('https://fampay.in/blog/content/images/2020/11/logofilewhite-11-2.png', 0.130859375), ('https://fampay.in/blog/content/images/2020/09/kelly-sikkema-xoU52jUVUXA-unsplash.jpg', 0.130859375), ('https://fampay.in/blog/content/images/2020/09/northfolk-Ok76F6yW2iA-unsplash.jpg', 0.130859375), ('https://fampay.in/blog/content/images/2020/09/DSC01983-2.JPG', 0.130859375), ('https://fampay.in/blog/content/images/2020/09/sharon-mccutcheon--8a5eJ1-mmQ-unsplash.jpg', 0.130859375), ('https://fampay.in/blog/content/images/2020/09/lina-trochez-ktPKyUs3Qjs-unsplash.jpg', 0.130859375), ('/blog/assets/images/success.png?v=22080dfa02', 0.130859375), ('https://cdn.jsdelivr.net/ghost/portal@~2.30/umd/portal.min.js', 170.8154296875), ('https://cdn.jsdelivr.net/ghost/sodo-search@~1.1/umd/sodo-search.min.js', 95.5751953125), ('/blog/public/cards.min.js?v=22080dfa02', 0.130859375), ('/blog/public/member-attribution.min.js?v=22080dfa02', 0.130859375), ('https://www.googletagmanager.com/gtag/js?id=UA-147725948-3', 0.0), ('https://polyfill.io/v3/polyfill.min.js?features=IntersectionObserver%2CPromise%2CArray.prototype.includes%2CString.prototype.endsWith%2CString.prototype.startsWith%2CObject.assign%2CNodeList.prototype.forEach', 14.1123046875), ('/blog/assets/js/vendor/content-api.min.js?v=22080dfa02', 0.130859375), ('/blog/assets/js/manifest.js?v=22080dfa02', 0.130859375), ('/blog/assets/js/vendor.js?v=22080dfa02', 0.130859375), ('/blog/assets/js/app.js?v=22080dfa02', 0.130859375), ('/blog/assets/js/post.js?v=22080dfa02', 0.130859375), ('/blog/assets/css/app.css?v=22080dfa02', 0.130859375), ('/blog/public/cards.min.css?v=22080dfa02', 0.130859375)]\n",
      "Analyzing 16 of 523: https://fampay.in/blog/being-a-digital-parent-tips-to-mentor-everything-digital-that-your-teen-uses/\n",
      "Page size: 42.822265625 KB\n",
      "Resource sizes: [('https://fampay.in/blog/content/images/2020/11/logofilewhite-11-2.png', 0.130859375), ('https://fampay.in/blog/content/images/2020/11/logofilewhite-11-2.png', 0.130859375), ('https://lh6.googleusercontent.com/aefP4uKObTmnattGuvbLBIr4JRFdmD_zOfOnXVnELAwIn6imHx31_S4Yvsx8n8q5hOK7jWPV2ninhObYVL2DXc82VZ-ZV5FCZa0d4JH8CO75qu5wQTqHwoYzFioXEA', 0.0), ('https://fampay.in/blog/content/images/2020/09/annie-spratt-xKJUnFwfz3s-unsplash.jpg', 0.130859375), ('https://fampay.in/blog/content/images/2020/09/benjamin-manley-QkflfhJn1KA-unsplash-1.jpg', 0.130859375), ('/blog/assets/images/success.png?v=22080dfa02', 0.130859375), ('https://cdn.jsdelivr.net/ghost/portal@~2.30/umd/portal.min.js', 170.8154296875), ('https://cdn.jsdelivr.net/ghost/sodo-search@~1.1/umd/sodo-search.min.js', 95.5751953125), ('/blog/public/cards.min.js?v=22080dfa02', 0.130859375), ('/blog/public/member-attribution.min.js?v=22080dfa02', 0.130859375), ('https://www.googletagmanager.com/gtag/js?id=UA-147725948-3', 0.0), ('https://polyfill.io/v3/polyfill.min.js?features=IntersectionObserver%2CPromise%2CArray.prototype.includes%2CString.prototype.endsWith%2CString.prototype.startsWith%2CObject.assign%2CNodeList.prototype.forEach', 14.1123046875), ('/blog/assets/js/vendor/content-api.min.js?v=22080dfa02', 0.130859375), ('/blog/assets/js/manifest.js?v=22080dfa02', 0.130859375), ('/blog/assets/js/vendor.js?v=22080dfa02', 0.130859375), ('/blog/assets/js/app.js?v=22080dfa02', 0.130859375), ('/blog/assets/js/post.js?v=22080dfa02', 0.130859375), ('/blog/assets/css/app.css?v=22080dfa02', 0.130859375), ('/blog/public/cards.min.css?v=22080dfa02', 0.130859375)]\n",
      "Analyzing 17 of 523: https://fampay.in/blog/top-5-tips-to-communicate-better-with-your-teenager/\n",
      "Page size: 43.705078125 KB\n",
      "Resource sizes: [('https://fampay.in/blog/content/images/2020/11/logofilewhite-11-2.png', 0.130859375), ('https://fampay.in/blog/content/images/2020/11/logofilewhite-11-2.png', 0.130859375), ('https://lh3.googleusercontent.com/lKi3uSU743qARVTgvDYdW6uVtG3HxjzyFzB-fA_NmrKAJDrAqJp0B072jtjvrZdXiSngpIois-0osZhPk4Ri-UyrT0qT19v28ho2U886C9sNJvFfmSWvI8CqXrjQIA', 0.0), ('https://lh3.googleusercontent.com/MtdEqJzfC2yWX7Rd4Fw8VPOEN6r4IhsxS6m6W8dxG8oajybcoDj5VV0TakznWoU6XVlwxfj2_kwMr0XQSuIhAHKk5hb6JFLBDG3ztDbMWeFnqBu1VXuCK0wKukCUjg', 0.0), ('https://lh6.googleusercontent.com/lYjMtly_U6ZrKaLEyyQCLpUBBegnf6603IDspzHrwVgAqjXX3DCJkm0pEOHo1pk_WgdbLvuhVj-wxHk0LLpYYxqOmPnvZH4DMsx2Rw1hlCrxJFr9vfMHcno2WcCI5g', 0.0), ('https://lh4.googleusercontent.com/c2Jjnq1rYf_Ef_Uar9HgThCtAacbm-WmaJleSNTCTJY-tgXffGnOcKJlhD--9ssHZAfQeDUlQZzPFpe3JGaCAmr2o2s13Hi0uy6heK4CHpkWpnvBehuVTgHMbZPwQmVtJ6s3Qa8', 0.0), ('/blog/assets/images/success.png?v=22080dfa02', 0.130859375), ('https://cdn.jsdelivr.net/ghost/portal@~2.30/umd/portal.min.js', 170.8154296875), ('https://cdn.jsdelivr.net/ghost/sodo-search@~1.1/umd/sodo-search.min.js', 95.5751953125), ('/blog/public/cards.min.js?v=22080dfa02', 0.130859375), ('/blog/public/member-attribution.min.js?v=22080dfa02', 0.130859375), ('https://www.googletagmanager.com/gtag/js?id=UA-147725948-3', 0.0), ('https://polyfill.io/v3/polyfill.min.js?features=IntersectionObserver%2CPromise%2CArray.prototype.includes%2CString.prototype.endsWith%2CString.prototype.startsWith%2CObject.assign%2CNodeList.prototype.forEach', 14.1123046875), ('/blog/assets/js/vendor/content-api.min.js?v=22080dfa02', 0.130859375), ('/blog/assets/js/manifest.js?v=22080dfa02', 0.130859375), ('/blog/assets/js/vendor.js?v=22080dfa02', 0.130859375), ('/blog/assets/js/app.js?v=22080dfa02', 0.130859375), ('/blog/assets/js/post.js?v=22080dfa02', 0.130859375), ('/blog/assets/css/app.css?v=22080dfa02', 0.130859375), ('/blog/public/cards.min.css?v=22080dfa02', 0.130859375)]\n",
      "Analyzing 18 of 523: https://fampay.in/blog/a-to-z-of-teenage-finance-financial-terms-every-parent-should-teach-their-teens/\n",
      "Page size: 41.19921875 KB\n",
      "Resource sizes: [('https://fampay.in/blog/content/images/2020/11/logofilewhite-11-2.png', 0.130859375), ('https://fampay.in/blog/content/images/2020/11/logofilewhite-11-2.png', 0.130859375), ('/blog/assets/images/success.png?v=22080dfa02', 0.130859375), ('https://cdn.jsdelivr.net/ghost/portal@~2.30/umd/portal.min.js', 170.8154296875), ('https://cdn.jsdelivr.net/ghost/sodo-search@~1.1/umd/sodo-search.min.js', 95.5751953125), ('/blog/public/cards.min.js?v=22080dfa02', 0.130859375), ('/blog/public/member-attribution.min.js?v=22080dfa02', 0.130859375), ('https://www.googletagmanager.com/gtag/js?id=UA-147725948-3', 0.0), ('https://polyfill.io/v3/polyfill.min.js?features=IntersectionObserver%2CPromise%2CArray.prototype.includes%2CString.prototype.endsWith%2CString.prototype.startsWith%2CObject.assign%2CNodeList.prototype.forEach', 14.1123046875), ('/blog/assets/js/vendor/content-api.min.js?v=22080dfa02', 0.130859375), ('/blog/assets/js/manifest.js?v=22080dfa02', 0.130859375), ('/blog/assets/js/vendor.js?v=22080dfa02', 0.130859375), ('/blog/assets/js/app.js?v=22080dfa02', 0.130859375), ('/blog/assets/js/post.js?v=22080dfa02', 0.130859375), ('/blog/assets/css/app.css?v=22080dfa02', 0.130859375), ('/blog/public/cards.min.css?v=22080dfa02', 0.130859375)]\n",
      "Analyzing 19 of 523: https://fampay.in/blog/cyber-bullying-what-can-you-do-as-a-parent/\n",
      "Page size: 45.087890625 KB\n",
      "Resource sizes: [('https://fampay.in/blog/content/images/2020/11/logofilewhite-11-2.png', 0.130859375), ('https://fampay.in/blog/content/images/2020/11/logofilewhite-11-2.png', 0.130859375), ('/blog/assets/images/success.png?v=22080dfa02', 0.130859375), ('https://cdn.jsdelivr.net/ghost/portal@~2.30/umd/portal.min.js', 170.8154296875), ('https://cdn.jsdelivr.net/ghost/sodo-search@~1.1/umd/sodo-search.min.js', 95.5751953125), ('/blog/public/cards.min.js?v=22080dfa02', 0.130859375), ('/blog/public/member-attribution.min.js?v=22080dfa02', 0.130859375), ('https://www.googletagmanager.com/gtag/js?id=UA-147725948-3', 0.0), ('https://polyfill.io/v3/polyfill.min.js?features=IntersectionObserver%2CPromise%2CArray.prototype.includes%2CString.prototype.endsWith%2CString.prototype.startsWith%2CObject.assign%2CNodeList.prototype.forEach', 14.1123046875), ('/blog/assets/js/vendor/content-api.min.js?v=22080dfa02', 0.130859375), ('/blog/assets/js/manifest.js?v=22080dfa02', 0.130859375), ('/blog/assets/js/vendor.js?v=22080dfa02', 0.130859375), ('/blog/assets/js/app.js?v=22080dfa02', 0.130859375), ('/blog/assets/js/post.js?v=22080dfa02', 0.130859375), ('/blog/assets/css/app.css?v=22080dfa02', 0.130859375), ('/blog/public/cards.min.css?v=22080dfa02', 0.130859375)]\n",
      "Analyzing 20 of 523: https://fampay.in/blog/4-ways-to-help-your-teen-learn-to-become-financially-responsible/\n",
      "Page size: 42.861328125 KB\n",
      "Resource sizes: [('https://fampay.in/blog/content/images/2020/11/logofilewhite-11-2.png', 0.130859375), ('https://fampay.in/blog/content/images/2020/11/logofilewhite-11-2.png', 0.130859375), ('https://fampay.in/blog/content/images/2020/07/responsible-teens.jpg', 0.130859375), ('/blog/assets/images/success.png?v=22080dfa02', 0.130859375), ('https://cdn.jsdelivr.net/ghost/portal@~2.30/umd/portal.min.js', 170.8154296875), ('https://cdn.jsdelivr.net/ghost/sodo-search@~1.1/umd/sodo-search.min.js', 95.5751953125), ('/blog/public/cards.min.js?v=22080dfa02', 0.130859375), ('/blog/public/member-attribution.min.js?v=22080dfa02', 0.130859375), ('https://www.googletagmanager.com/gtag/js?id=UA-147725948-3', 0.0), ('https://polyfill.io/v3/polyfill.min.js?features=IntersectionObserver%2CPromise%2CArray.prototype.includes%2CString.prototype.endsWith%2CString.prototype.startsWith%2CObject.assign%2CNodeList.prototype.forEach', 14.1123046875), ('/blog/assets/js/vendor/content-api.min.js?v=22080dfa02', 0.130859375), ('/blog/assets/js/manifest.js?v=22080dfa02', 0.130859375), ('/blog/assets/js/vendor.js?v=22080dfa02', 0.130859375), ('/blog/assets/js/app.js?v=22080dfa02', 0.130859375), ('/blog/assets/js/post.js?v=22080dfa02', 0.130859375), ('/blog/assets/css/app.css?v=22080dfa02', 0.130859375), ('/blog/public/cards.min.css?v=22080dfa02', 0.130859375)]\n",
      "Analyzing 21 of 523: https://fampay.in/blog/evolution-of-parenting-parent-of-a-millennial-vs-parent-of-a-genz-kid/\n",
      "Page size: 43.8046875 KB\n",
      "Resource sizes: [('https://fampay.in/blog/content/images/2020/11/logofilewhite-11-2.png', 0.130859375), ('https://fampay.in/blog/content/images/2020/11/logofilewhite-11-2.png', 0.130859375), ('/blog/assets/images/success.png?v=22080dfa02', 0.130859375), ('https://cdn.jsdelivr.net/ghost/portal@~2.30/umd/portal.min.js', 170.8154296875), ('https://cdn.jsdelivr.net/ghost/sodo-search@~1.1/umd/sodo-search.min.js', 95.5751953125), ('/blog/public/cards.min.js?v=22080dfa02', 0.130859375), ('/blog/public/member-attribution.min.js?v=22080dfa02', 0.130859375), ('https://www.googletagmanager.com/gtag/js?id=UA-147725948-3', 0.0), ('https://polyfill.io/v3/polyfill.min.js?features=IntersectionObserver%2CPromise%2CArray.prototype.includes%2CString.prototype.endsWith%2CString.prototype.startsWith%2CObject.assign%2CNodeList.prototype.forEach', 14.1123046875), ('/blog/assets/js/vendor/content-api.min.js?v=22080dfa02', 0.130859375), ('/blog/assets/js/manifest.js?v=22080dfa02', 0.130859375), ('/blog/assets/js/vendor.js?v=22080dfa02', 0.130859375), ('/blog/assets/js/app.js?v=22080dfa02', 0.130859375), ('/blog/assets/js/post.js?v=22080dfa02', 0.130859375), ('/blog/assets/css/app.css?v=22080dfa02', 0.130859375), ('/blog/public/cards.min.css?v=22080dfa02', 0.130859375)]\n",
      "Analyzing 22 of 523: https://fampay.in/blog/pocket-money-for-teenagers-why-it-matters/\n",
      "Page size: 42.1337890625 KB\n",
      "Resource sizes: [('https://fampay.in/blog/content/images/2020/11/logofilewhite-11-2.png', 0.130859375), ('https://fampay.in/blog/content/images/2020/11/logofilewhite-11-2.png', 0.130859375), ('/blog/assets/images/success.png?v=22080dfa02', 0.130859375), ('https://cdn.jsdelivr.net/ghost/portal@~2.30/umd/portal.min.js', 170.8154296875), ('https://cdn.jsdelivr.net/ghost/sodo-search@~1.1/umd/sodo-search.min.js', 95.5751953125), ('/blog/public/cards.min.js?v=22080dfa02', 0.130859375), ('/blog/public/member-attribution.min.js?v=22080dfa02', 0.130859375), ('https://www.googletagmanager.com/gtag/js?id=UA-147725948-3', 0.0), ('https://polyfill.io/v3/polyfill.min.js?features=IntersectionObserver%2CPromise%2CArray.prototype.includes%2CString.prototype.endsWith%2CString.prototype.startsWith%2CObject.assign%2CNodeList.prototype.forEach', 14.1123046875), ('/blog/assets/js/vendor/content-api.min.js?v=22080dfa02', 0.130859375), ('/blog/assets/js/manifest.js?v=22080dfa02', 0.130859375), ('/blog/assets/js/vendor.js?v=22080dfa02', 0.130859375), ('/blog/assets/js/app.js?v=22080dfa02', 0.130859375), ('/blog/assets/js/post.js?v=22080dfa02', 0.130859375), ('/blog/assets/css/app.css?v=22080dfa02', 0.130859375), ('/blog/public/cards.min.css?v=22080dfa02', 0.130859375)]\n",
      "Analyzing 23 of 523: https://fampay.in/blog/things-you-must-know-as-a-teens-parent/\n",
      "Page size: 41.5458984375 KB\n",
      "Resource sizes: [('https://fampay.in/blog/content/images/2020/11/logofilewhite-11-2.png', 0.130859375), ('https://fampay.in/blog/content/images/2020/11/logofilewhite-11-2.png', 0.130859375), ('/blog/assets/images/success.png?v=22080dfa02', 0.130859375), ('https://cdn.jsdelivr.net/ghost/portal@~2.30/umd/portal.min.js', 170.8154296875), ('https://cdn.jsdelivr.net/ghost/sodo-search@~1.1/umd/sodo-search.min.js', 95.5751953125), ('/blog/public/cards.min.js?v=22080dfa02', 0.130859375), ('/blog/public/member-attribution.min.js?v=22080dfa02', 0.130859375), ('https://www.googletagmanager.com/gtag/js?id=UA-147725948-3', 0.0), ('https://polyfill.io/v3/polyfill.min.js?features=IntersectionObserver%2CPromise%2CArray.prototype.includes%2CString.prototype.endsWith%2CString.prototype.startsWith%2CObject.assign%2CNodeList.prototype.forEach', 14.1123046875), ('/blog/assets/js/vendor/content-api.min.js?v=22080dfa02', 0.130859375), ('/blog/assets/js/manifest.js?v=22080dfa02', 0.130859375), ('/blog/assets/js/vendor.js?v=22080dfa02', 0.130859375), ('/blog/assets/js/app.js?v=22080dfa02', 0.130859375), ('/blog/assets/js/post.js?v=22080dfa02', 0.130859375), ('/blog/assets/css/app.css?v=22080dfa02', 0.130859375), ('/blog/public/cards.min.css?v=22080dfa02', 0.130859375)]\n",
      "Analyzing 24 of 523: https://fampay.in/blog/impact-of-social-distancing-on-teen-mental-health/\n",
      "Page size: 42.724609375 KB\n",
      "Resource sizes: [('https://fampay.in/blog/content/images/2020/11/logofilewhite-11-2.png', 0.130859375), ('https://fampay.in/blog/content/images/2020/11/logofilewhite-11-2.png', 0.130859375), ('/blog/assets/images/success.png?v=22080dfa02', 0.130859375), ('https://cdn.jsdelivr.net/ghost/portal@~2.30/umd/portal.min.js', 170.8154296875), ('https://cdn.jsdelivr.net/ghost/sodo-search@~1.1/umd/sodo-search.min.js', 95.5751953125), ('/blog/public/cards.min.js?v=22080dfa02', 0.130859375), ('/blog/public/member-attribution.min.js?v=22080dfa02', 0.130859375), ('https://www.googletagmanager.com/gtag/js?id=UA-147725948-3', 0.0), ('https://polyfill.io/v3/polyfill.min.js?features=IntersectionObserver%2CPromise%2CArray.prototype.includes%2CString.prototype.endsWith%2CString.prototype.startsWith%2CObject.assign%2CNodeList.prototype.forEach', 14.1123046875), ('/blog/assets/js/vendor/content-api.min.js?v=22080dfa02', 0.130859375), ('/blog/assets/js/manifest.js?v=22080dfa02', 0.130859375), ('/blog/assets/js/vendor.js?v=22080dfa02', 0.130859375), ('/blog/assets/js/app.js?v=22080dfa02', 0.130859375), ('/blog/assets/js/post.js?v=22080dfa02', 0.130859375), ('/blog/assets/css/app.css?v=22080dfa02', 0.130859375), ('/blog/public/cards.min.css?v=22080dfa02', 0.130859375)]\n",
      "Analyzing 25 of 523: https://fampay.in/blog/tag/parents/page/2/\n",
      "Page size: 22.916015625 KB\n",
      "Resource sizes: [('https://fampay.in/blog/content/images/2020/11/logofilewhite-11-2.png', 0.130859375), ('https://fampay.in/blog/content/images/2020/11/logofilewhite-11-2.png', 0.130859375), ('https://cdn.jsdelivr.net/ghost/portal@~2.30/umd/portal.min.js', 170.8154296875), ('https://cdn.jsdelivr.net/ghost/sodo-search@~1.1/umd/sodo-search.min.js', 95.5751953125), ('/blog/public/cards.min.js?v=22080dfa02', 0.130859375), ('/blog/public/member-attribution.min.js?v=22080dfa02', 0.130859375), ('https://www.googletagmanager.com/gtag/js?id=UA-147725948-3', 0.0), ('https://polyfill.io/v3/polyfill.min.js?features=IntersectionObserver%2CPromise%2CArray.prototype.includes%2CString.prototype.endsWith%2CString.prototype.startsWith%2CObject.assign%2CNodeList.prototype.forEach', 14.1123046875), ('/blog/assets/js/vendor/content-api.min.js?v=22080dfa02', 0.130859375), ('/blog/assets/js/manifest.js?v=22080dfa02', 0.130859375), ('/blog/assets/js/vendor.js?v=22080dfa02', 0.130859375), ('/blog/assets/js/app.js?v=22080dfa02', 0.130859375), ('/blog/assets/css/app.css?v=22080dfa02', 0.130859375), ('/blog/public/cards.min.css?v=22080dfa02', 0.130859375)]\n",
      "Analyzing 26 of 523: https://fampay.in/blog/tag/news/\n",
      "Page size: 33.3154296875 KB\n",
      "Resource sizes: [('https://fampay.in/blog/content/images/2020/11/logofilewhite-11-2.png', 0.130859375), ('https://fampay.in/blog/content/images/2020/11/logofilewhite-11-2.png', 0.130859375), ('https://cdn.jsdelivr.net/ghost/portal@~2.30/umd/portal.min.js', 170.8154296875), ('https://cdn.jsdelivr.net/ghost/sodo-search@~1.1/umd/sodo-search.min.js', 95.5751953125), ('/blog/public/cards.min.js?v=22080dfa02', 0.130859375), ('/blog/public/member-attribution.min.js?v=22080dfa02', 0.130859375), ('https://www.googletagmanager.com/gtag/js?id=UA-147725948-3', 0.0), ('https://polyfill.io/v3/polyfill.min.js?features=IntersectionObserver%2CPromise%2CArray.prototype.includes%2CString.prototype.endsWith%2CString.prototype.startsWith%2CObject.assign%2CNodeList.prototype.forEach', 14.1123046875), ('/blog/assets/js/vendor/content-api.min.js?v=22080dfa02', 0.130859375), ('/blog/assets/js/manifest.js?v=22080dfa02', 0.130859375), ('/blog/assets/js/vendor.js?v=22080dfa02', 0.130859375), ('/blog/assets/js/app.js?v=22080dfa02', 0.130859375), ('/blog/assets/css/app.css?v=22080dfa02', 0.130859375), ('/blog/public/cards.min.css?v=22080dfa02', 0.130859375)]\n",
      "Analyzing 27 of 523: https://fampay.in/blog/teen-focused-fintech-startup-fampay-raises-38m-in-series-a/\n",
      "Page size: 44.33203125 KB\n",
      "Resource sizes: [('https://fampay.in/blog/content/images/2020/11/logofilewhite-11-2.png', 0.130859375), ('https://fampay.in/blog/content/images/2020/11/logofilewhite-11-2.png', 0.130859375), ('https://fampay.in/blog/content/images/2021/06/IMG_0371-5--1--2.jpg', 0.130859375), ('https://fampay.in/blog/content/images/2021/06/Group-2824--2--1.jpg', 0.130859375), ('https://fampay.in/blog/content/images/2021/06/DSC02575_edited-copy--1---1---1-.jpg', 0.130859375), ('/blog/assets/images/success.png?v=22080dfa02', 0.130859375), ('https://cdn.jsdelivr.net/ghost/portal@~2.30/umd/portal.min.js', 170.8154296875), ('https://cdn.jsdelivr.net/ghost/sodo-search@~1.1/umd/sodo-search.min.js', 95.5751953125), ('/blog/public/cards.min.js?v=22080dfa02', 0.130859375), ('/blog/public/member-attribution.min.js?v=22080dfa02', 0.130859375), ('https://www.googletagmanager.com/gtag/js?id=UA-147725948-3', 0.0), ('https://polyfill.io/v3/polyfill.min.js?features=IntersectionObserver%2CPromise%2CArray.prototype.includes%2CString.prototype.endsWith%2CString.prototype.startsWith%2CObject.assign%2CNodeList.prototype.forEach', 14.1123046875), ('/blog/assets/js/vendor/content-api.min.js?v=22080dfa02', 0.130859375), ('/blog/assets/js/manifest.js?v=22080dfa02', 0.130859375), ('/blog/assets/js/vendor.js?v=22080dfa02', 0.130859375), ('/blog/assets/js/app.js?v=22080dfa02', 0.130859375), ('/blog/assets/js/post.js?v=22080dfa02', 0.130859375), ('/blog/assets/css/app.css?v=22080dfa02', 0.130859375), ('/blog/public/cards.min.css?v=22080dfa02', 0.130859375)]\n",
      "Analyzing 28 of 523: https://fampay.in/blog/fampay-is-set-to-launch-indias-first-and-biggest-digi-fest-for-teens/\n",
      "Page size: 40.9990234375 KB\n",
      "Resource sizes: [('https://fampay.in/blog/content/images/2020/11/logofilewhite-11-2.png', 0.130859375), ('https://fampay.in/blog/content/images/2020/11/logofilewhite-11-2.png', 0.130859375), ('/blog/assets/images/success.png?v=22080dfa02', 0.130859375), ('https://cdn.jsdelivr.net/ghost/portal@~2.30/umd/portal.min.js', 170.8154296875), ('https://cdn.jsdelivr.net/ghost/sodo-search@~1.1/umd/sodo-search.min.js', 95.5751953125), ('/blog/public/cards.min.js?v=22080dfa02', 0.130859375), ('/blog/public/member-attribution.min.js?v=22080dfa02', 0.130859375), ('https://www.googletagmanager.com/gtag/js?id=UA-147725948-3', 0.0), ('https://polyfill.io/v3/polyfill.min.js?features=IntersectionObserver%2CPromise%2CArray.prototype.includes%2CString.prototype.endsWith%2CString.prototype.startsWith%2CObject.assign%2CNodeList.prototype.forEach', 14.1123046875), ('/blog/assets/js/vendor/content-api.min.js?v=22080dfa02', 0.130859375), ('/blog/assets/js/manifest.js?v=22080dfa02', 0.130859375), ('/blog/assets/js/vendor.js?v=22080dfa02', 0.130859375), ('/blog/assets/js/app.js?v=22080dfa02', 0.130859375), ('/blog/assets/js/post.js?v=22080dfa02', 0.130859375), ('/blog/assets/css/app.css?v=22080dfa02', 0.130859375), ('/blog/public/cards.min.css?v=22080dfa02', 0.130859375)]\n",
      "Analyzing 29 of 523: https://fampay.in/blog/zetas-fusion-to-power-fampays-cashless-payments-for-gen-z/\n",
      "Page size: 38.7138671875 KB\n",
      "Resource sizes: [('https://fampay.in/blog/content/images/2020/11/logofilewhite-11-2.png', 0.130859375), ('https://fampay.in/blog/content/images/2020/11/logofilewhite-11-2.png', 0.130859375), ('/blog/assets/images/success.png?v=22080dfa02', 0.130859375), ('https://cdn.jsdelivr.net/ghost/portal@~2.30/umd/portal.min.js', 170.8154296875), ('https://cdn.jsdelivr.net/ghost/sodo-search@~1.1/umd/sodo-search.min.js', 95.5751953125), ('/blog/public/cards.min.js?v=22080dfa02', 0.130859375), ('/blog/public/member-attribution.min.js?v=22080dfa02', 0.130859375), ('https://www.googletagmanager.com/gtag/js?id=UA-147725948-3', 0.0), ('https://polyfill.io/v3/polyfill.min.js?features=IntersectionObserver%2CPromise%2CArray.prototype.includes%2CString.prototype.endsWith%2CString.prototype.startsWith%2CObject.assign%2CNodeList.prototype.forEach', 14.1123046875), ('/blog/assets/js/vendor/content-api.min.js?v=22080dfa02', 0.130859375), ('/blog/assets/js/manifest.js?v=22080dfa02', 0.130859375), ('/blog/assets/js/vendor.js?v=22080dfa02', 0.130859375), ('/blog/assets/js/app.js?v=22080dfa02', 0.130859375), ('/blog/assets/js/post.js?v=22080dfa02', 0.130859375), ('/blog/assets/css/app.css?v=22080dfa02', 0.130859375), ('/blog/public/cards.min.css?v=22080dfa02', 0.130859375)]\n",
      "Analyzing 30 of 523: https://fampay.in/blog/digital-payments-exploding-in-india-yet-the-tech-savvy-teens-still-stuck-paying-with-cash-survey-by-fampay-indias-first-neobank-for-teenagers/\n",
      "Page size: 45.3173828125 KB\n",
      "Resource sizes: [('https://fampay.in/blog/content/images/2020/11/logofilewhite-11-2.png', 0.130859375), ('https://fampay.in/blog/content/images/2020/11/logofilewhite-11-2.png', 0.130859375), ('https://fampay.in/blog/content/images/2020/10/PRInfographicSection1.png', 0.130859375), ('https://fampay.in/blog/content/images/2020/10/PRInfographicSection2.png', 0.130859375), ('https://fampay.in/blog/content/images/2020/10/PRInfographicSection3.png', 0.130859375), ('/blog/assets/images/success.png?v=22080dfa02', 0.130859375), ('https://cdn.jsdelivr.net/ghost/portal@~2.30/umd/portal.min.js', 170.8154296875), ('https://cdn.jsdelivr.net/ghost/sodo-search@~1.1/umd/sodo-search.min.js', 95.5751953125), ('/blog/public/cards.min.js?v=22080dfa02', 0.130859375), ('/blog/public/member-attribution.min.js?v=22080dfa02', 0.130859375), ('https://www.googletagmanager.com/gtag/js?id=UA-147725948-3', 0.0), ('https://polyfill.io/v3/polyfill.min.js?features=IntersectionObserver%2CPromise%2CArray.prototype.includes%2CString.prototype.endsWith%2CString.prototype.startsWith%2CObject.assign%2CNodeList.prototype.forEach', 14.1123046875), ('/blog/assets/js/vendor/content-api.min.js?v=22080dfa02', 0.130859375), ('/blog/assets/js/manifest.js?v=22080dfa02', 0.130859375), ('/blog/assets/js/vendor.js?v=22080dfa02', 0.130859375), ('/blog/assets/js/app.js?v=22080dfa02', 0.130859375), ('/blog/assets/js/post.js?v=22080dfa02', 0.130859375), ('/blog/assets/css/app.css?v=22080dfa02', 0.130859375), ('/blog/public/cards.min.css?v=22080dfa02', 0.130859375)]\n",
      "Analyzing 31 of 523: https://fampay.in/blog/this-fintech-startup-by-iit-roorkee-alum-is-giving-teenagers-financial-freedom-responsibly-yourstory/\n",
      "Page size: 44.62890625 KB\n",
      "Resource sizes: [('https://fampay.in/blog/content/images/2020/11/logofilewhite-11-2.png', 0.130859375), ('https://fampay.in/blog/content/images/2020/11/logofilewhite-11-2.png', 0.130859375), ('https://fampay.in/blog/content/images/2021/03/Copy-of-FamPay-Founders---Kush--Left--and-Sambhav--Right--2.jpg', 0.130859375), ('https://fampay.in/blog/content/images/2021/03/Copy-of-FamPay---FlashPIN-2.png', 0.130859375), ('/blog/assets/images/success.png?v=22080dfa02', 0.130859375), ('https://cdn.jsdelivr.net/ghost/portal@~2.30/umd/portal.min.js', 170.8154296875), ('https://cdn.jsdelivr.net/ghost/sodo-search@~1.1/umd/sodo-search.min.js', 95.5751953125), ('/blog/public/cards.min.js?v=22080dfa02', 0.130859375), ('/blog/public/member-attribution.min.js?v=22080dfa02', 0.130859375), ('https://www.googletagmanager.com/gtag/js?id=UA-147725948-3', 0.0), ('https://polyfill.io/v3/polyfill.min.js?features=IntersectionObserver%2CPromise%2CArray.prototype.includes%2CString.prototype.endsWith%2CString.prototype.startsWith%2CObject.assign%2CNodeList.prototype.forEach', 14.1123046875), ('/blog/assets/js/vendor/content-api.min.js?v=22080dfa02', 0.130859375), ('/blog/assets/js/manifest.js?v=22080dfa02', 0.130859375), ('/blog/assets/js/vendor.js?v=22080dfa02', 0.130859375), ('/blog/assets/js/app.js?v=22080dfa02', 0.130859375), ('/blog/assets/js/post.js?v=22080dfa02', 0.130859375), ('/blog/assets/css/app.css?v=22080dfa02', 0.130859375), ('/blog/public/cards.min.css?v=22080dfa02', 0.130859375)]\n",
      "Analyzing 32 of 523: https://fampay.in/blog/fampay-announces-launch-of-indias-first-numberless-card/\n",
      "Page size: 40.529296875 KB\n",
      "Resource sizes: [('https://fampay.in/blog/content/images/2020/11/logofilewhite-11-2.png', 0.130859375), ('https://fampay.in/blog/content/images/2020/11/logofilewhite-11-2.png', 0.130859375), ('https://fampay.in/blog/content/images/2020/07/FamPay-Founders---Kush--Left--and-Sambhav--Right--2.jpg', 0.130859375), ('https://fampay.in/blog/content/images/2020/07/FamPay---FlashPIN.png', 0.130859375), ('/blog/assets/images/success.png?v=22080dfa02', 0.130859375), ('https://cdn.jsdelivr.net/ghost/portal@~2.30/umd/portal.min.js', 170.8154296875), ('https://cdn.jsdelivr.net/ghost/sodo-search@~1.1/umd/sodo-search.min.js', 95.5751953125), ('/blog/public/cards.min.js?v=22080dfa02', 0.130859375), ('/blog/public/member-attribution.min.js?v=22080dfa02', 0.130859375), ('https://www.googletagmanager.com/gtag/js?id=UA-147725948-3', 0.0), ('https://polyfill.io/v3/polyfill.min.js?features=IntersectionObserver%2CPromise%2CArray.prototype.includes%2CString.prototype.endsWith%2CString.prototype.startsWith%2CObject.assign%2CNodeList.prototype.forEach', 14.1123046875), ('/blog/assets/js/vendor/content-api.min.js?v=22080dfa02', 0.130859375), ('/blog/assets/js/manifest.js?v=22080dfa02', 0.130859375), ('/blog/assets/js/vendor.js?v=22080dfa02', 0.130859375), ('/blog/assets/js/app.js?v=22080dfa02', 0.130859375), ('/blog/assets/js/post.js?v=22080dfa02', 0.130859375), ('/blog/assets/css/app.css?v=22080dfa02', 0.130859375), ('/blog/public/cards.min.css?v=22080dfa02', 0.130859375)]\n",
      "Analyzing 33 of 523: https://fampay.in/blog/fampay-raises-4-7m-from-y-combinator-sequoia-venture-highway-others/\n",
      "Page size: 40.5927734375 KB\n",
      "Resource sizes: [('https://fampay.in/blog/content/images/2020/11/logofilewhite-11-2.png', 0.130859375), ('https://fampay.in/blog/content/images/2020/11/logofilewhite-11-2.png', 0.130859375), ('/blog/assets/images/success.png?v=22080dfa02', 0.130859375), ('https://cdn.jsdelivr.net/ghost/portal@~2.30/umd/portal.min.js', 170.8154296875), ('https://cdn.jsdelivr.net/ghost/sodo-search@~1.1/umd/sodo-search.min.js', 95.5751953125), ('/blog/public/cards.min.js?v=22080dfa02', 0.130859375), ('/blog/public/member-attribution.min.js?v=22080dfa02', 0.130859375), ('https://www.googletagmanager.com/gtag/js?id=UA-147725948-3', 0.0), ('https://polyfill.io/v3/polyfill.min.js?features=IntersectionObserver%2CPromise%2CArray.prototype.includes%2CString.prototype.endsWith%2CString.prototype.startsWith%2CObject.assign%2CNodeList.prototype.forEach', 14.1123046875), ('/blog/assets/js/vendor/content-api.min.js?v=22080dfa02', 0.130859375), ('/blog/assets/js/manifest.js?v=22080dfa02', 0.130859375), ('/blog/assets/js/vendor.js?v=22080dfa02', 0.130859375), ('/blog/assets/js/app.js?v=22080dfa02', 0.130859375), ('/blog/assets/js/post.js?v=22080dfa02', 0.130859375), ('/blog/assets/css/app.css?v=22080dfa02', 0.130859375), ('/blog/public/cards.min.css?v=22080dfa02', 0.130859375)]\n",
      "Analyzing 34 of 523: https://fampay.in/blog/tag/famsays/\n",
      "Page size: 37.5068359375 KB\n",
      "Resource sizes: [('https://fampay.in/blog/content/images/2020/11/logofilewhite-11-2.png', 0.130859375), ('https://fampay.in/blog/content/images/2020/11/logofilewhite-11-2.png', 0.130859375), ('https://cdn.jsdelivr.net/ghost/portal@~2.30/umd/portal.min.js', 170.8154296875), ('https://cdn.jsdelivr.net/ghost/sodo-search@~1.1/umd/sodo-search.min.js', 95.5751953125), ('/blog/public/cards.min.js?v=22080dfa02', 0.130859375), ('/blog/public/member-attribution.min.js?v=22080dfa02', 0.130859375), ('https://www.googletagmanager.com/gtag/js?id=UA-147725948-3', 0.0), ('https://polyfill.io/v3/polyfill.min.js?features=IntersectionObserver%2CPromise%2CArray.prototype.includes%2CString.prototype.endsWith%2CString.prototype.startsWith%2CObject.assign%2CNodeList.prototype.forEach', 14.1123046875), ('/blog/assets/js/vendor/content-api.min.js?v=22080dfa02', 0.130859375), ('/blog/assets/js/manifest.js?v=22080dfa02', 0.130859375), ('/blog/assets/js/vendor.js?v=22080dfa02', 0.130859375), ('/blog/assets/js/app.js?v=22080dfa02', 0.130859375), ('/blog/assets/css/app.css?v=22080dfa02', 0.130859375), ('/blog/public/cards.min.css?v=22080dfa02', 0.130859375)]\n",
      "Analyzing 35 of 523: https://fampay.in/blog/a-practical-guide-to-app-store-optimization/\n",
      "Page size: 40.75390625 KB\n",
      "Resource sizes: [('https://fampay.in/blog/content/images/2020/11/logofilewhite-11-2.png', 0.130859375), ('https://fampay.in/blog/content/images/2020/11/logofilewhite-11-2.png', 0.130859375), ('https://fampay.in/blog/content/images/2021/09/ASO.png', 0.130859375), ('https://fampay.in/blog/content/images/2021/09/image-9.png', 0.130859375), ('https://fampay.in/blog/content/images/2021/09/image-10.png', 0.130859375), ('/blog/assets/images/success.png?v=22080dfa02', 0.130859375), ('https://cdn.jsdelivr.net/ghost/portal@~2.30/umd/portal.min.js', 170.8154296875), ('https://cdn.jsdelivr.net/ghost/sodo-search@~1.1/umd/sodo-search.min.js', 95.5751953125), ('/blog/public/cards.min.js?v=22080dfa02', 0.130859375), ('/blog/public/member-attribution.min.js?v=22080dfa02', 0.130859375), ('https://www.googletagmanager.com/gtag/js?id=UA-147725948-3', 0.0), ('https://polyfill.io/v3/polyfill.min.js?features=IntersectionObserver%2CPromise%2CArray.prototype.includes%2CString.prototype.endsWith%2CString.prototype.startsWith%2CObject.assign%2CNodeList.prototype.forEach', 14.1123046875), ('/blog/assets/js/vendor/content-api.min.js?v=22080dfa02', 0.130859375), ('/blog/assets/js/manifest.js?v=22080dfa02', 0.130859375), ('/blog/assets/js/vendor.js?v=22080dfa02', 0.130859375), ('/blog/assets/js/app.js?v=22080dfa02', 0.130859375), ('/blog/assets/js/post.js?v=22080dfa02', 0.130859375), ('/blog/assets/css/app.css?v=22080dfa02', 0.130859375), ('/blog/public/cards.min.css?v=22080dfa02', 0.130859375)]\n",
      "Analyzing 36 of 523: https://fampay.in/blog/author/garvita/\n",
      "Page size: 24.7421875 KB\n",
      "Resource sizes: [('https://fampay.in/blog/content/images/2020/11/logofilewhite-11-2.png', 0.130859375), ('https://fampay.in/blog/content/images/2020/11/logofilewhite-11-2.png', 0.130859375), ('https://cdn.jsdelivr.net/ghost/portal@~2.30/umd/portal.min.js', 170.8154296875), ('https://cdn.jsdelivr.net/ghost/sodo-search@~1.1/umd/sodo-search.min.js', 95.5751953125), ('/blog/public/cards.min.js?v=22080dfa02', 0.130859375), ('/blog/public/member-attribution.min.js?v=22080dfa02', 0.130859375), ('https://www.googletagmanager.com/gtag/js?id=UA-147725948-3', 0.0), ('https://polyfill.io/v3/polyfill.min.js?features=IntersectionObserver%2CPromise%2CArray.prototype.includes%2CString.prototype.endsWith%2CString.prototype.startsWith%2CObject.assign%2CNodeList.prototype.forEach', 14.1123046875), ('/blog/assets/js/vendor/content-api.min.js?v=22080dfa02', 0.130859375), ('/blog/assets/js/manifest.js?v=22080dfa02', 0.130859375), ('/blog/assets/js/vendor.js?v=22080dfa02', 0.130859375), ('/blog/assets/js/app.js?v=22080dfa02', 0.130859375), ('/blog/assets/css/app.css?v=22080dfa02', 0.130859375), ('/blog/public/cards.min.css?v=22080dfa02', 0.130859375)]\n",
      "Analyzing 37 of 523: https://fampay.in/blog/365-days-of-internship-at-fampay/\n",
      "Page size: 42.2734375 KB\n",
      "Resource sizes: [('https://fampay.in/blog/content/images/2020/11/logofilewhite-11-2.png', 0.130859375), ('https://fampay.in/blog/content/images/2020/11/logofilewhite-11-2.png', 0.130859375), ('https://fampay.in/blog/content/images/2021/09/WhatsApp-Image-2021-09-09-at-12.08.03.jpeg', 0.130859375), ('https://fampay.in/blog/content/images/2021/09/WhatsApp-Image-2021-09-09-at-12.08.02.jpeg', 0.130859375), ('/blog/assets/images/success.png?v=22080dfa02', 0.130859375), ('https://cdn.jsdelivr.net/ghost/portal@~2.30/umd/portal.min.js', 170.8154296875), ('https://cdn.jsdelivr.net/ghost/sodo-search@~1.1/umd/sodo-search.min.js', 95.5751953125), ('/blog/public/cards.min.js?v=22080dfa02', 0.130859375), ('/blog/public/member-attribution.min.js?v=22080dfa02', 0.130859375), ('https://www.googletagmanager.com/gtag/js?id=UA-147725948-3', 0.0), ('https://polyfill.io/v3/polyfill.min.js?features=IntersectionObserver%2CPromise%2CArray.prototype.includes%2CString.prototype.endsWith%2CString.prototype.startsWith%2CObject.assign%2CNodeList.prototype.forEach', 14.1123046875), ('/blog/assets/js/vendor/content-api.min.js?v=22080dfa02', 0.130859375), ('/blog/assets/js/manifest.js?v=22080dfa02', 0.130859375), ('/blog/assets/js/vendor.js?v=22080dfa02', 0.130859375), ('/blog/assets/js/app.js?v=22080dfa02', 0.130859375), ('/blog/assets/js/post.js?v=22080dfa02', 0.130859375), ('/blog/assets/css/app.css?v=22080dfa02', 0.130859375), ('/blog/public/cards.min.css?v=22080dfa02', 0.130859375)]\n",
      "Analyzing 38 of 523: https://fampay.in/blog/how-instagram-reel-can-really-grow-your-brand/\n",
      "Page size: 40.0205078125 KB\n",
      "Resource sizes: [('https://fampay.in/blog/content/images/2020/11/logofilewhite-11-2.png', 0.130859375), ('https://fampay.in/blog/content/images/2020/11/logofilewhite-11-2.png', 0.130859375), ('https://fampay.in/blog/content/images/2021/08/image-9.png', 0.130859375), ('https://fampay.in/blog/content/images/2021/08/image-14.png', 0.130859375), ('https://fampay.in/blog/content/images/2021/08/image-13.png', 0.130859375), ('https://fampay.in/blog/content/images/2021/08/image-12.png', 0.130859375), ('/blog/assets/images/success.png?v=22080dfa02', 0.130859375), ('https://cdn.jsdelivr.net/ghost/portal@~2.30/umd/portal.min.js', 170.8154296875), ('https://cdn.jsdelivr.net/ghost/sodo-search@~1.1/umd/sodo-search.min.js', 95.5751953125), ('/blog/public/cards.min.js?v=22080dfa02', 0.130859375), ('/blog/public/member-attribution.min.js?v=22080dfa02', 0.130859375), ('https://www.googletagmanager.com/gtag/js?id=UA-147725948-3', 0.0), ('https://polyfill.io/v3/polyfill.min.js?features=IntersectionObserver%2CPromise%2CArray.prototype.includes%2CString.prototype.endsWith%2CString.prototype.startsWith%2CObject.assign%2CNodeList.prototype.forEach', 14.1123046875), ('/blog/assets/js/vendor/content-api.min.js?v=22080dfa02', 0.130859375), ('/blog/assets/js/manifest.js?v=22080dfa02', 0.130859375), ('/blog/assets/js/vendor.js?v=22080dfa02', 0.130859375), ('/blog/assets/js/app.js?v=22080dfa02', 0.130859375), ('/blog/assets/js/post.js?v=22080dfa02', 0.130859375), ('/blog/assets/css/app.css?v=22080dfa02', 0.130859375), ('/blog/public/cards.min.css?v=22080dfa02', 0.130859375)]\n",
      "Analyzing 39 of 523: https://fampay.in/blog/author/suhani/\n",
      "Page size: 23.462890625 KB\n",
      "Resource sizes: [('https://fampay.in/blog/content/images/2020/11/logofilewhite-11-2.png', 0.130859375), ('https://fampay.in/blog/content/images/2020/11/logofilewhite-11-2.png', 0.130859375), ('https://cdn.jsdelivr.net/ghost/portal@~2.30/umd/portal.min.js', 170.8154296875), ('https://cdn.jsdelivr.net/ghost/sodo-search@~1.1/umd/sodo-search.min.js', 95.5751953125), ('/blog/public/cards.min.js?v=22080dfa02', 0.130859375), ('/blog/public/member-attribution.min.js?v=22080dfa02', 0.130859375), ('https://www.googletagmanager.com/gtag/js?id=UA-147725948-3', 0.0), ('https://polyfill.io/v3/polyfill.min.js?features=IntersectionObserver%2CPromise%2CArray.prototype.includes%2CString.prototype.endsWith%2CString.prototype.startsWith%2CObject.assign%2CNodeList.prototype.forEach', 14.1123046875), ('/blog/assets/js/vendor/content-api.min.js?v=22080dfa02', 0.130859375), ('/blog/assets/js/manifest.js?v=22080dfa02', 0.130859375), ('/blog/assets/js/vendor.js?v=22080dfa02', 0.130859375), ('/blog/assets/js/app.js?v=22080dfa02', 0.130859375), ('/blog/assets/css/app.css?v=22080dfa02', 0.130859375), ('/blog/public/cards.min.css?v=22080dfa02', 0.130859375)]\n",
      "Analyzing 40 of 523: https://fampay.in/blog/config-variables-changing-system-behaviour-live-in-production/\n",
      "Page size: 44.630859375 KB\n",
      "Resource sizes: [('https://fampay.in/blog/content/images/2020/11/logofilewhite-11-2.png', 0.130859375), ('https://fampay.in/blog/content/images/2020/11/logofilewhite-11-2.png', 0.130859375), ('https://fampay.in/blog/content/images/2021/07/image-1.png', 0.130859375), ('https://fampay.in/blog/content/images/2021/07/image-2.png', 0.130859375), ('/blog/assets/images/success.png?v=22080dfa02', 0.130859375), ('https://cdn.jsdelivr.net/ghost/portal@~2.30/umd/portal.min.js', 170.8154296875), ('https://cdn.jsdelivr.net/ghost/sodo-search@~1.1/umd/sodo-search.min.js', 95.5751953125), ('/blog/public/cards.min.js?v=22080dfa02', 0.130859375), ('/blog/public/member-attribution.min.js?v=22080dfa02', 0.130859375), ('https://www.googletagmanager.com/gtag/js?id=UA-147725948-3', 0.0), ('https://polyfill.io/v3/polyfill.min.js?features=IntersectionObserver%2CPromise%2CArray.prototype.includes%2CString.prototype.endsWith%2CString.prototype.startsWith%2CObject.assign%2CNodeList.prototype.forEach', 14.1123046875), ('/blog/assets/js/vendor/content-api.min.js?v=22080dfa02', 0.130859375), ('/blog/assets/js/manifest.js?v=22080dfa02', 0.130859375), ('/blog/assets/js/vendor.js?v=22080dfa02', 0.130859375), ('/blog/assets/js/app.js?v=22080dfa02', 0.130859375), ('/blog/assets/js/post.js?v=22080dfa02', 0.130859375), ('/blog/assets/css/app.css?v=22080dfa02', 0.130859375), ('/blog/public/cards.min.css?v=22080dfa02', 0.130859375)]\n",
      "Analyzing 41 of 523: https://fampay.in/blog/author/sameeran/\n",
      "Page size: 23.5654296875 KB\n",
      "Resource sizes: [('https://fampay.in/blog/content/images/2020/11/logofilewhite-11-2.png', 0.130859375), ('https://fampay.in/blog/content/images/2020/11/logofilewhite-11-2.png', 0.130859375), ('https://cdn.jsdelivr.net/ghost/portal@~2.30/umd/portal.min.js', 170.8154296875), ('https://cdn.jsdelivr.net/ghost/sodo-search@~1.1/umd/sodo-search.min.js', 95.5751953125), ('/blog/public/cards.min.js?v=22080dfa02', 0.130859375), ('/blog/public/member-attribution.min.js?v=22080dfa02', 0.130859375), ('https://www.googletagmanager.com/gtag/js?id=UA-147725948-3', 0.0), ('https://polyfill.io/v3/polyfill.min.js?features=IntersectionObserver%2CPromise%2CArray.prototype.includes%2CString.prototype.endsWith%2CString.prototype.startsWith%2CObject.assign%2CNodeList.prototype.forEach', 14.1123046875), ('/blog/assets/js/vendor/content-api.min.js?v=22080dfa02', 0.130859375), ('/blog/assets/js/manifest.js?v=22080dfa02', 0.130859375), ('/blog/assets/js/vendor.js?v=22080dfa02', 0.130859375), ('/blog/assets/js/app.js?v=22080dfa02', 0.130859375), ('/blog/assets/css/app.css?v=22080dfa02', 0.130859375), ('/blog/public/cards.min.css?v=22080dfa02', 0.130859375)]\n",
      "Analyzing 42 of 523: https://fampay.in/blog/a-marketers-guide-to-moment-marketing/\n",
      "Page size: 44.609375 KB\n",
      "Resource sizes: [('https://fampay.in/blog/content/images/2020/11/logofilewhite-11-2.png', 0.130859375), ('https://fampay.in/blog/content/images/2020/11/logofilewhite-11-2.png', 0.130859375), ('https://fampay.in/blog/content/images/2021/06/Untitled.png', 0.130859375), ('https://fampay.in/blog/content/images/2021/06/image.png', 0.130859375), ('https://fampay.in/blog/content/images/2021/06/image-1.png', 0.130859375), ('https://fampay.in/blog/content/images/2021/06/image-7.png', 0.130859375), ('https://fampay.in/blog/content/images/2021/06/image-3.png', 0.130859375), ('https://fampay.in/blog/content/images/2021/06/image-5.png', 0.130859375), ('https://fampay.in/blog/content/images/2021/06/image-4.png', 0.130859375), ('https://fampay.in/blog/content/images/2021/06/image-6.png', 0.130859375), ('https://fampay.in/blog/content/images/2021/06/Untitled-design.jpg', 0.130859375), ('/blog/assets/images/success.png?v=22080dfa02', 0.130859375), ('https://cdn.jsdelivr.net/ghost/portal@~2.30/umd/portal.min.js', 170.8154296875), ('https://cdn.jsdelivr.net/ghost/sodo-search@~1.1/umd/sodo-search.min.js', 95.5751953125), ('/blog/public/cards.min.js?v=22080dfa02', 0.130859375), ('/blog/public/member-attribution.min.js?v=22080dfa02', 0.130859375), ('https://www.googletagmanager.com/gtag/js?id=UA-147725948-3', 0.0), ('https://polyfill.io/v3/polyfill.min.js?features=IntersectionObserver%2CPromise%2CArray.prototype.includes%2CString.prototype.endsWith%2CString.prototype.startsWith%2CObject.assign%2CNodeList.prototype.forEach', 14.1123046875), ('/blog/assets/js/vendor/content-api.min.js?v=22080dfa02', 0.130859375), ('/blog/assets/js/manifest.js?v=22080dfa02', 0.130859375), ('/blog/assets/js/vendor.js?v=22080dfa02', 0.130859375), ('/blog/assets/js/app.js?v=22080dfa02', 0.130859375), ('/blog/assets/js/post.js?v=22080dfa02', 0.130859375), ('/blog/assets/css/app.css?v=22080dfa02', 0.130859375), ('/blog/public/cards.min.css?v=22080dfa02', 0.130859375)]\n",
      "Analyzing 43 of 523: https://fampay.in/blog/author/priyanka/\n",
      "Page size: 23.43359375 KB\n",
      "Resource sizes: [('https://fampay.in/blog/content/images/2020/11/logofilewhite-11-2.png', 0.130859375), ('https://fampay.in/blog/content/images/2020/11/logofilewhite-11-2.png', 0.130859375), ('https://cdn.jsdelivr.net/ghost/portal@~2.30/umd/portal.min.js', 170.8154296875), ('https://cdn.jsdelivr.net/ghost/sodo-search@~1.1/umd/sodo-search.min.js', 95.5751953125), ('/blog/public/cards.min.js?v=22080dfa02', 0.130859375), ('/blog/public/member-attribution.min.js?v=22080dfa02', 0.130859375), ('https://www.googletagmanager.com/gtag/js?id=UA-147725948-3', 0.0), ('https://polyfill.io/v3/polyfill.min.js?features=IntersectionObserver%2CPromise%2CArray.prototype.includes%2CString.prototype.endsWith%2CString.prototype.startsWith%2CObject.assign%2CNodeList.prototype.forEach', 14.1123046875), ('/blog/assets/js/vendor/content-api.min.js?v=22080dfa02', 0.130859375), ('/blog/assets/js/manifest.js?v=22080dfa02', 0.130859375), ('/blog/assets/js/vendor.js?v=22080dfa02', 0.130859375), ('/blog/assets/js/app.js?v=22080dfa02', 0.130859375), ('/blog/assets/css/app.css?v=22080dfa02', 0.130859375), ('/blog/public/cards.min.css?v=22080dfa02', 0.130859375)]\n",
      "Analyzing 44 of 523: https://fampay.in/blog/the-story-behind-fampays-tech-stack/\n",
      "Page size: 56.376953125 KB\n",
      "Resource sizes: [('https://fampay.in/blog/content/images/2020/11/logofilewhite-11-2.png', 0.130859375), ('https://fampay.in/blog/content/images/2020/11/logofilewhite-11-2.png', 0.130859375), ('https://fampay.in/blog/content/images/2021/06/Image-from-iOS--4-.png', 0.130859375), ('https://fampay.in/blog/content/images/2021/06/Image-from-iOS--10-.png', 0.130859375), ('/blog/assets/images/success.png?v=22080dfa02', 0.130859375), ('https://cdn.jsdelivr.net/ghost/portal@~2.30/umd/portal.min.js', 170.8154296875), ('https://cdn.jsdelivr.net/ghost/sodo-search@~1.1/umd/sodo-search.min.js', 95.5751953125), ('/blog/public/cards.min.js?v=22080dfa02', 0.130859375), ('/blog/public/member-attribution.min.js?v=22080dfa02', 0.130859375), ('https://www.googletagmanager.com/gtag/js?id=UA-147725948-3', 0.0), ('https://polyfill.io/v3/polyfill.min.js?features=IntersectionObserver%2CPromise%2CArray.prototype.includes%2CString.prototype.endsWith%2CString.prototype.startsWith%2CObject.assign%2CNodeList.prototype.forEach', 14.1123046875), ('/blog/assets/js/vendor/content-api.min.js?v=22080dfa02', 0.130859375), ('/blog/assets/js/manifest.js?v=22080dfa02', 0.130859375), ('/blog/assets/js/vendor.js?v=22080dfa02', 0.130859375), ('/blog/assets/js/app.js?v=22080dfa02', 0.130859375), ('/blog/assets/js/post.js?v=22080dfa02', 0.130859375), ('/blog/assets/css/app.css?v=22080dfa02', 0.130859375), ('/blog/public/cards.min.css?v=22080dfa02', 0.130859375)]\n",
      "Analyzing 45 of 523: https://fampay.in/blog/famstars-we-stress-less-and-accomplish-more/\n",
      "Page size: 41.857421875 KB\n",
      "Resource sizes: [('https://fampay.in/blog/content/images/2020/11/logofilewhite-11-2.png', 0.130859375), ('https://fampay.in/blog/content/images/2020/11/logofilewhite-11-2.png', 0.130859375), ('https://fampay.in/blog/content/images/2021/04/image-16.png', 0.130859375), ('/blog/assets/images/success.png?v=22080dfa02', 0.130859375), ('https://cdn.jsdelivr.net/ghost/portal@~2.30/umd/portal.min.js', 170.8154296875), ('https://cdn.jsdelivr.net/ghost/sodo-search@~1.1/umd/sodo-search.min.js', 95.5751953125), ('/blog/public/cards.min.js?v=22080dfa02', 0.130859375), ('/blog/public/member-attribution.min.js?v=22080dfa02', 0.130859375), ('https://www.googletagmanager.com/gtag/js?id=UA-147725948-3', 0.0), ('https://polyfill.io/v3/polyfill.min.js?features=IntersectionObserver%2CPromise%2CArray.prototype.includes%2CString.prototype.endsWith%2CString.prototype.startsWith%2CObject.assign%2CNodeList.prototype.forEach', 14.1123046875), ('/blog/assets/js/vendor/content-api.min.js?v=22080dfa02', 0.130859375), ('/blog/assets/js/manifest.js?v=22080dfa02', 0.130859375), ('/blog/assets/js/vendor.js?v=22080dfa02', 0.130859375), ('/blog/assets/js/app.js?v=22080dfa02', 0.130859375), ('/blog/assets/js/post.js?v=22080dfa02', 0.130859375), ('/blog/assets/css/app.css?v=22080dfa02', 0.130859375), ('/blog/public/cards.min.css?v=22080dfa02', 0.130859375)]\n",
      "Analyzing 46 of 523: https://fampay.in/blog/author/saipremtelkar/\n",
      "Page size: 23.5869140625 KB\n",
      "Resource sizes: [('https://fampay.in/blog/content/images/2020/11/logofilewhite-11-2.png', 0.130859375), ('https://fampay.in/blog/content/images/2020/11/logofilewhite-11-2.png', 0.130859375), ('https://cdn.jsdelivr.net/ghost/portal@~2.30/umd/portal.min.js', 170.8154296875), ('https://cdn.jsdelivr.net/ghost/sodo-search@~1.1/umd/sodo-search.min.js', 95.5751953125), ('/blog/public/cards.min.js?v=22080dfa02', 0.130859375), ('/blog/public/member-attribution.min.js?v=22080dfa02', 0.130859375), ('https://www.googletagmanager.com/gtag/js?id=UA-147725948-3', 0.0), ('https://polyfill.io/v3/polyfill.min.js?features=IntersectionObserver%2CPromise%2CArray.prototype.includes%2CString.prototype.endsWith%2CString.prototype.startsWith%2CObject.assign%2CNodeList.prototype.forEach', 14.1123046875), ('/blog/assets/js/vendor/content-api.min.js?v=22080dfa02', 0.130859375), ('/blog/assets/js/manifest.js?v=22080dfa02', 0.130859375), ('/blog/assets/js/vendor.js?v=22080dfa02', 0.130859375), ('/blog/assets/js/app.js?v=22080dfa02', 0.130859375), ('/blog/assets/css/app.css?v=22080dfa02', 0.130859375), ('/blog/public/cards.min.css?v=22080dfa02', 0.130859375)]\n",
      "Analyzing 47 of 523: https://fampay.in/blog/tag/famsays/page/2/\n",
      "Page size: 35.306640625 KB\n",
      "Resource sizes: [('https://fampay.in/blog/content/images/2020/11/logofilewhite-11-2.png', 0.130859375), ('https://fampay.in/blog/content/images/2020/11/logofilewhite-11-2.png', 0.130859375), ('https://cdn.jsdelivr.net/ghost/portal@~2.30/umd/portal.min.js', 170.8154296875), ('https://cdn.jsdelivr.net/ghost/sodo-search@~1.1/umd/sodo-search.min.js', 95.5751953125), ('/blog/public/cards.min.js?v=22080dfa02', 0.130859375), ('/blog/public/member-attribution.min.js?v=22080dfa02', 0.130859375), ('https://www.googletagmanager.com/gtag/js?id=UA-147725948-3', 0.0), ('https://polyfill.io/v3/polyfill.min.js?features=IntersectionObserver%2CPromise%2CArray.prototype.includes%2CString.prototype.endsWith%2CString.prototype.startsWith%2CObject.assign%2CNodeList.prototype.forEach', 14.1123046875), ('/blog/assets/js/vendor/content-api.min.js?v=22080dfa02', 0.130859375), ('/blog/assets/js/manifest.js?v=22080dfa02', 0.130859375), ('/blog/assets/js/vendor.js?v=22080dfa02', 0.130859375), ('/blog/assets/js/app.js?v=22080dfa02', 0.130859375), ('/blog/assets/css/app.css?v=22080dfa02', 0.130859375), ('/blog/public/cards.min.css?v=22080dfa02', 0.130859375)]\n",
      "Analyzing 48 of 523: https://fampay.in/blog/tag/community/\n",
      "Page size: 30.162109375 KB\n",
      "Resource sizes: [('https://fampay.in/blog/content/images/2020/11/logofilewhite-11-2.png', 0.130859375), ('https://fampay.in/blog/content/images/2020/11/logofilewhite-11-2.png', 0.130859375), ('https://cdn.jsdelivr.net/ghost/portal@~2.30/umd/portal.min.js', 170.8154296875), ('https://cdn.jsdelivr.net/ghost/sodo-search@~1.1/umd/sodo-search.min.js', 95.5751953125), ('/blog/public/cards.min.js?v=22080dfa02', 0.130859375), ('/blog/public/member-attribution.min.js?v=22080dfa02', 0.130859375), ('https://www.googletagmanager.com/gtag/js?id=UA-147725948-3', 0.0), ('https://polyfill.io/v3/polyfill.min.js?features=IntersectionObserver%2CPromise%2CArray.prototype.includes%2CString.prototype.endsWith%2CString.prototype.startsWith%2CObject.assign%2CNodeList.prototype.forEach', 14.1123046875), ('/blog/assets/js/vendor/content-api.min.js?v=22080dfa02', 0.130859375), ('/blog/assets/js/manifest.js?v=22080dfa02', 0.130859375), ('/blog/assets/js/vendor.js?v=22080dfa02', 0.130859375), ('/blog/assets/js/app.js?v=22080dfa02', 0.130859375), ('/blog/assets/css/app.css?v=22080dfa02', 0.130859375), ('/blog/public/cards.min.css?v=22080dfa02', 0.130859375)]\n",
      "Analyzing 49 of 523: https://fampay.in/blog/genz-commits-to-fight-covid-19/\n",
      "Page size: 45.3759765625 KB\n",
      "Resource sizes: [('https://fampay.in/blog/content/images/2020/11/logofilewhite-11-2.png', 0.130859375), ('https://fampay.in/blog/content/images/2020/11/logofilewhite-11-2.png', 0.130859375), ('https://fampay.in/blog/content/images/2021/06/Screenshot_20210615-152859__02.jpg', 0.130859375), ('https://fampay.in/blog/content/images/2021/06/Screenshot_20210615-152859__01.jpg', 0.130859375), ('https://fampay.in/blog/content/images/2021/06/Screenshot_20210615-153722__01__01.jpg', 0.130859375), ('/blog/assets/images/success.png?v=22080dfa02', 0.130859375), ('https://cdn.jsdelivr.net/ghost/portal@~2.30/umd/portal.min.js', 170.8154296875), ('https://cdn.jsdelivr.net/ghost/sodo-search@~1.1/umd/sodo-search.min.js', 95.5751953125), ('/blog/public/cards.min.js?v=22080dfa02', 0.130859375), ('/blog/public/member-attribution.min.js?v=22080dfa02', 0.130859375), ('https://www.googletagmanager.com/gtag/js?id=UA-147725948-3', 0.0), ('https://polyfill.io/v3/polyfill.min.js?features=IntersectionObserver%2CPromise%2CArray.prototype.includes%2CString.prototype.endsWith%2CString.prototype.startsWith%2CObject.assign%2CNodeList.prototype.forEach', 14.1123046875), ('/blog/assets/js/vendor/content-api.min.js?v=22080dfa02', 0.130859375), ('/blog/assets/js/manifest.js?v=22080dfa02', 0.130859375), ('/blog/assets/js/vendor.js?v=22080dfa02', 0.130859375), ('/blog/assets/js/app.js?v=22080dfa02', 0.130859375), ('/blog/assets/js/post.js?v=22080dfa02', 0.130859375), ('/blog/assets/css/app.css?v=22080dfa02', 0.130859375), ('/blog/public/cards.min.css?v=22080dfa02', 0.130859375)]\n",
      "Analyzing 50 of 523: https://fampay.in/blog/life-of-an-intern-is-love/\n",
      "Page size: 49.4111328125 KB\n",
      "Resource sizes: [('https://fampay.in/blog/content/images/2020/11/logofilewhite-11-2.png', 0.130859375), ('https://fampay.in/blog/content/images/2020/11/logofilewhite-11-2.png', 0.130859375), ('https://fampay.in/blog/content/images/2020/10/Ayushi.jpg', 0.130859375), ('https://fampay.in/blog/content/images/2020/10/interns-to-anchit-1.png', 0.130859375), ('https://fampay.in/blog/content/images/2020/10/Shunyam.jpg', 0.130859375), ('https://fampay.in/blog/content/images/2020/10/Simran.jpg', 0.130859375), ('https://fampay.in/blog/content/images/2020/10/Harshitha.jpg', 0.130859375), ('https://fampay.in/blog/content/images/2020/10/Ashu.jpg', 0.130859375), ('https://fampay.in/blog/content/images/2020/10/Aditee.jpg', 0.130859375), ('https://fampay.in/blog/content/images/2020/10/Shivam.jpg', 0.130859375), ('https://fampay.in/blog/content/images/2020/10/Ananya.jpg', 0.130859375), ('https://fampay.in/blog/content/images/2021/02/sameeran.PNG', 0.130859375), ('https://fampay.in/blog/content/images/2021/01/image-1.png', 0.130859375), ('/blog/assets/images/success.png?v=22080dfa02', 0.130859375), ('https://cdn.jsdelivr.net/ghost/portal@~2.30/umd/portal.min.js', 170.8154296875), ('https://cdn.jsdelivr.net/ghost/sodo-search@~1.1/umd/sodo-search.min.js', 95.5751953125), ('/blog/public/cards.min.js?v=22080dfa02', 0.130859375), ('/blog/public/member-attribution.min.js?v=22080dfa02', 0.130859375), ('https://www.googletagmanager.com/gtag/js?id=UA-147725948-3', 0.0), ('https://polyfill.io/v3/polyfill.min.js?features=IntersectionObserver%2CPromise%2CArray.prototype.includes%2CString.prototype.endsWith%2CString.prototype.startsWith%2CObject.assign%2CNodeList.prototype.forEach', 14.1123046875), ('/blog/assets/js/vendor/content-api.min.js?v=22080dfa02', 0.130859375), ('/blog/assets/js/manifest.js?v=22080dfa02', 0.130859375), ('/blog/assets/js/vendor.js?v=22080dfa02', 0.130859375), ('/blog/assets/js/app.js?v=22080dfa02', 0.130859375), ('/blog/assets/js/post.js?v=22080dfa02', 0.130859375), ('/blog/assets/css/app.css?v=22080dfa02', 0.130859375), ('/blog/public/cards.min.css?v=22080dfa02', 0.130859375)]\n",
      "Analyzing 51 of 523: https://fampay.in/blog/author/ayushi/\n",
      "Page size: 23.4169921875 KB\n",
      "Resource sizes: [('https://fampay.in/blog/content/images/2020/11/logofilewhite-11-2.png', 0.130859375), ('https://fampay.in/blog/content/images/2020/11/logofilewhite-11-2.png', 0.130859375), ('https://cdn.jsdelivr.net/ghost/portal@~2.30/umd/portal.min.js', 170.8154296875), ('https://cdn.jsdelivr.net/ghost/sodo-search@~1.1/umd/sodo-search.min.js', 95.5751953125), ('/blog/public/cards.min.js?v=22080dfa02', 0.130859375), ('/blog/public/member-attribution.min.js?v=22080dfa02', 0.130859375), ('https://www.googletagmanager.com/gtag/js?id=UA-147725948-3', 0.0), ('https://polyfill.io/v3/polyfill.min.js?features=IntersectionObserver%2CPromise%2CArray.prototype.includes%2CString.prototype.endsWith%2CString.prototype.startsWith%2CObject.assign%2CNodeList.prototype.forEach', 14.1123046875), ('/blog/assets/js/vendor/content-api.min.js?v=22080dfa02', 0.130859375), ('/blog/assets/js/manifest.js?v=22080dfa02', 0.130859375), ('/blog/assets/js/vendor.js?v=22080dfa02', 0.130859375), ('/blog/assets/js/app.js?v=22080dfa02', 0.130859375), ('/blog/assets/css/app.css?v=22080dfa02', 0.130859375), ('/blog/public/cards.min.css?v=22080dfa02', 0.130859375)]\n",
      "Analyzing 52 of 523: https://fampay.in/blog/tag/culture/\n",
      "Page size: 32.498046875 KB\n",
      "Resource sizes: [('https://fampay.in/blog/content/images/2020/11/logofilewhite-11-2.png', 0.130859375), ('https://fampay.in/blog/content/images/2020/11/logofilewhite-11-2.png', 0.130859375), ('https://cdn.jsdelivr.net/ghost/portal@~2.30/umd/portal.min.js', 170.8154296875), ('https://cdn.jsdelivr.net/ghost/sodo-search@~1.1/umd/sodo-search.min.js', 95.5751953125), ('/blog/public/cards.min.js?v=22080dfa02', 0.130859375), ('/blog/public/member-attribution.min.js?v=22080dfa02', 0.130859375), ('https://www.googletagmanager.com/gtag/js?id=UA-147725948-3', 0.0), ('https://polyfill.io/v3/polyfill.min.js?features=IntersectionObserver%2CPromise%2CArray.prototype.includes%2CString.prototype.endsWith%2CString.prototype.startsWith%2CObject.assign%2CNodeList.prototype.forEach', 14.1123046875), ('/blog/assets/js/vendor/content-api.min.js?v=22080dfa02', 0.130859375), ('/blog/assets/js/manifest.js?v=22080dfa02', 0.130859375), ('/blog/assets/js/vendor.js?v=22080dfa02', 0.130859375), ('/blog/assets/js/app.js?v=22080dfa02', 0.130859375), ('/blog/assets/css/app.css?v=22080dfa02', 0.130859375), ('/blog/public/cards.min.css?v=22080dfa02', 0.130859375)]\n",
      "Analyzing 53 of 523: https://fampay.in/blog/12-queer-led-small-businesses-you-need-to-support-this-pride-month/\n",
      "Page size: 47.44921875 KB\n",
      "Resource sizes: [('https://fampay.in/blog/content/images/2020/11/logofilewhite-11-2.png', 0.130859375), ('https://fampay.in/blog/content/images/2020/11/logofilewhite-11-2.png', 0.130859375), ('https://fampay.in/blog/content/images/2021/06/IMG-3577.jpg', 0.130859375), ('https://fampay.in/blog/content/images/2021/06/IMG-3578.jpg', 0.130859375), ('https://fampay.in/blog/content/images/2021/06/IMG-3579.jpg', 0.130859375), ('https://fampay.in/blog/content/images/2021/06/IMG-3581.jpg', 0.130859375), ('https://fampay.in/blog/content/images/2021/06/IMG-3582.jpg', 0.130859375), ('https://fampay.in/blog/content/images/2021/06/IMG-3583.jpg', 0.130859375), ('https://fampay.in/blog/content/images/2021/06/IMG-3584.jpg', 0.130859375), ('https://fampay.in/blog/content/images/2021/06/IMG-3585.jpg', 0.130859375), ('https://fampay.in/blog/content/images/2021/06/IMG-3586.jpg', 0.130859375), ('https://fampay.in/blog/content/images/2021/06/IMG-3590.jpg', 0.130859375), ('https://fampay.in/blog/content/images/2021/06/IMG-3588.jpg', 0.130859375), ('https://fampay.in/blog/content/images/2021/06/IMG-3589.jpg', 0.130859375), ('/blog/assets/images/success.png?v=22080dfa02', 0.130859375), ('https://cdn.jsdelivr.net/ghost/portal@~2.30/umd/portal.min.js', 170.8154296875), ('https://cdn.jsdelivr.net/ghost/sodo-search@~1.1/umd/sodo-search.min.js', 95.5751953125), ('/blog/public/cards.min.js?v=22080dfa02', 0.130859375), ('/blog/public/member-attribution.min.js?v=22080dfa02', 0.130859375), ('https://www.googletagmanager.com/gtag/js?id=UA-147725948-3', 0.0), ('https://polyfill.io/v3/polyfill.min.js?features=IntersectionObserver%2CPromise%2CArray.prototype.includes%2CString.prototype.endsWith%2CString.prototype.startsWith%2CObject.assign%2CNodeList.prototype.forEach', 14.1123046875), ('/blog/assets/js/vendor/content-api.min.js?v=22080dfa02', 0.130859375), ('/blog/assets/js/manifest.js?v=22080dfa02', 0.130859375), ('/blog/assets/js/vendor.js?v=22080dfa02', 0.130859375), ('/blog/assets/js/app.js?v=22080dfa02', 0.130859375), ('/blog/assets/js/post.js?v=22080dfa02', 0.130859375), ('/blog/assets/css/app.css?v=22080dfa02', 0.130859375), ('/blog/public/cards.min.css?v=22080dfa02', 0.130859375)]\n",
      "Analyzing 54 of 523: https://fampay.in/blog/3-financial-lessons-from-nature-itself/\n",
      "Page size: 44.9775390625 KB\n",
      "Resource sizes: [('https://fampay.in/blog/content/images/2020/11/logofilewhite-11-2.png', 0.130859375), ('https://fampay.in/blog/content/images/2020/11/logofilewhite-11-2.png', 0.130859375), ('https://fampay.in/blog/content/images/2021/04/nature-coexisting.jpeg', 0.130859375), ('https://fampay.in/blog/content/images/2021/04/image-14.png', 0.130859375), ('https://fampay.in/blog/content/images/2021/04/Tree-ecosystem22.jpg', 0.130859375), ('https://fampay.in/blog/content/images/2021/04/Bees-storing-food.jpg', 0.130859375), ('https://fampay.in/blog/favicon.png', 0.130859375), ('https://fampay.in/blog/content/images/2020/12/ray-sangga-kusuma-7uSrOyY1U0I-unsplash1.jpg', 0.130859375), ('/blog/assets/images/success.png?v=22080dfa02', 0.130859375), ('https://cdn.jsdelivr.net/ghost/portal@~2.30/umd/portal.min.js', 170.8154296875), ('https://cdn.jsdelivr.net/ghost/sodo-search@~1.1/umd/sodo-search.min.js', 95.5751953125), ('/blog/public/cards.min.js?v=22080dfa02', 0.130859375), ('/blog/public/member-attribution.min.js?v=22080dfa02', 0.130859375), ('https://www.googletagmanager.com/gtag/js?id=UA-147725948-3', 0.0), ('https://polyfill.io/v3/polyfill.min.js?features=IntersectionObserver%2CPromise%2CArray.prototype.includes%2CString.prototype.endsWith%2CString.prototype.startsWith%2CObject.assign%2CNodeList.prototype.forEach', 14.1123046875), ('/blog/assets/js/vendor/content-api.min.js?v=22080dfa02', 0.130859375), ('/blog/assets/js/manifest.js?v=22080dfa02', 0.130859375), ('/blog/assets/js/vendor.js?v=22080dfa02', 0.130859375), ('/blog/assets/js/app.js?v=22080dfa02', 0.130859375), ('/blog/assets/js/post.js?v=22080dfa02', 0.130859375), ('/blog/assets/css/app.css?v=22080dfa02', 0.130859375), ('/blog/public/cards.min.css?v=22080dfa02', 0.130859375)]\n",
      "Analyzing 55 of 523: https://fampay.in/blog/living-life-genz-style/\n",
      "Page size: 40.5654296875 KB\n",
      "Resource sizes: [('https://fampay.in/blog/content/images/2020/11/logofilewhite-11-2.png', 0.130859375), ('https://fampay.in/blog/content/images/2020/11/logofilewhite-11-2.png', 0.130859375), ('https://fampay.in/blog/content/images/2020/10/king.gif', 0.130859375), ('https://fampay.in/blog/content/images/2020/10/finally-final.png', 0.130859375), ('https://fampay.in/blog/content/images/2020/10/tenor.gif', 0.130859375), ('https://fampay.in/blog/content/images/2020/10/giphy-2.gif', 0.130859375), ('https://fampay.in/blog/content/images/2020/10/giphy-3.gif', 0.130859375), ('https://fampay.in/blog/content/images/2020/10/DSC01983-2.jpg', 0.130859375), ('https://fampay.in/blog/content/images/2020/10/DSC02327-2.jpg', 0.130859375), ('https://fampay.in/blog/content/images/2020/10/tenor-1.gif', 0.130859375), ('/blog/assets/images/success.png?v=22080dfa02', 0.130859375), ('https://cdn.jsdelivr.net/ghost/portal@~2.30/umd/portal.min.js', 170.8154296875), ('https://cdn.jsdelivr.net/ghost/sodo-search@~1.1/umd/sodo-search.min.js', 95.5751953125), ('/blog/public/cards.min.js?v=22080dfa02', 0.130859375), ('/blog/public/member-attribution.min.js?v=22080dfa02', 0.130859375), ('https://www.googletagmanager.com/gtag/js?id=UA-147725948-3', 0.0), ('https://polyfill.io/v3/polyfill.min.js?features=IntersectionObserver%2CPromise%2CArray.prototype.includes%2CString.prototype.endsWith%2CString.prototype.startsWith%2CObject.assign%2CNodeList.prototype.forEach', 14.1123046875), ('/blog/assets/js/vendor/content-api.min.js?v=22080dfa02', 0.130859375), ('/blog/assets/js/manifest.js?v=22080dfa02', 0.130859375), ('/blog/assets/js/vendor.js?v=22080dfa02', 0.130859375), ('/blog/assets/js/app.js?v=22080dfa02', 0.130859375), ('/blog/assets/js/post.js?v=22080dfa02', 0.130859375), ('/blog/assets/css/app.css?v=22080dfa02', 0.130859375), ('/blog/public/cards.min.css?v=22080dfa02', 0.130859375)]\n",
      "Analyzing 56 of 523: https://fampay.in/blog/remote-working-divided-by-distance-united-by-mission/\n",
      "Page size: 42.27734375 KB\n",
      "Resource sizes: [('https://fampay.in/blog/content/images/2020/11/logofilewhite-11-2.png', 0.130859375), ('https://fampay.in/blog/content/images/2020/11/logofilewhite-11-2.png', 0.130859375), ('https://fampay.in/blog/content/images/2020/09/NEW-IMAGE.png', 0.130859375), ('https://fampay.in/blog/content/images/2020/08/REMOTE-LOGO.png', 0.130859375), ('/blog/assets/images/success.png?v=22080dfa02', 0.130859375), ('https://cdn.jsdelivr.net/ghost/portal@~2.30/umd/portal.min.js', 170.8154296875), ('https://cdn.jsdelivr.net/ghost/sodo-search@~1.1/umd/sodo-search.min.js', 95.5751953125), ('/blog/public/cards.min.js?v=22080dfa02', 0.130859375), ('/blog/public/member-attribution.min.js?v=22080dfa02', 0.130859375), ('https://www.googletagmanager.com/gtag/js?id=UA-147725948-3', 0.0), ('https://polyfill.io/v3/polyfill.min.js?features=IntersectionObserver%2CPromise%2CArray.prototype.includes%2CString.prototype.endsWith%2CString.prototype.startsWith%2CObject.assign%2CNodeList.prototype.forEach', 14.1123046875), ('/blog/assets/js/vendor/content-api.min.js?v=22080dfa02', 0.130859375), ('/blog/assets/js/manifest.js?v=22080dfa02', 0.130859375), ('/blog/assets/js/vendor.js?v=22080dfa02', 0.130859375), ('/blog/assets/js/app.js?v=22080dfa02', 0.130859375), ('/blog/assets/js/post.js?v=22080dfa02', 0.130859375), ('/blog/assets/css/app.css?v=22080dfa02', 0.130859375), ('/blog/public/cards.min.css?v=22080dfa02', 0.130859375)]\n",
      "Analyzing 57 of 523: https://fampay.in/blog/tag/growth/\n",
      "Page size: 36.1044921875 KB\n",
      "Resource sizes: [('https://fampay.in/blog/content/images/2020/11/logofilewhite-11-2.png', 0.130859375), ('https://fampay.in/blog/content/images/2020/11/logofilewhite-11-2.png', 0.130859375), ('https://cdn.jsdelivr.net/ghost/portal@~2.30/umd/portal.min.js', 170.8154296875), ('https://cdn.jsdelivr.net/ghost/sodo-search@~1.1/umd/sodo-search.min.js', 95.5751953125), ('/blog/public/cards.min.js?v=22080dfa02', 0.130859375), ('/blog/public/member-attribution.min.js?v=22080dfa02', 0.130859375), ('https://www.googletagmanager.com/gtag/js?id=UA-147725948-3', 0.0), ('https://polyfill.io/v3/polyfill.min.js?features=IntersectionObserver%2CPromise%2CArray.prototype.includes%2CString.prototype.endsWith%2CString.prototype.startsWith%2CObject.assign%2CNodeList.prototype.forEach', 14.1123046875), ('/blog/assets/js/vendor/content-api.min.js?v=22080dfa02', 0.130859375), ('/blog/assets/js/manifest.js?v=22080dfa02', 0.130859375), ('/blog/assets/js/vendor.js?v=22080dfa02', 0.130859375), ('/blog/assets/js/app.js?v=22080dfa02', 0.130859375), ('/blog/assets/css/app.css?v=22080dfa02', 0.130859375), ('/blog/public/cards.min.css?v=22080dfa02', 0.130859375)]\n",
      "Analyzing 58 of 523: https://fampay.in/blog/getting-your-generations-right-millennials-v-s-genz/\n",
      "Page size: 43.10546875 KB\n",
      "Resource sizes: [('https://fampay.in/blog/content/images/2020/11/logofilewhite-11-2.png', 0.130859375), ('https://fampay.in/blog/content/images/2020/11/logofilewhite-11-2.png', 0.130859375), ('https://fampay.in/blog/content/images/2021/04/image.png', 0.130859375), ('https://fampay.in/blog/content/images/2021/04/image-9.png', 0.130859375), ('https://fampay.in/blog/content/images/2021/04/image-3.png', 0.130859375), ('https://fampay.in/blog/content/images/2021/04/image-4.png', 0.130859375), ('https://fampay.in/blog/content/images/2021/04/image-5.png', 0.130859375), ('https://fampay.in/blog/content/images/2021/04/image-1.png', 0.130859375), ('https://fampay.in/blog/content/images/2021/04/image-8.png', 0.130859375), ('https://fampay.in/blog/content/images/2021/04/image-7.png', 0.130859375), ('/blog/assets/images/success.png?v=22080dfa02', 0.130859375), ('https://cdn.jsdelivr.net/ghost/portal@~2.30/umd/portal.min.js', 170.8154296875), ('https://cdn.jsdelivr.net/ghost/sodo-search@~1.1/umd/sodo-search.min.js', 95.5751953125), ('/blog/public/cards.min.js?v=22080dfa02', 0.130859375), ('/blog/public/member-attribution.min.js?v=22080dfa02', 0.130859375), ('https://www.googletagmanager.com/gtag/js?id=UA-147725948-3', 0.0), ('https://polyfill.io/v3/polyfill.min.js?features=IntersectionObserver%2CPromise%2CArray.prototype.includes%2CString.prototype.endsWith%2CString.prototype.startsWith%2CObject.assign%2CNodeList.prototype.forEach', 14.1123046875), ('/blog/assets/js/vendor/content-api.min.js?v=22080dfa02', 0.130859375), ('/blog/assets/js/manifest.js?v=22080dfa02', 0.130859375), ('/blog/assets/js/vendor.js?v=22080dfa02', 0.130859375), ('/blog/assets/js/app.js?v=22080dfa02', 0.130859375), ('/blog/assets/js/post.js?v=22080dfa02', 0.130859375), ('/blog/assets/css/app.css?v=22080dfa02', 0.130859375), ('/blog/public/cards.min.css?v=22080dfa02', 0.130859375)]\n",
      "Analyzing 59 of 523: https://fampay.in/blog/author/sajal/\n",
      "Page size: 23.5302734375 KB\n",
      "Resource sizes: [('https://fampay.in/blog/content/images/2020/11/logofilewhite-11-2.png', 0.130859375), ('https://fampay.in/blog/content/images/2020/11/logofilewhite-11-2.png', 0.130859375), ('https://cdn.jsdelivr.net/ghost/portal@~2.30/umd/portal.min.js', 170.8154296875), ('https://cdn.jsdelivr.net/ghost/sodo-search@~1.1/umd/sodo-search.min.js', 95.5751953125), ('/blog/public/cards.min.js?v=22080dfa02', 0.130859375), ('/blog/public/member-attribution.min.js?v=22080dfa02', 0.130859375), ('https://www.googletagmanager.com/gtag/js?id=UA-147725948-3', 0.0), ('https://polyfill.io/v3/polyfill.min.js?features=IntersectionObserver%2CPromise%2CArray.prototype.includes%2CString.prototype.endsWith%2CString.prototype.startsWith%2CObject.assign%2CNodeList.prototype.forEach', 14.1123046875), ('/blog/assets/js/vendor/content-api.min.js?v=22080dfa02', 0.130859375), ('/blog/assets/js/manifest.js?v=22080dfa02', 0.130859375), ('/blog/assets/js/vendor.js?v=22080dfa02', 0.130859375), ('/blog/assets/js/app.js?v=22080dfa02', 0.130859375), ('/blog/assets/css/app.css?v=22080dfa02', 0.130859375), ('/blog/public/cards.min.css?v=22080dfa02', 0.130859375)]\n",
      "Analyzing 60 of 523: https://fampay.in/blog/when-building-for-genzs-build-it-on-discord/\n",
      "Page size: 42.5419921875 KB\n",
      "Resource sizes: [('https://fampay.in/blog/content/images/2020/11/logofilewhite-11-2.png', 0.130859375), ('https://fampay.in/blog/content/images/2020/11/logofilewhite-11-2.png', 0.130859375), ('https://fampay.in/blog/content/images/2021/03/image.png', 0.130859375), ('https://fampay.in/blog/content/images/2021/03/2021-03-23--3-.png', 0.130859375), ('https://fampay.in/blog/content/images/2021/03/2021-03-23--5--2.png', 0.130859375), ('https://fampay.in/blog/content/images/2021/03/2021-03-23--4-.png', 0.130859375), ('/blog/assets/images/success.png?v=22080dfa02', 0.130859375), ('https://cdn.jsdelivr.net/ghost/portal@~2.30/umd/portal.min.js', 170.8154296875), ('https://cdn.jsdelivr.net/ghost/sodo-search@~1.1/umd/sodo-search.min.js', 95.5751953125), ('/blog/public/cards.min.js?v=22080dfa02', 0.130859375), ('/blog/public/member-attribution.min.js?v=22080dfa02', 0.130859375), ('https://www.googletagmanager.com/gtag/js?id=UA-147725948-3', 0.0), ('https://polyfill.io/v3/polyfill.min.js?features=IntersectionObserver%2CPromise%2CArray.prototype.includes%2CString.prototype.endsWith%2CString.prototype.startsWith%2CObject.assign%2CNodeList.prototype.forEach', 14.1123046875), ('/blog/assets/js/vendor/content-api.min.js?v=22080dfa02', 0.130859375), ('/blog/assets/js/manifest.js?v=22080dfa02', 0.130859375), ('/blog/assets/js/vendor.js?v=22080dfa02', 0.130859375), ('/blog/assets/js/app.js?v=22080dfa02', 0.130859375), ('/blog/assets/js/post.js?v=22080dfa02', 0.130859375), ('/blog/assets/css/app.css?v=22080dfa02', 0.130859375), ('/blog/public/cards.min.css?v=22080dfa02', 0.130859375)]\n",
      "Analyzing 61 of 523: https://fampay.in/blog/author/aditi/\n",
      "Page size: 23.8271484375 KB\n",
      "Resource sizes: [('https://fampay.in/blog/content/images/2020/11/logofilewhite-11-2.png', 0.130859375), ('https://fampay.in/blog/content/images/2020/11/logofilewhite-11-2.png', 0.130859375), ('https://cdn.jsdelivr.net/ghost/portal@~2.30/umd/portal.min.js', 170.8154296875), ('https://cdn.jsdelivr.net/ghost/sodo-search@~1.1/umd/sodo-search.min.js', 95.5751953125), ('/blog/public/cards.min.js?v=22080dfa02', 0.130859375), ('/blog/public/member-attribution.min.js?v=22080dfa02', 0.130859375), ('https://www.googletagmanager.com/gtag/js?id=UA-147725948-3', 0.0), ('https://polyfill.io/v3/polyfill.min.js?features=IntersectionObserver%2CPromise%2CArray.prototype.includes%2CString.prototype.endsWith%2CString.prototype.startsWith%2CObject.assign%2CNodeList.prototype.forEach', 14.1123046875), ('/blog/assets/js/vendor/content-api.min.js?v=22080dfa02', 0.130859375), ('/blog/assets/js/manifest.js?v=22080dfa02', 0.130859375), ('/blog/assets/js/vendor.js?v=22080dfa02', 0.130859375), ('/blog/assets/js/app.js?v=22080dfa02', 0.130859375), ('/blog/assets/css/app.css?v=22080dfa02', 0.130859375), ('/blog/public/cards.min.css?v=22080dfa02', 0.130859375)]\n",
      "Analyzing 62 of 523: https://fampay.in/blog/club-teens-one-stop-online-community/\n",
      "Page size: 41.884765625 KB\n",
      "Resource sizes: [('https://fampay.in/blog/content/images/2020/11/logofilewhite-11-2.png', 0.130859375), ('https://fampay.in/blog/content/images/2020/11/logofilewhite-11-2.png', 0.130859375), ('https://fampay.in/blog/content/images/2021/02/image-1.png', 0.130859375), ('https://fampay.in/blog/content/images/2021/02/image-3.png', 0.130859375), ('https://fampay.in/blog/content/images/2021/02/image-2.png', 0.130859375), ('https://fampay.in/blog/content/images/2021/02/image-4.png', 0.130859375), ('https://fampay.in/blog/content/images/2021/02/image.png', 0.130859375), ('/blog/assets/images/success.png?v=22080dfa02', 0.130859375), ('https://cdn.jsdelivr.net/ghost/portal@~2.30/umd/portal.min.js', 170.8154296875), ('https://cdn.jsdelivr.net/ghost/sodo-search@~1.1/umd/sodo-search.min.js', 95.5751953125), ('/blog/public/cards.min.js?v=22080dfa02', 0.130859375), ('/blog/public/member-attribution.min.js?v=22080dfa02', 0.130859375), ('https://www.googletagmanager.com/gtag/js?id=UA-147725948-3', 0.0), ('https://polyfill.io/v3/polyfill.min.js?features=IntersectionObserver%2CPromise%2CArray.prototype.includes%2CString.prototype.endsWith%2CString.prototype.startsWith%2CObject.assign%2CNodeList.prototype.forEach', 14.1123046875), ('/blog/assets/js/vendor/content-api.min.js?v=22080dfa02', 0.130859375), ('/blog/assets/js/manifest.js?v=22080dfa02', 0.130859375), ('/blog/assets/js/vendor.js?v=22080dfa02', 0.130859375), ('/blog/assets/js/app.js?v=22080dfa02', 0.130859375), ('/blog/assets/js/post.js?v=22080dfa02', 0.130859375), ('/blog/assets/css/app.css?v=22080dfa02', 0.130859375), ('/blog/public/cards.min.css?v=22080dfa02', 0.130859375)]\n",
      "Analyzing 63 of 523: https://fampay.in/blog/author/kaavyya/\n",
      "Page size: 23.5166015625 KB\n",
      "Resource sizes: [('https://fampay.in/blog/content/images/2020/11/logofilewhite-11-2.png', 0.130859375), ('https://fampay.in/blog/content/images/2020/11/logofilewhite-11-2.png', 0.130859375), ('https://cdn.jsdelivr.net/ghost/portal@~2.30/umd/portal.min.js', 170.8154296875), ('https://cdn.jsdelivr.net/ghost/sodo-search@~1.1/umd/sodo-search.min.js', 95.5751953125), ('/blog/public/cards.min.js?v=22080dfa02', 0.130859375), ('/blog/public/member-attribution.min.js?v=22080dfa02', 0.130859375), ('https://www.googletagmanager.com/gtag/js?id=UA-147725948-3', 0.0), ('https://polyfill.io/v3/polyfill.min.js?features=IntersectionObserver%2CPromise%2CArray.prototype.includes%2CString.prototype.endsWith%2CString.prototype.startsWith%2CObject.assign%2CNodeList.prototype.forEach', 14.1123046875), ('/blog/assets/js/vendor/content-api.min.js?v=22080dfa02', 0.130859375), ('/blog/assets/js/manifest.js?v=22080dfa02', 0.130859375), ('/blog/assets/js/vendor.js?v=22080dfa02', 0.130859375), ('/blog/assets/js/app.js?v=22080dfa02', 0.130859375), ('/blog/assets/css/app.css?v=22080dfa02', 0.130859375), ('/blog/public/cards.min.css?v=22080dfa02', 0.130859375)]\n",
      "Analyzing 64 of 523: https://fampay.in/blog/effectively-harnessing-motion-design-for-genzs/\n",
      "Page size: 45.0908203125 KB\n",
      "Resource sizes: [('https://fampay.in/blog/content/images/2020/11/logofilewhite-11-2.png', 0.130859375), ('https://fampay.in/blog/content/images/2020/11/logofilewhite-11-2.png', 0.130859375), ('https://fampay.in/blog/content/images/2021/02/GIF-10.gif', 0.130859375), ('https://fampay.in/blog/content/images/2021/02/1-1.jpg', 0.130859375), ('https://fampay.in/blog/content/images/2021/02/2.jpg', 0.130859375), ('https://fampay.in/blog/content/images/2021/02/GIF-1.gif', 0.130859375), ('https://fampay.in/blog/content/images/2021/02/GIF-2.gif', 0.130859375), ('https://fampay.in/blog/content/images/2021/02/GIF-6.gif', 0.130859375), ('https://fampay.in/blog/content/images/2021/02/GIF-4.gif', 0.130859375), ('https://fampay.in/blog/content/images/2021/02/GIF-7-B.gif', 0.130859375), ('https://fampay.in/blog/content/images/2021/02/GIF-5-B.gif', 0.130859375), ('https://fampay.in/blog/content/images/2021/02/GIF-8.gif', 0.130859375), ('https://fampay.in/blog/content/images/2021/02/GIF-9.gif', 0.130859375), ('/blog/assets/images/success.png?v=22080dfa02', 0.130859375), ('https://cdn.jsdelivr.net/ghost/portal@~2.30/umd/portal.min.js', 170.8154296875), ('https://cdn.jsdelivr.net/ghost/sodo-search@~1.1/umd/sodo-search.min.js', 95.5751953125), ('/blog/public/cards.min.js?v=22080dfa02', 0.130859375), ('/blog/public/member-attribution.min.js?v=22080dfa02', 0.130859375), ('https://www.googletagmanager.com/gtag/js?id=UA-147725948-3', 0.0), ('https://polyfill.io/v3/polyfill.min.js?features=IntersectionObserver%2CPromise%2CArray.prototype.includes%2CString.prototype.endsWith%2CString.prototype.startsWith%2CObject.assign%2CNodeList.prototype.forEach', 14.1123046875), ('/blog/assets/js/vendor/content-api.min.js?v=22080dfa02', 0.130859375), ('/blog/assets/js/manifest.js?v=22080dfa02', 0.130859375), ('/blog/assets/js/vendor.js?v=22080dfa02', 0.130859375), ('/blog/assets/js/app.js?v=22080dfa02', 0.130859375), ('/blog/assets/js/post.js?v=22080dfa02', 0.130859375), ('/blog/assets/css/app.css?v=22080dfa02', 0.130859375), ('/blog/public/cards.min.css?v=22080dfa02', 0.130859375)]\n",
      "Analyzing 65 of 523: https://fampay.in/blog/author/hrishikesh/\n",
      "Page size: 23.4638671875 KB\n",
      "Resource sizes: [('https://fampay.in/blog/content/images/2020/11/logofilewhite-11-2.png', 0.130859375), ('https://fampay.in/blog/content/images/2020/11/logofilewhite-11-2.png', 0.130859375), ('https://cdn.jsdelivr.net/ghost/portal@~2.30/umd/portal.min.js', 170.8154296875), ('https://cdn.jsdelivr.net/ghost/sodo-search@~1.1/umd/sodo-search.min.js', 95.5751953125), ('/blog/public/cards.min.js?v=22080dfa02', 0.130859375), ('/blog/public/member-attribution.min.js?v=22080dfa02', 0.130859375), ('https://www.googletagmanager.com/gtag/js?id=UA-147725948-3', 0.0), ('https://polyfill.io/v3/polyfill.min.js?features=IntersectionObserver%2CPromise%2CArray.prototype.includes%2CString.prototype.endsWith%2CString.prototype.startsWith%2CObject.assign%2CNodeList.prototype.forEach', 14.1123046875), ('/blog/assets/js/vendor/content-api.min.js?v=22080dfa02', 0.130859375), ('/blog/assets/js/manifest.js?v=22080dfa02', 0.130859375), ('/blog/assets/js/vendor.js?v=22080dfa02', 0.130859375), ('/blog/assets/js/app.js?v=22080dfa02', 0.130859375), ('/blog/assets/css/app.css?v=22080dfa02', 0.130859375), ('/blog/public/cards.min.css?v=22080dfa02', 0.130859375)]\n",
      "Analyzing 66 of 523: https://fampay.in/blog/writing-content-for-a-content-saturated-generation/\n",
      "Page size: 48.61328125 KB\n",
      "Resource sizes: [('https://fampay.in/blog/content/images/2020/11/logofilewhite-11-2.png', 0.130859375), ('https://fampay.in/blog/content/images/2020/11/logofilewhite-11-2.png', 0.130859375), ('https://fampay.in/blog/content/images/2021/01/content.gif', 0.130859375), ('https://fampay.in/blog/content/images/2021/01/Untitled.png', 0.130859375), ('https://fampay.in/blog/content/images/2021/01/Untitled--1-.png', 0.130859375), ('https://fampay.in/blog/content/images/2021/01/Untitled--2-.png', 0.130859375), ('https://fampay.in/blog/content/images/2021/01/Untitled--3-.png', 0.130859375), ('https://fampay.in/blog/content/images/2021/01/Untitled--4-.png', 0.130859375), ('https://fampay.in/blog/content/images/2021/01/WhatsApp-Image-2021-01-14-at-11.54.50-AM--1-.jpeg', 0.130859375), ('https://fampay.in/blog/content/images/2021/01/WhatsApp-Image-2021-01-14-at-11.54.50-AM-1.jpeg', 0.130859375), ('https://fampay.in/blog/content/images/2021/01/Untitled--5-.png', 0.130859375), ('https://fampay.in/blog/content/images/2021/01/Untitled--6-.png', 0.130859375), ('https://fampay.in/blog/content/images/2021/01/Untitled--7-.png', 0.130859375), ('/blog/assets/images/success.png?v=22080dfa02', 0.130859375), ('https://cdn.jsdelivr.net/ghost/portal@~2.30/umd/portal.min.js', 170.8154296875), ('https://cdn.jsdelivr.net/ghost/sodo-search@~1.1/umd/sodo-search.min.js', 95.5751953125), ('/blog/public/cards.min.js?v=22080dfa02', 0.130859375), ('/blog/public/member-attribution.min.js?v=22080dfa02', 0.130859375), ('https://www.googletagmanager.com/gtag/js?id=UA-147725948-3', 0.0), ('https://polyfill.io/v3/polyfill.min.js?features=IntersectionObserver%2CPromise%2CArray.prototype.includes%2CString.prototype.endsWith%2CString.prototype.startsWith%2CObject.assign%2CNodeList.prototype.forEach', 14.1123046875), ('/blog/assets/js/vendor/content-api.min.js?v=22080dfa02', 0.130859375), ('/blog/assets/js/manifest.js?v=22080dfa02', 0.130859375), ('/blog/assets/js/vendor.js?v=22080dfa02', 0.130859375), ('/blog/assets/js/app.js?v=22080dfa02', 0.130859375), ('/blog/assets/js/post.js?v=22080dfa02', 0.130859375), ('/blog/assets/css/app.css?v=22080dfa02', 0.130859375), ('/blog/public/cards.min.css?v=22080dfa02', 0.130859375)]\n",
      "Analyzing 67 of 523: https://fampay.in/blog/author/diya/\n",
      "Page size: 23.43359375 KB\n",
      "Resource sizes: [('https://fampay.in/blog/content/images/2020/11/logofilewhite-11-2.png', 0.130859375), ('https://fampay.in/blog/content/images/2020/11/logofilewhite-11-2.png', 0.130859375), ('https://cdn.jsdelivr.net/ghost/portal@~2.30/umd/portal.min.js', 170.8154296875), ('https://cdn.jsdelivr.net/ghost/sodo-search@~1.1/umd/sodo-search.min.js', 95.5751953125), ('/blog/public/cards.min.js?v=22080dfa02', 0.130859375), ('/blog/public/member-attribution.min.js?v=22080dfa02', 0.130859375), ('https://www.googletagmanager.com/gtag/js?id=UA-147725948-3', 0.0), ('https://polyfill.io/v3/polyfill.min.js?features=IntersectionObserver%2CPromise%2CArray.prototype.includes%2CString.prototype.endsWith%2CString.prototype.startsWith%2CObject.assign%2CNodeList.prototype.forEach', 14.1123046875), ('/blog/assets/js/vendor/content-api.min.js?v=22080dfa02', 0.130859375), ('/blog/assets/js/manifest.js?v=22080dfa02', 0.130859375), ('/blog/assets/js/vendor.js?v=22080dfa02', 0.130859375), ('/blog/assets/js/app.js?v=22080dfa02', 0.130859375), ('/blog/assets/css/app.css?v=22080dfa02', 0.130859375), ('/blog/public/cards.min.css?v=22080dfa02', 0.130859375)]\n",
      "Analyzing 68 of 523: https://fampay.in/blog/how-to-grow-your-instagram-followers-a-quick-guide-for-all-genz-brands/\n",
      "Page size: 47.2783203125 KB\n",
      "Resource sizes: [('https://fampay.in/blog/content/images/2020/11/logofilewhite-11-2.png', 0.130859375), ('https://fampay.in/blog/content/images/2020/11/logofilewhite-11-2.png', 0.130859375), ('https://fampay.in/blog/content/images/2020/12/image-5.png', 0.130859375), ('https://fampay.in/blog/content/images/2020/12/image-6.png', 0.130859375), ('https://fampay.in/blog/content/images/2020/12/image-12.png', 0.130859375), ('https://fampay.in/blog/content/images/2020/12/image-7.png', 0.130859375), ('https://fampay.in/blog/content/images/2020/12/image-8.png', 0.130859375), ('https://fampay.in/blog/content/images/2020/12/image-9.png', 0.130859375), ('https://fampay.in/blog/content/images/2020/12/image-10.png', 0.130859375), ('https://fampay.in/blog/content/images/2020/12/image-11.png', 0.130859375), ('/blog/assets/images/success.png?v=22080dfa02', 0.130859375), ('https://cdn.jsdelivr.net/ghost/portal@~2.30/umd/portal.min.js', 170.8154296875), ('https://cdn.jsdelivr.net/ghost/sodo-search@~1.1/umd/sodo-search.min.js', 95.5751953125), ('/blog/public/cards.min.js?v=22080dfa02', 0.130859375), ('/blog/public/member-attribution.min.js?v=22080dfa02', 0.130859375), ('https://www.googletagmanager.com/gtag/js?id=UA-147725948-3', 0.0), ('https://polyfill.io/v3/polyfill.min.js?features=IntersectionObserver%2CPromise%2CArray.prototype.includes%2CString.prototype.endsWith%2CString.prototype.startsWith%2CObject.assign%2CNodeList.prototype.forEach', 14.1123046875), ('/blog/assets/js/vendor/content-api.min.js?v=22080dfa02', 0.130859375), ('/blog/assets/js/manifest.js?v=22080dfa02', 0.130859375), ('/blog/assets/js/vendor.js?v=22080dfa02', 0.130859375), ('/blog/assets/js/app.js?v=22080dfa02', 0.130859375), ('/blog/assets/js/post.js?v=22080dfa02', 0.130859375), ('/blog/assets/css/app.css?v=22080dfa02', 0.130859375), ('/blog/public/cards.min.css?v=22080dfa02', 0.130859375)]\n",
      "Analyzing 69 of 523: https://fampay.in/blog/author/tanya/\n",
      "Page size: 23.4765625 KB\n",
      "Resource sizes: [('https://fampay.in/blog/content/images/2020/11/logofilewhite-11-2.png', 0.130859375), ('https://fampay.in/blog/content/images/2020/11/logofilewhite-11-2.png', 0.130859375), ('https://cdn.jsdelivr.net/ghost/portal@~2.30/umd/portal.min.js', 170.8154296875), ('https://cdn.jsdelivr.net/ghost/sodo-search@~1.1/umd/sodo-search.min.js', 95.5751953125), ('/blog/public/cards.min.js?v=22080dfa02', 0.130859375), ('/blog/public/member-attribution.min.js?v=22080dfa02', 0.130859375), ('https://www.googletagmanager.com/gtag/js?id=UA-147725948-3', 0.0), ('https://polyfill.io/v3/polyfill.min.js?features=IntersectionObserver%2CPromise%2CArray.prototype.includes%2CString.prototype.endsWith%2CString.prototype.startsWith%2CObject.assign%2CNodeList.prototype.forEach', 14.1123046875), ('/blog/assets/js/vendor/content-api.min.js?v=22080dfa02', 0.130859375), ('/blog/assets/js/manifest.js?v=22080dfa02', 0.130859375), ('/blog/assets/js/vendor.js?v=22080dfa02', 0.130859375), ('/blog/assets/js/app.js?v=22080dfa02', 0.130859375), ('/blog/assets/css/app.css?v=22080dfa02', 0.130859375), ('/blog/public/cards.min.css?v=22080dfa02', 0.130859375)]\n",
      "Analyzing 70 of 523: https://fampay.in/blog/researching-the-unresearched-genzs/\n",
      "Page size: 43.04296875 KB\n",
      "Resource sizes: [('https://fampay.in/blog/content/images/2020/11/logofilewhite-11-2.png', 0.130859375), ('https://fampay.in/blog/content/images/2020/11/logofilewhite-11-2.png', 0.130859375), ('https://fampay.in/blog/content/images/2020/12/image-2.png', 0.130859375), ('https://lh4.googleusercontent.com/RxBAgouZzfs8glGP6BgBTPXhsYoAKXqDRU6Cc5gOmk41v7goDfLfuZSKZPc6E6vgmBWxG5WzipSH5Mrk7lS9erKd1_5TGs2XgCcZKQdUOVXv5zqKvlgjg5bhDyCFSN_KITQQH2G3', 0.0), ('https://fampay.in/blog/content/images/2020/12/image.png', 0.130859375), ('https://fampay.in/blog/content/images/2020/12/image-3.png', 0.130859375), ('https://fampay.in/blog/content/images/2020/12/image-4.png', 0.130859375), ('/blog/assets/images/success.png?v=22080dfa02', 0.130859375), ('https://cdn.jsdelivr.net/ghost/portal@~2.30/umd/portal.min.js', 170.8154296875), ('https://cdn.jsdelivr.net/ghost/sodo-search@~1.1/umd/sodo-search.min.js', 95.5751953125), ('/blog/public/cards.min.js?v=22080dfa02', 0.130859375), ('/blog/public/member-attribution.min.js?v=22080dfa02', 0.130859375), ('https://www.googletagmanager.com/gtag/js?id=UA-147725948-3', 0.0), ('https://polyfill.io/v3/polyfill.min.js?features=IntersectionObserver%2CPromise%2CArray.prototype.includes%2CString.prototype.endsWith%2CString.prototype.startsWith%2CObject.assign%2CNodeList.prototype.forEach', 14.1123046875), ('/blog/assets/js/vendor/content-api.min.js?v=22080dfa02', 0.130859375), ('/blog/assets/js/manifest.js?v=22080dfa02', 0.130859375), ('/blog/assets/js/vendor.js?v=22080dfa02', 0.130859375), ('/blog/assets/js/app.js?v=22080dfa02', 0.130859375), ('/blog/assets/js/post.js?v=22080dfa02', 0.130859375), ('/blog/assets/css/app.css?v=22080dfa02', 0.130859375), ('/blog/public/cards.min.css?v=22080dfa02', 0.130859375)]\n",
      "Analyzing 71 of 523: https://fampay.in/blog/author/charvi/\n",
      "Page size: 23.3759765625 KB\n",
      "Resource sizes: [('https://fampay.in/blog/content/images/2020/11/logofilewhite-11-2.png', 0.130859375), ('https://fampay.in/blog/content/images/2020/11/logofilewhite-11-2.png', 0.130859375), ('https://cdn.jsdelivr.net/ghost/portal@~2.30/umd/portal.min.js', 170.8154296875), ('https://cdn.jsdelivr.net/ghost/sodo-search@~1.1/umd/sodo-search.min.js', 95.5751953125), ('/blog/public/cards.min.js?v=22080dfa02', 0.130859375), ('/blog/public/member-attribution.min.js?v=22080dfa02', 0.130859375), ('https://www.googletagmanager.com/gtag/js?id=UA-147725948-3', 0.0), ('https://polyfill.io/v3/polyfill.min.js?features=IntersectionObserver%2CPromise%2CArray.prototype.includes%2CString.prototype.endsWith%2CString.prototype.startsWith%2CObject.assign%2CNodeList.prototype.forEach', 14.1123046875), ('/blog/assets/js/vendor/content-api.min.js?v=22080dfa02', 0.130859375), ('/blog/assets/js/manifest.js?v=22080dfa02', 0.130859375), ('/blog/assets/js/vendor.js?v=22080dfa02', 0.130859375), ('/blog/assets/js/app.js?v=22080dfa02', 0.130859375), ('/blog/assets/css/app.css?v=22080dfa02', 0.130859375), ('/blog/public/cards.min.css?v=22080dfa02', 0.130859375)]\n",
      "Analyzing 72 of 523: https://fampay.in/blog/tag/growth/page/2/\n",
      "Page size: 24.853515625 KB\n",
      "Resource sizes: [('https://fampay.in/blog/content/images/2020/11/logofilewhite-11-2.png', 0.130859375), ('https://fampay.in/blog/content/images/2020/11/logofilewhite-11-2.png', 0.130859375), ('https://cdn.jsdelivr.net/ghost/portal@~2.30/umd/portal.min.js', 170.8154296875), ('https://cdn.jsdelivr.net/ghost/sodo-search@~1.1/umd/sodo-search.min.js', 95.5751953125), ('/blog/public/cards.min.js?v=22080dfa02', 0.130859375), ('/blog/public/member-attribution.min.js?v=22080dfa02', 0.130859375), ('https://www.googletagmanager.com/gtag/js?id=UA-147725948-3', 0.0), ('https://polyfill.io/v3/polyfill.min.js?features=IntersectionObserver%2CPromise%2CArray.prototype.includes%2CString.prototype.endsWith%2CString.prototype.startsWith%2CObject.assign%2CNodeList.prototype.forEach', 14.1123046875), ('/blog/assets/js/vendor/content-api.min.js?v=22080dfa02', 0.130859375), ('/blog/assets/js/manifest.js?v=22080dfa02', 0.130859375), ('/blog/assets/js/vendor.js?v=22080dfa02', 0.130859375), ('/blog/assets/js/app.js?v=22080dfa02', 0.130859375), ('/blog/assets/css/app.css?v=22080dfa02', 0.130859375), ('/blog/public/cards.min.css?v=22080dfa02', 0.130859375)]\n",
      "Analyzing 73 of 523: https://fampay.in/blog/tag/lifestyle/\n",
      "Page size: 36.31640625 KB\n",
      "Resource sizes: [('https://fampay.in/blog/content/images/2020/11/logofilewhite-11-2.png', 0.130859375), ('https://fampay.in/blog/content/images/2020/11/logofilewhite-11-2.png', 0.130859375), ('https://cdn.jsdelivr.net/ghost/portal@~2.30/umd/portal.min.js', 170.8154296875), ('https://cdn.jsdelivr.net/ghost/sodo-search@~1.1/umd/sodo-search.min.js', 95.5751953125), ('/blog/public/cards.min.js?v=22080dfa02', 0.130859375), ('/blog/public/member-attribution.min.js?v=22080dfa02', 0.130859375), ('https://www.googletagmanager.com/gtag/js?id=UA-147725948-3', 0.0), ('https://polyfill.io/v3/polyfill.min.js?features=IntersectionObserver%2CPromise%2CArray.prototype.includes%2CString.prototype.endsWith%2CString.prototype.startsWith%2CObject.assign%2CNodeList.prototype.forEach', 14.1123046875), ('/blog/assets/js/vendor/content-api.min.js?v=22080dfa02', 0.130859375), ('/blog/assets/js/manifest.js?v=22080dfa02', 0.130859375), ('/blog/assets/js/vendor.js?v=22080dfa02', 0.130859375), ('/blog/assets/js/app.js?v=22080dfa02', 0.130859375), ('/blog/assets/css/app.css?v=22080dfa02', 0.130859375), ('/blog/public/cards.min.css?v=22080dfa02', 0.130859375)]\n",
      "Analyzing 74 of 523: https://fampay.in/blog/the-most-beautiful-college-campuses-in-india/\n",
      "Page size: 41.4248046875 KB\n",
      "Resource sizes: [('https://fampay.in/blog/content/images/2020/11/logofilewhite-11-2.png', 0.130859375), ('https://fampay.in/blog/content/images/2020/11/logofilewhite-11-2.png', 0.130859375), ('https://fampay.in/blog/content/images/2021/09/image-14.png', 0.130859375), ('https://fampay.in/blog/content/images/2021/09/Untitled--1-.png', 0.130859375), ('https://fampay.in/blog/content/images/2021/09/Untitled--2-.png', 0.130859375), ('https://fampay.in/blog/content/images/2021/09/image-15.png', 0.130859375), ('https://fampay.in/blog/content/images/2021/09/image-16.png', 0.130859375), ('https://fampay.in/blog/content/images/2021/09/image-19.png', 0.130859375), ('https://fampay.in/blog/content/images/2021/09/image-17.png', 0.130859375), ('https://fampay.in/blog/content/images/2021/09/image-18.png', 0.130859375), ('/blog/assets/images/success.png?v=22080dfa02', 0.130859375), ('https://cdn.jsdelivr.net/ghost/portal@~2.30/umd/portal.min.js', 170.8154296875), ('https://cdn.jsdelivr.net/ghost/sodo-search@~1.1/umd/sodo-search.min.js', 95.5751953125), ('/blog/public/cards.min.js?v=22080dfa02', 0.130859375), ('/blog/public/member-attribution.min.js?v=22080dfa02', 0.130859375), ('https://www.googletagmanager.com/gtag/js?id=UA-147725948-3', 0.0), ('https://polyfill.io/v3/polyfill.min.js?features=IntersectionObserver%2CPromise%2CArray.prototype.includes%2CString.prototype.endsWith%2CString.prototype.startsWith%2CObject.assign%2CNodeList.prototype.forEach', 14.1123046875), ('/blog/assets/js/vendor/content-api.min.js?v=22080dfa02', 0.130859375), ('/blog/assets/js/manifest.js?v=22080dfa02', 0.130859375), ('/blog/assets/js/vendor.js?v=22080dfa02', 0.130859375), ('/blog/assets/js/app.js?v=22080dfa02', 0.130859375), ('/blog/assets/js/post.js?v=22080dfa02', 0.130859375), ('/blog/assets/css/app.css?v=22080dfa02', 0.130859375), ('/blog/public/cards.min.css?v=22080dfa02', 0.130859375)]\n",
      "Analyzing 75 of 523: https://fampay.in/blog/every-little-thing-counts-ways-in-which-you-can-contribute-to-society-as-a-teenager/\n",
      "Page size: 51.251953125 KB\n",
      "Resource sizes: [('https://fampay.in/blog/content/images/2020/11/logofilewhite-11-2.png', 0.130859375), ('https://fampay.in/blog/content/images/2020/11/logofilewhite-11-2.png', 0.130859375), ('https://lh3.googleusercontent.com/Az971UxWV_0MqS-FqzYz8-hbRhAYQSUmNAXbPNNGizBS6OloYb2Wo1qemWFRiELjYTxDvcrT7amvB0IbAd58B-k1KRlj6ZA7LapKTcmdzwUtWFja0mZ6CN9dUlxMrNzRupzhHKw', 53.2119140625), ('https://lh4.googleusercontent.com/dRtMm9xbHyXCjulPDrwm6xxbPUOEsaz7P-1LBSAMlOUgUsVn2gywA1l5hPfaAhJUhNnCU58nkVbOjh1JwVNLzlsMhva-4KO9jST0eECFKEJaRDcZiGJAebldJBNAr2fZkDpJ0kk', 145.353515625), ('https://lh6.googleusercontent.com/HBMv9UxJATlLsse67JWLFcg81aVgmjUA_u5ANkMhUumvXcvwechuX9tQGcMSVb0xz2lqR4DHLJWGQpTCUbFLU9J9ugz0mXHV64cLuM109J4N4Br2r55b_MqMrcb716OO5ZFgjjY', 11.087890625), ('https://static-exp3.licdn.com/scds/common/u/images/logos/favicons/v1/favicon.ico', 32.21484375), ('https://static-exp3.licdn.com/sc/h/c45fy346jw096z9pbphyyhdz7', 0.0), ('https://lh4.googleusercontent.com/Tqn1LhWRewDR_t7ff7C3KAtORmEHhQBtxXQF2QkDhg5Ru4HItSBhVGV1VFj3-NQzRE0pC5O4nlMpMto-COYbBMl073ZZZE1yxFyLESVKrEouGxx3jhEi-45XJNu11ACg8_ro9Vg', 13.9853515625), ('https://lh5.googleusercontent.com/Tm_cpPrp68ckI7WtGNdOcSXoOmZ0ognKL9W28OPJFZ5p_eLZUTMRgkDxiWiuHnU9QDl4PYr43uvQwTmrrdBqqQvPR4u1oJ1-B94AAI68O505S-8VOfm9nh-jX76vhaPj9An410w', 10.568359375), ('https://lh5.googleusercontent.com/2-UbfF7-nGxEjXIYuLKBz7EBuHiv3FcwofFwhR74ZFuphmnuP2pkkKuD7_HoPimehHXwyd2BVA03R-XKiZExn1k2DKHr6GVU4JfltlTl0LQE_JuLe7-U5SAALXR5vwtiTrsYU44', 37.7275390625), ('https://lh5.googleusercontent.com/XvlS8tnmr_Z7NwOtNk0pCay41DiMJmB9d8-pcsWYZxKCAaeUpBH7Xgvx1Ytl5dXHi1ISJV3flSOvM4lhtPHV0VaILA52X59vQGu8JiW4IwRySP5fv9UoZnZqMGHjZJbHPWjn4S4', 142.8857421875), ('https://lh5.googleusercontent.com/oZiw_uWXuO9N2DmeuBF08tk1Y64zZzkI-0-P68F7hlhX8zQ53HUCOlqZ1_9xlcjGJqHxG0f-9Ya6rR5R6vYDki8ibUQ69RNIYLAj_CvmfI_XD-PtEIquL2fzeW5yD1dsftnFHLc', 13.248046875), ('https://lh4.googleusercontent.com/GErvDtOQpMwAhhFJI8pATha1KZri4qIIUe8re-uwiJUfMvzIA8cQ1OyMoh-DEFHh-XF8wR0iL2LZli7Zbxy4zkY5MSjLB9rzJ16BL4J1W5KE0y6BsYxyiW7bSU9XNbYEVrLYccI', 3.732421875), ('https://lh6.googleusercontent.com/x-tp4h53OY4-ZZmp8khfO7CvwEu5xU1ZvD_609NOgBKmiMQrf9E325jEcirlNlxEUPVOxICqrFeUAI6kU1Sh9I3nEEMN_C5ZwO88QBEgLEewqmFDREeAAIr1w-tEypDFwxMCHQE', 10.87109375), ('https://lh5.googleusercontent.com/ikFqZGOeAMxXdRTotYqw_pOBaLJSqDtMmhNKyrpiP2RW__QFB_kUDQPxpFPUlD18WIF4mcNUb-PJ7BmMSUmePc9NjTcXG1IsJxbtU7dMpPpFv5EDGVMVZ38H9GodsGrqJgd0sY0', 4.509765625), ('https://lh6.googleusercontent.com/5QreX6El7Md1jOLr5Z_irGRCWmNJ_R8buOVT1sdP_xY6NnUmtKzY68astAjV2aX-l67M_Yr_S40jmL2MjsVbmmmmJWrVHz1MVvAfC6QkofvJmSd3kWwNL5DGdbChK0Ew-hB3YzQ', 23.3076171875), ('https://lh5.googleusercontent.com/AlmGZgrp1Bo_LpPO3afx1y7ohSlZzO5mKPTkopl11ZGV5XSNYYXPr6MOsVIks0t_0aAp_T7FNRWr2KtKxnYeG6TgF1uhOCRGGKZWcZ3qd3BXC9F24MlBV4PnzyfBu6NLkUw_vp4', 0.0), ('https://lh4.googleusercontent.com/uAaC-lrbZObK0v4lnf79ndS3TkMDqLIjQJG1iupnct1VKJoLPWXoJ1QQICVFRYyOdoew726mbJqkf4JAcJoAih3qlBo3g6cCSnZzGI6XAGrGVfEqEmF5EWgXlWKMeTJYtbKFt-A', 16.7255859375), ('https://lh4.googleusercontent.com/h6JvnuwUb1eAYTwtktPCLHJOUudM2WDstMtj8CUQAIk0DFjStIKsxArCxQUtYNEj-8iHN2d7g-oL5Jj7Nyw05ZHq4WL4HFJR_3dp6KS2e83p0DYl2N4Ldqo5Bbo5tZQfZl2gzG8', 10.4541015625), ('/blog/assets/images/success.png?v=22080dfa02', 0.130859375), ('https://cdn.jsdelivr.net/ghost/portal@~2.30/umd/portal.min.js', 170.8154296875), ('https://cdn.jsdelivr.net/ghost/sodo-search@~1.1/umd/sodo-search.min.js', 95.5751953125), ('/blog/public/cards.min.js?v=22080dfa02', 0.130859375), ('/blog/public/member-attribution.min.js?v=22080dfa02', 0.130859375), ('https://www.googletagmanager.com/gtag/js?id=UA-147725948-3', 0.0), ('https://polyfill.io/v3/polyfill.min.js?features=IntersectionObserver%2CPromise%2CArray.prototype.includes%2CString.prototype.endsWith%2CString.prototype.startsWith%2CObject.assign%2CNodeList.prototype.forEach', 14.1123046875), ('/blog/assets/js/vendor/content-api.min.js?v=22080dfa02', 0.130859375), ('/blog/assets/js/manifest.js?v=22080dfa02', 0.130859375), ('/blog/assets/js/vendor.js?v=22080dfa02', 0.130859375), ('/blog/assets/js/app.js?v=22080dfa02', 0.130859375), ('/blog/assets/js/post.js?v=22080dfa02', 0.130859375), ('/blog/assets/css/app.css?v=22080dfa02', 0.130859375), ('/blog/public/cards.min.css?v=22080dfa02', 0.130859375)]\n",
      "Analyzing 76 of 523: https://fampay.in/blog/tag/lifestyle/page/2/\n",
      "Page size: 34.529296875 KB\n",
      "Resource sizes: [('https://fampay.in/blog/content/images/2020/11/logofilewhite-11-2.png', 0.130859375), ('https://fampay.in/blog/content/images/2020/11/logofilewhite-11-2.png', 0.130859375), ('https://cdn.jsdelivr.net/ghost/portal@~2.30/umd/portal.min.js', 170.8154296875), ('https://cdn.jsdelivr.net/ghost/sodo-search@~1.1/umd/sodo-search.min.js', 95.5751953125), ('/blog/public/cards.min.js?v=22080dfa02', 0.130859375), ('/blog/public/member-attribution.min.js?v=22080dfa02', 0.130859375), ('https://www.googletagmanager.com/gtag/js?id=UA-147725948-3', 0.0), ('https://polyfill.io/v3/polyfill.min.js?features=IntersectionObserver%2CPromise%2CArray.prototype.includes%2CString.prototype.endsWith%2CString.prototype.startsWith%2CObject.assign%2CNodeList.prototype.forEach', 14.1123046875), ('/blog/assets/js/vendor/content-api.min.js?v=22080dfa02', 0.130859375), ('/blog/assets/js/manifest.js?v=22080dfa02', 0.130859375), ('/blog/assets/js/vendor.js?v=22080dfa02', 0.130859375), ('/blog/assets/js/app.js?v=22080dfa02', 0.130859375), ('/blog/assets/css/app.css?v=22080dfa02', 0.130859375), ('/blog/public/cards.min.css?v=22080dfa02', 0.130859375)]\n",
      "Analyzing 77 of 523: https://fampay.in/blog/tag/pr-news/\n",
      "Page size: 33.4541015625 KB\n",
      "Resource sizes: [('https://fampay.in/blog/content/images/2020/11/logofilewhite-11-2.png', 0.130859375), ('https://fampay.in/blog/content/images/2020/11/logofilewhite-11-2.png', 0.130859375), ('https://cdn.jsdelivr.net/ghost/portal@~2.30/umd/portal.min.js', 170.8154296875), ('https://cdn.jsdelivr.net/ghost/sodo-search@~1.1/umd/sodo-search.min.js', 95.5751953125), ('/blog/public/cards.min.js?v=22080dfa02', 0.130859375), ('/blog/public/member-attribution.min.js?v=22080dfa02', 0.130859375), ('https://www.googletagmanager.com/gtag/js?id=UA-147725948-3', 0.0), ('https://polyfill.io/v3/polyfill.min.js?features=IntersectionObserver%2CPromise%2CArray.prototype.includes%2CString.prototype.endsWith%2CString.prototype.startsWith%2CObject.assign%2CNodeList.prototype.forEach', 14.1123046875), ('/blog/assets/js/vendor/content-api.min.js?v=22080dfa02', 0.130859375), ('/blog/assets/js/manifest.js?v=22080dfa02', 0.130859375), ('/blog/assets/js/vendor.js?v=22080dfa02', 0.130859375), ('/blog/assets/js/app.js?v=22080dfa02', 0.130859375), ('/blog/assets/css/app.css?v=22080dfa02', 0.130859375), ('/blog/public/cards.min.css?v=22080dfa02', 0.130859375)]\n",
      "Analyzing 78 of 523: https://fampay.in/blog/fampay-amongst-linkedins-top-startups-list-2021/\n",
      "Page size: 40.12109375 KB\n",
      "Resource sizes: [('https://fampay.in/blog/content/images/2020/11/logofilewhite-11-2.png', 0.130859375), ('https://fampay.in/blog/content/images/2020/11/logofilewhite-11-2.png', 0.130859375), ('/blog/assets/images/success.png?v=22080dfa02', 0.130859375), ('https://cdn.jsdelivr.net/ghost/portal@~2.30/umd/portal.min.js', 170.8154296875), ('https://cdn.jsdelivr.net/ghost/sodo-search@~1.1/umd/sodo-search.min.js', 95.5751953125), ('/blog/public/cards.min.js?v=22080dfa02', 0.130859375), ('/blog/public/member-attribution.min.js?v=22080dfa02', 0.130859375), ('https://www.googletagmanager.com/gtag/js?id=UA-147725948-3', 0.0), ('https://polyfill.io/v3/polyfill.min.js?features=IntersectionObserver%2CPromise%2CArray.prototype.includes%2CString.prototype.endsWith%2CString.prototype.startsWith%2CObject.assign%2CNodeList.prototype.forEach', 14.1123046875), ('/blog/assets/js/vendor/content-api.min.js?v=22080dfa02', 0.130859375), ('/blog/assets/js/manifest.js?v=22080dfa02', 0.130859375), ('/blog/assets/js/vendor.js?v=22080dfa02', 0.130859375), ('/blog/assets/js/app.js?v=22080dfa02', 0.130859375), ('/blog/assets/js/post.js?v=22080dfa02', 0.130859375), ('/blog/assets/css/app.css?v=22080dfa02', 0.130859375), ('/blog/public/cards.min.css?v=22080dfa02', 0.130859375)]\n",
      "Analyzing 79 of 523: https://fampay.in/blog/fampay-partners-with-visa-to-launch-indias-first-doodle-card-for-genz/\n",
      "Page size: 44.2236328125 KB\n",
      "Resource sizes: [('https://fampay.in/blog/content/images/2020/11/logofilewhite-11-2.png', 0.130859375), ('https://fampay.in/blog/content/images/2020/11/logofilewhite-11-2.png', 0.130859375), ('https://fampay.in/blog/content/images/2021/07/FamPay_FamCard-ME-launch-video-thumbnail_doodles_1920x1080_1-1.jpg', 0.130859375), ('https://fampay.in/blog/content/images/2021/07/WhatsApp-Image-2021-07-28-at-22.47.58.jpeg', 0.130859375), ('/blog/assets/images/success.png?v=22080dfa02', 0.130859375), ('https://cdn.jsdelivr.net/ghost/portal@~2.30/umd/portal.min.js', 170.8154296875), ('https://cdn.jsdelivr.net/ghost/sodo-search@~1.1/umd/sodo-search.min.js', 95.5751953125), ('/blog/public/cards.min.js?v=22080dfa02', 0.130859375), ('/blog/public/member-attribution.min.js?v=22080dfa02', 0.130859375), ('https://www.googletagmanager.com/gtag/js?id=UA-147725948-3', 0.0), ('https://polyfill.io/v3/polyfill.min.js?features=IntersectionObserver%2CPromise%2CArray.prototype.includes%2CString.prototype.endsWith%2CString.prototype.startsWith%2CObject.assign%2CNodeList.prototype.forEach', 14.1123046875), ('/blog/assets/js/vendor/content-api.min.js?v=22080dfa02', 0.130859375), ('/blog/assets/js/manifest.js?v=22080dfa02', 0.130859375), ('/blog/assets/js/vendor.js?v=22080dfa02', 0.130859375), ('/blog/assets/js/app.js?v=22080dfa02', 0.130859375), ('/blog/assets/js/post.js?v=22080dfa02', 0.130859375), ('/blog/assets/css/app.css?v=22080dfa02', 0.130859375), ('/blog/public/cards.min.css?v=22080dfa02', 0.130859375)]\n",
      "Analyzing 80 of 523: https://fampay.in/blog/tag/product/\n",
      "Page size: 35.9521484375 KB\n",
      "Resource sizes: [('https://fampay.in/blog/content/images/2020/11/logofilewhite-11-2.png', 0.130859375), ('https://fampay.in/blog/content/images/2020/11/logofilewhite-11-2.png', 0.130859375), ('https://cdn.jsdelivr.net/ghost/portal@~2.30/umd/portal.min.js', 170.8154296875), ('https://cdn.jsdelivr.net/ghost/sodo-search@~1.1/umd/sodo-search.min.js', 95.5751953125), ('/blog/public/cards.min.js?v=22080dfa02', 0.130859375), ('/blog/public/member-attribution.min.js?v=22080dfa02', 0.130859375), ('https://www.googletagmanager.com/gtag/js?id=UA-147725948-3', 0.0), ('https://polyfill.io/v3/polyfill.min.js?features=IntersectionObserver%2CPromise%2CArray.prototype.includes%2CString.prototype.endsWith%2CString.prototype.startsWith%2CObject.assign%2CNodeList.prototype.forEach', 14.1123046875), ('/blog/assets/js/vendor/content-api.min.js?v=22080dfa02', 0.130859375), ('/blog/assets/js/manifest.js?v=22080dfa02', 0.130859375), ('/blog/assets/js/vendor.js?v=22080dfa02', 0.130859375), ('/blog/assets/js/app.js?v=22080dfa02', 0.130859375), ('/blog/assets/css/app.css?v=22080dfa02', 0.130859375), ('/blog/public/cards.min.css?v=22080dfa02', 0.130859375)]\n",
      "Analyzing 81 of 523: https://fampay.in/blog/guide-for-seeking-support-from-fampay-important-dos-and-donts/\n",
      "Page size: 43.708984375 KB\n",
      "Resource sizes: [('https://fampay.in/blog/content/images/2020/11/logofilewhite-11-2.png', 0.130859375), ('https://fampay.in/blog/content/images/2020/11/logofilewhite-11-2.png', 0.130859375), ('https://fampay.in/blog/content/images/2021/05/DO-s-and-Don-ts--2-.png', 0.130859375), ('https://fampay.in/blog/content/images/2021/04/dont1.gif', 0.130859375), ('https://fampay.in/blog/content/images/2021/04/cool.gif', 0.130859375), ('https://fampay.in/blog/content/images/2021/04/hi51.gif', 0.130859375), ('/blog/assets/images/success.png?v=22080dfa02', 0.130859375), ('https://cdn.jsdelivr.net/ghost/portal@~2.30/umd/portal.min.js', 170.8154296875), ('https://cdn.jsdelivr.net/ghost/sodo-search@~1.1/umd/sodo-search.min.js', 95.5751953125), ('/blog/public/cards.min.js?v=22080dfa02', 0.130859375), ('/blog/public/member-attribution.min.js?v=22080dfa02', 0.130859375), ('https://www.googletagmanager.com/gtag/js?id=UA-147725948-3', 0.0), ('https://polyfill.io/v3/polyfill.min.js?features=IntersectionObserver%2CPromise%2CArray.prototype.includes%2CString.prototype.endsWith%2CString.prototype.startsWith%2CObject.assign%2CNodeList.prototype.forEach', 14.1123046875), ('/blog/assets/js/vendor/content-api.min.js?v=22080dfa02', 0.130859375), ('/blog/assets/js/manifest.js?v=22080dfa02', 0.130859375), ('/blog/assets/js/vendor.js?v=22080dfa02', 0.130859375), ('/blog/assets/js/app.js?v=22080dfa02', 0.130859375), ('/blog/assets/js/post.js?v=22080dfa02', 0.130859375), ('/blog/assets/css/app.css?v=22080dfa02', 0.130859375), ('/blog/public/cards.min.css?v=22080dfa02', 0.130859375)]\n",
      "Analyzing 82 of 523: https://fampay.in/blog/7-clever-saving-hacks-for-teenagers-this-will-save-you-a-fortune/\n",
      "Page size: 45.39453125 KB\n",
      "Resource sizes: [('https://fampay.in/blog/content/images/2020/11/logofilewhite-11-2.png', 0.130859375), ('https://fampay.in/blog/content/images/2020/11/logofilewhite-11-2.png', 0.130859375), ('https://fampay.in/blog/content/images/2021/02/Untitled--1-.jpg', 0.130859375), ('https://fampay.in/blog/content/images/2021/02/Untitled--2---1-.jpg', 0.130859375), ('https://fampay.in/blog/content/images/2021/02/Untitled--3-.jpg', 0.130859375), ('https://fampay.in/blog/favicon.png', 0.130859375), ('https://fampay.in/blog/content/images/2020/11/pexels-photo-5366490.png-2.jpg', 0.130859375), ('https://fampay.in/blog/content/images/2021/02/790ad0ae-77ab-4054-a5b7-2591bdad1683--1-.jpg', 0.130859375), ('https://fampay.in/blog/content/images/2021/02/Untitled--5--1.jpg', 0.130859375), ('https://fampay.in/blog/content/images/2021/02/Untitled--6-.png', 0.130859375), ('https://static-exp1.licdn.com/sc/h/al2o9zrvru7aqj8e1x2rzsrca', 0.0), ('https://static-exp1.licdn.com/sc/h/c45fy346jw096z9pbphyyhdz7', 34.0400390625), ('https://static-exp1.licdn.com/sc/h/al2o9zrvru7aqj8e1x2rzsrca', 0.0), ('https://media-exp1.licdn.com/dms/image/C4E05AQFnRG5LadGp5A/feedshare-thumbnail_720_1280/0/1611842592896?e=1614182400&v=beta&t=M1Nm7aDiwMinNfKEgCFi6rLJPD0cO6PrM1Ev6on5GcU', 0.3759765625), ('https://static-exp1.licdn.com/sc/h/al2o9zrvru7aqj8e1x2rzsrca', 0.0), ('https://media-exp1.licdn.com/dms/image/C5605AQHRr5CNUr5Ugw/feedshare-thumbnail_720_1280/0/1613834028097?e=1614182400&v=beta&t=RZ9W23hvEBo352XoDRt9WTrQRPz1lOkgYHLyLIKAdaQ', 0.3759765625), ('https://fampay.in/blog/content/images/2021/02/Untitled--7-.jpg', 0.130859375), ('/blog/assets/images/success.png?v=22080dfa02', 0.130859375), ('https://cdn.jsdelivr.net/ghost/portal@~2.30/umd/portal.min.js', 170.8154296875), ('https://cdn.jsdelivr.net/ghost/sodo-search@~1.1/umd/sodo-search.min.js', 95.5751953125), ('/blog/public/cards.min.js?v=22080dfa02', 0.130859375), ('/blog/public/member-attribution.min.js?v=22080dfa02', 0.130859375), ('https://www.googletagmanager.com/gtag/js?id=UA-147725948-3', 0.0), ('https://polyfill.io/v3/polyfill.min.js?features=IntersectionObserver%2CPromise%2CArray.prototype.includes%2CString.prototype.endsWith%2CString.prototype.startsWith%2CObject.assign%2CNodeList.prototype.forEach', 14.1123046875), ('/blog/assets/js/vendor/content-api.min.js?v=22080dfa02', 0.130859375), ('/blog/assets/js/manifest.js?v=22080dfa02', 0.130859375), ('/blog/assets/js/vendor.js?v=22080dfa02', 0.130859375), ('/blog/assets/js/app.js?v=22080dfa02', 0.130859375), ('/blog/assets/js/post.js?v=22080dfa02', 0.130859375), ('/blog/assets/css/app.css?v=22080dfa02', 0.130859375), ('/blog/public/cards.min.css?v=22080dfa02', 0.130859375)]\n",
      "Analyzing 83 of 523: https://fampay.in/blog/what-are-the-perks-of-using-fampay/\n",
      "Page size: 44.3310546875 KB\n",
      "Resource sizes: [('https://fampay.in/blog/content/images/2020/11/logofilewhite-11-2.png', 0.130859375), ('https://fampay.in/blog/content/images/2020/11/logofilewhite-11-2.png', 0.130859375), ('https://fampay.in/blog/favicon.png', 0.130859375), ('https://fampay.in/blog/content/images/2020/12/Flash-PIN.jpg', 0.130859375), ('https://fampay.in/blog/favicon.png', 0.130859375), ('https://fampay.in/blog/content/images/2020/06/savings-.jpg', 0.130859375), ('https://fampay.in/blog/favicon.png', 0.130859375), ('https://fampay.in/blog/content/images/2020/12/DO-s-and-Don-ts--2--2.png', 0.130859375), ('https://fampay.in/blog/favicon.png', 0.130859375), ('https://fampay.in/blog/content/images/2021/02/Kaavya--blog-1.png', 0.130859375), ('https://fampay.in/blog/favicon.png', 0.130859375), ('https://fampay.in/blog/content/images/2020/12/Shifa--blog1.png', 0.130859375), ('/blog/assets/images/success.png?v=22080dfa02', 0.130859375), ('https://cdn.jsdelivr.net/ghost/portal@~2.30/umd/portal.min.js', 170.8154296875), ('https://cdn.jsdelivr.net/ghost/sodo-search@~1.1/umd/sodo-search.min.js', 95.5751953125), ('/blog/public/cards.min.js?v=22080dfa02', 0.130859375), ('/blog/public/member-attribution.min.js?v=22080dfa02', 0.130859375), ('https://www.googletagmanager.com/gtag/js?id=UA-147725948-3', 0.0), ('https://polyfill.io/v3/polyfill.min.js?features=IntersectionObserver%2CPromise%2CArray.prototype.includes%2CString.prototype.endsWith%2CString.prototype.startsWith%2CObject.assign%2CNodeList.prototype.forEach', 14.1123046875), ('/blog/assets/js/vendor/content-api.min.js?v=22080dfa02', 0.130859375), ('/blog/assets/js/manifest.js?v=22080dfa02', 0.130859375), ('/blog/assets/js/vendor.js?v=22080dfa02', 0.130859375), ('/blog/assets/js/app.js?v=22080dfa02', 0.130859375), ('/blog/assets/js/post.js?v=22080dfa02', 0.130859375), ('/blog/assets/css/app.css?v=22080dfa02', 0.130859375), ('/blog/public/cards.min.css?v=22080dfa02', 0.130859375)]\n",
      "Analyzing 84 of 523: https://fampay.in/blog/author/ritwick/\n",
      "Page size: 23.4169921875 KB\n",
      "Resource sizes: [('https://fampay.in/blog/content/images/2020/11/logofilewhite-11-2.png', 0.130859375), ('https://fampay.in/blog/content/images/2020/11/logofilewhite-11-2.png', 0.130859375), ('https://cdn.jsdelivr.net/ghost/portal@~2.30/umd/portal.min.js', 170.8154296875), ('https://cdn.jsdelivr.net/ghost/sodo-search@~1.1/umd/sodo-search.min.js', 95.5751953125), ('/blog/public/cards.min.js?v=22080dfa02', 0.130859375), ('/blog/public/member-attribution.min.js?v=22080dfa02', 0.130859375), ('https://www.googletagmanager.com/gtag/js?id=UA-147725948-3', 0.0), ('https://polyfill.io/v3/polyfill.min.js?features=IntersectionObserver%2CPromise%2CArray.prototype.includes%2CString.prototype.endsWith%2CString.prototype.startsWith%2CObject.assign%2CNodeList.prototype.forEach', 14.1123046875), ('/blog/assets/js/vendor/content-api.min.js?v=22080dfa02', 0.130859375), ('/blog/assets/js/manifest.js?v=22080dfa02', 0.130859375), ('/blog/assets/js/vendor.js?v=22080dfa02', 0.130859375), ('/blog/assets/js/app.js?v=22080dfa02', 0.130859375), ('/blog/assets/css/app.css?v=22080dfa02', 0.130859375), ('/blog/public/cards.min.css?v=22080dfa02', 0.130859375)]\n",
      "Analyzing 85 of 523: https://fampay.in/blog/curious-about-famcard-heres-everything-to-know/\n",
      "Page size: 42.482421875 KB\n",
      "Resource sizes: [('https://fampay.in/blog/content/images/2020/11/logofilewhite-11-2.png', 0.130859375), ('https://fampay.in/blog/content/images/2020/11/logofilewhite-11-2.png', 0.130859375), ('https://fampay.in/blog/content/images/2021/01/image-7.png', 0.130859375), ('https://fampay.in/blog/content/images/2021/01/image-8.png', 0.130859375), ('https://fampay.in/blog/content/images/2020/12/image-13.png', 0.130859375), ('https://fampay.in/blog/content/images/2021/01/image.png', 0.130859375), ('https://fampay.in/blog/content/images/2020/12/image-14.png', 0.130859375), ('/blog/assets/images/success.png?v=22080dfa02', 0.130859375), ('https://cdn.jsdelivr.net/ghost/portal@~2.30/umd/portal.min.js', 170.8154296875), ('https://cdn.jsdelivr.net/ghost/sodo-search@~1.1/umd/sodo-search.min.js', 95.5751953125), ('/blog/public/cards.min.js?v=22080dfa02', 0.130859375), ('/blog/public/member-attribution.min.js?v=22080dfa02', 0.130859375), ('https://www.googletagmanager.com/gtag/js?id=UA-147725948-3', 0.0), ('https://polyfill.io/v3/polyfill.min.js?features=IntersectionObserver%2CPromise%2CArray.prototype.includes%2CString.prototype.endsWith%2CString.prototype.startsWith%2CObject.assign%2CNodeList.prototype.forEach', 14.1123046875), ('/blog/assets/js/vendor/content-api.min.js?v=22080dfa02', 0.130859375), ('/blog/assets/js/manifest.js?v=22080dfa02', 0.130859375), ('/blog/assets/js/vendor.js?v=22080dfa02', 0.130859375), ('/blog/assets/js/app.js?v=22080dfa02', 0.130859375), ('/blog/assets/js/post.js?v=22080dfa02', 0.130859375), ('/blog/assets/css/app.css?v=22080dfa02', 0.130859375), ('/blog/public/cards.min.css?v=22080dfa02', 0.130859375)]\n",
      "Analyzing 86 of 523: https://fampay.in/blog/author/shifa/\n",
      "Page size: 23.48046875 KB\n",
      "Resource sizes: [('https://fampay.in/blog/content/images/2020/11/logofilewhite-11-2.png', 0.130859375), ('https://fampay.in/blog/content/images/2020/11/logofilewhite-11-2.png', 0.130859375), ('https://cdn.jsdelivr.net/ghost/portal@~2.30/umd/portal.min.js', 170.8154296875), ('https://cdn.jsdelivr.net/ghost/sodo-search@~1.1/umd/sodo-search.min.js', 95.5751953125), ('/blog/public/cards.min.js?v=22080dfa02', 0.130859375), ('/blog/public/member-attribution.min.js?v=22080dfa02', 0.130859375), ('https://www.googletagmanager.com/gtag/js?id=UA-147725948-3', 0.0), ('https://polyfill.io/v3/polyfill.min.js?features=IntersectionObserver%2CPromise%2CArray.prototype.includes%2CString.prototype.endsWith%2CString.prototype.startsWith%2CObject.assign%2CNodeList.prototype.forEach', 14.1123046875), ('/blog/assets/js/vendor/content-api.min.js?v=22080dfa02', 0.130859375), ('/blog/assets/js/manifest.js?v=22080dfa02', 0.130859375), ('/blog/assets/js/vendor.js?v=22080dfa02', 0.130859375), ('/blog/assets/js/app.js?v=22080dfa02', 0.130859375), ('/blog/assets/css/app.css?v=22080dfa02', 0.130859375), ('/blog/public/cards.min.css?v=22080dfa02', 0.130859375)]\n",
      "Analyzing 87 of 523: https://fampay.in/blog/what-makes-fampay-secure/\n",
      "Page size: 41.2138671875 KB\n",
      "Resource sizes: [('https://fampay.in/blog/content/images/2020/11/logofilewhite-11-2.png', 0.130859375), ('https://fampay.in/blog/content/images/2020/11/logofilewhite-11-2.png', 0.130859375), ('https://fampay.in/blog/content/images/2020/12/partner2.gif', 0.130859375), ('https://fampay.in/blog/content/images/2020/12/wowww2.gif', 0.130859375), ('https://fampay.in/blog/favicon.png', 0.130859375), ('https://fampay.in/blog/content/images/2020/12/Tiara--Blog-3.png', 0.130859375), ('/blog/assets/images/success.png?v=22080dfa02', 0.130859375), ('https://cdn.jsdelivr.net/ghost/portal@~2.30/umd/portal.min.js', 170.8154296875), ('https://cdn.jsdelivr.net/ghost/sodo-search@~1.1/umd/sodo-search.min.js', 95.5751953125), ('/blog/public/cards.min.js?v=22080dfa02', 0.130859375), ('/blog/public/member-attribution.min.js?v=22080dfa02', 0.130859375), ('https://www.googletagmanager.com/gtag/js?id=UA-147725948-3', 0.0), ('https://polyfill.io/v3/polyfill.min.js?features=IntersectionObserver%2CPromise%2CArray.prototype.includes%2CString.prototype.endsWith%2CString.prototype.startsWith%2CObject.assign%2CNodeList.prototype.forEach', 14.1123046875), ('/blog/assets/js/vendor/content-api.min.js?v=22080dfa02', 0.130859375), ('/blog/assets/js/manifest.js?v=22080dfa02', 0.130859375), ('/blog/assets/js/vendor.js?v=22080dfa02', 0.130859375), ('/blog/assets/js/app.js?v=22080dfa02', 0.130859375), ('/blog/assets/js/post.js?v=22080dfa02', 0.130859375), ('/blog/assets/css/app.css?v=22080dfa02', 0.130859375), ('/blog/public/cards.min.css?v=22080dfa02', 0.130859375)]\n",
      "Analyzing 88 of 523: https://fampay.in/blog/fampays-guide-to-digital-payments-for-teens-important-dos-and-donts/\n",
      "Page size: 42.9814453125 KB\n",
      "Resource sizes: [('https://fampay.in/blog/content/images/2020/11/logofilewhite-11-2.png', 0.130859375), ('https://fampay.in/blog/content/images/2020/11/logofilewhite-11-2.png', 0.130859375), ('https://fampay.in/blog/content/images/2020/12/DO-s-and-Don-ts--2-.png', 0.130859375), ('/blog/assets/images/success.png?v=22080dfa02', 0.130859375), ('https://cdn.jsdelivr.net/ghost/portal@~2.30/umd/portal.min.js', 170.8154296875), ('https://cdn.jsdelivr.net/ghost/sodo-search@~1.1/umd/sodo-search.min.js', 95.5751953125), ('/blog/public/cards.min.js?v=22080dfa02', 0.130859375), ('/blog/public/member-attribution.min.js?v=22080dfa02', 0.130859375), ('https://www.googletagmanager.com/gtag/js?id=UA-147725948-3', 0.0), ('https://polyfill.io/v3/polyfill.min.js?features=IntersectionObserver%2CPromise%2CArray.prototype.includes%2CString.prototype.endsWith%2CString.prototype.startsWith%2CObject.assign%2CNodeList.prototype.forEach', 14.1123046875), ('/blog/assets/js/vendor/content-api.min.js?v=22080dfa02', 0.130859375), ('/blog/assets/js/manifest.js?v=22080dfa02', 0.130859375), ('/blog/assets/js/vendor.js?v=22080dfa02', 0.130859375), ('/blog/assets/js/app.js?v=22080dfa02', 0.130859375), ('/blog/assets/js/post.js?v=22080dfa02', 0.130859375), ('/blog/assets/css/app.css?v=22080dfa02', 0.130859375), ('/blog/public/cards.min.css?v=22080dfa02', 0.130859375)]\n",
      "Analyzing 89 of 523: https://fampay.in/blog/why-do-online-payments-get-stuck-and-what-can-you-do/\n",
      "Page size: 40.4560546875 KB\n",
      "Resource sizes: [('https://fampay.in/blog/content/images/2020/11/logofilewhite-11-2.png', 0.130859375), ('https://fampay.in/blog/content/images/2020/11/logofilewhite-11-2.png', 0.130859375), ('https://fampay.in/blog/content/images/2020/12/payment-processing-with-bank-1.PNG', 0.130859375), ('/blog/assets/images/success.png?v=22080dfa02', 0.130859375), ('https://cdn.jsdelivr.net/ghost/portal@~2.30/umd/portal.min.js', 170.8154296875), ('https://cdn.jsdelivr.net/ghost/sodo-search@~1.1/umd/sodo-search.min.js', 95.5751953125), ('/blog/public/cards.min.js?v=22080dfa02', 0.130859375), ('/blog/public/member-attribution.min.js?v=22080dfa02', 0.130859375), ('https://www.googletagmanager.com/gtag/js?id=UA-147725948-3', 0.0), ('https://polyfill.io/v3/polyfill.min.js?features=IntersectionObserver%2CPromise%2CArray.prototype.includes%2CString.prototype.endsWith%2CString.prototype.startsWith%2CObject.assign%2CNodeList.prototype.forEach', 14.1123046875), ('/blog/assets/js/vendor/content-api.min.js?v=22080dfa02', 0.130859375), ('/blog/assets/js/manifest.js?v=22080dfa02', 0.130859375), ('/blog/assets/js/vendor.js?v=22080dfa02', 0.130859375), ('/blog/assets/js/app.js?v=22080dfa02', 0.130859375), ('/blog/assets/js/post.js?v=22080dfa02', 0.130859375), ('/blog/assets/css/app.css?v=22080dfa02', 0.130859375), ('/blog/public/cards.min.css?v=22080dfa02', 0.130859375)]\n",
      "Analyzing 90 of 523: https://fampay.in/blog/author/tiara/\n",
      "Page size: 23.4853515625 KB\n",
      "Resource sizes: [('https://fampay.in/blog/content/images/2020/11/logofilewhite-11-2.png', 0.130859375), ('https://fampay.in/blog/content/images/2020/11/logofilewhite-11-2.png', 0.130859375), ('https://cdn.jsdelivr.net/ghost/portal@~2.30/umd/portal.min.js', 170.8154296875), ('https://cdn.jsdelivr.net/ghost/sodo-search@~1.1/umd/sodo-search.min.js', 95.5751953125), ('/blog/public/cards.min.js?v=22080dfa02', 0.130859375), ('/blog/public/member-attribution.min.js?v=22080dfa02', 0.130859375), ('https://www.googletagmanager.com/gtag/js?id=UA-147725948-3', 0.0), ('https://polyfill.io/v3/polyfill.min.js?features=IntersectionObserver%2CPromise%2CArray.prototype.includes%2CString.prototype.endsWith%2CString.prototype.startsWith%2CObject.assign%2CNodeList.prototype.forEach', 14.1123046875), ('/blog/assets/js/vendor/content-api.min.js?v=22080dfa02', 0.130859375), ('/blog/assets/js/manifest.js?v=22080dfa02', 0.130859375), ('/blog/assets/js/vendor.js?v=22080dfa02', 0.130859375), ('/blog/assets/js/app.js?v=22080dfa02', 0.130859375), ('/blog/assets/css/app.css?v=22080dfa02', 0.130859375), ('/blog/public/cards.min.css?v=22080dfa02', 0.130859375)]\n",
      "Analyzing 91 of 523: https://fampay.in/blog/how-to-order-a-famcard-in-less-than-5-minutes/\n",
      "Page size: 41.404296875 KB\n",
      "Resource sizes: [('https://fampay.in/blog/content/images/2020/11/logofilewhite-11-2.png', 0.130859375), ('https://fampay.in/blog/content/images/2020/11/logofilewhite-11-2.png', 0.130859375), ('https://fampay.in/blog/content/images/2020/08/Untitled-1.png', 0.130859375), ('https://fampay.in/blog/content/images/2020/08/image-2.png', 0.130859375), ('https://fampay.in/blog/content/images/2020/08/new--1-.png', 0.130859375), ('https://fampay.in/blog/content/images/2020/08/Untitled--3-.png', 0.130859375), ('https://fampay.in/blog/content/images/2020/08/image-1.png', 0.130859375), ('https://fampay.in/blog/content/images/2020/08/Untitled--5--2.png', 0.130859375), ('https://fampay.in/blog/content/images/2020/08/Untitled--6-.png', 0.130859375), ('https://fampay.in/blog/content/images/2020/08/image-2.png', 0.130859375), ('/blog/assets/images/success.png?v=22080dfa02', 0.130859375), ('https://cdn.jsdelivr.net/ghost/portal@~2.30/umd/portal.min.js', 170.8154296875), ('https://cdn.jsdelivr.net/ghost/sodo-search@~1.1/umd/sodo-search.min.js', 95.5751953125), ('/blog/public/cards.min.js?v=22080dfa02', 0.130859375), ('/blog/public/member-attribution.min.js?v=22080dfa02', 0.130859375), ('https://www.googletagmanager.com/gtag/js?id=UA-147725948-3', 0.0), ('https://polyfill.io/v3/polyfill.min.js?features=IntersectionObserver%2CPromise%2CArray.prototype.includes%2CString.prototype.endsWith%2CString.prototype.startsWith%2CObject.assign%2CNodeList.prototype.forEach', 14.1123046875), ('/blog/assets/js/vendor/content-api.min.js?v=22080dfa02', 0.130859375), ('/blog/assets/js/manifest.js?v=22080dfa02', 0.130859375), ('/blog/assets/js/vendor.js?v=22080dfa02', 0.130859375), ('/blog/assets/js/app.js?v=22080dfa02', 0.130859375), ('/blog/assets/js/post.js?v=22080dfa02', 0.130859375), ('/blog/assets/css/app.css?v=22080dfa02', 0.130859375), ('/blog/public/cards.min.css?v=22080dfa02', 0.130859375)]\n",
      "Analyzing 92 of 523: https://fampay.in/blog/tag/product/page/2/\n",
      "Page size: 27.3720703125 KB\n",
      "Resource sizes: [('https://fampay.in/blog/content/images/2020/11/logofilewhite-11-2.png', 0.130859375), ('https://fampay.in/blog/content/images/2020/11/logofilewhite-11-2.png', 0.130859375), ('https://cdn.jsdelivr.net/ghost/portal@~2.30/umd/portal.min.js', 170.8154296875), ('https://cdn.jsdelivr.net/ghost/sodo-search@~1.1/umd/sodo-search.min.js', 95.5751953125), ('/blog/public/cards.min.js?v=22080dfa02', 0.130859375), ('/blog/public/member-attribution.min.js?v=22080dfa02', 0.130859375), ('https://www.googletagmanager.com/gtag/js?id=UA-147725948-3', 0.0), ('https://polyfill.io/v3/polyfill.min.js?features=IntersectionObserver%2CPromise%2CArray.prototype.includes%2CString.prototype.endsWith%2CString.prototype.startsWith%2CObject.assign%2CNodeList.prototype.forEach', 14.1123046875), ('/blog/assets/js/vendor/content-api.min.js?v=22080dfa02', 0.130859375), ('/blog/assets/js/manifest.js?v=22080dfa02', 0.130859375), ('/blog/assets/js/vendor.js?v=22080dfa02', 0.130859375), ('/blog/assets/js/app.js?v=22080dfa02', 0.130859375), ('/blog/assets/css/app.css?v=22080dfa02', 0.130859375), ('/blog/public/cards.min.css?v=22080dfa02', 0.130859375)]\n",
      "Analyzing 93 of 523: https://fampay.in/blog/tag/tech/\n",
      "Page size: 32.951171875 KB\n",
      "Resource sizes: [('https://fampay.in/blog/content/images/2020/11/logofilewhite-11-2.png', 0.130859375), ('https://fampay.in/blog/content/images/2020/11/logofilewhite-11-2.png', 0.130859375), ('https://cdn.jsdelivr.net/ghost/portal@~2.30/umd/portal.min.js', 170.8154296875), ('https://cdn.jsdelivr.net/ghost/sodo-search@~1.1/umd/sodo-search.min.js', 95.5751953125), ('/blog/public/cards.min.js?v=22080dfa02', 0.130859375), ('/blog/public/member-attribution.min.js?v=22080dfa02', 0.130859375), ('https://www.googletagmanager.com/gtag/js?id=UA-147725948-3', 0.0), ('https://polyfill.io/v3/polyfill.min.js?features=IntersectionObserver%2CPromise%2CArray.prototype.includes%2CString.prototype.endsWith%2CString.prototype.startsWith%2CObject.assign%2CNodeList.prototype.forEach', 14.1123046875), ('/blog/assets/js/vendor/content-api.min.js?v=22080dfa02', 0.130859375), ('/blog/assets/js/manifest.js?v=22080dfa02', 0.130859375), ('/blog/assets/js/vendor.js?v=22080dfa02', 0.130859375), ('/blog/assets/js/app.js?v=22080dfa02', 0.130859375), ('/blog/assets/css/app.css?v=22080dfa02', 0.130859375), ('/blog/public/cards.min.css?v=22080dfa02', 0.130859375)]\n",
      "Analyzing 94 of 523: https://fampay.in/blog/how-a-pressing-problem-can-lead-to-technological-innovation/\n",
      "Page size: 41.3701171875 KB\n",
      "Resource sizes: [('https://fampay.in/blog/content/images/2020/11/logofilewhite-11-2.png', 0.130859375), ('https://fampay.in/blog/content/images/2020/11/logofilewhite-11-2.png', 0.130859375), ('https://fampay.in/blog/content/images/2020/06/1_ErIBvOwUHQWIviTxFnYp_w.jpeg', 0.130859375), ('https://fampay.in/blog/content/images/2020/06/1_L6K_Os6IGgSDZMdHTbU2rg.jpeg', 0.130859375), ('https://fampay.in/blog/content/images/2020/06/1_BoNiE-EUrq_YK44Fz-5NJQ.jpeg', 0.130859375), ('https://fampay.in/blog/content/images/2020/06/1_JN-Q_97duhlmTatayXTiXQ.jpeg', 0.130859375), ('/blog/assets/images/success.png?v=22080dfa02', 0.130859375), ('https://cdn.jsdelivr.net/ghost/portal@~2.30/umd/portal.min.js', 170.8154296875), ('https://cdn.jsdelivr.net/ghost/sodo-search@~1.1/umd/sodo-search.min.js', 95.5751953125), ('/blog/public/cards.min.js?v=22080dfa02', 0.130859375), ('/blog/public/member-attribution.min.js?v=22080dfa02', 0.130859375), ('https://www.googletagmanager.com/gtag/js?id=UA-147725948-3', 0.0), ('https://polyfill.io/v3/polyfill.min.js?features=IntersectionObserver%2CPromise%2CArray.prototype.includes%2CString.prototype.endsWith%2CString.prototype.startsWith%2CObject.assign%2CNodeList.prototype.forEach', 14.1123046875), ('/blog/assets/js/vendor/content-api.min.js?v=22080dfa02', 0.130859375), ('/blog/assets/js/manifest.js?v=22080dfa02', 0.130859375), ('/blog/assets/js/vendor.js?v=22080dfa02', 0.130859375), ('/blog/assets/js/app.js?v=22080dfa02', 0.130859375), ('/blog/assets/js/post.js?v=22080dfa02', 0.130859375), ('/blog/assets/css/app.css?v=22080dfa02', 0.130859375), ('/blog/public/cards.min.css?v=22080dfa02', 0.130859375)]\n",
      "Analyzing 95 of 523: https://fampay.in/blog/author/shiv/\n",
      "Page size: 23.5234375 KB\n",
      "Resource sizes: [('https://fampay.in/blog/content/images/2020/11/logofilewhite-11-2.png', 0.130859375), ('https://fampay.in/blog/content/images/2020/11/logofilewhite-11-2.png', 0.130859375), ('https://cdn.jsdelivr.net/ghost/portal@~2.30/umd/portal.min.js', 170.8154296875), ('https://cdn.jsdelivr.net/ghost/sodo-search@~1.1/umd/sodo-search.min.js', 95.5751953125), ('/blog/public/cards.min.js?v=22080dfa02', 0.130859375), ('/blog/public/member-attribution.min.js?v=22080dfa02', 0.130859375), ('https://www.googletagmanager.com/gtag/js?id=UA-147725948-3', 0.0), ('https://polyfill.io/v3/polyfill.min.js?features=IntersectionObserver%2CPromise%2CArray.prototype.includes%2CString.prototype.endsWith%2CString.prototype.startsWith%2CObject.assign%2CNodeList.prototype.forEach', 14.1123046875), ('/blog/assets/js/vendor/content-api.min.js?v=22080dfa02', 0.130859375), ('/blog/assets/js/manifest.js?v=22080dfa02', 0.130859375), ('/blog/assets/js/vendor.js?v=22080dfa02', 0.130859375), ('/blog/assets/js/app.js?v=22080dfa02', 0.130859375), ('/blog/assets/css/app.css?v=22080dfa02', 0.130859375), ('/blog/public/cards.min.css?v=22080dfa02', 0.130859375)]\n",
      "Analyzing 96 of 523: https://fampay.in/blog/tag/teenpreneurs/\n",
      "Page size: 37.3115234375 KB\n",
      "Resource sizes: [('https://fampay.in/blog/content/images/2020/11/logofilewhite-11-2.png', 0.130859375), ('https://fampay.in/blog/content/images/2020/11/logofilewhite-11-2.png', 0.130859375), ('https://cdn.jsdelivr.net/ghost/portal@~2.30/umd/portal.min.js', 170.8154296875), ('https://cdn.jsdelivr.net/ghost/sodo-search@~1.1/umd/sodo-search.min.js', 95.5751953125), ('/blog/public/cards.min.js?v=22080dfa02', 0.130859375), ('/blog/public/member-attribution.min.js?v=22080dfa02', 0.130859375), ('https://www.googletagmanager.com/gtag/js?id=UA-147725948-3', 0.0), ('https://polyfill.io/v3/polyfill.min.js?features=IntersectionObserver%2CPromise%2CArray.prototype.includes%2CString.prototype.endsWith%2CString.prototype.startsWith%2CObject.assign%2CNodeList.prototype.forEach', 14.1123046875), ('/blog/assets/js/vendor/content-api.min.js?v=22080dfa02', 0.130859375), ('/blog/assets/js/manifest.js?v=22080dfa02', 0.130859375), ('/blog/assets/js/vendor.js?v=22080dfa02', 0.130859375), ('/blog/assets/js/app.js?v=22080dfa02', 0.130859375), ('/blog/assets/css/app.css?v=22080dfa02', 0.130859375), ('/blog/public/cards.min.css?v=22080dfa02', 0.130859375)]\n",
      "Analyzing 97 of 523: https://fampay.in/blog/how-i-blurred-age-barriers-with-technology/\n",
      "Page size: 40.439453125 KB\n",
      "Resource sizes: [('https://fampay.in/blog/content/images/2020/11/logofilewhite-11-2.png', 0.130859375), ('https://fampay.in/blog/content/images/2020/11/logofilewhite-11-2.png', 0.130859375), ('https://fampay.in/blog/content/images/2020/06/0_ze4MeWZfK5-3mQyl.jpeg', 0.130859375), ('https://fampay.in/blog/content/images/2020/06/0_fJFL5cuJYHD24Y-y.jpeg', 0.130859375), ('https://fampay.in/blog/content/images/2020/06/0_sbvZLoKzsIhKvigT.jpeg', 0.130859375), ('/blog/assets/images/success.png?v=22080dfa02', 0.130859375), ('https://cdn.jsdelivr.net/ghost/portal@~2.30/umd/portal.min.js', 170.8154296875), ('https://cdn.jsdelivr.net/ghost/sodo-search@~1.1/umd/sodo-search.min.js', 95.5751953125), ('/blog/public/cards.min.js?v=22080dfa02', 0.130859375), ('/blog/public/member-attribution.min.js?v=22080dfa02', 0.130859375), ('https://www.googletagmanager.com/gtag/js?id=UA-147725948-3', 0.0), ('https://polyfill.io/v3/polyfill.min.js?features=IntersectionObserver%2CPromise%2CArray.prototype.includes%2CString.prototype.endsWith%2CString.prototype.startsWith%2CObject.assign%2CNodeList.prototype.forEach', 14.1123046875), ('/blog/assets/js/vendor/content-api.min.js?v=22080dfa02', 0.130859375), ('/blog/assets/js/manifest.js?v=22080dfa02', 0.130859375), ('/blog/assets/js/vendor.js?v=22080dfa02', 0.130859375), ('/blog/assets/js/app.js?v=22080dfa02', 0.130859375), ('/blog/assets/js/post.js?v=22080dfa02', 0.130859375), ('/blog/assets/css/app.css?v=22080dfa02', 0.130859375), ('/blog/public/cards.min.css?v=22080dfa02', 0.130859375)]\n",
      "Analyzing 98 of 523: https://fampay.in/blog/author/aadithyan/\n",
      "Page size: 23.5439453125 KB\n",
      "Resource sizes: [('https://fampay.in/blog/content/images/2020/11/logofilewhite-11-2.png', 0.130859375), ('https://fampay.in/blog/content/images/2020/11/logofilewhite-11-2.png', 0.130859375), ('https://cdn.jsdelivr.net/ghost/portal@~2.30/umd/portal.min.js', 170.8154296875), ('https://cdn.jsdelivr.net/ghost/sodo-search@~1.1/umd/sodo-search.min.js', 95.5751953125), ('/blog/public/cards.min.js?v=22080dfa02', 0.130859375), ('/blog/public/member-attribution.min.js?v=22080dfa02', 0.130859375), ('https://www.googletagmanager.com/gtag/js?id=UA-147725948-3', 0.0), ('https://polyfill.io/v3/polyfill.min.js?features=IntersectionObserver%2CPromise%2CArray.prototype.includes%2CString.prototype.endsWith%2CString.prototype.startsWith%2CObject.assign%2CNodeList.prototype.forEach', 14.1123046875), ('/blog/assets/js/vendor/content-api.min.js?v=22080dfa02', 0.130859375), ('/blog/assets/js/manifest.js?v=22080dfa02', 0.130859375), ('/blog/assets/js/vendor.js?v=22080dfa02', 0.130859375), ('/blog/assets/js/app.js?v=22080dfa02', 0.130859375), ('/blog/assets/css/app.css?v=22080dfa02', 0.130859375), ('/blog/public/cards.min.css?v=22080dfa02', 0.130859375)]\n",
      "Analyzing 99 of 523: https://fampay.in/blog/how-to-clean-up-your-android-apps-dependencies-the-ultimate-guide-2/\n",
      "Page size: 53.275390625 KB\n",
      "Resource sizes: [('https://fampay.in/blog/content/images/2020/11/logofilewhite-11-2.png', 0.130859375), ('https://fampay.in/blog/content/images/2020/11/logofilewhite-11-2.png', 0.130859375), ('https://fampay.in/blog/content/images/2023/03/image.png', 0.130859375), ('https://media.giphy.com/media/OkzCcGn5fY29e7bvpS/giphy.gif', 3602.8544921875), ('https://media.giphy.com/media/PnggNmuamz7kbgfUTL/giphy.gif', 2123.232421875), ('https://media.giphy.com/media/mMDA2ZvTdzJPk6RAlP/giphy.gif', 1749.7841796875), ('https://cdn-images-1.medium.com/max/1600/1*ivqtkW5FXIGYLERe1CYl8w.png', 0.0), ('https://cdn-images-1.medium.com/max/1600/1*VeBwKIh6vDHW-N0GaLrxow.png', 0.0), ('https://cdn-images-1.medium.com/max/1600/1*KhvurcmxU7yMLQavCZm4xw.png', 0.0), ('/blog/assets/images/success.png?v=22080dfa02', 0.130859375), ('https://cdn.jsdelivr.net/ghost/portal@~2.30/umd/portal.min.js', 170.8154296875), ('https://cdn.jsdelivr.net/ghost/sodo-search@~1.1/umd/sodo-search.min.js', 95.5751953125), ('/blog/public/cards.min.js?v=22080dfa02', 0.130859375), ('/blog/public/member-attribution.min.js?v=22080dfa02', 0.130859375), ('https://www.googletagmanager.com/gtag/js?id=UA-147725948-3', 0.0), ('https://polyfill.io/v3/polyfill.min.js?features=IntersectionObserver%2CPromise%2CArray.prototype.includes%2CString.prototype.endsWith%2CString.prototype.startsWith%2CObject.assign%2CNodeList.prototype.forEach', 14.1123046875), ('/blog/assets/js/vendor/content-api.min.js?v=22080dfa02', 0.130859375), ('/blog/assets/js/manifest.js?v=22080dfa02', 0.130859375), ('/blog/assets/js/vendor.js?v=22080dfa02', 0.130859375), ('/blog/assets/js/app.js?v=22080dfa02', 0.130859375), ('/blog/assets/js/post.js?v=22080dfa02', 0.130859375), ('/blog/assets/css/app.css?v=22080dfa02', 0.130859375), ('/blog/public/cards.min.css?v=22080dfa02', 0.130859375)]\n",
      "Analyzing 100 of 523: https://wa.me/?text=How%20to%20Clean%20Up%20Your%20Android%20App's%20Dependencies%3A%20The%20Ultimate%20Guide%20https://fampay.in/blog/how-to-clean-up-your-android-apps-dependencies-the-ultimate-guide-2/\n",
      "Page size: 165.5419921875 KB\n",
      "Resource sizes: [('https://static.whatsapp.net/rsrc.php/v3/yq/r/mdQNdcFMi0p.png', 28.833984375), ('https://static.whatsapp.net/rsrc.php/v3/y7/r/DSxOAUB0raA.png', 28.7744140625), ('https://static.whatsapp.net/rsrc.php/v3/yJ/r/Qhrnh5evyPV.png', 1.193359375), ('https://static.whatsapp.net/rsrc.php/v3/yJ/r/Qhrnh5evyPV.png', 1.193359375), ('https://static.whatsapp.net/rsrc.php/v3/y6/r/TcHIu29ealS.js?_nc_x=Ij3Wp8lg5Kz', 104.8037109375), ('https://static.whatsapp.net/rsrc.php/v3/yO/l/0,cross/zkmfh5mjXuB.css?_nc_x=Ij3Wp8lg5Kz', 1.318359375), ('https://static.whatsapp.net/rsrc.php/v3/yi/l/0,cross/TngFvC3f-F7.css?_nc_x=Ij3Wp8lg5Kz', 14.91796875), ('https://static.whatsapp.net/rsrc.php/v3/yX/l/0,cross/90x4oEKKKqw.css?_nc_x=Ij3Wp8lg5Kz', 9.01953125)]\n",
      "Analyzing 101 of 523: https://www.facebook.com/sharer/sharer.php?u=https://fampay.in/blog/how-to-clean-up-your-android-apps-dependencies-the-ultimate-guide-2/\n",
      "Page size: 17.1962890625 KB\n",
      "Resource sizes: [('https://static.xx.fbcdn.net/rsrc.php/v3/y8/r/k97pj8-or6s.png', 0.7900390625), ('https://facebook.com/security/hsts-pixel.gif?c=3.2', 0.0)]\n",
      "Analyzing 102 of 523: https://twitter.com/intent/tweet?text=How%20to%20Clean%20Up%20Your%20Android%20App's%20Dependencies%3A%20The%20Ultimate%20Guide&url=https://fampay.in/blog/how-to-clean-up-your-android-apps-dependencies-the-ultimate-guide-2/\n",
      "Page size: 167.810546875 KB\n",
      "Resource sizes: [('https://abs.twimg.com/errors/logo46x38.png', 0.9912109375), ('https://abs.twimg.com/responsive-web/client-web-legacy/shared~bundle.Compose~bundle.RichTextCompose.a2fa6b8a.js', 52.9111328125), ('https://abs.twimg.com/responsive-web/client-web-legacy/polyfills.d5242a4a.js', 17.72265625), ('https://abs.twimg.com/responsive-web/client-web-legacy/vendor.3cb7d15a.js', 218.7216796875), ('https://abs.twimg.com/responsive-web/client-web-legacy/i18n/en.213585ba.js', 114.365234375), ('https://abs.twimg.com/responsive-web/client-web-legacy/main.79ac570a.js', 408.1171875)]\n",
      "Analyzing 103 of 523: https://facebook.com/fampay.in/\n",
      "Page size: 69.7685546875 KB\n",
      "Resource sizes: [('https://facebook.com/security/hsts-pixel.gif?c=3.2.5', 0.0), ('https://static.xx.fbcdn.net/rsrc.php/v3/y6/r/TcHIu29ealS.js?_nc_x=Ij3Wp8lg5Kz', 91.02734375), ('https://static.xx.fbcdn.net/rsrc.php/v3/y2/l/0,cross/NVgbAXFs6z1.css?_nc_x=Ij3Wp8lg5Kz', 1.5107421875), ('https://static.xx.fbcdn.net/rsrc.php/v3/yx/l/0,cross/eZH65WBPM3G.css?_nc_x=Ij3Wp8lg5Kz', 1.1083984375), ('https://static.xx.fbcdn.net/rsrc.php/v3/yW/l/0,cross/sWEGfbrr2Qy.css?_nc_x=Ij3Wp8lg5Kz', 7.359375), ('https://static.xx.fbcdn.net/rsrc.php/v3/yN/l/0,cross/nJn9rmSf-tc.css?_nc_x=Ij3Wp8lg5Kz', 1.0458984375)]\n",
      "Analyzing 104 of 523: https://fampay.in/blog/author/fampay/\n",
      "Page size: 36.1181640625 KB\n",
      "Resource sizes: [('https://fampay.in/blog/content/images/2020/11/logofilewhite-11-2.png', 0.130859375), ('https://fampay.in/blog/content/images/2020/11/logofilewhite-11-2.png', 0.130859375), ('https://cdn.jsdelivr.net/ghost/portal@~2.30/umd/portal.min.js', 170.8154296875), ('https://cdn.jsdelivr.net/ghost/sodo-search@~1.1/umd/sodo-search.min.js', 95.5751953125), ('/blog/public/cards.min.js?v=22080dfa02', 0.130859375), ('/blog/public/member-attribution.min.js?v=22080dfa02', 0.130859375), ('https://www.googletagmanager.com/gtag/js?id=UA-147725948-3', 0.0), ('https://polyfill.io/v3/polyfill.min.js?features=IntersectionObserver%2CPromise%2CArray.prototype.includes%2CString.prototype.endsWith%2CString.prototype.startsWith%2CObject.assign%2CNodeList.prototype.forEach', 14.1123046875), ('/blog/assets/js/vendor/content-api.min.js?v=22080dfa02', 0.130859375), ('/blog/assets/js/manifest.js?v=22080dfa02', 0.130859375), ('/blog/assets/js/vendor.js?v=22080dfa02', 0.130859375), ('/blog/assets/js/app.js?v=22080dfa02', 0.130859375), ('/blog/assets/css/app.css?v=22080dfa02', 0.130859375), ('/blog/public/cards.min.css?v=22080dfa02', 0.130859375)]\n",
      "Analyzing 105 of 523: https://fampay.in/blog/author/fampay/page/2/\n",
      "Page size: 35.046875 KB\n",
      "Resource sizes: [('https://fampay.in/blog/content/images/2020/11/logofilewhite-11-2.png', 0.130859375), ('https://fampay.in/blog/content/images/2020/11/logofilewhite-11-2.png', 0.130859375), ('https://cdn.jsdelivr.net/ghost/portal@~2.30/umd/portal.min.js', 170.8154296875), ('https://cdn.jsdelivr.net/ghost/sodo-search@~1.1/umd/sodo-search.min.js', 95.5751953125), ('/blog/public/cards.min.js?v=22080dfa02', 0.130859375), ('/blog/public/member-attribution.min.js?v=22080dfa02', 0.130859375), ('https://www.googletagmanager.com/gtag/js?id=UA-147725948-3', 0.0), ('https://polyfill.io/v3/polyfill.min.js?features=IntersectionObserver%2CPromise%2CArray.prototype.includes%2CString.prototype.endsWith%2CString.prototype.startsWith%2CObject.assign%2CNodeList.prototype.forEach', 14.1123046875), ('/blog/assets/js/vendor/content-api.min.js?v=22080dfa02', 0.130859375), ('/blog/assets/js/manifest.js?v=22080dfa02', 0.130859375), ('/blog/assets/js/vendor.js?v=22080dfa02', 0.130859375), ('/blog/assets/js/app.js?v=22080dfa02', 0.130859375), ('/blog/assets/css/app.css?v=22080dfa02', 0.130859375), ('/blog/public/cards.min.css?v=22080dfa02', 0.130859375)]\n",
      "Analyzing 106 of 523: https://fampay.in/blog/discover-fampays-engagement-service-missions-3/\n",
      "Page size: 45.0615234375 KB\n",
      "Resource sizes: [('https://fampay.in/blog/content/images/2020/11/logofilewhite-11-2.png', 0.130859375), ('https://fampay.in/blog/content/images/2020/11/logofilewhite-11-2.png', 0.130859375), ('https://cdn-images-1.medium.com/max/1600/1*IF2BJcwp7VgrlMgK1TEaGw.png', 0.0), ('https://cdn-images-1.medium.com/max/1600/1*HWGQo6SxVar42uyJYNq8DA.png', 0.0), ('https://cdn-images-1.medium.com/max/1600/0*LACp9O5RmL6O2Qsa.png', 0.0), ('https://cdn-images-1.medium.com/max/1600/0*UG6fCQayvxpZJixr.gif', 0.0), ('/blog/assets/images/success.png?v=22080dfa02', 0.130859375), ('https://cdn.jsdelivr.net/ghost/portal@~2.30/umd/portal.min.js', 170.8154296875), ('https://cdn.jsdelivr.net/ghost/sodo-search@~1.1/umd/sodo-search.min.js', 95.5751953125), ('/blog/public/cards.min.js?v=22080dfa02', 0.130859375), ('/blog/public/member-attribution.min.js?v=22080dfa02', 0.130859375), ('https://www.googletagmanager.com/gtag/js?id=UA-147725948-3', 0.0), ('https://polyfill.io/v3/polyfill.min.js?features=IntersectionObserver%2CPromise%2CArray.prototype.includes%2CString.prototype.endsWith%2CString.prototype.startsWith%2CObject.assign%2CNodeList.prototype.forEach', 14.1123046875), ('/blog/assets/js/vendor/content-api.min.js?v=22080dfa02', 0.130859375), ('/blog/assets/js/manifest.js?v=22080dfa02', 0.130859375), ('/blog/assets/js/vendor.js?v=22080dfa02', 0.130859375), ('/blog/assets/js/app.js?v=22080dfa02', 0.130859375), ('/blog/assets/js/post.js?v=22080dfa02', 0.130859375), ('/blog/assets/css/app.css?v=22080dfa02', 0.130859375), ('/blog/public/cards.min.css?v=22080dfa02', 0.130859375)]\n",
      "Analyzing 107 of 523: https://wa.me/?text=Discover%20FamPay's%20Engagement%20Service%3A%20Missions%20https://fampay.in/blog/discover-fampays-engagement-service-missions-3/\n",
      "Page size: 165.337890625 KB\n",
      "Resource sizes: [('https://static.whatsapp.net/rsrc.php/v3/yq/r/mdQNdcFMi0p.png', 28.833984375), ('https://static.whatsapp.net/rsrc.php/v3/y7/r/DSxOAUB0raA.png', 28.7744140625), ('https://static.whatsapp.net/rsrc.php/v3/yJ/r/Qhrnh5evyPV.png', 1.193359375), ('https://static.whatsapp.net/rsrc.php/v3/yJ/r/Qhrnh5evyPV.png', 1.193359375), ('https://static.whatsapp.net/rsrc.php/v3/y6/r/TcHIu29ealS.js?_nc_x=Ij3Wp8lg5Kz', 104.8037109375), ('https://static.whatsapp.net/rsrc.php/v3/yO/l/0,cross/zkmfh5mjXuB.css?_nc_x=Ij3Wp8lg5Kz', 1.318359375), ('https://static.whatsapp.net/rsrc.php/v3/yi/l/0,cross/TngFvC3f-F7.css?_nc_x=Ij3Wp8lg5Kz', 14.91796875), ('https://static.whatsapp.net/rsrc.php/v3/yX/l/0,cross/90x4oEKKKqw.css?_nc_x=Ij3Wp8lg5Kz', 9.01953125)]\n",
      "Analyzing 108 of 523: https://www.facebook.com/sharer/sharer.php?u=https://fampay.in/blog/discover-fampays-engagement-service-missions-3/\n",
      "Page size: 17.0478515625 KB\n",
      "Resource sizes: [('https://static.xx.fbcdn.net/rsrc.php/v3/y8/r/k97pj8-or6s.png', 0.7900390625), ('https://facebook.com/security/hsts-pixel.gif?c=3.2', 0.0)]\n",
      "Analyzing 109 of 523: https://twitter.com/intent/tweet?text=Discover%20FamPay's%20Engagement%20Service%3A%20Missions&url=https://fampay.in/blog/discover-fampays-engagement-service-missions-3/\n",
      "Page size: 167.810546875 KB\n",
      "Resource sizes: [('https://abs.twimg.com/errors/logo46x38.png', 0.9912109375), ('https://abs.twimg.com/responsive-web/client-web-legacy/shared~bundle.Compose~bundle.RichTextCompose.a2fa6b8a.js', 52.9111328125), ('https://abs.twimg.com/responsive-web/client-web-legacy/polyfills.d5242a4a.js', 17.72265625), ('https://abs.twimg.com/responsive-web/client-web-legacy/vendor.3cb7d15a.js', 218.7216796875), ('https://abs.twimg.com/responsive-web/client-web-legacy/i18n/en.213585ba.js', 114.365234375), ('https://abs.twimg.com/responsive-web/client-web-legacy/main.79ac570a.js', 408.1171875)]\n",
      "Analyzing 110 of 523: https://fampay.in/blog/implementing-an-in-memory-queue/\n",
      "Page size: 46.341796875 KB\n",
      "Resource sizes: [('https://fampay.in/blog/content/images/2020/11/logofilewhite-11-2.png', 0.130859375), ('https://fampay.in/blog/content/images/2020/11/logofilewhite-11-2.png', 0.130859375), ('https://fampay.in/blog/content/images/2022/11/image.png', 0.130859375), ('https://fampay.in/blog/content/images/2022/11/image-1.png', 0.130859375), ('https://media.giphy.com/media/RkKMFRHh71RvhCYUx6/giphy.gif', 2538.177734375), ('/blog/assets/images/success.png?v=22080dfa02', 0.130859375), ('https://cdn.jsdelivr.net/ghost/portal@~2.30/umd/portal.min.js', 170.8154296875), ('https://cdn.jsdelivr.net/ghost/sodo-search@~1.1/umd/sodo-search.min.js', 95.5751953125), ('/blog/public/cards.min.js?v=22080dfa02', 0.130859375), ('/blog/public/member-attribution.min.js?v=22080dfa02', 0.130859375), ('https://www.googletagmanager.com/gtag/js?id=UA-147725948-3', 0.0), ('https://polyfill.io/v3/polyfill.min.js?features=IntersectionObserver%2CPromise%2CArray.prototype.includes%2CString.prototype.endsWith%2CString.prototype.startsWith%2CObject.assign%2CNodeList.prototype.forEach', 14.1123046875), ('/blog/assets/js/vendor/content-api.min.js?v=22080dfa02', 0.130859375), ('/blog/assets/js/manifest.js?v=22080dfa02', 0.130859375), ('/blog/assets/js/vendor.js?v=22080dfa02', 0.130859375), ('/blog/assets/js/app.js?v=22080dfa02', 0.130859375), ('/blog/assets/js/post.js?v=22080dfa02', 0.130859375), ('/blog/assets/css/app.css?v=22080dfa02', 0.130859375), ('/blog/public/cards.min.css?v=22080dfa02', 0.130859375)]\n",
      "Analyzing 111 of 523: https://wa.me/?text=Implementing%20an%20In-memory%20Queue%20%F0%9F%A7%91%E2%80%8D%F0%9F%92%BB%20https://fampay.in/blog/implementing-an-in-memory-queue/\n",
      "Page size: 165.22265625 KB\n",
      "Resource sizes: [('https://static.whatsapp.net/rsrc.php/v3/yq/r/mdQNdcFMi0p.png', 28.833984375), ('https://static.whatsapp.net/rsrc.php/v3/y7/r/DSxOAUB0raA.png', 28.7744140625), ('https://static.whatsapp.net/rsrc.php/v3/yJ/r/Qhrnh5evyPV.png', 1.193359375), ('https://static.whatsapp.net/rsrc.php/v3/yJ/r/Qhrnh5evyPV.png', 1.193359375), ('https://static.whatsapp.net/rsrc.php/v3/y6/r/TcHIu29ealS.js?_nc_x=Ij3Wp8lg5Kz', 104.8037109375), ('https://static.whatsapp.net/rsrc.php/v3/yO/l/0,cross/zkmfh5mjXuB.css?_nc_x=Ij3Wp8lg5Kz', 1.318359375), ('https://static.whatsapp.net/rsrc.php/v3/yi/l/0,cross/TngFvC3f-F7.css?_nc_x=Ij3Wp8lg5Kz', 14.91796875), ('https://static.whatsapp.net/rsrc.php/v3/yX/l/0,cross/90x4oEKKKqw.css?_nc_x=Ij3Wp8lg5Kz', 9.01953125)]\n",
      "Analyzing 112 of 523: https://www.facebook.com/sharer/sharer.php?u=https://fampay.in/blog/implementing-an-in-memory-queue/\n",
      "Page size: 16.9501953125 KB\n",
      "Resource sizes: [('https://static.xx.fbcdn.net/rsrc.php/v3/y8/r/k97pj8-or6s.png', 0.7900390625), ('https://facebook.com/security/hsts-pixel.gif?c=3.2', 0.0)]\n",
      "Analyzing 113 of 523: https://twitter.com/intent/tweet?text=Implementing%20an%20In-memory%20Queue%20%F0%9F%A7%91%E2%80%8D%F0%9F%92%BB&url=https://fampay.in/blog/implementing-an-in-memory-queue/\n",
      "Page size: 167.810546875 KB\n",
      "Resource sizes: [('https://abs.twimg.com/errors/logo46x38.png', 0.9912109375), ('https://abs.twimg.com/responsive-web/client-web-legacy/shared~bundle.Compose~bundle.RichTextCompose.a2fa6b8a.js', 52.9111328125), ('https://abs.twimg.com/responsive-web/client-web-legacy/polyfills.d5242a4a.js', 17.72265625), ('https://abs.twimg.com/responsive-web/client-web-legacy/vendor.3cb7d15a.js', 218.7216796875), ('https://abs.twimg.com/responsive-web/client-web-legacy/i18n/en.213585ba.js', 114.365234375), ('https://abs.twimg.com/responsive-web/client-web-legacy/main.79ac570a.js', 408.1171875)]\n",
      "Analyzing 114 of 523: https://fampay.in/blog/covid-19-vaccination-as-a-teen-a-guide/\n",
      "Page size: 39.7978515625 KB\n",
      "Resource sizes: [('https://fampay.in/blog/content/images/2020/11/logofilewhite-11-2.png', 0.130859375), ('https://fampay.in/blog/content/images/2020/11/logofilewhite-11-2.png', 0.130859375), ('https://c.tenor.com/J6A4cKTmeF8AAAAM/ariana-grande-me.gif', 311.0361328125), ('https://c.tenor.com/2QYBi_6YjwAAAAAC/batman-thank-you.gif', 290.19140625), ('https://media2.giphy.com/media/3eXl1A3FAWhEWijohy/giphy.gif', 1563.724609375), ('/blog/assets/images/success.png?v=22080dfa02', 0.130859375), ('https://cdn.jsdelivr.net/ghost/portal@~2.30/umd/portal.min.js', 170.8154296875), ('https://cdn.jsdelivr.net/ghost/sodo-search@~1.1/umd/sodo-search.min.js', 95.5751953125), ('/blog/public/cards.min.js?v=22080dfa02', 0.130859375), ('/blog/public/member-attribution.min.js?v=22080dfa02', 0.130859375), ('https://www.googletagmanager.com/gtag/js?id=UA-147725948-3', 0.0), ('https://polyfill.io/v3/polyfill.min.js?features=IntersectionObserver%2CPromise%2CArray.prototype.includes%2CString.prototype.endsWith%2CString.prototype.startsWith%2CObject.assign%2CNodeList.prototype.forEach', 14.1123046875), ('/blog/assets/js/vendor/content-api.min.js?v=22080dfa02', 0.130859375), ('/blog/assets/js/manifest.js?v=22080dfa02', 0.130859375), ('/blog/assets/js/vendor.js?v=22080dfa02', 0.130859375), ('/blog/assets/js/app.js?v=22080dfa02', 0.130859375), ('/blog/assets/js/post.js?v=22080dfa02', 0.130859375), ('/blog/assets/css/app.css?v=22080dfa02', 0.130859375), ('/blog/public/cards.min.css?v=22080dfa02', 0.130859375)]\n",
      "Analyzing 115 of 523: https://wa.me/?text=Covid-19%20Vaccination%20for%20teens%2C%20a%20step-by-step%20guide%F0%9F%92%89%20https://fampay.in/blog/covid-19-vaccination-as-a-teen-a-guide/\n",
      "Page size: 165.3623046875 KB\n",
      "Resource sizes: [('https://static.whatsapp.net/rsrc.php/v3/yq/r/mdQNdcFMi0p.png', 28.833984375), ('https://static.whatsapp.net/rsrc.php/v3/y7/r/DSxOAUB0raA.png', 28.7744140625), ('https://static.whatsapp.net/rsrc.php/v3/yJ/r/Qhrnh5evyPV.png', 1.193359375), ('https://static.whatsapp.net/rsrc.php/v3/yJ/r/Qhrnh5evyPV.png', 1.193359375), ('https://static.whatsapp.net/rsrc.php/v3/y6/r/TcHIu29ealS.js?_nc_x=Ij3Wp8lg5Kz', 104.8037109375), ('https://static.whatsapp.net/rsrc.php/v3/yO/l/0,cross/zkmfh5mjXuB.css?_nc_x=Ij3Wp8lg5Kz', 1.318359375), ('https://static.whatsapp.net/rsrc.php/v3/yi/l/0,cross/TngFvC3f-F7.css?_nc_x=Ij3Wp8lg5Kz', 14.91796875), ('https://static.whatsapp.net/rsrc.php/v3/yX/l/0,cross/90x4oEKKKqw.css?_nc_x=Ij3Wp8lg5Kz', 9.01953125)]\n",
      "Analyzing 116 of 523: https://www.facebook.com/sharer/sharer.php?u=https://fampay.in/blog/covid-19-vaccination-as-a-teen-a-guide/\n",
      "Page size: 16.9931640625 KB\n",
      "Resource sizes: [('https://static.xx.fbcdn.net/rsrc.php/v3/y8/r/k97pj8-or6s.png', 0.7900390625), ('https://facebook.com/security/hsts-pixel.gif?c=3.2', 0.0)]\n",
      "Analyzing 117 of 523: https://twitter.com/intent/tweet?text=Covid-19%20Vaccination%20for%20teens%2C%20a%20step-by-step%20guide%F0%9F%92%89&url=https://fampay.in/blog/covid-19-vaccination-as-a-teen-a-guide/\n",
      "Page size: 167.810546875 KB\n",
      "Resource sizes: [('https://abs.twimg.com/errors/logo46x38.png', 0.9912109375), ('https://abs.twimg.com/responsive-web/client-web-legacy/shared~bundle.Compose~bundle.RichTextCompose.a2fa6b8a.js', 52.9111328125), ('https://abs.twimg.com/responsive-web/client-web-legacy/polyfills.d5242a4a.js', 17.72265625), ('https://abs.twimg.com/responsive-web/client-web-legacy/vendor.3cb7d15a.js', 218.7216796875), ('https://abs.twimg.com/responsive-web/client-web-legacy/i18n/en.213585ba.js', 114.365234375), ('https://abs.twimg.com/responsive-web/client-web-legacy/main.79ac570a.js', 408.1171875)]\n",
      "Analyzing 118 of 523: https://fampay.in/blog/why-vaccination-a-guide-to-vaccination-for-teens-in-india/\n",
      "Page size: 43.0458984375 KB\n",
      "Resource sizes: [('https://fampay.in/blog/content/images/2020/11/logofilewhite-11-2.png', 0.130859375), ('https://fampay.in/blog/content/images/2020/11/logofilewhite-11-2.png', 0.130859375), ('https://fampay.in/blog/content/images/2022/02/image-5.png', 0.130859375), ('https://fampay.in/blog/content/images/2022/02/image-9.png', 0.130859375), ('https://fampay.in/blog/content/images/2022/02/image-8.png', 0.130859375), ('https://fampay.in/blog/content/images/2022/02/image-10.png', 0.130859375), ('https://fampay.in/blog/content/images/2022/02/image-14.png', 0.130859375), ('https://fampay.in/blog/content/images/2022/02/image-13.png', 0.130859375), ('https://fampay.in/blog/content/images/2022/02/image-16.png', 0.130859375), ('/blog/assets/images/success.png?v=22080dfa02', 0.130859375), ('https://cdn.jsdelivr.net/ghost/portal@~2.30/umd/portal.min.js', 170.8154296875), ('https://cdn.jsdelivr.net/ghost/sodo-search@~1.1/umd/sodo-search.min.js', 95.5751953125), ('/blog/public/cards.min.js?v=22080dfa02', 0.130859375), ('/blog/public/member-attribution.min.js?v=22080dfa02', 0.130859375), ('https://www.googletagmanager.com/gtag/js?id=UA-147725948-3', 0.0), ('https://polyfill.io/v3/polyfill.min.js?features=IntersectionObserver%2CPromise%2CArray.prototype.includes%2CString.prototype.endsWith%2CString.prototype.startsWith%2CObject.assign%2CNodeList.prototype.forEach', 14.1123046875), ('/blog/assets/js/vendor/content-api.min.js?v=22080dfa02', 0.130859375), ('/blog/assets/js/manifest.js?v=22080dfa02', 0.130859375), ('/blog/assets/js/vendor.js?v=22080dfa02', 0.130859375), ('/blog/assets/js/app.js?v=22080dfa02', 0.130859375), ('/blog/assets/js/post.js?v=22080dfa02', 0.130859375), ('/blog/assets/css/app.css?v=22080dfa02', 0.130859375), ('/blog/public/cards.min.css?v=22080dfa02', 0.130859375)]\n",
      "Analyzing 119 of 523: https://wa.me/?text=Why%20Vaccination%3F%F0%9F%92%89%20-%20A%20guide%20to%20vaccination%20for%20teens%20in%20India%20https://fampay.in/blog/why-vaccination-a-guide-to-vaccination-for-teens-in-india/\n",
      "Page size: 165.4951171875 KB\n",
      "Resource sizes: [('https://static.whatsapp.net/rsrc.php/v3/yq/r/mdQNdcFMi0p.png', 28.833984375), ('https://static.whatsapp.net/rsrc.php/v3/y7/r/DSxOAUB0raA.png', 28.7744140625), ('https://static.whatsapp.net/rsrc.php/v3/yJ/r/Qhrnh5evyPV.png', 1.193359375), ('https://static.whatsapp.net/rsrc.php/v3/yJ/r/Qhrnh5evyPV.png', 1.193359375), ('https://static.whatsapp.net/rsrc.php/v3/y6/r/TcHIu29ealS.js?_nc_x=Ij3Wp8lg5Kz', 104.8037109375), ('https://static.whatsapp.net/rsrc.php/v3/yO/l/0,cross/zkmfh5mjXuB.css?_nc_x=Ij3Wp8lg5Kz', 1.318359375), ('https://static.whatsapp.net/rsrc.php/v3/yi/l/0,cross/TngFvC3f-F7.css?_nc_x=Ij3Wp8lg5Kz', 14.91796875), ('https://static.whatsapp.net/rsrc.php/v3/yX/l/0,cross/90x4oEKKKqw.css?_nc_x=Ij3Wp8lg5Kz', 9.01953125)]\n",
      "Analyzing 120 of 523: https://www.facebook.com/sharer/sharer.php?u=https://fampay.in/blog/why-vaccination-a-guide-to-vaccination-for-teens-in-india/\n",
      "Page size: 17.123046875 KB\n",
      "Resource sizes: [('https://static.xx.fbcdn.net/rsrc.php/v3/y8/r/k97pj8-or6s.png', 0.7900390625), ('https://facebook.com/security/hsts-pixel.gif?c=3.2', 0.0)]\n",
      "Analyzing 121 of 523: https://twitter.com/intent/tweet?text=Why%20Vaccination%3F%F0%9F%92%89%20-%20A%20guide%20to%20vaccination%20for%20teens%20in%20India&url=https://fampay.in/blog/why-vaccination-a-guide-to-vaccination-for-teens-in-india/\n",
      "Page size: 167.810546875 KB\n",
      "Resource sizes: [('https://abs.twimg.com/errors/logo46x38.png', 0.9912109375), ('https://abs.twimg.com/responsive-web/client-web-legacy/shared~bundle.Compose~bundle.RichTextCompose.a2fa6b8a.js', 52.9111328125), ('https://abs.twimg.com/responsive-web/client-web-legacy/polyfills.d5242a4a.js', 17.72265625), ('https://abs.twimg.com/responsive-web/client-web-legacy/vendor.3cb7d15a.js', 218.7216796875), ('https://abs.twimg.com/responsive-web/client-web-legacy/i18n/en.213585ba.js', 114.365234375), ('https://abs.twimg.com/responsive-web/client-web-legacy/main.79ac570a.js', 408.1171875)]\n",
      "Analyzing 122 of 523: https://fampay.in/blog/study-habits-that-are-simple-and-highly-effective/\n",
      "Page size: 40.28515625 KB\n",
      "Resource sizes: [('https://fampay.in/blog/content/images/2020/11/logofilewhite-11-2.png', 0.130859375), ('https://fampay.in/blog/content/images/2020/11/logofilewhite-11-2.png', 0.130859375), ('https://fampay.in/blog/content/images/2021/11/image.png', 0.130859375), ('https://fampay.in/blog/content/images/2021/11/image-1.png', 0.130859375), ('https://fampay.in/blog/content/images/2021/11/image-2.png', 0.130859375), ('https://fampay.in/blog/content/images/2021/11/image-4.png', 0.130859375), ('https://fampay.in/blog/content/images/2021/11/image-5.png', 0.130859375), ('https://fampay.in/blog/content/images/2021/11/image-8.png', 0.130859375), ('https://fampay.in/blog/content/images/2021/11/image-7.png', 0.130859375), ('/blog/assets/images/success.png?v=22080dfa02', 0.130859375), ('https://cdn.jsdelivr.net/ghost/portal@~2.30/umd/portal.min.js', 170.8154296875), ('https://cdn.jsdelivr.net/ghost/sodo-search@~1.1/umd/sodo-search.min.js', 95.5751953125), ('/blog/public/cards.min.js?v=22080dfa02', 0.130859375), ('/blog/public/member-attribution.min.js?v=22080dfa02', 0.130859375), ('https://www.googletagmanager.com/gtag/js?id=UA-147725948-3', 0.0), ('https://polyfill.io/v3/polyfill.min.js?features=IntersectionObserver%2CPromise%2CArray.prototype.includes%2CString.prototype.endsWith%2CString.prototype.startsWith%2CObject.assign%2CNodeList.prototype.forEach', 14.1123046875), ('/blog/assets/js/vendor/content-api.min.js?v=22080dfa02', 0.130859375), ('/blog/assets/js/manifest.js?v=22080dfa02', 0.130859375), ('/blog/assets/js/vendor.js?v=22080dfa02', 0.130859375), ('/blog/assets/js/app.js?v=22080dfa02', 0.130859375), ('/blog/assets/js/post.js?v=22080dfa02', 0.130859375), ('/blog/assets/css/app.css?v=22080dfa02', 0.130859375), ('/blog/public/cards.min.css?v=22080dfa02', 0.130859375)]\n",
      "Analyzing 123 of 523: https://wa.me/?text=Study%20habits%20that%20are%20simple%20and%20highly%20effective%20%F0%9F%93%9A%20https://fampay.in/blog/study-habits-that-are-simple-and-highly-effective/\n",
      "Page size: 165.390625 KB\n",
      "Resource sizes: [('https://static.whatsapp.net/rsrc.php/v3/yq/r/mdQNdcFMi0p.png', 28.833984375), ('https://static.whatsapp.net/rsrc.php/v3/y7/r/DSxOAUB0raA.png', 28.7744140625), ('https://static.whatsapp.net/rsrc.php/v3/yJ/r/Qhrnh5evyPV.png', 1.193359375), ('https://static.whatsapp.net/rsrc.php/v3/yJ/r/Qhrnh5evyPV.png', 1.193359375), ('https://static.whatsapp.net/rsrc.php/v3/y6/r/TcHIu29ealS.js?_nc_x=Ij3Wp8lg5Kz', 104.8037109375), ('https://static.whatsapp.net/rsrc.php/v3/yO/l/0,cross/zkmfh5mjXuB.css?_nc_x=Ij3Wp8lg5Kz', 1.318359375), ('https://static.whatsapp.net/rsrc.php/v3/yi/l/0,cross/TngFvC3f-F7.css?_nc_x=Ij3Wp8lg5Kz', 14.91796875), ('https://static.whatsapp.net/rsrc.php/v3/yX/l/0,cross/90x4oEKKKqw.css?_nc_x=Ij3Wp8lg5Kz', 9.01953125)]\n",
      "Analyzing 124 of 523: https://www.facebook.com/sharer/sharer.php?u=https://fampay.in/blog/study-habits-that-are-simple-and-highly-effective/\n",
      "Page size: 17.0732421875 KB\n",
      "Resource sizes: [('https://static.xx.fbcdn.net/rsrc.php/v3/y8/r/k97pj8-or6s.png', 0.7900390625), ('https://facebook.com/security/hsts-pixel.gif?c=3.2', 0.0)]\n",
      "Analyzing 125 of 523: https://twitter.com/intent/tweet?text=Study%20habits%20that%20are%20simple%20and%20highly%20effective%20%F0%9F%93%9A&url=https://fampay.in/blog/study-habits-that-are-simple-and-highly-effective/\n",
      "Page size: 167.810546875 KB\n",
      "Resource sizes: [('https://abs.twimg.com/errors/logo46x38.png', 0.9912109375), ('https://abs.twimg.com/responsive-web/client-web-legacy/shared~bundle.Compose~bundle.RichTextCompose.a2fa6b8a.js', 52.9111328125), ('https://abs.twimg.com/responsive-web/client-web-legacy/polyfills.d5242a4a.js', 17.72265625), ('https://abs.twimg.com/responsive-web/client-web-legacy/vendor.3cb7d15a.js', 218.7216796875), ('https://abs.twimg.com/responsive-web/client-web-legacy/i18n/en.213585ba.js', 114.365234375), ('https://abs.twimg.com/responsive-web/client-web-legacy/main.79ac570a.js', 408.1171875)]\n",
      "Analyzing 126 of 523: https://fampay.in/blog/how-to-save-those-extra-bucks-while-shopping/\n",
      "Page size: 39.1357421875 KB\n",
      "Resource sizes: [('https://fampay.in/blog/content/images/2020/11/logofilewhite-11-2.png', 0.130859375), ('https://fampay.in/blog/content/images/2020/11/logofilewhite-11-2.png', 0.130859375), ('/blog/assets/images/success.png?v=22080dfa02', 0.130859375), ('https://cdn.jsdelivr.net/ghost/portal@~2.30/umd/portal.min.js', 170.8154296875), ('https://cdn.jsdelivr.net/ghost/sodo-search@~1.1/umd/sodo-search.min.js', 95.5751953125), ('/blog/public/cards.min.js?v=22080dfa02', 0.130859375), ('/blog/public/member-attribution.min.js?v=22080dfa02', 0.130859375), ('https://www.googletagmanager.com/gtag/js?id=UA-147725948-3', 0.0), ('https://polyfill.io/v3/polyfill.min.js?features=IntersectionObserver%2CPromise%2CArray.prototype.includes%2CString.prototype.endsWith%2CString.prototype.startsWith%2CObject.assign%2CNodeList.prototype.forEach', 14.1123046875), ('/blog/assets/js/vendor/content-api.min.js?v=22080dfa02', 0.130859375), ('/blog/assets/js/manifest.js?v=22080dfa02', 0.130859375), ('/blog/assets/js/vendor.js?v=22080dfa02', 0.130859375), ('/blog/assets/js/app.js?v=22080dfa02', 0.130859375), ('/blog/assets/js/post.js?v=22080dfa02', 0.130859375), ('/blog/assets/css/app.css?v=22080dfa02', 0.130859375), ('/blog/public/cards.min.css?v=22080dfa02', 0.130859375)]\n",
      "Analyzing 127 of 523: https://wa.me/?text=How%20to%20save%20those%20extra%20bucks%20while%20shopping%20%F0%9F%8F%AC%20https://fampay.in/blog/how-to-save-those-extra-bucks-while-shopping/\n",
      "Page size: 165.345703125 KB\n",
      "Resource sizes: [('https://static.whatsapp.net/rsrc.php/v3/yq/r/mdQNdcFMi0p.png', 28.833984375), ('https://static.whatsapp.net/rsrc.php/v3/y7/r/DSxOAUB0raA.png', 28.7744140625), ('https://static.whatsapp.net/rsrc.php/v3/yJ/r/Qhrnh5evyPV.png', 1.193359375), ('https://static.whatsapp.net/rsrc.php/v3/yJ/r/Qhrnh5evyPV.png', 1.193359375), ('https://static.whatsapp.net/rsrc.php/v3/y6/r/TcHIu29ealS.js?_nc_x=Ij3Wp8lg5Kz', 104.8037109375), ('https://static.whatsapp.net/rsrc.php/v3/yO/l/0,cross/zkmfh5mjXuB.css?_nc_x=Ij3Wp8lg5Kz', 1.318359375), ('https://static.whatsapp.net/rsrc.php/v3/yi/l/0,cross/TngFvC3f-F7.css?_nc_x=Ij3Wp8lg5Kz', 14.91796875), ('https://static.whatsapp.net/rsrc.php/v3/yX/l/0,cross/90x4oEKKKqw.css?_nc_x=Ij3Wp8lg5Kz', 9.01953125)]\n",
      "Analyzing 128 of 523: https://www.facebook.com/sharer/sharer.php?u=https://fampay.in/blog/how-to-save-those-extra-bucks-while-shopping/\n",
      "Page size: 17.0341796875 KB\n",
      "Resource sizes: [('https://static.xx.fbcdn.net/rsrc.php/v3/y8/r/k97pj8-or6s.png', 0.7900390625), ('https://facebook.com/security/hsts-pixel.gif?c=3.2', 0.0)]\n",
      "Analyzing 129 of 523: https://twitter.com/intent/tweet?text=How%20to%20save%20those%20extra%20bucks%20while%20shopping%20%F0%9F%8F%AC&url=https://fampay.in/blog/how-to-save-those-extra-bucks-while-shopping/\n",
      "Page size: 167.810546875 KB\n",
      "Resource sizes: [('https://abs.twimg.com/errors/logo46x38.png', 0.9912109375), ('https://abs.twimg.com/responsive-web/client-web-legacy/shared~bundle.Compose~bundle.RichTextCompose.a2fa6b8a.js', 52.9111328125), ('https://abs.twimg.com/responsive-web/client-web-legacy/polyfills.d5242a4a.js', 17.72265625), ('https://abs.twimg.com/responsive-web/client-web-legacy/vendor.3cb7d15a.js', 218.7216796875), ('https://abs.twimg.com/responsive-web/client-web-legacy/i18n/en.213585ba.js', 114.365234375), ('https://abs.twimg.com/responsive-web/client-web-legacy/main.79ac570a.js', 408.1171875)]\n",
      "Analyzing 130 of 523: https://fampay.in/blog/teen-fashion-trends-that-we-love/\n",
      "Page size: 39.8876953125 KB\n",
      "Resource sizes: [('https://fampay.in/blog/content/images/2020/11/logofilewhite-11-2.png', 0.130859375), ('https://fampay.in/blog/content/images/2020/11/logofilewhite-11-2.png', 0.130859375), ('https://fampay.in/blog/content/images/2021/10/image-13.png', 0.130859375), ('https://fampay.in/blog/content/images/2021/10/image-14.png', 0.130859375), ('https://fampay.in/blog/content/images/2021/10/image-15.png', 0.130859375), ('https://fampay.in/blog/content/images/2021/10/image-16.png', 0.130859375), ('/blog/assets/images/success.png?v=22080dfa02', 0.130859375), ('https://cdn.jsdelivr.net/ghost/portal@~2.30/umd/portal.min.js', 170.8154296875), ('https://cdn.jsdelivr.net/ghost/sodo-search@~1.1/umd/sodo-search.min.js', 95.5751953125), ('/blog/public/cards.min.js?v=22080dfa02', 0.130859375), ('/blog/public/member-attribution.min.js?v=22080dfa02', 0.130859375), ('https://www.googletagmanager.com/gtag/js?id=UA-147725948-3', 0.0), ('https://polyfill.io/v3/polyfill.min.js?features=IntersectionObserver%2CPromise%2CArray.prototype.includes%2CString.prototype.endsWith%2CString.prototype.startsWith%2CObject.assign%2CNodeList.prototype.forEach', 14.1123046875), ('/blog/assets/js/vendor/content-api.min.js?v=22080dfa02', 0.130859375), ('/blog/assets/js/manifest.js?v=22080dfa02', 0.130859375), ('/blog/assets/js/vendor.js?v=22080dfa02', 0.130859375), ('/blog/assets/js/app.js?v=22080dfa02', 0.130859375), ('/blog/assets/js/post.js?v=22080dfa02', 0.130859375), ('/blog/assets/css/app.css?v=22080dfa02', 0.130859375), ('/blog/public/cards.min.css?v=22080dfa02', 0.130859375)]\n",
      "Analyzing 131 of 523: https://wa.me/?text=Teen%20fashion%20trends%20that%20you%20really%20don't%20want%20to%20miss%F0%9F%91%95%F0%9F%98%8D%20https://fampay.in/blog/teen-fashion-trends-that-we-love/\n",
      "Page size: 165.400390625 KB\n",
      "Resource sizes: [('https://static.whatsapp.net/rsrc.php/v3/yq/r/mdQNdcFMi0p.png', 28.833984375), ('https://static.whatsapp.net/rsrc.php/v3/y7/r/DSxOAUB0raA.png', 28.7744140625), ('https://static.whatsapp.net/rsrc.php/v3/yJ/r/Qhrnh5evyPV.png', 1.193359375), ('https://static.whatsapp.net/rsrc.php/v3/yJ/r/Qhrnh5evyPV.png', 1.193359375), ('https://static.whatsapp.net/rsrc.php/v3/y6/r/TcHIu29ealS.js?_nc_x=Ij3Wp8lg5Kz', 104.8037109375), ('https://static.whatsapp.net/rsrc.php/v3/yO/l/0,cross/zkmfh5mjXuB.css?_nc_x=Ij3Wp8lg5Kz', 1.318359375), ('https://static.whatsapp.net/rsrc.php/v3/yi/l/0,cross/TngFvC3f-F7.css?_nc_x=Ij3Wp8lg5Kz', 14.91796875), ('https://static.whatsapp.net/rsrc.php/v3/yX/l/0,cross/90x4oEKKKqw.css?_nc_x=Ij3Wp8lg5Kz', 9.01953125)]\n",
      "Analyzing 132 of 523: https://www.facebook.com/sharer/sharer.php?u=https://fampay.in/blog/teen-fashion-trends-that-we-love/\n",
      "Page size: 16.9521484375 KB\n",
      "Resource sizes: [('https://static.xx.fbcdn.net/rsrc.php/v3/y8/r/k97pj8-or6s.png', 0.7900390625), ('https://facebook.com/security/hsts-pixel.gif?c=3.2', 0.0)]\n",
      "Analyzing 133 of 523: https://twitter.com/intent/tweet?text=Teen%20fashion%20trends%20that%20you%20really%20don't%20want%20to%20miss%F0%9F%91%95%F0%9F%98%8D&url=https://fampay.in/blog/teen-fashion-trends-that-we-love/\n",
      "Page size: 167.810546875 KB\n",
      "Resource sizes: [('https://abs.twimg.com/errors/logo46x38.png', 0.9912109375), ('https://abs.twimg.com/responsive-web/client-web-legacy/shared~bundle.Compose~bundle.RichTextCompose.a2fa6b8a.js', 52.9111328125), ('https://abs.twimg.com/responsive-web/client-web-legacy/polyfills.d5242a4a.js', 17.72265625), ('https://abs.twimg.com/responsive-web/client-web-legacy/vendor.3cb7d15a.js', 218.7216796875), ('https://abs.twimg.com/responsive-web/client-web-legacy/i18n/en.213585ba.js', 114.365234375), ('https://abs.twimg.com/responsive-web/client-web-legacy/main.79ac570a.js', 408.1171875)]\n",
      "Analyzing 134 of 523: https://fampay.in/blog/how-to-build-your-resume-and-portfolio-right-from-school/\n",
      "Page size: 42.8212890625 KB\n",
      "Resource sizes: [('https://fampay.in/blog/content/images/2020/11/logofilewhite-11-2.png', 0.130859375), ('https://fampay.in/blog/content/images/2020/11/logofilewhite-11-2.png', 0.130859375), ('https://fampay.in/blog/content/images/2021/10/image-8.png', 0.130859375), ('https://fampay.in/blog/content/images/2021/10/image-11.png', 0.130859375), ('https://fampay.in/blog/content/images/2021/10/image-10.png', 0.130859375), ('https://fampay.in/blog/content/images/2021/10/image-12.png', 0.130859375), ('/blog/assets/images/success.png?v=22080dfa02', 0.130859375), ('https://cdn.jsdelivr.net/ghost/portal@~2.30/umd/portal.min.js', 170.8154296875), ('https://cdn.jsdelivr.net/ghost/sodo-search@~1.1/umd/sodo-search.min.js', 95.5751953125), ('/blog/public/cards.min.js?v=22080dfa02', 0.130859375), ('/blog/public/member-attribution.min.js?v=22080dfa02', 0.130859375), ('https://www.googletagmanager.com/gtag/js?id=UA-147725948-3', 0.0), ('https://polyfill.io/v3/polyfill.min.js?features=IntersectionObserver%2CPromise%2CArray.prototype.includes%2CString.prototype.endsWith%2CString.prototype.startsWith%2CObject.assign%2CNodeList.prototype.forEach', 14.1123046875), ('/blog/assets/js/vendor/content-api.min.js?v=22080dfa02', 0.130859375), ('/blog/assets/js/manifest.js?v=22080dfa02', 0.130859375), ('/blog/assets/js/vendor.js?v=22080dfa02', 0.130859375), ('/blog/assets/js/app.js?v=22080dfa02', 0.130859375), ('/blog/assets/js/post.js?v=22080dfa02', 0.130859375), ('/blog/assets/css/app.css?v=22080dfa02', 0.130859375), ('/blog/public/cards.min.css?v=22080dfa02', 0.130859375)]\n",
      "Analyzing 135 of 523: https://wa.me/?text=How%20to%20build%20your%20resume%20right%20from%20school%20%F0%9F%9A%80%20https://fampay.in/blog/how-to-build-your-resume-and-portfolio-right-from-school/\n",
      "Page size: 165.3896484375 KB\n",
      "Resource sizes: [('https://static.whatsapp.net/rsrc.php/v3/yq/r/mdQNdcFMi0p.png', 28.833984375), ('https://static.whatsapp.net/rsrc.php/v3/y7/r/DSxOAUB0raA.png', 28.7744140625), ('https://static.whatsapp.net/rsrc.php/v3/yJ/r/Qhrnh5evyPV.png', 1.193359375), ('https://static.whatsapp.net/rsrc.php/v3/yJ/r/Qhrnh5evyPV.png', 1.193359375), ('https://static.whatsapp.net/rsrc.php/v3/y6/r/TcHIu29ealS.js?_nc_x=Ij3Wp8lg5Kz', 104.8037109375), ('https://static.whatsapp.net/rsrc.php/v3/yO/l/0,cross/zkmfh5mjXuB.css?_nc_x=Ij3Wp8lg5Kz', 1.318359375), ('https://static.whatsapp.net/rsrc.php/v3/yi/l/0,cross/TngFvC3f-F7.css?_nc_x=Ij3Wp8lg5Kz', 14.91796875), ('https://static.whatsapp.net/rsrc.php/v3/yX/l/0,cross/90x4oEKKKqw.css?_nc_x=Ij3Wp8lg5Kz', 9.01953125)]\n",
      "Analyzing 136 of 523: https://www.facebook.com/sharer/sharer.php?u=https://fampay.in/blog/how-to-build-your-resume-and-portfolio-right-from-school/\n",
      "Page size: 17.12109375 KB\n",
      "Resource sizes: [('https://static.xx.fbcdn.net/rsrc.php/v3/y8/r/k97pj8-or6s.png', 0.7900390625), ('https://facebook.com/security/hsts-pixel.gif?c=3.2', 0.0)]\n",
      "Analyzing 137 of 523: https://twitter.com/intent/tweet?text=How%20to%20build%20your%20resume%20right%20from%20school%20%F0%9F%9A%80&url=https://fampay.in/blog/how-to-build-your-resume-and-portfolio-right-from-school/\n",
      "Page size: 167.810546875 KB\n",
      "Resource sizes: [('https://abs.twimg.com/errors/logo46x38.png', 0.9912109375), ('https://abs.twimg.com/responsive-web/client-web-legacy/shared~bundle.Compose~bundle.RichTextCompose.a2fa6b8a.js', 52.9111328125), ('https://abs.twimg.com/responsive-web/client-web-legacy/polyfills.d5242a4a.js', 17.72265625), ('https://abs.twimg.com/responsive-web/client-web-legacy/vendor.3cb7d15a.js', 218.7216796875), ('https://abs.twimg.com/responsive-web/client-web-legacy/i18n/en.213585ba.js', 114.365234375), ('https://abs.twimg.com/responsive-web/client-web-legacy/main.79ac570a.js', 408.1171875)]\n",
      "Analyzing 138 of 523: https://fampay.in/blog/productivity-hacks-for-teens-this-will-change-your-life/\n",
      "Page size: 39.5654296875 KB\n",
      "Resource sizes: [('https://fampay.in/blog/content/images/2020/11/logofilewhite-11-2.png', 0.130859375), ('https://fampay.in/blog/content/images/2020/11/logofilewhite-11-2.png', 0.130859375), ('https://fampay.in/blog/content/images/2021/10/image.png', 0.130859375), ('https://fampay.in/blog/content/images/2021/10/image-2.png', 0.130859375), ('https://fampay.in/blog/content/images/2021/10/image-4.png', 0.130859375), ('https://fampay.in/blog/content/images/2021/10/image-6.png', 0.130859375), ('https://fampay.in/blog/content/images/2021/10/image-7.png', 0.130859375), ('/blog/assets/images/success.png?v=22080dfa02', 0.130859375), ('https://cdn.jsdelivr.net/ghost/portal@~2.30/umd/portal.min.js', 170.8154296875), ('https://cdn.jsdelivr.net/ghost/sodo-search@~1.1/umd/sodo-search.min.js', 95.5751953125), ('/blog/public/cards.min.js?v=22080dfa02', 0.130859375), ('/blog/public/member-attribution.min.js?v=22080dfa02', 0.130859375), ('https://www.googletagmanager.com/gtag/js?id=UA-147725948-3', 0.0), ('https://polyfill.io/v3/polyfill.min.js?features=IntersectionObserver%2CPromise%2CArray.prototype.includes%2CString.prototype.endsWith%2CString.prototype.startsWith%2CObject.assign%2CNodeList.prototype.forEach', 14.1123046875), ('/blog/assets/js/vendor/content-api.min.js?v=22080dfa02', 0.130859375), ('/blog/assets/js/manifest.js?v=22080dfa02', 0.130859375), ('/blog/assets/js/vendor.js?v=22080dfa02', 0.130859375), ('/blog/assets/js/app.js?v=22080dfa02', 0.130859375), ('/blog/assets/js/post.js?v=22080dfa02', 0.130859375), ('/blog/assets/css/app.css?v=22080dfa02', 0.130859375), ('/blog/public/cards.min.css?v=22080dfa02', 0.130859375)]\n",
      "Analyzing 139 of 523: https://wa.me/?text=Productivity%20hacks%20for%20teens%20-%20Easy%20habits%20to%20upgrade%20your%20life%F0%9F%8E%AF%20https://fampay.in/blog/productivity-hacks-for-teens-this-will-change-your-life/\n",
      "Page size: 165.4931640625 KB\n",
      "Resource sizes: [('https://static.whatsapp.net/rsrc.php/v3/yq/r/mdQNdcFMi0p.png', 28.833984375), ('https://static.whatsapp.net/rsrc.php/v3/y7/r/DSxOAUB0raA.png', 28.7744140625), ('https://static.whatsapp.net/rsrc.php/v3/yJ/r/Qhrnh5evyPV.png', 1.193359375), ('https://static.whatsapp.net/rsrc.php/v3/yJ/r/Qhrnh5evyPV.png', 1.193359375), ('https://static.whatsapp.net/rsrc.php/v3/y6/r/TcHIu29ealS.js?_nc_x=Ij3Wp8lg5Kz', 104.8037109375), ('https://static.whatsapp.net/rsrc.php/v3/yO/l/0,cross/zkmfh5mjXuB.css?_nc_x=Ij3Wp8lg5Kz', 1.318359375), ('https://static.whatsapp.net/rsrc.php/v3/yi/l/0,cross/TngFvC3f-F7.css?_nc_x=Ij3Wp8lg5Kz', 14.91796875), ('https://static.whatsapp.net/rsrc.php/v3/yX/l/0,cross/90x4oEKKKqw.css?_nc_x=Ij3Wp8lg5Kz', 9.01953125)]\n",
      "Analyzing 140 of 523: https://www.facebook.com/sharer/sharer.php?u=https://fampay.in/blog/productivity-hacks-for-teens-this-will-change-your-life/\n",
      "Page size: 17.1142578125 KB\n",
      "Resource sizes: [('https://static.xx.fbcdn.net/rsrc.php/v3/y8/r/k97pj8-or6s.png', 0.7900390625), ('https://facebook.com/security/hsts-pixel.gif?c=3.2', 0.0)]\n",
      "Analyzing 141 of 523: https://twitter.com/intent/tweet?text=Productivity%20hacks%20for%20teens%20-%20Easy%20habits%20to%20upgrade%20your%20life%F0%9F%8E%AF&url=https://fampay.in/blog/productivity-hacks-for-teens-this-will-change-your-life/\n",
      "Page size: 167.810546875 KB\n",
      "Resource sizes: [('https://abs.twimg.com/errors/logo46x38.png', 0.9912109375), ('https://abs.twimg.com/responsive-web/client-web-legacy/shared~bundle.Compose~bundle.RichTextCompose.a2fa6b8a.js', 52.9111328125), ('https://abs.twimg.com/responsive-web/client-web-legacy/polyfills.d5242a4a.js', 17.72265625), ('https://abs.twimg.com/responsive-web/client-web-legacy/vendor.3cb7d15a.js', 218.7216796875), ('https://abs.twimg.com/responsive-web/client-web-legacy/i18n/en.213585ba.js', 114.365234375), ('https://abs.twimg.com/responsive-web/client-web-legacy/main.79ac570a.js', 408.1171875)]\n",
      "Analyzing 142 of 523: https://fampay.in/blog/page/2/\n",
      "Page size: 34.6982421875 KB\n",
      "Resource sizes: [('https://fampay.in/blog/content/images/2020/11/logofilewhite-11-2.png', 0.130859375), ('https://fampay.in/blog/content/images/2020/11/logofilewhite-11-2.png', 0.130859375), ('https://cdn.jsdelivr.net/ghost/portal@~2.30/umd/portal.min.js', 170.8154296875), ('https://cdn.jsdelivr.net/ghost/sodo-search@~1.1/umd/sodo-search.min.js', 95.5751953125), ('/blog/public/cards.min.js?v=22080dfa02', 0.130859375), ('/blog/public/member-attribution.min.js?v=22080dfa02', 0.130859375), ('https://www.googletagmanager.com/gtag/js?id=UA-147725948-3', 0.0), ('https://polyfill.io/v3/polyfill.min.js?features=IntersectionObserver%2CPromise%2CArray.prototype.includes%2CString.prototype.endsWith%2CString.prototype.startsWith%2CObject.assign%2CNodeList.prototype.forEach', 14.1123046875), ('/blog/assets/js/vendor/content-api.min.js?v=22080dfa02', 0.130859375), ('/blog/assets/js/manifest.js?v=22080dfa02', 0.130859375), ('/blog/assets/js/vendor.js?v=22080dfa02', 0.130859375), ('/blog/assets/js/app.js?v=22080dfa02', 0.130859375), ('/blog/assets/js/home.js?v=22080dfa02', 0.130859375), ('/blog/assets/css/app.css?v=22080dfa02', 0.130859375), ('/blog/public/cards.min.css?v=22080dfa02', 0.130859375)]\n",
      "Analyzing 143 of 523: https://fampay.in/blog/page/3/\n",
      "Page size: 34.6455078125 KB\n",
      "Resource sizes: [('https://fampay.in/blog/content/images/2020/11/logofilewhite-11-2.png', 0.130859375), ('https://fampay.in/blog/content/images/2020/11/logofilewhite-11-2.png', 0.130859375), ('https://cdn.jsdelivr.net/ghost/portal@~2.30/umd/portal.min.js', 170.8154296875), ('https://cdn.jsdelivr.net/ghost/sodo-search@~1.1/umd/sodo-search.min.js', 95.5751953125), ('/blog/public/cards.min.js?v=22080dfa02', 0.130859375), ('/blog/public/member-attribution.min.js?v=22080dfa02', 0.130859375), ('https://www.googletagmanager.com/gtag/js?id=UA-147725948-3', 0.0), ('https://polyfill.io/v3/polyfill.min.js?features=IntersectionObserver%2CPromise%2CArray.prototype.includes%2CString.prototype.endsWith%2CString.prototype.startsWith%2CObject.assign%2CNodeList.prototype.forEach', 14.1123046875), ('/blog/assets/js/vendor/content-api.min.js?v=22080dfa02', 0.130859375), ('/blog/assets/js/manifest.js?v=22080dfa02', 0.130859375), ('/blog/assets/js/vendor.js?v=22080dfa02', 0.130859375), ('/blog/assets/js/app.js?v=22080dfa02', 0.130859375), ('/blog/assets/js/home.js?v=22080dfa02', 0.130859375), ('/blog/assets/css/app.css?v=22080dfa02', 0.130859375), ('/blog/public/cards.min.css?v=22080dfa02', 0.130859375)]\n",
      "Analyzing 144 of 523: https://www.instagram.com/fampay.in/\n",
      "Page size: 311.5439453125 KB\n",
      "Resource sizes: [('data:image/png;base64,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', 0.0), ('data:image/png;base64,iVBORw0KGgoAAAANSUhEUgAAAJAAAABKCAYAAABU493xAAAS4ElEQVR4Ae3bV39Vd9739/f3vwXGNjOW7yu9eXOl12HSj2Jxn6THdp6ARXo3Tu+I9A6kHiKeQAand+Qc5SiD07s36XUsrmJjo72+WSl6BbCQZV9ze4bM/qzXe/f9Xwv0U9eOl7i//G/5Rz6QvEt3oM3hutNV3LPpe2nrL/6b/2EvY1uLcVN7jTou6fZItn1vbRpjxMvm3Jh2tNdAp9uxvjTL7NLrjz+/N7Px/diaT7xsfXHhtXcBBzKu1XFW8302fX+N+T/cy4b8CKof12b7RW6jXr7tl6dNW16SXnv8xfbjC69sQw2QeiOZlp5tBXDh8Zf/93Pm80PM+K0Lr+zEYpn0EPdO3NcXX2z/9vGnSdR6dfHxlw9w6AXN+1nC0/v67XPnLlvMkPRwXvfgpDWOj+l4XzjwkpS/5G/9B70MxWJ3cMc3tLa+ggMYxl7kOg5ifbW27tAdxxFPFevlCY85TpNbr33x2zdweMLXZZ9iOXF1YX1w4jpxWL2BW9Dk8phy84T9rZp+iHt+yRsjw8sgUw+xwgxoHWL1nBOrxX268/Rznh+eqVs/pTugeYD9xj2sIO21eVB+im0vKPLW8b6O1yAHoLbT3Jw67YxOy6xzn+6Qg2cexzJyZ3Razvwy2xqdvBQN9zCjtu7THentsuephuGEdkCn2699+XgPh55tex6M+0m36Sqmq+IAUsftTl3cTCznx/4EV5xQ0mvaw5iuiAMct6zFfSwXFtfLMpkOY3qPZx83dfHTsN3mGma/vI02XjbfpeqNJtc+v/Dq4czT/t+vd5YQ0xUc+Hr7I+sPATtr69n/tzmutqeR99ZjcTDzlFWn3gbstLZfsK/VSG+DMd6f+WU2jOGl863rKuwFJxnNB4D9WqxmXuD404xF8+7MsWcGbfJg5mvGdA8gce9F+xrro3ugtl/94vPtmV9WYz7xsvn2ZUW8UHoZOvWjmdPQT6BjvD1z7LiJj2dOsrZYAayt785O3KbFOAR48vrFN2Z+WY35xMvm51mslwDTmA5nTtOpK0htzxz7VW04bpOsp8OZ0zzTps0A1WLluMW5yzOnycgSsLLJsAk5gNG+M3MavAM6fTJz7Fe1YZM4uguSd9eZdmZOkozrWELSWzPHflUbNqnFvnoAC4s7sdidOTb/Hmx72Lpe3QOdbrdZzRz7VW3LJpCs3zv+SfHgTpubSR+I7c9feX0Z3YbGPRnXPFfqV7JhE6jFKtZXqndbh0m3saMuJ91uHTb9kL5HPe9XtfzVf8c/ZtPX+6rT5cW03oZTflG76a+Y/5xjY+M72gzQxmaANjYDtLEZoI3NAG1sbAZoYzNAG5sB2tgM0MbGZoA2NgO0sRmgjc0AbWxsBmhjM0AbmwHa2AzQxsZmgDY2A7SxGaCNzQBt/OrKfOIs/XP//e0dIz9ylG0GR/nEV4sDHPq2HW7vmBY/ItvWHs0e4MBL16b0T/+Tndof899eN+XabFtTHTHFjA6m7HviBla+qd/e/sBkz5Q3TlhnpYs93PU76X/+vbetx03rMA1miqkf4Z7fYY//jz9geW6M6zDBtFCcd34PD/2Klfo7nNjuP7O0tfUTUy5rmMbTb+yZ6sjs+PKHuO2k/o9p27kf/ISx8+zQHJ+bDRo6Dny5voqV79Lh77d0ND59Zu0OmpUnj3+MQ75768PlnSa7hKYVk5EaV3Dge+yz8eu3Mo03iInZdPf7Pobx31t6nr9iHp7z4z69TGnRUhStJCiF4Ja6rjzjt88vXXj9p4YdbZnFc+shCNhxbuvfwdJ3rgRKgsLSeO3azHe1PvyD3pXuUo6LJHD0vRtT35HuVncTuzGWM9+n8fwNf9Bf8Tct1X26pBVEERREKBFP11w3jdlg5mfTtjHu4y1KBI/oDaa/0MgVna5hRWlR0kvOnb/Phe2ZbweB9mtDFB+YPt+e+S6SxU3HtaUgbf2iaoVq/SLa8nzpfc0SJFEkEQe4y7SSc9syvaPdFSQoQbNnAjdcfOWOqUsJBQ+cy3tYAUdwwPq237qwp65rS6LT0qI3cdW3rpVES0KLYHrDeO0D3PAtWz/6td2YlppKAj0+j6hfTEGJ1C+g4an+wL/qw+vS5QxQUkw3jPUV5472nT86cP6Ley58eZUnl8jK0wXJdR0/Ie8CJV15Mq54bDXzNVuP99SeiLYC2bXuzsyZAQGUogURumealjPfxphcJzIXiERpS/1iqiCoZqGd+T6N4wt/4F/xVy+N7oEgoHTPmGaTr7n41UpyxbACEZ2KiHdpBemnxrTjtS8PZ17odz26gQMBpIzFnZkzg0ArBXgkOJbFnZkzO/xd1+mSclxbVSp+caVpTUlYS2a+T1trAV5ZXLcuCVNJiU/EDaf1w0crv/HGFfFT7baMUISIYurfg4fOVK9K/hstUvqWqbvYd+aKBKXoXckHGiDdMY0dHPimDi8uxS6VplMatZ+M3YJQdYYeu7g9jN3wduVyMpZtMDrxMXnAdBsrJ3Tk4nUGsyMydLuaSKfK0HcqS7Y6mcIwjK4tPsE9L+hL53a2xtb705QdxrLS8kgWD9rexT6sjSVb7w/DkSkM+Y/92/6Ya3/u0rT4VMMUs+oILmHlLP1v2++Sf15HTKFhGjMf4V3fpv/9125p/rpZTIMpB7jiLH325lL7qWl46t9zRXPdNN42hY7oGdd89IM77dglKhirqdNV2br/1G3Wdeq38cNr7xxl3Kos27QZIYgea8igYw83PNfaK1MjFbropGFoQgfSSkgnCaPNXLOPq57ricWSc3cqOwwVjDbCOD6eTu3DSa5uWXQtB00wqjGGATtSTxXD/mw1cya/7+E96W1KQAXJOzpdnjmzhX2EEMQO4+2Zb4a2lLYCWPcGjYRAdnS8PfNCn/1gqXYDCEbtbUkDCKjTmrx2/WjkXllWiWipzgElAaR7E3dmnlZNi0JFCpFSIkJJQhAwfc0T5y8nW/9+2QGKEpQq0GZuOeR+5d1QRRuaQan3UUqQ1uTuzLeSvCvQ54w7M2e2/X88EAeUY+mVmW8EcSyO23JAZg1QTPszL7RwHdUWcNBMd0FbKtRpjQvXY7pumkQFCg6jn0QO2j5AtaKqBu/jpqcLAVpNZwntlNA5ZglQDfV8T5xbRn+i3gwgSYEpdNV2JYVqBTVdExKoYvxR1373tmGHEijJymI6mDmzn20ff6FZTxckl3Vcmzkz0z0pQNXbyjcCQgu0jlvkqkBJSZam7M18zW+9uiN9XxCh0u7OgEiq1cTJPba17NQ9SVDtLJ+FD4e+GdOPh6MrW45+XP11yaplNG2ayAeTaWdmMjnq0aUji0tr49cnuRRWVUnA4NqXvrr0ZR9f+qq99MR06UnX8/n6w5lji+QOlqJUgvbhMK6N9s2F6dI560u/1SdvVv8isiqEdkpbEGxZnN8xtZJoEfRj36b/4/UlvU4gtJJQqpKIv9vnX+zj0Fma3vxYABHtjmb7TM8Pijz/9j1a6dYeZlAyPpDFra+tO3LH1KASmezTh3CkCSB0arH2fBecv45WM2eSR5or+MRznfNk9aTTj3ntfjNdThdtmoWt6ziABSseO+5JX5GmTVPB9OiCxQp44qSOvLoz1Q6lCGpFrjCtPNU2h3y1j3tPvHoT7zdzBaqGuoygqJT4SDi78/elEQTxEV2hkgDedOG1mzNn8muHD3AoRVGSH82cCrQiCK2tI44dPb6NQwHotmn6YMaxx2MXS0EEHptuzMxsSQORSkR8rQtLsUtBiU43ePLJzEnOWR+y/jBNmylabS+ntmeeB4hC4wzV4oNEk5AmVb66wuPVzAscnvPFh20fhkoVMMSPBBoRcPTkwcyZ/OwH1+lSoCjT9KHkmghFCWKXaWfmbKwcl9BemjkVRE78OgguOpTe1pYSxDVffbWcMSPXKQpM3bvAambmSFMFWoNuSWeOYYcSiRaHiVszpzmfzw+aPkyRSGyv2Zl5HqAJsD4D8XbbqGpF7w6L1czpnhyW29ooUdSQvgUo4NC5xWrmGx1uL8ke9VQ3bFlZHH1EDwSBEnRxc+ZM0geCwGT21szpHgNaL+ro8S3xUAK0bzj3yvUZ47XrWAoSWOGuF5RQQkMdG8k7aRtaSUwfz5yF9mOBqgo/Cp4HTGkrqYXRmRfh3GXtmwENTPrRzFksjJ9WJQhJuoVLgggYXTlr58ZNUzFoSVaO7Dsu45p6ACgluayu4ZYzVRKEkaUz1RIU6vkuOvSFD+lPJETorvXigO5KqGpDb1hYeaqt9bmWThpVSY48W3S7EdBi/Bni06khw9SoIBgkKgjJNihJlKUTStC0RGGKU1p47Y0ppRVpNaxXztgWJtEitM2gbwClLTkkvtFnP3yfvgMUmKYbzq1XM2a2vvhEp1u0IpIZ5Lov18uZU8VD0FacvUAJRuKkXv3invaAAlSmfemSkkasLOzPPANtAUVt8Yy2SwUE6ZutZZIlliMzZnkr6ZIuw5JZuz1DtRNeoFVN4kw90UsKVBMpX61mzuLIOlKUFjUkkRJEmHyjRz9YSvcQgRIrW/ZnnjGObohHFAVi2ytbd2ZONU0VRChnLyJAkRJf094QKBrHBW112pv5Gt98TCMOg7SNgmi1TZUSpPFUqcYsAUlElvH1DRK0nOlTGAIpRfOKH74xcxYcgYRIgy2KAOpMjfV16/GWlCqhveqkLhwd+u0LH9I7QBGandkHuO1FDbRQSdQZa0EaTWmc1MXHB3779QOxoyqiUDI+tnDXCR09aRbSEpFo6/m6klxuG02Z/t1J7tBM1nSBCcN6xnHFoEdiYV0WfOaEqiJIVdamOKXhqwft+UoRpV/28Zt46EydpwXVVGxJV9olSGiWTuu3Ln6gdilCRLpv0QMv6oe/se/RD96X7khoCZo9T8ZHWDmpkcvWiGhLH/mmLuBJogBFvLCur7L4VBLtU4M63/6Ctqw7WSSiZsRzpVa0MlKSjj9kwV1qAY4cd85364nfj5Y0Gqy/4fHnVltoG1KaYbGDB75NiVSRoVao42JpOvrRzNc8emVJbwmiAlbavZlTbeUqPaTEsW1bvTNzovayACIyfTpzKtAKIOK0Lj5ekfckN8Tfw7QnvWphNXOip0qnOqG16SNJHJdeIm8TPzeJSLWCWLwx8yKvenJIPwmlSBvvzJxFbL2foCUiDMmBNIJAa2ztzTzjN19fOjfu03qm3rDow5lT/eBwhT2gBYq+TW9Sz/j81V2x1KkUGNPHM6eCCEgBR6e7eHjPxZ/t+eFs+2c3vPm/78+8yJFFQqlGhtZzbTk6oIcUBTXtP/ab2zPf5ImL7z/22nLmRdIeThpAw+XgNPQjRIQmtdO6NnOao77xfnVXC7SCYfgYBApR75rGHdPibV/Nvjx33Sv5qViKUCJM+8b/zZn82me3pQciWoKIKR+Y9+do7Hh8fsdXF64b65uUkQjSleSBs/8kmrZSv0dqzaq0Tq69pQRthbfOu3ifC8uZk21vj/H73Zxin8WdmReZ9JOESGmi70zWy5kXOXJ0S3ymQFXkJq55QZPXP6j1fpVEArST/Gf+dX/k3/Tn3tfsPP03NE+9XCemQWdr1REN01gZix089G36H95YGuO+KcunXtJTTUwDs3Voakpm1RFxFfu+qcMfLh2NTzUcH/O6vxsHfk4d/ffLnUXcJ3qsufL8Pn6L7Vdz4SetHUaJChmm9u5k8VE4hNh6q8PlaRq7jDdKZGhzCx86oSde2WXcIWRoRyceDjmYjIO1ZLA9cYh9gDr/QS1ulhDNoFFjRQ7WfLyQThaXsduM7TaeOv4SU5NBWBwdf31SQCkRxykBtCsdV6z7cOZb+f0OV3hPHFIgggo6EWgEQbqi+9Q3Q0BBElv8PG05QmnrlC5y2LqKlUg1VDWR90f8JMl9Gfeb7reuhTekgVTpu2xtzzzvnPU9spJoCxLLKXbDnaF3KjdjvD1zbDi6Te8GSRop0CXdXSR3yr70g+q2KkUPQJvOokbUf/EP/esrI9ekoahnSgGNMa0s1u8593g18538gf/jA+kVunJchEIpgcJDeoU6G2hFaAVH6czPDdI5AqFe0JbHK1xJe09ATvw5UlN1HGEy/ZN8/mMeHc6c4PCcxbtMh8AUraBpIOqkFr66Wr2taCMkgCqozKHBjS1jL6FASQdB/Bf/yL9813pxCQdGIhwDKXHP6BULD2Z+R/6QeYhy7ophX1qKPj9IB+oKVr5NSSgRsNXM/NxIG0laigZOG6KFL96bOl2VPBgUIihVaaD6SHur7RV6jVcOZ17ss0/WXfw4HAiRaqmCU4f7q2tr/YuqK60ZqAZC5w5qfYWjPUCDEJr85/51z/dHXHtnaeo7LN40jZry0PnFPRz6PdF/tlx64rLOpgErj88fYOX/hz3+9/6s5RNHl2PrsoEprTwcFg+eeLLC4Xda1++7HHp5srjM6OzhkWl1ZOvBN6/5+mXMspwwjBXjAWYv7v8Et4Nz+w5xmR4AAAAASUVORK5CYII=', 0.0), ('https://static.cdninstagram.com/rsrc.php/v3/yJ/r/jhqrywW-9cq.js?_nc_x=Ij3Wp8lg5Kz', 73.318359375), ('https://static.cdninstagram.com/rsrc.php/v3iKt64/y2/l/en_US/WuQ6ssx3D5R-U57pDg_5N7e1BUfiZYPKDHyI2-3352wNNnFgQzcr75YA3cXYCBTKTwWu0tl_U2vuoNHqNV-WcR_zaJ_imjBVheqwG-6XemuMpVna2HqGMMrINF5p0zgErWSOn1F8NvoaxFk-j2J2UeJxx_.js?_nc_x=Ij3Wp8lg5Kz', 777.861328125), ('https://static.cdninstagram.com/rsrc.php/v3i-Ad4/yZ/l/en_US/2eHVT98U-PL_yfEtAlxOBSnTjhMveA1x2eUK5r2vRhb9e3ZB7KM6SAsGYNV2vggSuP-WzKjBGIEmwED68KFpIEzI0SxSQxjA8rcLd_WJpUmarIEKg-GNk9tZI8Bl2bmn551VYojj7aSfL8UTv6kMGlYO0tP087Opo3FC6SsTf8IFWGGMgW296g0itZZl4S9TPgcmF3IohmRQ2b689sIcNz5Fd-7qpKNtD65R1nEsrzLL3gtdIOWtmw1z4KICpWcKJEeLSoILISE7f2rGDZjIOVtds0DcQrrQVZ5A_gvO-vsWqehdEtWwJbsRr4lFiLIDQVEH-g-FDC.js?_nc_x=Ij3Wp8lg5Kz', 106.318359375), ('https://static.cdninstagram.com/rsrc.php/v3iwUT4/y_/l/en_US/VEI4caNYYSI.js?_nc_x=Ij3Wp8lg5Kz', 523.595703125), ('https://static.cdninstagram.com/rsrc.php/v3idBq4/yy/l/en_US/j6escAZYAkS.js?_nc_x=Ij3Wp8lg5Kz', 8.8447265625), ('https://static.cdninstagram.com/rsrc.php/v3/y5/r/Brqo5LcMGNg.js?_nc_x=Ij3Wp8lg5Kz', 53.552734375), ('https://static.cdninstagram.com/rsrc.php/v3/yR/l/0,cross/1BXx6dHUkbKIpzSENsoegaHXjO_ff2gCNxMi3M3-CAHoXqh7xyVs7TQ.css?_nc_x=Ij3Wp8lg5Kz', 115.6328125), ('data:text/css; charset=utf-8;base64,Ym9keS5fYTN3ZntiYWNrZ3JvdW5kOnJnYih2YXIoLS1pZy1wcmltYXJ5LWJhY2tncm91bmQpKTtjb2xvcjpyZ2IodmFyKC0taWctcHJpbWFyeS10ZXh0KSk7Zm9udC1mYW1pbHk6dmFyKC0tZm9udC1mYW1pbHktc3lzdGVtKTtmb250LXNpemU6dmFyKC0tc3lzdGVtLTE0LWZvbnQtc2l6ZSk7bGluZS1oZWlnaHQ6dmFyKC0tc3lzdGVtLTE0LWxpbmUtaGVpZ2h0KTttYXJnaW46MDtvdmVyZmxvdy15OnZpc2libGV9I2Jvb3Rsb2FkZXJfRm00Y3JmcHtoZWlnaHQ6NDJweDt9LmJvb3Rsb2FkZXJfRm00Y3JmcHtkaXNwbGF5OmJsb2NrIWltcG9ydGFudDt9', 0.0)]\n",
      "Analyzing 145 of 523: https://www.linkedin.com/company/fampay/\n",
      "Page size: 1.494140625 KB\n",
      "Resource sizes: []\n",
      "Analyzing 146 of 523: https://fampay.in/careers\n",
      "Page size: 22.8056640625 KB\n",
      "Resource sizes: [('/assets/images/icons/common/partyCapIcon.svg', 0.130859375), ('/assets/images/icons/common/partyFaceIcon.svg', 0.130859375), ('/assets/images/icons/common/singleGreyArrowIcon.svg', 0.130859375), ('/assets/images/icons/common/headerWhiteLogoIcon.svg', 0.130859375), ('/assets/images/images/pages/careers/famWork1Image.png', 0.130859375), ('/assets/images/images/pages/careers/famWork2Image.png', 0.130859375), ('/assets/images/images/pages/careers/famWork3Image.png', 0.130859375), ('/assets/images/images/pages/careers/famWork4Image.png', 0.130859375), ('/assets/images/icons/common/instagramColorIcon.svg', 0.130859375), ('/assets/images/icons/common/instagramColorIcon.svg', 0.130859375), ('/assets/images/icons/common/instagramColorIcon.svg', 0.130859375), ('/assets/images/icons/common/twitterColorIcon.svg', 0.130859375), ('/assets/images/icons/common/linkedinColorIcon.png', 0.130859375), ('/assets/images/images/pages/careers/famPerk2Image.jpg', 0.130859375), ('/assets/images/images/pages/careers/famPerk3Image.jpg', 0.130859375), ('/assets/images/images/pages/careers/famPerk4Image.jpg', 0.130859375), ('/assets/images/images/pages/careers/famPerk5Image.jpg', 0.130859375), ('/assets/images/images/pages/careers/famPerk5Image.jpg', 0.130859375), ('/assets/images/icons/common/headerWhiteLogoIcon.svg', 0.130859375), ('/assets/images/icons/common/facebookGreyIcon.svg', 0.130859375), ('/assets/images/icons/common/mediumGreyIcon.svg', 0.130859375), ('/assets/images/icons/common/instagramGreyIcon.svg', 0.130859375), ('/assets/images/icons/common/linkedinGreyIcon.svg', 0.130859375), ('/assets/images/icons/common/twitterGreyIcon.svg', 0.130859375), ('/assets/images/icons/common/discordGreyIcon.svg', 0.130859375), ('/assets/images/icons/common/snapchatGreyIcon.svg', 0.130859375), ('/assets/images/icons/common/youtubeGreyIcon.svg', 0.130859375), ('/_next/static/chunks/polyfills-5cd94c89d3acac5f.js', 0.130859375), ('/_next/static/chunks/webpack-e2315b53e504a6de.js', 0.130859375), ('/_next/static/chunks/framework-79bce4a3a540b080.js', 0.130859375), ('/_next/static/chunks/main-02d79fe8c2a509ed.js', 0.130859375), ('/_next/static/chunks/pages/_app-5aa48e6daaf3fe0d.js', 0.130859375), ('/_next/static/chunks/2905-8aaa955321746aca.js', 0.130859375), ('/_next/static/chunks/7454-c90862ff3e03df1e.js', 0.130859375), ('/_next/static/chunks/4590-75312c952da4fb21.js', 0.130859375), ('/_next/static/chunks/pages/careers-bf95817061a277ba.js', 0.130859375), ('/_next/static/OnBp0dXLpVOYqcPmAsImr/_buildManifest.js', 0.130859375), ('/_next/static/OnBp0dXLpVOYqcPmAsImr/_ssgManifest.js', 0.130859375), ('/_next/static/OnBp0dXLpVOYqcPmAsImr/_middlewareManifest.js', 0.130859375), ('/_next/static/css/6238d6cccf041c98.css', 0.130859375), ('/_next/static/css/c87208f7ca39f50f.css', 0.130859375)]\n",
      "Analyzing 147 of 523: https://www.instagram.com/lifeatfam/\n",
      "Page size: 312.158203125 KB\n",
      "Resource sizes: [('data:image/png;base64,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', 0.0), ('data:image/png;base64,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', 0.0), ('https://static.cdninstagram.com/rsrc.php/v3/yJ/r/jhqrywW-9cq.js?_nc_x=Ij3Wp8lg5Kz', 73.318359375), ('https://static.cdninstagram.com/rsrc.php/v3iKt64/y2/l/en_US/WuQ6ssx3D5R-U57pDg_5N7e1BUfiZYPKDHyI2-3352wNNnFgQzcr75YA3cXYCBTKTwWu0tl_U2vuoNHqNV-WcR_zaJ_imjBVheqwG-6XemuMpVna2HqGMMrINF5p0zgErWSOn1F8NvoaxFk-j2J2UeJxx_.js?_nc_x=Ij3Wp8lg5Kz', 777.861328125), ('https://static.cdninstagram.com/rsrc.php/v3i-Ad4/yZ/l/en_US/2eHVT98U-PL_yfEtAlxOBSnTjhMveA1x2eUK5r2vRhb9e3ZB7KM6SAsGYNV2vggSuP-WzKjBGIEmwED68KFpIEzI0SxSQxjA8rcLd_WJpUmarIEKg-GNk9tZI8Bl2bmn551VYojj7aSfL8UTv6kMGlYO0tP087Opo3FC6SsTf8IFWGGMgW296g0itZZl4S9TPgcmF3IohmRQ2b689sIcNz5Fd-7qpKNtD65R1nEsrzLL3gtdIOWtmw1z4KICpWcKJEeLSoILISE7f2rGDZjIOVtds0DcQrrQVZ5A_gvO-vsWqehdEtWwJbsRr4lFiLIDQVEH-g-FDC.js?_nc_x=Ij3Wp8lg5Kz', 106.318359375), ('https://static.cdninstagram.com/rsrc.php/v3iwUT4/y_/l/en_US/VEI4caNYYSI.js?_nc_x=Ij3Wp8lg5Kz', 523.595703125), ('https://static.cdninstagram.com/rsrc.php/v3idBq4/yy/l/en_US/j6escAZYAkS.js?_nc_x=Ij3Wp8lg5Kz', 8.8447265625), ('https://static.cdninstagram.com/rsrc.php/v3/y5/r/Brqo5LcMGNg.js?_nc_x=Ij3Wp8lg5Kz', 53.552734375), ('https://static.cdninstagram.com/rsrc.php/v3/yR/l/0,cross/1BXx6dHUkbKIpzSENsoegaHXjO_ff2gCNxMi3M3-CAHoXqh7xyVs7TQ.css?_nc_x=Ij3Wp8lg5Kz', 115.6328125), ('data:text/css; charset=utf-8;base64,Ym9keS5fYTN3ZntiYWNrZ3JvdW5kOnJnYih2YXIoLS1pZy1wcmltYXJ5LWJhY2tncm91bmQpKTtjb2xvcjpyZ2IodmFyKC0taWctcHJpbWFyeS10ZXh0KSk7Zm9udC1mYW1pbHk6dmFyKC0tZm9udC1mYW1pbHktc3lzdGVtKTtmb250LXNpemU6dmFyKC0tc3lzdGVtLTE0LWZvbnQtc2l6ZSk7bGluZS1oZWlnaHQ6dmFyKC0tc3lzdGVtLTE0LWxpbmUtaGVpZ2h0KTttYXJnaW46MDtvdmVyZmxvdy15OnZpc2libGV9I2Jvb3Rsb2FkZXJfRm00Y3JmcHtoZWlnaHQ6NDJweDt9LmJvb3Rsb2FkZXJfRm00Y3JmcHtkaXNwbGF5OmJsb2NrIWltcG9ydGFudDt9', 0.0)]\n",
      "Analyzing 148 of 523: https://www.instagram.com/designatfampay/\n",
      "Page size: 239.5205078125 KB\n",
      "Resource sizes: [('data:image/png;base64,iVBORw0KGgoAAAANSUhEUgAAAKAAAACgCAYAAACLz2ctAAAtXklEQVR4AezBAQ0AAAjAoNu/tDl0QAAAAAAAAG9NRy179gDrX9NdcfyzZ8793b9r27Zt2wqqoHYb1rYdt1Hj1AhqI6jdPrafizO7uHOSnfMi+uvFTlZm73XO9TdrZnK/TB6/Ctef5jqudm4MbgTXBofGUXAYHJaLvq/GUee4GR2tGz2tndaa80a2hWhAdCPCiAA0dBmBBQ1bH4BONqFJi8ggm6FrGWRnXKwxmrHS1kWsYYyDOBucdLk27Sycnod2cixOhzw7Fs8NnljFk8PZ01fFs087fRzPegmt+HP3uNvrF7325eD1lu6t1/SW2bxWX71x8iqRDskRjoNlqk9FoyW9yUjZQvYwgmxdIqMRzRoNNuiEjmYIIqQmNQQaltJvft/gFLnNDX3OIbLJ7FKIPBIjZAbTjzUYTeairawjGOToYm2chHG6cIa1y8eSe7r492Y8EM7/7Ez7rzf1mg8j3eUVKd1N9ZVXvUY786qteUfpnYKPkN5QuhaJokgCEEUNCbM34QlDQxhCCpu/gjb9xtTQUOHr6ucMCzbfXKN4Md+pMIbQ6rtzbnLO1Ln21QspdjPDBaT53138NeN3mvO/Pji+7xW95n04eTmAu/o8Lr3qVW++nnmj1ny08B6R3ly6DJEYhLnu4bPv9zCOCVAW+NjgaxID6QghN1AnHEOvMBTgluLt4eo28KI+n37Od7MAOHQNSQGvzb4CGGWtgDLUPlg79zTrn5G/162//4z1P/Cwu6DiHv/gTtYPXXnzj8nwYdL7S6/b0qtFIIkJm6TC15JaHQqE6h+spF2Xcs6b39VkTItkex/toi/gbT52oDW0CZitl5svsGy9nE5qWMQOMKImq6SAW1O5wvjCNbbPfTqs/975S/JXbzj/VTxyhxPw79yJ+porb/lOwee15qMNryNdikQWgCaEkpizCWAgC2hKH1BTrEC1zNSLDawCYNsDKAuYUYBlQYgKjIOgAlfTUmyfRxdy9il1sYdOg33i1c+/B466Fo0pQnIxn+L+kP/cjB++4t9+Eyd3CMBfdbvqy33U8ZVr3uucL4z0icHV2GCaYBlAywLclKyAAYGOKGogS/LVs9+qTfBM4FqBsU3IzHWhwBuipGDIOdNFScU9gAG7rbSeA4HYVAGsniFEAW0gNCkk068/nwmhzZt92a7PG3966vQHw8kf4H63seJpf+p21Ld4t9d03cdKXxe8uQRiEGqylXMeYi3PVQBfeGLsz0nNqtU0nOnX59z3aWctZ7cJZwGws9/6LKKAVS8eKbQdTKFJrSTh5sf0a5rZIBUlybBPPpA7GPdKrAIqjFKzPtT4le78m/EftzEB/9KtrPBO8Q3XvLX0tcJH49UlMWjq9nohaGP6VfUP/GLUqYmmGxiaUdJt1LSbIG694pkfF/UWLMo2u78Zd20DYoNM7OA0e+X2awO39HsQ61wvUknxxsTa7JXkI6zswdxAtEr5W+SPd9d/43ZsywvX3cr62uveE98ZvLdwsMHUaImYwAUxoIJHY5cEBKAVlWQoyTV0Y65ZUs0GqAWBmLAu5VmBtMC9hzxmHxobQOy2zQ3YCiepUdIaCPbPZIFYgc8ujbMmIxW0zdGo6VfW0OQH4fV48rVYfgHP3OIE/Bu3or7a218+vuGTpZ8P84JRoAJoFbpBjN35zy79CgTFL/2oAAprmdOypSETsGGRYurIoKRdLynSRAVYF0xvQlWSDxtYWgEidhenALETkPXzU8BUkpDcz4LiZz0DCuaawpBztUlOnf8SR1+Mh29hAp7dgvPeu1w5vILPaekbpEsRBCJQt9S5GrsLRdIrpFDhm4K2B3N3QyypNZUl8WYKTmjJAtiw1PcpICsA24ShFcBil3pRe+qtlro9S9if7+TuZ8MuxVRApdwl6/Y5kqKo0FH6+DTO/pHTn8F/3RIAb3bCfu+rvv/10xOfsaRvD149AogoIGUBcqWNDcjZ7858ClgNSt/ZATGmN0aT502eLPL5Lk/TOFt4Pi78sRgZcjTySGaTSbrw6bJAPdLs65bbNGFomkZJGtGY7wUiJkzRBTQyQosmG9nJQ4hLF2seB5dCLEFLIwJ250AAsgK+AwwGCLn1yJ0A9R3rVxOvyvrt+O9bAOBwM+uZUx/bYsKHTZIAtCAqaBt8Zd4lWvXOgoeDexb+Jbmn8dTCk8RzXTzfrKchnj/iJLVnunyuy/O0JrkGo4tMq8vkKZCLwBlIHEgO4OAUADFdDhKBVIuDI8Cp0zhsroMzZ3E014OG8yDi3HkPrR85tHB6vFquNC43ebxwPOQxcSXEFdZXaNorhnxL8nXxWuRlYBQIYZQ+i/aVRYGBuIxP4+ghjn4Yj7iJFelP3Kz6thvv/m5n/FGjB5Rz3P4/Gm0q7NOvbquexn0L/xn8Ef7mwJ/8J/dgeHkB+Cb/8uosb8r6/ng3vBnj1cnXICuMU1l6Zc6ptXjrXP0wH/h1OL/r/hf8Lde8re6HpA+NknaSmDJoCmQD6/RMKP+nvbsAsuS4En7/y6y63T2sscVMRsmklekz4zIzM++alzf8DIvGb3ntZd41My2ZmS1ZMglHjMPdfavyPLobcSNj6k231Hem50X/I9JZWdcjaWb+fbLOqcy8RMMefBIfSfxnw6dX/iC8wU+5fjMH70d5IL6HuBf9mUQzLeNEsqlWKumgn5a2p3sq/msNBXznGsj31BOb7EWJ74iwJcHUtBpBiinJpt9wFGIiZmY586+JdxY+cCs3YNkGdyMyfuJ4tj6A7htI3045qxKuuu6hjnwIdCifoPwsPrZGAr7d3eGnfc3o9O2+PfOX2JICpoUjBYFcJRmCpp+IyheDP5znjTu4Ab01YYPvJHHJiYzOZPnFlMfhUBJOtXock9YvEf9G+yzctgYC/oe7w28d96THN+HvU3FGSvifCAf/IyDERLhCiknrydyY+MfEi3GzmbLBz/jsFnwH/dOIB1JawnSjryJifd9BumfR/A2W3A3auzvDjXrflzgjBSYt+Z+ePB0Ro46Cbiv8Pv4y2GfmbPCnHrj/5/h7Pn496bnEo1FFvPj/aFA2kX6Cuffi80ctAr5k+5MeGsV7EpvS/0gGUMiTPiFNop9g8hy4C7/1U7wSYYOjwCfuS/+PlK869FQcA9lxZ3L9J/gFd4OWPe4qUfxEEzZJ1AJCE5QgIwc5kXqasBsvnecf/4GwwVHiqy7/QR/6Tfwu8WCmZQMD2XEgkL6XO5+Dxbsh4G6snpct/MgT5nhiQhRSIiEVpmUc1e96w0147k/wFwgbHGUe+Q4+fAfxvykPIzI9oAy0MOnvwfZn8u2/h7B6pLB6Xi3mbtrs5Sn5sQgLSbWkatKmi8uTscQf7eZXcNCas8Ezvbvl8QXFqnj3D5BeTjkeKAh0iCEBUT7M8ndil9Wj5R+tlju2uE/LIxULkKaXyBcgFUzX/oAvBr+zc83k2+BHvLvl+LPIj6C7F8edxqfvIK4gfwSfsiJueS0n3Jf4jfr57zDlmvNpvwZ/afVoaa2W1Dmn4XyJBIjpwnKaqgGaXBN4GW60hmxwwq9RvonxaaQt2ExZxh7KbYxfQ/c3uNowOO0gy39M/AJlx7CEdYISx1Eexc5/wNLqBbTdavhLX3vSiG+IsC0FEUAytZOtLsEg8erCW91tNvh+Ep+9AC8mvoaAaTFaYjNOJi6g+S76X2P5nVg0zI2MX0D8LjFHDwiUqkFB1+Iibn0wPrJ6Ad1qNcxxai4eHQGYFhASqQDQIrE38/pXcYM1YEPAz56G36U8GXWNDuoodT/S8xjdjvcxDPvfTvP9lItI9T8HtYSBOBfn88MfRaxSwB9cnYCNe0fvPEFKlCDXElKv5/vomA98G70N7hbf4/072fKDpKcQLQWgFqNuD6a8BA+HYfIV9K+iPIho6BEDq2QAbKW/iL99K+5cpYB/azXk/kceHswlCDIyYmB7IQ4kPnEJ11kDNthxOuMfJOZRiRCAGGpfRX4gPmuQrUvc8UnKtTi7WpwKCEBfCT4+EXfOdEn+HF8TyAAIqASckvLaxFsuplgDNlj8avL9KIgB6aD+HEpD+Wme8AsIg/zrpcxfQpxFn+hR/3N7FCT0iIfhFHxxdQKugjf7yc0tZ0NGVPIFciUjri9cYo3YoFwwLF2soJUL+MBW7DXI99zAqy8jPYV+nnoKdqhVMlspZ8HMIuAmzgo2FWRAqabfDIAEfBx3WCM2iJOGhTPdDxSO02b27MCwgN4epI8xvgWnD5dkahnLg/H3M9sTMuK+BRCVcBmBaRqM+Yg1ZINYImCVURCgD+bGDsuey4jbiNOHM2G15OfBzARsuH9jOPpFJR+6OAYFfLzntzxxJ8sn0J1EeybpfOJsnEyzhbSVmCN1OEDsJe0hfYX8JdI1uIXxjYx2Y681IT6PbyENyFeqe10lpi/x/lscnks478vEg6YEq/95VSJS7s0zE2IVAj7dSpnztJNV0tXPgYXpJOS2TexyjPBwb93JwoU88t4cfCjNA0kX0G8nIwH6gTO5AgkF+SBxC6P3Uz5N8wl8BVe7W5QPkfZQtquj23Ckmr73bi4qVsRtV2LgmY9DTM1n8+LN2L8KAV9sJVzqOXMjzquTj4I8rPzV1jkXeXXD9nPIT2busXQXEWeQNtNVUqmrnJWMaToz3EQ6k/77SN9FXE+5Fm+ifT+nfBKLVs1VHye/nfLdpAEpoK8kgbiNxTdaMeVSkuGl+lGPF0jHr1LAZCU0bJvjOFUZsq1ELEiA4ErrmAd59VZ2/CK+hTiP2EG0h87vA1DXAFLVZ6hp6c/EmaQL6Xex693EX+OTVset9K/Co4nTCBRAfV2P/THzt1gx+2+mQ1nhwoSCvMMqaAkrIbF9nvlUBfYetcKBhLQOp9/7+sSIvWcx/kG2/zDlLHowTKr6HpCqBqrPVJ+lHaQduAA/T7yS9FqWP4LdDk+H1+E4PJu4PzH0Cg4RlP3EbzP3Cqti6WYMRL4ykJAsn4nPrkLARSthM1sKTVRTboMYKEon9lhHnO9dW0jfhB+nfyxGFBh4omW41G7g84QwLKb6n/dTxBOZ/1PiDVY+a/w1i7dQXkicjy1EJYegfIzyRtJfs3yHVbG4l3mE4c3ttfjNCVZBS2MlNOxomB+uPEEoSAKhiH3WCed673l4GuPvxQnDZ6IEatJQZKtamRZw4CVlOdT4fMoL8D3EL+KjVkT7Zrov0T2O8hjiQspxpH3EV/BRvIM9l2LRqsn7h1ZEDz8P2rpKAXsrYYGtPaNAUSf+RZKEkIWEUIxYtA44zdvuw/yLiSdStgy/Sciokw1VRKsFrZ/7Sh3l6ux4oGgcW/Ew0h9R/pw7/gnLDs/luJodb2O8g36ebky5kxNuxz6Oc9f43BJ9ITKl2hNiYP/IeH4m2zLn2DoWIwghEDAZhYl4QhECSRxVAU/23/PEj9I8j+6kQz+k90iADlDLFnW0q8WqBE7V/TTV90iGSQ/Dg9j5ABb/DF9yeA6yfC2upUUL2OfusXSAdomyiVRHv4FIaPNM3gXPMUfJvZBMu19AL1Bk01OwJUeJk3xsK/13kX6H2AnUf4BQhkRAUlELWY3LgLihFnGYgHnS02jPIn4GtzgqfHSRh+8nNlWSGX43bG4mWXCxON9KuQGhTPUhZFAUoUGIEuKoCHgP795G87P0v0jsJAB1/m4Vz3x1qyVMA2MwICTDlAbfRtxG8zu4yhHnx3ou2Uscf4joNzSen8kzYKOMktQEQkgC5CkZCWXSB306CgJu8x9zLHwt/a9jO/3AEWSqWt40xbBYeXjZxWDtMCE5PAG1sN9Hl7jjN3CzI07spx8Qrr6H1QtYrISRMhfkiWAaTK6r/y0ClOVes98RJ/8Y49+nbAf6SQMoA283IEE9bRbSftxOvpP+StIdxD7yMrnFZspO0imkE0nbsRNzwyWbmgQOURbagh9nxyLxu7jeEWXXvrrkQgcDUs5IQEqbRGoUYCrpgDKRL5mMlMVWHHAEGXn3ReT/g7J9+Cd2qGqpyoZjiXQV5VLyJ3AJzRWcdDk6NW5pWLwnWy4gX0g8jHQf3B9bKMgwLKQ0VBpK+Bnsxm86opRu+NwYtXwo7YwEXG5JmQAUWSCEkGEiYRGwFEo5cvL99zmMns/4ZMrA0nGqzw6VTCzRf47mX0kfJ11G3Aws41oD9LiZ/Tfjv8nb2Xwy6VGUb8YT6LeTVjr9Vr2W8jTKu/BeR4wY061gCi6AaGeShNC15HyoZ6hUnbieBCwnpXdE+OI8fob+CRQUAHQoVXSpM9UMcID8+/SvYv+VPG0Z4a6xB3t4xZWc+F7KE/DTpItxuGRkoNRfthG/Oim5XOmI0HcUGBSvOnW1nUkSQpln3BAw8MK7TAlZlmh6M+e/R7TfTfMz9Fsoh4l41NMhcYD4N+LFuAxo8CfuPt2Y67+Cr+AvOen5xPeTziHl4cjHwL6Pp5Key95n4Q4zZ7w8sD1zoKRVmllNwQ0lkVBgOB0H/ZiDYeake1N+kNhen940vGgzoSDgKtp/Yv5Pcb2ZU36PuJz8y7iQaOsSDQWgvkY0eCJbH8kV70AxWwqljnrDPyCkGW1KGjeUVE+/hkschQgzp5s8X6kLowNLZ/O0iLfgl1l8G/Y7Itx+kP3/xoVfon8uvpEAVT+QFRc4k/gxzv4MrjNTLi8YXo5FNe5XGwG7VQgYiYCBkGw6AsXsBdw1R/l5+oYyvDFHqqMh3E7zq+x+PTpHlsIlH+fcp9OeiwtI9azCcFYMTyEeidcc6Qg4fNI+RJ5RErKcKYkY2nlVR6CgMzueknjRc2hOreUjBgrK0CHfSv+DvOs/0DlqvPtKfvTbGP0B/VORMTSj1AJsJ36bfW/FQTOjKwTDEa/+wUkzEnCpQaoLuZSBelBfEGbG755FfCNjFBiIFnVxOd1G/Cm3vIeHdI46n/4iD34p6QLSGQQMJFF1K/dm68PwHjMjKgHL4X5A0qySkEwkykAELNW9PujNjvSNjM+hh+FFAVQSegvNn3PPg9YNu9/H9j8g/QZlp2kUGK7DGf8wt70PxUzoAVBqCatmlknIUgJKbT76+g8HHZowEy7ZTHk45QTyQCG3ALIpxjQvoLvBuuL2JY77B7rH4RsBiBVUHOLBnHghPmsm3BlDq6AH9iWnGT8DFtONhA4JBWOAoJgN+x9CfhTy8JQbaNAjkArNCyhXWJd84WZOewZzT8BWyko3nd+Lpe9i9yUo1pjhVTAG6oBhRoXoA4mMfmhXPAJ9Jeda8+9znH0/ysmESRt4n9sBMspn8Vbrmmuu4Nx3EN+BoWhT/6VvpVzAju2405pzaxDqBkP3ZzUFO3QZpp/qTfXdjJ4Bd96T5YuJheHlVPXSqTQm/QP7v2Td0/8Z6bHEiYYjTl0YPoflc/Apa04fAMRK2sySkFS9dhvYoNyhwIyqA/M7WXooCeozuSohCxLSdbQfZmGfdU/+MuP3kL7zEAIOTXsnUE42E8LKBYQwqzIMukSYbnSgfg1GxGySkIMnEvcjIWD4iEyBHDSfYvFSxwQ7r+Pmd9B/AzYNr+yJ6Xunku7H1v/CkjUnqjZc9pphErI/kwY2KB9qDL0ZCHg67SYSDCyNzwBIeyZns+x2TPDfPff5Iul6nFdFuuEvmOZc9m1dewH7ICGqZrCf1btgBMpKzolDMRvKvRgPlJxyJWNG3IJPOaboryZfSTkPKCvIPMvkaBG3WXOGi8+kIzUFj4cPpdHX0/AMBezOJw1MtwW5zoj3E19yTLH3FrZeg57SAFG3eja6B2nBmhPD8lHdM8sIeBDQVxKODe8ZXbb2jE8CciVcroTMKChX849fdGyxyO9dTTpAbKMADEU/lJOIzdacWjrDEW+2Ai7XG1PqcsykQcywDthvJpChPnUAqnHcyvcWxxyxm1geWARQtQI7sXl2CYjDyzf7OqCq3jf49U3oka09461AGmj1ocH2OybpD5K64XfB6vEm4jgzo5buiEfA8QoOKIR+xlNwN0+CAfmqEwr1Y8ckpUMhBt4Fq68TJc8uATG8n/rITcGDGXA1Lkhmw7ibFpAGkAfOaGkbxyQl0+eBetxQRIwjF/nqa7POghcBECs4rgvC2tPtJ9VvO5CR62VYGC84JukXiDy8UUm9FnOZvN9MGH7mIw2M1/iIXvqBBah9/dM44yjY76egqZKNfkrABmFyfQ/enhCOKR60jTQi1G0gIdlN7JmtgBjeT400yym4q4QrlZhRj1GsOW23Vx8IZCKTAlCIBhAAp/KtJ+BmxxTlnqQFihV+M9LtdEuOCInhkx1mJeBiJVUtYy1dmY2Ao/GXzSNlSiIyMZWEJERBpmRKd4L2zgfgPx0rLF54AuVCYiKgAQGhB5SbWT5ozekHdhemgag3uwg4fCzD8DQ8AwG7L2shI5mIRkqUIAXREJPr5XI8zQXHlIDyKfQnDhR/h1ZHX2smZ/GU4chGJeZsyzCBOuoNL8tXMLbmbO6uJC1LaY6Ehkjkhr4QGcVESprmOBEXm9u0Bfutd256V+Ih96GcP7wxCaJuX2LuTmvO/kQc5uR/dzkitmQrowsi6BFqGetFqRo0ZhEBbyHdSDqTZBpNAgSBSEhZOFcsnonLrHuesYNyMf1WwIB0pvuD+Ap/st+a8/0D34liqI8ZZcHjoFTSqYvSpDE5MZKUkqw180s30rwP3y9lSiElIkiJUtCgEJM+8oM1HuaM0ZfQWc/c0N+b8h1IdfQzPCVfzdKX+KGwNqzyKyoS0qyTkPHA9FtIQS4o5J45jLokj609N96iPfHT5O+lyVKQEwUp0QalEBmBhrCFpW9xg3/H9dY1/ROJc4cTDyj1ZzfS3GomjBPJMLneCGYm3xPCUmBqCu6RyD1NT4vU0wajjjZIyZqz7+Qlxy9/Rso3iO40elKLnmiJQpPRolACmWieKo2/Fn9lvXLZA+5B9wtAgMMnIg7gM1y1y0w4KQ1Mt1WDPMskpA+KSSMVYNTT9pPIF5PrMcnsjgdM469o5i8jnSaj9GiJ+nSpTEHKsFnE09a1gOLHKaetUsBbKO/m9M5MWK7lg+Hvx5djRknIUlBC0wFtz6jQFEY9uaMtNGNSIfdJU5JZcMAV7tF/UEoPp91GQ5kjjYlR/SaEaIkg8gMVzzfuX4x91gufvzTxI99I/Bx9Ld/hZPwMt7/dzDgOUYtXSQcNEtLMBOylCKMeE/lGhXZMM6YJUtD05CAjzI7UvUPje6Vum2hpOmJERilEQUMKCkog0zQ/aS5/3scueRXCuuCHziY9i/5sYhWLAaC8ix1LZkdCteLc8HQsm42A+WAY9cwXck9TaCdRL8ekIaFFIwuzY59PON47iXsxJsboUWhaYo4oRJCD6NEiThbNr/tfD74CH3O0+eD9zyJ+lfhfh5evjopuorzKTGkzkAcEy9PRb4ZT8Gipt2kcmn6SaAQ5SMhTrTG5lnSSWRGW8UqNXwABY1KPEQXRokz6BkFEEum+YvwrlvMv4wpHl5+l/36MMCTc0PU/4RYzJdKhI15GnhZvxgJu39/LitZUpKt+AFokJJCMzJY7fM5J/lryYwAULKEnMjYREwlToSD6OdF+u1Fzb73v8P7Lv4ziiPINx7PwHMa/Mlx3g6KGQPo45S/NnNyQh954VBI2UGaTBc/ppSnhagnrSJglRTJrWn8peRzOAwUJOqDAGCNiRELKRFD6B8ijV3rivX5bGb8Pi2bNu+854qwziF+ifPfq1tIFIPaT/4buajNnLqOWDhmpatD0s6kDNopGqabaQ7eERntEBEw+qfEKyQuwAMIUy0SHnuiJQEtpaDIRj1Gav9DO/4kyfiV2myXbT/9O4+6nLHmEkuZXt5wpAN5LeS3pgJmTUi0goBYSzQyn4EYnC83AlNtM9RnJSJLNmjstOdWb9b4WT4BaQgplmdRROmKOPE80RMqaOEuJZ2rai/XxvJm8M/7cOSfSfr+2e7rkTFkyTiyvZiVxIF2DV/Lmmx0RvndUvemokpGmFrDMJgJmi0Z6DXIlW1MnRMgWJK0jwa0ut9MLzNumuJh61TqaIHpyj2WMKS0WJiK2p4j2u6TR10heL+JfLHZf4Oxd6KyWd787Of2RO21fuJel9I02lR9nfLJRok+M0SCjS/SIertpjTH5hXgDX+fIECPS0HTLtBCgHa9SwNaKWNBRTcGVfJWAc8iOFLu924leqvEPQguo65EUKMQyuSeCmEPQF3K/XTQ/rG+fYvPcx6Qb3qRvvqhbvMa5O2/A2BCv/ETyqEedYpxOcNGj7qNrL9b7OnNxgVIokMiJhAajxBiLiR59N7zOTnor7/hrR5TvGZEcfitsRoPoZrMpKes0QlMnHBwyOUkWJAuOJP/mVX7Ak/BjQh4+YQx6So+eWCbmaEaUEdHQ9KeK5puV0ddq+2u07TV27b9aP7pSTnt16aDIYyU1+rSgNNs86mHH099XTidr8rlSt02TspLoEwWRgJQm8iElErpgKdMHoea/6H+HxxVHlNSQTFE9c6kEaLqZRMCJgH2VaNQCkqYiYNjsSPJUxdjvWdAKP8Jhvv8lIfVTb046SiLK5F5DLnMin68058vRyQ6KtCw3HRFI5EZjTmdOlAUyqRAT8QIyGWlyDyJNP0MzTuTCGEuIBPBF2hey+9OOPJtMU0/Bcp2QjGdUiLYsK3XCUUsoIaExwiZHmn2+YovfAHynbIsY2F8NPXKgI3piTLSUeZNnQ7T0LaFV2m1kcksgZ5O9JzQNXSISgT6TEyUBMn2iR5PoJn2LLjEXLCVGGE3uHfTf+DW6j7DJkSe2oYo4qml30oyQlmazILWxLCkydSJCPR0jazDvaHCL693T8805iJ9B0iCGv4wIlKD06Mn9RMRJ/VBHNKRAJhUik1BaSiYK8kRApMl1n0goicgkpEwO+kyXaJAQiRbAZyx4Pj7iaLGYN5OQB9YApvovfnE2WXA7EXB6uq2lqxsLjha7XeUeftOcLfgezLGS3Y2AMomIZZItx4hoiYls0VAaSqb0yJOIlymJkkmJSKRJK4k86ROTMSmRUSbXPaT/Iv2+kfc4Wtx+1ibSdhIMFYCrZ8K8PKs64KKkG5Stvt+AOUeT3W53gt/U+KLsGcLxSv1dNkNf+ghB6smFGBMN/Yg8R8nkZhIh00S4TExE7Cdy9ZmUJtdpWk76oM8wERTyIt4jNb/qlP5SR5Pb2wUsEEgDG9PriDR30CpoV+xI2K2xrKmKz81gHRAWHG1udy1+2+k+KjxbeDzmFUAMtAYFEEEEpdCMKYvE3ETIhhhREhq6TGpIk3GbpoWkoCRSppnKjrtUhF2a/Dxf/NzfobjKUeZ+C2hJpptagukoqCzO5pT8ZI9kXEW6OvFQfb7VeuFG/+4UXxaeK3mi7EzB8D7vKQlLvfemYJFIpBHRURoiEy0pkZvJvYSJkGUiXMoIIgHZPpp369K/GvX/5KL7Wxd8cmkL80N7QAZqgXOLs4mA2V6NcZ35Dj8SgO3WEze50vF+zoKnCD8gfJ2wRUGqIl8ACsPfTBHkZcoypaEk8iQalnZyryHlqc8nEuZMZLJ36/MbpMVXO+uam6wnPnnxNkotHKA5ZMQhbptNIXqrg3qdNCBfQqbKkndYb9zpoLO8w6JLJG+U/YrGA8SAdAlNdQhXqc/hRN+TEP1Eskxu6FpSQz9PDpMISO96pXmNfv5PjZevwUG7Tre+KDum/2JRC3eotyE3zCYLXnankT1VtKt+EKraIPe3HtllGVfgCsd5gzmPl30bHoLzhG1CEuiRBs7krCNnTO3fz4XSkZcoLXm8JNxA8xmpfZPF/o24Td7LZuuU/hRaRCVa/TzYTo3jptlEwHe9bL9vfNZV1TvfYfkykrOsd/baj7c6xTv17oNvFx4iOUdxkuQkIUnIdeRDqqboyViPZK/karpb6D6jaz5g1L8D+8w7FrjvlFiH2QvSIHeUO2eThEDj2mqarWWsxTzZvHvgduud3Tpc6mU+7/l24ky9E4w8WHGG5FzFCXonY4dksyTphGJZuBO3GbtZcp3kK8a+LFwh3OgG19F3jinSvYk6+YCB/cB5F6ffsUoBz7Rikptq+WoB6xUxevfFBx0rPF3g9kmj8X47bNPZppg3sklnq2y70KBoHTC2W7Zo3kFL9tlvr/McRAH3dmzxvG88HtVDaRp46A9kpGu4oV+lgDdYMdlH6ihXPwNq6+K4x+GDjl0O2uMgbgZLaihoALAwaXscw8xfhFPISAPymRKgRXMZzCYJgd6VRjpZO7Ai5lDtYbZYwKINjiGai4idBAKQDvPdfPFZmE0SAm/4ozt9/y/eIDtjuPxSPx+6t0X3w6dscGzwe1+/ExeTjqsEA0BSRcclRl9avYBGVkX2CdkZlWhDWTDZ8bJHHksCbrD1NJxP5HqaIwHUUfFa4tbZRkDI3i77Jo2sGYx6JJNrJ8qegtfgZhusb5730BHjR9Hed7qmRD7MUvzyPtrrYTYrogFan5bdJDtl+L1wHR09WHL/Y0HADU45C1+H+eFDMVPdOvLHOXjn6gV00KrYZJex92t8Zx35BiNidqbk62Wfwm4brGPKwylPBNJKN8tfQ3wOS6sXcLXc5FYneLfsWzXaQ0XBQ2TGWfYdslfhYzZYx6SfIW8dPp63PhEVfIX5y6weLfNWxatfsexpP/1pXC67UFtJV19ntEjOxkslX42DNlhfPGs+85gfJx5Nj4wGgQDkQ61Nu4PmnSzdavVoWbJqGpcLl0kuQJKQVrBTrvEY2dfhtTZYZzzqYtqfhuHzanq09TfVX4P/Apj9FAwv/8PbPetpb9F6rMZJh5x6m4FpufG7sr14lw3WBz/9xPNIz6VcMPxVEACpkjN/gNs/dzcEvN1dInmb7CekWsDhpkFyjuTXzbkNn7DB0eVHnngy3S/QPJk8kPnWfQAKuj9noXMXySy4S+2lv3er7PclRR54H9xUPTRajccp/kj4GsFGO0rtFy48yejAHxDPIKbkA+gBkOpr5DfQf47eXW0tvbvMnLcrLpE9UKIWsX4WZPozj5S9VNiFSxxZNnjOheebm/t5Ed+lFPo8fCi6glLddz3jV7ibpPA8d4vnPe+7ZK/QOE5T1wLRHLZE8ynJy23yBuy1wWx5wUUjtx+8WJd/RTf3eEujHbqGgyO6FqNJm0Mz6UeYRzvpRz2jF9G+DLfC7JOQYd6t8Q+yXxwWbaAlZA/UeKGxBwkvwY02mA0vPjvZv+cnjfLPyc19pGh1iMQIfRCBqNaYRdV8gfKvPO+2NYiAa8Dvuw/+QOPJGo1m4OiQKjs+xPgmxcvxDsnVvsVuhA3uOg9Ic+6xcLKDm59kvPB9utGT9S3jecYtXctiO+lHLI3QYH6qn5uKjPNX0D4Db7YGpPAca8KLXvKtsj80cnq9YHWF2fH0GTSflbxR8kHh8/a7Bb0NVs4rHC8508HRRcrCN+vnHqOb22E8oowYz9G1jBu6EYtzLDfsn0eekm5uqrUYvRDPNcysC9EDHPBW222S/ZNUZ8ArOFMQMrI5ycWSB0luknzeTp+aLAO7zC0uq2XcAL8qe7CTLblIcn+Ni3XO1XT3Y3mzQGppglToe3LDKJGCvkdmuafLRKm+kLxD8zqal1lDUniGNeMV/3uzsb/S+J7B9YFtdZ0MrvqetJDtx63Yq3EZdglflFxv5EadfTbZZ9GiHQ643RI6a0UjORz7HI7hx/Ul7AcsT9qWSX8AT5C8yYJiXmezYrODtuM4vVONnas4z9g5xk5V3FNvm142Rsl0mxlvopunTKbcbp5uxHgSCccjDoxYHtGNMJqOfJ+geQbev8YC/tgah/6/Pl7xbK2f1th5yKRkZHJ9uL66hjS8OUvSC8uS/diL/RN5x4pO0gnLsl4RKCiSgkAIAQJQBIACQqkqFNBD9U8rU+OCTlIkk15IOo3epNfqjPSTVsxZtl1nm85WvTmdkQ5jdOgnrTC5T48OBcuIxHiefp7lzZSWfo7xHOMR/YguT8YtB0YszhMjjJZp3kf78/iCNaZl2Zry0z9wq7/+xz/Vu4fkB2WbpgXSACDVAtUSDok2eL+RbJJsEo6XAJBhYBxqSIhqL3Cu+vqfU6rPUr1/p+pLFfXrxLPUfxZT9+oEtT65ISOQEEHuJ30hCqmQe9pMZHKiKfQYoevpEpHfTXoBy18wA5rnuS/6tW1vvGCPb7r001rLssfK1eaple0nGfgqsvrXDoibhzbyV2OHuVb9Mw0cEqAaD/0AlcEvHq/GU00luWm5phoUpKHPE9FSEjEiT+RLiciYjFOmz6T0AX1+Fv3H6M2itSybCT/5Lbu84g1/YKvjZD8jaWVAMtys4p76eqoF6s+h/jxXf2n1rxtaDFzLkRGVeHVUSmiq6FpgIPJNmrb69dDXP5T1hrXqB7gUdKSgDXT0GUhIQQ6aQilhLv7DUnqhhfGnzZAUC19vprzorfNO8lTZL8keKlsYPl1/OIoMnRA7LOXgtDp8LwAO9y35A/cC9cFFZar11XWPbqovU/0YPZaZ3J+Mq8/HKFhGX///qnvjhrIwef5bYJKE6OfoJ4nHuPmCfuFvHPAK3GnGpDju8Y4If/nui7V+UfLtki1TEq5MwPoahjdqrZZhAROiaqpxLWUcRryYEqNDUcs4fD1GX40nvVJ93mM89Vk/STTKiH7LRL55xv9Pv2zcXGLc/J5rPvo69MyeFI4gr3NPje/S+DHZQySN5lDPcQNjh5u6hyQcmlprKukMSjcsYR0J+1UK2A3IOK7v121KuB4F40rAwPKIfoGyQDeiW6Af7TKe/1vj5m34kCNIivMf4ojyG59acLIHCN8t+wHZSZoBqepkhGEpwYCIUY9XEQUZFhAKYiXT8ICM40rIMeopNyZ9merHA5Gy/mcsI6Y/z5RN9JvoR2F54dW60d8po/e69NL9iCMroKPI22y3yc/qfbXs3rKTZK00FAWrxnCvygZV1xCwwnEMjAtU4qkiYKnFq6fdKmr1dUQbeCbsUI/rX9erx7fq5m5W5t9mPP+v+ISjSIqHH++o8uFbk/9yJp6o8RjJIzROk2yXhhOSgRpfLd4AqxDycBGxwGGm4BiKgJU0dTG5FqnDUvVrp5KPQXE7S4qr9a6w5D/wHjf7LJYdZVLc3/rheTY51X1wgeSrJs+JD5bskKRVZb9phVmwVdwrqBMTA5GvAOpMuKvGQ+L0hrPeOtKN1fKGzgG9qy15r3ApPmXRNbjWOiLFU60/fk2rsdOc4ySn4GxcqHFv2b1wFrbIsAIJoxJwSMSEAitIRADq+329kLiOgPUUXD+jUQs5uQ7Tny+bFrbTu87Y1RZ9QXKpzuUW3WLO9Tp3YNk6JMV3Ora4QPY9ttjteK1tGmfKTsAWybx+0mfzipF20tNKWiEjS7IyuSbJCAmUybhM3WO4LggqAXskoUcPQqATOhShCJ0i9DpFr1jS6U2asbFFnWWdJWOLegd1Dhq7TXGj3k16d9hlN3orZ0PADTbI/v/KBhsCbrDBhoAbbAi4wQYbAm6wIeAGG2wIuMGGgBtssCHgBhsCbrDB/wlKajuIhIz6AQAAAABJRU5ErkJggg==', 0.0), ('data:image/png;base64,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', 0.0), ('https://static.cdninstagram.com/rsrc.php/v3/yJ/r/jhqrywW-9cq.js?_nc_x=Ij3Wp8lg5Kz', 73.318359375), ('https://static.cdninstagram.com/rsrc.php/v3iB464/yU/l/en_US/oVwvLXDB_bJ5IU_t1VZ7dt7Q9zMCjN60zMGIKVYG19MUpF8W5goqiZxSytxNsig4hPod5x5R4pWPqELKalifYB29xAv5Ik6Jo7LHWlSuDajOCSrYSBRDcQGULh0T1rxoH40GnXxubVAIVwYXfi9crIgSTyF_an8Wmevl3HaeZsiXk7y0P210pPapqodZ8wNLons-sCHTI8slTo8xpsnjinQZZQ8I74ZKXLev753GEWJuHH9E6ITW8UBQhl5dxXclAo5ZDV_x8POSx8e2ZjbkEVQRk-2wdfbhq6_Jds5K0.js?_nc_x=Ij3Wp8lg5Kz', 1109.580078125), ('https://static.cdninstagram.com/rsrc.php/v3iKid4/yG/l/en_US/fZlWte9tQ6mIJbfr1upoAh8Bl2bmn551Vbx0X9c-fg2pNEiFvXTVuIdHyOdd-jkyUpyBfgAKAFNUBxwmvKOWT27IjRR6W7F6HieaY-A9eVGNn4T75P8jGWM4ETy8ZvoNHMB_TK6bWYsUuU5bWT3EZTnsbll8rLcueY4WOl4S9TPgcmF3IohmRQ2b689SBpNFE62a_FpxdsVVD-NojqGR6EmctRW31X2O-uwsqQlWcKJEeLSoILtZCclKiv7wNOot6gdpScfgEqkX0XxJrxo5O9h0txBmGoB4X0nyiwogcOyY6DhsZvKsvsWqehdEtWwDQVEH-g-FDC.js?_nc_x=Ij3Wp8lg5Kz', 54.1689453125), ('https://static.cdninstagram.com/rsrc.php/v3/yj/r/tRNiz6upUdP.js?_nc_x=Ij3Wp8lg5Kz', 13.9375), ('https://static.cdninstagram.com/rsrc.php/v3ikzq4/yt/l/en_US/YH9azVb6v5P.js?_nc_x=Ij3Wp8lg5Kz', 3.7998046875), ('https://static.cdninstagram.com/rsrc.php/v3/yM/l/0,cross/HVFj7OG7I7JTFmiiK1fIOi9FaI7mFSfvJlGZA9lIRDXN.css?_nc_x=Ij3Wp8lg5Kz', 114.689453125)]\n",
      "Analyzing 149 of 523: https://fampay.in/partner\n",
      "Page size: 25.775390625 KB\n",
      "Resource sizes: [('/assets/images/icons/common/partyCapIcon.svg', 0.130859375), ('/assets/images/icons/common/partyFaceIcon.svg', 0.130859375), ('/assets/images/icons/common/singleGreyArrowIcon.svg', 0.130859375), ('/assets/images/icons/common/headerWhiteLogoIcon.svg', 0.130859375), ('/assets/images/images/pages/partners/partnersMob.png', 0.130859375), ('/assets/images/images/pages/partners/partners.png', 0.130859375), ('/assets/images/images/pages/partners/hype1.png', 0.130859375), ('/assets/images/images/pages/partners/hype2.png', 0.130859375), ('/assets/images/images/pages/partners/hype3.png', 0.130859375), ('/assets/images/images/pages/partners/hype1.png', 0.130859375), ('/assets/images/images/pages/partners/hype2.png', 0.130859375), ('/assets/images/images/pages/partners/hype3.png', 0.130859375), ('/assets/images/images/pages/partners/igLogo.png', 0.130859375), ('/assets/images/images/pages/partners/discordLogo.png', 0.130859375), ('/assets/images/images/pages/partners/tfLogo.png', 0.130859375), ('/assets/images/images/pages/partners/unacadPoster.jpeg', 0.130859375), ('/assets/images/images/pages/partners/unacadLogo.png', 0.130859375), ('/assets/images/images/pages/partners/unacadLogo.png', 0.130859375), ('/assets/images/images/pages/partners/leafPoster.jpeg', 0.130859375), ('/assets/images/images/pages/partners/leafLogo.png', 0.130859375), ('/assets/images/images/pages/partners/leafLogo.png', 0.130859375), ('/assets/images/images/pages/partners/frrowPoster.jpeg', 0.130859375), ('/assets/images/images/pages/partners/frrowLogo.png', 0.130859375), ('/assets/images/images/pages/partners/frrowLogo.png', 0.130859375), ('/assets/images/icons/common/headerWhiteLogoIcon.svg', 0.130859375), ('/assets/images/icons/common/facebookGreyIcon.svg', 0.130859375), ('/assets/images/icons/common/mediumGreyIcon.svg', 0.130859375), ('/assets/images/icons/common/instagramGreyIcon.svg', 0.130859375), ('/assets/images/icons/common/linkedinGreyIcon.svg', 0.130859375), ('/assets/images/icons/common/twitterGreyIcon.svg', 0.130859375), ('/assets/images/icons/common/discordGreyIcon.svg', 0.130859375), ('/assets/images/icons/common/snapchatGreyIcon.svg', 0.130859375), ('/assets/images/icons/common/youtubeGreyIcon.svg', 0.130859375), ('/_next/static/chunks/polyfills-5cd94c89d3acac5f.js', 0.130859375), ('/_next/static/chunks/webpack-e2315b53e504a6de.js', 0.130859375), ('/_next/static/chunks/framework-79bce4a3a540b080.js', 0.130859375), ('/_next/static/chunks/main-02d79fe8c2a509ed.js', 0.130859375), ('/_next/static/chunks/pages/_app-5aa48e6daaf3fe0d.js', 0.130859375), ('/_next/static/chunks/2905-8aaa955321746aca.js', 0.130859375), ('/_next/static/chunks/8764-dbd95fd81c44c3e6.js', 0.130859375), ('/_next/static/chunks/3184-799664908708a83b.js', 0.130859375), ('/_next/static/chunks/9669-ea1b006ae648290c.js', 0.130859375), ('/_next/static/chunks/5518-21e58bc44adfaa2d.js', 0.130859375), ('/_next/static/chunks/7536-96dddaa1a4310d02.js', 0.130859375), ('/_next/static/chunks/7454-c90862ff3e03df1e.js', 0.130859375), ('/_next/static/chunks/4590-75312c952da4fb21.js', 0.130859375), ('/_next/static/chunks/9476-4d017c5288619f7c.js', 0.130859375), ('/_next/static/chunks/pages/partner-2c4ad2810308a8fb.js', 0.130859375), ('/_next/static/OnBp0dXLpVOYqcPmAsImr/_buildManifest.js', 0.130859375), ('/_next/static/OnBp0dXLpVOYqcPmAsImr/_ssgManifest.js', 0.130859375), ('/_next/static/OnBp0dXLpVOYqcPmAsImr/_middlewareManifest.js', 0.130859375), ('/_next/static/css/6238d6cccf041c98.css', 0.130859375), ('/_next/static/css/483fe8d988f292c8.css', 0.130859375)]\n",
      "Analyzing 150 of 523: https://fampay.in/faqs\n",
      "Page size: 19.181640625 KB\n",
      "Resource sizes: [('/assets/images/icons/common/partyCapIcon.svg', 0.130859375), ('/assets/images/icons/common/partyFaceIcon.svg', 0.130859375), ('/assets/images/icons/common/singleGreyArrowIcon.svg', 0.130859375), ('/assets/images/icons/common/headerGreyLogoIcon.svg', 0.130859375), ('/assets/images/icons/common/headerGreyLogoIcon.svg', 0.130859375), ('/assets/images/icons/common/facebookGreyIcon.svg', 0.130859375), ('/assets/images/icons/common/mediumGreyIcon.svg', 0.130859375), ('/assets/images/icons/common/instagramGreyIcon.svg', 0.130859375), ('/assets/images/icons/common/linkedinGreyIcon.svg', 0.130859375), ('/assets/images/icons/common/twitterGreyIcon.svg', 0.130859375), ('/assets/images/icons/common/discordGreyIcon.svg', 0.130859375), ('/assets/images/icons/common/snapchatGreyIcon.svg', 0.130859375), ('/assets/images/icons/common/youtubeGreyIcon.svg', 0.130859375), ('/_next/static/chunks/polyfills-5cd94c89d3acac5f.js', 0.130859375), ('/_next/static/chunks/webpack-e2315b53e504a6de.js', 0.130859375), ('/_next/static/chunks/framework-79bce4a3a540b080.js', 0.130859375), ('/_next/static/chunks/main-02d79fe8c2a509ed.js', 0.130859375), ('/_next/static/chunks/pages/_app-5aa48e6daaf3fe0d.js', 0.130859375), ('/_next/static/chunks/2905-8aaa955321746aca.js', 0.130859375), ('/_next/static/chunks/8764-dbd95fd81c44c3e6.js', 0.130859375), ('/_next/static/chunks/3184-799664908708a83b.js', 0.130859375), ('/_next/static/chunks/5518-21e58bc44adfaa2d.js', 0.130859375), ('/_next/static/chunks/7454-c90862ff3e03df1e.js', 0.130859375), ('/_next/static/chunks/9476-4d017c5288619f7c.js', 0.130859375), ('/_next/static/chunks/pages/faqs-860c0b29a929fb8a.js', 0.130859375), ('/_next/static/OnBp0dXLpVOYqcPmAsImr/_buildManifest.js', 0.130859375), ('/_next/static/OnBp0dXLpVOYqcPmAsImr/_ssgManifest.js', 0.130859375), ('/_next/static/OnBp0dXLpVOYqcPmAsImr/_middlewareManifest.js', 0.130859375), ('/_next/static/css/6238d6cccf041c98.css', 0.130859375), ('/_next/static/css/506b8fb45dc38163.css', 0.130859375)]\n",
      "Analyzing 151 of 523: https://fampay.in/blog/\n",
      "Page size: 36.6396484375 KB\n",
      "Resource sizes: [('https://fampay.in/blog/content/images/2020/11/logofilewhite-11-2.png', 0.130859375), ('https://fampay.in/blog/content/images/2020/11/logofilewhite-11-2.png', 0.130859375), ('https://cdn.jsdelivr.net/ghost/portal@~2.30/umd/portal.min.js', 170.8154296875), ('https://cdn.jsdelivr.net/ghost/sodo-search@~1.1/umd/sodo-search.min.js', 95.5751953125), ('/blog/public/cards.min.js?v=22080dfa02', 0.130859375), ('/blog/public/member-attribution.min.js?v=22080dfa02', 0.130859375), ('https://www.googletagmanager.com/gtag/js?id=UA-147725948-3', 0.0), ('https://polyfill.io/v3/polyfill.min.js?features=IntersectionObserver%2CPromise%2CArray.prototype.includes%2CString.prototype.endsWith%2CString.prototype.startsWith%2CObject.assign%2CNodeList.prototype.forEach', 14.1123046875), ('/blog/assets/js/vendor/content-api.min.js?v=22080dfa02', 0.130859375), ('/blog/assets/js/manifest.js?v=22080dfa02', 0.130859375), ('/blog/assets/js/vendor.js?v=22080dfa02', 0.130859375), ('/blog/assets/js/app.js?v=22080dfa02', 0.130859375), ('/blog/assets/js/home.js?v=22080dfa02', 0.130859375), ('/blog/assets/css/app.css?v=22080dfa02', 0.130859375), ('/blog/public/cards.min.css?v=22080dfa02', 0.130859375)]\n",
      "Analyzing 152 of 523: https://fampay.in/press\n",
      "Page size: 21.89453125 KB\n",
      "Resource sizes: [('/assets/images/icons/common/partyCapIcon.svg', 0.130859375), ('/assets/images/icons/common/partyFaceIcon.svg', 0.130859375), ('/assets/images/icons/common/singleGreyArrowIcon.svg', 0.130859375), ('/assets/images/icons/common/headerWhiteLogoIcon.svg', 0.130859375), ('/assets/images/images/pages/press/forbesLogoImage.jpg', 0.130859375), ('/assets/images/images/pages/press/yourstoryLogoImage.jpg', 0.130859375), ('/assets/images/images/pages/press/etLogoImage.jpg', 0.130859375), ('/assets/images/images/pages/press/yourstoryLogoImage.jpg', 0.130859375), ('/assets/images/images/pages/press/cnbcLogoImage.jpg', 0.130859375), ('/assets/images/images/pages/press/inc42LogoImage.jpg', 0.130859375), ('/assets/images/images/pages/press/ieLogoImage.jpg', 0.130859375), ('/assets/images/icons/common/singleGreyArrowIcon.svg', 0.130859375), ('/assets/images/icons/common/singleGreyArrowIcon.svg', 0.130859375), ('/assets/images/icons/common/headerGreyLogoIcon.svg', 0.130859375), ('/assets/images/icons/common/facebookGreyIcon.svg', 0.130859375), ('/assets/images/icons/common/mediumGreyIcon.svg', 0.130859375), ('/assets/images/icons/common/instagramGreyIcon.svg', 0.130859375), ('/assets/images/icons/common/linkedinGreyIcon.svg', 0.130859375), ('/assets/images/icons/common/twitterGreyIcon.svg', 0.130859375), ('/assets/images/icons/common/discordGreyIcon.svg', 0.130859375), ('/assets/images/icons/common/snapchatGreyIcon.svg', 0.130859375), ('/assets/images/icons/common/youtubeGreyIcon.svg', 0.130859375), ('/_next/static/chunks/polyfills-5cd94c89d3acac5f.js', 0.130859375), ('/_next/static/chunks/webpack-e2315b53e504a6de.js', 0.130859375), ('/_next/static/chunks/framework-79bce4a3a540b080.js', 0.130859375), ('/_next/static/chunks/main-02d79fe8c2a509ed.js', 0.130859375), ('/_next/static/chunks/pages/_app-5aa48e6daaf3fe0d.js', 0.130859375), ('/_next/static/chunks/2905-8aaa955321746aca.js', 0.130859375), ('/_next/static/chunks/5518-21e58bc44adfaa2d.js', 0.130859375), ('/_next/static/chunks/7454-c90862ff3e03df1e.js', 0.130859375), ('/_next/static/chunks/4590-75312c952da4fb21.js', 0.130859375), ('/_next/static/chunks/pages/press-91c3167f8b71b922.js', 0.130859375), ('/_next/static/OnBp0dXLpVOYqcPmAsImr/_buildManifest.js', 0.130859375), ('/_next/static/OnBp0dXLpVOYqcPmAsImr/_ssgManifest.js', 0.130859375), ('/_next/static/OnBp0dXLpVOYqcPmAsImr/_middlewareManifest.js', 0.130859375), ('/_next/static/css/6238d6cccf041c98.css', 0.130859375), ('/_next/static/css/4404c8a0c2cfe667.css', 0.130859375)]\n",
      "Analyzing 153 of 523: https://fampay.in/privacy\n",
      "Page size: 33.0693359375 KB\n",
      "Resource sizes: [('/assets/images/icons/common/partyCapIcon.svg', 0.130859375), ('/assets/images/icons/common/partyFaceIcon.svg', 0.130859375), ('/assets/images/icons/common/singleGreyArrowIcon.svg', 0.130859375), ('/assets/images/icons/common/headerGreyLogoIcon.svg', 0.130859375), ('/assets/images/icons/common/headerGreyLogoIcon.svg', 0.130859375), ('/assets/images/icons/common/facebookGreyIcon.svg', 0.130859375), ('/assets/images/icons/common/mediumGreyIcon.svg', 0.130859375), ('/assets/images/icons/common/instagramGreyIcon.svg', 0.130859375), ('/assets/images/icons/common/linkedinGreyIcon.svg', 0.130859375), ('/assets/images/icons/common/twitterGreyIcon.svg', 0.130859375), ('/assets/images/icons/common/discordGreyIcon.svg', 0.130859375), ('/assets/images/icons/common/snapchatGreyIcon.svg', 0.130859375), ('/assets/images/icons/common/youtubeGreyIcon.svg', 0.130859375), ('/_next/static/chunks/polyfills-5cd94c89d3acac5f.js', 0.130859375), ('/_next/static/chunks/webpack-e2315b53e504a6de.js', 0.130859375), ('/_next/static/chunks/framework-79bce4a3a540b080.js', 0.130859375), ('/_next/static/chunks/main-02d79fe8c2a509ed.js', 0.130859375), ('/_next/static/chunks/pages/_app-5aa48e6daaf3fe0d.js', 0.130859375), ('/_next/static/chunks/2905-8aaa955321746aca.js', 0.130859375), ('/_next/static/chunks/7454-c90862ff3e03df1e.js', 0.130859375), ('/_next/static/chunks/pages/privacy-96cc3690295b6f0d.js', 0.130859375), ('/_next/static/OnBp0dXLpVOYqcPmAsImr/_buildManifest.js', 0.130859375), ('/_next/static/OnBp0dXLpVOYqcPmAsImr/_ssgManifest.js', 0.130859375), ('/_next/static/OnBp0dXLpVOYqcPmAsImr/_middlewareManifest.js', 0.130859375), ('/_next/static/css/6238d6cccf041c98.css', 0.130859375), ('/_next/static/css/30cb866e646997e9.css', 0.130859375)]\n",
      "Analyzing 154 of 523: https://fampay.in/terms\n",
      "Page size: 54.8271484375 KB\n",
      "Resource sizes: [('/assets/images/icons/common/partyCapIcon.svg', 0.130859375), ('/assets/images/icons/common/partyFaceIcon.svg', 0.130859375), ('/assets/images/icons/common/singleGreyArrowIcon.svg', 0.130859375), ('/assets/images/icons/common/headerGreyLogoIcon.svg', 0.130859375), ('/assets/images/icons/common/headerGreyLogoIcon.svg', 0.130859375), ('/assets/images/icons/common/facebookGreyIcon.svg', 0.130859375), ('/assets/images/icons/common/mediumGreyIcon.svg', 0.130859375), ('/assets/images/icons/common/instagramGreyIcon.svg', 0.130859375), ('/assets/images/icons/common/linkedinGreyIcon.svg', 0.130859375), ('/assets/images/icons/common/twitterGreyIcon.svg', 0.130859375), ('/assets/images/icons/common/discordGreyIcon.svg', 0.130859375), ('/assets/images/icons/common/snapchatGreyIcon.svg', 0.130859375), ('/assets/images/icons/common/youtubeGreyIcon.svg', 0.130859375), ('/_next/static/chunks/polyfills-5cd94c89d3acac5f.js', 0.130859375), ('/_next/static/chunks/webpack-e2315b53e504a6de.js', 0.130859375), ('/_next/static/chunks/framework-79bce4a3a540b080.js', 0.130859375), ('/_next/static/chunks/main-02d79fe8c2a509ed.js', 0.130859375), ('/_next/static/chunks/pages/_app-5aa48e6daaf3fe0d.js', 0.130859375), ('/_next/static/chunks/2905-8aaa955321746aca.js', 0.130859375), ('/_next/static/chunks/7454-c90862ff3e03df1e.js', 0.130859375), ('/_next/static/chunks/pages/terms-87d410dfeca1b114.js', 0.130859375), ('/_next/static/OnBp0dXLpVOYqcPmAsImr/_buildManifest.js', 0.130859375), ('/_next/static/OnBp0dXLpVOYqcPmAsImr/_ssgManifest.js', 0.130859375), ('/_next/static/OnBp0dXLpVOYqcPmAsImr/_middlewareManifest.js', 0.130859375), ('/_next/static/css/6238d6cccf041c98.css', 0.130859375), ('/_next/static/css/84e4611a737e9413.css', 0.130859375)]\n",
      "Analyzing 155 of 523: https://fampay.in/contact\n",
      "Page size: 14.6416015625 KB\n",
      "Resource sizes: [('/assets/images/icons/common/partyCapIcon.svg', 0.130859375), ('/assets/images/icons/common/partyFaceIcon.svg', 0.130859375), ('/assets/images/icons/common/singleGreyArrowIcon.svg', 0.130859375), ('/assets/images/icons/common/headerGreyLogoIcon.svg', 0.130859375), ('/assets/images/icons/common/headerGreyLogoIcon.svg', 0.130859375), ('/assets/images/icons/common/facebookGreyIcon.svg', 0.130859375), ('/assets/images/icons/common/mediumGreyIcon.svg', 0.130859375), ('/assets/images/icons/common/instagramGreyIcon.svg', 0.130859375), ('/assets/images/icons/common/linkedinGreyIcon.svg', 0.130859375), ('/assets/images/icons/common/twitterGreyIcon.svg', 0.130859375), ('/assets/images/icons/common/discordGreyIcon.svg', 0.130859375), ('/assets/images/icons/common/snapchatGreyIcon.svg', 0.130859375), ('/assets/images/icons/common/youtubeGreyIcon.svg', 0.130859375), ('/_next/static/chunks/polyfills-5cd94c89d3acac5f.js', 0.130859375), ('/_next/static/chunks/webpack-e2315b53e504a6de.js', 0.130859375), ('/_next/static/chunks/framework-79bce4a3a540b080.js', 0.130859375), ('/_next/static/chunks/main-02d79fe8c2a509ed.js', 0.130859375), ('/_next/static/chunks/pages/_app-5aa48e6daaf3fe0d.js', 0.130859375), ('/_next/static/chunks/2905-8aaa955321746aca.js', 0.130859375), ('/_next/static/chunks/8764-dbd95fd81c44c3e6.js', 0.130859375), ('/_next/static/chunks/9669-ea1b006ae648290c.js', 0.130859375), ('/_next/static/chunks/4853-cbbfd48281119e55.js', 0.130859375), ('/_next/static/chunks/7454-c90862ff3e03df1e.js', 0.130859375), ('/_next/static/chunks/pages/contact-f5c33c3dbb2ad22a.js', 0.130859375), ('/_next/static/OnBp0dXLpVOYqcPmAsImr/_buildManifest.js', 0.130859375), ('/_next/static/OnBp0dXLpVOYqcPmAsImr/_ssgManifest.js', 0.130859375), ('/_next/static/OnBp0dXLpVOYqcPmAsImr/_middlewareManifest.js', 0.130859375), ('/_next/static/css/6238d6cccf041c98.css', 0.130859375), ('/_next/static/css/e409167f9e607d38.css', 0.130859375)]\n",
      "Analyzing 156 of 523: https://famapp.in/about\n",
      "Page size: 81.1337890625 KB\n",
      "Resource sizes: [('/assets/images/icons/common/partyCapIcon.svg', 0.0), ('/assets/images/icons/common/partyFaceIcon.svg', 0.0), ('/assets/images/icons/common/singleGreyArrowIcon.svg', 0.0), ('/assets/images/icons/common/headerWhiteLogoIcon.svg', 0.0), ('/assets/images/images/pages/about/missionImage.jpg', 0.0), ('/assets/images/images/pages/about/storyImage.jpg', 0.0), ('https://cdn.famapp.co.in/prod/website/famstars/kt.png', 42.6298828125), ('https://cdn.famapp.co.in/prod/website/famstars/sambhav.png', 74.1875), ('https://cdn.famapp.co.in/prod/website/famstars/harjot.png', 51.4326171875), ('https://cdn.famapp.co.in/prod/website/famstars/aayush.png', 45.95703125), ('https://cdn.famapp.co.in/prod/website/famstars/chirag.png', 52.166015625), ('https://cdn.famapp.co.in/prod/website/famstars/anchit.png', 54.0478515625), ('https://cdn.famapp.co.in/prod/website/famstars/prem.png', 83.2861328125), ('https://cdn.famapp.co.in/prod/website/famstars/saransh.png', 45.501953125), ('https://cdn.famapp.co.in/prod/website/famstars/Hrishi.png', 57.89453125), ('https://cdn.famapp.co.in/prod/website/famstars/pratikG.png', 69.029296875), ('https://cdn.famapp.co.in/prod/website/famstars/ritwick.png', 106.1552734375), ('https://cdn.famapp.co.in/prod/website/famstars/diya.png', 129.701171875), ('https://cdn.famapp.co.in/prod/website/famstars/chitra.png', 112.1630859375), ('https://cdn.famapp.co.in/prod/website/famstars/vishnu.png', 143.0869140625), ('https://cdn.famapp.co.in/prod/website/famstars/shifa.png', 493.1455078125), ('https://cdn.famapp.co.in/prod/website/famstars/tiara.png', 99.5986328125), ('https://cdn.famapp.co.in/prod/website/famstars/Charvi.png', 100.0693359375), ('https://cdn.famapp.co.in/prod/website/famstars/sajal.png', 45.025390625), ('https://cdn.famapp.co.in/prod/website/famstars/saurabhG.png', 22.1083984375), ('https://cdn.famapp.co.in/prod/website/famstars/janani.png', 136.478515625), ('https://cdn.famapp.co.in/prod/website/famstars/tanya.png', 123.55078125), ('https://cdn.famapp.co.in/prod/website/famstars/jitendra.png', 61.4140625), ('https://cdn.famapp.co.in/prod/website/famstars/abhay.png', 73.1044921875), ('https://cdn.famapp.co.in/prod/website/famstars/Aditya.png', 126.791015625), ('https://cdn.famapp.co.in/prod/website/famstars/Akhil.png', 71.1884765625), ('https://cdn.famapp.co.in/prod/website/famstars/Aapram.png', 76.271484375), ('https://cdn.famapp.co.in/prod/website/famstars/shagun.png', 63.2119140625), ('/assets/images/images/famstars/sid.png', 0.0), ('/assets/images/images/famstars/melron.png', 0.0), ('/assets/images/images/famstars/ananya.png', 0.0), ('/assets/images/images/famstars/anand.png', 0.0), ('/assets/images/images/famstars/vaibhavi.png', 0.0), ('/assets/images/images/famstars/sanjeet.png', 0.0), ('/assets/images/images/famstars/ridima.png', 0.0), ('/assets/images/images/famstars/garvita.png', 0.0), ('/assets/images/images/famstars/aishwarya.png', 0.0), ('/assets/images/images/famstars/vishalJain.png', 0.0), ('/assets/images/images/famstars/brijesh.png', 0.0), ('/assets/images/images/famstars/anshu.png', 0.0), ('/assets/images/images/famstars/yashJain.png', 0.0), ('/assets/images/images/famstars/gaurav.png', 0.0), ('/assets/images/images/famstars/komal.png', 0.0), ('/assets/images/images/famstars/mohit.png', 0.0), ('/assets/images/images/famstars/nimitt.png', 0.0), ('/assets/images/images/famstars/sameeran.png', 0.0), ('/assets/images/images/famstars/shikhar.png', 0.0), ('/assets/images/images/famstars/soumik.png', 0.0), ('/assets/images/images/famstars/sumit.png', 0.0), ('/assets/images/images/famstars/vishal.png', 0.0), ('/assets/images/images/famstars/priyanka.png', 0.0), ('/assets/images/images/famstars/arohi.png', 0.0), ('/assets/images/images/famstars/devarsh.png', 0.0), ('/assets/images/images/famstars/archit.png', 0.0), ('/assets/images/images/famstars/agniva.png', 0.0), ('/assets/images/images/famstars/moksha.png', 0.0), ('/assets/images/images/famstars/prasanjeet.png', 0.0), ('/assets/images/images/famstars/sakshi.png', 0.0), ('/assets/images/images/famstars/sabarish.png', 0.0), ('/assets/images/images/famstars/karan.png', 0.0), ('/assets/images/images/famstars/peeyush.png', 0.0), ('/assets/images/images/famstars/shobhit.png', 0.0), ('/assets/images/images/famstars/sanat.png', 0.0), ('/assets/images/icons/common/singleGreyArrowIcon.svg', 0.0), ('https://cdn.famapp.co.in/prod/website/famstars/kt.png', 42.6298828125), ('https://cdn.famapp.co.in/prod/website/famstars/sambhav.png', 74.1875), ('https://cdn.famapp.co.in/prod/website/famstars/harjot.png', 51.4326171875), ('https://cdn.famapp.co.in/prod/website/famstars/aayush.png', 45.95703125), ('https://cdn.famapp.co.in/prod/website/famstars/chirag.png', 52.166015625), ('https://cdn.famapp.co.in/prod/website/famstars/anchit.png', 54.0478515625), ('https://cdn.famapp.co.in/prod/website/famstars/prem.png', 83.2861328125), ('https://cdn.famapp.co.in/prod/website/famstars/saransh.png', 45.501953125), ('https://cdn.famapp.co.in/prod/website/famstars/Hrishi.png', 57.89453125), ('https://cdn.famapp.co.in/prod/website/famstars/pratikG.png', 69.029296875), ('https://cdn.famapp.co.in/prod/website/famstars/ritwick.png', 106.1552734375), ('https://cdn.famapp.co.in/prod/website/famstars/diya.png', 129.701171875), ('https://cdn.famapp.co.in/prod/website/famstars/chitra.png', 112.1630859375), ('https://cdn.famapp.co.in/prod/website/famstars/vishnu.png', 143.0869140625), ('https://cdn.famapp.co.in/prod/website/famstars/shifa.png', 493.1455078125), ('https://cdn.famapp.co.in/prod/website/famstars/tiara.png', 99.5986328125), ('https://cdn.famapp.co.in/prod/website/famstars/Charvi.png', 100.0693359375), ('https://cdn.famapp.co.in/prod/website/famstars/sajal.png', 45.025390625), ('https://cdn.famapp.co.in/prod/website/famstars/saurabhG.png', 22.1083984375), ('https://cdn.famapp.co.in/prod/website/famstars/janani.png', 136.478515625), ('https://cdn.famapp.co.in/prod/website/famstars/tanya.png', 123.55078125), ('https://cdn.famapp.co.in/prod/website/famstars/jitendra.png', 61.4140625), ('https://cdn.famapp.co.in/prod/website/famstars/abhay.png', 73.1044921875), ('https://cdn.famapp.co.in/prod/website/famstars/Aditya.png', 126.791015625), ('https://cdn.famapp.co.in/prod/website/famstars/Akhil.png', 71.1884765625), ('https://cdn.famapp.co.in/prod/website/famstars/Aapram.png', 76.271484375), ('https://cdn.famapp.co.in/prod/website/famstars/shagun.png', 63.2119140625), ('/assets/images/images/famstars/sid.png', 0.0), ('/assets/images/images/famstars/melron.png', 0.0), ('/assets/images/images/famstars/ananya.png', 0.0), ('/assets/images/images/famstars/anand.png', 0.0), ('/assets/images/images/famstars/vaibhavi.png', 0.0), ('/assets/images/images/famstars/sanjeet.png', 0.0), ('/assets/images/images/famstars/ridima.png', 0.0), ('/assets/images/images/famstars/garvita.png', 0.0), ('/assets/images/images/famstars/aishwarya.png', 0.0), ('/assets/images/images/famstars/vishalJain.png', 0.0), ('/assets/images/images/famstars/brijesh.png', 0.0), ('/assets/images/images/famstars/anshu.png', 0.0), ('/assets/images/images/famstars/yashJain.png', 0.0), ('/assets/images/images/famstars/gaurav.png', 0.0), ('/assets/images/images/famstars/komal.png', 0.0), ('/assets/images/images/famstars/mohit.png', 0.0), ('/assets/images/images/famstars/nimitt.png', 0.0), ('/assets/images/images/famstars/sameeran.png', 0.0), ('/assets/images/images/famstars/shikhar.png', 0.0), ('/assets/images/images/famstars/soumik.png', 0.0), ('/assets/images/images/famstars/sumit.png', 0.0), ('/assets/images/images/famstars/vishal.png', 0.0), ('/assets/images/images/famstars/priyanka.png', 0.0), ('/assets/images/images/famstars/arohi.png', 0.0), ('/assets/images/images/famstars/devarsh.png', 0.0), ('/assets/images/images/famstars/archit.png', 0.0), ('/assets/images/images/famstars/agniva.png', 0.0), ('/assets/images/images/famstars/moksha.png', 0.0), ('/assets/images/images/famstars/prasanjeet.png', 0.0), ('/assets/images/images/famstars/sakshi.png', 0.0), ('/assets/images/images/famstars/sabarish.png', 0.0), ('/assets/images/images/famstars/karan.png', 0.0), ('/assets/images/images/famstars/peeyush.png', 0.0), ('/assets/images/images/famstars/shobhit.png', 0.0), ('/assets/images/images/famstars/sanat.png', 0.0), ('/assets/images/icons/common/singleGreyArrowIcon.svg', 0.0), ('/assets/images/icons/common/headerGreyLogoIcon.svg', 0.0), ('/assets/images/icons/common/facebookGreyIcon.svg', 0.0), ('/assets/images/icons/common/mediumGreyIcon.svg', 0.0), ('/assets/images/icons/common/instagramGreyIcon.svg', 0.0), ('/assets/images/icons/common/linkedinGreyIcon.svg', 0.0), ('/assets/images/icons/common/twitterGreyIcon.svg', 0.0), ('/assets/images/icons/common/discordGreyIcon.svg', 0.0), ('/assets/images/icons/common/snapchatGreyIcon.svg', 0.0), ('/assets/images/icons/common/youtubeGreyIcon.svg', 0.0), ('/_next/static/chunks/polyfills-5cd94c89d3acac5f.js', 0.0), ('/_next/static/chunks/webpack-e2315b53e504a6de.js', 0.0), ('/_next/static/chunks/framework-79bce4a3a540b080.js', 0.0), ('/_next/static/chunks/main-02d79fe8c2a509ed.js', 0.0), ('/_next/static/chunks/pages/_app-5aa48e6daaf3fe0d.js', 0.0), ('/_next/static/chunks/2905-8aaa955321746aca.js', 0.0), ('/_next/static/chunks/1472-e24409dd291e3c18.js', 0.0), ('/_next/static/chunks/7454-c90862ff3e03df1e.js', 0.0), ('/_next/static/chunks/4590-75312c952da4fb21.js', 0.0), ('/_next/static/chunks/pages/about-b955a1c3293f2ffc.js', 0.0), ('/_next/static/OnBp0dXLpVOYqcPmAsImr/_buildManifest.js', 0.0), ('/_next/static/OnBp0dXLpVOYqcPmAsImr/_ssgManifest.js', 0.0), ('/_next/static/OnBp0dXLpVOYqcPmAsImr/_middlewareManifest.js', 0.0), ('/_next/static/css/6238d6cccf041c98.css', 0.0), ('/_next/static/css/483015020b48b4d6.css', 0.0)]\n",
      "Analyzing 157 of 523: https://famapp.in/blog\n",
      "Page size: 36.6396484375 KB\n",
      "Resource sizes: [('https://fampay.in/blog/content/images/2020/11/logofilewhite-11-2.png', 0.130859375), ('https://fampay.in/blog/content/images/2020/11/logofilewhite-11-2.png', 0.130859375), ('https://cdn.jsdelivr.net/ghost/portal@~2.30/umd/portal.min.js', 170.8154296875), ('https://cdn.jsdelivr.net/ghost/sodo-search@~1.1/umd/sodo-search.min.js', 95.5751953125), ('/blog/public/cards.min.js?v=22080dfa02', 0.0), ('/blog/public/member-attribution.min.js?v=22080dfa02', 0.0), ('https://www.googletagmanager.com/gtag/js?id=UA-147725948-3', 0.0), ('https://polyfill.io/v3/polyfill.min.js?features=IntersectionObserver%2CPromise%2CArray.prototype.includes%2CString.prototype.endsWith%2CString.prototype.startsWith%2CObject.assign%2CNodeList.prototype.forEach', 14.1123046875), ('/blog/assets/js/vendor/content-api.min.js?v=22080dfa02', 0.0), ('/blog/assets/js/manifest.js?v=22080dfa02', 0.0), ('/blog/assets/js/vendor.js?v=22080dfa02', 0.0), ('/blog/assets/js/app.js?v=22080dfa02', 0.0), ('/blog/assets/js/home.js?v=22080dfa02', 0.0), ('/blog/assets/css/app.css?v=22080dfa02', 0.0), ('/blog/public/cards.min.css?v=22080dfa02', 0.0)]\n",
      "Analyzing 158 of 523: https://famapp.in/blog/tag/community/\n",
      "Page size: 30.162109375 KB\n",
      "Resource sizes: [('https://fampay.in/blog/content/images/2020/11/logofilewhite-11-2.png', 0.130859375), ('https://fampay.in/blog/content/images/2020/11/logofilewhite-11-2.png', 0.130859375), ('https://cdn.jsdelivr.net/ghost/portal@~2.30/umd/portal.min.js', 170.8154296875), ('https://cdn.jsdelivr.net/ghost/sodo-search@~1.1/umd/sodo-search.min.js', 95.5751953125), ('/blog/public/cards.min.js?v=22080dfa02', 0.0), ('/blog/public/member-attribution.min.js?v=22080dfa02', 0.0), ('https://www.googletagmanager.com/gtag/js?id=UA-147725948-3', 0.0), ('https://polyfill.io/v3/polyfill.min.js?features=IntersectionObserver%2CPromise%2CArray.prototype.includes%2CString.prototype.endsWith%2CString.prototype.startsWith%2CObject.assign%2CNodeList.prototype.forEach', 14.1123046875), ('/blog/assets/js/vendor/content-api.min.js?v=22080dfa02', 0.0), ('/blog/assets/js/manifest.js?v=22080dfa02', 0.0), ('/blog/assets/js/vendor.js?v=22080dfa02', 0.0), ('/blog/assets/js/app.js?v=22080dfa02', 0.0), ('/blog/assets/css/app.css?v=22080dfa02', 0.0), ('/blog/public/cards.min.css?v=22080dfa02', 0.0)]\n",
      "Analyzing 159 of 523: https://famapp.in/blog/13-boredom-busters-for-teens/\n",
      "Page size: 43.65234375 KB\n",
      "Resource sizes: [('https://fampay.in/blog/content/images/2020/11/logofilewhite-11-2.png', 0.130859375), ('https://fampay.in/blog/content/images/2020/11/logofilewhite-11-2.png', 0.130859375), ('https://fampay.in/blog/content/images/2021/08/image-3.png', 0.130859375), ('https://fampay.in/blog/content/images/2021/08/image-1.png', 0.130859375), ('https://fampay.in/blog/content/images/2021/08/image-6.png', 0.130859375), ('https://fampay.in/blog/content/images/2021/08/image-4.png', 0.130859375), ('/blog/assets/images/success.png?v=22080dfa02', 0.0), ('https://cdn.jsdelivr.net/ghost/portal@~2.30/umd/portal.min.js', 170.8154296875), ('https://cdn.jsdelivr.net/ghost/sodo-search@~1.1/umd/sodo-search.min.js', 95.5751953125), ('/blog/public/cards.min.js?v=22080dfa02', 0.0), ('/blog/public/member-attribution.min.js?v=22080dfa02', 0.0), ('https://www.googletagmanager.com/gtag/js?id=UA-147725948-3', 0.0), ('https://polyfill.io/v3/polyfill.min.js?features=IntersectionObserver%2CPromise%2CArray.prototype.includes%2CString.prototype.endsWith%2CString.prototype.startsWith%2CObject.assign%2CNodeList.prototype.forEach', 14.1123046875), ('/blog/assets/js/vendor/content-api.min.js?v=22080dfa02', 0.0), ('/blog/assets/js/manifest.js?v=22080dfa02', 0.0), ('/blog/assets/js/vendor.js?v=22080dfa02', 0.0), ('/blog/assets/js/app.js?v=22080dfa02', 0.0), ('/blog/assets/js/post.js?v=22080dfa02', 0.0), ('/blog/assets/css/app.css?v=22080dfa02', 0.0), ('/blog/public/cards.min.css?v=22080dfa02', 0.0)]\n",
      "Analyzing 160 of 523: https://wa.me/?text=13%20Things%20to%20do%20when%20you're%20bored%20-%20Boredom%20busters%20for%20teens%20%F0%9F%A4%B3%20https://fampay.in/blog/13-boredom-busters-for-teens/\n",
      "Page size: 165.3681640625 KB\n",
      "Resource sizes: [('https://static.whatsapp.net/rsrc.php/v3/yq/r/mdQNdcFMi0p.png', 28.833984375), ('https://static.whatsapp.net/rsrc.php/v3/y7/r/DSxOAUB0raA.png', 28.7744140625), ('https://static.whatsapp.net/rsrc.php/v3/yJ/r/Qhrnh5evyPV.png', 1.193359375), ('https://static.whatsapp.net/rsrc.php/v3/yJ/r/Qhrnh5evyPV.png', 1.193359375), ('https://static.whatsapp.net/rsrc.php/v3/y6/r/TcHIu29ealS.js?_nc_x=Ij3Wp8lg5Kz', 104.8037109375), ('https://static.whatsapp.net/rsrc.php/v3/yO/l/0,cross/zkmfh5mjXuB.css?_nc_x=Ij3Wp8lg5Kz', 1.318359375), ('https://static.whatsapp.net/rsrc.php/v3/yi/l/0,cross/TngFvC3f-F7.css?_nc_x=Ij3Wp8lg5Kz', 14.91796875), ('https://static.whatsapp.net/rsrc.php/v3/yX/l/0,cross/90x4oEKKKqw.css?_nc_x=Ij3Wp8lg5Kz', 9.01953125)]\n",
      "Analyzing 161 of 523: https://www.facebook.com/sharer/sharer.php?u=https://fampay.in/blog/13-boredom-busters-for-teens/\n",
      "Page size: 16.9296875 KB\n",
      "Resource sizes: [('https://static.xx.fbcdn.net/rsrc.php/v3/y8/r/k97pj8-or6s.png', 0.7900390625), ('https://facebook.com/security/hsts-pixel.gif?c=3.2', 0.0)]\n",
      "Analyzing 162 of 523: https://twitter.com/intent/tweet?text=13%20Things%20to%20do%20when%20you're%20bored%20-%20Boredom%20busters%20for%20teens%20%F0%9F%A4%B3&url=https://fampay.in/blog/13-boredom-busters-for-teens/\n",
      "Page size: 168.05859375 KB\n",
      "Resource sizes: [('https://abs.twimg.com/errors/logo46x38.png', 0.9912109375), ('https://abs.twimg.com/responsive-web/client-web-legacy/shared~bundle.Compose~bundle.RichTextCompose.a2fa6b8a.js', 52.9111328125), ('https://abs.twimg.com/responsive-web/client-web-legacy/polyfills.d5242a4a.js', 17.72265625), ('https://abs.twimg.com/responsive-web/client-web-legacy/vendor.3cb7d15a.js', 218.7216796875), ('https://abs.twimg.com/responsive-web/client-web-legacy/i18n/en.213585ba.js', 114.365234375), ('https://abs.twimg.com/responsive-web/client-web-legacy/main.79ac570a.js', 408.1171875)]\n",
      "Analyzing 163 of 523: https://famapp.in/blog/social-commerce-making-money-just-through-social-media/\n",
      "Page size: 41.623046875 KB\n",
      "Resource sizes: [('https://fampay.in/blog/content/images/2020/11/logofilewhite-11-2.png', 0.130859375), ('https://fampay.in/blog/content/images/2020/11/logofilewhite-11-2.png', 0.130859375), ('https://fampay.in/blog/content/images/2021/09/image-7.png', 0.130859375), ('https://lh3.googleusercontent.com/1196RxHQNgdU9nnillmAdjGwxAbD0ICRGwPTYuhCbUkuQw6VTmB-biOmhGle3QiMQ441_Ate8WTrdszbc6aFEAx-3QSU0BGZkZBq2abQopPAhY53v-T35SZOt19od_Y0m8joIjI6=s0', 459.0654296875), ('https://fampay.in/blog/content/images/2021/09/image-1.png', 0.130859375), ('https://fampay.in/blog/content/images/2021/09/Frame-3.png', 0.130859375), ('/blog/assets/images/success.png?v=22080dfa02', 0.0), ('https://cdn.jsdelivr.net/ghost/portal@~2.30/umd/portal.min.js', 170.8154296875), ('https://cdn.jsdelivr.net/ghost/sodo-search@~1.1/umd/sodo-search.min.js', 95.5751953125), ('/blog/public/cards.min.js?v=22080dfa02', 0.0), ('/blog/public/member-attribution.min.js?v=22080dfa02', 0.0), ('https://www.googletagmanager.com/gtag/js?id=UA-147725948-3', 0.0), ('https://polyfill.io/v3/polyfill.min.js?features=IntersectionObserver%2CPromise%2CArray.prototype.includes%2CString.prototype.endsWith%2CString.prototype.startsWith%2CObject.assign%2CNodeList.prototype.forEach', 14.1123046875), ('/blog/assets/js/vendor/content-api.min.js?v=22080dfa02', 0.0), ('/blog/assets/js/manifest.js?v=22080dfa02', 0.0), ('/blog/assets/js/vendor.js?v=22080dfa02', 0.0), ('/blog/assets/js/app.js?v=22080dfa02', 0.0), ('/blog/assets/js/post.js?v=22080dfa02', 0.0), ('/blog/assets/css/app.css?v=22080dfa02', 0.0), ('/blog/public/cards.min.css?v=22080dfa02', 0.0)]\n",
      "Analyzing 164 of 523: https://wa.me/?text=Social%20Commerce%20-%20Making%20Money%20just%20through%20Social%20Media!%20%F0%9F%92%B8%20https://fampay.in/blog/social-commerce-making-money-just-through-social-media/\n",
      "Page size: 165.47265625 KB\n",
      "Resource sizes: [('https://static.whatsapp.net/rsrc.php/v3/yq/r/mdQNdcFMi0p.png', 28.833984375), ('https://static.whatsapp.net/rsrc.php/v3/y7/r/DSxOAUB0raA.png', 28.7744140625), ('https://static.whatsapp.net/rsrc.php/v3/yJ/r/Qhrnh5evyPV.png', 1.193359375), ('https://static.whatsapp.net/rsrc.php/v3/yJ/r/Qhrnh5evyPV.png', 1.193359375), ('https://static.whatsapp.net/rsrc.php/v3/y6/r/TcHIu29ealS.js?_nc_x=Ij3Wp8lg5Kz', 104.8037109375), ('https://static.whatsapp.net/rsrc.php/v3/yO/l/0,cross/zkmfh5mjXuB.css?_nc_x=Ij3Wp8lg5Kz', 1.318359375), ('https://static.whatsapp.net/rsrc.php/v3/yi/l/0,cross/TngFvC3f-F7.css?_nc_x=Ij3Wp8lg5Kz', 14.91796875), ('https://static.whatsapp.net/rsrc.php/v3/yX/l/0,cross/90x4oEKKKqw.css?_nc_x=Ij3Wp8lg5Kz', 9.01953125)]\n",
      "Analyzing 165 of 523: https://www.facebook.com/sharer/sharer.php?u=https://fampay.in/blog/social-commerce-making-money-just-through-social-media/\n",
      "Page size: 17.1025390625 KB\n",
      "Resource sizes: [('https://static.xx.fbcdn.net/rsrc.php/v3/y8/r/k97pj8-or6s.png', 0.7900390625), ('https://facebook.com/security/hsts-pixel.gif?c=3.2', 0.0)]\n",
      "Analyzing 166 of 523: https://twitter.com/intent/tweet?text=Social%20Commerce%20-%20Making%20Money%20just%20through%20Social%20Media!%20%F0%9F%92%B8&url=https://fampay.in/blog/social-commerce-making-money-just-through-social-media/\n",
      "Page size: 167.810546875 KB\n",
      "Resource sizes: [('https://abs.twimg.com/errors/logo46x38.png', 0.9912109375), ('https://abs.twimg.com/responsive-web/client-web-legacy/shared~bundle.Compose~bundle.RichTextCompose.a2fa6b8a.js', 52.9111328125), ('https://abs.twimg.com/responsive-web/client-web-legacy/polyfills.d5242a4a.js', 17.72265625), ('https://abs.twimg.com/responsive-web/client-web-legacy/vendor.3cb7d15a.js', 218.7216796875), ('https://abs.twimg.com/responsive-web/client-web-legacy/i18n/en.213585ba.js', 114.365234375), ('https://abs.twimg.com/responsive-web/client-web-legacy/main.79ac570a.js', 408.1171875)]\n",
      "Analyzing 167 of 523: https://famapp.in/blog/how-can-teens-open-shops-on-instagram/\n",
      "Page size: 44.4677734375 KB\n",
      "Resource sizes: [('https://fampay.in/blog/content/images/2020/11/logofilewhite-11-2.png', 0.130859375), ('https://fampay.in/blog/content/images/2020/11/logofilewhite-11-2.png', 0.130859375), ('/blog/assets/images/success.png?v=22080dfa02', 0.0), ('https://cdn.jsdelivr.net/ghost/portal@~2.30/umd/portal.min.js', 170.8154296875), ('https://cdn.jsdelivr.net/ghost/sodo-search@~1.1/umd/sodo-search.min.js', 95.5751953125), ('/blog/public/cards.min.js?v=22080dfa02', 0.0), ('/blog/public/member-attribution.min.js?v=22080dfa02', 0.0), ('https://www.googletagmanager.com/gtag/js?id=UA-147725948-3', 0.0), ('https://polyfill.io/v3/polyfill.min.js?features=IntersectionObserver%2CPromise%2CArray.prototype.includes%2CString.prototype.endsWith%2CString.prototype.startsWith%2CObject.assign%2CNodeList.prototype.forEach', 14.1123046875), ('/blog/assets/js/vendor/content-api.min.js?v=22080dfa02', 0.0), ('/blog/assets/js/manifest.js?v=22080dfa02', 0.0), ('/blog/assets/js/vendor.js?v=22080dfa02', 0.0), ('/blog/assets/js/app.js?v=22080dfa02', 0.0), ('/blog/assets/js/post.js?v=22080dfa02', 0.0), ('/blog/assets/css/app.css?v=22080dfa02', 0.0), ('/blog/public/cards.min.css?v=22080dfa02', 0.0)]\n",
      "Analyzing 168 of 523: https://wa.me/?text=It's%20time%20for%20teens%20to%20open%20shop%20on%20Instagram!%20%F0%9F%9B%8D%EF%B8%8F%20https://fampay.in/blog/how-can-teens-open-shops-on-instagram/\n",
      "Page size: 165.3505859375 KB\n",
      "Resource sizes: [('https://static.whatsapp.net/rsrc.php/v3/yq/r/mdQNdcFMi0p.png', 28.833984375), ('https://static.whatsapp.net/rsrc.php/v3/y7/r/DSxOAUB0raA.png', 28.7744140625), ('https://static.whatsapp.net/rsrc.php/v3/yJ/r/Qhrnh5evyPV.png', 1.193359375), ('https://static.whatsapp.net/rsrc.php/v3/yJ/r/Qhrnh5evyPV.png', 1.193359375), ('https://static.whatsapp.net/rsrc.php/v3/y6/r/TcHIu29ealS.js?_nc_x=Ij3Wp8lg5Kz', 104.8037109375), ('https://static.whatsapp.net/rsrc.php/v3/yO/l/0,cross/zkmfh5mjXuB.css?_nc_x=Ij3Wp8lg5Kz', 1.318359375), ('https://static.whatsapp.net/rsrc.php/v3/yi/l/0,cross/TngFvC3f-F7.css?_nc_x=Ij3Wp8lg5Kz', 14.91796875), ('https://static.whatsapp.net/rsrc.php/v3/yX/l/0,cross/90x4oEKKKqw.css?_nc_x=Ij3Wp8lg5Kz', 9.01953125)]\n",
      "Analyzing 169 of 523: https://www.facebook.com/sharer/sharer.php?u=https://fampay.in/blog/how-can-teens-open-shops-on-instagram/\n",
      "Page size: 16.9912109375 KB\n",
      "Resource sizes: [('https://static.xx.fbcdn.net/rsrc.php/v3/y8/r/k97pj8-or6s.png', 0.7900390625), ('https://facebook.com/security/hsts-pixel.gif?c=3.2', 0.0)]\n",
      "Analyzing 170 of 523: https://twitter.com/intent/tweet?text=It's%20time%20for%20teens%20to%20open%20shop%20on%20Instagram!%20%F0%9F%9B%8D%EF%B8%8F&url=https://fampay.in/blog/how-can-teens-open-shops-on-instagram/\n",
      "Page size: 167.810546875 KB\n",
      "Resource sizes: [('https://abs.twimg.com/errors/logo46x38.png', 0.9912109375), ('https://abs.twimg.com/responsive-web/client-web-legacy/shared~bundle.Compose~bundle.RichTextCompose.a2fa6b8a.js', 52.9111328125), ('https://abs.twimg.com/responsive-web/client-web-legacy/polyfills.d5242a4a.js', 17.72265625), ('https://abs.twimg.com/responsive-web/client-web-legacy/vendor.3cb7d15a.js', 218.7216796875), ('https://abs.twimg.com/responsive-web/client-web-legacy/i18n/en.213585ba.js', 114.365234375), ('https://abs.twimg.com/responsive-web/client-web-legacy/main.79ac570a.js', 408.1171875)]\n",
      "Analyzing 171 of 523: https://famapp.in/blog/genz-commits-to-fight-covid-19/\n",
      "Page size: 45.3759765625 KB\n",
      "Resource sizes: [('https://fampay.in/blog/content/images/2020/11/logofilewhite-11-2.png', 0.130859375), ('https://fampay.in/blog/content/images/2020/11/logofilewhite-11-2.png', 0.130859375), ('https://fampay.in/blog/content/images/2021/06/Screenshot_20210615-152859__02.jpg', 0.130859375), ('https://fampay.in/blog/content/images/2021/06/Screenshot_20210615-152859__01.jpg', 0.130859375), ('https://fampay.in/blog/content/images/2021/06/Screenshot_20210615-153722__01__01.jpg', 0.130859375), ('/blog/assets/images/success.png?v=22080dfa02', 0.0), ('https://cdn.jsdelivr.net/ghost/portal@~2.30/umd/portal.min.js', 170.8154296875), ('https://cdn.jsdelivr.net/ghost/sodo-search@~1.1/umd/sodo-search.min.js', 95.5751953125), ('/blog/public/cards.min.js?v=22080dfa02', 0.0), ('/blog/public/member-attribution.min.js?v=22080dfa02', 0.0), ('https://www.googletagmanager.com/gtag/js?id=UA-147725948-3', 0.0), ('https://polyfill.io/v3/polyfill.min.js?features=IntersectionObserver%2CPromise%2CArray.prototype.includes%2CString.prototype.endsWith%2CString.prototype.startsWith%2CObject.assign%2CNodeList.prototype.forEach', 14.1123046875), ('/blog/assets/js/vendor/content-api.min.js?v=22080dfa02', 0.0), ('/blog/assets/js/manifest.js?v=22080dfa02', 0.0), ('/blog/assets/js/vendor.js?v=22080dfa02', 0.0), ('/blog/assets/js/app.js?v=22080dfa02', 0.0), ('/blog/assets/js/post.js?v=22080dfa02', 0.0), ('/blog/assets/css/app.css?v=22080dfa02', 0.0), ('/blog/public/cards.min.css?v=22080dfa02', 0.0)]\n",
      "Analyzing 172 of 523: https://wa.me/?text=GenZs%20commit%20to%20fight%20Covid-19%20%F0%9F%8E%AF%20https://fampay.in/blog/genz-commits-to-fight-covid-19/\n",
      "Page size: 165.2080078125 KB\n",
      "Resource sizes: [('https://static.whatsapp.net/rsrc.php/v3/yq/r/mdQNdcFMi0p.png', 28.833984375), ('https://static.whatsapp.net/rsrc.php/v3/y7/r/DSxOAUB0raA.png', 28.7744140625), ('https://static.whatsapp.net/rsrc.php/v3/yJ/r/Qhrnh5evyPV.png', 1.193359375), ('https://static.whatsapp.net/rsrc.php/v3/yJ/r/Qhrnh5evyPV.png', 1.193359375), ('https://static.whatsapp.net/rsrc.php/v3/y6/r/TcHIu29ealS.js?_nc_x=Ij3Wp8lg5Kz', 104.8037109375), ('https://static.whatsapp.net/rsrc.php/v3/yO/l/0,cross/zkmfh5mjXuB.css?_nc_x=Ij3Wp8lg5Kz', 1.318359375), ('https://static.whatsapp.net/rsrc.php/v3/yi/l/0,cross/TngFvC3f-F7.css?_nc_x=Ij3Wp8lg5Kz', 14.91796875), ('https://static.whatsapp.net/rsrc.php/v3/yX/l/0,cross/90x4oEKKKqw.css?_nc_x=Ij3Wp8lg5Kz', 9.01953125)]\n",
      "Analyzing 173 of 523: https://www.facebook.com/sharer/sharer.php?u=https://fampay.in/blog/genz-commits-to-fight-covid-19/\n",
      "Page size: 16.9384765625 KB\n",
      "Resource sizes: [('https://static.xx.fbcdn.net/rsrc.php/v3/y8/r/k97pj8-or6s.png', 0.7900390625), ('https://facebook.com/security/hsts-pixel.gif?c=3.2', 0.0)]\n",
      "Analyzing 174 of 523: https://twitter.com/intent/tweet?text=GenZs%20commit%20to%20fight%20Covid-19%20%F0%9F%8E%AF&url=https://fampay.in/blog/genz-commits-to-fight-covid-19/\n",
      "Page size: 167.810546875 KB\n",
      "Resource sizes: [('https://abs.twimg.com/errors/logo46x38.png', 0.9912109375), ('https://abs.twimg.com/responsive-web/client-web-legacy/shared~bundle.Compose~bundle.RichTextCompose.a2fa6b8a.js', 52.9111328125), ('https://abs.twimg.com/responsive-web/client-web-legacy/polyfills.d5242a4a.js', 17.72265625), ('https://abs.twimg.com/responsive-web/client-web-legacy/vendor.3cb7d15a.js', 218.7216796875), ('https://abs.twimg.com/responsive-web/client-web-legacy/i18n/en.213585ba.js', 114.365234375), ('https://abs.twimg.com/responsive-web/client-web-legacy/main.79ac570a.js', 408.1171875)]\n",
      "Analyzing 175 of 523: https://famapp.in/blog/life-of-an-intern-is-love/\n",
      "Page size: 49.4111328125 KB\n",
      "Resource sizes: [('https://fampay.in/blog/content/images/2020/11/logofilewhite-11-2.png', 0.130859375), ('https://fampay.in/blog/content/images/2020/11/logofilewhite-11-2.png', 0.130859375), ('https://fampay.in/blog/content/images/2020/10/Ayushi.jpg', 0.130859375), ('https://fampay.in/blog/content/images/2020/10/interns-to-anchit-1.png', 0.130859375), ('https://fampay.in/blog/content/images/2020/10/Shunyam.jpg', 0.130859375), ('https://fampay.in/blog/content/images/2020/10/Simran.jpg', 0.130859375), ('https://fampay.in/blog/content/images/2020/10/Harshitha.jpg', 0.130859375), ('https://fampay.in/blog/content/images/2020/10/Ashu.jpg', 0.130859375), ('https://fampay.in/blog/content/images/2020/10/Aditee.jpg', 0.130859375), ('https://fampay.in/blog/content/images/2020/10/Shivam.jpg', 0.130859375), ('https://fampay.in/blog/content/images/2020/10/Ananya.jpg', 0.130859375), ('https://fampay.in/blog/content/images/2021/02/sameeran.PNG', 0.130859375), ('https://fampay.in/blog/content/images/2021/01/image-1.png', 0.130859375), ('/blog/assets/images/success.png?v=22080dfa02', 0.0), ('https://cdn.jsdelivr.net/ghost/portal@~2.30/umd/portal.min.js', 170.8154296875), ('https://cdn.jsdelivr.net/ghost/sodo-search@~1.1/umd/sodo-search.min.js', 95.5751953125), ('/blog/public/cards.min.js?v=22080dfa02', 0.0), ('/blog/public/member-attribution.min.js?v=22080dfa02', 0.0), ('https://www.googletagmanager.com/gtag/js?id=UA-147725948-3', 0.0), ('https://polyfill.io/v3/polyfill.min.js?features=IntersectionObserver%2CPromise%2CArray.prototype.includes%2CString.prototype.endsWith%2CString.prototype.startsWith%2CObject.assign%2CNodeList.prototype.forEach', 14.1123046875), ('/blog/assets/js/vendor/content-api.min.js?v=22080dfa02', 0.0), ('/blog/assets/js/manifest.js?v=22080dfa02', 0.0), ('/blog/assets/js/vendor.js?v=22080dfa02', 0.0), ('/blog/assets/js/app.js?v=22080dfa02', 0.0), ('/blog/assets/js/post.js?v=22080dfa02', 0.0), ('/blog/assets/css/app.css?v=22080dfa02', 0.0), ('/blog/public/cards.min.css?v=22080dfa02', 0.0)]\n",
      "Analyzing 176 of 523: https://wa.me/?text=Life%20of%20an%20Intern%20is%20Love%20%F0%9F%98%8D%20https://fampay.in/blog/life-of-an-intern-is-love/\n",
      "Page size: 165.16015625 KB\n",
      "Resource sizes: [('https://static.whatsapp.net/rsrc.php/v3/yq/r/mdQNdcFMi0p.png', 28.833984375), ('https://static.whatsapp.net/rsrc.php/v3/y7/r/DSxOAUB0raA.png', 28.7744140625), ('https://static.whatsapp.net/rsrc.php/v3/yJ/r/Qhrnh5evyPV.png', 1.193359375), ('https://static.whatsapp.net/rsrc.php/v3/yJ/r/Qhrnh5evyPV.png', 1.193359375), ('https://static.whatsapp.net/rsrc.php/v3/y6/r/TcHIu29ealS.js?_nc_x=Ij3Wp8lg5Kz', 104.8037109375), ('https://static.whatsapp.net/rsrc.php/v3/yO/l/0,cross/zkmfh5mjXuB.css?_nc_x=Ij3Wp8lg5Kz', 1.318359375), ('https://static.whatsapp.net/rsrc.php/v3/yi/l/0,cross/TngFvC3f-F7.css?_nc_x=Ij3Wp8lg5Kz', 14.91796875), ('https://static.whatsapp.net/rsrc.php/v3/yX/l/0,cross/90x4oEKKKqw.css?_nc_x=Ij3Wp8lg5Kz', 9.01953125)]\n",
      "Analyzing 177 of 523: https://www.facebook.com/sharer/sharer.php?u=https://fampay.in/blog/life-of-an-intern-is-love/\n",
      "Page size: 16.904296875 KB\n",
      "Resource sizes: [('https://static.xx.fbcdn.net/rsrc.php/v3/y8/r/k97pj8-or6s.png', 0.7900390625), ('https://facebook.com/security/hsts-pixel.gif?c=3.2', 0.0)]\n",
      "Analyzing 178 of 523: https://twitter.com/intent/tweet?text=Life%20of%20an%20Intern%20is%20Love%20%F0%9F%98%8D&url=https://fampay.in/blog/life-of-an-intern-is-love/\n",
      "Page size: 167.810546875 KB\n",
      "Resource sizes: [('https://abs.twimg.com/errors/logo46x38.png', 0.9912109375), ('https://abs.twimg.com/responsive-web/client-web-legacy/shared~bundle.Compose~bundle.RichTextCompose.a2fa6b8a.js', 52.9111328125), ('https://abs.twimg.com/responsive-web/client-web-legacy/polyfills.d5242a4a.js', 17.72265625), ('https://abs.twimg.com/responsive-web/client-web-legacy/vendor.3cb7d15a.js', 218.7216796875), ('https://abs.twimg.com/responsive-web/client-web-legacy/i18n/en.213585ba.js', 114.365234375), ('https://abs.twimg.com/responsive-web/client-web-legacy/main.79ac570a.js', 408.1171875)]\n",
      "Analyzing 179 of 523: https://famapp.in/blog/tag/culture/\n",
      "Page size: 32.498046875 KB\n",
      "Resource sizes: [('https://fampay.in/blog/content/images/2020/11/logofilewhite-11-2.png', 0.130859375), ('https://fampay.in/blog/content/images/2020/11/logofilewhite-11-2.png', 0.130859375), ('https://cdn.jsdelivr.net/ghost/portal@~2.30/umd/portal.min.js', 170.8154296875), ('https://cdn.jsdelivr.net/ghost/sodo-search@~1.1/umd/sodo-search.min.js', 95.5751953125), ('/blog/public/cards.min.js?v=22080dfa02', 0.0), ('/blog/public/member-attribution.min.js?v=22080dfa02', 0.0), ('https://www.googletagmanager.com/gtag/js?id=UA-147725948-3', 0.0), ('https://polyfill.io/v3/polyfill.min.js?features=IntersectionObserver%2CPromise%2CArray.prototype.includes%2CString.prototype.endsWith%2CString.prototype.startsWith%2CObject.assign%2CNodeList.prototype.forEach', 14.1123046875), ('/blog/assets/js/vendor/content-api.min.js?v=22080dfa02', 0.0), ('/blog/assets/js/manifest.js?v=22080dfa02', 0.0), ('/blog/assets/js/vendor.js?v=22080dfa02', 0.0), ('/blog/assets/js/app.js?v=22080dfa02', 0.0), ('/blog/assets/css/app.css?v=22080dfa02', 0.0), ('/blog/public/cards.min.css?v=22080dfa02', 0.0)]\n",
      "Analyzing 180 of 523: https://famapp.in/blog/12-queer-led-small-businesses-you-need-to-support-this-pride-month/\n",
      "Page size: 47.44921875 KB\n",
      "Resource sizes: [('https://fampay.in/blog/content/images/2020/11/logofilewhite-11-2.png', 0.130859375), ('https://fampay.in/blog/content/images/2020/11/logofilewhite-11-2.png', 0.130859375), ('https://fampay.in/blog/content/images/2021/06/IMG-3577.jpg', 0.130859375), ('https://fampay.in/blog/content/images/2021/06/IMG-3578.jpg', 0.130859375), ('https://fampay.in/blog/content/images/2021/06/IMG-3579.jpg', 0.130859375), ('https://fampay.in/blog/content/images/2021/06/IMG-3581.jpg', 0.130859375), ('https://fampay.in/blog/content/images/2021/06/IMG-3582.jpg', 0.130859375), ('https://fampay.in/blog/content/images/2021/06/IMG-3583.jpg', 0.130859375), ('https://fampay.in/blog/content/images/2021/06/IMG-3584.jpg', 0.130859375), ('https://fampay.in/blog/content/images/2021/06/IMG-3585.jpg', 0.130859375), ('https://fampay.in/blog/content/images/2021/06/IMG-3586.jpg', 0.130859375), ('https://fampay.in/blog/content/images/2021/06/IMG-3590.jpg', 0.130859375), ('https://fampay.in/blog/content/images/2021/06/IMG-3588.jpg', 0.130859375), ('https://fampay.in/blog/content/images/2021/06/IMG-3589.jpg', 0.130859375), ('/blog/assets/images/success.png?v=22080dfa02', 0.0), ('https://cdn.jsdelivr.net/ghost/portal@~2.30/umd/portal.min.js', 170.8154296875), ('https://cdn.jsdelivr.net/ghost/sodo-search@~1.1/umd/sodo-search.min.js', 95.5751953125), ('/blog/public/cards.min.js?v=22080dfa02', 0.0), ('/blog/public/member-attribution.min.js?v=22080dfa02', 0.0), ('https://www.googletagmanager.com/gtag/js?id=UA-147725948-3', 0.0), ('https://polyfill.io/v3/polyfill.min.js?features=IntersectionObserver%2CPromise%2CArray.prototype.includes%2CString.prototype.endsWith%2CString.prototype.startsWith%2CObject.assign%2CNodeList.prototype.forEach', 14.1123046875), ('/blog/assets/js/vendor/content-api.min.js?v=22080dfa02', 0.0), ('/blog/assets/js/manifest.js?v=22080dfa02', 0.0), ('/blog/assets/js/vendor.js?v=22080dfa02', 0.0), ('/blog/assets/js/app.js?v=22080dfa02', 0.0), ('/blog/assets/js/post.js?v=22080dfa02', 0.0), ('/blog/assets/css/app.css?v=22080dfa02', 0.0), ('/blog/public/cards.min.css?v=22080dfa02', 0.0)]\n",
      "Analyzing 181 of 523: https://wa.me/?text=12%20Queer-led%20Small%20Businesses%20You%20Need%20To%20Support%20This%20Pride%20Month%F0%9F%8C%88%20https://fampay.in/blog/12-queer-led-small-businesses-you-need-to-support-this-pride-month/\n",
      "Page size: 165.5556640625 KB\n",
      "Resource sizes: [('https://static.whatsapp.net/rsrc.php/v3/yq/r/mdQNdcFMi0p.png', 28.833984375), ('https://static.whatsapp.net/rsrc.php/v3/y7/r/DSxOAUB0raA.png', 28.7744140625), ('https://static.whatsapp.net/rsrc.php/v3/yJ/r/Qhrnh5evyPV.png', 1.193359375), ('https://static.whatsapp.net/rsrc.php/v3/yJ/r/Qhrnh5evyPV.png', 1.193359375), ('https://static.whatsapp.net/rsrc.php/v3/y6/r/TcHIu29ealS.js?_nc_x=Ij3Wp8lg5Kz', 104.8037109375), ('https://static.whatsapp.net/rsrc.php/v3/yO/l/0,cross/zkmfh5mjXuB.css?_nc_x=Ij3Wp8lg5Kz', 1.318359375), ('https://static.whatsapp.net/rsrc.php/v3/yi/l/0,cross/TngFvC3f-F7.css?_nc_x=Ij3Wp8lg5Kz', 14.91796875), ('https://static.whatsapp.net/rsrc.php/v3/yX/l/0,cross/90x4oEKKKqw.css?_nc_x=Ij3Wp8lg5Kz', 9.01953125)]\n",
      "Analyzing 182 of 523: https://www.facebook.com/sharer/sharer.php?u=https://fampay.in/blog/12-queer-led-small-businesses-you-need-to-support-this-pride-month/\n",
      "Page size: 17.1845703125 KB\n",
      "Resource sizes: [('https://static.xx.fbcdn.net/rsrc.php/v3/y8/r/k97pj8-or6s.png', 0.7900390625), ('https://facebook.com/security/hsts-pixel.gif?c=3.2', 0.0)]\n",
      "Analyzing 183 of 523: https://twitter.com/intent/tweet?text=12%20Queer-led%20Small%20Businesses%20You%20Need%20To%20Support%20This%20Pride%20Month%F0%9F%8C%88&url=https://fampay.in/blog/12-queer-led-small-businesses-you-need-to-support-this-pride-month/\n",
      "Page size: 167.810546875 KB\n",
      "Resource sizes: [('https://abs.twimg.com/errors/logo46x38.png', 0.9912109375), ('https://abs.twimg.com/responsive-web/client-web-legacy/shared~bundle.Compose~bundle.RichTextCompose.a2fa6b8a.js', 52.9111328125), ('https://abs.twimg.com/responsive-web/client-web-legacy/polyfills.d5242a4a.js', 17.72265625), ('https://abs.twimg.com/responsive-web/client-web-legacy/vendor.3cb7d15a.js', 218.7216796875), ('https://abs.twimg.com/responsive-web/client-web-legacy/i18n/en.213585ba.js', 114.365234375), ('https://abs.twimg.com/responsive-web/client-web-legacy/main.79ac570a.js', 408.1171875)]\n",
      "Analyzing 184 of 523: https://famapp.in/blog/famstars-we-stress-less-and-accomplish-more/\n",
      "Page size: 41.857421875 KB\n",
      "Resource sizes: [('https://fampay.in/blog/content/images/2020/11/logofilewhite-11-2.png', 0.130859375), ('https://fampay.in/blog/content/images/2020/11/logofilewhite-11-2.png', 0.130859375), ('https://fampay.in/blog/content/images/2021/04/image-16.png', 0.130859375), ('/blog/assets/images/success.png?v=22080dfa02', 0.0), ('https://cdn.jsdelivr.net/ghost/portal@~2.30/umd/portal.min.js', 170.8154296875), ('https://cdn.jsdelivr.net/ghost/sodo-search@~1.1/umd/sodo-search.min.js', 95.5751953125), ('/blog/public/cards.min.js?v=22080dfa02', 0.0), ('/blog/public/member-attribution.min.js?v=22080dfa02', 0.0), ('https://www.googletagmanager.com/gtag/js?id=UA-147725948-3', 0.0), ('https://polyfill.io/v3/polyfill.min.js?features=IntersectionObserver%2CPromise%2CArray.prototype.includes%2CString.prototype.endsWith%2CString.prototype.startsWith%2CObject.assign%2CNodeList.prototype.forEach', 14.1123046875), ('/blog/assets/js/vendor/content-api.min.js?v=22080dfa02', 0.0), ('/blog/assets/js/manifest.js?v=22080dfa02', 0.0), ('/blog/assets/js/vendor.js?v=22080dfa02', 0.0), ('/blog/assets/js/app.js?v=22080dfa02', 0.0), ('/blog/assets/js/post.js?v=22080dfa02', 0.0), ('/blog/assets/css/app.css?v=22080dfa02', 0.0), ('/blog/public/cards.min.css?v=22080dfa02', 0.0)]\n",
      "Analyzing 185 of 523: https://wa.me/?text=We%20stress%20less%20and%20accomplish%20more%3A%20A%20guide%20on%20how%20we%20get%20things%20done%20at%20FamPay!%20%F0%9F%99%8C%20https://fampay.in/blog/famstars-we-stress-less-and-accomplish-more/\n",
      "Page size: 165.5400390625 KB\n",
      "Resource sizes: [('https://static.whatsapp.net/rsrc.php/v3/yq/r/mdQNdcFMi0p.png', 28.833984375), ('https://static.whatsapp.net/rsrc.php/v3/y7/r/DSxOAUB0raA.png', 28.7744140625), ('https://static.whatsapp.net/rsrc.php/v3/yJ/r/Qhrnh5evyPV.png', 1.193359375), ('https://static.whatsapp.net/rsrc.php/v3/yJ/r/Qhrnh5evyPV.png', 1.193359375), ('https://static.whatsapp.net/rsrc.php/v3/y6/r/TcHIu29ealS.js?_nc_x=Ij3Wp8lg5Kz', 104.8037109375), ('https://static.whatsapp.net/rsrc.php/v3/yO/l/0,cross/zkmfh5mjXuB.css?_nc_x=Ij3Wp8lg5Kz', 1.318359375), ('https://static.whatsapp.net/rsrc.php/v3/yi/l/0,cross/TngFvC3f-F7.css?_nc_x=Ij3Wp8lg5Kz', 14.91796875), ('https://static.whatsapp.net/rsrc.php/v3/yX/l/0,cross/90x4oEKKKqw.css?_nc_x=Ij3Wp8lg5Kz', 9.01953125)]\n",
      "Analyzing 186 of 523: https://www.facebook.com/sharer/sharer.php?u=https://fampay.in/blog/famstars-we-stress-less-and-accomplish-more/\n",
      "Page size: 17.02734375 KB\n",
      "Resource sizes: [('https://static.xx.fbcdn.net/rsrc.php/v3/y8/r/k97pj8-or6s.png', 0.7900390625), ('https://facebook.com/security/hsts-pixel.gif?c=3.2', 0.0)]\n",
      "Analyzing 187 of 523: https://twitter.com/intent/tweet?text=We%20stress%20less%20and%20accomplish%20more%3A%20A%20guide%20on%20how%20we%20get%20things%20done%20at%20FamPay!%20%F0%9F%99%8C&url=https://fampay.in/blog/famstars-we-stress-less-and-accomplish-more/\n",
      "Page size: 167.810546875 KB\n",
      "Resource sizes: [('https://abs.twimg.com/errors/logo46x38.png', 0.9912109375), ('https://abs.twimg.com/responsive-web/client-web-legacy/shared~bundle.Compose~bundle.RichTextCompose.a2fa6b8a.js', 52.9111328125), ('https://abs.twimg.com/responsive-web/client-web-legacy/polyfills.d5242a4a.js', 17.72265625), ('https://abs.twimg.com/responsive-web/client-web-legacy/vendor.3cb7d15a.js', 218.7216796875), ('https://abs.twimg.com/responsive-web/client-web-legacy/i18n/en.213585ba.js', 114.365234375), ('https://abs.twimg.com/responsive-web/client-web-legacy/main.79ac570a.js', 408.1171875)]\n",
      "Analyzing 188 of 523: https://famapp.in/blog/3-financial-lessons-from-nature-itself/\n",
      "Page size: 44.9775390625 KB\n",
      "Resource sizes: [('https://fampay.in/blog/content/images/2020/11/logofilewhite-11-2.png', 0.130859375), ('https://fampay.in/blog/content/images/2020/11/logofilewhite-11-2.png', 0.130859375), ('https://fampay.in/blog/content/images/2021/04/nature-coexisting.jpeg', 0.130859375), ('https://fampay.in/blog/content/images/2021/04/image-14.png', 0.130859375), ('https://fampay.in/blog/content/images/2021/04/Tree-ecosystem22.jpg', 0.130859375), ('https://fampay.in/blog/content/images/2021/04/Bees-storing-food.jpg', 0.130859375), ('https://fampay.in/blog/favicon.png', 0.130859375), ('https://fampay.in/blog/content/images/2020/12/ray-sangga-kusuma-7uSrOyY1U0I-unsplash1.jpg', 0.130859375), ('/blog/assets/images/success.png?v=22080dfa02', 0.0), ('https://cdn.jsdelivr.net/ghost/portal@~2.30/umd/portal.min.js', 170.8154296875), ('https://cdn.jsdelivr.net/ghost/sodo-search@~1.1/umd/sodo-search.min.js', 95.5751953125), ('/blog/public/cards.min.js?v=22080dfa02', 0.0), ('/blog/public/member-attribution.min.js?v=22080dfa02', 0.0), ('https://www.googletagmanager.com/gtag/js?id=UA-147725948-3', 0.0), ('https://polyfill.io/v3/polyfill.min.js?features=IntersectionObserver%2CPromise%2CArray.prototype.includes%2CString.prototype.endsWith%2CString.prototype.startsWith%2CObject.assign%2CNodeList.prototype.forEach', 14.1123046875), ('/blog/assets/js/vendor/content-api.min.js?v=22080dfa02', 0.0), ('/blog/assets/js/manifest.js?v=22080dfa02', 0.0), ('/blog/assets/js/vendor.js?v=22080dfa02', 0.0), ('/blog/assets/js/app.js?v=22080dfa02', 0.0), ('/blog/assets/js/post.js?v=22080dfa02', 0.0), ('/blog/assets/css/app.css?v=22080dfa02', 0.0), ('/blog/public/cards.min.css?v=22080dfa02', 0.0)]\n",
      "Analyzing 189 of 523: https://wa.me/?text=3%20Financial%20Lessons%20from%20Nature%3A%20An%20Earth%20Day%20special%20%F0%9F%8C%8D%20https://fampay.in/blog/3-financial-lessons-from-nature-itself/\n",
      "Page size: 165.373046875 KB\n",
      "Resource sizes: [('https://static.whatsapp.net/rsrc.php/v3/yq/r/mdQNdcFMi0p.png', 28.833984375), ('https://static.whatsapp.net/rsrc.php/v3/y7/r/DSxOAUB0raA.png', 28.7744140625), ('https://static.whatsapp.net/rsrc.php/v3/yJ/r/Qhrnh5evyPV.png', 1.193359375), ('https://static.whatsapp.net/rsrc.php/v3/yJ/r/Qhrnh5evyPV.png', 1.193359375), ('https://static.whatsapp.net/rsrc.php/v3/y6/r/TcHIu29ealS.js?_nc_x=Ij3Wp8lg5Kz', 104.8037109375), ('https://static.whatsapp.net/rsrc.php/v3/yO/l/0,cross/zkmfh5mjXuB.css?_nc_x=Ij3Wp8lg5Kz', 1.318359375), ('https://static.whatsapp.net/rsrc.php/v3/yi/l/0,cross/TngFvC3f-F7.css?_nc_x=Ij3Wp8lg5Kz', 14.91796875), ('https://static.whatsapp.net/rsrc.php/v3/yX/l/0,cross/90x4oEKKKqw.css?_nc_x=Ij3Wp8lg5Kz', 9.01953125)]\n",
      "Analyzing 190 of 523: https://www.facebook.com/sharer/sharer.php?u=https://fampay.in/blog/3-financial-lessons-from-nature-itself/\n",
      "Page size: 16.9931640625 KB\n",
      "Resource sizes: [('https://static.xx.fbcdn.net/rsrc.php/v3/y8/r/k97pj8-or6s.png', 0.7900390625), ('https://facebook.com/security/hsts-pixel.gif?c=3.2', 0.0)]\n",
      "Analyzing 191 of 523: https://twitter.com/intent/tweet?text=3%20Financial%20Lessons%20from%20Nature%3A%20An%20Earth%20Day%20special%20%F0%9F%8C%8D&url=https://fampay.in/blog/3-financial-lessons-from-nature-itself/\n",
      "Page size: 168.05859375 KB\n",
      "Resource sizes: [('https://abs.twimg.com/errors/logo46x38.png', 0.9912109375), ('https://abs.twimg.com/responsive-web/client-web-legacy/shared~bundle.Compose~bundle.RichTextCompose.a2fa6b8a.js', 52.9111328125), ('https://abs.twimg.com/responsive-web/client-web-legacy/polyfills.d5242a4a.js', 17.72265625), ('https://abs.twimg.com/responsive-web/client-web-legacy/vendor.3cb7d15a.js', 218.7216796875), ('https://abs.twimg.com/responsive-web/client-web-legacy/i18n/en.213585ba.js', 114.365234375), ('https://abs.twimg.com/responsive-web/client-web-legacy/main.79ac570a.js', 408.1171875)]\n",
      "Analyzing 192 of 523: https://famapp.in/blog/living-life-genz-style/\n",
      "Page size: 40.5654296875 KB\n",
      "Resource sizes: [('https://fampay.in/blog/content/images/2020/11/logofilewhite-11-2.png', 0.130859375), ('https://fampay.in/blog/content/images/2020/11/logofilewhite-11-2.png', 0.130859375), ('https://fampay.in/blog/content/images/2020/10/king.gif', 0.130859375), ('https://fampay.in/blog/content/images/2020/10/finally-final.png', 0.130859375), ('https://fampay.in/blog/content/images/2020/10/tenor.gif', 0.130859375), ('https://fampay.in/blog/content/images/2020/10/giphy-2.gif', 0.130859375), ('https://fampay.in/blog/content/images/2020/10/giphy-3.gif', 0.130859375), ('https://fampay.in/blog/content/images/2020/10/DSC01983-2.jpg', 0.130859375), ('https://fampay.in/blog/content/images/2020/10/DSC02327-2.jpg', 0.130859375), ('https://fampay.in/blog/content/images/2020/10/tenor-1.gif', 0.130859375), ('/blog/assets/images/success.png?v=22080dfa02', 0.0), ('https://cdn.jsdelivr.net/ghost/portal@~2.30/umd/portal.min.js', 170.8154296875), ('https://cdn.jsdelivr.net/ghost/sodo-search@~1.1/umd/sodo-search.min.js', 95.5751953125), ('/blog/public/cards.min.js?v=22080dfa02', 0.0), ('/blog/public/member-attribution.min.js?v=22080dfa02', 0.0), ('https://www.googletagmanager.com/gtag/js?id=UA-147725948-3', 0.0), ('https://polyfill.io/v3/polyfill.min.js?features=IntersectionObserver%2CPromise%2CArray.prototype.includes%2CString.prototype.endsWith%2CString.prototype.startsWith%2CObject.assign%2CNodeList.prototype.forEach', 14.1123046875), ('/blog/assets/js/vendor/content-api.min.js?v=22080dfa02', 0.0), ('/blog/assets/js/manifest.js?v=22080dfa02', 0.0), ('/blog/assets/js/vendor.js?v=22080dfa02', 0.0), ('/blog/assets/js/app.js?v=22080dfa02', 0.0), ('/blog/assets/js/post.js?v=22080dfa02', 0.0), ('/blog/assets/css/app.css?v=22080dfa02', 0.0), ('/blog/public/cards.min.css?v=22080dfa02', 0.0)]\n",
      "Analyzing 193 of 523: https://wa.me/?text=Living%20Life%2C%20GenZ%20Style%20%F0%9F%98%8E%20https://fampay.in/blog/living-life-genz-style/\n",
      "Page size: 165.142578125 KB\n",
      "Resource sizes: [('https://static.whatsapp.net/rsrc.php/v3/yq/r/mdQNdcFMi0p.png', 28.833984375), ('https://static.whatsapp.net/rsrc.php/v3/y7/r/DSxOAUB0raA.png', 28.7744140625), ('https://static.whatsapp.net/rsrc.php/v3/yJ/r/Qhrnh5evyPV.png', 1.193359375), ('https://static.whatsapp.net/rsrc.php/v3/yJ/r/Qhrnh5evyPV.png', 1.193359375), ('https://static.whatsapp.net/rsrc.php/v3/y6/r/TcHIu29ealS.js?_nc_x=Ij3Wp8lg5Kz', 104.8037109375), ('https://static.whatsapp.net/rsrc.php/v3/yO/l/0,cross/zkmfh5mjXuB.css?_nc_x=Ij3Wp8lg5Kz', 1.318359375), ('https://static.whatsapp.net/rsrc.php/v3/yi/l/0,cross/TngFvC3f-F7.css?_nc_x=Ij3Wp8lg5Kz', 14.91796875), ('https://static.whatsapp.net/rsrc.php/v3/yX/l/0,cross/90x4oEKKKqw.css?_nc_x=Ij3Wp8lg5Kz', 9.01953125)]\n",
      "Analyzing 194 of 523: https://www.facebook.com/sharer/sharer.php?u=https://fampay.in/blog/living-life-genz-style/\n",
      "Page size: 16.8837890625 KB\n",
      "Resource sizes: [('https://static.xx.fbcdn.net/rsrc.php/v3/y8/r/k97pj8-or6s.png', 0.7900390625), ('https://facebook.com/security/hsts-pixel.gif?c=3.2', 0.0)]\n",
      "Analyzing 195 of 523: https://twitter.com/intent/tweet?text=Living%20Life%2C%20GenZ%20Style%20%F0%9F%98%8E&url=https://fampay.in/blog/living-life-genz-style/\n",
      "Page size: 167.810546875 KB\n",
      "Resource sizes: [('https://abs.twimg.com/errors/logo46x38.png', 0.9912109375), ('https://abs.twimg.com/responsive-web/client-web-legacy/shared~bundle.Compose~bundle.RichTextCompose.a2fa6b8a.js', 52.9111328125), ('https://abs.twimg.com/responsive-web/client-web-legacy/polyfills.d5242a4a.js', 17.72265625), ('https://abs.twimg.com/responsive-web/client-web-legacy/vendor.3cb7d15a.js', 218.7216796875), ('https://abs.twimg.com/responsive-web/client-web-legacy/i18n/en.213585ba.js', 114.365234375), ('https://abs.twimg.com/responsive-web/client-web-legacy/main.79ac570a.js', 408.1171875)]\n",
      "Analyzing 196 of 523: https://famapp.in/blog/remote-working-divided-by-distance-united-by-mission/\n",
      "Page size: 42.27734375 KB\n",
      "Resource sizes: [('https://fampay.in/blog/content/images/2020/11/logofilewhite-11-2.png', 0.130859375), ('https://fampay.in/blog/content/images/2020/11/logofilewhite-11-2.png', 0.130859375), ('https://fampay.in/blog/content/images/2020/09/NEW-IMAGE.png', 0.130859375), ('https://fampay.in/blog/content/images/2020/08/REMOTE-LOGO.png', 0.130859375), ('/blog/assets/images/success.png?v=22080dfa02', 0.0), ('https://cdn.jsdelivr.net/ghost/portal@~2.30/umd/portal.min.js', 170.8154296875), ('https://cdn.jsdelivr.net/ghost/sodo-search@~1.1/umd/sodo-search.min.js', 95.5751953125), ('/blog/public/cards.min.js?v=22080dfa02', 0.0), ('/blog/public/member-attribution.min.js?v=22080dfa02', 0.0), ('https://www.googletagmanager.com/gtag/js?id=UA-147725948-3', 0.0), ('https://polyfill.io/v3/polyfill.min.js?features=IntersectionObserver%2CPromise%2CArray.prototype.includes%2CString.prototype.endsWith%2CString.prototype.startsWith%2CObject.assign%2CNodeList.prototype.forEach', 14.1123046875), ('/blog/assets/js/vendor/content-api.min.js?v=22080dfa02', 0.0), ('/blog/assets/js/manifest.js?v=22080dfa02', 0.0), ('/blog/assets/js/vendor.js?v=22080dfa02', 0.0), ('/blog/assets/js/app.js?v=22080dfa02', 0.0), ('/blog/assets/js/post.js?v=22080dfa02', 0.0), ('/blog/assets/css/app.css?v=22080dfa02', 0.0), ('/blog/public/cards.min.css?v=22080dfa02', 0.0)]\n",
      "Analyzing 197 of 523: https://wa.me/?text=Remote%20Working%20%3A%20Divided%20by%20Distance%2C%20United%20by%20Mission%20https://fampay.in/blog/remote-working-divided-by-distance-united-by-mission/\n",
      "Page size: 165.4111328125 KB\n",
      "Resource sizes: [('https://static.whatsapp.net/rsrc.php/v3/yq/r/mdQNdcFMi0p.png', 28.833984375), ('https://static.whatsapp.net/rsrc.php/v3/y7/r/DSxOAUB0raA.png', 28.7744140625), ('https://static.whatsapp.net/rsrc.php/v3/yJ/r/Qhrnh5evyPV.png', 1.193359375), ('https://static.whatsapp.net/rsrc.php/v3/yJ/r/Qhrnh5evyPV.png', 1.193359375), ('https://static.whatsapp.net/rsrc.php/v3/y6/r/TcHIu29ealS.js?_nc_x=Ij3Wp8lg5Kz', 104.8037109375), ('https://static.whatsapp.net/rsrc.php/v3/yO/l/0,cross/zkmfh5mjXuB.css?_nc_x=Ij3Wp8lg5Kz', 1.318359375), ('https://static.whatsapp.net/rsrc.php/v3/yi/l/0,cross/TngFvC3f-F7.css?_nc_x=Ij3Wp8lg5Kz', 14.91796875), ('https://static.whatsapp.net/rsrc.php/v3/yX/l/0,cross/90x4oEKKKqw.css?_nc_x=Ij3Wp8lg5Kz', 9.01953125)]\n",
      "Analyzing 198 of 523: https://www.facebook.com/sharer/sharer.php?u=https://fampay.in/blog/remote-working-divided-by-distance-united-by-mission/\n",
      "Page size: 17.0888671875 KB\n",
      "Resource sizes: [('https://static.xx.fbcdn.net/rsrc.php/v3/y8/r/k97pj8-or6s.png', 0.7900390625), ('https://facebook.com/security/hsts-pixel.gif?c=3.2', 0.0)]\n",
      "Analyzing 199 of 523: https://twitter.com/intent/tweet?text=Remote%20Working%20%3A%20Divided%20by%20Distance%2C%20United%20by%20Mission&url=https://fampay.in/blog/remote-working-divided-by-distance-united-by-mission/\n",
      "Page size: 167.810546875 KB\n",
      "Resource sizes: [('https://abs.twimg.com/errors/logo46x38.png', 0.9912109375), ('https://abs.twimg.com/responsive-web/client-web-legacy/shared~bundle.Compose~bundle.RichTextCompose.a2fa6b8a.js', 52.9111328125), ('https://abs.twimg.com/responsive-web/client-web-legacy/polyfills.d5242a4a.js', 17.72265625), ('https://abs.twimg.com/responsive-web/client-web-legacy/vendor.3cb7d15a.js', 218.7216796875), ('https://abs.twimg.com/responsive-web/client-web-legacy/i18n/en.213585ba.js', 114.365234375), ('https://abs.twimg.com/responsive-web/client-web-legacy/main.79ac570a.js', 408.1171875)]\n",
      "Analyzing 200 of 523: https://famapp.in/blog/tag/famsays/\n",
      "Page size: 37.5068359375 KB\n",
      "Resource sizes: [('https://fampay.in/blog/content/images/2020/11/logofilewhite-11-2.png', 0.130859375), ('https://fampay.in/blog/content/images/2020/11/logofilewhite-11-2.png', 0.130859375), ('https://cdn.jsdelivr.net/ghost/portal@~2.30/umd/portal.min.js', 170.8154296875), ('https://cdn.jsdelivr.net/ghost/sodo-search@~1.1/umd/sodo-search.min.js', 95.5751953125), ('/blog/public/cards.min.js?v=22080dfa02', 0.0), ('/blog/public/member-attribution.min.js?v=22080dfa02', 0.0), ('https://www.googletagmanager.com/gtag/js?id=UA-147725948-3', 0.0), ('https://polyfill.io/v3/polyfill.min.js?features=IntersectionObserver%2CPromise%2CArray.prototype.includes%2CString.prototype.endsWith%2CString.prototype.startsWith%2CObject.assign%2CNodeList.prototype.forEach', 14.1123046875), ('/blog/assets/js/vendor/content-api.min.js?v=22080dfa02', 0.0), ('/blog/assets/js/manifest.js?v=22080dfa02', 0.0), ('/blog/assets/js/vendor.js?v=22080dfa02', 0.0), ('/blog/assets/js/app.js?v=22080dfa02', 0.0), ('/blog/assets/css/app.css?v=22080dfa02', 0.0), ('/blog/public/cards.min.css?v=22080dfa02', 0.0)]\n",
      "Analyzing 201 of 523: https://famapp.in/blog/a-practical-guide-to-app-store-optimization/\n",
      "Page size: 40.75390625 KB\n",
      "Resource sizes: [('https://fampay.in/blog/content/images/2020/11/logofilewhite-11-2.png', 0.130859375), ('https://fampay.in/blog/content/images/2020/11/logofilewhite-11-2.png', 0.130859375), ('https://fampay.in/blog/content/images/2021/09/ASO.png', 0.130859375), ('https://fampay.in/blog/content/images/2021/09/image-9.png', 0.130859375), ('https://fampay.in/blog/content/images/2021/09/image-10.png', 0.130859375), ('/blog/assets/images/success.png?v=22080dfa02', 0.0), ('https://cdn.jsdelivr.net/ghost/portal@~2.30/umd/portal.min.js', 170.8154296875), ('https://cdn.jsdelivr.net/ghost/sodo-search@~1.1/umd/sodo-search.min.js', 95.5751953125), ('/blog/public/cards.min.js?v=22080dfa02', 0.0), ('/blog/public/member-attribution.min.js?v=22080dfa02', 0.0), ('https://www.googletagmanager.com/gtag/js?id=UA-147725948-3', 0.0), ('https://polyfill.io/v3/polyfill.min.js?features=IntersectionObserver%2CPromise%2CArray.prototype.includes%2CString.prototype.endsWith%2CString.prototype.startsWith%2CObject.assign%2CNodeList.prototype.forEach', 14.1123046875), ('/blog/assets/js/vendor/content-api.min.js?v=22080dfa02', 0.0), ('/blog/assets/js/manifest.js?v=22080dfa02', 0.0), ('/blog/assets/js/vendor.js?v=22080dfa02', 0.0), ('/blog/assets/js/app.js?v=22080dfa02', 0.0), ('/blog/assets/js/post.js?v=22080dfa02', 0.0), ('/blog/assets/css/app.css?v=22080dfa02', 0.0), ('/blog/public/cards.min.css?v=22080dfa02', 0.0)]\n",
      "Analyzing 202 of 523: https://wa.me/?text=A%20practical%20guide%20to%20App%20Store%20Optimization%20(ASO)%20%F0%9F%93%B1%20https://fampay.in/blog/a-practical-guide-to-app-store-optimization/\n",
      "Page size: 165.3896484375 KB\n",
      "Resource sizes: [('https://static.whatsapp.net/rsrc.php/v3/yq/r/mdQNdcFMi0p.png', 28.833984375), ('https://static.whatsapp.net/rsrc.php/v3/y7/r/DSxOAUB0raA.png', 28.7744140625), ('https://static.whatsapp.net/rsrc.php/v3/yJ/r/Qhrnh5evyPV.png', 1.193359375), ('https://static.whatsapp.net/rsrc.php/v3/yJ/r/Qhrnh5evyPV.png', 1.193359375), ('https://static.whatsapp.net/rsrc.php/v3/y6/r/TcHIu29ealS.js?_nc_x=Ij3Wp8lg5Kz', 104.8037109375), ('https://static.whatsapp.net/rsrc.php/v3/yO/l/0,cross/zkmfh5mjXuB.css?_nc_x=Ij3Wp8lg5Kz', 1.318359375), ('https://static.whatsapp.net/rsrc.php/v3/yi/l/0,cross/TngFvC3f-F7.css?_nc_x=Ij3Wp8lg5Kz', 14.91796875), ('https://static.whatsapp.net/rsrc.php/v3/yX/l/0,cross/90x4oEKKKqw.css?_nc_x=Ij3Wp8lg5Kz', 9.01953125)]\n",
      "Analyzing 203 of 523: https://www.facebook.com/sharer/sharer.php?u=https://fampay.in/blog/a-practical-guide-to-app-store-optimization/\n",
      "Page size: 17.02734375 KB\n",
      "Resource sizes: [('https://static.xx.fbcdn.net/rsrc.php/v3/y8/r/k97pj8-or6s.png', 0.7900390625), ('https://facebook.com/security/hsts-pixel.gif?c=3.2', 0.0)]\n",
      "Analyzing 204 of 523: https://twitter.com/intent/tweet?text=A%20practical%20guide%20to%20App%20Store%20Optimization%20(ASO)%20%F0%9F%93%B1&url=https://fampay.in/blog/a-practical-guide-to-app-store-optimization/\n",
      "Page size: 167.810546875 KB\n",
      "Resource sizes: [('https://abs.twimg.com/errors/logo46x38.png', 0.9912109375), ('https://abs.twimg.com/responsive-web/client-web-legacy/shared~bundle.Compose~bundle.RichTextCompose.a2fa6b8a.js', 52.9111328125), ('https://abs.twimg.com/responsive-web/client-web-legacy/polyfills.d5242a4a.js', 17.72265625), ('https://abs.twimg.com/responsive-web/client-web-legacy/vendor.3cb7d15a.js', 218.7216796875), ('https://abs.twimg.com/responsive-web/client-web-legacy/i18n/en.213585ba.js', 114.365234375), ('https://abs.twimg.com/responsive-web/client-web-legacy/main.79ac570a.js', 408.1171875)]\n",
      "Analyzing 205 of 523: https://famapp.in/blog/365-days-of-internship-at-fampay/\n",
      "Page size: 42.2734375 KB\n",
      "Resource sizes: [('https://fampay.in/blog/content/images/2020/11/logofilewhite-11-2.png', 0.130859375), ('https://fampay.in/blog/content/images/2020/11/logofilewhite-11-2.png', 0.130859375), ('https://fampay.in/blog/content/images/2021/09/WhatsApp-Image-2021-09-09-at-12.08.03.jpeg', 0.130859375), ('https://fampay.in/blog/content/images/2021/09/WhatsApp-Image-2021-09-09-at-12.08.02.jpeg', 0.130859375), ('/blog/assets/images/success.png?v=22080dfa02', 0.0), ('https://cdn.jsdelivr.net/ghost/portal@~2.30/umd/portal.min.js', 170.8154296875), ('https://cdn.jsdelivr.net/ghost/sodo-search@~1.1/umd/sodo-search.min.js', 95.5751953125), ('/blog/public/cards.min.js?v=22080dfa02', 0.0), ('/blog/public/member-attribution.min.js?v=22080dfa02', 0.0), ('https://www.googletagmanager.com/gtag/js?id=UA-147725948-3', 0.0), ('https://polyfill.io/v3/polyfill.min.js?features=IntersectionObserver%2CPromise%2CArray.prototype.includes%2CString.prototype.endsWith%2CString.prototype.startsWith%2CObject.assign%2CNodeList.prototype.forEach', 14.1123046875), ('/blog/assets/js/vendor/content-api.min.js?v=22080dfa02', 0.0), ('/blog/assets/js/manifest.js?v=22080dfa02', 0.0), ('/blog/assets/js/vendor.js?v=22080dfa02', 0.0), ('/blog/assets/js/app.js?v=22080dfa02', 0.0), ('/blog/assets/js/post.js?v=22080dfa02', 0.0), ('/blog/assets/css/app.css?v=22080dfa02', 0.0), ('/blog/public/cards.min.css?v=22080dfa02', 0.0)]\n",
      "Analyzing 206 of 523: https://wa.me/?text=My%20365%20Days%20of%20Internship%20at%20FamPay%20%F0%9F%9A%80%20https://fampay.in/blog/365-days-of-internship-at-fampay/\n",
      "Page size: 165.2412109375 KB\n",
      "Resource sizes: [('https://static.whatsapp.net/rsrc.php/v3/yq/r/mdQNdcFMi0p.png', 28.833984375), ('https://static.whatsapp.net/rsrc.php/v3/y7/r/DSxOAUB0raA.png', 28.7744140625), ('https://static.whatsapp.net/rsrc.php/v3/yJ/r/Qhrnh5evyPV.png', 1.193359375), ('https://static.whatsapp.net/rsrc.php/v3/yJ/r/Qhrnh5evyPV.png', 1.193359375), ('https://static.whatsapp.net/rsrc.php/v3/y6/r/TcHIu29ealS.js?_nc_x=Ij3Wp8lg5Kz', 104.8037109375), ('https://static.whatsapp.net/rsrc.php/v3/yO/l/0,cross/zkmfh5mjXuB.css?_nc_x=Ij3Wp8lg5Kz', 1.318359375), ('https://static.whatsapp.net/rsrc.php/v3/yi/l/0,cross/TngFvC3f-F7.css?_nc_x=Ij3Wp8lg5Kz', 14.91796875), ('https://static.whatsapp.net/rsrc.php/v3/yX/l/0,cross/90x4oEKKKqw.css?_nc_x=Ij3Wp8lg5Kz', 9.01953125)]\n",
      "Analyzing 207 of 523: https://www.facebook.com/sharer/sharer.php?u=https://fampay.in/blog/365-days-of-internship-at-fampay/\n",
      "Page size: 16.9521484375 KB\n",
      "Resource sizes: [('https://static.xx.fbcdn.net/rsrc.php/v3/y8/r/k97pj8-or6s.png', 0.7900390625), ('https://facebook.com/security/hsts-pixel.gif?c=3.2', 0.0)]\n",
      "Analyzing 208 of 523: https://twitter.com/intent/tweet?text=My%20365%20Days%20of%20Internship%20at%20FamPay%20%F0%9F%9A%80&url=https://fampay.in/blog/365-days-of-internship-at-fampay/\n",
      "Page size: 167.810546875 KB\n",
      "Resource sizes: [('https://abs.twimg.com/errors/logo46x38.png', 0.9912109375), ('https://abs.twimg.com/responsive-web/client-web-legacy/shared~bundle.Compose~bundle.RichTextCompose.a2fa6b8a.js', 52.9111328125), ('https://abs.twimg.com/responsive-web/client-web-legacy/polyfills.d5242a4a.js', 17.72265625), ('https://abs.twimg.com/responsive-web/client-web-legacy/vendor.3cb7d15a.js', 218.7216796875), ('https://abs.twimg.com/responsive-web/client-web-legacy/i18n/en.213585ba.js', 114.365234375), ('https://abs.twimg.com/responsive-web/client-web-legacy/main.79ac570a.js', 408.1171875)]\n",
      "Analyzing 209 of 523: https://famapp.in/blog/how-instagram-reel-can-really-grow-your-brand/\n",
      "Page size: 40.0205078125 KB\n",
      "Resource sizes: [('https://fampay.in/blog/content/images/2020/11/logofilewhite-11-2.png', 0.130859375), ('https://fampay.in/blog/content/images/2020/11/logofilewhite-11-2.png', 0.130859375), ('https://fampay.in/blog/content/images/2021/08/image-9.png', 0.130859375), ('https://fampay.in/blog/content/images/2021/08/image-14.png', 0.130859375), ('https://fampay.in/blog/content/images/2021/08/image-13.png', 0.130859375), ('https://fampay.in/blog/content/images/2021/08/image-12.png', 0.130859375), ('/blog/assets/images/success.png?v=22080dfa02', 0.0), ('https://cdn.jsdelivr.net/ghost/portal@~2.30/umd/portal.min.js', 170.8154296875), ('https://cdn.jsdelivr.net/ghost/sodo-search@~1.1/umd/sodo-search.min.js', 95.5751953125), ('/blog/public/cards.min.js?v=22080dfa02', 0.0), ('/blog/public/member-attribution.min.js?v=22080dfa02', 0.0), ('https://www.googletagmanager.com/gtag/js?id=UA-147725948-3', 0.0), ('https://polyfill.io/v3/polyfill.min.js?features=IntersectionObserver%2CPromise%2CArray.prototype.includes%2CString.prototype.endsWith%2CString.prototype.startsWith%2CObject.assign%2CNodeList.prototype.forEach', 14.1123046875), ('/blog/assets/js/vendor/content-api.min.js?v=22080dfa02', 0.0), ('/blog/assets/js/manifest.js?v=22080dfa02', 0.0), ('/blog/assets/js/vendor.js?v=22080dfa02', 0.0), ('/blog/assets/js/app.js?v=22080dfa02', 0.0), ('/blog/assets/js/post.js?v=22080dfa02', 0.0), ('/blog/assets/css/app.css?v=22080dfa02', 0.0), ('/blog/public/cards.min.css?v=22080dfa02', 0.0)]\n",
      "Analyzing 210 of 523: https://wa.me/?text=How%20Instagram%20Reel%20can%20really%20grow%20your%20brand%20%F0%9F%A4%B3%20https://fampay.in/blog/how-instagram-reel-can-really-grow-your-brand/\n",
      "Page size: 165.357421875 KB\n",
      "Resource sizes: [('https://static.whatsapp.net/rsrc.php/v3/yq/r/mdQNdcFMi0p.png', 28.833984375), ('https://static.whatsapp.net/rsrc.php/v3/y7/r/DSxOAUB0raA.png', 28.7744140625), ('https://static.whatsapp.net/rsrc.php/v3/yJ/r/Qhrnh5evyPV.png', 1.193359375), ('https://static.whatsapp.net/rsrc.php/v3/yJ/r/Qhrnh5evyPV.png', 1.193359375), ('https://static.whatsapp.net/rsrc.php/v3/y6/r/TcHIu29ealS.js?_nc_x=Ij3Wp8lg5Kz', 104.8037109375), ('https://static.whatsapp.net/rsrc.php/v3/yO/l/0,cross/zkmfh5mjXuB.css?_nc_x=Ij3Wp8lg5Kz', 1.318359375), ('https://static.whatsapp.net/rsrc.php/v3/yi/l/0,cross/TngFvC3f-F7.css?_nc_x=Ij3Wp8lg5Kz', 14.91796875), ('https://static.whatsapp.net/rsrc.php/v3/yX/l/0,cross/90x4oEKKKqw.css?_nc_x=Ij3Wp8lg5Kz', 9.01953125)]\n",
      "Analyzing 211 of 523: https://www.facebook.com/sharer/sharer.php?u=https://fampay.in/blog/how-instagram-reel-can-really-grow-your-brand/\n",
      "Page size: 17.041015625 KB\n",
      "Resource sizes: [('https://static.xx.fbcdn.net/rsrc.php/v3/y8/r/k97pj8-or6s.png', 0.7900390625), ('https://facebook.com/security/hsts-pixel.gif?c=3.2', 0.0)]\n",
      "Analyzing 212 of 523: https://twitter.com/intent/tweet?text=How%20Instagram%20Reel%20can%20really%20grow%20your%20brand%20%F0%9F%A4%B3&url=https://fampay.in/blog/how-instagram-reel-can-really-grow-your-brand/\n",
      "Page size: 168.0166015625 KB\n",
      "Resource sizes: [('https://abs.twimg.com/errors/logo46x38.png', 0.9912109375), ('https://abs.twimg.com/responsive-web/client-web-legacy/shared~bundle.Compose~bundle.RichTextCompose.a2fa6b8a.js', 52.9111328125), ('https://abs.twimg.com/responsive-web/client-web-legacy/polyfills.d5242a4a.js', 17.72265625), ('https://abs.twimg.com/responsive-web/client-web-legacy/vendor.3cb7d15a.js', 218.7216796875), ('https://abs.twimg.com/responsive-web/client-web-legacy/i18n/en.213585ba.js', 114.365234375), ('https://abs.twimg.com/responsive-web/client-web-legacy/main.79ac570a.js', 408.1171875)]\n",
      "Analyzing 213 of 523: https://famapp.in/blog/config-variables-changing-system-behaviour-live-in-production/\n",
      "Page size: 44.630859375 KB\n",
      "Resource sizes: [('https://fampay.in/blog/content/images/2020/11/logofilewhite-11-2.png', 0.130859375), ('https://fampay.in/blog/content/images/2020/11/logofilewhite-11-2.png', 0.130859375), ('https://fampay.in/blog/content/images/2021/07/image-1.png', 0.130859375), ('https://fampay.in/blog/content/images/2021/07/image-2.png', 0.130859375), ('/blog/assets/images/success.png?v=22080dfa02', 0.0), ('https://cdn.jsdelivr.net/ghost/portal@~2.30/umd/portal.min.js', 170.8154296875), ('https://cdn.jsdelivr.net/ghost/sodo-search@~1.1/umd/sodo-search.min.js', 95.5751953125), ('/blog/public/cards.min.js?v=22080dfa02', 0.0), ('/blog/public/member-attribution.min.js?v=22080dfa02', 0.0), ('https://www.googletagmanager.com/gtag/js?id=UA-147725948-3', 0.0), ('https://polyfill.io/v3/polyfill.min.js?features=IntersectionObserver%2CPromise%2CArray.prototype.includes%2CString.prototype.endsWith%2CString.prototype.startsWith%2CObject.assign%2CNodeList.prototype.forEach', 14.1123046875), ('/blog/assets/js/vendor/content-api.min.js?v=22080dfa02', 0.0), ('/blog/assets/js/manifest.js?v=22080dfa02', 0.0), ('/blog/assets/js/vendor.js?v=22080dfa02', 0.0), ('/blog/assets/js/app.js?v=22080dfa02', 0.0), ('/blog/assets/js/post.js?v=22080dfa02', 0.0), ('/blog/assets/css/app.css?v=22080dfa02', 0.0), ('/blog/public/cards.min.css?v=22080dfa02', 0.0)]\n",
      "Analyzing 214 of 523: https://wa.me/?text=Config%20Variables%3A%20Changing%20System%20Behaviour%20Live%20In%20Production%20%F0%9F%91%A8%E2%80%8D%F0%9F%92%BB%20https://fampay.in/blog/config-variables-changing-system-behaviour-live-in-production/\n",
      "Page size: 165.5283203125 KB\n",
      "Resource sizes: [('https://static.whatsapp.net/rsrc.php/v3/yq/r/mdQNdcFMi0p.png', 28.833984375), ('https://static.whatsapp.net/rsrc.php/v3/y7/r/DSxOAUB0raA.png', 28.7744140625), ('https://static.whatsapp.net/rsrc.php/v3/yJ/r/Qhrnh5evyPV.png', 1.193359375), ('https://static.whatsapp.net/rsrc.php/v3/yJ/r/Qhrnh5evyPV.png', 1.193359375), ('https://static.whatsapp.net/rsrc.php/v3/y6/r/TcHIu29ealS.js?_nc_x=Ij3Wp8lg5Kz', 104.8037109375), ('https://static.whatsapp.net/rsrc.php/v3/yO/l/0,cross/zkmfh5mjXuB.css?_nc_x=Ij3Wp8lg5Kz', 1.318359375), ('https://static.whatsapp.net/rsrc.php/v3/yi/l/0,cross/TngFvC3f-F7.css?_nc_x=Ij3Wp8lg5Kz', 14.91796875), ('https://static.whatsapp.net/rsrc.php/v3/yX/l/0,cross/90x4oEKKKqw.css?_nc_x=Ij3Wp8lg5Kz', 9.01953125)]\n",
      "Analyzing 215 of 523: https://www.facebook.com/sharer/sharer.php?u=https://fampay.in/blog/config-variables-changing-system-behaviour-live-in-production/\n",
      "Page size: 17.150390625 KB\n",
      "Resource sizes: [('https://static.xx.fbcdn.net/rsrc.php/v3/y8/r/k97pj8-or6s.png', 0.7900390625), ('https://facebook.com/security/hsts-pixel.gif?c=3.2', 0.0)]\n",
      "Analyzing 216 of 523: https://twitter.com/intent/tweet?text=Config%20Variables%3A%20Changing%20System%20Behaviour%20Live%20In%20Production%20%F0%9F%91%A8%E2%80%8D%F0%9F%92%BB&url=https://fampay.in/blog/config-variables-changing-system-behaviour-live-in-production/\n",
      "Page size: 167.810546875 KB\n",
      "Resource sizes: [('https://abs.twimg.com/errors/logo46x38.png', 0.9912109375), ('https://abs.twimg.com/responsive-web/client-web-legacy/shared~bundle.Compose~bundle.RichTextCompose.a2fa6b8a.js', 52.9111328125), ('https://abs.twimg.com/responsive-web/client-web-legacy/polyfills.d5242a4a.js', 17.72265625), ('https://abs.twimg.com/responsive-web/client-web-legacy/vendor.3cb7d15a.js', 218.7216796875), ('https://abs.twimg.com/responsive-web/client-web-legacy/i18n/en.213585ba.js', 114.365234375), ('https://abs.twimg.com/responsive-web/client-web-legacy/main.79ac570a.js', 408.1171875)]\n",
      "Analyzing 217 of 523: https://famapp.in/blog/a-marketers-guide-to-moment-marketing/\n",
      "Page size: 44.609375 KB\n",
      "Resource sizes: [('https://fampay.in/blog/content/images/2020/11/logofilewhite-11-2.png', 0.130859375), ('https://fampay.in/blog/content/images/2020/11/logofilewhite-11-2.png', 0.130859375), ('https://fampay.in/blog/content/images/2021/06/Untitled.png', 0.130859375), ('https://fampay.in/blog/content/images/2021/06/image.png', 0.130859375), ('https://fampay.in/blog/content/images/2021/06/image-1.png', 0.130859375), ('https://fampay.in/blog/content/images/2021/06/image-7.png', 0.130859375), ('https://fampay.in/blog/content/images/2021/06/image-3.png', 0.130859375), ('https://fampay.in/blog/content/images/2021/06/image-5.png', 0.130859375), ('https://fampay.in/blog/content/images/2021/06/image-4.png', 0.130859375), ('https://fampay.in/blog/content/images/2021/06/image-6.png', 0.130859375), ('https://fampay.in/blog/content/images/2021/06/Untitled-design.jpg', 0.130859375), ('/blog/assets/images/success.png?v=22080dfa02', 0.0), ('https://cdn.jsdelivr.net/ghost/portal@~2.30/umd/portal.min.js', 170.8154296875), ('https://cdn.jsdelivr.net/ghost/sodo-search@~1.1/umd/sodo-search.min.js', 95.5751953125), ('/blog/public/cards.min.js?v=22080dfa02', 0.0), ('/blog/public/member-attribution.min.js?v=22080dfa02', 0.0), ('https://www.googletagmanager.com/gtag/js?id=UA-147725948-3', 0.0), ('https://polyfill.io/v3/polyfill.min.js?features=IntersectionObserver%2CPromise%2CArray.prototype.includes%2CString.prototype.endsWith%2CString.prototype.startsWith%2CObject.assign%2CNodeList.prototype.forEach', 14.1123046875), ('/blog/assets/js/vendor/content-api.min.js?v=22080dfa02', 0.0), ('/blog/assets/js/manifest.js?v=22080dfa02', 0.0), ('/blog/assets/js/vendor.js?v=22080dfa02', 0.0), ('/blog/assets/js/app.js?v=22080dfa02', 0.0), ('/blog/assets/js/post.js?v=22080dfa02', 0.0), ('/blog/assets/css/app.css?v=22080dfa02', 0.0), ('/blog/public/cards.min.css?v=22080dfa02', 0.0)]\n",
      "Analyzing 218 of 523: https://wa.me/?text=A%20marketers%20guide%20to%20moment%20marketing%20%E2%8F%B0%20https://fampay.in/blog/a-marketers-guide-to-moment-marketing/\n",
      "Page size: 165.2763671875 KB\n",
      "Resource sizes: [('https://static.whatsapp.net/rsrc.php/v3/yq/r/mdQNdcFMi0p.png', 28.833984375), ('https://static.whatsapp.net/rsrc.php/v3/y7/r/DSxOAUB0raA.png', 28.7744140625), ('https://static.whatsapp.net/rsrc.php/v3/yJ/r/Qhrnh5evyPV.png', 1.193359375), ('https://static.whatsapp.net/rsrc.php/v3/yJ/r/Qhrnh5evyPV.png', 1.193359375), ('https://static.whatsapp.net/rsrc.php/v3/y6/r/TcHIu29ealS.js?_nc_x=Ij3Wp8lg5Kz', 104.8037109375), ('https://static.whatsapp.net/rsrc.php/v3/yO/l/0,cross/zkmfh5mjXuB.css?_nc_x=Ij3Wp8lg5Kz', 1.318359375), ('https://static.whatsapp.net/rsrc.php/v3/yi/l/0,cross/TngFvC3f-F7.css?_nc_x=Ij3Wp8lg5Kz', 14.91796875), ('https://static.whatsapp.net/rsrc.php/v3/yX/l/0,cross/90x4oEKKKqw.css?_nc_x=Ij3Wp8lg5Kz', 9.01953125)]\n",
      "Analyzing 219 of 523: https://www.facebook.com/sharer/sharer.php?u=https://fampay.in/blog/a-marketers-guide-to-moment-marketing/\n",
      "Page size: 16.986328125 KB\n",
      "Resource sizes: [('https://static.xx.fbcdn.net/rsrc.php/v3/y8/r/k97pj8-or6s.png', 0.7900390625), ('https://facebook.com/security/hsts-pixel.gif?c=3.2', 0.0)]\n",
      "Analyzing 220 of 523: https://twitter.com/intent/tweet?text=A%20marketers%20guide%20to%20moment%20marketing%20%E2%8F%B0&url=https://fampay.in/blog/a-marketers-guide-to-moment-marketing/\n",
      "Page size: 167.810546875 KB\n",
      "Resource sizes: [('https://abs.twimg.com/errors/logo46x38.png', 0.9912109375), ('https://abs.twimg.com/responsive-web/client-web-legacy/shared~bundle.Compose~bundle.RichTextCompose.a2fa6b8a.js', 52.9111328125), ('https://abs.twimg.com/responsive-web/client-web-legacy/polyfills.d5242a4a.js', 17.72265625), ('https://abs.twimg.com/responsive-web/client-web-legacy/vendor.3cb7d15a.js', 218.7216796875), ('https://abs.twimg.com/responsive-web/client-web-legacy/i18n/en.213585ba.js', 114.365234375), ('https://abs.twimg.com/responsive-web/client-web-legacy/main.79ac570a.js', 408.1171875)]\n",
      "Analyzing 221 of 523: https://www.linkedin.com/company/fampay/mycompany/\n",
      "Page size: 1.494140625 KB\n",
      "Resource sizes: []\n",
      "Analyzing 222 of 523: https://famapp.in/blog/the-story-behind-fampays-tech-stack/\n",
      "Page size: 56.376953125 KB\n",
      "Resource sizes: [('https://fampay.in/blog/content/images/2020/11/logofilewhite-11-2.png', 0.130859375), ('https://fampay.in/blog/content/images/2020/11/logofilewhite-11-2.png', 0.130859375), ('https://fampay.in/blog/content/images/2021/06/Image-from-iOS--4-.png', 0.130859375), ('https://fampay.in/blog/content/images/2021/06/Image-from-iOS--10-.png', 0.130859375), ('/blog/assets/images/success.png?v=22080dfa02', 0.0), ('https://cdn.jsdelivr.net/ghost/portal@~2.30/umd/portal.min.js', 170.8154296875), ('https://cdn.jsdelivr.net/ghost/sodo-search@~1.1/umd/sodo-search.min.js', 95.5751953125), ('/blog/public/cards.min.js?v=22080dfa02', 0.0), ('/blog/public/member-attribution.min.js?v=22080dfa02', 0.0), ('https://www.googletagmanager.com/gtag/js?id=UA-147725948-3', 0.0), ('https://polyfill.io/v3/polyfill.min.js?features=IntersectionObserver%2CPromise%2CArray.prototype.includes%2CString.prototype.endsWith%2CString.prototype.startsWith%2CObject.assign%2CNodeList.prototype.forEach', 14.1123046875), ('/blog/assets/js/vendor/content-api.min.js?v=22080dfa02', 0.0), ('/blog/assets/js/manifest.js?v=22080dfa02', 0.0), ('/blog/assets/js/vendor.js?v=22080dfa02', 0.0), ('/blog/assets/js/app.js?v=22080dfa02', 0.0), ('/blog/assets/js/post.js?v=22080dfa02', 0.0), ('/blog/assets/css/app.css?v=22080dfa02', 0.0), ('/blog/public/cards.min.css?v=22080dfa02', 0.0)]\n",
      "Analyzing 223 of 523: https://wa.me/?text=The%20Story%20Behind%20FamPay's%20Tech%20Stack%F0%9F%9A%80%20https://fampay.in/blog/the-story-behind-fampays-tech-stack/\n",
      "Page size: 165.27734375 KB\n",
      "Resource sizes: [('https://static.whatsapp.net/rsrc.php/v3/yq/r/mdQNdcFMi0p.png', 28.833984375), ('https://static.whatsapp.net/rsrc.php/v3/y7/r/DSxOAUB0raA.png', 28.7744140625), ('https://static.whatsapp.net/rsrc.php/v3/yJ/r/Qhrnh5evyPV.png', 1.193359375), ('https://static.whatsapp.net/rsrc.php/v3/yJ/r/Qhrnh5evyPV.png', 1.193359375), ('https://static.whatsapp.net/rsrc.php/v3/y6/r/TcHIu29ealS.js?_nc_x=Ij3Wp8lg5Kz', 104.8037109375), ('https://static.whatsapp.net/rsrc.php/v3/yO/l/0,cross/zkmfh5mjXuB.css?_nc_x=Ij3Wp8lg5Kz', 1.318359375), ('https://static.whatsapp.net/rsrc.php/v3/yi/l/0,cross/TngFvC3f-F7.css?_nc_x=Ij3Wp8lg5Kz', 14.91796875), ('https://static.whatsapp.net/rsrc.php/v3/yX/l/0,cross/90x4oEKKKqw.css?_nc_x=Ij3Wp8lg5Kz', 9.01953125)]\n",
      "Analyzing 224 of 523: https://www.facebook.com/sharer/sharer.php?u=https://fampay.in/blog/the-story-behind-fampays-tech-stack/\n",
      "Page size: 16.9775390625 KB\n",
      "Resource sizes: [('https://static.xx.fbcdn.net/rsrc.php/v3/y8/r/k97pj8-or6s.png', 0.7900390625), ('https://facebook.com/security/hsts-pixel.gif?c=3.2', 0.0)]\n",
      "Analyzing 225 of 523: https://twitter.com/intent/tweet?text=The%20Story%20Behind%20FamPay's%20Tech%20Stack%F0%9F%9A%80&url=https://fampay.in/blog/the-story-behind-fampays-tech-stack/\n",
      "Page size: 167.810546875 KB\n",
      "Resource sizes: [('https://abs.twimg.com/errors/logo46x38.png', 0.9912109375), ('https://abs.twimg.com/responsive-web/client-web-legacy/shared~bundle.Compose~bundle.RichTextCompose.a2fa6b8a.js', 52.9111328125), ('https://abs.twimg.com/responsive-web/client-web-legacy/polyfills.d5242a4a.js', 17.72265625), ('https://abs.twimg.com/responsive-web/client-web-legacy/vendor.3cb7d15a.js', 218.7216796875), ('https://abs.twimg.com/responsive-web/client-web-legacy/i18n/en.213585ba.js', 114.365234375), ('https://abs.twimg.com/responsive-web/client-web-legacy/main.79ac570a.js', 408.1171875)]\n",
      "Analyzing 226 of 523: https://famapp.in/blog/tag/famsays/page/2/\n",
      "Page size: 35.306640625 KB\n",
      "Resource sizes: [('https://fampay.in/blog/content/images/2020/11/logofilewhite-11-2.png', 0.130859375), ('https://fampay.in/blog/content/images/2020/11/logofilewhite-11-2.png', 0.130859375), ('https://cdn.jsdelivr.net/ghost/portal@~2.30/umd/portal.min.js', 170.8154296875), ('https://cdn.jsdelivr.net/ghost/sodo-search@~1.1/umd/sodo-search.min.js', 95.5751953125), ('/blog/public/cards.min.js?v=22080dfa02', 0.0), ('/blog/public/member-attribution.min.js?v=22080dfa02', 0.0), ('https://www.googletagmanager.com/gtag/js?id=UA-147725948-3', 0.0), ('https://polyfill.io/v3/polyfill.min.js?features=IntersectionObserver%2CPromise%2CArray.prototype.includes%2CString.prototype.endsWith%2CString.prototype.startsWith%2CObject.assign%2CNodeList.prototype.forEach', 14.1123046875), ('/blog/assets/js/vendor/content-api.min.js?v=22080dfa02', 0.0), ('/blog/assets/js/manifest.js?v=22080dfa02', 0.0), ('/blog/assets/js/vendor.js?v=22080dfa02', 0.0), ('/blog/assets/js/app.js?v=22080dfa02', 0.0), ('/blog/assets/css/app.css?v=22080dfa02', 0.0), ('/blog/public/cards.min.css?v=22080dfa02', 0.0)]\n",
      "Analyzing 227 of 523: https://famapp.in/blog/getting-your-generations-right-millennials-v-s-genz/\n",
      "Page size: 43.10546875 KB\n",
      "Resource sizes: [('https://fampay.in/blog/content/images/2020/11/logofilewhite-11-2.png', 0.130859375), ('https://fampay.in/blog/content/images/2020/11/logofilewhite-11-2.png', 0.130859375), ('https://fampay.in/blog/content/images/2021/04/image.png', 0.130859375), ('https://fampay.in/blog/content/images/2021/04/image-9.png', 0.130859375), ('https://fampay.in/blog/content/images/2021/04/image-3.png', 0.130859375), ('https://fampay.in/blog/content/images/2021/04/image-4.png', 0.130859375), ('https://fampay.in/blog/content/images/2021/04/image-5.png', 0.130859375), ('https://fampay.in/blog/content/images/2021/04/image-1.png', 0.130859375), ('https://fampay.in/blog/content/images/2021/04/image-8.png', 0.130859375), ('https://fampay.in/blog/content/images/2021/04/image-7.png', 0.130859375), ('/blog/assets/images/success.png?v=22080dfa02', 0.0), ('https://cdn.jsdelivr.net/ghost/portal@~2.30/umd/portal.min.js', 170.8154296875), ('https://cdn.jsdelivr.net/ghost/sodo-search@~1.1/umd/sodo-search.min.js', 95.5751953125), ('/blog/public/cards.min.js?v=22080dfa02', 0.0), ('/blog/public/member-attribution.min.js?v=22080dfa02', 0.0), ('https://www.googletagmanager.com/gtag/js?id=UA-147725948-3', 0.0), ('https://polyfill.io/v3/polyfill.min.js?features=IntersectionObserver%2CPromise%2CArray.prototype.includes%2CString.prototype.endsWith%2CString.prototype.startsWith%2CObject.assign%2CNodeList.prototype.forEach', 14.1123046875), ('/blog/assets/js/vendor/content-api.min.js?v=22080dfa02', 0.0), ('/blog/assets/js/manifest.js?v=22080dfa02', 0.0), ('/blog/assets/js/vendor.js?v=22080dfa02', 0.0), ('/blog/assets/js/app.js?v=22080dfa02', 0.0), ('/blog/assets/js/post.js?v=22080dfa02', 0.0), ('/blog/assets/css/app.css?v=22080dfa02', 0.0), ('/blog/public/cards.min.css?v=22080dfa02', 0.0)]\n",
      "Analyzing 228 of 523: https://wa.me/?text=Getting%20your%20Generations%20Right%2C%20Millennials%20V%2FS%20GenZ!%20%F0%9F%A4%BC%E2%80%8D%E2%99%82%EF%B8%8F%20https://fampay.in/blog/getting-your-generations-right-millennials-v-s-genz/\n",
      "Page size: 165.458984375 KB\n",
      "Resource sizes: [('https://static.whatsapp.net/rsrc.php/v3/yq/r/mdQNdcFMi0p.png', 28.833984375), ('https://static.whatsapp.net/rsrc.php/v3/y7/r/DSxOAUB0raA.png', 28.7744140625), ('https://static.whatsapp.net/rsrc.php/v3/yJ/r/Qhrnh5evyPV.png', 1.193359375), ('https://static.whatsapp.net/rsrc.php/v3/yJ/r/Qhrnh5evyPV.png', 1.193359375), ('https://static.whatsapp.net/rsrc.php/v3/y6/r/TcHIu29ealS.js?_nc_x=Ij3Wp8lg5Kz', 104.8037109375), ('https://static.whatsapp.net/rsrc.php/v3/yO/l/0,cross/zkmfh5mjXuB.css?_nc_x=Ij3Wp8lg5Kz', 1.318359375), ('https://static.whatsapp.net/rsrc.php/v3/yi/l/0,cross/TngFvC3f-F7.css?_nc_x=Ij3Wp8lg5Kz', 14.91796875), ('https://static.whatsapp.net/rsrc.php/v3/yX/l/0,cross/90x4oEKKKqw.css?_nc_x=Ij3Wp8lg5Kz', 9.01953125)]\n",
      "Analyzing 229 of 523: https://www.facebook.com/sharer/sharer.php?u=https://fampay.in/blog/getting-your-generations-right-millennials-v-s-genz/\n",
      "Page size: 17.08203125 KB\n",
      "Resource sizes: [('https://static.xx.fbcdn.net/rsrc.php/v3/y8/r/k97pj8-or6s.png', 0.7900390625), ('https://facebook.com/security/hsts-pixel.gif?c=3.2', 0.0)]\n",
      "Analyzing 230 of 523: https://twitter.com/intent/tweet?text=Getting%20your%20Generations%20Right%2C%20Millennials%20V%2FS%20GenZ!%20%F0%9F%A4%BC%E2%80%8D%E2%99%82%EF%B8%8F&url=https://fampay.in/blog/getting-your-generations-right-millennials-v-s-genz/\n",
      "Page size: 167.810546875 KB\n",
      "Resource sizes: [('https://abs.twimg.com/errors/logo46x38.png', 0.9912109375), ('https://abs.twimg.com/responsive-web/client-web-legacy/shared~bundle.Compose~bundle.RichTextCompose.a2fa6b8a.js', 52.9111328125), ('https://abs.twimg.com/responsive-web/client-web-legacy/polyfills.d5242a4a.js', 17.72265625), ('https://abs.twimg.com/responsive-web/client-web-legacy/vendor.3cb7d15a.js', 218.7216796875), ('https://abs.twimg.com/responsive-web/client-web-legacy/i18n/en.213585ba.js', 114.365234375), ('https://abs.twimg.com/responsive-web/client-web-legacy/main.79ac570a.js', 408.1171875)]\n",
      "Analyzing 231 of 523: https://famapp.in/blog/when-building-for-genzs-build-it-on-discord/\n",
      "Page size: 42.5419921875 KB\n",
      "Resource sizes: [('https://fampay.in/blog/content/images/2020/11/logofilewhite-11-2.png', 0.130859375), ('https://fampay.in/blog/content/images/2020/11/logofilewhite-11-2.png', 0.130859375), ('https://fampay.in/blog/content/images/2021/03/image.png', 0.130859375), ('https://fampay.in/blog/content/images/2021/03/2021-03-23--3-.png', 0.130859375), ('https://fampay.in/blog/content/images/2021/03/2021-03-23--5--2.png', 0.130859375), ('https://fampay.in/blog/content/images/2021/03/2021-03-23--4-.png', 0.130859375), ('/blog/assets/images/success.png?v=22080dfa02', 0.0), ('https://cdn.jsdelivr.net/ghost/portal@~2.30/umd/portal.min.js', 170.8154296875), ('https://cdn.jsdelivr.net/ghost/sodo-search@~1.1/umd/sodo-search.min.js', 95.5751953125), ('/blog/public/cards.min.js?v=22080dfa02', 0.0), ('/blog/public/member-attribution.min.js?v=22080dfa02', 0.0), ('https://www.googletagmanager.com/gtag/js?id=UA-147725948-3', 0.0), ('https://polyfill.io/v3/polyfill.min.js?features=IntersectionObserver%2CPromise%2CArray.prototype.includes%2CString.prototype.endsWith%2CString.prototype.startsWith%2CObject.assign%2CNodeList.prototype.forEach', 14.1123046875), ('/blog/assets/js/vendor/content-api.min.js?v=22080dfa02', 0.0), ('/blog/assets/js/manifest.js?v=22080dfa02', 0.0), ('/blog/assets/js/vendor.js?v=22080dfa02', 0.0), ('/blog/assets/js/app.js?v=22080dfa02', 0.0), ('/blog/assets/js/post.js?v=22080dfa02', 0.0), ('/blog/assets/css/app.css?v=22080dfa02', 0.0), ('/blog/public/cards.min.css?v=22080dfa02', 0.0)]\n",
      "Analyzing 232 of 523: https://wa.me/?text=When%20building%20for%20GenZs%2C%20build%20it%20on%20Discord%20%F0%9F%91%BE%20https://fampay.in/blog/when-building-for-genzs-build-it-on-discord/\n",
      "Page size: 165.3525390625 KB\n",
      "Resource sizes: [('https://static.whatsapp.net/rsrc.php/v3/yq/r/mdQNdcFMi0p.png', 28.833984375), ('https://static.whatsapp.net/rsrc.php/v3/y7/r/DSxOAUB0raA.png', 28.7744140625), ('https://static.whatsapp.net/rsrc.php/v3/yJ/r/Qhrnh5evyPV.png', 1.193359375), ('https://static.whatsapp.net/rsrc.php/v3/yJ/r/Qhrnh5evyPV.png', 1.193359375), ('https://static.whatsapp.net/rsrc.php/v3/y6/r/TcHIu29ealS.js?_nc_x=Ij3Wp8lg5Kz', 104.8037109375), ('https://static.whatsapp.net/rsrc.php/v3/yO/l/0,cross/zkmfh5mjXuB.css?_nc_x=Ij3Wp8lg5Kz', 1.318359375), ('https://static.whatsapp.net/rsrc.php/v3/yi/l/0,cross/TngFvC3f-F7.css?_nc_x=Ij3Wp8lg5Kz', 14.91796875), ('https://static.whatsapp.net/rsrc.php/v3/yX/l/0,cross/90x4oEKKKqw.css?_nc_x=Ij3Wp8lg5Kz', 9.01953125)]\n",
      "Analyzing 233 of 523: https://www.facebook.com/sharer/sharer.php?u=https://fampay.in/blog/when-building-for-genzs-build-it-on-discord/\n",
      "Page size: 17.02734375 KB\n",
      "Resource sizes: [('https://static.xx.fbcdn.net/rsrc.php/v3/y8/r/k97pj8-or6s.png', 0.7900390625), ('https://facebook.com/security/hsts-pixel.gif?c=3.2', 0.0)]\n",
      "Analyzing 234 of 523: https://twitter.com/intent/tweet?text=When%20building%20for%20GenZs%2C%20build%20it%20on%20Discord%20%F0%9F%91%BE&url=https://fampay.in/blog/when-building-for-genzs-build-it-on-discord/\n",
      "Page size: 167.810546875 KB\n",
      "Resource sizes: [('https://abs.twimg.com/errors/logo46x38.png', 0.9912109375), ('https://abs.twimg.com/responsive-web/client-web-legacy/shared~bundle.Compose~bundle.RichTextCompose.a2fa6b8a.js', 52.9111328125), ('https://abs.twimg.com/responsive-web/client-web-legacy/polyfills.d5242a4a.js', 17.72265625), ('https://abs.twimg.com/responsive-web/client-web-legacy/vendor.3cb7d15a.js', 218.7216796875), ('https://abs.twimg.com/responsive-web/client-web-legacy/i18n/en.213585ba.js', 114.365234375), ('https://abs.twimg.com/responsive-web/client-web-legacy/main.79ac570a.js', 408.1171875)]\n",
      "Analyzing 235 of 523: https://famapp.in/blog/club-teens-one-stop-online-community/\n",
      "Page size: 41.884765625 KB\n",
      "Resource sizes: [('https://fampay.in/blog/content/images/2020/11/logofilewhite-11-2.png', 0.130859375), ('https://fampay.in/blog/content/images/2020/11/logofilewhite-11-2.png', 0.130859375), ('https://fampay.in/blog/content/images/2021/02/image-1.png', 0.130859375), ('https://fampay.in/blog/content/images/2021/02/image-3.png', 0.130859375), ('https://fampay.in/blog/content/images/2021/02/image-2.png', 0.130859375), ('https://fampay.in/blog/content/images/2021/02/image-4.png', 0.130859375), ('https://fampay.in/blog/content/images/2021/02/image.png', 0.130859375), ('/blog/assets/images/success.png?v=22080dfa02', 0.0), ('https://cdn.jsdelivr.net/ghost/portal@~2.30/umd/portal.min.js', 170.8154296875), ('https://cdn.jsdelivr.net/ghost/sodo-search@~1.1/umd/sodo-search.min.js', 95.5751953125), ('/blog/public/cards.min.js?v=22080dfa02', 0.0), ('/blog/public/member-attribution.min.js?v=22080dfa02', 0.0), ('https://www.googletagmanager.com/gtag/js?id=UA-147725948-3', 0.0), ('https://polyfill.io/v3/polyfill.min.js?features=IntersectionObserver%2CPromise%2CArray.prototype.includes%2CString.prototype.endsWith%2CString.prototype.startsWith%2CObject.assign%2CNodeList.prototype.forEach', 14.1123046875), ('/blog/assets/js/vendor/content-api.min.js?v=22080dfa02', 0.0), ('/blog/assets/js/manifest.js?v=22080dfa02', 0.0), ('/blog/assets/js/vendor.js?v=22080dfa02', 0.0), ('/blog/assets/js/app.js?v=22080dfa02', 0.0), ('/blog/assets/js/post.js?v=22080dfa02', 0.0), ('/blog/assets/css/app.css?v=22080dfa02', 0.0), ('/blog/public/cards.min.css?v=22080dfa02', 0.0)]\n",
      "Analyzing 236 of 523: https://wa.me/?text=Club%3A%20FamPay's%20in-app%20exclusive%20community!%20%F0%9F%A4%A9%20https://fampay.in/blog/club-teens-one-stop-online-community/\n",
      "Page size: 165.3388671875 KB\n",
      "Resource sizes: [('https://static.whatsapp.net/rsrc.php/v3/yq/r/mdQNdcFMi0p.png', 28.833984375), ('https://static.whatsapp.net/rsrc.php/v3/y7/r/DSxOAUB0raA.png', 28.7744140625), ('https://static.whatsapp.net/rsrc.php/v3/yJ/r/Qhrnh5evyPV.png', 1.193359375), ('https://static.whatsapp.net/rsrc.php/v3/yJ/r/Qhrnh5evyPV.png', 1.193359375), ('https://static.whatsapp.net/rsrc.php/v3/y6/r/TcHIu29ealS.js?_nc_x=Ij3Wp8lg5Kz', 104.8037109375), ('https://static.whatsapp.net/rsrc.php/v3/yO/l/0,cross/zkmfh5mjXuB.css?_nc_x=Ij3Wp8lg5Kz', 1.318359375), ('https://static.whatsapp.net/rsrc.php/v3/yi/l/0,cross/TngFvC3f-F7.css?_nc_x=Ij3Wp8lg5Kz', 14.91796875), ('https://static.whatsapp.net/rsrc.php/v3/yX/l/0,cross/90x4oEKKKqw.css?_nc_x=Ij3Wp8lg5Kz', 9.01953125)]\n",
      "Analyzing 237 of 523: https://www.facebook.com/sharer/sharer.php?u=https://fampay.in/blog/club-teens-one-stop-online-community/\n",
      "Page size: 16.9794921875 KB\n",
      "Resource sizes: [('https://static.xx.fbcdn.net/rsrc.php/v3/y8/r/k97pj8-or6s.png', 0.7900390625), ('https://facebook.com/security/hsts-pixel.gif?c=3.2', 0.0)]\n",
      "Analyzing 238 of 523: https://twitter.com/intent/tweet?text=Club%3A%20FamPay's%20in-app%20exclusive%20community!%20%F0%9F%A4%A9&url=https://fampay.in/blog/club-teens-one-stop-online-community/\n",
      "Page size: 167.810546875 KB\n",
      "Resource sizes: [('https://abs.twimg.com/errors/logo46x38.png', 0.9912109375), ('https://abs.twimg.com/responsive-web/client-web-legacy/shared~bundle.Compose~bundle.RichTextCompose.a2fa6b8a.js', 52.9111328125), ('https://abs.twimg.com/responsive-web/client-web-legacy/polyfills.d5242a4a.js', 17.72265625), ('https://abs.twimg.com/responsive-web/client-web-legacy/vendor.3cb7d15a.js', 218.7216796875), ('https://abs.twimg.com/responsive-web/client-web-legacy/i18n/en.213585ba.js', 114.365234375), ('https://abs.twimg.com/responsive-web/client-web-legacy/main.79ac570a.js', 408.1171875)]\n",
      "Analyzing 239 of 523: https://famapp.in/blog/effectively-harnessing-motion-design-for-genzs/\n",
      "Page size: 45.0908203125 KB\n",
      "Resource sizes: [('https://fampay.in/blog/content/images/2020/11/logofilewhite-11-2.png', 0.130859375), ('https://fampay.in/blog/content/images/2020/11/logofilewhite-11-2.png', 0.130859375), ('https://fampay.in/blog/content/images/2021/02/GIF-10.gif', 0.130859375), ('https://fampay.in/blog/content/images/2021/02/1-1.jpg', 0.130859375), ('https://fampay.in/blog/content/images/2021/02/2.jpg', 0.130859375), ('https://fampay.in/blog/content/images/2021/02/GIF-1.gif', 0.130859375), ('https://fampay.in/blog/content/images/2021/02/GIF-2.gif', 0.130859375), ('https://fampay.in/blog/content/images/2021/02/GIF-6.gif', 0.130859375), ('https://fampay.in/blog/content/images/2021/02/GIF-4.gif', 0.130859375), ('https://fampay.in/blog/content/images/2021/02/GIF-7-B.gif', 0.130859375), ('https://fampay.in/blog/content/images/2021/02/GIF-5-B.gif', 0.130859375), ('https://fampay.in/blog/content/images/2021/02/GIF-8.gif', 0.130859375), ('https://fampay.in/blog/content/images/2021/02/GIF-9.gif', 0.130859375), ('/blog/assets/images/success.png?v=22080dfa02', 0.0), ('https://cdn.jsdelivr.net/ghost/portal@~2.30/umd/portal.min.js', 170.8154296875), ('https://cdn.jsdelivr.net/ghost/sodo-search@~1.1/umd/sodo-search.min.js', 95.5751953125), ('/blog/public/cards.min.js?v=22080dfa02', 0.0), ('/blog/public/member-attribution.min.js?v=22080dfa02', 0.0), ('https://www.googletagmanager.com/gtag/js?id=UA-147725948-3', 0.0), ('https://polyfill.io/v3/polyfill.min.js?features=IntersectionObserver%2CPromise%2CArray.prototype.includes%2CString.prototype.endsWith%2CString.prototype.startsWith%2CObject.assign%2CNodeList.prototype.forEach', 14.1123046875), ('/blog/assets/js/vendor/content-api.min.js?v=22080dfa02', 0.0), ('/blog/assets/js/manifest.js?v=22080dfa02', 0.0), ('/blog/assets/js/vendor.js?v=22080dfa02', 0.0), ('/blog/assets/js/app.js?v=22080dfa02', 0.0), ('/blog/assets/js/post.js?v=22080dfa02', 0.0), ('/blog/assets/css/app.css?v=22080dfa02', 0.0), ('/blog/public/cards.min.css?v=22080dfa02', 0.0)]\n",
      "Analyzing 240 of 523: https://wa.me/?text=Effectively%20harnessing%20Motion%20Design%20for%20GenZs%20https://fampay.in/blog/effectively-harnessing-motion-design-for-genzs/\n",
      "Page size: 165.306640625 KB\n",
      "Resource sizes: [('https://static.whatsapp.net/rsrc.php/v3/yq/r/mdQNdcFMi0p.png', 28.833984375), ('https://static.whatsapp.net/rsrc.php/v3/y7/r/DSxOAUB0raA.png', 28.7744140625), ('https://static.whatsapp.net/rsrc.php/v3/yJ/r/Qhrnh5evyPV.png', 1.193359375), ('https://static.whatsapp.net/rsrc.php/v3/yJ/r/Qhrnh5evyPV.png', 1.193359375), ('https://static.whatsapp.net/rsrc.php/v3/y6/r/TcHIu29ealS.js?_nc_x=Ij3Wp8lg5Kz', 104.8037109375), ('https://static.whatsapp.net/rsrc.php/v3/yO/l/0,cross/zkmfh5mjXuB.css?_nc_x=Ij3Wp8lg5Kz', 1.318359375), ('https://static.whatsapp.net/rsrc.php/v3/yi/l/0,cross/TngFvC3f-F7.css?_nc_x=Ij3Wp8lg5Kz', 14.91796875), ('https://static.whatsapp.net/rsrc.php/v3/yX/l/0,cross/90x4oEKKKqw.css?_nc_x=Ij3Wp8lg5Kz', 9.01953125)]\n",
      "Analyzing 241 of 523: https://www.facebook.com/sharer/sharer.php?u=https://fampay.in/blog/effectively-harnessing-motion-design-for-genzs/\n",
      "Page size: 17.0478515625 KB\n",
      "Resource sizes: [('https://static.xx.fbcdn.net/rsrc.php/v3/y8/r/k97pj8-or6s.png', 0.7900390625), ('https://facebook.com/security/hsts-pixel.gif?c=3.2', 0.0)]\n",
      "Analyzing 242 of 523: https://twitter.com/intent/tweet?text=Effectively%20harnessing%20Motion%20Design%20for%20GenZs&url=https://fampay.in/blog/effectively-harnessing-motion-design-for-genzs/\n",
      "Page size: 167.810546875 KB\n",
      "Resource sizes: [('https://abs.twimg.com/errors/logo46x38.png', 0.9912109375), ('https://abs.twimg.com/responsive-web/client-web-legacy/shared~bundle.Compose~bundle.RichTextCompose.a2fa6b8a.js', 52.9111328125), ('https://abs.twimg.com/responsive-web/client-web-legacy/polyfills.d5242a4a.js', 17.72265625), ('https://abs.twimg.com/responsive-web/client-web-legacy/vendor.3cb7d15a.js', 218.7216796875), ('https://abs.twimg.com/responsive-web/client-web-legacy/i18n/en.213585ba.js', 114.365234375), ('https://abs.twimg.com/responsive-web/client-web-legacy/main.79ac570a.js', 408.1171875)]\n",
      "Analyzing 243 of 523: https://famapp.in/blog/what-are-the-perks-of-using-fampay/\n",
      "Page size: 44.3310546875 KB\n",
      "Resource sizes: [('https://fampay.in/blog/content/images/2020/11/logofilewhite-11-2.png', 0.130859375), ('https://fampay.in/blog/content/images/2020/11/logofilewhite-11-2.png', 0.130859375), ('https://fampay.in/blog/favicon.png', 0.130859375), ('https://fampay.in/blog/content/images/2020/12/Flash-PIN.jpg', 0.130859375), ('https://fampay.in/blog/favicon.png', 0.130859375), ('https://fampay.in/blog/content/images/2020/06/savings-.jpg', 0.130859375), ('https://fampay.in/blog/favicon.png', 0.130859375), ('https://fampay.in/blog/content/images/2020/12/DO-s-and-Don-ts--2--2.png', 0.130859375), ('https://fampay.in/blog/favicon.png', 0.130859375), ('https://fampay.in/blog/content/images/2021/02/Kaavya--blog-1.png', 0.130859375), ('https://fampay.in/blog/favicon.png', 0.130859375), ('https://fampay.in/blog/content/images/2020/12/Shifa--blog1.png', 0.130859375), ('/blog/assets/images/success.png?v=22080dfa02', 0.0), ('https://cdn.jsdelivr.net/ghost/portal@~2.30/umd/portal.min.js', 170.8154296875), ('https://cdn.jsdelivr.net/ghost/sodo-search@~1.1/umd/sodo-search.min.js', 95.5751953125), ('/blog/public/cards.min.js?v=22080dfa02', 0.0), ('/blog/public/member-attribution.min.js?v=22080dfa02', 0.0), ('https://www.googletagmanager.com/gtag/js?id=UA-147725948-3', 0.0), ('https://polyfill.io/v3/polyfill.min.js?features=IntersectionObserver%2CPromise%2CArray.prototype.includes%2CString.prototype.endsWith%2CString.prototype.startsWith%2CObject.assign%2CNodeList.prototype.forEach', 14.1123046875), ('/blog/assets/js/vendor/content-api.min.js?v=22080dfa02', 0.0), ('/blog/assets/js/manifest.js?v=22080dfa02', 0.0), ('/blog/assets/js/vendor.js?v=22080dfa02', 0.0), ('/blog/assets/js/app.js?v=22080dfa02', 0.0), ('/blog/assets/js/post.js?v=22080dfa02', 0.0), ('/blog/assets/css/app.css?v=22080dfa02', 0.0), ('/blog/public/cards.min.css?v=22080dfa02', 0.0)]\n",
      "Analyzing 244 of 523: https://wa.me/?text=What%20are%20the%20perks%20of%20using%20FamPay%3F%20%F0%9F%98%8D%20https://fampay.in/blog/what-are-the-perks-of-using-fampay/\n",
      "Page size: 165.2646484375 KB\n",
      "Resource sizes: [('https://static.whatsapp.net/rsrc.php/v3/yq/r/mdQNdcFMi0p.png', 28.833984375), ('https://static.whatsapp.net/rsrc.php/v3/y7/r/DSxOAUB0raA.png', 28.7744140625), ('https://static.whatsapp.net/rsrc.php/v3/yJ/r/Qhrnh5evyPV.png', 1.193359375), ('https://static.whatsapp.net/rsrc.php/v3/yJ/r/Qhrnh5evyPV.png', 1.193359375), ('https://static.whatsapp.net/rsrc.php/v3/y6/r/TcHIu29ealS.js?_nc_x=Ij3Wp8lg5Kz', 104.8037109375), ('https://static.whatsapp.net/rsrc.php/v3/yO/l/0,cross/zkmfh5mjXuB.css?_nc_x=Ij3Wp8lg5Kz', 1.318359375), ('https://static.whatsapp.net/rsrc.php/v3/yi/l/0,cross/TngFvC3f-F7.css?_nc_x=Ij3Wp8lg5Kz', 14.91796875), ('https://static.whatsapp.net/rsrc.php/v3/yX/l/0,cross/90x4oEKKKqw.css?_nc_x=Ij3Wp8lg5Kz', 9.01953125)]\n",
      "Analyzing 245 of 523: https://www.facebook.com/sharer/sharer.php?u=https://fampay.in/blog/what-are-the-perks-of-using-fampay/\n",
      "Page size: 16.9658203125 KB\n",
      "Resource sizes: [('https://static.xx.fbcdn.net/rsrc.php/v3/y8/r/k97pj8-or6s.png', 0.7900390625), ('https://facebook.com/security/hsts-pixel.gif?c=3.2', 0.0)]\n",
      "Analyzing 246 of 523: https://twitter.com/intent/tweet?text=What%20are%20the%20perks%20of%20using%20FamPay%3F%20%F0%9F%98%8D&url=https://fampay.in/blog/what-are-the-perks-of-using-fampay/\n",
      "Page size: 167.810546875 KB\n",
      "Resource sizes: [('https://abs.twimg.com/errors/logo46x38.png', 0.9912109375), ('https://abs.twimg.com/responsive-web/client-web-legacy/shared~bundle.Compose~bundle.RichTextCompose.a2fa6b8a.js', 52.9111328125), ('https://abs.twimg.com/responsive-web/client-web-legacy/polyfills.d5242a4a.js', 17.72265625), ('https://abs.twimg.com/responsive-web/client-web-legacy/vendor.3cb7d15a.js', 218.7216796875), ('https://abs.twimg.com/responsive-web/client-web-legacy/i18n/en.213585ba.js', 114.365234375), ('https://abs.twimg.com/responsive-web/client-web-legacy/main.79ac570a.js', 408.1171875)]\n",
      "Analyzing 247 of 523: https://fampay.in/blog/savings-for-teens-its-never-too-early-to-start/\n",
      "Page size: 54.9326171875 KB\n",
      "Resource sizes: [('https://fampay.in/blog/content/images/2020/11/logofilewhite-11-2.png', 0.130859375), ('https://fampay.in/blog/content/images/2020/11/logofilewhite-11-2.png', 0.130859375), ('https://fampay.in/blog/content/images/2020/06/image.png', 0.130859375), ('https://fampay.in/blog/content/images/2020/06/Animated-GIF-downsized.gif', 0.130859375), ('/blog/assets/images/success.png?v=22080dfa02', 0.130859375), ('https://cdn.jsdelivr.net/ghost/portal@~2.30/umd/portal.min.js', 170.8154296875), ('https://cdn.jsdelivr.net/ghost/sodo-search@~1.1/umd/sodo-search.min.js', 95.5751953125), ('/blog/public/cards.min.js?v=22080dfa02', 0.130859375), ('/blog/public/member-attribution.min.js?v=22080dfa02', 0.130859375), ('https://www.googletagmanager.com/gtag/js?id=UA-147725948-3', 0.0), ('//www.instagram.com/embed.js', 0.130859375), ('//www.instagram.com/embed.js', 0.130859375), ('https://polyfill.io/v3/polyfill.min.js?features=IntersectionObserver%2CPromise%2CArray.prototype.includes%2CString.prototype.endsWith%2CString.prototype.startsWith%2CObject.assign%2CNodeList.prototype.forEach', 14.1123046875), ('/blog/assets/js/vendor/content-api.min.js?v=22080dfa02', 0.130859375), ('/blog/assets/js/manifest.js?v=22080dfa02', 0.130859375), ('/blog/assets/js/vendor.js?v=22080dfa02', 0.130859375), ('/blog/assets/js/app.js?v=22080dfa02', 0.130859375), ('/blog/assets/js/post.js?v=22080dfa02', 0.130859375), ('/blog/assets/css/app.css?v=22080dfa02', 0.130859375), ('/blog/public/cards.min.css?v=22080dfa02', 0.130859375)]\n",
      "Analyzing 248 of 523: https://fampay.in/blog/building-indias-first-genz-teen-exclusive-community/\n",
      "Page size: 46.37890625 KB\n",
      "Resource sizes: [('https://fampay.in/blog/content/images/2020/11/logofilewhite-11-2.png', 0.130859375), ('https://fampay.in/blog/content/images/2020/11/logofilewhite-11-2.png', 0.130859375), ('https://lh5.googleusercontent.com/F5vA6alvKazmPqPYbvO7RGvOMqPC5lbyDfPcgfF-pg4waTr9oMUI3nN5Y0wUa6C-Fm8TFBnkNqI395YcnO8Yafo61FROWPLZ2JHv2vk7MxvA4VVwX3tDvhzccx6wHndwLbkUz5eR', 0.0), ('https://lh4.googleusercontent.com/aUW-PdSqXpMlhPi8n2j3FMGI6FwMYChKVuceDpfmBJLc0m3nKYajFkXiDHNnUmh9_KCqXuL0UXYwgpPZjxIKR1aBAmi2OUR7Yy4YuznWWgEnhY3ASZ3NZMCuDiYiSOwrFuLmnHyb', 0.0), ('https://lh3.googleusercontent.com/AMQw24X1GX6Qk889TM7RPBII_On9ZYkb659nR4FtpkIOyRPTekvOfUyT-WQKBF6T4KzfU0NfdtUjL08nOvSZNU9T6zmLhWMd2Hmbknflpum6j4EPnU6h_fwicmXTdpkG7BuyXT5w', 0.0), ('https://fampay.in/blog/content/images/2020/09/FamCard-Gif.gif', 0.130859375), ('https://lh6.googleusercontent.com/o7mjfMHsRuw69AAXWdXlR4KX1KX-3uLXcUn9YAA3ZzjltwzBvkGvj6qZFiXidkaHOyNai8p-Z6SQvwnI0JAqAGOiEKcJAudaNoKQqLf5qpbpLejP0F81PTeHLbYB5wO6cv6R8z3R', 0.0), ('https://lh4.googleusercontent.com/eoyhn3yta1IJ4rdVqMMrqUC-65JnpzYgWVezxpWvTkSv_SFiLBryjY9mkDhL1KWqxiC6_MX_GU4doD-ggQD5nSqZgP-twK1BGpTfRt-JNgauJznCgHMIZ25sl1tXX448mpR0pKFW', 0.0), ('https://lh4.googleusercontent.com/fgCqcoOXjburr79l71Ri6z_YQd3CflId3bwPwNXt5Yz3iaFk18nA2zWvZGsYHyl0LkCNDR14ygEndqiYC9fDkvaJSps4sInEsSZWqjNh266jG55AjGggNo5RK0NI5-6f4r9fvFTB', 0.0), ('https://lh6.googleusercontent.com/9Bgc0izm3oHYGIhGAC_Wr9o--9YskLTwPToUzXFXpp9ik1WXXskehOrx6O8m39KVgzAMQ3NwOJSh0BxXQgB4nAGcQWm7yjG66E7jTzmRlhdVdi5QQy2R9eVLyBvL8-KTyijPK1XG', 0.0), ('/blog/assets/images/success.png?v=22080dfa02', 0.130859375), ('https://cdn.jsdelivr.net/ghost/portal@~2.30/umd/portal.min.js', 170.8154296875), ('https://cdn.jsdelivr.net/ghost/sodo-search@~1.1/umd/sodo-search.min.js', 95.5751953125), ('/blog/public/cards.min.js?v=22080dfa02', 0.130859375), ('/blog/public/member-attribution.min.js?v=22080dfa02', 0.130859375), ('https://www.googletagmanager.com/gtag/js?id=UA-147725948-3', 0.0), ('https://polyfill.io/v3/polyfill.min.js?features=IntersectionObserver%2CPromise%2CArray.prototype.includes%2CString.prototype.endsWith%2CString.prototype.startsWith%2CObject.assign%2CNodeList.prototype.forEach', 14.1123046875), ('/blog/assets/js/vendor/content-api.min.js?v=22080dfa02', 0.130859375), ('/blog/assets/js/manifest.js?v=22080dfa02', 0.130859375), ('/blog/assets/js/vendor.js?v=22080dfa02', 0.130859375), ('/blog/assets/js/app.js?v=22080dfa02', 0.130859375), ('/blog/assets/js/post.js?v=22080dfa02', 0.130859375), ('/blog/assets/css/app.css?v=22080dfa02', 0.130859375), ('/blog/public/cards.min.css?v=22080dfa02', 0.130859375)]\n",
      "Analyzing 249 of 523: https://famapp.in/blog/curious-about-famcard-heres-everything-to-know/\n",
      "Page size: 42.482421875 KB\n",
      "Resource sizes: [('https://fampay.in/blog/content/images/2020/11/logofilewhite-11-2.png', 0.130859375), ('https://fampay.in/blog/content/images/2020/11/logofilewhite-11-2.png', 0.130859375), ('https://fampay.in/blog/content/images/2021/01/image-7.png', 0.130859375), ('https://fampay.in/blog/content/images/2021/01/image-8.png', 0.130859375), ('https://fampay.in/blog/content/images/2020/12/image-13.png', 0.130859375), ('https://fampay.in/blog/content/images/2021/01/image.png', 0.130859375), ('https://fampay.in/blog/content/images/2020/12/image-14.png', 0.130859375), ('/blog/assets/images/success.png?v=22080dfa02', 0.0), ('https://cdn.jsdelivr.net/ghost/portal@~2.30/umd/portal.min.js', 170.8154296875), ('https://cdn.jsdelivr.net/ghost/sodo-search@~1.1/umd/sodo-search.min.js', 95.5751953125), ('/blog/public/cards.min.js?v=22080dfa02', 0.0), ('/blog/public/member-attribution.min.js?v=22080dfa02', 0.0), ('https://www.googletagmanager.com/gtag/js?id=UA-147725948-3', 0.0), ('https://polyfill.io/v3/polyfill.min.js?features=IntersectionObserver%2CPromise%2CArray.prototype.includes%2CString.prototype.endsWith%2CString.prototype.startsWith%2CObject.assign%2CNodeList.prototype.forEach', 14.1123046875), ('/blog/assets/js/vendor/content-api.min.js?v=22080dfa02', 0.0), ('/blog/assets/js/manifest.js?v=22080dfa02', 0.0), ('/blog/assets/js/vendor.js?v=22080dfa02', 0.0), ('/blog/assets/js/app.js?v=22080dfa02', 0.0), ('/blog/assets/js/post.js?v=22080dfa02', 0.0), ('/blog/assets/css/app.css?v=22080dfa02', 0.0), ('/blog/public/cards.min.css?v=22080dfa02', 0.0)]\n",
      "Analyzing 250 of 523: https://wa.me/?text=Curious%20about%20FamCard%3F%F0%9F%92%B3%20Here%E2%80%99s%20everything%20to%20know%3A%20FAQs%20by%20teens%20on%20FamCard%20https://fampay.in/blog/curious-about-famcard-heres-everything-to-know/\n",
      "Page size: 165.568359375 KB\n",
      "Resource sizes: [('https://static.whatsapp.net/rsrc.php/v3/yq/r/mdQNdcFMi0p.png', 28.833984375), ('https://static.whatsapp.net/rsrc.php/v3/y7/r/DSxOAUB0raA.png', 28.7744140625), ('https://static.whatsapp.net/rsrc.php/v3/yJ/r/Qhrnh5evyPV.png', 1.193359375), ('https://static.whatsapp.net/rsrc.php/v3/yJ/r/Qhrnh5evyPV.png', 1.193359375), ('https://static.whatsapp.net/rsrc.php/v3/y6/r/TcHIu29ealS.js?_nc_x=Ij3Wp8lg5Kz', 104.8037109375), ('https://static.whatsapp.net/rsrc.php/v3/yO/l/0,cross/zkmfh5mjXuB.css?_nc_x=Ij3Wp8lg5Kz', 1.318359375), ('https://static.whatsapp.net/rsrc.php/v3/yi/l/0,cross/TngFvC3f-F7.css?_nc_x=Ij3Wp8lg5Kz', 14.91796875), ('https://static.whatsapp.net/rsrc.php/v3/yX/l/0,cross/90x4oEKKKqw.css?_nc_x=Ij3Wp8lg5Kz', 9.01953125)]\n",
      "Analyzing 251 of 523: https://www.facebook.com/sharer/sharer.php?u=https://fampay.in/blog/curious-about-famcard-heres-everything-to-know/\n",
      "Page size: 17.0478515625 KB\n",
      "Resource sizes: [('https://static.xx.fbcdn.net/rsrc.php/v3/y8/r/k97pj8-or6s.png', 0.7900390625), ('https://facebook.com/security/hsts-pixel.gif?c=3.2', 0.0)]\n",
      "Analyzing 252 of 523: https://twitter.com/intent/tweet?text=Curious%20about%20FamCard%3F%F0%9F%92%B3%20Here%E2%80%99s%20everything%20to%20know%3A%20FAQs%20by%20teens%20on%20FamCard&url=https://fampay.in/blog/curious-about-famcard-heres-everything-to-know/\n",
      "Page size: 167.86328125 KB\n",
      "Resource sizes: [('https://abs.twimg.com/errors/logo46x38.png', 0.9912109375), ('https://abs.twimg.com/responsive-web/client-web-legacy/shared~bundle.Compose~bundle.RichTextCompose.a2fa6b8a.js', 52.9111328125), ('https://abs.twimg.com/responsive-web/client-web-legacy/polyfills.d5242a4a.js', 17.72265625), ('https://abs.twimg.com/responsive-web/client-web-legacy/vendor.3cb7d15a.js', 218.7216796875), ('https://abs.twimg.com/responsive-web/client-web-legacy/i18n/en.213585ba.js', 114.365234375), ('https://abs.twimg.com/responsive-web/client-web-legacy/main.79ac570a.js', 408.1171875)]\n",
      "Analyzing 253 of 523: https://fampay.in/blog/famcard-your-first-debit-card/\n",
      "Page size: 20.0771484375 KB\n",
      "Resource sizes: [('https://fampay.in/blog/content/images/2020/11/logofilewhite-11-2.png', 0.130859375), ('https://fampay.in/blog/content/images/2020/11/logofilewhite-11-2.png', 0.130859375), ('https://cdn.jsdelivr.net/ghost/portal@~2.30/umd/portal.min.js', 170.8154296875), ('https://cdn.jsdelivr.net/ghost/sodo-search@~1.1/umd/sodo-search.min.js', 95.5751953125), ('/blog/public/cards.min.js?v=22080dfa02', 0.130859375), ('/blog/public/member-attribution.min.js?v=22080dfa02', 0.130859375), ('https://www.googletagmanager.com/gtag/js?id=UA-147725948-3', 0.0), ('https://polyfill.io/v3/polyfill.min.js?features=IntersectionObserver%2CPromise%2CArray.prototype.includes%2CString.prototype.endsWith%2CString.prototype.startsWith%2CObject.assign%2CNodeList.prototype.forEach', 14.1123046875), ('/blog/assets/js/vendor/content-api.min.js?v=22080dfa02', 0.130859375), ('/blog/assets/js/manifest.js?v=22080dfa02', 0.130859375), ('/blog/assets/js/vendor.js?v=22080dfa02', 0.130859375), ('/blog/assets/js/app.js?v=22080dfa02', 0.130859375), ('/blog/assets/css/app.css?v=22080dfa02', 0.130859375), ('/blog/public/cards.min.css?v=22080dfa02', 0.130859375)]\n",
      "Analyzing 254 of 523: https://fampay.in/blog/everything-you-need-to-know-about-our-numberless-card/\n",
      "Page size: 45.775390625 KB\n",
      "Resource sizes: [('https://fampay.in/blog/content/images/2020/11/logofilewhite-11-2.png', 0.130859375), ('https://fampay.in/blog/content/images/2020/11/logofilewhite-11-2.png', 0.130859375), ('https://fampay.in/blog/content/images/2020/07/CardInstagramPR--1-.png', 0.130859375), ('https://fampay.in/blog/content/images/2020/07/security.gif', 0.130859375), ('https://fampay.in/blog/content/images/2020/07/contactless.gif', 0.130859375), ('https://fampay.in/blog/content/images/2020/07/nofrills.gif', 0.130859375), ('/blog/assets/images/success.png?v=22080dfa02', 0.130859375), ('https://cdn.jsdelivr.net/ghost/portal@~2.30/umd/portal.min.js', 170.8154296875), ('https://cdn.jsdelivr.net/ghost/sodo-search@~1.1/umd/sodo-search.min.js', 95.5751953125), ('/blog/public/cards.min.js?v=22080dfa02', 0.130859375), ('/blog/public/member-attribution.min.js?v=22080dfa02', 0.130859375), ('https://www.googletagmanager.com/gtag/js?id=UA-147725948-3', 0.0), ('https://platform.twitter.com/widgets.js', 91.0537109375), ('https://polyfill.io/v3/polyfill.min.js?features=IntersectionObserver%2CPromise%2CArray.prototype.includes%2CString.prototype.endsWith%2CString.prototype.startsWith%2CObject.assign%2CNodeList.prototype.forEach', 14.1123046875), ('/blog/assets/js/vendor/content-api.min.js?v=22080dfa02', 0.130859375), ('/blog/assets/js/manifest.js?v=22080dfa02', 0.130859375), ('/blog/assets/js/vendor.js?v=22080dfa02', 0.130859375), ('/blog/assets/js/app.js?v=22080dfa02', 0.130859375), ('/blog/assets/js/post.js?v=22080dfa02', 0.130859375), ('/blog/assets/css/app.css?v=22080dfa02', 0.130859375), ('/blog/public/cards.min.css?v=22080dfa02', 0.130859375)]\n",
      "Analyzing 255 of 523: https://famapp.in/blog/writing-content-for-a-content-saturated-generation/\n",
      "Page size: 48.61328125 KB\n",
      "Resource sizes: [('https://fampay.in/blog/content/images/2020/11/logofilewhite-11-2.png', 0.130859375), ('https://fampay.in/blog/content/images/2020/11/logofilewhite-11-2.png', 0.130859375), ('https://fampay.in/blog/content/images/2021/01/content.gif', 0.130859375), ('https://fampay.in/blog/content/images/2021/01/Untitled.png', 0.130859375), ('https://fampay.in/blog/content/images/2021/01/Untitled--1-.png', 0.130859375), ('https://fampay.in/blog/content/images/2021/01/Untitled--2-.png', 0.130859375), ('https://fampay.in/blog/content/images/2021/01/Untitled--3-.png', 0.130859375), ('https://fampay.in/blog/content/images/2021/01/Untitled--4-.png', 0.130859375), ('https://fampay.in/blog/content/images/2021/01/WhatsApp-Image-2021-01-14-at-11.54.50-AM--1-.jpeg', 0.130859375), ('https://fampay.in/blog/content/images/2021/01/WhatsApp-Image-2021-01-14-at-11.54.50-AM-1.jpeg', 0.130859375), ('https://fampay.in/blog/content/images/2021/01/Untitled--5-.png', 0.130859375), ('https://fampay.in/blog/content/images/2021/01/Untitled--6-.png', 0.130859375), ('https://fampay.in/blog/content/images/2021/01/Untitled--7-.png', 0.130859375), ('/blog/assets/images/success.png?v=22080dfa02', 0.0), ('https://cdn.jsdelivr.net/ghost/portal@~2.30/umd/portal.min.js', 170.8154296875), ('https://cdn.jsdelivr.net/ghost/sodo-search@~1.1/umd/sodo-search.min.js', 95.5751953125), ('/blog/public/cards.min.js?v=22080dfa02', 0.0), ('/blog/public/member-attribution.min.js?v=22080dfa02', 0.0), ('https://www.googletagmanager.com/gtag/js?id=UA-147725948-3', 0.0), ('https://polyfill.io/v3/polyfill.min.js?features=IntersectionObserver%2CPromise%2CArray.prototype.includes%2CString.prototype.endsWith%2CString.prototype.startsWith%2CObject.assign%2CNodeList.prototype.forEach', 14.1123046875), ('/blog/assets/js/vendor/content-api.min.js?v=22080dfa02', 0.0), ('/blog/assets/js/manifest.js?v=22080dfa02', 0.0), ('/blog/assets/js/vendor.js?v=22080dfa02', 0.0), ('/blog/assets/js/app.js?v=22080dfa02', 0.0), ('/blog/assets/js/post.js?v=22080dfa02', 0.0), ('/blog/assets/css/app.css?v=22080dfa02', 0.0), ('/blog/public/cards.min.css?v=22080dfa02', 0.0)]\n",
      "Analyzing 256 of 523: https://wa.me/?text=Writing%20content%20for%20a%20content-saturated%20generation%20%E2%9C%8D%20https://fampay.in/blog/writing-content-for-a-content-saturated-generation/\n",
      "Page size: 165.40625 KB\n",
      "Resource sizes: [('https://static.whatsapp.net/rsrc.php/v3/yq/r/mdQNdcFMi0p.png', 28.833984375), ('https://static.whatsapp.net/rsrc.php/v3/y7/r/DSxOAUB0raA.png', 28.7744140625), ('https://static.whatsapp.net/rsrc.php/v3/yJ/r/Qhrnh5evyPV.png', 1.193359375), ('https://static.whatsapp.net/rsrc.php/v3/yJ/r/Qhrnh5evyPV.png', 1.193359375), ('https://static.whatsapp.net/rsrc.php/v3/y6/r/TcHIu29ealS.js?_nc_x=Ij3Wp8lg5Kz', 104.8037109375), ('https://static.whatsapp.net/rsrc.php/v3/yO/l/0,cross/zkmfh5mjXuB.css?_nc_x=Ij3Wp8lg5Kz', 1.318359375), ('https://static.whatsapp.net/rsrc.php/v3/yi/l/0,cross/TngFvC3f-F7.css?_nc_x=Ij3Wp8lg5Kz', 14.91796875), ('https://static.whatsapp.net/rsrc.php/v3/yX/l/0,cross/90x4oEKKKqw.css?_nc_x=Ij3Wp8lg5Kz', 9.01953125)]\n",
      "Analyzing 257 of 523: https://www.facebook.com/sharer/sharer.php?u=https://fampay.in/blog/writing-content-for-a-content-saturated-generation/\n",
      "Page size: 17.0751953125 KB\n",
      "Resource sizes: [('https://static.xx.fbcdn.net/rsrc.php/v3/y8/r/k97pj8-or6s.png', 0.7900390625), ('https://facebook.com/security/hsts-pixel.gif?c=3.2', 0.0)]\n",
      "Analyzing 258 of 523: https://twitter.com/intent/tweet?text=Writing%20content%20for%20a%20content-saturated%20generation%20%E2%9C%8D&url=https://fampay.in/blog/writing-content-for-a-content-saturated-generation/\n",
      "Page size: 167.810546875 KB\n",
      "Resource sizes: [('https://abs.twimg.com/errors/logo46x38.png', 0.9912109375), ('https://abs.twimg.com/responsive-web/client-web-legacy/shared~bundle.Compose~bundle.RichTextCompose.a2fa6b8a.js', 52.9111328125), ('https://abs.twimg.com/responsive-web/client-web-legacy/polyfills.d5242a4a.js', 17.72265625), ('https://abs.twimg.com/responsive-web/client-web-legacy/vendor.3cb7d15a.js', 218.7216796875), ('https://abs.twimg.com/responsive-web/client-web-legacy/i18n/en.213585ba.js', 114.365234375), ('https://abs.twimg.com/responsive-web/client-web-legacy/main.79ac570a.js', 408.1171875)]\n",
      "Analyzing 259 of 523: https://famapp.in/blog/how-to-grow-your-instagram-followers-a-quick-guide-for-all-genz-brands/\n",
      "Page size: 47.2783203125 KB\n",
      "Resource sizes: [('https://fampay.in/blog/content/images/2020/11/logofilewhite-11-2.png', 0.130859375), ('https://fampay.in/blog/content/images/2020/11/logofilewhite-11-2.png', 0.130859375), ('https://fampay.in/blog/content/images/2020/12/image-5.png', 0.130859375), ('https://fampay.in/blog/content/images/2020/12/image-6.png', 0.130859375), ('https://fampay.in/blog/content/images/2020/12/image-12.png', 0.130859375), ('https://fampay.in/blog/content/images/2020/12/image-7.png', 0.130859375), ('https://fampay.in/blog/content/images/2020/12/image-8.png', 0.130859375), ('https://fampay.in/blog/content/images/2020/12/image-9.png', 0.130859375), ('https://fampay.in/blog/content/images/2020/12/image-10.png', 0.130859375), ('https://fampay.in/blog/content/images/2020/12/image-11.png', 0.130859375), ('/blog/assets/images/success.png?v=22080dfa02', 0.0), ('https://cdn.jsdelivr.net/ghost/portal@~2.30/umd/portal.min.js', 170.8154296875), ('https://cdn.jsdelivr.net/ghost/sodo-search@~1.1/umd/sodo-search.min.js', 95.5751953125), ('/blog/public/cards.min.js?v=22080dfa02', 0.0), ('/blog/public/member-attribution.min.js?v=22080dfa02', 0.0), ('https://www.googletagmanager.com/gtag/js?id=UA-147725948-3', 0.0), ('https://polyfill.io/v3/polyfill.min.js?features=IntersectionObserver%2CPromise%2CArray.prototype.includes%2CString.prototype.endsWith%2CString.prototype.startsWith%2CObject.assign%2CNodeList.prototype.forEach', 14.1123046875), ('/blog/assets/js/vendor/content-api.min.js?v=22080dfa02', 0.0), ('/blog/assets/js/manifest.js?v=22080dfa02', 0.0), ('/blog/assets/js/vendor.js?v=22080dfa02', 0.0), ('/blog/assets/js/app.js?v=22080dfa02', 0.0), ('/blog/assets/js/post.js?v=22080dfa02', 0.0), ('/blog/assets/css/app.css?v=22080dfa02', 0.0), ('/blog/public/cards.min.css?v=22080dfa02', 0.0)]\n",
      "Analyzing 260 of 523: https://wa.me/?text=How%20to%20grow%20your%20Instagram%20followers%3F%F0%9F%A4%B3%20-%20A%20quick%20guide%20for%20all%20GenZ%20brands!%20https://fampay.in/blog/how-to-grow-your-instagram-followers-a-quick-guide-for-all-genz-brands/\n",
      "Page size: 165.638671875 KB\n",
      "Resource sizes: [('https://static.whatsapp.net/rsrc.php/v3/yq/r/mdQNdcFMi0p.png', 28.833984375), ('https://static.whatsapp.net/rsrc.php/v3/y7/r/DSxOAUB0raA.png', 28.7744140625), ('https://static.whatsapp.net/rsrc.php/v3/yJ/r/Qhrnh5evyPV.png', 1.193359375), ('https://static.whatsapp.net/rsrc.php/v3/yJ/r/Qhrnh5evyPV.png', 1.193359375), ('https://static.whatsapp.net/rsrc.php/v3/y6/r/TcHIu29ealS.js?_nc_x=Ij3Wp8lg5Kz', 104.8037109375), ('https://static.whatsapp.net/rsrc.php/v3/yO/l/0,cross/zkmfh5mjXuB.css?_nc_x=Ij3Wp8lg5Kz', 1.318359375), ('https://static.whatsapp.net/rsrc.php/v3/yi/l/0,cross/TngFvC3f-F7.css?_nc_x=Ij3Wp8lg5Kz', 14.91796875), ('https://static.whatsapp.net/rsrc.php/v3/yX/l/0,cross/90x4oEKKKqw.css?_nc_x=Ij3Wp8lg5Kz', 9.01953125)]\n",
      "Analyzing 261 of 523: https://www.facebook.com/sharer/sharer.php?u=https://fampay.in/blog/how-to-grow-your-instagram-followers-a-quick-guide-for-all-genz-brands/\n",
      "Page size: 17.2119140625 KB\n",
      "Resource sizes: [('https://static.xx.fbcdn.net/rsrc.php/v3/y8/r/k97pj8-or6s.png', 0.7900390625), ('https://facebook.com/security/hsts-pixel.gif?c=3.2', 0.0)]\n",
      "Analyzing 262 of 523: https://twitter.com/intent/tweet?text=How%20to%20grow%20your%20Instagram%20followers%3F%F0%9F%A4%B3%20-%20A%20quick%20guide%20for%20all%20GenZ%20brands!&url=https://fampay.in/blog/how-to-grow-your-instagram-followers-a-quick-guide-for-all-genz-brands/\n",
      "Page size: 167.810546875 KB\n",
      "Resource sizes: [('https://abs.twimg.com/errors/logo46x38.png', 0.9912109375), ('https://abs.twimg.com/responsive-web/client-web-legacy/shared~bundle.Compose~bundle.RichTextCompose.a2fa6b8a.js', 52.9111328125), ('https://abs.twimg.com/responsive-web/client-web-legacy/polyfills.d5242a4a.js', 17.72265625), ('https://abs.twimg.com/responsive-web/client-web-legacy/vendor.3cb7d15a.js', 218.7216796875), ('https://abs.twimg.com/responsive-web/client-web-legacy/i18n/en.213585ba.js', 114.365234375), ('https://abs.twimg.com/responsive-web/client-web-legacy/main.79ac570a.js', 408.1171875)]\n",
      "Analyzing 263 of 523: https://www.instagram.com/explore/tags/getfampaid/\n",
      "Page size: 303.72265625 KB\n",
      "Resource sizes: [('data:image/png;base64,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', 0.0), ('data:image/png;base64,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', 0.0), ('https://static.cdninstagram.com/rsrc.php/v3/yJ/r/jhqrywW-9cq.js?_nc_x=Ij3Wp8lg5Kz', 73.318359375), ('https://static.cdninstagram.com/rsrc.php/v3i6iS4/yk/l/en_US/WuQ6ssx3D5R-U57pDg_5N7e1BUfiZYPKDA3cXYCBTKTwWu0tl_U2vuoNHqNV-WcR_z.js?_nc_x=Ij3Wp8lg5Kz', 515.19140625), ('https://static.cdninstagram.com/rsrc.php/v3ir2i4/yV/l/en_US/aJ_imjBVheqwG-6XemuMpVn1F8NvoaxFk-j2J2UeJxx__yfEtAlxOBSnTjhMveA1x2eUK5r2vRhb9GYNV2vggSuPbbJDceyYcd2-WzKjBGIEmwED68KFpIEzI0SxSQxjA8rcEKg-GNk9tZI8Bl2bmn551VTv6kMGlYO0tP087Opo3FC6SsTf8IFWGGMgW296g0itZZl4S9TPgcmF3IohmRQ2b689sIcNz5Fd-7qpKNtD65R1nEsrzLL3gtdIOi_ozMqRqzpAWtmw1z4KICpWcKJEeLSoILIOVtds0DcQrvsWqehdEtWwJbsRr4lFiLIDQVEH-g-FDC.js?_nc_x=Ij3Wp8lg5Kz', 178.9990234375), ('https://static.cdninstagram.com/rsrc.php/v3iwUT4/y_/l/en_US/VEI4caNYYSI.js?_nc_x=Ij3Wp8lg5Kz', 523.595703125), ('https://static.cdninstagram.com/rsrc.php/v3idBq4/yy/l/en_US/j6escAZYAkS.js?_nc_x=Ij3Wp8lg5Kz', 8.8447265625), ('https://static.cdninstagram.com/rsrc.php/v3/yb/l/0,cross/1BXx6dHUkbKIpzSENsoegaMjy8r0mGrCeXqh7xyVs7TQ.css?_nc_x=Ij3Wp8lg5Kz', 114.103515625), ('data:text/css; charset=utf-8;base64,Ym9keS5fYTN3ZntiYWNrZ3JvdW5kOnJnYih2YXIoLS1pZy1wcmltYXJ5LWJhY2tncm91bmQpKTtjb2xvcjpyZ2IodmFyKC0taWctcHJpbWFyeS10ZXh0KSk7Zm9udC1mYW1pbHk6dmFyKC0tZm9udC1mYW1pbHktc3lzdGVtKTtmb250LXNpemU6dmFyKC0tc3lzdGVtLTE0LWZvbnQtc2l6ZSk7bGluZS1oZWlnaHQ6dmFyKC0tc3lzdGVtLTE0LWxpbmUtaGVpZ2h0KTttYXJnaW46MDtvdmVyZmxvdy15OnZpc2libGV9I2Jvb3Rsb2FkZXJfRm00Y3JmcHtoZWlnaHQ6NDJweDt9LmJvb3Rsb2FkZXJfRm00Y3JmcHtkaXNwbGF5OmJsb2NrIWltcG9ydGFudDt9', 0.0)]\n",
      "Analyzing 264 of 523: https://famapp.in/blog/why-do-online-payments-get-stuck-and-what-can-you-do/\n",
      "Page size: 40.4560546875 KB\n",
      "Resource sizes: [('https://fampay.in/blog/content/images/2020/11/logofilewhite-11-2.png', 0.130859375), ('https://fampay.in/blog/content/images/2020/11/logofilewhite-11-2.png', 0.130859375), ('https://fampay.in/blog/content/images/2020/12/payment-processing-with-bank-1.PNG', 0.130859375), ('/blog/assets/images/success.png?v=22080dfa02', 0.0), ('https://cdn.jsdelivr.net/ghost/portal@~2.30/umd/portal.min.js', 170.8154296875), ('https://cdn.jsdelivr.net/ghost/sodo-search@~1.1/umd/sodo-search.min.js', 95.5751953125), ('/blog/public/cards.min.js?v=22080dfa02', 0.0), ('/blog/public/member-attribution.min.js?v=22080dfa02', 0.0), ('https://www.googletagmanager.com/gtag/js?id=UA-147725948-3', 0.0), ('https://polyfill.io/v3/polyfill.min.js?features=IntersectionObserver%2CPromise%2CArray.prototype.includes%2CString.prototype.endsWith%2CString.prototype.startsWith%2CObject.assign%2CNodeList.prototype.forEach', 14.1123046875), ('/blog/assets/js/vendor/content-api.min.js?v=22080dfa02', 0.0), ('/blog/assets/js/manifest.js?v=22080dfa02', 0.0), ('/blog/assets/js/vendor.js?v=22080dfa02', 0.0), ('/blog/assets/js/app.js?v=22080dfa02', 0.0), ('/blog/assets/js/post.js?v=22080dfa02', 0.0), ('/blog/assets/css/app.css?v=22080dfa02', 0.0), ('/blog/public/cards.min.css?v=22080dfa02', 0.0)]\n",
      "Analyzing 265 of 523: https://wa.me/?text=Why%20do%20online%20payments%20get%20stuck%20and%20what%20can%20you%20do%3F%20%F0%9F%A4%94%20https://fampay.in/blog/why-do-online-payments-get-stuck-and-what-can-you-do/\n",
      "Page size: 165.443359375 KB\n",
      "Resource sizes: [('https://static.whatsapp.net/rsrc.php/v3/yq/r/mdQNdcFMi0p.png', 28.833984375), ('https://static.whatsapp.net/rsrc.php/v3/y7/r/DSxOAUB0raA.png', 28.7744140625), ('https://static.whatsapp.net/rsrc.php/v3/yJ/r/Qhrnh5evyPV.png', 1.193359375), ('https://static.whatsapp.net/rsrc.php/v3/yJ/r/Qhrnh5evyPV.png', 1.193359375), ('https://static.whatsapp.net/rsrc.php/v3/y6/r/TcHIu29ealS.js?_nc_x=Ij3Wp8lg5Kz', 104.8037109375), ('https://static.whatsapp.net/rsrc.php/v3/yO/l/0,cross/zkmfh5mjXuB.css?_nc_x=Ij3Wp8lg5Kz', 1.318359375), ('https://static.whatsapp.net/rsrc.php/v3/yi/l/0,cross/TngFvC3f-F7.css?_nc_x=Ij3Wp8lg5Kz', 14.91796875), ('https://static.whatsapp.net/rsrc.php/v3/yX/l/0,cross/90x4oEKKKqw.css?_nc_x=Ij3Wp8lg5Kz', 9.01953125)]\n",
      "Analyzing 266 of 523: https://www.facebook.com/sharer/sharer.php?u=https://fampay.in/blog/why-do-online-payments-get-stuck-and-what-can-you-do/\n",
      "Page size: 17.0888671875 KB\n",
      "Resource sizes: [('https://static.xx.fbcdn.net/rsrc.php/v3/y8/r/k97pj8-or6s.png', 0.7900390625), ('https://facebook.com/security/hsts-pixel.gif?c=3.2', 0.0)]\n",
      "Analyzing 267 of 523: https://twitter.com/intent/tweet?text=Why%20do%20online%20payments%20get%20stuck%20and%20what%20can%20you%20do%3F%20%F0%9F%A4%94&url=https://fampay.in/blog/why-do-online-payments-get-stuck-and-what-can-you-do/\n",
      "Page size: 168.265625 KB\n",
      "Resource sizes: [('https://abs.twimg.com/errors/logo46x38.png', 0.9912109375), ('https://abs.twimg.com/responsive-web/client-web-legacy/shared~bundle.Compose~bundle.RichTextCompose.a2fa6b8a.js', 52.9111328125), ('https://abs.twimg.com/responsive-web/client-web-legacy/polyfills.d5242a4a.js', 17.72265625), ('https://abs.twimg.com/responsive-web/client-web-legacy/vendor.3cb7d15a.js', 218.7216796875), ('https://abs.twimg.com/responsive-web/client-web-legacy/i18n/en.213585ba.js', 114.365234375), ('https://abs.twimg.com/responsive-web/client-web-legacy/main.79ac570a.js', 408.1171875)]\n",
      "Analyzing 268 of 523: https://famapp.in/blog/tag/famsays/page/3/\n",
      "Page size: 29.7353515625 KB\n",
      "Resource sizes: [('https://fampay.in/blog/content/images/2020/11/logofilewhite-11-2.png', 0.130859375), ('https://fampay.in/blog/content/images/2020/11/logofilewhite-11-2.png', 0.130859375), ('https://cdn.jsdelivr.net/ghost/portal@~2.30/umd/portal.min.js', 170.8154296875), ('https://cdn.jsdelivr.net/ghost/sodo-search@~1.1/umd/sodo-search.min.js', 95.5751953125), ('/blog/public/cards.min.js?v=22080dfa02', 0.0), ('/blog/public/member-attribution.min.js?v=22080dfa02', 0.0), ('https://www.googletagmanager.com/gtag/js?id=UA-147725948-3', 0.0), ('https://polyfill.io/v3/polyfill.min.js?features=IntersectionObserver%2CPromise%2CArray.prototype.includes%2CString.prototype.endsWith%2CString.prototype.startsWith%2CObject.assign%2CNodeList.prototype.forEach', 14.1123046875), ('/blog/assets/js/vendor/content-api.min.js?v=22080dfa02', 0.0), ('/blog/assets/js/manifest.js?v=22080dfa02', 0.0), ('/blog/assets/js/vendor.js?v=22080dfa02', 0.0), ('/blog/assets/js/app.js?v=22080dfa02', 0.0), ('/blog/assets/css/app.css?v=22080dfa02', 0.0), ('/blog/public/cards.min.css?v=22080dfa02', 0.0)]\n",
      "Analyzing 269 of 523: https://famapp.in/blog/researching-the-unresearched-genzs/\n",
      "Page size: 43.04296875 KB\n",
      "Resource sizes: [('https://fampay.in/blog/content/images/2020/11/logofilewhite-11-2.png', 0.130859375), ('https://fampay.in/blog/content/images/2020/11/logofilewhite-11-2.png', 0.130859375), ('https://fampay.in/blog/content/images/2020/12/image-2.png', 0.130859375), ('https://lh4.googleusercontent.com/RxBAgouZzfs8glGP6BgBTPXhsYoAKXqDRU6Cc5gOmk41v7goDfLfuZSKZPc6E6vgmBWxG5WzipSH5Mrk7lS9erKd1_5TGs2XgCcZKQdUOVXv5zqKvlgjg5bhDyCFSN_KITQQH2G3', 0.0), ('https://fampay.in/blog/content/images/2020/12/image.png', 0.130859375), ('https://fampay.in/blog/content/images/2020/12/image-3.png', 0.130859375), ('https://fampay.in/blog/content/images/2020/12/image-4.png', 0.130859375), ('/blog/assets/images/success.png?v=22080dfa02', 0.0), ('https://cdn.jsdelivr.net/ghost/portal@~2.30/umd/portal.min.js', 170.8154296875), ('https://cdn.jsdelivr.net/ghost/sodo-search@~1.1/umd/sodo-search.min.js', 95.5751953125), ('/blog/public/cards.min.js?v=22080dfa02', 0.0), ('/blog/public/member-attribution.min.js?v=22080dfa02', 0.0), ('https://www.googletagmanager.com/gtag/js?id=UA-147725948-3', 0.0), ('https://polyfill.io/v3/polyfill.min.js?features=IntersectionObserver%2CPromise%2CArray.prototype.includes%2CString.prototype.endsWith%2CString.prototype.startsWith%2CObject.assign%2CNodeList.prototype.forEach', 14.1123046875), ('/blog/assets/js/vendor/content-api.min.js?v=22080dfa02', 0.0), ('/blog/assets/js/manifest.js?v=22080dfa02', 0.0), ('/blog/assets/js/vendor.js?v=22080dfa02', 0.0), ('/blog/assets/js/app.js?v=22080dfa02', 0.0), ('/blog/assets/js/post.js?v=22080dfa02', 0.0), ('/blog/assets/css/app.css?v=22080dfa02', 0.0), ('/blog/public/cards.min.css?v=22080dfa02', 0.0)]\n",
      "Analyzing 270 of 523: https://famapp.in/blog/building-indias-first-genz-teen-exclusive-community/\n",
      "Page size: 46.37890625 KB\n",
      "Resource sizes: [('https://fampay.in/blog/content/images/2020/11/logofilewhite-11-2.png', 0.130859375), ('https://fampay.in/blog/content/images/2020/11/logofilewhite-11-2.png', 0.130859375), ('https://lh5.googleusercontent.com/F5vA6alvKazmPqPYbvO7RGvOMqPC5lbyDfPcgfF-pg4waTr9oMUI3nN5Y0wUa6C-Fm8TFBnkNqI395YcnO8Yafo61FROWPLZ2JHv2vk7MxvA4VVwX3tDvhzccx6wHndwLbkUz5eR', 0.0), ('https://lh4.googleusercontent.com/aUW-PdSqXpMlhPi8n2j3FMGI6FwMYChKVuceDpfmBJLc0m3nKYajFkXiDHNnUmh9_KCqXuL0UXYwgpPZjxIKR1aBAmi2OUR7Yy4YuznWWgEnhY3ASZ3NZMCuDiYiSOwrFuLmnHyb', 0.0), ('https://lh3.googleusercontent.com/AMQw24X1GX6Qk889TM7RPBII_On9ZYkb659nR4FtpkIOyRPTekvOfUyT-WQKBF6T4KzfU0NfdtUjL08nOvSZNU9T6zmLhWMd2Hmbknflpum6j4EPnU6h_fwicmXTdpkG7BuyXT5w', 0.0), ('https://fampay.in/blog/content/images/2020/09/FamCard-Gif.gif', 0.130859375), ('https://lh6.googleusercontent.com/o7mjfMHsRuw69AAXWdXlR4KX1KX-3uLXcUn9YAA3ZzjltwzBvkGvj6qZFiXidkaHOyNai8p-Z6SQvwnI0JAqAGOiEKcJAudaNoKQqLf5qpbpLejP0F81PTeHLbYB5wO6cv6R8z3R', 0.0), ('https://lh4.googleusercontent.com/eoyhn3yta1IJ4rdVqMMrqUC-65JnpzYgWVezxpWvTkSv_SFiLBryjY9mkDhL1KWqxiC6_MX_GU4doD-ggQD5nSqZgP-twK1BGpTfRt-JNgauJznCgHMIZ25sl1tXX448mpR0pKFW', 0.0), ('https://lh4.googleusercontent.com/fgCqcoOXjburr79l71Ri6z_YQd3CflId3bwPwNXt5Yz3iaFk18nA2zWvZGsYHyl0LkCNDR14ygEndqiYC9fDkvaJSps4sInEsSZWqjNh266jG55AjGggNo5RK0NI5-6f4r9fvFTB', 0.0), ('https://lh6.googleusercontent.com/9Bgc0izm3oHYGIhGAC_Wr9o--9YskLTwPToUzXFXpp9ik1WXXskehOrx6O8m39KVgzAMQ3NwOJSh0BxXQgB4nAGcQWm7yjG66E7jTzmRlhdVdi5QQy2R9eVLyBvL8-KTyijPK1XG', 0.0), ('/blog/assets/images/success.png?v=22080dfa02', 0.0), ('https://cdn.jsdelivr.net/ghost/portal@~2.30/umd/portal.min.js', 170.8154296875), ('https://cdn.jsdelivr.net/ghost/sodo-search@~1.1/umd/sodo-search.min.js', 95.5751953125), ('/blog/public/cards.min.js?v=22080dfa02', 0.0), ('/blog/public/member-attribution.min.js?v=22080dfa02', 0.0), ('https://www.googletagmanager.com/gtag/js?id=UA-147725948-3', 0.0), ('https://polyfill.io/v3/polyfill.min.js?features=IntersectionObserver%2CPromise%2CArray.prototype.includes%2CString.prototype.endsWith%2CString.prototype.startsWith%2CObject.assign%2CNodeList.prototype.forEach', 14.1123046875), ('/blog/assets/js/vendor/content-api.min.js?v=22080dfa02', 0.0), ('/blog/assets/js/manifest.js?v=22080dfa02', 0.0), ('/blog/assets/js/vendor.js?v=22080dfa02', 0.0), ('/blog/assets/js/app.js?v=22080dfa02', 0.0), ('/blog/assets/js/post.js?v=22080dfa02', 0.0), ('/blog/assets/css/app.css?v=22080dfa02', 0.0), ('/blog/public/cards.min.css?v=22080dfa02', 0.0)]\n",
      "Analyzing 271 of 523: https://famapp.in/blog/journey-to-the-centre-of-100k-downloads/\n",
      "Page size: 70.6064453125 KB\n",
      "Resource sizes: [('https://fampay.in/blog/content/images/2020/11/logofilewhite-11-2.png', 0.130859375), ('https://fampay.in/blog/content/images/2020/11/logofilewhite-11-2.png', 0.130859375), ('https://fampay.in/blog/content/images/2020/10/2--1--1.png', 0.130859375), ('/blog/assets/images/success.png?v=22080dfa02', 0.0), ('https://cdn.jsdelivr.net/ghost/portal@~2.30/umd/portal.min.js', 170.8154296875), ('https://cdn.jsdelivr.net/ghost/sodo-search@~1.1/umd/sodo-search.min.js', 95.5751953125), ('/blog/public/cards.min.js?v=22080dfa02', 0.0), ('/blog/public/member-attribution.min.js?v=22080dfa02', 0.0), ('https://www.googletagmanager.com/gtag/js?id=UA-147725948-3', 0.0), ('//www.instagram.com/embed.js', 0.0), ('//www.instagram.com/embed.js', 0.0), ('//www.instagram.com/embed.js', 0.0), ('//www.instagram.com/embed.js', 0.0), ('https://polyfill.io/v3/polyfill.min.js?features=IntersectionObserver%2CPromise%2CArray.prototype.includes%2CString.prototype.endsWith%2CString.prototype.startsWith%2CObject.assign%2CNodeList.prototype.forEach', 14.1123046875), ('/blog/assets/js/vendor/content-api.min.js?v=22080dfa02', 0.0), ('/blog/assets/js/manifest.js?v=22080dfa02', 0.0), ('/blog/assets/js/vendor.js?v=22080dfa02', 0.0), ('/blog/assets/js/app.js?v=22080dfa02', 0.0), ('/blog/assets/js/post.js?v=22080dfa02', 0.0), ('/blog/assets/css/app.css?v=22080dfa02', 0.0), ('/blog/public/cards.min.css?v=22080dfa02', 0.0)]\n",
      "Analyzing 272 of 523: https://famapp.in/blog/tag/growth/\n",
      "Page size: 36.1044921875 KB\n",
      "Resource sizes: [('https://fampay.in/blog/content/images/2020/11/logofilewhite-11-2.png', 0.130859375), ('https://fampay.in/blog/content/images/2020/11/logofilewhite-11-2.png', 0.130859375), ('https://cdn.jsdelivr.net/ghost/portal@~2.30/umd/portal.min.js', 170.8154296875), ('https://cdn.jsdelivr.net/ghost/sodo-search@~1.1/umd/sodo-search.min.js', 95.5751953125), ('/blog/public/cards.min.js?v=22080dfa02', 0.0), ('/blog/public/member-attribution.min.js?v=22080dfa02', 0.0), ('https://www.googletagmanager.com/gtag/js?id=UA-147725948-3', 0.0), ('https://polyfill.io/v3/polyfill.min.js?features=IntersectionObserver%2CPromise%2CArray.prototype.includes%2CString.prototype.endsWith%2CString.prototype.startsWith%2CObject.assign%2CNodeList.prototype.forEach', 14.1123046875), ('/blog/assets/js/vendor/content-api.min.js?v=22080dfa02', 0.0), ('/blog/assets/js/manifest.js?v=22080dfa02', 0.0), ('/blog/assets/js/vendor.js?v=22080dfa02', 0.0), ('/blog/assets/js/app.js?v=22080dfa02', 0.0), ('/blog/assets/css/app.css?v=22080dfa02', 0.0), ('/blog/public/cards.min.css?v=22080dfa02', 0.0)]\n",
      "Analyzing 273 of 523: https://famapp.in/blog/tag/growth/page/2/\n",
      "Page size: 24.853515625 KB\n",
      "Resource sizes: [('https://fampay.in/blog/content/images/2020/11/logofilewhite-11-2.png', 0.130859375), ('https://fampay.in/blog/content/images/2020/11/logofilewhite-11-2.png', 0.130859375), ('https://cdn.jsdelivr.net/ghost/portal@~2.30/umd/portal.min.js', 170.8154296875), ('https://cdn.jsdelivr.net/ghost/sodo-search@~1.1/umd/sodo-search.min.js', 95.5751953125), ('/blog/public/cards.min.js?v=22080dfa02', 0.0), ('/blog/public/member-attribution.min.js?v=22080dfa02', 0.0), ('https://www.googletagmanager.com/gtag/js?id=UA-147725948-3', 0.0), ('https://polyfill.io/v3/polyfill.min.js?features=IntersectionObserver%2CPromise%2CArray.prototype.includes%2CString.prototype.endsWith%2CString.prototype.startsWith%2CObject.assign%2CNodeList.prototype.forEach', 14.1123046875), ('/blog/assets/js/vendor/content-api.min.js?v=22080dfa02', 0.0), ('/blog/assets/js/manifest.js?v=22080dfa02', 0.0), ('/blog/assets/js/vendor.js?v=22080dfa02', 0.0), ('/blog/assets/js/app.js?v=22080dfa02', 0.0), ('/blog/assets/css/app.css?v=22080dfa02', 0.0), ('/blog/public/cards.min.css?v=22080dfa02', 0.0)]\n",
      "Analyzing 274 of 523: https://famapp.in/blog/tag/lifestyle/\n",
      "Page size: 36.31640625 KB\n",
      "Resource sizes: [('https://fampay.in/blog/content/images/2020/11/logofilewhite-11-2.png', 0.130859375), ('https://fampay.in/blog/content/images/2020/11/logofilewhite-11-2.png', 0.130859375), ('https://cdn.jsdelivr.net/ghost/portal@~2.30/umd/portal.min.js', 170.8154296875), ('https://cdn.jsdelivr.net/ghost/sodo-search@~1.1/umd/sodo-search.min.js', 95.5751953125), ('/blog/public/cards.min.js?v=22080dfa02', 0.0), ('/blog/public/member-attribution.min.js?v=22080dfa02', 0.0), ('https://www.googletagmanager.com/gtag/js?id=UA-147725948-3', 0.0), ('https://polyfill.io/v3/polyfill.min.js?features=IntersectionObserver%2CPromise%2CArray.prototype.includes%2CString.prototype.endsWith%2CString.prototype.startsWith%2CObject.assign%2CNodeList.prototype.forEach', 14.1123046875), ('/blog/assets/js/vendor/content-api.min.js?v=22080dfa02', 0.0), ('/blog/assets/js/manifest.js?v=22080dfa02', 0.0), ('/blog/assets/js/vendor.js?v=22080dfa02', 0.0), ('/blog/assets/js/app.js?v=22080dfa02', 0.0), ('/blog/assets/css/app.css?v=22080dfa02', 0.0), ('/blog/public/cards.min.css?v=22080dfa02', 0.0)]\n",
      "Analyzing 275 of 523: https://famapp.in/blog/decor-ideas-that-would-transform-your-room-at-home-or-hostel/\n",
      "Page size: 40.7919921875 KB\n",
      "Resource sizes: [('https://fampay.in/blog/content/images/2020/11/logofilewhite-11-2.png', 0.130859375), ('https://fampay.in/blog/content/images/2020/11/logofilewhite-11-2.png', 0.130859375), ('https://fampay.in/blog/content/images/2021/09/image-20.png', 0.130859375), ('https://fampay.in/blog/content/images/2021/09/image-21.png', 0.130859375), ('https://fampay.in/blog/content/images/2021/09/image-22.png', 0.130859375), ('https://fampay.in/blog/content/images/2021/09/image-23.png', 0.130859375), ('/blog/assets/images/success.png?v=22080dfa02', 0.0), ('https://cdn.jsdelivr.net/ghost/portal@~2.30/umd/portal.min.js', 170.8154296875), ('https://cdn.jsdelivr.net/ghost/sodo-search@~1.1/umd/sodo-search.min.js', 95.5751953125), ('/blog/public/cards.min.js?v=22080dfa02', 0.0), ('/blog/public/member-attribution.min.js?v=22080dfa02', 0.0), ('https://www.googletagmanager.com/gtag/js?id=UA-147725948-3', 0.0), ('https://polyfill.io/v3/polyfill.min.js?features=IntersectionObserver%2CPromise%2CArray.prototype.includes%2CString.prototype.endsWith%2CString.prototype.startsWith%2CObject.assign%2CNodeList.prototype.forEach', 14.1123046875), ('/blog/assets/js/vendor/content-api.min.js?v=22080dfa02', 0.0), ('/blog/assets/js/manifest.js?v=22080dfa02', 0.0), ('/blog/assets/js/vendor.js?v=22080dfa02', 0.0), ('/blog/assets/js/app.js?v=22080dfa02', 0.0), ('/blog/assets/js/post.js?v=22080dfa02', 0.0), ('/blog/assets/css/app.css?v=22080dfa02', 0.0), ('/blog/public/cards.min.css?v=22080dfa02', 0.0)]\n",
      "Analyzing 276 of 523: https://wa.me/?text=D%C3%A9cor%20ideas%20that%20would%20transform%20your%20room%20at%20home%20or%20hostel%F0%9F%8E%A8%20https://fampay.in/blog/decor-ideas-that-would-transform-your-room-at-home-or-hostel/\n",
      "Page size: 165.5283203125 KB\n",
      "Resource sizes: [('https://static.whatsapp.net/rsrc.php/v3/yq/r/mdQNdcFMi0p.png', 28.833984375), ('https://static.whatsapp.net/rsrc.php/v3/y7/r/DSxOAUB0raA.png', 28.7744140625), ('https://static.whatsapp.net/rsrc.php/v3/yJ/r/Qhrnh5evyPV.png', 1.193359375), ('https://static.whatsapp.net/rsrc.php/v3/yJ/r/Qhrnh5evyPV.png', 1.193359375), ('https://static.whatsapp.net/rsrc.php/v3/y6/r/TcHIu29ealS.js?_nc_x=Ij3Wp8lg5Kz', 104.8037109375), ('https://static.whatsapp.net/rsrc.php/v3/yO/l/0,cross/zkmfh5mjXuB.css?_nc_x=Ij3Wp8lg5Kz', 1.318359375), ('https://static.whatsapp.net/rsrc.php/v3/yi/l/0,cross/TngFvC3f-F7.css?_nc_x=Ij3Wp8lg5Kz', 14.91796875), ('https://static.whatsapp.net/rsrc.php/v3/yX/l/0,cross/90x4oEKKKqw.css?_nc_x=Ij3Wp8lg5Kz', 9.01953125)]\n",
      "Analyzing 277 of 523: https://www.facebook.com/sharer/sharer.php?u=https://fampay.in/blog/decor-ideas-that-would-transform-your-room-at-home-or-hostel/\n",
      "Page size: 17.1435546875 KB\n",
      "Resource sizes: [('https://static.xx.fbcdn.net/rsrc.php/v3/y8/r/k97pj8-or6s.png', 0.7900390625), ('https://facebook.com/security/hsts-pixel.gif?c=3.2', 0.0)]\n",
      "Analyzing 278 of 523: https://twitter.com/intent/tweet?text=D%C3%A9cor%20ideas%20that%20would%20transform%20your%20room%20at%20home%20or%20hostel%F0%9F%8E%A8&url=https://fampay.in/blog/decor-ideas-that-would-transform-your-room-at-home-or-hostel/\n",
      "Page size: 168.7158203125 KB\n",
      "Resource sizes: [('https://abs.twimg.com/errors/logo46x38.png', 0.9912109375), ('https://abs.twimg.com/responsive-web/client-web-legacy/shared~bundle.Compose~bundle.RichTextCompose.a2fa6b8a.js', 52.9111328125), ('https://abs.twimg.com/responsive-web/client-web-legacy/polyfills.d5242a4a.js', 17.72265625), ('https://abs.twimg.com/responsive-web/client-web-legacy/vendor.3cb7d15a.js', 218.7216796875), ('https://abs.twimg.com/responsive-web/client-web-legacy/i18n/en.213585ba.js', 114.365234375), ('https://abs.twimg.com/responsive-web/client-web-legacy/main.79ac570a.js', 408.1171875)]\n",
      "Analyzing 279 of 523: https://famapp.in/blog/the-most-beautiful-college-campuses-in-india/\n",
      "Page size: 41.4248046875 KB\n",
      "Resource sizes: [('https://fampay.in/blog/content/images/2020/11/logofilewhite-11-2.png', 0.130859375), ('https://fampay.in/blog/content/images/2020/11/logofilewhite-11-2.png', 0.130859375), ('https://fampay.in/blog/content/images/2021/09/image-14.png', 0.130859375), ('https://fampay.in/blog/content/images/2021/09/Untitled--1-.png', 0.130859375), ('https://fampay.in/blog/content/images/2021/09/Untitled--2-.png', 0.130859375), ('https://fampay.in/blog/content/images/2021/09/image-15.png', 0.130859375), ('https://fampay.in/blog/content/images/2021/09/image-16.png', 0.130859375), ('https://fampay.in/blog/content/images/2021/09/image-19.png', 0.130859375), ('https://fampay.in/blog/content/images/2021/09/image-17.png', 0.130859375), ('https://fampay.in/blog/content/images/2021/09/image-18.png', 0.130859375), ('/blog/assets/images/success.png?v=22080dfa02', 0.0), ('https://cdn.jsdelivr.net/ghost/portal@~2.30/umd/portal.min.js', 170.8154296875), ('https://cdn.jsdelivr.net/ghost/sodo-search@~1.1/umd/sodo-search.min.js', 95.5751953125), ('/blog/public/cards.min.js?v=22080dfa02', 0.0), ('/blog/public/member-attribution.min.js?v=22080dfa02', 0.0), ('https://www.googletagmanager.com/gtag/js?id=UA-147725948-3', 0.0), ('https://polyfill.io/v3/polyfill.min.js?features=IntersectionObserver%2CPromise%2CArray.prototype.includes%2CString.prototype.endsWith%2CString.prototype.startsWith%2CObject.assign%2CNodeList.prototype.forEach', 14.1123046875), ('/blog/assets/js/vendor/content-api.min.js?v=22080dfa02', 0.0), ('/blog/assets/js/manifest.js?v=22080dfa02', 0.0), ('/blog/assets/js/vendor.js?v=22080dfa02', 0.0), ('/blog/assets/js/app.js?v=22080dfa02', 0.0), ('/blog/assets/js/post.js?v=22080dfa02', 0.0), ('/blog/assets/css/app.css?v=22080dfa02', 0.0), ('/blog/public/cards.min.css?v=22080dfa02', 0.0)]\n",
      "Analyzing 280 of 523: https://wa.me/?text=The%20most%20beautiful%20college%20campuses%20in%20India%20%F0%9F%8E%93%20https://fampay.in/blog/the-most-beautiful-college-campuses-in-india/\n",
      "Page size: 165.3466796875 KB\n",
      "Resource sizes: [('https://static.whatsapp.net/rsrc.php/v3/yq/r/mdQNdcFMi0p.png', 28.833984375), ('https://static.whatsapp.net/rsrc.php/v3/y7/r/DSxOAUB0raA.png', 28.7744140625), ('https://static.whatsapp.net/rsrc.php/v3/yJ/r/Qhrnh5evyPV.png', 1.193359375), ('https://static.whatsapp.net/rsrc.php/v3/yJ/r/Qhrnh5evyPV.png', 1.193359375), ('https://static.whatsapp.net/rsrc.php/v3/y6/r/TcHIu29ealS.js?_nc_x=Ij3Wp8lg5Kz', 104.8037109375), ('https://static.whatsapp.net/rsrc.php/v3/yO/l/0,cross/zkmfh5mjXuB.css?_nc_x=Ij3Wp8lg5Kz', 1.318359375), ('https://static.whatsapp.net/rsrc.php/v3/yi/l/0,cross/TngFvC3f-F7.css?_nc_x=Ij3Wp8lg5Kz', 14.91796875), ('https://static.whatsapp.net/rsrc.php/v3/yX/l/0,cross/90x4oEKKKqw.css?_nc_x=Ij3Wp8lg5Kz', 9.01953125)]\n",
      "Analyzing 281 of 523: https://www.facebook.com/sharer/sharer.php?u=https://fampay.in/blog/the-most-beautiful-college-campuses-in-india/\n",
      "Page size: 17.0390625 KB\n",
      "Resource sizes: [('https://static.xx.fbcdn.net/rsrc.php/v3/y8/r/k97pj8-or6s.png', 0.7900390625), ('https://facebook.com/security/hsts-pixel.gif?c=3.2', 0.0)]\n",
      "Analyzing 282 of 523: https://twitter.com/intent/tweet?text=The%20most%20beautiful%20college%20campuses%20in%20India%20%F0%9F%8E%93&url=https://fampay.in/blog/the-most-beautiful-college-campuses-in-india/\n",
      "Page size: 168.05859375 KB\n",
      "Resource sizes: [('https://abs.twimg.com/errors/logo46x38.png', 0.9912109375), ('https://abs.twimg.com/responsive-web/client-web-legacy/shared~bundle.Compose~bundle.RichTextCompose.a2fa6b8a.js', 52.9111328125), ('https://abs.twimg.com/responsive-web/client-web-legacy/polyfills.d5242a4a.js', 17.72265625), ('https://abs.twimg.com/responsive-web/client-web-legacy/vendor.3cb7d15a.js', 218.7216796875), ('https://abs.twimg.com/responsive-web/client-web-legacy/i18n/en.213585ba.js', 114.365234375), ('https://abs.twimg.com/responsive-web/client-web-legacy/main.79ac570a.js', 408.1171875)]\n",
      "Analyzing 283 of 523: https://famapp.in/blog/every-little-thing-counts-ways-in-which-you-can-contribute-to-society-as-a-teenager/\n",
      "Page size: 51.251953125 KB\n",
      "Resource sizes: [('https://fampay.in/blog/content/images/2020/11/logofilewhite-11-2.png', 0.130859375), ('https://fampay.in/blog/content/images/2020/11/logofilewhite-11-2.png', 0.130859375), ('https://lh3.googleusercontent.com/Az971UxWV_0MqS-FqzYz8-hbRhAYQSUmNAXbPNNGizBS6OloYb2Wo1qemWFRiELjYTxDvcrT7amvB0IbAd58B-k1KRlj6ZA7LapKTcmdzwUtWFja0mZ6CN9dUlxMrNzRupzhHKw', 53.2119140625), ('https://lh4.googleusercontent.com/dRtMm9xbHyXCjulPDrwm6xxbPUOEsaz7P-1LBSAMlOUgUsVn2gywA1l5hPfaAhJUhNnCU58nkVbOjh1JwVNLzlsMhva-4KO9jST0eECFKEJaRDcZiGJAebldJBNAr2fZkDpJ0kk', 145.353515625), ('https://lh6.googleusercontent.com/HBMv9UxJATlLsse67JWLFcg81aVgmjUA_u5ANkMhUumvXcvwechuX9tQGcMSVb0xz2lqR4DHLJWGQpTCUbFLU9J9ugz0mXHV64cLuM109J4N4Br2r55b_MqMrcb716OO5ZFgjjY', 11.087890625), ('https://static-exp3.licdn.com/scds/common/u/images/logos/favicons/v1/favicon.ico', 0.0517578125), ('https://static-exp3.licdn.com/sc/h/c45fy346jw096z9pbphyyhdz7', 34.0400390625), ('https://lh4.googleusercontent.com/Tqn1LhWRewDR_t7ff7C3KAtORmEHhQBtxXQF2QkDhg5Ru4HItSBhVGV1VFj3-NQzRE0pC5O4nlMpMto-COYbBMl073ZZZE1yxFyLESVKrEouGxx3jhEi-45XJNu11ACg8_ro9Vg', 13.9853515625), ('https://lh5.googleusercontent.com/Tm_cpPrp68ckI7WtGNdOcSXoOmZ0ognKL9W28OPJFZ5p_eLZUTMRgkDxiWiuHnU9QDl4PYr43uvQwTmrrdBqqQvPR4u1oJ1-B94AAI68O505S-8VOfm9nh-jX76vhaPj9An410w', 10.568359375), ('https://lh5.googleusercontent.com/2-UbfF7-nGxEjXIYuLKBz7EBuHiv3FcwofFwhR74ZFuphmnuP2pkkKuD7_HoPimehHXwyd2BVA03R-XKiZExn1k2DKHr6GVU4JfltlTl0LQE_JuLe7-U5SAALXR5vwtiTrsYU44', 37.7275390625), ('https://lh5.googleusercontent.com/XvlS8tnmr_Z7NwOtNk0pCay41DiMJmB9d8-pcsWYZxKCAaeUpBH7Xgvx1Ytl5dXHi1ISJV3flSOvM4lhtPHV0VaILA52X59vQGu8JiW4IwRySP5fv9UoZnZqMGHjZJbHPWjn4S4', 142.8857421875), ('https://lh5.googleusercontent.com/oZiw_uWXuO9N2DmeuBF08tk1Y64zZzkI-0-P68F7hlhX8zQ53HUCOlqZ1_9xlcjGJqHxG0f-9Ya6rR5R6vYDki8ibUQ69RNIYLAj_CvmfI_XD-PtEIquL2fzeW5yD1dsftnFHLc', 13.248046875), ('https://lh4.googleusercontent.com/GErvDtOQpMwAhhFJI8pATha1KZri4qIIUe8re-uwiJUfMvzIA8cQ1OyMoh-DEFHh-XF8wR0iL2LZli7Zbxy4zkY5MSjLB9rzJ16BL4J1W5KE0y6BsYxyiW7bSU9XNbYEVrLYccI', 3.732421875), ('https://lh6.googleusercontent.com/x-tp4h53OY4-ZZmp8khfO7CvwEu5xU1ZvD_609NOgBKmiMQrf9E325jEcirlNlxEUPVOxICqrFeUAI6kU1Sh9I3nEEMN_C5ZwO88QBEgLEewqmFDREeAAIr1w-tEypDFwxMCHQE', 10.87109375), ('https://lh5.googleusercontent.com/ikFqZGOeAMxXdRTotYqw_pOBaLJSqDtMmhNKyrpiP2RW__QFB_kUDQPxpFPUlD18WIF4mcNUb-PJ7BmMSUmePc9NjTcXG1IsJxbtU7dMpPpFv5EDGVMVZ38H9GodsGrqJgd0sY0', 4.509765625), ('https://lh6.googleusercontent.com/5QreX6El7Md1jOLr5Z_irGRCWmNJ_R8buOVT1sdP_xY6NnUmtKzY68astAjV2aX-l67M_Yr_S40jmL2MjsVbmmmmJWrVHz1MVvAfC6QkofvJmSd3kWwNL5DGdbChK0Ew-hB3YzQ', 23.3076171875), ('https://lh5.googleusercontent.com/AlmGZgrp1Bo_LpPO3afx1y7ohSlZzO5mKPTkopl11ZGV5XSNYYXPr6MOsVIks0t_0aAp_T7FNRWr2KtKxnYeG6TgF1uhOCRGGKZWcZ3qd3BXC9F24MlBV4PnzyfBu6NLkUw_vp4', 0.0), ('https://lh4.googleusercontent.com/uAaC-lrbZObK0v4lnf79ndS3TkMDqLIjQJG1iupnct1VKJoLPWXoJ1QQICVFRYyOdoew726mbJqkf4JAcJoAih3qlBo3g6cCSnZzGI6XAGrGVfEqEmF5EWgXlWKMeTJYtbKFt-A', 16.7255859375), ('https://lh4.googleusercontent.com/h6JvnuwUb1eAYTwtktPCLHJOUudM2WDstMtj8CUQAIk0DFjStIKsxArCxQUtYNEj-8iHN2d7g-oL5Jj7Nyw05ZHq4WL4HFJR_3dp6KS2e83p0DYl2N4Ldqo5Bbo5tZQfZl2gzG8', 10.4541015625), ('/blog/assets/images/success.png?v=22080dfa02', 0.0), ('https://cdn.jsdelivr.net/ghost/portal@~2.30/umd/portal.min.js', 170.8154296875), ('https://cdn.jsdelivr.net/ghost/sodo-search@~1.1/umd/sodo-search.min.js', 95.5751953125), ('/blog/public/cards.min.js?v=22080dfa02', 0.0), ('/blog/public/member-attribution.min.js?v=22080dfa02', 0.0), ('https://www.googletagmanager.com/gtag/js?id=UA-147725948-3', 0.0), ('https://polyfill.io/v3/polyfill.min.js?features=IntersectionObserver%2CPromise%2CArray.prototype.includes%2CString.prototype.endsWith%2CString.prototype.startsWith%2CObject.assign%2CNodeList.prototype.forEach', 14.1123046875), ('/blog/assets/js/vendor/content-api.min.js?v=22080dfa02', 0.0), ('/blog/assets/js/manifest.js?v=22080dfa02', 0.0), ('/blog/assets/js/vendor.js?v=22080dfa02', 0.0), ('/blog/assets/js/app.js?v=22080dfa02', 0.0), ('/blog/assets/js/post.js?v=22080dfa02', 0.0), ('/blog/assets/css/app.css?v=22080dfa02', 0.0), ('/blog/public/cards.min.css?v=22080dfa02', 0.0)]\n",
      "Analyzing 284 of 523: https://wa.me/?text=Every%20Little%20Thing%20Counts-%20Ways%20in%20Which%20You%20Can%20Contribute%20to%20Society%20as%20a%20Teenager%F0%9F%92%AA%F0%9F%8F%BD%F0%9F%A7%91%E2%80%8D%F0%9F%8E%93%20https://fampay.in/blog/every-little-thing-counts-ways-in-which-you-can-contribute-to-society-as-a-teenager/\n",
      "Page size: 165.7783203125 KB\n",
      "Resource sizes: [('https://static.whatsapp.net/rsrc.php/v3/yq/r/mdQNdcFMi0p.png', 28.833984375), ('https://static.whatsapp.net/rsrc.php/v3/y7/r/DSxOAUB0raA.png', 28.7744140625), ('https://static.whatsapp.net/rsrc.php/v3/yJ/r/Qhrnh5evyPV.png', 1.193359375), ('https://static.whatsapp.net/rsrc.php/v3/yJ/r/Qhrnh5evyPV.png', 1.193359375), ('https://static.whatsapp.net/rsrc.php/v3/y6/r/TcHIu29ealS.js?_nc_x=Ij3Wp8lg5Kz', 104.8037109375), ('https://static.whatsapp.net/rsrc.php/v3/yO/l/0,cross/zkmfh5mjXuB.css?_nc_x=Ij3Wp8lg5Kz', 1.318359375), ('https://static.whatsapp.net/rsrc.php/v3/yi/l/0,cross/TngFvC3f-F7.css?_nc_x=Ij3Wp8lg5Kz', 14.91796875), ('https://static.whatsapp.net/rsrc.php/v3/yX/l/0,cross/90x4oEKKKqw.css?_nc_x=Ij3Wp8lg5Kz', 9.01953125)]\n",
      "Analyzing 285 of 523: https://www.facebook.com/sharer/sharer.php?u=https://fampay.in/blog/every-little-thing-counts-ways-in-which-you-can-contribute-to-society-as-a-teenager/\n",
      "Page size: 17.30078125 KB\n",
      "Resource sizes: [('https://static.xx.fbcdn.net/rsrc.php/v3/y8/r/k97pj8-or6s.png', 0.7900390625), ('https://facebook.com/security/hsts-pixel.gif?c=3.2', 0.0)]\n",
      "Analyzing 286 of 523: https://twitter.com/intent/tweet?text=Every%20Little%20Thing%20Counts-%20Ways%20in%20Which%20You%20Can%20Contribute%20to%20Society%20as%20a%20Teenager%F0%9F%92%AA%F0%9F%8F%BD%F0%9F%A7%91%E2%80%8D%F0%9F%8E%93&url=https://fampay.in/blog/every-little-thing-counts-ways-in-which-you-can-contribute-to-society-as-a-teenager/\n",
      "Page size: 167.810546875 KB\n",
      "Resource sizes: [('https://abs.twimg.com/errors/logo46x38.png', 0.9912109375), ('https://abs.twimg.com/responsive-web/client-web-legacy/shared~bundle.Compose~bundle.RichTextCompose.a2fa6b8a.js', 52.9111328125), ('https://abs.twimg.com/responsive-web/client-web-legacy/polyfills.d5242a4a.js', 17.72265625), ('https://abs.twimg.com/responsive-web/client-web-legacy/vendor.3cb7d15a.js', 218.7216796875), ('https://abs.twimg.com/responsive-web/client-web-legacy/i18n/en.213585ba.js', 114.365234375), ('https://abs.twimg.com/responsive-web/client-web-legacy/main.79ac570a.js', 408.1171875)]\n",
      "Analyzing 287 of 523: https://famapp.in/blog/tag/lifestyle/page/2/\n",
      "Page size: 34.529296875 KB\n",
      "Resource sizes: [('https://fampay.in/blog/content/images/2020/11/logofilewhite-11-2.png', 0.130859375), ('https://fampay.in/blog/content/images/2020/11/logofilewhite-11-2.png', 0.130859375), ('https://cdn.jsdelivr.net/ghost/portal@~2.30/umd/portal.min.js', 170.8154296875), ('https://cdn.jsdelivr.net/ghost/sodo-search@~1.1/umd/sodo-search.min.js', 95.5751953125), ('/blog/public/cards.min.js?v=22080dfa02', 0.0), ('/blog/public/member-attribution.min.js?v=22080dfa02', 0.0), ('https://www.googletagmanager.com/gtag/js?id=UA-147725948-3', 0.0), ('https://polyfill.io/v3/polyfill.min.js?features=IntersectionObserver%2CPromise%2CArray.prototype.includes%2CString.prototype.endsWith%2CString.prototype.startsWith%2CObject.assign%2CNodeList.prototype.forEach', 14.1123046875), ('/blog/assets/js/vendor/content-api.min.js?v=22080dfa02', 0.0), ('/blog/assets/js/manifest.js?v=22080dfa02', 0.0), ('/blog/assets/js/vendor.js?v=22080dfa02', 0.0), ('/blog/assets/js/app.js?v=22080dfa02', 0.0), ('/blog/assets/css/app.css?v=22080dfa02', 0.0), ('/blog/public/cards.min.css?v=22080dfa02', 0.0)]\n",
      "Analyzing 288 of 523: https://famapp.in/blog/baddie-on-a-budget-budgeting-tricks-for-teens/\n",
      "Page size: 41.9375 KB\n",
      "Resource sizes: [('https://fampay.in/blog/content/images/2020/11/logofilewhite-11-2.png', 0.130859375), ('https://fampay.in/blog/content/images/2020/11/logofilewhite-11-2.png', 0.130859375), ('https://fampay.in/blog/content/images/2020/10/tenor-13.gif', 0.130859375), ('https://fampay.in/blog/content/images/2020/10/giphy-9.gif', 0.130859375), ('https://fampay.in/blog/content/images/2020/10/giphy-8.gif', 0.130859375), ('https://fampay.in/blog/content/images/2020/10/tenor-12.gif', 0.130859375), ('/blog/assets/images/success.png?v=22080dfa02', 0.0), ('https://cdn.jsdelivr.net/ghost/portal@~2.30/umd/portal.min.js', 170.8154296875), ('https://cdn.jsdelivr.net/ghost/sodo-search@~1.1/umd/sodo-search.min.js', 95.5751953125), ('/blog/public/cards.min.js?v=22080dfa02', 0.0), ('/blog/public/member-attribution.min.js?v=22080dfa02', 0.0), ('https://www.googletagmanager.com/gtag/js?id=UA-147725948-3', 0.0), ('https://polyfill.io/v3/polyfill.min.js?features=IntersectionObserver%2CPromise%2CArray.prototype.includes%2CString.prototype.endsWith%2CString.prototype.startsWith%2CObject.assign%2CNodeList.prototype.forEach', 14.1123046875), ('/blog/assets/js/vendor/content-api.min.js?v=22080dfa02', 0.0), ('/blog/assets/js/manifest.js?v=22080dfa02', 0.0), ('/blog/assets/js/vendor.js?v=22080dfa02', 0.0), ('/blog/assets/js/app.js?v=22080dfa02', 0.0), ('/blog/assets/js/post.js?v=22080dfa02', 0.0), ('/blog/assets/css/app.css?v=22080dfa02', 0.0), ('/blog/public/cards.min.css?v=22080dfa02', 0.0)]\n",
      "Analyzing 289 of 523: https://wa.me/?text=Baddie%20on%20a%20Budget%3A%20Budgeting%20Tricks%20for%20Teens%20%F0%9F%98%8E%F0%9F%92%85%F0%9F%92%B0%20https://fampay.in/blog/baddie-on-a-budget-budgeting-tricks-for-teens/\n",
      "Page size: 165.6220703125 KB\n",
      "Resource sizes: [('https://static.whatsapp.net/rsrc.php/v3/yq/r/mdQNdcFMi0p.png', 28.833984375), ('https://static.whatsapp.net/rsrc.php/v3/y7/r/DSxOAUB0raA.png', 28.7744140625), ('https://static.whatsapp.net/rsrc.php/v3/yJ/r/Qhrnh5evyPV.png', 1.193359375), ('https://static.whatsapp.net/rsrc.php/v3/yJ/r/Qhrnh5evyPV.png', 1.193359375), ('https://static.whatsapp.net/rsrc.php/v3/y6/r/TcHIu29ealS.js?_nc_x=Ij3Wp8lg5Kz', 104.8037109375), ('https://static.whatsapp.net/rsrc.php/v3/yO/l/0,cross/zkmfh5mjXuB.css?_nc_x=Ij3Wp8lg5Kz', 1.318359375), ('https://static.whatsapp.net/rsrc.php/v3/yi/l/0,cross/TngFvC3f-F7.css?_nc_x=Ij3Wp8lg5Kz', 14.91796875), ('https://static.whatsapp.net/rsrc.php/v3/yX/l/0,cross/90x4oEKKKqw.css?_nc_x=Ij3Wp8lg5Kz', 9.01953125)]\n",
      "Analyzing 290 of 523: https://www.facebook.com/sharer/sharer.php?u=https://fampay.in/blog/baddie-on-a-budget-budgeting-tricks-for-teens/\n",
      "Page size: 17.041015625 KB\n",
      "Resource sizes: [('https://static.xx.fbcdn.net/rsrc.php/v3/y8/r/k97pj8-or6s.png', 0.7900390625), ('https://facebook.com/security/hsts-pixel.gif?c=3.2', 0.0)]\n",
      "Analyzing 291 of 523: https://twitter.com/intent/tweet?text=Baddie%20on%20a%20Budget%3A%20Budgeting%20Tricks%20for%20Teens%20%F0%9F%98%8E%F0%9F%92%85%F0%9F%92%B0&url=https://fampay.in/blog/baddie-on-a-budget-budgeting-tricks-for-teens/\n",
      "Page size: 168.0693359375 KB\n",
      "Resource sizes: [('https://abs.twimg.com/errors/logo46x38.png', 0.9912109375), ('https://abs.twimg.com/responsive-web/client-web-legacy/shared~bundle.Compose~bundle.RichTextCompose.a2fa6b8a.js', 52.9111328125), ('https://abs.twimg.com/responsive-web/client-web-legacy/polyfills.d5242a4a.js', 17.72265625), ('https://abs.twimg.com/responsive-web/client-web-legacy/vendor.3cb7d15a.js', 218.7216796875), ('https://abs.twimg.com/responsive-web/client-web-legacy/i18n/en.213585ba.js', 114.365234375), ('https://abs.twimg.com/responsive-web/client-web-legacy/main.79ac570a.js', 408.1171875)]\n",
      "Analyzing 292 of 523: https://famapp.in/blog/5-habits-of-highly-successful-teens/\n",
      "Page size: 40.8818359375 KB\n",
      "Resource sizes: [('https://fampay.in/blog/content/images/2020/11/logofilewhite-11-2.png', 0.130859375), ('https://fampay.in/blog/content/images/2020/11/logofilewhite-11-2.png', 0.130859375), ('https://fampay.in/blog/content/images/2020/10/giphy-4.gif', 0.130859375), ('https://fampay.in/blog/content/images/2020/10/giphy-5.gif', 0.130859375), ('https://fampay.in/blog/content/images/2020/10/giphy-6.gif', 0.130859375), ('https://fampay.in/blog/content/images/2020/10/giphy-2-1.gif', 0.130859375), ('https://fampay.in/blog/content/images/2020/10/giphy-7.gif', 0.130859375), ('https://fampay.in/blog/content/images/2020/10/giphy-3-1.gif', 0.130859375), ('/blog/assets/images/success.png?v=22080dfa02', 0.0), ('https://cdn.jsdelivr.net/ghost/portal@~2.30/umd/portal.min.js', 170.8154296875), ('https://cdn.jsdelivr.net/ghost/sodo-search@~1.1/umd/sodo-search.min.js', 95.5751953125), ('/blog/public/cards.min.js?v=22080dfa02', 0.0), ('/blog/public/member-attribution.min.js?v=22080dfa02', 0.0), ('https://www.googletagmanager.com/gtag/js?id=UA-147725948-3', 0.0), ('https://polyfill.io/v3/polyfill.min.js?features=IntersectionObserver%2CPromise%2CArray.prototype.includes%2CString.prototype.endsWith%2CString.prototype.startsWith%2CObject.assign%2CNodeList.prototype.forEach', 14.1123046875), ('/blog/assets/js/vendor/content-api.min.js?v=22080dfa02', 0.0), ('/blog/assets/js/manifest.js?v=22080dfa02', 0.0), ('/blog/assets/js/vendor.js?v=22080dfa02', 0.0), ('/blog/assets/js/app.js?v=22080dfa02', 0.0), ('/blog/assets/js/post.js?v=22080dfa02', 0.0), ('/blog/assets/css/app.css?v=22080dfa02', 0.0), ('/blog/public/cards.min.css?v=22080dfa02', 0.0)]\n",
      "Analyzing 293 of 523: https://wa.me/?text=5%20Habits%20of%20Highly%20Successful%20Teens%20%F0%9F%9A%80%20https://fampay.in/blog/5-habits-of-highly-successful-teens/\n",
      "Page size: 165.255859375 KB\n",
      "Resource sizes: [('https://static.whatsapp.net/rsrc.php/v3/yq/r/mdQNdcFMi0p.png', 28.833984375), ('https://static.whatsapp.net/rsrc.php/v3/y7/r/DSxOAUB0raA.png', 28.7744140625), ('https://static.whatsapp.net/rsrc.php/v3/yJ/r/Qhrnh5evyPV.png', 1.193359375), ('https://static.whatsapp.net/rsrc.php/v3/yJ/r/Qhrnh5evyPV.png', 1.193359375), ('https://static.whatsapp.net/rsrc.php/v3/y6/r/TcHIu29ealS.js?_nc_x=Ij3Wp8lg5Kz', 104.8037109375), ('https://static.whatsapp.net/rsrc.php/v3/yO/l/0,cross/zkmfh5mjXuB.css?_nc_x=Ij3Wp8lg5Kz', 1.318359375), ('https://static.whatsapp.net/rsrc.php/v3/yi/l/0,cross/TngFvC3f-F7.css?_nc_x=Ij3Wp8lg5Kz', 14.91796875), ('https://static.whatsapp.net/rsrc.php/v3/yX/l/0,cross/90x4oEKKKqw.css?_nc_x=Ij3Wp8lg5Kz', 9.01953125)]\n",
      "Analyzing 294 of 523: https://www.facebook.com/sharer/sharer.php?u=https://fampay.in/blog/5-habits-of-highly-successful-teens/\n",
      "Page size: 16.9775390625 KB\n",
      "Resource sizes: [('https://static.xx.fbcdn.net/rsrc.php/v3/y8/r/k97pj8-or6s.png', 0.7900390625), ('https://facebook.com/security/hsts-pixel.gif?c=3.2', 0.0)]\n",
      "Analyzing 295 of 523: https://twitter.com/intent/tweet?text=5%20Habits%20of%20Highly%20Successful%20Teens%20%F0%9F%9A%80&url=https://fampay.in/blog/5-habits-of-highly-successful-teens/\n",
      "Page size: 168.0166015625 KB\n",
      "Resource sizes: [('https://abs.twimg.com/errors/logo46x38.png', 0.9912109375), ('https://abs.twimg.com/responsive-web/client-web-legacy/shared~bundle.Compose~bundle.RichTextCompose.a2fa6b8a.js', 52.9111328125), ('https://abs.twimg.com/responsive-web/client-web-legacy/polyfills.d5242a4a.js', 17.72265625), ('https://abs.twimg.com/responsive-web/client-web-legacy/vendor.3cb7d15a.js', 218.7216796875), ('https://abs.twimg.com/responsive-web/client-web-legacy/i18n/en.213585ba.js', 114.365234375), ('https://abs.twimg.com/responsive-web/client-web-legacy/main.79ac570a.js', 408.1171875)]\n",
      "Analyzing 296 of 523: https://famapp.in/blog/mental-health-matters-5-things-to-remember-while-in-quarantine/\n",
      "Page size: 42.697265625 KB\n",
      "Resource sizes: [('https://fampay.in/blog/content/images/2020/11/logofilewhite-11-2.png', 0.130859375), ('https://fampay.in/blog/content/images/2020/11/logofilewhite-11-2.png', 0.130859375), ('https://fampay.in/blog/content/images/2020/10/giphy-1.gif', 0.130859375), ('https://fampay.in/blog/content/images/2020/10/giphy.gif', 0.130859375), ('https://fampay.in/blog/content/images/2020/10/IMG_3707_2_20_1_50.jpg', 0.130859375), ('https://fampay.in/blog/content/images/2020/10/tenor-3.gif', 0.130859375), ('https://fampay.in/blog/content/images/2020/10/tumblr_lm6vvcpwaW1qazdhko1_500.gif', 0.130859375), ('https://fampay.in/blog/content/images/2020/10/jJ8NnQ4.gif', 0.130859375), ('/blog/assets/images/success.png?v=22080dfa02', 0.0), ('https://cdn.jsdelivr.net/ghost/portal@~2.30/umd/portal.min.js', 170.8154296875), ('https://cdn.jsdelivr.net/ghost/sodo-search@~1.1/umd/sodo-search.min.js', 95.5751953125), ('/blog/public/cards.min.js?v=22080dfa02', 0.0), ('/blog/public/member-attribution.min.js?v=22080dfa02', 0.0), ('https://www.googletagmanager.com/gtag/js?id=UA-147725948-3', 0.0), ('https://polyfill.io/v3/polyfill.min.js?features=IntersectionObserver%2CPromise%2CArray.prototype.includes%2CString.prototype.endsWith%2CString.prototype.startsWith%2CObject.assign%2CNodeList.prototype.forEach', 14.1123046875), ('/blog/assets/js/vendor/content-api.min.js?v=22080dfa02', 0.0), ('/blog/assets/js/manifest.js?v=22080dfa02', 0.0), ('/blog/assets/js/vendor.js?v=22080dfa02', 0.0), ('/blog/assets/js/app.js?v=22080dfa02', 0.0), ('/blog/assets/js/post.js?v=22080dfa02', 0.0), ('/blog/assets/css/app.css?v=22080dfa02', 0.0), ('/blog/public/cards.min.css?v=22080dfa02', 0.0)]\n",
      "Analyzing 297 of 523: https://wa.me/?text=Mental%20Health%20Matters%3A%205%20Things%20to%20Remember%20While%20in%20Quarantine%20https://fampay.in/blog/mental-health-matters-5-things-to-remember-while-in-quarantine/\n",
      "Page size: 165.4794921875 KB\n",
      "Resource sizes: [('https://static.whatsapp.net/rsrc.php/v3/yq/r/mdQNdcFMi0p.png', 28.833984375), ('https://static.whatsapp.net/rsrc.php/v3/y7/r/DSxOAUB0raA.png', 28.7744140625), ('https://static.whatsapp.net/rsrc.php/v3/yJ/r/Qhrnh5evyPV.png', 1.193359375), ('https://static.whatsapp.net/rsrc.php/v3/yJ/r/Qhrnh5evyPV.png', 1.193359375), ('https://static.whatsapp.net/rsrc.php/v3/y6/r/TcHIu29ealS.js?_nc_x=Ij3Wp8lg5Kz', 104.8037109375), ('https://static.whatsapp.net/rsrc.php/v3/yO/l/0,cross/zkmfh5mjXuB.css?_nc_x=Ij3Wp8lg5Kz', 1.318359375), ('https://static.whatsapp.net/rsrc.php/v3/yi/l/0,cross/TngFvC3f-F7.css?_nc_x=Ij3Wp8lg5Kz', 14.91796875), ('https://static.whatsapp.net/rsrc.php/v3/yX/l/0,cross/90x4oEKKKqw.css?_nc_x=Ij3Wp8lg5Kz', 9.01953125)]\n",
      "Analyzing 298 of 523: https://www.facebook.com/sharer/sharer.php?u=https://fampay.in/blog/mental-health-matters-5-things-to-remember-while-in-quarantine/\n",
      "Page size: 17.1572265625 KB\n",
      "Resource sizes: [('https://static.xx.fbcdn.net/rsrc.php/v3/y8/r/k97pj8-or6s.png', 0.7900390625), ('https://facebook.com/security/hsts-pixel.gif?c=3.2', 0.0)]\n",
      "Analyzing 299 of 523: https://twitter.com/intent/tweet?text=Mental%20Health%20Matters%3A%205%20Things%20to%20Remember%20While%20in%20Quarantine&url=https://fampay.in/blog/mental-health-matters-5-things-to-remember-while-in-quarantine/\n",
      "Page size: 168.05859375 KB\n",
      "Resource sizes: [('https://abs.twimg.com/errors/logo46x38.png', 0.9912109375), ('https://abs.twimg.com/responsive-web/client-web-legacy/shared~bundle.Compose~bundle.RichTextCompose.a2fa6b8a.js', 52.9111328125), ('https://abs.twimg.com/responsive-web/client-web-legacy/polyfills.d5242a4a.js', 17.72265625), ('https://abs.twimg.com/responsive-web/client-web-legacy/vendor.3cb7d15a.js', 218.7216796875), ('https://abs.twimg.com/responsive-web/client-web-legacy/i18n/en.213585ba.js', 114.365234375), ('https://abs.twimg.com/responsive-web/client-web-legacy/main.79ac570a.js', 408.1171875)]\n",
      "Analyzing 300 of 523: https://famapp.in/blog/top-5-platforms-for-students-to-learn-new-things/\n",
      "Page size: 43.5234375 KB\n",
      "Resource sizes: [('https://fampay.in/blog/content/images/2020/11/logofilewhite-11-2.png', 0.130859375), ('https://fampay.in/blog/content/images/2020/11/logofilewhite-11-2.png', 0.130859375), ('https://lh5.googleusercontent.com/aYqNOXImMrMzdQNFFIv6pdex-z8JadLBJGUml4qzW7LIDJx68WRQKsvs6g7GZYHSecyMDpM7g5Ez0mYn_8FBZBQSsfQAfo6x2U5Xaln5we2ZqIhLciOTgqcuuMsyFlygn7mBOzk', 0.0), ('https://lh6.googleusercontent.com/tK2fJ4jqNkag5JC3tn1cSUosM6QjWhVQxLCQ5-Fpljz46raDfI5B7v95rMicsE9Ryl_CP-3BOLO433ioNkp27ukGyFU_R-IPF--DNhbgVcWbJHygSgXV3hbZsoLc0yXY2sFMDrk', 0.0), ('https://lh5.googleusercontent.com/lxM6DG-FD6IcjIJTvliJrfrqcax7Bh52KUTq5UiKFLZXDMob4SsPqqIZY9HYA_uaLN8M8Cn6kobegv-sNNT51rjn7TWCwq7S48usn385wP744cw0oKZ7sAFgVUeknoGPIQ7d0ZM', 0.0), ('https://lh3.googleusercontent.com/fiewE_k1TPXsOUPqhDs6_Tx54h0MC6nW6uCam6OyzALF2CmCG0qw4GL_YPq_1lvxrkkvx60T9yK-En3sC7dSUP0sPeqDlh6wAfSkZAgkY6Tg7STRLlwrxg1M-M3y8WuOYNF8Z98', 0.0), ('https://lh6.googleusercontent.com/TnXJGmOugfg6AnBNH-bDFAlvSrNBpy15p0u_VwaTDfqnArrhIs6YJ3fPeKncSLXkzOIrhxprGsifh3U7EuuSSr2LqCUZBen1VzDgPFtYHDab9M3FAsFA3nghqkRln3msihOuaTo', 0.0), ('/blog/assets/images/success.png?v=22080dfa02', 0.0), ('https://cdn.jsdelivr.net/ghost/portal@~2.30/umd/portal.min.js', 170.8154296875), ('https://cdn.jsdelivr.net/ghost/sodo-search@~1.1/umd/sodo-search.min.js', 95.5751953125), ('/blog/public/cards.min.js?v=22080dfa02', 0.0), ('/blog/public/member-attribution.min.js?v=22080dfa02', 0.0), ('https://www.googletagmanager.com/gtag/js?id=UA-147725948-3', 0.0), ('https://polyfill.io/v3/polyfill.min.js?features=IntersectionObserver%2CPromise%2CArray.prototype.includes%2CString.prototype.endsWith%2CString.prototype.startsWith%2CObject.assign%2CNodeList.prototype.forEach', 14.1123046875), ('/blog/assets/js/vendor/content-api.min.js?v=22080dfa02', 0.0), ('/blog/assets/js/manifest.js?v=22080dfa02', 0.0), ('/blog/assets/js/vendor.js?v=22080dfa02', 0.0), ('/blog/assets/js/app.js?v=22080dfa02', 0.0), ('/blog/assets/js/post.js?v=22080dfa02', 0.0), ('/blog/assets/css/app.css?v=22080dfa02', 0.0), ('/blog/public/cards.min.css?v=22080dfa02', 0.0)]\n",
      "Analyzing 301 of 523: https://wa.me/?text=Top%205%20Platforms%20for%20Students%20to%20Learn%20New%20Things%20%F0%9F%93%9A%F0%9F%93%96%F0%9F%93%95%20https://fampay.in/blog/top-5-platforms-for-students-to-learn-new-things/\n",
      "Page size: 165.48828125 KB\n",
      "Resource sizes: [('https://static.whatsapp.net/rsrc.php/v3/yq/r/mdQNdcFMi0p.png', 28.833984375), ('https://static.whatsapp.net/rsrc.php/v3/y7/r/DSxOAUB0raA.png', 28.7744140625), ('https://static.whatsapp.net/rsrc.php/v3/yJ/r/Qhrnh5evyPV.png', 1.193359375), ('https://static.whatsapp.net/rsrc.php/v3/yJ/r/Qhrnh5evyPV.png', 1.193359375), ('https://static.whatsapp.net/rsrc.php/v3/y6/r/TcHIu29ealS.js?_nc_x=Ij3Wp8lg5Kz', 104.8037109375), ('https://static.whatsapp.net/rsrc.php/v3/yO/l/0,cross/zkmfh5mjXuB.css?_nc_x=Ij3Wp8lg5Kz', 1.318359375), ('https://static.whatsapp.net/rsrc.php/v3/yi/l/0,cross/TngFvC3f-F7.css?_nc_x=Ij3Wp8lg5Kz', 14.91796875), ('https://static.whatsapp.net/rsrc.php/v3/yX/l/0,cross/90x4oEKKKqw.css?_nc_x=Ij3Wp8lg5Kz', 9.01953125)]\n",
      "Analyzing 302 of 523: https://www.facebook.com/sharer/sharer.php?u=https://fampay.in/blog/top-5-platforms-for-students-to-learn-new-things/\n",
      "Page size: 17.0615234375 KB\n",
      "Resource sizes: [('https://static.xx.fbcdn.net/rsrc.php/v3/y8/r/k97pj8-or6s.png', 0.7900390625), ('https://facebook.com/security/hsts-pixel.gif?c=3.2', 0.0)]\n",
      "Analyzing 303 of 523: https://twitter.com/intent/tweet?text=Top%205%20Platforms%20for%20Students%20to%20Learn%20New%20Things%20%F0%9F%93%9A%F0%9F%93%96%F0%9F%93%95&url=https://fampay.in/blog/top-5-platforms-for-students-to-learn-new-things/\n",
      "Page size: 167.810546875 KB\n",
      "Resource sizes: [('https://abs.twimg.com/errors/logo46x38.png', 0.9912109375), ('https://abs.twimg.com/responsive-web/client-web-legacy/shared~bundle.Compose~bundle.RichTextCompose.a2fa6b8a.js', 52.9111328125), ('https://abs.twimg.com/responsive-web/client-web-legacy/polyfills.d5242a4a.js', 17.72265625), ('https://abs.twimg.com/responsive-web/client-web-legacy/vendor.3cb7d15a.js', 218.7216796875), ('https://abs.twimg.com/responsive-web/client-web-legacy/i18n/en.213585ba.js', 114.365234375), ('https://abs.twimg.com/responsive-web/client-web-legacy/main.79ac570a.js', 408.1171875)]\n",
      "Analyzing 304 of 523: https://famapp.in/blog/from-teenage-to-teen-entrepreneurs-make-your-story-inspiring/\n",
      "Page size: 46.23046875 KB\n",
      "Resource sizes: [('https://fampay.in/blog/content/images/2020/11/logofilewhite-11-2.png', 0.130859375), ('https://fampay.in/blog/content/images/2020/11/logofilewhite-11-2.png', 0.130859375), ('https://fampay.in/blog/content/images/2020/09/idea-1.jpg', 0.130859375), ('https://lh3.googleusercontent.com/kESbEFs2Was7GL9GJ8rv8KaiGbN4sbQXG8qSQasbK8rZTLI2-i4dK2y3fCbBDBbhtb_PirZjkk2hujj6OFHvZ1zk2As_fO7SpWZ0L0BsE4aGZaLvXF18jE7ubPkO1jee05nVUd0', 0.0), ('https://fampay.in/blog/content/images/2020/09/motivated.jpg', 0.130859375), ('https://lh5.googleusercontent.com/AtdOJsqJMMVFBiANyAemK3HpdRDqDlv5PgK7CBh7OC7d5jmtTqHaHiEgwVbG9sZaq1tEliv5coh95CX_4YS6WSpA78tP3_XuDJZBJb5rExzIZWjCtIHDDGB5l48HrA', 0.0), ('https://fampay.in/blog/content/images/2020/09/research.jpg', 0.130859375), ('https://fampay.in/blog/content/images/2020/09/audience.jpg', 0.130859375), ('https://fampay.in/blog/content/images/2020/09/cost.jpg', 0.130859375), ('/blog/assets/images/success.png?v=22080dfa02', 0.0), ('https://cdn.jsdelivr.net/ghost/portal@~2.30/umd/portal.min.js', 170.8154296875), ('https://cdn.jsdelivr.net/ghost/sodo-search@~1.1/umd/sodo-search.min.js', 95.5751953125), ('/blog/public/cards.min.js?v=22080dfa02', 0.0), ('/blog/public/member-attribution.min.js?v=22080dfa02', 0.0), ('https://www.googletagmanager.com/gtag/js?id=UA-147725948-3', 0.0), ('https://polyfill.io/v3/polyfill.min.js?features=IntersectionObserver%2CPromise%2CArray.prototype.includes%2CString.prototype.endsWith%2CString.prototype.startsWith%2CObject.assign%2CNodeList.prototype.forEach', 14.1123046875), ('/blog/assets/js/vendor/content-api.min.js?v=22080dfa02', 0.0), ('/blog/assets/js/manifest.js?v=22080dfa02', 0.0), ('/blog/assets/js/vendor.js?v=22080dfa02', 0.0), ('/blog/assets/js/app.js?v=22080dfa02', 0.0), ('/blog/assets/js/post.js?v=22080dfa02', 0.0), ('/blog/assets/css/app.css?v=22080dfa02', 0.0), ('/blog/public/cards.min.css?v=22080dfa02', 0.0)]\n",
      "Analyzing 305 of 523: https://wa.me/?text=From%20Teenage%20to%20Teen%20Entrepreneurs%20-%20Make%20your%20Story%20Inspiring%20%F0%9F%96%A5%EF%B8%8F%F0%9F%91%A9%E2%80%8D%F0%9F%92%BC%F0%9F%91%A8%E2%80%8D%F0%9F%92%BC%20https://fampay.in/blog/from-teenage-to-teen-entrepreneurs-make-your-story-inspiring/\n",
      "Page size: 165.7607421875 KB\n",
      "Resource sizes: [('https://static.whatsapp.net/rsrc.php/v3/yq/r/mdQNdcFMi0p.png', 28.833984375), ('https://static.whatsapp.net/rsrc.php/v3/y7/r/DSxOAUB0raA.png', 28.7744140625), ('https://static.whatsapp.net/rsrc.php/v3/yJ/r/Qhrnh5evyPV.png', 1.193359375), ('https://static.whatsapp.net/rsrc.php/v3/yJ/r/Qhrnh5evyPV.png', 1.193359375), ('https://static.whatsapp.net/rsrc.php/v3/y6/r/TcHIu29ealS.js?_nc_x=Ij3Wp8lg5Kz', 104.8037109375), ('https://static.whatsapp.net/rsrc.php/v3/yO/l/0,cross/zkmfh5mjXuB.css?_nc_x=Ij3Wp8lg5Kz', 1.318359375), ('https://static.whatsapp.net/rsrc.php/v3/yi/l/0,cross/TngFvC3f-F7.css?_nc_x=Ij3Wp8lg5Kz', 14.91796875), ('https://static.whatsapp.net/rsrc.php/v3/yX/l/0,cross/90x4oEKKKqw.css?_nc_x=Ij3Wp8lg5Kz', 9.01953125)]\n",
      "Analyzing 306 of 523: https://www.facebook.com/sharer/sharer.php?u=https://fampay.in/blog/from-teenage-to-teen-entrepreneurs-make-your-story-inspiring/\n",
      "Page size: 17.1435546875 KB\n",
      "Resource sizes: [('https://static.xx.fbcdn.net/rsrc.php/v3/y8/r/k97pj8-or6s.png', 0.7900390625), ('https://facebook.com/security/hsts-pixel.gif?c=3.2', 0.0)]\n",
      "Analyzing 307 of 523: https://twitter.com/intent/tweet?text=From%20Teenage%20to%20Teen%20Entrepreneurs%20-%20Make%20your%20Story%20Inspiring%20%F0%9F%96%A5%EF%B8%8F%F0%9F%91%A9%E2%80%8D%F0%9F%92%BC%F0%9F%91%A8%E2%80%8D%F0%9F%92%BC&url=https://fampay.in/blog/from-teenage-to-teen-entrepreneurs-make-your-story-inspiring/\n",
      "Page size: 167.810546875 KB\n",
      "Resource sizes: [('https://abs.twimg.com/errors/logo46x38.png', 0.9912109375), ('https://abs.twimg.com/responsive-web/client-web-legacy/shared~bundle.Compose~bundle.RichTextCompose.a2fa6b8a.js', 52.9111328125), ('https://abs.twimg.com/responsive-web/client-web-legacy/polyfills.d5242a4a.js', 17.72265625), ('https://abs.twimg.com/responsive-web/client-web-legacy/vendor.3cb7d15a.js', 218.7216796875), ('https://abs.twimg.com/responsive-web/client-web-legacy/i18n/en.213585ba.js', 114.365234375), ('https://abs.twimg.com/responsive-web/client-web-legacy/main.79ac570a.js', 408.1171875)]\n",
      "Analyzing 308 of 523: https://famapp.in/blog/top-4-head-turning-fashion-tips-and-trends-for-the-sassy-gen-z/\n",
      "Page size: 44.05078125 KB\n",
      "Resource sizes: [('https://fampay.in/blog/content/images/2020/11/logofilewhite-11-2.png', 0.130859375), ('https://fampay.in/blog/content/images/2020/11/logofilewhite-11-2.png', 0.130859375), ('https://fampay.in/blog/content/images/2020/06/image-24.png', 0.130859375), ('https://fampay.in/blog/content/images/2020/08/Fashion-Blog.jpeg', 0.130859375), ('https://fampay.in/blog/content/images/2020/08/image-11.png', 0.130859375), ('https://fampay.in/blog/content/images/2020/06/image-27.png', 0.130859375), ('/blog/assets/images/success.png?v=22080dfa02', 0.0), ('https://cdn.jsdelivr.net/ghost/portal@~2.30/umd/portal.min.js', 170.8154296875), ('https://cdn.jsdelivr.net/ghost/sodo-search@~1.1/umd/sodo-search.min.js', 95.5751953125), ('/blog/public/cards.min.js?v=22080dfa02', 0.0), ('/blog/public/member-attribution.min.js?v=22080dfa02', 0.0), ('https://www.googletagmanager.com/gtag/js?id=UA-147725948-3', 0.0), ('https://polyfill.io/v3/polyfill.min.js?features=IntersectionObserver%2CPromise%2CArray.prototype.includes%2CString.prototype.endsWith%2CString.prototype.startsWith%2CObject.assign%2CNodeList.prototype.forEach', 14.1123046875), ('/blog/assets/js/vendor/content-api.min.js?v=22080dfa02', 0.0), ('/blog/assets/js/manifest.js?v=22080dfa02', 0.0), ('/blog/assets/js/vendor.js?v=22080dfa02', 0.0), ('/blog/assets/js/app.js?v=22080dfa02', 0.0), ('/blog/assets/js/post.js?v=22080dfa02', 0.0), ('/blog/assets/css/app.css?v=22080dfa02', 0.0), ('/blog/public/cards.min.css?v=22080dfa02', 0.0)]\n",
      "Analyzing 309 of 523: https://wa.me/?text=Top%204%20Head-Turning%20Fashion%20Tips%20and%20Trends%20For%20The%20Sassy%20Gen%20Z%20%F0%9F%A4%B3%F0%9F%A4%A9%F0%9F%91%B8%F0%9F%A4%B4%20https://fampay.in/blog/top-4-head-turning-fashion-tips-and-trends-for-the-sassy-gen-z/\n",
      "Page size: 165.6806640625 KB\n",
      "Resource sizes: [('https://static.whatsapp.net/rsrc.php/v3/yq/r/mdQNdcFMi0p.png', 28.833984375), ('https://static.whatsapp.net/rsrc.php/v3/y7/r/DSxOAUB0raA.png', 28.7744140625), ('https://static.whatsapp.net/rsrc.php/v3/yJ/r/Qhrnh5evyPV.png', 1.193359375), ('https://static.whatsapp.net/rsrc.php/v3/yJ/r/Qhrnh5evyPV.png', 1.193359375), ('https://static.whatsapp.net/rsrc.php/v3/y6/r/TcHIu29ealS.js?_nc_x=Ij3Wp8lg5Kz', 104.8037109375), ('https://static.whatsapp.net/rsrc.php/v3/yO/l/0,cross/zkmfh5mjXuB.css?_nc_x=Ij3Wp8lg5Kz', 1.318359375), ('https://static.whatsapp.net/rsrc.php/v3/yi/l/0,cross/TngFvC3f-F7.css?_nc_x=Ij3Wp8lg5Kz', 14.91796875), ('https://static.whatsapp.net/rsrc.php/v3/yX/l/0,cross/90x4oEKKKqw.css?_nc_x=Ij3Wp8lg5Kz', 9.01953125)]\n",
      "Analyzing 310 of 523: https://www.facebook.com/sharer/sharer.php?u=https://fampay.in/blog/top-4-head-turning-fashion-tips-and-trends-for-the-sassy-gen-z/\n",
      "Page size: 17.1572265625 KB\n",
      "Resource sizes: [('https://static.xx.fbcdn.net/rsrc.php/v3/y8/r/k97pj8-or6s.png', 0.7900390625), ('https://facebook.com/security/hsts-pixel.gif?c=3.2', 0.0)]\n",
      "Analyzing 311 of 523: https://twitter.com/intent/tweet?text=Top%204%20Head-Turning%20Fashion%20Tips%20and%20Trends%20For%20The%20Sassy%20Gen%20Z%20%F0%9F%A4%B3%F0%9F%A4%A9%F0%9F%91%B8%F0%9F%A4%B4&url=https://fampay.in/blog/top-4-head-turning-fashion-tips-and-trends-for-the-sassy-gen-z/\n",
      "Page size: 167.86328125 KB\n",
      "Resource sizes: [('https://abs.twimg.com/errors/logo46x38.png', 0.9912109375), ('https://abs.twimg.com/responsive-web/client-web-legacy/shared~bundle.Compose~bundle.RichTextCompose.a2fa6b8a.js', 52.9111328125), ('https://abs.twimg.com/responsive-web/client-web-legacy/polyfills.d5242a4a.js', 17.72265625), ('https://abs.twimg.com/responsive-web/client-web-legacy/vendor.3cb7d15a.js', 218.7216796875), ('https://abs.twimg.com/responsive-web/client-web-legacy/i18n/en.213585ba.js', 114.365234375), ('https://abs.twimg.com/responsive-web/client-web-legacy/main.79ac570a.js', 408.1171875)]\n",
      "Analyzing 312 of 523: https://get.fampay.in/\n",
      "Page size: 30.951171875 KB\n",
      "Resource sizes: [('https://www.gstatic.com/_/mss/boq-devplatform/_/js/k=boq-devplatform.DurableDeepLinkUi.en_US.UW_F_IDsnEU.es5.O/am=gHMGQAg/d=1/excm=_b,_r,_tp,viewddl/ed=1/dg=0/wt=2/ujg=1/rs=ADpVLP7fMKgUSl268aiuCiLyienJqP5l6w/m=_b,_tp,_r', 61.1943359375)]\n",
      "Analyzing 313 of 523: https://famapp.in/blog/gen-z-gaming-how-to-make-real-money-by-playing-video-games/\n",
      "Page size: 44.462890625 KB\n",
      "Resource sizes: [('https://fampay.in/blog/content/images/2020/11/logofilewhite-11-2.png', 0.130859375), ('https://fampay.in/blog/content/images/2020/11/logofilewhite-11-2.png', 0.130859375), ('https://fampay.in/blog/content/images/2020/06/gaing1.gif', 0.130859375), ('https://fampay.in/blog/content/images/2020/06/gaming-2.gif', 0.130859375), ('https://fampay.in/blog/content/images/2020/06/gaming-3.gif', 0.130859375), ('https://fampay.in/blog/content/images/2020/06/gaming4.gif', 0.130859375), ('https://fampay.in/blog/content/images/2020/06/gaming5-1.gif', 0.130859375), ('https://fampay.in/blog/content/images/2020/06/gaming6.gif', 0.130859375), ('https://fampay.in/blog/content/images/2020/06/gaming9.gif', 0.130859375), ('https://fampay.in/blog/content/images/2020/06/gaming10.gif', 0.130859375), ('https://fampay.in/blog/content/images/2020/06/gaming11.gif', 0.130859375), ('https://fampay.in/blog/content/images/2020/06/gaming12.gif', 0.130859375), ('https://fampay.in/blog/content/images/2020/06/gaming13.gif', 0.130859375), ('https://fampay.in/blog/content/images/2020/06/gaming-7.gif', 0.130859375), ('https://fampay.in/blog/content/images/2020/06/gaming-8.gif', 0.130859375), ('/blog/assets/images/success.png?v=22080dfa02', 0.0), ('https://cdn.jsdelivr.net/ghost/portal@~2.30/umd/portal.min.js', 170.8154296875), ('https://cdn.jsdelivr.net/ghost/sodo-search@~1.1/umd/sodo-search.min.js', 95.5751953125), ('/blog/public/cards.min.js?v=22080dfa02', 0.0), ('/blog/public/member-attribution.min.js?v=22080dfa02', 0.0), ('https://www.googletagmanager.com/gtag/js?id=UA-147725948-3', 0.0), ('https://polyfill.io/v3/polyfill.min.js?features=IntersectionObserver%2CPromise%2CArray.prototype.includes%2CString.prototype.endsWith%2CString.prototype.startsWith%2CObject.assign%2CNodeList.prototype.forEach', 14.1123046875), ('/blog/assets/js/vendor/content-api.min.js?v=22080dfa02', 0.0), ('/blog/assets/js/manifest.js?v=22080dfa02', 0.0), ('/blog/assets/js/vendor.js?v=22080dfa02', 0.0), ('/blog/assets/js/app.js?v=22080dfa02', 0.0), ('/blog/assets/js/post.js?v=22080dfa02', 0.0), ('/blog/assets/css/app.css?v=22080dfa02', 0.0), ('/blog/public/cards.min.css?v=22080dfa02', 0.0)]\n",
      "Analyzing 314 of 523: https://wa.me/?text=Gen%20Z%20%26%20Gaming%3A%20How%20To%20Make%20Real%20Money%20By%20Playing%20Video%20Games%3F%20%F0%9F%8E%AE%20https://fampay.in/blog/gen-z-gaming-how-to-make-real-money-by-playing-video-games/\n",
      "Page size: 165.544921875 KB\n",
      "Resource sizes: [('https://static.whatsapp.net/rsrc.php/v3/yq/r/mdQNdcFMi0p.png', 28.833984375), ('https://static.whatsapp.net/rsrc.php/v3/y7/r/DSxOAUB0raA.png', 28.7744140625), ('https://static.whatsapp.net/rsrc.php/v3/yJ/r/Qhrnh5evyPV.png', 1.193359375), ('https://static.whatsapp.net/rsrc.php/v3/yJ/r/Qhrnh5evyPV.png', 1.193359375), ('https://static.whatsapp.net/rsrc.php/v3/y6/r/TcHIu29ealS.js?_nc_x=Ij3Wp8lg5Kz', 104.8037109375), ('https://static.whatsapp.net/rsrc.php/v3/yO/l/0,cross/zkmfh5mjXuB.css?_nc_x=Ij3Wp8lg5Kz', 1.318359375), ('https://static.whatsapp.net/rsrc.php/v3/yi/l/0,cross/TngFvC3f-F7.css?_nc_x=Ij3Wp8lg5Kz', 14.91796875), ('https://static.whatsapp.net/rsrc.php/v3/yX/l/0,cross/90x4oEKKKqw.css?_nc_x=Ij3Wp8lg5Kz', 9.01953125)]\n",
      "Analyzing 315 of 523: https://www.facebook.com/sharer/sharer.php?u=https://fampay.in/blog/gen-z-gaming-how-to-make-real-money-by-playing-video-games/\n",
      "Page size: 17.134765625 KB\n",
      "Resource sizes: [('https://static.xx.fbcdn.net/rsrc.php/v3/y8/r/k97pj8-or6s.png', 0.7900390625), ('https://facebook.com/security/hsts-pixel.gif?c=3.2', 0.0)]\n",
      "Analyzing 316 of 523: https://twitter.com/intent/tweet?text=Gen%20Z%20%26%20Gaming%3A%20How%20To%20Make%20Real%20Money%20By%20Playing%20Video%20Games%3F%20%F0%9F%8E%AE&url=https://fampay.in/blog/gen-z-gaming-how-to-make-real-money-by-playing-video-games/\n",
      "Page size: 167.810546875 KB\n",
      "Resource sizes: [('https://abs.twimg.com/errors/logo46x38.png', 0.9912109375), ('https://abs.twimg.com/responsive-web/client-web-legacy/shared~bundle.Compose~bundle.RichTextCompose.a2fa6b8a.js', 52.9111328125), ('https://abs.twimg.com/responsive-web/client-web-legacy/polyfills.d5242a4a.js', 17.72265625), ('https://abs.twimg.com/responsive-web/client-web-legacy/vendor.3cb7d15a.js', 218.7216796875), ('https://abs.twimg.com/responsive-web/client-web-legacy/i18n/en.213585ba.js', 114.365234375), ('https://abs.twimg.com/responsive-web/client-web-legacy/main.79ac570a.js', 408.1171875)]\n",
      "Analyzing 317 of 523: https://famapp.in/blog/teen-bucket-list-10-things-you-must-to-do-in-your-teens/\n",
      "Page size: 46.2607421875 KB\n",
      "Resource sizes: [('https://fampay.in/blog/content/images/2020/11/logofilewhite-11-2.png', 0.130859375), ('https://fampay.in/blog/content/images/2020/11/logofilewhite-11-2.png', 0.130859375), ('https://fampay.in/blog/content/images/2020/07/memories.jpg', 0.130859375), ('https://fampay.in/blog/content/images/2020/07/housecleaning.gif', 0.130859375), ('https://fampay.in/blog/content/images/2020/07/scrapbook.jpg', 0.130859375), ('https://fampay.in/blog/content/images/2020/07/gorgeous-mindset-vision-board-example.png', 0.130859375), ('https://fampay.in/blog/content/images/2020/07/photoshoot.jpg', 0.130859375), ('https://fampay.in/blog/content/images/2020/07/future-self.jpg', 0.130859375), ('https://fampay.in/blog/content/images/2020/07/exercise.png', 0.130859375), ('https://fampay.in/blog/content/images/2020/07/social.png', 0.130859375), ('https://fampay.in/blog/content/images/2020/07/volunteer.jpg', 0.130859375), ('https://fampay.in/blog/content/images/2020/07/saving.png', 0.130859375), ('https://fampay.in/blog/content/images/2020/07/cookinh.jpg', 0.130859375), ('https://fampay.in/blog/content/images/2020/07/famcard.png', 0.130859375), ('/blog/assets/images/success.png?v=22080dfa02', 0.0), ('https://cdn.jsdelivr.net/ghost/portal@~2.30/umd/portal.min.js', 170.8154296875), ('https://cdn.jsdelivr.net/ghost/sodo-search@~1.1/umd/sodo-search.min.js', 95.5751953125), ('/blog/public/cards.min.js?v=22080dfa02', 0.0), ('/blog/public/member-attribution.min.js?v=22080dfa02', 0.0), ('https://www.googletagmanager.com/gtag/js?id=UA-147725948-3', 0.0), ('https://polyfill.io/v3/polyfill.min.js?features=IntersectionObserver%2CPromise%2CArray.prototype.includes%2CString.prototype.endsWith%2CString.prototype.startsWith%2CObject.assign%2CNodeList.prototype.forEach', 14.1123046875), ('/blog/assets/js/vendor/content-api.min.js?v=22080dfa02', 0.0), ('/blog/assets/js/manifest.js?v=22080dfa02', 0.0), ('/blog/assets/js/vendor.js?v=22080dfa02', 0.0), ('/blog/assets/js/app.js?v=22080dfa02', 0.0), ('/blog/assets/js/post.js?v=22080dfa02', 0.0), ('/blog/assets/css/app.css?v=22080dfa02', 0.0), ('/blog/public/cards.min.css?v=22080dfa02', 0.0)]\n",
      "Analyzing 318 of 523: https://wa.me/?text=Teen%20bucket%20list%F0%9F%98%83%20-%2010%20things%20you%20must%20to%20do%20in%20your%20teens!%20https://fampay.in/blog/teen-bucket-list-10-things-you-must-to-do-in-your-teens/\n",
      "Page size: 165.474609375 KB\n",
      "Resource sizes: [('https://static.whatsapp.net/rsrc.php/v3/yq/r/mdQNdcFMi0p.png', 28.833984375), ('https://static.whatsapp.net/rsrc.php/v3/y7/r/DSxOAUB0raA.png', 28.7744140625), ('https://static.whatsapp.net/rsrc.php/v3/yJ/r/Qhrnh5evyPV.png', 1.193359375), ('https://static.whatsapp.net/rsrc.php/v3/yJ/r/Qhrnh5evyPV.png', 1.193359375), ('https://static.whatsapp.net/rsrc.php/v3/y6/r/TcHIu29ealS.js?_nc_x=Ij3Wp8lg5Kz', 104.8037109375), ('https://static.whatsapp.net/rsrc.php/v3/yO/l/0,cross/zkmfh5mjXuB.css?_nc_x=Ij3Wp8lg5Kz', 1.318359375), ('https://static.whatsapp.net/rsrc.php/v3/yi/l/0,cross/TngFvC3f-F7.css?_nc_x=Ij3Wp8lg5Kz', 14.91796875), ('https://static.whatsapp.net/rsrc.php/v3/yX/l/0,cross/90x4oEKKKqw.css?_nc_x=Ij3Wp8lg5Kz', 9.01953125)]\n",
      "Analyzing 319 of 523: https://www.facebook.com/sharer/sharer.php?u=https://fampay.in/blog/teen-bucket-list-10-things-you-must-to-do-in-your-teens/\n",
      "Page size: 17.109375 KB\n",
      "Resource sizes: [('https://static.xx.fbcdn.net/rsrc.php/v3/y8/r/k97pj8-or6s.png', 0.7900390625), ('https://facebook.com/security/hsts-pixel.gif?c=3.2', 0.0)]\n",
      "Analyzing 320 of 523: https://twitter.com/intent/tweet?text=Teen%20bucket%20list%F0%9F%98%83%20-%2010%20things%20you%20must%20to%20do%20in%20your%20teens!&url=https://fampay.in/blog/teen-bucket-list-10-things-you-must-to-do-in-your-teens/\n",
      "Page size: 167.810546875 KB\n",
      "Resource sizes: [('https://abs.twimg.com/errors/logo46x38.png', 0.9912109375), ('https://abs.twimg.com/responsive-web/client-web-legacy/shared~bundle.Compose~bundle.RichTextCompose.a2fa6b8a.js', 52.9111328125), ('https://abs.twimg.com/responsive-web/client-web-legacy/polyfills.d5242a4a.js', 17.72265625), ('https://abs.twimg.com/responsive-web/client-web-legacy/vendor.3cb7d15a.js', 218.7216796875), ('https://abs.twimg.com/responsive-web/client-web-legacy/i18n/en.213585ba.js', 114.365234375), ('https://abs.twimg.com/responsive-web/client-web-legacy/main.79ac570a.js', 408.1171875)]\n",
      "Analyzing 321 of 523: https://fampay.in/blog/jumpstart-your-career-5-unconventional-career-choices-for-genzs/\n",
      "Page size: 43.3564453125 KB\n",
      "Resource sizes: [('https://fampay.in/blog/content/images/2020/11/logofilewhite-11-2.png', 0.130859375), ('https://fampay.in/blog/content/images/2020/11/logofilewhite-11-2.png', 0.130859375), ('https://fampay.in/blog/content/images/2020/06/game-designer.gif', 0.130859375), ('https://fampay.in/blog/content/images/2020/06/social-content-creator.gif', 0.130859375), ('https://fampay.in/blog/content/images/2020/06/image-consultant.gif', 0.130859375), ('https://fampay.in/blog/content/images/2020/06/nutrition-blogger.gif', 0.130859375), ('https://fampay.in/blog/content/images/2020/06/baker.gif', 0.130859375), ('/blog/assets/images/success.png?v=22080dfa02', 0.130859375), ('https://cdn.jsdelivr.net/ghost/portal@~2.30/umd/portal.min.js', 170.8154296875), ('https://cdn.jsdelivr.net/ghost/sodo-search@~1.1/umd/sodo-search.min.js', 95.5751953125), ('/blog/public/cards.min.js?v=22080dfa02', 0.130859375), ('/blog/public/member-attribution.min.js?v=22080dfa02', 0.130859375), ('https://www.googletagmanager.com/gtag/js?id=UA-147725948-3', 0.0), ('https://polyfill.io/v3/polyfill.min.js?features=IntersectionObserver%2CPromise%2CArray.prototype.includes%2CString.prototype.endsWith%2CString.prototype.startsWith%2CObject.assign%2CNodeList.prototype.forEach', 14.1123046875), ('/blog/assets/js/vendor/content-api.min.js?v=22080dfa02', 0.130859375), ('/blog/assets/js/manifest.js?v=22080dfa02', 0.130859375), ('/blog/assets/js/vendor.js?v=22080dfa02', 0.130859375), ('/blog/assets/js/app.js?v=22080dfa02', 0.130859375), ('/blog/assets/js/post.js?v=22080dfa02', 0.130859375), ('/blog/assets/css/app.css?v=22080dfa02', 0.130859375), ('/blog/public/cards.min.css?v=22080dfa02', 0.130859375)]\n",
      "Analyzing 322 of 523: https://famapp.in/blog/looking-for-financial-independence-as-a-youngster-5-ways-to-earn-while-youre-young/\n",
      "Page size: 43.6865234375 KB\n",
      "Resource sizes: [('https://fampay.in/blog/content/images/2020/11/logofilewhite-11-2.png', 0.130859375), ('https://fampay.in/blog/content/images/2020/11/logofilewhite-11-2.png', 0.130859375), ('https://fampay.in/blog/content/images/2020/06/freelance-consultant.gif', 0.130859375), ('https://fampay.in/blog/content/images/2020/06/VA.gif', 0.130859375), ('https://fampay.in/blog/content/images/2020/06/craft-creator.gif', 0.130859375), ('https://fampay.in/blog/content/images/2020/06/contentcreator.gif', 0.130859375), ('https://fampay.in/blog/content/images/2020/06/affiliate-marketing.gif', 0.130859375), ('/blog/assets/images/success.png?v=22080dfa02', 0.0), ('https://cdn.jsdelivr.net/ghost/portal@~2.30/umd/portal.min.js', 170.8154296875), ('https://cdn.jsdelivr.net/ghost/sodo-search@~1.1/umd/sodo-search.min.js', 95.5751953125), ('/blog/public/cards.min.js?v=22080dfa02', 0.0), ('/blog/public/member-attribution.min.js?v=22080dfa02', 0.0), ('https://www.googletagmanager.com/gtag/js?id=UA-147725948-3', 0.0), ('https://polyfill.io/v3/polyfill.min.js?features=IntersectionObserver%2CPromise%2CArray.prototype.includes%2CString.prototype.endsWith%2CString.prototype.startsWith%2CObject.assign%2CNodeList.prototype.forEach', 14.1123046875), ('/blog/assets/js/vendor/content-api.min.js?v=22080dfa02', 0.0), ('/blog/assets/js/manifest.js?v=22080dfa02', 0.0), ('/blog/assets/js/vendor.js?v=22080dfa02', 0.0), ('/blog/assets/js/app.js?v=22080dfa02', 0.0), ('/blog/assets/js/post.js?v=22080dfa02', 0.0), ('/blog/assets/css/app.css?v=22080dfa02', 0.0), ('/blog/public/cards.min.css?v=22080dfa02', 0.0)]\n",
      "Analyzing 323 of 523: https://wa.me/?text=Looking%20for%20Financial%20Independence%20as%20a%20Youngster%3F%205%20Ways%20to%20Earn%20While%20you%E2%80%99re%20Young%F0%9F%A4%91%20https://fampay.in/blog/looking-for-financial-independence-as-a-youngster-5-ways-to-earn-while-youre-young/\n",
      "Page size: 165.78125 KB\n",
      "Resource sizes: [('https://static.whatsapp.net/rsrc.php/v3/yq/r/mdQNdcFMi0p.png', 28.833984375), ('https://static.whatsapp.net/rsrc.php/v3/y7/r/DSxOAUB0raA.png', 28.7744140625), ('https://static.whatsapp.net/rsrc.php/v3/yJ/r/Qhrnh5evyPV.png', 1.193359375), ('https://static.whatsapp.net/rsrc.php/v3/yJ/r/Qhrnh5evyPV.png', 1.193359375), ('https://static.whatsapp.net/rsrc.php/v3/y6/r/TcHIu29ealS.js?_nc_x=Ij3Wp8lg5Kz', 104.8037109375), ('https://static.whatsapp.net/rsrc.php/v3/yO/l/0,cross/zkmfh5mjXuB.css?_nc_x=Ij3Wp8lg5Kz', 1.318359375), ('https://static.whatsapp.net/rsrc.php/v3/yi/l/0,cross/TngFvC3f-F7.css?_nc_x=Ij3Wp8lg5Kz', 14.91796875), ('https://static.whatsapp.net/rsrc.php/v3/yX/l/0,cross/90x4oEKKKqw.css?_nc_x=Ij3Wp8lg5Kz', 9.01953125)]\n",
      "Analyzing 324 of 523: https://www.facebook.com/sharer/sharer.php?u=https://fampay.in/blog/looking-for-financial-independence-as-a-youngster-5-ways-to-earn-while-youre-young/\n",
      "Page size: 17.2939453125 KB\n",
      "Resource sizes: [('https://static.xx.fbcdn.net/rsrc.php/v3/y8/r/k97pj8-or6s.png', 0.7900390625), ('https://facebook.com/security/hsts-pixel.gif?c=3.2', 0.0)]\n",
      "Analyzing 325 of 523: https://twitter.com/intent/tweet?text=Looking%20for%20Financial%20Independence%20as%20a%20Youngster%3F%205%20Ways%20to%20Earn%20While%20you%E2%80%99re%20Young%F0%9F%A4%91&url=https://fampay.in/blog/looking-for-financial-independence-as-a-youngster-5-ways-to-earn-while-youre-young/\n",
      "Page size: 167.810546875 KB\n",
      "Resource sizes: [('https://abs.twimg.com/errors/logo46x38.png', 0.9912109375), ('https://abs.twimg.com/responsive-web/client-web-legacy/shared~bundle.Compose~bundle.RichTextCompose.a2fa6b8a.js', 52.9111328125), ('https://abs.twimg.com/responsive-web/client-web-legacy/polyfills.d5242a4a.js', 17.72265625), ('https://abs.twimg.com/responsive-web/client-web-legacy/vendor.3cb7d15a.js', 218.7216796875), ('https://abs.twimg.com/responsive-web/client-web-legacy/i18n/en.213585ba.js', 114.365234375), ('https://abs.twimg.com/responsive-web/client-web-legacy/main.79ac570a.js', 408.1171875)]\n",
      "Analyzing 326 of 523: https://famapp.in/blog/want-to-become-a-teenage-influencer-start-here/\n",
      "Page size: 46.359375 KB\n",
      "Resource sizes: [('https://fampay.in/blog/content/images/2020/11/logofilewhite-11-2.png', 0.130859375), ('https://fampay.in/blog/content/images/2020/11/logofilewhite-11-2.png', 0.130859375), ('https://fampay.in/blog/content/images/2020/06/image-15.png', 0.130859375), ('https://fampay.in/blog/content/images/2020/06/image-16.png', 0.130859375), ('https://fampay.in/blog/content/images/2020/06/image-17.png', 0.130859375), ('https://fampay.in/blog/content/images/2020/06/image-19.png', 0.130859375), ('https://fampay.in/blog/content/images/2020/06/image-18.png', 0.130859375), ('https://fampay.in/blog/content/images/2020/06/image-20.png', 0.130859375), ('file:///C:/Users/vardh/AppData/Local/Temp/msohtmlclip1/01/clip_image008.gif', 0.0), ('https://fampay.in/blog/content/images/2020/06/image-21.png', 0.130859375), ('https://fampay.in/blog/content/images/2020/06/image-22.png', 0.130859375), ('https://fampay.in/blog/content/images/2020/06/image-23.png', 0.130859375), ('/blog/assets/images/success.png?v=22080dfa02', 0.0), ('https://cdn.jsdelivr.net/ghost/portal@~2.30/umd/portal.min.js', 170.8154296875), ('https://cdn.jsdelivr.net/ghost/sodo-search@~1.1/umd/sodo-search.min.js', 95.5751953125), ('/blog/public/cards.min.js?v=22080dfa02', 0.0), ('/blog/public/member-attribution.min.js?v=22080dfa02', 0.0), ('https://www.googletagmanager.com/gtag/js?id=UA-147725948-3', 0.0), ('https://polyfill.io/v3/polyfill.min.js?features=IntersectionObserver%2CPromise%2CArray.prototype.includes%2CString.prototype.endsWith%2CString.prototype.startsWith%2CObject.assign%2CNodeList.prototype.forEach', 14.1123046875), ('/blog/assets/js/vendor/content-api.min.js?v=22080dfa02', 0.0), ('/blog/assets/js/manifest.js?v=22080dfa02', 0.0), ('/blog/assets/js/vendor.js?v=22080dfa02', 0.0), ('/blog/assets/js/app.js?v=22080dfa02', 0.0), ('/blog/assets/js/post.js?v=22080dfa02', 0.0), ('/blog/assets/css/app.css?v=22080dfa02', 0.0), ('/blog/public/cards.min.css?v=22080dfa02', 0.0)]\n",
      "Analyzing 327 of 523: https://wa.me/?text=Quick%20Guide%20to%20be%20a%20Teenfluencer%20%F0%9F%91%B8%F0%9F%A4%B4%20https://fampay.in/blog/want-to-become-a-teenage-influencer-start-here/\n",
      "Page size: 165.345703125 KB\n",
      "Resource sizes: [('https://static.whatsapp.net/rsrc.php/v3/yq/r/mdQNdcFMi0p.png', 28.833984375), ('https://static.whatsapp.net/rsrc.php/v3/y7/r/DSxOAUB0raA.png', 28.7744140625), ('https://static.whatsapp.net/rsrc.php/v3/yJ/r/Qhrnh5evyPV.png', 1.193359375), ('https://static.whatsapp.net/rsrc.php/v3/yJ/r/Qhrnh5evyPV.png', 1.193359375), ('https://static.whatsapp.net/rsrc.php/v3/y6/r/TcHIu29ealS.js?_nc_x=Ij3Wp8lg5Kz', 104.8037109375), ('https://static.whatsapp.net/rsrc.php/v3/yO/l/0,cross/zkmfh5mjXuB.css?_nc_x=Ij3Wp8lg5Kz', 1.318359375), ('https://static.whatsapp.net/rsrc.php/v3/yi/l/0,cross/TngFvC3f-F7.css?_nc_x=Ij3Wp8lg5Kz', 14.91796875), ('https://static.whatsapp.net/rsrc.php/v3/yX/l/0,cross/90x4oEKKKqw.css?_nc_x=Ij3Wp8lg5Kz', 9.01953125)]\n",
      "Analyzing 328 of 523: https://www.facebook.com/sharer/sharer.php?u=https://fampay.in/blog/want-to-become-a-teenage-influencer-start-here/\n",
      "Page size: 17.0478515625 KB\n",
      "Resource sizes: [('https://static.xx.fbcdn.net/rsrc.php/v3/y8/r/k97pj8-or6s.png', 0.7900390625), ('https://facebook.com/security/hsts-pixel.gif?c=3.2', 0.0)]\n",
      "Analyzing 329 of 523: https://twitter.com/intent/tweet?text=Quick%20Guide%20to%20be%20a%20Teenfluencer%20%F0%9F%91%B8%F0%9F%A4%B4&url=https://fampay.in/blog/want-to-become-a-teenage-influencer-start-here/\n",
      "Page size: 168.1552734375 KB\n",
      "Resource sizes: [('https://abs.twimg.com/errors/logo46x38.png', 0.9912109375), ('https://abs.twimg.com/responsive-web/client-web-legacy/shared~bundle.Compose~bundle.RichTextCompose.a2fa6b8a.js', 52.9111328125), ('https://abs.twimg.com/responsive-web/client-web-legacy/polyfills.d5242a4a.js', 17.72265625), ('https://abs.twimg.com/responsive-web/client-web-legacy/vendor.3cb7d15a.js', 218.7216796875), ('https://abs.twimg.com/responsive-web/client-web-legacy/i18n/en.213585ba.js', 114.365234375), ('https://abs.twimg.com/responsive-web/client-web-legacy/main.79ac570a.js', 408.1171875)]\n",
      "Analyzing 330 of 523: https://famapp.in/blog/tag/lifestyle/page/3/\n",
      "Page size: 24.96875 KB\n",
      "Resource sizes: [('https://fampay.in/blog/content/images/2020/11/logofilewhite-11-2.png', 0.130859375), ('https://fampay.in/blog/content/images/2020/11/logofilewhite-11-2.png', 0.130859375), ('https://cdn.jsdelivr.net/ghost/portal@~2.30/umd/portal.min.js', 170.8154296875), ('https://cdn.jsdelivr.net/ghost/sodo-search@~1.1/umd/sodo-search.min.js', 95.5751953125), ('/blog/public/cards.min.js?v=22080dfa02', 0.0), ('/blog/public/member-attribution.min.js?v=22080dfa02', 0.0), ('https://www.googletagmanager.com/gtag/js?id=UA-147725948-3', 0.0), ('https://polyfill.io/v3/polyfill.min.js?features=IntersectionObserver%2CPromise%2CArray.prototype.includes%2CString.prototype.endsWith%2CString.prototype.startsWith%2CObject.assign%2CNodeList.prototype.forEach', 14.1123046875), ('/blog/assets/js/vendor/content-api.min.js?v=22080dfa02', 0.0), ('/blog/assets/js/manifest.js?v=22080dfa02', 0.0), ('/blog/assets/js/vendor.js?v=22080dfa02', 0.0), ('/blog/assets/js/app.js?v=22080dfa02', 0.0), ('/blog/assets/css/app.css?v=22080dfa02', 0.0), ('/blog/public/cards.min.css?v=22080dfa02', 0.0)]\n",
      "Analyzing 331 of 523: https://famapp.in/blog/jumpstart-your-career-5-unconventional-career-choices-for-genzs/\n",
      "Page size: 43.3564453125 KB\n",
      "Resource sizes: [('https://fampay.in/blog/content/images/2020/11/logofilewhite-11-2.png', 0.130859375), ('https://fampay.in/blog/content/images/2020/11/logofilewhite-11-2.png', 0.130859375), ('https://fampay.in/blog/content/images/2020/06/game-designer.gif', 0.130859375), ('https://fampay.in/blog/content/images/2020/06/social-content-creator.gif', 0.130859375), ('https://fampay.in/blog/content/images/2020/06/image-consultant.gif', 0.130859375), ('https://fampay.in/blog/content/images/2020/06/nutrition-blogger.gif', 0.130859375), ('https://fampay.in/blog/content/images/2020/06/baker.gif', 0.130859375), ('/blog/assets/images/success.png?v=22080dfa02', 0.0), ('https://cdn.jsdelivr.net/ghost/portal@~2.30/umd/portal.min.js', 170.8154296875), ('https://cdn.jsdelivr.net/ghost/sodo-search@~1.1/umd/sodo-search.min.js', 95.5751953125), ('/blog/public/cards.min.js?v=22080dfa02', 0.0), ('/blog/public/member-attribution.min.js?v=22080dfa02', 0.0), ('https://www.googletagmanager.com/gtag/js?id=UA-147725948-3', 0.0), ('https://polyfill.io/v3/polyfill.min.js?features=IntersectionObserver%2CPromise%2CArray.prototype.includes%2CString.prototype.endsWith%2CString.prototype.startsWith%2CObject.assign%2CNodeList.prototype.forEach', 14.1123046875), ('/blog/assets/js/vendor/content-api.min.js?v=22080dfa02', 0.0), ('/blog/assets/js/manifest.js?v=22080dfa02', 0.0), ('/blog/assets/js/vendor.js?v=22080dfa02', 0.0), ('/blog/assets/js/app.js?v=22080dfa02', 0.0), ('/blog/assets/js/post.js?v=22080dfa02', 0.0), ('/blog/assets/css/app.css?v=22080dfa02', 0.0), ('/blog/public/cards.min.css?v=22080dfa02', 0.0)]\n",
      "Analyzing 332 of 523: https://famapp.in/blog/how-to-go-from-awkward-to-awesome-in-your-teens/\n",
      "Page size: 42.9931640625 KB\n",
      "Resource sizes: [('https://fampay.in/blog/content/images/2020/11/logofilewhite-11-2.png', 0.130859375), ('https://fampay.in/blog/content/images/2020/11/logofilewhite-11-2.png', 0.130859375), ('https://fampay.in/blog/content/images/2020/06/teen1.gif', 0.130859375), ('https://fampay.in/blog/content/images/2020/06/healthy.gif', 0.130859375), ('https://fampay.in/blog/content/images/2020/06/mood.gif', 0.130859375), ('https://fampay.in/blog/content/images/2020/06/crush-1.gif', 0.130859375), ('https://fampay.in/blog/content/images/2020/06/cool.gif', 0.130859375), ('https://fampay.in/blog/content/images/2020/06/psychiatrist.gif', 0.130859375), ('/blog/assets/images/success.png?v=22080dfa02', 0.0), ('https://cdn.jsdelivr.net/ghost/portal@~2.30/umd/portal.min.js', 170.8154296875), ('https://cdn.jsdelivr.net/ghost/sodo-search@~1.1/umd/sodo-search.min.js', 95.5751953125), ('/blog/public/cards.min.js?v=22080dfa02', 0.0), ('/blog/public/member-attribution.min.js?v=22080dfa02', 0.0), ('https://www.googletagmanager.com/gtag/js?id=UA-147725948-3', 0.0), ('https://polyfill.io/v3/polyfill.min.js?features=IntersectionObserver%2CPromise%2CArray.prototype.includes%2CString.prototype.endsWith%2CString.prototype.startsWith%2CObject.assign%2CNodeList.prototype.forEach', 14.1123046875), ('/blog/assets/js/vendor/content-api.min.js?v=22080dfa02', 0.0), ('/blog/assets/js/manifest.js?v=22080dfa02', 0.0), ('/blog/assets/js/vendor.js?v=22080dfa02', 0.0), ('/blog/assets/js/app.js?v=22080dfa02', 0.0), ('/blog/assets/js/post.js?v=22080dfa02', 0.0), ('/blog/assets/css/app.css?v=22080dfa02', 0.0), ('/blog/public/cards.min.css?v=22080dfa02', 0.0)]\n",
      "Analyzing 333 of 523: https://famapp.in/blog/7-cool-insta-dads-of-bollywood/\n",
      "Page size: 138.8984375 KB\n",
      "Resource sizes: [('https://fampay.in/blog/content/images/2020/11/logofilewhite-11-2.png', 0.130859375), ('https://fampay.in/blog/content/images/2020/11/logofilewhite-11-2.png', 0.130859375), ('/blog/assets/images/success.png?v=22080dfa02', 0.0), ('https://cdn.jsdelivr.net/ghost/portal@~2.30/umd/portal.min.js', 170.8154296875), ('https://cdn.jsdelivr.net/ghost/sodo-search@~1.1/umd/sodo-search.min.js', 95.5751953125), ('/blog/public/cards.min.js?v=22080dfa02', 0.0), ('/blog/public/member-attribution.min.js?v=22080dfa02', 0.0), ('https://www.googletagmanager.com/gtag/js?id=UA-147725948-3', 0.0), ('//www.instagram.com/embed.js', 0.0), ('//www.instagram.com/embed.js', 0.0), ('//www.instagram.com/embed.js', 0.0), ('//www.instagram.com/embed.js', 0.0), ('//www.instagram.com/embed.js', 0.0), ('//www.instagram.com/embed.js', 0.0), ('//www.instagram.com/embed.js', 0.0), ('//www.instagram.com/embed.js', 0.0), ('//www.instagram.com/embed.js', 0.0), ('//www.instagram.com/embed.js', 0.0), ('//www.instagram.com/embed.js', 0.0), ('//www.instagram.com/embed.js', 0.0), ('//www.instagram.com/embed.js', 0.0), ('//www.instagram.com/embed.js', 0.0), ('https://polyfill.io/v3/polyfill.min.js?features=IntersectionObserver%2CPromise%2CArray.prototype.includes%2CString.prototype.endsWith%2CString.prototype.startsWith%2CObject.assign%2CNodeList.prototype.forEach', 14.1123046875), ('/blog/assets/js/vendor/content-api.min.js?v=22080dfa02', 0.0), ('/blog/assets/js/manifest.js?v=22080dfa02', 0.0), ('/blog/assets/js/vendor.js?v=22080dfa02', 0.0), ('/blog/assets/js/app.js?v=22080dfa02', 0.0), ('/blog/assets/js/post.js?v=22080dfa02', 0.0), ('/blog/assets/css/app.css?v=22080dfa02', 0.0), ('/blog/public/cards.min.css?v=22080dfa02', 0.0)]\n",
      "Analyzing 334 of 523: https://famapp.in/blog/tag/news/\n",
      "Page size: 33.3154296875 KB\n",
      "Resource sizes: [('https://fampay.in/blog/content/images/2020/11/logofilewhite-11-2.png', 0.130859375), ('https://fampay.in/blog/content/images/2020/11/logofilewhite-11-2.png', 0.130859375), ('https://cdn.jsdelivr.net/ghost/portal@~2.30/umd/portal.min.js', 170.8154296875), ('https://cdn.jsdelivr.net/ghost/sodo-search@~1.1/umd/sodo-search.min.js', 95.5751953125), ('/blog/public/cards.min.js?v=22080dfa02', 0.0), ('/blog/public/member-attribution.min.js?v=22080dfa02', 0.0), ('https://www.googletagmanager.com/gtag/js?id=UA-147725948-3', 0.0), ('https://polyfill.io/v3/polyfill.min.js?features=IntersectionObserver%2CPromise%2CArray.prototype.includes%2CString.prototype.endsWith%2CString.prototype.startsWith%2CObject.assign%2CNodeList.prototype.forEach', 14.1123046875), ('/blog/assets/js/vendor/content-api.min.js?v=22080dfa02', 0.0), ('/blog/assets/js/manifest.js?v=22080dfa02', 0.0), ('/blog/assets/js/vendor.js?v=22080dfa02', 0.0), ('/blog/assets/js/app.js?v=22080dfa02', 0.0), ('/blog/assets/css/app.css?v=22080dfa02', 0.0), ('/blog/public/cards.min.css?v=22080dfa02', 0.0)]\n",
      "Analyzing 335 of 523: https://famapp.in/blog/teen-focused-fintech-startup-fampay-raises-38m-in-series-a/\n",
      "Page size: 44.33203125 KB\n",
      "Resource sizes: [('https://fampay.in/blog/content/images/2020/11/logofilewhite-11-2.png', 0.130859375), ('https://fampay.in/blog/content/images/2020/11/logofilewhite-11-2.png', 0.130859375), ('https://fampay.in/blog/content/images/2021/06/IMG_0371-5--1--2.jpg', 0.130859375), ('https://fampay.in/blog/content/images/2021/06/Group-2824--2--1.jpg', 0.130859375), ('https://fampay.in/blog/content/images/2021/06/DSC02575_edited-copy--1---1---1-.jpg', 0.130859375), ('/blog/assets/images/success.png?v=22080dfa02', 0.0), ('https://cdn.jsdelivr.net/ghost/portal@~2.30/umd/portal.min.js', 170.8154296875), ('https://cdn.jsdelivr.net/ghost/sodo-search@~1.1/umd/sodo-search.min.js', 95.5751953125), ('/blog/public/cards.min.js?v=22080dfa02', 0.0), ('/blog/public/member-attribution.min.js?v=22080dfa02', 0.0), ('https://www.googletagmanager.com/gtag/js?id=UA-147725948-3', 0.0), ('https://polyfill.io/v3/polyfill.min.js?features=IntersectionObserver%2CPromise%2CArray.prototype.includes%2CString.prototype.endsWith%2CString.prototype.startsWith%2CObject.assign%2CNodeList.prototype.forEach', 14.1123046875), ('/blog/assets/js/vendor/content-api.min.js?v=22080dfa02', 0.0), ('/blog/assets/js/manifest.js?v=22080dfa02', 0.0), ('/blog/assets/js/vendor.js?v=22080dfa02', 0.0), ('/blog/assets/js/app.js?v=22080dfa02', 0.0), ('/blog/assets/js/post.js?v=22080dfa02', 0.0), ('/blog/assets/css/app.css?v=22080dfa02', 0.0), ('/blog/public/cards.min.css?v=22080dfa02', 0.0)]\n",
      "Analyzing 336 of 523: https://wa.me/?text=Teen%20focused%20fintech%20startup%20FamPay%20raises%20%2438M%20in%20Series%20A%20https://fampay.in/blog/teen-focused-fintech-startup-fampay-raises-38m-in-series-a/\n",
      "Page size: 165.4423828125 KB\n",
      "Resource sizes: [('https://static.whatsapp.net/rsrc.php/v3/yq/r/mdQNdcFMi0p.png', 28.833984375), ('https://static.whatsapp.net/rsrc.php/v3/y7/r/DSxOAUB0raA.png', 28.7744140625), ('https://static.whatsapp.net/rsrc.php/v3/yJ/r/Qhrnh5evyPV.png', 1.193359375), ('https://static.whatsapp.net/rsrc.php/v3/yJ/r/Qhrnh5evyPV.png', 1.193359375), ('https://static.whatsapp.net/rsrc.php/v3/y6/r/TcHIu29ealS.js?_nc_x=Ij3Wp8lg5Kz', 104.8037109375), ('https://static.whatsapp.net/rsrc.php/v3/yO/l/0,cross/zkmfh5mjXuB.css?_nc_x=Ij3Wp8lg5Kz', 1.318359375), ('https://static.whatsapp.net/rsrc.php/v3/yi/l/0,cross/TngFvC3f-F7.css?_nc_x=Ij3Wp8lg5Kz', 14.91796875), ('https://static.whatsapp.net/rsrc.php/v3/yX/l/0,cross/90x4oEKKKqw.css?_nc_x=Ij3Wp8lg5Kz', 9.01953125)]\n",
      "Analyzing 337 of 523: https://www.facebook.com/sharer/sharer.php?u=https://fampay.in/blog/teen-focused-fintech-startup-fampay-raises-38m-in-series-a/\n",
      "Page size: 17.134765625 KB\n",
      "Resource sizes: [('https://static.xx.fbcdn.net/rsrc.php/v3/y8/r/k97pj8-or6s.png', 0.7900390625), ('https://facebook.com/security/hsts-pixel.gif?c=3.2', 0.0)]\n",
      "Analyzing 338 of 523: https://twitter.com/intent/tweet?text=Teen%20focused%20fintech%20startup%20FamPay%20raises%20%2438M%20in%20Series%20A&url=https://fampay.in/blog/teen-focused-fintech-startup-fampay-raises-38m-in-series-a/\n",
      "Page size: 167.810546875 KB\n",
      "Resource sizes: [('https://abs.twimg.com/errors/logo46x38.png', 0.9912109375), ('https://abs.twimg.com/responsive-web/client-web-legacy/shared~bundle.Compose~bundle.RichTextCompose.a2fa6b8a.js', 52.9111328125), ('https://abs.twimg.com/responsive-web/client-web-legacy/polyfills.d5242a4a.js', 17.72265625), ('https://abs.twimg.com/responsive-web/client-web-legacy/vendor.3cb7d15a.js', 218.7216796875), ('https://abs.twimg.com/responsive-web/client-web-legacy/i18n/en.213585ba.js', 114.365234375), ('https://abs.twimg.com/responsive-web/client-web-legacy/main.79ac570a.js', 408.1171875)]\n",
      "Analyzing 339 of 523: https://famapp.in/blog/fampay-is-set-to-launch-indias-first-and-biggest-digi-fest-for-teens/\n",
      "Page size: 40.9990234375 KB\n",
      "Resource sizes: [('https://fampay.in/blog/content/images/2020/11/logofilewhite-11-2.png', 0.130859375), ('https://fampay.in/blog/content/images/2020/11/logofilewhite-11-2.png', 0.130859375), ('/blog/assets/images/success.png?v=22080dfa02', 0.0), ('https://cdn.jsdelivr.net/ghost/portal@~2.30/umd/portal.min.js', 170.8154296875), ('https://cdn.jsdelivr.net/ghost/sodo-search@~1.1/umd/sodo-search.min.js', 95.5751953125), ('/blog/public/cards.min.js?v=22080dfa02', 0.0), ('/blog/public/member-attribution.min.js?v=22080dfa02', 0.0), ('https://www.googletagmanager.com/gtag/js?id=UA-147725948-3', 0.0), ('https://polyfill.io/v3/polyfill.min.js?features=IntersectionObserver%2CPromise%2CArray.prototype.includes%2CString.prototype.endsWith%2CString.prototype.startsWith%2CObject.assign%2CNodeList.prototype.forEach', 14.1123046875), ('/blog/assets/js/vendor/content-api.min.js?v=22080dfa02', 0.0), ('/blog/assets/js/manifest.js?v=22080dfa02', 0.0), ('/blog/assets/js/vendor.js?v=22080dfa02', 0.0), ('/blog/assets/js/app.js?v=22080dfa02', 0.0), ('/blog/assets/js/post.js?v=22080dfa02', 0.0), ('/blog/assets/css/app.css?v=22080dfa02', 0.0), ('/blog/public/cards.min.css?v=22080dfa02', 0.0)]\n",
      "Analyzing 340 of 523: https://wa.me/?text=FamPay%20is%20set%20to%20launch%20India%E2%80%99s%20first%20and%20biggest%20Digi-Fest%20for%20Teens%20https://fampay.in/blog/fampay-is-set-to-launch-indias-first-and-biggest-digi-fest-for-teens/\n",
      "Page size: 165.57421875 KB\n",
      "Resource sizes: [('https://static.whatsapp.net/rsrc.php/v3/yq/r/mdQNdcFMi0p.png', 28.833984375), ('https://static.whatsapp.net/rsrc.php/v3/y7/r/DSxOAUB0raA.png', 28.7744140625), ('https://static.whatsapp.net/rsrc.php/v3/yJ/r/Qhrnh5evyPV.png', 1.193359375), ('https://static.whatsapp.net/rsrc.php/v3/yJ/r/Qhrnh5evyPV.png', 1.193359375), ('https://static.whatsapp.net/rsrc.php/v3/y6/r/TcHIu29ealS.js?_nc_x=Ij3Wp8lg5Kz', 104.8037109375), ('https://static.whatsapp.net/rsrc.php/v3/yO/l/0,cross/zkmfh5mjXuB.css?_nc_x=Ij3Wp8lg5Kz', 1.318359375), ('https://static.whatsapp.net/rsrc.php/v3/yi/l/0,cross/TngFvC3f-F7.css?_nc_x=Ij3Wp8lg5Kz', 14.91796875), ('https://static.whatsapp.net/rsrc.php/v3/yX/l/0,cross/90x4oEKKKqw.css?_nc_x=Ij3Wp8lg5Kz', 9.01953125)]\n",
      "Analyzing 341 of 523: https://www.facebook.com/sharer/sharer.php?u=https://fampay.in/blog/fampay-is-set-to-launch-indias-first-and-biggest-digi-fest-for-teens/\n",
      "Page size: 17.1982421875 KB\n",
      "Resource sizes: [('https://static.xx.fbcdn.net/rsrc.php/v3/y8/r/k97pj8-or6s.png', 0.7900390625), ('https://facebook.com/security/hsts-pixel.gif?c=3.2', 0.0)]\n",
      "Analyzing 342 of 523: https://twitter.com/intent/tweet?text=FamPay%20is%20set%20to%20launch%20India%E2%80%99s%20first%20and%20biggest%20Digi-Fest%20for%20Teens&url=https://fampay.in/blog/fampay-is-set-to-launch-indias-first-and-biggest-digi-fest-for-teens/\n",
      "Page size: 167.810546875 KB\n",
      "Resource sizes: [('https://abs.twimg.com/errors/logo46x38.png', 0.9912109375), ('https://abs.twimg.com/responsive-web/client-web-legacy/shared~bundle.Compose~bundle.RichTextCompose.a2fa6b8a.js', 52.9111328125), ('https://abs.twimg.com/responsive-web/client-web-legacy/polyfills.d5242a4a.js', 17.72265625), ('https://abs.twimg.com/responsive-web/client-web-legacy/vendor.3cb7d15a.js', 218.7216796875), ('https://abs.twimg.com/responsive-web/client-web-legacy/i18n/en.213585ba.js', 114.365234375), ('https://abs.twimg.com/responsive-web/client-web-legacy/main.79ac570a.js', 408.1171875)]\n",
      "Analyzing 343 of 523: https://www.aninews.in/news/business/fampay-is-set-to-launch-indias-first-and-biggest-digi-fest-for-teens20201104123744/\n",
      "Page size: 0.115234375 KB\n",
      "Resource sizes: []\n",
      "Analyzing 344 of 523: https://www.aninews.in/topic/fampay/\n",
      "Page size: 0.115234375 KB\n",
      "Resource sizes: []\n",
      "Analyzing 345 of 523: https://famapp.in/blog/zetas-fusion-to-power-fampays-cashless-payments-for-gen-z/\n",
      "Page size: 38.7138671875 KB\n",
      "Resource sizes: [('https://fampay.in/blog/content/images/2020/11/logofilewhite-11-2.png', 0.130859375), ('https://fampay.in/blog/content/images/2020/11/logofilewhite-11-2.png', 0.130859375), ('/blog/assets/images/success.png?v=22080dfa02', 0.0), ('https://cdn.jsdelivr.net/ghost/portal@~2.30/umd/portal.min.js', 170.8154296875), ('https://cdn.jsdelivr.net/ghost/sodo-search@~1.1/umd/sodo-search.min.js', 95.5751953125), ('/blog/public/cards.min.js?v=22080dfa02', 0.0), ('/blog/public/member-attribution.min.js?v=22080dfa02', 0.0), ('https://www.googletagmanager.com/gtag/js?id=UA-147725948-3', 0.0), ('https://polyfill.io/v3/polyfill.min.js?features=IntersectionObserver%2CPromise%2CArray.prototype.includes%2CString.prototype.endsWith%2CString.prototype.startsWith%2CObject.assign%2CNodeList.prototype.forEach', 14.1123046875), ('/blog/assets/js/vendor/content-api.min.js?v=22080dfa02', 0.0), ('/blog/assets/js/manifest.js?v=22080dfa02', 0.0), ('/blog/assets/js/vendor.js?v=22080dfa02', 0.0), ('/blog/assets/js/app.js?v=22080dfa02', 0.0), ('/blog/assets/js/post.js?v=22080dfa02', 0.0), ('/blog/assets/css/app.css?v=22080dfa02', 0.0), ('/blog/public/cards.min.css?v=22080dfa02', 0.0)]\n",
      "Analyzing 346 of 523: https://wa.me/?text=Zeta%E2%80%99s%20Fusion%20To%20Power%20FamPay%E2%80%99s%20Cashless%20Payments%20For%20Gen%20Z%20https://fampay.in/blog/zetas-fusion-to-power-fampays-cashless-payments-for-gen-z/\n",
      "Page size: 165.5205078125 KB\n",
      "Resource sizes: [('https://static.whatsapp.net/rsrc.php/v3/yq/r/mdQNdcFMi0p.png', 28.833984375), ('https://static.whatsapp.net/rsrc.php/v3/y7/r/DSxOAUB0raA.png', 28.7744140625), ('https://static.whatsapp.net/rsrc.php/v3/yJ/r/Qhrnh5evyPV.png', 1.193359375), ('https://static.whatsapp.net/rsrc.php/v3/yJ/r/Qhrnh5evyPV.png', 1.193359375), ('https://static.whatsapp.net/rsrc.php/v3/y6/r/TcHIu29ealS.js?_nc_x=Ij3Wp8lg5Kz', 104.8037109375), ('https://static.whatsapp.net/rsrc.php/v3/yO/l/0,cross/zkmfh5mjXuB.css?_nc_x=Ij3Wp8lg5Kz', 1.318359375), ('https://static.whatsapp.net/rsrc.php/v3/yi/l/0,cross/TngFvC3f-F7.css?_nc_x=Ij3Wp8lg5Kz', 14.91796875), ('https://static.whatsapp.net/rsrc.php/v3/yX/l/0,cross/90x4oEKKKqw.css?_nc_x=Ij3Wp8lg5Kz', 9.01953125)]\n",
      "Analyzing 347 of 523: https://www.facebook.com/sharer/sharer.php?u=https://fampay.in/blog/zetas-fusion-to-power-fampays-cashless-payments-for-gen-z/\n",
      "Page size: 17.123046875 KB\n",
      "Resource sizes: [('https://static.xx.fbcdn.net/rsrc.php/v3/y8/r/k97pj8-or6s.png', 0.7900390625), ('https://facebook.com/security/hsts-pixel.gif?c=3.2', 0.0)]\n",
      "Analyzing 348 of 523: https://twitter.com/intent/tweet?text=Zeta%E2%80%99s%20Fusion%20To%20Power%20FamPay%E2%80%99s%20Cashless%20Payments%20For%20Gen%20Z&url=https://fampay.in/blog/zetas-fusion-to-power-fampays-cashless-payments-for-gen-z/\n",
      "Page size: 167.810546875 KB\n",
      "Resource sizes: [('https://abs.twimg.com/errors/logo46x38.png', 0.9912109375), ('https://abs.twimg.com/responsive-web/client-web-legacy/shared~bundle.Compose~bundle.RichTextCompose.a2fa6b8a.js', 52.9111328125), ('https://abs.twimg.com/responsive-web/client-web-legacy/polyfills.d5242a4a.js', 17.72265625), ('https://abs.twimg.com/responsive-web/client-web-legacy/vendor.3cb7d15a.js', 218.7216796875), ('https://abs.twimg.com/responsive-web/client-web-legacy/i18n/en.213585ba.js', 114.365234375), ('https://abs.twimg.com/responsive-web/client-web-legacy/main.79ac570a.js', 408.1171875)]\n",
      "Analyzing 349 of 523: https://famapp.in/blog/digital-payments-exploding-in-india-yet-the-tech-savvy-teens-still-stuck-paying-with-cash-survey-by-fampay-indias-first-neobank-for-teenagers/\n",
      "Page size: 45.3173828125 KB\n",
      "Resource sizes: [('https://fampay.in/blog/content/images/2020/11/logofilewhite-11-2.png', 0.130859375), ('https://fampay.in/blog/content/images/2020/11/logofilewhite-11-2.png', 0.130859375), ('https://fampay.in/blog/content/images/2020/10/PRInfographicSection1.png', 0.130859375), ('https://fampay.in/blog/content/images/2020/10/PRInfographicSection2.png', 0.130859375), ('https://fampay.in/blog/content/images/2020/10/PRInfographicSection3.png', 0.130859375), ('/blog/assets/images/success.png?v=22080dfa02', 0.0), ('https://cdn.jsdelivr.net/ghost/portal@~2.30/umd/portal.min.js', 170.8154296875), ('https://cdn.jsdelivr.net/ghost/sodo-search@~1.1/umd/sodo-search.min.js', 95.5751953125), ('/blog/public/cards.min.js?v=22080dfa02', 0.0), ('/blog/public/member-attribution.min.js?v=22080dfa02', 0.0), ('https://www.googletagmanager.com/gtag/js?id=UA-147725948-3', 0.0), ('https://polyfill.io/v3/polyfill.min.js?features=IntersectionObserver%2CPromise%2CArray.prototype.includes%2CString.prototype.endsWith%2CString.prototype.startsWith%2CObject.assign%2CNodeList.prototype.forEach', 14.1123046875), ('/blog/assets/js/vendor/content-api.min.js?v=22080dfa02', 0.0), ('/blog/assets/js/manifest.js?v=22080dfa02', 0.0), ('/blog/assets/js/vendor.js?v=22080dfa02', 0.0), ('/blog/assets/js/app.js?v=22080dfa02', 0.0), ('/blog/assets/js/post.js?v=22080dfa02', 0.0), ('/blog/assets/css/app.css?v=22080dfa02', 0.0), ('/blog/public/cards.min.css?v=22080dfa02', 0.0)]\n",
      "Analyzing 350 of 523: https://wa.me/?text=Digital%20Payments%20Exploding%20in%20India%2C%20Yet%20the%20Tech-Savvy%20Teens%20Still%20Stuck%20Paying%20with%20Cash%20https://fampay.in/blog/digital-payments-exploding-in-india-yet-the-tech-savvy-teens-still-stuck-paying-with-cash-survey-by-fampay-indias-first-neobank-for-teenagers/\n",
      "Page size: 165.998046875 KB\n",
      "Resource sizes: [('https://static.whatsapp.net/rsrc.php/v3/yq/r/mdQNdcFMi0p.png', 28.833984375), ('https://static.whatsapp.net/rsrc.php/v3/y7/r/DSxOAUB0raA.png', 28.7744140625), ('https://static.whatsapp.net/rsrc.php/v3/yJ/r/Qhrnh5evyPV.png', 1.193359375), ('https://static.whatsapp.net/rsrc.php/v3/yJ/r/Qhrnh5evyPV.png', 1.193359375), ('https://static.whatsapp.net/rsrc.php/v3/y6/r/TcHIu29ealS.js?_nc_x=Ij3Wp8lg5Kz', 104.8037109375), ('https://static.whatsapp.net/rsrc.php/v3/yO/l/0,cross/zkmfh5mjXuB.css?_nc_x=Ij3Wp8lg5Kz', 1.318359375), ('https://static.whatsapp.net/rsrc.php/v3/yi/l/0,cross/TngFvC3f-F7.css?_nc_x=Ij3Wp8lg5Kz', 14.91796875), ('https://static.whatsapp.net/rsrc.php/v3/yX/l/0,cross/90x4oEKKKqw.css?_nc_x=Ij3Wp8lg5Kz', 9.01953125)]\n",
      "Analyzing 351 of 523: https://www.facebook.com/sharer/sharer.php?u=https://fampay.in/blog/digital-payments-exploding-in-india-yet-the-tech-savvy-teens-still-stuck-paying-with-cash-survey-by-fampay-indias-first-neobank-for-teenagers/\n",
      "Page size: 17.697265625 KB\n",
      "Resource sizes: [('https://static.xx.fbcdn.net/rsrc.php/v3/y8/r/k97pj8-or6s.png', 0.7900390625), ('https://facebook.com/security/hsts-pixel.gif?c=3.2', 0.0)]\n",
      "Analyzing 352 of 523: https://twitter.com/intent/tweet?text=Digital%20Payments%20Exploding%20in%20India%2C%20Yet%20the%20Tech-Savvy%20Teens%20Still%20Stuck%20Paying%20with%20Cash&url=https://fampay.in/blog/digital-payments-exploding-in-india-yet-the-tech-savvy-teens-still-stuck-paying-with-cash-survey-by-fampay-indias-first-neobank-for-teenagers/\n",
      "Page size: 167.810546875 KB\n",
      "Resource sizes: [('https://abs.twimg.com/errors/logo46x38.png', 0.9912109375), ('https://abs.twimg.com/responsive-web/client-web-legacy/shared~bundle.Compose~bundle.RichTextCompose.a2fa6b8a.js', 52.9111328125), ('https://abs.twimg.com/responsive-web/client-web-legacy/polyfills.d5242a4a.js', 17.72265625), ('https://abs.twimg.com/responsive-web/client-web-legacy/vendor.3cb7d15a.js', 218.7216796875), ('https://abs.twimg.com/responsive-web/client-web-legacy/i18n/en.213585ba.js', 114.365234375), ('https://abs.twimg.com/responsive-web/client-web-legacy/main.79ac570a.js', 408.1171875)]\n",
      "Analyzing 353 of 523: https://famapp.in/blog/this-fintech-startup-by-iit-roorkee-alum-is-giving-teenagers-financial-freedom-responsibly-yourstory/\n",
      "Page size: 44.62890625 KB\n",
      "Resource sizes: [('https://fampay.in/blog/content/images/2020/11/logofilewhite-11-2.png', 0.130859375), ('https://fampay.in/blog/content/images/2020/11/logofilewhite-11-2.png', 0.130859375), ('https://fampay.in/blog/content/images/2021/03/Copy-of-FamPay-Founders---Kush--Left--and-Sambhav--Right--2.jpg', 0.130859375), ('https://fampay.in/blog/content/images/2021/03/Copy-of-FamPay---FlashPIN-2.png', 0.130859375), ('/blog/assets/images/success.png?v=22080dfa02', 0.0), ('https://cdn.jsdelivr.net/ghost/portal@~2.30/umd/portal.min.js', 170.8154296875), ('https://cdn.jsdelivr.net/ghost/sodo-search@~1.1/umd/sodo-search.min.js', 95.5751953125), ('/blog/public/cards.min.js?v=22080dfa02', 0.0), ('/blog/public/member-attribution.min.js?v=22080dfa02', 0.0), ('https://www.googletagmanager.com/gtag/js?id=UA-147725948-3', 0.0), ('https://polyfill.io/v3/polyfill.min.js?features=IntersectionObserver%2CPromise%2CArray.prototype.includes%2CString.prototype.endsWith%2CString.prototype.startsWith%2CObject.assign%2CNodeList.prototype.forEach', 14.1123046875), ('/blog/assets/js/vendor/content-api.min.js?v=22080dfa02', 0.0), ('/blog/assets/js/manifest.js?v=22080dfa02', 0.0), ('/blog/assets/js/vendor.js?v=22080dfa02', 0.0), ('/blog/assets/js/app.js?v=22080dfa02', 0.0), ('/blog/assets/js/post.js?v=22080dfa02', 0.0), ('/blog/assets/css/app.css?v=22080dfa02', 0.0), ('/blog/public/cards.min.css?v=22080dfa02', 0.0)]\n",
      "Analyzing 354 of 523: https://wa.me/?text=This%20fintech%20startup%20by%20IIT%20Roorkee%20alum%20is%20giving%20teenagers%20financial%20freedom%20responsibly%3A%20YourStory%20https://fampay.in/blog/this-fintech-startup-by-iit-roorkee-alum-is-giving-teenagers-financial-freedom-responsibly-yourstory/\n",
      "Page size: 165.85546875 KB\n",
      "Resource sizes: [('https://static.whatsapp.net/rsrc.php/v3/yq/r/mdQNdcFMi0p.png', 28.833984375), ('https://static.whatsapp.net/rsrc.php/v3/y7/r/DSxOAUB0raA.png', 28.7744140625), ('https://static.whatsapp.net/rsrc.php/v3/yJ/r/Qhrnh5evyPV.png', 1.193359375), ('https://static.whatsapp.net/rsrc.php/v3/yJ/r/Qhrnh5evyPV.png', 1.193359375), ('https://static.whatsapp.net/rsrc.php/v3/y6/r/TcHIu29ealS.js?_nc_x=Ij3Wp8lg5Kz', 104.8037109375), ('https://static.whatsapp.net/rsrc.php/v3/yO/l/0,cross/zkmfh5mjXuB.css?_nc_x=Ij3Wp8lg5Kz', 1.318359375), ('https://static.whatsapp.net/rsrc.php/v3/yi/l/0,cross/TngFvC3f-F7.css?_nc_x=Ij3Wp8lg5Kz', 14.91796875), ('https://static.whatsapp.net/rsrc.php/v3/yX/l/0,cross/90x4oEKKKqw.css?_nc_x=Ij3Wp8lg5Kz', 9.01953125)]\n",
      "Analyzing 355 of 523: https://www.facebook.com/sharer/sharer.php?u=https://fampay.in/blog/this-fintech-startup-by-iit-roorkee-alum-is-giving-teenagers-financial-freedom-responsibly-yourstory/\n",
      "Page size: 17.4169921875 KB\n",
      "Resource sizes: [('https://static.xx.fbcdn.net/rsrc.php/v3/y8/r/k97pj8-or6s.png', 0.7900390625), ('https://facebook.com/security/hsts-pixel.gif?c=3.2', 0.0)]\n",
      "Analyzing 356 of 523: https://twitter.com/intent/tweet?text=This%20fintech%20startup%20by%20IIT%20Roorkee%20alum%20is%20giving%20teenagers%20financial%20freedom%20responsibly%3A%20YourStory&url=https://fampay.in/blog/this-fintech-startup-by-iit-roorkee-alum-is-giving-teenagers-financial-freedom-responsibly-yourstory/\n",
      "Page size: 167.810546875 KB\n",
      "Resource sizes: [('https://abs.twimg.com/errors/logo46x38.png', 0.9912109375), ('https://abs.twimg.com/responsive-web/client-web-legacy/shared~bundle.Compose~bundle.RichTextCompose.a2fa6b8a.js', 52.9111328125), ('https://abs.twimg.com/responsive-web/client-web-legacy/polyfills.d5242a4a.js', 17.72265625), ('https://abs.twimg.com/responsive-web/client-web-legacy/vendor.3cb7d15a.js', 218.7216796875), ('https://abs.twimg.com/responsive-web/client-web-legacy/i18n/en.213585ba.js', 114.365234375), ('https://abs.twimg.com/responsive-web/client-web-legacy/main.79ac570a.js', 408.1171875)]\n",
      "Analyzing 357 of 523: https://famapp.in/blog/fampay-announces-launch-of-indias-first-numberless-card/\n",
      "Page size: 40.529296875 KB\n",
      "Resource sizes: [('https://fampay.in/blog/content/images/2020/11/logofilewhite-11-2.png', 0.130859375), ('https://fampay.in/blog/content/images/2020/11/logofilewhite-11-2.png', 0.130859375), ('https://fampay.in/blog/content/images/2020/07/FamPay-Founders---Kush--Left--and-Sambhav--Right--2.jpg', 0.130859375), ('https://fampay.in/blog/content/images/2020/07/FamPay---FlashPIN.png', 0.130859375), ('/blog/assets/images/success.png?v=22080dfa02', 0.0), ('https://cdn.jsdelivr.net/ghost/portal@~2.30/umd/portal.min.js', 170.8154296875), ('https://cdn.jsdelivr.net/ghost/sodo-search@~1.1/umd/sodo-search.min.js', 95.5751953125), ('/blog/public/cards.min.js?v=22080dfa02', 0.0), ('/blog/public/member-attribution.min.js?v=22080dfa02', 0.0), ('https://www.googletagmanager.com/gtag/js?id=UA-147725948-3', 0.0), ('https://polyfill.io/v3/polyfill.min.js?features=IntersectionObserver%2CPromise%2CArray.prototype.includes%2CString.prototype.endsWith%2CString.prototype.startsWith%2CObject.assign%2CNodeList.prototype.forEach', 14.1123046875), ('/blog/assets/js/vendor/content-api.min.js?v=22080dfa02', 0.0), ('/blog/assets/js/manifest.js?v=22080dfa02', 0.0), ('/blog/assets/js/vendor.js?v=22080dfa02', 0.0), ('/blog/assets/js/app.js?v=22080dfa02', 0.0), ('/blog/assets/js/post.js?v=22080dfa02', 0.0), ('/blog/assets/css/app.css?v=22080dfa02', 0.0), ('/blog/public/cards.min.css?v=22080dfa02', 0.0)]\n",
      "Analyzing 358 of 523: https://wa.me/?text=FamPay%20Announces%20Launch%20of%20India%E2%80%99s%20First%20Numberless%20Card%20https://fampay.in/blog/fampay-announces-launch-of-indias-first-numberless-card/\n",
      "Page size: 165.4482421875 KB\n",
      "Resource sizes: [('https://static.whatsapp.net/rsrc.php/v3/yq/r/mdQNdcFMi0p.png', 28.833984375), ('https://static.whatsapp.net/rsrc.php/v3/y7/r/DSxOAUB0raA.png', 28.7744140625), ('https://static.whatsapp.net/rsrc.php/v3/yJ/r/Qhrnh5evyPV.png', 1.193359375), ('https://static.whatsapp.net/rsrc.php/v3/yJ/r/Qhrnh5evyPV.png', 1.193359375), ('https://static.whatsapp.net/rsrc.php/v3/y6/r/TcHIu29ealS.js?_nc_x=Ij3Wp8lg5Kz', 104.8037109375), ('https://static.whatsapp.net/rsrc.php/v3/yO/l/0,cross/zkmfh5mjXuB.css?_nc_x=Ij3Wp8lg5Kz', 1.318359375), ('https://static.whatsapp.net/rsrc.php/v3/yi/l/0,cross/TngFvC3f-F7.css?_nc_x=Ij3Wp8lg5Kz', 14.91796875), ('https://static.whatsapp.net/rsrc.php/v3/yX/l/0,cross/90x4oEKKKqw.css?_nc_x=Ij3Wp8lg5Kz', 9.01953125)]\n",
      "Analyzing 359 of 523: https://www.facebook.com/sharer/sharer.php?u=https://fampay.in/blog/fampay-announces-launch-of-indias-first-numberless-card/\n",
      "Page size: 17.109375 KB\n",
      "Resource sizes: [('https://static.xx.fbcdn.net/rsrc.php/v3/y8/r/k97pj8-or6s.png', 0.7900390625), ('https://facebook.com/security/hsts-pixel.gif?c=3.2', 0.0)]\n",
      "Analyzing 360 of 523: https://twitter.com/intent/tweet?text=FamPay%20Announces%20Launch%20of%20India%E2%80%99s%20First%20Numberless%20Card&url=https://fampay.in/blog/fampay-announces-launch-of-indias-first-numberless-card/\n",
      "Page size: 167.810546875 KB\n",
      "Resource sizes: [('https://abs.twimg.com/errors/logo46x38.png', 0.9912109375), ('https://abs.twimg.com/responsive-web/client-web-legacy/shared~bundle.Compose~bundle.RichTextCompose.a2fa6b8a.js', 52.9111328125), ('https://abs.twimg.com/responsive-web/client-web-legacy/polyfills.d5242a4a.js', 17.72265625), ('https://abs.twimg.com/responsive-web/client-web-legacy/vendor.3cb7d15a.js', 218.7216796875), ('https://abs.twimg.com/responsive-web/client-web-legacy/i18n/en.213585ba.js', 114.365234375), ('https://abs.twimg.com/responsive-web/client-web-legacy/main.79ac570a.js', 408.1171875)]\n",
      "Analyzing 361 of 523: http://www.fampay.in/\n",
      "Page size: 32.552734375 KB\n",
      "Resource sizes: [('/assets/images/icons/common/partyCapIcon.svg', 0.130859375), ('/assets/images/icons/common/partyFaceIcon.svg', 0.130859375), ('/assets/images/icons/common/singleGreyArrowIcon.svg', 0.130859375), ('/assets/images/icons/common/headerWhiteLogoIcon.svg', 0.130859375), ('/assets/images/images/pages/index/FamXBanner.png', 0.130859375), ('/assets/images/images/pages/index/FamXBanner.png', 0.130859375), ('/assets/images/images/pages/index/userTrustImage.png', 0.130859375), ('/assets/images/images/pages/index/TrioLogo.png', 0.130859375), ('/assets/images/images/pages/index/VisaLogo.png', 0.130859375), ('/assets/images/images/pages/index/RupayLogo.png', 0.130859375), ('/assets/images/images/pages/index/UPILogo.png', 0.130859375), ('/assets/images/images/pages/index/userTrustImage.png', 0.130859375), ('/assets/images/images/pages/index/TrioLogo.png', 0.130859375), ('/assets/images/images/pages/index/VisaLogo.png', 0.130859375), ('/assets/images/images/pages/index/RupayLogo.png', 0.130859375), ('/assets/images/images/pages/index/UPILogo.png', 0.130859375), ('/assets/images/images/pages/index/SpendingAccountImage.jpg', 0.130859375), ('/assets/images/images/pages/index/FamXTeens.png', 0.130859375), ('/assets/images/images/pages/index/scanPayUpi.png', 0.130859375), ('/assets/images/images/pages/index/personalizedThemes.png', 0.130859375), ('/assets/images/images/pages/index/recharge.png', 0.130859375), ('/assets/images/images/pages/index/upiImage.png', 0.130859375), ('/assets/images/images/pages/index/rewardIcon.png', 0.130859375), ('/assets/images/images/pages/index/giveaway.png', 0.130859375), ('/assets/images/images/pages/index/challenges.png', 0.130859375), ('/assets/images/images/pages/index/burnFamcoinPhoneImage.png', 0.130859375), ('/assets/images/images/pages/index/famcoinRewards.png', 0.130859375), ('/assets/images/images/pages/index/rewardIcon.png', 0.130859375), ('/assets/images/images/pages/index/giveaway.png', 0.130859375), ('/assets/images/images/pages/index/challenges.png', 0.130859375), ('/assets/images/images/pages/index/burnFamcoinPhoneImage.png', 0.130859375), ('/assets/images/images/pages/index/FamXCard.png', 0.130859375), ('/assets/images/images/pages/index/FamXCardTitle.png', 0.130859375), ('/assets/images/images/pages/index/Classic.png', 0.130859375), ('/assets/images/images/pages/index/Plus.png', 0.130859375), ('/assets/images/images/pages/index/Ultra.png', 0.130859375), ('/assets/images/images/pages/index/supportChatGif.gif', 0.130859375), ('/assets/images/images/pages/index/elevationImage.png', 0.130859375), ('/assets/images/images/pages/index/sequoiaImage.png', 0.130859375), ('/assets/images/images/pages/index/vhImage.png', 0.130859375), ('/assets/images/images/pages/index/gcImage.png', 0.130859375), ('/assets/images/images/pages/index/ycImage.png', 0.130859375), ('/assets/images/images/pages/index/gfcImage.png', 0.130859375), ('/assets/images/images/pages/index/rocketshipImage.png', 0.130859375), ('/assets/images/images/pages/index/greenoaksImage.png', 0.130859375), ('/assets/images/images/pages/index/hiringImage.png', 0.130859375), ('/assets/images/images/pages/index/qrcode.png', 0.130859375), ('/assets/images/icons/common/headerWhiteLogoIcon.svg', 0.130859375), ('/assets/images/icons/common/facebookGreyIcon.svg', 0.130859375), ('/assets/images/icons/common/mediumGreyIcon.svg', 0.130859375), ('/assets/images/icons/common/instagramGreyIcon.svg', 0.130859375), ('/assets/images/icons/common/linkedinGreyIcon.svg', 0.130859375), ('/assets/images/icons/common/twitterGreyIcon.svg', 0.130859375), ('/assets/images/icons/common/discordGreyIcon.svg', 0.130859375), ('/assets/images/icons/common/snapchatGreyIcon.svg', 0.130859375), ('/assets/images/icons/common/youtubeGreyIcon.svg', 0.130859375), ('/_next/static/chunks/polyfills-5cd94c89d3acac5f.js', 0.130859375), ('/_next/static/chunks/webpack-e2315b53e504a6de.js', 0.130859375), ('/_next/static/chunks/framework-79bce4a3a540b080.js', 0.130859375), ('/_next/static/chunks/main-02d79fe8c2a509ed.js', 0.130859375), ('/_next/static/chunks/pages/_app-5aa48e6daaf3fe0d.js', 0.130859375), ('/_next/static/chunks/2905-8aaa955321746aca.js', 0.130859375), ('/_next/static/chunks/5518-21e58bc44adfaa2d.js', 0.130859375), ('/_next/static/chunks/7454-c90862ff3e03df1e.js', 0.130859375), ('/_next/static/chunks/4590-75312c952da4fb21.js', 0.130859375), ('/_next/static/chunks/pages/index-afcb2cf026d17c85.js', 0.130859375), ('/_next/static/OnBp0dXLpVOYqcPmAsImr/_buildManifest.js', 0.130859375), ('/_next/static/OnBp0dXLpVOYqcPmAsImr/_ssgManifest.js', 0.130859375), ('/_next/static/OnBp0dXLpVOYqcPmAsImr/_middlewareManifest.js', 0.130859375), ('/_next/static/css/6238d6cccf041c98.css', 0.130859375), ('/_next/static/css/a3ccf72303662f65.css', 0.130859375)]\n",
      "Analyzing 362 of 523: http://www.fampay.in/about\n",
      "Page size: 81.1337890625 KB\n",
      "Resource sizes: [('/assets/images/icons/common/partyCapIcon.svg', 0.130859375), ('/assets/images/icons/common/partyFaceIcon.svg', 0.130859375), ('/assets/images/icons/common/singleGreyArrowIcon.svg', 0.130859375), ('/assets/images/icons/common/headerWhiteLogoIcon.svg', 0.130859375), ('/assets/images/images/pages/about/missionImage.jpg', 0.130859375), ('/assets/images/images/pages/about/storyImage.jpg', 0.130859375), ('https://cdn.famapp.co.in/prod/website/famstars/kt.png', 42.6298828125), ('https://cdn.famapp.co.in/prod/website/famstars/sambhav.png', 74.1875), ('https://cdn.famapp.co.in/prod/website/famstars/harjot.png', 51.4326171875), ('https://cdn.famapp.co.in/prod/website/famstars/aayush.png', 45.95703125), ('https://cdn.famapp.co.in/prod/website/famstars/chirag.png', 52.166015625), ('https://cdn.famapp.co.in/prod/website/famstars/anchit.png', 54.0478515625), ('https://cdn.famapp.co.in/prod/website/famstars/prem.png', 83.2861328125), ('https://cdn.famapp.co.in/prod/website/famstars/saransh.png', 45.501953125), ('https://cdn.famapp.co.in/prod/website/famstars/Hrishi.png', 57.89453125), ('https://cdn.famapp.co.in/prod/website/famstars/pratikG.png', 69.029296875), ('https://cdn.famapp.co.in/prod/website/famstars/ritwick.png', 106.1552734375), ('https://cdn.famapp.co.in/prod/website/famstars/diya.png', 129.701171875), ('https://cdn.famapp.co.in/prod/website/famstars/chitra.png', 112.1630859375), ('https://cdn.famapp.co.in/prod/website/famstars/vishnu.png', 143.0869140625), ('https://cdn.famapp.co.in/prod/website/famstars/shifa.png', 493.1455078125), ('https://cdn.famapp.co.in/prod/website/famstars/tiara.png', 99.5986328125), ('https://cdn.famapp.co.in/prod/website/famstars/Charvi.png', 100.0693359375), ('https://cdn.famapp.co.in/prod/website/famstars/sajal.png', 45.025390625), ('https://cdn.famapp.co.in/prod/website/famstars/saurabhG.png', 22.1083984375), ('https://cdn.famapp.co.in/prod/website/famstars/janani.png', 136.478515625), ('https://cdn.famapp.co.in/prod/website/famstars/tanya.png', 123.55078125), ('https://cdn.famapp.co.in/prod/website/famstars/jitendra.png', 61.4140625), ('https://cdn.famapp.co.in/prod/website/famstars/abhay.png', 73.1044921875), ('https://cdn.famapp.co.in/prod/website/famstars/Aditya.png', 126.791015625), ('https://cdn.famapp.co.in/prod/website/famstars/Akhil.png', 71.1884765625), ('https://cdn.famapp.co.in/prod/website/famstars/Aapram.png', 76.271484375), ('https://cdn.famapp.co.in/prod/website/famstars/shagun.png', 63.2119140625), ('/assets/images/images/famstars/sid.png', 0.130859375), ('/assets/images/images/famstars/melron.png', 0.130859375), ('/assets/images/images/famstars/ananya.png', 0.130859375), ('/assets/images/images/famstars/anand.png', 0.130859375), ('/assets/images/images/famstars/vaibhavi.png', 0.130859375), ('/assets/images/images/famstars/sanjeet.png', 0.130859375), ('/assets/images/images/famstars/ridima.png', 0.130859375), ('/assets/images/images/famstars/garvita.png', 0.130859375), ('/assets/images/images/famstars/aishwarya.png', 0.130859375), ('/assets/images/images/famstars/vishalJain.png', 0.130859375), ('/assets/images/images/famstars/brijesh.png', 0.130859375), ('/assets/images/images/famstars/anshu.png', 0.130859375), ('/assets/images/images/famstars/yashJain.png', 0.130859375), ('/assets/images/images/famstars/gaurav.png', 0.130859375), ('/assets/images/images/famstars/komal.png', 0.130859375), ('/assets/images/images/famstars/mohit.png', 0.130859375), ('/assets/images/images/famstars/nimitt.png', 0.130859375), ('/assets/images/images/famstars/sameeran.png', 0.130859375), ('/assets/images/images/famstars/shikhar.png', 0.130859375), ('/assets/images/images/famstars/soumik.png', 0.130859375), ('/assets/images/images/famstars/sumit.png', 0.130859375), ('/assets/images/images/famstars/vishal.png', 0.130859375), ('/assets/images/images/famstars/priyanka.png', 0.130859375), ('/assets/images/images/famstars/arohi.png', 0.130859375), ('/assets/images/images/famstars/devarsh.png', 0.130859375), ('/assets/images/images/famstars/archit.png', 0.130859375), ('/assets/images/images/famstars/agniva.png', 0.130859375), ('/assets/images/images/famstars/moksha.png', 0.130859375), ('/assets/images/images/famstars/prasanjeet.png', 0.130859375), ('/assets/images/images/famstars/sakshi.png', 0.130859375), ('/assets/images/images/famstars/sabarish.png', 0.130859375), ('/assets/images/images/famstars/karan.png', 0.130859375), ('/assets/images/images/famstars/peeyush.png', 0.130859375), ('/assets/images/images/famstars/shobhit.png', 0.130859375), ('/assets/images/images/famstars/sanat.png', 0.130859375), ('/assets/images/icons/common/singleGreyArrowIcon.svg', 0.130859375), ('https://cdn.famapp.co.in/prod/website/famstars/kt.png', 42.6298828125), ('https://cdn.famapp.co.in/prod/website/famstars/sambhav.png', 74.1875), ('https://cdn.famapp.co.in/prod/website/famstars/harjot.png', 51.4326171875), ('https://cdn.famapp.co.in/prod/website/famstars/aayush.png', 45.95703125), ('https://cdn.famapp.co.in/prod/website/famstars/chirag.png', 52.166015625), ('https://cdn.famapp.co.in/prod/website/famstars/anchit.png', 54.0478515625), ('https://cdn.famapp.co.in/prod/website/famstars/prem.png', 83.2861328125), ('https://cdn.famapp.co.in/prod/website/famstars/saransh.png', 45.501953125), ('https://cdn.famapp.co.in/prod/website/famstars/Hrishi.png', 57.89453125), ('https://cdn.famapp.co.in/prod/website/famstars/pratikG.png', 69.029296875), ('https://cdn.famapp.co.in/prod/website/famstars/ritwick.png', 106.1552734375), ('https://cdn.famapp.co.in/prod/website/famstars/diya.png', 129.701171875), ('https://cdn.famapp.co.in/prod/website/famstars/chitra.png', 112.1630859375), ('https://cdn.famapp.co.in/prod/website/famstars/vishnu.png', 143.0869140625), ('https://cdn.famapp.co.in/prod/website/famstars/shifa.png', 493.1455078125), ('https://cdn.famapp.co.in/prod/website/famstars/tiara.png', 99.5986328125), ('https://cdn.famapp.co.in/prod/website/famstars/Charvi.png', 100.0693359375), ('https://cdn.famapp.co.in/prod/website/famstars/sajal.png', 45.025390625), ('https://cdn.famapp.co.in/prod/website/famstars/saurabhG.png', 22.1083984375), ('https://cdn.famapp.co.in/prod/website/famstars/janani.png', 136.478515625), ('https://cdn.famapp.co.in/prod/website/famstars/tanya.png', 123.55078125), ('https://cdn.famapp.co.in/prod/website/famstars/jitendra.png', 61.4140625), ('https://cdn.famapp.co.in/prod/website/famstars/abhay.png', 73.1044921875), ('https://cdn.famapp.co.in/prod/website/famstars/Aditya.png', 126.791015625), ('https://cdn.famapp.co.in/prod/website/famstars/Akhil.png', 71.1884765625), ('https://cdn.famapp.co.in/prod/website/famstars/Aapram.png', 76.271484375), ('https://cdn.famapp.co.in/prod/website/famstars/shagun.png', 63.2119140625), ('/assets/images/images/famstars/sid.png', 0.130859375), ('/assets/images/images/famstars/melron.png', 0.130859375), ('/assets/images/images/famstars/ananya.png', 0.130859375), ('/assets/images/images/famstars/anand.png', 0.130859375), ('/assets/images/images/famstars/vaibhavi.png', 0.130859375), ('/assets/images/images/famstars/sanjeet.png', 0.130859375), ('/assets/images/images/famstars/ridima.png', 0.130859375), ('/assets/images/images/famstars/garvita.png', 0.130859375), ('/assets/images/images/famstars/aishwarya.png', 0.130859375), ('/assets/images/images/famstars/vishalJain.png', 0.130859375), ('/assets/images/images/famstars/brijesh.png', 0.130859375), ('/assets/images/images/famstars/anshu.png', 0.130859375), ('/assets/images/images/famstars/yashJain.png', 0.130859375), ('/assets/images/images/famstars/gaurav.png', 0.130859375), ('/assets/images/images/famstars/komal.png', 0.130859375), ('/assets/images/images/famstars/mohit.png', 0.130859375), ('/assets/images/images/famstars/nimitt.png', 0.130859375), ('/assets/images/images/famstars/sameeran.png', 0.130859375), ('/assets/images/images/famstars/shikhar.png', 0.130859375), ('/assets/images/images/famstars/soumik.png', 0.130859375), ('/assets/images/images/famstars/sumit.png', 0.130859375), ('/assets/images/images/famstars/vishal.png', 0.130859375), ('/assets/images/images/famstars/priyanka.png', 0.130859375), ('/assets/images/images/famstars/arohi.png', 0.130859375), ('/assets/images/images/famstars/devarsh.png', 0.130859375), ('/assets/images/images/famstars/archit.png', 0.130859375), ('/assets/images/images/famstars/agniva.png', 0.130859375), ('/assets/images/images/famstars/moksha.png', 0.130859375), ('/assets/images/images/famstars/prasanjeet.png', 0.130859375), ('/assets/images/images/famstars/sakshi.png', 0.130859375), ('/assets/images/images/famstars/sabarish.png', 0.130859375), ('/assets/images/images/famstars/karan.png', 0.130859375), ('/assets/images/images/famstars/peeyush.png', 0.130859375), ('/assets/images/images/famstars/shobhit.png', 0.130859375), ('/assets/images/images/famstars/sanat.png', 0.130859375), ('/assets/images/icons/common/singleGreyArrowIcon.svg', 0.130859375), ('/assets/images/icons/common/headerGreyLogoIcon.svg', 0.130859375), ('/assets/images/icons/common/facebookGreyIcon.svg', 0.130859375), ('/assets/images/icons/common/mediumGreyIcon.svg', 0.130859375), ('/assets/images/icons/common/instagramGreyIcon.svg', 0.130859375), ('/assets/images/icons/common/linkedinGreyIcon.svg', 0.130859375), ('/assets/images/icons/common/twitterGreyIcon.svg', 0.130859375), ('/assets/images/icons/common/discordGreyIcon.svg', 0.130859375), ('/assets/images/icons/common/snapchatGreyIcon.svg', 0.130859375), ('/assets/images/icons/common/youtubeGreyIcon.svg', 0.130859375), ('/_next/static/chunks/polyfills-5cd94c89d3acac5f.js', 0.130859375), ('/_next/static/chunks/webpack-e2315b53e504a6de.js', 0.130859375), ('/_next/static/chunks/framework-79bce4a3a540b080.js', 0.130859375), ('/_next/static/chunks/main-02d79fe8c2a509ed.js', 0.130859375), ('/_next/static/chunks/pages/_app-5aa48e6daaf3fe0d.js', 0.130859375), ('/_next/static/chunks/2905-8aaa955321746aca.js', 0.130859375), ('/_next/static/chunks/1472-e24409dd291e3c18.js', 0.130859375), ('/_next/static/chunks/7454-c90862ff3e03df1e.js', 0.130859375), ('/_next/static/chunks/4590-75312c952da4fb21.js', 0.130859375), ('/_next/static/chunks/pages/about-b955a1c3293f2ffc.js', 0.130859375), ('/_next/static/OnBp0dXLpVOYqcPmAsImr/_buildManifest.js', 0.130859375), ('/_next/static/OnBp0dXLpVOYqcPmAsImr/_ssgManifest.js', 0.130859375), ('/_next/static/OnBp0dXLpVOYqcPmAsImr/_middlewareManifest.js', 0.130859375), ('/_next/static/css/6238d6cccf041c98.css', 0.130859375), ('/_next/static/css/483015020b48b4d6.css', 0.130859375)]\n",
      "Analyzing 363 of 523: http://www.fampay.in/blog\n",
      "Page size: 36.6396484375 KB\n",
      "Resource sizes: [('https://fampay.in/blog/content/images/2020/11/logofilewhite-11-2.png', 0.130859375), ('https://fampay.in/blog/content/images/2020/11/logofilewhite-11-2.png', 0.130859375), ('https://cdn.jsdelivr.net/ghost/portal@~2.30/umd/portal.min.js', 170.8154296875), ('https://cdn.jsdelivr.net/ghost/sodo-search@~1.1/umd/sodo-search.min.js', 95.5751953125), ('/blog/public/cards.min.js?v=22080dfa02', 0.130859375), ('/blog/public/member-attribution.min.js?v=22080dfa02', 0.130859375), ('https://www.googletagmanager.com/gtag/js?id=UA-147725948-3', 0.0), ('https://polyfill.io/v3/polyfill.min.js?features=IntersectionObserver%2CPromise%2CArray.prototype.includes%2CString.prototype.endsWith%2CString.prototype.startsWith%2CObject.assign%2CNodeList.prototype.forEach', 14.1123046875), ('/blog/assets/js/vendor/content-api.min.js?v=22080dfa02', 0.130859375), ('/blog/assets/js/manifest.js?v=22080dfa02', 0.130859375), ('/blog/assets/js/vendor.js?v=22080dfa02', 0.130859375), ('/blog/assets/js/app.js?v=22080dfa02', 0.130859375), ('/blog/assets/js/home.js?v=22080dfa02', 0.130859375), ('/blog/assets/css/app.css?v=22080dfa02', 0.130859375), ('/blog/public/cards.min.css?v=22080dfa02', 0.130859375)]\n",
      "Analyzing 364 of 523: http://www.fampay.in/careers\n",
      "Page size: 22.8056640625 KB\n",
      "Resource sizes: [('/assets/images/icons/common/partyCapIcon.svg', 0.130859375), ('/assets/images/icons/common/partyFaceIcon.svg', 0.130859375), ('/assets/images/icons/common/singleGreyArrowIcon.svg', 0.130859375), ('/assets/images/icons/common/headerWhiteLogoIcon.svg', 0.130859375), ('/assets/images/images/pages/careers/famWork1Image.png', 0.130859375), ('/assets/images/images/pages/careers/famWork2Image.png', 0.130859375), ('/assets/images/images/pages/careers/famWork3Image.png', 0.130859375), ('/assets/images/images/pages/careers/famWork4Image.png', 0.130859375), ('/assets/images/icons/common/instagramColorIcon.svg', 0.130859375), ('/assets/images/icons/common/instagramColorIcon.svg', 0.130859375), ('/assets/images/icons/common/instagramColorIcon.svg', 0.130859375), ('/assets/images/icons/common/twitterColorIcon.svg', 0.130859375), ('/assets/images/icons/common/linkedinColorIcon.png', 0.130859375), ('/assets/images/images/pages/careers/famPerk2Image.jpg', 0.130859375), ('/assets/images/images/pages/careers/famPerk3Image.jpg', 0.130859375), ('/assets/images/images/pages/careers/famPerk4Image.jpg', 0.130859375), ('/assets/images/images/pages/careers/famPerk5Image.jpg', 0.130859375), ('/assets/images/images/pages/careers/famPerk5Image.jpg', 0.130859375), ('/assets/images/icons/common/headerWhiteLogoIcon.svg', 0.130859375), ('/assets/images/icons/common/facebookGreyIcon.svg', 0.130859375), ('/assets/images/icons/common/mediumGreyIcon.svg', 0.130859375), ('/assets/images/icons/common/instagramGreyIcon.svg', 0.130859375), ('/assets/images/icons/common/linkedinGreyIcon.svg', 0.130859375), ('/assets/images/icons/common/twitterGreyIcon.svg', 0.130859375), ('/assets/images/icons/common/discordGreyIcon.svg', 0.130859375), ('/assets/images/icons/common/snapchatGreyIcon.svg', 0.130859375), ('/assets/images/icons/common/youtubeGreyIcon.svg', 0.130859375), ('/_next/static/chunks/polyfills-5cd94c89d3acac5f.js', 0.130859375), ('/_next/static/chunks/webpack-e2315b53e504a6de.js', 0.130859375), ('/_next/static/chunks/framework-79bce4a3a540b080.js', 0.130859375), ('/_next/static/chunks/main-02d79fe8c2a509ed.js', 0.130859375), ('/_next/static/chunks/pages/_app-5aa48e6daaf3fe0d.js', 0.130859375), ('/_next/static/chunks/2905-8aaa955321746aca.js', 0.130859375), ('/_next/static/chunks/7454-c90862ff3e03df1e.js', 0.130859375), ('/_next/static/chunks/4590-75312c952da4fb21.js', 0.130859375), ('/_next/static/chunks/pages/careers-bf95817061a277ba.js', 0.130859375), ('/_next/static/OnBp0dXLpVOYqcPmAsImr/_buildManifest.js', 0.130859375), ('/_next/static/OnBp0dXLpVOYqcPmAsImr/_ssgManifest.js', 0.130859375), ('/_next/static/OnBp0dXLpVOYqcPmAsImr/_middlewareManifest.js', 0.130859375), ('/_next/static/css/6238d6cccf041c98.css', 0.130859375), ('/_next/static/css/c87208f7ca39f50f.css', 0.130859375)]\n",
      "Analyzing 365 of 523: http://www.fampay.in/partner\n",
      "Page size: 25.775390625 KB\n",
      "Resource sizes: [('/assets/images/icons/common/partyCapIcon.svg', 0.130859375), ('/assets/images/icons/common/partyFaceIcon.svg', 0.130859375), ('/assets/images/icons/common/singleGreyArrowIcon.svg', 0.130859375), ('/assets/images/icons/common/headerWhiteLogoIcon.svg', 0.130859375), ('/assets/images/images/pages/partners/partnersMob.png', 0.130859375), ('/assets/images/images/pages/partners/partners.png', 0.130859375), ('/assets/images/images/pages/partners/hype1.png', 0.130859375), ('/assets/images/images/pages/partners/hype2.png', 0.130859375), ('/assets/images/images/pages/partners/hype3.png', 0.130859375), ('/assets/images/images/pages/partners/hype1.png', 0.130859375), ('/assets/images/images/pages/partners/hype2.png', 0.130859375), ('/assets/images/images/pages/partners/hype3.png', 0.130859375), ('/assets/images/images/pages/partners/igLogo.png', 0.130859375), ('/assets/images/images/pages/partners/discordLogo.png', 0.130859375), ('/assets/images/images/pages/partners/tfLogo.png', 0.130859375), ('/assets/images/images/pages/partners/unacadPoster.jpeg', 0.130859375), ('/assets/images/images/pages/partners/unacadLogo.png', 0.130859375), ('/assets/images/images/pages/partners/unacadLogo.png', 0.130859375), ('/assets/images/images/pages/partners/leafPoster.jpeg', 0.130859375), ('/assets/images/images/pages/partners/leafLogo.png', 0.130859375), ('/assets/images/images/pages/partners/leafLogo.png', 0.130859375), ('/assets/images/images/pages/partners/frrowPoster.jpeg', 0.130859375), ('/assets/images/images/pages/partners/frrowLogo.png', 0.130859375), ('/assets/images/images/pages/partners/frrowLogo.png', 0.130859375), ('/assets/images/icons/common/headerWhiteLogoIcon.svg', 0.130859375), ('/assets/images/icons/common/facebookGreyIcon.svg', 0.130859375), ('/assets/images/icons/common/mediumGreyIcon.svg', 0.130859375), ('/assets/images/icons/common/instagramGreyIcon.svg', 0.130859375), ('/assets/images/icons/common/linkedinGreyIcon.svg', 0.130859375), ('/assets/images/icons/common/twitterGreyIcon.svg', 0.130859375), ('/assets/images/icons/common/discordGreyIcon.svg', 0.130859375), ('/assets/images/icons/common/snapchatGreyIcon.svg', 0.130859375), ('/assets/images/icons/common/youtubeGreyIcon.svg', 0.130859375), ('/_next/static/chunks/polyfills-5cd94c89d3acac5f.js', 0.130859375), ('/_next/static/chunks/webpack-e2315b53e504a6de.js', 0.130859375), ('/_next/static/chunks/framework-79bce4a3a540b080.js', 0.130859375), ('/_next/static/chunks/main-02d79fe8c2a509ed.js', 0.130859375), ('/_next/static/chunks/pages/_app-5aa48e6daaf3fe0d.js', 0.130859375), ('/_next/static/chunks/2905-8aaa955321746aca.js', 0.130859375), ('/_next/static/chunks/8764-dbd95fd81c44c3e6.js', 0.130859375), ('/_next/static/chunks/3184-799664908708a83b.js', 0.130859375), ('/_next/static/chunks/9669-ea1b006ae648290c.js', 0.130859375), ('/_next/static/chunks/5518-21e58bc44adfaa2d.js', 0.130859375), ('/_next/static/chunks/7536-96dddaa1a4310d02.js', 0.130859375), ('/_next/static/chunks/7454-c90862ff3e03df1e.js', 0.130859375), ('/_next/static/chunks/4590-75312c952da4fb21.js', 0.130859375), ('/_next/static/chunks/9476-4d017c5288619f7c.js', 0.130859375), ('/_next/static/chunks/pages/partner-2c4ad2810308a8fb.js', 0.130859375), ('/_next/static/OnBp0dXLpVOYqcPmAsImr/_buildManifest.js', 0.130859375), ('/_next/static/OnBp0dXLpVOYqcPmAsImr/_ssgManifest.js', 0.130859375), ('/_next/static/OnBp0dXLpVOYqcPmAsImr/_middlewareManifest.js', 0.130859375), ('/_next/static/css/6238d6cccf041c98.css', 0.130859375), ('/_next/static/css/483fe8d988f292c8.css', 0.130859375)]\n",
      "Analyzing 366 of 523: http://www.fampay.in/faqs\n",
      "Page size: 19.181640625 KB\n",
      "Resource sizes: [('/assets/images/icons/common/partyCapIcon.svg', 0.130859375), ('/assets/images/icons/common/partyFaceIcon.svg', 0.130859375), ('/assets/images/icons/common/singleGreyArrowIcon.svg', 0.130859375), ('/assets/images/icons/common/headerGreyLogoIcon.svg', 0.130859375), ('/assets/images/icons/common/headerGreyLogoIcon.svg', 0.130859375), ('/assets/images/icons/common/facebookGreyIcon.svg', 0.130859375), ('/assets/images/icons/common/mediumGreyIcon.svg', 0.130859375), ('/assets/images/icons/common/instagramGreyIcon.svg', 0.130859375), ('/assets/images/icons/common/linkedinGreyIcon.svg', 0.130859375), ('/assets/images/icons/common/twitterGreyIcon.svg', 0.130859375), ('/assets/images/icons/common/discordGreyIcon.svg', 0.130859375), ('/assets/images/icons/common/snapchatGreyIcon.svg', 0.130859375), ('/assets/images/icons/common/youtubeGreyIcon.svg', 0.130859375), ('/_next/static/chunks/polyfills-5cd94c89d3acac5f.js', 0.130859375), ('/_next/static/chunks/webpack-e2315b53e504a6de.js', 0.130859375), ('/_next/static/chunks/framework-79bce4a3a540b080.js', 0.130859375), ('/_next/static/chunks/main-02d79fe8c2a509ed.js', 0.130859375), ('/_next/static/chunks/pages/_app-5aa48e6daaf3fe0d.js', 0.130859375), ('/_next/static/chunks/2905-8aaa955321746aca.js', 0.130859375), ('/_next/static/chunks/8764-dbd95fd81c44c3e6.js', 0.130859375), ('/_next/static/chunks/3184-799664908708a83b.js', 0.130859375), ('/_next/static/chunks/5518-21e58bc44adfaa2d.js', 0.130859375), ('/_next/static/chunks/7454-c90862ff3e03df1e.js', 0.130859375), ('/_next/static/chunks/9476-4d017c5288619f7c.js', 0.130859375), ('/_next/static/chunks/pages/faqs-860c0b29a929fb8a.js', 0.130859375), ('/_next/static/OnBp0dXLpVOYqcPmAsImr/_buildManifest.js', 0.130859375), ('/_next/static/OnBp0dXLpVOYqcPmAsImr/_ssgManifest.js', 0.130859375), ('/_next/static/OnBp0dXLpVOYqcPmAsImr/_middlewareManifest.js', 0.130859375), ('/_next/static/css/6238d6cccf041c98.css', 0.130859375), ('/_next/static/css/506b8fb45dc38163.css', 0.130859375)]\n",
      "Analyzing 367 of 523: http://www.fampay.in/blog/\n",
      "Page size: 36.6396484375 KB\n",
      "Resource sizes: [('https://fampay.in/blog/content/images/2020/11/logofilewhite-11-2.png', 0.130859375), ('https://fampay.in/blog/content/images/2020/11/logofilewhite-11-2.png', 0.130859375), ('https://cdn.jsdelivr.net/ghost/portal@~2.30/umd/portal.min.js', 170.8154296875), ('https://cdn.jsdelivr.net/ghost/sodo-search@~1.1/umd/sodo-search.min.js', 95.5751953125), ('/blog/public/cards.min.js?v=22080dfa02', 0.130859375), ('/blog/public/member-attribution.min.js?v=22080dfa02', 0.130859375), ('https://www.googletagmanager.com/gtag/js?id=UA-147725948-3', 0.0), ('https://polyfill.io/v3/polyfill.min.js?features=IntersectionObserver%2CPromise%2CArray.prototype.includes%2CString.prototype.endsWith%2CString.prototype.startsWith%2CObject.assign%2CNodeList.prototype.forEach', 14.1123046875), ('/blog/assets/js/vendor/content-api.min.js?v=22080dfa02', 0.130859375), ('/blog/assets/js/manifest.js?v=22080dfa02', 0.130859375), ('/blog/assets/js/vendor.js?v=22080dfa02', 0.130859375), ('/blog/assets/js/app.js?v=22080dfa02', 0.130859375), ('/blog/assets/js/home.js?v=22080dfa02', 0.130859375), ('/blog/assets/css/app.css?v=22080dfa02', 0.130859375), ('/blog/public/cards.min.css?v=22080dfa02', 0.130859375)]\n",
      "Analyzing 368 of 523: http://www.fampay.in/press\n",
      "Page size: 21.89453125 KB\n",
      "Resource sizes: [('/assets/images/icons/common/partyCapIcon.svg', 0.130859375), ('/assets/images/icons/common/partyFaceIcon.svg', 0.130859375), ('/assets/images/icons/common/singleGreyArrowIcon.svg', 0.130859375), ('/assets/images/icons/common/headerWhiteLogoIcon.svg', 0.130859375), ('/assets/images/images/pages/press/forbesLogoImage.jpg', 0.130859375), ('/assets/images/images/pages/press/yourstoryLogoImage.jpg', 0.130859375), ('/assets/images/images/pages/press/etLogoImage.jpg', 0.130859375), ('/assets/images/images/pages/press/yourstoryLogoImage.jpg', 0.130859375), ('/assets/images/images/pages/press/cnbcLogoImage.jpg', 0.130859375), ('/assets/images/images/pages/press/inc42LogoImage.jpg', 0.130859375), ('/assets/images/images/pages/press/ieLogoImage.jpg', 0.130859375), ('/assets/images/icons/common/singleGreyArrowIcon.svg', 0.130859375), ('/assets/images/icons/common/singleGreyArrowIcon.svg', 0.130859375), ('/assets/images/icons/common/headerGreyLogoIcon.svg', 0.130859375), ('/assets/images/icons/common/facebookGreyIcon.svg', 0.130859375), ('/assets/images/icons/common/mediumGreyIcon.svg', 0.130859375), ('/assets/images/icons/common/instagramGreyIcon.svg', 0.130859375), ('/assets/images/icons/common/linkedinGreyIcon.svg', 0.130859375), ('/assets/images/icons/common/twitterGreyIcon.svg', 0.130859375), ('/assets/images/icons/common/discordGreyIcon.svg', 0.130859375), ('/assets/images/icons/common/snapchatGreyIcon.svg', 0.130859375), ('/assets/images/icons/common/youtubeGreyIcon.svg', 0.130859375), ('/_next/static/chunks/polyfills-5cd94c89d3acac5f.js', 0.130859375), ('/_next/static/chunks/webpack-e2315b53e504a6de.js', 0.130859375), ('/_next/static/chunks/framework-79bce4a3a540b080.js', 0.130859375), ('/_next/static/chunks/main-02d79fe8c2a509ed.js', 0.130859375), ('/_next/static/chunks/pages/_app-5aa48e6daaf3fe0d.js', 0.130859375), ('/_next/static/chunks/2905-8aaa955321746aca.js', 0.130859375), ('/_next/static/chunks/5518-21e58bc44adfaa2d.js', 0.130859375), ('/_next/static/chunks/7454-c90862ff3e03df1e.js', 0.130859375), ('/_next/static/chunks/4590-75312c952da4fb21.js', 0.130859375), ('/_next/static/chunks/pages/press-91c3167f8b71b922.js', 0.130859375), ('/_next/static/OnBp0dXLpVOYqcPmAsImr/_buildManifest.js', 0.130859375), ('/_next/static/OnBp0dXLpVOYqcPmAsImr/_ssgManifest.js', 0.130859375), ('/_next/static/OnBp0dXLpVOYqcPmAsImr/_middlewareManifest.js', 0.130859375), ('/_next/static/css/6238d6cccf041c98.css', 0.130859375), ('/_next/static/css/4404c8a0c2cfe667.css', 0.130859375)]\n",
      "Analyzing 369 of 523: http://www.fampay.in/privacy\n",
      "Page size: 33.0693359375 KB\n",
      "Resource sizes: [('/assets/images/icons/common/partyCapIcon.svg', 0.130859375), ('/assets/images/icons/common/partyFaceIcon.svg', 0.130859375), ('/assets/images/icons/common/singleGreyArrowIcon.svg', 0.130859375), ('/assets/images/icons/common/headerGreyLogoIcon.svg', 0.130859375), ('/assets/images/icons/common/headerGreyLogoIcon.svg', 0.130859375), ('/assets/images/icons/common/facebookGreyIcon.svg', 0.130859375), ('/assets/images/icons/common/mediumGreyIcon.svg', 0.130859375), ('/assets/images/icons/common/instagramGreyIcon.svg', 0.130859375), ('/assets/images/icons/common/linkedinGreyIcon.svg', 0.130859375), ('/assets/images/icons/common/twitterGreyIcon.svg', 0.130859375), ('/assets/images/icons/common/discordGreyIcon.svg', 0.130859375), ('/assets/images/icons/common/snapchatGreyIcon.svg', 0.130859375), ('/assets/images/icons/common/youtubeGreyIcon.svg', 0.130859375), ('/_next/static/chunks/polyfills-5cd94c89d3acac5f.js', 0.130859375), ('/_next/static/chunks/webpack-e2315b53e504a6de.js', 0.130859375), ('/_next/static/chunks/framework-79bce4a3a540b080.js', 0.130859375), ('/_next/static/chunks/main-02d79fe8c2a509ed.js', 0.130859375), ('/_next/static/chunks/pages/_app-5aa48e6daaf3fe0d.js', 0.130859375), ('/_next/static/chunks/2905-8aaa955321746aca.js', 0.130859375), ('/_next/static/chunks/7454-c90862ff3e03df1e.js', 0.130859375), ('/_next/static/chunks/pages/privacy-96cc3690295b6f0d.js', 0.130859375), ('/_next/static/OnBp0dXLpVOYqcPmAsImr/_buildManifest.js', 0.130859375), ('/_next/static/OnBp0dXLpVOYqcPmAsImr/_ssgManifest.js', 0.130859375), ('/_next/static/OnBp0dXLpVOYqcPmAsImr/_middlewareManifest.js', 0.130859375), ('/_next/static/css/6238d6cccf041c98.css', 0.130859375), ('/_next/static/css/30cb866e646997e9.css', 0.130859375)]\n",
      "Analyzing 370 of 523: http://www.fampay.in/terms\n",
      "Page size: 54.8271484375 KB\n",
      "Resource sizes: [('/assets/images/icons/common/partyCapIcon.svg', 0.130859375), ('/assets/images/icons/common/partyFaceIcon.svg', 0.130859375), ('/assets/images/icons/common/singleGreyArrowIcon.svg', 0.130859375), ('/assets/images/icons/common/headerGreyLogoIcon.svg', 0.130859375), ('/assets/images/icons/common/headerGreyLogoIcon.svg', 0.130859375), ('/assets/images/icons/common/facebookGreyIcon.svg', 0.130859375), ('/assets/images/icons/common/mediumGreyIcon.svg', 0.130859375), ('/assets/images/icons/common/instagramGreyIcon.svg', 0.130859375), ('/assets/images/icons/common/linkedinGreyIcon.svg', 0.130859375), ('/assets/images/icons/common/twitterGreyIcon.svg', 0.130859375), ('/assets/images/icons/common/discordGreyIcon.svg', 0.130859375), ('/assets/images/icons/common/snapchatGreyIcon.svg', 0.130859375), ('/assets/images/icons/common/youtubeGreyIcon.svg', 0.130859375), ('/_next/static/chunks/polyfills-5cd94c89d3acac5f.js', 0.130859375), ('/_next/static/chunks/webpack-e2315b53e504a6de.js', 0.130859375), ('/_next/static/chunks/framework-79bce4a3a540b080.js', 0.130859375), ('/_next/static/chunks/main-02d79fe8c2a509ed.js', 0.130859375), ('/_next/static/chunks/pages/_app-5aa48e6daaf3fe0d.js', 0.130859375), ('/_next/static/chunks/2905-8aaa955321746aca.js', 0.130859375), ('/_next/static/chunks/7454-c90862ff3e03df1e.js', 0.130859375), ('/_next/static/chunks/pages/terms-87d410dfeca1b114.js', 0.130859375), ('/_next/static/OnBp0dXLpVOYqcPmAsImr/_buildManifest.js', 0.130859375), ('/_next/static/OnBp0dXLpVOYqcPmAsImr/_ssgManifest.js', 0.130859375), ('/_next/static/OnBp0dXLpVOYqcPmAsImr/_middlewareManifest.js', 0.130859375), ('/_next/static/css/6238d6cccf041c98.css', 0.130859375), ('/_next/static/css/84e4611a737e9413.css', 0.130859375)]\n",
      "Analyzing 371 of 523: http://www.fampay.in/contact\n",
      "Page size: 14.6416015625 KB\n",
      "Resource sizes: [('/assets/images/icons/common/partyCapIcon.svg', 0.130859375), ('/assets/images/icons/common/partyFaceIcon.svg', 0.130859375), ('/assets/images/icons/common/singleGreyArrowIcon.svg', 0.130859375), ('/assets/images/icons/common/headerGreyLogoIcon.svg', 0.130859375), ('/assets/images/icons/common/headerGreyLogoIcon.svg', 0.130859375), ('/assets/images/icons/common/facebookGreyIcon.svg', 0.130859375), ('/assets/images/icons/common/mediumGreyIcon.svg', 0.130859375), ('/assets/images/icons/common/instagramGreyIcon.svg', 0.130859375), ('/assets/images/icons/common/linkedinGreyIcon.svg', 0.130859375), ('/assets/images/icons/common/twitterGreyIcon.svg', 0.130859375), ('/assets/images/icons/common/discordGreyIcon.svg', 0.130859375), ('/assets/images/icons/common/snapchatGreyIcon.svg', 0.130859375), ('/assets/images/icons/common/youtubeGreyIcon.svg', 0.130859375), ('/_next/static/chunks/polyfills-5cd94c89d3acac5f.js', 0.130859375), ('/_next/static/chunks/webpack-e2315b53e504a6de.js', 0.130859375), ('/_next/static/chunks/framework-79bce4a3a540b080.js', 0.130859375), ('/_next/static/chunks/main-02d79fe8c2a509ed.js', 0.130859375), ('/_next/static/chunks/pages/_app-5aa48e6daaf3fe0d.js', 0.130859375), ('/_next/static/chunks/2905-8aaa955321746aca.js', 0.130859375), ('/_next/static/chunks/8764-dbd95fd81c44c3e6.js', 0.130859375), ('/_next/static/chunks/9669-ea1b006ae648290c.js', 0.130859375), ('/_next/static/chunks/4853-cbbfd48281119e55.js', 0.130859375), ('/_next/static/chunks/7454-c90862ff3e03df1e.js', 0.130859375), ('/_next/static/chunks/pages/contact-f5c33c3dbb2ad22a.js', 0.130859375), ('/_next/static/OnBp0dXLpVOYqcPmAsImr/_buildManifest.js', 0.130859375), ('/_next/static/OnBp0dXLpVOYqcPmAsImr/_ssgManifest.js', 0.130859375), ('/_next/static/OnBp0dXLpVOYqcPmAsImr/_middlewareManifest.js', 0.130859375), ('/_next/static/css/6238d6cccf041c98.css', 0.130859375), ('/_next/static/css/e409167f9e607d38.css', 0.130859375)]\n",
      "Analyzing 372 of 523: https://famapp.in/blog/fampay-raises-4-7m-from-y-combinator-sequoia-venture-highway-others/\n",
      "Page size: 40.5927734375 KB\n",
      "Resource sizes: [('https://fampay.in/blog/content/images/2020/11/logofilewhite-11-2.png', 0.130859375), ('https://fampay.in/blog/content/images/2020/11/logofilewhite-11-2.png', 0.130859375), ('/blog/assets/images/success.png?v=22080dfa02', 0.0), ('https://cdn.jsdelivr.net/ghost/portal@~2.30/umd/portal.min.js', 170.8154296875), ('https://cdn.jsdelivr.net/ghost/sodo-search@~1.1/umd/sodo-search.min.js', 95.5751953125), ('/blog/public/cards.min.js?v=22080dfa02', 0.0), ('/blog/public/member-attribution.min.js?v=22080dfa02', 0.0), ('https://www.googletagmanager.com/gtag/js?id=UA-147725948-3', 0.0), ('https://polyfill.io/v3/polyfill.min.js?features=IntersectionObserver%2CPromise%2CArray.prototype.includes%2CString.prototype.endsWith%2CString.prototype.startsWith%2CObject.assign%2CNodeList.prototype.forEach', 14.1123046875), ('/blog/assets/js/vendor/content-api.min.js?v=22080dfa02', 0.0), ('/blog/assets/js/manifest.js?v=22080dfa02', 0.0), ('/blog/assets/js/vendor.js?v=22080dfa02', 0.0), ('/blog/assets/js/app.js?v=22080dfa02', 0.0), ('/blog/assets/js/post.js?v=22080dfa02', 0.0), ('/blog/assets/css/app.css?v=22080dfa02', 0.0), ('/blog/public/cards.min.css?v=22080dfa02', 0.0)]\n",
      "Analyzing 373 of 523: https://wa.me/?text=FamPay%20raises%20%244.7M%20from%20Y%20Combinator%2C%20Sequoia%2C%20Venture%20Highway%20%26%20others%20https://fampay.in/blog/fampay-raises-4-7m-from-y-combinator-sequoia-venture-highway-others/\n",
      "Page size: 165.5908203125 KB\n",
      "Resource sizes: [('https://static.whatsapp.net/rsrc.php/v3/yq/r/mdQNdcFMi0p.png', 28.833984375), ('https://static.whatsapp.net/rsrc.php/v3/y7/r/DSxOAUB0raA.png', 28.7744140625), ('https://static.whatsapp.net/rsrc.php/v3/yJ/r/Qhrnh5evyPV.png', 1.193359375), ('https://static.whatsapp.net/rsrc.php/v3/yJ/r/Qhrnh5evyPV.png', 1.193359375), ('https://static.whatsapp.net/rsrc.php/v3/y6/r/TcHIu29ealS.js?_nc_x=Ij3Wp8lg5Kz', 104.8037109375), ('https://static.whatsapp.net/rsrc.php/v3/yO/l/0,cross/zkmfh5mjXuB.css?_nc_x=Ij3Wp8lg5Kz', 1.318359375), ('https://static.whatsapp.net/rsrc.php/v3/yi/l/0,cross/TngFvC3f-F7.css?_nc_x=Ij3Wp8lg5Kz', 14.91796875), ('https://static.whatsapp.net/rsrc.php/v3/yX/l/0,cross/90x4oEKKKqw.css?_nc_x=Ij3Wp8lg5Kz', 9.01953125)]\n",
      "Analyzing 374 of 523: https://www.facebook.com/sharer/sharer.php?u=https://fampay.in/blog/fampay-raises-4-7m-from-y-combinator-sequoia-venture-highway-others/\n",
      "Page size: 17.19140625 KB\n",
      "Resource sizes: [('https://static.xx.fbcdn.net/rsrc.php/v3/y8/r/k97pj8-or6s.png', 0.7900390625), ('https://facebook.com/security/hsts-pixel.gif?c=3.2', 0.0)]\n",
      "Analyzing 375 of 523: https://twitter.com/intent/tweet?text=FamPay%20raises%20%244.7M%20from%20Y%20Combinator%2C%20Sequoia%2C%20Venture%20Highway%20%26%20others&url=https://fampay.in/blog/fampay-raises-4-7m-from-y-combinator-sequoia-venture-highway-others/\n",
      "Page size: 167.810546875 KB\n",
      "Resource sizes: [('https://abs.twimg.com/errors/logo46x38.png', 0.9912109375), ('https://abs.twimg.com/responsive-web/client-web-legacy/shared~bundle.Compose~bundle.RichTextCompose.a2fa6b8a.js', 52.9111328125), ('https://abs.twimg.com/responsive-web/client-web-legacy/polyfills.d5242a4a.js', 17.72265625), ('https://abs.twimg.com/responsive-web/client-web-legacy/vendor.3cb7d15a.js', 218.7216796875), ('https://abs.twimg.com/responsive-web/client-web-legacy/i18n/en.213585ba.js', 114.365234375), ('https://abs.twimg.com/responsive-web/client-web-legacy/main.79ac570a.js', 408.1171875)]\n",
      "Analyzing 376 of 523: https://famapp.in/blog/tag/parents/\n",
      "Page size: 36.8388671875 KB\n",
      "Resource sizes: [('https://fampay.in/blog/content/images/2020/11/logofilewhite-11-2.png', 0.130859375), ('https://fampay.in/blog/content/images/2020/11/logofilewhite-11-2.png', 0.130859375), ('https://cdn.jsdelivr.net/ghost/portal@~2.30/umd/portal.min.js', 170.8154296875), ('https://cdn.jsdelivr.net/ghost/sodo-search@~1.1/umd/sodo-search.min.js', 95.5751953125), ('/blog/public/cards.min.js?v=22080dfa02', 0.0), ('/blog/public/member-attribution.min.js?v=22080dfa02', 0.0), ('https://www.googletagmanager.com/gtag/js?id=UA-147725948-3', 0.0), ('https://polyfill.io/v3/polyfill.min.js?features=IntersectionObserver%2CPromise%2CArray.prototype.includes%2CString.prototype.endsWith%2CString.prototype.startsWith%2CObject.assign%2CNodeList.prototype.forEach', 14.1123046875), ('/blog/assets/js/vendor/content-api.min.js?v=22080dfa02', 0.0), ('/blog/assets/js/manifest.js?v=22080dfa02', 0.0), ('/blog/assets/js/vendor.js?v=22080dfa02', 0.0), ('/blog/assets/js/app.js?v=22080dfa02', 0.0), ('/blog/assets/css/app.css?v=22080dfa02', 0.0), ('/blog/public/cards.min.css?v=22080dfa02', 0.0)]\n",
      "Analyzing 377 of 523: https://famapp.in/blog/healthy-wealth-how-can-parents-have-a-healthy-discussion-about-money-with-their-children/\n",
      "Page size: 43.2724609375 KB\n",
      "Resource sizes: [('https://fampay.in/blog/content/images/2020/11/logofilewhite-11-2.png', 0.130859375), ('https://fampay.in/blog/content/images/2020/11/logofilewhite-11-2.png', 0.130859375), ('https://fampay.in/blog/content/images/2020/09/kelly-sikkema-xoU52jUVUXA-unsplash.jpg', 0.130859375), ('https://fampay.in/blog/content/images/2020/09/northfolk-Ok76F6yW2iA-unsplash.jpg', 0.130859375), ('https://fampay.in/blog/content/images/2020/09/DSC01983-2.JPG', 0.130859375), ('https://fampay.in/blog/content/images/2020/09/sharon-mccutcheon--8a5eJ1-mmQ-unsplash.jpg', 0.130859375), ('https://fampay.in/blog/content/images/2020/09/lina-trochez-ktPKyUs3Qjs-unsplash.jpg', 0.130859375), ('/blog/assets/images/success.png?v=22080dfa02', 0.0), ('https://cdn.jsdelivr.net/ghost/portal@~2.30/umd/portal.min.js', 170.8154296875), ('https://cdn.jsdelivr.net/ghost/sodo-search@~1.1/umd/sodo-search.min.js', 95.5751953125), ('/blog/public/cards.min.js?v=22080dfa02', 0.0), ('/blog/public/member-attribution.min.js?v=22080dfa02', 0.0), ('https://www.googletagmanager.com/gtag/js?id=UA-147725948-3', 0.0), ('https://polyfill.io/v3/polyfill.min.js?features=IntersectionObserver%2CPromise%2CArray.prototype.includes%2CString.prototype.endsWith%2CString.prototype.startsWith%2CObject.assign%2CNodeList.prototype.forEach', 14.1123046875), ('/blog/assets/js/vendor/content-api.min.js?v=22080dfa02', 0.0), ('/blog/assets/js/manifest.js?v=22080dfa02', 0.0), ('/blog/assets/js/vendor.js?v=22080dfa02', 0.0), ('/blog/assets/js/app.js?v=22080dfa02', 0.0), ('/blog/assets/js/post.js?v=22080dfa02', 0.0), ('/blog/assets/css/app.css?v=22080dfa02', 0.0), ('/blog/public/cards.min.css?v=22080dfa02', 0.0)]\n",
      "Analyzing 378 of 523: https://wa.me/?text=Healthy%20Wealth-%20How%20can%20parents%20have%20a%20healthy%20discussion%20about%20money%20with%20their%20children%3F%20https://fampay.in/blog/healthy-wealth-how-can-parents-have-a-healthy-discussion-about-money-with-their-children/\n",
      "Page size: 165.7431640625 KB\n",
      "Resource sizes: [('https://static.whatsapp.net/rsrc.php/v3/yq/r/mdQNdcFMi0p.png', 28.833984375), ('https://static.whatsapp.net/rsrc.php/v3/y7/r/DSxOAUB0raA.png', 28.7744140625), ('https://static.whatsapp.net/rsrc.php/v3/yJ/r/Qhrnh5evyPV.png', 1.193359375), ('https://static.whatsapp.net/rsrc.php/v3/yJ/r/Qhrnh5evyPV.png', 1.193359375), ('https://static.whatsapp.net/rsrc.php/v3/y6/r/TcHIu29ealS.js?_nc_x=Ij3Wp8lg5Kz', 104.8037109375), ('https://static.whatsapp.net/rsrc.php/v3/yO/l/0,cross/zkmfh5mjXuB.css?_nc_x=Ij3Wp8lg5Kz', 1.318359375), ('https://static.whatsapp.net/rsrc.php/v3/yi/l/0,cross/TngFvC3f-F7.css?_nc_x=Ij3Wp8lg5Kz', 14.91796875), ('https://static.whatsapp.net/rsrc.php/v3/yX/l/0,cross/90x4oEKKKqw.css?_nc_x=Ij3Wp8lg5Kz', 9.01953125)]\n",
      "Analyzing 379 of 523: https://www.facebook.com/sharer/sharer.php?u=https://fampay.in/blog/healthy-wealth-how-can-parents-have-a-healthy-discussion-about-money-with-their-children/\n",
      "Page size: 17.33984375 KB\n",
      "Resource sizes: [('https://static.xx.fbcdn.net/rsrc.php/v3/y8/r/k97pj8-or6s.png', 0.7900390625), ('https://facebook.com/security/hsts-pixel.gif?c=3.2', 0.0)]\n",
      "Analyzing 380 of 523: https://twitter.com/intent/tweet?text=Healthy%20Wealth-%20How%20can%20parents%20have%20a%20healthy%20discussion%20about%20money%20with%20their%20children%3F&url=https://fampay.in/blog/healthy-wealth-how-can-parents-have-a-healthy-discussion-about-money-with-their-children/\n",
      "Page size: 167.810546875 KB\n",
      "Resource sizes: [('https://abs.twimg.com/errors/logo46x38.png', 0.9912109375), ('https://abs.twimg.com/responsive-web/client-web-legacy/shared~bundle.Compose~bundle.RichTextCompose.a2fa6b8a.js', 52.9111328125), ('https://abs.twimg.com/responsive-web/client-web-legacy/polyfills.d5242a4a.js', 17.72265625), ('https://abs.twimg.com/responsive-web/client-web-legacy/vendor.3cb7d15a.js', 218.7216796875), ('https://abs.twimg.com/responsive-web/client-web-legacy/i18n/en.213585ba.js', 114.365234375), ('https://abs.twimg.com/responsive-web/client-web-legacy/main.79ac570a.js', 408.1171875)]\n",
      "Analyzing 381 of 523: https://famapp.in/blog/being-a-digital-parent-tips-to-mentor-everything-digital-that-your-teen-uses/\n",
      "Page size: 42.822265625 KB\n",
      "Resource sizes: [('https://fampay.in/blog/content/images/2020/11/logofilewhite-11-2.png', 0.130859375), ('https://fampay.in/blog/content/images/2020/11/logofilewhite-11-2.png', 0.130859375), ('https://lh6.googleusercontent.com/aefP4uKObTmnattGuvbLBIr4JRFdmD_zOfOnXVnELAwIn6imHx31_S4Yvsx8n8q5hOK7jWPV2ninhObYVL2DXc82VZ-ZV5FCZa0d4JH8CO75qu5wQTqHwoYzFioXEA', 0.0), ('https://fampay.in/blog/content/images/2020/09/annie-spratt-xKJUnFwfz3s-unsplash.jpg', 0.130859375), ('https://fampay.in/blog/content/images/2020/09/benjamin-manley-QkflfhJn1KA-unsplash-1.jpg', 0.130859375), ('/blog/assets/images/success.png?v=22080dfa02', 0.0), ('https://cdn.jsdelivr.net/ghost/portal@~2.30/umd/portal.min.js', 170.8154296875), ('https://cdn.jsdelivr.net/ghost/sodo-search@~1.1/umd/sodo-search.min.js', 95.5751953125), ('/blog/public/cards.min.js?v=22080dfa02', 0.0), ('/blog/public/member-attribution.min.js?v=22080dfa02', 0.0), ('https://www.googletagmanager.com/gtag/js?id=UA-147725948-3', 0.0), ('https://polyfill.io/v3/polyfill.min.js?features=IntersectionObserver%2CPromise%2CArray.prototype.includes%2CString.prototype.endsWith%2CString.prototype.startsWith%2CObject.assign%2CNodeList.prototype.forEach', 14.1123046875), ('/blog/assets/js/vendor/content-api.min.js?v=22080dfa02', 0.0), ('/blog/assets/js/manifest.js?v=22080dfa02', 0.0), ('/blog/assets/js/vendor.js?v=22080dfa02', 0.0), ('/blog/assets/js/app.js?v=22080dfa02', 0.0), ('/blog/assets/js/post.js?v=22080dfa02', 0.0), ('/blog/assets/css/app.css?v=22080dfa02', 0.0), ('/blog/public/cards.min.css?v=22080dfa02', 0.0)]\n",
      "Analyzing 382 of 523: https://wa.me/?text=Being%20a%20Digital%20Parent%20-%20Tips%20to%20Mentor%20Everything%20Digital%20that%20your%20Teen%20Uses%20https://fampay.in/blog/being-a-digital-parent-tips-to-mentor-everything-digital-that-your-teen-uses/\n",
      "Page size: 165.6103515625 KB\n",
      "Resource sizes: [('https://static.whatsapp.net/rsrc.php/v3/yq/r/mdQNdcFMi0p.png', 28.833984375), ('https://static.whatsapp.net/rsrc.php/v3/y7/r/DSxOAUB0raA.png', 28.7744140625), ('https://static.whatsapp.net/rsrc.php/v3/yJ/r/Qhrnh5evyPV.png', 1.193359375), ('https://static.whatsapp.net/rsrc.php/v3/yJ/r/Qhrnh5evyPV.png', 1.193359375), ('https://static.whatsapp.net/rsrc.php/v3/y6/r/TcHIu29ealS.js?_nc_x=Ij3Wp8lg5Kz', 104.8037109375), ('https://static.whatsapp.net/rsrc.php/v3/yO/l/0,cross/zkmfh5mjXuB.css?_nc_x=Ij3Wp8lg5Kz', 1.318359375), ('https://static.whatsapp.net/rsrc.php/v3/yi/l/0,cross/TngFvC3f-F7.css?_nc_x=Ij3Wp8lg5Kz', 14.91796875), ('https://static.whatsapp.net/rsrc.php/v3/yX/l/0,cross/90x4oEKKKqw.css?_nc_x=Ij3Wp8lg5Kz', 9.01953125)]\n",
      "Analyzing 383 of 523: https://www.facebook.com/sharer/sharer.php?u=https://fampay.in/blog/being-a-digital-parent-tips-to-mentor-everything-digital-that-your-teen-uses/\n",
      "Page size: 17.2578125 KB\n",
      "Resource sizes: [('https://static.xx.fbcdn.net/rsrc.php/v3/y8/r/k97pj8-or6s.png', 0.7900390625), ('https://facebook.com/security/hsts-pixel.gif?c=3.2', 0.0)]\n",
      "Analyzing 384 of 523: https://twitter.com/intent/tweet?text=Being%20a%20Digital%20Parent%20-%20Tips%20to%20Mentor%20Everything%20Digital%20that%20your%20Teen%20Uses&url=https://fampay.in/blog/being-a-digital-parent-tips-to-mentor-everything-digital-that-your-teen-uses/\n",
      "Page size: 168.015625 KB\n",
      "Resource sizes: [('https://abs.twimg.com/errors/logo46x38.png', 0.9912109375), ('https://abs.twimg.com/responsive-web/client-web-legacy/shared~bundle.Compose~bundle.RichTextCompose.a2fa6b8a.js', 52.9111328125), ('https://abs.twimg.com/responsive-web/client-web-legacy/polyfills.d5242a4a.js', 17.72265625), ('https://abs.twimg.com/responsive-web/client-web-legacy/vendor.3cb7d15a.js', 218.7216796875), ('https://abs.twimg.com/responsive-web/client-web-legacy/i18n/en.213585ba.js', 114.365234375), ('https://abs.twimg.com/responsive-web/client-web-legacy/main.79ac570a.js', 408.1171875)]\n",
      "Analyzing 385 of 523: https://famapp.in/blog/top-5-tips-to-communicate-better-with-your-teenager/\n",
      "Page size: 43.705078125 KB\n",
      "Resource sizes: [('https://fampay.in/blog/content/images/2020/11/logofilewhite-11-2.png', 0.130859375), ('https://fampay.in/blog/content/images/2020/11/logofilewhite-11-2.png', 0.130859375), ('https://lh3.googleusercontent.com/lKi3uSU743qARVTgvDYdW6uVtG3HxjzyFzB-fA_NmrKAJDrAqJp0B072jtjvrZdXiSngpIois-0osZhPk4Ri-UyrT0qT19v28ho2U886C9sNJvFfmSWvI8CqXrjQIA', 0.0), ('https://lh3.googleusercontent.com/MtdEqJzfC2yWX7Rd4Fw8VPOEN6r4IhsxS6m6W8dxG8oajybcoDj5VV0TakznWoU6XVlwxfj2_kwMr0XQSuIhAHKk5hb6JFLBDG3ztDbMWeFnqBu1VXuCK0wKukCUjg', 0.0), ('https://lh6.googleusercontent.com/lYjMtly_U6ZrKaLEyyQCLpUBBegnf6603IDspzHrwVgAqjXX3DCJkm0pEOHo1pk_WgdbLvuhVj-wxHk0LLpYYxqOmPnvZH4DMsx2Rw1hlCrxJFr9vfMHcno2WcCI5g', 0.0), ('https://lh4.googleusercontent.com/c2Jjnq1rYf_Ef_Uar9HgThCtAacbm-WmaJleSNTCTJY-tgXffGnOcKJlhD--9ssHZAfQeDUlQZzPFpe3JGaCAmr2o2s13Hi0uy6heK4CHpkWpnvBehuVTgHMbZPwQmVtJ6s3Qa8', 0.0), ('/blog/assets/images/success.png?v=22080dfa02', 0.0), ('https://cdn.jsdelivr.net/ghost/portal@~2.30/umd/portal.min.js', 170.8154296875), ('https://cdn.jsdelivr.net/ghost/sodo-search@~1.1/umd/sodo-search.min.js', 95.5751953125), ('/blog/public/cards.min.js?v=22080dfa02', 0.0), ('/blog/public/member-attribution.min.js?v=22080dfa02', 0.0), ('https://www.googletagmanager.com/gtag/js?id=UA-147725948-3', 0.0), ('https://polyfill.io/v3/polyfill.min.js?features=IntersectionObserver%2CPromise%2CArray.prototype.includes%2CString.prototype.endsWith%2CString.prototype.startsWith%2CObject.assign%2CNodeList.prototype.forEach', 14.1123046875), ('/blog/assets/js/vendor/content-api.min.js?v=22080dfa02', 0.0), ('/blog/assets/js/manifest.js?v=22080dfa02', 0.0), ('/blog/assets/js/vendor.js?v=22080dfa02', 0.0), ('/blog/assets/js/app.js?v=22080dfa02', 0.0), ('/blog/assets/js/post.js?v=22080dfa02', 0.0), ('/blog/assets/css/app.css?v=22080dfa02', 0.0), ('/blog/public/cards.min.css?v=22080dfa02', 0.0)]\n",
      "Analyzing 386 of 523: https://wa.me/?text=Top%205%20Tips%20to%20Communicate%20Better%20with%20your%20Teenager%20https://fampay.in/blog/top-5-tips-to-communicate-better-with-your-teenager/\n",
      "Page size: 165.3603515625 KB\n",
      "Resource sizes: [('https://static.whatsapp.net/rsrc.php/v3/yq/r/mdQNdcFMi0p.png', 28.833984375), ('https://static.whatsapp.net/rsrc.php/v3/y7/r/DSxOAUB0raA.png', 28.7744140625), ('https://static.whatsapp.net/rsrc.php/v3/yJ/r/Qhrnh5evyPV.png', 1.193359375), ('https://static.whatsapp.net/rsrc.php/v3/yJ/r/Qhrnh5evyPV.png', 1.193359375), ('https://static.whatsapp.net/rsrc.php/v3/y6/r/TcHIu29ealS.js?_nc_x=Ij3Wp8lg5Kz', 104.8037109375), ('https://static.whatsapp.net/rsrc.php/v3/yO/l/0,cross/zkmfh5mjXuB.css?_nc_x=Ij3Wp8lg5Kz', 1.318359375), ('https://static.whatsapp.net/rsrc.php/v3/yi/l/0,cross/TngFvC3f-F7.css?_nc_x=Ij3Wp8lg5Kz', 14.91796875), ('https://static.whatsapp.net/rsrc.php/v3/yX/l/0,cross/90x4oEKKKqw.css?_nc_x=Ij3Wp8lg5Kz', 9.01953125)]\n",
      "Analyzing 387 of 523: https://www.facebook.com/sharer/sharer.php?u=https://fampay.in/blog/top-5-tips-to-communicate-better-with-your-teenager/\n",
      "Page size: 17.08203125 KB\n",
      "Resource sizes: [('https://static.xx.fbcdn.net/rsrc.php/v3/y8/r/k97pj8-or6s.png', 0.7900390625), ('https://facebook.com/security/hsts-pixel.gif?c=3.2', 0.0)]\n",
      "Analyzing 388 of 523: https://twitter.com/intent/tweet?text=Top%205%20Tips%20to%20Communicate%20Better%20with%20your%20Teenager&url=https://fampay.in/blog/top-5-tips-to-communicate-better-with-your-teenager/\n",
      "Page size: 167.810546875 KB\n",
      "Resource sizes: [('https://abs.twimg.com/errors/logo46x38.png', 0.9912109375), ('https://abs.twimg.com/responsive-web/client-web-legacy/shared~bundle.Compose~bundle.RichTextCompose.a2fa6b8a.js', 52.9111328125), ('https://abs.twimg.com/responsive-web/client-web-legacy/polyfills.d5242a4a.js', 17.72265625), ('https://abs.twimg.com/responsive-web/client-web-legacy/vendor.3cb7d15a.js', 218.7216796875), ('https://abs.twimg.com/responsive-web/client-web-legacy/i18n/en.213585ba.js', 114.365234375), ('https://abs.twimg.com/responsive-web/client-web-legacy/main.79ac570a.js', 408.1171875)]\n",
      "Analyzing 389 of 523: https://famapp.in/blog/a-to-z-of-teenage-finance-financial-terms-every-parent-should-teach-their-teens/\n",
      "Page size: 41.19921875 KB\n",
      "Resource sizes: [('https://fampay.in/blog/content/images/2020/11/logofilewhite-11-2.png', 0.130859375), ('https://fampay.in/blog/content/images/2020/11/logofilewhite-11-2.png', 0.130859375), ('/blog/assets/images/success.png?v=22080dfa02', 0.0), ('https://cdn.jsdelivr.net/ghost/portal@~2.30/umd/portal.min.js', 170.8154296875), ('https://cdn.jsdelivr.net/ghost/sodo-search@~1.1/umd/sodo-search.min.js', 95.5751953125), ('/blog/public/cards.min.js?v=22080dfa02', 0.0), ('/blog/public/member-attribution.min.js?v=22080dfa02', 0.0), ('https://www.googletagmanager.com/gtag/js?id=UA-147725948-3', 0.0), ('https://polyfill.io/v3/polyfill.min.js?features=IntersectionObserver%2CPromise%2CArray.prototype.includes%2CString.prototype.endsWith%2CString.prototype.startsWith%2CObject.assign%2CNodeList.prototype.forEach', 14.1123046875), ('/blog/assets/js/vendor/content-api.min.js?v=22080dfa02', 0.0), ('/blog/assets/js/manifest.js?v=22080dfa02', 0.0), ('/blog/assets/js/vendor.js?v=22080dfa02', 0.0), ('/blog/assets/js/app.js?v=22080dfa02', 0.0), ('/blog/assets/js/post.js?v=22080dfa02', 0.0), ('/blog/assets/css/app.css?v=22080dfa02', 0.0), ('/blog/public/cards.min.css?v=22080dfa02', 0.0)]\n",
      "Analyzing 390 of 523: https://wa.me/?text=A%20to%20Z%20of%20teenage%20finance-%20financial%20terms%20every%20parent%20should%20teach%20their%20teens%20https://fampay.in/blog/a-to-z-of-teenage-finance-financial-terms-every-parent-should-teach-their-teens/\n",
      "Page size: 165.62890625 KB\n",
      "Resource sizes: [('https://static.whatsapp.net/rsrc.php/v3/yq/r/mdQNdcFMi0p.png', 28.833984375), ('https://static.whatsapp.net/rsrc.php/v3/y7/r/DSxOAUB0raA.png', 28.7744140625), ('https://static.whatsapp.net/rsrc.php/v3/yJ/r/Qhrnh5evyPV.png', 1.193359375), ('https://static.whatsapp.net/rsrc.php/v3/yJ/r/Qhrnh5evyPV.png', 1.193359375), ('https://static.whatsapp.net/rsrc.php/v3/y6/r/TcHIu29ealS.js?_nc_x=Ij3Wp8lg5Kz', 104.8037109375), ('https://static.whatsapp.net/rsrc.php/v3/yO/l/0,cross/zkmfh5mjXuB.css?_nc_x=Ij3Wp8lg5Kz', 1.318359375), ('https://static.whatsapp.net/rsrc.php/v3/yi/l/0,cross/TngFvC3f-F7.css?_nc_x=Ij3Wp8lg5Kz', 14.91796875), ('https://static.whatsapp.net/rsrc.php/v3/yX/l/0,cross/90x4oEKKKqw.css?_nc_x=Ij3Wp8lg5Kz', 9.01953125)]\n",
      "Analyzing 391 of 523: https://www.facebook.com/sharer/sharer.php?u=https://fampay.in/blog/a-to-z-of-teenage-finance-financial-terms-every-parent-should-teach-their-teens/\n",
      "Page size: 17.2734375 KB\n",
      "Resource sizes: [('https://static.xx.fbcdn.net/rsrc.php/v3/y8/r/k97pj8-or6s.png', 0.7900390625), ('https://facebook.com/security/hsts-pixel.gif?c=3.2', 0.0)]\n",
      "Analyzing 392 of 523: https://twitter.com/intent/tweet?text=A%20to%20Z%20of%20teenage%20finance-%20financial%20terms%20every%20parent%20should%20teach%20their%20teens&url=https://fampay.in/blog/a-to-z-of-teenage-finance-financial-terms-every-parent-should-teach-their-teens/\n",
      "Page size: 168.015625 KB\n",
      "Resource sizes: [('https://abs.twimg.com/errors/logo46x38.png', 0.9912109375), ('https://abs.twimg.com/responsive-web/client-web-legacy/shared~bundle.Compose~bundle.RichTextCompose.a2fa6b8a.js', 52.9111328125), ('https://abs.twimg.com/responsive-web/client-web-legacy/polyfills.d5242a4a.js', 17.72265625), ('https://abs.twimg.com/responsive-web/client-web-legacy/vendor.3cb7d15a.js', 218.7216796875), ('https://abs.twimg.com/responsive-web/client-web-legacy/i18n/en.213585ba.js', 114.365234375), ('https://abs.twimg.com/responsive-web/client-web-legacy/main.79ac570a.js', 408.1171875)]\n",
      "Analyzing 393 of 523: https://famapp.in/blog/cyber-bullying-what-can-you-do-as-a-parent/\n",
      "Page size: 45.087890625 KB\n",
      "Resource sizes: [('https://fampay.in/blog/content/images/2020/11/logofilewhite-11-2.png', 0.130859375), ('https://fampay.in/blog/content/images/2020/11/logofilewhite-11-2.png', 0.130859375), ('/blog/assets/images/success.png?v=22080dfa02', 0.0), ('https://cdn.jsdelivr.net/ghost/portal@~2.30/umd/portal.min.js', 170.8154296875), ('https://cdn.jsdelivr.net/ghost/sodo-search@~1.1/umd/sodo-search.min.js', 95.5751953125), ('/blog/public/cards.min.js?v=22080dfa02', 0.0), ('/blog/public/member-attribution.min.js?v=22080dfa02', 0.0), ('https://www.googletagmanager.com/gtag/js?id=UA-147725948-3', 0.0), ('https://polyfill.io/v3/polyfill.min.js?features=IntersectionObserver%2CPromise%2CArray.prototype.includes%2CString.prototype.endsWith%2CString.prototype.startsWith%2CObject.assign%2CNodeList.prototype.forEach', 14.1123046875), ('/blog/assets/js/vendor/content-api.min.js?v=22080dfa02', 0.0), ('/blog/assets/js/manifest.js?v=22080dfa02', 0.0), ('/blog/assets/js/vendor.js?v=22080dfa02', 0.0), ('/blog/assets/js/app.js?v=22080dfa02', 0.0), ('/blog/assets/js/post.js?v=22080dfa02', 0.0), ('/blog/assets/css/app.css?v=22080dfa02', 0.0), ('/blog/public/cards.min.css?v=22080dfa02', 0.0)]\n",
      "Analyzing 394 of 523: https://wa.me/?text=Cyberbullying%3A%20What%20can%20you%20do%20as%20a%20Parent%3F%20https://fampay.in/blog/cyber-bullying-what-can-you-do-as-a-parent/\n",
      "Page size: 165.4423828125 KB\n",
      "Resource sizes: [('https://static.whatsapp.net/rsrc.php/v3/yq/r/mdQNdcFMi0p.png', 28.833984375), ('https://static.whatsapp.net/rsrc.php/v3/y7/r/DSxOAUB0raA.png', 28.7744140625), ('https://static.whatsapp.net/rsrc.php/v3/yJ/r/Qhrnh5evyPV.png', 1.193359375), ('https://static.whatsapp.net/rsrc.php/v3/yJ/r/Qhrnh5evyPV.png', 1.193359375), ('https://static.whatsapp.net/rsrc.php/v3/y6/r/TcHIu29ealS.js?_nc_x=Ij3Wp8lg5Kz', 104.8037109375), ('https://static.whatsapp.net/rsrc.php/v3/yO/l/0,cross/zkmfh5mjXuB.css?_nc_x=Ij3Wp8lg5Kz', 1.318359375), ('https://static.whatsapp.net/rsrc.php/v3/yi/l/0,cross/TngFvC3f-F7.css?_nc_x=Ij3Wp8lg5Kz', 14.91796875), ('https://static.whatsapp.net/rsrc.php/v3/yX/l/0,cross/90x4oEKKKqw.css?_nc_x=Ij3Wp8lg5Kz', 9.01953125)]\n",
      "Analyzing 395 of 523: https://www.facebook.com/sharer/sharer.php?u=https://fampay.in/blog/cyber-bullying-what-can-you-do-as-a-parent/\n",
      "Page size: 17.0205078125 KB\n",
      "Resource sizes: [('https://static.xx.fbcdn.net/rsrc.php/v3/y8/r/k97pj8-or6s.png', 0.7900390625), ('https://facebook.com/security/hsts-pixel.gif?c=3.2', 0.0)]\n",
      "Analyzing 396 of 523: https://twitter.com/intent/tweet?text=Cyberbullying%3A%20What%20can%20you%20do%20as%20a%20Parent%3F&url=https://fampay.in/blog/cyber-bullying-what-can-you-do-as-a-parent/\n",
      "Page size: 167.810546875 KB\n",
      "Resource sizes: [('https://abs.twimg.com/errors/logo46x38.png', 0.9912109375), ('https://abs.twimg.com/responsive-web/client-web-legacy/shared~bundle.Compose~bundle.RichTextCompose.a2fa6b8a.js', 52.9111328125), ('https://abs.twimg.com/responsive-web/client-web-legacy/polyfills.d5242a4a.js', 17.72265625), ('https://abs.twimg.com/responsive-web/client-web-legacy/vendor.3cb7d15a.js', 218.7216796875), ('https://abs.twimg.com/responsive-web/client-web-legacy/i18n/en.213585ba.js', 114.365234375), ('https://abs.twimg.com/responsive-web/client-web-legacy/main.79ac570a.js', 408.1171875)]\n",
      "Analyzing 397 of 523: https://famapp.in/blog/4-ways-to-help-your-teen-learn-to-become-financially-responsible/\n",
      "Page size: 42.861328125 KB\n",
      "Resource sizes: [('https://fampay.in/blog/content/images/2020/11/logofilewhite-11-2.png', 0.130859375), ('https://fampay.in/blog/content/images/2020/11/logofilewhite-11-2.png', 0.130859375), ('https://fampay.in/blog/content/images/2020/07/responsible-teens.jpg', 0.130859375), ('/blog/assets/images/success.png?v=22080dfa02', 0.0), ('https://cdn.jsdelivr.net/ghost/portal@~2.30/umd/portal.min.js', 170.8154296875), ('https://cdn.jsdelivr.net/ghost/sodo-search@~1.1/umd/sodo-search.min.js', 95.5751953125), ('/blog/public/cards.min.js?v=22080dfa02', 0.0), ('/blog/public/member-attribution.min.js?v=22080dfa02', 0.0), ('https://www.googletagmanager.com/gtag/js?id=UA-147725948-3', 0.0), ('https://polyfill.io/v3/polyfill.min.js?features=IntersectionObserver%2CPromise%2CArray.prototype.includes%2CString.prototype.endsWith%2CString.prototype.startsWith%2CObject.assign%2CNodeList.prototype.forEach', 14.1123046875), ('/blog/assets/js/vendor/content-api.min.js?v=22080dfa02', 0.0), ('/blog/assets/js/manifest.js?v=22080dfa02', 0.0), ('/blog/assets/js/vendor.js?v=22080dfa02', 0.0), ('/blog/assets/js/app.js?v=22080dfa02', 0.0), ('/blog/assets/js/post.js?v=22080dfa02', 0.0), ('/blog/assets/css/app.css?v=22080dfa02', 0.0), ('/blog/public/cards.min.css?v=22080dfa02', 0.0)]\n",
      "Analyzing 398 of 523: https://wa.me/?text=4%20Ways%20to%20Help%20Your%20Teen%20Learn%20to%20become%20Financially%20Responsible%20https://fampay.in/blog/4-ways-to-help-your-teen-learn-to-become-financially-responsible/\n",
      "Page size: 165.4814453125 KB\n",
      "Resource sizes: [('https://static.whatsapp.net/rsrc.php/v3/yq/r/mdQNdcFMi0p.png', 28.833984375), ('https://static.whatsapp.net/rsrc.php/v3/y7/r/DSxOAUB0raA.png', 28.7744140625), ('https://static.whatsapp.net/rsrc.php/v3/yJ/r/Qhrnh5evyPV.png', 1.193359375), ('https://static.whatsapp.net/rsrc.php/v3/yJ/r/Qhrnh5evyPV.png', 1.193359375), ('https://static.whatsapp.net/rsrc.php/v3/y6/r/TcHIu29ealS.js?_nc_x=Ij3Wp8lg5Kz', 104.8037109375), ('https://static.whatsapp.net/rsrc.php/v3/yO/l/0,cross/zkmfh5mjXuB.css?_nc_x=Ij3Wp8lg5Kz', 1.318359375), ('https://static.whatsapp.net/rsrc.php/v3/yi/l/0,cross/TngFvC3f-F7.css?_nc_x=Ij3Wp8lg5Kz', 14.91796875), ('https://static.whatsapp.net/rsrc.php/v3/yX/l/0,cross/90x4oEKKKqw.css?_nc_x=Ij3Wp8lg5Kz', 9.01953125)]\n",
      "Analyzing 399 of 523: https://www.facebook.com/sharer/sharer.php?u=https://fampay.in/blog/4-ways-to-help-your-teen-learn-to-become-financially-responsible/\n",
      "Page size: 17.17578125 KB\n",
      "Resource sizes: [('https://static.xx.fbcdn.net/rsrc.php/v3/y8/r/k97pj8-or6s.png', 0.7900390625), ('https://facebook.com/security/hsts-pixel.gif?c=3.2', 0.0)]\n",
      "Analyzing 400 of 523: https://twitter.com/intent/tweet?text=4%20Ways%20to%20Help%20Your%20Teen%20Learn%20to%20become%20Financially%20Responsible&url=https://fampay.in/blog/4-ways-to-help-your-teen-learn-to-become-financially-responsible/\n",
      "Page size: 167.810546875 KB\n",
      "Resource sizes: [('https://abs.twimg.com/errors/logo46x38.png', 0.9912109375), ('https://abs.twimg.com/responsive-web/client-web-legacy/shared~bundle.Compose~bundle.RichTextCompose.a2fa6b8a.js', 52.9111328125), ('https://abs.twimg.com/responsive-web/client-web-legacy/polyfills.d5242a4a.js', 17.72265625), ('https://abs.twimg.com/responsive-web/client-web-legacy/vendor.3cb7d15a.js', 218.7216796875), ('https://abs.twimg.com/responsive-web/client-web-legacy/i18n/en.213585ba.js', 114.365234375), ('https://abs.twimg.com/responsive-web/client-web-legacy/main.79ac570a.js', 408.1171875)]\n",
      "Analyzing 401 of 523: https://famapp.in/blog/evolution-of-parenting-parent-of-a-millennial-vs-parent-of-a-genz-kid/\n",
      "Page size: 43.8046875 KB\n",
      "Resource sizes: [('https://fampay.in/blog/content/images/2020/11/logofilewhite-11-2.png', 0.130859375), ('https://fampay.in/blog/content/images/2020/11/logofilewhite-11-2.png', 0.130859375), ('/blog/assets/images/success.png?v=22080dfa02', 0.0), ('https://cdn.jsdelivr.net/ghost/portal@~2.30/umd/portal.min.js', 170.8154296875), ('https://cdn.jsdelivr.net/ghost/sodo-search@~1.1/umd/sodo-search.min.js', 95.5751953125), ('/blog/public/cards.min.js?v=22080dfa02', 0.0), ('/blog/public/member-attribution.min.js?v=22080dfa02', 0.0), ('https://www.googletagmanager.com/gtag/js?id=UA-147725948-3', 0.0), ('https://polyfill.io/v3/polyfill.min.js?features=IntersectionObserver%2CPromise%2CArray.prototype.includes%2CString.prototype.endsWith%2CString.prototype.startsWith%2CObject.assign%2CNodeList.prototype.forEach', 14.1123046875), ('/blog/assets/js/vendor/content-api.min.js?v=22080dfa02', 0.0), ('/blog/assets/js/manifest.js?v=22080dfa02', 0.0), ('/blog/assets/js/vendor.js?v=22080dfa02', 0.0), ('/blog/assets/js/app.js?v=22080dfa02', 0.0), ('/blog/assets/js/post.js?v=22080dfa02', 0.0), ('/blog/assets/css/app.css?v=22080dfa02', 0.0), ('/blog/public/cards.min.css?v=22080dfa02', 0.0)]\n",
      "Analyzing 402 of 523: https://wa.me/?text=Evolution%20of%20Parenting%20-%20Parent%20of%20a%20Millennial%20vs%20Parent%20of%20a%20GenZ%20kid%20https://fampay.in/blog/evolution-of-parenting-parent-of-a-millennial-vs-parent-of-a-genz-kid/\n",
      "Page size: 165.5400390625 KB\n",
      "Resource sizes: [('https://static.whatsapp.net/rsrc.php/v3/yq/r/mdQNdcFMi0p.png', 28.833984375), ('https://static.whatsapp.net/rsrc.php/v3/y7/r/DSxOAUB0raA.png', 28.7744140625), ('https://static.whatsapp.net/rsrc.php/v3/yJ/r/Qhrnh5evyPV.png', 1.193359375), ('https://static.whatsapp.net/rsrc.php/v3/yJ/r/Qhrnh5evyPV.png', 1.193359375), ('https://static.whatsapp.net/rsrc.php/v3/y6/r/TcHIu29ealS.js?_nc_x=Ij3Wp8lg5Kz', 104.8037109375), ('https://static.whatsapp.net/rsrc.php/v3/yO/l/0,cross/zkmfh5mjXuB.css?_nc_x=Ij3Wp8lg5Kz', 1.318359375), ('https://static.whatsapp.net/rsrc.php/v3/yi/l/0,cross/TngFvC3f-F7.css?_nc_x=Ij3Wp8lg5Kz', 14.91796875), ('https://static.whatsapp.net/rsrc.php/v3/yX/l/0,cross/90x4oEKKKqw.css?_nc_x=Ij3Wp8lg5Kz', 9.01953125)]\n",
      "Analyzing 403 of 523: https://www.facebook.com/sharer/sharer.php?u=https://fampay.in/blog/evolution-of-parenting-parent-of-a-millennial-vs-parent-of-a-genz-kid/\n",
      "Page size: 17.205078125 KB\n",
      "Resource sizes: [('https://static.xx.fbcdn.net/rsrc.php/v3/y8/r/k97pj8-or6s.png', 0.7900390625), ('https://facebook.com/security/hsts-pixel.gif?c=3.2', 0.0)]\n",
      "Analyzing 404 of 523: https://twitter.com/intent/tweet?text=Evolution%20of%20Parenting%20-%20Parent%20of%20a%20Millennial%20vs%20Parent%20of%20a%20GenZ%20kid&url=https://fampay.in/blog/evolution-of-parenting-parent-of-a-millennial-vs-parent-of-a-genz-kid/\n",
      "Page size: 167.810546875 KB\n",
      "Resource sizes: [('https://abs.twimg.com/errors/logo46x38.png', 0.9912109375), ('https://abs.twimg.com/responsive-web/client-web-legacy/shared~bundle.Compose~bundle.RichTextCompose.a2fa6b8a.js', 52.9111328125), ('https://abs.twimg.com/responsive-web/client-web-legacy/polyfills.d5242a4a.js', 17.72265625), ('https://abs.twimg.com/responsive-web/client-web-legacy/vendor.3cb7d15a.js', 218.7216796875), ('https://abs.twimg.com/responsive-web/client-web-legacy/i18n/en.213585ba.js', 114.365234375), ('https://abs.twimg.com/responsive-web/client-web-legacy/main.79ac570a.js', 408.1171875)]\n",
      "Analyzing 405 of 523: https://famapp.in/blog/pocket-money-for-teenagers-why-it-matters/\n",
      "Page size: 42.1337890625 KB\n",
      "Resource sizes: [('https://fampay.in/blog/content/images/2020/11/logofilewhite-11-2.png', 0.130859375), ('https://fampay.in/blog/content/images/2020/11/logofilewhite-11-2.png', 0.130859375), ('/blog/assets/images/success.png?v=22080dfa02', 0.0), ('https://cdn.jsdelivr.net/ghost/portal@~2.30/umd/portal.min.js', 170.8154296875), ('https://cdn.jsdelivr.net/ghost/sodo-search@~1.1/umd/sodo-search.min.js', 95.5751953125), ('/blog/public/cards.min.js?v=22080dfa02', 0.0), ('/blog/public/member-attribution.min.js?v=22080dfa02', 0.0), ('https://www.googletagmanager.com/gtag/js?id=UA-147725948-3', 0.0), ('https://polyfill.io/v3/polyfill.min.js?features=IntersectionObserver%2CPromise%2CArray.prototype.includes%2CString.prototype.endsWith%2CString.prototype.startsWith%2CObject.assign%2CNodeList.prototype.forEach', 14.1123046875), ('/blog/assets/js/vendor/content-api.min.js?v=22080dfa02', 0.0), ('/blog/assets/js/manifest.js?v=22080dfa02', 0.0), ('/blog/assets/js/vendor.js?v=22080dfa02', 0.0), ('/blog/assets/js/app.js?v=22080dfa02', 0.0), ('/blog/assets/js/post.js?v=22080dfa02', 0.0), ('/blog/assets/css/app.css?v=22080dfa02', 0.0), ('/blog/public/cards.min.css?v=22080dfa02', 0.0)]\n",
      "Analyzing 406 of 523: https://wa.me/?text=Pocket%20Money%20for%20Teenagers%3A%20Why%20it%20Matters%20https://fampay.in/blog/pocket-money-for-teenagers-why-it-matters/\n",
      "Page size: 165.275390625 KB\n",
      "Resource sizes: [('https://static.whatsapp.net/rsrc.php/v3/yq/r/mdQNdcFMi0p.png', 28.833984375), ('https://static.whatsapp.net/rsrc.php/v3/y7/r/DSxOAUB0raA.png', 28.7744140625), ('https://static.whatsapp.net/rsrc.php/v3/yJ/r/Qhrnh5evyPV.png', 1.193359375), ('https://static.whatsapp.net/rsrc.php/v3/yJ/r/Qhrnh5evyPV.png', 1.193359375), ('https://static.whatsapp.net/rsrc.php/v3/y6/r/TcHIu29ealS.js?_nc_x=Ij3Wp8lg5Kz', 104.8037109375), ('https://static.whatsapp.net/rsrc.php/v3/yO/l/0,cross/zkmfh5mjXuB.css?_nc_x=Ij3Wp8lg5Kz', 1.318359375), ('https://static.whatsapp.net/rsrc.php/v3/yi/l/0,cross/TngFvC3f-F7.css?_nc_x=Ij3Wp8lg5Kz', 14.91796875), ('https://static.whatsapp.net/rsrc.php/v3/yX/l/0,cross/90x4oEKKKqw.css?_nc_x=Ij3Wp8lg5Kz', 9.01953125)]\n",
      "Analyzing 407 of 523: https://www.facebook.com/sharer/sharer.php?u=https://fampay.in/blog/pocket-money-for-teenagers-why-it-matters/\n",
      "Page size: 17.013671875 KB\n",
      "Resource sizes: [('https://static.xx.fbcdn.net/rsrc.php/v3/y8/r/k97pj8-or6s.png', 0.7900390625), ('https://facebook.com/security/hsts-pixel.gif?c=3.2', 0.0)]\n",
      "Analyzing 408 of 523: https://twitter.com/intent/tweet?text=Pocket%20Money%20for%20Teenagers%3A%20Why%20it%20Matters&url=https://fampay.in/blog/pocket-money-for-teenagers-why-it-matters/\n",
      "Page size: 167.810546875 KB\n",
      "Resource sizes: [('https://abs.twimg.com/errors/logo46x38.png', 0.9912109375), ('https://abs.twimg.com/responsive-web/client-web-legacy/shared~bundle.Compose~bundle.RichTextCompose.a2fa6b8a.js', 52.9111328125), ('https://abs.twimg.com/responsive-web/client-web-legacy/polyfills.d5242a4a.js', 17.72265625), ('https://abs.twimg.com/responsive-web/client-web-legacy/vendor.3cb7d15a.js', 218.7216796875), ('https://abs.twimg.com/responsive-web/client-web-legacy/i18n/en.213585ba.js', 114.365234375), ('https://abs.twimg.com/responsive-web/client-web-legacy/main.79ac570a.js', 408.1171875)]\n",
      "Analyzing 409 of 523: https://famapp.in/blog/things-you-must-know-as-a-teens-parent/\n",
      "Page size: 41.5458984375 KB\n",
      "Resource sizes: [('https://fampay.in/blog/content/images/2020/11/logofilewhite-11-2.png', 0.130859375), ('https://fampay.in/blog/content/images/2020/11/logofilewhite-11-2.png', 0.130859375), ('/blog/assets/images/success.png?v=22080dfa02', 0.0), ('https://cdn.jsdelivr.net/ghost/portal@~2.30/umd/portal.min.js', 170.8154296875), ('https://cdn.jsdelivr.net/ghost/sodo-search@~1.1/umd/sodo-search.min.js', 95.5751953125), ('/blog/public/cards.min.js?v=22080dfa02', 0.0), ('/blog/public/member-attribution.min.js?v=22080dfa02', 0.0), ('https://www.googletagmanager.com/gtag/js?id=UA-147725948-3', 0.0), ('https://polyfill.io/v3/polyfill.min.js?features=IntersectionObserver%2CPromise%2CArray.prototype.includes%2CString.prototype.endsWith%2CString.prototype.startsWith%2CObject.assign%2CNodeList.prototype.forEach', 14.1123046875), ('/blog/assets/js/vendor/content-api.min.js?v=22080dfa02', 0.0), ('/blog/assets/js/manifest.js?v=22080dfa02', 0.0), ('/blog/assets/js/vendor.js?v=22080dfa02', 0.0), ('/blog/assets/js/app.js?v=22080dfa02', 0.0), ('/blog/assets/js/post.js?v=22080dfa02', 0.0), ('/blog/assets/css/app.css?v=22080dfa02', 0.0), ('/blog/public/cards.min.css?v=22080dfa02', 0.0)]\n",
      "Analyzing 410 of 523: https://wa.me/?text=Things%20You%20Must%20Know%20as%20a%20Parent%20of%20a%20GenZ%20Teen%20https://fampay.in/blog/things-you-must-know-as-a-teens-parent/\n",
      "Page size: 165.2744140625 KB\n",
      "Resource sizes: [('https://static.whatsapp.net/rsrc.php/v3/yq/r/mdQNdcFMi0p.png', 28.833984375), ('https://static.whatsapp.net/rsrc.php/v3/y7/r/DSxOAUB0raA.png', 28.7744140625), ('https://static.whatsapp.net/rsrc.php/v3/yJ/r/Qhrnh5evyPV.png', 1.193359375), ('https://static.whatsapp.net/rsrc.php/v3/yJ/r/Qhrnh5evyPV.png', 1.193359375), ('https://static.whatsapp.net/rsrc.php/v3/y6/r/TcHIu29ealS.js?_nc_x=Ij3Wp8lg5Kz', 104.8037109375), ('https://static.whatsapp.net/rsrc.php/v3/yO/l/0,cross/zkmfh5mjXuB.css?_nc_x=Ij3Wp8lg5Kz', 1.318359375), ('https://static.whatsapp.net/rsrc.php/v3/yi/l/0,cross/TngFvC3f-F7.css?_nc_x=Ij3Wp8lg5Kz', 14.91796875), ('https://static.whatsapp.net/rsrc.php/v3/yX/l/0,cross/90x4oEKKKqw.css?_nc_x=Ij3Wp8lg5Kz', 9.01953125)]\n",
      "Analyzing 411 of 523: https://www.facebook.com/sharer/sharer.php?u=https://fampay.in/blog/things-you-must-know-as-a-teens-parent/\n",
      "Page size: 16.9931640625 KB\n",
      "Resource sizes: [('https://static.xx.fbcdn.net/rsrc.php/v3/y8/r/k97pj8-or6s.png', 0.7900390625), ('https://facebook.com/security/hsts-pixel.gif?c=3.2', 0.0)]\n",
      "Analyzing 412 of 523: https://twitter.com/intent/tweet?text=Things%20You%20Must%20Know%20as%20a%20Parent%20of%20a%20GenZ%20Teen&url=https://fampay.in/blog/things-you-must-know-as-a-teens-parent/\n",
      "Page size: 167.810546875 KB\n",
      "Resource sizes: [('https://abs.twimg.com/errors/logo46x38.png', 0.9912109375), ('https://abs.twimg.com/responsive-web/client-web-legacy/shared~bundle.Compose~bundle.RichTextCompose.a2fa6b8a.js', 52.9111328125), ('https://abs.twimg.com/responsive-web/client-web-legacy/polyfills.d5242a4a.js', 17.72265625), ('https://abs.twimg.com/responsive-web/client-web-legacy/vendor.3cb7d15a.js', 218.7216796875), ('https://abs.twimg.com/responsive-web/client-web-legacy/i18n/en.213585ba.js', 114.365234375), ('https://abs.twimg.com/responsive-web/client-web-legacy/main.79ac570a.js', 408.1171875)]\n",
      "Analyzing 413 of 523: https://famapp.in/blog/impact-of-social-distancing-on-teen-mental-health/\n",
      "Page size: 42.724609375 KB\n",
      "Resource sizes: [('https://fampay.in/blog/content/images/2020/11/logofilewhite-11-2.png', 0.130859375), ('https://fampay.in/blog/content/images/2020/11/logofilewhite-11-2.png', 0.130859375), ('/blog/assets/images/success.png?v=22080dfa02', 0.0), ('https://cdn.jsdelivr.net/ghost/portal@~2.30/umd/portal.min.js', 170.8154296875), ('https://cdn.jsdelivr.net/ghost/sodo-search@~1.1/umd/sodo-search.min.js', 95.5751953125), ('/blog/public/cards.min.js?v=22080dfa02', 0.0), ('/blog/public/member-attribution.min.js?v=22080dfa02', 0.0), ('https://www.googletagmanager.com/gtag/js?id=UA-147725948-3', 0.0), ('https://polyfill.io/v3/polyfill.min.js?features=IntersectionObserver%2CPromise%2CArray.prototype.includes%2CString.prototype.endsWith%2CString.prototype.startsWith%2CObject.assign%2CNodeList.prototype.forEach', 14.1123046875), ('/blog/assets/js/vendor/content-api.min.js?v=22080dfa02', 0.0), ('/blog/assets/js/manifest.js?v=22080dfa02', 0.0), ('/blog/assets/js/vendor.js?v=22080dfa02', 0.0), ('/blog/assets/js/app.js?v=22080dfa02', 0.0), ('/blog/assets/js/post.js?v=22080dfa02', 0.0), ('/blog/assets/css/app.css?v=22080dfa02', 0.0), ('/blog/public/cards.min.css?v=22080dfa02', 0.0)]\n",
      "Analyzing 414 of 523: https://wa.me/?text=Impact%20of%20Social%20Distancing%20on%20Teen%20Mental%20Health%20https://fampay.in/blog/impact-of-social-distancing-on-teen-mental-health/\n",
      "Page size: 165.3408203125 KB\n",
      "Resource sizes: [('https://static.whatsapp.net/rsrc.php/v3/yq/r/mdQNdcFMi0p.png', 28.833984375), ('https://static.whatsapp.net/rsrc.php/v3/y7/r/DSxOAUB0raA.png', 28.7744140625), ('https://static.whatsapp.net/rsrc.php/v3/yJ/r/Qhrnh5evyPV.png', 1.193359375), ('https://static.whatsapp.net/rsrc.php/v3/yJ/r/Qhrnh5evyPV.png', 1.193359375), ('https://static.whatsapp.net/rsrc.php/v3/y6/r/TcHIu29ealS.js?_nc_x=Ij3Wp8lg5Kz', 104.8037109375), ('https://static.whatsapp.net/rsrc.php/v3/yO/l/0,cross/zkmfh5mjXuB.css?_nc_x=Ij3Wp8lg5Kz', 1.318359375), ('https://static.whatsapp.net/rsrc.php/v3/yi/l/0,cross/TngFvC3f-F7.css?_nc_x=Ij3Wp8lg5Kz', 14.91796875), ('https://static.whatsapp.net/rsrc.php/v3/yX/l/0,cross/90x4oEKKKqw.css?_nc_x=Ij3Wp8lg5Kz', 9.01953125)]\n",
      "Analyzing 415 of 523: https://www.facebook.com/sharer/sharer.php?u=https://fampay.in/blog/impact-of-social-distancing-on-teen-mental-health/\n",
      "Page size: 17.068359375 KB\n",
      "Resource sizes: [('https://static.xx.fbcdn.net/rsrc.php/v3/y8/r/k97pj8-or6s.png', 0.7900390625), ('https://facebook.com/security/hsts-pixel.gif?c=3.2', 0.0)]\n",
      "Analyzing 416 of 523: https://twitter.com/intent/tweet?text=Impact%20of%20Social%20Distancing%20on%20Teen%20Mental%20Health&url=https://fampay.in/blog/impact-of-social-distancing-on-teen-mental-health/\n",
      "Page size: 167.810546875 KB\n",
      "Resource sizes: [('https://abs.twimg.com/errors/logo46x38.png', 0.9912109375), ('https://abs.twimg.com/responsive-web/client-web-legacy/shared~bundle.Compose~bundle.RichTextCompose.a2fa6b8a.js', 52.9111328125), ('https://abs.twimg.com/responsive-web/client-web-legacy/polyfills.d5242a4a.js', 17.72265625), ('https://abs.twimg.com/responsive-web/client-web-legacy/vendor.3cb7d15a.js', 218.7216796875), ('https://abs.twimg.com/responsive-web/client-web-legacy/i18n/en.213585ba.js', 114.365234375), ('https://abs.twimg.com/responsive-web/client-web-legacy/main.79ac570a.js', 408.1171875)]\n",
      "Analyzing 417 of 523: https://famapp.in/blog/tag/parents/page/2/\n",
      "Page size: 22.916015625 KB\n",
      "Resource sizes: [('https://fampay.in/blog/content/images/2020/11/logofilewhite-11-2.png', 0.130859375), ('https://fampay.in/blog/content/images/2020/11/logofilewhite-11-2.png', 0.130859375), ('https://cdn.jsdelivr.net/ghost/portal@~2.30/umd/portal.min.js', 170.8154296875), ('https://cdn.jsdelivr.net/ghost/sodo-search@~1.1/umd/sodo-search.min.js', 95.5751953125), ('/blog/public/cards.min.js?v=22080dfa02', 0.0), ('/blog/public/member-attribution.min.js?v=22080dfa02', 0.0), ('https://www.googletagmanager.com/gtag/js?id=UA-147725948-3', 0.0), ('https://polyfill.io/v3/polyfill.min.js?features=IntersectionObserver%2CPromise%2CArray.prototype.includes%2CString.prototype.endsWith%2CString.prototype.startsWith%2CObject.assign%2CNodeList.prototype.forEach', 14.1123046875), ('/blog/assets/js/vendor/content-api.min.js?v=22080dfa02', 0.0), ('/blog/assets/js/manifest.js?v=22080dfa02', 0.0), ('/blog/assets/js/vendor.js?v=22080dfa02', 0.0), ('/blog/assets/js/app.js?v=22080dfa02', 0.0), ('/blog/assets/css/app.css?v=22080dfa02', 0.0), ('/blog/public/cards.min.css?v=22080dfa02', 0.0)]\n",
      "Analyzing 418 of 523: https://famapp.in/blog/bridging-generation-gap-understanding-your-genz-teenager-better/\n",
      "Page size: 43.5390625 KB\n",
      "Resource sizes: [('https://fampay.in/blog/content/images/2020/11/logofilewhite-11-2.png', 0.130859375), ('https://fampay.in/blog/content/images/2020/11/logofilewhite-11-2.png', 0.130859375), ('/blog/assets/images/success.png?v=22080dfa02', 0.0), ('https://cdn.jsdelivr.net/ghost/portal@~2.30/umd/portal.min.js', 170.8154296875), ('https://cdn.jsdelivr.net/ghost/sodo-search@~1.1/umd/sodo-search.min.js', 95.5751953125), ('/blog/public/cards.min.js?v=22080dfa02', 0.0), ('/blog/public/member-attribution.min.js?v=22080dfa02', 0.0), ('https://www.googletagmanager.com/gtag/js?id=UA-147725948-3', 0.0), ('https://polyfill.io/v3/polyfill.min.js?features=IntersectionObserver%2CPromise%2CArray.prototype.includes%2CString.prototype.endsWith%2CString.prototype.startsWith%2CObject.assign%2CNodeList.prototype.forEach', 14.1123046875), ('/blog/assets/js/vendor/content-api.min.js?v=22080dfa02', 0.0), ('/blog/assets/js/manifest.js?v=22080dfa02', 0.0), ('/blog/assets/js/vendor.js?v=22080dfa02', 0.0), ('/blog/assets/js/app.js?v=22080dfa02', 0.0), ('/blog/assets/js/post.js?v=22080dfa02', 0.0), ('/blog/assets/css/app.css?v=22080dfa02', 0.0), ('/blog/public/cards.min.css?v=22080dfa02', 0.0)]\n",
      "Analyzing 419 of 523: https://wa.me/?text=Bridging%20Generation%20Gap%3A%20Understanding%20Your%20GenZ%20Teenager%20Better%20https://fampay.in/blog/bridging-generation-gap-understanding-your-genz-teenager-better/\n",
      "Page size: 165.4892578125 KB\n",
      "Resource sizes: [('https://static.whatsapp.net/rsrc.php/v3/yq/r/mdQNdcFMi0p.png', 28.833984375), ('https://static.whatsapp.net/rsrc.php/v3/y7/r/DSxOAUB0raA.png', 28.7744140625), ('https://static.whatsapp.net/rsrc.php/v3/yJ/r/Qhrnh5evyPV.png', 1.193359375), ('https://static.whatsapp.net/rsrc.php/v3/yJ/r/Qhrnh5evyPV.png', 1.193359375), ('https://static.whatsapp.net/rsrc.php/v3/y6/r/TcHIu29ealS.js?_nc_x=Ij3Wp8lg5Kz', 104.8037109375), ('https://static.whatsapp.net/rsrc.php/v3/yO/l/0,cross/zkmfh5mjXuB.css?_nc_x=Ij3Wp8lg5Kz', 1.318359375), ('https://static.whatsapp.net/rsrc.php/v3/yi/l/0,cross/TngFvC3f-F7.css?_nc_x=Ij3Wp8lg5Kz', 14.91796875), ('https://static.whatsapp.net/rsrc.php/v3/yX/l/0,cross/90x4oEKKKqw.css?_nc_x=Ij3Wp8lg5Kz', 9.01953125)]\n",
      "Analyzing 420 of 523: https://www.facebook.com/sharer/sharer.php?u=https://fampay.in/blog/bridging-generation-gap-understanding-your-genz-teenager-better/\n",
      "Page size: 17.1640625 KB\n",
      "Resource sizes: [('https://static.xx.fbcdn.net/rsrc.php/v3/y8/r/k97pj8-or6s.png', 0.7900390625), ('https://facebook.com/security/hsts-pixel.gif?c=3.2', 0.0)]\n",
      "Analyzing 421 of 523: https://twitter.com/intent/tweet?text=Bridging%20Generation%20Gap%3A%20Understanding%20Your%20GenZ%20Teenager%20Better&url=https://fampay.in/blog/bridging-generation-gap-understanding-your-genz-teenager-better/\n",
      "Page size: 168.015625 KB\n",
      "Resource sizes: [('https://abs.twimg.com/errors/logo46x38.png', 0.9912109375), ('https://abs.twimg.com/responsive-web/client-web-legacy/shared~bundle.Compose~bundle.RichTextCompose.a2fa6b8a.js', 52.9111328125), ('https://abs.twimg.com/responsive-web/client-web-legacy/polyfills.d5242a4a.js', 17.72265625), ('https://abs.twimg.com/responsive-web/client-web-legacy/vendor.3cb7d15a.js', 218.7216796875), ('https://abs.twimg.com/responsive-web/client-web-legacy/i18n/en.213585ba.js', 114.365234375), ('https://abs.twimg.com/responsive-web/client-web-legacy/main.79ac570a.js', 408.1171875)]\n",
      "Analyzing 422 of 523: https://famapp.in/blog/tag/pr-news/\n",
      "Page size: 33.4541015625 KB\n",
      "Resource sizes: [('https://fampay.in/blog/content/images/2020/11/logofilewhite-11-2.png', 0.130859375), ('https://fampay.in/blog/content/images/2020/11/logofilewhite-11-2.png', 0.130859375), ('https://cdn.jsdelivr.net/ghost/portal@~2.30/umd/portal.min.js', 170.8154296875), ('https://cdn.jsdelivr.net/ghost/sodo-search@~1.1/umd/sodo-search.min.js', 95.5751953125), ('/blog/public/cards.min.js?v=22080dfa02', 0.0), ('/blog/public/member-attribution.min.js?v=22080dfa02', 0.0), ('https://www.googletagmanager.com/gtag/js?id=UA-147725948-3', 0.0), ('https://polyfill.io/v3/polyfill.min.js?features=IntersectionObserver%2CPromise%2CArray.prototype.includes%2CString.prototype.endsWith%2CString.prototype.startsWith%2CObject.assign%2CNodeList.prototype.forEach', 14.1123046875), ('/blog/assets/js/vendor/content-api.min.js?v=22080dfa02', 0.0), ('/blog/assets/js/manifest.js?v=22080dfa02', 0.0), ('/blog/assets/js/vendor.js?v=22080dfa02', 0.0), ('/blog/assets/js/app.js?v=22080dfa02', 0.0), ('/blog/assets/css/app.css?v=22080dfa02', 0.0), ('/blog/public/cards.min.css?v=22080dfa02', 0.0)]\n",
      "Analyzing 423 of 523: https://famapp.in/blog/fampay-amongst-linkedins-top-startups-list-2021/\n",
      "Page size: 40.12109375 KB\n",
      "Resource sizes: [('https://fampay.in/blog/content/images/2020/11/logofilewhite-11-2.png', 0.130859375), ('https://fampay.in/blog/content/images/2020/11/logofilewhite-11-2.png', 0.130859375), ('/blog/assets/images/success.png?v=22080dfa02', 0.0), ('https://cdn.jsdelivr.net/ghost/portal@~2.30/umd/portal.min.js', 170.8154296875), ('https://cdn.jsdelivr.net/ghost/sodo-search@~1.1/umd/sodo-search.min.js', 95.5751953125), ('/blog/public/cards.min.js?v=22080dfa02', 0.0), ('/blog/public/member-attribution.min.js?v=22080dfa02', 0.0), ('https://www.googletagmanager.com/gtag/js?id=UA-147725948-3', 0.0), ('https://polyfill.io/v3/polyfill.min.js?features=IntersectionObserver%2CPromise%2CArray.prototype.includes%2CString.prototype.endsWith%2CString.prototype.startsWith%2CObject.assign%2CNodeList.prototype.forEach', 14.1123046875), ('/blog/assets/js/vendor/content-api.min.js?v=22080dfa02', 0.0), ('/blog/assets/js/manifest.js?v=22080dfa02', 0.0), ('/blog/assets/js/vendor.js?v=22080dfa02', 0.0), ('/blog/assets/js/app.js?v=22080dfa02', 0.0), ('/blog/assets/js/post.js?v=22080dfa02', 0.0), ('/blog/assets/css/app.css?v=22080dfa02', 0.0), ('/blog/public/cards.min.css?v=22080dfa02', 0.0)]\n",
      "Analyzing 424 of 523: https://wa.me/?text=FamPay%20amongst%20LinkedIn%E2%80%99s%20Top%20Startups%20List%202021%20https://fampay.in/blog/fampay-amongst-linkedins-top-startups-list-2021/\n",
      "Page size: 165.3720703125 KB\n",
      "Resource sizes: [('https://static.whatsapp.net/rsrc.php/v3/yq/r/mdQNdcFMi0p.png', 28.833984375), ('https://static.whatsapp.net/rsrc.php/v3/y7/r/DSxOAUB0raA.png', 28.7744140625), ('https://static.whatsapp.net/rsrc.php/v3/yJ/r/Qhrnh5evyPV.png', 1.193359375), ('https://static.whatsapp.net/rsrc.php/v3/yJ/r/Qhrnh5evyPV.png', 1.193359375), ('https://static.whatsapp.net/rsrc.php/v3/y6/r/TcHIu29ealS.js?_nc_x=Ij3Wp8lg5Kz', 104.8037109375), ('https://static.whatsapp.net/rsrc.php/v3/yO/l/0,cross/zkmfh5mjXuB.css?_nc_x=Ij3Wp8lg5Kz', 1.318359375), ('https://static.whatsapp.net/rsrc.php/v3/yi/l/0,cross/TngFvC3f-F7.css?_nc_x=Ij3Wp8lg5Kz', 14.91796875), ('https://static.whatsapp.net/rsrc.php/v3/yX/l/0,cross/90x4oEKKKqw.css?_nc_x=Ij3Wp8lg5Kz', 9.01953125)]\n",
      "Analyzing 425 of 523: https://www.facebook.com/sharer/sharer.php?u=https://fampay.in/blog/fampay-amongst-linkedins-top-startups-list-2021/\n",
      "Page size: 17.0546875 KB\n",
      "Resource sizes: [('https://static.xx.fbcdn.net/rsrc.php/v3/y8/r/k97pj8-or6s.png', 0.7900390625), ('https://facebook.com/security/hsts-pixel.gif?c=3.2', 0.0)]\n",
      "Analyzing 426 of 523: https://twitter.com/intent/tweet?text=FamPay%20amongst%20LinkedIn%E2%80%99s%20Top%20Startups%20List%202021&url=https://fampay.in/blog/fampay-amongst-linkedins-top-startups-list-2021/\n",
      "Page size: 167.810546875 KB\n",
      "Resource sizes: [('https://abs.twimg.com/errors/logo46x38.png', 0.9912109375), ('https://abs.twimg.com/responsive-web/client-web-legacy/shared~bundle.Compose~bundle.RichTextCompose.a2fa6b8a.js', 52.9111328125), ('https://abs.twimg.com/responsive-web/client-web-legacy/polyfills.d5242a4a.js', 17.72265625), ('https://abs.twimg.com/responsive-web/client-web-legacy/vendor.3cb7d15a.js', 218.7216796875), ('https://abs.twimg.com/responsive-web/client-web-legacy/i18n/en.213585ba.js', 114.365234375), ('https://abs.twimg.com/responsive-web/client-web-legacy/main.79ac570a.js', 408.1171875)]\n",
      "Analyzing 427 of 523: https://famapp.in/blog/fampay-partners-with-visa-to-launch-indias-first-doodle-card-for-genz/\n",
      "Page size: 44.2236328125 KB\n",
      "Resource sizes: [('https://fampay.in/blog/content/images/2020/11/logofilewhite-11-2.png', 0.130859375), ('https://fampay.in/blog/content/images/2020/11/logofilewhite-11-2.png', 0.130859375), ('https://fampay.in/blog/content/images/2021/07/FamPay_FamCard-ME-launch-video-thumbnail_doodles_1920x1080_1-1.jpg', 0.130859375), ('https://fampay.in/blog/content/images/2021/07/WhatsApp-Image-2021-07-28-at-22.47.58.jpeg', 0.130859375), ('/blog/assets/images/success.png?v=22080dfa02', 0.0), ('https://cdn.jsdelivr.net/ghost/portal@~2.30/umd/portal.min.js', 170.8154296875), ('https://cdn.jsdelivr.net/ghost/sodo-search@~1.1/umd/sodo-search.min.js', 95.5751953125), ('/blog/public/cards.min.js?v=22080dfa02', 0.0), ('/blog/public/member-attribution.min.js?v=22080dfa02', 0.0), ('https://www.googletagmanager.com/gtag/js?id=UA-147725948-3', 0.0), ('https://polyfill.io/v3/polyfill.min.js?features=IntersectionObserver%2CPromise%2CArray.prototype.includes%2CString.prototype.endsWith%2CString.prototype.startsWith%2CObject.assign%2CNodeList.prototype.forEach', 14.1123046875), ('/blog/assets/js/vendor/content-api.min.js?v=22080dfa02', 0.0), ('/blog/assets/js/manifest.js?v=22080dfa02', 0.0), ('/blog/assets/js/vendor.js?v=22080dfa02', 0.0), ('/blog/assets/js/app.js?v=22080dfa02', 0.0), ('/blog/assets/js/post.js?v=22080dfa02', 0.0), ('/blog/assets/css/app.css?v=22080dfa02', 0.0), ('/blog/public/cards.min.css?v=22080dfa02', 0.0)]\n",
      "Analyzing 428 of 523: https://wa.me/?text=FamPay%20partners%20with%20Visa%20to%20launch%20India%E2%80%99s%20first%20Doodle%20Card%20for%20GenZ%20https://fampay.in/blog/fampay-partners-with-visa-to-launch-indias-first-doodle-card-for-genz/\n",
      "Page size: 165.5830078125 KB\n",
      "Resource sizes: [('https://static.whatsapp.net/rsrc.php/v3/yq/r/mdQNdcFMi0p.png', 28.833984375), ('https://static.whatsapp.net/rsrc.php/v3/y7/r/DSxOAUB0raA.png', 28.7744140625), ('https://static.whatsapp.net/rsrc.php/v3/yJ/r/Qhrnh5evyPV.png', 1.193359375), ('https://static.whatsapp.net/rsrc.php/v3/yJ/r/Qhrnh5evyPV.png', 1.193359375), ('https://static.whatsapp.net/rsrc.php/v3/y6/r/TcHIu29ealS.js?_nc_x=Ij3Wp8lg5Kz', 104.8037109375), ('https://static.whatsapp.net/rsrc.php/v3/yO/l/0,cross/zkmfh5mjXuB.css?_nc_x=Ij3Wp8lg5Kz', 1.318359375), ('https://static.whatsapp.net/rsrc.php/v3/yi/l/0,cross/TngFvC3f-F7.css?_nc_x=Ij3Wp8lg5Kz', 14.91796875), ('https://static.whatsapp.net/rsrc.php/v3/yX/l/0,cross/90x4oEKKKqw.css?_nc_x=Ij3Wp8lg5Kz', 9.01953125)]\n",
      "Analyzing 429 of 523: https://www.facebook.com/sharer/sharer.php?u=https://fampay.in/blog/fampay-partners-with-visa-to-launch-indias-first-doodle-card-for-genz/\n",
      "Page size: 17.205078125 KB\n",
      "Resource sizes: [('https://static.xx.fbcdn.net/rsrc.php/v3/y8/r/k97pj8-or6s.png', 0.7900390625), ('https://facebook.com/security/hsts-pixel.gif?c=3.2', 0.0)]\n",
      "Analyzing 430 of 523: https://twitter.com/intent/tweet?text=FamPay%20partners%20with%20Visa%20to%20launch%20India%E2%80%99s%20first%20Doodle%20Card%20for%20GenZ&url=https://fampay.in/blog/fampay-partners-with-visa-to-launch-indias-first-doodle-card-for-genz/\n",
      "Page size: 168.015625 KB\n",
      "Resource sizes: [('https://abs.twimg.com/errors/logo46x38.png', 0.9912109375), ('https://abs.twimg.com/responsive-web/client-web-legacy/shared~bundle.Compose~bundle.RichTextCompose.a2fa6b8a.js', 52.9111328125), ('https://abs.twimg.com/responsive-web/client-web-legacy/polyfills.d5242a4a.js', 17.72265625), ('https://abs.twimg.com/responsive-web/client-web-legacy/vendor.3cb7d15a.js', 218.7216796875), ('https://abs.twimg.com/responsive-web/client-web-legacy/i18n/en.213585ba.js', 114.365234375), ('https://abs.twimg.com/responsive-web/client-web-legacy/main.79ac570a.js', 408.1171875)]\n",
      "Analyzing 431 of 523: https://famapp.in/blog/tag/product/\n",
      "Page size: 35.9521484375 KB\n",
      "Resource sizes: [('https://fampay.in/blog/content/images/2020/11/logofilewhite-11-2.png', 0.130859375), ('https://fampay.in/blog/content/images/2020/11/logofilewhite-11-2.png', 0.130859375), ('https://cdn.jsdelivr.net/ghost/portal@~2.30/umd/portal.min.js', 170.8154296875), ('https://cdn.jsdelivr.net/ghost/sodo-search@~1.1/umd/sodo-search.min.js', 95.5751953125), ('/blog/public/cards.min.js?v=22080dfa02', 0.0), ('/blog/public/member-attribution.min.js?v=22080dfa02', 0.0), ('https://www.googletagmanager.com/gtag/js?id=UA-147725948-3', 0.0), ('https://polyfill.io/v3/polyfill.min.js?features=IntersectionObserver%2CPromise%2CArray.prototype.includes%2CString.prototype.endsWith%2CString.prototype.startsWith%2CObject.assign%2CNodeList.prototype.forEach', 14.1123046875), ('/blog/assets/js/vendor/content-api.min.js?v=22080dfa02', 0.0), ('/blog/assets/js/manifest.js?v=22080dfa02', 0.0), ('/blog/assets/js/vendor.js?v=22080dfa02', 0.0), ('/blog/assets/js/app.js?v=22080dfa02', 0.0), ('/blog/assets/css/app.css?v=22080dfa02', 0.0), ('/blog/public/cards.min.css?v=22080dfa02', 0.0)]\n",
      "Analyzing 432 of 523: https://famapp.in/blog/perks-of-using-the-famcard-me/\n",
      "Page size: 39.755859375 KB\n",
      "Resource sizes: [('https://fampay.in/blog/content/images/2020/11/logofilewhite-11-2.png', 0.130859375), ('https://fampay.in/blog/content/images/2020/11/logofilewhite-11-2.png', 0.130859375), ('https://fampay.in/blog/content/images/2021/08/9334CB1C-358A-4563-84ED-11A11466F3B6.jpeg', 0.130859375), ('https://fampay.in/blog/content/images/2021/08/AA9F33FC-1ACB-49EB-A087-2269C23D7EFB.jpeg', 0.130859375), ('https://fampay.in/blog/content/images/2021/08/4970929F-5733-4C95-A5DB-1DB85970C901.jpeg', 0.130859375), ('https://fampay.in/blog/content/images/2021/08/C1F98D9F-C1ED-4916-93B0-DF9782589FD1.jpeg', 0.130859375), ('/blog/assets/images/success.png?v=22080dfa02', 0.0), ('https://cdn.jsdelivr.net/ghost/portal@~2.30/umd/portal.min.js', 170.8154296875), ('https://cdn.jsdelivr.net/ghost/sodo-search@~1.1/umd/sodo-search.min.js', 95.5751953125), ('/blog/public/cards.min.js?v=22080dfa02', 0.0), ('/blog/public/member-attribution.min.js?v=22080dfa02', 0.0), ('https://www.googletagmanager.com/gtag/js?id=UA-147725948-3', 0.0), ('https://polyfill.io/v3/polyfill.min.js?features=IntersectionObserver%2CPromise%2CArray.prototype.includes%2CString.prototype.endsWith%2CString.prototype.startsWith%2CObject.assign%2CNodeList.prototype.forEach', 14.1123046875), ('/blog/assets/js/vendor/content-api.min.js?v=22080dfa02', 0.0), ('/blog/assets/js/manifest.js?v=22080dfa02', 0.0), ('/blog/assets/js/vendor.js?v=22080dfa02', 0.0), ('/blog/assets/js/app.js?v=22080dfa02', 0.0), ('/blog/assets/js/post.js?v=22080dfa02', 0.0), ('/blog/assets/css/app.css?v=22080dfa02', 0.0), ('/blog/public/cards.min.css?v=22080dfa02', 0.0)]\n",
      "Analyzing 433 of 523: https://wa.me/?text=Perks%20of%20using%20the%20FamCard%20Me%20-%204X%20Rewards%2C%20Doodles%20and%20so%20much%20more!%20%F0%9F%92%96%20https://fampay.in/blog/perks-of-using-the-famcard-me/\n",
      "Page size: 165.419921875 KB\n",
      "Resource sizes: [('https://static.whatsapp.net/rsrc.php/v3/yq/r/mdQNdcFMi0p.png', 28.833984375), ('https://static.whatsapp.net/rsrc.php/v3/y7/r/DSxOAUB0raA.png', 28.7744140625), ('https://static.whatsapp.net/rsrc.php/v3/yJ/r/Qhrnh5evyPV.png', 1.193359375), ('https://static.whatsapp.net/rsrc.php/v3/yJ/r/Qhrnh5evyPV.png', 1.193359375), ('https://static.whatsapp.net/rsrc.php/v3/y6/r/TcHIu29ealS.js?_nc_x=Ij3Wp8lg5Kz', 104.8037109375), ('https://static.whatsapp.net/rsrc.php/v3/yO/l/0,cross/zkmfh5mjXuB.css?_nc_x=Ij3Wp8lg5Kz', 1.318359375), ('https://static.whatsapp.net/rsrc.php/v3/yi/l/0,cross/TngFvC3f-F7.css?_nc_x=Ij3Wp8lg5Kz', 14.91796875), ('https://static.whatsapp.net/rsrc.php/v3/yX/l/0,cross/90x4oEKKKqw.css?_nc_x=Ij3Wp8lg5Kz', 9.01953125)]\n",
      "Analyzing 434 of 523: https://www.facebook.com/sharer/sharer.php?u=https://fampay.in/blog/perks-of-using-the-famcard-me/\n",
      "Page size: 16.931640625 KB\n",
      "Resource sizes: [('https://static.xx.fbcdn.net/rsrc.php/v3/y8/r/k97pj8-or6s.png', 0.7900390625), ('https://facebook.com/security/hsts-pixel.gif?c=3.2', 0.0)]\n",
      "Analyzing 435 of 523: https://twitter.com/intent/tweet?text=Perks%20of%20using%20the%20FamCard%20Me%20-%204X%20Rewards%2C%20Doodles%20and%20so%20much%20more!%20%F0%9F%92%96&url=https://fampay.in/blog/perks-of-using-the-famcard-me/\n",
      "Page size: 167.810546875 KB\n",
      "Resource sizes: [('https://abs.twimg.com/errors/logo46x38.png', 0.9912109375), ('https://abs.twimg.com/responsive-web/client-web-legacy/shared~bundle.Compose~bundle.RichTextCompose.a2fa6b8a.js', 52.9111328125), ('https://abs.twimg.com/responsive-web/client-web-legacy/polyfills.d5242a4a.js', 17.72265625), ('https://abs.twimg.com/responsive-web/client-web-legacy/vendor.3cb7d15a.js', 218.7216796875), ('https://abs.twimg.com/responsive-web/client-web-legacy/i18n/en.213585ba.js', 114.365234375), ('https://abs.twimg.com/responsive-web/client-web-legacy/main.79ac570a.js', 408.1171875)]\n",
      "Analyzing 436 of 523: https://famapp.in/blog/guide-for-seeking-support-from-fampay-important-dos-and-donts/\n",
      "Page size: 43.708984375 KB\n",
      "Resource sizes: [('https://fampay.in/blog/content/images/2020/11/logofilewhite-11-2.png', 0.130859375), ('https://fampay.in/blog/content/images/2020/11/logofilewhite-11-2.png', 0.130859375), ('https://fampay.in/blog/content/images/2021/05/DO-s-and-Don-ts--2-.png', 0.130859375), ('https://fampay.in/blog/content/images/2021/04/dont1.gif', 0.130859375), ('https://fampay.in/blog/content/images/2021/04/cool.gif', 0.130859375), ('https://fampay.in/blog/content/images/2021/04/hi51.gif', 0.130859375), ('/blog/assets/images/success.png?v=22080dfa02', 0.0), ('https://cdn.jsdelivr.net/ghost/portal@~2.30/umd/portal.min.js', 170.8154296875), ('https://cdn.jsdelivr.net/ghost/sodo-search@~1.1/umd/sodo-search.min.js', 95.5751953125), ('/blog/public/cards.min.js?v=22080dfa02', 0.0), ('/blog/public/member-attribution.min.js?v=22080dfa02', 0.0), ('https://www.googletagmanager.com/gtag/js?id=UA-147725948-3', 0.0), ('https://polyfill.io/v3/polyfill.min.js?features=IntersectionObserver%2CPromise%2CArray.prototype.includes%2CString.prototype.endsWith%2CString.prototype.startsWith%2CObject.assign%2CNodeList.prototype.forEach', 14.1123046875), ('/blog/assets/js/vendor/content-api.min.js?v=22080dfa02', 0.0), ('/blog/assets/js/manifest.js?v=22080dfa02', 0.0), ('/blog/assets/js/vendor.js?v=22080dfa02', 0.0), ('/blog/assets/js/app.js?v=22080dfa02', 0.0), ('/blog/assets/js/post.js?v=22080dfa02', 0.0), ('/blog/assets/css/app.css?v=22080dfa02', 0.0), ('/blog/public/cards.min.css?v=22080dfa02', 0.0)]\n",
      "Analyzing 437 of 523: https://wa.me/?text=Guide%20for%20seeking%20support%20from%20FamPay%3A%20Important%20Dos%20%E2%9C%85%20and%20Don'ts%20%E2%9B%94%20https://fampay.in/blog/guide-for-seeking-support-from-fampay-important-dos-and-donts/\n",
      "Page size: 165.607421875 KB\n",
      "Resource sizes: [('https://static.whatsapp.net/rsrc.php/v3/yq/r/mdQNdcFMi0p.png', 28.833984375), ('https://static.whatsapp.net/rsrc.php/v3/y7/r/DSxOAUB0raA.png', 28.7744140625), ('https://static.whatsapp.net/rsrc.php/v3/yJ/r/Qhrnh5evyPV.png', 1.193359375), ('https://static.whatsapp.net/rsrc.php/v3/yJ/r/Qhrnh5evyPV.png', 1.193359375), ('https://static.whatsapp.net/rsrc.php/v3/y6/r/TcHIu29ealS.js?_nc_x=Ij3Wp8lg5Kz', 104.8037109375), ('https://static.whatsapp.net/rsrc.php/v3/yO/l/0,cross/zkmfh5mjXuB.css?_nc_x=Ij3Wp8lg5Kz', 1.318359375), ('https://static.whatsapp.net/rsrc.php/v3/yi/l/0,cross/TngFvC3f-F7.css?_nc_x=Ij3Wp8lg5Kz', 14.91796875), ('https://static.whatsapp.net/rsrc.php/v3/yX/l/0,cross/90x4oEKKKqw.css?_nc_x=Ij3Wp8lg5Kz', 9.01953125)]\n",
      "Analyzing 438 of 523: https://www.facebook.com/sharer/sharer.php?u=https://fampay.in/blog/guide-for-seeking-support-from-fampay-important-dos-and-donts/\n",
      "Page size: 17.150390625 KB\n",
      "Resource sizes: [('https://static.xx.fbcdn.net/rsrc.php/v3/y8/r/k97pj8-or6s.png', 0.7900390625), ('https://facebook.com/security/hsts-pixel.gif?c=3.2', 0.0)]\n",
      "Analyzing 439 of 523: https://twitter.com/intent/tweet?text=Guide%20for%20seeking%20support%20from%20FamPay%3A%20Important%20Dos%20%E2%9C%85%20and%20Don'ts%20%E2%9B%94&url=https://fampay.in/blog/guide-for-seeking-support-from-fampay-important-dos-and-donts/\n",
      "Page size: 167.810546875 KB\n",
      "Resource sizes: [('https://abs.twimg.com/errors/logo46x38.png', 0.9912109375), ('https://abs.twimg.com/responsive-web/client-web-legacy/shared~bundle.Compose~bundle.RichTextCompose.a2fa6b8a.js', 52.9111328125), ('https://abs.twimg.com/responsive-web/client-web-legacy/polyfills.d5242a4a.js', 17.72265625), ('https://abs.twimg.com/responsive-web/client-web-legacy/vendor.3cb7d15a.js', 218.7216796875), ('https://abs.twimg.com/responsive-web/client-web-legacy/i18n/en.213585ba.js', 114.365234375), ('https://abs.twimg.com/responsive-web/client-web-legacy/main.79ac570a.js', 408.1171875)]\n",
      "Analyzing 440 of 523: https://famapp.in/blog/7-clever-saving-hacks-for-teenagers-this-will-save-you-a-fortune/\n",
      "Page size: 45.39453125 KB\n",
      "Resource sizes: [('https://fampay.in/blog/content/images/2020/11/logofilewhite-11-2.png', 0.130859375), ('https://fampay.in/blog/content/images/2020/11/logofilewhite-11-2.png', 0.130859375), ('https://fampay.in/blog/content/images/2021/02/Untitled--1-.jpg', 0.130859375), ('https://fampay.in/blog/content/images/2021/02/Untitled--2---1-.jpg', 0.130859375), ('https://fampay.in/blog/content/images/2021/02/Untitled--3-.jpg', 0.130859375), ('https://fampay.in/blog/favicon.png', 0.130859375), ('https://fampay.in/blog/content/images/2020/11/pexels-photo-5366490.png-2.jpg', 0.130859375), ('https://fampay.in/blog/content/images/2021/02/790ad0ae-77ab-4054-a5b7-2591bdad1683--1-.jpg', 0.130859375), ('https://fampay.in/blog/content/images/2021/02/Untitled--5--1.jpg', 0.130859375), ('https://fampay.in/blog/content/images/2021/02/Untitled--6-.png', 0.130859375), ('https://static-exp1.licdn.com/sc/h/al2o9zrvru7aqj8e1x2rzsrca', 0.01953125), ('https://static-exp1.licdn.com/sc/h/c45fy346jw096z9pbphyyhdz7', 34.0400390625), ('https://static-exp1.licdn.com/sc/h/al2o9zrvru7aqj8e1x2rzsrca', 0.01953125), ('https://media-exp1.licdn.com/dms/image/C4E05AQFnRG5LadGp5A/feedshare-thumbnail_720_1280/0/1611842592896?e=1614182400&v=beta&t=M1Nm7aDiwMinNfKEgCFi6rLJPD0cO6PrM1Ev6on5GcU', 0.3759765625), ('https://static-exp1.licdn.com/sc/h/al2o9zrvru7aqj8e1x2rzsrca', 0.01953125), ('https://media-exp1.licdn.com/dms/image/C5605AQHRr5CNUr5Ugw/feedshare-thumbnail_720_1280/0/1613834028097?e=1614182400&v=beta&t=RZ9W23hvEBo352XoDRt9WTrQRPz1lOkgYHLyLIKAdaQ', 0.3759765625), ('https://fampay.in/blog/content/images/2021/02/Untitled--7-.jpg', 0.130859375), ('/blog/assets/images/success.png?v=22080dfa02', 0.0), ('https://cdn.jsdelivr.net/ghost/portal@~2.30/umd/portal.min.js', 170.8154296875), ('https://cdn.jsdelivr.net/ghost/sodo-search@~1.1/umd/sodo-search.min.js', 95.5751953125), ('/blog/public/cards.min.js?v=22080dfa02', 0.0), ('/blog/public/member-attribution.min.js?v=22080dfa02', 0.0), ('https://www.googletagmanager.com/gtag/js?id=UA-147725948-3', 0.0), ('https://polyfill.io/v3/polyfill.min.js?features=IntersectionObserver%2CPromise%2CArray.prototype.includes%2CString.prototype.endsWith%2CString.prototype.startsWith%2CObject.assign%2CNodeList.prototype.forEach', 14.1123046875), ('/blog/assets/js/vendor/content-api.min.js?v=22080dfa02', 0.0), ('/blog/assets/js/manifest.js?v=22080dfa02', 0.0), ('/blog/assets/js/vendor.js?v=22080dfa02', 0.0), ('/blog/assets/js/app.js?v=22080dfa02', 0.0), ('/blog/assets/js/post.js?v=22080dfa02', 0.0), ('/blog/assets/css/app.css?v=22080dfa02', 0.0), ('/blog/public/cards.min.css?v=22080dfa02', 0.0)]\n",
      "Analyzing 441 of 523: https://wa.me/?text=9%20Clever%20Saving%20Hacks%20for%20Teenagers%20-%20This%20will%20save%20you%20a%20fortune!%20%F0%9F%92%B8%20https://fampay.in/blog/7-clever-saving-hacks-for-teenagers-this-will-save-you-a-fortune/\n",
      "Page size: 165.5625 KB\n",
      "Resource sizes: [('https://static.whatsapp.net/rsrc.php/v3/yq/r/mdQNdcFMi0p.png', 28.833984375), ('https://static.whatsapp.net/rsrc.php/v3/y7/r/DSxOAUB0raA.png', 28.7744140625), ('https://static.whatsapp.net/rsrc.php/v3/yJ/r/Qhrnh5evyPV.png', 1.193359375), ('https://static.whatsapp.net/rsrc.php/v3/yJ/r/Qhrnh5evyPV.png', 1.193359375), ('https://static.whatsapp.net/rsrc.php/v3/y6/r/TcHIu29ealS.js?_nc_x=Ij3Wp8lg5Kz', 104.8037109375), ('https://static.whatsapp.net/rsrc.php/v3/yO/l/0,cross/zkmfh5mjXuB.css?_nc_x=Ij3Wp8lg5Kz', 1.318359375), ('https://static.whatsapp.net/rsrc.php/v3/yi/l/0,cross/TngFvC3f-F7.css?_nc_x=Ij3Wp8lg5Kz', 14.91796875), ('https://static.whatsapp.net/rsrc.php/v3/yX/l/0,cross/90x4oEKKKqw.css?_nc_x=Ij3Wp8lg5Kz', 9.01953125)]\n",
      "Analyzing 442 of 523: https://www.facebook.com/sharer/sharer.php?u=https://fampay.in/blog/7-clever-saving-hacks-for-teenagers-this-will-save-you-a-fortune/\n",
      "Page size: 17.1708984375 KB\n",
      "Resource sizes: [('https://static.xx.fbcdn.net/rsrc.php/v3/y8/r/k97pj8-or6s.png', 0.7900390625), ('https://facebook.com/security/hsts-pixel.gif?c=3.2', 0.0)]\n",
      "Analyzing 443 of 523: https://twitter.com/intent/tweet?text=9%20Clever%20Saving%20Hacks%20for%20Teenagers%20-%20This%20will%20save%20you%20a%20fortune!%20%F0%9F%92%B8&url=https://fampay.in/blog/7-clever-saving-hacks-for-teenagers-this-will-save-you-a-fortune/\n",
      "Page size: 168.015625 KB\n",
      "Resource sizes: [('https://abs.twimg.com/errors/logo46x38.png', 0.9912109375), ('https://abs.twimg.com/responsive-web/client-web-legacy/shared~bundle.Compose~bundle.RichTextCompose.a2fa6b8a.js', 52.9111328125), ('https://abs.twimg.com/responsive-web/client-web-legacy/polyfills.d5242a4a.js', 17.72265625), ('https://abs.twimg.com/responsive-web/client-web-legacy/vendor.3cb7d15a.js', 218.7216796875), ('https://abs.twimg.com/responsive-web/client-web-legacy/i18n/en.213585ba.js', 114.365234375), ('https://abs.twimg.com/responsive-web/client-web-legacy/main.79ac570a.js', 408.1171875)]\n",
      "Analyzing 444 of 523: https://fampay.in/blog/baddie-on-a-budget-budgeting-tricks-for-teens/\n",
      "Page size: 41.9375 KB\n",
      "Resource sizes: [('https://fampay.in/blog/content/images/2020/11/logofilewhite-11-2.png', 0.130859375), ('https://fampay.in/blog/content/images/2020/11/logofilewhite-11-2.png', 0.130859375), ('https://fampay.in/blog/content/images/2020/10/tenor-13.gif', 0.130859375), ('https://fampay.in/blog/content/images/2020/10/giphy-9.gif', 0.130859375), ('https://fampay.in/blog/content/images/2020/10/giphy-8.gif', 0.130859375), ('https://fampay.in/blog/content/images/2020/10/tenor-12.gif', 0.130859375), ('/blog/assets/images/success.png?v=22080dfa02', 0.130859375), ('https://cdn.jsdelivr.net/ghost/portal@~2.30/umd/portal.min.js', 170.8154296875), ('https://cdn.jsdelivr.net/ghost/sodo-search@~1.1/umd/sodo-search.min.js', 95.5751953125), ('/blog/public/cards.min.js?v=22080dfa02', 0.130859375), ('/blog/public/member-attribution.min.js?v=22080dfa02', 0.130859375), ('https://www.googletagmanager.com/gtag/js?id=UA-147725948-3', 0.0), ('https://polyfill.io/v3/polyfill.min.js?features=IntersectionObserver%2CPromise%2CArray.prototype.includes%2CString.prototype.endsWith%2CString.prototype.startsWith%2CObject.assign%2CNodeList.prototype.forEach', 14.1123046875), ('/blog/assets/js/vendor/content-api.min.js?v=22080dfa02', 0.130859375), ('/blog/assets/js/manifest.js?v=22080dfa02', 0.130859375), ('/blog/assets/js/vendor.js?v=22080dfa02', 0.130859375), ('/blog/assets/js/app.js?v=22080dfa02', 0.130859375), ('/blog/assets/js/post.js?v=22080dfa02', 0.130859375), ('/blog/assets/css/app.css?v=22080dfa02', 0.130859375), ('/blog/public/cards.min.css?v=22080dfa02', 0.130859375)]\n",
      "Analyzing 445 of 523: https://famapp.in/blog/what-makes-fampay-secure/\n",
      "Page size: 41.2138671875 KB\n",
      "Resource sizes: [('https://fampay.in/blog/content/images/2020/11/logofilewhite-11-2.png', 0.130859375), ('https://fampay.in/blog/content/images/2020/11/logofilewhite-11-2.png', 0.130859375), ('https://fampay.in/blog/content/images/2020/12/partner2.gif', 0.130859375), ('https://fampay.in/blog/content/images/2020/12/wowww2.gif', 0.130859375), ('https://fampay.in/blog/favicon.png', 0.130859375), ('https://fampay.in/blog/content/images/2020/12/Tiara--Blog-3.png', 0.130859375), ('/blog/assets/images/success.png?v=22080dfa02', 0.0), ('https://cdn.jsdelivr.net/ghost/portal@~2.30/umd/portal.min.js', 170.8154296875), ('https://cdn.jsdelivr.net/ghost/sodo-search@~1.1/umd/sodo-search.min.js', 95.5751953125), ('/blog/public/cards.min.js?v=22080dfa02', 0.0), ('/blog/public/member-attribution.min.js?v=22080dfa02', 0.0), ('https://www.googletagmanager.com/gtag/js?id=UA-147725948-3', 0.0), ('https://polyfill.io/v3/polyfill.min.js?features=IntersectionObserver%2CPromise%2CArray.prototype.includes%2CString.prototype.endsWith%2CString.prototype.startsWith%2CObject.assign%2CNodeList.prototype.forEach', 14.1123046875), ('/blog/assets/js/vendor/content-api.min.js?v=22080dfa02', 0.0), ('/blog/assets/js/manifest.js?v=22080dfa02', 0.0), ('/blog/assets/js/vendor.js?v=22080dfa02', 0.0), ('/blog/assets/js/app.js?v=22080dfa02', 0.0), ('/blog/assets/js/post.js?v=22080dfa02', 0.0), ('/blog/assets/css/app.css?v=22080dfa02', 0.0), ('/blog/public/cards.min.css?v=22080dfa02', 0.0)]\n",
      "Analyzing 446 of 523: https://wa.me/?text=What%20makes%20FamPay%20secure%3F%20%F0%9F%94%90%20https://fampay.in/blog/what-makes-fampay-secure/\n",
      "Page size: 165.16796875 KB\n",
      "Resource sizes: [('https://static.whatsapp.net/rsrc.php/v3/yq/r/mdQNdcFMi0p.png', 28.833984375), ('https://static.whatsapp.net/rsrc.php/v3/y7/r/DSxOAUB0raA.png', 28.7744140625), ('https://static.whatsapp.net/rsrc.php/v3/yJ/r/Qhrnh5evyPV.png', 1.193359375), ('https://static.whatsapp.net/rsrc.php/v3/yJ/r/Qhrnh5evyPV.png', 1.193359375), ('https://static.whatsapp.net/rsrc.php/v3/y6/r/TcHIu29ealS.js?_nc_x=Ij3Wp8lg5Kz', 104.8037109375), ('https://static.whatsapp.net/rsrc.php/v3/yO/l/0,cross/zkmfh5mjXuB.css?_nc_x=Ij3Wp8lg5Kz', 1.318359375), ('https://static.whatsapp.net/rsrc.php/v3/yi/l/0,cross/TngFvC3f-F7.css?_nc_x=Ij3Wp8lg5Kz', 14.91796875), ('https://static.whatsapp.net/rsrc.php/v3/yX/l/0,cross/90x4oEKKKqw.css?_nc_x=Ij3Wp8lg5Kz', 9.01953125)]\n",
      "Analyzing 447 of 523: https://www.facebook.com/sharer/sharer.php?u=https://fampay.in/blog/what-makes-fampay-secure/\n",
      "Page size: 16.8974609375 KB\n",
      "Resource sizes: [('https://static.xx.fbcdn.net/rsrc.php/v3/y8/r/k97pj8-or6s.png', 0.7900390625), ('https://facebook.com/security/hsts-pixel.gif?c=3.2', 0.0)]\n",
      "Analyzing 448 of 523: https://twitter.com/intent/tweet?text=What%20makes%20FamPay%20secure%3F%20%F0%9F%94%90&url=https://fampay.in/blog/what-makes-fampay-secure/\n",
      "Page size: 167.810546875 KB\n",
      "Resource sizes: [('https://abs.twimg.com/errors/logo46x38.png', 0.9912109375), ('https://abs.twimg.com/responsive-web/client-web-legacy/shared~bundle.Compose~bundle.RichTextCompose.a2fa6b8a.js', 52.9111328125), ('https://abs.twimg.com/responsive-web/client-web-legacy/polyfills.d5242a4a.js', 17.72265625), ('https://abs.twimg.com/responsive-web/client-web-legacy/vendor.3cb7d15a.js', 218.7216796875), ('https://abs.twimg.com/responsive-web/client-web-legacy/i18n/en.213585ba.js', 114.365234375), ('https://abs.twimg.com/responsive-web/client-web-legacy/main.79ac570a.js', 408.1171875)]\n",
      "Analyzing 449 of 523: https://famapp.in/blog/fampays-guide-to-digital-payments-for-teens-important-dos-and-donts/\n",
      "Page size: 42.9814453125 KB\n",
      "Resource sizes: [('https://fampay.in/blog/content/images/2020/11/logofilewhite-11-2.png', 0.130859375), ('https://fampay.in/blog/content/images/2020/11/logofilewhite-11-2.png', 0.130859375), ('https://fampay.in/blog/content/images/2020/12/DO-s-and-Don-ts--2-.png', 0.130859375), ('/blog/assets/images/success.png?v=22080dfa02', 0.0), ('https://cdn.jsdelivr.net/ghost/portal@~2.30/umd/portal.min.js', 170.8154296875), ('https://cdn.jsdelivr.net/ghost/sodo-search@~1.1/umd/sodo-search.min.js', 95.5751953125), ('/blog/public/cards.min.js?v=22080dfa02', 0.0), ('/blog/public/member-attribution.min.js?v=22080dfa02', 0.0), ('https://www.googletagmanager.com/gtag/js?id=UA-147725948-3', 0.0), ('https://polyfill.io/v3/polyfill.min.js?features=IntersectionObserver%2CPromise%2CArray.prototype.includes%2CString.prototype.endsWith%2CString.prototype.startsWith%2CObject.assign%2CNodeList.prototype.forEach', 14.1123046875), ('/blog/assets/js/vendor/content-api.min.js?v=22080dfa02', 0.0), ('/blog/assets/js/manifest.js?v=22080dfa02', 0.0), ('/blog/assets/js/vendor.js?v=22080dfa02', 0.0), ('/blog/assets/js/app.js?v=22080dfa02', 0.0), ('/blog/assets/js/post.js?v=22080dfa02', 0.0), ('/blog/assets/css/app.css?v=22080dfa02', 0.0), ('/blog/public/cards.min.css?v=22080dfa02', 0.0)]\n",
      "Analyzing 450 of 523: https://wa.me/?text=FamPay%E2%80%99s%20guide%20to%20digital%20payments%20for%20teens%3A%20Important%20Dos%20%E2%9C%85%20and%20Don'ts%20%E2%9B%94%20https://fampay.in/blog/fampays-guide-to-digital-payments-for-teens-important-dos-and-donts/\n",
      "Page size: 165.7216796875 KB\n",
      "Resource sizes: [('https://static.whatsapp.net/rsrc.php/v3/yq/r/mdQNdcFMi0p.png', 28.833984375), ('https://static.whatsapp.net/rsrc.php/v3/y7/r/DSxOAUB0raA.png', 28.7744140625), ('https://static.whatsapp.net/rsrc.php/v3/yJ/r/Qhrnh5evyPV.png', 1.193359375), ('https://static.whatsapp.net/rsrc.php/v3/yJ/r/Qhrnh5evyPV.png', 1.193359375), ('https://static.whatsapp.net/rsrc.php/v3/y6/r/TcHIu29ealS.js?_nc_x=Ij3Wp8lg5Kz', 104.8037109375), ('https://static.whatsapp.net/rsrc.php/v3/yO/l/0,cross/zkmfh5mjXuB.css?_nc_x=Ij3Wp8lg5Kz', 1.318359375), ('https://static.whatsapp.net/rsrc.php/v3/yi/l/0,cross/TngFvC3f-F7.css?_nc_x=Ij3Wp8lg5Kz', 14.91796875), ('https://static.whatsapp.net/rsrc.php/v3/yX/l/0,cross/90x4oEKKKqw.css?_nc_x=Ij3Wp8lg5Kz', 9.01953125)]\n",
      "Analyzing 451 of 523: https://www.facebook.com/sharer/sharer.php?u=https://fampay.in/blog/fampays-guide-to-digital-payments-for-teens-important-dos-and-donts/\n",
      "Page size: 17.19140625 KB\n",
      "Resource sizes: [('https://static.xx.fbcdn.net/rsrc.php/v3/y8/r/k97pj8-or6s.png', 0.7900390625), ('https://facebook.com/security/hsts-pixel.gif?c=3.2', 0.0)]\n",
      "Analyzing 452 of 523: https://twitter.com/intent/tweet?text=FamPay%E2%80%99s%20guide%20to%20digital%20payments%20for%20teens%3A%20Important%20Dos%20%E2%9C%85%20and%20Don'ts%20%E2%9B%94&url=https://fampay.in/blog/fampays-guide-to-digital-payments-for-teens-important-dos-and-donts/\n",
      "Page size: 167.810546875 KB\n",
      "Resource sizes: [('https://abs.twimg.com/errors/logo46x38.png', 0.9912109375), ('https://abs.twimg.com/responsive-web/client-web-legacy/shared~bundle.Compose~bundle.RichTextCompose.a2fa6b8a.js', 52.9111328125), ('https://abs.twimg.com/responsive-web/client-web-legacy/polyfills.d5242a4a.js', 17.72265625), ('https://abs.twimg.com/responsive-web/client-web-legacy/vendor.3cb7d15a.js', 218.7216796875), ('https://abs.twimg.com/responsive-web/client-web-legacy/i18n/en.213585ba.js', 114.365234375), ('https://abs.twimg.com/responsive-web/client-web-legacy/main.79ac570a.js', 408.1171875)]\n",
      "Analyzing 453 of 523: https://famapp.in/blog/how-to-order-a-famcard-in-less-than-5-minutes/\n",
      "Page size: 41.404296875 KB\n",
      "Resource sizes: [('https://fampay.in/blog/content/images/2020/11/logofilewhite-11-2.png', 0.130859375), ('https://fampay.in/blog/content/images/2020/11/logofilewhite-11-2.png', 0.130859375), ('https://fampay.in/blog/content/images/2020/08/Untitled-1.png', 0.130859375), ('https://fampay.in/blog/content/images/2020/08/image-2.png', 0.130859375), ('https://fampay.in/blog/content/images/2020/08/new--1-.png', 0.130859375), ('https://fampay.in/blog/content/images/2020/08/Untitled--3-.png', 0.130859375), ('https://fampay.in/blog/content/images/2020/08/image-1.png', 0.130859375), ('https://fampay.in/blog/content/images/2020/08/Untitled--5--2.png', 0.130859375), ('https://fampay.in/blog/content/images/2020/08/Untitled--6-.png', 0.130859375), ('https://fampay.in/blog/content/images/2020/08/image-2.png', 0.130859375), ('/blog/assets/images/success.png?v=22080dfa02', 0.0), ('https://cdn.jsdelivr.net/ghost/portal@~2.30/umd/portal.min.js', 170.8154296875), ('https://cdn.jsdelivr.net/ghost/sodo-search@~1.1/umd/sodo-search.min.js', 95.5751953125), ('/blog/public/cards.min.js?v=22080dfa02', 0.0), ('/blog/public/member-attribution.min.js?v=22080dfa02', 0.0), ('https://www.googletagmanager.com/gtag/js?id=UA-147725948-3', 0.0), ('https://polyfill.io/v3/polyfill.min.js?features=IntersectionObserver%2CPromise%2CArray.prototype.includes%2CString.prototype.endsWith%2CString.prototype.startsWith%2CObject.assign%2CNodeList.prototype.forEach', 14.1123046875), ('/blog/assets/js/vendor/content-api.min.js?v=22080dfa02', 0.0), ('/blog/assets/js/manifest.js?v=22080dfa02', 0.0), ('/blog/assets/js/vendor.js?v=22080dfa02', 0.0), ('/blog/assets/js/app.js?v=22080dfa02', 0.0), ('/blog/assets/js/post.js?v=22080dfa02', 0.0), ('/blog/assets/css/app.css?v=22080dfa02', 0.0), ('/blog/public/cards.min.css?v=22080dfa02', 0.0)]\n",
      "Analyzing 454 of 523: https://wa.me/?text=How%20to%20order%20a%20FamCard%20in%20less%20than%205%20minutes%3F%20%F0%9F%92%B3%20https://fampay.in/blog/how-to-order-a-famcard-in-less-than-5-minutes/\n",
      "Page size: 165.3720703125 KB\n",
      "Resource sizes: [('https://static.whatsapp.net/rsrc.php/v3/yq/r/mdQNdcFMi0p.png', 28.833984375), ('https://static.whatsapp.net/rsrc.php/v3/y7/r/DSxOAUB0raA.png', 28.7744140625), ('https://static.whatsapp.net/rsrc.php/v3/yJ/r/Qhrnh5evyPV.png', 1.193359375), ('https://static.whatsapp.net/rsrc.php/v3/yJ/r/Qhrnh5evyPV.png', 1.193359375), ('https://static.whatsapp.net/rsrc.php/v3/y6/r/TcHIu29ealS.js?_nc_x=Ij3Wp8lg5Kz', 104.8037109375), ('https://static.whatsapp.net/rsrc.php/v3/yO/l/0,cross/zkmfh5mjXuB.css?_nc_x=Ij3Wp8lg5Kz', 1.318359375), ('https://static.whatsapp.net/rsrc.php/v3/yi/l/0,cross/TngFvC3f-F7.css?_nc_x=Ij3Wp8lg5Kz', 14.91796875), ('https://static.whatsapp.net/rsrc.php/v3/yX/l/0,cross/90x4oEKKKqw.css?_nc_x=Ij3Wp8lg5Kz', 9.01953125)]\n",
      "Analyzing 455 of 523: https://www.facebook.com/sharer/sharer.php?u=https://fampay.in/blog/how-to-order-a-famcard-in-less-than-5-minutes/\n",
      "Page size: 17.041015625 KB\n",
      "Resource sizes: [('https://static.xx.fbcdn.net/rsrc.php/v3/y8/r/k97pj8-or6s.png', 0.7900390625), ('https://facebook.com/security/hsts-pixel.gif?c=3.2', 0.0)]\n",
      "Analyzing 456 of 523: https://twitter.com/intent/tweet?text=How%20to%20order%20a%20FamCard%20in%20less%20than%205%20minutes%3F%20%F0%9F%92%B3&url=https://fampay.in/blog/how-to-order-a-famcard-in-less-than-5-minutes/\n",
      "Page size: 167.810546875 KB\n",
      "Resource sizes: [('https://abs.twimg.com/errors/logo46x38.png', 0.9912109375), ('https://abs.twimg.com/responsive-web/client-web-legacy/shared~bundle.Compose~bundle.RichTextCompose.a2fa6b8a.js', 52.9111328125), ('https://abs.twimg.com/responsive-web/client-web-legacy/polyfills.d5242a4a.js', 17.72265625), ('https://abs.twimg.com/responsive-web/client-web-legacy/vendor.3cb7d15a.js', 218.7216796875), ('https://abs.twimg.com/responsive-web/client-web-legacy/i18n/en.213585ba.js', 114.365234375), ('https://abs.twimg.com/responsive-web/client-web-legacy/main.79ac570a.js', 408.1171875)]\n",
      "Analyzing 457 of 523: https://fampay.in/blog/one-stop-solution-for-all-your-kyc-concerns/\n",
      "Page size: 40.6416015625 KB\n",
      "Resource sizes: [('https://fampay.in/blog/content/images/2020/11/logofilewhite-11-2.png', 0.130859375), ('https://fampay.in/blog/content/images/2020/11/logofilewhite-11-2.png', 0.130859375), ('https://fampay.in/blog/content/images/2020/08/PicsArt_08-10-02.58.14__01-2.jpg', 0.130859375), ('https://fampay.in/blog/content/images/2020/08/PicsArt_08-10-03.13.07--1-.jpg', 0.130859375), ('https://fampay.in/blog/content/images/2020/08/PicsArt_08-10-03.48.13.jpg', 0.130859375), ('/blog/assets/images/success.png?v=22080dfa02', 0.130859375), ('https://cdn.jsdelivr.net/ghost/portal@~2.30/umd/portal.min.js', 170.8154296875), ('https://cdn.jsdelivr.net/ghost/sodo-search@~1.1/umd/sodo-search.min.js', 95.5751953125), ('/blog/public/cards.min.js?v=22080dfa02', 0.130859375), ('/blog/public/member-attribution.min.js?v=22080dfa02', 0.130859375), ('https://www.googletagmanager.com/gtag/js?id=UA-147725948-3', 0.0), ('https://polyfill.io/v3/polyfill.min.js?features=IntersectionObserver%2CPromise%2CArray.prototype.includes%2CString.prototype.endsWith%2CString.prototype.startsWith%2CObject.assign%2CNodeList.prototype.forEach', 14.1123046875), ('/blog/assets/js/vendor/content-api.min.js?v=22080dfa02', 0.130859375), ('/blog/assets/js/manifest.js?v=22080dfa02', 0.130859375), ('/blog/assets/js/vendor.js?v=22080dfa02', 0.130859375), ('/blog/assets/js/app.js?v=22080dfa02', 0.130859375), ('/blog/assets/js/post.js?v=22080dfa02', 0.130859375), ('/blog/assets/css/app.css?v=22080dfa02', 0.130859375), ('/blog/public/cards.min.css?v=22080dfa02', 0.130859375)]\n",
      "Analyzing 458 of 523: https://wa.me/?text=One-stop%20solution%20for%20all%20your%20KYC%20concerns%20https://fampay.in/blog/one-stop-solution-for-all-your-kyc-concerns/\n",
      "Page size: 165.27734375 KB\n",
      "Resource sizes: [('https://static.whatsapp.net/rsrc.php/v3/yq/r/mdQNdcFMi0p.png', 28.833984375), ('https://static.whatsapp.net/rsrc.php/v3/y7/r/DSxOAUB0raA.png', 28.7744140625), ('https://static.whatsapp.net/rsrc.php/v3/yJ/r/Qhrnh5evyPV.png', 1.193359375), ('https://static.whatsapp.net/rsrc.php/v3/yJ/r/Qhrnh5evyPV.png', 1.193359375), ('https://static.whatsapp.net/rsrc.php/v3/y6/r/TcHIu29ealS.js?_nc_x=Ij3Wp8lg5Kz', 104.8037109375), ('https://static.whatsapp.net/rsrc.php/v3/yO/l/0,cross/zkmfh5mjXuB.css?_nc_x=Ij3Wp8lg5Kz', 1.318359375), ('https://static.whatsapp.net/rsrc.php/v3/yi/l/0,cross/TngFvC3f-F7.css?_nc_x=Ij3Wp8lg5Kz', 14.91796875), ('https://static.whatsapp.net/rsrc.php/v3/yX/l/0,cross/90x4oEKKKqw.css?_nc_x=Ij3Wp8lg5Kz', 9.01953125)]\n",
      "Analyzing 459 of 523: https://www.facebook.com/sharer/sharer.php?u=https://fampay.in/blog/one-stop-solution-for-all-your-kyc-concerns/\n",
      "Page size: 17.02734375 KB\n",
      "Resource sizes: [('https://static.xx.fbcdn.net/rsrc.php/v3/y8/r/k97pj8-or6s.png', 0.7900390625), ('https://facebook.com/security/hsts-pixel.gif?c=3.2', 0.0)]\n",
      "Analyzing 460 of 523: https://twitter.com/intent/tweet?text=One-stop%20solution%20for%20all%20your%20KYC%20concerns&url=https://fampay.in/blog/one-stop-solution-for-all-your-kyc-concerns/\n",
      "Page size: 167.810546875 KB\n",
      "Resource sizes: [('https://abs.twimg.com/errors/logo46x38.png', 0.9912109375), ('https://abs.twimg.com/responsive-web/client-web-legacy/shared~bundle.Compose~bundle.RichTextCompose.a2fa6b8a.js', 52.9111328125), ('https://abs.twimg.com/responsive-web/client-web-legacy/polyfills.d5242a4a.js', 17.72265625), ('https://abs.twimg.com/responsive-web/client-web-legacy/vendor.3cb7d15a.js', 218.7216796875), ('https://abs.twimg.com/responsive-web/client-web-legacy/i18n/en.213585ba.js', 114.365234375), ('https://abs.twimg.com/responsive-web/client-web-legacy/main.79ac570a.js', 408.1171875)]\n",
      "Analyzing 461 of 523: https://fampay.in/blog/fampay-the-solution-to-your-cash-problems/\n",
      "Page size: 76.845703125 KB\n",
      "Resource sizes: [('https://fampay.in/blog/content/images/2020/11/logofilewhite-11-2.png', 0.130859375), ('https://fampay.in/blog/content/images/2020/11/logofilewhite-11-2.png', 0.130859375), ('https://fampay.in/blog/content/images/2020/09/image-6.png', 0.130859375), ('https://fampay.in/blog/content/images/2020/06/image-14.png', 0.130859375), ('/blog/assets/images/success.png?v=22080dfa02', 0.130859375), ('https://cdn.jsdelivr.net/ghost/portal@~2.30/umd/portal.min.js', 170.8154296875), ('https://cdn.jsdelivr.net/ghost/sodo-search@~1.1/umd/sodo-search.min.js', 95.5751953125), ('/blog/public/cards.min.js?v=22080dfa02', 0.130859375), ('/blog/public/member-attribution.min.js?v=22080dfa02', 0.130859375), ('https://www.googletagmanager.com/gtag/js?id=UA-147725948-3', 0.0), ('//www.instagram.com/embed.js', 0.130859375), ('//www.instagram.com/embed.js', 0.130859375), ('//www.instagram.com/embed.js', 0.130859375), ('//www.instagram.com/embed.js', 0.130859375), ('//www.instagram.com/embed.js', 0.130859375), ('https://polyfill.io/v3/polyfill.min.js?features=IntersectionObserver%2CPromise%2CArray.prototype.includes%2CString.prototype.endsWith%2CString.prototype.startsWith%2CObject.assign%2CNodeList.prototype.forEach', 14.1123046875), ('/blog/assets/js/vendor/content-api.min.js?v=22080dfa02', 0.130859375), ('/blog/assets/js/manifest.js?v=22080dfa02', 0.130859375), ('/blog/assets/js/vendor.js?v=22080dfa02', 0.130859375), ('/blog/assets/js/app.js?v=22080dfa02', 0.130859375), ('/blog/assets/js/post.js?v=22080dfa02', 0.130859375), ('/blog/assets/css/app.css?v=22080dfa02', 0.130859375), ('/blog/public/cards.min.css?v=22080dfa02', 0.130859375)]\n",
      "Analyzing 462 of 523: https://famapp.in/blog/tag/product/page/2/\n",
      "Page size: 27.3720703125 KB\n",
      "Resource sizes: [('https://fampay.in/blog/content/images/2020/11/logofilewhite-11-2.png', 0.130859375), ('https://fampay.in/blog/content/images/2020/11/logofilewhite-11-2.png', 0.130859375), ('https://cdn.jsdelivr.net/ghost/portal@~2.30/umd/portal.min.js', 170.8154296875), ('https://cdn.jsdelivr.net/ghost/sodo-search@~1.1/umd/sodo-search.min.js', 95.5751953125), ('/blog/public/cards.min.js?v=22080dfa02', 0.0), ('/blog/public/member-attribution.min.js?v=22080dfa02', 0.0), ('https://www.googletagmanager.com/gtag/js?id=UA-147725948-3', 0.0), ('https://polyfill.io/v3/polyfill.min.js?features=IntersectionObserver%2CPromise%2CArray.prototype.includes%2CString.prototype.endsWith%2CString.prototype.startsWith%2CObject.assign%2CNodeList.prototype.forEach', 14.1123046875), ('/blog/assets/js/vendor/content-api.min.js?v=22080dfa02', 0.0), ('/blog/assets/js/manifest.js?v=22080dfa02', 0.0), ('/blog/assets/js/vendor.js?v=22080dfa02', 0.0), ('/blog/assets/js/app.js?v=22080dfa02', 0.0), ('/blog/assets/css/app.css?v=22080dfa02', 0.0), ('/blog/public/cards.min.css?v=22080dfa02', 0.0)]\n",
      "Analyzing 463 of 523: https://famapp.in/blog/one-stop-solution-for-all-your-kyc-concerns/\n",
      "Page size: 40.6416015625 KB\n",
      "Resource sizes: [('https://fampay.in/blog/content/images/2020/11/logofilewhite-11-2.png', 0.130859375), ('https://fampay.in/blog/content/images/2020/11/logofilewhite-11-2.png', 0.130859375), ('https://fampay.in/blog/content/images/2020/08/PicsArt_08-10-02.58.14__01-2.jpg', 0.130859375), ('https://fampay.in/blog/content/images/2020/08/PicsArt_08-10-03.13.07--1-.jpg', 0.130859375), ('https://fampay.in/blog/content/images/2020/08/PicsArt_08-10-03.48.13.jpg', 0.130859375), ('/blog/assets/images/success.png?v=22080dfa02', 0.0), ('https://cdn.jsdelivr.net/ghost/portal@~2.30/umd/portal.min.js', 170.8154296875), ('https://cdn.jsdelivr.net/ghost/sodo-search@~1.1/umd/sodo-search.min.js', 95.5751953125), ('/blog/public/cards.min.js?v=22080dfa02', 0.0), ('/blog/public/member-attribution.min.js?v=22080dfa02', 0.0), ('https://www.googletagmanager.com/gtag/js?id=UA-147725948-3', 0.0), ('https://polyfill.io/v3/polyfill.min.js?features=IntersectionObserver%2CPromise%2CArray.prototype.includes%2CString.prototype.endsWith%2CString.prototype.startsWith%2CObject.assign%2CNodeList.prototype.forEach', 14.1123046875), ('/blog/assets/js/vendor/content-api.min.js?v=22080dfa02', 0.0), ('/blog/assets/js/manifest.js?v=22080dfa02', 0.0), ('/blog/assets/js/vendor.js?v=22080dfa02', 0.0), ('/blog/assets/js/app.js?v=22080dfa02', 0.0), ('/blog/assets/js/post.js?v=22080dfa02', 0.0), ('/blog/assets/css/app.css?v=22080dfa02', 0.0), ('/blog/public/cards.min.css?v=22080dfa02', 0.0)]\n",
      "Analyzing 464 of 523: https://famapp.in/blog/everything-you-need-to-know-about-our-numberless-card/\n",
      "Page size: 45.775390625 KB\n",
      "Resource sizes: [('https://fampay.in/blog/content/images/2020/11/logofilewhite-11-2.png', 0.130859375), ('https://fampay.in/blog/content/images/2020/11/logofilewhite-11-2.png', 0.130859375), ('https://fampay.in/blog/content/images/2020/07/CardInstagramPR--1-.png', 0.130859375), ('https://fampay.in/blog/content/images/2020/07/security.gif', 0.130859375), ('https://fampay.in/blog/content/images/2020/07/contactless.gif', 0.130859375), ('https://fampay.in/blog/content/images/2020/07/nofrills.gif', 0.130859375), ('/blog/assets/images/success.png?v=22080dfa02', 0.0), ('https://cdn.jsdelivr.net/ghost/portal@~2.30/umd/portal.min.js', 170.8154296875), ('https://cdn.jsdelivr.net/ghost/sodo-search@~1.1/umd/sodo-search.min.js', 95.5751953125), ('/blog/public/cards.min.js?v=22080dfa02', 0.0), ('/blog/public/member-attribution.min.js?v=22080dfa02', 0.0), ('https://www.googletagmanager.com/gtag/js?id=UA-147725948-3', 0.0), ('https://platform.twitter.com/widgets.js', 91.0537109375), ('https://polyfill.io/v3/polyfill.min.js?features=IntersectionObserver%2CPromise%2CArray.prototype.includes%2CString.prototype.endsWith%2CString.prototype.startsWith%2CObject.assign%2CNodeList.prototype.forEach', 14.1123046875), ('/blog/assets/js/vendor/content-api.min.js?v=22080dfa02', 0.0), ('/blog/assets/js/manifest.js?v=22080dfa02', 0.0), ('/blog/assets/js/vendor.js?v=22080dfa02', 0.0), ('/blog/assets/js/app.js?v=22080dfa02', 0.0), ('/blog/assets/js/post.js?v=22080dfa02', 0.0), ('/blog/assets/css/app.css?v=22080dfa02', 0.0), ('/blog/public/cards.min.css?v=22080dfa02', 0.0)]\n",
      "Analyzing 465 of 523: https://wa.me/?text=Everything%20you%20need%20to%20know%20about%20our%20Numberless%20Card!%20%F0%9F%92%B3%20https://fampay.in/blog/everything-you-need-to-know-about-our-numberless-card/\n",
      "Page size: 165.44921875 KB\n",
      "Resource sizes: [('https://static.whatsapp.net/rsrc.php/v3/yq/r/mdQNdcFMi0p.png', 28.833984375), ('https://static.whatsapp.net/rsrc.php/v3/y7/r/DSxOAUB0raA.png', 28.7744140625), ('https://static.whatsapp.net/rsrc.php/v3/yJ/r/Qhrnh5evyPV.png', 1.193359375), ('https://static.whatsapp.net/rsrc.php/v3/yJ/r/Qhrnh5evyPV.png', 1.193359375), ('https://static.whatsapp.net/rsrc.php/v3/y6/r/TcHIu29ealS.js?_nc_x=Ij3Wp8lg5Kz', 104.8037109375), ('https://static.whatsapp.net/rsrc.php/v3/yO/l/0,cross/zkmfh5mjXuB.css?_nc_x=Ij3Wp8lg5Kz', 1.318359375), ('https://static.whatsapp.net/rsrc.php/v3/yi/l/0,cross/TngFvC3f-F7.css?_nc_x=Ij3Wp8lg5Kz', 14.91796875), ('https://static.whatsapp.net/rsrc.php/v3/yX/l/0,cross/90x4oEKKKqw.css?_nc_x=Ij3Wp8lg5Kz', 9.01953125)]\n",
      "Analyzing 466 of 523: https://www.facebook.com/sharer/sharer.php?u=https://fampay.in/blog/everything-you-need-to-know-about-our-numberless-card/\n",
      "Page size: 17.095703125 KB\n",
      "Resource sizes: [('https://static.xx.fbcdn.net/rsrc.php/v3/y8/r/k97pj8-or6s.png', 0.7900390625), ('https://facebook.com/security/hsts-pixel.gif?c=3.2', 0.0)]\n",
      "Analyzing 467 of 523: https://twitter.com/intent/tweet?text=Everything%20you%20need%20to%20know%20about%20our%20Numberless%20Card!%20%F0%9F%92%B3&url=https://fampay.in/blog/everything-you-need-to-know-about-our-numberless-card/\n",
      "Page size: 167.86328125 KB\n",
      "Resource sizes: [('https://abs.twimg.com/errors/logo46x38.png', 0.9912109375), ('https://abs.twimg.com/responsive-web/client-web-legacy/shared~bundle.Compose~bundle.RichTextCompose.a2fa6b8a.js', 52.9111328125), ('https://abs.twimg.com/responsive-web/client-web-legacy/polyfills.d5242a4a.js', 17.72265625), ('https://abs.twimg.com/responsive-web/client-web-legacy/vendor.3cb7d15a.js', 218.7216796875), ('https://abs.twimg.com/responsive-web/client-web-legacy/i18n/en.213585ba.js', 114.365234375), ('https://abs.twimg.com/responsive-web/client-web-legacy/main.79ac570a.js', 408.1171875)]\n",
      "Analyzing 468 of 523: https://famapp.in/blog/famcard-your-first-prepaid-card/\n",
      "Page size: 40.01953125 KB\n",
      "Resource sizes: [('https://fampay.in/blog/content/images/2020/11/logofilewhite-11-2.png', 0.130859375), ('https://fampay.in/blog/content/images/2020/11/logofilewhite-11-2.png', 0.130859375), ('https://fampay.in/blog/content/images/2020/06/famcard-tinder.png', 0.130859375), ('https://fampay.in/blog/content/images/2020/06/swipe-right-gif.gif', 0.130859375), ('https://fampay.in/blog/content/images/2020/06/match-gif.gif', 0.130859375), ('https://fampay.in/blog/content/images/2020/06/service.gif', 0.130859375), ('https://fampay.in/blog/content/images/2020/06/tattoo.gif', 0.130859375), ('https://fampay.in/blog/content/images/2020/06/secret.gif', 0.130859375), ('https://fampay.in/blog/content/images/2020/06/icecream.gif', 0.130859375), ('https://fampay.in/blog/content/images/2020/06/shopping.gif', 0.130859375), ('https://fampay.in/blog/content/images/2020/06/giphy.gif', 0.130859375), ('https://fampay.in/blog/content/images/2020/06/doorstep.gif', 0.130859375), ('/blog/assets/images/success.png?v=22080dfa02', 0.0), ('https://cdn.jsdelivr.net/ghost/portal@~2.30/umd/portal.min.js', 170.8154296875), ('https://cdn.jsdelivr.net/ghost/sodo-search@~1.1/umd/sodo-search.min.js', 95.5751953125), ('/blog/public/cards.min.js?v=22080dfa02', 0.0), ('/blog/public/member-attribution.min.js?v=22080dfa02', 0.0), ('https://www.googletagmanager.com/gtag/js?id=UA-147725948-3', 0.0), ('https://polyfill.io/v3/polyfill.min.js?features=IntersectionObserver%2CPromise%2CArray.prototype.includes%2CString.prototype.endsWith%2CString.prototype.startsWith%2CObject.assign%2CNodeList.prototype.forEach', 14.1123046875), ('/blog/assets/js/vendor/content-api.min.js?v=22080dfa02', 0.0), ('/blog/assets/js/manifest.js?v=22080dfa02', 0.0), ('/blog/assets/js/vendor.js?v=22080dfa02', 0.0), ('/blog/assets/js/app.js?v=22080dfa02', 0.0), ('/blog/assets/js/post.js?v=22080dfa02', 0.0), ('/blog/assets/css/app.css?v=22080dfa02', 0.0), ('/blog/public/cards.min.css?v=22080dfa02', 0.0)]\n",
      "Analyzing 469 of 523: https://wa.me/?text=FamCard%20-%20your%20first%20prepaid%20card!%20%F0%9F%92%B3%F0%9F%A4%A9%F0%9F%A5%B3%20https://fampay.in/blog/famcard-your-first-prepaid-card/\n",
      "Page size: 165.3505859375 KB\n",
      "Resource sizes: [('https://static.whatsapp.net/rsrc.php/v3/yq/r/mdQNdcFMi0p.png', 28.833984375), ('https://static.whatsapp.net/rsrc.php/v3/y7/r/DSxOAUB0raA.png', 28.7744140625), ('https://static.whatsapp.net/rsrc.php/v3/yJ/r/Qhrnh5evyPV.png', 1.193359375), ('https://static.whatsapp.net/rsrc.php/v3/yJ/r/Qhrnh5evyPV.png', 1.193359375), ('https://static.whatsapp.net/rsrc.php/v3/y6/r/TcHIu29ealS.js?_nc_x=Ij3Wp8lg5Kz', 104.8037109375), ('https://static.whatsapp.net/rsrc.php/v3/yO/l/0,cross/zkmfh5mjXuB.css?_nc_x=Ij3Wp8lg5Kz', 1.318359375), ('https://static.whatsapp.net/rsrc.php/v3/yi/l/0,cross/TngFvC3f-F7.css?_nc_x=Ij3Wp8lg5Kz', 14.91796875), ('https://static.whatsapp.net/rsrc.php/v3/yX/l/0,cross/90x4oEKKKqw.css?_nc_x=Ij3Wp8lg5Kz', 9.01953125)]\n",
      "Analyzing 470 of 523: https://www.facebook.com/sharer/sharer.php?u=https://fampay.in/blog/famcard-your-first-prepaid-card/\n",
      "Page size: 16.9453125 KB\n",
      "Resource sizes: [('https://static.xx.fbcdn.net/rsrc.php/v3/y8/r/k97pj8-or6s.png', 0.7900390625), ('https://facebook.com/security/hsts-pixel.gif?c=3.2', 0.0)]\n",
      "Analyzing 471 of 523: https://twitter.com/intent/tweet?text=FamCard%20-%20your%20first%20prepaid%20card!%20%F0%9F%92%B3%F0%9F%A4%A9%F0%9F%A5%B3&url=https://fampay.in/blog/famcard-your-first-prepaid-card/\n",
      "Page size: 167.810546875 KB\n",
      "Resource sizes: [('https://abs.twimg.com/errors/logo46x38.png', 0.9912109375), ('https://abs.twimg.com/responsive-web/client-web-legacy/shared~bundle.Compose~bundle.RichTextCompose.a2fa6b8a.js', 52.9111328125), ('https://abs.twimg.com/responsive-web/client-web-legacy/polyfills.d5242a4a.js', 17.72265625), ('https://abs.twimg.com/responsive-web/client-web-legacy/vendor.3cb7d15a.js', 218.7216796875), ('https://abs.twimg.com/responsive-web/client-web-legacy/i18n/en.213585ba.js', 114.365234375), ('https://abs.twimg.com/responsive-web/client-web-legacy/main.79ac570a.js', 408.1171875)]\n",
      "Analyzing 472 of 523: https://famapp.in/blog/savings-for-teens-its-never-too-early-to-start/\n",
      "Page size: 54.9326171875 KB\n",
      "Resource sizes: [('https://fampay.in/blog/content/images/2020/11/logofilewhite-11-2.png', 0.130859375), ('https://fampay.in/blog/content/images/2020/11/logofilewhite-11-2.png', 0.130859375), ('https://fampay.in/blog/content/images/2020/06/image.png', 0.130859375), ('https://fampay.in/blog/content/images/2020/06/Animated-GIF-downsized.gif', 0.130859375), ('/blog/assets/images/success.png?v=22080dfa02', 0.0), ('https://cdn.jsdelivr.net/ghost/portal@~2.30/umd/portal.min.js', 170.8154296875), ('https://cdn.jsdelivr.net/ghost/sodo-search@~1.1/umd/sodo-search.min.js', 95.5751953125), ('/blog/public/cards.min.js?v=22080dfa02', 0.0), ('/blog/public/member-attribution.min.js?v=22080dfa02', 0.0), ('https://www.googletagmanager.com/gtag/js?id=UA-147725948-3', 0.0), ('//www.instagram.com/embed.js', 0.0), ('//www.instagram.com/embed.js', 0.0), ('https://polyfill.io/v3/polyfill.min.js?features=IntersectionObserver%2CPromise%2CArray.prototype.includes%2CString.prototype.endsWith%2CString.prototype.startsWith%2CObject.assign%2CNodeList.prototype.forEach', 14.1123046875), ('/blog/assets/js/vendor/content-api.min.js?v=22080dfa02', 0.0), ('/blog/assets/js/manifest.js?v=22080dfa02', 0.0), ('/blog/assets/js/vendor.js?v=22080dfa02', 0.0), ('/blog/assets/js/app.js?v=22080dfa02', 0.0), ('/blog/assets/js/post.js?v=22080dfa02', 0.0), ('/blog/assets/css/app.css?v=22080dfa02', 0.0), ('/blog/public/cards.min.css?v=22080dfa02', 0.0)]\n",
      "Analyzing 473 of 523: https://wa.me/?text=Savings%20for%20teens%20%F0%9F%92%B0%F0%9F%98%8E-%20Its%20never%20too%20early%20to%20start!%20https://fampay.in/blog/savings-for-teens-its-never-too-early-to-start/\n",
      "Page size: 165.4384765625 KB\n",
      "Resource sizes: [('https://static.whatsapp.net/rsrc.php/v3/yq/r/mdQNdcFMi0p.png', 28.833984375), ('https://static.whatsapp.net/rsrc.php/v3/y7/r/DSxOAUB0raA.png', 28.7744140625), ('https://static.whatsapp.net/rsrc.php/v3/yJ/r/Qhrnh5evyPV.png', 1.193359375), ('https://static.whatsapp.net/rsrc.php/v3/yJ/r/Qhrnh5evyPV.png', 1.193359375), ('https://static.whatsapp.net/rsrc.php/v3/y6/r/TcHIu29ealS.js?_nc_x=Ij3Wp8lg5Kz', 104.8037109375), ('https://static.whatsapp.net/rsrc.php/v3/yO/l/0,cross/zkmfh5mjXuB.css?_nc_x=Ij3Wp8lg5Kz', 1.318359375), ('https://static.whatsapp.net/rsrc.php/v3/yi/l/0,cross/TngFvC3f-F7.css?_nc_x=Ij3Wp8lg5Kz', 14.91796875), ('https://static.whatsapp.net/rsrc.php/v3/yX/l/0,cross/90x4oEKKKqw.css?_nc_x=Ij3Wp8lg5Kz', 9.01953125)]\n",
      "Analyzing 474 of 523: https://www.facebook.com/sharer/sharer.php?u=https://fampay.in/blog/savings-for-teens-its-never-too-early-to-start/\n",
      "Page size: 17.052734375 KB\n",
      "Resource sizes: [('https://static.xx.fbcdn.net/rsrc.php/v3/y8/r/k97pj8-or6s.png', 0.7900390625), ('https://facebook.com/security/hsts-pixel.gif?c=3.2', 0.0)]\n",
      "Analyzing 475 of 523: https://twitter.com/intent/tweet?text=Savings%20for%20teens%20%F0%9F%92%B0%F0%9F%98%8E-%20Its%20never%20too%20early%20to%20start!&url=https://fampay.in/blog/savings-for-teens-its-never-too-early-to-start/\n",
      "Page size: 167.810546875 KB\n",
      "Resource sizes: [('https://abs.twimg.com/errors/logo46x38.png', 0.9912109375), ('https://abs.twimg.com/responsive-web/client-web-legacy/shared~bundle.Compose~bundle.RichTextCompose.a2fa6b8a.js', 52.9111328125), ('https://abs.twimg.com/responsive-web/client-web-legacy/polyfills.d5242a4a.js', 17.72265625), ('https://abs.twimg.com/responsive-web/client-web-legacy/vendor.3cb7d15a.js', 218.7216796875), ('https://abs.twimg.com/responsive-web/client-web-legacy/i18n/en.213585ba.js', 114.365234375), ('https://abs.twimg.com/responsive-web/client-web-legacy/main.79ac570a.js', 408.1171875)]\n",
      "Analyzing 476 of 523: https://famapp.in/blog/fampay-the-solution-to-your-cash-problems/\n",
      "Page size: 76.845703125 KB\n",
      "Resource sizes: [('https://fampay.in/blog/content/images/2020/11/logofilewhite-11-2.png', 0.130859375), ('https://fampay.in/blog/content/images/2020/11/logofilewhite-11-2.png', 0.130859375), ('https://fampay.in/blog/content/images/2020/09/image-6.png', 0.130859375), ('https://fampay.in/blog/content/images/2020/06/image-14.png', 0.130859375), ('/blog/assets/images/success.png?v=22080dfa02', 0.0), ('https://cdn.jsdelivr.net/ghost/portal@~2.30/umd/portal.min.js', 170.8154296875), ('https://cdn.jsdelivr.net/ghost/sodo-search@~1.1/umd/sodo-search.min.js', 95.5751953125), ('/blog/public/cards.min.js?v=22080dfa02', 0.0), ('/blog/public/member-attribution.min.js?v=22080dfa02', 0.0), ('https://www.googletagmanager.com/gtag/js?id=UA-147725948-3', 0.0), ('//www.instagram.com/embed.js', 0.0), ('//www.instagram.com/embed.js', 0.0), ('//www.instagram.com/embed.js', 0.0), ('//www.instagram.com/embed.js', 0.0), ('//www.instagram.com/embed.js', 0.0), ('https://polyfill.io/v3/polyfill.min.js?features=IntersectionObserver%2CPromise%2CArray.prototype.includes%2CString.prototype.endsWith%2CString.prototype.startsWith%2CObject.assign%2CNodeList.prototype.forEach', 14.1123046875), ('/blog/assets/js/vendor/content-api.min.js?v=22080dfa02', 0.0), ('/blog/assets/js/manifest.js?v=22080dfa02', 0.0), ('/blog/assets/js/vendor.js?v=22080dfa02', 0.0), ('/blog/assets/js/app.js?v=22080dfa02', 0.0), ('/blog/assets/js/post.js?v=22080dfa02', 0.0), ('/blog/assets/css/app.css?v=22080dfa02', 0.0), ('/blog/public/cards.min.css?v=22080dfa02', 0.0)]\n",
      "Analyzing 477 of 523: https://wa.me/?text=FamPay-%20the%20solution%20to%20your%20cash%20problems!%20%F0%9F%98%8E%20https://fampay.in/blog/fampay-the-solution-to-your-cash-problems/\n",
      "Page size: 165.3369140625 KB\n",
      "Resource sizes: [('https://static.whatsapp.net/rsrc.php/v3/yq/r/mdQNdcFMi0p.png', 28.833984375), ('https://static.whatsapp.net/rsrc.php/v3/y7/r/DSxOAUB0raA.png', 28.7744140625), ('https://static.whatsapp.net/rsrc.php/v3/yJ/r/Qhrnh5evyPV.png', 1.193359375), ('https://static.whatsapp.net/rsrc.php/v3/yJ/r/Qhrnh5evyPV.png', 1.193359375), ('https://static.whatsapp.net/rsrc.php/v3/y6/r/TcHIu29ealS.js?_nc_x=Ij3Wp8lg5Kz', 104.8037109375), ('https://static.whatsapp.net/rsrc.php/v3/yO/l/0,cross/zkmfh5mjXuB.css?_nc_x=Ij3Wp8lg5Kz', 1.318359375), ('https://static.whatsapp.net/rsrc.php/v3/yi/l/0,cross/TngFvC3f-F7.css?_nc_x=Ij3Wp8lg5Kz', 14.91796875), ('https://static.whatsapp.net/rsrc.php/v3/yX/l/0,cross/90x4oEKKKqw.css?_nc_x=Ij3Wp8lg5Kz', 9.01953125)]\n",
      "Analyzing 478 of 523: https://www.facebook.com/sharer/sharer.php?u=https://fampay.in/blog/fampay-the-solution-to-your-cash-problems/\n",
      "Page size: 17.013671875 KB\n",
      "Resource sizes: [('https://static.xx.fbcdn.net/rsrc.php/v3/y8/r/k97pj8-or6s.png', 0.7900390625), ('https://facebook.com/security/hsts-pixel.gif?c=3.2', 0.0)]\n",
      "Analyzing 479 of 523: https://twitter.com/intent/tweet?text=FamPay-%20the%20solution%20to%20your%20cash%20problems!%20%F0%9F%98%8E&url=https://fampay.in/blog/fampay-the-solution-to-your-cash-problems/\n",
      "Page size: 167.86328125 KB\n",
      "Resource sizes: [('https://abs.twimg.com/errors/logo46x38.png', 0.9912109375), ('https://abs.twimg.com/responsive-web/client-web-legacy/shared~bundle.Compose~bundle.RichTextCompose.a2fa6b8a.js', 52.9111328125), ('https://abs.twimg.com/responsive-web/client-web-legacy/polyfills.d5242a4a.js', 17.72265625), ('https://abs.twimg.com/responsive-web/client-web-legacy/vendor.3cb7d15a.js', 218.7216796875), ('https://abs.twimg.com/responsive-web/client-web-legacy/i18n/en.213585ba.js', 114.365234375), ('https://abs.twimg.com/responsive-web/client-web-legacy/main.79ac570a.js', 408.1171875)]\n",
      "Analyzing 480 of 523: https://famapp.in/blog/tag/tech/\n",
      "Page size: 32.951171875 KB\n",
      "Resource sizes: [('https://fampay.in/blog/content/images/2020/11/logofilewhite-11-2.png', 0.130859375), ('https://fampay.in/blog/content/images/2020/11/logofilewhite-11-2.png', 0.130859375), ('https://cdn.jsdelivr.net/ghost/portal@~2.30/umd/portal.min.js', 170.8154296875), ('https://cdn.jsdelivr.net/ghost/sodo-search@~1.1/umd/sodo-search.min.js', 95.5751953125), ('/blog/public/cards.min.js?v=22080dfa02', 0.0), ('/blog/public/member-attribution.min.js?v=22080dfa02', 0.0), ('https://www.googletagmanager.com/gtag/js?id=UA-147725948-3', 0.0), ('https://polyfill.io/v3/polyfill.min.js?features=IntersectionObserver%2CPromise%2CArray.prototype.includes%2CString.prototype.endsWith%2CString.prototype.startsWith%2CObject.assign%2CNodeList.prototype.forEach', 14.1123046875), ('/blog/assets/js/vendor/content-api.min.js?v=22080dfa02', 0.0), ('/blog/assets/js/manifest.js?v=22080dfa02', 0.0), ('/blog/assets/js/vendor.js?v=22080dfa02', 0.0), ('/blog/assets/js/app.js?v=22080dfa02', 0.0), ('/blog/assets/css/app.css?v=22080dfa02', 0.0), ('/blog/public/cards.min.css?v=22080dfa02', 0.0)]\n",
      "Analyzing 481 of 523: https://famapp.in/blog/how-a-pressing-problem-can-lead-to-technological-innovation/\n",
      "Page size: 41.3701171875 KB\n",
      "Resource sizes: [('https://fampay.in/blog/content/images/2020/11/logofilewhite-11-2.png', 0.130859375), ('https://fampay.in/blog/content/images/2020/11/logofilewhite-11-2.png', 0.130859375), ('https://fampay.in/blog/content/images/2020/06/1_ErIBvOwUHQWIviTxFnYp_w.jpeg', 0.130859375), ('https://fampay.in/blog/content/images/2020/06/1_L6K_Os6IGgSDZMdHTbU2rg.jpeg', 0.130859375), ('https://fampay.in/blog/content/images/2020/06/1_BoNiE-EUrq_YK44Fz-5NJQ.jpeg', 0.130859375), ('https://fampay.in/blog/content/images/2020/06/1_JN-Q_97duhlmTatayXTiXQ.jpeg', 0.130859375), ('/blog/assets/images/success.png?v=22080dfa02', 0.0), ('https://cdn.jsdelivr.net/ghost/portal@~2.30/umd/portal.min.js', 170.8154296875), ('https://cdn.jsdelivr.net/ghost/sodo-search@~1.1/umd/sodo-search.min.js', 95.5751953125), ('/blog/public/cards.min.js?v=22080dfa02', 0.0), ('/blog/public/member-attribution.min.js?v=22080dfa02', 0.0), ('https://www.googletagmanager.com/gtag/js?id=UA-147725948-3', 0.0), ('https://polyfill.io/v3/polyfill.min.js?features=IntersectionObserver%2CPromise%2CArray.prototype.includes%2CString.prototype.endsWith%2CString.prototype.startsWith%2CObject.assign%2CNodeList.prototype.forEach', 14.1123046875), ('/blog/assets/js/vendor/content-api.min.js?v=22080dfa02', 0.0), ('/blog/assets/js/manifest.js?v=22080dfa02', 0.0), ('/blog/assets/js/vendor.js?v=22080dfa02', 0.0), ('/blog/assets/js/app.js?v=22080dfa02', 0.0), ('/blog/assets/js/post.js?v=22080dfa02', 0.0), ('/blog/assets/css/app.css?v=22080dfa02', 0.0), ('/blog/public/cards.min.css?v=22080dfa02', 0.0)]\n",
      "Analyzing 482 of 523: https://wa.me/?text=How%20a%20Pressing%20Problem%20can%20lead%20to%20Technological%20Innovation%20https://fampay.in/blog/how-a-pressing-problem-can-lead-to-technological-innovation/\n",
      "Page size: 165.4365234375 KB\n",
      "Resource sizes: [('https://static.whatsapp.net/rsrc.php/v3/yq/r/mdQNdcFMi0p.png', 28.833984375), ('https://static.whatsapp.net/rsrc.php/v3/y7/r/DSxOAUB0raA.png', 28.7744140625), ('https://static.whatsapp.net/rsrc.php/v3/yJ/r/Qhrnh5evyPV.png', 1.193359375), ('https://static.whatsapp.net/rsrc.php/v3/yJ/r/Qhrnh5evyPV.png', 1.193359375), ('https://static.whatsapp.net/rsrc.php/v3/y6/r/TcHIu29ealS.js?_nc_x=Ij3Wp8lg5Kz', 104.8037109375), ('https://static.whatsapp.net/rsrc.php/v3/yO/l/0,cross/zkmfh5mjXuB.css?_nc_x=Ij3Wp8lg5Kz', 1.318359375), ('https://static.whatsapp.net/rsrc.php/v3/yi/l/0,cross/TngFvC3f-F7.css?_nc_x=Ij3Wp8lg5Kz', 14.91796875), ('https://static.whatsapp.net/rsrc.php/v3/yX/l/0,cross/90x4oEKKKqw.css?_nc_x=Ij3Wp8lg5Kz', 9.01953125)]\n",
      "Analyzing 483 of 523: https://www.facebook.com/sharer/sharer.php?u=https://fampay.in/blog/how-a-pressing-problem-can-lead-to-technological-innovation/\n",
      "Page size: 17.13671875 KB\n",
      "Resource sizes: [('https://static.xx.fbcdn.net/rsrc.php/v3/y8/r/k97pj8-or6s.png', 0.7900390625), ('https://facebook.com/security/hsts-pixel.gif?c=3.2', 0.0)]\n",
      "Analyzing 484 of 523: https://twitter.com/intent/tweet?text=How%20a%20Pressing%20Problem%20can%20lead%20to%20Technological%20Innovation&url=https://fampay.in/blog/how-a-pressing-problem-can-lead-to-technological-innovation/\n",
      "Page size: 167.810546875 KB\n",
      "Resource sizes: [('https://abs.twimg.com/errors/logo46x38.png', 0.9912109375), ('https://abs.twimg.com/responsive-web/client-web-legacy/shared~bundle.Compose~bundle.RichTextCompose.a2fa6b8a.js', 52.9111328125), ('https://abs.twimg.com/responsive-web/client-web-legacy/polyfills.d5242a4a.js', 17.72265625), ('https://abs.twimg.com/responsive-web/client-web-legacy/vendor.3cb7d15a.js', 218.7216796875), ('https://abs.twimg.com/responsive-web/client-web-legacy/i18n/en.213585ba.js', 114.365234375), ('https://abs.twimg.com/responsive-web/client-web-legacy/main.79ac570a.js', 408.1171875)]\n",
      "Analyzing 485 of 523: http://friends.fampay.in/\n",
      "Page size: 16.703125 KB\n",
      "Resource sizes: [('/assets/images/icons/common/partyCapIcon.svg', 0.0), ('/assets/images/icons/common/partyFaceIcon.svg', 0.0), ('/assets/images/icons/common/singleGreyArrowIcon.svg', 0.0), ('/assets/images/icons/common/headerWhiteLogoIcon.svg', 0.0), ('/assets/images/images/pages/club/clubImage.jpg', 0.0), ('/assets/images/images/pages/club/teensImage.jpg', 0.0), ('/assets/images/images/pages/club/famjamImage.jpg', 0.0), ('/assets/images/images/pages/club/rewardsImage.png', 0.0), ('/assets/images/images/pages/club/discordImage.jpg', 0.0), ('/assets/images/icons/common/headerGreyLogoIcon.svg', 0.0), ('/assets/images/icons/common/facebookGreyIcon.svg', 0.0), ('/assets/images/icons/common/mediumGreyIcon.svg', 0.0), ('/assets/images/icons/common/instagramGreyIcon.svg', 0.0), ('/assets/images/icons/common/linkedinGreyIcon.svg', 0.0), ('/assets/images/icons/common/twitterGreyIcon.svg', 0.0), ('/assets/images/icons/common/discordGreyIcon.svg', 0.0), ('/assets/images/icons/common/snapchatGreyIcon.svg', 0.0), ('/assets/images/icons/common/youtubeGreyIcon.svg', 0.0), ('/_next/static/chunks/polyfills-5cd94c89d3acac5f.js', 0.0), ('/_next/static/chunks/webpack-e2315b53e504a6de.js', 0.0), ('/_next/static/chunks/framework-79bce4a3a540b080.js', 0.0), ('/_next/static/chunks/main-02d79fe8c2a509ed.js', 0.0), ('/_next/static/chunks/pages/_app-5aa48e6daaf3fe0d.js', 0.0), ('/_next/static/chunks/2905-8aaa955321746aca.js', 0.0), ('/_next/static/chunks/7454-c90862ff3e03df1e.js', 0.0), ('/_next/static/chunks/4590-75312c952da4fb21.js', 0.0), ('/_next/static/chunks/pages/friends-1c385a001c72f8d5.js', 0.0), ('/_next/static/OnBp0dXLpVOYqcPmAsImr/_buildManifest.js', 0.0), ('/_next/static/OnBp0dXLpVOYqcPmAsImr/_ssgManifest.js', 0.0), ('/_next/static/OnBp0dXLpVOYqcPmAsImr/_middlewareManifest.js', 0.0), ('/_next/static/css/6238d6cccf041c98.css', 0.0), ('/_next/static/css/bd2fda382cbb2877.css', 0.0)]\n",
      "Analyzing 486 of 523: http://friends.fampay.in/about\n",
      "Page size: 16.703125 KB\n",
      "Resource sizes: [('/assets/images/icons/common/partyCapIcon.svg', 0.0), ('/assets/images/icons/common/partyFaceIcon.svg', 0.0), ('/assets/images/icons/common/singleGreyArrowIcon.svg', 0.0), ('/assets/images/icons/common/headerWhiteLogoIcon.svg', 0.0), ('/assets/images/images/pages/club/clubImage.jpg', 0.0), ('/assets/images/images/pages/club/teensImage.jpg', 0.0), ('/assets/images/images/pages/club/famjamImage.jpg', 0.0), ('/assets/images/images/pages/club/rewardsImage.png', 0.0), ('/assets/images/images/pages/club/discordImage.jpg', 0.0), ('/assets/images/icons/common/headerGreyLogoIcon.svg', 0.0), ('/assets/images/icons/common/facebookGreyIcon.svg', 0.0), ('/assets/images/icons/common/mediumGreyIcon.svg', 0.0), ('/assets/images/icons/common/instagramGreyIcon.svg', 0.0), ('/assets/images/icons/common/linkedinGreyIcon.svg', 0.0), ('/assets/images/icons/common/twitterGreyIcon.svg', 0.0), ('/assets/images/icons/common/discordGreyIcon.svg', 0.0), ('/assets/images/icons/common/snapchatGreyIcon.svg', 0.0), ('/assets/images/icons/common/youtubeGreyIcon.svg', 0.0), ('/_next/static/chunks/polyfills-5cd94c89d3acac5f.js', 0.0), ('/_next/static/chunks/webpack-e2315b53e504a6de.js', 0.0), ('/_next/static/chunks/framework-79bce4a3a540b080.js', 0.0), ('/_next/static/chunks/main-02d79fe8c2a509ed.js', 0.0), ('/_next/static/chunks/pages/_app-5aa48e6daaf3fe0d.js', 0.0), ('/_next/static/chunks/2905-8aaa955321746aca.js', 0.0), ('/_next/static/chunks/7454-c90862ff3e03df1e.js', 0.0), ('/_next/static/chunks/4590-75312c952da4fb21.js', 0.0), ('/_next/static/chunks/pages/friends-1c385a001c72f8d5.js', 0.0), ('/_next/static/OnBp0dXLpVOYqcPmAsImr/_buildManifest.js', 0.0), ('/_next/static/OnBp0dXLpVOYqcPmAsImr/_ssgManifest.js', 0.0), ('/_next/static/OnBp0dXLpVOYqcPmAsImr/_middlewareManifest.js', 0.0), ('/_next/static/css/6238d6cccf041c98.css', 0.0), ('/_next/static/css/bd2fda382cbb2877.css', 0.0)]\n",
      "Analyzing 487 of 523: http://friends.fampay.in/blog\n",
      "Page size: 16.703125 KB\n",
      "Resource sizes: [('/assets/images/icons/common/partyCapIcon.svg', 0.0), ('/assets/images/icons/common/partyFaceIcon.svg', 0.0), ('/assets/images/icons/common/singleGreyArrowIcon.svg', 0.0), ('/assets/images/icons/common/headerWhiteLogoIcon.svg', 0.0), ('/assets/images/images/pages/club/clubImage.jpg', 0.0), ('/assets/images/images/pages/club/teensImage.jpg', 0.0), ('/assets/images/images/pages/club/famjamImage.jpg', 0.0), ('/assets/images/images/pages/club/rewardsImage.png', 0.0), ('/assets/images/images/pages/club/discordImage.jpg', 0.0), ('/assets/images/icons/common/headerGreyLogoIcon.svg', 0.0), ('/assets/images/icons/common/facebookGreyIcon.svg', 0.0), ('/assets/images/icons/common/mediumGreyIcon.svg', 0.0), ('/assets/images/icons/common/instagramGreyIcon.svg', 0.0), ('/assets/images/icons/common/linkedinGreyIcon.svg', 0.0), ('/assets/images/icons/common/twitterGreyIcon.svg', 0.0), ('/assets/images/icons/common/discordGreyIcon.svg', 0.0), ('/assets/images/icons/common/snapchatGreyIcon.svg', 0.0), ('/assets/images/icons/common/youtubeGreyIcon.svg', 0.0), ('/_next/static/chunks/polyfills-5cd94c89d3acac5f.js', 0.0), ('/_next/static/chunks/webpack-e2315b53e504a6de.js', 0.0), ('/_next/static/chunks/framework-79bce4a3a540b080.js', 0.0), ('/_next/static/chunks/main-02d79fe8c2a509ed.js', 0.0), ('/_next/static/chunks/pages/_app-5aa48e6daaf3fe0d.js', 0.0), ('/_next/static/chunks/2905-8aaa955321746aca.js', 0.0), ('/_next/static/chunks/7454-c90862ff3e03df1e.js', 0.0), ('/_next/static/chunks/4590-75312c952da4fb21.js', 0.0), ('/_next/static/chunks/pages/friends-1c385a001c72f8d5.js', 0.0), ('/_next/static/OnBp0dXLpVOYqcPmAsImr/_buildManifest.js', 0.0), ('/_next/static/OnBp0dXLpVOYqcPmAsImr/_ssgManifest.js', 0.0), ('/_next/static/OnBp0dXLpVOYqcPmAsImr/_middlewareManifest.js', 0.0), ('/_next/static/css/6238d6cccf041c98.css', 0.0), ('/_next/static/css/bd2fda382cbb2877.css', 0.0)]\n",
      "Analyzing 488 of 523: http://friends.fampay.in/careers\n",
      "Page size: 16.703125 KB\n",
      "Resource sizes: [('/assets/images/icons/common/partyCapIcon.svg', 0.0), ('/assets/images/icons/common/partyFaceIcon.svg', 0.0), ('/assets/images/icons/common/singleGreyArrowIcon.svg', 0.0), ('/assets/images/icons/common/headerWhiteLogoIcon.svg', 0.0), ('/assets/images/images/pages/club/clubImage.jpg', 0.0), ('/assets/images/images/pages/club/teensImage.jpg', 0.0), ('/assets/images/images/pages/club/famjamImage.jpg', 0.0), ('/assets/images/images/pages/club/rewardsImage.png', 0.0), ('/assets/images/images/pages/club/discordImage.jpg', 0.0), ('/assets/images/icons/common/headerGreyLogoIcon.svg', 0.0), ('/assets/images/icons/common/facebookGreyIcon.svg', 0.0), ('/assets/images/icons/common/mediumGreyIcon.svg', 0.0), ('/assets/images/icons/common/instagramGreyIcon.svg', 0.0), ('/assets/images/icons/common/linkedinGreyIcon.svg', 0.0), ('/assets/images/icons/common/twitterGreyIcon.svg', 0.0), ('/assets/images/icons/common/discordGreyIcon.svg', 0.0), ('/assets/images/icons/common/snapchatGreyIcon.svg', 0.0), ('/assets/images/icons/common/youtubeGreyIcon.svg', 0.0), ('/_next/static/chunks/polyfills-5cd94c89d3acac5f.js', 0.0), ('/_next/static/chunks/webpack-e2315b53e504a6de.js', 0.0), ('/_next/static/chunks/framework-79bce4a3a540b080.js', 0.0), ('/_next/static/chunks/main-02d79fe8c2a509ed.js', 0.0), ('/_next/static/chunks/pages/_app-5aa48e6daaf3fe0d.js', 0.0), ('/_next/static/chunks/2905-8aaa955321746aca.js', 0.0), ('/_next/static/chunks/7454-c90862ff3e03df1e.js', 0.0), ('/_next/static/chunks/4590-75312c952da4fb21.js', 0.0), ('/_next/static/chunks/pages/friends-1c385a001c72f8d5.js', 0.0), ('/_next/static/OnBp0dXLpVOYqcPmAsImr/_buildManifest.js', 0.0), ('/_next/static/OnBp0dXLpVOYqcPmAsImr/_ssgManifest.js', 0.0), ('/_next/static/OnBp0dXLpVOYqcPmAsImr/_middlewareManifest.js', 0.0), ('/_next/static/css/6238d6cccf041c98.css', 0.0), ('/_next/static/css/bd2fda382cbb2877.css', 0.0)]\n",
      "Analyzing 489 of 523: http://friends.fampay.in/partner\n",
      "Page size: 16.703125 KB\n",
      "Resource sizes: [('/assets/images/icons/common/partyCapIcon.svg', 0.0), ('/assets/images/icons/common/partyFaceIcon.svg', 0.0), ('/assets/images/icons/common/singleGreyArrowIcon.svg', 0.0), ('/assets/images/icons/common/headerWhiteLogoIcon.svg', 0.0), ('/assets/images/images/pages/club/clubImage.jpg', 0.0), ('/assets/images/images/pages/club/teensImage.jpg', 0.0), ('/assets/images/images/pages/club/famjamImage.jpg', 0.0), ('/assets/images/images/pages/club/rewardsImage.png', 0.0), ('/assets/images/images/pages/club/discordImage.jpg', 0.0), ('/assets/images/icons/common/headerGreyLogoIcon.svg', 0.0), ('/assets/images/icons/common/facebookGreyIcon.svg', 0.0), ('/assets/images/icons/common/mediumGreyIcon.svg', 0.0), ('/assets/images/icons/common/instagramGreyIcon.svg', 0.0), ('/assets/images/icons/common/linkedinGreyIcon.svg', 0.0), ('/assets/images/icons/common/twitterGreyIcon.svg', 0.0), ('/assets/images/icons/common/discordGreyIcon.svg', 0.0), ('/assets/images/icons/common/snapchatGreyIcon.svg', 0.0), ('/assets/images/icons/common/youtubeGreyIcon.svg', 0.0), ('/_next/static/chunks/polyfills-5cd94c89d3acac5f.js', 0.0), ('/_next/static/chunks/webpack-e2315b53e504a6de.js', 0.0), ('/_next/static/chunks/framework-79bce4a3a540b080.js', 0.0), ('/_next/static/chunks/main-02d79fe8c2a509ed.js', 0.0), ('/_next/static/chunks/pages/_app-5aa48e6daaf3fe0d.js', 0.0), ('/_next/static/chunks/2905-8aaa955321746aca.js', 0.0), ('/_next/static/chunks/7454-c90862ff3e03df1e.js', 0.0), ('/_next/static/chunks/4590-75312c952da4fb21.js', 0.0), ('/_next/static/chunks/pages/friends-1c385a001c72f8d5.js', 0.0), ('/_next/static/OnBp0dXLpVOYqcPmAsImr/_buildManifest.js', 0.0), ('/_next/static/OnBp0dXLpVOYqcPmAsImr/_ssgManifest.js', 0.0), ('/_next/static/OnBp0dXLpVOYqcPmAsImr/_middlewareManifest.js', 0.0), ('/_next/static/css/6238d6cccf041c98.css', 0.0), ('/_next/static/css/bd2fda382cbb2877.css', 0.0)]\n",
      "Analyzing 490 of 523: http://friends.fampay.in/faqs\n",
      "Page size: 16.703125 KB\n",
      "Resource sizes: [('/assets/images/icons/common/partyCapIcon.svg', 0.0), ('/assets/images/icons/common/partyFaceIcon.svg', 0.0), ('/assets/images/icons/common/singleGreyArrowIcon.svg', 0.0), ('/assets/images/icons/common/headerWhiteLogoIcon.svg', 0.0), ('/assets/images/images/pages/club/clubImage.jpg', 0.0), ('/assets/images/images/pages/club/teensImage.jpg', 0.0), ('/assets/images/images/pages/club/famjamImage.jpg', 0.0), ('/assets/images/images/pages/club/rewardsImage.png', 0.0), ('/assets/images/images/pages/club/discordImage.jpg', 0.0), ('/assets/images/icons/common/headerGreyLogoIcon.svg', 0.0), ('/assets/images/icons/common/facebookGreyIcon.svg', 0.0), ('/assets/images/icons/common/mediumGreyIcon.svg', 0.0), ('/assets/images/icons/common/instagramGreyIcon.svg', 0.0), ('/assets/images/icons/common/linkedinGreyIcon.svg', 0.0), ('/assets/images/icons/common/twitterGreyIcon.svg', 0.0), ('/assets/images/icons/common/discordGreyIcon.svg', 0.0), ('/assets/images/icons/common/snapchatGreyIcon.svg', 0.0), ('/assets/images/icons/common/youtubeGreyIcon.svg', 0.0), ('/_next/static/chunks/polyfills-5cd94c89d3acac5f.js', 0.0), ('/_next/static/chunks/webpack-e2315b53e504a6de.js', 0.0), ('/_next/static/chunks/framework-79bce4a3a540b080.js', 0.0), ('/_next/static/chunks/main-02d79fe8c2a509ed.js', 0.0), ('/_next/static/chunks/pages/_app-5aa48e6daaf3fe0d.js', 0.0), ('/_next/static/chunks/2905-8aaa955321746aca.js', 0.0), ('/_next/static/chunks/7454-c90862ff3e03df1e.js', 0.0), ('/_next/static/chunks/4590-75312c952da4fb21.js', 0.0), ('/_next/static/chunks/pages/friends-1c385a001c72f8d5.js', 0.0), ('/_next/static/OnBp0dXLpVOYqcPmAsImr/_buildManifest.js', 0.0), ('/_next/static/OnBp0dXLpVOYqcPmAsImr/_ssgManifest.js', 0.0), ('/_next/static/OnBp0dXLpVOYqcPmAsImr/_middlewareManifest.js', 0.0), ('/_next/static/css/6238d6cccf041c98.css', 0.0), ('/_next/static/css/bd2fda382cbb2877.css', 0.0)]\n",
      "Analyzing 491 of 523: http://friends.fampay.in/blog/\n",
      "Page size: 16.703125 KB\n",
      "Resource sizes: [('/assets/images/icons/common/partyCapIcon.svg', 0.0), ('/assets/images/icons/common/partyFaceIcon.svg', 0.0), ('/assets/images/icons/common/singleGreyArrowIcon.svg', 0.0), ('/assets/images/icons/common/headerWhiteLogoIcon.svg', 0.0), ('/assets/images/images/pages/club/clubImage.jpg', 0.0), ('/assets/images/images/pages/club/teensImage.jpg', 0.0), ('/assets/images/images/pages/club/famjamImage.jpg', 0.0), ('/assets/images/images/pages/club/rewardsImage.png', 0.0), ('/assets/images/images/pages/club/discordImage.jpg', 0.0), ('/assets/images/icons/common/headerGreyLogoIcon.svg', 0.0), ('/assets/images/icons/common/facebookGreyIcon.svg', 0.0), ('/assets/images/icons/common/mediumGreyIcon.svg', 0.0), ('/assets/images/icons/common/instagramGreyIcon.svg', 0.0), ('/assets/images/icons/common/linkedinGreyIcon.svg', 0.0), ('/assets/images/icons/common/twitterGreyIcon.svg', 0.0), ('/assets/images/icons/common/discordGreyIcon.svg', 0.0), ('/assets/images/icons/common/snapchatGreyIcon.svg', 0.0), ('/assets/images/icons/common/youtubeGreyIcon.svg', 0.0), ('/_next/static/chunks/polyfills-5cd94c89d3acac5f.js', 0.0), ('/_next/static/chunks/webpack-e2315b53e504a6de.js', 0.0), ('/_next/static/chunks/framework-79bce4a3a540b080.js', 0.0), ('/_next/static/chunks/main-02d79fe8c2a509ed.js', 0.0), ('/_next/static/chunks/pages/_app-5aa48e6daaf3fe0d.js', 0.0), ('/_next/static/chunks/2905-8aaa955321746aca.js', 0.0), ('/_next/static/chunks/7454-c90862ff3e03df1e.js', 0.0), ('/_next/static/chunks/4590-75312c952da4fb21.js', 0.0), ('/_next/static/chunks/pages/friends-1c385a001c72f8d5.js', 0.0), ('/_next/static/OnBp0dXLpVOYqcPmAsImr/_buildManifest.js', 0.0), ('/_next/static/OnBp0dXLpVOYqcPmAsImr/_ssgManifest.js', 0.0), ('/_next/static/OnBp0dXLpVOYqcPmAsImr/_middlewareManifest.js', 0.0), ('/_next/static/css/6238d6cccf041c98.css', 0.0), ('/_next/static/css/bd2fda382cbb2877.css', 0.0)]\n",
      "Analyzing 492 of 523: http://friends.fampay.in/press\n",
      "Page size: 16.703125 KB\n",
      "Resource sizes: [('/assets/images/icons/common/partyCapIcon.svg', 0.0), ('/assets/images/icons/common/partyFaceIcon.svg', 0.0), ('/assets/images/icons/common/singleGreyArrowIcon.svg', 0.0), ('/assets/images/icons/common/headerWhiteLogoIcon.svg', 0.0), ('/assets/images/images/pages/club/clubImage.jpg', 0.0), ('/assets/images/images/pages/club/teensImage.jpg', 0.0), ('/assets/images/images/pages/club/famjamImage.jpg', 0.0), ('/assets/images/images/pages/club/rewardsImage.png', 0.0), ('/assets/images/images/pages/club/discordImage.jpg', 0.0), ('/assets/images/icons/common/headerGreyLogoIcon.svg', 0.0), ('/assets/images/icons/common/facebookGreyIcon.svg', 0.0), ('/assets/images/icons/common/mediumGreyIcon.svg', 0.0), ('/assets/images/icons/common/instagramGreyIcon.svg', 0.0), ('/assets/images/icons/common/linkedinGreyIcon.svg', 0.0), ('/assets/images/icons/common/twitterGreyIcon.svg', 0.0), ('/assets/images/icons/common/discordGreyIcon.svg', 0.0), ('/assets/images/icons/common/snapchatGreyIcon.svg', 0.0), ('/assets/images/icons/common/youtubeGreyIcon.svg', 0.0), ('/_next/static/chunks/polyfills-5cd94c89d3acac5f.js', 0.0), ('/_next/static/chunks/webpack-e2315b53e504a6de.js', 0.0), ('/_next/static/chunks/framework-79bce4a3a540b080.js', 0.0), ('/_next/static/chunks/main-02d79fe8c2a509ed.js', 0.0), ('/_next/static/chunks/pages/_app-5aa48e6daaf3fe0d.js', 0.0), ('/_next/static/chunks/2905-8aaa955321746aca.js', 0.0), ('/_next/static/chunks/7454-c90862ff3e03df1e.js', 0.0), ('/_next/static/chunks/4590-75312c952da4fb21.js', 0.0), ('/_next/static/chunks/pages/friends-1c385a001c72f8d5.js', 0.0), ('/_next/static/OnBp0dXLpVOYqcPmAsImr/_buildManifest.js', 0.0), ('/_next/static/OnBp0dXLpVOYqcPmAsImr/_ssgManifest.js', 0.0), ('/_next/static/OnBp0dXLpVOYqcPmAsImr/_middlewareManifest.js', 0.0), ('/_next/static/css/6238d6cccf041c98.css', 0.0), ('/_next/static/css/bd2fda382cbb2877.css', 0.0)]\n",
      "Analyzing 493 of 523: http://friends.fampay.in/privacy\n",
      "Page size: 16.703125 KB\n",
      "Resource sizes: [('/assets/images/icons/common/partyCapIcon.svg', 0.0), ('/assets/images/icons/common/partyFaceIcon.svg', 0.0), ('/assets/images/icons/common/singleGreyArrowIcon.svg', 0.0), ('/assets/images/icons/common/headerWhiteLogoIcon.svg', 0.0), ('/assets/images/images/pages/club/clubImage.jpg', 0.0), ('/assets/images/images/pages/club/teensImage.jpg', 0.0), ('/assets/images/images/pages/club/famjamImage.jpg', 0.0), ('/assets/images/images/pages/club/rewardsImage.png', 0.0), ('/assets/images/images/pages/club/discordImage.jpg', 0.0), ('/assets/images/icons/common/headerGreyLogoIcon.svg', 0.0), ('/assets/images/icons/common/facebookGreyIcon.svg', 0.0), ('/assets/images/icons/common/mediumGreyIcon.svg', 0.0), ('/assets/images/icons/common/instagramGreyIcon.svg', 0.0), ('/assets/images/icons/common/linkedinGreyIcon.svg', 0.0), ('/assets/images/icons/common/twitterGreyIcon.svg', 0.0), ('/assets/images/icons/common/discordGreyIcon.svg', 0.0), ('/assets/images/icons/common/snapchatGreyIcon.svg', 0.0), ('/assets/images/icons/common/youtubeGreyIcon.svg', 0.0), ('/_next/static/chunks/polyfills-5cd94c89d3acac5f.js', 0.0), ('/_next/static/chunks/webpack-e2315b53e504a6de.js', 0.0), ('/_next/static/chunks/framework-79bce4a3a540b080.js', 0.0), ('/_next/static/chunks/main-02d79fe8c2a509ed.js', 0.0), ('/_next/static/chunks/pages/_app-5aa48e6daaf3fe0d.js', 0.0), ('/_next/static/chunks/2905-8aaa955321746aca.js', 0.0), ('/_next/static/chunks/7454-c90862ff3e03df1e.js', 0.0), ('/_next/static/chunks/4590-75312c952da4fb21.js', 0.0), ('/_next/static/chunks/pages/friends-1c385a001c72f8d5.js', 0.0), ('/_next/static/OnBp0dXLpVOYqcPmAsImr/_buildManifest.js', 0.0), ('/_next/static/OnBp0dXLpVOYqcPmAsImr/_ssgManifest.js', 0.0), ('/_next/static/OnBp0dXLpVOYqcPmAsImr/_middlewareManifest.js', 0.0), ('/_next/static/css/6238d6cccf041c98.css', 0.0), ('/_next/static/css/bd2fda382cbb2877.css', 0.0)]\n",
      "Analyzing 494 of 523: http://friends.fampay.in/terms\n",
      "Page size: 16.703125 KB\n",
      "Resource sizes: [('/assets/images/icons/common/partyCapIcon.svg', 0.0), ('/assets/images/icons/common/partyFaceIcon.svg', 0.0), ('/assets/images/icons/common/singleGreyArrowIcon.svg', 0.0), ('/assets/images/icons/common/headerWhiteLogoIcon.svg', 0.0), ('/assets/images/images/pages/club/clubImage.jpg', 0.0), ('/assets/images/images/pages/club/teensImage.jpg', 0.0), ('/assets/images/images/pages/club/famjamImage.jpg', 0.0), ('/assets/images/images/pages/club/rewardsImage.png', 0.0), ('/assets/images/images/pages/club/discordImage.jpg', 0.0), ('/assets/images/icons/common/headerGreyLogoIcon.svg', 0.0), ('/assets/images/icons/common/facebookGreyIcon.svg', 0.0), ('/assets/images/icons/common/mediumGreyIcon.svg', 0.0), ('/assets/images/icons/common/instagramGreyIcon.svg', 0.0), ('/assets/images/icons/common/linkedinGreyIcon.svg', 0.0), ('/assets/images/icons/common/twitterGreyIcon.svg', 0.0), ('/assets/images/icons/common/discordGreyIcon.svg', 0.0), ('/assets/images/icons/common/snapchatGreyIcon.svg', 0.0), ('/assets/images/icons/common/youtubeGreyIcon.svg', 0.0), ('/_next/static/chunks/polyfills-5cd94c89d3acac5f.js', 0.0), ('/_next/static/chunks/webpack-e2315b53e504a6de.js', 0.0), ('/_next/static/chunks/framework-79bce4a3a540b080.js', 0.0), ('/_next/static/chunks/main-02d79fe8c2a509ed.js', 0.0), ('/_next/static/chunks/pages/_app-5aa48e6daaf3fe0d.js', 0.0), ('/_next/static/chunks/2905-8aaa955321746aca.js', 0.0), ('/_next/static/chunks/7454-c90862ff3e03df1e.js', 0.0), ('/_next/static/chunks/4590-75312c952da4fb21.js', 0.0), ('/_next/static/chunks/pages/friends-1c385a001c72f8d5.js', 0.0), ('/_next/static/OnBp0dXLpVOYqcPmAsImr/_buildManifest.js', 0.0), ('/_next/static/OnBp0dXLpVOYqcPmAsImr/_ssgManifest.js', 0.0), ('/_next/static/OnBp0dXLpVOYqcPmAsImr/_middlewareManifest.js', 0.0), ('/_next/static/css/6238d6cccf041c98.css', 0.0), ('/_next/static/css/bd2fda382cbb2877.css', 0.0)]\n",
      "Analyzing 495 of 523: http://friends.fampay.in/contact\n",
      "Page size: 16.703125 KB\n",
      "Resource sizes: [('/assets/images/icons/common/partyCapIcon.svg', 0.0), ('/assets/images/icons/common/partyFaceIcon.svg', 0.0), ('/assets/images/icons/common/singleGreyArrowIcon.svg', 0.0), ('/assets/images/icons/common/headerWhiteLogoIcon.svg', 0.0), ('/assets/images/images/pages/club/clubImage.jpg', 0.0), ('/assets/images/images/pages/club/teensImage.jpg', 0.0), ('/assets/images/images/pages/club/famjamImage.jpg', 0.0), ('/assets/images/images/pages/club/rewardsImage.png', 0.0), ('/assets/images/images/pages/club/discordImage.jpg', 0.0), ('/assets/images/icons/common/headerGreyLogoIcon.svg', 0.0), ('/assets/images/icons/common/facebookGreyIcon.svg', 0.0), ('/assets/images/icons/common/mediumGreyIcon.svg', 0.0), ('/assets/images/icons/common/instagramGreyIcon.svg', 0.0), ('/assets/images/icons/common/linkedinGreyIcon.svg', 0.0), ('/assets/images/icons/common/twitterGreyIcon.svg', 0.0), ('/assets/images/icons/common/discordGreyIcon.svg', 0.0), ('/assets/images/icons/common/snapchatGreyIcon.svg', 0.0), ('/assets/images/icons/common/youtubeGreyIcon.svg', 0.0), ('/_next/static/chunks/polyfills-5cd94c89d3acac5f.js', 0.0), ('/_next/static/chunks/webpack-e2315b53e504a6de.js', 0.0), ('/_next/static/chunks/framework-79bce4a3a540b080.js', 0.0), ('/_next/static/chunks/main-02d79fe8c2a509ed.js', 0.0), ('/_next/static/chunks/pages/_app-5aa48e6daaf3fe0d.js', 0.0), ('/_next/static/chunks/2905-8aaa955321746aca.js', 0.0), ('/_next/static/chunks/7454-c90862ff3e03df1e.js', 0.0), ('/_next/static/chunks/4590-75312c952da4fb21.js', 0.0), ('/_next/static/chunks/pages/friends-1c385a001c72f8d5.js', 0.0), ('/_next/static/OnBp0dXLpVOYqcPmAsImr/_buildManifest.js', 0.0), ('/_next/static/OnBp0dXLpVOYqcPmAsImr/_ssgManifest.js', 0.0), ('/_next/static/OnBp0dXLpVOYqcPmAsImr/_middlewareManifest.js', 0.0), ('/_next/static/css/6238d6cccf041c98.css', 0.0), ('/_next/static/css/bd2fda382cbb2877.css', 0.0)]\n",
      "Analyzing 496 of 523: https://famapp.in/blog/how-i-blurred-age-barriers-with-technology/\n",
      "Page size: 40.439453125 KB\n",
      "Resource sizes: [('https://fampay.in/blog/content/images/2020/11/logofilewhite-11-2.png', 0.130859375), ('https://fampay.in/blog/content/images/2020/11/logofilewhite-11-2.png', 0.130859375), ('https://fampay.in/blog/content/images/2020/06/0_ze4MeWZfK5-3mQyl.jpeg', 0.130859375), ('https://fampay.in/blog/content/images/2020/06/0_fJFL5cuJYHD24Y-y.jpeg', 0.130859375), ('https://fampay.in/blog/content/images/2020/06/0_sbvZLoKzsIhKvigT.jpeg', 0.130859375), ('/blog/assets/images/success.png?v=22080dfa02', 0.0), ('https://cdn.jsdelivr.net/ghost/portal@~2.30/umd/portal.min.js', 170.8154296875), ('https://cdn.jsdelivr.net/ghost/sodo-search@~1.1/umd/sodo-search.min.js', 95.5751953125), ('/blog/public/cards.min.js?v=22080dfa02', 0.0), ('/blog/public/member-attribution.min.js?v=22080dfa02', 0.0), ('https://www.googletagmanager.com/gtag/js?id=UA-147725948-3', 0.0), ('https://polyfill.io/v3/polyfill.min.js?features=IntersectionObserver%2CPromise%2CArray.prototype.includes%2CString.prototype.endsWith%2CString.prototype.startsWith%2CObject.assign%2CNodeList.prototype.forEach', 14.1123046875), ('/blog/assets/js/vendor/content-api.min.js?v=22080dfa02', 0.0), ('/blog/assets/js/manifest.js?v=22080dfa02', 0.0), ('/blog/assets/js/vendor.js?v=22080dfa02', 0.0), ('/blog/assets/js/app.js?v=22080dfa02', 0.0), ('/blog/assets/js/post.js?v=22080dfa02', 0.0), ('/blog/assets/css/app.css?v=22080dfa02', 0.0), ('/blog/public/cards.min.css?v=22080dfa02', 0.0)]\n",
      "Analyzing 497 of 523: https://wa.me/?text=How%20I%20Blurred%20Age%20Barriers%20with%20Technology%20https://fampay.in/blog/how-i-blurred-age-barriers-with-technology/\n",
      "Page size: 165.26953125 KB\n",
      "Resource sizes: [('https://static.whatsapp.net/rsrc.php/v3/yq/r/mdQNdcFMi0p.png', 28.833984375), ('https://static.whatsapp.net/rsrc.php/v3/y7/r/DSxOAUB0raA.png', 28.7744140625), ('https://static.whatsapp.net/rsrc.php/v3/yJ/r/Qhrnh5evyPV.png', 1.193359375), ('https://static.whatsapp.net/rsrc.php/v3/yJ/r/Qhrnh5evyPV.png', 1.193359375), ('https://static.whatsapp.net/rsrc.php/v3/y6/r/TcHIu29ealS.js?_nc_x=Ij3Wp8lg5Kz', 104.8037109375), ('https://static.whatsapp.net/rsrc.php/v3/yO/l/0,cross/zkmfh5mjXuB.css?_nc_x=Ij3Wp8lg5Kz', 1.318359375), ('https://static.whatsapp.net/rsrc.php/v3/yi/l/0,cross/TngFvC3f-F7.css?_nc_x=Ij3Wp8lg5Kz', 14.91796875), ('https://static.whatsapp.net/rsrc.php/v3/yX/l/0,cross/90x4oEKKKqw.css?_nc_x=Ij3Wp8lg5Kz', 9.01953125)]\n",
      "Analyzing 498 of 523: https://www.facebook.com/sharer/sharer.php?u=https://fampay.in/blog/how-i-blurred-age-barriers-with-technology/\n",
      "Page size: 17.0205078125 KB\n",
      "Resource sizes: [('https://static.xx.fbcdn.net/rsrc.php/v3/y8/r/k97pj8-or6s.png', 0.7900390625), ('https://facebook.com/security/hsts-pixel.gif?c=3.2', 0.0)]\n",
      "Analyzing 499 of 523: https://twitter.com/intent/tweet?text=How%20I%20Blurred%20Age%20Barriers%20with%20Technology&url=https://fampay.in/blog/how-i-blurred-age-barriers-with-technology/\n",
      "Page size: 167.810546875 KB\n",
      "Resource sizes: [('https://abs.twimg.com/errors/logo46x38.png', 0.9912109375), ('https://abs.twimg.com/responsive-web/client-web-legacy/shared~bundle.Compose~bundle.RichTextCompose.a2fa6b8a.js', 52.9111328125), ('https://abs.twimg.com/responsive-web/client-web-legacy/polyfills.d5242a4a.js', 17.72265625), ('https://abs.twimg.com/responsive-web/client-web-legacy/vendor.3cb7d15a.js', 218.7216796875), ('https://abs.twimg.com/responsive-web/client-web-legacy/i18n/en.213585ba.js', 114.365234375), ('https://abs.twimg.com/responsive-web/client-web-legacy/main.79ac570a.js', 408.1171875)]\n",
      "Analyzing 500 of 523: https://famapp.in/blog/how-to-clean-up-your-android-apps-dependencies-the-ultimate-guide-2/\n",
      "Page size: 53.275390625 KB\n",
      "Resource sizes: [('https://fampay.in/blog/content/images/2020/11/logofilewhite-11-2.png', 0.130859375), ('https://fampay.in/blog/content/images/2020/11/logofilewhite-11-2.png', 0.130859375), ('https://fampay.in/blog/content/images/2023/03/image.png', 0.130859375), ('https://media.giphy.com/media/OkzCcGn5fY29e7bvpS/giphy.gif', 3602.8544921875), ('https://media.giphy.com/media/PnggNmuamz7kbgfUTL/giphy.gif', 2123.232421875), ('https://media.giphy.com/media/mMDA2ZvTdzJPk6RAlP/giphy.gif', 1749.7841796875), ('https://cdn-images-1.medium.com/max/1600/1*ivqtkW5FXIGYLERe1CYl8w.png', 0.0), ('https://cdn-images-1.medium.com/max/1600/1*VeBwKIh6vDHW-N0GaLrxow.png', 0.0), ('https://cdn-images-1.medium.com/max/1600/1*KhvurcmxU7yMLQavCZm4xw.png', 0.0), ('/blog/assets/images/success.png?v=22080dfa02', 0.0), ('https://cdn.jsdelivr.net/ghost/portal@~2.30/umd/portal.min.js', 170.8154296875), ('https://cdn.jsdelivr.net/ghost/sodo-search@~1.1/umd/sodo-search.min.js', 95.5751953125), ('/blog/public/cards.min.js?v=22080dfa02', 0.0), ('/blog/public/member-attribution.min.js?v=22080dfa02', 0.0), ('https://www.googletagmanager.com/gtag/js?id=UA-147725948-3', 0.0), ('https://polyfill.io/v3/polyfill.min.js?features=IntersectionObserver%2CPromise%2CArray.prototype.includes%2CString.prototype.endsWith%2CString.prototype.startsWith%2CObject.assign%2CNodeList.prototype.forEach', 14.1123046875), ('/blog/assets/js/vendor/content-api.min.js?v=22080dfa02', 0.0), ('/blog/assets/js/manifest.js?v=22080dfa02', 0.0), ('/blog/assets/js/vendor.js?v=22080dfa02', 0.0), ('/blog/assets/js/app.js?v=22080dfa02', 0.0), ('/blog/assets/js/post.js?v=22080dfa02', 0.0), ('/blog/assets/css/app.css?v=22080dfa02', 0.0), ('/blog/public/cards.min.css?v=22080dfa02', 0.0)]\n",
      "Analyzing 501 of 523: https://famapp.in/blog/discover-fampays-engagement-service-missions-3/\n",
      "Page size: 45.0615234375 KB\n",
      "Resource sizes: [('https://fampay.in/blog/content/images/2020/11/logofilewhite-11-2.png', 0.130859375), ('https://fampay.in/blog/content/images/2020/11/logofilewhite-11-2.png', 0.130859375), ('https://cdn-images-1.medium.com/max/1600/1*IF2BJcwp7VgrlMgK1TEaGw.png', 0.0), ('https://cdn-images-1.medium.com/max/1600/1*HWGQo6SxVar42uyJYNq8DA.png', 0.0), ('https://cdn-images-1.medium.com/max/1600/0*LACp9O5RmL6O2Qsa.png', 0.0), ('https://cdn-images-1.medium.com/max/1600/0*UG6fCQayvxpZJixr.gif', 0.0), ('/blog/assets/images/success.png?v=22080dfa02', 0.0), ('https://cdn.jsdelivr.net/ghost/portal@~2.30/umd/portal.min.js', 170.8154296875), ('https://cdn.jsdelivr.net/ghost/sodo-search@~1.1/umd/sodo-search.min.js', 95.5751953125), ('/blog/public/cards.min.js?v=22080dfa02', 0.0), ('/blog/public/member-attribution.min.js?v=22080dfa02', 0.0), ('https://www.googletagmanager.com/gtag/js?id=UA-147725948-3', 0.0), ('https://polyfill.io/v3/polyfill.min.js?features=IntersectionObserver%2CPromise%2CArray.prototype.includes%2CString.prototype.endsWith%2CString.prototype.startsWith%2CObject.assign%2CNodeList.prototype.forEach', 14.1123046875), ('/blog/assets/js/vendor/content-api.min.js?v=22080dfa02', 0.0), ('/blog/assets/js/manifest.js?v=22080dfa02', 0.0), ('/blog/assets/js/vendor.js?v=22080dfa02', 0.0), ('/blog/assets/js/app.js?v=22080dfa02', 0.0), ('/blog/assets/js/post.js?v=22080dfa02', 0.0), ('/blog/assets/css/app.css?v=22080dfa02', 0.0), ('/blog/public/cards.min.css?v=22080dfa02', 0.0)]\n",
      "Analyzing 502 of 523: https://famapp.in/blog/implementing-an-in-memory-queue/\n",
      "Page size: 46.341796875 KB\n",
      "Resource sizes: [('https://fampay.in/blog/content/images/2020/11/logofilewhite-11-2.png', 0.130859375), ('https://fampay.in/blog/content/images/2020/11/logofilewhite-11-2.png', 0.130859375), ('https://fampay.in/blog/content/images/2022/11/image.png', 0.130859375), ('https://fampay.in/blog/content/images/2022/11/image-1.png', 0.130859375), ('https://media.giphy.com/media/RkKMFRHh71RvhCYUx6/giphy.gif', 2538.177734375), ('/blog/assets/images/success.png?v=22080dfa02', 0.0), ('https://cdn.jsdelivr.net/ghost/portal@~2.30/umd/portal.min.js', 170.8154296875), ('https://cdn.jsdelivr.net/ghost/sodo-search@~1.1/umd/sodo-search.min.js', 95.5751953125), ('/blog/public/cards.min.js?v=22080dfa02', 0.0), ('/blog/public/member-attribution.min.js?v=22080dfa02', 0.0), ('https://www.googletagmanager.com/gtag/js?id=UA-147725948-3', 0.0), ('https://polyfill.io/v3/polyfill.min.js?features=IntersectionObserver%2CPromise%2CArray.prototype.includes%2CString.prototype.endsWith%2CString.prototype.startsWith%2CObject.assign%2CNodeList.prototype.forEach', 14.1123046875), ('/blog/assets/js/vendor/content-api.min.js?v=22080dfa02', 0.0), ('/blog/assets/js/manifest.js?v=22080dfa02', 0.0), ('/blog/assets/js/vendor.js?v=22080dfa02', 0.0), ('/blog/assets/js/app.js?v=22080dfa02', 0.0), ('/blog/assets/js/post.js?v=22080dfa02', 0.0), ('/blog/assets/css/app.css?v=22080dfa02', 0.0), ('/blog/public/cards.min.css?v=22080dfa02', 0.0)]\n",
      "Analyzing 503 of 523: https://famapp.in/blog/covid-19-vaccination-as-a-teen-a-guide/\n",
      "Page size: 39.7978515625 KB\n",
      "Resource sizes: [('https://fampay.in/blog/content/images/2020/11/logofilewhite-11-2.png', 0.130859375), ('https://fampay.in/blog/content/images/2020/11/logofilewhite-11-2.png', 0.130859375), ('https://c.tenor.com/J6A4cKTmeF8AAAAM/ariana-grande-me.gif', 311.0361328125), ('https://c.tenor.com/2QYBi_6YjwAAAAAC/batman-thank-you.gif', 290.19140625), ('https://media2.giphy.com/media/3eXl1A3FAWhEWijohy/giphy.gif', 1563.724609375), ('/blog/assets/images/success.png?v=22080dfa02', 0.0), ('https://cdn.jsdelivr.net/ghost/portal@~2.30/umd/portal.min.js', 170.8154296875), ('https://cdn.jsdelivr.net/ghost/sodo-search@~1.1/umd/sodo-search.min.js', 95.5751953125), ('/blog/public/cards.min.js?v=22080dfa02', 0.0), ('/blog/public/member-attribution.min.js?v=22080dfa02', 0.0), ('https://www.googletagmanager.com/gtag/js?id=UA-147725948-3', 0.0), ('https://polyfill.io/v3/polyfill.min.js?features=IntersectionObserver%2CPromise%2CArray.prototype.includes%2CString.prototype.endsWith%2CString.prototype.startsWith%2CObject.assign%2CNodeList.prototype.forEach', 14.1123046875), ('/blog/assets/js/vendor/content-api.min.js?v=22080dfa02', 0.0), ('/blog/assets/js/manifest.js?v=22080dfa02', 0.0), ('/blog/assets/js/vendor.js?v=22080dfa02', 0.0), ('/blog/assets/js/app.js?v=22080dfa02', 0.0), ('/blog/assets/js/post.js?v=22080dfa02', 0.0), ('/blog/assets/css/app.css?v=22080dfa02', 0.0), ('/blog/public/cards.min.css?v=22080dfa02', 0.0)]\n",
      "Analyzing 504 of 523: https://famapp.in/blog/why-vaccination-a-guide-to-vaccination-for-teens-in-india/\n",
      "Page size: 43.0458984375 KB\n",
      "Resource sizes: [('https://fampay.in/blog/content/images/2020/11/logofilewhite-11-2.png', 0.130859375), ('https://fampay.in/blog/content/images/2020/11/logofilewhite-11-2.png', 0.130859375), ('https://fampay.in/blog/content/images/2022/02/image-5.png', 0.130859375), ('https://fampay.in/blog/content/images/2022/02/image-9.png', 0.130859375), ('https://fampay.in/blog/content/images/2022/02/image-8.png', 0.130859375), ('https://fampay.in/blog/content/images/2022/02/image-10.png', 0.130859375), ('https://fampay.in/blog/content/images/2022/02/image-14.png', 0.130859375), ('https://fampay.in/blog/content/images/2022/02/image-13.png', 0.130859375), ('https://fampay.in/blog/content/images/2022/02/image-16.png', 0.130859375), ('/blog/assets/images/success.png?v=22080dfa02', 0.0), ('https://cdn.jsdelivr.net/ghost/portal@~2.30/umd/portal.min.js', 170.8154296875), ('https://cdn.jsdelivr.net/ghost/sodo-search@~1.1/umd/sodo-search.min.js', 95.5751953125), ('/blog/public/cards.min.js?v=22080dfa02', 0.0), ('/blog/public/member-attribution.min.js?v=22080dfa02', 0.0), ('https://www.googletagmanager.com/gtag/js?id=UA-147725948-3', 0.0), ('https://polyfill.io/v3/polyfill.min.js?features=IntersectionObserver%2CPromise%2CArray.prototype.includes%2CString.prototype.endsWith%2CString.prototype.startsWith%2CObject.assign%2CNodeList.prototype.forEach', 14.1123046875), ('/blog/assets/js/vendor/content-api.min.js?v=22080dfa02', 0.0), ('/blog/assets/js/manifest.js?v=22080dfa02', 0.0), ('/blog/assets/js/vendor.js?v=22080dfa02', 0.0), ('/blog/assets/js/app.js?v=22080dfa02', 0.0), ('/blog/assets/js/post.js?v=22080dfa02', 0.0), ('/blog/assets/css/app.css?v=22080dfa02', 0.0), ('/blog/public/cards.min.css?v=22080dfa02', 0.0)]\n",
      "Analyzing 505 of 523: https://famapp.in/blog/study-habits-that-are-simple-and-highly-effective/\n",
      "Page size: 40.28515625 KB\n",
      "Resource sizes: [('https://fampay.in/blog/content/images/2020/11/logofilewhite-11-2.png', 0.130859375), ('https://fampay.in/blog/content/images/2020/11/logofilewhite-11-2.png', 0.130859375), ('https://fampay.in/blog/content/images/2021/11/image.png', 0.130859375), ('https://fampay.in/blog/content/images/2021/11/image-1.png', 0.130859375), ('https://fampay.in/blog/content/images/2021/11/image-2.png', 0.130859375), ('https://fampay.in/blog/content/images/2021/11/image-4.png', 0.130859375), ('https://fampay.in/blog/content/images/2021/11/image-5.png', 0.130859375), ('https://fampay.in/blog/content/images/2021/11/image-8.png', 0.130859375), ('https://fampay.in/blog/content/images/2021/11/image-7.png', 0.130859375), ('/blog/assets/images/success.png?v=22080dfa02', 0.0), ('https://cdn.jsdelivr.net/ghost/portal@~2.30/umd/portal.min.js', 170.8154296875), ('https://cdn.jsdelivr.net/ghost/sodo-search@~1.1/umd/sodo-search.min.js', 95.5751953125), ('/blog/public/cards.min.js?v=22080dfa02', 0.0), ('/blog/public/member-attribution.min.js?v=22080dfa02', 0.0), ('https://www.googletagmanager.com/gtag/js?id=UA-147725948-3', 0.0), ('https://polyfill.io/v3/polyfill.min.js?features=IntersectionObserver%2CPromise%2CArray.prototype.includes%2CString.prototype.endsWith%2CString.prototype.startsWith%2CObject.assign%2CNodeList.prototype.forEach', 14.1123046875), ('/blog/assets/js/vendor/content-api.min.js?v=22080dfa02', 0.0), ('/blog/assets/js/manifest.js?v=22080dfa02', 0.0), ('/blog/assets/js/vendor.js?v=22080dfa02', 0.0), ('/blog/assets/js/app.js?v=22080dfa02', 0.0), ('/blog/assets/js/post.js?v=22080dfa02', 0.0), ('/blog/assets/css/app.css?v=22080dfa02', 0.0), ('/blog/public/cards.min.css?v=22080dfa02', 0.0)]\n",
      "Analyzing 506 of 523: https://famapp.in/blog/how-to-save-those-extra-bucks-while-shopping/\n",
      "Page size: 39.1357421875 KB\n",
      "Resource sizes: [('https://fampay.in/blog/content/images/2020/11/logofilewhite-11-2.png', 0.130859375), ('https://fampay.in/blog/content/images/2020/11/logofilewhite-11-2.png', 0.130859375), ('/blog/assets/images/success.png?v=22080dfa02', 0.0), ('https://cdn.jsdelivr.net/ghost/portal@~2.30/umd/portal.min.js', 170.8154296875), ('https://cdn.jsdelivr.net/ghost/sodo-search@~1.1/umd/sodo-search.min.js', 95.5751953125), ('/blog/public/cards.min.js?v=22080dfa02', 0.0), ('/blog/public/member-attribution.min.js?v=22080dfa02', 0.0), ('https://www.googletagmanager.com/gtag/js?id=UA-147725948-3', 0.0), ('https://polyfill.io/v3/polyfill.min.js?features=IntersectionObserver%2CPromise%2CArray.prototype.includes%2CString.prototype.endsWith%2CString.prototype.startsWith%2CObject.assign%2CNodeList.prototype.forEach', 14.1123046875), ('/blog/assets/js/vendor/content-api.min.js?v=22080dfa02', 0.0), ('/blog/assets/js/manifest.js?v=22080dfa02', 0.0), ('/blog/assets/js/vendor.js?v=22080dfa02', 0.0), ('/blog/assets/js/app.js?v=22080dfa02', 0.0), ('/blog/assets/js/post.js?v=22080dfa02', 0.0), ('/blog/assets/css/app.css?v=22080dfa02', 0.0), ('/blog/public/cards.min.css?v=22080dfa02', 0.0)]\n",
      "Analyzing 507 of 523: https://famapp.in/blog/teen-fashion-trends-that-we-love/\n",
      "Page size: 39.8876953125 KB\n",
      "Resource sizes: [('https://fampay.in/blog/content/images/2020/11/logofilewhite-11-2.png', 0.130859375), ('https://fampay.in/blog/content/images/2020/11/logofilewhite-11-2.png', 0.130859375), ('https://fampay.in/blog/content/images/2021/10/image-13.png', 0.130859375), ('https://fampay.in/blog/content/images/2021/10/image-14.png', 0.130859375), ('https://fampay.in/blog/content/images/2021/10/image-15.png', 0.130859375), ('https://fampay.in/blog/content/images/2021/10/image-16.png', 0.130859375), ('/blog/assets/images/success.png?v=22080dfa02', 0.0), ('https://cdn.jsdelivr.net/ghost/portal@~2.30/umd/portal.min.js', 170.8154296875), ('https://cdn.jsdelivr.net/ghost/sodo-search@~1.1/umd/sodo-search.min.js', 95.5751953125), ('/blog/public/cards.min.js?v=22080dfa02', 0.0), ('/blog/public/member-attribution.min.js?v=22080dfa02', 0.0), ('https://www.googletagmanager.com/gtag/js?id=UA-147725948-3', 0.0), ('https://polyfill.io/v3/polyfill.min.js?features=IntersectionObserver%2CPromise%2CArray.prototype.includes%2CString.prototype.endsWith%2CString.prototype.startsWith%2CObject.assign%2CNodeList.prototype.forEach', 14.1123046875), ('/blog/assets/js/vendor/content-api.min.js?v=22080dfa02', 0.0), ('/blog/assets/js/manifest.js?v=22080dfa02', 0.0), ('/blog/assets/js/vendor.js?v=22080dfa02', 0.0), ('/blog/assets/js/app.js?v=22080dfa02', 0.0), ('/blog/assets/js/post.js?v=22080dfa02', 0.0), ('/blog/assets/css/app.css?v=22080dfa02', 0.0), ('/blog/public/cards.min.css?v=22080dfa02', 0.0)]\n",
      "Analyzing 508 of 523: https://famapp.in/blog/how-to-build-your-resume-and-portfolio-right-from-school/\n",
      "Page size: 42.8212890625 KB\n",
      "Resource sizes: [('https://fampay.in/blog/content/images/2020/11/logofilewhite-11-2.png', 0.130859375), ('https://fampay.in/blog/content/images/2020/11/logofilewhite-11-2.png', 0.130859375), ('https://fampay.in/blog/content/images/2021/10/image-8.png', 0.130859375), ('https://fampay.in/blog/content/images/2021/10/image-11.png', 0.130859375), ('https://fampay.in/blog/content/images/2021/10/image-10.png', 0.130859375), ('https://fampay.in/blog/content/images/2021/10/image-12.png', 0.130859375), ('/blog/assets/images/success.png?v=22080dfa02', 0.0), ('https://cdn.jsdelivr.net/ghost/portal@~2.30/umd/portal.min.js', 170.8154296875), ('https://cdn.jsdelivr.net/ghost/sodo-search@~1.1/umd/sodo-search.min.js', 95.5751953125), ('/blog/public/cards.min.js?v=22080dfa02', 0.0), ('/blog/public/member-attribution.min.js?v=22080dfa02', 0.0), ('https://www.googletagmanager.com/gtag/js?id=UA-147725948-3', 0.0), ('https://polyfill.io/v3/polyfill.min.js?features=IntersectionObserver%2CPromise%2CArray.prototype.includes%2CString.prototype.endsWith%2CString.prototype.startsWith%2CObject.assign%2CNodeList.prototype.forEach', 14.1123046875), ('/blog/assets/js/vendor/content-api.min.js?v=22080dfa02', 0.0), ('/blog/assets/js/manifest.js?v=22080dfa02', 0.0), ('/blog/assets/js/vendor.js?v=22080dfa02', 0.0), ('/blog/assets/js/app.js?v=22080dfa02', 0.0), ('/blog/assets/js/post.js?v=22080dfa02', 0.0), ('/blog/assets/css/app.css?v=22080dfa02', 0.0), ('/blog/public/cards.min.css?v=22080dfa02', 0.0)]\n",
      "Analyzing 509 of 523: https://famapp.in/blog/productivity-hacks-for-teens-this-will-change-your-life/\n",
      "Page size: 39.5654296875 KB\n",
      "Resource sizes: [('https://fampay.in/blog/content/images/2020/11/logofilewhite-11-2.png', 0.130859375), ('https://fampay.in/blog/content/images/2020/11/logofilewhite-11-2.png', 0.130859375), ('https://fampay.in/blog/content/images/2021/10/image.png', 0.130859375), ('https://fampay.in/blog/content/images/2021/10/image-2.png', 0.130859375), ('https://fampay.in/blog/content/images/2021/10/image-4.png', 0.130859375), ('https://fampay.in/blog/content/images/2021/10/image-6.png', 0.130859375), ('https://fampay.in/blog/content/images/2021/10/image-7.png', 0.130859375), ('/blog/assets/images/success.png?v=22080dfa02', 0.0), ('https://cdn.jsdelivr.net/ghost/portal@~2.30/umd/portal.min.js', 170.8154296875), ('https://cdn.jsdelivr.net/ghost/sodo-search@~1.1/umd/sodo-search.min.js', 95.5751953125), ('/blog/public/cards.min.js?v=22080dfa02', 0.0), ('/blog/public/member-attribution.min.js?v=22080dfa02', 0.0), ('https://www.googletagmanager.com/gtag/js?id=UA-147725948-3', 0.0), ('https://polyfill.io/v3/polyfill.min.js?features=IntersectionObserver%2CPromise%2CArray.prototype.includes%2CString.prototype.endsWith%2CString.prototype.startsWith%2CObject.assign%2CNodeList.prototype.forEach', 14.1123046875), ('/blog/assets/js/vendor/content-api.min.js?v=22080dfa02', 0.0), ('/blog/assets/js/manifest.js?v=22080dfa02', 0.0), ('/blog/assets/js/vendor.js?v=22080dfa02', 0.0), ('/blog/assets/js/app.js?v=22080dfa02', 0.0), ('/blog/assets/js/post.js?v=22080dfa02', 0.0), ('/blog/assets/css/app.css?v=22080dfa02', 0.0), ('/blog/public/cards.min.css?v=22080dfa02', 0.0)]\n",
      "Analyzing 510 of 523: https://famapp.in/blog/page/2/\n",
      "Page size: 34.6982421875 KB\n",
      "Resource sizes: [('https://fampay.in/blog/content/images/2020/11/logofilewhite-11-2.png', 0.130859375), ('https://fampay.in/blog/content/images/2020/11/logofilewhite-11-2.png', 0.130859375), ('https://cdn.jsdelivr.net/ghost/portal@~2.30/umd/portal.min.js', 170.8154296875), ('https://cdn.jsdelivr.net/ghost/sodo-search@~1.1/umd/sodo-search.min.js', 95.5751953125), ('/blog/public/cards.min.js?v=22080dfa02', 0.0), ('/blog/public/member-attribution.min.js?v=22080dfa02', 0.0), ('https://www.googletagmanager.com/gtag/js?id=UA-147725948-3', 0.0), ('https://polyfill.io/v3/polyfill.min.js?features=IntersectionObserver%2CPromise%2CArray.prototype.includes%2CString.prototype.endsWith%2CString.prototype.startsWith%2CObject.assign%2CNodeList.prototype.forEach', 14.1123046875), ('/blog/assets/js/vendor/content-api.min.js?v=22080dfa02', 0.0), ('/blog/assets/js/manifest.js?v=22080dfa02', 0.0), ('/blog/assets/js/vendor.js?v=22080dfa02', 0.0), ('/blog/assets/js/app.js?v=22080dfa02', 0.0), ('/blog/assets/js/home.js?v=22080dfa02', 0.0), ('/blog/assets/css/app.css?v=22080dfa02', 0.0), ('/blog/public/cards.min.css?v=22080dfa02', 0.0)]\n",
      "Analyzing 511 of 523: https://famapp.in/blog/page/3/\n",
      "Page size: 34.6455078125 KB\n",
      "Resource sizes: [('https://fampay.in/blog/content/images/2020/11/logofilewhite-11-2.png', 0.130859375), ('https://fampay.in/blog/content/images/2020/11/logofilewhite-11-2.png', 0.130859375), ('https://cdn.jsdelivr.net/ghost/portal@~2.30/umd/portal.min.js', 170.8154296875), ('https://cdn.jsdelivr.net/ghost/sodo-search@~1.1/umd/sodo-search.min.js', 95.5751953125), ('/blog/public/cards.min.js?v=22080dfa02', 0.0), ('/blog/public/member-attribution.min.js?v=22080dfa02', 0.0), ('https://www.googletagmanager.com/gtag/js?id=UA-147725948-3', 0.0), ('https://polyfill.io/v3/polyfill.min.js?features=IntersectionObserver%2CPromise%2CArray.prototype.includes%2CString.prototype.endsWith%2CString.prototype.startsWith%2CObject.assign%2CNodeList.prototype.forEach', 14.1123046875), ('/blog/assets/js/vendor/content-api.min.js?v=22080dfa02', 0.0), ('/blog/assets/js/manifest.js?v=22080dfa02', 0.0), ('/blog/assets/js/vendor.js?v=22080dfa02', 0.0), ('/blog/assets/js/app.js?v=22080dfa02', 0.0), ('/blog/assets/js/home.js?v=22080dfa02', 0.0), ('/blog/assets/css/app.css?v=22080dfa02', 0.0), ('/blog/public/cards.min.css?v=22080dfa02', 0.0)]\n",
      "Analyzing 512 of 523: https://famapp.in/blog/page/4/\n",
      "Page size: 34.587890625 KB\n",
      "Resource sizes: [('https://fampay.in/blog/content/images/2020/11/logofilewhite-11-2.png', 0.130859375), ('https://fampay.in/blog/content/images/2020/11/logofilewhite-11-2.png', 0.130859375), ('https://cdn.jsdelivr.net/ghost/portal@~2.30/umd/portal.min.js', 170.8154296875), ('https://cdn.jsdelivr.net/ghost/sodo-search@~1.1/umd/sodo-search.min.js', 95.5751953125), ('/blog/public/cards.min.js?v=22080dfa02', 0.0), ('/blog/public/member-attribution.min.js?v=22080dfa02', 0.0), ('https://www.googletagmanager.com/gtag/js?id=UA-147725948-3', 0.0), ('https://polyfill.io/v3/polyfill.min.js?features=IntersectionObserver%2CPromise%2CArray.prototype.includes%2CString.prototype.endsWith%2CString.prototype.startsWith%2CObject.assign%2CNodeList.prototype.forEach', 14.1123046875), ('/blog/assets/js/vendor/content-api.min.js?v=22080dfa02', 0.0), ('/blog/assets/js/manifest.js?v=22080dfa02', 0.0), ('/blog/assets/js/vendor.js?v=22080dfa02', 0.0), ('/blog/assets/js/app.js?v=22080dfa02', 0.0), ('/blog/assets/js/home.js?v=22080dfa02', 0.0), ('/blog/assets/css/app.css?v=22080dfa02', 0.0), ('/blog/public/cards.min.css?v=22080dfa02', 0.0)]\n",
      "Analyzing 513 of 523: https://famapp.in/blog/page/5/\n",
      "Page size: 34.775390625 KB\n",
      "Resource sizes: [('https://fampay.in/blog/content/images/2020/11/logofilewhite-11-2.png', 0.130859375), ('https://fampay.in/blog/content/images/2020/11/logofilewhite-11-2.png', 0.130859375), ('https://cdn.jsdelivr.net/ghost/portal@~2.30/umd/portal.min.js', 170.8154296875), ('https://cdn.jsdelivr.net/ghost/sodo-search@~1.1/umd/sodo-search.min.js', 95.5751953125), ('/blog/public/cards.min.js?v=22080dfa02', 0.0), ('/blog/public/member-attribution.min.js?v=22080dfa02', 0.0), ('https://www.googletagmanager.com/gtag/js?id=UA-147725948-3', 0.0), ('https://polyfill.io/v3/polyfill.min.js?features=IntersectionObserver%2CPromise%2CArray.prototype.includes%2CString.prototype.endsWith%2CString.prototype.startsWith%2CObject.assign%2CNodeList.prototype.forEach', 14.1123046875), ('/blog/assets/js/vendor/content-api.min.js?v=22080dfa02', 0.0), ('/blog/assets/js/manifest.js?v=22080dfa02', 0.0), ('/blog/assets/js/vendor.js?v=22080dfa02', 0.0), ('/blog/assets/js/app.js?v=22080dfa02', 0.0), ('/blog/assets/js/home.js?v=22080dfa02', 0.0), ('/blog/assets/css/app.css?v=22080dfa02', 0.0), ('/blog/public/cards.min.css?v=22080dfa02', 0.0)]\n",
      "Analyzing 514 of 523: https://famapp.in/careers\n",
      "Page size: 22.8056640625 KB\n",
      "Resource sizes: [('/assets/images/icons/common/partyCapIcon.svg', 0.0), ('/assets/images/icons/common/partyFaceIcon.svg', 0.0), ('/assets/images/icons/common/singleGreyArrowIcon.svg', 0.0), ('/assets/images/icons/common/headerWhiteLogoIcon.svg', 0.0), ('/assets/images/images/pages/careers/famWork1Image.png', 0.0), ('/assets/images/images/pages/careers/famWork2Image.png', 0.0), ('/assets/images/images/pages/careers/famWork3Image.png', 0.0), ('/assets/images/images/pages/careers/famWork4Image.png', 0.0), ('/assets/images/icons/common/instagramColorIcon.svg', 0.0), ('/assets/images/icons/common/instagramColorIcon.svg', 0.0), ('/assets/images/icons/common/instagramColorIcon.svg', 0.0), ('/assets/images/icons/common/twitterColorIcon.svg', 0.0), ('/assets/images/icons/common/linkedinColorIcon.png', 0.0), ('/assets/images/images/pages/careers/famPerk2Image.jpg', 0.0), ('/assets/images/images/pages/careers/famPerk3Image.jpg', 0.0), ('/assets/images/images/pages/careers/famPerk4Image.jpg', 0.0), ('/assets/images/images/pages/careers/famPerk5Image.jpg', 0.0), ('/assets/images/images/pages/careers/famPerk5Image.jpg', 0.0), ('/assets/images/icons/common/headerWhiteLogoIcon.svg', 0.0), ('/assets/images/icons/common/facebookGreyIcon.svg', 0.0), ('/assets/images/icons/common/mediumGreyIcon.svg', 0.0), ('/assets/images/icons/common/instagramGreyIcon.svg', 0.0), ('/assets/images/icons/common/linkedinGreyIcon.svg', 0.0), ('/assets/images/icons/common/twitterGreyIcon.svg', 0.0), ('/assets/images/icons/common/discordGreyIcon.svg', 0.0), ('/assets/images/icons/common/snapchatGreyIcon.svg', 0.0), ('/assets/images/icons/common/youtubeGreyIcon.svg', 0.0), ('/_next/static/chunks/polyfills-5cd94c89d3acac5f.js', 0.0), ('/_next/static/chunks/webpack-e2315b53e504a6de.js', 0.0), ('/_next/static/chunks/framework-79bce4a3a540b080.js', 0.0), ('/_next/static/chunks/main-02d79fe8c2a509ed.js', 0.0), ('/_next/static/chunks/pages/_app-5aa48e6daaf3fe0d.js', 0.0), ('/_next/static/chunks/2905-8aaa955321746aca.js', 0.0), ('/_next/static/chunks/7454-c90862ff3e03df1e.js', 0.0), ('/_next/static/chunks/4590-75312c952da4fb21.js', 0.0), ('/_next/static/chunks/pages/careers-bf95817061a277ba.js', 0.0), ('/_next/static/OnBp0dXLpVOYqcPmAsImr/_buildManifest.js', 0.0), ('/_next/static/OnBp0dXLpVOYqcPmAsImr/_ssgManifest.js', 0.0), ('/_next/static/OnBp0dXLpVOYqcPmAsImr/_middlewareManifest.js', 0.0), ('/_next/static/css/6238d6cccf041c98.css', 0.0), ('/_next/static/css/c87208f7ca39f50f.css', 0.0)]\n",
      "Analyzing 515 of 523: https://famapp.in/partner\n",
      "Page size: 25.775390625 KB\n",
      "Resource sizes: [('/assets/images/icons/common/partyCapIcon.svg', 0.0), ('/assets/images/icons/common/partyFaceIcon.svg', 0.0), ('/assets/images/icons/common/singleGreyArrowIcon.svg', 0.0), ('/assets/images/icons/common/headerWhiteLogoIcon.svg', 0.0), ('/assets/images/images/pages/partners/partnersMob.png', 0.0), ('/assets/images/images/pages/partners/partners.png', 0.0), ('/assets/images/images/pages/partners/hype1.png', 0.0), ('/assets/images/images/pages/partners/hype2.png', 0.0), ('/assets/images/images/pages/partners/hype3.png', 0.0), ('/assets/images/images/pages/partners/hype1.png', 0.0), ('/assets/images/images/pages/partners/hype2.png', 0.0), ('/assets/images/images/pages/partners/hype3.png', 0.0), ('/assets/images/images/pages/partners/igLogo.png', 0.0), ('/assets/images/images/pages/partners/discordLogo.png', 0.0), ('/assets/images/images/pages/partners/tfLogo.png', 0.0), ('/assets/images/images/pages/partners/unacadPoster.jpeg', 0.0), ('/assets/images/images/pages/partners/unacadLogo.png', 0.0), ('/assets/images/images/pages/partners/unacadLogo.png', 0.0), ('/assets/images/images/pages/partners/leafPoster.jpeg', 0.0), ('/assets/images/images/pages/partners/leafLogo.png', 0.0), ('/assets/images/images/pages/partners/leafLogo.png', 0.0), ('/assets/images/images/pages/partners/frrowPoster.jpeg', 0.0), ('/assets/images/images/pages/partners/frrowLogo.png', 0.0), ('/assets/images/images/pages/partners/frrowLogo.png', 0.0), ('/assets/images/icons/common/headerWhiteLogoIcon.svg', 0.0), ('/assets/images/icons/common/facebookGreyIcon.svg', 0.0), ('/assets/images/icons/common/mediumGreyIcon.svg', 0.0), ('/assets/images/icons/common/instagramGreyIcon.svg', 0.0), ('/assets/images/icons/common/linkedinGreyIcon.svg', 0.0), ('/assets/images/icons/common/twitterGreyIcon.svg', 0.0), ('/assets/images/icons/common/discordGreyIcon.svg', 0.0), ('/assets/images/icons/common/snapchatGreyIcon.svg', 0.0), ('/assets/images/icons/common/youtubeGreyIcon.svg', 0.0), ('/_next/static/chunks/polyfills-5cd94c89d3acac5f.js', 0.0), ('/_next/static/chunks/webpack-e2315b53e504a6de.js', 0.0), ('/_next/static/chunks/framework-79bce4a3a540b080.js', 0.0), ('/_next/static/chunks/main-02d79fe8c2a509ed.js', 0.0), ('/_next/static/chunks/pages/_app-5aa48e6daaf3fe0d.js', 0.0), ('/_next/static/chunks/2905-8aaa955321746aca.js', 0.0), ('/_next/static/chunks/8764-dbd95fd81c44c3e6.js', 0.0), ('/_next/static/chunks/3184-799664908708a83b.js', 0.0), ('/_next/static/chunks/9669-ea1b006ae648290c.js', 0.0), ('/_next/static/chunks/5518-21e58bc44adfaa2d.js', 0.0), ('/_next/static/chunks/7536-96dddaa1a4310d02.js', 0.0), ('/_next/static/chunks/7454-c90862ff3e03df1e.js', 0.0), ('/_next/static/chunks/4590-75312c952da4fb21.js', 0.0), ('/_next/static/chunks/9476-4d017c5288619f7c.js', 0.0), ('/_next/static/chunks/pages/partner-2c4ad2810308a8fb.js', 0.0), ('/_next/static/OnBp0dXLpVOYqcPmAsImr/_buildManifest.js', 0.0), ('/_next/static/OnBp0dXLpVOYqcPmAsImr/_ssgManifest.js', 0.0), ('/_next/static/OnBp0dXLpVOYqcPmAsImr/_middlewareManifest.js', 0.0), ('/_next/static/css/6238d6cccf041c98.css', 0.0), ('/_next/static/css/483fe8d988f292c8.css', 0.0)]\n",
      "Analyzing 516 of 523: https://famapp.in/faqs\n",
      "Page size: 19.181640625 KB\n",
      "Resource sizes: [('/assets/images/icons/common/partyCapIcon.svg', 0.0), ('/assets/images/icons/common/partyFaceIcon.svg', 0.0), ('/assets/images/icons/common/singleGreyArrowIcon.svg', 0.0), ('/assets/images/icons/common/headerGreyLogoIcon.svg', 0.0), ('/assets/images/icons/common/headerGreyLogoIcon.svg', 0.0), ('/assets/images/icons/common/facebookGreyIcon.svg', 0.0), ('/assets/images/icons/common/mediumGreyIcon.svg', 0.0), ('/assets/images/icons/common/instagramGreyIcon.svg', 0.0), ('/assets/images/icons/common/linkedinGreyIcon.svg', 0.0), ('/assets/images/icons/common/twitterGreyIcon.svg', 0.0), ('/assets/images/icons/common/discordGreyIcon.svg', 0.0), ('/assets/images/icons/common/snapchatGreyIcon.svg', 0.0), ('/assets/images/icons/common/youtubeGreyIcon.svg', 0.0), ('/_next/static/chunks/polyfills-5cd94c89d3acac5f.js', 0.0), ('/_next/static/chunks/webpack-e2315b53e504a6de.js', 0.0), ('/_next/static/chunks/framework-79bce4a3a540b080.js', 0.0), ('/_next/static/chunks/main-02d79fe8c2a509ed.js', 0.0), ('/_next/static/chunks/pages/_app-5aa48e6daaf3fe0d.js', 0.0), ('/_next/static/chunks/2905-8aaa955321746aca.js', 0.0), ('/_next/static/chunks/8764-dbd95fd81c44c3e6.js', 0.0), ('/_next/static/chunks/3184-799664908708a83b.js', 0.0), ('/_next/static/chunks/5518-21e58bc44adfaa2d.js', 0.0), ('/_next/static/chunks/7454-c90862ff3e03df1e.js', 0.0), ('/_next/static/chunks/9476-4d017c5288619f7c.js', 0.0), ('/_next/static/chunks/pages/faqs-860c0b29a929fb8a.js', 0.0), ('/_next/static/OnBp0dXLpVOYqcPmAsImr/_buildManifest.js', 0.0), ('/_next/static/OnBp0dXLpVOYqcPmAsImr/_ssgManifest.js', 0.0), ('/_next/static/OnBp0dXLpVOYqcPmAsImr/_middlewareManifest.js', 0.0), ('/_next/static/css/6238d6cccf041c98.css', 0.0), ('/_next/static/css/506b8fb45dc38163.css', 0.0)]\n",
      "Analyzing 517 of 523: https://famapp.in/blog/\n",
      "Page size: 36.6396484375 KB\n",
      "Resource sizes: [('https://fampay.in/blog/content/images/2020/11/logofilewhite-11-2.png', 0.130859375), ('https://fampay.in/blog/content/images/2020/11/logofilewhite-11-2.png', 0.130859375), ('https://cdn.jsdelivr.net/ghost/portal@~2.30/umd/portal.min.js', 170.8154296875), ('https://cdn.jsdelivr.net/ghost/sodo-search@~1.1/umd/sodo-search.min.js', 95.5751953125), ('/blog/public/cards.min.js?v=22080dfa02', 0.0), ('/blog/public/member-attribution.min.js?v=22080dfa02', 0.0), ('https://www.googletagmanager.com/gtag/js?id=UA-147725948-3', 0.0), ('https://polyfill.io/v3/polyfill.min.js?features=IntersectionObserver%2CPromise%2CArray.prototype.includes%2CString.prototype.endsWith%2CString.prototype.startsWith%2CObject.assign%2CNodeList.prototype.forEach', 14.1123046875), ('/blog/assets/js/vendor/content-api.min.js?v=22080dfa02', 0.0), ('/blog/assets/js/manifest.js?v=22080dfa02', 0.0), ('/blog/assets/js/vendor.js?v=22080dfa02', 0.0), ('/blog/assets/js/app.js?v=22080dfa02', 0.0), ('/blog/assets/js/home.js?v=22080dfa02', 0.0), ('/blog/assets/css/app.css?v=22080dfa02', 0.0), ('/blog/public/cards.min.css?v=22080dfa02', 0.0)]\n",
      "Analyzing 518 of 523: https://famapp.in/press\n",
      "Page size: 21.89453125 KB\n",
      "Resource sizes: [('/assets/images/icons/common/partyCapIcon.svg', 0.0), ('/assets/images/icons/common/partyFaceIcon.svg', 0.0), ('/assets/images/icons/common/singleGreyArrowIcon.svg', 0.0), ('/assets/images/icons/common/headerWhiteLogoIcon.svg', 0.0), ('/assets/images/images/pages/press/forbesLogoImage.jpg', 0.0), ('/assets/images/images/pages/press/yourstoryLogoImage.jpg', 0.0), ('/assets/images/images/pages/press/etLogoImage.jpg', 0.0), ('/assets/images/images/pages/press/yourstoryLogoImage.jpg', 0.0), ('/assets/images/images/pages/press/cnbcLogoImage.jpg', 0.0), ('/assets/images/images/pages/press/inc42LogoImage.jpg', 0.0), ('/assets/images/images/pages/press/ieLogoImage.jpg', 0.0), ('/assets/images/icons/common/singleGreyArrowIcon.svg', 0.0), ('/assets/images/icons/common/singleGreyArrowIcon.svg', 0.0), ('/assets/images/icons/common/headerGreyLogoIcon.svg', 0.0), ('/assets/images/icons/common/facebookGreyIcon.svg', 0.0), ('/assets/images/icons/common/mediumGreyIcon.svg', 0.0), ('/assets/images/icons/common/instagramGreyIcon.svg', 0.0), ('/assets/images/icons/common/linkedinGreyIcon.svg', 0.0), ('/assets/images/icons/common/twitterGreyIcon.svg', 0.0), ('/assets/images/icons/common/discordGreyIcon.svg', 0.0), ('/assets/images/icons/common/snapchatGreyIcon.svg', 0.0), ('/assets/images/icons/common/youtubeGreyIcon.svg', 0.0), ('/_next/static/chunks/polyfills-5cd94c89d3acac5f.js', 0.0), ('/_next/static/chunks/webpack-e2315b53e504a6de.js', 0.0), ('/_next/static/chunks/framework-79bce4a3a540b080.js', 0.0), ('/_next/static/chunks/main-02d79fe8c2a509ed.js', 0.0), ('/_next/static/chunks/pages/_app-5aa48e6daaf3fe0d.js', 0.0), ('/_next/static/chunks/2905-8aaa955321746aca.js', 0.0), ('/_next/static/chunks/5518-21e58bc44adfaa2d.js', 0.0), ('/_next/static/chunks/7454-c90862ff3e03df1e.js', 0.0), ('/_next/static/chunks/4590-75312c952da4fb21.js', 0.0), ('/_next/static/chunks/pages/press-91c3167f8b71b922.js', 0.0), ('/_next/static/OnBp0dXLpVOYqcPmAsImr/_buildManifest.js', 0.0), ('/_next/static/OnBp0dXLpVOYqcPmAsImr/_ssgManifest.js', 0.0), ('/_next/static/OnBp0dXLpVOYqcPmAsImr/_middlewareManifest.js', 0.0), ('/_next/static/css/6238d6cccf041c98.css', 0.0), ('/_next/static/css/4404c8a0c2cfe667.css', 0.0)]\n",
      "Analyzing 519 of 523: https://famapp.in/privacy\n",
      "Page size: 33.0693359375 KB\n",
      "Resource sizes: [('/assets/images/icons/common/partyCapIcon.svg', 0.0), ('/assets/images/icons/common/partyFaceIcon.svg', 0.0), ('/assets/images/icons/common/singleGreyArrowIcon.svg', 0.0), ('/assets/images/icons/common/headerGreyLogoIcon.svg', 0.0), ('/assets/images/icons/common/headerGreyLogoIcon.svg', 0.0), ('/assets/images/icons/common/facebookGreyIcon.svg', 0.0), ('/assets/images/icons/common/mediumGreyIcon.svg', 0.0), ('/assets/images/icons/common/instagramGreyIcon.svg', 0.0), ('/assets/images/icons/common/linkedinGreyIcon.svg', 0.0), ('/assets/images/icons/common/twitterGreyIcon.svg', 0.0), ('/assets/images/icons/common/discordGreyIcon.svg', 0.0), ('/assets/images/icons/common/snapchatGreyIcon.svg', 0.0), ('/assets/images/icons/common/youtubeGreyIcon.svg', 0.0), ('/_next/static/chunks/polyfills-5cd94c89d3acac5f.js', 0.0), ('/_next/static/chunks/webpack-e2315b53e504a6de.js', 0.0), ('/_next/static/chunks/framework-79bce4a3a540b080.js', 0.0), ('/_next/static/chunks/main-02d79fe8c2a509ed.js', 0.0), ('/_next/static/chunks/pages/_app-5aa48e6daaf3fe0d.js', 0.0), ('/_next/static/chunks/2905-8aaa955321746aca.js', 0.0), ('/_next/static/chunks/7454-c90862ff3e03df1e.js', 0.0), ('/_next/static/chunks/pages/privacy-96cc3690295b6f0d.js', 0.0), ('/_next/static/OnBp0dXLpVOYqcPmAsImr/_buildManifest.js', 0.0), ('/_next/static/OnBp0dXLpVOYqcPmAsImr/_ssgManifest.js', 0.0), ('/_next/static/OnBp0dXLpVOYqcPmAsImr/_middlewareManifest.js', 0.0), ('/_next/static/css/6238d6cccf041c98.css', 0.0), ('/_next/static/css/30cb866e646997e9.css', 0.0)]\n",
      "Analyzing 520 of 523: https://famapp.in/terms\n",
      "Page size: 54.8271484375 KB\n",
      "Resource sizes: [('/assets/images/icons/common/partyCapIcon.svg', 0.0), ('/assets/images/icons/common/partyFaceIcon.svg', 0.0), ('/assets/images/icons/common/singleGreyArrowIcon.svg', 0.0), ('/assets/images/icons/common/headerGreyLogoIcon.svg', 0.0), ('/assets/images/icons/common/headerGreyLogoIcon.svg', 0.0), ('/assets/images/icons/common/facebookGreyIcon.svg', 0.0), ('/assets/images/icons/common/mediumGreyIcon.svg', 0.0), ('/assets/images/icons/common/instagramGreyIcon.svg', 0.0), ('/assets/images/icons/common/linkedinGreyIcon.svg', 0.0), ('/assets/images/icons/common/twitterGreyIcon.svg', 0.0), ('/assets/images/icons/common/discordGreyIcon.svg', 0.0), ('/assets/images/icons/common/snapchatGreyIcon.svg', 0.0), ('/assets/images/icons/common/youtubeGreyIcon.svg', 0.0), ('/_next/static/chunks/polyfills-5cd94c89d3acac5f.js', 0.0), ('/_next/static/chunks/webpack-e2315b53e504a6de.js', 0.0), ('/_next/static/chunks/framework-79bce4a3a540b080.js', 0.0), ('/_next/static/chunks/main-02d79fe8c2a509ed.js', 0.0), ('/_next/static/chunks/pages/_app-5aa48e6daaf3fe0d.js', 0.0), ('/_next/static/chunks/2905-8aaa955321746aca.js', 0.0), ('/_next/static/chunks/7454-c90862ff3e03df1e.js', 0.0), ('/_next/static/chunks/pages/terms-87d410dfeca1b114.js', 0.0), ('/_next/static/OnBp0dXLpVOYqcPmAsImr/_buildManifest.js', 0.0), ('/_next/static/OnBp0dXLpVOYqcPmAsImr/_ssgManifest.js', 0.0), ('/_next/static/OnBp0dXLpVOYqcPmAsImr/_middlewareManifest.js', 0.0), ('/_next/static/css/6238d6cccf041c98.css', 0.0), ('/_next/static/css/84e4611a737e9413.css', 0.0)]\n",
      "Analyzing 521 of 523: https://famapp.in/contact\n",
      "Page size: 14.6416015625 KB\n",
      "Resource sizes: [('/assets/images/icons/common/partyCapIcon.svg', 0.0), ('/assets/images/icons/common/partyFaceIcon.svg', 0.0), ('/assets/images/icons/common/singleGreyArrowIcon.svg', 0.0), ('/assets/images/icons/common/headerGreyLogoIcon.svg', 0.0), ('/assets/images/icons/common/headerGreyLogoIcon.svg', 0.0), ('/assets/images/icons/common/facebookGreyIcon.svg', 0.0), ('/assets/images/icons/common/mediumGreyIcon.svg', 0.0), ('/assets/images/icons/common/instagramGreyIcon.svg', 0.0), ('/assets/images/icons/common/linkedinGreyIcon.svg', 0.0), ('/assets/images/icons/common/twitterGreyIcon.svg', 0.0), ('/assets/images/icons/common/discordGreyIcon.svg', 0.0), ('/assets/images/icons/common/snapchatGreyIcon.svg', 0.0), ('/assets/images/icons/common/youtubeGreyIcon.svg', 0.0), ('/_next/static/chunks/polyfills-5cd94c89d3acac5f.js', 0.0), ('/_next/static/chunks/webpack-e2315b53e504a6de.js', 0.0), ('/_next/static/chunks/framework-79bce4a3a540b080.js', 0.0), ('/_next/static/chunks/main-02d79fe8c2a509ed.js', 0.0), ('/_next/static/chunks/pages/_app-5aa48e6daaf3fe0d.js', 0.0), ('/_next/static/chunks/2905-8aaa955321746aca.js', 0.0), ('/_next/static/chunks/8764-dbd95fd81c44c3e6.js', 0.0), ('/_next/static/chunks/9669-ea1b006ae648290c.js', 0.0), ('/_next/static/chunks/4853-cbbfd48281119e55.js', 0.0), ('/_next/static/chunks/7454-c90862ff3e03df1e.js', 0.0), ('/_next/static/chunks/pages/contact-f5c33c3dbb2ad22a.js', 0.0), ('/_next/static/OnBp0dXLpVOYqcPmAsImr/_buildManifest.js', 0.0), ('/_next/static/OnBp0dXLpVOYqcPmAsImr/_ssgManifest.js', 0.0), ('/_next/static/OnBp0dXLpVOYqcPmAsImr/_middlewareManifest.js', 0.0), ('/_next/static/css/6238d6cccf041c98.css', 0.0), ('/_next/static/css/e409167f9e607d38.css', 0.0)]\n",
      "Analyzing 522 of 523: https://www.instagram.com/fam.india/\n",
      "Page size: 312.2001953125 KB\n",
      "Resource sizes: [('data:image/png;base64,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', 0.0), ('data:image/png;base64,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', 0.0), ('https://static.cdninstagram.com/rsrc.php/v3/yF/r/UGiI8JPAG4g.js?_nc_x=Ij3Wp8lg5Kz', 73.2021484375), ('https://static.cdninstagram.com/rsrc.php/v3iKt64/yq/l/en_US/WuQ6ssx3D5R6B1_uMLV4kDe1BUfiZYPKDxAlS1J3g5OINnFgQzcr75YA3cXYCBTKTwWu0tl_U2vuo6GRi5wzdxeUaJ_imjBVheqwG-6XemuMpVna2HqGMMrINF5p0zgErWSOn1F8NvoaxFk-j2J2UeJxx_.js?_nc_x=Ij3Wp8lg5Kz', 777.7919921875), ('https://static.cdninstagram.com/rsrc.php/v3i-Ad4/yn/l/en_US/2eHVT98U-PL_yfEtAlxOBS3zLvzXFNTmceUK5r2vRhb9e3ZB7KM6SAsGYNV2vggSuP-WzKjBGIEmwED68KFpIEzI0SxSQxjA8rcLd_WJpUmarIEKg-GNk9tZI8Bl2bmn551VYojj7aSfL8UTv6kMGlYO0tP087Opo3FC6SsTf8IFWGGMgW296g0itZZl4S9TPgcmF3IohmRQ2b689sIcNz5Fd-7qpKNtD65R1nEsrzLL3gtdIOWtmw1z4KICpWcKJEeLSoILISE7f2rGDZjIOVtds0DcQrrQVZ5A_gvO-vsWqehdEtWwJbsRr4lFiLIDQVEH-g-FDC.js?_nc_x=Ij3Wp8lg5Kz', 106.3193359375), ('https://static.cdninstagram.com/rsrc.php/v3iwUT4/yz/l/en_US/RenqQlMBiIc.js?_nc_x=Ij3Wp8lg5Kz', 523.6865234375), ('https://static.cdninstagram.com/rsrc.php/v3idBq4/yy/l/en_US/j6escAZYAkS.js?_nc_x=Ij3Wp8lg5Kz', 8.8447265625), ('https://static.cdninstagram.com/rsrc.php/v3/y5/r/Brqo5LcMGNg.js?_nc_x=Ij3Wp8lg5Kz', 53.552734375), ('https://static.cdninstagram.com/rsrc.php/v3/yR/l/0,cross/tzj0pMZ6xRiIpzSENsoegaHXjO_ff2gCNxMi3M3-CAHoXqh7xyVs7TQ.css?_nc_x=Ij3Wp8lg5Kz', 115.859375), ('data:text/css; charset=utf-8;base64,Ym9keS5fYTN3ZntiYWNrZ3JvdW5kOnJnYih2YXIoLS1pZy1wcmltYXJ5LWJhY2tncm91bmQpKTtjb2xvcjpyZ2IodmFyKC0taWctcHJpbWFyeS10ZXh0KSk7Zm9udC1mYW1pbHk6dmFyKC0tZm9udC1mYW1pbHktc3lzdGVtKTtmb250LXNpemU6dmFyKC0tc3lzdGVtLTE0LWZvbnQtc2l6ZSk7bGluZS1oZWlnaHQ6dmFyKC0tc3lzdGVtLTE0LWxpbmUtaGVpZ2h0KTttYXJnaW46MDtvdmVyZmxvdy15OnZpc2libGV9I2Jvb3Rsb2FkZXJfRm00Y3JmcHtoZWlnaHQ6NDJweDt9LmJvb3Rsb2FkZXJfRm00Y3JmcHtkaXNwbGF5OmJsb2NrIWltcG9ydGFudDt9', 0.0)]\n",
      "Analyzing 523 of 523: https://www.linkedin.com/company/famindia/\n",
      "Page size: 1.494140625 KB\n",
      "Resource sizes: []\n",
      "Analysis results saved to 'resources.csv'.\n"
     ]
    }
   ],
   "source": [
    "# Analyze each link in the DataFrame\n",
    "for index, row in df.iterrows():\n",
    "\n",
    "    print(f\"Analyzing {index + 1} of {len(df)}: {row['Link']}\") # type: ignore\n",
    "\n",
    "    link = row['Link']\n",
    "    page_size = get_page_size(link)\n",
    "    resource_sizes = analyze_resources(link)\n",
    "    \n",
    "    # Update the DataFrame with the results\n",
    "    df.at[index, 'Page Size (KB)'] = page_size\n",
    "    df.at[index, 'Resource Sizes'] = resource_sizes\n",
    "\n",
    "    print(f\"Page size: {page_size} KB\")\n",
    "    print(f\"Resource sizes: {resource_sizes}\")\n",
    "\n",
    "    # Save the DataFrame to a new CSV file\n",
    "    df.to_csv(output_csv, index=False)\n",
    "\n",
    "print(f\"Analysis results saved to '{output_csv}'.\")"
   ]
  },
  {
   "cell_type": "code",
   "execution_count": 41,
   "metadata": {},
   "outputs": [],
   "source": [
    "# Load the data\n",
    "df = pd.read_csv('resources.csv')\n",
    "\n",
    "# Convert the 'Resource Sizes' column from string to a list of tuples\n",
    "df['Resource Sizes'] = df['Resource Sizes'].apply(ast.literal_eval)\n",
    "\n",
    "# Compute the total resource size and number of resources for each page\n",
    "df['Total Resource Size (KB)'] = df['Resource Sizes'].apply(lambda x: sum(size for url, size in x))\n",
    "df['Resource Count'] = df['Resource Sizes'].apply(len)"
   ]
  },
  {
   "cell_type": "code",
   "execution_count": 53,
   "metadata": {},
   "outputs": [
    {
     "data": {
      "application/vnd.plotly.v1+json": {
       "config": {
        "plotlyServerURL": "https://plot.ly"
       },
       "data": [
        {
         "alignmentgroup": "True",
         "bingroup": "x",
         "hovertemplate": "Page Size (KB)=%{x}<br>count=%{y}<extra></extra>",
         "legendgroup": "",
         "marker": {
          "color": "#636efa",
          "pattern": {
           "shape": ""
          }
         },
         "name": "",
         "offsetgroup": "",
         "orientation": "v",
         "showlegend": false,
         "type": "histogram",
         "x": [
          32.552734375,
          32.552734375,
          32.552734375,
          81.1337890625,
          36.6396484375,
          37.0634765625,
          40.7919921875,
          41.623046875,
          39.755859375,
          43.65234375,
          44.4677734375,
          23.5244140625,
          34.7841796875,
          36.8388671875,
          43.2724609375,
          42.822265625,
          43.705078125,
          41.19921875,
          45.087890625,
          42.861328125,
          43.8046875,
          42.1337890625,
          41.5458984375,
          42.724609375,
          22.916015625,
          33.3154296875,
          44.33203125,
          40.9990234375,
          38.7138671875,
          45.3173828125,
          44.62890625,
          40.529296875,
          40.5927734375,
          37.5068359375,
          40.75390625,
          24.7421875,
          42.2734375,
          40.0205078125,
          23.462890625,
          44.630859375,
          23.5654296875,
          44.609375,
          23.43359375,
          56.376953125,
          41.857421875,
          23.5869140625,
          35.306640625,
          30.162109375,
          45.3759765625,
          49.4111328125,
          23.4169921875,
          32.498046875,
          47.44921875,
          44.9775390625,
          40.5654296875,
          42.27734375,
          36.1044921875,
          43.10546875,
          23.5302734375,
          42.5419921875,
          23.8271484375,
          41.884765625,
          23.5166015625,
          45.0908203125,
          23.4638671875,
          48.61328125,
          23.43359375,
          47.2783203125,
          23.4765625,
          43.04296875,
          23.3759765625,
          24.853515625,
          36.31640625,
          41.4248046875,
          51.251953125,
          34.529296875,
          33.4541015625,
          40.12109375,
          44.2236328125,
          35.9521484375,
          43.708984375,
          45.39453125,
          44.3310546875,
          23.4169921875,
          42.482421875,
          23.48046875,
          41.2138671875,
          42.9814453125,
          40.4560546875,
          23.4853515625,
          41.404296875,
          27.3720703125,
          32.951171875,
          41.3701171875,
          23.5234375,
          37.3115234375,
          40.439453125,
          23.5439453125,
          53.275390625,
          165.5419921875,
          17.1962890625,
          167.810546875,
          69.7685546875,
          36.1181640625,
          35.046875,
          45.0615234375,
          165.337890625,
          17.0478515625,
          167.810546875,
          46.341796875,
          165.22265625,
          16.9501953125,
          167.810546875,
          39.7978515625,
          165.3623046875,
          16.9931640625,
          167.810546875,
          43.0458984375,
          165.4951171875,
          17.123046875,
          167.810546875,
          40.28515625,
          165.390625,
          17.0732421875,
          167.810546875,
          39.1357421875,
          165.345703125,
          17.0341796875,
          167.810546875,
          39.8876953125,
          165.400390625,
          16.9521484375,
          167.810546875,
          42.8212890625,
          165.3896484375,
          17.12109375,
          167.810546875,
          39.5654296875,
          165.4931640625,
          17.1142578125,
          167.810546875,
          34.6982421875,
          34.6455078125,
          311.5439453125,
          1.494140625,
          22.8056640625,
          312.158203125,
          239.5205078125,
          25.775390625,
          19.181640625,
          36.6396484375,
          21.89453125,
          33.0693359375,
          54.8271484375,
          14.6416015625,
          81.1337890625,
          36.6396484375,
          30.162109375,
          43.65234375,
          165.3681640625,
          16.9296875,
          168.05859375,
          41.623046875,
          165.47265625,
          17.1025390625,
          167.810546875,
          44.4677734375,
          165.3505859375,
          16.9912109375,
          167.810546875,
          45.3759765625,
          165.2080078125,
          16.9384765625,
          167.810546875,
          49.4111328125,
          165.16015625,
          16.904296875,
          167.810546875,
          32.498046875,
          47.44921875,
          165.5556640625,
          17.1845703125,
          167.810546875,
          41.857421875,
          165.5400390625,
          17.02734375,
          167.810546875,
          44.9775390625,
          165.373046875,
          16.9931640625,
          168.05859375,
          40.5654296875,
          165.142578125,
          16.8837890625,
          167.810546875,
          42.27734375,
          165.4111328125,
          17.0888671875,
          167.810546875,
          37.5068359375,
          40.75390625,
          165.3896484375,
          17.02734375,
          167.810546875,
          42.2734375,
          165.2412109375,
          16.9521484375,
          167.810546875,
          40.0205078125,
          165.357421875,
          17.041015625,
          168.0166015625,
          44.630859375,
          165.5283203125,
          17.150390625,
          167.810546875,
          44.609375,
          165.2763671875,
          16.986328125,
          167.810546875,
          1.494140625,
          56.376953125,
          165.27734375,
          16.9775390625,
          167.810546875,
          35.306640625,
          43.10546875,
          165.458984375,
          17.08203125,
          167.810546875,
          42.5419921875,
          165.3525390625,
          17.02734375,
          167.810546875,
          41.884765625,
          165.3388671875,
          16.9794921875,
          167.810546875,
          45.0908203125,
          165.306640625,
          17.0478515625,
          167.810546875,
          44.3310546875,
          165.2646484375,
          16.9658203125,
          167.810546875,
          54.9326171875,
          46.37890625,
          42.482421875,
          165.568359375,
          17.0478515625,
          167.86328125,
          20.0771484375,
          45.775390625,
          48.61328125,
          165.40625,
          17.0751953125,
          167.810546875,
          47.2783203125,
          165.638671875,
          17.2119140625,
          167.810546875,
          303.72265625,
          40.4560546875,
          165.443359375,
          17.0888671875,
          168.265625,
          29.7353515625,
          43.04296875,
          46.37890625,
          70.6064453125,
          36.1044921875,
          24.853515625,
          36.31640625,
          40.7919921875,
          165.5283203125,
          17.1435546875,
          168.7158203125,
          41.4248046875,
          165.3466796875,
          17.0390625,
          168.05859375,
          51.251953125,
          165.7783203125,
          17.30078125,
          167.810546875,
          34.529296875,
          41.9375,
          165.6220703125,
          17.041015625,
          168.0693359375,
          40.8818359375,
          165.255859375,
          16.9775390625,
          168.0166015625,
          42.697265625,
          165.4794921875,
          17.1572265625,
          168.05859375,
          43.5234375,
          165.48828125,
          17.0615234375,
          167.810546875,
          46.23046875,
          165.7607421875,
          17.1435546875,
          167.810546875,
          44.05078125,
          165.6806640625,
          17.1572265625,
          167.86328125,
          30.951171875,
          44.462890625,
          165.544921875,
          17.134765625,
          167.810546875,
          46.2607421875,
          165.474609375,
          17.109375,
          167.810546875,
          43.3564453125,
          43.6865234375,
          165.78125,
          17.2939453125,
          167.810546875,
          46.359375,
          165.345703125,
          17.0478515625,
          168.1552734375,
          24.96875,
          43.3564453125,
          42.9931640625,
          138.8984375,
          33.3154296875,
          44.33203125,
          165.4423828125,
          17.134765625,
          167.810546875,
          40.9990234375,
          165.57421875,
          17.1982421875,
          167.810546875,
          0.115234375,
          0.115234375,
          38.7138671875,
          165.5205078125,
          17.123046875,
          167.810546875,
          45.3173828125,
          165.998046875,
          17.697265625,
          167.810546875,
          44.62890625,
          165.85546875,
          17.4169921875,
          167.810546875,
          40.529296875,
          165.4482421875,
          17.109375,
          167.810546875,
          32.552734375,
          81.1337890625,
          36.6396484375,
          22.8056640625,
          25.775390625,
          19.181640625,
          36.6396484375,
          21.89453125,
          33.0693359375,
          54.8271484375,
          14.6416015625,
          40.5927734375,
          165.5908203125,
          17.19140625,
          167.810546875,
          36.8388671875,
          43.2724609375,
          165.7431640625,
          17.33984375,
          167.810546875,
          42.822265625,
          165.6103515625,
          17.2578125,
          168.015625,
          43.705078125,
          165.3603515625,
          17.08203125,
          167.810546875,
          41.19921875,
          165.62890625,
          17.2734375,
          168.015625,
          45.087890625,
          165.4423828125,
          17.0205078125,
          167.810546875,
          42.861328125,
          165.4814453125,
          17.17578125,
          167.810546875,
          43.8046875,
          165.5400390625,
          17.205078125,
          167.810546875,
          42.1337890625,
          165.275390625,
          17.013671875,
          167.810546875,
          41.5458984375,
          165.2744140625,
          16.9931640625,
          167.810546875,
          42.724609375,
          165.3408203125,
          17.068359375,
          167.810546875,
          22.916015625,
          43.5390625,
          165.4892578125,
          17.1640625,
          168.015625,
          33.4541015625,
          40.12109375,
          165.3720703125,
          17.0546875,
          167.810546875,
          44.2236328125,
          165.5830078125,
          17.205078125,
          168.015625,
          35.9521484375,
          39.755859375,
          165.419921875,
          16.931640625,
          167.810546875,
          43.708984375,
          165.607421875,
          17.150390625,
          167.810546875,
          45.39453125,
          165.5625,
          17.1708984375,
          168.015625,
          41.9375,
          41.2138671875,
          165.16796875,
          16.8974609375,
          167.810546875,
          42.9814453125,
          165.7216796875,
          17.19140625,
          167.810546875,
          41.404296875,
          165.3720703125,
          17.041015625,
          167.810546875,
          40.6416015625,
          165.27734375,
          17.02734375,
          167.810546875,
          76.845703125,
          27.3720703125,
          40.6416015625,
          45.775390625,
          165.44921875,
          17.095703125,
          167.86328125,
          40.01953125,
          165.3505859375,
          16.9453125,
          167.810546875,
          54.9326171875,
          165.4384765625,
          17.052734375,
          167.810546875,
          76.845703125,
          165.3369140625,
          17.013671875,
          167.86328125,
          32.951171875,
          41.3701171875,
          165.4365234375,
          17.13671875,
          167.810546875,
          16.703125,
          16.703125,
          16.703125,
          16.703125,
          16.703125,
          16.703125,
          16.703125,
          16.703125,
          16.703125,
          16.703125,
          16.703125,
          40.439453125,
          165.26953125,
          17.0205078125,
          167.810546875,
          53.275390625,
          45.0615234375,
          46.341796875,
          39.7978515625,
          43.0458984375,
          40.28515625,
          39.1357421875,
          39.8876953125,
          42.8212890625,
          39.5654296875,
          34.6982421875,
          34.6455078125,
          34.587890625,
          34.775390625,
          22.8056640625,
          25.775390625,
          19.181640625,
          36.6396484375,
          21.89453125,
          33.0693359375,
          54.8271484375,
          14.6416015625,
          312.2001953125,
          1.494140625
         ],
         "xaxis": "x",
         "yaxis": "y"
        }
       ],
       "layout": {
        "barmode": "relative",
        "legend": {
         "tracegroupgap": 0
        },
        "margin": {
         "t": 60
        },
        "template": {
         "data": {
          "bar": [
           {
            "error_x": {
             "color": "#2a3f5f"
            },
            "error_y": {
             "color": "#2a3f5f"
            },
            "marker": {
             "line": {
              "color": "#E5ECF6",
              "width": 0.5
             },
             "pattern": {
              "fillmode": "overlay",
              "size": 10,
              "solidity": 0.2
             }
            },
            "type": "bar"
           }
          ],
          "barpolar": [
           {
            "marker": {
             "line": {
              "color": "#E5ECF6",
              "width": 0.5
             },
             "pattern": {
              "fillmode": "overlay",
              "size": 10,
              "solidity": 0.2
             }
            },
            "type": "barpolar"
           }
          ],
          "carpet": [
           {
            "aaxis": {
             "endlinecolor": "#2a3f5f",
             "gridcolor": "white",
             "linecolor": "white",
             "minorgridcolor": "white",
             "startlinecolor": "#2a3f5f"
            },
            "baxis": {
             "endlinecolor": "#2a3f5f",
             "gridcolor": "white",
             "linecolor": "white",
             "minorgridcolor": "white",
             "startlinecolor": "#2a3f5f"
            },
            "type": "carpet"
           }
          ],
          "choropleth": [
           {
            "colorbar": {
             "outlinewidth": 0,
             "ticks": ""
            },
            "type": "choropleth"
           }
          ],
          "contour": [
           {
            "colorbar": {
             "outlinewidth": 0,
             "ticks": ""
            },
            "colorscale": [
             [
              0,
              "#0d0887"
             ],
             [
              0.1111111111111111,
              "#46039f"
             ],
             [
              0.2222222222222222,
              "#7201a8"
             ],
             [
              0.3333333333333333,
              "#9c179e"
             ],
             [
              0.4444444444444444,
              "#bd3786"
             ],
             [
              0.5555555555555556,
              "#d8576b"
             ],
             [
              0.6666666666666666,
              "#ed7953"
             ],
             [
              0.7777777777777778,
              "#fb9f3a"
             ],
             [
              0.8888888888888888,
              "#fdca26"
             ],
             [
              1,
              "#f0f921"
             ]
            ],
            "type": "contour"
           }
          ],
          "contourcarpet": [
           {
            "colorbar": {
             "outlinewidth": 0,
             "ticks": ""
            },
            "type": "contourcarpet"
           }
          ],
          "heatmap": [
           {
            "colorbar": {
             "outlinewidth": 0,
             "ticks": ""
            },
            "colorscale": [
             [
              0,
              "#0d0887"
             ],
             [
              0.1111111111111111,
              "#46039f"
             ],
             [
              0.2222222222222222,
              "#7201a8"
             ],
             [
              0.3333333333333333,
              "#9c179e"
             ],
             [
              0.4444444444444444,
              "#bd3786"
             ],
             [
              0.5555555555555556,
              "#d8576b"
             ],
             [
              0.6666666666666666,
              "#ed7953"
             ],
             [
              0.7777777777777778,
              "#fb9f3a"
             ],
             [
              0.8888888888888888,
              "#fdca26"
             ],
             [
              1,
              "#f0f921"
             ]
            ],
            "type": "heatmap"
           }
          ],
          "heatmapgl": [
           {
            "colorbar": {
             "outlinewidth": 0,
             "ticks": ""
            },
            "colorscale": [
             [
              0,
              "#0d0887"
             ],
             [
              0.1111111111111111,
              "#46039f"
             ],
             [
              0.2222222222222222,
              "#7201a8"
             ],
             [
              0.3333333333333333,
              "#9c179e"
             ],
             [
              0.4444444444444444,
              "#bd3786"
             ],
             [
              0.5555555555555556,
              "#d8576b"
             ],
             [
              0.6666666666666666,
              "#ed7953"
             ],
             [
              0.7777777777777778,
              "#fb9f3a"
             ],
             [
              0.8888888888888888,
              "#fdca26"
             ],
             [
              1,
              "#f0f921"
             ]
            ],
            "type": "heatmapgl"
           }
          ],
          "histogram": [
           {
            "marker": {
             "pattern": {
              "fillmode": "overlay",
              "size": 10,
              "solidity": 0.2
             }
            },
            "type": "histogram"
           }
          ],
          "histogram2d": [
           {
            "colorbar": {
             "outlinewidth": 0,
             "ticks": ""
            },
            "colorscale": [
             [
              0,
              "#0d0887"
             ],
             [
              0.1111111111111111,
              "#46039f"
             ],
             [
              0.2222222222222222,
              "#7201a8"
             ],
             [
              0.3333333333333333,
              "#9c179e"
             ],
             [
              0.4444444444444444,
              "#bd3786"
             ],
             [
              0.5555555555555556,
              "#d8576b"
             ],
             [
              0.6666666666666666,
              "#ed7953"
             ],
             [
              0.7777777777777778,
              "#fb9f3a"
             ],
             [
              0.8888888888888888,
              "#fdca26"
             ],
             [
              1,
              "#f0f921"
             ]
            ],
            "type": "histogram2d"
           }
          ],
          "histogram2dcontour": [
           {
            "colorbar": {
             "outlinewidth": 0,
             "ticks": ""
            },
            "colorscale": [
             [
              0,
              "#0d0887"
             ],
             [
              0.1111111111111111,
              "#46039f"
             ],
             [
              0.2222222222222222,
              "#7201a8"
             ],
             [
              0.3333333333333333,
              "#9c179e"
             ],
             [
              0.4444444444444444,
              "#bd3786"
             ],
             [
              0.5555555555555556,
              "#d8576b"
             ],
             [
              0.6666666666666666,
              "#ed7953"
             ],
             [
              0.7777777777777778,
              "#fb9f3a"
             ],
             [
              0.8888888888888888,
              "#fdca26"
             ],
             [
              1,
              "#f0f921"
             ]
            ],
            "type": "histogram2dcontour"
           }
          ],
          "mesh3d": [
           {
            "colorbar": {
             "outlinewidth": 0,
             "ticks": ""
            },
            "type": "mesh3d"
           }
          ],
          "parcoords": [
           {
            "line": {
             "colorbar": {
              "outlinewidth": 0,
              "ticks": ""
             }
            },
            "type": "parcoords"
           }
          ],
          "pie": [
           {
            "automargin": true,
            "type": "pie"
           }
          ],
          "scatter": [
           {
            "fillpattern": {
             "fillmode": "overlay",
             "size": 10,
             "solidity": 0.2
            },
            "type": "scatter"
           }
          ],
          "scatter3d": [
           {
            "line": {
             "colorbar": {
              "outlinewidth": 0,
              "ticks": ""
             }
            },
            "marker": {
             "colorbar": {
              "outlinewidth": 0,
              "ticks": ""
             }
            },
            "type": "scatter3d"
           }
          ],
          "scattercarpet": [
           {
            "marker": {
             "colorbar": {
              "outlinewidth": 0,
              "ticks": ""
             }
            },
            "type": "scattercarpet"
           }
          ],
          "scattergeo": [
           {
            "marker": {
             "colorbar": {
              "outlinewidth": 0,
              "ticks": ""
             }
            },
            "type": "scattergeo"
           }
          ],
          "scattergl": [
           {
            "marker": {
             "colorbar": {
              "outlinewidth": 0,
              "ticks": ""
             }
            },
            "type": "scattergl"
           }
          ],
          "scattermapbox": [
           {
            "marker": {
             "colorbar": {
              "outlinewidth": 0,
              "ticks": ""
             }
            },
            "type": "scattermapbox"
           }
          ],
          "scatterpolar": [
           {
            "marker": {
             "colorbar": {
              "outlinewidth": 0,
              "ticks": ""
             }
            },
            "type": "scatterpolar"
           }
          ],
          "scatterpolargl": [
           {
            "marker": {
             "colorbar": {
              "outlinewidth": 0,
              "ticks": ""
             }
            },
            "type": "scatterpolargl"
           }
          ],
          "scatterternary": [
           {
            "marker": {
             "colorbar": {
              "outlinewidth": 0,
              "ticks": ""
             }
            },
            "type": "scatterternary"
           }
          ],
          "surface": [
           {
            "colorbar": {
             "outlinewidth": 0,
             "ticks": ""
            },
            "colorscale": [
             [
              0,
              "#0d0887"
             ],
             [
              0.1111111111111111,
              "#46039f"
             ],
             [
              0.2222222222222222,
              "#7201a8"
             ],
             [
              0.3333333333333333,
              "#9c179e"
             ],
             [
              0.4444444444444444,
              "#bd3786"
             ],
             [
              0.5555555555555556,
              "#d8576b"
             ],
             [
              0.6666666666666666,
              "#ed7953"
             ],
             [
              0.7777777777777778,
              "#fb9f3a"
             ],
             [
              0.8888888888888888,
              "#fdca26"
             ],
             [
              1,
              "#f0f921"
             ]
            ],
            "type": "surface"
           }
          ],
          "table": [
           {
            "cells": {
             "fill": {
              "color": "#EBF0F8"
             },
             "line": {
              "color": "white"
             }
            },
            "header": {
             "fill": {
              "color": "#C8D4E3"
             },
             "line": {
              "color": "white"
             }
            },
            "type": "table"
           }
          ]
         },
         "layout": {
          "annotationdefaults": {
           "arrowcolor": "#2a3f5f",
           "arrowhead": 0,
           "arrowwidth": 1
          },
          "autotypenumbers": "strict",
          "coloraxis": {
           "colorbar": {
            "outlinewidth": 0,
            "ticks": ""
           }
          },
          "colorscale": {
           "diverging": [
            [
             0,
             "#8e0152"
            ],
            [
             0.1,
             "#c51b7d"
            ],
            [
             0.2,
             "#de77ae"
            ],
            [
             0.3,
             "#f1b6da"
            ],
            [
             0.4,
             "#fde0ef"
            ],
            [
             0.5,
             "#f7f7f7"
            ],
            [
             0.6,
             "#e6f5d0"
            ],
            [
             0.7,
             "#b8e186"
            ],
            [
             0.8,
             "#7fbc41"
            ],
            [
             0.9,
             "#4d9221"
            ],
            [
             1,
             "#276419"
            ]
           ],
           "sequential": [
            [
             0,
             "#0d0887"
            ],
            [
             0.1111111111111111,
             "#46039f"
            ],
            [
             0.2222222222222222,
             "#7201a8"
            ],
            [
             0.3333333333333333,
             "#9c179e"
            ],
            [
             0.4444444444444444,
             "#bd3786"
            ],
            [
             0.5555555555555556,
             "#d8576b"
            ],
            [
             0.6666666666666666,
             "#ed7953"
            ],
            [
             0.7777777777777778,
             "#fb9f3a"
            ],
            [
             0.8888888888888888,
             "#fdca26"
            ],
            [
             1,
             "#f0f921"
            ]
           ],
           "sequentialminus": [
            [
             0,
             "#0d0887"
            ],
            [
             0.1111111111111111,
             "#46039f"
            ],
            [
             0.2222222222222222,
             "#7201a8"
            ],
            [
             0.3333333333333333,
             "#9c179e"
            ],
            [
             0.4444444444444444,
             "#bd3786"
            ],
            [
             0.5555555555555556,
             "#d8576b"
            ],
            [
             0.6666666666666666,
             "#ed7953"
            ],
            [
             0.7777777777777778,
             "#fb9f3a"
            ],
            [
             0.8888888888888888,
             "#fdca26"
            ],
            [
             1,
             "#f0f921"
            ]
           ]
          },
          "colorway": [
           "#636efa",
           "#EF553B",
           "#00cc96",
           "#ab63fa",
           "#FFA15A",
           "#19d3f3",
           "#FF6692",
           "#B6E880",
           "#FF97FF",
           "#FECB52"
          ],
          "font": {
           "color": "#2a3f5f"
          },
          "geo": {
           "bgcolor": "white",
           "lakecolor": "white",
           "landcolor": "#E5ECF6",
           "showlakes": true,
           "showland": true,
           "subunitcolor": "white"
          },
          "hoverlabel": {
           "align": "left"
          },
          "hovermode": "closest",
          "mapbox": {
           "style": "light"
          },
          "paper_bgcolor": "white",
          "plot_bgcolor": "#E5ECF6",
          "polar": {
           "angularaxis": {
            "gridcolor": "white",
            "linecolor": "white",
            "ticks": ""
           },
           "bgcolor": "#E5ECF6",
           "radialaxis": {
            "gridcolor": "white",
            "linecolor": "white",
            "ticks": ""
           }
          },
          "scene": {
           "xaxis": {
            "backgroundcolor": "#E5ECF6",
            "gridcolor": "white",
            "gridwidth": 2,
            "linecolor": "white",
            "showbackground": true,
            "ticks": "",
            "zerolinecolor": "white"
           },
           "yaxis": {
            "backgroundcolor": "#E5ECF6",
            "gridcolor": "white",
            "gridwidth": 2,
            "linecolor": "white",
            "showbackground": true,
            "ticks": "",
            "zerolinecolor": "white"
           },
           "zaxis": {
            "backgroundcolor": "#E5ECF6",
            "gridcolor": "white",
            "gridwidth": 2,
            "linecolor": "white",
            "showbackground": true,
            "ticks": "",
            "zerolinecolor": "white"
           }
          },
          "shapedefaults": {
           "line": {
            "color": "#2a3f5f"
           }
          },
          "ternary": {
           "aaxis": {
            "gridcolor": "white",
            "linecolor": "white",
            "ticks": ""
           },
           "baxis": {
            "gridcolor": "white",
            "linecolor": "white",
            "ticks": ""
           },
           "bgcolor": "#E5ECF6",
           "caxis": {
            "gridcolor": "white",
            "linecolor": "white",
            "ticks": ""
           }
          },
          "title": {
           "x": 0.05
          },
          "xaxis": {
           "automargin": true,
           "gridcolor": "white",
           "linecolor": "white",
           "ticks": "",
           "title": {
            "standoff": 15
           },
           "zerolinecolor": "white",
           "zerolinewidth": 2
          },
          "yaxis": {
           "automargin": true,
           "gridcolor": "white",
           "linecolor": "white",
           "ticks": "",
           "title": {
            "standoff": 15
           },
           "zerolinecolor": "white",
           "zerolinewidth": 2
          }
         }
        },
        "title": {
         "text": "Page Sizes"
        },
        "xaxis": {
         "anchor": "y",
         "domain": [
          0,
          1
         ],
         "title": {
          "text": "Page Size (KB)"
         }
        },
        "yaxis": {
         "anchor": "x",
         "domain": [
          0,
          1
         ],
         "title": {
          "text": "Count"
         }
        }
       }
      }
     },
     "metadata": {},
     "output_type": "display_data"
    }
   ],
   "source": [
    "# 1. Histogram of Page Sizes\n",
    "fig = px.histogram(df, x='Page Size (KB)')\n",
    "fig.update_layout(title='Page Sizes', xaxis_title='Page Size (KB)', yaxis_title='Count')\n",
    "fig.show()\n",
    "fig.write_html('../../fam-report-site/public/Web-Analytics/page_sizes.html')"
   ]
  },
  {
   "cell_type": "code",
   "execution_count": 54,
   "metadata": {},
   "outputs": [
    {
     "data": {
      "application/vnd.plotly.v1+json": {
       "config": {
        "plotlyServerURL": "https://plot.ly"
       },
       "data": [
        {
         "alignmentgroup": "True",
         "bingroup": "x",
         "hovertemplate": "Total Resource Size (KB)=%{x}<br>count=%{y}<extra></extra>",
         "legendgroup": "",
         "marker": {
          "color": "#636efa",
          "pattern": {
           "shape": ""
          }
         },
         "name": "",
         "offsetgroup": "",
         "orientation": "v",
         "showlegend": false,
         "type": "histogram",
         "x": [
          0,
          9.291015625,
          9.291015625,
          5131.7421875,
          281.9423828125,
          281.8115234375,
          282.5966796875,
          741.53125,
          282.5966796875,
          282.5966796875,
          282.0732421875,
          281.8115234375,
          281.8115234375,
          281.8115234375,
          282.7275390625,
          282.3349609375,
          282.0732421875,
          282.0732421875,
          282.0732421875,
          282.2041015625,
          282.0732421875,
          282.0732421875,
          282.0732421875,
          282.0732421875,
          281.8115234375,
          281.8115234375,
          282.4658203125,
          282.0732421875,
          282.0732421875,
          282.4658203125,
          282.3349609375,
          282.3349609375,
          282.0732421875,
          281.8115234375,
          282.4658203125,
          281.8115234375,
          282.3349609375,
          282.5966796875,
          281.8115234375,
          282.3349609375,
          281.8115234375,
          283.2509765625,
          281.8115234375,
          282.3349609375,
          282.2041015625,
          281.8115234375,
          281.8115234375,
          281.8115234375,
          282.4658203125,
          283.5126953125,
          281.8115234375,
          281.8115234375,
          283.6435546875,
          282.8583984375,
          283.1201171875,
          282.3349609375,
          281.8115234375,
          283.1201171875,
          281.8115234375,
          282.5966796875,
          281.8115234375,
          282.7275390625,
          281.8115234375,
          283.5126953125,
          281.8115234375,
          283.5126953125,
          281.8115234375,
          283.1201171875,
          281.8115234375,
          282.5966796875,
          281.8115234375,
          281.8115234375,
          281.8115234375,
          283.1201171875,
          811.95703125,
          281.8115234375,
          281.8115234375,
          282.0732421875,
          282.3349609375,
          281.8115234375,
          282.5966796875,
          318.04296875,
          283.3818359375,
          281.8115234375,
          282.7275390625,
          281.8115234375,
          282.5966796875,
          282.2041015625,
          282.2041015625,
          281.8115234375,
          283.1201171875,
          281.8115234375,
          281.8115234375,
          282.5966796875,
          281.8115234375,
          281.8115234375,
          282.4658203125,
          281.8115234375,
          7758.0751953125,
          190.0546875,
          0.7900390625,
          812.8291015625,
          102.0517578125,
          281.8115234375,
          281.8115234375,
          282.0732421875,
          190.0546875,
          0.7900390625,
          812.8291015625,
          2820.5126953125,
          190.0546875,
          0.7900390625,
          812.8291015625,
          2447.025390625,
          190.0546875,
          0.7900390625,
          812.8291015625,
          282.9892578125,
          190.0546875,
          0.7900390625,
          812.8291015625,
          282.9892578125,
          190.0546875,
          0.7900390625,
          812.8291015625,
          282.0732421875,
          190.0546875,
          0.7900390625,
          812.8291015625,
          282.5966796875,
          190.0546875,
          0.7900390625,
          812.8291015625,
          282.5966796875,
          190.0546875,
          0.7900390625,
          812.8291015625,
          282.7275390625,
          190.0546875,
          0.7900390625,
          812.8291015625,
          281.9423828125,
          281.9423828125,
          1659.1240234375,
          0,
          5.365234375,
          1659.1240234375,
          1369.494140625,
          6.935546875,
          3.92578125,
          281.9423828125,
          4.841796875,
          3.40234375,
          3.40234375,
          3.794921875,
          5118.39453125,
          280.7646484375,
          280.7646484375,
          281.2880859375,
          190.0546875,
          0.7900390625,
          812.8291015625,
          740.22265625,
          190.0546875,
          0.7900390625,
          812.8291015625,
          280.7646484375,
          190.0546875,
          0.7900390625,
          812.8291015625,
          281.1572265625,
          190.0546875,
          0.7900390625,
          812.8291015625,
          282.2041015625,
          190.0546875,
          0.7900390625,
          812.8291015625,
          280.7646484375,
          282.3349609375,
          190.0546875,
          0.7900390625,
          812.8291015625,
          280.8955078125,
          190.0546875,
          0.7900390625,
          812.8291015625,
          281.5498046875,
          190.0546875,
          0.7900390625,
          812.8291015625,
          281.8115234375,
          190.0546875,
          0.7900390625,
          812.8291015625,
          281.0263671875,
          190.0546875,
          0.7900390625,
          812.8291015625,
          280.7646484375,
          281.1572265625,
          190.0546875,
          0.7900390625,
          812.8291015625,
          281.0263671875,
          190.0546875,
          0.7900390625,
          812.8291015625,
          281.2880859375,
          190.0546875,
          0.7900390625,
          812.8291015625,
          281.0263671875,
          190.0546875,
          0.7900390625,
          812.8291015625,
          281.9423828125,
          190.0546875,
          0.7900390625,
          812.8291015625,
          0,
          281.0263671875,
          190.0546875,
          0.7900390625,
          812.8291015625,
          280.7646484375,
          281.8115234375,
          190.0546875,
          0.7900390625,
          812.8291015625,
          281.2880859375,
          190.0546875,
          0.7900390625,
          812.8291015625,
          281.4189453125,
          190.0546875,
          0.7900390625,
          812.8291015625,
          282.2041015625,
          190.0546875,
          0.7900390625,
          812.8291015625,
          282.0732421875,
          190.0546875,
          0.7900390625,
          812.8291015625,
          282.5966796875,
          282.2041015625,
          281.4189453125,
          190.0546875,
          0.7900390625,
          812.8291015625,
          281.8115234375,
          373.650390625,
          282.2041015625,
          190.0546875,
          0.7900390625,
          812.8291015625,
          281.8115234375,
          190.0546875,
          0.7900390625,
          812.8291015625,
          1414.052734375,
          280.8955078125,
          190.0546875,
          0.7900390625,
          812.8291015625,
          280.7646484375,
          281.2880859375,
          280.8955078125,
          280.8955078125,
          280.7646484375,
          280.7646484375,
          280.7646484375,
          281.2880859375,
          190.0546875,
          0.7900390625,
          812.8291015625,
          281.8115234375,
          190.0546875,
          0.7900390625,
          812.8291015625,
          812.525390625,
          190.0546875,
          0.7900390625,
          812.8291015625,
          280.7646484375,
          281.2880859375,
          190.0546875,
          0.7900390625,
          812.8291015625,
          281.5498046875,
          190.0546875,
          0.7900390625,
          812.8291015625,
          281.5498046875,
          190.0546875,
          0.7900390625,
          812.8291015625,
          280.7646484375,
          190.0546875,
          0.7900390625,
          812.8291015625,
          281.4189453125,
          190.0546875,
          0.7900390625,
          812.8291015625,
          281.2880859375,
          190.0546875,
          0.7900390625,
          812.8291015625,
          61.1943359375,
          282.4658203125,
          190.0546875,
          0.7900390625,
          812.8291015625,
          282.3349609375,
          190.0546875,
          0.7900390625,
          812.8291015625,
          282.7275390625,
          281.4189453125,
          190.0546875,
          0.7900390625,
          812.8291015625,
          281.9423828125,
          190.0546875,
          0.7900390625,
          812.8291015625,
          280.7646484375,
          281.4189453125,
          281.5498046875,
          280.7646484375,
          280.7646484375,
          281.1572265625,
          190.0546875,
          0.7900390625,
          812.8291015625,
          280.7646484375,
          190.0546875,
          0.7900390625,
          812.8291015625,
          0,
          0,
          280.7646484375,
          190.0546875,
          0.7900390625,
          812.8291015625,
          281.1572265625,
          190.0546875,
          0.7900390625,
          812.8291015625,
          281.0263671875,
          190.0546875,
          0.7900390625,
          812.8291015625,
          281.0263671875,
          190.0546875,
          0.7900390625,
          812.8291015625,
          9.291015625,
          5131.7421875,
          281.9423828125,
          5.365234375,
          6.935546875,
          3.92578125,
          281.9423828125,
          4.841796875,
          3.40234375,
          3.40234375,
          3.794921875,
          280.7646484375,
          190.0546875,
          0.7900390625,
          812.8291015625,
          280.7646484375,
          281.4189453125,
          190.0546875,
          0.7900390625,
          812.8291015625,
          281.0263671875,
          190.0546875,
          0.7900390625,
          812.8291015625,
          280.7646484375,
          190.0546875,
          0.7900390625,
          812.8291015625,
          280.7646484375,
          190.0546875,
          0.7900390625,
          812.8291015625,
          280.7646484375,
          190.0546875,
          0.7900390625,
          812.8291015625,
          280.8955078125,
          190.0546875,
          0.7900390625,
          812.8291015625,
          280.7646484375,
          190.0546875,
          0.7900390625,
          812.8291015625,
          280.7646484375,
          190.0546875,
          0.7900390625,
          812.8291015625,
          280.7646484375,
          190.0546875,
          0.7900390625,
          812.8291015625,
          280.7646484375,
          190.0546875,
          0.7900390625,
          812.8291015625,
          280.7646484375,
          280.7646484375,
          190.0546875,
          0.7900390625,
          812.8291015625,
          280.7646484375,
          280.7646484375,
          190.0546875,
          0.7900390625,
          812.8291015625,
          281.0263671875,
          190.0546875,
          0.7900390625,
          812.8291015625,
          280.7646484375,
          281.2880859375,
          190.0546875,
          0.7900390625,
          812.8291015625,
          281.2880859375,
          190.0546875,
          0.7900390625,
          812.8291015625,
          316.79296875,
          190.0546875,
          0.7900390625,
          812.8291015625,
          282.5966796875,
          281.2880859375,
          190.0546875,
          0.7900390625,
          812.8291015625,
          280.8955078125,
          190.0546875,
          0.7900390625,
          812.8291015625,
          281.8115234375,
          190.0546875,
          0.7900390625,
          812.8291015625,
          282.4658203125,
          190.0546875,
          0.7900390625,
          812.8291015625,
          282.9892578125,
          280.7646484375,
          281.1572265625,
          372.341796875,
          190.0546875,
          0.7900390625,
          812.8291015625,
          282.0732421875,
          190.0546875,
          0.7900390625,
          812.8291015625,
          281.0263671875,
          190.0546875,
          0.7900390625,
          812.8291015625,
          281.0263671875,
          190.0546875,
          0.7900390625,
          812.8291015625,
          280.7646484375,
          281.2880859375,
          190.0546875,
          0.7900390625,
          812.8291015625,
          0,
          0,
          0,
          0,
          0,
          0,
          0,
          0,
          0,
          0,
          0,
          281.1572265625,
          190.0546875,
          0.7900390625,
          812.8291015625,
          7756.7666015625,
          280.7646484375,
          2819.2041015625,
          2445.716796875,
          281.6806640625,
          281.6806640625,
          280.7646484375,
          281.2880859375,
          281.2880859375,
          281.4189453125,
          280.7646484375,
          280.7646484375,
          280.7646484375,
          280.7646484375,
          0,
          0,
          0,
          280.7646484375,
          0,
          0,
          0,
          0,
          1659.2568359375,
          0
         ],
         "xaxis": "x",
         "yaxis": "y"
        }
       ],
       "layout": {
        "barmode": "relative",
        "legend": {
         "tracegroupgap": 0
        },
        "margin": {
         "t": 60
        },
        "template": {
         "data": {
          "bar": [
           {
            "error_x": {
             "color": "#2a3f5f"
            },
            "error_y": {
             "color": "#2a3f5f"
            },
            "marker": {
             "line": {
              "color": "#E5ECF6",
              "width": 0.5
             },
             "pattern": {
              "fillmode": "overlay",
              "size": 10,
              "solidity": 0.2
             }
            },
            "type": "bar"
           }
          ],
          "barpolar": [
           {
            "marker": {
             "line": {
              "color": "#E5ECF6",
              "width": 0.5
             },
             "pattern": {
              "fillmode": "overlay",
              "size": 10,
              "solidity": 0.2
             }
            },
            "type": "barpolar"
           }
          ],
          "carpet": [
           {
            "aaxis": {
             "endlinecolor": "#2a3f5f",
             "gridcolor": "white",
             "linecolor": "white",
             "minorgridcolor": "white",
             "startlinecolor": "#2a3f5f"
            },
            "baxis": {
             "endlinecolor": "#2a3f5f",
             "gridcolor": "white",
             "linecolor": "white",
             "minorgridcolor": "white",
             "startlinecolor": "#2a3f5f"
            },
            "type": "carpet"
           }
          ],
          "choropleth": [
           {
            "colorbar": {
             "outlinewidth": 0,
             "ticks": ""
            },
            "type": "choropleth"
           }
          ],
          "contour": [
           {
            "colorbar": {
             "outlinewidth": 0,
             "ticks": ""
            },
            "colorscale": [
             [
              0,
              "#0d0887"
             ],
             [
              0.1111111111111111,
              "#46039f"
             ],
             [
              0.2222222222222222,
              "#7201a8"
             ],
             [
              0.3333333333333333,
              "#9c179e"
             ],
             [
              0.4444444444444444,
              "#bd3786"
             ],
             [
              0.5555555555555556,
              "#d8576b"
             ],
             [
              0.6666666666666666,
              "#ed7953"
             ],
             [
              0.7777777777777778,
              "#fb9f3a"
             ],
             [
              0.8888888888888888,
              "#fdca26"
             ],
             [
              1,
              "#f0f921"
             ]
            ],
            "type": "contour"
           }
          ],
          "contourcarpet": [
           {
            "colorbar": {
             "outlinewidth": 0,
             "ticks": ""
            },
            "type": "contourcarpet"
           }
          ],
          "heatmap": [
           {
            "colorbar": {
             "outlinewidth": 0,
             "ticks": ""
            },
            "colorscale": [
             [
              0,
              "#0d0887"
             ],
             [
              0.1111111111111111,
              "#46039f"
             ],
             [
              0.2222222222222222,
              "#7201a8"
             ],
             [
              0.3333333333333333,
              "#9c179e"
             ],
             [
              0.4444444444444444,
              "#bd3786"
             ],
             [
              0.5555555555555556,
              "#d8576b"
             ],
             [
              0.6666666666666666,
              "#ed7953"
             ],
             [
              0.7777777777777778,
              "#fb9f3a"
             ],
             [
              0.8888888888888888,
              "#fdca26"
             ],
             [
              1,
              "#f0f921"
             ]
            ],
            "type": "heatmap"
           }
          ],
          "heatmapgl": [
           {
            "colorbar": {
             "outlinewidth": 0,
             "ticks": ""
            },
            "colorscale": [
             [
              0,
              "#0d0887"
             ],
             [
              0.1111111111111111,
              "#46039f"
             ],
             [
              0.2222222222222222,
              "#7201a8"
             ],
             [
              0.3333333333333333,
              "#9c179e"
             ],
             [
              0.4444444444444444,
              "#bd3786"
             ],
             [
              0.5555555555555556,
              "#d8576b"
             ],
             [
              0.6666666666666666,
              "#ed7953"
             ],
             [
              0.7777777777777778,
              "#fb9f3a"
             ],
             [
              0.8888888888888888,
              "#fdca26"
             ],
             [
              1,
              "#f0f921"
             ]
            ],
            "type": "heatmapgl"
           }
          ],
          "histogram": [
           {
            "marker": {
             "pattern": {
              "fillmode": "overlay",
              "size": 10,
              "solidity": 0.2
             }
            },
            "type": "histogram"
           }
          ],
          "histogram2d": [
           {
            "colorbar": {
             "outlinewidth": 0,
             "ticks": ""
            },
            "colorscale": [
             [
              0,
              "#0d0887"
             ],
             [
              0.1111111111111111,
              "#46039f"
             ],
             [
              0.2222222222222222,
              "#7201a8"
             ],
             [
              0.3333333333333333,
              "#9c179e"
             ],
             [
              0.4444444444444444,
              "#bd3786"
             ],
             [
              0.5555555555555556,
              "#d8576b"
             ],
             [
              0.6666666666666666,
              "#ed7953"
             ],
             [
              0.7777777777777778,
              "#fb9f3a"
             ],
             [
              0.8888888888888888,
              "#fdca26"
             ],
             [
              1,
              "#f0f921"
             ]
            ],
            "type": "histogram2d"
           }
          ],
          "histogram2dcontour": [
           {
            "colorbar": {
             "outlinewidth": 0,
             "ticks": ""
            },
            "colorscale": [
             [
              0,
              "#0d0887"
             ],
             [
              0.1111111111111111,
              "#46039f"
             ],
             [
              0.2222222222222222,
              "#7201a8"
             ],
             [
              0.3333333333333333,
              "#9c179e"
             ],
             [
              0.4444444444444444,
              "#bd3786"
             ],
             [
              0.5555555555555556,
              "#d8576b"
             ],
             [
              0.6666666666666666,
              "#ed7953"
             ],
             [
              0.7777777777777778,
              "#fb9f3a"
             ],
             [
              0.8888888888888888,
              "#fdca26"
             ],
             [
              1,
              "#f0f921"
             ]
            ],
            "type": "histogram2dcontour"
           }
          ],
          "mesh3d": [
           {
            "colorbar": {
             "outlinewidth": 0,
             "ticks": ""
            },
            "type": "mesh3d"
           }
          ],
          "parcoords": [
           {
            "line": {
             "colorbar": {
              "outlinewidth": 0,
              "ticks": ""
             }
            },
            "type": "parcoords"
           }
          ],
          "pie": [
           {
            "automargin": true,
            "type": "pie"
           }
          ],
          "scatter": [
           {
            "fillpattern": {
             "fillmode": "overlay",
             "size": 10,
             "solidity": 0.2
            },
            "type": "scatter"
           }
          ],
          "scatter3d": [
           {
            "line": {
             "colorbar": {
              "outlinewidth": 0,
              "ticks": ""
             }
            },
            "marker": {
             "colorbar": {
              "outlinewidth": 0,
              "ticks": ""
             }
            },
            "type": "scatter3d"
           }
          ],
          "scattercarpet": [
           {
            "marker": {
             "colorbar": {
              "outlinewidth": 0,
              "ticks": ""
             }
            },
            "type": "scattercarpet"
           }
          ],
          "scattergeo": [
           {
            "marker": {
             "colorbar": {
              "outlinewidth": 0,
              "ticks": ""
             }
            },
            "type": "scattergeo"
           }
          ],
          "scattergl": [
           {
            "marker": {
             "colorbar": {
              "outlinewidth": 0,
              "ticks": ""
             }
            },
            "type": "scattergl"
           }
          ],
          "scattermapbox": [
           {
            "marker": {
             "colorbar": {
              "outlinewidth": 0,
              "ticks": ""
             }
            },
            "type": "scattermapbox"
           }
          ],
          "scatterpolar": [
           {
            "marker": {
             "colorbar": {
              "outlinewidth": 0,
              "ticks": ""
             }
            },
            "type": "scatterpolar"
           }
          ],
          "scatterpolargl": [
           {
            "marker": {
             "colorbar": {
              "outlinewidth": 0,
              "ticks": ""
             }
            },
            "type": "scatterpolargl"
           }
          ],
          "scatterternary": [
           {
            "marker": {
             "colorbar": {
              "outlinewidth": 0,
              "ticks": ""
             }
            },
            "type": "scatterternary"
           }
          ],
          "surface": [
           {
            "colorbar": {
             "outlinewidth": 0,
             "ticks": ""
            },
            "colorscale": [
             [
              0,
              "#0d0887"
             ],
             [
              0.1111111111111111,
              "#46039f"
             ],
             [
              0.2222222222222222,
              "#7201a8"
             ],
             [
              0.3333333333333333,
              "#9c179e"
             ],
             [
              0.4444444444444444,
              "#bd3786"
             ],
             [
              0.5555555555555556,
              "#d8576b"
             ],
             [
              0.6666666666666666,
              "#ed7953"
             ],
             [
              0.7777777777777778,
              "#fb9f3a"
             ],
             [
              0.8888888888888888,
              "#fdca26"
             ],
             [
              1,
              "#f0f921"
             ]
            ],
            "type": "surface"
           }
          ],
          "table": [
           {
            "cells": {
             "fill": {
              "color": "#EBF0F8"
             },
             "line": {
              "color": "white"
             }
            },
            "header": {
             "fill": {
              "color": "#C8D4E3"
             },
             "line": {
              "color": "white"
             }
            },
            "type": "table"
           }
          ]
         },
         "layout": {
          "annotationdefaults": {
           "arrowcolor": "#2a3f5f",
           "arrowhead": 0,
           "arrowwidth": 1
          },
          "autotypenumbers": "strict",
          "coloraxis": {
           "colorbar": {
            "outlinewidth": 0,
            "ticks": ""
           }
          },
          "colorscale": {
           "diverging": [
            [
             0,
             "#8e0152"
            ],
            [
             0.1,
             "#c51b7d"
            ],
            [
             0.2,
             "#de77ae"
            ],
            [
             0.3,
             "#f1b6da"
            ],
            [
             0.4,
             "#fde0ef"
            ],
            [
             0.5,
             "#f7f7f7"
            ],
            [
             0.6,
             "#e6f5d0"
            ],
            [
             0.7,
             "#b8e186"
            ],
            [
             0.8,
             "#7fbc41"
            ],
            [
             0.9,
             "#4d9221"
            ],
            [
             1,
             "#276419"
            ]
           ],
           "sequential": [
            [
             0,
             "#0d0887"
            ],
            [
             0.1111111111111111,
             "#46039f"
            ],
            [
             0.2222222222222222,
             "#7201a8"
            ],
            [
             0.3333333333333333,
             "#9c179e"
            ],
            [
             0.4444444444444444,
             "#bd3786"
            ],
            [
             0.5555555555555556,
             "#d8576b"
            ],
            [
             0.6666666666666666,
             "#ed7953"
            ],
            [
             0.7777777777777778,
             "#fb9f3a"
            ],
            [
             0.8888888888888888,
             "#fdca26"
            ],
            [
             1,
             "#f0f921"
            ]
           ],
           "sequentialminus": [
            [
             0,
             "#0d0887"
            ],
            [
             0.1111111111111111,
             "#46039f"
            ],
            [
             0.2222222222222222,
             "#7201a8"
            ],
            [
             0.3333333333333333,
             "#9c179e"
            ],
            [
             0.4444444444444444,
             "#bd3786"
            ],
            [
             0.5555555555555556,
             "#d8576b"
            ],
            [
             0.6666666666666666,
             "#ed7953"
            ],
            [
             0.7777777777777778,
             "#fb9f3a"
            ],
            [
             0.8888888888888888,
             "#fdca26"
            ],
            [
             1,
             "#f0f921"
            ]
           ]
          },
          "colorway": [
           "#636efa",
           "#EF553B",
           "#00cc96",
           "#ab63fa",
           "#FFA15A",
           "#19d3f3",
           "#FF6692",
           "#B6E880",
           "#FF97FF",
           "#FECB52"
          ],
          "font": {
           "color": "#2a3f5f"
          },
          "geo": {
           "bgcolor": "white",
           "lakecolor": "white",
           "landcolor": "#E5ECF6",
           "showlakes": true,
           "showland": true,
           "subunitcolor": "white"
          },
          "hoverlabel": {
           "align": "left"
          },
          "hovermode": "closest",
          "mapbox": {
           "style": "light"
          },
          "paper_bgcolor": "white",
          "plot_bgcolor": "#E5ECF6",
          "polar": {
           "angularaxis": {
            "gridcolor": "white",
            "linecolor": "white",
            "ticks": ""
           },
           "bgcolor": "#E5ECF6",
           "radialaxis": {
            "gridcolor": "white",
            "linecolor": "white",
            "ticks": ""
           }
          },
          "scene": {
           "xaxis": {
            "backgroundcolor": "#E5ECF6",
            "gridcolor": "white",
            "gridwidth": 2,
            "linecolor": "white",
            "showbackground": true,
            "ticks": "",
            "zerolinecolor": "white"
           },
           "yaxis": {
            "backgroundcolor": "#E5ECF6",
            "gridcolor": "white",
            "gridwidth": 2,
            "linecolor": "white",
            "showbackground": true,
            "ticks": "",
            "zerolinecolor": "white"
           },
           "zaxis": {
            "backgroundcolor": "#E5ECF6",
            "gridcolor": "white",
            "gridwidth": 2,
            "linecolor": "white",
            "showbackground": true,
            "ticks": "",
            "zerolinecolor": "white"
           }
          },
          "shapedefaults": {
           "line": {
            "color": "#2a3f5f"
           }
          },
          "ternary": {
           "aaxis": {
            "gridcolor": "white",
            "linecolor": "white",
            "ticks": ""
           },
           "baxis": {
            "gridcolor": "white",
            "linecolor": "white",
            "ticks": ""
           },
           "bgcolor": "#E5ECF6",
           "caxis": {
            "gridcolor": "white",
            "linecolor": "white",
            "ticks": ""
           }
          },
          "title": {
           "x": 0.05
          },
          "xaxis": {
           "automargin": true,
           "gridcolor": "white",
           "linecolor": "white",
           "ticks": "",
           "title": {
            "standoff": 15
           },
           "zerolinecolor": "white",
           "zerolinewidth": 2
          },
          "yaxis": {
           "automargin": true,
           "gridcolor": "white",
           "linecolor": "white",
           "ticks": "",
           "title": {
            "standoff": 15
           },
           "zerolinecolor": "white",
           "zerolinewidth": 2
          }
         }
        },
        "title": {
         "text": "Total Resource Sizes"
        },
        "xaxis": {
         "anchor": "y",
         "domain": [
          0,
          1
         ],
         "title": {
          "text": "Total Resource Size (KB)"
         }
        },
        "yaxis": {
         "anchor": "x",
         "domain": [
          0,
          1
         ],
         "title": {
          "text": "Count"
         }
        }
       }
      }
     },
     "metadata": {},
     "output_type": "display_data"
    }
   ],
   "source": [
    "# 2. Histogram of Total Resource Sizes\n",
    "fig = px.histogram(df, x='Total Resource Size (KB)')\n",
    "fig.update_layout(title='Total Resource Sizes', xaxis_title='Total Resource Size (KB)', yaxis_title='Count')\n",
    "fig.show()\n",
    "fig.write_html('../../fam-report-site/public/Web-Analytics/total_resource_sizes.html')"
   ]
  },
  {
   "cell_type": "code",
   "execution_count": 57,
   "metadata": {},
   "outputs": [
    {
     "data": {
      "application/vnd.plotly.v1+json": {
       "config": {
        "plotlyServerURL": "https://plot.ly"
       },
       "data": [
        {
         "alignmentgroup": "True",
         "bingroup": "x",
         "hovertemplate": "Resource Count=%{x}<br>count=%{y}<extra></extra>",
         "legendgroup": "",
         "marker": {
          "color": "#636efa",
          "pattern": {
           "shape": ""
          }
         },
         "name": "",
         "offsetgroup": "",
         "orientation": "v",
         "showlegend": false,
         "type": "histogram",
         "x": [
          71,
          71,
          71,
          156,
          15,
          14,
          20,
          20,
          20,
          20,
          16,
          14,
          14,
          14,
          21,
          19,
          20,
          16,
          16,
          17,
          16,
          16,
          16,
          16,
          14,
          14,
          19,
          16,
          16,
          19,
          18,
          18,
          16,
          14,
          19,
          14,
          18,
          20,
          14,
          18,
          14,
          25,
          14,
          18,
          17,
          14,
          14,
          14,
          19,
          27,
          14,
          14,
          28,
          22,
          24,
          18,
          14,
          24,
          14,
          20,
          14,
          21,
          14,
          27,
          14,
          27,
          14,
          24,
          14,
          21,
          14,
          14,
          14,
          24,
          33,
          14,
          14,
          16,
          18,
          14,
          20,
          31,
          26,
          14,
          21,
          14,
          20,
          17,
          17,
          14,
          24,
          14,
          14,
          20,
          14,
          14,
          19,
          14,
          23,
          8,
          2,
          6,
          6,
          14,
          14,
          20,
          8,
          2,
          6,
          19,
          8,
          2,
          6,
          19,
          8,
          2,
          6,
          23,
          8,
          2,
          6,
          23,
          8,
          2,
          6,
          16,
          8,
          2,
          6,
          20,
          8,
          2,
          6,
          20,
          8,
          2,
          6,
          21,
          8,
          2,
          6,
          15,
          15,
          10,
          0,
          41,
          10,
          8,
          53,
          30,
          15,
          37,
          26,
          26,
          29,
          156,
          15,
          14,
          20,
          8,
          2,
          6,
          20,
          8,
          2,
          6,
          16,
          8,
          2,
          6,
          19,
          8,
          2,
          6,
          27,
          8,
          2,
          6,
          14,
          28,
          8,
          2,
          6,
          17,
          8,
          2,
          6,
          22,
          8,
          2,
          6,
          24,
          8,
          2,
          6,
          18,
          8,
          2,
          6,
          14,
          19,
          8,
          2,
          6,
          18,
          8,
          2,
          6,
          20,
          8,
          2,
          6,
          18,
          8,
          2,
          6,
          25,
          8,
          2,
          6,
          0,
          18,
          8,
          2,
          6,
          14,
          24,
          8,
          2,
          6,
          20,
          8,
          2,
          6,
          21,
          8,
          2,
          6,
          27,
          8,
          2,
          6,
          26,
          8,
          2,
          6,
          20,
          24,
          21,
          8,
          2,
          6,
          14,
          21,
          27,
          8,
          2,
          6,
          24,
          8,
          2,
          6,
          9,
          17,
          8,
          2,
          6,
          14,
          21,
          24,
          21,
          14,
          14,
          14,
          20,
          8,
          2,
          6,
          24,
          8,
          2,
          6,
          33,
          8,
          2,
          6,
          14,
          20,
          8,
          2,
          6,
          22,
          8,
          2,
          6,
          22,
          8,
          2,
          6,
          21,
          8,
          2,
          6,
          23,
          8,
          2,
          6,
          20,
          8,
          2,
          6,
          1,
          29,
          8,
          2,
          6,
          28,
          8,
          2,
          6,
          21,
          21,
          8,
          2,
          6,
          26,
          8,
          2,
          6,
          14,
          21,
          22,
          30,
          14,
          19,
          8,
          2,
          6,
          16,
          8,
          2,
          6,
          0,
          0,
          16,
          8,
          2,
          6,
          19,
          8,
          2,
          6,
          18,
          8,
          2,
          6,
          18,
          8,
          2,
          6,
          71,
          156,
          15,
          41,
          53,
          30,
          15,
          37,
          26,
          26,
          29,
          16,
          8,
          2,
          6,
          14,
          21,
          8,
          2,
          6,
          19,
          8,
          2,
          6,
          20,
          8,
          2,
          6,
          16,
          8,
          2,
          6,
          16,
          8,
          2,
          6,
          17,
          8,
          2,
          6,
          16,
          8,
          2,
          6,
          16,
          8,
          2,
          6,
          16,
          8,
          2,
          6,
          16,
          8,
          2,
          6,
          14,
          16,
          8,
          2,
          6,
          14,
          16,
          8,
          2,
          6,
          18,
          8,
          2,
          6,
          14,
          20,
          8,
          2,
          6,
          20,
          8,
          2,
          6,
          31,
          8,
          2,
          6,
          20,
          20,
          8,
          2,
          6,
          17,
          8,
          2,
          6,
          24,
          8,
          2,
          6,
          19,
          8,
          2,
          6,
          23,
          14,
          19,
          21,
          8,
          2,
          6,
          26,
          8,
          2,
          6,
          20,
          8,
          2,
          6,
          23,
          8,
          2,
          6,
          14,
          20,
          8,
          2,
          6,
          32,
          32,
          32,
          32,
          32,
          32,
          32,
          32,
          32,
          32,
          32,
          19,
          8,
          2,
          6,
          23,
          20,
          19,
          19,
          23,
          23,
          16,
          20,
          20,
          21,
          15,
          15,
          15,
          15,
          41,
          53,
          30,
          15,
          37,
          26,
          26,
          29,
          10,
          0
         ],
         "xaxis": "x",
         "yaxis": "y"
        }
       ],
       "layout": {
        "barmode": "relative",
        "legend": {
         "tracegroupgap": 0
        },
        "margin": {
         "t": 60
        },
        "template": {
         "data": {
          "bar": [
           {
            "error_x": {
             "color": "#2a3f5f"
            },
            "error_y": {
             "color": "#2a3f5f"
            },
            "marker": {
             "line": {
              "color": "#E5ECF6",
              "width": 0.5
             },
             "pattern": {
              "fillmode": "overlay",
              "size": 10,
              "solidity": 0.2
             }
            },
            "type": "bar"
           }
          ],
          "barpolar": [
           {
            "marker": {
             "line": {
              "color": "#E5ECF6",
              "width": 0.5
             },
             "pattern": {
              "fillmode": "overlay",
              "size": 10,
              "solidity": 0.2
             }
            },
            "type": "barpolar"
           }
          ],
          "carpet": [
           {
            "aaxis": {
             "endlinecolor": "#2a3f5f",
             "gridcolor": "white",
             "linecolor": "white",
             "minorgridcolor": "white",
             "startlinecolor": "#2a3f5f"
            },
            "baxis": {
             "endlinecolor": "#2a3f5f",
             "gridcolor": "white",
             "linecolor": "white",
             "minorgridcolor": "white",
             "startlinecolor": "#2a3f5f"
            },
            "type": "carpet"
           }
          ],
          "choropleth": [
           {
            "colorbar": {
             "outlinewidth": 0,
             "ticks": ""
            },
            "type": "choropleth"
           }
          ],
          "contour": [
           {
            "colorbar": {
             "outlinewidth": 0,
             "ticks": ""
            },
            "colorscale": [
             [
              0,
              "#0d0887"
             ],
             [
              0.1111111111111111,
              "#46039f"
             ],
             [
              0.2222222222222222,
              "#7201a8"
             ],
             [
              0.3333333333333333,
              "#9c179e"
             ],
             [
              0.4444444444444444,
              "#bd3786"
             ],
             [
              0.5555555555555556,
              "#d8576b"
             ],
             [
              0.6666666666666666,
              "#ed7953"
             ],
             [
              0.7777777777777778,
              "#fb9f3a"
             ],
             [
              0.8888888888888888,
              "#fdca26"
             ],
             [
              1,
              "#f0f921"
             ]
            ],
            "type": "contour"
           }
          ],
          "contourcarpet": [
           {
            "colorbar": {
             "outlinewidth": 0,
             "ticks": ""
            },
            "type": "contourcarpet"
           }
          ],
          "heatmap": [
           {
            "colorbar": {
             "outlinewidth": 0,
             "ticks": ""
            },
            "colorscale": [
             [
              0,
              "#0d0887"
             ],
             [
              0.1111111111111111,
              "#46039f"
             ],
             [
              0.2222222222222222,
              "#7201a8"
             ],
             [
              0.3333333333333333,
              "#9c179e"
             ],
             [
              0.4444444444444444,
              "#bd3786"
             ],
             [
              0.5555555555555556,
              "#d8576b"
             ],
             [
              0.6666666666666666,
              "#ed7953"
             ],
             [
              0.7777777777777778,
              "#fb9f3a"
             ],
             [
              0.8888888888888888,
              "#fdca26"
             ],
             [
              1,
              "#f0f921"
             ]
            ],
            "type": "heatmap"
           }
          ],
          "heatmapgl": [
           {
            "colorbar": {
             "outlinewidth": 0,
             "ticks": ""
            },
            "colorscale": [
             [
              0,
              "#0d0887"
             ],
             [
              0.1111111111111111,
              "#46039f"
             ],
             [
              0.2222222222222222,
              "#7201a8"
             ],
             [
              0.3333333333333333,
              "#9c179e"
             ],
             [
              0.4444444444444444,
              "#bd3786"
             ],
             [
              0.5555555555555556,
              "#d8576b"
             ],
             [
              0.6666666666666666,
              "#ed7953"
             ],
             [
              0.7777777777777778,
              "#fb9f3a"
             ],
             [
              0.8888888888888888,
              "#fdca26"
             ],
             [
              1,
              "#f0f921"
             ]
            ],
            "type": "heatmapgl"
           }
          ],
          "histogram": [
           {
            "marker": {
             "pattern": {
              "fillmode": "overlay",
              "size": 10,
              "solidity": 0.2
             }
            },
            "type": "histogram"
           }
          ],
          "histogram2d": [
           {
            "colorbar": {
             "outlinewidth": 0,
             "ticks": ""
            },
            "colorscale": [
             [
              0,
              "#0d0887"
             ],
             [
              0.1111111111111111,
              "#46039f"
             ],
             [
              0.2222222222222222,
              "#7201a8"
             ],
             [
              0.3333333333333333,
              "#9c179e"
             ],
             [
              0.4444444444444444,
              "#bd3786"
             ],
             [
              0.5555555555555556,
              "#d8576b"
             ],
             [
              0.6666666666666666,
              "#ed7953"
             ],
             [
              0.7777777777777778,
              "#fb9f3a"
             ],
             [
              0.8888888888888888,
              "#fdca26"
             ],
             [
              1,
              "#f0f921"
             ]
            ],
            "type": "histogram2d"
           }
          ],
          "histogram2dcontour": [
           {
            "colorbar": {
             "outlinewidth": 0,
             "ticks": ""
            },
            "colorscale": [
             [
              0,
              "#0d0887"
             ],
             [
              0.1111111111111111,
              "#46039f"
             ],
             [
              0.2222222222222222,
              "#7201a8"
             ],
             [
              0.3333333333333333,
              "#9c179e"
             ],
             [
              0.4444444444444444,
              "#bd3786"
             ],
             [
              0.5555555555555556,
              "#d8576b"
             ],
             [
              0.6666666666666666,
              "#ed7953"
             ],
             [
              0.7777777777777778,
              "#fb9f3a"
             ],
             [
              0.8888888888888888,
              "#fdca26"
             ],
             [
              1,
              "#f0f921"
             ]
            ],
            "type": "histogram2dcontour"
           }
          ],
          "mesh3d": [
           {
            "colorbar": {
             "outlinewidth": 0,
             "ticks": ""
            },
            "type": "mesh3d"
           }
          ],
          "parcoords": [
           {
            "line": {
             "colorbar": {
              "outlinewidth": 0,
              "ticks": ""
             }
            },
            "type": "parcoords"
           }
          ],
          "pie": [
           {
            "automargin": true,
            "type": "pie"
           }
          ],
          "scatter": [
           {
            "fillpattern": {
             "fillmode": "overlay",
             "size": 10,
             "solidity": 0.2
            },
            "type": "scatter"
           }
          ],
          "scatter3d": [
           {
            "line": {
             "colorbar": {
              "outlinewidth": 0,
              "ticks": ""
             }
            },
            "marker": {
             "colorbar": {
              "outlinewidth": 0,
              "ticks": ""
             }
            },
            "type": "scatter3d"
           }
          ],
          "scattercarpet": [
           {
            "marker": {
             "colorbar": {
              "outlinewidth": 0,
              "ticks": ""
             }
            },
            "type": "scattercarpet"
           }
          ],
          "scattergeo": [
           {
            "marker": {
             "colorbar": {
              "outlinewidth": 0,
              "ticks": ""
             }
            },
            "type": "scattergeo"
           }
          ],
          "scattergl": [
           {
            "marker": {
             "colorbar": {
              "outlinewidth": 0,
              "ticks": ""
             }
            },
            "type": "scattergl"
           }
          ],
          "scattermapbox": [
           {
            "marker": {
             "colorbar": {
              "outlinewidth": 0,
              "ticks": ""
             }
            },
            "type": "scattermapbox"
           }
          ],
          "scatterpolar": [
           {
            "marker": {
             "colorbar": {
              "outlinewidth": 0,
              "ticks": ""
             }
            },
            "type": "scatterpolar"
           }
          ],
          "scatterpolargl": [
           {
            "marker": {
             "colorbar": {
              "outlinewidth": 0,
              "ticks": ""
             }
            },
            "type": "scatterpolargl"
           }
          ],
          "scatterternary": [
           {
            "marker": {
             "colorbar": {
              "outlinewidth": 0,
              "ticks": ""
             }
            },
            "type": "scatterternary"
           }
          ],
          "surface": [
           {
            "colorbar": {
             "outlinewidth": 0,
             "ticks": ""
            },
            "colorscale": [
             [
              0,
              "#0d0887"
             ],
             [
              0.1111111111111111,
              "#46039f"
             ],
             [
              0.2222222222222222,
              "#7201a8"
             ],
             [
              0.3333333333333333,
              "#9c179e"
             ],
             [
              0.4444444444444444,
              "#bd3786"
             ],
             [
              0.5555555555555556,
              "#d8576b"
             ],
             [
              0.6666666666666666,
              "#ed7953"
             ],
             [
              0.7777777777777778,
              "#fb9f3a"
             ],
             [
              0.8888888888888888,
              "#fdca26"
             ],
             [
              1,
              "#f0f921"
             ]
            ],
            "type": "surface"
           }
          ],
          "table": [
           {
            "cells": {
             "fill": {
              "color": "#EBF0F8"
             },
             "line": {
              "color": "white"
             }
            },
            "header": {
             "fill": {
              "color": "#C8D4E3"
             },
             "line": {
              "color": "white"
             }
            },
            "type": "table"
           }
          ]
         },
         "layout": {
          "annotationdefaults": {
           "arrowcolor": "#2a3f5f",
           "arrowhead": 0,
           "arrowwidth": 1
          },
          "autotypenumbers": "strict",
          "coloraxis": {
           "colorbar": {
            "outlinewidth": 0,
            "ticks": ""
           }
          },
          "colorscale": {
           "diverging": [
            [
             0,
             "#8e0152"
            ],
            [
             0.1,
             "#c51b7d"
            ],
            [
             0.2,
             "#de77ae"
            ],
            [
             0.3,
             "#f1b6da"
            ],
            [
             0.4,
             "#fde0ef"
            ],
            [
             0.5,
             "#f7f7f7"
            ],
            [
             0.6,
             "#e6f5d0"
            ],
            [
             0.7,
             "#b8e186"
            ],
            [
             0.8,
             "#7fbc41"
            ],
            [
             0.9,
             "#4d9221"
            ],
            [
             1,
             "#276419"
            ]
           ],
           "sequential": [
            [
             0,
             "#0d0887"
            ],
            [
             0.1111111111111111,
             "#46039f"
            ],
            [
             0.2222222222222222,
             "#7201a8"
            ],
            [
             0.3333333333333333,
             "#9c179e"
            ],
            [
             0.4444444444444444,
             "#bd3786"
            ],
            [
             0.5555555555555556,
             "#d8576b"
            ],
            [
             0.6666666666666666,
             "#ed7953"
            ],
            [
             0.7777777777777778,
             "#fb9f3a"
            ],
            [
             0.8888888888888888,
             "#fdca26"
            ],
            [
             1,
             "#f0f921"
            ]
           ],
           "sequentialminus": [
            [
             0,
             "#0d0887"
            ],
            [
             0.1111111111111111,
             "#46039f"
            ],
            [
             0.2222222222222222,
             "#7201a8"
            ],
            [
             0.3333333333333333,
             "#9c179e"
            ],
            [
             0.4444444444444444,
             "#bd3786"
            ],
            [
             0.5555555555555556,
             "#d8576b"
            ],
            [
             0.6666666666666666,
             "#ed7953"
            ],
            [
             0.7777777777777778,
             "#fb9f3a"
            ],
            [
             0.8888888888888888,
             "#fdca26"
            ],
            [
             1,
             "#f0f921"
            ]
           ]
          },
          "colorway": [
           "#636efa",
           "#EF553B",
           "#00cc96",
           "#ab63fa",
           "#FFA15A",
           "#19d3f3",
           "#FF6692",
           "#B6E880",
           "#FF97FF",
           "#FECB52"
          ],
          "font": {
           "color": "#2a3f5f"
          },
          "geo": {
           "bgcolor": "white",
           "lakecolor": "white",
           "landcolor": "#E5ECF6",
           "showlakes": true,
           "showland": true,
           "subunitcolor": "white"
          },
          "hoverlabel": {
           "align": "left"
          },
          "hovermode": "closest",
          "mapbox": {
           "style": "light"
          },
          "paper_bgcolor": "white",
          "plot_bgcolor": "#E5ECF6",
          "polar": {
           "angularaxis": {
            "gridcolor": "white",
            "linecolor": "white",
            "ticks": ""
           },
           "bgcolor": "#E5ECF6",
           "radialaxis": {
            "gridcolor": "white",
            "linecolor": "white",
            "ticks": ""
           }
          },
          "scene": {
           "xaxis": {
            "backgroundcolor": "#E5ECF6",
            "gridcolor": "white",
            "gridwidth": 2,
            "linecolor": "white",
            "showbackground": true,
            "ticks": "",
            "zerolinecolor": "white"
           },
           "yaxis": {
            "backgroundcolor": "#E5ECF6",
            "gridcolor": "white",
            "gridwidth": 2,
            "linecolor": "white",
            "showbackground": true,
            "ticks": "",
            "zerolinecolor": "white"
           },
           "zaxis": {
            "backgroundcolor": "#E5ECF6",
            "gridcolor": "white",
            "gridwidth": 2,
            "linecolor": "white",
            "showbackground": true,
            "ticks": "",
            "zerolinecolor": "white"
           }
          },
          "shapedefaults": {
           "line": {
            "color": "#2a3f5f"
           }
          },
          "ternary": {
           "aaxis": {
            "gridcolor": "white",
            "linecolor": "white",
            "ticks": ""
           },
           "baxis": {
            "gridcolor": "white",
            "linecolor": "white",
            "ticks": ""
           },
           "bgcolor": "#E5ECF6",
           "caxis": {
            "gridcolor": "white",
            "linecolor": "white",
            "ticks": ""
           }
          },
          "title": {
           "x": 0.05
          },
          "xaxis": {
           "automargin": true,
           "gridcolor": "white",
           "linecolor": "white",
           "ticks": "",
           "title": {
            "standoff": 15
           },
           "zerolinecolor": "white",
           "zerolinewidth": 2
          },
          "yaxis": {
           "automargin": true,
           "gridcolor": "white",
           "linecolor": "white",
           "ticks": "",
           "title": {
            "standoff": 15
           },
           "zerolinecolor": "white",
           "zerolinewidth": 2
          }
         }
        },
        "title": {
         "text": "Resource Count per Page"
        },
        "xaxis": {
         "anchor": "y",
         "domain": [
          0,
          1
         ],
         "title": {
          "text": "Resource Count"
         }
        },
        "yaxis": {
         "anchor": "x",
         "domain": [
          0,
          1
         ],
         "title": {
          "text": "count"
         }
        }
       }
      }
     },
     "metadata": {},
     "output_type": "display_data"
    }
   ],
   "source": [
    "# 5. Histogram of Resource Count per Page\n",
    "fig = px.histogram(df, x='Resource Count')\n",
    "fig.update_layout(title_text='Resource Count per Page')\n",
    "fig.show()\n",
    "fig.write_html('../../fam-report-site/public/Web-Analytics/resource_counts.html')"
   ]
  },
  {
   "cell_type": "code",
   "execution_count": 55,
   "metadata": {},
   "outputs": [
    {
     "data": {
      "application/vnd.plotly.v1+json": {
       "config": {
        "plotlyServerURL": "https://plot.ly"
       },
       "data": [
        {
         "alignmentgroup": "True",
         "hovertemplate": "Link=%{x}<br>Page Size (KB)=%{y}<extra></extra>",
         "legendgroup": "",
         "marker": {
          "color": "#636efa",
          "pattern": {
           "shape": ""
          }
         },
         "name": "",
         "offsetgroup": "",
         "orientation": "v",
         "showlegend": false,
         "textposition": "auto",
         "type": "bar",
         "x": [
          "https://www.instagram.com/fam.india/",
          "https://www.instagram.com/lifeatfam/",
          "https://www.instagram.com/fampay.in/",
          "https://www.instagram.com/explore/tags/getfampaid/",
          "https://www.instagram.com/designatfampay/",
          "https://twitter.com/intent/tweet?text=D%C3%A9cor%20ideas%20that%20would%20transform%20your%20room%20at%20home%20or%20hostel%F0%9F%8E%A8&url=https://fampay.in/blog/decor-ideas-that-would-transform-your-room-at-home-or-hostel/",
          "https://twitter.com/intent/tweet?text=Why%20do%20online%20payments%20get%20stuck%20and%20what%20can%20you%20do%3F%20%F0%9F%A4%94&url=https://fampay.in/blog/why-do-online-payments-get-stuck-and-what-can-you-do/",
          "https://twitter.com/intent/tweet?text=Quick%20Guide%20to%20be%20a%20Teenfluencer%20%F0%9F%91%B8%F0%9F%A4%B4&url=https://fampay.in/blog/want-to-become-a-teenage-influencer-start-here/",
          "https://twitter.com/intent/tweet?text=Baddie%20on%20a%20Budget%3A%20Budgeting%20Tricks%20for%20Teens%20%F0%9F%98%8E%F0%9F%92%85%F0%9F%92%B0&url=https://fampay.in/blog/baddie-on-a-budget-budgeting-tricks-for-teens/",
          "https://twitter.com/intent/tweet?text=13%20Things%20to%20do%20when%20you're%20bored%20-%20Boredom%20busters%20for%20teens%20%F0%9F%A4%B3&url=https://fampay.in/blog/13-boredom-busters-for-teens/",
          "https://twitter.com/intent/tweet?text=3%20Financial%20Lessons%20from%20Nature%3A%20An%20Earth%20Day%20special%20%F0%9F%8C%8D&url=https://fampay.in/blog/3-financial-lessons-from-nature-itself/",
          "https://twitter.com/intent/tweet?text=The%20most%20beautiful%20college%20campuses%20in%20India%20%F0%9F%8E%93&url=https://fampay.in/blog/the-most-beautiful-college-campuses-in-india/",
          "https://twitter.com/intent/tweet?text=Mental%20Health%20Matters%3A%205%20Things%20to%20Remember%20While%20in%20Quarantine&url=https://fampay.in/blog/mental-health-matters-5-things-to-remember-while-in-quarantine/",
          "https://twitter.com/intent/tweet?text=How%20Instagram%20Reel%20can%20really%20grow%20your%20brand%20%F0%9F%A4%B3&url=https://fampay.in/blog/how-instagram-reel-can-really-grow-your-brand/",
          "https://twitter.com/intent/tweet?text=5%20Habits%20of%20Highly%20Successful%20Teens%20%F0%9F%9A%80&url=https://fampay.in/blog/5-habits-of-highly-successful-teens/",
          "https://twitter.com/intent/tweet?text=Being%20a%20Digital%20Parent%20-%20Tips%20to%20Mentor%20Everything%20Digital%20that%20your%20Teen%20Uses&url=https://fampay.in/blog/being-a-digital-parent-tips-to-mentor-everything-digital-that-your-teen-uses/",
          "https://twitter.com/intent/tweet?text=A%20to%20Z%20of%20teenage%20finance-%20financial%20terms%20every%20parent%20should%20teach%20their%20teens&url=https://fampay.in/blog/a-to-z-of-teenage-finance-financial-terms-every-parent-should-teach-their-teens/",
          "https://twitter.com/intent/tweet?text=Bridging%20Generation%20Gap%3A%20Understanding%20Your%20GenZ%20Teenager%20Better&url=https://fampay.in/blog/bridging-generation-gap-understanding-your-genz-teenager-better/",
          "https://twitter.com/intent/tweet?text=FamPay%20partners%20with%20Visa%20to%20launch%20India%E2%80%99s%20first%20Doodle%20Card%20for%20GenZ&url=https://fampay.in/blog/fampay-partners-with-visa-to-launch-indias-first-doodle-card-for-genz/",
          "https://twitter.com/intent/tweet?text=9%20Clever%20Saving%20Hacks%20for%20Teenagers%20-%20This%20will%20save%20you%20a%20fortune!%20%F0%9F%92%B8&url=https://fampay.in/blog/7-clever-saving-hacks-for-teenagers-this-will-save-you-a-fortune/",
          "https://twitter.com/intent/tweet?text=Curious%20about%20FamCard%3F%F0%9F%92%B3%20Here%E2%80%99s%20everything%20to%20know%3A%20FAQs%20by%20teens%20on%20FamCard&url=https://fampay.in/blog/curious-about-famcard-heres-everything-to-know/",
          "https://twitter.com/intent/tweet?text=Top%204%20Head-Turning%20Fashion%20Tips%20and%20Trends%20For%20The%20Sassy%20Gen%20Z%20%F0%9F%A4%B3%F0%9F%A4%A9%F0%9F%91%B8%F0%9F%A4%B4&url=https://fampay.in/blog/top-4-head-turning-fashion-tips-and-trends-for-the-sassy-gen-z/",
          "https://twitter.com/intent/tweet?text=Everything%20you%20need%20to%20know%20about%20our%20Numberless%20Card!%20%F0%9F%92%B3&url=https://fampay.in/blog/everything-you-need-to-know-about-our-numberless-card/",
          "https://twitter.com/intent/tweet?text=FamPay-%20the%20solution%20to%20your%20cash%20problems!%20%F0%9F%98%8E&url=https://fampay.in/blog/fampay-the-solution-to-your-cash-problems/",
          "https://twitter.com/intent/tweet?text=How%20to%20Clean%20Up%20Your%20Android%20App's%20Dependencies%3A%20The%20Ultimate%20Guide&url=https://fampay.in/blog/how-to-clean-up-your-android-apps-dependencies-the-ultimate-guide-2/",
          "https://twitter.com/intent/tweet?text=Discover%20FamPay's%20Engagement%20Service%3A%20Missions&url=https://fampay.in/blog/discover-fampays-engagement-service-missions-3/",
          "https://twitter.com/intent/tweet?text=Implementing%20an%20In-memory%20Queue%20%F0%9F%A7%91%E2%80%8D%F0%9F%92%BB&url=https://fampay.in/blog/implementing-an-in-memory-queue/",
          "https://twitter.com/intent/tweet?text=Covid-19%20Vaccination%20for%20teens%2C%20a%20step-by-step%20guide%F0%9F%92%89&url=https://fampay.in/blog/covid-19-vaccination-as-a-teen-a-guide/",
          "https://twitter.com/intent/tweet?text=Why%20Vaccination%3F%F0%9F%92%89%20-%20A%20guide%20to%20vaccination%20for%20teens%20in%20India&url=https://fampay.in/blog/why-vaccination-a-guide-to-vaccination-for-teens-in-india/",
          "https://twitter.com/intent/tweet?text=Study%20habits%20that%20are%20simple%20and%20highly%20effective%20%F0%9F%93%9A&url=https://fampay.in/blog/study-habits-that-are-simple-and-highly-effective/"
         ],
         "xaxis": "x",
         "y": [
          312.2001953125,
          312.158203125,
          311.5439453125,
          303.72265625,
          239.5205078125,
          168.7158203125,
          168.265625,
          168.1552734375,
          168.0693359375,
          168.05859375,
          168.05859375,
          168.05859375,
          168.05859375,
          168.0166015625,
          168.0166015625,
          168.015625,
          168.015625,
          168.015625,
          168.015625,
          168.015625,
          167.86328125,
          167.86328125,
          167.86328125,
          167.86328125,
          167.810546875,
          167.810546875,
          167.810546875,
          167.810546875,
          167.810546875,
          167.810546875
         ],
         "yaxis": "y"
        }
       ],
       "layout": {
        "barmode": "relative",
        "legend": {
         "tracegroupgap": 0
        },
        "margin": {
         "t": 60
        },
        "showlegend": false,
        "template": {
         "data": {
          "bar": [
           {
            "error_x": {
             "color": "#2a3f5f"
            },
            "error_y": {
             "color": "#2a3f5f"
            },
            "marker": {
             "line": {
              "color": "#E5ECF6",
              "width": 0.5
             },
             "pattern": {
              "fillmode": "overlay",
              "size": 10,
              "solidity": 0.2
             }
            },
            "type": "bar"
           }
          ],
          "barpolar": [
           {
            "marker": {
             "line": {
              "color": "#E5ECF6",
              "width": 0.5
             },
             "pattern": {
              "fillmode": "overlay",
              "size": 10,
              "solidity": 0.2
             }
            },
            "type": "barpolar"
           }
          ],
          "carpet": [
           {
            "aaxis": {
             "endlinecolor": "#2a3f5f",
             "gridcolor": "white",
             "linecolor": "white",
             "minorgridcolor": "white",
             "startlinecolor": "#2a3f5f"
            },
            "baxis": {
             "endlinecolor": "#2a3f5f",
             "gridcolor": "white",
             "linecolor": "white",
             "minorgridcolor": "white",
             "startlinecolor": "#2a3f5f"
            },
            "type": "carpet"
           }
          ],
          "choropleth": [
           {
            "colorbar": {
             "outlinewidth": 0,
             "ticks": ""
            },
            "type": "choropleth"
           }
          ],
          "contour": [
           {
            "colorbar": {
             "outlinewidth": 0,
             "ticks": ""
            },
            "colorscale": [
             [
              0,
              "#0d0887"
             ],
             [
              0.1111111111111111,
              "#46039f"
             ],
             [
              0.2222222222222222,
              "#7201a8"
             ],
             [
              0.3333333333333333,
              "#9c179e"
             ],
             [
              0.4444444444444444,
              "#bd3786"
             ],
             [
              0.5555555555555556,
              "#d8576b"
             ],
             [
              0.6666666666666666,
              "#ed7953"
             ],
             [
              0.7777777777777778,
              "#fb9f3a"
             ],
             [
              0.8888888888888888,
              "#fdca26"
             ],
             [
              1,
              "#f0f921"
             ]
            ],
            "type": "contour"
           }
          ],
          "contourcarpet": [
           {
            "colorbar": {
             "outlinewidth": 0,
             "ticks": ""
            },
            "type": "contourcarpet"
           }
          ],
          "heatmap": [
           {
            "colorbar": {
             "outlinewidth": 0,
             "ticks": ""
            },
            "colorscale": [
             [
              0,
              "#0d0887"
             ],
             [
              0.1111111111111111,
              "#46039f"
             ],
             [
              0.2222222222222222,
              "#7201a8"
             ],
             [
              0.3333333333333333,
              "#9c179e"
             ],
             [
              0.4444444444444444,
              "#bd3786"
             ],
             [
              0.5555555555555556,
              "#d8576b"
             ],
             [
              0.6666666666666666,
              "#ed7953"
             ],
             [
              0.7777777777777778,
              "#fb9f3a"
             ],
             [
              0.8888888888888888,
              "#fdca26"
             ],
             [
              1,
              "#f0f921"
             ]
            ],
            "type": "heatmap"
           }
          ],
          "heatmapgl": [
           {
            "colorbar": {
             "outlinewidth": 0,
             "ticks": ""
            },
            "colorscale": [
             [
              0,
              "#0d0887"
             ],
             [
              0.1111111111111111,
              "#46039f"
             ],
             [
              0.2222222222222222,
              "#7201a8"
             ],
             [
              0.3333333333333333,
              "#9c179e"
             ],
             [
              0.4444444444444444,
              "#bd3786"
             ],
             [
              0.5555555555555556,
              "#d8576b"
             ],
             [
              0.6666666666666666,
              "#ed7953"
             ],
             [
              0.7777777777777778,
              "#fb9f3a"
             ],
             [
              0.8888888888888888,
              "#fdca26"
             ],
             [
              1,
              "#f0f921"
             ]
            ],
            "type": "heatmapgl"
           }
          ],
          "histogram": [
           {
            "marker": {
             "pattern": {
              "fillmode": "overlay",
              "size": 10,
              "solidity": 0.2
             }
            },
            "type": "histogram"
           }
          ],
          "histogram2d": [
           {
            "colorbar": {
             "outlinewidth": 0,
             "ticks": ""
            },
            "colorscale": [
             [
              0,
              "#0d0887"
             ],
             [
              0.1111111111111111,
              "#46039f"
             ],
             [
              0.2222222222222222,
              "#7201a8"
             ],
             [
              0.3333333333333333,
              "#9c179e"
             ],
             [
              0.4444444444444444,
              "#bd3786"
             ],
             [
              0.5555555555555556,
              "#d8576b"
             ],
             [
              0.6666666666666666,
              "#ed7953"
             ],
             [
              0.7777777777777778,
              "#fb9f3a"
             ],
             [
              0.8888888888888888,
              "#fdca26"
             ],
             [
              1,
              "#f0f921"
             ]
            ],
            "type": "histogram2d"
           }
          ],
          "histogram2dcontour": [
           {
            "colorbar": {
             "outlinewidth": 0,
             "ticks": ""
            },
            "colorscale": [
             [
              0,
              "#0d0887"
             ],
             [
              0.1111111111111111,
              "#46039f"
             ],
             [
              0.2222222222222222,
              "#7201a8"
             ],
             [
              0.3333333333333333,
              "#9c179e"
             ],
             [
              0.4444444444444444,
              "#bd3786"
             ],
             [
              0.5555555555555556,
              "#d8576b"
             ],
             [
              0.6666666666666666,
              "#ed7953"
             ],
             [
              0.7777777777777778,
              "#fb9f3a"
             ],
             [
              0.8888888888888888,
              "#fdca26"
             ],
             [
              1,
              "#f0f921"
             ]
            ],
            "type": "histogram2dcontour"
           }
          ],
          "mesh3d": [
           {
            "colorbar": {
             "outlinewidth": 0,
             "ticks": ""
            },
            "type": "mesh3d"
           }
          ],
          "parcoords": [
           {
            "line": {
             "colorbar": {
              "outlinewidth": 0,
              "ticks": ""
             }
            },
            "type": "parcoords"
           }
          ],
          "pie": [
           {
            "automargin": true,
            "type": "pie"
           }
          ],
          "scatter": [
           {
            "fillpattern": {
             "fillmode": "overlay",
             "size": 10,
             "solidity": 0.2
            },
            "type": "scatter"
           }
          ],
          "scatter3d": [
           {
            "line": {
             "colorbar": {
              "outlinewidth": 0,
              "ticks": ""
             }
            },
            "marker": {
             "colorbar": {
              "outlinewidth": 0,
              "ticks": ""
             }
            },
            "type": "scatter3d"
           }
          ],
          "scattercarpet": [
           {
            "marker": {
             "colorbar": {
              "outlinewidth": 0,
              "ticks": ""
             }
            },
            "type": "scattercarpet"
           }
          ],
          "scattergeo": [
           {
            "marker": {
             "colorbar": {
              "outlinewidth": 0,
              "ticks": ""
             }
            },
            "type": "scattergeo"
           }
          ],
          "scattergl": [
           {
            "marker": {
             "colorbar": {
              "outlinewidth": 0,
              "ticks": ""
             }
            },
            "type": "scattergl"
           }
          ],
          "scattermapbox": [
           {
            "marker": {
             "colorbar": {
              "outlinewidth": 0,
              "ticks": ""
             }
            },
            "type": "scattermapbox"
           }
          ],
          "scatterpolar": [
           {
            "marker": {
             "colorbar": {
              "outlinewidth": 0,
              "ticks": ""
             }
            },
            "type": "scatterpolar"
           }
          ],
          "scatterpolargl": [
           {
            "marker": {
             "colorbar": {
              "outlinewidth": 0,
              "ticks": ""
             }
            },
            "type": "scatterpolargl"
           }
          ],
          "scatterternary": [
           {
            "marker": {
             "colorbar": {
              "outlinewidth": 0,
              "ticks": ""
             }
            },
            "type": "scatterternary"
           }
          ],
          "surface": [
           {
            "colorbar": {
             "outlinewidth": 0,
             "ticks": ""
            },
            "colorscale": [
             [
              0,
              "#0d0887"
             ],
             [
              0.1111111111111111,
              "#46039f"
             ],
             [
              0.2222222222222222,
              "#7201a8"
             ],
             [
              0.3333333333333333,
              "#9c179e"
             ],
             [
              0.4444444444444444,
              "#bd3786"
             ],
             [
              0.5555555555555556,
              "#d8576b"
             ],
             [
              0.6666666666666666,
              "#ed7953"
             ],
             [
              0.7777777777777778,
              "#fb9f3a"
             ],
             [
              0.8888888888888888,
              "#fdca26"
             ],
             [
              1,
              "#f0f921"
             ]
            ],
            "type": "surface"
           }
          ],
          "table": [
           {
            "cells": {
             "fill": {
              "color": "#EBF0F8"
             },
             "line": {
              "color": "white"
             }
            },
            "header": {
             "fill": {
              "color": "#C8D4E3"
             },
             "line": {
              "color": "white"
             }
            },
            "type": "table"
           }
          ]
         },
         "layout": {
          "annotationdefaults": {
           "arrowcolor": "#2a3f5f",
           "arrowhead": 0,
           "arrowwidth": 1
          },
          "autotypenumbers": "strict",
          "coloraxis": {
           "colorbar": {
            "outlinewidth": 0,
            "ticks": ""
           }
          },
          "colorscale": {
           "diverging": [
            [
             0,
             "#8e0152"
            ],
            [
             0.1,
             "#c51b7d"
            ],
            [
             0.2,
             "#de77ae"
            ],
            [
             0.3,
             "#f1b6da"
            ],
            [
             0.4,
             "#fde0ef"
            ],
            [
             0.5,
             "#f7f7f7"
            ],
            [
             0.6,
             "#e6f5d0"
            ],
            [
             0.7,
             "#b8e186"
            ],
            [
             0.8,
             "#7fbc41"
            ],
            [
             0.9,
             "#4d9221"
            ],
            [
             1,
             "#276419"
            ]
           ],
           "sequential": [
            [
             0,
             "#0d0887"
            ],
            [
             0.1111111111111111,
             "#46039f"
            ],
            [
             0.2222222222222222,
             "#7201a8"
            ],
            [
             0.3333333333333333,
             "#9c179e"
            ],
            [
             0.4444444444444444,
             "#bd3786"
            ],
            [
             0.5555555555555556,
             "#d8576b"
            ],
            [
             0.6666666666666666,
             "#ed7953"
            ],
            [
             0.7777777777777778,
             "#fb9f3a"
            ],
            [
             0.8888888888888888,
             "#fdca26"
            ],
            [
             1,
             "#f0f921"
            ]
           ],
           "sequentialminus": [
            [
             0,
             "#0d0887"
            ],
            [
             0.1111111111111111,
             "#46039f"
            ],
            [
             0.2222222222222222,
             "#7201a8"
            ],
            [
             0.3333333333333333,
             "#9c179e"
            ],
            [
             0.4444444444444444,
             "#bd3786"
            ],
            [
             0.5555555555555556,
             "#d8576b"
            ],
            [
             0.6666666666666666,
             "#ed7953"
            ],
            [
             0.7777777777777778,
             "#fb9f3a"
            ],
            [
             0.8888888888888888,
             "#fdca26"
            ],
            [
             1,
             "#f0f921"
            ]
           ]
          },
          "colorway": [
           "#636efa",
           "#EF553B",
           "#00cc96",
           "#ab63fa",
           "#FFA15A",
           "#19d3f3",
           "#FF6692",
           "#B6E880",
           "#FF97FF",
           "#FECB52"
          ],
          "font": {
           "color": "#2a3f5f"
          },
          "geo": {
           "bgcolor": "white",
           "lakecolor": "white",
           "landcolor": "#E5ECF6",
           "showlakes": true,
           "showland": true,
           "subunitcolor": "white"
          },
          "hoverlabel": {
           "align": "left"
          },
          "hovermode": "closest",
          "mapbox": {
           "style": "light"
          },
          "paper_bgcolor": "white",
          "plot_bgcolor": "#E5ECF6",
          "polar": {
           "angularaxis": {
            "gridcolor": "white",
            "linecolor": "white",
            "ticks": ""
           },
           "bgcolor": "#E5ECF6",
           "radialaxis": {
            "gridcolor": "white",
            "linecolor": "white",
            "ticks": ""
           }
          },
          "scene": {
           "xaxis": {
            "backgroundcolor": "#E5ECF6",
            "gridcolor": "white",
            "gridwidth": 2,
            "linecolor": "white",
            "showbackground": true,
            "ticks": "",
            "zerolinecolor": "white"
           },
           "yaxis": {
            "backgroundcolor": "#E5ECF6",
            "gridcolor": "white",
            "gridwidth": 2,
            "linecolor": "white",
            "showbackground": true,
            "ticks": "",
            "zerolinecolor": "white"
           },
           "zaxis": {
            "backgroundcolor": "#E5ECF6",
            "gridcolor": "white",
            "gridwidth": 2,
            "linecolor": "white",
            "showbackground": true,
            "ticks": "",
            "zerolinecolor": "white"
           }
          },
          "shapedefaults": {
           "line": {
            "color": "#2a3f5f"
           }
          },
          "ternary": {
           "aaxis": {
            "gridcolor": "white",
            "linecolor": "white",
            "ticks": ""
           },
           "baxis": {
            "gridcolor": "white",
            "linecolor": "white",
            "ticks": ""
           },
           "bgcolor": "#E5ECF6",
           "caxis": {
            "gridcolor": "white",
            "linecolor": "white",
            "ticks": ""
           }
          },
          "title": {
           "x": 0.05
          },
          "xaxis": {
           "automargin": true,
           "gridcolor": "white",
           "linecolor": "white",
           "ticks": "",
           "title": {
            "standoff": 15
           },
           "zerolinecolor": "white",
           "zerolinewidth": 2
          },
          "yaxis": {
           "automargin": true,
           "gridcolor": "white",
           "linecolor": "white",
           "ticks": "",
           "title": {
            "standoff": 15
           },
           "zerolinecolor": "white",
           "zerolinewidth": 2
          }
         }
        },
        "title": {
         "text": "Top 30 URLs by Page Size"
        },
        "xaxis": {
         "anchor": "y",
         "domain": [
          0,
          1
         ],
         "title": {
          "text": "Link"
         }
        },
        "yaxis": {
         "anchor": "x",
         "domain": [
          0,
          1
         ],
         "title": {
          "text": "Page Size (KB)"
         }
        }
       }
      }
     },
     "metadata": {},
     "output_type": "display_data"
    }
   ],
   "source": [
    "top_pages = df.nlargest(30, 'Page Size (KB)')\n",
    "fig = px.bar(top_pages, x='Link', y='Page Size (KB)')\n",
    "fig.update_layout(title_text='Top 30 URLs by Page Size')\n",
    "fig.update_layout(showlegend=False)\n",
    "fig.show()\n",
    "fig.write_html('../../fam-report-site/public/Web-Analytics/top_pages.html')"
   ]
  },
  {
   "cell_type": "code",
   "execution_count": 56,
   "metadata": {},
   "outputs": [
    {
     "data": {
      "application/vnd.plotly.v1+json": {
       "config": {
        "plotlyServerURL": "https://plot.ly"
       },
       "data": [
        {
         "alignmentgroup": "True",
         "hovertemplate": "=%{x}<br>Resource Size (KB)=%{y}<extra></extra>",
         "legendgroup": "",
         "marker": {
          "color": "#636efa",
          "pattern": {
           "shape": ""
          }
         },
         "name": "",
         "offsetgroup": "",
         "orientation": "v",
         "showlegend": false,
         "textposition": "auto",
         "type": "bar",
         "x": [
          "https://fampay.in/blog/how-to-clean-up-your-android-apps-dependencies-the-ultimate-guide-2/",
          "https://famapp.in/blog/how-to-clean-up-your-android-apps-dependencies-the-ultimate-guide-2/",
          "https://fampay.in/about",
          "http://www.fampay.in/about",
          "https://famapp.in/about",
          "https://fampay.in/blog/implementing-an-in-memory-queue/",
          "https://famapp.in/blog/implementing-an-in-memory-queue/",
          "https://fampay.in/blog/covid-19-vaccination-as-a-teen-a-guide/",
          "https://famapp.in/blog/covid-19-vaccination-as-a-teen-a-guide/",
          "https://www.instagram.com/fam.india/",
          "https://www.instagram.com/fampay.in/",
          "https://www.instagram.com/lifeatfam/",
          "https://www.instagram.com/explore/tags/getfampaid/",
          "https://www.instagram.com/designatfampay/",
          "https://twitter.com/intent/tweet?text=How%20to%20Clean%20Up%20Your%20Android%20App's%20Dependencies%3A%20The%20Ultimate%20Guide&url=https://fampay.in/blog/how-to-clean-up-your-android-apps-dependencies-the-ultimate-guide-2/",
          "https://twitter.com/intent/tweet?text=Discover%20FamPay's%20Engagement%20Service%3A%20Missions&url=https://fampay.in/blog/discover-fampays-engagement-service-missions-3/",
          "https://twitter.com/intent/tweet?text=Implementing%20an%20In-memory%20Queue%20%F0%9F%A7%91%E2%80%8D%F0%9F%92%BB&url=https://fampay.in/blog/implementing-an-in-memory-queue/",
          "https://twitter.com/intent/tweet?text=Covid-19%20Vaccination%20for%20teens%2C%20a%20step-by-step%20guide%F0%9F%92%89&url=https://fampay.in/blog/covid-19-vaccination-as-a-teen-a-guide/",
          "https://twitter.com/intent/tweet?text=Why%20Vaccination%3F%F0%9F%92%89%20-%20A%20guide%20to%20vaccination%20for%20teens%20in%20India&url=https://fampay.in/blog/why-vaccination-a-guide-to-vaccination-for-teens-in-india/",
          "https://twitter.com/intent/tweet?text=Study%20habits%20that%20are%20simple%20and%20highly%20effective%20%F0%9F%93%9A&url=https://fampay.in/blog/study-habits-that-are-simple-and-highly-effective/",
          "https://twitter.com/intent/tweet?text=How%20to%20save%20those%20extra%20bucks%20while%20shopping%20%F0%9F%8F%AC&url=https://fampay.in/blog/how-to-save-those-extra-bucks-while-shopping/",
          "https://twitter.com/intent/tweet?text=Teen%20fashion%20trends%20that%20you%20really%20don't%20want%20to%20miss%F0%9F%91%95%F0%9F%98%8D&url=https://fampay.in/blog/teen-fashion-trends-that-we-love/",
          "https://twitter.com/intent/tweet?text=How%20to%20build%20your%20resume%20right%20from%20school%20%F0%9F%9A%80&url=https://fampay.in/blog/how-to-build-your-resume-and-portfolio-right-from-school/",
          "https://twitter.com/intent/tweet?text=Productivity%20hacks%20for%20teens%20-%20Easy%20habits%20to%20upgrade%20your%20life%F0%9F%8E%AF&url=https://fampay.in/blog/productivity-hacks-for-teens-this-will-change-your-life/",
          "https://twitter.com/intent/tweet?text=13%20Things%20to%20do%20when%20you're%20bored%20-%20Boredom%20busters%20for%20teens%20%F0%9F%A4%B3&url=https://fampay.in/blog/13-boredom-busters-for-teens/",
          "https://twitter.com/intent/tweet?text=Social%20Commerce%20-%20Making%20Money%20just%20through%20Social%20Media!%20%F0%9F%92%B8&url=https://fampay.in/blog/social-commerce-making-money-just-through-social-media/",
          "https://twitter.com/intent/tweet?text=It's%20time%20for%20teens%20to%20open%20shop%20on%20Instagram!%20%F0%9F%9B%8D%EF%B8%8F&url=https://fampay.in/blog/how-can-teens-open-shops-on-instagram/",
          "https://twitter.com/intent/tweet?text=GenZs%20commit%20to%20fight%20Covid-19%20%F0%9F%8E%AF&url=https://fampay.in/blog/genz-commits-to-fight-covid-19/",
          "https://twitter.com/intent/tweet?text=Life%20of%20an%20Intern%20is%20Love%20%F0%9F%98%8D&url=https://fampay.in/blog/life-of-an-intern-is-love/",
          "https://twitter.com/intent/tweet?text=12%20Queer-led%20Small%20Businesses%20You%20Need%20To%20Support%20This%20Pride%20Month%F0%9F%8C%88&url=https://fampay.in/blog/12-queer-led-small-businesses-you-need-to-support-this-pride-month/"
         ],
         "xaxis": "x",
         "y": [
          7758.0751953125,
          7756.7666015625,
          5131.7421875,
          5131.7421875,
          5118.39453125,
          2820.5126953125,
          2819.2041015625,
          2447.025390625,
          2445.716796875,
          1659.2568359375,
          1659.1240234375,
          1659.1240234375,
          1414.052734375,
          1369.494140625,
          812.8291015625,
          812.8291015625,
          812.8291015625,
          812.8291015625,
          812.8291015625,
          812.8291015625,
          812.8291015625,
          812.8291015625,
          812.8291015625,
          812.8291015625,
          812.8291015625,
          812.8291015625,
          812.8291015625,
          812.8291015625,
          812.8291015625,
          812.8291015625
         ],
         "yaxis": "y"
        }
       ],
       "layout": {
        "barmode": "relative",
        "legend": {
         "tracegroupgap": 0
        },
        "margin": {
         "t": 60
        },
        "showlegend": false,
        "template": {
         "data": {
          "bar": [
           {
            "error_x": {
             "color": "#2a3f5f"
            },
            "error_y": {
             "color": "#2a3f5f"
            },
            "marker": {
             "line": {
              "color": "#E5ECF6",
              "width": 0.5
             },
             "pattern": {
              "fillmode": "overlay",
              "size": 10,
              "solidity": 0.2
             }
            },
            "type": "bar"
           }
          ],
          "barpolar": [
           {
            "marker": {
             "line": {
              "color": "#E5ECF6",
              "width": 0.5
             },
             "pattern": {
              "fillmode": "overlay",
              "size": 10,
              "solidity": 0.2
             }
            },
            "type": "barpolar"
           }
          ],
          "carpet": [
           {
            "aaxis": {
             "endlinecolor": "#2a3f5f",
             "gridcolor": "white",
             "linecolor": "white",
             "minorgridcolor": "white",
             "startlinecolor": "#2a3f5f"
            },
            "baxis": {
             "endlinecolor": "#2a3f5f",
             "gridcolor": "white",
             "linecolor": "white",
             "minorgridcolor": "white",
             "startlinecolor": "#2a3f5f"
            },
            "type": "carpet"
           }
          ],
          "choropleth": [
           {
            "colorbar": {
             "outlinewidth": 0,
             "ticks": ""
            },
            "type": "choropleth"
           }
          ],
          "contour": [
           {
            "colorbar": {
             "outlinewidth": 0,
             "ticks": ""
            },
            "colorscale": [
             [
              0,
              "#0d0887"
             ],
             [
              0.1111111111111111,
              "#46039f"
             ],
             [
              0.2222222222222222,
              "#7201a8"
             ],
             [
              0.3333333333333333,
              "#9c179e"
             ],
             [
              0.4444444444444444,
              "#bd3786"
             ],
             [
              0.5555555555555556,
              "#d8576b"
             ],
             [
              0.6666666666666666,
              "#ed7953"
             ],
             [
              0.7777777777777778,
              "#fb9f3a"
             ],
             [
              0.8888888888888888,
              "#fdca26"
             ],
             [
              1,
              "#f0f921"
             ]
            ],
            "type": "contour"
           }
          ],
          "contourcarpet": [
           {
            "colorbar": {
             "outlinewidth": 0,
             "ticks": ""
            },
            "type": "contourcarpet"
           }
          ],
          "heatmap": [
           {
            "colorbar": {
             "outlinewidth": 0,
             "ticks": ""
            },
            "colorscale": [
             [
              0,
              "#0d0887"
             ],
             [
              0.1111111111111111,
              "#46039f"
             ],
             [
              0.2222222222222222,
              "#7201a8"
             ],
             [
              0.3333333333333333,
              "#9c179e"
             ],
             [
              0.4444444444444444,
              "#bd3786"
             ],
             [
              0.5555555555555556,
              "#d8576b"
             ],
             [
              0.6666666666666666,
              "#ed7953"
             ],
             [
              0.7777777777777778,
              "#fb9f3a"
             ],
             [
              0.8888888888888888,
              "#fdca26"
             ],
             [
              1,
              "#f0f921"
             ]
            ],
            "type": "heatmap"
           }
          ],
          "heatmapgl": [
           {
            "colorbar": {
             "outlinewidth": 0,
             "ticks": ""
            },
            "colorscale": [
             [
              0,
              "#0d0887"
             ],
             [
              0.1111111111111111,
              "#46039f"
             ],
             [
              0.2222222222222222,
              "#7201a8"
             ],
             [
              0.3333333333333333,
              "#9c179e"
             ],
             [
              0.4444444444444444,
              "#bd3786"
             ],
             [
              0.5555555555555556,
              "#d8576b"
             ],
             [
              0.6666666666666666,
              "#ed7953"
             ],
             [
              0.7777777777777778,
              "#fb9f3a"
             ],
             [
              0.8888888888888888,
              "#fdca26"
             ],
             [
              1,
              "#f0f921"
             ]
            ],
            "type": "heatmapgl"
           }
          ],
          "histogram": [
           {
            "marker": {
             "pattern": {
              "fillmode": "overlay",
              "size": 10,
              "solidity": 0.2
             }
            },
            "type": "histogram"
           }
          ],
          "histogram2d": [
           {
            "colorbar": {
             "outlinewidth": 0,
             "ticks": ""
            },
            "colorscale": [
             [
              0,
              "#0d0887"
             ],
             [
              0.1111111111111111,
              "#46039f"
             ],
             [
              0.2222222222222222,
              "#7201a8"
             ],
             [
              0.3333333333333333,
              "#9c179e"
             ],
             [
              0.4444444444444444,
              "#bd3786"
             ],
             [
              0.5555555555555556,
              "#d8576b"
             ],
             [
              0.6666666666666666,
              "#ed7953"
             ],
             [
              0.7777777777777778,
              "#fb9f3a"
             ],
             [
              0.8888888888888888,
              "#fdca26"
             ],
             [
              1,
              "#f0f921"
             ]
            ],
            "type": "histogram2d"
           }
          ],
          "histogram2dcontour": [
           {
            "colorbar": {
             "outlinewidth": 0,
             "ticks": ""
            },
            "colorscale": [
             [
              0,
              "#0d0887"
             ],
             [
              0.1111111111111111,
              "#46039f"
             ],
             [
              0.2222222222222222,
              "#7201a8"
             ],
             [
              0.3333333333333333,
              "#9c179e"
             ],
             [
              0.4444444444444444,
              "#bd3786"
             ],
             [
              0.5555555555555556,
              "#d8576b"
             ],
             [
              0.6666666666666666,
              "#ed7953"
             ],
             [
              0.7777777777777778,
              "#fb9f3a"
             ],
             [
              0.8888888888888888,
              "#fdca26"
             ],
             [
              1,
              "#f0f921"
             ]
            ],
            "type": "histogram2dcontour"
           }
          ],
          "mesh3d": [
           {
            "colorbar": {
             "outlinewidth": 0,
             "ticks": ""
            },
            "type": "mesh3d"
           }
          ],
          "parcoords": [
           {
            "line": {
             "colorbar": {
              "outlinewidth": 0,
              "ticks": ""
             }
            },
            "type": "parcoords"
           }
          ],
          "pie": [
           {
            "automargin": true,
            "type": "pie"
           }
          ],
          "scatter": [
           {
            "fillpattern": {
             "fillmode": "overlay",
             "size": 10,
             "solidity": 0.2
            },
            "type": "scatter"
           }
          ],
          "scatter3d": [
           {
            "line": {
             "colorbar": {
              "outlinewidth": 0,
              "ticks": ""
             }
            },
            "marker": {
             "colorbar": {
              "outlinewidth": 0,
              "ticks": ""
             }
            },
            "type": "scatter3d"
           }
          ],
          "scattercarpet": [
           {
            "marker": {
             "colorbar": {
              "outlinewidth": 0,
              "ticks": ""
             }
            },
            "type": "scattercarpet"
           }
          ],
          "scattergeo": [
           {
            "marker": {
             "colorbar": {
              "outlinewidth": 0,
              "ticks": ""
             }
            },
            "type": "scattergeo"
           }
          ],
          "scattergl": [
           {
            "marker": {
             "colorbar": {
              "outlinewidth": 0,
              "ticks": ""
             }
            },
            "type": "scattergl"
           }
          ],
          "scattermapbox": [
           {
            "marker": {
             "colorbar": {
              "outlinewidth": 0,
              "ticks": ""
             }
            },
            "type": "scattermapbox"
           }
          ],
          "scatterpolar": [
           {
            "marker": {
             "colorbar": {
              "outlinewidth": 0,
              "ticks": ""
             }
            },
            "type": "scatterpolar"
           }
          ],
          "scatterpolargl": [
           {
            "marker": {
             "colorbar": {
              "outlinewidth": 0,
              "ticks": ""
             }
            },
            "type": "scatterpolargl"
           }
          ],
          "scatterternary": [
           {
            "marker": {
             "colorbar": {
              "outlinewidth": 0,
              "ticks": ""
             }
            },
            "type": "scatterternary"
           }
          ],
          "surface": [
           {
            "colorbar": {
             "outlinewidth": 0,
             "ticks": ""
            },
            "colorscale": [
             [
              0,
              "#0d0887"
             ],
             [
              0.1111111111111111,
              "#46039f"
             ],
             [
              0.2222222222222222,
              "#7201a8"
             ],
             [
              0.3333333333333333,
              "#9c179e"
             ],
             [
              0.4444444444444444,
              "#bd3786"
             ],
             [
              0.5555555555555556,
              "#d8576b"
             ],
             [
              0.6666666666666666,
              "#ed7953"
             ],
             [
              0.7777777777777778,
              "#fb9f3a"
             ],
             [
              0.8888888888888888,
              "#fdca26"
             ],
             [
              1,
              "#f0f921"
             ]
            ],
            "type": "surface"
           }
          ],
          "table": [
           {
            "cells": {
             "fill": {
              "color": "#EBF0F8"
             },
             "line": {
              "color": "white"
             }
            },
            "header": {
             "fill": {
              "color": "#C8D4E3"
             },
             "line": {
              "color": "white"
             }
            },
            "type": "table"
           }
          ]
         },
         "layout": {
          "annotationdefaults": {
           "arrowcolor": "#2a3f5f",
           "arrowhead": 0,
           "arrowwidth": 1
          },
          "autotypenumbers": "strict",
          "coloraxis": {
           "colorbar": {
            "outlinewidth": 0,
            "ticks": ""
           }
          },
          "colorscale": {
           "diverging": [
            [
             0,
             "#8e0152"
            ],
            [
             0.1,
             "#c51b7d"
            ],
            [
             0.2,
             "#de77ae"
            ],
            [
             0.3,
             "#f1b6da"
            ],
            [
             0.4,
             "#fde0ef"
            ],
            [
             0.5,
             "#f7f7f7"
            ],
            [
             0.6,
             "#e6f5d0"
            ],
            [
             0.7,
             "#b8e186"
            ],
            [
             0.8,
             "#7fbc41"
            ],
            [
             0.9,
             "#4d9221"
            ],
            [
             1,
             "#276419"
            ]
           ],
           "sequential": [
            [
             0,
             "#0d0887"
            ],
            [
             0.1111111111111111,
             "#46039f"
            ],
            [
             0.2222222222222222,
             "#7201a8"
            ],
            [
             0.3333333333333333,
             "#9c179e"
            ],
            [
             0.4444444444444444,
             "#bd3786"
            ],
            [
             0.5555555555555556,
             "#d8576b"
            ],
            [
             0.6666666666666666,
             "#ed7953"
            ],
            [
             0.7777777777777778,
             "#fb9f3a"
            ],
            [
             0.8888888888888888,
             "#fdca26"
            ],
            [
             1,
             "#f0f921"
            ]
           ],
           "sequentialminus": [
            [
             0,
             "#0d0887"
            ],
            [
             0.1111111111111111,
             "#46039f"
            ],
            [
             0.2222222222222222,
             "#7201a8"
            ],
            [
             0.3333333333333333,
             "#9c179e"
            ],
            [
             0.4444444444444444,
             "#bd3786"
            ],
            [
             0.5555555555555556,
             "#d8576b"
            ],
            [
             0.6666666666666666,
             "#ed7953"
            ],
            [
             0.7777777777777778,
             "#fb9f3a"
            ],
            [
             0.8888888888888888,
             "#fdca26"
            ],
            [
             1,
             "#f0f921"
            ]
           ]
          },
          "colorway": [
           "#636efa",
           "#EF553B",
           "#00cc96",
           "#ab63fa",
           "#FFA15A",
           "#19d3f3",
           "#FF6692",
           "#B6E880",
           "#FF97FF",
           "#FECB52"
          ],
          "font": {
           "color": "#2a3f5f"
          },
          "geo": {
           "bgcolor": "white",
           "lakecolor": "white",
           "landcolor": "#E5ECF6",
           "showlakes": true,
           "showland": true,
           "subunitcolor": "white"
          },
          "hoverlabel": {
           "align": "left"
          },
          "hovermode": "closest",
          "mapbox": {
           "style": "light"
          },
          "paper_bgcolor": "white",
          "plot_bgcolor": "#E5ECF6",
          "polar": {
           "angularaxis": {
            "gridcolor": "white",
            "linecolor": "white",
            "ticks": ""
           },
           "bgcolor": "#E5ECF6",
           "radialaxis": {
            "gridcolor": "white",
            "linecolor": "white",
            "ticks": ""
           }
          },
          "scene": {
           "xaxis": {
            "backgroundcolor": "#E5ECF6",
            "gridcolor": "white",
            "gridwidth": 2,
            "linecolor": "white",
            "showbackground": true,
            "ticks": "",
            "zerolinecolor": "white"
           },
           "yaxis": {
            "backgroundcolor": "#E5ECF6",
            "gridcolor": "white",
            "gridwidth": 2,
            "linecolor": "white",
            "showbackground": true,
            "ticks": "",
            "zerolinecolor": "white"
           },
           "zaxis": {
            "backgroundcolor": "#E5ECF6",
            "gridcolor": "white",
            "gridwidth": 2,
            "linecolor": "white",
            "showbackground": true,
            "ticks": "",
            "zerolinecolor": "white"
           }
          },
          "shapedefaults": {
           "line": {
            "color": "#2a3f5f"
           }
          },
          "ternary": {
           "aaxis": {
            "gridcolor": "white",
            "linecolor": "white",
            "ticks": ""
           },
           "baxis": {
            "gridcolor": "white",
            "linecolor": "white",
            "ticks": ""
           },
           "bgcolor": "#E5ECF6",
           "caxis": {
            "gridcolor": "white",
            "linecolor": "white",
            "ticks": ""
           }
          },
          "title": {
           "x": 0.05
          },
          "xaxis": {
           "automargin": true,
           "gridcolor": "white",
           "linecolor": "white",
           "ticks": "",
           "title": {
            "standoff": 15
           },
           "zerolinecolor": "white",
           "zerolinewidth": 2
          },
          "yaxis": {
           "automargin": true,
           "gridcolor": "white",
           "linecolor": "white",
           "ticks": "",
           "title": {
            "standoff": 15
           },
           "zerolinecolor": "white",
           "zerolinewidth": 2
          }
         }
        },
        "title": {
         "text": "Top 30 URLs by Total Resource Size"
        },
        "xaxis": {
         "anchor": "y",
         "domain": [
          0,
          1
         ],
         "title": {
          "text": ""
         }
        },
        "yaxis": {
         "anchor": "x",
         "domain": [
          0,
          1
         ],
         "title": {
          "text": "Resource Size (KB)"
         }
        }
       }
      }
     },
     "metadata": {},
     "output_type": "display_data"
    }
   ],
   "source": [
    "top_resources = df.nlargest(30, 'Total Resource Size (KB)')\n",
    "fig = px.bar(top_resources, x='Link', y='Total Resource Size (KB)', labels={'Link': '', 'Total Resource Size (KB)': 'Resource Size (KB)'})\n",
    "fig.update_traces(textposition='auto')\n",
    "fig.update_layout(showlegend=False)\n",
    "fig.update_layout(title_text='Top 30 URLs by Total Resource Size')\n",
    "fig.show()\n",
    "fig.write_html('../../fam-report-site/public/Web-Analytics/top_resources_bar.html')"
   ]
  }
 ],
 "metadata": {
  "kernelspec": {
   "display_name": "base",
   "language": "python",
   "name": "python3"
  },
  "language_info": {
   "codemirror_mode": {
    "name": "ipython",
    "version": 3
   },
   "file_extension": ".py",
   "mimetype": "text/x-python",
   "name": "python",
   "nbconvert_exporter": "python",
   "pygments_lexer": "ipython3",
   "version": "3.10.9"
  },
  "orig_nbformat": 4
 },
 "nbformat": 4,
 "nbformat_minor": 2
}
